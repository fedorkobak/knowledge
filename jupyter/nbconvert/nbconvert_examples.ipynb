{
 "cells": [
  {
   "cell_type": "markdown",
   "id": "78652f23-3bf6-4ba8-9235-8361aa87f5d1",
   "metadata": {},
   "source": [
    "**Как пользоваться nbconvert**\n",
    "\n",
    "nbconvernt моежт быть использован как утилита командной строки или же python библиотека. Тут я буду рассматривать nbconvert как python библиотеку."
   ]
  },
  {
   "cell_type": "code",
   "execution_count": 14,
   "id": "d14a625f-6ee4-40df-983f-e59c31a73b44",
   "metadata": {},
   "outputs": [],
   "source": [
    "import io\n",
    "\n",
    "import nbformat\n",
    "\n",
    "import matplotlib as mpl\n",
    "import matplotlib.pyplot as plt\n",
    "\n",
    "from traitlets.config import Config\n",
    "\n",
    "from nbconvert import HTMLExporter,\\\n",
    "                        RSTExporter"
   ]
  },
  {
   "cell_type": "markdown",
   "id": "367188e0-6ca7-44ed-9b8e-575ff85a0b3a",
   "metadata": {},
   "source": [
    "# Источники\n",
    "\n",
    "- https://nbconvert.readthedocs.io/en/latest/index.html - официальная документация nbconvert.\n",
    "- https://nbconvert.readthedocs.io/en/latest/api/exporters.html#nbconvert.exporters.NotebookExporter - страница документации посвященная Exporters;\n",
    "- https://nbconvert.readthedocs.io/en/latest/api/preprocessors.html - препроцессоры доступные по умолчанию."
   ]
  },
  {
   "cell_type": "markdown",
   "id": "e4c4f627-f59d-49ee-b7f8-8442cde15877",
   "metadata": {},
   "source": [
    "# Прочитать notebook"
   ]
  },
  {
   "cell_type": "markdown",
   "id": "151897f6-a2c7-4f08-893e-32b71fe2d808",
   "metadata": {},
   "source": [
    "<a id=\"botebooknode\"></a>\n",
    "Используя `nbformat.read` я могу прочесть произвольный notebook из `str`. Получается, объект типа `nbformat.notebooknode.NotebookNode`."
   ]
  },
  {
   "cell_type": "code",
   "execution_count": 2,
   "id": "23131c93-5faf-4291-855d-e9d7a0e79572",
   "metadata": {},
   "outputs": [],
   "source": [
    "# читаю notebook как str\n",
    "nbfile = open(\"example_notebook.ipynb\", \"r\")\n",
    "note_book_txt = nbfile.read()\n",
    "nbfile.close()\n",
    "\n",
    "# из строчки делаю nbformat.notebooknode.NotebookNode\n",
    "notebook = nbformat.reads(note_book_txt, as_version=4)"
   ]
  },
  {
   "cell_type": "markdown",
   "id": "997c1354-13c2-46d9-925a-104763d20a89",
   "metadata": {},
   "source": [
    "Этот `nbformat.notebooknode.NotebookNode` является `dict`- подобным объектом, со следующими ключами:"
   ]
  },
  {
   "cell_type": "code",
   "execution_count": 3,
   "id": "7b2ee7ee-af34-4d71-b157-3608cbcafe84",
   "metadata": {},
   "outputs": [
    {
     "data": {
      "text/plain": [
       "dict_keys(['cells', 'metadata', 'nbformat', 'nbformat_minor'])"
      ]
     },
     "execution_count": 3,
     "metadata": {},
     "output_type": "execute_result"
    }
   ],
   "source": [
    "notebook.keys()"
   ]
  },
  {
   "cell_type": "markdown",
   "id": "e0fb79c9-79bd-4073-92ab-0678dff94e5c",
   "metadata": {},
   "source": [
    "### **`'cells'`**\n",
    "Позволяет достать из объекта ячейки в текстовой форме."
   ]
  },
  {
   "cell_type": "markdown",
   "id": "13610346-8d00-4295-822f-f7140064bb3f",
   "metadata": {},
   "source": [
    "Вот например ячейка с `makrdown`."
   ]
  },
  {
   "cell_type": "code",
   "execution_count": 4,
   "id": "746cb57c-d1c6-457f-adb9-1a400f1946a4",
   "metadata": {},
   "outputs": [
    {
     "data": {
      "text/plain": [
       "{'cell_type': 'markdown',\n",
       " 'id': '025cd9ca-bce7-4377-8a2c-d7d032b5d061',\n",
       " 'metadata': {'slideshow': {'slide_type': 'fragment'}, 'tags': []},\n",
       " 'source': '# Latex\\n\\n$$f(x) = x_2+3x+22$$'}"
      ]
     },
     "execution_count": 4,
     "metadata": {},
     "output_type": "execute_result"
    }
   ],
   "source": [
    "notebook['cells'][2]"
   ]
  },
  {
   "cell_type": "markdown",
   "id": "4dde9084-6c42-4634-8023-8d840a844499",
   "metadata": {},
   "source": [
    "# Экспортировать Notebook\n",
    "\n",
    "Можно используя exporters объекты."
   ]
  },
  {
   "cell_type": "markdown",
   "id": "3f2a7432-18ae-407d-a0e3-4998b3e5d918",
   "metadata": {},
   "source": [
    "Все они содержат методы позволяющие провести конвертацию:\n",
    "\n",
    "- `from_notebook_node` - преобразует описанный [выше](#botebooknode) `nbformat.notebooknode.NotebookNode`;\n",
    "- `from_file` - преобразует объект-файл (просто окрытый в python файл);\n",
    "- `from_filename` - преобразует файл по имени в системе."
   ]
  },
  {
   "cell_type": "markdown",
   "id": "69624cf8-d70a-421e-8837-3d5fc8254698",
   "metadata": {},
   "source": [
    "## *HTMLExporter*\n",
    "\n",
    "Позволяет экспортировать файл в `html`."
   ]
  },
  {
   "cell_type": "code",
   "execution_count": 5,
   "id": "4967ac66-6ee5-4cd1-91dc-113885958133",
   "metadata": {},
   "outputs": [],
   "source": [
    "html_exporter = HTMLExporter(template_name='classic')\n",
    "(body, resources) = html_exporter.from_notebook_node(notebook)"
   ]
  },
  {
   "cell_type": "markdown",
   "id": "6e7ffc07-8e1d-46e8-b1e8-c4b6ac9a42a9",
   "metadata": {},
   "source": [
    "И так возвращаяется два объекта"
   ]
  },
  {
   "cell_type": "markdown",
   "id": "9e1dd1f1-cae4-4abc-8d9d-f29de70313ec",
   "metadata": {},
   "source": [
    "### **body**\n",
    "\n",
    "Первый это тело `html` файла, его можно сразу сохранить и получается вполне себе `html`."
   ]
  },
  {
   "cell_type": "code",
   "execution_count": 6,
   "id": "6bfbb961-d38d-4f74-abfe-517ed9292b07",
   "metadata": {},
   "outputs": [],
   "source": [
    "file = open(\"basic_html_exporter.html\", \"w+\")\n",
    "file.write(body)\n",
    "file.close()"
   ]
  },
  {
   "cell_type": "markdown",
   "id": "c848c0ee-27ef-46e4-9689-507c6b3a353c",
   "metadata": {},
   "source": [
    "Но при спользовании такого подхода есть проблема - картинки, формируемые как часть markdown разметки не будут встроены в `.html`, а будут лишь ссылками на файлы."
   ]
  },
  {
   "cell_type": "markdown",
   "id": "7d1c11c4-3ee1-474e-a73d-11d7e396195d",
   "metadata": {},
   "source": [
    "### **resources**\n",
    "\n",
    "Список ресурсов используемых для формирования jupyter."
   ]
  },
  {
   "cell_type": "code",
   "execution_count": 7,
   "id": "34df151b-8db4-4f7c-8816-0a9be5129038",
   "metadata": {},
   "outputs": [
    {
     "data": {
      "text/plain": [
       "ResourcesDict(None,\n",
       "              {'metadata': ResourcesDict(None, {'name': 'Notebook'}),\n",
       "               'output_extension': '.html',\n",
       "               'deprecated': <function nbconvert.exporters.templateexporter.deprecated(msg)>,\n",
       "               'theme': 'light',\n",
       "               'include_css': <function nbconvert.exporters.html.HTMLExporter._init_resources.<locals>.resources_include_css(name)>,\n",
       "               'include_lab_theme': <function nbconvert.exporters.html.HTMLExporter._init_resources.<locals>.resources_include_lab_theme(name)>,\n",
       "               'include_js': <function nbconvert.exporters.html.HTMLExporter._init_resources.<locals>.resources_include_js(name)>,\n",
       "               'include_url': <function nbconvert.exporters.html.HTMLExporter._init_resources.<locals>.resources_include_url(name)>,\n",
       "               'require_js_url': 'https://cdnjs.cloudflare.com/ajax/libs/require.js/2.1.10/require.min.js',\n",
       "               'mathjax_url': 'https://cdnjs.cloudflare.com/ajax/libs/mathjax/2.7.7/latest.js?config=TeX-AMS_CHTML-full,Safe',\n",
       "               'jquery_url': 'https://cdnjs.cloudflare.com/ajax/libs/jquery/2.0.3/jquery.min.js',\n",
       "               'jupyter_widgets_base_url': 'https://unpkg.com/',\n",
       "               'widget_renderer_url': '',\n",
       "               'html_manager_semver_range': '*',\n",
       "               'inlining': {'css': ['pre { line-height: 125%; }\\ntd.linenos .normal { color: inherit; background-color: transparent; padding-left: 5px; padding-right: 5px; }\\nspan.linenos { color: inherit; background-color: transparent; padding-left: 5px; padding-right: 5px; }\\ntd.linenos .special { color: #000000; background-color: #ffffc0; padding-left: 5px; padding-right: 5px; }\\nspan.linenos.special { color: #000000; background-color: #ffffc0; padding-left: 5px; padding-right: 5px; }\\n.highlight .hll { background-color: #ffffcc }\\n.highlight { background: #f8f8f8; }\\n.highlight .c { color: #3D7B7B; font-style: italic } /* Comment */\\n.highlight .err { border: 1px solid #FF0000 } /* Error */\\n.highlight .k { color: #008000; font-weight: bold } /* Keyword */\\n.highlight .o { color: #666666 } /* Operator */\\n.highlight .ch { color: #3D7B7B; font-style: italic } /* Comment.Hashbang */\\n.highlight .cm { color: #3D7B7B; font-style: italic } /* Comment.Multiline */\\n.highlight .cp { color: #9C6500 } /* Comment.Preproc */\\n.highlight .cpf { color: #3D7B7B; font-style: italic } /* Comment.PreprocFile */\\n.highlight .c1 { color: #3D7B7B; font-style: italic } /* Comment.Single */\\n.highlight .cs { color: #3D7B7B; font-style: italic } /* Comment.Special */\\n.highlight .gd { color: #A00000 } /* Generic.Deleted */\\n.highlight .ge { font-style: italic } /* Generic.Emph */\\n.highlight .gr { color: #E40000 } /* Generic.Error */\\n.highlight .gh { color: #000080; font-weight: bold } /* Generic.Heading */\\n.highlight .gi { color: #008400 } /* Generic.Inserted */\\n.highlight .go { color: #717171 } /* Generic.Output */\\n.highlight .gp { color: #000080; font-weight: bold } /* Generic.Prompt */\\n.highlight .gs { font-weight: bold } /* Generic.Strong */\\n.highlight .gu { color: #800080; font-weight: bold } /* Generic.Subheading */\\n.highlight .gt { color: #0044DD } /* Generic.Traceback */\\n.highlight .kc { color: #008000; font-weight: bold } /* Keyword.Constant */\\n.highlight .kd { color: #008000; font-weight: bold } /* Keyword.Declaration */\\n.highlight .kn { color: #008000; font-weight: bold } /* Keyword.Namespace */\\n.highlight .kp { color: #008000 } /* Keyword.Pseudo */\\n.highlight .kr { color: #008000; font-weight: bold } /* Keyword.Reserved */\\n.highlight .kt { color: #B00040 } /* Keyword.Type */\\n.highlight .m { color: #666666 } /* Literal.Number */\\n.highlight .s { color: #BA2121 } /* Literal.String */\\n.highlight .na { color: #687822 } /* Name.Attribute */\\n.highlight .nb { color: #008000 } /* Name.Builtin */\\n.highlight .nc { color: #0000FF; font-weight: bold } /* Name.Class */\\n.highlight .no { color: #880000 } /* Name.Constant */\\n.highlight .nd { color: #AA22FF } /* Name.Decorator */\\n.highlight .ni { color: #717171; font-weight: bold } /* Name.Entity */\\n.highlight .ne { color: #CB3F38; font-weight: bold } /* Name.Exception */\\n.highlight .nf { color: #0000FF } /* Name.Function */\\n.highlight .nl { color: #767600 } /* Name.Label */\\n.highlight .nn { color: #0000FF; font-weight: bold } /* Name.Namespace */\\n.highlight .nt { color: #008000; font-weight: bold } /* Name.Tag */\\n.highlight .nv { color: #19177C } /* Name.Variable */\\n.highlight .ow { color: #AA22FF; font-weight: bold } /* Operator.Word */\\n.highlight .w { color: #bbbbbb } /* Text.Whitespace */\\n.highlight .mb { color: #666666 } /* Literal.Number.Bin */\\n.highlight .mf { color: #666666 } /* Literal.Number.Float */\\n.highlight .mh { color: #666666 } /* Literal.Number.Hex */\\n.highlight .mi { color: #666666 } /* Literal.Number.Integer */\\n.highlight .mo { color: #666666 } /* Literal.Number.Oct */\\n.highlight .sa { color: #BA2121 } /* Literal.String.Affix */\\n.highlight .sb { color: #BA2121 } /* Literal.String.Backtick */\\n.highlight .sc { color: #BA2121 } /* Literal.String.Char */\\n.highlight .dl { color: #BA2121 } /* Literal.String.Delimiter */\\n.highlight .sd { color: #BA2121; font-style: italic } /* Literal.String.Doc */\\n.highlight .s2 { color: #BA2121 } /* Literal.String.Double */\\n.highlight .se { color: #AA5D1F; font-weight: bold } /* Literal.String.Escape */\\n.highlight .sh { color: #BA2121 } /* Literal.String.Heredoc */\\n.highlight .si { color: #A45A77; font-weight: bold } /* Literal.String.Interpol */\\n.highlight .sx { color: #008000 } /* Literal.String.Other */\\n.highlight .sr { color: #A45A77 } /* Literal.String.Regex */\\n.highlight .s1 { color: #BA2121 } /* Literal.String.Single */\\n.highlight .ss { color: #19177C } /* Literal.String.Symbol */\\n.highlight .bp { color: #008000 } /* Name.Builtin.Pseudo */\\n.highlight .fm { color: #0000FF } /* Name.Function.Magic */\\n.highlight .vc { color: #19177C } /* Name.Variable.Class */\\n.highlight .vg { color: #19177C } /* Name.Variable.Global */\\n.highlight .vi { color: #19177C } /* Name.Variable.Instance */\\n.highlight .vm { color: #19177C } /* Name.Variable.Magic */\\n.highlight .il { color: #666666 } /* Literal.Number.Integer.Long */']},\n",
       "               'raw_mimetypes': ['text/html', ''],\n",
       "               'global_content_filter': {'include_code': True,\n",
       "                'include_markdown': True,\n",
       "                'include_raw': True,\n",
       "                'include_unknown': True,\n",
       "                'include_input': True,\n",
       "                'include_output': True,\n",
       "                'include_output_stdin': False,\n",
       "                'include_input_prompt': True,\n",
       "                'include_output_prompt': True,\n",
       "                'no_prompt': False}})"
      ]
     },
     "execution_count": 7,
     "metadata": {},
     "output_type": "execute_result"
    }
   ],
   "source": [
    "resources"
   ]
  },
  {
   "cell_type": "markdown",
   "id": "3150f826-51a8-4cd9-af40-c72d84bf785e",
   "metadata": {},
   "source": [
    "## *RSTExporter*\n",
    "\n",
    "Позволяет диаграммы на графике экспортировать не в `.html` файл а в ресурсы."
   ]
  },
  {
   "cell_type": "markdown",
   "id": "dcce4ccd-7c13-4fdb-b8da-4753a2a4a599",
   "metadata": {},
   "source": [
    "Способ использования ничем не отличатеся от рассмотренного выше `HTMLExporter`."
   ]
  },
  {
   "cell_type": "code",
   "execution_count": 8,
   "id": "793333ce-fd5d-4897-977c-eb06d8020cc2",
   "metadata": {},
   "outputs": [],
   "source": [
    "rst_exporter = RSTExporter()\n",
    "(body, resources) = rst_exporter.from_notebook_node(notebook)"
   ]
  },
  {
   "cell_type": "markdown",
   "id": "f1866573-a96b-4177-99e2-f2a44df5c590",
   "metadata": {},
   "source": [
    "Но полученный `body` содержит только текст."
   ]
  },
  {
   "cell_type": "code",
   "execution_count": 9,
   "id": "bccfa838-8f0d-4b48-8d99-8ac420aba908",
   "metadata": {},
   "outputs": [],
   "source": [
    "file = open(\"rst_exporter.html\", \"w+\")\n",
    "file.write(body)\n",
    "file.close()"
   ]
  },
  {
   "cell_type": "markdown",
   "id": "92ec4030-b6a6-48e4-8641-c49d137fcb14",
   "metadata": {},
   "source": [
    "Некоторые дополнительные элементы сохранены в `resources`. Так, например, картинки-результаты выполнения ячеек будут лежать `resources[\"outputs\"]`. Далее пример их извлечения:"
   ]
  },
  {
   "cell_type": "code",
   "execution_count": 10,
   "id": "9af81142-32f9-46b8-bcdb-60e015b13c8c",
   "metadata": {},
   "outputs": [
    {
     "data": {
      "image/png": "[encoded data removed]",
      "text/plain": [
       "<Figure size 360x1440 with 1 Axes>"
      ]
     },
     "metadata": {},
     "output_type": "display_data"
    }
   ],
   "source": [
    "outputs = resources[\"outputs\"]\n",
    "outputs_len = len(outputs)\n",
    "\n",
    "plt.figure(figsize = [5,20])\n",
    "for i, pic_name in enumerate(outputs.keys()):\n",
    "    plt.subplot(outputs_len, 1, i+1)\n",
    "    plt.xticks([]); plt.yticks([])\n",
    "    plt.imshow(\n",
    "        plt.imread(\n",
    "            io.BytesIO(outputs[pic_name]), format='jpeg'\n",
    "        )\n",
    "    )"
   ]
  },
  {
   "cell_type": "markdown",
   "id": "488edfb7-e1b2-4a34-acf0-588d60fc2d41",
   "metadata": {},
   "source": [
    "Где были сохранены стили, и почему слетают способы формирования ячеек не понятно."
   ]
  },
  {
   "cell_type": "markdown",
   "id": "06713f81-a440-4e99-83d6-bb67aa121e9c",
   "metadata": {},
   "source": [
    "# Препроцессоры\n",
    "\n",
    "Рассмотренные выше expoter-ы применяют к notebook препроцессоры - которые собвенно и занимаются обработкой notebook. Подробнее об механизме <a href=https://nbconvert.readthedocs.io/en/latest/nbconvert_library.html#Extracting-Figures-using-the-HTML-Exporter>тут</a>. Суть в ном что exporter-ы можно настраивать используя препроцессоры. nbconvert предоставляет ряд собственных препроцессоров, которые будут рассмотрены далее."
   ]
  },
  {
   "cell_type": "markdown",
   "id": "bfe6bcd0-a96c-47d6-a6a0-11c3614385b3",
   "metadata": {},
   "source": [
    "### `ExtractOutputPreprocessor`\n",
    "\n",
    "Позволяет сохранять результаты ячеек в ресусы."
   ]
  },
  {
   "cell_type": "code",
   "execution_count": 11,
   "id": "b9b64510-3c33-4593-aaec-d773c14d17f4",
   "metadata": {},
   "outputs": [
    {
     "data": {
      "text/plain": [
       "['nbconvert.preprocessors.ExtractOutputPreprocessor']"
      ]
     },
     "execution_count": 11,
     "metadata": {},
     "output_type": "execute_result"
    }
   ],
   "source": [
    "c = Config()\n",
    "c.HTMLExporter.preprocessors = [\n",
    "    'nbconvert.preprocessors.ExtractOutputPreprocessor'\n",
    "]\n",
    "\n",
    "html_exporter_with_figs = HTMLExporter(config=c)\n",
    "html_exporter_with_figs.preprocessors"
   ]
  },
  {
   "cell_type": "markdown",
   "id": "9b81d28a-86aa-40e4-9ed8-7c1e94e980c5",
   "metadata": {},
   "source": [
    "Сравнение результатов работы `html_exporter` без использованием препросцессора `ExtractOutputPreprocessor` и с ним."
   ]
  },
  {
   "cell_type": "code",
   "execution_count": 12,
   "id": "403c391b-8c11-4c60-a592-d8d876257bf0",
   "metadata": {},
   "outputs": [
    {
     "name": "stdout",
     "output_type": "stream",
     "text": [
      "resources without figures:\n",
      "['deprecated', 'global_content_filter', 'html_manager_semver_range', 'include_css', 'include_js', 'include_lab_theme', 'include_url', 'inlining', 'jquery_url', 'jupyter_widgets_base_url', 'mathjax_url', 'metadata', 'output_extension', 'raw_mimetypes', 'require_js_url', 'theme', 'widget_renderer_url']\n",
      "\n",
      "resources with extracted figures (notice that there's one more field called 'outputs'):\n",
      "['deprecated', 'global_content_filter', 'html_manager_semver_range', 'include_css', 'include_js', 'include_lab_theme', 'include_url', 'inlining', 'jquery_url', 'jupyter_widgets_base_url', 'mathjax_url', 'metadata', 'output_extension', 'outputs', 'raw_mimetypes', 'require_js_url', 'theme', 'widget_renderer_url']\n",
      "\n",
      "the actual figures are:\n",
      "['output_4_0.png']\n"
     ]
    }
   ],
   "source": [
    "(_, resources) = html_exporter.from_notebook_node(notebook)\n",
    "(_, resources_with_fig) = html_exporter_with_figs.from_notebook_node(notebook)\n",
    "\n",
    "print(\"resources without figures:\")\n",
    "print(sorted(resources.keys()))\n",
    "\n",
    "print(\"\\nresources with extracted figures (notice that there's one more field called 'outputs'):\")\n",
    "print(sorted(resources_with_fig.keys()))\n",
    "\n",
    "print(\"\\nthe actual figures are:\")\n",
    "print(sorted(resources_with_fig['outputs'].keys()))"
   ]
  },
  {
   "cell_type": "markdown",
   "id": "01cf1e75-348e-45ec-ac28-6c012b6df988",
   "metadata": {},
   "source": [
    "Как видно во втором случае в ресурсах появился ещё и ключ `'outputs'`. А по доступу к именам там содержаться результаты выполнения ячеек."
   ]
  },
  {
   "cell_type": "markdown",
   "id": "a7287947-f070-4982-be21-bed19104613d",
   "metadata": {},
   "source": [
    "### `TagRemovePreprocessor`\n",
    "\n",
    "Позволяет удалить input, output ячейки или всю ячейку, по выбранному тэгу."
   ]
  },
  {
   "cell_type": "code",
   "execution_count": 20,
   "id": "e0340dea-bb93-4647-bbc1-f60a58b09d91",
   "metadata": {},
   "outputs": [],
   "source": [
    "from nbconvert.preprocessors import TagRemovePreprocessor\n",
    "\n",
    "c = Config()\n",
    "\n",
    "c.TagRemovePreprocessor.remove_cell_tags = (\"remove_cell\",)\n",
    "c.TagRemovePreprocessor.remove_all_outputs_tags = ('remove_output',)\n",
    "c.TagRemovePreprocessor.remove_input_tags = ('remove_input',)\n",
    "c.TagRemovePreprocessor.enabled = True\n",
    "\n",
    "c.HTMLExporter.preprocessors = [\"nbconvert.preprocessors.TagRemovePreprocessor\"]\n",
    "\n",
    "exporter = HTMLExporter(config=c)\n",
    "# в оригинальном примере следующая сторочка не закомментирована\n",
    "# но вроде работает и без неё и не понятно, зачем она нужна\n",
    "# exporter.register_preprocessor(TagRemovePreprocessor(config=c),True)\n",
    "\n",
    "output = HTMLExporter(config=c).from_filename(\"example_notebook.ipynb\")\n",
    "\n",
    "file = open(\"TagRemovePreproc_example.html\", \"w+\")\n",
    "file.write(output[0])\n",
    "file.close()"
   ]
  },
  {
   "cell_type": "markdown",
   "id": "2eae7494-b78f-4f19-95e4-6de0e038903e",
   "metadata": {},
   "source": [
    "# Кастомные препроцессоры"
   ]
  },
  {
   "cell_type": "markdown",
   "id": "4100d454-6f7a-40c1-9ff5-05bbadd667fe",
   "metadata": {},
   "source": [
    "Для создания кастомного препроцессора следует наследовать класс `nbconvert.preprocessors.Preprocessor`."
   ]
  },
  {
   "cell_type": "code",
   "execution_count": 12,
   "id": "2bd1950c-3032-47cc-852a-504ea5b5d020",
   "metadata": {},
   "outputs": [],
   "source": [
    "from traitlets import Integer\n",
    "from nbconvert.preprocessors import Preprocessor\n",
    "\n",
    "\n",
    "class PelicanSubCell(Preprocessor):\n",
    "    \"\"\"A Pelican specific preprocessor to remove some of the cells of a notebook\"\"\"\n",
    "\n",
    "    # I could also read the cells from nb.metadata.pelican if someone wrote a JS extension,\n",
    "    # but for now I'll stay with configurable value.\n",
    "    start = Integer(0, help=\"first cell of notebook to be converted\").tag(config=True)\n",
    "    end = Integer(-1, help=\"last cell of notebook to be converted\").tag(config=True)\n",
    "\n",
    "    def preprocess(self, nb, resources):\n",
    "        self.log.info(\"I'll keep only cells from %d to %d\", self.start, self.end)\n",
    "        nb.cells = nb.cells[self.start : self.end]\n",
    "        return nb, resources"
   ]
  },
  {
   "cell_type": "markdown",
   "id": "c9cbb1ec-d83b-4468-94be-548028b5d847",
   "metadata": {},
   "source": [
    "Затем при создании `Config` в поле `preprocessors` следует передать созданный класс. Для заполенения полей препроцессора в кофиг указываются поля по типу `<Имя класса>.<навание поля>`, как это показано ниже."
   ]
  },
  {
   "cell_type": "code",
   "execution_count": 13,
   "id": "99d1aa59-fd28-4f2f-a423-70aefc12740a",
   "metadata": {},
   "outputs": [
    {
     "name": "stdout",
     "output_type": "stream",
     "text": [
      ".. code:: ipython3\n",
      "\n",
      "    ans = plt.plot([1,2,3], [3,4,5])\n",
      "\n",
      "\n",
      "\n",
      ".. image:: output_4_0.png\n",
      "\n",
      "\n",
      "Просто картинка\n",
      "===============\n",
      "\n"
     ]
    }
   ],
   "source": [
    "# Create a new config object that configures both the new preprocessor, as well as the exporter\n",
    "c = Config()\n",
    "c.PelicanSubCell.start = 4\n",
    "c.PelicanSubCell.end = 6\n",
    "c.RSTExporter.preprocessors = [PelicanSubCell]\n",
    "\n",
    "# Create our new, customized exporter that uses our custom preprocessor\n",
    "pelican = RSTExporter(config=c)\n",
    "\n",
    "# Process the notebook\n",
    "print(pelican.from_notebook_node(notebook)[0])"
   ]
  },
  {
   "cell_type": "markdown",
   "id": "02593384-3caf-482e-aa44-3eb384eb16de",
   "metadata": {},
   "source": [
    "Для формирования поведения препроцессора следует переопределить методы:\n",
    "- `preprocess` - для того, чтобы "
   ]
  },
  {
   "cell_type": "code",
   "execution_count": 14,
   "id": "b896dbc4-fd74-4137-8a99-991aa2bae45c",
   "metadata": {},
   "outputs": [
    {
     "name": "stdout",
     "output_type": "stream",
     "text": [
      "<class 'nbformat.notebooknode.NotebookNode'>\n"
     ]
    }
   ],
   "source": [
    "class My_preporcessor(Preprocessor):\n",
    "    def preprocess(self, nb, resources):\n",
    "        print(type(nb))\n",
    "        return nb, resources\n",
    "        \n",
    "c = Config()\n",
    "c.HTMLExporter.preprocessors = [My_preporcessor]\n",
    "\n",
    "exporter = HTMLExporter(config = c)\n",
    "\n",
    "a,b = exporter.from_notebook_node(notebook)"
   ]
  },
  {
   "cell_type": "code",
   "execution_count": null,
   "id": "a57123ab-dd5f-420f-bd0a-d8d3bf56ed56",
   "metadata": {},
   "outputs": [],
   "source": []
  }
 ],
 "metadata": {
  "kernelspec": {
   "display_name": "Python 3 (ipykernel)",
   "language": "python",
   "name": "python3"
  },
  "language_info": {
   "codemirror_mode": {
    "name": "ipython",
    "version": 3
   },
   "file_extension": ".py",
   "mimetype": "text/x-python",
   "name": "python",
   "nbconvert_exporter": "python",
   "pygments_lexer": "ipython3",
   "version": "3.10.9"
  }
 },
 "nbformat": 4,
 "nbformat_minor": 5
}
