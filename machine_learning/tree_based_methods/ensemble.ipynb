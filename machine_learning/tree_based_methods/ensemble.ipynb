{
 "cells": [
  {
   "attachments": {},
   "cell_type": "markdown",
   "metadata": {},
   "source": [
    "**Изучение ансамблей решающих деревьев**\n",
    "\n",
    "Использьвание алгоритма - решающее дерево может приводить к высокой дисперисии предсказаний. Для того, чтобы это избежать исползуются методы, которые обощают под названием ансамбли решающих деревьев. Выделяют следующие методы:\n",
    "\n",
    "- Bagging;\n",
    "- Random Forests;\n",
    "- Boosting;\n",
    "- Bayesian Additive Regression Trees.\n",
    "\n",
    "**Источники**\n",
    "\n",
    "- <a href=\"https://hastie.su.domains/ISLR2/ISLRv2_website.pdf\">ISLR</a>;\n",
    "- <a herf=\"https://hastie.su.domains/ISLR2/ISLRv2_website.pdf\">Собрание возможностей sklearn посвященных ансамблям</a>;"
   ]
  },
  {
   "attachments": {},
   "cell_type": "markdown",
   "metadata": {},
   "source": [
    "# Баггинг\n",
    "\n",
    "Предполагает бутстрапирование обучающей выборки и подгонку множестава деревьев. Для получания предсказаний результаты каждого дерева аггрегируют"
   ]
  },
  {
   "cell_type": "code",
   "execution_count": null,
   "metadata": {
    "vscode": {
     "languageId": "plaintext"
    }
   },
   "outputs": [],
   "source": []
  }
 ],
 "metadata": {
  "kernelspec": {
   "display_name": "Python 3",
   "language": "python",
   "name": "python3"
  },
  "language_info": {
   "name": "python",
   "version": "3.11.1"
  },
  "orig_nbformat": 4,
  "vscode": {
   "interpreter": {
    "hash": "e7370f93d1d0cde622a1f8e1c04877d8463912d04d973331ad4851f04de6915a"
   }
  }
 },
 "nbformat": 4,
 "nbformat_minor": 2
}
