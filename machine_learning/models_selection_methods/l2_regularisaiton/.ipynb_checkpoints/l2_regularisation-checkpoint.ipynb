{
 "cells": [
  {
   "cell_type": "markdown",
   "id": "30c968d0-6855-4878-b3f8-4ef6811dd661",
   "metadata": {},
   "source": [
    "**Разбор способа отбора модлеи - L2-регуляризация**"
   ]
  },
  {
   "cell_type": "code",
   "execution_count": 1,
   "id": "49afa411-123c-440f-bd2c-f13ca91c3fce",
   "metadata": {},
   "outputs": [],
   "source": [
    "import pandas as pd\n",
    "import numpy as np\n",
    "\n",
    "import matplotlib.pyplot as plt\n",
    "\n",
    "from sklearn.linear_model import Ridge\n",
    "from sklearn.preprocessing import OneHotEncoder\n",
    "\n",
    "from IPython.display import clear_output"
   ]
  },
  {
   "cell_type": "markdown",
   "id": "04acb7f7-9005-4e2d-baa2-c64b6ec41f02",
   "metadata": {},
   "source": [
    "# Источники\n",
    "\n",
    "- https://www.statlearning.com/ 6 глава."
   ]
  },
  {
   "cell_type": "markdown",
   "id": "a8b31211-a073-4e04-88f9-1eef086a7f01",
   "metadata": {},
   "source": [
    "# Описание\n",
    "\n",
    "При L2-регуляризации в целевую функцию метода оценки коэффициентов добавляют компоненнту:\n",
    "\n",
    "$$\\lambda\\sum_{j=1}^n\\beta^2_j$$\n",
    "\n",
    "Где:\n",
    "- $\\beta_j$ - оцениваемый коэффициент;\n",
    "- $\\lambda$ - параметр указывающий на сколько сильно следует регуляризовать модель.\n",
    "\n",
    "\n",
    "L2-регуляризация и регуляризация, в принципе, нужна для того, чтобы модель получала штраф за использование коэффициентов, которые ей на самом деле не нужны."
   ]
  },
  {
   "cell_type": "markdown",
   "id": "37d6e062-5995-4661-81f7-53f1a4351bfa",
   "metadata": {},
   "source": [
    "# Гребеньковая регрессия"
   ]
  },
  {
   "cell_type": "markdown",
   "id": "eb63a98a-1463-4a17-afde-9f229c265cbd",
   "metadata": {},
   "source": [
    "## *Описание*\n",
    "\n",
    "L2-регулялизация в сочетании с регрессионной моделью, называются **гребеньковой регрессией (ridge regression)**. Т.е. целевая функция в задаче оптимизации принимает вид:\n",
    "\n",
    "$$\\sum_{i=1}^n\\left(y_i - x_i\\beta\\right)^2 + \\lambda\\sum_{j=1}^p\\beta_j \\rightarrow min$$\n",
    "\n",
    "Где:\n",
    "- $n$ - объемы выборки;\n",
    "- $p$ - размерность данных;\n",
    "- $x_i = (x_{i1}, x_{i2}, ..., x_{ip})$ - вектор описывающий $i$-е наблюдение;\n",
    "- $\\beta = (\\beta_1, \\beta_2, ..., \\beta_p)$ - вектор оценок коэффициентов."
   ]
  },
  {
   "cell_type": "markdown",
   "id": "92394fa1-ee9c-492b-abbe-e0d560e434a6",
   "metadata": {},
   "source": [
    "## *Рекомендуется стандартизация данных*\n",
    "\n",
    "Перед применением Гребеньковой регрессии данные рекомендуется стандартизовать по формуле.\n",
    "\n",
    "\n",
    "$$\\tilde{x}_{ij} = \\frac{x_{ij}}{\\sqrt{\\frac{1}{n}\\sum_{i=1}^n (x_{ij} - \\bar{x}_{j})^2}}.$$\n",
    "\n",
    "Где:\n",
    "- $\\bar{x}_{j}$ - среднее значенте по $j$-му показателю.\n",
    "\n",
    "Подробнее о стандартизации можно узнать <a href=\"https://github.com/Dranikf/knowledge_bank/blob/main/machine_learning/data_transformations/standartisation.ipynb\">тут</a>."
   ]
  },
  {
   "cell_type": "markdown",
   "id": "0d48ad51-9d34-46c8-bad1-74c08b52b4b9",
   "metadata": {},
   "source": [
    "# Демонстрация \"сжатия\" коэффициентов\n",
    "Воссоздается пример приведенный в <a href=\"https://www.statlearning.com/\">ISLR</a>."
   ]
  },
  {
   "cell_type": "markdown",
   "id": "6e166e47-851a-4a90-95c4-763930b22195",
   "metadata": {},
   "source": [
    "Загрузка данных `Credit`"
   ]
  },
  {
   "cell_type": "code",
   "execution_count": 2,
   "id": "b5e68743-8308-45ff-bf15-a273d46b2aa0",
   "metadata": {},
   "outputs": [
    {
     "data": {
      "text/html": [
       "<div>\n",
       "<style scoped>\n",
       "    .dataframe tbody tr th:only-of-type {\n",
       "        vertical-align: middle;\n",
       "    }\n",
       "\n",
       "    .dataframe tbody tr th {\n",
       "        vertical-align: top;\n",
       "    }\n",
       "\n",
       "    .dataframe thead th {\n",
       "        text-align: right;\n",
       "    }\n",
       "</style>\n",
       "<table border=\"1\" class=\"dataframe\">\n",
       "  <thead>\n",
       "    <tr style=\"text-align: right;\">\n",
       "      <th></th>\n",
       "      <th>Gender_Female</th>\n",
       "      <th>Student_Yes</th>\n",
       "      <th>Married_Yes</th>\n",
       "      <th>Ethnicity_Asian</th>\n",
       "      <th>Ethnicity_Caucasian</th>\n",
       "      <th>Income</th>\n",
       "      <th>Limit</th>\n",
       "      <th>Rating</th>\n",
       "      <th>Cards</th>\n",
       "      <th>Age</th>\n",
       "      <th>Education</th>\n",
       "      <th>Balance</th>\n",
       "    </tr>\n",
       "    <tr>\n",
       "      <th>ID</th>\n",
       "      <th></th>\n",
       "      <th></th>\n",
       "      <th></th>\n",
       "      <th></th>\n",
       "      <th></th>\n",
       "      <th></th>\n",
       "      <th></th>\n",
       "      <th></th>\n",
       "      <th></th>\n",
       "      <th></th>\n",
       "      <th></th>\n",
       "      <th></th>\n",
       "    </tr>\n",
       "  </thead>\n",
       "  <tbody>\n",
       "    <tr>\n",
       "      <th>1</th>\n",
       "      <td>0.0</td>\n",
       "      <td>0.0</td>\n",
       "      <td>1.0</td>\n",
       "      <td>0.0</td>\n",
       "      <td>1.0</td>\n",
       "      <td>14.891</td>\n",
       "      <td>3606</td>\n",
       "      <td>283</td>\n",
       "      <td>2</td>\n",
       "      <td>34</td>\n",
       "      <td>11</td>\n",
       "      <td>333</td>\n",
       "    </tr>\n",
       "    <tr>\n",
       "      <th>2</th>\n",
       "      <td>1.0</td>\n",
       "      <td>1.0</td>\n",
       "      <td>1.0</td>\n",
       "      <td>1.0</td>\n",
       "      <td>0.0</td>\n",
       "      <td>106.025</td>\n",
       "      <td>6645</td>\n",
       "      <td>483</td>\n",
       "      <td>3</td>\n",
       "      <td>82</td>\n",
       "      <td>15</td>\n",
       "      <td>903</td>\n",
       "    </tr>\n",
       "    <tr>\n",
       "      <th>3</th>\n",
       "      <td>0.0</td>\n",
       "      <td>0.0</td>\n",
       "      <td>0.0</td>\n",
       "      <td>1.0</td>\n",
       "      <td>0.0</td>\n",
       "      <td>104.593</td>\n",
       "      <td>7075</td>\n",
       "      <td>514</td>\n",
       "      <td>4</td>\n",
       "      <td>71</td>\n",
       "      <td>11</td>\n",
       "      <td>580</td>\n",
       "    </tr>\n",
       "    <tr>\n",
       "      <th>4</th>\n",
       "      <td>1.0</td>\n",
       "      <td>0.0</td>\n",
       "      <td>0.0</td>\n",
       "      <td>1.0</td>\n",
       "      <td>0.0</td>\n",
       "      <td>148.924</td>\n",
       "      <td>9504</td>\n",
       "      <td>681</td>\n",
       "      <td>3</td>\n",
       "      <td>36</td>\n",
       "      <td>11</td>\n",
       "      <td>964</td>\n",
       "    </tr>\n",
       "    <tr>\n",
       "      <th>5</th>\n",
       "      <td>0.0</td>\n",
       "      <td>0.0</td>\n",
       "      <td>1.0</td>\n",
       "      <td>0.0</td>\n",
       "      <td>1.0</td>\n",
       "      <td>55.882</td>\n",
       "      <td>4897</td>\n",
       "      <td>357</td>\n",
       "      <td>2</td>\n",
       "      <td>68</td>\n",
       "      <td>16</td>\n",
       "      <td>331</td>\n",
       "    </tr>\n",
       "  </tbody>\n",
       "</table>\n",
       "</div>"
      ],
      "text/plain": [
       "    Gender_Female  Student_Yes  Married_Yes  Ethnicity_Asian  \\\n",
       "ID                                                             \n",
       "1             0.0          0.0          1.0              0.0   \n",
       "2             1.0          1.0          1.0              1.0   \n",
       "3             0.0          0.0          0.0              1.0   \n",
       "4             1.0          0.0          0.0              1.0   \n",
       "5             0.0          0.0          1.0              0.0   \n",
       "\n",
       "    Ethnicity_Caucasian   Income  Limit  Rating  Cards  Age  Education  \\\n",
       "ID                                                                       \n",
       "1                   1.0   14.891   3606     283      2   34         11   \n",
       "2                   0.0  106.025   6645     483      3   82         15   \n",
       "3                   0.0  104.593   7075     514      4   71         11   \n",
       "4                   0.0  148.924   9504     681      3   36         11   \n",
       "5                   1.0   55.882   4897     357      2   68         16   \n",
       "\n",
       "    Balance  \n",
       "ID           \n",
       "1       333  \n",
       "2       903  \n",
       "3       580  \n",
       "4       964  \n",
       "5       331  "
      ]
     },
     "execution_count": 2,
     "metadata": {},
     "output_type": "execute_result"
    }
   ],
   "source": [
    "Credit = pd.read_csv(\"Credit.csv\", index_col = 0)\n",
    "\n",
    "nominal_names = [\n",
    "    \"Gender\", \"Student\", \"Married\", \"Ethnicity\"\n",
    "]\n",
    "\n",
    "ohe = OneHotEncoder(\n",
    "    sparse = False, drop = \"first\"\n",
    ").fit(\n",
    "    Credit[nominal_names]\n",
    ")\n",
    "\n",
    "Credit = pd.concat(\n",
    "    [\n",
    "        pd.DataFrame(\n",
    "            ohe.transform(Credit[nominal_names]),\n",
    "            columns = ohe.get_feature_names_out(),\n",
    "            index= Credit.index\n",
    "        ),\n",
    "        Credit.loc[:,~Credit.columns.isin(nominal_names)]\n",
    "    ],\n",
    "    axis = 1\n",
    ")\n",
    "\n",
    "X = Credit.iloc[:,:-1]\n",
    "y = Credit.iloc[:, -1]\n",
    "\n",
    "Credit.head()"
   ]
  },
  {
   "cell_type": "markdown",
   "id": "b39dd39e-7398-4fc0-9ebe-d23d0fa3756f",
   "metadata": {},
   "source": [
    "Будем повышать параметр регуляризации и забирать значения коэффициентов. Процедура достаточно долгая, потому предполагается провести расчет и результаты отложить в файл."
   ]
  },
  {
   "cell_type": "raw",
   "id": "1a4c65c9-5eab-475a-b88e-c5b853331f75",
   "metadata": {},
   "source": [
    "coefs_frame = pd.DataFrame(columns = X.columns)\n",
    "\n",
    "stand_X = X/np.sqrt(((X - X.mean())**2).sum()/X.shape[0])\n",
    "\n",
    "alphas = np.arange(0, 2000, 0.01)\n",
    "int_count = len(alphas)\n",
    "\n",
    "for i, alpha in enumerate(alphas):\n",
    "    clear_output(wait=True)\n",
    "    print(\"{}/{}\".format(i, int_count))\n",
    "    coefs_frame.loc[alpha] = pd.Series(\n",
    "        Ridge(alpha = alpha).fit(stand_X,y).coef_,\n",
    "        index = X.columns\n",
    "    )\n",
    "    \n",
    "coefs_frame.index.name = \"alpha\"\n",
    "coefs_frame.to_csv(\"l2_reg_coefs.csv\")"
   ]
  },
  {
   "cell_type": "markdown",
   "id": "ba7f4094-df68-44c2-82ed-28b690dfa9a1",
   "metadata": {},
   "source": [
    "Полученные значения коэффицентов нанасем на графики."
   ]
  },
  {
   "cell_type": "code",
   "execution_count": 58,
   "id": "51147ef2-4fe7-4808-ac51-7c53ed0765e5",
   "metadata": {},
   "outputs": [],
   "source": [
    "coefs_frame = pd.read_csv(\"l2_reg_coefs.csv\", index_col = 0)\n",
    "\n",
    "plot_var_names = [\"Limit\", \"Rating\", \"Student_Yes\", \"Income\"]\n",
    "line_styles = ['-', '--', '-.', ':']\n",
    "\n",
    "beta_0 = np.sqrt(np.sum(coefs_frame.loc[0]**2))\n",
    "coefs_frame[\"beta_i/beta_0\"] = coefs_frame.apply(\n",
    "    lambda row: np.sqrt(np.sum(row**2))/beta_0,\n",
    "    axis = 1\n",
    ")"
   ]
  },
  {
   "cell_type": "code",
   "execution_count": 72,
   "id": "0b6e0a0e-092d-4d27-beba-ca67c8ba25a7",
   "metadata": {},
   "outputs": [
    {
     "data": {
      "text/plain": [
       "Text(0.5, 0, '$\\\\frac{||\\\\hat{\\\\beta}_{\\\\lambda}^R||_2}{||\\\\hat{\\\\beta}||_2}$')"
      ]
     },
     "execution_count": 72,
     "metadata": {},
     "output_type": "execute_result"
    },
    {
     "data": {
      "image/png": "[encoded data removed]",
      "text/plain": [
       "<Figure size 1080x504 with 2 Axes>"
      ]
     },
     "metadata": {
      "needs_background": "light"
     },
     "output_type": "display_data"
    }
   ],
   "source": [
    "plt.figure(figsize = [15, 7])\n",
    "plt.subplot(121)\n",
    "\n",
    "for i in range(len(plot_var_names)):\n",
    "    plt.plot(\n",
    "        coefs_frame.index, \n",
    "        coefs_frame[plot_var_names[i]],\n",
    "        linestyle = line_styles[i]\n",
    "    )\n",
    "    \n",
    "for col in coefs_frame.loc[\n",
    "    :, ~coefs_frame.columns.isin(plot_var_names)\n",
    "]:\n",
    "    plt.plot(\n",
    "        coefs_frame.index, coefs_frame[col], \n",
    "        color = \"gray\", alpha = 0.5\n",
    "    )\n",
    "    \n",
    "plt.legend(plot_var_names)\n",
    "plt.xlabel(\"$\\\\lambda$\", fontsize = 14)\n",
    "    \n",
    "plt.gca().set_xscale(\"log\")\n",
    "\n",
    "plt.subplot(122)\n",
    "\n",
    "for i in range(len(plot_var_names)):\n",
    "    plt.plot(\n",
    "        coefs_frame[\"beta_i/beta_0\"], \n",
    "        coefs_frame[plot_var_names[i]],\n",
    "        linestyle = line_styles[i]\n",
    "    )\n",
    "    \n",
    "for col in coefs_frame.loc[\n",
    "    :, ~coefs_frame.columns.isin(plot_var_names)\n",
    "]:\n",
    "    plt.plot(\n",
    "        coefs_frame[\"beta_i/beta_0\"], coefs_frame[col], \n",
    "        color = \"gray\", alpha = 0.5\n",
    "    )\n",
    "\n",
    "plt.xlabel(\n",
    "    \"$\\\\frac{||\\\\hat{\\\\beta}_{\\\\lambda}^R||_2}{||\\\\hat{\\\\beta}||_2}$\",\n",
    "    fontsize = 15\n",
    ")"
   ]
  },
  {
   "cell_type": "markdown",
   "id": "ab6e49d8-8d49-4df4-9f4c-8501cf21141d",
   "metadata": {},
   "source": [
    "- На графике слева показано как сходятся коэффициенты при увеличении параметра регуляризации. Для наглядности взята логарифмическая шкала для параметра регуляризации. Цветом и стилем линии выделены самые заметные коэффициенты - данные стандартизованы, потому масштаб величин не имеет занчения;\n",
    "- На графике справа по ординате отложена верличина:\n",
    "\n",
    "$$\\frac{||\\hat{\\beta}_{\\lambda}^R|_2}{||\\hat{\\beta}||_2}$$\n",
    "\n",
    "Где:\n",
    "- $||\\beta||_2 = \\sqrt{\\sum_{j=1}^p \\beta^2_j}$ - евклидово расстояние коэффициентов $\\beta$ от начала координат;\n",
    "- $\\hat{\\beta}$ - коэффициенты получаемые по методу наименьших квадратов (эквивалентны коэффициентам полученным при $\\lambda = 0$);\n",
    "- $\\hat{\\beta}^R_{\\lambda}$ - коэффициенты полученные при использовании регуляризации."
   ]
  },
  {
   "cell_type": "markdown",
   "id": "55b2c727-ff5b-4127-b7e6-476630c29c1d",
   "metadata": {},
   "source": [
    "# Смещение, диспесия и ошибка\n",
    "\n",
    "Утверждается, что регуляризация положительно влияет на свойства модели потому, что достигается более точный баланс между дисперсией и смещением. Убедимся в этом воспроизведя вычисленный эксперимент предложенный в <a href=\"https://www.statlearning.com/\">ISLR</a>."
   ]
  },
  {
   "cell_type": "code",
   "execution_count": 94,
   "id": "d5471d7d-326c-4ff9-b16a-f2e3913b9d97",
   "metadata": {},
   "outputs": [],
   "source": [
    "np.random.seed(10)\n",
    "n = 50; p = 45\n",
    "\n",
    "\n",
    "X = np.random.rand(n, p)\n",
    "y = np.dot(X, np.random.rand(p)) + np.random.normal(0, 0.003, n)\n",
    "\n",
    "lambdas = np.arange(0, 1000, 0.1)\n",
    "quadr_error = []\n",
    "\n",
    "for lambda_ in lambdas:\n",
    "    model = Ridge(alpha = lambda_).fit(X,y)\n",
    "    quadr_error.append(np.sum((y - model.predict(X))**2)/n)"
   ]
  },
  {
   "cell_type": "code",
   "execution_count": 95,
   "id": "79b71d3b-2a32-4735-b559-43d5f5ad737e",
   "metadata": {},
   "outputs": [
    {
     "data": {
      "text/plain": [
       "[<matplotlib.lines.Line2D at 0x7f967ba2cd60>]"
      ]
     },
     "execution_count": 95,
     "metadata": {},
     "output_type": "execute_result"
    },
    {
     "data": {
      "image/png": "[encoded data removed]",
      "text/plain": [
       "<Figure size 432x288 with 1 Axes>"
      ]
     },
     "metadata": {
      "needs_background": "light"
     },
     "output_type": "display_data"
    }
   ],
   "source": [
    "plt.plot(lambdas, quadr_error)"
   ]
  }
 ],
 "metadata": {
  "kernelspec": {
   "display_name": "Python 3 (ipykernel)",
   "language": "python",
   "name": "python3"
  },
  "language_info": {
   "codemirror_mode": {
    "name": "ipython",
    "version": 3
   },
   "file_extension": ".py",
   "mimetype": "text/x-python",
   "name": "python",
   "nbconvert_exporter": "python",
   "pygments_lexer": "ipython3",
   "version": "3.10.8"
  }
 },
 "nbformat": 4,
 "nbformat_minor": 5
}
