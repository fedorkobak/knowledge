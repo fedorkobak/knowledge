{
 "cells": [
  {
   "cell_type": "markdown",
   "id": "4920ff11-de88-4cc8-9c38-dd75653afe2d",
   "metadata": {},
   "source": [
    "# Gradient descent\n",
    "\n",
    "Is a cursial method for machine learning. But in general it's a way of optimising - finding values where the function depends on those values taking the minimum/maximum value. Here I'll try to implement a basic variation of gradient descent using only `numpy`. I'll explain each step to make everything clear."
   ]
  },
  {
   "cell_type": "code",
   "execution_count": 41,
   "id": "8827fa5a-7dcc-4f3a-a0b2-a8e0c2950d2b",
   "metadata": {},
   "outputs": [],
   "source": [
    "import numpy as np\n",
    "import plotly.graph_objects as go"
   ]
  },
  {
   "cell_type": "markdown",
   "id": "1023f625-0b9c-4922-be68-9a833cc9aa5d",
   "metadata": {},
   "source": [
    "## Task"
   ]
  },
  {
   "cell_type": "markdown",
   "id": "fe0e17ba-af8d-4dea-8a80-9d4f7f72ddef",
   "metadata": {},
   "source": [
    "Suppose we have classic linear regression task - we have array of point $(x_i, y_i)$ just like generated and visualised in the cell below:"
   ]
  },
  {
   "cell_type": "code",
   "execution_count": 77,
   "id": "94c71ea9-b7dc-4dfa-a383-8bd3254aa244",
   "metadata": {},
   "outputs": [
    {
     "data": {
      "application/vnd.plotly.v1+json": {
       "config": {
        "plotlyServerURL": "https://plot.ly"
       },
       "data": [
        {
         "marker": {
          "size": 10
         },
         "mode": "markers",
         "type": "scatter",
         "x": [
          0.25658558880341786,
          1.0859779762739228,
          0.3614887585054909,
          -1.2666263128180868,
          -2.8718739816925742,
          1.7125173304386356,
          -2.6023269810408873,
          1.1769680575091206,
          -0.14084902697542256,
          -2.657226382391601,
          -0.7728943716582553,
          1.3626076836176217,
          -1.8542312557978502,
          -0.407263860958734,
          -2.6605450070589645,
          2.6616210366861894,
          -1.6965320411690623,
          1.9265447190640543,
          -2.7523717710365365,
          1.196981880912575,
          -0.9885326455121226,
          -2.197171329518216,
          2.199124827011472,
          -1.39291383889545,
          1.1801556342536887,
          -1.3738843723461476,
          -1.1724649088148804,
          2.383095521101792,
          -2.090002205388683,
          0.9685485303041164,
          1.049070845778565,
          -2.152350264116899,
          -0.11292374405236671,
          1.4214981177593389,
          0.5308435937882443,
          0.5102288312291439,
          -0.006883954120957103,
          1.5405065213400757,
          -0.017295062594590238,
          -2.88194269192335,
          -0.16064307891640617,
          -0.7213717495410785,
          -2.4555482503050614,
          -1.3653411811601042,
          -0.2955519962938844,
          2.5658509778642786,
          -1.2924000473403345,
          2.9968439230102755,
          1.797468751591941,
          1.6194567819310413,
          2.206311373433465,
          2.6707839251499745,
          2.879237895740453,
          -2.3682351299901385,
          0.9027132012309629,
          1.0345375909666785,
          -1.1446540125795515,
          0.9686447313729536,
          0.8620108722022009,
          0.8005509609752015,
          -0.17552532998813097,
          1.0343357727665978,
          -2.2434691086988483,
          -0.024958492187668657,
          -2.1932806183839575,
          -0.9513102600529204,
          0.3781937042151595,
          0.9133913449682991,
          -2.3904416875110157,
          -0.9164685139861346,
          -1.569454507887358,
          1.2646253049589653,
          -2.9563743006428247,
          2.5250441956863234,
          -0.3748404899856528,
          -1.2018388382168874,
          -2.988414465641852,
          0.27975268173399925,
          -1.3206878659055925,
          0.10769678412743477,
          -1.042380354724235,
          -0.9207629666288182,
          -2.7311671027861335,
          2.1151682633562388,
          2.038589574386421,
          -0.4971012087237576,
          -2.914686156162756,
          -1.8795261682006426,
          -0.677741879261327,
          -0.3536871667867616,
          0.03126269938504134,
          -0.7460510835992116,
          -0.048570432494754456,
          -0.02986517755585849,
          0.6483017389038324,
          -1.763171202310153,
          2.8449339114485515,
          -1.7698349441301005,
          -2.628586448446455,
          0.9368804234078416,
          0.5377009903322012,
          2.3173056600611064,
          -2.6397053769499643,
          -2.154058417577308,
          1.6198458715436441,
          -2.9437599711581797,
          1.038063556607561,
          0.5702874909027811,
          0.3023286992785712,
          2.1944025786534898,
          0.2476265695793769,
          -2.06635772295525,
          -0.8142033436693437,
          -1.7975303400872558,
          -2.0274509398472262,
          1.5664535271522055,
          -2.1664841447620597,
          2.134953317781725,
          1.8218120414952494,
          2.3420756685670128,
          -0.5517784990575212,
          0.026202138439845868,
          -0.8082628690834772,
          2.5050131456847096,
          -1.2172081276405018,
          1.9727542193050986,
          -1.1621785870103931,
          -1.4031981667692608,
          2.897671778429382,
          -1.2979213748400695,
          0.006363853924517215,
          2.1101216672438863,
          1.6631856361450454,
          -2.7110834390615346,
          -2.1900730789630893,
          1.865716016222466,
          -0.4378751889739956,
          1.3126365035882586,
          -2.3437398919292836,
          -2.6285897587088707,
          1.6459553113060812,
          1.7905738569516707,
          0.43622755257034296,
          -1.3449238301752362,
          0.3833346864323688,
          -0.4593059712726757,
          2.245817503077843,
          1.749011305374065,
          1.4797149431238594,
          -2.8611132418541225,
          1.2768615095378673,
          1.064068068554576,
          -1.2145456659493674,
          -1.9962981517681078,
          -2.483581881787214,
          0.24078312793947276,
          -2.047178924293748,
          -2.9510128181073023,
          -1.1034367307379123,
          -2.281457144046308,
          2.227791001243756,
          1.9229620405394519,
          -1.1651997659667521,
          2.4872707324220684,
          -2.7062750064614534,
          0.8751044843544626,
          0.8125975354004282,
          -2.038859992342649,
          2.503696257514159,
          -2.861887049081746,
          2.457417219587602,
          -0.03876628453186903,
          2.208866447155395,
          0.4802272899658395,
          1.0570132786502207,
          -2.2872971742578354,
          -2.618824473435594,
          2.62365207580096,
          1.2816538351297853,
          -1.9901831336978517,
          1.2040784452860365,
          -0.5819166198105039,
          0.02456523752816331,
          -1.5596723649405613,
          0.2155921734590649,
          -0.3511845778097573,
          -1.6688289499449733,
          -2.1760845746103765,
          1.7148919163394316,
          -1.1895185594462834,
          -1.6535817299241615,
          1.084935358677864,
          -2.7578054958598175,
          1.3687472084693253,
          1.6591443928717693,
          2.176833032043601,
          2.627448009676116,
          -0.3977987867986279,
          2.917376501721894,
          -2.9495487920038244
         ],
         "y": [
          3.468040554287011,
          4.3606624369526035,
          4.154908661921801,
          -1.4889617075712327,
          -6.716148247004354,
          4.397781771859746,
          -8.125362347062183,
          5.299664218319678,
          -0.47131697940615425,
          -3.5181834649645904,
          -4.8135586238635355,
          10.89883687182304,
          -2.3290956099478675,
          7.485216614223909,
          -6.299101095110565,
          12.096836175561007,
          -9.574156529624522,
          9.796016186849418,
          -9.257991114398296,
          6.447985756136313,
          1.2660827863740525,
          -0.6216829369188273,
          11.35421251056552,
          -2.1284055602610294,
          7.275474654087439,
          2.8017161242489754,
          -0.015990211330931814,
          5.600169814263296,
          -7.3647270220338985,
          -0.3230067712957423,
          4.045060533542965,
          -1.4152581555311663,
          3.38319578948484,
          8.546517272170444,
          0.8185209520445031,
          -0.9350880530088599,
          5.786399637310741,
          1.4569218473791006,
          -3.104884164183377,
          -6.689479145325794,
          4.3784231505180085,
          -0.12779576740465715,
          -5.874586061660009,
          -1.0893178886878703,
          -3.7193712500643183,
          7.024450684537092,
          -6.5446719802454485,
          11.452402353304034,
          8.143913593939269,
          6.531425702997531,
          7.413350610363937,
          17.556290350803245,
          11.287421381822382,
          -6.707002803013378,
          1.4560379052840022,
          3.472349259556989,
          -4.284210315636814,
          5.08885045444398,
          2.399510194510879,
          12.060101735308528,
          3.8516826992352695,
          2.22929247496883,
          -1.7671619578353428,
          -0.43174350847545373,
          -3.574199356498421,
          0.25485854535874086,
          8.224930545680715,
          2.4429390120174133,
          -8.434195761916385,
          -4.469602102111821,
          -0.07692975190271989,
          3.945647970846408,
          -8.140151323777742,
          8.573582538943722,
          -0.1428243449027191,
          -0.24611806483823928,
          -5.369197315188097,
          -0.8114958089862689,
          -2.1071450004855143,
          3.1161366646688555,
          -2.280569426275329,
          -0.022955123791356336,
          -5.474261921106204,
          8.366022412425512,
          5.283734641767699,
          2.673679795067921,
          -3.5051350341863814,
          -1.929411392036673,
          -5.2700657469588785,
          0.06789128104898601,
          1.2564427227304389,
          -3.737800977567625,
          5.180653397295906,
          -2.012386145046416,
          6.492400658283027,
          -3.3914117388984946,
          7.255161285518785,
          -2.7019627291897974,
          -6.433366134016844,
          1.703584234111506,
          6.368499755103043,
          5.9148795394071705,
          -5.2448856335032605,
          -1.4041801703839374,
          6.756056893781695,
          -11.512370137633042,
          6.8010337741675695,
          3.7298220630431147,
          0.9428639336356288,
          13.62363784104474,
          -7.07103791703141,
          -5.971581979108136,
          -0.8213418739555456,
          -1.0310611565747396,
          -2.7999516249833336,
          6.779388026973318,
          -6.274004587358265,
          11.319264943975666,
          5.650112783649909,
          8.569622877929556,
          -0.6360082475287301,
          6.246883653031502,
          -10.357451570024047,
          14.712526070708067,
          -2.5824830095346685,
          4.978215960760503,
          0.011272940771561268,
          0.30120943951150947,
          13.594863484479443,
          0.5375272194433256,
          3.5066181762313517,
          9.433531723180874,
          6.1258406530935305,
          -6.621791830312738,
          -2.289536537033123,
          5.0129726483050145,
          -0.4432608511685805,
          2.9576697896770003,
          -4.258763763493333,
          -6.328413763150634,
          5.657401289733221,
          11.152350538359403,
          6.0432350430556365,
          -7.131054341219114,
          3.110077160632704,
          -5.21000079442897,
          6.30711503998919,
          6.171751574563922,
          6.277384424174142,
          -7.86704199966725,
          8.537561493967651,
          0.07700747909347427,
          -2.5352629440389665,
          -4.3473970362724605,
          -4.811316806544049,
          -0.08135672105460712,
          -9.852214637727716,
          -4.842384216114747,
          -1.018433644813788,
          -6.943647510577833,
          9.536279818958691,
          6.964128958183243,
          1.579110821106847,
          12.630535778854357,
          -4.351963054389269,
          8.986361543280786,
          4.370646303184459,
          -2.7969516325500785,
          9.78916471846687,
          -7.818423110287766,
          7.45873022532842,
          5.934092211583327,
          8.236816223042268,
          7.299852616037857,
          8.688331776064064,
          -3.8291111807766836,
          -5.839524835711322,
          9.131193541935627,
          2.807435374234454,
          -3.7611416688297457,
          8.12176137714853,
          -0.5221520169553933,
          3.89102035040963,
          -5.8688443634911724,
          -1.5872808293950813,
          -0.5052776254679545,
          -3.8359044255665307,
          -2.920472852047901,
          6.125014307573468,
          -3.2713353998972163,
          -5.094566022918835,
          2.3126419339407636,
          -10.37319680303163,
          4.804073174687327,
          10.345485837381212,
          5.246246207809292,
          5.131636936201509,
          -2.2146448993964647,
          10.901109780006179,
          -4.2428254936761665
         ]
        }
       ],
       "layout": {
        "dragmode": false,
        "height": 500,
        "template": {
         "data": {
          "bar": [
           {
            "error_x": {
             "color": "#2a3f5f"
            },
            "error_y": {
             "color": "#2a3f5f"
            },
            "marker": {
             "line": {
              "color": "#E5ECF6",
              "width": 0.5
             },
             "pattern": {
              "fillmode": "overlay",
              "size": 10,
              "solidity": 0.2
             }
            },
            "type": "bar"
           }
          ],
          "barpolar": [
           {
            "marker": {
             "line": {
              "color": "#E5ECF6",
              "width": 0.5
             },
             "pattern": {
              "fillmode": "overlay",
              "size": 10,
              "solidity": 0.2
             }
            },
            "type": "barpolar"
           }
          ],
          "carpet": [
           {
            "aaxis": {
             "endlinecolor": "#2a3f5f",
             "gridcolor": "white",
             "linecolor": "white",
             "minorgridcolor": "white",
             "startlinecolor": "#2a3f5f"
            },
            "baxis": {
             "endlinecolor": "#2a3f5f",
             "gridcolor": "white",
             "linecolor": "white",
             "minorgridcolor": "white",
             "startlinecolor": "#2a3f5f"
            },
            "type": "carpet"
           }
          ],
          "choropleth": [
           {
            "colorbar": {
             "outlinewidth": 0,
             "ticks": ""
            },
            "type": "choropleth"
           }
          ],
          "contour": [
           {
            "colorbar": {
             "outlinewidth": 0,
             "ticks": ""
            },
            "colorscale": [
             [
              0,
              "#0d0887"
             ],
             [
              0.1111111111111111,
              "#46039f"
             ],
             [
              0.2222222222222222,
              "#7201a8"
             ],
             [
              0.3333333333333333,
              "#9c179e"
             ],
             [
              0.4444444444444444,
              "#bd3786"
             ],
             [
              0.5555555555555556,
              "#d8576b"
             ],
             [
              0.6666666666666666,
              "#ed7953"
             ],
             [
              0.7777777777777778,
              "#fb9f3a"
             ],
             [
              0.8888888888888888,
              "#fdca26"
             ],
             [
              1,
              "#f0f921"
             ]
            ],
            "type": "contour"
           }
          ],
          "contourcarpet": [
           {
            "colorbar": {
             "outlinewidth": 0,
             "ticks": ""
            },
            "type": "contourcarpet"
           }
          ],
          "heatmap": [
           {
            "colorbar": {
             "outlinewidth": 0,
             "ticks": ""
            },
            "colorscale": [
             [
              0,
              "#0d0887"
             ],
             [
              0.1111111111111111,
              "#46039f"
             ],
             [
              0.2222222222222222,
              "#7201a8"
             ],
             [
              0.3333333333333333,
              "#9c179e"
             ],
             [
              0.4444444444444444,
              "#bd3786"
             ],
             [
              0.5555555555555556,
              "#d8576b"
             ],
             [
              0.6666666666666666,
              "#ed7953"
             ],
             [
              0.7777777777777778,
              "#fb9f3a"
             ],
             [
              0.8888888888888888,
              "#fdca26"
             ],
             [
              1,
              "#f0f921"
             ]
            ],
            "type": "heatmap"
           }
          ],
          "heatmapgl": [
           {
            "colorbar": {
             "outlinewidth": 0,
             "ticks": ""
            },
            "colorscale": [
             [
              0,
              "#0d0887"
             ],
             [
              0.1111111111111111,
              "#46039f"
             ],
             [
              0.2222222222222222,
              "#7201a8"
             ],
             [
              0.3333333333333333,
              "#9c179e"
             ],
             [
              0.4444444444444444,
              "#bd3786"
             ],
             [
              0.5555555555555556,
              "#d8576b"
             ],
             [
              0.6666666666666666,
              "#ed7953"
             ],
             [
              0.7777777777777778,
              "#fb9f3a"
             ],
             [
              0.8888888888888888,
              "#fdca26"
             ],
             [
              1,
              "#f0f921"
             ]
            ],
            "type": "heatmapgl"
           }
          ],
          "histogram": [
           {
            "marker": {
             "pattern": {
              "fillmode": "overlay",
              "size": 10,
              "solidity": 0.2
             }
            },
            "type": "histogram"
           }
          ],
          "histogram2d": [
           {
            "colorbar": {
             "outlinewidth": 0,
             "ticks": ""
            },
            "colorscale": [
             [
              0,
              "#0d0887"
             ],
             [
              0.1111111111111111,
              "#46039f"
             ],
             [
              0.2222222222222222,
              "#7201a8"
             ],
             [
              0.3333333333333333,
              "#9c179e"
             ],
             [
              0.4444444444444444,
              "#bd3786"
             ],
             [
              0.5555555555555556,
              "#d8576b"
             ],
             [
              0.6666666666666666,
              "#ed7953"
             ],
             [
              0.7777777777777778,
              "#fb9f3a"
             ],
             [
              0.8888888888888888,
              "#fdca26"
             ],
             [
              1,
              "#f0f921"
             ]
            ],
            "type": "histogram2d"
           }
          ],
          "histogram2dcontour": [
           {
            "colorbar": {
             "outlinewidth": 0,
             "ticks": ""
            },
            "colorscale": [
             [
              0,
              "#0d0887"
             ],
             [
              0.1111111111111111,
              "#46039f"
             ],
             [
              0.2222222222222222,
              "#7201a8"
             ],
             [
              0.3333333333333333,
              "#9c179e"
             ],
             [
              0.4444444444444444,
              "#bd3786"
             ],
             [
              0.5555555555555556,
              "#d8576b"
             ],
             [
              0.6666666666666666,
              "#ed7953"
             ],
             [
              0.7777777777777778,
              "#fb9f3a"
             ],
             [
              0.8888888888888888,
              "#fdca26"
             ],
             [
              1,
              "#f0f921"
             ]
            ],
            "type": "histogram2dcontour"
           }
          ],
          "mesh3d": [
           {
            "colorbar": {
             "outlinewidth": 0,
             "ticks": ""
            },
            "type": "mesh3d"
           }
          ],
          "parcoords": [
           {
            "line": {
             "colorbar": {
              "outlinewidth": 0,
              "ticks": ""
             }
            },
            "type": "parcoords"
           }
          ],
          "pie": [
           {
            "automargin": true,
            "type": "pie"
           }
          ],
          "scatter": [
           {
            "fillpattern": {
             "fillmode": "overlay",
             "size": 10,
             "solidity": 0.2
            },
            "type": "scatter"
           }
          ],
          "scatter3d": [
           {
            "line": {
             "colorbar": {
              "outlinewidth": 0,
              "ticks": ""
             }
            },
            "marker": {
             "colorbar": {
              "outlinewidth": 0,
              "ticks": ""
             }
            },
            "type": "scatter3d"
           }
          ],
          "scattercarpet": [
           {
            "marker": {
             "colorbar": {
              "outlinewidth": 0,
              "ticks": ""
             }
            },
            "type": "scattercarpet"
           }
          ],
          "scattergeo": [
           {
            "marker": {
             "colorbar": {
              "outlinewidth": 0,
              "ticks": ""
             }
            },
            "type": "scattergeo"
           }
          ],
          "scattergl": [
           {
            "marker": {
             "colorbar": {
              "outlinewidth": 0,
              "ticks": ""
             }
            },
            "type": "scattergl"
           }
          ],
          "scattermapbox": [
           {
            "marker": {
             "colorbar": {
              "outlinewidth": 0,
              "ticks": ""
             }
            },
            "type": "scattermapbox"
           }
          ],
          "scatterpolar": [
           {
            "marker": {
             "colorbar": {
              "outlinewidth": 0,
              "ticks": ""
             }
            },
            "type": "scatterpolar"
           }
          ],
          "scatterpolargl": [
           {
            "marker": {
             "colorbar": {
              "outlinewidth": 0,
              "ticks": ""
             }
            },
            "type": "scatterpolargl"
           }
          ],
          "scatterternary": [
           {
            "marker": {
             "colorbar": {
              "outlinewidth": 0,
              "ticks": ""
             }
            },
            "type": "scatterternary"
           }
          ],
          "surface": [
           {
            "colorbar": {
             "outlinewidth": 0,
             "ticks": ""
            },
            "colorscale": [
             [
              0,
              "#0d0887"
             ],
             [
              0.1111111111111111,
              "#46039f"
             ],
             [
              0.2222222222222222,
              "#7201a8"
             ],
             [
              0.3333333333333333,
              "#9c179e"
             ],
             [
              0.4444444444444444,
              "#bd3786"
             ],
             [
              0.5555555555555556,
              "#d8576b"
             ],
             [
              0.6666666666666666,
              "#ed7953"
             ],
             [
              0.7777777777777778,
              "#fb9f3a"
             ],
             [
              0.8888888888888888,
              "#fdca26"
             ],
             [
              1,
              "#f0f921"
             ]
            ],
            "type": "surface"
           }
          ],
          "table": [
           {
            "cells": {
             "fill": {
              "color": "#EBF0F8"
             },
             "line": {
              "color": "white"
             }
            },
            "header": {
             "fill": {
              "color": "#C8D4E3"
             },
             "line": {
              "color": "white"
             }
            },
            "type": "table"
           }
          ]
         },
         "layout": {
          "annotationdefaults": {
           "arrowcolor": "#2a3f5f",
           "arrowhead": 0,
           "arrowwidth": 1
          },
          "autotypenumbers": "strict",
          "coloraxis": {
           "colorbar": {
            "outlinewidth": 0,
            "ticks": ""
           }
          },
          "colorscale": {
           "diverging": [
            [
             0,
             "#8e0152"
            ],
            [
             0.1,
             "#c51b7d"
            ],
            [
             0.2,
             "#de77ae"
            ],
            [
             0.3,
             "#f1b6da"
            ],
            [
             0.4,
             "#fde0ef"
            ],
            [
             0.5,
             "#f7f7f7"
            ],
            [
             0.6,
             "#e6f5d0"
            ],
            [
             0.7,
             "#b8e186"
            ],
            [
             0.8,
             "#7fbc41"
            ],
            [
             0.9,
             "#4d9221"
            ],
            [
             1,
             "#276419"
            ]
           ],
           "sequential": [
            [
             0,
             "#0d0887"
            ],
            [
             0.1111111111111111,
             "#46039f"
            ],
            [
             0.2222222222222222,
             "#7201a8"
            ],
            [
             0.3333333333333333,
             "#9c179e"
            ],
            [
             0.4444444444444444,
             "#bd3786"
            ],
            [
             0.5555555555555556,
             "#d8576b"
            ],
            [
             0.6666666666666666,
             "#ed7953"
            ],
            [
             0.7777777777777778,
             "#fb9f3a"
            ],
            [
             0.8888888888888888,
             "#fdca26"
            ],
            [
             1,
             "#f0f921"
            ]
           ],
           "sequentialminus": [
            [
             0,
             "#0d0887"
            ],
            [
             0.1111111111111111,
             "#46039f"
            ],
            [
             0.2222222222222222,
             "#7201a8"
            ],
            [
             0.3333333333333333,
             "#9c179e"
            ],
            [
             0.4444444444444444,
             "#bd3786"
            ],
            [
             0.5555555555555556,
             "#d8576b"
            ],
            [
             0.6666666666666666,
             "#ed7953"
            ],
            [
             0.7777777777777778,
             "#fb9f3a"
            ],
            [
             0.8888888888888888,
             "#fdca26"
            ],
            [
             1,
             "#f0f921"
            ]
           ]
          },
          "colorway": [
           "#636efa",
           "#EF553B",
           "#00cc96",
           "#ab63fa",
           "#FFA15A",
           "#19d3f3",
           "#FF6692",
           "#B6E880",
           "#FF97FF",
           "#FECB52"
          ],
          "font": {
           "color": "#2a3f5f"
          },
          "geo": {
           "bgcolor": "white",
           "lakecolor": "white",
           "landcolor": "#E5ECF6",
           "showlakes": true,
           "showland": true,
           "subunitcolor": "white"
          },
          "hoverlabel": {
           "align": "left"
          },
          "hovermode": "closest",
          "mapbox": {
           "style": "light"
          },
          "paper_bgcolor": "white",
          "plot_bgcolor": "#E5ECF6",
          "polar": {
           "angularaxis": {
            "gridcolor": "white",
            "linecolor": "white",
            "ticks": ""
           },
           "bgcolor": "#E5ECF6",
           "radialaxis": {
            "gridcolor": "white",
            "linecolor": "white",
            "ticks": ""
           }
          },
          "scene": {
           "xaxis": {
            "backgroundcolor": "#E5ECF6",
            "gridcolor": "white",
            "gridwidth": 2,
            "linecolor": "white",
            "showbackground": true,
            "ticks": "",
            "zerolinecolor": "white"
           },
           "yaxis": {
            "backgroundcolor": "#E5ECF6",
            "gridcolor": "white",
            "gridwidth": 2,
            "linecolor": "white",
            "showbackground": true,
            "ticks": "",
            "zerolinecolor": "white"
           },
           "zaxis": {
            "backgroundcolor": "#E5ECF6",
            "gridcolor": "white",
            "gridwidth": 2,
            "linecolor": "white",
            "showbackground": true,
            "ticks": "",
            "zerolinecolor": "white"
           }
          },
          "shapedefaults": {
           "line": {
            "color": "#2a3f5f"
           }
          },
          "ternary": {
           "aaxis": {
            "gridcolor": "white",
            "linecolor": "white",
            "ticks": ""
           },
           "baxis": {
            "gridcolor": "white",
            "linecolor": "white",
            "ticks": ""
           },
           "bgcolor": "#E5ECF6",
           "caxis": {
            "gridcolor": "white",
            "linecolor": "white",
            "ticks": ""
           }
          },
          "title": {
           "x": 0.05
          },
          "xaxis": {
           "automargin": true,
           "gridcolor": "white",
           "linecolor": "white",
           "ticks": "",
           "title": {
            "standoff": 15
           },
           "zerolinecolor": "white",
           "zerolinewidth": 2
          },
          "yaxis": {
           "automargin": true,
           "gridcolor": "white",
           "linecolor": "white",
           "ticks": "",
           "title": {
            "standoff": 15
           },
           "zerolinecolor": "white",
           "zerolinewidth": 2
          }
         }
        },
        "width": 1000,
        "xaxis": {
         "autorange": true,
         "range": [
          -3.3768323772120805,
          3.385261834580504
         ],
         "title": {
          "text": "X"
         },
         "type": "linear"
        },
        "yaxis": {
         "autorange": true,
         "range": [
          -13.860020576354302,
          19.903940789524505
         ],
         "title": {
          "text": "y"
         },
         "type": "linear"
        }
       }
      },
      "image/png": "[encoded data removed]",
      "text/html": [
       "<div>                            <div id=\"61ca29ea-7190-4d13-891a-1736da947b39\" class=\"plotly-graph-div\" style=\"height:500px; width:1000px;\"></div>            <script type=\"text/javascript\">                require([\"plotly\"], function(Plotly) {                    window.PLOTLYENV=window.PLOTLYENV || {};                                    if (document.getElementById(\"61ca29ea-7190-4d13-891a-1736da947b39\")) {                    Plotly.newPlot(                        \"61ca29ea-7190-4d13-891a-1736da947b39\",                        [{\"marker\":{\"size\":10},\"mode\":\"markers\",\"x\":[0.25658558880341786,1.0859779762739228,0.3614887585054909,-1.2666263128180868,-2.8718739816925742,1.7125173304386356,-2.6023269810408873,1.1769680575091206,-0.14084902697542256,-2.657226382391601,-0.7728943716582553,1.3626076836176217,-1.8542312557978502,-0.407263860958734,-2.6605450070589645,2.6616210366861894,-1.6965320411690623,1.9265447190640543,-2.7523717710365365,1.196981880912575,-0.9885326455121226,-2.197171329518216,2.199124827011472,-1.39291383889545,1.1801556342536887,-1.3738843723461476,-1.1724649088148804,2.383095521101792,-2.090002205388683,0.9685485303041164,1.049070845778565,-2.152350264116899,-0.11292374405236671,1.4214981177593389,0.5308435937882443,0.5102288312291439,-0.006883954120957103,1.5405065213400757,-0.017295062594590238,-2.88194269192335,-0.16064307891640617,-0.7213717495410785,-2.4555482503050614,-1.3653411811601042,-0.2955519962938844,2.5658509778642786,-1.2924000473403345,2.9968439230102755,1.797468751591941,1.6194567819310413,2.206311373433465,2.6707839251499745,2.879237895740453,-2.3682351299901385,0.9027132012309629,1.0345375909666785,-1.1446540125795515,0.9686447313729536,0.8620108722022009,0.8005509609752015,-0.17552532998813097,1.0343357727665978,-2.2434691086988483,-0.024958492187668657,-2.1932806183839575,-0.9513102600529204,0.3781937042151595,0.9133913449682991,-2.3904416875110157,-0.9164685139861346,-1.569454507887358,1.2646253049589653,-2.9563743006428247,2.5250441956863234,-0.3748404899856528,-1.2018388382168874,-2.988414465641852,0.27975268173399925,-1.3206878659055925,0.10769678412743477,-1.042380354724235,-0.9207629666288182,-2.7311671027861335,2.1151682633562388,2.038589574386421,-0.4971012087237576,-2.914686156162756,-1.8795261682006426,-0.677741879261327,-0.3536871667867616,0.03126269938504134,-0.7460510835992116,-0.048570432494754456,-0.02986517755585849,0.6483017389038324,-1.763171202310153,2.8449339114485515,-1.7698349441301005,-2.628586448446455,0.9368804234078416,0.5377009903322012,2.3173056600611064,-2.6397053769499643,-2.154058417577308,1.6198458715436441,-2.9437599711581797,1.038063556607561,0.5702874909027811,0.3023286992785712,2.1944025786534898,0.2476265695793769,-2.06635772295525,-0.8142033436693437,-1.7975303400872558,-2.0274509398472262,1.5664535271522055,-2.1664841447620597,2.134953317781725,1.8218120414952494,2.3420756685670128,-0.5517784990575212,0.026202138439845868,-0.8082628690834772,2.5050131456847096,-1.2172081276405018,1.9727542193050986,-1.1621785870103931,-1.4031981667692608,2.897671778429382,-1.2979213748400695,0.006363853924517215,2.1101216672438863,1.6631856361450454,-2.7110834390615346,-2.1900730789630893,1.865716016222466,-0.4378751889739956,1.3126365035882586,-2.3437398919292836,-2.6285897587088707,1.6459553113060812,1.7905738569516707,0.43622755257034296,-1.3449238301752362,0.3833346864323688,-0.4593059712726757,2.245817503077843,1.749011305374065,1.4797149431238594,-2.8611132418541225,1.2768615095378673,1.064068068554576,-1.2145456659493674,-1.9962981517681078,-2.483581881787214,0.24078312793947276,-2.047178924293748,-2.9510128181073023,-1.1034367307379123,-2.281457144046308,2.227791001243756,1.9229620405394519,-1.1651997659667521,2.4872707324220684,-2.7062750064614534,0.8751044843544626,0.8125975354004282,-2.038859992342649,2.503696257514159,-2.861887049081746,2.457417219587602,-0.03876628453186903,2.208866447155395,0.4802272899658395,1.0570132786502207,-2.2872971742578354,-2.618824473435594,2.62365207580096,1.2816538351297853,-1.9901831336978517,1.2040784452860365,-0.5819166198105039,0.02456523752816331,-1.5596723649405613,0.2155921734590649,-0.3511845778097573,-1.6688289499449733,-2.1760845746103765,1.7148919163394316,-1.1895185594462834,-1.6535817299241615,1.084935358677864,-2.7578054958598175,1.3687472084693253,1.6591443928717693,2.176833032043601,2.627448009676116,-0.3977987867986279,2.917376501721894,-2.9495487920038244],\"y\":[3.468040554287011,4.3606624369526035,4.154908661921801,-1.4889617075712327,-6.716148247004354,4.397781771859746,-8.125362347062183,5.299664218319678,-0.47131697940615425,-3.5181834649645904,-4.8135586238635355,10.89883687182304,-2.3290956099478675,7.485216614223909,-6.299101095110565,12.096836175561007,-9.574156529624522,9.796016186849418,-9.257991114398296,6.447985756136313,1.2660827863740525,-0.6216829369188273,11.35421251056552,-2.1284055602610294,7.275474654087439,2.8017161242489754,-0.015990211330931814,5.600169814263296,-7.3647270220338985,-0.3230067712957423,4.045060533542965,-1.4152581555311663,3.38319578948484,8.546517272170444,0.8185209520445031,-0.9350880530088599,5.786399637310741,1.4569218473791006,-3.104884164183377,-6.689479145325794,4.3784231505180085,-0.12779576740465715,-5.874586061660009,-1.0893178886878703,-3.7193712500643183,7.024450684537092,-6.5446719802454485,11.452402353304034,8.143913593939269,6.531425702997531,7.413350610363937,17.556290350803245,11.287421381822382,-6.707002803013378,1.4560379052840022,3.472349259556989,-4.284210315636814,5.08885045444398,2.399510194510879,12.060101735308528,3.8516826992352695,2.22929247496883,-1.7671619578353428,-0.43174350847545373,-3.574199356498421,0.25485854535874086,8.224930545680715,2.4429390120174133,-8.434195761916385,-4.469602102111821,-0.07692975190271989,3.945647970846408,-8.140151323777742,8.573582538943722,-0.1428243449027191,-0.24611806483823928,-5.369197315188097,-0.8114958089862689,-2.1071450004855143,3.1161366646688555,-2.280569426275329,-0.022955123791356336,-5.474261921106204,8.366022412425512,5.283734641767699,2.673679795067921,-3.5051350341863814,-1.929411392036673,-5.2700657469588785,0.06789128104898601,1.2564427227304389,-3.737800977567625,5.180653397295906,-2.012386145046416,6.492400658283027,-3.3914117388984946,7.255161285518785,-2.7019627291897974,-6.433366134016844,1.703584234111506,6.368499755103043,5.9148795394071705,-5.2448856335032605,-1.4041801703839374,6.756056893781695,-11.512370137633042,6.8010337741675695,3.7298220630431147,0.9428639336356288,13.62363784104474,-7.07103791703141,-5.971581979108136,-0.8213418739555456,-1.0310611565747396,-2.7999516249833336,6.779388026973318,-6.274004587358265,11.319264943975666,5.650112783649909,8.569622877929556,-0.6360082475287301,6.246883653031502,-10.357451570024047,14.712526070708067,-2.5824830095346685,4.978215960760503,0.011272940771561268,0.30120943951150947,13.594863484479443,0.5375272194433256,3.5066181762313517,9.433531723180874,6.1258406530935305,-6.621791830312738,-2.289536537033123,5.0129726483050145,-0.4432608511685805,2.9576697896770003,-4.258763763493333,-6.328413763150634,5.657401289733221,11.152350538359403,6.0432350430556365,-7.131054341219114,3.110077160632704,-5.21000079442897,6.30711503998919,6.171751574563922,6.277384424174142,-7.86704199966725,8.537561493967651,0.07700747909347427,-2.5352629440389665,-4.3473970362724605,-4.811316806544049,-0.08135672105460712,-9.852214637727716,-4.842384216114747,-1.018433644813788,-6.943647510577833,9.536279818958691,6.964128958183243,1.579110821106847,12.630535778854357,-4.351963054389269,8.986361543280786,4.370646303184459,-2.7969516325500785,9.78916471846687,-7.818423110287766,7.45873022532842,5.934092211583327,8.236816223042268,7.299852616037857,8.688331776064064,-3.8291111807766836,-5.839524835711322,9.131193541935627,2.807435374234454,-3.7611416688297457,8.12176137714853,-0.5221520169553933,3.89102035040963,-5.8688443634911724,-1.5872808293950813,-0.5052776254679545,-3.8359044255665307,-2.920472852047901,6.125014307573468,-3.2713353998972163,-5.094566022918835,2.3126419339407636,-10.37319680303163,4.804073174687327,10.345485837381212,5.246246207809292,5.131636936201509,-2.2146448993964647,10.901109780006179,-4.2428254936761665],\"type\":\"scatter\"}],                        {\"dragmode\":false,\"height\":500,\"width\":1000,\"xaxis\":{\"title\":{\"text\":\"X\"}},\"yaxis\":{\"title\":{\"text\":\"y\"}},\"template\":{\"data\":{\"histogram2dcontour\":[{\"type\":\"histogram2dcontour\",\"colorbar\":{\"outlinewidth\":0,\"ticks\":\"\"},\"colorscale\":[[0.0,\"#0d0887\"],[0.1111111111111111,\"#46039f\"],[0.2222222222222222,\"#7201a8\"],[0.3333333333333333,\"#9c179e\"],[0.4444444444444444,\"#bd3786\"],[0.5555555555555556,\"#d8576b\"],[0.6666666666666666,\"#ed7953\"],[0.7777777777777778,\"#fb9f3a\"],[0.8888888888888888,\"#fdca26\"],[1.0,\"#f0f921\"]]}],\"choropleth\":[{\"type\":\"choropleth\",\"colorbar\":{\"outlinewidth\":0,\"ticks\":\"\"}}],\"histogram2d\":[{\"type\":\"histogram2d\",\"colorbar\":{\"outlinewidth\":0,\"ticks\":\"\"},\"colorscale\":[[0.0,\"#0d0887\"],[0.1111111111111111,\"#46039f\"],[0.2222222222222222,\"#7201a8\"],[0.3333333333333333,\"#9c179e\"],[0.4444444444444444,\"#bd3786\"],[0.5555555555555556,\"#d8576b\"],[0.6666666666666666,\"#ed7953\"],[0.7777777777777778,\"#fb9f3a\"],[0.8888888888888888,\"#fdca26\"],[1.0,\"#f0f921\"]]}],\"heatmap\":[{\"type\":\"heatmap\",\"colorbar\":{\"outlinewidth\":0,\"ticks\":\"\"},\"colorscale\":[[0.0,\"#0d0887\"],[0.1111111111111111,\"#46039f\"],[0.2222222222222222,\"#7201a8\"],[0.3333333333333333,\"#9c179e\"],[0.4444444444444444,\"#bd3786\"],[0.5555555555555556,\"#d8576b\"],[0.6666666666666666,\"#ed7953\"],[0.7777777777777778,\"#fb9f3a\"],[0.8888888888888888,\"#fdca26\"],[1.0,\"#f0f921\"]]}],\"heatmapgl\":[{\"type\":\"heatmapgl\",\"colorbar\":{\"outlinewidth\":0,\"ticks\":\"\"},\"colorscale\":[[0.0,\"#0d0887\"],[0.1111111111111111,\"#46039f\"],[0.2222222222222222,\"#7201a8\"],[0.3333333333333333,\"#9c179e\"],[0.4444444444444444,\"#bd3786\"],[0.5555555555555556,\"#d8576b\"],[0.6666666666666666,\"#ed7953\"],[0.7777777777777778,\"#fb9f3a\"],[0.8888888888888888,\"#fdca26\"],[1.0,\"#f0f921\"]]}],\"contourcarpet\":[{\"type\":\"contourcarpet\",\"colorbar\":{\"outlinewidth\":0,\"ticks\":\"\"}}],\"contour\":[{\"type\":\"contour\",\"colorbar\":{\"outlinewidth\":0,\"ticks\":\"\"},\"colorscale\":[[0.0,\"#0d0887\"],[0.1111111111111111,\"#46039f\"],[0.2222222222222222,\"#7201a8\"],[0.3333333333333333,\"#9c179e\"],[0.4444444444444444,\"#bd3786\"],[0.5555555555555556,\"#d8576b\"],[0.6666666666666666,\"#ed7953\"],[0.7777777777777778,\"#fb9f3a\"],[0.8888888888888888,\"#fdca26\"],[1.0,\"#f0f921\"]]}],\"surface\":[{\"type\":\"surface\",\"colorbar\":{\"outlinewidth\":0,\"ticks\":\"\"},\"colorscale\":[[0.0,\"#0d0887\"],[0.1111111111111111,\"#46039f\"],[0.2222222222222222,\"#7201a8\"],[0.3333333333333333,\"#9c179e\"],[0.4444444444444444,\"#bd3786\"],[0.5555555555555556,\"#d8576b\"],[0.6666666666666666,\"#ed7953\"],[0.7777777777777778,\"#fb9f3a\"],[0.8888888888888888,\"#fdca26\"],[1.0,\"#f0f921\"]]}],\"mesh3d\":[{\"type\":\"mesh3d\",\"colorbar\":{\"outlinewidth\":0,\"ticks\":\"\"}}],\"scatter\":[{\"fillpattern\":{\"fillmode\":\"overlay\",\"size\":10,\"solidity\":0.2},\"type\":\"scatter\"}],\"parcoords\":[{\"type\":\"parcoords\",\"line\":{\"colorbar\":{\"outlinewidth\":0,\"ticks\":\"\"}}}],\"scatterpolargl\":[{\"type\":\"scatterpolargl\",\"marker\":{\"colorbar\":{\"outlinewidth\":0,\"ticks\":\"\"}}}],\"bar\":[{\"error_x\":{\"color\":\"#2a3f5f\"},\"error_y\":{\"color\":\"#2a3f5f\"},\"marker\":{\"line\":{\"color\":\"#E5ECF6\",\"width\":0.5},\"pattern\":{\"fillmode\":\"overlay\",\"size\":10,\"solidity\":0.2}},\"type\":\"bar\"}],\"scattergeo\":[{\"type\":\"scattergeo\",\"marker\":{\"colorbar\":{\"outlinewidth\":0,\"ticks\":\"\"}}}],\"scatterpolar\":[{\"type\":\"scatterpolar\",\"marker\":{\"colorbar\":{\"outlinewidth\":0,\"ticks\":\"\"}}}],\"histogram\":[{\"marker\":{\"pattern\":{\"fillmode\":\"overlay\",\"size\":10,\"solidity\":0.2}},\"type\":\"histogram\"}],\"scattergl\":[{\"type\":\"scattergl\",\"marker\":{\"colorbar\":{\"outlinewidth\":0,\"ticks\":\"\"}}}],\"scatter3d\":[{\"type\":\"scatter3d\",\"line\":{\"colorbar\":{\"outlinewidth\":0,\"ticks\":\"\"}},\"marker\":{\"colorbar\":{\"outlinewidth\":0,\"ticks\":\"\"}}}],\"scattermapbox\":[{\"type\":\"scattermapbox\",\"marker\":{\"colorbar\":{\"outlinewidth\":0,\"ticks\":\"\"}}}],\"scatterternary\":[{\"type\":\"scatterternary\",\"marker\":{\"colorbar\":{\"outlinewidth\":0,\"ticks\":\"\"}}}],\"scattercarpet\":[{\"type\":\"scattercarpet\",\"marker\":{\"colorbar\":{\"outlinewidth\":0,\"ticks\":\"\"}}}],\"carpet\":[{\"aaxis\":{\"endlinecolor\":\"#2a3f5f\",\"gridcolor\":\"white\",\"linecolor\":\"white\",\"minorgridcolor\":\"white\",\"startlinecolor\":\"#2a3f5f\"},\"baxis\":{\"endlinecolor\":\"#2a3f5f\",\"gridcolor\":\"white\",\"linecolor\":\"white\",\"minorgridcolor\":\"white\",\"startlinecolor\":\"#2a3f5f\"},\"type\":\"carpet\"}],\"table\":[{\"cells\":{\"fill\":{\"color\":\"#EBF0F8\"},\"line\":{\"color\":\"white\"}},\"header\":{\"fill\":{\"color\":\"#C8D4E3\"},\"line\":{\"color\":\"white\"}},\"type\":\"table\"}],\"barpolar\":[{\"marker\":{\"line\":{\"color\":\"#E5ECF6\",\"width\":0.5},\"pattern\":{\"fillmode\":\"overlay\",\"size\":10,\"solidity\":0.2}},\"type\":\"barpolar\"}],\"pie\":[{\"automargin\":true,\"type\":\"pie\"}]},\"layout\":{\"autotypenumbers\":\"strict\",\"colorway\":[\"#636efa\",\"#EF553B\",\"#00cc96\",\"#ab63fa\",\"#FFA15A\",\"#19d3f3\",\"#FF6692\",\"#B6E880\",\"#FF97FF\",\"#FECB52\"],\"font\":{\"color\":\"#2a3f5f\"},\"hovermode\":\"closest\",\"hoverlabel\":{\"align\":\"left\"},\"paper_bgcolor\":\"white\",\"plot_bgcolor\":\"#E5ECF6\",\"polar\":{\"bgcolor\":\"#E5ECF6\",\"angularaxis\":{\"gridcolor\":\"white\",\"linecolor\":\"white\",\"ticks\":\"\"},\"radialaxis\":{\"gridcolor\":\"white\",\"linecolor\":\"white\",\"ticks\":\"\"}},\"ternary\":{\"bgcolor\":\"#E5ECF6\",\"aaxis\":{\"gridcolor\":\"white\",\"linecolor\":\"white\",\"ticks\":\"\"},\"baxis\":{\"gridcolor\":\"white\",\"linecolor\":\"white\",\"ticks\":\"\"},\"caxis\":{\"gridcolor\":\"white\",\"linecolor\":\"white\",\"ticks\":\"\"}},\"coloraxis\":{\"colorbar\":{\"outlinewidth\":0,\"ticks\":\"\"}},\"colorscale\":{\"sequential\":[[0.0,\"#0d0887\"],[0.1111111111111111,\"#46039f\"],[0.2222222222222222,\"#7201a8\"],[0.3333333333333333,\"#9c179e\"],[0.4444444444444444,\"#bd3786\"],[0.5555555555555556,\"#d8576b\"],[0.6666666666666666,\"#ed7953\"],[0.7777777777777778,\"#fb9f3a\"],[0.8888888888888888,\"#fdca26\"],[1.0,\"#f0f921\"]],\"sequentialminus\":[[0.0,\"#0d0887\"],[0.1111111111111111,\"#46039f\"],[0.2222222222222222,\"#7201a8\"],[0.3333333333333333,\"#9c179e\"],[0.4444444444444444,\"#bd3786\"],[0.5555555555555556,\"#d8576b\"],[0.6666666666666666,\"#ed7953\"],[0.7777777777777778,\"#fb9f3a\"],[0.8888888888888888,\"#fdca26\"],[1.0,\"#f0f921\"]],\"diverging\":[[0,\"#8e0152\"],[0.1,\"#c51b7d\"],[0.2,\"#de77ae\"],[0.3,\"#f1b6da\"],[0.4,\"#fde0ef\"],[0.5,\"#f7f7f7\"],[0.6,\"#e6f5d0\"],[0.7,\"#b8e186\"],[0.8,\"#7fbc41\"],[0.9,\"#4d9221\"],[1,\"#276419\"]]},\"xaxis\":{\"gridcolor\":\"white\",\"linecolor\":\"white\",\"ticks\":\"\",\"title\":{\"standoff\":15},\"zerolinecolor\":\"white\",\"automargin\":true,\"zerolinewidth\":2},\"yaxis\":{\"gridcolor\":\"white\",\"linecolor\":\"white\",\"ticks\":\"\",\"title\":{\"standoff\":15},\"zerolinecolor\":\"white\",\"automargin\":true,\"zerolinewidth\":2},\"scene\":{\"xaxis\":{\"backgroundcolor\":\"#E5ECF6\",\"gridcolor\":\"white\",\"linecolor\":\"white\",\"showbackground\":true,\"ticks\":\"\",\"zerolinecolor\":\"white\",\"gridwidth\":2},\"yaxis\":{\"backgroundcolor\":\"#E5ECF6\",\"gridcolor\":\"white\",\"linecolor\":\"white\",\"showbackground\":true,\"ticks\":\"\",\"zerolinecolor\":\"white\",\"gridwidth\":2},\"zaxis\":{\"backgroundcolor\":\"#E5ECF6\",\"gridcolor\":\"white\",\"linecolor\":\"white\",\"showbackground\":true,\"ticks\":\"\",\"zerolinecolor\":\"white\",\"gridwidth\":2}},\"shapedefaults\":{\"line\":{\"color\":\"#2a3f5f\"}},\"annotationdefaults\":{\"arrowcolor\":\"#2a3f5f\",\"arrowhead\":0,\"arrowwidth\":1},\"geo\":{\"bgcolor\":\"white\",\"landcolor\":\"#E5ECF6\",\"subunitcolor\":\"white\",\"showland\":true,\"showlakes\":true,\"lakecolor\":\"white\"},\"title\":{\"x\":0.05},\"mapbox\":{\"style\":\"light\"}}}},                        {\"responsive\": true}                    ).then(function(){\n",
       "                            \n",
       "var gd = document.getElementById('61ca29ea-7190-4d13-891a-1736da947b39');\n",
       "var x = new MutationObserver(function (mutations, observer) {{\n",
       "        var display = window.getComputedStyle(gd).display;\n",
       "        if (!display || display === 'none') {{\n",
       "            console.log([gd, 'removed!']);\n",
       "            Plotly.purge(gd);\n",
       "            observer.disconnect();\n",
       "        }}\n",
       "}});\n",
       "\n",
       "// Listen for the removal of the full notebook cells\n",
       "var notebookContainer = gd.closest('#notebook-container');\n",
       "if (notebookContainer) {{\n",
       "    x.observe(notebookContainer, {childList: true});\n",
       "}}\n",
       "\n",
       "// Listen for the clearing of the current output cell\n",
       "var outputEl = gd.closest('.output');\n",
       "if (outputEl) {{\n",
       "    x.observe(outputEl, {childList: true});\n",
       "}}\n",
       "\n",
       "                        })                };                });            </script>        </div>"
      ]
     },
     "metadata": {},
     "output_type": "display_data"
    }
   ],
   "source": [
    "sample_size = 200\n",
    "\n",
    "real_alpha = 3; real_beta = 2;\n",
    "\n",
    "X = np.random.uniform(-3 , 3, sample_size)\n",
    "y = X*alpha + beta + np.random.normal(0, 3, sample_size)\n",
    "\n",
    "\n",
    "go.Figure(\n",
    "    go.Scatter(x = X, y=y, mode = 'markers', marker_size = 10),\n",
    "    layout={\n",
    "        \"xaxis_title\" : \"X\",\n",
    "        \"yaxis_title\" : \"y\",\n",
    "        \"width\" : 1000,\n",
    "        \"height\" : 500,\n",
    "        \"dragmode\" : False\n",
    "    }\n",
    ")"
   ]
  },
  {
   "cell_type": "markdown",
   "id": "e16e3a68-a4f3-42f5-bc86-d232b812a427",
   "metadata": {},
   "source": [
    "We need to find such a function $y=x\\alpha + \\beta$ that produces the closest line to the array of points. More precisely to find $\\alpha$ and $\\beta$ that corresponds closes line."
   ]
  },
  {
   "cell_type": "markdown",
   "id": "62bed8f0-2fcd-47e6-b32e-044aafadf47f",
   "metadata": {},
   "source": [
    "We will use MSE as a loss function:\n",
    "\n",
    "$$MSE(\\alpha, \\beta)=\\sum_{i=1}^n \\left[(x_i\\alpha + \\beta) - y_i\\right]^2$$"
   ]
  },
  {
   "cell_type": "markdown",
   "id": "a05134b9-fb2a-45b5-a263-13cdef6f2a50",
   "metadata": {},
   "source": [
    "The following code displays $MSE$ values for different values of $\\alpha$ and $\\beta$."
   ]
  },
  {
   "cell_type": "code",
   "execution_count": 73,
   "id": "89a8ffc8-6d29-4535-8df0-bdc2890665dc",
   "metadata": {},
   "outputs": [
    {
     "data": {
      "application/vnd.plotly.v1+json": {
       "config": {
        "plotlyServerURL": "https://plot.ly"
       },
       "data": [
        {
         "hovertemplate": "alpha:%{x}<br>beta:%{y}<br>Loss:%{z}<extra></extra>",
         "showscale": false,
         "type": "surface",
         "x": [
          0,
          0.12244897959183673,
          0.24489795918367346,
          0.36734693877551017,
          0.4897959183673469,
          0.6122448979591837,
          0.7346938775510203,
          0.8571428571428571,
          0.9795918367346939,
          1.1020408163265305,
          1.2244897959183674,
          1.346938775510204,
          1.4693877551020407,
          1.5918367346938775,
          1.7142857142857142,
          1.836734693877551,
          1.9591836734693877,
          2.0816326530612246,
          2.204081632653061,
          2.326530612244898,
          2.4489795918367347,
          2.571428571428571,
          2.693877551020408,
          2.816326530612245,
          2.9387755102040813,
          3.061224489795918,
          3.183673469387755,
          3.306122448979592,
          3.4285714285714284,
          3.5510204081632653,
          3.673469387755102,
          3.7959183673469385,
          3.9183673469387754,
          4.040816326530612,
          4.163265306122449,
          4.285714285714286,
          4.408163265306122,
          4.530612244897959,
          4.653061224489796,
          4.775510204081632,
          4.8979591836734695,
          5.020408163265306,
          5.142857142857142,
          5.26530612244898,
          5.387755102040816,
          5.5102040816326525,
          5.63265306122449,
          5.755102040816326,
          5.877551020408163,
          6
         ],
         "y": [
          -1,
          -0.8775510204081632,
          -0.7551020408163265,
          -0.6326530612244898,
          -0.5102040816326531,
          -0.3877551020408163,
          -0.26530612244897966,
          -0.1428571428571429,
          -0.020408163265306145,
          0.1020408163265305,
          0.22448979591836737,
          0.346938775510204,
          0.46938775510204067,
          0.5918367346938775,
          0.7142857142857142,
          0.8367346938775511,
          0.9591836734693877,
          1.0816326530612246,
          1.204081632653061,
          1.3265306122448979,
          1.4489795918367347,
          1.5714285714285712,
          1.693877551020408,
          1.816326530612245,
          1.9387755102040813,
          2.061224489795918,
          2.183673469387755,
          2.306122448979592,
          2.4285714285714284,
          2.5510204081632653,
          2.673469387755102,
          2.7959183673469385,
          2.9183673469387754,
          3.040816326530612,
          3.163265306122449,
          3.2857142857142856,
          3.408163265306122,
          3.5306122448979593,
          3.6530612244897958,
          3.775510204081632,
          3.8979591836734695,
          4.020408163265306,
          4.142857142857142,
          4.26530612244898,
          4.387755102040816,
          4.5102040816326525,
          4.63265306122449,
          4.755102040816326,
          4.877551020408163,
          5
         ],
         "z": [
          [
           8726.913569474773,
           8552.04062924952,
           8383.165190065498,
           8220.287251922711,
           8063.406814821155,
           7912.523878760834,
           7767.638443741744,
           7628.750509763886,
           7495.860076827263,
           7368.967144931872,
           7248.071714077712,
           7133.173784264787,
           7024.273355493095,
           6921.370427762635,
           6824.465001073408,
           6733.557075425413,
           6648.646650818651,
           6569.733727253124,
           6496.818304728828,
           6429.900383245764,
           6368.9799628039345,
           6314.057043403338,
           6265.131625043972,
           6222.203707725841,
           6185.273291448942,
           6154.340376213277,
           6129.404962018842,
           6110.467048865642,
           6097.526636753674,
           6090.58372568294,
           6089.638315653438,
           6094.69040666517,
           6105.7399987181325,
           6122.787091812328,
           6145.831685947758,
           6174.873781124421,
           6209.9133773423155,
           6250.950474601444,
           6297.9850729018035,
           6351.017172243397,
           6410.046772626223,
           6475.073874050282,
           6546.0984765155745,
           6623.1205800221,
           6706.1401845698565,
           6795.157290158846,
           6890.17189678907,
           6991.184004460525,
           7098.1936131732145,
           7211.200722927137
          ],
          [
           8314.325290030038,
           8140.869998310569,
           7973.4122076323365,
           7811.951917995335,
           7656.489129399566,
           7507.02384184503,
           7363.556055331727,
           7226.085769859657,
           7094.61298542882,
           6969.137702039216,
           6849.659919690844,
           6736.1796383837045,
           6628.696858117799,
           6527.211578893125,
           6431.723800709686,
           6342.233523567478,
           6258.740747466503,
           6181.245472406761,
           6109.7476983882525,
           6044.247425410976,
           5984.744653474932,
           5931.239382580122,
           5883.731612726544,
           5842.2213439142,
           5806.708576143088,
           5777.193309413207,
           5753.675543724561,
           5736.1552790771475,
           5724.632515470967,
           5719.107252906018,
           5719.579491382303,
           5726.049230899821,
           5738.516471458572,
           5756.981213058554,
           5781.443455699771,
           5811.903199382219,
           5848.3604441059015,
           5890.8151898708165,
           5939.2674366769625,
           5993.717184524343,
           6054.164433412956,
           6120.609183342802,
           6193.05143431388,
           6271.491186326191,
           6355.928439379736,
           6446.3631934745135,
           6542.795448610523,
           6645.2252047877655,
           6753.652462006241,
           6868.07722026595
          ],
          [
           7918.569867577381,
           7746.532224363702,
           7580.492082191254,
           7420.44944106004,
           7266.404300970057,
           7118.356661921309,
           6976.306523913792,
           6840.253886947509,
           6710.198751022458,
           6586.14111613864,
           6468.0809822960555,
           6356.018349494704,
           6249.9532177345845,
           6149.885587015698,
           6055.815457338045,
           5967.742828701623,
           5885.667701106436,
           5809.5900745524805,
           5739.509949039759,
           5675.427324568269,
           5617.342201138012,
           5565.254578748989,
           5519.164457401197,
           5479.071837094639,
           5444.976717829314,
           5416.879099605221,
           5394.778982422361,
           5378.676366280734,
           5368.57125118034,
           5364.463637121178,
           5366.3535241032505,
           5374.2409121265555,
           5388.125801191092,
           5408.008191296862,
           5433.888082443864,
           5465.7654746321,
           5503.640367861568,
           5547.51276213227,
           5597.382657444205,
           5653.25005379737,
           5715.11495119177,
           5782.977349627403,
           5856.837249104268,
           5936.694649622366,
           6022.549551181697,
           6114.401953782261,
           6212.251857424058,
           6316.099262107087,
           6425.944167831349,
           6541.786574596845
          ],
          [
           7539.647302116808,
           7369.027307408915,
           7204.404813742253,
           7045.779821116826,
           6893.1523295326315,
           6746.522338989668,
           6605.889849487939,
           6471.2548610274425,
           6342.617373608178,
           6219.977387230147,
           6103.3349018933495,
           5992.689917597784,
           5888.0424343434515,
           5789.3924521303525,
           5696.739970958485,
           5610.084990827851,
           5529.42751173845,
           5454.767533690281,
           5386.1050566833455,
           5323.440080717643,
           5266.772605793172,
           5216.102631909936,
           5171.4301590679315,
           5132.75518726716,
           5100.0777165076215,
           5073.3977467893155,
           5052.715278112243,
           5038.0303104764025,
           5029.342843881795,
           5026.65287832842,
           5029.9604138162795,
           5039.2654503453705,
           5054.567987915694,
           5075.868026527251,
           5103.16556618004,
           5136.460606874061,
           5175.753148609318,
           5221.043191385806,
           5272.330735203526,
           5329.61578006248,
           5392.898325962666,
           5462.178372904085,
           5537.455920886738,
           5618.730969910623,
           5706.00351997574,
           5799.273571082091,
           5898.541123229675,
           6003.80617641849,
           6115.068730648539,
           6232.328785919821
          ],
          [
           7177.557593648316,
           7008.3552474462085,
           6845.150402285335,
           6687.943058165693,
           6536.733215087285,
           6391.52087305011,
           6252.306032054167,
           6119.088692099457,
           5991.868853185981,
           5870.646515313736,
           5755.421678482724,
           5646.1943426929465,
           5542.9645079444,
           5445.732174237088,
           5354.497341571007,
           5269.26000994616,
           5190.020179362546,
           5116.777849820163,
           5049.533021319015,
           4988.285693859099,
           4933.035867440415,
           4883.783542062965,
           4840.528717726747,
           4803.271394431763,
           4772.011572178011,
           4746.749250965491,
           4727.484430794206,
           4714.217111664152,
           4706.947293575331,
           4705.674976527744,
           4710.400160521388,
           4721.122845556267,
           4737.843031632377,
           4760.560718749721,
           4789.275906908297,
           4823.988596108105,
           4864.698786349147,
           4911.406477631423,
           4964.111669954929,
           5022.8143633196705,
           5087.514557725644,
           5158.212253172849,
           5234.907449661288,
           5317.60014719096,
           5406.290345761864,
           5500.978045374002,
           5601.663246027372,
           5708.345947721975,
           5821.02615045781,
           5939.703854234879
          ],
          [
           6832.300742171903,
           6664.516044475584,
           6502.728847820497,
           6346.939152206642,
           6197.1469576340205,
           6053.352264102633,
           5915.555071612476,
           5783.755380163553,
           5657.953189755863,
           5538.148500389405,
           5424.34131206418,
           5316.531624780189,
           5214.71943853743,
           5118.904753335904,
           5029.08756917561,
           4945.26788605655,
           4867.445703978721,
           4795.621022942127,
           4729.793842946765,
           4669.964163992636,
           4616.131986079739,
           4568.297309208076,
           4526.460133377645,
           4490.620458588446,
           4460.778284840481,
           4436.933612133749,
           4419.08644046825,
           4407.236769843983,
           4401.384600260949,
           4401.5299317191475,
           4407.67276421858,
           4419.813097759245,
           4437.950932341142,
           4462.086267964271,
           4492.219104628635,
           4528.349442334231,
           4570.477281081059,
           4618.60262086912,
           4672.725461698415,
           4732.845803568942,
           4798.963646480703,
           4871.078990433694,
           4949.1918354279205,
           5033.3021814633785,
           5123.41002854007,
           5219.515376657993,
           5321.61822581715,
           5429.71857601754,
           5543.816427259162,
           5663.911779542018
          ],
          [
           6503.876747687575,
           6337.509698497041,
           6177.140150347741,
           6022.768103239674,
           5874.393557172838,
           5732.016512147236,
           5595.636968162868,
           5465.254925219731,
           5340.870383317828,
           5222.483342457157,
           5110.093802637719,
           5003.701763859513,
           4903.307226122542,
           4808.910189426802,
           4720.510653772295,
           4638.108619159022,
           4561.70408558698,
           4491.297053056172,
           4426.887521566597,
           4368.4754911182545,
           4316.060961711144,
           4269.643933345268,
           4229.224406020623,
           4194.8023797372125,
           4166.377854495034,
           4143.9508302940885,
           4127.521307134376,
           4117.089285015895,
           4112.654763938648,
           4114.2177439026345,
           4121.778224907853,
           4135.336206954304,
           4154.891690041988,
           4180.444674170904,
           4211.995159341055,
           4249.543145552437,
           4293.088632805053,
           4342.631621098901,
           4398.172110433981,
           4459.710100810295,
           4527.245592227842,
           4600.778584686622,
           4680.309078186633,
           4765.837072727879,
           4857.362568310356,
           4954.885564934067,
           5058.4060625990105,
           5167.924061305188,
           5283.439561052597,
           5404.952561841239
          ],
          [
           6192.2856101953275,
           6027.33620951058,
           5868.384309867068,
           5715.429911264786,
           5568.473013703737,
           5427.513617183922,
           5292.55172170534,
           5163.587327267989,
           5040.620433871873,
           4923.65104151699,
           4812.6791502033375,
           4707.704759930919,
           4608.727870699735,
           4515.748482509782,
           4428.766595361061,
           4347.782209253574,
           4272.79532418732,
           4203.805940162299,
           4140.81405717851,
           4083.8196752359545,
           4032.822794334632,
           3987.823414474541,
           3948.821535655684,
           3915.8171578780593,
           3888.8102811416675,
           3867.8009054465088,
           3852.7890307925827,
           3843.7746571798893,
           3840.7577846084287,
           3843.738413078201,
           3852.7165425892067,
           3867.692173141444,
           3888.6653047349155,
           3915.6359373696187,
           3948.6040710455554,
           3987.569705762725,
           4032.532841521127,
           4083.493478320762,
           4140.451616161629,
           4203.40725504373,
           4272.360394967063,
           4347.31103593163,
           4428.259177937429,
           4515.20482098446,
           4608.147965072725,
           4707.088610202222,
           4812.026756372952,
           4922.962403584916,
           5039.895551838112,
           5162.8262011325405
          ],
          [
           5897.52732969516,
           5733.9955775162,
           5576.461326378473,
           5424.924576281979,
           5279.385327226718,
           5139.843579212689,
           5006.299332239894,
           4878.752586308331,
           4757.2033414180005,
           4641.6515975689035,
           4532.097354761039,
           4428.540612994408,
           4330.981372269009,
           4239.4196325848425,
           4153.855393941909,
           4074.288656340209,
           4000.7194197797417,
           3933.1476842605066,
           3871.5734497825047,
           3815.996716345736,
           3766.4174839501993,
           3722.8357525958963,
           3685.251522282825,
           3653.6647930109875,
           3628.0755647803826,
           3608.4838375910103,
           3594.8896114428712,
           3587.292886335965,
           3585.6936622702906,
           3590.09193924585,
           3600.487717262642,
           3616.880996320667,
           3639.271776419924,
           3667.6600575604143,
           3702.045839742138,
           3742.4291229650935,
           3788.8099072292825,
           3841.1881925347047,
           3899.5639788813587,
           3963.937266269246,
           4034.3080546983665,
           4110.676344168719,
           4193.042134680305,
           4281.405426233124,
           4375.766218827175,
           4476.124512462458,
           4582.480307138976,
           4694.833602856726,
           4813.184399615709,
           4937.532697415925
          ],
          [
           5619.601906187076,
           5457.487802513902,
           5301.371199881962,
           5151.252098291254,
           5007.130497741779,
           4869.006398233538,
           4736.87979976653,
           4610.7507023407525,
           4490.61910595621,
           4376.4850106129,
           4268.3484163108205,
           4166.209323049977,
           4070.067730830365,
           3979.923639651985,
           3895.7770495148384,
           3817.627960418925,
           3745.4763723642445,
           3679.322285350796,
           3619.165699378582,
           3565.006614447599,
           3516.845030557849,
           3474.6809477093325,
           3438.5143659020487,
           3408.3452851359975,
           3384.17370541118,
           3365.9996267275937,
           3353.823049085241,
           3347.643972484121,
           3347.462396924235,
           3353.27832240558,
           3365.0917489281587,
           3382.9026764919704,
           3406.711105097015,
           3436.517034743292,
           3472.320465430802,
           3514.1213971595444,
           3561.9198299295203,
           3615.715763740729,
           3675.50919859317,
           3741.3001344868435,
           3813.088571421751,
           3890.8745093978905,
           3974.6579484152626,
           4064.4388884738682,
           4160.217329573707,
           4261.993271714777,
           4369.766714897081,
           4483.537659120619,
           4603.306104385387,
           4729.072050691389
          ],
          [
           5358.509339671071,
           5197.8128845036845,
           5043.113930377532,
           4894.412477292611,
           4751.708525248923,
           4615.002074246468,
           4484.293124285245,
           4359.581675365256,
           4240.8677274864995,
           4128.151280648975,
           4021.4323348526846,
           3920.7108900976264,
           3825.9869463838013,
           3737.260503711208,
           3654.5315620798488,
           3577.800121489722,
           3507.066181940828,
           3442.329743433167,
           3383.590805966738,
           3330.8493695415427,
           3284.10543415758,
           3243.35899981485,
           3208.6100665133526,
           3179.8586342530884,
           3157.104703034057,
           3140.348272856258,
           3129.5893437196924,
           3124.8279156243593,
           3126.0639885702594,
           3133.2975625573918,
           3146.528637585757,
           3165.7572136553554,
           3190.9832907661867,
           3222.2068689182506,
           3259.4279481115473,
           3302.6465283460766,
           3351.8626096218386,
           3407.076191938834,
           3468.287275297062,
           3535.4958596965225,
           3608.701945137216,
           3687.9055316191425,
           3773.1066191423015,
           3864.305207706694,
           3961.5012973123194,
           4064.694887959176,
           4173.885979647268,
           4289.07457237659,
           4410.260666147146,
           4537.444260958937
          ],
          [
           5114.249630147149,
           4954.97082348555,
           4801.689517865183,
           4654.405713286049,
           4513.1194097481475,
           4377.83060725148,
           4248.539305796044,
           4125.245505381841,
           4007.9492060088714,
           3896.6504076771344,
           3791.34911038663,
           3692.0453141373587,
           3598.73901892932,
           3511.4302247625146,
           3430.118931636941,
           3354.805139552601,
           3285.488848509494,
           3222.170058507619,
           3164.8487695469776,
           3113.5249816275686,
           3068.1986947493924,
           3028.8699089124493,
           2995.5386241167394,
           2968.204840362261,
           2946.868557649017,
           2931.5297759770046,
           2922.1884953462254,
           2918.844715756679,
           2921.4984372083654,
           2930.1496597012847,
           2944.798383235437,
           2965.444607810822,
           2992.0883334274395,
           3024.7295600852904,
           3063.368287784374,
           3108.00451652469,
           3158.6382463062396,
           3215.2694771290217,
           3277.898208993036,
           3346.524441898283,
           3421.148175844764,
           3501.7694108324768,
           3588.3881468614227,
           3681.004383931602,
           3779.618122043013,
           3884.2293611956575,
           3994.838101389535,
           4111.444342624645,
           4234.048084900987,
           4362.649328218564
          ],
          [
           4886.822777615308,
           4728.9616194594955,
           4577.097962344915,
           4431.2318062715685,
           4291.363151239453,
           4157.491997248571,
           4029.618344298924,
           3907.7421923905076,
           3791.863541523324,
           3681.9823916973737,
           3578.0987429126562,
           3480.2125951691714,
           3388.3239484669202,
           3302.432802805901,
           3222.539158186115,
           3148.643014607562,
           3080.744372070241,
           3018.8432305741526,
           2962.9395901192984,
           2913.033450705676,
           2869.124812333286,
           2831.2136750021305,
           2799.3000387122065,
           2773.3839034635157,
           2753.4652692560576,
           2739.5441360898326,
           2731.6205039648403,
           2729.6943728810807,
           2733.7657428385537,
           2743.83461383726,
           2759.9009858771988,
           2781.9648589583703,
           2810.026233080775,
           2844.0851082444124,
           2884.141484449283,
           2930.1953616953856,
           2982.246739982721,
           3040.29561931129,
           3104.3419996810912,
           3174.385881092125,
           3250.427263544393,
           3332.4661470378924,
           3420.5025315726252,
           3514.5364171485908,
           3614.567803765789,
           3720.59669142422,
           3832.6230801238844,
           3950.646969864781,
           4074.66836064691,
           4204.687252470273
          ],
          [
           4676.228782075548,
           4519.785272425523,
           4369.33926381673,
           4224.890756249169,
           4086.4397497228406,
           3953.986244237746,
           3827.5302397938844,
           3707.0717363912554,
           3592.6107340298586,
           3484.1472327096953,
           3381.6812324307643,
           3285.212733193066,
           3194.7417349966013,
           3110.2682378413692,
           3031.7922417273694,
           2959.3137466546027,
           2892.8327526230687,
           2832.349259632768,
           2777.8632676836996,
           2729.374776775864,
           2686.8837869092617,
           2650.390298083892,
           2619.8943102997555,
           2595.3958235568507,
           2576.89483785518,
           2564.3913531947414,
           2557.8853695755356,
           2557.376886997563,
           2562.8659054608224,
           2574.3524249653155,
           2591.8364455110413,
           2615.3179670979994,
           2644.796989726191,
           2680.273513395615,
           2721.747538106272,
           2769.2190638581615,
           2822.6880906512843,
           2882.1546184856397,
           2947.6186473612274,
           3019.0801772780487,
           3096.5392082361027,
           3179.995740235389,
           3269.4497732759082,
           3364.9013073576607,
           3466.350342480646,
           3573.7968786448637,
           3687.240915850315,
           3806.6824540969983,
           3932.121493384914,
           4063.5580337140636
          ],
          [
           4482.467643527871,
           4327.441782383631,
           4178.413422280624,
           4035.382563218851,
           3898.3492051983108,
           3767.3133482190024,
           3642.274992280927,
           3523.2341373840845,
           3410.1907835284746,
           3303.144930714098,
           3202.096578940954,
           3107.0457282090424,
           3017.9923785183646,
           2934.936529868918,
           2857.878182260706,
           2786.8173356937264,
           2721.753990167979,
           2662.688145683465,
           2609.619802240183,
           2562.5489598381346,
           2521.4756184773187,
           2486.399778157736,
           2457.3214388793854,
           2434.240600642268,
           2417.1572634463837,
           2406.071427291732,
           2400.983092178313,
           2401.892258106127,
           2408.7989250751734,
           2421.703093085453,
           2440.6047621369653,
           2465.5039322297107,
           2496.400603363689,
           2533.2947755388996,
           2576.186448755343,
           2625.0756230130196,
           2679.962298311929,
           2740.8464746520713,
           2807.728152033446,
           2880.607330456053,
           2959.4840099198946,
           3044.3581904249677,
           3135.2298719712735,
           3232.099054558813,
           3334.965738187585,
           3443.829922857589,
           3558.6916085688267,
           3679.550795321297,
           3806.407483115,
           3939.2616719499365
          ],
          [
           4305.5393619722745,
           4151.931149333822,
           4004.320437736602,
           3862.7072271806146,
           3727.091517665861,
           3597.473309192339,
           3473.8526017600507,
           3356.2293953689946,
           3244.603690019172,
           3138.975485710582,
           3039.344782443224,
           2945.7115802171,
           2858.0758790322084,
           2776.4376788885493,
           2700.7969797861233,
           2631.1537817249305,
           2567.5080847049703,
           2509.8598887262424,
           2458.209193788748,
           2412.555999892486,
           2372.900307037457,
           2339.2421152236607,
           2311.581424451097,
           2289.9182347197666,
           2274.252546029669,
           2264.5843583808037,
           2260.9136717731717,
           2263.2404862067724,
           2271.564801681606,
           2285.886618197672,
           2306.2059357549706,
           2332.522754353503,
           2364.837073993268,
           2403.1488946742647,
           2447.4582163964956,
           2497.7650391599586,
           2554.069362964655,
           2616.371187810584,
           2684.6705136977453,
           2758.96734062614,
           2839.2616685957673,
           2925.5534976066274,
           3017.84282765872,
           3116.1296587520465,
           3220.4139908866046,
           3330.6958240623953,
           3446.9751582794206,
           3569.2519935376768,
           3697.5263298371665,
           3831.79816717789
          ],
          [
           4145.44393740876,
           3993.2533732760935,
           3847.0603101846605,
           3706.86474813446,
           3572.666687125493,
           3444.466127157758,
           3322.263068231256,
           3206.057510345987,
           3095.849453501951,
           2991.6388976991475,
           2893.4258429375773,
           2801.2102892172397,
           2714.9922365381344,
           2634.7716849002622,
           2560.5486343036227,
           2492.3230847482164,
           2430.095036234043,
           2373.864488761102,
           2323.6314423293943,
           2279.3958969389187,
           2241.1578525896766,
           2208.9173092816673,
           2182.6742670148906,
           2162.4287257893466,
           2148.1806856050353,
           2139.9301464619575,
           2137.6771083601116,
           2141.421571299499,
           2151.1635352801195,
           2166.9030003019725,
           2188.639966365058,
           2216.3744334693765,
           2250.1064016149285,
           2289.835870801712,
           2335.5628410297295,
           2387.2873122989795,
           2445.009284609462,
           2508.7287579611784,
           2578.4457323541264,
           2654.160207788307,
           2735.8721842637215,
           2823.5816617803684,
           2917.288640338248,
           3016.993119937361,
           3122.6951005777055,
           3234.394582259284,
           3352.0915649820954,
           3475.7860487461394,
           3605.4780335514147,
           3741.167519397925
          ],
          [
           4002.1813698373253,
           3851.4084542104465,
           3706.6330396247995,
           3567.8551260803865,
           3435.074713577206,
           3308.2918021152573,
           3187.506391694543,
           3072.71848231506,
           2963.928073976811,
           2861.1351666797946,
           2764.339760424011,
           2673.5418552094598,
           2588.7414510361414,
           2509.9385479040557,
           2437.1331458132036,
           2370.325244763584,
           2309.5148447551974,
           2254.701945788043,
           2205.886547862122,
           2163.068650977433,
           2126.2482551339776,
           2095.425360331755,
           2070.599966570765,
           2051.772073851008,
           2038.9416821724833,
           2032.1087915351916,
           2031.2734019391332,
           2036.4355133843073,
           2047.5951258707141,
           2064.752239398354,
           2087.906853967226,
           2117.0589695773315,
           2152.2085862286704,
           2193.355703921241,
           2240.5003226550452,
           2293.6424424300817,
           2352.7820632463513,
           2417.9191851038536,
           2489.053808002589,
           2566.1859319425566,
           2649.315556923758,
           2738.442682946191,
           2833.5673100098575,
           2934.689438114757,
           3041.8090672608887,
           3154.9261974482533,
           3274.0408286768516,
           3399.152960946682,
           3530.262594257745,
           3667.3697286100414
          ],
          [
           3875.751659257974,
           3726.3963921368813,
           3583.0386260570212,
           3445.678361018395,
           3314.315597021001,
           3188.95033406484,
           3069.5825721499114,
           2956.2123112762156,
           2848.839551443753,
           2747.464292652523,
           2652.086534902526,
           2562.706278193762,
           2479.32352252623,
           2401.938267899932,
           2330.550514314866,
           2265.160261771033,
           2205.767510268433,
           2152.3722598070653,
           2104.974510386931,
           2063.574262008029,
           2028.1715146703602,
           1998.7662683739245,
           1975.3585231187212,
           1957.9482789047509,
           1946.5355357320134,
           1941.1202936005084,
           1941.7025525102363,
           1948.282312461197,
           1960.859573453391,
           1979.4343354868176,
           2004.0065985614765,
           2034.576362677369,
           2071.1436278344936,
           2113.708394032851,
           2162.2706612724423,
           2216.8304295532653,
           2277.387698875322,
           2343.942469238611,
           2416.494740643133,
           2495.0445130888875,
           2579.5917865758747,
           2670.136561104095,
           2766.678836673548,
           2869.2186132842344,
           2977.7558909361533,
           3092.2906696293044,
           3212.8229493636895,
           3339.352730139306,
           3471.880011956156,
           3610.4047948142397
          ],
          [
           3766.1548056707024,
           3618.217187055397,
           3476.2770694813244,
           3340.334452948484,
           3210.3893374568765,
           3086.441723006502,
           2968.4916095973613,
           2856.5389972294524,
           2750.583885902776,
           2650.626275617333,
           2556.6661663731225,
           2468.703558170145,
           2386.7384510084007,
           2310.7708448878884,
           2240.8007398086097,
           2176.828135770563,
           2118.85303277375,
           2066.875430818169,
           2020.8953299038214,
           1980.9127300307068,
           1946.9276311988242,
           1918.9400334081752,
           1896.9499366587588,
           1880.9573409505747,
           1870.9622462836242,
           1866.964652657906,
           1868.964560073421,
           1876.9619685301684,
           1890.9568780281488,
           1910.9492885673621,
           1936.9392001478082,
           1968.9266127694868,
           2006.9115264323987,
           2050.8939411365427,
           2100.873856881921,
           2156.8512736685307,
           2218.826191496373,
           2286.79861036545,
           2360.768530275758,
           2440.7359512272988,
           2526.700873220074,
           2618.6632962540807,
           2716.6232203293202,
           2820.5806454457934,
           2930.535571603499,
           3046.487998802437,
           3168.437927042609,
           3296.3853563240123,
           3430.3302866466493,
           3570.272718010519
          ],
          [
           3673.3908090755135,
           3526.870838965994,
           3386.348369897708,
           3251.8234018706553,
           3123.295934884835,
           3000.7659689402467,
           2884.2335040368926,
           2773.69854017477,
           2669.1610773538805,
           2570.6211155742244,
           2478.0786548358005,
           2391.53369513861,
           2310.986236482652,
           2236.436278867927,
           2167.883822294434,
           2105.328866762175,
           2048.771412271148,
           1998.2114588213542,
           1953.6490064127936,
           1915.0840550454652,
           1882.5166047193698,
           1855.9466554345072,
           1835.3742071908778,
           1820.7992599884806,
           1812.2218138273165,
           1809.6418687073851,
           1813.0594246286867,
           1822.4744815912209,
           1837.887039594988,
           1859.2970986399882,
           1886.704658726221,
           1920.1097198536866,
           1959.512282022385,
           2004.912345232316,
           2056.3099094834806,
           2113.704974775877,
           2177.097541109507,
           2246.48760848437,
           2321.875176900465,
           2403.2602463577928,
           2490.6428168563543,
           2584.022888396148,
           2683.400460977174,
           2788.775534599434,
           2900.148109262926,
           3017.518184967651,
           3140.885761713609,
           3270.2508395008,
           3405.6134183292234,
           3546.97349819888
          ],
          [
           3597.459669472406,
           3452.3573478686735,
           3313.2525273061738,
           3180.1452077849076,
           3053.0353893048737,
           2931.9230718660724,
           2816.8082554685047,
           2707.6909401121693,
           2604.571125797067,
           2507.4488125231974,
           2416.3240002905604,
           2331.196689099156,
           2252.066878948985,
           2178.9345698400466,
           2111.799761772341,
           2050.6624547458687,
           1995.5226487606283,
           1946.380343816621,
           1903.235539913847,
           1866.0882370523054,
           1834.9384352319971,
           1809.786134452921,
           1790.631334715078,
           1777.4740360184678,
           1770.3142383630902,
           1769.1519417489458,
           1773.987146176034,
           1784.8198516443551,
           1801.650058153909,
           1824.4777657046957,
           1853.302974296715,
           1888.1256839299676,
           1928.9458946044529,
           1975.7636063201708,
           2028.5788190771218,
           2087.3915328753055,
           2152.2017477147215,
           2223.009463595371,
           2299.814680517253,
           2382.6173984803677,
           2471.417617484716,
           2566.215337530296,
           2667.010558617109,
           2773.803280745156,
           2886.593503914434,
           3005.3812281249466,
           3130.1664533766916,
           3260.9491796696684,
           3397.729407003879,
           3540.507135379322
          ],
          [
           3538.3613868613793,
           3394.6767137634342,
           3256.989541706721,
           3125.2998706912413,
           2999.6077007169943,
           2879.91303178398,
           2766.2158638921987,
           2658.51619704165,
           2556.814031232334,
           2461.1093664642513,
           2371.4022027374012,
           2287.692540051784,
           2209.9803784073993,
           2138.2657178042477,
           2072.548558242329,
           2012.8288997216428,
           1959.10674224219,
           1911.3820858039694,
           1869.6549304069817,
           1833.925276051227,
           1804.1931227367052,
           1780.458470463416,
           1762.7213192313598,
           1750.9816690405362,
           1745.2395198909458,
           1745.4948717825878,
           1751.747724715463,
           1763.9980786895705,
           1782.2459337049113,
           1806.4912897614847,
           1836.7341468592908,
           1872.9745049983298,
           1915.212364178602,
           1963.4477244001066,
           2017.6805856628444,
           2077.910947966815,
           2144.138811312018,
           2216.3641756984543,
           2294.5870411261226,
           2378.8074075950244,
           2469.0252751051594,
           2565.240643656526,
           2667.453513249126,
           2775.6638838829595,
           2889.8717555580247,
           3010.0771282743226,
           3136.280002031855,
           3268.480376830619,
           3406.6782526706156,
           3550.873629551846
          ],
          [
           3496.0959612424344,
           3353.828936650276,
           3217.559413099349,
           3087.2873905896568,
           2963.012869121196,
           2844.7358486939684,
           2732.456329307974,
           2626.1743109632125,
           2525.889793659683,
           2431.6027773973874,
           2343.3132621763234,
           2261.021247996493,
           2184.7267348578953,
           2114.4297227605302,
           2050.1302117043983,
           1991.828201689499,
           1939.5236927158326,
           1893.216684783399,
           1852.9071778921984,
           1818.59517204223,
           1790.280667233495,
           1767.9636634659926,
           1751.6441607397232,
           1741.3221590546864,
           1736.9976584108822,
           1738.6706588083114,
           1746.3411602469732,
           1760.0091627268678,
           1779.674666247995,
           1805.3376708103553,
           1836.9981764139484,
           1874.6561830587739,
           1918.3116907448327,
           1967.964699472124,
           2023.6152092406487,
           2085.2632200504054,
           2152.908731901395,
           2226.551744793618,
           2306.1922587270737,
           2391.830273701762,
           2483.465789717684,
           2581.0988067748376,
           2684.729324873224,
           2794.357344012844,
           2909.9828641936965,
           3031.6058854157814,
           3159.2264076791,
           3292.8444309836505,
           3432.4599553294343,
           3578.0729807164516
          ],
          [
           3470.6633926155705,
           3329.814016529199,
           3194.962141484059,
           3066.107767480153,
           2943.25089451748,
           2826.3915225960386,
           2715.529651715831,
           2610.665281876856,
           2511.7984130791137,
           2418.929045322604,
           2332.057178607327,
           2251.1828129332835,
           2176.3059483004727,
           2107.4265847088946,
           2044.5447221585491,
           1987.6603606494366,
           1936.7735001815568,
           1891.8841407549098,
           1852.992282369496,
           1820.0979250253145,
           1793.201068722366,
           1772.3017134606505,
           1757.3998592401676,
           1748.4955060609177,
           1745.5886539229004,
           1748.6793028261163,
           1757.767452770565,
           1772.8531037562461,
           1793.93625578316,
           1821.016908851307,
           1854.0950629606868,
           1893.1707181112993,
           1938.2438743031448,
           1989.314531536223,
           2046.382689810534,
           2109.4483491260776,
           2178.5115094828543,
           2253.572170880864,
           2334.6303333201063,
           2421.685996800581,
           2514.7391613222894,
           2613.78982688523,
           2718.8379934894033,
           2829.8836611348097,
           2946.9268298214492,
           3069.967499549321,
           3199.0056703184264,
           3334.0413421287635,
           3475.074514980334,
           3622.1051888731376
          ],
          [
           3462.0636809807884,
           3322.631953400203,
           3189.1977268608507,
           3061.7610013627313,
           2940.3217769058447,
           2824.88005349019,
           2715.4358311157694,
           2611.9891097825807,
           2514.5398894906252,
           2423.088170239903,
           2337.6339520304127,
           2258.177234862156,
           2184.7180187351314,
           2117.2563036493398,
           2055.7920896047817,
           2000.3253766014554,
           1950.8561646393625,
           1907.3844537185023,
           1869.9102438388752,
           1838.4335350004806,
           1812.9543272033188,
           1793.47262044739,
           1779.9884147326939,
           1772.5017100592306,
           1771.012506427,
           1775.5208038360024,
           1786.026602286238,
           1802.5299017777058,
           1825.0307023104067,
           1853.5290038843405,
           1888.0248064995067,
           1928.518110155906,
           1975.0089148535383,
           2027.4972205924032,
           2085.983027372501,
           2150.4663351938316,
           2220.947144056395,
           2297.425453960191,
           2379.90126490522,
           2468.3745768914823,
           2562.845389918977,
           2663.3137039877042,
           2769.779519097665,
           2882.242835248858,
           3000.7036524412833,
           3125.161970674942,
           3255.6177899498343,
           3392.0711102659584,
           3534.521931623315,
           3682.970254021906
          ],
          [
           3470.296826338088,
           3332.28274726329,
           3200.266169229724,
           3074.2470922373905,
           2954.2255162862903,
           2840.2014413764236,
           2732.174867507789,
           2630.1457946803876,
           2534.114222894219,
           2444.0801521492826,
           2360.0435824455794,
           2282.0045137831094,
           2209.962946161872,
           2143.918879581867,
           2083.872314043095,
           2029.8232495455559,
           1981.77168608925,
           1939.7176236741764,
           1903.6610623003357,
           1873.6020019677278,
           1849.540442676353,
           1831.4763844262106,
           1819.4098272173014,
           1813.340771049625,
           1813.2692159231815,
           1819.1951618379703,
           1831.1186087939923,
           1849.0395567912474,
           1872.9580058297347,
           1902.8739559094552,
           1938.7874070304083,
           1980.6983591925944,
           2028.606812396013,
           2082.5127666406647,
           2142.416221926549,
           2208.3171782536665,
           2280.2156356220166,
           2358.1115940316,
           2442.005053482416,
           2531.896013974464,
           2627.784475507746,
           2729.6704380822594,
           2837.553901698007,
           2951.4348663549868,
           3071.3133320531997,
           3197.189298792645,
           3329.0627665733236,
           3466.933735395234,
           3610.8022052583783,
           3760.6681761627556
          ],
          [
           3495.362828687469,
           3358.766398118457,
           3228.1674685906773,
           3103.566040104132,
           2984.9621126588186,
           2872.3556862547384,
           2765.74676089189,
           2665.1353365702753,
           2570.521413289893,
           2481.9049910507442,
           2399.2860698528275,
           2322.664649696144,
           2252.0407305806934,
           2187.4143125064757,
           2128.7853954734906,
           2076.153979481738,
           2029.5200645312182,
           1988.8836506219318,
           1954.2447377538779,
           1925.603325927057,
           1902.9594151414685,
           1886.313005397113,
           1875.6640966939904,
           1871.012689032101,
           1872.358782411444,
           1879.7023768320198,
           1893.0434722938285,
           1912.38206879687,
           1937.7181663411443,
           1969.0517649266517,
           2006.3828645533918,
           2049.711465221364,
           2099.03756693057,
           2154.3611696810085,
           2215.6822734726798,
           2283.0008783055837,
           2356.3169841797203,
           2435.6305910950905,
           2520.9416990516925,
           2612.250308049528,
           2709.5564180885967,
           2812.860029168897,
           2922.1611412904304,
           3037.459754453198,
           3158.755868657197,
           3286.049483902429,
           3419.3406001888948,
           3558.6292175165922,
           3703.915335885523,
           3855.198955295687
          ],
          [
           3537.2616880289306,
           3402.082905965706,
           3272.9016249437136,
           3149.7178449629546,
           3032.531566023428,
           2921.3427881251337,
           2816.1515112680727,
           2716.9577354522444,
           2623.7614606776497,
           2536.5626869442867,
           2455.3614142521574,
           2380.1576426012602,
           2310.9513719915963,
           2247.742602423165,
           2190.531333895967,
           2139.3175664100013,
           2094.1012999652685,
           2054.882534561769,
           2021.6612701995011,
           1994.437506878467,
           1973.2112445986654,
           1957.982483360097,
           1948.751223162761,
           1945.517464006658,
           1948.2812058917877,
           1957.0424488181504,
           1971.8011927857456,
           1992.557437794574,
           2019.311183844635,
           2052.062430935929,
           2090.8111790684557,
           2135.557428242215,
           2186.3011784572072,
           2243.0424297134323,
           2305.781182010891,
           2374.5174353495813,
           2449.251189729505,
           2529.982445150662,
           2616.711201613051,
           2709.4374591166725,
           2808.161217661528,
           2912.8824772476155,
           3023.6012378749356,
           3140.3174995434892,
           3263.0312622532756,
           3391.742526004294,
           3526.4512907965463,
           3667.1575566300307,
           3813.861323504748,
           3966.5625914206985
          ],
          [
           3595.993404362475,
           3462.232270805036,
           3334.4686382888312,
           3212.7025068138582,
           3096.933876380118,
           2987.162746987611,
           2883.389118636337,
           2785.6129913262957,
           2693.8343650574875,
           2608.0532398299115,
           2528.2696156435686,
           2454.4834924984584,
           2386.694870394581,
           2324.9037493319365,
           2269.110129310525,
           2219.314010330346,
           2175.5153923914,
           2137.7142754936867,
           2105.9106596372067,
           2080.104544821959,
           2060.295931047944,
           2046.484818315162,
           2038.671206623613,
           2036.8550959732966,
           2041.036486364213,
           2051.2153777963626,
           2067.3917702697445,
           2089.56566378436,
           2117.737058340207,
           2151.9059539372884,
           2192.072350575602,
           2238.236248255148,
           2290.3976469759273,
           2348.5565467379383,
           2412.712947541184,
           2482.866849385661,
           2559.0182522713712,
           2641.1671561983144,
           2729.31356116649,
           2823.457467175899,
           2923.5988742265413,
           3029.7377823184156,
           3141.874191451522,
           3260.0081016258628,
           3384.139512841436,
           3514.268425098241,
           3650.3948383962806,
           3792.518752735551,
           3940.640168116055,
           4094.759084537793
          ],
          [
           3671.5579776881,
           3539.214492636448,
           3412.86850862603,
           3292.5200256568437,
           3178.1690437288908,
           3069.81556284217,
           2967.459582996683,
           2871.101104192428,
           2780.7401264294067,
           2696.3766497076176,
           2618.010674027061,
           2545.6421993877375,
           2479.2712257896474,
           2418.8977532327895,
           2364.5217817171642,
           2316.143311242772,
           2273.7623418096127,
           2237.3788734176865,
           2206.992906066993,
           2182.6044397575324,
           2164.213474489304,
           2151.8200102623086,
           2145.4240470765467,
           2145.025584932017,
           2150.6246238287204,
           2162.2211637666564,
           2179.815204745825,
           2203.406746766227,
           2232.9957898278612,
           2268.582333930729,
           2310.166379074829,
           2357.747925260162,
           2411.326972486728,
           2470.903520754526,
           2536.4775700635582,
           2608.049120413822,
           2685.618171805319,
           2769.1847242380495,
           2858.7487777120123,
           2954.3103322272077,
           3055.8693877836363,
           3163.425944381297,
           3276.9800020201906,
           3396.531560700318,
           3522.080620421678,
           3653.62718118427,
           3791.1712429880954,
           3934.7128058331527,
           4084.2518697194437,
           4239.788434646968
          ],
          [
           3763.955408005806,
           3633.0295714599415,
           3508.1012359553097,
           3389.17040149191,
           3276.237068069744,
           3169.3012356888103,
           3068.362904349109,
           2973.4220740506416,
           2884.478744793407,
           2801.532916577404,
           2724.5845894026343,
           2653.633763269098,
           2588.6804381767943,
           2529.7246141257237,
           2476.766291115885,
           2429.80546914728,
           2388.8421482199074,
           2353.8763283337676,
           2324.9080094888604,
           2301.9371916851865,
           2284.963874922745,
           2273.9880592015365,
           2269.0097445215615,
           2270.0289308828187,
           2277.045618285308,
           2290.059806729031,
           2309.0714962139864,
           2334.080686740175,
           2365.0873783075967,
           2402.091570916251,
           2445.093264566137,
           2494.0924592572574,
           2549.0891549896096,
           2610.0833517631945,
           2677.0750495780135,
           2750.064248434064,
           2829.050948331348,
           2914.035149269865,
           3005.016851249614,
           3101.9960542705962,
           3204.9727583328117,
           3313.9469634362595,
           3428.9186695809403,
           3549.8878767668543,
           3676.854584994,
           3809.818794262379,
           3948.7805045719924,
           4093.7397159228362,
           4244.696428314914,
           4401.650641748225
          ],
          [
           3873.1856953155943,
           3743.6775072755163,
           3620.1668202766714,
           3502.6536343190583,
           3391.1379494026787,
           3285.6197655275323,
           3186.099082693618,
           3092.575900900937,
           3005.0502201494887,
           2923.522040439273,
           2847.99136177029,
           2778.4581841425406,
           2714.9225075560234,
           2657.384332010739,
           2605.8436575066876,
           2560.300484043869,
           2520.754811622283,
           2487.2066402419305,
           2459.6559699028103,
           2438.102800604923,
           2422.547132348268,
           2412.9889651328467,
           2409.4282989586577,
           2411.8651338257014,
           2420.299469733978,
           2434.7313066834877,
           2455.16064467423,
           2481.5874837062056,
           2514.011823779413,
           2552.4336648938543,
           2596.853007049528,
           2647.2698502464345,
           2703.6841944845737,
           2766.0960397639456,
           2834.505386084551,
           2908.912233446388,
           2989.316581849459,
           3075.718431293763,
           3168.1177817792986,
           3266.5146333060675,
           3370.9089858740695,
           3481.300839483304,
           3597.690194133771,
           3720.077049825472,
           3848.4614065584046,
           3982.84326433257,
           4123.22262314797,
           4269.599483004601,
           4421.973843902465,
           4580.345705841562
          ],
          [
           3999.2488396174635,
           3871.1583000831724,
           3749.0652615901136,
           3632.9697241382883,
           3522.871687727695,
           3418.771152358335,
           3320.6681180302076,
           3228.5625847433134,
           3142.454552497652,
           3062.344021293223,
           2988.2309911300263,
           2920.1154620080633,
           2857.997433927333,
           2801.8769068878355,
           2751.753880889571,
           2707.6283559325393,
           2669.5003320167402,
           2637.369809142174,
           2611.2367873088406,
           2591.1012665167395,
           2576.963246765872,
           2568.822728056237,
           2566.6797103878343,
           2570.5341937606654,
           2580.3861781747287,
           2596.235663630025,
           2618.082650126554,
           2645.9271376643164,
           2679.769126243311,
           2719.608615863538,
           2765.4456065249988,
           2817.280098227692,
           2875.1120909716183,
           2938.941584756777,
           3008.7685795831685,
           3084.593075450793,
           3166.4150723596504,
           3254.234570309741,
           3348.0515693010634,
           3447.866069333619,
           3553.678070407408,
           3665.487572522429,
           3783.294575678683,
           3907.0990798761704,
           4036.9010851148905,
           4172.700591394842,
           4314.497598716029,
           4462.292107078447,
           4616.084116482098,
           4775.873626926983
          ],
          [
           4142.1448409114155,
           4015.471949882911,
           3894.7965598956384,
           3780.1186709496,
           3671.438283044794,
           3568.7553961812205,
           3472.0700103588797,
           3381.382125577772,
           3296.691741837897,
           3217.998859139255,
           3145.303477481846,
           3078.6055968656697,
           3017.905217290726,
           2963.2023387570152,
           2914.4969612645373,
           2871.7890848132915,
           2835.0787094032794,
           2804.3658350345004,
           2779.650461706953,
           2760.9325894206395,
           2748.2122181755585,
           2741.4893479717102,
           2740.7639788090946,
           2746.036110687712,
           2757.3057436075624,
           2774.5728775686457,
           2797.8375125709613,
           2827.09964861451,
           2862.359285699292,
           2903.616423825306,
           2950.871062992553,
           3004.123203201033,
           3063.3728444507456,
           3128.6199867416913,
           3199.8646300738696,
           3277.1067744472807,
           3360.346419861925,
           3449.5835663178023,
           3544.8182138149114,
           3646.0503623532536,
           3753.2800119328294,
           3866.5071625536375,
           3985.731814215678,
           4110.953966918953,
           4242.17362066346,
           4379.3907754491975,
           4522.605431276172,
           4671.817588144375,
           4827.027246053813,
           4988.234405004485
          ],
          [
           4301.873699197447,
           4176.618456674729,
           4057.360715193244,
           3944.100474752992,
           3836.8377353539727,
           3735.5724969961857,
           3640.3047596796323,
           3551.0345234043116,
           3467.761788170223,
           3390.486553977368,
           3319.208820825745,
           3253.9285887153555,
           3194.6458576461987,
           3141.3606276182745,
           3094.072898631583,
           3052.7826706861247,
           3017.489943781899,
           2988.1947179189065,
           2964.896993097146,
           2947.5967693166194,
           2936.294046577325,
           2930.9888248792636,
           2931.681104222435,
           2938.370884606839,
           2951.058166032476,
           2969.7429484993454,
           2994.4252320074484,
           3025.105016556784,
           3061.7823021473523,
           3104.457088779153,
           3153.129376452187,
           3207.799165166454,
           3268.4664549219533,
           3335.131245718685,
           3407.7935375566512,
           3486.453330435849,
           3571.110624356279,
           3661.765419317943,
           3758.4177153208393,
           3861.067512364968,
           3969.7148104503312,
           4084.3596095769253,
           4205.001909744753,
           4331.641710953814,
           4464.279013204106,
           4602.913816495633,
           4747.546120828392,
           4898.175926202383,
           5054.803232617608,
           5217.428040074066
          ],
          [
           4478.435414475561,
           4354.597820458629,
           4236.757727482931,
           4124.915135548465,
           4019.070044655233,
           3919.222454803233,
           3825.372365992466,
           3737.5197782229325,
           3655.6646914946305,
           3579.807105807562,
           3509.947021161726,
           3446.0844375571232,
           3388.219354993753,
           3336.351773471615,
           3290.481692990711,
           3250.6091135510396,
           3216.7340351526,
           3188.856457795394,
           3166.9763814794214,
           3151.0938062046807,
           3141.208731971173,
           3137.3211587788983,
           3139.4310866278565,
           3147.5385155180475,
           3161.643445449471,
           3181.7458764221274,
           3207.845808436017,
           3239.943241491139,
           3278.038175587494,
           3322.1306107250816,
           3372.220546903902,
           3428.307984123956,
           3490.392922385242,
           3558.4753616877606,
           3632.555302031513,
           3712.6327434164978,
           3798.7076858427154,
           3890.7801293101656,
           3988.8500738188486,
           4092.9175193687643,
           4202.9824659599135,
           4319.044913592295,
           4441.104862265909,
           4569.162311980757,
           4703.217262736836,
           4843.26971453415,
           4989.319667372695,
           5141.367121252474,
           5299.412076173485,
           5463.454532135729
          ],
          [
           4671.829986745757,
           4549.410041234612,
           4432.9875967647,
           4322.562653336022,
           4218.135210948576,
           4119.705269602363,
           4027.272829297383,
           3940.837890033635,
           3860.4004518111205,
           3785.960514629838,
           3717.5180784897893,
           3655.073143390973,
           3598.6257093333898,
           3548.175776317039,
           3503.7233443419213,
           3465.2684134080364,
           3432.810983515384,
           3406.3510546639654,
           3385.8886268537785,
           3371.4237000848248,
           3362.956274357104,
           3360.4863496706166,
           3364.013926025361,
           3373.5390034213387,
           3389.0615818585484,
           3410.581661336992,
           3438.0992418566684,
           3471.6143234175775,
           3511.126906019719,
           3556.636989663093,
           3608.1445743477007,
           3665.649660073541,
           3729.1522468406138,
           3798.65233464892,
           3874.1499234984585,
           3955.64501338923,
           4043.1376043212335,
           4136.627696294471,
           4236.115289308941,
           4341.600383364644,
           4453.08297846158,
           4570.563074599748,
           4694.040671779148,
           4823.5157699997835,
           4958.9883692616495,
           5100.458469564749,
           5247.926070909082,
           5401.391173294647,
           5560.853776721444,
           5726.313881189476
          ],
          [
           4882.057416008032,
           4761.0551190026745,
           4646.05032303855,
           4537.043028115658,
           4434.033234233999,
           4337.020941393573,
           4246.006149594379,
           4160.988858836417,
           4081.96906911969,
           4008.9467804441956,
           3941.921992809933,
           3880.894706216903,
           3825.864920665107,
           3776.8326361545433,
           3733.797852685212,
           3696.760570257113,
           3665.7207888702483,
           3640.6785085246156,
           3621.633729220216,
           3608.5864509570492,
           3601.536673735114,
           3600.4843975544136,
           3605.429622414945,
           3616.3723483167096,
           3633.3125752597066,
           3656.250303243937,
           3685.1855322693996,
           3720.118262336095,
           3761.0484934440237,
           3807.976225593185,
           3860.9014587835786,
           3919.8241930152058,
           3984.744428288065,
           4055.662164602158,
           4132.577401957484,
           4215.490140354042,
           4304.400379791833,
           4399.308120270856,
           4500.213361791113,
           4607.116104352603,
           4720.016347955326,
           4838.91409259928,
           4963.809338284467,
           5094.702085010889,
           5231.592332778542,
           5374.480081587429,
           5523.365331437548,
           5678.248082328899,
           5839.128334261484,
           6006.006087235302
          ],
          [
           5109.117702262391,
           4989.533053762819,
           4875.9459063044815,
           4768.356259887376,
           4666.764114511503,
           4571.169470176864,
           4481.572326883457,
           4397.972684631283,
           4320.370543420342,
           4248.7659032506335,
           4183.158764122158,
           4123.549126034915,
           4069.936988988905,
           4022.322352984128,
           3980.7052180205837,
           3945.085584098272,
           3915.463451217194,
           3891.8388193773476,
           3874.2116885787345,
           3862.5820588213546,
           3856.949930105207,
           3857.3153024302924,
           3863.678175796611,
           3876.0385502041618,
           3894.3964256529457,
           3918.7518021429632,
           3949.104679674212,
           3985.4550582466945,
           4027.8029378604097,
           4076.1483185153575,
           4130.491200211539,
           4190.831582948952,
           4257.169466727599,
           4329.504851547477,
           4407.83773740859,
           4492.168124310935,
           4582.496012254513,
           4678.821401239324,
           4781.1442912653665,
           4889.464682332642,
           5003.782574441151,
           5124.097967590893,
           5250.410861781867,
           5382.721257014076,
           5521.029153287516,
           5665.334550602189,
           5815.637448958095,
           5971.937848355234,
           6134.235748793604,
           6302.531150273211
          ],
          [
           5353.010845508831,
           5234.843845515046,
           5122.674346562496,
           5016.502348651176,
           4916.327851781091,
           4822.150855952239,
           4733.971361164618,
           4651.7893674182305,
           4575.604874713076,
           4505.417883049155,
           4441.228392426466,
           4383.03640284501,
           4330.841914304787,
           4284.644926805797,
           4244.4454403480395,
           4210.243454931514,
           4182.038970556223,
           4159.831987222164,
           4143.622504929337,
           4133.410523677743,
           4129.196043467383,
           4130.979064298255,
           4138.75958617036,
           4152.537609083698,
           4172.313133038269,
           4198.086158034072,
           4229.856684071108,
           4267.624711149378,
           4311.39023926888,
           4361.153268429614,
           4416.913798631582,
           4478.671829874782,
           4546.427362159215,
           4620.180395484881,
           4699.93092985178,
           4785.678965259911,
           4877.424501709276,
           4975.167539199874,
           5078.908077731704,
           5188.646117304766,
           5304.3816579190625,
           5426.11469957459,
           5553.845242271352,
           5687.573286009347,
           5827.2988307885735,
           5973.021876609033,
           6124.742423470727,
           6282.460471373652,
           6446.176020317809,
           6615.889070303201
          ],
          [
           5613.736845747351,
           5496.987494259354,
           5386.23564381259,
           5281.481294407057,
           5182.724446042758,
           5089.965098719693,
           5003.203252437859,
           4922.438907197258,
           4847.672062997891,
           4778.902719839756,
           4716.130877722853,
           4659.356536647185,
           4608.579696612748,
           4563.800357619544,
           4525.018519667574,
           4492.234182756835,
           4465.44734688733,
           4444.658012059058,
           4429.866178272019,
           4421.071845526212,
           4418.275013821638,
           4421.475683158297,
           4430.673853536189,
           4445.869524955313,
           4467.06269741567,
           4494.253370917261,
           4527.441545460084,
           4566.627221044139,
           4611.810397669428,
           4662.99107533595,
           4720.169254043704,
           4783.344933792691,
           4852.518114582911,
           4927.688796414364,
           5008.856979287049,
           5096.022663200967,
           5189.185848156119,
           5288.346534152503,
           5393.50472119012,
           5504.660409268969,
           5621.813598389053,
           5744.964288550367,
           5874.1124797529155,
           6009.258171996697,
           6150.40136528171,
           6297.542059607957,
           6450.680254975437,
           6609.815951384148,
           6774.949148834094,
           6946.079847325273
          ],
          [
           5891.295702977954,
           5775.963999995743,
           5666.629798054764,
           5563.2930971550195,
           5465.953897296507,
           5374.612198479228,
           5289.268000703181,
           5209.921303968367,
           5136.572108274786,
           5069.220413622437,
           5007.866220011322,
           4952.50952744144,
           4903.150335912791,
           4859.788645425373,
           4822.42445597919,
           4791.057767574239,
           4765.688580210519,
           4746.316893888034,
           4732.942708606782,
           4725.566024366761,
           4724.186841167973,
           4728.80515901042,
           4739.420977894098,
           4756.03429781901,
           4778.6451187851535,
           4807.2534407925305,
           4841.859263841141,
           4882.462587930984,
           4929.063413062058,
           4981.661739234367,
           5040.257566447908,
           5104.850894702682,
           5175.441723998689,
           5252.030054335928,
           5334.6158857144,
           5423.199218134105,
           5517.780051595043,
           5618.358386097214,
           5724.934221640618,
           5837.507558225254,
           5956.078395851124,
           6080.6467345182255,
           6211.21257422656,
           6347.775914976129,
           6490.336756766928,
           6638.895099598961,
           6793.450943472228,
           6954.004288386726,
           7120.555134342457,
           7293.1034813394235
          ],
          [
           6185.687417200638,
           6071.773362724214,
           5963.856809289024,
           5861.937756895064,
           5766.016205542339,
           5676.092155230846,
           5592.165605960587,
           5514.2365577315595,
           5442.305010543766,
           5376.370964397203,
           5316.434419291875,
           5262.49537522778,
           5214.553832204916,
           5172.609790223287,
           5136.6632492828885,
           5106.714209383725,
           5082.7626705257935,
           5064.808632709094,
           5052.852095933628,
           5046.893060199394,
           5046.931525506395,
           5052.967491854627,
           5065.000959244093,
           5083.03192767479,
           5107.060397146722,
           5137.086367659885,
           5173.109839214281,
           5215.130811809911,
           5263.149285446772,
           5317.165260124867,
           5377.178735844195,
           5443.189712604755,
           5515.19819040655,
           5593.204169249575,
           5677.207649133835,
           5767.208630059326,
           5863.207112026052,
           5965.203095034009,
           6073.1965790832,
           6187.187564173622,
           6307.176050305278,
           6433.162037478167,
           6565.145525692288,
           6703.126514947642,
           6847.1050052442315,
           6997.08099658205,
           7153.054488961104,
           7315.025482381389,
           7482.993976842908,
           7656.959972345659
          ],
          [
           6496.911988415403,
           6384.415582444765,
           6277.916677515361,
           6177.41527362719,
           6082.911370780251,
           5994.404968974544,
           5911.896068210072,
           5835.384668486831,
           5764.870769804824,
           5700.354372164049,
           5641.835475564507,
           5589.314080006198,
           5542.790185489122,
           5502.263792013278,
           5467.734899578669,
           5439.20350818529,
           5416.669617833146,
           5400.133228522233,
           5389.594340252554,
           5385.052953024107,
           5386.509066836894,
           5393.962681690913,
           5407.413797586165,
           5426.8624145226495,
           5452.308532500367,
           5483.7521515193175,
           5521.193271579501,
           5564.631892680917,
           5614.068014823566,
           5669.501638007447,
           5730.932762232562,
           5798.36138749891,
           5871.787513806489,
           5951.211141155303,
           6036.632269545349,
           6128.050898976628,
           6225.467029449139,
           6328.880660962883,
           6438.291793517859,
           6553.700427114069,
           6675.106561751512,
           6802.510197430187,
           6935.911334150096,
           7075.309971911237,
           7220.706110713611,
           7372.099750557218,
           7529.4908914420585,
           7692.87953336813,
           7862.265676335435,
           8037.649320343974
          ],
          [
           6824.969416622248,
           6713.890659157398,
           6608.809402733781,
           6509.725647351395,
           6416.639393010243,
           6329.550639710324,
           6248.459387451639,
           6173.365636234184,
           6104.269386057964,
           6041.170636922976,
           5984.069388829221,
           5932.965641776698,
           5887.859395765408,
           5848.750650795351,
           5815.639406866528,
           5788.525663978937,
           5767.409422132579,
           5752.290681327453,
           5743.169441563561,
           5740.045702840901,
           5742.919465159474,
           5751.79072851928,
           5766.659492920318,
           5787.52575836259,
           5814.389524846095,
           5847.250792370833,
           5886.109560936802,
           5930.965830544004,
           5981.819601192439,
           6038.670872882109,
           6101.519645613011,
           6170.365919385144,
           6245.209694198511,
           6326.050970053111,
           6412.889746948944,
           6505.7260248860075,
           6604.559803864307,
           6709.391083883838,
           6820.219864944601,
           6937.046147046597,
           7059.869930189827,
           7188.691214374289,
           7323.509999599984,
           7464.326285866913,
           7611.140073175073,
           7763.951361524467,
           7922.760150915094,
           8087.566441346952,
           8258.370232820045,
           8435.17152533437
          ],
          [
           7169.8597018211785,
           7060.198592862114,
           6956.534984944285,
           6858.868878067686,
           6767.2002722323205,
           6681.529167438188,
           6601.855563685288,
           6528.179460973622,
           6460.500859303188,
           6398.819758673986,
           6343.136159086018,
           6293.450060539282,
           6249.761463033779,
           6212.07036656951,
           6180.3767711464725,
           6154.6806767646685,
           6134.982083424096,
           6121.280991124758,
           6113.577399866653,
           6111.8713096497795,
           6116.162720474139,
           6126.451632339732,
           6142.738045246557,
           6165.021959194615,
           6193.303374183906,
           6227.582290214431,
           6267.858707286187,
           6314.132625399177,
           6366.404044553399,
           6424.672964748854,
           6488.939385985543,
           6559.203308263463,
           6635.464731582617,
           6717.723655943004,
           6805.980081344623,
           6900.234007787474,
           7000.485435271559,
           7106.734363796877,
           7218.980793363427,
           7337.224723971211,
           7461.466155620227,
           7591.705088310477,
           7727.941522041958,
           7870.175456814673,
           8018.40689262862,
           8172.635829483799,
           8332.862267380213,
           8499.08620631786,
           8671.307646296738,
           8849.52658731685
          ],
          [
           7531.582844012188,
           7423.339383558909,
           7321.093424146867,
           7224.844965776055,
           7134.5940084464755,
           7050.340552158131,
           6972.084596911018,
           6899.8261427051375,
           6833.56518954049,
           6773.301737417076,
           6719.035786334894,
           6670.767336293945,
           6628.496387294229,
           6592.222939335746,
           6561.946992418496,
           6537.668546542478,
           6519.387601707693,
           6507.104157914142,
           6500.818215161822,
           6500.529773450736,
           6506.238832780882,
           6517.945393152262,
           6535.649454564874,
           6559.351017018719,
           6589.050080513797,
           6624.746645050107,
           6666.44071062765,
           6714.132277246428,
           6767.821344906435,
           6827.507913607678,
           6893.191983350152,
           6964.87355413386,
           7042.552625958801,
           7126.229198824974,
           7215.90327273238,
           7311.5748476810195,
           7413.243923670891,
           7520.910500701995,
           7634.574578774333,
           7754.236157887903,
           7879.895238042705,
           8011.551819238742,
           8149.205901476009,
           8292.857484754511,
           8442.506569074245,
           8598.153154435213,
           8759.797240837412,
           8927.438828280843,
           9101.07791676551,
           9280.71450629141
          ],
          [
           7910.138843195276,
           7803.313031247787,
           7702.484720341529,
           7607.653910476505,
           7518.820601652714,
           7435.984793870155,
           7359.146487128828,
           7288.305681428735,
           7223.462376769874,
           7164.616573152246,
           7111.768270575852,
           7064.917469040689,
           7024.06416854676,
           6989.2083690940635,
           6960.3500706826,
           6937.489273312369,
           6920.6259769833705,
           6909.760181695606,
           6904.891887449074,
           6906.021094243773,
           6913.147802079708,
           6926.272010956874,
           6945.393720875272,
           6970.512931834904,
           7001.629643835768,
           7038.743856877865,
           7081.8555709611965,
           7130.964786085759,
           7186.071502251554,
           7247.175719458584,
           7314.277437706845,
           7387.376656996339,
           7466.473377327067,
           7551.567598699026,
           7642.659321112219,
           7739.748544566644,
           7842.835269062302,
           7951.919494599195,
           8067.001221177318,
           8188.080448796674,
           8315.157177457264,
           8448.231407159088,
           8587.303137902143,
           8732.372369686433,
           8883.439102511951,
           9040.503336378704,
           9203.565071286692,
           9372.62430723591,
           9547.681044226363,
           9728.735282258049
          ],
          [
           8305.527699370452,
           8200.119535928749,
           8100.708873528278,
           8007.29571216904,
           7919.880051851035,
           7838.4618925742625,
           7763.0412343387225,
           7693.618077144417,
           7630.192420991342,
           7572.764265879501,
           7521.333611808892,
           7475.900458779519,
           7436.464806791376,
           7403.026655844466,
           7375.58600593879,
           7354.142857074346,
           7338.697209251133,
           7329.2490624691545,
           7325.798416728409,
           7328.345272028897,
           7336.889628370618,
           7351.431485753569,
           7371.970844177755,
           7398.507703643174,
           7431.042064149824,
           7469.573925697709,
           7514.103288286826,
           7564.630151917176,
           7621.154516588757,
           7683.6763823015735,
           7752.195749055622,
           7826.712616850904,
           7907.226985687416,
           7993.738855565163,
           8086.248226484143,
           8184.755098444355,
           8289.2594714458,
           8399.76134548848,
           8516.260720572389,
           8638.757596697533,
           8767.251973863911,
           8901.743852071519,
           9042.233231320359,
           9188.720111610437,
           9341.204492941743,
           9499.686375314282,
           9664.165758728057,
           9834.642643183062,
           10011.117028679302,
           10193.588915216775
          ]
         ]
        }
       ],
       "layout": {
        "autosize": false,
        "dragmode": "zoom",
        "height": 800,
        "margin": {
         "b": 65,
         "l": 65,
         "r": 50,
         "t": 90
        },
        "scene": {
         "aspectmode": "auto",
         "aspectratio": {
          "x": 1,
          "y": 1,
          "z": 1
         },
         "camera": {
          "center": {
           "x": -0.028212004283302727,
           "y": 0.23931346250348162,
           "z": -0.21110145822017823
          },
          "eye": {
           "x": 1.1983270598853333,
           "y": -2.4593637838493514,
           "z": 1.4827019357491398
          },
          "projection": {
           "type": "perspective"
          },
          "up": {
           "x": 0,
           "y": 0,
           "z": 1
          }
         },
         "dragmode": "turntable",
         "xaxis": {
          "title": {
           "text": "alpha"
          },
          "type": "linear"
         },
         "yaxis": {
          "title": {
           "text": "beta"
          },
          "type": "linear"
         },
         "zaxis": {
          "title": {
           "text": "Loss"
          },
          "type": "linear"
         }
        },
        "template": {
         "data": {
          "bar": [
           {
            "error_x": {
             "color": "#2a3f5f"
            },
            "error_y": {
             "color": "#2a3f5f"
            },
            "marker": {
             "line": {
              "color": "#E5ECF6",
              "width": 0.5
             },
             "pattern": {
              "fillmode": "overlay",
              "size": 10,
              "solidity": 0.2
             }
            },
            "type": "bar"
           }
          ],
          "barpolar": [
           {
            "marker": {
             "line": {
              "color": "#E5ECF6",
              "width": 0.5
             },
             "pattern": {
              "fillmode": "overlay",
              "size": 10,
              "solidity": 0.2
             }
            },
            "type": "barpolar"
           }
          ],
          "carpet": [
           {
            "aaxis": {
             "endlinecolor": "#2a3f5f",
             "gridcolor": "white",
             "linecolor": "white",
             "minorgridcolor": "white",
             "startlinecolor": "#2a3f5f"
            },
            "baxis": {
             "endlinecolor": "#2a3f5f",
             "gridcolor": "white",
             "linecolor": "white",
             "minorgridcolor": "white",
             "startlinecolor": "#2a3f5f"
            },
            "type": "carpet"
           }
          ],
          "choropleth": [
           {
            "colorbar": {
             "outlinewidth": 0,
             "ticks": ""
            },
            "type": "choropleth"
           }
          ],
          "contour": [
           {
            "colorbar": {
             "outlinewidth": 0,
             "ticks": ""
            },
            "colorscale": [
             [
              0,
              "#0d0887"
             ],
             [
              0.1111111111111111,
              "#46039f"
             ],
             [
              0.2222222222222222,
              "#7201a8"
             ],
             [
              0.3333333333333333,
              "#9c179e"
             ],
             [
              0.4444444444444444,
              "#bd3786"
             ],
             [
              0.5555555555555556,
              "#d8576b"
             ],
             [
              0.6666666666666666,
              "#ed7953"
             ],
             [
              0.7777777777777778,
              "#fb9f3a"
             ],
             [
              0.8888888888888888,
              "#fdca26"
             ],
             [
              1,
              "#f0f921"
             ]
            ],
            "type": "contour"
           }
          ],
          "contourcarpet": [
           {
            "colorbar": {
             "outlinewidth": 0,
             "ticks": ""
            },
            "type": "contourcarpet"
           }
          ],
          "heatmap": [
           {
            "colorbar": {
             "outlinewidth": 0,
             "ticks": ""
            },
            "colorscale": [
             [
              0,
              "#0d0887"
             ],
             [
              0.1111111111111111,
              "#46039f"
             ],
             [
              0.2222222222222222,
              "#7201a8"
             ],
             [
              0.3333333333333333,
              "#9c179e"
             ],
             [
              0.4444444444444444,
              "#bd3786"
             ],
             [
              0.5555555555555556,
              "#d8576b"
             ],
             [
              0.6666666666666666,
              "#ed7953"
             ],
             [
              0.7777777777777778,
              "#fb9f3a"
             ],
             [
              0.8888888888888888,
              "#fdca26"
             ],
             [
              1,
              "#f0f921"
             ]
            ],
            "type": "heatmap"
           }
          ],
          "heatmapgl": [
           {
            "colorbar": {
             "outlinewidth": 0,
             "ticks": ""
            },
            "colorscale": [
             [
              0,
              "#0d0887"
             ],
             [
              0.1111111111111111,
              "#46039f"
             ],
             [
              0.2222222222222222,
              "#7201a8"
             ],
             [
              0.3333333333333333,
              "#9c179e"
             ],
             [
              0.4444444444444444,
              "#bd3786"
             ],
             [
              0.5555555555555556,
              "#d8576b"
             ],
             [
              0.6666666666666666,
              "#ed7953"
             ],
             [
              0.7777777777777778,
              "#fb9f3a"
             ],
             [
              0.8888888888888888,
              "#fdca26"
             ],
             [
              1,
              "#f0f921"
             ]
            ],
            "type": "heatmapgl"
           }
          ],
          "histogram": [
           {
            "marker": {
             "pattern": {
              "fillmode": "overlay",
              "size": 10,
              "solidity": 0.2
             }
            },
            "type": "histogram"
           }
          ],
          "histogram2d": [
           {
            "colorbar": {
             "outlinewidth": 0,
             "ticks": ""
            },
            "colorscale": [
             [
              0,
              "#0d0887"
             ],
             [
              0.1111111111111111,
              "#46039f"
             ],
             [
              0.2222222222222222,
              "#7201a8"
             ],
             [
              0.3333333333333333,
              "#9c179e"
             ],
             [
              0.4444444444444444,
              "#bd3786"
             ],
             [
              0.5555555555555556,
              "#d8576b"
             ],
             [
              0.6666666666666666,
              "#ed7953"
             ],
             [
              0.7777777777777778,
              "#fb9f3a"
             ],
             [
              0.8888888888888888,
              "#fdca26"
             ],
             [
              1,
              "#f0f921"
             ]
            ],
            "type": "histogram2d"
           }
          ],
          "histogram2dcontour": [
           {
            "colorbar": {
             "outlinewidth": 0,
             "ticks": ""
            },
            "colorscale": [
             [
              0,
              "#0d0887"
             ],
             [
              0.1111111111111111,
              "#46039f"
             ],
             [
              0.2222222222222222,
              "#7201a8"
             ],
             [
              0.3333333333333333,
              "#9c179e"
             ],
             [
              0.4444444444444444,
              "#bd3786"
             ],
             [
              0.5555555555555556,
              "#d8576b"
             ],
             [
              0.6666666666666666,
              "#ed7953"
             ],
             [
              0.7777777777777778,
              "#fb9f3a"
             ],
             [
              0.8888888888888888,
              "#fdca26"
             ],
             [
              1,
              "#f0f921"
             ]
            ],
            "type": "histogram2dcontour"
           }
          ],
          "mesh3d": [
           {
            "colorbar": {
             "outlinewidth": 0,
             "ticks": ""
            },
            "type": "mesh3d"
           }
          ],
          "parcoords": [
           {
            "line": {
             "colorbar": {
              "outlinewidth": 0,
              "ticks": ""
             }
            },
            "type": "parcoords"
           }
          ],
          "pie": [
           {
            "automargin": true,
            "type": "pie"
           }
          ],
          "scatter": [
           {
            "fillpattern": {
             "fillmode": "overlay",
             "size": 10,
             "solidity": 0.2
            },
            "type": "scatter"
           }
          ],
          "scatter3d": [
           {
            "line": {
             "colorbar": {
              "outlinewidth": 0,
              "ticks": ""
             }
            },
            "marker": {
             "colorbar": {
              "outlinewidth": 0,
              "ticks": ""
             }
            },
            "type": "scatter3d"
           }
          ],
          "scattercarpet": [
           {
            "marker": {
             "colorbar": {
              "outlinewidth": 0,
              "ticks": ""
             }
            },
            "type": "scattercarpet"
           }
          ],
          "scattergeo": [
           {
            "marker": {
             "colorbar": {
              "outlinewidth": 0,
              "ticks": ""
             }
            },
            "type": "scattergeo"
           }
          ],
          "scattergl": [
           {
            "marker": {
             "colorbar": {
              "outlinewidth": 0,
              "ticks": ""
             }
            },
            "type": "scattergl"
           }
          ],
          "scattermapbox": [
           {
            "marker": {
             "colorbar": {
              "outlinewidth": 0,
              "ticks": ""
             }
            },
            "type": "scattermapbox"
           }
          ],
          "scatterpolar": [
           {
            "marker": {
             "colorbar": {
              "outlinewidth": 0,
              "ticks": ""
             }
            },
            "type": "scatterpolar"
           }
          ],
          "scatterpolargl": [
           {
            "marker": {
             "colorbar": {
              "outlinewidth": 0,
              "ticks": ""
             }
            },
            "type": "scatterpolargl"
           }
          ],
          "scatterternary": [
           {
            "marker": {
             "colorbar": {
              "outlinewidth": 0,
              "ticks": ""
             }
            },
            "type": "scatterternary"
           }
          ],
          "surface": [
           {
            "colorbar": {
             "outlinewidth": 0,
             "ticks": ""
            },
            "colorscale": [
             [
              0,
              "#0d0887"
             ],
             [
              0.1111111111111111,
              "#46039f"
             ],
             [
              0.2222222222222222,
              "#7201a8"
             ],
             [
              0.3333333333333333,
              "#9c179e"
             ],
             [
              0.4444444444444444,
              "#bd3786"
             ],
             [
              0.5555555555555556,
              "#d8576b"
             ],
             [
              0.6666666666666666,
              "#ed7953"
             ],
             [
              0.7777777777777778,
              "#fb9f3a"
             ],
             [
              0.8888888888888888,
              "#fdca26"
             ],
             [
              1,
              "#f0f921"
             ]
            ],
            "type": "surface"
           }
          ],
          "table": [
           {
            "cells": {
             "fill": {
              "color": "#EBF0F8"
             },
             "line": {
              "color": "white"
             }
            },
            "header": {
             "fill": {
              "color": "#C8D4E3"
             },
             "line": {
              "color": "white"
             }
            },
            "type": "table"
           }
          ]
         },
         "layout": {
          "annotationdefaults": {
           "arrowcolor": "#2a3f5f",
           "arrowhead": 0,
           "arrowwidth": 1
          },
          "autotypenumbers": "strict",
          "coloraxis": {
           "colorbar": {
            "outlinewidth": 0,
            "ticks": ""
           }
          },
          "colorscale": {
           "diverging": [
            [
             0,
             "#8e0152"
            ],
            [
             0.1,
             "#c51b7d"
            ],
            [
             0.2,
             "#de77ae"
            ],
            [
             0.3,
             "#f1b6da"
            ],
            [
             0.4,
             "#fde0ef"
            ],
            [
             0.5,
             "#f7f7f7"
            ],
            [
             0.6,
             "#e6f5d0"
            ],
            [
             0.7,
             "#b8e186"
            ],
            [
             0.8,
             "#7fbc41"
            ],
            [
             0.9,
             "#4d9221"
            ],
            [
             1,
             "#276419"
            ]
           ],
           "sequential": [
            [
             0,
             "#0d0887"
            ],
            [
             0.1111111111111111,
             "#46039f"
            ],
            [
             0.2222222222222222,
             "#7201a8"
            ],
            [
             0.3333333333333333,
             "#9c179e"
            ],
            [
             0.4444444444444444,
             "#bd3786"
            ],
            [
             0.5555555555555556,
             "#d8576b"
            ],
            [
             0.6666666666666666,
             "#ed7953"
            ],
            [
             0.7777777777777778,
             "#fb9f3a"
            ],
            [
             0.8888888888888888,
             "#fdca26"
            ],
            [
             1,
             "#f0f921"
            ]
           ],
           "sequentialminus": [
            [
             0,
             "#0d0887"
            ],
            [
             0.1111111111111111,
             "#46039f"
            ],
            [
             0.2222222222222222,
             "#7201a8"
            ],
            [
             0.3333333333333333,
             "#9c179e"
            ],
            [
             0.4444444444444444,
             "#bd3786"
            ],
            [
             0.5555555555555556,
             "#d8576b"
            ],
            [
             0.6666666666666666,
             "#ed7953"
            ],
            [
             0.7777777777777778,
             "#fb9f3a"
            ],
            [
             0.8888888888888888,
             "#fdca26"
            ],
            [
             1,
             "#f0f921"
            ]
           ]
          },
          "colorway": [
           "#636efa",
           "#EF553B",
           "#00cc96",
           "#ab63fa",
           "#FFA15A",
           "#19d3f3",
           "#FF6692",
           "#B6E880",
           "#FF97FF",
           "#FECB52"
          ],
          "font": {
           "color": "#2a3f5f"
          },
          "geo": {
           "bgcolor": "white",
           "lakecolor": "white",
           "landcolor": "#E5ECF6",
           "showlakes": true,
           "showland": true,
           "subunitcolor": "white"
          },
          "hoverlabel": {
           "align": "left"
          },
          "hovermode": "closest",
          "mapbox": {
           "style": "light"
          },
          "paper_bgcolor": "white",
          "plot_bgcolor": "#E5ECF6",
          "polar": {
           "angularaxis": {
            "gridcolor": "white",
            "linecolor": "white",
            "ticks": ""
           },
           "bgcolor": "#E5ECF6",
           "radialaxis": {
            "gridcolor": "white",
            "linecolor": "white",
            "ticks": ""
           }
          },
          "scene": {
           "xaxis": {
            "backgroundcolor": "#E5ECF6",
            "gridcolor": "white",
            "gridwidth": 2,
            "linecolor": "white",
            "showbackground": true,
            "ticks": "",
            "zerolinecolor": "white"
           },
           "yaxis": {
            "backgroundcolor": "#E5ECF6",
            "gridcolor": "white",
            "gridwidth": 2,
            "linecolor": "white",
            "showbackground": true,
            "ticks": "",
            "zerolinecolor": "white"
           },
           "zaxis": {
            "backgroundcolor": "#E5ECF6",
            "gridcolor": "white",
            "gridwidth": 2,
            "linecolor": "white",
            "showbackground": true,
            "ticks": "",
            "zerolinecolor": "white"
           }
          },
          "shapedefaults": {
           "line": {
            "color": "#2a3f5f"
           }
          },
          "ternary": {
           "aaxis": {
            "gridcolor": "white",
            "linecolor": "white",
            "ticks": ""
           },
           "baxis": {
            "gridcolor": "white",
            "linecolor": "white",
            "ticks": ""
           },
           "bgcolor": "#E5ECF6",
           "caxis": {
            "gridcolor": "white",
            "linecolor": "white",
            "ticks": ""
           }
          },
          "title": {
           "x": 0.05
          },
          "xaxis": {
           "automargin": true,
           "gridcolor": "white",
           "linecolor": "white",
           "ticks": "",
           "title": {
            "standoff": 15
           },
           "zerolinecolor": "white",
           "zerolinewidth": 2
          },
          "yaxis": {
           "automargin": true,
           "gridcolor": "white",
           "linecolor": "white",
           "ticks": "",
           "title": {
            "standoff": 15
           },
           "zerolinecolor": "white",
           "zerolinewidth": 2
          }
         }
        },
        "title": {
         "text": "Loss"
        },
        "width": 600
       }
      },
      "image/png": "[encoded data removed]",
      "text/html": [
       "<div>                            <div id=\"4f1aa401-18d2-47fe-b1d9-1a1f55cae145\" class=\"plotly-graph-div\" style=\"height:800px; width:600px;\"></div>            <script type=\"text/javascript\">                require([\"plotly\"], function(Plotly) {                    window.PLOTLYENV=window.PLOTLYENV || {};                                    if (document.getElementById(\"4f1aa401-18d2-47fe-b1d9-1a1f55cae145\")) {                    Plotly.newPlot(                        \"4f1aa401-18d2-47fe-b1d9-1a1f55cae145\",                        [{\"hovertemplate\":\"alpha:%{x}\\u003cbr\\u003ebeta:%{y}\\u003cbr\\u003eLoss:%{z}\\u003cextra\\u003e\\u003c\\u002fextra\\u003e\",\"showscale\":false,\"x\":[0.0,0.12244897959183673,0.24489795918367346,0.36734693877551017,0.4897959183673469,0.6122448979591837,0.7346938775510203,0.8571428571428571,0.9795918367346939,1.1020408163265305,1.2244897959183674,1.346938775510204,1.4693877551020407,1.5918367346938775,1.7142857142857142,1.836734693877551,1.9591836734693877,2.0816326530612246,2.204081632653061,2.326530612244898,2.4489795918367347,2.571428571428571,2.693877551020408,2.816326530612245,2.9387755102040813,3.061224489795918,3.183673469387755,3.306122448979592,3.4285714285714284,3.5510204081632653,3.673469387755102,3.7959183673469385,3.9183673469387754,4.040816326530612,4.163265306122449,4.285714285714286,4.408163265306122,4.530612244897959,4.653061224489796,4.775510204081632,4.8979591836734695,5.020408163265306,5.142857142857142,5.26530612244898,5.387755102040816,5.5102040816326525,5.63265306122449,5.755102040816326,5.877551020408163,6.0],\"y\":[-1.0,-0.8775510204081632,-0.7551020408163265,-0.6326530612244898,-0.5102040816326531,-0.3877551020408163,-0.26530612244897966,-0.1428571428571429,-0.020408163265306145,0.1020408163265305,0.22448979591836737,0.346938775510204,0.46938775510204067,0.5918367346938775,0.7142857142857142,0.8367346938775511,0.9591836734693877,1.0816326530612246,1.204081632653061,1.3265306122448979,1.4489795918367347,1.5714285714285712,1.693877551020408,1.816326530612245,1.9387755102040813,2.061224489795918,2.183673469387755,2.306122448979592,2.4285714285714284,2.5510204081632653,2.673469387755102,2.7959183673469385,2.9183673469387754,3.040816326530612,3.163265306122449,3.2857142857142856,3.408163265306122,3.5306122448979593,3.6530612244897958,3.775510204081632,3.8979591836734695,4.020408163265306,4.142857142857142,4.26530612244898,4.387755102040816,4.5102040816326525,4.63265306122449,4.755102040816326,4.877551020408163,5.0],\"z\":[[8726.913569474773,8552.04062924952,8383.165190065498,8220.287251922711,8063.406814821155,7912.523878760834,7767.638443741744,7628.750509763886,7495.860076827263,7368.967144931872,7248.071714077712,7133.173784264787,7024.273355493095,6921.370427762635,6824.465001073408,6733.557075425413,6648.646650818651,6569.733727253124,6496.818304728828,6429.900383245764,6368.9799628039345,6314.057043403338,6265.131625043972,6222.203707725841,6185.273291448942,6154.340376213277,6129.404962018842,6110.467048865642,6097.526636753674,6090.58372568294,6089.638315653438,6094.69040666517,6105.7399987181325,6122.787091812328,6145.831685947758,6174.873781124421,6209.9133773423155,6250.950474601444,6297.9850729018035,6351.017172243397,6410.046772626223,6475.073874050282,6546.0984765155745,6623.1205800221,6706.1401845698565,6795.157290158846,6890.17189678907,6991.184004460525,7098.1936131732145,7211.200722927137],[8314.325290030038,8140.869998310569,7973.4122076323365,7811.951917995335,7656.489129399566,7507.02384184503,7363.556055331727,7226.085769859657,7094.61298542882,6969.137702039216,6849.659919690844,6736.1796383837045,6628.696858117799,6527.211578893125,6431.723800709686,6342.233523567478,6258.740747466503,6181.245472406761,6109.7476983882525,6044.247425410976,5984.744653474932,5931.239382580122,5883.731612726544,5842.2213439142,5806.708576143088,5777.193309413207,5753.675543724561,5736.1552790771475,5724.632515470967,5719.107252906018,5719.579491382303,5726.049230899821,5738.516471458572,5756.981213058554,5781.443455699771,5811.903199382219,5848.3604441059015,5890.8151898708165,5939.2674366769625,5993.717184524343,6054.164433412956,6120.609183342802,6193.05143431388,6271.491186326191,6355.928439379736,6446.3631934745135,6542.795448610523,6645.2252047877655,6753.652462006241,6868.07722026595],[7918.569867577381,7746.532224363702,7580.492082191254,7420.44944106004,7266.404300970057,7118.356661921309,6976.306523913792,6840.253886947509,6710.198751022458,6586.14111613864,6468.0809822960555,6356.018349494704,6249.9532177345845,6149.885587015698,6055.815457338045,5967.742828701623,5885.667701106436,5809.5900745524805,5739.509949039759,5675.427324568269,5617.342201138012,5565.254578748989,5519.164457401197,5479.071837094639,5444.976717829314,5416.879099605221,5394.778982422361,5378.676366280734,5368.57125118034,5364.463637121178,5366.3535241032505,5374.2409121265555,5388.125801191092,5408.008191296862,5433.888082443864,5465.7654746321,5503.640367861568,5547.51276213227,5597.382657444205,5653.25005379737,5715.11495119177,5782.977349627403,5856.837249104268,5936.694649622366,6022.549551181697,6114.401953782261,6212.251857424058,6316.099262107087,6425.944167831349,6541.786574596845],[7539.647302116808,7369.027307408915,7204.404813742253,7045.779821116826,6893.1523295326315,6746.522338989668,6605.889849487939,6471.2548610274425,6342.617373608178,6219.977387230147,6103.3349018933495,5992.689917597784,5888.0424343434515,5789.3924521303525,5696.739970958485,5610.084990827851,5529.42751173845,5454.767533690281,5386.1050566833455,5323.440080717643,5266.772605793172,5216.102631909936,5171.4301590679315,5132.75518726716,5100.0777165076215,5073.3977467893155,5052.715278112243,5038.0303104764025,5029.342843881795,5026.65287832842,5029.9604138162795,5039.2654503453705,5054.567987915694,5075.868026527251,5103.16556618004,5136.460606874061,5175.753148609318,5221.043191385806,5272.330735203526,5329.61578006248,5392.898325962666,5462.178372904085,5537.455920886738,5618.730969910623,5706.00351997574,5799.273571082091,5898.541123229675,6003.80617641849,6115.068730648539,6232.328785919821],[7177.557593648316,7008.3552474462085,6845.150402285335,6687.943058165693,6536.733215087285,6391.52087305011,6252.306032054167,6119.088692099457,5991.868853185981,5870.646515313736,5755.421678482724,5646.1943426929465,5542.9645079444,5445.732174237088,5354.497341571007,5269.26000994616,5190.020179362546,5116.777849820163,5049.533021319015,4988.285693859099,4933.035867440415,4883.783542062965,4840.528717726747,4803.271394431763,4772.011572178011,4746.749250965491,4727.484430794206,4714.217111664152,4706.947293575331,4705.674976527744,4710.400160521388,4721.122845556267,4737.843031632377,4760.560718749721,4789.275906908297,4823.988596108105,4864.698786349147,4911.406477631423,4964.111669954929,5022.8143633196705,5087.514557725644,5158.212253172849,5234.907449661288,5317.60014719096,5406.290345761864,5500.978045374002,5601.663246027372,5708.345947721975,5821.02615045781,5939.703854234879],[6832.300742171903,6664.516044475584,6502.728847820497,6346.939152206642,6197.1469576340205,6053.352264102633,5915.555071612476,5783.755380163553,5657.953189755863,5538.148500389405,5424.34131206418,5316.531624780189,5214.71943853743,5118.904753335904,5029.08756917561,4945.26788605655,4867.445703978721,4795.621022942127,4729.793842946765,4669.964163992636,4616.131986079739,4568.297309208076,4526.460133377645,4490.620458588446,4460.778284840481,4436.933612133749,4419.08644046825,4407.236769843983,4401.384600260949,4401.5299317191475,4407.67276421858,4419.813097759245,4437.950932341142,4462.086267964271,4492.219104628635,4528.349442334231,4570.477281081059,4618.60262086912,4672.725461698415,4732.845803568942,4798.963646480703,4871.078990433694,4949.1918354279205,5033.3021814633785,5123.41002854007,5219.515376657993,5321.61822581715,5429.71857601754,5543.816427259162,5663.911779542018],[6503.876747687575,6337.509698497041,6177.140150347741,6022.768103239674,5874.393557172838,5732.016512147236,5595.636968162868,5465.254925219731,5340.870383317828,5222.483342457157,5110.093802637719,5003.701763859513,4903.307226122542,4808.910189426802,4720.510653772295,4638.108619159022,4561.70408558698,4491.297053056172,4426.887521566597,4368.4754911182545,4316.060961711144,4269.643933345268,4229.224406020623,4194.8023797372125,4166.377854495034,4143.9508302940885,4127.521307134376,4117.089285015895,4112.654763938648,4114.2177439026345,4121.778224907853,4135.336206954304,4154.891690041988,4180.444674170904,4211.995159341055,4249.543145552437,4293.088632805053,4342.631621098901,4398.172110433981,4459.710100810295,4527.245592227842,4600.778584686622,4680.309078186633,4765.837072727879,4857.362568310356,4954.885564934067,5058.4060625990105,5167.924061305188,5283.439561052597,5404.952561841239],[6192.2856101953275,6027.33620951058,5868.384309867068,5715.429911264786,5568.473013703737,5427.513617183922,5292.55172170534,5163.587327267989,5040.620433871873,4923.65104151699,4812.6791502033375,4707.704759930919,4608.727870699735,4515.748482509782,4428.766595361061,4347.782209253574,4272.79532418732,4203.805940162299,4140.81405717851,4083.8196752359545,4032.822794334632,3987.823414474541,3948.821535655684,3915.8171578780593,3888.8102811416675,3867.8009054465088,3852.7890307925827,3843.7746571798893,3840.7577846084287,3843.738413078201,3852.7165425892067,3867.692173141444,3888.6653047349155,3915.6359373696187,3948.6040710455554,3987.569705762725,4032.532841521127,4083.493478320762,4140.451616161629,4203.40725504373,4272.360394967063,4347.31103593163,4428.259177937429,4515.20482098446,4608.147965072725,4707.088610202222,4812.026756372952,4922.962403584916,5039.895551838112,5162.8262011325405],[5897.52732969516,5733.9955775162,5576.461326378473,5424.924576281979,5279.385327226718,5139.843579212689,5006.299332239894,4878.752586308331,4757.2033414180005,4641.6515975689035,4532.097354761039,4428.540612994408,4330.981372269009,4239.4196325848425,4153.855393941909,4074.288656340209,4000.7194197797417,3933.1476842605066,3871.5734497825047,3815.996716345736,3766.4174839501993,3722.8357525958963,3685.251522282825,3653.6647930109875,3628.0755647803826,3608.4838375910103,3594.8896114428712,3587.292886335965,3585.6936622702906,3590.09193924585,3600.487717262642,3616.880996320667,3639.271776419924,3667.6600575604143,3702.045839742138,3742.4291229650935,3788.8099072292825,3841.1881925347047,3899.5639788813587,3963.937266269246,4034.3080546983665,4110.676344168719,4193.042134680305,4281.405426233124,4375.766218827175,4476.124512462458,4582.480307138976,4694.833602856726,4813.184399615709,4937.532697415925],[5619.601906187076,5457.487802513902,5301.371199881962,5151.252098291254,5007.130497741779,4869.006398233538,4736.87979976653,4610.7507023407525,4490.61910595621,4376.4850106129,4268.3484163108205,4166.209323049977,4070.067730830365,3979.923639651985,3895.7770495148384,3817.627960418925,3745.4763723642445,3679.322285350796,3619.165699378582,3565.006614447599,3516.845030557849,3474.6809477093325,3438.5143659020487,3408.3452851359975,3384.17370541118,3365.9996267275937,3353.823049085241,3347.643972484121,3347.462396924235,3353.27832240558,3365.0917489281587,3382.9026764919704,3406.711105097015,3436.517034743292,3472.320465430802,3514.1213971595444,3561.9198299295203,3615.715763740729,3675.50919859317,3741.3001344868435,3813.088571421751,3890.8745093978905,3974.6579484152626,4064.4388884738682,4160.217329573707,4261.993271714777,4369.766714897081,4483.537659120619,4603.306104385387,4729.072050691389],[5358.509339671071,5197.8128845036845,5043.113930377532,4894.412477292611,4751.708525248923,4615.002074246468,4484.293124285245,4359.581675365256,4240.8677274864995,4128.151280648975,4021.4323348526846,3920.7108900976264,3825.9869463838013,3737.260503711208,3654.5315620798488,3577.800121489722,3507.066181940828,3442.329743433167,3383.590805966738,3330.8493695415427,3284.10543415758,3243.35899981485,3208.6100665133526,3179.8586342530884,3157.104703034057,3140.348272856258,3129.5893437196924,3124.8279156243593,3126.0639885702594,3133.2975625573918,3146.528637585757,3165.7572136553554,3190.9832907661867,3222.2068689182506,3259.4279481115473,3302.6465283460766,3351.8626096218386,3407.076191938834,3468.287275297062,3535.4958596965225,3608.701945137216,3687.9055316191425,3773.1066191423015,3864.305207706694,3961.5012973123194,4064.694887959176,4173.885979647268,4289.07457237659,4410.260666147146,4537.444260958937],[5114.249630147149,4954.97082348555,4801.689517865183,4654.405713286049,4513.1194097481475,4377.83060725148,4248.539305796044,4125.245505381841,4007.9492060088714,3896.6504076771344,3791.34911038663,3692.0453141373587,3598.73901892932,3511.4302247625146,3430.118931636941,3354.805139552601,3285.488848509494,3222.170058507619,3164.8487695469776,3113.5249816275686,3068.1986947493924,3028.8699089124493,2995.5386241167394,2968.204840362261,2946.868557649017,2931.5297759770046,2922.1884953462254,2918.844715756679,2921.4984372083654,2930.1496597012847,2944.798383235437,2965.444607810822,2992.0883334274395,3024.7295600852904,3063.368287784374,3108.00451652469,3158.6382463062396,3215.2694771290217,3277.898208993036,3346.524441898283,3421.148175844764,3501.7694108324768,3588.3881468614227,3681.004383931602,3779.618122043013,3884.2293611956575,3994.838101389535,4111.444342624645,4234.048084900987,4362.649328218564],[4886.822777615308,4728.9616194594955,4577.097962344915,4431.2318062715685,4291.363151239453,4157.491997248571,4029.618344298924,3907.7421923905076,3791.863541523324,3681.9823916973737,3578.0987429126562,3480.2125951691714,3388.3239484669202,3302.432802805901,3222.539158186115,3148.643014607562,3080.744372070241,3018.8432305741526,2962.9395901192984,2913.033450705676,2869.124812333286,2831.2136750021305,2799.3000387122065,2773.3839034635157,2753.4652692560576,2739.5441360898326,2731.6205039648403,2729.6943728810807,2733.7657428385537,2743.83461383726,2759.9009858771988,2781.9648589583703,2810.026233080775,2844.0851082444124,2884.141484449283,2930.1953616953856,2982.246739982721,3040.29561931129,3104.3419996810912,3174.385881092125,3250.427263544393,3332.4661470378924,3420.5025315726252,3514.5364171485908,3614.567803765789,3720.59669142422,3832.6230801238844,3950.646969864781,4074.66836064691,4204.687252470273],[4676.228782075548,4519.785272425523,4369.33926381673,4224.890756249169,4086.4397497228406,3953.986244237746,3827.5302397938844,3707.0717363912554,3592.6107340298586,3484.1472327096953,3381.6812324307643,3285.212733193066,3194.7417349966013,3110.2682378413692,3031.7922417273694,2959.3137466546027,2892.8327526230687,2832.349259632768,2777.8632676836996,2729.374776775864,2686.8837869092617,2650.390298083892,2619.8943102997555,2595.3958235568507,2576.89483785518,2564.3913531947414,2557.8853695755356,2557.376886997563,2562.8659054608224,2574.3524249653155,2591.8364455110413,2615.3179670979994,2644.796989726191,2680.273513395615,2721.747538106272,2769.2190638581615,2822.6880906512843,2882.1546184856397,2947.6186473612274,3019.0801772780487,3096.5392082361027,3179.995740235389,3269.4497732759082,3364.9013073576607,3466.350342480646,3573.7968786448637,3687.240915850315,3806.6824540969983,3932.121493384914,4063.5580337140636],[4482.467643527871,4327.441782383631,4178.413422280624,4035.382563218851,3898.3492051983108,3767.3133482190024,3642.274992280927,3523.2341373840845,3410.1907835284746,3303.144930714098,3202.096578940954,3107.0457282090424,3017.9923785183646,2934.936529868918,2857.878182260706,2786.8173356937264,2721.753990167979,2662.688145683465,2609.619802240183,2562.5489598381346,2521.4756184773187,2486.399778157736,2457.3214388793854,2434.240600642268,2417.1572634463837,2406.071427291732,2400.983092178313,2401.892258106127,2408.7989250751734,2421.703093085453,2440.6047621369653,2465.5039322297107,2496.400603363689,2533.2947755388996,2576.186448755343,2625.0756230130196,2679.962298311929,2740.8464746520713,2807.728152033446,2880.607330456053,2959.4840099198946,3044.3581904249677,3135.2298719712735,3232.099054558813,3334.965738187585,3443.829922857589,3558.6916085688267,3679.550795321297,3806.407483115,3939.2616719499365],[4305.5393619722745,4151.931149333822,4004.320437736602,3862.7072271806146,3727.091517665861,3597.473309192339,3473.8526017600507,3356.2293953689946,3244.603690019172,3138.975485710582,3039.344782443224,2945.7115802171,2858.0758790322084,2776.4376788885493,2700.7969797861233,2631.1537817249305,2567.5080847049703,2509.8598887262424,2458.209193788748,2412.555999892486,2372.900307037457,2339.2421152236607,2311.581424451097,2289.9182347197666,2274.252546029669,2264.5843583808037,2260.9136717731717,2263.2404862067724,2271.564801681606,2285.886618197672,2306.2059357549706,2332.522754353503,2364.837073993268,2403.1488946742647,2447.4582163964956,2497.7650391599586,2554.069362964655,2616.371187810584,2684.6705136977453,2758.96734062614,2839.2616685957673,2925.5534976066274,3017.84282765872,3116.1296587520465,3220.4139908866046,3330.6958240623953,3446.9751582794206,3569.2519935376768,3697.5263298371665,3831.79816717789],[4145.44393740876,3993.2533732760935,3847.0603101846605,3706.86474813446,3572.666687125493,3444.466127157758,3322.263068231256,3206.057510345987,3095.849453501951,2991.6388976991475,2893.4258429375773,2801.2102892172397,2714.9922365381344,2634.7716849002622,2560.5486343036227,2492.3230847482164,2430.095036234043,2373.864488761102,2323.6314423293943,2279.3958969389187,2241.1578525896766,2208.9173092816673,2182.6742670148906,2162.4287257893466,2148.1806856050353,2139.9301464619575,2137.6771083601116,2141.421571299499,2151.1635352801195,2166.9030003019725,2188.639966365058,2216.3744334693765,2250.1064016149285,2289.835870801712,2335.5628410297295,2387.2873122989795,2445.009284609462,2508.7287579611784,2578.4457323541264,2654.160207788307,2735.8721842637215,2823.5816617803684,2917.288640338248,3016.993119937361,3122.6951005777055,3234.394582259284,3352.0915649820954,3475.7860487461394,3605.4780335514147,3741.167519397925],[4002.1813698373253,3851.4084542104465,3706.6330396247995,3567.8551260803865,3435.074713577206,3308.2918021152573,3187.506391694543,3072.71848231506,2963.928073976811,2861.1351666797946,2764.339760424011,2673.5418552094598,2588.7414510361414,2509.9385479040557,2437.1331458132036,2370.325244763584,2309.5148447551974,2254.701945788043,2205.886547862122,2163.068650977433,2126.2482551339776,2095.425360331755,2070.599966570765,2051.772073851008,2038.9416821724833,2032.1087915351916,2031.2734019391332,2036.4355133843073,2047.5951258707141,2064.752239398354,2087.906853967226,2117.0589695773315,2152.2085862286704,2193.355703921241,2240.5003226550452,2293.6424424300817,2352.7820632463513,2417.9191851038536,2489.053808002589,2566.1859319425566,2649.315556923758,2738.442682946191,2833.5673100098575,2934.689438114757,3041.8090672608887,3154.9261974482533,3274.0408286768516,3399.152960946682,3530.262594257745,3667.3697286100414],[3875.751659257974,3726.3963921368813,3583.0386260570212,3445.678361018395,3314.315597021001,3188.95033406484,3069.5825721499114,2956.2123112762156,2848.839551443753,2747.464292652523,2652.086534902526,2562.706278193762,2479.32352252623,2401.938267899932,2330.550514314866,2265.160261771033,2205.767510268433,2152.3722598070653,2104.974510386931,2063.574262008029,2028.1715146703602,1998.7662683739245,1975.3585231187212,1957.9482789047509,1946.5355357320134,1941.1202936005084,1941.7025525102363,1948.282312461197,1960.859573453391,1979.4343354868176,2004.0065985614765,2034.576362677369,2071.1436278344936,2113.708394032851,2162.2706612724423,2216.8304295532653,2277.387698875322,2343.942469238611,2416.494740643133,2495.0445130888875,2579.5917865758747,2670.136561104095,2766.678836673548,2869.2186132842344,2977.7558909361533,3092.2906696293044,3212.8229493636895,3339.352730139306,3471.880011956156,3610.4047948142397],[3766.1548056707024,3618.217187055397,3476.2770694813244,3340.334452948484,3210.3893374568765,3086.441723006502,2968.4916095973613,2856.5389972294524,2750.583885902776,2650.626275617333,2556.6661663731225,2468.703558170145,2386.7384510084007,2310.7708448878884,2240.8007398086097,2176.828135770563,2118.85303277375,2066.875430818169,2020.8953299038214,1980.9127300307068,1946.9276311988242,1918.9400334081752,1896.9499366587588,1880.9573409505747,1870.9622462836242,1866.964652657906,1868.964560073421,1876.9619685301684,1890.9568780281488,1910.9492885673621,1936.9392001478082,1968.9266127694868,2006.9115264323987,2050.8939411365427,2100.873856881921,2156.8512736685307,2218.826191496373,2286.79861036545,2360.768530275758,2440.7359512272988,2526.700873220074,2618.6632962540807,2716.6232203293202,2820.5806454457934,2930.535571603499,3046.487998802437,3168.437927042609,3296.3853563240123,3430.3302866466493,3570.272718010519],[3673.3908090755135,3526.870838965994,3386.348369897708,3251.8234018706553,3123.295934884835,3000.7659689402467,2884.2335040368926,2773.69854017477,2669.1610773538805,2570.6211155742244,2478.0786548358005,2391.53369513861,2310.986236482652,2236.436278867927,2167.883822294434,2105.328866762175,2048.771412271148,1998.2114588213542,1953.6490064127936,1915.0840550454652,1882.5166047193698,1855.9466554345072,1835.3742071908778,1820.7992599884806,1812.2218138273165,1809.6418687073851,1813.0594246286867,1822.4744815912209,1837.887039594988,1859.2970986399882,1886.704658726221,1920.1097198536866,1959.512282022385,2004.912345232316,2056.3099094834806,2113.704974775877,2177.097541109507,2246.48760848437,2321.875176900465,2403.2602463577928,2490.6428168563543,2584.022888396148,2683.400460977174,2788.775534599434,2900.148109262926,3017.518184967651,3140.885761713609,3270.2508395008,3405.6134183292234,3546.97349819888],[3597.459669472406,3452.3573478686735,3313.2525273061738,3180.1452077849076,3053.0353893048737,2931.9230718660724,2816.8082554685047,2707.6909401121693,2604.571125797067,2507.4488125231974,2416.3240002905604,2331.196689099156,2252.066878948985,2178.9345698400466,2111.799761772341,2050.6624547458687,1995.5226487606283,1946.380343816621,1903.235539913847,1866.0882370523054,1834.9384352319971,1809.786134452921,1790.631334715078,1777.4740360184678,1770.3142383630902,1769.1519417489458,1773.987146176034,1784.8198516443551,1801.650058153909,1824.4777657046957,1853.302974296715,1888.1256839299676,1928.9458946044529,1975.7636063201708,2028.5788190771218,2087.3915328753055,2152.2017477147215,2223.009463595371,2299.814680517253,2382.6173984803677,2471.417617484716,2566.215337530296,2667.010558617109,2773.803280745156,2886.593503914434,3005.3812281249466,3130.1664533766916,3260.9491796696684,3397.729407003879,3540.507135379322],[3538.3613868613793,3394.6767137634342,3256.989541706721,3125.2998706912413,2999.6077007169943,2879.91303178398,2766.2158638921987,2658.51619704165,2556.814031232334,2461.1093664642513,2371.4022027374012,2287.692540051784,2209.9803784073993,2138.2657178042477,2072.548558242329,2012.8288997216428,1959.10674224219,1911.3820858039694,1869.6549304069817,1833.925276051227,1804.1931227367052,1780.458470463416,1762.7213192313598,1750.9816690405362,1745.2395198909458,1745.4948717825878,1751.747724715463,1763.9980786895705,1782.2459337049113,1806.4912897614847,1836.7341468592908,1872.9745049983298,1915.212364178602,1963.4477244001066,2017.6805856628444,2077.910947966815,2144.138811312018,2216.3641756984543,2294.5870411261226,2378.8074075950244,2469.0252751051594,2565.240643656526,2667.453513249126,2775.6638838829595,2889.8717555580247,3010.0771282743226,3136.280002031855,3268.480376830619,3406.6782526706156,3550.873629551846],[3496.0959612424344,3353.828936650276,3217.559413099349,3087.2873905896568,2963.012869121196,2844.7358486939684,2732.456329307974,2626.1743109632125,2525.889793659683,2431.6027773973874,2343.3132621763234,2261.021247996493,2184.7267348578953,2114.4297227605302,2050.1302117043983,1991.828201689499,1939.5236927158326,1893.216684783399,1852.9071778921984,1818.59517204223,1790.280667233495,1767.9636634659926,1751.6441607397232,1741.3221590546864,1736.9976584108822,1738.6706588083114,1746.3411602469732,1760.0091627268678,1779.674666247995,1805.3376708103553,1836.9981764139484,1874.6561830587739,1918.3116907448327,1967.964699472124,2023.6152092406487,2085.2632200504054,2152.908731901395,2226.551744793618,2306.1922587270737,2391.830273701762,2483.465789717684,2581.0988067748376,2684.729324873224,2794.357344012844,2909.9828641936965,3031.6058854157814,3159.2264076791,3292.8444309836505,3432.4599553294343,3578.0729807164516],[3470.6633926155705,3329.814016529199,3194.962141484059,3066.107767480153,2943.25089451748,2826.3915225960386,2715.529651715831,2610.665281876856,2511.7984130791137,2418.929045322604,2332.057178607327,2251.1828129332835,2176.3059483004727,2107.4265847088946,2044.5447221585491,1987.6603606494366,1936.7735001815568,1891.8841407549098,1852.992282369496,1820.0979250253145,1793.201068722366,1772.3017134606505,1757.3998592401676,1748.4955060609177,1745.5886539229004,1748.6793028261163,1757.767452770565,1772.8531037562461,1793.93625578316,1821.016908851307,1854.0950629606868,1893.1707181112993,1938.2438743031448,1989.314531536223,2046.382689810534,2109.4483491260776,2178.5115094828543,2253.572170880864,2334.6303333201063,2421.685996800581,2514.7391613222894,2613.78982688523,2718.8379934894033,2829.8836611348097,2946.9268298214492,3069.967499549321,3199.0056703184264,3334.0413421287635,3475.074514980334,3622.1051888731376],[3462.0636809807884,3322.631953400203,3189.1977268608507,3061.7610013627313,2940.3217769058447,2824.88005349019,2715.4358311157694,2611.9891097825807,2514.5398894906252,2423.088170239903,2337.6339520304127,2258.177234862156,2184.7180187351314,2117.2563036493398,2055.7920896047817,2000.3253766014554,1950.8561646393625,1907.3844537185023,1869.9102438388752,1838.4335350004806,1812.9543272033188,1793.47262044739,1779.9884147326939,1772.5017100592306,1771.012506427,1775.5208038360024,1786.026602286238,1802.5299017777058,1825.0307023104067,1853.5290038843405,1888.0248064995067,1928.518110155906,1975.0089148535383,2027.4972205924032,2085.983027372501,2150.4663351938316,2220.947144056395,2297.425453960191,2379.90126490522,2468.3745768914823,2562.845389918977,2663.3137039877042,2769.779519097665,2882.242835248858,3000.7036524412833,3125.161970674942,3255.6177899498343,3392.0711102659584,3534.521931623315,3682.970254021906],[3470.296826338088,3332.28274726329,3200.266169229724,3074.2470922373905,2954.2255162862903,2840.2014413764236,2732.174867507789,2630.1457946803876,2534.114222894219,2444.0801521492826,2360.0435824455794,2282.0045137831094,2209.962946161872,2143.918879581867,2083.872314043095,2029.8232495455559,1981.77168608925,1939.7176236741764,1903.6610623003357,1873.6020019677278,1849.540442676353,1831.4763844262106,1819.4098272173014,1813.340771049625,1813.2692159231815,1819.1951618379703,1831.1186087939923,1849.0395567912474,1872.9580058297347,1902.8739559094552,1938.7874070304083,1980.6983591925944,2028.606812396013,2082.5127666406647,2142.416221926549,2208.3171782536665,2280.2156356220166,2358.1115940316,2442.005053482416,2531.896013974464,2627.784475507746,2729.6704380822594,2837.553901698007,2951.4348663549868,3071.3133320531997,3197.189298792645,3329.0627665733236,3466.933735395234,3610.8022052583783,3760.6681761627556],[3495.362828687469,3358.766398118457,3228.1674685906773,3103.566040104132,2984.9621126588186,2872.3556862547384,2765.74676089189,2665.1353365702753,2570.521413289893,2481.9049910507442,2399.2860698528275,2322.664649696144,2252.0407305806934,2187.4143125064757,2128.7853954734906,2076.153979481738,2029.5200645312182,1988.8836506219318,1954.2447377538779,1925.603325927057,1902.9594151414685,1886.313005397113,1875.6640966939904,1871.012689032101,1872.358782411444,1879.7023768320198,1893.0434722938285,1912.38206879687,1937.7181663411443,1969.0517649266517,2006.3828645533918,2049.711465221364,2099.03756693057,2154.3611696810085,2215.6822734726798,2283.0008783055837,2356.3169841797203,2435.6305910950905,2520.9416990516925,2612.250308049528,2709.5564180885967,2812.860029168897,2922.1611412904304,3037.459754453198,3158.755868657197,3286.049483902429,3419.3406001888948,3558.6292175165922,3703.915335885523,3855.198955295687],[3537.2616880289306,3402.082905965706,3272.9016249437136,3149.7178449629546,3032.531566023428,2921.3427881251337,2816.1515112680727,2716.9577354522444,2623.7614606776497,2536.5626869442867,2455.3614142521574,2380.1576426012602,2310.9513719915963,2247.742602423165,2190.531333895967,2139.3175664100013,2094.1012999652685,2054.882534561769,2021.6612701995011,1994.437506878467,1973.2112445986654,1957.982483360097,1948.751223162761,1945.517464006658,1948.2812058917877,1957.0424488181504,1971.8011927857456,1992.557437794574,2019.311183844635,2052.062430935929,2090.8111790684557,2135.557428242215,2186.3011784572072,2243.0424297134323,2305.781182010891,2374.5174353495813,2449.251189729505,2529.982445150662,2616.711201613051,2709.4374591166725,2808.161217661528,2912.8824772476155,3023.6012378749356,3140.3174995434892,3263.0312622532756,3391.742526004294,3526.4512907965463,3667.1575566300307,3813.861323504748,3966.5625914206985],[3595.993404362475,3462.232270805036,3334.4686382888312,3212.7025068138582,3096.933876380118,2987.162746987611,2883.389118636337,2785.6129913262957,2693.8343650574875,2608.0532398299115,2528.2696156435686,2454.4834924984584,2386.694870394581,2324.9037493319365,2269.110129310525,2219.314010330346,2175.5153923914,2137.7142754936867,2105.9106596372067,2080.104544821959,2060.295931047944,2046.484818315162,2038.671206623613,2036.8550959732966,2041.036486364213,2051.2153777963626,2067.3917702697445,2089.56566378436,2117.737058340207,2151.9059539372884,2192.072350575602,2238.236248255148,2290.3976469759273,2348.5565467379383,2412.712947541184,2482.866849385661,2559.0182522713712,2641.1671561983144,2729.31356116649,2823.457467175899,2923.5988742265413,3029.7377823184156,3141.874191451522,3260.0081016258628,3384.139512841436,3514.268425098241,3650.3948383962806,3792.518752735551,3940.640168116055,4094.759084537793],[3671.5579776881,3539.214492636448,3412.86850862603,3292.5200256568437,3178.1690437288908,3069.81556284217,2967.459582996683,2871.101104192428,2780.7401264294067,2696.3766497076176,2618.010674027061,2545.6421993877375,2479.2712257896474,2418.8977532327895,2364.5217817171642,2316.143311242772,2273.7623418096127,2237.3788734176865,2206.992906066993,2182.6044397575324,2164.213474489304,2151.8200102623086,2145.4240470765467,2145.025584932017,2150.6246238287204,2162.2211637666564,2179.815204745825,2203.406746766227,2232.9957898278612,2268.582333930729,2310.166379074829,2357.747925260162,2411.326972486728,2470.903520754526,2536.4775700635582,2608.049120413822,2685.618171805319,2769.1847242380495,2858.7487777120123,2954.3103322272077,3055.8693877836363,3163.425944381297,3276.9800020201906,3396.531560700318,3522.080620421678,3653.62718118427,3791.1712429880954,3934.7128058331527,4084.2518697194437,4239.788434646968],[3763.955408005806,3633.0295714599415,3508.1012359553097,3389.17040149191,3276.237068069744,3169.3012356888103,3068.362904349109,2973.4220740506416,2884.478744793407,2801.532916577404,2724.5845894026343,2653.633763269098,2588.6804381767943,2529.7246141257237,2476.766291115885,2429.80546914728,2388.8421482199074,2353.8763283337676,2324.9080094888604,2301.9371916851865,2284.963874922745,2273.9880592015365,2269.0097445215615,2270.0289308828187,2277.045618285308,2290.059806729031,2309.0714962139864,2334.080686740175,2365.0873783075967,2402.091570916251,2445.093264566137,2494.0924592572574,2549.0891549896096,2610.0833517631945,2677.0750495780135,2750.064248434064,2829.050948331348,2914.035149269865,3005.016851249614,3101.9960542705962,3204.9727583328117,3313.9469634362595,3428.9186695809403,3549.8878767668543,3676.854584994,3809.818794262379,3948.7805045719924,4093.7397159228362,4244.696428314914,4401.650641748225],[3873.1856953155943,3743.6775072755163,3620.1668202766714,3502.6536343190583,3391.1379494026787,3285.6197655275323,3186.099082693618,3092.575900900937,3005.0502201494887,2923.522040439273,2847.99136177029,2778.4581841425406,2714.9225075560234,2657.384332010739,2605.8436575066876,2560.300484043869,2520.754811622283,2487.2066402419305,2459.6559699028103,2438.102800604923,2422.547132348268,2412.9889651328467,2409.4282989586577,2411.8651338257014,2420.299469733978,2434.7313066834877,2455.16064467423,2481.5874837062056,2514.011823779413,2552.4336648938543,2596.853007049528,2647.2698502464345,2703.6841944845737,2766.0960397639456,2834.505386084551,2908.912233446388,2989.316581849459,3075.718431293763,3168.1177817792986,3266.5146333060675,3370.9089858740695,3481.300839483304,3597.690194133771,3720.077049825472,3848.4614065584046,3982.84326433257,4123.22262314797,4269.599483004601,4421.973843902465,4580.345705841562],[3999.2488396174635,3871.1583000831724,3749.0652615901136,3632.9697241382883,3522.871687727695,3418.771152358335,3320.6681180302076,3228.5625847433134,3142.454552497652,3062.344021293223,2988.2309911300263,2920.1154620080633,2857.997433927333,2801.8769068878355,2751.753880889571,2707.6283559325393,2669.5003320167402,2637.369809142174,2611.2367873088406,2591.1012665167395,2576.963246765872,2568.822728056237,2566.6797103878343,2570.5341937606654,2580.3861781747287,2596.235663630025,2618.082650126554,2645.9271376643164,2679.769126243311,2719.608615863538,2765.4456065249988,2817.280098227692,2875.1120909716183,2938.941584756777,3008.7685795831685,3084.593075450793,3166.4150723596504,3254.234570309741,3348.0515693010634,3447.866069333619,3553.678070407408,3665.487572522429,3783.294575678683,3907.0990798761704,4036.9010851148905,4172.700591394842,4314.497598716029,4462.292107078447,4616.084116482098,4775.873626926983],[4142.1448409114155,4015.471949882911,3894.7965598956384,3780.1186709496,3671.438283044794,3568.7553961812205,3472.0700103588797,3381.382125577772,3296.691741837897,3217.998859139255,3145.303477481846,3078.6055968656697,3017.905217290726,2963.2023387570152,2914.4969612645373,2871.7890848132915,2835.0787094032794,2804.3658350345004,2779.650461706953,2760.9325894206395,2748.2122181755585,2741.4893479717102,2740.7639788090946,2746.036110687712,2757.3057436075624,2774.5728775686457,2797.8375125709613,2827.09964861451,2862.359285699292,2903.616423825306,2950.871062992553,3004.123203201033,3063.3728444507456,3128.6199867416913,3199.8646300738696,3277.1067744472807,3360.346419861925,3449.5835663178023,3544.8182138149114,3646.0503623532536,3753.2800119328294,3866.5071625536375,3985.731814215678,4110.953966918953,4242.17362066346,4379.3907754491975,4522.605431276172,4671.817588144375,4827.027246053813,4988.234405004485],[4301.873699197447,4176.618456674729,4057.360715193244,3944.100474752992,3836.8377353539727,3735.5724969961857,3640.3047596796323,3551.0345234043116,3467.761788170223,3390.486553977368,3319.208820825745,3253.9285887153555,3194.6458576461987,3141.3606276182745,3094.072898631583,3052.7826706861247,3017.489943781899,2988.1947179189065,2964.896993097146,2947.5967693166194,2936.294046577325,2930.9888248792636,2931.681104222435,2938.370884606839,2951.058166032476,2969.7429484993454,2994.4252320074484,3025.105016556784,3061.7823021473523,3104.457088779153,3153.129376452187,3207.799165166454,3268.4664549219533,3335.131245718685,3407.7935375566512,3486.453330435849,3571.110624356279,3661.765419317943,3758.4177153208393,3861.067512364968,3969.7148104503312,4084.3596095769253,4205.001909744753,4331.641710953814,4464.279013204106,4602.913816495633,4747.546120828392,4898.175926202383,5054.803232617608,5217.428040074066],[4478.435414475561,4354.597820458629,4236.757727482931,4124.915135548465,4019.070044655233,3919.222454803233,3825.372365992466,3737.5197782229325,3655.6646914946305,3579.807105807562,3509.947021161726,3446.0844375571232,3388.219354993753,3336.351773471615,3290.481692990711,3250.6091135510396,3216.7340351526,3188.856457795394,3166.9763814794214,3151.0938062046807,3141.208731971173,3137.3211587788983,3139.4310866278565,3147.5385155180475,3161.643445449471,3181.7458764221274,3207.845808436017,3239.943241491139,3278.038175587494,3322.1306107250816,3372.220546903902,3428.307984123956,3490.392922385242,3558.4753616877606,3632.555302031513,3712.6327434164978,3798.7076858427154,3890.7801293101656,3988.8500738188486,4092.9175193687643,4202.9824659599135,4319.044913592295,4441.104862265909,4569.162311980757,4703.217262736836,4843.26971453415,4989.319667372695,5141.367121252474,5299.412076173485,5463.454532135729],[4671.829986745757,4549.410041234612,4432.9875967647,4322.562653336022,4218.135210948576,4119.705269602363,4027.272829297383,3940.837890033635,3860.4004518111205,3785.960514629838,3717.5180784897893,3655.073143390973,3598.6257093333898,3548.175776317039,3503.7233443419213,3465.2684134080364,3432.810983515384,3406.3510546639654,3385.8886268537785,3371.4237000848248,3362.956274357104,3360.4863496706166,3364.013926025361,3373.5390034213387,3389.0615818585484,3410.581661336992,3438.0992418566684,3471.6143234175775,3511.126906019719,3556.636989663093,3608.1445743477007,3665.649660073541,3729.1522468406138,3798.65233464892,3874.1499234984585,3955.64501338923,4043.1376043212335,4136.627696294471,4236.115289308941,4341.600383364644,4453.08297846158,4570.563074599748,4694.040671779148,4823.5157699997835,4958.9883692616495,5100.458469564749,5247.926070909082,5401.391173294647,5560.853776721444,5726.313881189476],[4882.057416008032,4761.0551190026745,4646.05032303855,4537.043028115658,4434.033234233999,4337.020941393573,4246.006149594379,4160.988858836417,4081.96906911969,4008.9467804441956,3941.921992809933,3880.894706216903,3825.864920665107,3776.8326361545433,3733.797852685212,3696.760570257113,3665.7207888702483,3640.6785085246156,3621.633729220216,3608.5864509570492,3601.536673735114,3600.4843975544136,3605.429622414945,3616.3723483167096,3633.3125752597066,3656.250303243937,3685.1855322693996,3720.118262336095,3761.0484934440237,3807.976225593185,3860.9014587835786,3919.8241930152058,3984.744428288065,4055.662164602158,4132.577401957484,4215.490140354042,4304.400379791833,4399.308120270856,4500.213361791113,4607.116104352603,4720.016347955326,4838.91409259928,4963.809338284467,5094.702085010889,5231.592332778542,5374.480081587429,5523.365331437548,5678.248082328899,5839.128334261484,6006.006087235302],[5109.117702262391,4989.533053762819,4875.9459063044815,4768.356259887376,4666.764114511503,4571.169470176864,4481.572326883457,4397.972684631283,4320.370543420342,4248.7659032506335,4183.158764122158,4123.549126034915,4069.936988988905,4022.322352984128,3980.7052180205837,3945.085584098272,3915.463451217194,3891.8388193773476,3874.2116885787345,3862.5820588213546,3856.949930105207,3857.3153024302924,3863.678175796611,3876.0385502041618,3894.3964256529457,3918.7518021429632,3949.104679674212,3985.4550582466945,4027.8029378604097,4076.1483185153575,4130.491200211539,4190.831582948952,4257.169466727599,4329.504851547477,4407.83773740859,4492.168124310935,4582.496012254513,4678.821401239324,4781.1442912653665,4889.464682332642,5003.782574441151,5124.097967590893,5250.410861781867,5382.721257014076,5521.029153287516,5665.334550602189,5815.637448958095,5971.937848355234,6134.235748793604,6302.531150273211],[5353.010845508831,5234.843845515046,5122.674346562496,5016.502348651176,4916.327851781091,4822.150855952239,4733.971361164618,4651.7893674182305,4575.604874713076,4505.417883049155,4441.228392426466,4383.03640284501,4330.841914304787,4284.644926805797,4244.4454403480395,4210.243454931514,4182.038970556223,4159.831987222164,4143.622504929337,4133.410523677743,4129.196043467383,4130.979064298255,4138.75958617036,4152.537609083698,4172.313133038269,4198.086158034072,4229.856684071108,4267.624711149378,4311.39023926888,4361.153268429614,4416.913798631582,4478.671829874782,4546.427362159215,4620.180395484881,4699.93092985178,4785.678965259911,4877.424501709276,4975.167539199874,5078.908077731704,5188.646117304766,5304.3816579190625,5426.11469957459,5553.845242271352,5687.573286009347,5827.2988307885735,5973.021876609033,6124.742423470727,6282.460471373652,6446.176020317809,6615.889070303201],[5613.736845747351,5496.987494259354,5386.23564381259,5281.481294407057,5182.724446042758,5089.965098719693,5003.203252437859,4922.438907197258,4847.672062997891,4778.902719839756,4716.130877722853,4659.356536647185,4608.579696612748,4563.800357619544,4525.018519667574,4492.234182756835,4465.44734688733,4444.658012059058,4429.866178272019,4421.071845526212,4418.275013821638,4421.475683158297,4430.673853536189,4445.869524955313,4467.06269741567,4494.253370917261,4527.441545460084,4566.627221044139,4611.810397669428,4662.99107533595,4720.169254043704,4783.344933792691,4852.518114582911,4927.688796414364,5008.856979287049,5096.022663200967,5189.185848156119,5288.346534152503,5393.50472119012,5504.660409268969,5621.813598389053,5744.964288550367,5874.1124797529155,6009.258171996697,6150.40136528171,6297.542059607957,6450.680254975437,6609.815951384148,6774.949148834094,6946.079847325273],[5891.295702977954,5775.963999995743,5666.629798054764,5563.2930971550195,5465.953897296507,5374.612198479228,5289.268000703181,5209.921303968367,5136.572108274786,5069.220413622437,5007.866220011322,4952.50952744144,4903.150335912791,4859.788645425373,4822.42445597919,4791.057767574239,4765.688580210519,4746.316893888034,4732.942708606782,4725.566024366761,4724.186841167973,4728.80515901042,4739.420977894098,4756.03429781901,4778.6451187851535,4807.2534407925305,4841.859263841141,4882.462587930984,4929.063413062058,4981.661739234367,5040.257566447908,5104.850894702682,5175.441723998689,5252.030054335928,5334.6158857144,5423.199218134105,5517.780051595043,5618.358386097214,5724.934221640618,5837.507558225254,5956.078395851124,6080.6467345182255,6211.21257422656,6347.775914976129,6490.336756766928,6638.895099598961,6793.450943472228,6954.004288386726,7120.555134342457,7293.1034813394235],[6185.687417200638,6071.773362724214,5963.856809289024,5861.937756895064,5766.016205542339,5676.092155230846,5592.165605960587,5514.2365577315595,5442.305010543766,5376.370964397203,5316.434419291875,5262.49537522778,5214.553832204916,5172.609790223287,5136.6632492828885,5106.714209383725,5082.7626705257935,5064.808632709094,5052.852095933628,5046.893060199394,5046.931525506395,5052.967491854627,5065.000959244093,5083.03192767479,5107.060397146722,5137.086367659885,5173.109839214281,5215.130811809911,5263.149285446772,5317.165260124867,5377.178735844195,5443.189712604755,5515.19819040655,5593.204169249575,5677.207649133835,5767.208630059326,5863.207112026052,5965.203095034009,6073.1965790832,6187.187564173622,6307.176050305278,6433.162037478167,6565.145525692288,6703.126514947642,6847.1050052442315,6997.08099658205,7153.054488961104,7315.025482381389,7482.993976842908,7656.959972345659],[6496.911988415403,6384.415582444765,6277.916677515361,6177.41527362719,6082.911370780251,5994.404968974544,5911.896068210072,5835.384668486831,5764.870769804824,5700.354372164049,5641.835475564507,5589.314080006198,5542.790185489122,5502.263792013278,5467.734899578669,5439.20350818529,5416.669617833146,5400.133228522233,5389.594340252554,5385.052953024107,5386.509066836894,5393.962681690913,5407.413797586165,5426.8624145226495,5452.308532500367,5483.7521515193175,5521.193271579501,5564.631892680917,5614.068014823566,5669.501638007447,5730.932762232562,5798.36138749891,5871.787513806489,5951.211141155303,6036.632269545349,6128.050898976628,6225.467029449139,6328.880660962883,6438.291793517859,6553.700427114069,6675.106561751512,6802.510197430187,6935.911334150096,7075.309971911237,7220.706110713611,7372.099750557218,7529.4908914420585,7692.87953336813,7862.265676335435,8037.649320343974],[6824.969416622248,6713.890659157398,6608.809402733781,6509.725647351395,6416.639393010243,6329.550639710324,6248.459387451639,6173.365636234184,6104.269386057964,6041.170636922976,5984.069388829221,5932.965641776698,5887.859395765408,5848.750650795351,5815.639406866528,5788.525663978937,5767.409422132579,5752.290681327453,5743.169441563561,5740.045702840901,5742.919465159474,5751.79072851928,5766.659492920318,5787.52575836259,5814.389524846095,5847.250792370833,5886.109560936802,5930.965830544004,5981.819601192439,6038.670872882109,6101.519645613011,6170.365919385144,6245.209694198511,6326.050970053111,6412.889746948944,6505.7260248860075,6604.559803864307,6709.391083883838,6820.219864944601,6937.046147046597,7059.869930189827,7188.691214374289,7323.509999599984,7464.326285866913,7611.140073175073,7763.951361524467,7922.760150915094,8087.566441346952,8258.370232820045,8435.17152533437],[7169.8597018211785,7060.198592862114,6956.534984944285,6858.868878067686,6767.2002722323205,6681.529167438188,6601.855563685288,6528.179460973622,6460.500859303188,6398.819758673986,6343.136159086018,6293.450060539282,6249.761463033779,6212.07036656951,6180.3767711464725,6154.6806767646685,6134.982083424096,6121.280991124758,6113.577399866653,6111.8713096497795,6116.162720474139,6126.451632339732,6142.738045246557,6165.021959194615,6193.303374183906,6227.582290214431,6267.858707286187,6314.132625399177,6366.404044553399,6424.672964748854,6488.939385985543,6559.203308263463,6635.464731582617,6717.723655943004,6805.980081344623,6900.234007787474,7000.485435271559,7106.734363796877,7218.980793363427,7337.224723971211,7461.466155620227,7591.705088310477,7727.941522041958,7870.175456814673,8018.40689262862,8172.635829483799,8332.862267380213,8499.08620631786,8671.307646296738,8849.52658731685],[7531.582844012188,7423.339383558909,7321.093424146867,7224.844965776055,7134.5940084464755,7050.340552158131,6972.084596911018,6899.8261427051375,6833.56518954049,6773.301737417076,6719.035786334894,6670.767336293945,6628.496387294229,6592.222939335746,6561.946992418496,6537.668546542478,6519.387601707693,6507.104157914142,6500.818215161822,6500.529773450736,6506.238832780882,6517.945393152262,6535.649454564874,6559.351017018719,6589.050080513797,6624.746645050107,6666.44071062765,6714.132277246428,6767.821344906435,6827.507913607678,6893.191983350152,6964.87355413386,7042.552625958801,7126.229198824974,7215.90327273238,7311.5748476810195,7413.243923670891,7520.910500701995,7634.574578774333,7754.236157887903,7879.895238042705,8011.551819238742,8149.205901476009,8292.857484754511,8442.506569074245,8598.153154435213,8759.797240837412,8927.438828280843,9101.07791676551,9280.71450629141],[7910.138843195276,7803.313031247787,7702.484720341529,7607.653910476505,7518.820601652714,7435.984793870155,7359.146487128828,7288.305681428735,7223.462376769874,7164.616573152246,7111.768270575852,7064.917469040689,7024.06416854676,6989.2083690940635,6960.3500706826,6937.489273312369,6920.6259769833705,6909.760181695606,6904.891887449074,6906.021094243773,6913.147802079708,6926.272010956874,6945.393720875272,6970.512931834904,7001.629643835768,7038.743856877865,7081.8555709611965,7130.964786085759,7186.071502251554,7247.175719458584,7314.277437706845,7387.376656996339,7466.473377327067,7551.567598699026,7642.659321112219,7739.748544566644,7842.835269062302,7951.919494599195,8067.001221177318,8188.080448796674,8315.157177457264,8448.231407159088,8587.303137902143,8732.372369686433,8883.439102511951,9040.503336378704,9203.565071286692,9372.62430723591,9547.681044226363,9728.735282258049],[8305.527699370452,8200.119535928749,8100.708873528278,8007.29571216904,7919.880051851035,7838.4618925742625,7763.0412343387225,7693.618077144417,7630.192420991342,7572.764265879501,7521.333611808892,7475.900458779519,7436.464806791376,7403.026655844466,7375.58600593879,7354.142857074346,7338.697209251133,7329.2490624691545,7325.798416728409,7328.345272028897,7336.889628370618,7351.431485753569,7371.970844177755,7398.507703643174,7431.042064149824,7469.573925697709,7514.103288286826,7564.630151917176,7621.154516588757,7683.6763823015735,7752.195749055622,7826.712616850904,7907.226985687416,7993.738855565163,8086.248226484143,8184.755098444355,8289.2594714458,8399.76134548848,8516.260720572389,8638.757596697533,8767.251973863911,8901.743852071519,9042.233231320359,9188.720111610437,9341.204492941743,9499.686375314282,9664.165758728057,9834.642643183062,10011.117028679302,10193.588915216775]],\"type\":\"surface\"}],                        {\"template\":{\"data\":{\"histogram2dcontour\":[{\"type\":\"histogram2dcontour\",\"colorbar\":{\"outlinewidth\":0,\"ticks\":\"\"},\"colorscale\":[[0.0,\"#0d0887\"],[0.1111111111111111,\"#46039f\"],[0.2222222222222222,\"#7201a8\"],[0.3333333333333333,\"#9c179e\"],[0.4444444444444444,\"#bd3786\"],[0.5555555555555556,\"#d8576b\"],[0.6666666666666666,\"#ed7953\"],[0.7777777777777778,\"#fb9f3a\"],[0.8888888888888888,\"#fdca26\"],[1.0,\"#f0f921\"]]}],\"choropleth\":[{\"type\":\"choropleth\",\"colorbar\":{\"outlinewidth\":0,\"ticks\":\"\"}}],\"histogram2d\":[{\"type\":\"histogram2d\",\"colorbar\":{\"outlinewidth\":0,\"ticks\":\"\"},\"colorscale\":[[0.0,\"#0d0887\"],[0.1111111111111111,\"#46039f\"],[0.2222222222222222,\"#7201a8\"],[0.3333333333333333,\"#9c179e\"],[0.4444444444444444,\"#bd3786\"],[0.5555555555555556,\"#d8576b\"],[0.6666666666666666,\"#ed7953\"],[0.7777777777777778,\"#fb9f3a\"],[0.8888888888888888,\"#fdca26\"],[1.0,\"#f0f921\"]]}],\"heatmap\":[{\"type\":\"heatmap\",\"colorbar\":{\"outlinewidth\":0,\"ticks\":\"\"},\"colorscale\":[[0.0,\"#0d0887\"],[0.1111111111111111,\"#46039f\"],[0.2222222222222222,\"#7201a8\"],[0.3333333333333333,\"#9c179e\"],[0.4444444444444444,\"#bd3786\"],[0.5555555555555556,\"#d8576b\"],[0.6666666666666666,\"#ed7953\"],[0.7777777777777778,\"#fb9f3a\"],[0.8888888888888888,\"#fdca26\"],[1.0,\"#f0f921\"]]}],\"heatmapgl\":[{\"type\":\"heatmapgl\",\"colorbar\":{\"outlinewidth\":0,\"ticks\":\"\"},\"colorscale\":[[0.0,\"#0d0887\"],[0.1111111111111111,\"#46039f\"],[0.2222222222222222,\"#7201a8\"],[0.3333333333333333,\"#9c179e\"],[0.4444444444444444,\"#bd3786\"],[0.5555555555555556,\"#d8576b\"],[0.6666666666666666,\"#ed7953\"],[0.7777777777777778,\"#fb9f3a\"],[0.8888888888888888,\"#fdca26\"],[1.0,\"#f0f921\"]]}],\"contourcarpet\":[{\"type\":\"contourcarpet\",\"colorbar\":{\"outlinewidth\":0,\"ticks\":\"\"}}],\"contour\":[{\"type\":\"contour\",\"colorbar\":{\"outlinewidth\":0,\"ticks\":\"\"},\"colorscale\":[[0.0,\"#0d0887\"],[0.1111111111111111,\"#46039f\"],[0.2222222222222222,\"#7201a8\"],[0.3333333333333333,\"#9c179e\"],[0.4444444444444444,\"#bd3786\"],[0.5555555555555556,\"#d8576b\"],[0.6666666666666666,\"#ed7953\"],[0.7777777777777778,\"#fb9f3a\"],[0.8888888888888888,\"#fdca26\"],[1.0,\"#f0f921\"]]}],\"surface\":[{\"type\":\"surface\",\"colorbar\":{\"outlinewidth\":0,\"ticks\":\"\"},\"colorscale\":[[0.0,\"#0d0887\"],[0.1111111111111111,\"#46039f\"],[0.2222222222222222,\"#7201a8\"],[0.3333333333333333,\"#9c179e\"],[0.4444444444444444,\"#bd3786\"],[0.5555555555555556,\"#d8576b\"],[0.6666666666666666,\"#ed7953\"],[0.7777777777777778,\"#fb9f3a\"],[0.8888888888888888,\"#fdca26\"],[1.0,\"#f0f921\"]]}],\"mesh3d\":[{\"type\":\"mesh3d\",\"colorbar\":{\"outlinewidth\":0,\"ticks\":\"\"}}],\"scatter\":[{\"fillpattern\":{\"fillmode\":\"overlay\",\"size\":10,\"solidity\":0.2},\"type\":\"scatter\"}],\"parcoords\":[{\"type\":\"parcoords\",\"line\":{\"colorbar\":{\"outlinewidth\":0,\"ticks\":\"\"}}}],\"scatterpolargl\":[{\"type\":\"scatterpolargl\",\"marker\":{\"colorbar\":{\"outlinewidth\":0,\"ticks\":\"\"}}}],\"bar\":[{\"error_x\":{\"color\":\"#2a3f5f\"},\"error_y\":{\"color\":\"#2a3f5f\"},\"marker\":{\"line\":{\"color\":\"#E5ECF6\",\"width\":0.5},\"pattern\":{\"fillmode\":\"overlay\",\"size\":10,\"solidity\":0.2}},\"type\":\"bar\"}],\"scattergeo\":[{\"type\":\"scattergeo\",\"marker\":{\"colorbar\":{\"outlinewidth\":0,\"ticks\":\"\"}}}],\"scatterpolar\":[{\"type\":\"scatterpolar\",\"marker\":{\"colorbar\":{\"outlinewidth\":0,\"ticks\":\"\"}}}],\"histogram\":[{\"marker\":{\"pattern\":{\"fillmode\":\"overlay\",\"size\":10,\"solidity\":0.2}},\"type\":\"histogram\"}],\"scattergl\":[{\"type\":\"scattergl\",\"marker\":{\"colorbar\":{\"outlinewidth\":0,\"ticks\":\"\"}}}],\"scatter3d\":[{\"type\":\"scatter3d\",\"line\":{\"colorbar\":{\"outlinewidth\":0,\"ticks\":\"\"}},\"marker\":{\"colorbar\":{\"outlinewidth\":0,\"ticks\":\"\"}}}],\"scattermapbox\":[{\"type\":\"scattermapbox\",\"marker\":{\"colorbar\":{\"outlinewidth\":0,\"ticks\":\"\"}}}],\"scatterternary\":[{\"type\":\"scatterternary\",\"marker\":{\"colorbar\":{\"outlinewidth\":0,\"ticks\":\"\"}}}],\"scattercarpet\":[{\"type\":\"scattercarpet\",\"marker\":{\"colorbar\":{\"outlinewidth\":0,\"ticks\":\"\"}}}],\"carpet\":[{\"aaxis\":{\"endlinecolor\":\"#2a3f5f\",\"gridcolor\":\"white\",\"linecolor\":\"white\",\"minorgridcolor\":\"white\",\"startlinecolor\":\"#2a3f5f\"},\"baxis\":{\"endlinecolor\":\"#2a3f5f\",\"gridcolor\":\"white\",\"linecolor\":\"white\",\"minorgridcolor\":\"white\",\"startlinecolor\":\"#2a3f5f\"},\"type\":\"carpet\"}],\"table\":[{\"cells\":{\"fill\":{\"color\":\"#EBF0F8\"},\"line\":{\"color\":\"white\"}},\"header\":{\"fill\":{\"color\":\"#C8D4E3\"},\"line\":{\"color\":\"white\"}},\"type\":\"table\"}],\"barpolar\":[{\"marker\":{\"line\":{\"color\":\"#E5ECF6\",\"width\":0.5},\"pattern\":{\"fillmode\":\"overlay\",\"size\":10,\"solidity\":0.2}},\"type\":\"barpolar\"}],\"pie\":[{\"automargin\":true,\"type\":\"pie\"}]},\"layout\":{\"autotypenumbers\":\"strict\",\"colorway\":[\"#636efa\",\"#EF553B\",\"#00cc96\",\"#ab63fa\",\"#FFA15A\",\"#19d3f3\",\"#FF6692\",\"#B6E880\",\"#FF97FF\",\"#FECB52\"],\"font\":{\"color\":\"#2a3f5f\"},\"hovermode\":\"closest\",\"hoverlabel\":{\"align\":\"left\"},\"paper_bgcolor\":\"white\",\"plot_bgcolor\":\"#E5ECF6\",\"polar\":{\"bgcolor\":\"#E5ECF6\",\"angularaxis\":{\"gridcolor\":\"white\",\"linecolor\":\"white\",\"ticks\":\"\"},\"radialaxis\":{\"gridcolor\":\"white\",\"linecolor\":\"white\",\"ticks\":\"\"}},\"ternary\":{\"bgcolor\":\"#E5ECF6\",\"aaxis\":{\"gridcolor\":\"white\",\"linecolor\":\"white\",\"ticks\":\"\"},\"baxis\":{\"gridcolor\":\"white\",\"linecolor\":\"white\",\"ticks\":\"\"},\"caxis\":{\"gridcolor\":\"white\",\"linecolor\":\"white\",\"ticks\":\"\"}},\"coloraxis\":{\"colorbar\":{\"outlinewidth\":0,\"ticks\":\"\"}},\"colorscale\":{\"sequential\":[[0.0,\"#0d0887\"],[0.1111111111111111,\"#46039f\"],[0.2222222222222222,\"#7201a8\"],[0.3333333333333333,\"#9c179e\"],[0.4444444444444444,\"#bd3786\"],[0.5555555555555556,\"#d8576b\"],[0.6666666666666666,\"#ed7953\"],[0.7777777777777778,\"#fb9f3a\"],[0.8888888888888888,\"#fdca26\"],[1.0,\"#f0f921\"]],\"sequentialminus\":[[0.0,\"#0d0887\"],[0.1111111111111111,\"#46039f\"],[0.2222222222222222,\"#7201a8\"],[0.3333333333333333,\"#9c179e\"],[0.4444444444444444,\"#bd3786\"],[0.5555555555555556,\"#d8576b\"],[0.6666666666666666,\"#ed7953\"],[0.7777777777777778,\"#fb9f3a\"],[0.8888888888888888,\"#fdca26\"],[1.0,\"#f0f921\"]],\"diverging\":[[0,\"#8e0152\"],[0.1,\"#c51b7d\"],[0.2,\"#de77ae\"],[0.3,\"#f1b6da\"],[0.4,\"#fde0ef\"],[0.5,\"#f7f7f7\"],[0.6,\"#e6f5d0\"],[0.7,\"#b8e186\"],[0.8,\"#7fbc41\"],[0.9,\"#4d9221\"],[1,\"#276419\"]]},\"xaxis\":{\"gridcolor\":\"white\",\"linecolor\":\"white\",\"ticks\":\"\",\"title\":{\"standoff\":15},\"zerolinecolor\":\"white\",\"automargin\":true,\"zerolinewidth\":2},\"yaxis\":{\"gridcolor\":\"white\",\"linecolor\":\"white\",\"ticks\":\"\",\"title\":{\"standoff\":15},\"zerolinecolor\":\"white\",\"automargin\":true,\"zerolinewidth\":2},\"scene\":{\"xaxis\":{\"backgroundcolor\":\"#E5ECF6\",\"gridcolor\":\"white\",\"linecolor\":\"white\",\"showbackground\":true,\"ticks\":\"\",\"zerolinecolor\":\"white\",\"gridwidth\":2},\"yaxis\":{\"backgroundcolor\":\"#E5ECF6\",\"gridcolor\":\"white\",\"linecolor\":\"white\",\"showbackground\":true,\"ticks\":\"\",\"zerolinecolor\":\"white\",\"gridwidth\":2},\"zaxis\":{\"backgroundcolor\":\"#E5ECF6\",\"gridcolor\":\"white\",\"linecolor\":\"white\",\"showbackground\":true,\"ticks\":\"\",\"zerolinecolor\":\"white\",\"gridwidth\":2}},\"shapedefaults\":{\"line\":{\"color\":\"#2a3f5f\"}},\"annotationdefaults\":{\"arrowcolor\":\"#2a3f5f\",\"arrowhead\":0,\"arrowwidth\":1},\"geo\":{\"bgcolor\":\"white\",\"landcolor\":\"#E5ECF6\",\"subunitcolor\":\"white\",\"showland\":true,\"showlakes\":true,\"lakecolor\":\"white\"},\"title\":{\"x\":0.05},\"mapbox\":{\"style\":\"light\"}}},\"margin\":{\"l\":65,\"r\":50,\"b\":65,\"t\":90},\"title\":{\"text\":\"Loss\"},\"autosize\":false,\"width\":600,\"height\":800,\"scene\":{\"xaxis\":{\"title\":{\"text\":\"alpha\"}},\"yaxis\":{\"title\":{\"text\":\"beta\"}},\"zaxis\":{\"title\":{\"text\":\"Loss\"}}},\"dragmode\":\"drawcircle\"},                        {\"responsive\": true}                    ).then(function(){\n",
       "                            \n",
       "var gd = document.getElementById('4f1aa401-18d2-47fe-b1d9-1a1f55cae145');\n",
       "var x = new MutationObserver(function (mutations, observer) {{\n",
       "        var display = window.getComputedStyle(gd).display;\n",
       "        if (!display || display === 'none') {{\n",
       "            console.log([gd, 'removed!']);\n",
       "            Plotly.purge(gd);\n",
       "            observer.disconnect();\n",
       "        }}\n",
       "}});\n",
       "\n",
       "// Listen for the removal of the full notebook cells\n",
       "var notebookContainer = gd.closest('#notebook-container');\n",
       "if (notebookContainer) {{\n",
       "    x.observe(notebookContainer, {childList: true});\n",
       "}}\n",
       "\n",
       "// Listen for the clearing of the current output cell\n",
       "var outputEl = gd.closest('.output');\n",
       "if (outputEl) {{\n",
       "    x.observe(outputEl, {childList: true});\n",
       "}}\n",
       "\n",
       "                        })                };                });            </script>        </div>"
      ]
     },
     "metadata": {},
     "output_type": "display_data"
    }
   ],
   "source": [
    "alphas = np.linspace(real_alpha-3, real_alpha+3, 50)\n",
    "betas = np.linspace(real_beta-3, real_beta+3, 50)\n",
    "\n",
    "grid = np.array([\n",
    "    [((alpha*X + beta - y)**2).sum() for beta in betas] \n",
    "    for alpha in alphas\n",
    "])\n",
    "\n",
    "fig = go.Figure(data=[\n",
    "    go.Surface(\n",
    "        z=grid, x=alphas, y=betas,\n",
    "        hovertemplate=\"alpha:%{x}<br>beta:%{y}<br>Loss:%{z}<extra></extra>\",\n",
    "        showscale=False\n",
    "    )\n",
    "])\n",
    "fig.update_layout(\n",
    "    title='Loss', autosize=False,\n",
    "    width=600, height=800,\n",
    "    margin=dict(l=65, r=50, b=65, t=90),\n",
    "    scene=dict(\n",
    "        xaxis_title='alpha',\n",
    "        yaxis_title='beta',\n",
    "        zaxis_title='Loss'\n",
    "    ),\n",
    "    dragmode = \"drawcircle\"\n",
    ")\n",
    "fig.show()"
   ]
  },
  {
   "cell_type": "markdown",
   "id": "584f8053",
   "metadata": {},
   "source": [
    "Теперь вам необходимо реализовать класс для оптимизации коэффициентов линейной регрессии МНК.\n",
    "Подразумевается, что на вход алгоритм будет принимать следующие параметры:\n",
    "\n",
    "- 2 pandas датафрейма **samples** и **targets**, содержащих матрицу объектов и ветор ответов соответственно\n",
    "- значение **learning rate**, который корректирует длину вектора-градиента (чтобы он не взорвался)\n",
    "- значение **threshold**'а для критерия останова (когда мы считаем, что мы сошлись к оптимуму)\n",
    "- параметр **copy**, который позволяет либо делать изменения in-place в датафрейме, подающимся в класс, если изменения матрицы объектов в принципе при обучении имеются. Или же копировать объект при инициализации класса и возвращать новый объект, если требуется.\n",
    "\n",
    "Он будет состоять из следующих важных компонент-методов:\n",
    "\n",
    "- **add_constant_feature**: добавляет колонку с названием *constant* из единичек к переданному датафрейму **samples**. Это позволяет оценить свободный коэффициент $\\beta_0$.\n",
    "\n",
    "- **calculate_mse_loss**: вычисляет при текущих весах **self.beta** значение среднеквадратической ошибки.\n",
    "\n",
    "- **calculate_gradient**: вычисляет при текущих весах вектор-градиент по функционалу.\n",
    "\n",
    "- **iteration**: производит итерацию градиентного спуска, то есть обновляет веса модели, в соответствии с установленным **learning_rate = $\\eta$**: $\\beta^{(n+1)} = \\beta^{(n)} - \\eta \\cdot \\nabla Q(\\beta^{(n)})$\n",
    "\n",
    "- **learn**: производит итерации обучения до того момента, пока не сработает критерий останова обучения. В этот раз критерием останова будет следующее событие: во время крайней итерации изменение в функционале качества модели составило значение меньшее, чем **self.threshold**. Иными словами, $|Q(\\beta^{(n)}) - Q(\\beta^{(n+1)})| < threshold$.\n",
    "\n",
    "P.S. установите в **__init__** аттрибут экземпляра с названием **iteration_loss_dict**, который будет устроен следующим образом: на каждой итерации мы будем добавлять в словарь пару ключ-значение, где ключем будет номер итерации $n$, а значением - среднеквадратическая ошибка в точке $\\beta^{(n)}$. Это пригодится нам в будущем для визуализации."
   ]
  },
  {
   "cell_type": "markdown",
   "id": "f2b8f057",
   "metadata": {},
   "source": [
    "### Hint: пример вычисления производной"
   ]
  },
  {
   "cell_type": "markdown",
   "id": "92c0e7e5",
   "metadata": {},
   "source": [
    "$$\n",
    "Q(a, X) = \\frac{1}{N}\\cdot\\sum_{i=1}^N (\\beta_1 \\cdot d_{i1} + ... + \\beta_n \\cdot d_{in} - y_i)^2\n",
    "$$\n",
    "\n",
    "Выше - минимизируемая функция. Она зависит от n переменных: $\\beta_1, ..., \\beta_n$. Вектор-градиент - матрица с одной строчкой, состоящей из производных 1го порядка по всем переменным.\n",
    "\n",
    "$$\n",
    "\\nabla Q(a, X) = (Q'_{\\beta_1} \\;\\;\\; Q'_{\\beta_2} \\;\\;\\; ... \\;\\;\\; Q'_{\\beta_{n-1}}  \\;\\;\\;  Q'_{\\beta_n})\n",
    "$$\n",
    "\n",
    "Пример вычисления производной по первой переменной:\n",
    "\n",
    "$$\n",
    "Q'_{\\beta_1} = \\frac{2}{N} \\cdot \\sum_{i=1}^N d_{i1} (\\beta_1 \\cdot d_{i1} + ... + \\beta_{n} \\cdot d_{in} - y_i)\n",
    "$$\n",
    "\n",
    "Скажем, для нашего датасета X, Y вычислим эту саму производную при начальных единичных коэффициентах $\\beta_{start} = (1 \\;\\;\\; 1 \\;\\;\\; ...)$"
   ]
  },
  {
   "cell_type": "markdown",
   "id": "777f2dd7",
   "metadata": {},
   "source": [
    "Получим для каждого объекта в начале выражение из скобочек: \n",
    "$$\n",
    "\\beta_1 \\cdot d_{i1} + ... + \\beta_{n} \\cdot d_{in} - y_i\n",
    "$$"
   ]
  },
  {
   "cell_type": "code",
   "execution_count": 5,
   "id": "7ed46930",
   "metadata": {},
   "outputs": [],
   "source": [
    "### Инициализируем точку для коэффициентов в виде вектора из единичек\n",
    "initial_betas = np.ones(X.shape[1])\n",
    "\n",
    "### Получим выражение выше для каждого объекта. \n",
    "### Для этого скалярно перемножим строчки из X на наши beta\n",
    "\n",
    "scalar_value = np.dot(X, initial_betas.reshape(-1, 1)).ravel()\n",
    "scalar_value = (scalar_value - Y).values"
   ]
  },
  {
   "cell_type": "markdown",
   "id": "c8cf326a",
   "metadata": {},
   "source": [
    "Теперь полученное значение для каждого объекта умножим на соответствующее значение признака $d_1$:\n",
    "\n",
    "$$\n",
    "d_{i1} \\cdot (\\beta_1 \\cdot d_{i1} + ... + \\beta_{n} \\cdot d_{in} - y_i)\n",
    "$$"
   ]
  },
  {
   "cell_type": "code",
   "execution_count": 6,
   "id": "c446424b",
   "metadata": {
    "tags": []
   },
   "outputs": [],
   "source": [
    "### Возьмем столбик со значениями 1 признака\n",
    "d_i1 = X.values[:, 0]\n",
    "\n",
    "### Умножим каждый объект на соответствующее значение признака\n",
    "scalar_value = scalar_value * d_i1"
   ]
  },
  {
   "cell_type": "code",
   "execution_count": 7,
   "id": "1b5b733c",
   "metadata": {},
   "outputs": [
    {
     "data": {
      "text/plain": [
       "-27.62384887912409"
      ]
     },
     "execution_count": 7,
     "metadata": {},
     "output_type": "execute_result"
    }
   ],
   "source": [
    "### Наконец, умножим все на 2 и усреднимся, \n",
    "### чтобы получить значение производной по первому параметру\n",
    "\n",
    "2 * np.mean(scalar_value)"
   ]
  },
  {
   "cell_type": "markdown",
   "id": "4fa0ac86",
   "metadata": {},
   "source": [
    "### Эта логика поможем Вам при реализации класса!"
   ]
  },
  {
   "cell_type": "markdown",
   "id": "e6dc75cd",
   "metadata": {},
   "source": [
    "learn(self)\n",
    "\n",
    "метод возвращает итоговую среднеквадратическую ошибку.\n",
    "метод итеративно вычисляет среднеквадратическую ошибку и вектор-градиент. номер итерации и MSE записываются в словарь *iteration_loss_dict*. критерий останова срабатывает тогда, когда абсолютное значение разницы двух последних MSE меньше *self.threshold*."
   ]
  },
  {
   "cell_type": "code",
   "execution_count": 8,
   "id": "146ed77b",
   "metadata": {},
   "outputs": [],
   "source": [
    "from IPython.display import clear_output\n",
    "\n",
    "class GradientDescentMse:\n",
    "    \"\"\"\n",
    "    Базовый класс для реализации градиентного спуска в задаче линейной МНК регрессии \n",
    "    \"\"\"\n",
    "\n",
    "    def __init__(self, samples: pd.DataFrame, targets: pd.DataFrame,\n",
    "                 learning_rate: float = 1e-3, threshold = 1e-6, copy: bool = True):\n",
    "        \"\"\"\n",
    "        self.samples - матрица признаков\n",
    "        self.targets - вектор таргетов\n",
    "        self.beta - вектор из изначальными весами модели == коэффициентами бета (состоит из единиц)\n",
    "        self.learning_rate - параметр *learning_rate* для корректировки нормы градиента\n",
    "        self.threshold - величина, меньше которой изменение в loss-функции означает остановку градиентного спуска\n",
    "        iteration_loss_dict - словарь, который будет хранить номер итерации и соответствующую MSE\n",
    "        copy: копирование матрицы признаков или создание изменения in-place\n",
    "        \"\"\"\n",
    "        ### Your code is here\n",
    "        self.samples = (samples.copy() if copy else samples) \n",
    "        self.targets = (targets.copy() if copy else targets)\n",
    "        self.learning_rate = learning_rate\n",
    "        self.treshold = threshold\n",
    "        self.betas = np.ones(X.shape[1])\n",
    "\n",
    "        \n",
    "        \n",
    "    def add_constant_feature(self):\n",
    "        \"\"\"\n",
    "        Метод для создания константной фичи в матрице объектов samples\n",
    "        Метод создает колонку с константным признаком (interсept) в матрице признаков.\n",
    "        Hint: так как количество признаков увеличилось на одну, не забудьте дополнить вектор с изначальными весами модели!\n",
    "        \"\"\"\n",
    "        ### Your code is here\n",
    "        self.samples[\"const\"] = 1\n",
    "        self.betas = np.concatenate([\n",
    "            self.betas, [1]\n",
    "        ])\n",
    "        \n",
    "    def calculate_mse_loss(self) -> float:\n",
    "        \"\"\"\n",
    "        Метод для расчета среднеквадратической ошибки\n",
    "        \n",
    "        :return: среднеквадратическая ошибка при текущих весах модели : float\n",
    "        \"\"\"\n",
    "        ### Your code is here\n",
    "        return ((self.targets.to_numpy() - np.dot(self.samples, self.betas))**2).sum()/len(self.samples)\n",
    "    \n",
    "\n",
    "    def calculate_gradient(self) -> np.ndarray:\n",
    "        \"\"\"\n",
    "        Метод для вычисления вектора-градиента\n",
    "        Метод возвращает вектор-градиент, содержащий производные по каждому признаку.\n",
    "        Сначала матрица признаков скалярно перемножается на вектор self.beta, и из каждой колонки\n",
    "        полученной матрицы вычитается вектор таргетов. Затем полученная матрица скалярно умножается на матрицу признаков.\n",
    "        Наконец, итоговая матрица умножается на 2 и усредняется по каждому признаку.\n",
    "        \n",
    "        :return: вектор-градиент, т.е. массив, содержащий соответствующее количество производных по каждой переменной : np.ndarray\n",
    "        \"\"\"\n",
    "        ### Your code is here\n",
    "        scalar_value = np.dot(self.samples, self.betas.reshape(-1, 1)).ravel()\n",
    "        scalar_value = (scalar_value - self.targets).values\n",
    "        return np.fromiter(\n",
    "            map(lambda i: (self.samples.iloc[:,i]*scalar_value).mean()*2, range(self.samples.shape[1])),\n",
    "            dtype=float\n",
    "        )\n",
    "    \n",
    "    def iteration(self):\n",
    "        \"\"\"\n",
    "        Обновляем веса модели в соответствии с текущим вектором-градиентом\n",
    "        \"\"\"\n",
    "        ### Your code is here\n",
    "        self.betas = self.betas - self.learning_rate*self.calculate_gradient()\n",
    "        \n",
    "    def learn(self):\n",
    "        \"\"\"\n",
    "        Итеративное обучение весов модели до срабатывания критерия останова\n",
    "        Запись mse и номера итерации в iteration_loss_dict\n",
    "        \n",
    "        Описание алгоритма работы для изменения бет:\n",
    "            Фиксируем текущие beta -> start_betas\n",
    "            Делаем шаг градиентного спуска\n",
    "            Записываем новые beta -> new_betas\n",
    "            Пока |L(new_beta) - L(start_beta)| > threshold:\n",
    "                Повторяем первые 3 шага\n",
    "                \n",
    "        Описание алгоритма работы для изменения функции потерь:\n",
    "            Фиксируем текущие mse -> previous_mse\n",
    "            Делаем шаг градиентного спуска\n",
    "            Записываем новые mse -> next_mse\n",
    "            Пока |(previous_mse) - (next_mse)| > threshold:\n",
    "                Повторяем первые 3 шага\n",
    "        \"\"\"\n",
    "        ### Your code is here\n",
    "\n",
    "        self.iteration_loss_dict = {}\n",
    "        iteration_number = 0\n",
    "        while True:\n",
    "            #start_betas = self.betas\n",
    "            previous_mse = self.calculate_mse_loss()\n",
    "            self.iteration()\n",
    "            next_mse = self.calculate_mse_loss()\n",
    "\n",
    "            self.iteration_loss_dict[iteration_number] = next_mse\n",
    "            iteration_number += 1\n",
    "            \n",
    "            if previous_mse - next_mse <= self.treshold:\n",
    "                break\n",
    "            print(next_mse)\n",
    "            clear_output(wait=True)"
   ]
  },
  {
   "cell_type": "markdown",
   "id": "dc8cbbec",
   "metadata": {},
   "source": [
    "Обучим коэффициенты линейной модели с помощью реализованного нами градиентного спуска, не забыв добавить свободную переменную. Получились ли такие же коэффициенты, как и при использовании **LinearRegression** из **sklearn**? Если нет, то почему они отличаются, на Ваш взгляд, и сильно ли?"
   ]
  },
  {
   "cell_type": "raw",
   "id": "f5146dab-57dc-451c-a57d-704cb0b0a181",
   "metadata": {
    "scrolled": true
   },
   "source": [
    "GD = GradientDescentMse(samples=X, targets=Y)\n",
    "GD.add_constant_feature()\n",
    "GD.learn()"
   ]
  },
  {
   "cell_type": "raw",
   "id": "5e794b88-712c-4b21-9de1-69cc504e5c13",
   "metadata": {},
   "source": [
    "print('Веса модели при переменных d1, d2, ..., d10 равны соответственно: \\n\\n' + str(GD.betas))"
   ]
  },
  {
   "cell_type": "markdown",
   "id": "d4f3916b",
   "metadata": {},
   "source": [
    "Попробуйте теперь изменить значения **learning_rate** и/или **threshold**. Например, установите длину шага $\\eta = 1$. Что произошло и почему такое возможно?"
   ]
  },
  {
   "cell_type": "raw",
   "id": "89502eeb-89f9-44d3-9052-f9faad6bbd56",
   "metadata": {},
   "source": [
    "### Your code is here\n",
    "GD = GradientDescentMse(samples=X, targets=Y, learning_rate=1)\n",
    "GD.add_constant_feature()\n",
    "GD.learn()\n",
    "print('Веса модели при переменных d1, d2, ..., d10 равны соответственно: \\n\\n' + str(GD.betas))"
   ]
  },
  {
   "cell_type": "markdown",
   "id": "60616938",
   "metadata": {},
   "source": [
    "В машинном обучении зачастую исследуют так называемые **траектории обучения** (или **learning paths**). Это графики, показывающие, как во время обучения при каждой следующей итерации изменялось значение минимизируемого функционала. Постройте такие траектории для различных **learning rate**'ов и **threshold**'ов. Советуем использовать для этого разобранный на занятиях **add_subplot** метод. \n",
    "\n",
    "Возьмите следующие **threshold**'ы: 1e-2, 1e-3, 1e-4, 1e-5\n",
    "\n",
    "И следующие значения **learning rate**'а: 1e-1, 5e-2, 1e-2, 5e-3, 1e-3\n",
    "\n",
    "У вас должен получиться примерно такой график (см. ниже, значения среднеквадратической ошибки мы намеренно замазали оранжевыми квадратиками, чтобы не спойлерить вам результаты).\n",
    "\n",
    "Как и подобает хорошим Data Scientist'ам, не забывайте подписывать графики, оси, а так же делать элементы ваших визуализаций читаемыми и видимыми. Советуем пересмотреть методы и параметры форматирования из лекции.\n",
    "\n",
    "При какой комбинации **threshold** - **learning rate** из возможных предложенных выше, получается достигнуть меньшего значения нашей минимизируемой функции? Запишите каждой из значений в легенде на графиках.\n"
   ]
  },
  {
   "cell_type": "code",
   "execution_count": 9,
   "id": "fbb96570",
   "metadata": {
    "tags": []
   },
   "outputs": [
    {
     "data": {
      "image/png": "[encoded data removed]",
      "text/plain": [
       "<Figure size 1300x1000 with 4 Axes>"
      ]
     },
     "metadata": {},
     "output_type": "display_data"
    }
   ],
   "source": [
    "fig = plt.figure()\n",
    "\n",
    "fig.set_size_inches(13, 10)\n",
    "\n",
    "\"\"\"Задать списки для итераций\"\"\"\n",
    "### Your code is here \n",
    "thresholds = [1e-2, 1e-3, 1e-4, 1e-5]\n",
    "rates = [1e-1, 5e-2, 1e-2, 5e-3, 1e-3]\n",
    "\n",
    "for i in range(len(thresholds)):\n",
    "    \"\"\"Задать threshold, добавить график на полонто, создать список для хранения значений функционала\"\"\"\n",
    "    ### Your code is here\n",
    "    treshold = thresholds[i]\n",
    "    ax = fig.add_subplot(2,2,i+1)\n",
    "    Q_values = []\n",
    "    \n",
    "    for lr in rates:\n",
    "        \"\"\"Создать объект модели, добавить константу, запустить обучение модели\"\"\"\n",
    "        ### Your code is here\n",
    "        GD = GradientDescentMse(\n",
    "            samples=X, \n",
    "            targets=Y, \n",
    "            learning_rate=lr, \n",
    "            threshold=treshold\n",
    "        )\n",
    "        GD.add_constant_feature()\n",
    "        GD.learn()\n",
    "        \n",
    "        \"\"\"Определить learning_path через атрибут iteration_loss_dict\"\"\"\n",
    "        ### Your code is here\n",
    "        learning_path = GD.iteration_loss_dict\n",
    "        \n",
    "        \"\"\"Отобразить learning_path на графике\"\"\"\n",
    "        ### Your code is here\n",
    "        plt.plot(\n",
    "            list(learning_path.keys()), list(learning_path.values())\n",
    "        )\n",
    "        \n",
    "        plt.ylim(0, 100)\n",
    "        plt.xlim(0, 2000)\n",
    "        \n",
    "        Q_values.append(str(round(list(learning_path.values())[-1], ndigits=4)))\n",
    "    \n",
    "    plt.ylabel('Среднеквадратическая ошибка')\n",
    "    plt.xlabel('Номер итерации')\n",
    "    plt.legend([f'Learning rate equals to {rates[i]}' + ' with Q = ' + Q_values[i] for i in range(len(rates))])\n",
    "\n",
    "fig.tight_layout() \n",
    "\n",
    "plt.show()"
   ]
  }
 ],
 "metadata": {
  "kernelspec": {
   "display_name": "Python 3 (ipykernel)",
   "language": "python",
   "name": "python3"
  },
  "language_info": {
   "codemirror_mode": {
    "name": "ipython",
    "version": 3
   },
   "file_extension": ".py",
   "mimetype": "text/x-python",
   "name": "python",
   "nbconvert_exporter": "python",
   "pygments_lexer": "ipython3",
   "version": "3.10.12"
  }
 },
 "nbformat": 4,
 "nbformat_minor": 5
}
