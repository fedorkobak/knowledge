{
 "cells": [
  {
   "cell_type": "markdown",
   "id": "9be3c105-6f45-4767-953b-0516339eb691",
   "metadata": {},
   "source": [
    "# TF-IDF\n",
    "\n",
    "TF-IDF is a method for extracting features for machine learning models from textual information."
   ]
  },
  {
   "cell_type": "markdown",
   "id": "bac3f6a3-08fa-4a84-aa1d-e2e37137ffca",
   "metadata": {},
   "source": [
    "## TF - term frequency"
   ]
  },
  {
   "cell_type": "markdown",
   "id": "673b58df-f535-43a6-a35f-16006ed3d954",
   "metadata": {},
   "source": [
    "Term frequency is a metric for words in any next. It can be calculated using a formula:\n",
    "\n",
    "$$tf(t,d)=\\frac{n_t}{\\sum_i n_i}$$\n",
    "\n",
    "Where:\n",
    "\n",
    "- $t$ - some word;\n",
    "- $d$ - some text;\n",
    "- $n_t$ - number of occurrences of word $t$ in document $d$;\n",
    "- $\\sum_i n_i$ - number of words in text $d$."
   ]
  },
  {
   "cell_type": "markdown",
   "id": "7ba95a87-ec14-4302-9f61-86033315d6ed",
   "metadata": {},
   "source": [
    "So in the following cell I calculate the term frequencies of the words for some phrases. The result here is a table that contains `original phrase` and `Term frequency`, which for each word from the `Original phrase` corresponds to $tf$ in the form `<word>-<tf>`.\n",
    "\n",
    "So let's take the logic of the first phrase - \"a penny saved is a penny earned\" - one step at a time:\n",
    "\n",
    "- Total count of words - $\\sum_i n_i = 7$;\n",
    "- You can find the word \"a\" twice in the phrase so - $n_{a} = 2 \\Rightarrow tf(a)=\\frac{2}{7} \\approx 0.29$;\n",
    "- You can find the word \"penny\" twice in the phrase so - $n_{penny}=2 \\Rightarrow tf(penny)= \\frac{2}{7} \\approx 0.29$;\n",
    "- All other words occur once so $tf$ for them can me computed as $\\frac{1}{7} \\approx 0.14$."
   ]
  },
  {
   "cell_type": "code",
   "execution_count": 98,
   "id": "38cd66cf-cc16-45e0-b2ca-6535fe593735",
   "metadata": {},
   "outputs": [
    {
     "data": {
      "text/html": [
       "<table><tr><th>Original phrase</th><th>Terms frequency</th></tr><tr><td>a penny saved is a penny earned</td><td>a - 0.29<br>penny - 0.29<br>saved - 0.14<br>is - 0.14<br>earned - 0.14</td></tr><tr><td>the quick brown fox jumps over the lazy dog</td><td>the - 0.22<br>quick - 0.11<br>brown - 0.11<br>fox - 0.11<br>jumps - 0.11<br>over - 0.11<br>lazy - 0.11<br>dog - 0.11</td></tr><tr><td>beauty is in the eye of the beholder</td><td>beauty - 0.12<br>is - 0.12<br>in - 0.12<br>the - 0.25<br>eye - 0.12<br>of - 0.12<br>beholder - 0.12</td></tr><tr><td>early to bed and early to rise makes a man healthy wealthy and wise</td><td>early - 0.14<br>to - 0.14<br>bed - 0.07<br>and - 0.14<br>rise - 0.07<br>makes - 0.07<br>a - 0.07<br>man - 0.07<br>healthy - 0.07<br>wealthy - 0.07<br>wise - 0.07</td></tr><tr><td>give credit where credit is due</td><td>give - 0.17<br>credit - 0.33<br>where - 0.17<br>is - 0.17<br>due - 0.17</td></tr><tr><td>if at first you don't succeed try try again</td><td>if - 0.11<br>at - 0.11<br>first - 0.11<br>you - 0.11<br>don't - 0.11<br>succeed - 0.11<br>try - 0.22<br>again - 0.11</td></tr><tr><td>justice delayed is justice denied</td><td>justice - 0.4<br>delayed - 0.2<br>is - 0.2<br>denied - 0.2</td></tr><tr><td>keep your friends close and your enemies closer</td><td>keep - 0.12<br>your - 0.25<br>friends - 0.12<br>close - 0.12<br>and - 0.12<br>enemies - 0.12<br>closer - 0.12</td></tr><tr><td>no pain no gain</td><td>no - 0.5<br>pain - 0.25<br>gain - 0.25</td></tr><tr><td>quickly come quickly go</td><td>quickly - 0.5<br>come - 0.25<br>go - 0.25</td></tr><tr><td>united we stand divided we fall</td><td>united - 0.17<br>we - 0.33<br>stand - 0.17<br>divided - 0.17<br>fall - 0.17</td></tr><tr><td>when in rome do as the romans do</td><td>when - 0.12<br>in - 0.12<br>rome - 0.12<br>do - 0.25<br>as - 0.12<br>the - 0.12<br>romans - 0.12</td></tr></table>"
      ],
      "text/plain": [
       "<IPython.core.display.HTML object>"
      ]
     },
     "execution_count": 98,
     "metadata": {},
     "output_type": "execute_result"
    }
   ],
   "source": [
    "from collections import Counter\n",
    "from IPython.display import HTML\n",
    "\n",
    "phrases = [\n",
    "    'a penny saved is a penny earned',\n",
    "    'the quick brown fox jumps over the lazy dog',\n",
    "    'beauty is in the eye of the beholder',\n",
    "    'early to bed and early to rise makes a man healthy wealthy and wise',\n",
    "    'give credit where credit is due',\n",
    "    \"if at first you don't succeed try try again\",\n",
    "    'justice delayed is justice denied',\n",
    "    'keep your friends close and your enemies closer',\n",
    "    'no pain no gain',\n",
    "    'quickly come quickly go',\n",
    "    'united we stand divided we fall',\n",
    "    'when in rome do as the romans do'\n",
    "]\n",
    "\n",
    "\n",
    "html_table = \"<tr><th>Original phrase</th><th>Terms frequency</th></tr>\"\n",
    "\n",
    "for p in phrases:\n",
    "\n",
    "    words_in_phrase = p.split()\n",
    "    words_count = len(words_in_phrase)\n",
    "    \n",
    "    counts_line = \"<br>\".join(\n",
    "        [\n",
    "            key + \" - \" + str(round(value/words_count, 2)) \n",
    "            for key, value in dict(Counter(words_in_phrase)).items()\n",
    "        ]\n",
    "    )\n",
    "    html_table += f\"<tr><td>{p}</td><td>{counts_line}</td></tr>\"\n",
    "\n",
    "HTML(\"<table>\" + html_table + \"</table>\")"
   ]
  },
  {
   "cell_type": "markdown",
   "id": "612bd5a1-0649-4f10-a4eb-cd99ec37193e",
   "metadata": {},
   "source": [
    "## IDF - inverse document frequency"
   ]
  },
  {
   "cell_type": "markdown",
   "id": "14eb53f9-df60-4cd3-8399-21db495098b5",
   "metadata": {},
   "source": [
    "For each word of a text from the given set of texts. It can be calculated using fromula:\n",
    "\n",
    "$$idf(t,D)=log \\frac{\\left| D \\right|}{\\left| \\left\\{ d_i \\in D | t \\in d_i \\right\\} \\right|};$$\n",
    "\n",
    "Where:\n",
    "\n",
    "- $D$ - set of texts;\n",
    "- $\\left| A \\right|$ - number of elements in the set A;\n",
    "- $\\left| \\left\\{ d_i \\in D | t \\in d_i \\right\\} \\right|$ - number of documents $d_i$ from set $D$ that contains word $t$;\n",
    "- **Note** the denominator of the formula contains exactly the number of documents in which the word is included, not the number of occurrences of the word in any documents it's always true $\\left| D \\right| \\geq \\left| \\left\\{ d_i \\in D | t \\in d_i \\right\\} \\right| \\Rightarrow idf(t,D) \\geq 0$.\n",
    "\n",
    "So in the following cell there is an example of calculating $idf$ for a set of texts. It's displayed like a table that contains all the words from a set of texts and for each word it calculates the occurrences of the word in the set of texts and it's $idf$.\n",
    "\n",
    "Let's take word \"the\" for example it occurs in 3 of 12 texts so it's $idf=log(\\frac{12}{5}) \\approx 1.39$."
   ]
  },
  {
   "cell_type": "code",
   "execution_count": 139,
   "id": "60602471-3276-4305-9d03-6917a02cc53a",
   "metadata": {},
   "outputs": [
    {
     "data": {
      "text/html": [
       "<table><tr><th>Word</th><th>$\\left|\\left\\{d_i \\in D | t \\in d_i\\right\\}\\right|$</th><th>Inverse document frequency</th></tr><tr><td>earned</td><td>1</td><td>2.48</td></tr><tr><td>is</td><td>4</td><td>1.1</td></tr><tr><td>saved</td><td>1</td><td>2.48</td></tr><tr><td>penny</td><td>1</td><td>2.48</td></tr><tr><td>a</td><td>2</td><td>1.79</td></tr><tr><td>the</td><td>3</td><td>1.39</td></tr><tr><td>over</td><td>1</td><td>2.48</td></tr><tr><td>quick</td><td>1</td><td>2.48</td></tr><tr><td>fox</td><td>1</td><td>2.48</td></tr><tr><td>lazy</td><td>1</td><td>2.48</td></tr><tr><td>jumps</td><td>1</td><td>2.48</td></tr><tr><td>dog</td><td>1</td><td>2.48</td></tr><tr><td>brown</td><td>1</td><td>2.48</td></tr><tr><td>of</td><td>1</td><td>2.48</td></tr><tr><td>eye</td><td>1</td><td>2.48</td></tr><tr><td>beauty</td><td>1</td><td>2.48</td></tr><tr><td>in</td><td>2</td><td>1.79</td></tr><tr><td>beholder</td><td>1</td><td>2.48</td></tr><tr><td>bed</td><td>1</td><td>2.48</td></tr><tr><td>to</td><td>1</td><td>2.48</td></tr><tr><td>early</td><td>1</td><td>2.48</td></tr><tr><td>healthy</td><td>1</td><td>2.48</td></tr><tr><td>makes</td><td>1</td><td>2.48</td></tr><tr><td>wealthy</td><td>1</td><td>2.48</td></tr><tr><td>and</td><td>2</td><td>1.79</td></tr><tr><td>wise</td><td>1</td><td>2.48</td></tr><tr><td>man</td><td>1</td><td>2.48</td></tr><tr><td>rise</td><td>1</td><td>2.48</td></tr><tr><td>where</td><td>1</td><td>2.48</td></tr><tr><td>give</td><td>1</td><td>2.48</td></tr><tr><td>credit</td><td>1</td><td>2.48</td></tr><tr><td>due</td><td>1</td><td>2.48</td></tr><tr><td>you</td><td>1</td><td>2.48</td></tr><tr><td>at</td><td>1</td><td>2.48</td></tr><tr><td>don't</td><td>1</td><td>2.48</td></tr><tr><td>succeed</td><td>1</td><td>2.48</td></tr><tr><td>try</td><td>1</td><td>2.48</td></tr><tr><td>again</td><td>1</td><td>2.48</td></tr><tr><td>if</td><td>1</td><td>2.48</td></tr><tr><td>first</td><td>1</td><td>2.48</td></tr><tr><td>denied</td><td>1</td><td>2.48</td></tr><tr><td>delayed</td><td>1</td><td>2.48</td></tr><tr><td>justice</td><td>1</td><td>2.48</td></tr><tr><td>your</td><td>1</td><td>2.48</td></tr><tr><td>friends</td><td>1</td><td>2.48</td></tr><tr><td>close</td><td>1</td><td>2.48</td></tr><tr><td>closer</td><td>1</td><td>2.48</td></tr><tr><td>enemies</td><td>1</td><td>2.48</td></tr><tr><td>keep</td><td>1</td><td>2.48</td></tr><tr><td>pain</td><td>1</td><td>2.48</td></tr><tr><td>no</td><td>1</td><td>2.48</td></tr><tr><td>gain</td><td>1</td><td>2.48</td></tr><tr><td>go</td><td>1</td><td>2.48</td></tr><tr><td>quickly</td><td>1</td><td>2.48</td></tr><tr><td>come</td><td>1</td><td>2.48</td></tr><tr><td>fall</td><td>1</td><td>2.48</td></tr><tr><td>united</td><td>1</td><td>2.48</td></tr><tr><td>we</td><td>1</td><td>2.48</td></tr><tr><td>stand</td><td>1</td><td>2.48</td></tr><tr><td>divided</td><td>1</td><td>2.48</td></tr><tr><td>romans</td><td>1</td><td>2.48</td></tr><tr><td>when</td><td>1</td><td>2.48</td></tr><tr><td>as</td><td>1</td><td>2.48</td></tr><tr><td>rome</td><td>1</td><td>2.48</td></tr><tr><td>do</td><td>1</td><td>2.48</td></tr></table>"
      ],
      "text/plain": [
       "<IPython.core.display.HTML object>"
      ]
     },
     "execution_count": 139,
     "metadata": {},
     "output_type": "execute_result"
    }
   ],
   "source": [
    "from math import log\n",
    "from IPython.display import HTML\n",
    "from collections import Counter\n",
    "\n",
    "phrases = [\n",
    "    'a penny saved is a penny earned',\n",
    "    'the quick brown fox jumps over the lazy dog',\n",
    "    'beauty is in the eye of the beholder',\n",
    "    'early to bed and early to rise makes a man healthy wealthy and wise',\n",
    "    'give credit where credit is due',\n",
    "    \"if at first you don't succeed try try again\",\n",
    "    'justice delayed is justice denied',\n",
    "    'keep your friends close and your enemies closer',\n",
    "    'no pain no gain',\n",
    "    'quickly come quickly go',\n",
    "    'united we stand divided we fall',\n",
    "    'when in rome do as the romans do'\n",
    "]\n",
    "\n",
    "phrases_number = len(phrases)\n",
    "\n",
    "word_counts = Counter([w for p in phrases for w in set(p.split())])\n",
    "\n",
    "html_table = (\n",
    "    \"<tr><th>Word</th>\"\n",
    "    \"<th>$\\left|\\left\\{d_i \\in D | t \\in d_i\\\\right\\}\\\\right|$</th>\"\n",
    "    \"<th>Inverse document frequency</th></tr>\"\n",
    ")\n",
    "\n",
    "for word, number in word_counts.items():\n",
    "    html_table += (\n",
    "        f\"<tr><td>{word}</td>\"\n",
    "        f\"<td>{number}</td>\"\n",
    "        f\"<td>{round(log(phrases_number/number), 2)}</td></tr>\"\n",
    "    )\n",
    "\n",
    "HTML(\"<table>\" + html_table + \"</table>\")"
   ]
  },
  {
   "cell_type": "markdown",
   "id": "aa6d9220-4a48-4720-ba56-8500ceb876ab",
   "metadata": {},
   "source": [
    "This metric shows how often a word occurs in general across all texts. If the word is really common, there's a high probability that it's just an article, pretext or something like that - it doesn't make much sense in the sentence. For example, let's consider the extreme value, if you find any word $t'$ in any text, it means that $\\frac{\\left| D \\right|}{\\left| \\left\\{ d_i \\in D | t \\in d_i \\right\\} \\right|} = 1 \\Rightarrow log \\frac{\\left| D \\right|}{\\left| \\left\\{ d_i \\in D | t \\in d_i \\right\\} \\right|} = 0$ - the presence of the word $t'$ in no way makes it possible to distinguish one entry from another."
   ]
  }
 ],
 "metadata": {
  "kernelspec": {
   "display_name": "Python 3 (ipykernel)",
   "language": "python",
   "name": "python3"
  },
  "language_info": {
   "codemirror_mode": {
    "name": "ipython",
    "version": 3
   },
   "file_extension": ".py",
   "mimetype": "text/x-python",
   "name": "python",
   "nbconvert_exporter": "python",
   "pygments_lexer": "ipython3",
   "version": "3.10.12"
  }
 },
 "nbformat": 4,
 "nbformat_minor": 5
}
