{
 "cells": [
  {
   "cell_type": "markdown",
   "id": "c4d7f7b0-a3e6-4174-87a4-23da7abae051",
   "metadata": {},
   "source": [
    "**Метод главных компонент**\n",
    "\n",
    "Все особенности и тонкоссти исползования метода главных компонент."
   ]
  },
  {
   "cell_type": "code",
   "execution_count": 1,
   "id": "b1959da2-1f9a-4845-93d3-078ea28bf4fd",
   "metadata": {},
   "outputs": [],
   "source": [
    "import numpy as np\n",
    "import pandas as pd\n",
    "\n",
    "import matplotlib.pyplot as plt\n",
    "\n",
    "from sklearn.decomposition import PCA"
   ]
  },
  {
   "cell_type": "markdown",
   "id": "0e017b68-a4d6-4b04-9bab-d90baba4f07e",
   "metadata": {},
   "source": [
    "# Первая главная компонента"
   ]
  },
  {
   "cell_type": "markdown",
   "id": "3d198880-aa2a-4cfb-95d6-02ad6725356d",
   "metadata": {},
   "source": [
    "## *Определение*\n",
    "\n",
    "Пусть имеюстся $n$ наблюдений за $m$ переменными - $x_{ij}, i\\in \\overline{1,n}, j \\in \\overline{1,m}$. Тогда первой главной компонентой назвается функция:\n",
    "\n",
    "$$Z_1(x_1, x_2, ... , x_m) = \\sum_{j=1}^m\\phi_{j}(x_j - \\bar{x}_j);$$\n",
    "\n",
    "Где:\n",
    "- $\\bar{x}_j$ - среднее выборочное $j$-й переменной $\\forall j$.\n",
    "\n",
    "При том $\\phi_j$ подбираются так, чтобы:\n",
    "\n",
    "$$(\\phi_1, \\phi_2, ... \\phi_m) = argmax_{\\varphi_1, \\varphi_2, ..., \\varphi_{m}}\\left\\{Var\\left[\\sum_{j=1}^m\\varphi_{j}(x_j - \\bar{x}_j)\\right]\\right\\};$$\n",
    "\n",
    "$$\\sum_{j=1}^m \\varphi_j^2 = 1.$$'"
   ]
  },
  {
   "cell_type": "markdown",
   "id": "43f44165-7a57-4931-b5e4-715db0e45fc4",
   "metadata": {},
   "source": [
    "## *Пример*"
   ]
  },
  {
   "cell_type": "markdown",
   "id": "ee1211bd-d775-4b81-ae93-37c593116943",
   "metadata": {},
   "source": [
    "Допустим имеются $5$ наблюдений за 2-мя переменными."
   ]
  },
  {
   "cell_type": "raw",
   "id": "8472fdb8-4bcb-4a00-94bf-20156757ee95",
   "metadata": {},
   "source": [
    "\"$\\phi_{j}(x_{{i}, {j}} - \\\\bar{x}_{j})$\".format(i = 2,j = 3)"
   ]
  },
  {
   "cell_type": "code",
   "execution_count": 87,
   "id": "0ca12833-90e8-4280-b8fa-c3034aee83f3",
   "metadata": {},
   "outputs": [
    {
     "name": "stdout",
     "output_type": "stream",
     "text": [
      "- $\\phi_1(x_{11} - \\bar{x}_1)$$\\phi_1(x_{12} - \\bar{x}_2)$;\n",
      "- $\\phi_1(x_{21} - \\bar{x}_1)$$\\phi_1(x_{22} - \\bar{x}_2)$;\n",
      "- $\\phi_1(x_{31} - \\bar{x}_1)$$\\phi_1(x_{32} - \\bar{x}_2)$;\n",
      "- $\\phi_1(x_{41} - \\bar{x}_1)$$\\phi_1(x_{42} - \\bar{x}_2)$;\n"
     ]
    }
   ],
   "source": [
    "for i in range(1, len(x1) + 1):\n",
    "    formula = \"\"\n",
    "    for j in range(1,3):\n",
    "        formula += \"$\\phi_1(x_{\" + str(i) + str(j) + \"} - \\\\bar{x}_\" + str(j) + \")$\"\n",
    "    print(\"- \" + formula + \";\")"
   ]
  },
  {
   "cell_type": "markdown",
   "id": "7d0487ec-cd5e-426e-b2e6-4a2c942340cd",
   "metadata": {},
   "source": [
    "- $\\phi_1(x_{1,1} - \\bar{x}_1)$$\\phi_1(x_{1,2} - \\bar{x}_2)$;\n",
    "- $\\phi_1(x_{2,1} - \\bar{x}_1)$$\\phi_1(x_{2,2} - \\bar{x}_2)$;\n",
    "- $\\phi_1(x_{3,1} - \\bar{x}_1)$$\\phi_1(x_{3,2} - \\bar{x}_2)$;\n",
    "- $\\phi_1(x_{4,1} - \\bar{x}_1)$$\\phi_1(x_{4,2} - \\bar{x}_2)$;"
   ]
  },
  {
   "cell_type": "code",
   "execution_count": 65,
   "id": "fa65215d-9804-475f-b4c7-69fd84092b55",
   "metadata": {},
   "outputs": [
    {
     "data": {
      "image/png": "[encoded data removed]",
      "text/plain": [
       "<Figure size 720x504 with 1 Axes>"
      ]
     },
     "metadata": {
      "needs_background": "light"
     },
     "output_type": "display_data"
    }
   ],
   "source": [
    "x1 = np.array([2, 3, 5, 6])\n",
    "x2 = np.array([3, 2, 6, 5])\n",
    "\n",
    "plt.figure(figsize = [10, 7])\n",
    "plt.scatter(x1, x2, s = 100)\n",
    "\n",
    "\n",
    "for i in range(len(x1)):\n",
    "    plt.annotate(\n",
    "        str(i+1), (x1[i], x2[i]), fontsize = 20\n",
    "    )\n",
    "\n",
    "plt.axhline(\n",
    "    np.mean(x2), color = 'red', linestyle = \"dashed\"\n",
    ")\n",
    "plt.axvline(\n",
    "    np.mean(x1), color = \"red\",linestyle = \"dashed\"\n",
    ")\n",
    "\n",
    "def create_tiks(values, sub_index):\n",
    "    \n",
    "    ticks_vals = np.unique(np.concatenate(\n",
    "        [values, [np.mean(values)]]\n",
    "    ))\n",
    "    tick_labels = \\\n",
    "    [\n",
    "        str(tick_val) \n",
    "        if tick_val != np.mean(x1) \n",
    "        else \"$\\\\bar{x}_ \" + sub_index + \" = $\" + str(tick_val) \n",
    "        \\\n",
    "        for tick_val in ticks_vals\n",
    "    ]\n",
    "    \n",
    "    return [ticks_vals, tick_labels]\n",
    "plt.xticks(*create_tiks(x1, \"1\"), fontsize = 14)\n",
    "plt.yticks(*create_tiks(x2, \"2\"), fontsize = 14)\n",
    "\n",
    "plt.grid()"
   ]
  },
  {
   "cell_type": "code",
   "execution_count": 9,
   "id": "ccc35ba1-48fe-4a52-a661-e0bd65d26b43",
   "metadata": {},
   "outputs": [
    {
     "data": {
      "text/plain": [
       "array([-2.,  0., -1.,  2.,  1.])"
      ]
     },
     "execution_count": 9,
     "metadata": {},
     "output_type": "execute_result"
    }
   ],
   "source": [
    "x1 - np.mean(x1)\n",
    "x2 - np.mean(x2)"
   ]
  }
 ],
 "metadata": {
  "kernelspec": {
   "display_name": "Python 3 (ipykernel)",
   "language": "python",
   "name": "python3"
  },
  "language_info": {
   "codemirror_mode": {
    "name": "ipython",
    "version": 3
   },
   "file_extension": ".py",
   "mimetype": "text/x-python",
   "name": "python",
   "nbconvert_exporter": "python",
   "pygments_lexer": "ipython3",
   "version": "3.11.1"
  }
 },
 "nbformat": 4,
 "nbformat_minor": 5
}
