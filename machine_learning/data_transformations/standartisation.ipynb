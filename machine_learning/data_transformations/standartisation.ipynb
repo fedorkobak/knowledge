{
 "cells": [
  {
   "cell_type": "markdown",
   "id": "24d21f75-c838-4951-b288-6cdf46172808",
   "metadata": {},
   "source": [
    "**Процедура стандартизации данных**"
   ]
  },
  {
   "cell_type": "code",
   "execution_count": 1,
   "id": "a575b8df-0761-46de-b511-bfd1547dc743",
   "metadata": {},
   "outputs": [],
   "source": [
    "import numpy as np\n",
    "import pandas as pd\n",
    "\n",
    "import matplotlib.pyplot as plt\n",
    "from sklearn.linear_model import LinearRegression\n",
    "from statsmodels.tools.tools import add_constant"
   ]
  },
  {
   "cell_type": "markdown",
   "id": "41fba143-f5ed-4207-974d-b0aaa7b0a4b3",
   "metadata": {},
   "source": [
    "# 1. Определение\n",
    "\n",
    "Пусть имеется множество измерений определенного признака $x_i, i=\\overline{1,n}$. Тогда стандартизацией такого ряда называется преобразование по формуле:\n",
    "\n",
    "$$\\tilde{x}_{i} = \\frac{x_{i} - \\bar{x}}{\\sigma_x}. \\tag{1.1}$$\n",
    "\n",
    "Где:\n",
    "- $\\bar{x}$ - среднее арифметческое рассматртваемого ряда;\n",
    "- $\\sigma_x$ - стандартное отклонение.\n",
    "\n",
    "Получется, что выражение $(1.1)$ может быть переписано следующим образом:\n",
    "\n",
    "$$\\tilde{x}_{i} = \\frac{x_{i} - \\bar{x}}{\\sqrt{\\frac{1}{n} \\sum_{i=1}^n(x_i - \\bar{x})^2}}.$$\n",
    "\n",
    "Иногда предпочитают не отнимать среднее арифметическое в числителе, тогда формула $(1.1)$ принимает вид:\n",
    "\n",
    "$$\\tilde{x}_i  = \\frac{x_i}{\\sigma}.$$"
   ]
  },
  {
   "cell_type": "markdown",
   "id": "cbfa1f84-b22f-4a5f-a286-5377f120b405",
   "metadata": {},
   "source": [
    "# 2. Свойсва результата\n",
    "\n",
    "Величина получаемая в результате применения формулы $(1.1)$ получает следующие свойсва:\n",
    "\n",
    "1. **Среднее артиaметисеское результата равняется нулю:**\n",
    "\n",
    "$$\\frac{\\sum_{i=1}^n\\tilde{x_i}}{n} = \\frac{1}{n}\\sum_{i=1}^n \\frac{x_i - \\bar{x}}{\\sigma} = \\frac{1}{n\\sigma}\\left[\\sum_{i=1}^n x_i - \\sum_{i=1}^n\\bar{x}\\right] = \\frac{1}{n\\sigma}\\left[\\sum_{i=1}^n x_i - n\\bar{x} \\right] =\n",
    "\\frac{1}{n\\sigma}\\left[ \\sum_{i=1}^n x_i - n \\sum_{i=1}^n\\frac{x_i}{n} \\right] = 0.$$\n",
    "\n",
    "2. **Стандаратное отклонение равняется единице:**\n",
    "\n",
    "Запишем стандартное отлонение $\\tilde{x}_i$:\n",
    "\n",
    "$$\\sum_{i=1}^n \\frac{\\tilde{x}_i - \\bar{\\tilde{x}}_i}{n}$$\n",
    "\n",
    "Но читвая результаты пункта 1 ($\\bar{\\tilde{x}}_i = 0$), получаем:\n",
    "\n",
    "\n",
    "$$\\sum_{i=1}^n \\frac{\\tilde{x}_i}{n} = \n",
    "\\frac{1}{n}\\sum_{i=1}^n\\left[ \\frac{x_i-\\bar{x}}{\\sqrt{\\frac{1}{n} \\sum_{i=1}^n (x_i - \\bar{x})^2}} \\right]^2 = \n",
    "\\frac{1}{n}\\sum_{i=1}^n\\left[ \\frac{(x_i-\\bar{x})^2}{\\frac{1}{n} \\sum_{i=1}^n (x_i - \\bar{x})^2} \\right] = \n",
    "\\frac{1}{n}\\left[ \\frac{\\sum_{i=1}^n(x_i-\\bar{x})^2}{\\frac{1}{n} \\sum_{i=1}^n (x_i - \\bar{x})^2} \\right] = \\frac{n}{n} = 1.$$"
   ]
  },
  {
   "cell_type": "markdown",
   "id": "8800b3f5-27e1-46dc-a65c-e2c0ccf24d04",
   "metadata": {},
   "source": [
    "# 3. Влияние на коээфициенты моделей"
   ]
  },
  {
   "cell_type": "markdown",
   "id": "f3cb2df1-104d-4e20-918a-78ebae76132d",
   "metadata": {},
   "source": [
    "## *Линейная регрессия*"
   ]
  },
  {
   "cell_type": "markdown",
   "id": "597b5bca-8927-4543-ac58-8115e7f00ac3",
   "metadata": {},
   "source": [
    "### **Введение**"
   ]
  },
  {
   "cell_type": "markdown",
   "id": "de4cff3a-02de-4b24-a1b1-f056a440f7dc",
   "metadata": {},
   "source": [
    "Модель на исходнынх данных в матричных обозначениях примет вид:\n",
    "\n",
    "$$\\hat{y} = b X. \\tag{3.1}$$\n",
    "\n",
    "Где:\n",
    "- $X$ - факторная матрица;\n",
    "- $\\hat{y}$ - вектор столбец предсказаний модели;\n",
    "- $b$ - вектор строка оценк коэффициентов модели."
   ]
  },
  {
   "cell_type": "markdown",
   "id": "a3d975f3-12e3-45db-8cc9-2a8b21aa8875",
   "metadata": {},
   "source": [
    "Тогда модель на стандартизированных данных примет вид:\n",
    "\n",
    "$$\\hat{y} = \\tilde{b} \\tilde{X}. \\tag{3.2}$$\n",
    "\n",
    "Где:\n",
    "- $\\tilde{X}$ - стандартизированная матрица предикоторов;\n",
    "- $\\tilde{b}$ - оценки коэффициентов полученные при использовании стантатицованной фактороной матрицы."
   ]
  },
  {
   "cell_type": "markdown",
   "id": "030c5518-0883-4c94-9448-4b541a82ecd3",
   "metadata": {},
   "source": [
    "Уточним, что факторную матрицу можно переписать:\n",
    "$$\\tilde{X} = \\left(\\begin{array}\\\\\n",
    "    x_{11}/\\sigma_{x_1}&x_{12}/\\sigma_{x_2} & \\cdots & x_{1p}/\\sigma_{x_p}\\\\\n",
    "    x_{21}/\\sigma_{x_1}&x_{22}/\\sigma_{x_2} & \\cdots & x_{2p}/\\sigma_{x_p}\\\\\n",
    "    \\vdots & \\vdots & \\ddots & \\vdots\\\\\n",
    "    x_{n1}/\\sigma_{x_1}&x_{n2}/\\sigma_{x_2} & \\cdots & x_{np}/\\sigma_{x_p}\\\\\n",
    "\\end{array}\\right)$$\n",
    "\n",
    "Где:\n",
    "- $p$ - число переменных модели;\n",
    "- $\\sigma_{x_j}$ - стандартное отклоненение $j$-й переменной."
   ]
  },
  {
   "cell_type": "markdown",
   "id": "1accd2c8-f6f2-4fd2-ab8c-2f0637fcdae6",
   "metadata": {},
   "source": [
    "Такая матрица раскладывается:\n",
    "\n",
    "$$\\tilde{X} = X*\\Sigma'. \\tag{3.3}$$\n",
    "\n",
    "Где:\n",
    "- $\\Sigma' = diag(1/\\sigma_{x_1}, 1/\\sigma_{x_2}, \\cdots, 1/\\sigma_{x_p})$."
   ]
  },
  {
   "cell_type": "markdown",
   "id": "8cf7a523-98cb-4e73-8acd-0551741e35e9",
   "metadata": {},
   "source": [
    "### **Влияние стандартизации на коэффициенты**"
   ]
  },
  {
   "cell_type": "markdown",
   "id": "a9dd93a1-fbb5-491f-bae0-0fb0dc4af62c",
   "metadata": {},
   "source": [
    "#### *Теория*\n",
    "\n",
    "Теоритически можно доказать, что предсказания линейной регрессии на исходных данных и на стандартизированных данных не отличаются. Далее представлено доказательсво."
   ]
  },
  {
   "cell_type": "markdown",
   "id": "13d62d9e-deaf-4136-868c-8c7f31922b03",
   "metadata": {},
   "source": [
    "Предсзакания модели $(3.1)$ для $i$-го наблюдения формируются так:\n",
    "\n",
    "$$\\hat{y}_i = \\sum_{j=1}^p b_jx_{ij}$$\n",
    "\n",
    "А модели $(3.2)$:\n",
    "\n",
    "$$\\hat{y}_i = \\sum_{j=1}^p \\tilde{b}_j\\tilde{x}_{ij}$$\n",
    "\n",
    "Главный вопрос этого раздела, `дают ли эти две модели одинаковое предсказание`? Поработаем с последним выражением:\n",
    "\n",
    "$$\\hat{y}_i = \\sum_{j=1}^p \\tilde{b}_j \\frac{x_{ij}}{\\sigma_j}.$$\n",
    "\n",
    "Таким образом, если $b_j = \\tilde{b}_j/\\sigma_j, \\forall j$ - то получается, что предсказания моделей одинаковые. Покажем это."
   ]
  },
  {
   "cell_type": "markdown",
   "id": "47043cca-04dd-46af-9187-30557281fe32",
   "metadata": {},
   "source": [
    "Для нахождения коэффициентов в $(2.1)$ можно воспользоваться матричной формулой:\n",
    "\n",
    "$$b=\\left[X^TX\\right]^{-1}X^TY\\tag{3.4}$$\n",
    "\n",
    "Для нахождения коэффициентов в $(2.2)$ можно воспользоваться формулой:\n",
    "\n",
    "$$\\tilde{b}=\\left[\\tilde{X}^T\\tilde{X}\\right]^{-1}\\tilde{X}^TY$$\n",
    "\n",
    "Используя $(3.3)$:\n",
    "\n",
    "$$\\tilde{b} = \n",
    "\\left[\\left(X\\Sigma'\\right)^T\\left(X\\Sigma'\\right)\\right]^{-1}\\left(X\\Sigma'\\right)^TY\n",
    "=\\left[\\Sigma^TX^TX\\Sigma'\\right]^{-1}\\Sigma'^TX^TY$$"
   ]
  },
  {
   "cell_type": "markdown",
   "id": "461c4756-a5c3-4647-a568-b36e173bcc17",
   "metadata": {},
   "source": [
    "Далее используя свойсва обращения произведения $(AB)^{-1} = B^{-1}A^{-1}$:\n",
    "\n",
    "$$\\tilde{b} = \\left[X^TX\\Sigma'\\right]^{-1}\\left[\\Sigma^T\\right]^{-1}\\Sigma'^TX^TY$$"
   ]
  },
  {
   "cell_type": "markdown",
   "id": "ecc44729-e0e4-465c-96e6-4ef827e0f3d8",
   "metadata": {},
   "source": [
    "$$\\tilde{b}=\\Sigma'^{-1}\\left[X^TX\\right]^{-1}X^TY$$"
   ]
  },
  {
   "cell_type": "markdown",
   "id": "a50cb460-1a35-4fc9-a464-344c5ca5ea5f",
   "metadata": {},
   "source": [
    "Тогда:\n",
    "\n",
    "$$\\Sigma'\\tilde{b} = \\left[X^TX\\right]^{-1}X^TY$$\n",
    "\n",
    "Подставляя $(3.4)$ получим, что:\n",
    "\n",
    "$$\\Sigma'^{-1}\\tilde{b}=b.$$"
   ]
  },
  {
   "cell_type": "markdown",
   "id": "e736a56b-f35c-401b-98a1-8a221d0fa3e7",
   "metadata": {},
   "source": [
    "Расписывая выражение подробнее:\n",
    "\n",
    "$$\\left(\\begin{array}\\\\\n",
    "    1/\\sigma_1 & 0 & \\cdots & 0 \\\\\n",
    "    0 & 1/\\sigma_2 & \\cdots & 0 \\\\\n",
    "    \\vdots & \\vdots & \\ddots & \\vdots \\\\\n",
    "    0 & 0 & \\cdots & 1/\\sigma_p\n",
    "\\end{array}\\right)\n",
    "\\left(\\begin{array}\\\\\n",
    "    \\tilde{b}_1 \\\\\n",
    "    \\tilde{b}_2 \\\\\n",
    "    \\vdots \\\\\n",
    "    \\tilde{b}_p\n",
    "\\end{array}\\right) = \n",
    "\\left(\\begin{array}\\\\\n",
    "    b_1 \\\\\n",
    "    b_2 \\\\\n",
    "    \\vdots \\\\\n",
    "    b_p\n",
    "\\end{array}\\right)\n",
    "$$"
   ]
  },
  {
   "cell_type": "markdown",
   "id": "eebb15ff-f773-433e-9fcb-b3643a2f0955",
   "metadata": {},
   "source": [
    "От куда следует, что:\n",
    "\n",
    "$$\n",
    "\\left(\\begin{array}\\\\\n",
    "    \\tilde{b}_1/\\sigma_1 \\\\\n",
    "    \\tilde{b}_2/\\sigma_2 \\\\\n",
    "    \\vdots \\\\\n",
    "    \\tilde{b}_p/\\sigma_p\n",
    "\\end{array}\\right) = \n",
    "\\left(\\begin{array}\\\\\n",
    "    b_1 \\\\\n",
    "    b_2 \\\\\n",
    "    \\vdots \\\\\n",
    "    b_p\n",
    "\\end{array}\\right)\n",
    "$$"
   ]
  },
  {
   "cell_type": "markdown",
   "id": "39dc9244-a724-49e4-9d75-eb8aaae26eb9",
   "metadata": {},
   "source": [
    "Тогда $b_j = \\tilde{b}_j/\\sigma_j, \\forall j$, что и требовалось доказать $\\boxtimes$."
   ]
  },
  {
   "cell_type": "markdown",
   "id": "4dd52d8e-b8e9-4eaa-b4e7-c096b863f122",
   "metadata": {},
   "source": [
    "#### *Численный эксперимент*\n",
    "\n",
    "Однако, на числах, рассуждения, представленные выше, не выполняются. Далее представлен эксперимент это подтверждающий."
   ]
  },
  {
   "cell_type": "markdown",
   "id": "75bfdeba-ac7f-4c97-b7d6-2b7e717e52ca",
   "metadata": {},
   "source": [
    "Формирование данных."
   ]
  },
  {
   "cell_type": "code",
   "execution_count": 2,
   "id": "15eb3950-3bea-4e36-8a30-8b08518b9ac0",
   "metadata": {},
   "outputs": [],
   "source": [
    "n = 200\n",
    "np.random.seed(15)\n",
    "\n",
    "x = pd.DataFrame({\n",
    "    \"x1\":np.random.normal(0, 0.3, n),\n",
    "    \"x2\":np.random.normal(0, 3, n)\n",
    "})\n",
    "\n",
    "y = x[\"x1\"]*3 + x[\"x2\"]*2 + (np.random.rand(n)-0.5) + 3"
   ]
  },
  {
   "cell_type": "markdown",
   "id": "ea3c4aac-ea30-4312-87df-046f85a59092",
   "metadata": {},
   "source": [
    "Коэффициенты на исходных данных примут вид:"
   ]
  },
  {
   "cell_type": "code",
   "execution_count": 5,
   "id": "09da221d-f2e3-4cf2-8854-939bd3188c11",
   "metadata": {},
   "outputs": [
    {
     "data": {
      "text/plain": [
       "array([2.95566332, 3.13373587, 2.00359775])"
      ]
     },
     "execution_count": 5,
     "metadata": {},
     "output_type": "execute_result"
    }
   ],
   "source": [
    "basic_model = LinearRegression(fit_intercept = False).fit(\n",
    "    add_constant(x), y)\n",
    "basic_model.coef_"
   ]
  },
  {
   "cell_type": "markdown",
   "id": "c54beccb-5225-43db-88fa-79d7cdf872f2",
   "metadata": {},
   "source": [
    "Коэффициент при использованнии стандатризированных данных примет вид:"
   ]
  },
  {
   "cell_type": "code",
   "execution_count": 6,
   "id": "9a9fc0d9-e990-4189-b1c5-e8880baf63b2",
   "metadata": {},
   "outputs": [
    {
     "data": {
      "text/plain": [
       "array([2.60710742, 0.95731566, 5.8421477 ])"
      ]
     },
     "execution_count": 6,
     "metadata": {},
     "output_type": "execute_result"
    }
   ],
   "source": [
    "# стандартизованная модель\n",
    "x_stand = (x-x.mean())/np.std(x)\n",
    "\n",
    "stand_model = LinearRegression(fit_intercept = False).fit(\n",
    "    add_constant(x_stand), y\n",
    ")\n",
    "\n",
    "stand_model.coef_"
   ]
  },
  {
   "cell_type": "markdown",
   "id": "d1bb9c96-d015-4bd5-9b10-c4b7df9daeec",
   "metadata": {},
   "source": [
    "Или, приводя коэффициент к использованию на исходных данных."
   ]
  },
  {
   "cell_type": "code",
   "execution_count": 7,
   "id": "7701d8de-2052-426a-ad59-50f436acfd9a",
   "metadata": {},
   "outputs": [
    {
     "data": {
      "text/plain": [
       "array([2.60710742, 3.12589172, 1.99858248])"
      ]
     },
     "execution_count": 7,
     "metadata": {},
     "output_type": "execute_result"
    }
   ],
   "source": [
    "stand_model.coef_/np.concatenate([[1], x.std().to_numpy()])"
   ]
  },
  {
   "cell_type": "markdown",
   "id": "c482bb95-222e-43d5-b582-ec557a62cccb",
   "metadata": {},
   "source": [
    "**Как видно, коэффициенты на стандартизорованных данных достаточно заметно отличаются от коэффициентов на исходных данных.** Следовательно и предсказания должны отличаться в чем мы удостоверимся."
   ]
  },
  {
   "cell_type": "code",
   "execution_count": 45,
   "id": "8e33434b-e7ad-41e9-8296-e4e18b1b103e",
   "metadata": {},
   "outputs": [
    {
     "data": {
      "text/html": [
       "<div>\n",
       "<style scoped>\n",
       "    .dataframe tbody tr th:only-of-type {\n",
       "        vertical-align: middle;\n",
       "    }\n",
       "\n",
       "    .dataframe tbody tr th {\n",
       "        vertical-align: top;\n",
       "    }\n",
       "\n",
       "    .dataframe thead th {\n",
       "        text-align: right;\n",
       "    }\n",
       "</style>\n",
       "<table border=\"1\" class=\"dataframe\">\n",
       "  <thead>\n",
       "    <tr style=\"text-align: right;\">\n",
       "      <th></th>\n",
       "      <th>basic predict</th>\n",
       "      <th>stand predict</th>\n",
       "    </tr>\n",
       "  </thead>\n",
       "  <tbody>\n",
       "    <tr>\n",
       "      <th>0</th>\n",
       "      <td>3.53475496739942940394030301831662654876708984...</td>\n",
       "      <td>3.53475496739942940394030301831662654876708984...</td>\n",
       "    </tr>\n",
       "    <tr>\n",
       "      <th>1</th>\n",
       "      <td>-0.47040250288071661088906694203615188598632812...</td>\n",
       "      <td>-0.47040250288071527862143739184830337762832641...</td>\n",
       "    </tr>\n",
       "    <tr>\n",
       "      <th>2</th>\n",
       "      <td>1.19065003861016061037503277475479990243911743...</td>\n",
       "      <td>1.19065003861016149855345247488003224134445190...</td>\n",
       "    </tr>\n",
       "    <tr>\n",
       "      <th>3</th>\n",
       "      <td>-5.00032926914154529640654800459742546081542968...</td>\n",
       "      <td>-5.00032926914154263187128890422172844409942626...</td>\n",
       "    </tr>\n",
       "    <tr>\n",
       "      <th>4</th>\n",
       "      <td>7.54930929882019441379270574543625116348266601...</td>\n",
       "      <td>7.54930929882019441379270574543625116348266601...</td>\n",
       "    </tr>\n",
       "    <tr>\n",
       "      <th>...</th>\n",
       "      <td>...</td>\n",
       "      <td>...</td>\n",
       "    </tr>\n",
       "    <tr>\n",
       "      <th>195</th>\n",
       "      <td>5.73269150865232113289948756573721766471862792...</td>\n",
       "      <td>5.73269150865232024472106786561198532581329345...</td>\n",
       "    </tr>\n",
       "    <tr>\n",
       "      <th>196</th>\n",
       "      <td>-2.20031285504599605218345459434203803539276123...</td>\n",
       "      <td>-2.20031285504599383173740534402895718812942504...</td>\n",
       "    </tr>\n",
       "    <tr>\n",
       "      <th>197</th>\n",
       "      <td>-4.44552414243254645498382160440087318420410156...</td>\n",
       "      <td>-4.44552414243254467862698220415040850639343261...</td>\n",
       "    </tr>\n",
       "    <tr>\n",
       "      <th>198</th>\n",
       "      <td>2.16478039072416539312371241976507008075714111...</td>\n",
       "      <td>2.16478039072416583721292226982768625020980834...</td>\n",
       "    </tr>\n",
       "    <tr>\n",
       "      <th>199</th>\n",
       "      <td>-0.80340280563815458236831545946188271045684814...</td>\n",
       "      <td>-0.80340280563815325010068590927403420209884643...</td>\n",
       "    </tr>\n",
       "  </tbody>\n",
       "</table>\n",
       "<p>200 rows × 2 columns</p>\n",
       "</div>"
      ],
      "text/plain": [
       "                                         basic predict  \\\n",
       "0    3.53475496739942940394030301831662654876708984...   \n",
       "1   -0.47040250288071661088906694203615188598632812...   \n",
       "2    1.19065003861016061037503277475479990243911743...   \n",
       "3   -5.00032926914154529640654800459742546081542968...   \n",
       "4    7.54930929882019441379270574543625116348266601...   \n",
       "..                                                 ...   \n",
       "195  5.73269150865232113289948756573721766471862792...   \n",
       "196 -2.20031285504599605218345459434203803539276123...   \n",
       "197 -4.44552414243254645498382160440087318420410156...   \n",
       "198  2.16478039072416539312371241976507008075714111...   \n",
       "199 -0.80340280563815458236831545946188271045684814...   \n",
       "\n",
       "                                         stand predict  \n",
       "0    3.53475496739942940394030301831662654876708984...  \n",
       "1   -0.47040250288071527862143739184830337762832641...  \n",
       "2    1.19065003861016149855345247488003224134445190...  \n",
       "3   -5.00032926914154263187128890422172844409942626...  \n",
       "4    7.54930929882019441379270574543625116348266601...  \n",
       "..                                                 ...  \n",
       "195  5.73269150865232024472106786561198532581329345...  \n",
       "196 -2.20031285504599383173740534402895718812942504...  \n",
       "197 -4.44552414243254467862698220415040850639343261...  \n",
       "198  2.16478039072416583721292226982768625020980834...  \n",
       "199 -0.80340280563815325010068590927403420209884643...  \n",
       "\n",
       "[200 rows x 2 columns]"
      ]
     },
     "execution_count": 45,
     "metadata": {},
     "output_type": "execute_result"
    }
   ],
   "source": [
    "pd.set_option(\"display.precision\", 50)\n",
    "pred_df = pd.DataFrame({\n",
    "    \"basic predict\" : basic_model.predict(add_constant(x)),\n",
    "    \"stand predict\" : stand_model.predict(add_constant(x_stand))\n",
    "})\n",
    "\n",
    "pred_df"
   ]
  },
  {
   "cell_type": "markdown",
   "id": "aef3fdfe-68a3-4e77-b93c-daaaceb7ea9c",
   "metadata": {},
   "source": [
    "**Но оказалось, предсказания почити отличаются - различие в рамках погрешности!!!**"
   ]
  },
  {
   "cell_type": "markdown",
   "id": "bcf85a32-de79-464a-8cb1-5427f4372248",
   "metadata": {},
   "source": [
    "Появлялась мысль, что данное различие обусровлено особенностями `sklearn`. Но при использовании формул привычной матричной алгебры, результат тот-же самый."
   ]
  },
  {
   "cell_type": "markdown",
   "id": "9a1da5f5-5be5-4959-99d9-3a3d78c64c4b",
   "metadata": {},
   "source": [
    "Обычные данные"
   ]
  },
  {
   "cell_type": "code",
   "execution_count": 10,
   "id": "6b9f4967-e591-41e2-882f-dae9419ad99f",
   "metadata": {},
   "outputs": [
    {
     "data": {
      "text/plain": [
       "array([2.95566332, 3.13373587, 2.00359775])"
      ]
     },
     "execution_count": 10,
     "metadata": {},
     "output_type": "execute_result"
    }
   ],
   "source": [
    "np_y = y.to_numpy().reshape([n,1])\n",
    "np_x = add_constant(x).to_numpy()\n",
    "np.dot(\n",
    "    np.linalg.inv(\n",
    "        np.dot(np.transpose(np_x), np_x)\n",
    "    ),\n",
    "    np.dot(np.transpose(np_x), np_y)\n",
    ").ravel()"
   ]
  },
  {
   "cell_type": "markdown",
   "id": "a35eea32-30b8-46a5-8a19-6229250f442b",
   "metadata": {},
   "source": [
    "Стандартизированные данные"
   ]
  },
  {
   "cell_type": "code",
   "execution_count": 13,
   "id": "fa0da57e-95c6-4221-b3ff-0028a678718d",
   "metadata": {},
   "outputs": [
    {
     "data": {
      "text/plain": [
       "array([2.60710742, 0.95731566, 5.8421477 ])"
      ]
     },
     "execution_count": 13,
     "metadata": {},
     "output_type": "execute_result"
    }
   ],
   "source": [
    "np_x_stand = add_constant(x_stand).to_numpy()\n",
    "np.dot(\n",
    "    np.linalg.inv(\n",
    "        np.dot(np.transpose(np_x_stand), np_x_stand)\n",
    "    ),\n",
    "    np.dot(np.transpose(np_x_stand), np_y)\n",
    ").ravel()"
   ]
  },
  {
   "cell_type": "markdown",
   "id": "bdfceab6-4e5d-410e-b64f-624c00f48475",
   "metadata": {},
   "source": [
    "# 4. Направления развития\n",
    "\n",
    "Очевидно, я не до конца раскрыл свойства этого преобразования, потому намечу возможные направления развития этого notebook:\n",
    "\n",
    "- Изучить свойсва целевых функций в задачах оптимизации при подборе коэффициентов для стандартизованных и не стандартизованных данных для раздела 3;\n",
    "- Рассмотреть как стандартизация влияет на модели других идентификационных форм."
   ]
  }
 ],
 "metadata": {
  "kernelspec": {
   "display_name": "Python 3 (ipykernel)",
   "language": "python",
   "name": "python3"
  },
  "language_info": {
   "codemirror_mode": {
    "name": "ipython",
    "version": 3
   },
   "file_extension": ".py",
   "mimetype": "text/x-python",
   "name": "python",
   "nbconvert_exporter": "python",
   "pygments_lexer": "ipython3",
   "version": "3.10.12"
  }
 },
 "nbformat": 4,
 "nbformat_minor": 5
}
