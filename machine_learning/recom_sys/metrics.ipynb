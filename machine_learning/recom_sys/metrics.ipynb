{
 "cells": [
  {
   "cell_type": "markdown",
   "id": "6f130a6a-e954-4d9d-b27f-12e98167ca3b",
   "metadata": {},
   "source": [
    "# Metrics\n",
    "\n",
    "Here are common metrics that have been designed or adapted specifically for recommendation systems."
   ]
  },
  {
   "cell_type": "code",
   "execution_count": 86,
   "id": "fcc4487f-9c98-48c4-a90d-01b6a779617d",
   "metadata": {},
   "outputs": [],
   "source": [
    "import pandas as pd\n",
    "from IPython.display import HTML\n",
    "from sklearn.datasets import make_blobs"
   ]
  },
  {
   "cell_type": "markdown",
   "id": "b3b23218-6aa1-42e6-a67e-c41d4b76aeb0",
   "metadata": {},
   "source": [
    "## Example task\n",
    "\n",
    "The following cell has generated an assignment that we will use as an example. It is generated in the format `<user/item> <-> rating`."
   ]
  },
  {
   "cell_type": "code",
   "execution_count": 94,
   "id": "04718cc3-b48c-49f7-a2f1-f31c6a4058fb",
   "metadata": {},
   "outputs": [
    {
     "data": {
      "text/html": [
       "<div>\n",
       "<style scoped>\n",
       "    .dataframe tbody tr th:only-of-type {\n",
       "        vertical-align: middle;\n",
       "    }\n",
       "\n",
       "    .dataframe tbody tr th {\n",
       "        vertical-align: top;\n",
       "    }\n",
       "\n",
       "    .dataframe thead th {\n",
       "        text-align: right;\n",
       "    }\n",
       "</style>\n",
       "<table border=\"1\" class=\"dataframe\">\n",
       "  <thead>\n",
       "    <tr style=\"text-align: right;\">\n",
       "      <th></th>\n",
       "      <th>object</th>\n",
       "      <th>item</th>\n",
       "      <th>rating</th>\n",
       "    </tr>\n",
       "  </thead>\n",
       "  <tbody>\n",
       "    <tr>\n",
       "      <th>173</th>\n",
       "      <td>5</td>\n",
       "      <td>23</td>\n",
       "      <td>7.0</td>\n",
       "    </tr>\n",
       "    <tr>\n",
       "      <th>57</th>\n",
       "      <td>1</td>\n",
       "      <td>27</td>\n",
       "      <td>5.0</td>\n",
       "    </tr>\n",
       "    <tr>\n",
       "      <th>271</th>\n",
       "      <td>9</td>\n",
       "      <td>1</td>\n",
       "      <td>0.0</td>\n",
       "    </tr>\n",
       "    <tr>\n",
       "      <th>92</th>\n",
       "      <td>3</td>\n",
       "      <td>2</td>\n",
       "      <td>5.0</td>\n",
       "    </tr>\n",
       "    <tr>\n",
       "      <th>85</th>\n",
       "      <td>2</td>\n",
       "      <td>25</td>\n",
       "      <td>4.0</td>\n",
       "    </tr>\n",
       "    <tr>\n",
       "      <th>77</th>\n",
       "      <td>2</td>\n",
       "      <td>17</td>\n",
       "      <td>5.0</td>\n",
       "    </tr>\n",
       "    <tr>\n",
       "      <th>190</th>\n",
       "      <td>6</td>\n",
       "      <td>10</td>\n",
       "      <td>7.0</td>\n",
       "    </tr>\n",
       "    <tr>\n",
       "      <th>253</th>\n",
       "      <td>8</td>\n",
       "      <td>13</td>\n",
       "      <td>5.0</td>\n",
       "    </tr>\n",
       "    <tr>\n",
       "      <th>26</th>\n",
       "      <td>0</td>\n",
       "      <td>26</td>\n",
       "      <td>6.0</td>\n",
       "    </tr>\n",
       "    <tr>\n",
       "      <th>5</th>\n",
       "      <td>0</td>\n",
       "      <td>5</td>\n",
       "      <td>6.0</td>\n",
       "    </tr>\n",
       "  </tbody>\n",
       "</table>\n",
       "</div>"
      ],
      "text/plain": [
       "     object  item  rating\n",
       "173       5    23     7.0\n",
       "57        1    27     5.0\n",
       "271       9     1     0.0\n",
       "92        3     2     5.0\n",
       "85        2    25     4.0\n",
       "77        2    17     5.0\n",
       "190       6    10     7.0\n",
       "253       8    13     5.0\n",
       "26        0    26     6.0\n",
       "5         0     5     6.0"
      ]
     },
     "execution_count": 94,
     "metadata": {},
     "output_type": "execute_result"
    }
   ],
   "source": [
    "r_width = 10\n",
    "r_height = 30\n",
    "\n",
    "R, c = make_blobs(\n",
    "    n_samples=r_height,\n",
    "    n_features=r_width,\n",
    "    centers=3,\n",
    "    random_state=10\n",
    ")\n",
    "R = np.round((R-R.min())*10/(R.max()-R.min())).astype(int)\n",
    "\n",
    "# genrating combinations of object/item to be empty\n",
    "combination_counts = 20\n",
    "nan_combinations = np.concatenate(\n",
    "    [\n",
    "        np.random.randint(0, R.shape[0], [combination_counts,1]),\n",
    "        np.random.randint(0, R.shape[1], [combination_counts,1])\n",
    "    ],\n",
    "    axis=1\n",
    ")\n",
    "\n",
    "# replacing some combinations with emptys\n",
    "R = R.astype(\"float32\")\n",
    "for comb in nan_combinations:\n",
    "    R[tuple(comb)] = np.NaN\n",
    "\n",
    "R_frame = pd.Series(\n",
    "    R.ravel(),\n",
    "    index = pd.MultiIndex.from_tuples(\n",
    "            [\n",
    "                (j,i) \n",
    "                for j in np.arange(R.shape[1]) \n",
    "                for i in np.arange(R.shape[0])\n",
    "            ],\n",
    "            names = [\"object\", \"item\"]\n",
    "    ),\n",
    "    name = \"rating\"\n",
    ").reset_index()\n",
    "\n",
    "R_frame.sample(10)"
   ]
  },
  {
   "cell_type": "markdown",
   "id": "cd0cebe1-fb26-4873-a866-e48ad0c85935",
   "metadata": {},
   "source": [
    "## precision@k"
   ]
  },
  {
   "cell_type": "code",
   "execution_count": 10,
   "id": "cdf87b6e-e7cc-4621-98c1-6fed5785c82c",
   "metadata": {},
   "outputs": [
    {
     "data": {
      "text/plain": [
       "array([ 7.,  9.,  0.,  6.,  8.,  6.,  7.,  3.,  9.,  8.,  6., 10.,  1.,\n",
       "        4.,  9.,  6., nan,  3.,  8.,  7.,  5.,  2.,  4.,  6.,  5.,  4.,\n",
       "        6., nan,  6.,  6.,  6.,  9.,  1., nan,  8., nan,  8.,  3., nan,\n",
       "        7.,  5.,  2.,  4.,  7., nan,  5.,  6.,  5.,  7.,  6.,  6.,  1.,\n",
       "       nan,  7.,  4.,  5.,  7., nan,  8.,  6.,  7.,  9.,  1.,  6., nan,\n",
       "        6.,  7.,  3.,  9.,  8.,  5.,  2.,  4.,  6.,  5.,  5.,  6.,  5.,\n",
       "        6.,  6., nan,  2.,  4.,  6.,  4.,  4.,  6.,  5.,  7.,  6.,  6.,\n",
       "        1.,  5.,  7.,  4.,  4.,  6.,  5.,  7.,  7., nan, nan,  1.,  5.,\n",
       "        8.,  7.,  7.,  3.,  8.,  6., nan,  9.,  1.,  5.,  7.,  6.,  8.,\n",
       "        3.,  9.,  7.,  9.,  1.,  6.,  7.,  5.,  2.,  3.,  7., nan,  1.,\n",
       "        6.,  2.,  4.,  6., nan,  4.,  7.,  5.,  7.,  6.,  8.,  1.,  6.,\n",
       "        8.,  5.,  2.,  2.,  7.,  3.,  1.,  8.,  1.,  6.,  6.,  6.,  3.,\n",
       "        2.,  7.,  2.,  2.,  7.,  1.,  7.,  7.,  5.,  2.,  3.,  7.,  2.,\n",
       "        1.,  5.,  1.,  4.,  7.,  4.,  5.,  6.,  4.,  6.,  6.,  6.,  2.,\n",
       "        4.,  7.,  5.,  5.,  6.,  5.,  6.,  6.,  7.,  1.,  6.,  7.,  6.,\n",
       "        3.,  1.,  7., nan,  0.,  6., 10.,  1.,  6.,  8.,  7.,  7.,  2.,\n",
       "        9.,  7.,  7.,  9.,  1.,  6.,  8.,  6.,  7.,  3.,  8.,  7.,  8.,\n",
       "        1.,  7.,  7.,  5.,  2.,  2.,  7.,  2.,  1.,  7.,  1.,  7.,  6.,\n",
       "        5.,  2.,  2.,  8.,  2.,  1.,  7., nan,  6.,  7.,  5.,  2.,  3.,\n",
       "        9.,  3.,  1.,  7., 10.,  1.,  5.,  7.,  6.,  7.,  4., 10., nan,\n",
       "        7.,  1.,  7.,  7.,  5.,  3.,  2.,  8.,  2.,  1.,  8.,  0.,  6.,\n",
       "        7.,  5.,  3., nan,  8.,  2.,  2.,  7.,  9.,  0.,  4.,  8.,  7.,\n",
       "        7.,  3.,  9.,  7.,  6.,  2.,  3.,  7.,  5.,  5.,  6.,  6.,  6.,\n",
       "        6.], dtype=float32)"
      ]
     },
     "execution_count": 10,
     "metadata": {},
     "output_type": "execute_result"
    }
   ],
   "source": []
  },
  {
   "cell_type": "code",
   "execution_count": 11,
   "id": "f358be57-371b-4db3-9daf-2cdb3b4bd3cd",
   "metadata": {},
   "outputs": [
    {
     "data": {
      "text/plain": [
       "array([[ 7.,  9.,  0.,  6.,  8.,  6.,  7.,  3.,  9.,  8.],\n",
       "       [ 6., 10.,  1.,  4.,  9.,  6., nan,  3.,  8.,  7.],\n",
       "       [ 5.,  2.,  4.,  6.,  5.,  4.,  6., nan,  6.,  6.],\n",
       "       [ 6.,  9.,  1., nan,  8., nan,  8.,  3., nan,  7.],\n",
       "       [ 5.,  2.,  4.,  7., nan,  5.,  6.,  5.,  7.,  6.],\n",
       "       [ 6.,  1., nan,  7.,  4.,  5.,  7., nan,  8.,  6.],\n",
       "       [ 7.,  9.,  1.,  6., nan,  6.,  7.,  3.,  9.,  8.],\n",
       "       [ 5.,  2.,  4.,  6.,  5.,  5.,  6.,  5.,  6.,  6.],\n",
       "       [nan,  2.,  4.,  6.,  4.,  4.,  6.,  5.,  7.,  6.],\n",
       "       [ 6.,  1.,  5.,  7.,  4.,  4.,  6.,  5.,  7.,  7.],\n",
       "       [nan, nan,  1.,  5.,  8.,  7.,  7.,  3.,  8.,  6.],\n",
       "       [nan,  9.,  1.,  5.,  7.,  6.,  8.,  3.,  9.,  7.],\n",
       "       [ 9.,  1.,  6.,  7.,  5.,  2.,  3.,  7., nan,  1.],\n",
       "       [ 6.,  2.,  4.,  6., nan,  4.,  7.,  5.,  7.,  6.],\n",
       "       [ 8.,  1.,  6.,  8.,  5.,  2.,  2.,  7.,  3.,  1.],\n",
       "       [ 8.,  1.,  6.,  6.,  6.,  3.,  2.,  7.,  2.,  2.],\n",
       "       [ 7.,  1.,  7.,  7.,  5.,  2.,  3.,  7.,  2.,  1.],\n",
       "       [ 5.,  1.,  4.,  7.,  4.,  5.,  6.,  4.,  6.,  6.],\n",
       "       [ 6.,  2.,  4.,  7.,  5.,  5.,  6.,  5.,  6.,  6.],\n",
       "       [ 7.,  1.,  6.,  7.,  6.,  3.,  1.,  7., nan,  0.],\n",
       "       [ 6., 10.,  1.,  6.,  8.,  7.,  7.,  2.,  9.,  7.],\n",
       "       [ 7.,  9.,  1.,  6.,  8.,  6.,  7.,  3.,  8.,  7.],\n",
       "       [ 8.,  1.,  7.,  7.,  5.,  2.,  2.,  7.,  2.,  1.],\n",
       "       [ 7.,  1.,  7.,  6.,  5.,  2.,  2.,  8.,  2.,  1.],\n",
       "       [ 7., nan,  6.,  7.,  5.,  2.,  3.,  9.,  3.,  1.],\n",
       "       [ 7., 10.,  1.,  5.,  7.,  6.,  7.,  4., 10., nan],\n",
       "       [ 7.,  1.,  7.,  7.,  5.,  3.,  2.,  8.,  2.,  1.],\n",
       "       [ 8.,  0.,  6.,  7.,  5.,  3., nan,  8.,  2.,  2.],\n",
       "       [ 7.,  9.,  0.,  4.,  8.,  7.,  7.,  3.,  9.,  7.],\n",
       "       [ 6.,  2.,  3.,  7.,  5.,  5.,  6.,  6.,  6.,  6.]], dtype=float32)"
      ]
     },
     "execution_count": 11,
     "metadata": {},
     "output_type": "execute_result"
    }
   ],
   "source": [
    "R"
   ]
  }
 ],
 "metadata": {
  "kernelspec": {
   "display_name": "Python 3 (ipykernel)",
   "language": "python",
   "name": "python3"
  },
  "language_info": {
   "codemirror_mode": {
    "name": "ipython",
    "version": 3
   },
   "file_extension": ".py",
   "mimetype": "text/x-python",
   "name": "python",
   "nbconvert_exporter": "python",
   "pygments_lexer": "ipython3",
   "version": "3.10.12"
  }
 },
 "nbformat": 4,
 "nbformat_minor": 5
}
