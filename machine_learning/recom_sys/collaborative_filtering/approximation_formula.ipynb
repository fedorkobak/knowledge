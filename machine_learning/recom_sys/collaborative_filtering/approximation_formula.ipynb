{
 "cells": [
  {
   "cell_type": "markdown",
   "id": "fd11e80e-9363-4f3d-ab25-20534521eb9b",
   "metadata": {},
   "source": [
    "# Approximation formula\n",
    "\n",
    "In the collaborative approach, once you have identified similar objects, you need to use them to predict preferences for items. There is a formula that allows you to do this. This formula was difficult for me to understand, so this page focuses on understanding this formula."
   ]
  },
  {
   "cell_type": "code",
   "execution_count": 1,
   "id": "e0b7930d-9e39-4650-9458-4482af82d696",
   "metadata": {},
   "outputs": [],
   "source": [
    "import numpy as np\n",
    "\n",
    "from sklearn.datasets import make_blobs\n",
    "from IPython.display import HTML"
   ]
  },
  {
   "cell_type": "markdown",
   "id": "6ac54e54-fcf3-4fff-80ad-3cb261b7925a",
   "metadata": {},
   "source": [
    "## Task generation\n",
    "\n",
    "The following cell generates an example that I'll use to show the sense of some transformations."
   ]
  },
  {
   "cell_type": "code",
   "execution_count": 2,
   "id": "e1a8f28d-0f34-4e36-88ec-afa7ea5149c1",
   "metadata": {},
   "outputs": [
    {
     "data": {
      "text/plain": [
       "array([[ 9, 10,  3,  6, 10,  7,  9,  5, 10,  9],\n",
       "       [10,  2,  8, 10,  7,  5,  4, 10,  4,  5],\n",
       "       [ 8, 10,  2,  5, 10,  7,  9,  5,  9,  8],\n",
       "       [ 6,  1,  4,  7,  4,  5,  7,  6,  6,  6],\n",
       "       [ 4,  7,  0,  4,  6,  5,  6,  2,  7,  5],\n",
       "       [ 8,  4,  6,  8,  7,  7,  9,  7,  8,  8],\n",
       "       [ 8, 10,  1,  6,  8,  6,  7,  3,  9,  8],\n",
       "       [10, 10,  3,  8, 10,  8,  9,  5, 10,  9],\n",
       "       [ 6,  3,  5,  8,  5,  6,  8,  6,  8,  7],\n",
       "       [ 7, 10,  1,  5,  8,  6,  8,  4, 10,  7],\n",
       "       [ 9,  1,  6,  7,  5,  2,  3,  7,  2,  1],\n",
       "       [ 6,  0,  4,  6,  3,  0,  0,  6,  1,  0],\n",
       "       [ 8, 10,  2,  6,  9,  7, 10,  4, 10,  8],\n",
       "       [ 8,  2,  7,  8,  7,  4,  2,  9,  3,  1],\n",
       "       [ 7,  0,  6,  6,  5,  1,  1,  7,  1,  0],\n",
       "       [ 6,  1,  5,  7,  5,  5,  6,  5,  6,  5],\n",
       "       [10,  3,  9, 10,  7,  5,  4, 10,  4,  3],\n",
       "       [ 9,  2,  8,  8,  7,  4,  3,  8,  3,  3],\n",
       "       [ 6,  2,  4,  7,  5,  5,  6,  5,  7,  7],\n",
       "       [ 7,  3,  6,  8,  5,  5,  8,  7,  9,  7]])"
      ]
     },
     "execution_count": 2,
     "metadata": {},
     "output_type": "execute_result"
    }
   ],
   "source": [
    "r_width = 10\n",
    "r_height = 20\n",
    "\n",
    "R, groups = make_blobs(\n",
    "    n_samples=r_height,\n",
    "    n_features=r_width,\n",
    "    centers=3,\n",
    "    random_state=10\n",
    ")\n",
    "R = np.round((R-R.min())*10/(R.max()-R.min())).astype(int)\n",
    "# add bias for each object\n",
    "bias = np.random.randint(-2,3, [R.shape[0], 1])\n",
    "R = R + bias\n",
    "\n",
    "# sometimes bias can lead to ratings\n",
    "R = np.where(R<0, 0, R)\n",
    "R = np.where(R>10, 10, R)\n",
    "R"
   ]
  },
  {
   "cell_type": "markdown",
   "id": "fc2ee7ee-7774-49fd-9ccb-54014b6fa2c6",
   "metadata": {},
   "source": [
    "So let $k'$ - is object to which we need to recoomend something.\n",
    "\n",
    "So for the example under consideration we'll use $k' = 5$."
   ]
  },
  {
   "cell_type": "code",
   "execution_count": 3,
   "id": "49ef1a98-b9d4-4418-bf63-60b62e0e3862",
   "metadata": {},
   "outputs": [],
   "source": [
    "consideration_object = 5"
   ]
  },
  {
   "cell_type": "markdown",
   "id": "07ccb1bd-5719-4b88-ae0f-18938c750716",
   "metadata": {},
   "source": [
    "## Collaboration\n",
    "\n",
    "The collaboration for $k'$ object is a set of objects that we think are similar to it. We measure similarity by the Pearson correlation coefficient.\n",
    "\n",
    "So we can define similarity as the set of objects that have $c_{ik'} > c'$ or more formally $U_{k'}=\\left\\{i\\in U | c_{k'i} > c' \\right\\}$. So now we have a hyper-parameter of the algorithm $c'$ that controls how many objects are used to approximate preferences for the object."
   ]
  },
  {
   "cell_type": "markdown",
   "id": "76bcb7a9-4626-42e6-8f1e-db426b0a77da",
   "metadata": {},
   "source": [
    "The next cell shows a table with the correlation coefficients of the objects in the example with $k'=5$.  "
   ]
  },
  {
   "cell_type": "code",
   "execution_count": 32,
   "id": "ecb15e75-33dc-41e4-8ea8-fa51ef8e2836",
   "metadata": {},
   "outputs": [],
   "source": [
    "# it's indices of objects excluding\n",
    "# the object for which we are generating \n",
    "# predictions\n",
    "other_indices = np.concatenate([\n",
    "    np.arange(0,consideration_object), \n",
    "    np.arange(consideration_object+1, R.shape[0])\n",
    "])\n",
    "other_R = R[other_indices, :]\n",
    "correlations = np.corrcoef(\n",
    "    other_R, R[consideration_object, :]\n",
    ")[0,1:]\n",
    "\n",
    "# HTML code for input\n",
    "# table that will be displayed\n",
    "# on the left sides\n",
    "header = (\n",
    "    \"<tr>\"\n",
    "        \"<th rowspan=\\\"2\\\">object</th>\"\n",
    "        f\"<th colspan=\\\"{R.shape[1]}\\\" style='text-align:center'>Ranks of the items</th>\"\n",
    "        \"<th rowspan=\\\"2\\\">corr. coef</th>\"\n",
    "    \"</tr>\"\n",
    "    \"<tr>\"+\n",
    "        \"\".join([f\"<th>{str(i)}</th>\" for i in range(R.shape[1])])+\n",
    "    \"</tr>\"\n",
    ")\n",
    "content = \"\".join([\n",
    "    (\n",
    "        \"<tr>\" + \n",
    "        f\"<td>{obj}</td>\" + \n",
    "        \"\".join([f\"<td>{val}</td>\" for val in R[obj,:]]) +\n",
    "        f\"<td>{str(correlations[i])}</td>\" + \n",
    "        \"</tr>\"\n",
    "    )\n",
    "    for i, obj in enumerate(other_indices)\n",
    "])\n",
    "input_table = \"<table>\" + header + content + \"</table>\"\n",
    "del header, content\n",
    "\n",
    "\n",
    "collatoratoin_indices = other_indices[correlations > 0.8]\n",
    "collaboration = R[collatoratoin_indices,:]\n",
    "# HTML code for table that represents\n",
    "# collaboration that is on the right side"
   ]
  },
  {
   "cell_type": "markdown",
   "id": "8752f914-d380-4df9-8762-b1c5e6b1b77e",
   "metadata": {},
   "source": [
    "For our case we choose $c'=0.8$ - so all objects that have a correlation greater than $0.8$ will correspond to the collaboration of the object $k'$. So let's display collaboaration for our case."
   ]
  },
  {
   "cell_type": "code",
   "execution_count": 43,
   "id": "e7cb4b52-35b6-483b-95d9-4571c8c20d36",
   "metadata": {},
   "outputs": [
    {
     "data": {
      "text/html": [
       "<table><tr><td>1</td><td>10</td><td>2</td><td>8</td><td>10</td><td>7</td><td>5</td><td>4</td><td>10</td><td>4</td><td>5</td></tr><tr><td>3</td><td>6</td><td>1</td><td>4</td><td>7</td><td>4</td><td>5</td><td>7</td><td>6</td><td>6</td><td>6</td></tr><tr><td>4</td><td>4</td><td>7</td><td>0</td><td>4</td><td>6</td><td>5</td><td>6</td><td>2</td><td>7</td><td>5</td></tr><tr><td>6</td><td>8</td><td>10</td><td>1</td><td>6</td><td>8</td><td>6</td><td>7</td><td>3</td><td>9</td><td>8</td></tr><tr><td>8</td><td>6</td><td>3</td><td>5</td><td>8</td><td>5</td><td>6</td><td>8</td><td>6</td><td>8</td><td>7</td></tr><tr><td>11</td><td>6</td><td>0</td><td>4</td><td>6</td><td>3</td><td>0</td><td>0</td><td>6</td><td>1</td><td>0</td></tr></table>"
      ],
      "text/plain": [
       "<IPython.core.display.HTML object>"
      ]
     },
     "execution_count": 43,
     "metadata": {},
     "output_type": "execute_result"
    }
   ],
   "source": [
    "content = \"\".join([\n",
    "    \"<tr>\" +\n",
    "        f\"<td>{object_ind}</td>\"+\n",
    "        ''.join(['<td>'+str(v)+'</td>' for v in obj])+\n",
    "    \"</tr>\"\n",
    "     for obj, object_ind in zip(collaboration, collatoratoin_indices)\n",
    "])\n",
    "HTML(\"<table>\" + content + \"</table>\")"
   ]
  },
  {
   "cell_type": "code",
   "execution_count": 14,
   "id": "1fe8fd5d-fb22-4263-8fe5-19b759d7164a",
   "metadata": {},
   "outputs": [
    {
     "data": {
      "text/html": [
       "<html>\n",
       "<head>\n",
       "\t<style>\n",
       "\t\t.table-container {\n",
       "\t\t\tdisplay: flex;\n",
       "\t\t\tjustify-content: space-around;\n",
       "\t\t}\n",
       "\t\t.table-left {\n",
       "\t\t\tfloat: left;\n",
       "\t\t\tmargin-right: 50px;\n",
       "\t\t}\n",
       "\t\t.table-right {\n",
       "\t\t\tfloat: right;\n",
       "\t\t}\n",
       "\t</style>\n",
       "</head>\n",
       "<body>\n",
       "\t<div class=\"table-container\">\n",
       "\t\t<div class=\"table-left\">\n",
       "\t\t\t<table border=\"1\">\n",
       "\t\t\t\t<tr>\n",
       "\t\t\t\t\t<th>Header 1</th>\n",
       "\t\t\t\t\t<th>Header 2</th>\n",
       "\t\t\t\t</tr>\n",
       "\t\t\t\t<tr>\n",
       "\t\t\t\t\t<td>Row 1, Cell 1</td>\n",
       "\t\t\t\t\t<td>Row 1, Cell 2</td>\n",
       "\t\t\t\t</tr>\n",
       "\t\t\t\t<tr>\n",
       "\t\t\t\t\t<td>Row 2, Cell 1</td>\n",
       "\t\t\t\t\t<td>Row 2, Cell 2</td>\n",
       "\t\t\t\t</tr>\n",
       "\t\t\t</table>\n",
       "\t\t</div>\n",
       "\t\t<div class=\"table-right\">\n",
       "\t\t\t<table border=\"1\">\n",
       "\t\t\t\t<tr>\n",
       "\t\t\t\t\t<th>Header 1</th>\n",
       "\t\t\t\t\t<th>Header 2</th>\n",
       "\t\t\t\t</tr>\n",
       "\t\t\t\t<tr>\n",
       "\t\t\t\t\t<td>Row 1, Cell 1</td>\n",
       "\t\t\t\t\t<td>Row 1, Cell 2</td>\n",
       "\t\t\t\t</tr>\n",
       "\t\t\t\t<tr>\n",
       "\t\t\t\t\t<td>Row 2, Cell 1</td>\n",
       "\t\t\t\t\t<td>Row 2, Cell 2</td>\n",
       "\t\t\t\t</tr>\n",
       "\t\t\t</table>\n",
       "\t\t</div>\n",
       "\t</div>\n",
       "</body>\n",
       "</html>\n"
      ],
      "text/plain": [
       "<IPython.core.display.HTML object>"
      ]
     },
     "metadata": {},
     "output_type": "display_data"
    }
   ],
   "source": [
    "%%HTML\n",
    "<html>\n",
    "<head>\n",
    "\t<style>\n",
    "\t\t.table-container {\n",
    "\t\t\tdisplay: flex;\n",
    "\t\t\tjustify-content: space-around;\n",
    "\t\t}\n",
    "\t\t.table-left {\n",
    "\t\t\tfloat: left;\n",
    "\t\t\tmargin-right: 50px;\n",
    "\t\t}\n",
    "\t\t.table-right {\n",
    "\t\t\tfloat: right;\n",
    "\t\t}\n",
    "\t</style>\n",
    "</head>\n",
    "<body>\n",
    "\t<div class=\"table-container\">\n",
    "\t\t<div class=\"table-left\">\n",
    "\t\t\t<table border=\"1\">\n",
    "\t\t\t\t<tr>\n",
    "\t\t\t\t\t<th>Header 1</th>\n",
    "\t\t\t\t\t<th>Header 2</th>\n",
    "\t\t\t\t</tr>\n",
    "\t\t\t\t<tr>\n",
    "\t\t\t\t\t<td>Row 1, Cell 1</td>\n",
    "\t\t\t\t\t<td>Row 1, Cell 2</td>\n",
    "\t\t\t\t</tr>\n",
    "\t\t\t\t<tr>\n",
    "\t\t\t\t\t<td>Row 2, Cell 1</td>\n",
    "\t\t\t\t\t<td>Row 2, Cell 2</td>\n",
    "\t\t\t\t</tr>\n",
    "\t\t\t</table>\n",
    "\t\t</div>\n",
    "\t\t<div class=\"table-right\">\n",
    "\t\t\t<table border=\"1\">\n",
    "\t\t\t\t<tr>\n",
    "\t\t\t\t\t<th>Header 1</th>\n",
    "\t\t\t\t\t<th>Header 2</th>\n",
    "\t\t\t\t</tr>\n",
    "\t\t\t\t<tr>\n",
    "\t\t\t\t\t<td>Row 1, Cell 1</td>\n",
    "\t\t\t\t\t<td>Row 1, Cell 2</td>\n",
    "\t\t\t\t</tr>\n",
    "\t\t\t\t<tr>\n",
    "\t\t\t\t\t<td>Row 2, Cell 1</td>\n",
    "\t\t\t\t\t<td>Row 2, Cell 2</td>\n",
    "\t\t\t\t</tr>\n",
    "\t\t\t</table>\n",
    "\t\t</div>\n",
    "\t</div>\n",
    "</body>\n",
    "</html>"
   ]
  }
 ],
 "metadata": {
  "kernelspec": {
   "display_name": "Python 3 (ipykernel)",
   "language": "python",
   "name": "python3"
  },
  "language_info": {
   "codemirror_mode": {
    "name": "ipython",
    "version": 3
   },
   "file_extension": ".py",
   "mimetype": "text/x-python",
   "name": "python",
   "nbconvert_exporter": "python",
   "pygments_lexer": "ipython3",
   "version": "3.10.12"
  }
 },
 "nbformat": 4,
 "nbformat_minor": 5
}
