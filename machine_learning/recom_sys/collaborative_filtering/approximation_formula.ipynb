{
 "cells": [
  {
   "cell_type": "markdown",
   "id": "fd11e80e-9363-4f3d-ab25-20534521eb9b",
   "metadata": {},
   "source": [
    "# Approximation formula\n",
    "\n",
    "In the collaborative approach, once you have identified similar objects, you need to use them to predict preferences for items. There is a formula that allows you to do this. This formula was difficult for me to understand, so this page focuses on understanding this formula."
   ]
  },
  {
   "cell_type": "code",
   "execution_count": 1,
   "id": "e0b7930d-9e39-4650-9458-4482af82d696",
   "metadata": {},
   "outputs": [],
   "source": [
    "import numpy as np\n",
    "\n",
    "from sklearn.datasets import make_blobs\n",
    "from IPython.display import HTML"
   ]
  },
  {
   "cell_type": "markdown",
   "id": "6ac54e54-fcf3-4fff-80ad-3cb261b7925a",
   "metadata": {},
   "source": [
    "## Task generation\n",
    "\n",
    "The following cell generates an example that I'll use to show the sense of some transformations."
   ]
  },
  {
   "cell_type": "code",
   "execution_count": 2,
   "id": "e1a8f28d-0f34-4e36-88ec-afa7ea5149c1",
   "metadata": {},
   "outputs": [
    {
     "data": {
      "text/plain": [
       "array([[ 5,  8,  0,  2,  6,  3,  5,  1,  7,  5],\n",
       "       [ 7,  0,  5,  7,  4,  2,  1,  7,  1,  2],\n",
       "       [ 8, 10,  2,  5, 10,  7,  9,  5,  9,  8],\n",
       "       [ 6,  1,  4,  7,  4,  5,  7,  6,  6,  6],\n",
       "       [ 7, 10,  2,  7,  9,  8,  9,  5, 10,  8],\n",
       "       [ 4,  0,  2,  4,  3,  3,  5,  3,  4,  4],\n",
       "       [ 9, 10,  2,  7,  9,  7,  8,  4, 10,  9],\n",
       "       [ 6,  8,  0,  4,  6,  4,  5,  1,  7,  5],\n",
       "       [ 5,  2,  4,  7,  4,  5,  7,  5,  7,  6],\n",
       "       [ 8, 10,  2,  6,  9,  7,  9,  5, 10,  8],\n",
       "       [ 7,  0,  4,  5,  3,  0,  1,  5,  0,  0],\n",
       "       [ 7,  0,  5,  7,  4,  1,  1,  7,  2,  0],\n",
       "       [ 9, 10,  3,  7, 10,  8, 10,  5, 10,  9],\n",
       "       [ 9,  3,  8,  9,  8,  5,  3, 10,  4,  2],\n",
       "       [ 7,  0,  6,  6,  5,  1,  1,  7,  1,  0],\n",
       "       [ 8,  3,  7,  9,  7,  7,  8,  7,  8,  7],\n",
       "       [ 9,  2,  8,  9,  6,  4,  3,  9,  3,  2],\n",
       "       [ 7,  0,  6,  6,  5,  2,  1,  6,  1,  1],\n",
       "       [ 8,  4,  6,  9,  7,  7,  8,  7,  9,  9],\n",
       "       [ 4,  0,  3,  5,  2,  2,  5,  4,  6,  4]])"
      ]
     },
     "execution_count": 2,
     "metadata": {},
     "output_type": "execute_result"
    }
   ],
   "source": [
    "r_width = 10\n",
    "r_height = 20\n",
    "\n",
    "R, groups = make_blobs(\n",
    "    n_samples=r_height,\n",
    "    n_features=r_width,\n",
    "    centers=3,\n",
    "    random_state=10\n",
    ")\n",
    "R = np.round((R-R.min())*10/(R.max()-R.min())).astype(int)\n",
    "# add bias for each object\n",
    "bias = np.random.randint(-2,3, [R.shape[0], 1])\n",
    "R = R + bias\n",
    "\n",
    "# sometimes bias can lead to ratings\n",
    "R = np.where(R<0, 0, R)\n",
    "R = np.where(R>10, 10, R)\n",
    "R"
   ]
  },
  {
   "cell_type": "markdown",
   "id": "fc2ee7ee-7774-49fd-9ccb-54014b6fa2c6",
   "metadata": {},
   "source": [
    "So let $k'$ - is object to which we need to recoomend something.\n",
    "\n",
    "So for the example under consideration we'll use $k' = 5$."
   ]
  },
  {
   "cell_type": "code",
   "execution_count": 3,
   "id": "49ef1a98-b9d4-4418-bf63-60b62e0e3862",
   "metadata": {},
   "outputs": [],
   "source": [
    "consideration_object = 5"
   ]
  },
  {
   "cell_type": "markdown",
   "id": "07ccb1bd-5719-4b88-ae0f-18938c750716",
   "metadata": {},
   "source": [
    "## Collaboration\n",
    "\n",
    "The collaboration for $k'$ object is a set of objects that we think are similar to it. We measure similarity by the Pearson correlation coefficient.\n",
    "\n",
    "So we can define similarity as the set of objects that have $c_{ik'} > c'$ or more formally $U_{k'}=\\left\\{i\\in U | c_{k'i} > c' \\right\\}$. So now we have a hyper-parameter of the algorithm $c'$ that controls how many objects are used to approximate preferences for the object."
   ]
  },
  {
   "cell_type": "markdown",
   "id": "76bcb7a9-4626-42e6-8f1e-db426b0a77da",
   "metadata": {},
   "source": [
    "The next cell shows a table with the correlation coefficients of the objects in the example with $k'=5$ on the left, and it's collaboration in the case $c'=0.8$ on the right."
   ]
  },
  {
   "cell_type": "code",
   "execution_count": 29,
   "id": "ecb15e75-33dc-41e4-8ea8-fa51ef8e2836",
   "metadata": {},
   "outputs": [
    {
     "data": {
      "text/html": [
       "<div style='display: flex;justify-content: space-around;'><div><p style='font-size:17px;text-align:center'>Input correlations</p><table><tr><th rowspan=\"2\">object</th><th colspan=\"10\" style='text-align:center'>Ranks of the items</th><th rowspan=\"2\">corr. coef</th></tr><tr><th>0</th><th>1</th><th>2</th><th>3</th><th>4</th><th>5</th><th>6</th><th>7</th><th>8</th><th>9</th></tr><tr><td>0</td><td>5</td><td>8</td><td>0</td><td>2</td><td>6</td><td>3</td><td>5</td><td>1</td><td>7</td><td>5</td><td>-0.6655264799818821</td></tr><tr><td>1</td><td>7</td><td>0</td><td>5</td><td>7</td><td>4</td><td>2</td><td>1</td><td>7</td><td>1</td><td>2</td><td>0.9433748638354392</td></tr><tr><td>2</td><td>8</td><td>10</td><td>2</td><td>5</td><td>10</td><td>7</td><td>9</td><td>5</td><td>9</td><td>8</td><td>-0.3372300605285859</td></tr><tr><td>3</td><td>6</td><td>1</td><td>4</td><td>7</td><td>4</td><td>5</td><td>7</td><td>6</td><td>6</td><td>6</td><td>0.8974592464346675</td></tr><tr><td>4</td><td>7</td><td>10</td><td>2</td><td>7</td><td>9</td><td>8</td><td>9</td><td>5</td><td>10</td><td>8</td><td>0.9347546382694413</td></tr><tr><td>6</td><td>9</td><td>10</td><td>2</td><td>7</td><td>9</td><td>7</td><td>8</td><td>4</td><td>10</td><td>9</td><td>0.9636480072147563</td></tr><tr><td>7</td><td>6</td><td>8</td><td>0</td><td>4</td><td>6</td><td>4</td><td>5</td><td>1</td><td>7</td><td>5</td><td>-0.14162743907523523</td></tr><tr><td>8</td><td>5</td><td>2</td><td>4</td><td>7</td><td>4</td><td>5</td><td>7</td><td>5</td><td>7</td><td>6</td><td>0.9534686268568541</td></tr><tr><td>9</td><td>8</td><td>10</td><td>2</td><td>6</td><td>9</td><td>7</td><td>9</td><td>5</td><td>10</td><td>8</td><td>-0.5157266969762434</td></tr><tr><td>10</td><td>7</td><td>0</td><td>4</td><td>5</td><td>3</td><td>0</td><td>1</td><td>5</td><td>0</td><td>0</td><td>-0.5870995880756342</td></tr><tr><td>11</td><td>7</td><td>0</td><td>5</td><td>7</td><td>4</td><td>1</td><td>1</td><td>7</td><td>2</td><td>0</td><td>0.9249446195769584</td></tr><tr><td>12</td><td>9</td><td>10</td><td>3</td><td>7</td><td>10</td><td>8</td><td>10</td><td>5</td><td>10</td><td>9</td><td>-0.6119544960755207</td></tr><tr><td>13</td><td>9</td><td>3</td><td>8</td><td>9</td><td>8</td><td>5</td><td>3</td><td>10</td><td>4</td><td>2</td><td>-0.614780591668336</td></tr><tr><td>14</td><td>7</td><td>0</td><td>6</td><td>6</td><td>5</td><td>1</td><td>1</td><td>7</td><td>1</td><td>0</td><td>-0.4047021305093861</td></tr><tr><td>15</td><td>8</td><td>3</td><td>7</td><td>9</td><td>7</td><td>7</td><td>8</td><td>7</td><td>8</td><td>7</td><td>-0.687351286194773</td></tr><tr><td>16</td><td>9</td><td>2</td><td>8</td><td>9</td><td>6</td><td>4</td><td>3</td><td>9</td><td>3</td><td>2</td><td>-0.6405937217732891</td></tr><tr><td>17</td><td>7</td><td>0</td><td>6</td><td>6</td><td>5</td><td>2</td><td>1</td><td>6</td><td>1</td><td>1</td><td>-0.07537783614444088</td></tr><tr><td>18</td><td>8</td><td>4</td><td>6</td><td>9</td><td>7</td><td>7</td><td>8</td><td>7</td><td>9</td><td>9</td><td>-0.1909313313651758</td></tr><tr><td>19</td><td>4</td><td>0</td><td>3</td><td>5</td><td>2</td><td>2</td><td>5</td><td>4</td><td>6</td><td>4</td><td>-0.10326002528434575</td></tr></table></div><div style='font-size:100px'>→</div><div><p style='font-size:17px;text-align:center'>Collaboration</p><table><tr><th rowspan=\"2\">object</th><th colspan=\"10\" style='text-align:center'>Ranks of the items</th></tr><tr><th>0</th><th>1</th><th>2</th><th>3</th><th>4</th><th>5</th><th>6</th><th>7</th><th>8</th><th>9</th></tr><tr><td>1</td><td>7</td><td>0</td><td>5</td><td>7</td><td>4</td><td>2</td><td>1</td><td>7</td><td>1</td><td>2</td></tr><tr><td>3</td><td>6</td><td>1</td><td>4</td><td>7</td><td>4</td><td>5</td><td>7</td><td>6</td><td>6</td><td>6</td></tr><tr><td>4</td><td>7</td><td>10</td><td>2</td><td>7</td><td>9</td><td>8</td><td>9</td><td>5</td><td>10</td><td>8</td></tr><tr><td>6</td><td>9</td><td>10</td><td>2</td><td>7</td><td>9</td><td>7</td><td>8</td><td>4</td><td>10</td><td>9</td></tr><tr><td>8</td><td>5</td><td>2</td><td>4</td><td>7</td><td>4</td><td>5</td><td>7</td><td>5</td><td>7</td><td>6</td></tr><tr><td>11</td><td>7</td><td>0</td><td>5</td><td>7</td><td>4</td><td>1</td><td>1</td><td>7</td><td>2</td><td>0</td></tr></table></div></div>"
      ],
      "text/plain": [
       "<IPython.core.display.HTML object>"
      ]
     },
     "execution_count": 29,
     "metadata": {},
     "output_type": "execute_result"
    }
   ],
   "source": [
    "# it's indices of objects excluding\n",
    "# the object for which we are generating \n",
    "# predictions\n",
    "other_indices = np.concatenate([\n",
    "    np.arange(0,consideration_object), \n",
    "    np.arange(consideration_object+1, R.shape[0])\n",
    "])\n",
    "other_R = R[other_indices, :]\n",
    "correlations = np.corrcoef(\n",
    "    other_R, R[consideration_object, :]\n",
    ")[0,1:]\n",
    "\n",
    "# HTML code for input\n",
    "# table that will be displayed\n",
    "# on the left sides\n",
    "header = (\n",
    "    \"<tr>\"\n",
    "        \"<th rowspan=\\\"2\\\">object</th>\"\n",
    "        f\"<th colspan=\\\"{R.shape[1]}\\\" style='text-align:center'>Ranks of the items</th>\"\n",
    "        \"<th rowspan=\\\"2\\\">corr. coef</th>\"\n",
    "    \"</tr>\"\n",
    "    \"<tr>\"+\n",
    "        \"\".join([f\"<th>{str(i)}</th>\" for i in range(R.shape[1])])+\n",
    "    \"</tr>\"\n",
    ")\n",
    "content = \"\".join([\n",
    "    (\n",
    "        \"<tr>\" + \n",
    "        f\"<td>{obj}</td>\" + \n",
    "        \"\".join([f\"<td>{val}</td>\" for val in R[obj,:]]) +\n",
    "        f\"<td>{str(correlations[i])}</td>\" + \n",
    "        \"</tr>\"\n",
    "    )\n",
    "    for i, obj in enumerate(other_indices)\n",
    "])\n",
    "input_table = \"<table>\" + header + content + \"</table>\"\n",
    "del header, content\n",
    "\n",
    "\n",
    "# HTML code for table that represents\n",
    "# collaboration that is on the right side\n",
    "collatoratoin_indices = other_indices[correlations > 0.8]\n",
    "collaboration = R[collatoratoin_indices,:]\n",
    "header = (\n",
    "    \"<tr>\"\n",
    "        \"<th rowspan=\\\"2\\\">object</th>\"\n",
    "        f\"<th colspan=\\\"{R.shape[1]}\\\" style='text-align:center'>Ranks of the items</th>\"\n",
    "    \"</tr>\"\n",
    "    \"<tr>\"+\n",
    "        \"\".join([f\"<th>{str(i)}</th>\" for i in range(R.shape[1])])+\n",
    "    \"</tr>\"\n",
    ")\n",
    "content = \"\".join([\n",
    "    \"<tr>\" +\n",
    "        f\"<td>{object_ind}</td>\"+\n",
    "        ''.join(['<td>'+str(v)+'</td>' for v in obj])+\n",
    "    \"</tr>\"\n",
    "     for obj, object_ind in zip(collaboration, collatoratoin_indices)\n",
    "])\n",
    "collaboration_table = \"<table>\"+header+content+\"</table>\"\n",
    "del header, content\n",
    "\n",
    "HTML(\n",
    "    \"<div style='display: flex;justify-content: space-around;'>\"+\n",
    "    \"<div>\" + \n",
    "        \"<p style='font-size:17px;text-align:center'>Input correlations</p>\" + \n",
    "        input_table + \n",
    "    \"</div>\" +\n",
    "    \"<div style='font-size:100px'>→</div>\"\n",
    "    \"<div>\" + \n",
    "        \"<p style='font-size:17px;text-align:center'>Collaboration</p>\" + \n",
    "        collaboration_table + \n",
    "    \"</div>\"\n",
    "    \"</div>\"\n",
    ")"
   ]
  },
  {
   "cell_type": "markdown",
   "id": "1dbe7658-d3fa-4e67-a01e-55edecef9003",
   "metadata": {},
   "source": [
    "So the collaboration in this case will be $U_5=\\{1,3,4,6,8,11\\}$. Set of indices of objects belonging to the collaboration of the 5th element."
   ]
  },
  {
   "cell_type": "markdown",
   "id": "f37f6280-4bd4-438c-8032-d7aeaed669b6",
   "metadata": {},
   "source": [
    "## Formula\n",
    "\n",
    "Now when we have collaboration we can predict expected preferences for the items for 5-th element.\n",
    "\n",
    "Estimation of the preference of $j$-th item for user $k'$ can be computed using:\n",
    "\n",
    "$$a_{k', j}=\\overline{r}_{k'} + \\frac{\\sum_{j\\in U_{k'}}(r_{lj}-\\overline{r}_l)c_{k'l}}{\\sum_{l \\in U_{k'}}|c_{k'l}|}$$"
   ]
  }
 ],
 "metadata": {
  "kernelspec": {
   "display_name": "Python 3 (ipykernel)",
   "language": "python",
   "name": "python3"
  },
  "language_info": {
   "codemirror_mode": {
    "name": "ipython",
    "version": 3
   },
   "file_extension": ".py",
   "mimetype": "text/x-python",
   "name": "python",
   "nbconvert_exporter": "python",
   "pygments_lexer": "ipython3",
   "version": "3.10.12"
  }
 },
 "nbformat": 4,
 "nbformat_minor": 5
}
