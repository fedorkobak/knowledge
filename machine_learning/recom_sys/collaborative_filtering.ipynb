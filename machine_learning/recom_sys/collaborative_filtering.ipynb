{
 "cells": [
  {
   "cell_type": "markdown",
   "id": "5fb0421d-2753-4a6d-9f1f-5f86d2907170",
   "metadata": {},
   "source": [
    "# Collaborative filtering\n",
    "\n",
    "It's type of models that requires only matrix $R$."
   ]
  },
  {
   "cell_type": "code",
   "execution_count": 1,
   "id": "dd3f5eed-3ddb-4db7-bd42-481daab36e72",
   "metadata": {},
   "outputs": [],
   "source": [
    "import numpy as np\n",
    "import pandas as pd"
   ]
  },
  {
   "cell_type": "markdown",
   "id": "00c3f58f-8618-4a72-999d-409d317892cd",
   "metadata": {},
   "source": [
    "## User based\n",
    "\n",
    "This method is based on approach, that if users ranked their common items close it means that it have sence to recommend them same items in future:\n",
    "\n",
    "|   | $i_1$ | $i_2$ | ... | $i_n$|\n",
    "|:--|:------|:------|:----|:-----|\n",
    "|$u_1$|$r_{11}$|$r_{12}$|...|$r_{1n}$|\n",
    "|$u_2$|$r_{21}$|$r_{22}$|...|$r_{2n}$|\n",
    "|...|...|...|...|...|\n",
    "|$u_m$|$r_{m1}$|$r_{m2}$|...|$r_{mn}$|"
   ]
  },
  {
   "cell_type": "markdown",
   "id": "ca4a2231-c6fb-430e-9b8f-1415ef33f5df",
   "metadata": {},
   "source": [
    "<!--\n",
    "# GENERATE arr\n",
    "np.random.seed(10)\n",
    "sample_size = 10\n",
    "\n",
    "arr = np.random.randint(low=1, high=11, size=[1, sample_size])\n",
    "arr = np.concatenate(\n",
    "    [\n",
    "        arr,\n",
    "        arr + np.random.randint(-1, 2, size=sample_size),\n",
    "        np.abs(arr - 10) + np.random.randint(-1, 2, size=sample_size)\n",
    "    ],\n",
    "    axis = 0\n",
    ")\n",
    "arr = np.where((arr>10), 10 , arr)\n",
    "arr = np.where((arr<1), 1, arr)\n",
    "\n",
    "# Display display it as markdown\n",
    "\n",
    "print(pd.DataFrame(\n",
    "    arr,\n",
    "    index=[f\"$u_{{{i+1}}}$\" for i in range(arr.shape[0])], \n",
    "    columns=[f\"$i_{{{j+1}}}$\" for j in range(arr.shape[1])]\n",
    ").to_markdown())\n",
    "-->\n",
    "\n",
    "Consider a simple example:\n",
    "\n",
    "|         |   $i_{1}$ |   $i_{2}$ |   $i_{3}$ |   $i_{4}$ |   $i_{5}$ |   $i_{6}$ |   $i_{7}$ |   $i_{8}$ |   $i_{9}$ |   $i_{10}$ |\n",
    "|:--------|----------:|----------:|----------:|----------:|----------:|----------:|----------:|----------:|----------:|-----------:|\n",
    "| $u_{1}$ |        10 |         5 |         1 |         2 |        10 |         1 |         2 |         9 |        10 |          1 |\n",
    "| $u_{2}$ |        10 |         4 |         2 |         1 |         9 |         1 |         3 |         8 |        10 |          2 |\n",
    "| $u_{3}$ |         1 |         4 |         8 |         9 |         1 |        10 |         8 |         1 |         1 |          9 |"
   ]
  },
  {
   "cell_type": "markdown",
   "id": "8a5f05ab-19ba-4d98-8ff0-bc73cf1f9bde",
   "metadata": {},
   "source": [
    "Without any special techniques, you can see that user 1 and user 2 have very similar preferences. But user 3 has completely different preferences. "
   ]
  },
  {
   "cell_type": "markdown",
   "id": "323753aa-61d4-4ed1-b4d4-c67295a3420f",
   "metadata": {},
   "source": [
    "In the following cell, the $R$ matrix under consideration is defined as a numpy array."
   ]
  },
  {
   "cell_type": "code",
   "execution_count": 2,
   "id": "eb0a089c-03aa-45b4-8447-979732147a36",
   "metadata": {},
   "outputs": [],
   "source": [
    "arr = np.array([\n",
    "    [10,  5,  1,  2, 10,  1,  2,  9, 10,  1],\n",
    "    [10,  4,  2,  1,  9,  1,  3,  8, 10,  2],\n",
    "    [ 1,  4,  8,  9,  1, 10,  8,  1,  1,  9]\n",
    "])"
   ]
  },
  {
   "cell_type": "markdown",
   "id": "7eef5555-d4d9-4e01-bbbf-72010e551850",
   "metadata": {},
   "source": [
    "So let's try to formalise their similarity somehow - in this case we'll use Pirson's correlation coefficient:"
   ]
  },
  {
   "cell_type": "code",
   "execution_count": 27,
   "id": "6b8013bf-4627-4b0c-b58b-723c4d1bf624",
   "metadata": {},
   "outputs": [
    {
     "name": "stdout",
     "output_type": "stream",
     "text": [
      "Similarity between first and second user: 0.9802681400094546\n",
      "Similarity between second and third user: -0.9650036744440637\n"
     ]
    }
   ],
   "source": [
    "corrmatrix = np.corrcoef(arr)\n",
    "print(\"Similarity between first and second user:\", corrmatrix[0,1])\n",
    "print(\"Similarity between second and third user:\", corrmatrix[1,2])"
   ]
  },
  {
   "cell_type": "markdown",
   "id": "956a0b3e-bd42-4434-833b-1b3627c3fe08",
   "metadata": {},
   "source": [
    "So we proved that the first client is close to the second, but the third is very different. So according to our approach, we are more likely to recommend to the second user the games that the first one liked and vice versa."
   ]
  },
  {
   "cell_type": "markdown",
   "id": "b4487328-4e9d-40f1-aa98-0fea4782140d",
   "metadata": {},
   "source": [
    "## Item based\n",
    "\n",
    "Item based approach technically same as user based. Here we are looking for items that are similar in $r_{ij}, i=\\overline{1,n}$ by the same users."
   ]
  },
  {
   "cell_type": "markdown",
   "id": "d0cc0686-fdff-45ae-a9fa-05d0d46fa3e9",
   "metadata": {},
   "source": [
    "So the $R$ matrix is just transposed compared to the user based approach:\n",
    "\n",
    "|   | $u_1$ | $u_2$ | ... | $u_m$|\n",
    "|:--|:------|:------|:----|:-----|\n",
    "|$i_1$|$r_{11}$|$r_{12}$|...|$r_{1m}$|\n",
    "|$i_2$|$r_{21}$|$r_{22}$|...|$r_{2m}$|\n",
    "|...|...|...|...|...|\n",
    "|$i_n$|$r_{m1}$|$r_{m2}$|...|$r_{mn}$|\n",
    "\n",
    "**Note** here, in contrast to the definition given above, the order of indexing of the elements of the matrix $R$ is changed ($i$ and $j$ are swapped). That is, here $r_{ji}$."
   ]
  },
  {
   "cell_type": "markdown",
   "id": "42a1d01c-a672-4737-ae94-9aaa0514b48c",
   "metadata": {},
   "source": [
    "## Final algorithm\n",
    "\n",
    "Here we take a general look at how collaborative filtering works. It will have identical operations in the user and item based cases, so we will only consider the abstract matrix $R$. So we have target value $r_{ij}$ for abstract combination of row $i$ and column $j$.\n",
    "\n",
    "**Estimate similarities** For each pair of rows, let's say rows $k,t,t\\neq k$, we compute some metric that estimates their similarities $c_{kt}$, for example the Pearson correlation coefficient.\n",
    "\n",
    "An important nuance is that for some $i,j$-$r_{ij}=\\emptyset$, which means that it means that the combination $i,j$ did not occur. So during estimating similarity $c_{kt}$ we only can use those $j$ where $r_{kj}\\neq\\emptyset$ and $r_{tj}\\neq\\emptyset$.\n",
    "\n",
    "**Estimate** Say we are considering row $k'$, and we need to suggest for this row those columns $j$ that best match this row. So $\\forall j=\\overline{1,m}| r_{k'j}\\neq \\emptyset$ we got estimation $a_{k'j}(\\overline{c_{k'}})$. Where $\\overline{c_{k'}}=(c_{k'1}, c_{k'2}, ..., c_{k'm})$ - estimates of similarity of other objects to object $k'$."
   ]
  }
 ],
 "metadata": {
  "kernelspec": {
   "display_name": "Python 3 (ipykernel)",
   "language": "python",
   "name": "python3"
  },
  "language_info": {
   "codemirror_mode": {
    "name": "ipython",
    "version": 3
   },
   "file_extension": ".py",
   "mimetype": "text/x-python",
   "name": "python",
   "nbconvert_exporter": "python",
   "pygments_lexer": "ipython3",
   "version": "3.10.12"
  }
 },
 "nbformat": 4,
 "nbformat_minor": 5
}
