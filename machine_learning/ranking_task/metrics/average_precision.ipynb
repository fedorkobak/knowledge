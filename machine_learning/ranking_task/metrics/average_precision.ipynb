{
 "cells": [
  {
   "cell_type": "markdown",
   "id": "32d914cd-49d0-431c-8b9a-17aa8a3e6f65",
   "metadata": {},
   "source": [
    "# AP@k (average precision)\n",
    "\n",
    "This metric is also counted for each object individually. So for $j$-th object it'll take following formula:\n",
    "\n",
    "$$AP_j@k=\\frac{1}{N_j} \\sum_{t=1}^k precision_j@t*r_{tj}$$\n",
    "\n",
    "Where $N_j=\\sum_{i}^k r_{ij}$ - number of relevant items for $j$-th object in $k$ best according to the model.\n",
    "We take $k$ best elements and try to compute $precision@t$ for each $t=\\overline{1,k}$. We add to the numerator only those precisions that correspond to the relevant values - in irrelevant cases $r_{tj}=0$ will remove the corresponding $precision@t$."
   ]
  }
 ],
 "metadata": {
  "kernelspec": {
   "display_name": "Python 3 (ipykernel)",
   "language": "python",
   "name": "python3"
  },
  "language_info": {
   "codemirror_mode": {
    "name": "ipython",
    "version": 3
   },
   "file_extension": ".py",
   "mimetype": "text/x-python",
   "name": "python",
   "nbconvert_exporter": "python",
   "pygments_lexer": "ipython3",
   "version": "3.10.12"
  }
 },
 "nbformat": 4,
 "nbformat_minor": 5
}
