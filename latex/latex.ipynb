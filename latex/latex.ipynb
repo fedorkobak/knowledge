{
 "cells": [
  {
   "cell_type": "markdown",
   "id": "82d63b61-0c63-4c0c-8e14-f0ae4e8ad57d",
   "metadata": {},
   "source": [
    "# Latex"
   ]
  },
  {
   "cell_type": "markdown",
   "id": "3abb95f9-53af-4b6d-b675-1f5ef4450a5e",
   "metadata": {},
   "source": [
    "## Sources\n",
    "\n",
    "You can find some additional information here:\n",
    "\n",
    "- http://tex.imm.uran.ru/tex/2e/lshort2e/node52.html;\n",
    "- https://ido.tsuab.ru/mod/book/view.php?id=62&chapterid=23;\n",
    "- https://ru.overleaf.com/learn/latex/List_of_Greek_letters_and_math_symbols."
   ]
  },
  {
   "cell_type": "markdown",
   "id": "ddd981d2-d9aa-4b16-80c0-879264f52f75",
   "metadata": {},
   "source": [
    "## Comparison\n",
    "\n",
    "`\\leq` - $\\leq$, `\\geq` - $\\geq$, `\\approx` - $\\approx$, `neq` - $\\neq$."
   ]
  },
  {
   "cell_type": "markdown",
   "id": "7497f681-95ff-4ec4-ad7f-136b63795d2a",
   "metadata": {},
   "source": [
    "## Proofs symbols"
   ]
  },
  {
   "cell_type": "markdown",
   "id": "797c18ed-0461-45d9-bf7d-61c1d135011e",
   "metadata": {},
   "source": [
    "`\\forall` - $\\forall$, `\\Leftarrow` - $\\Leftarrow$, `\\Rightarrow` - $\\Rightarrow$, `\\Leftrightarrow` - $\\Leftrightarrow$, `\\boxtimes` - $\\boxtimes$."
   ]
  },
  {
   "cell_type": "markdown",
   "id": "50f35fb1-bb2b-4533-b82a-c62f68dcbdae",
   "metadata": {
    "jp-MarkdownHeadingCollapsed": true
   },
   "source": [
    "## Greek symbols\n",
    "* `\\alpha` - $\\alpha$;\n",
    "* `\\beta` - $\\beta$;\n",
    "* `\\gamma` - $\\gamma$;\n",
    "* `\\pi` - $\\pi$;\n",
    "* `\\phi`, `\\varphi`, `\\Phi` - $\\phi$, $\\varphi$, $\\Phi$;\n",
    "* `\\epsilon`, `\\varepsilon` - $\\epsilon$, $\\varepsilon$;"
   ]
  },
  {
   "cell_type": "markdown",
   "id": "709ea7d1-8c20-4364-b519-814a0b6e8025",
   "metadata": {},
   "source": [
    "## Upper excreta"
   ]
  },
  {
   "cell_type": "markdown",
   "id": "9424eca4-0204-4cee-a29f-eb1ef63488ae",
   "metadata": {},
   "source": [
    "- `\\tilde{ffff}` - $\\tilde{ffff}$, `\\widetilde{ffff}` - $\\widetilde{ffff}$;\n",
    "- `\\hat{ffff}` - $\\hat{ffff}$, `\\widehat{ffff}` - $\\widehat{ffff}$;\n",
    "- `\\bar{ffff}` - $\\bar{ffff}$, `\\overline{ffff}` - $\\overline{ffff}$."
   ]
  },
  {
   "cell_type": "markdown",
   "id": "08cdfa9d-489f-45bd-9a82-4f42ee8bb6e7",
   "metadata": {},
   "source": [
    "## Joining case\n",
    "\n",
    "The following instructions are used to create a parenthesis in `latex`:\n",
    "\n",
    "- `\\begin{cases} <expression>  \\\\end{cases}` - will put `expression` under the bracket;\n",
    "- `\\\\` - to jump to a new line for an expression under a bracket.\n",
    "\n",
    "For example expression:"
   ]
  },
  {
   "cell_type": "markdown",
   "id": "c28d7433-6519-4b4e-804a-aa9cb8e94c86",
   "metadata": {},
   "source": [
    "    $$\\begin{cases}\n",
    "          line1; \\\\\n",
    "          line2.\n",
    "    \\end{cases}$$"
   ]
  },
  {
   "cell_type": "markdown",
   "id": "1a228068-9be5-4fcf-b577-b082d0520609",
   "metadata": {},
   "source": [
    "Will show markdown:\n",
    "\n",
    "$$\\begin{cases}\n",
    "      line1; \\\\\n",
    "      line2.\n",
    "\\end{cases}$$"
   ]
  },
  {
   "cell_type": "markdown",
   "id": "98259f83-1457-4dc3-bd00-c1135b2aad1d",
   "metadata": {},
   "source": [
    "## Expression numbers\n",
    "\n",
    "Using command `\\tag`\n",
    "\n",
    "For example:"
   ]
  },
  {
   "cell_type": "markdown",
   "id": "c0187e55-27b1-4b59-896b-f7c2d785253f",
   "metadata": {},
   "source": [
    "    $$\\frac{\\delta}{\\gamma} \\tag{hello}$$"
   ]
  },
  {
   "cell_type": "markdown",
   "id": "140080d3-9c0e-4066-acbc-4d9c220ea8d7",
   "metadata": {},
   "source": [
    "$$\\frac{\\delta}{\\gamma} \\tag{hello}$$"
   ]
  },
  {
   "cell_type": "markdown",
   "id": "0b182208-a66a-44bb-8aa8-b4b50ff173d1",
   "metadata": {},
   "source": [
    "## To wrap in brackets"
   ]
  },
  {
   "cell_type": "markdown",
   "id": "1e40a37c-e45a-4d7c-a3df-ddf6674f112a",
   "metadata": {},
   "source": [
    "Expression like:\n",
    "\n",
    "    $$[\\frac{\\sum_i^n}{\\prod_i^n}]$$\n",
    "    \n",
    "Will be interpreted like:\n",
    "    \n",
    "$$[\\frac{\\sum_i^n}{\\prod_i^n}]$$\n",
    "\n",
    "The problem is that a square bracket does not completely close the expression it surrounds. To fix this, you need to put the tag `$\\left$` before the opening bracket and `$\\right$` before the closing bracket. That is, the expression:\n",
    "\n",
    "    $$\\left[\\frac{\\sum_i^n}{\\prod_i^n}\\right]$$\n",
    "    \n",
    "Which will be interpreted like this:\n",
    "\n",
    "$$\\left[\\frac{\\sum_i^n}{\\prod_i^n}\\right]$$"
   ]
  },
  {
   "cell_type": "markdown",
   "id": "5a23e5b6-ce54-488a-8964-b82e80698e35",
   "metadata": {},
   "source": [
    "# Matrices\n",
    "\n",
    "To create the matrix, you will need:\n",
    "- Opening and closing brackets `\\left(`, `\\right)`;\n",
    "- The `\\betting{array}` `\\end{array}` instruction will allow you to create table elements inside the bracket.  (*in order to start the wod after opening `\\begin{array}`, you will have to put `\\\\`*);\n",
    "- The `&` symbol is used to move to the next element of the string;\n",
    "- To move to the next line element, the `\\\\` is used;\n",
    "- To fill in the intermediate places between matrix elements, you may need to use multipo dots:\n",
    "    - Horizontal dots `\\cdots` - $\\cdots$;\n",
    "    - Vertical dots `\\vdots` - $\\vdots$;\n",
    "    - Dianal polynomial dots - $\\ddots$:"
   ]
  },
  {
   "cell_type": "markdown",
   "id": "2ed4e572-5263-417b-9603-10056bf2192f",
   "metadata": {},
   "source": [
    "Thus an entry of the form:\n",
    "\n",
    "    $$\\left(\\begin{array} \\\\\n",
    "        a_{11}&a_{12}&\\cdots&a_{1n} \\\\ \n",
    "        a_{21}&a_{22}&\\cdots&a_{2n} \\\\ \n",
    "        \\vdots&\\vdots&\\ddots&\\vdots \\\\\n",
    "        a_{n1}&a_{n2}&\\cdots&a_{nn} \n",
    "    \\end{array}\\right)$$\n",
    "\n",
    "\n",
    "Will allow you to form an expression of the form:\n",
    "\n",
    "$$\\left(\\begin{array} \\\\\n",
    "    a_{11}&a_{12}&\\cdots&a_{1n} \\\\ \n",
    "    a_{21}&a_{22}&\\cdots&a_{2n} \\\\ \n",
    "    \\vdots&\\vdots&\\ddots&\\vdots \\\\\n",
    "    a_{n1}&a_{n2}&\\cdots&a_{nn} \n",
    "\\end{array}\\right)$$"
   ]
  },
  {
   "cell_type": "markdown",
   "id": "d83bf899-fce4-473c-9967-aaca3dcc4a67",
   "metadata": {},
   "source": [
    "## Letters with empty space\n",
    "\n",
    "Usually used to denote moieties. To write a letter in this way, use the command `\\mathbb{...}`.\n",
    "\n",
    "`$$\\mathbb{ABCDEFGHIJKLMNOPQRSTUVWXYZabcdefghijklmnopqrstuvwxyz}$$`- $\\mathbb{ABCDEFGHIJKLMNOPQRSTUVWXYZabcdefghijklmnopqrstuvwxyz}$"
   ]
  }
 ],
 "metadata": {
  "kernelspec": {
   "display_name": "Python 3 (ipykernel)",
   "language": "python",
   "name": "python3"
  },
  "language_info": {
   "codemirror_mode": {
    "name": "ipython",
    "version": 3
   },
   "file_extension": ".py",
   "mimetype": "text/x-python",
   "name": "python",
   "nbconvert_exporter": "python",
   "pygments_lexer": "ipython3",
   "version": "3.10.12"
  }
 },
 "nbformat": 4,
 "nbformat_minor": 5
}
