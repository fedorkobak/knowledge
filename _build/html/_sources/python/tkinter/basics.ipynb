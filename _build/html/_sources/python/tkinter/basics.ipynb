{
 "cells": [
  {
   "cell_type": "markdown",
   "id": "80a78e9c-e4b7-4fde-b57d-1821d07d074d",
   "metadata": {},
   "source": [
    "**Отсновы библиотеки `tkinter`**"
   ]
  },
  {
   "cell_type": "markdown",
   "id": "2b96ca93-fa33-49b6-a1a3-e7239f67e479",
   "metadata": {},
   "source": [
    "# Источники\n",
    "\n",
    "- файл предоставленный на курсах от belhard по программированию на python (см. в тойже папке, в которой лежит этот `.ipynb`);"
   ]
  }
 ],
 "metadata": {
  "kernelspec": {
   "display_name": "Python 3 (ipykernel)",
   "language": "python",
   "name": "python3"
  },
  "language_info": {
   "codemirror_mode": {
    "name": "ipython",
    "version": 3
   },
   "file_extension": ".py",
   "mimetype": "text/x-python",
   "name": "python",
   "nbconvert_exporter": "python",
   "pygments_lexer": "ipython3",
   "version": "3.10.8"
  }
 },
 "nbformat": 4,
 "nbformat_minor": 5
}
