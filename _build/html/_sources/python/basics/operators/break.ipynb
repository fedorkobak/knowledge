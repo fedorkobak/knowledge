{
 "cells": [
  {
   "cell_type": "markdown",
   "id": "70c68e2d-d8cf-4fae-b6ca-dd7c4a461cae",
   "metadata": {},
   "source": [
    "# Leave cycle (break)\n",
    "\n",
    "Lets you exit the cycle."
   ]
  },
  {
   "cell_type": "markdown",
   "id": "938cbbbf-721b-4f6f-be21-6c1636ba3ec4",
   "metadata": {},
   "source": [
    "## Nested loops\n",
    "\n",
    "What will happens if you put cycle incide two cycles? Will it leave both cycles or just the internal one?\n",
    "\n",
    "**It will leave only intertal loop.**\n",
    "\n",
    "So in the following example we will use the `break` operator inside the internal cycle only if we loop to a variable of the internal cycle that is equal to or greater than 2. As a result, we go through all the operations provided by the outer loop, but each interation of the internal loop is ended when the loop variable enriches 2."
   ]
  },
  {
   "cell_type": "code",
   "execution_count": 3,
   "id": "6568ef56-40b9-471f-ad69-c9fcb756f48a",
   "metadata": {},
   "outputs": [
    {
     "name": "stdout",
     "output_type": "stream",
     "text": [
      "external loop 0\n",
      "    internal loop 0\n",
      "    internal loop 1\n",
      "external loop 1\n",
      "    internal loop 0\n",
      "    internal loop 1\n",
      "external loop 2\n",
      "    internal loop 0\n",
      "    internal loop 1\n",
      "external loop 3\n",
      "    internal loop 0\n",
      "    internal loop 1\n"
     ]
    }
   ],
   "source": [
    "for i in range(4):\n",
    "    print(\"external loop\", i)\n",
    "    for j in range(4):\n",
    "        if j >= 2:\n",
    "            break\n",
    "        print(\"    internal loop\", j)"
   ]
  },
  {
   "cell_type": "markdown",
   "id": "aa94307b-d8cc-4f19-a796-9b7d0764c062",
   "metadata": {},
   "source": [
    "**Solution** the best solution for today is to organise a flag that will cause a `break` operator in the external cycle.\n",
    "\n",
    "So in the following example I have added a `flag` that gets a `True` value before exiting the internal loop, and if after exiting the internal loop `flag==True` it will cause exiting the external cycle as well.\n",
    "\n",
    "**No better solution has been found to date.**"
   ]
  },
  {
   "cell_type": "code",
   "execution_count": 1,
   "id": "8c75bb22-8f6f-42e0-ac16-77bc72ffde04",
   "metadata": {},
   "outputs": [
    {
     "name": "stdout",
     "output_type": "stream",
     "text": [
      "external loop 0\n",
      "    internal loop 0\n",
      "    internal loop 1\n"
     ]
    }
   ],
   "source": [
    "for i in range(4):\n",
    "    print(\"external loop\", i)\n",
    "    for j in range(4):\n",
    "        if j >= 2:\n",
    "            flag = True\n",
    "            break\n",
    "        print(\"    internal loop\", j)\n",
    "\n",
    "    if flag: break"
   ]
  }
 ],
 "metadata": {
  "kernelspec": {
   "display_name": "Python 3 (ipykernel)",
   "language": "python",
   "name": "python3"
  },
  "language_info": {
   "codemirror_mode": {
    "name": "ipython",
    "version": 3
   },
   "file_extension": ".py",
   "mimetype": "text/x-python",
   "name": "python",
   "nbconvert_exporter": "python",
   "pygments_lexer": "ipython3",
   "version": "3.10.12"
  }
 },
 "nbformat": 4,
 "nbformat_minor": 5
}
