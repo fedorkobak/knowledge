{
 "cells": [
  {
   "cell_type": "markdown",
   "id": "73cf806d-f6cb-4e34-b4b7-f4e6c54ada34",
   "metadata": {},
   "source": [
    "# Basics"
   ]
  },
  {
   "cell_type": "markdown",
   "id": "7b4e8c62-4c39-4b1a-8a62-43d55e3659ac",
   "metadata": {},
   "source": [
    "Let we have $A$ event and $B$ event.\n",
    "\n",
    "If $A$ and $B$ occur at the same time, we denote it by the intersection of the events $A \\cap B$.\n",
    "\n",
    "If at least one of the events $A$ and $B$ occurs, we denote it as a union of events $A \\cup B$.\n",
    "\n",
    "The probabilities of all events are related by the formula:\n",
    "\n",
    "$$P(A\\cup B)=P(A)+P(B)-P(A \\cap B)$$"
   ]
  },
  {
   "cell_type": "markdown",
   "id": "f5f82a83-61e5-4293-b9c3-066fbe3a68e3",
   "metadata": {},
   "source": [
    "Sometimes it can be confusing that you need to know the probability that events will occur at the same time to calculate the probability that at least one will occur. But think about it more careful - individual probabilities do not contain any information about how often these events occur together, so how often these events occur together must be learnt separately."
   ]
  }
 ],
 "metadata": {
  "kernelspec": {
   "display_name": "Python 3 (ipykernel)",
   "language": "python",
   "name": "python3"
  },
  "language_info": {
   "codemirror_mode": {
    "name": "ipython",
    "version": 3
   },
   "file_extension": ".py",
   "mimetype": "text/x-python",
   "name": "python",
   "nbconvert_exporter": "python",
   "pygments_lexer": "ipython3",
   "version": "3.10.12"
  }
 },
 "nbformat": 4,
 "nbformat_minor": 5
}
