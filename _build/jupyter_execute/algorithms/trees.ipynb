{
 "cells": [
  {
   "cell_type": "markdown",
   "id": "d9e51a26-c584-4a1e-b4d2-98f7905b13e9",
   "metadata": {},
   "source": [
    "# Trees"
   ]
  },
  {
   "cell_type": "markdown",
   "id": "09dcaecd-efa2-47d6-a21e-b96b0169c6d1",
   "metadata": {},
   "source": [
    "Trees are a data structure in which each element can have a descendant that represents an element of the same form."
   ]
  },
  {
   "cell_type": "markdown",
   "id": "342f9a1e-0a7f-4c30-9aef-e976bd9be4b6",
   "metadata": {},
   "source": [
    "In python tree can be defined as following class:"
   ]
  },
  {
   "cell_type": "code",
   "execution_count": 39,
   "id": "24c9e453-c383-4c55-98f0-06f38a0c8b73",
   "metadata": {},
   "outputs": [],
   "source": [
    "import random\n",
    "from IPython.display import HTML\n",
    "from copy import deepcopy\n",
    "\n",
    "class Node:\n",
    "    def __init__(self, val=0, left=None, right=None):\n",
    "        self.val = val\n",
    "        self.left = left\n",
    "        self.right = right"
   ]
  },
  {
   "cell_type": "markdown",
   "id": "dfd34284-d803-4f6e-9603-d31a2c0739bc",
   "metadata": {},
   "source": [
    "Particular realisatoin of the tree example in the cell below:"
   ]
  },
  {
   "cell_type": "code",
   "execution_count": 2,
   "id": "b32d26a1-28fa-4ffd-97ea-5a417ef0fe69",
   "metadata": {},
   "outputs": [],
   "source": [
    "#    [1]\n",
    "#  [2] [3]\n",
    "head = Node(\n",
    "    1,\n",
    "    Node(2),\n",
    "    Node(3)\n",
    ")"
   ]
  },
  {
   "cell_type": "markdown",
   "id": "99c7773f-fc58-491f-bcfc-9152afa13900",
   "metadata": {},
   "source": [
    "Simple tree visualisation function. Interpretation of the result:\n",
    "\n",
    "```\n",
    "[Head node]\n",
    "    [Left_1]\n",
    "        [Left_l2]\n",
    "        [Right_l2]\n",
    "    [Right_1]\n",
    "        [Left_r2]\n",
    "        [Right_r2]\n",
    "```"
   ]
  },
  {
   "cell_type": "code",
   "execution_count": 3,
   "id": "6422bd34-fc97-493f-974d-d3634a989673",
   "metadata": {},
   "outputs": [
    {
     "name": "stdout",
     "output_type": "stream",
     "text": [
      "[1]\n",
      "  [2]\n",
      "    [3]\n",
      "      [ ]\n",
      "      [ ]\n",
      "    [4]\n",
      "      [ ]\n",
      "      [ ]\n",
      "  [5]\n",
      "    [6]\n",
      "      [ ]\n",
      "      [ ]\n",
      "    [7]\n",
      "      [ ]\n",
      "      [ ]\n"
     ]
    }
   ],
   "source": [
    "def print_tree(node, indent=0):\n",
    "    if node is not None:\n",
    "        print(f\"{indent*' '}[{node.val}]\")\n",
    "        print_tree(node.left, indent+2)\n",
    "        print_tree(node.right, indent+2)\n",
    "    else:\n",
    "        print(f\"{indent*' '}[ ]\")\n",
    "\n",
    "head = Node(\n",
    "    1,\n",
    "    Node(\n",
    "        2,\n",
    "        Node(val=3),\n",
    "        Node(val=4)\n",
    "    ),\n",
    "    Node(\n",
    "        5,\n",
    "        Node(val=6),\n",
    "        Node(val=7)\n",
    "    )\n",
    ")\n",
    "print_tree(head)"
   ]
  },
  {
   "cell_type": "markdown",
   "id": "bf5ce970-2a7c-45fc-af2c-115e63194243",
   "metadata": {},
   "source": [
    "Here is funciton that generates random tree:"
   ]
  },
  {
   "cell_type": "code",
   "execution_count": 4,
   "id": "7a24785b-f940-4caf-b310-88f15fb1802e",
   "metadata": {},
   "outputs": [
    {
     "name": "stdout",
     "output_type": "stream",
     "text": [
      "[74]\n",
      "  [62]\n",
      "    [ ]\n",
      "    [63]\n",
      "      [ ]\n",
      "      [ ]\n",
      "  [67]\n",
      "    [ ]\n",
      "    [96]\n",
      "      [ ]\n",
      "      [18]\n",
      "        [ ]\n",
      "        [ ]\n"
     ]
    }
   ],
   "source": [
    "def gen_tree(p_left = 0.5, p_right = 0.5):\n",
    "    '''\n",
    "    Generate tree:\n",
    "\n",
    "    Parameters\n",
    "    ----------\n",
    "    p_left : (float)\n",
    "        probability to the node under consideration \n",
    "        is added node from the left;\n",
    "    p_right : (flaot)\n",
    "        probability to the node udner consideration\n",
    "        is added node from the right side.\n",
    "    '''\n",
    "    return Node(\n",
    "        val = random.randint(1, 100),\n",
    "        left = (\n",
    "            gen_tree(p_left, p_right) \n",
    "            if random.random() < p_left else\n",
    "            None\n",
    "        ),\n",
    "        right = (\n",
    "            gen_tree(p_left, p_right)\n",
    "            if random.random() < p_right else\n",
    "            None\n",
    "        )\n",
    "    )\n",
    "\n",
    "random.seed(10)\n",
    "head = gen_tree(p_left = 0.3, p_right = 0.3)\n",
    "print_tree(head)"
   ]
  },
  {
   "cell_type": "markdown",
   "id": "44749d83-89ea-4c8c-80d6-68c55d65a557",
   "metadata": {},
   "source": [
    "## Inorder\n",
    "\n",
    "Traversal of the tree in order showed in the fllowing cell. \"In order\" means that the leftmost elements of the tree will always be processed first."
   ]
  },
  {
   "cell_type": "markdown",
   "id": "da025385-2f05-4549-9234-90014ab51fec",
   "metadata": {},
   "source": [
    "### Extracting element\n",
    "\n",
    "So here is example that adds elements to a sequential array:"
   ]
  },
  {
   "cell_type": "code",
   "execution_count": 5,
   "id": "7d4e9c8b-c1df-413f-b047-f238dbde4a3c",
   "metadata": {},
   "outputs": [],
   "source": [
    "def inorder(root : Node, res):\n",
    "    if root is not None:\n",
    "        inorder(root.left, res)\n",
    "        res.append(root.val)\n",
    "        inorder(root.right,res)\n",
    "    return res"
   ]
  },
  {
   "cell_type": "markdown",
   "id": "3ae94eab-7fb0-436a-b0cc-d036192e911d",
   "metadata": {},
   "source": [
    "And use of the funtion:"
   ]
  },
  {
   "cell_type": "code",
   "execution_count": 6,
   "id": "6d312af1-6a8d-4a3c-b831-55181467db09",
   "metadata": {},
   "outputs": [
    {
     "name": "stdout",
     "output_type": "stream",
     "text": [
      "[1]\n",
      "  [5]\n",
      "    [7]\n",
      "      [ ]\n",
      "      [ ]\n",
      "    [8]\n",
      "      [ ]\n",
      "      [ ]\n",
      "  [6]\n",
      "    [9]\n",
      "      [ ]\n",
      "      [ ]\n",
      "    [10]\n",
      "      [ ]\n",
      "      [ ]\n"
     ]
    },
    {
     "data": {
      "text/plain": [
       "[7, 5, 8, 1, 9, 6, 10]"
      ]
     },
     "execution_count": 6,
     "metadata": {},
     "output_type": "execute_result"
    }
   ],
   "source": [
    "head = Node(1, \n",
    "    Node(5, Node(7), Node(8)), \n",
    "    Node(6, Node(9), Node(10))\n",
    ")\n",
    "print_tree(head)\n",
    "inorder(head, [])"
   ]
  },
  {
   "cell_type": "markdown",
   "id": "189b9d26-3a61-4596-a9d9-0e853d60ac7f",
   "metadata": {},
   "source": [
    "### Comparison of trees\n",
    "\n",
    "Here is algorithm for trees comparison base on inorder."
   ]
  },
  {
   "cell_type": "code",
   "execution_count": 42,
   "id": "31415bd6-1154-4f8b-ad8f-6c9b77319154",
   "metadata": {},
   "outputs": [],
   "source": [
    "def are_trees_equal(head1, head2):\n",
    "    # here is \n",
    "    if (head1 is None) != (head2 is None):\n",
    "        return False\n",
    "    if (head1 is None):\n",
    "        return True\n",
    "    if head1.val != head2.val:\n",
    "        return False\n",
    "    return all([\n",
    "        are_trees_equal(head1.left, head2.left),\n",
    "        are_trees_equal(head1.right, head2.right)\n",
    "    ])"
   ]
  },
  {
   "cell_type": "markdown",
   "id": "63faaa22-f4f7-4a0a-bb79-7adea5ea664b",
   "metadata": {},
   "source": [
    "In the following cell three trees are created. The first and second are different, but the third is just a copy of the first."
   ]
  },
  {
   "cell_type": "code",
   "execution_count": 40,
   "id": "be121700-418c-4605-8e3a-32a472ccf85e",
   "metadata": {},
   "outputs": [
    {
     "data": {
      "text/html": [
       "<p style='font-size:16px'>Tree 1</p>"
      ],
      "text/plain": [
       "<IPython.core.display.HTML object>"
      ]
     },
     "metadata": {},
     "output_type": "display_data"
    },
    {
     "name": "stdout",
     "output_type": "stream",
     "text": [
      "[74]\n",
      "  [62]\n",
      "    [ ]\n",
      "    [63]\n",
      "      [ ]\n",
      "      [ ]\n",
      "  [67]\n",
      "    [ ]\n",
      "    [96]\n",
      "      [ ]\n",
      "      [18]\n",
      "        [ ]\n",
      "        [ ]\n"
     ]
    },
    {
     "data": {
      "text/html": [
       "<p style='font-size:16px'>Tree 2</p>"
      ],
      "text/plain": [
       "<IPython.core.display.HTML object>"
      ]
     },
     "metadata": {},
     "output_type": "display_data"
    },
    {
     "name": "stdout",
     "output_type": "stream",
     "text": [
      "[37]\n",
      "  [ ]\n",
      "  [23]\n",
      "    [ ]\n",
      "    [ ]\n"
     ]
    },
    {
     "data": {
      "text/html": [
       "<p style='font-size:16px'>Tree 3</p>"
      ],
      "text/plain": [
       "<IPython.core.display.HTML object>"
      ]
     },
     "metadata": {},
     "output_type": "display_data"
    },
    {
     "name": "stdout",
     "output_type": "stream",
     "text": [
      "[74]\n",
      "  [62]\n",
      "    [ ]\n",
      "    [63]\n",
      "      [ ]\n",
      "      [ ]\n",
      "  [67]\n",
      "    [ ]\n",
      "    [96]\n",
      "      [ ]\n",
      "      [18]\n",
      "        [ ]\n",
      "        [ ]\n"
     ]
    }
   ],
   "source": [
    "random.seed(10)\n",
    "tree1 = gen_tree(0.3, 0.3)\n",
    "display(HTML(\"<p style='font-size:16px'>Tree 1</p>\"))\n",
    "print_tree(tree1)\n",
    "\n",
    "tree2 = gen_tree(0.3, 0.3)\n",
    "display(HTML(\"<p style='font-size:16px'>Tree 2</p>\"))\n",
    "print_tree(tree2)\n",
    "\n",
    "tree3 = deepcopy(tree1)\n",
    "display(HTML(\"<p style='font-size:16px'>Tree 3</p>\"))\n",
    "print_tree(tree3)"
   ]
  },
  {
   "cell_type": "markdown",
   "id": "1e11e316-7cd0-4523-b390-f9e27cb30fc3",
   "metadata": {},
   "source": [
    "Here is the result of the application function under consideration."
   ]
  },
  {
   "cell_type": "code",
   "execution_count": 50,
   "id": "14db057a-bc39-4d66-8413-f5333a5d8f0a",
   "metadata": {},
   "outputs": [
    {
     "name": "stdout",
     "output_type": "stream",
     "text": [
      "Tree1==Tree2 - False\n",
      "Tree1==Tree3 - True\n"
     ]
    }
   ],
   "source": [
    "print(\n",
    "    \"Tree1==Tree2 -\", \n",
    "    are_trees_equal(tree1, tree2)\n",
    ")\n",
    "print(\n",
    "    \"Tree1==Tree3 -\",\n",
    "    are_trees_equal(tree1, tree3)\n",
    ")"
   ]
  }
 ],
 "metadata": {
  "kernelspec": {
   "display_name": "Python 3 (ipykernel)",
   "language": "python",
   "name": "python3"
  },
  "language_info": {
   "codemirror_mode": {
    "name": "ipython",
    "version": 3
   },
   "file_extension": ".py",
   "mimetype": "text/x-python",
   "name": "python",
   "nbconvert_exporter": "python",
   "pygments_lexer": "ipython3",
   "version": "3.10.12"
  }
 },
 "nbformat": 4,
 "nbformat_minor": 5
}