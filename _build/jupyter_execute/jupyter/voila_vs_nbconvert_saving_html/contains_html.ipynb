{
 "cells": [
  {
   "cell_type": "markdown",
   "id": "21cde03b-4648-4817-941f-ad359fa2b949",
   "metadata": {},
   "source": [
    "В этом простом notebook содражться несколько latex выражений. Я намереваю сравнить два случая:\n",
    "- Конвернация в html используя nbconvert;\n",
    "- И используя voila с последующим сохраненнием в html.\n",
    "\n",
    "**Цель** - выяснить, как отличаются части html документов, полученных при использовании каждого из подходов, ответсвенные за latex."
   ]
  },
  {
   "cell_type": "markdown",
   "id": "5f375195-358a-4b2a-a0e7-12e49276ee57",
   "metadata": {},
   "source": [
    "$$x_2+3=3232$$"
   ]
  },
  {
   "cell_type": "markdown",
   "id": "f34a10ba-f0aa-406e-9bfc-e7b990b2d147",
   "metadata": {},
   "source": [
    "А это latex внутри markdown с использованием всего одного знака `$` для выделения $\\sqrt{x_2}$."
   ]
  },
  {
   "cell_type": "markdown",
   "id": "21ab7bc8-9328-45c6-b9d0-9e8e21e7e41d",
   "metadata": {},
   "source": [
    "# **NBconvert**\n",
    "\n",
    "Как результат в не слишком продвинух html движках (например базовый viewer jupyter lab) результат получается не очень.\n",
    "\n",
    "`$$x_2+3=3232$$`\n",
    "\n",
    "Ну а `html` разметка для той ячейки где сидит latex, выглядит так.\n",
    "\n",
    "    <div class=\"jp-Cell jp-MarkdownCell jp-Notebook-cell\">\n",
    "    <div class=\"jp-Cell-inputWrapper\">\n",
    "    <div class=\"jp-Collapser jp-InputCollapser jp-Cell-inputCollapser\">\n",
    "    </div>\n",
    "    <div class=\"jp-InputArea jp-Cell-inputArea\"><div class=\"jp-InputPrompt jp-InputArea-prompt\">\n",
    "    </div><div class=\"jp-RenderedHTMLCommon jp-RenderedMarkdown jp-MarkdownOutput \" data-mime-type=\"text/markdown\">\n",
    "    $$x_2+3=3232$$\n",
    "    </div>\n",
    "    </div>\n",
    "    </div>\n",
    "    </div>"
   ]
  },
  {
   "cell_type": "markdown",
   "id": "6dd73cbc-d46b-40c4-ac85-c1d9c55430c0",
   "metadata": {},
   "source": [
    "# Сохранение страницы из voila\n",
    "\n",
    "На любом из известных графических движков выглядит нормально... Соответсвующий html для ячейки.\n",
    "\n",
    "    <div class=\"jp-Cell jp-MarkdownCell jp-Notebook-cell\">\n",
    "    <div class=\"jp-Cell-inputWrapper\">\n",
    "    <div class=\"jp-Collapser jp-InputCollapser jp-Cell-inputCollapser\">\n",
    "    </div>\n",
    "    <div class=\"jp-InputArea jp-Cell-inputArea\"><div class=\"jp-RenderedHTMLCommon jp-RenderedMarkdown jp-MarkdownOutput \" data-mime-type=\"text/markdown\">\n",
    "    <span class=\"MathJax_Preview\" style=\"color: inherit;\"></span><span class=\"mjx-chtml MJXc-display\" style=\"text-align: center;\"><span id=\"MathJax-Element-1-Frame\" class=\"mjx-chtml MathJax_CHTML\" tabindex=\"0\" style=\"font-size: 116%; text-align: center; position: relative;\" data-mathml=\"&lt;math xmlns=&quot;http://www.w3.org/1998/Math/MathML&quot; display=&quot;block&quot;&gt;&lt;msub&gt;&lt;mi&gt;x&lt;/mi&gt;&lt;mn&gt;2&lt;/mn&gt;&lt;/msub&gt;&lt;mo&gt;+&lt;/mo&gt;&lt;mn&gt;3&lt;/mn&gt;&lt;mo&gt;=&lt;/mo&gt;&lt;mn&gt;3232&lt;/mn&gt;&lt;/math&gt;\" role=\"presentation\"><span id=\"MJXc-Node-1\" class=\"mjx-math\" aria-hidden=\"true\"><span id=\"MJXc-Node-2\" class=\"mjx-mrow\"><span id=\"MJXc-Node-3\" class=\"mjx-msubsup\"><span class=\"mjx-base\"><span id=\"MJXc-Node-4\" class=\"mjx-mi\"><span class=\"mjx-char MJXc-TeX-math-I\" style=\"padding-top: 0.249em; padding-bottom: 0.311em;\">x</span></span></span><span class=\"mjx-sub\" style=\"font-size: 70.7%; vertical-align: -0.212em; padding-right: 0.071em;\"><span id=\"MJXc-Node-5\" class=\"mjx-mn\" style=\"\"><span class=\"mjx-char MJXc-TeX-main-R\" style=\"padding-top: 0.373em; padding-bottom: 0.373em;\">2</span></span></span></span><span id=\"MJXc-Node-6\" class=\"mjx-mo MJXc-space2\"><span class=\"mjx-char MJXc-TeX-main-R\" style=\"padding-top: 0.311em; padding-bottom: 0.434em;\">+</span></span><span id=\"MJXc-Node-7\" class=\"mjx-mn MJXc-space2\"><span class=\"mjx-char MJXc-TeX-main-R\" style=\"padding-top: 0.373em; padding-bottom: 0.373em;\">3</span></span><span id=\"MJXc-Node-8\" class=\"mjx-mo MJXc-space3\"><span class=\"mjx-char MJXc-TeX-main-R\" style=\"padding-top: 0.065em; padding-bottom: 0.311em;\">=</span></span><span id=\"MJXc-Node-9\" class=\"mjx-mn MJXc-space3\"><span class=\"mjx-char MJXc-TeX-main-R\" style=\"padding-top: 0.373em; padding-bottom: 0.373em;\">3232</span></span></span></span><span class=\"MJX_Assistive_MathML MJX_Assistive_MathML_Block\" role=\"presentation\"><math xmlns=\"http://www.w3.org/1998/Math/MathML\" display=\"block\"><msub><mi>x</mi><mn>2</mn></msub><mo>+</mo><mn>3</mn><mo>=</mo><mn>3232</mn></math></span></span></span><script type=\"math/tex; mode=display\" id=\"MathJax-Element-1\">x_2+3=3232</script>\n",
    "    </div>\n",
    "    </div>\n",
    "    </div>\n",
    "    </div>\n",
    "    \n",
    "Понятное дело html полученный из voila выглядит значительно солиднее."
   ]
  }
 ],
 "metadata": {
  "kernelspec": {
   "display_name": "Python 3 (ipykernel)",
   "language": "python",
   "name": "python3"
  },
  "language_info": {
   "codemirror_mode": {
    "name": "ipython",
    "version": 3
   },
   "file_extension": ".py",
   "mimetype": "text/x-python",
   "name": "python",
   "nbconvert_exporter": "python",
   "pygments_lexer": "ipython3",
   "version": "3.10.9"
  }
 },
 "nbformat": 4,
 "nbformat_minor": 5
}