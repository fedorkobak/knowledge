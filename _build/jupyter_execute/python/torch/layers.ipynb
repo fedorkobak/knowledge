{
 "cells": [
  {
   "cell_type": "markdown",
   "id": "67beb034-0408-4f3e-ae5f-b9d134adba64",
   "metadata": {},
   "source": [
    "# Layers\n",
    "\n",
    "Layer in torch is some transformation with some inputs and some outputs."
   ]
  },
  {
   "cell_type": "code",
   "execution_count": 2,
   "id": "0fcbd104-4e79-406c-99b9-d6e2979b2d27",
   "metadata": {},
   "outputs": [],
   "source": [
    "import torch\n",
    "from torch import nn"
   ]
  },
  {
   "cell_type": "markdown",
   "id": "c85e4a60-103f-4cf2-a6e6-32ac1dc99c10",
   "metadata": {},
   "source": [
    "To perform a layer transformation on the tensor `X`, simply use the syntax `layer(X)`."
   ]
  },
  {
   "cell_type": "markdown",
   "id": "7f6bd924-b58f-459c-a344-793248e069c9",
   "metadata": {},
   "source": [
    "## Linear"
   ]
  },
  {
   "cell_type": "markdown",
   "id": "6a22a9c3-620a-4e09-82be-0363292487de",
   "metadata": {},
   "source": [
    "### Description\n",
    "\n",
    "`torch.nn.linear` simply performs operation:\n",
    "\n",
    "$$X_{n\\times l}\\omega_{l\\times k} + b_k$$\n",
    "\n",
    "Where:\n",
    "\n",
    "- $l$ - number of inputs;\n",
    "- $k$ - number of outputs;\n",
    "- $n$ - number of input objects to transform;\n",
    "- $X_{n\\times l}$ - tensor of data for transformation;\n",
    "- $\\omega_{l\\times k}$ - weights of this layer;\n",
    "- $b_k$ - bias of this layer.\n",
    "\n",
    "The following cell applies the tensor to some data and performs the same transformation by hand - the results are the same."
   ]
  },
  {
   "cell_type": "code",
   "execution_count": 19,
   "id": "90385899-ed31-4bd7-8601-d5ef8f966acd",
   "metadata": {},
   "outputs": [
    {
     "name": "stdout",
     "output_type": "stream",
     "text": [
      "Layer transformation\n",
      "[0.21258635818958282, -0.4820197522640228, -0.04028485715389252]\n",
      "X@w+b\n",
      "[0.21258635818958282, -0.4820197522640228, -0.04028485715389252]\n"
     ]
    }
   ],
   "source": [
    "in_features = 5\n",
    "out_features = 3\n",
    "\n",
    "linear = nn.Linear(\n",
    "    in_features = in_features, \n",
    "    out_features = out_features\n",
    ")\n",
    "\n",
    "X = torch.rand(in_features)\n",
    "\n",
    "print(\"Layer transformation\")\n",
    "print(linear(X).tolist())\n",
    "print(\"X@w+b\")\n",
    "print((linear.weight@X + linear.bias).tolist())"
   ]
  }
 ],
 "metadata": {
  "kernelspec": {
   "display_name": "Python 3 (ipykernel)",
   "language": "python",
   "name": "python3"
  },
  "language_info": {
   "codemirror_mode": {
    "name": "ipython",
    "version": 3
   },
   "file_extension": ".py",
   "mimetype": "text/x-python",
   "name": "python",
   "nbconvert_exporter": "python",
   "pygments_lexer": "ipython3",
   "version": "3.10.12"
  }
 },
 "nbformat": 4,
 "nbformat_minor": 5
}