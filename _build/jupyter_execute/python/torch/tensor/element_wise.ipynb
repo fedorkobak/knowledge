{
 "cells": [
  {
   "cell_type": "markdown",
   "id": "cc26b3d2-cf93-4cc5-8f1f-d8542481a923",
   "metadata": {},
   "source": [
    "# Element-wise operations\n",
    "\n",
    "If you have a tensor with dimension $(n_1,n_2,...,n_k, ...,n_m)$ and you want to perform some operation on dimension $k$. You need to create a tensor with dimension $(n_k, 1, 1, ..., 1) \\in \\mathbb{N}^k$. Then you can just use basic algebraic operations."
   ]
  },
  {
   "cell_type": "code",
   "execution_count": 1,
   "id": "e4b4760f-4d14-43ea-8d57-f8dd072c70e9",
   "metadata": {},
   "outputs": [],
   "source": [
    "import torch\n",
    "import numpy as np"
   ]
  },
  {
   "cell_type": "markdown",
   "id": "4f242c67-d526-4cba-810d-73d54e779e6e",
   "metadata": {},
   "source": [
    "## Two-dimensional example\n",
    "\n",
    "Suppose you need to add a zero tensor to an array containing two numbers. So in the following cells the tensors `a` and `b` are created, which we will use for example:"
   ]
  },
  {
   "cell_type": "code",
   "execution_count": 29,
   "id": "1d02debe-b8d3-4ebe-b89c-782dbe8b806d",
   "metadata": {},
   "outputs": [
    {
     "name": "stdout",
     "output_type": "stream",
     "text": [
      "Tensor a\n",
      "tensor([[0., 0., 0.],\n",
      "        [0., 0., 0.]])\n",
      "shape -  [2, 3]\n",
      "\n",
      "\n",
      "Tensor b\n",
      "tensor([2, 3])\n",
      "shape -  [2]\n"
     ]
    }
   ],
   "source": [
    "np.random.seed(10)\n",
    "\n",
    "a = torch.zeros((2, 3))\n",
    "b = torch.tensor([2,3])\n",
    "\n",
    "\n",
    "print(\"Tensor a\")\n",
    "print(a)\n",
    "print(\"shape - \", list(a.shape), end = \"\\n\\n\\n\")\n",
    "\n",
    "\n",
    "print(\"Tensor b\")\n",
    "print(b)\n",
    "print(\"shape - \", list(b.shape))"
   ]
  },
  {
   "cell_type": "markdown",
   "id": "99627d17-15c9-4156-9c07-4a53c39533f4",
   "metadata": {},
   "source": [
    "The added tensor must be converted so that $n_1=m_1$. \n",
    "\n",
    "Where :\n",
    "- $n_i$ - zeros tensor $i-th$ dimention size;\n",
    "- $m_i$ - addimg tensor $i-th$ dimetion size.\n",
    "\n",
    "So in the following example we will use `unsqueeze` for this purpose."
   ]
  },
  {
   "cell_type": "code",
   "execution_count": 27,
   "id": "d2e870a0-974e-4671-8717-64ab25711931",
   "metadata": {},
   "outputs": [
    {
     "name": "stdout",
     "output_type": "stream",
     "text": [
      "tensor([[2],\n",
      "        [3]])\n",
      "shape -  [2, 1]\n"
     ]
    }
   ],
   "source": [
    "b_unsqueezed = b.unsqueeze(1)\n",
    "print(b_unsqueezed)\n",
    "print(\"shape - \", list(b_unsqueezed.shape))"
   ]
  },
  {
   "cell_type": "markdown",
   "id": "51c9d06f-273a-46c9-a0a0-bee6302ec83d",
   "metadata": {},
   "source": [
    "And finally result of sum. Essentially we just added the corresponding values of array `b` to each element in the row of array `a`:"
   ]
  },
  {
   "cell_type": "code",
   "execution_count": 32,
   "id": "26c31cf3-cf41-4822-b798-7e89ab306507",
   "metadata": {},
   "outputs": [
    {
     "data": {
      "text/plain": [
       "tensor([[2., 2., 2.],\n",
       "        [3., 3., 3.]])"
      ]
     },
     "execution_count": 32,
     "metadata": {},
     "output_type": "execute_result"
    }
   ],
   "source": [
    "a + b_unsqueezed"
   ]
  },
  {
   "cell_type": "markdown",
   "id": "8446ab55-efd8-4b81-936b-eb48c609e35b",
   "metadata": {},
   "source": [
    "## Arbitrary dimention example\n",
    "\n",
    "This shows how to add a tensor of any dimension to another tensor along the selected axis. The following cell creates the tensors we'll use as an example:"
   ]
  },
  {
   "cell_type": "code",
   "execution_count": 34,
   "id": "9380895d-1b6d-4f2e-b9ab-4e31ec9fa671",
   "metadata": {},
   "outputs": [
    {
     "name": "stdout",
     "output_type": "stream",
     "text": [
      "Tensor a\n",
      "tensor([[[[0., 0., 0.],\n",
      "          [0., 0., 0.],\n",
      "          [0., 0., 0.]],\n",
      "\n",
      "         [[0., 0., 0.],\n",
      "          [0., 0., 0.],\n",
      "          [0., 0., 0.]]],\n",
      "\n",
      "\n",
      "        [[[0., 0., 0.],\n",
      "          [0., 0., 0.],\n",
      "          [0., 0., 0.]],\n",
      "\n",
      "         [[0., 0., 0.],\n",
      "          [0., 0., 0.],\n",
      "          [0., 0., 0.]]],\n",
      "\n",
      "\n",
      "        [[[0., 0., 0.],\n",
      "          [0., 0., 0.],\n",
      "          [0., 0., 0.]],\n",
      "\n",
      "         [[0., 0., 0.],\n",
      "          [0., 0., 0.],\n",
      "          [0., 0., 0.]]]])\n",
      "shape -  [3, 2, 3, 3]\n",
      "\n",
      "\n",
      "Tensor b\n",
      "tensor([2, 3])\n",
      "shape -  [2]\n"
     ]
    }
   ],
   "source": [
    "np.random.seed(10)\n",
    "\n",
    "a = torch.zeros((3, 2, 3, 3))\n",
    "b = torch.tensor([2,3])\n",
    "print(\"Tensor a\")\n",
    "print(a)\n",
    "print(\"shape - \", list(a.shape), end = \"\\n\\n\\n\")\n",
    "\n",
    "print(\"Tensor b\")\n",
    "print(b)Transformation of the adding tensor to the power sum:\n",
    "print(\"shape - \", list(b.shape))"
   ]
  },
  {
   "cell_type": "markdown",
   "id": "da92c378-9b42-42ec-908f-9100bea18df6",
   "metadata": {},
   "source": [
    "Transformation of adding tensor to pefrorm sum:"
   ]
  },
  {
   "cell_type": "code",
   "execution_count": 36,
   "id": "15aa05a8-d20f-4491-823b-e77bb6cacb9f",
   "metadata": {},
   "outputs": [
    {
     "name": "stdout",
     "output_type": "stream",
     "text": [
      "tensor\n",
      "tensor([[[2]],\n",
      "\n",
      "        [[3]]])\n",
      "shape -  [2, 1, 1]\n"
     ]
    }
   ],
   "source": [
    "b_unsqueezed = b.unsqueeze(1).unsqueeze(1)\n",
    "print(\"tensor\")\n",
    "print(b_unsqueezed)\n",
    "print(\"shape - \", list(b_unsqueezed.shape))"
   ]
  },
  {
   "cell_type": "markdown",
   "id": "5c094d79-6882-4404-9f96-2607f34bcd28",
   "metadata": {},
   "source": [
    "And finally do the sum. So for each $i-th; i \\in \\overline{1,n_k}$ within the tensor with dimension $(n_{k+1},...,n_{m})$ the $i-th$ number from the adding tensor is added. "
   ]
  },
  {
   "cell_type": "code",
   "execution_count": 137,
   "id": "307350e1-1cbd-40e7-a9fe-12a41df02f43",
   "metadata": {},
   "outputs": [
    {
     "data": {
      "text/plain": [
       "tensor([[[[2., 2., 2.],\n",
       "          [2., 2., 2.],\n",
       "          [2., 2., 2.]],\n",
       "\n",
       "         [[3., 3., 3.],\n",
       "          [3., 3., 3.],\n",
       "          [3., 3., 3.]]],\n",
       "\n",
       "\n",
       "        [[[2., 2., 2.],\n",
       "          [2., 2., 2.],\n",
       "          [2., 2., 2.]],\n",
       "\n",
       "         [[3., 3., 3.],\n",
       "          [3., 3., 3.],\n",
       "          [3., 3., 3.]]],\n",
       "\n",
       "\n",
       "        [[[2., 2., 2.],\n",
       "          [2., 2., 2.],\n",
       "          [2., 2., 2.]],\n",
       "\n",
       "         [[3., 3., 3.],\n",
       "          [3., 3., 3.],\n",
       "          [3., 3., 3.]]]])"
      ]
     },
     "execution_count": 137,
     "metadata": {},
     "output_type": "execute_result"
    }
   ],
   "source": [
    "a+b_unsqueezed"
   ]
  }
 ],
 "metadata": {
  "kernelspec": {
   "display_name": "Python 3 (ipykernel)",
   "language": "python",
   "name": "python3"
  },
  "language_info": {
   "codemirror_mode": {
    "name": "ipython",
    "version": 3
   },
   "file_extension": ".py",
   "mimetype": "text/x-python",
   "name": "python",
   "nbconvert_exporter": "python",
   "pygments_lexer": "ipython3",
   "version": "3.10.12"
  }
 },
 "nbformat": 4,
 "nbformat_minor": 5
}