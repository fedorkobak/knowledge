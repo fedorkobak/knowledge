{
 "cells": [
  {
   "cell_type": "markdown",
   "id": "08e9b917-6ed6-4baa-a196-e237e7d8ae3e",
   "metadata": {},
   "source": [
    "# Pathlib\n",
    "\n",
    "Pathlib is a special library built into Python that makes it easier to work with paths in Python. This page is focused on usage of this library."
   ]
  },
  {
   "cell_type": "markdown",
   "id": "3581fe4e-89e7-410d-afd0-01c79c2e0cb9",
   "metadata": {},
   "source": [
    "## `Path` class\n",
    "\n",
    "You should pass your folder path to the constructor, and you'll get an instance that encapsulates the path behaviour.\n",
    "\n",
    "You can:\n",
    "\n",
    "- Get the path to the parent folder using the `parent` field;\n",
    "- Get path to child folder with syntax `<pathlib.Path instance> / <name of child folder>` (just use division operator).\n",
    "\n",
    "All these features are shown below:"
   ]
  },
  {
   "cell_type": "code",
   "execution_count": 22,
   "id": "2355a4f9-fff4-47ef-b3a1-c2faee8c860e",
   "metadata": {},
   "outputs": [
    {
     "name": "stdout",
     "output_type": "stream",
     "text": [
      "Original path:  /home/fedor/Documents/knowledge/python/basics/paths_settings\n",
      "Parent path:  /home/fedor/Documents/knowledge/python/basics\n",
      "Using '/' operator:  /home/fedor/Documents/knowledge/python/basics/paths_settings/folder/file\n"
     ]
    }
   ],
   "source": [
    "from pathlib import Path\n",
    "my_path = Path(os.getcwd())\n",
    "\n",
    "print(\"Original path: \", my_path)\n",
    "print(\"Parent path: \", my_path.parent)\n",
    "print(\"Using '/' operator: \", my_path/\"folder\"/\"file\")"
   ]
  }
 ],
 "metadata": {
  "kernelspec": {
   "display_name": "Python 3 (ipykernel)",
   "language": "python",
   "name": "python3"
  },
  "language_info": {
   "codemirror_mode": {
    "name": "ipython",
    "version": 3
   },
   "file_extension": ".py",
   "mimetype": "text/x-python",
   "name": "python",
   "nbconvert_exporter": "python",
   "pygments_lexer": "ipython3",
   "version": "3.10.6"
  }
 },
 "nbformat": 4,
 "nbformat_minor": 5
}