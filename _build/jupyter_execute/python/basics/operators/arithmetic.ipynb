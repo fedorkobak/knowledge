{
 "cells": [
  {
   "cell_type": "markdown",
   "id": "3164be6f-94fc-4529-a858-2b5ee88367fa",
   "metadata": {},
   "source": [
    "# Arithmetic"
   ]
  },
  {
   "cell_type": "markdown",
   "id": "0879f480-d740-4c14-ab51-536fa788e3c2",
   "metadata": {},
   "source": [
    "## `/` - division operator"
   ]
  },
  {
   "cell_type": "markdown",
   "id": "6b62c48b-360a-49e6-b3fb-dc081ac3c293",
   "metadata": {},
   "source": [
    "It always returns the data type `float`, even if the result can be interpreted as `int`."
   ]
  },
  {
   "cell_type": "code",
   "execution_count": 9,
   "id": "d4325057-1746-4974-8561-7bb18784db36",
   "metadata": {},
   "outputs": [
    {
     "data": {
      "text/plain": [
       "float"
      ]
     },
     "execution_count": 9,
     "metadata": {},
     "output_type": "execute_result"
    }
   ],
   "source": [
    "type(4/2)"
   ]
  },
  {
   "cell_type": "markdown",
   "id": "249115be-535a-40cc-abed-f61a704011b6",
   "metadata": {},
   "source": [
    "## `//` - integer division"
   ]
  },
  {
   "cell_type": "markdown",
   "id": "013216b9-e382-4a08-862b-d03ef0519760",
   "metadata": {},
   "source": [
    "This operator simply divides the operands and returns the result without the floating point part."
   ]
  },
  {
   "cell_type": "code",
   "execution_count": 1,
   "id": "690beed3-8d85-47a5-8dac-547ad65ae6f4",
   "metadata": {},
   "outputs": [
    {
     "data": {
      "text/plain": [
       "2"
      ]
     },
     "execution_count": 1,
     "metadata": {},
     "output_type": "execute_result"
    }
   ],
   "source": [
    "5//2"
   ]
  },
  {
   "cell_type": "markdown",
   "id": "7af46409-6a60-46cd-b348-07698b657f2c",
   "metadata": {},
   "source": [
    "Unlike regular division, it always returns `int` data type."
   ]
  },
  {
   "cell_type": "code",
   "execution_count": 8,
   "id": "df5e478d-39ff-4dbc-80bd-f2243b7c3bab",
   "metadata": {},
   "outputs": [
    {
     "data": {
      "text/plain": [
       "int"
      ]
     },
     "execution_count": 8,
     "metadata": {},
     "output_type": "execute_result"
    }
   ],
   "source": [
    "print(type(6/2))\n",
    "print(type(6//2))"
   ]
  },
  {
   "cell_type": "markdown",
   "id": "65af4a36-5c86-4219-b513-e99f35672021",
   "metadata": {},
   "source": [
    "**Note** that the rounding is always on the lower side. So if we apply this operator to the negative number, we get the lower number that is the result of the even division."
   ]
  },
  {
   "cell_type": "code",
   "execution_count": 2,
   "id": "f00d2490-79d4-4df7-aa59-f5ed22484ffd",
   "metadata": {},
   "outputs": [
    {
     "data": {
      "text/plain": [
       "-3"
      ]
     },
     "execution_count": 2,
     "metadata": {},
     "output_type": "execute_result"
    }
   ],
   "source": [
    "-5//2"
   ]
  }
 ],
 "metadata": {
  "kernelspec": {
   "display_name": "Python 3 (ipykernel)",
   "language": "python",
   "name": "python3"
  },
  "language_info": {
   "codemirror_mode": {
    "name": "ipython",
    "version": 3
   },
   "file_extension": ".py",
   "mimetype": "text/x-python",
   "name": "python",
   "nbconvert_exporter": "python",
   "pygments_lexer": "ipython3",
   "version": "3.10.12"
  }
 },
 "nbformat": 4,
 "nbformat_minor": 5
}