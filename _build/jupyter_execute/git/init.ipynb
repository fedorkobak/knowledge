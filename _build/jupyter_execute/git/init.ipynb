{
 "cells": [
  {
   "cell_type": "markdown",
   "id": "3ffae7c5-d9df-4754-b9b8-c7733aeb13a9",
   "metadata": {},
   "source": [
    "# Init repository\n",
    "\n",
    "This page is about how to initialise a git repository in a folder.\n",
    "\n",
    "You should use the `git init` command to create a new git repository. It will just add a `.git' folder to the folder you're init as the git repository - this folder is a marker for git that this is the git repository.\n",
    "\n",
    "In the following example I just\n",
    "- Create a new folder;\n",
    "- Run `git init` there;\n",
    "- Show that `.git` folder appears there."
   ]
  },
  {
   "cell_type": "code",
   "execution_count": 3,
   "id": "5bb9464e-82dd-4e44-936d-17d2aa27cefe",
   "metadata": {},
   "outputs": [
    {
     "name": "stdout",
     "output_type": "stream",
     "text": [
      "=====new folder is empty=====\n",
      ".\n",
      "..\n",
      "=====creating git repo=====\n"
     ]
    },
    {
     "name": "stderr",
     "output_type": "stream",
     "text": [
      "hint: Using 'master' as the name for the initial branch. This default branch name\n",
      "hint: is subject to change. To configure the initial branch name to use in all\n",
      "hint: of your new repositories, which will suppress this warning, call:\n",
      "hint: \n",
      "hint: \tgit config --global init.defaultBranch <name>\n",
      "hint: \n",
      "hint: Names commonly chosen instead of 'master' are 'main', 'trunk' and\n",
      "hint: 'development'. The just-created branch can be renamed via this command:\n",
      "hint: \n",
      "hint: \tgit branch -m <name>\n"
     ]
    },
    {
     "name": "stdout",
     "output_type": "stream",
     "text": [
      "Initialized empty Git repository in /home/fedor/Documents/knowledge/git/git_init/.git/\n",
      "=====check what appears in git repo=====\n",
      ".\n",
      "..\n",
      ".git\n"
     ]
    }
   ],
   "source": [
    "%%bash\n",
    "mkdir git_init\n",
    "cd git_init\n",
    "\n",
    "echo \"=====new folder is empty=====\"\n",
    "ls -a\n",
    "\n",
    "echo \"=====creating git repo=====\"\n",
    "git init\n",
    "echo \"=====check what appears in git repo=====\"\n",
    "ls -a\n",
    "\n",
    "cd ..\n",
    "rm -r git_init"
   ]
  }
 ],
 "metadata": {
  "kernelspec": {
   "display_name": "Python 3 (ipykernel)",
   "language": "python",
   "name": "python3"
  },
  "language_info": {
   "codemirror_mode": {
    "name": "ipython",
    "version": 3
   },
   "file_extension": ".py",
   "mimetype": "text/x-python",
   "name": "python",
   "nbconvert_exporter": "python",
   "pygments_lexer": "ipython3",
   "version": "3.10.6"
  }
 },
 "nbformat": 4,
 "nbformat_minor": 5
}