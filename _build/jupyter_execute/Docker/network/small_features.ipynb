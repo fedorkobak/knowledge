{
 "cells": [
  {
   "cell_type": "markdown",
   "id": "82d5b7f8-d17a-4cf0-aa98-5a02b99861c2",
   "metadata": {},
   "source": [
    "# Small features\n",
    "\n",
    "In this page I store topics related to the Docker networks that are too small to have their own page."
   ]
  },
  {
   "cell_type": "markdown",
   "id": "e3a558ca-7cfe-4c02-8958-aebb60817284",
   "metadata": {},
   "source": [
    "## `ls` list networks "
   ]
  },
  {
   "cell_type": "code",
   "execution_count": 1,
   "id": "eb91ac09-5217-43ed-8012-c09b47467608",
   "metadata": {},
   "outputs": [
    {
     "name": "stdout",
     "output_type": "stream",
     "text": [
      "NETWORK ID     NAME      DRIVER    SCOPE\n",
      "4b609bad1d6c   bridge    bridge    local\n",
      "80c3e6772c8c   host      host      local\n",
      "45bb103d970f   none      null      local\n"
     ]
    }
   ],
   "source": [
    "!docker network ls"
   ]
  },
  {
   "cell_type": "markdown",
   "id": "7f8e85e4-6d70-4cff-8b23-0ac6e0e001af",
   "metadata": {},
   "source": [
    "## Name of network\n",
    "\n",
    "If you need for some container to get network this container connected to, you need you command like this:\n",
    "\n",
    "`docker inspect -f '{{range $key, $value := .NetworkSettings.Networks}}{{$key}} {{end}}' <container name>`\n",
    "\n",
    "I don't really understand how it works yet. But the following cell shows that it's working - by default every container is connected to the bridge network, so for just created container this command returns `bridge`."
   ]
  },
  {
   "cell_type": "code",
   "execution_count": 8,
   "id": "d2850152-6819-4c16-a79d-d19664a5bac5",
   "metadata": {},
   "outputs": [
    {
     "name": "stdout",
     "output_type": "stream",
     "text": [
      "bridge \n"
     ]
    }
   ],
   "source": [
    "%%bash\n",
    "docker run --rm -itd --name just_net ubuntu &> /dev/null\n",
    "docker inspect \\\n",
    "    -f '{{range $key, $value := .NetworkSettings.Networks}}{{$key}} {{end}}' \\\n",
    "    just_net\n",
    "docker stop just_net &> /dev/null"
   ]
  }
 ],
 "metadata": {
  "kernelspec": {
   "display_name": "Python 3 (ipykernel)",
   "language": "python",
   "name": "python3"
  },
  "language_info": {
   "codemirror_mode": {
    "name": "ipython",
    "version": 3
   },
   "file_extension": ".py",
   "mimetype": "text/x-python",
   "name": "python",
   "nbconvert_exporter": "python",
   "pygments_lexer": "ipython3",
   "version": "3.10.12"
  }
 },
 "nbformat": 4,
 "nbformat_minor": 5
}