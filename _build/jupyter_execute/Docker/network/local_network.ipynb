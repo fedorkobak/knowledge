{
 "cells": [
  {
   "cell_type": "markdown",
   "id": "4b2b63fa-63f9-4288-9b9b-c6630941c91f",
   "metadata": {},
   "source": [
    "# Local network\n",
    "\n",
    "It's very interesting that you can access the containers you've created from other devices on your local network. It may not be associated with Docker exactly, but with networks in general, but still I am only familiar with the Throw Docker feature."
   ]
  },
  {
   "cell_type": "markdown",
   "id": "e4100c6b-3e4f-4cea-8d40-aa957665e4b9",
   "metadata": {},
   "source": [
    "So we start a container with nginx on port 80 on host."
   ]
  },
  {
   "cell_type": "code",
   "execution_count": 1,
   "id": "5e745c2b-c221-4842-997e-2d38d99d6724",
   "metadata": {},
   "outputs": [
    {
     "name": "stdout",
     "output_type": "stream",
     "text": [
      "4a4a152a0d163ff988b14cc27953c435cd3acdc1328d941d40acbc9b4a4f2122\n"
     ]
    }
   ],
   "source": [
    "%%bash\n",
    "docker run --rm -itd --name test_nginx -p 80:80 nginx"
   ]
  },
  {
   "cell_type": "markdown",
   "id": "5dcc52c7-a526-4e00-a243-bc5c52bd455a",
   "metadata": {},
   "source": [
    "Using the `ifconfig` Linux utility, I can check some information about the network. The most interesting part is the section starting with `w`. In the line `inet <ip>` you can find your ip address in the wifi network.\n",
    "\n",
    "**Note** in your run ip can be different."
   ]
  },
  {
   "cell_type": "code",
   "execution_count": 2,
   "id": "ce7a3f42-1b4b-4506-8b8c-e55317ae6287",
   "metadata": {},
   "outputs": [
    {
     "name": "stdout",
     "output_type": "stream",
     "text": [
      "docker0: flags=4163<UP,BROADCAST,RUNNING,MULTICAST>  mtu 1500\n",
      "        inet 172.17.0.1  netmask 255.255.0.0  broadcast 172.17.255.255\n",
      "        inet6 fe80::42:e8ff:fefa:8cee  prefixlen 64  scopeid 0x20<link>\n",
      "        ether 02:42:e8:fa:8c:ee  txqueuelen 0  (Ethernet)\n",
      "        RX packets 29  bytes 5741 (5.7 KB)\n",
      "        RX errors 0  dropped 0  overruns 0  frame 0\n",
      "        TX packets 87  bytes 12097 (12.0 KB)\n",
      "        TX errors 0  dropped 0 overruns 0  carrier 0  collisions 0\n",
      "\n",
      "lo: flags=73<UP,LOOPBACK,RUNNING>  mtu 65536\n",
      "        inet 127.0.0.1  netmask 255.0.0.0\n",
      "        inet6 ::1  prefixlen 128  scopeid 0x10<host>\n",
      "        loop  txqueuelen 1000  (Local Loopback)\n",
      "        RX packets 31340  bytes 9448607 (9.4 MB)\n",
      "        RX errors 0  dropped 0  overruns 0  frame 0\n",
      "        TX packets 31340  bytes 9448607 (9.4 MB)\n",
      "        TX errors 0  dropped 0 overruns 0  carrier 0  collisions 0\n",
      "\n",
      "vethd50493c: flags=4163<UP,BROADCAST,RUNNING,MULTICAST>  mtu 1500\n",
      "        inet6 fe80::9c62:edff:fe27:8803  prefixlen 64  scopeid 0x20<link>\n",
      "        ether 9e:62:ed:27:88:03  txqueuelen 0  (Ethernet)\n",
      "        RX packets 0  bytes 0 (0.0 B)\n",
      "        RX errors 0  dropped 0  overruns 0  frame 0\n",
      "        TX packets 26  bytes 5168 (5.1 KB)\n",
      "        TX errors 0  dropped 0 overruns 0  carrier 0  collisions 0\n",
      "\n",
      "wlp0s20f3: flags=4163<UP,BROADCAST,RUNNING,MULTICAST>  mtu 1500\n",
      "        inet 192.168.100.10  netmask 255.255.255.0  broadcast 192.168.100.255\n",
      "        inet6 fe80::735b:b9a:6447:646d  prefixlen 64  scopeid 0x20<link>\n",
      "        ether dc:41:a9:2e:4c:6c  txqueuelen 1000  (Ethernet)\n",
      "        RX packets 283983  bytes 382835053 (382.8 MB)\n",
      "        RX errors 0  dropped 0  overruns 0  frame 0\n",
      "        TX packets 46994  bytes 11436293 (11.4 MB)\n",
      "        TX errors 0  dropped 0 overruns 0  carrier 0  collisions 0\n",
      "\n"
     ]
    }
   ],
   "source": [
    "%%bash\n",
    "ifconfig"
   ]
  },
  {
   "cell_type": "markdown",
   "id": "ada4ee17-6efd-45a9-b7db-02e81060b20d",
   "metadata": {},
   "source": [
    "You can connect any other device to this network and you'll find that when you enter a higher ip you'll get a nginx \"welcome\" page.\n",
    "\n",
    "<img src=\"local_network_files/phone_nginx.jpg\">"
   ]
  },
  {
   "cell_type": "code",
   "execution_count": 3,
   "id": "35668076-eb32-4b6c-8e5c-c8d9ae5b5c06",
   "metadata": {},
   "outputs": [],
   "source": [
    "%%bash\n",
    "docker stop test_nginx &> /dev/null"
   ]
  }
 ],
 "metadata": {
  "kernelspec": {
   "display_name": "Python 3 (ipykernel)",
   "language": "python",
   "name": "python3"
  },
  "language_info": {
   "codemirror_mode": {
    "name": "ipython",
    "version": 3
   },
   "file_extension": ".py",
   "mimetype": "text/x-python",
   "name": "python",
   "nbconvert_exporter": "python",
   "pygments_lexer": "ipython3",
   "version": "3.10.12"
  }
 },
 "nbformat": 4,
 "nbformat_minor": 5
}