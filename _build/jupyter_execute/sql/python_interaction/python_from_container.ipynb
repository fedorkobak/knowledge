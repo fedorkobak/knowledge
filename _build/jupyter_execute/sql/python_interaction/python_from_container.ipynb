{
 "cells": [
  {
   "cell_type": "markdown",
   "id": "5ff5c476-fdd1-480f-8bee-441ca93b612f",
   "metadata": {},
   "source": [
    "# Python from container\n",
    "\n",
    "For me it's common task to build interaption with container which handle python program.\n",
    "\n",
    "So in this section I want to show you how to build such an interaction."
   ]
  },
  {
   "cell_type": "markdown",
   "id": "da8caf9f-27cb-414f-ba69-78d12b393899",
   "metadata": {},
   "source": [
    "## Python image\n",
    "\n",
    "You need to create a Python image. The following cell describes the docker file that's used to create the image."
   ]
  },
  {
   "cell_type": "code",
   "execution_count": 1,
   "id": "b27db3b3-c9ed-46a0-841b-4f908de18ec3",
   "metadata": {},
   "outputs": [
    {
     "name": "stdout",
     "output_type": "stream",
     "text": [
      "Overwriting python_container/dockerfile\n"
     ]
    }
   ],
   "source": [
    "%%writefile python_container/dockerfile\n",
    "FROM python:3.11.4\n",
    "WORKDIR program\n",
    "COPY script.py script.py\n",
    "COPY requirements.txt requirements.txt\n",
    "RUN pip3 install -r requirements.txt"
   ]
  },
  {
   "cell_type": "markdown",
   "id": "563b58d2-78d1-4a4a-90fd-9d0a1a93b9e8",
   "metadata": {},
   "source": [
    "The next cell describes the `requirements.txt` we'll need for this container."
   ]
  },
  {
   "cell_type": "code",
   "execution_count": 2,
   "id": "385fbddf-edb0-499d-a8f7-f9a08a9cc2ec",
   "metadata": {},
   "outputs": [
    {
     "name": "stdout",
     "output_type": "stream",
     "text": [
      "Overwriting python_container/requirements.txt\n"
     ]
    }
   ],
   "source": [
    "%%writefile python_container/requirements.txt\n",
    "numpy==1.24.2\n",
    "psycopg2-binary==2.9.6"
   ]
  },
  {
   "cell_type": "markdown",
   "id": "87671448-23b4-43ad-aef1-009a79018bef",
   "metadata": {},
   "source": [
    "Finally, we build the image."
   ]
  },
  {
   "cell_type": "code",
   "execution_count": 3,
   "id": "9b07bf90-977e-4fad-b11a-f9a0ef49276e",
   "metadata": {},
   "outputs": [],
   "source": [
    "%%bash\n",
    "docker build -t pg_example_python python_container &> /dev/null"
   ]
  },
  {
   "cell_type": "markdown",
   "id": "a98a93a5-6a4f-4ded-bfa1-bc325300562f",
   "metadata": {},
   "source": [
    "## Start containers"
   ]
  },
  {
   "cell_type": "markdown",
   "id": "ae5bea4a-acb8-4750-a3d4-9812ff7c07aa",
   "metadata": {},
   "source": [
    "We need to create at least one table in our postgres database. So in the following cell we store the script that will be used to initialise the database."
   ]
  },
  {
   "cell_type": "code",
   "execution_count": 4,
   "id": "c27c1888-f813-4d79-8b82-267cb1d703a8",
   "metadata": {},
   "outputs": [
    {
     "name": "stdout",
     "output_type": "stream",
     "text": [
      "Writing python_container/create_table.sql\n"
     ]
    }
   ],
   "source": [
    "%%writefile python_container/create_table.sql\n",
    "CREATE TABLE main_table(\n",
    "    id TEXT NOT NULL,\n",
    "    text TEXT NOT NULL\n",
    ");"
   ]
  },
  {
   "cell_type": "markdown",
   "id": "54004343-f8f7-49fa-8f12-13245e742a28",
   "metadata": {},
   "source": [
    "Next, start the `python` and `postgres` containers.\n",
    "\n",
    "You should share the same net between containers, in the following example which is completed by `test_project_net`."
   ]
  },
  {
   "cell_type": "code",
   "execution_count": 5,
   "id": "af1442a3-1d67-4b2c-a8e8-90b1ecb96cdc",
   "metadata": {},
   "outputs": [],
   "source": [
    "%%bash\n",
    "# network\n",
    "docker network create test_project_net &> /dev/null\n",
    "# postgres\n",
    "docker run --rm -d\\\n",
    "    --name pg_example_posgres_cont\\\n",
    "    -e POSTGRES_USER=docker_app\\\n",
    "    -e POSTGRES_PASSWORD=docker_app\\\n",
    "    -e POSTGRES_DB=docker_app_db\\\n",
    "    --net=test_project_net\\\n",
    "    -v ./python_container/create_table.sql:/docker-entrypoint-initdb.d/create_table.sql\\\n",
    "    postgres:15.4 &> /dev/null\n",
    "# python\n",
    "docker run --rm -itd\\\n",
    "    --name pg_example_python_cont\\\n",
    "    --net=test_project_net\\\n",
    "    pg_example_python &> /dev/null"
   ]
  },
  {
   "cell_type": "markdown",
   "id": "5296a36f-cee9-441b-8c2c-d38348ea1bae",
   "metadata": {},
   "source": [
    "## Executing python\n",
    "\n",
    "In the next cell, we run the Python script in the Python container. The script simply adds some random values to the `main_table` from the **ohter container**. The message \"Adding records is done!\" indicates that the Python program was executed normally."
   ]
  },
  {
   "cell_type": "code",
   "execution_count": 7,
   "id": "cde9f8f0-717f-41a0-a7f7-9d10a599b872",
   "metadata": {},
   "outputs": [
    {
     "name": "stdout",
     "output_type": "stream",
     "text": [
      "Adding records is done!\n"
     ]
    }
   ],
   "source": [
    "%%bash\n",
    "docker exec pg_example_python_cont bash -c \"python3 script.py\""
   ]
  },
  {
   "cell_type": "markdown",
   "id": "c08f1fa7-fe18-4834-a3f1-3a69241d3142",
   "metadata": {},
   "source": [
    "## Check the table\n",
    "\n",
    "So now, to make sure we have done everything right, let us select values from the created table."
   ]
  },
  {
   "cell_type": "code",
   "execution_count": 8,
   "id": "6c5041cc-aec4-432a-9c3b-89e9b009f73f",
   "metadata": {},
   "outputs": [
    {
     "name": "stdout",
     "output_type": "stream",
     "text": [
      " id |         text         \n",
      "----+----------------------\n",
      " 0  | rslmljobfthxylvqmxjx\n",
      " 1  | bfrtjjwbrmvmezusqqbt\n",
      " 2  | opujcieiufdicgkkerup\n",
      " 3  | lnuczeqsgxuqxeqfklva\n",
      " 4  | sgmbhqliwlidpgpuguyh\n",
      " 5  | cmotqncbzehqgovnmain\n",
      " 6  | xnrkwzjcnwsfqzmgnnol\n",
      " 7  | hjiihyoenlmxeydsdcnc\n",
      " 8  | bdrsfcxsbwzxieiityah\n",
      " 9  | dozhyfgltysgubaekvca\n",
      " 10 | yyjtebgjeiryoozwnliq\n",
      " 11 | httaabixdruuncanpkdx\n",
      " 12 | fvilvakiasqmkpmoxxze\n",
      " 13 | sitdcxqjzdmcrefldcjc\n",
      " 14 | jlqyxrhsgxenzmmihtsc\n",
      " 15 | rumlutiupquvfucxfmgn\n",
      " 16 | arsdyzmlxfruodumuupk\n",
      " 17 | jzjoyadntdjbcfucgsku\n",
      " 18 | xiqpdchofpxsksjlmvwv\n",
      " 19 | wuqfxhniyrusexnjrcin\n",
      "(20 rows)\n",
      "\n"
     ]
    }
   ],
   "source": [
    "%%bash\n",
    "docker exec pg_example_posgres_cont bash -c \\\n",
    "\"psql -U docker_app -d docker_app_db -c \\\"SELECT * FROM main_table;\\\"\""
   ]
  },
  {
   "cell_type": "markdown",
   "id": "d8f68a35-51a8-485a-a30f-afc5027c6459",
   "metadata": {},
   "source": [
    "## Stop containers"
   ]
  },
  {
   "cell_type": "code",
   "execution_count": 9,
   "id": "69705be0-9294-4b83-b83a-f8f701aee1f6",
   "metadata": {},
   "outputs": [],
   "source": [
    "%%bash\n",
    "docker stop pg_example_posgres_cont pg_example_python_cont &> /dev/null\n",
    "docker network rm test_project_net &> /dev/null"
   ]
  },
  {
   "cell_type": "markdown",
   "id": "d61d1a06-508c-4e55-a676-0d9a4f93723d",
   "metadata": {},
   "source": [
    "## Clear python image\n",
    "\n",
    "To avoid creating a lot of rubbish in docker images, you should delete the container created for this example."
   ]
  },
  {
   "cell_type": "code",
   "execution_count": 10,
   "id": "4d7cee0d-91e1-4d93-b322-64dbee1ed25a",
   "metadata": {},
   "outputs": [],
   "source": [
    "%%bash\n",
    "docker rmi pg_example_python &> /dev/null"
   ]
  }
 ],
 "metadata": {
  "kernelspec": {
   "display_name": "Python 3 (ipykernel)",
   "language": "python",
   "name": "python3"
  },
  "language_info": {
   "codemirror_mode": {
    "name": "ipython",
    "version": 3
   },
   "file_extension": ".py",
   "mimetype": "text/x-python",
   "name": "python",
   "nbconvert_exporter": "python",
   "pygments_lexer": "ipython3",
   "version": "3.10.12"
  }
 },
 "nbformat": 4,
 "nbformat_minor": 5
}