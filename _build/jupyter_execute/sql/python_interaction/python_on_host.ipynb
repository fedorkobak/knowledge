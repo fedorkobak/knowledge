{
 "cells": [
  {
   "cell_type": "markdown",
   "id": "269b818d-78e7-4bbc-bffd-d9ca4679faec",
   "metadata": {},
   "source": [
    "# Python on host\n",
    "\n",
    "Sometimes it's good to run database-related code from your local machine. So I show a way to build interaption between the database and the host program."
   ]
  },
  {
   "cell_type": "markdown",
   "id": "0f05fd86-311a-4d78-af76-8933c4d42965",
   "metadata": {},
   "source": [
    "## Database container"
   ]
  },
  {
   "cell_type": "markdown",
   "id": "3276f446-ef93-4e53-b7c5-25c6c593a6f3",
   "metadata": {},
   "source": [
    "Script that is used ot create table in database described in the following cell:"
   ]
  },
  {
   "cell_type": "code",
   "execution_count": 1,
   "id": "e8540ab2-ab08-4d7f-a198-35563f8615a3",
   "metadata": {},
   "outputs": [
    {
     "name": "stdout",
     "output_type": "stream",
     "text": [
      "Writing python_on_host/create_table.sql\n"
     ]
    }
   ],
   "source": [
    "%%writefile python_on_host/create_table.sql\n",
    "CREATE TABLE main_table(\n",
    "    id TEXT NOT NULL,\n",
    "    text TEXT NOT NULL\n",
    ");"
   ]
  },
  {
   "cell_type": "markdown",
   "id": "8d372ebb-0f85-4b54-b6d7-ee403d5b1c05",
   "metadata": {},
   "source": [
    "**Note** you need to specify the port to be referred to later in the Python program."
   ]
  },
  {
   "cell_type": "code",
   "execution_count": 2,
   "id": "c4064331-6491-4965-ab59-bb5e05659db6",
   "metadata": {},
   "outputs": [],
   "source": [
    "%%bash\n",
    "docker run --rm -d\\\n",
    "    --name pg_example_posgres_cont\\\n",
    "    -e POSTGRES_USER=docker_app\\\n",
    "    -e POSTGRES_PASSWORD=docker_app\\\n",
    "    -e POSTGRES_DB=docker_app_db\\\n",
    "    -p 5431:5432\\\n",
    "    -v ./python_on_host/create_table.sql:/docker-entrypoint-initdb.d/create_table.sql\\\n",
    "    postgres:15.4 &> /dev/null"
   ]
  },
  {
   "cell_type": "markdown",
   "id": "92353c89-8c75-487e-89ae-c79e6d8b8c64",
   "metadata": {},
   "source": [
    "## Python program\n",
    "\n",
    "I'm just going to connect to the database from this notebook."
   ]
  },
  {
   "cell_type": "markdown",
   "id": "10d6b12b-3e85-4ba8-bb85-255820c1edb3",
   "metadata": {},
   "source": [
    "### Establish conneciton\n",
    "\n",
    "In the `psycopg2.connect` function, mention `port` used in postgres container creation and `localhost` argument for `host` parameter."
   ]
  },
  {
   "cell_type": "code",
   "execution_count": 4,
   "id": "0a22ea13-783f-4ef3-a174-f5c4298933b8",
   "metadata": {},
   "outputs": [],
   "source": [
    "import psycopg2\n",
    "\n",
    "conn = psycopg2.connect(\n",
    "    port = \"5431\", # same as when creating a postgres container\n",
    "    dbname = \"docker_app_db\",\n",
    "    user = \"docker_app\",\n",
    "    password = \"docker_app\",\n",
    "    host= \"localhost\"\n",
    ")"
   ]
  },
  {
   "cell_type": "markdown",
   "id": "29606d8a-3360-47df-b11a-65cab418b0db",
   "metadata": {},
   "source": [
    "## Insert information\n",
    "\n",
    "To understand that everything works insert a few lines into database."
   ]
  },
  {
   "cell_type": "code",
   "execution_count": 5,
   "id": "7cb68031-c843-4999-b7e9-42a91dd37831",
   "metadata": {},
   "outputs": [],
   "source": [
    "import random\n",
    "import string\n",
    "\n",
    "cur = conn.cursor()\n",
    "for i in range(20):\n",
    "    text = ''.join(random.choices(string.ascii_lowercase, k=20))\n",
    "    query = f\"INSERT INTO main_table (id, text) VALUES ('{i}', '{text}');\"\n",
    "    cur.execute(query)\n",
    "cur.close()"
   ]
  },
  {
   "cell_type": "markdown",
   "id": "bcadd3b6-45b8-4a12-91e5-7501c63797a7",
   "metadata": {},
   "source": [
    "## Check the result"
   ]
  },
  {
   "cell_type": "markdown",
   "id": "fda84073-6f71-47db-ab6c-07accbf244f2",
   "metadata": {},
   "source": [
    "Query from python."
   ]
  },
  {
   "cell_type": "code",
   "execution_count": 6,
   "id": "4b5f6feb-5853-453d-bc41-4513f3f5c7e6",
   "metadata": {},
   "outputs": [
    {
     "name": "stdout",
     "output_type": "stream",
     "text": [
      "('0', 'oylvndzcdwjbvaqhcipe')\n",
      "('1', 'uhgzsoakjwsaekpjvqqm')\n",
      "('2', 'ynelbigrcuhgipfwdwsi')\n",
      "('3', 'jokojjrucprmxopvturd')\n",
      "('4', 'rkdlrxbhhlwymqfkxpft')\n",
      "('5', 'sukhsdqtfthqedbjyztn')\n",
      "('6', 'taihpxcxtwjmupdjxidl')\n",
      "('7', 'uvuyltiriwusqnzsbema')\n",
      "('8', 'tdxphsmxkjmhhxfjgbcb')\n",
      "('9', 'tecdszaaicciqlppjckh')\n",
      "('10', 'tfqssrggcfqkaebjaitx')\n",
      "('11', 'ljrreafprdqxrlmrcqaz')\n",
      "('12', 'mfpaqefutrthoimtcxwu')\n",
      "('13', 'ewynczxdhguwahyrcrjn')\n",
      "('14', 'pzhymsodljpaoykckyqe')\n",
      "('15', 'odewjbtonkbzqmvyzauu')\n",
      "('16', 'zrkmmbidnlzppyrhtqjq')\n",
      "('17', 'cnczkqtpznuagodepkwi')\n",
      "('18', 'waspsclkkazunxvecfyf')\n",
      "('19', 'zsxzovelsmduduneufkz')\n"
     ]
    }
   ],
   "source": [
    "cur = conn.cursor()\n",
    "cur.execute(\"SELECT * FROM main_table;\")\n",
    "for i in cur:\n",
    "    print(i)\n",
    "cur.close()"
   ]
  },
  {
   "cell_type": "markdown",
   "id": "a82c8f6e-7589-454a-a959-c6a58ca8d9f9",
   "metadata": {},
   "source": [
    "Query from container. \n",
    "\n",
    "**Note** Before quering from the container, you need to commit the changes from the connection."
   ]
  },
  {
   "cell_type": "code",
   "execution_count": 7,
   "id": "f37b501a-bda8-4b33-8f8d-6a36ef7e5da5",
   "metadata": {},
   "outputs": [],
   "source": [
    "conn.commit()"
   ]
  },
  {
   "cell_type": "code",
   "execution_count": 8,
   "id": "9699915f-96db-437d-b976-92977a22ee4f",
   "metadata": {},
   "outputs": [
    {
     "name": "stdout",
     "output_type": "stream",
     "text": [
      " id |         text         \n",
      "----+----------------------\n",
      " 0  | oylvndzcdwjbvaqhcipe\n",
      " 1  | uhgzsoakjwsaekpjvqqm\n",
      " 2  | ynelbigrcuhgipfwdwsi\n",
      " 3  | jokojjrucprmxopvturd\n",
      " 4  | rkdlrxbhhlwymqfkxpft\n",
      " 5  | sukhsdqtfthqedbjyztn\n",
      " 6  | taihpxcxtwjmupdjxidl\n",
      " 7  | uvuyltiriwusqnzsbema\n",
      " 8  | tdxphsmxkjmhhxfjgbcb\n",
      " 9  | tecdszaaicciqlppjckh\n",
      " 10 | tfqssrggcfqkaebjaitx\n",
      " 11 | ljrreafprdqxrlmrcqaz\n",
      " 12 | mfpaqefutrthoimtcxwu\n",
      " 13 | ewynczxdhguwahyrcrjn\n",
      " 14 | pzhymsodljpaoykckyqe\n",
      " 15 | odewjbtonkbzqmvyzauu\n",
      " 16 | zrkmmbidnlzppyrhtqjq\n",
      " 17 | cnczkqtpznuagodepkwi\n",
      " 18 | waspsclkkazunxvecfyf\n",
      " 19 | zsxzovelsmduduneufkz\n",
      "(20 rows)\n",
      "\n"
     ]
    }
   ],
   "source": [
    "%%bash\n",
    "docker exec pg_example_posgres_cont \\\n",
    "    psql --username docker_app --dbname docker_app_db -c 'SELECT * FROM main_table;'"
   ]
  },
  {
   "cell_type": "markdown",
   "id": "2095ede7-4766-4ecd-b911-a0351c2aafd5",
   "metadata": {},
   "source": [
    "Close connection."
   ]
  },
  {
   "cell_type": "code",
   "execution_count": 9,
   "id": "4e1a781e-6a4c-41bd-b77e-dd97d72f66a0",
   "metadata": {},
   "outputs": [],
   "source": [
    "conn.close()"
   ]
  },
  {
   "cell_type": "markdown",
   "id": "c0854480-296b-477b-9324-478a6f6aa27f",
   "metadata": {},
   "source": [
    "## Stop container"
   ]
  },
  {
   "cell_type": "code",
   "execution_count": 10,
   "id": "f667da27-ad3a-4d23-bce0-a3b06e640ff6",
   "metadata": {},
   "outputs": [
    {
     "name": "stdout",
     "output_type": "stream",
     "text": [
      "pg_example_posgres_cont\n"
     ]
    }
   ],
   "source": [
    "%%bash\n",
    "docker stop pg_example_posgres_cont"
   ]
  }
 ],
 "metadata": {
  "kernelspec": {
   "display_name": "Python 3 (ipykernel)",
   "language": "python",
   "name": "python3"
  },
  "language_info": {
   "codemirror_mode": {
    "name": "ipython",
    "version": 3
   },
   "file_extension": ".py",
   "mimetype": "text/x-python",
   "name": "python",
   "nbconvert_exporter": "python",
   "pygments_lexer": "ipython3",
   "version": "3.10.12"
  }
 },
 "nbformat": 4,
 "nbformat_minor": 5
}