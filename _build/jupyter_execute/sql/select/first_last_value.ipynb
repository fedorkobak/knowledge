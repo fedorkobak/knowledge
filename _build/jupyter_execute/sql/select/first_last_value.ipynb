{
 "cells": [
  {
   "cell_type": "markdown",
   "id": "77632a1e-b482-427f-b330-a3955715fe1c",
   "metadata": {},
   "source": [
    "# FIRST/LAST_VALUE\n",
    "\n",
    "In SQL there are the clauses `FIRST_VALUE` and `LAST_VALUE`. These allow you to get the first (top) or last (bottom) value in some sort of ordered range. In this page I want to play around with these expressions to learn how they work."
   ]
  },
  {
   "cell_type": "markdown",
   "id": "bcdf03fc-06f5-45f4-a5b4-f203e029efec",
   "metadata": {},
   "source": [
    "The following cell contains a database definition that will be used for the experiments on this page."
   ]
  },
  {
   "cell_type": "code",
   "execution_count": 7,
   "id": "6849b28f-5e2e-4355-8777-99a822a4a283",
   "metadata": {},
   "outputs": [
    {
     "name": "stdout",
     "output_type": "stream",
     "text": [
      "CREATE TABLE\n",
      "INSERT 0 6\n"
     ]
    }
   ],
   "source": [
    "%%bash\n",
    "docker run --rm -d\\\n",
    "    -e POSTGRES_PASSWORD=postgres \\\n",
    "    --name first_value_examples \\\n",
    "    postgres:15.4 &> /dev/null\n",
    "sleep 5\n",
    "docker exec -i first_value_examples psql -U postgres -d postgres\n",
    "\n",
    "\n",
    "CREATE TABLE example_table(\n",
    "    col1 TEXT,\n",
    "    col2 INT\n",
    ");\n",
    "INSERT INTO example_table(col1, col2) VALUES\n",
    "('A', 10),\n",
    "('B', 43),\n",
    "('C', 3),\n",
    "('D', 5),\n",
    "('E', 32),\n",
    "('F', 31);"
   ]
  },
  {
   "cell_type": "markdown",
   "id": "d0e7edad-a475-4b1e-86e7-5daf64a2c9d9",
   "metadata": {},
   "source": [
    "The basic tables are available here."
   ]
  },
  {
   "cell_type": "code",
   "execution_count": 38,
   "id": "14b964f8-fbcf-4161-8f43-486936c99e8f",
   "metadata": {},
   "outputs": [
    {
     "name": "stdout",
     "output_type": "stream",
     "text": [
      "=====example_table=====\n",
      " col1 | col2 \n",
      "------+------\n",
      " A    |   10\n",
      " B    |   43\n",
      " C    |    3\n",
      " D    |    5\n",
      " E    |   32\n",
      " F    |   31\n",
      "(6 rows)\n",
      "\n"
     ]
    }
   ],
   "source": [
    "%%bash\n",
    "echo \"=====example_table=====\"\n",
    "docker exec first_value_examples \\\n",
    "    psql -U postgres -d postgres -c \"SELECT * FROM example_table\";"
   ]
  },
  {
   "cell_type": "markdown",
   "id": "5298a4d7-ff98-4623-b699-f99957f068d3",
   "metadata": {},
   "source": [
    "**Note** Don't forget to stop the container when you've finished playing with it."
   ]
  },
  {
   "cell_type": "code",
   "execution_count": 43,
   "id": "32570683-5a2a-49a5-af7d-c2b11cca0197",
   "metadata": {},
   "outputs": [
    {
     "name": "stdout",
     "output_type": "stream",
     "text": [
      "first_value_examples\n"
     ]
    }
   ],
   "source": [
    "%%bash\n",
    "docker stop first_value_examples"
   ]
  },
  {
   "cell_type": "markdown",
   "id": "05c28297-b75a-4696-9456-f0840646cddf",
   "metadata": {},
   "source": [
    "## Find out more\n",
    "\n",
    "- <a href=\"https://www.geeksforgeeks.org/postgresql-first_value-function/\">GeeksForGeeks `FIRST_VALUE` statement</a>;\n",
    "- <a href=\"https://www.commandprompt.com/education/how-to-use-the-last_value-function-in-postgresql/\"> Command prompt \"How to Use the LAST_VALUE() Function in PostgreSQL?\"</a>."
   ]
  },
  {
   "cell_type": "markdown",
   "id": "169c9ed7-0e1e-4bf4-b132-bfbcdeb47cae",
   "metadata": {},
   "source": [
    "## Basic example "
   ]
  },
  {
   "cell_type": "markdown",
   "id": "a162aefa-1b29-4fa6-8bb9-b59f21c768c5",
   "metadata": {},
   "source": [
    "### Corresponds to lowest"
   ]
  },
  {
   "cell_type": "markdown",
   "id": "65ed9e3f-ca5e-4f73-94d2-661de8d40221",
   "metadata": {},
   "source": [
    "You can get the first value in any column from any other column using the expression `FIRST_VALUE (<value column>) OVER (ORDER BY <sort column>);`. \n",
    "\n",
    "So the following example shows how to use an include to query a column that contains a value in `col1` that corresponds to the lowest value in `col2`. Lowest value of `col2 = 3`, it corresponds to the record where `col1 = 'C'`. So we have got a column that contains \"C\" values.\n",
    "\n",
    "**Note** values were sorted by `col2`."
   ]
  },
  {
   "cell_type": "code",
   "execution_count": 22,
   "id": "05e4e035-d1d5-472f-a9cf-b3f849689028",
   "metadata": {},
   "outputs": [
    {
     "name": "stdout",
     "output_type": "stream",
     "text": [
      " col1 | col2 | first_value \n",
      "------+------+-------------\n",
      " C    |    3 | C\n",
      " D    |    5 | C\n",
      " A    |   10 | C\n",
      " F    |   31 | C\n",
      " E    |   32 | C\n",
      " B    |   43 | C\n",
      "(6 rows)\n",
      "\n"
     ]
    }
   ],
   "source": [
    "%%bash\n",
    "docker exec -i first_value_examples psql -U postgres -d postgres\n",
    "SELECT \n",
    "    col1, \n",
    "    col2, \n",
    "    FIRST_VALUE (col1) OVER (ORDER BY col2)\n",
    "FROM example_table;"
   ]
  },
  {
   "cell_type": "markdown",
   "id": "820499a0-ac59-4547-9fba-32b2788ded9a",
   "metadata": {},
   "source": [
    "### Corresponds to largest"
   ]
  },
  {
   "cell_type": "markdown",
   "id": "7c1ffe0c-6778-4132-bdfe-e70909e7959c",
   "metadata": {},
   "source": [
    "By simply adding `DESC` to the `ORDER BY` expression, you can get the value that corresponds to the largest value.\n",
    "\n",
    "The following example duplicates the previous one, but we have `B` in the `first_value` column because it corresponds to the largest value of `col2`."
   ]
  },
  {
   "cell_type": "code",
   "execution_count": 25,
   "id": "38ca1a12-2374-4441-af22-e79c3561411f",
   "metadata": {},
   "outputs": [
    {
     "name": "stdout",
     "output_type": "stream",
     "text": [
      " col1 | col2 | first_value \n",
      "------+------+-------------\n",
      " B    |   43 | B\n",
      " E    |   32 | B\n",
      " F    |   31 | B\n",
      " A    |   10 | B\n",
      " D    |    5 | B\n",
      " C    |    3 | B\n",
      "(6 rows)\n",
      "\n"
     ]
    }
   ],
   "source": [
    "%%bash\n",
    "docker exec -i first_value_examples psql -U postgres -d postgres\n",
    "SELECT \n",
    "    col1, \n",
    "    col2, \n",
    "    FIRST_VALUE (col1) OVER (ORDER BY col2 DESC)\n",
    "FROM example_table;"
   ]
  },
  {
   "cell_type": "markdown",
   "id": "d309458b-8a18-4d52-91e3-9bc9ad377521",
   "metadata": {},
   "source": [
    "### `LAST_VALUE`\n",
    "\n",
    "Here I'm using the `LAST_VALUE` statement. It works just like `FIRST_VALUE' but selects the last value in the range.\n",
    "\n",
    "This is almost the same as the result of the `Corresponds to largest` subsection, but note that the result is records sorted by `col2` in ascending order."
   ]
  },
  {
   "cell_type": "code",
   "execution_count": 41,
   "id": "1c25ed77-e1fa-4349-91ab-53d5d3a53fcc",
   "metadata": {},
   "outputs": [
    {
     "name": "stdout",
     "output_type": "stream",
     "text": [
      " col1 | col2 | last_value \n",
      "------+------+------------\n",
      " C    |    3 | B\n",
      " D    |    5 | B\n",
      " A    |   10 | B\n",
      " F    |   31 | B\n",
      " E    |   32 | B\n",
      " B    |   43 | B\n",
      "(6 rows)\n",
      "\n"
     ]
    }
   ],
   "source": [
    "%%bash\n",
    "docker exec -i first_value_examples psql -U postgres -d postgres\n",
    "SELECT \n",
    "    col1, \n",
    "    col2, \n",
    "    LAST_VALUE (col1) OVER (\n",
    "        ORDER BY col2\n",
    "        RANGE BETWEEN UNBOUNDED PRECEDING AND UNBOUNDED FOLLOWING\n",
    "    )\n",
    "FROM example_table;"
   ]
  }
 ],
 "metadata": {
  "kernelspec": {
   "display_name": "Python 3 (ipykernel)",
   "language": "python",
   "name": "python3"
  },
  "language_info": {
   "codemirror_mode": {
    "name": "ipython",
    "version": 3
   },
   "file_extension": ".py",
   "mimetype": "text/x-python",
   "name": "python",
   "nbconvert_exporter": "python",
   "pygments_lexer": "ipython3",
   "version": "3.10.12"
  }
 },
 "nbformat": 4,
 "nbformat_minor": 5
}