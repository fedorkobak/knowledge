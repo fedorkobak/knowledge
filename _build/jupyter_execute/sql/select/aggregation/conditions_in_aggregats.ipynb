{
 "cells": [
  {
   "cell_type": "markdown",
   "id": "c0bf7957-1d62-4d3a-957f-17a5fac2648b",
   "metadata": {},
   "source": [
    "# Conditions in aggregats (FILTER)\n",
    "\n",
    "You may need to perform aggregation only on records that meet certain conditions."
   ]
  },
  {
   "cell_type": "markdown",
   "id": "f9e03eab-e81e-4e97-88fc-7408944d7ff6",
   "metadata": {},
   "source": [
    "In the next cell, I create everything I need for the examples in this page."
   ]
  },
  {
   "cell_type": "code",
   "execution_count": 3,
   "id": "6d0009db-38ab-459f-af85-1b67c9c2aae5",
   "metadata": {},
   "outputs": [
    {
     "name": "stdout",
     "output_type": "stream",
     "text": [
      "CREATE TABLE\n",
      "INSERT 0 6\n",
      " col1 | col2 \n",
      "------+------\n",
      " A    |    1\n",
      " A    |    2\n",
      " A    |    1\n",
      " B    |    2\n",
      " B    |    1\n",
      " B    |    2\n",
      "(6 rows)\n",
      "\n"
     ]
    }
   ],
   "source": [
    "%%bash\n",
    "docker run --rm -d\\\n",
    "    -e POSTGRES_PASSWORD=postgres \\\n",
    "    --name cond_in_agregats_example \\\n",
    "    postgres:15.4 &> /dev/null\n",
    "sleep 5\n",
    "docker exec -i cond_in_agregats_example psql -U postgres -d postgres\n",
    "\n",
    "CREATE TABLE aggregation_table(\n",
    "    col1 TEXT,\n",
    "    col2 INT\n",
    ");\n",
    "INSERT INTO aggregation_table(col1, col2) VALUES\n",
    "('A', 1),\n",
    "('A', 2),\n",
    "('A', 1),\n",
    "('B', 2),\n",
    "('B', 1),\n",
    "('B', 2);\n",
    "SELECT * FROM aggregation_table;"
   ]
  },
  {
   "cell_type": "markdown",
   "id": "f4b0ab94-dfd0-46e8-9426-b3319938dd07",
   "metadata": {},
   "source": [
    "**Note** don't forget to stop the container when you finish playing with examples."
   ]
  },
  {
   "cell_type": "code",
   "execution_count": 2,
   "id": "53a8f7d3-d1c1-4fc6-9bfa-c5510b4abd73",
   "metadata": {},
   "outputs": [
    {
     "name": "stdout",
     "output_type": "stream",
     "text": [
      "cond_in_agregats_example\n"
     ]
    }
   ],
   "source": [
    "%%bash\n",
    "docker stop cond_in_agregats_example"
   ]
  },
  {
   "cell_type": "markdown",
   "id": "cd006b46-a04f-436b-a357-0e2da23ce458",
   "metadata": {},
   "source": [
    "Let's say that for each unique value in column `col2`, we need to create a column that indicates how many times that value corresponds to groups in column `col1`.\n",
    "\n",
    "To complete it, you need to group by `col1` and apply `COUNT` to `col2`, but for `COUNT` you need to use only those records that correspond to specific value of `col2`. Such an operation can be performed using the syntax `COUNT(col1) FILTER (WHERE col2=<specified value>)`.\n",
    "\n",
    "So in the following cell, the task is completed."
   ]
  },
  {
   "cell_type": "code",
   "execution_count": 8,
   "id": "13b2d045-7316-42e0-8c24-a8593c88cc51",
   "metadata": {},
   "outputs": [
    {
     "name": "stdout",
     "output_type": "stream",
     "text": [
      " col1 | col2=1 | col2=2 \n",
      "------+--------+--------\n",
      " B    |      1 |      2\n",
      " A    |      2 |      1\n",
      "(2 rows)\n",
      "\n"
     ]
    }
   ],
   "source": [
    "%%bash\n",
    "docker exec -i cond_in_agregats_example psql -U postgres -d postgres\n",
    "SELECT\n",
    "    col1,\n",
    "    COUNT(col2) FILTER (WHERE col2=1) \"col2=1\",\n",
    "    COUNT(col2) FILTER (WHERE col2=2) \"col2=2\"\n",
    "FROM aggregation_table\n",
    "GROUP BY col1"
   ]
  }
 ],
 "metadata": {
  "kernelspec": {
   "display_name": "Python 3 (ipykernel)",
   "language": "python",
   "name": "python3"
  },
  "language_info": {
   "codemirror_mode": {
    "name": "ipython",
    "version": 3
   },
   "file_extension": ".py",
   "mimetype": "text/x-python",
   "name": "python",
   "nbconvert_exporter": "python",
   "pygments_lexer": "ipython3",
   "version": "3.10.12"
  }
 },
 "nbformat": 4,
 "nbformat_minor": 5
}