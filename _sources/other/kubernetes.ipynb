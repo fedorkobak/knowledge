{
 "cells": [
  {
   "cell_type": "markdown",
   "id": "bbc1b8fe-3551-40df-bbc6-d558c7d13801",
   "metadata": {},
   "source": [
    "# Kubernetes\n",
    "\n",
    "**Sources**\n",
    "\n",
    "- [kubernetes crashcourse](https://www.youtube.com/watch?v=s_o8dwzRlu4) video on youtube."
   ]
  },
  {
   "cell_type": "markdown",
   "id": "79845a64-9283-4170-8a96-73e49ad27d7c",
   "metadata": {},
   "source": [
    "## Setup\n",
    "\n",
    "Here's everything you need to install to start experimenting with Kubernetes on your local machine."
   ]
  },
  {
   "cell_type": "markdown",
   "id": "da46bef3-4158-41de-841d-8c44ce0263a9",
   "metadata": {},
   "source": [
    "### Minicube\n",
    "\n",
    "Minikube is local Kubernetes, focusing on making it easy to learn and develop for Kubernetes. Read more in [start with minikube](https://minikube.sigs.k8s.io/docs/start/?arch=%2Flinux%2Fx86-64%2Fstable%2Fbinary+download) page. This is a tool that we'll use to play with kubernetes.\n",
    "\n",
    "You need to install it and use the command to start it:"
   ]
  },
  {
   "cell_type": "code",
   "execution_count": 2,
   "id": "20e7959b-bc34-4afa-89c8-0400e0eb5727",
   "metadata": {},
   "outputs": [],
   "source": [
    "!minikube start &> /dev/null"
   ]
  },
  {
   "cell_type": "markdown",
   "id": "da949463-bfb7-4a09-ab38-d38c26b69b3a",
   "metadata": {},
   "source": [
    "Once you've completed the previous command, you'll have a corresponding container called `minikube` in your docker. The following cell shows it."
   ]
  },
  {
   "cell_type": "code",
   "execution_count": 3,
   "id": "e5e72501-9fd0-4243-b84e-d82d090d4cc8",
   "metadata": {},
   "outputs": [
    {
     "name": "stdout",
     "output_type": "stream",
     "text": [
      "9e8762fc7e01   gcr.io/k8s-minikube/kicbase:v0.0.44   \"/usr/local/bin/entr…\"   3 hours ago   Up 54 seconds   127.0.0.1:32772->22/tcp, 127.0.0.1:32771->2376/tcp, 127.0.0.1:32770->5000/tcp, 127.0.0.1:32769->8443/tcp, 127.0.0.1:32768->32443/tcp   minikube\n"
     ]
    }
   ],
   "source": [
    "!docker ps | grep minikube"
   ]
  },
  {
   "cell_type": "markdown",
   "id": "a89b6e9a-c2f0-49c3-a22b-c27e8e5727a8",
   "metadata": {},
   "source": [
    "To make sure everything is OK, try checking the minikube status."
   ]
  },
  {
   "cell_type": "code",
   "execution_count": 4,
   "id": "da69e532-9cc3-4aa6-9935-0ee564b3c55d",
   "metadata": {},
   "outputs": [
    {
     "name": "stdout",
     "output_type": "stream",
     "text": [
      "minikube\n",
      "type: Control Plane\n",
      "host: Running\n",
      "kubelet: Running\n",
      "apiserver: Running\n",
      "kubeconfig: Configured\n",
      "\n"
     ]
    }
   ],
   "source": [
    "!minikube status"
   ]
  },
  {
   "cell_type": "markdown",
   "id": "376df83b-fe4c-4ae2-85c6-ecb58e97d2ca",
   "metadata": {},
   "source": [
    "You can refresh everything by stopping and deleting the `minikube` container."
   ]
  },
  {
   "cell_type": "code",
   "execution_count": 15,
   "id": "083d106b-ab5a-4c19-8a3d-a4df9600e84b",
   "metadata": {},
   "outputs": [
    {
     "name": "stdout",
     "output_type": "stream",
     "text": [
      "minikube\n"
     ]
    }
   ],
   "source": [
    "!docker rm -f minikube"
   ]
  },
  {
   "cell_type": "markdown",
   "id": "98ac927d-f15c-4c94-a968-0c9d81793421",
   "metadata": {},
   "source": [
    "### kubectl\n",
    "\n",
    "`kubectl` is a command line interface that allows you to interact with Kubernetes, in particular with Kubernetes started with `minikube`. Check the [installation guide](https://kubernetes.io/docs/tasks/tools/install-kubectl-linux/). \n",
    "\n",
    "For me, using the ubunty option `snap install kubectl --classic` worked well."
   ]
  },
  {
   "cell_type": "code",
   "execution_count": 5,
   "id": "7977f404-9cc3-4574-bb95-c24e1cfca01a",
   "metadata": {},
   "outputs": [
    {
     "name": "stdout",
     "output_type": "stream",
     "text": [
      "Client Version: v1.29.5\n",
      "Kustomize Version: v5.0.4-0.20230601165947-6ce0bf390ce3\n"
     ]
    }
   ],
   "source": [
    "!kubectl version --client"
   ]
  },
  {
   "cell_type": "markdown",
   "id": "d01a1bb7-097a-4a81-9929-69baf536c9e3",
   "metadata": {},
   "source": [
    "## Basic commands"
   ]
  },
  {
   "cell_type": "markdown",
   "id": "280abbcc-a988-436f-b09e-008f2d8b5779",
   "metadata": {},
   "source": [
    "### List nodes\n",
    "\n",
    "To list all the nodes available in your Kubernetes cluster, use `kubectl get node`."
   ]
  },
  {
   "cell_type": "code",
   "execution_count": 14,
   "id": "acbb6512-c0a7-4fd1-89c2-7e3ca2bbc957",
   "metadata": {},
   "outputs": [
    {
     "name": "stdout",
     "output_type": "stream",
     "text": [
      "NAME       STATUS   ROLES           AGE    VERSION\n",
      "minikube   Ready    control-plane   175m   v1.30.0\n"
     ]
    }
   ],
   "source": [
    "!kubectl get node"
   ]
  }
 ],
 "metadata": {
  "kernelspec": {
   "display_name": "Python 3 (ipykernel)",
   "language": "python",
   "name": "python3"
  },
  "language_info": {
   "codemirror_mode": {
    "name": "ipython",
    "version": 3
   },
   "file_extension": ".py",
   "mimetype": "text/x-python",
   "name": "python",
   "nbconvert_exporter": "python",
   "pygments_lexer": "ipython3",
   "version": "3.10.12"
  }
 },
 "nbformat": 4,
 "nbformat_minor": 5
}
