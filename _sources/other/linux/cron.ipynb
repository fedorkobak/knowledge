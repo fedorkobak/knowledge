{
 "cells": [
  {
   "cell_type": "markdown",
   "metadata": {},
   "source": [
    "# Cron\n",
    "\n",
    "Cron is a utility that allows you to schedule commands in a Linux system. You can manage cron jobs using `crontab`, a special utility that handles the file defining jobs for cron."
   ]
  },
  {
   "cell_type": "markdown",
   "metadata": {},
   "source": [
    "The following cell runs Alpine Linux, which includes cron by default, providing a playground to experiment with it."
   ]
  },
  {
   "cell_type": "code",
   "execution_count": 1,
   "metadata": {
    "vscode": {
     "languageId": "shellscript"
    }
   },
   "outputs": [
    {
     "name": "stdout",
     "output_type": "stream",
     "text": [
      "2548ef937214e1848ff172baadf7f8b369300dc37cb9a78219530cde84c19ab7\n"
     ]
    }
   ],
   "source": [
    "docker run --rm -itd --name crontab_test alpine"
   ]
  },
  {
   "cell_type": "markdown",
   "metadata": {},
   "source": [
    "**Note** don't forget to stop the container after all."
   ]
  },
  {
   "cell_type": "code",
   "execution_count": 32,
   "metadata": {
    "vscode": {
     "languageId": "shellscript"
    }
   },
   "outputs": [
    {
     "name": "stdout",
     "output_type": "stream",
     "text": [
      "crontab_test\n"
     ]
    }
   ],
   "source": [
    "docker stop crontab_test"
   ]
  },
  {
   "cell_type": "markdown",
   "metadata": {},
   "source": [
    "## Cron files\n",
    "\n",
    "As usually cron configurations are just a specific files in the filesystem. To my mind editing this file is the best option to update cron job.\n",
    "\n",
    "**Typical location** is `/var/spool/cron/crontabs`, there is separate file for each user."
   ]
  },
  {
   "cell_type": "markdown",
   "metadata": {},
   "source": [
    "---\n",
    "\n",
    "The following cell shows the contents of the `/var/spool/cron/crontabs` folder for the container we're using as an example."
   ]
  },
  {
   "cell_type": "code",
   "execution_count": 14,
   "metadata": {
    "vscode": {
     "languageId": "shellscript"
    }
   },
   "outputs": [
    {
     "name": "stdout",
     "output_type": "stream",
     "text": [
      "lrwxrwxrwx    1 root     root            21 Dec  5 12:17 /var/spool/cron/crontabs -> ../../../etc/crontabs\n"
     ]
    }
   ],
   "source": [
    "docker exec crontab_test ls -l /var/spool/cron/crontabs"
   ]
  },
  {
   "cell_type": "markdown",
   "metadata": {
    "vscode": {
     "languageId": "shellscript"
    }
   },
   "source": [
    "There is only one file that describes crontabs for the root user. The next cell lists the contents of this file:"
   ]
  },
  {
   "cell_type": "code",
   "execution_count": 4,
   "metadata": {
    "vscode": {
     "languageId": "shellscript"
    }
   },
   "outputs": [
    {
     "name": "stdout",
     "output_type": "stream",
     "text": [
      "# do daily/weekly/monthly maintenance\n",
      "# min\thour\tday\tmonth\tweekday\tcommand\n",
      "*/15\t*\t*\t*\t*\trun-parts /etc/periodic/15min\n",
      "0\t*\t*\t*\t*\trun-parts /etc/periodic/hourly\n",
      "0\t2\t*\t*\t*\trun-parts /etc/periodic/daily\n",
      "0\t3\t*\t*\t6\trun-parts /etc/periodic/weekly\n",
      "0\t5\t1\t*\t*\trun-parts /etc/periodic/monthly\n",
      "\n"
     ]
    }
   ],
   "source": [
    "docker exec crontab_test cat /var/spool/cron/crontabs/root"
   ]
  },
  {
   "cell_type": "markdown",
   "metadata": {},
   "source": [
    "Typical syntax for linux cron jobs."
   ]
  },
  {
   "cell_type": "markdown",
   "metadata": {},
   "source": [
    "## From stdin\n",
    "\n",
    "You can set your cron schedule using the syntax `crontab -`, which means that `crontab` will take the schedule from standard input."
   ]
  },
  {
   "cell_type": "markdown",
   "metadata": {},
   "source": [
    "---\n",
    "\n",
    "The following cell shows how you can set the crontab through the `echo` command."
   ]
  },
  {
   "cell_type": "code",
   "execution_count": 28,
   "metadata": {
    "vscode": {
     "languageId": "shellscript"
    }
   },
   "outputs": [],
   "source": [
    "docker exec crontab_test sh -c \"\n",
    "echo \\\"10 * * * * from_echo\\\" | crontab -\n",
    "\""
   ]
  },
  {
   "cell_type": "markdown",
   "metadata": {},
   "source": [
    "Let's check gotten cron schedule."
   ]
  },
  {
   "cell_type": "code",
   "execution_count": 29,
   "metadata": {
    "vscode": {
     "languageId": "shellscript"
    }
   },
   "outputs": [
    {
     "name": "stdout",
     "output_type": "stream",
     "text": [
      "10 * * * * from_echo\n"
     ]
    }
   ],
   "source": [
    "docker exec crontab_test crontab -l"
   ]
  },
  {
   "cell_type": "markdown",
   "metadata": {},
   "source": [
    "Even better, you can use heredoc syntax to set a multiline cron schedule."
   ]
  },
  {
   "cell_type": "code",
   "execution_count": 30,
   "metadata": {
    "vscode": {
     "languageId": "shellscript"
    }
   },
   "outputs": [],
   "source": [
    "docker exec crontab_test sh -c \"\n",
    "cat <<EOF | crontab -\n",
    "10 * * * * echo line1\n",
    "* 10 * * * echo line2\n",
    "EOF\""
   ]
  },
  {
   "cell_type": "markdown",
   "metadata": {},
   "source": [
    "Let's check if the schedule from the previous cell was actually added to the cron."
   ]
  },
  {
   "cell_type": "code",
   "execution_count": 31,
   "metadata": {
    "vscode": {
     "languageId": "shellscript"
    }
   },
   "outputs": [
    {
     "name": "stdout",
     "output_type": "stream",
     "text": [
      "10 * * * * echo line1\n",
      "* 10 * * * echo line2\n"
     ]
    }
   ],
   "source": [
    "docker exec crontab_test crontab -l"
   ]
  },
  {
   "cell_type": "markdown",
   "metadata": {},
   "source": [
    "## Specify period\n",
    "\n",
    "To specify the period when each cron job will be executed, you have to use the syntax `*/<amount>` in the corresponding column. For example, `*/2` in the minutes column means that the job will be executed every 2 minutes.  \n",
    "\n",
    "**Note**: `*/1` is equivalent to just `*`, because `*` means \"every.\""
   ]
  },
  {
   "cell_type": "markdown",
   "metadata": {},
   "source": [
    "---\n",
    "\n",
    "As an example, consider the following Docker container. It runs the `crond` daemon during startup, so the cron jobs will work."
   ]
  },
  {
   "cell_type": "code",
   "execution_count": 5,
   "metadata": {
    "vscode": {
     "languageId": "shellscript"
    }
   },
   "outputs": [
    {
     "name": "stdout",
     "output_type": "stream",
     "text": [
      "79d65535b3a13e1ae0f745a14d9f23a1820ca7b06b6fd7ddd731610351eead89\n"
     ]
    }
   ],
   "source": [
    "docker run --rm --name run_cron_example -itd alpine \\\n",
    "    crond -fl 2"
   ]
  },
  {
   "cell_type": "markdown",
   "metadata": {},
   "source": [
    "The following cell defines two jobs:\n",
    "\n",
    "- The first job executes every minute.\n",
    "- The second job executes every two minutes.\n",
    "\n",
    "Both jobs print their signatures to the `/test` file, allowing us to check when they have been executed."
   ]
  },
  {
   "cell_type": "code",
   "execution_count": 7,
   "metadata": {
    "vscode": {
     "languageId": "shellscript"
    }
   },
   "outputs": [],
   "source": [
    "docker exec run_cron_example sh -c \"\n",
    "cat << 'EOF' | crontab -\n",
    "* * * * * echo \\\"\\$(date +%H:%M:%S) every minute\\\" >> /test\n",
    "*/2 * * * * echo \\\"\\$(date +%H:%M:%S) every two minutes\\\" >> /test\n",
    "EOF\""
   ]
  },
  {
   "cell_type": "markdown",
   "metadata": {},
   "source": [
    "After a while we can check what we get from our cron jobs:"
   ]
  },
  {
   "cell_type": "code",
   "execution_count": 9,
   "metadata": {
    "vscode": {
     "languageId": "shellscript"
    }
   },
   "outputs": [
    {
     "name": "stdout",
     "output_type": "stream",
     "text": [
      "16:46:00 every minute\n",
      "16:46:00 every two minutes\n",
      "16:47:00 every minute\n",
      "16:48:00 every minute\n",
      "16:48:00 every two minutes\n",
      "16:49:00 every minute\n",
      "16:50:00 every minute\n",
      "16:50:00 every two minutes\n"
     ]
    }
   ],
   "source": [
    "docker exec run_cron_example cat /test"
   ]
  },
  {
   "cell_type": "markdown",
   "metadata": {},
   "source": [
    "Jobs are executed at the beginning of each minute and every two minutes."
   ]
  },
  {
   "cell_type": "code",
   "execution_count": 10,
   "metadata": {
    "vscode": {
     "languageId": "shellscript"
    }
   },
   "outputs": [
    {
     "name": "stdout",
     "output_type": "stream",
     "text": [
      "run_cron_example\n"
     ]
    }
   ],
   "source": [
    "docker stop run_cron_example"
   ]
  }
 ],
 "metadata": {
  "kernelspec": {
   "display_name": "Bash",
   "language": "bash",
   "name": "bash"
  },
  "language_info": {
   "codemirror_mode": "shell",
   "file_extension": ".sh",
   "mimetype": "text/x-sh",
   "name": "bash"
  }
 },
 "nbformat": 4,
 "nbformat_minor": 2
}
