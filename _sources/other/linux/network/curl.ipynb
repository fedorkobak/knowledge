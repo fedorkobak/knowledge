{
 "cells": [
  {
   "cell_type": "markdown",
   "metadata": {},
   "source": [
    "# Curl\n",
    "\n",
    "This page is a specific guide to the `curl` Linux utility. The following cell starts the docker container with httpbin - http requests mirror, that we'll use to play with curl."
   ]
  },
  {
   "cell_type": "code",
   "execution_count": 5,
   "metadata": {
    "vscode": {
     "languageId": "shellscript"
    }
   },
   "outputs": [
    {
     "name": "stdout",
     "output_type": "stream",
     "text": [
      "17bb3c56ab5ec3a3877a6dd84b871cf2f6b690e736f814ab312a19856d2acdf1\n"
     ]
    }
   ],
   "source": [
    "docker run --rm -itd --name example_server -p 80:80 kennethreitz/httpbin"
   ]
  },
  {
   "cell_type": "markdown",
   "metadata": {},
   "source": [
    "**Note** don't forget to stop the container after all:"
   ]
  },
  {
   "cell_type": "code",
   "execution_count": null,
   "metadata": {
    "vscode": {
     "languageId": "shellscript"
    }
   },
   "outputs": [],
   "source": [
    "docker stop example_server"
   ]
  },
  {
   "cell_type": "markdown",
   "metadata": {},
   "source": [
    "`curl` can work with different protocols. The behaviour of the program is different for different protocols."
   ]
  },
  {
   "cell_type": "code",
   "execution_count": 3,
   "metadata": {
    "vscode": {
     "languageId": "shellscript"
    }
   },
   "outputs": [
    {
     "name": "stdout",
     "output_type": "stream",
     "text": [
      "Usage: curl [options...] <url>\n",
      "Invalid category provided, here is a list of all categories:\n",
      "\n",
      " auth        Different types of authentication methods\n",
      " connection  Low level networking operations\n",
      " curl        The command line tool itself\n",
      " dns         General DNS options\n",
      " file        FILE protocol options\n",
      " ftp         FTP protocol options\n",
      " http        HTTP and HTTPS protocol options\n",
      " imap        IMAP protocol options\n",
      " misc        Options that don't fit into any other category\n",
      " output      Filesystem output\n",
      " pop3        POP3 protocol options\n",
      " post        HTTP Post specific options\n",
      " proxy       All options related to proxies\n",
      " scp         SCP protocol options\n",
      " sftp        SFTP protocol options\n",
      " smtp        SMTP protocol options\n",
      " ssh         SSH protocol options\n",
      " telnet      TELNET protocol options\n",
      " tftp        TFTP protocol options\n",
      " tls         All TLS/SSL related options\n",
      " upload      All options for uploads\n",
      " verbose     Options related to any kind of command line output of curl\n"
     ]
    }
   ],
   "source": [
    "curl --help categories"
   ]
  },
  {
   "cell_type": "markdown",
   "metadata": {},
   "source": [
    "To get help for a specific protocol, use the following syntax: `curl --help <protocol-name>`. The following cell shows help for `dns` protocol."
   ]
  },
  {
   "cell_type": "code",
   "execution_count": 4,
   "metadata": {
    "vscode": {
     "languageId": "shellscript"
    }
   },
   "outputs": [
    {
     "name": "stdout",
     "output_type": "stream",
     "text": [
      "Usage: curl [options...] <url>\n",
      "dns: General DNS options\n",
      "     --dns-interface <interface> Interface to use for DNS requests\n",
      "     --dns-ipv4-addr <address> IPv4 address to use for DNS requests\n",
      "     --dns-ipv6-addr <address> IPv6 address to use for DNS requests\n",
      "     --dns-servers <addresses> DNS server addrs to use\n",
      "     --doh-cert-status    Verify the status of the DoH server cert via OCSP-staple\n",
      "     --doh-insecure       Allow insecure DoH server connections\n",
      "     --doh-url <URL>      Resolve host names over DoH\n",
      " -4, --ipv4               Resolve names to IPv4 addresses\n",
      " -6, --ipv6               Resolve names to IPv6 addresses\n"
     ]
    }
   ],
   "source": [
    "curl --help dns"
   ]
  },
  {
   "cell_type": "markdown",
   "metadata": {},
   "source": [
    "## Pass headers\n",
    "\n",
    "To pass headers in the curl command, we need to use the `-H` option. The full syntax should be `curl -H \"<header1 name>: <header1 value>\" ...`."
   ]
  },
  {
   "cell_type": "markdown",
   "metadata": {},
   "source": [
    "---\n",
    "\n",
    "In the following example, we'll pass additional headers to the `curl` command."
   ]
  },
  {
   "cell_type": "code",
   "execution_count": 7,
   "metadata": {
    "vscode": {
     "languageId": "shellscript"
    }
   },
   "outputs": [
    {
     "name": "stdout",
     "output_type": "stream",
     "text": [
      "{\n",
      "  \"args\": {}, \n",
      "  \"data\": \"\", \n",
      "  \"files\": {}, \n",
      "  \"form\": {}, \n",
      "  \"headers\": {\n",
      "    \"Accept\": \"*/*\", \n",
      "    \"Host\": \"localhost\", \n",
      "    \"New-Header1\": \"new-value\", \n",
      "    \"New-Header2\": \"new-value\", \n",
      "    \"User-Agent\": \"curl/7.81.0\"\n",
      "  }, \n",
      "  \"json\": null, \n",
      "  \"method\": \"GET\", \n",
      "  \"origin\": \"172.17.0.1\", \n",
      "  \"url\": \"http://localhost/anything\"\n",
      "}\n"
     ]
    }
   ],
   "source": [
    "curl \\\n",
    "    -H \"new-header1: new-value\" \\\n",
    "    -H \"new-header2: new-value\" \\\n",
    "    localhost:80/anything"
   ]
  },
  {
   "cell_type": "markdown",
   "metadata": {},
   "source": [
    "As a result, there are headers in the output."
   ]
  },
  {
   "cell_type": "markdown",
   "metadata": {},
   "source": [
    "## Get headers\n",
    "\n",
    "There are two ways to print headers using `curl`:\n",
    "\n",
    "- The `-I/--head` option tells `curl` to download only the headers and print them to the standard output stream.\n",
    "- The `-D` option specifies a file where the headers will be saved, but both the headers and the body of the response will be downloaded."
   ]
  },
  {
   "cell_type": "markdown",
   "metadata": {},
   "source": [
    "---\n",
    "\n",
    "The following cell demonstrates how headers can be retrieved using the `-I` option."
   ]
  },
  {
   "cell_type": "code",
   "execution_count": 8,
   "metadata": {
    "vscode": {
     "languageId": "shellscript"
    }
   },
   "outputs": [
    {
     "name": "stdout",
     "output_type": "stream",
     "text": [
      "HTTP/1.1 200 OK\n",
      "\u001b[1mServer\u001b[0m: gunicorn/19.9.0\n",
      "\u001b[1mDate\u001b[0m: Tue, 10 Sep 2024 08:32:30 GMT\n",
      "\u001b[1mConnection\u001b[0m: keep-alive\n",
      "\u001b[1mContent-Type\u001b[0m: text/html; charset=utf-8\n",
      "\u001b[1mContent-Length\u001b[0m: 9593\n",
      "\u001b[1mAccess-Control-Allow-Origin\u001b[0m: *\n",
      "\u001b[1mAccess-Control-Allow-Credentials\u001b[0m: true\n",
      "\n"
     ]
    }
   ],
   "source": [
    "curl -I localhost:80"
   ]
  },
  {
   "cell_type": "markdown",
   "metadata": {},
   "source": [
    "The following cell demonstrates how headers can be retrieved using the `-D` option, with headers redirected to the standard output (using `-` after the option to specify that)."
   ]
  },
  {
   "cell_type": "code",
   "execution_count": 7,
   "metadata": {
    "vscode": {
     "languageId": "shellscript"
    }
   },
   "outputs": [
    {
     "name": "stdout",
     "output_type": "stream",
     "text": [
      "HTTP/1.1 200 OK\n",
      "Server: gunicorn/19.9.0\n",
      "Date: Tue, 10 Sep 2024 08:32:14 GMT\n",
      "Connection: keep-alive\n",
      "Content-Type: application/json\n",
      "Content-Length: 267\n",
      "Access-Control-Allow-Origin: *\n",
      "Access-Control-Allow-Credentials: true\n",
      "\n",
      "{\n",
      "  \"args\": {}, \n",
      "  \"data\": \"\", \n",
      "  \"files\": {}, \n",
      "  \"form\": {}, \n",
      "  \"headers\": {\n",
      "    \"Accept\": \"*/*\", \n",
      "    \"Host\": \"localhost\", \n",
      "    \"User-Agent\": \"curl/7.81.0\"\n",
      "  }, \n",
      "  \"json\": null, \n",
      "  \"method\": \"GET\", \n",
      "  \"origin\": \"172.17.0.1\", \n",
      "  \"url\": \"http://localhost/anything\"\n",
      "}\n"
     ]
    }
   ],
   "source": [
    "curl -D - localhost:80/anything"
   ]
  }
 ],
 "metadata": {
  "kernelspec": {
   "display_name": "Bash",
   "language": "bash",
   "name": "bash"
  },
  "language_info": {
   "codemirror_mode": "shell",
   "file_extension": ".sh",
   "mimetype": "text/x-sh",
   "name": "bash"
  }
 },
 "nbformat": 4,
 "nbformat_minor": 2
}
