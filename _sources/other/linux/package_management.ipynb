{
 "cells": [
  {
   "cell_type": "markdown",
   "metadata": {},
   "source": [
    "# Package management\n",
    "\n",
    "This page considers features of package management in linux systems. \n",
    "\n",
    "For details check:\n",
    "\n",
    "- [Apt users guide](https://www.debian.org/doc/manuals/apt-guide/index.en.html).\n",
    "- Corresponding page in the [ubuntu documentation](https://ubuntu.com/server/docs/package-management).\n",
    "- In the case of this tool, the [APT Wikipedia page](https://en.wikipedia.org/wiki/APT_(software)) provides a well-rounded and useful resource."
   ]
  },
  {
   "cell_type": "markdown",
   "metadata": {},
   "source": [
    "\n",
    "As example will be used ubuntu docker container created in the following cell:"
   ]
  },
  {
   "cell_type": "code",
   "execution_count": null,
   "metadata": {
    "vscode": {
     "languageId": "shellscript"
    }
   },
   "outputs": [],
   "source": [
    "docker run -itd --rm --name package_management ubuntu"
   ]
  },
  {
   "cell_type": "markdown",
   "metadata": {},
   "source": [
    "**Note:** don't forget to stop container after all."
   ]
  },
  {
   "cell_type": "code",
   "execution_count": null,
   "metadata": {
    "vscode": {
     "languageId": "shellscript"
    }
   },
   "outputs": [],
   "source": [
    "docker stop package_management"
   ]
  },
  {
   "cell_type": "markdown",
   "metadata": {},
   "source": [
    "## Sources\n",
    "\n",
    "Sources in apt is a set of references that describes where to get needed packages. In the system there should be a folder `/etc/apt/sources.list.d` which contains a file describing the sources.\n",
    "\n",
    "For more check information provide by `man sources.list`."
   ]
  },
  {
   "cell_type": "markdown",
   "metadata": {},
   "source": [
    "---\n",
    "\n",
    "The following cell shows the default contents of `/etc/apt/sources.list.d`. "
   ]
  },
  {
   "cell_type": "code",
   "execution_count": 3,
   "metadata": {
    "vscode": {
     "languageId": "shellscript"
    }
   },
   "outputs": [
    {
     "name": "stdout",
     "output_type": "stream",
     "text": [
      "ubuntu.sources\n"
     ]
    }
   ],
   "source": [
    "docker exec package_management ls /etc/apt/sources.list.d/"
   ]
  },
  {
   "cell_type": "markdown",
   "metadata": {},
   "source": [
    "There is only one file called `ubuntu`. It contains some description that is not really important for us, so the following cell shows only the important content of the file. Where defines the URI for packages."
   ]
  },
  {
   "cell_type": "code",
   "execution_count": 16,
   "metadata": {
    "vscode": {
     "languageId": "shellscript"
    }
   },
   "outputs": [
    {
     "name": "stdout",
     "output_type": "stream",
     "text": [
      "##\n",
      "## See the sources.list(5) manual page for further settings.\n",
      "Types: deb\n",
      "URIs: http://archive.ubuntu.com/ubuntu/\n",
      "Suites: noble noble-updates noble-backports\n",
      "Components: main universe restricted multiverse\n",
      "Signed-By: /usr/share/keyrings/ubuntu-archive-keyring.gpg\n",
      "\n",
      "## Ubuntu security updates. Aside from URIs and Suites,\n",
      "## this should mirror your choices in the previous section.\n",
      "Types: deb\n",
      "URIs: http://security.ubuntu.com/ubuntu/\n",
      "Suites: noble-security\n",
      "Components: main universe restricted multiverse\n",
      "Signed-By: /usr/share/keyrings/ubuntu-archive-keyring.gpg\n"
     ]
    }
   ],
   "source": [
    "docker exec package_management cat /etc/apt/sources.list.d/ubuntu.sources | tail -n 15"
   ]
  },
  {
   "cell_type": "markdown",
   "metadata": {},
   "source": [
    "### Add source\n",
    "\n",
    "You can add source using `add-apt-repository` command."
   ]
  },
  {
   "cell_type": "markdown",
   "metadata": {},
   "source": [
    "---\n",
    "\n",
    "The following cell adds the `deadsnakes` source, an index where you can download different versions of the Python interpreter.\n",
    "\n",
    "**Note:** `add-apt-repository` is not installed by default, so it needs to be installed before use."
   ]
  },
  {
   "cell_type": "code",
   "execution_count": 23,
   "metadata": {
    "vscode": {
     "languageId": "shellscript"
    }
   },
   "outputs": [],
   "source": [
    "docker exec package_management bash -c \"\n",
    "    apt update \\\n",
    "    && apt install -y software-properties-common\" &> /dev/null\n",
    "docker exec package_management add-apt-repository ppa:deadsnakes/ppa &> /dev/null"
   ]
  },
  {
   "cell_type": "markdown",
   "metadata": {},
   "source": [
    "Now there are additional file: `/etc/apt/sources.list.d/deadsnakes-ubuntu-ppa-noble.sources` which describe the sources for deadsnake."
   ]
  },
  {
   "cell_type": "code",
   "execution_count": 21,
   "metadata": {
    "vscode": {
     "languageId": "shellscript"
    }
   },
   "outputs": [
    {
     "name": "stdout",
     "output_type": "stream",
     "text": [
      "deadsnakes-ubuntu-ppa-noble.sources\n",
      "ubuntu.sources\n"
     ]
    }
   ],
   "source": [
    "docker exec package_management ls /etc/apt/sources.list.d"
   ]
  },
  {
   "cell_type": "markdown",
   "metadata": {},
   "source": [
    "The following cell shows the `sources` file that was added earlier."
   ]
  },
  {
   "cell_type": "code",
   "execution_count": 26,
   "metadata": {
    "vscode": {
     "languageId": "shellscript"
    }
   },
   "outputs": [
    {
     "name": "stdout",
     "output_type": "stream",
     "text": [
      "Types: deb\n",
      "URIs: https://ppa.launchpadcontent.net/deadsnakes/ppa/ubuntu/\n",
      "Suites: noble\n",
      "Components: main\n",
      "Signed-By: -----BEGIN PGP PUBLIC KEY BLOCK-----\n",
      " .\n",
      " mQINBFl8fYEBEADQmGZ6pDrwY9iH9DVlwNwTOvOZ7q7lHXPl/TLfMs1tckMc/D9a\n",
      " hsdBN9VWtMmo+RySvhkIe8X15r65TFs2HE8ft6j2e/4K472pObM1hB+ajiU/wYX2\n",
      " Syq7DBlNm6YMP5/SyQzRxqis4Ja1uUjW4Q5/Csdf5In8uMzXj5D1P7qOiP2aNa0E\n",
      " r3w6PXWRTuTihWZOsHv8npyVYDBRR6gEZbd3r86snI/7o8Bfmad3KjbxL7aOdNMw\n",
      " AqQFaNKl7Y+UJpv1CNFIf+twcOoC0se1SrsVJlAH9HNHM7XGQsPUwpNvQlcmvr+t\n",
      " 1vVS2m72lk3gyShDuJpi1TifGw+DoTqu54U0k+0sZm4pnQVeiizNkefU2UqOoGlt\n",
      " 4oiG9nIhSX04xRlGes3Ya0OjNI5b1xbcYoR+r0c3odI+UCw3VSZtKDX/xlH1o/82\n",
      " b8ouXeE7LA1i4DvGNj4VSvoxv4ggIznxMf+PkWXWKwRGsbAAXF52rr4FUaeaKoIU\n",
      " DkJqHXAxrB3PQslZ+ZgBEukkQZF76NkqRqP1E7FXzZZMo2eEL7vtnhSzUlanOf42\n",
      " ECBoWHVoZQaRFMNbGpqlg9aWedHGyetMStS3nH1sqanr+i4I8VR/UH+ilarPTW3T\n",
      " E0apWlsH8+N3IKbRx2wgrRZNoQEuyVtvyewDFYShJB3Zxt7VCy67vKAl1QARAQAB\n",
      " tBxMYXVuY2hwYWQgUFBBIGZvciBkZWFkc25ha2VziQI4BBMBAgAiBQJZfH2BAhsD\n",
      " BgsJCAcDAgYVCAIJCgsEFgIDAQIeAQIXgAAKCRC6aTI2anVXdvwhD/4oI3yckeKn\n",
      " 9aJNNTJsyw4ydMkIAOdG+jbZsYv/rN73UVQF1RA8HC71SDmbd0Nu80koBOX+USuL\n",
      " vvhoMIsARlD5dLx5f/zaQcYWJm/BtsMF/eZ4s1xsenwW6PpXd8FpaTn1qtg/8+O9\n",
      " 99R4uSetAhhyf1vSRb/8U0sgSQd38mpZZFq352UuVisXnmCThj621loQubYJ3lwU\n",
      " LSLs8wmgo4XIYH7UgdavV9dfplPh0M19RHQL3wTyQP2KRNRq1rG7/n1XzUwDyqY6\n",
      " eMVhdVhvnxAGztvdFCySVzBRr/rCw6quhcYQwBqdqaXhz63np+4mlUNfd8Eu+Vas\n",
      " b/tbteF/pDu0yeFMpK4X09Cwn2kYYCpq4XujijW+iRWb4MO3G8LLi8oBAHP/k0CM\n",
      " /QvSRbbG8JDQkQDH37Efm8iE/EttJTixjKAIfyugmvEHfcrnxaMoBioa6h6McQrM\n",
      " vI8bJirxorJzOVF4kY7xXvMYwjzaDC8G0fTA8SzQRaShksR3USXZjz8vS6tZ+YNa\n",
      " mRHPoZ3Ua0bz4t2aCcu/fknVGsXcNBazNIK9WF2665Ut/b7lDbojXsUZ3PpuqOoe\n",
      " GQL9LRj7nmCI6ugoKkNp8ZXcGJ8BGw37Wep2ztyzDohXp6f/4mGgy2KYV9R4S8D5\n",
      " yBDUU6BS7Su5nhQMStfdfr4FffLmnvFC9w==\n",
      " =7hFk\n",
      " -----END PGP PUBLIC KEY BLOCK-----\n"
     ]
    }
   ],
   "source": [
    "docker exec package_management cat /etc/apt/sources.list.d/deadsnakes-ubuntu-ppa-noble.sources"
   ]
  },
  {
   "cell_type": "markdown",
   "metadata": {},
   "source": [
    "## Logs\n",
    "\n",
    "`/var/log/dpkg.log` is a typical path for the log which describes the packages installed on the system."
   ]
  },
  {
   "cell_type": "markdown",
   "metadata": {},
   "source": [
    "---\n",
    "\n",
    "The next cell shows the default files available, which describe the default packages installed in the container."
   ]
  },
  {
   "cell_type": "code",
   "execution_count": null,
   "metadata": {
    "vscode": {
     "languageId": "shellscript"
    }
   },
   "outputs": [
    {
     "name": "stdout",
     "output_type": "stream",
     "text": [
      "2024-11-19 09:52:39 status unpacked libpam-modules:amd64 1.5.3-5ubuntu5.1\n",
      "2024-11-19 09:52:39 startup packages configure\n",
      "2024-11-19 09:52:39 configure libpam-modules:amd64 1.5.3-5ubuntu5.1 <none>\n",
      "2024-11-19 09:52:39 status unpacked libpam-modules:amd64 1.5.3-5ubuntu5.1\n",
      "2024-11-19 09:52:39 status half-configured libpam-modules:amd64 1.5.3-5ubuntu5.1\n",
      "2024-11-19 09:52:39 status installed libpam-modules:amd64 1.5.3-5ubuntu5.1\n",
      "2024-11-19 09:52:39 startup packages configure\n",
      "2024-11-19 09:52:39 trigproc libc-bin:amd64 2.39-0ubuntu8.3 <none>\n",
      "2024-11-19 09:52:39 status half-configured libc-bin:amd64 2.39-0ubuntu8.3\n",
      "2024-11-19 09:52:39 status installed libc-bin:amd64 2.39-0ubuntu8.3\n"
     ]
    }
   ],
   "source": [
    "docker exec package_management bash -c \"cat /var/log/dpkg.log | tail -n 10\""
   ]
  },
  {
   "cell_type": "markdown",
   "metadata": {},
   "source": [
    "Now consider how the logs for the installation of a specific package look: the following cell installs `vim` and displays all log entries containing `vim`."
   ]
  },
  {
   "cell_type": "code",
   "execution_count": null,
   "metadata": {
    "vscode": {
     "languageId": "shellscript"
    }
   },
   "outputs": [
    {
     "name": "stdout",
     "output_type": "stream",
     "text": [
      "2025-01-04 10:05:22 install vim-common:all <none> 2:9.1.0016-1ubuntu7.5\n",
      "2025-01-04 10:05:22 status half-installed vim-common:all 2:9.1.0016-1ubuntu7.5\n",
      "2025-01-04 10:05:22 status unpacked vim-common:all 2:9.1.0016-1ubuntu7.5\n",
      "2025-01-04 10:05:22 install vim-runtime:all <none> 2:9.1.0016-1ubuntu7.5\n",
      "2025-01-04 10:05:22 status half-installed vim-runtime:all 2:9.1.0016-1ubuntu7.5\n",
      "2025-01-04 10:05:23 status unpacked vim-runtime:all 2:9.1.0016-1ubuntu7.5\n",
      "2025-01-04 10:05:23 install vim:amd64 <none> 2:9.1.0016-1ubuntu7.5\n",
      "2025-01-04 10:05:23 status half-installed vim:amd64 2:9.1.0016-1ubuntu7.5\n",
      "2025-01-04 10:05:23 status unpacked vim:amd64 2:9.1.0016-1ubuntu7.5\n",
      "2025-01-04 10:05:23 configure vim-common:all 2:9.1.0016-1ubuntu7.5 <none>\n",
      "2025-01-04 10:05:23 status unpacked vim-common:all 2:9.1.0016-1ubuntu7.5\n",
      "2025-01-04 10:05:23 status half-configured vim-common:all 2:9.1.0016-1ubuntu7.5\n",
      "2025-01-04 10:05:23 status installed vim-common:all 2:9.1.0016-1ubuntu7.5\n",
      "2025-01-04 10:05:23 configure vim-runtime:all 2:9.1.0016-1ubuntu7.5 <none>\n",
      "2025-01-04 10:05:23 status unpacked vim-runtime:all 2:9.1.0016-1ubuntu7.5\n",
      "2025-01-04 10:05:23 status half-configured vim-runtime:all 2:9.1.0016-1ubuntu7.5\n",
      "2025-01-04 10:05:23 status installed vim-runtime:all 2:9.1.0016-1ubuntu7.5\n",
      "2025-01-04 10:05:23 configure vim:amd64 2:9.1.0016-1ubuntu7.5 <none>\n",
      "2025-01-04 10:05:23 status unpacked vim:amd64 2:9.1.0016-1ubuntu7.5\n",
      "2025-01-04 10:05:23 status half-configured vim:amd64 2:9.1.0016-1ubuntu7.5\n",
      "2025-01-04 10:05:23 status installed vim:amd64 2:9.1.0016-1ubuntu7.5\n"
     ]
    }
   ],
   "source": [
    "docker exec package_management bash -c \"apt update && apt install -y vim\" &> /dev/null\n",
    "docker exec package_management bash -c \"cat /var/log/dpkg.log | grep vim\""
   ]
  }
 ],
 "metadata": {
  "kernelspec": {
   "display_name": "Bash",
   "language": "bash",
   "name": "bash"
  },
  "language_info": {
   "codemirror_mode": "shell",
   "file_extension": ".sh",
   "mimetype": "text/x-sh",
   "name": "bash"
  }
 },
 "nbformat": 4,
 "nbformat_minor": 2
}
