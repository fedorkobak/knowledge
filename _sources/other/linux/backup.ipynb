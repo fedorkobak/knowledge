{
 "cells": [
  {
   "cell_type": "markdown",
   "id": "337f1730-d4ca-4962-9537-f979e4f22dae",
   "metadata": {},
   "source": [
    "# Backup\n",
    "\n",
    "**Sources:**\n",
    "\n",
    "- [`rsync` usage example](https://www.google.com/search?channel=fs&client=ubuntu-sn&q=how+to+linux+backup&bshm=nce/1#fpstate=ive&vld=cid:d262cccb,vid:GqSxR93xK6E).\n",
    "- [`rsync` documentation](https://download.samba.org/pub/rsync/rsync.1).\n",
    "- [Backup with `rsync`](https://jumpcloud.com/blog/how-to-backup-linux-system-rsync);\n",
    "- [Official ubuntu backup instructions](https://help.ubuntu.com/community/BackupPC);\n",
    "- [Offical ubutntu backup instructions - section about `tar`](https://help.ubuntu.com/community/BackupYourSystem/TAR)."
   ]
  },
  {
   "cell_type": "markdown",
   "id": "3044136c-ef67-4f3f-9c4f-ef04264db748",
   "metadata": {},
   "source": [
    "## `tar`"
   ]
  },
  {
   "cell_type": "markdown",
   "id": "3428dfe8-3bc6-4ce8-915e-f837278dd627",
   "metadata": {},
   "source": [
    "In the following cell I just try to follow the instructions from <a href=\"https://help.ubuntu.com/community/BackupYourSystem/TAR\">official ubutntu backup instructions - section about `tar`</a>, to make a backup - and test how it works in different cases.\n",
    "\n",
    "I want to try:\n",
    "\n",
    "- **step 1 - backup creating**:\n",
    "    - run docker container with ubuntu;\n",
    "    - install `curl`, `abache2`;\n",
    "    - run the `apache2` service;\n",
    "    - check `apache2` with curl;\n",
    "    - use `tar` to make a backup of the current system;\n",
    "    - stop the container;\n",
    "- **step2 - recovery from back up**:\n",
    "    - run a new empty ubuntu container;\n",
    "    - copy the backup archive from the previous container;\n",
    "    - restore the backup in empty ubuntu system;\n",
    "    - check `curl` and `apache2`."
   ]
  },
  {
   "cell_type": "markdown",
   "id": "a3464cff-7af5-40c8-9839-2accd2d0f9b8",
   "metadata": {},
   "source": [
    "**step 1 - backup creating**"
   ]
  },
  {
   "cell_type": "code",
   "execution_count": 70,
   "id": "af5c77c0-ef71-4763-9a1b-2b097cff38c8",
   "metadata": {},
   "outputs": [
    {
     "name": "stdout",
     "output_type": "stream",
     "text": [
      "=====install=====\n",
      "\n",
      "=====check=====\n",
      "<!DOCTYPE html PUBLIC \"-//W3C//DTD XHTML 1.0 Transitional//EN\" \"http://www.w3.org/TR/xhtml1/DTD/xhtml1-transitional.dtd\">\n",
      "<html xmlns=\"http://www.w3.org/1999/xhtml\">\n",
      "  <!--\n",
      "    Modified from the Debian original for Ubuntu\n",
      "    Last updated: 2022-03-22\n",
      "    See: https://launchpad.net/bugs/1966004\n",
      "  -->\n",
      "  <head>\n",
      "    <meta http-equiv=\"Content-Type\" content=\"text/html; charset=UTF-8\" />\n",
      "    <title>Apache2 Ubuntu Default Page: It works</title>\n",
      "    <style type=\"text/css\" media=\"screen\">\n",
      "  * {\n",
      "    margin: 0px 0px 0px 0px;\n",
      "    padding: 0px 0px 0px 0px;\n",
      "  }\n",
      "\n",
      "  body, html {\n",
      "    padding: 3px 3px 3px 3px;\n",
      "\n",
      "    background-color: #D8DBE2;\n",
      "\n",
      "=====make backup=====\n"
     ]
    }
   ],
   "source": [
    "%%bash\n",
    "mkdir backups\n",
    "docker run --rm --name ubun_cont -i -v $(pwd)/backups:/backups ubuntu\n",
    "\n",
    "echo \"=====install=====\"\n",
    "apt-get update &> /dev/null\n",
    "apt-get install curl apache2 -y &> /dev/null\n",
    "service apache2 start &> /dev/null\n",
    "\n",
    "\n",
    "echo\n",
    "echo \"=====check=====\"\n",
    "curl -s localhost:80 | head -n 20\n",
    "\n",
    "echo\n",
    "echo \"=====make backup=====\"\n",
    "tar \\\n",
    "    -cvpzf \\\n",
    "    /backups/backup.tar.gz \\\n",
    "    --exclude=/backups/backup.tar.gz \\\n",
    "    --one-file-system / &> /dev/null\n",
    "exit"
   ]
  },
  {
   "cell_type": "markdown",
   "id": "ad5110e8-8566-4276-ba12-a215456b5d7e",
   "metadata": {},
   "source": [
    "There is not much to say - it saves the backup in the \"backups\" folder."
   ]
  },
  {
   "cell_type": "markdown",
   "id": "f2e76e4f-77b5-442e-a886-40449e28b0ea",
   "metadata": {},
   "source": [
    "**step2 - recovery from backup** "
   ]
  },
  {
   "cell_type": "code",
   "execution_count": 71,
   "id": "08071bfb-72de-45cd-913e-db3f5f72cd9a",
   "metadata": {},
   "outputs": [
    {
     "name": "stdout",
     "output_type": "stream",
     "text": [
      "=====culr --help=====\n",
      "Usage: curl [options...] <url>\n",
      " -d, --data <data>          HTTP POST data\n",
      " -f, --fail                 Fail silently (no output at all) on HTTP errors\n",
      " -h, --help <category>      Get help for commands\n",
      " -i, --include              Include protocol response headers in the output\n",
      " -o, --output <file>        Write to file instead of stdout\n",
      " -O, --remote-name          Write output to a file named as the remote file\n",
      " -s, --silent               Silent mode\n",
      " -T, --upload-file <file>   Transfer local FILE to destination\n",
      " -u, --user <user:password> Server user and password\n",
      " -A, --user-agent <name>    Send User-Agent <name> to server\n",
      " -v, --verbose              Make the operation more talkative\n",
      " -V, --version              Show version number and quit\n",
      "\n",
      "This is not the full help, this menu is stripped into categories.\n",
      "Use \"--help category\" to get an overview of all categories.\n",
      "For all options use the manual or \"--help all\".\n",
      "=====curl localhost:80=====\n",
      "\n",
      "=====curl localhost:80 after apache=====\n",
      " * Starting Apache httpd web server apache2\n"
     ]
    },
    {
     "name": "stderr",
     "output_type": "stream",
     "text": [
      "/bin/bash: line 6: culr: command not found\n",
      "AH00558: apache2: Could not reliably determine the server's fully qualified domain name, using 172.17.0.2. Set the 'ServerName' directive globally to suppress this message\n"
     ]
    },
    {
     "name": "stdout",
     "output_type": "stream",
     "text": [
      " * \n",
      "<!DOCTYPE html PUBLIC \"-//W3C//DTD XHTML 1.0 Transitional//EN\" \"http://www.w3.org/TR/xhtml1/DTD/xhtml1-transitional.dtd\">\n",
      "<html xmlns=\"http://www.w3.org/1999/xhtml\">\n",
      "  <!--\n",
      "    Modified from the Debian original for Ubuntu\n",
      "    Last updated: 2022-03-22\n",
      "    See: https://launchpad.net/bugs/1966004\n",
      "  -->\n",
      "  <head>\n",
      "    <meta http-equiv=\"Content-Type\" content=\"text/html; charset=UTF-8\" />\n",
      "    <title>Apache2 Ubuntu Default Page: It works</title>\n",
      "    <style type=\"text/css\" media=\"screen\">\n",
      "  * {\n",
      "    margin: 0px 0px 0px 0px;\n",
      "    padding: 0px 0px 0px 0px;\n",
      "  }\n",
      "\n",
      "  body, html {\n",
      "    padding: 3px 3px 3px 3px;\n",
      "\n",
      "    background-color: #D8DBE2;\n"
     ]
    }
   ],
   "source": [
    "%%bash\n",
    "docker run --rm --name ubun_cont -i -v $(pwd)/backups:/backups ubuntu\n",
    "tar -xvpzf /backups/backup.tar.gz -C / --numeric-owner &> /dev/null\n",
    "\n",
    "echo \"=====culr --help=====\"\n",
    "curl --help\n",
    "echo \"=====curl localhost:80=====\"\n",
    "culr -s localhost:80\n",
    "\n",
    "echo\n",
    "echo \"=====curl localhost:80 after apache=====\"\n",
    "service apache2 start\n",
    "curl -s localhost:80 | head -n 20\n",
    "\n",
    "exit"
   ]
  },
  {
   "cell_type": "markdown",
   "id": "adc56abb-14c3-4f50-8026-3b6ecfffd82a",
   "metadata": {},
   "source": [
    "**Note** Even without downloading `curl` and `apache2` I can use it after unpacking. To use `apache2` you had to start the corresponding service - but it was still really easy."
   ]
  },
  {
   "cell_type": "markdown",
   "id": "ea62d6e0-3eb1-4daa-81bc-9573077b6052",
   "metadata": {},
   "source": [
    "## `rsync` basics\n",
    "\n",
    "Actually `rsync` is just a copy tool, but if you compare it with `cp` it has much more options and features."
   ]
  },
  {
   "cell_type": "markdown",
   "id": "bceebb36-6d59-4cf2-9d61-4c634e4ffc7f",
   "metadata": {},
   "source": [
    "### Basic syntax\n",
    "\n",
    "`rsync <copied file> <destination of copying>`\n",
    "\n",
    "Example follows"
   ]
  },
  {
   "cell_type": "code",
   "execution_count": 7,
   "id": "dfb3829c-9ad9-4ab0-bcad-74dccb6475e3",
   "metadata": {},
   "outputs": [
    {
     "name": "stdout",
     "output_type": "stream",
     "text": [
      "hello new file\n"
     ]
    }
   ],
   "source": [
    "%%bash\n",
    "# creating to directories\n",
    "mkdir dir1 dir2\n",
    "# creating file in dir1\n",
    "echo \"hello new file\" > dir1/test_file\n",
    "# rsynk file from dir1 to dir2\n",
    "rsync dir1/test_file dir2/test_file\n",
    "# check the message\n",
    "cat dir2/test_file\n",
    "\n",
    "rm -r dir1 dir2"
   ]
  },
  {
   "cell_type": "markdown",
   "id": "788e26c8-e7da-453c-9252-b6bf5644d72e",
   "metadata": {},
   "source": [
    "### `r` - copy *r*ecursive\n",
    "\n",
    "Allow to copy a folder with all its contents.\n",
    "\n",
    "In the following example I'm trying to copy contents from dir1 to dir2, as you can see I couldn't do it without the `r` option."
   ]
  },
  {
   "cell_type": "code",
   "execution_count": 22,
   "id": "f4c3749b-74fa-4010-ba96-47330208db57",
   "metadata": {},
   "outputs": [
    {
     "name": "stdout",
     "output_type": "stream",
     "text": [
      "=====content of dir1=====\n",
      "file1.txt\n",
      "file2.txt\n",
      "file3.txt\n",
      "file4.txt\n",
      "file5.txt\n",
      "=====no r option=====\n",
      "skipping directory .\n",
      "=====r option=====\n",
      "file1.txt\n",
      "file2.txt\n",
      "file3.txt\n",
      "file4.txt\n",
      "file5.txt\n"
     ]
    }
   ],
   "source": [
    "%%bash\n",
    "\n",
    "mkdir dir1 dir2\n",
    "touch dir1/file{1..5}.txt\n",
    "\n",
    "echo \"=====content of dir1=====\"\n",
    "ls dir1\n",
    "\n",
    "echo \"=====no r option=====\"\n",
    "rsync dir1/ dir2\n",
    "ls dir2\n",
    "\n",
    "echo \"=====r option=====\"\n",
    "rsync -r dir1/ dir2\n",
    "ls dir2\n",
    "\n",
    "rm -r dir1 dir2"
   ]
  },
  {
   "cell_type": "markdown",
   "id": "87d21cc8-f8da-482e-af85-5c1f18a5f4a7",
   "metadata": {},
   "source": [
    "### `-a` - attributes\n",
    "\n",
    "It works just like `r`, but also deals with file attributes (like creation time, user and so on). So in the following example:\n",
    "\n",
    "- Few files was created in `dir1`;\n",
    "- The user for these files has been changed from `root` to `user1`;\n",
    "- Then I use `rsync` twice:\n",
    "    - First with the `r` option, which puts the user back in `root`;\n",
    "    - Second, with the `a` option, which saves the user attribute as `user1` from source."
   ]
  },
  {
   "cell_type": "code",
   "execution_count": 38,
   "id": "6f803bda-484b-452e-a419-fa2203430115",
   "metadata": {},
   "outputs": [
    {
     "name": "stdout",
     "output_type": "stream",
     "text": [
      "=====dir1=====\n",
      "total 0\n",
      "-rw-r--r-- 1 user1 root 0 Jun 17 15:31 file1.txt\n",
      "-rw-r--r-- 1 user1 root 0 Jun 17 15:31 file2.txt\n",
      "-rw-r--r-- 1 user1 root 0 Jun 17 15:31 file3.txt\n",
      "-rw-r--r-- 1 user1 root 0 Jun 17 15:31 file4.txt\n",
      "-rw-r--r-- 1 user1 root 0 Jun 17 15:31 file5.txt\n",
      "\n",
      "=====dir2 after rsync -r=====\n",
      "total 0\n",
      "-rw-r--r-- 1 root root 0 Jun 17 15:31 file1.txt\n",
      "-rw-r--r-- 1 root root 0 Jun 17 15:31 file2.txt\n",
      "-rw-r--r-- 1 root root 0 Jun 17 15:31 file3.txt\n",
      "-rw-r--r-- 1 root root 0 Jun 17 15:31 file4.txt\n",
      "-rw-r--r-- 1 root root 0 Jun 17 15:31 file5.txt\n",
      "\n",
      "=====dir2 after rsync -a=====\n",
      "total 0\n",
      "-rw-r--r-- 1 user1 root 0 Jun 17 15:31 file1.txt\n",
      "-rw-r--r-- 1 user1 root 0 Jun 17 15:31 file2.txt\n",
      "-rw-r--r-- 1 user1 root 0 Jun 17 15:31 file3.txt\n",
      "-rw-r--r-- 1 user1 root 0 Jun 17 15:31 file4.txt\n",
      "-rw-r--r-- 1 user1 root 0 Jun 17 15:31 file5.txt\n"
     ]
    }
   ],
   "source": [
    "%%bash\n",
    "# docker container for usperuser access\n",
    "docker run --rm --name test_container -i ubuntu\n",
    "apt-get update &> /dev/null\n",
    "apt-get install -y rsync &> /dev/null\n",
    "# creating file with some specific user\n",
    "useradd user1\n",
    "mkdir dir1 dir2\n",
    "touch dir1/file{1..5}.txt\n",
    "chown user1 dir1/file*\n",
    "\n",
    "echo \"=====dir1=====\"\n",
    "ls -l dir1\n",
    "\n",
    "echo\n",
    "echo \"=====dir2 after rsync -r=====\"\n",
    "rsync -r dir1/ dir2\n",
    "ls -l dir2\n",
    "\n",
    "echo\n",
    "echo \"=====dir2 after rsync -a=====\"\n",
    "rsync -a dir1/ dir2\n",
    "ls -l dir2\n",
    "\n",
    "exit"
   ]
  },
  {
   "cell_type": "markdown",
   "id": "642fdfda-fbe7-4417-aafc-3ae98552249f",
   "metadata": {},
   "source": [
    "### `--delete` - delete extraneous\n",
    "\n",
    "If you don't use this option `rsync` will save files wich are in destination directory. Оtherwise all files that are not in the source will be deleted in the destination folder. The following exampe show:\n",
    "- In `dir2` I created file `test.txt`;\n",
    "- First I rsync files from `dir1` to `dir2` without the `--delete` option - `test.txt` is still in `dir2`;\n",
    "- Second I rsync files from `dir1` to `dir2` using the `--delete` option - `test.txt` disappears from `dir2`."
   ]
  },
  {
   "cell_type": "code",
   "execution_count": 6,
   "id": "0051b746-0f4a-4bd5-9a9f-ebbd7add5390",
   "metadata": {},
   "outputs": [
    {
     "name": "stdout",
     "output_type": "stream",
     "text": [
      "====initial dir2=====\n",
      "test.txt\n",
      "=====dir2 after rsync no --delete=====\n",
      "file1.txt\n",
      "file2.txt\n",
      "file3.txt\n",
      "file4.txt\n",
      "file5.txt\n",
      "test.txt\n",
      "=====dir2 after rsync with --delete=====\n",
      "file1.txt\n",
      "file2.txt\n",
      "file3.txt\n",
      "file4.txt\n",
      "file5.txt\n"
     ]
    }
   ],
   "source": [
    "%%bash\n",
    "mkdir dir1 dir2\n",
    "touch dir1/file{1..5}.txt\n",
    "touch dir2/test.txt\n",
    "\n",
    "echo \"====initial dir2=====\"\n",
    "ls dir2\n",
    "\n",
    "echo \"=====dir2 after rsync no --delete=====\"\n",
    "rsync -r dir1/ dir2\n",
    "ls dir2\n",
    "\n",
    "echo \"=====dir2 after rsync with --delete=====\"\n",
    "rsync -r --delete dir1/ dir2\n",
    "ls dir2\n",
    "\n",
    "rm -r dir1 dir2"
   ]
  }
 ],
 "metadata": {
  "kernelspec": {
   "display_name": "Python 3 (ipykernel)",
   "language": "python",
   "name": "python3"
  },
  "language_info": {
   "codemirror_mode": {
    "name": "ipython",
    "version": 3
   },
   "file_extension": ".py",
   "mimetype": "text/x-python",
   "name": "python",
   "nbconvert_exporter": "python",
   "pygments_lexer": "ipython3",
   "version": "3.10.6"
  }
 },
 "nbformat": 4,
 "nbformat_minor": 5
}
