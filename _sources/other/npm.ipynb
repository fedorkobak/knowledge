{
 "cells": [
  {
   "cell_type": "markdown",
   "id": "9b4f991e",
   "metadata": {},
   "source": [
    "# NPM\n",
    "\n",
    "NPM is a package manager for javascript. Check [NPM](https://www.npmjs.com/) for more details."
   ]
  },
  {
   "cell_type": "markdown",
   "id": "9e87abcc",
   "metadata": {},
   "source": [
    "---\n",
    "\n",
    "Consider the typical approach of using packages provided by the NPM. The following cell creates the `/tmp/node_example` folder and the `package.json` file within it.\n",
    "\n",
    "The `package.json` file defines the npm environment, and all installed packages will be stored in this folder."
   ]
  },
  {
   "cell_type": "code",
   "execution_count": 4,
   "id": "74aae47f",
   "metadata": {
    "vscode": {
     "languageId": "shellscript"
    }
   },
   "outputs": [],
   "source": [
    "mkdir /tmp/node_example\n",
    "cd /tmp/node_example\n",
    "echo {} > package.json"
   ]
  },
  {
   "cell_type": "markdown",
   "id": "9ed5765f",
   "metadata": {},
   "source": [
    "Install the package by running the command `npm install <package name>`. The following cell installs `cowsay`:"
   ]
  },
  {
   "cell_type": "code",
   "execution_count": 6,
   "id": "2a3697e3",
   "metadata": {
    "vscode": {
     "languageId": "shellscript"
    }
   },
   "outputs": [
    {
     "name": "stdout",
     "output_type": "stream",
     "text": [
      "(\u001b[107;97m##################\u001b[0m) ⠸ reify:strip-ansi: \u001b[32;40mhttp\u001b[0m \u001b[35mfetch\u001b[0m GET 200 https://registry.np\u001b[0m\u001b[Kistry.\u001b[0m\u001b[K\u001b[K\u001b[?25h\n",
      "added 41 packages, and audited 42 packages in 2s\n",
      "\n",
      "3 packages are looking for funding\n",
      "  run `npm fund` for details\n",
      "\n",
      "found \u001b[32m\u001b[1m0\u001b[22m\u001b[39m vulnerabilities\n"
     ]
    }
   ],
   "source": [
    "npm install cowsay"
   ]
  },
  {
   "cell_type": "markdown",
   "id": "5d27974b",
   "metadata": {},
   "source": [
    "The corresponding files must be created in the folder:"
   ]
  },
  {
   "cell_type": "code",
   "execution_count": 10,
   "id": "bb5e462c",
   "metadata": {
    "vscode": {
     "languageId": "shellscript"
    }
   },
   "outputs": [
    {
     "name": "stdout",
     "output_type": "stream",
     "text": [
      "total 52\n",
      "drwxrwxr-x  3 user user  4096 wrz 17 16:04 \u001b[0m\u001b[01;34m.\u001b[0m\n",
      "drwxrwxrwt 24 root root 20480 wrz 17 16:04 \u001b[30;42m..\u001b[0m\n",
      "drwxrwxr-x 32 user user  4096 wrz 17 16:04 \u001b[01;34mnode_modules\u001b[0m\n",
      "-rw-rw-r--  1 user user    51 wrz 17 16:04 package.json\n",
      "-rw-rw-r--  1 user user 15690 wrz 17 16:04 package-lock.json\n"
     ]
    }
   ],
   "source": [
    "ls -la"
   ]
  },
  {
   "cell_type": "markdown",
   "id": "edb804ff",
   "metadata": {},
   "source": [
    "The `npm exec` command allows you to run the package. The following code invokes the installed `cowsay` package:"
   ]
  },
  {
   "cell_type": "code",
   "execution_count": 11,
   "id": "57e78858",
   "metadata": {
    "vscode": {
     "languageId": "shellscript"
    }
   },
   "outputs": [
    {
     "name": "stdout",
     "output_type": "stream",
     "text": [
      " _____________\n",
      "< hello, npm! >\n",
      " -------------\n",
      "        \\   ^__^\n",
      "         \\  (oo)\\_______\n",
      "            (__)\\       )\\/\\\n",
      "                ||----w |\n",
      "                ||     ||\n"
     ]
    }
   ],
   "source": [
    "npm exec cowsay \"hello, npm!\""
   ]
  }
 ],
 "metadata": {
  "kernelspec": {
   "display_name": "Bash",
   "language": "bash",
   "name": "bash"
  },
  "language_info": {
   "codemirror_mode": "shell",
   "file_extension": ".sh",
   "mimetype": "text/x-sh",
   "name": "bash"
  }
 },
 "nbformat": 4,
 "nbformat_minor": 5
}
