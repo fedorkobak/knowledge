{
 "cells": [
  {
   "cell_type": "markdown",
   "metadata": {},
   "source": [
    "# Java script\n",
    "\n",
    "This section focuses on the Javascript programming language."
   ]
  },
  {
   "cell_type": "markdown",
   "metadata": {},
   "source": [
    "## Js in jupyter\n",
    "\n",
    "This site uses jupyter as the main source of page construction. Fortunately, there are ready tools that allow to use java script inside jupyter notebooks [ijavascript](https://github.com/n-riesco/ijavascript). Finally, you'll be able to use Java script in Jupyter Notebook."
   ]
  },
  {
   "cell_type": "code",
   "execution_count": 1,
   "metadata": {},
   "outputs": [
    {
     "name": "stdout",
     "output_type": "stream",
     "text": [
      "hello world\n"
     ]
    }
   ],
   "source": [
    "console.log(\"hello world\")"
   ]
  },
  {
   "cell_type": "markdown",
   "metadata": {},
   "source": [
    "## Fetch\n",
    "\n",
    "`fetch` is a command that allows you to request a specific resource."
   ]
  },
  {
   "cell_type": "markdown",
   "metadata": {},
   "source": [
    "---\n",
    "\n",
    "The following cell fetches `google.com`. At first we got promise."
   ]
  },
  {
   "cell_type": "code",
   "execution_count": 13,
   "metadata": {},
   "outputs": [
    {
     "data": {
      "text/plain": [
       "Promise { <pending> }"
      ]
     },
     "execution_count": 13,
     "metadata": {},
     "output_type": "execute_result"
    }
   ],
   "source": [
    "response = fetch(\"http://google.com\")\n",
    "console.log(response.text())"
   ]
  },
  {
   "cell_type": "markdown",
   "metadata": {},
   "source": [
    "Here is an example of getting the body of the request."
   ]
  },
  {
   "cell_type": "code",
   "execution_count": 12,
   "metadata": {},
   "outputs": [
    {
     "data": {
      "text/plain": [
       "Promise { <pending> }"
      ]
     },
     "execution_count": 12,
     "metadata": {},
     "output_type": "execute_result"
    },
    {
     "name": "stdout",
     "output_type": "stream",
     "text": [
      "<!doctype html><html itemscope=\"\" itemtype=\"http://schema.org/WebPage\" lang=\"be\"><head><meta content=\"text/html; charset=UTF-8\" http-equiv=\"Content-Type\"><meta content=\"/images/branding/googleg/1x/googleg_standard_color_128dp.png\" itemprop=\"image\"><title>Google</title><script nonce=\"pbu9HjIpUo4EocUyfZEC3w\">(function(){var _g={kEI:'07KoZo36NZKN9u8P9vGlgAg',kEXPI:'0,202727,2301798,1195774,643,439,7,536431,2226,2872,2891,8349,64701,179964,2,38003,1758,6700,41948,57734,2,2,1,24626,2006,8155,23350,22436,9779,62658,73178,3030,15816,1804,14360,6652,26070,1632,29279,12990,5226769,5992430,552,2840130,325,23937418,2861630,1182080,16673,43886,3,318,4,1281,3,2124363,23029351,6869,5930,19164,134,33802,47381,11647,10975,12953,2212,8182,153,1323,2,47951,10085,11587,6752,155,2484,4400,16840,6599,2540,4599,207,121,1543,1674,4,3004,2949,4987,2481,1144,8112,410,518,3305,2414,1010,660,5633,687,2929,819,2844,85,1119,3,1771,1244,2695,3014,1465,4425,2,2,1870,5568,682,659,5675,174,337,1662,132,3,3810,270,495,1150,1926,286,2,9,623,3374,3,818,3500,249,294,4550,122,1,6,534,983,1,729,369,3,195,917,795,181,1,3,307,222,1858,2,4995,1987,873,796,1229,699,1223,2945,658,1068,2379,1101,126,53,205,385,463,1327,635,127,572,98,2392,216,2,230,678,7,6,5,1538,701,1430,32,959,1,26,4,1021,4,3,1321,78,275,1107,58,442,107,517,99,65,275,122,602,512,239,195,405,231,20,371,9,565,860,5537,47,4,731,924,4,453,193,55,153,57,340,1,8,1,1,4,1,14,687,431,1849,137,215,369,1000,2,464,275,940,1342,600,4,87,503,158,332,447,3,39,51,98,94,11,914,4,249,322,473,4,1,6,191,708,998,1407,21151974,365638,3,10458,4017,3,7053,275,837,47,616,1543,1988,474',kBL:'AWsP',kOPI:89978449};(function(){var a;((a=window.google)==null?0:a.stvsc)?google.kEI=_g.kEI:window.google=_g;}).call(this);})();(function(){google.sn='webhp';google.kHL='be';})();(function(){\n",
      "var h=this||self;function l(){return window.google!==void 0&&window.google.kOPI!==void 0&&window.google.kOPI!==0?window.google.kOPI:null};var m,n=[];function p(a){for(var b;a&&(!a.getAttribute||!(b=a.getAttribute(\"eid\")));)a=a.parentNode;return b||m}function q(a){for(var b=null;a&&(!a.getAttribute||!(b=a.getAttribute(\"leid\")));)a=a.parentNode;return b}function r(a){/^http:/i.test(a)&&window.location.protocol===\"https:\"&&(google.ml&&google.ml(Error(\"a\"),!1,{src:a,glmm:1}),a=\"\");return a}\n",
      "function t(a,b,c,d,k){var e=\"\";b.search(\"&ei=\")===-1&&(e=\"&ei=\"+p(d),b.search(\"&lei=\")===-1&&(d=q(d))&&(e+=\"&lei=\"+d));d=\"\";var g=b.search(\"&cshid=\")===-1&&a!==\"slh\",f=[];f.push([\"zx\",Date.now().toString()]);h._cshid&&g&&f.push([\"cshid\",h._cshid]);c=c();c!=null&&f.push([\"opi\",c.toString()]);for(c=0;c<f.length;c++){if(c===0||c>0)d+=\"&\";d+=f[c][0]+\"=\"+f[c][1]}return\"/\"+(k||\"gen_204\")+\"?atyp=i&ct=\"+String(a)+\"&cad=\"+(b+e+d)};m=google.kEI;google.getEI=p;google.getLEI=q;google.ml=function(){return null};google.log=function(a,b,c,d,k,e){e=e===void 0?l:e;c||(c=t(a,b,e,d,k));if(c=r(c)){a=new Image;var g=n.length;n[g]=a;a.onerror=a.onload=a.onabort=function(){delete n[g]};a.src=c}};google.logUrl=function(a,b){b=b===void 0?l:b;return t(\"\",a,b)};}).call(this);(function(){google.y={};google.sy=[];var d;(d=google).x||(d.x=function(a,b){if(a)var c=a.id;else{do c=Math.random();while(google.y[c])}google.y[c]=[a,b];return!1});var e;(e=google).sx||(e.sx=function(a){google.sy.push(a)});google.lm=[];var f;(f=google).plm||(f.plm=function(a){google.lm.push.apply(google.lm,a)});google.lq=[];var g;(g=google).load||(g.load=function(a,b,c){google.lq.push([[a],b,c])});var h;(h=google).loadAll||(h.loadAll=function(a,b){google.lq.push([a,b])});google.bx=!1;var k;(k=google).lx||(k.lx=function(){});var l=[],m;(m=google).fce||(m.fce=function(a,b,c,n){l.push([a,b,c,n])});google.qce=l;}).call(this);google.f={};(function(){\n",
      "document.documentElement.addEventListener(\"submit\",function(b){var a;if(a=b.target){var c=a.getAttribute(\"data-submitfalse\");a=c===\"1\"||c===\"q\"&&!a.elements.q.value?!0:!1}else a=!1;a&&(b.preventDefault(),b.stopPropagation())},!0);document.documentElement.addEventListener(\"click\",function(b){var a;a:{for(a=b.target;a&&a!==document.documentElement;a=a.parentElement)if(a.tagName===\"A\"){a=a.getAttribute(\"data-nohref\")===\"1\";break a}a=!1}a&&b.preventDefault()},!0);}).call(this);</script><style>#gbar,#guser{font-size:13px;padding-top:1px !important;}#gbar{height:22px}#guser{padding-bottom:7px !important;text-align:right}.gbh,.gbd{border-top:1px solid #c9d7f1;font-size:1px}.gbh{height:0;position:absolute;top:24px;width:100%}@media all{.gb1{height:22px;margin-right:.5em;vertical-align:top}#gbar{float:left}}a.gb1,a.gb4{text-decoration:underline !important}a.gb1,a.gb4{color:#00c !important}.gbi .gb4{color:#dd8e27 !important}.gbf .gb4{color:#900 !important}\n",
      "</style><style>body,td,a,p,.h{font-family:arial,sans-serif}body{margin:0;overflow-y:scroll}#gog{padding:3px 8px 0}td{line-height:.8em}.gac_m td{line-height:17px}form{margin-bottom:20px}.h{color:#1967d2}em{font-weight:bold;font-style:normal}.lst{height:25px;width:496px}.gsfi,.lst{font:18px arial,sans-serif}.gsfs{font:17px arial,sans-serif}.ds{display:inline-box;display:inline-block;margin:3px 0 4px;margin-left:4px}input{font-family:inherit}body{background:#fff;color:#000}a{color:#681da8;text-decoration:none}a:hover,a:active{text-decoration:underline}.fl a{color:#1967d2}a:visited{color:#681da8}.sblc{padding-top:5px}.sblc a{display:block;margin:2px 0;margin-left:13px;font-size:11px}.lsbb{background:#f8f9fa;border:solid 1px;border-color:#dadce0 #70757a #70757a #dadce0;height:30px}.lsbb{display:block}#WqQANb a{display:inline-block;margin:0 12px}.lsb{background:url(/images/nav_logo229.png) 0 -261px repeat-x;color:#000;border:none;cursor:pointer;height:30px;margin:0;outline:0;font:15px arial,sans-serif;vertical-align:top}.lsb:active{background:#dadce0}.lst:focus{outline:none}.Ucigb{width:458px}</style><script nonce=\"pbu9HjIpUo4EocUyfZEC3w\">(function(){window.google.erd={jsr:1,bv:2051,de:true};\n",
      "var g=this||self;var k,l=(k=g.mei)!=null?k:1,n,p=(n=g.sdo)!=null?n:!0,q=0,r,t=google.erd,v=t.jsr;google.ml=function(a,b,d,m,e){e=e===void 0?2:e;b&&(r=a&&a.message);d===void 0&&(d={});d.cad=\"ple_\"+google.ple+\".aple_\"+google.aple;if(google.dl)return google.dl(a,e,d,!0),null;b=d;if(v<0){window.console&&console.error(a,b);if(v===-2)throw a;b=!1}else b=!a||!a.message||a.message===\"Error loading script\"||q>=l&&!m?!1:!0;if(!b)return null;q++;d=d||{};b=encodeURIComponent;var c=\"/gen_204?atyp=i&ei=\"+b(google.kEI);google.kEXPI&&(c+=\"&jexpid=\"+b(google.kEXPI));c+=\"&srcpg=\"+b(google.sn)+\"&jsr=\"+b(t.jsr)+\n",
      "\"&bver=\"+b(t.bv);t.dpf&&(c+=\"&dpf=\"+b(t.dpf));var f=a.lineNumber;f!==void 0&&(c+=\"&line=\"+f);var h=a.fileName;h&&(h.indexOf(\"-extension:/\")>0&&(e=3),c+=\"&script=\"+b(h),f&&h===window.location.href&&(f=document.documentElement.outerHTML.split(\"\\n\")[f],c+=\"&cad=\"+b(f?f.substring(0,300):\"No script found.\")));google.ple&&google.ple===1&&(e=2);c+=\"&jsel=\"+e;for(var u in d)c+=\"&\",c+=b(u),c+=\"=\",c+=b(d[u]);c=c+\"&emsg=\"+b(a.name+\": \"+a.message);c=c+\"&jsst=\"+b(a.stack||\"N/A\");c.length>=12288&&(c=c.substr(0,12288));a=c;m||google.log(0,\"\",a);return a};window.onerror=function(a,b,d,m,e){r!==a&&(a=e instanceof Error?e:Error(a),d===void 0||\"lineNumber\"in a||(a.lineNumber=d),b===void 0||\"fileName\"in a||(a.fileName=b),google.ml(a,!1,void 0,!1,a.name===\"SyntaxError\"||a.message.substring(0,11)===\"SyntaxError\"||a.message.indexOf(\"Script error\")!==-1?3:0));r=null;p&&q>=l&&(window.onerror=null)};})();</script></head><body bgcolor=\"#fff\"><script nonce=\"pbu9HjIpUo4EocUyfZEC3w\">(function(){var src='/images/nav_logo229.png';var iesg=false;document.body.onload = function(){window.n && window.n();if (document.images){new Image().src=src;}\n",
      "if (!iesg){document.f&&document.f.q.focus();document.gbqf&&document.gbqf.q.focus();}\n",
      "}\n",
      "})();</script><div id=\"mngb\"><div id=gbar><nobr><b class=gb1>&#1055;&#1086;&#1096;&#1091;&#1082;</b> <a class=gb1 href=\"https://www.google.com/imghp?hl=be&tab=wi\">&#1042;&#1110;&#1076;&#1072;&#1088;&#1099;&#1089;&#1099;</a> <a class=gb1 href=\"http://maps.google.by/maps?hl=be&tab=wl\">&#1050;&#1072;&#1088;&#1090;&#1099;</a> <a class=gb1 href=\"https://play.google.com/?hl=be&tab=w8\">Play</a> <a class=gb1 href=\"https://www.youtube.com/?tab=w1\">YouTube</a> <a class=gb1 href=\"https://news.google.com/?tab=wn\">&#1053;&#1072;&#1074;&#1110;&#1085;&#1099;</a> <a class=gb1 href=\"https://mail.google.com/mail/?tab=wm\">Gmail</a> <a class=gb1 href=\"https://drive.google.com/?tab=wo\">&#1044;&#1099;&#1089;&#1082;</a> <a class=gb1 style=\"text-decoration:none\" href=\"https://www.google.by/intl/be/about/products?tab=wh\"><u>&#1071;&#1096;&#1095;&#1101;</u> &raquo;</a></nobr></div><div id=guser width=100%><nobr><span id=gbn class=gbi></span><span id=gbf class=gbf></span><span id=gbe></span><a href=\"http://www.google.by/history/optout?hl=be\" class=gb4>&#1043;&#1110;&#1089;&#1090;&#1086;&#1088;&#1099;&#1103; &#1087;&#1086;&#1096;&#1091;&#1082;&#1091;</a> | <a  href=\"/preferences?hl=be\" class=gb4>&#1053;&#1072;&#1083;&#1072;&#1076;&#1099;</a> | <a target=_top id=gb_70 href=\"https://accounts.google.com/ServiceLogin?hl=be&passive=true&continue=http://www.google.com/&ec=GAZAAQ\" class=gb4>&#1059;&#1074;&#1072;&#1081;&#1089;&#1094;&#1110;</a></nobr></div><div class=gbh style=left:0></div><div class=gbh style=right:0></div></div><center><br clear=\"all\" id=\"lgpd\"><div id=\"XjhHGf\"><img alt=\"Google\" height=\"92\" src=\"/images/branding/googlelogo/1x/googlelogo_white_background_color_272x92dp.png\" style=\"padding:28px 0 14px\" width=\"272\" id=\"hplogo\"><br><br></div><form action=\"/search\" name=\"f\"><table cellpadding=\"0\" cellspacing=\"0\"><tr valign=\"top\"><td width=\"25%\">&nbsp;</td><td align=\"center\" nowrap=\"\"><input name=\"ie\" value=\"ISO-8859-1\" type=\"hidden\"><input value=\"be\" name=\"hl\" type=\"hidden\"><input name=\"source\" type=\"hidden\" value=\"hp\"><input name=\"biw\" type=\"hidden\"><input name=\"bih\" type=\"hidden\"><div class=\"ds\" style=\"height:32px;margin:4px 0\"><div style=\"position:relative;zoom:1\"><input class=\"lst Ucigb\" style=\"margin:0;padding:5px 8px 0 6px;vertical-align:top;color:#000;padding-right:38px\" value=\"\" title=\"&#1055;&#1086;&#1096;&#1091;&#1082; Google\" maxlength=\"2048\" name=\"q\" size=\"57\"><img src=\"/textinputassistant/tia.png\" style=\"position:absolute;cursor:pointer;right:5px;top:4px;z-index:300\" data-script-url=\"/textinputassistant/13/be_tia.js\" id=\"tsuid_1\" alt=\"\" height=\"23\" width=\"27\"><script nonce=\"pbu9HjIpUo4EocUyfZEC3w\">(function(){var id='tsuid_1';document.getElementById(id).onclick = function(){var s = document.createElement('script');s.src = this.getAttribute('data-script-url');document.body.appendChild(s);};})();</script></div></div><br style=\"line-height:0\"><span class=\"ds\"><span class=\"lsbb\"><input class=\"lsb\" value=\"&#1055;&#1086;&#1096;&#1091;&#1082; Google\" name=\"btnG\" type=\"submit\"></span></span><span class=\"ds\"><span class=\"lsbb\"><input class=\"lsb\" id=\"tsuid_2\" value=\"&#1052;&#1085;&#1077; &#1087;&#1072;&#1096;&#1072;&#1085;&#1094;&#1091;&#1077;\" name=\"btnI\" type=\"submit\"><script nonce=\"pbu9HjIpUo4EocUyfZEC3w\">(function(){var id='tsuid_2';document.getElementById(id).onclick = function(){if (this.form.q.value){this.checked = 1;if (this.form.iflsig)this.form.iflsig.disabled = false;}\n",
      "else top.location='/doodles/';};})();</script><input value=\"AL9hbdgAAAAAZqjA43UwxCnXvvPWozFz03iafV5Jw68B\" name=\"iflsig\" type=\"hidden\"></span></span></td><td class=\"fl sblc\" align=\"left\" nowrap=\"\" width=\"25%\"><a href=\"/advanced_search?hl=be&amp;authuser=0\">&#1055;&#1072;&#1096;&#1099;&#1088;&#1072;&#1085;&#1099; &#1087;&#1086;&#1096;&#1091;&#1082;</a></td></tr></table><input id=\"gbv\" name=\"gbv\" type=\"hidden\" value=\"1\"><script nonce=\"pbu9HjIpUo4EocUyfZEC3w\">(function(){var a,b=\"1\";if(document&&document.getElementById)if(typeof XMLHttpRequest!=\"undefined\")b=\"2\";else if(typeof ActiveXObject!=\"undefined\"){var c,d,e=[\"MSXML2.XMLHTTP.6.0\",\"MSXML2.XMLHTTP.3.0\",\"MSXML2.XMLHTTP\",\"Microsoft.XMLHTTP\"];for(c=0;d=e[c++];)try{new ActiveXObject(d),b=\"2\"}catch(h){}}a=b;if(a==\"2\"&&location.search.indexOf(\"&gbv=2\")==-1){var f=google.gbvu,g=document.getElementById(\"gbv\");g&&(g.value=a);f&&window.setTimeout(function(){location.href=f},0)};}).call(this);</script></form><div style=\"font-size:83%;min-height:3.5em\"><br><div id=\"gws-output-pages-elements-homepage_additional_languages__als\"><style>#gws-output-pages-elements-homepage_additional_languages__als{font-size:small;margin-bottom:24px}#SIvCob{color:#474747;display:inline-block;line-height:28px;}#SIvCob a{padding:0 3px;}.H6sW5{display:inline-block;margin:0 2px;white-space:nowrap}.z4hgWe{display:inline-block;margin:0 2px}</style><div id=\"SIvCob\">&#1044;&#1072;&#1089;&#1090;&#1091;&#1087;&#1085;&#1072;&#1103; &#1084;&#1086;&#1074;&#1072;:  <a href=\"http://www.google.com/setprefs?sig=0_5x4BGkjBImNuMWwSXLesmf3j4vA%3D&amp;hl=ru&amp;source=homepage&amp;sa=X&amp;ved=0ahUKEwjNr8aVus6HAxWShv0HHfZ4CYAQ2ZgBCAY\">&#1088;&#1091;&#1089;&#1089;&#1082;&#1080;&#1081;</a>  </div></div></div><span id=\"footer\"><div style=\"font-size:10pt\"><div style=\"margin:19px auto;text-align:center\" id=\"WqQANb\"><a href=\"/intl/be/ads/\">&#1056;&#1101;&#1082;&#1083;&#1072;&#1084;&#1072;</a><a href=\"/intl/be/about.html\">&#1059;&#1089;&#1105; &#1087;&#1088;&#1072; Google</a><a href=\"http://www.google.com/setprefdomain?prefdom=BY&amp;prev=http://www.google.by/&amp;sig=K_DjM7c_RiWGHvB9p1cJw55hfoWwU%3D\">Google.by</a></div></div><p style=\"font-size:8pt;color:#70757a\">&copy; 2024</p></span></center><script nonce=\"pbu9HjIpUo4EocUyfZEC3w\">(function(){window.google.cdo={height:757,width:1440};(function(){var a=window.innerWidth,b=window.innerHeight;if(!a||!b){var c=window.document,d=c.compatMode==\"CSS1Compat\"?c.documentElement:c.body;a=d.clientWidth;b=d.clientHeight}\n",
      "if(a&&b&&(a!=google.cdo.width||b!=google.cdo.height)){var e=google,f=e.log,g=\"/client_204?&atyp=i&biw=\"+a+\"&bih=\"+b+\"&ei=\"+google.kEI,h=\"\",k=[],l=window.google!==void 0&&window.google.kOPI!==void 0&&window.google.kOPI!==0?window.google.kOPI:null;l!=null&&k.push([\"opi\",l.toString()]);for(var m=0;m<k.length;m++){if(m===0||m>0)h+=\"&\";h+=k[m][0]+\"=\"+k[m][1]}f.call(e,\"\",\"\",g+h)};}).call(this);})();</script>  <script nonce=\"pbu9HjIpUo4EocUyfZEC3w\">(function(){google.xjs={basecomb:'/xjs/_/js/k\\x3dxjs.hp.en.p17nA0tNEUQ.O/ck\\x3dxjs.hp.9WJsH2pWao8.L.X.O/am\\x3dAQAACAAAAAAAAAAAAAAAAAAAAAAAAgAAAAAAAAAAA-AAAABAAEAgAAAAAAAPAAAAAgAAACAEAIABIAAAHIjvCAAEwCIAALw/d\\x3d1/ed\\x3d1/dg\\x3d0/ujg\\x3d1/rs\\x3dACT90oElrS-n2NCYgtPSvxkjQszGBiwQHg',basecss:'/xjs/_/ss/k\\x3dxjs.hp.9WJsH2pWao8.L.X.O/am\\x3dAQAACAAAAAAAAAAAAAAAAAAAAAAAAAAAAAAAAAAAAAAAAABAAEAgAAAAAAAAAAAAAgAAACAEAIABIA/rs\\x3dACT90oFvvdApqbNrelWI2HrLfLE6H4TpPA',basejs:'/xjs/_/js/k\\x3dxjs.hp.en.p17nA0tNEUQ.O/am\\x3dAAAAAAAAAAAAAAAAAAAAAAAAAAAAAgAAAAAAAAAAA-AAAAAAAAAAAAAAAAAPAAAAAAAAAAAAAAAAAAAAHIjvCAAEwCIAALw/dg\\x3d0/rs\\x3dACT90oGpGWpxuHAXbS5TkC6VWfrh40-3cQ',excm:[]};})();</script>  <link href=\"/xjs/_/ss/k=xjs.hp.9WJsH2pWao8.L.X.O/am=AQAACAAAAAAAAAAAAAAAAAAAAAAAAAAAAAAAAAAAAAAAAABAAEAgAAAAAAAAAAAAAgAAACAEAIABIA/d=1/ed=1/rs=ACT90oFvvdApqbNrelWI2HrLfLE6H4TpPA/m=d\" rel=\"stylesheet\" nonce=\"pbu9HjIpUo4EocUyfZEC3w\">      <script nonce=\"pbu9HjIpUo4EocUyfZEC3w\">(function(){var u='/xjs/_/js/k\\x3dxjs.hp.en.p17nA0tNEUQ.O/am\\x3dAAAAAAAAAAAAAAAAAAAAAAAAAAAAAgAAAAAAAAAAA-AAAAAAAAAAAAAAAAAPAAAAAAAAAAAAAAAAAAAAHIjvCAAEwCIAALw/d\\x3d1/ed\\x3d1/dg\\x3d3/rs\\x3dACT90oGpGWpxuHAXbS5TkC6VWfrh40-3cQ/m\\x3dd';var st=1;var amd=1000;var mmd=0;var pod=true;\n",
      "var f=this||self,g=function(a){return a};var h;var k=function(a){this.g=a};k.prototype.toString=function(){return this.g+\"\"};var l=function(a){return a instanceof k&&a.constructor===k?a.g:\"type_error:TrustedResourceUrl\"},m={};\n",
      "var n=/^\\s*(?!javascript:)(?:[\\w+.-]+:|[^:/?#]*(?:[/?#]|$))/i;var p=\"alternate author bookmark canonical cite help icon license modulepreload next prefetch dns-prefetch prerender preconnect preload prev search subresource\".split(\" \");function q(a,b){a.src=l(b);var c,d;(c=(b=(d=(c=(a.ownerDocument&&a.ownerDocument.defaultView||window).document).querySelector)==null?void 0:d.call(c,\"script[nonce]\"))?b.nonce||b.getAttribute(\"nonce\")||\"\":\"\")&&a.setAttribute(\"nonce\",c)};var r=function(a){var b=document;a=String(a);b.contentType===\"application/xhtml+xml\"&&(a=a.toLowerCase());return b.createElement(a)};function t(a){a=a===null?\"null\":a===void 0?\"undefined\":a;if(h===void 0){var b=null;var c=f.trustedTypes;if(c&&c.createPolicy){try{b=c.createPolicy(\"goog#html\",{createHTML:g,createScript:g,createScriptURL:g})}catch(d){f.console&&f.console.error(d.message)}h=b}else h=b}a=(b=h)?b.createScriptURL(a):a;return new k(a,m)};google.ps===void 0&&(google.ps=[]);function w(){var a=u,b=function(){};google.lx=google.stvsc?b:function(){x(a);google.lx=b};google.bx||google.lx()}function y(a,b){b&&q(a,t(b));var c=a.onload;a.onload=function(d){c&&c(d);google.ps=google.ps.filter(function(e){return a!==e})};google.ps.push(a);document.body.appendChild(a)}google.as=y;function x(a){google.timers&&google.timers.load&&google.tick&&google.tick(\"load\",\"xjsls\");var b=r(\"SCRIPT\");b.onerror=function(){google.ple=1};b.onload=function(){google.ple=0};google.xjsus=void 0;y(b,a);google.aple=-1;google.dp=!0}\n",
      "function z(){var a=[u];if(!google.dp){for(var b=0;b<a.length;b++){var c=r(\"LINK\"),d=c,e=t(a[b]);if(e instanceof k)d.href=l(e).toString(),d.rel=\"preload\";else{if(p.indexOf(\"preload\")===-1)throw Error(\"a`preload\");e=n.test(e)?e:void 0;e!==void 0&&(d.href=e,d.rel=\"preload\")}c.setAttribute(\"as\",\"script\");document.body.appendChild(c)}google.dp=!0}};function A(a){var b=a.getAttribute(\"jscontroller\");return(b===\"UBXHI\"||b===\"R3fhkb\"||b===\"TSZEqd\")&&a.hasAttribute(\"data-src\")}function B(){for(var a=document.getElementsByTagName(\"img\"),b=0,c=a.length;b<c;b++){var d=a[b];if(d.hasAttribute(\"data-lzy_\")&&Number(d.getAttribute(\"data-atf\"))&1&&!A(d))return!0}return!1}for(var C=document.getElementsByTagName(\"img\"),D=0,E=C.length;D<E;++D){var F=C[D];Number(F.getAttribute(\"data-atf\"))&1&&A(F)&&(F.src=F.getAttribute(\"data-src\"))};var G,H,I,J,K;function L(){google.xjsu=u;f._F_jsUrl=u;J=function(){w()};G=!1;H=(st===1||st===3)&&!!google.caft&&!B();I=(st===2||st===3)&&!!google.rairicb&&!B();K=pod}function M(){G||H||I||(J(),G=!0)}setTimeout(function(){google&&google.tick&&google.timers&&google.timers.load&&google.tick(\"load\",\"xjspls\");L();if(H||I){if(H){var a=function(){H=!1;M()};google.caft(a);window.setTimeout(a,amd)}I&&(a=function(){I=!1;M()},(0,google.rairicb)(a),window.setTimeout(a,mmd));K&&(G||z())}else J()},0);})();window._ = window._ || {};window._DumpException = _._DumpException = function(e){throw e;};window._s = window._s || {};_s._DumpException = _._DumpException;window._qs = window._qs || {};_qs._DumpException = _._DumpException;(function(){var t=[134217729,0,0,0,0,655360,0,134259200,8445971,65540,536871428,62914848,33554432,0,402653250,2576,149915676,185077760,197132290];window._F_toggles = window._xjs_toggles = t;})();window._F_installCss = window._F_installCss || function(css){};(function(){google.jl={bfl:0,dw:false,ine:false,ubm:false,uwp:true,vs:false};})();(function(){var pmc='{\\x22d\\x22:{}}';google.pmc=JSON.parse(pmc);})();(function(){var b=function(a){var c=0;return function(){return c<a.length?{done:!1,value:a[c++]}:{done:!0}}};\n",
      "var e=this||self;var g,h;a:{for(var k=[\"CLOSURE_FLAGS\"],l=e,n=0;n<k.length;n++)if(l=l[k[n]],l==null){h=null;break a}h=l}var p=h&&h[610401301];g=p!=null?p:!1;var q,r=e.navigator;q=r?r.userAgentData||null:null;function t(a){return g?q?q.brands.some(function(c){return(c=c.brand)&&c.indexOf(a)!=-1}):!1:!1}function u(a){var c;a:{if(c=e.navigator)if(c=c.userAgent)break a;c=\"\"}return c.indexOf(a)!=-1};function v(){return g?!!q&&q.brands.length>0:!1}function w(){return u(\"Safari\")&&!(x()||(v()?0:u(\"Coast\"))||(v()?0:u(\"Opera\"))||(v()?0:u(\"Edge\"))||(v()?t(\"Microsoft Edge\"):u(\"Edg/\"))||(v()?t(\"Opera\"):u(\"OPR\"))||u(\"Firefox\")||u(\"FxiOS\")||u(\"Silk\")||u(\"Android\"))}function x(){return v()?t(\"Chromium\"):(u(\"Chrome\")||u(\"CriOS\"))&&!(v()?0:u(\"Edge\"))||u(\"Silk\")}function y(){return u(\"Android\")&&!(x()||u(\"Firefox\")||u(\"FxiOS\")||(v()?0:u(\"Opera\"))||u(\"Silk\"))};var z=v()?!1:u(\"Trident\")||u(\"MSIE\");y();x();w();var A=!z&&!w(),D=function(a){if(/-[a-z]/.test(\"ved\"))return null;if(A&&a.dataset){if(y()&&!(\"ved\"in a.dataset))return null;a=a.dataset.ved;return a===void 0?null:a}return a.getAttribute(\"data-\"+\"ved\".replace(/([A-Z])/g,\"-$1\").toLowerCase())};var E=[],F=null;function G(a){a=a.target;var c=performance.now(),f=[],H=f.concat,d=E;if(!(d instanceof Array)){var m=typeof Symbol!=\"undefined\"&&Symbol.iterator&&d[Symbol.iterator];if(m)d=m.call(d);else if(typeof d.length==\"number\")d={next:b(d)};else throw Error(\"b`\"+String(d));for(var B=[];!(m=d.next()).done;)B.push(m.value);d=B}E=H.call(f,d,[c]);if(a&&a instanceof HTMLElement)if(a===F){if(c=E.length>=4)c=(E[E.length-1]-E[E.length-4])/1E3<5;if(c){c=google.getEI(a);a.hasAttribute(\"data-ved\")?f=a?D(a)||\"\":\"\":f=(f=\n",
      "a.closest(\"[data-ved]\"))?D(f)||\"\":\"\";f=f||\"\";if(a.hasAttribute(\"jsname\"))a=a.getAttribute(\"jsname\");else{var C;a=(C=a.closest(\"[jsname]\"))==null?void 0:C.getAttribute(\"jsname\")}google.log(\"rcm\",\"&ei=\"+c+\"&tgtved=\"+f+\"&jsname=\"+(a||\"\"))}}else F=a,E=[c]}window.document.addEventListener(\"DOMContentLoaded\",function(){document.body.addEventListener(\"click\",G)});}).call(this);</script></body></html>\n"
     ]
    }
   ],
   "source": [
    "fetch(\"http://google.com\")\n",
    "  .then(response => {\n",
    "    // Check if the response is okay (status code is in the range 200-299)\n",
    "    if (!response.ok) {\n",
    "      throw new Error('Network response was not ok');\n",
    "    }\n",
    "    return response.text(); // or response.json() if the body is JSON\n",
    "  })\n",
    "  .then(data => {\n",
    "    console.log(data); // This is the body of the response\n",
    "  })\n",
    "  .catch(error => {\n",
    "    console.error('There was a problem with the fetch operation:', error);\n",
    "  });"
   ]
  }
 ],
 "metadata": {
  "kernelspec": {
   "display_name": "JavaScript (Node.js)",
   "language": "javascript",
   "name": "javascript"
  },
  "language_info": {
   "file_extension": ".js",
   "mimetype": "application/javascript",
   "name": "javascript",
   "version": "20.16.0"
  }
 },
 "nbformat": 4,
 "nbformat_minor": 2
}
