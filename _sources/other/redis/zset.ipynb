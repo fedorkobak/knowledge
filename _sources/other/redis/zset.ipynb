{
 "cells": [
  {
   "cell_type": "markdown",
   "id": "9d6aa709-6ae1-41b3-ba4e-3e19e9ccf41b",
   "metadata": {},
   "source": [
    "# Zset\n",
    "\n",
    "This page focuses on the `zset` redis data structure. It discusses all the interesting ways to work with `zset`-s.\n",
    "\n",
    "Is a data structure where the number (score) corresponds to the value. This allows you to select values by the range of their scores."
   ]
  },
  {
   "cell_type": "markdown",
   "id": "cf03024c-1618-41a8-9bde-5f3afb600bf9",
   "metadata": {},
   "source": [
    "## Examples\n",
    "\n",
    "This section focuses on creating examples that we will use to show the possibilities of `zset`. It uses Python scripts, but the same result can be achieved using bash."
   ]
  },
  {
   "cell_type": "code",
   "execution_count": 1,
   "id": "77cb56b1-e5b2-4da2-85a1-83cfd9e59d85",
   "metadata": {},
   "outputs": [],
   "source": [
    "import redis\n",
    "import random\n",
    "from random import randint\n",
    "from datetime import datetime, timedelta"
   ]
  },
  {
   "cell_type": "markdown",
   "id": "9bbd5b91-e84e-4c1e-a4be-548a35e6123f",
   "metadata": {},
   "source": [
    "### Users registration time\n",
    "\n",
    "Here is a structure that groups users by the time they logged in. We have several users and for each of them we have the time of their registration as a timestamp."
   ]
  },
  {
   "cell_type": "code",
   "execution_count": 2,
   "id": "dd3141c5-f04d-48aa-a312-8472935b01c3",
   "metadata": {},
   "outputs": [
    {
     "data": {
      "text/plain": [
       "10"
      ]
     },
     "execution_count": 2,
     "metadata": {},
     "output_type": "execute_result"
    }
   ],
   "source": [
    "redis_client = redis.Redis()\n",
    "\n",
    "def random_timestamp(start_date, end_date):\n",
    "    start_timestamp = start_date.timestamp()\n",
    "    end_timestamp = end_date.timestamp()\n",
    "    random_timestamp = random.uniform(start_timestamp, end_timestamp)\n",
    "    return random_timestamp\n",
    "\n",
    "start_date = datetime(2023, 1, 1)\n",
    "end_date = datetime(2024, 1, 1)\n",
    "\n",
    "redis_client.zadd(\n",
    "    \"user-reg-time\",\n",
    "    {\n",
    "        f\"user {i}\" : random_timestamp(start_date, end_date)\n",
    "        for i in range(10)\n",
    "    }\n",
    ")"
   ]
  },
  {
   "cell_type": "markdown",
   "id": "38749914-01b9-4d3a-a443-7a7f5a28561d",
   "metadata": {},
   "source": [
    "Now let's print out all the users created and their registration times."
   ]
  },
  {
   "cell_type": "code",
   "execution_count": 3,
   "id": "c5daa213-b1e9-4383-9c3c-9a4909d0aa39",
   "metadata": {},
   "outputs": [
    {
     "name": "stdout",
     "output_type": "stream",
     "text": [
      "user 5 - 2023-01-15 03:11:18.267834\n",
      "user 7 - 2023-02-08 12:07:52.267084\n",
      "user 6 - 2023-04-10 12:30:26.944155\n",
      "user 8 - 2023-04-15 03:47:14.111956\n",
      "user 0 - 2023-08-14 14:59:04.432249\n",
      "user 2 - 2023-08-19 12:23:50.033691\n",
      "user 1 - 2023-08-25 15:50:47.911412\n",
      "user 4 - 2023-09-30 18:21:52.614111\n",
      "user 3 - 2023-10-30 16:47:43.209924\n",
      "user 9 - 2023-12-06 01:44:23.209213\n"
     ]
    }
   ],
   "source": [
    "user_reg_time = redis_client.zrange(\n",
    "    \"user-reg-time\", 0, -1, withscores=True\n",
    ")\n",
    "for u, ts in user_reg_time:\n",
    "    print(f\"{u.decode('utf-8')} - {datetime.fromtimestamp(ts)}\")"
   ]
  },
  {
   "cell_type": "markdown",
   "id": "c289ae8c-f13a-4d4d-ad40-cc8dbc82a2b0",
   "metadata": {},
   "source": [
    "## Posts likes\n",
    "\n",
    "Here are a bunch of posts created. Each post has a certain number of likes:"
   ]
  },
  {
   "cell_type": "code",
   "execution_count": 4,
   "id": "308d879c-4650-4e2e-b509-f15e21b01dbd",
   "metadata": {},
   "outputs": [
    {
     "data": {
      "text/plain": [
       "0"
      ]
     },
     "execution_count": 4,
     "metadata": {},
     "output_type": "execute_result"
    }
   ],
   "source": [
    "redis_client.zadd(\n",
    "    \"post-likes\",\n",
    "    {\n",
    "        f\"post {p}\" : randint(50, 1000)\n",
    "        for p in range(10)\n",
    "    }\n",
    ")"
   ]
  },
  {
   "cell_type": "markdown",
   "id": "ef933896-1447-449c-b9fb-7d5289abbf02",
   "metadata": {},
   "source": [
    "Now let's print out different posts and the number of likes they receive."
   ]
  },
  {
   "cell_type": "code",
   "execution_count": 5,
   "id": "14654028-9a40-48a2-a488-19844b4f0503",
   "metadata": {},
   "outputs": [
    {
     "name": "stdout",
     "output_type": "stream",
     "text": [
      "post 3 - 166.0\n",
      "post 8 - 404.0\n",
      "post 4 - 440.0\n",
      "post 1 - 447.0\n",
      "post 6 - 479.0\n",
      "post 9 - 505.0\n",
      "post 0 - 589.0\n",
      "post 5 - 880.0\n",
      "post 2 - 903.0\n",
      "post 7 - 991.0\n"
     ]
    }
   ],
   "source": [
    "post_like = redis_client.zrange(\n",
    "    \"post-likes\", 0, -1, withscores=True\n",
    ")\n",
    "for p, nl in post_like:\n",
    "    print(f\"{p.decode('utf-8')} - {nl}\")"
   ]
  },
  {
   "cell_type": "markdown",
   "id": "174c7a73-f73f-4155-b933-a6d2174d64d9",
   "metadata": {},
   "source": [
    "Don't forget to close `redis_client` when you are done with the Python code."
   ]
  },
  {
   "cell_type": "code",
   "execution_count": 6,
   "id": "1ede20d7-608a-44fb-a2d9-c52343647553",
   "metadata": {},
   "outputs": [],
   "source": [
    "redis_client.close()"
   ]
  },
  {
   "cell_type": "markdown",
   "id": "5cc58e98-725e-45e0-8110-c2465e2a4c72",
   "metadata": {},
   "source": [
    "## zrange\n",
    "\n",
    "Is a command that allows you to get the elements of the zset according to their ranks."
   ]
  },
  {
   "cell_type": "markdown",
   "id": "f80a633d-581d-4cbe-bcdf-2214f258eb3b",
   "metadata": {},
   "source": [
    "Let's say we need to get the 3 earliest registered users. To achieve it we can execute command from the following cell:"
   ]
  },
  {
   "cell_type": "code",
   "execution_count": 5,
   "id": "0dcd2e3e-6aaf-40b4-b1d4-a9b16f65d767",
   "metadata": {},
   "outputs": [
    {
     "name": "stdout",
     "output_type": "stream",
     "text": [
      "1) \"user 5\"\n",
      "2) \"user 7\"\n",
      "3) \"user 6\"\n"
     ]
    }
   ],
   "source": [
    "!redis-cli ZRANGE user-reg-time 0 2"
   ]
  },
  {
   "cell_type": "markdown",
   "id": "188e3a3e-0666-42a2-ac14-1c4b8c5838a8",
   "metadata": {},
   "source": [
    "By adding the `withscores` option to the `zrange` command, you can specify that you want to see the scores as well. The following example shows what you'll get:"
   ]
  },
  {
   "cell_type": "code",
   "execution_count": 6,
   "id": "8557b8da-82e3-4c1f-bd59-8de809ebabbe",
   "metadata": {},
   "outputs": [
    {
     "name": "stdout",
     "output_type": "stream",
     "text": [
      " 1) \"user 5\"\n",
      " 2) \"1673741478.2678339\"\n",
      " 3) \"user 7\"\n",
      " 4) \"1675847272.2670836\"\n",
      " 5) \"user 6\"\n",
      " 6) \"1681119026.9441555\"\n",
      " 7) \"user 8\"\n",
      " 8) \"1681519634.1119561\"\n",
      " 9) \"user 0\"\n",
      "10) \"1692014344.4322493\"\n",
      "11) \"user 2\"\n",
      "12) \"1692437030.0336912\"\n",
      "13) \"user 1\"\n",
      "14) \"1692967847.9114122\"\n",
      "15) \"user 4\"\n",
      "16) \"1696087312.6141107\"\n",
      "17) \"user 3\"\n",
      "18) \"1698673663.2099235\"\n",
      "19) \"user 9\"\n",
      "20) \"1701816263.2092133\"\n"
     ]
    }
   ],
   "source": [
    "!redis-cli ZRANGE user-reg-time 0 -1 withscores"
   ]
  },
  {
   "cell_type": "markdown",
   "id": "a4687217-2a26-4d6f-b125-2939444f7ba0",
   "metadata": {},
   "source": [
    "## zrevrange\n",
    "\n",
    "The `ZREVRANGE` command in Redis is used to retrieve a range of elements from a sorted set in reverse order based on their scores."
   ]
  },
  {
   "cell_type": "markdown",
   "id": "91c4567d-45b2-4236-b1f3-0da00153a667",
   "metadata": {},
   "source": [
    "Outputs all users from the most recent registration to the newest."
   ]
  },
  {
   "cell_type": "code",
   "execution_count": 7,
   "id": "5fd19df0-caf1-46a4-a0bc-29a718ed3aa8",
   "metadata": {},
   "outputs": [
    {
     "name": "stdout",
     "output_type": "stream",
     "text": [
      " 1) \"user 9\"\n",
      " 2) \"user 3\"\n",
      " 3) \"user 4\"\n",
      " 4) \"user 1\"\n",
      " 5) \"user 2\"\n",
      " 6) \"user 0\"\n",
      " 7) \"user 8\"\n",
      " 8) \"user 6\"\n",
      " 9) \"user 7\"\n",
      "10) \"user 5\"\n"
     ]
    }
   ],
   "source": [
    "!redis-cli ZREVRANGE user-reg-time 0 -1"
   ]
  },
  {
   "cell_type": "markdown",
   "id": "b8107c9d-b22e-4aa4-9ce9-f475586fca55",
   "metadata": {},
   "source": [
    "## zrangebyscore\n",
    "\n",
    "You can use the `zrangebyscore` command to get values that correspond to a range of scores."
   ]
  },
  {
   "cell_type": "markdown",
   "id": "3bc8a4f0-8262-498c-a163-f7659b945dcf",
   "metadata": {},
   "source": [
    "So here is an option to get users who registered before 2023-06-01."
   ]
  },
  {
   "cell_type": "code",
   "execution_count": 7,
   "id": "a292b6c1-e5c0-4aac-a164-84ae9021c6f3",
   "metadata": {},
   "outputs": [
    {
     "name": "stdout",
     "output_type": "stream",
     "text": [
      "1) \"user 5\"\n",
      "2) \"user 0\"\n",
      "3) \"user 6\"\n",
      "4) \"user 7\"\n",
      "5) \"user 9\"\n"
     ]
    }
   ],
   "source": [
    "!redis-cli ZRANGEBYSCORE user-reg-time 0 $(date -d \"2023-06-01\" +%s)"
   ]
  },
  {
   "cell_type": "markdown",
   "id": "87d4ea7a-66d6-479c-bcbc-eff9a5b7cd8d",
   "metadata": {},
   "source": [
    "## zscore\n",
    "\n",
    "You can access socre by value using the `zscore` command."
   ]
  },
  {
   "cell_type": "code",
   "execution_count": 11,
   "id": "7c865bd4-9885-4e8f-b5e5-dd7149e9f3d9",
   "metadata": {},
   "outputs": [
    {
     "name": "stdout",
     "output_type": "stream",
     "text": [
      "\"1680923027.766844\"\n"
     ]
    }
   ],
   "source": [
    "!redis-cli zscore user-reg-time \"user 9\""
   ]
  },
  {
   "cell_type": "markdown",
   "id": "9a35c1a5-1362-4282-a69f-ad4f920e5ef3",
   "metadata": {},
   "source": [
    "## zincrby\n",
    "\n",
    "This command allows you to increase the score for a given value. The following example show how it works. "
   ]
  },
  {
   "cell_type": "markdown",
   "id": "6c69d2a4-acaa-4384-bac9-278b66360588",
   "metadata": {},
   "source": [
    "So the next cell shows how it works. Here is the number of likes for a particular post, and then `zincrby` adds some likes to that post and prints it out again."
   ]
  },
  {
   "cell_type": "code",
   "execution_count": 17,
   "id": "aee248b2-7ceb-47c2-8630-79ed157af0c8",
   "metadata": {},
   "outputs": [
    {
     "name": "stdout",
     "output_type": "stream",
     "text": [
      "447\n",
      "467\n",
      "467\n"
     ]
    }
   ],
   "source": [
    "%%bash\n",
    "redis-cli\n",
    "\n",
    "ZSCORE post-likes \"post 1\"\n",
    "ZINCRBY post-likes 20 \"post 1\"\n",
    "ZSCORE post-likes \"post 1\""
   ]
  },
  {
   "cell_type": "markdown",
   "id": "19cf3d11-b38d-42b3-b2ff-566abb922131",
   "metadata": {},
   "source": [
    "The result is that the score has increased by the number of points specified."
   ]
  },
  {
   "cell_type": "markdown",
   "id": "f3d56b08-2fdc-4290-b7eb-f75ce9f9849c",
   "metadata": {},
   "source": [
    "## Delete examples\n",
    "\n",
    "Don't forget to delete all crated entities to save globar redis clear."
   ]
  },
  {
   "cell_type": "code",
   "execution_count": 13,
   "id": "c045e16e-dd80-4afe-be1a-c85bce8dc23c",
   "metadata": {},
   "outputs": [
    {
     "name": "stdout",
     "output_type": "stream",
     "text": [
      "(integer) 2\n"
     ]
    }
   ],
   "source": [
    "!redis-cli DEL user-reg-time post-likes"
   ]
  }
 ],
 "metadata": {
  "kernelspec": {
   "display_name": "Python 3 (ipykernel)",
   "language": "python",
   "name": "python3"
  },
  "language_info": {
   "codemirror_mode": {
    "name": "ipython",
    "version": 3
   },
   "file_extension": ".py",
   "mimetype": "text/x-python",
   "name": "python",
   "nbconvert_exporter": "python",
   "pygments_lexer": "ipython3",
   "version": "3.10.12"
  }
 },
 "nbformat": 4,
 "nbformat_minor": 5
}
