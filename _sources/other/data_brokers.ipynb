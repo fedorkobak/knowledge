{
 "cells": [
  {
   "cell_type": "markdown",
   "id": "27849158",
   "metadata": {},
   "source": [
    "# Data brokers\n",
    "\n",
    "We will define the term \"data broker\" as a service whose main goal is to store data for the convenient use of other services."
   ]
  },
  {
   "cell_type": "markdown",
   "id": "76a4c80f",
   "metadata": {},
   "source": [
    "## Kafka\n",
    "\n",
    "Run the Kafka container using the following command:\n",
    "\n",
    "```bash\n",
    "docker run -p 9092:9092 -itd --name experimenting_kafka -v ./:/knowledge apache/kafka:4.0.0\n",
    "```\n",
    "\n",
    "In order to run notebooks, you are supposed to intsall python with some additional packages:\n",
    "\n",
    "```bash\n",
    "docker exec -u root experimenting_kafka apk add gcc python3-dev py3-pip musl-dev linux-headers\n",
    "docker exec experimenting_kafka python3 -m venv /home/appuser/venv\n",
    "docker exec experimenting_kafka /home/appuser/venv/bin/pip install ipykernel bash_kernel\n",
    "docker exec experimenting_kafka /home/appuser/venv/bin/python -m bash_kernel.install\n",
    "```\n",
    "\n",
    "So, finally, once you have successfully set up all the preparation in the folder `/opt/kafka/bin`, you should be able to see scripts to manipulate kafka. They are represented in the following cell:"
   ]
  },
  {
   "cell_type": "code",
   "execution_count": null,
   "id": "d31e75a6",
   "metadata": {
    "vscode": {
     "languageId": "shellscript"
    }
   },
   "outputs": [
    {
     "name": "stdout",
     "output_type": "stream",
     "text": [
      "connect-distributed.sh\t\t kafka-jmx.sh\n",
      "connect-mirror-maker.sh\t\t kafka-leader-election.sh\n",
      "connect-plugin-path.sh\t\t kafka-log-dirs.sh\n",
      "connect-standalone.sh\t\t kafka-metadata-quorum.sh\n",
      "kafka-acls.sh\t\t\t kafka-metadata-shell.sh\n",
      "kafka-broker-api-versions.sh\t kafka-producer-perf-test.sh\n",
      "kafka-client-metrics.sh\t\t kafka-reassign-partitions.sh\n",
      "kafka-cluster.sh\t\t kafka-replica-verification.sh\n",
      "kafka-configs.sh\t\t kafka-run-class.sh\n",
      "kafka-console-consumer.sh\t kafka-server-start.sh\n",
      "kafka-console-producer.sh\t kafka-server-stop.sh\n",
      "kafka-console-share-consumer.sh  kafka-share-groups.sh\n",
      "kafka-consumer-groups.sh\t kafka-storage.sh\n",
      "kafka-consumer-perf-test.sh\t kafka-streams-application-reset.sh\n",
      "kafka-delegation-tokens.sh\t kafka-topics.sh\n",
      "kafka-delete-records.sh\t\t kafka-transactions.sh\n",
      "kafka-dump-log.sh\t\t kafka-verifiable-consumer.sh\n",
      "kafka-e2e-latency.sh\t\t kafka-verifiable-producer.sh\n",
      "kafka-features.sh\t\t trogdor.sh\n",
      "kafka-get-offsets.sh\t\t windows\n",
      "kafka-groups.sh\n"
     ]
    }
   ],
   "source": [
    "ls /opt/kafka/bin"
   ]
  },
  {
   "cell_type": "markdown",
   "id": "ef760f56",
   "metadata": {},
   "source": [
    "### Topics\n",
    "\n",
    "These are folders that contain events. To manipulate with topics, use the `./kafka-topic.sh` script. The most important options for the script are:\n",
    "\n",
    "- `--create` to create a new topic.\n",
    "- `--list` to show created topics.\n",
    "- `--delete` to delete the topic."
   ]
  },
  {
   "cell_type": "markdown",
   "id": "0f910559",
   "metadata": {},
   "source": [
    "---\n",
    "\n",
    "The following cell illustrates the use of the `--create` option."
   ]
  },
  {
   "cell_type": "code",
   "execution_count": null,
   "id": "37102e6e",
   "metadata": {
    "vscode": {
     "languageId": "shellscript"
    }
   },
   "outputs": [
    {
     "name": "stdout",
     "output_type": "stream",
     "text": [
      "Created topic myFirstTopic.\n"
     ]
    }
   ],
   "source": [
    "./kafka-topics.sh --create --topic myFirstTopic --bootstrap-server localhost:9092"
   ]
  },
  {
   "cell_type": "markdown",
   "id": "471216f3",
   "metadata": {},
   "source": [
    "After creating, we can list all the topics that have been created:"
   ]
  },
  {
   "cell_type": "code",
   "execution_count": null,
   "id": "f028838d",
   "metadata": {
    "vscode": {
     "languageId": "shellscript"
    }
   },
   "outputs": [
    {
     "name": "stdout",
     "output_type": "stream",
     "text": [
      "myFirstTopic\n"
     ]
    }
   ],
   "source": [
    "./kafka-topics.sh --bootstrap-server localhost:9092 --list"
   ]
  },
  {
   "cell_type": "markdown",
   "id": "1a242686",
   "metadata": {},
   "source": [
    "And  the `--delete` for the `myFirstTopic`:"
   ]
  },
  {
   "cell_type": "code",
   "execution_count": null,
   "id": "d5b5c3a7",
   "metadata": {
    "vscode": {
     "languageId": "shellscript"
    }
   },
   "outputs": [],
   "source": [
    "./kafka-topics.sh --delete --topic myFirstTopic --bootstrap-server localhost:9092"
   ]
  },
  {
   "cell_type": "markdown",
   "id": "b33d1669",
   "metadata": {},
   "source": [
    "## Redis\n",
    "\n",
    "It is a no sql database, that in practice, resembles a large hash table. The following list describes the basic features of the redis:\n",
    "\n",
    "Sure — here are the **main features of Redis** with concise descriptions:\n",
    "\n",
    "1. **In-Memory Storage**: Stores all data in RAM, enabling extremely fast read and write operations.\n",
    "2. **Persistence Options**: Supports snapshots (RDB) and append-only files (AOF) to persist data to disk.\n",
    "3. **Data Structures**: Provides advanced structures such as strings, lists, sets, sorted sets, hashes, streams, bitmaps, and hyperloglogs.\n",
    "4. **Pub/Sub Messaging**: Enables real-time communication between services through publish/subscribe channels.\n",
    "5. **Transactions**: Groups multiple commands into atomic operations using `MULTI`, `EXEC`, and `WATCH`.\n",
    "6. **Lua Scripting**: Executes server-side scripts for atomic and complex operations.\n",
    "7. **Replication**: Supports master–replica replication for data redundancy and read scalability.\n",
    "8. **High Availability (Sentinel)**: Monitors Redis instances and performs automatic failover when needed.\n",
    "9. **Clustering**: Distributes data across multiple nodes for horizontal scaling and fault tolerance.\n",
    "10. **Streams**: Provides a log-based data structure for message queues and event sourcing.\n",
    "11. **Geospatial Indexes**: Stores and queries location data using geohashes and radius queries.\n",
    "12. **Modules System**: Allows extending Redis with custom data types and commands.\n",
    "13. **Eviction Policies**: Manages memory automatically with configurable eviction strategies (e.g., LRU, LFU).\n",
    "14. **ACID-like Atomicity**: Each individual Redis command executes atomically.\n",
    "15. **Built-in Caching Features**: Includes TTLs, expirations, and key invalidation for efficient caching.\n",
    "\n",
    "Check more in [Redis](data_brokers/redis.ipynb) page."
   ]
  },
  {
   "cell_type": "markdown",
   "id": "b73955fa",
   "metadata": {},
   "source": [
    "## Mongo DB\n",
    "\n",
    "Mongo is a no-SQL database. It keeps data in json-like format.\n",
    "\n",
    "For communication with the lanched database use `mongosh` CLI tool: [Mongo DB shell Download](https://www.mongodb.com/try/download/shell).\n",
    "\n",
    "To run a command without entering the the shell, use the `--eval \"command\"` option in `mongosh`.\n",
    "\n",
    "Data in MongoDB is organizes as follows:\n",
    "\n",
    "- Databases.\n",
    "- Collection: a group of documents. **Do not enfoce a schema**: different documents can have different fields.\n",
    "- Document: is a single BSON document (binary represenation of the JSON documents)."
   ]
  },
  {
   "cell_type": "markdown",
   "id": "288e483c",
   "metadata": {},
   "source": [
    "---\n",
    "\n",
    "Run the database with command:"
   ]
  },
  {
   "cell_type": "code",
   "execution_count": null,
   "id": "891a7498",
   "metadata": {
    "vscode": {
     "languageId": "shellscript"
    }
   },
   "outputs": [],
   "source": [
    "docker run --name mongodb -p 27017:27017 -d mongo:8.0.15 &> /dev/null"
   ]
  },
  {
   "cell_type": "markdown",
   "id": "91b7d065",
   "metadata": {
    "vscode": {
     "languageId": "shellscript"
    }
   },
   "source": [
    "If you lanched Mongo correctly, you should receive the response from it as illustrated on the following page."
   ]
  },
  {
   "cell_type": "code",
   "execution_count": 1,
   "id": "621c8f49",
   "metadata": {
    "vscode": {
     "languageId": "shellscript"
    }
   },
   "outputs": [
    {
     "name": "stdout",
     "output_type": "stream",
     "text": [
      "It looks like you are trying to access MongoDB over HTTP on the native driver port.\n"
     ]
    }
   ],
   "source": [
    "curl localhost:27017"
   ]
  },
  {
   "cell_type": "markdown",
   "id": "ace5fd65",
   "metadata": {},
   "source": [
    "The following cell shows the statisctics for the current mongoDB."
   ]
  },
  {
   "cell_type": "code",
   "execution_count": 2,
   "id": "9eb8c98d",
   "metadata": {
    "vscode": {
     "languageId": "shellscript"
    }
   },
   "outputs": [
    {
     "name": "stdout",
     "output_type": "stream",
     "text": [
      "\u001b]0;mongosh mongodb://127.0.0.1:27017/?directConnection=true&serverSelectionTimeoutMS=2000\u0007{\n",
      "  db: \u001b[32m'test'\u001b[39m,\n",
      "  collections: Long(\u001b[32m'1'\u001b[39m),\n",
      "  views: Long(\u001b[32m'0'\u001b[39m),\n",
      "  objects: Long(\u001b[32m'1'\u001b[39m),\n",
      "  avgObjSize: \u001b[33m29\u001b[39m,\n",
      "  dataSize: \u001b[33m29\u001b[39m,\n",
      "  storageSize: \u001b[33m20480\u001b[39m,\n",
      "  indexes: Long(\u001b[32m'1'\u001b[39m),\n",
      "  indexSize: \u001b[33m20480\u001b[39m,\n",
      "  totalSize: \u001b[33m40960\u001b[39m,\n",
      "  scaleFactor: Long(\u001b[32m'1'\u001b[39m),\n",
      "  fsUsedSize: \u001b[33m169364910080\u001b[39m,\n",
      "  fsTotalSize: \u001b[33m501809635328\u001b[39m,\n",
      "  ok: \u001b[33m1\u001b[39m\n",
      "}\n"
     ]
    }
   ],
   "source": [
    "mongosh --eval \"db.stats()\""
   ]
  }
 ],
 "metadata": {
  "kernelspec": {
   "display_name": "Bash",
   "language": "bash",
   "name": "bash"
  },
  "language_info": {
   "codemirror_mode": "shell",
   "file_extension": ".sh",
   "mimetype": "text/x-sh",
   "name": "bash"
  }
 },
 "nbformat": 4,
 "nbformat_minor": 5
}
