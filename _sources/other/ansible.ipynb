{
 "cells": [
  {
   "cell_type": "markdown",
   "metadata": {},
   "source": [
    "# Ansible\n",
    "\n",
    "`pip3 install ansible`"
   ]
  },
  {
   "cell_type": "code",
   "execution_count": 6,
   "metadata": {},
   "outputs": [],
   "source": [
    "import docker\n",
    "\n",
    "docker_client = docker.from_env()\n",
    "\n",
    "network = docker_client.networks.create(\n",
    "    name=\"ansible_example\",\n",
    "    ipam=docker.types.IPAMConfig(\n",
    "        pool_configs=[\n",
    "            docker.types.IPAMPool(\n",
    "                subnet=\"192.0.2.0/24\"\n",
    "            )\n",
    "        ]\n",
    "    )\n",
    ")\n",
    "\n",
    "containers = []\n",
    "\n",
    "for i, ip in enumerate([\"192.0.2.50\", \"192.0.2.51\", \"192.0.2.52\"]):\n",
    "\n",
    "    container = docker_client.api.create_container(\n",
    "        image=\"alpine\", \n",
    "        networking_config=docker_client.api.create_networking_config({\n",
    "            network.name: docker_client.api.create_endpoint_config(\n",
    "            ipv4_address=ip\n",
    "        )}),\n",
    "        name=f\"ansible_example{i}\",\n",
    "        stdin_open=True,\n",
    "        detach=True,\n",
    "        tty=True\n",
    "    )\n",
    "\n",
    "    docker_client.api.start(container['Id'])\n",
    "    containers.append(container)"
   ]
  },
  {
   "cell_type": "code",
   "execution_count": 39,
   "metadata": {},
   "outputs": [
    {
     "name": "stdout",
     "output_type": "stream",
     "text": [
      "Overwriting ansible_files/inventory.ini\n"
     ]
    }
   ],
   "source": [
    "%%writefile ansible_files/inventory.ini\n",
    "[myhosts]\n",
    "192.0.2.50\n",
    "192.0.2.51\n",
    "192.0.2.52"
   ]
  },
  {
   "cell_type": "code",
   "execution_count": 40,
   "metadata": {},
   "outputs": [
    {
     "name": "stdout",
     "output_type": "stream",
     "text": [
      "\u001b[1;31m192.0.2.51 | UNREACHABLE! => {\u001b[0m\n",
      "\u001b[1;31m    \"changed\": false,\u001b[0m\n",
      "\u001b[1;31m    \"msg\": \"Failed to connect to the host via ssh: ssh: connect to host 192.0.2.51 port 22: Connection timed out\",\u001b[0m\n",
      "\u001b[1;31m    \"unreachable\": true\u001b[0m\n",
      "\u001b[1;31m}\u001b[0m\n",
      "\u001b[1;31m192.0.2.50 | UNREACHABLE! => {\u001b[0m\n",
      "\u001b[1;31m    \"changed\": false,\u001b[0m\n",
      "\u001b[1;31m    \"msg\": \"Failed to connect to the host via ssh: ssh: connect to host 192.0.2.50 port 22: Connection timed out\",\u001b[0m\n",
      "\u001b[1;31m    \"unreachable\": true\u001b[0m\n",
      "\u001b[1;31m}\u001b[0m\n",
      "\u001b[1;31m192.0.2.52 | UNREACHABLE! => {\u001b[0m\n",
      "\u001b[1;31m    \"changed\": false,\u001b[0m\n",
      "\u001b[1;31m    \"msg\": \"Failed to connect to the host via ssh: ssh: connect to host 192.0.2.52 port 22: Connection timed out\",\u001b[0m\n",
      "\u001b[1;31m    \"unreachable\": true\u001b[0m\n",
      "\u001b[1;31m}\u001b[0m\n"
     ]
    }
   ],
   "source": [
    "!ansible myhosts -m ping -i ansible_files/inventory.ini"
   ]
  },
  {
   "cell_type": "code",
   "execution_count": 38,
   "metadata": {},
   "outputs": [],
   "source": [
    "for container in containers:\n",
    "    docker_client.api.stop(container=container[\"Id\"])\n",
    "    docker_client.api.remove_container(container=container[\"Id\"])\n",
    "network.remove()"
   ]
  }
 ],
 "metadata": {
  "kernelspec": {
   "display_name": "Python 3",
   "language": "python",
   "name": "python3"
  },
  "language_info": {
   "codemirror_mode": {
    "name": "ipython",
    "version": 3
   },
   "file_extension": ".py",
   "mimetype": "text/x-python",
   "name": "python",
   "nbconvert_exporter": "python",
   "pygments_lexer": "ipython3",
   "version": "3.10.12"
  }
 },
 "nbformat": 4,
 "nbformat_minor": 2
}
