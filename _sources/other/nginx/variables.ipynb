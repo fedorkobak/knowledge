{
 "cells": [
  {
   "cell_type": "markdown",
   "metadata": {},
   "source": [
    "# Variables\n",
    "\n",
    "This page focuses on the aspects of using variables in nginx."
   ]
  },
  {
   "cell_type": "markdown",
   "metadata": {},
   "source": [
    "The following cell starts a container with Nginx, mounting the file `variables_files/nginx.conf` to the container as the Nginx configuration."
   ]
  },
  {
   "cell_type": "code",
   "execution_count": 50,
   "metadata": {
    "vscode": {
     "languageId": "shellscript"
    }
   },
   "outputs": [
    {
     "name": "stdout",
     "output_type": "stream",
     "text": [
      "aaa1cb4f7eb5f59c626b6f62dc40d031ee8486b9e53b8f6e28d61631fccd62e8\n"
     ]
    }
   ],
   "source": [
    "docker run -itd --rm \\\n",
    "    --name test_nginx_variables \\\n",
    "    -p 80:80 \\\n",
    "    -v $(pwd)/variables_files/nginx.conf:/etc/nginx/nginx.conf \\\n",
    "    nginx"
   ]
  },
  {
   "cell_type": "markdown",
   "metadata": {},
   "source": [
    "**Note:** don't forget to stop the container after all."
   ]
  },
  {
   "cell_type": "code",
   "execution_count": 49,
   "metadata": {
    "vscode": {
     "languageId": "shellscript"
    }
   },
   "outputs": [
    {
     "name": "stdout",
     "output_type": "stream",
     "text": [
      "test_nginx_variables\n"
     ]
    }
   ],
   "source": [
    "docker stop test_nginx_variables"
   ]
  },
  {
   "cell_type": "markdown",
   "metadata": {},
   "source": [
    "## Custom variable\n",
    "\n",
    "Using `set` keyword you can define value your own variable."
   ]
  },
  {
   "cell_type": "markdown",
   "metadata": {},
   "source": [
    "---\n",
    "\n",
    "The following cell defines an Nginx configuration that sets a variable `test_variable` and returns its value from the root."
   ]
  },
  {
   "cell_type": "code",
   "execution_count": 62,
   "metadata": {
    "vscode": {
     "languageId": "shellscript"
    }
   },
   "outputs": [
    {
     "name": "stdout",
     "output_type": "stream",
     "text": [
      "2024/09/04 09:54:49 [notice] 57#57: signal process started\n"
     ]
    }
   ],
   "source": [
    "cat << EOF > variables_files/nginx.conf\n",
    "events {}\n",
    "\n",
    "http {\n",
    "    server {\n",
    "        listen 80;\n",
    "        set \\$test_variable \"VARIABLE VALUE\";\n",
    "\n",
    "        return 200 \\$test_variable;\n",
    "    }\n",
    "}\n",
    "EOF\n",
    "\n",
    "docker exec test_nginx_variables nginx -s reload"
   ]
  },
  {
   "cell_type": "markdown",
   "metadata": {},
   "source": [
    "Now let's try to request the created endpoint."
   ]
  },
  {
   "cell_type": "code",
   "execution_count": 64,
   "metadata": {
    "vscode": {
     "languageId": "shellscript"
    }
   },
   "outputs": [
    {
     "name": "stdout",
     "output_type": "stream",
     "text": [
      "VARIABLE VALUE\n"
     ]
    }
   ],
   "source": [
    "curl localhost:80"
   ]
  }
 ],
 "metadata": {
  "kernelspec": {
   "display_name": "Bash",
   "language": "bash",
   "name": "bash"
  },
  "language_info": {
   "codemirror_mode": "shell",
   "file_extension": ".sh",
   "mimetype": "text/x-sh",
   "name": "bash"
  }
 },
 "nbformat": 4,
 "nbformat_minor": 2
}
