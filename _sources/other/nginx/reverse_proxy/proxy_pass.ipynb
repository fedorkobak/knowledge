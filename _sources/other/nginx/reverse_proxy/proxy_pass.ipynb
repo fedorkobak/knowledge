{
 "cells": [
  {
   "cell_type": "markdown",
   "metadata": {},
   "source": [
    "# Proxy pass\n",
    "\n",
    "In my experience, proxying requests is the most common use of the `location` directive, making the `proxy_pass` directive crucial in this context. This page explores various options associated with the `proxy_pass` directive."
   ]
  },
  {
   "cell_type": "markdown",
   "metadata": {},
   "source": [
    "In the next cell, the setup defined earlier is executed, and we access the root page."
   ]
  },
  {
   "cell_type": "code",
   "execution_count": 7,
   "metadata": {
    "vscode": {
     "languageId": "shellscript"
    }
   },
   "outputs": [],
   "source": [
    "docker compose -f ../location_files/docker-compose.yml up -d &> /dev/null"
   ]
  },
  {
   "cell_type": "markdown",
   "metadata": {},
   "source": [
    "Don't forget to clean up the environment after everything is done."
   ]
  },
  {
   "cell_type": "code",
   "execution_count": 25,
   "metadata": {
    "vscode": {
     "languageId": "shellscript"
    }
   },
   "outputs": [],
   "source": [
    "docker compose -f ../location_files/docker-compose.yml down &> /dev/null"
   ]
  },
  {
   "cell_type": "markdown",
   "metadata": {},
   "source": [
    "## Wrong pass\n",
    "\n",
    "Note that if you try to specify a non-existent path in the `proxy_pass` directive, it will lead to an error during configuration validation."
   ]
  },
  {
   "cell_type": "markdown",
   "metadata": {},
   "source": [
    "---\n",
    "\n",
    "The following cell defines new nginx config that uses url `http://this_pass_doesnt_exist` as `proxy_pass` which is obviously wrong."
   ]
  },
  {
   "cell_type": "code",
   "execution_count": 24,
   "metadata": {
    "vscode": {
     "languageId": "shellscript"
    }
   },
   "outputs": [
    {
     "name": "stdout",
     "output_type": "stream",
     "text": [
      "2024/09/05 09:36:26 [emerg] 195#195: host not found in upstream \"this_pass_doesnt_exist\" in /wrong_path_nginx.conf:6\n",
      "nginx: [emerg] host not found in upstream \"this_pass_doesnt_exist\" in /wrong_path_nginx.conf:6\n",
      "nginx: configuration file /wrong_path_nginx.conf test failed\n"
     ]
    }
   ],
   "source": [
    "docker exec -i experiment_nginx sh -c 'cat >  /wrong_path_nginx.conf' << EOF\n",
    "events {}\n",
    "http {\n",
    "    server {\n",
    "        listen 80;\n",
    "        location /recsys {\n",
    "            proxy_pass \"http://this_pass_doesnt_exist\";\n",
    "        }\n",
    "    }\n",
    "}\n",
    "EOF\n",
    "\n",
    "docker exec -it experiment_nginx nginx -t -c /wrong_path_nginx.conf || true"
   ]
  },
  {
   "cell_type": "markdown",
   "metadata": {},
   "source": [
    "During the validation of this config, we receive an error indicating that the specified host does not exist. This issue can cause problems when starting the container."
   ]
  }
 ],
 "metadata": {
  "kernelspec": {
   "display_name": "Bash",
   "language": "bash",
   "name": "bash"
  },
  "language_info": {
   "codemirror_mode": "shell",
   "file_extension": ".sh",
   "mimetype": "text/x-sh",
   "name": "bash"
  }
 },
 "nbformat": 4,
 "nbformat_minor": 2
}
