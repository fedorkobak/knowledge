{
 "cells": [
  {
   "cell_type": "markdown",
   "metadata": {},
   "source": [
    "# Configuration\n",
    "\n",
    "This section show principles of building configs in nginx."
   ]
  },
  {
   "cell_type": "markdown",
   "metadata": {},
   "source": [
    "Here we create the `experiment_nginx` container that we would use for the experiments on this page."
   ]
  },
  {
   "cell_type": "code",
   "execution_count": 1,
   "metadata": {
    "vscode": {
     "languageId": "shellscript"
    }
   },
   "outputs": [
    {
     "name": "stdout",
     "output_type": "stream",
     "text": [
      "5dc76eabfe237931f1bc35c1dde22476c401fb580406b6ba86da497bad6f83a0\n"
     ]
    }
   ],
   "source": [
    "docker run -itd --name experiment_nginx --rm -p 80:80 nginx"
   ]
  },
  {
   "cell_type": "markdown",
   "metadata": {},
   "source": [
    "**Note** Don't forget to stop the container afte all."
   ]
  },
  {
   "cell_type": "code",
   "execution_count": 1,
   "metadata": {
    "vscode": {
     "languageId": "shellscript"
    }
   },
   "outputs": [
    {
     "name": "stdout",
     "output_type": "stream",
     "text": [
      "experiment_nginx\n"
     ]
    }
   ],
   "source": [
    "docker stop experiment_nginx"
   ]
  },
  {
   "cell_type": "markdown",
   "metadata": {},
   "source": [
    "## Validate\n",
    "\n",
    "You can use `nginx -t` syntax to validate the `nginx` config."
   ]
  },
  {
   "cell_type": "markdown",
   "metadata": {},
   "source": [
    "---\n",
    "\n",
    "Suppose we created an nginx config, but made a typo in the word `server`. Let's apply `nginx -t` command in such case:"
   ]
  },
  {
   "cell_type": "code",
   "execution_count": 2,
   "metadata": {
    "vscode": {
     "languageId": "shellscript"
    }
   },
   "outputs": [
    {
     "name": "stdout",
     "output_type": "stream",
     "text": [
      "2024/09/04 13:05:19 [emerg] 68#68: unknown directive \"surver\" in /etc/nginx/nginx.conf:4\n",
      "nginx: [emerg] unknown directive \"surver\" in /etc/nginx/nginx.conf:4\n",
      "nginx: configuration file /etc/nginx/nginx.conf test failed\n"
     ]
    },
    {
     "ename": "",
     "evalue": "1",
     "output_type": "error",
     "traceback": []
    }
   ],
   "source": [
    "docker exec -i experiment_nginx sh -c 'cat >  /etc/nginx/nginx.conf' <<EOF\n",
    "events {}\n",
    "\n",
    "http {\n",
    "    surver { # typo!\n",
    "        listen 80;\n",
    "        return 200 \"this is new message from nginx\";\n",
    "    }\n",
    "}\n",
    "EOF\n",
    "\n",
    "docker exec experiment_nginx nginx -t"
   ]
  },
  {
   "cell_type": "markdown",
   "metadata": {},
   "source": [
    "We got the message `configuration file /etc/nginx/nginx.conf test failed` and something like tracings."
   ]
  },
  {
   "cell_type": "markdown",
   "metadata": {},
   "source": [
    "The following cell fixes the error and re-runs `nginx -t`."
   ]
  },
  {
   "cell_type": "code",
   "execution_count": 3,
   "metadata": {
    "vscode": {
     "languageId": "shellscript"
    }
   },
   "outputs": [
    {
     "name": "stdout",
     "output_type": "stream",
     "text": [
      "nginx: the configuration file /etc/nginx/nginx.conf syntax is ok\n",
      "nginx: configuration file /etc/nginx/nginx.conf test is successful\n"
     ]
    }
   ],
   "source": [
    "docker exec -i experiment_nginx sh -c 'cat >  /etc/nginx/nginx.conf' <<EOF\n",
    "events {}\n",
    "\n",
    "http {\n",
    "    server {\n",
    "        listen 80;\n",
    "        return 200 \"this is new message from nginx\";\n",
    "    }\n",
    "}\n",
    "EOF\n",
    "\n",
    "docker exec experiment_nginx nginx -t"
   ]
  },
  {
   "cell_type": "markdown",
   "metadata": {},
   "source": [
    "Now we have `syntax ok` - which means that everything is working fine."
   ]
  },
  {
   "cell_type": "markdown",
   "metadata": {},
   "source": [
    "### Arbitrary file\n",
    "\n",
    "You can validate an arbitrary Nginx configuration file using the `-c <file path>` option."
   ]
  },
  {
   "cell_type": "markdown",
   "metadata": {},
   "source": [
    "---\n",
    "\n",
    "The following cell creates an Nginx configuration with a mistake—it's trying to use the `wrong_directive` directive. It saves this configuration to a random path, `/etc/nginx/toy.conf`, but not in the path suitable for Nginx."
   ]
  },
  {
   "cell_type": "code",
   "execution_count": 6,
   "metadata": {
    "vscode": {
     "languageId": "shellscript"
    }
   },
   "outputs": [
    {
     "name": "stdout",
     "output_type": "stream",
     "text": [
      "2024/09/04 13:08:01 [emerg] 115#115: unknown directive \"wrong_directive\" in /etc/nginx/toy.conf:2\n",
      "nginx: [emerg] unknown directive \"wrong_directive\" in /etc/nginx/toy.conf:2\n",
      "nginx: configuration file /etc/nginx/toy.conf test failed\n"
     ]
    },
    {
     "ename": "",
     "evalue": "1",
     "output_type": "error",
     "traceback": []
    }
   ],
   "source": [
    "docker exec -i experiment_nginx sh -c 'cat >  /etc/nginx/toy.conf' <<EOF\n",
    "events {\n",
    "    wrong_directive \"hello\";\n",
    "}\n",
    "\n",
    "http {\n",
    "    server {\n",
    "        listen 80;\n",
    "        return 200 \"this is new message from nginx\";\n",
    "    }\n",
    "}\n",
    "EOF\n",
    "\n",
    "docker exec experiment_nginx nginx -t -c /etc/nginx/toy.conf"
   ]
  },
  {
   "cell_type": "markdown",
   "metadata": {},
   "source": [
    "After validating the file, we received a message indicating that it uses an unknown directive—just as expected."
   ]
  },
  {
   "cell_type": "markdown",
   "metadata": {},
   "source": [
    "## Include\n",
    "\n",
    "You can include other configuration files by using the `include <path to the file>` directive."
   ]
  },
  {
   "cell_type": "markdown",
   "metadata": {},
   "source": [
    "---\n",
    "\n",
    "The following example creates a server that will have two endpoints, `/` and `/temp`. The temp endpoint is placed in the other file, and it is included in the main `server` context using the `include <path to file>` directive. "
   ]
  },
  {
   "cell_type": "code",
   "execution_count": 12,
   "metadata": {
    "vscode": {
     "languageId": "shellscript"
    }
   },
   "outputs": [
    {
     "name": "stdout",
     "output_type": "stream",
     "text": [
      "2024/07/22 09:17:39 [notice] 246#246: signal process started\n"
     ]
    }
   ],
   "source": [
    "docker exec -i experiment_nginx sh -c 'cat >  /etc/nginx/nginx.conf' <<EOF\n",
    "events {}\n",
    "\n",
    "http {\n",
    "    server {\n",
    "        listen 80;\n",
    "        location / {\n",
    "            return 200 \"MAIN configuration\";\n",
    "        }\n",
    "        include /etc/nginx/temp.conf;\n",
    "    }\n",
    "}\n",
    "EOF\n",
    "\n",
    "docker exec -i experiment_nginx sh -c 'cat >  /etc/nginx/temp.conf' <<EOF\n",
    "location /temp {\n",
    "    return 200 \"TEMP configuration\";\n",
    "}\n",
    "EOF\n",
    "\n",
    "docker exec experiment_nginx nginx -s reload"
   ]
  },
  {
   "cell_type": "markdown",
   "metadata": {},
   "source": [
    "Now that config has been applied we can try to request it from endpoints."
   ]
  },
  {
   "cell_type": "code",
   "execution_count": 13,
   "metadata": {
    "vscode": {
     "languageId": "shellscript"
    }
   },
   "outputs": [
    {
     "name": "stdout",
     "output_type": "stream",
     "text": [
      "MAIN configuration\n"
     ]
    }
   ],
   "source": [
    "curl localhost:80"
   ]
  },
  {
   "cell_type": "code",
   "execution_count": 14,
   "metadata": {
    "vscode": {
     "languageId": "shellscript"
    }
   },
   "outputs": [
    {
     "name": "stdout",
     "output_type": "stream",
     "text": [
      "TEMP configuration\n"
     ]
    }
   ],
   "source": [
    "curl localhost:80/temp"
   ]
  },
  {
   "cell_type": "markdown",
   "metadata": {},
   "source": [
    "A request to the `/` endpoint returns one message, and `/temp` returns another."
   ]
  }
 ],
 "metadata": {
  "kernelspec": {
   "display_name": "Bash",
   "language": "bash",
   "name": "bash"
  },
  "language_info": {
   "codemirror_mode": "shell",
   "file_extension": ".sh",
   "mimetype": "text/x-sh",
   "name": "bash"
  }
 },
 "nbformat": 4,
 "nbformat_minor": 2
}
