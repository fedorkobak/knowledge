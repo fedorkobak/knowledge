{
 "cells": [
  {
   "cell_type": "markdown",
   "metadata": {},
   "source": [
    "# Server\n",
    "\n",
    "This section discusses features of the nginx virtual servers that are defined by the `server` directive. Check details in the [corresponding section](https://nginx.org/en/docs/http/ngx_http_core_module.html#server) of the official documentation."
   ]
  },
  {
   "cell_type": "code",
   "execution_count": null,
   "metadata": {
    "vscode": {
     "languageId": "shellscript"
    }
   },
   "outputs": [],
   "source": [
    "docker run -itd --name experiment_nginx --rm -p 80:80 nginx"
   ]
  },
  {
   "cell_type": "markdown",
   "metadata": {},
   "source": [
    "**Note**: Don't forget to stop the example nginx when you are done interacting with it."
   ]
  },
  {
   "cell_type": "code",
   "execution_count": 2,
   "metadata": {
    "vscode": {
     "languageId": "shellscript"
    }
   },
   "outputs": [
    {
     "name": "stdout",
     "output_type": "stream",
     "text": [
      "experiment_nginx\n"
     ]
    }
   ],
   "source": [
    "docker stop experiment_nginx"
   ]
  },
  {
   "cell_type": "markdown",
   "metadata": {},
   "source": [
    "## Duplicate name\n",
    "\n",
    "You can't specify the same name for two servers. In such a case, nginx would throw a corresponding error when trying to apply the config."
   ]
  },
  {
   "cell_type": "markdown",
   "metadata": {},
   "source": [
    "---\n",
    "\n",
    "The following example shows a special case of the duplicate server name - empty names for both servers."
   ]
  },
  {
   "cell_type": "code",
   "execution_count": 1,
   "metadata": {
    "vscode": {
     "languageId": "shellscript"
    }
   },
   "outputs": [
    {
     "name": "stdout",
     "output_type": "stream",
     "text": [
      "2024/12/26 11:51:34 [warn] 124#124: conflicting server name \"\" on 0.0.0.0:80, ignored\n",
      "nginx: [warn] conflicting server name \"\" on 0.0.0.0:80, ignored\n",
      "2024/12/26 11:51:34 [notice] 124#124: signal process started\n"
     ]
    }
   ],
   "source": [
    "docker exec -i experiment_nginx sh -c 'cat >  /etc/nginx/nginx.conf' <<EOF\n",
    "events {}\n",
    "http {\n",
    "    server {return 200 \"first\";}\n",
    "    server {return 200 \"second\";}\n",
    "}\n",
    "EOF\n",
    "docker exec experiment_nginx nginx -s reload"
   ]
  },
  {
   "cell_type": "markdown",
   "metadata": {},
   "source": [
    "As a result, we got corresponding errors during server deployment. In general, nginx started, but virtual servers with duplicate names were ignored."
   ]
  }
 ],
 "metadata": {
  "kernelspec": {
   "display_name": "Bash",
   "language": "bash",
   "name": "bash"
  },
  "language_info": {
   "codemirror_mode": "shell",
   "file_extension": ".sh",
   "mimetype": "text/x-sh",
   "name": "bash"
  }
 },
 "nbformat": 4,
 "nbformat_minor": 2
}
