{
 "cells": [
  {
   "cell_type": "markdown",
   "id": "8b147c39",
   "metadata": {},
   "source": [
    "# Mongo DB\n",
    "\n",
    "MongoDB is a non-SQL database that stores data in JSON-like documents."
   ]
  },
  {
   "cell_type": "markdown",
   "id": "92b51eb1",
   "metadata": {},
   "source": [
    "## CRUD\n",
    "\n",
    "Consider the CURD operations in MongoDB. The following list show the collection methods (`<database>.<collection>.<method>`):\n",
    "\n",
    "- Insert data:\n",
    "    - `insertOne`.\n",
    "    - `insertMany`.\n",
    "- The `find` method to search data.\n",
    "- Delete data:\n",
    "    - `deleteOne`.\n",
    "    - `deleteMany`."
   ]
  },
  {
   "cell_type": "markdown",
   "id": "8270e75f",
   "metadata": {},
   "source": [
    "---\n",
    "\n",
    "The following cell inserts document into the `users` collection:"
   ]
  },
  {
   "cell_type": "code",
   "execution_count": 19,
   "id": "caae8653",
   "metadata": {
    "vscode": {
     "languageId": "shellscript"
    }
   },
   "outputs": [],
   "source": [
    "mongosh --eval \"db.users.insertOne({\n",
    "    name: 'Alice',\n",
    "    age: 30,\n",
    "    email: 'alice@example.com'\n",
    "})\" > /dev/null"
   ]
  },
  {
   "cell_type": "markdown",
   "id": "282e8347",
   "metadata": {},
   "source": [
    "The `find` method returns the created document:"
   ]
  },
  {
   "cell_type": "code",
   "execution_count": 20,
   "id": "5c84752e",
   "metadata": {
    "vscode": {
     "languageId": "shellscript"
    }
   },
   "outputs": [
    {
     "name": "stdout",
     "output_type": "stream",
     "text": [
      "\u001b]0;mongosh mongodb://127.0.0.1:27017/?directConnection=true&serverSelectionTimeoutMS=2000\u0007[\n",
      "  {\n",
      "    _id: ObjectId(\u001b[32m'68f774a651826e5330ce5f47'\u001b[39m),\n",
      "    name: \u001b[32m'Alice'\u001b[39m,\n",
      "    age: \u001b[33m30\u001b[39m,\n",
      "    email: \u001b[32m'alice@example.com'\u001b[39m\n",
      "  }\n",
      "]\n"
     ]
    }
   ],
   "source": [
    "mongosh --eval \"db.users.find({})\""
   ]
  },
  {
   "cell_type": "markdown",
   "id": "75c2d68a",
   "metadata": {},
   "source": [
    "The following cell uses the `updateMany` method to change the `age` attribute and displays the result."
   ]
  },
  {
   "cell_type": "code",
   "execution_count": 23,
   "id": "0c106a7a",
   "metadata": {
    "vscode": {
     "languageId": "shellscript"
    }
   },
   "outputs": [
    {
     "name": "stdout",
     "output_type": "stream",
     "text": [
      "\u001b]0;mongosh mongodb://127.0.0.1:27017/?directConnection=true&serverSelectionTimeoutMS=2000\u0007[\n",
      "  {\n",
      "    _id: ObjectId(\u001b[32m'68f774a651826e5330ce5f47'\u001b[39m),\n",
      "    name: \u001b[32m'Alice'\u001b[39m,\n",
      "    age: \u001b[33m29\u001b[39m,\n",
      "    email: \u001b[32m'alice@example.com'\u001b[39m\n",
      "  }\n",
      "]\n"
     ]
    }
   ],
   "source": [
    "mongosh --eval \"db.users.updateMany(\n",
    "    {},\n",
    "    { \\$set: { age: 29 } }\n",
    ")\" > /dev/null\n",
    "mongosh --eval \"db.users.find({})\""
   ]
  },
  {
   "cell_type": "markdown",
   "id": "e288bca1",
   "metadata": {},
   "source": [
    "The following cell executes the `deleteMany` command with an empty condition; therefore, all documents in the corresponding collection will be deleted."
   ]
  },
  {
   "cell_type": "code",
   "execution_count": 17,
   "id": "3c944e9e",
   "metadata": {
    "vscode": {
     "languageId": "shellscript"
    }
   },
   "outputs": [],
   "source": [
    "mongosh --eval \"db.users.deleteMany({})\" > /dev/null"
   ]
  },
  {
   "cell_type": "markdown",
   "id": "63a12aa7",
   "metadata": {},
   "source": [
    "The result of the `find` returns no documents."
   ]
  },
  {
   "cell_type": "code",
   "execution_count": 11,
   "id": "3eb82904",
   "metadata": {
    "vscode": {
     "languageId": "shellscript"
    }
   },
   "outputs": [
    {
     "name": "stdout",
     "output_type": "stream",
     "text": [
      "\u001b]0;mongosh mongodb://127.0.0.1:27017/?directConnection=true&serverSelectionTimeoutMS=2000\u0007\n"
     ]
    }
   ],
   "source": [
    "mongosh --eval \"db.users.find({})\""
   ]
  }
 ],
 "metadata": {
  "kernelspec": {
   "display_name": "Bash",
   "language": "bash",
   "name": "bash"
  },
  "language_info": {
   "codemirror_mode": "shell",
   "file_extension": ".sh",
   "mimetype": "text/x-sh",
   "name": "bash"
  }
 },
 "nbformat": 4,
 "nbformat_minor": 5
}
