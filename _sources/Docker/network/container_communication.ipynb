{
 "cells": [
  {
   "cell_type": "markdown",
   "id": "eb98f06f-b2f5-43b0-9456-37bc6a8b00cf",
   "metadata": {},
   "source": [
    "# Containers communication\n",
    "\n",
    "In this page I want to focus on ways of organising container communication."
   ]
  },
  {
   "cell_type": "markdown",
   "id": "4cbd19c7-30c0-4f38-adb2-3c94c9b1f030",
   "metadata": {},
   "source": [
    "## Creating containers\n",
    "\n",
    "In the following cell, create containers for experiments."
   ]
  },
  {
   "cell_type": "code",
   "execution_count": 1,
   "id": "41355f05-9415-43de-9ac6-b89e559c6f5b",
   "metadata": {},
   "outputs": [],
   "source": [
    "%%bash\n",
    "docker run --rm -d --name test_nginx1 nginx &> /dev/null\n",
    "docker run --rm -d --name test_nginx2 nginx &> /dev/null\n",
    "docker network create test_network &> /dev/null\n",
    "docker run --rm -d \\\n",
    "    --name test_nginx3 \\\n",
    "    --net test_network \\\n",
    "    nginx &> /dev/null"
   ]
  },
  {
   "cell_type": "markdown",
   "id": "2db0ed4d-6f98-4702-9f51-9a082143d5f2",
   "metadata": {},
   "source": [
    "**Note** Don't forget to stop the containers when you've finished playing with them."
   ]
  },
  {
   "cell_type": "code",
   "execution_count": null,
   "id": "4c9ea161-a504-46e0-90a1-2986b90d49ba",
   "metadata": {
    "scrolled": true
   },
   "outputs": [],
   "source": [
    "%%bash\n",
    "docker stop test_nginx1 test_nginx2 test_nginx3 &> /dev/null\n",
    "docker test_network"
   ]
  },
  {
   "cell_type": "markdown",
   "id": "28754a94-5076-4c65-b77d-522257e73249",
   "metadata": {},
   "source": [
    "## Get ip of the containers"
   ]
  },
  {
   "cell_type": "markdown",
   "id": "1474bab3-7ce9-47b3-91d3-730274169d8e",
   "metadata": {},
   "source": [
    "### Inspect network\n",
    "\n",
    "There's a lot of important information in the output of `docker inspect` for network that you need to organise interaction between containers.\n",
    "\n",
    "The following cell shows the output of `docker inspect` for network `bridge`. There you will find a `Containers` dictionary that matches the container id with information about the container. Among other things, the `IPv4Address` field is there."
   ]
  },
  {
   "cell_type": "code",
   "execution_count": 2,
   "id": "a861d44d-bc71-429c-b865-60c4ea3a5e44",
   "metadata": {},
   "outputs": [
    {
     "name": "stdout",
     "output_type": "stream",
     "text": [
      "[\n",
      "    {\n",
      "        \"Name\": \"bridge\",\n",
      "        \"Id\": \"cb0be6f8e70135dc9f75a03d73c9a5b9c9dd6225f18103191f676596edc9bdd1\",\n",
      "        \"Created\": \"2023-10-30T07:56:28.229725692+03:00\",\n",
      "        \"Scope\": \"local\",\n",
      "        \"Driver\": \"bridge\",\n",
      "        \"EnableIPv6\": false,\n",
      "        \"IPAM\": {\n",
      "            \"Driver\": \"default\",\n",
      "            \"Options\": null,\n",
      "            \"Config\": [\n",
      "                {\n",
      "                    \"Subnet\": \"172.17.0.0/16\",\n",
      "                    \"Gateway\": \"172.17.0.1\"\n",
      "                }\n",
      "            ]\n",
      "        },\n",
      "        \"Internal\": false,\n",
      "        \"Attachable\": false,\n",
      "        \"Ingress\": false,\n",
      "        \"ConfigFrom\": {\n",
      "            \"Network\": \"\"\n",
      "        },\n",
      "        \"ConfigOnly\": false,\n",
      "        \"Containers\": {\n",
      "            \"63dae9a4f564ad5a4aa8654a57410eb02353fea7d0339aebd362ce4d893c6f46\": {\n",
      "                \"Name\": \"test_nginx1\",\n",
      "                \"EndpointID\": \"cbbae9a540e6fb959efda6c9f72a721e61c02f042243df2df76139e1b43d9ebe\",\n",
      "                \"MacAddress\": \"02:42:ac:11:00:02\",\n",
      "                \"IPv4Address\": \"172.17.0.2/16\",\n",
      "                \"IPv6Address\": \"\"\n",
      "            },\n",
      "            \"9ffabf6ffaff150ea77827a86403dffce3fe9cbae6cb9df2a96972823c3e31fd\": {\n",
      "                \"Name\": \"test_nginx2\",\n",
      "                \"EndpointID\": \"05c50eea53052dd13258a5a55140d5fe12b840f8090fc270d81fc02d92c8c0c9\",\n",
      "                \"MacAddress\": \"02:42:ac:11:00:03\",\n",
      "                \"IPv4Address\": \"172.17.0.3/16\",\n",
      "                \"IPv6Address\": \"\"\n",
      "            }\n",
      "        },\n",
      "        \"Options\": {\n",
      "            \"com.docker.network.bridge.default_bridge\": \"true\",\n",
      "            \"com.docker.network.bridge.enable_icc\": \"true\",\n",
      "            \"com.docker.network.bridge.enable_ip_masquerade\": \"true\",\n",
      "            \"com.docker.network.bridge.host_binding_ipv4\": \"0.0.0.0\",\n",
      "            \"com.docker.network.bridge.name\": \"docker0\",\n",
      "            \"com.docker.network.driver.mtu\": \"1500\"\n",
      "        },\n",
      "        \"Labels\": {}\n",
      "    }\n",
      "]\n"
     ]
    }
   ],
   "source": [
    "%%bash\n",
    "docker inspect bridge"
   ]
  },
  {
   "cell_type": "markdown",
   "id": "f812e068-fee7-4f8b-89df-90e2dfbf913a",
   "metadata": {},
   "source": [
    "### Inspect container\n",
    "\n",
    "The `docker inspect <container name/id>` command will give you information about the container, and by following the `NetworkSettings.IPAddress' path you can access the ip address of the container."
   ]
  },
  {
   "cell_type": "code",
   "execution_count": 3,
   "id": "b4a0e83f-45ac-42cf-ac99-0f686b54d0f4",
   "metadata": {},
   "outputs": [
    {
     "name": "stdout",
     "output_type": "stream",
     "text": [
      "====nginx1 ip=====\n",
      "172.17.0.2\n",
      "====nginx2 ip=====\n",
      "172.17.0.3\n"
     ]
    }
   ],
   "source": [
    "%%bash\n",
    "\n",
    "echo \"====nginx1 ip=====\"\n",
    "echo\\\n",
    "    $(docker inspect\\\n",
    "    --format '{{ .NetworkSettings.IPAddress }}'\\\n",
    "    test_nginx1)\n",
    "\n",
    "echo \"====nginx2 ip=====\"\n",
    "echo\\\n",
    "    $(docker inspect\\\n",
    "    --format '{{ .NetworkSettings.IPAddress }}'\\\n",
    "    test_nginx2)"
   ]
  },
  {
   "cell_type": "markdown",
   "id": "08eb1f0a-3c72-4ede-935b-5760f3391dab",
   "metadata": {},
   "source": [
    "## From container to container {#sec-from_cont_to_cont}\n",
    "\n",
    "By using the IP address of the container, you can access it from the other container on the same network.\n",
    "\n",
    "In the next cell, a commit is formed first, which will be called in the next step from the `test_nginx2` container to make a `curl` in `test_nginx1`. As a result we get html code which nginx responds to in its welcome page."
   ]
  },
  {
   "cell_type": "code",
   "execution_count": 4,
   "id": "61a1aaff-6db2-485d-af08-593dd38db1f0",
   "metadata": {},
   "outputs": [
    {
     "name": "stdout",
     "output_type": "stream",
     "text": [
      "=====command to be executed=====\n",
      "curl -s 172.17.0.3\n",
      "\n",
      "=====execution result=====\n",
      "<!DOCTYPE html>\n",
      "<html>\n",
      "<head>\n",
      "<title>Welcome to nginx!</title>\n",
      "<style>\n",
      "html { color-scheme: light dark; }\n",
      "body { width: 35em; margin: 0 auto;\n",
      "font-family: Tahoma, Verdana, Arial, sans-serif; }\n",
      "</style>\n",
      "</head>\n",
      "<body>\n",
      "<h1>Welcome to nginx!</h1>\n",
      "<p>If you see this page, the nginx web server is successfully installed and\n",
      "working. Further configuration is required.</p>\n",
      "\n",
      "<p>For online documentation and support please refer to\n",
      "<a href=\"http://nginx.org/\">nginx.org</a>.<br/>\n",
      "Commercial support is available at\n",
      "<a href=\"http://nginx.com/\">nginx.com</a>.</p>\n",
      "\n",
      "<p><em>Thank you for using nginx.</em></p>\n",
      "</body>\n",
      "</html>\n"
     ]
    }
   ],
   "source": [
    "%%bash\n",
    "# getting nginx2 ip\n",
    "nginx2_ip=$(\n",
    "    docker inspect \\\n",
    "    --format '{{ .NetworkSettings.IPAddress }}'\\\n",
    "    test_nginx2\n",
    ")\n",
    "command=\"curl -s $nginx2_ip\"\n",
    "echo \"=====command to be executed=====\"\n",
    "echo $command\n",
    "echo\n",
    "echo \"=====execution result=====\"\n",
    "docker exec test_nginx1 $command"
   ]
  },
  {
   "cell_type": "markdown",
   "id": "ab19adf3-62bd-44e5-9f21-86fb9e375cef",
   "metadata": {},
   "source": [
    "## Isolation example\n",
    "\n",
    "The idea of networking in Docker is to be able to build effective structures as combinations of different containers. But you don't want containers that you don't expect to interact with to be able to interact. So in this case, you create containers that you don't want to interact with each other on a different network - you isolate them.\n",
    "\n",
    "So in the following example, as in the [container-to-container](#sec-from_cont_to_cont) section, I'm trying to query from one container to another, but now I'm trying to access a container deployed on the other network and got an error."
   ]
  },
  {
   "cell_type": "code",
   "execution_count": 10,
   "id": "b9ee7a06-99d9-4ea0-97cb-3ee771d3bf07",
   "metadata": {},
   "outputs": [
    {
     "name": "stdout",
     "output_type": "stream",
     "text": [
      "=====command to be executed=====\n",
      "curl -s 172.17.0.3\n",
      "\n",
      "=====execution result=====\n"
     ]
    },
    {
     "ename": "CalledProcessError",
     "evalue": "Command 'b'nginx2_ip=$(\\n    docker inspect \\\\\\n    --format \\'{{ .NetworkSettings.IPAddress }}\\'\\\\\\n    test_nginx2\\n)\\n\\ncommand=\"curl -s $nginx2_ip\"\\necho \"=====command to be executed=====\"\\necho $command\\necho\\necho \"=====execution result=====\"\\ndocker exec test_nginx3 $command\\n'' returned non-zero exit status 28.",
     "output_type": "error",
     "traceback": [
      "\u001b[0;31m---------------------------------------------------------------------------\u001b[0m",
      "\u001b[0;31mCalledProcessError\u001b[0m                        Traceback (most recent call last)",
      "Cell \u001b[0;32mIn[10], line 1\u001b[0m\n\u001b[0;32m----> 1\u001b[0m \u001b[43mget_ipython\u001b[49m\u001b[43m(\u001b[49m\u001b[43m)\u001b[49m\u001b[38;5;241;43m.\u001b[39;49m\u001b[43mrun_cell_magic\u001b[49m\u001b[43m(\u001b[49m\u001b[38;5;124;43m'\u001b[39;49m\u001b[38;5;124;43mbash\u001b[39;49m\u001b[38;5;124;43m'\u001b[39;49m\u001b[43m,\u001b[49m\u001b[43m \u001b[49m\u001b[38;5;124;43m'\u001b[39;49m\u001b[38;5;124;43m'\u001b[39;49m\u001b[43m,\u001b[49m\u001b[43m \u001b[49m\u001b[38;5;124;43m'\u001b[39;49m\u001b[38;5;124;43mnginx2_ip=$(\u001b[39;49m\u001b[38;5;130;43;01m\\n\u001b[39;49;00m\u001b[38;5;124;43m    docker inspect \u001b[39;49m\u001b[38;5;130;43;01m\\\\\u001b[39;49;00m\u001b[38;5;130;43;01m\\n\u001b[39;49;00m\u001b[38;5;124;43m    --format \u001b[39;49m\u001b[38;5;130;43;01m\\'\u001b[39;49;00m\u001b[38;5;124;43m{{\u001b[39;49m\u001b[38;5;124;43m .NetworkSettings.IPAddress }}\u001b[39;49m\u001b[38;5;130;43;01m\\'\u001b[39;49;00m\u001b[38;5;130;43;01m\\\\\u001b[39;49;00m\u001b[38;5;130;43;01m\\n\u001b[39;49;00m\u001b[38;5;124;43m    test_nginx2\u001b[39;49m\u001b[38;5;130;43;01m\\n\u001b[39;49;00m\u001b[38;5;124;43m)\u001b[39;49m\u001b[38;5;130;43;01m\\n\u001b[39;49;00m\u001b[38;5;130;43;01m\\n\u001b[39;49;00m\u001b[38;5;124;43mcommand=\u001b[39;49m\u001b[38;5;124;43m\"\u001b[39;49m\u001b[38;5;124;43mcurl -s $nginx2_ip\u001b[39;49m\u001b[38;5;124;43m\"\u001b[39;49m\u001b[38;5;130;43;01m\\n\u001b[39;49;00m\u001b[38;5;124;43mecho \u001b[39;49m\u001b[38;5;124;43m\"\u001b[39;49m\u001b[38;5;124;43m=====command to be executed=====\u001b[39;49m\u001b[38;5;124;43m\"\u001b[39;49m\u001b[38;5;130;43;01m\\n\u001b[39;49;00m\u001b[38;5;124;43mecho $command\u001b[39;49m\u001b[38;5;130;43;01m\\n\u001b[39;49;00m\u001b[38;5;124;43mecho\u001b[39;49m\u001b[38;5;130;43;01m\\n\u001b[39;49;00m\u001b[38;5;124;43mecho \u001b[39;49m\u001b[38;5;124;43m\"\u001b[39;49m\u001b[38;5;124;43m=====execution result=====\u001b[39;49m\u001b[38;5;124;43m\"\u001b[39;49m\u001b[38;5;130;43;01m\\n\u001b[39;49;00m\u001b[38;5;124;43mdocker exec test_nginx3 $command\u001b[39;49m\u001b[38;5;130;43;01m\\n\u001b[39;49;00m\u001b[38;5;124;43m'\u001b[39;49m\u001b[43m)\u001b[49m\n",
      "File \u001b[0;32m~/.local/lib/python3.10/site-packages/IPython/core/interactiveshell.py:2478\u001b[0m, in \u001b[0;36mInteractiveShell.run_cell_magic\u001b[0;34m(self, magic_name, line, cell)\u001b[0m\n\u001b[1;32m   2476\u001b[0m \u001b[38;5;28;01mwith\u001b[39;00m \u001b[38;5;28mself\u001b[39m\u001b[38;5;241m.\u001b[39mbuiltin_trap:\n\u001b[1;32m   2477\u001b[0m     args \u001b[38;5;241m=\u001b[39m (magic_arg_s, cell)\n\u001b[0;32m-> 2478\u001b[0m     result \u001b[38;5;241m=\u001b[39m \u001b[43mfn\u001b[49m\u001b[43m(\u001b[49m\u001b[38;5;241;43m*\u001b[39;49m\u001b[43margs\u001b[49m\u001b[43m,\u001b[49m\u001b[43m \u001b[49m\u001b[38;5;241;43m*\u001b[39;49m\u001b[38;5;241;43m*\u001b[39;49m\u001b[43mkwargs\u001b[49m\u001b[43m)\u001b[49m\n\u001b[1;32m   2480\u001b[0m \u001b[38;5;66;03m# The code below prevents the output from being displayed\u001b[39;00m\n\u001b[1;32m   2481\u001b[0m \u001b[38;5;66;03m# when using magics with decodator @output_can_be_silenced\u001b[39;00m\n\u001b[1;32m   2482\u001b[0m \u001b[38;5;66;03m# when the last Python token in the expression is a ';'.\u001b[39;00m\n\u001b[1;32m   2483\u001b[0m \u001b[38;5;28;01mif\u001b[39;00m \u001b[38;5;28mgetattr\u001b[39m(fn, magic\u001b[38;5;241m.\u001b[39mMAGIC_OUTPUT_CAN_BE_SILENCED, \u001b[38;5;28;01mFalse\u001b[39;00m):\n",
      "File \u001b[0;32m~/.local/lib/python3.10/site-packages/IPython/core/magics/script.py:154\u001b[0m, in \u001b[0;36mScriptMagics._make_script_magic.<locals>.named_script_magic\u001b[0;34m(line, cell)\u001b[0m\n\u001b[1;32m    152\u001b[0m \u001b[38;5;28;01melse\u001b[39;00m:\n\u001b[1;32m    153\u001b[0m     line \u001b[38;5;241m=\u001b[39m script\n\u001b[0;32m--> 154\u001b[0m \u001b[38;5;28;01mreturn\u001b[39;00m \u001b[38;5;28;43mself\u001b[39;49m\u001b[38;5;241;43m.\u001b[39;49m\u001b[43mshebang\u001b[49m\u001b[43m(\u001b[49m\u001b[43mline\u001b[49m\u001b[43m,\u001b[49m\u001b[43m \u001b[49m\u001b[43mcell\u001b[49m\u001b[43m)\u001b[49m\n",
      "File \u001b[0;32m~/.local/lib/python3.10/site-packages/IPython/core/magics/script.py:314\u001b[0m, in \u001b[0;36mScriptMagics.shebang\u001b[0;34m(self, line, cell)\u001b[0m\n\u001b[1;32m    309\u001b[0m \u001b[38;5;28;01mif\u001b[39;00m args\u001b[38;5;241m.\u001b[39mraise_error \u001b[38;5;129;01mand\u001b[39;00m p\u001b[38;5;241m.\u001b[39mreturncode \u001b[38;5;241m!=\u001b[39m \u001b[38;5;241m0\u001b[39m:\n\u001b[1;32m    310\u001b[0m     \u001b[38;5;66;03m# If we get here and p.returncode is still None, we must have\u001b[39;00m\n\u001b[1;32m    311\u001b[0m     \u001b[38;5;66;03m# killed it but not yet seen its return code. We don't wait for it,\u001b[39;00m\n\u001b[1;32m    312\u001b[0m     \u001b[38;5;66;03m# in case it's stuck in uninterruptible sleep. -9 = SIGKILL\u001b[39;00m\n\u001b[1;32m    313\u001b[0m     rc \u001b[38;5;241m=\u001b[39m p\u001b[38;5;241m.\u001b[39mreturncode \u001b[38;5;129;01mor\u001b[39;00m \u001b[38;5;241m-\u001b[39m\u001b[38;5;241m9\u001b[39m\n\u001b[0;32m--> 314\u001b[0m     \u001b[38;5;28;01mraise\u001b[39;00m CalledProcessError(rc, cell)\n",
      "\u001b[0;31mCalledProcessError\u001b[0m: Command 'b'nginx2_ip=$(\\n    docker inspect \\\\\\n    --format \\'{{ .NetworkSettings.IPAddress }}\\'\\\\\\n    test_nginx2\\n)\\n\\ncommand=\"curl -s $nginx2_ip\"\\necho \"=====command to be executed=====\"\\necho $command\\necho\\necho \"=====execution result=====\"\\ndocker exec test_nginx3 $command\\n'' returned non-zero exit status 28."
     ]
    }
   ],
   "source": [
    "%%bash\n",
    "nginx2_ip=$(\n",
    "    docker inspect \\\n",
    "    --format '{{ .NetworkSettings.IPAddress }}'\\\n",
    "    test_nginx2\n",
    ")\n",
    "\n",
    "command=\"curl -s $nginx2_ip\"\n",
    "echo \"=====command to be executed=====\"\n",
    "echo $command\n",
    "echo\n",
    "echo \"=====execution result=====\"\n",
    "docker exec test_nginx3 $command"
   ]
  }
 ],
 "metadata": {
  "kernelspec": {
   "display_name": "Python 3 (ipykernel)",
   "language": "python",
   "name": "python3"
  },
  "language_info": {
   "codemirror_mode": {
    "name": "ipython",
    "version": 3
   },
   "file_extension": ".py",
   "mimetype": "text/x-python",
   "name": "python",
   "nbconvert_exporter": "python",
   "pygments_lexer": "ipython3",
   "version": "3.10.12"
  }
 },
 "nbformat": 4,
 "nbformat_minor": 5
}
