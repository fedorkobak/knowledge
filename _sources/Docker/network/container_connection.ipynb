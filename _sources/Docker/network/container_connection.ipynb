{
 "cells": [
  {
   "cell_type": "markdown",
   "id": "bf001790-edd3-4ab7-82c6-8b1802329072",
   "metadata": {},
   "source": [
    "# Container connection"
   ]
  },
  {
   "cell_type": "markdown",
   "id": "17ebc0ef-10db-42f8-94f8-3a8ef2f3c727",
   "metadata": {},
   "source": [
    "## During container creation\n",
    "\n",
    "You need to use the `--net=<network id/name>` parameter for the `docker run` command. As in the following cell, `--net host` has been used, and the command that prints the name of the network container it is connected to shows `host`."
   ]
  },
  {
   "cell_type": "code",
   "execution_count": 9,
   "id": "6cd6c695-9ae6-4618-b78f-52194157cdd7",
   "metadata": {},
   "outputs": [
    {
     "name": "stdout",
     "output_type": "stream",
     "text": [
      "host \n"
     ]
    }
   ],
   "source": [
    "%%bash\n",
    "docker run --rm -itd --name just_net --net host ubuntu &> /dev/null\n",
    "docker inspect -f '{{range $key, $value := .NetworkSettings.Networks}}{{$key}} {{end}}' just_net\n",
    "docker stop just_net &> /dev/null"
   ]
  },
  {
   "cell_type": "markdown",
   "id": "eb798ff0-2988-454f-93e6-25a8c7320e4b",
   "metadata": {},
   "source": [
    "## Existing container\n",
    "\n",
    "You need to know commands:\n",
    "\n",
    "- `docker network connect <net name/id> <container name/id>` to connect any container to the selected network;\n",
    "- `docker network disconnect <net name/id> <container name/id>` to disconnect any container from the selected network.\n",
    "\n",
    "The manoeuvre of disconnecting a container from the selected network in which it was created by default and reconnecting it to another is shown in the next cell."
   ]
  },
  {
   "cell_type": "code",
   "execution_count": 16,
   "id": "4a7be2c4-f2e4-4c30-8eb4-eb86fc672f24",
   "metadata": {},
   "outputs": [
    {
     "name": "stdout",
     "output_type": "stream",
     "text": [
      "=====Just created container=====\n",
      "bridge \n",
      "=====Network disconnected=====\n",
      "\n",
      "=====Container connect to the host network=====\n",
      "none \n"
     ]
    }
   ],
   "source": [
    "%%bash\n",
    "docker run --rm -itd --name just_net ubuntu &> /dev/null\n",
    "echo \"=====Just created container=====\"\n",
    "docker inspect -f '{{range $key, $value := .NetworkSettings.Networks}}{{$key}} {{end}}' just_net\n",
    "\n",
    "docker network disconnect bridge just_net\n",
    "echo \"=====Network disconnected=====\"\n",
    "docker inspect -f '{{range $key, $value := .NetworkSettings.Networks}}{{$key}} {{end}}' just_net\n",
    "\n",
    "docker network connect none just_net\n",
    "echo \"=====Container connect to the host network=====\"\n",
    "docker inspect -f '{{range $key, $value := .NetworkSettings.Networks}}{{$key}} {{end}}' just_net\n",
    "\n",
    "docker stop just_net &> /dev/null"
   ]
  },
  {
   "cell_type": "markdown",
   "id": "2aaa3329-3f31-48b3-888b-1fcefa179f8a",
   "metadata": {},
   "source": [
    "**Note** you cannot connect the container to different networks at the same time. The following cell shows warning that docker prints if you'll try."
   ]
  },
  {
   "cell_type": "code",
   "execution_count": 18,
   "id": "6f63fecf-bec1-4fd6-b5e0-77f4b86d0803",
   "metadata": {},
   "outputs": [
    {
     "name": "stderr",
     "output_type": "stream",
     "text": [
      "Error response from daemon: container cannot be connected to multiple networks with one of the networks in private (none) mode\n"
     ]
    }
   ],
   "source": [
    "%%bash\n",
    "docker run --rm -itd --name just_net ubuntu &> /dev/null\n",
    "docker network connect none just_net\n",
    "docker stop just_net &> /dev/null"
   ]
  }
 ],
 "metadata": {
  "kernelspec": {
   "display_name": "Python 3 (ipykernel)",
   "language": "python",
   "name": "python3"
  },
  "language_info": {
   "codemirror_mode": {
    "name": "ipython",
    "version": 3
   },
   "file_extension": ".py",
   "mimetype": "text/x-python",
   "name": "python",
   "nbconvert_exporter": "python",
   "pygments_lexer": "ipython3",
   "version": "3.10.12"
  }
 },
 "nbformat": 4,
 "nbformat_minor": 5
}
