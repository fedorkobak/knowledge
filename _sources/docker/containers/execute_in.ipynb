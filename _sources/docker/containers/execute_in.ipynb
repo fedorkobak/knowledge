{
 "cells": [
  {
   "cell_type": "markdown",
   "metadata": {},
   "source": [
    "# Execute in\n",
    "\n",
    "You can use `docker exec [OPTIONS] CONTAINER COMMAND [ARG...]` to run some commands in the container. This page focuses on the features of this command."
   ]
  },
  {
   "cell_type": "markdown",
   "metadata": {},
   "source": [
    "The following cell runs the container that we'll use for experiments."
   ]
  },
  {
   "cell_type": "code",
   "execution_count": 9,
   "metadata": {
    "vscode": {
     "languageId": "shellscript"
    }
   },
   "outputs": [],
   "source": [
    "docker run -tid --rm --name exec_tests alpine &> /dev/null"
   ]
  },
  {
   "cell_type": "markdown",
   "metadata": {},
   "source": [
    "**Note** don't forget to stop the container after all."
   ]
  },
  {
   "cell_type": "code",
   "execution_count": 7,
   "metadata": {
    "vscode": {
     "languageId": "shellscript"
    }
   },
   "outputs": [
    {
     "name": "stdout",
     "output_type": "stream",
     "text": [
      "test_container\n"
     ]
    }
   ],
   "source": [
    "docker stop exec_tests"
   ]
  },
  {
   "cell_type": "markdown",
   "metadata": {},
   "source": [
    "## Execute script\n",
    "\n",
    "Sometimes it's useful to run a script—a set of commands—using `docker exec`. The specific options depend on the container you're running, but for `bash` and `sh`, you can run a shell and specify the `-c` option. The text in quotes will be recognized as a command."
   ]
  },
  {
   "cell_type": "markdown",
   "metadata": {},
   "source": [
    "---\n",
    "\n",
    "The following cell shows execution of the script that creates folder `sh_c` and creates some files in this folder in cycle."
   ]
  },
  {
   "cell_type": "code",
   "execution_count": 14,
   "metadata": {
    "vscode": {
     "languageId": "shellscript"
    }
   },
   "outputs": [],
   "source": [
    "docker exec exec_tests sh -c '\n",
    "mkdir sh_c\n",
    "for i in $(seq 1 10); do\n",
    "    touch sh_c/file$i\n",
    "done\n",
    "'"
   ]
  },
  {
   "cell_type": "markdown",
   "metadata": {},
   "source": [
    "Let's check if the files were truly created."
   ]
  },
  {
   "cell_type": "code",
   "execution_count": 15,
   "metadata": {
    "vscode": {
     "languageId": "shellscript"
    }
   },
   "outputs": [
    {
     "name": "stdout",
     "output_type": "stream",
     "text": [
      "file1\n",
      "file10\n",
      "file2\n",
      "file3\n",
      "file4\n",
      "file5\n",
      "file6\n",
      "file7\n",
      "file8\n",
      "file9\n"
     ]
    }
   ],
   "source": [
    "docker exec exec_tests ls sh_c"
   ]
  },
  {
   "cell_type": "markdown",
   "metadata": {},
   "source": [
    "## Heredoc to container\n",
    "\n",
    "You can save a file directly to a Docker container from the terminal without using temporary files. To do this, combine Docker's file writing command with the `heredoc` syntax in Bash."
   ]
  },
  {
   "cell_type": "markdown",
   "metadata": {},
   "source": [
    "---\n",
    "\n",
    "The following example starts such a container and saves a multiline file in it using the `heredoc` and `cat` commands of the `sh` shell available in `alpine`."
   ]
  },
  {
   "cell_type": "code",
   "execution_count": 9,
   "metadata": {
    "vscode": {
     "languageId": "shellscript"
    }
   },
   "outputs": [],
   "source": [
    "docker exec -i exec_tests sh -c 'cat > /this_is_file' <<EOF\n",
    "This is multiline file in the container.\n",
    "line1\n",
    "line2\n",
    "line3\n",
    "EOF"
   ]
  },
  {
   "cell_type": "markdown",
   "metadata": {},
   "source": [
    "Let's see if the file has been added to the container."
   ]
  },
  {
   "cell_type": "code",
   "execution_count": 10,
   "metadata": {
    "vscode": {
     "languageId": "shellscript"
    }
   },
   "outputs": [
    {
     "name": "stdout",
     "output_type": "stream",
     "text": [
      "This is multiline file in the container.\n",
      "line1\n",
      "line2\n",
      "line3\n"
     ]
    }
   ],
   "source": [
    "docker exec exec_tests cat /this_is_file"
   ]
  }
 ],
 "metadata": {
  "kernelspec": {
   "display_name": "Bash",
   "language": "bash",
   "name": "bash"
  },
  "language_info": {
   "codemirror_mode": "shell",
   "file_extension": ".sh",
   "mimetype": "text/x-sh",
   "name": "bash"
  }
 },
 "nbformat": 4,
 "nbformat_minor": 2
}
