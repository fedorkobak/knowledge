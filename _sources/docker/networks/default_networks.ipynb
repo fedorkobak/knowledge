{
 "cells": [
  {
   "cell_type": "markdown",
   "id": "9b9840fa-80c6-4d09-a6bd-0d7e02b0b829",
   "metadata": {},
   "source": [
    "# Default networks\n",
    "\n",
    "There are three default networks in Docker. Let's look at them all. "
   ]
  },
  {
   "cell_type": "markdown",
   "id": "552fea91",
   "metadata": {},
   "source": [
    "## Bridge\n",
    "\n",
    "This network makes it possible to communicate with containers using a set of rules. "
   ]
  },
  {
   "cell_type": "markdown",
   "id": "02a58482",
   "metadata": {},
   "source": [
    "---\n",
    "\n",
    "The next cell starts a container connected to the bridge network.\n",
    "\n",
    "**Note** the port specification is critical here."
   ]
  },
  {
   "cell_type": "code",
   "execution_count": 1,
   "id": "011aacca",
   "metadata": {
    "vscode": {
     "languageId": "shellscript"
    }
   },
   "outputs": [],
   "source": [
    "docker run --rm -itd -p 80:80 \\\n",
    "    --name bridge_example \\\n",
    "    --network bridge \\\n",
    "    nginx &> /dev/null"
   ]
  },
  {
   "cell_type": "markdown",
   "id": "f32c5d2d",
   "metadata": {},
   "source": [
    "You can **access the container from the host** through the specified port. The following cell curls the nginx welcome page."
   ]
  },
  {
   "cell_type": "code",
   "execution_count": 2,
   "id": "303785c1",
   "metadata": {
    "vscode": {
     "languageId": "shellscript"
    }
   },
   "outputs": [
    {
     "name": "stdout",
     "output_type": "stream",
     "text": [
      "<!DOCTYPE html>\n",
      "<html>\n",
      "<head>\n",
      "<title>Welcome to nginx!</title>\n",
      "<style>\n",
      "html { color-scheme: light dark; }\n",
      "body { width: 35em; margin: 0 auto;\n",
      "font-family: Tahoma, Verdana, Arial, sans-serif; }\n",
      "</style>\n",
      "</head>\n"
     ]
    }
   ],
   "source": [
    "curl -s localhost:80 | head -n 10"
   ]
  },
  {
   "cell_type": "markdown",
   "id": "04f75750",
   "metadata": {},
   "source": [
    "And you can freely **access the Internet** from the container. The next cell shows curling httpbin from the container."
   ]
  },
  {
   "cell_type": "code",
   "execution_count": 5,
   "id": "b467b0e7",
   "metadata": {
    "vscode": {
     "languageId": "shellscript"
    }
   },
   "outputs": [
    {
     "name": "stdout",
     "output_type": "stream",
     "text": [
      "{\n",
      "  \"args\": {}, \n",
      "  \"data\": \"\", \n",
      "  \"files\": {}, \n",
      "  \"form\": {}, \n",
      "  \"headers\": {\n",
      "    \"Accept\": \"*/*\", \n",
      "    \"Host\": \"httpbin.org\", \n",
      "    \"User-Agent\": \"curl/7.88.1\", \n",
      "    \"X-Amzn-Trace-Id\": \"Root=1-66a63219-0e94bc7504020c563550a0bb\"\n",
      "  }, \n",
      "  \"json\": null, \n",
      "  \"method\": \"GET\", \n",
      "  \"origin\": \"37.214.79.105\", \n",
      "  \"url\": \"https://httpbin.org/anything\"\n",
      "}\n"
     ]
    }
   ],
   "source": [
    "docker exec bridge_example curl -s https://httpbin.org/anything"
   ]
  },
  {
   "cell_type": "markdown",
   "id": "42580cc8",
   "metadata": {},
   "source": [
    "Don't forget to stop the container after all."
   ]
  },
  {
   "cell_type": "code",
   "execution_count": null,
   "id": "35c927f6",
   "metadata": {
    "vscode": {
     "languageId": "shellscript"
    }
   },
   "outputs": [],
   "source": [
    "docker stop bridge_example"
   ]
  },
  {
   "cell_type": "markdown",
   "id": "3ec7a033",
   "metadata": {},
   "source": [
    "## None\n",
    "\n",
    "None network is just an abstraction that closes all network interactions with the container. "
   ]
  },
  {
   "cell_type": "markdown",
   "id": "18bdb699",
   "metadata": {},
   "source": [
    "---\n",
    "\n",
    "In the next cell port is thrown for the purpose of checking that we still can't access the container even if the correct port is specified."
   ]
  },
  {
   "cell_type": "code",
   "execution_count": 6,
   "id": "8648742d",
   "metadata": {
    "vscode": {
     "languageId": "shellscript"
    }
   },
   "outputs": [],
   "source": [
    "docker run --rm -itd -p 80:80 \\\n",
    "    --name none_example \\\n",
    "    --network none \\\n",
    "    nginx &> /dev/null"
   ]
  },
  {
   "cell_type": "markdown",
   "id": "05b9fadf",
   "metadata": {},
   "source": [
    "The next cell shows that curling the container from the host results in no response."
   ]
  },
  {
   "cell_type": "code",
   "execution_count": 11,
   "id": "ea842c04",
   "metadata": {
    "vscode": {
     "languageId": "shellscript"
    }
   },
   "outputs": [
    {
     "name": "stdout",
     "output_type": "stream",
     "text": [
      "curl: (7) Failed to connect to localhost port 80 after 0 ms: Connection refused\n"
     ]
    },
    {
     "ename": "",
     "evalue": "7",
     "output_type": "error",
     "traceback": []
    }
   ],
   "source": [
    "curl localhost:80"
   ]
  },
  {
   "cell_type": "markdown",
   "id": "c79908d1",
   "metadata": {},
   "source": [
    "Attempting to access the internet from the container will also result in an error."
   ]
  },
  {
   "cell_type": "code",
   "execution_count": 12,
   "id": "71437a25",
   "metadata": {
    "vscode": {
     "languageId": "shellscript"
    }
   },
   "outputs": [
    {
     "name": "stdout",
     "output_type": "stream",
     "text": [
      "curl: (6) Could not resolve host: httpbin.org\n"
     ]
    },
    {
     "ename": "",
     "evalue": "6",
     "output_type": "error",
     "traceback": []
    }
   ],
   "source": [
    "docker exec -it none_example curl https://httpbin.org/anything"
   ]
  },
  {
   "cell_type": "markdown",
   "id": "1d13c6de",
   "metadata": {},
   "source": [
    "Don't forget to stop the container after all."
   ]
  },
  {
   "cell_type": "code",
   "execution_count": null,
   "id": "89f1ef04",
   "metadata": {
    "vscode": {
     "languageId": "shellscript"
    }
   },
   "outputs": [],
   "source": [
    "docker stop none_example"
   ]
  },
  {
   "cell_type": "markdown",
   "id": "93273f53",
   "metadata": {},
   "source": [
    "## Host\n",
    "\n",
    "Completely removes the container's network isolation, that is, the container shares the network completely with the host."
   ]
  },
  {
   "cell_type": "markdown",
   "id": "a75ab8fa",
   "metadata": {},
   "source": [
    "---\n",
    "\n",
    "The following cell starts a container connected to the host network. \n",
    "\n",
    "**Note** that there is no port specified - we don't need it, we can communicate with the container just as we can with porcess on the host."
   ]
  },
  {
   "cell_type": "code",
   "execution_count": 21,
   "id": "b2d7f10f",
   "metadata": {
    "vscode": {
     "languageId": "shellscript"
    }
   },
   "outputs": [],
   "source": [
    "docker run --rm -itd \\\n",
    "    --name host_example \\\n",
    "    --network host  \\\n",
    "    nginx &> /dev/null"
   ]
  },
  {
   "cell_type": "markdown",
   "id": "6f4cd1ad",
   "metadata": {},
   "source": [
    "Even though port wasn't specified for the container, we can still access the container from host using the default nginx port."
   ]
  },
  {
   "cell_type": "code",
   "execution_count": 22,
   "id": "b28b1b48",
   "metadata": {
    "vscode": {
     "languageId": "shellscript"
    }
   },
   "outputs": [
    {
     "name": "stdout",
     "output_type": "stream",
     "text": [
      "<!DOCTYPE html>\n",
      "<html>\n",
      "<head>\n",
      "<title>Welcome to nginx!</title>\n",
      "<style>\n",
      "html { color-scheme: light dark; }\n",
      "body { width: 35em; margin: 0 auto;\n",
      "font-family: Tahoma, Verdana, Arial, sans-serif; }\n",
      "</style>\n",
      "</head>\n"
     ]
    }
   ],
   "source": [
    "curl -s localhost:80 | head -n 10"
   ]
  },
  {
   "cell_type": "markdown",
   "id": "692c10a2",
   "metadata": {},
   "source": [
    "So there is internet access from the container."
   ]
  },
  {
   "cell_type": "code",
   "execution_count": 23,
   "id": "cdf86a60",
   "metadata": {
    "vscode": {
     "languageId": "shellscript"
    }
   },
   "outputs": [
    {
     "name": "stdout",
     "output_type": "stream",
     "text": [
      "{\n",
      "  \"args\": {}, \n",
      "  \"data\": \"\", \n",
      "  \"files\": {}, \n",
      "  \"form\": {}, \n",
      "  \"headers\": {\n",
      "    \"Accept\": \"*/*\", \n",
      "    \"Host\": \"httpbin.org\", \n",
      "    \"User-Agent\": \"curl/7.88.1\", \n",
      "    \"X-Amzn-Trace-Id\": \"Root=1-66a63b50-4d0c620c69944ca507bcc11c\"\n",
      "  }, \n",
      "  \"json\": null, \n",
      "  \"method\": \"GET\", \n",
      "  \"origin\": \"37.214.79.105\", \n",
      "  \"url\": \"https://httpbin.org/anything\"\n",
      "}\n"
     ]
    }
   ],
   "source": [
    "docker exec -it host_example curl https://httpbin.org/anything"
   ]
  },
  {
   "cell_type": "markdown",
   "id": "9c7fe88e",
   "metadata": {},
   "source": [
    "Don't forget to stop the container."
   ]
  },
  {
   "cell_type": "code",
   "execution_count": 24,
   "id": "260bafa5",
   "metadata": {
    "vscode": {
     "languageId": "shellscript"
    }
   },
   "outputs": [
    {
     "name": "stdout",
     "output_type": "stream",
     "text": [
      "host_example\n"
     ]
    }
   ],
   "source": [
    "docker stop host_example"
   ]
  },
  {
   "cell_type": "markdown",
   "id": "549dcc56",
   "metadata": {},
   "source": [
    "### Connect/disconnect host network\n",
    "\n",
    "You cannot connect or disconnect host network."
   ]
  },
  {
   "cell_type": "markdown",
   "id": "181d7d7c",
   "metadata": {},
   "source": [
    "---\n",
    "\n",
    "The following cell shows an attempt to connect a container to the `host` network. The result is an `error message`."
   ]
  },
  {
   "cell_type": "code",
   "execution_count": 9,
   "id": "49bfc643",
   "metadata": {
    "vscode": {
     "languageId": "shellscript"
    }
   },
   "outputs": [
    {
     "name": "stdout",
     "output_type": "stream",
     "text": [
      "Error response from daemon: container cannot be disconnected from host network or connected to host network\n"
     ]
    }
   ],
   "source": [
    "docker run -itd --rm --name test_container alpine &> /dev/null\n",
    "docker network disconnect bridge test_container\n",
    "docker network connect host test_container\n",
    "docker stop test_container &> /dev/null"
   ]
  }
 ],
 "metadata": {
  "kernelspec": {
   "display_name": "Bash",
   "language": "bash",
   "name": "bash"
  },
  "language_info": {
   "codemirror_mode": "shell",
   "file_extension": ".sh",
   "mimetype": "text/x-sh",
   "name": "bash"
  }
 },
 "nbformat": 4,
 "nbformat_minor": 5
}
