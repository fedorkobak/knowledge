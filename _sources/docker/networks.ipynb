{
 "cells": [
  {
   "cell_type": "markdown",
   "metadata": {},
   "source": [
    "# Networks\n",
    "\n",
    "This section focuses on docker networks in docker."
   ]
  },
  {
   "cell_type": "markdown",
   "metadata": {},
   "source": [
    "## Check network of container\n",
    "\n",
    "It is crucial to obtain the name of the network to which the container is connected. To achieve this, you can use the following command:\n",
    "\n",
    "`docker inspect -f '{{range $key, $value := .NetworkSettings.Networks}}{{$key}} {{end}}' <container name>`"
   ]
  },
  {
   "cell_type": "markdown",
   "metadata": {},
   "source": [
    "---\n",
    "\n",
    "The following cell prints the network name for the container just created."
   ]
  },
  {
   "cell_type": "code",
   "execution_count": 1,
   "metadata": {
    "vscode": {
     "languageId": "shellscript"
    }
   },
   "outputs": [
    {
     "name": "stdout",
     "output_type": "stream",
     "text": [
      "bridge \n"
     ]
    }
   ],
   "source": [
    "docker run --name network_test -itd alpine &> /dev/null\n",
    "docker inspect \\\n",
    "    -f '{{range $key, $value := .NetworkSettings.Networks}}{{$key}} {{end}}' \\\n",
    "    network_test\n",
    "docker stop network_test &> /dev/null"
   ]
  },
  {
   "cell_type": "markdown",
   "metadata": {},
   "source": [
    "Containers connect to the `brindge` network by default. As a result we got the message `bridge`."
   ]
  },
  {
   "cell_type": "markdown",
   "metadata": {},
   "source": [
    "## Connect container\n",
    "\n",
    "To effectively connect Docker containers to networks, you need to understand the following options:\n",
    "\n",
    "- The `--network <network>` parameter in the `docker run` command, which specifies the network a container should connect to.\n",
    "- The `docker network connect <network> <container>` command, used for connecting an existing container to a specified network.\n",
    "- The `docker network disconnect <network> <container>` command, used for disconnecting a container from a network."
   ]
  },
  {
   "cell_type": "markdown",
   "metadata": {
    "vscode": {
     "languageId": "shellscript"
    }
   },
   "source": [
    "---\n",
    "\n",
    "As an example, let's look at the `test_network` created in the following cell."
   ]
  },
  {
   "cell_type": "code",
   "execution_count": 22,
   "metadata": {
    "vscode": {
     "languageId": "shellscript"
    }
   },
   "outputs": [
    {
     "ename": "",
     "evalue": "1",
     "output_type": "error",
     "traceback": []
    }
   ],
   "source": [
    "docker network create test_network &> /dev/null"
   ]
  },
  {
   "cell_type": "markdown",
   "metadata": {},
   "source": [
    "---\n",
    "\n",
    "The following example shows how to connect the container to the `test_network` using the `--network` parameter of the `docker run command`. It connects a new container to the network and then prints it's network name corresponding to the container."
   ]
  },
  {
   "cell_type": "code",
   "execution_count": 23,
   "metadata": {
    "vscode": {
     "languageId": "shellscript"
    }
   },
   "outputs": [
    {
     "name": "stdout",
     "output_type": "stream",
     "text": [
      "test_network \n"
     ]
    }
   ],
   "source": [
    "docker run -itd --rm \\\n",
    "    --network test_network \\\n",
    "    --name test_container \\\n",
    "    alpine &> /dev/null\n",
    "\n",
    "docker inspect \\\n",
    "    -f '{{range $key, $value := .NetworkSettings.Networks}}{{$key}} {{end}}' \\\n",
    "    test_container"
   ]
  },
  {
   "cell_type": "markdown",
   "metadata": {
    "vscode": {
     "languageId": "shellscript"
    }
   },
   "source": [
    "---\n",
    "\n",
    "Now, using `docker disconnect`, we can disconnect the container from the `test_network`. And again - print out the container's current network."
   ]
  },
  {
   "cell_type": "code",
   "execution_count": 19,
   "metadata": {
    "vscode": {
     "languageId": "shellscript"
    }
   },
   "outputs": [
    {
     "name": "stdout",
     "output_type": "stream",
     "text": [
      "\n"
     ]
    }
   ],
   "source": [
    "docker network disconnect test_network test_container\n",
    "docker inspect \\\n",
    "    -f '{{range $key, $value := .NetworkSettings.Networks}}{{$key}} {{end}}' \\\n",
    "    test_container"
   ]
  },
  {
   "cell_type": "markdown",
   "metadata": {},
   "source": [
    "So now we consider that containers simply have no network."
   ]
  },
  {
   "cell_type": "markdown",
   "metadata": {},
   "source": [
    "---\n",
    "\n",
    "Here is the example of connecting the container back to the network using command `docker network connect`."
   ]
  },
  {
   "cell_type": "code",
   "execution_count": 20,
   "metadata": {
    "vscode": {
     "languageId": "shellscript"
    }
   },
   "outputs": [
    {
     "name": "stdout",
     "output_type": "stream",
     "text": [
      "test_network \n"
     ]
    }
   ],
   "source": [
    "docker network connect test_network test_container\n",
    "docker inspect \\\n",
    "    -f '{{range $key, $value := .NetworkSettings.Networks}}{{$key}} {{end}}' \\\n",
    "    test_container"
   ]
  },
  {
   "cell_type": "markdown",
   "metadata": {},
   "source": [
    "So we got `test_network` back in the output."
   ]
  },
  {
   "cell_type": "markdown",
   "metadata": {},
   "source": [
    "Remove all temporary entities to keep the environment clean."
   ]
  },
  {
   "cell_type": "code",
   "execution_count": 21,
   "metadata": {
    "vscode": {
     "languageId": "shellscript"
    }
   },
   "outputs": [],
   "source": [
    "docker stop test_container &> /dev/null\n",
    "docker network rm test_network &> /dev/null"
   ]
  },
  {
   "cell_type": "markdown",
   "metadata": {},
   "source": [
    "## Default networks\n",
    "\n",
    "For more infomation check [specific page](networks/default_networks.ipynb).\n",
    "\n",
    "Docker has three default networks: `bridge`, `host`, and `none`. The following command lists all of them:"
   ]
  },
  {
   "cell_type": "code",
   "execution_count": 1,
   "metadata": {
    "vscode": {
     "languageId": "shellscript"
    }
   },
   "outputs": [
    {
     "name": "stdout",
     "output_type": "stream",
     "text": [
      "NETWORK ID     NAME      DRIVER    SCOPE\n",
      "77a0faf549ac   bridge    bridge    local\n",
      "80c3e6772c8c   host      host      local\n",
      "45bb103d970f   none      null      local\n"
     ]
    }
   ],
   "source": [
    "docker network ls \\\n",
    "    --filter name=bridge \\\n",
    "    --filter name=host \\\n",
    "    --filter name=none"
   ]
  },
  {
   "cell_type": "markdown",
   "metadata": {
    "vscode": {
     "languageId": "shellscript"
    }
   },
   "source": [
    "Here's a brief description of each default Docker network:\n",
    "\n",
    "1. **Bridge**: The default network for containers when none is specified. Containers on the same bridge network can communicate with each other using their container names or IP addresses. It provides basic isolation between containers on different bridge networks.\n",
    "\n",
    "2. **Host**: Containers share the host’s network stack and IP address. This means the container will have direct access to the host’s network interfaces and ports, which can be useful for performance but offers less isolation.\n",
    "\n",
    "3. **None**: Disables all networking for the container. Containers on the `none` network cannot communicate with other containers or the outside world, making it suitable for scenarios where networking is not needed."
   ]
  },
  {
   "cell_type": "markdown",
   "metadata": {},
   "source": [
    "## Containers communication\n",
    "\n",
    "There is a way to organise container communication - to be able to send arbitrary messages from one container to another. This section deals with this issue.\n",
    "\n",
    "Find out more in the specific for this topic [page](networks/container_communication.ipynb)."
   ]
  },
  {
   "cell_type": "markdown",
   "metadata": {},
   "source": [
    "---\n",
    "\n",
    "We will try to organise client/server communication. The `example_client` will try to send requests to the `example_server` container."
   ]
  },
  {
   "cell_type": "code",
   "execution_count": 1,
   "metadata": {
    "vscode": {
     "languageId": "shellscript"
    }
   },
   "outputs": [
    {
     "name": "stdout",
     "output_type": "stream",
     "text": [
      "b6b0ca6c0bc7be5670b39d224aa683ea5a8c9f261258e36b4c2500552c94fa9a\n",
      "1bfdf8f7954f5d15a8edfb8a0f3154f583f2422ce96b537e20e00a5191efe3db\n"
     ]
    }
   ],
   "source": [
    "docker run -itd --name example_client --rm alpine\n",
    "docker exec example_client apk add curl &> /dev/null\n",
    "\n",
    "docker run -itd --name example_server --rm kennethreitz/httpbin"
   ]
  },
  {
   "cell_type": "markdown",
   "metadata": {},
   "source": [
    "Even considering that, by default, the created containers are on the same docker network. Messages from one container will not pass to another container. The following cell shows it."
   ]
  },
  {
   "cell_type": "code",
   "execution_count": 10,
   "metadata": {
    "vscode": {
     "languageId": "shellscript"
    }
   },
   "outputs": [
    {
     "ename": "",
     "evalue": "6",
     "output_type": "error",
     "traceback": []
    }
   ],
   "source": [
    "docker exec example_client curl -s example_server"
   ]
  },
  {
   "cell_type": "markdown",
   "metadata": {},
   "source": [
    "**Note** you can access `exaple_server` by using it's ip instead of the name. Check \"[Communicating by IP](networks/container_communication.ipynb)\" section."
   ]
  },
  {
   "cell_type": "markdown",
   "metadata": {
    "vscode": {
     "languageId": "shellscript"
    }
   },
   "source": [
    "We need to connect both containers to the same custom network to make it all work."
   ]
  },
  {
   "cell_type": "code",
   "execution_count": 11,
   "metadata": {
    "vscode": {
     "languageId": "shellscript"
    }
   },
   "outputs": [],
   "source": [
    "docker network create test_network &> /dev/null\n",
    "docker network connect test_network example_server\n",
    "docker network connect test_network example_client"
   ]
  },
  {
   "cell_type": "markdown",
   "metadata": {},
   "source": [
    "That's all we needed, no ports required. Using just the container name we can access `example_server` from `example_client`. The following cell shows exact option."
   ]
  },
  {
   "cell_type": "code",
   "execution_count": 12,
   "metadata": {
    "vscode": {
     "languageId": "shellscript"
    }
   },
   "outputs": [
    {
     "name": "stdout",
     "output_type": "stream",
     "text": [
      "{\n",
      "  \"args\": {}, \n",
      "  \"data\": \"\", \n",
      "  \"files\": {}, \n",
      "  \"form\": {}, \n",
      "  \"headers\": {\n",
      "    \"Accept\": \"*/*\", \n",
      "    \"Host\": \"example_server\", \n",
      "    \"User-Agent\": \"curl/8.9.0\"\n",
      "  }, \n",
      "  \"json\": null, \n",
      "  \"method\": \"GET\", \n",
      "  \"origin\": \"172.18.0.3\", \n",
      "  \"url\": \"http://example_server/anything\"\n",
      "}\n"
     ]
    }
   ],
   "source": [
    "docker exec example_client curl -s example_server/anything"
   ]
  },
  {
   "cell_type": "markdown",
   "metadata": {
    "vscode": {
     "languageId": "shellscript"
    }
   },
   "source": [
    "Clean it all up."
   ]
  },
  {
   "cell_type": "code",
   "execution_count": 13,
   "metadata": {
    "vscode": {
     "languageId": "shellscript"
    }
   },
   "outputs": [
    {
     "name": "stdout",
     "output_type": "stream",
     "text": [
      "example_client\n",
      "example_server\n",
      "test_network\n"
     ]
    }
   ],
   "source": [
    "docker stop example_client example_server\n",
    "docker network rm test_network"
   ]
  },
  {
   "cell_type": "markdown",
   "metadata": {},
   "source": [
    "## Network interfaces\n",
    "\n",
    "Each container creates it's own network interface. To list information about network interfaces in linux you have to use `ifconfig` command."
   ]
  },
  {
   "cell_type": "markdown",
   "metadata": {},
   "source": [
    "---\n",
    "\n",
    "In the following cell we first printed the `ifconfig` result without specifying any containers, then started a few containers and ran `ifconfig` again."
   ]
  },
  {
   "cell_type": "code",
   "execution_count": 2,
   "metadata": {
    "vscode": {
     "languageId": "shellscript"
    }
   },
   "outputs": [
    {
     "name": "stdout",
     "output_type": "stream",
     "text": [
      "=====before creating a container=====\n",
      "Iface\n",
      "docker0\n",
      "eno1\n",
      "lo\n",
      "wlp0s20f\n",
      "=====after creating a container=====\n",
      "Iface\n",
      "docker0\n",
      "eno1\n",
      "lo\n",
      "veth0cb1\n",
      "veth795d\n",
      "vethc33d\n",
      "vethc6d4\n",
      "wlp0s20f\n"
     ]
    }
   ],
   "source": [
    "echo \"=====before creating a container=====\"\n",
    "ifconfig -s | awk '{print $1}'\n",
    "\n",
    "\n",
    "for i in {1..4}; do docker run --rm -d --name test_nginx$i nginx; done &> /dev/null\n",
    "echo \"=====after creating a container=====\"\n",
    "ifconfig -s | awk '{print $1}'\n",
    "\n",
    "docker stop test_nginx{1..4} &> /dev/null"
   ]
  },
  {
   "cell_type": "markdown",
   "metadata": {},
   "source": [
    "The second `ifconfig` we got more network interfaces."
   ]
  },
  {
   "cell_type": "markdown",
   "metadata": {},
   "source": [
    "## Internal ip address\n",
    "\n",
    "Each docker container has an internal ip address on the host machine. You can use this to access the container. Use `docker inspect -f '{{range .NetworkSettings.Networks}}{{.IPAddress}}{{end}}' <container name>` to get container's ip."
   ]
  },
  {
   "cell_type": "markdown",
   "metadata": {},
   "source": [
    "---\n",
    "\n",
    "The following cell starts a docker container with a python http server. Stores the container's ip in the `server_ip` variable and prints it out."
   ]
  },
  {
   "cell_type": "code",
   "execution_count": 9,
   "metadata": {
    "vscode": {
     "languageId": "shellscript"
    }
   },
   "outputs": [
    {
     "name": "stdout",
     "output_type": "stream",
     "text": [
      "49f56ecb03e566f8d1b144513a229b5aaefa52aae952658d96e295788a630496\n",
      "172.17.0.2\n"
     ]
    }
   ],
   "source": [
    "docker run --rm -itd -p 12345:12345 --name http_serv python:3.12 \\\n",
    "python3 -m http.server 12345\n",
    "\n",
    "server_ip=$(\n",
    "    docker inspect -f '{{range .NetworkSettings.Networks}}{{.IPAddress}}{{end}}' http_serv\n",
    ")\n",
    "echo $server_ip"
   ]
  },
  {
   "cell_type": "markdown",
   "metadata": {},
   "source": [
    "Now access to the server via the container's ip in the host."
   ]
  },
  {
   "cell_type": "code",
   "execution_count": 11,
   "metadata": {
    "vscode": {
     "languageId": "shellscript"
    }
   },
   "outputs": [
    {
     "name": "stdout",
     "output_type": "stream",
     "text": [
      "<!DOCTYPE HTML>\n",
      "<html lang=\"en\">\n",
      "<head>\n",
      "<meta charset=\"utf-8\">\n",
      "<title>Directory listing for /</title>\n",
      "</head>\n",
      "<body>\n",
      "<h1>Directory listing for /</h1>\n",
      "<hr>\n",
      "<ul>\n",
      "<li><a href=\".dockerenv\">.dockerenv</a></li>\n",
      "<li><a href=\"bin/\">bin@</a></li>\n",
      "<li><a href=\"boot/\">boot/</a></li>\n",
      "<li><a href=\"dev/\">dev/</a></li>\n",
      "<li><a href=\"etc/\">etc/</a></li>\n",
      "<li><a href=\"home/\">home/</a></li>\n",
      "<li><a href=\"lib/\">lib@</a></li>\n",
      "<li><a href=\"lib64/\">lib64@</a></li>\n",
      "<li><a href=\"media/\">media/</a></li>\n",
      "<li><a href=\"mnt/\">mnt/</a></li>\n",
      "<li><a href=\"opt/\">opt/</a></li>\n",
      "<li><a href=\"proc/\">proc/</a></li>\n",
      "<li><a href=\"root/\">root/</a></li>\n",
      "<li><a href=\"run/\">run/</a></li>\n",
      "<li><a href=\"sbin/\">sbin@</a></li>\n",
      "<li><a href=\"srv/\">srv/</a></li>\n",
      "<li><a href=\"sys/\">sys/</a></li>\n",
      "<li><a href=\"tmp/\">tmp/</a></li>\n",
      "<li><a href=\"usr/\">usr/</a></li>\n",
      "<li><a href=\"var/\">var/</a></li>\n",
      "</ul>\n",
      "<hr>\n",
      "</body>\n",
      "</html>\n"
     ]
    }
   ],
   "source": [
    "curl $server_ip:12345"
   ]
  },
  {
   "cell_type": "code",
   "execution_count": 8,
   "metadata": {
    "vscode": {
     "languageId": "shellscript"
    }
   },
   "outputs": [
    {
     "name": "stdout",
     "output_type": "stream",
     "text": [
      "http_serv\n"
     ]
    }
   ],
   "source": [
    "docker stop http_serv"
   ]
  }
 ],
 "metadata": {
  "kernelspec": {
   "display_name": "Bash",
   "language": "bash",
   "name": "bash"
  },
  "language_info": {
   "codemirror_mode": "shell",
   "file_extension": ".sh",
   "mimetype": "text/x-sh",
   "name": "bash"
  }
 },
 "nbformat": 4,
 "nbformat_minor": 2
}
