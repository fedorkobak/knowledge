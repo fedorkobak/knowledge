{
 "cells": [
  {
   "cell_type": "markdown",
   "id": "25ea4539",
   "metadata": {},
   "source": [
    "# Classic models\n",
    "\n",
    "There is a set of approaches for building algorithms that learn patterns from data, which were spreaded before the deep learning networks. This page considers these approaches."
   ]
  },
  {
   "cell_type": "markdown",
   "id": "10322186",
   "metadata": {},
   "source": [
    "## Gradient boosting\n",
    "\n",
    "Gradient boosting is an ensemble approach to fitting machine learning models. Each subsequent weak learner (single model which composes the final ensemble) corrects the errors of the previous one.\n",
    "\n",
    "Consider **general boosting algorithm**:\n",
    "\n",
    "Lets denote:\n",
    "\n",
    "- $K$: nubmer of weak learners in the model.\n",
    "- $f_k(x_i), k = \\overline{1, K}$: $k$-th weak laerner.\n",
    "- $\\hat{y}_i^{(k)}, k = \\overline{1, K}$: predict of the $k$-th weak learner for $i$-th observation.\n",
    "\n",
    "$$\n",
    "\\hat{y}_i^{(0)} = 0 \\\\\n",
    "\\hat{y}_i^{(1)} = f_1(x_i) = \\hat{y}_i^{(0)} + f_1(x_i) \\\\\n",
    "\\hat{y}_i^{(2)} = f_1(x_i) + f_2(x_i)  = \\hat{y}_i^{(1)} + f_2(x_i)\\\\\n",
    "\\ldots \\\\\n",
    "\\hat{y}_i^{(K)} = \\hat{y}_i^{(K-1)} + f_{K}(x_i)  \n",
    "$$\n",
    "\n",
    "The final learner is:\n",
    "\n",
    "$$\\hat{y}_i^{(K)} = \\hat{y}_i^{(K-1)} + f_{K}(x_i) = \\sum_{k=0}^{K} f_k(x_i)$$\n",
    "\n",
    "The the best results are achieved by a special modification of the boosting: **Gradient Boosting**. The main feature of the gradient boosting is a way it looks for subsequent weak learners $f_k, k=\\overline{1, K}$.\n",
    "\n",
    "Let's consider the $k$-th step of the fitting algorithm for consideration. The idea dehind gradient boosting is to fit $f_k(x_j)$$ in order to predict the values of partial derivatives of some loss funciton $L[y, \\hat{y}^{(k-1)}]$ by $\\hat{y}^{(k-1)}_j$. More formally, the values that are supposed to be predicted by weak learner $f_k$ are:\n",
    "\n",
    "$$s_i = -\\frac{\\partial L\\left[y, \\hat{y}^{(k-1)}\\right]}{\\partial \\hat{y}^{(k-1)}_i}\\left(\\hat{y}^{(k-1)}\\right)$$\n",
    "\n",
    "Where:\n",
    "\n",
    "- $y=\\left(y_1, y_2, \\ldots, y_n \\right)$: the vector of final targets.\n",
    "- $\\hat{y}^{(k-1)} = \\left(\\hat{y}^{(k-1)}_1, \\hat{y}^{k-1}_2, \\ldots, \\hat{y}^{k-1}_n\\right)$: the vector of predictions is produced by the enseble of the first $k-1$ weak learners.\n",
    "\n",
    "This approach assumes that, using gradient boosting, you try to select such an $f_k$ that its predictions are close to the $s_i$ that correspond is corresponds to the direction that minimises the selected loss."
   ]
  }
 ],
 "metadata": {
  "language_info": {
   "name": "python"
  }
 },
 "nbformat": 4,
 "nbformat_minor": 5
}
