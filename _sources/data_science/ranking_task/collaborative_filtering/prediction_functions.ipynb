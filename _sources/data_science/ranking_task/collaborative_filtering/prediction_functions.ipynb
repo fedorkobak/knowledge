{
 "cells": [
  {
   "cell_type": "markdown",
   "id": "fd11e80e-9363-4f3d-ab25-20534521eb9b",
   "metadata": {},
   "source": [
    "# Prediction functions\n",
    "\n",
    "In the collaborative approach, once you have identified similar objects, you need to use them to predict preferences for items. There is a formula that allows you to do this. This formula was difficult for me to understand, so this page focuses on understanding this formula."
   ]
  },
  {
   "cell_type": "code",
   "execution_count": 31,
   "id": "e0b7930d-9e39-4650-9458-4482af82d696",
   "metadata": {},
   "outputs": [],
   "source": [
    "import numpy as np\n",
    "\n",
    "from sklearn.datasets import make_blobs\n",
    "from IPython.display import HTML, Markdown\n",
    "\n",
    "# this is dimentions of R\n",
    "# matrix that will be used\n",
    "# as example\n",
    "r_width = 10\n",
    "r_height = 20\n",
    "\n",
    "# this is a header for tables for pretty display\n",
    "common_header = (\n",
    "    \"<tr>\"\n",
    "        \"<th rowspan=\\\"2\\\">Object</th>\"\n",
    "        f\"<th colspan=\\\"{str(r_width)}\\\" style='text-align:center'>Ranks of the items</th>\"\n",
    "        \"<th rowspan=\\\"2\\\">Group</th>\"\n",
    "    \"</tr>\"\n",
    "    \"<tr>\"+\n",
    "        \"\".join([f\"<th>{str(i)}</th>\" for i in range(r_width)])+\n",
    "    \"</tr>\"\n",
    ")"
   ]
  },
  {
   "cell_type": "markdown",
   "id": "6ac54e54-fcf3-4fff-80ad-3cb261b7925a",
   "metadata": {},
   "source": [
    "## Task generation\n",
    "\n",
    "The following cell generates an example that I'll use to show the sense of some transformations."
   ]
  },
  {
   "cell_type": "code",
   "execution_count": 2,
   "id": "e1a8f28d-0f34-4e36-88ec-afa7ea5149c1",
   "metadata": {},
   "outputs": [
    {
     "data": {
      "text/html": [
       "<table><tr><th rowspan=\"2\">Object</th><th colspan=\"10\" style='text-align:center'>Ranks of the items</th><th rowspan=\"2\">Group</th></tr><tr><th>0</th><th>1</th><th>2</th><th>3</th><th>4</th><th>5</th><th>6</th><th>7</th><th>8</th><th>9</th></tr><tr><td>0</td><td>5</td><td>8</td><td>0</td><td>2</td><td>6</td><td>3</td><td>5</td><td>1</td><td>7</td><td>5</td><td>1</td></tr><tr><td>1</td><td>9</td><td>1</td><td>7</td><td>9</td><td>6</td><td>4</td><td>3</td><td>9</td><td>3</td><td>4</td><td>0</td></tr><tr><td>2</td><td>6</td><td>9</td><td>0</td><td>3</td><td>8</td><td>5</td><td>7</td><td>3</td><td>7</td><td>6</td><td>1</td></tr><tr><td>3</td><td>4</td><td>0</td><td>2</td><td>5</td><td>2</td><td>3</td><td>5</td><td>4</td><td>4</td><td>4</td><td>2</td></tr><tr><td>4</td><td>4</td><td>7</td><td>0</td><td>4</td><td>6</td><td>5</td><td>6</td><td>2</td><td>7</td><td>5</td><td>1</td></tr><tr><td>5</td><td>8</td><td>4</td><td>6</td><td>8</td><td>7</td><td>7</td><td>9</td><td>7</td><td>8</td><td>8</td><td>2</td></tr><tr><td>6</td><td>8</td><td>10</td><td>1</td><td>6</td><td>8</td><td>6</td><td>7</td><td>3</td><td>9</td><td>8</td><td>1</td></tr><tr><td>7</td><td>10</td><td>10</td><td>3</td><td>8</td><td>10</td><td>8</td><td>9</td><td>5</td><td>10</td><td>9</td><td>1</td></tr><tr><td>8</td><td>7</td><td>4</td><td>6</td><td>9</td><td>6</td><td>7</td><td>9</td><td>7</td><td>9</td><td>8</td><td>2</td></tr><tr><td>9</td><td>7</td><td>10</td><td>1</td><td>5</td><td>8</td><td>6</td><td>8</td><td>4</td><td>10</td><td>7</td><td>1</td></tr><tr><td>10</td><td>8</td><td>0</td><td>5</td><td>6</td><td>4</td><td>1</td><td>2</td><td>6</td><td>1</td><td>0</td><td>0</td></tr><tr><td>11</td><td>9</td><td>2</td><td>7</td><td>9</td><td>6</td><td>3</td><td>3</td><td>9</td><td>4</td><td>2</td><td>0</td></tr><tr><td>12</td><td>5</td><td>8</td><td>0</td><td>3</td><td>6</td><td>4</td><td>7</td><td>1</td><td>7</td><td>5</td><td>1</td></tr><tr><td>13</td><td>5</td><td>0</td><td>4</td><td>5</td><td>4</td><td>1</td><td>0</td><td>6</td><td>0</td><td>0</td><td>0</td></tr><tr><td>14</td><td>10</td><td>3</td><td>9</td><td>9</td><td>8</td><td>4</td><td>4</td><td>10</td><td>4</td><td>3</td><td>0</td></tr><tr><td>15</td><td>7</td><td>2</td><td>6</td><td>8</td><td>6</td><td>6</td><td>7</td><td>6</td><td>7</td><td>6</td><td>2</td></tr><tr><td>16</td><td>8</td><td>1</td><td>7</td><td>8</td><td>5</td><td>3</td><td>2</td><td>8</td><td>2</td><td>1</td><td>0</td></tr><tr><td>17</td><td>10</td><td>3</td><td>9</td><td>9</td><td>8</td><td>5</td><td>4</td><td>9</td><td>4</td><td>4</td><td>0</td></tr><tr><td>18</td><td>8</td><td>4</td><td>6</td><td>9</td><td>7</td><td>7</td><td>8</td><td>7</td><td>9</td><td>9</td><td>2</td></tr><tr><td>19</td><td>6</td><td>2</td><td>5</td><td>7</td><td>4</td><td>4</td><td>7</td><td>6</td><td>8</td><td>6</td><td>2</td></tr></table>"
      ],
      "text/plain": [
       "<IPython.core.display.HTML object>"
      ]
     },
     "execution_count": 2,
     "metadata": {},
     "output_type": "execute_result"
    }
   ],
   "source": [
    "R, groups = make_blobs(\n",
    "    n_samples=r_height,\n",
    "    n_features=r_width,\n",
    "    centers=3,\n",
    "    random_state=10\n",
    ")\n",
    "R = np.round((R-R.min())*10/(R.max()-R.min())).astype(int)\n",
    "# add bias for each object\n",
    "bias = np.random.randint(-2,3, [R.shape[0], 1])\n",
    "R = R + bias\n",
    "\n",
    "# sometimes bias can lead to ratings\n",
    "R = np.where(R<0, 0, R)\n",
    "R = np.where(R>10, 10, R)\n",
    "\n",
    "\n",
    "# some code to display result as HTML table\n",
    "content = \"\".join([\n",
    "    (\n",
    "        \"<tr>\" + \n",
    "            f\"<td>{ind}</td>\" + \n",
    "            \"\".join([f\"<td>{val}</td>\" for val in obj]) + \n",
    "            f\"<td>{groups[ind]}</td>\"\n",
    "        \"</tr>\"\n",
    "    )\n",
    "    for ind, obj in enumerate(R)\n",
    "])\n",
    "HTML(\"<table>\" + common_header + content + \"</table>\")"
   ]
  },
  {
   "cell_type": "markdown",
   "id": "fc2ee7ee-7774-49fd-9ccb-54014b6fa2c6",
   "metadata": {},
   "source": [
    "So let $k'$ - is object to which we need to recoomend something.\n",
    "\n",
    "So for the example under consideration we'll use $k' = 5$."
   ]
  },
  {
   "cell_type": "code",
   "execution_count": 3,
   "id": "49ef1a98-b9d4-4418-bf63-60b62e0e3862",
   "metadata": {},
   "outputs": [],
   "source": [
    "consideration_object = 5"
   ]
  },
  {
   "cell_type": "markdown",
   "id": "07ccb1bd-5719-4b88-ae0f-18938c750716",
   "metadata": {},
   "source": [
    "## Collaboration\n",
    "\n",
    "The collaboration for $k'$ object is a set of objects that we think are similar to it. We measure similarity by the Pearson correlation coefficient.\n",
    "\n",
    "So we can define similarity as the set of objects that have $Sim(i,k') > Sim'$ or more formally $U_{k'}=\\left\\{i\\in U | Sim_{k'i} > Sim' \\right\\}$. So now we have a hyper-parameter of the algorithm $c'$ that controls how many objects are used to approximate preferences for the object."
   ]
  },
  {
   "cell_type": "markdown",
   "id": "76bcb7a9-4626-42e6-8f1e-db426b0a77da",
   "metadata": {},
   "source": [
    "The next cell shows a table with the correlation coefficients of the objects in the example with $k'=5$ on the left, and it's collaboration in the case $Sim'=0.8$ on the right."
   ]
  },
  {
   "cell_type": "code",
   "execution_count": 4,
   "id": "ecb15e75-33dc-41e4-8ea8-fa51ef8e2836",
   "metadata": {},
   "outputs": [
    {
     "data": {
      "text/html": [
       "<div style='display: flex;justify-content: space-around;'><div><p style='font-size:17px;text-align:center'>Input correlations</p><table><tr><th rowspan=\"2\">object</th><th colspan=\"10\" style='text-align:center'>Ranks of the items</th><th rowspan=\"2\">corr. coef</th></tr><tr><th>0</th><th>1</th><th>2</th><th>3</th><th>4</th><th>5</th><th>6</th><th>7</th><th>8</th><th>9</th></tr><tr><td>0</td><td>5</td><td>8</td><td>0</td><td>2</td><td>6</td><td>3</td><td>5</td><td>1</td><td>7</td><td>5</td><td>-0.6846628826516814</td></tr><tr><td>1</td><td>9</td><td>1</td><td>7</td><td>9</td><td>6</td><td>4</td><td>3</td><td>9</td><td>3</td><td>4</td><td>0.9569230732464373</td></tr><tr><td>2</td><td>6</td><td>9</td><td>0</td><td>3</td><td>8</td><td>5</td><td>7</td><td>3</td><td>7</td><td>6</td><td>-0.28728924787899146</td></tr><tr><td>3</td><td>4</td><td>0</td><td>2</td><td>5</td><td>2</td><td>3</td><td>5</td><td>4</td><td>4</td><td>4</td><td>0.9139997048114735</td></tr><tr><td>4</td><td>4</td><td>7</td><td>0</td><td>4</td><td>6</td><td>5</td><td>6</td><td>2</td><td>7</td><td>5</td><td>0.9520726033074147</td></tr><tr><td>6</td><td>8</td><td>10</td><td>1</td><td>6</td><td>8</td><td>6</td><td>7</td><td>3</td><td>9</td><td>8</td><td>0.8975017621528957</td></tr><tr><td>7</td><td>10</td><td>10</td><td>3</td><td>8</td><td>10</td><td>8</td><td>9</td><td>5</td><td>10</td><td>9</td><td>-0.14162743907523523</td></tr><tr><td>8</td><td>7</td><td>4</td><td>6</td><td>9</td><td>6</td><td>7</td><td>9</td><td>7</td><td>9</td><td>8</td><td>0.9674783088625508</td></tr><tr><td>9</td><td>7</td><td>10</td><td>1</td><td>5</td><td>8</td><td>6</td><td>8</td><td>4</td><td>10</td><td>7</td><td>-0.5417284266184769</td></tr><tr><td>10</td><td>8</td><td>0</td><td>5</td><td>6</td><td>4</td><td>1</td><td>2</td><td>6</td><td>1</td><td>0</td><td>-0.5870995880756341</td></tr><tr><td>11</td><td>9</td><td>2</td><td>7</td><td>9</td><td>6</td><td>3</td><td>3</td><td>9</td><td>4</td><td>2</td><td>0.9645362028353766</td></tr><tr><td>12</td><td>5</td><td>8</td><td>0</td><td>3</td><td>6</td><td>4</td><td>7</td><td>1</td><td>7</td><td>5</td><td>-0.627172697477048</td></tr><tr><td>13</td><td>5</td><td>0</td><td>4</td><td>5</td><td>4</td><td>1</td><td>0</td><td>6</td><td>0</td><td>0</td><td>-0.6147805916683359</td></tr><tr><td>14</td><td>10</td><td>3</td><td>9</td><td>9</td><td>8</td><td>4</td><td>4</td><td>10</td><td>4</td><td>3</td><td>-0.4047021305093861</td></tr><tr><td>15</td><td>7</td><td>2</td><td>6</td><td>8</td><td>6</td><td>6</td><td>7</td><td>6</td><td>7</td><td>6</td><td>-0.687351286194773</td></tr><tr><td>16</td><td>8</td><td>1</td><td>7</td><td>8</td><td>5</td><td>3</td><td>2</td><td>8</td><td>2</td><td>1</td><td>-0.6405937217732891</td></tr><tr><td>17</td><td>10</td><td>3</td><td>9</td><td>9</td><td>8</td><td>5</td><td>4</td><td>9</td><td>4</td><td>4</td><td>-0.07537783614444088</td></tr><tr><td>18</td><td>8</td><td>4</td><td>6</td><td>9</td><td>7</td><td>7</td><td>8</td><td>7</td><td>9</td><td>9</td><td>-0.1909313313651758</td></tr><tr><td>19</td><td>6</td><td>2</td><td>5</td><td>7</td><td>4</td><td>4</td><td>7</td><td>6</td><td>8</td><td>6</td><td>-0.10326002528434575</td></tr></table></div><div style='font-size:100px'>→</div><div><p style='font-size:17px;text-align:center'>Collaboration</p><table><tr><th rowspan=\"2\">object</th><th colspan=\"10\" style='text-align:center'>Ranks of the items</th></tr><tr><th>0</th><th>1</th><th>2</th><th>3</th><th>4</th><th>5</th><th>6</th><th>7</th><th>8</th><th>9</th></tr><tr><td>1</td><td>9</td><td>1</td><td>7</td><td>9</td><td>6</td><td>4</td><td>3</td><td>9</td><td>3</td><td>4</td></tr><tr><td>3</td><td>4</td><td>0</td><td>2</td><td>5</td><td>2</td><td>3</td><td>5</td><td>4</td><td>4</td><td>4</td></tr><tr><td>4</td><td>4</td><td>7</td><td>0</td><td>4</td><td>6</td><td>5</td><td>6</td><td>2</td><td>7</td><td>5</td></tr><tr><td>6</td><td>8</td><td>10</td><td>1</td><td>6</td><td>8</td><td>6</td><td>7</td><td>3</td><td>9</td><td>8</td></tr><tr><td>8</td><td>7</td><td>4</td><td>6</td><td>9</td><td>6</td><td>7</td><td>9</td><td>7</td><td>9</td><td>8</td></tr><tr><td>11</td><td>9</td><td>2</td><td>7</td><td>9</td><td>6</td><td>3</td><td>3</td><td>9</td><td>4</td><td>2</td></tr></table></div></div>"
      ],
      "text/plain": [
       "<IPython.core.display.HTML object>"
      ]
     },
     "execution_count": 4,
     "metadata": {},
     "output_type": "execute_result"
    }
   ],
   "source": [
    "# it's indices of objects excluding\n",
    "# the object for which we are generating \n",
    "# predictions\n",
    "other_indices = np.concatenate([\n",
    "    np.arange(0,consideration_object), \n",
    "    np.arange(consideration_object+1, R.shape[0])\n",
    "])\n",
    "other_R = R[other_indices, :]\n",
    "correlations = np.corrcoef(\n",
    "    other_R, R[consideration_object, :]\n",
    ")[0,1:]\n",
    "\n",
    "# HTML code for input\n",
    "# table that will be displayed\n",
    "# on the left sides\n",
    "header = (\n",
    "    \"<tr>\"\n",
    "        \"<th rowspan=\\\"2\\\">object</th>\"\n",
    "        f\"<th colspan=\\\"{R.shape[1]}\\\" style='text-align:center'>Ranks of the items</th>\"\n",
    "        \"<th rowspan=\\\"2\\\">corr. coef</th>\"\n",
    "    \"</tr>\"\n",
    "    \"<tr>\"+\n",
    "        \"\".join([f\"<th>{str(i)}</th>\" for i in range(R.shape[1])])+\n",
    "    \"</tr>\"\n",
    ")\n",
    "content = \"\".join([\n",
    "    (\n",
    "        \"<tr>\" + \n",
    "        f\"<td>{obj}</td>\" + \n",
    "        \"\".join([f\"<td>{val}</td>\" for val in R[obj,:]]) +\n",
    "        f\"<td>{str(correlations[i])}</td>\" + \n",
    "        \"</tr>\"\n",
    "    )\n",
    "    for i, obj in enumerate(other_indices)\n",
    "])\n",
    "input_table = \"<table>\" + header + content + \"</table>\"\n",
    "del header, content\n",
    "\n",
    "# finding collaboration\n",
    "collatoratoin_indices = other_indices[correlations > 0.8]\n",
    "collaboration = R[collatoratoin_indices,:]\n",
    "\n",
    "\n",
    "# HTML code for table that represents\n",
    "# collaboration that is on the right side\n",
    "header = (\n",
    "    \"<tr>\"\n",
    "        \"<th rowspan=\\\"2\\\">object</th>\"\n",
    "        f\"<th colspan=\\\"{R.shape[1]}\\\" style='text-align:center'>Ranks of the items</th>\"\n",
    "    \"</tr>\"\n",
    "    \"<tr>\"+\n",
    "        \"\".join([f\"<th>{str(i)}</th>\" for i in range(R.shape[1])])+\n",
    "    \"</tr>\"\n",
    ")\n",
    "content = \"\".join([\n",
    "    \"<tr>\" +\n",
    "        f\"<td>{object_ind}</td>\"+\n",
    "        ''.join(['<td>'+str(v)+'</td>' for v in obj])+\n",
    "    \"</tr>\"\n",
    "     for obj, object_ind in zip(collaboration, collatoratoin_indices)\n",
    "])\n",
    "collaboration_table = \"<table>\"+header+content+\"</table>\"\n",
    "del header, content\n",
    "\n",
    "HTML(\n",
    "    \"<div style='display: flex;justify-content: space-around;'>\"+\n",
    "    \"<div>\" + \n",
    "        \"<p style='font-size:17px;text-align:center'>Input correlations</p>\" + \n",
    "        input_table + \n",
    "    \"</div>\" +\n",
    "    \"<div style='font-size:100px'>→</div>\"\n",
    "    \"<div>\" + \n",
    "        \"<p style='font-size:17px;text-align:center'>Collaboration</p>\" + \n",
    "        collaboration_table + \n",
    "    \"</div>\"\n",
    "    \"</div>\"\n",
    ")"
   ]
  },
  {
   "cell_type": "markdown",
   "id": "1dbe7658-d3fa-4e67-a01e-55edecef9003",
   "metadata": {},
   "source": [
    "So the collaboration in this case will be $U_5=\\{1,3,4,6,8,11\\}$. Set of indices of objects belonging to the collaboration of the 5th element."
   ]
  },
  {
   "cell_type": "markdown",
   "id": "e289b408-a1e2-47a4-8647-bf790228691f",
   "metadata": {},
   "source": [
    "## Functions"
   ]
  },
  {
   "cell_type": "markdown",
   "id": "5a99e37d-e269-4899-ba5b-23ada3ceb1a2",
   "metadata": {},
   "source": [
    "Now when we have collaboration we can predict expected preferences for the items for 5-th element.\n",
    "\n",
    "Estimation of the preference of $j$-th item for user $k'$ can be computed using:\n",
    "\n",
    "$$a_{k', j}=\\overline{r}_{k'} + \\frac{\\sum_{l\\in U_{k'}}(r_{lj}-\\overline{r}_l)Sim(k',l)}{\\sum_{l \\in U_{k'}}|Sim(k',l)|}$$"
   ]
  },
  {
   "cell_type": "markdown",
   "id": "54a657ef-a5d4-4466-aae2-4f5c96bc8dd3",
   "metadata": {},
   "source": [
    "Suppose we want to make predict for some $j$-s item. $j$ is defined in the cell before:"
   ]
  },
  {
   "cell_type": "code",
   "execution_count": 5,
   "id": "068b2154-c4fd-4e69-990d-3260cfc7a579",
   "metadata": {},
   "outputs": [],
   "source": [
    "interest_j = 4"
   ]
  },
  {
   "cell_type": "markdown",
   "id": "6d324caf-b9e9-4608-b19f-3bd62fd143ce",
   "metadata": {},
   "source": [
    "So lets research this formula step by step."
   ]
  },
  {
   "cell_type": "markdown",
   "id": "9d0cff67-d443-4548-89fb-5b67446394e4",
   "metadata": {},
   "source": [
    "### Remove object bias"
   ]
  },
  {
   "cell_type": "markdown",
   "id": "8a338dde-7a79-4b2b-9a88-8512ebca9be5",
   "metadata": {},
   "source": [
    "Some objects may have some specificity, which is expressed in the fact that the average valuation of this or that object differs from others. For example, let's say we are talking about the clients of a certain cinema service - some clients are simply more rigorous themselves, so they have any score lower.\n",
    "\n",
    "To understand what I'm talking about, consider objects of the same group but with completely different average $r$."
   ]
  },
  {
   "cell_type": "code",
   "execution_count": 6,
   "id": "03b91a62-8f0b-4d8d-94d7-e125b87b3992",
   "metadata": {},
   "outputs": [
    {
     "data": {
      "text/html": [
       "<table><tr><th rowspan=\"2\">Object</th><th colspan=\"10\" style='text-align:center'>Ranks of the items</th><th rowspan=\"2\">Group</th></tr><tr><th>0</th><th>1</th><th>2</th><th>3</th><th>4</th><th>5</th><th>6</th><th>7</th><th>8</th><th>9</th></tr><tr><td>Maximum (original index 17)</td><td>10</td><td>3</td><td>9</td><td>9</td><td>8</td><td>5</td><td>4</td><td>9</td><td>4</td><td>4</td><td>0</td></tr><tr><td>Minimum (original index 13)</td><td>5</td><td>0</td><td>4</td><td>5</td><td>4</td><td>1</td><td>0</td><td>6</td><td>0</td><td>0</td><td>0</td></tr></table>"
      ],
      "text/plain": [
       "<IPython.core.display.HTML object>"
      ]
     },
     "metadata": {},
     "output_type": "display_data"
    },
    {
     "data": {
      "text/html": [
       "<p style='font-size:15px'>Correlation coefficient - 0.971</p>"
      ],
      "text/plain": [
       "<IPython.core.display.HTML object>"
      ]
     },
     "metadata": {},
     "output_type": "display_data"
    }
   ],
   "source": [
    "considered_group = 0\n",
    "group_indeces = np.where(groups==considered_group)[0]\n",
    "ind_sum = np.sum(R[group_indeces], axis=1)\n",
    "\n",
    "max_sum_index = group_indeces[np.argmax(ind_sum)]\n",
    "min_sum_index = group_indeces[np.argmin(ind_sum)]\n",
    "\n",
    "content = (\n",
    "    \"<tr>\" + \n",
    "        f\"<td>Maximum (original index {str(max_sum_index)})</td>\" + \n",
    "        \"\".join([f\"<td>{val}</td>\" for val in R[max_sum_index]]) + \n",
    "        f\"<td>{str(considered_group)}</td>\" +\n",
    "    \"</tr><tr>\" +\n",
    "        f\"<td>Minimum (original index {str(min_sum_index)})</td>\" +\n",
    "        \"\".join([f\"<td>{val}</td>\" for val in R[min_sum_index]]) + \n",
    "        f\"<td>{str(considered_group)}</td>\" +\n",
    "    \"</tr>\"\n",
    ")\n",
    "display(HTML(f\"<table>{common_header + content}</table>\"))\n",
    "corelation_coefficient = \\\n",
    "    np.corrcoef(R[max_sum_index], R[min_sum_index])[0,1]\n",
    "message_text = f\"Correlation coefficient - {round(corelation_coefficient, 3)}\"\n",
    "display(HTML(f\"<p style='font-size:15px'>{message_text}</p>\"))"
   ]
  },
  {
   "cell_type": "markdown",
   "id": "28af2b4f-e5c1-4585-82e6-790eacf2d7ec",
   "metadata": {},
   "source": [
    "They have completely different numbers, but the correlation is very strong - they both prefer the same items, but one is generally less \"generous\" with the grade."
   ]
  },
  {
   "cell_type": "markdown",
   "id": "582f7036-69fc-4c32-a38e-d1c20fbf3ee8",
   "metadata": {},
   "source": [
    "So by operation $(r_{lj}-\\overline{r}_l)$ in the numerator we are trying to remove bias $l$-th object from the ratings for $j$-th item. Or more spcificly for example under consideration:"
   ]
  },
  {
   "cell_type": "code",
   "execution_count": 35,
   "id": "0a4a984c-d074-465a-b06f-133ad6198362",
   "metadata": {},
   "outputs": [],
   "source": [
    "values = collaboration[:, [interest_j]]\n",
    "biases = np.mean(collaboration, axis=1)[:, np.newaxis]\n",
    "corrected_items = values-biases\n",
    "\n",
    "header = f\"\"\"\n",
    "|$l$|$r_{{l,{interest_j}}}$|$\\overline{{r_l}}$|$r_{{l,{interest_j}}} - \\overline{{r_l}}$|\n",
    "|---|-------|--------|-----|\n",
    "\"\"\"\n",
    "content = \"\\n\".join([\n",
    "    (\n",
    "        \"|\" + \"|\".join([\n",
    "            str(collatoratoin_indices[i]),\n",
    "            str(values.ravel()[i]),\n",
    "            str(biases.ravel()[i]),\n",
    "            str(round(corrected_items.ravel()[i],3))\n",
    "        ]) + \"|\"\n",
    "    )\n",
    "    for i in range(len(collaboration))\n",
    "])\n",
    "ans = (header + content)"
   ]
  },
  {
   "cell_type": "markdown",
   "id": "6ae99b29-0e67-4903-9aef-0b79689e0b70",
   "metadata": {},
   "source": [
    "|$l$|$r_{l,4}$|$\\overline{r_l}$|$r_{l,4} - \\overline{r_l}$|\n",
    "|---|-------|--------|-----|\n",
    "|1|6|5.5|0.5|\n",
    "|3|2|3.3|-1.3|\n",
    "|4|6|4.6|1.4|\n",
    "|6|8|6.6|1.4|\n",
    "|8|6|7.2|-1.2|\n",
    "|11|6|5.4|0.6|"
   ]
  },
  {
   "cell_type": "markdown",
   "id": "657d8481-a41f-4c31-8410-720619b2633c",
   "metadata": {},
   "source": [
    "Thus, using natural language $(r_{lj}-\\overline{r}_l)$, the preferences of the objects from the collaboration are corrected for the item $j$.  Obviosly some aggregation of these should characterise the preferences of the object we are considering to element $j$."
   ]
  },
  {
   "cell_type": "markdown",
   "id": "3d9bf8f6-6e93-4b81-bd47-15894877b76d",
   "metadata": {},
   "source": [
    "### Weighing of objects"
   ]
  },
  {
   "cell_type": "markdown",
   "id": "4cea59f2-8b91-4fa7-82c7-35d01a50b08d",
   "metadata": {},
   "source": [
    "Obviously, objects within a collaboration that are more similar to the object in question than others should affect the result more than less similar objects from the collaboration. Therefore, it is rational to weight the contributions of objects $(r_{lj}-\\overline{r}_l)$ from the colaboration by their similarity measure to the object in question. In our case, the similarity measure is the Pearson correlation coefficient $(Sim(k',l))$. "
   ]
  },
  {
   "cell_type": "markdown",
   "id": "cde01477-d713-44cf-a715-d80107faa9d5",
   "metadata": {},
   "source": [
    "We can interpret the components of the formula:\n",
    "\n",
    "$$\\frac{\\sum_{l\\in U_{k'}}(r_{lj}-\\overline{r}_l)Sim(k',l)}{\\sum_{l \\in U_{k'}}|Sim(k',l)|}$$\n",
    "\n",
    "As weighted on correlations contributions of the objects from collaboration. "
   ]
  },
  {
   "cell_type": "markdown",
   "id": "e9740c70-4d41-466b-9aae-7a162a95310f",
   "metadata": {},
   "source": [
    "**Note** there is sum of the absolute values of the correlation coefficients - $|Sim(k',l)|$. If the definition of collaboration allows for objects with a negative relationship - i.e. like anti-collaboration, e.g. people with diametrically opposed views. Accordingly, we have to take into account their high scores as something bad for the client in question. But we have to weight them by absolute value, so in the denominator is the correlation module. "
   ]
  },
  {
   "cell_type": "markdown",
   "id": "a5ca495b-1300-478e-bc56-eceb7acb19cd",
   "metadata": {},
   "source": [
    "### Add bias"
   ]
  },
  {
   "cell_type": "markdown",
   "id": "00e43517-9a63-4930-8cde-bf464c7e1bb6",
   "metadata": {},
   "source": [
    "The last compoment of the formula is $\\overline{r}_{k'}$. In remove bias step we removed biases of the objects. But object under consideration have it's own bias - by adding it to the result we bring the prediction to the mean values of the object in question."
   ]
  }
 ],
 "metadata": {
  "kernelspec": {
   "display_name": "Python 3 (ipykernel)",
   "language": "python",
   "name": "python3"
  },
  "language_info": {
   "codemirror_mode": {
    "name": "ipython",
    "version": 3
   },
   "file_extension": ".py",
   "mimetype": "text/x-python",
   "name": "python",
   "nbconvert_exporter": "python",
   "pygments_lexer": "ipython3",
   "version": "3.10.12"
  }
 },
 "nbformat": 4,
 "nbformat_minor": 5
}
