{
 "cells": [
  {
   "cell_type": "markdown",
   "id": "b37e0a38",
   "metadata": {},
   "source": [
    "# Classification\n",
    "\n",
    "Classification metrics are measures that evaluate how well predicted classes or class scores correspond to the true classes."
   ]
  },
  {
   "cell_type": "code",
   "execution_count": 1,
   "id": "5167cf8c",
   "metadata": {},
   "outputs": [],
   "source": [
    "import numpy as np"
   ]
  },
  {
   "cell_type": "markdown",
   "id": "3700da87",
   "metadata": {},
   "source": [
    "## Confusion matrix\n",
    "\n",
    "Is a way to learn properties of your classification model.\n",
    "\n",
    "Suppose we have formed some classifier. We have the following groups of observations.\n",
    "\n",
    "- *True positive*: observations that were positive in the sample and we correctly predicted them as positive. We will denote their number as $TP$;\n",
    "- *True negative*: observations that were negative in the sample and we correcrly predicted then as negative. We will denote their number as $TN$;\n",
    "- *False positve*: observations that were negative in the sample, but which we then mistakenly predicted to be positive. We will denote their number as $FP$;\n",
    "- *False negative*: observations that were positive in the sample, but wich we then mistakenly predicted to be negative. We will denote their number as $FN$.\n",
    "\n",
    "So, if you put the actual value on the rows and the predicted value on the columns, you will get a confusion matrix.\n",
    "\n",
    "\n",
    "| | Predicted $N$ | Predicted $P$ |\n",
    "|:---|:---:|:---:|\n",
    "| Actual $N$ |$TN$|$FP$ |\n",
    "| Actual $P$ |$FN$|$TP$|\n",
    "\n",
    "Find out more in the [special page](classification/confusion_matrix.ipynb)."
   ]
  },
  {
   "cell_type": "markdown",
   "id": "e40e266b",
   "metadata": {},
   "source": [
    "## Precision & Recall\n",
    "\n",
    "Precision and recall are fundamental concepts that influence the typical approaches used to evaluate the quality of the classification tasks.\n",
    "\n",
    "**Precision** (pyc. точность) is the fraction of predicted positive objects that are truly positive:\n",
    "\n",
    "$$Precision = \\frac{TP}{TP + FP}$$\n",
    "\n",
    "**Recall** (pyc. полнота) is the fraction of actual positive objects in total positive objects:\n",
    "\n",
    "$$Recall = \\frac{TP}{TP + FN}$$"
   ]
  },
  {
   "cell_type": "markdown",
   "id": "e9b5e158",
   "metadata": {},
   "source": [
    "The following picture is a very common way to visualise the precision and recall concepts. Suppose there is a classification task where positives and negatives are separated vertically. The circle represents a classificati algorithm, whose performance is supposed to be estimated."
   ]
  },
  {
   "cell_type": "markdown",
   "id": "61e9bb1c",
   "metadata": {},
   "source": [
    "<?xml version=\"1.0\" encoding=\"UTF-8\"?>\n",
    "<svg xmlns=\"http://www.w3.org/2000/svg\" xmlns:xlink=\"http://www.w3.org/1999/xlink\"\n",
    "     width=\"800\" height=\"600\" viewBox=\"0 0 800 600\">\n",
    "<defs>\n",
    "</defs>\n",
    "<rect x=\"0\" y=\"0\" width=\"250\" height=\"500\" fill=\"#90DE99\" />\n",
    "<rect x=\"250\" y=\"0\" width=\"250\" height=\"500\" fill=\"#DE9090\" />\n",
    "<path d=\"M 250 100 A 150 150 0 0 0 250 400\" stroke=\"black\" stroke-width=\"5\" fill=\"#44DB54\" />\n",
    "<path d=\"M 250 100 A 150 150 0 0 1 250 400\" stroke=\"black\" stroke-width=\"5\" fill=\"#DB4444\" />\n",
    "<g stroke=\"Gray\">\n",
    "<circle cx=\"164\" cy=\"135\" r=\"10\" fill=\"Gray\" />\n",
    "<circle cx=\"194\" cy=\"188\" r=\"10\" fill=\"Gray\" />\n",
    "<circle cx=\"208\" cy=\"358\" r=\"10\" fill=\"Gray\" />\n",
    "<circle cx=\"220\" cy=\"383\" r=\"10\" fill=\"Gray\" />\n",
    "<circle cx=\"171\" cy=\"477\" r=\"10\" fill=\"Gray\" />\n",
    "<circle cx=\"140\" cy=\"19\" r=\"10\" fill=\"Gray\" />\n",
    "<circle cx=\"220\" cy=\"243\" r=\"10\" fill=\"Gray\" />\n",
    "<circle cx=\"203\" cy=\"487\" r=\"10\" fill=\"Gray\" />\n",
    "<circle cx=\"68\" cy=\"337\" r=\"10\" fill=\"Gray\" />\n",
    "<circle cx=\"18\" cy=\"466\" r=\"10\" fill=\"Gray\" />\n",
    "<circle cx=\"295\" cy=\"62\" r=\"10\" fill=\"None\" stroke=\"Gray\" stroke-width=\"5\" />\n",
    "<circle cx=\"350\" cy=\"245\" r=\"10\" fill=\"None\" stroke=\"Gray\" stroke-width=\"5\" />\n",
    "<circle cx=\"477\" cy=\"131\" r=\"10\" fill=\"None\" stroke=\"Gray\" stroke-width=\"5\" />\n",
    "<circle cx=\"352\" cy=\"283\" r=\"10\" fill=\"None\" stroke=\"Gray\" stroke-width=\"5\" />\n",
    "<circle cx=\"281\" cy=\"298\" r=\"10\" fill=\"None\" stroke=\"Gray\" stroke-width=\"5\" />\n",
    "<circle cx=\"318\" cy=\"11\" r=\"10\" fill=\"None\" stroke=\"Gray\" stroke-width=\"5\" />\n",
    "<circle cx=\"442\" cy=\"115\" r=\"10\" fill=\"None\" stroke=\"Gray\" stroke-width=\"5\" />\n",
    "<circle cx=\"359\" cy=\"148\" r=\"10\" fill=\"None\" stroke=\"Gray\" stroke-width=\"5\" />\n",
    "<circle cx=\"301\" cy=\"474\" r=\"10\" fill=\"None\" stroke=\"Gray\" stroke-width=\"5\" />\n",
    "<circle cx=\"477\" cy=\"397\" r=\"10\" fill=\"None\" stroke=\"Gray\" stroke-width=\"5\" />\n",
    "</g>\n",
    "<g dominant-baseline=\"middle\" color=\"black\">\n",
    "<text x=\"40\" y=\"20\" font-size=\"23\">false negatives</text>\n",
    "<text x=\"300\" y=\"20\" font-size=\"23\">true negatives</text>\n",
    "<text x=\"250\" y=\"250\" font-size=\"23\">false positives</text>\n",
    "<text x=\"105\" y=\"250\" font-size=\"23\">true positives</text>\n",
    "</g>\n",
    "<text x=\"520\" y=\"110\" font-size=\"23\" dominant-baseline=\"middle\">Precision =</text>\n",
    "<path d=\"M 715 0 A 50 50 0 0 0 715 100\" fill=\"#44DB54\" />\n",
    "<path d=\"M 700 120 A 50 50 0 0 0 700 220\" fill=\"#44DB54\" />\n",
    "<path d=\"M 700 120 A 50 50 0 0 1 700 220\" fill=\"#DB4444\" />\n",
    "<path d=\"M650,110 L750,110\" stroke=\"black\" />\n",
    "<text x=\"520\" y=\"360\" font-size=\"23\" dominant-baseline=\"middle\">Recall =</text>\n",
    "<path d=\"M 715 250 A 50 50 0 0 0 715 350\" fill=\"#44DB54\" />\n",
    "<rect x=\"655\" y=\"370\" width=\"90\" height=\"170\" fill=\"#90DE99\" />\n",
    "<path d=\"M 745 405 A 50 50 0 0 0 745 505\" fill=\"#44DB54\" />\n",
    "<path d=\"M650,360 L750,360\" stroke=\"black\" />\n",
    "</svg>"
   ]
  },
  {
   "cell_type": "markdown",
   "id": "54a14e40",
   "metadata": {},
   "source": [
    "In these terms, the precision would be the number of correct positive inside the circle divided by the total area of circle, and recall is the fraction of the positive area covered by the circle out of the total positive area."
   ]
  },
  {
   "cell_type": "markdown",
   "id": "e9ca1ddb",
   "metadata": {},
   "source": [
    "## Cross-Entropy\n",
    "\n",
    "The popularity of this metric stems from the fact that it is differentiable, making it suitable to be used as a loss function when fitting the parameters of machine learning models.\n",
    "\n",
    "Check:\n",
    "- [Cross-Entropy section at MLGlossary](https://ml-cheatsheet.readthedocs.io/en/latest/loss_functions.html#cross-entropy).\n",
    "- [Specific page](classification/cross_entropy.ipynb)."
   ]
  },
  {
   "cell_type": "markdown",
   "id": "3597bf7e",
   "metadata": {},
   "source": [
    "Cross-entropy for $o$-th observation can be written using following formula:\n",
    "\n",
    "$$-\\sum_{c=1}^M y_{o, c} log(p_{o,c})\n",
    "\\\\\n",
    "y_{o,c} = \n",
    "\\begin{cases}\n",
    "1, & \\text{if the } o\\text{-th observation belongs to class } c, \\\\\n",
    "0, & \\text{otherwise}.\n",
    "\\end{cases}\n",
    "$$"
   ]
  },
  {
   "cell_type": "markdown",
   "id": "50c8e8cd",
   "metadata": {},
   "source": [
    "Where:\n",
    "\n",
    "- $M$: number of possible classes.\n",
    "- $o$: index of the observation.\n",
    "- $c$: index of the class.\n",
    "- $p_{o,c}$: predicted probability that object $o$ belongs to class $c$; it must satisfy all probability properties, specifically $\\sum_{c=1}^M p_{o,c} = 1$."
   ]
  },
  {
   "cell_type": "markdown",
   "id": "c62e1a24",
   "metadata": {},
   "source": [
    "---\n",
    "\n",
    "Consider example estimating performance of the predicted probabilites to the array where each object belongs to one of three classes - $\\{1, 2, 2, 3, 3, 1, 3\\}$."
   ]
  },
  {
   "cell_type": "markdown",
   "id": "3ef42aba",
   "metadata": {},
   "source": [
    "It has to be transformed into an array like $y_{o, c}$. The following cell shows the corresponding Python code."
   ]
  },
  {
   "cell_type": "code",
   "execution_count": 2,
   "id": "5426d8dc",
   "metadata": {},
   "outputs": [
    {
     "data": {
      "text/plain": [
       "array([[1, 0, 0],\n",
       "       [0, 1, 0],\n",
       "       [0, 1, 0],\n",
       "       [0, 0, 1],\n",
       "       [0, 0, 1],\n",
       "       [1, 0, 0],\n",
       "       [0, 0, 1]])"
      ]
     },
     "execution_count": 2,
     "metadata": {},
     "output_type": "execute_result"
    }
   ],
   "source": [
    "array = np.array([1, 2, 2, 3, 3, 1, 3])\n",
    "y = np.concatenate(\n",
    "    [\n",
    "        (array==i).astype(int)[None, :].T\n",
    "        for i in np.sort(np.unique(array))\n",
    "    ], \n",
    "    axis=1\n",
    ")\n",
    "y"
   ]
  },
  {
   "cell_type": "markdown",
   "id": "27f28eef",
   "metadata": {},
   "source": [
    "Now suppose we have three algorithms that return probabilities $p_{o,c}$:"
   ]
  },
  {
   "cell_type": "code",
   "execution_count": 3,
   "id": "86507b7e",
   "metadata": {},
   "outputs": [
    {
     "data": {
      "text/plain": [
       "array([[0.67695441, 0.01024423, 0.31280136],\n",
       "       [0.36137308, 0.53013996, 0.10848696],\n",
       "       [0.11463932, 0.78747887, 0.09788181],\n",
       "       [0.03796145, 0.29451329, 0.66752526],\n",
       "       [0.00204705, 0.265555  , 0.73239795],\n",
       "       [0.5446722 , 0.32421575, 0.13111205],\n",
       "       [0.33074201, 0.2575146 , 0.41174339]])"
      ]
     },
     "metadata": {},
     "output_type": "display_data"
    },
    {
     "data": {
      "text/plain": [
       "array([[0.41470252, 0.2086117 , 0.37668579],\n",
       "       [0.21103849, 0.49388948, 0.29507203],\n",
       "       [0.21701083, 0.52880434, 0.25418484],\n",
       "       [0.28397734, 0.18396883, 0.53205384],\n",
       "       [0.24361812, 0.0690321 , 0.68734978],\n",
       "       [0.4491705 , 0.52132683, 0.02950267],\n",
       "       [0.24151501, 0.21116556, 0.54731942]])"
      ]
     },
     "metadata": {},
     "output_type": "display_data"
    },
    {
     "data": {
      "text/plain": [
       "array([[0.39799116, 0.42683509, 0.17517376],\n",
       "       [0.29774474, 0.3534999 , 0.34875537],\n",
       "       [0.21948697, 0.51583723, 0.2646758 ],\n",
       "       [0.05610816, 0.49294396, 0.45094788],\n",
       "       [0.13172646, 0.32382048, 0.54445306],\n",
       "       [0.49503411, 0.38716011, 0.11780577],\n",
       "       [0.22672704, 0.34266168, 0.43061128]])"
      ]
     },
     "metadata": {},
     "output_type": "display_data"
    }
   ],
   "source": [
    "np.random.seed(10)\n",
    "\n",
    "def generare_preds(y: np.ndarray, factor: float):\n",
    "    ans = np.random.rand(*y.shape) + y*factor\n",
    "    return ans/ans.sum(axis=1, keepdims=True)\n",
    "\n",
    "best_probs, good_probs, bad_probs = [\n",
    "    generare_preds(y=y, factor=0.6)\n",
    "    for factor in [0.6, 0.4, 0.1]\n",
    "]\n",
    "\n",
    "for v in [best_probs, good_probs, bad_probs]:\n",
    "    display(v)"
   ]
  },
  {
   "cell_type": "markdown",
   "id": "bae3f3b8",
   "metadata": {},
   "source": [
    "The results of the \"algorithms\" are generated in such a way that there is a decrease in quality. The first and second \"algorithms\" have almost perfect accuracy, but the predictions of the first \"algorithm\" are more confident."
   ]
  },
  {
   "cell_type": "markdown",
   "id": "90632066",
   "metadata": {},
   "source": [
    "Here are the components of $y_{o, c} \\log(p_{o,c})$:"
   ]
  },
  {
   "cell_type": "code",
   "execution_count": 4,
   "id": "5f43434f",
   "metadata": {},
   "outputs": [
    {
     "data": {
      "text/plain": [
       "array([[0.39015135, 0.        , 0.        ],\n",
       "       [0.        , 0.63461423, 0.        ],\n",
       "       [0.        , 0.23891875, 0.        ],\n",
       "       [0.        , 0.        , 0.40417805],\n",
       "       [0.        , 0.        , 0.31143127],\n",
       "       [0.60757114, 0.        , 0.        ],\n",
       "       [0.        , 0.        , 0.88735497]])"
      ]
     },
     "metadata": {},
     "output_type": "display_data"
    },
    {
     "data": {
      "text/plain": [
       "array([[0.88019384, 0.        , 0.        ],\n",
       "       [0.        , 0.70544352, 0.        ],\n",
       "       [0.        , 0.63713679, 0.        ],\n",
       "       [0.        , 0.        , 0.6310106 ],\n",
       "       [0.        , 0.        , 0.37491197],\n",
       "       [0.80035273, 0.        , 0.        ],\n",
       "       [0.        , 0.        , 0.6027227 ]])"
      ]
     },
     "metadata": {},
     "output_type": "display_data"
    },
    {
     "data": {
      "text/plain": [
       "array([[0.92132549, 0.        , 0.        ],\n",
       "       [0.        , 1.03987208, 0.        ],\n",
       "       [0.        , 0.66196401, 0.        ],\n",
       "       [0.        , 0.        , 0.79640352],\n",
       "       [0.        , 0.        , 0.60797354],\n",
       "       [0.7031286 , 0.        , 0.        ],\n",
       "       [0.        , 0.        , 0.84254951]])"
      ]
     },
     "metadata": {},
     "output_type": "display_data"
    }
   ],
   "source": [
    "for p in [best_probs, good_probs, bad_probs]:\n",
    "    display(-np.log(p)*y)"
   ]
  },
  {
   "cell_type": "markdown",
   "id": "e3e2ce2e",
   "metadata": {},
   "source": [
    "It's interesting that only the predictions for $y_{o,c}$ play a role; more confident predictions generate less cross-entropy for that observation."
   ]
  },
  {
   "cell_type": "markdown",
   "id": "f1bc711a",
   "metadata": {},
   "source": [
    "And just to be sure, let's compute the average cross-entropy for the entire sample:"
   ]
  },
  {
   "cell_type": "code",
   "execution_count": 5,
   "id": "1a19256a",
   "metadata": {},
   "outputs": [
    {
     "data": {
      "text/plain": [
       "np.float64(0.49631710718508326)"
      ]
     },
     "metadata": {},
     "output_type": "display_data"
    },
    {
     "data": {
      "text/plain": [
       "np.float64(0.6616817361606729)"
      ]
     },
     "metadata": {},
     "output_type": "display_data"
    },
    {
     "data": {
      "text/plain": [
       "np.float64(0.7961738233757771)"
      ]
     },
     "metadata": {},
     "output_type": "display_data"
    }
   ],
   "source": [
    "for p in [best_probs, good_probs, bad_probs]:\n",
    "    display(np.sum(-np.log(p)*y, axis=1, keepdims=True).mean())"
   ]
  },
  {
   "cell_type": "markdown",
   "id": "042bbda8",
   "metadata": {},
   "source": [
    "Obviously, higher-quality algorithms received a lower score."
   ]
  }
 ],
 "metadata": {
  "kernelspec": {
   "display_name": "knowledge (3.13.5)",
   "language": "python",
   "name": "python3"
  },
  "language_info": {
   "codemirror_mode": {
    "name": "ipython",
    "version": 3
   },
   "file_extension": ".py",
   "mimetype": "text/x-python",
   "name": "python",
   "nbconvert_exporter": "python",
   "pygments_lexer": "ipython3",
   "version": "3.13.5"
  }
 },
 "nbformat": 4,
 "nbformat_minor": 5
}
