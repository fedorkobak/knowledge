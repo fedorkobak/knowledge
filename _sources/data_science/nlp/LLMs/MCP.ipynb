{
 "cells": [
  {
   "cell_type": "markdown",
   "id": "633e94b4",
   "metadata": {},
   "source": [
    "# MCP\n",
    "\n",
    "MCP (Model Context Protocol) allows LLM to connect with external data sources, tools, and environments. This enables the seamless transfer of information and capabilities between AI systems and other digital tools. The MCP standardizes the method to interacting with LLMs, enabling tool builders to create a simple tool that can be used with any LLM."
   ]
  },
  {
   "cell_type": "markdown",
   "id": "1dba21e8",
   "metadata": {},
   "source": [
    "## Architecture\n",
    "\n",
    "The **host** is a final application that is given to users. It's responsibilities are:\n",
    "\n",
    "- Managing user interactions and permissions.\n",
    "- Initiating connections to MCP servers via the MCP.\n",
    "- Organize the flow between user requests, LLM processing, and external tools.\n",
    "- Providing the results back to the uesr.\n",
    "\n",
    "The **client** here establishes a connection with the server and communicates with it using MCP principles. **Note:** A single host can connect to several MCP servers, but for each it creates a new client.\n",
    "\n",
    "The **server** provides the client with information about available extensions and offers a standatized way to interact with them. The things awailable to the MCP server are called **capabilities**."
   ]
  },
  {
   "cell_type": "markdown",
   "id": "0cf147d5",
   "metadata": {},
   "source": [
    "The way components of MCP interacts with each other is represented in the following picture:\n",
    "\n",
    "![](MCP_files/architecture.svg)"
   ]
  },
  {
   "cell_type": "markdown",
   "id": "66a65e52",
   "metadata": {},
   "source": [
    "## Messages\n",
    "\n",
    "Messages in MCP are using [JSON-RPC (JSON remote procedure call)](https://ru.wikipedia.org/wiki/JSON-RPC). It defines the format of the messages and the channels by which the server and the host communicate. Check [JSON-RPC](https://huggingface.co/learn/mcp-course/unit1/communication-protocol#json-rpc-the-foundation) section of the MCP hugging face cource.\n",
    "\n",
    "Format is Json, and there are:\n",
    "\n",
    "- Three types of messages: requests, responses and notifications.\n",
    "- The attributes that each type of the message should have.\n",
    "\n",
    "Host-server communication can be performed in following ways:\n",
    "\n",
    "- Standard input/ouput for a local server.\n",
    "- HTTP + SSE (Server-sent Events) for the remote server.\n",
    "\n",
    "Server lifecycle inludes:\n",
    "\n",
    "- Initialization: the server and client exchange protocol version.\n",
    "- Discovery: The client asks the server for a list of the server's offerings.\n",
    "- Execution: client uses the posibilities of the server.\n",
    "- Termination."
   ]
  },
  {
   "cell_type": "markdown",
   "id": "e976c814",
   "metadata": {},
   "source": [
    "### Requests\n",
    "\n",
    "The request to the server have following form:\n",
    "\n",
    "```json\n",
    "{\n",
    "    \"jsonrpc\": \"2.0\",\n",
    "    \"id\": 1,\n",
    "    \"method\": \"tools/call\",\n",
    "    \"params\": {\n",
    "        \"param1\": \"value1\",\n",
    "        \"param2\": \"value2\"\n",
    "    }\n",
    "}\n",
    "```\n",
    "\n",
    "The *jsonrpc* attribute specifies the version of the jsonrpc used.\n",
    "\n",
    "The *method* specify the exact action that the host attempts to perform. The following table shows awailable methods with their descirptions.\n",
    "\n",
    "| Method                     | Purpose                                                                                                                                                   |\n",
    "| -------------------------- | --------------------------------------------------------------------------------------------------------------------------------------------------------- |\n",
    "| `initialize`               | Negotiate the protocol version, client/server capabilities, etc. Sets up the session. ([Model Context Protocol][1])                                       |\n",
    "| `tools/list`               | Request the list of tools exposed by the server. Useful for discovery. ([Model Context Protocol][2])                                                      |\n",
    "| `tools/call`               | Invoke a specific tool, giving arguments, and receive back results. ([Model Context Protocol][2])                                                         |\n",
    "| `prompts/list`             | List available prompts (templates or structured workflows) that the server supports. ([Model Context Protocol][1])                                        |\n",
    "| `prompts/get`              | Fetch the full detail of a specific prompt, including its arguments/messages. ([Model Context Protocol][1])                                               |\n",
    "| `resources/list`           | List resources (e.g. files, data sources) that the server makes available. ([Model Context Protocol][1])                                                  |\n",
    "| `resources/read`           | Read / fetch the content of a resource identified by a URI. ([Model Context Protocol][1])                                                                 |\n",
    "| `resources/templates/list` | List resource templates — parameterized resource specifications (URI templates) that can be used to generate resource URIs. ([Model Context Protocol][1]) |\n",
    "\n",
    "[1]: https://modelcontextprotocol.io/llms-full.txt?utm_source \"llms - full.txt\"\n",
    "[2]: https://modelcontextprotocol.io/docs/concepts/tools \"Tools\""
   ]
  },
  {
   "cell_type": "markdown",
   "id": "66e2d23b",
   "metadata": {},
   "source": [
    "## Capabilities\n",
    "\n",
    "MCP doesn't limit the ways a host can interact with the server. However, all capabilities can be separated into a few types: \n",
    "\n",
    "- **Tool**: These are executable functions that the model can use to perform actions.\n",
    "- **Resources**: Read-only sources of information.\n",
    "- **Prompt**: Pre-defined prompt templates that define the way host provide the integration wiht LLM.\n",
    "- **Sampling**: Server-initiated requests for the Client/Host to perform LLM interactions, enabling recursive actions where the LLM can review generated content and make further decisions.\n",
    "\n",
    "All together it works like this:\n",
    "\n",
    "- The users selects the prompt they want to use.\n",
    "- Information from resources is included to the prompt.\n",
    "- During processing, the LLM can invoke the tools.\n",
    "- For complex operations, the server may require sampling messages."
   ]
  },
  {
   "cell_type": "markdown",
   "id": "c908f645",
   "metadata": {},
   "source": [
    "**Prompts**\n",
    "\n",
    "Users of the host application usually have the option to select the promt they want to use. This allows them to define the way how the LLM will be used. Prompts are supposed to be used in cases for common workflows, specialized tasks and guided integrations.\n",
    "\n",
    "The implementation of the prompt may look like this:\n",
    "\n",
    "```python\n",
    "def code_review(code: str, language: str) -> list:\n",
    "    \"\"\"Generate a code review for the provided code snippet.\"\"\"\n",
    "    return [\n",
    "        {\n",
    "            \"role\": \"system\",\n",
    "            \"content\": f\"You are a code reviewer examining {language} code. Provide a detailed review highlighting best practices, potential issues, and suggestions for improvement.\"\n",
    "        },\n",
    "        {\n",
    "            \"role\": \"user\",\n",
    "            \"content\": f\"Please review this {language} code:\\n\\n```{language}\\n{code}\\n```\"\n",
    "        }\n",
    "    ]\n",
    "```"
   ]
  }
 ],
 "metadata": {
  "language_info": {
   "name": "python"
  }
 },
 "nbformat": 4,
 "nbformat_minor": 5
}
