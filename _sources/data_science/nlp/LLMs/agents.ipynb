{
 "cells": [
  {
   "cell_type": "markdown",
   "id": "cbad7eca",
   "metadata": {},
   "source": [
    "# Agents\n",
    "\n",
    "**AI agents are** programs in which AI controls the workflow. This page discusses the conceptual ideas and best practices associated with implementing the LLM agent."
   ]
  },
  {
   "cell_type": "markdown",
   "id": "718c0084",
   "metadata": {},
   "source": [
    "## Tools\n",
    "\n",
    "In terms of agentic systems, tools are APIs or other specialized tools that the model can invoke as needed. Information about these tools can be used is built into the system prompt, allowing model to decide whether to use a tool."
   ]
  },
  {
   "cell_type": "markdown",
   "id": "009082b6",
   "metadata": {},
   "source": [
    "---\n",
    "\n",
    "For example modern machine learning models aren't very good at arithmetics, so we'll provide a tool for adding numbers. It will literally look like a python function:\n",
    "\n",
    "```py\n",
    "def sum(a: int, b: int) -> int:\n",
    "    \"\"\"Summation of the given numbers\"\"\"\n",
    "    return a + b\n",
    "```\n",
    "\n",
    "In the system prompt, we are supposed to declare a model that it can use this prompt, as well as carefully declare the input and output of the tool. So for the example under consideration the part of the system prompt associated with tools can look like:\n",
    "\n",
    "```\n",
    "...\n",
    "You're supposed to use tools:\n",
    "Name: sum; Input: int, int; Output: int; Description: \"Summation of the given numbers.\"\n",
    "...\n",
    "```"
   ]
  },
  {
   "cell_type": "markdown",
   "id": "0a704083",
   "metadata": {},
   "source": [
    "## Actions\n",
    "\n",
    "Actions are the concrete steps an AI agent takes to interact with its environment.\n",
    "\n",
    "The way agents provide commands to the environment differentiates their actions.\n",
    "\n",
    "| Type of Agent | Description |\n",
    "|---------------|-------------|\n",
    "| JSON Agent    | The action to take is specified in JSON format |\n",
    "| Code agent    | The action writes a code block that is executed in the environment |\n",
    "| Function-calling action | It is a subcategory of the JSON Agent which has been fine-tuned to generate a new message for each action. |\n",
    "\n",
    "Actions also differentiated by the purposes. Typical purposes are:\n",
    "\n",
    "| Type of Agent | Description |\n",
    "|---------------|-------------|\n",
    "| Information Gathering | Performing web sereaches, quering databases, or retriving documents. |\n",
    "| Tool Usage | Making API call, running calculations, and execute code. |\n",
    "| Environment Interaction | Manipulating digital interfaces or controling physical devices. |\n",
    "| Communication | Engaging with users via chat or collaborating with other agents. |"
   ]
  },
  {
   "cell_type": "markdown",
   "id": "5b5892a3",
   "metadata": {},
   "source": [
    "## Vanila agent\n",
    "\n",
    "There is a set of frameworks for implementing LLM agents. In this section, we will explore the implementation of the LLM agent with Hugging Face and raw Python to better understand the issues they solve.\n",
    "\n",
    "For example, let's consider the task of building a bot that can assist with basic arithmetic operations."
   ]
  },
  {
   "cell_type": "markdown",
   "id": "18787489",
   "metadata": {},
   "source": [
    "---\n",
    "\n",
    "The following cell defines the `InferenceClient` of the hugging face, which we'll use as an endpoint providing access to the model."
   ]
  },
  {
   "cell_type": "code",
   "execution_count": 1,
   "id": "cb0d695f",
   "metadata": {},
   "outputs": [],
   "source": [
    "from huggingface_hub import InferenceClient\n",
    "\n",
    "client = InferenceClient(model=\"meta-llama/Llama-4-Scout-17B-16E-Instruct\")"
   ]
  },
  {
   "cell_type": "markdown",
   "id": "8a3aa140",
   "metadata": {},
   "source": [
    "These are the tools available to the agent we're developing. Each tool implements a basic arithmetic operation and can be considered as a separate tool."
   ]
  },
  {
   "cell_type": "code",
   "execution_count": 24,
   "id": "76f68b01",
   "metadata": {},
   "outputs": [],
   "source": [
    "def sum(a: int, b: int) -> int:\n",
    "    return a + b\n",
    "\n",
    "def multiply(a: int, b: int) -> int:\n",
    "    return a * b\n",
    "\n",
    "def subtract(a: int, b: int) -> int:\n",
    "    return a - b\n",
    "\n",
    "def divide(a: int, b: int) -> float:\n",
    "    return a / b"
   ]
  },
  {
   "cell_type": "markdown",
   "id": "5e50e00f",
   "metadata": {},
   "source": [
    "The following cell defines the messages template. The most important thing here is the system prompt which defines the tools and how they can be used."
   ]
  },
  {
   "cell_type": "code",
   "execution_count": 52,
   "id": "1ee8737b",
   "metadata": {},
   "outputs": [],
   "source": [
    "system_message = \"\"\"\n",
    "You are a math helper bot. You will be provided with a question from a user.\n",
    "It includes only summation, multiplication, subtraction and division.\n",
    "\n",
    "To complete the tasks you have tools which are python functions you can call.\n",
    "\n",
    "TOOLS:\n",
    "- sum(a: int, b: int) -> int\n",
    "- multiply(a: int, b: int) -> int\n",
    "- subtract(a: int, b: int) -> int\n",
    "- divide(a: int, b: int) -> float\n",
    "\n",
    "If you have detected a arithmetical task in the question you have to answer:\n",
    "\n",
    "```\n",
    "CALL: <code of the function call>\n",
    "```\n",
    "\"\"\".strip()\n",
    "\n",
    "messages_template = [\n",
    "    {\"role\": \"system\", \"content\": system_message},\n",
    "]"
   ]
  },
  {
   "cell_type": "markdown",
   "id": "469fb99e",
   "metadata": {},
   "source": [
    "The following function implements the agent's logic. If it detects the expected behavior expected for calling a tool it calls a tool, it calls the tool. To ensure that the model invouked the tool and did not complete the answer by itself, the corresponding message is published in the stdout in case of model invocation."
   ]
  },
  {
   "cell_type": "code",
   "execution_count": 62,
   "id": "76dffc94",
   "metadata": {},
   "outputs": [],
   "source": [
    "def process_request(request: str) -> str:\n",
    "    output = client.chat_completion(\n",
    "        messages=messages_template + [{\"role\": \"user\", \"content\": request}]\n",
    "    )\n",
    "\n",
    "    content = output.choices[0].message.content\n",
    "\n",
    "    if content is None:\n",
    "        return \"No content generated\"\n",
    "    if content.startswith(\"CALL:\"):\n",
    "        print(\"Tool detected\")\n",
    "        code = content.split(\"CALL:\")[1].strip().strip(\"```\").strip()\n",
    "        ans = eval(code)\n",
    "        return str(ans)\n",
    "    else:\n",
    "        return content"
   ]
  },
  {
   "cell_type": "markdown",
   "id": "4b1d5b31",
   "metadata": {},
   "source": [
    "Consider the results of using of the implemented \"agent\"."
   ]
  },
  {
   "cell_type": "code",
   "execution_count": 63,
   "id": "2a4e519a",
   "metadata": {},
   "outputs": [
    {
     "name": "stdout",
     "output_type": "stream",
     "text": [
      "Tool detected\n"
     ]
    },
    {
     "data": {
      "text/plain": [
       "'18'"
      ]
     },
     "execution_count": 63,
     "metadata": {},
     "output_type": "execute_result"
    }
   ],
   "source": [
    "process_request(\"What is 22 - 4?\")"
   ]
  },
  {
   "cell_type": "markdown",
   "id": "dcb83780",
   "metadata": {},
   "source": [
    "And the request in a bit different form."
   ]
  },
  {
   "cell_type": "code",
   "execution_count": 64,
   "id": "0a752a96",
   "metadata": {},
   "outputs": [
    {
     "name": "stdout",
     "output_type": "stream",
     "text": [
      "Tool detected\n"
     ]
    },
    {
     "data": {
      "text/plain": [
       "'21'"
      ]
     },
     "execution_count": 64,
     "metadata": {},
     "output_type": "execute_result"
    }
   ],
   "source": [
    "process_request(\"Multiply 3 by 7\")"
   ]
  },
  {
   "cell_type": "markdown",
   "id": "19290b58",
   "metadata": {},
   "source": [
    "This is an example of when the tool is not needed."
   ]
  },
  {
   "cell_type": "code",
   "execution_count": 65,
   "id": "7f80450b",
   "metadata": {},
   "outputs": [
    {
     "name": "stdout",
     "output_type": "stream",
     "text": [
      "I'm a math helper bot, and I'm here to help with mathematical tasks. Unfortunately, your question about the capital of France is not a math-related question. However, I can tell you that the capital of France is Paris.\n",
      "\n",
      "If you have a math question, I'd be happy to help! Please feel free to ask.\n"
     ]
    }
   ],
   "source": [
    "print(process_request(\"What is the capital of France?\"))"
   ]
  }
 ],
 "metadata": {
  "kernelspec": {
   "display_name": "knowledge",
   "language": "python",
   "name": "python3"
  },
  "language_info": {
   "codemirror_mode": {
    "name": "ipython",
    "version": 3
   },
   "file_extension": ".py",
   "mimetype": "text/x-python",
   "name": "python",
   "nbconvert_exporter": "python",
   "pygments_lexer": "ipython3",
   "version": "3.13.7"
  }
 },
 "nbformat": 4,
 "nbformat_minor": 5
}
