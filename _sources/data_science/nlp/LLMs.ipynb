{
 "cells": [
  {
   "cell_type": "markdown",
   "id": "69260b7e",
   "metadata": {},
   "source": [
    "# LLMs\n",
    "\n",
    "\n",
    "LLMs are models designed primarily to predict text. The most advanced LLMs can simulate a wide range of linguistic behaviors. With the right configuration, they can be applied to many problems that are difficult to solve with traditional programming."
   ]
  },
  {
   "cell_type": "markdown",
   "id": "d69b8ebc",
   "metadata": {},
   "source": [
    "## Chat templates\n",
    "\n",
    "Since LLMs are designed only to predict the next token based on a range of previous tokens, they are not able to behive in a chat-like pattern by default. To achieve this, models are fine-tuned to follow the chat templates. A model that has passed the so-called supervised fine-tuning, which is intended to train it to follow the \"query-response\" pattern, usually has the `instruct` prefix or postfix somewhere in its name/identifier.\n",
    "\n",
    "**Chat template** is a set of rules for structuring model inputs, separating messages, and specifying the role of the speaker for each message."
   ]
  },
  {
   "cell_type": "markdown",
   "id": "d9e10b2d",
   "metadata": {},
   "source": [
    "Special tokens ussually define the beginning and ending of different messages. Role is specified using some defined syntax."
   ]
  },
  {
   "cell_type": "markdown",
   "id": "9b1396d0",
   "metadata": {},
   "source": [
    "The chat-templates for a popular LLMs are:\n",
    "\n",
    "* **OpenAI ChatML**\n",
    "\n",
    "  * Common delimiters: `<|im_start|>` precedes each message; `<|im_end|>` closes them.\n",
    "  * Roles are explicitly labeled (e.g., `<|system|>`, `<|user|>`, `<|assistant|>`).\n",
    "\n",
    "* **LLaMA-2 “INST” Format**\n",
    "\n",
    "  * Prompts often use `[INST] ... [/INST]` markers, with optional system-specific wrappers like `<<SYS>> ... <</SYS>>`. These markers aren't necessarily single tokens but are recognized by tokenizer logic.\n",
    "* **LLaMA-3 / SentencePiece Chat Templates**\n",
    "\n",
    "  * Conversations begin with `<|begin_of_text|>`.\n",
    "  * Role headers are wrapped using `<|start_header_id|>role<|end_header_id|>`.\n",
    "  * Each message ends with a special end-of-turn token: `<|eot_id|>`."
   ]
  },
  {
   "cell_type": "markdown",
   "id": "619d88af",
   "metadata": {},
   "source": [
    "Hugging Face provides a playground where you can see how the chat templates will be applied for the different models available on the platform:\n",
    "\n",
    "<iframe src=\"https://jofthomas-chat-template-viewer.hf.space\" frameborder=\"0\" width=\"850\" height=\"450\"></iframe>"
   ]
  },
  {
   "cell_type": "markdown",
   "id": "0d572dea",
   "metadata": {},
   "source": [
    "---\n",
    "\n",
    "The tokenizers that come with the models in the `transformers` package apply chat templates to the sets of messages using the `apply_chat_template` method. The following cell shows the result applying the chat-format to the SmolLM model:"
   ]
  },
  {
   "cell_type": "code",
   "execution_count": 4,
   "id": "13ebf7f4",
   "metadata": {},
   "outputs": [
    {
     "name": "stdout",
     "output_type": "stream",
     "text": [
      "<|im_start|>system\n",
      "You are an AI assistant with access to various tools.<|im_end|>\n",
      "<|im_start|>user\n",
      "Hi !<|im_end|>\n",
      "<|im_start|>assistant\n",
      "Hi human, what can help you with ?<|im_end|>\n",
      "<|im_start|>assistant\n",
      "\n"
     ]
    }
   ],
   "source": [
    "messages = [\n",
    "    {\"role\": \"system\", \"content\": \"You are an AI assistant with access to various tools.\"},\n",
    "    {\"role\": \"user\", \"content\": \"Hi !\"},\n",
    "    {\"role\": \"assistant\", \"content\": \"Hi human, what can help you with ?\"},\n",
    "]\n",
    "\n",
    "from transformers import AutoTokenizer\n",
    "\n",
    "tokenizer = AutoTokenizer.from_pretrained(\"HuggingFaceTB/SmolLM2-1.7B-Instruct\")\n",
    "rendered_prompt = tokenizer.apply_chat_template(messages, tokenize=False, add_generation_prompt=True)\n",
    "print(rendered_prompt)"
   ]
  },
  {
   "cell_type": "markdown",
   "id": "e817b26b",
   "metadata": {},
   "source": [
    "## Prompt engineering\n",
    "\n",
    "Prompt engineering is a set of approaches used to configure a text generation model to produce the exact results you're interested in.\n",
    "\n",
    "Check the [Prompt Engineering](https://www.gptaiflow.com/assets/files/2025-01-18-pdf-1-TechAI-Goolge-whitepaper_Prompt%20Engineering_v4-af36dcc7a49bb7269a58b1c9b89a8ae1.pdf) guide provided by google.\n",
    "\n",
    "Generally there are two concepts you need to make the model to produce relevant output:\n",
    "\n",
    "- **Configure the model** by changing parameters. Models implemented by different organizatinos have different configuration options but most have: output length and sampling controls.\n",
    "- **Bulding a promt**. for this there are following techniques:\n",
    "    - General prompting / zero shot.\n",
    "    - One & few shot prompting.\n",
    "    - System, contextual and role prompting."
   ]
  },
  {
   "cell_type": "markdown",
   "id": "e9bb3df2",
   "metadata": {},
   "source": [
    "### Token sampling\n",
    "\n",
    "At each step of the generation process, the model generates the next token by classifying it based on previous tokens. Thus, at some point, the model's predictions resemble the probabilities of the next token:\n",
    "\n",
    "$\\left(p_1, p_2, \\ldots, p_n\\right), \\sum_{i=1}^n p_i =1$\n",
    "\n",
    "Where $n$ is a vocabulary of the model.\n",
    "\n",
    "**The temperature** regulates the randomness of the selected tokens. A value of 0 results in deterministic model outputs. The higher the value,a the more creative the model's output will be.\n",
    "\n",
    "**Top-k** specifies the model that selects the next token from among the $k$ tokens with the highest probability.\n",
    "\n",
    "**Top-p** it considers the smallest possible set of tokens whose cumulative probability exceeds a predefined threshold, $p$."
   ]
  },
  {
   "cell_type": "markdown",
   "id": "675222e8",
   "metadata": {},
   "source": [
    "### Prompting techniques\n",
    "\n",
    "There are different approaches associated to providing model information about the structure of required output:\n",
    "\n",
    "- **Zero shot**: general prompting technique, just query to the model without providing any additional information.\n",
    "- **One shot & Zero shot**: to explain the model the structure of the output you expect from it.\n",
    "\n",
    "There are following options when specifying the general patterns of the model behaviour:\n",
    "\n",
    "- **System prompting** sets the overall context and purpose for the language model.\n",
    "- **Contextual prompting** provides specific details or background information relevant to the current convecrsation task.\n",
    "- **Role prompting** assigning the a specific character or identity for the language model\n",
    "\n",
    "**Step-back prompting**: Two prompts are provided: a spefic prompt and a more general prompt. The more general prompt ussually asks about typical approaches to the issue described in the specific prompt. The second prompt includes the model's answer to the general prompt as context and the specific prompt as the taks.\n",
    "\n",
    "**Chain of Thought (CoT)**: A technique in which the model is asked to solve a task step by step. In the most basic implementation, the prompt literally asks the model to solve the problem \"step by step\"."
   ]
  },
  {
   "cell_type": "markdown",
   "id": "793daf0c",
   "metadata": {},
   "source": [
    "## OpenAI compatibility \n",
    "\n",
    "The principles behind openAI's API have already become the industry standard. If an API OpenAI compatabile, it means you can communicate with it using the same format used by the OpenAI API."
   ]
  },
  {
   "cell_type": "markdown",
   "id": "878c9db3",
   "metadata": {},
   "source": [
    "---\n",
    "\n",
    "For example, the following cell sends a request to the Ollama server launched on port 11434 port with the pulled `llama3.2:1b` model."
   ]
  },
  {
   "cell_type": "code",
   "execution_count": 1,
   "id": "8178376d",
   "metadata": {},
   "outputs": [],
   "source": [
    "import requests, json"
   ]
  },
  {
   "cell_type": "code",
   "execution_count": 2,
   "id": "94e6e38a",
   "metadata": {},
   "outputs": [
    {
     "data": {
      "text/plain": [
       "{'id': 'chatcmpl-616',\n",
       " 'object': 'chat.completion',\n",
       " 'created': 1758182631,\n",
       " 'model': 'llama3.2:1b',\n",
       " 'system_fingerprint': 'fp_ollama',\n",
       " 'choices': [{'index': 0,\n",
       "   'message': {'role': 'assistant',\n",
       "    'content': 'The capital of the United Kingdom, which includes England, Scotland, Wales, and Northern Ireland, is London.'},\n",
       "   'finish_reason': 'stop'}],\n",
       " 'usage': {'prompt_tokens': 36, 'completion_tokens': 23, 'total_tokens': 59}}"
      ]
     },
     "execution_count": 2,
     "metadata": {},
     "output_type": "execute_result"
    }
   ],
   "source": [
    "ans = requests.post(\n",
    "    \"http://localhost:11434/v1/chat/completions\",\n",
    "    json={\n",
    "        \"model\": \"llama3.2:1b\",\n",
    "        \"messages\": [\n",
    "            {\"role\": \"system\", \"content\": \"You're an assistant\"},\n",
    "            {\"role\": \"user\", \"content\": \"What is the capital of GB?\"}\n",
    "        ]\n",
    "    }\n",
    ")\n",
    "\n",
    "json.loads(ans.content)"
   ]
  },
  {
   "cell_type": "markdown",
   "id": "abf53c8d",
   "metadata": {},
   "source": [
    "The following cell shows the request sent to the model that was deployed with the `llama.cpp`."
   ]
  },
  {
   "cell_type": "code",
   "execution_count": 3,
   "id": "fcbe99c7",
   "metadata": {},
   "outputs": [
    {
     "data": {
      "text/plain": [
       "{'choices': [{'finish_reason': 'stop',\n",
       "   'index': 0,\n",
       "   'message': {'role': 'assistant',\n",
       "    'content': 'The capital of GB is London. 😊'}}],\n",
       " 'created': 1758182635,\n",
       " 'model': 'gpt-3.5-turbo',\n",
       " 'system_fingerprint': 'b6503-62c3b645',\n",
       " 'object': 'chat.completion',\n",
       " 'usage': {'completion_tokens': 9, 'prompt_tokens': 22, 'total_tokens': 31},\n",
       " 'id': 'chatcmpl-PGsByExDI96hgvHJ9SIGaAOWVmgmjaDe',\n",
       " 'timings': {'cache_n': 21,\n",
       "  'prompt_n': 1,\n",
       "  'prompt_ms': 35.968,\n",
       "  'prompt_per_token_ms': 35.968,\n",
       "  'prompt_per_second': 27.802491103202843,\n",
       "  'predicted_n': 9,\n",
       "  'predicted_ms': 232.494,\n",
       "  'predicted_per_token_ms': 25.832666666666668,\n",
       "  'predicted_per_second': 38.71067640455237}}"
      ]
     },
     "execution_count": 3,
     "metadata": {},
     "output_type": "execute_result"
    }
   ],
   "source": [
    "ans = requests.post(\n",
    "    \"http://localhost:5893/v1/chat/completions\",\n",
    "    json={\n",
    "        \"messages\": [\n",
    "            {\"role\": \"system\", \"content\": \"You're an assistant\"},\n",
    "            {\"role\": \"user\", \"content\": \"What is the capital of GB?\"}\n",
    "        ]\n",
    "    }\n",
    ")\n",
    "\n",
    "json.loads(ans.content)"
   ]
  },
  {
   "cell_type": "markdown",
   "id": "6f561093",
   "metadata": {},
   "source": [
    "**Note:** The model is not specified for llama.cpp because the endpoint created for the example only serves one model."
   ]
  },
  {
   "cell_type": "markdown",
   "id": "75ee1bf0",
   "metadata": {},
   "source": [
    "## RAG\n",
    "\n",
    "Retrieval-Augmented Generation (RAG) is an approach that provides LLM with context associated with the specific information. The general idea is to create a knowledge base in the form of vector database, where encoded as embeddings documents corresponding to the information to be added to the model context. When the system needs information, it searches for embeddings with corresponding properties decodes them, and add them as context to the machine learning model.\n",
    "\n",
    "There are sevaral topics related to RAG systems that need to be discussed:\n",
    "\n",
    "- **Chunking**: The process of separating documents from the knowledge base into the chunks that can be used to prepare the embeddings.\n",
    "- **Retrieval**: There are a set of approaches and tools to collect the relevant information contained in the chunks.\n",
    "- **Qality estimation**: As there are few compoments in the RAG system that's why the estimation of the system is a complex process.\n",
    "\n",
    "Check more in the corresponding [RAG](LLMs/rag.ipynb) page."
   ]
  },
  {
   "cell_type": "markdown",
   "id": "14876609",
   "metadata": {},
   "source": [
    "## Agents\n",
    "\n",
    "**AI agents are** programs where AI controls workflow.\n",
    "\n",
    "There is some typical terminology in the field of agentic frameworks:\n",
    "\n",
    "- **Tools**:  provide the agent with the ability to execute actions a text-generation model cannot perform natively, such as making coffe or generating images.\n",
    "- **Actions** are the concrete steps an AI agent takes to interact with its environment.\n",
    "- **Observations**: The ouputs of the tools tha are used as a context for the model.\n",
    "\n",
    "There are different ways in which AI outputs can influence the workflow. These approaches are listed in the following table:\n",
    "\n",
    "| Name             | Description                                                     | Example code                                       |\n",
    "|------------------|-----------------------------------------------------------------|----------------------------------------------------|\n",
    "| Router           | LLM output controls an if/else switch                           | `if llm_description(): path_a() else: path_b()`    |\n",
    "| Tool call        | LLM output controls function execution                          | `run_function(llm_chosen_tool, llm_chosen_args)`   |\n",
    "| Multi-step Agent | LLM output controls interation and program continuation         | `while llm_should_continue(): execute_next_step()` |\n",
    "| Multi-Agent      | One agentig workflow can start another workflow                 | `if llm_trigger(): execute_agent()`                |\n",
    "| Code Agents      | LLM acts in code, can define its own tools / start other agents | `def custom_tool()`                                |\n",
    "\n",
    "Check more details in the [Agents](LLMs/agents.ipynb) page."
   ]
  },
  {
   "cell_type": "markdown",
   "id": "21980977",
   "metadata": {},
   "source": [
    "## MCP\n",
    "\n",
    "MCP (Model Context Protocol) allows LLM to connect with external data sources, tools, and environments. This enables the seamless transfer of information and capabilities between AI systems and other digital tools. The MCP standardizes the method to interacting with LLMs, enabling tool builders to create a simple tool that can be used with any LLM.\n",
    "\n",
    "Understanding the architecture of MCP, which follows the rules determined by the role of each compoment, makes it easier to build LLM-based applications. There are 3 components in model that uses MCP:\n",
    "\n",
    "- **Host**: the application that is supposed to interact with the LLM.\n",
    "- **Client**: the compoment of the host that establishes a connection with the MCP server.\n",
    "- **Server**: external process that establishes the capabilities of the LLMs through the MCP protocol.\n",
    "\n",
    "With MCP, you can build the integration you want. But there are typical usecases which is called **capabilities**:\n",
    "\n",
    "- **Tool**: These are executable functions that the model can use to perform actions.\n",
    "- **Resources**: Read-only sources of information.\n",
    "- **Prompt**: Pre-defined prompt templates that define the way host provide the integration wiht LLM.\n",
    "- **Sampling**: Server-initiated requests for the Client/Host to perform LLM interactions, enabling recursive actions where the LLM can review generated content and make further decisions.\n",
    "\n",
    "For messaging MCP uses JSON-RPC.\n",
    "\n",
    "For more details check:\n",
    "\n",
    "- [Model Context Protocol](https://modelcontextprotocol.io/docs/getting-started/intro) website.\n",
    "- [MCP cource](https://huggingface.co/learn/mcp-course/unit0/introduction) in hugging face.\n",
    "- [MCP](LLMs/MCP.ipynb) page."
   ]
  },
  {
   "cell_type": "markdown",
   "id": "16f3caf8",
   "metadata": {},
   "source": [
    "## System evaluation\n",
    "\n",
    "The entire LLM system can contain many modifications around the LLM, such as prompts that defines the system's behaviour, RAG approach, etc. There are a number of ways to evaluate the quality of the entire LLM system. In context of the text generation, it's difficult to evaluate the system using the determenistic algorithms. Ideally, you would hire a humans to estimate system's responses. This approach is extremely expensive, so it is common practice to use an LLM to evaluate the system. \n",
    "\n",
    "There are a few typical approaches:\n",
    "\n",
    "- **Pairwise comparison**: If you have two approaches for generating a response, you can collect information on which output was better.\n",
    "- **Evaluation by criteria**: To estimate how good the output of the system was according to the specified criteria. You can select a criteria according.\n",
    "\n",
    "**Providing a reference**: Different stages of the system can accumulate different types of information. This is typically used during the evaluation stage. For example, in the evaluation framework you can provide:\n",
    "\n",
    "- Input that lead to the output which quality we are trying to estimate.\n",
    "- Prepared ground truth answer.\n",
    "- The conversation history.\n",
    "\n",
    "For more details check the [LLM-as-a-judge: complete guide to using LLMs for evaluation](https://www.evidentlyai.com/llm-guide/llm-as-a-judge).\n",
    "\n",
    "**Note:** The RAG system has some details specific to it details for evaluation. Check the [Quality estimation](LLMs/rag.ipynb#Quality-estimation) section of the RAG page."
   ]
  }
 ],
 "metadata": {
  "kernelspec": {
   "display_name": "knowledge",
   "language": "python",
   "name": "python3"
  },
  "language_info": {
   "codemirror_mode": {
    "name": "ipython",
    "version": 3
   },
   "file_extension": ".py",
   "mimetype": "text/x-python",
   "name": "python",
   "nbconvert_exporter": "python",
   "pygments_lexer": "ipython3",
   "version": "3.13.7"
  }
 },
 "nbformat": 4,
 "nbformat_minor": 5
}
