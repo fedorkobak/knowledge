{
 "cells": [
  {
   "cell_type": "markdown",
   "id": "be3440ae-66f9-4783-9507-3a6c055319ff",
   "metadata": {},
   "source": [
    "# Remove from staging"
   ]
  },
  {
   "cell_type": "markdown",
   "id": "e604d5c2-f24c-4521-b4a7-314d551255e0",
   "metadata": {},
   "source": [
    "This page describes how to remove files from the staging area and return them to the changed files. \n",
    "\n",
    "It can be achieved with `git reset` command."
   ]
  },
  {
   "cell_type": "markdown",
   "id": "34d42a95-b929-4899-81d2-8d5d24d8a5ed",
   "metadata": {},
   "source": [
    "## Basic example\n",
    "\n",
    "So here is an example with two files. There is an initial commit which only has `file1` in it. But then `file2` is created, and `file1` is changed, and both are added to the staging area - which is shown on the first `git status`.\n",
    "\n",
    "Then a `git reset` is performed - which returns `file2` to untracked and `file1` to not staged."
   ]
  },
  {
   "cell_type": "code",
   "execution_count": 23,
   "id": "07dfdf4e-e9c4-4f49-892f-c3e19ab01c86",
   "metadata": {},
   "outputs": [
    {
     "name": "stdout",
     "output_type": "stream",
     "text": [
      "========status refore reset========\n",
      "On branch master\n",
      "Changes to be committed:\n",
      "  (use \"git restore --staged <file>...\" to unstage)\n",
      "\tmodified:   file1\n",
      "\tnew file:   file2\n",
      "\n",
      "Unstaged changes after reset:\n",
      "M\tfile1\n",
      "========status after reset========\n",
      "On branch master\n",
      "Changes not staged for commit:\n",
      "  (use \"git add <file>...\" to update what will be committed)\n",
      "  (use \"git restore <file>...\" to discard changes in working directory)\n",
      "\tmodified:   file1\n",
      "\n",
      "Untracked files:\n",
      "  (use \"git add <file>...\" to include in what will be committed)\n",
      "\tfile2\n",
      "\n",
      "no changes added to commit (use \"git add\" and/or \"git commit -a\")\n",
      "========file1 content========\n",
      "test\n",
      "some changes\n"
     ]
    }
   ],
   "source": [
    "%%bash\n",
    "mkdir rm_staging_example\n",
    "cd rm_staging_example\n",
    "git init &> /dev/null\n",
    "\n",
    "# Creating the original comitatus so \n",
    "# that there is something to go back to\n",
    "echo \"test\" >> file1\n",
    "git add --all\n",
    "git commit -m 'initial commit' &> /dev/null\n",
    "\n",
    "# creating new file\n",
    "echo \"some changes\" >> file1\n",
    "echo \"test\" >> file2\n",
    "git add --all\n",
    "\n",
    "echo \"========status refore reset========\"\n",
    "git status\n",
    "\n",
    "git reset\n",
    "\n",
    "echo \"========status after reset========\"\n",
    "git status\n",
    "\n",
    "\n",
    "echo \"========file1 content========\"\n",
    "cat file1\n",
    "\n",
    "cd ..\n",
    "rm -r rm_staging_example"
   ]
  },
  {
   "cell_type": "markdown",
   "id": "226b8299-1f59-43ce-90a3-e70f8aeb2703",
   "metadata": {},
   "source": [
    "## Specify files"
   ]
  },
  {
   "cell_type": "markdown",
   "id": "81bf621f-76cc-4809-99bc-9c7bdafb90e1",
   "metadata": {},
   "source": [
    "You can perform `git reset' only on specified files by simply counting them as arguments to the `git reset` command.\n",
    "\n",
    "The following example simply copies the [basic example](#basic-example) but specifies `file1` in the `git reset command`. There is a corresponding result - only `file1` is returned, removed from the staging area."
   ]
  },
  {
   "cell_type": "code",
   "execution_count": 24,
   "id": "45323b11-ed64-4c0d-9456-9036358b1905",
   "metadata": {},
   "outputs": [
    {
     "name": "stdout",
     "output_type": "stream",
     "text": [
      "========status refore reset========\n",
      "On branch master\n",
      "Changes to be committed:\n",
      "  (use \"git restore --staged <file>...\" to unstage)\n",
      "\tmodified:   file1\n",
      "\tnew file:   file2\n",
      "\n",
      "Unstaged changes after reset:\n",
      "M\tfile1\n",
      "========status after reset========\n",
      "On branch master\n",
      "Changes to be committed:\n",
      "  (use \"git restore --staged <file>...\" to unstage)\n",
      "\tnew file:   file2\n",
      "\n",
      "Changes not staged for commit:\n",
      "  (use \"git add <file>...\" to update what will be committed)\n",
      "  (use \"git restore <file>...\" to discard changes in working directory)\n",
      "\tmodified:   file1\n",
      "\n",
      "========file1 content========\n",
      "test\n",
      "some changes\n"
     ]
    }
   ],
   "source": [
    "%%bash\n",
    "mkdir rm_staging_example\n",
    "cd rm_staging_example\n",
    "git init &> /dev/null\n",
    "\n",
    "# Creating the original comitatus so \n",
    "# that there is something to go back to\n",
    "echo \"test\" >> file1\n",
    "git add --all\n",
    "git commit -m 'initial commit' &> /dev/null\n",
    "\n",
    "# creating new file\n",
    "echo \"some changes\" >> file1\n",
    "echo \"test\" >> file2\n",
    "git add --all\n",
    "\n",
    "echo \"========status refore reset========\"\n",
    "git status\n",
    "\n",
    "# the same but file specified\n",
    "git reset file1\n",
    "\n",
    "echo \"========status after reset========\"\n",
    "git status\n",
    "\n",
    "\n",
    "echo \"========file1 content========\"\n",
    "cat file1\n",
    "\n",
    "cd ..\n",
    "rm -r rm_staging_example"
   ]
  }
 ],
 "metadata": {
  "kernelspec": {
   "display_name": "Python 3 (ipykernel)",
   "language": "python",
   "name": "python3"
  },
  "language_info": {
   "codemirror_mode": {
    "name": "ipython",
    "version": 3
   },
   "file_extension": ".py",
   "mimetype": "text/x-python",
   "name": "python",
   "nbconvert_exporter": "python",
   "pygments_lexer": "ipython3",
   "version": "3.10.12"
  }
 },
 "nbformat": 4,
 "nbformat_minor": 5
}
