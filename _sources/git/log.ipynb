{
 "cells": [
  {
   "cell_type": "markdown",
   "id": "a87be652-555e-4cb4-94bc-d555bf955b44",
   "metadata": {},
   "source": [
    "# Log\n",
    "\n",
    "`git log` is a command that allows you to check some information about:\n",
    "\n",
    "- Commits history;\n",
    "- Commit `HEAD` refer to;\n",
    "- Which commits brunches refres to."
   ]
  },
  {
   "cell_type": "markdown",
   "id": "0f2b9be6-3367-4a7b-9f75-bec94271a8f3",
   "metadata": {},
   "source": [
    "## oneline\n",
    "\n",
    "`git log --oneline` allows you to get information about each commit in just one line, without any extra information.\n",
    "\n",
    "So the following example shows the difference - `git log` without `--oneline` and with it, used for repositories with few commits."
   ]
  },
  {
   "cell_type": "code",
   "execution_count": 15,
   "id": "dcdb3f6e-6017-4145-bcde-c2a7f6c475b6",
   "metadata": {},
   "outputs": [
    {
     "name": "stdout",
     "output_type": "stream",
     "text": [
      "=====git log=====\n",
      "commit 0ce330290ccbf23709c21b9ab2f954735ecd03b3\n",
      "Author: Fedor Kobak <kobfedsur@gmail.com>\n",
      "Date:   Sat Sep 9 14:15:46 2023 +0300\n",
      "\n",
      "    Line 5 added\n",
      "\n",
      "commit 80e85aa88db21f3f50baf377614b9eb485f258bb\n",
      "Author: Fedor Kobak <kobfedsur@gmail.com>\n",
      "Date:   Sat Sep 9 14:15:46 2023 +0300\n",
      "\n",
      "    Line 4 added\n",
      "\n",
      "commit 65a9790a5234f3fc4d0f4d954c76b60db30fc8ce\n",
      "Author: Fedor Kobak <kobfedsur@gmail.com>\n",
      "Date:   Sat Sep 9 14:15:46 2023 +0300\n",
      "\n",
      "    Line 3 added\n",
      "\n",
      "commit 4df96a83e43be23415c0b0023d10b2e0282188ff\n",
      "Author: Fedor Kobak <kobfedsur@gmail.com>\n",
      "Date:   Sat Sep 9 14:15:46 2023 +0300\n",
      "\n",
      "    Line 2 added\n",
      "\n",
      "commit 7bdb94f91398e7cd4bcb431dc4a98557629ad202\n",
      "Author: Fedor Kobak <kobfedsur@gmail.com>\n",
      "Date:   Sat Sep 9 14:15:46 2023 +0300\n",
      "\n",
      "    Line 1 added\n",
      "\n",
      "=====git log --oneline=====\n",
      "0ce3302 Line 5 added\n",
      "80e85aa Line 4 added\n",
      "65a9790 Line 3 added\n",
      "4df96a8 Line 2 added\n",
      "7bdb94f Line 1 added\n"
     ]
    }
   ],
   "source": [
    "%%bash\n",
    "mkdir log_examples\n",
    "cd log_examples\n",
    "git init &> /dev/null\n",
    "\n",
    "\n",
    "for i in {1..5}\n",
    "do\n",
    "  echo \"Line $i\" >> file\n",
    "  git add file\n",
    "  git commit -m \"Line $i added\" &> /dev/null\n",
    "done\n",
    "\n",
    "echo \"=====git log=====\"\n",
    "git log\n",
    "echo\n",
    "echo \"=====git log --oneline=====\"\n",
    "git log --oneline\n",
    "\n",
    "cd ..\n",
    "rm -r log_examples"
   ]
  }
 ],
 "metadata": {
  "kernelspec": {
   "display_name": "Python 3 (ipykernel)",
   "language": "python",
   "name": "python3"
  },
  "language_info": {
   "codemirror_mode": {
    "name": "ipython",
    "version": 3
   },
   "file_extension": ".py",
   "mimetype": "text/x-python",
   "name": "python",
   "nbconvert_exporter": "python",
   "pygments_lexer": "ipython3",
   "version": "3.10.6"
  }
 },
 "nbformat": 4,
 "nbformat_minor": 5
}
