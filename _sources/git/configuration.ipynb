{
 "cells": [
  {
   "cell_type": "markdown",
   "metadata": {},
   "source": [
    "# Configuration\n",
    "\n",
    "This section overviews ways to configure `git` utility. Check official description [here](https://git-scm.com/docs/git-config)."
   ]
  },
  {
   "cell_type": "markdown",
   "metadata": {},
   "source": [
    "---\n",
    "\n",
    "The following cell creates repo that we'll use as example."
   ]
  },
  {
   "cell_type": "code",
   "execution_count": 8,
   "metadata": {
    "vscode": {
     "languageId": "shellscript"
    }
   },
   "outputs": [],
   "source": [
    "cd /tmp\n",
    "[ ! -d \"dirname\" ] && mkdir \"dirname\"\n",
    "cd git_config_experiments\n",
    "git init &> /dev/null"
   ]
  },
  {
   "cell_type": "markdown",
   "metadata": {},
   "source": [
    "## Command \n",
    "\n",
    "The `git config` command is used to manage Git configuration settings via the command line. It interacts with specific configuration files to set or retrieve values."
   ]
  },
  {
   "cell_type": "markdown",
   "metadata": {},
   "source": [
    "---\n",
    "\n",
    "The following cells show the output of the command, listing the options set for the configuration of the particular repository."
   ]
  },
  {
   "cell_type": "code",
   "execution_count": 9,
   "metadata": {
    "vscode": {
     "languageId": "shellscript"
    }
   },
   "outputs": [
    {
     "name": "stdout",
     "output_type": "stream",
     "text": [
      "core.repositoryformatversion=0\n",
      "core.filemode=true\n",
      "core.bare=false\n",
      "core.logallrefupdates=true\n"
     ]
    }
   ],
   "source": [
    "git config --list --local"
   ]
  },
  {
   "cell_type": "markdown",
   "metadata": {
    "vscode": {
     "languageId": "shellscript"
    }
   },
   "source": [
    "But all it does is display a toml-like configuration file `.git/config` that determines the behaviour of the `git` utility specifically for that repository."
   ]
  },
  {
   "cell_type": "code",
   "execution_count": null,
   "metadata": {
    "vscode": {
     "languageId": "shellscript"
    }
   },
   "outputs": [
    {
     "name": "stdout",
     "output_type": "stream",
     "text": [
      "[core]\n",
      "\trepositoryformatversion = 0\n",
      "\tfilemode = true\n",
      "\tbare = false\n",
      "\tlogallrefupdates = true\n"
     ]
    }
   ],
   "source": [
    "cat .git/config"
   ]
  },
  {
   "cell_type": "markdown",
   "metadata": {},
   "source": [
    "## File \n",
    "\n",
    "`git config` is an interface for creating special configuration files. You can modify these files manually, and this section provides an overview of the available options. There is a [special section in the official documentation](https://git-scm.com/docs/git-config#FILES) that explains how to manage Git configuration files.\n",
    "\n",
    "Several files regulate Git's behavior:\n",
    "\n",
    "- System-wide: typically located at `/etc/gitconfig`.\n",
    "- Global: applied to a particular user, typically located at `~/.gitconfig`.\n",
    "- Local: applied only to the specific repository, typically located at `./.git/config`.\n",
    "- Worktree: typically located at `./.git/config.worktree`."
   ]
  },
  {
   "cell_type": "markdown",
   "metadata": {},
   "source": [
    "---\n",
    "\n",
    "For example, consider the `git` configuration in the Docker container created below."
   ]
  },
  {
   "cell_type": "code",
   "execution_count": 26,
   "metadata": {
    "vscode": {
     "languageId": "shellscript"
    }
   },
   "outputs": [
    {
     "name": "stdout",
     "output_type": "stream",
     "text": [
      "11c771193fb2e35ded342f0d00f7a6ef34bf85e3c84a7095e674f8d2d22b6640\n"
     ]
    }
   ],
   "source": [
    "docker run -itd --rm --name git_configuration_files alpine sh -c \"\n",
    "apk update && \\\n",
    "apk add git; \n",
    "sh\n",
    "\""
   ]
  },
  {
   "cell_type": "markdown",
   "metadata": {},
   "source": [
    "The following cell adds the system configuration file. The resulting configuration file defines an alias for the `git echo` command to print the `system` message."
   ]
  },
  {
   "cell_type": "code",
   "execution_count": 54,
   "metadata": {
    "vscode": {
     "languageId": "shellscript"
    }
   },
   "outputs": [],
   "source": [
    "docker exec -it git_configuration_files sh -c 'cat << EOF > /etc/gitconfig\n",
    "[alias]    \n",
    "    echo=\"!echo system\"\n",
    "EOF'"
   ]
  },
  {
   "cell_type": "markdown",
   "metadata": {},
   "source": [
    "We can check if `git` has understood the configuration well by listing all available configurations with `git config --list`."
   ]
  },
  {
   "cell_type": "code",
   "execution_count": 57,
   "metadata": {
    "vscode": {
     "languageId": "shellscript"
    }
   },
   "outputs": [
    {
     "name": "stdout",
     "output_type": "stream",
     "text": [
      "alias.echo=!echo system\n"
     ]
    }
   ],
   "source": [
    "docker exec git_configuration_files git config --list"
   ]
  },
  {
   "cell_type": "markdown",
   "metadata": {},
   "source": [
    "And it's really easy to check if created alias works, just by invoking `git echo`."
   ]
  },
  {
   "cell_type": "code",
   "execution_count": 58,
   "metadata": {
    "vscode": {
     "languageId": "shellscript"
    }
   },
   "outputs": [
    {
     "name": "stdout",
     "output_type": "stream",
     "text": [
      "system\n"
     ]
    }
   ],
   "source": [
    "docker exec git_configuration_files git echo "
   ]
  },
  {
   "cell_type": "markdown",
   "metadata": {},
   "source": [
    "We got message `system` as defined in the configuration file."
   ]
  },
  {
   "cell_type": "code",
   "execution_count": 59,
   "metadata": {
    "vscode": {
     "languageId": "shellscript"
    }
   },
   "outputs": [
    {
     "name": "stdout",
     "output_type": "stream",
     "text": [
      "git_configuration_files\n"
     ]
    }
   ],
   "source": [
    "docker stop git_configuration_files"
   ]
  },
  {
   "cell_type": "markdown",
   "metadata": {},
   "source": [
    "## Variables\n",
    "\n",
    "This section covers the options you can use for your configuration. Check the [official documentation list](https://git-scm.com/docs/git-config#_variables). The list of variables is quite extensive, so the following cell includes, in my opinion, only the most important options.\n",
    "\n",
    "| **Category**       | **Variable**                 | **Description**                                                                                      |\n",
    "|--------------------|------------------------------|------------------------------------------------------------------------------------------------------|\n",
    "| **User**           | `user.name`                  | Defines the name to be used for commits.                                                             |\n",
    "|                    | `user.email`                 | Defines the email address to be used for commits.                                                    |\n",
    "| **Core**           | `core.editor`                | Specifies the editor to be used by Git commands.                                                     |\n",
    "|                    | `core.autocrlf`              | Controls automatic line-ending conversion between Windows and Unix systems.                         |\n",
    "|                    | `core.safecrlf`              | Ensures files are checked in with consistent line endings when `core.autocrlf` is enabled.          |\n",
    "|                    | `core.ignorecase`            | Determines if Git should ignore case differences in file names.                                     |\n",
    "|                    | `core.fileMode`              | Controls whether file permissions are tracked.                                                      |\n",
    "|                    | `core.excludesfile`          | Specifies the path to a global `.gitignore` file.                                                   |\n",
    "|                    | `core.hooksPath`             | Specifies the path to a directory containing custom Git hooks.                                      |\n",
    "| **Remote**         | `remote.origin.url`          | URL of the remote repository named `origin`.                                                        |\n",
    "|                    | `remote.origin.fetch`        | Defines the refspec for fetching changes from the remote repository named `origin`.                 |\n",
    "| **Branch**         | `branch.<name>.remote`       | Sets the remote repository for a specific branch.                                                   |\n",
    "|                    | `branch.<name>.merge`        | Specifies the branch to merge from the remote repository.                                           |\n",
    "| **Pull/Push**      | `pull.rebase`                | Determines if `git pull` should use rebase instead of merge.                                        |\n",
    "|                    | `push.default`               | Controls the default behavior of `git push` (e.g., `simple`, `matching`).                           |\n",
    "| **Commit**         | `commit.template`            | Specifies a template file for commit messages.                                                      |\n",
    "|                    | `rebase.autosquash`          | Automatically squashes fixup and squash commits when rebasing.                                      |\n",
    "| **Color**          | `color.ui`                   | Enables or disables colored output in Git commands.                                                 |\n",
    "| **Diff/Merge**     | `diff.tool`                  | Defines the diff tool to be used for comparing changes.                                             |\n",
    "|                    | `merge.tool`                 | Specifies the merge tool to use for resolving merge conflicts.                                      |\n",
    "|                    | `mergetool.keepBackup`       | Controls whether Git keeps backup files after a merge resolution.                                   |\n",
    "| **Alias**          | `alias.<name>`               | Defines a shorthand alias for Git commands.                                                         |\n",
    "| **Log**            | `log.date`                   | Configures the date format for `git log` output.                                                    |\n",
    "| **Garbage Collection** | `gc.auto`                 | Defines when automatic garbage collection should occur based on the number of loose objects.         |\n",
    "| **HTTP**           | `http.sslVerify`             | Controls whether SSL verification is performed when using HTTPS.                                    |\n",
    "| **Init**           | `init.defaultBranch`         | Sets the default branch name when initializing a new repository.                                    |\n",
    "| **Credential**     | `credential.helper`          | Specifies a credential helper to use when authenticating with a remote repository.                  |\n",
    "\n",
    "\n",
    "For some of them find more accurate description in the [special page](configuration/variables.ipynb)."
   ]
  }
 ],
 "metadata": {
  "kernelspec": {
   "display_name": "Bash",
   "language": "bash",
   "name": "bash"
  },
  "language_info": {
   "codemirror_mode": "shell",
   "file_extension": ".sh",
   "mimetype": "text/x-sh",
   "name": "bash"
  }
 },
 "nbformat": 4,
 "nbformat_minor": 2
}
