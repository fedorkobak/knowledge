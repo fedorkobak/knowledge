{
 "cells": [
  {
   "cell_type": "markdown",
   "id": "5221ded5",
   "metadata": {},
   "source": [
    "# Overview\n",
    "\n",
    "This is an entry page containing basic information you need to know to start working with `git`. Some sections refer to specific pages that provide more detailed descriptions of various `git` concepts with more advanced examples."
   ]
  },
  {
   "cell_type": "markdown",
   "id": "3ffae7c5-d9df-4754-b9b8-c7733aeb13a9",
   "metadata": {},
   "source": [
    "## Repository \n",
    "\n",
    "This section discusses what a `git` repository is and what a typical folder needs to have to be considered a `git` repository.\n",
    "\n",
    "You should use the `git init` command to create a new repository. This command adds a `.git` folder to the directory being initialized as a repository - this folder serves as a marker indicating that the directory is a `git` repository."
   ]
  },
  {
   "cell_type": "markdown",
   "id": "65eb895f",
   "metadata": {},
   "source": [
    "---\n",
    "\n",
    "The following cell creates a folder and initializes a repository in it. This allows you to see the typical messages provided by `git` during these operations."
   ]
  },
  {
   "cell_type": "code",
   "execution_count": 6,
   "id": "5bb9464e-82dd-4e44-936d-17d2aa27cefe",
   "metadata": {
    "vscode": {
     "languageId": "shellscript"
    }
   },
   "outputs": [
    {
     "name": "stdout",
     "output_type": "stream",
     "text": [
      "\u001b[33mhint: Using 'master' as the name for the initial branch. This default branch name\u001b[m\n",
      "\u001b[33mhint: is subject to change. To configure the initial branch name to use in all\u001b[m\n",
      "\u001b[33mhint: of your new repositories, which will suppress this warning, call:\u001b[m\n",
      "\u001b[33mhint: \u001b[m\n",
      "\u001b[33mhint: \tgit config --global init.defaultBranch <name>\u001b[m\n",
      "\u001b[33mhint: \u001b[m\n",
      "\u001b[33mhint: Names commonly chosen instead of 'master' are 'main', 'trunk' and\u001b[m\n",
      "\u001b[33mhint: 'development'. The just-created branch can be renamed via this command:\u001b[m\n",
      "\u001b[33mhint: \u001b[m\n",
      "\u001b[33mhint: \tgit branch -m <name>\u001b[m\n",
      "Initialized empty Git repository in /tmp/git_init/.git/\n"
     ]
    }
   ],
   "source": [
    "mkdir /tmp/git_init\n",
    "cd /tmp/git_init\n",
    "\n",
    "git init"
   ]
  },
  {
   "cell_type": "markdown",
   "id": "f27cd8b9",
   "metadata": {},
   "source": [
    "Check what the empty folder looks like after running `git init`."
   ]
  },
  {
   "cell_type": "code",
   "execution_count": 8,
   "id": "9dfd2a84",
   "metadata": {
    "vscode": {
     "languageId": "shellscript"
    }
   },
   "outputs": [
    {
     "name": "stdout",
     "output_type": "stream",
     "text": [
      "total 20\n",
      "drwxrwxr-x  3 fedor fedor  4096 Jan  8 18:47 \u001b[0m\u001b[01;34m.\u001b[0m\n",
      "drwxrwxrwt 43 root  root  12288 Jan  8 18:50 \u001b[30;42m..\u001b[0m\n",
      "drwxrwxr-x  7 fedor fedor  4096 Jan  8 18:47 \u001b[01;34m.git\u001b[0m\n"
     ]
    }
   ],
   "source": [
    "ls -la"
   ]
  },
  {
   "cell_type": "markdown",
   "id": "7b861e54",
   "metadata": {},
   "source": [
    "There is a `.git` folder which contains all the files that `git` uses to keep track of changes."
   ]
  }
 ],
 "metadata": {
  "kernelspec": {
   "display_name": "Bash",
   "language": "bash",
   "name": "bash"
  },
  "language_info": {
   "codemirror_mode": "shell",
   "file_extension": ".sh",
   "mimetype": "text/x-sh",
   "name": "bash"
  }
 },
 "nbformat": 4,
 "nbformat_minor": 5
}
