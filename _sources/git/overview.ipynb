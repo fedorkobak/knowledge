{
 "cells": [
  {
   "cell_type": "markdown",
   "id": "5221ded5",
   "metadata": {},
   "source": [
    "# Overview\n",
    "\n",
    "This section descirbes some aspects of working in Git.\n",
    "\n",
    "Git is a distributed version control system, which means it stores all information in multiple places. There are typically two types of hosts where a Git repository can be stored:\n",
    "\n",
    "- A git hosting some service or server that stores project.\n",
    "- A developer's computer. The entire porject history is stored on each developer's computer. If needed, they can upload local changes to the hosting server or download changes contributed by other developers.\n",
    "\n",
    "This is an entry page containing basic information you need to know to start working with `git`. Some sections refer to specific pages that provide more detailed descriptions of various `git` concepts with more advanced examples."
   ]
  },
  {
   "cell_type": "markdown",
   "id": "4e0de23c",
   "metadata": {},
   "source": [
    "## Repository \n",
    "\n",
    "This section discusses what a `git` repository is and what a typical folder needs to have to be considered a `git` repository.\n",
    "\n",
    "You should use the `git init` command to create a new repository. This command adds a `.git` folder to the directory being initialized as a repository - this folder serves as a marker indicating that the directory is a `git` repository."
   ]
  },
  {
   "cell_type": "markdown",
   "id": "b2c6e160",
   "metadata": {},
   "source": [
    "---\n",
    "\n",
    "The following cell creates a folder and initializes a repository in it. This allows you to see the typical messages provided by `git` during these operations."
   ]
  },
  {
   "cell_type": "code",
   "execution_count": null,
   "id": "8eda90b9",
   "metadata": {
    "vscode": {
     "languageId": "shellscript"
    }
   },
   "outputs": [
    {
     "name": "stdout",
     "output_type": "stream",
     "text": [
      "\u001b[33mhint: Using 'master' as the name for the initial branch. This default branch name\u001b[m\n",
      "\u001b[33mhint: is subject to change. To configure the initial branch name to use in all\u001b[m\n",
      "\u001b[33mhint: of your new repositories, which will suppress this warning, call:\u001b[m\n",
      "\u001b[33mhint: \u001b[m\n",
      "\u001b[33mhint: \tgit config --global init.defaultBranch <name>\u001b[m\n",
      "\u001b[33mhint: \u001b[m\n",
      "\u001b[33mhint: Names commonly chosen instead of 'master' are 'main', 'trunk' and\u001b[m\n",
      "\u001b[33mhint: 'development'. The just-created branch can be renamed via this command:\u001b[m\n",
      "\u001b[33mhint: \u001b[m\n",
      "\u001b[33mhint: \tgit branch -m <name>\u001b[m\n",
      "Initialized empty Git repository in /tmp/git_init/.git/\n"
     ]
    }
   ],
   "source": [
    "mkdir /tmp/git_init\n",
    "cd /tmp/git_init\n",
    "\n",
    "git init"
   ]
  },
  {
   "cell_type": "markdown",
   "id": "603a1188",
   "metadata": {},
   "source": [
    "Check what the empty folder looks like after running `git init`."
   ]
  },
  {
   "cell_type": "code",
   "execution_count": null,
   "id": "8177b436",
   "metadata": {
    "vscode": {
     "languageId": "shellscript"
    }
   },
   "outputs": [
    {
     "name": "stdout",
     "output_type": "stream",
     "text": [
      "total 20\n",
      "drwxrwxr-x  3 fedor fedor  4096 Jan  8 18:47 \u001b[0m\u001b[01;34m.\u001b[0m\n",
      "drwxrwxrwt 43 root  root  12288 Jan  8 18:50 \u001b[30;42m..\u001b[0m\n",
      "drwxrwxr-x  7 fedor fedor  4096 Jan  8 18:47 \u001b[01;34m.git\u001b[0m\n"
     ]
    }
   ],
   "source": [
    "ls -la"
   ]
  },
  {
   "cell_type": "markdown",
   "id": "3571ee5a",
   "metadata": {},
   "source": [
    "There is a `.git` folder which contains all the files that `git` uses to keep track of changes."
   ]
  },
  {
   "cell_type": "markdown",
   "id": "4e1438e4",
   "metadata": {},
   "source": [
    "### Git kernel\n",
    "\n",
    "This section typically uses a specially created jupyter git kernel. This automatically creates a git repo each time you run a cell with `%init` magic in the first line. Therefore, you can just start witht the git commands avoiding, the boilerplate code to manage the repo."
   ]
  },
  {
   "cell_type": "markdown",
   "id": "b431ffc2",
   "metadata": {},
   "source": [
    "## Stages\n",
    "\n",
    "Files in git can take three stages:\n",
    "\n",
    "- `Modified`: means that the file in the working directory has been modified, but these changes aren't tracked by Git.\n",
    "- `Staged`: means that you marked the current version of the file to be commited.\n",
    "- `Commited`: means that this version of the file is stored in the local database in the `.git` folder.\n",
    "\n",
    "The following picture is an adoptation of popular approach to visualise the stages of the stages in git:\n",
    "\n",
    "![](overview_files/git_stages.svg)\n",
    "\n",
    "Check more in [Stages](stages.ipynb) page."
   ]
  },
  {
   "cell_type": "markdown",
   "id": "60e7ec8f",
   "metadata": {},
   "source": [
    "## Configuration\n",
    "\n",
    "Use the `git config` command to work with configurations from the command line.\n",
    "\n",
    "There are three levels of configuration for the `git` repository. Each level keeps its configuration in the corresponding file and has a corresponding flag for the `git config` command. The following cell maps each configuration level in `git`: \n",
    "\n",
    "| Level                               | Configuration file | `git config` flag |\n",
    "|-------------------------------------|--------------------|-------------------|\n",
    "| System: for all users of the system | `/etc/gitconfig`   | `--system`        |\n",
    "| Global: for the user                | `~/.gitconfig`     | `--global`        |\n",
    "| Local: for the repository           | `./.git/config`    | `--local`         |\n",
    "\n",
    "For more check the [Configuration](configuration.ipynb) page."
   ]
  }
 ],
 "metadata": {
  "kernelspec": {
   "display_name": "Bash",
   "language": "bash",
   "name": "bash"
  },
  "language_info": {
   "codemirror_mode": "shell",
   "file_extension": ".sh",
   "mimetype": "text/x-sh",
   "name": "bash"
  }
 },
 "nbformat": 4,
 "nbformat_minor": 5
}
