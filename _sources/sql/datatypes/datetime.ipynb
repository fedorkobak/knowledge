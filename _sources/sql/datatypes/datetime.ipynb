{
 "cells": [
  {
   "cell_type": "markdown",
   "metadata": {},
   "source": [
    "# Date and time\n",
    "\n",
    "Working with dates and times is quite common when using SQL. Since date columns have many specific features, there is a dedicated section for handling them."
   ]
  },
  {
   "cell_type": "markdown",
   "metadata": {},
   "source": [
    "## Date\n",
    "\n",
    "All database systems have some types that describe jsut a date - it's a date without time."
   ]
  },
  {
   "cell_type": "markdown",
   "metadata": {},
   "source": [
    "\n",
    "---\n",
    "\n",
    "As an example, consider how the `DATE` data type can be defined in Postgres. In the following cell, the types of the results from different ways of creating a date are printed."
   ]
  },
  {
   "cell_type": "code",
   "execution_count": 1,
   "metadata": {},
   "outputs": [
    {
     "name": "stdout",
     "output_type": "stream",
     "text": [
      "SELECT 1\n"
     ]
    },
    {
     "data": {
      "text/html": [
       "<table>\n",
       "<thead>\n",
       "<tr><th>one    </th><th>two  </th><th>three  </th><th>four  </th></tr>\n",
       "</thead>\n",
       "<tbody>\n",
       "<tr><td>unknown</td><td>date </td><td>date   </td><td>date  </td></tr>\n",
       "</tbody>\n",
       "</table>"
      ],
      "text/latex": [
       "\\begin{tabular}{llll}\n",
       "\\toprule\n",
       " one     & two   & three   & four   \\\\\n",
       "\\midrule\n",
       " unknown & date  & date    & date   \\\\\n",
       "\\bottomrule\n",
       "\\end{tabular}"
      ],
      "text/plain": [
       "one      two    three    four\n",
       "-------  -----  -------  ------\n",
       "unknown  date   date     date"
      ]
     },
     "metadata": {},
     "output_type": "display_data"
    }
   ],
   "source": [
    "--postgreSQL\n",
    "SELECT \n",
    "    pg_typeof('2999-08-12') one,\n",
    "    pg_typeof(CAST('2999-08-12' AS DATE)) two,\n",
    "    pg_typeof('2999-08-12'::DATE) three,\n",
    "    pg_typeof(to_date('2999-08-12', 'YYYY-MM-DD')) four\n",
    ";"
   ]
  },
  {
   "cell_type": "markdown",
   "metadata": {},
   "source": [
    "In ClickHouse, dates are stored as strings. By using the `toDate` function, you can make ClickHouse interpret them as datetime columns."
   ]
  },
  {
   "cell_type": "code",
   "execution_count": 4,
   "metadata": {},
   "outputs": [
    {
     "data": {
      "text/html": [
       "<table>\n",
       "<thead>\n",
       "<tr><th>toTypeName(&#x27;2999-12-23&#x27;)  </th><th>toTypeName(toDate(&#x27;2999-12-23&#x27;))  </th></tr>\n",
       "</thead>\n",
       "<tbody>\n",
       "<tr><td>String                    </td><td>Date                              </td></tr>\n",
       "</tbody>\n",
       "</table>"
      ],
      "text/latex": [
       "\\begin{tabular}{ll}\n",
       "\\toprule\n",
       " toTypeName('2999-12-23')   & toTypeName(toDate('2999-12-23'))   \\\\\n",
       "\\midrule\n",
       " String                     & Date                               \\\\\n",
       "\\bottomrule\n",
       "\\end{tabular}"
      ],
      "text/plain": [
       "toTypeName('2999-12-23')    toTypeName(toDate('2999-12-23'))\n",
       "--------------------------  ----------------------------------\n",
       "String                      Date"
      ]
     },
     "metadata": {},
     "output_type": "display_data"
    }
   ],
   "source": [
    "--ClickHouse\n",
    "SELECT\n",
    "    toTypeName('2999-12-23'),\n",
    "    toTypeName(toDate('2999-12-23'));"
   ]
  },
  {
   "cell_type": "markdown",
   "metadata": {},
   "source": [
    "## Datetime/Timestamp\n",
    "\n",
    "The `Datetime` type is used to describe date and time with precision."
   ]
  },
  {
   "cell_type": "markdown",
   "metadata": {},
   "source": [
    "---\n",
    "\n",
    "The following cell demonstrates a comparison of typecasting to `DATE` and `TIMESTAMP` in postgres."
   ]
  },
  {
   "cell_type": "code",
   "execution_count": 5,
   "metadata": {},
   "outputs": [
    {
     "name": "stdout",
     "output_type": "stream",
     "text": [
      "SELECT 1\n"
     ]
    },
    {
     "data": {
      "text/html": [
       "<table>\n",
       "<thead>\n",
       "<tr><th>date      </th><th>timestamp                 </th></tr>\n",
       "</thead>\n",
       "<tbody>\n",
       "<tr><td>2024-07-03</td><td>2024-07-03 14:30:57.902629</td></tr>\n",
       "</tbody>\n",
       "</table>"
      ],
      "text/latex": [
       "\\begin{tabular}{ll}\n",
       "\\toprule\n",
       " date       & timestamp                  \\\\\n",
       "\\midrule\n",
       " 2024-07-03 & 2024-07-03 14:30:57.902629 \\\\\n",
       "\\bottomrule\n",
       "\\end{tabular}"
      ],
      "text/plain": [
       "date        timestamp\n",
       "----------  --------------------------\n",
       "2024-07-03  2024-07-03 14:30:57.902629"
      ]
     },
     "metadata": {},
     "output_type": "display_data"
    }
   ],
   "source": [
    "--postgreSQL\n",
    "SELECT \n",
    "    '2024-07-03 14:30:57.902629'::DATE,\n",
    "    '2024-07-03 14:30:57.902629'::TIMESTAMP;"
   ]
  },
  {
   "cell_type": "markdown",
   "metadata": {},
   "source": [
    "So in case `DATE` there is only infomation about day but in `TMESTAMP` case we're getting accuracy up to microsecond."
   ]
  },
  {
   "cell_type": "markdown",
   "metadata": {},
   "source": [
    "The same example applies to ClickHouse."
   ]
  },
  {
   "cell_type": "code",
   "execution_count": 7,
   "metadata": {},
   "outputs": [
    {
     "data": {
      "text/html": [
       "<table>\n",
       "<thead>\n",
       "<tr><th>toDate(&#x27;2024-07-03 14:30:57&#x27;)  </th><th>toDateTime64(&#x27;2024-07-03 14:30:57.902629&#x27;, 6)  </th></tr>\n",
       "</thead>\n",
       "<tbody>\n",
       "<tr><td>2024-07-03                     </td><td>2024-07-03 14:30:57.902629                     </td></tr>\n",
       "</tbody>\n",
       "</table>"
      ],
      "text/latex": [
       "\\begin{tabular}{ll}\n",
       "\\toprule\n",
       " toDate('2024-07-03 14:30:57')   & toDateTime64('2024-07-03 14:30:57.902629', 6)   \\\\\n",
       "\\midrule\n",
       " 2024-07-03                      & 2024-07-03 14:30:57.902629                      \\\\\n",
       "\\bottomrule\n",
       "\\end{tabular}"
      ],
      "text/plain": [
       "toDate('2024-07-03 14:30:57')    toDateTime64('2024-07-03 14:30:57.902629', 6)\n",
       "-------------------------------  -----------------------------------------------\n",
       "2024-07-03                       2024-07-03 14:30:57.902629"
      ]
     },
     "metadata": {},
     "output_type": "display_data"
    }
   ],
   "source": [
    "--ClickHouse\n",
    "SELECT\n",
    "    toDate('2024-07-03 14:30:57'),\n",
    "    toDateTime64('2024-07-03 14:30:57.902629', 6);"
   ]
  }
 ],
 "metadata": {
  "kernelspec": {
   "display_name": "UniversalSQL",
   "language": "sql",
   "name": "universal_sql"
  },
  "language_info": {
   "file_extentions": ".sql",
   "mimetype": "text/plain",
   "name": "sql"
  }
 },
 "nbformat": 4,
 "nbformat_minor": 2
}
