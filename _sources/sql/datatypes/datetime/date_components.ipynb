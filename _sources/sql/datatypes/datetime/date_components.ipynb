{
 "cells": [
  {
   "cell_type": "markdown",
   "id": "76b35f07-6ffe-4093-b564-9d863689f497",
   "metadata": {},
   "source": [
    "# Date components (DATE_PART)"
   ]
  },
  {
   "cell_type": "markdown",
   "id": "2bb903e8-98ea-434b-9efe-abb3041cc1cf",
   "metadata": {},
   "source": [
    "Sometimes you need to extract some specific numbers from the date, such as year, month and day. For such purposes you can use the `DATE_PART` function."
   ]
  },
  {
   "cell_type": "markdown",
   "id": "53fddeb0-54d5-4a84-8fef-ee4885306a9b",
   "metadata": {},
   "source": [
    "In the following cell container, a postgres instance was started and a table was created that will be used for experiments."
   ]
  },
  {
   "cell_type": "code",
   "execution_count": 1,
   "id": "82bb89be-12e6-42f8-8a3e-e02178c0ae7b",
   "metadata": {},
   "outputs": [
    {
     "name": "stdout",
     "output_type": "stream",
     "text": [
      "CREATE TABLE\n",
      "INSERT 0 3\n",
      "SELECT 3\n"
     ]
    },
    {
     "data": {
      "text/html": [
       "<table>\n",
       "<thead>\n",
       "<tr><th>var1      </th></tr>\n",
       "</thead>\n",
       "<tbody>\n",
       "<tr><td>2022-12-20</td></tr>\n",
       "<tr><td>2021-10-15</td></tr>\n",
       "<tr><td>2018-06-15</td></tr>\n",
       "</tbody>\n",
       "</table>"
      ],
      "text/latex": [
       "\\begin{tabular}{l}\n",
       "\\toprule\n",
       " var1       \\\\\n",
       "\\midrule\n",
       " 2022-12-20 \\\\\n",
       " 2021-10-15 \\\\\n",
       " 2018-06-15 \\\\\n",
       "\\bottomrule\n",
       "\\end{tabular}"
      ],
      "text/plain": [
       "var1\n",
       "----------\n",
       "2022-12-20\n",
       "2021-10-15\n",
       "2018-06-15"
      ]
     },
     "metadata": {},
     "output_type": "display_data"
    }
   ],
   "source": [
    "--postgreSQL\n",
    "CREATE TABLE tab(\n",
    "    var1 DATE\n",
    ");\n",
    "INSERT INTO tab (var1) VALUES\n",
    "('2022-12-20'),\n",
    "('2021-10-15'),\n",
    "('2018-06-15');\n",
    "\n",
    "SELECT * FROM tab;"
   ]
  },
  {
   "cell_type": "markdown",
   "id": "fc2cdebc-3b33-4beb-8e85-1ee0b5f3cafc",
   "metadata": {},
   "source": [
    "## Example\n",
    "\n",
    "Here is an example of how to use `DATE_PART`. You must use the following syntax: `DATE_PART('part', <column name>)`. So in the following cell all dates will be split into day, month and year:"
   ]
  },
  {
   "cell_type": "code",
   "execution_count": 2,
   "id": "db16829c-cffc-4941-99e7-11a7b3d52229",
   "metadata": {},
   "outputs": [
    {
     "name": "stdout",
     "output_type": "stream",
     "text": [
      "SELECT 3\n"
     ]
    },
    {
     "data": {
      "text/html": [
       "<table>\n",
       "<thead>\n",
       "<tr><th>Original date  </th><th style=\"text-align: right;\">  Year</th><th style=\"text-align: right;\">  Month</th><th style=\"text-align: right;\">  Day</th></tr>\n",
       "</thead>\n",
       "<tbody>\n",
       "<tr><td>2022-12-20     </td><td style=\"text-align: right;\">  2022</td><td style=\"text-align: right;\">     12</td><td style=\"text-align: right;\">   20</td></tr>\n",
       "<tr><td>2021-10-15     </td><td style=\"text-align: right;\">  2021</td><td style=\"text-align: right;\">     10</td><td style=\"text-align: right;\">   15</td></tr>\n",
       "<tr><td>2018-06-15     </td><td style=\"text-align: right;\">  2018</td><td style=\"text-align: right;\">      6</td><td style=\"text-align: right;\">   15</td></tr>\n",
       "</tbody>\n",
       "</table>"
      ],
      "text/latex": [
       "\\begin{tabular}{lrrr}\n",
       "\\toprule\n",
       " Original date   &   Year &   Month &   Day \\\\\n",
       "\\midrule\n",
       " 2022-12-20      &   2022 &      12 &    20 \\\\\n",
       " 2021-10-15      &   2021 &      10 &    15 \\\\\n",
       " 2018-06-15      &   2018 &       6 &    15 \\\\\n",
       "\\bottomrule\n",
       "\\end{tabular}"
      ],
      "text/plain": [
       "Original date      Year    Month    Day\n",
       "---------------  ------  -------  -----\n",
       "2022-12-20         2022       12     20\n",
       "2021-10-15         2021       10     15\n",
       "2018-06-15         2018        6     15"
      ]
     },
     "metadata": {},
     "output_type": "display_data"
    }
   ],
   "source": [
    "--postgreSQL\n",
    "SELECT \n",
    "    var1 \"Original date\",\n",
    "    DATE_PART('year', var1) \"Year\", \n",
    "    DATE_PART('month', var1) \"Month\",\n",
    "    DATE_PART('day', var1) \"Day\"\n",
    "FROM tab;"
   ]
  }
 ],
 "metadata": {
  "kernelspec": {
   "display_name": "UniversalSQL",
   "language": "sql",
   "name": "universal_sql"
  },
  "language_info": {
   "file_extentions": ".sql",
   "mimetype": "text/plain",
   "name": "sql"
  }
 },
 "nbformat": 4,
 "nbformat_minor": 5
}
