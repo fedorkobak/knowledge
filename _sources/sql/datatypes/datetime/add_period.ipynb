{
 "cells": [
  {
   "cell_type": "markdown",
   "id": "48e9e488-95b5-4763-814e-05830fc7a36a",
   "metadata": {},
   "source": [
    "# Add period\n",
    "\n",
    "If you have columns of type datetime. Sometimes you need to add multiple elements of typical period types such as days, months, years, etc.\n",
    "\n",
    "It is interesting to note that different DBMS have different schemes for this. I will describe some of them here."
   ]
  },
  {
   "cell_type": "markdown",
   "id": "a22ea06d-6a75-4eb7-8c85-7ae8a1d7d5a9",
   "metadata": {},
   "source": [
    "## Postgres (INTERVAL)\n",
    "\n",
    "To perfrom such operation in postgres use syntax `<date> INTERVAL '<number>' <date unit>`."
   ]
  },
  {
   "cell_type": "markdown",
   "id": "88fe3b50-55c8-4ebc-9654-568862553c87",
   "metadata": {},
   "source": [
    "The following cell creates a container with a database and a table with a DATE column in it."
   ]
  },
  {
   "cell_type": "code",
   "execution_count": 4,
   "id": "9dcf09d3-4b5a-46e2-922f-f1d6399a61e1",
   "metadata": {},
   "outputs": [
    {
     "name": "stdout",
     "output_type": "stream",
     "text": [
      "CREATE TABLE\n",
      "INSERT 0 3\n",
      "    var1    \n",
      "------------\n",
      " 2022-12-20\n",
      " 2021-10-15\n",
      " 2018-06-15\n",
      "(3 rows)\n",
      "\n"
     ]
    }
   ],
   "source": [
    "%%bash\n",
    "docker run --rm -d\\\n",
    "    -e POSTGRES_PASSWORD=postgres \\\n",
    "    --name interval_example \\\n",
    "    postgres:15.4 &> /dev/null\n",
    "sleep 5\n",
    "docker exec -i interval_example psql -U postgres -d postgres\n",
    "\n",
    "CREATE TABLE tab(\n",
    "    var1 DATE\n",
    ");\n",
    "INSERT INTO tab (var1) VALUES\n",
    "('2022-12-20'),\n",
    "('2021-10-15'),\n",
    "('2018-06-15');\n",
    "\n",
    "SELECT * FROM tab;"
   ]
  },
  {
   "cell_type": "markdown",
   "id": "1e8b4e01-8214-45a1-b9c1-f4ae62b54376",
   "metadata": {},
   "source": [
    "Here is a query that shows the original column and the column with the added interval."
   ]
  },
  {
   "cell_type": "code",
   "execution_count": 27,
   "id": "9364fe75-e183-4938-8629-d965dcf9ab62",
   "metadata": {},
   "outputs": [
    {
     "name": "stdout",
     "output_type": "stream",
     "text": [
      "    var1    |     add_monthes     \n",
      "------------+---------------------\n",
      " 2022-12-20 | 2023-10-20 00:00:00\n",
      " 2021-10-15 | 2022-08-15 00:00:00\n",
      " 2018-06-15 | 2019-04-15 00:00:00\n",
      "(3 rows)\n",
      "\n"
     ]
    }
   ],
   "source": [
    "%%bash\n",
    "docker exec -i interval_example psql -U postgres -d postgres\n",
    "SELECT var1, (var1  + INTERVAL '10' MONTH) add_monthes FROM tab;"
   ]
  },
  {
   "cell_type": "markdown",
   "id": "062b0c04-5da1-48de-9424-42f757af87a0",
   "metadata": {},
   "source": [
    "**Don't forget** to stop the container when you have finished playing with the examples."
   ]
  },
  {
   "cell_type": "code",
   "execution_count": null,
   "id": "4b47b8d6-cab9-45d5-9457-5441cd51bd77",
   "metadata": {},
   "outputs": [],
   "source": [
    "%%bash\n",
    "docker stop interval_example"
   ]
  },
  {
   "cell_type": "markdown",
   "id": "4bd31ec8-2330-4ab3-b027-43b51ecf1879",
   "metadata": {},
   "source": [
    "## SQLite (DATE)\n",
    "\n",
    "To perform such an operation in SQLite, use the syntax `DATE(<date>, \"+N <unit>\")`."
   ]
  },
  {
   "cell_type": "markdown",
   "id": "e38aed0a-303b-48cd-a837-0cb7f9ac3598",
   "metadata": {},
   "source": [
    "In the following cell, a litesql database is created with a table containing datetime columns."
   ]
  },
  {
   "cell_type": "code",
   "execution_count": 25,
   "id": "dc0de0b7-c406-4f80-8cd3-132ad0a4dd1c",
   "metadata": {},
   "outputs": [],
   "source": [
    "%%bash\n",
    "sqlite3 add_period_files/dump.sql\n",
    "\n",
    "CREATE TABLE IF NOT EXISTS tab (\n",
    "    var1 DATE\n",
    ");\n",
    "DELETE FROM tab;\n",
    "INSERT INTO tab (var1) VALUES\n",
    "('2022-12-20'),\n",
    "('2021-10-15'),\n",
    "('2018-06-15');"
   ]
  },
  {
   "cell_type": "markdown",
   "id": "47b5a822-3896-4081-a562-b194117c3d7e",
   "metadata": {},
   "source": [
    "Here is an example of using the `DATE` function to add some units to the date column."
   ]
  },
  {
   "cell_type": "code",
   "execution_count": 26,
   "id": "78b51fc0-5768-465e-a00c-8b349542d975",
   "metadata": {},
   "outputs": [
    {
     "name": "stdout",
     "output_type": "stream",
     "text": [
      "2022-12-20|2023-10-20\n",
      "2021-10-15|2022-08-15\n",
      "2018-06-15|2019-04-15\n"
     ]
    }
   ],
   "source": [
    "%%bash\n",
    "sqlite3 add_period_files/dump.sql\n",
    "\n",
    "SELECT var1, DATE(var1, \"+10 month\")  FROM tab;"
   ]
  }
 ],
 "metadata": {
  "kernelspec": {
   "display_name": "Python 3 (ipykernel)",
   "language": "python",
   "name": "python3"
  },
  "language_info": {
   "codemirror_mode": {
    "name": "ipython",
    "version": 3
   },
   "file_extension": ".py",
   "mimetype": "text/x-python",
   "name": "python",
   "nbconvert_exporter": "python",
   "pygments_lexer": "ipython3",
   "version": "3.10.12"
  }
 },
 "nbformat": 4,
 "nbformat_minor": 5
}
