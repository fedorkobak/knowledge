{
 "cells": [
  {
   "cell_type": "markdown",
   "metadata": {},
   "source": [
    "# Data types\n",
    "\n",
    "This page covers the specifics of SQL related to data types."
   ]
  },
  {
   "cell_type": "markdown",
   "metadata": {},
   "source": [
    "## Date and time\n",
    "\n",
    "There are several data types that allow you to describe and operate with date and time.\n",
    "\n",
    "The following table represents datatypes that allows to operate with date and time in **PostgreSQL**.\n",
    "\n",
    "| Data Type                     | Description                                                               | Example                          |\n",
    "|-------------------------------|---------------------------------------------------------------------------|----------------------------------|\n",
    "| `DATE`                      | Stores the date (year, month, day) without time.                       | `'2024-07-03'`                  |\n",
    "| `TIME`                      | Stores the time of day (hours, minutes, seconds) without time zone.    | `'14:30:57.902629'`             |\n",
    "| `TIME WITH TIME ZONE (TIMETZ)` | Stores the time of day including the time zone.                        | `'14:30:57.902629+02:00'`       |\n",
    "| `TIMESTAMP`                 | Stores both date and time without time zone.                            | `'2024-07-03 14:30:57.902629'`  |\n",
    "| `TIMESTAMP WITH TIME ZONE (TIMESTAMPTZ)` | Stores both date and time including the time zone.        | `'2024-07-03 14:30:57.902629+02:00'` |\n",
    "| `INTERVAL`                  | Represents a time span or duration (days, hours, minutes, seconds).    | `'1 day 2 hours 3 minutes'`     |\n",
    "\n",
    "\n",
    "And the same for **clickhouse**.\n",
    "\n",
    "| Data Type         | Description                                               | Example                |\n",
    "|-------------------|-----------------------------------------------------------|------------------------|\n",
    "| `Date`            | Represents a date without time (YYYY-MM-DD format).      | `2024-09-27`           |\n",
    "| `DateTime`        | Represents a date and time (YYYY-MM-DD HH:MM:SS format). | `2024-09-27 14:30:00`  |\n",
    "| `DateTime64`      | Represents a date and time with fractional seconds.      | `2024-09-27 14:30:00.123456` |\n",
    "| `DateTime32`      | Similar to `DateTime`, but limited to 32-bit precision.  | `2024-09-27 14:30:00`  |\n",
    "| `DateTime('timezone')` | `DateTime` with a specified timezone.              | `2024-09-27 14:30:00` (UTC) |\n",
    "| `Time`            | Represents time (HH:MM:SS format) without date.         | `14:30:00`             |\n",
    "| `Interval`        | Represents a time interval (e.g., days, hours).         | `INTERVAL 1 DAY`       |\n",
    "\n",
    "Findout more in the [special page](datatypes/datetime.ipynb).\n"
   ]
  },
  {
   "cell_type": "markdown",
   "metadata": {},
   "source": [
    "## Json\n",
    "\n",
    "PostgreSQL has special types for storing JSON structures: `JSON` and `JSONB`. Of course, you can store JSON structures as `TEXT` in the database, but using these special types provides validation of JSON syntax and allows for JSON-specific operations directly within PostgreSQL.\n",
    "\n",
    "Find out more on this topic on specific page in [postgreSQL documentation](https://www.postgresql.org/docs/current/datatype-json.html)."
   ]
  },
  {
   "cell_type": "markdown",
   "metadata": {},
   "source": [
    "---\n",
    "\n",
    "Consider a table with one column defined as `JSONB`. The following cell demonstrates the creation and population of such a table."
   ]
  },
  {
   "cell_type": "code",
   "execution_count": 1,
   "metadata": {},
   "outputs": [
    {
     "name": "stdout",
     "output_type": "stream",
     "text": [
      "NOTICE: table \"json_example\" does not exist, skipping\n",
      "DROP TABLE\n",
      "CREATE TABLE\n",
      "INSERT 0 7\n"
     ]
    }
   ],
   "source": [
    "--postgreSQL\n",
    "DROP TABLE IF EXISTS json_example;\n",
    "CREATE TABLE json_example(\n",
    "    json_col JSONB\n",
    ");\n",
    "\n",
    "INSERT INTO json_example (json_col)\n",
    "VALUES\n",
    "    ('{\"A\": 0, \"B\": 0}'),\n",
    "    ('{\"A\": 100}'),\n",
    "    ('{\"B\": -50}'),\n",
    "    ('{\"A\": {\"B\": 3}}'),\n",
    "    ('{\"B\": -30}'),\n",
    "    ('{\"B\": 100}'),\n",
    "    ('{\"B\" : 90, \"A\": -50}')"
   ]
  },
  {
   "cell_type": "markdown",
   "metadata": {},
   "source": [
    "Now, to show the advantage over storing as text, let's get the values of field A from all JSONs."
   ]
  },
  {
   "cell_type": "code",
   "execution_count": 3,
   "metadata": {},
   "outputs": [
    {
     "name": "stdout",
     "output_type": "stream",
     "text": [
      "SELECT 7"
     ]
    },
    {
     "data": {
      "text/html": [
       "<table>\n",
       "<thead>\n",
       "<tr><th>json_col           </th><th>a_field  </th></tr>\n",
       "</thead>\n",
       "<tbody>\n",
       "<tr><td>{&#x27;A&#x27;: 0, &#x27;B&#x27;: 0}   </td><td>0        </td></tr>\n",
       "<tr><td>{&#x27;A&#x27;: 100}         </td><td>100      </td></tr>\n",
       "<tr><td>{&#x27;B&#x27;: -50}         </td><td>         </td></tr>\n",
       "<tr><td>{&#x27;A&#x27;: {&#x27;B&#x27;: 3}}    </td><td>{&#x27;B&#x27;: 3} </td></tr>\n",
       "<tr><td>{&#x27;B&#x27;: -30}         </td><td>         </td></tr>\n",
       "<tr><td>{&#x27;B&#x27;: 100}         </td><td>         </td></tr>\n",
       "<tr><td>{&#x27;A&#x27;: -50, &#x27;B&#x27;: 90}</td><td>-50      </td></tr>\n",
       "</tbody>\n",
       "</table>"
      ],
      "text/latex": [
       "\\begin{tabular}{ll}\n",
       "\\toprule\n",
       " json\\_col            & a\\_field   \\\\\n",
       "\\midrule\n",
       " \\{'A': 0, 'B': 0\\}    & 0         \\\\\n",
       " \\{'A': 100\\}          & 100       \\\\\n",
       " \\{'B': -50\\}          &           \\\\\n",
       " \\{'A': \\{'B': 3\\}\\}     & \\{'B': 3\\}  \\\\\n",
       " \\{'B': -30\\}          &           \\\\\n",
       " \\{'B': 100\\}          &           \\\\\n",
       " \\{'A': -50, 'B': 90\\} & -50       \\\\\n",
       "\\bottomrule\n",
       "\\end{tabular}"
      ],
      "text/plain": [
       "json_col             a_field\n",
       "-------------------  ---------\n",
       "{'A': 0, 'B': 0}     0\n",
       "{'A': 100}           100\n",
       "{'B': -50}\n",
       "{'A': {'B': 3}}      {'B': 3}\n",
       "{'B': -30}\n",
       "{'B': 100}\n",
       "{'A': -50, 'B': 90}  -50"
      ]
     },
     "metadata": {},
     "output_type": "display_data"
    }
   ],
   "source": [
    "--postgreSQL\n",
    "SELECT json_col, json_col->'A' A_field FROM json_example;"
   ]
  }
 ],
 "metadata": {
  "kernelspec": {
   "display_name": "UniversalSQL",
   "language": "sql",
   "name": "universal_sql"
  },
  "language_info": {
   "file_extentions": ".sql",
   "mimetype": "text/plain",
   "name": "sql"
  }
 },
 "nbformat": 4,
 "nbformat_minor": 2
}
