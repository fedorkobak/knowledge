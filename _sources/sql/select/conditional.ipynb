{
 "cells": [
  {
   "cell_type": "markdown",
   "id": "8ec7c036-f0a9-46fc-acd4-de20b0d4baed",
   "metadata": {},
   "source": [
    "# Conditional (CASE)\n",
    "\n",
    "Source - <a href=\"https://www.commandprompt.com/education/postgresql-conditional-select-with-examples/\">commandprompt.com</a>.\n",
    "\n",
    "\n",
    "Conditional SELECT allows you to define which values you get for certain cases in data values. In general, you can use something like this inside a `SELECT` block:\n",
    "\n",
    "```sql\n",
    "CASE\n",
    "WHEN <condition 1> THEN <result 1>\n",
    "WHEN <condition 2> THEN <result 2>\n",
    "…\n",
    "WHEN <condition n> THEN <result n>\n",
    "ELSE <else result>\n",
    "END\n",
    "```\n",
    "\n",
    "**Note** `ELSE` block is optional."
   ]
  },
  {
   "cell_type": "code",
   "execution_count": 1,
   "id": "38d444d0-504e-477a-8d97-f9cbd3058113",
   "metadata": {},
   "outputs": [
    {
     "name": "stdout",
     "output_type": "stream",
     "text": [
      "CREATE TABLE\n",
      "INSERT 0 4\n",
      "SELECT 4\n"
     ]
    },
    {
     "data": {
      "text/html": [
       "<table>\n",
       "<thead>\n",
       "<tr><th style=\"text-align: right;\">  var1</th><th style=\"text-align: right;\">  var2</th><th>var3  </th></tr>\n",
       "</thead>\n",
       "<tbody>\n",
       "<tr><td style=\"text-align: right;\">     1</td><td style=\"text-align: right;\">     2</td><td>foo   </td></tr>\n",
       "<tr><td style=\"text-align: right;\">     4</td><td style=\"text-align: right;\">     5</td><td>bar   </td></tr>\n",
       "<tr><td style=\"text-align: right;\">     2</td><td style=\"text-align: right;\">     3</td><td>bar   </td></tr>\n",
       "<tr><td style=\"text-align: right;\">     4</td><td style=\"text-align: right;\">     3</td><td>foo   </td></tr>\n",
       "</tbody>\n",
       "</table>"
      ],
      "text/latex": [
       "\\begin{tabular}{rrl}\n",
       "\\toprule\n",
       "   var1 &   var2 & var3   \\\\\n",
       "\\midrule\n",
       "      1 &      2 & foo    \\\\\n",
       "      4 &      5 & bar    \\\\\n",
       "      2 &      3 & bar    \\\\\n",
       "      4 &      3 & foo    \\\\\n",
       "\\bottomrule\n",
       "\\end{tabular}"
      ],
      "text/plain": [
       "  var1    var2  var3\n",
       "------  ------  ------\n",
       "     1       2  foo\n",
       "     4       5  bar\n",
       "     2       3  bar\n",
       "     4       3  foo"
      ]
     },
     "metadata": {},
     "output_type": "display_data"
    }
   ],
   "source": [
    "--postgreSQL\n",
    "CREATE TABLE tab (\n",
    "    var1 INT,\n",
    "    var2 INT,\n",
    "    var3 TEXT\n",
    ");\n",
    "\n",
    "INSERT INTO tab (var1, var2, var3) VALUES\n",
    "(1, 2, 'foo'),\n",
    "(4, 5, 'bar'),\n",
    "(2, 3, 'bar'),\n",
    "(4, 3, 'foo');\n",
    "\n",
    "SELECT * FROM tab;"
   ]
  },
  {
   "cell_type": "markdown",
   "id": "e7d3c4ab-e7ee-45ef-83b9-9e90e5501ec3",
   "metadata": {},
   "source": [
    "## Basic example\n",
    "\n",
    "In my opinion, the most popular cases for this operation are the categorisation of numerical variables and the replacement of categorical variables. So in the following cell such operations are performed."
   ]
  },
  {
   "cell_type": "code",
   "execution_count": 2,
   "id": "2865985b-682c-4ea0-812a-70d66ed468f7",
   "metadata": {},
   "outputs": [
    {
     "name": "stdout",
     "output_type": "stream",
     "text": [
      "SELECT 4\n"
     ]
    },
    {
     "data": {
      "text/html": [
       "<table>\n",
       "<thead>\n",
       "<tr><th>num_to_cat  </th><th>replace  </th></tr>\n",
       "</thead>\n",
       "<tbody>\n",
       "<tr><td>&lt;=5         </td><td>new foo  </td></tr>\n",
       "<tr><td>&gt;5          </td><td>new bar  </td></tr>\n",
       "<tr><td>&lt;=5         </td><td>new bar  </td></tr>\n",
       "<tr><td>&gt;5          </td><td>new foo  </td></tr>\n",
       "</tbody>\n",
       "</table>"
      ],
      "text/latex": [
       "\\begin{tabular}{ll}\n",
       "\\toprule\n",
       " num\\_to\\_cat   & replace   \\\\\n",
       "\\midrule\n",
       " \\ensuremath{<}=5          & new foo   \\\\\n",
       " \\ensuremath{>}5           & new bar   \\\\\n",
       " \\ensuremath{<}=5          & new bar   \\\\\n",
       " \\ensuremath{>}5           & new foo   \\\\\n",
       "\\bottomrule\n",
       "\\end{tabular}"
      ],
      "text/plain": [
       "num_to_cat    replace\n",
       "------------  ---------\n",
       "<=5           new foo\n",
       ">5            new bar\n",
       "<=5           new bar\n",
       ">5            new foo"
      ]
     },
     "metadata": {},
     "output_type": "display_data"
    }
   ],
   "source": [
    "--postgreSQL\n",
    "SELECT\n",
    "    CASE\n",
    "        WHEN var1+var2 > 5 THEN '>5'\n",
    "        ELSE '<=5'\n",
    "    END num_to_cat,\n",
    "    CASE\n",
    "        WHEN var3='foo' THEN 'new foo'\n",
    "        WHEN var3='bar' THEN 'new bar'\n",
    "    END replace\n",
    "FROM tab;"
   ]
  },
  {
   "cell_type": "markdown",
   "id": "3356ffdb-1579-4294-bfe1-21647346b358",
   "metadata": {},
   "source": [
    "## Nested\n",
    "\n",
    "You can use the `CASE` value as the result of an external `CASE` statement. So here is an example of how it can be used:"
   ]
  },
  {
   "cell_type": "code",
   "execution_count": 3,
   "id": "9668e228-61d8-4fb7-8397-ec6da5cf5a9c",
   "metadata": {},
   "outputs": [
    {
     "name": "stdout",
     "output_type": "stream",
     "text": [
      "SELECT 4\n"
     ]
    },
    {
     "data": {
      "text/html": [
       "<table>\n",
       "<thead>\n",
       "<tr><th>num_to_cat  </th></tr>\n",
       "</thead>\n",
       "<tbody>\n",
       "<tr><td>&lt;=5         </td></tr>\n",
       "<tr><td>bar         </td></tr>\n",
       "<tr><td>&lt;=5         </td></tr>\n",
       "<tr><td>&gt;5 and foo  </td></tr>\n",
       "</tbody>\n",
       "</table>"
      ],
      "text/latex": [
       "\\begin{tabular}{l}\n",
       "\\toprule\n",
       " num\\_to\\_cat   \\\\\n",
       "\\midrule\n",
       " \\ensuremath{<}=5          \\\\\n",
       " bar          \\\\\n",
       " \\ensuremath{<}=5          \\\\\n",
       " \\ensuremath{>}5 and foo   \\\\\n",
       "\\bottomrule\n",
       "\\end{tabular}"
      ],
      "text/plain": [
       "num_to_cat\n",
       "------------\n",
       "<=5\n",
       "bar\n",
       "<=5\n",
       ">5 and foo"
      ]
     },
     "metadata": {},
     "output_type": "display_data"
    }
   ],
   "source": [
    "--postgreSQL\n",
    "SELECT\n",
    "    CASE\n",
    "        WHEN var1+var2 > 5 THEN\n",
    "            CASE\n",
    "                WHEN var3='foo' THEN '>5 and foo'\n",
    "                ELSE 'bar'\n",
    "            END\n",
    "        ELSE '<=5'\n",
    "    END num_to_cat\n",
    "FROM tab;"
   ]
  }
 ],
 "metadata": {
  "kernelspec": {
   "display_name": "UniversalSQL",
   "language": "sql",
   "name": "universal_sql"
  },
  "language_info": {
   "file_extentions": ".sql",
   "mimetype": "text/plain",
   "name": "sql"
  }
 },
 "nbformat": 4,
 "nbformat_minor": 5
}
