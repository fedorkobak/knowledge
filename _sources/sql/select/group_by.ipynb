{
 "cells": [
  {
   "cell_type": "markdown",
   "metadata": {},
   "source": [
    "# Group by\n",
    "\n",
    "Using the `GROUP BY` SQL statement allows you to select columns whose unique values will define the groups for aggregation functions."
   ]
  },
  {
   "cell_type": "markdown",
   "metadata": {},
   "source": [
    "---\n",
    "\n",
    "The following cell sets up a container with PostgreSQL that will be used for the example demonstrated on this page."
   ]
  },
  {
   "cell_type": "code",
   "execution_count": 9,
   "metadata": {
    "vscode": {
     "languageId": "shellscript"
    }
   },
   "outputs": [
    {
     "name": "stdout",
     "output_type": "stream",
     "text": [
      "CREATE TABLE\n",
      "INSERT 0 6\n",
      " col1 | col2 \n",
      "------+------\n",
      " A    |    5\n",
      " A    |    1\n",
      " B    |    2\n",
      " B    |    1\n",
      " C    |    3\n",
      " C    |    4\n",
      "(6 rows)\n",
      "\n"
     ]
    }
   ],
   "source": [
    "docker run --rm -d\\\n",
    "    -e POSTGRES_PASSWORD=postgres \\\n",
    "    --name groupby_examples \\\n",
    "    postgres:15.4 &> /dev/null\n",
    "sleep 5\n",
    "docker exec -i groupby_examples psql -U postgres << EOF\n",
    "CREATE TABLE aggregation_table(\n",
    "    col1 TEXT,\n",
    "    col2 INT\n",
    ");\n",
    "INSERT INTO aggregation_table(col1, col2) VALUES\n",
    "('A', 5),\n",
    "('A', 1),\n",
    "('B', 2),\n",
    "('B', 1),\n",
    "('C', 3),\n",
    "('C', 4);\n",
    "\n",
    "SELECT * FROM aggregation_table;\n",
    "EOF"
   ]
  },
  {
   "cell_type": "markdown",
   "metadata": {},
   "source": [
    "By using `GROUP BY`, we can explicitly state that we want to partition the table based on unique values of `col1` and then apply the sum function to the values of `col2` within each separate partition. "
   ]
  },
  {
   "cell_type": "code",
   "execution_count": 10,
   "metadata": {
    "vscode": {
     "languageId": "shellscript"
    }
   },
   "outputs": [
    {
     "name": "stdout",
     "output_type": "stream",
     "text": [
      " col1 | sum \n",
      "------+-----\n",
      " B    |   3\n",
      " C    |   7\n",
      " A    |   6\n",
      "(3 rows)\n",
      "\n"
     ]
    }
   ],
   "source": [
    "docker exec -i groupby_examples psql -U postgres << EOF\n",
    "\n",
    "SELECT col1, SUM(col2)\n",
    "FROM aggregation_table\n",
    "GROUP BY col1;\n",
    "\n",
    "EOF"
   ]
  },
  {
   "cell_type": "markdown",
   "metadata": {},
   "source": [
    "**Note** don't forget to stop the container."
   ]
  },
  {
   "cell_type": "code",
   "execution_count": 8,
   "metadata": {
    "vscode": {
     "languageId": "shellscript"
    }
   },
   "outputs": [
    {
     "name": "stdout",
     "output_type": "stream",
     "text": [
      "groupby_examples\n"
     ]
    }
   ],
   "source": [
    "docker stop groupby_examples"
   ]
  },
  {
   "cell_type": "markdown",
   "metadata": {},
   "source": [
    "## Conditions on aggregats (HAVING)\n",
    "\n",
    "For scenarios where you need to apply a filter on the aggregated results, SQL provides the special keyword `HAVING`.  For more details on using `HAVING`, please refer to the [specific page](group_by/conditions_on_aggregats.ipynb). "
   ]
  },
  {
   "cell_type": "code",
   "execution_count": 11,
   "metadata": {
    "vscode": {
     "languageId": "shellscript"
    }
   },
   "outputs": [
    {
     "name": "stdout",
     "output_type": "stream",
     "text": [
      " col1 | sum \n",
      "------+-----\n",
      " C    |   7\n",
      " A    |   6\n",
      "(2 rows)\n",
      "\n"
     ]
    }
   ],
   "source": [
    "docker exec -i groupby_examples psql -U postgres << EOF\n",
    "\n",
    "SELECT col1, SUM(col2)\n",
    "FROM aggregation_table\n",
    "GROUP BY col1\n",
    "HAVING SUM(col2) > 5;\n",
    "\n",
    "EOF"
   ]
  },
  {
   "cell_type": "markdown",
   "metadata": {},
   "source": [
    "## Conditions in aggregats (FILTER)\n",
    "\n",
    "By using `FILTER` keyword you can specify conditions to the row to be used in aggregation."
   ]
  },
  {
   "cell_type": "markdown",
   "metadata": {},
   "source": [
    "---\n",
    "\n",
    "Let's say you need to count the occurrences of specific values in `col2` within each group defined by `col1`. This can be accomplished using the query shown in the following cell. "
   ]
  },
  {
   "cell_type": "code",
   "execution_count": 13,
   "metadata": {
    "vscode": {
     "languageId": "shellscript"
    }
   },
   "outputs": [
    {
     "name": "stdout",
     "output_type": "stream",
     "text": [
      " col1 | col2=1 | col2=2 \n",
      "------+--------+--------\n",
      " B    |      1 |      1\n",
      " C    |      0 |      0\n",
      " A    |      1 |      0\n",
      "(3 rows)\n",
      "\n"
     ]
    }
   ],
   "source": [
    "docker exec -i groupby_examples psql -U postgres << EOF\n",
    "SELECT\n",
    "    col1,\n",
    "    COUNT(col2) FILTER (WHERE col2=1) \"col2=1\",\n",
    "    COUNT(col2) FILTER (WHERE col2=2) \"col2=2\"\n",
    "FROM aggregation_table\n",
    "GROUP BY col1;\n",
    "EOF"
   ]
  }
 ],
 "metadata": {
  "kernelspec": {
   "display_name": "Bash",
   "language": "bash",
   "name": "bash"
  },
  "language_info": {
   "codemirror_mode": "shell",
   "file_extension": ".sh",
   "mimetype": "text/x-sh",
   "name": "bash"
  }
 },
 "nbformat": 4,
 "nbformat_minor": 2
}
