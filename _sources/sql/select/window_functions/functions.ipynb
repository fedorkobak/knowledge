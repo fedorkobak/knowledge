{
 "cells": [
  {
   "cell_type": "markdown",
   "metadata": {},
   "source": [
    "# Functions\n",
    "\n",
    "This page specifically focuses on examining functions in SQL that are exclusively designed for use with window functions. "
   ]
  },
  {
   "cell_type": "markdown",
   "metadata": {},
   "source": [
    "---\n",
    "\n",
    "The following cell sets up a Docker container with SQL that we'll use as an example. "
   ]
  },
  {
   "cell_type": "code",
   "execution_count": 5,
   "metadata": {
    "vscode": {
     "languageId": "shellscript"
    }
   },
   "outputs": [],
   "source": [
    "docker run -d --rm\\\n",
    "    --name window_functions_pg\\\n",
    "    -e POSTGRES_PASSWORD=postgres\\\n",
    "    postgres:15.4 &> /dev/null\n",
    "sleep 5"
   ]
  },
  {
   "cell_type": "markdown",
   "metadata": {},
   "source": [
    "**Note** don't forget to stop container after all."
   ]
  },
  {
   "cell_type": "code",
   "execution_count": 6,
   "metadata": {
    "vscode": {
     "languageId": "shellscript"
    }
   },
   "outputs": [
    {
     "name": "stdout",
     "output_type": "stream",
     "text": [
      "window_functions_pg\n"
     ]
    }
   ],
   "source": [
    "docker stop window_functions_pg"
   ]
  },
  {
   "cell_type": "markdown",
   "metadata": {},
   "source": [
    "## Values shifting (LAG/LEAD)\n",
    "\n",
    "You can shift values over the window by using `LAG` functions for shifting down and `LEAD` funtions for shifting up. Find out more in the [specific page](functions/values_shifting_lag_lead.ipynb)."
   ]
  },
  {
   "cell_type": "markdown",
   "metadata": {},
   "source": [
    "---\n",
    "\n",
    "The following cell demonstrates the application of the `LAG` and `LEAD` functions to our example."
   ]
  },
  {
   "cell_type": "code",
   "execution_count": 3,
   "metadata": {
    "vscode": {
     "languageId": "shellscript"
    }
   },
   "outputs": [
    {
     "name": "stdout",
     "output_type": "stream",
     "text": [
      " group | lag_step_1 | lead_step_1 | lag_step3 | lag_step3 \n",
      "-------+------------+-------------+-----------+-----------\n",
      " C     |            | C           |           | B\n",
      " C     | C          | C           |           | A\n",
      " C     | C          | B           |           | D\n",
      " B     | C          | A           | C         | \n",
      " A     | B          | D           | C         | \n",
      " D     | A          |             | C         | \n",
      "(6 rows)\n",
      "\n"
     ]
    }
   ],
   "source": [
    "docker exec -i window_functions_pg psql -U postgres -d postgres << EOF\n",
    "SELECT \n",
    "    \"group\",\n",
    "    LAG(\"group\") OVER () lag_step_1,\n",
    "    LEAD(\"group\") OVER () lead_step_1,\n",
    "    LAG(\"group\", 3) OVER () lag_step3,\n",
    "    LEAD(\"group\", 3) OVER () lag_step3\n",
    "FROM (\n",
    "    VALUES\n",
    "    (3, 'C', 'X'),\n",
    "    (3, 'C', 'Y'),\n",
    "    (1, 'C', 'X'),\n",
    "    (4, 'B', 'Y'),\n",
    "    (3, 'A', 'X'),\n",
    "    (1, 'D', 'Y')\n",
    ") AS temp(some_value, \"group\", group2);\n",
    "EOF"
   ]
  },
  {
   "cell_type": "markdown",
   "metadata": {},
   "source": [
    "The result of applying `LAG` and `LEAD` produces new variables that can be represented as:\n",
    "\n",
    "- For `LAG`:  $x'_i = x_{i-s}$ \n",
    "- For `LEAD`: $x'_i=x_{i+s}$\n",
    "\n",
    "Where:\n",
    "\n",
    "-  $i$ position of the row during generaiton.\n",
    "-  $x_i$ is the original group value at the $i$-th position.\n",
    "-  $s$ is the step value specified as the second argument of the function. "
   ]
  },
  {
   "cell_type": "markdown",
   "metadata": {},
   "source": [
    "## First/last value\n",
    "\n",
    "The `FIRST_VALUE` and `LAST_VALUE` window functions retrieve the first and last values, respectively, within a partition of a result set."
   ]
  },
  {
   "cell_type": "markdown",
   "metadata": {},
   "source": [
    "---\n",
    "\n",
    "The followin cell shows using `FIRST_VALUE` for `group` and `LAST_VALUE` for `first_group2`."
   ]
  },
  {
   "cell_type": "code",
   "execution_count": 8,
   "metadata": {
    "vscode": {
     "languageId": "shellscript"
    }
   },
   "outputs": [
    {
     "name": "stdout",
     "output_type": "stream",
     "text": [
      " first_group | last_group2 \n",
      "-------------+-------------\n",
      " C           | Y\n",
      " C           | Y\n",
      " C           | Y\n",
      " C           | Y\n",
      " C           | Y\n",
      " C           | Y\n",
      "(6 rows)\n",
      "\n"
     ]
    }
   ],
   "source": [
    "docker exec -i window_functions_pg psql -U postgres -d postgres << EOF\n",
    "SELECT \n",
    "    FIRST_VALUE(\"group\") OVER () first_group,\n",
    "    LAST_VALUE(group2) OVER () last_group2\n",
    "FROM (\n",
    "    VALUES\n",
    "    (3, 'C', 'X'),\n",
    "    (3, 'C', 'Y'),\n",
    "    (1, 'C', 'X'),\n",
    "    (4, 'B', 'Y'),\n",
    "    (3, 'A', 'X'),\n",
    "    (1, 'D', 'Y')\n",
    ") AS temp(some_value, \"group\", group2);\n",
    "EOF"
   ]
  },
  {
   "cell_type": "markdown",
   "metadata": {
    "vscode": {
     "languageId": "shellscript"
    }
   },
   "source": [
    "The `FIRST_VALUE` for the `group` is `C` because it was the first value encountered during data generation. Similarly, the `LAST_VALUE` for the `group2` is `Y` because it was the last value encountered."
   ]
  },
  {
   "cell_type": "markdown",
   "metadata": {},
   "source": [
    "### Order by\n",
    "\n",
    "By using `ORDER BY` clause you can find value that corresponds to the biggest/lowest value of some other columns."
   ]
  },
  {
   "cell_type": "markdown",
   "metadata": {},
   "source": [
    "---\n",
    "\n",
    "This example demonstrates how to retrieve the first value of the `group` and the last value of the `group2`, both based on the `some_value` axis. "
   ]
  },
  {
   "cell_type": "code",
   "execution_count": 13,
   "metadata": {
    "vscode": {
     "languageId": "shellscript"
    }
   },
   "outputs": [
    {
     "name": "stdout",
     "output_type": "stream",
     "text": [
      " group_of_min_some_value | group_of_max_some_value \n",
      "-------------------------+-------------------------\n",
      " M                       | X\n",
      " M                       | X\n",
      " M                       | X\n",
      " M                       | Y\n",
      " M                       | Z\n",
      "(5 rows)\n",
      "\n"
     ]
    }
   ],
   "source": [
    "docker exec -i window_functions_pg psql -U postgres -d postgres << EOF\n",
    "SELECT \n",
    "    FIRST_VALUE(\"group\") OVER (ORDER BY some_value) group_of_min_some_value,\n",
    "    LAST_VALUE(group2) OVER (ORDER BY some_value) group_of_max_some_value\n",
    "FROM (\n",
    "    VALUES \n",
    "    (0, 'M', 'X'),\n",
    "    (3, 'G', 'Z'),\n",
    "    (10, 'C', 'Z'),\n",
    "    (4, 'B', 'Y'),\n",
    "    (3, 'A', 'X')\n",
    ")\n",
    "AS t (some_value, \"group\", group2);\n",
    "EOF"
   ]
  },
  {
   "cell_type": "markdown",
   "metadata": {},
   "source": [
    "In this scenario, `M` within the `group` corresponds to the lowest value on the `some_value` axis. Conversely, `Z` represents the highest value on the `some_value` axis within `group2`. "
   ]
  }
 ],
 "metadata": {
  "kernelspec": {
   "display_name": "Bash",
   "language": "bash",
   "name": "bash"
  },
  "language_info": {
   "codemirror_mode": "shell",
   "file_extension": ".sh",
   "mimetype": "text/x-sh",
   "name": "bash"
  }
 },
 "nbformat": 4,
 "nbformat_minor": 2
}
