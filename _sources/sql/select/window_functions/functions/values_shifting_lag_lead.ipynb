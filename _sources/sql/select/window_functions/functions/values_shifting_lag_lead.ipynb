{
 "cells": [
  {
   "cell_type": "markdown",
   "metadata": {},
   "source": [
    "# Values shifting (LAG/LEAD)\n",
    "\n",
    "This page focuses on functions that allow shifting arrays: `LAG` and `LEAD`.\n",
    "\n",
    "The result of applying `LAG` and `LEAD` can be represented as:\n",
    "\n",
    "- For `LAG`:  $x'_i = x_{i-s}$\n",
    "- For `LEAD`: $x'_i = x_{i+s}$\n",
    "\n",
    "Where $s$ is the number of cells we want to shift the values."
   ]
  },
  {
   "cell_type": "markdown",
   "metadata": {},
   "source": [
    "On this page, we dive into the options provided by different databases. In the following cell, both ClickHouse and Postgres are started."
   ]
  },
  {
   "cell_type": "code",
   "execution_count": 2,
   "metadata": {
    "vscode": {
     "languageId": "shellscript"
    }
   },
   "outputs": [],
   "source": [
    "docker run -d --rm\\\n",
    "    --name lag_lead_pg\\\n",
    "    -e POSTGRES_PASSWORD=postgres\\\n",
    "    postgres:15.4 &> /dev/null\n",
    "docker run --rm -d \\\n",
    "    --name lag_lead_click \\\n",
    "    clickhouse/clickhouse-server &> /dev/null\n",
    "sleep 5"
   ]
  },
  {
   "cell_type": "markdown",
   "metadata": {},
   "source": [
    "**Note**: Don't forget to stop the container afterward."
   ]
  },
  {
   "cell_type": "code",
   "execution_count": 1,
   "metadata": {
    "vscode": {
     "languageId": "shellscript"
    }
   },
   "outputs": [
    {
     "name": "stdout",
     "output_type": "stream",
     "text": [
      "lag_lead_pg\n",
      "lag_lead_click\n"
     ]
    }
   ],
   "source": [
    "docker stop lag_lead_pg lag_lead_click"
   ]
  },
  {
   "cell_type": "markdown",
   "metadata": {},
   "source": [
    "## Partition by\n",
    "\n",
    "If you include a `PARTITION BY` clause with the `LAG` window function, it will define groups of values within which the shifting operation will take place."
   ]
  },
  {
   "cell_type": "markdown",
   "metadata": {},
   "source": [
    "---\n",
    "\n",
    "This example demonstrates shifting the `group` values within groups defined by `group2`. "
   ]
  },
  {
   "cell_type": "code",
   "execution_count": null,
   "metadata": {
    "vscode": {
     "languageId": "shellscript"
    }
   },
   "outputs": [
    {
     "name": "stdout",
     "output_type": "stream",
     "text": [
      " group | group2 | lag \n",
      "-------+--------+-----\n",
      " C     | X      | \n",
      " C     | X      | C\n",
      " A     | X      | C\n",
      " C     | Y      | \n",
      " B     | Y      | C\n",
      " D     | Y      | B\n",
      "(6 rows)\n",
      "\n"
     ]
    }
   ],
   "source": [
    "docker exec -i window_functions_pg psql -U postgres -d postgres << EOF\n",
    "SELECT \n",
    "    \"group\", group2,\n",
    "    LAG(\"group\") OVER (PARTITION BY group2)\n",
    "FROM (\n",
    "    VALUES\n",
    "    (3, 'C', 'X'),\n",
    "    (3, 'C', 'Y'),\n",
    "    (1, 'C', 'X'),\n",
    "    (4, 'B', 'Y'),\n",
    "    (3, 'A', 'X'),\n",
    "    (1, 'D', 'Y')\n",
    ") AS temp(some_value, \"group\", group2);\n",
    "EOF"
   ]
  },
  {
   "cell_type": "markdown",
   "metadata": {},
   "source": [
    "## Clickhouse\n",
    "\n",
    "Clickhouse by default don't have `LEAD`/`LAG` functions, but you can reproduce the effect by using syntax:\n",
    "\n",
    "\n",
    "- `any(<column name>) OVER (ROWS BETWEEN <offset> PRECEDING AND <offset> PRECEDING)` for `LAG` function.\n",
    "- `any(<column name>) OVER (ROWS BETWEEN <offset> FOLLOWING AND <offset> FOLLOWING)` for `LEAD` function."
   ]
  },
  {
   "cell_type": "markdown",
   "metadata": {},
   "source": [
    "---\n",
    "\n",
    "Here is an example of a `LAG` shift with an offset of 1 and a `LEAD` shift with an offset of 2."
   ]
  },
  {
   "cell_type": "code",
   "execution_count": 16,
   "metadata": {
    "vscode": {
     "languageId": "shellscript"
    }
   },
   "outputs": [
    {
     "name": "stdout",
     "output_type": "stream",
     "text": [
      "    ┏━━━━━━━━━━━━━━━━━┳━━━━━━━━━━━┳━━━━━━━━━━━━┓\n",
      "    ┃ original_column ┃ lag_value ┃ lead_value ┃\n",
      "    ┡━━━━━━━━━━━━━━━━━╇━━━━━━━━━━━╇━━━━━━━━━━━━┩\n",
      " 1. │               4 │         0 │          3 │\n",
      "    ├─────────────────┼───────────┼────────────┤\n",
      " 2. │               3 │         4 │          1 │\n",
      "    ├─────────────────┼───────────┼────────────┤\n",
      " 3. │               3 │         3 │          3 │\n",
      "    ├─────────────────┼───────────┼────────────┤\n",
      " 4. │               1 │         3 │          3 │\n",
      "    ├─────────────────┼───────────┼────────────┤\n",
      " 5. │               3 │         1 │          3 │\n",
      "    ├─────────────────┼───────────┼────────────┤\n",
      " 6. │               3 │         3 │          5 │\n",
      "    ├─────────────────┼───────────┼────────────┤\n",
      " 7. │               3 │         3 │          5 │\n",
      "    ├─────────────────┼───────────┼────────────┤\n",
      " 8. │               5 │         3 │          1 │\n",
      "    ├─────────────────┼───────────┼────────────┤\n",
      " 9. │               5 │         5 │          0 │\n",
      "    ├─────────────────┼───────────┼────────────┤\n",
      "10. │               1 │         5 │          0 │\n",
      "    └─────────────────┴───────────┴────────────┘\n"
     ]
    }
   ],
   "source": [
    "docker exec lag_lead_click clickhouse-client -q \"\n",
    "CREATE TEMPORARY TABLE temp (original_column Int32) ENGINE = Memory;\n",
    "\n",
    "INSERT INTO temp VALUES\n",
    "    (4), (3), (3), (1), (3), (3), (3), (5), (5), (1);\n",
    "\n",
    "SELECT \n",
    "    original_column,\n",
    "    any(original_column) OVER (\n",
    "        ROWS BETWEEN 1 PRECEDING AND 1 PRECEDING\n",
    "    ) AS lag_value, \n",
    "    any(original_column) OVER (\n",
    "        ROWS BETWEEN 2 FOLLOWING AND 2 FOLLOWING\n",
    "    ) AS lead_value\n",
    "FROM temp\n",
    "FORMAT Pretty;\n",
    "\""
   ]
  },
  {
   "cell_type": "markdown",
   "metadata": {},
   "source": [
    "**Note**: Instead of empty values, records without previous or next values are replaced with zeros—this is quite typical for ClickHouse."
   ]
  }
 ],
 "metadata": {
  "kernelspec": {
   "display_name": "Bash",
   "language": "bash",
   "name": "bash"
  },
  "language_info": {
   "codemirror_mode": "shell",
   "file_extension": ".sh",
   "mimetype": "text/x-sh",
   "name": "bash"
  }
 },
 "nbformat": 4,
 "nbformat_minor": 2
}
