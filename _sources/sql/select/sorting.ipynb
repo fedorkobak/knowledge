{
 "cells": [
  {
   "cell_type": "markdown",
   "id": "39dc3ea6-b9ac-4a84-bca7-64fdc9483387",
   "metadata": {},
   "source": [
    "# Sorting (ORDER BY)\n",
    "\n",
    "This is key word that allow you to sort the results of the `SELECT`.\n",
    "\n",
    "In the next cell, I create everything I need for the examples in this page."
   ]
  },
  {
   "cell_type": "code",
   "execution_count": 1,
   "id": "c45ad500-bf93-4662-86df-d0c8c5d04248",
   "metadata": {},
   "outputs": [
    {
     "name": "stdout",
     "output_type": "stream",
     "text": [
      "CREATE TABLE\n",
      "INSERT 0 7\n"
     ]
    }
   ],
   "source": [
    "%%bash\n",
    "# creating a container and comming to psql command line\n",
    "docker run -d --rm\\\n",
    "    --name order_by_examples\\\n",
    "    -e POSTGRES_PASSWORD=docker_app\\\n",
    "    -v ./load_tables/CSV/iris_csv.csv:/iris_csv.csv\\\n",
    "    postgres:15.4 &> /dev/null\n",
    "sleep 5\n",
    "docker exec -i order_by_examples psql -U postgres -d postgres\n",
    "\n",
    "CREATE TABLE table_for_ordering(\n",
    "    int_value INT,\n",
    "    text_value TEXT\n",
    ");\n",
    "INSERT INTO table_for_ordering(int_value, text_value) VALUES\n",
    "(4, 'ab'),\n",
    "(1, 'bw'),\n",
    "(1, 'bc'),\n",
    "(3, 'ba'),\n",
    "(5, 'cg'),\n",
    "(2, 'cd'),\n",
    "(7, 'ba');"
   ]
  },
  {
   "cell_type": "markdown",
   "id": "bcebf57e-cbfb-428a-8c34-3eeeed755106",
   "metadata": {},
   "source": [
    "Here is the table used for the examples. As you can see, I've put some variables in there and not sorted them all in any systematic way."
   ]
  },
  {
   "cell_type": "code",
   "execution_count": 11,
   "id": "56b8deeb-9825-4dfa-8810-44273182ec43",
   "metadata": {},
   "outputs": [
    {
     "name": "stdout",
     "output_type": "stream",
     "text": [
      " int_value | text_value \n",
      "-----------+------------\n",
      "         4 | ab\n",
      "         1 | bw\n",
      "         1 | bc\n",
      "         3 | ba\n",
      "         5 | cg\n",
      "         2 | cd\n",
      "(6 rows)\n",
      "\n"
     ]
    }
   ],
   "source": [
    "%%bash\n",
    "docker exec -i order_by_examples psql -U postgres -d postgres\n",
    "SELECT * FROM table_for_ordering;"
   ]
  },
  {
   "cell_type": "markdown",
   "id": "02db2a82-ca4c-4521-9f34-b06f7add15ee",
   "metadata": {},
   "source": [
    "**Note** don't forget to stop the container when you finish playing with examples."
   ]
  },
  {
   "cell_type": "code",
   "execution_count": 9,
   "id": "73752e2a-10c8-404c-9665-f3c65013119e",
   "metadata": {},
   "outputs": [],
   "source": [
    "!docker stop order_by_examples &> /dev/null"
   ]
  },
  {
   "cell_type": "markdown",
   "id": "1646de85-f9cd-4425-8bf3-d23378c57e80",
   "metadata": {},
   "source": [
    "## Numeric variable\n",
    "\n",
    "Very simple - just sort records in ascending order for the selected variable."
   ]
  },
  {
   "cell_type": "code",
   "execution_count": 12,
   "id": "1444a750-2d63-4616-b0ab-37a0d6c03b3d",
   "metadata": {},
   "outputs": [
    {
     "name": "stdout",
     "output_type": "stream",
     "text": [
      " int_value | text_value \n",
      "-----------+------------\n",
      "         1 | bw\n",
      "         1 | bc\n",
      "         2 | cd\n",
      "         3 | ba\n",
      "         4 | ab\n",
      "         5 | cg\n",
      "(6 rows)\n",
      "\n"
     ]
    }
   ],
   "source": [
    "%%bash\n",
    "docker exec -i order_by_examples psql -U postgres -d postgres\n",
    "\n",
    "SELECT * FROM table_for_ordering ORDER BY int_value;"
   ]
  },
  {
   "cell_type": "markdown",
   "id": "56e2c640-5ab5-40fd-befe-e4c5af54275d",
   "metadata": {},
   "source": [
    "## Text varible\n",
    "\n",
    "It seems that sorting by text variables is done in the usual order according to the encoding table, аnd if the first *i* characters are the same, the decision will be made based on the *i+1th* character. The following example confirms it."
   ]
  },
  {
   "cell_type": "code",
   "execution_count": 13,
   "id": "21cc207f-64a0-424a-a48d-b97e54b82d44",
   "metadata": {},
   "outputs": [
    {
     "name": "stdout",
     "output_type": "stream",
     "text": [
      " int_value | text_value \n",
      "-----------+------------\n",
      "         4 | ab\n",
      "         3 | ba\n",
      "         1 | bc\n",
      "         1 | bw\n",
      "         2 | cd\n",
      "         5 | cg\n",
      "(6 rows)\n",
      "\n"
     ]
    }
   ],
   "source": [
    "%%bash\n",
    "docker exec -i order_by_examples psql -U postgres -d postgres\n",
    "\n",
    "SELECT * FROM table_for_ordering ORDER BY text_value;"
   ]
  },
  {
   "cell_type": "markdown",
   "id": "b7daae62-9a1a-4943-a5c5-7a74f2ef3d6f",
   "metadata": {},
   "source": [
    "## Descending\n",
    "\n",
    "Dy default `ORDER BY` sort values in ascending order, but by using key word `DESC` after column name in `ORDER BY` block you can make posgres use descending order.\n",
    "\n",
    "So in following example I apply this option for `int_value`."
   ]
  },
  {
   "cell_type": "code",
   "execution_count": 4,
   "id": "c6c82ef4-2232-459e-8ce3-2d9ccb724562",
   "metadata": {},
   "outputs": [
    {
     "name": "stdout",
     "output_type": "stream",
     "text": [
      " int_value | text_value \n",
      "-----------+------------\n",
      "         7 | ba\n",
      "         5 | cg\n",
      "         4 | ab\n",
      "         3 | ba\n",
      "         2 | cd\n",
      "         1 | bc\n",
      "         1 | bw\n",
      "(7 rows)\n",
      "\n"
     ]
    }
   ],
   "source": [
    "%%bash\n",
    "docker exec -i order_by_examples psql -U postgres -d postgres\n",
    "\n",
    "SELECT * FROM table_for_ordering ORDER BY int_value DESC;"
   ]
  },
  {
   "cell_type": "markdown",
   "id": "6a8fee1f-84d7-4f83-aec8-cf5cc21192de",
   "metadata": {},
   "source": [
    "## Order by several\n",
    "\n",
    "You can use multiple columns in the `ORDER BY` block. In this case the records will be sorted by the *ith* column, but if there are some options caused by equal values in the *ith* column, the *i+1th* column will be used to determine the final order.\n",
    "\n",
    "So in the following example:\n",
    "\n",
    "- The first query uses `int_value, text_value` in `ORDER BY`;\n",
    "    - It has `int_value = 1` twice, but the final order is determined by `'bc'<'dw'` in `text_value`;\n",
    "- Second query uses `text_value, int_value DESC` in `ORDER BY`.\n",
    "    - It has `text_value = 'ba'` twice, but I also mentioned sorting by `int_value` in descending order, so `7 | ba` is preferable to `3 | ba`."
   ]
  },
  {
   "cell_type": "code",
   "execution_count": 7,
   "id": "59f40db5-70a7-42b1-8cb7-40d81bee0436",
   "metadata": {},
   "outputs": [
    {
     "name": "stdout",
     "output_type": "stream",
     "text": [
      " int_value | text_value \n",
      "-----------+------------\n",
      "         1 | bc\n",
      "         1 | bw\n",
      "         2 | cd\n",
      "         3 | ba\n",
      "         4 | ab\n",
      "         5 | cg\n",
      "         7 | ba\n",
      "(7 rows)\n",
      "\n",
      " int_value | text_value \n",
      "-----------+------------\n",
      "         4 | ab\n",
      "         7 | ba\n",
      "         3 | ba\n",
      "         1 | bc\n",
      "         1 | bw\n",
      "         2 | cd\n",
      "         5 | cg\n",
      "(7 rows)\n",
      "\n"
     ]
    }
   ],
   "source": [
    "%%bash\n",
    "docker exec -i order_by_examples psql -U postgres -d postgres\n",
    "\n",
    "SELECT * FROM table_for_ordering ORDER BY int_value, text_value;\n",
    "SELECT * FROM table_for_ordering ORDER BY text_value, int_value DESC;"
   ]
  }
 ],
 "metadata": {
  "kernelspec": {
   "display_name": "Python 3 (ipykernel)",
   "language": "python",
   "name": "python3"
  },
  "language_info": {
   "codemirror_mode": {
    "name": "ipython",
    "version": 3
   },
   "file_extension": ".py",
   "mimetype": "text/x-python",
   "name": "python",
   "nbconvert_exporter": "python",
   "pygments_lexer": "ipython3",
   "version": "3.10.12"
  }
 },
 "nbformat": 4,
 "nbformat_minor": 5
}
