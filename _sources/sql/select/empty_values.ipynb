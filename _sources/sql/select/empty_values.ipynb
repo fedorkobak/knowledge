{
 "cells": [
  {
   "cell_type": "markdown",
   "id": "a94df266-cc99-42a9-aa1c-c908b9caa3b9",
   "metadata": {},
   "source": [
    "# Empty values\n",
    "\n",
    "This page focuses on handling empty values in SQL."
   ]
  },
  {
   "cell_type": "markdown",
   "id": "1d136439",
   "metadata": {},
   "source": [
    "## Replace in query\n",
    "\n",
    "It's a very common case when empty values have business sense, but in query results you need to replace them. So you can write `SELECT` to replace `NULL` in query results, this section is focused on it."
   ]
  },
  {
   "cell_type": "markdown",
   "id": "76624c6f-c9ed-4b8e-8c60-a4653dbae850",
   "metadata": {},
   "source": [
    "### COALESCE\n",
    "\n",
    "In PostgreSQL, there is the `COALESCE` function. Use the syntax `COALESCE(<column_name> | <value>, ...)`. This function will return the first value that is not `NULL`. You can use columns or just values as arguments—values will be broadcast to the column size.\n",
    "\n",
    "Check the [description of the `COALESCE`](https://www.postgresql.org/docs/current/functions-conditional.html#FUNCTIONS-COALESCE-NVL-IFNULL) function in the official PostgreSQL documentation."
   ]
  },
  {
   "cell_type": "markdown",
   "id": "448e31ce",
   "metadata": {},
   "source": [
    "---\n",
    "\n",
    "The following cell shows applying `COALENCE` to the columns `col1`, `col2` and `col3` that contains many empty values."
   ]
  },
  {
   "cell_type": "code",
   "execution_count": 2,
   "id": "b6571e9c-1684-44c6-a024-d492457cc481",
   "metadata": {},
   "outputs": [
    {
     "name": "stdout",
     "output_type": "stream",
     "text": [
      "SELECT 4\n"
     ]
    },
    {
     "data": {
      "text/html": [
       "<table>\n",
       "<thead>\n",
       "<tr><th>col1  </th><th>col2  </th><th>col3  </th><th>no_default  </th><th>no_default_is_null  </th><th>with_default  </th></tr>\n",
       "</thead>\n",
       "<tbody>\n",
       "<tr><td>      </td><td>a     </td><td>      </td><td>a           </td><td>False               </td><td>a             </td></tr>\n",
       "<tr><td>b     </td><td>      </td><td>      </td><td>b           </td><td>False               </td><td>b             </td></tr>\n",
       "<tr><td>      </td><td>      </td><td>c     </td><td>c           </td><td>False               </td><td>c             </td></tr>\n",
       "<tr><td>      </td><td>      </td><td>      </td><td>            </td><td>True                </td><td>default       </td></tr>\n",
       "</tbody>\n",
       "</table>"
      ],
      "text/latex": [
       "\\begin{tabular}{llllll}\n",
       "\\toprule\n",
       " col1   & col2   & col3   & no\\_default   & no\\_default\\_is\\_null   & with\\_default   \\\\\n",
       "\\midrule\n",
       "        & a      &        & a            & False                & a              \\\\\n",
       " b      &        &        & b            & False                & b              \\\\\n",
       "        &        & c      & c            & False                & c              \\\\\n",
       "        &        &        &              & True                 & default        \\\\\n",
       "\\bottomrule\n",
       "\\end{tabular}"
      ],
      "text/plain": [
       "col1    col2    col3    no_default    no_default_is_null    with_default\n",
       "------  ------  ------  ------------  --------------------  --------------\n",
       "        a               a             False                 a\n",
       "b                       b             False                 b\n",
       "                c       c             False                 c\n",
       "                                      True                  default"
      ]
     },
     "metadata": {},
     "output_type": "display_data"
    }
   ],
   "source": [
    "--postgreSQL\n",
    "SELECT\n",
    "    *,\n",
    "    COALESCE(col1, col2, col3) no_default,\n",
    "    COALESCE(col1, col2, col3) IS NULL no_default_is_null,\n",
    "    COALESCE(col1, col2, col3, 'default') with_default\n",
    "FROM (\n",
    "    VALUES\n",
    "    (NULL, 'a', NULL),\n",
    "    ('b', NULL, NULL),\n",
    "    (NULL, NULL, 'c'),\n",
    "    (NULL, NULL, NULL)\n",
    "\n",
    ") AS temp(col1, col2, col3);"
   ]
  },
  {
   "cell_type": "markdown",
   "id": "66585287",
   "metadata": {},
   "source": [
    "The same example in `sqlite`:"
   ]
  },
  {
   "cell_type": "code",
   "execution_count": 1,
   "id": "f4a45667",
   "metadata": {},
   "outputs": [
    {
     "data": {
      "text/html": [],
      "text/latex": [],
      "text/plain": []
     },
     "metadata": {},
     "output_type": "display_data"
    },
    {
     "data": {
      "text/html": [],
      "text/latex": [],
      "text/plain": []
     },
     "metadata": {},
     "output_type": "display_data"
    },
    {
     "data": {
      "text/html": [
       "<table>\n",
       "<thead>\n",
       "<tr><th>col1  </th><th>col2  </th><th>col3  </th><th>no_default  </th><th style=\"text-align: right;\">  no_default_is_null</th><th>with_default  </th></tr>\n",
       "</thead>\n",
       "<tbody>\n",
       "<tr><td>      </td><td>a     </td><td>      </td><td>a           </td><td style=\"text-align: right;\">                   0</td><td>a             </td></tr>\n",
       "<tr><td>b     </td><td>      </td><td>      </td><td>b           </td><td style=\"text-align: right;\">                   0</td><td>b             </td></tr>\n",
       "<tr><td>      </td><td>      </td><td>c     </td><td>c           </td><td style=\"text-align: right;\">                   0</td><td>c             </td></tr>\n",
       "<tr><td>      </td><td>      </td><td>      </td><td>            </td><td style=\"text-align: right;\">                   1</td><td>default       </td></tr>\n",
       "</tbody>\n",
       "</table>"
      ],
      "text/latex": [
       "\\begin{tabular}{llllrl}\n",
       "\\toprule\n",
       " col1   & col2   & col3   & no\\_default   &   no\\_default\\_is\\_null & with\\_default   \\\\\n",
       "\\midrule\n",
       "        & a      &        & a            &                    0 & a              \\\\\n",
       " b      &        &        & b            &                    0 & b              \\\\\n",
       "        &        & c      & c            &                    0 & c              \\\\\n",
       "        &        &        &              &                    1 & default        \\\\\n",
       "\\bottomrule\n",
       "\\end{tabular}"
      ],
      "text/plain": [
       "col1    col2    col3    no_default      no_default_is_null  with_default\n",
       "------  ------  ------  ------------  --------------------  --------------\n",
       "        a               a                                0  a\n",
       "b                       b                                0  b\n",
       "                c       c                                0  c\n",
       "                                                         1  default"
      ]
     },
     "metadata": {},
     "output_type": "display_data"
    }
   ],
   "source": [
    "--sqlite\n",
    "CREATE TABLE IF NOT EXISTS tab (\n",
    "    col1 TEXT, col2 TEXT, col3 TEXT\n",
    ");\n",
    "\n",
    "\n",
    "INSERT INTO tab (col1, col2, col3) VALUES\n",
    "(NULL, 'a', NULL),\n",
    "('b', NULL, NULL),\n",
    "(NULL, NULL, 'c'),\n",
    "(NULL, NULL, NULL);\n",
    "\n",
    "\n",
    "SELECT \n",
    "    *,\n",
    "    COALESCE(col1, col2, col3) no_default,\n",
    "    COALESCE(col1, col2, col3) IS NULL no_default_is_null,\n",
    "    COALESCE(col1, col2, col3, 'default') with_default\n",
    "FROM tab;"
   ]
  },
  {
   "cell_type": "markdown",
   "id": "d4237c8a-5d53-49c0-8e0c-d43b640dfddc",
   "metadata": {},
   "source": [
    "### IFNULL\n",
    "\n",
    "`IFNULL` is an alternative function that can be used to replace empty values in query statements. It returns the first non-null value passed to its arguments and is supported by SQLite."
   ]
  },
  {
   "cell_type": "markdown",
   "id": "716200a5-2b1f-4896-a1d1-94f26dc518cc",
   "metadata": {},
   "source": [
    "---\n",
    "\n",
    "The following shows some cases for `IFNULL` function."
   ]
  },
  {
   "cell_type": "code",
   "execution_count": 4,
   "id": "2415136a-7a5b-4499-98a8-d3dabbfa61cb",
   "metadata": {},
   "outputs": [
    {
     "data": {
      "text/html": [],
      "text/latex": [],
      "text/plain": []
     },
     "metadata": {},
     "output_type": "display_data"
    },
    {
     "data": {
      "text/html": [],
      "text/latex": [],
      "text/plain": []
     },
     "metadata": {},
     "output_type": "display_data"
    },
    {
     "data": {
      "text/html": [
       "<table>\n",
       "<thead>\n",
       "<tr><th>IFNULL(var1, var2)  </th></tr>\n",
       "</thead>\n",
       "<tbody>\n",
       "<tr><td>                    </td></tr>\n",
       "<tr><td>                    </td></tr>\n",
       "<tr><td>a                   </td></tr>\n",
       "<tr><td>b                   </td></tr>\n",
       "</tbody>\n",
       "</table>"
      ],
      "text/latex": [
       "\\begin{tabular}{l}\n",
       "\\toprule\n",
       " IFNULL(var1, var2)   \\\\\n",
       "\\midrule\n",
       "                      \\\\\n",
       "                      \\\\\n",
       " a                    \\\\\n",
       " b                    \\\\\n",
       "\\bottomrule\n",
       "\\end{tabular}"
      ],
      "text/plain": [
       "IFNULL(var1, var2)\n",
       "--------------------\n",
       "\n",
       "\n",
       "a\n",
       "b"
      ]
     },
     "metadata": {},
     "output_type": "display_data"
    }
   ],
   "source": [
    "--ClickHouse\n",
    "CREATE TABLE IF NOT EXISTS tab (\n",
    "    var1 TEXT,\n",
    "    var2 TEXT\n",
    ") ENGINE=MergeTree ORDER BY var1;\n",
    "\n",
    "\n",
    "INSERT INTO tab (var1, var2) VALUES\n",
    "('a', 'b'),\n",
    "(NULL, 'a'),\n",
    "('b', NULL),\n",
    "(NULL, NULL);\n",
    "\n",
    "\n",
    "SELECT IFNULL(var1, var2) FROM tab;"
   ]
  },
  {
   "cell_type": "markdown",
   "id": "c172621c",
   "metadata": {},
   "source": [
    "**Note:** The main difference from `COALESCE` is that `IFNULL` can operate with only two operands."
   ]
  },
  {
   "cell_type": "code",
   "execution_count": null,
   "id": "823b827f",
   "metadata": {},
   "outputs": [
    {
     "name": "stdout",
     "output_type": "stream",
     "text": [
      "Error: in prepare, wrong number of arguments to function IFNULL()\n",
      "  SELECT IFNULL(10, 20, 'hello');\n",
      "         ^--- error here\n"
     ]
    }
   ],
   "source": [
    "docker exec empty_value_sqlite sqlite3 -box -cmd \"SELECT IFNULL(10, 20, 'hello');\""
   ]
  },
  {
   "cell_type": "markdown",
   "id": "61086da7-1bc0-4e10-a384-62696159fd86",
   "metadata": {},
   "source": [
    "## Change base"
   ]
  },
  {
   "cell_type": "markdown",
   "id": "1c62d2aa-5d24-464f-b3a2-0d1d5abe83d2",
   "metadata": {},
   "source": [
    "Sometimes empty values in database appear as errors or business sense of data table can be selected. So you can face with case when you need to replace all values in the database, not only in the results of the specific query.\n",
    "\n",
    "For such purpose you can use syntax:\n",
    "\n",
    "```\n",
    "UPDATE <table_name>\n",
    "SET <column name> = <replace value>\n",
    "WHERE <column name> IS NULL;\n",
    "```"
   ]
  },
  {
   "cell_type": "markdown",
   "id": "345fdddf",
   "metadata": {},
   "source": [
    "---\n",
    "\n",
    "The following cell creates a table with some `NULL` values, then replaces them directly in the table and shows the results."
   ]
  },
  {
   "cell_type": "code",
   "execution_count": 5,
   "id": "8274f8d0-ac08-40a5-9704-094969b9bf17",
   "metadata": {},
   "outputs": [
    {
     "name": "stdout",
     "output_type": "stream",
     "text": [
      "NOTICE: table \"change_null_table\" does not exist, skipping\n",
      "DROP TABLE\n",
      "CREATE TABLE\n",
      "INSERT 0 2\n",
      "SELECT 2\n"
     ]
    },
    {
     "data": {
      "text/html": [
       "<table>\n",
       "<thead>\n",
       "<tr><th>col1  </th><th>col2  </th><th>col3  </th></tr>\n",
       "</thead>\n",
       "<tbody>\n",
       "<tr><td>val1  </td><td>      </td><td>val2  </td></tr>\n",
       "<tr><td>      </td><td>val2  </td><td>      </td></tr>\n",
       "</tbody>\n",
       "</table>"
      ],
      "text/latex": [
       "\\begin{tabular}{lll}\n",
       "\\toprule\n",
       " col1   & col2   & col3   \\\\\n",
       "\\midrule\n",
       " val1   &        & val2   \\\\\n",
       "        & val2   &        \\\\\n",
       "\\bottomrule\n",
       "\\end{tabular}"
      ],
      "text/plain": [
       "col1    col2    col3\n",
       "------  ------  ------\n",
       "val1            val2\n",
       "        val2"
      ]
     },
     "metadata": {},
     "output_type": "display_data"
    },
    {
     "name": "stdout",
     "output_type": "stream",
     "text": [
      "UPDATE 1\n",
      "SELECT 2\n"
     ]
    },
    {
     "data": {
      "text/html": [
       "<table>\n",
       "<thead>\n",
       "<tr><th>col1    </th><th>col2  </th><th>col3  </th></tr>\n",
       "</thead>\n",
       "<tbody>\n",
       "<tr><td>val1    </td><td>      </td><td>val2  </td></tr>\n",
       "<tr><td>replaced</td><td>val2  </td><td>      </td></tr>\n",
       "</tbody>\n",
       "</table>"
      ],
      "text/latex": [
       "\\begin{tabular}{lll}\n",
       "\\toprule\n",
       " col1     & col2   & col3   \\\\\n",
       "\\midrule\n",
       " val1     &        & val2   \\\\\n",
       " replaced & val2   &        \\\\\n",
       "\\bottomrule\n",
       "\\end{tabular}"
      ],
      "text/plain": [
       "col1      col2    col3\n",
       "--------  ------  ------\n",
       "val1              val2\n",
       "replaced  val2"
      ]
     },
     "metadata": {},
     "output_type": "display_data"
    }
   ],
   "source": [
    "--postgreSQL\n",
    "DROP TABLE IF EXISTS change_null_table;\n",
    "CREATE TABLE change_null_table(col1 TEXT, col2 TEXT, col3 TEXT);\n",
    "\n",
    "INSERT INTO change_null_table(col1, col2, col3)\n",
    "VALUES\n",
    "    ('val1', NULL, 'val2'),\n",
    "    (NULL, 'val2', NULL);\n",
    "\n",
    "\n",
    "SELECT * FROM change_null_table;\n",
    "\n",
    "UPDATE change_null_table\n",
    "SET col1 = 'replaced'\n",
    "WHERE col1 IS NULL;\n",
    "\n",
    "\n",
    "SELECT * FROM change_null_table;"
   ]
  }
 ],
 "metadata": {
  "kernelspec": {
   "display_name": "UniversalSQL",
   "language": "sql",
   "name": "universal_sql"
  },
  "language_info": {
   "file_extentions": ".sql",
   "mimetype": "text/plain",
   "name": "sql"
  }
 },
 "nbformat": 4,
 "nbformat_minor": 5
}
