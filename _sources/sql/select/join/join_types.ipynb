{
 "cells": [
  {
   "cell_type": "markdown",
   "metadata": {},
   "source": [
    "# Join types\n",
    "At this page we'll consider different join types and their features in clickhouse and postgres."
   ]
  },
  {
   "cell_type": "code",
   "execution_count": 11,
   "metadata": {
    "vscode": {
     "languageId": "shellscript"
    }
   },
   "outputs": [
    {
     "name": "stdout",
     "output_type": "stream",
     "text": [
      "4ac26d66b863b8203effa902c975e462493dab89ad5d3b1fd3527bad50508105\n"
     ]
    }
   ],
   "source": [
    "docker run -d --rm\\\n",
    "    --name jointypes_example_postgres\\\n",
    "    -e POSTGRES_PASSWORD=postgres\\\n",
    "    postgres:15.4 &> /dev/null\n",
    "docker run -d --rm\\\n",
    "    --name jointypes_example_click\\\n",
    "    clickhouse/clickhouse-server:24\n",
    "sleep 5"
   ]
  },
  {
   "cell_type": "markdown",
   "metadata": {},
   "source": [
    "**Note** don't forget to clean the environment after you try everything you wanted."
   ]
  },
  {
   "cell_type": "code",
   "execution_count": 10,
   "metadata": {
    "vscode": {
     "languageId": "shellscript"
    }
   },
   "outputs": [
    {
     "name": "stdout",
     "output_type": "stream",
     "text": [
      "jointypes_example_postgres\n",
      "jointypes_example_click\n"
     ]
    }
   ],
   "source": [
    "docker stop jointypes_example_postgres jointypes_example_click"
   ]
  },
  {
   "cell_type": "markdown",
   "metadata": {},
   "source": [
    "## Full join\n",
    "\n",
    "A `FULL JOIN` combines all rows from both tables being joined, including those without matching values in the specified join columns. If a row from either table does not have a corresponding match, the result will contain `NULL` values in the columns of the non-matching table."
   ]
  },
  {
   "cell_type": "markdown",
   "metadata": {},
   "source": [
    "---\n",
    "\n",
    "The following cell demonstrates the application of the `FULL JOIN` in postgres. "
   ]
  },
  {
   "cell_type": "code",
   "execution_count": 6,
   "metadata": {
    "vscode": {
     "languageId": "shellscript"
    }
   },
   "outputs": [
    {
     "name": "stdout",
     "output_type": "stream",
     "text": [
      " col1 | col1 \n",
      "------+------\n",
      "    1 |    1\n",
      "    2 |     \n",
      "    3 |    3\n",
      "    4 |     \n",
      "      |    8\n",
      "      |    9\n",
      "(6 rows)\n",
      "\n"
     ]
    }
   ],
   "source": [
    "docker exec -i jointypes_example_postgres psql -U postgres -d postgres << EOF\n",
    "\n",
    "WITH \n",
    "table1(col1) AS (VALUES (1), (2), (3), (4)),\n",
    "table2(col1) AS (VALUES (1), (3), (8), (9))\n",
    "\n",
    "SELECT *\n",
    "FROM \n",
    "    table1\n",
    "    FULL JOIN table2 ON table1.col1=table2.col1\n",
    ";\n",
    "EOF"
   ]
  },
  {
   "cell_type": "markdown",
   "metadata": {},
   "source": [
    "The following cell demonstrates the same example in ClickHouse; the result is nearly identical, with the only difference being that it uses zeros instead of NULLs for non-matching rows."
   ]
  },
  {
   "cell_type": "code",
   "execution_count": 9,
   "metadata": {
    "vscode": {
     "languageId": "shellscript"
    }
   },
   "outputs": [
    {
     "name": "stdout",
     "output_type": "stream",
     "text": [
      "   ┏━━━━━┳━━━━━━━━━━━━┓\n",
      "   ┃ val ┃ table2.val ┃\n",
      "   ┡━━━━━╇━━━━━━━━━━━━┩\n",
      "1. │   1 │          1 │\n",
      "   ├─────┼────────────┤\n",
      "2. │   2 │          0 │\n",
      "   ├─────┼────────────┤\n",
      "3. │   3 │          3 │\n",
      "   ├─────┼────────────┤\n",
      "4. │   4 │          0 │\n",
      "   └─────┴────────────┘\n",
      "   ┏━━━━━┳━━━━━━━━━━━━┓\n",
      "   ┃ val ┃ table2.val ┃\n",
      "   ┡━━━━━╇━━━━━━━━━━━━┩\n",
      "5. │   0 │          9 │\n",
      "   ├─────┼────────────┤\n",
      "6. │   0 │          8 │\n",
      "   └─────┴────────────┘\n"
     ]
    }
   ],
   "source": [
    "docker exec jointypes_example_click clickhouse-client -q \"\n",
    "CREATE TEMPORARY TABLE table1(val Int32) ENGINE = Memory;\n",
    "CREATE TEMPORARY TABLE table2(val Int32) ENGINE = Memory;\n",
    "\n",
    "INSERT INTO table1 VALUES\n",
    "    (1), (2), (3), (4);\n",
    "INSERT INTO table2 VALUES\n",
    "    (1), (3), (8), (9);\n",
    "\n",
    "SELECT table1.val, table2.val\n",
    "    FROM table1 \n",
    "    FULL JOIN table2 ON table1.val=table2.val\n",
    "FORMAT PRETTY;\n",
    "\""
   ]
  }
 ],
 "metadata": {
  "kernelspec": {
   "display_name": "Bash",
   "language": "bash",
   "name": "bash"
  },
  "language_info": {
   "codemirror_mode": "shell",
   "file_extension": ".sh",
   "mimetype": "text/x-sh",
   "name": "bash"
  }
 },
 "nbformat": 4,
 "nbformat_minor": 2
}
