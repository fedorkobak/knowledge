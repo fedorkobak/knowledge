{
 "cells": [
  {
   "cell_type": "markdown",
   "id": "70345b26-f7ab-4852-b799-22c432762675",
   "metadata": {},
   "source": [
    "# Check arguments\n",
    "\n",
    "Sometimes you need to understand which parameters have been passed to the function within the function under consideration. This page focuses on such a case."
   ]
  },
  {
   "cell_type": "code",
   "execution_count": 1,
   "id": "8004882f-2b6a-4670-8436-8f9f0a56f710",
   "metadata": {},
   "outputs": [],
   "source": [
    "import unittest\n",
    "from unittest.mock import patch"
   ]
  },
  {
   "cell_type": "markdown",
   "id": "7c3b4569-27ab-4946-a6cc-d6ccc1a5f8bb",
   "metadata": {},
   "source": [
    "## `assert_called_with`"
   ]
  },
  {
   "cell_type": "markdown",
   "id": "ce9a2862-fa96-4ecd-afb0-f9eac933392a",
   "metadata": {},
   "source": [
    "If you need to check which arguments were passed to the mocked function, you can use the `assert_called_with(<supposed arguments>)` method of the patch object.\n",
    "\n",
    "Lets test it on really basic python function `sum`. In the following cell we have just defined wrapper for it."
   ]
  },
  {
   "cell_type": "code",
   "execution_count": 2,
   "id": "64ae87d5-66af-4e6f-8433-1071961dc83a",
   "metadata": {},
   "outputs": [],
   "source": [
    "def sum_wrapper(numbers):\n",
    "    return sum(numbers)"
   ]
  },
  {
   "cell_type": "markdown",
   "id": "c89830aa-d23f-4cf6-af24-9f39620ec409",
   "metadata": {},
   "source": [
    "Tests will mock `sum` funtion. In both tests to `sum_wrapper` was passed `[1,2,3]` list. But in second case we use `[1,2,5]` in `assert_called_with`."
   ]
  },
  {
   "cell_type": "code",
   "execution_count": 3,
   "id": "94921285-1de8-4ca6-b32e-b8b4b0b146f7",
   "metadata": {},
   "outputs": [
    {
     "name": "stderr",
     "output_type": "stream",
     "text": [
      "test_fail (__main__.TestCalledWith) ... FAIL\n",
      "test_ok (__main__.TestCalledWith) ... ok\n",
      "\n",
      "======================================================================\n",
      "FAIL: test_fail (__main__.TestCalledWith)\n",
      "----------------------------------------------------------------------\n",
      "Traceback (most recent call last):\n",
      "  File \"/tmp/ipykernel_196007/486826917.py\", line 10, in test_fail\n",
      "    mocked_sum.assert_called_with([1,2,5])\n",
      "  File \"/usr/lib/python3.10/unittest/mock.py\", line 929, in assert_called_with\n",
      "    raise AssertionError(_error_message()) from cause\n",
      "AssertionError: expected call not found.\n",
      "Expected: sum([1, 2, 5])\n",
      "Actual: sum([1, 2, 3])\n",
      "\n",
      "----------------------------------------------------------------------\n",
      "Ran 2 tests in 0.011s\n",
      "\n",
      "FAILED (failures=1)\n"
     ]
    }
   ],
   "source": [
    "class TestCalledWith(unittest.TestCase):\n",
    "    def test_ok(self):\n",
    "        with patch(\"__main__.sum\") as mocked_sum:\n",
    "            sum_wrapper([1,2,3])\n",
    "            mocked_sum.assert_called_with([1,2,3])\n",
    "\n",
    "    def test_fail(self):\n",
    "        with patch(\"__main__.sum\") as mocked_sum:\n",
    "            sum_wrapper([1,2,3])\n",
    "            mocked_sum.assert_called_with([1,2,5])      \n",
    "\n",
    "ans = unittest.main(argv=[''], verbosity=2, exit=False)\n",
    "del TestCalledWith"
   ]
  },
  {
   "cell_type": "markdown",
   "id": "d9b8d159-7313-49ca-8775-f01f4d521379",
   "metadata": {},
   "source": [
    "So one test passed successfully because the supposed argument in `assert_called_with` matches the argument passed to `sum_wrapper`. But in the second case we got \"Fail\" because it doesn't."
   ]
  },
  {
   "cell_type": "markdown",
   "id": "746495ee-e227-48f2-866b-b60008fc3133",
   "metadata": {},
   "source": [
    "## Several calls"
   ]
  },
  {
   "cell_type": "markdown",
   "id": "055bf172-be6e-4792-846f-572e179c6b64",
   "metadata": {},
   "source": [
    "Consider the case where the mocked function is called many times by the unit under test. For this case you can use the `mock_calls` attribute of the `unittest.mock.MagicMock` object."
   ]
  },
  {
   "cell_type": "markdown",
   "id": "9c0ea62e-f09b-4aa8-97ec-40de3e2b898c",
   "metadata": {},
   "source": [
    "The following cell prints what `mock_calls` will contain if `sum` is called twice in `sum_wrapper`."
   ]
  },
  {
   "cell_type": "code",
   "execution_count": 4,
   "id": "0c71989e-d8ff-4adc-b779-22b3176dfe2d",
   "metadata": {},
   "outputs": [
    {
     "name": "stdout",
     "output_type": "stream",
     "text": [
      "[call([1, 2, 3, 3, 3]), call([1, 2, 3, 2, 2])]\n"
     ]
    }
   ],
   "source": [
    "def sum_wrapper(numbers):\n",
    "    sum(numbers + [3,3])\n",
    "    sum(numbers + [2,2])\n",
    "\n",
    "with patch(\"__main__.sum\") as mocked_sum:\n",
    "    sum_wrapper([1,2,3])\n",
    "    print(mocked_sum.mock_calls)"
   ]
  },
  {
   "cell_type": "markdown",
   "id": "34e9c59c-628e-4d49-b9fd-9bee36dc22d8",
   "metadata": {},
   "source": [
    "So we list which contains element for each call.\n",
    "\n",
    "So the full version of such a test should look like the following cell:"
   ]
  },
  {
   "cell_type": "code",
   "execution_count": 5,
   "id": "e715a246-57d9-40f7-840a-560edbc6a3f2",
   "metadata": {},
   "outputs": [
    {
     "name": "stderr",
     "output_type": "stream",
     "text": [
      "test_example (__main__.TestCalledWith) ... ok\n",
      "\n",
      "----------------------------------------------------------------------\n",
      "Ran 1 test in 0.002s\n",
      "\n",
      "OK\n"
     ]
    }
   ],
   "source": [
    "class TestCalledWith(unittest.TestCase):\n",
    "    def test_example(self):\n",
    "        with patch(\"__main__.sum\") as mocked_sum:\n",
    "            sum_wrapper([1,2,3])\n",
    "            self.assertEqual(\n",
    "                mocked_sum.mock_calls[0].args[0],\n",
    "                [1,2,3,3,3]\n",
    "            )\n",
    "            self.assertEqual(\n",
    "                mocked_sum.mock_calls[1].args[0],\n",
    "                [1,2,3,2,2]\n",
    "            )\n",
    "\n",
    "ans = unittest.main(argv=[''], verbosity=2, exit=False)\n",
    "del TestCalledWith"
   ]
  }
 ],
 "metadata": {
  "kernelspec": {
   "display_name": "Python 3 (ipykernel)",
   "language": "python",
   "name": "python3"
  },
  "language_info": {
   "codemirror_mode": {
    "name": "ipython",
    "version": 3
   },
   "file_extension": ".py",
   "mimetype": "text/x-python",
   "name": "python",
   "nbconvert_exporter": "python",
   "pygments_lexer": "ipython3",
   "version": "3.10.12"
  }
 },
 "nbformat": 4,
 "nbformat_minor": 5
}
