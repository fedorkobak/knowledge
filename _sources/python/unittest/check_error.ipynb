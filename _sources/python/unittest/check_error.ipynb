{
 "cells": [
  {
   "cell_type": "markdown",
   "id": "36eef5b5-0bcc-476b-b0fc-5d4deccdad76",
   "metadata": {},
   "source": [
    "# Check error (assertRaises)\n",
    "\n",
    "Sometimes programs are designed to throw exceptions in certain cases. So we need a way to test whether an exception has been thrown in that case. In this subsection I want to pay attention to such a case."
   ]
  },
  {
   "cell_type": "markdown",
   "id": "68c0388b-59e8-4eff-b565-a8cd3e457a7c",
   "metadata": {},
   "source": [
    "## Basics"
   ]
  },
  {
   "cell_type": "markdown",
   "id": "79d77f12-b6a8-4fe7-a17f-a49e5b9c0428",
   "metadata": {},
   "source": [
    "For example, we'll use a function that implements division for two numbers, but if the denominator is zero, we have to throw an exception. Such a function is implemented in the following cell:"
   ]
  },
  {
   "cell_type": "code",
   "execution_count": 1,
   "id": "a94cff81-da77-4563-ae3a-ec961fcd9a38",
   "metadata": {},
   "outputs": [],
   "source": [
    "def my_division(a,b):\n",
    "    if b == 0:\n",
    "        raise ValueError(\"Division by zero is detected!\")\n",
    "    return a/b"
   ]
  },
  {
   "cell_type": "markdown",
   "id": "20b00729-6d0a-4ab1-b5b0-b0f878298957",
   "metadata": {},
   "source": [
    "No, we can use `unittest.TestCase.assertRaises` to get the result we want. But note that it normally have specific syntax `assertRaises(<expected exception>, <funtion>, *<arguments for funtion that leads to the raise of the error>)`. So you don't need to call the function you are testing directly, but you do need to pass it and the test case documents to the `unittest.TestCase.assertRaises`. The example is below, the first test leads to `raise` in `my_division`, but the second does not, so you can be sure that if an error doesn't occurs you will know about it:"
   ]
  },
  {
   "cell_type": "code",
   "execution_count": 2,
   "id": "10d598cc-0dc0-4528-b53a-49c7acae2a3e",
   "metadata": {},
   "outputs": [
    {
     "name": "stderr",
     "output_type": "stream",
     "text": [
      "test_error (__main__.MyCase)\n",
      "Case where division by zero doesn't happen. ... FAIL\n",
      "test_sucessfull (__main__.MyCase)\n",
      "Case where division by zero occurs. ... ok\n",
      "\n",
      "======================================================================\n",
      "FAIL: test_error (__main__.MyCase)\n",
      "Case where division by zero doesn't happen.\n",
      "----------------------------------------------------------------------\n",
      "Traceback (most recent call last):\n",
      "  File \"/tmp/ipykernel_19354/169255605.py\", line 20, in test_error\n",
      "    self.assertRaises(\n",
      "AssertionError: ValueError not raised by my_division\n",
      "\n",
      "----------------------------------------------------------------------\n",
      "Ran 2 tests in 0.005s\n",
      "\n",
      "FAILED (failures=1)\n"
     ]
    }
   ],
   "source": [
    "import unittest\n",
    "\n",
    "class MyCase(unittest.TestCase):\n",
    "    def test_sucessfull(self):\n",
    "        '''\n",
    "        Case where division by zero occurs.\n",
    "        So testing for it will be successful.\n",
    "        '''\n",
    "        self.assertRaises(\n",
    "            ValueError,\n",
    "            my_division,\n",
    "            10, 0\n",
    "        )\n",
    "\n",
    "    def test_error(self):\n",
    "        '''\n",
    "        Case where division by zero doesn't happen.\n",
    "        So testing for it won't finish well.\n",
    "        '''\n",
    "        self.assertRaises(\n",
    "            ValueError,\n",
    "            my_division,\n",
    "            10,2\n",
    "        )\n",
    "\n",
    "ans = unittest.main(argv=[''], verbosity=2, exit=False)\n",
    "del MyCase"
   ]
  },
  {
   "cell_type": "markdown",
   "id": "003e1e61-20fd-4c63-9e5a-8c1b32013351",
   "metadata": {},
   "source": [
    "As a result we have that one test goes fine, but the second leads to the error."
   ]
  },
  {
   "cell_type": "markdown",
   "id": "908e2946-3c87-4b5c-a039-f583f38a516f",
   "metadata": {},
   "source": [
    "## Using context manager (with)\n",
    "\n",
    "Some programs don't really like to type function and it's arguments separately, so they use sytax `with self.assertRaises(<error type>)` and call function under consideration inside the `with` block. So here is the same option as in the \"Basic\" section, but we are using the context manager to create such a test:"
   ]
  },
  {
   "cell_type": "code",
   "execution_count": 3,
   "id": "9a2433e4-d141-4917-b162-7757294fdee6",
   "metadata": {},
   "outputs": [
    {
     "name": "stderr",
     "output_type": "stream",
     "text": [
      "test_case (__main__.MyCase) ... ok\n",
      "\n",
      "----------------------------------------------------------------------\n",
      "Ran 1 test in 0.001s\n",
      "\n",
      "OK\n"
     ]
    }
   ],
   "source": [
    "import unittest\n",
    "\n",
    "class MyCase(unittest.TestCase):\n",
    "    def test_case(self):\n",
    "        with self.assertRaises(ValueError):\n",
    "            my_division(10, 0)\n",
    "\n",
    "ans = unittest.main(argv=[''], verbosity=2, exit=False)\n",
    "del MyCase"
   ]
  },
  {
   "cell_type": "markdown",
   "id": "4a79a667-a52d-47b4-887c-b62251e3121a",
   "metadata": {},
   "source": [
    "And the execution of this test shows that we can achieve our goal using a specific syntax."
   ]
  }
 ],
 "metadata": {
  "kernelspec": {
   "display_name": "Python 3 (ipykernel)",
   "language": "python",
   "name": "python3"
  },
  "language_info": {
   "codemirror_mode": {
    "name": "ipython",
    "version": 3
   },
   "file_extension": ".py",
   "mimetype": "text/x-python",
   "name": "python",
   "nbconvert_exporter": "python",
   "pygments_lexer": "ipython3",
   "version": "3.10.12"
  }
 },
 "nbformat": 4,
 "nbformat_minor": 5
}
