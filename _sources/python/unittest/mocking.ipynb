{
 "cells": [
  {
   "cell_type": "markdown",
   "id": "ee758633-c244-42bd-b31a-3d2df9e60d32",
   "metadata": {},
   "source": [
    "# Mocking\n",
    "\n",
    "Sometimes our programmes depend on external circumstances, but during unit testing we shouldn't worry about whether they work. And only test our code. So there are ways to change the behaviour of functions called in the programs being tested, to make it convenient for us to do the testing."
   ]
  },
  {
   "cell_type": "markdown",
   "id": "eda48a9b-b8cd-43c6-a636-d47e6ea087cf",
   "metadata": {},
   "source": [
    "It's a bit of an advanced concept, so for better understanding the content of this page starts with the user case. This will help you understand why this slightly tricky option can be so useful."
   ]
  },
  {
   "cell_type": "markdown",
   "id": "f9c24c95-1254-4cbd-99e2-b0495100882b",
   "metadata": {},
   "source": [
    "## Mock function"
   ]
  },
  {
   "cell_type": "markdown",
   "id": "b9cf71b7-f6c9-45dd-8d92-d3eaa131bed9",
   "metadata": {},
   "source": [
    "Suppose you have service that answers some information about user. Just like the function in the next cell:"
   ]
  },
  {
   "cell_type": "code",
   "execution_count": 1,
   "id": "7bbbeeac-0158-44d7-b46d-c7f01ff6db79",
   "metadata": {},
   "outputs": [],
   "source": [
    "import requests\n",
    "\n",
    "def request_user(user_id):\n",
    "    response = requests.get(f\"https://im_not_exist/{user_id}\")\n",
    "    if response.ok:\n",
    "        return response.text\n",
    "    else:\n",
    "        return \"Fail!\""
   ]
  },
  {
   "cell_type": "markdown",
   "id": "71d33c2c-d141-4f67-afde-eb35cdee85f0",
   "metadata": {},
   "source": [
    "Now we have to test this code. But you don't need to rely on any particular service in your tests, and you know that the requesting function under consideration uses `requests.get` to access information about the user from the service. So the best option for you here is to mock the `requests.get` function. So for test you change it behaviour in benificial for you way.\n",
    "\n",
    "To do this, use the following syntax `unittest.mock.patch(\"<module under tests>.<name of the function to mock>\")` as an object for the context manager. You must specify a module to change the behaviour of the function for that module only.\n",
    "\n",
    "So such an option is implemented in the following cell. We've replaced the `request.get` function in the `request_user` module for test purposes. And check with which arguments it was called with and specify the properties of its output for particular case."
   ]
  },
  {
   "cell_type": "code",
   "execution_count": 9,
   "id": "c60c2561-4ef3-44ff-a5d0-0e51bcb6caf7",
   "metadata": {},
   "outputs": [
    {
     "name": "stderr",
     "output_type": "stream",
     "text": [
      "test_fail_case (__main__.TestUserReques)\n",
      "Fail case. Suppose we got bad response ... ok\n",
      "test_success_case (__main__.TestUserReques)\n",
      "Sucessfull case. Suppose we got nice ... ok\n",
      "\n",
      "----------------------------------------------------------------------\n",
      "Ran 2 tests in 0.002s\n",
      "\n",
      "OK\n"
     ]
    },
    {
     "name": "stdout",
     "output_type": "stream",
     "text": [
      "Fail!\n",
      "Success\n"
     ]
    }
   ],
   "source": [
    "import unittest\n",
    "from unittest.mock import patch\n",
    "\n",
    "class TestUserReques(unittest.TestCase):\n",
    "    \n",
    "    def test_success_case(self):\n",
    "        '''\n",
    "        Sucessfull case. Suppose we got nice\n",
    "        repsonse from requests.get in request_user function.\n",
    "        '''\n",
    "        with patch(\"__main__.requests.get\") as mocked_get:\n",
    "            # set that output of the request_user.requests.get\n",
    "            # will have properties `ok == True` `text==\"Success`\n",
    "            mocked_get.return_value.ok = True\n",
    "            mocked_get.return_value.text = \"Success\"\n",
    "            \n",
    "            response = request_user(\"Fedor\")\n",
    "            # request_user should have called `get` with specific url\n",
    "            mocked_get.assert_called_with(\"https://im_not_exist/Fedor\")\n",
    "            # and \"text\" property have to be just like we specified\n",
    "            self.assertEqual(response, \"Success\")\n",
    "\n",
    "    def test_fail_case(self):\n",
    "        '''\n",
    "        Fail case. Suppose we got bad response\n",
    "        from requests.get in the request_user function.\n",
    "        '''\n",
    "        with patch(\"__main__.requests.get\") as mocked_get:\n",
    "            # set that output of the request_user.requests.get\n",
    "            # will have properties `ok == False` `text==\"Success`\n",
    "            # actually we don't really care wich exactly value\n",
    "            # takes `return_value.text` - `return_value.ok==False`\n",
    "            # will make answer \"Fail!\" anyway\n",
    "            mocked_get.return_value.ok = False\n",
    "            mocked_get.return_value.text = \"Success\"\n",
    "            \n",
    "            response = request_user(\"Ekaterina\")\n",
    "            # request_user should have called `get` with specific url\n",
    "            mocked_get.assert_called_with(\"https://im_not_exist/Ekaterina\")\n",
    "            # but answer anyway have to be \"Fail!\" \n",
    "            self.assertEqual(response, \"Fail!\")\n",
    "\n",
    "ans = unittest.main(argv=[''], verbosity=2, exit=False)\n",
    "del TestUserReques"
   ]
  },
  {
   "cell_type": "markdown",
   "id": "3a50ef66-2b3e-4370-a74a-2007008420bc",
   "metadata": {},
   "source": [
    "## Mock class method"
   ]
  },
  {
   "cell_type": "markdown",
   "id": "4a8f7668-76d0-4d8b-939d-d95256634bf2",
   "metadata": {},
   "source": [
    "Due to the specifics of the tasks I face I often had to make classes that somehow turn around machine learning models. That is, there was a class that contained the model, it should prepare data to feed into the model and process its results.\n",
    "\n",
    "However, this pattern can occur in other variations. Here we will consider the peculiarities of working with it."
   ]
  },
  {
   "cell_type": "markdown",
   "id": "e37b373b-e9d0-4d38-9fc5-8eadcaee6ff1",
   "metadata": {},
   "source": [
    "### Known type"
   ]
  },
  {
   "cell_type": "markdown",
   "id": "f9304852-f3de-47aa-92e0-a5f4ead5f1fb",
   "metadata": {},
   "source": [
    "In the following cell, such a pattern has just been re-created schematically. And for this case it's important that I know type of the `ClassUnderConsider.obj`."
   ]
  },
  {
   "cell_type": "code",
   "execution_count": 3,
   "id": "e0fe7181-c112-4b88-b3dd-13c2639a0577",
   "metadata": {},
   "outputs": [],
   "source": [
    "from sklearn.neighbors import KNeighborsRegressor\n",
    "\n",
    "class ClassUnderConsider():\n",
    "    def __init__(self):\n",
    "        # model creating\n",
    "        # it isn't necessary to fit it somehow\n",
    "        # because we will change it's behaviour\n",
    "        # anyway\n",
    "        self.obj = KNeighborsRegressor()\n",
    "\n",
    "    \n",
    "    def explode_object(self):\n",
    "        # we will later change behavior of the `predict`\n",
    "        # method so there aren't any sence to care\n",
    "        # about arguments it taking\n",
    "        ans = self.obj.predict()\n",
    "        # just returning of `predict` outputs\n",
    "        # we will replace it outputs as well\n",
    "        return ans"
   ]
  },
  {
   "cell_type": "markdown",
   "id": "b9088bd5-ccff-44dc-81bd-ec4436365325",
   "metadata": {},
   "source": [
    "Now test for such a case. We need to make `obj.predict` behave as we need it to during the test run. So `obj` is an instance of the `sklearn.neighbours.KNeighborsRegressor` class, so we can mock it's `predict` method and everything will be fine.\n",
    "\n",
    "Exactly such a scheme is implemented in the following cell:"
   ]
  },
  {
   "cell_type": "code",
   "execution_count": 4,
   "id": "287eb197-f252-4ab9-8bad-b1950d7bf3a6",
   "metadata": {},
   "outputs": [
    {
     "name": "stderr",
     "output_type": "stream",
     "text": [
      "test_explode_object (__main__.ClassTester) ... ok\n",
      "\n",
      "----------------------------------------------------------------------\n",
      "Ran 1 test in 0.001s\n",
      "\n",
      "OK\n"
     ]
    },
    {
     "name": "stdout",
     "output_type": "stream",
     "text": [
      "Value from predict - Something predicted\n"
     ]
    }
   ],
   "source": [
    "import unittest\n",
    "from unittest.mock import patch\n",
    "\n",
    "class ClassTester(unittest.TestCase):\n",
    "    def test_explode_object(self):\n",
    "        testing_instance = ClassUnderConsider()\n",
    "        # mocking method under consideration\n",
    "        with patch(\"__main__.KNeighborsRegressor.predict\") as mocked_predict:\n",
    "\n",
    "            # now make it return what we are interested in\n",
    "            exp_ans = \"Something predicted\"\n",
    "            mocked_predict.return_value = exp_ans\n",
    "\n",
    "            # lets execute method that is udner testing\n",
    "            # and print what it return - it have to be our\n",
    "            # exp_ans\n",
    "            real_ans = testing_instance.explode_object()\n",
    "            print(\"Value from predict -\", real_ans)\n",
    "\n",
    "            # and finally chekc of the test\n",
    "            self.assertEqual(exp_ans, real_ans)\n",
    "\n",
    "ans = unittest.main(argv=[''], verbosity=2, exit=False)\n",
    "del ClassTester"
   ]
  },
  {
   "cell_type": "markdown",
   "id": "bf069bf7-f055-469c-b336-e24d7ea98475",
   "metadata": {},
   "source": [
    "\"Something predicted\" was printed that just how we mocked `KNeighborsRegressor.predict`."
   ]
  },
  {
   "cell_type": "markdown",
   "id": "a19718db-9a05-47a3-9cb2-61424a2a3f39",
   "metadata": {},
   "source": [
    "### Unknown type"
   ]
  },
  {
   "cell_type": "markdown",
   "id": "bc086483-a5c2-42eb-b339-dbc86dd55a14",
   "metadata": {},
   "source": [
    "It's also popular when different types of objects can be wrapped. So suppose object of the model passed as external object. Just like example below:"
   ]
  },
  {
   "cell_type": "code",
   "execution_count": 5,
   "id": "d08a3daa-7811-44f9-905a-87462b6c9c03",
   "metadata": {},
   "outputs": [],
   "source": [
    "class ClassUnderConsider():\n",
    "    def __init__(self, obj):\n",
    "        # so we got external object that\n",
    "        # with unknown type\n",
    "        self.obj = obj\n",
    "\n",
    "    \n",
    "    def explode_object(self):\n",
    "        ans = self.obj.predict()\n",
    "        return ans"
   ]
  },
  {
   "cell_type": "markdown",
   "id": "7ab94ccb-a36d-4e07-b13a-3a6313bdeb7f",
   "metadata": {},
   "source": [
    "**Intuitive but wrong**\n",
    "\n",
    "It's very tempting to make an attempt to change behaviour of the `ClassUnderConsider.obj.predict` but it won't work. In the following cell I'll show it."
   ]
  },
  {
   "cell_type": "code",
   "execution_count": 6,
   "id": "e1d22f12-a0fc-4f67-a603-add6ae129e1d",
   "metadata": {},
   "outputs": [
    {
     "name": "stderr",
     "output_type": "stream",
     "text": [
      "test_explode_object (__main__.ClassTester) ... ERROR\n",
      "\n",
      "======================================================================\n",
      "ERROR: test_explode_object (__main__.ClassTester)\n",
      "----------------------------------------------------------------------\n",
      "Traceback (most recent call last):\n",
      "  File \"/tmp/ipykernel_23027/691487794.py\", line 11, in test_explode_object\n",
      "    with patch(\"__main__.ClassUnderConsider.obj.predict\") as mocked_predict:\n",
      "  File \"/usr/lib/python3.10/unittest/mock.py\", line 1431, in __enter__\n",
      "    self.target = self.getter()\n",
      "  File \"/usr/lib/python3.10/unittest/mock.py\", line 1618, in <lambda>\n",
      "    getter = lambda: _importer(target)\n",
      "  File \"/usr/lib/python3.10/unittest/mock.py\", line 1261, in _importer\n",
      "    thing = _dot_lookup(thing, comp, import_path)\n",
      "  File \"/usr/lib/python3.10/unittest/mock.py\", line 1250, in _dot_lookup\n",
      "    __import__(import_path)\n",
      "ModuleNotFoundError: No module named '__main__.ClassUnderConsider'; '__main__' is not a package\n",
      "\n",
      "----------------------------------------------------------------------\n",
      "Ran 1 test in 0.001s\n",
      "\n",
      "FAILED (errors=1)\n"
     ]
    }
   ],
   "source": [
    "import unittest\n",
    "from unittest.mock import patch\n",
    "from sklearn.neighbors import KNeighborsRegressor\n",
    "\n",
    "class ClassTester(unittest.TestCase):\n",
    "    def test_explode_object(self):\n",
    "        testing_instance = ClassUnderConsider(KNeighborsRegressor())\n",
    "        # here in `patch` I'm trying to refer to the\n",
    "        # __main__.ClassUnderConsider.obj.predict\n",
    "        # but it won't work\n",
    "        with patch(\"__main__.ClassUnderConsider.obj.predict\") as mocked_predict:\n",
    "            exp_ans = \"Something predicted\"\n",
    "            mocked_predict.return_value = exp_ans\n",
    "\n",
    "            real_ans = testing_instance.explode_object()\n",
    "            print(\"Value from predict -\", real_ans)\n",
    "\n",
    "            self.assertEqual(exp_ans, real_ans)\n",
    "\n",
    "\n",
    "ans = unittest.main(argv=[''], verbosity=2, exit=False)\n",
    "del ClassTester"
   ]
  },
  {
   "cell_type": "markdown",
   "id": "24770f01-8115-4651-b337-7bcd74068964",
   "metadata": {},
   "source": [
    "So we got an error saying that it's not possible to use `\"__main__.ClassUnderConsider.obj.predict\"` inside the `patch` function."
   ]
  },
  {
   "cell_type": "markdown",
   "id": "1eee2780-18e5-4b93-a752-521f1474274b",
   "metadata": {},
   "source": [
    "**Possible solution**\n",
    "\n",
    "The best option found here is just create fake class that is just behave like expected in test to behave and don't use any features fo the `unittest`."
   ]
  },
  {
   "cell_type": "code",
   "execution_count": 7,
   "id": "48341a4b-10a0-4453-b252-1abf73c8957a",
   "metadata": {},
   "outputs": [
    {
     "name": "stderr",
     "output_type": "stream",
     "text": [
      "test_explode_object (__main__.ClassTester) ... ok\n",
      "\n",
      "----------------------------------------------------------------------\n",
      "Ran 1 test in 0.001s\n",
      "\n",
      "OK\n"
     ]
    },
    {
     "name": "stdout",
     "output_type": "stream",
     "text": [
      "Value from predict - Something predicted\n"
     ]
    }
   ],
   "source": [
    "import unittest\n",
    "from unittest.mock import patch\n",
    "from sklearn.neighbors import KNeighborsRegressor\n",
    "\n",
    "class ClassTester(unittest.TestCase):\n",
    "    def test_explode_object(self):\n",
    "        \n",
    "        exp_ans = \"Something predicted\"\n",
    "        # here is class that have all necessary for\n",
    "        # `ClassUnderConsider` methods, and I know\n",
    "        # how exactly it works\n",
    "        class ModelImitator():\n",
    "            # it's predict just return expected value\n",
    "            def predict(self): return exp_ans\n",
    "\n",
    "        testing_instance = ClassUnderConsider(ModelImitator())\n",
    "\n",
    "        real_ans = testing_instance.explode_object()\n",
    "        print(\"Value from predict -\", real_ans)\n",
    "        self.assertEqual(exp_ans, real_ans)\n",
    "\n",
    "ans = unittest.main(argv=[''], verbosity=2, exit=False)\n",
    "del ClassTester"
   ]
  },
  {
   "cell_type": "markdown",
   "id": "26722d40-5f84-42ed-804c-e42ba11839c6",
   "metadata": {},
   "source": [
    "Now it's outputs just like in case with known type of the object."
   ]
  },
  {
   "cell_type": "markdown",
   "id": "2139048c-6061-460a-a367-0146eb1add3a",
   "metadata": {},
   "source": [
    "## Raising errors\n",
    "\n",
    "If you have cases with handling errors in your program, to test such cases you may need a tool to raise these errors.\n",
    "\n",
    "One particular case is testing logging for `try/except' blocks.\n",
    "\n",
    "You can use mocking mechanisms in such cases - you can pass the error to `unittest.mock.MagicMock.side_effect` and it'll be raised when the mock is called."
   ]
  },
  {
   "cell_type": "markdown",
   "id": "765c3e43-6c03-4d8f-9c9f-78d539fef558",
   "metadata": {},
   "source": [
    "Here is example of the function that uses `request.get`. But, suppose, it can raise some errors and we need to handle them. The handling assumes that we will write the error information to the log. The log, for simplicity, is just a toy - just a list to which we can write something."
   ]
  },
  {
   "cell_type": "code",
   "execution_count": 25,
   "id": "b6d3be6d-15fd-4de6-b03e-e1039bfd54ba",
   "metadata": {},
   "outputs": [],
   "source": [
    "import requests\n",
    "def request_user(user_id, toy_log):\n",
    "    try:\n",
    "        response = requests.get(f\"https://im_not_exist/{user_id}\")\n",
    "        if response.ok:\n",
    "            return response.text\n",
    "    except ValueError:\n",
    "        toy_log.append(\"ValueError\")\n",
    "    except ZeroDivisionError:\n",
    "        toy_log.append(\"ZeroDivisionError\")\n",
    "    return \"Fail!\""
   ]
  },
  {
   "cell_type": "markdown",
   "id": "d783ba1e-49b7-4fb7-b88c-6394e244817a",
   "metadata": {},
   "source": [
    "The function handles `ValueError` and `ZeroDivisionError`. To check that all is well, we need to raise one of these within the `try` block."
   ]
  },
  {
   "cell_type": "markdown",
   "id": "ca3820fe-5e41-4fc4-b7ad-736caa99656e",
   "metadata": {},
   "source": [
    "The following cell shows the test case that will do the planned thing. It uses `mocked_get.side_effect = ValueError(\"\")` to raise `ValueError` so that the appropriate string should appear in `toy_log`."
   ]
  },
  {
   "cell_type": "code",
   "execution_count": 27,
   "id": "ce19cda7-2874-49e1-8e8c-fc3b3bd404b8",
   "metadata": {},
   "outputs": [
    {
     "name": "stderr",
     "output_type": "stream",
     "text": [
      "test_error_raised (__main__.TestUnit) ... ok\n",
      "\n",
      "----------------------------------------------------------------------\n",
      "Ran 1 test in 0.002s\n",
      "\n",
      "OK\n"
     ]
    }
   ],
   "source": [
    "import unittest\n",
    "from unittest.mock import patch\n",
    "\n",
    "class TestUnit(unittest.TestCase):\n",
    "    def test_error_raised(self):\n",
    "        toy_log = []\n",
    "        with patch(\"__main__.requests.get\") as mocked_get:\n",
    "            mocked_get.side_effect = ValueError(\"\")\n",
    "            output = request_user(10, toy_log)\n",
    "            # check if answer was \"Fail\"\n",
    "            self.assertEqual(output, \"Fail!\")\n",
    "            # check if \"ValueError\" was \n",
    "            # appened to the toy log\n",
    "            self.assertEqual(toy_log, [\"ValueError\"])\n",
    "\n",
    "ans = unittest.main(argv=[''], verbosity=2, exit=False)\n",
    "del TestUnit"
   ]
  }
 ],
 "metadata": {
  "kernelspec": {
   "display_name": "Python 3 (ipykernel)",
   "language": "python",
   "name": "python3"
  },
  "language_info": {
   "codemirror_mode": {
    "name": "ipython",
    "version": 3
   },
   "file_extension": ".py",
   "mimetype": "text/x-python",
   "name": "python",
   "nbconvert_exporter": "python",
   "pygments_lexer": "ipython3",
   "version": "3.10.12"
  }
 },
 "nbformat": 4,
 "nbformat_minor": 5
}
