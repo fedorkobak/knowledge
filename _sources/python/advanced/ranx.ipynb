{
 "cells": [
  {
   "cell_type": "markdown",
   "id": "ebe72666-fe1f-4223-89fb-5b360ee19132",
   "metadata": {},
   "source": [
    "# Ranx\n",
    "\n",
    "[Ranx](https://pypi.org/project/ranx/) is python library that implements tools for estimating performance of the recomendational systems."
   ]
  },
  {
   "cell_type": "code",
   "execution_count": 1,
   "id": "c9da5041-a230-482b-96eb-acce5b7d919d",
   "metadata": {},
   "outputs": [],
   "source": [
    "import pandas as pd\n",
    "from ranx import Qrels, Run, evaluate"
   ]
  },
  {
   "cell_type": "code",
   "execution_count": 38,
   "id": "f146de17-5a44-46fb-8eb3-d578bea6d5c9",
   "metadata": {},
   "outputs": [
    {
     "data": {
      "text/html": [
       "<div>\n",
       "<style scoped>\n",
       "    .dataframe tbody tr th:only-of-type {\n",
       "        vertical-align: middle;\n",
       "    }\n",
       "\n",
       "    .dataframe tbody tr th {\n",
       "        vertical-align: top;\n",
       "    }\n",
       "\n",
       "    .dataframe thead th {\n",
       "        text-align: right;\n",
       "    }\n",
       "</style>\n",
       "<table border=\"1\" class=\"dataframe\">\n",
       "  <thead>\n",
       "    <tr style=\"text-align: right;\">\n",
       "      <th></th>\n",
       "      <th>query</th>\n",
       "      <th>document</th>\n",
       "      <th>rank</th>\n",
       "      <th>model1</th>\n",
       "      <th>model2</th>\n",
       "    </tr>\n",
       "  </thead>\n",
       "  <tbody>\n",
       "    <tr>\n",
       "      <th>0</th>\n",
       "      <td>x</td>\n",
       "      <td>a</td>\n",
       "      <td>1</td>\n",
       "      <td>1.0</td>\n",
       "      <td>0.3</td>\n",
       "    </tr>\n",
       "    <tr>\n",
       "      <th>1</th>\n",
       "      <td>x</td>\n",
       "      <td>b</td>\n",
       "      <td>2</td>\n",
       "      <td>0.3</td>\n",
       "      <td>1.0</td>\n",
       "    </tr>\n",
       "    <tr>\n",
       "      <th>2</th>\n",
       "      <td>x</td>\n",
       "      <td>c</td>\n",
       "      <td>3</td>\n",
       "      <td>0.2</td>\n",
       "      <td>0.5</td>\n",
       "    </tr>\n",
       "    <tr>\n",
       "      <th>3</th>\n",
       "      <td>y</td>\n",
       "      <td>a</td>\n",
       "      <td>3</td>\n",
       "      <td>0.2</td>\n",
       "      <td>1.0</td>\n",
       "    </tr>\n",
       "    <tr>\n",
       "      <th>4</th>\n",
       "      <td>y</td>\n",
       "      <td>b</td>\n",
       "      <td>2</td>\n",
       "      <td>0.3</td>\n",
       "      <td>0.1</td>\n",
       "    </tr>\n",
       "    <tr>\n",
       "      <th>5</th>\n",
       "      <td>y</td>\n",
       "      <td>c</td>\n",
       "      <td>1</td>\n",
       "      <td>1.0</td>\n",
       "      <td>0.4</td>\n",
       "    </tr>\n",
       "  </tbody>\n",
       "</table>\n",
       "</div>"
      ],
      "text/plain": [
       "  query document  rank  model1  model2\n",
       "0     x        a     1     1.0     0.3\n",
       "1     x        b     2     0.3     1.0\n",
       "2     x        c     3     0.2     0.5\n",
       "3     y        a     3     0.2     1.0\n",
       "4     y        b     2     0.3     0.1\n",
       "5     y        c     1     1.0     0.4"
      ]
     },
     "metadata": {},
     "output_type": "display_data"
    }
   ],
   "source": [
    "toy_frame = pd.DataFrame({\n",
    "    \"query\" : [\"x\",\"x\",\"x\",\"y\",\"y\",\"y\"],\n",
    "    \"document\" : [\"a\",\"b\",\"c\",\"a\",\"b\",\"c\"],\n",
    "    \"rank\" : [1,2,3,3,2,1],\n",
    "    \"model1\" : pd.Series([1,0.3,0.2,0.2,0.3,1]).astype(\"float\"),\n",
    "    \"model2\" : pd.Series([0.3,1,0.5,1,0.1,0.4]).astype(\"float\")\n",
    "})\n",
    "display(toy_frame)"
   ]
  },
  {
   "cell_type": "code",
   "execution_count": 39,
   "id": "f4ff1364-6f40-426e-ba69-bfb17c10d7fa",
   "metadata": {},
   "outputs": [],
   "source": [
    "qrels = Qrels.from_df(\n",
    "    toy_frame,\n",
    "    q_id_col=\"query\",\n",
    "    doc_id_col=\"document\",\n",
    "    score_col=\"rank\"\n",
    ")"
   ]
  },
  {
   "cell_type": "code",
   "execution_count": 40,
   "id": "609fdd47-6f28-441f-9c91-e70789022b46",
   "metadata": {},
   "outputs": [],
   "source": [
    "run1 = Run.from_df(\n",
    "    toy_frame, \n",
    "    q_id_col=\"query\",\n",
    "    doc_id_col=\"document\",\n",
    "    score_col=\"model1\"\n",
    ")"
   ]
  },
  {
   "cell_type": "code",
   "execution_count": 41,
   "id": "b01d663c-d596-469c-9508-d22cfd7ce748",
   "metadata": {},
   "outputs": [],
   "source": [
    "run2 = Run.from_df(\n",
    "    toy_frame, \n",
    "    q_id_col=\"query\",\n",
    "    doc_id_col=\"document\",\n",
    "    score_col=\"model2\"\n",
    ")"
   ]
  },
  {
   "cell_type": "code",
   "execution_count": 42,
   "id": "e6450308-38f6-4274-a661-29de7d40e3d2",
   "metadata": {},
   "outputs": [
    {
     "data": {
      "text/plain": [
       "0.6666666666666666"
      ]
     },
     "execution_count": 42,
     "metadata": {},
     "output_type": "execute_result"
    }
   ],
   "source": [
    "evaluate(qrels, run1, \"recall@1\")"
   ]
  },
  {
   "cell_type": "code",
   "execution_count": 44,
   "id": "e90c017c-9a65-4888-8ec6-88c1e6a4fe7c",
   "metadata": {},
   "outputs": [
    {
     "data": {
      "text/plain": [
       "0.3333333333333333"
      ]
     },
     "execution_count": 44,
     "metadata": {},
     "output_type": "execute_result"
    }
   ],
   "source": [
    "evaluate(qrels, run2, \"recall@1\")"
   ]
  },
  {
   "cell_type": "code",
   "execution_count": 27,
   "id": "1043c501-04ba-45ab-968c-1666b70143bf",
   "metadata": {},
   "outputs": [
    {
     "data": {
      "text/plain": [
       "0.5"
      ]
     },
     "execution_count": 27,
     "metadata": {},
     "output_type": "execute_result"
    }
   ],
   "source": [
    "qrels_dict = { \"q_1\": { \"d_12\": 5, \"d_25\": 3 },\n",
    "               \"q_2\": { \"d_11\": 6, \"d_22\": 1 } }\n",
    "\n",
    "run_dict = { \"q_1\": { \"d_12\": 0.9, \"d_23\": 0.8, \"d_25\": 0.7,\n",
    "                      \"d_36\": 0.6, \"d_32\": 0.5, \"d_35\": 0.4  },\n",
    "             \"q_2\": { \"d_12\": 0.9, \"d_11\": 0.8, \"d_25\": 0.7,\n",
    "                      \"d_36\": 0.6, \"d_22\": 0.5, \"d_35\": 0.4  } }\n",
    "\n",
    "evaluate(\n",
    "    Qrels(qrels_dict), \n",
    "    Run(run_dict), \n",
    "    \"recall@2\"\n",
    ")"
   ]
  },
  {
   "cell_type": "code",
   "execution_count": 36,
   "id": "530153c9-ce9e-4da5-b765-53245ae918c9",
   "metadata": {},
   "outputs": [
    {
     "data": {
      "text/plain": [
       "0.4"
      ]
     },
     "execution_count": 36,
     "metadata": {},
     "output_type": "execute_result"
    }
   ],
   "source": [
    "qrels_dict = { \"q_1\": { \"d_12\": 5, \"d_25\": 3 },\n",
    "               \"q_2\": { \"d_11\": 6, \"d_22\": 1 } }\n",
    "\n",
    "run_dict = { \"q_1\": { \"d_12\": 0.9, \"d_23\": 0.8, \"d_25\": 0.7,\n",
    "                      \"d_36\": 0.6, \"d_32\": 0.5, \"d_35\": 0.4  },\n",
    "             \"q_2\": { \"d_12\": 0.9, \"d_11\": 0.8, \"d_25\": 0.7,\n",
    "                      \"d_36\": 0.6, \"d_22\": 0.5, \"d_35\": 0.5  } }\n",
    "\n",
    "evaluate(\n",
    "    Qrels(qrels_dict), \n",
    "    Run(run_dict), \n",
    "    \"precision@5\"\n",
    ")"
   ]
  }
 ],
 "metadata": {
  "kernelspec": {
   "display_name": "Python 3 (ipykernel)",
   "language": "python",
   "name": "python3"
  },
  "language_info": {
   "codemirror_mode": {
    "name": "ipython",
    "version": 3
   },
   "file_extension": ".py",
   "mimetype": "text/x-python",
   "name": "python",
   "nbconvert_exporter": "python",
   "pygments_lexer": "ipython3",
   "version": "3.10.12"
  }
 },
 "nbformat": 4,
 "nbformat_minor": 5
}
