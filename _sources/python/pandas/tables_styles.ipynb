{
 "cells": [
  {
   "cell_type": "markdown",
   "id": "ec9994b4-fff9-4ca3-afdb-5838e76c1eeb",
   "metadata": {},
   "source": [
    "# Tables styles"
   ]
  },
  {
   "cell_type": "markdown",
   "id": "4ff326c7-9fb3-40d1-92ca-a5aaa3eeac6d",
   "metadata": {},
   "source": [
    "It's useful to have ability to highlight some cells depending on their content. This page focuses on how to do this in pandas and how to display it in jupyter notebook. To get more examples check out [table visualisation on official pandas documentation](https://pandas.pydata.org/docs/user_guide/style.html#Table-Styles)."
   ]
  },
  {
   "cell_type": "code",
   "execution_count": 1,
   "id": "c28fa4b2-1630-47c4-b189-d7e0797e3b7f",
   "metadata": {},
   "outputs": [],
   "source": [
    "import numpy as np\n",
    "import pandas as pd"
   ]
  },
  {
   "cell_type": "markdown",
   "id": "5cc17197-d672-4545-8d68-f070ab4af51e",
   "metadata": {},
   "source": [
    "## `style.map`"
   ]
  },
  {
   "cell_type": "markdown",
   "id": "18055b90-e4a7-493b-a108-84fb4c264f92",
   "metadata": {},
   "source": [
    "It's quite common to highlight large values with one colour and small values with another. This can be achieved with `DataFrame.style.map`. You have to pass a callable that is executed for each cell - it takes it's value and returns a `str` that describes it's property.\n",
    "\n",
    "The following example shows how values higher than 0.5 are coloured red and others green."
   ]
  },
  {
   "cell_type": "code",
   "execution_count": 4,
   "id": "3651e08b-f59c-4e14-95f3-f60a2a2415ba",
   "metadata": {},
   "outputs": [
    {
     "data": {
      "text/html": [
       "<style type=\"text/css\">\n",
       "#T_b9f06_row0_col0, #T_b9f06_row2_col1, #T_b9f06_row3_col1, #T_b9f06_row4_col1, #T_b9f06_row6_col0, #T_b9f06_row6_col1, #T_b9f06_row7_col0, #T_b9f06_row8_col0, #T_b9f06_row8_col1, #T_b9f06_row9_col1 {\n",
       "  background-color: red;\n",
       "}\n",
       "#T_b9f06_row0_col1, #T_b9f06_row1_col0, #T_b9f06_row1_col1, #T_b9f06_row2_col0, #T_b9f06_row3_col0, #T_b9f06_row4_col0, #T_b9f06_row5_col0, #T_b9f06_row5_col1, #T_b9f06_row7_col1, #T_b9f06_row9_col0 {\n",
       "  background-color: green;\n",
       "}\n",
       "</style>\n",
       "<table id=\"T_b9f06\">\n",
       "  <thead>\n",
       "    <tr>\n",
       "      <th class=\"blank level0\" >&nbsp;</th>\n",
       "      <th id=\"T_b9f06_level0_col0\" class=\"col_heading level0 col0\" >a</th>\n",
       "      <th id=\"T_b9f06_level0_col1\" class=\"col_heading level0 col1\" >b</th>\n",
       "    </tr>\n",
       "  </thead>\n",
       "  <tbody>\n",
       "    <tr>\n",
       "      <th id=\"T_b9f06_level0_row0\" class=\"row_heading level0 row0\" >0</th>\n",
       "      <td id=\"T_b9f06_row0_col0\" class=\"data row0 col0\" >0.226920</td>\n",
       "      <td id=\"T_b9f06_row0_col1\" class=\"data row0 col1\" >0.928350</td>\n",
       "    </tr>\n",
       "    <tr>\n",
       "      <th id=\"T_b9f06_level0_row1\" class=\"row_heading level0 row1\" >1</th>\n",
       "      <td id=\"T_b9f06_row1_col0\" class=\"data row1 col0\" >0.616279</td>\n",
       "      <td id=\"T_b9f06_row1_col1\" class=\"data row1 col1\" >0.656896</td>\n",
       "    </tr>\n",
       "    <tr>\n",
       "      <th id=\"T_b9f06_level0_row2\" class=\"row_heading level0 row2\" >2</th>\n",
       "      <td id=\"T_b9f06_row2_col0\" class=\"data row2 col0\" >0.843329</td>\n",
       "      <td id=\"T_b9f06_row2_col1\" class=\"data row2 col1\" >0.346096</td>\n",
       "    </tr>\n",
       "    <tr>\n",
       "      <th id=\"T_b9f06_level0_row3\" class=\"row_heading level0 row3\" >3</th>\n",
       "      <td id=\"T_b9f06_row3_col0\" class=\"data row3 col0\" >0.742186</td>\n",
       "      <td id=\"T_b9f06_row3_col1\" class=\"data row3 col1\" >0.490360</td>\n",
       "    </tr>\n",
       "    <tr>\n",
       "      <th id=\"T_b9f06_level0_row4\" class=\"row_heading level0 row4\" >4</th>\n",
       "      <td id=\"T_b9f06_row4_col0\" class=\"data row4 col0\" >0.526169</td>\n",
       "      <td id=\"T_b9f06_row4_col1\" class=\"data row4 col1\" >0.478509</td>\n",
       "    </tr>\n",
       "    <tr>\n",
       "      <th id=\"T_b9f06_level0_row5\" class=\"row_heading level0 row5\" >5</th>\n",
       "      <td id=\"T_b9f06_row5_col0\" class=\"data row5 col0\" >0.850815</td>\n",
       "      <td id=\"T_b9f06_row5_col1\" class=\"data row5 col1\" >0.920514</td>\n",
       "    </tr>\n",
       "    <tr>\n",
       "      <th id=\"T_b9f06_level0_row6\" class=\"row_heading level0 row6\" >6</th>\n",
       "      <td id=\"T_b9f06_row6_col0\" class=\"data row6 col0\" >0.142186</td>\n",
       "      <td id=\"T_b9f06_row6_col1\" class=\"data row6 col1\" >0.083970</td>\n",
       "    </tr>\n",
       "    <tr>\n",
       "      <th id=\"T_b9f06_level0_row7\" class=\"row_heading level0 row7\" >7</th>\n",
       "      <td id=\"T_b9f06_row7_col0\" class=\"data row7 col0\" >0.223666</td>\n",
       "      <td id=\"T_b9f06_row7_col1\" class=\"data row7 col1\" >0.769463</td>\n",
       "    </tr>\n",
       "    <tr>\n",
       "      <th id=\"T_b9f06_level0_row8\" class=\"row_heading level0 row8\" >8</th>\n",
       "      <td id=\"T_b9f06_row8_col0\" class=\"data row8 col0\" >0.277761</td>\n",
       "      <td id=\"T_b9f06_row8_col1\" class=\"data row8 col1\" >0.451426</td>\n",
       "    </tr>\n",
       "    <tr>\n",
       "      <th id=\"T_b9f06_level0_row9\" class=\"row_heading level0 row9\" >9</th>\n",
       "      <td id=\"T_b9f06_row9_col0\" class=\"data row9 col0\" >0.782243</td>\n",
       "      <td id=\"T_b9f06_row9_col1\" class=\"data row9 col1\" >0.078029</td>\n",
       "    </tr>\n",
       "  </tbody>\n",
       "</table>\n"
      ],
      "text/plain": [
       "<pandas.io.formats.style.Styler at 0x7beabd8f3160>"
      ]
     },
     "execution_count": 4,
     "metadata": {},
     "output_type": "execute_result"
    }
   ],
   "source": [
    "sample_size = 10\n",
    "\n",
    "def color_map(val):\n",
    "    color = 'green' if val > 0.5 else 'red'\n",
    "    return f'background-color: {color}'\n",
    "\n",
    "pd.DataFrame({\n",
    "    \"a\" : np.random.rand(sample_size),\n",
    "    \"b\" : np.random.rand(sample_size)\n",
    "}).style.map(color_map)"
   ]
  }
 ],
 "metadata": {
  "kernelspec": {
   "display_name": "Python 3 (ipykernel)",
   "language": "python",
   "name": "python3"
  },
  "language_info": {
   "codemirror_mode": {
    "name": "ipython",
    "version": 3
   },
   "file_extension": ".py",
   "mimetype": "text/x-python",
   "name": "python",
   "nbconvert_exporter": "python",
   "pygments_lexer": "ipython3",
   "version": "3.10.12"
  }
 },
 "nbformat": 4,
 "nbformat_minor": 5
}
