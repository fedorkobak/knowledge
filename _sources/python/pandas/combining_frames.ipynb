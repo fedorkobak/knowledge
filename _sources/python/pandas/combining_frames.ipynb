{
 "cells": [
  {
   "cell_type": "markdown",
   "id": "9f0045e9-8254-49cd-8efe-4c99b9739779",
   "metadata": {},
   "source": [
    "# Combining frames\n",
    "\n",
    "Sometimes there are situations where it is useful to create a data frame that contains all possible combinations of input rows and their corresponding columns concatenated."
   ]
  },
  {
   "cell_type": "markdown",
   "id": "02044f5d-432a-49b4-bcc7-d1f40b7103e2",
   "metadata": {},
   "source": [
    "## Example"
   ]
  },
  {
   "cell_type": "markdown",
   "id": "a7d9e37d-0ef0-4e94-8232-6af2c4aacfca",
   "metadata": {},
   "source": [
    "Imagine you have a task that involves applying a statistical model to evaluate the performance of different games for each user in a game service. To accomplish this, you need to examine all possible combinations of users and games to determine the best game for each user. In the cell below, we have created example tables for both users and games to illustrate this scenario."
   ]
  },
  {
   "cell_type": "code",
   "execution_count": 21,
   "id": "521de6c2-8461-4296-a3f1-43058f1bbfd3",
   "metadata": {},
   "outputs": [
    {
     "data": {
      "text/html": [
       "<p style='font-size:15px'>Users</p>"
      ],
      "text/plain": [
       "<IPython.core.display.HTML object>"
      ]
     },
     "metadata": {},
     "output_type": "display_data"
    },
    {
     "data": {
      "text/html": [
       "<div>\n",
       "<style scoped>\n",
       "    .dataframe tbody tr th:only-of-type {\n",
       "        vertical-align: middle;\n",
       "    }\n",
       "\n",
       "    .dataframe tbody tr th {\n",
       "        vertical-align: top;\n",
       "    }\n",
       "\n",
       "    .dataframe thead th {\n",
       "        text-align: right;\n",
       "    }\n",
       "</style>\n",
       "<table border=\"1\" class=\"dataframe\">\n",
       "  <thead>\n",
       "    <tr style=\"text-align: right;\">\n",
       "      <th></th>\n",
       "      <th>user_name</th>\n",
       "      <th>sex</th>\n",
       "      <th>age</th>\n",
       "    </tr>\n",
       "  </thead>\n",
       "  <tbody>\n",
       "    <tr>\n",
       "      <th>0</th>\n",
       "      <td>Fedor</td>\n",
       "      <td>m</td>\n",
       "      <td>10</td>\n",
       "    </tr>\n",
       "    <tr>\n",
       "      <th>1</th>\n",
       "      <td>Sandra</td>\n",
       "      <td>w</td>\n",
       "      <td>23</td>\n",
       "    </tr>\n",
       "    <tr>\n",
       "      <th>2</th>\n",
       "      <td>Mark</td>\n",
       "      <td>m</td>\n",
       "      <td>7</td>\n",
       "    </tr>\n",
       "  </tbody>\n",
       "</table>\n",
       "</div>"
      ],
      "text/plain": [
       "  user_name sex  age\n",
       "0     Fedor   m   10\n",
       "1    Sandra   w   23\n",
       "2      Mark   m    7"
      ]
     },
     "metadata": {},
     "output_type": "display_data"
    },
    {
     "data": {
      "text/html": [
       "<p style='font-size:15px'>Games</p>"
      ],
      "text/plain": [
       "<IPython.core.display.HTML object>"
      ]
     },
     "metadata": {},
     "output_type": "display_data"
    },
    {
     "data": {
      "text/html": [
       "<div>\n",
       "<style scoped>\n",
       "    .dataframe tbody tr th:only-of-type {\n",
       "        vertical-align: middle;\n",
       "    }\n",
       "\n",
       "    .dataframe tbody tr th {\n",
       "        vertical-align: top;\n",
       "    }\n",
       "\n",
       "    .dataframe thead th {\n",
       "        text-align: right;\n",
       "    }\n",
       "</style>\n",
       "<table border=\"1\" class=\"dataframe\">\n",
       "  <thead>\n",
       "    <tr style=\"text-align: right;\">\n",
       "      <th></th>\n",
       "      <th>game_name</th>\n",
       "      <th>genre</th>\n",
       "    </tr>\n",
       "  </thead>\n",
       "  <tbody>\n",
       "    <tr>\n",
       "      <th>0</th>\n",
       "      <td>warcraft</td>\n",
       "      <td>rpg</td>\n",
       "    </tr>\n",
       "    <tr>\n",
       "      <th>1</th>\n",
       "      <td>conter-strike</td>\n",
       "      <td>shooter</td>\n",
       "    </tr>\n",
       "    <tr>\n",
       "      <th>2</th>\n",
       "      <td>valorant</td>\n",
       "      <td>shooter</td>\n",
       "    </tr>\n",
       "  </tbody>\n",
       "</table>\n",
       "</div>"
      ],
      "text/plain": [
       "       game_name    genre\n",
       "0       warcraft      rpg\n",
       "1  conter-strike  shooter\n",
       "2       valorant  shooter"
      ]
     },
     "metadata": {},
     "output_type": "display_data"
    }
   ],
   "source": [
    "import pandas as pd\n",
    "from IPython.display import HTML \n",
    "\n",
    "user = pd.DataFrame({\n",
    "    \"user_name\" : [\"Fedor\", \"Sandra\", \"Mark\"],\n",
    "    \"sex\" : [\"m\", \"w\", \"m\"],\n",
    "    \"age\" : [10, 23, 7]\n",
    "})\n",
    "game = pd.DataFrame({\n",
    "    \"game_name\" : [\"warcraft\", \"conter-strike\", \"valorant\"],\n",
    "    \"genre\" : [\"rpg\", \"shooter\", \"shooter\"]\n",
    "})\n",
    "\n",
    "display(HTML(\"<p style='font-size:15px'>Users</p>\"))\n",
    "display(user)\n",
    "display(HTML(\"<p style='font-size:15px'>Games</p>\"))\n",
    "display(game)"
   ]
  },
  {
   "cell_type": "markdown",
   "id": "61d8b9af-acba-4605-9558-671fc41987f1",
   "metadata": {},
   "source": [
    "## Solution\n",
    "\n",
    "You can just use `pandas.Merge` function for getting all possble combinations. But you have to specify column that should be used as a key for merge. You can just specify same key for all records of both tables and specify it on the `on` argument of the `pandas.Merge`. So the realisation is showen below."
   ]
  },
  {
   "cell_type": "code",
   "execution_count": 23,
   "id": "a3f722cd-5201-4a42-bd2e-7af65f4fc7d3",
   "metadata": {},
   "outputs": [
    {
     "data": {
      "text/html": [
       "<div>\n",
       "<style scoped>\n",
       "    .dataframe tbody tr th:only-of-type {\n",
       "        vertical-align: middle;\n",
       "    }\n",
       "\n",
       "    .dataframe tbody tr th {\n",
       "        vertical-align: top;\n",
       "    }\n",
       "\n",
       "    .dataframe thead th {\n",
       "        text-align: right;\n",
       "    }\n",
       "</style>\n",
       "<table border=\"1\" class=\"dataframe\">\n",
       "  <thead>\n",
       "    <tr style=\"text-align: right;\">\n",
       "      <th></th>\n",
       "      <th>user_name</th>\n",
       "      <th>sex</th>\n",
       "      <th>age</th>\n",
       "      <th>game_name</th>\n",
       "      <th>genre</th>\n",
       "    </tr>\n",
       "  </thead>\n",
       "  <tbody>\n",
       "    <tr>\n",
       "      <th>0</th>\n",
       "      <td>Fedor</td>\n",
       "      <td>m</td>\n",
       "      <td>10</td>\n",
       "      <td>warcraft</td>\n",
       "      <td>rpg</td>\n",
       "    </tr>\n",
       "    <tr>\n",
       "      <th>1</th>\n",
       "      <td>Fedor</td>\n",
       "      <td>m</td>\n",
       "      <td>10</td>\n",
       "      <td>conter-strike</td>\n",
       "      <td>shooter</td>\n",
       "    </tr>\n",
       "    <tr>\n",
       "      <th>2</th>\n",
       "      <td>Fedor</td>\n",
       "      <td>m</td>\n",
       "      <td>10</td>\n",
       "      <td>valorant</td>\n",
       "      <td>shooter</td>\n",
       "    </tr>\n",
       "    <tr>\n",
       "      <th>3</th>\n",
       "      <td>Sandra</td>\n",
       "      <td>w</td>\n",
       "      <td>23</td>\n",
       "      <td>warcraft</td>\n",
       "      <td>rpg</td>\n",
       "    </tr>\n",
       "    <tr>\n",
       "      <th>4</th>\n",
       "      <td>Sandra</td>\n",
       "      <td>w</td>\n",
       "      <td>23</td>\n",
       "      <td>conter-strike</td>\n",
       "      <td>shooter</td>\n",
       "    </tr>\n",
       "    <tr>\n",
       "      <th>5</th>\n",
       "      <td>Sandra</td>\n",
       "      <td>w</td>\n",
       "      <td>23</td>\n",
       "      <td>valorant</td>\n",
       "      <td>shooter</td>\n",
       "    </tr>\n",
       "    <tr>\n",
       "      <th>6</th>\n",
       "      <td>Mark</td>\n",
       "      <td>m</td>\n",
       "      <td>7</td>\n",
       "      <td>warcraft</td>\n",
       "      <td>rpg</td>\n",
       "    </tr>\n",
       "    <tr>\n",
       "      <th>7</th>\n",
       "      <td>Mark</td>\n",
       "      <td>m</td>\n",
       "      <td>7</td>\n",
       "      <td>conter-strike</td>\n",
       "      <td>shooter</td>\n",
       "    </tr>\n",
       "    <tr>\n",
       "      <th>8</th>\n",
       "      <td>Mark</td>\n",
       "      <td>m</td>\n",
       "      <td>7</td>\n",
       "      <td>valorant</td>\n",
       "      <td>shooter</td>\n",
       "    </tr>\n",
       "  </tbody>\n",
       "</table>\n",
       "</div>"
      ],
      "text/plain": [
       "  user_name sex  age      game_name    genre\n",
       "0     Fedor   m   10       warcraft      rpg\n",
       "1     Fedor   m   10  conter-strike  shooter\n",
       "2     Fedor   m   10       valorant  shooter\n",
       "3    Sandra   w   23       warcraft      rpg\n",
       "4    Sandra   w   23  conter-strike  shooter\n",
       "5    Sandra   w   23       valorant  shooter\n",
       "6      Mark   m    7       warcraft      rpg\n",
       "7      Mark   m    7  conter-strike  shooter\n",
       "8      Mark   m    7       valorant  shooter"
      ]
     },
     "execution_count": 23,
     "metadata": {},
     "output_type": "execute_result"
    }
   ],
   "source": [
    "user[\"key\"]=1;game[\"key\"]=1\n",
    "pd.merge(user, game, on=\"key\").drop(\"key\", axis = 1)"
   ]
  },
  {
   "cell_type": "markdown",
   "id": "b3fde498-a2f9-4feb-b0ff-818c20bb4104",
   "metadata": {},
   "source": [
    "As the result `Fedor` have maches with all games. And any other user have matches with all games."
   ]
  }
 ],
 "metadata": {
  "kernelspec": {
   "display_name": "Python 3 (ipykernel)",
   "language": "python",
   "name": "python3"
  },
  "language_info": {
   "codemirror_mode": {
    "name": "ipython",
    "version": 3
   },
   "file_extension": ".py",
   "mimetype": "text/x-python",
   "name": "python",
   "nbconvert_exporter": "python",
   "pygments_lexer": "ipython3",
   "version": "3.10.12"
  }
 },
 "nbformat": 4,
 "nbformat_minor": 5
}
