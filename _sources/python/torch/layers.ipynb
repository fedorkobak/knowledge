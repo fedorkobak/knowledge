{
 "cells": [
  {
   "cell_type": "markdown",
   "id": "67beb034-0408-4f3e-ae5f-b9d134adba64",
   "metadata": {},
   "source": [
    "# Layers\n",
    "\n",
    "Layer in torch is some transformation with some inputs and some outputs."
   ]
  },
  {
   "cell_type": "code",
   "execution_count": 1,
   "id": "0fcbd104-4e79-406c-99b9-d6e2979b2d27",
   "metadata": {},
   "outputs": [],
   "source": [
    "import torch\n",
    "from torch import nn"
   ]
  },
  {
   "cell_type": "markdown",
   "id": "c85e4a60-103f-4cf2-a6e6-32ac1dc99c10",
   "metadata": {},
   "source": [
    "To perform a layer transformation on the tensor `X`, simply use the syntax `layer(X)`."
   ]
  },
  {
   "cell_type": "markdown",
   "id": "7f6bd924-b58f-459c-a344-793248e069c9",
   "metadata": {},
   "source": [
    "## Linear"
   ]
  },
  {
   "cell_type": "markdown",
   "id": "6a22a9c3-620a-4e09-82be-0363292487de",
   "metadata": {},
   "source": [
    "The `torch.nn.Linear` layer performs the following operation:\n",
    "\n",
    "$$X_{n \\times l} \\cdot \\omega_{l \\times k} + b_k$$\n",
    "\n",
    "Where:\n",
    "\n",
    "- $l$ - number of inputs\n",
    "- $k$ - number of outputs\n",
    "- $n$ - number of input samples\n",
    "- $X_{n \\times l}$ - input tensor\n",
    "- $\\omega_{l \\times k}$ - weight matrix of the layer\n",
    "- $b_k$ - bias vector of the layer"
   ]
  },
  {
   "cell_type": "markdown",
   "id": "cf498d04",
   "metadata": {},
   "source": [
    "---\n",
    "\n",
    "The following cell applies the tensor to some data and manually performs the same transformation. The results should be identical."
   ]
  },
  {
   "cell_type": "code",
   "execution_count": 2,
   "id": "90385899-ed31-4bd7-8601-d5ef8f966acd",
   "metadata": {},
   "outputs": [
    {
     "name": "stdout",
     "output_type": "stream",
     "text": [
      "Layer transformation\n",
      "[-0.6235317587852478, -1.1335619688034058, -0.70122230052948]\n",
      "X@w+b\n",
      "[-0.6235317587852478, -1.1335619688034058, -0.70122230052948]\n"
     ]
    }
   ],
   "source": [
    "in_features = 5\n",
    "out_features = 3\n",
    "\n",
    "linear = nn.Linear(\n",
    "    in_features = in_features, \n",
    "    out_features = out_features\n",
    ")\n",
    "\n",
    "X = torch.rand(in_features)\n",
    "\n",
    "print(\"Layer transformation\")\n",
    "print(linear(X).tolist())\n",
    "print(\"X@w+b\")\n",
    "print((linear.weight@X + linear.bias).tolist())"
   ]
  },
  {
   "cell_type": "markdown",
   "id": "de2efedf",
   "metadata": {},
   "source": [
    "### Define values\n",
    "\n",
    "To define custom values for tensors you have to use access `weight` and `bias` fater layer creation. They are belongs to the `type(linear_layer.weight)` data type. So you have to use method `copy_` under `torch.no_grad` context."
   ]
  },
  {
   "cell_type": "markdown",
   "id": "085fc399",
   "metadata": {},
   "source": [
    "---\n",
    "\n",
    "Here’s an example of how to do it:"
   ]
  },
  {
   "cell_type": "code",
   "execution_count": 3,
   "id": "91af648a",
   "metadata": {},
   "outputs": [],
   "source": [
    "linear_layer = nn.Linear(in_features=3, out_features=4)\n",
    "\n",
    "default_weights = torch.ones_like(linear_layer.weight)\n",
    "default_biases = torch.zeros_like(linear_layer.bias)\n",
    "\n",
    "with torch.no_grad():\n",
    "    linear_layer.weight.copy_(default_weights)\n",
    "    linear_layer.bias.copy_(default_biases)"
   ]
  },
  {
   "cell_type": "markdown",
   "id": "5013a97b",
   "metadata": {},
   "source": [
    "After completing the process, we have the `weight` tensor initialized with ones and the `bias` tensor initialized with zeros:"
   ]
  },
  {
   "cell_type": "code",
   "execution_count": 4,
   "id": "7d5ceadd",
   "metadata": {},
   "outputs": [
    {
     "name": "stdout",
     "output_type": "stream",
     "text": [
      "Parameter containing:\n",
      "tensor([[1., 1., 1.],\n",
      "        [1., 1., 1.],\n",
      "        [1., 1., 1.],\n",
      "        [1., 1., 1.]], requires_grad=True)\n",
      "Parameter containing:\n",
      "tensor([0., 0., 0., 0.], requires_grad=True)\n"
     ]
    }
   ],
   "source": [
    "print(linear_layer.weight)\n",
    "print(linear_layer.bias)"
   ]
  }
 ],
 "metadata": {
  "kernelspec": {
   "display_name": "Python 3 (ipykernel)",
   "language": "python",
   "name": "python3"
  },
  "language_info": {
   "codemirror_mode": {
    "name": "ipython",
    "version": 3
   },
   "file_extension": ".py",
   "mimetype": "text/x-python",
   "name": "python",
   "nbconvert_exporter": "python",
   "pygments_lexer": "ipython3",
   "version": "3.10.12"
  }
 },
 "nbformat": 4,
 "nbformat_minor": 5
}
