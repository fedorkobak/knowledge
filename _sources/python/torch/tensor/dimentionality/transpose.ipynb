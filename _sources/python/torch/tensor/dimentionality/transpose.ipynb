{
 "cells": [
  {
   "cell_type": "markdown",
   "metadata": {},
   "source": [
    "# Transpose"
   ]
  },
  {
   "cell_type": "code",
   "execution_count": null,
   "metadata": {},
   "outputs": [],
   "source": [
    "import torch"
   ]
  },
  {
   "cell_type": "markdown",
   "metadata": {},
   "source": [
    "\n",
    "This is tranformation that switches order of the dimentions in the elements. If we had element with diemitonality $(d_1, d_2, ..., d_i, ..., d_j, ..., d_n)$ in tensor where dimentions $i$ and $j$ it'll have dimentionality $(d_1, d_2, ..., d_j, ..., d_i, ..., d_n)$.\n",
    "\n",
    "---\n",
    "\n",
    "We'll try to switch the dimensions for the tensor defined in the following elements."
   ]
  },
  {
   "cell_type": "code",
   "execution_count": null,
   "metadata": {},
   "outputs": [
    {
     "data": {
      "text/plain": [
       "tensor([[[ 0,  1,  2,  3],\n",
       "         [ 4,  5,  6,  7],\n",
       "         [ 8,  9, 10, 11]],\n",
       "\n",
       "        [[12, 13, 14, 15],\n",
       "         [16, 17, 18, 19],\n",
       "         [20, 21, 22, 23]]])"
      ]
     },
     "metadata": {},
     "output_type": "display_data"
    }
   ],
   "source": [
    "original_tensor = torch.arange(24).reshape(2, 3, 4)\n",
    "original_tensor"
   ]
  },
  {
   "cell_type": "markdown",
   "metadata": {},
   "source": [
    "This tensor can be written as $X = \\left[x_{ijk}\\right]_{2,3,4}$. So it's idmentionality is $(d_1, d_2, d_3)$."
   ]
  },
  {
   "cell_type": "markdown",
   "metadata": {},
   "source": [
    "Consider tensor $X'=\\left[x'_{jik}\\right]_{3,2,4}$ - switch of the $d_1$ and $d_2$."
   ]
  },
  {
   "cell_type": "code",
   "execution_count": null,
   "metadata": {},
   "outputs": [
    {
     "data": {
      "text/plain": [
       "tensor([[[ 0,  1,  2,  3],\n",
       "         [12, 13, 14, 15]],\n",
       "\n",
       "        [[ 4,  5,  6,  7],\n",
       "         [16, 17, 18, 19]],\n",
       "\n",
       "        [[ 8,  9, 10, 11],\n",
       "         [20, 21, 22, 23]]])"
      ]
     },
     "metadata": {},
     "output_type": "display_data"
    }
   ],
   "source": [
    "original_tensor.transpose(0,1)"
   ]
  },
  {
   "cell_type": "markdown",
   "metadata": {},
   "source": [
    "In particular: $x_{2,3,1}=x'_{3,2,1}=20$"
   ]
  },
  {
   "cell_type": "markdown",
   "metadata": {},
   "source": [
    "Consider tensor $X''=\\left[x''_{kji}\\right]_{4,3,2}$ - switch of the $d_1$ and $d_3$."
   ]
  },
  {
   "cell_type": "code",
   "execution_count": null,
   "metadata": {},
   "outputs": [
    {
     "data": {
      "text/plain": [
       "tensor([[[ 0,  8],\n",
       "         [ 4, 12]],\n",
       "\n",
       "        [[ 1,  9],\n",
       "         [ 5, 13]],\n",
       "\n",
       "        [[ 2, 10],\n",
       "         [ 6, 14]],\n",
       "\n",
       "        [[ 3, 11],\n",
       "         [ 7, 15]]])"
      ]
     },
     "metadata": {},
     "output_type": "display_data"
    }
   ],
   "source": [
    "original_tensor.transpose(0,2)"
   ]
  },
  {
   "cell_type": "markdown",
   "metadata": {},
   "source": [
    "In particular: $x_{1,2,3}=x''_{3,2,1}=6$"
   ]
  },
  {
   "cell_type": "markdown",
   "metadata": {},
   "source": [
    "Consider tensor $X'''=\\left[x'''_{2,4,3}\\right]$ - switch of the $d_2$ and $d_3$."
   ]
  },
  {
   "cell_type": "code",
   "execution_count": null,
   "metadata": {},
   "outputs": [
    {
     "data": {
      "text/plain": [
       "tensor([[[ 0,  4,  8],\n",
       "         [ 1,  5,  9],\n",
       "         [ 2,  6, 10],\n",
       "         [ 3,  7, 11]],\n",
       "\n",
       "        [[12, 16, 20],\n",
       "         [13, 17, 21],\n",
       "         [14, 18, 22],\n",
       "         [15, 19, 23]]])"
      ]
     },
     "metadata": {},
     "output_type": "display_data"
    }
   ],
   "source": [
    "original_tensor.transpose(1,2)"
   ]
  },
  {
   "cell_type": "markdown",
   "metadata": {},
   "source": [
    "In particular: $x_{2,2,3}=x'''_{2,3,2}=18$."
   ]
  },
  {
   "cell_type": "markdown",
   "metadata": {},
   "source": [
    "## `T` attribute\n",
    "\n",
    "For two-dimensional tensors, you can use the `T` attribute to obtain the transposed tensor. This method works in older versions of PyTorch, but it is recommended to use the `T` attribute only for two-dimensional tensors.\n",
    "\n",
    "---\n",
    "\n",
    "The following example shows the use of the `T` attribute for the first matrix of the tensor `original_tensor`."
   ]
  },
  {
   "cell_type": "code",
   "execution_count": null,
   "metadata": {},
   "outputs": [
    {
     "data": {
      "text/plain": [
       "tensor([[ 0,  4,  8],\n",
       "        [ 1,  5,  9],\n",
       "        [ 2,  6, 10],\n",
       "        [ 3,  7, 11]])"
      ]
     },
     "metadata": {},
     "output_type": "display_data"
    }
   ],
   "source": [
    "original_tensor[0].T"
   ]
  }
 ],
 "metadata": {
  "language_info": {
   "name": "python"
  }
 },
 "nbformat": 4,
 "nbformat_minor": 2
}
