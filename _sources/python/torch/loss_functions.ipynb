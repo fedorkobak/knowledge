{
 "cells": [
  {
   "cell_type": "markdown",
   "metadata": {},
   "source": [
    "# Loss functions\n",
    "\n",
    "Loss functions are the target that a model strives to optimize. PyTorch provides a suite of popular loss functions, and we will explore their properties here. "
   ]
  },
  {
   "cell_type": "code",
   "execution_count": 4,
   "metadata": {},
   "outputs": [],
   "source": [
    "import torch\n",
    "import torch.nn.functional as F"
   ]
  },
  {
   "cell_type": "markdown",
   "metadata": {},
   "source": [
    "## Cross entropy\n",
    "\n",
    "This loss function is commonly used for multi-class classification problems. In PyTorch's implementation, you need to provide:\n",
    "\n",
    "- A batch $B$ of dimension $(n, K)$, where $n$ is the number of objects in the batch and $K$ is the number of classes. These represent the model's prediction scores.\n",
    "- A vector $(y_1, y_2, ..., y_n)$, where $y_i$ is an integer from $0$ to $K-1$ indicating the true class label for each observation in the batch.\n",
    "\n",
    "For a more detailed and accurate description of the sense check, please refer to the official [torch documentation page](https://pytorch.org/docs/stable/generated/torch.nn.CrossEntropyLoss.html)."
   ]
  },
  {
   "cell_type": "markdown",
   "metadata": {},
   "source": [
    "---\n",
    "\n",
    "Consider examples where the model made mistakes and where it was correct."
   ]
  },
  {
   "cell_type": "markdown",
   "metadata": {},
   "source": [
    "At the following cell, the true label for the observation was 0, but the model assigned high scores to all labels except 0. This is a mistake of the model. "
   ]
  },
  {
   "cell_type": "code",
   "execution_count": 25,
   "metadata": {},
   "outputs": [
    {
     "data": {
      "text/plain": [
       "tensor(1.7589)"
      ]
     },
     "execution_count": 25,
     "metadata": {},
     "output_type": "execute_result"
    }
   ],
   "source": [
    "F.cross_entropy(\n",
    "    torch.tensor([[0.1,0.5,0.7,0.5]]),\n",
    "    torch.tensor([0])\n",
    ")"
   ]
  },
  {
   "cell_type": "markdown",
   "metadata": {},
   "source": [
    "In this case, the model predicted class 2 with high confidence, assigning low scores to all other classes. The true label was indeed 2, indicating a correct prediction by the model."
   ]
  },
  {
   "cell_type": "code",
   "execution_count": 26,
   "metadata": {},
   "outputs": [
    {
     "data": {
      "text/plain": [
       "tensor(0.9732)"
      ]
     },
     "execution_count": 26,
     "metadata": {},
     "output_type": "execute_result"
    }
   ],
   "source": [
    "F.cross_entropy(\n",
    "    torch.tensor([[0.1,0.1,0.7,0.1]]),\n",
    "    torch.tensor([2])\n",
    ")"
   ]
  },
  {
   "cell_type": "markdown",
   "metadata": {},
   "source": [
    "Here is example that shows typical inputs for cross entropy loss."
   ]
  },
  {
   "cell_type": "code",
   "execution_count": 59,
   "metadata": {},
   "outputs": [
    {
     "name": "stdout",
     "output_type": "stream",
     "text": [
      "predictions batch\n",
      "tensor([[-0.8844, -0.3556,  0.9763,  1.2577, -0.6795],\n",
      "        [ 0.2358, -0.7628, -1.4757,  1.0294, -0.8632],\n",
      "        [ 0.4365, -0.9948,  0.0902, -0.7807, -0.3827],\n",
      "        [ 2.1360,  1.1786, -0.0036,  0.0101, -0.4870],\n",
      "        [ 0.1012, -0.2581,  1.4023,  0.5791,  1.3517],\n",
      "        [ 0.4122,  0.9149,  1.0000,  0.8574,  0.2017],\n",
      "        [-0.6575,  1.5868,  0.1800, -0.9720,  0.7293],\n",
      "        [ 0.5361,  1.8960,  1.0395,  0.5292, -0.0472],\n",
      "        [ 0.0543, -0.2939, -0.5856,  0.6681, -0.5274],\n",
      "        [ 0.9524,  0.9101, -0.0125,  0.4696,  0.6906]])\n",
      "labels\n",
      "tensor([1, 3, 1, 1, 1, 3, 4, 3, 2, 1])\n"
     ]
    },
    {
     "data": {
      "text/plain": [
       "tensor(1.9175)"
      ]
     },
     "execution_count": 59,
     "metadata": {},
     "output_type": "execute_result"
    }
   ],
   "source": [
    "n = 1000\n",
    "classes_count = 5\n",
    "predictions_batch = torch.randn(n, classes_count)\n",
    "labels = torch.randint(low=0, high=classes_count, size=[n])\n",
    "print(\"predictions batch\")\n",
    "print(predictions_batch[:10])\n",
    "print(\"labels\")\n",
    "print(labels[:10])\n",
    "\n",
    "F.cross_entropy(predictions_batch, labels)"
   ]
  }
 ],
 "metadata": {
  "kernelspec": {
   "display_name": "Python 3",
   "language": "python",
   "name": "python3"
  },
  "language_info": {
   "codemirror_mode": {
    "name": "ipython",
    "version": 3
   },
   "file_extension": ".py",
   "mimetype": "text/x-python",
   "name": "python",
   "nbconvert_exporter": "python",
   "pygments_lexer": "ipython3",
   "version": "3.10.12"
  }
 },
 "nbformat": 4,
 "nbformat_minor": 2
}
