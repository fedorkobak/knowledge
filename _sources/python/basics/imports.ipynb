{
 "cells": [
  {
   "cell_type": "markdown",
   "id": "096269fc-478c-443d-9c5d-865d2abcd895",
   "metadata": {},
   "source": [
    "# Imports\n",
    "\n",
    "This topic may seem unimportant, but some configurations can be inconvenient. It is therefore important to know the tools that Python has for importing modules.\n",
    "\n",
    "**Sources**\n",
    "\n",
    "- [Python modules and packages intorduction](https://realpython.com/python-modules-packages/#python-modules-overview) page in realpython;\n",
    "- [Python import: advanced Techniques and Tips](https://realpython.com/python-import/) page in realpython."
   ]
  },
  {
   "cell_type": "markdown",
   "id": "a1125d5a-1180-45df-beec-41cfe0ac80e2",
   "metadata": {},
   "source": [
    "## `sys.path`"
   ]
  },
  {
   "cell_type": "markdown",
   "id": "63d45bec-fd9f-4c77-af1b-18522eddb7c8",
   "metadata": {},
   "source": [
    "To get folders in system where interpreter will search importted modules use `sys.path`"
   ]
  },
  {
   "cell_type": "code",
   "execution_count": 1,
   "id": "053c654f-f133-4671-aeff-58c79d3674ac",
   "metadata": {},
   "outputs": [
    {
     "data": {
      "text/plain": [
       "['/usr/lib/python312.zip',\n",
       " '/usr/lib/python3.12',\n",
       " '/usr/lib/python3.12/lib-dynload',\n",
       " '',\n",
       " '/home/f-kobak-distance-desctop/Documents/knowledge/venv/lib/python3.12/site-packages']"
      ]
     },
     "execution_count": 1,
     "metadata": {},
     "output_type": "execute_result"
    }
   ],
   "source": [
    "import sys\n",
    "sys.path"
   ]
  },
  {
   "cell_type": "markdown",
   "id": "82dc1d96-d1a2-4334-b632-8b106c893b94",
   "metadata": {},
   "source": [
    "You can add any elements to the `sys.path`. Following cells are examples of this feature."
   ]
  },
  {
   "cell_type": "markdown",
   "id": "082fec90-c3ee-4131-8ba1-4bb48661ff7e",
   "metadata": {},
   "source": [
    "Let's save a module that just prints something, so that every time it is imported, this message appears in the terminal."
   ]
  },
  {
   "cell_type": "code",
   "execution_count": 6,
   "id": "531afbd7-840d-417d-9def-5bc9093e342b",
   "metadata": {},
   "outputs": [
    {
     "name": "stdout",
     "output_type": "stream",
     "text": [
      "Writing imports_files/test_module.py\n"
     ]
    }
   ],
   "source": [
    "%%writefile imports_files/test_module.py\n",
    "print(\"this file was imported\")"
   ]
  },
  {
   "cell_type": "markdown",
   "id": "967797c9-2b00-48a4-a882-031b1c48106e",
   "metadata": {},
   "source": [
    "Module from the previous cell is saved in a package that is not in `sys.path`. Therefore, when trying to import it, an error is raised, as shown in the next cell:"
   ]
  },
  {
   "cell_type": "code",
   "execution_count": 9,
   "id": "137d1c82-eecb-4a0a-af7a-d38810ccea9a",
   "metadata": {},
   "outputs": [
    {
     "name": "stdout",
     "output_type": "stream",
     "text": [
      "ModuleNotFoundError was rised\n"
     ]
    }
   ],
   "source": [
    "try:\n",
    "    import test_module\n",
    "except ModuleNotFoundError:\n",
    "    print(\"ModuleNotFoundError was rised\")"
   ]
  },
  {
   "cell_type": "markdown",
   "id": "8ad12bd9-ae37-4b0e-b787-a8102d0757e9",
   "metadata": {},
   "source": [
    "But if you've added a folder that contains the module in question, it will be imported just fine:"
   ]
  },
  {
   "cell_type": "code",
   "execution_count": 11,
   "id": "72cbe7b2-d061-4246-b2ec-b12ea7e6e6ff",
   "metadata": {},
   "outputs": [],
   "source": [
    "sys.path.append(\"imports_files\")\n",
    "import test_module\n",
    "sys.path.remove(\"imports_files\")"
   ]
  },
  {
   "cell_type": "markdown",
   "id": "eb85f241-42ce-431c-8f54-7926a34c554a",
   "metadata": {},
   "source": [
    "## Reload module\n",
    "\n",
    "**Long story short** - use `importlib.reload(<module name>)` to update the module in the current interpier run.\n",
    "\n",
    "If you have imported a module in the current run of Interpirer, even if the module has been updated, Interpirer will use old versions of the module. "
   ]
  },
  {
   "cell_type": "markdown",
   "id": "2e3b395a-94c2-41b8-b9bb-bcb6231b787f",
   "metadata": {},
   "source": [
    "### Example\n",
    "\n",
    "Let's reinforce the above with an example. The program in the following cell will:\n",
    "\n",
    "- Create a module that contains a variable.\n",
    "- Import the newly created module and print variable.\n",
    "- Update the module.\n",
    "- Attempt to reload the module and print variable again."
   ]
  },
  {
   "cell_type": "code",
   "execution_count": 41,
   "id": "06b0d2d4-fec6-47ef-9542-e918fbd60aa7",
   "metadata": {},
   "outputs": [
    {
     "name": "stdout",
     "output_type": "stream",
     "text": [
      "Overwriting imports_files/reload_example/reload_example.py\n"
     ]
    }
   ],
   "source": [
    "%%writefile imports_files/reload_example/reload_example.py\n",
    "program = \"\"\"\n",
    "variable = \"This is initial valule of the variable\"\n",
    "\"\"\"\n",
    "with open(\"temp.py\", \"w\") as f:\n",
    "    f.write(program)\n",
    "\n",
    "import temp\n",
    "print(temp.variable)\n",
    "\n",
    "# now change value of the variable\n",
    "program = \"\"\"\n",
    "variable = \"This is changed value of the variable\"\n",
    "\"\"\"\n",
    "with open(\"temp.py\", \"w\") as f:\n",
    "    f.write(program)\n",
    "\n",
    "import temp\n",
    "print(temp.variable)"
   ]
  },
  {
   "cell_type": "markdown",
   "id": "c671210c-32c9-4cd4-add4-30e02fd3ea0f",
   "metadata": {},
   "source": [
    "Now let us try to run this programme:"
   ]
  },
  {
   "cell_type": "code",
   "execution_count": 45,
   "id": "925ad78c-6314-453e-be97-0bff707a5332",
   "metadata": {},
   "outputs": [
    {
     "name": "stdout",
     "output_type": "stream",
     "text": [
      "This is initial valule of the variable\n",
      "This is changed value of the variable\n"
     ]
    }
   ],
   "source": [
    "%%bash\n",
    "cd imports_files/reload_example\n",
    "python3 reload_example.py"
   ]
  },
  {
   "cell_type": "markdown",
   "id": "dc851aef-0bc2-4929-863b-caf71e6a873f",
   "metadata": {},
   "source": [
    "Changing the module while the programme was running had no effect on the result - even though it was re-imported."
   ]
  },
  {
   "cell_type": "markdown",
   "id": "8507c70b-df3e-43fb-828f-83249cf3b530",
   "metadata": {},
   "source": [
    "### Fixing\n",
    "\n",
    "To apply the changes in the module during further execution of the programme, use the `importools.reload` function."
   ]
  },
  {
   "cell_type": "markdown",
   "id": "b224e30a-0a75-47c1-abde-8d0642f76d6b",
   "metadata": {},
   "source": [
    "The following cell modifies previous example by adding `importlib.reaload(temp)`."
   ]
  },
  {
   "cell_type": "code",
   "execution_count": 43,
   "id": "8449ac10-795a-4295-a537-0a5d1ba3a413",
   "metadata": {},
   "outputs": [
    {
     "name": "stdout",
     "output_type": "stream",
     "text": [
      "Overwriting imports_files/reload_example/reload_example.py\n"
     ]
    }
   ],
   "source": [
    "%%writefile imports_files/reload_example/reload_example.py\n",
    "program = \"\"\"\n",
    "variable = \"This is initial valule of the variable\"\n",
    "\"\"\"\n",
    "with open(\"temp.py\", \"w\") as f:\n",
    "    f.write(program)\n",
    "import temp\n",
    "print(temp.variable)\n",
    "\n",
    "# now change value of the variable\n",
    "program = \"\"\"\n",
    "variable = \"This is changed value of the variable\"\n",
    "\"\"\"\n",
    "with open(\"temp.py\", \"w\") as f:\n",
    "    f.write(program)\n",
    "import importlib\n",
    "importlib.reload(temp)\n",
    "print(temp.variable)"
   ]
  },
  {
   "cell_type": "code",
   "execution_count": 44,
   "id": "8f46c180-0727-408b-bae6-900dae84c295",
   "metadata": {},
   "outputs": [
    {
     "name": "stdout",
     "output_type": "stream",
     "text": [
      "This is initial valule of the variable\n",
      "This is changed value of the variable\n"
     ]
    }
   ],
   "source": [
    "%%bash\n",
    "cd imports_files/reload_example\n",
    "python3 reload_example.py"
   ]
  },
  {
   "cell_type": "markdown",
   "id": "3952a533-914f-46b1-9a5f-1b9687ae7b35",
   "metadata": {},
   "source": [
    "The second print uses the modified value of the `temp.variable`, so the module has been updated for runtime."
   ]
  }
 ],
 "metadata": {
  "kernelspec": {
   "display_name": "Python 3 (ipykernel)",
   "language": "python",
   "name": "python3"
  },
  "language_info": {
   "codemirror_mode": {
    "name": "ipython",
    "version": 3
   },
   "file_extension": ".py",
   "mimetype": "text/x-python",
   "name": "python",
   "nbconvert_exporter": "python",
   "pygments_lexer": "ipython3",
   "version": "3.10.12"
  }
 },
 "nbformat": 4,
 "nbformat_minor": 5
}
