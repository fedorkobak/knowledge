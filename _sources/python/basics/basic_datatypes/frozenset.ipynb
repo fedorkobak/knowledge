{
 "cells": [
  {
   "cell_type": "markdown",
   "id": "5885c057-0a5e-4238-a2d7-38e67e08d2fe",
   "metadata": {},
   "source": [
    "# frozenset\n",
    "\n",
    "`set` in Python is a mutable data type, so you cannot use it in many cases (e.g. as a key for `dict` or as an element of another `set`). To fix this, Python provides a special data type `frozenset` which is like `set` but immutable.\n",
    "\n",
    "So in the following example I try to use `frozenset` and `set` as elements of another `set`:\n",
    "\n",
    "- With `frozenset` all is well;\n",
    "- Regular `set` causes an error."
   ]
  },
  {
   "cell_type": "code",
   "execution_count": 17,
   "id": "05adf725-1622-464a-aba8-45ad8960fddb",
   "metadata": {},
   "outputs": [
    {
     "name": "stdout",
     "output_type": "stream",
     "text": [
      "Using a frozenset: {1, 2, 3, frozenset({1, 2, 3, 4})}\n"
     ]
    },
    {
     "ename": "TypeError",
     "evalue": "unhashable type: 'set'",
     "output_type": "error",
     "traceback": [
      "\u001b[0;31m---------------------------------------------------------------------------\u001b[0m",
      "\u001b[0;31mTypeError\u001b[0m                                 Traceback (most recent call last)",
      "Cell \u001b[0;32mIn[17], line 5\u001b[0m\n\u001b[1;32m      2\u001b[0m frozen_set \u001b[38;5;241m=\u001b[39m \u001b[38;5;28mfrozenset\u001b[39m([\u001b[38;5;241m1\u001b[39m,\u001b[38;5;241m2\u001b[39m,\u001b[38;5;241m3\u001b[39m,\u001b[38;5;241m4\u001b[39m])\n\u001b[1;32m      4\u001b[0m \u001b[38;5;28mprint\u001b[39m(\u001b[38;5;124m\"\u001b[39m\u001b[38;5;124mUsing a frozenset:\u001b[39m\u001b[38;5;124m\"\u001b[39m, {\u001b[38;5;241m1\u001b[39m,\u001b[38;5;241m2\u001b[39m,\u001b[38;5;241m3\u001b[39m, frozen_set})\n\u001b[0;32m----> 5\u001b[0m \u001b[38;5;28mprint\u001b[39m(\u001b[38;5;124m\"\u001b[39m\u001b[38;5;124mUsing a regular set:\u001b[39m\u001b[38;5;124m\"\u001b[39m, {\u001b[38;5;241m1\u001b[39m, \u001b[38;5;241m2\u001b[39m, \u001b[38;5;241m3\u001b[39m, regular_set, \u001b[38;5;241m1\u001b[39m})\n",
      "\u001b[0;31mTypeError\u001b[0m: unhashable type: 'set'"
     ]
    }
   ],
   "source": [
    "regular_set = {1,3}\n",
    "frozen_set = frozenset([1,2,3,4])\n",
    "\n",
    "print(\"Using a frozenset:\", {1,2,3, frozen_set})\n",
    "print(\"Using a regular set:\", {1, 2, 3, regular_set, 1})"
   ]
  }
 ],
 "metadata": {
  "kernelspec": {
   "display_name": "Python 3 (ipykernel)",
   "language": "python",
   "name": "python3"
  },
  "language_info": {
   "codemirror_mode": {
    "name": "ipython",
    "version": 3
   },
   "file_extension": ".py",
   "mimetype": "text/x-python",
   "name": "python",
   "nbconvert_exporter": "python",
   "pygments_lexer": "ipython3",
   "version": "3.10.12"
  }
 },
 "nbformat": 4,
 "nbformat_minor": 5
}
