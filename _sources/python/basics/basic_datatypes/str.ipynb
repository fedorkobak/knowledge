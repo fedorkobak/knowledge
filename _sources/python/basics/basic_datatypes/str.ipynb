{
 "cells": [
  {
   "cell_type": "markdown",
   "id": "81842d97-7d6e-4ec5-82d5-07f8b5b6e74e",
   "metadata": {},
   "source": [
    "# str\n",
    "\n",
    "This data type describes the variables in which you want to store the text information."
   ]
  },
  {
   "cell_type": "markdown",
   "id": "c3c54051-1aa1-423c-9428-13a8b122feca",
   "metadata": {},
   "source": [
    "## `istitle` - is first capital\n",
    "\n",
    "Lets you check if all words in the calling string are capitalised.\n",
    "\n",
    "The following example shows how it works for\n",
    "\n",
    "- Lower case only;\n",
    "- One capitalised word;\n",
    "- Line with several capitalised words;\n",
    "- Line with several words but only the first one is capitalised."
   ]
  },
  {
   "cell_type": "code",
   "execution_count": 9,
   "id": "de47bb14-2583-48dd-85be-eda79c99bdae",
   "metadata": {},
   "outputs": [
    {
     "name": "stdout",
     "output_type": "stream",
     "text": [
      "\"test line\".istitle() -> False\n",
      "\"Test\".istitle() -> True\n",
      "\"Test Line\".istitle() -> True\n",
      "\"Test line\".istitle() -> False\n"
     ]
    }
   ],
   "source": [
    "test_lines =[\n",
    "    \"test line\",\n",
    "    \"Test\",\n",
    "    \"Test Line\",\n",
    "    \"Test line\"\n",
    "]\n",
    "\n",
    "for test_line in test_lines:\n",
    "    print(f\"\\\"{test_line}\\\".istitle() -> {test_line.istitle()}\")"
   ]
  }
 ],
 "metadata": {
  "kernelspec": {
   "display_name": "Python 3 (ipykernel)",
   "language": "python",
   "name": "python3"
  },
  "language_info": {
   "codemirror_mode": {
    "name": "ipython",
    "version": 3
   },
   "file_extension": ".py",
   "mimetype": "text/x-python",
   "name": "python",
   "nbconvert_exporter": "python",
   "pygments_lexer": "ipython3",
   "version": "3.10.12"
  }
 },
 "nbformat": 4,
 "nbformat_minor": 5
}
