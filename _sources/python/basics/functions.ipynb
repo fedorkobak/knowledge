{
 "cells": [
  {
   "cell_type": "markdown",
   "id": "c7db179a-76e1-4a9b-8b2d-e235489fb841",
   "metadata": {},
   "source": [
    "# Functions"
   ]
  },
  {
   "cell_type": "markdown",
   "id": "7ed8ef16-7f0e-40c6-a667-d761cefa6e69",
   "metadata": {},
   "source": [
    "## Arguments vs parameters"
   ]
  },
  {
   "cell_type": "markdown",
   "id": "6f027cfd-4e9b-46e6-b55e-eca3381ea7a0",
   "metadata": {},
   "source": [
    "**Parameters** - local variables to which values are assigned at the moment of its call.\n",
    "\n",
    "**Arguments** are information passed to the function. They are real values corresponding to the parameters that were specified when the function was declared.\n",
    "\n",
    "So in following example:\n",
    "- `val` is a parameter of `some_function`;\n",
    "- `\"test\"` is an argument passed to `some_function`."
   ]
  },
  {
   "cell_type": "code",
   "execution_count": 2,
   "id": "c02cac12-2422-4b0c-8cb8-2c737e7c16b3",
   "metadata": {},
   "outputs": [
    {
     "name": "stdout",
     "output_type": "stream",
     "text": [
      "I got test\n"
     ]
    }
   ],
   "source": [
    "def some_function(val):\n",
    "    print(\"I got\", val)\n",
    "\n",
    "some_function(\"test\")"
   ]
  }
 ],
 "metadata": {
  "kernelspec": {
   "display_name": "Python 3 (ipykernel)",
   "language": "python",
   "name": "python3"
  },
  "language_info": {
   "codemirror_mode": {
    "name": "ipython",
    "version": 3
   },
   "file_extension": ".py",
   "mimetype": "text/x-python",
   "name": "python",
   "nbconvert_exporter": "python",
   "pygments_lexer": "ipython3",
   "version": "3.10.12"
  }
 },
 "nbformat": 4,
 "nbformat_minor": 5
}
