{
 "cells": [
  {
   "cell_type": "markdown",
   "id": "c10cfaeb-7c6b-453f-931b-2b2ed644596a",
   "metadata": {},
   "source": [
    "# Dependencies\n",
    "\n",
    "Here is described how to specify the libraries that must be installed for the package to work correctly.\n",
    "\n",
    "You have to use `pyproject.toml` to specify it, read more about it [here](https://packaging.python.org/en/latest/guides/writing-pyproject-toml/#dependencies-and-requirements)."
   ]
  },
  {
   "cell_type": "markdown",
   "id": "2da0c6d8-2553-4aba-9d74-4c32c82a90f3",
   "metadata": {},
   "source": [
    "To specify which libraries need to be installed with the package, just use the `dependencies` field in the `[project]` section of `pyproject.toml`. The following cell shows what it might look like. There is specified to install `pandas`."
   ]
  },
  {
   "cell_type": "code",
   "execution_count": 1,
   "id": "da71b002-3719-4536-95ba-a01075bad1c1",
   "metadata": {},
   "outputs": [
    {
     "name": "stdout",
     "output_type": "stream",
     "text": [
      "Overwriting dependencies_files/pyproject.toml\n"
     ]
    }
   ],
   "source": [
    "%%writefile dependencies_files/pyproject.toml\n",
    "[project]\n",
    "name = \"toy_package\"\n",
    "version = \"0.0.0\"\n",
    "dependencies = [\"pandas==2.0.0\"]"
   ]
  },
  {
   "cell_type": "markdown",
   "id": "833edaea-f348-411d-a6e6-066cf603e7c6",
   "metadata": {},
   "source": [
    "Now let's try to install our library in a fresh environment."
   ]
  },
  {
   "cell_type": "code",
   "execution_count": 2,
   "id": "07f6d74f-3409-4eaf-8c43-1f2712bf2f1a",
   "metadata": {},
   "outputs": [
    {
     "name": "stdout",
     "output_type": "stream",
     "text": [
      "Processing /home/fedor/Documents/knowledge/python/advanced/build_package/pyproject_toml/dependencies_files\n",
      "  Installing build dependencies: started\n",
      "  Installing build dependencies: finished with status 'done'\n",
      "  Getting requirements to build wheel: started\n",
      "  Getting requirements to build wheel: finished with status 'done'\n",
      "  Preparing metadata (pyproject.toml): started\n",
      "  Preparing metadata (pyproject.toml): finished with status 'done'\n",
      "Collecting pandas==2.0.0\n",
      "  Using cached pandas-2.0.0-cp310-cp310-manylinux_2_17_x86_64.manylinux2014_x86_64.whl (12.3 MB)\n",
      "Collecting python-dateutil>=2.8.2\n",
      "  Using cached python_dateutil-2.9.0.post0-py2.py3-none-any.whl (229 kB)\n",
      "Collecting pytz>=2020.1\n",
      "  Using cached pytz-2024.1-py2.py3-none-any.whl (505 kB)\n",
      "Collecting tzdata>=2022.1\n",
      "  Using cached tzdata-2024.1-py2.py3-none-any.whl (345 kB)\n",
      "Collecting numpy>=1.21.0\n",
      "  Using cached numpy-1.26.4-cp310-cp310-manylinux_2_17_x86_64.manylinux2014_x86_64.whl (18.2 MB)\n",
      "Collecting six>=1.5\n",
      "  Using cached six-1.16.0-py2.py3-none-any.whl (11 kB)\n",
      "Building wheels for collected packages: toy_package\n",
      "  Building wheel for toy_package (pyproject.toml): started\n",
      "  Building wheel for toy_package (pyproject.toml): finished with status 'done'\n",
      "  Created wheel for toy_package: filename=toy_package-0.0.0-py3-none-any.whl size=990 sha256=2d09689ca50f68fc814b80d1fa34e497ee7ea85dc1ef06fa094f774b7f806f61\n",
      "  Stored in directory: /tmp/pip-ephem-wheel-cache-dbemm6eh/wheels/0a/35/99/448d6ddaacd473774cd2f2acf23c05339049ed4363104ea742\n",
      "Successfully built toy_package\n",
      "Installing collected packages: pytz, tzdata, six, numpy, python-dateutil, pandas, toy_package\n",
      "Successfully installed numpy-1.26.4 pandas-2.0.0 python-dateutil-2.9.0.post0 pytz-2024.1 six-1.16.0 toy_package-0.0.0 tzdata-2024.1\n"
     ]
    }
   ],
   "source": [
    "%%bash\n",
    "cd dependencies_files\n",
    "python3 -m venv venv\n",
    "source venv/bin/activate\n",
    "pip3 install ."
   ]
  },
  {
   "cell_type": "markdown",
   "id": "64c41d73-313d-4f3c-9e2b-db58f45fbe5f",
   "metadata": {},
   "source": [
    "And check that it is installed with the specified version in pip of the environment in question:"
   ]
  },
  {
   "cell_type": "code",
   "execution_count": 3,
   "id": "997055c4-60eb-413b-9f0d-8c4809fe0c6e",
   "metadata": {},
   "outputs": [
    {
     "name": "stdout",
     "output_type": "stream",
     "text": [
      "pandas          2.0.0\n"
     ]
    }
   ],
   "source": [
    "%%bash\n",
    "cd dependencies_files\n",
    "source venv/bin/activate\n",
    "pip3 list | grep pandas"
   ]
  },
  {
   "cell_type": "markdown",
   "id": "ef33bc62-c5df-428f-98fc-41a0189f48db",
   "metadata": {},
   "source": [
    "To avoid storing test files on your computer, don't forget to delete the virtual environment created for this research:"
   ]
  },
  {
   "cell_type": "code",
   "execution_count": 4,
   "id": "431ab821-c305-45f0-b8d1-170be74ebb50",
   "metadata": {},
   "outputs": [],
   "source": [
    "!rm -r dependencies_files/venv"
   ]
  }
 ],
 "metadata": {
  "kernelspec": {
   "display_name": "Python 3 (ipykernel)",
   "language": "python",
   "name": "python3"
  },
  "language_info": {
   "codemirror_mode": {
    "name": "ipython",
    "version": 3
   },
   "file_extension": ".py",
   "mimetype": "text/x-python",
   "name": "python",
   "nbconvert_exporter": "python",
   "pygments_lexer": "ipython3",
   "version": "3.10.12"
  }
 },
 "nbformat": 4,
 "nbformat_minor": 5
}
