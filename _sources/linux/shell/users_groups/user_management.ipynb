{
 "cells": [
  {
   "cell_type": "markdown",
   "metadata": {},
   "source": [
    "# User management\n",
    "\n",
    "This section considers ways to configure the list of users of the Linux operating system."
   ]
  },
  {
   "cell_type": "markdown",
   "metadata": {},
   "source": [
    "## Default shell\n",
    "\n",
    "You can specify default shell that will be used by the user. With `--shell` argument."
   ]
  },
  {
   "cell_type": "markdown",
   "metadata": {},
   "source": [
    "---\n",
    "\n",
    "The following example shows how to make python the default shell for the user. We need python installed on the system to play with such tricks."
   ]
  },
  {
   "cell_type": "markdown",
   "metadata": {},
   "source": [
    "The following cell creates `python_user` and specifies the path to Python in the `--shell` argument."
   ]
  },
  {
   "cell_type": "code",
   "execution_count": 4,
   "metadata": {
    "vscode": {
     "languageId": "shellscript"
    }
   },
   "outputs": [],
   "source": [
    "useradd --shell /usr/local/bin/python3 -m python_user"
   ]
  },
  {
   "cell_type": "markdown",
   "metadata": {},
   "source": [
    "The following cell executes Python code that prints the value of the environment variable `SHELL` for `python_user`."
   ]
  },
  {
   "cell_type": "code",
   "execution_count": 5,
   "metadata": {
    "vscode": {
     "languageId": "shellscript"
    }
   },
   "outputs": [
    {
     "name": "stdout",
     "output_type": "stream",
     "text": [
      "/usr/local/bin/python3\n"
     ]
    }
   ],
   "source": [
    "su - python_user -c \"import os; print(os.environ['SHELL'])\""
   ]
  },
  {
   "cell_type": "markdown",
   "metadata": {},
   "source": [
    "The result is a path specified for python path."
   ]
  },
  {
   "cell_type": "markdown",
   "metadata": {},
   "source": [
    "## Home directory\n",
    "\n",
    "By default the `useradd` command doesn't add a home directory for the user, but you can force it to do by using the `-m` option."
   ]
  },
  {
   "cell_type": "markdown",
   "metadata": {},
   "source": [
    "---\n",
    "\n",
    "The following cell adds the user `home_dir_user`, and checks if there is a corresponding directory."
   ]
  },
  {
   "cell_type": "code",
   "execution_count": 47,
   "metadata": {
    "vscode": {
     "languageId": "shellscript"
    }
   },
   "outputs": [],
   "source": [
    "useradd home_dir_user\n",
    "[ -d /home/home_dir_user ] &> /dev/null && echo \"directory exists\"\n",
    "\n",
    "userdel home_dir_user"
   ]
  },
  {
   "cell_type": "markdown",
   "metadata": {},
   "source": [
    "As a result there is no message indicating that the directory exists - so it hasn't been created. The following code is exactly the same, but it uses the `-m` option for `useradd`."
   ]
  },
  {
   "cell_type": "code",
   "execution_count": 48,
   "metadata": {
    "vscode": {
     "languageId": "shellscript"
    }
   },
   "outputs": [
    {
     "name": "stdout",
     "output_type": "stream",
     "text": [
      "directory exists\n"
     ]
    }
   ],
   "source": [
    "useradd -m home_dir_user\n",
    "[ -d /home/home_dir_user ] &> /dev/null && echo \"directory exists\"\n",
    "\n",
    "userdel home_dir_user && rm -r /home/home_dir_user"
   ]
  },
  {
   "cell_type": "markdown",
   "metadata": {},
   "source": [
    "The folder has been created automatically with `useradd`."
   ]
  },
  {
   "cell_type": "markdown",
   "metadata": {},
   "source": [
    "## Specify the password (`-p`)\n",
    "\n",
    "You can specify a password for a user just during creation using `-p <password>` option.\n",
    "\n",
    "**Note:** The argument passed with `-p` will be literaly write to the corresponding field of the `/etc/shadow` but password to be walid it have to be hashed"
   ]
  },
  {
   "cell_type": "markdown",
   "metadata": {},
   "source": [
    "---\n",
    "\n",
    "The following cell creates a user and specifies a `-p` value for it."
   ]
  },
  {
   "cell_type": "code",
   "execution_count": 8,
   "metadata": {
    "vscode": {
     "languageId": "shellscript"
    }
   },
   "outputs": [
    {
     "name": "stdout",
     "output_type": "stream",
     "text": [
      "pass_user:test_password:20142:0:99999:7:::\n"
     ]
    }
   ],
   "source": [
    "id pass_user &> /dev/null && userdel pass_user\n",
    "useradd pass_user -p test_password\n",
    "cat /etc/shadow | tail -n 1"
   ]
  },
  {
   "cell_type": "markdown",
   "metadata": {},
   "source": [
    "As a result, the corresponding line for that user will contain the literal value specified by `-p`. This is not a valid password, for example following code `chpasswd` to specify the same password."
   ]
  },
  {
   "cell_type": "code",
   "execution_count": 16,
   "metadata": {
    "vscode": {
     "languageId": "shellscript"
    }
   },
   "outputs": [
    {
     "name": "stdout",
     "output_type": "stream",
     "text": [
      "pass_user:$y$j9T$zXkpdGLeWECuJJjUWRkWA/$69C8IDy67Fc52nFTCalrscvFp04JrapLnhUnHWWpyAD:20142:0:99999:7:::\n"
     ]
    }
   ],
   "source": [
    "echo \"pass_user:test_password\" | chpasswd\n",
    "cat /etc/shadow | tail -n 1"
   ]
  },
  {
   "cell_type": "markdown",
   "metadata": {},
   "source": [
    "The result is a hash value in the place corresponding to the password, as it should be. But you can still specify the hashed password directly. The following cell uses the `openssl passwd` utility to create a hash for the password, which then used in `useradd`."
   ]
  },
  {
   "cell_type": "code",
   "execution_count": 18,
   "metadata": {
    "vscode": {
     "languageId": "shellscript"
    }
   },
   "outputs": [
    {
     "name": "stdout",
     "output_type": "stream",
     "text": [
      "pass_user:$6$mgDjcLr.bA.WrMfO$PBUc/Q/dqAQbntKhI7MwldjADkE0E.wf4YQDMUXP/.v/k04MzFy3JjGeWYtTM4NN7GvWz3A5UGGjOcCeZUtmI0:20142:0:99999:7:::\n"
     ]
    }
   ],
   "source": [
    "id pass_user &> /dev/null && userdel pass_user\n",
    "useradd pass_user -p $(openssl passwd -6 \"test_password\")\n",
    "cat /etc/shadow | tail -n 1"
   ]
  },
  {
   "cell_type": "markdown",
   "metadata": {},
   "source": [
    "And result would be a valid value for password."
   ]
  }
 ],
 "metadata": {
  "kernelspec": {
   "display_name": "Bash",
   "language": "bash",
   "name": "bash"
  },
  "language_info": {
   "codemirror_mode": "shell",
   "file_extension": ".sh",
   "mimetype": "text/x-sh",
   "name": "bash"
  }
 },
 "nbformat": 4,
 "nbformat_minor": 2
}
