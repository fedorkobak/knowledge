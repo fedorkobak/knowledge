{
 "cells": [
  {
   "cell_type": "markdown",
   "id": "22da7fbd",
   "metadata": {},
   "source": [
    "# Shell\n",
    "\n",
    "Linux shell have a lot of features inportant to know. This section considers different behaviour patterns"
   ]
  },
  {
   "cell_type": "markdown",
   "id": "ee983c3a",
   "metadata": {},
   "source": [
    "## Manage input/ouput\n",
    "\n",
    "\n",
    "There is a number of tools that are commonly used to work with the terminal.\n",
    "\n",
    "| **Tool**                   | **Description**                                                             |\n",
    "|----------------------------|-----------------------------------------------------------------------------|\n",
    "| `\\|` pipe                  | Passes the result of one command to another command.                        |\n",
    "| `grep`                     | Searches for patterns in the output of a command.                           |\n",
    "| `<command> > <file_name>`  | Redirects the command output to a file.                                     |\n",
    "| `<command> >> <file_name>` | Adds the output to a file.                                                   | \n",
    "| `tee`                      | Simultaneously redirects the output to both the standard output and a file. |\n",
    "| Heredoc `<<` syntax        | Allows you to write multi-line instructions directly in the terminal.       |\n",
    "| `<command> &`              | You can run a command detached using the `&`.                               |\n",
    "\n",
    "Check more details in the [special page](shell/manage_input_output.ipynb)."
   ]
  },
  {
   "cell_type": "markdown",
   "id": "d8a65e3e",
   "metadata": {},
   "source": [
    "## Environment\n",
    "\n",
    "The Linux environment is actually is a set of variables that define the behavor of different Linux utilities. The environment can sometimes can seriously change the behavior of the shell. This section discusses options for setting up and monitoring shell behavior. There are few important aspects of the environment:\n",
    "\n",
    "- The `export` command adds a specified variable to the current environment.\n",
    "- The `source` command executes the script and applies all of its definitions to the current shell.\n",
    "- There are a few really important variables that define the general behavior of the `bash` that are worth to know:\n",
    "\n",
    "| Variable                | Description                                                                             |\n",
    "| ----------------------- | --------------------------------------------------------------------------------------- |\n",
    "| **SHELL**               | Path to the current user’s shell (usually `/bin/bash`).                                 |\n",
    "| **BASH**                | Full path to the Bash binary in use.                                                    |\n",
    "| **BASH_VERSION**        | Version of Bash being executed.                                                         |\n",
    "| **BASHOPTS**            | List of enabled Bash shell options (set via `shopt`).                                   |\n",
    "| **BASHPID**             | Process ID of the current Bash process.                                                 |\n",
    "| **BASH_ENV**            | File that Bash reads and executes before running a script (for non-interactive shells). |\n",
    "| **PROMPT_COMMAND**      | Command executed before each Bash prompt is displayed.                                  |\n",
    "| **PS1**                 | Primary command prompt definition (what you see before you type commands).              |\n",
    "| **PS2**                 | Secondary prompt (displayed when a command spans multiple lines).                       |\n",
    "| **HISTFILE**            | File where command history is stored (usually `~/.bash_history`).                       |\n",
    "| **HISTSIZE**            | Number of commands to remember in memory.                                               |\n",
    "| **HISTFILESIZE**        | Maximum number of lines to store in the history file.                                   |\n",
    "| **PATH**                | Colon-separated list of directories Bash searches for executables.                      |\n",
    "| **HOME**                | Path to the user’s home directory.                                                      |\n",
    "| **PWD**                 | Current working directory.                                                              |\n",
    "| **OLDPWD**              | Previous working directory (used by `cd -`).                                            |\n",
    "| **USER** / **LOGNAME**  | Username of the current user.                                                           |\n",
    "| **UID**                 | Numeric user ID of the current user.                                                    |\n",
    "| **EUID**                | Effective user ID (important for setuid scripts).                                       |\n",
    "| **IFS**                 | Internal Field Separator — defines word splitting (default: space, tab, newline).       |\n",
    "| **LANG** / **LC_ALL**   | Define locale settings for language, sorting, and formatting.                           |\n",
    "| **TERM**                | Type of terminal used (affects output formatting).                                      |\n",
    "| **MAIL**                | Path to the user’s mailbox (used for mail notifications).                               |\n",
    "| **EDITOR** / **VISUAL** | Default text editor (used by many CLI tools).                                           |\n",
    "| **ENV**                 | File sourced at shell startup for POSIX shells (used by non-interactive shells).        |\n",
    "| **SHLVL**               | Indicates how many nested shell levels are active.                                      |\n",
    "| **SECONDS**             | Number of seconds since the shell was started.                                          |\n",
    "| **RANDOM**              | Returns a random integer between 0 and 32767.                                           |\n",
    "| **LINENO**              | Current line number in the executing script.                                            |\n",
    "\n",
    "Check more details in the [Environment](shell/environment.ipynb) page."
   ]
  },
  {
   "cell_type": "markdown",
   "id": "260fa097",
   "metadata": {},
   "source": [
    "## Exit status\n",
    "\n",
    "When your program exits, it returns a number that describes the circumstances under which the program finished. This output is stored in the `$?` variable, allowing you to check the state of the command.\n",
    "\n",
    "| **Code** | **Description**                                      |\n",
    "|----------|------------------------------------------------------|\n",
    "| **0**    | Success: The program or command completed successfully. |\n",
    "| **1**    | General error: A generic error occurred.             |\n",
    "| **2**    | Misuse of shell builtins: Incorrect usage of a shell command or builtin. |\n",
    "| **126**  | Command invoked cannot execute: Found but not executable. |\n",
    "| **127**  | Command not found: Command not found in system PATH or misspelled. |\n",
    "| **128**  | Invalid exit argument: Program returned a value outside the valid exit range. |\n",
    "| **130**  | Terminated by Ctrl+C: Process killed by SIGINT signal. |\n",
    "| **137**  | Killed by SIGKILL: Process terminated by `kill -9`.  |\n",
    "| **139**  | Segmentation fault: Process terminated by SIGSEGV.   |\n",
    "| **128+N**| Termination by signal \\(N\\): Exit code represents signal \\(N\\). |\n",
    "| **10**   | (Custom) Missing configuration file.                 |\n",
    "| **20**   | (Custom) Resource unavailable.                       |\n"
   ]
  },
  {
   "cell_type": "markdown",
   "id": "26ab9269",
   "metadata": {},
   "source": [
    "---\n",
    "\n",
    "The following cells shows examples of invoking `?` varable in different cases."
   ]
  },
  {
   "cell_type": "markdown",
   "id": "cd9cffe0",
   "metadata": {},
   "source": [
    "The basic case is when a program finishes successfully, resulting in `0`:"
   ]
  },
  {
   "cell_type": "code",
   "execution_count": null,
   "id": "52fa6aab",
   "metadata": {
    "vscode": {
     "languageId": "shellscript"
    }
   },
   "outputs": [
    {
     "name": "stdout",
     "output_type": "stream",
     "text": [
      "hello world\n",
      "0\n"
     ]
    }
   ],
   "source": [
    "echo \"hello world\"\n",
    "echo $?"
   ]
  },
  {
   "cell_type": "markdown",
   "id": "6fb0a535",
   "metadata": {},
   "source": [
    "In cases where a command is passed a parameter it cannot handle, such as with the `ls` command, it returns a status code of `2`."
   ]
  },
  {
   "cell_type": "code",
   "execution_count": null,
   "id": "dd18f309",
   "metadata": {
    "vscode": {
     "languageId": "shellscript"
    }
   },
   "outputs": [
    {
     "name": "stdout",
     "output_type": "stream",
     "text": [
      "ls: option requires an argument -- 'w'\n",
      "Try 'ls --help' for more information.\n",
      "2\n"
     ]
    }
   ],
   "source": [
    "ls -w\n",
    "echo $?"
   ]
  },
  {
   "cell_type": "markdown",
   "id": "aae39240",
   "metadata": {},
   "source": [
    "An example of invoking a `Command not found` exception."
   ]
  },
  {
   "cell_type": "code",
   "execution_count": null,
   "id": "08e959ed",
   "metadata": {
    "vscode": {
     "languageId": "shellscript"
    }
   },
   "outputs": [
    {
     "name": "stdout",
     "output_type": "stream",
     "text": [
      "this_command_doesnt_exist: command not found\n",
      "127\n"
     ]
    }
   ],
   "source": [
    "this_command_doesnt_exist\n",
    "echo $?"
   ]
  },
  {
   "cell_type": "markdown",
   "id": "81f14765",
   "metadata": {},
   "source": [
    "## Bash\n",
    "\n",
    "Bash is a shell commonly used in Linux-based operating systems. Mastering Bash allows you to combine results from Linux utilities and create your own, which is a straightforward way to optimize tasks. \n",
    "Find out more on the [specific page](shell/bash.ipynb) or in the [official manual](https://www.gnu.org/software/bash/manual/bash.html)."
   ]
  },
  {
   "cell_type": "markdown",
   "id": "73f8e6dc",
   "metadata": {},
   "source": [
    "---\n",
    "\n",
    "The following example shows how to extract raw JSON using the `curl` command, format it nicely with the `jp` tool, and transform it to YAML format using the `yp` tool. To perform all this, we use just two Bash command operators: `|` and `$`."
   ]
  },
  {
   "cell_type": "code",
   "execution_count": null,
   "id": "94813417",
   "metadata": {
    "vscode": {
     "languageId": "shellscript"
    }
   },
   "outputs": [
    {
     "name": "stdout",
     "output_type": "stream",
     "text": [
      "5d54c061747cf404cb1b6623515f3836d562367470208a9e008c4f7c7f0c2b75\n",
      "\u001b[1;39m{\n",
      "  \u001b[0m\u001b[34;1m\"slideshow\"\u001b[0m\u001b[1;39m: \u001b[0m\u001b[1;39m{\n",
      "    \u001b[0m\u001b[34;1m\"author\"\u001b[0m\u001b[1;39m: \u001b[0m\u001b[0;32m\"Yours Truly\"\u001b[0m\u001b[1;39m,\n",
      "    \u001b[0m\u001b[34;1m\"date\"\u001b[0m\u001b[1;39m: \u001b[0m\u001b[0;32m\"date of publication\"\u001b[0m\u001b[1;39m,\n",
      "    \u001b[0m\u001b[34;1m\"slides\"\u001b[0m\u001b[1;39m: \u001b[0m\u001b[1;39m[\n",
      "      \u001b[1;39m{\n",
      "        \u001b[0m\u001b[34;1m\"title\"\u001b[0m\u001b[1;39m: \u001b[0m\u001b[0;32m\"Wake up to WonderWidgets!\"\u001b[0m\u001b[1;39m,\n",
      "        \u001b[0m\u001b[34;1m\"type\"\u001b[0m\u001b[1;39m: \u001b[0m\u001b[0;32m\"all\"\u001b[0m\u001b[1;39m\n",
      "      \u001b[1;39m}\u001b[0m\u001b[1;39m,\n",
      "      \u001b[1;39m{\n",
      "        \u001b[0m\u001b[34;1m\"items\"\u001b[0m\u001b[1;39m: \u001b[0m\u001b[1;39m[\n",
      "          \u001b[0;32m\"Why <em>WonderWidgets</em> are great\"\u001b[0m\u001b[1;39m,\n",
      "          \u001b[0;32m\"Who <em>buys</em> WonderWidgets\"\u001b[0m\u001b[1;39m\n",
      "        \u001b[1;39m]\u001b[0m\u001b[1;39m,\n",
      "        \u001b[0m\u001b[34;1m\"title\"\u001b[0m\u001b[1;39m: \u001b[0m\u001b[0;32m\"Overview\"\u001b[0m\u001b[1;39m,\n",
      "        \u001b[0m\u001b[34;1m\"type\"\u001b[0m\u001b[1;39m: \u001b[0m\u001b[0;32m\"all\"\u001b[0m\u001b[1;39m\n",
      "      \u001b[1;39m}\u001b[0m\u001b[1;39m\n",
      "    \u001b[1;39m]\u001b[0m\u001b[1;39m,\n",
      "    \u001b[0m\u001b[34;1m\"title\"\u001b[0m\u001b[1;39m: \u001b[0m\u001b[0;32m\"Sample Slide Show\"\u001b[0m\u001b[1;39m\n",
      "  \u001b[1;39m}\u001b[0m\u001b[1;39m\n",
      "\u001b[1;39m}\u001b[0m\n",
      "============================================================\n",
      "\u001b[36mslideshow\u001b[0m:\u001b[36m\u001b[0m\n",
      "\u001b[36m  author\u001b[0m:\u001b[32m Yours Truly\u001b[0m\n",
      "\u001b[32m  \u001b[0m\u001b[36mdate\u001b[0m:\u001b[32m date of publication\u001b[0m\n",
      "\u001b[32m  \u001b[0m\u001b[36mslides\u001b[0m:\n",
      "    -\u001b[36m title\u001b[0m:\u001b[32m Wake up to WonderWidgets!\u001b[0m\n",
      "\u001b[32m      \u001b[0m\u001b[36mtype\u001b[0m:\u001b[32m all\u001b[0m\n",
      "\u001b[32m    \u001b[0m-\u001b[36m items\u001b[0m:\n",
      "        -\u001b[32m Why <em>WonderWidgets</em> are great\u001b[0m\n",
      "\u001b[32m        \u001b[0m-\u001b[32m Who <em>buys</em> WonderWidgets\u001b[0m\n",
      "\u001b[32m      \u001b[0m\u001b[36mtitle\u001b[0m:\u001b[32m Overview\u001b[0m\n",
      "\u001b[32m      \u001b[0m\u001b[36mtype\u001b[0m:\u001b[32m all\u001b[0m\n",
      "\u001b[32m  \u001b[0m\u001b[36mtitle\u001b[0m:\u001b[32m Sample Slide Show\u001b[0m\n",
      "temp_http\n"
     ]
    }
   ],
   "source": [
    "docker run -itd --name temp_http --rm -p 80:80 kennethreitz/httpbin\n",
    "\n",
    "json_output=$(curl -s localhost:80/json)\n",
    "echo $json_output | jq\n",
    "echo \"============================================================\"\n",
    "echo \"$json_output\" | jq '.' | yq -P\n",
    "\n",
    "docker stop temp_http"
   ]
  },
  {
   "cell_type": "markdown",
   "id": "3b122519",
   "metadata": {},
   "source": [
    "## Users & groups\n",
    "\n",
    "There are tools to organize users of the system:\n",
    "\n",
    "- `/etc/passwd` file: contains information about all users in the system.  \n",
    "- `useradd` command: adds a new user to the system.  \n",
    "- `userdel` command: deletes a specified user from the system.\n",
    "- To determine the current user, you can use the `whoami` command or simply retrieve the value of the `$USER` variable (`echo $USER`).\n",
    "\n",
    "Find out more in the [corresponding page](shell/users_groups.ipynb)."
   ]
  },
  {
   "cell_type": "markdown",
   "id": "21870054",
   "metadata": {},
   "source": [
    "---\n",
    "\n",
    "The following cell uses the `useradd` command to add users to the system:"
   ]
  },
  {
   "cell_type": "code",
   "execution_count": null,
   "id": "bc46ee59",
   "metadata": {
    "vscode": {
     "languageId": "shellscript"
    }
   },
   "outputs": [],
   "source": [
    "useradd fedor"
   ]
  },
  {
   "cell_type": "markdown",
   "id": "5e13394f",
   "metadata": {},
   "source": [
    "Now by running `cat` on `/etc/passwd` you can check the available users in the system:"
   ]
  },
  {
   "cell_type": "code",
   "execution_count": null,
   "id": "42482fe2",
   "metadata": {
    "vscode": {
     "languageId": "shellscript"
    }
   },
   "outputs": [
    {
     "name": "stdout",
     "output_type": "stream",
     "text": [
      "root:x:0:0:root:/root:/bin/bash\n",
      "daemon:x:1:1:daemon:/usr/sbin:/usr/sbin/nologin\n",
      "bin:x:2:2:bin:/bin:/usr/sbin/nologin\n",
      "sys:x:3:3:sys:/dev:/usr/sbin/nologin\n",
      "sync:x:4:65534:sync:/bin:/bin/sync\n",
      "games:x:5:60:games:/usr/games:/usr/sbin/nologin\n",
      "man:x:6:12:man:/var/cache/man:/usr/sbin/nologin\n",
      "lp:x:7:7:lp:/var/spool/lpd:/usr/sbin/nologin\n",
      "mail:x:8:8:mail:/var/mail:/usr/sbin/nologin\n",
      "news:x:9:9:news:/var/spool/news:/usr/sbin/nologin\n",
      "uucp:x:10:10:uucp:/var/spool/uucp:/usr/sbin/nologin\n",
      "proxy:x:13:13:proxy:/bin:/usr/sbin/nologin\n",
      "www-data:x:33:33:www-data:/var/www:/usr/sbin/nologin\n",
      "backup:x:34:34:backup:/var/backups:/usr/sbin/nologin\n",
      "list:x:38:38:Mailing List Manager:/var/list:/usr/sbin/nologin\n",
      "irc:x:39:39:ircd:/run/ircd:/usr/sbin/nologin\n",
      "_apt:x:42:65534::/nonexistent:/usr/sbin/nologin\n",
      "nobody:x:65534:65534:nobody:/nonexistent:/usr/sbin/nologin\n",
      "systemd-network:x:998:998:systemd Network Management:/:/usr/sbin/nologin\n",
      "systemd-timesync:x:997:997:systemd Time Synchronization:/:/usr/sbin/nologin\n",
      "messagebus:x:100:101::/nonexistent:/usr/sbin/nologin\n",
      "polkitd:x:996:996:polkit:/nonexistent:/usr/sbin/nologin\n",
      "fedor:x:1001:1001::/home/fedor:/bin/sh\n"
     ]
    }
   ],
   "source": [
    "cat /etc/passwd"
   ]
  },
  {
   "cell_type": "markdown",
   "id": "69943d6e",
   "metadata": {},
   "source": [
    "There is a user we just created. Try the `userdel` command to delete `fedor` from the system. The following cell deletes the user and lists available users:"
   ]
  },
  {
   "cell_type": "code",
   "execution_count": null,
   "id": "27b5c6ab",
   "metadata": {
    "vscode": {
     "languageId": "shellscript"
    }
   },
   "outputs": [
    {
     "name": "stdout",
     "output_type": "stream",
     "text": [
      "root:x:0:0:root:/root:/bin/bash\n",
      "daemon:x:1:1:daemon:/usr/sbin:/usr/sbin/nologin\n",
      "bin:x:2:2:bin:/bin:/usr/sbin/nologin\n",
      "sys:x:3:3:sys:/dev:/usr/sbin/nologin\n",
      "sync:x:4:65534:sync:/bin:/bin/sync\n",
      "games:x:5:60:games:/usr/games:/usr/sbin/nologin\n",
      "man:x:6:12:man:/var/cache/man:/usr/sbin/nologin\n",
      "lp:x:7:7:lp:/var/spool/lpd:/usr/sbin/nologin\n",
      "mail:x:8:8:mail:/var/mail:/usr/sbin/nologin\n",
      "news:x:9:9:news:/var/spool/news:/usr/sbin/nologin\n",
      "uucp:x:10:10:uucp:/var/spool/uucp:/usr/sbin/nologin\n",
      "proxy:x:13:13:proxy:/bin:/usr/sbin/nologin\n",
      "www-data:x:33:33:www-data:/var/www:/usr/sbin/nologin\n",
      "backup:x:34:34:backup:/var/backups:/usr/sbin/nologin\n",
      "list:x:38:38:Mailing List Manager:/var/list:/usr/sbin/nologin\n",
      "irc:x:39:39:ircd:/run/ircd:/usr/sbin/nologin\n",
      "_apt:x:42:65534::/nonexistent:/usr/sbin/nologin\n",
      "nobody:x:65534:65534:nobody:/nonexistent:/usr/sbin/nologin\n",
      "systemd-network:x:998:998:systemd Network Management:/:/usr/sbin/nologin\n",
      "systemd-timesync:x:997:997:systemd Time Synchronization:/:/usr/sbin/nologin\n",
      "messagebus:x:100:101::/nonexistent:/usr/sbin/nologin\n",
      "polkitd:x:996:996:polkit:/nonexistent:/usr/sbin/nologin\n"
     ]
    }
   ],
   "source": [
    "userdel fedor\n",
    "cat /etc/passwd"
   ]
  }
 ],
 "metadata": {
  "language_info": {
   "name": "python"
  }
 },
 "nbformat": 4,
 "nbformat_minor": 5
}
