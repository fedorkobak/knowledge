{
 "cells": [
  {
   "cell_type": "markdown",
   "id": "6d1cb559",
   "metadata": {},
   "source": [
    "# Generate key\n",
    "\n",
    "SSH keys can be generated using the `ssh-keygen` utility. The following table shows utility's most useful parameters.\n",
    "\n",
    "| Option              | Description                                                                 |\n",
    "|---------------------|-----------------------------------------------------------------------------|\n",
    "| `-t type`           | Key type to create (`rsa`, `ed25519`, `ecdsa`). `ed25519` is recommended.   |\n",
    "| `-b bits`           | Number of bits in the key (e.g. `4096` for RSA). Ignored for `ed25519`.     |\n",
    "| `-C comment`        | Comment to add to the key (e.g. your email for GitHub).                     |\n",
    "| `-f filename`       | File in which to save the key (default: `~/.ssh/id_<type>`).                |\n",
    "| `-N passphrase`     | New passphrase for the key (empty string for no passphrase).                |\n",
    "| `-y`                | Read a private key and print the corresponding public key.                  |\n",
    "| `-l -f keyfile`     | Show fingerprint of the given public/private key file.                      |\n",
    "| `-E hash_alg`       | Fingerprint hash algorithm (`md5`, `sha256`). Default is `sha256`.          |\n",
    "| `-p`                | Change the passphrase of a private key.                                     |\n",
    "| `-R hostname`       | Remove all keys belonging to a hostname from `~/.ssh/known_hosts`.          |\n",
    "| `-F hostname`       | Search `~/.ssh/known_hosts` for entries matching a hostname.                |\n",
    "| `-A`                | Generate host keys of all types (used for SSH servers).                     |\n",
    "| `-q`                | Quiet mode – suppress most messages.                                        |"
   ]
  },
  {
   "cell_type": "markdown",
   "id": "852ab71f",
   "metadata": {},
   "source": [
    "## Comment (`-C`)\n",
    "\n",
    "The `-C` parameter allow you to set a comment that will be written to the public key file and can be used by third-party services.\n",
    "\n",
    "**Note**: Some guides recommend using your exact email address here, but you can use whatever you like."
   ]
  },
  {
   "cell_type": "markdown",
   "id": "0de957b7",
   "metadata": {},
   "source": [
    "---\n",
    "\n",
    "The following cell generates the ssh key and adds \"some arbitrary comment\" to it."
   ]
  },
  {
   "cell_type": "code",
   "execution_count": 5,
   "id": "404d39ab",
   "metadata": {
    "vscode": {
     "languageId": "shellscript"
    }
   },
   "outputs": [
    {
     "name": "stdout",
     "output_type": "stream",
     "text": [
      "Generating public/private ed25519 key pair.\n",
      "Your identification has been saved in /tmp/ssh_experiments/my_super_key\n",
      "Your public key has been saved in /tmp/ssh_experiments/my_super_key.pub\n",
      "The key fingerprint is:\n",
      "SHA256:C5HQJWqgLyHXGszLLtZTRHUfQHcmNWKmSfBwfiNHmQU some arbitrary comment\n",
      "The key's randomart image is:\n",
      "+--[ED25519 256]--+\n",
      "|  . .oo=+*.E**   |\n",
      "| + o.o.oB Oo* .  |\n",
      "|+ = +.o  * =     |\n",
      "|.= =.  .  + .    |\n",
      "|. =  .. S        |\n",
      "| o. .  . .       |\n",
      "|...o    .        |\n",
      "|..  .            |\n",
      "|                 |\n",
      "+----[SHA256]-----+\n"
     ]
    }
   ],
   "source": [
    "rm -rf /tmp/ssh_experiments\n",
    "mkdir /tmp/ssh_experiments\n",
    "ssh-keygen -C \"some arbitrary comment\" -f /tmp/ssh_experiments/my_super_key -N \"\""
   ]
  },
  {
   "cell_type": "markdown",
   "id": "55dcf3ac",
   "metadata": {},
   "source": [
    "The following cell prints ssh key generated in the previous code."
   ]
  },
  {
   "cell_type": "code",
   "execution_count": 6,
   "id": "11423e14",
   "metadata": {
    "vscode": {
     "languageId": "shellscript"
    }
   },
   "outputs": [
    {
     "name": "stdout",
     "output_type": "stream",
     "text": [
      "ssh-ed25519 AAAAC3NzaC1lZDI1NTE5AAAAICzvRTr8SmN5lC2N5j1bVMNViBqR2VnG94HRjOrYJerq some arbitrary comment\n"
     ]
    }
   ],
   "source": [
    "cat /tmp/ssh_experiments/my_super_key.pub"
   ]
  },
  {
   "cell_type": "markdown",
   "id": "07111dc4",
   "metadata": {},
   "source": [
    "After the ssh key, write the exact comment specified in the `-C` option as raw text."
   ]
  }
 ],
 "metadata": {
  "kernelspec": {
   "display_name": "Bash",
   "language": "bash",
   "name": "bash"
  },
  "language_info": {
   "codemirror_mode": "shell",
   "file_extension": ".sh",
   "mimetype": "text/x-sh",
   "name": "bash"
  }
 },
 "nbformat": 4,
 "nbformat_minor": 5
}
