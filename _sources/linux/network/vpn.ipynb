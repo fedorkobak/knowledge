{
 "cells": [
  {
   "cell_type": "markdown",
   "metadata": {},
   "source": [
    "# VPN\n",
    "\n",
    "A **V**irtual **P**rivate **N**etwork is a technology that creates a secure, encrypted connection over the internet, allowing a device to appear as if it is part of a private network. It enables users to securely access network resources and protect their online activity from eavesdropping, even when using public networks."
   ]
  },
  {
   "cell_type": "markdown",
   "metadata": {},
   "source": [
    "## Minimal setup\n",
    "\n",
    "This section shows the simplest example of a VPN, it shows the ideas behind the definition of a Virtual Private Network. It is based on the [Static Key Mini-HOWTO](https://openvpn.net/community-resources/static-key-mini-howto/) tutorial.\n",
    "\n",
    "We will set up VPN server in a Docker container, connect to it from the host, and show what has happened to the host's network configuration as a result."
   ]
  },
  {
   "cell_type": "markdown",
   "metadata": {},
   "source": [
    "---\n",
    "\n",
    "The following cell starts the Docker container and installs the necessarry compoments."
   ]
  },
  {
   "cell_type": "code",
   "execution_count": 26,
   "metadata": {
    "vscode": {
     "languageId": "shellscript"
    }
   },
   "outputs": [
    {
     "name": "stdout",
     "output_type": "stream",
     "text": [
      "b12ef9318d36d1d29206d323c18d7dad21b83f36676c5f09edab733463687dc3\n"
     ]
    }
   ],
   "source": [
    "docker run --name server -itd --name vpn_server --privileged --rm ubuntu:24.04\n",
    "docker exec vpn_server bash -c \"apt update && apt install -y openvpn\" &> /dev/null"
   ]
  },
  {
   "cell_type": "markdown",
   "metadata": {
    "vscode": {
     "languageId": "shellscript"
    }
   },
   "source": [
    "To start the `openvpn` server you need to create a config in the `/usr/share/doc/openvpn/server.conf` path and generate a key, in this case it would be `static.key`. \n",
    "\n",
    "Note the `ifconfig` directive in the configuraion, it sets up the ip to the computers in the virtual network. "
   ]
  },
  {
   "cell_type": "code",
   "execution_count": 27,
   "metadata": {
    "vscode": {
     "languageId": "shellscript"
    }
   },
   "outputs": [],
   "source": [
    "docker exec -i vpn_server tee /usr/share/doc/openvpn/server.conf > /dev/null << EOF\n",
    "dev tun\n",
    "ifconfig 10.8.0.1 10.8.0.2\n",
    "secret static.key\n",
    "cipher AES-256-CBC\n",
    "EOF\n",
    "\n",
    "docker exec vpn_server openvpn --genkey --secret static.key &> /dev/null\n",
    "\n",
    "docker exec -d vpn_server openvpn /usr/share/doc/openvpn/server.conf &> /dev/null"
   ]
  },
  {
   "cell_type": "markdown",
   "metadata": {},
   "source": [
    "Host is almost the same, but we'll load a key generated in the sever."
   ]
  },
  {
   "cell_type": "code",
   "execution_count": 28,
   "metadata": {
    "vscode": {
     "languageId": "shellscript"
    }
   },
   "outputs": [
    {
     "name": "stdout",
     "output_type": "stream",
     "text": [
      "Successfully copied 2.56kB to /tmp/static.key\n",
      "[1] 20276\n"
     ]
    }
   ],
   "source": [
    "container_ip=$(docker inspect -f '{{range .NetworkSettings.Networks}}{{.IPAddress}}{{end}}' vpn_server)\n",
    "cat << EOF > /tmp/client.conf\n",
    "remote ${container_ip}\n",
    "dev tun\n",
    "ifconfig 10.8.0.2 10.8.0.1\n",
    "secret /tmp/static.key\n",
    "cipher AES-256-CBC\n",
    "EOF\n",
    "\n",
    "docker cp vpn_server:/static.key /tmp/static.key\n",
    "\n",
    "openvpn /tmp/client.conf &> /dev/null &\n",
    "process_id=$!"
   ]
  },
  {
   "cell_type": "markdown",
   "metadata": {},
   "source": [
    "Finally, you can ping the address of the vpn server, in the virtual network, and it would work."
   ]
  },
  {
   "cell_type": "code",
   "execution_count": 29,
   "metadata": {
    "vscode": {
     "languageId": "shellscript"
    }
   },
   "outputs": [
    {
     "name": "stdout",
     "output_type": "stream",
     "text": [
      "PING 10.8.0.1 (10.8.0.1): 56 data bytes\n",
      "64 bytes from 10.8.0.1: seq=0 ttl=64 time=0.386 ms\n",
      "64 bytes from 10.8.0.1: seq=1 ttl=64 time=0.921 ms\n",
      "64 bytes from 10.8.0.1: seq=2 ttl=64 time=0.898 ms\n",
      "64 bytes from 10.8.0.1: seq=3 ttl=64 time=0.912 ms\n",
      "64 bytes from 10.8.0.1: seq=4 ttl=64 time=1.024 ms\n",
      "\n",
      "--- 10.8.0.1 ping statistics ---\n",
      "5 packets transmitted, 5 packets received, 0% packet loss\n",
      "round-trip min/avg/max = 0.386/0.828/1.024 ms\n"
     ]
    }
   ],
   "source": [
    "ping -c 5 10.8.0.1"
   ]
  },
  {
   "cell_type": "markdown",
   "metadata": {},
   "source": [
    "Note that a new network interface has appeared in the client configuration - it organises interaction with the virtual network."
   ]
  },
  {
   "cell_type": "code",
   "execution_count": 30,
   "metadata": {
    "vscode": {
     "languageId": "shellscript"
    }
   },
   "outputs": [
    {
     "name": "stdout",
     "output_type": "stream",
     "text": [
      "1: lo: <LOOPBACK,UP,LOWER_UP> mtu 65536 qdisc noqueue state UNKNOWN mode DEFAULT group default qlen 1000\n",
      "    link/loopback 00:00:00:00:00:00 brd 00:00:00:00:00:00\n",
      "2: eth0@if16: <BROADCAST,MULTICAST,UP,LOWER_UP> mtu 1500 qdisc noqueue state UP mode DEFAULT group default \n",
      "    link/ether 1e:9d:ec:67:b4:c4 brd ff:ff:ff:ff:ff:ff link-netnsid 0\n",
      "3: docker0: <BROADCAST,MULTICAST,UP,LOWER_UP> mtu 1500 qdisc noqueue state UP mode DEFAULT group default \n",
      "    link/ether 02:42:af:62:f0:42 brd ff:ff:ff:ff:ff:ff\n",
      "19: vethac27a55@if18: <BROADCAST,MULTICAST,UP,LOWER_UP> mtu 1500 qdisc noqueue master docker0 state UP mode DEFAULT group default \n",
      "    link/ether 5a:81:82:16:7c:f9 brd ff:ff:ff:ff:ff:ff link-netnsid 1\n",
      "20: tun0: <POINTOPOINT,MULTICAST,NOARP,UP,LOWER_UP> mtu 1500 qdisc fq_codel state UNKNOWN mode DEFAULT group default qlen 500\n",
      "    link/none \n"
     ]
    }
   ],
   "source": [
    "ip link show"
   ]
  },
  {
   "cell_type": "code",
   "execution_count": 31,
   "metadata": {
    "vscode": {
     "languageId": "shellscript"
    }
   },
   "outputs": [
    {
     "name": "stdout",
     "output_type": "stream",
     "text": [
      "vpn_server\n",
      "[1]+  Done                    openvpn /tmp/client.conf &> /dev/null\n"
     ]
    }
   ],
   "source": [
    "kill $process_id\n",
    "docker stop vpn_server"
   ]
  }
 ],
 "metadata": {
  "kernelspec": {
   "display_name": "Bash",
   "language": "bash",
   "name": "bash"
  },
  "language_info": {
   "codemirror_mode": "shell",
   "file_extension": ".sh",
   "mimetype": "text/x-sh",
   "name": "bash"
  }
 },
 "nbformat": 4,
 "nbformat_minor": 2
}
