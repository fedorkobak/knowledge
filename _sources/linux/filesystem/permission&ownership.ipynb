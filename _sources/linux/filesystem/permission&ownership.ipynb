{
 "cells": [
  {
   "cell_type": "markdown",
   "id": "e8856c70",
   "metadata": {},
   "source": [
    "# Permission&Ownership\n",
    "\n",
    "This page provides information on setting up permissions and ownership for files."
   ]
  },
  {
   "cell_type": "markdown",
   "id": "e6bc1550",
   "metadata": {},
   "source": [
    "## Check\n",
    "\n",
    "Use the `-l` flag with the `ls` command to view information associated with file permissions and ownership. We are interested in the first, third, and forth attributes for each position in the output, which refer to: permissions, user, and group respectively."
   ]
  },
  {
   "cell_type": "markdown",
   "id": "41aa0434",
   "metadata": {},
   "source": [
    "The first attribute for each file contains 10 symbols that describe whether the file is a directory and its permissions. The first character defines whether the is a deroctoty. The following characters are separated separated into 3 groups of 3 symbols each and specify the rights for the user, group, and other. The following schema illustrates this concept:\n",
    "\n",
    "![](permission&ownersip_files/permissions.svg)\n",
    "\n",
    "The `rwx` combination means `read`, `write` and `execute`.\n",
    "\n",
    "If a digit is preceded by `-`, it means that the position is not a directory or that there are no corresponding permisisons."
   ]
  },
  {
   "cell_type": "markdown",
   "id": "cbfc9ea3",
   "metadata": {},
   "source": [
    "---\n",
    "\n",
    "The following cell creates the folder that we'll use as an example throught the section and the file that we will consider."
   ]
  },
  {
   "cell_type": "code",
   "execution_count": 11,
   "id": "20cfc093",
   "metadata": {
    "vscode": {
     "languageId": "shellscript"
    }
   },
   "outputs": [],
   "source": [
    "rm -fr /tmp/check_permission\n",
    "mkdir /tmp/check_permission\n",
    "cd /tmp/check_permission\n",
    "\n",
    "echo \"hello\" > my_file"
   ]
  },
  {
   "cell_type": "markdown",
   "id": "25bc46ec",
   "metadata": {},
   "source": [
    "The following cell displays the output of the command `ls -l` for the folder."
   ]
  },
  {
   "cell_type": "code",
   "execution_count": 12,
   "id": "e7ee51f0",
   "metadata": {
    "vscode": {
     "languageId": "shellscript"
    }
   },
   "outputs": [
    {
     "name": "stdout",
     "output_type": "stream",
     "text": [
      "total 4\n",
      "-rw-r--r-- 1 root root 6 Sep 23 20:28 my_file\n"
     ]
    }
   ],
   "source": [
    "ls -l"
   ]
  },
  {
   "cell_type": "markdown",
   "id": "5118ff0d",
   "metadata": {},
   "source": [
    "According to the output, the file `my_file` belongs to the `root` user and `root` group. The `root` user can read and write to the file; others are only allowed to read it."
   ]
  },
  {
   "cell_type": "markdown",
   "id": "0edf0764",
   "metadata": {},
   "source": [
    "## Chmod\n",
    "\n",
    "The `chmod` command allows you to adjust file permissions.\n",
    "\n",
    "The general syntax is:\n",
    "\n",
    "```bash\n",
    "chmod [MODE] [FILE]\n",
    "```\n",
    "\n",
    "The most imporant point for consideration here is `MODE`. It can be specified in the **symbolic and numeric formats**."
   ]
  },
  {
   "cell_type": "markdown",
   "id": "209dd381",
   "metadata": {},
   "source": [
    "### Symbolic\n",
    "\n",
    "The `MODE` in the symbolic format breaks down in the following format:\n",
    "\n",
    "```bash\n",
    "chmod [WHO][OPERATOR][PERMISSIONS] [FILE]\n",
    "```\n",
    "\n",
    "The meaning of each element is described in the following table:\n",
    "\n",
    "| Element | Symbols | Description |\n",
    "|---------|---------|-------------|\n",
    "| WHO     | `u`, `g`, `o`, `a` | User, Group, Others and All |\n",
    "| OPERATOR | `+`, `-`, `=` | add, remove, overwrite |\n",
    "| PERMISSIONS | `r`, `w`, `x` | read, write, execute |"
   ]
  },
  {
   "cell_type": "markdown",
   "id": "2bc6aee6",
   "metadata": {},
   "source": [
    "---\n",
    "\n",
    "Consider a few examples. The following cell creates the file and displays its default permissions."
   ]
  },
  {
   "cell_type": "code",
   "execution_count": null,
   "id": "24f3592c",
   "metadata": {
    "vscode": {
     "languageId": "shellscript"
    }
   },
   "outputs": [
    {
     "name": "stdout",
     "output_type": "stream",
     "text": [
      "total 4\n",
      "-rw-r--r-- 1 root root 6 Sep 27 09:31 some_file\n"
     ]
    }
   ],
   "source": [
    "rm -rf /tmp/chmod_symbolic\n",
    "mkdir /tmp/chmod_symbolic\n",
    "cd /tmp/chmod_symbolic\n",
    "echo \"Hello\" > some_file\n",
    "ls -l"
   ]
  },
  {
   "cell_type": "markdown",
   "id": "4819be73",
   "metadata": {},
   "source": [
    "The following cell add `x` permission for the user."
   ]
  },
  {
   "cell_type": "code",
   "execution_count": 3,
   "id": "b82517a1",
   "metadata": {
    "vscode": {
     "languageId": "shellscript"
    }
   },
   "outputs": [
    {
     "name": "stdout",
     "output_type": "stream",
     "text": [
      "total 4\n",
      "-rwxr--r-- 1 root root 6 Sep 27 09:31 some_file\n"
     ]
    }
   ],
   "source": [
    "chmod u+x some_file\n",
    "ls -l"
   ]
  },
  {
   "cell_type": "markdown",
   "id": "45e8bb19",
   "metadata": {},
   "source": [
    "The following code shows removing reading permission for others."
   ]
  },
  {
   "cell_type": "code",
   "execution_count": 4,
   "id": "017bc20f",
   "metadata": {
    "vscode": {
     "languageId": "shellscript"
    }
   },
   "outputs": [
    {
     "name": "stdout",
     "output_type": "stream",
     "text": [
      "total 4\n",
      "-rwxr----- 1 root root 6 Sep 27 09:31 some_file\n"
     ]
    }
   ],
   "source": [
    "chmod o-r some_file\n",
    "ls -l"
   ]
  },
  {
   "cell_type": "markdown",
   "id": "fc3ee4c4",
   "metadata": {},
   "source": [
    "The last example overwrites the permissions for all userse to `r-x`."
   ]
  },
  {
   "cell_type": "code",
   "execution_count": 7,
   "id": "1cc07b05",
   "metadata": {
    "vscode": {
     "languageId": "shellscript"
    }
   },
   "outputs": [
    {
     "name": "stdout",
     "output_type": "stream",
     "text": [
      "total 4\n",
      "-r-xr-xr-x 1 root root 6 Sep 27 09:31 some_file\n"
     ]
    }
   ],
   "source": [
    "chmod a=rx some_file\n",
    "ls -l"
   ]
  },
  {
   "cell_type": "markdown",
   "id": "fa57e5cc",
   "metadata": {},
   "source": [
    "### Octal\n",
    "\n",
    "THe Ocatal syntax uses the format `[0-7][0-7][0-7]` to set the mode. Each number corresponds to the user/group/others as ususal.\n",
    "\n",
    "To memorize which number corresponds to which permissions, assign a score to each permission type: 4-r, 2-w, and 1-x. Each permissions combination is uniquely identified by the sum of the scores. The following table shows all permissions and their correspondig number:\n",
    "\n",
    "| Permissions | Octal Value   |\n",
    "|-------------|---------------|\n",
    "| `rwx`       | 4 + 2 + 1 = 7 |\n",
    "| `rw-`       | 4 + 2 + 0 = 6 |\n",
    "| `r-x`       | 4 + 0 + 1 = 5 |\n",
    "| `r--`       | 4 + 0 + 0 = 4 |\n",
    "| `-wx`       | 0 + 2 + 1 = 3 |\n",
    "| `-w-`       | 0 + 2 + 0 = 2 |\n",
    "| `--x`       | 0 + 0 + 1 = 1 |\n",
    "| `---`       | 0 + 0 + 0 = 0 |"
   ]
  },
  {
   "cell_type": "markdown",
   "id": "5dfa86ab",
   "metadata": {},
   "source": [
    "---\n",
    "\n",
    "The following cell creates the file that we'll use as an example and displays its permissions."
   ]
  },
  {
   "cell_type": "code",
   "execution_count": 8,
   "id": "e3af9dce",
   "metadata": {
    "vscode": {
     "languageId": "shellscript"
    }
   },
   "outputs": [
    {
     "name": "stdout",
     "output_type": "stream",
     "text": [
      "total 4\n",
      "-rw-r--r-- 1 root root 6 Sep 27 09:58 some_file\n"
     ]
    }
   ],
   "source": [
    "rm -rf /tmp/chmod_octal\n",
    "mkdir /tmp/chmod_octal\n",
    "cd /tmp/chmod_octal\n",
    "echo \"Hello\" > some_file\n",
    "ls -l"
   ]
  },
  {
   "cell_type": "markdown",
   "id": "983f9413",
   "metadata": {},
   "source": [
    "The following cell changes the permissions into:\n",
    "\n",
    "- `--x` to 1 for user.\n",
    "- `-wx` to 3 for group.\n",
    "- `rwx` to 7 for others."
   ]
  },
  {
   "cell_type": "code",
   "execution_count": 9,
   "id": "78271cd8",
   "metadata": {
    "vscode": {
     "languageId": "shellscript"
    }
   },
   "outputs": [
    {
     "name": "stdout",
     "output_type": "stream",
     "text": [
      "total 4\n",
      "---x-wxrwx 1 root root 6 Sep 27 09:58 some_file\n"
     ]
    }
   ],
   "source": [
    "chmod 137 some_file\n",
    "ls -l"
   ]
  }
 ],
 "metadata": {
  "kernelspec": {
   "display_name": "Bash",
   "language": "bash",
   "name": "bash"
  },
  "language_info": {
   "codemirror_mode": "shell",
   "file_extension": ".sh",
   "mimetype": "text/x-sh",
   "name": "bash"
  }
 },
 "nbformat": 4,
 "nbformat_minor": 5
}
