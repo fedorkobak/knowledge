{
 "cells": [
  {
   "cell_type": "markdown",
   "id": "fd11e80e-9363-4f3d-ab25-20534521eb9b",
   "metadata": {},
   "source": [
    "# Approximation formula\n",
    "\n",
    "In the collaborative approach, once you have identified similar objects, you need to use them to predict preferences for items. There is a formula that allows you to do this. This formula was difficult for me to understand, so this page focuses on understanding this formula."
   ]
  },
  {
   "cell_type": "code",
   "execution_count": 4,
   "id": "e0b7930d-9e39-4650-9458-4482af82d696",
   "metadata": {},
   "outputs": [],
   "source": [
    "import numpy as np\n",
    "\n",
    "from sklearn.datasets import make_blobs"
   ]
  },
  {
   "cell_type": "markdown",
   "id": "6ac54e54-fcf3-4fff-80ad-3cb261b7925a",
   "metadata": {},
   "source": [
    "## Task generation\n",
    "\n",
    "The following cell generates an example that I'll use to show the sense of some transformations."
   ]
  },
  {
   "cell_type": "code",
   "execution_count": 8,
   "id": "e1a8f28d-0f34-4e36-88ec-afa7ea5149c1",
   "metadata": {},
   "outputs": [
    {
     "data": {
      "text/plain": [
       "array([[ 5,  8,  0,  2,  6,  3,  5,  1,  7,  5],\n",
       "       [ 6,  0,  4,  6,  3,  1,  0,  6,  0,  1],\n",
       "       [ 7, 10,  1,  4,  9,  6,  8,  4,  8,  7],\n",
       "       [ 4,  0,  2,  5,  2,  3,  5,  4,  4,  4],\n",
       "       [ 7, 10,  2,  7,  9,  8,  9,  5, 10,  8],\n",
       "       [ 4,  0,  2,  4,  3,  3,  5,  3,  4,  4],\n",
       "       [ 7,  9,  0,  5,  7,  5,  6,  2,  8,  7],\n",
       "       [10, 10,  3,  8, 10,  8,  9,  5, 10,  9],\n",
       "       [ 4,  1,  3,  6,  3,  4,  6,  4,  6,  5],\n",
       "       [ 7, 10,  1,  5,  8,  6,  8,  4, 10,  7],\n",
       "       [10,  3,  8,  9,  7,  4,  5,  9,  4,  3],\n",
       "       [ 9,  2,  7,  9,  6,  3,  3,  9,  4,  2],\n",
       "       [ 8, 10,  2,  6,  9,  7, 10,  4, 10,  8],\n",
       "       [ 8,  2,  7,  8,  7,  4,  2,  9,  3,  1],\n",
       "       [ 6,  0,  5,  5,  4,  0,  0,  6,  0,  0],\n",
       "       [ 6,  1,  5,  7,  5,  5,  6,  5,  6,  5],\n",
       "       [ 9,  2,  8,  9,  6,  4,  3,  9,  3,  2],\n",
       "       [ 9,  2,  8,  8,  7,  4,  3,  8,  3,  3],\n",
       "       [ 8,  4,  6,  9,  7,  7,  8,  7,  9,  9],\n",
       "       [ 6,  2,  5,  7,  4,  4,  7,  6,  8,  6]])"
      ]
     },
     "execution_count": 8,
     "metadata": {},
     "output_type": "execute_result"
    }
   ],
   "source": [
    "r_width = 10\n",
    "r_height = 20\n",
    "\n",
    "R, c = make_blobs(\n",
    "    n_samples=r_height,\n",
    "    n_features=r_width,\n",
    "    centers=3,\n",
    "    random_state=10\n",
    ")\n",
    "R = np.round((R-R.min())*10/(R.max()-R.min())).astype(int)\n",
    "# add bias for each object\n",
    "bias = np.random.randint(-2,3, [R.shape[0], 1])\n",
    "R = R + bias\n",
    "\n",
    "# sometimes bias can lead to ratings\n",
    "R = np.where(R<0, 0, R)\n",
    "R = np.where(R>10, 10, R)\n",
    "R"
   ]
  },
  {
   "cell_type": "markdown",
   "id": "fc2ee7ee-7774-49fd-9ccb-54014b6fa2c6",
   "metadata": {},
   "source": [
    "So let $k'$ - is object to which we need to recoomend something.\n",
    "\n",
    "So for the example under consideration we'll use $k' = 5$."
   ]
  },
  {
   "cell_type": "code",
   "execution_count": 29,
   "id": "49ef1a98-b9d4-4418-bf63-60b62e0e3862",
   "metadata": {},
   "outputs": [],
   "source": [
    "consideration_object = 5"
   ]
  },
  {
   "cell_type": "markdown",
   "id": "07ccb1bd-5719-4b88-ae0f-18938c750716",
   "metadata": {},
   "source": [
    "## Collaboration\n",
    "\n",
    "The collaboration for $k'$ object is a set of objects that we think are similar to it. We measure similarity by the Pearson correlation coefficient.\n",
    "\n",
    "So we can define similarity as the set of objects that have $c_{ik'} > c'$ or more formally $U_{k'}=\\left\\{i\\in U | c_{k'i} > c' \\right\\}$. So now we have a hyper-parameter of the algorithm $c'$ that controls how many objects are used to approximate preferences for the object."
   ]
  },
  {
   "cell_type": "markdown",
   "id": "76bcb7a9-4626-42e6-8f1e-db426b0a77da",
   "metadata": {},
   "source": [
    "The next cell shows a table with the correlation coefficients of the objects in the example with $k'=5$.  "
   ]
  },
  {
   "cell_type": "code",
   "execution_count": 94,
   "id": "ecb15e75-33dc-41e4-8ea8-fa51ef8e2836",
   "metadata": {},
   "outputs": [
    {
     "data": {
      "text/html": [
       "<table><tr><th>object</th><th>0</th><th>1</th><th>2</th><th>3</th><th>4</th><th>5</th><th>6</th><th>7</th><th>8</th><th>9</th><th>corr. coef</th></tr><tr><td>0</td><td>5</td><td>8</td><td>0</td><td>2</td><td>6</td><td>3</td><td>5</td><td>1</td><td>7</td><td>5</td><td>-0.10326002528434573</td></tr><tr><td>1</td><td>6</td><td>0</td><td>4</td><td>6</td><td>3</td><td>1</td><td>0</td><td>6</td><td>0</td><td>1</td><td>0.10889310129609414</td></tr><tr><td>2</td><td>7</td><td>10</td><td>1</td><td>4</td><td>9</td><td>6</td><td>8</td><td>4</td><td>8</td><td>7</td><td>-0.05265409243510224</td></tr><tr><td>3</td><td>4</td><td>0</td><td>2</td><td>5</td><td>2</td><td>3</td><td>5</td><td>4</td><td>4</td><td>4</td><td>0.9329650014620617</td></tr><tr><td>4</td><td>7</td><td>10</td><td>2</td><td>7</td><td>9</td><td>8</td><td>9</td><td>5</td><td>10</td><td>8</td><td>0.09686495246396676</td></tr><tr><td>6</td><td>7</td><td>9</td><td>0</td><td>5</td><td>7</td><td>5</td><td>6</td><td>2</td><td>8</td><td>7</td><td>0.02305714879553583</td></tr><tr><td>7</td><td>10</td><td>10</td><td>3</td><td>8</td><td>10</td><td>8</td><td>9</td><td>5</td><td>10</td><td>9</td><td>0.18582615562066462</td></tr><tr><td>8</td><td>4</td><td>1</td><td>3</td><td>6</td><td>3</td><td>4</td><td>6</td><td>4</td><td>6</td><td>5</td><td>0.9126423311754246</td></tr><tr><td>9</td><td>7</td><td>10</td><td>1</td><td>5</td><td>8</td><td>6</td><td>8</td><td>4</td><td>10</td><td>7</td><td>0.023057148795535807</td></tr><tr><td>10</td><td>10</td><td>3</td><td>8</td><td>9</td><td>7</td><td>4</td><td>5</td><td>9</td><td>4</td><td>3</td><td>0.19423866385605462</td></tr><tr><td>11</td><td>9</td><td>2</td><td>7</td><td>9</td><td>6</td><td>3</td><td>3</td><td>9</td><td>4</td><td>2</td><td>0.1669080657484049</td></tr><tr><td>12</td><td>8</td><td>10</td><td>2</td><td>6</td><td>9</td><td>7</td><td>10</td><td>4</td><td>10</td><td>8</td><td>0.15211182259029538</td></tr><tr><td>13</td><td>8</td><td>2</td><td>7</td><td>8</td><td>7</td><td>4</td><td>2</td><td>9</td><td>3</td><td>1</td><td>0.021201148709356403</td></tr><tr><td>14</td><td>6</td><td>0</td><td>5</td><td>5</td><td>4</td><td>0</td><td>0</td><td>6</td><td>0</td><td>0</td><td>0.022727272727272797</td></tr><tr><td>15</td><td>6</td><td>1</td><td>5</td><td>7</td><td>5</td><td>5</td><td>6</td><td>5</td><td>6</td><td>5</td><td>0.8866371561161843</td></tr><tr><td>16</td><td>9</td><td>2</td><td>8</td><td>9</td><td>6</td><td>4</td><td>3</td><td>9</td><td>3</td><td>2</td><td>0.10497277621629558</td></tr><tr><td>17</td><td>9</td><td>2</td><td>8</td><td>8</td><td>7</td><td>4</td><td>3</td><td>8</td><td>3</td><td>3</td><td>0.11692108443873361</td></tr><tr><td>18</td><td>8</td><td>4</td><td>6</td><td>9</td><td>7</td><td>7</td><td>8</td><td>7</td><td>9</td><td>9</td><td>0.9166236215788701</td></tr><tr><td>19</td><td>6</td><td>2</td><td>5</td><td>7</td><td>4</td><td>4</td><td>7</td><td>6</td><td>8</td><td>6</td><td>0.8483495563132981</td></tr></table>"
      ],
      "text/plain": [
       "<IPython.core.display.HTML object>"
      ]
     },
     "execution_count": 94,
     "metadata": {},
     "output_type": "execute_result"
    }
   ],
   "source": [
    "objects_values = np.concatenate([\n",
    "    np.arange(0,consideration_object), \n",
    "    np.arange(consideration_object+1, R.shape[0])\n",
    "])\n",
    "\n",
    "header = (\n",
    "    \"<tr>\" + \n",
    "        \"<th>object</th>\" + \n",
    "        \"\".join([f\"<th>{str(i)}</th>\" for i in range(R.shape[1])]) +\n",
    "        \"<th>corr. coef</th>\"\n",
    "    \"</tr>\"\n",
    ")\n",
    "\n",
    "content = \"\".join([\n",
    "    (\n",
    "        \"<tr>\" + \n",
    "        f\"<td>{obj}</td>\" + \n",
    "        \"\".join([f\"<td>{val}</td>\" for val in R[obj,:]]) +\n",
    "        f\"<td>{str(c[i])}</td>\" + \n",
    "        \"</tr>\"\n",
    "    )\n",
    "    for i, obj in enumerate(objects_values)\n",
    "])\n",
    "HTML(\"<table>\" + header + content + \"</table>\")"
   ]
  }
 ],
 "metadata": {
  "kernelspec": {
   "display_name": "Python 3 (ipykernel)",
   "language": "python",
   "name": "python3"
  },
  "language_info": {
   "codemirror_mode": {
    "name": "ipython",
    "version": 3
   },
   "file_extension": ".py",
   "mimetype": "text/x-python",
   "name": "python",
   "nbconvert_exporter": "python",
   "pygments_lexer": "ipython3",
   "version": "3.10.12"
  }
 },
 "nbformat": 4,
 "nbformat_minor": 5
}
