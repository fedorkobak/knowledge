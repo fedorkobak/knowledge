{
 "cells": [
  {
   "cell_type": "markdown",
   "id": "da342fe0-38de-4c45-bd4b-12310de0dcc9",
   "metadata": {},
   "source": [
    "# Padding (in space)"
   ]
  },
  {
   "cell_type": "markdown",
   "id": "964fe0ce-591b-4c1a-b979-8b3b9429de3a",
   "metadata": {},
   "source": [
    "By using this property you can set distance between element borders and it's content. Use following syntax:\n",
    "\n",
    "- `padding-<top/left/right/bottom>: <value>`;\n",
    "- `padding: <value for all sides>`;\n",
    "- `padding: <top and bottom> <left and right>`;\n",
    "- `padding: <top> <left and right> <bottom>`;\n",
    "- `padding: <top> <right> <bottom> <left>`.\n",
    "\n",
    "Available values:\n",
    "\n",
    "- px, cm, em, % etc;\n",
    "- inherit - take the same value as the parent;"
   ]
  },
  {
   "cell_type": "code",
   "execution_count": 36,
   "id": "35ed11f7-5bc9-4899-8e5b-45bd88774a6a",
   "metadata": {},
   "outputs": [
    {
     "data": {
      "text/html": [
       "<div style=\"margin: 20px 40%; padding: 15px; border:solid\">\n",
       "    <div style=\"padding: 50px;border:solid\"> I have 50px padding</div>\n",
       "    <div style=\"padding: inherit;border:solid\"> I have inherited padding</div>\n",
       "    <div style=\"padding: 30px 40%;border:solid\"> I have 30px 40% padding</div>\n",
       "</div>\n"
      ],
      "text/plain": [
       "<IPython.core.display.HTML object>"
      ]
     },
     "metadata": {},
     "output_type": "display_data"
    }
   ],
   "source": [
    "%%HTML\n",
    "<div style=\"margin: 20px 40%; padding: 15px; border:solid\">\n",
    "    <div style=\"padding: 50px;border:solid\"> I have 50px padding</div>\n",
    "    <div style=\"padding: inherit;border:solid\"> I have inherited padding</div>\n",
    "    <div style=\"padding: 30px 40%;border:solid\"> I have 30px 40% padding</div>\n",
    "</div>"
   ]
  }
 ],
 "metadata": {
  "kernelspec": {
   "display_name": "Python 3 (ipykernel)",
   "language": "python",
   "name": "python3"
  },
  "language_info": {
   "codemirror_mode": {
    "name": "ipython",
    "version": 3
   },
   "file_extension": ".py",
   "mimetype": "text/x-python",
   "name": "python",
   "nbconvert_exporter": "python",
   "pygments_lexer": "ipython3",
   "version": "3.10.12"
  }
 },
 "nbformat": 4,
 "nbformat_minor": 5
}
