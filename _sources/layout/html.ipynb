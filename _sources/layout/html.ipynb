{
 "cells": [
  {
   "cell_type": "markdown",
   "id": "0425d2e4",
   "metadata": {},
   "source": [
    "# HTML\n",
    "\n",
    "**H**yber **T**ext **M**arkdown **L**anguage is a format that is used to represent information. Mostly it is popular for publishing information in internet, and all that we used to understand as \"browser\" actually a programs to display HTML in them."
   ]
  },
  {
   "cell_type": "markdown",
   "id": "3dd27cd6",
   "metadata": {},
   "source": [
    "## Lists\n",
    "\n",
    "The set of tags that are typically used to create lists in HTML pages is shows in the following table.\n",
    "\n",
    "| HTML Tag     | Description                             | Example Usage               |\n",
    "|--------------|-----------------------------------------|-----------------------------|\n",
    "| `<ul>`       | Unordered list (bulleted list)          | `<ul><li>Item</li></ul>`    |\n",
    "| `<ol>`       | Ordered list (numbered list)            | `<ol><li>Item</li></ol>`    |\n",
    "| `<li>`       | List item (used inside `<ul>` or `<ol>`) | `<li>Item</li>`             |\n",
    "| `<dl>`       | Description list                        | `<dl><dt>Term</dt><dd>Def</dd></dl>` |\n",
    "| `<dt>`       | Term in a description list              | `<dt>HTML</dt>`             |\n",
    "| `<dd>`       | Description of the term                 | `<dd>HyperText Markup Language</dd>` |\n",
    "\n",
    "Check more details in the [corresponding page](html/lists.ipynb)."
   ]
  },
  {
   "cell_type": "markdown",
   "id": "a6cc424f",
   "metadata": {},
   "source": [
    "---\n",
    "\n",
    "The following cell shows an example of the list in HTML."
   ]
  },
  {
   "cell_type": "code",
   "execution_count": 5,
   "id": "1a828fae",
   "metadata": {
    "vscode": {
     "languageId": "html"
    }
   },
   "outputs": [
    {
     "data": {
      "text/html": [
       "<ul>\n",
       "    <li>this</li>\n",
       "    <li>is</li>\n",
       "    <li>list</li>\n",
       "</ul>\n"
      ],
      "text/plain": [
       "<IPython.core.display.HTML object>"
      ]
     },
     "metadata": {},
     "output_type": "display_data"
    }
   ],
   "source": [
    "%%HTML\n",
    "<ul>\n",
    "    <li>this</li>\n",
    "    <li>is</li>\n",
    "    <li>list</li>\n",
    "</ul>"
   ]
  },
  {
   "cell_type": "markdown",
   "id": "495c6e93",
   "metadata": {},
   "source": [
    "## Tables\n",
    "\n",
    "The table below shows HTML tags that are used for building HTML tables.\n",
    "\n",
    "| HTML Tag     | Description                                | Example Usage                        |\n",
    "|--------------|--------------------------------------------|--------------------------------------|\n",
    "| `<table>`    | Defines a table                             | `<table>...</table>`                 |\n",
    "| `<tr>`       | Defines a row in the table                  | `<tr>...</tr>`                       |\n",
    "| `<td>`       | Defines a standard cell (table data)        | `<td>Data</td>`                      |\n",
    "| `<th>`       | Defines a header cell                       | `<th>Header</th>`                    |\n",
    "| `<thead>`    | Groups the header content in a table        | `<thead><tr><th>...</th></tr></thead>` |\n",
    "| `<tbody>`    | Groups the body content in a table          | `<tbody><tr><td>...</td></tr></tbody>` |\n",
    "| `<tfoot>`    | Groups the footer content in a table        | `<tfoot><tr><td>...</td></tr></tfoot>` |\n",
    "| `<caption>`  | Adds a caption or title for the table       | `<caption>Table Title</caption>`     |\n",
    "| `<col>`      | Defines column properties                   | `<col style=\"width:50%\">`            |\n",
    "| `<colgroup>` | Groups columns to apply styles              | `<colgroup><col>...</colgroup>`      |\n",
    "\n",
    "See the description with examples in the [special page](html/tables.ipynb)."
   ]
  },
  {
   "cell_type": "markdown",
   "id": "55645e69",
   "metadata": {},
   "source": [
    "---\n",
    "\n",
    "The following is a simple example of the table in HTML."
   ]
  },
  {
   "cell_type": "code",
   "execution_count": null,
   "id": "0a1d2ccb",
   "metadata": {
    "vscode": {
     "languageId": "html"
    }
   },
   "outputs": [
    {
     "data": {
      "text/html": [
       "<table>\n",
       "    <tr>\n",
       "        <td>row1 cell1</td>\n",
       "        <td>row1 cell2</td>\n",
       "    </tr>\n",
       "    <tr>\n",
       "        <td>row2 cell1</td>\n",
       "        <td>row2 cell2</td>\n",
       "    </tr>\n",
       "</table>\n"
      ],
      "text/plain": [
       "<IPython.core.display.HTML object>"
      ]
     },
     "metadata": {},
     "output_type": "display_data"
    }
   ],
   "source": [
    "%%HTML\n",
    "<table>\n",
    "    <tr>\n",
    "        <td>row1 cell1</td>\n",
    "        <td>row1 cell2</td>\n",
    "    </tr>\n",
    "    <tr>\n",
    "        <td>row2 cell1</td>\n",
    "        <td>row2 cell2</td>\n",
    "    </tr>\n",
    "</table>"
   ]
  },
  {
   "cell_type": "markdown",
   "id": "7468d678",
   "metadata": {
    "vscode": {
     "languageId": "html"
    }
   },
   "source": [
    "## SVG\n",
    "\n",
    "**S**calable **V**ector **G**raphics is a way to draw iamges in the HTML documents. The following table shows the most common tags used to create SVG graphics.\n",
    "\n",
    "| SVG Tag    | Description                                | Example                            |\n",
    "|------------|--------------------------------------------|------------------------------------|\n",
    "| `<svg>`    | Root container for SVG graphics            | `<svg width=\"100\" height=\"100\">...</svg>` |\n",
    "| `<circle>` | Draws a circle                             | `<circle cx=\"50\" cy=\"50\" r=\"40\" />`       |\n",
    "| `<rect>`   | Draws a rectangle                          | `<rect x=\"10\" y=\"10\" width=\"80\" height=\"50\" />` |\n",
    "| `<line>`   | Draws a straight line                      | `<line x1=\"0\" y1=\"0\" x2=\"100\" y2=\"100\" />` |\n",
    "| `<ellipse>`| Draws an ellipse                           | `<ellipse cx=\"50\" cy=\"50\" rx=\"30\" ry=\"20\" />` |\n",
    "| `<polygon>`| Draws a closed shape with multiple points  | `<polygon points=\"50,0 100,100 0,100\" />` |\n",
    "| `<polyline>`| Draws an open shape with multiple points | `<polyline points=\"0,0 50,50 100,0\" />` |\n",
    "| `<path>`   | Draws complex shapes with path data        | `<path d=\"M10 10 H 90 V 90 H 10 Z\" />` |\n",
    "| `<text>`   | Adds text within the SVG                   | `<text x=\"10\" y=\"50\">Hello</text>`        |\n",
    "\n",
    "For details on SVG graphics, see the mdn [documentation page](https://developer.mozilla.org/en-US/docs/Web/SVG/Tutorials/SVG_from_scratch).\n"
   ]
  },
  {
   "cell_type": "markdown",
   "id": "032c2e6f",
   "metadata": {},
   "source": [
    "---\n",
    "\n",
    "The example in the next cell shows SVG code to create a smile."
   ]
  },
  {
   "cell_type": "code",
   "execution_count": 13,
   "id": "9e5d1a34",
   "metadata": {},
   "outputs": [
    {
     "data": {
      "text/html": [
       "<svg width=\"200\" height=\"200\">\n",
       "  <circle cx=\"100\" cy=\"100\" r=\"80\" fill=\"yellow\" stroke=\"black\" stroke-width=\"4\" />\n",
       "  <circle cx=\"70\" cy=\"80\" r=\"10\" fill=\"black\" />\n",
       "  <circle cx=\"130\" cy=\"80\" r=\"10\" fill=\"black\" />\n",
       "  <path d=\"M60,130 Q100,170 140,130\" stroke=\"black\" stroke-width=\"5\" fill=\"transparent\" />\n",
       "</svg>\n"
      ],
      "text/plain": [
       "<IPython.core.display.HTML object>"
      ]
     },
     "metadata": {},
     "output_type": "display_data"
    }
   ],
   "source": [
    "%%HTML\n",
    "<svg width=\"200\" height=\"200\">\n",
    "  <circle cx=\"100\" cy=\"100\" r=\"80\" fill=\"yellow\" stroke=\"black\" stroke-width=\"4\" />\n",
    "  <circle cx=\"70\" cy=\"80\" r=\"10\" fill=\"black\" />\n",
    "  <circle cx=\"130\" cy=\"80\" r=\"10\" fill=\"black\" />\n",
    "  <path d=\"M60,130 Q100,170 140,130\" stroke=\"black\" stroke-width=\"5\" fill=\"transparent\" />\n",
    "</svg>\n"
   ]
  }
 ],
 "metadata": {
  "kernelspec": {
   "display_name": "knowledge",
   "language": "python",
   "name": "python3"
  },
  "language_info": {
   "codemirror_mode": {
    "name": "ipython",
    "version": 3
   },
   "file_extension": ".py",
   "mimetype": "text/x-python",
   "name": "python",
   "nbconvert_exporter": "python",
   "pygments_lexer": "ipython3",
   "version": "3.12.9"
  }
 },
 "nbformat": 4,
 "nbformat_minor": 5
}
