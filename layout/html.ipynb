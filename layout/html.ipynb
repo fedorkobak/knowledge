{
 "cells": [
  {
   "cell_type": "markdown",
   "id": "0425d2e4",
   "metadata": {},
   "source": [
    "# HTML\n",
    "\n",
    "**H**yber **T**ext **M**arkdown **L**anguage is a format that is used to represent information. Mostly it is popular for publishing information in internet, and all that we used to understand as \"browser\" actually a programs to display HTML in them."
   ]
  },
  {
   "cell_type": "markdown",
   "id": "3dd27cd6",
   "metadata": {},
   "source": [
    "## Lists\n",
    "\n",
    "The set of tags that are typically used to create lists in HTML pages is shows in the following table.\n",
    "\n",
    "| HTML Tag     | Description                             | Example Usage               |\n",
    "|--------------|-----------------------------------------|-----------------------------|\n",
    "| `<ul>`       | Unordered list (bulleted list)          | `<ul><li>Item</li></ul>`    |\n",
    "| `<ol>`       | Ordered list (numbered list)            | `<ol><li>Item</li></ol>`    |\n",
    "| `<li>`       | List item (used inside `<ul>` or `<ol>`) | `<li>Item</li>`             |\n",
    "| `<dl>`       | Description list                        | `<dl><dt>Term</dt><dd>Def</dd></dl>` |\n",
    "| `<dt>`       | Term in a description list              | `<dt>HTML</dt>`             |\n",
    "| `<dd>`       | Description of the term                 | `<dd>HyperText Markup Language</dd>` |\n",
    "\n",
    "Check more details in the [corresponding page](html/lists.ipynb)."
   ]
  },
  {
   "cell_type": "markdown",
   "id": "a6cc424f",
   "metadata": {},
   "source": [
    "---\n",
    "\n",
    "The following cell shows an example of the list in HTML."
   ]
  },
  {
   "cell_type": "code",
   "execution_count": 5,
   "id": "1a828fae",
   "metadata": {
    "vscode": {
     "languageId": "html"
    }
   },
   "outputs": [
    {
     "data": {
      "text/html": [
       "<ul>\n",
       "    <li>this</li>\n",
       "    <li>is</li>\n",
       "    <li>list</li>\n",
       "</ul>\n"
      ],
      "text/plain": [
       "<IPython.core.display.HTML object>"
      ]
     },
     "metadata": {},
     "output_type": "display_data"
    }
   ],
   "source": [
    "%%HTML\n",
    "<ul>\n",
    "    <li>this</li>\n",
    "    <li>is</li>\n",
    "    <li>list</li>\n",
    "</ul>"
   ]
  }
 ],
 "metadata": {
  "kernelspec": {
   "display_name": "knowledge",
   "language": "python",
   "name": "python3"
  },
  "language_info": {
   "codemirror_mode": {
    "name": "ipython",
    "version": 3
   },
   "file_extension": ".py",
   "mimetype": "text/x-python",
   "name": "python",
   "nbconvert_exporter": "python",
   "pygments_lexer": "ipython3",
   "version": "3.12.9"
  }
 },
 "nbformat": 4,
 "nbformat_minor": 5
}
