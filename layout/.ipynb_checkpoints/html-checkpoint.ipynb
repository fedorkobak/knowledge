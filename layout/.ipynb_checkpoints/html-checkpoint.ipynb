{
 "cells": [
  {
   "cell_type": "markdown",
   "id": "7f635060-db8a-4bb6-838a-e8edf5ffba9d",
   "metadata": {},
   "source": [
    "# HTML"
   ]
  },
  {
   "cell_type": "code",
   "execution_count": 2,
   "id": "90df8756-42dc-49f3-a5f3-d0e149e5635d",
   "metadata": {},
   "outputs": [
    {
     "data": {
      "text/html": [
       "\n",
       "<head>\n",
       "    <style>\n",
       "        h1 {text-align:center}\n",
       "    </style>\n",
       "</head>\n"
      ],
      "text/plain": [
       "<IPython.core.display.HTML object>"
      ]
     },
     "execution_count": 2,
     "metadata": {},
     "output_type": "execute_result"
    }
   ],
   "source": [
    "from IPython.display import HTML\n",
    "\n",
    "HTML('''\n",
    "<head>\n",
    "    <style>\n",
    "        h1 {text-align:center}\n",
    "    </style>\n",
    "</head>\n",
    "''')"
   ]
  },
  {
   "cell_type": "markdown",
   "id": "f0d16746-aced-4f2e-b808-b8f325c7e417",
   "metadata": {},
   "source": [
    "# Common attributes"
   ]
  },
  {
   "cell_type": "markdown",
   "id": "43a16c95-df0a-4638-a1cc-db65843773b0",
   "metadata": {},
   "source": [
    "## **`id` - object identificator**"
   ]
  },
  {
   "cell_type": "markdown",
   "id": "7266442f-d461-4b35-b132-ea33c737dcb3",
   "metadata": {},
   "source": [
    "## **`style` set a style of element**\n",
    "\n",
    "Allows to use integrated CSS for html elements.\n",
    "\n",
    "`<property1 name>:<setted value>;<property2 name>:<setted value>;...;<propertyn name>:<setted value>`"
   ]
  },
  {
   "cell_type": "code",
   "execution_count": 8,
   "id": "441cf787-ae71-4dec-83a7-bbb43ec8ef1e",
   "metadata": {},
   "outputs": [
    {
     "data": {
      "text/html": [
       "\n",
       "    <p style=\"color:blue\">Blue text color</p>\n",
       "    <p style=\"background:red\">Red background color</p>\n",
       "    <p style=\"background:red;color:blue\">Red background color</p>\n",
       "    "
      ],
      "text/plain": [
       "<IPython.core.display.HTML object>"
      ]
     },
     "execution_count": 8,
     "metadata": {},
     "output_type": "execute_result"
    }
   ],
   "source": [
    "HTML(\n",
    "    '''\n",
    "    <p style=\"color:blue\">Blue text color</p>\n",
    "    <p style=\"background:red\">Red background color</p>\n",
    "    <p style=\"background:red;color:blue\">Red background color</p>\n",
    "    '''\n",
    ")"
   ]
  },
  {
   "cell_type": "markdown",
   "id": "558b87a1-c836-45b6-84ab-69616d8cc608",
   "metadata": {},
   "source": [
    "## **`title` - hint text**\n",
    "\n",
    "If you hold the mouse for some time on the element created by the tag with the title attribute - close to the mouse, a small hint appears. So try it wit text which is the result for the next cell."
   ]
  },
  {
   "cell_type": "code",
   "execution_count": 6,
   "id": "e3b0a051-a479-4a29-9ded-925967e86124",
   "metadata": {},
   "outputs": [
    {
     "data": {
      "text/html": [
       "\n",
       "    <p title=\"hello im title\">Blue text color</p>\n",
       "    "
      ],
      "text/plain": [
       "<IPython.core.display.HTML object>"
      ]
     },
     "execution_count": 6,
     "metadata": {},
     "output_type": "execute_result"
    }
   ],
   "source": [
    "HTML(\n",
    "    '''\n",
    "    <p title=\"hello im title\">text with title</p>\n",
    "    '''\n",
    ")"
   ]
  },
  {
   "cell_type": "markdown",
   "id": "d4dcc10f-c94b-40c4-ba26-8d586fc33c88",
   "metadata": {},
   "source": [
    "# Text format tags"
   ]
  },
  {
   "cell_type": "markdown",
   "id": "5a843d60-8e76-4739-81ac-baa74e0d38da",
   "metadata": {},
   "source": [
    "## **`<p>` - paragraph**\n",
    "\n",
    "Creates a new paragraph."
   ]
  },
  {
   "cell_type": "code",
   "execution_count": 9,
   "id": "06ea3505-da20-4e18-b5b6-2771629f67b6",
   "metadata": {},
   "outputs": [
    {
     "data": {
      "text/html": [
       "\n",
       "    <p>Paragraph 1</p><p>Paragraph 2</p><p>...</p><p>Paragraph n</p>\n",
       "    "
      ],
      "text/plain": [
       "<IPython.core.display.HTML object>"
      ]
     },
     "execution_count": 9,
     "metadata": {},
     "output_type": "execute_result"
    }
   ],
   "source": [
    "HTML(\n",
    "    '''\n",
    "    <p>Paragraph 1</p><p>Paragraph 2</p><p>...</p><p>Paragraph n</p>\n",
    "    '''\n",
    ")"
   ]
  },
  {
   "cell_type": "markdown",
   "id": "783753b5-f985-49f7-8511-e302cae1550e",
   "metadata": {},
   "source": [
    "## **`<hr>` - thematic break**\n",
    "\n",
    "It will be displayed as horizontal line by page width."
   ]
  },
  {
   "cell_type": "code",
   "execution_count": 4,
   "id": "d4026a2f-0071-46cd-80b5-d2149c41c374",
   "metadata": {},
   "outputs": [
    {
     "data": {
      "text/html": [
       "\n",
       "Text with sence 1\n",
       "<hr>\n",
       "Text with sence 2\n"
      ],
      "text/plain": [
       "<IPython.core.display.HTML object>"
      ]
     },
     "execution_count": 4,
     "metadata": {},
     "output_type": "execute_result"
    }
   ],
   "source": [
    "HTML('''\n",
    "Text with sence 1\n",
    "<hr>\n",
    "Text with sence 2\n",
    "''')"
   ]
  },
  {
   "cell_type": "markdown",
   "id": "030d72df-85da-40c8-8732-6f5b3e5274be",
   "metadata": {},
   "source": [
    "## **`<span>`**\n",
    "\n",
    "This tag exists to assign different styles to the text, without getting any unintended changes set by the style.\n",
    "\n",
    "In following example i use style with `<div>` tag and `<span>` tag:\n",
    "\n",
    "- `<div>` tag sets the text in a separate paragraph;\n",
    "- `<span>` tag just apply font style to text."
   ]
  },
  {
   "cell_type": "code",
   "execution_count": 3,
   "id": "68667ecf-22c2-4e9b-9c04-5447f355fdb6",
   "metadata": {},
   "outputs": [
    {
     "data": {
      "text/html": [
       "\n",
       "    <span style=\"color:red\">Text</span> surrounded by snap.\n",
       "    <div style=\"color:red\">Text</div> surrounded by div.    \n",
       "    "
      ],
      "text/plain": [
       "<IPython.core.display.HTML object>"
      ]
     },
     "execution_count": 3,
     "metadata": {},
     "output_type": "execute_result"
    }
   ],
   "source": [
    "HTML(\n",
    "    '''\n",
    "    <span style=\"color:red\">Text</span> surrounded by snap.\n",
    "    <div style=\"color:red\">Text</div> surrounded by div.    \n",
    "    '''\n",
    ")"
   ]
  },
  {
   "cell_type": "markdown",
   "id": "dac73acd-2ea0-49da-9515-8444e6a8e024",
   "metadata": {},
   "source": [
    "## **`<pre>` - preformatted text**\n",
    "\n",
    "The `<pre>` tag in HTML is used to define preformatted text, which preserves both spaces and line breaks. It is commonly used to display code snippets or other types of text that require a fixed-width font and exact formatting.\n",
    "\n",
    "So in the following example, аor the first two stanzas I do not use the `<pre>` tag for the remaining ones I use:"
   ]
  },
  {
   "cell_type": "code",
   "execution_count": 6,
   "id": "76215cf8-4547-4ee6-b1b4-888f5f35e52c",
   "metadata": {},
   "outputs": [
    {
     "data": {
      "text/html": [
       "\n",
       "    In the realm of dreams we wander,\n",
       "    Where reality is torn asunder.\n",
       "    Whispers of love and tales untold,\n",
       "    A symphony of emotions, bold.\n",
       "    \n",
       "    Stars dance upon a velvet sky,\n",
       "    As moonbeams paint a lullaby.\n",
       "    Nature's canvas, a masterpiece,\n",
       "    Where hearts find solace and peace.\n",
       "    <pre>\n",
       "    \n",
       "    Through winding paths we tread,\n",
       "    Seeking answers that lie ahead.\n",
       "    Life's tapestry, a vibrant hue,\n",
       "    Each moment, a story to pursue.\n",
       "    \n",
       "    So let us cherish this fleeting rhyme,\n",
       "    Embrace the beauty in every chime.\n",
       "    For in these words, a glimpse we find,\n",
       "    Of the magic that dwells in mankind.\n",
       "    </pre>\n",
       "    "
      ],
      "text/plain": [
       "<IPython.core.display.HTML object>"
      ]
     },
     "execution_count": 6,
     "metadata": {},
     "output_type": "execute_result"
    }
   ],
   "source": [
    "HTML(\n",
    "    '''\n",
    "    In the realm of dreams we wander,\n",
    "    Where reality is torn asunder.\n",
    "    Whispers of love and tales untold,\n",
    "    A symphony of emotions, bold.\n",
    "    \n",
    "    Stars dance upon a velvet sky,\n",
    "    As moonbeams paint a lullaby.\n",
    "    Nature's canvas, a masterpiece,\n",
    "    Where hearts find solace and peace.\n",
    "    <pre>\n",
    "    \n",
    "    Through winding paths we tread,\n",
    "    Seeking answers that lie ahead.\n",
    "    Life's tapestry, a vibrant hue,\n",
    "    Each moment, a story to pursue.\n",
    "    \n",
    "    So let us cherish this fleeting rhyme,\n",
    "    Embrace the beauty in every chime.\n",
    "    For in these words, a glimpse we find,\n",
    "    Of the magic that dwells in mankind.\n",
    "    </pre>\n",
    "    '''\n",
    ")"
   ]
  },
  {
   "cell_type": "markdown",
   "id": "5acf1a6e-fe6e-442c-8d34-95cb0d489130",
   "metadata": {},
   "source": [
    "## **`<i>` - italic**"
   ]
  },
  {
   "cell_type": "code",
   "execution_count": 18,
   "id": "d338a2c3-6480-46f6-b8ef-77ebd15964e0",
   "metadata": {},
   "outputs": [
    {
     "data": {
      "text/html": [
       "<i>Some emphasized text</i>"
      ],
      "text/plain": [
       "<IPython.core.display.HTML object>"
      ]
     },
     "execution_count": 18,
     "metadata": {},
     "output_type": "execute_result"
    }
   ],
   "source": [
    "HTML('<i>Some emphasized text</i>')"
   ]
  },
  {
   "cell_type": "markdown",
   "id": "b026fb79-2969-4ce6-93c1-1427e4d69c12",
   "metadata": {},
   "source": [
    "## **`<em>` - important italic**\n",
    "\n",
    "It looks just like bold but It has special importance for search engines."
   ]
  },
  {
   "cell_type": "code",
   "execution_count": 3,
   "id": "72fffd59-c76f-48e5-a9a0-4b6920523d28",
   "metadata": {},
   "outputs": [
    {
     "data": {
      "text/html": [
       "<em>Some emphasized text</em>"
      ],
      "text/plain": [
       "<IPython.core.display.HTML object>"
      ]
     },
     "execution_count": 3,
     "metadata": {},
     "output_type": "execute_result"
    }
   ],
   "source": [
    "HTML('<em>Some emphasized text</em>')"
   ]
  },
  {
   "cell_type": "markdown",
   "id": "daf874af-2806-497a-901c-a0ef60f094c1",
   "metadata": {},
   "source": [
    "## **`<dfn>` - tag for definitions**\n",
    "\n",
    "If you want to define smt. you should use this tag. By default it is displayed in italics."
   ]
  },
  {
   "cell_type": "code",
   "execution_count": 24,
   "id": "811b0e80-c92a-4887-98e7-c4ff6e5752a3",
   "metadata": {},
   "outputs": [
    {
     "data": {
      "text/html": [
       "<dfn>Definition</dfn>"
      ],
      "text/plain": [
       "<IPython.core.display.HTML object>"
      ]
     },
     "execution_count": 24,
     "metadata": {},
     "output_type": "execute_result"
    }
   ],
   "source": [
    "HTML('<dfn>Definition</dfn>')"
   ]
  },
  {
   "cell_type": "markdown",
   "id": "2249f99b-9c97-421e-ad70-abf322004d39",
   "metadata": {},
   "source": [
    "## **`<b>` - bold**"
   ]
  },
  {
   "cell_type": "code",
   "execution_count": 17,
   "id": "41477686-ecf4-45d8-a6f0-fc31dd4626cf",
   "metadata": {},
   "outputs": [
    {
     "data": {
      "text/html": [
       "<b>Some emphasized text</b>"
      ],
      "text/plain": [
       "<IPython.core.display.HTML object>"
      ]
     },
     "execution_count": 17,
     "metadata": {},
     "output_type": "execute_result"
    }
   ],
   "source": [
    "HTML('<b>Some emphasized text</b>')"
   ]
  },
  {
   "cell_type": "markdown",
   "id": "8d258169-66ab-464f-9469-2dd775065aad",
   "metadata": {},
   "source": [
    "## **`<strong>` -  inportant bold**\n",
    "\n",
    "It looks just like bold but It has special importance for search engines."
   ]
  },
  {
   "cell_type": "code",
   "execution_count": 4,
   "id": "a948bb23-384f-4b67-b913-e350bd0c2cf9",
   "metadata": {},
   "outputs": [
    {
     "data": {
      "text/html": [
       "<strong>Some emphasized text</strong>"
      ],
      "text/plain": [
       "<IPython.core.display.HTML object>"
      ]
     },
     "execution_count": 4,
     "metadata": {},
     "output_type": "execute_result"
    }
   ],
   "source": [
    "HTML('<strong>Some emphasized text</strong>')"
   ]
  },
  {
   "cell_type": "markdown",
   "id": "4910523f-2702-45c3-9c6f-45c50ff9570a",
   "metadata": {},
   "source": [
    "## **`<small>` - smaller text**\n",
    "\n",
    "Text surrounded by this tag will be one size smaller than the parent font."
   ]
  },
  {
   "cell_type": "code",
   "execution_count": 19,
   "id": "619eebd1-95d6-48aa-a0d9-e611e4f24992",
   "metadata": {},
   "outputs": [
    {
     "data": {
      "text/html": [
       "\n",
       "    <p>Parent font1 <small>small font</small> parent font2</p>\n",
       "    "
      ],
      "text/plain": [
       "<IPython.core.display.HTML object>"
      ]
     },
     "execution_count": 19,
     "metadata": {},
     "output_type": "execute_result"
    }
   ],
   "source": [
    "HTML(\n",
    "    '''\n",
    "    <p>Parent font1 <small>small font</small> parent font2</p>\n",
    "    '''\n",
    ")"
   ]
  },
  {
   "cell_type": "markdown",
   "id": "75279bde-ce9f-4d55-938e-47fd3872687a",
   "metadata": {},
   "source": [
    "## **`<del>` - deleted info**\n",
    "\n",
    "This tag is used to mark outdated information that should be deleted from the document. This will look like crossed out text."
   ]
  },
  {
   "cell_type": "code",
   "execution_count": 20,
   "id": "44b01797-6ccc-4130-bf86-a4c4049881ef",
   "metadata": {},
   "outputs": [
    {
     "data": {
      "text/html": [
       "\n",
       "    <del> outdated information</del>\n",
       "    "
      ],
      "text/plain": [
       "<IPython.core.display.HTML object>"
      ]
     },
     "execution_count": 20,
     "metadata": {},
     "output_type": "execute_result"
    }
   ],
   "source": [
    "HTML(\n",
    "    '''\n",
    "    <del> outdated information</del>\n",
    "    '''\n",
    ")"
   ]
  },
  {
   "cell_type": "markdown",
   "id": "581d2b44-b2a7-43e2-84ae-4c1163df2a19",
   "metadata": {},
   "source": [
    "## **`<u>` - underlined text**\n",
    "\n",
    "Text which just will be showen as underlined."
   ]
  },
  {
   "cell_type": "code",
   "execution_count": 22,
   "id": "fd1d55ab-ab82-438b-a86f-92c925353ac5",
   "metadata": {},
   "outputs": [
    {
     "data": {
      "text/html": [
       "\n",
       "    <u>Just underlined text</u>\n",
       "    "
      ],
      "text/plain": [
       "<IPython.core.display.HTML object>"
      ]
     },
     "execution_count": 22,
     "metadata": {},
     "output_type": "execute_result"
    }
   ],
   "source": [
    "HTML(\n",
    "    '''\n",
    "    <u>Just underlined text</u>\n",
    "    '''\n",
    ")"
   ]
  },
  {
   "cell_type": "markdown",
   "id": "3fafee2f-926d-45af-b764-9c08e0375086",
   "metadata": {},
   "source": [
    "## **`<ins>` - inserted info**\n",
    "\n",
    "This tag usually surrounds text that was inserted later in the page. It looks like underlined text."
   ]
  },
  {
   "cell_type": "code",
   "execution_count": 21,
   "id": "bd96ffac-7015-4928-9ff6-a68e2d2c7771",
   "metadata": {},
   "outputs": [
    {
     "data": {
      "text/html": [
       "\n",
       "    <ins> new information</ins>\n",
       "    "
      ],
      "text/plain": [
       "<IPython.core.display.HTML object>"
      ]
     },
     "execution_count": 21,
     "metadata": {},
     "output_type": "execute_result"
    }
   ],
   "source": [
    "HTML(\n",
    "    '''\n",
    "    <ins> new information</ins>\n",
    "    '''\n",
    ")"
   ]
  },
  {
   "cell_type": "markdown",
   "id": "e124163a-660c-4739-b0d6-f0389dc647c9",
   "metadata": {},
   "source": [
    "## **`<q>` - quote**\n",
    "\n",
    "You should surround quotes with this tag. Browsers usually display them surrounded by `\"`."
   ]
  },
  {
   "cell_type": "code",
   "execution_count": 26,
   "id": "75ff40b3-61c1-478b-9252-62d40cff6fce",
   "metadata": {},
   "outputs": [
    {
     "data": {
      "text/html": [
       "\n",
       "    <q>Fedor Kobak truly ingenious</q>\n",
       "    "
      ],
      "text/plain": [
       "<IPython.core.display.HTML object>"
      ]
     },
     "execution_count": 26,
     "metadata": {},
     "output_type": "execute_result"
    }
   ],
   "source": [
    "HTML(\n",
    "    '''\n",
    "    <q>Fedor Kobak truly ingenious</q>\n",
    "    '''\n",
    ")"
   ]
  },
  {
   "cell_type": "markdown",
   "id": "79d38576-51c9-4362-8d94-8ce4cbe9a147",
   "metadata": {},
   "source": [
    "## **`<blockquote>` - multiline quote**\n",
    "\n",
    "You should surround long quotations with this tag."
   ]
  },
  {
   "cell_type": "code",
   "execution_count": 28,
   "id": "bd5e26b7-3472-4cd2-8713-821dcb9c606f",
   "metadata": {},
   "outputs": [
    {
     "data": {
      "text/html": [
       "\n",
       "    <blockquote>\n",
       "    People think focus means saying yes to the thing you've got to focus on.<br> It means saying no to the hundred other good ideas that there are. You have to pick carefully.\n",
       "    </blockquote>\n",
       "    "
      ],
      "text/plain": [
       "<IPython.core.display.HTML object>"
      ]
     },
     "execution_count": 28,
     "metadata": {},
     "output_type": "execute_result"
    }
   ],
   "source": [
    "HTML(\n",
    "    '''\n",
    "    <blockquote>\n",
    "    People think focus means saying yes to the thing you've got to focus on.<br> It means saying no to the hundred other good ideas that there are. You have to pick carefully.\n",
    "    </blockquote>\n",
    "    '''\n",
    ")"
   ]
  },
  {
   "cell_type": "markdown",
   "id": "0bb3e05f-629f-4c66-b8c0-0f3d39a96471",
   "metadata": {},
   "source": [
    "# List tags"
   ]
  },
  {
   "cell_type": "markdown",
   "id": "5d829b85-2430-4cba-a663-dede3538d369",
   "metadata": {},
   "source": [
    "## **`<ul>`,`<li>` - unordered list**\n",
    "\n",
    "Tags:\n",
    "- `<ul>` describes an unordered list;\n",
    "- `<li>` describes a item of list."
   ]
  },
  {
   "cell_type": "code",
   "execution_count": 7,
   "id": "01edfa01-fb6c-455a-8ec3-f66d39b6ce8c",
   "metadata": {},
   "outputs": [
    {
     "data": {
      "text/html": [
       "\n",
       "    <ul>\n",
       "        <li>item 1</li>\n",
       "        <li>item 2</li>\n",
       "        <li>...</li>\n",
       "        <li>item n</li>\n",
       "    </ul>\n"
      ],
      "text/plain": [
       "<IPython.core.display.HTML object>"
      ]
     },
     "execution_count": 7,
     "metadata": {},
     "output_type": "execute_result"
    }
   ],
   "source": [
    "HTML('''\n",
    "    <ul>\n",
    "        <li>item 1</li>\n",
    "        <li>item 2</li>\n",
    "        <li>...</li>\n",
    "        <li>item n</li>\n",
    "    </ul>\n",
    "''')"
   ]
  },
  {
   "cell_type": "markdown",
   "id": "d06b5c37-587f-449b-a95b-110945bc6354",
   "metadata": {},
   "source": [
    "Markers can be setted as `style=\"list-style-type:<marker type>\"`. There are following markers available:\n",
    "\n",
    "- `disc`;\n",
    "- `square`;\n",
    "- `circle`."
   ]
  },
  {
   "cell_type": "code",
   "execution_count": 8,
   "id": "7fc45b97-b635-49ab-a4bd-959d2ac32f44",
   "metadata": {},
   "outputs": [
    {
     "data": {
      "text/html": [
       "\n",
       "    <text>Marker type for whole list:\n",
       "    <ul style=\"list-style-type:square\">\n",
       "        <li>item 1</li>\n",
       "        <li>item 2</li>\n",
       "        <li>...</li>\n",
       "        <li>item n</li>\n",
       "    </ul>\n",
       "    <text>Different marker type for each point:</text>\n",
       "    <ul>\n",
       "        <li style=\"list-style-type:disc\">disc</li>\n",
       "        <li style=\"list-style-type:square\">square</li>\n",
       "        <li style=\"list-style-type:circle\">circle</li>\n",
       "    </ul>\n"
      ],
      "text/plain": [
       "<IPython.core.display.HTML object>"
      ]
     },
     "execution_count": 8,
     "metadata": {},
     "output_type": "execute_result"
    }
   ],
   "source": [
    "HTML('''\n",
    "    <text>Marker type for whole list:\n",
    "    <ul style=\"list-style-type:square\">\n",
    "        <li>item 1</li>\n",
    "        <li>item 2</li>\n",
    "        <li>...</li>\n",
    "        <li>item n</li>\n",
    "    </ul>\n",
    "    <text>Different marker type for each point:</text>\n",
    "    <ul>\n",
    "        <li style=\"list-style-type:disc\">disc</li>\n",
    "        <li style=\"list-style-type:square\">square</li>\n",
    "        <li style=\"list-style-type:circle\">circle</li>\n",
    "    </ul>\n",
    "''')"
   ]
  },
  {
   "cell_type": "markdown",
   "id": "bbf375e9-ccce-45d9-b499-abcb98d18016",
   "metadata": {},
   "source": [
    "## **`<ol>`,`<li>` - ordered list**\n",
    "- `<ol>` describes an ordered list;\n",
    "- `<li>` describes a item of list."
   ]
  },
  {
   "cell_type": "code",
   "execution_count": 8,
   "id": "9c0c2472-7284-4680-b884-ddf7b213729d",
   "metadata": {},
   "outputs": [
    {
     "data": {
      "text/html": [
       "\n",
       "    <ol>\n",
       "        <li>item 1</li>\n",
       "        <li>item 2</li>\n",
       "        <li>...</li>\n",
       "        <li>item n</li>\n",
       "    </ol>\n"
      ],
      "text/plain": [
       "<IPython.core.display.HTML object>"
      ]
     },
     "execution_count": 8,
     "metadata": {},
     "output_type": "execute_result"
    }
   ],
   "source": [
    "HTML('''\n",
    "    <ol>\n",
    "        <li>item 1</li>\n",
    "        <li>item 2</li>\n",
    "        <li>...</li>\n",
    "        <li>item n</li>\n",
    "    </ol>\n",
    "''')"
   ]
  },
  {
   "cell_type": "markdown",
   "id": "6d9ff46a-9fb6-4f67-92a4-389afbbe10a7",
   "metadata": {},
   "source": [
    "### `type` - attribute\n",
    "\n",
    "Numeration type:\n",
    "- \"1\" - arabian numeration;\n",
    "- \"A\" - Latin caps;\n",
    "- \"a\" - lowercase Latin letters;\n",
    "- \"I\" - uppercase Roman numerals;\n",
    "- \"i\" - lowercase Roman numerals.\n",
    "\n",
    "For some reasons these features can't be displayed in jupyter, so the following cell generates <a href=\"html_files/ordered_lists_types.html\">this file</a> where you can check the result of using these features."
   ]
  },
  {
   "cell_type": "code",
   "execution_count": 16,
   "id": "bd86e244-13e0-44e6-ab43-4b1db3f7c4c5",
   "metadata": {},
   "outputs": [],
   "source": [
    "variants = [\"1\", \"A\", \"a\", \"I\", \"i\"]\n",
    "format_str = '''\n",
    "    <ol type=\\\"{}\\\">\n",
    "        <li>item 1</li>\n",
    "        <li>item 2</li>\n",
    "        <li>...</li>\n",
    "        <li>item n</li>\n",
    "    </ol>\n",
    "'''\n",
    "\n",
    "html_line = \"\"\n",
    "for var in variants:\n",
    "    html_line += format_str.format(var)\n",
    "\n",
    "with open(\"html_files/ordered_lists_types.html\", \"w\") as file:\n",
    "    file.write(html_line)"
   ]
  },
  {
   "cell_type": "markdown",
   "id": "765932cf-4da4-4f9e-9cd2-64b44076c679",
   "metadata": {},
   "source": [
    "### `reversed`\n",
    "\n",
    "Display the list in reverse order"
   ]
  },
  {
   "cell_type": "code",
   "execution_count": 17,
   "id": "627134be-df91-43ff-adb2-01bb6129bfea",
   "metadata": {},
   "outputs": [
    {
     "data": {
      "text/html": [
       "\n",
       "    <ol reversed>\n",
       "        <li>item 1</li>\n",
       "        <li>item 2</li>\n",
       "        <li>...</li>\n",
       "        <li>item n</li>\n",
       "    </ol>\n"
      ],
      "text/plain": [
       "<IPython.core.display.HTML object>"
      ]
     },
     "execution_count": 17,
     "metadata": {},
     "output_type": "execute_result"
    }
   ],
   "source": [
    "HTML('''\n",
    "    <ol reversed>\n",
    "        <li>item 1</li>\n",
    "        <li>item 2</li>\n",
    "        <li>...</li>\n",
    "        <li>item n</li>\n",
    "    </ol>\n",
    "''')"
   ]
  },
  {
   "cell_type": "markdown",
   "id": "297c634c-4b31-4558-91e3-a044c5994fd9",
   "metadata": {},
   "source": [
    "### `start` - first number\n",
    "\n",
    "You can select the number to use as the first value."
   ]
  },
  {
   "cell_type": "code",
   "execution_count": 18,
   "id": "9b492806-7878-4e50-aa61-1c9dc8aa7407",
   "metadata": {},
   "outputs": [
    {
     "data": {
      "text/html": [
       "\n",
       "    <ol start = 5>\n",
       "        <li>item 1</li>\n",
       "        <li>item 2</li>\n",
       "        <li>...</li>\n",
       "        <li>item n</li>\n",
       "    </ol>\n"
      ],
      "text/plain": [
       "<IPython.core.display.HTML object>"
      ]
     },
     "execution_count": 18,
     "metadata": {},
     "output_type": "execute_result"
    }
   ],
   "source": [
    "HTML('''\n",
    "    <ol start = 5>\n",
    "        <li>item 1</li>\n",
    "        <li>item 2</li>\n",
    "        <li>...</li>\n",
    "        <li>item n</li>\n",
    "    </ol>\n",
    "''')"
   ]
  },
  {
   "cell_type": "markdown",
   "id": "f5e79d53-1df6-4d76-8d94-58d1ff9b49bf",
   "metadata": {},
   "source": [
    "### Negative elements\n",
    "\n",
    "I wonder how the list will behave if I start counting from 2 but there are more than two items. As it turns out the list goes beyond natural numbers."
   ]
  },
  {
   "cell_type": "code",
   "execution_count": 21,
   "id": "1638da46-5ba9-4137-95b1-bdc594712aa3",
   "metadata": {},
   "outputs": [
    {
     "data": {
      "text/html": [
       "\n",
       "    <ol start = 1 reversed>\n",
       "        <li>item 1</li>\n",
       "        <li>item 2</li>\n",
       "        <li>item 3</li>\n",
       "        <li>item 4</li>\n",
       "    </ol>\n"
      ],
      "text/plain": [
       "<IPython.core.display.HTML object>"
      ]
     },
     "execution_count": 21,
     "metadata": {},
     "output_type": "execute_result"
    }
   ],
   "source": [
    "HTML('''\n",
    "    <ol start = 1 reversed>\n",
    "        <li>item 1</li>\n",
    "        <li>item 2</li>\n",
    "        <li>item 3</li>\n",
    "        <li>item 4</li>\n",
    "    </ol>\n",
    "''')"
   ]
  },
  {
   "cell_type": "markdown",
   "id": "ca6ff4df-c184-4a0c-8ef6-64ea600922bd",
   "metadata": {},
   "source": [
    "## **`<dt>`, `<dd>`, `<dl>` - definitions list**\n",
    "\n",
    "- `<dl>` (**d**efinitions **l**ist) sets a definitions list;\n",
    "- `<dt>` (**d**efinitions **t**erm) sets a new term;\n",
    "- `<dd>` (**d**efinitions **d**escriptions) describe the term."
   ]
  },
  {
   "cell_type": "code",
   "execution_count": 23,
   "id": "aec6b368-3e83-4f06-a501-3eabc201f176",
   "metadata": {},
   "outputs": [
    {
     "data": {
      "text/html": [
       "\n",
       "    <dl>\n",
       "        <dt>Term1</dt>\n",
       "        <dd>Definition 1</dd>\n",
       "        <dt>Term2</dt>\n",
       "        <dd>Definition 2</dd>\n",
       "        <dt>...</dt>\n",
       "        <dd>...</dd>\n",
       "        <dt>Term n</dt>\n",
       "        <dd>Definition n</dd>\n",
       "    </dl>\n",
       "    "
      ],
      "text/plain": [
       "<IPython.core.display.HTML object>"
      ]
     },
     "execution_count": 23,
     "metadata": {},
     "output_type": "execute_result"
    }
   ],
   "source": [
    "HTML(\n",
    "    '''\n",
    "    <dl>\n",
    "        <dt>Term1</dt>\n",
    "        <dd>Definition 1</dd>\n",
    "        <dt>Term2</dt>\n",
    "        <dd>Definition 2</dd>\n",
    "        <dt>...</dt>\n",
    "        <dd>...</dd>\n",
    "        <dt>Term n</dt>\n",
    "        <dd>Definition n</dd>\n",
    "    </dl>\n",
    "    '''\n",
    ")"
   ]
  },
  {
   "cell_type": "markdown",
   "id": "056c65b0-bc0e-4fbd-9d33-ae7d8a7c84e2",
   "metadata": {},
   "source": [
    "# Tables"
   ]
  },
  {
   "cell_type": "markdown",
   "id": "5cbe3e7d-35ad-4fe6-94b7-c98a97571371",
   "metadata": {},
   "source": [
    "## `<table>`, `<tr>`, `<td>` - basic"
   ]
  },
  {
   "cell_type": "markdown",
   "id": "7cd8d605-9d0a-4e45-b526-9ab63d15b6f3",
   "metadata": {},
   "source": [
    "- `<table>` - tag defines new table;\n",
    "- `<tr>` - (**t**able **r**ow) define the new row for the table;\n",
    "- `<td>` - (**t**able **d**ata) define the new cell."
   ]
  },
  {
   "cell_type": "code",
   "execution_count": 16,
   "id": "5b277073-9d3e-4180-ace4-44e6251ebb7a",
   "metadata": {},
   "outputs": [
    {
     "data": {
      "text/html": [
       "\n",
       "    <table>\n",
       "    <tr>\n",
       "        <td>row1 cell1</td>\n",
       "        <td>row1 cell2</td>\n",
       "    </tr>\n",
       "    <tr>\n",
       "        <td>row2 cell1</td>\n",
       "        <td>row2 cell2</td>\n",
       "    </tr>\n",
       "    </table>\n",
       "    "
      ],
      "text/plain": [
       "<IPython.core.display.HTML object>"
      ]
     },
     "execution_count": 16,
     "metadata": {},
     "output_type": "execute_result"
    }
   ],
   "source": [
    "HTML(\n",
    "    '''\n",
    "    <table>\n",
    "        <tr>\n",
    "            <td>row1 cell1</td>\n",
    "            <td>row1 cell2</td>\n",
    "        </tr>\n",
    "        <tr>\n",
    "            <td>row2 cell1</td>\n",
    "            <td>row2 cell2</td>\n",
    "        </tr>\n",
    "    </table>\n",
    "    '''\n",
    ")"
   ]
  },
  {
   "cell_type": "markdown",
   "id": "b60230a5-d0d9-4e1e-8f17-161abf6d5e6e",
   "metadata": {},
   "source": [
    "## `<th>` - table header\n",
    "\n",
    "Instead of using `<td>` tag you can use `<th>` which will be interpreted as the table header, and printed as bold text."
   ]
  },
  {
   "cell_type": "code",
   "execution_count": 17,
   "id": "95b5e81e-766b-4326-bbe8-394c358397e8",
   "metadata": {},
   "outputs": [
    {
     "data": {
      "text/html": [
       "\n",
       "    <table>\n",
       "        <tr>\n",
       "            <td>row1 cell1</td>\n",
       "            <td>row1 cell2</td>\n",
       "        </tr>\n",
       "        <tr>\n",
       "            <th>row2 cell1</th>\n",
       "            <th>row2 cell2</th>\n",
       "        </tr>\n",
       "        <tr>\n",
       "            <td>row2 cell1</td>\n",
       "            <td>row2 cell2</td>\n",
       "        </tr>\n",
       "    </table>\n",
       "    "
      ],
      "text/plain": [
       "<IPython.core.display.HTML object>"
      ]
     },
     "execution_count": 17,
     "metadata": {},
     "output_type": "execute_result"
    }
   ],
   "source": [
    "HTML(\n",
    "    '''\n",
    "    <table>\n",
    "        <tr>\n",
    "            <td>row1 cell1</td>\n",
    "            <td>row1 cell2</td>\n",
    "        </tr>\n",
    "        <tr>\n",
    "            <th>row2 cell1</th>\n",
    "            <th>row2 cell2</th>\n",
    "        </tr>\n",
    "        <tr>\n",
    "            <td>row2 cell1</td>\n",
    "            <td>row2 cell2</td>\n",
    "        </tr>\n",
    "    </table>\n",
    "    '''\n",
    ")"
   ]
  },
  {
   "cell_type": "markdown",
   "id": "d54ea115-4acb-494e-9eb0-398e67358951",
   "metadata": {},
   "source": [
    "## `<caption>`\n",
    "\n",
    "Tag `<caption>` inside `<table>` will allow to show a captions of the tables. Interesting that you can put it anywhere - it prints at the top of the page anyway."
   ]
  },
  {
   "cell_type": "code",
   "execution_count": 18,
   "id": "adcfa4ef-ccde-4124-af53-fe70404b9b54",
   "metadata": {},
   "outputs": [
    {
     "data": {
      "text/html": [
       "\n",
       "    <table>\n",
       "        <tr>\n",
       "            <td>row1 cell1</td>\n",
       "            <td>row1 cell2</td>\n",
       "        </tr>\n",
       "        <tr>\n",
       "            <td>row2 cell1</td>\n",
       "            <td>row2 cell2</td>\n",
       "        </tr>\n",
       "        <caption> Test caption</caption>\n",
       "        <tr>\n",
       "            <td>row2 cell1</td>\n",
       "            <td>row2 cell2</td>\n",
       "        </tr>\n",
       "    </table>\n",
       "    "
      ],
      "text/plain": [
       "<IPython.core.display.HTML object>"
      ]
     },
     "execution_count": 18,
     "metadata": {},
     "output_type": "execute_result"
    }
   ],
   "source": [
    "HTML(\n",
    "    '''\n",
    "    <table>\n",
    "        <tr>\n",
    "            <td>row1 cell1</td>\n",
    "            <td>row1 cell2</td>\n",
    "        </tr>\n",
    "        <tr>\n",
    "            <td>row2 cell1</td>\n",
    "            <td>row2 cell2</td>\n",
    "        </tr>\n",
    "        <caption> Test caption</caption>\n",
    "        <tr>\n",
    "            <td>row2 cell1</td>\n",
    "            <td>row2 cell2</td>\n",
    "        </tr>\n",
    "    </table>\n",
    "    '''\n",
    ")"
   ]
  },
  {
   "cell_type": "markdown",
   "id": "7f1faf71-05a3-49ba-beb5-07243f6f2ad7",
   "metadata": {},
   "source": [
    "# Content tags"
   ]
  },
  {
   "cell_type": "markdown",
   "id": "dc620a72-77dd-4c36-a577-15c5b54673a6",
   "metadata": {},
   "source": [
    "## `<img>` add image to html"
   ]
  },
  {
   "cell_type": "markdown",
   "id": "8ac449a7-d8cf-4083-ac68-9a9f51de8dad",
   "metadata": {},
   "source": [
    "### *`src` - set picture*\n",
    "\n",
    "You can add url of the image or filepath on computer. In this argument you can use:\n",
    "\n",
    "- url;\n",
    "- filename on computer;\n",
    "- base64 - use the following syntax `data:image/<img type>;base64;<base64 code>`:\n",
    "    - get base64 from bash: `base64 <filename>`;\n",
    "    - get base64 from python: `import base64; base64.b64encode(<binary picture data>)`."
   ]
  },
  {
   "cell_type": "code",
   "execution_count": 10,
   "id": "3c401a1a-f3f1-4d7b-893f-fb8978c57c67",
   "metadata": {},
   "outputs": [
    {
     "data": {
      "text/html": [
       "\n",
       "<img src=\"https://content.codecademy.com/courses/web-101/web101-image_brownbear.jpg\"/>\n",
       "<img src=\"html_files/display_picture.jpg\">\n",
       "<img src=\"data:image/png;base64,iVBORw0KGgoAAAANSUhEUgAAAAwAAAAMCAYAAABWdVznAAAACXBIWXMAAA7EAAAOxAGVKw4bAAAA\n",
       "SklEQVQokc2QSQ4AIAgDW+L/v1wvmhDFhXiRG800kKEEITHmF3IGxsxmJHHhjwKfLF0VIpXLdwiY\n",
       "FPuPYKm9dCp1GABKD3clOS0V5DQSGUBEBc8AAAAASUVORK5CYII=\" width=200 height=200>\n"
      ],
      "text/plain": [
       "<IPython.core.display.HTML object>"
      ]
     },
     "execution_count": 10,
     "metadata": {},
     "output_type": "execute_result"
    }
   ],
   "source": [
    "HTML('''\n",
    "<img src=\"https://content.codecademy.com/courses/web-101/web101-image_brownbear.jpg\"/>\n",
    "<img src=\"html_files/display_picture.jpg\">\n",
    "<img src=\"data:image/png;base64,iVBORw0KGgoAAAANSUhEUgAAAAwAAAAMCAYAAABWdVznAAAACXBIWXMAAA7EAAAOxAGVKw4bAAAA\n",
    "SklEQVQokc2QSQ4AIAgDW+L/v1wvmhDFhXiRG800kKEEITHmF3IGxsxmJHHhjwKfLF0VIpXLdwiY\n",
    "FPuPYKm9dCp1GABKD3clOS0V5DQSGUBEBc8AAAAASUVORK5CYII=\" width=200 height=200>\n",
    "''')"
   ]
  },
  {
   "cell_type": "markdown",
   "id": "7a26aa52-c58e-4c5f-a6e3-41132d5248e2",
   "metadata": {},
   "source": [
    "### *`alt` - text hint*\n",
    "\n",
    "Describes the text that will be used if the picture cannot be uploaded. There no option to show how it works in jupyter notebook, but the html page with the following code:"
   ]
  },
  {
   "cell_type": "code",
   "execution_count": 15,
   "id": "25510b42-2a6d-46cd-82cc-c5070eb0a4c9",
   "metadata": {},
   "outputs": [
    {
     "name": "stdout",
     "output_type": "stream",
     "text": [
      "<img src=\"unreal image\" alt=\"description of some image\"/>"
     ]
    }
   ],
   "source": [
    "%%bash\n",
    "cat html_files/img_alt_ex.html"
   ]
  },
  {
   "cell_type": "markdown",
   "id": "dbae33ae-f507-41bb-8a9c-f743c236f31b",
   "metadata": {},
   "source": [
    "You can check <a href=\"html_files/img_alt_ex.html\">here</a>."
   ]
  },
  {
   "cell_type": "markdown",
   "id": "58132013-4ae3-4dd5-9ef8-90188e22b714",
   "metadata": {},
   "source": [
    "## **`<video>` - insert video**"
   ]
  },
  {
   "cell_type": "markdown",
   "id": "a331c34d-25b3-429f-8748-2a7534fa8ac2",
   "metadata": {},
   "source": [
    "### *`controls` handle video*\n",
    "\n",
    "Attributes allow you to set controls for handling the video playback process. In the following example I have inserted the first video with the `control` attribute and the second without."
   ]
  },
  {
   "cell_type": "code",
   "execution_count": 28,
   "id": "785215cd-ea61-4ece-8570-5e10ed359289",
   "metadata": {},
   "outputs": [
    {
     "data": {
      "text/html": [
       "\n",
       "<video src=\"html_files/some_video.webm\" widht=200 height=200 controls>\n",
       "</video>\n",
       "<video src=\"html_files/some_video.webm\" widht=200 height=200>\n",
       "</video>\n"
      ],
      "text/plain": [
       "<IPython.core.display.HTML object>"
      ]
     },
     "execution_count": 28,
     "metadata": {},
     "output_type": "execute_result"
    }
   ],
   "source": [
    "HTML('''\n",
    "<video src=\"html_files/some_video.webm\" widht=200 height=200 controls>\n",
    "</video>\n",
    "<video src=\"html_files/some_video.webm\" widht=200 height=200>\n",
    "</video>\n",
    "''')"
   ]
  },
  {
   "cell_type": "markdown",
   "id": "dd2a37e7-4a4d-4cca-990d-16ac17659a69",
   "metadata": {},
   "source": [
    "# Other tags"
   ]
  },
  {
   "cell_type": "markdown",
   "id": "feb37740-29fe-478d-8f34-80eede683d5a",
   "metadata": {},
   "source": [
    "## **`<div>` - division**\n",
    "\n",
    "Helps to group html elements."
   ]
  },
  {
   "cell_type": "markdown",
   "id": "94bf814c-31a4-418b-ba1e-e8ebc02d04ef",
   "metadata": {},
   "source": [
    "## **`<style>` - style for element group**{#sec-style_tag}\n",
    "\n",
    "By useing this tag inside `<head>` tag you can set some css properties.\n",
    "\n",
    "In the following example I set styles for all `<p>` and `<img>` tags in html page. You can check the results [here](html_files/style_tag.html). I can't show in Jupyter notebook because the results are applied to the whole notebook."
   ]
  },
  {
   "cell_type": "code",
   "execution_count": 3,
   "id": "a766b061-922b-4e57-909a-87c82350a2bc",
   "metadata": {},
   "outputs": [
    {
     "name": "stdout",
     "output_type": "stream",
     "text": [
      "<head>\n",
      "    <style>\n",
      "        p {text-align:center; color: red}\n",
      "        img {border: 5px solid blue}\n",
      "    </style>\n",
      "</head>\n",
      "<body>\n",
      "    <p> Test paragraph1</p>\n",
      "    <p> Test paragraph2</p>\n",
      "    <img src=\"data:image/png;base64,iVBORw0KGgoAAAANSUhEUgAAAAwAAAAMCAYAAABWdVznAAAACXBIWXMAAA7EAAAOxAGVKw4bAAAA\n",
      "SklEQVQokc2QSQ4AIAgDW+L/v1wvmhDFhXiRG800kKEEITHmF3IGxsxmJHHhjwKfLF0VIpXLdwiY\n",
      "FPuPYKm9dCp1GABKD3clOS0V5DQSGUBEBc8AAAAASUVORK5CYII=\">\n",
      "</body>\n"
     ]
    }
   ],
   "source": [
    "with open(\"html_files/style_tag.html\") as file:\n",
    "    print(file.read())"
   ]
  },
  {
   "cell_type": "markdown",
   "id": "b4481b82-84ca-413c-a1eb-c31e10a72c90",
   "metadata": {},
   "source": [
    "## **`<link>`**\n",
    "\n",
    "Used inside the `<head>` tag to load an external resource."
   ]
  },
  {
   "cell_type": "markdown",
   "id": "e8abdc9b-c375-4691-a1fa-8887b077bebc",
   "metadata": {},
   "source": [
    "### *`href` - url*"
   ]
  },
  {
   "cell_type": "markdown",
   "id": "f4e9ff67-f0a8-4694-86ec-053d58bb79c8",
   "metadata": {},
   "source": [
    "### *`rel`* - relationship\n",
    "\n",
    "Define the relationship between html document and external resource."
   ]
  },
  {
   "cell_type": "markdown",
   "id": "8f226448-4ddc-41f7-b7aa-4cc8d2d6c09d",
   "metadata": {},
   "source": [
    "#### `stylesheet` - used for loading css file {#sec-link_css_file}"
   ]
  },
  {
   "cell_type": "markdown",
   "id": "1d87e564-f37e-461c-b939-ccf9d6b3231f",
   "metadata": {},
   "source": [
    "Here you can describe file that should be used as style table. In the following example I show html file and associated css file."
   ]
  },
  {
   "cell_type": "code",
   "execution_count": 22,
   "id": "edfdcf86-6ec7-471b-b34a-64673d961e0e",
   "metadata": {},
   "outputs": [
    {
     "data": {
      "text/html": [
       "\n",
       "    <hr><text style=\"font-size:16px\">HTML</text>\n",
       "    "
      ],
      "text/plain": [
       "<IPython.core.display.HTML object>"
      ]
     },
     "metadata": {},
     "output_type": "display_data"
    },
    {
     "name": "stdout",
     "output_type": "stream",
     "text": [
      "<head>\n",
      "    <link href=\"css_example.css\" rel=\"stylesheet\"></link>\n",
      "</head>\n",
      "<body>\n",
      "    <p>Paragraph 1</p>\n",
      "    <p>Paragraph 2</p>\n",
      "</body>\n"
     ]
    },
    {
     "data": {
      "text/html": [
       "\n",
       "    <hr><text style=\"font-size:16px\">CSS</text>\n",
       "    "
      ],
      "text/plain": [
       "<IPython.core.display.HTML object>"
      ]
     },
     "metadata": {},
     "output_type": "display_data"
    },
    {
     "name": "stdout",
     "output_type": "stream",
     "text": [
      "p {\n",
      "  background-color: powderblue;\n",
      "  color: red\n",
      "}\n"
     ]
    }
   ],
   "source": [
    "display(HTML(\n",
    "    '''\n",
    "    <hr><text style=\\\"font-size:16px\\\">HTML</text>\n",
    "    '''\n",
    "))\n",
    "\n",
    "with open(\"html_files/css_example.html\") as file:\n",
    "    print(file.read())\n",
    "\n",
    "display(HTML(\n",
    "    '''\n",
    "    <hr><text style=\\\"font-size:16px\\\">CSS</text>\n",
    "    '''\n",
    "))\n",
    "\n",
    "with open(\"html_files/css_example.css\") as file:\n",
    "    print(file.read())"
   ]
  },
  {
   "cell_type": "markdown",
   "id": "f81b355a-8fe5-493c-a955-a031f3781d4d",
   "metadata": {},
   "source": [
    "You can find the results <a href=\"html_files/css_example.html\">here</a>."
   ]
  },
  {
   "cell_type": "markdown",
   "id": "ae108db9-3ea3-45f3-8ea7-7a5c84164080",
   "metadata": {},
   "source": [
    "## **`<a>` - link**"
   ]
  },
  {
   "cell_type": "markdown",
   "id": "646e612c-4c87-4318-b39c-b080ef6396d1",
   "metadata": {},
   "source": [
    "### `href` - url\n",
    "\n",
    "url to which reference is made."
   ]
  },
  {
   "cell_type": "markdown",
   "id": "c9928b82-3c5a-412f-959a-744441392aba",
   "metadata": {},
   "source": [
    "### `target` - widow\n",
    "\n",
    "Define how exactly html page should be opened:\n",
    "\n",
    "- `_self` - use the same tab where the link was displayed;\n",
    "- `_blank` - use new tab;\n",
    "- `_parent`- ???;\n",
    "- `_top` - ???.\n",
    "\n",
    "You can try different options [here](html_files/a_target.html)."
   ]
  },
  {
   "cell_type": "markdown",
   "id": "5053120c-4c43-427a-9652-3b96e2099fd4",
   "metadata": {},
   "source": [
    "### `download`\n",
    "\n",
    "Tells the browser that the document must be downloaded and not opened in the browser. So in the following example, I have created a link that allows you to download the page from the previous example."
   ]
  },
  {
   "cell_type": "code",
   "execution_count": 9,
   "id": "1f6eda12-d591-47b9-8796-cddf171486f6",
   "metadata": {},
   "outputs": [
    {
     "data": {
      "text/html": [
       "\n",
       "    <a href=\"html_files/a_target.html\" download>Download a_target.html</a>\n",
       "    "
      ],
      "text/plain": [
       "<IPython.core.display.HTML object>"
      ]
     },
     "execution_count": 9,
     "metadata": {},
     "output_type": "execute_result"
    }
   ],
   "source": [
    "HTML(\n",
    "    '''\n",
    "    <a href=\"html_files/a_target.html\" download>Download a_target.html</a>\n",
    "    '''\n",
    ")"
   ]
  }
 ],
 "metadata": {
  "kernelspec": {
   "display_name": "Python 3 (ipykernel)",
   "language": "python",
   "name": "python3"
  },
  "language_info": {
   "codemirror_mode": {
    "name": "ipython",
    "version": 3
   },
   "file_extension": ".py",
   "mimetype": "text/x-python",
   "name": "python",
   "nbconvert_exporter": "python",
   "pygments_lexer": "ipython3",
   "version": "3.10.6"
  }
 },
 "nbformat": 4,
 "nbformat_minor": 5
}
