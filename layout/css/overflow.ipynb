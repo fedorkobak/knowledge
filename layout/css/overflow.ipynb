{
 "cells": [
  {
   "cell_type": "markdown",
   "id": "5508a632-8071-45a1-bb81-97cac209c56b",
   "metadata": {},
   "source": [
    "# Overflow\n",
    "\n",
    "This property of the object describes how it behaves in the limited space.\n",
    "\n",
    "You can find out more in <a href=\"https://developer.mozilla.org/en-US/docs/Web/CSS/overflow\">mdn web docs</a>."
   ]
  },
  {
   "cell_type": "markdown",
   "id": "5a5fd9e3-a292-4488-b4bc-6f1d9312b26b",
   "metadata": {},
   "source": [
    "## Basic example\n",
    "\n",
    "In the following example displayed all options:\n",
    "\n",
    "<!--\n",
    "contents = \"Michaelmas term lately over, and the Lord Chancellor sitting in Lincoln's Inn Hall. Implacable November weather. As much mud in the streets as if the waters had but newly retired from the face of the earth.\"\n",
    "details_block = \"\"\"\n",
    "<details>\n",
    "    <summary>{over}</summary>\n",
    "    <div style='height:3cm;overflow:{over};width:5cm;border:solid;font-size:20px'>{content}</div>\n",
    "</details>\n",
    "\"\"\"\n",
    "\n",
    "html_line = \"\"\n",
    "\n",
    "for over in [\"scroll\", \"hidden\", \"visible\", \"auto\", \"clip\"]:\n",
    "    html_line += details_block.format(over=over, content = contents)\n",
    "\n",
    "print(html_line)\n",
    "-->"
   ]
  },
  {
   "cell_type": "code",
   "execution_count": 48,
   "id": "f5aa2955-9960-4d0a-9d80-7cbc9b51d2db",
   "metadata": {},
   "outputs": [
    {
     "data": {
      "text/html": [
       "<details>\n",
       "    <summary>scroll</summary>\n",
       "    <div style='height:3cm;overflow:scroll;width:5cm;border:solid;font-size:20px'>Michaelmas term lately over, and the Lord Chancellor sitting in Lincoln's Inn Hall. Implacable November weather. As much mud in the streets as if the waters had but newly retired from the face of the earth.</div>\n",
       "</details>\n",
       "\n",
       "<details>\n",
       "    <summary>hidden</summary>\n",
       "    <div style='height:3cm;overflow:hidden;width:5cm;border:solid;font-size:20px'>Michaelmas term lately over, and the Lord Chancellor sitting in Lincoln's Inn Hall. Implacable November weather. As much mud in the streets as if the waters had but newly retired from the face of the earth.</div>\n",
       "</details>\n",
       "\n",
       "<details>\n",
       "    <summary>visible</summary>\n",
       "    <div style='height:3cm;overflow:visible;width:5cm;border:solid;font-size:20px'>Michaelmas term lately over, and the Lord Chancellor sitting in Lincoln's Inn Hall. Implacable November weather. As much mud in the streets as if the waters had but newly retired from the face of the earth.</div>\n",
       "</details>\n",
       "\n",
       "<details>\n",
       "    <summary>auto</summary>\n",
       "    <div style='height:3cm;overflow:auto;width:5cm;border:solid;font-size:20px'>Michaelmas term lately over, and the Lord Chancellor sitting in Lincoln's Inn Hall. Implacable November weather. As much mud in the streets as if the waters had but newly retired from the face of the earth.</div>\n",
       "</details>\n",
       "\n",
       "<details>\n",
       "    <summary>clip</summary>\n",
       "    <div style='height:3cm;overflow:clip;width:5cm;border:solid;font-size:20px'>Michaelmas term lately over, and the Lord Chancellor sitting in Lincoln's Inn Hall. Implacable November weather. As much mud in the streets as if the waters had but newly retired from the face of the earth.</div>\n",
       "</details>\n"
      ],
      "text/plain": [
       "<IPython.core.display.HTML object>"
      ]
     },
     "metadata": {},
     "output_type": "display_data"
    }
   ],
   "source": [
    "%%HTML\n",
    "<details>\n",
    "    <summary>scroll</summary>\n",
    "    <div style='height:3cm;overflow:scroll;width:5cm;border:solid;font-size:20px'>Michaelmas term lately over, and the Lord Chancellor sitting in Lincoln's Inn Hall. Implacable November weather. As much mud in the streets as if the waters had but newly retired from the face of the earth.</div>\n",
    "</details>\n",
    "\n",
    "<details>\n",
    "    <summary>hidden</summary>\n",
    "    <div style='height:3cm;overflow:hidden;width:5cm;border:solid;font-size:20px'>Michaelmas term lately over, and the Lord Chancellor sitting in Lincoln's Inn Hall. Implacable November weather. As much mud in the streets as if the waters had but newly retired from the face of the earth.</div>\n",
    "</details>\n",
    "\n",
    "<details>\n",
    "    <summary>visible</summary>\n",
    "    <div style='height:3cm;overflow:visible;width:5cm;border:solid;font-size:20px'>Michaelmas term lately over, and the Lord Chancellor sitting in Lincoln's Inn Hall. Implacable November weather. As much mud in the streets as if the waters had but newly retired from the face of the earth.</div>\n",
    "</details>\n",
    "\n",
    "<details>\n",
    "    <summary>auto</summary>\n",
    "    <div style='height:3cm;overflow:auto;width:5cm;border:solid;font-size:20px'>Michaelmas term lately over, and the Lord Chancellor sitting in Lincoln's Inn Hall. Implacable November weather. As much mud in the streets as if the waters had but newly retired from the face of the earth.</div>\n",
    "</details>\n",
    "\n",
    "<details>\n",
    "    <summary>clip</summary>\n",
    "    <div style='height:3cm;overflow:clip;width:5cm;border:solid;font-size:20px'>Michaelmas term lately over, and the Lord Chancellor sitting in Lincoln's Inn Hall. Implacable November weather. As much mud in the streets as if the waters had but newly retired from the face of the earth.</div>\n",
    "</details>"
   ]
  },
  {
   "cell_type": "markdown",
   "id": "e76a74c1-c903-4d93-bf43-8c028037d34c",
   "metadata": {},
   "source": [
    "## clip vs hidden\n",
    "\n",
    "- `hidden` does not show any content that lies outside the element;\n",
    "- `clip` does not show any content that lies ouside the elemnt **+ extra space described by `overflow-clip-margin` property**.\n",
    "\n",
    "So in the following example, I have created two divs, the first with `overflow: hidden`, the second with `overflow: clip`, and both have `overflow-clip-margin: 1cm`. As a result, only the content of the second div leaves the box for 1 cm."
   ]
  },
  {
   "cell_type": "code",
   "execution_count": 55,
   "id": "9c9730c2-e1e3-449e-a7ca-61a94b5ffa27",
   "metadata": {},
   "outputs": [
    {
     "data": {
      "text/html": [
       "<hr>"
      ],
      "text/plain": [
       "<IPython.core.display.HTML object>"
      ]
     },
     "metadata": {},
     "output_type": "display_data"
    },
    {
     "name": "stdout",
     "output_type": "stream",
     "text": [
      "\n",
      "<div style=\"display:flex;height:5cm\">\n",
      "    <div style=\"border:solid;width:5cm;height:3cm;overflow-clip-margin: 1cm;overflow: hidden\">Michaelmas term lately over, and the Lord Chancellor sitting in Lincoln's Inn Hall. Implacable November weather. As much mud in the streets as if the waters had but newly retired from the face of the earth.</div>\n",
      "    <div style=\"border:solid;width:5cm;height:3cm;overflow-clip-margin: 1cm;overflow: clip\">Michaelmas term lately over, and the Lord Chancellor sitting in Lincoln's Inn Hall. Implacable November weather. As much mud in the streets as if the waters had but newly retired from the face of the earth.</div>\n",
      "</div>\n"
     ]
    },
    {
     "data": {
      "text/html": [
       "<hr>"
      ],
      "text/plain": [
       "<IPython.core.display.HTML object>"
      ]
     },
     "metadata": {},
     "output_type": "display_data"
    },
    {
     "data": {
      "text/html": [
       "\n",
       "<div style=\"display:flex;height:5cm\">\n",
       "    <div style=\"border:solid;width:5cm;height:3cm;overflow-clip-margin: 1cm;overflow: hidden\">Michaelmas term lately over, and the Lord Chancellor sitting in Lincoln's Inn Hall. Implacable November weather. As much mud in the streets as if the waters had but newly retired from the face of the earth.</div>\n",
       "    <div style=\"border:solid;width:5cm;height:3cm;overflow-clip-margin: 1cm;overflow: clip\">Michaelmas term lately over, and the Lord Chancellor sitting in Lincoln's Inn Hall. Implacable November weather. As much mud in the streets as if the waters had but newly retired from the face of the earth.</div>\n",
       "</div>"
      ],
      "text/plain": [
       "<IPython.core.display.HTML object>"
      ]
     },
     "execution_count": 55,
     "metadata": {},
     "output_type": "execute_result"
    }
   ],
   "source": [
    "from IPython.display import HTML\n",
    "\n",
    "contents = \"Michaelmas term lately over, and the Lord Chancellor sitting in Lincoln's Inn Hall. Implacable November weather. As much mud in the streets as if the waters had but newly retired from the face of the earth.\"\n",
    "div_styles = \"border:solid;width:5cm;height:3cm;overflow-clip-margin: 1cm;\"\n",
    "\n",
    "html_line = f\"\"\"\n",
    "<div style=\"display:flex;height:5cm\">\n",
    "    <div style=\\\"{div_styles}overflow: hidden\\\">{contents}</div>\n",
    "    <div style=\\\"{div_styles}overflow: clip\\\">{contents}</div>\n",
    "</div>\"\"\"\n",
    "\n",
    "display(HTML(\"<hr>\"))\n",
    "print(html_line)\n",
    "display(HTML(\"<hr>\"))\n",
    "\n",
    "\n",
    "HTML(html_line)"
   ]
  },
  {
   "cell_type": "markdown",
   "id": "93c8198d-d5d4-4167-bc3d-ce521bb868dd",
   "metadata": {},
   "source": [
    "## scroll vs auto\n",
    "\n",
    "If you are using the `scroll` option, this means that scrollbars will always be displayed, but if you are using `auto`, it will only add scrollbars when needed.\n",
    "\n",
    "The following example shows the difference. **Note** Some browsers display the scroll bar only when scrolling, but in the box less that uses the `scroll` option, letters are displayed in one line because the browser reserved space for scroll bars that will appear when you suppouse to start scrolling."
   ]
  },
  {
   "cell_type": "code",
   "execution_count": 110,
   "id": "9d3e8458-aade-4672-b63c-dd0202724684",
   "metadata": {},
   "outputs": [
    {
     "data": {
      "text/html": [
       "<hr>"
      ],
      "text/plain": [
       "<IPython.core.display.HTML object>"
      ]
     },
     "metadata": {},
     "output_type": "display_data"
    },
    {
     "name": "stdout",
     "output_type": "stream",
     "text": [
      "\n",
      "<div style=\"display:flex;height:5cm;width:10cm\">\n",
      "    <div style=\"border:solid;width:5cm;height:5cm;overflow-clip-margin: 1cm;overflow: scroll\">A B C D E F G H I J K L M N O P Q R S T U V W X Y </div>\n",
      "    <div style=\"border:solid;width:5cm;height:5cm;overflow-clip-margin: 1cm;overflow: auto\">A B C D E F G H I J K L M N O P Q R S T U V W X Y </div>\n",
      "</div>\n",
      "\n"
     ]
    },
    {
     "data": {
      "text/html": [
       "<hr>"
      ],
      "text/plain": [
       "<IPython.core.display.HTML object>"
      ]
     },
     "metadata": {},
     "output_type": "display_data"
    },
    {
     "data": {
      "text/html": [
       "\n",
       "<div style=\"display:flex;height:5cm;width:10cm\">\n",
       "    <div style=\"border:solid;width:5cm;height:5cm;overflow-clip-margin: 1cm;overflow: scroll\">A B C D E F G H I J K L M N O P Q R S T U V W X Y </div>\n",
       "    <div style=\"border:solid;width:5cm;height:5cm;overflow-clip-margin: 1cm;overflow: auto\">A B C D E F G H I J K L M N O P Q R S T U V W X Y </div>\n",
       "</div>\n"
      ],
      "text/plain": [
       "<IPython.core.display.HTML object>"
      ]
     },
     "execution_count": 110,
     "metadata": {},
     "output_type": "execute_result"
    }
   ],
   "source": [
    "contents = \"\"\n",
    "for i in range(65, 90): contents += chr(i) + \" \"\n",
    "div_styles = \"border:solid;width:5cm;height:5cm;overflow-clip-margin: 1cm;\"\n",
    "\n",
    "# you must set height for outer div\n",
    "# because if it's too small you\n",
    "# won't see difference between\n",
    "# options of overflow-clip-margin\n",
    "# property\n",
    "html_line = f\"\"\"\n",
    "<div style=\"display:flex;height:5cm;width:10cm\">\n",
    "    <div style=\\\"{div_styles}overflow: scroll\\\">{contents}</div>\n",
    "    <div style=\\\"{div_styles}overflow: auto\\\">{contents}</div>\n",
    "</div>\n",
    "\"\"\"\n",
    "display(HTML(\"<hr>\"))\n",
    "print(html_line)\n",
    "display(HTML(\"<hr>\"))\n",
    "\n",
    "\n",
    "HTML(html_line)"
   ]
  }
 ],
 "metadata": {
  "kernelspec": {
   "display_name": "Python 3 (ipykernel)",
   "language": "python",
   "name": "python3"
  },
  "language_info": {
   "codemirror_mode": {
    "name": "ipython",
    "version": 3
   },
   "file_extension": ".py",
   "mimetype": "text/x-python",
   "name": "python",
   "nbconvert_exporter": "python",
   "pygments_lexer": "ipython3",
   "version": "3.10.12"
  }
 },
 "nbformat": 4,
 "nbformat_minor": 5
}
