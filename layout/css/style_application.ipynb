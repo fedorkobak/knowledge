{
 "cells": [
  {
   "cell_type": "markdown",
   "id": "2f8aba4d-66cc-4705-89cf-623f17ce208f",
   "metadata": {},
   "source": [
    "# Style application\n",
    "\n",
    "This page is about various ways to align css to a specific group of elements."
   ]
  },
  {
   "cell_type": "markdown",
   "id": "a0d70774-a5b8-49bc-b320-4fbc4ed57ea7",
   "metadata": {},
   "source": [
    "## Integrated\n",
    "\n",
    "By using `style` attribute inside definition of element:"
   ]
  },
  {
   "cell_type": "code",
   "execution_count": 1,
   "id": "cc7b0799-80b0-4aaf-9ebc-035bcffab94e",
   "metadata": {},
   "outputs": [
    {
     "data": {
      "text/html": [
       "<p style=\"color:red\">Red paragraph</p>\n"
      ],
      "text/plain": [
       "<IPython.core.display.HTML object>"
      ]
     },
     "metadata": {},
     "output_type": "display_data"
    }
   ],
   "source": [
    "%%HTML\n",
    "<p style=\"color:red\">Red paragraph</p>"
   ]
  },
  {
   "cell_type": "markdown",
   "id": "14a2a2cd-fd63-4ebd-ae90-f0c017e0e32a",
   "metadata": {},
   "source": [
    "## Inside/Outsize"
   ]
  },
  {
   "cell_type": "markdown",
   "id": "35667df6-6a5d-43a3-bd06-6417261114d6",
   "metadata": {
    "jp-MarkdownHeadingCollapsed": true
   },
   "source": [
    "### Inside\n",
    "You can use `<style>` tag inside `<head>` of html page."
   ]
  },
  {
   "cell_type": "markdown",
   "id": "beb9aabe-30fc-43ff-ae6c-f42053fa8778",
   "metadata": {},
   "source": [
    "### Outsize\n",
    "\n",
    "With `<link rel=\"stylesheet\">` tag for giving reference for special css file."
   ]
  },
  {
   "cell_type": "markdown",
   "id": "27408017-d8aa-4573-af11-b8c2bb6251e3",
   "metadata": {},
   "source": [
    "## Basic selectors"
   ]
  },
  {
   "cell_type": "markdown",
   "id": "8d2c0c41-4c6b-4eba-832d-8bc5bf17a9ea",
   "metadata": {},
   "source": [
    "You can apply some style:\n",
    "\n",
    "- to all definitions of specific tag;\n",
    "- to elements with specific class `.class_name`;\n",
    "- to element with specific id `#id_name`;\n",
    "- to each element of the page with universal selector `*`.\n",
    "\n",
    "So the basic css syntax looks like:\n",
    "```\n",
    "    * {property_1:value_1, property_1:value_1, ...}\n",
    "    <tag name 1> {property_1_1:value_1_1, property_1_2:value_1_2, ...}\n",
    "    <tag name 2> {property_2_1:value_2_1, property_2_2:value_2_2, ...}\n",
    "    ...\n",
    "    <tag name n> {property_n_1:value_n_1, property_n_2:value_n_2, ...}\n",
    "    .<class name 1> {property_n+1_1:value_n+1_1, property_n+1_2:value_n+1_2, ...}\n",
    "    .<class name 2> {property_n+2_1:value_n+2_1, property_n+2_2:value_n+2_2, ...}\n",
    "    ...\n",
    "    .<class name k> {property_n+k_1:value_n+k_1, property_n+k_2:value_n+k_2, ...}\n",
    "    #<id name 1> property_n+k+1_1:value_n+k+1_1, property_n+k+1_2:value_n+k+1_2, ...}\n",
    "    #<id name 2> property_n+k+2_1:value_n+k+2_1, property_n+k+2_2:value_n+k+2_2, ...}\n",
    "    ...\n",
    "    #<id name m> property_n+k+m_1:value_n+k+m_1, property_n+k+m_2:value_n+k+m_2, ...}\n",
    "```"
   ]
  },
  {
   "cell_type": "markdown",
   "id": "88fbabd5-4dd1-4fff-9dd6-c8d68af47aed",
   "metadata": {},
   "source": [
    "In the following example, I use all of these options."
   ]
  },
  {
   "cell_type": "code",
   "execution_count": 2,
   "id": "74eec4ca-06c0-4d89-a48b-59dea3b5d87f",
   "metadata": {},
   "outputs": [
    {
     "name": "stdout",
     "output_type": "stream",
     "text": [
      "Overwriting style_application_files/selectors.html\n"
     ]
    }
   ],
   "source": [
    "%%writefile style_application_files/selectors.html\n",
    "\n",
    "<head>\n",
    "<style>\n",
    "  * {background-color: purple;}\n",
    "  h1 {background-color: red;}\n",
    "  #spec_id {background-color: green;} \n",
    "  .spec_class {background-color: yellow;}\n",
    "</style>\n",
    "</head>\n",
    "<body>\n",
    "\n",
    "<p>not header at all</p>\n",
    "<h1>just header</h1>\n",
    "<h1 class=\"spec_class\">header with class</h1>\n",
    "<h1  id=\"spec_id\" class=\"spec_class\">header with id</h1>\n",
    "<h1  id=\"spec_id\" class=\"spec_class\" style=\"background-color: blue;\">header with style</h1>\n",
    "\n",
    "</body>"
   ]
  },
  {
   "cell_type": "markdown",
   "id": "8c110195-8393-4d1a-803b-7b1a410e557d",
   "metadata": {},
   "source": [
    "See the results <a href=\"style_application_files/selectors.html\">here</a>.\n",
    "\n",
    "**Note** the last example shows that properties mentioned for tag are less important than properties mentioned for class. Id properties are more important than class properties. And properties mentioned in the `style` attribute have the higher priority."
   ]
  },
  {
   "cell_type": "markdown",
   "id": "4bde5237-a854-42c0-a139-3ed0680c544b",
   "metadata": {},
   "source": [
    "## Combination selectors\n",
    "\n",
    "You can define selector relatevety other selector."
   ]
  },
  {
   "cell_type": "markdown",
   "id": "837314ab-1713-4711-a3fe-6b0160d6e0d4",
   "metadata": {},
   "source": [
    "### Descendant selector `A B`\n",
    "\n",
    "If you are using the following syntax.\n",
    "\n",
    "```\n",
    "A B : {property_1:value_1, property_1:value_1, ...}\n",
    "```\n",
    "\n",
    "Where A and B are some other selectors. You will apply properties to items belonging to selector `B`, but only to `A`'s descendant at the same time.\n",
    "\n",
    "For example I setted blue font and red background for each element with class `my_class`. But by using `div .my_class {...}` selector I set a different background color for each `.my_class` instance inside div."
   ]
  },
  {
   "cell_type": "code",
   "execution_count": 3,
   "id": "66b2c0a2-0e69-4a92-a75e-c3748d117c24",
   "metadata": {},
   "outputs": [
    {
     "name": "stdout",
     "output_type": "stream",
     "text": [
      "Overwriting style_application_files/descendant_selector.html\n"
     ]
    }
   ],
   "source": [
    "%%writefile style_application_files/descendant_selector.html\n",
    "<header><style>\n",
    "    .my_class {\n",
    "        background: red;\n",
    "        color: blue\n",
    "    }\n",
    "    div .my_class {\n",
    "        background: green\n",
    "    }\n",
    "</style></header>\n",
    "<p class=\"my_class\">Just paragraph</p>\n",
    "<div>\n",
    "    <p class=\"my_class\">Paragraph in div</p>\n",
    "    <table>\n",
    "        <tr>\n",
    "            <td><text class=\"my_class\">my_class</text></td>\n",
    "            <td><text>some other cell</text></text></td></td>\n",
    "        </tr>\n",
    "        <tr>\n",
    "            <td><text>some other cell</text></td>\n",
    "            <td><text class=\"my_class\">my_class</text></td>\n",
    "        </tr>\n",
    "    </table>\n",
    "</div>\n",
    "<p class=\"my_class\">Just paragraph</p>\n"
   ]
  },
  {
   "cell_type": "markdown",
   "id": "8b023034-b0cd-4621-b2ca-aaf7b78a0677",
   "metadata": {},
   "source": [
    "See the result <a href=\"style_application_files/descendant_selector.html\">here</a>."
   ]
  },
  {
   "cell_type": "markdown",
   "id": "fd40566c-bee8-4de9-b2ea-47a947ffe526",
   "metadata": {},
   "source": [
    "### Daughter selector `A > B`\n",
    "\n",
    "If you are using the following syntax:\n",
    "\n",
    "```\n",
    "A > B : {property_1:value_1, property_1:value_1, ...}\n",
    "```\n",
    "\n",
    "Where A and B are some other selectors. You will apply properties to items belonging to selector `B`, but only to `A`'s daughter element at the same time (an element B is a child of element A if element B is a direct descendant of element A, i.e. there are no other levels of inheritance between them).\n",
    "\n",
    "So in the following example I define red background for colour for each `p` tag. But by using the syntax `.some_class > p {background: yellow}` I set yellow back ground to each daughter of `.some_class` instances. \n",
    "\n",
    "The main feature of the example is that I have used pargraphs:\n",
    "\n",
    "- Only paragraph - obvious red colour;\n",
    "- Daughter paragraph of `<div class=\"some_class\">` - obvious yellow color;\n",
    "- Descendant of `<div class=\"some_class\">` but not daughter - red color."
   ]
  },
  {
   "cell_type": "code",
   "execution_count": 4,
   "id": "deea8948-7b09-4ccd-a624-aa7cc6fe9225",
   "metadata": {},
   "outputs": [
    {
     "name": "stdout",
     "output_type": "stream",
     "text": [
      "Overwriting style_application_files/daughter_selector.html\n"
     ]
    }
   ],
   "source": [
    "%%writefile style_application_files/daughter_selector.html\n",
    "<header>\n",
    "    <style>\n",
    "        .some_class {\n",
    "            background: red\n",
    "        }\n",
    "        .some_class > p {\n",
    "            background: yellow\n",
    "        }\n",
    "    </style>\n",
    "</header>\n",
    "\n",
    "<p>some random paragraph</p>\n",
    "<div class=\"some_class\">\n",
    "    <p>Test paragraph daughter of some_class</p>\n",
    "    <div>\n",
    "        <p>Test paragraph descendant but not daughter of some_class</p>\n",
    "    </div>\n",
    "</div>"
   ]
  },
  {
   "cell_type": "markdown",
   "id": "4f810846-913d-4da3-a379-0f1523f68d02",
   "metadata": {},
   "source": [
    "See the result <a href=\"style_application_files/daughter_selector.html\">here</a>."
   ]
  },
  {
   "cell_type": "markdown",
   "id": "264cfc2e-1eff-4623-998a-7d0b8f1fc9b8",
   "metadata": {},
   "source": [
    "### Next element selector `A+B`\n",
    "\n",
    "If you are using the following syntax:\n",
    "\n",
    "```\n",
    "A+B : {property_1:value_1, property_1:value_1, ...}\n",
    "```\n",
    "\n",
    "Where `A` and `B` are some other selectors. Will apply properties to all elements belonging to the `B` selector, but only **next to** elements belonging to `A` within a parent.\n",
    "\n",
    "So in following example I using syntax `p+p {background:purple}`. As a result every paragraph after another paragraph will have a purple background:\n",
    "\n",
    "- First paragraph - obviously nothing before that => no colour;\n",
    "- Second paragraph - next to the first paragraph => purple colour;\n",
    "- Third paragraph - next to the second paragraph => purple colour;\n",
    "- Forth paragraph - the first inside this div => no colour;\n",
    "- Fifth paragraph - next to the forth in the same div => purple color;\n",
    "- Sixth paragraph - next to div, not paragraph => no color."
   ]
  },
  {
   "cell_type": "code",
   "execution_count": 5,
   "id": "9b85372a-7866-4a99-815d-2eb3da7c0db1",
   "metadata": {},
   "outputs": [
    {
     "name": "stdout",
     "output_type": "stream",
     "text": [
      "Overwriting style_application_files/next_element_selector.html\n"
     ]
    }
   ],
   "source": [
    "%%writefile style_application_files/next_element_selector.html\n",
    "\n",
    "<head>\n",
    "    <style>\n",
    "        p~p {background:purple}\n",
    "    </style>\n",
    "</head>\n",
    "\n",
    "<p>First paragraph</p>\n",
    "<p>Second paragraph</p>\n",
    "<p>Third paragraph</p>\n",
    "\n",
    "<div>\n",
    "    <p>Fourth paragraph (in div)</p>\n",
    "    <p>Fifth paragraph (in div)</p>\n",
    "</div>\n",
    "\n",
    "<p>Sixth paragraph</p>"
   ]
  },
  {
   "cell_type": "markdown",
   "id": "19f570ba-3ecf-4121-80fb-f1af2b3d8b80",
   "metadata": {},
   "source": [
    "See results <a href=\"style_application_files/next_element_selector.html\">here</a>."
   ]
  },
  {
   "cell_type": "markdown",
   "id": "0d038dec-0d93-4aac-87ed-a8f91ab8eea5",
   "metadata": {},
   "source": [
    "### After element selector `A~B`\n",
    "\n",
    "If you are using the following syntax:\n",
    "\n",
    "```\n",
    "A~B : {property_1:value_1, property_1:value_1, ...}\n",
    "```\n",
    "\n",
    "Where `A` and `B` are some other selectors. Will apply properties to all elements belonging to the `B` selector, but only **after** elements belonging to `A` within a parent.\n",
    "\n",
    "In following exmaple I use syntax `#my_id~p {background: yellow}`. So every paragraph after an element with `id=my_id` with same parent should have yellow background. See result <a href=\"css_files/after_element_selector.html\">here</a>.\n",
    "\n",
    "A detailed breakdown of the result:\n",
    "\n",
    "- First paragraph - obviously nothing before that => no colour;\n",
    "- Second paragraph - have only first paragraph before wich don't have any id => no colour;\n",
    "- Third paragraph - have second paragraph before, which have an `id=my_id` => yellow colour;\n",
    "- Forth paragraph - first paragraph in the div => no colour;\n",
    "- Fifth paragraph - have second paragraph before, which have an `id=my_id` => yellow colour."
   ]
  },
  {
   "cell_type": "code",
   "execution_count": 6,
   "id": "aab9cf70-c291-416a-bb8c-d36fb2501865",
   "metadata": {},
   "outputs": [
    {
     "name": "stdout",
     "output_type": "stream",
     "text": [
      "Overwriting style_application_files/after_element_selector.html\n"
     ]
    }
   ],
   "source": [
    "%%writefile style_application_files/after_element_selector.html\n",
    "<head>\n",
    "    <style>\n",
    "        #my_id~p {background: yellow}\n",
    "    </style>\n",
    "</head>\n",
    "\n",
    "<p>First paragraph</p>\n",
    "<p id=\"my_id\">Second paragraph with id</p>\n",
    "<p>Third paragraph</p>\n",
    "<div>\n",
    "    <p>Fourth paragraph</p>\n",
    "</div>\n",
    "<p>Fiftht paragraph</p>"
   ]
  },
  {
   "cell_type": "markdown",
   "id": "2b67bced-4a1a-4007-b88e-3895baf448fd",
   "metadata": {},
   "source": [
    "See result <a href=\"style_application_files/after_element_selector.html\">here</a>."
   ]
  },
  {
   "cell_type": "markdown",
   "id": "496cbf3f-ae53-4d26-966f-8f241ab21f74",
   "metadata": {},
   "source": [
    "**Note** аlways prioritise the style that is listed later. In following example I have two divs:\n",
    "\n",
    "- First div:\n",
    "    - First paragraph make second paragraph to have yellow background;\n",
    "    - Third paragraph make fourth, fifth, sixth to have purple colour;\n",
    "    - Sixth paragraph doesn't return yellow colour;\n",
    "- Second div:\n",
    "    - Fist paragraph make all paragraphs after to have a purple color;\n",
    "    - Third paragraph doesn't make the folowing paragraphs yellow."
   ]
  },
  {
   "cell_type": "code",
   "execution_count": 7,
   "id": "b6cc341b-f33b-426a-afbb-3f59b97b0968",
   "metadata": {},
   "outputs": [
    {
     "name": "stdout",
     "output_type": "stream",
     "text": [
      "Overwriting style_application_files/after_element_selector_hierarchy.html\n"
     ]
    }
   ],
   "source": [
    "%%writefile style_application_files/after_element_selector_hierarchy.html\n",
    "<head>\n",
    "    <style>\n",
    "        #id_one~p {background: yellow}\n",
    "        #id_two~p {background: purple}\n",
    "    </style>\n",
    "</head>\n",
    "<h1>div1</h1>\n",
    "<div>\n",
    "    <p id=\"id_one\">first paragraph div1</p>\n",
    "    <p>second paragraph div1</p>\n",
    "    <p id=\"id_two\">third paragraph div1</p>\n",
    "    <p>forth paragraph div1</p>\n",
    "    <p>fifth paragraph div1</p>\n",
    "    <p id=\"id_one\">sixth paragraph div1</p>\n",
    "    <p id=\"id_one\">seventh paragraph div1</p>\n",
    "</div>\n",
    "\n",
    "<h1>div2</h1>\n",
    "<div>\n",
    "    <p id=\"id_two\">first paragraph div2</p>\n",
    "    <p>second paragraph div2</p>\n",
    "    <p id=\"id_one\">third paragraph div2</p>\n",
    "    <p>forth paragraph div2</p>\n",
    "    <p>fifth paragraph div2</p>\n",
    "</div>"
   ]
  },
  {
   "cell_type": "markdown",
   "id": "45323e88-5e6f-43ea-98d9-0769950aaf7c",
   "metadata": {},
   "source": [
    "See result <a href=\"style_application_files/after_element_selector_hierarchy.html\">here</a>.\n",
    "\n",
    "Looks like that style for `id_two` was defined later so this style is preferable than style defined for `id_one`."
   ]
  }
 ],
 "metadata": {
  "kernelspec": {
   "display_name": "Python 3 (ipykernel)",
   "language": "python",
   "name": "python3"
  },
  "language_info": {
   "codemirror_mode": {
    "name": "ipython",
    "version": 3
   },
   "file_extension": ".py",
   "mimetype": "text/x-python",
   "name": "python",
   "nbconvert_exporter": "python",
   "pygments_lexer": "ipython3",
   "version": "3.10.12"
  }
 },
 "nbformat": 4,
 "nbformat_minor": 5
}
