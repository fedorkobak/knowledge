{
 "cells": [
  {
   "cell_type": "markdown",
   "id": "b5372181-e056-4728-9b2a-623611298fc1",
   "metadata": {},
   "source": [
    "# Margin (out space)\n",
    "\n",
    "This option allows you to add some extra space between an object and the objects surrounding it."
   ]
  },
  {
   "cell_type": "markdown",
   "id": "63647211-43ac-43fd-9f18-eec3fef56460",
   "metadata": {},
   "source": [
    "## Basic\n",
    "\n",
    "By using this property you can set distance from outside elemnts. Use following syntax:\n",
    "\n",
    "- `margin-<top/left/right/bottom>: <value>`;\n",
    "- `margin: <value for all sides>`;\n",
    "- `margin: <top and bottom> <left and right>`;\n",
    "- `margin: <top> <left and right> <bottom>`;\n",
    "- `margin: <top> <right> <bottom> <left>`."
   ]
  },
  {
   "cell_type": "code",
   "execution_count": 1,
   "id": "bb53ea4f-977f-42e1-8d86-d2646f4a287f",
   "metadata": {},
   "outputs": [
    {
     "data": {
      "text/html": [
       "<div style=\"border:solid green\">\n",
       "    <div style=\"border:solid 10px; margin-top: 10px\">Upper element</div>\n",
       "    <div style=\"border:solid 10px; margin: 50px 0px 100px 50px\">Middle element</div>\n",
       "    <div style=\"border:solid 10px\">Lower element</div>\n",
       "</div>\n"
      ],
      "text/plain": [
       "<IPython.core.display.HTML object>"
      ]
     },
     "metadata": {},
     "output_type": "display_data"
    }
   ],
   "source": [
    "%%HTML\n",
    "<div style=\"border:solid green\">\n",
    "    <div style=\"border:solid 10px; margin-top: 10px\">Upper element</div>\n",
    "    <div style=\"border:solid 10px; margin: 50px 0px 100px 50px\">Middle element</div>\n",
    "    <div style=\"border:solid 10px\">Lower element</div>\n",
    "</div>"
   ]
  },
  {
   "cell_type": "markdown",
   "id": "c1ed99e8-12fb-4333-91fd-cf911d08f672",
   "metadata": {},
   "source": [
    "## Available values\n",
    "\n",
    "Value can be setted as:\n",
    "\n",
    "- px, cm, pt etc.\n",
    "- inherit - use option like parent;\n",
    "- auto."
   ]
  },
  {
   "cell_type": "markdown",
   "id": "2eb4029f-0f14-49cd-a82f-d6ce35d114f4",
   "metadata": {},
   "source": [
    "### Inherit"
   ]
  },
  {
   "cell_type": "code",
   "execution_count": 2,
   "id": "9e180cc2-afdf-4cdc-92d0-6f7d2398ff37",
   "metadata": {},
   "outputs": [
    {
     "data": {
      "text/html": [
       "<div style=\"border:solid green\">\n",
       "    <div style=\"border:solid 10px red; margin: 0px 30px 100px 50px\">\n",
       "        <div style=\"border:solid 10px; margin: inherit\">margin: inherit</div>\n",
       "    </div>\n",
       "</div>\n"
      ],
      "text/plain": [
       "<IPython.core.display.HTML object>"
      ]
     },
     "metadata": {},
     "output_type": "display_data"
    }
   ],
   "source": [
    "%%HTML\n",
    "<div style=\"border:solid green\">\n",
    "    <div style=\"border:solid 10px red; margin: 0px 30px 100px 50px\">\n",
    "        <div style=\"border:solid 10px; margin: inherit\">margin: inherit</div>\n",
    "    </div>\n",
    "</div>"
   ]
  },
  {
   "cell_type": "markdown",
   "id": "d36a5d29-701d-4d01-a724-f23ac20e0d65",
   "metadata": {},
   "source": [
    "### Auto\n",
    "\n",
    "With this option, the element will take up all available vertical space and be centred horizontally."
   ]
  },
  {
   "cell_type": "code",
   "execution_count": 3,
   "id": "85722c5e-5f5e-445a-a5dd-a4ca0603e598",
   "metadata": {},
   "outputs": [
    {
     "data": {
      "text/html": [
       "<div style=\"border:solid green\">\n",
       "    <div style=\"border:solid 10px red; margin: auto;width: 500px; height: 200px\">\n",
       "        border:solid 10px red; margin: auto;width: 500px; height: 200px\n",
       "    </div>\n",
       "</div>\n"
      ],
      "text/plain": [
       "<IPython.core.display.HTML object>"
      ]
     },
     "metadata": {},
     "output_type": "display_data"
    }
   ],
   "source": [
    "%%HTML\n",
    "<div style=\"border:solid green\">\n",
    "    <div style=\"border:solid 10px red; margin: auto;width: 500px; height: 200px\">\n",
    "        border:solid 10px red; margin: auto;width: 500px; height: 200px\n",
    "    </div>\n",
    "</div>"
   ]
  },
  {
   "cell_type": "code",
   "execution_count": 4,
   "id": "b06499b0-8d6f-4504-a6a4-7639d6ce28a7",
   "metadata": {},
   "outputs": [
    {
     "data": {
      "text/html": [
       "<div style=\"border:solid green\">\n",
       "    <div>Some other div</div>\n",
       "    <div style=\"border:solid 10px red; margin: auto;width: 500px; height: 200px\">\n",
       "        border:solid 10px red; margin: auto;width: 500px; height: 200px\n",
       "    </div>\n",
       "</div>\n"
      ],
      "text/plain": [
       "<IPython.core.display.HTML object>"
      ]
     },
     "metadata": {},
     "output_type": "display_data"
    }
   ],
   "source": [
    "%%HTML\n",
    "<div style=\"border:solid green\">\n",
    "    <div>Some other div</div>\n",
    "    <div style=\"border:solid 10px red; margin: auto;width: 500px; height: 200px\">\n",
    "        border:solid 10px red; margin: auto;width: 500px; height: 200px\n",
    "    </div>\n",
    "</div>"
   ]
  },
  {
   "cell_type": "markdown",
   "id": "6562f2a8-cdb3-4a2b-adf5-f3d74ce3ec6c",
   "metadata": {},
   "source": [
    "## Slamming the indentation\n",
    "\n",
    "If you are unig two elememtns close and:\n",
    "\n",
    "- Top element has bottom margin;\n",
    "- Bottom element has top margin;\n",
    "\n",
    "The browser interprets this as an offset equal to the maximum of the original. In the following example, you can compare two blocks with two 200px margins and two blocks with only one 400px margin."
   ]
  },
  {
   "cell_type": "code",
   "execution_count": 5,
   "id": "ee8e5162-c636-4d08-9bad-35bee56976a5",
   "metadata": {},
   "outputs": [
    {
     "data": {
      "text/html": [
       "<div style=\"border:solid green\">\n",
       "    <div style=\"margin-bottom: 200px;border:solid red\">Top div</div>\n",
       "    <div style=\"margin-top: 200px; border:solid red\"> Bottom div</div>\n",
       "</div>\n",
       "<div style=\"border:solid green\">\n",
       "    <div style=\"margin-bottom: 400px;border:solid red\">Top div</div>\n",
       "    <div style=\"border:solid red\"> Bottom div</div>\n",
       "</div>\n"
      ],
      "text/plain": [
       "<IPython.core.display.HTML object>"
      ]
     },
     "metadata": {},
     "output_type": "display_data"
    }
   ],
   "source": [
    "%%HTML\n",
    "<div style=\"border:solid green\">\n",
    "    <div style=\"margin-bottom: 200px;border:solid red\">Top div</div>\n",
    "    <div style=\"margin-top: 200px; border:solid red\"> Bottom div</div>\n",
    "</div>\n",
    "<div style=\"border:solid green\">\n",
    "    <div style=\"margin-bottom: 400px;border:solid red\">Top div</div>\n",
    "    <div style=\"border:solid red\"> Bottom div</div>\n",
    "</div>"
   ]
  },
  {
   "cell_type": "markdown",
   "id": "2ae7d986-ffee-4d9b-8e82-3d9408b91b39",
   "metadata": {},
   "source": [
    "### Percentage\n",
    "\n",
    "You can set the margin relative to the parent size. \n",
    "\n",
    "So in the following example, a parent `div` is created with a width of 500px. And two child elements, one using `margin-left: 50%`, the other `margin-left: 250px` - both elements have a similar margin from the left edge of the parent."
   ]
  },
  {
   "cell_type": "code",
   "execution_count": 19,
   "id": "96effaaa-88d3-4f3a-8f41-67084ebb9644",
   "metadata": {},
   "outputs": [
    {
     "data": {
      "text/html": [
       "<div style=\"border:solid green; width: 500px; height: 100px\">\n",
       "    <div style=\"margin-left: 50%;border:solid red\">margin-left: 50%</div>\n",
       "    <div style=\"margin-left: 250px;border:solid red\">margin-left: 250px</div>\n",
       "</div>\n"
      ],
      "text/plain": [
       "<IPython.core.display.HTML object>"
      ]
     },
     "metadata": {},
     "output_type": "display_data"
    }
   ],
   "source": [
    "%%HTML\n",
    "<div style=\"border:solid green; width: 500px; height: 100px\">\n",
    "    <div style=\"margin-left: 50%;border:solid red\">margin-left: 50%</div>\n",
    "    <div style=\"margin-left: 250px;border:solid red\">margin-left: 250px</div>\n",
    "</div>"
   ]
  }
 ],
 "metadata": {
  "kernelspec": {
   "display_name": "Python 3 (ipykernel)",
   "language": "python",
   "name": "python3"
  },
  "language_info": {
   "codemirror_mode": {
    "name": "ipython",
    "version": 3
   },
   "file_extension": ".py",
   "mimetype": "text/x-python",
   "name": "python",
   "nbconvert_exporter": "python",
   "pygments_lexer": "ipython3",
   "version": "3.10.12"
  }
 },
 "nbformat": 4,
 "nbformat_minor": 5
}
