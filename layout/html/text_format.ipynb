{
 "cells": [
  {
   "cell_type": "markdown",
   "id": "2ffde0e3",
   "metadata": {},
   "source": [
    "# Text format\n",
    "\n",
    "There is a set of HTML tags that allows you to format text on a page to look in the particular way or apply special properties to the specific sections of the text."
   ]
  },
  {
   "cell_type": "markdown",
   "id": "cf56f60b",
   "metadata": {},
   "source": [
    "## Paragraph (`<p>`)\n",
    "\n",
    "In HTML, if you indent the text, it will still be displayed on one line. To move text to the next line, you have to use the `<p>` tag. "
   ]
  },
  {
   "cell_type": "markdown",
   "id": "bd6832f6",
   "metadata": {},
   "source": [
    "---\n",
    "\n",
    "The following cell shows how it will appear in HTML, even with two indents between lines."
   ]
  },
  {
   "cell_type": "code",
   "execution_count": 3,
   "id": "db923292",
   "metadata": {},
   "outputs": [
    {
     "data": {
      "text/html": [
       "Paragraph1\n",
       "\n",
       "Paragraph2\n",
       "\n",
       "Paragraph3\n"
      ],
      "text/plain": [
       "<IPython.core.display.HTML object>"
      ]
     },
     "metadata": {},
     "output_type": "display_data"
    }
   ],
   "source": [
    "%%HTML\n",
    "Paragraph1\n",
    "\n",
    "Paragraph2\n",
    "\n",
    "Paragraph3"
   ]
  },
  {
   "cell_type": "markdown",
   "id": "034ca0e4",
   "metadata": {},
   "source": [
    "Use the `<p>` tag to indent between lines."
   ]
  },
  {
   "cell_type": "code",
   "execution_count": 4,
   "id": "ee6f6a03",
   "metadata": {},
   "outputs": [
    {
     "data": {
      "text/html": [
       "<p>Paragraph 1</p><p>Paragraph 2</p><p>...</p><p>Paragraph n</p>\n"
      ],
      "text/plain": [
       "<IPython.core.display.HTML object>"
      ]
     },
     "metadata": {},
     "output_type": "display_data"
    }
   ],
   "source": [
    "%%HTML\n",
    "<p>Paragraph 1</p><p>Paragraph 2</p><p>...</p><p>Paragraph n</p>"
   ]
  },
  {
   "cell_type": "markdown",
   "id": "1c0d4569",
   "metadata": {},
   "source": [
    "## Emphasis\n",
    "\n",
    "For each emphasis type there is a special kind of the HTML tag:\n",
    "\n",
    "- `<b>`: for bold text.\n",
    "- `<i>`: for italic text.\n",
    "- `<u>`: for underlined text."
   ]
  },
  {
   "cell_type": "markdown",
   "id": "9ab431fd",
   "metadata": {},
   "source": [
    "---\n",
    "\n",
    "The following cell uses all the tags for text emphasis."
   ]
  },
  {
   "cell_type": "code",
   "execution_count": null,
   "id": "d7b48e76",
   "metadata": {},
   "outputs": [
    {
     "data": {
      "text/html": [
       "<b>Bold text</b><br>\n",
       "<i>Italic text</i><br>\n",
       "<u>Underlined text</u><br>\n"
      ],
      "text/plain": [
       "<IPython.core.display.HTML object>"
      ]
     },
     "metadata": {},
     "output_type": "display_data"
    }
   ],
   "source": [
    "%%HTML\n",
    "<b>Bold text</b><br>\n",
    "<i>Italic text</i><br>\n",
    "<u>Underlined text</u>"
   ]
  },
  {
   "cell_type": "markdown",
   "id": "8d5bedc8",
   "metadata": {},
   "source": [
    "## Style section (`<span>`)\n",
    "\n",
    "`<span>` is a generic inline HTML tag used to apply styles or attributes to a portion of text or a group of inline elements without affecting the document layout.\n",
    "\n",
    "However, it is a relly common issue to add some specific settings to a subset of the symbols in text. It is not really obvious that you need to use the `<span>` tag to perform such an opeartion. That's why the `<span>` tag is represented in this section."
   ]
  },
  {
   "cell_type": "markdown",
   "id": "b77b5ff3",
   "metadata": {},
   "source": [
    "---\n",
    "\n",
    "In the following cell `<div>` and `<span>` tags are used to apply a red color to a section of the text.\n",
    "\n"
   ]
  },
  {
   "cell_type": "code",
   "execution_count": 6,
   "id": "de00ea7b",
   "metadata": {},
   "outputs": [
    {
     "data": {
      "text/html": [
       "This <span style=\"color:red\">Text</span> surrounded by snap.<p>\n",
       "This <div style=\"color:red\">Text</div> surrounded by div.    \n"
      ],
      "text/plain": [
       "<IPython.core.display.HTML object>"
      ]
     },
     "metadata": {},
     "output_type": "display_data"
    }
   ],
   "source": [
    "%%HTML\n",
    "This <span style=\"color:red\">Text</span> surrounded by snap.<p>\n",
    "This <div style=\"color:red\">Text</div> surrounded by div.    "
   ]
  },
  {
   "cell_type": "markdown",
   "id": "4d9c3e6a",
   "metadata": {},
   "source": [
    "As the result:\n",
    "\n",
    "- `<div>` tag sets the text in a separate paragraph.\n",
    "- `<span>` tag just apply font style to text."
   ]
  },
  {
   "cell_type": "markdown",
   "id": "7daf40a1",
   "metadata": {},
   "source": [
    "## Thematic break (`<hr>`)\n",
    "\n",
    "It will be displayed as horizontal line by page width."
   ]
  },
  {
   "cell_type": "code",
   "execution_count": null,
   "id": "2c832547",
   "metadata": {},
   "outputs": [
    {
     "data": {
      "text/html": [
       "Text with sence 1\n",
       "<hr>\n",
       "Text with sence 2\n"
      ],
      "text/plain": [
       "<IPython.core.display.HTML object>"
      ]
     },
     "metadata": {},
     "output_type": "display_data"
    }
   ],
   "source": [
    "%%HTML\n",
    "Text with sence 1\n",
    "<hr>\n",
    "Text with sence 2"
   ]
  },
  {
   "cell_type": "markdown",
   "id": "ecfacc9a",
   "metadata": {},
   "source": [
    "## Preformatted text (`<pre>`)\n",
    "\n",
    "The `<pre>` tag in HTML is used to define preformatted text, which preserves both spaces and line breaks. It is commonly used to display code snippets or other types of text that require a fixed-width font and exact formatting."
   ]
  },
  {
   "cell_type": "markdown",
   "id": "efeddeb6",
   "metadata": {},
   "source": [
    "---\n",
    "\n",
    "The following example, shows the same poem displayed both as raw text and as text surrounded by the `<pre></pre>` tag. "
   ]
  },
  {
   "cell_type": "code",
   "execution_count": 7,
   "id": "554a6d69",
   "metadata": {},
   "outputs": [
    {
     "data": {
      "text/html": [
       "In the realm of dreams we wander,\n",
       "Where reality is torn asunder.\n",
       "Whispers of love and tales untold,\n",
       "A symphony of emotions, bold.\n",
       "\n",
       "Stars dance upon a velvet sky,\n",
       "As moonbeams paint a lullaby.\n",
       "Nature's canvas, a masterpiece,\n",
       "Where hearts find solace and peace.\n",
       "\n",
       "<pre>\n",
       "Through winding paths we tread,\n",
       "Seeking answers that lie ahead.\n",
       "Life's tapestry, a vibrant hue,\n",
       "Each moment, a story to pursue.\n",
       "\n",
       "So let us cherish this fleeting rhyme,\n",
       "Embrace the beauty in every chime.\n",
       "For in these words, a glimpse we find,\n",
       "Of the magic that dwells in mankind.\n",
       "</pre>\n"
      ],
      "text/plain": [
       "<IPython.core.display.HTML object>"
      ]
     },
     "metadata": {},
     "output_type": "display_data"
    }
   ],
   "source": [
    "%%HTML\n",
    "In the realm of dreams we wander,\n",
    "Where reality is torn asunder.\n",
    "Whispers of love and tales untold,\n",
    "A symphony of emotions, bold.\n",
    "\n",
    "Stars dance upon a velvet sky,\n",
    "As moonbeams paint a lullaby.\n",
    "Nature's canvas, a masterpiece,\n",
    "Where hearts find solace and peace.\n",
    "\n",
    "<pre>\n",
    "Through winding paths we tread,\n",
    "Seeking answers that lie ahead.\n",
    "Life's tapestry, a vibrant hue,\n",
    "Each moment, a story to pursue.\n",
    "\n",
    "So let us cherish this fleeting rhyme,\n",
    "Embrace the beauty in every chime.\n",
    "For in these words, a glimpse we find,\n",
    "Of the magic that dwells in mankind.\n",
    "</pre>"
   ]
  },
  {
   "cell_type": "markdown",
   "id": "06c68786",
   "metadata": {},
   "source": [
    "The text surrounded by the `<pre></pre>` tag is displayed exactly as it was written in the HTML code."
   ]
  },
  {
   "cell_type": "markdown",
   "id": "c2572a24",
   "metadata": {},
   "source": [
    "## `<em>` - important italic\n",
    "\n",
    "It looks just like bold but It has special importance for search engines."
   ]
  },
  {
   "cell_type": "code",
   "execution_count": null,
   "id": "c10ceaf3",
   "metadata": {},
   "outputs": [
    {
     "data": {
      "text/html": [
       "<em>Some emphasized text</em>'\n"
      ],
      "text/plain": [
       "<IPython.core.display.HTML object>"
      ]
     },
     "metadata": {},
     "output_type": "display_data"
    }
   ],
   "source": [
    "%%HTML\n",
    "<em>Some emphasized text</em>'"
   ]
  },
  {
   "cell_type": "markdown",
   "id": "59b8ade0",
   "metadata": {},
   "source": [
    "## `<dfn>` - tag for definitions\n",
    "\n",
    "If you want to define smt. you should use this tag. By default it is displayed in italics."
   ]
  },
  {
   "cell_type": "code",
   "execution_count": null,
   "id": "a2dac5de",
   "metadata": {},
   "outputs": [
    {
     "data": {
      "text/html": [
       "<dfn>Definition</dfn>\n"
      ],
      "text/plain": [
       "<IPython.core.display.HTML object>"
      ]
     },
     "metadata": {},
     "output_type": "display_data"
    }
   ],
   "source": [
    "%%HTML\n",
    "<dfn>Definition</dfn>"
   ]
  },
  {
   "cell_type": "markdown",
   "id": "b5f1db7e",
   "metadata": {},
   "source": [
    "## `<strong>` -  inportant bold\n",
    "\n",
    "It looks just like bold but It has special importance for search engines."
   ]
  },
  {
   "cell_type": "code",
   "execution_count": null,
   "id": "7cfeb4fd",
   "metadata": {},
   "outputs": [
    {
     "data": {
      "text/html": [
       "<strong>Some emphasized text</strong>\n"
      ],
      "text/plain": [
       "<IPython.core.display.HTML object>"
      ]
     },
     "metadata": {},
     "output_type": "display_data"
    }
   ],
   "source": [
    "%%HTML\n",
    "<strong>Some emphasized text</strong>"
   ]
  },
  {
   "cell_type": "markdown",
   "id": "d8773cbf",
   "metadata": {},
   "source": [
    "## `<small>` - smaller text\n",
    "\n",
    "Text surrounded by this tag will be one size smaller than the parent font."
   ]
  },
  {
   "cell_type": "code",
   "execution_count": null,
   "id": "e715dca3",
   "metadata": {},
   "outputs": [
    {
     "data": {
      "text/html": [
       "<p>Parent font1 <small>small font</small> parent font2</p>\n"
      ],
      "text/plain": [
       "<IPython.core.display.HTML object>"
      ]
     },
     "metadata": {},
     "output_type": "display_data"
    }
   ],
   "source": [
    "%%HTML\n",
    "<p>Parent font1 <small>small font</small> parent font2</p>"
   ]
  },
  {
   "cell_type": "markdown",
   "id": "6bffbb9e",
   "metadata": {},
   "source": [
    "## `<del>` - deleted info\n",
    "\n",
    "This tag is used to mark outdated information that should be deleted from the document. This will look like crossed out text."
   ]
  },
  {
   "cell_type": "code",
   "execution_count": null,
   "id": "f79f7895",
   "metadata": {},
   "outputs": [
    {
     "data": {
      "text/html": [
       "<del> outdated information</del>\n"
      ],
      "text/plain": [
       "<IPython.core.display.HTML object>"
      ]
     },
     "metadata": {},
     "output_type": "display_data"
    }
   ],
   "source": [
    "%%HTML\n",
    "<del> outdated information</del>"
   ]
  },
  {
   "cell_type": "markdown",
   "id": "f99d7e13",
   "metadata": {},
   "source": [
    "## `<ins>` - inserted info\n",
    "\n",
    "This tag usually surrounds text that was inserted later in the page. It looks like underlined text."
   ]
  },
  {
   "cell_type": "code",
   "execution_count": null,
   "id": "89dd4bf0",
   "metadata": {},
   "outputs": [
    {
     "data": {
      "text/html": [
       "<ins> new information</ins>\n"
      ],
      "text/plain": [
       "<IPython.core.display.HTML object>"
      ]
     },
     "metadata": {},
     "output_type": "display_data"
    }
   ],
   "source": [
    "%%HTML\n",
    "<ins> new information</ins>"
   ]
  },
  {
   "cell_type": "markdown",
   "id": "9cee087a",
   "metadata": {},
   "source": [
    "## `<q>` - quote\n",
    "\n",
    "You should surround quotes with this tag. Browsers usually display them surrounded by `\"`."
   ]
  },
  {
   "cell_type": "code",
   "execution_count": null,
   "id": "699ce0bd",
   "metadata": {},
   "outputs": [
    {
     "data": {
      "text/html": [
       "<q>Fedor Kobak truly ingenious</q>\n"
      ],
      "text/plain": [
       "<IPython.core.display.HTML object>"
      ]
     },
     "metadata": {},
     "output_type": "display_data"
    }
   ],
   "source": [
    "%%HTML\n",
    "<q>Fedor Kobak truly ingenious</q>"
   ]
  },
  {
   "cell_type": "markdown",
   "id": "d31cf068",
   "metadata": {},
   "source": [
    "## `<blockquote>` - multiline quote\n",
    "\n",
    "You should surround long quotations with this tag."
   ]
  },
  {
   "cell_type": "code",
   "execution_count": null,
   "id": "2061aafa",
   "metadata": {},
   "outputs": [
    {
     "data": {
      "text/html": [
       "<blockquote>\n",
       "People think focus means saying yes to the thing you've got to focus on.<br> It means saying no to the hundred other good ideas that there are. You have to pick carefully.\n",
       "</blockquote>\n"
      ],
      "text/plain": [
       "<IPython.core.display.HTML object>"
      ]
     },
     "metadata": {},
     "output_type": "display_data"
    }
   ],
   "source": [
    "%%HTML\n",
    "<blockquote>\n",
    "People think focus means saying yes to the thing you've got to focus on.<br> It means saying no to the hundred other good ideas that there are. You have to pick carefully.\n",
    "</blockquote>"
   ]
  }
 ],
 "metadata": {
  "kernelspec": {
   "display_name": "knowledge",
   "language": "python",
   "name": "python3"
  },
  "language_info": {
   "codemirror_mode": {
    "name": "ipython",
    "version": 3
   },
   "file_extension": ".py",
   "mimetype": "text/x-python",
   "name": "python",
   "nbconvert_exporter": "python",
   "pygments_lexer": "ipython3",
   "version": "3.12.9"
  }
 },
 "nbformat": 4,
 "nbformat_minor": 5
}
