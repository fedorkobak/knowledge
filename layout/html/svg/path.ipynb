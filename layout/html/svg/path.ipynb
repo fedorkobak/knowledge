{
 "cells": [
  {
   "cell_type": "markdown",
   "id": "6b58266d",
   "metadata": {},
   "source": [
    "# Path\n",
    "\n",
    "A path is an element that can be used to create complex shapes, such as a series of lines, curves, and arcs."
   ]
  },
  {
   "cell_type": "markdown",
   "id": "fbaac80e",
   "metadata": {
    "vscode": {
     "languageId": "plaintext"
    }
   },
   "source": [
    "##  Arc\n",
    "\n",
    "An arc is a segment of an ellipse. In `path` commands, the `A/a` commands corresponds to the arc. The arc commands are supposed to be used with the following syntax:\n",
    "\n",
    "```\n",
    "A rx ry x-axis-rotation large-arc-flag sweep-flag x y\n",
    "a rx ry x-axis-rotation large-arc-flag sweep-flag dx dy\n",
    "```\n",
    "\n",
    "- `rx ry`: the radius of the ellipse wich section is taken.\n",
    "- `x y/ dx dy`: defines the point where the current arc ends.\n",
    "- `x-axis-rotation` the rotation fo the ellipce.\n",
    "- `large-arc-flag`: there are two ellipses that mark the start and end points of the arc, this parameter defines arc from which ellipce will be used. \n",
    "- `sweep-flag`: There are two possible sections that can be taken from each ellipse. This flag defines which section will be taken."
   ]
  },
  {
   "cell_type": "markdown",
   "id": "ad4b2a50",
   "metadata": {},
   "source": [
    "---\n",
    "\n",
    "The following cell shows an ellipse and the simple arc that corresponds to it."
   ]
  },
  {
   "cell_type": "code",
   "execution_count": 141,
   "id": "fbc06c23",
   "metadata": {},
   "outputs": [
    {
     "data": {
      "text/html": [
       "<svg \n",
       "width=\"400\" height=\"200\"\n",
       "fill=\"none\"\n",
       ">\n",
       "    <ellipse\n",
       "        cx=\"100\" cy=\"60\"\n",
       "        rx=\"100\" ry=\"50\"\n",
       "        transform=\"rotate(-45 150 75)\"\n",
       "        stroke=\"black\"\n",
       "        stroke-width=\"7\"\n",
       "    />\n",
       "\n",
       "    <path d=\"M 93 45 A 100 50 -45 0 1 182 45\" stroke=\"red\" stroke-width=\"3\"/>\n",
       "</svg>\n"
      ],
      "text/plain": [
       "<IPython.core.display.HTML object>"
      ]
     },
     "metadata": {},
     "output_type": "display_data"
    }
   ],
   "source": [
    "%%HTML\n",
    "<svg \n",
    "width=\"400\" height=\"200\"\n",
    "fill=\"none\"\n",
    ">\n",
    "    <ellipse\n",
    "        cx=\"100\" cy=\"60\"\n",
    "        rx=\"100\" ry=\"50\"\n",
    "        transform=\"rotate(-45 150 75)\"\n",
    "        stroke=\"black\"\n",
    "        stroke-width=\"7\"\n",
    "    />\n",
    "\n",
    "    <path d=\"M 93 45 A 100 50 -45 0 1 182 45\" stroke=\"red\" stroke-width=\"3\"/>\n",
    "</svg>"
   ]
  },
  {
   "cell_type": "markdown",
   "id": "4cde0d2f",
   "metadata": {},
   "source": [
    "### Rotation\n",
    "\n",
    "The third argument of the `A` command defines how the ellipse, which is the prototype for the arc, will be rotated."
   ]
  },
  {
   "cell_type": "markdown",
   "id": "806cd11c",
   "metadata": {},
   "source": [
    "---\n",
    "\n",
    "The following cell shows arcs that are rotated at different angles."
   ]
  },
  {
   "cell_type": "code",
   "execution_count": 167,
   "id": "2000076c",
   "metadata": {},
   "outputs": [
    {
     "data": {
      "text/html": [
       "<svg\n",
       "width=\"300\" height=\"100\"\n",
       "xmlns=\"http://www.w3.org/2000/svg\"\n",
       "stroke=\"black\" \n",
       "fill=\"none\"\n",
       "stroke-width=\"5\"\n",
       ">\n",
       "    <path d=\"M 0 70 a 10 30 0 0  1 40 0\" />\n",
       "    <path d=\"M 50 70 a 10 30 20 0 1 40 0\" />\n",
       "    <path d=\"M 100 70 a 10 30 40 0 1 40 0\" />\n",
       "    <path d=\"M 150 70 a 10 30 60 0 1 40 0\" />\n",
       "    <path d=\"M 200 70 a 10 30 80 0 1 40 0\" />\n",
       "</svg>\n"
      ],
      "text/plain": [
       "<IPython.core.display.HTML object>"
      ]
     },
     "metadata": {},
     "output_type": "display_data"
    }
   ],
   "source": [
    "%%HTML\n",
    "<svg\n",
    "width=\"300\" height=\"100\"\n",
    "xmlns=\"http://www.w3.org/2000/svg\"\n",
    "stroke=\"black\" \n",
    "fill=\"none\"\n",
    "stroke-width=\"5\"\n",
    ">\n",
    "    <path d=\"M 0 70 a 10 30 0 0  1 40 0\" />\n",
    "    <path d=\"M 50 70 a 10 30 20 0 1 40 0\" />\n",
    "    <path d=\"M 100 70 a 10 30 40 0 1 40 0\" />\n",
    "    <path d=\"M 150 70 a 10 30 60 0 1 40 0\" />\n",
    "    <path d=\"M 200 70 a 10 30 80 0 1 40 0\" />\n",
    "</svg>"
   ]
  }
 ],
 "metadata": {
  "kernelspec": {
   "display_name": "knowledge",
   "language": "python",
   "name": "python3"
  },
  "language_info": {
   "codemirror_mode": {
    "name": "ipython",
    "version": 3
   },
   "file_extension": ".py",
   "mimetype": "text/x-python",
   "name": "python",
   "nbconvert_exporter": "python",
   "pygments_lexer": "ipython3",
   "version": "3.12.9"
  }
 },
 "nbformat": 4,
 "nbformat_minor": 5
}
