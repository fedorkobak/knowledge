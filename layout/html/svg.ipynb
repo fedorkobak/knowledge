{
 "cells": [
  {
   "cell_type": "markdown",
   "id": "32096e5e",
   "metadata": {},
   "source": [
    "# SVG\n",
    "\n",
    "**S**calable **V**ector **G**raphics is a way to draw iamges in the HTML documents. The following table shows the most common tags used to create SVG graphics."
   ]
  },
  {
   "cell_type": "markdown",
   "id": "bfb0b154",
   "metadata": {},
   "source": [
    "## Coordinates\n",
    "\n",
    "In SVG, coordinates increase toward the bottom-right. This can be confusing, as larger values of the \"y\" coordinate move an object downward."
   ]
  },
  {
   "cell_type": "markdown",
   "id": "6c86f2fb",
   "metadata": {},
   "source": [
    "---\n",
    "\n",
    "The next cell shows the coordinate plane with numbers displayed on it."
   ]
  },
  {
   "cell_type": "code",
   "execution_count": null,
   "id": "c1dc334c",
   "metadata": {},
   "outputs": [
    {
     "data": {
      "text/html": [
       "<svg width=\"400\" height=\"400\" viewBox=\"-500 -500 1000 1000\">\n",
       "<line x1=\"-400\" x2=\"400\" y1=\"0\" y2=\"0\" stroke=\"black\" stroke-width=\"3\"/>\n",
       "<line x1=\"0\" x2=\"0\" y1=\"-400\" y2=\"400\" stroke=\"black\" stroke-width=\"3\"/>\n",
       "<text x=\"100\" font-size=\"30\">100</text>\n",
       "<text x=\"200\" font-size=\"30\">200</text>\n",
       "<text x=\"300\" font-size=\"30\">300</text>\n",
       "<text x=\"-100\" font-size=\"30\">-100</text>\n",
       "<text x=\"-200\" font-size=\"30\">-200</text>\n",
       "<text x=\"-300\" font-size=\"30\">-300</text>\n",
       "<text y=\"100\" font-size=\"30\">100</text>\n",
       "<text y=\"200\" font-size=\"30\">200</text>\n",
       "<text y=\"300\" font-size=\"30\">300</text>\n",
       "<text y=\"-100\" font-size=\"30\">-100</text>\n",
       "<text y=\"-200\" font-size=\"30\">-200</text>\n",
       "<text y=\"-300\" font-size=\"30\">-300</text>\n",
       "</svg>\n"
      ],
      "text/plain": [
       "<IPython.core.display.HTML object>"
      ]
     },
     "metadata": {},
     "output_type": "display_data"
    }
   ],
   "source": [
    "%%HTML\n",
    "<svg width=\"400\" height=\"400\" viewBox=\"-500 -500 1000 1000\">\n",
    "    <line x1=\"-400\" x2=\"400\" y1=\"0\" y2=\"0\" stroke=\"black\" stroke-width=\"3\"/>\n",
    "    <line x1=\"0\" x2=\"0\" y1=\"-400\" y2=\"400\" stroke=\"black\" stroke-width=\"3\"/>\n",
    "    <text x=\"100\" font-size=\"30\">100</text>\n",
    "    <text x=\"200\" font-size=\"30\">200</text>\n",
    "    <text x=\"300\" font-size=\"30\">300</text>\n",
    "    <text x=\"-100\" font-size=\"30\">-100</text>\n",
    "    <text x=\"-200\" font-size=\"30\">-200</text>\n",
    "    <text x=\"-300\" font-size=\"30\">-300</text>\n",
    "    <text y=\"100\" font-size=\"30\">100</text>\n",
    "    <text y=\"200\" font-size=\"30\">200</text>\n",
    "    <text y=\"300\" font-size=\"30\">300</text>\n",
    "    <text y=\"-100\" font-size=\"30\">-100</text>\n",
    "    <text y=\"-200\" font-size=\"30\">-200</text>\n",
    "    <text y=\"-300\" font-size=\"30\">-300</text>\n",
    "</svg>"
   ]
  }
 ],
 "metadata": {
  "kernelspec": {
   "display_name": "knowledge",
   "language": "python",
   "name": "python3"
  },
  "language_info": {
   "codemirror_mode": {
    "name": "ipython",
    "version": 3
   },
   "file_extension": ".py",
   "mimetype": "text/x-python",
   "name": "python",
   "nbconvert_exporter": "python",
   "pygments_lexer": "ipython3",
   "version": "3.12.8"
  }
 },
 "nbformat": 4,
 "nbformat_minor": 5
}
