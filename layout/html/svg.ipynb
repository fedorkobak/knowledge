{
 "cells": [
  {
   "cell_type": "markdown",
   "id": "32096e5e",
   "metadata": {},
   "source": [
    "# SVG\n",
    "\n",
    "**S**calable **V**ector **G**raphics is a way to draw iamges in the HTML documents. The following table shows the most common tags used to create SVG graphics."
   ]
  },
  {
   "cell_type": "markdown",
   "id": "bfb0b154",
   "metadata": {},
   "source": [
    "## Coordinates\n",
    "\n",
    "In SVG, coordinates increase toward the bottom-right. This can be confusing, as larger values of the \"y\" coordinate move an object downward."
   ]
  },
  {
   "cell_type": "markdown",
   "id": "6c86f2fb",
   "metadata": {},
   "source": [
    "---\n",
    "\n",
    "The next cell shows the coordinate plane with numbers displayed on it."
   ]
  },
  {
   "cell_type": "code",
   "execution_count": null,
   "id": "c1dc334c",
   "metadata": {},
   "outputs": [
    {
     "data": {
      "text/html": [
       "<svg width=\"400\" height=\"400\" viewBox=\"-500 -500 1000 1000\">\n",
       "<line x1=\"-400\" x2=\"400\" y1=\"0\" y2=\"0\" stroke=\"black\" stroke-width=\"3\"/>\n",
       "<line x1=\"0\" x2=\"0\" y1=\"-400\" y2=\"400\" stroke=\"black\" stroke-width=\"3\"/>\n",
       "<text x=\"100\" font-size=\"30\">100</text>\n",
       "<text x=\"200\" font-size=\"30\">200</text>\n",
       "<text x=\"300\" font-size=\"30\">300</text>\n",
       "<text x=\"-100\" font-size=\"30\">-100</text>\n",
       "<text x=\"-200\" font-size=\"30\">-200</text>\n",
       "<text x=\"-300\" font-size=\"30\">-300</text>\n",
       "<text y=\"100\" font-size=\"30\">100</text>\n",
       "<text y=\"200\" font-size=\"30\">200</text>\n",
       "<text y=\"300\" font-size=\"30\">300</text>\n",
       "<text y=\"-100\" font-size=\"30\">-100</text>\n",
       "<text y=\"-200\" font-size=\"30\">-200</text>\n",
       "<text y=\"-300\" font-size=\"30\">-300</text>\n",
       "</svg>\n"
      ],
      "text/plain": [
       "<IPython.core.display.HTML object>"
      ]
     },
     "metadata": {},
     "output_type": "display_data"
    }
   ],
   "source": [
    "%%HTML\n",
    "<svg width=\"400\" height=\"400\" viewBox=\"-500 -500 1000 1000\">\n",
    "    <line x1=\"-400\" x2=\"400\" y1=\"0\" y2=\"0\" stroke=\"black\" stroke-width=\"3\"/>\n",
    "    <line x1=\"0\" x2=\"0\" y1=\"-400\" y2=\"400\" stroke=\"black\" stroke-width=\"3\"/>\n",
    "    <text x=\"100\" font-size=\"30\">100</text>\n",
    "    <text x=\"200\" font-size=\"30\">200</text>\n",
    "    <text x=\"300\" font-size=\"30\">300</text>\n",
    "    <text x=\"-100\" font-size=\"30\">-100</text>\n",
    "    <text x=\"-200\" font-size=\"30\">-200</text>\n",
    "    <text x=\"-300\" font-size=\"30\">-300</text>\n",
    "    <text y=\"100\" font-size=\"30\">100</text>\n",
    "    <text y=\"200\" font-size=\"30\">200</text>\n",
    "    <text y=\"300\" font-size=\"30\">300</text>\n",
    "    <text y=\"-100\" font-size=\"30\">-100</text>\n",
    "    <text y=\"-200\" font-size=\"30\">-200</text>\n",
    "    <text y=\"-300\" font-size=\"30\">-300</text>\n",
    "</svg>"
   ]
  },
  {
   "cell_type": "markdown",
   "id": "936bafdb",
   "metadata": {},
   "source": [
    "## Text\n",
    "\n",
    "Use `<text>` tag to display text in the SVG pictures.\n",
    "\n",
    "The following table displays attributes of the `<text>` tag.\n",
    "\n",
    "| Attribute           | Description                                                              |\n",
    "| ------------------- | ------------------------------------------------------------------------ |\n",
    "| `x`                 | Horizontal position of the start of the text.                            |\n",
    "| `y`                 | Vertical position of the start of the text.                              |\n",
    "| `dx`                | Horizontal shift from the current text position.                         |\n",
    "| `dy`                | Vertical shift from the current text position.                           |\n",
    "| `rotate`            | Rotation of individual characters.                                       |\n",
    "| `textLength`        | Exact length for the text to occupy (for stretching/shrinking text).     |\n",
    "| `lengthAdjust`      | How the text length should be adjusted: `spacing` or `spacingAndGlyphs`. |\n",
    "| `text-anchor`       | Alignment of the text relative to `x`: `start`, `middle`, or `end`.      |\n",
    "| `dominant-baseline` | Controls vertical alignment of the text.                                 |\n",
    "| `font-family`       | Font family for the text.                                                |\n",
    "| `font-size`         | Font size.                                                               |\n",
    "| `font-style`        | Font style (e.g., `normal`, `italic`).                                   |\n",
    "| `font-weight`       | Font weight (e.g., `normal`, `bold`, `400`, `700`).                      |\n",
    "| `fill`              | Color used to fill the text.                                             |\n",
    "| `stroke`            | Stroke color for the text outline.                                       |\n",
    "| `stroke-width`      | Width of the stroke around text.                                         |\n",
    "| `visibility`        | Controls if the text is visible (`visible`, `hidden`).                   |\n",
    "| `opacity`           | Opacity of the text (0 to 1).                                            |\n",
    "| `xml:space`         | How whitespace is handled (`default` or `preserve`).                     |\n",
    "| `clip-path`         | Applies a clipping path to the text.                                     |\n",
    "| `transform`         | Applies transformations like `rotate()`, `translate()`, etc.             |"
   ]
  },
  {
   "cell_type": "markdown",
   "id": "7465fb66",
   "metadata": {},
   "source": [
    "---\n",
    "\n",
    "The following example shows the various ways you can modify text properties."
   ]
  },
  {
   "cell_type": "code",
   "execution_count": 1,
   "id": "0476921c",
   "metadata": {},
   "outputs": [
    {
     "data": {
      "text/html": [
       "<svg width=\"500\" height=\"300\" style=\"background-color: #f9f9f9;\">\n",
       "  <text x=\"50\" y=\"50\" font-size=\"24\" fill=\"navy\">Simple text</text>\n",
       "  <text x=\"50\" y=\"100\" font-size=\"30\" fill=\"white\" stroke=\"black\" stroke-width=\"1.5\">\n",
       "    Outlined text\n",
       "  </text>\n",
       "  <text x=\"250\" y=\"150\" text-anchor=\"middle\" font-size=\"28\" fill=\"darkgreen\">\n",
       "    Center aligned\n",
       "  </text>\n",
       "  <text x=\"50\" y=\"180\" font-size=\"20\" fill=\"crimson\" rotate=\"0 15 30 45 60\">\n",
       "    Rotate\n",
       "  </text>\n",
       "  <text x=\"50\" y=\"210\" dx=\"0 10 20 30 40\" font-size=\"18\" fill=\"orange\">\n",
       "    Stagger\n",
       "  </text>\n",
       "  <text x=\"50\" y=\"260\" font-size=\"20\" fill=\"purple\" textLength=\"300\" lengthAdjust=\"spacingAndGlyphs\">\n",
       "    Stretched to exactly 300px\n",
       "  </text>\n",
       "</svg>\n"
      ],
      "text/plain": [
       "<IPython.core.display.HTML object>"
      ]
     },
     "metadata": {},
     "output_type": "display_data"
    }
   ],
   "source": [
    "%%HTML\n",
    "<svg width=\"500\" height=\"300\" style=\"background-color: #f9f9f9;\">\n",
    "  <text x=\"50\" y=\"50\" font-size=\"24\" fill=\"navy\">Simple text</text>\n",
    "  <text x=\"50\" y=\"100\" font-size=\"30\" fill=\"white\" stroke=\"black\" stroke-width=\"1.5\">\n",
    "    Outlined text\n",
    "  </text>\n",
    "  <text x=\"250\" y=\"150\" text-anchor=\"middle\" font-size=\"28\" fill=\"darkgreen\">\n",
    "    Center aligned\n",
    "  </text>\n",
    "  <text x=\"50\" y=\"180\" font-size=\"20\" fill=\"crimson\" rotate=\"0 15 30 45 60\">\n",
    "    Rotate\n",
    "  </text>\n",
    "  <text x=\"50\" y=\"210\" dx=\"0 10 20 30 40\" font-size=\"18\" fill=\"orange\">\n",
    "    Stagger\n",
    "  </text>\n",
    "  <text x=\"50\" y=\"260\" font-size=\"20\" fill=\"purple\" textLength=\"300\" lengthAdjust=\"spacingAndGlyphs\">\n",
    "    Stretched to exactly 300px\n",
    "  </text>\n",
    "</svg>"
   ]
  }
 ],
 "metadata": {
  "kernelspec": {
   "display_name": "knowledge",
   "language": "python",
   "name": "python3"
  },
  "language_info": {
   "codemirror_mode": {
    "name": "ipython",
    "version": 3
   },
   "file_extension": ".py",
   "mimetype": "text/x-python",
   "name": "python",
   "nbconvert_exporter": "python",
   "pygments_lexer": "ipython3",
   "version": "3.12.9"
  }
 },
 "nbformat": 4,
 "nbformat_minor": 5
}
