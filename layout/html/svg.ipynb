{
 "cells": [
  {
   "cell_type": "markdown",
   "id": "32096e5e",
   "metadata": {},
   "source": [
    "# SVG\n",
    "\n",
    "**S**calable **V**ector **G**raphics is a way to draw iamges in the HTML documents. The following table shows the most common tags used to create SVG graphics."
   ]
  },
  {
   "cell_type": "markdown",
   "id": "bfb0b154",
   "metadata": {},
   "source": [
    "## Coordinates\n",
    "\n",
    "In SVG, coordinates increase toward the bottom-right. This can be confusing, as larger values of the \"y\" coordinate move an object downward."
   ]
  },
  {
   "cell_type": "markdown",
   "id": "6c86f2fb",
   "metadata": {},
   "source": [
    "---\n",
    "\n",
    "The next cell shows the coordinate plane with numbers displayed on it."
   ]
  },
  {
   "cell_type": "code",
   "execution_count": null,
   "id": "c1dc334c",
   "metadata": {},
   "outputs": [
    {
     "data": {
      "text/html": [
       "<svg width=\"400\" height=\"400\" text-anchor=\"middle\" viewBox=\"-500 -500 1000 1000\">\n",
       "    <line x1=\"-400\" x2=\"400\" y1=\"0\" y2=\"0\" stroke=\"black\" stroke-width=\"3\"/>\n",
       "    <line x1=\"0\" x2=\"0\" y1=\"-400\" y2=\"400\" stroke=\"black\" stroke-width=\"3\"/>\n",
       "    <text x=\"100\" font-size=\"30\">100</text>\n",
       "    <text x=\"200\" font-size=\"30\">200</text>\n",
       "    <text x=\"300\" font-size=\"30\">300</text>\n",
       "    <text x=\"-100\" font-size=\"30\">-100</text>\n",
       "    <text x=\"-200\" font-size=\"30\">-200</text>\n",
       "    <text x=\"-300\" font-size=\"30\">-300</text>\n",
       "    <text y=\"100\" font-size=\"30\">100</text>\n",
       "    <text y=\"200\" font-size=\"30\">200</text>\n",
       "    <text y=\"300\" font-size=\"30\">300</text>\n",
       "    <text y=\"-100\" font-size=\"30\">-100</text>\n",
       "    <text y=\"-200\" font-size=\"30\">-200</text>\n",
       "    <text y=\"-300\" font-size=\"30\">-300</text>\n",
       "</svg>\n"
      ],
      "text/plain": [
       "<IPython.core.display.HTML object>"
      ]
     },
     "metadata": {},
     "output_type": "display_data"
    }
   ],
   "source": [
    "%%HTML\n",
    "<svg width=\"400\" height=\"400\" text-anchor=\"middle\" viewBox=\"-500 -500 1000 1000\">\n",
    "    <line x1=\"-400\" x2=\"400\" y1=\"0\" y2=\"0\" stroke=\"black\" stroke-width=\"3\"/>\n",
    "    <line x1=\"0\" x2=\"0\" y1=\"-400\" y2=\"400\" stroke=\"black\" stroke-width=\"3\"/>\n",
    "    <text x=\"100\" font-size=\"30\">100</text>\n",
    "    <text x=\"200\" font-size=\"30\">200</text>\n",
    "    <text x=\"300\" font-size=\"30\">300</text>\n",
    "    <text x=\"-100\" font-size=\"30\">-100</text>\n",
    "    <text x=\"-200\" font-size=\"30\">-200</text>\n",
    "    <text x=\"-300\" font-size=\"30\">-300</text>\n",
    "    <text y=\"100\" font-size=\"30\">100</text>\n",
    "    <text y=\"200\" font-size=\"30\">200</text>\n",
    "    <text y=\"300\" font-size=\"30\">300</text>\n",
    "    <text y=\"-100\" font-size=\"30\">-100</text>\n",
    "    <text y=\"-200\" font-size=\"30\">-200</text>\n",
    "    <text y=\"-300\" font-size=\"30\">-300</text>\n",
    "</svg>"
   ]
  },
  {
   "cell_type": "markdown",
   "id": "cc4088b8",
   "metadata": {},
   "source": [
    "## View box\n",
    "\n",
    "The `viewBox` attribute defines the coordinates and dimensions of the area to be displayed within a container element (the viewport).\n",
    "\n",
    "The syntax is: `\"x y width height\"`, where:\n",
    "\n",
    "* **x, y**: position of the top-left corner of the viewBox.\n",
    "* **width, height**: size of the viewBox.\n",
    "\n",
    "**Note:** The viewport size should  have the same proportions as the `width` and `height` of the container. Otherwise, the HTML may automatically adjust the viewport."
   ]
  },
  {
   "cell_type": "markdown",
   "id": "083f8271",
   "metadata": {},
   "source": [
    "---\n",
    "\n",
    "The following cell draws some rectangles of different sizes centered at the coordinate center to illustrate the scales. The viewport has the value `\"-40 -50 60 50\"`, meaning it draws the area $x \\in (-40,20)$ and $y \\in (-50, 0)$."
   ]
  },
  {
   "cell_type": "code",
   "execution_count": 127,
   "id": "4ca3f86b",
   "metadata": {},
   "outputs": [
    {
     "data": {
      "text/html": [
       "<svg width=\"120\" height=\"100\" viewbox=\"-40 -50 60 50\" text-anchor=\"middle\">\n",
       "    <g fill=\"none\" stroke=\"black\" stroke-width=\"3\">\n",
       "        <rect x=\"-50\" y=\"-50\" width=\"100\" height=\"100\"/>\n",
       "        <rect x=\"-40\" y=\"-40\" width=\"80\" height=\"80\"/>\n",
       "        <rect x=\"-30\" y=\"-30\" width=\"60\" height=\"60\"/>\n",
       "        <rect x=\"-20\" y=\"-20\" width=\"40\" height=\"40\"/>\n",
       "    </g>\n",
       "    <g font-size=\"8\">\n",
       "        <text x=\"0\" y=\"-42\" >50</text>\n",
       "        <text x=\"0\" y=\"-32\">40</text>\n",
       "        <text x=\"0\" y=\"-22\">30</text>\n",
       "        <text x=\"0\" y=\"-12\">20</text>\n",
       "    </g>\n",
       "</svg>\n"
      ],
      "text/plain": [
       "<IPython.core.display.HTML object>"
      ]
     },
     "metadata": {},
     "output_type": "display_data"
    }
   ],
   "source": [
    "%%HTML\n",
    "<svg width=\"120\" height=\"100\" viewbox=\"-40 -50 60 50\" text-anchor=\"middle\">\n",
    "    <g fill=\"none\" stroke=\"black\" stroke-width=\"3\">\n",
    "        <rect x=\"-50\" y=\"-50\" width=\"100\" height=\"100\"/>\n",
    "        <rect x=\"-40\" y=\"-40\" width=\"80\" height=\"80\"/>\n",
    "        <rect x=\"-30\" y=\"-30\" width=\"60\" height=\"60\"/>\n",
    "        <rect x=\"-20\" y=\"-20\" width=\"40\" height=\"40\"/>\n",
    "    </g>\n",
    "    <g font-size=\"8\">\n",
    "        <text x=\"0\" y=\"-42\" >50</text>\n",
    "        <text x=\"0\" y=\"-32\">40</text>\n",
    "        <text x=\"0\" y=\"-22\">30</text>\n",
    "        <text x=\"0\" y=\"-12\">20</text>\n",
    "    </g>\n",
    "</svg>"
   ]
  },
  {
   "cell_type": "markdown",
   "id": "83ef32be",
   "metadata": {},
   "source": [
    "As a result, only the parts of the rectangle corresponding to the viewport are displayed."
   ]
  },
  {
   "cell_type": "markdown",
   "id": "9ffa4cd2",
   "metadata": {},
   "source": [
    "## Path\n",
    "\n",
    "A path is an element that can be used to create complex shapes, such as a series of lines, curves, and arcs.\n",
    "\n",
    "The `d` attribute of the `path` tag allows you to specify the sequence of shapes that have to be displayed. The letter of the command is followed its parameters. The following markdown table describes the possible commands and their function.\n",
    "\n",
    "| Command | Description                                                      | Absolute | Relative |\n",
    "|---------|------------------------------------------------------------------|----------|----------|\n",
    "| M/m     | Move to a new point without drawing                             | M        | m        |\n",
    "| L/l     | Draw a straight line to a point                                 | L        | l        |\n",
    "| H/h     | Draw a horizontal line                                          | H        | h        |\n",
    "| V/v     | Draw a vertical line                                            | V        | v        |\n",
    "| C/c     | Draw a cubic Bézier curve using two control points              | C        | c        |\n",
    "| S/s     | Cubic Bézier curve using the reflection of previous control point | S        | s      |\n",
    "| Q/q     | Draw a quadratic Bézier curve using one control point           | Q        | q        |\n",
    "| T/t     | Quadratic Bézier curve using reflection of previous control point | T        | t      |\n",
    "| A/a     | Draw an elliptical arc                                          | A        | a        |\n",
    "| Z/z     | Close current path (line back to start of subpath)              | Z        | z        |\n",
    "\n",
    "\n",
    "**Note:** By default, an SVG `<path>` is filled according to the shape defined by its data, even if the path is not explicitly closed. To prevent filling, use `fill=\"none\"`.\n",
    "\n",
    "Find out more:\n",
    "\n",
    "- [Paths](https://developer.mozilla.org/en-US/docs/Web/SVG/Tutorials/SVG_from_scratch/Paths#curve_commands) page of the mdn web docs.\n",
    "- In [corresponding page](svg/path.ipynb)."
   ]
  },
  {
   "cell_type": "markdown",
   "id": "c9b4e74f",
   "metadata": {},
   "source": [
    "---\n",
    "\n",
    "The following cell uses just one path tag to draw a simple picutre."
   ]
  },
  {
   "cell_type": "code",
   "execution_count": 53,
   "id": "5251c5e1",
   "metadata": {},
   "outputs": [
    {
     "data": {
      "text/html": [
       "<svg width=\"300\" height=\"300\" xmlns=\"http://www.w3.org/2000/svg\">\n",
       "<path \n",
       "d=\"M 0 150 L 50 150 Q 50 0 100 150 L 150 150 Q 150 0 200 150 L 250 150\"\n",
       "stroke=\"black\" fill=\"none\"\n",
       "/>\n",
       "</svg>\n"
      ],
      "text/plain": [
       "<IPython.core.display.HTML object>"
      ]
     },
     "metadata": {},
     "output_type": "display_data"
    }
   ],
   "source": [
    "%%HTML\n",
    "<svg width=\"300\" height=\"300\" xmlns=\"http://www.w3.org/2000/svg\">\n",
    "<path \n",
    "d=\"M 0 150 L 50 150 Q 50 0 100 150 L 150 150 Q 150 0 200 150 L 250 150\"\n",
    "stroke=\"black\" fill=\"none\"\n",
    "/>\n",
    "</svg>"
   ]
  },
  {
   "cell_type": "markdown",
   "id": "ef0bd94a",
   "metadata": {},
   "source": [
    "## Transform \n",
    "\n",
    "Elements in SVG have a `transform` attribute. The value must be a command with the corresponding parameters in the brackets after it.\n",
    "\n",
    "The following table shows the commands available in the `transform` command.\n",
    "\n",
    "\n",
    "| Transform Function | Syntax Example                       | Description                                                                 |\n",
    "| ------------------ | ------------------------------------ | --------------------------------------------------------------------------- |\n",
    "| `translate`        | `translate(30, 50)`                  | Moves the element by (x, y) units. If `y` is omitted, it defaults to 0.     |\n",
    "| `rotate`           | `rotate(45)` or `rotate(45, cx, cy)` | Rotates the element by angle (degrees), optionally around point `(cx, cy)`. |\n",
    "| `scale`            | `scale(2)` or `scale(sx, sy)`        | Scales the element. If `sy` is omitted, it defaults to `sx`.                |\n",
    "| `skewX`            | `skewX(30)`                          | Skews the element along the X axis by the given angle.                      |\n",
    "| `skewY`            | `skewY(30)`                          | Skews the element along the Y axis by the given angle.                      |\n",
    "| `matrix`           | `matrix(a, b, c, d, e, f)`           | Applies a custom transformation matrix.                                     |"
   ]
  },
  {
   "cell_type": "markdown",
   "id": "ef9faf69",
   "metadata": {},
   "source": [
    "---\n",
    "\n",
    "The following example shows some texts to which the transformg tag has been applied. Each text has the same command applied to it."
   ]
  },
  {
   "cell_type": "code",
   "execution_count": 20,
   "id": "69dd1128",
   "metadata": {},
   "outputs": [
    {
     "data": {
      "text/html": [
       "<svg width=\"300\" height=\"300\" font-size=\"25\">\n",
       "    <text x=\"50\" y=\"50\" transform=\"rotate(45, 50, 50)\">Rotate(45, 50, 50)</text>\n",
       "    <text x=\"100\" y=\"100\" transform=\"skewX(25)\">skewX(25)</text>\n",
       "    <text x=\"25\" y=\"150\" transform=\"skewY(25)\">skewY(25)</text>\n",
       "</svg>\n"
      ],
      "text/plain": [
       "<IPython.core.display.HTML object>"
      ]
     },
     "metadata": {},
     "output_type": "display_data"
    }
   ],
   "source": [
    "%%HTML\n",
    "<svg width=\"300\" height=\"300\" font-size=\"25\">\n",
    "    <text x=\"50\" y=\"50\" transform=\"rotate(45, 50, 50)\">Rotate(45, 50, 50)</text>\n",
    "    <text x=\"100\" y=\"100\" transform=\"skewX(25)\">skewX(25)</text>\n",
    "    <text x=\"25\" y=\"150\" transform=\"skewY(25)\">skewY(25)</text>\n",
    "</svg>"
   ]
  },
  {
   "cell_type": "markdown",
   "id": "936bafdb",
   "metadata": {},
   "source": [
    "## Text\n",
    "\n",
    "Use `<text>` tag to display text in the SVG pictures.\n",
    "\n",
    "The following table displays attributes of the `<text>` tag.\n",
    "\n",
    "| Attribute           | Description                                                              |\n",
    "| ------------------- | ------------------------------------------------------------------------ |\n",
    "| `x`                 | Horizontal position of the start of the text.                            |\n",
    "| `y`                 | Vertical position of the start of the text.                              |\n",
    "| `dx`                | Horizontal shift from the current text position.                         |\n",
    "| `dy`                | Vertical shift from the current text position.                           |\n",
    "| `rotate`            | Rotation of individual characters.                                       |\n",
    "| `textLength`        | Exact length for the text to occupy (for stretching/shrinking text).     |\n",
    "| `lengthAdjust`      | How the text length should be adjusted: `spacing` or `spacingAndGlyphs`. |\n",
    "| `text-anchor`       | Alignment of the text relative to `x`: `start`, `middle`, or `end`.      |\n",
    "| `dominant-baseline` | Controls vertical alignment of the text.                                 |\n",
    "| `font-family`       | Font family for the text.                                                |\n",
    "| `font-size`         | Font size.                                                               |\n",
    "| `font-style`        | Font style (e.g., `normal`, `italic`).                                   |\n",
    "| `font-weight`       | Font weight (e.g., `normal`, `bold`, `400`, `700`).                      |\n",
    "| `fill`              | Color used to fill the text.                                             |\n",
    "| `stroke`            | Stroke color for the text outline.                                       |\n",
    "| `stroke-width`      | Width of the stroke around text.                                         |\n",
    "| `visibility`        | Controls if the text is visible (`visible`, `hidden`).                   |\n",
    "| `opacity`           | Opacity of the text (0 to 1).                                            |\n",
    "| `xml:space`         | How whitespace is handled (`default` or `preserve`).                     |\n",
    "| `clip-path`         | Applies a clipping path to the text.                                     |\n",
    "| `transform`         | Applies transformations like `rotate()`, `translate()`, etc.             |"
   ]
  },
  {
   "cell_type": "markdown",
   "id": "7465fb66",
   "metadata": {},
   "source": [
    "---\n",
    "\n",
    "The following example shows the various ways you can modify text properties."
   ]
  },
  {
   "cell_type": "code",
   "execution_count": 1,
   "id": "0476921c",
   "metadata": {},
   "outputs": [
    {
     "data": {
      "text/html": [
       "<svg width=\"500\" height=\"300\" style=\"background-color: #f9f9f9;\">\n",
       "  <text x=\"50\" y=\"50\" font-size=\"24\" fill=\"navy\">Simple text</text>\n",
       "  <text x=\"50\" y=\"100\" font-size=\"30\" fill=\"white\" stroke=\"black\" stroke-width=\"1.5\">\n",
       "    Outlined text\n",
       "  </text>\n",
       "  <text x=\"250\" y=\"150\" text-anchor=\"middle\" font-size=\"28\" fill=\"darkgreen\">\n",
       "    Center aligned\n",
       "  </text>\n",
       "  <text x=\"50\" y=\"180\" font-size=\"20\" fill=\"crimson\" rotate=\"0 15 30 45 60\">\n",
       "    Rotate\n",
       "  </text>\n",
       "  <text x=\"50\" y=\"210\" dx=\"0 10 20 30 40\" font-size=\"18\" fill=\"orange\">\n",
       "    Stagger\n",
       "  </text>\n",
       "  <text x=\"50\" y=\"260\" font-size=\"20\" fill=\"purple\" textLength=\"300\" lengthAdjust=\"spacingAndGlyphs\">\n",
       "    Stretched to exactly 300px\n",
       "  </text>\n",
       "</svg>\n"
      ],
      "text/plain": [
       "<IPython.core.display.HTML object>"
      ]
     },
     "metadata": {},
     "output_type": "display_data"
    }
   ],
   "source": [
    "%%HTML\n",
    "<svg width=\"500\" height=\"300\" style=\"background-color: #f9f9f9;\">\n",
    "  <text x=\"50\" y=\"50\" font-size=\"24\" fill=\"navy\">Simple text</text>\n",
    "  <text x=\"50\" y=\"100\" font-size=\"30\" fill=\"white\" stroke=\"black\" stroke-width=\"1.5\">\n",
    "    Outlined text\n",
    "  </text>\n",
    "  <text x=\"250\" y=\"150\" text-anchor=\"middle\" font-size=\"28\" fill=\"darkgreen\">\n",
    "    Center aligned\n",
    "  </text>\n",
    "  <text x=\"50\" y=\"180\" font-size=\"20\" fill=\"crimson\" rotate=\"0 15 30 45 60\">\n",
    "    Rotate\n",
    "  </text>\n",
    "  <text x=\"50\" y=\"210\" dx=\"0 10 20 30 40\" font-size=\"18\" fill=\"orange\">\n",
    "    Stagger\n",
    "  </text>\n",
    "  <text x=\"50\" y=\"260\" font-size=\"20\" fill=\"purple\" textLength=\"300\" lengthAdjust=\"spacingAndGlyphs\">\n",
    "    Stretched to exactly 300px\n",
    "  </text>\n",
    "</svg>"
   ]
  },
  {
   "cell_type": "markdown",
   "id": "d0b343c7",
   "metadata": {},
   "source": [
    "### TeX\n",
    "\n",
    "SVG does not support TeX. If you have graphics containing TeX, you have to manipulate text to make symbols to look like TeX. The only approach I know of yet is to use the `style=\"font-family: 'LatinModern'` and `font-style=\"italic\"` attributes for the `text` tag. This approach doesn't produce ideal results:\n",
    "\n",
    "- You can't use complex fomulas in your SVG. \n",
    "- Some symbosl dysplayed not exactly as they supposed to be dsiplayed by TeX."
   ]
  },
  {
   "cell_type": "markdown",
   "id": "f20f2612",
   "metadata": {},
   "source": [
    "---\n",
    "\n",
    "The following cell illustrates how the TeX expression $ABC \\alpha \\beta \\gamma$ will be displayed using the described approach."
   ]
  },
  {
   "cell_type": "code",
   "execution_count": 10,
   "id": "cc19b4e1",
   "metadata": {},
   "outputs": [
    {
     "data": {
      "text/html": [
       "<svg width=\"100\" height=\"30\" style=\"background-color: #f9f9f9;\">\n",
       "<text x=0 y=20 font-size=\"24\" style=\"font-family: 'LatinModern'\" font-style=\"italic\">ABCαβγ</text>\n",
       "</svg>\n"
      ],
      "text/plain": [
       "<IPython.core.display.HTML object>"
      ]
     },
     "metadata": {},
     "output_type": "display_data"
    }
   ],
   "source": [
    "%%HTML\n",
    "<svg width=\"100\" height=\"30\" style=\"background-color: #f9f9f9;\">\n",
    "<text x=0 y=20 font-size=\"24\" style=\"font-family: 'LatinModern'\" font-style=\"italic\">ABCαβγ</text>\n",
    "</svg>"
   ]
  }
 ],
 "metadata": {
  "kernelspec": {
   "display_name": "knowledge",
   "language": "python",
   "name": "python3"
  },
  "language_info": {
   "codemirror_mode": {
    "name": "ipython",
    "version": 3
   },
   "file_extension": ".py",
   "mimetype": "text/x-python",
   "name": "python",
   "nbconvert_exporter": "python",
   "pygments_lexer": "ipython3",
   "version": "3.12.9"
  }
 },
 "nbformat": 4,
 "nbformat_minor": 5
}
