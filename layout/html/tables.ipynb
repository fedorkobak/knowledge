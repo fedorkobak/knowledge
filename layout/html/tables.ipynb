{
 "cells": [
  {
   "cell_type": "markdown",
   "id": "69fd13e4-4968-4331-8366-dd4e80dbf7a4",
   "metadata": {},
   "source": [
    "# Tables\n",
    "\n",
    "This page is about creatinga tables in html pages"
   ]
  },
  {
   "cell_type": "markdown",
   "id": "142d6c1b-a12c-4082-8db4-5f9315c7c32e",
   "metadata": {},
   "source": [
    "## Basic (`<table>`, `<tr>`, `<td>`)"
   ]
  },
  {
   "cell_type": "markdown",
   "id": "674e86f8-89df-47a9-a2b8-e1be31b2cd68",
   "metadata": {},
   "source": [
    "- `<table>` - tag defines new table;\n",
    "- `<tr>` - (**t**able **r**ow) define the new row for the table;\n",
    "- `<td>` - (**t**able **d**ata) define the new cell."
   ]
  },
  {
   "cell_type": "code",
   "execution_count": 27,
   "id": "cb4460e5-6448-44b4-99e6-057f7123abc1",
   "metadata": {},
   "outputs": [
    {
     "data": {
      "text/html": [
       "<table>\n",
       "    <tr>\n",
       "        <td>row1 cell1</td>\n",
       "        <td>row1 cell2</td>\n",
       "    </tr>\n",
       "    <tr>\n",
       "        <td>row2 cell1</td>\n",
       "        <td>row2 cell2</td>\n",
       "    </tr>\n",
       "</table>\n"
      ],
      "text/plain": [
       "<IPython.core.display.HTML object>"
      ]
     },
     "metadata": {},
     "output_type": "display_data"
    }
   ],
   "source": [
    "%%HTML\n",
    "<table>\n",
    "    <tr>\n",
    "        <td>row1 cell1</td>\n",
    "        <td>row1 cell2</td>\n",
    "    </tr>\n",
    "    <tr>\n",
    "        <td>row2 cell1</td>\n",
    "        <td>row2 cell2</td>\n",
    "    </tr>\n",
    "</table>"
   ]
  },
  {
   "cell_type": "markdown",
   "id": "0789a089-997b-4399-8d7b-4c4df9f6d921",
   "metadata": {},
   "source": [
    "## Table header (`<th>`)\n",
    "\n",
    "Instead of using `<td>` tag you can use `<th>` which will be interpreted as the table header, and printed as bold text."
   ]
  },
  {
   "cell_type": "code",
   "execution_count": 28,
   "id": "ed9cde28-9fc9-4ab6-9976-bbf4020e0fe9",
   "metadata": {},
   "outputs": [
    {
     "data": {
      "text/html": [
       "<table>\n",
       "    <tr>\n",
       "        <td>row1 cell1</td>\n",
       "        <td>row1 cell2</td>\n",
       "    </tr>\n",
       "    <tr>\n",
       "        <th>row2 cell1</th>\n",
       "        <th>row2 cell2</th>\n",
       "    </tr>\n",
       "    <tr>\n",
       "        <td>row2 cell1</td>\n",
       "        <td>row2 cell2</td>\n",
       "    </tr>\n",
       "</table>\n"
      ],
      "text/plain": [
       "<IPython.core.display.HTML object>"
      ]
     },
     "metadata": {},
     "output_type": "display_data"
    }
   ],
   "source": [
    "%%HTML\n",
    "<table>\n",
    "    <tr>\n",
    "        <td>row1 cell1</td>\n",
    "        <td>row1 cell2</td>\n",
    "    </tr>\n",
    "    <tr>\n",
    "        <th>row2 cell1</th>\n",
    "        <th>row2 cell2</th>\n",
    "    </tr>\n",
    "    <tr>\n",
    "        <td>row2 cell1</td>\n",
    "        <td>row2 cell2</td>\n",
    "    </tr>\n",
    "</table>"
   ]
  },
  {
   "cell_type": "markdown",
   "id": "7deb921f-697b-4953-8cca-038355a131b3",
   "metadata": {},
   "source": [
    "## Caption\n",
    "\n",
    "Tag `<caption>` inside `<table>` will allow to show a captions of the tables. Interesting that you can put it anywhere - it prints at the top of the page anyway."
   ]
  },
  {
   "cell_type": "code",
   "execution_count": 29,
   "id": "681fb63b-b5a7-4d84-8184-59ea51a68db4",
   "metadata": {},
   "outputs": [
    {
     "data": {
      "text/html": [
       "<table>\n",
       "    <tr>\n",
       "        <td>row1 cell1</td>\n",
       "        <td>row1 cell2</td>\n",
       "    </tr>\n",
       "    <tr>\n",
       "        <td>row2 cell1</td>\n",
       "        <td>row2 cell2</td>\n",
       "    </tr>\n",
       "    <caption> Test caption</caption>\n",
       "    <tr>\n",
       "        <td>row2 cell1</td>\n",
       "        <td>row2 cell2</td>\n",
       "    </tr>\n",
       "</table>\n"
      ],
      "text/plain": [
       "<IPython.core.display.HTML object>"
      ]
     },
     "metadata": {},
     "output_type": "display_data"
    }
   ],
   "source": [
    "%%HTML\n",
    "<table>\n",
    "    <tr>\n",
    "        <td>row1 cell1</td>\n",
    "        <td>row1 cell2</td>\n",
    "    </tr>\n",
    "    <tr>\n",
    "        <td>row2 cell1</td>\n",
    "        <td>row2 cell2</td>\n",
    "    </tr>\n",
    "    <caption> Test caption</caption>\n",
    "    <tr>\n",
    "        <td>row2 cell1</td>\n",
    "        <td>row2 cell2</td>\n",
    "    </tr>\n",
    "</table>"
   ]
  }
 ],
 "metadata": {
  "kernelspec": {
   "display_name": "Python 3 (ipykernel)",
   "language": "python",
   "name": "python3"
  },
  "language_info": {
   "codemirror_mode": {
    "name": "ipython",
    "version": 3
   },
   "file_extension": ".py",
   "mimetype": "text/x-python",
   "name": "python",
   "nbconvert_exporter": "python",
   "pygments_lexer": "ipython3",
   "version": "3.10.12"
  }
 },
 "nbformat": 4,
 "nbformat_minor": 5
}
