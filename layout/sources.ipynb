{
 "cells": [
  {
   "cell_type": "markdown",
   "id": "79aa135a-8c05-4ff8-a9bc-d8c3f504678b",
   "metadata": {},
   "source": [
    "# Sources\n",
    "\n",
    "- <a href=\"https://stepik.org/course/120494/syllabus\">Stepic html css course (rus)</a>;"
   ]
  }
 ],
 "metadata": {
  "kernelspec": {
   "display_name": "Python 3 (ipykernel)",
   "language": "python",
   "name": "python3"
  },
  "language_info": {
   "codemirror_mode": {
    "name": "ipython",
    "version": 3
   },
   "file_extension": ".py",
   "mimetype": "text/x-python",
   "name": "python",
   "nbconvert_exporter": "python",
   "pygments_lexer": "ipython3",
   "version": "3.10.6"
  }
 },
 "nbformat": 4,
 "nbformat_minor": 5
}
