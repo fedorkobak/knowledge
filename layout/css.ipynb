{
 "cells": [
  {
   "cell_type": "markdown",
   "id": "f47fcbb5-3958-4e95-b585-e8a7682a9908",
   "metadata": {},
   "source": [
    "# CSS"
   ]
  },
  {
   "cell_type": "code",
   "execution_count": 2,
   "id": "e830f05f-888c-413b-bbb0-f24ee8962379",
   "metadata": {},
   "outputs": [
    {
     "data": {
      "text/html": [
       "\n",
       "<head>\n",
       "    <style>\n",
       "        h1 {text-align:center}\n",
       "    </style>\n",
       "</head>\n"
      ],
      "text/plain": [
       "<IPython.core.display.HTML object>"
      ]
     },
     "execution_count": 2,
     "metadata": {},
     "output_type": "execute_result"
    }
   ],
   "source": [
    "from IPython.display import HTML\n",
    "\n",
    "HTML('''\n",
    "<head>\n",
    "    <style>\n",
    "        h1 {text-align:center}\n",
    "    </style>\n",
    "</head>\n",
    "''')"
   ]
  },
  {
   "cell_type": "markdown",
   "id": "768f0518-dbec-4912-b896-248c1423367e",
   "metadata": {},
   "source": [
    "# CSS syntax"
   ]
  },
  {
   "cell_type": "markdown",
   "id": "ac94a75f-fe4e-4350-b4e4-028e6939dac6",
   "metadata": {},
   "source": [
    "## **Integrated**\n",
    "\n",
    "By using `style` attribute inside definition of element:"
   ]
  },
  {
   "cell_type": "code",
   "execution_count": 4,
   "id": "d5fd0028-9064-402a-a0d1-a718db14865a",
   "metadata": {},
   "outputs": [
    {
     "data": {
      "text/html": [
       "\n",
       "    <p style=\"color:red\">Red paragraph</p>\n",
       "    "
      ],
      "text/plain": [
       "<IPython.core.display.HTML object>"
      ]
     },
     "execution_count": 4,
     "metadata": {},
     "output_type": "execute_result"
    }
   ],
   "source": [
    "HTML(\n",
    "    '''\n",
    "    <p style=\"color:red\">Red paragraph</p>\n",
    "    '''\n",
    ")"
   ]
  },
  {
   "cell_type": "markdown",
   "id": "9feebcd1-8e65-4201-b3aa-0ff90a7dd91b",
   "metadata": {},
   "source": [
    "## **Inside/Outsize**"
   ]
  },
  {
   "cell_type": "markdown",
   "id": "4f88b2e7-e17b-406f-b4c6-a9582d2aa624",
   "metadata": {
    "jp-MarkdownHeadingCollapsed": true
   },
   "source": [
    "### *Inside*\n",
    "You can use `<style>` tag inside `<head>` of html page. More details in [html->style_tag](html.ipynb#sec-style_tag). And basic example displayed [here](html_files/style_tag.html)."
   ]
  },
  {
   "cell_type": "markdown",
   "id": "6386eee9-aa47-4d0b-939b-54f145d1e952",
   "metadata": {},
   "source": [
    "### *Outsize*\n",
    "\n",
    "With `<link rel=\"stylesheet\">` tag for giving reference for special css file. [Here](html.ipynb#sec-link_css_file) you can check an example of using `<link rel=\"stylesheet\">` tag."
   ]
  },
  {
   "cell_type": "markdown",
   "id": "a3e947e1-2e7b-48a7-b1cd-f362797b581c",
   "metadata": {},
   "source": [
    "## **Basic selectors**"
   ]
  },
  {
   "cell_type": "markdown",
   "id": "e6eece9f-9570-47bd-b4ca-66191d362eea",
   "metadata": {},
   "source": [
    "You can apply some style:\n",
    "\n",
    "- to all definitions of specific tag;\n",
    "- to elements with specific class `.class_name`;\n",
    "- to element with specific id `#id_name`;\n",
    "- to each element of the page with universal selector `*`.\n",
    "\n",
    "So the basic css syntax looks like:\n",
    "```\n",
    "    * {property_1:value_1, property_1:value_1, ...}\n",
    "    <tag name 1> {property_1_1:value_1_1, property_1_2:value_1_2, ...}\n",
    "    <tag name 2> {property_2_1:value_2_1, property_2_2:value_2_2, ...}\n",
    "    ...\n",
    "    <tag name n> {property_n_1:value_n_1, property_n_2:value_n_2, ...}\n",
    "    .<class name 1> {property_n+1_1:value_n+1_1, property_n+1_2:value_n+1_2, ...}\n",
    "    .<class name 2> {property_n+2_1:value_n+2_1, property_n+2_2:value_n+2_2, ...}\n",
    "    ...\n",
    "    .<class name k> {property_n+k_1:value_n+k_1, property_n+k_2:value_n+k_2, ...}\n",
    "    #<id name 1> property_n+k+1_1:value_n+k+1_1, property_n+k+1_2:value_n+k+1_2, ...}\n",
    "    #<id name 2> property_n+k+2_1:value_n+k+2_1, property_n+k+2_2:value_n+k+2_2, ...}\n",
    "    ...\n",
    "    #<id name m> property_n+k+m_1:value_n+k+m_1, property_n+k+m_2:value_n+k+m_2, ...}\n",
    "```"
   ]
  },
  {
   "cell_type": "markdown",
   "id": "3487834d-6f4a-4623-bbb2-e8cfd723d202",
   "metadata": {},
   "source": [
    "In the following example, I use all of these options. See the results <a href=\"css_files/selectors.html\">here</a>."
   ]
  },
  {
   "cell_type": "code",
   "execution_count": 64,
   "id": "3b72b5c4-dbb2-4bed-abc0-99e88c7f0e67",
   "metadata": {},
   "outputs": [
    {
     "data": {
      "text/html": [
       "<hr>"
      ],
      "text/plain": [
       "<IPython.core.display.HTML object>"
      ]
     },
     "metadata": {},
     "output_type": "display_data"
    },
    {
     "name": "stdout",
     "output_type": "stream",
     "text": [
      "<head>\n",
      "<style>\n",
      "  * {background-color: purple;}\n",
      "  h1 {background-color: red;}\n",
      "  #spec_id {background-color: green;} \n",
      "  .spec_class {background-color: yellow;}\n",
      "</style>\n",
      "</head>\n",
      "<body>\n",
      "\n",
      "<p>not header at all</p>\n",
      "<h1>just header</h1>\n",
      "<h1 class=\"spec_class\">header with class</h1>\n",
      "<h1  id=\"spec_id\" class=\"spec_class\">header with id</h1>\n",
      "<h1  id=\"spec_id\" class=\"spec_class\" style=\"background-color: blue;\">header with style</h1>\n",
      "\n",
      "</body>\n"
     ]
    },
    {
     "data": {
      "text/html": [
       "<hr>"
      ],
      "text/plain": [
       "<IPython.core.display.HTML object>"
      ]
     },
     "metadata": {},
     "output_type": "display_data"
    }
   ],
   "source": [
    "display(HTML('''<hr>'''))\n",
    "with open(\"css_files/selectors.html\") as file:\n",
    "    print(file.read())\n",
    "display(HTML('''<hr>'''))"
   ]
  },
  {
   "cell_type": "markdown",
   "id": "73c4ef7a-5807-4d48-8daa-18a68070382a",
   "metadata": {},
   "source": [
    "**Note** the last example shows that properties mentioned for tag are less important than properties mentioned for class. Id properties are more important than class properties. And properties mentioned in the `style` attribute have the higher priority."
   ]
  },
  {
   "cell_type": "markdown",
   "id": "05380b33-7f07-48f0-be0d-45b5b8f9ad7e",
   "metadata": {},
   "source": [
    "## **Combination selectors**\n",
    "\n",
    "You can define selector relatevety other selector."
   ]
  },
  {
   "cell_type": "markdown",
   "id": "976e55f1-1769-4166-957b-e03916e2e281",
   "metadata": {},
   "source": [
    "### *Descendant selector `A B`*\n",
    "\n",
    "If you are using the following syntax.\n",
    "\n",
    "```\n",
    "A B : {property_1:value_1, property_1:value_1, ...}\n",
    "```\n",
    "\n",
    "Where A and B are some other selectors. You will apply properties to items belonging to selector `B`, but only to `A`'s descendant at the same time.\n",
    "\n",
    "For example I setted blue font and red background for each elemnt with class `my_class`. But by using `div .my_class {...}` slector I set a different background color for each `.my_class` instance inside div."
   ]
  },
  {
   "cell_type": "code",
   "execution_count": 66,
   "id": "265b3820-f530-4b1e-8697-bc0b12fb710e",
   "metadata": {},
   "outputs": [
    {
     "data": {
      "text/html": [
       "<hr>"
      ],
      "text/plain": [
       "<IPython.core.display.HTML object>"
      ]
     },
     "metadata": {},
     "output_type": "display_data"
    },
    {
     "name": "stdout",
     "output_type": "stream",
     "text": [
      "<header><style>\n",
      "    .my_class {\n",
      "        background: red;\n",
      "        color: blue\n",
      "    }\n",
      "    div .my_class {\n",
      "        background: green\n",
      "    }\n",
      "</style></header>\n",
      "<p class=\"my_class\">Just paragraph</p>\n",
      "<div>\n",
      "    <p class=\"my_class\">Paragraph in div</p>\n",
      "    <table>\n",
      "        <tr>\n",
      "            <td><text class=\"my_class\">my_class</text></td>\n",
      "            <td><text>some other cell</text></text></td></td>\n",
      "        </tr>\n",
      "        <tr>\n",
      "            <td><text>some other cell</text></td>\n",
      "            <td><text class=\"my_class\">my_class</text></td>\n",
      "        </tr>\n",
      "    </table>\n",
      "</div>\n",
      "<p class=\"my_class\">Just paragraph</p>\n"
     ]
    },
    {
     "data": {
      "text/html": [
       "<hr>"
      ],
      "text/plain": [
       "<IPython.core.display.HTML object>"
      ]
     },
     "metadata": {},
     "output_type": "display_data"
    }
   ],
   "source": [
    "display(HTML('''<hr>'''))\n",
    "with open(\"css_files/descendant_selector.html\") as file:\n",
    "    print(file.read())\n",
    "display(HTML('''<hr>'''))"
   ]
  },
  {
   "cell_type": "markdown",
   "id": "7805df11-d56c-414b-ae9d-e0420579ee17",
   "metadata": {},
   "source": [
    "See the result <a href=\"css_files/descendant_selector.html\">here</a>."
   ]
  },
  {
   "cell_type": "markdown",
   "id": "b20fad58-21c3-450d-9b07-aaa03ff90487",
   "metadata": {},
   "source": [
    "### *Daughter selector `A > B`*\n",
    "\n",
    "If you are using the following syntax:\n",
    "\n",
    "```\n",
    "A B : {property_1:value_1, property_1:value_1, ...}\n",
    "```\n",
    "\n",
    "Where A and B are some other selectors. You will apply properties to items belonging to selector `B`, but only to `A`'s daughter element at the same timу (an element B is a child of element A if element B is a direct descendant of element A, i.e. there are no other levels of inheritance between them).\n",
    "\n",
    "So in the following example I define red background for colour for each `p` tag. But by using the syntax `.some_class > p {background: yellow}` I set yellow back ground to each daughter of `.some_class` instances. \n",
    "\n",
    "The main feature of the example is that I have used pargraphs:\n",
    "\n",
    "- Only paragraph - obvious red colour;\n",
    "- Daughter paragraph of `<div class=\"some_class\">` - obvious yellow color;\n",
    "- Descendant of `<div class=\"some_class\">` but not daughter - red color.\n",
    "\n",
    "See the result <a href=\"css_files/daughter_selector.html\">here</a>."
   ]
  },
  {
   "cell_type": "code",
   "execution_count": 67,
   "id": "6d6e7efe-467a-43a0-a827-4d7eb4fed06a",
   "metadata": {},
   "outputs": [
    {
     "data": {
      "text/html": [
       "<hr>"
      ],
      "text/plain": [
       "<IPython.core.display.HTML object>"
      ]
     },
     "metadata": {},
     "output_type": "display_data"
    },
    {
     "name": "stdout",
     "output_type": "stream",
     "text": [
      "<header>\n",
      "    <style>\n",
      "        .some_class {\n",
      "            background: red\n",
      "        }\n",
      "        .some_class > p {\n",
      "            background: yellow\n",
      "        }\n",
      "    </style>\n",
      "</header>\n",
      "\n",
      "<p>some random paragraph</p>\n",
      "<div class=\"some_class\">\n",
      "    <p>Test paragraph daughter of some_class</p>\n",
      "    <div>\n",
      "        <p>Test paragraph descendant but not daughter of some_class</p>\n",
      "    </div>\n",
      "</div>\n"
     ]
    },
    {
     "data": {
      "text/html": [
       "<hr>"
      ],
      "text/plain": [
       "<IPython.core.display.HTML object>"
      ]
     },
     "metadata": {},
     "output_type": "display_data"
    }
   ],
   "source": [
    "display(HTML('''<hr>'''))\n",
    "with open(\"css_files/daughter_selector.html\") as file:\n",
    "    print(file.rea())\n",
    "display(HTML('''<hr>'''))"
   ]
  },
  {
   "cell_type": "markdown",
   "id": "e1e7a785-6303-48b5-b03a-d15401f61b31",
   "metadata": {},
   "source": [
    "### *Next element selector `A+B`*\n",
    "\n",
    "If you are using the following syntax:\n",
    "\n",
    "```\n",
    "A+B : {property_1:value_1, property_1:value_1, ...}\n",
    "```\n",
    "\n",
    "Where `A` and `B` are some other selectors. Will apply properties to all elements belonging to the `B` selector, but only **next to** elements belonging to `A` within a parent.\n",
    "\n",
    "So in following example I using syntax `p+p {background:purple}`. As a result every paragraph after another paragraph will have a purple background:\n",
    "\n",
    "- First paragraph - obviously nothing before that => no colour;\n",
    "- Second paragraph - next to the first paragraph => purple colour;\n",
    "- Third paragraph - next to the second paragraph => purple colour;\n",
    "- Forth paragraph - the first inside this div => no colour;\n",
    "- Fifth paragraph - next to the forth in the same div => purple color;\n",
    "- Sixth paragraph - next to div, not paragraph => no color.\n",
    "\n",
    "See results <a href=\"css_files/next_element_selector.html\">here</a>."
   ]
  },
  {
   "cell_type": "code",
   "execution_count": 69,
   "id": "32d4e646-7a53-4a95-a6bd-15b4d496c16c",
   "metadata": {},
   "outputs": [
    {
     "data": {
      "text/html": [
       "<hr>"
      ],
      "text/plain": [
       "<IPython.core.display.HTML object>"
      ]
     },
     "metadata": {},
     "output_type": "display_data"
    },
    {
     "name": "stdout",
     "output_type": "stream",
     "text": [
      "<head>\n",
      "    <style>\n",
      "        p~p {background:purple}\n",
      "    </style>\n",
      "</head>\n",
      "\n",
      "<p>First paragraph</p>\n",
      "<p>Second paragraph</p>\n",
      "<p>Third paragraph</p>\n",
      "\n",
      "<div>\n",
      "    <p>Fourth paragraph (in div)</p>\n",
      "    <p>Fifth paragraph (in div)</p>\n",
      "</div>\n",
      "\n",
      "<p>Sixth paragraph</p>\n"
     ]
    },
    {
     "data": {
      "text/html": [
       "<hr>"
      ],
      "text/plain": [
       "<IPython.core.display.HTML object>"
      ]
     },
     "metadata": {},
     "output_type": "display_data"
    }
   ],
   "source": [
    "display(HTML('''<hr>'''))\n",
    "with open(\"css_files/next_element_selector.html\") as file:\n",
    "    print(file.read())\n",
    "display(HTML('''<hr>'''))"
   ]
  },
  {
   "cell_type": "markdown",
   "id": "c6bd6974-1e80-4d31-a582-0347cd09dfd3",
   "metadata": {},
   "source": [
    "### *After element selector `A~B`*\n",
    "\n",
    "If you are using the following syntax:\n",
    "\n",
    "```\n",
    "A~B : {property_1:value_1, property_1:value_1, ...}\n",
    "```\n",
    "\n",
    "Where `A` and `B` are some other selectors. Will apply properties to all elements belonging to the `B` selector, but only **after** elements belonging to `A` within a parent.\n",
    "\n",
    "In following exmaple I use syntax `#my_id~p {background: yellow}`. So every paragraph after an element with `id=my_id` with same parent should have yellow background. See result <a href=\"css_files/after_element_selector.html\">here</a>.\n",
    "\n",
    "A detailed breakdown of the result:\n",
    "\n",
    "- First paragraph - obviously nothing before that => no colour;\n",
    "- Second paragraph - have only first paragraph before wich don't have any id => no colour;\n",
    "- Third paragraph - have second paragraph before, which have an `id=my_id` => yellow colour;\n",
    "- Forth paragraph - first paragraph in the div => no colour;\n",
    "- Fifth paragraph - have second paragraph before, which have an `id=my_id` => yellow colour."
   ]
  },
  {
   "cell_type": "code",
   "execution_count": 70,
   "id": "5bed55f3-0ac4-44c3-b377-f829a7c6f1bb",
   "metadata": {
    "scrolled": true
   },
   "outputs": [
    {
     "data": {
      "text/html": [
       "<hr>"
      ],
      "text/plain": [
       "<IPython.core.display.HTML object>"
      ]
     },
     "metadata": {},
     "output_type": "display_data"
    },
    {
     "name": "stdout",
     "output_type": "stream",
     "text": [
      "<head>\n",
      "    <style>\n",
      "        #my_id~p {background: yellow}\n",
      "    </style>\n",
      "</head>\n",
      "\n",
      "<p>First paragraph</p>\n",
      "<p id=\"my_id\">Second paragraph with id</p>\n",
      "<p>Third paragraph</p>\n",
      "<div>\n",
      "    <p>Fourth paragraph</p>\n",
      "</div>\n",
      "<p>Fiftht paragraph</p>\n"
     ]
    },
    {
     "data": {
      "text/html": [
       "<hr>"
      ],
      "text/plain": [
       "<IPython.core.display.HTML object>"
      ]
     },
     "metadata": {},
     "output_type": "display_data"
    }
   ],
   "source": [
    "display(HTML('''<hr>'''))\n",
    "with open(\"css_files/after_element_selector.html\") as file:\n",
    "    print(file.read())\n",
    "display(HTML('''<hr>'''))"
   ]
  },
  {
   "cell_type": "markdown",
   "id": "47848ffd-92a4-41d7-ab1f-c82e2dd3ab9f",
   "metadata": {},
   "source": [
    "**Note** аlways prioritise the style that is listed later. In following example I have two divs:\n",
    "\n",
    "- First div:\n",
    "    - First paragraph make second paragraph to have yellow background;\n",
    "    - Third paragraph make fourth, fifth, sixth to have purple colour;\n",
    "    - Sixth paragraph doesn't return yellow colour;\n",
    "- Second div:\n",
    "    - Fist paragraph make all paragraphs after to have a purple color;\n",
    "    - Third paragraph doesn't make the folowing paragraphs yellow.\n",
    "\n",
    "See result <a href=\"css_files/after_element_selector_hierarchy.html\">here</a>.\n",
    "\n",
    "Looks like that style for `id_two` was defined later so this style is preferable than style defined for `id_one`."
   ]
  },
  {
   "cell_type": "code",
   "execution_count": 71,
   "id": "ea889951-b05e-4823-9ea9-5dabd37e9cd1",
   "metadata": {},
   "outputs": [
    {
     "data": {
      "text/html": [
       "<hr>"
      ],
      "text/plain": [
       "<IPython.core.display.HTML object>"
      ]
     },
     "metadata": {},
     "output_type": "display_data"
    },
    {
     "name": "stdout",
     "output_type": "stream",
     "text": [
      "<head>\n",
      "    <style>\n",
      "        #id_one~p {background: yellow}\n",
      "        #id_two~p {background: purple}\n",
      "    </style>\n",
      "</head>\n",
      "<h1>div1</h1>\n",
      "<div>\n",
      "    <p id=\"id_one\">first paragraph div1</p>\n",
      "    <p>second paragraph div1</p>\n",
      "    <p id=\"id_two\">third paragraph div1</p>\n",
      "    <p>forth paragraph div1</p>\n",
      "    <p>fifth paragraph div1</p>\n",
      "    <p id=\"id_one\">sixth paragraph div1</p>\n",
      "    <p id=\"id_one\">seventh paragraph div1</p>\n",
      "</div>\n",
      "\n",
      "<h1>div2</h1>\n",
      "<div>\n",
      "    <p id=\"id_two\">first paragraph div2</p>\n",
      "    <p>second paragraph div2</p>\n",
      "    <p id=\"id_one\">third paragraph div2</p>\n",
      "    <p>forth paragraph div2</p>\n",
      "    <p>fifth paragraph div2</p>\n",
      "</div>\n"
     ]
    },
    {
     "data": {
      "text/html": [
       "<hr>"
      ],
      "text/plain": [
       "<IPython.core.display.HTML object>"
      ]
     },
     "metadata": {},
     "output_type": "display_data"
    }
   ],
   "source": [
    "display(HTML('''<hr>'''))\n",
    "with open(\"css_files/after_element_selector_hierarchy.html\") as file:\n",
    "    print(file.read())\n",
    "display(HTML('''<hr>'''))"
   ]
  },
  {
   "cell_type": "markdown",
   "id": "b21fe98c-852f-4d59-bed7-509a5ebe6bdf",
   "metadata": {},
   "source": [
    "# Colours\n",
    "\n",
    "Here I will show some functions that allow to deal with colours in CSS. \n",
    "\n",
    "Full list of colours can be found in this site https://147colors.com/."
   ]
  },
  {
   "cell_type": "markdown",
   "id": "45dab08f-19b9-4c78-8300-5091ea72d7e5",
   "metadata": {},
   "source": [
    "## **Properties**"
   ]
  },
  {
   "cell_type": "markdown",
   "id": "53ebdb01-af56-4f09-810b-459958a71f57",
   "metadata": {},
   "source": [
    "### *`color` - text color*"
   ]
  },
  {
   "cell_type": "code",
   "execution_count": 22,
   "id": "c88c7cd0-b0c5-4eed-a6e4-6847dc979488",
   "metadata": {},
   "outputs": [
    {
     "data": {
      "text/html": [
       "<text style=\"color:aqua\">aqua</text><br><text style=\"color:black\">black</text><br><text style=\"color:blue\">blue</text><br><text style=\"color:fuchsia\">fuchsia</text><br><text style=\"color:gray\">gray</text><br><text style=\"color:green\">green</text><br><text style=\"color:lime\">lime</text><br><text style=\"color:maroon\">maroon</text><br><text style=\"color:navy\">navy</text><br><text style=\"color:olive\">olive</text><br><text style=\"color:purple\">purple</text><br><text style=\"color:red\">red</text><br><text style=\"color:silver\">silver</text><br><text style=\"color:teal\">teal</text><br><text style=\"color:white\">white</text><br><text style=\"color:yellow\">yellow</text><br>"
      ],
      "text/plain": [
       "<IPython.core.display.HTML object>"
      ]
     },
     "execution_count": 22,
     "metadata": {},
     "output_type": "execute_result"
    }
   ],
   "source": [
    "colors = ['aqua', 'black', 'blue', 'fuchsia', 'gray', 'green', 'lime', 'maroon', 'navy', 'olive', 'purple', 'red', 'silver', 'teal', 'white', 'yellow']\n",
    "line_template = '<text style=\"color:{}\">{}</text><br>'\n",
    "html_line = \"\"\n",
    "\n",
    "for color in colors:\n",
    "    html_line += line_template.format(color, color)\n",
    "HTML(html_line)"
   ]
  },
  {
   "cell_type": "markdown",
   "id": "ccc83732-d2c0-437d-9356-828a38a02845",
   "metadata": {},
   "source": [
    "### *`background` - background color* <a name=\"sec-back_color\"></a>\n",
    "\n",
    "**Note** `background-color` make the same."
   ]
  },
  {
   "cell_type": "code",
   "execution_count": 25,
   "id": "3d1efcb8-0886-4842-86e6-fe1b17120eea",
   "metadata": {},
   "outputs": [
    {
     "data": {
      "text/html": [
       "<text style=\"background:aqua\">aqua</text><br><text style=\"background:black\">black</text><br><text style=\"background:blue\">blue</text><br><text style=\"background:fuchsia\">fuchsia</text><br><text style=\"background:gray\">gray</text><br><text style=\"background:green\">green</text><br><text style=\"background:lime\">lime</text><br><text style=\"background:maroon\">maroon</text><br><text style=\"background:navy\">navy</text><br><text style=\"background:olive\">olive</text><br><text style=\"background:purple\">purple</text><br><text style=\"background:red\">red</text><br><text style=\"background:silver\">silver</text><br><text style=\"background:teal\">teal</text><br><text style=\"background:white\">white</text><br><text style=\"background:yellow\">yellow</text><br>"
      ],
      "text/plain": [
       "<IPython.core.display.HTML object>"
      ]
     },
     "execution_count": 25,
     "metadata": {},
     "output_type": "execute_result"
    }
   ],
   "source": [
    "colors = ['aqua', 'black', 'blue', 'fuchsia', 'gray', 'green', 'lime', 'maroon', 'navy', 'olive', 'purple', 'red', 'silver', 'teal', 'white', 'yellow']\n",
    "line_template = '<text style=\"background:{}\">{}</text><br>'\n",
    "html_line = \"\"\n",
    "\n",
    "for color in colors:\n",
    "    html_line += line_template.format(color, color)\n",
    "HTML(html_line)"
   ]
  },
  {
   "cell_type": "markdown",
   "id": "1c8ef10f-9de7-4e66-b339-7e65702aae33",
   "metadata": {},
   "source": [
    "## **Ways of determining**"
   ]
  },
  {
   "cell_type": "markdown",
   "id": "52c0fcb8-d03c-403b-9d5c-94d40748e0f6",
   "metadata": {},
   "source": [
    "### *Color name*"
   ]
  },
  {
   "cell_type": "code",
   "execution_count": 6,
   "id": "761457f9-81ac-4034-9263-f065a7f6b133",
   "metadata": {},
   "outputs": [
    {
     "data": {
      "text/html": [
       "\n",
       "    <text style=\"color:red\">red text</text>\n",
       "    "
      ],
      "text/plain": [
       "<IPython.core.display.HTML object>"
      ]
     },
     "execution_count": 6,
     "metadata": {},
     "output_type": "execute_result"
    }
   ],
   "source": [
    "HTML(\n",
    "    '''\n",
    "    <text style=\"color:red\">red text</text>\n",
    "    '''\n",
    ")"
   ]
  },
  {
   "cell_type": "markdown",
   "id": "30a3cfdb-8006-4fdc-81ff-910d34662ceb",
   "metadata": {},
   "source": [
    "### *RGB*\n",
    "\n",
    "Use the following syntax `rgb(R, G, B)`. $$R,G,B \\in (0,1,2,...,255)$$"
   ]
  },
  {
   "cell_type": "code",
   "execution_count": 8,
   "id": "b38cee47-b69d-4637-b8ad-1cf90113bca7",
   "metadata": {},
   "outputs": [
    {
     "data": {
      "text/html": [
       "\n",
       "    <text style=\"background-color:rgb(60, 179, 113);\">rgb(60, 179, 113)</text>\n",
       "    "
      ],
      "text/plain": [
       "<IPython.core.display.HTML object>"
      ]
     },
     "execution_count": 8,
     "metadata": {},
     "output_type": "execute_result"
    }
   ],
   "source": [
    "HTML(\n",
    "    '''\n",
    "    <text style=\"background-color:rgb(60, 179, 113);\">rgb(60, 179, 113)</text>\n",
    "    '''\n",
    ")"
   ]
  },
  {
   "cell_type": "markdown",
   "id": "7837d9ca-454a-4bc2-a0c6-35ce2d6d6b9b",
   "metadata": {},
   "source": [
    "### *RGBA*\n",
    "\n",
    "Use the following syntax `rgba(R, G, B, A)`. $$R,G,B \\in (0,1,2,...,255);$$\n",
    "$$A \\in [0,1].$$"
   ]
  },
  {
   "cell_type": "code",
   "execution_count": 20,
   "id": "46bee7da-cb2e-4d39-a99e-9314ee33a4d1",
   "metadata": {},
   "outputs": [
    {
     "name": "stdout",
     "output_type": "stream",
     "text": [
      "<text style=\"background-color:rgba(60, 179, 113, 0.0);\">rgba(60, 179, 113, 0.0)</text><br>\n",
      "<text style=\"background-color:rgba(60, 179, 113, 0.1);\">rgba(60, 179, 113, 0.1)</text><br>\n",
      "<text style=\"background-color:rgba(60, 179, 113, 0.2);\">rgba(60, 179, 113, 0.2)</text><br>\n",
      "<text style=\"background-color:rgba(60, 179, 113, 0.3);\">rgba(60, 179, 113, 0.3)</text><br>\n",
      "<text style=\"background-color:rgba(60, 179, 113, 0.4);\">rgba(60, 179, 113, 0.4)</text><br>\n",
      "<text style=\"background-color:rgba(60, 179, 113, 0.5);\">rgba(60, 179, 113, 0.5)</text><br>\n",
      "<text style=\"background-color:rgba(60, 179, 113, 0.6);\">rgba(60, 179, 113, 0.6)</text><br>\n",
      "<text style=\"background-color:rgba(60, 179, 113, 0.7);\">rgba(60, 179, 113, 0.7)</text><br>\n",
      "<text style=\"background-color:rgba(60, 179, 113, 0.8);\">rgba(60, 179, 113, 0.8)</text><br>\n",
      "<text style=\"background-color:rgba(60, 179, 113, 0.9);\">rgba(60, 179, 113, 0.9)</text><br>\n",
      "<text style=\"background-color:rgba(60, 179, 113, 1.0);\">rgba(60, 179, 113, 1.0)</text><br>\n",
      "\n"
     ]
    },
    {
     "data": {
      "text/html": [
       "<text style=\"background-color:rgba(60, 179, 113, 0.0);\">rgba(60, 179, 113, 0.0)</text><br>\n",
       "<text style=\"background-color:rgba(60, 179, 113, 0.1);\">rgba(60, 179, 113, 0.1)</text><br>\n",
       "<text style=\"background-color:rgba(60, 179, 113, 0.2);\">rgba(60, 179, 113, 0.2)</text><br>\n",
       "<text style=\"background-color:rgba(60, 179, 113, 0.3);\">rgba(60, 179, 113, 0.3)</text><br>\n",
       "<text style=\"background-color:rgba(60, 179, 113, 0.4);\">rgba(60, 179, 113, 0.4)</text><br>\n",
       "<text style=\"background-color:rgba(60, 179, 113, 0.5);\">rgba(60, 179, 113, 0.5)</text><br>\n",
       "<text style=\"background-color:rgba(60, 179, 113, 0.6);\">rgba(60, 179, 113, 0.6)</text><br>\n",
       "<text style=\"background-color:rgba(60, 179, 113, 0.7);\">rgba(60, 179, 113, 0.7)</text><br>\n",
       "<text style=\"background-color:rgba(60, 179, 113, 0.8);\">rgba(60, 179, 113, 0.8)</text><br>\n",
       "<text style=\"background-color:rgba(60, 179, 113, 0.9);\">rgba(60, 179, 113, 0.9)</text><br>\n",
       "<text style=\"background-color:rgba(60, 179, 113, 1.0);\">rgba(60, 179, 113, 1.0)</text><br>\n"
      ],
      "text/plain": [
       "<IPython.core.display.HTML object>"
      ]
     },
     "execution_count": 20,
     "metadata": {},
     "output_type": "execute_result"
    }
   ],
   "source": [
    "line_pattern = \\\n",
    "    \"<text style=\\\"background-color:rgba(60, 179, 113, {A});\\\">rgba(60, 179, 113, {A})</text><br>\\n\"\n",
    "html_file = \"\"\n",
    "\n",
    "for i in range(0,101, 10):\n",
    "    html_file += line_pattern.format(A = str(i/100))\n",
    "\n",
    "print(html_file)\n",
    "HTML(html_file)"
   ]
  },
  {
   "cell_type": "markdown",
   "id": "3f9c163b-1db0-4a95-b388-e19101287bbb",
   "metadata": {},
   "source": [
    "### *HEX*"
   ]
  },
  {
   "cell_type": "markdown",
   "id": "73bc0897-ed96-4c0d-8c46-fdd18efa2ddf",
   "metadata": {},
   "source": [
    "Use the following syntax `#rrggbb`."
   ]
  },
  {
   "cell_type": "code",
   "execution_count": 24,
   "id": "f2c2d8b2-bb41-418d-abd6-029612ae7de0",
   "metadata": {},
   "outputs": [
    {
     "data": {
      "text/html": [
       "<text style=\"background-color:#afc445;\">#afc445</text>"
      ],
      "text/plain": [
       "<IPython.core.display.HTML object>"
      ]
     },
     "execution_count": 24,
     "metadata": {},
     "output_type": "execute_result"
    }
   ],
   "source": [
    "HTML(\"<text style=\\\"background-color:#afc445;\\\">#afc445</text>\")"
   ]
  },
  {
   "cell_type": "markdown",
   "id": "764b78b9-36c1-4302-84d7-b04191a18dfa",
   "metadata": {},
   "source": [
    "### *HSL*\n",
    "\n",
    "**H**ue **S**aturation **L**ightness.\n",
    "\n",
    "Use the following syntax `HSL(H,S,L)`.\n",
    "\n",
    "Where:\n",
    "$$H \\in [0,360);$$\n",
    "$$S, L \\in [0,100].$$"
   ]
  },
  {
   "cell_type": "code",
   "execution_count": 28,
   "id": "a678a017-86e8-42b9-883b-91a9c8f0f669",
   "metadata": {},
   "outputs": [
    {
     "data": {
      "text/html": [
       "<text style=\"background-color:HSL(150, 60%, 50%);\">HSL(150, 60%, 50%)</text>"
      ],
      "text/plain": [
       "<IPython.core.display.HTML object>"
      ]
     },
     "execution_count": 28,
     "metadata": {},
     "output_type": "execute_result"
    }
   ],
   "source": [
    "HTML(\"<text style=\\\"background-color:HSL(150, 60%, 50%);\\\">HSL(150, 60%, 50%)</text>\")"
   ]
  },
  {
   "cell_type": "markdown",
   "id": "776a3440-37ef-48af-b656-61d646d4d53c",
   "metadata": {},
   "source": [
    "### *HSLA*\n",
    "\n",
    "**H**ue **S**aturation **L**ightness **A**lpha.\n",
    "\n",
    "Use the following syntax `HSL(H,S,L)`.\n",
    "\n",
    "Where:\n",
    "$$H \\in [0,360);$$\n",
    "$$S, L \\in [0,100];$$\n",
    "$$A \\in [0,1].$$"
   ]
  },
  {
   "cell_type": "code",
   "execution_count": 29,
   "id": "6c584808-bba9-4819-8e34-258c5e363e82",
   "metadata": {},
   "outputs": [
    {
     "data": {
      "text/html": [
       "<text style=\"background-color:HSL(150, 60%, 50%, 0.3);\">HSL(150, 60%, 50%, 0.3)</text>"
      ],
      "text/plain": [
       "<IPython.core.display.HTML object>"
      ]
     },
     "execution_count": 29,
     "metadata": {},
     "output_type": "execute_result"
    }
   ],
   "source": [
    "HTML(\"<text style=\\\"background-color:HSL(150, 60%, 50%, 0.3);\\\">HSL(150, 60%, 50%, 0.3)</text>\")"
   ]
  },
  {
   "cell_type": "markdown",
   "id": "f28c7aad-2084-490b-ab03-a8828c2dc66e",
   "metadata": {},
   "source": [
    "# Background\n",
    "\n",
    "There are several ways to set background for html element here I'll focus on them."
   ]
  },
  {
   "cell_type": "markdown",
   "id": "ff4c63de-1bde-4247-b16e-11a3155b71bd",
   "metadata": {},
   "source": [
    "## **background-color**\n",
    "\n",
    "This is the property when you can use any color as page background. I have describet it <a href=\"#sec-back_color\">here</a>."
   ]
  },
  {
   "cell_type": "markdown",
   "id": "0bba3ac2-f639-4bd2-af6b-8f86561ad290",
   "metadata": {},
   "source": [
    "## **background-image**\n",
    "\n",
    "Provide way to fullfill any html element with picture. Use the following syntax:\n",
    "\n",
    "`background-image: url(<path to image>)`\n",
    "\n",
    "**Note:** Whether it's a link or an image on a computer, you have to wrap it in `url()` in any case.\n",
    "\n",
    "As an example look the following code:"
   ]
  },
  {
   "cell_type": "code",
   "execution_count": 49,
   "id": "f540e1bd-af68-4e91-a926-692a5320d59e",
   "metadata": {},
   "outputs": [
    {
     "data": {
      "text/html": [
       "\n",
       "    <hr><text style=\"font-size:16px\">HTML</text>\n",
       "    "
      ],
      "text/plain": [
       "<IPython.core.display.HTML object>"
      ]
     },
     "metadata": {},
     "output_type": "display_data"
    },
    {
     "name": "stdout",
     "output_type": "stream",
     "text": [
      "<div style=\"background-image: url('fractal_css.gif')\">\n",
      "<br><br><br><br><br><br><br><br><br><br><br><br><br><br>\n",
      "</div>\n",
      "\n",
      "<div style=\"background-image: url('https://content.codecademy.com/courses/web-101/web101-image_brownbear.jpg')\">\n",
      "<br><br><br><br><br><br><br><br><br><br><br><br><br><br>\n",
      "</div>\n"
     ]
    },
    {
     "data": {
      "text/html": [
       "<hr>"
      ],
      "text/plain": [
       "<IPython.core.display.HTML object>"
      ]
     },
     "metadata": {},
     "output_type": "display_data"
    }
   ],
   "source": [
    "display(HTML(\n",
    "    '''\n",
    "    <hr><text style=\\\"font-size:16px\\\">HTML</text>\n",
    "    '''\n",
    "))\n",
    "with open(\"css_files/background_image.html\") as file:\n",
    "    print(file.read())\n",
    "display(HTML('''<hr>'''))"
   ]
  },
  {
   "cell_type": "markdown",
   "id": "80b435ee-f036-4e58-941b-e4e60debf56f",
   "metadata": {},
   "source": [
    "You can check the result <a href=\"css_files/background_image.html\">here</a>."
   ]
  },
  {
   "cell_type": "markdown",
   "id": "b5c5b78a-8756-4f96-8f52-dffd0475553d",
   "metadata": {},
   "source": [
    "## **background-repeat**\n",
    "\n",
    "Describes the way in which the image represented by the `background-image` will fill the area (repeat).\n",
    "\n",
    "Can take values:\n",
    "\n",
    "- `no-repeat` - without repeats;\n",
    "- `repeat` - the image repeats horizontally and vertically;\n",
    "- `repeat-x` - the image repeats only horizontally;\n",
    "- `repeat-y` - the image repeats only vertically;\n",
    "- `space` - an integer number of repeats will be used, but if it's not possible to fullfill area with an integer number of images then spaces will be added;\n",
    "- `round` - the whole area must be filled with an integer number of images, the size of the image will be adjusted.\n",
    "\n",
    "In the following example, I try all the diggerent options. You can see the result <a href=\"css_files/background-repeate.html\">here</a>."
   ]
  },
  {
   "cell_type": "code",
   "execution_count": 61,
   "id": "a1bc5464-3b3a-48c0-83fb-be87ffb5feeb",
   "metadata": {},
   "outputs": [
    {
     "data": {
      "text/html": [
       "<hr>"
      ],
      "text/plain": [
       "<IPython.core.display.HTML object>"
      ]
     },
     "metadata": {},
     "output_type": "display_data"
    },
    {
     "name": "stdout",
     "output_type": "stream",
     "text": [
      "\n",
      "<h2>no-repeat</h2>\n",
      "<div style=\"background-image: url('mkpic.webp'); background-repeat: no-repeat;\">\n",
      "    <br><br><br><br><br><br><br><br><br><br><br><br><br><br><br><br><br><br><br>\n",
      "</div>\n",
      "\n",
      "<h2>repate</h2>\n",
      "<div style=\"background-image: url('mkpic.webp'); background-repeat: repate;\">\n",
      "    <br><br><br><br><br><br><br><br><br><br><br><br><br><br><br><br><br><br><br>\n",
      "</div>\n",
      "\n",
      "<h2>repeat-x</h2>\n",
      "<div style=\"background-image: url('mkpic.webp'); background-repeat: repeat-x;\">\n",
      "    <br><br><br><br><br><br><br><br><br><br><br><br><br><br><br><br><br><br><br>\n",
      "</div>\n",
      "\n",
      "<h2>repeat-y</h2>\n",
      "<div style=\"background-image: url('mkpic.webp'); background-repeat: repeat-y;\">\n",
      "    <br><br><br><br><br><br><br><br><br><br><br><br><br><br><br><br><br><br><br>\n",
      "</div>\n",
      "\n",
      "<h2>space</h2>\n",
      "<div style=\"background-image: url('mkpic.webp'); background-repeat: space;\">\n",
      "    <br><br><br><br><br><br><br><br><br><br><br><br><br><br><br><br><br><br><br>\n",
      "</div>\n",
      "\n",
      "<h2>round</h2>\n",
      "<div style=\"background-image: url('mkpic.webp'); background-repeat: round;\">\n",
      "    <br><br><br><br><br><br><br><br><br><br><br><br><br><br><br><br><br><br><br>\n",
      "</div>\n",
      "\n"
     ]
    },
    {
     "data": {
      "text/html": [
       "<hr>"
      ],
      "text/plain": [
       "<IPython.core.display.HTML object>"
      ]
     },
     "metadata": {},
     "output_type": "display_data"
    }
   ],
   "source": [
    "types = [\n",
    "    \"no-repeat\", \n",
    "    \"repate\", \n",
    "    \"repeat-x\", \n",
    "    \"repeat-y\", \n",
    "    \"space\", \n",
    "    \"round\"\n",
    "]\n",
    "\n",
    "pattern_line = '''\n",
    "<h2>{type}</h2>\n",
    "<div style=\"background-image: url('mkpic.webp'); background-repeat: {type};\">\n",
    "    <br><br><br><br><br><br><br><br><br><br><br><br><br><br><br><br><br><br><br>\n",
    "</div>\n",
    "'''\n",
    "html_res = \"\"\n",
    "\n",
    "for type in types:\n",
    "    html_res += pattern_line.format(type = type)\n",
    "\n",
    "\n",
    "\n",
    "with open(\"css_files/background-repeate.html\", \"w\") as file:\n",
    "    file.write(html_res)\n",
    "    \n",
    "display(HTML('''<hr>'''))\n",
    "print(html_res)\n",
    "display(HTML('''<hr>'''))"
   ]
  },
  {
   "cell_type": "markdown",
   "id": "1f215f31-066c-4c24-8ca6-3c5cf27403f9",
   "metadata": {},
   "source": [
    "# Borders"
   ]
  },
  {
   "cell_type": "markdown",
   "id": "a04eb588-6e6f-4b0f-915b-5a9974310919",
   "metadata": {},
   "source": [
    "## **Basic**"
   ]
  },
  {
   "cell_type": "markdown",
   "id": "7ece28bf-7976-41af-9a22-7fbe76bc1f9a",
   "metadata": {},
   "source": [
    "Allows you to set borders for the hmlt element. Use the following syntax:\n",
    "\n",
    "`style=\"border: <width> <style> <color>\"`\n",
    "\n",
    "Or separetely:\n",
    "\n",
    "```\n",
    "border-width: <width>;\n",
    "border-style: <style>;\n",
    "border-color: <color>;\n",
    "```"
   ]
  },
  {
   "cell_type": "code",
   "execution_count": 16,
   "id": "d3fd74bb-439f-434e-8602-69c02d05e9e0",
   "metadata": {},
   "outputs": [
    {
     "data": {
      "text/html": [
       "<p style=\"border:red solid 5px\">red solid 5px</text><br><p style=\"border:red solid 10px\">red solid 10px</text><br><p style=\"border:red dotted 5px\">red dotted 5px</text><br><p style=\"border:red dotted 10px\">red dotted 10px</text><br><p style=\"border:yellow solid 5px\">yellow solid 5px</text><br><p style=\"border:yellow solid 10px\">yellow solid 10px</text><br><p style=\"border:yellow dotted 5px\">yellow dotted 5px</text><br><p style=\"border:yellow dotted 10px\">yellow dotted 10px</text><br><p style=\"border:green solid 5px\">green solid 5px</text><br><p style=\"border:green solid 10px\">green solid 10px</text><br><p style=\"border:green dotted 5px\">green dotted 5px</text><br><p style=\"border:green dotted 10px\">green dotted 10px</text><br>"
      ],
      "text/plain": [
       "<IPython.core.display.HTML object>"
      ]
     },
     "execution_count": 16,
     "metadata": {},
     "output_type": "execute_result"
    }
   ],
   "source": [
    "colors = ['red', 'yellow', 'green']\n",
    "styles = [\"solid\", \"dotted\"]\n",
    "sizes = [\"5px\", \"10px\"]\n",
    "line_template = '<p style=\"border:{}\">{}</text><br>'\n",
    "html_line = \"\"\n",
    "\n",
    "for col in colors:\n",
    "    for style in styles:\n",
    "        for s in sizes:\n",
    "            line = \"{} {} {}\".format(col, style, s)\n",
    "            html_line += line_template.format(line, line)\n",
    "HTML(html_line)"
   ]
  },
  {
   "cell_type": "markdown",
   "id": "e78a6c1c-cc76-41a6-a856-c90ec644e83b",
   "metadata": {},
   "source": [
    "By using syntax `border:...` you can use any sequence of properties - browser should recogise them."
   ]
  },
  {
   "cell_type": "code",
   "execution_count": 11,
   "id": "cdf23b5c-dd68-40a3-a5b7-78990b5a88f8",
   "metadata": {},
   "outputs": [
    {
     "data": {
      "text/html": [
       "\n",
       "    <p style=\"border:red 3px solid\">red 3px solid</p>\n",
       "    <p style=\"border:3px solid red\">red 3px solid</p>\n"
      ],
      "text/plain": [
       "<IPython.core.display.HTML object>"
      ]
     },
     "execution_count": 11,
     "metadata": {},
     "output_type": "execute_result"
    }
   ],
   "source": [
    "HTML('''\n",
    "    <p style=\"border:red 3px solid\">red 3px solid</p>\n",
    "    <p style=\"border:3px solid red\">3px solid red</p>\n",
    "''')"
   ]
  },
  {
   "cell_type": "markdown",
   "id": "77ad203e-b1f4-46e9-b3c2-3181c268c986",
   "metadata": {},
   "source": [
    "## **Styles**\n",
    "\n",
    "In following example I mentioned all possible border styles: "
   ]
  },
  {
   "cell_type": "code",
   "execution_count": 17,
   "id": "14bf9df2-09cc-4280-9c69-b287af146db0",
   "metadata": {},
   "outputs": [
    {
     "data": {
      "text/html": [
       "<p style=\"border-style:solid\">solid</p>\n",
       "<p style=\"border-style:dotted\">dotted</p>\n",
       "<p style=\"border-style:dashed\">dashed</p>\n",
       "<p style=\"border-style:double\">double</p>\n",
       "<p style=\"border-style:groove\">groove</p>\n",
       "<p style=\"border-style:ridge\">ridge</p>\n",
       "<p style=\"border-style:outset\">outset</p>\n",
       "<p style=\"border-style:inset\">inset</p>\n"
      ],
      "text/plain": [
       "<IPython.core.display.HTML object>"
      ]
     },
     "execution_count": 17,
     "metadata": {},
     "output_type": "execute_result"
    }
   ],
   "source": [
    "style_types = [\n",
    "    \"solid\",\n",
    "    \"dotted\",\n",
    "    \"dashed\",\n",
    "    \"double\",\n",
    "    \"groove\",\n",
    "    \"ridge\",\n",
    "    \"outset\",\n",
    "    \"inset\"\n",
    "]\n",
    "html_line = \"\"\n",
    "line_pattern = \"<p style=\\\"border-style:{style}\\\">{style}</p>\\n\"\n",
    "\n",
    "for style in style_types:\n",
    "    html_line += line_pattern.format(style = style)\n",
    "HTML(html_line)"
   ]
  },
  {
   "cell_type": "markdown",
   "id": "54520b2b-0daf-4a4f-8e7c-a1187f7aadc9",
   "metadata": {},
   "source": [
    "## **Width**"
   ]
  },
  {
   "cell_type": "markdown",
   "id": "8e055ad2-3dde-43de-a2c6-c84429533ecd",
   "metadata": {},
   "source": [
    "You can set border widht:\n",
    "- In some measures: px, pt, cm, em etc.;\n",
    "- Using keywords: thin, medium, thick."
   ]
  },
  {
   "cell_type": "code",
   "execution_count": 54,
   "id": "1476fcc3-21f2-4799-b9e5-a6c46cad0c57",
   "metadata": {},
   "outputs": [
    {
     "data": {
      "text/html": [
       "\n",
       " <p style= \"border-width: top_bottom left_right;\"></p>\n",
       " "
      ],
      "text/plain": [
       "<IPython.core.display.HTML object>"
      ]
     },
     "execution_count": 54,
     "metadata": {},
     "output_type": "execute_result"
    }
   ],
   "source": [
    "HTML('''\n",
    " <p style=\"border-width: top_bottom left_right;\">fsdf</p>\n",
    " ''')"
   ]
  },
  {
   "cell_type": "code",
   "execution_count": 52,
   "id": "3c71ab47-c753-4cc5-a4ea-63689f51bdba",
   "metadata": {},
   "outputs": [
    {
     "data": {
      "text/html": [
       "<hr>"
      ],
      "text/plain": [
       "<IPython.core.display.HTML object>"
      ]
     },
     "metadata": {},
     "output_type": "display_data"
    },
    {
     "name": "stdout",
     "output_type": "stream",
     "text": [
      "<p style=\"border:3px solid\">3px solid</p>\n",
      "<p style=\"border:3pt solid\">3pt solid</p>\n",
      "<p style=\"border:3cm solid\">3cm solid</p>\n",
      "<p style=\"border:3em solid\">3em solid</p>\n",
      "<p style=\"border:thin solid\">thin solid</p>\n",
      "<p style=\"border:medium solid\">medium solid</p>\n",
      "<p style=\"border:thick solid\">thick solid</p>\n",
      "\n"
     ]
    },
    {
     "data": {
      "text/html": [
       "<hr>"
      ],
      "text/plain": [
       "<IPython.core.display.HTML object>"
      ]
     },
     "metadata": {},
     "output_type": "display_data"
    },
    {
     "data": {
      "text/html": [
       "<p style=\"border:3px solid\">3px solid</p>\n",
       "<p style=\"border:3pt solid\">3pt solid</p>\n",
       "<p style=\"border:3cm solid\">3cm solid</p>\n",
       "<p style=\"border:3em solid\">3em solid</p>\n",
       "<p style=\"border:thin solid\">thin solid</p>\n",
       "<p style=\"border:medium solid\">medium solid</p>\n",
       "<p style=\"border:thick solid\">thick solid</p>\n"
      ],
      "text/plain": [
       "<IPython.core.display.HTML object>"
      ]
     },
     "execution_count": 52,
     "metadata": {},
     "output_type": "execute_result"
    }
   ],
   "source": [
    "widthes = [\n",
    "    \"3px\", \"3pt\", \"3cm\", \"3em\",\n",
    "    \"thin\", \"medium\", \"thick\"\n",
    "]\n",
    "line_pattern = \"<p style=\\\"border:{w} solid\\\">{w} solid</p>\\n\"\n",
    "html_line = \"\"\n",
    "\n",
    "for width in widthes:\n",
    "    html_line += line_pattern.format(w=width)\n",
    "\n",
    "display(HTML('<hr>'))\n",
    "print(html_line)\n",
    "display(HTML('<hr>'))\n",
    "\n",
    "HTML(html_line)"
   ]
  },
  {
   "cell_type": "markdown",
   "id": "6355adaf-ddbd-4810-bd73-38bcd846146f",
   "metadata": {},
   "source": [
    "## **Different borders**"
   ]
  },
  {
   "cell_type": "markdown",
   "id": "4b17015d-c968-478d-88fe-13d3c54da826",
   "metadata": {},
   "source": [
    "### *Syntax 1*\n",
    "\n",
    "You can specify different settings for different borders using syntax:\n",
    "\n",
    "- `border-<width/color/style>: <top and bottom> <left and right>`;\n",
    "- `border-<width/color/style>: <top> <left and right> <bottom>`;\n",
    "- `border-<width/color/style>: <top> <right> <bottom> <left>`.\n",
    "\n",
    "You can check it by following example:"
   ]
  },
  {
   "cell_type": "code",
   "execution_count": 66,
   "id": "59a40c28-adc9-4904-b098-b59a4a445d44",
   "metadata": {},
   "outputs": [
    {
     "data": {
      "text/html": [
       "<hr>"
      ],
      "text/plain": [
       "<IPython.core.display.HTML object>"
      ]
     },
     "metadata": {},
     "output_type": "display_data"
    },
    {
     "name": "stdout",
     "output_type": "stream",
     "text": [
      "<p style=\"border-width:3px ; border-style:solid ; border-color:red \">widthes:3px |colors:red |styles:solid </p>\n",
      "<p style=\"border-width:3px 9px ; border-style:solid dotted ; border-color:red yellow \">widthes:3px 9px |colors:red yellow |styles:solid dotted </p>\n",
      "<p style=\"border-width:3px 9px 15px ; border-style:solid dotted dashed ; border-color:red yellow green \">widthes:3px 9px 15px |colors:red yellow green |styles:solid dotted dashed </p>\n",
      "<p style=\"border-width:3px 9px 15px 21px ; border-style:solid dotted dashed double ; border-color:red yellow green purple \">widthes:3px 9px 15px 21px |colors:red yellow green purple |styles:solid dotted dashed double </p>\n",
      "\n"
     ]
    },
    {
     "data": {
      "text/html": [
       "<hr>"
      ],
      "text/plain": [
       "<IPython.core.display.HTML object>"
      ]
     },
     "metadata": {},
     "output_type": "display_data"
    },
    {
     "data": {
      "text/html": [
       "<p style=\"border-width:3px ; border-style:solid ; border-color:red \">widthes:3px |colors:red |styles:solid </p>\n",
       "<p style=\"border-width:3px 9px ; border-style:solid dotted ; border-color:red yellow \">widthes:3px 9px |colors:red yellow |styles:solid dotted </p>\n",
       "<p style=\"border-width:3px 9px 15px ; border-style:solid dotted dashed ; border-color:red yellow green \">widthes:3px 9px 15px |colors:red yellow green |styles:solid dotted dashed </p>\n",
       "<p style=\"border-width:3px 9px 15px 21px ; border-style:solid dotted dashed double ; border-color:red yellow green purple \">widthes:3px 9px 15px 21px |colors:red yellow green purple |styles:solid dotted dashed double </p>\n"
      ],
      "text/plain": [
       "<IPython.core.display.HTML object>"
      ]
     },
     "execution_count": 66,
     "metadata": {},
     "output_type": "execute_result"
    }
   ],
   "source": [
    "initial_size = 3\n",
    "widthes_line = \"\"\n",
    "\n",
    "colors = [\"red\", \"yellow\", \"green\", \"purple\"]\n",
    "colors_line = \"\"\n",
    "\n",
    "styles = [\"solid\", \"dotted\", \"dashed\", \"double\"]\n",
    "styles_line = \"\"\n",
    "\n",
    "pattern_line = \"<p style=\\\"border-width:{w}; border-style:{s}; border-color:{c}\\\">widthes:{w}|colors:{c}|styles:{s}</p>\\n\"\n",
    "html_line = \"\"\n",
    "\n",
    "for i in range(4):\n",
    "    widthes_line += (str(initial_size) + \"px \")\n",
    "    initial_size += 6\n",
    "\n",
    "    colors_line += colors[i] + \" \"\n",
    "\n",
    "    styles_line += styles[i] + \" \"\n",
    "    \n",
    "    html_line += pattern_line.format(w = widthes_line, c = colors_line, s = styles_line)\n",
    "\n",
    "display(HTML('<hr>'))\n",
    "print(html_line)\n",
    "display(HTML('<hr>'))\n",
    "\n",
    "HTML(html_line)"
   ]
  },
  {
   "cell_type": "markdown",
   "id": "e8bb1a7f-dc8b-416f-883a-d9c1b53a99cd",
   "metadata": {},
   "source": [
    "### *Syntax 2*\n",
    "\n",
    "You can specify different settings for different borders using syntax `border-<\"\"/top/bottom/left/right>-<\"\"/color/style/width>`."
   ]
  },
  {
   "cell_type": "code",
   "execution_count": 72,
   "id": "d8b392a1-9ae2-450a-acf1-63d0575e6f8f",
   "metadata": {},
   "outputs": [
    {
     "data": {
      "text/html": [
       "\n",
       "    <p style=\"border-top-style:dotted\">border-top-style:dotted</p>\n",
       "    <p style=\"border-bottom:dashed 10px blue\">border-bottom:dashed 10px blue</p>\n"
      ],
      "text/plain": [
       "<IPython.core.display.HTML object>"
      ]
     },
     "execution_count": 72,
     "metadata": {},
     "output_type": "execute_result"
    }
   ],
   "source": [
    "HTML('''\n",
    "    <p style=\"border-top-style:dotted\">border-top-style:dotted</p>\n",
    "    <p style=\"border-bottom:dashed 10px blue\">border-bottom:dashed 10px blue</p>\n",
    "''')"
   ]
  },
  {
   "cell_type": "markdown",
   "id": "5432d17c-a469-4ab5-a3cf-040189308a92",
   "metadata": {},
   "source": [
    "## **Corner rounding**\n",
    "\n",
    "You can set borders rounding by using the following syntax:\n",
    "\n",
    "- `border-<top/bottom>-<left/right>-radius: <value>`;\n",
    "- `border-radius: <all egtes value>`;\n",
    "- `border-radius: <top-left and bottom-right> <bottom-left and top-right>`;\n",
    "- `border-radius: <top-left> <bottom-left and top-right> <bottom-right>`;\n",
    "- `border-radius: <top-left> <top-right> <bottom-right> <bottom-left>`;\n",
    "\n",
    "You can check all these options in the following example:"
   ]
  },
  {
   "cell_type": "code",
   "execution_count": 87,
   "id": "ce599b9f-5b9f-42c2-93da-5c20b99f5177",
   "metadata": {},
   "outputs": [
    {
     "data": {
      "text/html": [
       "\n",
       "    <p style=\"border-top-left-radius:10px; border: solid\">border-top-left-radius:10px</p>\n",
       "    <p style=\"border-radius: 10px; border: solid\">border-radius: 10px</p>\n",
       "    <p style=\"border-radius: 10px 30px; border: solid\">border-radius: 10px 30px</p>\n",
       "    <p style=\"border-radius: 10px 0px 20px; border: solid\">border-radius: 10px 0px 20px</p>\n",
       "    <p style=\"border-radius: 10px 0px 20px 30px; border: solid\">border-radius: 10px 0px 20px 30px</p>\n",
       "    "
      ],
      "text/plain": [
       "<IPython.core.display.HTML object>"
      ]
     },
     "execution_count": 87,
     "metadata": {},
     "output_type": "execute_result"
    }
   ],
   "source": [
    "HTML(\n",
    "    '''\n",
    "    <p style=\"border-top-left-radius:10px; border: solid\">border-top-left-radius:10px</p>\n",
    "    <p style=\"border-radius: 10px; border: solid\">border-radius: 10px</p>\n",
    "    <p style=\"border-radius: 10px 30px; border: solid\">border-radius: 10px 30px</p>\n",
    "    <p style=\"border-radius: 10px 0px 20px; border: solid\">border-radius: 10px 0px 20px</p>\n",
    "    <p style=\"border-radius: 10px 0px 20px 30px; border: solid\">border-radius: 10px 0px 20px 30px</p>\n",
    "    '''\n",
    ")"
   ]
  },
  {
   "cell_type": "markdown",
   "id": "fe40000e-3334-4869-b0dd-38f5eb2b80b1",
   "metadata": {},
   "source": [
    "# `margin` - outside space"
   ]
  },
  {
   "cell_type": "markdown",
   "id": "e98726af-c98a-4b55-a661-865c27bb59b9",
   "metadata": {},
   "source": [
    "## **Basic**\n",
    "\n",
    "By using this property you can set distance from outside elemnts. Use following syntax:\n",
    "\n",
    "- `margin-<top/left/right/bottom>: <value>`;\n",
    "- `margin: <value for all sides>`;\n",
    "- `margin: <top and bottom> <left and right>`;\n",
    "- `margin: <top> <left and right> <bottom>`;\n",
    "- `margin: <top> <right> <bottom> <left>`."
   ]
  },
  {
   "cell_type": "code",
   "execution_count": 106,
   "id": "3f0f49ae-415e-4e66-92b3-ac3cf9b7a89e",
   "metadata": {},
   "outputs": [
    {
     "data": {
      "text/html": [
       "\n",
       "    <div style=\"border:solid green\">\n",
       "        <div style=\"border:solid 10px; margin-top: 10px\">Upper element</div>\n",
       "        <div style=\"border:solid 10px; margin: 50px 0px 100px 50px\">Middle element</div>\n",
       "        <div style=\"border:solid 10px\">Lower element</div>\n",
       "    </div>\n"
      ],
      "text/plain": [
       "<IPython.core.display.HTML object>"
      ]
     },
     "execution_count": 106,
     "metadata": {},
     "output_type": "execute_result"
    }
   ],
   "source": [
    "HTML('''\n",
    "    <div style=\"border:solid green\">\n",
    "        <div style=\"border:solid 10px; margin-top: 10px\">Upper element</div>\n",
    "        <div style=\"border:solid 10px; margin: 50px 0px 100px 50px\">Middle element</div>\n",
    "        <div style=\"border:solid 10px\">Lower element</div>\n",
    "    </div>\n",
    "''')"
   ]
  },
  {
   "cell_type": "markdown",
   "id": "9d3c93e4-17ee-41b2-9f7a-5ddbfe04ec3c",
   "metadata": {},
   "source": [
    "## **Available values**\n",
    "\n",
    "Value can be setted as:\n",
    "\n",
    "- px, cm, pt etc.\n",
    "- inherit - use option like parent;\n",
    "- auto."
   ]
  },
  {
   "cell_type": "markdown",
   "id": "c0b20f9e-7cf5-4b24-8412-c54b37494d91",
   "metadata": {},
   "source": [
    "### *Inherit*"
   ]
  },
  {
   "cell_type": "code",
   "execution_count": 120,
   "id": "e42543ba-0a95-458a-a58e-1153d5c191f8",
   "metadata": {},
   "outputs": [
    {
     "data": {
      "text/html": [
       "\n",
       "    <div style=\"border:solid green\">\n",
       "        <div style=\"border:solid 10px red; margin: 0px 30px 100px 50px\">\n",
       "            <div style=\"border:solid 10px; margin: inherit\">margin: inherit</div>\n",
       "        </div>\n",
       "    </div>\n"
      ],
      "text/plain": [
       "<IPython.core.display.HTML object>"
      ]
     },
     "execution_count": 120,
     "metadata": {},
     "output_type": "execute_result"
    }
   ],
   "source": [
    "HTML('''\n",
    "    <div style=\"border:solid green\">\n",
    "        <div style=\"border:solid 10px red; margin: 0px 30px 100px 50px\">\n",
    "            <div style=\"border:solid 10px; margin: inherit\">margin: inherit</div>\n",
    "        </div>\n",
    "    </div>\n",
    "''')"
   ]
  },
  {
   "cell_type": "markdown",
   "id": "86a480d2-d064-47ca-985e-edf066fee811",
   "metadata": {},
   "source": [
    "### *Auto*\n",
    "\n",
    "With this option, the element will take up all available vertical space and be centred horizontally."
   ]
  },
  {
   "cell_type": "code",
   "execution_count": 131,
   "id": "67f96221-6fcd-48c9-b32e-7bdb4ed5dd00",
   "metadata": {},
   "outputs": [
    {
     "data": {
      "text/html": [
       "\n",
       "    <div style=\"border:solid green\">\n",
       "        <div style=\"border:solid 10px red; margin: auto;width: 500px; height: 200px\">\n",
       "            border:solid 10px red; margin: auto;width: 500px; height: 200px\n",
       "        </div>\n",
       "    </div>\n"
      ],
      "text/plain": [
       "<IPython.core.display.HTML object>"
      ]
     },
     "execution_count": 131,
     "metadata": {},
     "output_type": "execute_result"
    }
   ],
   "source": [
    "HTML('''\n",
    "    <div style=\"border:solid green\">\n",
    "        <div style=\"border:solid 10px red; margin: auto;width: 500px; height: 200px\">\n",
    "            border:solid 10px red; margin: auto;width: 500px; height: 200px\n",
    "        </div>\n",
    "    </div>\n",
    "''')"
   ]
  },
  {
   "cell_type": "code",
   "execution_count": 132,
   "id": "529a0ea6-0dff-4a66-bc32-d7d7b216a3b8",
   "metadata": {},
   "outputs": [
    {
     "data": {
      "text/html": [
       "\n",
       "    <div style=\"border:solid green\">\n",
       "        <div>Some other div</div>\n",
       "        <div style=\"border:solid 10px red; margin: auto;width: 500px; height: 200px\">\n",
       "            border:solid 10px red; margin: auto;width: 500px; height: 200px\n",
       "        </div>\n",
       "    </div>\n"
      ],
      "text/plain": [
       "<IPython.core.display.HTML object>"
      ]
     },
     "execution_count": 132,
     "metadata": {},
     "output_type": "execute_result"
    }
   ],
   "source": [
    "HTML('''\n",
    "    <div style=\"border:solid green\">\n",
    "        <div>Some other div</div>\n",
    "        <div style=\"border:solid 10px red; margin: auto;width: 500px; height: 200px\">\n",
    "            border:solid 10px red; margin: auto;width: 500px; height: 200px\n",
    "        </div>\n",
    "    </div>\n",
    "''')"
   ]
  },
  {
   "cell_type": "markdown",
   "id": "c57d2875-094e-4cbb-a451-405f6e42e0b2",
   "metadata": {},
   "source": [
    "## **Slamming the indentation**\n",
    "\n",
    "If you are unig two elememtns close and:\n",
    "\n",
    "- Top element has bottom margin;\n",
    "- Bottom element has top margin;\n",
    "\n",
    "The browser interprets this as an offset equal to the maximum of the original. In the following example, you can compare two blocks with two 200px margins and two blocks with only one 400px margin."
   ]
  },
  {
   "cell_type": "code",
   "execution_count": 136,
   "id": "9a926d30-9f25-4268-bbb9-a0233e6db67c",
   "metadata": {},
   "outputs": [
    {
     "data": {
      "text/html": [
       "\n",
       "    <div style=\"border:solid green\">\n",
       "        <div style=\"margin-bottom: 200px;border:solid red\">Top div</div>\n",
       "        <div style=\"margin-top: 200px; border:solid red\"> Bottom div</div>\n",
       "    </div>\n",
       "    <div style=\"border:solid green\">\n",
       "        <div style=\"margin-bottom: 400px;border:solid red\">Top div</div>\n",
       "        <div style=\"border:solid red\"> Bottom div</div>\n",
       "    </div>\n"
      ],
      "text/plain": [
       "<IPython.core.display.HTML object>"
      ]
     },
     "execution_count": 136,
     "metadata": {},
     "output_type": "execute_result"
    }
   ],
   "source": [
    "HTML('''\n",
    "    <div style=\"border:solid green\">\n",
    "        <div style=\"margin-bottom: 200px;border:solid red\">Top div</div>\n",
    "        <div style=\"margin-top: 200px; border:solid red\"> Bottom div</div>\n",
    "    </div>\n",
    "    <div style=\"border:solid green\">\n",
    "        <div style=\"margin-bottom: 400px;border:solid red\">Top div</div>\n",
    "        <div style=\"border:solid red\"> Bottom div</div>\n",
    "    </div>\n",
    "''')"
   ]
  },
  {
   "cell_type": "markdown",
   "id": "b619d24c-02bc-4f90-b61b-a62bb9ba8016",
   "metadata": {},
   "source": [
    "# `padding` - inside space"
   ]
  },
  {
   "cell_type": "markdown",
   "id": "c1b37bed-8544-4d9f-aff5-952aa8d57177",
   "metadata": {},
   "source": [
    "By using this property you can set distance between element borders and it's content. Use following syntax:\n",
    "\n",
    "- `padding-<top/left/right/bottom>: <value>`;\n",
    "- `padding: <value for all sides>`;\n",
    "- `padding: <top and bottom> <left and right>`;\n",
    "- `padding: <top> <left and right> <bottom>`;\n",
    "- `padding: <top> <right> <bottom> <left>`.\n",
    "\n",
    "Available values:\n",
    "\n",
    "- px, cm, em, % etc;\n",
    "- inherit - take the same value as the parent;"
   ]
  },
  {
   "cell_type": "code",
   "execution_count": 161,
   "id": "9055bef8-46aa-4311-824e-d944be1cf88f",
   "metadata": {},
   "outputs": [
    {
     "data": {
      "text/html": [
       "\n",
       "    <div style=\"margin: 20px 40%; padding: 15px; border:solid\">\n",
       "        <div style=\"padding: 50px;border:solid\"> I have 50px padding</div>\n",
       "        <div style=\"padding: inherit;border:solid\"> I have inherited padding</div>\n",
       "        <div style=\"padding: 30px 40%;border:solid\"> I have 30px 40% padding</div>\n",
       "    </div>\n"
      ],
      "text/plain": [
       "<IPython.core.display.HTML object>"
      ]
     },
     "execution_count": 161,
     "metadata": {},
     "output_type": "execute_result"
    }
   ],
   "source": [
    "HTML('''\n",
    "    <div style=\"margin: 20px 40%; padding: 15px; border:solid\">\n",
    "        <div style=\"padding: 50px;border:solid\"> I have 50px padding</div>\n",
    "        <div style=\"padding: inherit;border:solid\"> I have inherited padding</div>\n",
    "        <div style=\"padding: 30px 40%;border:solid\"> I have 30px 40% padding</div>\n",
    "    </div>\n",
    "''')"
   ]
  },
  {
   "cell_type": "markdown",
   "id": "9fa2fdbf-87ec-44a8-a7b4-6cacbdd95b88",
   "metadata": {},
   "source": [
    "# Content sizing\n",
    "\n",
    "Here I will describe properties which allow to set elements sizing."
   ]
  },
  {
   "cell_type": "markdown",
   "id": "a9014ac2-246a-4f86-98a5-5ea87b810c0f",
   "metadata": {},
   "source": [
    "## **`width`**\n",
    "\n",
    "**Not to be confused with the `width` attribute**\n",
    "\n",
    "You can set width using:\n",
    "\n",
    "- px, cm, em;\n",
    "- percentage relative to parent size;\n",
    "- inherit - using same values as parent;\n",
    "- auto."
   ]
  },
  {
   "cell_type": "code",
   "execution_count": 36,
   "id": "c3bdad72-213f-45a3-98f6-c642933f9583",
   "metadata": {},
   "outputs": [
    {
     "data": {
      "text/html": [
       "\n",
       "    <strong>Width 200px</strong>\n",
       "    <p style=\"width:200px\">\n",
       "    Lorem ipsum dolor sit amet, consectetur adipiscing elit. \n",
       "    Etiam semper diam at erat pulvinar, at pulvinar felis blandit. \n",
       "    Vestibulum volutpat tellus diam, consequat gravida libero rhoncus ut.\n",
       "    Maecenas imperdiet felis nisi, fringilla luctus felis hendrerit\n",
       "    sit amet. Pellentesque interdum, nisl nec interdum maximus, augue\n",
       "    diam porttitor lorem, et sollicitudin felis neque sit amet erat.\n",
       "    </p>\n",
       "\n",
       "    <strong>Width 50%</strong>\n",
       "    <p style=\"width:50%\">\n",
       "    Lorem ipsum dolor sit amet, consectetur adipiscing elit. \n",
       "    Etiam semper diam at erat pulvinar, at pulvinar felis blandit. \n",
       "    Vestibulum volutpat tellus diam, consequat gravida libero rhoncus ut.\n",
       "    Maecenas imperdiet felis nisi, fringilla luctus felis hendrerit\n",
       "    sit amet. Pellentesque interdum, nisl nec interdum maximus, augue\n",
       "    diam porttitor lorem, et sollicitudin felis neque sit amet erat.\n",
       "    </p>\n",
       "    "
      ],
      "text/plain": [
       "<IPython.core.display.HTML object>"
      ]
     },
     "execution_count": 36,
     "metadata": {},
     "output_type": "execute_result"
    }
   ],
   "source": [
    "HTML(\n",
    "    '''\n",
    "    <strong>Width 200px</strong>\n",
    "    <p style=\"width:200px\">\n",
    "    Lorem ipsum dolor sit amet, consectetur adipiscing elit. \n",
    "    Etiam semper diam at erat pulvinar, at pulvinar felis blandit. \n",
    "    Vestibulum volutpat tellus diam, consequat gravida libero rhoncus ut.\n",
    "    Maecenas imperdiet felis nisi, fringilla luctus felis hendrerit\n",
    "    sit amet. Pellentesque interdum, nisl nec interdum maximus, augue\n",
    "    diam porttitor lorem, et sollicitudin felis neque sit amet erat.\n",
    "    </p>\n",
    "\n",
    "    <strong>Width 50%</strong>\n",
    "    <p style=\"width:50%\">\n",
    "    Lorem ipsum dolor sit amet, consectetur adipiscing elit. \n",
    "    Etiam semper diam at erat pulvinar, at pulvinar felis blandit. \n",
    "    Vestibulum volutpat tellus diam, consequat gravida libero rhoncus ut.\n",
    "    Maecenas imperdiet felis nisi, fringilla luctus felis hendrerit\n",
    "    sit amet. Pellentesque interdum, nisl nec interdum maximus, augue\n",
    "    diam porttitor lorem, et sollicitudin felis neque sit amet erat.\n",
    "    </p>\n",
    "    '''\n",
    ")"
   ]
  },
  {
   "cell_type": "markdown",
   "id": "99b5cf75-7b46-4d1b-b8d8-efff4a5dc7a0",
   "metadata": {},
   "source": [
    "## **`max-width`**\n",
    "\n",
    "The width of the element cannot be exceeded. In the following example, I have created some paris of parent/child divs, each child has `max-width:200px` property, but the parent is gradually expanding. The feature here is that the child width follows the parent width only before 200px."
   ]
  },
  {
   "cell_type": "code",
   "execution_count": 172,
   "id": "36f85073-7bc7-49c6-b96a-f8f5c545b402",
   "metadata": {},
   "outputs": [
    {
     "data": {
      "text/html": [
       "<hr>"
      ],
      "text/plain": [
       "<IPython.core.display.HTML object>"
      ]
     },
     "metadata": {},
     "output_type": "display_data"
    },
    {
     "name": "stdout",
     "output_type": "stream",
     "text": [
      "\n",
      "<div style=\"width:170px;border:solid green\">\n",
      "    <div style=\"max-width:200px; border:solid red\"> parent width 170</div>\n",
      "</div>\n",
      "\n",
      "<div style=\"width:180px;border:solid green\">\n",
      "    <div style=\"max-width:200px; border:solid red\"> parent width 180</div>\n",
      "</div>\n",
      "\n",
      "<div style=\"width:190px;border:solid green\">\n",
      "    <div style=\"max-width:200px; border:solid red\"> parent width 190</div>\n",
      "</div>\n",
      "\n",
      "<div style=\"width:200px;border:solid green\">\n",
      "    <div style=\"max-width:200px; border:solid red\"> parent width 200</div>\n",
      "</div>\n",
      "\n",
      "<div style=\"width:210px;border:solid green\">\n",
      "    <div style=\"max-width:200px; border:solid red\"> parent width 210</div>\n",
      "</div>\n",
      "\n",
      "<div style=\"width:220px;border:solid green\">\n",
      "    <div style=\"max-width:200px; border:solid red\"> parent width 220</div>\n",
      "</div>\n",
      "\n",
      "<div style=\"width:230px;border:solid green\">\n",
      "    <div style=\"max-width:200px; border:solid red\"> parent width 230</div>\n",
      "</div>\n",
      "\n"
     ]
    },
    {
     "data": {
      "text/html": [
       "<hr>"
      ],
      "text/plain": [
       "<IPython.core.display.HTML object>"
      ]
     },
     "metadata": {},
     "output_type": "display_data"
    },
    {
     "data": {
      "text/html": [
       "\n",
       "<div style=\"width:170px;border:solid green\">\n",
       "    <div style=\"max-width:200px; border:solid red\"> parent width 170</div>\n",
       "</div>\n",
       "\n",
       "<div style=\"width:180px;border:solid green\">\n",
       "    <div style=\"max-width:200px; border:solid red\"> parent width 180</div>\n",
       "</div>\n",
       "\n",
       "<div style=\"width:190px;border:solid green\">\n",
       "    <div style=\"max-width:200px; border:solid red\"> parent width 190</div>\n",
       "</div>\n",
       "\n",
       "<div style=\"width:200px;border:solid green\">\n",
       "    <div style=\"max-width:200px; border:solid red\"> parent width 200</div>\n",
       "</div>\n",
       "\n",
       "<div style=\"width:210px;border:solid green\">\n",
       "    <div style=\"max-width:200px; border:solid red\"> parent width 210</div>\n",
       "</div>\n",
       "\n",
       "<div style=\"width:220px;border:solid green\">\n",
       "    <div style=\"max-width:200px; border:solid red\"> parent width 220</div>\n",
       "</div>\n",
       "\n",
       "<div style=\"width:230px;border:solid green\">\n",
       "    <div style=\"max-width:200px; border:solid red\"> parent width 230</div>\n",
       "</div>\n"
      ],
      "text/plain": [
       "<IPython.core.display.HTML object>"
      ]
     },
     "execution_count": 172,
     "metadata": {},
     "output_type": "execute_result"
    }
   ],
   "source": [
    "parent_div_pattern = '''\n",
    "<div style=\"width:{w}px;border:solid green\">\n",
    "    <div style=\"max-width:200px; border:solid red\"> parent width {w}</div>\n",
    "</div>\n",
    "'''\n",
    "\n",
    "html_line = \"\"\n",
    "\n",
    "for i in range(170, 231, 10):\n",
    "    html_line += parent_div_pattern.format(w=str(i))\n",
    "\n",
    "display(HTML(\"<hr>\"))\n",
    "print(html_line)\n",
    "display(HTML(\"<hr>\"))\n",
    "\n",
    "HTML(html_line)"
   ]
  },
  {
   "cell_type": "markdown",
   "id": "aeb0c53f-fe0d-4f49-bd04-52404afc533a",
   "metadata": {},
   "source": [
    "## **`min-width`**\n",
    "\n",
    "An item cannot take a value shorter than this length. In the following example, I have created some paris of parent/child divs, each child has `min-width:200px` property, but the parent is gradually expanding. The feature here is that the child width follows the parent width only after 200px."
   ]
  },
  {
   "cell_type": "code",
   "execution_count": 173,
   "id": "979b650b-3ee5-4c57-a69f-49722ef637b4",
   "metadata": {},
   "outputs": [
    {
     "data": {
      "text/html": [
       "<hr>"
      ],
      "text/plain": [
       "<IPython.core.display.HTML object>"
      ]
     },
     "metadata": {},
     "output_type": "display_data"
    },
    {
     "name": "stdout",
     "output_type": "stream",
     "text": [
      "\n",
      "<div style=\"width:170px;border:solid green\">\n",
      "    <div style=\"min-width:200px; border:solid red\"> parent width 170</div>\n",
      "</div>\n",
      "\n",
      "<div style=\"width:180px;border:solid green\">\n",
      "    <div style=\"min-width:200px; border:solid red\"> parent width 180</div>\n",
      "</div>\n",
      "\n",
      "<div style=\"width:190px;border:solid green\">\n",
      "    <div style=\"min-width:200px; border:solid red\"> parent width 190</div>\n",
      "</div>\n",
      "\n",
      "<div style=\"width:200px;border:solid green\">\n",
      "    <div style=\"min-width:200px; border:solid red\"> parent width 200</div>\n",
      "</div>\n",
      "\n",
      "<div style=\"width:210px;border:solid green\">\n",
      "    <div style=\"min-width:200px; border:solid red\"> parent width 210</div>\n",
      "</div>\n",
      "\n",
      "<div style=\"width:220px;border:solid green\">\n",
      "    <div style=\"min-width:200px; border:solid red\"> parent width 220</div>\n",
      "</div>\n",
      "\n",
      "<div style=\"width:230px;border:solid green\">\n",
      "    <div style=\"min-width:200px; border:solid red\"> parent width 230</div>\n",
      "</div>\n",
      "\n"
     ]
    },
    {
     "data": {
      "text/html": [
       "<hr>"
      ],
      "text/plain": [
       "<IPython.core.display.HTML object>"
      ]
     },
     "metadata": {},
     "output_type": "display_data"
    },
    {
     "data": {
      "text/html": [
       "\n",
       "<div style=\"width:170px;border:solid green\">\n",
       "    <div style=\"min-width:200px; border:solid red\"> parent width 170</div>\n",
       "</div>\n",
       "\n",
       "<div style=\"width:180px;border:solid green\">\n",
       "    <div style=\"min-width:200px; border:solid red\"> parent width 180</div>\n",
       "</div>\n",
       "\n",
       "<div style=\"width:190px;border:solid green\">\n",
       "    <div style=\"min-width:200px; border:solid red\"> parent width 190</div>\n",
       "</div>\n",
       "\n",
       "<div style=\"width:200px;border:solid green\">\n",
       "    <div style=\"min-width:200px; border:solid red\"> parent width 200</div>\n",
       "</div>\n",
       "\n",
       "<div style=\"width:210px;border:solid green\">\n",
       "    <div style=\"min-width:200px; border:solid red\"> parent width 210</div>\n",
       "</div>\n",
       "\n",
       "<div style=\"width:220px;border:solid green\">\n",
       "    <div style=\"min-width:200px; border:solid red\"> parent width 220</div>\n",
       "</div>\n",
       "\n",
       "<div style=\"width:230px;border:solid green\">\n",
       "    <div style=\"min-width:200px; border:solid red\"> parent width 230</div>\n",
       "</div>\n"
      ],
      "text/plain": [
       "<IPython.core.display.HTML object>"
      ]
     },
     "execution_count": 173,
     "metadata": {},
     "output_type": "execute_result"
    }
   ],
   "source": [
    "parent_div_pattern = '''\n",
    "<div style=\"width:{w}px;border:solid green\">\n",
    "    <div style=\"min-width:200px; border:solid red\"> parent width {w}</div>\n",
    "</div>\n",
    "'''\n",
    "\n",
    "html_line = \"\"\n",
    "\n",
    "for i in range(170, 231, 10):\n",
    "    html_line += parent_div_pattern.format(w=str(i))\n",
    "\n",
    "display(HTML(\"<hr>\"))\n",
    "print(html_line)\n",
    "display(HTML(\"<hr>\"))\n",
    "\n",
    "HTML(html_line)"
   ]
  },
  {
   "cell_type": "markdown",
   "id": "afbfff79-4368-452b-9bbb-145c000c5672",
   "metadata": {},
   "source": [
    "# Box model\n",
    "\n",
    "By default, the size of the element is added from:\n",
    "\n",
    "- content size;\n",
    "- padding;\n",
    "- border;\n",
    "- margin.\n",
    "\n",
    "Or with more details:\n",
    "\n",
    "- `<element width>=<content width>+<left padding>+<right padding>+<left border<right border>+<left margin>+<right margin>`;\n",
    "- `<element height>=<content height>+<top padding>+<bottom padding>+<top padding>+<bottom padding>+<top margin>+<bottom margin>`.\n",
    "\n",
    "This idea is called `Content-box` displayed on the left side of the following picture:\n",
    "\n",
    "<img src=\"css_files/box_model_schema.png\" style=\"margin:auto\">\n",
    "\n",
    "Alternative way is to use `Border-box` model. Where properties width and height will set size of **whole** element including:\n",
    "\n",
    "- content size;\n",
    "- padding;\n",
    "- border.\n",
    "\n",
    "Check the following html file:"
   ]
  },
  {
   "cell_type": "code",
   "execution_count": 181,
   "id": "0e7f83ad-7a83-4e0e-81ff-7a2cbfc022c8",
   "metadata": {},
   "outputs": [
    {
     "data": {
      "text/html": [
       "<hr>"
      ],
      "text/plain": [
       "<IPython.core.display.HTML object>"
      ]
     },
     "metadata": {},
     "output_type": "display_data"
    },
    {
     "name": "stdout",
     "output_type": "stream",
     "text": [
      "<style>\n",
      "    div {\n",
      "        border: solid 5px\n",
      "    }\n",
      "    .child_sizing {\n",
      "        padding: 10px;\n",
      "        margin: 10px;\n",
      "        width: 200px;\n",
      "        height: 200px;\n",
      "    }\n",
      "</style>\n",
      "\n",
      "<h1>Box type \"Content-Box\"</h1>\n",
      "<div>\n",
      "    <div class=child_sizing>\n",
      "        Content text\n",
      "    </div>\n",
      "</div>\n",
      "\n",
      "<h1>Box type \"Border-Box\"</h1>\n",
      "<div>\n",
      "    <div class=child_sizing style=\"box-sizing:border-box\">\n",
      "        Content text\n",
      "    </div>\n",
      "</div>\n"
     ]
    },
    {
     "data": {
      "text/html": [
       "<hr>"
      ],
      "text/plain": [
       "<IPython.core.display.HTML object>"
      ]
     },
     "metadata": {},
     "output_type": "display_data"
    }
   ],
   "source": [
    "display(HTML('<hr>'))\n",
    "with open(\"css_files/box_model_types.html\") as file:\n",
    "    print(file.read())\n",
    "display(HTML('<hr>'))"
   ]
  },
  {
   "cell_type": "markdown",
   "id": "270f23ec-4b4b-490d-8ae2-00c249acaae3",
   "metadata": {},
   "source": [
    "Check the result <a href=\"css_files/box_model_types.html\">here</a>. Pay special attention to section `box-model` in browzer inspector:\n",
    "\n",
    "- Content-box:\n",
    "\n",
    "<img src=\"css_files/content_box.png\">\n",
    "\n",
    "Content size 200x200 as widht/height property;\n",
    "\n",
    "- Border-box:\n",
    "\n",
    "<img src=\"css_files/border_box.png\">\n",
    "\n",
    "Content size is adapted to meet the condition `<padding>+<border>+<content width/height>=200`. "
   ]
  },
  {
   "cell_type": "markdown",
   "id": "32648fcf-2658-4e25-901c-ca863a000baf",
   "metadata": {},
   "source": [
    "# Other properties"
   ]
  },
  {
   "cell_type": "markdown",
   "id": "73da045b-b92e-4a8e-aba6-0dd924c2ddbc",
   "metadata": {},
   "source": [
    "## **`font-size` - font size**\n",
    "\n",
    "[measures](#sec-sizes_measures)"
   ]
  },
  {
   "cell_type": "code",
   "execution_count": 32,
   "id": "0ae92b6a-5a77-4883-bff6-457e3778abb0",
   "metadata": {},
   "outputs": [
    {
     "data": {
      "text/html": [
       "\n",
       "    <p style=\"font-size:20px\">20px font size</p>\n",
       "    <p style=\"font-size:10px\">10px font size</p>\n",
       "    <p style=\"font-size:100%\">100% font size</p>\n",
       "    <p style=\"font-size:120%\">120% font size</p>\n",
       "    "
      ],
      "text/plain": [
       "<IPython.core.display.HTML object>"
      ]
     },
     "execution_count": 32,
     "metadata": {},
     "output_type": "execute_result"
    }
   ],
   "source": [
    "HTML(\n",
    "    '''\n",
    "    <p style=\"font-size:20px\">20px font size</p>\n",
    "    <p style=\"font-size:10px\">10px font size</p>\n",
    "    <p style=\"font-size:100%\">100% font size</p>\n",
    "    <p style=\"font-size:120%\">120% font size</p>\n",
    "    '''\n",
    ")"
   ]
  },
  {
   "cell_type": "markdown",
   "id": "e0cf5ba0-ef3e-46c7-bdf0-bf07ef45b51d",
   "metadata": {},
   "source": [
    "## **`text-align` - position of the text**"
   ]
  },
  {
   "cell_type": "code",
   "execution_count": 9,
   "id": "bafe94dd-3d2c-495b-9faf-c3c5b21f388a",
   "metadata": {},
   "outputs": [
    {
     "data": {
      "text/html": [
       "\n",
       "    <p style=\"text-align:center\">Centered text</p>\n",
       "    <p style=\"text-align:right\">Rigth side text</p>\n",
       "    <p style=\"text-align:left\">Left side text</p>\n",
       "    "
      ],
      "text/plain": [
       "<IPython.core.display.HTML object>"
      ]
     },
     "execution_count": 9,
     "metadata": {},
     "output_type": "execute_result"
    }
   ],
   "source": [
    "HTML(\n",
    "    '''\n",
    "    <p style=\"text-align:center\">Centered text</p>\n",
    "    <p style=\"text-align:right\">Rigth side text</p>\n",
    "    <p style=\"text-align:left\">Left side text</p>\n",
    "    '''\n",
    ")"
   ]
  }
 ],
 "metadata": {
  "kernelspec": {
   "display_name": "Python 3 (ipykernel)",
   "language": "python",
   "name": "python3"
  },
  "language_info": {
   "codemirror_mode": {
    "name": "ipython",
    "version": 3
   },
   "file_extension": ".py",
   "mimetype": "text/x-python",
   "name": "python",
   "nbconvert_exporter": "python",
   "pygments_lexer": "ipython3",
   "version": "3.10.6"
  }
 },
 "nbformat": 4,
 "nbformat_minor": 5
}
