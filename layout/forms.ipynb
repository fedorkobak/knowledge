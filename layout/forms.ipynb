{
 "cells": [
  {
   "cell_type": "code",
   "execution_count": 1,
   "id": "33da7632-1b55-4619-919a-11c2897a323f",
   "metadata": {},
   "outputs": [
    {
     "data": {
      "text/html": [
       "\n",
       "<head>\n",
       "    <style>\n",
       "        h1 {text-align:center}\n",
       "    </style>\n",
       "</head>\n"
      ],
      "text/plain": [
       "<IPython.core.display.HTML object>"
      ]
     },
     "execution_count": 1,
     "metadata": {},
     "output_type": "execute_result"
    }
   ],
   "source": [
    "from IPython.display import HTML\n",
    "\n",
    "HTML('''\n",
    "<head>\n",
    "    <style>\n",
    "        h1 {text-align:center}\n",
    "    </style>\n",
    "</head>\n",
    "''')"
   ]
  },
  {
   "cell_type": "markdown",
   "id": "e5b8c83e-e9d7-4356-a53a-5d3ea10b4ca9",
   "metadata": {},
   "source": [
    "# Forms\n",
    "\n",
    "Forms allow the user to interact with the html page. There are a few special html tags to work with forms, these are covered on this page."
   ]
  },
  {
   "cell_type": "markdown",
   "id": "c0419721-7449-45ec-b01c-604edc3ed767",
   "metadata": {},
   "source": [
    "# Input\n",
    "\n",
    "Input line."
   ]
  },
  {
   "cell_type": "markdown",
   "id": "fd5a5814-1625-4591-a627-1da82f47b6a0",
   "metadata": {},
   "source": [
    "## **`type` atribute**\n",
    "\n",
    "Describe a purpose of the input. Can take the following values:\n",
    "\n",
    "- text;\n",
    "- password;\n",
    "- email;\n",
    "- tel;\n",
    "- number;\n",
    "- range;\n",
    "- submit.\n",
    "\n",
    "The values are discussed in more detail in other sub-sections."
   ]
  },
  {
   "cell_type": "markdown",
   "id": "98f28146-74df-4610-a813-36ae03466915",
   "metadata": {},
   "source": [
    "## **`type=\"text\"`**\n",
    "\n",
    "Just basic input."
   ]
  },
  {
   "cell_type": "markdown",
   "id": "b0830e2e-4e80-4920-879e-f3fa69c6ff6e",
   "metadata": {},
   "source": [
    "## **`type=\"password\"`**\n",
    "\n",
    "Used to enter passwords. Symbols change to dots as you type."
   ]
  },
  {
   "cell_type": "code",
   "execution_count": 9,
   "id": "09c3dfb7-867d-4ccf-98a7-9d92933aef33",
   "metadata": {},
   "outputs": [
    {
     "data": {
      "text/html": [
       "\n",
       "    <input type=\"password\">\n"
      ],
      "text/plain": [
       "<IPython.core.display.HTML object>"
      ]
     },
     "execution_count": 9,
     "metadata": {},
     "output_type": "execute_result"
    }
   ],
   "source": [
    "HTML('''\n",
    "    <input type=\"password\">\n",
    "''')"
   ]
  },
  {
   "cell_type": "markdown",
   "id": "8a4dadec-4da9-41f0-a500-2b3309263060",
   "metadata": {},
   "source": [
    "## **`type=\"email\"`**\n",
    "\n",
    "Used to enter an email address. The value is validated to ensure it is a real email address when sumbit button will be pressed."
   ]
  },
  {
   "cell_type": "code",
   "execution_count": 12,
   "id": "7c6d6002-038e-4aa2-9e26-683d43d974fd",
   "metadata": {},
   "outputs": [
    {
     "data": {
      "text/html": [
       "\n",
       "<form>\n",
       "    <input type=\"email\">\n",
       "    <input type=\"submit\">\n",
       "</form>\n"
      ],
      "text/plain": [
       "<IPython.core.display.HTML object>"
      ]
     },
     "execution_count": 12,
     "metadata": {},
     "output_type": "execute_result"
    }
   ],
   "source": [
    "HTML('''\n",
    "<form>\n",
    "    <input type=\"email\">\n",
    "    <input type=\"submit\">\n",
    "</form>\n",
    "''')"
   ]
  },
  {
   "cell_type": "markdown",
   "id": "6545b1f2-111d-4461-967b-b476d6a4f882",
   "metadata": {},
   "source": [
    "### **`type=\"tel\"`**\n",
    "\n",
    "Used to enter an phone numter. The value is validated ito ensure that it is a telephone number that satisfies the given `pattern` atribute. The following example dispays using of `<input type=\"tel\">`. You can check the result <a href=\"forms_files/input_type_tel.html\">here</a>."
   ]
  },
  {
   "cell_type": "code",
   "execution_count": 27,
   "id": "761f1f4e-84ee-40ce-b651-e80ef8f4eff3",
   "metadata": {},
   "outputs": [
    {
     "data": {
      "text/html": [
       "<hr>"
      ],
      "text/plain": [
       "<IPython.core.display.HTML object>"
      ]
     },
     "metadata": {},
     "output_type": "display_data"
    },
    {
     "name": "stdout",
     "output_type": "stream",
     "text": [
      "<!DOCTYPE html>\n",
      "<html>\n",
      "<body>\n",
      "\n",
      "<h2>Input for phone</h2>\n",
      "\n",
      "<form>\n",
      "    <label for=\"phone\">Phone number:</label><br>\n",
      "    <input type=\"tel\" id=\"phone\" \n",
      "           pattern=\"[0-9]{3}-[0-9]{2}-[0-9]{3}\"><br><br>\n",
      "           \n",
      "    <small>Fomat: 123-45-678</small>\n",
      "    <br><br>\n",
      "    <input type=\"submit\">\n",
      "</form>\n",
      "\n",
      "</body>\n",
      "</html>\n",
      "\n",
      "\n"
     ]
    },
    {
     "data": {
      "text/html": [
       "<hr>"
      ],
      "text/plain": [
       "<IPython.core.display.HTML object>"
      ]
     },
     "metadata": {},
     "output_type": "display_data"
    }
   ],
   "source": [
    "display(HTML(\"<hr>\"))\n",
    "with open(\"forms_files/input_type_tel.html\") as file:\n",
    "    print(file.read())\n",
    "display(HTML(\"<hr>\"))"
   ]
  },
  {
   "cell_type": "markdown",
   "id": "f493369a-fca5-4ab1-ac9b-31f06e0ba046",
   "metadata": {},
   "source": [
    "## **`type=\"number\"`**\n",
    "\n",
    "Used to enter the number.\n",
    "\n",
    "Attributes:\n",
    "\n",
    "- `min` minimum value;\n",
    "- `max` maximum value.\n",
    "\n",
    "In the following example you can play such an element."
   ]
  },
  {
   "cell_type": "code",
   "execution_count": 29,
   "id": "2ef1b5ae-f4e9-444a-a6a5-8ed85de61292",
   "metadata": {},
   "outputs": [
    {
     "data": {
      "text/html": [
       "\n",
       "<form>\n",
       "    <input type=\"number\" min=3 max=10>\n",
       "</form>\n"
      ],
      "text/plain": [
       "<IPython.core.display.HTML object>"
      ]
     },
     "execution_count": 29,
     "metadata": {},
     "output_type": "execute_result"
    }
   ],
   "source": [
    "HTML('''\n",
    "<form>\n",
    "    <input type=\"number\" min=3 max=10>\n",
    "</form>\n",
    "''')"
   ]
  },
  {
   "cell_type": "markdown",
   "id": "ae45742d-3831-4bac-b3dd-82f01f6c0e61",
   "metadata": {},
   "source": [
    "## **`type=\"range\"`**\n",
    "\n",
    "Creates a slider.\n",
    "\n",
    "Attributes:\n",
    "\n",
    "- `min` - describe a minimal value;\n",
    "- `max` - describe a maximum value;\n",
    "- `step` - describe a step of the slider."
   ]
  },
  {
   "cell_type": "code",
   "execution_count": 39,
   "id": "ce636d3f-76af-43c4-88f8-2a5f03edfe26",
   "metadata": {},
   "outputs": [
    {
     "data": {
      "text/html": [
       "\n",
       "    <label for=\"range1\">Range1</label><input id=\"range1\" type=\"range\" min=0 max=100 step=0.5><br>\n",
       "    <label for=\"range2\">Range2</label><input id=\"range2\" type=\"range\" min=0 max=5 step = 2>\n"
      ],
      "text/plain": [
       "<IPython.core.display.HTML object>"
      ]
     },
     "execution_count": 39,
     "metadata": {},
     "output_type": "execute_result"
    }
   ],
   "source": [
    "HTML('''\n",
    "    <label for=\"range1\">Range1</label><input id=\"range1\" type=\"range\" min=0 max=100 step=0.5><br>\n",
    "    <label for=\"range2\">Range2</label><input id=\"range2\" type=\"range\" min=0 max=5 step = 2>\n",
    "''')"
   ]
  },
  {
   "cell_type": "markdown",
   "id": "0c246c73-99f2-4f35-9d76-2201d6b095ed",
   "metadata": {},
   "source": [
    "# Label\n",
    "\n",
    "It is the text the purpose of which is to sign, some element on the form. The main difference with just the `<text>` tag is that by clicking on the `<label>` you will focus on the element whose id was mentioned in the `for` attribute of the `<label>`.\n",
    "\n",
    "You can try this in the following example, by clicking on `label for input1` the input line will be activated. But if you click on `just random text` nothing happen."
   ]
  },
  {
   "cell_type": "code",
   "execution_count": 8,
   "id": "bcea2c73-0d37-43ae-8b45-f550a1973f5d",
   "metadata": {},
   "outputs": [
    {
     "data": {
      "text/html": [
       "\n",
       "<label for=\"input1\">label for input1</label>\n",
       "<br>\n",
       "<text>just random text</text>\n",
       "<br>\n",
       "<input id=\"input1\">\n"
      ],
      "text/plain": [
       "<IPython.core.display.HTML object>"
      ]
     },
     "execution_count": 8,
     "metadata": {},
     "output_type": "execute_result"
    }
   ],
   "source": [
    "HTML('''\n",
    "<label for=\"input1\">label for input1</label>\n",
    "<br>\n",
    "<text>just random text</text>\n",
    "<br>\n",
    "<input id=\"input1\">\n",
    "''')"
   ]
  }
 ],
 "metadata": {
  "kernelspec": {
   "display_name": "Python 3 (ipykernel)",
   "language": "python",
   "name": "python3"
  },
  "language_info": {
   "codemirror_mode": {
    "name": "ipython",
    "version": 3
   },
   "file_extension": ".py",
   "mimetype": "text/x-python",
   "name": "python",
   "nbconvert_exporter": "python",
   "pygments_lexer": "ipython3",
   "version": "3.10.6"
  }
 },
 "nbformat": 4,
 "nbformat_minor": 5
}
