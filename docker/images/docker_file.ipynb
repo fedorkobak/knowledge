{
 "cells": [
  {
   "cell_type": "markdown",
   "id": "b97ef8b3",
   "metadata": {},
   "source": [
    "# Dockerfile\n",
    "\n",
    "A Dockerfile specifies the properties of images to built."
   ]
  },
  {
   "cell_type": "markdown",
   "id": "c6090a84",
   "metadata": {},
   "source": [
    "## Format\n",
    "\n",
    "Check the [Format](https://docs.docker.com/reference/dockerfile/#format) section of the official documentation for more details."
   ]
  },
  {
   "cell_type": "markdown",
   "id": "818060dd",
   "metadata": {},
   "source": [
    "## Execute with run\n",
    "\n",
    "There are two dockerfile directives that allow to execute something with start of docker container: `CMD` and `ENTRYPOINT`.\n",
    "\n",
    "Check the [Execute with run](docker_file/execute_with_run.ipynb) page for more details.\n",
    "\n",
    "---\n",
    "\n",
    "Here is example of the image that modifies alpine in way to print message `Hello world` during container start."
   ]
  },
  {
   "cell_type": "code",
   "execution_count": null,
   "id": "717ffad0",
   "metadata": {
    "vscode": {
     "languageId": "shellscript"
    }
   },
   "outputs": [
    {
     "name": "stdout",
     "output_type": "stream",
     "text": [
      "'Hello world'\n"
     ]
    }
   ],
   "source": [
    "cat << EOF > dockerfile\n",
    "FROM alpine\n",
    "CMD [\"echo\", \"'Hello world'\"]\n",
    "EOF\n",
    "\n",
    "docker build -t temp_image . &> /dev/null\n",
    "docker run --rm temp_image\n",
    "\n",
    "docker rmi temp_image &> /dev/null\n",
    "rm dockerfile"
   ]
  },
  {
   "cell_type": "markdown",
   "id": "96e95ed6",
   "metadata": {},
   "source": [
    "## Parametrisation\n",
    "\n",
    "With the `ENV` and `ARG` directives, you can define values to be reused during different phases of the build. There are some differences between the two; refer to the [Docker documentation page](https://docs.docker.com/build/building/variables/)."
   ]
  },
  {
   "cell_type": "markdown",
   "id": "b2f4df8c",
   "metadata": {},
   "source": [
    "### Environment variables\n",
    "\n",
    "For creating environment variable you can use `ENV` dockerfile instruction. Feature of this diretive is that defined variable will be included to the environment of the resulting containers."
   ]
  },
  {
   "cell_type": "markdown",
   "id": "e4b0bfbc",
   "metadata": {},
   "source": [
    "---\n",
    "\n",
    "In the following example, a Dockerfile is created using `ENV` to define `TEST_VAR` with the value `\"env_variable\"`, and a container is started based on the resulting image."
   ]
  },
  {
   "cell_type": "code",
   "execution_count": null,
   "id": "098ff507",
   "metadata": {
    "vscode": {
     "languageId": "shellscript"
    }
   },
   "outputs": [],
   "source": [
    "cat << EOF > /tmp/dockerfile\n",
    "FROM alpine\n",
    "ENV TEST_VAR=\"env_variable\"\n",
    "WORKDIR \\$TEST_VAR\n",
    "EOF\n",
    "\n",
    "docker build -t test_image -f /tmp/dockerfile . &> /dev/null\n",
    "docker run -itd --name env_example --rm test_image &> /dev/null"
   ]
  },
  {
   "cell_type": "markdown",
   "id": "844fcbe2",
   "metadata": {},
   "source": [
    "Variable used in `dockerfile` as name for new directory. The following cell checks if the variable was actually created."
   ]
  },
  {
   "cell_type": "code",
   "execution_count": null,
   "id": "acb910d7",
   "metadata": {
    "vscode": {
     "languageId": "shellscript"
    }
   },
   "outputs": [
    {
     "name": "stdout",
     "output_type": "stream",
     "text": [
      "/env_variable\n"
     ]
    }
   ],
   "source": [
    "docker exec env_example pwd"
   ]
  },
  {
   "cell_type": "markdown",
   "id": "925f3482",
   "metadata": {},
   "source": [
    "But you can still use variables from the container. The following cell demonstrates this by showing the `env` of the container in question. "
   ]
  },
  {
   "cell_type": "code",
   "execution_count": null,
   "id": "2d6c0b30",
   "metadata": {
    "vscode": {
     "languageId": "shellscript"
    }
   },
   "outputs": [
    {
     "name": "stdout",
     "output_type": "stream",
     "text": [
      "PATH=/usr/local/sbin:/usr/local/bin:/usr/sbin:/usr/bin:/sbin:/bin\n",
      "HOSTNAME=a2b1510d2ee2\n",
      "TEST_VAR=env_variable\n",
      "HOME=/root\n"
     ]
    }
   ],
   "source": [
    "docker exec env_example env"
   ]
  },
  {
   "cell_type": "markdown",
   "id": "7d1088b8",
   "metadata": {},
   "source": [
    "The following cell clears the environment after experiments."
   ]
  },
  {
   "cell_type": "code",
   "execution_count": null,
   "id": "19693400",
   "metadata": {
    "vscode": {
     "languageId": "shellscript"
    }
   },
   "outputs": [],
   "source": [
    "docker stop env_example &> /dev/null\n",
    "docker rmi test_image &> /dev/null"
   ]
  },
  {
   "cell_type": "markdown",
   "id": "9c4ff723",
   "metadata": {},
   "source": [
    "### Build arguments\n",
    "\n",
    "Build arguments that can be created with `ARG` directive in nginx, it is a variable that can be used for build command for dockerfile but there is no information about it after build."
   ]
  },
  {
   "cell_type": "markdown",
   "id": "53eb847d",
   "metadata": {},
   "source": [
    "---\n",
    "\n",
    "The following cell builds image and runs container based on it, by properties of gotten container we'll learn properties of the variable defined with `ARG` directive."
   ]
  },
  {
   "cell_type": "code",
   "execution_count": null,
   "id": "6cf3f2ca",
   "metadata": {
    "vscode": {
     "languageId": "shellscript"
    }
   },
   "outputs": [],
   "source": [
    "cat << EOF > /tmp/dockerfile\n",
    "FROM alpine\n",
    "ARG TEST_VAR=\"arg_variable\"\n",
    "WORKDIR \\$TEST_VAR\n",
    "EOF\n",
    "\n",
    "docker build -t test_image -f /tmp/dockerfile . &> /dev/null\n",
    "docker run -itd --name arg_example --rm test_image &> /dev/null"
   ]
  },
  {
   "cell_type": "markdown",
   "id": "2086e1a2",
   "metadata": {},
   "source": [
    "The variable is used as a directory name for the `WORKDIR` directive, as a result the initial folder of the container is the same as the value of the variable."
   ]
  },
  {
   "cell_type": "code",
   "execution_count": null,
   "id": "b4544ddc",
   "metadata": {
    "vscode": {
     "languageId": "shellscript"
    }
   },
   "outputs": [
    {
     "name": "stdout",
     "output_type": "stream",
     "text": [
      "/arg_variable\n"
     ]
    }
   ],
   "source": [
    "docker exec arg_example pwd"
   ]
  },
  {
   "cell_type": "markdown",
   "id": "72c1579e",
   "metadata": {},
   "source": [
    "But there are no such variables in the environment of the resulting container, which is shown by the following cell."
   ]
  },
  {
   "cell_type": "code",
   "execution_count": null,
   "id": "c7829e59",
   "metadata": {
    "vscode": {
     "languageId": "shellscript"
    }
   },
   "outputs": [
    {
     "name": "stdout",
     "output_type": "stream",
     "text": [
      "PATH=/usr/local/sbin:/usr/local/bin:/usr/sbin:/usr/bin:/sbin:/bin\n",
      "HOSTNAME=2123ad7acb59\n",
      "HOME=/root\n"
     ]
    }
   ],
   "source": [
    "docker exec arg_example env"
   ]
  },
  {
   "cell_type": "markdown",
   "id": "7a663e11",
   "metadata": {},
   "source": [
    "Don't forget to clean up the environment."
   ]
  },
  {
   "cell_type": "code",
   "execution_count": null,
   "id": "9034681a",
   "metadata": {
    "vscode": {
     "languageId": "shellscript"
    }
   },
   "outputs": [],
   "source": [
    "docker stop arg_example &> /dev/null\n",
    "docker rmi test_image &> /dev/null"
   ]
  },
  {
   "cell_type": "markdown",
   "id": "46838432",
   "metadata": {},
   "source": [
    "#### Specify in build\n",
    "\n",
    "You can specify the argument value during the build with the `--build-arg <arg name>=<value>` argument of to the `docker build`."
   ]
  },
  {
   "cell_type": "markdown",
   "id": "8e9cfe85",
   "metadata": {},
   "source": [
    "---\n",
    "\n",
    "The following example builds a `dockerfile` which working directory depends on the `TEST_VAR` argument, and builds the corresponding image with `--build-args TEST_VAR=name_for_folder`."
   ]
  },
  {
   "cell_type": "code",
   "execution_count": null,
   "id": "eacd2754",
   "metadata": {
    "vscode": {
     "languageId": "shellscript"
    }
   },
   "outputs": [],
   "source": [
    "cat << EOF > /tmp/dockerfile\n",
    "FROM alpine\n",
    "ARG TEST_VAR\n",
    "WORKDIR \\$TEST_VAR\n",
    "EOF\n",
    "\n",
    "docker build --build-arg TEST_VAR=name_for_folder -t test_image -f /tmp/dockerfile . &> /dev/null"
   ]
  },
  {
   "cell_type": "markdown",
   "id": "d80ddc84",
   "metadata": {},
   "source": [
    "The following cell shows the `WORKDIR` of the resulting image corresponding to the value of the `TEST_VAR`."
   ]
  },
  {
   "cell_type": "code",
   "execution_count": null,
   "id": "7976fbfe",
   "metadata": {
    "vscode": {
     "languageId": "shellscript"
    }
   },
   "outputs": [
    {
     "name": "stdout",
     "output_type": "stream",
     "text": [
      "/name_for_folder\n"
     ]
    }
   ],
   "source": [
    "docker run --rm test_image pwd"
   ]
  },
  {
   "cell_type": "markdown",
   "id": "cae42a1f",
   "metadata": {},
   "source": [
    "Cleaning the environment."
   ]
  },
  {
   "cell_type": "code",
   "execution_count": null,
   "id": "d03312d4",
   "metadata": {
    "vscode": {
     "languageId": "shellscript"
    }
   },
   "outputs": [],
   "source": [
    "docker rmi test_image &> /dev/null"
   ]
  }
 ],
 "metadata": {
  "language_info": {
   "name": "python"
  }
 },
 "nbformat": 4,
 "nbformat_minor": 5
}
