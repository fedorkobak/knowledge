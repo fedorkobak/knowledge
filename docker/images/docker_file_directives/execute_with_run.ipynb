{
 "cells": [
  {
   "cell_type": "markdown",
   "metadata": {},
   "source": [
    "# Execute with start\n",
    "\n",
    "You can specify in the dockerfile what the container should do when it runs. There are two dockerfile directives that allow this: `ENTRYPOINT` and `CMD`."
   ]
  },
  {
   "cell_type": "markdown",
   "metadata": {
    "vscode": {
     "languageId": "plaintext"
    }
   },
   "source": [
    "## Entrypoint vs CMD\n",
    "\n",
    "In a Dockerfile, `ENTRYPOINT` and `CMD` are both used to specify the command that should be run when a container starts. However, they serve different purposes and have different behaviors.\n",
    "\n",
    "**`CMD`**\n",
    "\n",
    "- **Purpose**: To provide defaults for an executing container.\n",
    "- **Overriding**: The command defined with `CMD` can be overridden by specifying a different command at the end of the `docker run` command.\n",
    "\n",
    "**`ENTRYPOINT`**\n",
    "\n",
    "- **Purpose**: To define a command that will always run when the container starts.\n",
    "- **Overriding**: The command defined with `ENTRYPOINT` is not easily overridden. You can still provide arguments to the `ENTRYPOINT` via the `docker run` command, but the specified command itself remains the same."
   ]
  },
  {
   "cell_type": "markdown",
   "metadata": {},
   "source": [
    "---\n",
    "\n",
    "For example consider dockerfile that declares `ENTRY POINT echo`. And we'll run containers based on those dockerfile with `echo 10` command. "
   ]
  },
  {
   "cell_type": "code",
   "execution_count": 10,
   "metadata": {
    "vscode": {
     "languageId": "shellscript"
    }
   },
   "outputs": [
    {
     "name": "stdout",
     "output_type": "stream",
     "text": [
      "echo 10\n"
     ]
    }
   ],
   "source": [
    "cat << EOF > dockerfile\n",
    "FROM alpine\n",
    "ENTRYPOINT [\"echo\"]\n",
    "EOF\n",
    "\n",
    "docker build -t entr_vs_cmd . &> /dev/null\n",
    "docker run --rm entr_vs_cmd echo 10\n",
    "docker rmi entr_vs_cmd &> /dev/null"
   ]
  },
  {
   "cell_type": "markdown",
   "metadata": {},
   "source": [
    "As a result, we got the output `echo 10`. To understand what happened, let's look closer: `echo` was specified in the `ENTRYPOINT`, and the command `echo 10` provided in `docker run` was simply appended to it. SO finally we got command `echo \"echo 10\"` executed."
   ]
  },
  {
   "cell_type": "markdown",
   "metadata": {},
   "source": [
    "Almost same example just using `CMD` instead of `ENTRYPOINT`."
   ]
  },
  {
   "cell_type": "code",
   "execution_count": 11,
   "metadata": {
    "vscode": {
     "languageId": "shellscript"
    }
   },
   "outputs": [
    {
     "name": "stdout",
     "output_type": "stream",
     "text": [
      "10\n"
     ]
    }
   ],
   "source": [
    "cat << EOF > dockerfile\n",
    "FROM alpine\n",
    "CMD [\"echo\"]\n",
    "EOF\n",
    "\n",
    "docker build -t entr_vs_cmd . &> /dev/null\n",
    "docker run --rm entr_vs_cmd echo 10\n",
    "docker rmi entr_vs_cmd &> /dev/null"
   ]
  },
  {
   "cell_type": "markdown",
   "metadata": {},
   "source": [
    "Just 10 as ouput. Command `echo` was just replaced by command specified during `docker run`."
   ]
  },
  {
   "cell_type": "markdown",
   "metadata": {},
   "source": [
    "Cleaning artefacts from the experiment."
   ]
  },
  {
   "cell_type": "code",
   "execution_count": 12,
   "metadata": {
    "vscode": {
     "languageId": "shellscript"
    }
   },
   "outputs": [],
   "source": [
    "rm dockerfile"
   ]
  },
  {
   "cell_type": "markdown",
   "metadata": {},
   "source": [
    "## `ENTRYPOINT` and `CMD`\n",
    "\n",
    "By combining `ENTRYPOINT` and `CMD` in a single Dockerfile, you can achieve the following configuration: use `ENTRYPOINT` to specify the fixed part of the command and `CMD` for the part that can be changed."
   ]
  },
  {
   "cell_type": "markdown",
   "metadata": {},
   "source": [
    "---\n",
    "\n",
    "The following example demonstrates a Dockerfile that creates an image with a Python container. By using `ENTRYPOINT [\"python3\", \"-c\"]`, the container is set up to execute the Python interpreter. The `CMD [\"print(\\\"I'm a Python interpreter\\\")\"]` specifies the default command to run, which in this case, executes `python3 -c \"print(\\\"I'm a Python interpreter\\\")\"` when the container starts. The part within `CMD` can be replaced with any other command as needed.\n"
   ]
  },
  {
   "cell_type": "code",
   "execution_count": 2,
   "metadata": {
    "vscode": {
     "languageId": "shellscript"
    }
   },
   "outputs": [
    {
     "name": "stdout",
     "output_type": "stream",
     "text": [
      "I'm a python interpreter\n",
      "1110\n"
     ]
    }
   ],
   "source": [
    "cat << EOF > dockerfile\n",
    "FROM python:3.10-alpine\n",
    "ENTRYPOINT [\"python3\", \"-c\"]\n",
    "CMD [\"print(\\\"I'm a python interpreter\\\")\"]\n",
    "EOF\n",
    "\n",
    "docker build -t test_image . &> /dev/null\n",
    "\n",
    "docker run --rm test_image\n",
    "docker run --rm test_image \"print(666+444)\"\n",
    "\n",
    "docker rmi test_image &> /dev/null\n",
    "rm dockerfile &> /dev/null"
   ]
  },
  {
   "cell_type": "markdown",
   "metadata": {},
   "source": [
    "So we got output for the default case and for the python command `print(666+444)`."
   ]
  },
  {
   "cell_type": "markdown",
   "metadata": {},
   "source": [
    "## Several `CMD`/`ENTRYPOINT`\n",
    "\n",
    "If there are multiple `CMD` or `ENTRYPOINT` directives in the docker file, only the last one will be used."
   ]
  },
  {
   "cell_type": "markdown",
   "metadata": {},
   "source": [
    "---\n",
    "\n",
    "The following example shows a `dockerfile` that contains many `CMD` and `ENTRYPOINT` directives, and prints counting messages. Containers run from this dockerfile will only print options with high counts - it's a signal that there are only last options where used."
   ]
  },
  {
   "cell_type": "code",
   "execution_count": 38,
   "metadata": {
    "vscode": {
     "languageId": "shellscript"
    }
   },
   "outputs": [
    {
     "name": "stdout",
     "output_type": "stream",
     "text": [
      "entr 8 cmd 9\n"
     ]
    }
   ],
   "source": [
    "cat << EOF > dockerfile\n",
    "FROM alpine\n",
    "\n",
    "ENTRYPOINT [\"echo\", \"entr 0\"]\n",
    "ENTRYPOINT [\"echo\", \"entr 1\"]\n",
    "CMD [\"cmd 2\"]\n",
    "ENTRYPOINT [\"echo\", \"entr 3\"]\n",
    "ENTRYPOINT [\"echo\", \"entr 4\"]\n",
    "CMD [\"cmd 5\"]\n",
    "ENTRYPOINT [\"echo\", \"entr 6\"]\n",
    "CMD [\"cmd 7\"]\n",
    "ENTRYPOINT [\"echo\", \"entr 8\"]\n",
    "CMD [\"cmd 9\"]\n",
    "EOF\n",
    "\n",
    "docker build -t test_image . &> /dev/null\n",
    "docker run --rm test_image\n",
    "\n",
    "docker rmi test_image &> /dev/null\n",
    "rm dockerfile"
   ]
  }
 ],
 "metadata": {
  "kernelspec": {
   "display_name": "Bash",
   "language": "bash",
   "name": "bash"
  },
  "language_info": {
   "codemirror_mode": "shell",
   "file_extension": ".sh",
   "mimetype": "text/x-sh",
   "name": "bash"
  }
 },
 "nbformat": 4,
 "nbformat_minor": 2
}
