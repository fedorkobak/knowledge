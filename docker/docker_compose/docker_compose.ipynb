{
 "cells": [
  {
   "attachments": {},
   "cell_type": "markdown",
   "metadata": {},
   "source": [
    "**Разбор инстумента docker-compose**\n",
    "\n",
    "Позиционируется как инстумент, который следующая ступень абстрации над docker - инстумент который позволяет организовать взаимодейсвие контейнеров между собой."
   ]
  },
  {
   "attachments": {},
   "cell_type": "markdown",
   "metadata": {},
   "source": [
    "# YAML\n",
    "\n",
    "Язык разметки, с помощью которого задается поведение docker-compose.\n",
    "\n",
    "YAML позволяет описывать структуры данных которые состоят из списков и словарей:\n",
    "- каждый элемент списка начинается с символа `-`;\n",
    "- каждый новый ключ в словаре задатся так `<ключ>:`;\n",
    "- шаблоны (якоря) - возможность создать ссылку на некоторую сущность и потом использовать её в произвольном месте структуры;\n",
    "- вложенность структуры формируется отступами.\n",
    "\n",
    "Далее на примерах станет понятнее."
   ]
  },
  {
   "attachments": {},
   "cell_type": "markdown",
   "metadata": {},
   "source": [
    "В python существует библиотека yaml, которая позволяет пребразовывать yaml разметку в соответсвующие структуры данных python."
   ]
  },
  {
   "cell_type": "code",
   "execution_count": 1,
   "metadata": {},
   "outputs": [],
   "source": [
    "import yaml"
   ]
  },
  {
   "attachments": {},
   "cell_type": "markdown",
   "metadata": {},
   "source": [
    "В следующем примере создается ключ словарь с ключами `names`, `ages` под которыми скрываются соответсвующие списки."
   ]
  },
  {
   "cell_type": "code",
   "execution_count": 2,
   "metadata": {},
   "outputs": [
    {
     "data": {
      "text/plain": [
       "{'names': ['peter', 'olga'], 'ages': [22, 18]}"
      ]
     },
     "execution_count": 2,
     "metadata": {},
     "output_type": "execute_result"
    }
   ],
   "source": [
    "yamls_str = \\\n",
    "\"\"\"\n",
    "names:\n",
    "    - peter\n",
    "    - olga\n",
    "ages:\n",
    "    - 22\n",
    "    - 18\n",
    "\"\"\"\n",
    "\n",
    "yaml.full_load(yamls_str)"
   ]
  },
  {
   "attachments": {},
   "cell_type": "markdown",
   "metadata": {},
   "source": [
    "Заметим, что между `<ключ>:` и `<значение>` обязательно должен быть пробел. Вот, для сравнения, правильно созданный словарь под ключом `postgres` и ошибочно созданный под ключом `clickhouse`."
   ]
  },
  {
   "cell_type": "code",
   "execution_count": 3,
   "metadata": {},
   "outputs": [
    {
     "data": {
      "text/plain": [
       "{'postgres': {'user': 'postgres_app_user',\n",
       "  'password': 'postgres_app_password',\n",
       "  'host': 'postgres_host',\n",
       "  'port': 5432},\n",
       " 'clickhouse': 'host:clickhouse_host user:clickhouse_app_user db:clickhouse_app_db password:clickhouse_app_password'}"
      ]
     },
     "execution_count": 3,
     "metadata": {},
     "output_type": "execute_result"
    }
   ],
   "source": [
    "yamls_str = \\\n",
    "\"\"\"\n",
    "postgres:\n",
    "    user: postgres_app_user\n",
    "    password: postgres_app_password\n",
    "    host: postgres_host\n",
    "    port: 5432\n",
    "clickhouse:\n",
    "    host:clickhouse_host\n",
    "    user:clickhouse_app_user\n",
    "    db:clickhouse_app_db\n",
    "    password:clickhouse_app_password\n",
    "\"\"\"\n",
    "\n",
    "yaml.full_load(yamls_str)"
   ]
  },
  {
   "attachments": {},
   "cell_type": "markdown",
   "metadata": {},
   "source": [
    "Инетестно то, что для того, что по умолчанию yaml игнорирует все переносы на новую строку. Для того, чтобы справиться с этим исполюзуется:\n",
    "- `|` после имени ключа заставил yaml \"видеть\" перевод строки;\n",
    "- `>` после имени ключа воткнет перенос строки в конец занчения.\n",
    "\n",
    "Так в примене ниже `test1` и `test2` с точки срения программы читающей yaml не отличаются. А вот `test3` и `test4` получают в некоторых местах служебный `\\n`."
   ]
  },
  {
   "cell_type": "code",
   "execution_count": 4,
   "metadata": {},
   "outputs": [
    {
     "data": {
      "text/plain": [
       "{'test1': 'peter olga',\n",
       " 'test2': 'peter olga',\n",
       " 'test3': 'peter\\nolga\\n',\n",
       " 'test4': 'peter olga\\n'}"
      ]
     },
     "execution_count": 4,
     "metadata": {},
     "output_type": "execute_result"
    }
   ],
   "source": [
    "yamls_str = \\\n",
    "\"\"\"\n",
    "test1: peter olga\n",
    "test2:\n",
    "    peter\n",
    "    olga\n",
    "test3: |\n",
    "    peter\n",
    "    olga\n",
    "test4: >\n",
    "    peter olga\n",
    "\"\"\"\n",
    "\n",
    "yaml.full_load(yamls_str)"
   ]
  },
  {
   "attachments": {},
   "cell_type": "markdown",
   "metadata": {},
   "source": [
    "Ну и для примера покажем как сформировать список словарей:"
   ]
  },
  {
   "cell_type": "code",
   "execution_count": 5,
   "metadata": {},
   "outputs": [
    {
     "data": {
      "text/plain": [
       "[{'name': 'peter', 'age': 22}, {'name': 'olga', 'age': 18}]"
      ]
     },
     "execution_count": 5,
     "metadata": {},
     "output_type": "execute_result"
    }
   ],
   "source": [
    "yamls_str = \\\n",
    "\"\"\"\n",
    "- name: peter\n",
    "  age: 22\n",
    "- name: olga\n",
    "  age: 18\n",
    "\"\"\"\n",
    "\n",
    "yaml.full_load(yamls_str)"
   ]
  },
  {
   "attachments": {},
   "cell_type": "markdown",
   "metadata": {},
   "source": [
    "Якоря создаются следующим образом:\n",
    "- В сущности на которую ссылаются задают `&<обозначение ссылки>`;\n",
    "- Когда эту сущность надо вставить куда-то используется синтаксис `<<: *<обозначение ссылки>`.\n",
    "\n",
    "В примере далее были описаны свойства junior-a некоторой компании, а затем созданы две сушности которым были переданы свойсва этих junior-ов. "
   ]
  },
  {
   "cell_type": "code",
   "execution_count": 6,
   "metadata": {},
   "outputs": [
    {
     "data": {
      "text/plain": [
       "{'junior': {'position': 'junior', 'salary': 55000},\n",
       " 'Peter': {'position': 'junior', 'salary': 55000},\n",
       " 'Olga': {'position': 'junior', 'salary': 55000}}"
      ]
     },
     "execution_count": 6,
     "metadata": {},
     "output_type": "execute_result"
    }
   ],
   "source": [
    "yamls_str = \\\n",
    "\"\"\"\n",
    "junior:\n",
    "    &junior\n",
    "    position: junior\n",
    "    salary: 55000\n",
    "\n",
    "Peter:\n",
    "    <<: *junior\n",
    "Olga:\n",
    "    <<: *junior\n",
    "\"\"\"\n",
    "\n",
    "yaml.full_load(yamls_str)"
   ]
  },
  {
   "attachments": {},
   "cell_type": "markdown",
   "metadata": {},
   "source": [
    "# Команды `docker-compose`\n",
    "\n",
    "Тут будут рассмотрены самые полезные случаи для работы с коммандой `docker-compose`. Для примера используется `docker-compose.yaml` приложенный в той-же папке, что и этот notebook."
   ]
  },
  {
   "attachments": {},
   "cell_type": "markdown",
   "metadata": {},
   "source": [
    "### `up` - поднять приложение\n",
    "\n",
    "Команда `up` используется для того, чтобы поднять приложение спользующее `docker-compose`. Выполняется обязательно в той папке в которой лежит `yaml` описывающий приложение.\n",
    "\n",
    "Опции:\n",
    "\n",
    "- `d` - запустит в фоновом режиме - терминал останеться под управлением пользователя.\n",
    "\n",
    "Так, следующий пример показывает, что до вызова `docker-comporse up` в docker нет не контейнеров ни вольюмов, а после, все это появляется."
   ]
  },
  {
   "cell_type": "code",
   "execution_count": 18,
   "metadata": {},
   "outputs": [
    {
     "name": "stdout",
     "output_type": "stream",
     "text": [
      "=======запущенные контейнеры=========\n",
      "CONTAINER ID   IMAGE     COMMAND   CREATED   STATUS    PORTS     NAMES\n",
      "===========доступные volume==========\n",
      "DRIVER    VOLUME NAME\n",
      "==========запускаю приложение===========\n",
      "=======запущенные контейнеры=========\n",
      "CONTAINER ID   IMAGE      COMMAND                  CREATED                  STATUS                  PORTS      NAMES\n",
      "c4892f1c0ffa   postgres   \"docker-entrypoint.s…\"   Less than a second ago   Up Less than a second   5432/tcp   docker_compose-db-1\n",
      "===========доступные volume==========\n",
      "DRIVER    VOLUME NAME\n",
      "local     docker_compose_ex_vol\n"
     ]
    }
   ],
   "source": [
    "%%bash\n",
    "echo '=======запущенные контейнеры========='\n",
    "docker ps\n",
    "echo '===========доступные volume=========='\n",
    "docker volume ls\n",
    "\n",
    "echo '==========запускаю приложение==========='\n",
    "docker-compose up -d &> /dev/null\n",
    "\n",
    "echo '=======запущенные контейнеры========='\n",
    "docker ps\n",
    "echo '===========доступные volume=========='\n",
    "docker volume ls"
   ]
  },
  {
   "attachments": {},
   "cell_type": "markdown",
   "metadata": {},
   "source": [
    "### `down` - положить приложение\n",
    "\n",
    "Опять же требуется вызывать из папки в которой лежит `yaml` описывающий приложение.\n",
    "\n",
    "Опции:\n",
    "- `v` - удалит все volume созданные при поднятии этого приложения."
   ]
  },
  {
   "cell_type": "code",
   "execution_count": 19,
   "metadata": {},
   "outputs": [
    {
     "name": "stdout",
     "output_type": "stream",
     "text": [
      "============без опции -v============\n",
      "DRIVER    VOLUME NAME\n",
      "local     docker_compose_ex_vol\n",
      "============опция -v============\n",
      "DRIVER    VOLUME NAME\n"
     ]
    }
   ],
   "source": [
    "%%bash\n",
    "docker-compose up -d &> /dev/null\n",
    "docker-compose down &> /dev/null\n",
    "\n",
    "echo '============без опции -v============'\n",
    "docker volume ls\n",
    "docker volume rm $(docker volume ls -q) > /dev/null 2>&1\n",
    "\n",
    "\n",
    "docker-compose up -d &> /dev/null\n",
    "docker-compose down -v &> /dev/null\n",
    "echo '============опция -v============'\n",
    "docker volume ls"
   ]
  },
  {
   "attachments": {},
   "cell_type": "markdown",
   "metadata": {},
   "source": [
    "# Создание `docker-compose` файла\n",
    "\n",
    "Здается с помощью описанного выше языка `yaml`. Далее будем обсуждать ключи которые могут быть использованы и для чего они могут быть использованы."
   ]
  },
  {
   "attachments": {},
   "cell_type": "markdown",
   "metadata": {},
   "source": [
    "### Ключ `volumes`\n",
    "\n",
    "Задает volumes.\n",
    "\n",
    "Каждый вложенный ключ создаст volume.\n",
    "\n",
    "```\n",
    "volumes:\n",
    "    <volume1>:\n",
    "        name: <volume name>\n",
    "    <volume2>:\n",
    "    ...\n",
    "```\n",
    "\n",
    "У каждого volume можно задать поле `name` (а можно и не задавать) которое укажет имя volume при поднятии приложения. Так, в примере ниже, из папки volume_example создается volume с именем `example_name`."
   ]
  },
  {
   "cell_type": "code",
   "execution_count": 9,
   "metadata": {},
   "outputs": [
    {
     "name": "stdout",
     "output_type": "stream",
     "text": [
      "=====список volume=====\n",
      "DRIVER    VOLUME NAME\n",
      "local     example_name\n"
     ]
    }
   ],
   "source": [
    "%%bash\n",
    "cd volume_example\n",
    "docker-compose up -d &> /dev/null\n",
    "\n",
    "echo \"=====список volume=====\"\n",
    "docker volume ls\n",
    "\n",
    "docker-compose down -v &> /dev/null"
   ]
  },
  {
   "attachments": {},
   "cell_type": "markdown",
   "metadata": {},
   "source": [
    "### Ключ `networks`\n",
    "\n",
    "Задает сети импользуемые в приложении.\n",
    "\n",
    "Каждый вложенный ключ создаст сеть.\n",
    "\n",
    "```\n",
    "networks:\n",
    "    <net1>:\n",
    "        name: <network name>\n",
    "    <net2>:\n",
    "    ...\n",
    "```\n",
    "\n",
    "Ключ `name` задает имя сети и не является обязательным. На в папке `network-example` лежит `yaml` файл, который описывает сеть с именем `example_name`."
   ]
  },
  {
   "cell_type": "code",
   "execution_count": 10,
   "metadata": {},
   "outputs": [
    {
     "name": "stdout",
     "output_type": "stream",
     "text": [
      "NETWORK ID     NAME           DRIVER    SCOPE\n",
      "4f9cd237bcd9   bridge         bridge    local\n",
      "927b88d01c18   example_name   bridge    local\n",
      "f8b2503d0640   host           host      local\n",
      "b1d7e6bda275   none           null      local\n"
     ]
    }
   ],
   "source": [
    "%%bash\n",
    "cd network_example\n",
    "docker-compose up -d &> /dev/null\n",
    "docker network ls\n",
    "docker-compose down -v &> /dev/null"
   ]
  },
  {
   "attachments": {},
   "cell_type": "markdown",
   "metadata": {},
   "source": [
    "# Детали"
   ]
  },
  {
   "attachments": {},
   "cell_type": "markdown",
   "metadata": {},
   "source": [
    "### Сеть по умолчанию\n",
    "\n",
    "Любое приложение запущенное через `docker-compose`, в случае отсудсвия указанных сетей, создает себе сеть с названием по типу `<имя папки>_default`. Так в примере далее показано, что в списке, кроме базовых сетей, появляется `docker_compose_default`."
   ]
  },
  {
   "cell_type": "code",
   "execution_count": 11,
   "metadata": {},
   "outputs": [
    {
     "name": "stdout",
     "output_type": "stream",
     "text": [
      "=====созданные сети=====\n",
      "NETWORK ID     NAME                     DRIVER    SCOPE\n",
      "4f9cd237bcd9   bridge                   bridge    local\n",
      "769d0d18a42e   docker_compose_default   bridge    local\n",
      "f8b2503d0640   host                     host      local\n",
      "b1d7e6bda275   none                     null      local\n"
     ]
    }
   ],
   "source": [
    "%%bash\n",
    "docker-compose up -d &> /dev/null\n",
    "echo \"=====созданные сети=====\"\n",
    "docker network ls\n",
    "docker-compose down -v &> /dev/null"
   ]
  },
  {
   "attachments": {},
   "cell_type": "markdown",
   "metadata": {},
   "source": [
    "### Название по умолчанию\n",
    "\n",
    "volumes/сети, по умолчанию, получают некоторые названия по типу `<название папки>_<название ключа>`. Так, в следующем примере, в папке `default_namimg` указаны volume `ex_vol` и сеть `ex_net`, но для них не указано ключа `name`."
   ]
  },
  {
   "cell_type": "code",
   "execution_count": 14,
   "metadata": {},
   "outputs": [
    {
     "name": "stdout",
     "output_type": "stream",
     "text": [
      "=====volumes=====\n",
      "DRIVER    VOLUME NAME\n",
      "local     default_naming_ex_vol\n",
      "=====networks=====\n",
      "NETWORK ID     NAME                    DRIVER    SCOPE\n",
      "4f9cd237bcd9   bridge                  bridge    local\n",
      "09f0583566bf   default_naming_ex_net   bridge    local\n",
      "f8b2503d0640   host                    host      local\n",
      "b1d7e6bda275   none                    null      local\n"
     ]
    }
   ],
   "source": [
    "%%bash\n",
    "cd default_naming\n",
    "docker-compose up -d &> /dev/null\n",
    "echo '=====volumes====='\n",
    "docker volume ls\n",
    "echo '=====networks====='\n",
    "docker network ls\n",
    "docker-compose down -v &> /dev/null"
   ]
  },
  {
   "attachments": {},
   "cell_type": "markdown",
   "metadata": {},
   "source": [
    "### volume/сеть не создаются?\n",
    "\n",
    "Убедитесь, что они указаны под ключами volumes/networks в каком-либо из контейнеров. В противном случае они не создаются. \n",
    "\n",
    "В следующем примере из папки `vol_net_missed` разворачивается приложение. И хотя в соответсвующем `docker-compose.yaml` заданы volume `ex_vol` и сеть `ex_net`, при запуске приложения создается только безимянный volume (видимо создаваемый postgres по умолчанию) и сеть которая всегда создается `docker-compose` по умолчанию `vol_net_missed_default`.\n",
    "\n",
    "Примеры удачного создания сетей/volumes представлены выше."
   ]
  },
  {
   "cell_type": "code",
   "execution_count": 16,
   "metadata": {},
   "outputs": [
    {
     "name": "stdout",
     "output_type": "stream",
     "text": [
      "====volumes=====\n",
      "DRIVER    VOLUME NAME\n",
      "local     73c99e734447c8ef67d8996c5c1cc35c25395a8802944549695fcceb3a0d40ee\n",
      "=====networks=====\n",
      "NETWORK ID     NAME                     DRIVER    SCOPE\n",
      "4f9cd237bcd9   bridge                   bridge    local\n",
      "f8b2503d0640   host                     host      local\n",
      "b1d7e6bda275   none                     null      local\n",
      "83605ce48599   vol_net_missed_default   bridge    local\n"
     ]
    }
   ],
   "source": [
    "%%bash\n",
    "cd vol_net_missed\n",
    "docker-compose up -d &> /dev/null\n",
    "echo '====volumes====='\n",
    "docker volume ls\n",
    "echo '=====networks====='\n",
    "docker network ls\n",
    "docker-compose down -v &> /dev/null"
   ]
  }
 ],
 "metadata": {
  "kernelspec": {
   "display_name": "Python 3",
   "language": "python",
   "name": "python3"
  },
  "language_info": {
   "codemirror_mode": {
    "name": "ipython",
    "version": 3
   },
   "file_extension": ".py",
   "mimetype": "text/x-python",
   "name": "python",
   "nbconvert_exporter": "python",
   "pygments_lexer": "ipython3",
   "version": "3.10.6"
  },
  "orig_nbformat": 4
 },
 "nbformat": 4,
 "nbformat_minor": 2
}
