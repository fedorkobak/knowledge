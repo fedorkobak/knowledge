{
 "cells": [
  {
   "attachments": {},
   "cell_type": "markdown",
   "metadata": {},
   "source": [
    "**Разбор инстумента docker-compose**\n",
    "\n",
    "Позиционируется как инстумент, который следующая ступень абстрации над docker - инстумент который позволяет организовать взаимодейсвие контейнеров между собой."
   ]
  },
  {
   "attachments": {},
   "cell_type": "markdown",
   "metadata": {},
   "source": [
    "# YAML\n",
    "\n",
    "Язык разметки, с помощью которого задается поведение docker-compose.\n",
    "\n",
    "YAML позволяет описывать структуры данных которые состоят из списков и словарей:\n",
    "- каждый элемент списка начинается с символа `-`;\n",
    "- каждый новый ключ в словаре задатся так `<ключ>:`;\n",
    "- шаблоны (якоря) - возможность создать ссылку на некоторую сущность и потом использовать её в произвольном месте структуры;\n",
    "- вложенность структуры формируется отступами.\n",
    "\n",
    "Далее на примерах станет понятнее."
   ]
  },
  {
   "attachments": {},
   "cell_type": "markdown",
   "metadata": {},
   "source": [
    "В python существует библиотека yaml, которая позволяет пребразовывать yaml разметку в соответсвующие структуры данных python."
   ]
  },
  {
   "cell_type": "code",
   "execution_count": 1,
   "metadata": {},
   "outputs": [],
   "source": [
    "import yaml"
   ]
  },
  {
   "attachments": {},
   "cell_type": "markdown",
   "metadata": {},
   "source": [
    "В следующем примере создается ключ словарь с ключами `names`, `ages` под которыми скрываются соответсвующие списки."
   ]
  },
  {
   "cell_type": "code",
   "execution_count": 2,
   "metadata": {},
   "outputs": [
    {
     "data": {
      "text/plain": [
       "{'names': ['peter', 'olga'], 'ages': [22, 18]}"
      ]
     },
     "execution_count": 2,
     "metadata": {},
     "output_type": "execute_result"
    }
   ],
   "source": [
    "yamls_str = \\\n",
    "\"\"\"\n",
    "names:\n",
    "    - peter\n",
    "    - olga\n",
    "ages:\n",
    "    - 22\n",
    "    - 18\n",
    "\"\"\"\n",
    "\n",
    "yaml.full_load(yamls_str)"
   ]
  },
  {
   "attachments": {},
   "cell_type": "markdown",
   "metadata": {},
   "source": [
    "Заметим, что между `<ключ>:` и `<значение>` обязательно должен быть пробел. Вот, для сравнения, правильно созданный словарь под ключом `postgres` и ошибочно созданный под ключом `clickhouse`."
   ]
  },
  {
   "cell_type": "code",
   "execution_count": 3,
   "metadata": {},
   "outputs": [
    {
     "data": {
      "text/plain": [
       "{'postgres': {'user': 'postgres_app_user',\n",
       "  'password': 'postgres_app_password',\n",
       "  'host': 'postgres_host',\n",
       "  'port': 5432},\n",
       " 'clickhouse': 'host:clickhouse_host user:clickhouse_app_user db:clickhouse_app_db password:clickhouse_app_password'}"
      ]
     },
     "execution_count": 3,
     "metadata": {},
     "output_type": "execute_result"
    }
   ],
   "source": [
    "yamls_str = \\\n",
    "\"\"\"\n",
    "postgres:\n",
    "    user: postgres_app_user\n",
    "    password: postgres_app_password\n",
    "    host: postgres_host\n",
    "    port: 5432\n",
    "clickhouse:\n",
    "    host:clickhouse_host\n",
    "    user:clickhouse_app_user\n",
    "    db:clickhouse_app_db\n",
    "    password:clickhouse_app_password\n",
    "\"\"\"\n",
    "\n",
    "yaml.full_load(yamls_str)"
   ]
  },
  {
   "attachments": {},
   "cell_type": "markdown",
   "metadata": {},
   "source": [
    "Инетестно то, что для того, что по умолчанию yaml игнорирует все переносы на новую строку. Для того, чтобы справиться с этим исполюзуется:\n",
    "- `|` после имени ключа заставил yaml \"видеть\" перевод строки;\n",
    "- `>` после имени ключа воткнет перенос строки в конец занчения.\n",
    "\n",
    "Так в примене ниже `test1` и `test2` с точки срения программы читающей yaml не отличаются. А вот `test3` и `test4` получают в некоторых местах служебный `\\n`."
   ]
  },
  {
   "cell_type": "code",
   "execution_count": 4,
   "metadata": {},
   "outputs": [
    {
     "data": {
      "text/plain": [
       "{'test1': 'peter olga',\n",
       " 'test2': 'peter olga',\n",
       " 'test3': 'peter\\nolga\\n',\n",
       " 'test4': 'peter olga\\n'}"
      ]
     },
     "execution_count": 4,
     "metadata": {},
     "output_type": "execute_result"
    }
   ],
   "source": [
    "yamls_str = \\\n",
    "\"\"\"\n",
    "test1: peter olga\n",
    "test2:\n",
    "    peter\n",
    "    olga\n",
    "test3: |\n",
    "    peter\n",
    "    olga\n",
    "test4: >\n",
    "    peter olga\n",
    "\"\"\"\n",
    "\n",
    "yaml.full_load(yamls_str)"
   ]
  },
  {
   "attachments": {},
   "cell_type": "markdown",
   "metadata": {},
   "source": [
    "Ну и для примера покажем как сформировать список словарей:"
   ]
  },
  {
   "cell_type": "code",
   "execution_count": 5,
   "metadata": {},
   "outputs": [
    {
     "data": {
      "text/plain": [
       "[{'name': 'peter', 'age': 22}, {'name': 'olga', 'age': 18}]"
      ]
     },
     "execution_count": 5,
     "metadata": {},
     "output_type": "execute_result"
    }
   ],
   "source": [
    "yamls_str = \\\n",
    "\"\"\"\n",
    "- name: peter\n",
    "  age: 22\n",
    "- name: olga\n",
    "  age: 18\n",
    "\"\"\"\n",
    "\n",
    "yaml.full_load(yamls_str)"
   ]
  },
  {
   "attachments": {},
   "cell_type": "markdown",
   "metadata": {},
   "source": [
    "Якоря создаются следующим образом:\n",
    "- В сущности на которую ссылаются задают `&<обозначение ссылки>`;\n",
    "- Когда эту сущность надо вставить куда-то используется синтаксис `<<: *<обозначение ссылки>`.\n",
    "\n",
    "В примере далее были описаны свойства junior-a некоторой компании, а затем созданы две сушности которым были переданы свойсва этих junior-ов. "
   ]
  },
  {
   "cell_type": "code",
   "execution_count": 6,
   "metadata": {},
   "outputs": [
    {
     "data": {
      "text/plain": [
       "{'junior': {'position': 'junior', 'salary': 55000},\n",
       " 'Peter': {'position': 'junior', 'salary': 55000},\n",
       " 'Olga': {'position': 'junior', 'salary': 55000}}"
      ]
     },
     "execution_count": 6,
     "metadata": {},
     "output_type": "execute_result"
    }
   ],
   "source": [
    "yamls_str = \\\n",
    "\"\"\"\n",
    "junior:\n",
    "    &junior\n",
    "    position: junior\n",
    "    salary: 55000\n",
    "\n",
    "Peter:\n",
    "    <<: *junior\n",
    "Olga:\n",
    "    <<: *junior\n",
    "\"\"\"\n",
    "\n",
    "yaml.full_load(yamls_str)"
   ]
  },
  {
   "attachments": {},
   "cell_type": "markdown",
   "metadata": {},
   "source": [
    "# Команды `docker-compose`\n",
    "\n",
    "Тут будут рассмотрены самые полезные случаи для работы с коммандой `docker-compose`. Для примера используется `docker-compose.yaml` приложенный в той-же папке, что и этот notebook."
   ]
  },
  {
   "attachments": {},
   "cell_type": "markdown",
   "metadata": {},
   "source": [
    "### `up` - поднять приложение\n",
    "\n",
    "Команда `up` используется для того, чтобы поднять приложение спользующее `docker-compose`. Выполняется обязательно в той папке в которой лежит `yaml` описывающий приложение.\n",
    "\n",
    "Опции:\n",
    "\n",
    "- `d` - запустит в фоновом режиме - терминал останеться под управлением пользователя.\n",
    "\n",
    "Так, следующий пример показывает, что до вызова `docker-comporse up` в docker нет не контейнеров ни вольюмов, а после, все это появляется."
   ]
  },
  {
   "cell_type": "code",
   "execution_count": 22,
   "metadata": {},
   "outputs": [
    {
     "name": "stdout",
     "output_type": "stream",
     "text": [
      "=======запущенные контейнеры=========\n",
      "CONTAINER ID   IMAGE     COMMAND   CREATED   STATUS    PORTS     NAMES\n",
      "===========доступные volume==========\n",
      "DRIVER    VOLUME NAME\n",
      "==========запускаю приложение===========\n",
      "=======запущенные контейнеры=========\n",
      "CONTAINER ID   IMAGE      COMMAND                  CREATED        STATUS                  PORTS                                   NAMES\n",
      "774fdb645f35   postgres   \"docker-entrypoint.s…\"   1 second ago   Up Less than a second   5432/tcp                                docker_compose-db-1\n",
      "13c0514f5fbb   adminer    \"entrypoint.sh php -…\"   1 second ago   Up Less than a second   0.0.0.0:80->8080/tcp, :::80->8080/tcp   docker_compose-adminer-1\n",
      "===========доступные volume==========\n",
      "DRIVER    VOLUME NAME\n",
      "local     docker_compose_pg_vol\n"
     ]
    }
   ],
   "source": [
    "%%bash\n",
    "echo '=======запущенные контейнеры========='\n",
    "docker ps\n",
    "echo '===========доступные volume=========='\n",
    "docker volume ls\n",
    "\n",
    "echo '==========запускаю приложение==========='\n",
    "docker-compose up -d &> /dev/null\n",
    "\n",
    "echo '=======запущенные контейнеры========='\n",
    "docker ps\n",
    "echo '===========доступные volume=========='\n",
    "docker volume ls"
   ]
  },
  {
   "attachments": {},
   "cell_type": "markdown",
   "metadata": {},
   "source": [
    "### `down` - положить приложение\n",
    "\n",
    "Опять же требуется вызывать из папки в которой лежит `yaml` описывающий приложение.\n",
    "\n",
    "Опции:\n",
    "- `v` - удалит все volume созданные при поднятии этого приложения."
   ]
  },
  {
   "cell_type": "code",
   "execution_count": 21,
   "metadata": {},
   "outputs": [
    {
     "name": "stdout",
     "output_type": "stream",
     "text": [
      "============без опции -v============\n",
      "DRIVER    VOLUME NAME\n",
      "local     docker_compose_pg_vol\n",
      "============опция -v============\n",
      "DRIVER    VOLUME NAME\n"
     ]
    }
   ],
   "source": [
    "%%bash\n",
    "docker-compose up -d &> /dev/null\n",
    "docker-compose down &> /dev/null\n",
    "\n",
    "echo '============без опции -v============'\n",
    "docker volume ls\n",
    "docker volume rm $(docker volume ls -q) > /dev/null 2>&1\n",
    "\n",
    "\n",
    "docker-compose up -d &> /dev/null\n",
    "docker-compose down -v &> /dev/null\n",
    "echo '============опция -v============'\n",
    "docker volume ls"
   ]
  },
  {
   "attachments": {},
   "cell_type": "markdown",
   "metadata": {},
   "source": [
    "# Создание `docker-compose` файла\n",
    "\n",
    "Здается с помощью описанного выше языка `yaml`. Далее будем обсуждать ключи которые могут быть использованы и для чего они могут быть использованы."
   ]
  },
  {
   "attachments": {},
   "cell_type": "markdown",
   "metadata": {},
   "source": [
    "### Ключ `volumes`\n",
    "\n",
    "Задает volumes.\n",
    "\n",
    "Каждый вложенный ключ создаст volume.\n",
    "\n",
    "```\n",
    "volumes:\n",
    "    <volume1>:\n",
    "        name: <volume name>\n",
    "    <volume2>:\n",
    "    ...\n",
    "```\n",
    "\n",
    "У каждого volume можно задать поле `name` (а можно и не задавать) которое укажет имя volume при поднятии контейнера. Интерестно то, что если не задать имя volume то docker-compose сам его сгенерирует, отталкиваясь от названия папки в которой запущен."
   ]
  }
 ],
 "metadata": {
  "kernelspec": {
   "display_name": "Python 3",
   "language": "python",
   "name": "python3"
  },
  "language_info": {
   "codemirror_mode": {
    "name": "ipython",
    "version": 3
   },
   "file_extension": ".py",
   "mimetype": "text/x-python",
   "name": "python",
   "nbconvert_exporter": "python",
   "pygments_lexer": "ipython3",
   "version": "3.10.6"
  },
  "orig_nbformat": 4
 },
 "nbformat": 4,
 "nbformat_minor": 2
}
