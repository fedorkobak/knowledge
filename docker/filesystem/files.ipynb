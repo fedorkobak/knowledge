{
 "cells": [
  {
   "attachments": {},
   "cell_type": "markdown",
   "metadata": {},
   "source": [
    "**Связь docker контейнера и файловой системы хоста**"
   ]
  },
  {
   "attachments": {},
   "cell_type": "markdown",
   "metadata": {},
   "source": [
    "# Команда `cp`\n",
    "\n",
    "Позволяет производить обмен файлами между контейнером и хостом при запущеном контейнере."
   ]
  },
  {
   "attachments": {},
   "cell_type": "markdown",
   "metadata": {},
   "source": [
    "### Хост -> контейнер\n",
    "\n",
    "Синтаксис использования комманды следующий:\n",
    "\n",
    "`docker cp <путь на хосте> <контейнер в который производится копирование>:<путь в контейнере>`\n",
    "\n",
    "Далее пример, как я в работающий контейнер закину файл \"my_datafile\"."
   ]
  },
  {
   "cell_type": "code",
   "execution_count": null,
   "metadata": {},
   "outputs": [
    {
     "name": "stdout",
     "output_type": "stream",
     "text": [
      "0a4764eb41d1a3675983044244de0a3d4f891309f3c436413db479839b21abb5\n",
      "\n",
      "experimental.py\n",
      "\n",
      "experimental.py\n",
      "my_datafile.csv\n",
      "c1\n"
     ]
    }
   ],
   "source": [
    "%%bash\n",
    "# поднимаю контейнер в фоновом режиме\n",
    "docker run -itd --rm --name c1 file_example\n",
    "echo \"\"\n",
    "# показываю что в конейнере нету файла\n",
    "docker exec c1 ls\n",
    "echo \"\"\n",
    "# копирую файл через cp\n",
    "docker cp my_datafile.csv c1:experimental/my_datafile.csv\n",
    "# сомтрю в папку теперь\n",
    "docker exec c1 ls\n",
    "docker stop c1"
   ]
  },
  {
   "attachments": {},
   "cell_type": "markdown",
   "metadata": {},
   "source": [
    "### Контейнер -> хост\n",
    "\n",
    "Копировать можно и в обратную сторону, при этом используется синтаксиc:\n",
    "\n",
    "`docker cp <контейнер>:<путь к файлу в контейнере> <путь к файлу на компьютере>`\n",
    "\n",
    "Так в следующем примере я из образа ubuntu достаю файл \"/lib/os-release\""
   ]
  },
  {
   "cell_type": "code",
   "execution_count": 4,
   "metadata": {},
   "outputs": [
    {
     "name": "stdout",
     "output_type": "stream",
     "text": [
      "71f2be993a9c5435b509dc8b847e8712d8e12ea52963bdb99e604473b44fb7a0\n",
      "ubuntu\n",
      "PRETTY_NAME=\"Ubuntu 22.04.1 LTS\"\n",
      "NAME=\"Ubuntu\"\n",
      "VERSION_ID=\"22.04\"\n",
      "VERSION=\"22.04.1 LTS (Jammy Jellyfish)\"\n",
      "VERSION_CODENAME=jammy\n",
      "ID=ubuntu\n",
      "ID_LIKE=debian\n",
      "HOME_URL=\"https://www.ubuntu.com/\"\n",
      "SUPPORT_URL=\"https://help.ubuntu.com/\"\n",
      "BUG_REPORT_URL=\"https://bugs.launchpad.net/ubuntu/\"\n",
      "PRIVACY_POLICY_URL=\"https://www.ubuntu.com/legal/terms-and-policies/privacy-policy\"\n",
      "UBUNTU_CODENAME=jammy\n"
     ]
    }
   ],
   "source": [
    "%%bash\n",
    "docker run -itd --rm --name ubuntu ubuntu\n",
    "docker cp ubuntu:/lib/os-release my-ubuntu-os\n",
    "docker stop ubuntu\n",
    "cat my-ubuntu-os"
   ]
  },
  {
   "attachments": {},
   "cell_type": "markdown",
   "metadata": {},
   "source": [
    "# Использование папки на хосте\n",
    "\n",
    "Для того, чтобы подключить к контейнеру папку на хосте нужно использовать опцию `-v` коаманды `docker run`. Полный синтаксис следующий:\n",
    "\n",
    "```\n",
    "docker run \\\n",
    "    -v <папка на хосте1>:<папка в контейнере1> \\\n",
    "    -v <папка на хосте2>:<папка в контейнере2> \\\n",
    "    ...\n",
    "```\n",
    "\n",
    "При том под <папка на хостеi> может пониматься как:\n",
    "\n",
    "- Путь к некоторой папке на хосте, такой способ подключения обычно называют **bind mount**, и используется он чаще для того чтобы передать в контейнер что-то характерное только для этого хоста;\n",
    "- Название **volume**, такой способ более предпочтительный, и используется для сохранения информации которую \"рождает\" контейнер, по сути это таже папка на хосте только управляется docker-ом."
   ]
  },
  {
   "attachments": {},
   "cell_type": "markdown",
   "metadata": {},
   "source": [
    "### Bind mount"
   ]
  },
  {
   "attachments": {},
   "cell_type": "markdown",
   "metadata": {},
   "source": [
    "В следующем примере я создаю папку `temp_folder`, её цепляю в контейнер под именем `temp_folder_inc_cont`. Из контейнера создаю в ней файл, выйдя их контейнера и даже удалив его, могу получить файл из папки хоста."
   ]
  },
  {
   "cell_type": "code",
   "execution_count": 26,
   "metadata": {},
   "outputs": [
    {
     "name": "stdout",
     "output_type": "stream",
     "text": [
      "'привет из контейнера'\n"
     ]
    }
   ],
   "source": [
    "%%bash\n",
    "mkdir temp_folder\n",
    "\n",
    "docker run \\\n",
    "    -v $(pwd)/temp_folder:/temp_folder_in_cont \\\n",
    "    --rm -itd --name temp_example \\\n",
    "    ubuntu &> /dev/null\n",
    "docker exec temp_example bash -c \"echo \\'привет из контейнера\\' >> temp_folder_in_cont/hello\"\n",
    "docker stop temp_example &> /dev/null\n",
    "\n",
    "cat temp_folder/hello\n",
    "rm -r temp_folder"
   ]
  },
  {
   "attachments": {},
   "cell_type": "markdown",
   "metadata": {},
   "source": [
    "### Volume\n",
    "\n",
    "Это файлы которые лежат на хосте и не зависят от конкретного образа, но зависят от docker. **Основное предназначение** - хранение данных."
   ]
  },
  {
   "attachments": {},
   "cell_type": "markdown",
   "metadata": {},
   "source": [
    "##### **Служба `docker volume`**\n",
    "\n",
    "`docker volume` - отдельная служба, которая имеет следующие комманды:\n",
    "\n",
    "- `ls` - отобразить доступные volumes;\n",
    "- `create` - создать volume;\n",
    "- `rm` - удалить volume;\n",
    "- `prune` - удалить valumes которые не используются в каком-либо контейнерe;\n",
    "- `inspect` - позволяет получить информацию о volume (в том числе где он лежит на хосте)."
   ]
  },
  {
   "attachments": {},
   "cell_type": "markdown",
   "metadata": {},
   "source": [
    "##### **Пример**"
   ]
  },
  {
   "attachments": {},
   "cell_type": "markdown",
   "metadata": {},
   "source": [
    "Далее привен прмер использования volume, его содержание пошагово:\n",
    "- Создается  `temp_volume`;\n",
    "- Запускается контейнер ubuntu с именем `example_container`, к нему цепляется ранее созданный volume под папкой `temp_volume_cont`;\n",
    "- В `temp_volume_cont` пишется файл;\n",
    "- `example_container` останавливается и автоматически удаляется (так как был создан с опцией `--rm`);\n",
    "- Далее через `inspect` показывается где можно найти volume на компьютере (поле `Mountpoint`), но туда из jupyter, к сожалению, не досучаться - нужны root права;\n",
    "- `example_container` подниматеся, точно так-же как и раньше;\n",
    "- И в папке, которой приделан volume находится, тот же файл, что был создан в предыдущей \"реинканации контейнера\"."
   ]
  },
  {
   "cell_type": "code",
   "execution_count": null,
   "metadata": {},
   "outputs": [
    {
     "name": "stdout",
     "output_type": "stream",
     "text": [
      "[\n",
      "    {\n",
      "        \"CreatedAt\": \"2023-05-09T19:40:05+03:00\",\n",
      "        \"Driver\": \"local\",\n",
      "        \"Labels\": null,\n",
      "        \"Mountpoint\": \"/var/lib/docker/volumes/temp_volume/_data\",\n",
      "        \"Name\": \"temp_volume\",\n",
      "        \"Options\": null,\n",
      "        \"Scope\": \"local\"\n",
      "    }\n",
      "]\n",
      "'привет из volume'\n"
     ]
    }
   ],
   "source": [
    "%%bash\n",
    "docker volume create temp_volume &> /dev/null\n",
    "\n",
    "docker run \\\n",
    "    -v temp_volume:/temp_volume_cont\\\n",
    "    --rm --name example_container -itd\\\n",
    "    ubuntu &> /dev/null\n",
    "docker exec example_container bash -c \"echo \\'привет из volume\\' >> temp_volume_cont/hello\"\n",
    "docker stop example_container &> /dev/null\n",
    "\n",
    "docker volume inspect temp_volume\n",
    "\n",
    "docker run \\\n",
    "    -v temp_volume:/temp_volume_cont\\\n",
    "    --rm --name example_container -itd\\\n",
    "    ubuntu &> /dev/null\n",
    "docker exec example_container cat temp_volume_cont/hello\n",
    "docker stop example_container &> /dev/null\n",
    "\n",
    "docker volume rm temp_volume &> /dev/null"
   ]
  },
  {
   "attachments": {},
   "cell_type": "markdown",
   "metadata": {},
   "source": [
    "### Тонкости\n"
   ]
  },
  {
   "attachments": {},
   "cell_type": "markdown",
   "metadata": {},
   "source": [
    "##### У контейнера root\n",
    "\n",
    "Даже если для хоста файл или папка имеют особый уровень доступа, **контейнер всегда работает под root**. Таким образом если монтировать такую папку, это может привести к тому, что в ней начнутся несанкционированные изменения. Далее пример."
   ]
  },
  {
   "cell_type": "code",
   "execution_count": 12,
   "metadata": {},
   "outputs": [
    {
     "name": "stdout",
     "output_type": "stream",
     "text": [
      "=====Через host=====\n"
     ]
    },
    {
     "name": "stderr",
     "output_type": "stream",
     "text": [
      "cat: secret_dir/secret_file: Permission denied\n",
      "rm: cannot remove 'secret_dir/secret_file': Permission denied\n"
     ]
    },
    {
     "name": "stdout",
     "output_type": "stream",
     "text": [
      "=====Через docker====\n",
      "super secret info\n"
     ]
    }
   ],
   "source": [
    "%%bash\n",
    "# создаем папку и в ней файл и даже в него записываем\n",
    "# сверхсекретное сообщение\n",
    "mkdir secret_dir\n",
    "touch secret_dir/secret_file\n",
    "echo \"super secret info\" > secret_dir/secret_file\n",
    "# закрываю доступ в папку\n",
    "chmod 000 secret_dir\n",
    "\n",
    "\n",
    "# убедимся, что через хост мы не может не получить инфу\n",
    "# ни удалить её\n",
    "echo \"=====Через host=====\"\n",
    "cat secret_dir/secret_file\n",
    "rm secret_dir/secret_file\n",
    "\n",
    "\n",
    "# поднимаем контейнер и монтируем в него данную папку\n",
    "docker run --rm -itd --name perm_ex\\\n",
    "    -v $(pwd)/secret_dir:/experimental/secret_dir \\\n",
    "    ubuntu &> /dev/null\n",
    "# и вауля, легко достаем \"секретную информацию\"\n",
    "echo \"=====Через docker====\"\n",
    "docker exec perm_ex cat experimental/secret_dir/secret_file\n",
    "# или даже можем удалить файл\n",
    "docker exec perm_ex rm experimental/secret_dir/secret_file\n",
    "\n",
    "\n",
    "docker stop perm_ex &> /dev/null"
   ]
  },
  {
   "attachments": {},
   "cell_type": "markdown",
   "metadata": {},
   "source": [
    "##### Опция `ro` (read only)\n",
    "\n",
    "Продолжая предыдущий подраздел, заметим, что при монтировании чего либо можно указать опцию `ro` (read only), которая запретит контейнеру изменять примонтированный файл."
   ]
  },
  {
   "cell_type": "code",
   "execution_count": 14,
   "metadata": {},
   "outputs": [
    {
     "name": "stdout",
     "output_type": "stream",
     "text": [
      "some data\n"
     ]
    }
   ],
   "source": [
    "%%bash\n",
    "echo \"some data\" > ro_ex\n",
    "# поднимаю контейнер с опцией ro\n",
    "docker run --rm -idt --name ro_ex\\\n",
    "    -v $(pwd)/ro_ex:/experimental/ro_ex:ro\\\n",
    "    ubuntu &> /dev/null\n",
    "# изменяю файл\n",
    "docker exec ro_ex bash -c \"echo \\\"new some data\\\" > ro_ex\"\n",
    "# вывожу новый файл\n",
    "cat ro_ex\n",
    "docker stop ro_ex &> /dev/null"
   ]
  },
  {
   "attachments": {},
   "cell_type": "markdown",
   "metadata": {},
   "source": [
    "Так как бы я в примере выше не пытался из контейнера именить файл ro_ex - не получается."
   ]
  },
  {
   "attachments": {},
   "cell_type": "markdown",
   "metadata": {},
   "source": [
    "### Вход с указанием пользователя\n",
    "\n",
    "Так же проблему с тем что в контейнере постоянно root можно обойти, указав пользователя при запуске контейнера (опция `-u=<id>`). Так пример из подраздела `root контейнера` можно сделать следующим образом:"
   ]
  },
  {
   "cell_type": "code",
   "execution_count": 15,
   "metadata": {},
   "outputs": [
    {
     "name": "stdout",
     "output_type": "stream",
     "text": [
      "=====Попытка достучаться из контейнера=====\n"
     ]
    },
    {
     "name": "stderr",
     "output_type": "stream",
     "text": [
      "cat: secret_dir/secret_file: No such file or directory\n"
     ]
    }
   ],
   "source": [
    "%%bash\n",
    "# создаем папку и в ней файл и даже в него записываем\n",
    "# сверхсекретное сообщение\n",
    "mkdir secret_dir\n",
    "touch secret_dir/secret_file\n",
    "echo \"super secret info\" > secret_dir/secret_file\n",
    "# закрываю доступ в папку\n",
    "chmod 000 secret_dir\n",
    "\n",
    "# поднимаем контейнер и монтируем в него данную папку\n",
    "docker run --rm -itd --name perm_ex -u=1000\\\n",
    "    -v $(pwd)/secret_dir:/experimental/secret_dir \\\n",
    "    ubuntu &> /dev/null\n",
    "echo \"=====Попытка достучаться из контейнера=====\"\n",
    "docker exec perm_ex cat secret_dir/secret_file\n",
    "\n",
    "docker stop perm_ex &> /dev/null"
   ]
  },
  {
   "attachments": {},
   "cell_type": "markdown",
   "metadata": {},
   "source": [
    "### .dockeringnore\n",
    "\n",
    "Даже если мы монтируем файл который указан в .dockeringore мы все равно получим его в контейнере."
   ]
  },
  {
   "cell_type": "code",
   "execution_count": 22,
   "metadata": {},
   "outputs": [
    {
     "name": "stdout",
     "output_type": "stream",
     "text": [
      "=====.dockerignore=====\n",
      "ignore_file.txt\n",
      "=====ignore-file.txt=====\n",
      "file that should be ignored\n",
      "=====ignore-file из контейнера=====\n",
      "file that should be ignored\n"
     ]
    }
   ],
   "source": [
    "%%bash\n",
    "\n",
    "echo \"=====.dockerignore=====\"\n",
    "cat .dockerignore\n",
    "echo -e \"\\n=====ignore-file.txt=====\"\n",
    "cat ignore_file.txt\n",
    "\n",
    "# запускаем контейнер монтируя файл, который указан в .dockerignore\n",
    "docker run --rm -itd --name ignore_ex\\\n",
    "    -v $(pwd)/ignore_file.txt:/app/ignore_file.txt\\\n",
    "    ubuntu &> /dev/null\n",
    "\n",
    "echo \"=====ignore-file из контейнера=====\"\n",
    "# убеждаемся, что наш секретный файл преспокойно сидит в контейнере\n",
    "docker exec ignore_ex cat app/ignore_file.txt\n",
    "\n",
    "docker stop ignore_ex &> /dev/null"
   ]
  },
  {
   "attachments": {},
   "cell_type": "markdown",
   "metadata": {},
   "source": [
    "### volume по умолчанию\n",
    "\n",
    "Некоторые контейнеры, когда поднимаются создают себе volume автоматически. Потому в один момент можно обнаружить, что у тебя весь диск забит. Например `yandex/clickhouse-server`. Так в следующем примере я поднимаю несколько контейнеров `yandex/clickhouse-server` и покзываю, что каждый из них создал по volume."
   ]
  },
  {
   "cell_type": "code",
   "execution_count": 23,
   "metadata": {},
   "outputs": [
    {
     "name": "stdout",
     "output_type": "stream",
     "text": [
      "DRIVER    VOLUME NAME\n",
      "local     5e991d1877a4cf14eda2e93935789178f4918f3b11f9185d89b170ad38d88619\n",
      "local     e5607f5376defe6b4318c46be41b315f8203104990c15a1669b9f98dcd9a296e\n",
      "local     fd203d49fe52d15aacb0bb4788122d2f9becbb66a5c566817bb9c0478cc56901\n"
     ]
    }
   ],
   "source": [
    "%%bash\n",
    "# поднимаю clickhouse\n",
    "docker run -d --name db_1 --rm yandex/clickhouse-server &> /dev/null\n",
    "docker run -d --name db_2 --rm yandex/clickhouse-server &> /dev/null\n",
    "docker run -d --name db_3 --rm yandex/clickhouse-server &> /dev/null\n",
    "\n",
    "# смотрю список volume -\n",
    "docker volume ls\n",
    "docker stop db_1 db_2 db_3 &> /dev/null"
   ]
  }
 ],
 "metadata": {
  "kernelspec": {
   "display_name": "Python 3",
   "language": "python",
   "name": "python3"
  },
  "language_info": {
   "codemirror_mode": {
    "name": "ipython",
    "version": 3
   },
   "file_extension": ".py",
   "mimetype": "text/x-python",
   "name": "python",
   "nbconvert_exporter": "python",
   "pygments_lexer": "ipython3",
   "version": "3.10.6"
  },
  "orig_nbformat": 4,
  "vscode": {
   "interpreter": {
    "hash": "e7370f93d1d0cde622a1f8e1c04877d8463912d04d973331ad4851f04de6915a"
   }
  }
 },
 "nbformat": 4,
 "nbformat_minor": 2
}
