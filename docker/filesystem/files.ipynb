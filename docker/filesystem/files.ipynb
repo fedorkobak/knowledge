{
 "cells": [
  {
   "attachments": {},
   "cell_type": "markdown",
   "metadata": {},
   "source": [
    "**Связь docker контейнера и файловой системы хоста**"
   ]
  },
  {
   "attachments": {},
   "cell_type": "markdown",
   "metadata": {},
   "source": [
    "# Volume\n",
    "\n",
    "Это файлы которые лежат на хосте и не зависят от конкретного образа, но зависят от docker в целом. **Основное предназначение** - хранение данных."
   ]
  },
  {
   "attachments": {},
   "cell_type": "markdown",
   "metadata": {},
   "source": [
    "### Комманды `volume`\n",
    "\n",
    "Любая комманда для работы с volume начитается с `docker volume`.\n",
    "\n",
    "- `ls` - отобразить доступные volumes;\n",
    "- `rm` - удалить volume;"
   ]
  },
  {
   "attachments": {},
   "cell_type": "markdown",
   "metadata": {},
   "source": [
    "### Тонкости\n",
    "\n",
    "Некоторые контейнеры, когда поднимаются создают себе volume автоматически. Потому в один момент можно обнаружить, что у тебя весь диск забит. Например `yandex/clickhouse-server`."
   ]
  },
  {
   "cell_type": "code",
   "execution_count": null,
   "metadata": {},
   "outputs": [],
   "source": [
    "%%bash\n",
    "docker run -d --name db_1 yandex/clickhouse-server"
   ]
  },
  {
   "attachments": {},
   "cell_type": "markdown",
   "metadata": {},
   "source": [
    "# Bind mount\n",
    "\n",
    "Можно примонтировать к контейнеру любую папку или файл в любом месте на хосте. **Основное предназначение** - входная информация по типу ключей."
   ]
  }
 ],
 "metadata": {
  "language_info": {
   "name": "python"
  },
  "orig_nbformat": 4
 },
 "nbformat": 4,
 "nbformat_minor": 2
}
