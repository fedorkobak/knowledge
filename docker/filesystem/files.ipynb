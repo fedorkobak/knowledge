{
 "cells": [
  {
   "attachments": {},
   "cell_type": "markdown",
   "metadata": {},
   "source": [
    "**Связь docker контейнера и файловой системы хоста**"
   ]
  },
  {
   "attachments": {},
   "cell_type": "markdown",
   "metadata": {},
   "source": [
    "# Volume\n",
    "\n",
    "Это файлы которые лежат на хосте и не зависят от конкретного образа, но зависят от docker в целом. **Основное предназначение** - хранение данных."
   ]
  },
  {
   "attachments": {},
   "cell_type": "markdown",
   "metadata": {},
   "source": [
    "### Комманды `volume`\n",
    "\n",
    "Любая комманда для работы с volume начитается с `docker volume`.\n",
    "\n",
    "- `ls` - отобразить доступные volumes;\n",
    "- `rm` - удалить volume;"
   ]
  },
  {
   "attachments": {},
   "cell_type": "markdown",
   "metadata": {},
   "source": [
    "### Тонкости\n",
    "\n",
    "Некоторые контейнеры, когда поднимаются создают себе volume автоматически. Потому в один момент можно обнаружить, что у тебя весь диск забит. Например `yandex/clickhouse-server`. Так в следующем примере я поднимаю несколько контейнеров `yandex/clickhouse-server` и покзываю, что каждый из них создал по volume."
   ]
  },
  {
   "cell_type": "code",
   "execution_count": 6,
   "metadata": {},
   "outputs": [
    {
     "name": "stdout",
     "output_type": "stream",
     "text": [
      "82d50d878c1babea30805e20f9aaedf0198fd2617207f2891528f190d210bbad\n",
      "36ae71fb6eb78cc91e958039ab53f093807faa43c82915af6a76b4ef482da0ce\n",
      "60dc2f71e2b29277b8eda6be533ab42547d0061b64f115b87a1052a1541bb7c9\n",
      "DRIVER    VOLUME NAME\n",
      "local     2a6676858530a9d28db91bcea872748ad2516ff712716293c3cd42864f79669d\n",
      "local     994071ad6640596efb04194a5c396696269a1c7bbd6c3d61861899f5bac64396\n",
      "local     ef1d5dfad191f8c46fff3c140b26b40d3e89f2adefbb66de44c17d9e4d36e5e3\n",
      "db_1\n",
      "db_2\n",
      "db_3\n"
     ]
    }
   ],
   "source": [
    "%%bash\n",
    "# поднимаю clickhouse\n",
    "docker run -d --name db_1 --rm yandex/clickhouse-server\n",
    "docker run -d --name db_2 --rm yandex/clickhouse-server\n",
    "docker run -d --name db_3 --rm yandex/clickhouse-server\n",
    "\n",
    "# смотрю список volume -\n",
    "docker volume ls\n",
    "docker stop db_1 db_2 db_3"
   ]
  },
  {
   "attachments": {},
   "cell_type": "markdown",
   "metadata": {},
   "source": [
    "# Bind mount\n",
    "\n",
    "Можно примонтировать к контейнеру любую папку или файл в любом месте на хосте. **Основное предназначение** - входная информация по типу ключей."
   ]
  },
  {
   "attachments": {},
   "cell_type": "markdown",
   "metadata": {},
   "source": [
    "# Команда `cp`\n",
    "\n",
    "Поможет провести коппирование в работающий контейнер. Синтаксис использования комманды следующий:\n",
    "\n",
    "`docker cp <путь на хосте> <контейнер в который производится копирование>:<путь в контейнере>`\n",
    "\n",
    "Далее пример, как я в работающий контейнер закину файл \"my_datafile\"."
   ]
  },
  {
   "cell_type": "code",
   "execution_count": 11,
   "metadata": {},
   "outputs": [
    {
     "name": "stdout",
     "output_type": "stream",
     "text": [
      "bb19196f291cc6c1ffac98e29bb4883df5026767cc58d1976297a809a3f4dc7f\n",
      "\n",
      "experimental.py\n",
      "\n",
      "experimental.py\n",
      "my_datafile\n",
      "c1\n"
     ]
    }
   ],
   "source": [
    "%%bash\n",
    "# поднимаю контейнер в фоновом режиме\n",
    "docker run -itd --rm --name c1 file_example\n",
    "echo \"\"\n",
    "# показываю что в конейнере нету файла\n",
    "docker exec c1 ls\n",
    "echo \"\"\n",
    "# копирую файл через cp\n",
    "docker cp my_datafile c1:experimental/my_datafile\n",
    "# сомтрю в папку теперь\n",
    "docker exec c1 ls\n",
    "docker stop c1"
   ]
  }
 ],
 "metadata": {
  "kernelspec": {
   "display_name": "Python 3",
   "language": "python",
   "name": "python3"
  },
  "language_info": {
   "codemirror_mode": {
    "name": "ipython",
    "version": 3
   },
   "file_extension": ".py",
   "mimetype": "text/x-python",
   "name": "python",
   "nbconvert_exporter": "python",
   "pygments_lexer": "ipython3",
   "version": "3.11.1"
  },
  "orig_nbformat": 4,
  "vscode": {
   "interpreter": {
    "hash": "e7370f93d1d0cde622a1f8e1c04877d8463912d04d973331ad4851f04de6915a"
   }
  }
 },
 "nbformat": 4,
 "nbformat_minor": 2
}
