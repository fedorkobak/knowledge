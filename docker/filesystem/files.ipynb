{
 "cells": [
  {
   "attachments": {},
   "cell_type": "markdown",
   "metadata": {},
   "source": [
    "**Связь docker контейнера и файловой системы хоста**"
   ]
  },
  {
   "cell_type": "markdown",
   "metadata": {},
   "source": [
    "# Команда `cp`\n",
    "\n",
    "Поможет провести коппирование в работающий контейнер. Синтаксис использования комманды следующий:\n",
    "\n",
    "`docker cp <путь на хосте> <контейнер в который производится копирование>:<путь в контейнере>`\n",
    "\n",
    "Далее пример, как я в работающий контейнер закину файл \"my_datafile\"."
   ]
  },
  {
   "cell_type": "code",
   "execution_count": null,
   "metadata": {},
   "outputs": [
    {
     "name": "stdout",
     "output_type": "stream",
     "text": [
      "0a4764eb41d1a3675983044244de0a3d4f891309f3c436413db479839b21abb5\n",
      "\n",
      "experimental.py\n",
      "\n",
      "experimental.py\n",
      "my_datafile.csv\n",
      "c1\n"
     ]
    }
   ],
   "source": [
    "%%bash\n",
    "# поднимаю контейнер в фоновом режиме\n",
    "docker run -itd --rm --name c1 file_example\n",
    "echo \"\"\n",
    "# показываю что в конейнере нету файла\n",
    "docker exec c1 ls\n",
    "echo \"\"\n",
    "# копирую файл через cp\n",
    "docker cp my_datafile.csv c1:experimental/my_datafile.csv\n",
    "# сомтрю в папку теперь\n",
    "docker exec c1 ls\n",
    "docker stop c1"
   ]
  },
  {
   "attachments": {},
   "cell_type": "markdown",
   "metadata": {},
   "source": [
    "# Bind mount\n",
    "\n",
    "Можно примонтировать к контейнеру любую папку или файл в любом месте на хосте. **Основное предназначение** - входная информация по типу ключей."
   ]
  },
  {
   "attachments": {},
   "cell_type": "markdown",
   "metadata": {},
   "source": [
    "Bind mount создается через использование опции `--v <полный путь к файлу/папке на хосте:полный путь к файлу папке в контейнере>` комманды `run`."
   ]
  },
  {
   "cell_type": "code",
   "execution_count": 2,
   "metadata": {},
   "outputs": [
    {
     "name": "stdout",
     "output_type": "stream",
     "text": [
      "col1,col2\n",
      "9f09b068890c28544b1892a4ba050e128016703c847248ba0d96a0f8861ba506\n",
      "col1,col2\n",
      "0.48907447800000703,0.3088149216473689\n",
      "bm_ex\n"
     ]
    }
   ],
   "source": [
    "%%bash\n",
    "# убежадемся, что изначально файл пустой\n",
    "cat my_datafile.csv\n",
    "# потом запускаем контейнер монтируя bindmount\n",
    "docker run --rm -itd -v $(pwd)/my_datafile.csv:/experimental/my_datafile.csv --name bm_ex file_example\n",
    "# запускаем программу, которая должна добавить строчку в файл\n",
    "docker exec bm_ex python3 experimental.py\n",
    "# проверяем файл НА ХОСТЕ\n",
    "cat my_datafile.csv\n",
    "\n",
    "docker stop bm_ex"
   ]
  },
  {
   "attachments": {},
   "cell_type": "markdown",
   "metadata": {},
   "source": [
    "### Тонкости\n"
   ]
  },
  {
   "attachments": {},
   "cell_type": "markdown",
   "metadata": {},
   "source": [
    "##### root контейнера\n",
    "\n",
    "Даже если для хоста файл или папка имеют особый уровень доступа, **контейнер всегда работает под root**. Таким образом если монтировать такую папку, это может привести к тому, что в ней начнутся несанкционированные изменения. Далее пример."
   ]
  },
  {
   "cell_type": "code",
   "execution_count": 3,
   "metadata": {},
   "outputs": [
    {
     "name": "stderr",
     "output_type": "stream",
     "text": [
      "cat: secret_dir/secret_file: Permission denied\n",
      "rm: cannot remove 'secret_dir/secret_file': Permission denied\n"
     ]
    },
    {
     "name": "stdout",
     "output_type": "stream",
     "text": [
      "d02a3365f075b0dcde14a68698f77b8e1ad89eb8ad1d112848c2a3dd037f37b1\n",
      "super secret info\n",
      "perm_ex\n"
     ]
    }
   ],
   "source": [
    "%%bash\n",
    "# создаем папку и в ней файл и даже в него записываем\n",
    "# сверхсекретное сообщение\n",
    "mkdir secret_dir\n",
    "touch secret_dir/secret_file\n",
    "echo \"super secret info\" > secret_dir/secret_file\n",
    "# закрываю доступ в папку\n",
    "chmod 000 secret_dir\n",
    "# убедимся, что через хост мы не может не получить инфу\n",
    "# ни удалить её\n",
    "cat secret_dir/secret_file\n",
    "rm secret_dir/secret_file\n",
    "# поднимаем контейнер и монтируем в него данную папку\n",
    "docker run --rm -itd -v $(pwd)/secret_dir:/experimental/secret_dir --name perm_ex file_example\n",
    "# и вауля, легко достаем \"секретную информацию\"\n",
    "docker exec perm_ex cat secret_dir/secret_file\n",
    "# или даже можем удалить файл\n",
    "docker exec perm_ex rm secret_dir/secret_file\n",
    "\n",
    "docker stop perm_ex"
   ]
  },
  {
   "attachments": {},
   "cell_type": "markdown",
   "metadata": {},
   "source": [
    "##### Опция `ro`\n",
    "\n",
    "Продолжая предыдущий подраздел, заметим, что при монтировании чего либо можно указать опцию `ro` (read only), которая запретит контейнеру изменять примонтированный файл. Но по какой-то причине, это работет не во всех случаях, так следующий пример ломает систему:"
   ]
  },
  {
   "cell_type": "code",
   "execution_count": 5,
   "metadata": {},
   "outputs": [
    {
     "name": "stdout",
     "output_type": "stream",
     "text": [
      "22a5ea7e72f7fb51efbecaed558ae4cf4f11cd5acebacb8cec45f11223937c44\n",
      "new some data\n",
      "ro_ex\n"
     ]
    }
   ],
   "source": [
    "%%bash\n",
    "echo \"some data\" > ro_ex\n",
    "# поднимаю контейнер с опцией ro\n",
    "docker run --rm -idt -v $(pwd)/ro_ex:/experimental/ro_ex:ro --name ro_ex file_example\n",
    "# изменяю файл\n",
    "docker exec ro_ex echo \"new some data\" > ro_ex\n",
    "# вывожу новый файл\n",
    "cat ro_ex\n",
    "docker stop ro_ex"
   ]
  },
  {
   "attachments": {},
   "cell_type": "markdown",
   "metadata": {},
   "source": [
    "Тем не менне если воти в контейнер и пытаться изменнить например через nano - то дейсвительно убдет ошибка."
   ]
  },
  {
   "attachments": {},
   "cell_type": "markdown",
   "metadata": {},
   "source": [
    "##### Вход с указанием пользователя\n",
    "\n",
    "Так же проблему с тем что в контейнере постоянно root можно обойти, указав пользователя при запуске контейнера (опция `-u=<id>`). Так пример из подраздела `root контейнера` можно сделать следующим образом:"
   ]
  },
  {
   "cell_type": "code",
   "execution_count": 6,
   "metadata": {},
   "outputs": [
    {
     "name": "stdout",
     "output_type": "stream",
     "text": [
      "552f8215a63651c234f63ee48d7948b34890c4a66faa5c89dbc9ede8fe0830fc\n"
     ]
    },
    {
     "name": "stderr",
     "output_type": "stream",
     "text": [
      "cat: secret_dir/secret_file: Permission denied\n"
     ]
    },
    {
     "name": "stdout",
     "output_type": "stream",
     "text": [
      "perm_ex\n"
     ]
    }
   ],
   "source": [
    "%%bash\n",
    "# создаем папку и в ней файл и даже в него записываем\n",
    "# сверхсекретное сообщение\n",
    "mkdir secret_dir\n",
    "touch secret_dir/secret_file\n",
    "echo \"super secret info\" > secret_dir/secret_file\n",
    "# закрываю доступ в папку\n",
    "chmod 000 secret_dir\n",
    "\n",
    "# поднимаем контейнер и монтируем в него данную папку\n",
    "docker run --rm -itd -v $(pwd)/secret_dir:/experimental/secret_dir -u=1000 --name perm_ex file_example\n",
    "# и теперь то эта опция вызовет предупреждение \"Permission denied\"\n",
    "docker exec perm_ex cat secret_dir/secret_file\n",
    "\n",
    "docker stop perm_ex"
   ]
  },
  {
   "cell_type": "markdown",
   "metadata": {},
   "source": [
    "# Volume\n",
    "\n",
    "Это файлы которые лежат на хосте и не зависят от конкретного образа, но зависят от docker в целом. **Основное предназначение** - хранение данных."
   ]
  },
  {
   "cell_type": "markdown",
   "metadata": {},
   "source": [
    "### Комманды `volume`\n",
    "\n",
    "Любая комманда для работы с volume начитается с `docker volume`.\n",
    "\n",
    "- `ls` - отобразить доступные volumes;\n",
    "- `create` - создать volume;\n",
    "- `rm` - удалить volume;\n",
    "- `prune` - удалить valumes которые не используются в каком-либо контейнерe;\n",
    "- `inspect` - позволяет получить информацию о volume (в том числе где он лежит на хосте)."
   ]
  },
  {
   "attachments": {},
   "cell_type": "markdown",
   "metadata": {},
   "source": [
    "### Пример использования volume\n",
    "\n",
    "Пример разложился в несколько ячеек, потому следующие ячейки следует запускать в строгой последовательносяти."
   ]
  },
  {
   "attachments": {},
   "cell_type": "markdown",
   "metadata": {},
   "source": [
    "Убедимся, что изначально файл \"my_datafile.csv\" пустой."
   ]
  },
  {
   "cell_type": "code",
   "execution_count": 2,
   "metadata": {},
   "outputs": [
    {
     "name": "stdout",
     "output_type": "stream",
     "text": [
      "col1,col2\n"
     ]
    }
   ],
   "source": [
    "%%bash\n",
    "cat my_datafile.csv"
   ]
  },
  {
   "attachments": {},
   "cell_type": "markdown",
   "metadata": {},
   "source": [
    "Созданный ранее volume передается контейнеру через опцию `-v <имя volume>:<директория в контейнере>`"
   ]
  },
  {
   "cell_type": "code",
   "execution_count": 4,
   "metadata": {},
   "outputs": [
    {
     "name": "stdout",
     "output_type": "stream",
     "text": [
      "ex_volume\n",
      "56e1e4a3dbc4f83a8f6a5eae3185064d323cfdcf02a3142485b6af84b08eb6c5\n"
     ]
    }
   ],
   "source": [
    "%%bash\n",
    "# создание volume\n",
    "docker volume create ex_volume\n",
    "# запускаем контейнер и прокидываем в него наш volume\n",
    "docker run --rm -itd -v ex_volume:/experimental --name volume_ex file_example"
   ]
  },
  {
   "attachments": {},
   "cell_type": "markdown",
   "metadata": {},
   "source": [
    "И так после исполнения предыдущей ячейки у нас папка \"experimental\" контейнера будет связана с \"ex_volume\". Сейчат, например, через `cp` добавим закинем в volume наш файл. И создадим в нем строчку. И удалим остановим контейнер."
   ]
  },
  {
   "cell_type": "code",
   "execution_count": 6,
   "metadata": {},
   "outputs": [
    {
     "name": "stdout",
     "output_type": "stream",
     "text": [
      "volume_ex\n"
     ]
    }
   ],
   "source": [
    "%%bash\n",
    "# копирование файла с информацией\n",
    "docker cp my_datafile.csv volume_ex:/experimental/my_datafile.csv\n",
    "# запуск программы, которая досоздаст информацию\n",
    "docker exec volume_ex python3 experimental.py\n",
    "# остановка контейнера\n",
    "docker stop volume_ex"
   ]
  },
  {
   "attachments": {},
   "cell_type": "markdown",
   "metadata": {},
   "source": [
    "Теперь по логике, то, что насоздавалось за время работы контейнера можно достать из volume. Только нужно узнать где именно он лежит:"
   ]
  },
  {
   "cell_type": "code",
   "execution_count": 7,
   "metadata": {},
   "outputs": [
    {
     "name": "stdout",
     "output_type": "stream",
     "text": [
      "[\n",
      "    {\n",
      "        \"CreatedAt\": \"2023-02-22T19:28:29+03:00\",\n",
      "        \"Driver\": \"local\",\n",
      "        \"Labels\": null,\n",
      "        \"Mountpoint\": \"/var/lib/docker/volumes/ex_volume/_data\",\n",
      "        \"Name\": \"ex_volume\",\n",
      "        \"Options\": null,\n",
      "        \"Scope\": \"local\"\n",
      "    }\n",
      "]\n"
     ]
    }
   ],
   "source": [
    "%%bash\n",
    "docker volume inspect ex_volume"
   ]
  },
  {
   "attachments": {},
   "cell_type": "markdown",
   "metadata": {},
   "source": [
    "Тут \"Mountpoint\" и указыват на ту папку в которой был создан volume. Для того, чтобы зайти в него нужен root. потому привожу результаты скрином.\n",
    "\n",
    "<img src=\"inside_volume.png\"></img>"
   ]
  },
  {
   "attachments": {},
   "cell_type": "markdown",
   "metadata": {},
   "source": [
    "И, что самое крутое, на месте этого образа, я могу поднять точно такойже или совсем другой, и прицепить к нему все теже данные, которые были использованы в прошлый раз. Так в следующей ячейке я поднимаю, точно такой-же образ, что и раньше, заглянув в \"my_datafile.csv\" нахожу все тот-же файл."
   ]
  },
  {
   "cell_type": "code",
   "execution_count": 13,
   "metadata": {},
   "outputs": [
    {
     "name": "stdout",
     "output_type": "stream",
     "text": [
      "a94478c4cbd5319c8cc25000207c3a0a8a1ac00ee338ef8cdf51821581e79421\n",
      "col1,col2\n",
      "0.13246072579884416,0.28795926573494846\n",
      "volume_ex\n"
     ]
    }
   ],
   "source": [
    "%%bash\n",
    "# поднимаю контейнер\n",
    "docker run --rm -itd -v ex_volume:/experimental --name volume_ex file_example\n",
    "# заглядываю в изучаемый файл\n",
    "docker exec volume_ex cat my_datafile.csv\n",
    "# останавилваю контейнер\n",
    "docker stop volume_ex"
   ]
  },
  {
   "cell_type": "markdown",
   "metadata": {},
   "source": [
    "### Тонкости\n",
    "\n",
    "Некоторые контейнеры, когда поднимаются создают себе volume автоматически. Потому в один момент можно обнаружить, что у тебя весь диск забит. Например `yandex/clickhouse-server`. Так в следующем примере я поднимаю несколько контейнеров `yandex/clickhouse-server` и покзываю, что каждый из них создал по volume."
   ]
  },
  {
   "cell_type": "code",
   "execution_count": null,
   "metadata": {},
   "outputs": [
    {
     "name": "stdout",
     "output_type": "stream",
     "text": [
      "82d50d878c1babea30805e20f9aaedf0198fd2617207f2891528f190d210bbad\n",
      "36ae71fb6eb78cc91e958039ab53f093807faa43c82915af6a76b4ef482da0ce\n",
      "60dc2f71e2b29277b8eda6be533ab42547d0061b64f115b87a1052a1541bb7c9\n",
      "DRIVER    VOLUME NAME\n",
      "local     2a6676858530a9d28db91bcea872748ad2516ff712716293c3cd42864f79669d\n",
      "local     994071ad6640596efb04194a5c396696269a1c7bbd6c3d61861899f5bac64396\n",
      "local     ef1d5dfad191f8c46fff3c140b26b40d3e89f2adefbb66de44c17d9e4d36e5e3\n",
      "db_1\n",
      "db_2\n",
      "db_3\n"
     ]
    }
   ],
   "source": [
    "%%bash\n",
    "# поднимаю clickhouse\n",
    "docker run -d --name db_1 --rm yandex/clickhouse-server\n",
    "docker run -d --name db_2 --rm yandex/clickhouse-server\n",
    "docker run -d --name db_3 --rm yandex/clickhouse-server\n",
    "\n",
    "# смотрю список volume -\n",
    "docker volume ls\n",
    "docker stop db_1 db_2 db_3"
   ]
  }
 ],
 "metadata": {
  "kernelspec": {
   "display_name": "Python 3",
   "language": "python",
   "name": "python3"
  },
  "language_info": {
   "codemirror_mode": {
    "name": "ipython",
    "version": 3
   },
   "file_extension": ".py",
   "mimetype": "text/x-python",
   "name": "python",
   "nbconvert_exporter": "python",
   "pygments_lexer": "ipython3",
   "version": "3.11.1"
  },
  "orig_nbformat": 4,
  "vscode": {
   "interpreter": {
    "hash": "e7370f93d1d0cde622a1f8e1c04877d8463912d04d973331ad4851f04de6915a"
   }
  }
 },
 "nbformat": 4,
 "nbformat_minor": 2
}
