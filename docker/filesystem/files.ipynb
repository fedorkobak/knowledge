{
 "cells": [
  {
   "attachments": {},
   "cell_type": "markdown",
   "metadata": {},
   "source": [
    "**Связь docker контейнера и файловой системы хоста**"
   ]
  },
  {
   "attachments": {},
   "cell_type": "markdown",
   "metadata": {},
   "source": [
    "# Volume\n",
    "\n",
    "Это файлы которые лежат на хосте и не зависят от конкретного образа, но зависят от docker в целом. **Основное предназначение** - хранение данных."
   ]
  },
  {
   "attachments": {},
   "cell_type": "markdown",
   "metadata": {},
   "source": [
    "### Комманды `volume`\n",
    "\n",
    "Любая комманда для работы с volume начитается с `docker volume`.\n",
    "\n",
    "- `ls` - отобразить доступные volumes;\n",
    "- `rm` - удалить volume;"
   ]
  },
  {
   "attachments": {},
   "cell_type": "markdown",
   "metadata": {},
   "source": [
    "### Тонкости\n",
    "\n",
    "Некоторые контейнеры, когда поднимаются создают себе volume автоматически. Потому в один момент можно обнаружить, что у тебя весь диск забит. Например `yandex/clickhouse-server`. Так в следующем примере я поднимаю несколько контейнеров `yandex/clickhouse-server` и покзываю, что каждый из них создал по volume."
   ]
  },
  {
   "cell_type": "code",
   "execution_count": 6,
   "metadata": {},
   "outputs": [
    {
     "name": "stdout",
     "output_type": "stream",
     "text": [
      "82d50d878c1babea30805e20f9aaedf0198fd2617207f2891528f190d210bbad\n",
      "36ae71fb6eb78cc91e958039ab53f093807faa43c82915af6a76b4ef482da0ce\n",
      "60dc2f71e2b29277b8eda6be533ab42547d0061b64f115b87a1052a1541bb7c9\n",
      "DRIVER    VOLUME NAME\n",
      "local     2a6676858530a9d28db91bcea872748ad2516ff712716293c3cd42864f79669d\n",
      "local     994071ad6640596efb04194a5c396696269a1c7bbd6c3d61861899f5bac64396\n",
      "local     ef1d5dfad191f8c46fff3c140b26b40d3e89f2adefbb66de44c17d9e4d36e5e3\n",
      "db_1\n",
      "db_2\n",
      "db_3\n"
     ]
    }
   ],
   "source": [
    "%%bash\n",
    "# поднимаю clickhouse\n",
    "docker run -d --name db_1 --rm yandex/clickhouse-server\n",
    "docker run -d --name db_2 --rm yandex/clickhouse-server\n",
    "docker run -d --name db_3 --rm yandex/clickhouse-server\n",
    "\n",
    "# смотрю список volume -\n",
    "docker volume ls\n",
    "docker stop db_1 db_2 db_3"
   ]
  },
  {
   "attachments": {},
   "cell_type": "markdown",
   "metadata": {},
   "source": [
    "# Bind mount\n",
    "\n",
    "Можно примонтировать к контейнеру любую папку или файл в любом месте на хосте. **Основное предназначение** - входная информация по типу ключей."
   ]
  },
  {
   "attachments": {},
   "cell_type": "markdown",
   "metadata": {},
   "source": [
    "Bind mount создается через использование опции `--v <полный путь к файлу/папке на хосте:полный путь к файлу папке в контейнере>` комманды `run`."
   ]
  },
  {
   "cell_type": "code",
   "execution_count": 2,
   "metadata": {},
   "outputs": [
    {
     "name": "stdout",
     "output_type": "stream",
     "text": [
      "col1,col2\n",
      "9f09b068890c28544b1892a4ba050e128016703c847248ba0d96a0f8861ba506\n",
      "col1,col2\n",
      "0.48907447800000703,0.3088149216473689\n",
      "bm_ex\n"
     ]
    }
   ],
   "source": [
    "%%bash\n",
    "# убежадемся, что изначально файл пустой\n",
    "cat my_datafile.csv\n",
    "# потом запускаем контейнер монтируя bindmount\n",
    "docker run --rm -itd -v $(pwd)/my_datafile.csv:/experimental/my_datafile.csv --name bm_ex file_example\n",
    "# запускаем программу, которая должна добавить строчку в файл\n",
    "docker exec bm_ex python3 experimental.py\n",
    "# проверяем файл НА ХОСТЕ\n",
    "cat my_datafile.csv\n",
    "\n",
    "docker stop bm_ex"
   ]
  },
  {
   "attachments": {},
   "cell_type": "markdown",
   "metadata": {},
   "source": [
    "# Команда `cp`\n",
    "\n",
    "Поможет провести коппирование в работающий контейнер. Синтаксис использования комманды следующий:\n",
    "\n",
    "`docker cp <путь на хосте> <контейнер в который производится копирование>:<путь в контейнере>`\n",
    "\n",
    "Далее пример, как я в работающий контейнер закину файл \"my_datafile\"."
   ]
  },
  {
   "cell_type": "code",
   "execution_count": 1,
   "metadata": {},
   "outputs": [
    {
     "name": "stdout",
     "output_type": "stream",
     "text": [
      "0a4764eb41d1a3675983044244de0a3d4f891309f3c436413db479839b21abb5\n",
      "\n",
      "experimental.py\n",
      "\n",
      "experimental.py\n",
      "my_datafile.csv\n",
      "c1\n"
     ]
    }
   ],
   "source": [
    "%%bash\n",
    "# поднимаю контейнер в фоновом режиме\n",
    "docker run -itd --rm --name c1 file_example\n",
    "echo \"\"\n",
    "# показываю что в конейнере нету файла\n",
    "docker exec c1 ls\n",
    "echo \"\"\n",
    "# копирую файл через cp\n",
    "docker cp my_datafile.csv c1:experimental/my_datafile.csv\n",
    "# сомтрю в папку теперь\n",
    "docker exec c1 ls\n",
    "docker stop c1"
   ]
  }
 ],
 "metadata": {
  "kernelspec": {
   "display_name": "Python 3",
   "language": "python",
   "name": "python3"
  },
  "language_info": {
   "codemirror_mode": {
    "name": "ipython",
    "version": 3
   },
   "file_extension": ".py",
   "mimetype": "text/x-python",
   "name": "python",
   "nbconvert_exporter": "python",
   "pygments_lexer": "ipython3",
   "version": "3.11.1"
  },
  "orig_nbformat": 4,
  "vscode": {
   "interpreter": {
    "hash": "e7370f93d1d0cde622a1f8e1c04877d8463912d04d973331ad4851f04de6915a"
   }
  }
 },
 "nbformat": 4,
 "nbformat_minor": 2
}
