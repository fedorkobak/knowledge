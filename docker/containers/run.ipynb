{
 "cells": [
  {
   "cell_type": "markdown",
   "metadata": {},
   "source": [
    "# Run\n",
    "\n",
    "Here are some different options associated with running Docker containers."
   ]
  },
  {
   "cell_type": "markdown",
   "metadata": {},
   "source": [
    "## Ports\n",
    "\n",
    "To be able to communicate with docker containers from outside the environment, you need to bind ports on the host to the ports on the container. To do this, use `-p <port in the host>:<port in the container>` when starting the container."
   ]
  },
  {
   "cell_type": "markdown",
   "metadata": {},
   "source": [
    "---\n",
    "\n",
    "The next cell starts the container with `nc` listening on port `999` port. At the same time container maps port `888` of the host to the port `999` of the container."
   ]
  },
  {
   "cell_type": "code",
   "execution_count": 42,
   "metadata": {
    "vscode": {
     "languageId": "shellscript"
    }
   },
   "outputs": [
    {
     "name": "stdout",
     "output_type": "stream",
     "text": [
      "5d11d0bcb2838bd46b73930ca6ba18b64c29c863cd90abdef70f7b3b17a55b7a\n"
     ]
    }
   ],
   "source": [
    "docker run -itd -p 888:999 --name port_example alpine sh -c \"\n",
    "apk update && apk add netcat-openbsd\n",
    "nc -w 1 -l 0.0.0.0 999\"\n",
    "sleep 3 # wait some time to install netcat"
   ]
  },
  {
   "cell_type": "markdown",
   "metadata": {},
   "source": [
    "The next code throws a message to the localhost 888."
   ]
  },
  {
   "cell_type": "code",
   "execution_count": 43,
   "metadata": {
    "vscode": {
     "languageId": "shellscript"
    }
   },
   "outputs": [],
   "source": [
    "echo \"message to the conatiner\" | nc localhost 888"
   ]
  },
  {
   "cell_type": "markdown",
   "metadata": {},
   "source": [
    "The next cell shows the last line from the container logs - it corresponds to the message sent by the host."
   ]
  },
  {
   "cell_type": "code",
   "execution_count": 44,
   "metadata": {
    "vscode": {
     "languageId": "shellscript"
    }
   },
   "outputs": [
    {
     "name": "stdout",
     "output_type": "stream",
     "text": [
      "message to the conatiner\n"
     ]
    }
   ],
   "source": [
    "docker logs port_example | tail -n 1\n",
    "docker rm port_example &> /dev/null"
   ]
  },
  {
   "cell_type": "markdown",
   "metadata": {},
   "source": [
    "## Environment variables\n",
    "\n",
    "Some tools' configurations use environment variables, so if you are using such tools, you'll need to pass environment variables to the container. There are two options in the `docker run` command that allow you to manage environment variables:  \n",
    "- `--env` (`-e`): allows setting a variable and its value directly from the CLI. You should use the syntax `-e <variable_name>=<value>`.  \n",
    "- `--env-file`: allows loading variables from a specific `.env` file."
   ]
  },
  {
   "cell_type": "markdown",
   "metadata": {},
   "source": [
    "---\n",
    "\n",
    "The following cell shows the usage of the `-e` option — it creates a Docker container with the variable `TOY_VARIABLE` in it. As proof that the variable was actually created, its value was printed from the container."
   ]
  },
  {
   "cell_type": "code",
   "execution_count": 5,
   "metadata": {
    "vscode": {
     "languageId": "shellscript"
    }
   },
   "outputs": [
    {
     "name": "stdout",
     "output_type": "stream",
     "text": [
      "hello from toy variable\n"
     ]
    }
   ],
   "source": [
    "docker run --rm -dit \\\n",
    "    --name env_example \\\n",
    "    -e TOY_VARIABLE=\"hello from toy variable\" alpine &> /dev/null\n",
    "docker exec env_example sh -c \"echo \\$TOY_VARIABLE\"\n",
    "docker stop env_example &> /dev/null"
   ]
  },
  {
   "cell_type": "markdown",
   "metadata": {},
   "source": [
    "Now let's try the same with variables defined in the `.env` file — just like in the following file:"
   ]
  },
  {
   "cell_type": "code",
   "execution_count": 6,
   "metadata": {
    "vscode": {
     "languageId": "shellscript"
    }
   },
   "outputs": [],
   "source": [
    "cat << EOF > env_values\n",
    "VAL1=10\n",
    "VAL2=\"text value\"\n",
    "EOF"
   ]
  },
  {
   "cell_type": "markdown",
   "metadata": {},
   "source": [
    "The following container loads the file we defined earlier and then displays the variables mentioned in the file — everything works well."
   ]
  },
  {
   "cell_type": "code",
   "execution_count": 9,
   "metadata": {
    "vscode": {
     "languageId": "shellscript"
    }
   },
   "outputs": [
    {
     "name": "stdout",
     "output_type": "stream",
     "text": [
      "10 \"text value\"\n"
     ]
    }
   ],
   "source": [
    "docker run --rm -dit \\\n",
    "    --name env_file_example \\\n",
    "    --env-file env_values \\\n",
    "    alpine &> /dev/null\n",
    "docker exec env_file_example sh -c \"echo \\$VAL1 \\$VAL2\"\n",
    "docker stop env_file_example &> /dev/null"
   ]
  },
  {
   "cell_type": "markdown",
   "metadata": {},
   "source": [
    "Don't forget to clean up the file that we used for the experiment."
   ]
  },
  {
   "cell_type": "code",
   "execution_count": 10,
   "metadata": {
    "vscode": {
     "languageId": "shellscript"
    }
   },
   "outputs": [],
   "source": [
    "rm env_values"
   ]
  },
  {
   "cell_type": "markdown",
   "metadata": {},
   "source": [
    "## Memory\n",
    "\n",
    "The `-m` option allows you to specify the memory limit for the container. For more detailed information, refer to the [official documentation page](https://docs.docker.com/engine/containers/resource_constraints/#memory)."
   ]
  },
  {
   "cell_type": "markdown",
   "metadata": {},
   "source": [
    "---\n",
    "\n",
    "The following example launches two containers: one with the default `-m` option and another with `-m 1g`. It then displays the output of the `docker stats` command. "
   ]
  },
  {
   "cell_type": "code",
   "execution_count": 1,
   "metadata": {
    "vscode": {
     "languageId": "shellscript"
    }
   },
   "outputs": [
    {
     "name": "stdout",
     "output_type": "stream",
     "text": [
      "CONTAINER ID   NAME           CPU %     MEM USAGE / LIMIT   MEM %     NET I/O       BLOCK I/O   PIDS\n",
      "c697ea033dd4   memory_limit   0.00%     500KiB / 1GiB       0.05%     266B / 0B     0B / 0B     1\n",
      "b0c9337d2eb0   memory_full    0.00%     500KiB / 31.01GiB   0.00%     2.25kB / 0B   0B / 0B     1\n"
     ]
    }
   ],
   "source": [
    "docker run -itd --rm --name memory_full alpine &> /dev/null\n",
    "docker run -itd --rm -m 1g --name memory_limit alpine &> /dev/null\n",
    "\n",
    "docker stats --no-stream\n",
    "\n",
    "docker stop memory_full memory_limit &> /dev/null"
   ]
  },
  {
   "cell_type": "markdown",
   "metadata": {},
   "source": [
    "Notice that in the `MEM USAGE / LIMIT` column for the `memory_limit` container, the value is `1GiB`."
   ]
  },
  {
   "cell_type": "markdown",
   "metadata": {},
   "source": [
    "## CPUs\n",
    "\n",
    "The `--cpus` option of the `docker run` command allows you to specify the number of CPU cores that will be allocated to the running Docker container."
   ]
  },
  {
   "cell_type": "markdown",
   "metadata": {},
   "source": [
    "---\n",
    "\n",
    "As an example, consider an Alpine Docker container running the `stress-ng --cpu 3` command, which forces the system to utilize 3 CPU cores."
   ]
  },
  {
   "cell_type": "markdown",
   "metadata": {},
   "source": [
    "The following cell runs this container without any restrictions on the number of CPUs it can utilize."
   ]
  },
  {
   "cell_type": "code",
   "execution_count": 7,
   "metadata": {
    "vscode": {
     "languageId": "shellscript"
    }
   },
   "outputs": [
    {
     "name": "stdout",
     "output_type": "stream",
     "text": [
      "CONTAINER ID   NAME              CPU %     MEM USAGE / LIMIT     MEM %     NET I/O           BLOCK I/O   PIDS\n",
      "a310ffc6534e   cpu_experiments   301.56%   49.14MiB / 31.01GiB   0.15%     5.77MB / 75.6kB   0B / 0B     4\n"
     ]
    }
   ],
   "source": [
    "docker run -id --rm --name cpu_experiments alpine sh -c \\\n",
    "    \"apk update && apk add stress-ng && stress-ng --cpu 3\" &> /dev/nbull\n",
    "sleep 3\n",
    "docker stats --no-stream\n",
    "docker stop cpu_experiments &> /dev/null"
   ]
  },
  {
   "cell_type": "markdown",
   "metadata": {},
   "source": [
    "In the `docker stats` output, we observe 300% under the `CPU` column, indicating that all three CPU cores are being fully utilized. "
   ]
  },
  {
   "cell_type": "markdown",
   "metadata": {},
   "source": [
    "Now, we'll run a similar example, but with the key difference of using the `--cpus 2` option in the `docker run` command. "
   ]
  },
  {
   "cell_type": "code",
   "execution_count": 9,
   "metadata": {
    "vscode": {
     "languageId": "shellscript"
    }
   },
   "outputs": [
    {
     "name": "stdout",
     "output_type": "stream",
     "text": [
      "CONTAINER ID   NAME              CPU %     MEM USAGE / LIMIT     MEM %     NET I/O          BLOCK I/O   PIDS\n",
      "78c586383384   cpu_experiments   200.44%   49.13MiB / 31.01GiB   0.15%     5.86MB / 138kB   0B / 0B     4\n"
     ]
    }
   ],
   "source": [
    "docker run -id --rm --name cpu_experiments --cpus 2 alpine sh -c \\\n",
    "    \"apk update && apk add stress-ng && stress-ng --cpu 3\" &> /dev/null\n",
    "sleep 3\n",
    "docker stats --no-stream\n",
    "docker stop cpu_experiments &> /dev/null &> /dev/null"
   ]
  },
  {
   "cell_type": "markdown",
   "metadata": {},
   "source": [
    "Although `stress-ng` tries to use 3 CPU cores, in reality docker does not allow more than 2 cores."
   ]
  }
 ],
 "metadata": {
  "kernelspec": {
   "display_name": "Bash",
   "language": "bash",
   "name": "bash"
  },
  "language_info": {
   "codemirror_mode": "shell",
   "file_extension": ".sh",
   "mimetype": "text/x-sh",
   "name": "bash"
  }
 },
 "nbformat": 4,
 "nbformat_minor": 2
}
