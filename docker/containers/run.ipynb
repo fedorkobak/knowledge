{
 "cells": [
  {
   "cell_type": "markdown",
   "metadata": {},
   "source": [
    "# Run\n",
    "\n",
    "Here are some different options associated with running Docker containers."
   ]
  },
  {
   "cell_type": "markdown",
   "metadata": {},
   "source": [
    "## Memory\n",
    "\n",
    "The `-m` option allows you to specify the memory limit for the container. For more detailed information, refer to the [official documentation page](https://docs.docker.com/engine/containers/resource_constraints/#memory)."
   ]
  },
  {
   "cell_type": "markdown",
   "metadata": {},
   "source": [
    "---\n",
    "\n",
    "The following example launches two containers: one with the default `-m` option and another with `-m 1g`. It then displays the output of the `docker stats` command. "
   ]
  },
  {
   "cell_type": "code",
   "execution_count": 1,
   "metadata": {
    "vscode": {
     "languageId": "shellscript"
    }
   },
   "outputs": [
    {
     "name": "stdout",
     "output_type": "stream",
     "text": [
      "CONTAINER ID   NAME           CPU %     MEM USAGE / LIMIT   MEM %     NET I/O       BLOCK I/O   PIDS\n",
      "c697ea033dd4   memory_limit   0.00%     500KiB / 1GiB       0.05%     266B / 0B     0B / 0B     1\n",
      "b0c9337d2eb0   memory_full    0.00%     500KiB / 31.01GiB   0.00%     2.25kB / 0B   0B / 0B     1\n"
     ]
    }
   ],
   "source": [
    "docker run -itd --rm --name memory_full alpine &> /dev/null\n",
    "docker run -itd --rm -m 1g --name memory_limit alpine &> /dev/null\n",
    "\n",
    "docker stats --no-stream\n",
    "\n",
    "docker stop memory_full memory_limit &> /dev/null"
   ]
  },
  {
   "cell_type": "markdown",
   "metadata": {},
   "source": [
    "Notice that in the `MEM USAGE / LIMIT` column for the `memory_limit` container, the value is `1GiB`."
   ]
  },
  {
   "cell_type": "markdown",
   "metadata": {},
   "source": [
    "## CPUs\n",
    "\n",
    "The `--cpus` option of the `docker run` command allows you to specify the number of CPU cores that will be allocated to the running Docker container."
   ]
  },
  {
   "cell_type": "markdown",
   "metadata": {},
   "source": [
    "---\n",
    "\n",
    "As an example, consider an Alpine Docker container running the `stress-ng --cpu 3` command, which forces the system to utilize 3 CPU cores."
   ]
  },
  {
   "cell_type": "markdown",
   "metadata": {},
   "source": [
    "The following cell runs this container without any restrictions on the number of CPUs it can utilize."
   ]
  },
  {
   "cell_type": "code",
   "execution_count": 7,
   "metadata": {
    "vscode": {
     "languageId": "shellscript"
    }
   },
   "outputs": [
    {
     "name": "stdout",
     "output_type": "stream",
     "text": [
      "CONTAINER ID   NAME              CPU %     MEM USAGE / LIMIT     MEM %     NET I/O           BLOCK I/O   PIDS\n",
      "a310ffc6534e   cpu_experiments   301.56%   49.14MiB / 31.01GiB   0.15%     5.77MB / 75.6kB   0B / 0B     4\n"
     ]
    }
   ],
   "source": [
    "docker run -id --rm --name cpu_experiments alpine sh -c \\\n",
    "    \"apk update && apk add stress-ng && stress-ng --cpu 3\" &> /dev/nbull\n",
    "sleep 3\n",
    "docker stats --no-stream\n",
    "docker stop cpu_experiments &> /dev/null"
   ]
  },
  {
   "cell_type": "markdown",
   "metadata": {},
   "source": [
    "In the `docker stats` output, we observe 300% under the `CPU` column, indicating that all three CPU cores are being fully utilized. "
   ]
  },
  {
   "cell_type": "markdown",
   "metadata": {},
   "source": [
    "Now, we'll run a similar example, but with the key difference of using the `--cpus 2` option in the `docker run` command. "
   ]
  },
  {
   "cell_type": "code",
   "execution_count": 9,
   "metadata": {
    "vscode": {
     "languageId": "shellscript"
    }
   },
   "outputs": [
    {
     "name": "stdout",
     "output_type": "stream",
     "text": [
      "CONTAINER ID   NAME              CPU %     MEM USAGE / LIMIT     MEM %     NET I/O          BLOCK I/O   PIDS\n",
      "78c586383384   cpu_experiments   200.44%   49.13MiB / 31.01GiB   0.15%     5.86MB / 138kB   0B / 0B     4\n"
     ]
    }
   ],
   "source": [
    "docker run -id --rm --name cpu_experiments --cpus 2 alpine sh -c \\\n",
    "    \"apk update && apk add stress-ng && stress-ng --cpu 3\" &> /dev/null\n",
    "sleep 3\n",
    "docker stats --no-stream\n",
    "docker stop cpu_experiments &> /dev/null &> /dev/null"
   ]
  },
  {
   "cell_type": "markdown",
   "metadata": {},
   "source": [
    "Although `stress-ng` tries to use 3 CPU cores, in reality docker does not allow more than 2 cores."
   ]
  }
 ],
 "metadata": {
  "kernelspec": {
   "display_name": "Bash",
   "language": "bash",
   "name": "bash"
  },
  "language_info": {
   "codemirror_mode": "shell",
   "file_extension": ".sh",
   "mimetype": "text/x-sh",
   "name": "bash"
  }
 },
 "nbformat": 4,
 "nbformat_minor": 2
}
