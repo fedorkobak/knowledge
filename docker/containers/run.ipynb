{
 "cells": [
  {
   "cell_type": "markdown",
   "metadata": {},
   "source": [
    "# Run\n",
    "\n",
    "Here are some different options associated with running Docker containers."
   ]
  },
  {
   "cell_type": "markdown",
   "metadata": {},
   "source": [
    "## Memory\n",
    "\n",
    "The `-m` option allows you to specify the memory limit for the container. For more detailed information, refer to the [official documentation page](https://docs.docker.com/engine/containers/resource_constraints/#memory)."
   ]
  },
  {
   "cell_type": "markdown",
   "metadata": {},
   "source": [
    "---\n",
    "\n",
    "The following example launches two containers: one with the default `-m` option and another with `-m 1g`. It then displays the output of the `docker stats` command. "
   ]
  },
  {
   "cell_type": "code",
   "execution_count": 1,
   "metadata": {
    "vscode": {
     "languageId": "shellscript"
    }
   },
   "outputs": [
    {
     "name": "stdout",
     "output_type": "stream",
     "text": [
      "CONTAINER ID   NAME           CPU %     MEM USAGE / LIMIT   MEM %     NET I/O       BLOCK I/O   PIDS\n",
      "c697ea033dd4   memory_limit   0.00%     500KiB / 1GiB       0.05%     266B / 0B     0B / 0B     1\n",
      "b0c9337d2eb0   memory_full    0.00%     500KiB / 31.01GiB   0.00%     2.25kB / 0B   0B / 0B     1\n"
     ]
    }
   ],
   "source": [
    "docker run -itd --rm --name memory_full alpine &> /dev/null\n",
    "docker run -itd --rm -m 1g --name memory_limit alpine &> /dev/null\n",
    "\n",
    "docker stats --no-stream\n",
    "\n",
    "docker stop memory_full memory_limit &> /dev/null"
   ]
  },
  {
   "cell_type": "markdown",
   "metadata": {},
   "source": [
    "Notice that in the `MEM USAGE / LIMIT` column for the `memory_limit` container, the value is `1GiB`."
   ]
  }
 ],
 "metadata": {
  "kernelspec": {
   "display_name": "Bash",
   "language": "bash",
   "name": "bash"
  },
  "language_info": {
   "codemirror_mode": "shell",
   "file_extension": ".sh",
   "mimetype": "text/x-sh",
   "name": "bash"
  }
 },
 "nbformat": 4,
 "nbformat_minor": 2
}
