{
 "cells": [
  {
   "cell_type": "markdown",
   "id": "1f14db65-949e-4aa3-a712-4e3a100b8ce5",
   "metadata": {},
   "source": [
    "**Создание docker образа**"
   ]
  },
  {
   "attachments": {},
   "cell_type": "markdown",
   "id": "ddc34408",
   "metadata": {},
   "source": [
    "Создают \"Dockerfile\" (так и называется), который описывает конструируемый образ."
   ]
  },
  {
   "attachments": {},
   "cell_type": "markdown",
   "id": "0ea02164",
   "metadata": {},
   "source": [
    "Для того, чтобы собрать образ используется комманда `docker build`.\n"
   ]
  },
  {
   "attachments": {},
   "cell_type": "markdown",
   "id": "d14a6aa5",
   "metadata": {},
   "source": [
    "# `docker built` - сборка образа"
   ]
  },
  {
   "attachments": {},
   "cell_type": "markdown",
   "id": "53f0e13c",
   "metadata": {},
   "source": [
    "- `-t` - задать имя и тэг нашего образа;\n",
    "- `-f` - задать имя файла из которго собирается образ (но лучше всегда исопльзовать \"dockerfile\");"
   ]
  },
  {
   "cell_type": "code",
   "execution_count": 9,
   "id": "c998608b",
   "metadata": {},
   "outputs": [
    {
     "name": "stderr",
     "output_type": "stream",
     "text": [
      "#1 [internal] load build definition from my_first_dockerfile\n",
      "#1 transferring dockerfile: 144B done\n",
      "#1 DONE 0.0s\n",
      "\n",
      "#2 [internal] load .dockerignore\n",
      "#2 transferring context: 2B done\n",
      "#2 DONE 0.1s\n",
      "\n",
      "#3 [internal] load metadata for docker.io/library/ubuntu:20.04\n",
      "#3 DONE 0.8s\n",
      "\n",
      "#4 [1/2] FROM docker.io/library/ubuntu:20.04@sha256:4a45212e9518f35983a976eead0de5eecc555a2f047134e9dd2cfc589076a00d\n",
      "#4 DONE 0.0s\n",
      "\n",
      "#5 [2/2] WORKDIR /home/Dranikf\n",
      "#5 CACHED\n",
      "\n",
      "#6 exporting to image\n",
      "#6 exporting layers done\n",
      "#6 writing image sha256:22f900fb5004ca141af637bbb739ef7cef58e304a24779b8eb51c1a6bff9dc93 done\n",
      "#6 naming to docker.io/library/custom_ubuntu:test done\n",
      "#6 DONE 0.0s\n"
     ]
    },
    {
     "name": "stdout",
     "output_type": "stream",
     "text": [
      "REPOSITORY               TAG       IMAGE ID       CREATED          SIZE\n",
      "custom_ubuntu            test      22f900fb5004   12 minutes ago   72.8MB\n",
      "redis                    latest    888d403d53d8   5 days ago       117MB\n",
      "postgres                 latest    387fe63603d1   5 days ago       379MB\n",
      "ubuntu                   latest    58db3edaf2be   11 days ago      77.8MB\n",
      "node                     latest    3d8ab8fd7e2a   12 days ago      998MB\n",
      "python                   latest    63490c269128   13 days ago      934MB\n",
      "golang                   latest    8295ad49803f   3 weeks ago      992MB\n",
      "nginx                    1.23      a99a39d070bf   3 weeks ago      142MB\n",
      "nginx                    latest    a99a39d070bf   3 weeks ago      142MB\n",
      "kcoursedocker/task-2.9   latest    6975591fdaef   6 months ago     48.7MB\n",
      "hello-world              latest    feb5d9fea6a5   16 months ago    13.3kB\n"
     ]
    }
   ],
   "source": [
    "%%bash\n",
    "docker build -t custom_ubuntu:test -f my_first_dockerfile .\n",
    "docker images"
   ]
  },
  {
   "attachments": {},
   "cell_type": "markdown",
   "id": "2405a54a",
   "metadata": {},
   "source": [
    "Инструкции:\n",
    "- `FROM` - указыват на основе какого базового образа будет собираемый;\n",
    "- `WORKDIR` - задает рабочую директорию;\n",
    "- `COPY <компьютер> <контейнер>` скопировать файл в образ;\n",
    "- `RUN`  позволяет запустить некоторые команды.\n",
    "\n",
    "Пример образа использующего все эти команды. Предствален в файле `my_first_dockerfile` (образы так называть нельзя)."
   ]
  },
  {
   "attachments": {},
   "cell_type": "markdown",
   "id": "17516c0f",
   "metadata": {},
   "source": [
    "# Детали которые следует иметь ввиду"
   ]
  },
  {
   "attachments": {},
   "cell_type": "markdown",
   "id": "999bc06b",
   "metadata": {},
   "source": [
    "### Если файл создается в каком либо слое то он в образе навстегда"
   ]
  },
  {
   "attachments": {},
   "cell_type": "markdown",
   "id": "94e97f15",
   "metadata": {},
   "source": [
    "Удаление файла не уменьшает размер образа. То есть он захеширует даже файл который затем будет удален и он будет ходить за образом.\n",
    "\n",
    "**Для примера рассмотрим два dockerfile**\n",
    "\n",
    "Первый файл `dockerfile_rm_example1`:\n",
    "\n",
    "```\n",
    "    FROM ubuntu:20.04\n",
    "    COPY script.sh\n",
    "```\n",
    "\n",
    "Второй файл `dockerfile_rm_example2`:\n",
    "\n",
    "```\n",
    "    FROM ubunty:20.04\n",
    "    COPY script.sh\n",
    "    RUN rm script.sh\n",
    "```"
   ]
  },
  {
   "cell_type": "code",
   "execution_count": 4,
   "id": "e6d57b39",
   "metadata": {},
   "outputs": [
    {
     "name": "stderr",
     "output_type": "stream",
     "text": [
      "#1 [internal] load .dockerignore\n",
      "#1 transferring context: 2B done\n",
      "#1 DONE 0.0s\n",
      "\n",
      "#2 [internal] load build definition from Dockerfile_rm_example1\n",
      "#2 transferring dockerfile: 150B done\n",
      "#2 DONE 0.1s\n",
      "\n",
      "#3 [internal] load metadata for docker.io/library/ubuntu:20.04\n",
      "#3 DONE 0.6s\n",
      "\n",
      "#4 [1/2] FROM docker.io/library/ubuntu:20.04@sha256:4a45212e9518f35983a976eead0de5eecc555a2f047134e9dd2cfc589076a00d\n",
      "#4 DONE 0.0s\n",
      "\n",
      "#5 [internal] load build context\n",
      "#5 transferring context: 89B done\n",
      "#5 DONE 0.0s\n",
      "\n",
      "#6 [2/2] COPY script.sh script.sh\n",
      "#6 CACHED\n",
      "\n",
      "#7 exporting to image\n",
      "#7 exporting layers done\n",
      "#7 writing image sha256:e0101b7dadac1213bbb9f162f293e250b501dcb2f114a4db1e1382c2a6f45afe done\n",
      "#7 naming to docker.io/library/ubuntu_rm_example:1 done\n",
      "#7 DONE 0.0s\n",
      "#1 [internal] load .dockerignore\n",
      "#1 transferring context: 2B done\n",
      "#1 DONE 0.0s\n",
      "\n",
      "#2 [internal] load build definition from Dockerfile_rm_example2\n",
      "#2 transferring dockerfile: 167B done\n",
      "#2 DONE 0.0s\n",
      "\n",
      "#3 [internal] load metadata for docker.io/library/ubuntu:20.04\n",
      "#3 DONE 0.2s\n",
      "\n",
      "#4 [1/3] FROM docker.io/library/ubuntu:20.04@sha256:4a45212e9518f35983a976eead0de5eecc555a2f047134e9dd2cfc589076a00d\n",
      "#4 DONE 0.0s\n",
      "\n",
      "#5 [internal] load build context\n",
      "#5 transferring context: 89B done\n",
      "#5 DONE 0.0s\n",
      "\n",
      "#6 [2/3] COPY script.sh script.sh\n",
      "#6 CACHED\n",
      "\n",
      "#7 [3/3] RUN rm script.sh\n",
      "#7 DONE 0.3s\n",
      "\n",
      "#8 exporting to image\n",
      "#8 exporting layers\n",
      "#8 exporting layers 0.7s done\n",
      "#8 writing image sha256:adf81384c31af577c7b86f6ae86d59cdd14a4508fdab73701f8ac277677eeab8 done\n",
      "#8 naming to docker.io/library/ubunty_rm_exmaple:2 done\n",
      "#8 DONE 0.7s\n"
     ]
    },
    {
     "name": "stdout",
     "output_type": "stream",
     "text": [
      "REPOSITORY          TAG       IMAGE ID       CREATED          SIZE\n",
      "ubunty_rm_exmaple   2         adf81384c31a   1 second ago     72.8MB\n",
      "ubuntu_rm_example   1         e0101b7dadac   49 seconds ago   72.8MB\n"
     ]
    }
   ],
   "source": [
    "%%bash\n",
    "docker build -t ubuntu_rm_example:1 -f Dockerfile_rm_example1 .\n",
    "docker build -t ubunty_rm_exmaple:2 -f Dockerfile_rm_example2 .\n",
    "docker images"
   ]
  },
  {
   "attachments": {},
   "cell_type": "markdown",
   "id": "25b5fb33",
   "metadata": {},
   "source": [
    "Так обращаю внимание на колонку `SIZE` не смотря на то что во втором сборщике были удален файл по сравнению со воторым образом размеры образов не отличаются."
   ]
  }
 ],
 "metadata": {
  "kernelspec": {
   "display_name": "Python 3",
   "language": "python",
   "name": "python3"
  },
  "language_info": {
   "codemirror_mode": {
    "name": "ipython",
    "version": 3
   },
   "file_extension": ".py",
   "mimetype": "text/x-python",
   "name": "python",
   "nbconvert_exporter": "python",
   "pygments_lexer": "ipython3",
   "version": "3.11.1"
  },
  "vscode": {
   "interpreter": {
    "hash": "e7370f93d1d0cde622a1f8e1c04877d8463912d04d973331ad4851f04de6915a"
   }
  }
 },
 "nbformat": 4,
 "nbformat_minor": 5
}
