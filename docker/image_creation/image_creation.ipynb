{
 "cells": [
  {
   "cell_type": "markdown",
   "id": "1f14db65-949e-4aa3-a712-4e3a100b8ce5",
   "metadata": {},
   "source": [
    "**Создание docker образа**"
   ]
  },
  {
   "attachments": {},
   "cell_type": "markdown",
   "id": "ddc34408",
   "metadata": {},
   "source": [
    "Создают \"Dockerfile\" (так и называется), который описывает конструируемый образ."
   ]
  },
  {
   "attachments": {},
   "cell_type": "markdown",
   "id": "0ea02164",
   "metadata": {},
   "source": [
    "Для того, чтобы собрать образ используется комманда `docker build`.\n"
   ]
  },
  {
   "attachments": {},
   "cell_type": "markdown",
   "id": "d14a6aa5",
   "metadata": {},
   "source": [
    "# `docker built` - сборка образа"
   ]
  },
  {
   "attachments": {},
   "cell_type": "markdown",
   "id": "53f0e13c",
   "metadata": {},
   "source": [
    "- `-t` - задать имя и тэг нашего образа;\n",
    "- `-f` - задать имя файла из которго собирается образ (но лучше всегда исопльзовать \"dockerfile\");"
   ]
  },
  {
   "cell_type": "code",
   "execution_count": 9,
   "id": "c998608b",
   "metadata": {},
   "outputs": [
    {
     "name": "stderr",
     "output_type": "stream",
     "text": [
      "#1 [internal] load build definition from my_first_dockerfile\n",
      "#1 transferring dockerfile: 144B done\n",
      "#1 DONE 0.0s\n",
      "\n",
      "#2 [internal] load .dockerignore\n",
      "#2 transferring context: 2B done\n",
      "#2 DONE 0.1s\n",
      "\n",
      "#3 [internal] load metadata for docker.io/library/ubuntu:20.04\n",
      "#3 DONE 0.8s\n",
      "\n",
      "#4 [1/2] FROM docker.io/library/ubuntu:20.04@sha256:4a45212e9518f35983a976eead0de5eecc555a2f047134e9dd2cfc589076a00d\n",
      "#4 DONE 0.0s\n",
      "\n",
      "#5 [2/2] WORKDIR /home/Dranikf\n",
      "#5 CACHED\n",
      "\n",
      "#6 exporting to image\n",
      "#6 exporting layers done\n",
      "#6 writing image sha256:22f900fb5004ca141af637bbb739ef7cef58e304a24779b8eb51c1a6bff9dc93 done\n",
      "#6 naming to docker.io/library/custom_ubuntu:test done\n",
      "#6 DONE 0.0s\n"
     ]
    },
    {
     "name": "stdout",
     "output_type": "stream",
     "text": [
      "REPOSITORY               TAG       IMAGE ID       CREATED          SIZE\n",
      "custom_ubuntu            test      22f900fb5004   12 minutes ago   72.8MB\n",
      "redis                    latest    888d403d53d8   5 days ago       117MB\n",
      "postgres                 latest    387fe63603d1   5 days ago       379MB\n",
      "ubuntu                   latest    58db3edaf2be   11 days ago      77.8MB\n",
      "node                     latest    3d8ab8fd7e2a   12 days ago      998MB\n",
      "python                   latest    63490c269128   13 days ago      934MB\n",
      "golang                   latest    8295ad49803f   3 weeks ago      992MB\n",
      "nginx                    1.23      a99a39d070bf   3 weeks ago      142MB\n",
      "nginx                    latest    a99a39d070bf   3 weeks ago      142MB\n",
      "kcoursedocker/task-2.9   latest    6975591fdaef   6 months ago     48.7MB\n",
      "hello-world              latest    feb5d9fea6a5   16 months ago    13.3kB\n"
     ]
    }
   ],
   "source": [
    "%%bash\n",
    "docker build -t custom_ubuntu:test -f my_first_dockerfile .\n",
    "docker images"
   ]
  },
  {
   "attachments": {},
   "cell_type": "markdown",
   "id": "2405a54a",
   "metadata": {},
   "source": [
    "Тэги:\n",
    "- `FROM` - указыват на основе какого базового образа будет собираемый;\n",
    "- `WORKDIR` - задает рабочую директорию;\n",
    "- `COPY <компьютер> <контейнер>` скопировать файл в образ."
   ]
  },
  {
   "cell_type": "code",
   "execution_count": null,
   "id": "fa83f1bc",
   "metadata": {},
   "outputs": [],
   "source": [
    "%%bash\n",
    "docker --rm -it custom_ubuntu"
   ]
  }
 ],
 "metadata": {
  "kernelspec": {
   "display_name": "Python 3",
   "language": "python",
   "name": "python3"
  },
  "language_info": {
   "codemirror_mode": {
    "name": "ipython",
    "version": 3
   },
   "file_extension": ".py",
   "mimetype": "text/x-python",
   "name": "python",
   "nbconvert_exporter": "python",
   "pygments_lexer": "ipython3",
   "version": "3.11.1"
  },
  "vscode": {
   "interpreter": {
    "hash": "e7370f93d1d0cde622a1f8e1c04877d8463912d04d973331ad4851f04de6915a"
   }
  }
 },
 "nbformat": 4,
 "nbformat_minor": 5
}
