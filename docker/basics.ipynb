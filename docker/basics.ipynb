{
 "cells": [
  {
   "cell_type": "markdown",
   "id": "c021dc68-af99-490b-a6c3-36a0277b9a5c",
   "metadata": {},
   "source": [
    "**Обзор возможностей программы `docker`**"
   ]
  },
  {
   "cell_type": "markdown",
   "id": "921346d6-6fa2-4521-8700-ee4d10b071d5",
   "metadata": {},
   "source": [
    "# Источники\n",
    "\n",
    "- <a href=\"https://docs.docker.com/engine/install/fedora/\">Установка docker</a>;\n",
    "- <a herf=\"https://docs.docker.com/engine/install/linux-postinstall/\"> После установки докера может быть полезно</a>;\n",
    "    - Как посторянно не указывать `sudo` перед использованием команды `docker`;\n",
    "    - Что-то еще пока не понятное.\n",
    "- <a herf=\"https://docs.docker.com/config/daemon/start/\"> Зпустить демон</a> `sudo systemctl start docker`;\n",
    "- <a herf=\"https://lab.karpov.courses/learning/102/\"> Курс по docker</a>."
   ]
  },
  {
   "cell_type": "markdown",
   "id": "f4cb85d5-ca3b-4912-af2a-f5195908dedb",
   "metadata": {
    "tags": []
   },
   "source": [
    "# Основные команды"
   ]
  },
  {
   "cell_type": "markdown",
   "id": "b24764c8-9deb-48c6-be10-2297f78ccaaa",
   "metadata": {
    "tags": []
   },
   "source": [
    "### `docker pull` - скачать образ\n",
    "\n",
    "Нужно передать одно из:\n",
    "- `<название образа>:<тэг>` (`<тэг>` - по умолчанию `latest`);\n",
    "- `IMAGE ID` - id образа."
   ]
  },
  {
   "cell_type": "code",
   "execution_count": 30,
   "id": "4d241185-82f5-4ac3-9757-14c6d687fa58",
   "metadata": {},
   "outputs": [
    {
     "name": "stdout",
     "output_type": "stream",
     "text": [
      "REPOSITORY   TAG       IMAGE ID   CREATED   SIZE\n",
      "=====================================\n",
      "latest: Pulling from library/hello-world\n",
      "2db29710123e: Pulling fs layer\n",
      "2db29710123e: Verifying Checksum\n",
      "2db29710123e: Download complete\n",
      "2db29710123e: Pull complete\n",
      "Digest: sha256:aa0cc8055b82dc2509bed2e19b275c8f463506616377219d9642221ab53cf9fe\n",
      "Status: Downloaded newer image for hello-world:latest\n",
      "docker.io/library/hello-world:latest\n",
      "=====================================\n",
      "REPOSITORY    TAG       IMAGE ID       CREATED         SIZE\n",
      "hello-world   latest    feb5d9fea6a5   16 months ago   13.3kB\n"
     ]
    }
   ],
   "source": [
    "%%bash\n",
    "docker images\n",
    "echo \"=====================================\"\n",
    "docker pull hello-world:latest\n",
    "echo \"=====================================\"\n",
    "docker images"
   ]
  },
  {
   "cell_type": "markdown",
   "id": "d6eadbf8-e659-485e-9260-57c98b3f4a45",
   "metadata": {},
   "source": [
    "### `docker images` - вывести список достусных образов;"
   ]
  },
  {
   "cell_type": "code",
   "execution_count": 31,
   "id": "b674018c-2418-49cc-acae-a46435fd8d50",
   "metadata": {},
   "outputs": [
    {
     "name": "stdout",
     "output_type": "stream",
     "text": [
      "REPOSITORY    TAG       IMAGE ID       CREATED         SIZE\n",
      "hello-world   latest    feb5d9fea6a5   16 months ago   13.3kB\n"
     ]
    }
   ],
   "source": [
    "%%bash\n",
    "docker images"
   ]
  },
  {
   "cell_type": "markdown",
   "id": "40c79725-0845-4151-8083-812c8600e6b6",
   "metadata": {},
   "source": [
    "##### `--a`,`--all` - вывести все образы, по умолчанию;"
   ]
  },
  {
   "cell_type": "code",
   "execution_count": 32,
   "id": "0825b323-6a44-4879-8e43-68b38e5bf01f",
   "metadata": {},
   "outputs": [
    {
     "name": "stdout",
     "output_type": "stream",
     "text": [
      "REPOSITORY    TAG       IMAGE ID       CREATED         SIZE\n",
      "hello-world   latest    feb5d9fea6a5   16 months ago   13.3kB\n"
     ]
    }
   ],
   "source": [
    "%%bash\n",
    "docker images --all"
   ]
  },
  {
   "cell_type": "markdown",
   "id": "1c56871d-08c0-445f-8b7c-28d738b63ee3",
   "metadata": {},
   "source": [
    "##### `--digests` вывести дайджсты (пока неизвестно, что это такое)."
   ]
  },
  {
   "cell_type": "code",
   "execution_count": 33,
   "id": "07566397-3c5b-40da-86e0-c0d9ad159430",
   "metadata": {},
   "outputs": [
    {
     "name": "stdout",
     "output_type": "stream",
     "text": [
      "REPOSITORY    TAG       DIGEST                                                                    IMAGE ID       CREATED         SIZE\n",
      "hello-world   latest    sha256:aa0cc8055b82dc2509bed2e19b275c8f463506616377219d9642221ab53cf9fe   feb5d9fea6a5   16 months ago   13.3kB\n"
     ]
    }
   ],
   "source": [
    "%%bash\n",
    "docker images --digests"
   ]
  },
  {
   "cell_type": "markdown",
   "id": "1f03801f-ebb6-494e-987c-4c6007391a65",
   "metadata": {},
   "source": [
    "##### `--format` позволяет задать формат вывода, используя GO-шаблоны."
   ]
  },
  {
   "cell_type": "code",
   "execution_count": 34,
   "id": "567a1fea-1e10-4db8-8ca0-593d7d72537a",
   "metadata": {},
   "outputs": [
    {
     "name": "stdout",
     "output_type": "stream",
     "text": [
      "hello-world:latest\n"
     ]
    }
   ],
   "source": [
    "%%bash\n",
    "docker images --format '{{.Repository}}:{{.Tag}}'"
   ]
  },
  {
   "cell_type": "markdown",
   "id": "c365a654-d832-4cd0-ad3a-70c1db129474",
   "metadata": {},
   "source": [
    "##### `--no-trunc` - не усекать вывод;"
   ]
  },
  {
   "cell_type": "code",
   "execution_count": 35,
   "id": "e1a159bc-c722-45e0-abe4-fb4de9e84ae0",
   "metadata": {},
   "outputs": [
    {
     "name": "stdout",
     "output_type": "stream",
     "text": [
      "REPOSITORY    TAG       IMAGE ID                                                                  CREATED         SIZE\n",
      "hello-world   latest    sha256:feb5d9fea6a5e9606aa995e879d862b825965ba48de054caab5ef356dc6b3412   16 months ago   13.3kB\n"
     ]
    }
   ],
   "source": [
    "%%bash\n",
    "docker images --no-trunc"
   ]
  },
  {
   "cell_type": "markdown",
   "id": "0a84d44a-7851-43e7-885a-ed0e098ea94c",
   "metadata": {},
   "source": [
    "##### `-q`, `--quiet` - выводить только ID доступных образов."
   ]
  },
  {
   "cell_type": "code",
   "execution_count": 36,
   "id": "4e60b4a7-35b3-4f16-94ce-450b679a9733",
   "metadata": {},
   "outputs": [
    {
     "name": "stdout",
     "output_type": "stream",
     "text": [
      "feb5d9fea6a5\n"
     ]
    }
   ],
   "source": [
    "%%bash\n",
    "docker images -q"
   ]
  },
  {
   "cell_type": "markdown",
   "id": "cd3b8bc4-0a82-43ad-87b5-d98b67187dd7",
   "metadata": {},
   "source": [
    "Очень полезно знать эту команду потому как её результаты можно подвать в другие комманды используя `<Некоторая комманда> $(docker ps -a)`"
   ]
  },
  {
   "cell_type": "code",
   "execution_count": 10,
   "id": "19037f4a-8c92-4a5f-8255-ab602c42a09a",
   "metadata": {},
   "outputs": [
    {
     "name": "stdout",
     "output_type": "stream",
     "text": [
      "CONTAINER ID   IMAGE     COMMAND     CREATED         STATUS                              PORTS     NAMES\n",
      "69a836679573   python    \"python3\"   1 second ago    Exited (0) Less than a second ago             vigilant_wilbur\n",
      "571b2f10bbe6   python    \"python3\"   1 second ago    Exited (0) Less than a second ago             awesome_tharp\n",
      "80b2a0870f96   python    \"python3\"   2 seconds ago   Exited (0) Less than a second ago             youthful_carver\n",
      "b766b4a41586   python    \"python3\"   2 seconds ago   Exited (0) 1 second ago                       hardcore_panini\n",
      "69a836679573\n",
      "571b2f10bbe6\n",
      "80b2a0870f96\n",
      "b766b4a41586\n",
      "CONTAINER ID   IMAGE     COMMAND   CREATED   STATUS    PORTS     NAMES\n"
     ]
    }
   ],
   "source": [
    "%%bash\n",
    "docker run python\n",
    "docker run python\n",
    "docker run python\n",
    "docker run python\n",
    "docker ps -a\n",
    "docker rm $(docker ps -aq)\n",
    "docker ps -a"
   ]
  },
  {
   "cell_type": "markdown",
   "id": "5d0e0a99-261f-4f2d-8949-440594e848bf",
   "metadata": {
    "tags": []
   },
   "source": [
    "### `docker rmi` - удалить образ по ID или по имени\n",
    "\n",
    "Нужно передать одно из:\n",
    "- `<название образа>:<тэг>` (`<тэг>` - по умолчанию `latest`);\n",
    "- `IMAGE ID` - id образа."
   ]
  },
  {
   "cell_type": "code",
   "execution_count": 39,
   "id": "ac8279a4-57bc-4cd6-b386-e24bd93a5813",
   "metadata": {},
   "outputs": [
    {
     "name": "stdout",
     "output_type": "stream",
     "text": [
      "REPOSITORY    TAG       IMAGE ID       CREATED         SIZE\n",
      "hello-world   latest    feb5d9fea6a5   16 months ago   13.3kB\n",
      "===========================\n",
      "Untagged: hello-world:latest\n",
      "Untagged: hello-world@sha256:aa0cc8055b82dc2509bed2e19b275c8f463506616377219d9642221ab53cf9fe\n",
      "Deleted: sha256:feb5d9fea6a5e9606aa995e879d862b825965ba48de054caab5ef356dc6b3412\n",
      "Deleted: sha256:e07ee1baac5fae6a26f30cabfe54a36d3402f96afda318fe0a96cec4ca393359\n",
      "===========================\n",
      "REPOSITORY   TAG       IMAGE ID   CREATED   SIZE\n"
     ]
    }
   ],
   "source": [
    "%%bash\n",
    "docker images\n",
    "echo \"===========================\"\n",
    "docker rmi hello-world:latest\n",
    "echo \"===========================\"\n",
    "docker images"
   ]
  },
  {
   "cell_type": "markdown",
   "id": "18178e42-5ae3-4350-90e8-9db5c998eb78",
   "metadata": {},
   "source": [
    "### `docker ps` - вывести контейнеры;"
   ]
  },
  {
   "cell_type": "code",
   "execution_count": 40,
   "id": "77a3ec2b-19e9-4dd0-b241-5969f11d3412",
   "metadata": {},
   "outputs": [
    {
     "name": "stdout",
     "output_type": "stream",
     "text": [
      "CONTAINER ID   IMAGE     COMMAND   CREATED   STATUS    PORTS     NAMES\n"
     ]
    }
   ],
   "source": [
    "%%bash\n",
    "docker ps"
   ]
  },
  {
   "cell_type": "markdown",
   "id": "30a10853-732c-4dab-a892-84f887790acc",
   "metadata": {},
   "source": [
    "##### `-a` вывести все контейнеры (по умолчанию неактивные контейневы скрыты);"
   ]
  },
  {
   "cell_type": "code",
   "execution_count": 15,
   "id": "08a3c39b-0c50-41ba-b10a-1fdb22751323",
   "metadata": {},
   "outputs": [
    {
     "name": "stdout",
     "output_type": "stream",
     "text": [
      "CONTAINER ID   IMAGE     COMMAND   CREATED   STATUS    PORTS     NAMES\n",
      "======================\n",
      "CONTAINER ID   IMAGE     COMMAND                  CREATED        STATUS                              PORTS     NAMES\n",
      "8dee76b86ecf   node      \"docker-entrypoint.s…\"   1 second ago   Exited (0) Less than a second ago             compassionate_visvesvaraya\n"
     ]
    }
   ],
   "source": [
    "%%bash\n",
    "docker run node\n",
    "docker ps\n",
    "echo \"======================\"\n",
    "docker ps -a"
   ]
  },
  {
   "cell_type": "markdown",
   "id": "91cc680c-4fc1-44f9-a748-726f154a0b4d",
   "metadata": {},
   "source": [
    "### `docker history` - вывести слои некого образа"
   ]
  },
  {
   "cell_type": "code",
   "execution_count": null,
   "id": "0ce995ee-8ae3-48e0-a6a6-592adef8b9ad",
   "metadata": {},
   "outputs": [],
   "source": []
  },
  {
   "cell_type": "markdown",
   "id": "af79c17f-c05e-4ae0-8172-e78c33d54e20",
   "metadata": {},
   "source": [
    "### `docker run` - запустить некоторый контейнер"
   ]
  },
  {
   "cell_type": "code",
   "execution_count": 14,
   "id": "9f27698b-78c4-4a99-a80f-9e7a7b3826fe",
   "metadata": {},
   "outputs": [
    {
     "name": "stdout",
     "output_type": "stream",
     "text": [
      "CONTAINER ID   IMAGE     COMMAND   CREATED   STATUS    PORTS     NAMES\n",
      "=====================================\n",
      "CONTAINER ID   IMAGE     COMMAND                  CREATED        STATUS                              PORTS     NAMES\n",
      "ac8ed03c3af5   node      \"docker-entrypoint.s…\"   1 second ago   Exited (0) Less than a second ago             kind_goldwasser\n"
     ]
    }
   ],
   "source": [
    "%%bash\n",
    "docker ps -a\n",
    "echo \"=====================================\"\n",
    "docker run node\n",
    "docker ps -a"
   ]
  },
  {
   "cell_type": "markdown",
   "id": "7bccfbae-77f9-4e01-8a71-ebce63920a7c",
   "metadata": {},
   "source": [
    "##### `-rm` - проиводится автоматическое удаление контейнера, когда он выполниться. Далее приведен пример в котором загружается образ `hello-world` который после запуска выполнения будет удален даже из списка неакивных контейнеров."
   ]
  },
  {
   "cell_type": "code",
   "execution_count": 3,
   "id": "a239fda7-4995-4597-8792-56b16298aeb5",
   "metadata": {},
   "outputs": [
    {
     "name": "stdout",
     "output_type": "stream",
     "text": [
      "Using default tag: latest\n",
      "latest: Pulling from library/hello-world\n",
      "2db29710123e: Pulling fs layer\n",
      "2db29710123e: Download complete\n",
      "2db29710123e: Pull complete\n",
      "Digest: sha256:aa0cc8055b82dc2509bed2e19b275c8f463506616377219d9642221ab53cf9fe\n",
      "Status: Downloaded newer image for hello-world:latest\n",
      "docker.io/library/hello-world:latest\n",
      "\n",
      "Hello from Docker!\n",
      "This message shows that your installation appears to be working correctly.\n",
      "\n",
      "To generate this message, Docker took the following steps:\n",
      " 1. The Docker client contacted the Docker daemon.\n",
      " 2. The Docker daemon pulled the \"hello-world\" image from the Docker Hub.\n",
      "    (amd64)\n",
      " 3. The Docker daemon created a new container from that image which runs the\n",
      "    executable that produces the output you are currently reading.\n",
      " 4. The Docker daemon streamed that output to the Docker client, which sent it\n",
      "    to your terminal.\n",
      "\n",
      "To try something more ambitious, you can run an Ubuntu container with:\n",
      " $ docker run -it ubuntu bash\n",
      "\n",
      "Share images, automate workflows, and more with a free Docker ID:\n",
      " https://hub.docker.com/\n",
      "\n",
      "For more examples and ideas, visit:\n",
      " https://docs.docker.com/get-started/\n",
      "\n",
      "CONTAINER ID   IMAGE     COMMAND   CREATED   STATUS    PORTS     NAMES\n"
     ]
    }
   ],
   "source": [
    "%%bash\n",
    "docker pull hello-world\n",
    "docker run --rm hello-world\n",
    "docker ps -a"
   ]
  },
  {
   "cell_type": "markdown",
   "id": "dd786ca0-9f8d-447d-b060-1b2de6449c73",
   "metadata": {},
   "source": [
    "##### `-d` позволяет запусить контейнер в фоновом режиме, то есть упавление терминалом не будет перехвачено запущенной программой. Так например образ `nginx` при запуске без опции `-d` перехватил бы управление. Но в примере далее все получается нормально;"
   ]
  },
  {
   "cell_type": "code",
   "execution_count": 3,
   "id": "2fa508b8-1259-4ece-bd4d-be685d53e27f",
   "metadata": {},
   "outputs": [
    {
     "name": "stdout",
     "output_type": "stream",
     "text": [
      "ddba1811316c5e2decd75519be97e0d8ab063bde5fde5b3779eba34265d8d946\n",
      "CONTAINER ID   IMAGE     COMMAND                  CREATED                  STATUS                  PORTS     NAMES\n",
      "ddba1811316c   nginx     \"/docker-entrypoint.…\"   Less than a second ago   Up Less than a second   80/tcp    hardcore_mendeleev\n"
     ]
    }
   ],
   "source": [
    "%%bash\n",
    "docker run --rm -d nginx\n",
    "docker ps"
   ]
  },
  {
   "cell_type": "markdown",
   "id": "bd35bdcb-ae7c-4dbc-96d4-27d26569b149",
   "metadata": {},
   "source": [
    "##### `-i` выйти в интерактивный режим;\n",
    "\n",
    "К сожалению в jupyter не запускается, потому вставлю скрин:<br>\n",
    "<img src=\"basics.png\"></img>"
   ]
  },
  {
   "cell_type": "markdown",
   "id": "59833858-df8c-4e1c-942d-ae5420b2e050",
   "metadata": {},
   "source": [
    "##### `-t` подключить терминал или вызвать TTY\n",
    "\n",
    "К сожалению в jupyter не запускается, потому вставлю скрин:<br>\n",
    "<img src=\"basics.png\"></img>"
   ]
  },
  {
   "cell_type": "markdown",
   "id": "9b3dffdc-1798-408f-9159-e254d132ee14",
   "metadata": {},
   "source": [
    "### `docker start` - вернуть в активное состояние некоторый неактивный контейнер"
   ]
  },
  {
   "cell_type": "code",
   "execution_count": 8,
   "id": "17df568c-54b8-457f-b95e-a54a63df00ad",
   "metadata": {},
   "outputs": [
    {
     "name": "stdout",
     "output_type": "stream",
     "text": [
      "90082dd7c88a0885fb05425c0f648b49be446b5f8c9f99ab2b90ec26e347373f\n",
      "90082dd7c88a\n",
      "CONTAINER ID   IMAGE     COMMAND   CREATED   STATUS    PORTS     NAMES\n",
      "CONTAINER ID   IMAGE     COMMAND                  CREATED                  STATUS                              PORTS     NAMES\n",
      "90082dd7c88a   nginx     \"/docker-entrypoint.…\"   Less than a second ago   Exited (0) Less than a second ago             jolly_lamarr\n",
      "90082dd7c88a\n",
      "CONTAINER ID   IMAGE     COMMAND                  CREATED                  STATUS                  PORTS     NAMES\n",
      "90082dd7c88a   nginx     \"/docker-entrypoint.…\"   Less than a second ago   Up Less than a second   80/tcp    jolly_lamarr\n"
     ]
    }
   ],
   "source": [
    "%%bash\n",
    "docker run -d nginx\n",
    "docker stop $(docker ps -q)\n",
    "docker ps\n",
    "docker ps -a\n",
    "docker start $(docker ps -aq)\n",
    "docker ps"
   ]
  },
  {
   "cell_type": "markdown",
   "id": "1b381f55-46a7-4f73-864b-329a80d70e5c",
   "metadata": {},
   "source": [
    "### `docker stop` позволяет отановить некоторый активный контейнер"
   ]
  },
  {
   "cell_type": "code",
   "execution_count": 9,
   "id": "93252e31-c173-4e2d-b0a4-37e0f46a705b",
   "metadata": {},
   "outputs": [
    {
     "name": "stdout",
     "output_type": "stream",
     "text": [
      "f3841b6c7c465da981aa9bf6548a11f7a996a20633bd22cf8da10efbcdcd643a\n",
      "f3841b6c7c46\n",
      "CONTAINER ID   IMAGE     COMMAND   CREATED   STATUS    PORTS     NAMES\n",
      "CONTAINER ID   IMAGE     COMMAND                  CREATED                  STATUS                              PORTS     NAMES\n",
      "f3841b6c7c46   nginx     \"/docker-entrypoint.…\"   Less than a second ago   Exited (0) Less than a second ago             elegant_franklin\n"
     ]
    }
   ],
   "source": [
    "%%bash\n",
    "docker run -d nginx\n",
    "docker stop $(docker ps -q)\n",
    "docker ps\n",
    "docker ps -a"
   ]
  },
  {
   "cell_type": "markdown",
   "id": "83832a07-3525-48b0-a922-d474b88eefb4",
   "metadata": {},
   "source": [
    "### `docker exec` позволит выполнить команду в запущенном контейнере"
   ]
  },
  {
   "cell_type": "markdown",
   "id": "e029f73c-3463-4509-866c-6778ee25faec",
   "metadata": {},
   "source": [
    "Вот пример использования с подключением TTY и интерактивыным режимом (на большее пока расчитывать не приходится). Там я поднимаю контейнер с nginx и вызываю в нем bash, выполняю пару комманд и выхожу."
   ]
  },
  {
   "cell_type": "markdown",
   "id": "14008719-2a86-4ea9-a8cd-a2d5122a45ad",
   "metadata": {},
   "source": [
    "<img src=\"basics_exec_it_bash.png\"></img>"
   ]
  }
 ],
 "metadata": {
  "kernelspec": {
   "display_name": "Python 3 (ipykernel)",
   "language": "python",
   "name": "python3"
  },
  "language_info": {
   "codemirror_mode": {
    "name": "ipython",
    "version": 3
   },
   "file_extension": ".py",
   "mimetype": "text/x-python",
   "name": "python",
   "nbconvert_exporter": "python",
   "pygments_lexer": "ipython3",
   "version": "3.11.1"
  }
 },
 "nbformat": 4,
 "nbformat_minor": 5
}
