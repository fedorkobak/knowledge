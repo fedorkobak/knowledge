{
 "cells": [
  {
   "attachments": {},
   "cell_type": "markdown",
   "metadata": {},
   "source": [
    "**Работа с сетями в docker**\n",
    "\n",
    "Реализуется через API network."
   ]
  },
  {
   "attachments": {},
   "cell_type": "markdown",
   "metadata": {},
   "source": [
    "# `ls`\n",
    "\n",
    "Выведет список доступных сетей."
   ]
  },
  {
   "cell_type": "code",
   "execution_count": 1,
   "metadata": {},
   "outputs": [
    {
     "name": "stdout",
     "output_type": "stream",
     "text": [
      "NETWORK ID     NAME      DRIVER    SCOPE\n",
      "cac8977da21a   bridge    bridge    local\n",
      "f8b2503d0640   host      host      local\n",
      "b1d7e6bda275   none      null      local\n"
     ]
    }
   ],
   "source": [
    "%%bash\n",
    "docker network ls"
   ]
  },
  {
   "attachments": {},
   "cell_type": "markdown",
   "metadata": {},
   "source": [
    "# Подключение к сети\n",
    "\n",
    "Производится, через указывание опции `--net=<имя/id сети>`. Далее в примере демонстрирую, что как минимум ничего не сломалось."
   ]
  },
  {
   "cell_type": "code",
   "execution_count": 5,
   "metadata": {},
   "outputs": [
    {
     "name": "stdout",
     "output_type": "stream",
     "text": [
      "ee6e4f29315a7fcf3a5ad2ee39cdb86bb178ebb296563fee73b432a30799a33c\n",
      "just_net\n"
     ]
    }
   ],
   "source": [
    "%%bash\n",
    "docker run --rm -di --net=none --name just_net ubuntu_curl\n",
    "docker stop just_net"
   ]
  },
  {
   "attachments": {},
   "cell_type": "markdown",
   "metadata": {},
   "source": [
    "# Сети по умолчанию\n",
    "\n",
    "В docker по умолчанию доступно 3 сети:"
   ]
  },
  {
   "cell_type": "code",
   "execution_count": 2,
   "metadata": {},
   "outputs": [
    {
     "name": "stdout",
     "output_type": "stream",
     "text": [
      "NETWORK ID     NAME      DRIVER    SCOPE\n",
      "cac8977da21a   bridge    bridge    local\n",
      "f8b2503d0640   host      host      local\n",
      "b1d7e6bda275   none      null      local\n"
     ]
    }
   ],
   "source": [
    "%%bash\n",
    "docker network ls"
   ]
  },
  {
   "attachments": {},
   "cell_type": "markdown",
   "metadata": {},
   "source": [
    "### Сеть none\n",
    "\n",
    "Производит полное блокирование контейнера от сети."
   ]
  },
  {
   "attachments": {},
   "cell_type": "markdown",
   "metadata": {},
   "source": [
    "Так попробуем запустить clickhouse на этой сети и сделать к нему запрос. `curl: (7) Failed to connect to localhost port 8123 after 0 ms: Connection refused` свидетельствует о том, что по заданному адресу ничего не отвечат."
   ]
  },
  {
   "cell_type": "code",
   "execution_count": 5,
   "metadata": {},
   "outputs": [
    {
     "name": "stdout",
     "output_type": "stream",
     "text": [
      "05db6909cc4de9e808ffe927ad06594fafce9ea6e0a54e6fadf38f04e266759b\n"
     ]
    },
    {
     "name": "stderr",
     "output_type": "stream",
     "text": [
      "  % Total    % Received % Xferd  Average Speed   Time    Time     Time  Current\n",
      "                                 Dload  Upload   Total   Spent    Left  Speed\n",
      "  0     0    0     0    0     0      0      0 --:--:-- --:--:-- --:--:--     0\n",
      "curl: (7) Failed to connect to localhost port 8123 after 0 ms: Connection refused\n"
     ]
    },
    {
     "name": "stdout",
     "output_type": "stream",
     "text": [
      "none_example\n"
     ]
    }
   ],
   "source": [
    "%%bash\n",
    "docker run --rm -d --name none_example -p 8123:8123 --net=none yandex/clickhouse-server\n",
    "# нельзя забывать, что clickhouse долговато поднимается\n",
    "sleep 10\n",
    "curl localhost:8123\n",
    "docker stop none_example"
   ]
  },
  {
   "attachments": {},
   "cell_type": "markdown",
   "metadata": {},
   "source": [
    "Так же из нутри контейнера, нельзя будет достучаться в интернет. Так в следующем примере я запускаю ubuntu с предустановленным curl и получаю, и не могу из него достучаться до google.com. `curl: (6) Could not resolve host: google.com` свидетельсвует о том, что из контейнера не получается достучаться до google.com."
   ]
  },
  {
   "cell_type": "code",
   "execution_count": 2,
   "metadata": {},
   "outputs": [
    {
     "name": "stdout",
     "output_type": "stream",
     "text": [
      "3dd6e8e5f072ff86380acf7f092093bb96a1a1d7a3b091aaaf32d6ee21763e3c\n"
     ]
    },
    {
     "name": "stderr",
     "output_type": "stream",
     "text": [
      "  % Total    % Received % Xferd  Average Speed   Time    Time     Time  Current\n",
      "                                 Dload  Upload   Total   Spent    Left  Speed\n",
      "  0     0    0     0    0     0      0      0 --:--:-- --:--:-- --:--:--     0curl: (6) Could not resolve host: google.com\n"
     ]
    },
    {
     "name": "stdout",
     "output_type": "stream",
     "text": [
      "none_example\n"
     ]
    }
   ],
   "source": [
    "%%bash\n",
    "docker run -itd --rm --net=none --name none_example ubuntu_curl\n",
    "docker exec none_example curl google.com\n",
    "docker stop none_example"
   ]
  },
  {
   "attachments": {},
   "cell_type": "markdown",
   "metadata": {},
   "source": [
    "### Сеть host\n",
    "\n",
    "Полностью убирает сетевую изоляцию контейнера, то есть контейнер делит с хостом сеть полностью."
   ]
  },
  {
   "attachments": {},
   "cell_type": "markdown",
   "metadata": {},
   "source": [
    "Так в примере я запускаю yandex/clickhouse-server без указания каких-либо портов. В результате, этот clickhouse всеравно будет отвечать (даже без указанных портов)."
   ]
  },
  {
   "cell_type": "code",
   "execution_count": 6,
   "metadata": {},
   "outputs": [
    {
     "name": "stdout",
     "output_type": "stream",
     "text": [
      "69120ad84831e74d88b6085e5b38ca8ba2a0f05ff9b66ac2748a01b7974707e6\n"
     ]
    },
    {
     "name": "stderr",
     "output_type": "stream",
     "text": [
      "  % Total    % Received % Xferd  Average Speed   Time    Time     Time  Current\n",
      "                                 Dload  Upload   Total   Spent    Left  Speed\n",
      "100     4    0     4    0     0   4149      0 --:--:-- --:--:-- --:--:--  4000\n"
     ]
    },
    {
     "name": "stdout",
     "output_type": "stream",
     "text": [
      "Ok.\n",
      "host_example\n"
     ]
    }
   ],
   "source": [
    "%%bash\n",
    "docker run --rm -d --name host_example --net=host yandex/clickhouse-server\n",
    "# нельзя забывать, что clickhouse долговато поднимается\n",
    "sleep 10\n",
    "curl localhost:8123\n",
    "docker stop host_example"
   ]
  },
  {
   "attachments": {},
   "cell_type": "markdown",
   "metadata": {},
   "source": [
    "### Сеть bridge\n",
    "\n",
    "Сеть в которой контейнеры создаются по умолчанию. Далее показано несколько трюков.\n",
    "\n",
    "**Весть этот раздел воспроиводится особым образом**\n",
    "\n",
    "Я предварительно поднял контейнеры с yandex/clickhouse-server и ubuntu с предустановленным curl:"
   ]
  },
  {
   "cell_type": "code",
   "execution_count": 7,
   "metadata": {},
   "outputs": [
    {
     "name": "stdout",
     "output_type": "stream",
     "text": [
      "CONTAINER ID   IMAGE                      COMMAND            CREATED              STATUS              PORTS                          NAMES\n",
      "3c653442fea3   ubuntu_curl                \"/bin/bash\"        About a minute ago   Up About a minute                                  ubu\n",
      "3f047e11c417   yandex/clickhouse-server   \"/entrypoint.sh\"   2 minutes ago        Up 2 minutes        8123/tcp, 9000/tcp, 9009/tcp   click\n"
     ]
    }
   ],
   "source": [
    "%%bash\n",
    "docker ps"
   ]
  },
  {
   "attachments": {},
   "cell_type": "markdown",
   "metadata": {},
   "source": [
    "Теперь демонстрирую результат комманды `insperct` (позволяет получить низкоуровневую инофрмацию о любом объекте docker) для сети bridge."
   ]
  },
  {
   "cell_type": "code",
   "execution_count": 8,
   "metadata": {},
   "outputs": [
    {
     "name": "stdout",
     "output_type": "stream",
     "text": [
      "[\n",
      "    {\n",
      "        \"Name\": \"bridge\",\n",
      "        \"Id\": \"243b737447851abe893a50fab43e6fd6304423b81f848e31ae974692bb2388a5\",\n",
      "        \"Created\": \"2023-03-22T16:23:03.478736367+03:00\",\n",
      "        \"Scope\": \"local\",\n",
      "        \"Driver\": \"bridge\",\n",
      "        \"EnableIPv6\": false,\n",
      "        \"IPAM\": {\n",
      "            \"Driver\": \"default\",\n",
      "            \"Options\": null,\n",
      "            \"Config\": [\n",
      "                {\n",
      "                    \"Subnet\": \"172.17.0.0/16\",\n",
      "                    \"Gateway\": \"172.17.0.1\"\n",
      "                }\n",
      "            ]\n",
      "        },\n",
      "        \"Internal\": false,\n",
      "        \"Attachable\": false,\n",
      "        \"Ingress\": false,\n",
      "        \"ConfigFrom\": {\n",
      "            \"Network\": \"\"\n",
      "        },\n",
      "        \"ConfigOnly\": false,\n",
      "        \"Containers\": {\n",
      "            \"3c653442fea36887a8ff860b337148053ba5583c74ad635eeaa0bce4f75c8432\": {\n",
      "                \"Name\": \"ubu\",\n",
      "                \"EndpointID\": \"f29acdda0cc093af06a9797386eed25d491bb67e9e09112bae235657c81f93c9\",\n",
      "                \"MacAddress\": \"02:42:ac:11:00:03\",\n",
      "                \"IPv4Address\": \"172.17.0.3/16\",\n",
      "                \"IPv6Address\": \"\"\n",
      "            },\n",
      "            \"3f047e11c417e87a9f4e6eda57f0eed13695e569baf40d0dc0ff7204f209c08b\": {\n",
      "                \"Name\": \"click\",\n",
      "                \"EndpointID\": \"c872977345db4fb11ba931f75228816c4082b6879575167bc647f5c11cf94439\",\n",
      "                \"MacAddress\": \"02:42:ac:11:00:02\",\n",
      "                \"IPv4Address\": \"172.17.0.2/16\",\n",
      "                \"IPv6Address\": \"\"\n",
      "            }\n",
      "        },\n",
      "        \"Options\": {\n",
      "            \"com.docker.network.bridge.default_bridge\": \"true\",\n",
      "            \"com.docker.network.bridge.enable_icc\": \"true\",\n",
      "            \"com.docker.network.bridge.enable_ip_masquerade\": \"true\",\n",
      "            \"com.docker.network.bridge.host_binding_ipv4\": \"0.0.0.0\",\n",
      "            \"com.docker.network.bridge.name\": \"docker0\",\n",
      "            \"com.docker.network.driver.mtu\": \"1500\"\n",
      "        },\n",
      "        \"Labels\": {}\n",
      "    }\n",
      "]\n"
     ]
    }
   ],
   "source": [
    "%%bash\n",
    "docker inspect bridge"
   ]
  },
  {
   "attachments": {},
   "cell_type": "markdown",
   "metadata": {},
   "source": [
    "Обращаю внимание на поле \"Containers\" а в нем на поля \"IPv4Address\". По этим адресам мы можем общаться между контейнерами. Так вот например и из ubuntu спрошу clikchouse. Ok свидетельсвует о том, что я дейвительно дотянулся."
   ]
  },
  {
   "cell_type": "code",
   "execution_count": 9,
   "metadata": {},
   "outputs": [
    {
     "name": "stderr",
     "output_type": "stream",
     "text": [
      "  % Total    % Received % Xferd  Average Speed   Time    Time     Time  Current\n",
      "                                 Dload  Upload   Total   Spent    Left  Speed\n",
      "100     4    0     4    0     0   4944      0 --:--:-- --:--:-- --:--:--  4000\n"
     ]
    },
    {
     "name": "stdout",
     "output_type": "stream",
     "text": [
      "Ok.\n"
     ]
    }
   ],
   "source": [
    "%%bash\n",
    "docker exec ubu curl 172.17.0.2:8123"
   ]
  },
  {
   "attachments": {},
   "cell_type": "markdown",
   "metadata": {},
   "source": [
    "Более того, несмотря на то, что я не указывал портов при поднятии контейнера clickhouse, через этот ip я могу достучаться до clickhouse и из хоста. В следующем примере, я сравниваю результат запроса на localhost и на этот ip.\n",
    "\n",
    "- В первом случае никуда я не достучался и закономерно получил `curl: (7) Failed to connect to localhost port 8123 after 0 ms: Connection refused`;\n",
    "- Во втором случа clickhouse мне отвечает как ни в чем не бывало `Ok.`."
   ]
  },
  {
   "cell_type": "code",
   "execution_count": 10,
   "metadata": {},
   "outputs": [
    {
     "name": "stderr",
     "output_type": "stream",
     "text": [
      "  % Total    % Received % Xferd  Average Speed   Time    Time     Time  Current\n",
      "                                 Dload  Upload   Total   Spent    Left  Speed\n",
      "  0     0    0     0    0     0      0      0 --:--:-- --:--:-- --:--:--     0\n",
      "curl: (7) Failed to connect to localhost port 8123 after 0 ms: Connection refused\n",
      "  % Total    % Received % Xferd  Average Speed   Time    Time     Time  Current\n",
      "                                 Dload  Upload   Total   Spent    Left  Speed\n",
      "100     4    0     4    0     0   9302      0 --:--:-- --:--:-- --:--:--  4000\n"
     ]
    },
    {
     "name": "stdout",
     "output_type": "stream",
     "text": [
      "Ok.\n"
     ]
    }
   ],
   "source": [
    "%%bash\n",
    "curl localhost:8123\n",
    "curl 172.17.0.2:8123"
   ]
  }
 ],
 "metadata": {
  "kernelspec": {
   "display_name": "Python 3",
   "language": "python",
   "name": "python3"
  },
  "language_info": {
   "codemirror_mode": {
    "name": "ipython",
    "version": 3
   },
   "file_extension": ".py",
   "mimetype": "text/x-python",
   "name": "python",
   "nbconvert_exporter": "python",
   "pygments_lexer": "ipython3",
   "version": "3.10.6"
  },
  "orig_nbformat": 4
 },
 "nbformat": 4,
 "nbformat_minor": 2
}
