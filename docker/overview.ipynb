{
 "cells": [
  {
   "cell_type": "markdown",
   "metadata": {},
   "source": [
    "# Overview\n",
    "\n",
    "This page is an overview of Docker's main features and entities. So you can easily get familiar with what Docker is in general."
   ]
  },
  {
   "cell_type": "markdown",
   "metadata": {},
   "source": [
    "## Instalation and configuration\n",
    "\n",
    "1. <a href=\"https://docs.docker.com/engine/install/\">Docker instalation</a> USE ONLY COMMANDS PROVIDED BY DOCKER DOCUMENTATION.\n",
    "2. <a href=\"https://docs.docker.com/engine/install/linux-postinstall/\"> May be useful after installing</a>.\n",
    "    - How not to always put `sudo` before the `docker` command.\n",
    "    - Something still incomprehensible.\n",
    "3. <a href=\"https://docs.docker.com/config/daemon/start/\"> Start daemon </a> `sudo systemctl start docker`.\n",
    "4. <a href=\"https://lab.karpov.courses/learning/102/\"> Docker cource by karpovcources</a>."
   ]
  },
  {
   "cell_type": "markdown",
   "metadata": {},
   "source": [
    "## Images\n",
    "\n",
    "Image is a template that is used for creating docker containers. Checkout more on [specific section](images.ipynb)."
   ]
  },
  {
   "cell_type": "markdown",
   "metadata": {},
   "source": [
    "**List available images.**"
   ]
  },
  {
   "cell_type": "code",
   "execution_count": 1,
   "metadata": {
    "vscode": {
     "languageId": "shellscript"
    }
   },
   "outputs": [
    {
     "name": "stdout",
     "output_type": "stream",
     "text": [
      "REPOSITORY                    TAG       IMAGE ID       CREATED        SIZE\n",
      "fastapi_experiment            latest    319ed841174c   7 days ago     1.04GB\n",
      "httpd                         latest    c0c20df5e7be   10 days ago    148MB\n",
      "python                        3.11      e9a675734068   2 weeks ago    1.01GB\n",
      "alpine                        latest    a606584aa9aa   3 weeks ago    7.8MB\n",
      "wine_image                    latest    70b93dd1b320   5 weeks ago    3.72GB\n",
      "localhost:5001/wine_image     latest    70b93dd1b320   5 weeks ago    3.72GB\n",
      "ghcr.io/mlflow/mlflow         latest    ed826ca3d0c7   5 weeks ago    793MB\n",
      "ubuntu                        20.04     5f5250218d28   5 weeks ago    72.8MB\n",
      "gcr.io/k8s-minikube/kicbase   v0.0.44   5a6e59a9bdc0   2 months ago   1.26GB\n",
      "registry                      latest    d6b2c32a0f14   9 months ago   25.4MB\n"
     ]
    }
   ],
   "source": [
    "docker images"
   ]
  },
  {
   "cell_type": "markdown",
   "metadata": {},
   "source": [
    "**Pull image from dockerhub**\n",
    "\n",
    "There is a special resource where really free to use docker images are stored - [dockerhub](https://hub.docker.com/). Using the `docker pull` command, you can load any image you like."
   ]
  },
  {
   "cell_type": "markdown",
   "metadata": {},
   "source": [
    "The following cell shows process of pulling `hello-world` docker image and then show that it was added to the list of available docker images."
   ]
  },
  {
   "cell_type": "code",
   "execution_count": 2,
   "metadata": {
    "vscode": {
     "languageId": "shellscript"
    }
   },
   "outputs": [
    {
     "name": "stdout",
     "output_type": "stream",
     "text": [
      "=====image pulling=====\n",
      "Using default tag: latest\n",
      "latest: Pulling from library/hello-world\n",
      "\n",
      "\u001b[1BDigest: sha256:1408fec50309afee38f3535383f5b09419e6dc0925bc69891e79d84cc4cdcec6\n",
      "Status: Downloaded newer image for hello-world:latest\n",
      "docker.io/library/hello-world:latest\n",
      "=====image displaying=====\n",
      "hello-world                   latest    d2c94e258dcb   14 months ago   13.3kB\n"
     ]
    }
   ],
   "source": [
    "echo \"=====image pulling=====\"\n",
    "docker pull hello-world\n",
    "echo \"=====image displaying=====\"\n",
    "docker images | grep hello"
   ]
  },
  {
   "cell_type": "markdown",
   "metadata": {},
   "source": [
    "**Remove image**\n",
    "\n",
    "You can use the `docker rmi` command to remove any image you don't want in your image store. The following cell shows the process of removing the docker image we created in the previous example."
   ]
  },
  {
   "cell_type": "code",
   "execution_count": 3,
   "metadata": {
    "vscode": {
     "languageId": "shellscript"
    }
   },
   "outputs": [
    {
     "name": "stdout",
     "output_type": "stream",
     "text": [
      "Untagged: hello-world:latest\n",
      "Untagged: hello-world@sha256:1408fec50309afee38f3535383f5b09419e6dc0925bc69891e79d84cc4cdcec6\n",
      "Deleted: sha256:d2c94e258dcb3c5ac2798d32e1249e42ef01cba4841c2234249495f87264ac5a\n",
      "Deleted: sha256:ac28800ec8bb38d5c35b49d45a6ac4777544941199075dff8c4eb63e093aa81e\n"
     ]
    }
   ],
   "source": [
    "docker rmi hello-world"
   ]
  },
  {
   "cell_type": "markdown",
   "metadata": {},
   "source": [
    "## Containers\n",
    "\n",
    "A container is a standard unit of software that packages up code and all its dependencies so the application runs quickly and reliably from one computing environment to another."
   ]
  },
  {
   "cell_type": "markdown",
   "metadata": {},
   "source": [
    "**Run container**\n",
    "\n",
    "You must use the `docker run` command."
   ]
  },
  {
   "cell_type": "markdown",
   "metadata": {},
   "source": [
    "In the following example we have created a Ubuntu container. Later, we'll show you that it's a fully functional Ubuntu instance that just runs on your computer - later we'll show it.\n",
    "\n",
    "Some additional options are used here:\n",
    "\n",
    "- `itd` allows the container not to stop immediately after starting.\n",
    "- `name` allows you to specify the name of the container."
   ]
  },
  {
   "cell_type": "code",
   "execution_count": 4,
   "metadata": {
    "vscode": {
     "languageId": "shellscript"
    }
   },
   "outputs": [
    {
     "name": "stdout",
     "output_type": "stream",
     "text": [
      "f693d0227db3a19ee63a14e0cda7a5970c97c8a80d90a14e5d50eb63046235de\n"
     ]
    }
   ],
   "source": [
    "docker run -itd --name show_ubuntu ubuntu:20.04"
   ]
  },
  {
   "cell_type": "markdown",
   "metadata": {},
   "source": [
    "**List containers**"
   ]
  },
  {
   "cell_type": "code",
   "execution_count": 5,
   "metadata": {
    "vscode": {
     "languageId": "shellscript"
    }
   },
   "outputs": [
    {
     "name": "stdout",
     "output_type": "stream",
     "text": [
      "CONTAINER ID   IMAGE          COMMAND       CREATED         STATUS         PORTS     NAMES\n",
      "f693d0227db3   ubuntu:20.04   \"/bin/bash\"   4 seconds ago   Up 3 seconds             show_ubuntu\n"
     ]
    }
   ],
   "source": [
    "docker ps"
   ]
  },
  {
   "cell_type": "markdown",
   "metadata": {},
   "source": [
    "The result is the docker container we created in the previous cell."
   ]
  },
  {
   "cell_type": "markdown",
   "metadata": {},
   "source": [
    "**Stop container**\n",
    "\n",
    "You can stop a docker container with the `docker stop` command. This will stop execution of the container, but not delete it, so you can reload it later."
   ]
  },
  {
   "cell_type": "markdown",
   "metadata": {},
   "source": [
    "The following cell applies a `docekr stop` to the container we have just created."
   ]
  },
  {
   "cell_type": "code",
   "execution_count": 6,
   "metadata": {
    "vscode": {
     "languageId": "shellscript"
    }
   },
   "outputs": [
    {
     "name": "stdout",
     "output_type": "stream",
     "text": [
      "show_ubuntu\n",
      "=====docker ps=====\n",
      "CONTAINER ID   IMAGE     COMMAND   CREATED   STATUS    PORTS     NAMES\n",
      "=====docker ps -a=====\n",
      "CONTAINER ID   IMAGE          COMMAND       CREATED          STATUS                                PORTS     NAMES\n",
      "f693d0227db3   ubuntu:20.04   \"/bin/bash\"   21 seconds ago   Exited (137) Less than a second ago             show_ubuntu\n"
     ]
    }
   ],
   "source": [
    "docker stop show_ubuntu\n",
    "\n",
    "echo \"=====docker ps=====\"\n",
    "docker ps\n",
    "echo \"=====docker ps -a=====\"\n",
    "docker ps -a"
   ]
  },
  {
   "cell_type": "markdown",
   "metadata": {},
   "source": [
    "As you can see, it's not listed in the `docker ps` output - by default it only prints active running containers. But you can still see containers in the `docker ps -a` command - which prints all available images."
   ]
  },
  {
   "cell_type": "markdown",
   "metadata": {},
   "source": [
    "**Remove container**\n",
    "\n",
    "You can kill the container and everything associated with it using the `docker rm` command."
   ]
  },
  {
   "cell_type": "markdown",
   "metadata": {},
   "source": [
    "In the foolowing cell we applied `docker rm` to the container we used as the example for this section, and then printed `docker ps -a`."
   ]
  },
  {
   "cell_type": "code",
   "execution_count": 8,
   "metadata": {
    "vscode": {
     "languageId": "shellscript"
    }
   },
   "outputs": [
    {
     "name": "stdout",
     "output_type": "stream",
     "text": [
      "Error response from daemon: No such container: show_ubuntu\n",
      "CONTAINER ID   IMAGE     COMMAND   CREATED   STATUS    PORTS     NAMES\n"
     ]
    }
   ],
   "source": [
    "docker rm show_ubuntu\n",
    "docker ps -a"
   ]
  },
  {
   "cell_type": "markdown",
   "metadata": {},
   "source": [
    "As a result, we can't see the sample container - it has been completely deleted from the system."
   ]
  },
  {
   "cell_type": "markdown",
   "metadata": {},
   "source": [
    "## Volumes\n",
    "\n",
    "Volume is place at the computer storage that can be counted to the docker container - so they share that memory any change.\n",
    "\n",
    "Find out more in the [specific page](volumes.ipynb)."
   ]
  },
  {
   "cell_type": "markdown",
   "metadata": {},
   "source": [
    "**Create volume** To create new volueme you have to use command `docker volume create`."
   ]
  },
  {
   "cell_type": "code",
   "execution_count": 1,
   "metadata": {
    "vscode": {
     "languageId": "shellscript"
    }
   },
   "outputs": [
    {
     "name": "stdout",
     "output_type": "stream",
     "text": [
      "temp_volume\n"
     ]
    }
   ],
   "source": [
    "docker volume create temp_volume"
   ]
  },
  {
   "cell_type": "markdown",
   "metadata": {},
   "source": [
    "**List volumes** to list all volumes in system use command `docker volume ls`."
   ]
  },
  {
   "cell_type": "code",
   "execution_count": 2,
   "metadata": {
    "vscode": {
     "languageId": "shellscript"
    }
   },
   "outputs": [
    {
     "name": "stdout",
     "output_type": "stream",
     "text": [
      "DRIVER    VOLUME NAME\n",
      "local     temp_volume\n"
     ]
    }
   ],
   "source": [
    "docker volume ls"
   ]
  },
  {
   "cell_type": "markdown",
   "metadata": {},
   "source": [
    "**Remove volume** to remove created volume use command `docker volume rm <volume name>`."
   ]
  },
  {
   "cell_type": "code",
   "execution_count": 3,
   "metadata": {
    "vscode": {
     "languageId": "shellscript"
    }
   },
   "outputs": [
    {
     "name": "stdout",
     "output_type": "stream",
     "text": [
      "temp_volume\n"
     ]
    }
   ],
   "source": [
    "docker volume rm temp_volume"
   ]
  },
  {
   "cell_type": "markdown",
   "metadata": {},
   "source": [
    "## Networks\n",
    "\n",
    "Networks in Docker allow communication between containers."
   ]
  },
  {
   "cell_type": "markdown",
   "metadata": {},
   "source": [
    "**List awailable networks**"
   ]
  },
  {
   "cell_type": "code",
   "execution_count": 10,
   "metadata": {
    "vscode": {
     "languageId": "shellscript"
    }
   },
   "outputs": [
    {
     "name": "stdout",
     "output_type": "stream",
     "text": [
      "NETWORK ID     NAME              DRIVER    SCOPE\n",
      "e677bc8beaed   ansible_example   bridge    local\n",
      "5390a24fd218   bridge            bridge    local\n",
      "37741ce59a7f   host              host      local\n",
      "1a4652d7c977   minikube          bridge    local\n",
      "969663d04b2d   none              null      local\n"
     ]
    }
   ],
   "source": [
    "docker network ls"
   ]
  },
  {
   "cell_type": "markdown",
   "metadata": {},
   "source": [
    "**Create network**\n",
    "\n",
    "To create a network, you can use the `docker network create <container_name>` command. The following example creates a network named `temp_network` and shows it in the docker network list."
   ]
  },
  {
   "cell_type": "code",
   "execution_count": 12,
   "metadata": {
    "vscode": {
     "languageId": "shellscript"
    }
   },
   "outputs": [
    {
     "name": "stdout",
     "output_type": "stream",
     "text": [
      "060e2d8778111dd202dfa13652b3d41dd7e012416b97c72ddcb92616caed9c76\n",
      "NETWORK ID     NAME           DRIVER    SCOPE\n",
      "5390a24fd218   bridge         bridge    local\n",
      "37741ce59a7f   host           host      local\n",
      "1a4652d7c977   minikube       bridge    local\n",
      "969663d04b2d   none           null      local\n",
      "060e2d877811   temp_network   bridge    local\n"
     ]
    }
   ],
   "source": [
    "docker network create temp_network\n",
    "docker network ls"
   ]
  },
  {
   "cell_type": "markdown",
   "metadata": {},
   "source": [
    "**Remove network**\n",
    "\n",
    "The following cell deletes the network we've created before and shows the list of networks to make sure that the network `temp_network` has been deleted."
   ]
  },
  {
   "cell_type": "code",
   "execution_count": 13,
   "metadata": {
    "vscode": {
     "languageId": "shellscript"
    }
   },
   "outputs": [
    {
     "name": "stdout",
     "output_type": "stream",
     "text": [
      "temp_network\n",
      "NETWORK ID     NAME       DRIVER    SCOPE\n",
      "5390a24fd218   bridge     bridge    local\n",
      "37741ce59a7f   host       host      local\n",
      "1a4652d7c977   minikube   bridge    local\n",
      "969663d04b2d   none       null      local\n"
     ]
    }
   ],
   "source": [
    "docker network rm temp_network\n",
    "docker network ls"
   ]
  },
  {
   "cell_type": "markdown",
   "metadata": {},
   "source": [
    "## Authentification\n",
    "\n",
    "In order to pull images from the private registry, you will need to authenticate with that registry. You may also need to authentificate on DockerHub, as it has [pulling limits](https://docs.docker.com/docker-hub/usage/) for a sets of IP addresses. If someone in your network actively pulls images, you may be banned from pulling images without authentification.\n",
    "\n",
    "Manipulate your authentification with: \n",
    "\n",
    "- [`docker login`](https://docs.docker.com/reference/cli/docker/login/#credential-stores).\n",
    "- [`docker logout`](https://docs.docker.com/reference/cli/docker/logout/).\n",
    "\n",
    "The login information is stored in the `~/.docker/config.json`."
   ]
  },
  {
   "cell_type": "markdown",
   "metadata": {},
   "source": [
    "## Filter\n",
    "\n",
    "You can filter the output of the Docker commands using the `-f` (`--filter`) argument. \n",
    "\n",
    "The input of the argument is a `<key>=<value>` pair. The `<key>` is *filter* sepcific for the command, and the `<value>` is a pattern to which the values of the `<key>` will correspond. To apply multiple filters, simply pass the `-f` argument multiple times.\n",
    "\n",
    "This argument is ususally available for the commands that display resources or prunning commands. You can find a list of available filters in the documentation section corresponding to the `-f` description of the particular command. Some of the commands with reference to the documentation are:\n",
    "\n",
    "- `docker ps` (alias for [`docker container ls`](https://docs.docker.com/reference/cli/docker/container/ls/#filter)).\n",
    "- `docker images` / [`docker images ls`](https://docs.docker.com/reference/cli/docker/image/ls/#filter).\n",
    "- `docker volume ls`.\n",
    "- `docker network ls`."
   ]
  },
  {
   "cell_type": "markdown",
   "metadata": {},
   "source": [
    "---\n",
    "\n",
    "The following cell creates some containers from which we'll make filtering."
   ]
  },
  {
   "cell_type": "code",
   "execution_count": 4,
   "metadata": {
    "vscode": {
     "languageId": "shellscript"
    }
   },
   "outputs": [],
   "source": [
    "docker run -d --name wow_python python:latest &> /dev/null\n",
    "docker run -d --name wow_alpine alpine:latest &> /dev/null\n",
    "docker run -d --name hey_nginx nginx:latest bash &> /dev/null"
   ]
  },
  {
   "cell_type": "markdown",
   "metadata": {},
   "source": [
    "The following cell searches for containers based on the `nginx:latest` image."
   ]
  },
  {
   "cell_type": "code",
   "execution_count": 1,
   "metadata": {
    "vscode": {
     "languageId": "shellscript"
    }
   },
   "outputs": [
    {
     "name": "stdout",
     "output_type": "stream",
     "text": [
      "CONTAINER ID   IMAGE          COMMAND                  CREATED              STATUS                          PORTS     NAMES\n",
      "5be9c3d9a5ba   nginx:latest   \"/docker-entrypoint.…\"   About a minute ago   Exited (0) About a minute ago             hey_nginx\n"
     ]
    }
   ],
   "source": [
    "docker ps -a -f \"ancestor=nginx:latest\""
   ]
  },
  {
   "cell_type": "markdown",
   "metadata": {},
   "source": [
    "The following cell searches for the containers whose name starts with `wow`."
   ]
  },
  {
   "cell_type": "code",
   "execution_count": 5,
   "metadata": {
    "vscode": {
     "languageId": "shellscript"
    }
   },
   "outputs": [
    {
     "name": "stdout",
     "output_type": "stream",
     "text": [
      "CONTAINER ID   IMAGE           COMMAND     CREATED          STATUS                      PORTS     NAMES\n",
      "6ff3e0557d44   alpine:latest   \"/bin/sh\"   23 seconds ago   Exited (0) 22 seconds ago             wow_alpine\n",
      "4e1fe78118e2   python:latest   \"python3\"   23 seconds ago   Exited (0) 23 seconds ago             wow_python\n"
     ]
    }
   ],
   "source": [
    "docker ps -a -f \"name=^wow\""
   ]
  },
  {
   "cell_type": "markdown",
   "metadata": {},
   "source": [
    "And here's an unusual way to release resources, just for extra example. For `docker rm` command passed outputs of the search based on the several filters.\n",
    "\n",
    "**Note:** `-f` for the `docker rm` have different meaning: the force removal."
   ]
  },
  {
   "cell_type": "code",
   "execution_count": 4,
   "metadata": {
    "vscode": {
     "languageId": "shellscript"
    }
   },
   "outputs": [
    {
     "name": "stdout",
     "output_type": "stream",
     "text": [
      "5be9c3d9a5ba\n",
      "6ff3e0557d44\n",
      "4e1fe78118e2\n"
     ]
    }
   ],
   "source": [
    "docker rm -f $(docker ps -q -a -f \"name=wow_python\" -f \"name=wow_alpine\" -f \"name=hey_nginx\")"
   ]
  },
  {
   "cell_type": "markdown",
   "metadata": {},
   "source": [
    "## Docker in docker\n",
    "\n",
    "It is typical for this resource to show some examples on clean `docker`. It's convenient to use docker in docker to demonstrate such cases. The following cell shows docker in docker dockerfile, which is used for such cases. It installs tools that allow you to run bash code in Jupyter. You can connect to it (e.g. using vscode [dev container extension](https://code.visualstudio.com/docs/devcontainers/containers)) and use it as a regular docker."
   ]
  },
  {
   "cell_type": "code",
   "execution_count": 1,
   "metadata": {
    "vscode": {
     "languageId": "shellscript"
    }
   },
   "outputs": [
    {
     "name": "stdout",
     "output_type": "stream",
     "text": [
      "FROM docker:dind\n",
      "\n",
      "RUN apk update && apk add bash python3-dev py-pip gcc musl-dev linux-headers\n",
      "RUN pip3 install --break-system-packages bash_kernel && python -m bash_kernel.install\n"
     ]
    }
   ],
   "source": [
    "cat overview_files/dockerfile"
   ]
  },
  {
   "cell_type": "markdown",
   "metadata": {},
   "source": [
    "To build it use:"
   ]
  },
  {
   "cell_type": "code",
   "execution_count": 3,
   "metadata": {
    "vscode": {
     "languageId": "shellscript"
    }
   },
   "outputs": [],
   "source": [
    "docker build -t knowledge_docker ./overview_files/ &> /dev/null"
   ]
  },
  {
   "cell_type": "markdown",
   "metadata": {},
   "source": [
    "And from the root direcotry of the repo with:"
   ]
  },
  {
   "cell_type": "code",
   "execution_count": 8,
   "metadata": {
    "vscode": {
     "languageId": "shellscript"
    }
   },
   "outputs": [],
   "source": [
    "docker run -itd --privileged --rm --name knowledge_docker -v ./:/knowledge knowledge_docker &> /dev/null"
   ]
  }
 ],
 "metadata": {
  "kernelspec": {
   "display_name": "Bash",
   "language": "bash",
   "name": "bash"
  },
  "language_info": {
   "codemirror_mode": "shell",
   "file_extension": ".sh",
   "mimetype": "text/x-sh",
   "name": "bash"
  }
 },
 "nbformat": 4,
 "nbformat_minor": 2
}
