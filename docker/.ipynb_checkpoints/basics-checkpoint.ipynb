{
 "cells": [
  {
   "cell_type": "markdown",
   "id": "c021dc68-af99-490b-a6c3-36a0277b9a5c",
   "metadata": {},
   "source": [
    "**Обзор возможностей программы `docker`**"
   ]
  },
  {
   "cell_type": "markdown",
   "id": "921346d6-6fa2-4521-8700-ee4d10b071d5",
   "metadata": {},
   "source": [
    "# Источники\n",
    "\n",
    "- <a href=\"https://docs.docker.com/engine/install/fedora/\">Установка docker</a>;\n",
    "- <a herf=\"https://docs.docker.com/engine/install/linux-postinstall/\"> После установки докера может быть полезно</a>;\n",
    "    - Как посторянно не указывать `sudo` перед использованием команды `docker`;\n",
    "    - Что-то еще пока не понятное.\n",
    "- <a herf=\"https://docs.docker.com/config/daemon/start/\"> Зпустить демон</a> `sudo systemctl start docker`;\n",
    "- <a herf=\"https://lab.karpov.courses/learning/102/\"> Курс по docker</a>."
   ]
  }
 ],
 "metadata": {
  "kernelspec": {
   "display_name": "Python 3 (ipykernel)",
   "language": "python",
   "name": "python3"
  },
  "language_info": {
   "codemirror_mode": {
    "name": "ipython",
    "version": 3
   },
   "file_extension": ".py",
   "mimetype": "text/x-python",
   "name": "python",
   "nbconvert_exporter": "python",
   "pygments_lexer": "ipython3",
   "version": "3.11.1"
  }
 },
 "nbformat": 4,
 "nbformat_minor": 5
}
