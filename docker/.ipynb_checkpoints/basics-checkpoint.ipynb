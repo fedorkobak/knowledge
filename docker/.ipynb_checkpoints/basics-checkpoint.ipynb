{
 "cells": [
  {
   "cell_type": "markdown",
   "id": "c021dc68-af99-490b-a6c3-36a0277b9a5c",
   "metadata": {},
   "source": [
    "**Обзор возможностей программы `docker`**"
   ]
  },
  {
   "cell_type": "markdown",
   "id": "921346d6-6fa2-4521-8700-ee4d10b071d5",
   "metadata": {},
   "source": [
    "# Источники\n",
    "\n",
    "- <a href=\"https://docs.docker.com/engine/install/fedora/\">Установка docker</a>;\n",
    "- <a herf=\"https://docs.docker.com/engine/install/linux-postinstall/\"> После установки докера может быть полезно</a>;\n",
    "    - Как посторянно не указывать `sudo` перед использованием команды `docker`;\n",
    "    - Что-то еще пока не понятное.\n",
    "- <a herf=\"https://docs.docker.com/config/daemon/start/\"> Зпустить демон</a> `sudo systemctl start docker`;\n",
    "- <a herf=\"https://lab.karpov.courses/learning/102/\"> Курс по docker</a>."
   ]
  },
  {
   "cell_type": "markdown",
   "id": "f4cb85d5-ca3b-4912-af2a-f5195908dedb",
   "metadata": {},
   "source": [
    "# Основные команды"
   ]
  },
  {
   "cell_type": "markdown",
   "id": "d6eadbf8-e659-485e-9260-57c98b3f4a45",
   "metadata": {},
   "source": [
    "### `docker images` - вывести список достусных образов;"
   ]
  },
  {
   "cell_type": "code",
   "execution_count": 1,
   "id": "b674018c-2418-49cc-acae-a46435fd8d50",
   "metadata": {},
   "outputs": [
    {
     "name": "stdout",
     "output_type": "stream",
     "text": [
      "REPOSITORY                 TAG       IMAGE ID       CREATED         SIZE\n",
      "new_ubuntu                 1         2b3d6798a9b1   6 days ago      77.8MB\n",
      "node                       16        aa2c07b3a605   2 weeks ago     910MB\n",
      "node                       latest    51bd6c84a7f2   2 weeks ago     998MB\n",
      "ubuntu                     latest    6b7dfa7e8fdb   6 weeks ago     77.8MB\n",
      "kcoursedocker/task-1.1     latest    a7c163a4b2cd   5 months ago    72.8MB\n",
      "yandex/clickhouse-server   latest    c739327b5607   12 months ago   826MB\n"
     ]
    }
   ],
   "source": [
    "%%bash\n",
    "docker images"
   ]
  },
  {
   "cell_type": "markdown",
   "id": "40c79725-0845-4151-8083-812c8600e6b6",
   "metadata": {},
   "source": [
    "`--a`,`--all` - вывести все образы, по умолчанию;"
   ]
  },
  {
   "cell_type": "code",
   "execution_count": 2,
   "id": "0825b323-6a44-4879-8e43-68b38e5bf01f",
   "metadata": {},
   "outputs": [
    {
     "name": "stdout",
     "output_type": "stream",
     "text": [
      "REPOSITORY                 TAG       IMAGE ID       CREATED         SIZE\n",
      "new_ubuntu                 1         2b3d6798a9b1   6 days ago      77.8MB\n",
      "node                       16        aa2c07b3a605   2 weeks ago     910MB\n",
      "node                       latest    51bd6c84a7f2   2 weeks ago     998MB\n",
      "ubuntu                     latest    6b7dfa7e8fdb   6 weeks ago     77.8MB\n",
      "kcoursedocker/task-1.1     latest    a7c163a4b2cd   5 months ago    72.8MB\n",
      "yandex/clickhouse-server   latest    c739327b5607   12 months ago   826MB\n"
     ]
    }
   ],
   "source": [
    "%%bash\n",
    "docker images --all"
   ]
  },
  {
   "cell_type": "markdown",
   "id": "1c56871d-08c0-445f-8b7c-28d738b63ee3",
   "metadata": {},
   "source": [
    "`--digests` вывести дайджсты (пока неизвестно, что это такое)."
   ]
  },
  {
   "cell_type": "code",
   "execution_count": 3,
   "id": "07566397-3c5b-40da-86e0-c0d9ad159430",
   "metadata": {},
   "outputs": [
    {
     "name": "stdout",
     "output_type": "stream",
     "text": [
      "REPOSITORY                 TAG       DIGEST                                                                    IMAGE ID       CREATED         SIZE\n",
      "new_ubuntu                 1         <none>                                                                    2b3d6798a9b1   6 days ago      77.8MB\n",
      "node                       16        sha256:27fab5920246070cf13449cf44c25bc4f5adef18ca7482b2bda90b7cf9e64481   aa2c07b3a605   2 weeks ago     910MB\n",
      "node                       latest    sha256:c1d6d7364e956b061d62241c362b3cd0856beba066ec60e25523a169e2137623   51bd6c84a7f2   2 weeks ago     998MB\n",
      "ubuntu                     latest    sha256:27cb6e6ccef575a4698b66f5de06c7ecd61589132d5a91d098f7f3f9285415a9   6b7dfa7e8fdb   6 weeks ago     77.8MB\n",
      "kcoursedocker/task-1.1     latest    sha256:d3b85600f4d6e7736038fe3b1f1c2158821abe79896c0f596fb78d5c8bfbfe18   a7c163a4b2cd   5 months ago    72.8MB\n",
      "yandex/clickhouse-server   latest    sha256:1cbf75aabe1e2cc9f62d1d9929c318a59ae552e2700e201db985b92a9bcabc6e   c739327b5607   12 months ago   826MB\n"
     ]
    }
   ],
   "source": [
    "%%bash\n",
    "docker images --digests"
   ]
  },
  {
   "cell_type": "markdown",
   "id": "1f03801f-ebb6-494e-987c-4c6007391a65",
   "metadata": {},
   "source": [
    "`--format` позволяет задать формат вывода, используя GO-шаблоны."
   ]
  },
  {
   "cell_type": "code",
   "execution_count": 4,
   "id": "567a1fea-1e10-4db8-8ca0-593d7d72537a",
   "metadata": {},
   "outputs": [
    {
     "name": "stdout",
     "output_type": "stream",
     "text": [
      "new_ubuntu:1\n",
      "node:16\n",
      "node:latest\n",
      "ubuntu:latest\n",
      "kcoursedocker/task-1.1:latest\n",
      "yandex/clickhouse-server:latest\n"
     ]
    }
   ],
   "source": [
    "%%bash\n",
    "docker images --format '{{.Repository}}:{{.Tag}}'"
   ]
  },
  {
   "cell_type": "markdown",
   "id": "c365a654-d832-4cd0-ad3a-70c1db129474",
   "metadata": {},
   "source": [
    "`--no-trunc` - не усекать вывод;"
   ]
  },
  {
   "cell_type": "code",
   "execution_count": 5,
   "id": "e1a159bc-c722-45e0-abe4-fb4de9e84ae0",
   "metadata": {},
   "outputs": [
    {
     "name": "stdout",
     "output_type": "stream",
     "text": [
      "REPOSITORY                 TAG       IMAGE ID                                                                  CREATED         SIZE\n",
      "new_ubuntu                 1         sha256:2b3d6798a9b1450fae9df7d5022214ce565af89e34d5b45f52ab5355923423b7   6 days ago      77.8MB\n",
      "node                       16        sha256:aa2c07b3a6058a9b3dfe3358826eafebf406788264a19f6c39484988c2c9b856   2 weeks ago     910MB\n",
      "node                       latest    sha256:51bd6c84a7f20239e662c90375bdc0dd7b90099a53f2c4349e40f98f6faa5cbb   2 weeks ago     998MB\n",
      "ubuntu                     latest    sha256:6b7dfa7e8fdbe18ad425dd965a1049d984f31cf0ad57fa6d5377cca355e65f03   6 weeks ago     77.8MB\n",
      "kcoursedocker/task-1.1     latest    sha256:a7c163a4b2cdad1fe131d8667a207d2aee8f3f9ea7b48c7804b138310552c7e4   5 months ago    72.8MB\n",
      "yandex/clickhouse-server   latest    sha256:c739327b5607ac47030e5de03542072f21912a4226f18de912a6e6126af28014   12 months ago   826MB\n"
     ]
    }
   ],
   "source": [
    "%%bash\n",
    "docker images --no-trunc"
   ]
  },
  {
   "cell_type": "markdown",
   "id": "0a84d44a-7851-43e7-885a-ed0e098ea94c",
   "metadata": {},
   "source": [
    "`-q`, `--quiet` - выводить только ID доступных образов."
   ]
  },
  {
   "cell_type": "code",
   "execution_count": 6,
   "id": "4e60b4a7-35b3-4f16-94ce-450b679a9733",
   "metadata": {},
   "outputs": [
    {
     "name": "stdout",
     "output_type": "stream",
     "text": [
      "2b3d6798a9b1\n",
      "aa2c07b3a605\n",
      "51bd6c84a7f2\n",
      "6b7dfa7e8fdb\n",
      "a7c163a4b2cd\n",
      "c739327b5607\n"
     ]
    }
   ],
   "source": [
    "%%bash\n",
    "docker images -q"
   ]
  }
 ],
 "metadata": {
  "kernelspec": {
   "display_name": "Python 3 (ipykernel)",
   "language": "python",
   "name": "python3"
  },
  "language_info": {
   "codemirror_mode": {
    "name": "ipython",
    "version": 3
   },
   "file_extension": ".py",
   "mimetype": "text/x-python",
   "name": "python",
   "nbconvert_exporter": "python",
   "pygments_lexer": "ipython3",
   "version": "3.11.1"
  }
 },
 "nbformat": 4,
 "nbformat_minor": 5
}
