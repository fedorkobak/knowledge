{
 "cells": [
  {
   "cell_type": "markdown",
   "id": "c021dc68-af99-490b-a6c3-36a0277b9a5c",
   "metadata": {},
   "source": [
    "**Обзор возможностей программы `docker`**"
   ]
  },
  {
   "cell_type": "markdown",
   "id": "921346d6-6fa2-4521-8700-ee4d10b071d5",
   "metadata": {},
   "source": [
    "# Источники\n",
    "\n",
    "- <a href=\"https://docs.docker.com/engine/install/fedora/\">Установка docker</a>;\n",
    "- <a herf=\"https://docs.docker.com/engine/install/linux-postinstall/\"> После установки докера может быть полезно</a>;\n",
    "    - Как посторянно не указывать `sudo` перед использованием команды `docker`;\n",
    "    - Что-то еще пока не понятное.\n",
    "- <a herf=\"https://docs.docker.com/config/daemon/start/\"> Зпустить демон</a> `sudo systemctl start docker`;\n",
    "- <a herf=\"https://lab.karpov.courses/learning/102/\"> Курс по docker</a>."
   ]
  },
  {
   "cell_type": "markdown",
   "id": "d98c6c4c-8321-447c-8670-68234657e0d0",
   "metadata": {},
   "source": [
    "# Основные команды\n",
    "<h2>Работа с образами</h2>\n",
    "<p class=\"p--1qUA\"><b>docker images</b> или <b>docker image ls</b>&nbsp;— посмотреть список образов (<a href=\"https://docs.docker.com/engine/reference/commandline/images/\" class=\"view-links-processed\" target=\"_blank\">ссылка</a>, <a href=\"https://docs.docker.com/engine/reference/commandline/image_ls/\" class=\"view-links-processed\" target=\"_blank\">ссылка</a>)</p><p class=\"p--1qUA\"><b>docker rmi &lt;образ&gt; [образ...] </b>или <font style=\"font-weight: bold;\">docker image rm &lt;образ&gt; [образ...] —&nbsp;удалить образ(ы)&nbsp;(<a href=\"https://docs.docker.com/engine/reference/commandline/rmi/\" class=\"view-links-processed\" target=\"_blank\">ссылка</a>, <a href=\"https://docs.docker.com/engine/reference/commandline/image_rm/\" class=\"view-links-processed\" target=\"_blank\">ссылка</a>)</p><hr>\n",
    "\n",
    "<h2>Работа с контейнерами</h2><p class=\"p--1qUA\"><b>docker run &lt;образ&gt;</b>&nbsp;— поднять контейнер на основе образа&nbsp;(<a href=\"https://docs.docker.com/engine/reference/commandline/run/\" class=\"view-links-processed\" target=\"_blank\">ссылка</a>)</p><p class=\"p--1qUA\">&nbsp; &nbsp; &nbsp; docker run <b>--name &lt;имя&gt;</b> &lt;образ&gt; — при поднятии присвоить имя контейнеру&nbsp;(<a href=\"https://docs.docker.com/engine/reference/run/#name---name\" class=\"view-links-processed\" target=\"_blank\">ссылка</a>)</p><p class=\"p--1qUA\">&nbsp; &nbsp; &nbsp; docker run <b>--rm</b> &lt;образ&gt; — удалять контейнер после завершения его работы (<a href=\"https://docs.docker.com/engine/reference/run/#clean-up---rm\" class=\"view-links-processed\" target=\"_blank\">ссылка</a>)</p><p class=\"p--1qUA\">&nbsp; &nbsp; &nbsp; docker run <b>-it</b> &lt;образ&gt; — позволяет «войти» в контейнер во время его создания&nbsp;(<a href=\"https://docs.docker.com/engine/reference/commandline/run/#assign-name-and-allocate-pseudo-tty---name--it\" class=\"view-links-processed\" target=\"_blank\">ссылка</a>, <a href=\"https://docs.docker.com/engine/reference/run/#foreground\" class=\"view-links-processed\" target=\"_blank\">ссылка</a>)</p><p class=\"p--1qUA\">&nbsp; &nbsp; &nbsp; docker run <b>-d</b> &lt;образ&gt; — поднять контейнер в фоновом режиме (<a href=\"https://docs.docker.com/engine/reference/run/#detached--d\" class=\"view-links-processed\" target=\"_blank\">ссылка</a>)</p><p class=\"p--1qUA\"><b>docker ps</b> — список активных (работающих) контейнеров&nbsp;(<a href=\"https://docs.docker.com/engine/reference/commandline/ps/\" class=\"view-links-processed\" target=\"_blank\">ссылка</a>)</p><p class=\"p--1qUA\">&nbsp; &nbsp; &nbsp; docker ps <b>-a</b> — список всех контейнеров&nbsp;(<a href=\"https://docs.docker.com/engine/reference/commandline/ps/#show-both-running-and-stopped-containers\" class=\"view-links-processed\" target=\"_blank\">ссылка</a>)</p><p class=\"p--1qUA\"><b>docker stop &lt;контейнер&gt; [контейнер...] </b>— остановить работающий(ие) контейнер(ы)&nbsp;(<a href=\"https://docs.docker.com/engine/reference/commandline/stop/\" class=\"view-links-processed\" target=\"_blank\">ссылка</a>)</p><p class=\"p--1qUA\"><b>docker start &lt;контейнер&gt; [контейнер...]</b>&nbsp;— запустить остановленный(ые) контейнер(ы)&nbsp;(<a href=\"https://docs.docker.com/engine/reference/commandline/start/\" class=\"view-links-processed\" target=\"_blank\">ссылка</a>)</p><p class=\"p--1qUA\"><b>docker rm &lt;контейнер&gt; [контейнер...]</b> — удалить контейнер(ы)&nbsp;(<a href=\"https://docs.docker.com/engine/reference/commandline/rm/\" class=\"view-links-processed\" target=\"_blank\">ссылка</a>)</p><p class=\"p--1qUA\"><b>docker exec &lt;контейнер&gt; команда</b> — запустить команду в работающем контейнер&nbsp;(<a href=\"https://docs.docker.com/engine/reference/commandline/exec/\" class=\"view-links-processed\" target=\"_blank\">ссылка</a>)</p><p class=\"p--1qUA\">&nbsp; &nbsp; &nbsp; docker exec <b>-it</b> &lt;контейнер&gt; <b>bash</b> — запустить bash процесс и «войти» в контейнер&nbsp;(<a href=\"https://docs.docker.com/engine/reference/commandline/exec/#run-docker-exec-on-a-running-container\" class=\"view-links-processed\" target=\"_blank\">ссылка</a>)</p>"
   ]
  }
 ],
 "metadata": {
  "kernelspec": {
   "display_name": "Python 3 (ipykernel)",
   "language": "python",
   "name": "python3"
  },
  "language_info": {
   "codemirror_mode": {
    "name": "ipython",
    "version": 3
   },
   "file_extension": ".py",
   "mimetype": "text/x-python",
   "name": "python",
   "nbconvert_exporter": "python",
   "pygments_lexer": "ipython3",
   "version": "3.11.1"
  }
 },
 "nbformat": 4,
 "nbformat_minor": 5
}
