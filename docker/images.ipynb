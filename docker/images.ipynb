{
 "cells": [
  {
   "cell_type": "markdown",
   "metadata": {},
   "source": [
    "# Images\n",
    "\n",
    "This page focuses on the features associated with docker images."
   ]
  },
  {
   "cell_type": "markdown",
   "metadata": {},
   "source": [
    "## Build image\n",
    "\n",
    "You can build docker images using the `docker build <path to the folder>` command. The `<folder path>` should contain a `dockerfile` with the instructions to build the images."
   ]
  },
  {
   "cell_type": "markdown",
   "metadata": {},
   "source": [
    "---\n",
    "\n",
    "Consider example - the following cell creates the simplest possible `dockerfile` it just modifies alpine linux to echo message `this_is_new_container` at container startup."
   ]
  },
  {
   "cell_type": "code",
   "execution_count": 6,
   "metadata": {
    "vscode": {
     "languageId": "shellscript"
    }
   },
   "outputs": [],
   "source": [
    "cat << 'EOF' > images_files/dockerfile\n",
    "\n",
    "FROM alpine\n",
    "CMD [\"echo\", \"this_is_new_image\"]\n",
    "\n",
    "EOF"
   ]
  },
  {
   "cell_type": "markdown",
   "metadata": {},
   "source": [
    "**Note:** Even if the `Dockerfile` is located in the current working directory, you still need to specify the `path to folder` in the `docker build` command. In such cases, you should use the command `docker build .`.\n",
    "\n",
    "The following example demonstrates the construction of a Docker image. It employs `images_files` as the working directory to emphasize the need for explicitly specifying `.` as the path.\n",
    "\n",
    "Also here is specified `-t docker_build_example` option it specifies name of the container. "
   ]
  },
  {
   "cell_type": "code",
   "execution_count": 8,
   "metadata": {
    "vscode": {
     "languageId": "shellscript"
    }
   },
   "outputs": [
    {
     "name": "stdout",
     "output_type": "stream",
     "text": [
      "DEPRECATED: The legacy builder is deprecated and will be removed in a future release.\n",
      "            Install the buildx component to build images with BuildKit:\n",
      "            https://docs.docker.com/go/buildx/\n",
      "\n",
      "Sending build context to Docker daemon  2.048kB\n",
      "Step 1/2 : FROM alpine\n",
      " ---> a606584aa9aa\n",
      "Step 2/2 : CMD [\"echo\", \"this_is_new_image\"]\n",
      " ---> Running in 441872d8a1e9\n",
      "Removing intermediate container 441872d8a1e9\n",
      " ---> cc90f738517a\n",
      "Successfully built cc90f738517a\n",
      "Successfully tagged docker_build_example:latest\n"
     ]
    }
   ],
   "source": [
    "cd images_files\n",
    "docker build -t docker_build_example .\n",
    "cd .."
   ]
  },
  {
   "cell_type": "markdown",
   "metadata": {},
   "source": [
    "After executing the previous cell, you'll be able to find the `docker_build_example` image in the list of images."
   ]
  },
  {
   "cell_type": "code",
   "execution_count": 10,
   "metadata": {
    "vscode": {
     "languageId": "shellscript"
    }
   },
   "outputs": [
    {
     "name": "stdout",
     "output_type": "stream",
     "text": [
      "docker_build_example          latest    cc90f738517a   3 minutes ago   7.8MB\n"
     ]
    }
   ],
   "source": [
    "docker images | grep docker_build_example"
   ]
  },
  {
   "cell_type": "markdown",
   "metadata": {},
   "source": [
    "Ok, finally, let's try to run container based on the image we created, to make sure that docker completes the instructions specified in the `dockerfile`."
   ]
  },
  {
   "cell_type": "code",
   "execution_count": 13,
   "metadata": {
    "vscode": {
     "languageId": "shellscript"
    }
   },
   "outputs": [
    {
     "name": "stdout",
     "output_type": "stream",
     "text": [
      "this_is_new_image\n",
      "Untagged: docker_build_example:latest\n",
      "Deleted: sha256:cc90f738517a2445baa3b8da64400a7d0ad79beabc7c091e9d0f513cab94c759\n"
     ]
    }
   ],
   "source": [
    "docker run --rm docker_build_example\n",
    "docker rmi docker_build_example"
   ]
  },
  {
   "cell_type": "markdown",
   "metadata": {},
   "source": [
    "## Commit container to image\n",
    "\n",
    "The `docker commit` command allows you to save the current state of a container as a new image. This is useful if you have made changes or created something new within a container and want to preserve these modifications. To save the current state of a container as a new image, use the following syntax:\n",
    "\n",
    "```\n",
    "docker commit <container name> <new image name>\n",
    "```"
   ]
  },
  {
   "cell_type": "markdown",
   "metadata": {
    "vscode": {
     "languageId": "shellscript"
    }
   },
   "source": [
    "---\n",
    "\n",
    "As an example, let us run Alpine Linux and try to ask it Python version."
   ]
  },
  {
   "cell_type": "code",
   "execution_count": 36,
   "metadata": {
    "vscode": {
     "languageId": "shellscript"
    }
   },
   "outputs": [
    {
     "name": "stdout",
     "output_type": "stream",
     "text": [
      "7a095fff8ce568c6a238676ee753d8c99ed99705b89dded46daa52682675cd69\n",
      "OCI runtime exec failed: exec failed: unable to start container process: exec: \"python3\": executable file not found in $PATH: unknown\n"
     ]
    },
    {
     "ename": "",
     "evalue": "126",
     "output_type": "error",
     "traceback": []
    }
   ],
   "source": [
    "docker run --rm --name commit_container -itd alpine\n",
    "docker exec commit_container python3 --version"
   ]
  },
  {
   "cell_type": "markdown",
   "metadata": {},
   "source": [
    "As a result, we got an error. No big deal - we could install Python on any system."
   ]
  },
  {
   "cell_type": "code",
   "execution_count": 37,
   "metadata": {
    "vscode": {
     "languageId": "shellscript"
    }
   },
   "outputs": [
    {
     "name": "stdout",
     "output_type": "stream",
     "text": [
      "Python 3.12.3\n"
     ]
    }
   ],
   "source": [
    "docker exec commit_container apk add python3 &> /dev/null\n",
    "docker exec commit_container python3 --version"
   ]
  },
  {
   "cell_type": "markdown",
   "metadata": {},
   "source": [
    "After installation we have the Python version. Now by using `commit` we \"freeze\" such state of the container as the image. And any container created on from this image will be just like alpine linux but with installed python."
   ]
  },
  {
   "cell_type": "code",
   "execution_count": 33,
   "metadata": {
    "vscode": {
     "languageId": "shellscript"
    }
   },
   "outputs": [
    {
     "name": "stdout",
     "output_type": "stream",
     "text": [
      "7a40579ac221bcc570751f0ab496e10291134448f5885e7c614d0544b21c69a1\n",
      "Python 3.12.3\n"
     ]
    }
   ],
   "source": [
    "docker commit commit_container alpine_with_python\n",
    "docker run --rm -itd --name al_py alpine_with_python\n",
    "docker exec al_py python3 --version"
   ]
  },
  {
   "cell_type": "markdown",
   "metadata": {
    "vscode": {
     "languageId": "shellscript"
    }
   },
   "source": [
    "So containers that use the `alpine_with_python` image as a base will have the python version by default."
   ]
  },
  {
   "cell_type": "code",
   "execution_count": 39,
   "metadata": {
    "vscode": {
     "languageId": "shellscript"
    }
   },
   "outputs": [
    {
     "name": "stdout",
     "output_type": "stream",
     "text": [
      "commit_container\n",
      "Error response from daemon: No such container: al_py\n",
      "Untagged: alpine_with_python:latest\n",
      "Deleted: sha256:909728da78e4e6032ade63f135f729f85075df783e86c72688e20f152f5d27ec\n",
      "Deleted: sha256:d45b95ae0c5e8765eebc035f638f39e1cfcf6d20cd0df26e0915f9ab087793c5\n"
     ]
    }
   ],
   "source": [
    "docker stop commit_container al_py\n",
    "docker rmi alpine_with_python"
   ]
  },
  {
   "cell_type": "markdown",
   "metadata": {},
   "source": [
    "## Dockerfile directives\n",
    "\n",
    "Dockerfile directives describe the behaviour of the dockerbuild command.\n",
    "\n",
    "| Directive        | Description                                                                 |\n",
    "|------------------|-----------------------------------------------------------------------------|\n",
    "| `FROM`           | Sets the base image for the new image.                                      |\n",
    "| `WORKDIR`        | Sets the working directory within the image.                                |\n",
    "| `COPY`           | Copies files or directories from the host to the image.                     |\n",
    "| `RUN`            | Executes commands in a new layer on top of the current image.               |\n",
    "| `CMD`            | Provides a command that will run when a container is started.               |\n",
    "| `EXPOSE`         | Informs Docker that the container listens on the specified network ports.   |\n",
    "| `ENV`            | Sets environment variables.                                                 |\n",
    "| `ADD`            | Copies files, directories, or remote file URLs from the host to the image.  |\n",
    "| `ENTRYPOINT`     | Configures a container to run as an executable.                             |\n",
    "| `VOLUME`         | Creates a mount point with specified path and marks it as holding external data. |\n",
    "| `USER`           | Sets the username or UID to use when running the image.                     |\n",
    "| `LABEL`          | Adds metadata to an image.                                                  |\n",
    "| `ARG`            | Defines a variable that users can pass at build-time to the builder.        |\n",
    "| `ONBUILD`        | Adds a trigger instruction to be executed when the image is used as a base for another build. |\n",
    "| `STOPSIGNAL`     | Sets the system call signal that will be sent to the container to exit.     |\n",
    "| `HEALTHCHECK`    | Tells Docker how to test a container to check that it is still working.     |\n",
    "| `SHELL`          | Allows the default shell used for the shell form of commands to be overridden. |\n",
    "\n",
    "**Check more** in [specific page](images/docker_file_directives.ipynb) for dockerfile directives."
   ]
  }
 ],
 "metadata": {
  "kernelspec": {
   "display_name": "Bash",
   "language": "bash",
   "name": "bash"
  },
  "language_info": {
   "codemirror_mode": "shell",
   "file_extension": ".sh",
   "mimetype": "text/x-sh",
   "name": "bash"
  }
 },
 "nbformat": 4,
 "nbformat_minor": 2
}
