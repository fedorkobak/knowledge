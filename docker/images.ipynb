{
 "cells": [
  {
   "cell_type": "markdown",
   "metadata": {},
   "source": [
    "# Images\n",
    "\n",
    "This page focuses on the features associated with docker images."
   ]
  },
  {
   "cell_type": "markdown",
   "metadata": {},
   "source": [
    "## Build image\n",
    "\n",
    "You can build docker images using the `docker build <path to the folder>` command. The `<folder path>` should contain a `dockerfile` with the instructions to build the images."
   ]
  },
  {
   "cell_type": "markdown",
   "metadata": {},
   "source": [
    "---\n",
    "\n",
    "Consider example - the following cell creates the simplest possible `dockerfile` it just modifies alpine linux to echo message `this_is_new_container` at container startup."
   ]
  },
  {
   "cell_type": "code",
   "execution_count": 1,
   "metadata": {
    "vscode": {
     "languageId": "shellscript"
    }
   },
   "outputs": [],
   "source": [
    "cat << 'EOF' > images_files/dockerfile\n",
    "\n",
    "FROM alpine\n",
    "CMD [\"echo\", \"this_is_new_image\"]\n",
    "\n",
    "EOF"
   ]
  },
  {
   "cell_type": "markdown",
   "metadata": {},
   "source": [
    "**Note:** Even if the `Dockerfile` is located in the current working directory, you still need to specify the `path to folder` in the `docker build` command. In such cases, you should use the command `docker build .`.\n",
    "\n",
    "The following example demonstrates the construction of a Docker image. It employs `images_files` as the working directory to emphasize the need for explicitly specifying `.` as the path.\n",
    "\n",
    "Also here is specified `-t docker_build_example` option it specifies name of the container. "
   ]
  },
  {
   "cell_type": "code",
   "execution_count": 4,
   "metadata": {
    "vscode": {
     "languageId": "shellscript"
    }
   },
   "outputs": [],
   "source": [
    "cd images_files\n",
    "docker build -t docker_build_example . &> /dev/null\n",
    "cd .."
   ]
  },
  {
   "cell_type": "markdown",
   "metadata": {},
   "source": [
    "After executing the previous cell, you'll be able to find the `docker_build_example` image in the list of images."
   ]
  },
  {
   "cell_type": "code",
   "execution_count": 5,
   "metadata": {
    "vscode": {
     "languageId": "shellscript"
    }
   },
   "outputs": [
    {
     "name": "stdout",
     "output_type": "stream",
     "text": [
      "REPOSITORY             TAG       IMAGE ID       CREATED      SIZE\n",
      "docker_build_example   latest    1615e7501182   3 days ago   7.83MB\n"
     ]
    }
   ],
   "source": [
    "docker images"
   ]
  },
  {
   "cell_type": "markdown",
   "metadata": {},
   "source": [
    "Ok, finally, let's try to run container based on the image we created, to make sure that docker completes the instructions specified in the `dockerfile`."
   ]
  },
  {
   "cell_type": "code",
   "execution_count": 6,
   "metadata": {
    "vscode": {
     "languageId": "shellscript"
    }
   },
   "outputs": [
    {
     "name": "stdout",
     "output_type": "stream",
     "text": [
      "this_is_new_image\n",
      "Untagged: docker_build_example:latest\n",
      "Deleted: sha256:1615e7501182ca1dc43eb1affa2173af6bc3214c030c5ef0acb4ca96bdb6a916\n"
     ]
    }
   ],
   "source": [
    "docker run --rm docker_build_example\n",
    "docker rmi docker_build_example"
   ]
  },
  {
   "cell_type": "markdown",
   "metadata": {},
   "source": [
    "## Commit container to image\n",
    "\n",
    "The `docker commit` command allows you to save the current state of a container as a new image. This is useful if you have made changes or created something new within a container and want to preserve these modifications. To save the current state of a container as a new image, use the following syntax:\n",
    "\n",
    "```\n",
    "docker commit <container name> <new image name>\n",
    "```"
   ]
  },
  {
   "cell_type": "markdown",
   "metadata": {
    "vscode": {
     "languageId": "shellscript"
    }
   },
   "source": [
    "---\n",
    "\n",
    "As an example, let us run Alpine Linux and try to ask it Python version."
   ]
  },
  {
   "cell_type": "code",
   "execution_count": 36,
   "metadata": {
    "vscode": {
     "languageId": "shellscript"
    }
   },
   "outputs": [
    {
     "name": "stdout",
     "output_type": "stream",
     "text": [
      "7a095fff8ce568c6a238676ee753d8c99ed99705b89dded46daa52682675cd69\n",
      "OCI runtime exec failed: exec failed: unable to start container process: exec: \"python3\": executable file not found in $PATH: unknown\n"
     ]
    },
    {
     "ename": "",
     "evalue": "126",
     "output_type": "error",
     "traceback": []
    }
   ],
   "source": [
    "docker run --rm --name commit_container -itd alpine\n",
    "docker exec commit_container python3 --version"
   ]
  },
  {
   "cell_type": "markdown",
   "metadata": {},
   "source": [
    "As a result, we got an error. No big deal - we could install Python on any system."
   ]
  },
  {
   "cell_type": "code",
   "execution_count": 37,
   "metadata": {
    "vscode": {
     "languageId": "shellscript"
    }
   },
   "outputs": [
    {
     "name": "stdout",
     "output_type": "stream",
     "text": [
      "Python 3.12.3\n"
     ]
    }
   ],
   "source": [
    "docker exec commit_container apk add python3 &> /dev/null\n",
    "docker exec commit_container python3 --version"
   ]
  },
  {
   "cell_type": "markdown",
   "metadata": {},
   "source": [
    "After installation we have the Python version. Now by using `commit` we \"freeze\" such state of the container as the image. And any container created on from this image will be just like alpine linux but with installed python."
   ]
  },
  {
   "cell_type": "code",
   "execution_count": 33,
   "metadata": {
    "vscode": {
     "languageId": "shellscript"
    }
   },
   "outputs": [
    {
     "name": "stdout",
     "output_type": "stream",
     "text": [
      "7a40579ac221bcc570751f0ab496e10291134448f5885e7c614d0544b21c69a1\n",
      "Python 3.12.3\n"
     ]
    }
   ],
   "source": [
    "docker commit commit_container alpine_with_python\n",
    "docker run --rm -itd --name al_py alpine_with_python\n",
    "docker exec al_py python3 --version"
   ]
  },
  {
   "cell_type": "markdown",
   "metadata": {
    "vscode": {
     "languageId": "shellscript"
    }
   },
   "source": [
    "So containers that use the `alpine_with_python` image as a base will have the python version by default."
   ]
  },
  {
   "cell_type": "code",
   "execution_count": 39,
   "metadata": {
    "vscode": {
     "languageId": "shellscript"
    }
   },
   "outputs": [
    {
     "name": "stdout",
     "output_type": "stream",
     "text": [
      "commit_container\n",
      "Error response from daemon: No such container: al_py\n",
      "Untagged: alpine_with_python:latest\n",
      "Deleted: sha256:909728da78e4e6032ade63f135f729f85075df783e86c72688e20f152f5d27ec\n",
      "Deleted: sha256:d45b95ae0c5e8765eebc035f638f39e1cfcf6d20cd0df26e0915f9ab087793c5\n"
     ]
    }
   ],
   "source": [
    "docker stop commit_container al_py\n",
    "docker rmi alpine_with_python"
   ]
  },
  {
   "cell_type": "markdown",
   "metadata": {},
   "source": [
    "## Prune images\n",
    "\n",
    "Docker prune allows you to remove a set of images. By default, it removes containers with the `<none>` tag, which are typically intermediate images that were replaced by other containers with the same tag. These `<none>` images can be safely removed."
   ]
  },
  {
   "cell_type": "markdown",
   "metadata": {},
   "source": [
    "---\n",
    "\n",
    "Consider the example where we are creating two images in Docker-in-Docker — one with a specified tag and the other created in such a way that it has the tag `<none>:<none>`."
   ]
  },
  {
   "cell_type": "code",
   "execution_count": 1,
   "metadata": {
    "vscode": {
     "languageId": "shellscript"
    }
   },
   "outputs": [],
   "source": [
    "docker pull alpine &> /dev/null\n",
    "\n",
    "docker build - &> /dev/null << EOF\n",
    "FROM alpine\n",
    "RUN mkdir hello\n",
    "EOF "
   ]
  },
  {
   "cell_type": "markdown",
   "metadata": {},
   "source": [
    "The following cell shows that everything is created as expected."
   ]
  },
  {
   "cell_type": "code",
   "execution_count": 2,
   "metadata": {
    "vscode": {
     "languageId": "shellscript"
    }
   },
   "outputs": [
    {
     "name": "stdout",
     "output_type": "stream",
     "text": [
      "REPOSITORY   TAG       IMAGE ID       CREATED         SIZE\n",
      "<none>       <none>    70cc108d4522   3 minutes ago   7.83MB\n",
      "alpine       latest    b0c9d60fc5e3   3 days ago      7.83MB\n"
     ]
    }
   ],
   "source": [
    "docker images"
   ]
  },
  {
   "cell_type": "markdown",
   "metadata": {},
   "source": [
    "With `docker image prune`, you are removing dangling images.\n",
    "\n",
    "**Note**: By default, it prompts for confirmation. To bypass this prompt, use the `-f` or `--force` flag."
   ]
  },
  {
   "cell_type": "code",
   "execution_count": 3,
   "metadata": {
    "vscode": {
     "languageId": "shellscript"
    }
   },
   "outputs": [
    {
     "name": "stdout",
     "output_type": "stream",
     "text": [
      "Deleted Images:\n",
      "deleted: sha256:70cc108d4522de1ecaf84eb8de6da565a0a3025233e0049d2fd4face1f9da62a\n",
      "\n",
      "Total reclaimed space: 0B\n"
     ]
    }
   ],
   "source": [
    "docker image prune -f"
   ]
  },
  {
   "cell_type": "markdown",
   "metadata": {},
   "source": [
    "So now there are no containers with the `<none>:<none>` tag—they have been pruned."
   ]
  },
  {
   "cell_type": "code",
   "execution_count": 5,
   "metadata": {
    "vscode": {
     "languageId": "shellscript"
    }
   },
   "outputs": [
    {
     "name": "stdout",
     "output_type": "stream",
     "text": [
      "REPOSITORY   TAG       IMAGE ID       CREATED      SIZE\n",
      "alpine       latest    b0c9d60fc5e3   3 days ago   7.83MB\n"
     ]
    }
   ],
   "source": [
    "docker images"
   ]
  },
  {
   "cell_type": "markdown",
   "metadata": {},
   "source": [
    "## Dockerfile directives\n",
    "\n",
    "Dockerfile directives describe the behaviour of the dockerbuild command.\n",
    "\n",
    "| Directive        | Description                                                                 |\n",
    "|------------------|-----------------------------------------------------------------------------|\n",
    "| `FROM`           | Sets the base image for the new image.                                      |\n",
    "| `WORKDIR`        | Sets the working directory within the image.                                |\n",
    "| `COPY`           | Copies files or directories from the host to the image.                     |\n",
    "| `RUN`            | Executes commands in a new layer on top of the current image.               |\n",
    "| `CMD`            | Provides a command that will run when a container is started.               |\n",
    "| `EXPOSE`         | Informs Docker that the container listens on the specified network ports.   |\n",
    "| `ENV`            | Sets environment variables.                                                 |\n",
    "| `ADD`            | Copies files, directories, or remote file URLs from the host to the image.  |\n",
    "| `ENTRYPOINT`     | Configures a container to run as an executable.                             |\n",
    "| `VOLUME`         | Creates a mount point with specified path and marks it as holding external data. |\n",
    "| `USER`           | Sets the username or UID to use when running the image.                     |\n",
    "| `LABEL`          | Adds metadata to an image.                                                  |\n",
    "| `ARG`            | Defines a variable that users can pass at build-time to the builder.        |\n",
    "| `ONBUILD`        | Adds a trigger instruction to be executed when the image is used as a base for another build. |\n",
    "| `STOPSIGNAL`     | Sets the system call signal that will be sent to the container to exit.     |\n",
    "| `HEALTHCHECK`    | Tells Docker how to test a container to check that it is still working.     |\n",
    "| `SHELL`          | Allows the default shell used for the shell form of commands to be overridden. |\n",
    "\n",
    "**Check more** in [specific page](images/docker_file_directives.ipynb) for dockerfile directives."
   ]
  },
  {
   "cell_type": "markdown",
   "metadata": {},
   "source": [
    "## History (layers)\n",
    "\n",
    "With `docker history <image name>`, you can view the manipulations used to create the image. Some of them are layers — a layer is a row in the history with a non-zero `SIZE`."
   ]
  },
  {
   "cell_type": "markdown",
   "metadata": {},
   "source": [
    "---\n",
    "\n",
    "The following cell pulls the `alpine` image, and showen history of the layer."
   ]
  },
  {
   "cell_type": "code",
   "execution_count": 3,
   "metadata": {
    "vscode": {
     "languageId": "shellscript"
    }
   },
   "outputs": [
    {
     "name": "stdout",
     "output_type": "stream",
     "text": [
      "IMAGE          CREATED      CREATED BY                                      SIZE      COMMENT\n",
      "b0c9d60fc5e3   3 days ago   CMD [\"/bin/sh\"]                                 0B        buildkit.dockerfile.v0\n",
      "<missing>      3 days ago   ADD alpine-minirootfs-3.21.2-x86_64.tar.gz /…   7.83MB    buildkit.dockerfile.v0\n"
     ]
    }
   ],
   "source": [
    "docker pull alpine &> /dev/null\n",
    "docker history alpine"
   ]
  },
  {
   "cell_type": "markdown",
   "metadata": {},
   "source": [
    "**Note:** A `0B` size history event for specifying `CMD` represents metadata of the image. It is part of the history but not a layer."
   ]
  },
  {
   "cell_type": "markdown",
   "metadata": {},
   "source": [
    "The following code creates a new image based on the `alpine` loaded in the previous cell. It adds two `RUN` commands. "
   ]
  },
  {
   "cell_type": "code",
   "execution_count": 12,
   "metadata": {
    "vscode": {
     "languageId": "shellscript"
    }
   },
   "outputs": [],
   "source": [
    "docker build -t extra_layer - &> /dev/null << EOF\n",
    "FROM alpine\n",
    "RUN echo \"hello world\" > test_file \n",
    "RUN echo \"hello world\"\n",
    "EOF "
   ]
  },
  {
   "cell_type": "markdown",
   "metadata": {},
   "source": [
    "The result is two `RUN` commands in the `history` of the image."
   ]
  },
  {
   "cell_type": "code",
   "execution_count": 13,
   "metadata": {
    "vscode": {
     "languageId": "shellscript"
    }
   },
   "outputs": [
    {
     "name": "stdout",
     "output_type": "stream",
     "text": [
      "IMAGE          CREATED              CREATED BY                                      SIZE      COMMENT\n",
      "9872f645ca65   About a minute ago   RUN /bin/sh -c echo \"hello world\" # buildkit    0B        buildkit.dockerfile.v0\n",
      "<missing>      About a minute ago   RUN /bin/sh -c echo \"hello world\" > test_fil…   12B       buildkit.dockerfile.v0\n",
      "<missing>      3 days ago           CMD [\"/bin/sh\"]                                 0B        buildkit.dockerfile.v0\n",
      "<missing>      3 days ago           ADD alpine-minirootfs-3.21.2-x86_64.tar.gz /…   7.83MB    buildkit.dockerfile.v0\n"
     ]
    }
   ],
   "source": [
    "docker history extra_layer"
   ]
  }
 ],
 "metadata": {
  "kernelspec": {
   "display_name": "Bash",
   "language": "bash",
   "name": "bash"
  },
  "language_info": {
   "codemirror_mode": "shell",
   "file_extension": ".sh",
   "mimetype": "text/x-sh",
   "name": "bash"
  }
 },
 "nbformat": 4,
 "nbformat_minor": 2
}
