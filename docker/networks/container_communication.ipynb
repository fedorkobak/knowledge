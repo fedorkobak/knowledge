{
 "cells": [
  {
   "cell_type": "markdown",
   "id": "eb98f06f-b2f5-43b0-9456-37bc6a8b00cf",
   "metadata": {},
   "source": [
    "# Containers communication\n",
    "\n",
    "In this page I want to focus on ways of organising container communication."
   ]
  },
  {
   "cell_type": "markdown",
   "id": "f990f40d",
   "metadata": {
    "vscode": {
     "languageId": "shellscript"
    }
   },
   "source": [
    "## Communicating by IP\n",
    "\n",
    "To access one container from another by container name, you need to add them to the same custom Docker network. However, if you're using the containers' IP addresses, the containers can communicate with each other on the default `bridge` network."
   ]
  },
  {
   "cell_type": "markdown",
   "id": "793fb6fc",
   "metadata": {},
   "source": [
    "---\n",
    "\n",
    "Consider the example where we are trying to send a request from `example_client` to the `example_server` container. The following cell creates everything we needed:"
   ]
  },
  {
   "cell_type": "code",
   "execution_count": 2,
   "id": "62e10560",
   "metadata": {
    "vscode": {
     "languageId": "shellscript"
    }
   },
   "outputs": [
    {
     "name": "stdout",
     "output_type": "stream",
     "text": [
      "ea3dc18555a4c4f8458da8333802a60484e9ef92df9ca8fd2998d7f8f6d6d5f9\n",
      "e5da80689cabd318d696d8640cd2ba0ad55935ccfabd379c8bf0f34e7cc5efa5\n"
     ]
    }
   ],
   "source": [
    "docker run -itd --name example_client --rm alpine\n",
    "docker exec example_client apk add curl &> /dev/null\n",
    "\n",
    "docker run -itd --name example_server --rm kennethreitz/httpbin"
   ]
  },
  {
   "cell_type": "markdown",
   "id": "cf98a63d",
   "metadata": {},
   "source": [
    "Obviously we can't do this just by container name. This is because the containers are in the default `bridge` network, which doesn't support such interactions."
   ]
  },
  {
   "cell_type": "code",
   "execution_count": 12,
   "id": "b999550b",
   "metadata": {
    "vscode": {
     "languageId": "shellscript"
    }
   },
   "outputs": [
    {
     "ename": "",
     "evalue": "6",
     "output_type": "error",
     "traceback": []
    }
   ],
   "source": [
    "docker exec example_client curl -s example_server/anything"
   ]
  },
  {
   "cell_type": "markdown",
   "id": "28b298e2",
   "metadata": {
    "vscode": {
     "languageId": "shellscript"
    }
   },
   "source": [
    "Now let's try to extract the ip address of `server_example` on the docker network. "
   ]
  },
  {
   "cell_type": "code",
   "execution_count": 8,
   "id": "0780d5c4",
   "metadata": {
    "vscode": {
     "languageId": "shellscript"
    }
   },
   "outputs": [
    {
     "name": "stdout",
     "output_type": "stream",
     "text": [
      "172.17.0.3\n"
     ]
    }
   ],
   "source": [
    "server_ip=$(docker inspect\\\n",
    "    --format '{{ .NetworkSettings.IPAddress }}'\\\n",
    "    example_server)\n",
    "echo $server_ip"
   ]
  },
  {
   "cell_type": "markdown",
   "id": "9669051b",
   "metadata": {},
   "source": [
    "By using it in the `curl` that tries to access `server_example` from `client_example` we'll have result."
   ]
  },
  {
   "cell_type": "code",
   "execution_count": 18,
   "id": "009df458",
   "metadata": {
    "vscode": {
     "languageId": "shellscript"
    }
   },
   "outputs": [
    {
     "name": "stdout",
     "output_type": "stream",
     "text": [
      "{\n",
      "  \"args\": {}, \n",
      "  \"data\": \"\", \n",
      "  \"files\": {}, \n",
      "  \"form\": {}, \n",
      "  \"headers\": {\n",
      "    \"Accept\": \"*/*\", \n",
      "    \"Host\": \"172.17.0.3\", \n",
      "    \"User-Agent\": \"curl/8.9.0\"\n",
      "  }, \n",
      "  \"json\": null, \n",
      "  \"method\": \"GET\", \n",
      "  \"origin\": \"172.17.0.2\", \n",
      "  \"url\": \"http://172.17.0.3/anything\"\n",
      "}\n"
     ]
    }
   ],
   "source": [
    "docker exec example_client sh -c \"curl -s $server_ip/anything\""
   ]
  },
  {
   "cell_type": "markdown",
   "id": "75e43dd1",
   "metadata": {
    "vscode": {
     "languageId": "shellscript"
    }
   },
   "source": [
    "Keep environment clean after all."
   ]
  },
  {
   "cell_type": "code",
   "execution_count": 19,
   "id": "dc0181e3",
   "metadata": {
    "vscode": {
     "languageId": "shellscript"
    }
   },
   "outputs": [
    {
     "name": "stdout",
     "output_type": "stream",
     "text": [
      "example_client\n",
      "example_server\n"
     ]
    }
   ],
   "source": [
    "docker stop example_client example_server"
   ]
  }
 ],
 "metadata": {
  "kernelspec": {
   "display_name": "Bash",
   "language": "bash",
   "name": "bash"
  },
  "language_info": {
   "codemirror_mode": "shell",
   "file_extension": ".sh",
   "mimetype": "text/x-sh",
   "name": "bash"
  }
 },
 "nbformat": 4,
 "nbformat_minor": 5
}
