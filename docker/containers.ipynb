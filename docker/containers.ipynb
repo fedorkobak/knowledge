{
 "cells": [
  {
   "cell_type": "markdown",
   "metadata": {},
   "source": [
    "# Containers\n",
    "\n",
    "Here we look at options for performing operations under Docker containers."
   ]
  },
  {
   "cell_type": "markdown",
   "metadata": {},
   "source": [
    "## Restart container (`restart`)\n",
    "\n",
    "You can use the `docker container restart <container>` command, or shorter - `docker restart container`, to restart a given Docker container. "
   ]
  },
  {
   "cell_type": "markdown",
   "metadata": {},
   "source": [
    "---\n",
    "\n",
    "We'll look at this command on the image, which prints `hello world` to the logs every time it starts, and locks itself into an infinite cycle to keep running in deatched mode."
   ]
  },
  {
   "cell_type": "markdown",
   "metadata": {},
   "source": [
    "The following cell creates such an image and runs a container based on it."
   ]
  },
  {
   "cell_type": "code",
   "execution_count": 5,
   "metadata": {
    "vscode": {
     "languageId": "shellscript"
    }
   },
   "outputs": [
    {
     "name": "stdout",
     "output_type": "stream",
     "text": [
      "1dd886b39ea60b5c7d8e884a0267cd2da134327ea2ace7f8f85db560d9520f5f\n"
     ]
    }
   ],
   "source": [
    "cat << EOF > dockerfile\n",
    "FROM alpine\n",
    "CMD echo \"hello world\" && while true; do :; done\n",
    "EOF\n",
    "\n",
    "docker build -t restart_example . &> /dev/null\n",
    "docker run -itd --rm --name restart_example restart_example"
   ]
  },
  {
   "cell_type": "markdown",
   "metadata": {},
   "source": [
    "With `docker logs restart_example` we can get what was printed to the standart stream of the container."
   ]
  },
  {
   "cell_type": "code",
   "execution_count": 6,
   "metadata": {
    "vscode": {
     "languageId": "shellscript"
    }
   },
   "outputs": [
    {
     "name": "stdout",
     "output_type": "stream",
     "text": [
      "hello world\n"
     ]
    }
   ],
   "source": [
    "docker logs restart_example"
   ]
  },
  {
   "cell_type": "markdown",
   "metadata": {},
   "source": [
    "As expected, this is just a `hello world` message."
   ]
  },
  {
   "cell_type": "markdown",
   "metadata": {},
   "source": [
    "Now run `docker restart` on the container in question."
   ]
  },
  {
   "cell_type": "code",
   "execution_count": 7,
   "metadata": {
    "vscode": {
     "languageId": "shellscript"
    }
   },
   "outputs": [
    {
     "name": "stdout",
     "output_type": "stream",
     "text": [
      "restart_example\n"
     ]
    }
   ],
   "source": [
    "docker restart restart_example"
   ]
  },
  {
   "cell_type": "markdown",
   "metadata": {},
   "source": [
    "And check logs again."
   ]
  },
  {
   "cell_type": "code",
   "execution_count": 8,
   "metadata": {
    "vscode": {
     "languageId": "shellscript"
    }
   },
   "outputs": [
    {
     "name": "stdout",
     "output_type": "stream",
     "text": [
      "hello world\n",
      "hello world\n"
     ]
    }
   ],
   "source": [
    "docker logs restart_example"
   ]
  },
  {
   "cell_type": "markdown",
   "metadata": {},
   "source": [
    "There are now two `hello world` messages, indicating that the container has been restarted."
   ]
  },
  {
   "cell_type": "markdown",
   "metadata": {},
   "source": [
    "Finally - clean the environment of sample containers/images/files."
   ]
  },
  {
   "cell_type": "code",
   "execution_count": 9,
   "metadata": {
    "vscode": {
     "languageId": "shellscript"
    }
   },
   "outputs": [],
   "source": [
    "docker stop restart_example &> /dev/null\n",
    "docker rmi restart_example &> /dev/null\n",
    "rm dockerfile"
   ]
  },
  {
   "cell_type": "markdown",
   "metadata": {},
   "source": [
    "## Activate stopped (`start`)\n",
    "\n",
    "Using command `docker start` you can return to execution stopped contianer."
   ]
  },
  {
   "cell_type": "markdown",
   "metadata": {},
   "source": [
    "---\n",
    "\n",
    "The following example creates container and stops it. Displayed the output of the `docker ps -a` command and there is `Exited` at the status field."
   ]
  },
  {
   "cell_type": "code",
   "execution_count": 16,
   "metadata": {
    "vscode": {
     "languageId": "shellscript"
    }
   },
   "outputs": [
    {
     "name": "stdout",
     "output_type": "stream",
     "text": [
      "CONTAINER ID   IMAGE     COMMAND     CREATED          STATUS                                PORTS     NAMES\n",
      "1bc3217411a6   alpine    \"/bin/sh\"   10 seconds ago   Exited (137) Less than a second ago             test_container\n"
     ]
    }
   ],
   "source": [
    "docker run --name test_container -td alpine &> /dev/null\n",
    "docker stop test_container &> /dev/null\n",
    "docker ps -a"
   ]
  },
  {
   "cell_type": "markdown",
   "metadata": {},
   "source": [
    "So afte executing `start` command we got our container back."
   ]
  },
  {
   "cell_type": "code",
   "execution_count": 15,
   "metadata": {
    "vscode": {
     "languageId": "shellscript"
    }
   },
   "outputs": [
    {
     "name": "stdout",
     "output_type": "stream",
     "text": [
      "/ # \u001b[6n\n",
      "CONTAINER ID   IMAGE     COMMAND   CREATED   STATUS    PORTS     NAMES\n"
     ]
    }
   ],
   "source": [
    "docker start test_container\n",
    "docker ps\n",
    "\n",
    "docker stop test_container\n",
    "docker mr test_container"
   ]
  },
  {
   "cell_type": "markdown",
   "metadata": {},
   "source": [
    "## Execute in (`exec`)\n",
    "\n",
    "`exec` command allows you to execute something in the container.\n",
    "\n",
    "For more details check [specific page](containers/execute_in.ipynb)."
   ]
  },
  {
   "cell_type": "markdown",
   "metadata": {},
   "source": [
    "---\n",
    "\n",
    "So in the following example for the alpine container, we first install `fortune` utility and then run it."
   ]
  },
  {
   "cell_type": "code",
   "execution_count": 3,
   "metadata": {
    "vscode": {
     "languageId": "shellscript"
    }
   },
   "outputs": [
    {
     "name": "stdout",
     "output_type": "stream",
     "text": [
      "Once Law was sitting on the bench\n",
      "\tAnd Mercy knelt a-weeping.\n",
      "\"Clear out!\" he cried, \"disordered wench!\n",
      "\tNor come before me creeping.\n",
      "Upon your knees if you appear,\n",
      "'Tis plain you have no standing here.\"\n",
      "\n",
      "Then Justice came.  His Honor cried:\n",
      "\t\"YOUR states? -- Devil seize you!\"\n",
      "\"Amica curiae,\" she replied --\n",
      "\t\"Friend of the court, so please you.\"\n",
      "\"Begone!\" he shouted -- \"There's the door --\n",
      "I never saw your face before!\"\n",
      "\t\t-- Ambrose Bierce, \"The Devil's Dictionary\"\n"
     ]
    }
   ],
   "source": [
    "docker run --name exec_example --rm -idt alpine &> /dev/null\n",
    "\n",
    "docker exec exec_example apk add fortune &> /dev/null\n",
    "docker exec exec_example fortune\n",
    "\n",
    "docker stop exec_example &> /dev/null"
   ]
  },
  {
   "cell_type": "markdown",
   "metadata": {},
   "source": [
    "The `-it` option is extremely useful as it enables pseudo-TTY and allows you to use containers in interactive mode. In simpler terms, it lets you access the shell of the container directly.\n",
    "\n",
    "Due to the limitations of the Jupyter notebook, we can't demonstrate this directly here, but you can try it out in your terminal with the following commands:\n",
    "\n",
    "```bash\n",
    "# This command creates and runs a container named 'test_container' using the Alpine image\n",
    "docker run -itd --name test_container alpine\n",
    "\n",
    "# This command opens an interactive shell in the 'test_container'\n",
    "docker exec -it test_container sh\n",
    "```"
   ]
  },
  {
   "cell_type": "markdown",
   "metadata": {},
   "source": [
    "## Copy files (`cp`)\n",
    "\n",
    "You can copy files from containers to host and viceversy by usind syntax `docker cp <from> <to>`."
   ]
  },
  {
   "cell_type": "markdown",
   "metadata": {},
   "source": [
    "---\n",
    "\n",
    "The following cell starts two docker containers, which we'll use for the following examples. Note that the second container has a `temp_file' with a `secret_message`."
   ]
  },
  {
   "cell_type": "code",
   "execution_count": 7,
   "metadata": {
    "vscode": {
     "languageId": "shellscript"
    }
   },
   "outputs": [
    {
     "name": "stdout",
     "output_type": "stream",
     "text": [
      "4f7d03227bc74de0d2c0538cef98869bb263d9cca3bd1661bbdd8c59278f7648\n",
      "aa4da98572298971e7142dda1858909c0288b2830541f752808dbb128293e353\n"
     ]
    }
   ],
   "source": [
    "docker run -itd --name container1 --rm alpine\n",
    "docker run -itd \\\n",
    "    --name container2 --rm alpine sh \\\n",
    "    -c \"echo secret_message > temp_file && tail -f /dev/null\""
   ]
  },
  {
   "cell_type": "markdown",
   "metadata": {},
   "source": [
    "To copy from the container to the host, you must use the syntax `docker cp <container name>:<container path> <host path>`.\n",
    "\n",
    "The following cell demonstrates copying `temp_file` from `container2` to the host. After this `cat other_file` form host will print `secret_message`."
   ]
  },
  {
   "cell_type": "code",
   "execution_count": 9,
   "metadata": {
    "vscode": {
     "languageId": "shellscript"
    }
   },
   "outputs": [
    {
     "name": "stdout",
     "output_type": "stream",
     "text": [
      "Successfully copied 2.05kB to /home/f.kobak@maxbit.local/Documents/knowledge/Docker/temp_file\n",
      "secret_message\n"
     ]
    }
   ],
   "source": [
    "docker cp container2:temp_file temp_file\n",
    "cat temp_file"
   ]
  },
  {
   "cell_type": "markdown",
   "metadata": {},
   "source": [
    "To copy from the host to the container, you must use the syntax `docker cp <host path> <container name>:<container path>`.\n",
    "\n",
    "The following cell shows how to copy `temp_file` to `container1`. Then `cat other_file` from the container and print `secret_message`."
   ]
  },
  {
   "cell_type": "code",
   "execution_count": 16,
   "metadata": {
    "vscode": {
     "languageId": "shellscript"
    }
   },
   "outputs": [
    {
     "name": "stdout",
     "output_type": "stream",
     "text": [
      "Successfully copied 3.07kB to container1:temp_file\n",
      "secret_message\n"
     ]
    }
   ],
   "source": [
    "docker cp temp_file container1:temp_file\n",
    "docker exec container1 cat temp_file"
   ]
  },
  {
   "cell_type": "markdown",
   "metadata": {},
   "source": [
    "**Note** Docker doesn't support copying from container to container. The following cell shows what happens when you try."
   ]
  },
  {
   "cell_type": "code",
   "execution_count": 17,
   "metadata": {
    "vscode": {
     "languageId": "shellscript"
    }
   },
   "outputs": [
    {
     "name": "stdout",
     "output_type": "stream",
     "text": [
      "copying between containers is not supported\n"
     ]
    },
    {
     "ename": "",
     "evalue": "1",
     "output_type": "error",
     "traceback": []
    }
   ],
   "source": [
    "docker cp container1:temp_file container2:temp_file2"
   ]
  },
  {
   "cell_type": "markdown",
   "metadata": {},
   "source": [
    "Cleaning up the environment after our experiments."
   ]
  },
  {
   "cell_type": "code",
   "execution_count": 18,
   "metadata": {
    "vscode": {
     "languageId": "shellscript"
    }
   },
   "outputs": [
    {
     "name": "stdout",
     "output_type": "stream",
     "text": [
      "container1\n",
      "container2\n"
     ]
    }
   ],
   "source": [
    "docker stop container1 container2\n",
    "rm temp_file"
   ]
  },
  {
   "cell_type": "markdown",
   "metadata": {},
   "source": [
    "## Check logs (`logs`)\n",
    "\n",
    "The Docker `logs` command allows you to view the standard output of the Docker container. For more details check [this](containers/check_logs.ipynb)."
   ]
  },
  {
   "cell_type": "markdown",
   "metadata": {},
   "source": [
    "---\n",
    "\n",
    "The following example runs a docker container which occasionally prints the current time to the container's standard output. And then uses `docker logs` to show the output of this container."
   ]
  },
  {
   "cell_type": "code",
   "execution_count": 56,
   "metadata": {
    "vscode": {
     "languageId": "shellscript"
    }
   },
   "outputs": [
    {
     "name": "stdout",
     "output_type": "stream",
     "text": [
      "14:09:07\n",
      "14:09:08\n",
      "14:09:09\n",
      "14:09:10\n",
      "14:09:11\n",
      "14:09:12\n"
     ]
    }
   ],
   "source": [
    "docker run \\\n",
    "    --name test_container -d --rm alpine \\\n",
    "    sh -c \"while true; do $(echo date \"+%T\"); sleep 1; done\" &> /dev/null\n",
    "sleep 5\n",
    "\n",
    "docker logs test_container\n",
    "docker stop test_container &> /dev/null"
   ]
  },
  {
   "cell_type": "markdown",
   "metadata": {},
   "source": [
    "## Monitoring (`stats`)\n",
    "\n",
    "The `docker stats` command provides real-time monitoring of resource usage by Docker containers. By default, it streams output to the terminal, continuously refreshing the statistics. To obtain a single snapshot of the stats, use the `--no-stream` option, which outputs the results only once. "
   ]
  },
  {
   "cell_type": "markdown",
   "metadata": {},
   "source": [
    "---\n",
    "\n",
    "The following cell demonstrates how to use the `docker stats` command to check the state of your container. "
   ]
  },
  {
   "cell_type": "code",
   "execution_count": 5,
   "metadata": {
    "vscode": {
     "languageId": "shellscript"
    }
   },
   "outputs": [
    {
     "name": "stdout",
     "output_type": "stream",
     "text": [
      "CONTAINER ID   NAME         CPU %     MEM USAGE / LIMIT   MEM %     NET I/O     BLOCK I/O   PIDS\n",
      "ee606c8d43d4   stats_test   0.00%     508KiB / 31.01GiB   0.00%     526B / 0B   0B / 0B     1\n"
     ]
    }
   ],
   "source": [
    "docker run -itd --rm --name stats_test alpine &> /dev/null \n",
    "\n",
    "docker stats --no-stream\n",
    "\n",
    "docker stop stats_test &> /dev/null"
   ]
  }
 ],
 "metadata": {
  "kernelspec": {
   "display_name": "Bash",
   "language": "bash",
   "name": "bash"
  },
  "language_info": {
   "codemirror_mode": "shell",
   "file_extension": ".sh",
   "mimetype": "text/x-sh",
   "name": "bash"
  }
 },
 "nbformat": 4,
 "nbformat_minor": 2
}
