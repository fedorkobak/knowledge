{
 "cells": [
  {
   "attachments": {},
   "cell_type": "markdown",
   "metadata": {},
   "source": [
    "**Логи**\n",
    "\n",
    "Логи можно:\n",
    "- писать используя стандарный поток вывода (см. [Комманда log](#log_command));\n",
    "- писать в заранее назначенный для этого файл (тут ничего особенно можно просто использовать volume или bind mount);\n",
    "- комбинировать два ранее обозначенных способа."
   ]
  },
  {
   "attachments": {},
   "cell_type": "markdown",
   "metadata": {},
   "source": [
    "<a id=\"log_command\"></a>\n",
    "\n",
    "# Комманда `logs`\n",
    "\n",
    "Позволяет прочитать, что проиходило в терминале контейнера. Получается, это идеальный вариант для случая когда логи делаются через потоки вывода.\n",
    "\n",
    "Пример далее показывает как может быть использована эта возможность.\n",
    "\n",
    "Интерестно, то что в jupyter сообщения отправленные в stderr выводятся отдельно от сообщений отправленных в stdout. Но в терминале, все идет вперемешку, поэтому, я думаю, это особенности jupyter."
   ]
  },
  {
   "cell_type": "code",
   "execution_count": 1,
   "metadata": {},
   "outputs": [
    {
     "name": "stdout",
     "output_type": "stream",
     "text": [
      "8ac4ed70fd7b77cc60fb0b413be4d44595bedf9b65b6aa32e888d4ab77e0daa1\n"
     ]
    },
    {
     "name": "stderr",
     "output_type": "stream",
     "text": [
      "Some error\n",
      "Some error\n",
      "Some error\n",
      "Some error\n",
      "Some error\n"
     ]
    },
    {
     "name": "stdout",
     "output_type": "stream",
     "text": [
      "Just message\n",
      "Just message\n",
      "Just message\n",
      "Just message\n",
      "Just message\n",
      "log_example\n"
     ]
    }
   ],
   "source": [
    "%%bash\n",
    "docker run -d --rm --name log_example log_example stream.py\n",
    "sleep 10\n",
    "docker logs log_example\n",
    "docker stop log_example"
   ]
  },
  {
   "attachments": {},
   "cell_type": "markdown",
   "metadata": {},
   "source": [
    "### Опция `-f`\n",
    "Можно читать, контенер на лету, то есть все что контейнер посылает на потоки вывода, будет сиедть и в терминале. В качестве примера привожу gif.\n",
    "\n",
    "<img src=\"-f_ex.gif\"></img>\n",
    "<img src=\"https://github.com/fedorkobak/knowledge_bank/blob/main/docker/logs/-f_ex.gif\"></img>"
   ]
  },
  {
   "attachments": {},
   "cell_type": "markdown",
   "metadata": {},
   "source": [
    "# Особеснноти работы с потоками"
   ]
  },
  {
   "attachments": {},
   "cell_type": "markdown",
   "metadata": {},
   "source": [
    "# Одновременный вывод и в поток вывода и в файл"
   ]
  }
 ],
 "metadata": {
  "kernelspec": {
   "display_name": "Python 3",
   "language": "python",
   "name": "python3"
  },
  "language_info": {
   "codemirror_mode": {
    "name": "ipython",
    "version": 3
   },
   "file_extension": ".py",
   "mimetype": "text/x-python",
   "name": "python",
   "nbconvert_exporter": "python",
   "pygments_lexer": "ipython3",
   "version": "3.10.6"
  },
  "orig_nbformat": 4
 },
 "nbformat": 4,
 "nbformat_minor": 2
}
