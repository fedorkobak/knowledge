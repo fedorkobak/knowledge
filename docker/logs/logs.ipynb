{
 "cells": [
  {
   "attachments": {},
   "cell_type": "markdown",
   "metadata": {},
   "source": [
    "**Логи**\n",
    "\n",
    "Логи можно:\n",
    "- писать используя стандарный поток вывода (см. [Комманда log](#log_command));\n",
    "- писать в заранее назначенный для этого файл (тут ничего особенно можно просто использовать volume или bind mount);\n",
    "- комбинировать два ранее обозначенных способа."
   ]
  },
  {
   "attachments": {},
   "cell_type": "markdown",
   "metadata": {},
   "source": [
    "<a id=\"log_command\"></a>\n",
    "\n",
    "# Комманда `logs`\n",
    "\n",
    "Позволяет прочитать, что проиходило в терминале контейнера. Получается, это идеальный вариант для случая когда логи делаются через потоки вывода.\n",
    "\n",
    "Пример далее показывает как может быть использована эта возможность.\n",
    "\n",
    "Интерестно, то что в jupyter сообщения отправленные в stderr выводятся отдельно от сообщений отправленных в stdout. Но в терминале, все идет вперемешку, поэтому, я думаю, это особенности jupyter."
   ]
  },
  {
   "cell_type": "code",
   "execution_count": 1,
   "metadata": {},
   "outputs": [
    {
     "name": "stdout",
     "output_type": "stream",
     "text": [
      "8ac4ed70fd7b77cc60fb0b413be4d44595bedf9b65b6aa32e888d4ab77e0daa1\n"
     ]
    },
    {
     "name": "stderr",
     "output_type": "stream",
     "text": [
      "Some error\n",
      "Some error\n",
      "Some error\n",
      "Some error\n",
      "Some error\n"
     ]
    },
    {
     "name": "stdout",
     "output_type": "stream",
     "text": [
      "Just message\n",
      "Just message\n",
      "Just message\n",
      "Just message\n",
      "Just message\n",
      "log_example\n"
     ]
    }
   ],
   "source": [
    "%%bash\n",
    "docker run -d --rm --name log_example log_example stream.py\n",
    "sleep 10\n",
    "docker logs log_example\n",
    "docker stop log_example"
   ]
  },
  {
   "attachments": {},
   "cell_type": "markdown",
   "metadata": {},
   "source": [
    "### Опция `-f`\n",
    "Можно читать, контенер на лету, то есть все что контейнер посылает на потоки вывода, будет сиедть и в терминале. В качестве примера привожу gif.\n",
    "\n",
    "<img src=\"-f_ex.gif\"></img>"
   ]
  },
  {
   "attachments": {},
   "cell_type": "markdown",
   "metadata": {},
   "source": [
    "### Оция `-t`\n",
    "\n",
    "К каждой записи можно приписать веремя, когда она была создана."
   ]
  },
  {
   "cell_type": "code",
   "execution_count": 1,
   "metadata": {},
   "outputs": [
    {
     "name": "stdout",
     "output_type": "stream",
     "text": [
      "5228e67098e4205c35a989c9b29fe6d8f2b057e37763b5ea8a00f2b3790a9135\n",
      "2023-03-10T15:15:24.660999789Z Just message\n",
      "2023-03-10T15:15:25.661065382Z Just message\n",
      "2023-03-10T15:15:26.661223870Z Just message\n",
      "2023-03-10T15:15:27.661258632Z Just message\n",
      "2023-03-10T15:15:28.661441608Z Just message\n",
      "2023-03-10T15:15:33.662160973Z Just message\n"
     ]
    },
    {
     "name": "stderr",
     "output_type": "stream",
     "text": [
      "2023-03-10T15:15:29.661632772Z Some error\n",
      "2023-03-10T15:15:30.661887557Z Some error\n",
      "2023-03-10T15:15:31.661912647Z Some error\n",
      "2023-03-10T15:15:32.662184469Z Some error\n"
     ]
    },
    {
     "name": "stdout",
     "output_type": "stream",
     "text": [
      "log_example\n"
     ]
    }
   ],
   "source": [
    "%%bash\n",
    "docker run -d --rm --name log_example log_example stream.py\n",
    "sleep 10\n",
    "docker logs -t log_example\n",
    "docker stop log_example"
   ]
  },
  {
   "attachments": {},
   "cell_type": "markdown",
   "metadata": {},
   "source": [
    "### Лог на компьютере\n",
    "\n",
    "Следующая конструкция демонстрирует как получить путь лога для некотого произвольного конетейнера в файловой системе компьютера."
   ]
  },
  {
   "cell_type": "code",
   "execution_count": 5,
   "metadata": {},
   "outputs": [
    {
     "name": "stdout",
     "output_type": "stream",
     "text": [
      "135388e3d4f3234ca99359f91307022c3075bbf5dd54d313ba90a4fb1d374e8e\n",
      "/var/lib/docker/containers/135388e3d4f3234ca99359f91307022c3075bbf5dd54d313ba90a4fb1d374e8e/135388e3d4f3234ca99359f91307022c3075bbf5dd54d313ba90a4fb1d374e8e-json.log\n",
      "log_example\n"
     ]
    }
   ],
   "source": [
    "%%bash\n",
    "docker run -d --rm --name log_example log_example stream.py\n",
    "docker inspect --format \"{{.LogPath}}\" log_example\n",
    "docker stop log_example"
   ]
  },
  {
   "attachments": {},
   "cell_type": "markdown",
   "metadata": {},
   "source": [
    "Для доступа к такому файлу обычно нужны права суперпользователя. Но он может выглядеть, например так:\n",
    "\n",
    "```\n",
    "    {\"log\":\"Just message\\n\",\"stream\":\"stdout\",\"time\":\"2023-03-10T15:25:01.788547631Z\"}\n",
    "    {\"log\":\"Just message\\n\",\"stream\":\"stdout\",\"time\":\"2023-03-10T15:25:02.788842446Z\"}\n",
    "    {\"log\":\"Just message\\n\",\"stream\":\"stdout\",\"time\":\"2023-03-10T15:25:03.788818941Z\"}\n",
    "    {\"log\":\"Just message\\n\",\"stream\":\"stdout\",\"time\":\"2023-03-10T15:25:04.789226578Z\"}\n",
    "    {\"log\":\"Some error\\n\",\"stream\":\"stderr\",\"time\":\"2023-03-10T15:25:05.789279007Z\"}\n",
    "    {\"log\":\"Some error\\n\",\"stream\":\"stderr\",\"time\":\"2023-03-10T15:25:06.789563215Z\"}\n",
    "    {\"log\":\"Just message\\n\",\"stream\":\"stdout\",\"time\":\"2023-03-10T15:25:07.7895666Z\"}\n",
    "    {\"log\":\"Just message\\n\",\"stream\":\"stdout\",\"time\":\"2023-03-10T15:25:08.789954572Z\"}\n",
    "    {\"log\":\"Some error\\n\",\"stream\":\"stderr\",\"time\":\"2023-03-10T15:25:09.790014965Z\"}\n",
    "    {\"log\":\"Just message\\n\",\"stream\":\"stdout\",\"time\":\"2023-03-10T15:25:10.790300833Z\"}\n",
    "    {\"log\":\"Some error\\n\",\"stream\":\"stderr\",\"time\":\"2023-03-10T15:25:11.790511897Z\"}\n",
    "    {\"log\":\"Just message\\n\",\"stream\":\"stdout\",\"time\":\"2023-03-10T15:25:12.790821869Z\"}\n",
    "    {\"log\":\"Some error\\n\",\"stream\":\"stderr\",\"time\":\"2023-03-10T15:25:13.790939824Z\"}\n",
    "    {\"log\":\"Just message\\n\",\"stream\":\"stdout\",\"time\":\"2023-03-10T15:25:14.791204789Z\"}\n",
    "    {\"log\":\"Some error\\n\",\"stream\":\"stderr\",\"time\":\"2023-03-10T15:25:15.791283359Z\"}\n",
    "    {\"log\":\"Just message\\n\",\"stream\":\"stdout\",\"time\":\"2023-03-10T15:25:16.791536539Z\"}\n",
    "    {\"log\":\"Some error\\n\",\"stream\":\"stderr\",\"time\":\"2023-03-10T15:25:17.791786679Z\"}\n",
    "    {\"log\":\"Just message\\n\",\"stream\":\"stdout\",\"time\":\"2023-03-10T15:25:18.791807047Z\"}\n",
    "    {\"log\":\"Just message\\n\",\"stream\":\"stdout\",\"time\":\"2023-03-10T15:25:19.792075268Z\"}\n",
    "    {\"log\":\"Just message\\n\",\"stream\":\"stdout\",\"time\":\"2023-03-10T15:25:20.792325859Z\"}\n",
    "    {\"log\":\"Just message\\n\",\"stream\":\"stdout\",\"time\":\"2023-03-10T15:25:21.792410762Z\"}\n",
    "    {\"log\":\"Some error\\n\",\"stream\":\"stderr\",\"time\":\"2023-03-10T15:25:22.792794096Z\"}\n",
    "    {\"log\":\"Just message\\n\",\"stream\":\"stdout\",\"time\":\"2023-03-10T15:25:23.792780477Z\"}\n",
    "    {\"log\":\"Some error\\n\",\"stream\":\"stderr\",\"time\":\"2023-03-10T15:25:24.793194852Z\"}\n",
    "    {\"log\":\"Just message\\n\",\"stream\":\"stdout\",\"time\":\"2023-03-10T15:25:25.793462485Z\"}\n",
    "    {\"log\":\"Some error\\n\",\"stream\":\"stderr\",\"time\":\"2023-03-10T15:25:26.793712972Z\"}\n",
    "    {\"log\":\"Just message\\n\",\"stream\":\"stdout\",\"time\":\"2023-03-10T15:25:27.793920753Z\"}\n",
    "    {\"log\":\"Just message\\n\",\"stream\":\"stdout\",\"time\":\"2023-03-10T15:25:28.794071626Z\"}\n",
    "    {\"log\":\"Some error\\n\",\"stream\":\"stderr\",\"time\":\"2023-03-10T15:25:29.794379101Z\"}\n",
    "    {\"log\":\"Just message\\n\",\"stream\":\"stdout\",\"time\":\"2023-03-10T15:25:30.794698985Z\"}\n",
    "    {\"log\":\"Some error\\n\",\"stream\":\"stderr\",\"time\":\"2023-03-10T15:25:31.794924583Z\"}\n",
    "    {\"log\":\"Some error\\n\",\"stream\":\"stderr\",\"time\":\"2023-03-10T15:25:32.795122566Z\"}\n",
    "    {\"log\":\"Just message\\n\",\"stream\":\"stdout\",\"time\":\"2023-03-10T15:25:33.795242226Z\"}\n",
    "    {\"log\":\"Some error\\n\",\"stream\":\"stderr\",\"time\":\"2023-03-10T15:25:34.795374507Z\"}\n",
    "    {\"log\":\"Some error\\n\",\"stream\":\"stderr\",\"time\":\"2023-03-10T15:25:35.795542017Z\"}\n",
    "    {\"log\":\"Just message\\n\",\"stream\":\"stdout\",\"time\":\"2023-03-10T15:25:36.795638844Z\"}\n",
    "    {\"log\":\"Just message\\n\",\"stream\":\"stdout\",\"time\":\"2023-03-10T15:25:37.795888676Z\"}\n",
    "    {\"log\":\"Just message\\n\",\"stream\":\"stdout\",\"time\":\"2023-03-10T15:25:38.796024537Z\"}\n",
    "    {\"log\":\"Just message\\n\",\"stream\":\"stdout\",\"time\":\"2023-03-10T15:25:39.796115828Z\"}\n",
    "    {\"log\":\"Some error\\n\",\"stream\":\"stderr\",\"time\":\"2023-03-10T15:25:40.796440024Z\"}\n",
    "    {\"log\":\"Just message\\n\",\"stream\":\"stdout\",\"time\":\"2023-03-10T15:25:41.79668667Z\"}\n",
    "    {\"log\":\"Some error\\n\",\"stream\":\"stderr\",\"time\":\"2023-03-10T15:25:42.796931621Z\"}\n",
    "    {\"log\":\"Some error\\n\",\"stream\":\"stderr\",\"time\":\"2023-03-10T15:25:43.797140455Z\"}\n",
    "    {\"log\":\"Just message\\n\",\"stream\":\"stdout\",\"time\":\"2023-03-10T15:25:44.797357011Z\"}\n",
    "    {\"log\":\"Some error\\n\",\"stream\":\"stderr\",\"time\":\"2023-03-10T15:25:45.797641546Z\"}\n",
    "    {\"log\":\"Just message\\n\",\"stream\":\"stdout\",\"time\":\"2023-03-10T15:25:46.797845252Z\"}\n",
    "    {\"log\":\"Some error\\n\",\"stream\":\"stderr\",\"time\":\"2023-03-10T15:25:47.798077466Z\"}\n",
    "    {\"log\":\"Some error\\n\",\"stream\":\"stderr\",\"time\":\"2023-03-10T15:25:48.798257058Z\"}\n",
    "    {\"log\":\"Some error\\n\",\"stream\":\"stderr\",\"time\":\"2023-03-10T15:25:49.79856638Z\"}\n",
    "    {\"log\":\"Some error\\n\",\"stream\":\"stderr\",\"time\":\"2023-03-10T15:25:50.798893053Z\"}\n",
    "    {\"log\":\"Just message\\n\",\"stream\":\"stdout\",\"time\":\"2023-03-10T15:25:51.798990112Z\"}\n",
    "    {\"log\":\"Just message\\n\",\"stream\":\"stdout\",\"time\":\"2023-03-10T15:25:52.799097587Z\"}\n",
    "    {\"log\":\"Some error\\n\",\"stream\":\"stderr\",\"time\":\"2023-03-10T15:25:53.799264601Z\"}\n",
    "\n",
    "```\n",
    "\n",
    "Поля в этом .json файле несут следующий смысл:\n",
    "- `log` - сообщение, которое было залогированно;\n",
    "- `stream` - поток через который он выводилось;\n",
    "- `time` - время, когда это сообщение было сделано."
   ]
  },
  {
   "attachments": {},
   "cell_type": "markdown",
   "metadata": {},
   "source": [
    "# `grep`, `head` и `tail`\n",
    "\n",
    "Стандартные линуксовые программы для работы с вывдом терминала, работают только со **стандартным** потоком вывода.\n",
    "\n",
    "Так на примере `head` (выводит возвращает только первые строки). Я попросил, только 5 строк, а в результате получено намного больше. Если посчитать именно `Just message` то ровно и получается 5 штук. Дело в том, что эти утилиты работают только со стандартным поком вывода."
   ]
  },
  {
   "cell_type": "code",
   "execution_count": 6,
   "metadata": {},
   "outputs": [
    {
     "name": "stdout",
     "output_type": "stream",
     "text": [
      "a797751ef5dffabede3d922c3c02e7d5d61e3bf07190f90131c8b2419befb1e5\n"
     ]
    },
    {
     "name": "stderr",
     "output_type": "stream",
     "text": [
      "Some error\n",
      "Some error\n",
      "Some error\n"
     ]
    },
    {
     "name": "stdout",
     "output_type": "stream",
     "text": [
      "Just message\n",
      "Just message\n",
      "Just message\n",
      "Just message\n",
      "Just message\n",
      "log_example\n"
     ]
    }
   ],
   "source": [
    "%%bash\n",
    "docker run -d --rm --name log_example log_example stream.py\n",
    "sleep 10\n",
    "docker logs log_example | head -n 5\n",
    "docker stop log_example"
   ]
  },
  {
   "attachments": {},
   "cell_type": "markdown",
   "metadata": {},
   "source": [
    "Как решение предлагается перенаправление стандартного потока ошибок в стандарный поток вывода. После выводящей комманды указывается конструкция `2>&1`. Заметим кстати то, что теперь и Jupyter не увидел зарницы между потоком вывода и потоком ошибок."
   ]
  },
  {
   "cell_type": "code",
   "execution_count": 7,
   "metadata": {},
   "outputs": [
    {
     "name": "stdout",
     "output_type": "stream",
     "text": [
      "074931595d8c808c3e3470cebcd1fc6199c208323964a528eedfd3921254572c\n",
      "Some error\n",
      "Just message\n",
      "Some error\n",
      "Just message\n",
      "Just message\n",
      "log_example\n"
     ]
    }
   ],
   "source": [
    "%%bash\n",
    "docker run -d --rm --name log_example log_example stream.py\n",
    "sleep 10\n",
    "docker logs log_example 2>&1 | head -n 5\n",
    "docker stop log_example"
   ]
  },
  {
   "attachments": {},
   "cell_type": "markdown",
   "metadata": {},
   "source": [
    "Но вообще стандартный поток и поток ошибок, можно вывести в файл и по отдельности, для этого помогут конструкции:\n",
    "\n",
    "- `>` - записать стандартный поток;\n",
    "- `>>` - дозаписать стандарный поток;\n",
    "- `2>` - записать поток ошибок;\n",
    "- `2>>` - дозаписать поток ошибок."
   ]
  },
  {
   "attachments": {},
   "cell_type": "markdown",
   "metadata": {},
   "source": [
    "Так в следующем примере в один файл помешаем стандартный поток в другой поток ошибок:"
   ]
  },
  {
   "cell_type": "code",
   "execution_count": 4,
   "metadata": {},
   "outputs": [
    {
     "name": "stdout",
     "output_type": "stream",
     "text": [
      "f0f6a12d8afb51bcb1daaccfe57fd9117412b3100ed3856875d143a866cc1033\n",
      "log_example\n",
      "==================Стандартный поток==================\n",
      "Just message\n",
      "Just message\n",
      "Just message\n",
      "Just message\n",
      "Just message\n",
      "Just message\n",
      "==================Поток ошибок=======================\n",
      "Some error\n",
      "Some error\n",
      "Some error\n",
      "Some error\n"
     ]
    }
   ],
   "source": [
    "%%bash\n",
    "docker run -d --rm --name log_example log_example stream.py\n",
    "sleep 10\n",
    "docker logs log_example > out_logs 2> err_logs\n",
    "docker stop log_example\n",
    "\n",
    "# смотрим, что там навыводилось в лог\n",
    "echo \"==================Стандартный поток==================\"\n",
    "cat out_logs\n",
    "echo \"==================Поток ошибок=======================\"\n",
    "cat err_logs\n",
    "\n",
    "rm out_logs err_logs"
   ]
  },
  {
   "attachments": {},
   "cell_type": "markdown",
   "metadata": {},
   "source": [
    "А в этом примере, подчитывается число строк после использования конструкции `>` дважды и поверх `>>`. Так, после повторного исопльзования `>` как и после первого в файле было n строк, а после использования конструкции `>>` уже 2n."
   ]
  },
  {
   "cell_type": "code",
   "execution_count": 8,
   "metadata": {},
   "outputs": [
    {
     "name": "stdout",
     "output_type": "stream",
     "text": [
      "d5fcc22e62e2c24963816bfe2629ebe6e7f33997888301d02ff44c05c8d9a2c4\n",
      "============Число строк в файле после первой записи================\n",
      "31 out_logs\n",
      "============Число строк в файле после второй записи================\n",
      "31 out_logs\n",
      "============Число строк в файле после третьей записи================\n",
      "62 out_logs\n",
      "log_example\n"
     ]
    }
   ],
   "source": [
    "%%bash\n",
    "docker run -d --rm --name log_example log_example stream.py\n",
    "sleep 50\n",
    "\n",
    "docker logs log_example > out_logs 2> err_logs\n",
    "echo \"============Число строк в файле после первой записи================\"\n",
    "wc -l out_logs\n",
    "\n",
    "docker logs log_example > out_logs 2> err_logs\n",
    "echo \"============Число строк в файле после второй записи================\"\n",
    "wc -l out_logs\n",
    "\n",
    "docker logs log_example >> out_logs 2> err_logs\n",
    "echo \"============Число строк в файле после третьей записи================\"\n",
    "wc -l out_logs\n",
    "\n",
    "docker stop log_example\n",
    "rm out_logs err_logs"
   ]
  }
 ],
 "metadata": {
  "kernelspec": {
   "display_name": "Python 3",
   "language": "python",
   "name": "python3"
  },
  "language_info": {
   "codemirror_mode": {
    "name": "ipython",
    "version": 3
   },
   "file_extension": ".py",
   "mimetype": "text/x-python",
   "name": "python",
   "nbconvert_exporter": "python",
   "pygments_lexer": "ipython3",
   "version": "3.10.6"
  },
  "orig_nbformat": 4
 },
 "nbformat": 4,
 "nbformat_minor": 2
}
