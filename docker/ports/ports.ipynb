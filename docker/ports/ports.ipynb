{
 "cells": [
  {
   "attachments": {},
   "cell_type": "markdown",
   "metadata": {},
   "source": [
    "**Работа с портом в docker**\n",
    "\n",
    "Порт это \"окно\" которое позволяет программе запущенной на компьютере связыватся с интернетом."
   ]
  },
  {
   "attachments": {},
   "cell_type": "markdown",
   "metadata": {},
   "source": [
    "# \"Прокинуть\" порт"
   ]
  },
  {
   "attachments": {},
   "cell_type": "markdown",
   "metadata": {},
   "source": [
    "При выполнении `docker run` нужно укзать опцию `-p` и затем передать `<порт на хосте>:<порт в контейнере>`."
   ]
  },
  {
   "attachments": {},
   "cell_type": "markdown",
   "metadata": {},
   "source": [
    "### Базовый пример"
   ]
  },
  {
   "attachments": {},
   "cell_type": "markdown",
   "metadata": {},
   "source": [
    "Для примера рассмотрим clickhouse, сначала просто его запустим:"
   ]
  },
  {
   "cell_type": "code",
   "execution_count": 1,
   "metadata": {},
   "outputs": [
    {
     "name": "stdout",
     "output_type": "stream",
     "text": [
      "9501fc87dee9210094e0b28076a4b194aad159c3490f76a7ed31498196ba8e68\n"
     ]
    },
    {
     "name": "stderr",
     "output_type": "stream",
     "text": [
      "  % Total    % Received % Xferd  Average Speed   Time    Time     Time  Current\n",
      "                                 Dload  Upload   Total   Spent    Left  Speed\n",
      "  0     0    0     0    0     0      0      0 --:--:-- --:--:-- --:--:--     0\n",
      "curl: (7) Failed to connect to localhost port 8123 after 0 ms: Connection refused\n"
     ]
    },
    {
     "name": "stdout",
     "output_type": "stream",
     "text": [
      "db_port\n"
     ]
    }
   ],
   "source": [
    "%%bash\n",
    "docker run --rm -d --name db_port yandex/clickhouse-server\n",
    "# проверка того отвечает ли порт 8123 (видимо базовый для clickhouse)\n",
    "curl localhost:8123\n",
    "docker stop db_port"
   ]
  },
  {
   "attachments": {},
   "cell_type": "markdown",
   "metadata": {},
   "source": [
    "В результате `curl` оветил `Failed ...`."
   ]
  },
  {
   "attachments": {},
   "cell_type": "markdown",
   "metadata": {},
   "source": [
    "А теперь продемонстрируем тоже самое, но укажем опцию `-p 8123:8123`. Теперь то, спросив что-то с порта 8123 мы получили `OK`."
   ]
  },
  {
   "cell_type": "code",
   "execution_count": 4,
   "metadata": {},
   "outputs": [
    {
     "name": "stdout",
     "output_type": "stream",
     "text": [
      "76e77328a72b90ca8b7ec8cddd79582b7498de70f6ec502a0cff1cd57e829568\n"
     ]
    },
    {
     "name": "stderr",
     "output_type": "stream",
     "text": [
      "  % Total    % Received % Xferd  Average Speed   Time    Time     Time  Current\n",
      "                                 Dload  Upload   Total   Spent    Left  Speed\n",
      "100     4    0     4    0     0   2711      0 --:--:-- --:--:-- --:--:--  4000\n"
     ]
    },
    {
     "name": "stdout",
     "output_type": "stream",
     "text": [
      "Ok.\n",
      "db_port\n"
     ]
    }
   ],
   "source": [
    "%%bash\n",
    "docker run --rm -d --name db_port -p 8123:8123 yandex/clickhouse-server\n",
    "# clickshouse нужно немнго времени для того, чтобы развернуться\n",
    "sleep 10\n",
    "curl localhost:8123\n",
    "docker stop db_port"
   ]
  },
  {
   "attachments": {},
   "cell_type": "markdown",
   "metadata": {},
   "source": [
    "### Прокидывание нескольких портов\n",
    "\n",
    "Для того, чтобы прокинуть несколько портов в контенер опцию `-p` следует исопльзовать несколько раз. Так в следующем примере мы к одному и тому-же контейнеру подвязываем сразу два контейнера и, затем, спрашиваем их чере curl."
   ]
  },
  {
   "cell_type": "code",
   "execution_count": 20,
   "metadata": {},
   "outputs": [
    {
     "name": "stdout",
     "output_type": "stream",
     "text": [
      "004bdedc8fce6f5945aef97ff822813f67d7edb7036218e182d13f7bf3e6cf72\n"
     ]
    },
    {
     "name": "stderr",
     "output_type": "stream",
     "text": [
      "  % Total    % Received % Xferd  Average Speed   Time    Time     Time  Current\n",
      "                                 Dload  Upload   Total   Spent    Left  Speed\n",
      "100     4    0     4    0     0   2762      0 --:--:-- --:--:-- --:--:--  4000\n"
     ]
    },
    {
     "name": "stdout",
     "output_type": "stream",
     "text": [
      "Ok.\n"
     ]
    },
    {
     "name": "stderr",
     "output_type": "stream",
     "text": [
      "  % Total    % Received % Xferd  Average Speed   Time    Time     Time  Current\n",
      "                                 Dload  Upload   Total   Spent    Left  Speed\n",
      "100     4    0     4    0     0   4040      0 --:--:-- --:--:-- --:--:--  4000\n"
     ]
    },
    {
     "name": "stdout",
     "output_type": "stream",
     "text": [
      "Ok.\n",
      "db_port\n"
     ]
    }
   ],
   "source": [
    "%%bash\n",
    "docker run --rm -d --name db_port -p 8123:8123 -p 8124:8123 yandex/clickhouse-server\n",
    "curl localhost:8123\n",
    "curl localhost:8124\n",
    "docker stop db_port"
   ]
  },
  {
   "attachments": {},
   "cell_type": "markdown",
   "metadata": {},
   "source": [
    "# `EXPOSE`\n",
    "\n",
    "Это инструкция dockerfile, которая подскзывает пользователю какой порт будет слушать программа завернутая в контейнер. Рассмотрим поле \"ports\" команды `ps` от docker. Так, там перечислены, порты которые могут быть использованы clickhouse."
   ]
  },
  {
   "cell_type": "code",
   "execution_count": 9,
   "metadata": {},
   "outputs": [
    {
     "name": "stdout",
     "output_type": "stream",
     "text": [
      "d26dfc13efc2fd37560d46b4af5e196412e48b2cc3e22e3f8de2ce708989a436\n",
      "CONTAINER ID   IMAGE                      COMMAND            CREATED        STATUS                  PORTS                          NAMES\n",
      "d26dfc13efc2   yandex/clickhouse-server   \"/entrypoint.sh\"   1 second ago   Up Less than a second   8123/tcp, 9000/tcp, 9009/tcp   db_ports\n",
      "db_ports\n"
     ]
    }
   ],
   "source": [
    "%%bash\n",
    "docker run --rm -d --name db_ports yandex/clickhouse-server\n",
    "docker ps\n",
    "docker stop db_ports"
   ]
  },
  {
   "attachments": {},
   "cell_type": "markdown",
   "metadata": {},
   "source": [
    "А если среди слоев образа clickhouse искать ключевое слово `EXPOSE`, то получается, то получим:"
   ]
  },
  {
   "cell_type": "code",
   "execution_count": 7,
   "metadata": {},
   "outputs": [
    {
     "name": "stdout",
     "output_type": "stream",
     "text": [
      "<missing>      13 months ago   /bin/sh -c #(nop)  EXPOSE 8123 9000 9009        0B        \n"
     ]
    }
   ],
   "source": [
    "%%bash\n",
    "docker history yandex/clickhouse-server | grep EXPOSE"
   ]
  },
  {
   "attachments": {},
   "cell_type": "markdown",
   "metadata": {},
   "source": [
    "Так, получается есть слой с инструкцией `EXPOSE` для которого пречислены все те-же числа. Ну, попробуем собрать простой dockerfile в котором используем эту конструкцию. Так, dockerfile принял вид:\n",
    "```\n",
    "FROM ubuntu\n",
    "EXPOSE 1050\n",
    "```"
   ]
  },
  {
   "cell_type": "code",
   "execution_count": 8,
   "metadata": {},
   "outputs": [
    {
     "name": "stdout",
     "output_type": "stream",
     "text": [
      "6112abb33b2e5c863cef3b40e59aa0b19ae8523c8d8dc41c3f476b4bdfb05fd3\n",
      "CONTAINER ID   IMAGE         COMMAND       CREATED        STATUS                  PORTS      NAMES\n",
      "6112abb33b2e   expose_test   \"/bin/bash\"   1 second ago   Up Less than a second   1050/tcp   expose_test\n",
      "expose_test\n"
     ]
    }
   ],
   "source": [
    "%%bash\n",
    "docker run -itd --name expose_test --rm expose_test\n",
    "docker ps\n",
    "docker stop expose_test"
   ]
  },
  {
   "attachments": {},
   "cell_type": "markdown",
   "metadata": {},
   "source": [
    "Так в порте видим заветные 1050."
   ]
  },
  {
   "attachments": {},
   "cell_type": "markdown",
   "metadata": {},
   "source": [
    "# Детали"
   ]
  },
  {
   "attachments": {},
   "cell_type": "markdown",
   "metadata": {},
   "source": [
    "### Порт в контейнере \n",
    "\n",
    "В нутри самого контейнера порты будут открыты и без всяких опций. Так в примере ниже я поднимаю clickhouse и полсе дого спрашиваю `wget` (потому что `curl` по умолчанию не завезли)."
   ]
  },
  {
   "cell_type": "code",
   "execution_count": 15,
   "metadata": {},
   "outputs": [
    {
     "name": "stdout",
     "output_type": "stream",
     "text": [
      "efee7438d3e4cae585b742cc1ab20d7051ce17004d1de0b88871dae31384496a\n"
     ]
    },
    {
     "name": "stderr",
     "output_type": "stream",
     "text": [
      "--2023-03-10 18:37:10--  http://localhost:8123/\n",
      "Resolving localhost (localhost)... 127.0.0.1, ::1\n",
      "Connecting to localhost (localhost)|127.0.0.1|:8123... connected.\n",
      "HTTP request sent, awaiting response... 200 OK\n",
      "Length: unspecified [text/html]\n",
      "Saving to: ‘index.html’\n",
      "\n",
      "     0K                                                         611K=0s\n",
      "\n",
      "2023-03-10 18:37:10 (611 KB/s) - ‘index.html’ saved [4]\n",
      "\n"
     ]
    },
    {
     "name": "stdout",
     "output_type": "stream",
     "text": [
      "db_test\n"
     ]
    }
   ],
   "source": [
    "%%bash\n",
    "docker run -itd --name db_test --rm yandex/clickhouse-server\n",
    "sleep 10\n",
    "docker exec db_test wget localhost:8123\n",
    "docker stop db_test"
   ]
  },
  {
   "attachments": {},
   "cell_type": "markdown",
   "metadata": {},
   "source": [
    "### Контейнеры с одним портом"
   ]
  },
  {
   "attachments": {},
   "cell_type": "markdown",
   "metadata": {},
   "source": [
    "Думаю очевидно, что нельзя на один и тот-же порт повесить более двух контейнеров. Однако, есть способ обойти эту особенность, нужно к опции `-p` для порта хоста указать другой порт, в то время как в контейнере использовать все тот-же."
   ]
  },
  {
   "attachments": {},
   "cell_type": "markdown",
   "metadata": {},
   "source": [
    "Так для начала, пример с ошибкой - пытаеися повесить два контейнера на один и тот-же порт."
   ]
  },
  {
   "cell_type": "code",
   "execution_count": 17,
   "metadata": {},
   "outputs": [
    {
     "name": "stdout",
     "output_type": "stream",
     "text": [
      "6b56c296cfcc1aa9f46968767f9502de695f474df65d60aad2716eef8813daee\n",
      "07fdf42a22e2045f74785e3247a51b8c75883dc701da8427055a66190953a356\n"
     ]
    },
    {
     "name": "stderr",
     "output_type": "stream",
     "text": [
      "docker: Error response from daemon: driver failed programming external connectivity on endpoint db_test2 (edaa15bb3cba3dc8dec4558bdc32ea5a9a9978560b7cc5678dd53216c6ba187b): Bind for 0.0.0.0:8123 failed: port is already allocated.\n"
     ]
    },
    {
     "name": "stdout",
     "output_type": "stream",
     "text": [
      "db_test1\n"
     ]
    }
   ],
   "source": [
    "%%bash\n",
    "docker run -itd --name db_test1 --rm -p 8123:8123 yandex/clickhouse-server\n",
    "docker run -itd --name db_test2 --rm -p 8123:8123 yandex/clickhouse-server \n",
    "sleep 10\n",
    "docker stop db_test1"
   ]
  },
  {
   "attachments": {},
   "cell_type": "markdown",
   "metadata": {},
   "source": [
    "Путь исправления, соотвественно. Второй контейнер при запуске использует порт `8124` контейнера."
   ]
  },
  {
   "cell_type": "code",
   "execution_count": 18,
   "metadata": {},
   "outputs": [
    {
     "name": "stdout",
     "output_type": "stream",
     "text": [
      "c976a7e50840653c112b1107fa0d95abb5af4635737ff03ec408f7adb24b86ac\n",
      "30038fc56fbd0966363de0b886d4896cfb90f921a8385b7f30bc97c16ad232a4\n",
      "db_test1\n",
      "db_test2\n"
     ]
    }
   ],
   "source": [
    "%%bash\n",
    "docker run -itd --name db_test1 --rm -p 8123:8123 yandex/clickhouse-server\n",
    "docker run -itd --name db_test2 --rm -p 8124:8123 yandex/clickhouse-server \n",
    "sleep 10\n",
    "docker stop db_test1\n",
    "docker stop db_test2"
   ]
  }
 ],
 "metadata": {
  "kernelspec": {
   "display_name": "Python 3",
   "language": "python",
   "name": "python3"
  },
  "language_info": {
   "codemirror_mode": {
    "name": "ipython",
    "version": 3
   },
   "file_extension": ".py",
   "mimetype": "text/x-python",
   "name": "python",
   "nbconvert_exporter": "python",
   "pygments_lexer": "ipython3",
   "version": "3.10.6"
  },
  "orig_nbformat": 4
 },
 "nbformat": 4,
 "nbformat_minor": 2
}
