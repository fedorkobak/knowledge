{
 "cells": [
  {
   "attachments": {},
   "cell_type": "markdown",
   "metadata": {},
   "source": [
    "**Пример развертывания с помощью docker базы данных postgres взаимодейсвующей с программой на python**"
   ]
  },
  {
   "attachments": {},
   "cell_type": "markdown",
   "metadata": {},
   "source": [
    "# Разные контейнеры\n",
    "\n",
    "Програма в одном контейнере, база в другом. В теории так и должно быть, так что это самый правильный вариант."
   ]
  },
  {
   "attachments": {},
   "cell_type": "markdown",
   "metadata": {},
   "source": [
    "Запуск контейнеров"
   ]
  },
  {
   "cell_type": "code",
   "execution_count": null,
   "metadata": {},
   "outputs": [],
   "source": [
    "%%bash\n",
    "docker run --rm -d\\\n",
    "    --name database\\\n",
    "    -e POSTGRES_USER=docker_app\\\n",
    "    -e POSTGRES_PASSWORD=docker_app\\\n",
    "    -e POSTGRES_DB=docker_app_db\\\n",
    "    -p 5431:5432\\\n",
    "    custom_postgres"
   ]
  },
  {
   "cell_type": "code",
   "execution_count": 1,
   "metadata": {},
   "outputs": [
    {
     "name": "stdout",
     "output_type": "stream",
     "text": [
      "f0ffd8467c9308b627b33480b2819c9da7d4bf241aca09de90b4df0802cff7cf\n",
      "0f3e07f8befd811abc0a837ecda944883a5dca9828184e01caaba892fb6f610e\n",
      "ad4ae117eb86acd9b546d93ec0e622a803abe99b34434b1b557b3781179f3860\n"
     ]
    }
   ],
   "source": [
    "%%bash\n",
    "\n",
    "# сеть\n",
    "docker network create test_project_net\n",
    "# postgres\n",
    "docker run --rm -d\\\n",
    "    --name database\\\n",
    "    -e POSTGRES_USER=docker_app\\\n",
    "    -e POSTGRES_PASSWORD=docker_app\\\n",
    "    -e POSTGRES_DB=docker_app_db\\\n",
    "    --net=test_project_net\\\n",
    "    custom_postgres\n",
    "# python\n",
    "docker run --rm -itd\\\n",
    "    --name python_psql\\\n",
    "    --net=test_project_net\\\n",
    "    python_psql"
   ]
  },
  {
   "attachments": {},
   "cell_type": "markdown",
   "metadata": {},
   "source": [
    "Надо создать таблицу с которой наша программа на python будет работать."
   ]
  },
  {
   "cell_type": "code",
   "execution_count": 2,
   "metadata": {},
   "outputs": [
    {
     "name": "stdout",
     "output_type": "stream",
     "text": [
      "CREATE TABLE\n"
     ]
    }
   ],
   "source": [
    "%%bash\n",
    "# надо дождаться пока база данных\n",
    "# развернется (но вообще это не обязательный шаг)\n",
    "sleep 1\n",
    "docker exec database \\\n",
    "    psql --username docker_app --dbname docker_app_db -f create_table.sql"
   ]
  },
  {
   "cell_type": "code",
   "execution_count": 18,
   "metadata": {},
   "outputs": [
    {
     "name": "stdout",
     "output_type": "stream",
     "text": [
      "hello world\n"
     ]
    }
   ],
   "source": [
    "%%bash\n",
    "docker exec python_psql python3 script.py"
   ]
  },
  {
   "attachments": {},
   "cell_type": "markdown",
   "metadata": {},
   "source": [
    "Удаление всего того, что насоздавали."
   ]
  },
  {
   "cell_type": "code",
   "execution_count": 19,
   "metadata": {},
   "outputs": [
    {
     "name": "stdout",
     "output_type": "stream",
     "text": [
      "database\n",
      "python_psql\n",
      "test_project_net\n"
     ]
    }
   ],
   "source": [
    "%%bash\n",
    "docker stop database\n",
    "docker stop python_psql\n",
    "docker network rm test_project_net"
   ]
  },
  {
   "attachments": {},
   "cell_type": "markdown",
   "metadata": {},
   "source": [
    "# Програма на хосте\n",
    "\n",
    "В целях отладки программы бывает полезно поднять контейнер с базой а программу отлаживать на localhost. В данном разделе представлено именно такой случай."
   ]
  },
  {
   "attachments": {},
   "cell_type": "markdown",
   "metadata": {},
   "source": [
    "Старт контейнера с базой и создание табилцы."
   ]
  },
  {
   "cell_type": "code",
   "execution_count": 89,
   "metadata": {},
   "outputs": [
    {
     "name": "stdout",
     "output_type": "stream",
     "text": [
      "15991676e7aab8717c8293738eebb05dabf85fc58de3b253c6471f77a32d3131\n",
      "CREATE TABLE\n"
     ]
    }
   ],
   "source": [
    "%%bash\n",
    "# особое внимане порту - тут от принципиально важен\n",
    "docker run --rm -d\\\n",
    "    --name database\\\n",
    "    -e POSTGRES_USER=docker_app\\\n",
    "    -e POSTGRES_PASSWORD=docker_app\\\n",
    "    -e POSTGRES_DB=docker_app_db\\\n",
    "    -p 5431:5432\\\n",
    "    custom_postgres\n",
    "\n",
    "# надо дождаться пока база данных\n",
    "# развернется (но вообще это не обязательный шаг)\n",
    "sleep 1\n",
    "docker exec database \\\n",
    "    psql --username docker_app --dbname docker_app_db -f create_table.sql"
   ]
  },
  {
   "attachments": {},
   "cell_type": "markdown",
   "metadata": {},
   "source": [
    "В python надо открыть connection с базой."
   ]
  },
  {
   "cell_type": "code",
   "execution_count": 90,
   "metadata": {},
   "outputs": [],
   "source": [
    "import psycopg2\n",
    "import random\n",
    "import string\n",
    "\n",
    "conn = psycopg2.connect(\n",
    "    port = \"5431\",# указываем порт\n",
    "    dbname = \"docker_app_db\",\n",
    "    user = \"docker_app\",\n",
    "    password = \"docker_app\",\n",
    "    host= \"localhost\"\n",
    ")"
   ]
  },
  {
   "attachments": {},
   "cell_type": "markdown",
   "metadata": {},
   "source": [
    "Вставляем в новосозданную табличку 20 новый записей."
   ]
  },
  {
   "cell_type": "code",
   "execution_count": 91,
   "metadata": {},
   "outputs": [],
   "source": [
    "cur = conn.cursor()\n",
    "for i in range(20):\n",
    "    text = ''.join(random.choices(string.ascii_lowercase, k=20))\n",
    "    query = f\"INSERT INTO main_table (id, text) VALUES ('{i}', '{text}');\"\n",
    "    cur.execute(query)\n",
    "cur.close()"
   ]
  },
  {
   "attachments": {},
   "cell_type": "markdown",
   "metadata": {},
   "source": [
    "И посмотрим, что это за записи."
   ]
  },
  {
   "cell_type": "code",
   "execution_count": 92,
   "metadata": {},
   "outputs": [
    {
     "name": "stdout",
     "output_type": "stream",
     "text": [
      "('0', 'vhpcybtxzkurposczmmr')\n",
      "('1', 'pvasvfadtvbdzpkdhwvn')\n",
      "('2', 'rnsvqjmiitjgrddxwwck')\n",
      "('3', 'gdskxulviyxqgtgnefcz')\n",
      "('4', 'sojfgmbznllwyyrcalnw')\n",
      "('5', 'rzcllpzwgcuicycxffbz')\n",
      "('6', 'mniftnccdrqecyuvypmv')\n",
      "('7', 'xzrastruqnadudpgyerf')\n",
      "('8', 'oupgvmtlnbofodrpczne')\n",
      "('9', 'krkqqponelbtfhupwvkj')\n",
      "('10', 'xtffgiuzhvyjiehjakmp')\n",
      "('11', 'cxikpqunjueeqppxwqsz')\n",
      "('12', 'huhkcjxofpfuxlhxnhiw')\n",
      "('13', 'eeblojrzwcfffehsaiwb')\n",
      "('14', 'tmwprcmsmfjclqxbvuge')\n",
      "('15', 'utbkrqkmnfdetqdazmvq')\n",
      "('16', 'kfcowgauyirjetjlchrb')\n",
      "('17', 'orztjpqzqxqerytovlze')\n",
      "('18', 'wprfcnlztczggrwdsrkh')\n",
      "('19', 'olbmbnbvchpszurgfvyx')\n"
     ]
    }
   ],
   "source": [
    "cur = conn.cursor()\n",
    "cur.execute(\"SELECT * FROM main_table;\")\n",
    "for i in cur:\n",
    "    print(i)\n",
    "cur.close()"
   ]
  },
  {
   "attachments": {},
   "cell_type": "markdown",
   "metadata": {},
   "source": [
    "Отправляем изменения на базу и закрываем соединение."
   ]
  },
  {
   "cell_type": "code",
   "execution_count": 93,
   "metadata": {},
   "outputs": [],
   "source": [
    "conn.commit()\n",
    "conn.close()"
   ]
  },
  {
   "attachments": {},
   "cell_type": "markdown",
   "metadata": {},
   "source": [
    "Для того, чтобы убедится, что все сработало, спрошу эту табличку напрямую из базы."
   ]
  },
  {
   "cell_type": "code",
   "execution_count": 94,
   "metadata": {},
   "outputs": [
    {
     "name": "stdout",
     "output_type": "stream",
     "text": [
      " id |         text         \n",
      "----+----------------------\n",
      " 0  | vhpcybtxzkurposczmmr\n",
      " 1  | pvasvfadtvbdzpkdhwvn\n",
      " 2  | rnsvqjmiitjgrddxwwck\n",
      " 3  | gdskxulviyxqgtgnefcz\n",
      " 4  | sojfgmbznllwyyrcalnw\n",
      " 5  | rzcllpzwgcuicycxffbz\n",
      " 6  | mniftnccdrqecyuvypmv\n",
      " 7  | xzrastruqnadudpgyerf\n",
      " 8  | oupgvmtlnbofodrpczne\n",
      " 9  | krkqqponelbtfhupwvkj\n",
      " 10 | xtffgiuzhvyjiehjakmp\n",
      " 11 | cxikpqunjueeqppxwqsz\n",
      " 12 | huhkcjxofpfuxlhxnhiw\n",
      " 13 | eeblojrzwcfffehsaiwb\n",
      " 14 | tmwprcmsmfjclqxbvuge\n",
      " 15 | utbkrqkmnfdetqdazmvq\n",
      " 16 | kfcowgauyirjetjlchrb\n",
      " 17 | orztjpqzqxqerytovlze\n",
      " 18 | wprfcnlztczggrwdsrkh\n",
      " 19 | olbmbnbvchpszurgfvyx\n",
      "(20 rows)\n",
      "\n"
     ]
    }
   ],
   "source": [
    "%%bash\n",
    "docker exec database \\\n",
    "    psql --username docker_app --dbname docker_app_db -c 'SELECT * FROM main_table;'"
   ]
  },
  {
   "attachments": {},
   "cell_type": "markdown",
   "metadata": {},
   "source": [
    "Останавливаю созданный для этого примера контейнер."
   ]
  },
  {
   "cell_type": "code",
   "execution_count": 88,
   "metadata": {},
   "outputs": [
    {
     "name": "stdout",
     "output_type": "stream",
     "text": [
      "database\n"
     ]
    }
   ],
   "source": [
    "%%bash\n",
    "docker stop database"
   ]
  }
 ],
 "metadata": {
  "kernelspec": {
   "display_name": "Python 3",
   "language": "python",
   "name": "python3"
  },
  "language_info": {
   "codemirror_mode": {
    "name": "ipython",
    "version": 3
   },
   "file_extension": ".py",
   "mimetype": "text/x-python",
   "name": "python",
   "nbconvert_exporter": "python",
   "pygments_lexer": "ipython3",
   "version": "3.10.6"
  },
  "orig_nbformat": 4
 },
 "nbformat": 4,
 "nbformat_minor": 2
}
