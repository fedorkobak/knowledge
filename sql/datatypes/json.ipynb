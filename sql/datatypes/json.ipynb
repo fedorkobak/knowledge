{
 "cells": [
  {
   "cell_type": "markdown",
   "metadata": {},
   "source": [
    "# JSON\n",
    "\n",
    "This page considers usage options of JSON format.\n",
    "\n",
    "Find out more in article [JSON functions and operators](https://www.postgresql.org/docs/current/functions-json.html) in official postgres documentation."
   ]
  },
  {
   "cell_type": "code",
   "execution_count": 1,
   "metadata": {
    "vscode": {
     "languageId": "shellscript"
    }
   },
   "outputs": [],
   "source": [
    "docker run --rm -d\\\n",
    "    -e POSTGRES_PASSWORD=docker_app \\\n",
    "    --name json_example_pg \\\n",
    "    postgres:15.4 &> /dev/null\n",
    "sleep 5"
   ]
  },
  {
   "cell_type": "markdown",
   "metadata": {},
   "source": [
    "**Note:** Don't forget to stop the containers after all."
   ]
  },
  {
   "cell_type": "code",
   "execution_count": null,
   "metadata": {
    "vscode": {
     "languageId": "shellscript"
    }
   },
   "outputs": [],
   "source": [
    "docker stop json_example_pg"
   ]
  },
  {
   "cell_type": "markdown",
   "metadata": {},
   "source": [
    "## Extracting fields\n",
    "\n",
    "You can extract the value under a particular field of JSON by using the `-> '<field>'` syntax."
   ]
  },
  {
   "cell_type": "markdown",
   "metadata": {},
   "source": [
    "---\n",
    "\n",
    "The following cell shows extracting a value under a specific JSON key."
   ]
  },
  {
   "cell_type": "code",
   "execution_count": 6,
   "metadata": {
    "vscode": {
     "languageId": "shellscript"
    }
   },
   "outputs": [
    {
     "name": "stdout",
     "output_type": "stream",
     "text": [
      " ans \n",
      "-----\n",
      " 10\n",
      "(1 row)\n",
      "\n"
     ]
    }
   ],
   "source": [
    "docker exec -i json_example_pg psql -U postgres << EOF\n",
    "SELECT ('{\"a\": 10, \"b\": 45}'::JSONB) -> 'a' ans; \n",
    "EOF"
   ]
  },
  {
   "cell_type": "markdown",
   "metadata": {},
   "source": [
    "The next example demonstrates how this works for columns in a table using the `->` operator combination."
   ]
  },
  {
   "cell_type": "code",
   "execution_count": null,
   "metadata": {
    "vscode": {
     "languageId": "shellscript"
    }
   },
   "outputs": [
    {
     "name": "stdout",
     "output_type": "stream",
     "text": [
      " a_value |      b_value       | b_y_value \n",
      "---------+--------------------+-----------\n",
      " 10      | {\"x\": 10, \"y\": 20} | 20\n",
      " 15      | {\"x\": 1, \"y\": 45}  | 45\n",
      "(2 rows)\n",
      "\n"
     ]
    }
   ],
   "source": [
    "docker exec -i json_example_pg psql -U postgres << EOF\n",
    "SELECT\n",
    "    col->'a' AS a_value,\n",
    "    col->'b' AS b_value,\n",
    "    col->'b'->'y' b_y_value\n",
    "FROM (\n",
    "    VALUES\n",
    "    ('{\"a\": 10, \"b\": {\"x\": 10, \"y\": 20}}'::JSONB),\n",
    "    ('{\"a\": 15, \"b\": {\"x\": 1, \"y\": 45}}'::JSONB)\n",
    ") AS temp(col);\n",
    "EOF"
   ]
  },
  {
   "cell_type": "markdown",
   "metadata": {},
   "source": [
    "## Changing value\n",
    "\n",
    "You can change a `json` value by applying the `jsonb_set` function to it. You need to use the syntax `jsonb_set(value, '{field1, field2, ...}', <new_value>)`, which will return JSON where the value under the `'{field1, field2, ...}'` sequence of keys is changed to `<new_value>`."
   ]
  },
  {
   "cell_type": "markdown",
   "metadata": {},
   "source": [
    "---\n",
    "\n",
    "The following cell applies `jsonb_set` to some JSON data. As a result, it returns JSON with the updated value:"
   ]
  },
  {
   "cell_type": "code",
   "execution_count": 35,
   "metadata": {
    "vscode": {
     "languageId": "shellscript"
    }
   },
   "outputs": [
    {
     "name": "stdout",
     "output_type": "stream",
     "text": [
      " jsonb_set \n",
      "-----------\n",
      " {\"A\": 10}\n",
      "(1 row)\n",
      "\n"
     ]
    }
   ],
   "source": [
    "docker exec -i json_example_pg psql -U postgres << EOF\n",
    "SELECT jsonb_set('{\"A\": 80}'::JSONB, '{A}', '10');\n",
    "EOF"
   ]
  },
  {
   "cell_type": "markdown",
   "metadata": {},
   "source": [
    "## Condition on field\n",
    "\n",
    "With syntax `<column name> & <value>` you can get boolean value that marks if json contains `<value>` key."
   ]
  },
  {
   "cell_type": "markdown",
   "metadata": {},
   "source": [
    "---\n",
    "\n",
    "The following cell creates tables with different structure jsons and shows the application of the `?` operator to them."
   ]
  },
  {
   "cell_type": "code",
   "execution_count": 7,
   "metadata": {
    "vscode": {
     "languageId": "shellscript"
    }
   },
   "outputs": [
    {
     "name": "stdout",
     "output_type": "stream",
     "text": [
      "    col    | contains_a | contains_b \n",
      "-----------+------------+------------\n",
      " {\"a\": 10} | t          | f\n",
      " {\"b\": 15} | f          | t\n",
      "(2 rows)\n",
      "\n"
     ]
    }
   ],
   "source": [
    "docker exec -i json_example_pg psql -U postgres << EOF\n",
    "SELECT\n",
    "    col,\n",
    "    col ? 'a' AS contains_a,\n",
    "    col ? 'b' AS contains_b\n",
    "FROM (\n",
    "    VALUES\n",
    "    ('{\"a\": 10}'::JSONB),\n",
    "    ('{\"b\": 15}'::JSONB)\n",
    ") AS temp(col);\n",
    "EOF"
   ]
  }
 ],
 "metadata": {
  "kernelspec": {
   "display_name": "Bash",
   "language": "bash",
   "name": "bash"
  },
  "language_info": {
   "codemirror_mode": "shell",
   "file_extension": ".sh",
   "mimetype": "text/x-sh",
   "name": "bash"
  }
 },
 "nbformat": 4,
 "nbformat_minor": 2
}
