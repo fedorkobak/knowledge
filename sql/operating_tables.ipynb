{
 "cells": [
  {
   "cell_type": "markdown",
   "metadata": {},
   "source": [
    "# Operating tables\n",
    "\n",
    "This section focuses on creating, fulfilling, and analyzing tables in PostgreSQL.\n",
    "\n",
    "For more infomation check:\n",
    "\n",
    "- [Manual on `CREATE TABLE`](https://www.postgresql.org/docs/current/sql-createtable.html) directive in postgreSQL."
   ]
  },
  {
   "cell_type": "code",
   "execution_count": 1,
   "metadata": {
    "vscode": {
     "languageId": "shellscript"
    }
   },
   "outputs": [
    {
     "name": "stdout",
     "output_type": "stream",
     "text": [
      "b8131450f737d8553034038439d827b756ff40f9735fb7134d7b9a05f993cb11\n"
     ]
    }
   ],
   "source": [
    "docker run -d --rm\\\n",
    "    --name building_tables_examples_pg\\\n",
    "    -e POSTGRES_PASSWORD=postgres\\\n",
    "    postgres:15.4\n",
    "\n",
    "sleep 5"
   ]
  },
  {
   "cell_type": "markdown",
   "metadata": {},
   "source": [
    "**Note**: Don't forget to stop the experimental container afterward."
   ]
  },
  {
   "cell_type": "code",
   "execution_count": 33,
   "metadata": {
    "vscode": {
     "languageId": "shellscript"
    }
   },
   "outputs": [
    {
     "name": "stdout",
     "output_type": "stream",
     "text": [
      "building_tables_examples_pg\n"
     ]
    }
   ],
   "source": [
    "docker stop building_tables_examples_pg"
   ]
  },
  {
   "cell_type": "markdown",
   "metadata": {},
   "source": [
    "## Default values\n",
    "\n",
    "You can define default values that will be used during table creation. You need to use the `DEFAULT` keyword after specifying the column type, followed by the value that the column should take.\n",
    "\n",
    "An important practical nuance is that you can use expressions as values for DEFAULT. These are used when new table records are created.\n",
    "\n",
    "Check more:\n",
    "\n",
    "- [Page \"Default Values\"](https://www.postgresql.org/docs/current/ddl-default.html) on the official postgreSQL manual. "
   ]
  },
  {
   "cell_type": "markdown",
   "metadata": {},
   "source": [
    "---\n",
    "\n",
    "In the following example, a table is created that defines `DEFAULT` values for columns of different data types:\n",
    "\n",
    "In the following example, a table is created with columns of different data types, and `DEFAULT` values are assigned to each. Specifically:\n",
    "\n",
    "- For `BOOL`, `REAL` and `JSONB` data types, **literal values** are used as defaults.\n",
    "- For `TIMESTAMP`, the **`NOW()` function** is used as a default expression, which returns the current timestamp at the moment of insertion."
   ]
  },
  {
   "cell_type": "code",
   "execution_count": 5,
   "metadata": {
    "vscode": {
     "languageId": "shellscript"
    }
   },
   "outputs": [
    {
     "name": "stdout",
     "output_type": "stream",
     "text": [
      "DROP TABLE\n",
      "NOTICE:  table \"default_values_example\" does not exist, skipping\n",
      "CREATE TABLE\n"
     ]
    }
   ],
   "source": [
    "docker exec -i building_tables_examples_pg psql -U postgres << EOF\n",
    "DROP TABLE IF EXISTS default_values_example;\n",
    "CREATE TABLE default_values_example (\n",
    "    bool_value BOOL DEFAULT True,\n",
    "    real_value REAL DEFAULT 10,\n",
    "    date_time TIMESTAMP WITHOUT TIME ZONE DEFAULT NOW(),\n",
    "    json_type JSONB DEFAULT '{\"A\": 10, \"B\": 20}'\n",
    ")\n",
    "EOF"
   ]
  },
  {
   "cell_type": "markdown",
   "metadata": {},
   "source": [
    "The follwing cell shows inserting to the tables procedure. With sepecifying `DEFAULT` instead of columns names you can create row with totaly default values."
   ]
  },
  {
   "cell_type": "code",
   "execution_count": 6,
   "metadata": {
    "vscode": {
     "languageId": "shellscript"
    }
   },
   "outputs": [
    {
     "name": "stdout",
     "output_type": "stream",
     "text": [
      "INSERT 0 1\n"
     ]
    }
   ],
   "source": [
    "docker exec -i building_tables_examples_pg psql -U postgres << EOF\n",
    "INSERT INTO default_values_example DEFAULT VALUES;\n",
    "EOF"
   ]
  },
  {
   "cell_type": "markdown",
   "metadata": {},
   "source": [
    "Or you can specify only some of the columns; the others will use their default values:"
   ]
  },
  {
   "cell_type": "code",
   "execution_count": 7,
   "metadata": {
    "vscode": {
     "languageId": "shellscript"
    }
   },
   "outputs": [
    {
     "name": "stdout",
     "output_type": "stream",
     "text": [
      "INSERT 0 2\n"
     ]
    }
   ],
   "source": [
    "docker exec -i building_tables_examples_pg psql -U postgres << EOF\n",
    "INSERT INTO default_values_example(bool_value, real_value) \n",
    "VALUES\n",
    "    (false, 30),\n",
    "    (false, 32);\n",
    "EOF"
   ]
  },
  {
   "cell_type": "markdown",
   "metadata": {},
   "source": [
    "The following cell displays the table that we obtained at the end."
   ]
  },
  {
   "cell_type": "code",
   "execution_count": 8,
   "metadata": {
    "vscode": {
     "languageId": "shellscript"
    }
   },
   "outputs": [
    {
     "name": "stdout",
     "output_type": "stream",
     "text": [
      " bool_value | real_value |         date_time          |     json_type      \n",
      "------------+------------+----------------------------+--------------------\n",
      " t          |         10 | 2024-10-19 16:47:41.397551 | {\"A\": 10, \"B\": 20}\n",
      " f          |         30 | 2024-10-19 16:47:43.031244 | {\"A\": 10, \"B\": 20}\n",
      " f          |         32 | 2024-10-19 16:47:43.031244 | {\"A\": 10, \"B\": 20}\n",
      "(3 rows)\n",
      "\n"
     ]
    }
   ],
   "source": [
    "docker exec -i building_tables_examples_pg psql -U postgres << EOF\n",
    "SELECT * FROM default_values_example;\n",
    "EOF"
   ]
  },
  {
   "cell_type": "markdown",
   "metadata": {},
   "source": [
    "## Loading from csv"
   ]
  },
  {
   "cell_type": "markdown",
   "metadata": {},
   "source": [
    "This section shows how data may be loaded from `csv` file. \n",
    "\n",
    "Learn more in:\n",
    "\n",
    "- [Import CSV file into PostgreSQL table](https://www.postgresqltutorial.com/postgresql-tutorial/import-csv-file-into-posgresql-table/) tutorial.\n",
    "- [COPY command](https://www.postgresql.org/docs/current/sql-copy.html) in official postgres documentation page. \n",
    "\n",
    "You can specify file in the `FROM` section `DELIMITER` and `CSV` parameters specify how file should be loaded."
   ]
  },
  {
   "cell_type": "markdown",
   "metadata": {},
   "source": [
    "---\n",
    "\n",
    "The following cell creates a CSV file in the container and reads it into the database."
   ]
  },
  {
   "cell_type": "code",
   "execution_count": 6,
   "metadata": {
    "vscode": {
     "languageId": "shellscript"
    }
   },
   "outputs": [
    {
     "name": "stdout",
     "output_type": "stream",
     "text": [
      "NOTICE:  table \"csv_example\" does not exist, skipping\n",
      "DROP TABLE\n",
      "CREATE TABLE\n",
      "COPY 4\n"
     ]
    }
   ],
   "source": [
    "docker exec -i building_tables_examples_pg sh -c \"cat > /test.csv\" << EOF\n",
    "20,Riga\n",
    "30,Vilnus\n",
    "4,Minsk\n",
    "43,Warsaw\n",
    "EOF\n",
    "\n",
    "\n",
    "docker exec -i building_tables_examples_pg psql -U postgres << EOF\n",
    "-- creating table\n",
    "DROP TABLE IF EXISTS csv_example;\n",
    "CREATE TABLE csv_example (\n",
    "    value REAL, city VARCHAR(20)\n",
    ");\n",
    "\n",
    "-- loading csv table to created table\n",
    "COPY csv_example(value, city)\n",
    "FROM '/test.csv'\n",
    "DELIMITER ','\n",
    "CSV;\n",
    "EOF"
   ]
  },
  {
   "cell_type": "markdown",
   "metadata": {},
   "source": [
    "Now let's check the obtained results:"
   ]
  },
  {
   "cell_type": "code",
   "execution_count": 7,
   "metadata": {
    "vscode": {
     "languageId": "shellscript"
    }
   },
   "outputs": [
    {
     "name": "stdout",
     "output_type": "stream",
     "text": [
      " value |  city  \n",
      "-------+--------\n",
      "    20 | Riga\n",
      "    30 | Vilnus\n",
      "     4 | Minsk\n",
      "    43 | Warsaw\n",
      "(4 rows)\n",
      "\n"
     ]
    }
   ],
   "source": [
    "docker exec -i building_tables_examples_pg psql -U postgres << EOF\n",
    "SELECT * FROM csv_example LIMIT 10;\n",
    "EOF"
   ]
  },
  {
   "cell_type": "markdown",
   "metadata": {},
   "source": [
    "## Indexes\n",
    "\n",
    "Indexing in PostgreSQL is a way to increase the performance of queries, but it adds overhead to the database system as a whole.\n",
    "\n",
    "For more information, check the [corresponding chapter](https://www.postgresql.org/docs/current/indexes.html) in the PostgreSQL documentation."
   ]
  },
  {
   "cell_type": "markdown",
   "metadata": {},
   "source": [
    "---\n",
    "\n",
    "The following cell creates a table that contains a relatively large number of rows. An index is added to one of the columns (`indexed_id`)."
   ]
  },
  {
   "cell_type": "code",
   "execution_count": 24,
   "metadata": {
    "vscode": {
     "languageId": "shellscript"
    }
   },
   "outputs": [
    {
     "name": "stdout",
     "output_type": "stream",
     "text": [
      "DROP TABLE\n",
      "CREATE TABLE\n",
      "INSERT 0 1000000\n",
      "CREATE INDEX\n"
     ]
    }
   ],
   "source": [
    "docker exec -i building_tables_examples_pg psql -U postgres << EOF\n",
    "DROP TABLE IF EXISTS indexes_example;\n",
    "CREATE TABLE indexes_example (just_id integer, indexed_id integer, content varchar);\n",
    "\n",
    "INSERT INTO \n",
    "    indexes_example (just_id, indexed_id, content)\n",
    "SELECT\n",
    "    (random()*100)::INT,\n",
    "    (random()*100)::INT,\n",
    "    chr(65 + floor(random()*26)::INT)\n",
    "FROM\n",
    "    generate_series(1, 1000000);\n",
    "\n",
    "CREATE INDEX test_index ON indexes_example (indexed_id);\n",
    "\n",
    "EOF"
   ]
  },
  {
   "cell_type": "markdown",
   "metadata": {},
   "source": [
    "Now let's compare the performance of the query that adds conditions under the `just_id` column."
   ]
  },
  {
   "cell_type": "code",
   "execution_count": 31,
   "metadata": {
    "vscode": {
     "languageId": "shellscript"
    }
   },
   "outputs": [
    {
     "name": "stdout",
     "output_type": "stream",
     "text": [
      "                                                             QUERY PLAN                                                             \n",
      "------------------------------------------------------------------------------------------------------------------------------------\n",
      " Gather  (cost=1000.00..12627.63 rows=10133 width=10) (actual time=0.153..13.787 rows=10067 loops=1)\n",
      "   Workers Planned: 2\n",
      "   Workers Launched: 2\n",
      "   ->  Parallel Seq Scan on indexes_example  (cost=0.00..10614.33 rows=4222 width=10) (actual time=0.011..11.004 rows=3356 loops=3)\n",
      "         Filter: (just_id = 50)\n",
      "         Rows Removed by Filter: 329978\n",
      " Planning Time: 0.147 ms\n",
      " Execution Time: 13.981 ms\n",
      "(8 rows)\n",
      "\n"
     ]
    }
   ],
   "source": [
    "docker exec -i building_tables_examples_pg psql -U postgres << EOF\n",
    "EXPLAIN ANALYZE SELECT * FROM indexes_example WHERE just_id=50;\n",
    "EOF"
   ]
  },
  {
   "cell_type": "markdown",
   "metadata": {},
   "source": [
    "And the query that adds conditions under the `indexed_id` column."
   ]
  },
  {
   "cell_type": "code",
   "execution_count": 32,
   "metadata": {
    "vscode": {
     "languageId": "shellscript"
    }
   },
   "outputs": [
    {
     "name": "stdout",
     "output_type": "stream",
     "text": [
      "                                                          QUERY PLAN                                                           \n",
      "-------------------------------------------------------------------------------------------------------------------------------\n",
      " Bitmap Heap Scan on indexes_example  (cost=123.61..5673.19 rows=10733 width=10) (actual time=1.091..4.763 rows=10178 loops=1)\n",
      "   Recheck Cond: (indexed_id = 50)\n",
      "   Heap Blocks: exact=4593\n",
      "   ->  Bitmap Index Scan on test_index  (cost=0.00..120.92 rows=10733 width=0) (actual time=0.647..0.647 rows=10178 loops=1)\n",
      "         Index Cond: (indexed_id = 50)\n",
      " Planning Time: 0.183 ms\n",
      " Execution Time: 4.939 ms\n",
      "(7 rows)\n",
      "\n"
     ]
    }
   ],
   "source": [
    "docker exec -i building_tables_examples_pg psql -U postgres << EOF\n",
    "EXPLAIN ANALYZE SELECT * FROM indexes_example WHERE indexed_id=50;\n",
    "EOF"
   ]
  },
  {
   "cell_type": "markdown",
   "metadata": {},
   "source": [
    "The second query typically executes faster."
   ]
  },
  {
   "cell_type": "markdown",
   "metadata": {},
   "source": [
    "## Tables properties"
   ]
  }
 ],
 "metadata": {
  "kernelspec": {
   "display_name": "Bash",
   "language": "bash",
   "name": "bash"
  },
  "language_info": {
   "codemirror_mode": "shell",
   "file_extension": ".sh",
   "mimetype": "text/x-sh",
   "name": "bash"
  }
 },
 "nbformat": 4,
 "nbformat_minor": 2
}
