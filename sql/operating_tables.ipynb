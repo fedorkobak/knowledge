{
 "cells": [
  {
   "cell_type": "markdown",
   "metadata": {},
   "source": [
    "# Operating tables\n",
    "\n",
    "This section focuses on creating, fulfilling, and analyzing tables in PostgreSQL.\n",
    "\n",
    "For more infomation check:\n",
    "\n",
    "- [Manual on `CREATE TABLE`](https://www.postgresql.org/docs/current/sql-createtable.html) directive in postgreSQL."
   ]
  },
  {
   "cell_type": "markdown",
   "metadata": {},
   "source": [
    "## Default values\n",
    "\n",
    "You can define default values that will be used during table creation. You need to use the `DEFAULT` keyword after specifying the column type, followed by the value that the column should take.\n",
    "\n",
    "An important practical nuance is that you can use expressions as values for DEFAULT. These are used when new table records are created.\n",
    "\n",
    "Check more:\n",
    "\n",
    "- [Page \"Default Values\"](https://www.postgresql.org/docs/current/ddl-default.html) on the official postgreSQL manual. "
   ]
  },
  {
   "cell_type": "markdown",
   "metadata": {},
   "source": [
    "---\n",
    "\n",
    "In the following example, a table is created that defines `DEFAULT` values for columns of different data types:\n",
    "\n",
    "In the following example, a table is created with columns of different data types, and `DEFAULT` values are assigned to each. Specifically:\n",
    "\n",
    "- For `BOOL`, `REAL` and `JSONB` data types, **literal values** are used as defaults.\n",
    "- For `TIMESTAMP`, the **`NOW()` function** is used as a default expression, which returns the current timestamp at the moment of insertion."
   ]
  },
  {
   "cell_type": "code",
   "execution_count": 1,
   "metadata": {},
   "outputs": [
    {
     "name": "stdout",
     "output_type": "stream",
     "text": [
      "NOTICE: table \"default_values_example\" does not exist, skipping\n",
      "DROP TABLE\n",
      "CREATE TABLE\n"
     ]
    }
   ],
   "source": [
    "--postgreSQL\n",
    "DROP TABLE IF EXISTS default_values_example;\n",
    "CREATE TABLE default_values_example (\n",
    "    bool_value BOOL DEFAULT True,\n",
    "    real_value REAL DEFAULT 10,\n",
    "    date_time TIMESTAMP WITHOUT TIME ZONE DEFAULT NOW(),\n",
    "    json_type JSONB DEFAULT '{\"A\": 10, \"B\": 20}'\n",
    ")"
   ]
  },
  {
   "cell_type": "markdown",
   "metadata": {},
   "source": [
    "The follwing cell shows inserting to the tables procedure. With sepecifying `DEFAULT` instead of columns names you can create row with totaly default values."
   ]
  },
  {
   "cell_type": "code",
   "execution_count": 2,
   "metadata": {},
   "outputs": [
    {
     "name": "stdout",
     "output_type": "stream",
     "text": [
      "INSERT 0 1\n"
     ]
    }
   ],
   "source": [
    "--postgreSQL\n",
    "INSERT INTO default_values_example DEFAULT VALUES;"
   ]
  },
  {
   "cell_type": "markdown",
   "metadata": {},
   "source": [
    "Or you can specify only some of the columns; the others will use their default values:"
   ]
  },
  {
   "cell_type": "code",
   "execution_count": 3,
   "metadata": {},
   "outputs": [
    {
     "name": "stdout",
     "output_type": "stream",
     "text": [
      "INSERT 0 2\n"
     ]
    }
   ],
   "source": [
    "--postgreSQL\n",
    "INSERT INTO default_values_example(bool_value, real_value) \n",
    "VALUES\n",
    "    (false, 30),\n",
    "    (false, 32);"
   ]
  },
  {
   "cell_type": "markdown",
   "metadata": {},
   "source": [
    "The following cell displays the table that we obtained at the end."
   ]
  },
  {
   "cell_type": "code",
   "execution_count": 4,
   "metadata": {},
   "outputs": [
    {
     "name": "stdout",
     "output_type": "stream",
     "text": [
      "SELECT 3\n"
     ]
    },
    {
     "data": {
      "text/html": [
       "<table>\n",
       "<thead>\n",
       "<tr><th>bool_value  </th><th style=\"text-align: right;\">  real_value</th><th>date_time                 </th><th>json_type         </th></tr>\n",
       "</thead>\n",
       "<tbody>\n",
       "<tr><td>True        </td><td style=\"text-align: right;\">          10</td><td>2025-09-23 08:59:33.969619</td><td>{&#x27;A&#x27;: 10, &#x27;B&#x27;: 20}</td></tr>\n",
       "<tr><td>False       </td><td style=\"text-align: right;\">          30</td><td>2025-09-23 08:59:33.969619</td><td>{&#x27;A&#x27;: 10, &#x27;B&#x27;: 20}</td></tr>\n",
       "<tr><td>False       </td><td style=\"text-align: right;\">          32</td><td>2025-09-23 08:59:33.969619</td><td>{&#x27;A&#x27;: 10, &#x27;B&#x27;: 20}</td></tr>\n",
       "</tbody>\n",
       "</table>"
      ],
      "text/latex": [
       "\\begin{tabular}{lrll}\n",
       "\\toprule\n",
       " bool\\_value   &   real\\_value & date\\_time                  & json\\_type          \\\\\n",
       "\\midrule\n",
       " True         &           10 & 2025-09-23 08:59:33.969619 & \\{'A': 10, 'B': 20\\} \\\\\n",
       " False        &           30 & 2025-09-23 08:59:33.969619 & \\{'A': 10, 'B': 20\\} \\\\\n",
       " False        &           32 & 2025-09-23 08:59:33.969619 & \\{'A': 10, 'B': 20\\} \\\\\n",
       "\\bottomrule\n",
       "\\end{tabular}"
      ],
      "text/plain": [
       "bool_value      real_value  date_time                   json_type\n",
       "------------  ------------  --------------------------  ------------------\n",
       "True                    10  2025-09-23 08:59:33.969619  {'A': 10, 'B': 20}\n",
       "False                   30  2025-09-23 08:59:33.969619  {'A': 10, 'B': 20}\n",
       "False                   32  2025-09-23 08:59:33.969619  {'A': 10, 'B': 20}"
      ]
     },
     "metadata": {},
     "output_type": "display_data"
    }
   ],
   "source": [
    "--postgreSQL\n",
    "SELECT * FROM default_values_example;"
   ]
  },
  {
   "cell_type": "markdown",
   "metadata": {},
   "source": [
    "## Tables properties\n",
    "\n",
    "It's a typical task to analyze your tables. This section considers questions associated with columns in tables, their types, and other properties. For more check [special page](operating_tables/tables_properties.ipynb)."
   ]
  },
  {
   "cell_type": "markdown",
   "metadata": {},
   "source": [
    "---\n",
    "\n",
    "A great way to find information about the tables in the PostgreSQL is to load the `pg_catalog.pg_tables` table:"
   ]
  },
  {
   "cell_type": "code",
   "execution_count": 7,
   "metadata": {},
   "outputs": [
    {
     "name": "stdout",
     "output_type": "stream",
     "text": [
      "SELECT 69\n"
     ]
    },
    {
     "data": {
      "text/html": [
       "<table>\n",
       "<thead>\n",
       "<tr><th>schemaname        </th><th>tablename               </th><th>tableowner  </th><th>tablespace  </th><th>hasindexes  </th><th>hasrules  </th><th>hastriggers  </th><th>rowsecurity  </th></tr>\n",
       "</thead>\n",
       "<tbody>\n",
       "<tr><td>public            </td><td>default_values_example  </td><td>postgres    </td><td>            </td><td>False       </td><td>False     </td><td>False        </td><td>False        </td></tr>\n",
       "<tr><td>pg_catalog        </td><td>pg_statistic            </td><td>postgres    </td><td>            </td><td>True        </td><td>False     </td><td>False        </td><td>False        </td></tr>\n",
       "<tr><td>pg_catalog        </td><td>pg_type                 </td><td>postgres    </td><td>            </td><td>True        </td><td>False     </td><td>False        </td><td>False        </td></tr>\n",
       "<tr><td>pg_catalog        </td><td>pg_foreign_table        </td><td>postgres    </td><td>            </td><td>True        </td><td>False     </td><td>False        </td><td>False        </td></tr>\n",
       "<tr><td>pg_catalog        </td><td>pg_authid               </td><td>postgres    </td><td>pg_global   </td><td>True        </td><td>False     </td><td>False        </td><td>False        </td></tr>\n",
       "<tr><td>pg_catalog        </td><td>pg_statistic_ext_data   </td><td>postgres    </td><td>            </td><td>True        </td><td>False     </td><td>False        </td><td>False        </td></tr>\n",
       "<tr><td>pg_catalog        </td><td>pg_user_mapping         </td><td>postgres    </td><td>            </td><td>True        </td><td>False     </td><td>False        </td><td>False        </td></tr>\n",
       "<tr><td>pg_catalog        </td><td>pg_subscription         </td><td>postgres    </td><td>pg_global   </td><td>True        </td><td>False     </td><td>False        </td><td>False        </td></tr>\n",
       "<tr><td>pg_catalog        </td><td>pg_attribute            </td><td>postgres    </td><td>            </td><td>True        </td><td>False     </td><td>False        </td><td>False        </td></tr>\n",
       "<tr><td>pg_catalog        </td><td>pg_proc                 </td><td>postgres    </td><td>            </td><td>True        </td><td>False     </td><td>False        </td><td>False        </td></tr>\n",
       "<tr><td>pg_catalog        </td><td>pg_class                </td><td>postgres    </td><td>            </td><td>True        </td><td>False     </td><td>False        </td><td>False        </td></tr>\n",
       "<tr><td>pg_catalog        </td><td>pg_attrdef              </td><td>postgres    </td><td>            </td><td>True        </td><td>False     </td><td>False        </td><td>False        </td></tr>\n",
       "<tr><td>pg_catalog        </td><td>pg_constraint           </td><td>postgres    </td><td>            </td><td>True        </td><td>False     </td><td>False        </td><td>False        </td></tr>\n",
       "<tr><td>pg_catalog        </td><td>pg_inherits             </td><td>postgres    </td><td>            </td><td>True        </td><td>False     </td><td>False        </td><td>False        </td></tr>\n",
       "<tr><td>pg_catalog        </td><td>pg_index                </td><td>postgres    </td><td>            </td><td>True        </td><td>False     </td><td>False        </td><td>False        </td></tr>\n",
       "<tr><td>pg_catalog        </td><td>pg_operator             </td><td>postgres    </td><td>            </td><td>True        </td><td>False     </td><td>False        </td><td>False        </td></tr>\n",
       "<tr><td>pg_catalog        </td><td>pg_opfamily             </td><td>postgres    </td><td>            </td><td>True        </td><td>False     </td><td>False        </td><td>False        </td></tr>\n",
       "<tr><td>pg_catalog        </td><td>pg_opclass              </td><td>postgres    </td><td>            </td><td>True        </td><td>False     </td><td>False        </td><td>False        </td></tr>\n",
       "<tr><td>pg_catalog        </td><td>pg_am                   </td><td>postgres    </td><td>            </td><td>True        </td><td>False     </td><td>False        </td><td>False        </td></tr>\n",
       "<tr><td>pg_catalog        </td><td>pg_amop                 </td><td>postgres    </td><td>            </td><td>True        </td><td>False     </td><td>False        </td><td>False        </td></tr>\n",
       "<tr><td>pg_catalog        </td><td>pg_amproc               </td><td>postgres    </td><td>            </td><td>True        </td><td>False     </td><td>False        </td><td>False        </td></tr>\n",
       "<tr><td>pg_catalog        </td><td>pg_language             </td><td>postgres    </td><td>            </td><td>True        </td><td>False     </td><td>False        </td><td>False        </td></tr>\n",
       "<tr><td>pg_catalog        </td><td>pg_largeobject_metadata </td><td>postgres    </td><td>            </td><td>True        </td><td>False     </td><td>False        </td><td>False        </td></tr>\n",
       "<tr><td>pg_catalog        </td><td>pg_aggregate            </td><td>postgres    </td><td>            </td><td>True        </td><td>False     </td><td>False        </td><td>False        </td></tr>\n",
       "<tr><td>pg_catalog        </td><td>pg_statistic_ext        </td><td>postgres    </td><td>            </td><td>True        </td><td>False     </td><td>False        </td><td>False        </td></tr>\n",
       "<tr><td>pg_catalog        </td><td>pg_rewrite              </td><td>postgres    </td><td>            </td><td>True        </td><td>False     </td><td>False        </td><td>False        </td></tr>\n",
       "<tr><td>pg_catalog        </td><td>pg_trigger              </td><td>postgres    </td><td>            </td><td>True        </td><td>False     </td><td>False        </td><td>False        </td></tr>\n",
       "<tr><td>pg_catalog        </td><td>pg_event_trigger        </td><td>postgres    </td><td>            </td><td>True        </td><td>False     </td><td>False        </td><td>False        </td></tr>\n",
       "<tr><td>pg_catalog        </td><td>pg_description          </td><td>postgres    </td><td>            </td><td>True        </td><td>False     </td><td>False        </td><td>False        </td></tr>\n",
       "<tr><td>pg_catalog        </td><td>pg_cast                 </td><td>postgres    </td><td>            </td><td>True        </td><td>False     </td><td>False        </td><td>False        </td></tr>\n",
       "<tr><td>pg_catalog        </td><td>pg_enum                 </td><td>postgres    </td><td>            </td><td>True        </td><td>False     </td><td>False        </td><td>False        </td></tr>\n",
       "<tr><td>pg_catalog        </td><td>pg_namespace            </td><td>postgres    </td><td>            </td><td>True        </td><td>False     </td><td>False        </td><td>False        </td></tr>\n",
       "<tr><td>pg_catalog        </td><td>pg_conversion           </td><td>postgres    </td><td>            </td><td>True        </td><td>False     </td><td>False        </td><td>False        </td></tr>\n",
       "<tr><td>pg_catalog        </td><td>pg_depend               </td><td>postgres    </td><td>            </td><td>True        </td><td>False     </td><td>False        </td><td>False        </td></tr>\n",
       "<tr><td>pg_catalog        </td><td>pg_database             </td><td>postgres    </td><td>pg_global   </td><td>True        </td><td>False     </td><td>False        </td><td>False        </td></tr>\n",
       "<tr><td>pg_catalog        </td><td>pg_db_role_setting      </td><td>postgres    </td><td>pg_global   </td><td>True        </td><td>False     </td><td>False        </td><td>False        </td></tr>\n",
       "<tr><td>pg_catalog        </td><td>pg_tablespace           </td><td>postgres    </td><td>pg_global   </td><td>True        </td><td>False     </td><td>False        </td><td>False        </td></tr>\n",
       "<tr><td>pg_catalog        </td><td>pg_auth_members         </td><td>postgres    </td><td>pg_global   </td><td>True        </td><td>False     </td><td>False        </td><td>False        </td></tr>\n",
       "<tr><td>pg_catalog        </td><td>pg_shdepend             </td><td>postgres    </td><td>pg_global   </td><td>True        </td><td>False     </td><td>False        </td><td>False        </td></tr>\n",
       "<tr><td>pg_catalog        </td><td>pg_shdescription        </td><td>postgres    </td><td>pg_global   </td><td>True        </td><td>False     </td><td>False        </td><td>False        </td></tr>\n",
       "<tr><td>pg_catalog        </td><td>pg_ts_config            </td><td>postgres    </td><td>            </td><td>True        </td><td>False     </td><td>False        </td><td>False        </td></tr>\n",
       "<tr><td>pg_catalog        </td><td>pg_ts_config_map        </td><td>postgres    </td><td>            </td><td>True        </td><td>False     </td><td>False        </td><td>False        </td></tr>\n",
       "<tr><td>pg_catalog        </td><td>pg_ts_dict              </td><td>postgres    </td><td>            </td><td>True        </td><td>False     </td><td>False        </td><td>False        </td></tr>\n",
       "<tr><td>pg_catalog        </td><td>pg_ts_parser            </td><td>postgres    </td><td>            </td><td>True        </td><td>False     </td><td>False        </td><td>False        </td></tr>\n",
       "<tr><td>pg_catalog        </td><td>pg_ts_template          </td><td>postgres    </td><td>            </td><td>True        </td><td>False     </td><td>False        </td><td>False        </td></tr>\n",
       "<tr><td>pg_catalog        </td><td>pg_extension            </td><td>postgres    </td><td>            </td><td>True        </td><td>False     </td><td>False        </td><td>False        </td></tr>\n",
       "<tr><td>pg_catalog        </td><td>pg_foreign_data_wrapper </td><td>postgres    </td><td>            </td><td>True        </td><td>False     </td><td>False        </td><td>False        </td></tr>\n",
       "<tr><td>pg_catalog        </td><td>pg_foreign_server       </td><td>postgres    </td><td>            </td><td>True        </td><td>False     </td><td>False        </td><td>False        </td></tr>\n",
       "<tr><td>pg_catalog        </td><td>pg_policy               </td><td>postgres    </td><td>            </td><td>True        </td><td>False     </td><td>False        </td><td>False        </td></tr>\n",
       "<tr><td>pg_catalog        </td><td>pg_replication_origin   </td><td>postgres    </td><td>pg_global   </td><td>True        </td><td>False     </td><td>False        </td><td>False        </td></tr>\n",
       "<tr><td>pg_catalog        </td><td>pg_default_acl          </td><td>postgres    </td><td>            </td><td>True        </td><td>False     </td><td>False        </td><td>False        </td></tr>\n",
       "<tr><td>pg_catalog        </td><td>pg_init_privs           </td><td>postgres    </td><td>            </td><td>True        </td><td>False     </td><td>False        </td><td>False        </td></tr>\n",
       "<tr><td>pg_catalog        </td><td>pg_seclabel             </td><td>postgres    </td><td>            </td><td>True        </td><td>False     </td><td>False        </td><td>False        </td></tr>\n",
       "<tr><td>pg_catalog        </td><td>pg_shseclabel           </td><td>postgres    </td><td>pg_global   </td><td>True        </td><td>False     </td><td>False        </td><td>False        </td></tr>\n",
       "<tr><td>pg_catalog        </td><td>pg_collation            </td><td>postgres    </td><td>            </td><td>True        </td><td>False     </td><td>False        </td><td>False        </td></tr>\n",
       "<tr><td>pg_catalog        </td><td>pg_parameter_acl        </td><td>postgres    </td><td>pg_global   </td><td>True        </td><td>False     </td><td>False        </td><td>False        </td></tr>\n",
       "<tr><td>pg_catalog        </td><td>pg_partitioned_table    </td><td>postgres    </td><td>            </td><td>True        </td><td>False     </td><td>False        </td><td>False        </td></tr>\n",
       "<tr><td>pg_catalog        </td><td>pg_range                </td><td>postgres    </td><td>            </td><td>True        </td><td>False     </td><td>False        </td><td>False        </td></tr>\n",
       "<tr><td>pg_catalog        </td><td>pg_transform            </td><td>postgres    </td><td>            </td><td>True        </td><td>False     </td><td>False        </td><td>False        </td></tr>\n",
       "<tr><td>pg_catalog        </td><td>pg_sequence             </td><td>postgres    </td><td>            </td><td>True        </td><td>False     </td><td>False        </td><td>False        </td></tr>\n",
       "<tr><td>pg_catalog        </td><td>pg_publication          </td><td>postgres    </td><td>            </td><td>True        </td><td>False     </td><td>False        </td><td>False        </td></tr>\n",
       "<tr><td>pg_catalog        </td><td>pg_publication_namespace</td><td>postgres    </td><td>            </td><td>True        </td><td>False     </td><td>False        </td><td>False        </td></tr>\n",
       "<tr><td>pg_catalog        </td><td>pg_publication_rel      </td><td>postgres    </td><td>            </td><td>True        </td><td>False     </td><td>False        </td><td>False        </td></tr>\n",
       "<tr><td>pg_catalog        </td><td>pg_subscription_rel     </td><td>postgres    </td><td>            </td><td>True        </td><td>False     </td><td>False        </td><td>False        </td></tr>\n",
       "<tr><td>pg_catalog        </td><td>pg_largeobject          </td><td>postgres    </td><td>            </td><td>True        </td><td>False     </td><td>False        </td><td>False        </td></tr>\n",
       "<tr><td>information_schema</td><td>sql_parts               </td><td>postgres    </td><td>            </td><td>False       </td><td>False     </td><td>False        </td><td>False        </td></tr>\n",
       "<tr><td>information_schema</td><td>sql_features            </td><td>postgres    </td><td>            </td><td>False       </td><td>False     </td><td>False        </td><td>False        </td></tr>\n",
       "<tr><td>information_schema</td><td>sql_implementation_info </td><td>postgres    </td><td>            </td><td>False       </td><td>False     </td><td>False        </td><td>False        </td></tr>\n",
       "<tr><td>information_schema</td><td>sql_sizing              </td><td>postgres    </td><td>            </td><td>False       </td><td>False     </td><td>False        </td><td>False        </td></tr>\n",
       "</tbody>\n",
       "</table>"
      ],
      "text/latex": [
       "\\begin{tabular}{llllllll}\n",
       "\\toprule\n",
       " schemaname         & tablename                & tableowner   & tablespace   & hasindexes   & hasrules   & hastriggers   & rowsecurity   \\\\\n",
       "\\midrule\n",
       " public             & default\\_values\\_example   & postgres     &              & False        & False      & False         & False         \\\\\n",
       " pg\\_catalog         & pg\\_statistic             & postgres     &              & True         & False      & False         & False         \\\\\n",
       " pg\\_catalog         & pg\\_type                  & postgres     &              & True         & False      & False         & False         \\\\\n",
       " pg\\_catalog         & pg\\_foreign\\_table         & postgres     &              & True         & False      & False         & False         \\\\\n",
       " pg\\_catalog         & pg\\_authid                & postgres     & pg\\_global    & True         & False      & False         & False         \\\\\n",
       " pg\\_catalog         & pg\\_statistic\\_ext\\_data    & postgres     &              & True         & False      & False         & False         \\\\\n",
       " pg\\_catalog         & pg\\_user\\_mapping          & postgres     &              & True         & False      & False         & False         \\\\\n",
       " pg\\_catalog         & pg\\_subscription          & postgres     & pg\\_global    & True         & False      & False         & False         \\\\\n",
       " pg\\_catalog         & pg\\_attribute             & postgres     &              & True         & False      & False         & False         \\\\\n",
       " pg\\_catalog         & pg\\_proc                  & postgres     &              & True         & False      & False         & False         \\\\\n",
       " pg\\_catalog         & pg\\_class                 & postgres     &              & True         & False      & False         & False         \\\\\n",
       " pg\\_catalog         & pg\\_attrdef               & postgres     &              & True         & False      & False         & False         \\\\\n",
       " pg\\_catalog         & pg\\_constraint            & postgres     &              & True         & False      & False         & False         \\\\\n",
       " pg\\_catalog         & pg\\_inherits              & postgres     &              & True         & False      & False         & False         \\\\\n",
       " pg\\_catalog         & pg\\_index                 & postgres     &              & True         & False      & False         & False         \\\\\n",
       " pg\\_catalog         & pg\\_operator              & postgres     &              & True         & False      & False         & False         \\\\\n",
       " pg\\_catalog         & pg\\_opfamily              & postgres     &              & True         & False      & False         & False         \\\\\n",
       " pg\\_catalog         & pg\\_opclass               & postgres     &              & True         & False      & False         & False         \\\\\n",
       " pg\\_catalog         & pg\\_am                    & postgres     &              & True         & False      & False         & False         \\\\\n",
       " pg\\_catalog         & pg\\_amop                  & postgres     &              & True         & False      & False         & False         \\\\\n",
       " pg\\_catalog         & pg\\_amproc                & postgres     &              & True         & False      & False         & False         \\\\\n",
       " pg\\_catalog         & pg\\_language              & postgres     &              & True         & False      & False         & False         \\\\\n",
       " pg\\_catalog         & pg\\_largeobject\\_metadata  & postgres     &              & True         & False      & False         & False         \\\\\n",
       " pg\\_catalog         & pg\\_aggregate             & postgres     &              & True         & False      & False         & False         \\\\\n",
       " pg\\_catalog         & pg\\_statistic\\_ext         & postgres     &              & True         & False      & False         & False         \\\\\n",
       " pg\\_catalog         & pg\\_rewrite               & postgres     &              & True         & False      & False         & False         \\\\\n",
       " pg\\_catalog         & pg\\_trigger               & postgres     &              & True         & False      & False         & False         \\\\\n",
       " pg\\_catalog         & pg\\_event\\_trigger         & postgres     &              & True         & False      & False         & False         \\\\\n",
       " pg\\_catalog         & pg\\_description           & postgres     &              & True         & False      & False         & False         \\\\\n",
       " pg\\_catalog         & pg\\_cast                  & postgres     &              & True         & False      & False         & False         \\\\\n",
       " pg\\_catalog         & pg\\_enum                  & postgres     &              & True         & False      & False         & False         \\\\\n",
       " pg\\_catalog         & pg\\_namespace             & postgres     &              & True         & False      & False         & False         \\\\\n",
       " pg\\_catalog         & pg\\_conversion            & postgres     &              & True         & False      & False         & False         \\\\\n",
       " pg\\_catalog         & pg\\_depend                & postgres     &              & True         & False      & False         & False         \\\\\n",
       " pg\\_catalog         & pg\\_database              & postgres     & pg\\_global    & True         & False      & False         & False         \\\\\n",
       " pg\\_catalog         & pg\\_db\\_role\\_setting       & postgres     & pg\\_global    & True         & False      & False         & False         \\\\\n",
       " pg\\_catalog         & pg\\_tablespace            & postgres     & pg\\_global    & True         & False      & False         & False         \\\\\n",
       " pg\\_catalog         & pg\\_auth\\_members          & postgres     & pg\\_global    & True         & False      & False         & False         \\\\\n",
       " pg\\_catalog         & pg\\_shdepend              & postgres     & pg\\_global    & True         & False      & False         & False         \\\\\n",
       " pg\\_catalog         & pg\\_shdescription         & postgres     & pg\\_global    & True         & False      & False         & False         \\\\\n",
       " pg\\_catalog         & pg\\_ts\\_config             & postgres     &              & True         & False      & False         & False         \\\\\n",
       " pg\\_catalog         & pg\\_ts\\_config\\_map         & postgres     &              & True         & False      & False         & False         \\\\\n",
       " pg\\_catalog         & pg\\_ts\\_dict               & postgres     &              & True         & False      & False         & False         \\\\\n",
       " pg\\_catalog         & pg\\_ts\\_parser             & postgres     &              & True         & False      & False         & False         \\\\\n",
       " pg\\_catalog         & pg\\_ts\\_template           & postgres     &              & True         & False      & False         & False         \\\\\n",
       " pg\\_catalog         & pg\\_extension             & postgres     &              & True         & False      & False         & False         \\\\\n",
       " pg\\_catalog         & pg\\_foreign\\_data\\_wrapper  & postgres     &              & True         & False      & False         & False         \\\\\n",
       " pg\\_catalog         & pg\\_foreign\\_server        & postgres     &              & True         & False      & False         & False         \\\\\n",
       " pg\\_catalog         & pg\\_policy                & postgres     &              & True         & False      & False         & False         \\\\\n",
       " pg\\_catalog         & pg\\_replication\\_origin    & postgres     & pg\\_global    & True         & False      & False         & False         \\\\\n",
       " pg\\_catalog         & pg\\_default\\_acl           & postgres     &              & True         & False      & False         & False         \\\\\n",
       " pg\\_catalog         & pg\\_init\\_privs            & postgres     &              & True         & False      & False         & False         \\\\\n",
       " pg\\_catalog         & pg\\_seclabel              & postgres     &              & True         & False      & False         & False         \\\\\n",
       " pg\\_catalog         & pg\\_shseclabel            & postgres     & pg\\_global    & True         & False      & False         & False         \\\\\n",
       " pg\\_catalog         & pg\\_collation             & postgres     &              & True         & False      & False         & False         \\\\\n",
       " pg\\_catalog         & pg\\_parameter\\_acl         & postgres     & pg\\_global    & True         & False      & False         & False         \\\\\n",
       " pg\\_catalog         & pg\\_partitioned\\_table     & postgres     &              & True         & False      & False         & False         \\\\\n",
       " pg\\_catalog         & pg\\_range                 & postgres     &              & True         & False      & False         & False         \\\\\n",
       " pg\\_catalog         & pg\\_transform             & postgres     &              & True         & False      & False         & False         \\\\\n",
       " pg\\_catalog         & pg\\_sequence              & postgres     &              & True         & False      & False         & False         \\\\\n",
       " pg\\_catalog         & pg\\_publication           & postgres     &              & True         & False      & False         & False         \\\\\n",
       " pg\\_catalog         & pg\\_publication\\_namespace & postgres     &              & True         & False      & False         & False         \\\\\n",
       " pg\\_catalog         & pg\\_publication\\_rel       & postgres     &              & True         & False      & False         & False         \\\\\n",
       " pg\\_catalog         & pg\\_subscription\\_rel      & postgres     &              & True         & False      & False         & False         \\\\\n",
       " pg\\_catalog         & pg\\_largeobject           & postgres     &              & True         & False      & False         & False         \\\\\n",
       " information\\_schema & sql\\_parts                & postgres     &              & False        & False      & False         & False         \\\\\n",
       " information\\_schema & sql\\_features             & postgres     &              & False        & False      & False         & False         \\\\\n",
       " information\\_schema & sql\\_implementation\\_info  & postgres     &              & False        & False      & False         & False         \\\\\n",
       " information\\_schema & sql\\_sizing               & postgres     &              & False        & False      & False         & False         \\\\\n",
       "\\bottomrule\n",
       "\\end{tabular}"
      ],
      "text/plain": [
       "schemaname          tablename                 tableowner    tablespace    hasindexes    hasrules    hastriggers    rowsecurity\n",
       "------------------  ------------------------  ------------  ------------  ------------  ----------  -------------  -------------\n",
       "public              default_values_example    postgres                    False         False       False          False\n",
       "pg_catalog          pg_statistic              postgres                    True          False       False          False\n",
       "pg_catalog          pg_type                   postgres                    True          False       False          False\n",
       "pg_catalog          pg_foreign_table          postgres                    True          False       False          False\n",
       "pg_catalog          pg_authid                 postgres      pg_global     True          False       False          False\n",
       "pg_catalog          pg_statistic_ext_data     postgres                    True          False       False          False\n",
       "pg_catalog          pg_user_mapping           postgres                    True          False       False          False\n",
       "pg_catalog          pg_subscription           postgres      pg_global     True          False       False          False\n",
       "pg_catalog          pg_attribute              postgres                    True          False       False          False\n",
       "pg_catalog          pg_proc                   postgres                    True          False       False          False\n",
       "pg_catalog          pg_class                  postgres                    True          False       False          False\n",
       "pg_catalog          pg_attrdef                postgres                    True          False       False          False\n",
       "pg_catalog          pg_constraint             postgres                    True          False       False          False\n",
       "pg_catalog          pg_inherits               postgres                    True          False       False          False\n",
       "pg_catalog          pg_index                  postgres                    True          False       False          False\n",
       "pg_catalog          pg_operator               postgres                    True          False       False          False\n",
       "pg_catalog          pg_opfamily               postgres                    True          False       False          False\n",
       "pg_catalog          pg_opclass                postgres                    True          False       False          False\n",
       "pg_catalog          pg_am                     postgres                    True          False       False          False\n",
       "pg_catalog          pg_amop                   postgres                    True          False       False          False\n",
       "pg_catalog          pg_amproc                 postgres                    True          False       False          False\n",
       "pg_catalog          pg_language               postgres                    True          False       False          False\n",
       "pg_catalog          pg_largeobject_metadata   postgres                    True          False       False          False\n",
       "pg_catalog          pg_aggregate              postgres                    True          False       False          False\n",
       "pg_catalog          pg_statistic_ext          postgres                    True          False       False          False\n",
       "pg_catalog          pg_rewrite                postgres                    True          False       False          False\n",
       "pg_catalog          pg_trigger                postgres                    True          False       False          False\n",
       "pg_catalog          pg_event_trigger          postgres                    True          False       False          False\n",
       "pg_catalog          pg_description            postgres                    True          False       False          False\n",
       "pg_catalog          pg_cast                   postgres                    True          False       False          False\n",
       "pg_catalog          pg_enum                   postgres                    True          False       False          False\n",
       "pg_catalog          pg_namespace              postgres                    True          False       False          False\n",
       "pg_catalog          pg_conversion             postgres                    True          False       False          False\n",
       "pg_catalog          pg_depend                 postgres                    True          False       False          False\n",
       "pg_catalog          pg_database               postgres      pg_global     True          False       False          False\n",
       "pg_catalog          pg_db_role_setting        postgres      pg_global     True          False       False          False\n",
       "pg_catalog          pg_tablespace             postgres      pg_global     True          False       False          False\n",
       "pg_catalog          pg_auth_members           postgres      pg_global     True          False       False          False\n",
       "pg_catalog          pg_shdepend               postgres      pg_global     True          False       False          False\n",
       "pg_catalog          pg_shdescription          postgres      pg_global     True          False       False          False\n",
       "pg_catalog          pg_ts_config              postgres                    True          False       False          False\n",
       "pg_catalog          pg_ts_config_map          postgres                    True          False       False          False\n",
       "pg_catalog          pg_ts_dict                postgres                    True          False       False          False\n",
       "pg_catalog          pg_ts_parser              postgres                    True          False       False          False\n",
       "pg_catalog          pg_ts_template            postgres                    True          False       False          False\n",
       "pg_catalog          pg_extension              postgres                    True          False       False          False\n",
       "pg_catalog          pg_foreign_data_wrapper   postgres                    True          False       False          False\n",
       "pg_catalog          pg_foreign_server         postgres                    True          False       False          False\n",
       "pg_catalog          pg_policy                 postgres                    True          False       False          False\n",
       "pg_catalog          pg_replication_origin     postgres      pg_global     True          False       False          False\n",
       "pg_catalog          pg_default_acl            postgres                    True          False       False          False\n",
       "pg_catalog          pg_init_privs             postgres                    True          False       False          False\n",
       "pg_catalog          pg_seclabel               postgres                    True          False       False          False\n",
       "pg_catalog          pg_shseclabel             postgres      pg_global     True          False       False          False\n",
       "pg_catalog          pg_collation              postgres                    True          False       False          False\n",
       "pg_catalog          pg_parameter_acl          postgres      pg_global     True          False       False          False\n",
       "pg_catalog          pg_partitioned_table      postgres                    True          False       False          False\n",
       "pg_catalog          pg_range                  postgres                    True          False       False          False\n",
       "pg_catalog          pg_transform              postgres                    True          False       False          False\n",
       "pg_catalog          pg_sequence               postgres                    True          False       False          False\n",
       "pg_catalog          pg_publication            postgres                    True          False       False          False\n",
       "pg_catalog          pg_publication_namespace  postgres                    True          False       False          False\n",
       "pg_catalog          pg_publication_rel        postgres                    True          False       False          False\n",
       "pg_catalog          pg_subscription_rel       postgres                    True          False       False          False\n",
       "pg_catalog          pg_largeobject            postgres                    True          False       False          False\n",
       "information_schema  sql_parts                 postgres                    False         False       False          False\n",
       "information_schema  sql_features              postgres                    False         False       False          False\n",
       "information_schema  sql_implementation_info   postgres                    False         False       False          False\n",
       "information_schema  sql_sizing                postgres                    False         False       False          False"
      ]
     },
     "metadata": {},
     "output_type": "display_data"
    }
   ],
   "source": [
    "--postgreSQL\n",
    "SELECT * FROM pg_catalog.pg_tables;"
   ]
  },
  {
   "cell_type": "markdown",
   "metadata": {},
   "source": [
    "## Indexes\n",
    "\n",
    "Indexing in PostgreSQL is a way to increase the performance of queries, but it adds overhead to the database system as a whole.\n",
    "\n",
    "For more information, check the [corresponding chapter](https://www.postgresql.org/docs/current/indexes.html) in the PostgreSQL documentation."
   ]
  },
  {
   "cell_type": "markdown",
   "metadata": {},
   "source": [
    "---\n",
    "\n",
    "The following cell creates a table that contains a relatively large number of rows. An index is added to one of the columns (`indexed_id`)."
   ]
  },
  {
   "cell_type": "code",
   "execution_count": 6,
   "metadata": {},
   "outputs": [
    {
     "name": "stdout",
     "output_type": "stream",
     "text": [
      "NOTICE: table \"indexes_example\" does not exist, skipping\n",
      "DROP TABLE\n",
      "CREATE TABLE\n",
      "INSERT 0 1000000\n",
      "CREATE INDEX\n"
     ]
    }
   ],
   "source": [
    "--postgreSQL\n",
    "DROP TABLE IF EXISTS indexes_example;\n",
    "CREATE TABLE indexes_example (just_id integer, indexed_id integer, content varchar);\n",
    "\n",
    "INSERT INTO \n",
    "    indexes_example (just_id, indexed_id, content)\n",
    "SELECT\n",
    "    (random()*100)::INT,\n",
    "    (random()*100)::INT,\n",
    "    chr(65 + floor(random()*26)::INT)\n",
    "FROM\n",
    "    generate_series(1, 1000000);\n",
    "\n",
    "CREATE INDEX test_index ON indexes_example (indexed_id);"
   ]
  },
  {
   "cell_type": "markdown",
   "metadata": {},
   "source": [
    "Now let's compare the performance of the query that adds conditions under the `just_id` column."
   ]
  },
  {
   "cell_type": "code",
   "execution_count": 7,
   "metadata": {},
   "outputs": [
    {
     "name": "stdout",
     "output_type": "stream",
     "text": [
      "EXPLAIN\n"
     ]
    },
    {
     "data": {
      "text/html": [
       "<table>\n",
       "<thead>\n",
       "<tr><th>QUERY PLAN                                                                                                                      </th></tr>\n",
       "</thead>\n",
       "<tbody>\n",
       "<tr><td>Gather  (cost=1000.00..12114.33 rows=5000 width=40) (actual time=0.168..28.916 rows=9869 loops=1)                               </td></tr>\n",
       "<tr><td>Workers Planned: 2                                                                                                              </td></tr>\n",
       "<tr><td>Workers Launched: 2                                                                                                             </td></tr>\n",
       "<tr><td>-&gt;  Parallel Seq Scan on indexes_example  (cost=0.00..10614.33 rows=2083 width=40) (actual time=0.025..22.682 rows=3290 loops=3)</td></tr>\n",
       "<tr><td>Filter: (just_id = 50)                                                                                                          </td></tr>\n",
       "<tr><td>Rows Removed by Filter: 330044                                                                                                  </td></tr>\n",
       "<tr><td>Planning Time: 0.168 ms                                                                                                         </td></tr>\n",
       "<tr><td>Execution Time: 29.217 ms                                                                                                       </td></tr>\n",
       "</tbody>\n",
       "</table>"
      ],
      "text/latex": [
       "\\begin{tabular}{l}\n",
       "\\toprule\n",
       " QUERY PLAN                                                                                                                       \\\\\n",
       "\\midrule\n",
       " Gather  (cost=1000.00..12114.33 rows=5000 width=40) (actual time=0.168..28.916 rows=9869 loops=1)                                \\\\\n",
       " Workers Planned: 2                                                                                                               \\\\\n",
       " Workers Launched: 2                                                                                                              \\\\\n",
       " -\\ensuremath{>}  Parallel Seq Scan on indexes\\_example  (cost=0.00..10614.33 rows=2083 width=40) (actual time=0.025..22.682 rows=3290 loops=3) \\\\\n",
       " Filter: (just\\_id = 50)                                                                                                           \\\\\n",
       " Rows Removed by Filter: 330044                                                                                                   \\\\\n",
       " Planning Time: 0.168 ms                                                                                                          \\\\\n",
       " Execution Time: 29.217 ms                                                                                                        \\\\\n",
       "\\bottomrule\n",
       "\\end{tabular}"
      ],
      "text/plain": [
       "QUERY PLAN\n",
       "--------------------------------------------------------------------------------------------------------------------------------\n",
       "Gather  (cost=1000.00..12114.33 rows=5000 width=40) (actual time=0.168..28.916 rows=9869 loops=1)\n",
       "Workers Planned: 2\n",
       "Workers Launched: 2\n",
       "->  Parallel Seq Scan on indexes_example  (cost=0.00..10614.33 rows=2083 width=40) (actual time=0.025..22.682 rows=3290 loops=3)\n",
       "Filter: (just_id = 50)\n",
       "Rows Removed by Filter: 330044\n",
       "Planning Time: 0.168 ms\n",
       "Execution Time: 29.217 ms"
      ]
     },
     "metadata": {},
     "output_type": "display_data"
    }
   ],
   "source": [
    "--postgreSQL\n",
    "EXPLAIN ANALYZE SELECT * FROM indexes_example WHERE just_id=50;"
   ]
  },
  {
   "cell_type": "markdown",
   "metadata": {},
   "source": [
    "And the query that adds conditions under the `indexed_id` column."
   ]
  },
  {
   "cell_type": "code",
   "execution_count": 8,
   "metadata": {},
   "outputs": [
    {
     "name": "stdout",
     "output_type": "stream",
     "text": [
      "EXPLAIN\n"
     ]
    },
    {
     "data": {
      "text/html": [
       "<table>\n",
       "<thead>\n",
       "<tr><th>QUERY PLAN                                                                                                                </th></tr>\n",
       "</thead>\n",
       "<tbody>\n",
       "<tr><td>Bitmap Heap Scan on indexes_example  (cost=59.17..5640.65 rows=5000 width=40) (actual time=1.246..5.600 rows=9967 loops=1)</td></tr>\n",
       "<tr><td>Recheck Cond: (indexed_id = 50)                                                                                           </td></tr>\n",
       "<tr><td>Heap Blocks: exact=4580                                                                                                   </td></tr>\n",
       "<tr><td>-&gt;  Bitmap Index Scan on test_index  (cost=0.00..57.92 rows=5000 width=0) (actual time=0.627..0.627 rows=9967 loops=1)    </td></tr>\n",
       "<tr><td>Index Cond: (indexed_id = 50)                                                                                             </td></tr>\n",
       "<tr><td>Planning Time: 0.059 ms                                                                                                   </td></tr>\n",
       "<tr><td>Execution Time: 5.880 ms                                                                                                  </td></tr>\n",
       "</tbody>\n",
       "</table>"
      ],
      "text/latex": [
       "\\begin{tabular}{l}\n",
       "\\toprule\n",
       " QUERY PLAN                                                                                                                 \\\\\n",
       "\\midrule\n",
       " Bitmap Heap Scan on indexes\\_example  (cost=59.17..5640.65 rows=5000 width=40) (actual time=1.246..5.600 rows=9967 loops=1) \\\\\n",
       " Recheck Cond: (indexed\\_id = 50)                                                                                            \\\\\n",
       " Heap Blocks: exact=4580                                                                                                    \\\\\n",
       " -\\ensuremath{>}  Bitmap Index Scan on test\\_index  (cost=0.00..57.92 rows=5000 width=0) (actual time=0.627..0.627 rows=9967 loops=1)     \\\\\n",
       " Index Cond: (indexed\\_id = 50)                                                                                              \\\\\n",
       " Planning Time: 0.059 ms                                                                                                    \\\\\n",
       " Execution Time: 5.880 ms                                                                                                   \\\\\n",
       "\\bottomrule\n",
       "\\end{tabular}"
      ],
      "text/plain": [
       "QUERY PLAN\n",
       "--------------------------------------------------------------------------------------------------------------------------\n",
       "Bitmap Heap Scan on indexes_example  (cost=59.17..5640.65 rows=5000 width=40) (actual time=1.246..5.600 rows=9967 loops=1)\n",
       "Recheck Cond: (indexed_id = 50)\n",
       "Heap Blocks: exact=4580\n",
       "->  Bitmap Index Scan on test_index  (cost=0.00..57.92 rows=5000 width=0) (actual time=0.627..0.627 rows=9967 loops=1)\n",
       "Index Cond: (indexed_id = 50)\n",
       "Planning Time: 0.059 ms\n",
       "Execution Time: 5.880 ms"
      ]
     },
     "metadata": {},
     "output_type": "display_data"
    }
   ],
   "source": [
    "--postgreSQL\n",
    "EXPLAIN ANALYZE SELECT * FROM indexes_example WHERE indexed_id=50;"
   ]
  },
  {
   "cell_type": "markdown",
   "metadata": {},
   "source": [
    "The second query typically executes faster."
   ]
  }
 ],
 "metadata": {
  "kernelspec": {
   "display_name": "UniversalSQL",
   "language": "SQL",
   "name": "universal_sql"
  },
  "language_info": {
   "file_extentions": ".sql",
   "mimetype": "text/plain",
   "name": "sql"
  }
 },
 "nbformat": 4,
 "nbformat_minor": 2
}
