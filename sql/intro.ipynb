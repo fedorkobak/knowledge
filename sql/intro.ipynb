{
 "cells": [
  {
   "cell_type": "markdown",
   "id": "ffd24ada-9dc0-4419-a324-a7554c9f8f33",
   "metadata": {},
   "source": [
    "# Intro\n",
    "\n",
    "In this section, there are many examples, most of which are run in Docker. This page shows typical tricks used to run and manipulate SQL servers from a Docker container."
   ]
  },
  {
   "cell_type": "markdown",
   "id": "31ee9672",
   "metadata": {},
   "source": [
    "## Running servers\n",
    "\n",
    "First, you have to run a container with the SQL server."
   ]
  },
  {
   "cell_type": "markdown",
   "id": "1e8cb42f",
   "metadata": {},
   "source": [
    "### Postgres\n",
    "\n",
    "A key feature of running a PostgreSQL container is that you must pass the `POSTGRES_PASSWORD` environment variable. Find out more on the [PostgreSQL page on Docker Hub](https://hub.docker.com/_/postgres)."
   ]
  },
  {
   "cell_type": "markdown",
   "id": "e47e2e0a",
   "metadata": {},
   "source": [
    "---\n",
    "\n",
    "After running the following cell, you'll have a Docker container named `intro_example_pg`."
   ]
  },
  {
   "cell_type": "code",
   "execution_count": 1,
   "id": "010ad320",
   "metadata": {
    "vscode": {
     "languageId": "shellscript"
    }
   },
   "outputs": [],
   "source": [
    "docker run --rm -d\\\n",
    "    -e POSTGRES_PASSWORD=postgres\\\n",
    "    --name intro_example_pg\\\n",
    "    postgres:15.4 &> /dev/null"
   ]
  },
  {
   "cell_type": "markdown",
   "id": "d3f9863e",
   "metadata": {},
   "source": [
    "**Note**: Don't forget to stop the containers afterward."
   ]
  },
  {
   "cell_type": "code",
   "execution_count": 23,
   "id": "2ae79ddf",
   "metadata": {
    "vscode": {
     "languageId": "shellscript"
    }
   },
   "outputs": [
    {
     "name": "stdout",
     "output_type": "stream",
     "text": [
      "intro_example_pg\n"
     ]
    }
   ],
   "source": [
    "docker stop intro_example_pg"
   ]
  },
  {
   "cell_type": "markdown",
   "id": "697c52c8",
   "metadata": {},
   "source": [
    "### Clickhouse\n",
    "\n",
    "Creating a ClickHouse server is really straightforward."
   ]
  },
  {
   "cell_type": "markdown",
   "id": "63d005f6",
   "metadata": {},
   "source": [
    "---\n",
    "\n",
    "The following cell creates a new Docker container named `intro_example_click`."
   ]
  },
  {
   "cell_type": "code",
   "execution_count": 2,
   "id": "e925e317",
   "metadata": {
    "vscode": {
     "languageId": "shellscript"
    }
   },
   "outputs": [
    {
     "name": "stdout",
     "output_type": "stream",
     "text": [
      "60c105781eeb22399d5446ef8e7114ee86d0da60008f6b2dc37b676287737874\n"
     ]
    }
   ],
   "source": [
    "docker run -d --rm\\\n",
    "    --name intro_example_click\\\n",
    "    clickhouse/clickhouse-server:24"
   ]
  },
  {
   "cell_type": "markdown",
   "id": "df0c31e5",
   "metadata": {},
   "source": [
    "**Note**: Don't forget to stop the container afterward."
   ]
  },
  {
   "cell_type": "code",
   "execution_count": 24,
   "id": "d060de67",
   "metadata": {
    "vscode": {
     "languageId": "shellscript"
    }
   },
   "outputs": [
    {
     "name": "stdout",
     "output_type": "stream",
     "text": [
      "intro_example_click\n"
     ]
    }
   ],
   "source": [
    "docker stop intro_example_click"
   ]
  },
  {
   "cell_type": "markdown",
   "id": "9ae1021d",
   "metadata": {},
   "source": [
    "## Running commands\n",
    "\n",
    "Passing commands to the servers is done by running `docker exec <client interface>`."
   ]
  },
  {
   "cell_type": "markdown",
   "id": "76af9767",
   "metadata": {},
   "source": [
    "### Postgres\n",
    "\n",
    "In the case of PostgreSQL, to communicate with the container, you have to use the `psql` tool. It requires specifying the user with the `-U` option. The `exec` command must be called in interactive mode (using the `-i` option). To run scripts with multiple commands, you can use heredoc syntax."
   ]
  },
  {
   "cell_type": "markdown",
   "id": "1e27f7fc",
   "metadata": {},
   "source": [
    "---\n",
    "\n",
    "The following cell demonstrates how to execute SELECT statements in the newly created containers."
   ]
  },
  {
   "cell_type": "code",
   "execution_count": 10,
   "id": "9beb593d",
   "metadata": {
    "vscode": {
     "languageId": "shellscript"
    }
   },
   "outputs": [
    {
     "name": "stdout",
     "output_type": "stream",
     "text": [
      " v10 | v20 | v30 | v40 \n",
      "-----+-----+-----+-----\n",
      "  10 |  20 |  30 |  40\n",
      "(1 row)\n",
      "\n",
      " v10 | v20 | v30 | v40 \n",
      "-----+-----+-----+-----\n",
      "  10 |  20 |  30 |  40\n",
      "(1 row)\n",
      "\n"
     ]
    }
   ],
   "source": [
    "docker exec -i intro_example_pg psql -U postgres << EOF\n",
    "SELECT 10 v10, 20 v20, 30 v30, 40 v40;\n",
    "SELECT 10 v10, 20 v20, 30 v30, 40 v40;\n",
    "EOF"
   ]
  },
  {
   "cell_type": "markdown",
   "id": "5788b385",
   "metadata": {},
   "source": [
    "### Clickhouse\n",
    "\n",
    "In the case of ClickHouse, access to the database is achieved through the `clickhouse-client` tool. To pass a command to it, you need to use the `-q` option, followed by a string literal that defines the script to be executed."
   ]
  },
  {
   "cell_type": "markdown",
   "id": "ca1ec12a",
   "metadata": {},
   "source": [
    "---\n",
    "\n",
    "The following cell shows how to execute commands in ClickHouse through Docker."
   ]
  },
  {
   "cell_type": "code",
   "execution_count": 22,
   "id": "74d83183",
   "metadata": {
    "vscode": {
     "languageId": "shellscript"
    }
   },
   "outputs": [
    {
     "name": "stdout",
     "output_type": "stream",
     "text": [
      "   ┏━━━━━┳━━━━━┳━━━━━┳━━━━━┓\n",
      "   ┃ v10 ┃ v20 ┃ v30 ┃ v40 ┃\n",
      "   ┡━━━━━╇━━━━━╇━━━━━╇━━━━━┩\n",
      "1. │  10 │  20 │  30 │  40 │\n",
      "   └─────┴─────┴─────┴─────┘\n",
      "   ┏━━━━━┳━━━━━┳━━━━━┳━━━━━┓\n",
      "   ┃ v10 ┃ v20 ┃ v30 ┃ v40 ┃\n",
      "   ┡━━━━━╇━━━━━╇━━━━━╇━━━━━┩\n",
      "1. │  10 │  20 │  30 │  40 │\n",
      "   └─────┴─────┴─────┴─────┘\n"
     ]
    }
   ],
   "source": [
    "docker exec intro_example_click clickhouse-client -q \"\n",
    "SELECT 10 v10, 20 v20, 30 v30, 40 v40 FORMAT Pretty;\n",
    "SELECT 10 v10, 20 v20, 30 v30, 40 v40 FORMAT Pretty;\n",
    "\""
   ]
  },
  {
   "cell_type": "markdown",
   "id": "e7bb9308-313d-4072-9176-50400eac5b10",
   "metadata": {},
   "source": [
    "## Initialisation scripts\n",
    "\n",
    "If you need to organise the initialisation at container startup, you can mount a folder containing `*.sql` and `*.sh` initialisation scripts on `/docker-entrypoint-initdb.d`. This will execute the files in `/docker-entrypoint-initdb.d`."
   ]
  },
  {
   "cell_type": "markdown",
   "id": "5caef41b",
   "metadata": {},
   "source": [
    "---\n",
    "\n",
    "In the following example, I start the docker container with the folder mounted as `/docker-entrypoint-initdb.d`. This folder only contains a [create_table.sql](build_container/initialisation_scripts/create_table.sql) which creates an empty `main_table`. Then I check the existence of the table that should be created by \n",
    "`create_table.sql`."
   ]
  },
  {
   "cell_type": "code",
   "execution_count": 1,
   "id": "690de370-1bb8-44d4-b2df-f79d503b3ea5",
   "metadata": {
    "vscode": {
     "languageId": "shellscript"
    }
   },
   "outputs": [
    {
     "name": "stdout",
     "output_type": "stream",
     "text": [
      "=====CHECK TABLE=====\n",
      "           List of relations\n",
      " Schema |    Name    | Type  |  Owner   \n",
      "--------+------------+-------+----------\n",
      " public | main_table | table | postgres\n",
      "(1 row)\n",
      "\n"
     ]
    }
   ],
   "source": [
    "docker run --rm -d\\\n",
    "    -v ./build_container/initialisation_scripts:/docker-entrypoint-initdb.d\\\n",
    "    -e POSTGRES_PASSWORD=docker_app \\\n",
    "    --name init_scripts_example \\\n",
    "    postgres:15.4 &> /dev/null\n",
    "\n",
    "sleep 5\n",
    "echo \"=====CHECK TABLE=====\"\n",
    "docker exec init_scripts_example bash -c \"psql -U postgres -d postgres -c \\\"\\dt\\\"\"\n",
    "\n",
    "docker stop  init_scripts_example &> /dev/null"
   ]
  }
 ],
 "metadata": {
  "kernelspec": {
   "display_name": "Bash",
   "language": "bash",
   "name": "bash"
  },
  "language_info": {
   "codemirror_mode": "shell",
   "file_extension": ".sh",
   "mimetype": "text/x-sh",
   "name": "bash"
  }
 },
 "nbformat": 4,
 "nbformat_minor": 5
}
