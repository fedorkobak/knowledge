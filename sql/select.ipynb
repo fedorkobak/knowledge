{
 "cells": [
  {
   "cell_type": "markdown",
   "metadata": {},
   "source": [
    "# Select\n",
    "\n",
    "Selecting data is the most important aspect of SQL for database users. This page provides an overview of different statements that can be used in the `SELECT` expression."
   ]
  },
  {
   "cell_type": "markdown",
   "metadata": {},
   "source": [
    "We'll use PostgreSQL as the standard; other databases will be considered in specific sections."
   ]
  },
  {
   "cell_type": "code",
   "execution_count": 1,
   "metadata": {
    "vscode": {
     "languageId": "shellscript"
    }
   },
   "outputs": [],
   "source": [
    "docker run -d --rm\\\n",
    "    --name select_examples\\\n",
    "    -e POSTGRES_PASSWORD=postgres\\\n",
    "    postgres:15.4 &> /dev/null\n",
    "sleep 5"
   ]
  },
  {
   "cell_type": "markdown",
   "metadata": {},
   "source": [
    "**Note**: Don't forget to stop the container when finished."
   ]
  },
  {
   "cell_type": "code",
   "execution_count": 10,
   "metadata": {
    "vscode": {
     "languageId": "shellscript"
    }
   },
   "outputs": [
    {
     "name": "stdout",
     "output_type": "stream",
     "text": [
      "select_examples\n"
     ]
    }
   ],
   "source": [
    "docker stop select_examples"
   ]
  },
  {
   "cell_type": "markdown",
   "metadata": {},
   "source": [
    "## Statements order\n",
    "\n",
    "You must remember that SQL statements are executed in a specific order. The following picture shows the order of basic sql statements.\n",
    "\n",
    "![order](select_files/order_picture.png)\n",
    "\n",
    "Origin of the image is [this page](https://www.kdnuggets.com/the-essential-guide-to-sql-execution-order)."
   ]
  },
  {
   "cell_type": "markdown",
   "metadata": {},
   "source": [
    "## Sorting (ORDER BY)\n",
    "\n",
    "Result of the query can be sorted using syntax `ORDER BY <columns> (DESC)`. Find out more in the [special page](select/sorting.ipynb)."
   ]
  },
  {
   "cell_type": "markdown",
   "metadata": {},
   "source": [
    "---\n",
    "\n",
    "The following cell demonstrates an example where the query uses `ORDER BY numeric_value`, ensuring that the entire table follows this order."
   ]
  },
  {
   "cell_type": "code",
   "execution_count": 3,
   "metadata": {
    "vscode": {
     "languageId": "shellscript"
    }
   },
   "outputs": [
    {
     "name": "stdout",
     "output_type": "stream",
     "text": [
      " numeric_value | symbol \n",
      "---------------+--------\n",
      "             1 | c\n",
      "             4 | d\n",
      "             4 | e\n",
      "             5 | b\n",
      "             5 | f\n",
      "             7 | a\n",
      "(6 rows)\n",
      "\n"
     ]
    }
   ],
   "source": [
    "docker exec -i select_examples psql -U postgres -d postgres << EOF\n",
    "SELECT *\n",
    "FROM (\n",
    "    VALUES (7, 'a'), (5, 'b'), (1, 'c'), (4, 'd'), (4, 'e'), (5, 'f')\n",
    ") AS temp(numeric_value, symbol)\n",
    "ORDER BY numeric_value;\n",
    "EOF"
   ]
  },
  {
   "cell_type": "markdown",
   "metadata": {},
   "source": [
    "## IS (NOT) NULL\n",
    "\n",
    "You can check if value (not) taking NULL value using following suntax `<value> IS (NOT) NULL`."
   ]
  },
  {
   "cell_type": "markdown",
   "metadata": {},
   "source": [
    "---\n",
    "\n",
    "The following example shows the original column and the application of `IS NULL` and `IS NOT NULL` to it."
   ]
  },
  {
   "cell_type": "code",
   "execution_count": 15,
   "metadata": {
    "vscode": {
     "languageId": "shellscript"
    }
   },
   "outputs": [
    {
     "name": "stdout",
     "output_type": "stream",
     "text": [
      " numeric_value | is_null | is_not_null \n",
      "---------------+---------+-------------\n",
      "               | t       | f\n",
      "             1 | f       | t\n",
      "             2 | f       | t\n",
      "               | t       | f\n",
      "             4 | f       | t\n",
      "             5 | f       | t\n",
      "(6 rows)\n",
      "\n"
     ]
    }
   ],
   "source": [
    "docker exec -i select_examples psql -U postgres -d postgres << EOF\n",
    "SELECT\n",
    "    numeric_value,\n",
    "    numeric_value IS NULL is_null,\n",
    "    numeric_value IS NOT NULL is_not_null\n",
    "FROM (\n",
    "    VALUES (NULL), (1), (2), (NULL), (4), (5)\n",
    ") AS temp(numeric_value);\n",
    "EOF"
   ]
  },
  {
   "cell_type": "markdown",
   "metadata": {},
   "source": [
    "## Conditional (CASE)\n",
    "\n",
    "With the `CASE` keyword, you can assign specified values to logical conditions. Find out more in the [specific page](select/conditional.ipynb)."
   ]
  },
  {
   "cell_type": "markdown",
   "metadata": {},
   "source": [
    "---\n",
    "\n",
    "The following cell shows how you can assign a string that describes the value originally in the column."
   ]
  },
  {
   "cell_type": "code",
   "execution_count": 9,
   "metadata": {
    "vscode": {
     "languageId": "shellscript"
    }
   },
   "outputs": [
    {
     "name": "stdout",
     "output_type": "stream",
     "text": [
      " numeric_value |          case           \n",
      "---------------+-------------------------\n",
      "             0 | less than two\n",
      "             1 | less than two\n",
      "             2 | more or equals than two\n",
      "             3 | more or equals than two\n",
      "             4 | more or equals than two\n",
      "             5 | more or equals than two\n",
      "(6 rows)\n",
      "\n"
     ]
    }
   ],
   "source": [
    "docker exec -i select_examples psql -U postgres -d postgres << EOF\n",
    "SELECT\n",
    "    numeric_value,\n",
    "    CASE\n",
    "        WHEN numeric_value<2 THEN 'less than two'\n",
    "        ELSE 'more or equals than two'\n",
    "    END\n",
    "FROM (\n",
    "    VALUES (0), (1), (2), (3), (4), (5)\n",
    ") AS temp(numeric_value);\n",
    "EOF"
   ]
  },
  {
   "cell_type": "markdown",
   "metadata": {},
   "source": [
    "## Empty values\n",
    "\n",
    "Dealing with empty values is a typical task when working with databases. Find out more in a [specific page](select/empty_values.ipynb)."
   ]
  },
  {
   "cell_type": "markdown",
   "metadata": {},
   "source": [
    "## Array expanding\n",
    "\n",
    "If you have columns of arrays and need to create a separate record for each value in the array, you may need operations to unnest the arrays. Find out more in [particular page](select/expand_array.ipynb)."
   ]
  },
  {
   "cell_type": "markdown",
   "metadata": {},
   "source": [
    "---\n",
    "\n",
    "The following cell demonstrates the result of applying the `unnest` function to a column containing arrays. Each array is expanded so that each element is represented in a separate record, duplicating the other columns' values accordingly."
   ]
  },
  {
   "cell_type": "code",
   "execution_count": 2,
   "metadata": {},
   "outputs": [
    {
     "name": "stdout",
     "output_type": "stream",
     "text": [
      " col1 | unnestted_value \n",
      "------+-----------------\n",
      "   10 |               1\n",
      "   10 |               2\n",
      "   10 |               3\n",
      "    7 |               3\n",
      "    7 |               4\n",
      "    7 |               1\n",
      "(6 rows)\n",
      "\n"
     ]
    }
   ],
   "source": [
    "docker exec -i select_examples psql -U postgres << EOF\n",
    "\n",
    "SELECT \n",
    "    col1, \n",
    "    unnest(col2) AS unnestted_value\n",
    "FROM (\n",
    "    VALUES\n",
    "    (10, '{1,2,3}'::int[]),\n",
    "    (7, '{3,4,1}'::int[])\n",
    ") AS temp(col1, col2);\n",
    "\n",
    "EOF"
   ]
  }
 ],
 "metadata": {
  "kernelspec": {
   "display_name": "Bash",
   "language": "bash",
   "name": "bash"
  },
  "language_info": {
   "codemirror_mode": "shell",
   "file_extension": ".sh",
   "mimetype": "text/x-sh",
   "name": "bash"
  }
 },
 "nbformat": 4,
 "nbformat_minor": 4
}
