{
 "cells": [
  {
   "cell_type": "markdown",
   "metadata": {},
   "source": [
    "# Select\n",
    "\n",
    "Selecting data is the most important aspect of SQL for database users. This page provides an overview of different statements that can be used in the `SELECT` expression."
   ]
  },
  {
   "cell_type": "code",
   "execution_count": 8,
   "metadata": {
    "vscode": {
     "languageId": "shellscript"
    }
   },
   "outputs": [],
   "source": [
    "docker run -d --rm\\\n",
    "    --name select_examples\\\n",
    "    -e POSTGRES_PASSWORD=postgres\\\n",
    "    postgres:15.4 &> /dev/null\n",
    "sleep 5"
   ]
  },
  {
   "cell_type": "markdown",
   "metadata": {},
   "source": [
    "**Note**: Don't forget to stop the container when finished."
   ]
  },
  {
   "cell_type": "code",
   "execution_count": 10,
   "metadata": {
    "vscode": {
     "languageId": "shellscript"
    }
   },
   "outputs": [
    {
     "name": "stdout",
     "output_type": "stream",
     "text": [
      "select_examples\n"
     ]
    }
   ],
   "source": [
    "docker stop select_examples"
   ]
  },
  {
   "cell_type": "markdown",
   "metadata": {},
   "source": [
    "## Conditional (CASE)\n",
    "\n",
    "With the `CASE` keyword, you can assign specified values to logical conditions. Find out more in the [specific page](select/conditional.ipynb)."
   ]
  },
  {
   "cell_type": "markdown",
   "metadata": {},
   "source": [
    "---\n",
    "\n",
    "The following cell shows how you can assign a string that describes the value originally in the column."
   ]
  },
  {
   "cell_type": "code",
   "execution_count": 9,
   "metadata": {
    "vscode": {
     "languageId": "shellscript"
    }
   },
   "outputs": [
    {
     "name": "stdout",
     "output_type": "stream",
     "text": [
      " numeric_value |          case           \n",
      "---------------+-------------------------\n",
      "             0 | less than two\n",
      "             1 | less than two\n",
      "             2 | more or equals than two\n",
      "             3 | more or equals than two\n",
      "             4 | more or equals than two\n",
      "             5 | more or equals than two\n",
      "(6 rows)\n",
      "\n"
     ]
    }
   ],
   "source": [
    "docker exec -i select_examples psql -U postgres -d postgres << EOF\n",
    "SELECT\n",
    "    numeric_value,\n",
    "    CASE\n",
    "        WHEN numeric_value<2 THEN 'less than two'\n",
    "        ELSE 'more or equals than two'\n",
    "    END\n",
    "FROM (\n",
    "    VALUES (0), (1), (2), (3), (4), (5)\n",
    ") AS temp(numeric_value);\n",
    "EOF"
   ]
  }
 ],
 "metadata": {
  "kernelspec": {
   "display_name": "Bash",
   "language": "bash",
   "name": "bash"
  },
  "language_info": {
   "codemirror_mode": "shell",
   "file_extension": ".sh",
   "mimetype": "text/x-sh",
   "name": "bash"
  }
 },
 "nbformat": 4,
 "nbformat_minor": 2
}
