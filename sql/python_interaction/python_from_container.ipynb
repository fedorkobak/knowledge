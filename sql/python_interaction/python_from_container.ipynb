{
 "cells": [
  {
   "cell_type": "markdown",
   "id": "5ff5c476-fdd1-480f-8bee-441ca93b612f",
   "metadata": {},
   "source": [
    "# Python from container\n",
    "\n",
    "For me it's common task to build interaption with container which handle python program.\n",
    "\n",
    "So in this section I want to show you how to build such an interaction."
   ]
  },
  {
   "cell_type": "markdown",
   "id": "da8caf9f-27cb-414f-ba69-78d12b393899",
   "metadata": {},
   "source": [
    "## Python image\n",
    "\n",
    "You need to create a Python image. The following cell describes the docker file that's used to create the image."
   ]
  },
  {
   "cell_type": "code",
   "execution_count": 1,
   "id": "b27db3b3-c9ed-46a0-841b-4f908de18ec3",
   "metadata": {},
   "outputs": [
    {
     "name": "stdout",
     "output_type": "stream",
     "text": [
      "Overwriting python_container/dockerfile\n"
     ]
    }
   ],
   "source": [
    "%%writefile python_container/dockerfile\n",
    "FROM python:3.11.4\n",
    "WORKDIR program\n",
    "COPY script.py script.py\n",
    "COPY requirements.txt requirements.txt\n",
    "RUN pip3 install -r requirements.txt"
   ]
  },
  {
   "cell_type": "markdown",
   "id": "563b58d2-78d1-4a4a-90fd-9d0a1a93b9e8",
   "metadata": {},
   "source": [
    "The next cell describes the `requirements.txt` we'll need for this container."
   ]
  },
  {
   "cell_type": "code",
   "execution_count": 2,
   "id": "385fbddf-edb0-499d-a8f7-f9a08a9cc2ec",
   "metadata": {},
   "outputs": [
    {
     "name": "stdout",
     "output_type": "stream",
     "text": [
      "Overwriting python_container/requirements.txt\n"
     ]
    }
   ],
   "source": [
    "%%writefile python_container/requirements.txt\n",
    "numpy==1.24.2\n",
    "psycopg2-binary==2.9.6"
   ]
  },
  {
   "cell_type": "markdown",
   "id": "1447197e",
   "metadata": {},
   "source": [
    "And python script that will be used for this example. This script just pushes some data to the postgres database that is accessible in `pg_example_postgres_cont` hostname."
   ]
  },
  {
   "cell_type": "code",
   "execution_count": 3,
   "id": "310ce075",
   "metadata": {},
   "outputs": [
    {
     "name": "stdout",
     "output_type": "stream",
     "text": [
      "Overwriting python_container/script.py\n"
     ]
    }
   ],
   "source": [
    "%%writefile python_container/script.py\n",
    "import psycopg2\n",
    "import random\n",
    "import string\n",
    "\n",
    "# establish connection with database\n",
    "conn = psycopg2.connect(\n",
    "    dbname = \"docker_app_db\",\n",
    "    user = \"docker_app\",\n",
    "    password = \"docker_app\",\n",
    "    # interesting that host name match\n",
    "    # with the container name\n",
    "    # where database deployed\n",
    "    host = \"pg_example_postgres_cont\"\n",
    ")\n",
    "\n",
    "# add 20 random values to the database\n",
    "cur = conn.cursor()\n",
    "for i in range(20):\n",
    "    text = ''.join(random.choices(string.ascii_lowercase, k=20))\n",
    "    query = f\"INSERT INTO main_table (id, text) VALUES ('{i}', '{text}');\"\n",
    "    cur.execute(query)\n",
    "cur.close()\n",
    "\n",
    "print(\"Adding records is done!\")\n",
    "\n",
    "# commit changes and close the connection\n",
    "conn.commit()\n",
    "conn.close()"
   ]
  },
  {
   "cell_type": "markdown",
   "id": "87671448-23b4-43ad-aef1-009a79018bef",
   "metadata": {},
   "source": [
    "Finally, we build the image."
   ]
  },
  {
   "cell_type": "code",
   "execution_count": 4,
   "id": "9b07bf90-977e-4fad-b11a-f9a0ef49276e",
   "metadata": {},
   "outputs": [],
   "source": [
    "%%bash\n",
    "docker build -t pg_example_python python_container &> /dev/null"
   ]
  },
  {
   "cell_type": "markdown",
   "id": "a98a93a5-6a4f-4ded-bfa1-bc325300562f",
   "metadata": {},
   "source": [
    "## Start containers"
   ]
  },
  {
   "cell_type": "markdown",
   "id": "ae5bea4a-acb8-4750-a3d4-9812ff7c07aa",
   "metadata": {},
   "source": [
    "We need to create at least one table in our postgres database. So in the following cell we store the script that will be used to initialise the database."
   ]
  },
  {
   "cell_type": "code",
   "execution_count": 5,
   "id": "c27c1888-f813-4d79-8b82-267cb1d703a8",
   "metadata": {},
   "outputs": [
    {
     "name": "stdout",
     "output_type": "stream",
     "text": [
      "Overwriting python_container/create_table.sql\n"
     ]
    }
   ],
   "source": [
    "%%writefile python_container/create_table.sql\n",
    "CREATE TABLE main_table(\n",
    "    id TEXT NOT NULL,\n",
    "    text TEXT NOT NULL\n",
    ");"
   ]
  },
  {
   "cell_type": "markdown",
   "id": "54004343-f8f7-49fa-8f12-13245e742a28",
   "metadata": {},
   "source": [
    "Next, start the `python` and `postgres` containers.\n",
    "\n",
    "You should share the same net between containers, in the following example which is completed by `test_project_net`."
   ]
  },
  {
   "cell_type": "code",
   "execution_count": 7,
   "id": "af1442a3-1d67-4b2c-a8e8-90b1ecb96cdc",
   "metadata": {},
   "outputs": [],
   "source": [
    "%%bash\n",
    "# network\n",
    "docker network create test_project_net &> /dev/null\n",
    "# postgres\n",
    "docker run --rm -d\\\n",
    "    --name pg_example_postgres_cont\\\n",
    "    -e POSTGRES_USER=docker_app\\\n",
    "    -e POSTGRES_PASSWORD=docker_app\\\n",
    "    -e POSTGRES_DB=docker_app_db\\\n",
    "    --net=test_project_net\\\n",
    "    -v ./python_container/create_table.sql:/docker-entrypoint-initdb.d/create_table.sql\\\n",
    "    postgres:15.4 &> /dev/null\n",
    "# python\n",
    "docker run --rm -itd\\\n",
    "    --name pg_example_python_cont\\\n",
    "    --net=test_project_net\\\n",
    "    pg_example_python &> /dev/null"
   ]
  },
  {
   "cell_type": "markdown",
   "id": "5296a36f-cee9-441b-8c2c-d38348ea1bae",
   "metadata": {},
   "source": [
    "## Executing python\n",
    "\n",
    "In the next cell, we run the Python script in the Python container. The script simply adds some random values to the `main_table` from the **ohter container**. The message \"Adding records is done!\" indicates that the Python program was executed normally."
   ]
  },
  {
   "cell_type": "code",
   "execution_count": 10,
   "id": "cde9f8f0-717f-41a0-a7f7-9d10a599b872",
   "metadata": {},
   "outputs": [
    {
     "name": "stderr",
     "output_type": "stream",
     "text": [
      "Traceback (most recent call last):\n",
      "  File \"/program/script.py\", line 6, in <module>\n",
      "    conn = psycopg2.connect(\n",
      "           ^^^^^^^^^^^^^^^^^\n",
      "  File \"/usr/local/lib/python3.11/site-packages/psycopg2/__init__.py\", line 122, in connect\n",
      "    conn = _connect(dsn, connection_factory=connection_factory, **kwasync)\n",
      "           ^^^^^^^^^^^^^^^^^^^^^^^^^^^^^^^^^^^^^^^^^^^^^^^^^^^^^^^^^^^^^^^\n",
      "psycopg2.OperationalError: could not translate host name \"pg_example_postgres_cont\" to address: Name or service not known\n",
      "\n"
     ]
    },
    {
     "ename": "CalledProcessError",
     "evalue": "Command 'b'docker exec pg_example_python_cont bash -c \"python3 script.py\"\\n'' returned non-zero exit status 1.",
     "output_type": "error",
     "traceback": [
      "\u001b[0;31m---------------------------------------------------------------------------\u001b[0m",
      "\u001b[0;31mCalledProcessError\u001b[0m                        Traceback (most recent call last)",
      "Cell \u001b[0;32mIn[10], line 1\u001b[0m\n\u001b[0;32m----> 1\u001b[0m \u001b[43mget_ipython\u001b[49m\u001b[43m(\u001b[49m\u001b[43m)\u001b[49m\u001b[38;5;241;43m.\u001b[39;49m\u001b[43mrun_cell_magic\u001b[49m\u001b[43m(\u001b[49m\u001b[38;5;124;43m'\u001b[39;49m\u001b[38;5;124;43mbash\u001b[39;49m\u001b[38;5;124;43m'\u001b[39;49m\u001b[43m,\u001b[49m\u001b[43m \u001b[49m\u001b[38;5;124;43m'\u001b[39;49m\u001b[38;5;124;43m'\u001b[39;49m\u001b[43m,\u001b[49m\u001b[43m \u001b[49m\u001b[38;5;124;43m'\u001b[39;49m\u001b[38;5;124;43mdocker exec pg_example_python_cont bash -c \u001b[39;49m\u001b[38;5;124;43m\"\u001b[39;49m\u001b[38;5;124;43mpython3 script.py\u001b[39;49m\u001b[38;5;124;43m\"\u001b[39;49m\u001b[38;5;130;43;01m\\n\u001b[39;49;00m\u001b[38;5;124;43m'\u001b[39;49m\u001b[43m)\u001b[49m\n",
      "File \u001b[0;32m~/.local/lib/python3.10/site-packages/IPython/core/interactiveshell.py:2541\u001b[0m, in \u001b[0;36mInteractiveShell.run_cell_magic\u001b[0;34m(self, magic_name, line, cell)\u001b[0m\n\u001b[1;32m   2539\u001b[0m \u001b[38;5;28;01mwith\u001b[39;00m \u001b[38;5;28mself\u001b[39m\u001b[38;5;241m.\u001b[39mbuiltin_trap:\n\u001b[1;32m   2540\u001b[0m     args \u001b[38;5;241m=\u001b[39m (magic_arg_s, cell)\n\u001b[0;32m-> 2541\u001b[0m     result \u001b[38;5;241m=\u001b[39m \u001b[43mfn\u001b[49m\u001b[43m(\u001b[49m\u001b[38;5;241;43m*\u001b[39;49m\u001b[43margs\u001b[49m\u001b[43m,\u001b[49m\u001b[43m \u001b[49m\u001b[38;5;241;43m*\u001b[39;49m\u001b[38;5;241;43m*\u001b[39;49m\u001b[43mkwargs\u001b[49m\u001b[43m)\u001b[49m\n\u001b[1;32m   2543\u001b[0m \u001b[38;5;66;03m# The code below prevents the output from being displayed\u001b[39;00m\n\u001b[1;32m   2544\u001b[0m \u001b[38;5;66;03m# when using magics with decorator @output_can_be_silenced\u001b[39;00m\n\u001b[1;32m   2545\u001b[0m \u001b[38;5;66;03m# when the last Python token in the expression is a ';'.\u001b[39;00m\n\u001b[1;32m   2546\u001b[0m \u001b[38;5;28;01mif\u001b[39;00m \u001b[38;5;28mgetattr\u001b[39m(fn, magic\u001b[38;5;241m.\u001b[39mMAGIC_OUTPUT_CAN_BE_SILENCED, \u001b[38;5;28;01mFalse\u001b[39;00m):\n",
      "File \u001b[0;32m~/.local/lib/python3.10/site-packages/IPython/core/magics/script.py:155\u001b[0m, in \u001b[0;36mScriptMagics._make_script_magic.<locals>.named_script_magic\u001b[0;34m(line, cell)\u001b[0m\n\u001b[1;32m    153\u001b[0m \u001b[38;5;28;01melse\u001b[39;00m:\n\u001b[1;32m    154\u001b[0m     line \u001b[38;5;241m=\u001b[39m script\n\u001b[0;32m--> 155\u001b[0m \u001b[38;5;28;01mreturn\u001b[39;00m \u001b[38;5;28;43mself\u001b[39;49m\u001b[38;5;241;43m.\u001b[39;49m\u001b[43mshebang\u001b[49m\u001b[43m(\u001b[49m\u001b[43mline\u001b[49m\u001b[43m,\u001b[49m\u001b[43m \u001b[49m\u001b[43mcell\u001b[49m\u001b[43m)\u001b[49m\n",
      "File \u001b[0;32m~/.local/lib/python3.10/site-packages/IPython/core/magics/script.py:315\u001b[0m, in \u001b[0;36mScriptMagics.shebang\u001b[0;34m(self, line, cell)\u001b[0m\n\u001b[1;32m    310\u001b[0m \u001b[38;5;28;01mif\u001b[39;00m args\u001b[38;5;241m.\u001b[39mraise_error \u001b[38;5;129;01mand\u001b[39;00m p\u001b[38;5;241m.\u001b[39mreturncode \u001b[38;5;241m!=\u001b[39m \u001b[38;5;241m0\u001b[39m:\n\u001b[1;32m    311\u001b[0m     \u001b[38;5;66;03m# If we get here and p.returncode is still None, we must have\u001b[39;00m\n\u001b[1;32m    312\u001b[0m     \u001b[38;5;66;03m# killed it but not yet seen its return code. We don't wait for it,\u001b[39;00m\n\u001b[1;32m    313\u001b[0m     \u001b[38;5;66;03m# in case it's stuck in uninterruptible sleep. -9 = SIGKILL\u001b[39;00m\n\u001b[1;32m    314\u001b[0m     rc \u001b[38;5;241m=\u001b[39m p\u001b[38;5;241m.\u001b[39mreturncode \u001b[38;5;129;01mor\u001b[39;00m \u001b[38;5;241m-\u001b[39m\u001b[38;5;241m9\u001b[39m\n\u001b[0;32m--> 315\u001b[0m     \u001b[38;5;28;01mraise\u001b[39;00m CalledProcessError(rc, cell)\n",
      "\u001b[0;31mCalledProcessError\u001b[0m: Command 'b'docker exec pg_example_python_cont bash -c \"python3 script.py\"\\n'' returned non-zero exit status 1."
     ]
    }
   ],
   "source": [
    "%%bash\n",
    "docker exec pg_example_python_cont bash -c \"python3 script.py\""
   ]
  },
  {
   "cell_type": "markdown",
   "id": "c08f1fa7-fe18-4834-a3f1-3a69241d3142",
   "metadata": {},
   "source": [
    "## Check the table\n",
    "\n",
    "So now, to make sure we have done everything right, let us select values from the created table."
   ]
  },
  {
   "cell_type": "code",
   "execution_count": 9,
   "id": "6c5041cc-aec4-432a-9c3b-89e9b009f73f",
   "metadata": {},
   "outputs": [
    {
     "name": "stdout",
     "output_type": "stream",
     "text": [
      " id |         text         \n",
      "----+----------------------\n",
      " 0  | rqvuxekgkwobqctvgfsz\n",
      " 1  | zpbrrfefdkfbcunrxnpk\n",
      " 2  | rxsecyqguuhnxtiddueq\n",
      " 3  | zeridnjmynyknojmkxqr\n",
      " 4  | alakdgrejtcrcdoxucke\n",
      " 5  | ripjvnhaaenmjhrzxhbr\n",
      " 6  | boletdlslgzhdtdyvzqn\n",
      " 7  | wiwnxkcxklzhkcfvyyts\n",
      " 8  | iyauynyiydhjzhzezpbq\n",
      " 9  | efjzmmsbbruahfkgxsis\n",
      " 10 | dzcxwyegdgxapfhqpriv\n",
      " 11 | qimodrjdapolrrueudpy\n",
      " 12 | xfsgzrcqakqqwuxzmmng\n",
      " 13 | aisftlhcttaaqkqqdbnu\n",
      " 14 | yksucssahmtlzlvickif\n",
      " 15 | afuoyhmdkqvuxervppij\n",
      " 16 | hczriyvmbsfewdwznqgy\n",
      " 17 | pziidxiicxqdirbnmcom\n",
      " 18 | lzlufczgjgluhzzypzzu\n",
      " 19 | cwiqqnhfcyajqtljdiep\n",
      "(20 rows)\n",
      "\n"
     ]
    }
   ],
   "source": [
    "%%bash\n",
    "docker exec pg_example_postgres_cont bash -c \\\n",
    "\"psql -U docker_app -d docker_app_db -c \\\"SELECT * FROM main_table;\\\"\""
   ]
  },
  {
   "cell_type": "markdown",
   "id": "d8f68a35-51a8-485a-a30f-afc5027c6459",
   "metadata": {},
   "source": [
    "## Stop containers"
   ]
  },
  {
   "cell_type": "code",
   "execution_count": 10,
   "id": "69705be0-9294-4b83-b83a-f8f701aee1f6",
   "metadata": {},
   "outputs": [],
   "source": [
    "%%bash\n",
    "docker stop pg_example_postgres_cont pg_example_python_cont &> /dev/null\n",
    "docker network rm test_project_net &> /dev/null"
   ]
  },
  {
   "cell_type": "markdown",
   "id": "d61d1a06-508c-4e55-a676-0d9a4f93723d",
   "metadata": {},
   "source": [
    "## Clear python image\n",
    "\n",
    "To avoid creating a lot of rubbish in docker images, you should delete the container created for this example."
   ]
  },
  {
   "cell_type": "code",
   "execution_count": 11,
   "id": "4d7cee0d-91e1-4d93-b322-64dbee1ed25a",
   "metadata": {},
   "outputs": [],
   "source": [
    "%%bash\n",
    "docker rmi pg_example_python &> /dev/null"
   ]
  }
 ],
 "metadata": {
  "kernelspec": {
   "display_name": "Python 3 (ipykernel)",
   "language": "python",
   "name": "python3"
  },
  "language_info": {
   "codemirror_mode": {
    "name": "ipython",
    "version": 3
   },
   "file_extension": ".py",
   "mimetype": "text/x-python",
   "name": "python",
   "nbconvert_exporter": "python",
   "pygments_lexer": "ipython3",
   "version": "3.10.12"
  }
 },
 "nbformat": 4,
 "nbformat_minor": 5
}
