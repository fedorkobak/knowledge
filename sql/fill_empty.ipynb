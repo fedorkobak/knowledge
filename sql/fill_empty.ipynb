{
 "cells": [
  {
   "cell_type": "markdown",
   "id": "a94df266-cc99-42a9-aa1c-c908b9caa3b9",
   "metadata": {},
   "source": [
    "# Fill empty\n",
    "\n",
    "Sometimes tables contain empty values. But in some cases it's convenient to replace such values with a specific value. So in this section I'll show you some features of databases that can help you to do this."
   ]
  },
  {
   "cell_type": "code",
   "execution_count": 13,
   "id": "b0ea5468-6b1a-4d8e-8353-c38c830e5c49",
   "metadata": {},
   "outputs": [
    {
     "name": "stdout",
     "output_type": "stream",
     "text": [
      "CREATE TABLE\n",
      "INSERT 0 3\n"
     ]
    }
   ],
   "source": [
    "%%bash\n",
    "docker run --rm -d\\\n",
    "    -e POSTGRES_PASSWORD=postgres \\\n",
    "    --name fill_empty \\\n",
    "    postgres:15.4 &> /dev/null\n",
    "sleep 5\n",
    "docker exec -i fill_empty psql -U postgres -d postgres\n",
    "\n",
    "CREATE TABLE tab(\n",
    "    var1 TEXT,\n",
    "    var2 TEXT\n",
    ");\n",
    "INSERT INTO tab (var1, var2) VALUES\n",
    "(NULL, 'world'),\n",
    "('hello', NULL),\n",
    "(NULL, 'test line');"
   ]
  },
  {
   "cell_type": "code",
   "execution_count": null,
   "id": "131ba7f8-16cb-4b1e-b0af-6e309bc32ae0",
   "metadata": {},
   "outputs": [],
   "source": [
    "!docker stop fill_empty"
   ]
  },
  {
   "cell_type": "markdown",
   "id": "e4699acf-7293-44dc-9e58-d97aabedc7c9",
   "metadata": {},
   "source": [
    "## In query"
   ]
  },
  {
   "cell_type": "markdown",
   "id": "76624c6f-c9ed-4b8e-8c60-a4653dbae850",
   "metadata": {},
   "source": [
    "### Postgres (COALESCE)"
   ]
  },
  {
   "cell_type": "code",
   "execution_count": 14,
   "id": "12b05b57-4357-430e-a76c-2642fe239fa9",
   "metadata": {},
   "outputs": [
    {
     "name": "stdout",
     "output_type": "stream",
     "text": [
      " var1  |   var2    \n",
      "-------+-----------\n",
      "       | world\n",
      " hello | \n",
      "       | test line\n",
      "(3 rows)\n",
      "\n"
     ]
    }
   ],
   "source": [
    "%%bash\n",
    "docker exec -i fill_empty psql -U postgres -d postgres\n",
    "SELECT * FROM tab;"
   ]
  },
  {
   "cell_type": "code",
   "execution_count": 20,
   "id": "b6571e9c-1684-44c6-a024-d492457cc481",
   "metadata": {},
   "outputs": [
    {
     "name": "stdout",
     "output_type": "stream",
     "text": [
      "   var1   |   var2    \n",
      "----------+-----------\n",
      " NAN text | world\n",
      " hello    | NAN text\n",
      " NAN text | test line\n",
      "(3 rows)\n",
      "\n"
     ]
    }
   ],
   "source": [
    "%%bash\n",
    "docker exec -i fill_empty psql -U postgres -d postgres\n",
    "\n",
    "SELECT \n",
    "    COALESCE(var1, 'NAN text') var1,\n",
    "    COALESCE(var2, 'NAN text') var2\n",
    "FROM tab;"
   ]
  },
  {
   "cell_type": "markdown",
   "id": "d4237c8a-5d53-49c0-8e0c-d43b640dfddc",
   "metadata": {},
   "source": [
    "### Alternative (IFNULL)"
   ]
  },
  {
   "cell_type": "code",
   "execution_count": 25,
   "id": "2415136a-7a5b-4499-98a8-d3dabbfa61cb",
   "metadata": {},
   "outputs": [
    {
     "name": "stdout",
     "output_type": "stream",
     "text": [
      "NAN text\n",
      "hello\n",
      "NAN text\n"
     ]
    }
   ],
   "source": [
    "%%bash\n",
    "sqlite3\n",
    "\n",
    "CREATE TABLE tab(\n",
    "    var1 TEXT,\n",
    "    var2 TEXT\n",
    ");\n",
    "INSERT INTO tab (var1, var2) VALUES\n",
    "(NULL, 'world'),\n",
    "('hello', NULL),\n",
    "(NULL, 'test line');\n",
    "\n",
    "SELECT IFNULL(var1, 'NAN text') var1 FROM tab;"
   ]
  },
  {
   "cell_type": "markdown",
   "id": "61086da7-1bc0-4e10-a384-62696159fd86",
   "metadata": {},
   "source": [
    "## Change base"
   ]
  },
  {
   "cell_type": "code",
   "execution_count": 30,
   "id": "8274f8d0-ac08-40a5-9704-094969b9bf17",
   "metadata": {},
   "outputs": [
    {
     "name": "stdout",
     "output_type": "stream",
     "text": [
      "UPDATE 0\n"
     ]
    }
   ],
   "source": [
    "%%bash\n",
    "docker exec -i fill_empty psql -U postgres -d postgres\n",
    "\n",
    "UPDATE tab\n",
    "SET var1 = 'replaced'\n",
    "WHERE var1 IS NULL;"
   ]
  },
  {
   "cell_type": "code",
   "execution_count": 29,
   "id": "89731611-025a-4ed8-b024-26e91cb00efa",
   "metadata": {},
   "outputs": [
    {
     "name": "stdout",
     "output_type": "stream",
     "text": [
      "   var1   |   var2    \n",
      "----------+-----------\n",
      " hello    | \n",
      " replaced | world\n",
      " replaced | test line\n",
      "(3 rows)\n",
      "\n"
     ]
    }
   ],
   "source": [
    "%%bash\n",
    "docker exec -i fill_empty psql -U postgres -d postgres\n",
    "SELECT * FROM tab;"
   ]
  }
 ],
 "metadata": {
  "kernelspec": {
   "display_name": "Python 3 (ipykernel)",
   "language": "python",
   "name": "python3"
  },
  "language_info": {
   "codemirror_mode": {
    "name": "ipython",
    "version": 3
   },
   "file_extension": ".py",
   "mimetype": "text/x-python",
   "name": "python",
   "nbconvert_exporter": "python",
   "pygments_lexer": "ipython3",
   "version": "3.10.12"
  }
 },
 "nbformat": 4,
 "nbformat_minor": 5
}
