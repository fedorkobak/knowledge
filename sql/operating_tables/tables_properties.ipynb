{
 "cells": [
  {
   "cell_type": "markdown",
   "metadata": {},
   "source": [
    "# Tables properties\n",
    "\n",
    "In this section, I'll describe some common tasks associated with posgres and their solutions.\n",
    "\n",
    "The following cell creates all needed for examples in this page."
   ]
  },
  {
   "cell_type": "code",
   "execution_count": null,
   "metadata": {},
   "outputs": [
    {
     "name": "stdout",
     "output_type": "stream",
     "text": [
      "CREATE TABLE\n",
      "INSERT 0 3\n"
     ]
    }
   ],
   "source": [
    "%%bash\n",
    "docker run --rm -d\\\n",
    "    -e POSTGRES_PASSWORD=postgres \\\n",
    "    --name special_cases \\\n",
    "    postgres:15.4 &> /dev/null\n",
    "sleep 5\n",
    "docker exec -i special_cases psql -U postgres -d postgres\n",
    "\n",
    "CREATE TABLE simple_table(\n",
    "    id TEXT NOT NULL,\n",
    "    text TEXT NOT NULL\n",
    ");\n",
    "INSERT INTO simple_table (id, text) VALUES\n",
    "(0, 'Text1'),\n",
    "(1, 'tExT2'),\n",
    "(3, 'TEXT3');"
   ]
  },
  {
   "cell_type": "markdown",
   "metadata": {},
   "source": [
    "**The table to be used for the experiments.**"
   ]
  },
  {
   "cell_type": "code",
   "execution_count": null,
   "metadata": {},
   "outputs": [
    {
     "name": "stdout",
     "output_type": "stream",
     "text": [
      " id | text  \n",
      "----+-------\n",
      " 0  | Text1\n",
      " 1  | tExT2\n",
      " 3  | TEXT3\n",
      "(3 rows)\n",
      "\n"
     ]
    }
   ],
   "source": [
    "%%bash \n",
    "docker exec -i special_cases psql -U postgres -d postgres\n",
    "\n",
    "SELECT * FROM simple_table;"
   ]
  },
  {
   "cell_type": "markdown",
   "metadata": {},
   "source": [
    "**Stop container!** After playing with examples, you should turn it off with the following command."
   ]
  },
  {
   "cell_type": "code",
   "execution_count": null,
   "metadata": {},
   "outputs": [],
   "source": [
    "!docker stop special_cases &> /dev/null"
   ]
  },
  {
   "cell_type": "markdown",
   "metadata": {},
   "source": [
    "## Columns names\n",
    "\n",
    "To get names of all columns you should use `SELECT column_name FROM information_schema.columns WHERE table_name=`. Just like in following example:"
   ]
  },
  {
   "cell_type": "code",
   "execution_count": null,
   "metadata": {},
   "outputs": [
    {
     "name": "stdout",
     "output_type": "stream",
     "text": [
      " column_name \n",
      "-------------\n",
      " id\n",
      " text\n",
      "(2 rows)\n",
      "\n"
     ]
    }
   ],
   "source": [
    "%%bash \n",
    "docker exec -i special_cases psql -U postgres -d postgres\n",
    "\n",
    "SELECT column_name\n",
    "FROM information_schema.columns\n",
    "WHERE table_name = 'simple_table';"
   ]
  },
  {
   "cell_type": "markdown",
   "metadata": {},
   "source": [
    "## Count raws\n",
    "\n",
    "To get counts of observations in table you can use command: `SELECT COUNT(*) FROM <table_name>`."
   ]
  },
  {
   "cell_type": "code",
   "execution_count": null,
   "metadata": {},
   "outputs": [
    {
     "name": "stdout",
     "output_type": "stream",
     "text": [
      " count \n",
      "-------\n",
      "     3\n",
      "(1 row)\n",
      "\n"
     ]
    }
   ],
   "source": [
    "%%bash \n",
    "docker exec -i special_cases psql -U postgres -d postgres\n",
    "\n",
    "SELECT COUNT(*) FROM simple_table"
   ]
  },
  {
   "cell_type": "markdown",
   "metadata": {},
   "source": [
    "## List tables\n",
    "\n",
    "It's a common task to list all available tables for the current database. So in this section I want to mention some options."
   ]
  },
  {
   "cell_type": "markdown",
   "metadata": {},
   "source": [
    "### `\\dt`\n",
    "\n",
    "Very simple method, but it doesn't always work."
   ]
  },
  {
   "cell_type": "code",
   "execution_count": null,
   "metadata": {},
   "outputs": [
    {
     "name": "stdout",
     "output_type": "stream",
     "text": [
      "            List of relations\n",
      " Schema |     Name     | Type  |  Owner   \n",
      "--------+--------------+-------+----------\n",
      " public | simple_table | table | postgres\n",
      "(1 row)\n",
      "\n"
     ]
    }
   ],
   "source": [
    "%%bash \n",
    "docker exec -i special_cases psql -U postgres -d postgres\n",
    "\\dt;"
   ]
  },
  {
   "cell_type": "markdown",
   "metadata": {},
   "source": [
    "### pg_catalog.pg_tables table\n",
    "\n",
    "This is a service table that contains the tables available for this base. "
   ]
  },
  {
   "cell_type": "markdown",
   "metadata": {},
   "source": [
    "In the following example, I have simply selected everything from it. By default it contains some service tables."
   ]
  },
  {
   "cell_type": "code",
   "execution_count": null,
   "metadata": {},
   "outputs": [
    {
     "name": "stdout",
     "output_type": "stream",
     "text": [
      "     schemaname     |        tablename         | tableowner | tablespace | hasindexes | hasrules | hastriggers | rowsecurity \n",
      "--------------------+--------------------------+------------+------------+------------+----------+-------------+-------------\n",
      " public             | simple_table             | postgres   |            | f          | f        | f           | f\n",
      " pg_catalog         | pg_statistic             | postgres   |            | t          | f        | f           | f\n",
      " pg_catalog         | pg_type                  | postgres   |            | t          | f        | f           | f\n",
      " pg_catalog         | pg_foreign_table         | postgres   |            | t          | f        | f           | f\n",
      " pg_catalog         | pg_authid                | postgres   | pg_global  | t          | f        | f           | f\n",
      " pg_catalog         | pg_statistic_ext_data    | postgres   |            | t          | f        | f           | f\n",
      " pg_catalog         | pg_user_mapping          | postgres   |            | t          | f        | f           | f\n",
      " pg_catalog         | pg_subscription          | postgres   | pg_global  | t          | f        | f           | f\n",
      " pg_catalog         | pg_attribute             | postgres   |            | t          | f        | f           | f\n",
      " pg_catalog         | pg_proc                  | postgres   |            | t          | f        | f           | f\n",
      " pg_catalog         | pg_class                 | postgres   |            | t          | f        | f           | f\n",
      " pg_catalog         | pg_attrdef               | postgres   |            | t          | f        | f           | f\n",
      " pg_catalog         | pg_constraint            | postgres   |            | t          | f        | f           | f\n",
      " pg_catalog         | pg_inherits              | postgres   |            | t          | f        | f           | f\n",
      " pg_catalog         | pg_index                 | postgres   |            | t          | f        | f           | f\n",
      " pg_catalog         | pg_operator              | postgres   |            | t          | f        | f           | f\n",
      " pg_catalog         | pg_opfamily              | postgres   |            | t          | f        | f           | f\n",
      " pg_catalog         | pg_opclass               | postgres   |            | t          | f        | f           | f\n",
      " pg_catalog         | pg_am                    | postgres   |            | t          | f        | f           | f\n",
      " pg_catalog         | pg_amop                  | postgres   |            | t          | f        | f           | f\n",
      " pg_catalog         | pg_amproc                | postgres   |            | t          | f        | f           | f\n",
      " pg_catalog         | pg_language              | postgres   |            | t          | f        | f           | f\n",
      " pg_catalog         | pg_largeobject_metadata  | postgres   |            | t          | f        | f           | f\n",
      " pg_catalog         | pg_aggregate             | postgres   |            | t          | f        | f           | f\n",
      " pg_catalog         | pg_statistic_ext         | postgres   |            | t          | f        | f           | f\n",
      " pg_catalog         | pg_rewrite               | postgres   |            | t          | f        | f           | f\n",
      " pg_catalog         | pg_trigger               | postgres   |            | t          | f        | f           | f\n",
      " pg_catalog         | pg_event_trigger         | postgres   |            | t          | f        | f           | f\n",
      " pg_catalog         | pg_description           | postgres   |            | t          | f        | f           | f\n",
      " pg_catalog         | pg_cast                  | postgres   |            | t          | f        | f           | f\n",
      " pg_catalog         | pg_enum                  | postgres   |            | t          | f        | f           | f\n",
      " pg_catalog         | pg_namespace             | postgres   |            | t          | f        | f           | f\n",
      " pg_catalog         | pg_conversion            | postgres   |            | t          | f        | f           | f\n",
      " pg_catalog         | pg_depend                | postgres   |            | t          | f        | f           | f\n",
      " pg_catalog         | pg_database              | postgres   | pg_global  | t          | f        | f           | f\n",
      " pg_catalog         | pg_db_role_setting       | postgres   | pg_global  | t          | f        | f           | f\n",
      " pg_catalog         | pg_tablespace            | postgres   | pg_global  | t          | f        | f           | f\n",
      " pg_catalog         | pg_auth_members          | postgres   | pg_global  | t          | f        | f           | f\n",
      " pg_catalog         | pg_shdepend              | postgres   | pg_global  | t          | f        | f           | f\n",
      " pg_catalog         | pg_shdescription         | postgres   | pg_global  | t          | f        | f           | f\n",
      " pg_catalog         | pg_ts_config             | postgres   |            | t          | f        | f           | f\n",
      " pg_catalog         | pg_ts_config_map         | postgres   |            | t          | f        | f           | f\n",
      " pg_catalog         | pg_ts_dict               | postgres   |            | t          | f        | f           | f\n",
      " pg_catalog         | pg_ts_parser             | postgres   |            | t          | f        | f           | f\n",
      " pg_catalog         | pg_ts_template           | postgres   |            | t          | f        | f           | f\n",
      " pg_catalog         | pg_extension             | postgres   |            | t          | f        | f           | f\n",
      " pg_catalog         | pg_foreign_data_wrapper  | postgres   |            | t          | f        | f           | f\n",
      " pg_catalog         | pg_foreign_server        | postgres   |            | t          | f        | f           | f\n",
      " pg_catalog         | pg_policy                | postgres   |            | t          | f        | f           | f\n",
      " pg_catalog         | pg_replication_origin    | postgres   | pg_global  | t          | f        | f           | f\n",
      " pg_catalog         | pg_default_acl           | postgres   |            | t          | f        | f           | f\n",
      " pg_catalog         | pg_init_privs            | postgres   |            | t          | f        | f           | f\n",
      " pg_catalog         | pg_seclabel              | postgres   |            | t          | f        | f           | f\n",
      " pg_catalog         | pg_shseclabel            | postgres   | pg_global  | t          | f        | f           | f\n",
      " pg_catalog         | pg_collation             | postgres   |            | t          | f        | f           | f\n",
      " pg_catalog         | pg_parameter_acl         | postgres   | pg_global  | t          | f        | f           | f\n",
      " pg_catalog         | pg_partitioned_table     | postgres   |            | t          | f        | f           | f\n",
      " pg_catalog         | pg_range                 | postgres   |            | t          | f        | f           | f\n",
      " pg_catalog         | pg_transform             | postgres   |            | t          | f        | f           | f\n",
      " pg_catalog         | pg_sequence              | postgres   |            | t          | f        | f           | f\n",
      " pg_catalog         | pg_publication           | postgres   |            | t          | f        | f           | f\n",
      " pg_catalog         | pg_publication_namespace | postgres   |            | t          | f        | f           | f\n",
      " pg_catalog         | pg_publication_rel       | postgres   |            | t          | f        | f           | f\n",
      " pg_catalog         | pg_subscription_rel      | postgres   |            | t          | f        | f           | f\n",
      " pg_catalog         | pg_largeobject           | postgres   |            | t          | f        | f           | f\n",
      " information_schema | sql_features             | postgres   |            | f          | f        | f           | f\n",
      " information_schema | sql_implementation_info  | postgres   |            | f          | f        | f           | f\n",
      " information_schema | sql_parts                | postgres   |            | f          | f        | f           | f\n",
      " information_schema | sql_sizing               | postgres   |            | f          | f        | f           | f\n",
      "(69 rows)\n",
      "\n"
     ]
    }
   ],
   "source": [
    "%%bash \n",
    "docker exec -i special_cases psql -U postgres -d postgres\n",
    "SELECT * FROM pg_catalog.pg_tables;"
   ]
  },
  {
   "cell_type": "markdown",
   "metadata": {},
   "source": [
    "But we can impose restrictions, for example, on the `schemaname` column and get only those tables we are interested in."
   ]
  },
  {
   "cell_type": "code",
   "execution_count": null,
   "metadata": {},
   "outputs": [
    {
     "name": "stdout",
     "output_type": "stream",
     "text": [
      " schemaname |  tablename   | tableowner | tablespace | hasindexes | hasrules | hastriggers | rowsecurity \n",
      "------------+--------------+------------+------------+------------+----------+-------------+-------------\n",
      " public     | simple_table | postgres   |            | f          | f        | f           | f\n",
      "(1 row)\n",
      "\n"
     ]
    }
   ],
   "source": [
    "%%bash \n",
    "docker exec -i special_cases psql -U postgres -d postgres\n",
    "SELECT * FROM pg_catalog.pg_tables WHERE schemaname='public';"
   ]
  }
 ],
 "metadata": {
  "language_info": {
   "name": "python"
  }
 },
 "nbformat": 4,
 "nbformat_minor": 2
}
