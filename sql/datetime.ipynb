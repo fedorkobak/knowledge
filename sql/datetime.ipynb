{
 "cells": [
  {
   "cell_type": "markdown",
   "metadata": {},
   "source": [
    "# Date and time\n",
    "\n",
    "Working with dates and times is quite common when using SQL. Since date columns have many specific features, there is a dedicated section for handling them."
   ]
  },
  {
   "cell_type": "markdown",
   "metadata": {},
   "source": [
    "In this notebook, we will work with multiple database systems: Postgres and ClickHouse. The following cell creates all the necessary Docker containers."
   ]
  },
  {
   "cell_type": "code",
   "execution_count": 1,
   "metadata": {
    "vscode": {
     "languageId": "shellscript"
    }
   },
   "outputs": [],
   "source": [
    "docker run --rm -d\\\n",
    "    -e POSTGRES_PASSWORD=docker_app \\\n",
    "    --name datetime_postgres_examples \\\n",
    "    postgres:15.4 &> /dev/null\n",
    "docker run --rm -d \\\n",
    "    --name datetime_click_examples \\\n",
    "    clickhouse/clickhouse-server &> /dev/null\n",
    "sleep 5"
   ]
  },
  {
   "cell_type": "markdown",
   "metadata": {},
   "source": [
    "**Note**: Don't forget to stop the containers after all."
   ]
  },
  {
   "cell_type": "code",
   "execution_count": null,
   "metadata": {
    "vscode": {
     "languageId": "shellscript"
    }
   },
   "outputs": [],
   "source": [
    "docker stop datetime_postgres_examples datetime_click_examples"
   ]
  },
  {
   "cell_type": "markdown",
   "metadata": {
    "vscode": {
     "languageId": "shellscript"
    }
   },
   "source": [
    "## Date data types\n",
    "\n",
    "There are several data types that allow you to describe and operate with date and time. In the case of Postgres, some of them are outlined in the following table.\n",
    "\n",
    "| Data Type                     | Description                                                               | Example                          |\n",
    "|-------------------------------|---------------------------------------------------------------------------|----------------------------------|\n",
    "| **DATE**                      | Stores the date (year, month, day) without time.                       | `'2024-07-03'`                  |\n",
    "| **TIME**                      | Stores the time of day (hours, minutes, seconds) without time zone.    | `'14:30:57.902629'`             |\n",
    "| **TIME WITH TIME ZONE (TIMETZ)** | Stores the time of day including the time zone.                        | `'14:30:57.902629+02:00'`       |\n",
    "| **TIMESTAMP**                 | Stores both date and time without time zone.                            | `'2024-07-03 14:30:57.902629'`  |\n",
    "| **TIMESTAMP WITH TIME ZONE (TIMESTAMPTZ)** | Stores both date and time including the time zone.        | `'2024-07-03 14:30:57.902629+02:00'` |\n",
    "| **INTERVAL**                  | Represents a time span or duration (days, hours, minutes, seconds).    | `'1 day 2 hours 3 minutes'`     |\n",
    "\n",
    "\n",
    "And the same for clickhouse.\n",
    "\n",
    "| Data Type         | Description                                               | Example                |\n",
    "|-------------------|-----------------------------------------------------------|------------------------|\n",
    "| `Date`            | Represents a date without time (YYYY-MM-DD format).      | `2024-09-27`           |\n",
    "| `DateTime`        | Represents a date and time (YYYY-MM-DD HH:MM:SS format). | `2024-09-27 14:30:00`  |\n",
    "| `DateTime64`      | Represents a date and time with fractional seconds.      | `2024-09-27 14:30:00.123456` |\n",
    "| `DateTime32`      | Similar to `DateTime`, but limited to 32-bit precision.  | `2024-09-27 14:30:00`  |\n",
    "| `DateTime('timezone')` | `DateTime` with a specified timezone.              | `2024-09-27 14:30:00` (UTC) |\n",
    "| `Time`            | Represents time (HH:MM:SS format) without date.         | `14:30:00`             |\n",
    "| `Interval`        | Represents a time interval (e.g., days, hours).         | `INTERVAL 1 DAY`       |\n"
   ]
  },
  {
   "cell_type": "markdown",
   "metadata": {},
   "source": [
    "### Date\n",
    "\n",
    "All database systems have some types that describe jsut a date - it's a date without time."
   ]
  },
  {
   "cell_type": "markdown",
   "metadata": {},
   "source": [
    "\n",
    "---\n",
    "\n",
    "As an example, consider how the `DATE` data type can be defined in Postgres. In the following cell, the types of the results from different ways of creating a date are printed."
   ]
  },
  {
   "cell_type": "code",
   "execution_count": 18,
   "metadata": {
    "vscode": {
     "languageId": "shellscript"
    }
   },
   "outputs": [
    {
     "name": "stdout",
     "output_type": "stream",
     "text": [
      "   one   | two  | three | four \n",
      "---------+------+-------+------\n",
      " unknown | date | date  | date\n",
      "(1 row)\n",
      "\n"
     ]
    }
   ],
   "source": [
    "docker exec -i datetime_postgres_examples psql -U postgres -d postgres << EOF\n",
    "SELECT \n",
    "    pg_typeof('2999-08-12') one,\n",
    "    pg_typeof(CAST('2999-08-12' AS DATE)) two,\n",
    "    pg_typeof('2999-08-12'::DATE) three,\n",
    "    pg_typeof(to_date('2999-08-12', 'YYYY-MM-DD')) four\n",
    ";\n",
    "EOF"
   ]
  },
  {
   "cell_type": "markdown",
   "metadata": {},
   "source": [
    "In ClickHouse, dates are stored as strings. By using the `toDate` function, you can make ClickHouse interpret them as datetime columns."
   ]
  },
  {
   "cell_type": "code",
   "execution_count": 10,
   "metadata": {
    "vscode": {
     "languageId": "shellscript"
    }
   },
   "outputs": [
    {
     "name": "stdout",
     "output_type": "stream",
     "text": [
      "   ┏━━━━━━━━━━━━━━━━━━━━━━━━━━┳━━━━━━━━━━━━━━━━━━━━━━━━━━━━━━━━━━┓\n",
      "   ┃ \u001b[1mtoTypeName('2999-12-23')\u001b[0m ┃ \u001b[1mtoTypeName(toDate('2999-12-23'))\u001b[0m ┃\n",
      "   ┡━━━━━━━━━━━━━━━━━━━━━━━━━━╇━━━━━━━━━━━━━━━━━━━━━━━━━━━━━━━━━━┩\n",
      "\u001b[90m1. \u001b[0m│ String                   │ Date                             │\n",
      "   └──────────────────────────┴──────────────────────────────────┘\n"
     ]
    }
   ],
   "source": [
    "docker exec -it datetime_click_examples clickhouse-client -q \"\n",
    "SELECT \n",
    "    toTypeName('2999-12-23'),\n",
    "    toTypeName(toDate('2999-12-23')) \n",
    "FORMAT Pretty;\n",
    "\""
   ]
  },
  {
   "cell_type": "markdown",
   "metadata": {},
   "source": [
    "### Datetime/Timestamp\n",
    "\n",
    "The `Datetime` type is used to describe date and time with precision."
   ]
  },
  {
   "cell_type": "markdown",
   "metadata": {},
   "source": [
    "---\n",
    "\n",
    "The following cell demonstrates a comparison of typecasting to `DATE` and `TIMESTAMP` in postgres."
   ]
  },
  {
   "cell_type": "code",
   "execution_count": 9,
   "metadata": {
    "vscode": {
     "languageId": "shellscript"
    }
   },
   "outputs": [
    {
     "name": "stdout",
     "output_type": "stream",
     "text": [
      "    date    |         timestamp          \n",
      "------------+----------------------------\n",
      " 2024-07-03 | 2024-07-03 14:30:57.902629\n",
      "(1 row)\n",
      "\n"
     ]
    }
   ],
   "source": [
    "docker exec -i datetime_postgres_examples psql -U postgres -d postgres << EOF\n",
    "SELECT \n",
    "    '2024-07-03 14:30:57.902629'::DATE,\n",
    "    '2024-07-03 14:30:57.902629'::TIMESTAMP;\n",
    "EOF"
   ]
  },
  {
   "cell_type": "markdown",
   "metadata": {},
   "source": [
    "So in case `DATE` there is only infomation about day but in `TMESTAMP` case we're getting accuracy up to microsecond."
   ]
  },
  {
   "cell_type": "markdown",
   "metadata": {},
   "source": [
    "The same example applies to ClickHouse."
   ]
  },
  {
   "cell_type": "code",
   "execution_count": 20,
   "metadata": {
    "vscode": {
     "languageId": "shellscript"
    }
   },
   "outputs": [
    {
     "name": "stdout",
     "output_type": "stream",
     "text": [
      "   ┏━━━━━━━━━━━━━━━━━━━━━━━━━━━━━━━┳━━━━━━━━━━━━━━━━━━━━━━━━━━━━━━━━━━━━━━━━━━━━━━━┓\n",
      "   ┃ \u001b[1mtoDate('2024-07-03 14:30:57')\u001b[0m ┃ \u001b[1mtoDateTime64('2024-07-03 14:30:57.902629', 6)\u001b[0m ┃\n",
      "   ┡━━━━━━━━━━━━━━━━━━━━━━━━━━━━━━━╇━━━━━━━━━━━━━━━━━━━━━━━━━━━━━━━━━━━━━━━━━━━━━━━┩\n",
      "\u001b[90m1. \u001b[0m│                    2024-07-03 │                    2024-07-03 14:30:57.902629 │\n",
      "   └───────────────────────────────┴───────────────────────────────────────────────┘\n"
     ]
    }
   ],
   "source": [
    "docker exec -it datetime_click_examples clickhouse-client -q \"\n",
    "SELECT \n",
    "    toDate('2024-07-03 14:30:57'),\n",
    "    toDateTime64('2024-07-03 14:30:57.902629', 6)\n",
    "FORMAT Pretty;\n",
    "\""
   ]
  }
 ],
 "metadata": {
  "kernelspec": {
   "display_name": "Bash",
   "language": "bash",
   "name": "bash"
  },
  "language_info": {
   "codemirror_mode": "shell",
   "file_extension": ".sh",
   "mimetype": "text/x-sh",
   "name": "bash"
  }
 },
 "nbformat": 4,
 "nbformat_minor": 2
}
