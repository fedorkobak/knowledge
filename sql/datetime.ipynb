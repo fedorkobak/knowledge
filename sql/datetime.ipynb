{
 "cells": [
  {
   "cell_type": "markdown",
   "metadata": {},
   "source": [
    "# Date and time\n",
    "\n",
    "Working with dates and times is quite common when using SQL. Since date columns have many specific features, there is a dedicated section for handling them."
   ]
  },
  {
   "cell_type": "markdown",
   "metadata": {},
   "source": [
    "In this notebook, we will work with multiple database systems: Postgres and ClickHouse. The following cell creates all the necessary Docker containers."
   ]
  },
  {
   "cell_type": "code",
   "execution_count": 1,
   "metadata": {
    "vscode": {
     "languageId": "shellscript"
    }
   },
   "outputs": [],
   "source": [
    "docker run --rm -d\\\n",
    "    -e POSTGRES_PASSWORD=docker_app \\\n",
    "    --name datetime_postgres_examples \\\n",
    "    postgres:15.4 &> /dev/null\n",
    "docker run --rm -d \\\n",
    "    --name datetime_click_examples \\\n",
    "    clickhouse/clickhouse-server &> /dev/null\n",
    "sleep 5"
   ]
  },
  {
   "cell_type": "markdown",
   "metadata": {},
   "source": [
    "**Note**: Don't forget to stop the containers after all."
   ]
  },
  {
   "cell_type": "code",
   "execution_count": null,
   "metadata": {
    "vscode": {
     "languageId": "shellscript"
    }
   },
   "outputs": [],
   "source": [
    "docker stop datetime_postgres_examples datetime_click_examples"
   ]
  },
  {
   "cell_type": "markdown",
   "metadata": {},
   "source": [
    "## Defining date\n",
    "\n",
    "How did sql engine understands in commands that you want to operate with date? It strongly depends on engine."
   ]
  },
  {
   "cell_type": "markdown",
   "metadata": {},
   "source": [
    "---\n",
    "\n",
    "The following cell shows basics of postgresql settings. By default string even if corresponds to date format is `unknown` datatype - but there are planty of ways to make date type from it."
   ]
  },
  {
   "cell_type": "code",
   "execution_count": 18,
   "metadata": {
    "vscode": {
     "languageId": "shellscript"
    }
   },
   "outputs": [
    {
     "name": "stdout",
     "output_type": "stream",
     "text": [
      "   one   | two  | three | four \n",
      "---------+------+-------+------\n",
      " unknown | date | date  | date\n",
      "(1 row)\n",
      "\n"
     ]
    }
   ],
   "source": [
    "docker exec -i datetime_postgres_examples psql -U postgres -d postgres << EOF\n",
    "SELECT \n",
    "    pg_typeof('2999-08-12') one,\n",
    "    pg_typeof(CAST('2999-08-12' AS DATE)) two,\n",
    "    pg_typeof('2999-08-12'::DATE) three,\n",
    "    pg_typeof(to_date('2999-08-12', 'YYYY-MM-DD')) four\n",
    ";\n",
    "EOF"
   ]
  },
  {
   "cell_type": "markdown",
   "metadata": {},
   "source": [
    "In ClickHouse, dates are stored as strings. By using the `toDate` function, you can make ClickHouse interpret them as datetime columns."
   ]
  },
  {
   "cell_type": "code",
   "execution_count": 10,
   "metadata": {
    "vscode": {
     "languageId": "shellscript"
    }
   },
   "outputs": [
    {
     "name": "stdout",
     "output_type": "stream",
     "text": [
      "   ┏━━━━━━━━━━━━━━━━━━━━━━━━━━┳━━━━━━━━━━━━━━━━━━━━━━━━━━━━━━━━━━┓\n",
      "   ┃ \u001b[1mtoTypeName('2999-12-23')\u001b[0m ┃ \u001b[1mtoTypeName(toDate('2999-12-23'))\u001b[0m ┃\n",
      "   ┡━━━━━━━━━━━━━━━━━━━━━━━━━━╇━━━━━━━━━━━━━━━━━━━━━━━━━━━━━━━━━━┩\n",
      "\u001b[90m1. \u001b[0m│ String                   │ Date                             │\n",
      "   └──────────────────────────┴──────────────────────────────────┘\n"
     ]
    }
   ],
   "source": [
    "docker exec -it datetime_click_examples clickhouse-client -q \"\n",
    "SELECT toTypeName('2999-12-23'), toTypeName(toDate('2999-12-23')) FORMAT Pretty;\n",
    "\""
   ]
  }
 ],
 "metadata": {
  "kernelspec": {
   "display_name": "Bash",
   "language": "bash",
   "name": "bash"
  },
  "language_info": {
   "codemirror_mode": "shell",
   "file_extension": ".sh",
   "mimetype": "text/x-sh",
   "name": "bash"
  }
 },
 "nbformat": 4,
 "nbformat_minor": 2
}
