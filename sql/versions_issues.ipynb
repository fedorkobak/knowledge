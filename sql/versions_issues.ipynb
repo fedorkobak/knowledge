{
 "cells": [
  {
   "cell_type": "markdown",
   "metadata": {},
   "source": [
    "# Versions issues\n",
    "\n",
    "All popular subdatabases are being evaluated, so you may encounter different behaviors depending on the version. This page focuses on those issues."
   ]
  },
  {
   "cell_type": "markdown",
   "metadata": {},
   "source": [
    "## Clickhouse window with group by\n",
    "\n",
    "ClickHouse 23 behaves incorrectly when you try to apply a window function after aggregation—the aggregation simply doesn't apply. This issue is fixed in ClickHouse 24."
   ]
  },
  {
   "cell_type": "markdown",
   "metadata": {},
   "source": [
    "---\n",
    "\n",
    "Consider the following example: the next cell creates two Docker containers, one with ClickHouse 23 and another with ClickHouse 24."
   ]
  },
  {
   "cell_type": "code",
   "execution_count": 18,
   "metadata": {
    "vscode": {
     "languageId": "shellscript"
    }
   },
   "outputs": [
    {
     "name": "stdout",
     "output_type": "stream",
     "text": [
      "319336787ada78390da5c93b2a177f7d7a902e0b6abc32ad5a4a2536a810d48c\n",
      "bdec89e1bf8e4cf97e9b5897a3218981ff47f1f4c3d287e3191e4b80ba1ead3d\n"
     ]
    }
   ],
   "source": [
    "docker run -it --rm --name click_23 -d clickhouse/clickhouse-server:23.9.1\n",
    "docker run -it --rm --name click_24 -d clickhouse/clickhouse-server:24.9.1.3278"
   ]
  },
  {
   "cell_type": "markdown",
   "metadata": {},
   "source": [
    "In the following example, we're attempting to aggregate a value and then shift the result of the aggregation by one."
   ]
  },
  {
   "cell_type": "code",
   "execution_count": 13,
   "metadata": {
    "vscode": {
     "languageId": "shellscript"
    }
   },
   "outputs": [
    {
     "name": "stdout",
     "output_type": "stream",
     "text": [
      "┏━━━━━━━━━━━━━┳━━━━━━━┓\n",
      "┃ \u001b[1maggregation\u001b[0m ┃ \u001b[1mshift\u001b[0m ┃\n",
      "┡━━━━━━━━━━━━━╇━━━━━━━┩\n",
      "│           4 │     4 │\n",
      "├─────────────┼───────┤\n",
      "│           3 │     3 │\n",
      "├─────────────┼───────┤\n",
      "│           1 │     1 │\n",
      "└─────────────┴───────┘\n"
     ]
    }
   ],
   "source": [
    "docker exec -i click_23 clickhouse-client --multiquery << EOF\n",
    "CREATE TEMPORARY TABLE temp (some_value Int32) \n",
    "ENGINE = Memory;\n",
    "\n",
    "INSERT INTO temp VALUES\n",
    "    (3), (3), (1), (4), (3);\n",
    "\n",
    "SELECT \n",
    "    some_value AS aggregation,\n",
    "    any(some_value) OVER (ROWS BETWEEN 1 FOLLOWING AND 1 FOLLOWING) AS shift\n",
    "FROM temp \n",
    "GROUP BY some_value\n",
    "FORMAT Pretty;\n",
    "EOF"
   ]
  },
  {
   "cell_type": "markdown",
   "metadata": {},
   "source": [
    "As a result, the `shift` column, which should be shifted relative to the `aggregation`, ends up having the same value."
   ]
  },
  {
   "cell_type": "markdown",
   "metadata": {},
   "source": [
    "The following cell shows the same query in ClickHouse 24."
   ]
  },
  {
   "cell_type": "code",
   "execution_count": 14,
   "metadata": {
    "vscode": {
     "languageId": "shellscript"
    }
   },
   "outputs": [
    {
     "name": "stdout",
     "output_type": "stream",
     "text": [
      "   ┏━━━━━━━━━━━━━┳━━━━━━━┓\n",
      "   ┃ aggregation ┃ shift ┃\n",
      "   ┡━━━━━━━━━━━━━╇━━━━━━━┩\n",
      "1. │           4 │     3 │\n",
      "   ├─────────────┼───────┤\n",
      "2. │           3 │     1 │\n",
      "   ├─────────────┼───────┤\n",
      "3. │           1 │     0 │\n",
      "   └─────────────┴───────┘\n"
     ]
    }
   ],
   "source": [
    "docker exec -i click_24 clickhouse-client --multiquery << EOF\n",
    "CREATE TEMPORARY TABLE temp (some_value Int32)\n",
    "ENGINE = Memory;\n",
    "\n",
    "INSERT INTO temp VALUES\n",
    "    (3), (3), (1), (4), (3);\n",
    "\n",
    "SELECT \n",
    "    some_value AS aggregation,\n",
    "    any(some_value) OVER (ROWS BETWEEN 1 FOLLOWING AND 1 FOLLOWING) AS shift\n",
    "FROM temp\n",
    "GROUP BY some_value\n",
    "FORMAT Pretty;\n",
    "EOF"
   ]
  },
  {
   "cell_type": "markdown",
   "metadata": {},
   "source": [
    "The result of the query is just as expected."
   ]
  },
  {
   "cell_type": "markdown",
   "metadata": {},
   "source": [
    "### Possible solution\n",
    "\n",
    "You can fix the ClickHouse 23 query by using the `leadInFrame` function. The following cell demonstrates how to use the `leadInFrame` function."
   ]
  },
  {
   "cell_type": "code",
   "execution_count": 22,
   "metadata": {
    "vscode": {
     "languageId": "shellscript"
    }
   },
   "outputs": [
    {
     "name": "stdout",
     "output_type": "stream",
     "text": [
      "┏━━━━━━━━━━━━┳━━━━━━━━┳━━━━━━━━┓\n",
      "┃ \u001b[1msome_value\u001b[0m ┃ \u001b[1mshift1\u001b[0m ┃ \u001b[1mshift2\u001b[0m ┃\n",
      "┡━━━━━━━━━━━━╇━━━━━━━━╇━━━━━━━━┩\n",
      "│          4 │      4 │      3 │\n",
      "├────────────┼────────┼────────┤\n",
      "│          3 │      3 │      1 │\n",
      "├────────────┼────────┼────────┤\n",
      "│          1 │      1 │      0 │\n",
      "└────────────┴────────┴────────┘\n"
     ]
    }
   ],
   "source": [
    "docker exec -i click_23 clickhouse-client --multiquery << EOF\n",
    "CREATE TEMPORARY TABLE temp (some_value Int32) \n",
    "ENGINE = Memory;\n",
    "\n",
    "INSERT INTO temp VALUES\n",
    "    (3), (3), (1), (4), (3);\n",
    "\n",
    "SELECT \n",
    "    some_value,\n",
    "    any(some_value) OVER (ROWS BETWEEN 1 FOLLOWING AND 1 FOLLOWING) AS shift1,\n",
    "    leadInFrame(some_value) OVER () AS shift2\n",
    "FROM temp \n",
    "GROUP BY some_value\n",
    "FORMAT Pretty;\n",
    "EOF"
   ]
  },
  {
   "cell_type": "markdown",
   "metadata": {},
   "source": [
    "The following cell **stops the containers** used in these examples."
   ]
  },
  {
   "cell_type": "code",
   "execution_count": 16,
   "metadata": {
    "vscode": {
     "languageId": "shellscript"
    }
   },
   "outputs": [
    {
     "name": "stdout",
     "output_type": "stream",
     "text": [
      "click_23\n",
      "click_24\n"
     ]
    }
   ],
   "source": [
    "docker stop click_23 click_24"
   ]
  }
 ],
 "metadata": {
  "kernelspec": {
   "display_name": "Bash",
   "language": "bash",
   "name": "bash"
  },
  "language_info": {
   "codemirror_mode": "shell",
   "file_extension": ".sh",
   "mimetype": "text/x-sh",
   "name": "bash"
  }
 },
 "nbformat": 4,
 "nbformat_minor": 2
}
