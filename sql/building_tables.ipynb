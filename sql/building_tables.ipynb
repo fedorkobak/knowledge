{
 "cells": [
  {
   "cell_type": "markdown",
   "metadata": {},
   "source": [
    "# Building tables\n",
    "\n",
    "This page focuses on aspects of creating and populating tables with data using SQL databases."
   ]
  },
  {
   "cell_type": "code",
   "execution_count": 2,
   "metadata": {
    "vscode": {
     "languageId": "shellscript"
    }
   },
   "outputs": [
    {
     "name": "stdout",
     "output_type": "stream",
     "text": [
      "2fdd36e69db784f57e4871f9fa30f38e566dcc96826ccec78368bb9d996bb0cc\n"
     ]
    }
   ],
   "source": [
    "docker run -d --rm\\\n",
    "    --name building_tables_examples_pg\\\n",
    "    -e POSTGRES_PASSWORD=postgres\\\n",
    "    postgres:15.4\n",
    "\n",
    "sleep 5"
   ]
  },
  {
   "cell_type": "markdown",
   "metadata": {},
   "source": [
    "**Note**: Don't forget to stop the experimental container afterward."
   ]
  },
  {
   "cell_type": "markdown",
   "metadata": {},
   "source": [
    "## Loading from csv"
   ]
  },
  {
   "cell_type": "markdown",
   "metadata": {},
   "source": [
    "This section shows how data may be loaded from `csv` file. \n",
    "\n",
    "Learn more in:\n",
    "\n",
    "- [Import CSV file into PostgreSQL table](https://www.postgresqltutorial.com/postgresql-tutorial/import-csv-file-into-posgresql-table/) tutorial.\n",
    "- [COPY command](https://www.postgresql.org/docs/current/sql-copy.html) in official postgres documentation page. \n",
    "\n",
    "You can specify file in the `FROM` section `DELIMITER` and `CSV` parameters specify how file should be loaded."
   ]
  },
  {
   "cell_type": "markdown",
   "metadata": {},
   "source": [
    "---\n",
    "\n",
    "The following cell creates a CSV file in the container and reads it into the database."
   ]
  },
  {
   "cell_type": "code",
   "execution_count": 7,
   "metadata": {
    "vscode": {
     "languageId": "shellscript"
    }
   },
   "outputs": [
    {
     "name": "stdout",
     "output_type": "stream",
     "text": [
      "DROP TABLE\n",
      "CREATE TABLE\n",
      "COPY 4\n"
     ]
    }
   ],
   "source": [
    "docker exec -i building_tables_examples_pg sh -c \"cat > /test.csv\" << EOF\n",
    "20,Riga\n",
    "30,Vilnus\n",
    "4,Minsk\n",
    "43,Warsaw\n",
    "EOF\n",
    "\n",
    "\n",
    "docker exec -i building_tables_examples_pg psql -U postgres << EOF\n",
    "-- creating table\n",
    "DROP TABLE IF EXISTS csv_example;\n",
    "CREATE TABLE csv_example (\n",
    "    value REAL, city VARCHAR(20)\n",
    ");\n",
    "\n",
    "-- loading csv table to created table\n",
    "COPY csv_example(value, city)\n",
    "FROM '/test.csv'\n",
    "DELIMITER ','\n",
    "CSV;\n",
    "EOF"
   ]
  },
  {
   "cell_type": "markdown",
   "metadata": {},
   "source": [
    "Now let's check the obtained results:"
   ]
  },
  {
   "cell_type": "code",
   "execution_count": 8,
   "metadata": {
    "vscode": {
     "languageId": "shellscript"
    }
   },
   "outputs": [
    {
     "name": "stdout",
     "output_type": "stream",
     "text": [
      " value |  city  \n",
      "-------+--------\n",
      "    20 | Riga\n",
      "    30 | Vilnus\n",
      "     4 | Minsk\n",
      "    43 | Warsaw\n",
      "(4 rows)\n",
      "\n"
     ]
    }
   ],
   "source": [
    "docker exec -i building_tables_examples_pg psql -U postgres << EOF\n",
    "SELECT * FROM csv_example LIMIT 10;\n",
    "EOF"
   ]
  }
 ],
 "metadata": {
  "kernelspec": {
   "display_name": "Bash",
   "language": "bash",
   "name": "bash"
  },
  "language_info": {
   "codemirror_mode": "shell",
   "file_extension": ".sh",
   "mimetype": "text/x-sh",
   "name": "bash"
  }
 },
 "nbformat": 4,
 "nbformat_minor": 2
}
