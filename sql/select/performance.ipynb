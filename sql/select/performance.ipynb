{
 "cells": [
  {
   "cell_type": "markdown",
   "metadata": {},
   "source": [
    "# Performance\n",
    "\n",
    "This page discusses ways to improve the performance of SQL queries.\n",
    "\n",
    "Find out more in the [Performance Tips](https://www.postgresql.org/docs/17/performance-tips.html) chapter of the official PostgreSQL documentation."
   ]
  },
  {
   "cell_type": "markdown",
   "metadata": {},
   "source": [
    "For this page, we need to prepare a special table, [`tenk.data`](https://github.com/postgres/postgres/raw/6ff2e8cdd410f70057cfa6259ad395c1119aeb32/src/test/regress/data/tenk.data). This command table is used in official PostgreSQL examples. Check how it should be created [here](https://github.com/postgres/postgres/blob/6ff2e8cdd410f70057cfa6259ad395c1119aeb32/src/test/regress/sql/test_setup.sql#L144)."
   ]
  },
  {
   "cell_type": "code",
   "execution_count": 26,
   "metadata": {
    "vscode": {
     "languageId": "shellscript"
    }
   },
   "outputs": [
    {
     "name": "stdout",
     "output_type": "stream",
     "text": [
      "9efd24a3c47fcd7817c37bd57232116841b53067754061e81f794fab2b6784ad\n",
      " unique1 | unique2 | two | four | ten | twenty | hundred | thousand | twothousand | fivethous | tenthous | odd | even | stringu1 | stringu2 | string4 \n",
      "---------+---------+-----+------+-----+--------+---------+----------+-------------+-----------+----------+-----+------+----------+----------+---------\n",
      "    8800 |       0 |   0 |    0 |   0 |      0 |       0 |      800 |         800 |      3800 |     8800 |   0 |    1 | MAAAAA   | AAAAAA   | AAAAxx\n",
      "    1891 |       1 |   1 |    3 |   1 |     11 |      91 |      891 |        1891 |      1891 |     1891 | 182 |  183 | TUAAAA   | BAAAAA   | HHHHxx\n",
      "    3420 |       2 |   0 |    0 |   0 |      0 |      20 |      420 |        1420 |      3420 |     3420 |  40 |   41 | OBAAAA   | CAAAAA   | OOOOxx\n",
      "    9850 |       3 |   0 |    2 |   0 |     10 |      50 |      850 |        1850 |      4850 |     9850 | 100 |  101 | WOAAAA   | DAAAAA   | VVVVxx\n",
      "    7164 |       4 |   0 |    0 |   4 |      4 |      64 |      164 |        1164 |      2164 |     7164 | 128 |  129 | OPAAAA   | EAAAAA   | AAAAxx\n",
      "    8009 |       5 |   1 |    1 |   9 |      9 |       9 |        9 |           9 |      3009 |     8009 |  18 |   19 | BWAAAA   | FAAAAA   | HHHHxx\n",
      "    5057 |       6 |   1 |    1 |   7 |     17 |      57 |       57 |        1057 |        57 |     5057 | 114 |  115 | NMAAAA   | GAAAAA   | OOOOxx\n",
      "    6701 |       7 |   1 |    1 |   1 |      1 |       1 |      701 |         701 |      1701 |     6701 |   2 |    3 | TXAAAA   | HAAAAA   | VVVVxx\n",
      "    4321 |       8 |   1 |    1 |   1 |      1 |      21 |      321 |         321 |      4321 |     4321 |  42 |   43 | FKAAAA   | IAAAAA   | AAAAxx\n",
      "    3043 |       9 |   1 |    3 |   3 |      3 |      43 |       43 |        1043 |      3043 |     3043 |  86 |   87 | BNAAAA   | JAAAAA   | HHHHxx\n",
      "(10 rows)\n",
      "\n"
     ]
    }
   ],
   "source": [
    "cat << EOF > performance_files/init.sql\n",
    "CREATE TABLE tenk1 (\n",
    "    unique1     int4,\n",
    "    unique2     int4,\n",
    "    two\t        int4,\n",
    "    four        int4,\n",
    "    ten\t        int4,\n",
    "    twenty      int4,\n",
    "    hundred\t    int4,\n",
    "    thousand    int4,\n",
    "    twothousand int4,\n",
    "    fivethous   int4,\n",
    "    tenthous    int4,\n",
    "    odd         int4,\n",
    "    even        int4,\n",
    "    stringu1    name,\n",
    "    stringu2    name,\n",
    "    string4     name\n",
    ");\n",
    "\n",
    "COPY tenk1 FROM '/data/tenk.data' WITH (FORMAT 'text', DELIMITER E'\\t');\n",
    "EOF\n",
    "\n",
    "docker run -d --rm --name performance_example_pg\\\n",
    "    -e POSTGRES_PASSWORD=postgres\\\n",
    "    -v $(pwd)/performance_files/tenk.data:/data/tenk.data\\\n",
    "    -v $(pwd)/performance_files/init.sql:/docker-entrypoint-initdb.d/init.sql\\\n",
    "    postgres:15.4\n",
    "sleep 5\n",
    "\n",
    "docker exec -i performance_example_pg psql -U postgres << EOF\n",
    "SELECT * FROM tenk1 LIMIT 10;\n",
    "EOF"
   ]
  },
  {
   "cell_type": "markdown",
   "metadata": {},
   "source": [
    "**Note**: Don't forget to stop the container after all."
   ]
  },
  {
   "cell_type": "code",
   "execution_count": 25,
   "metadata": {
    "vscode": {
     "languageId": "shellscript"
    }
   },
   "outputs": [
    {
     "name": "stdout",
     "output_type": "stream",
     "text": [
      "performance_example_pg\n"
     ]
    }
   ],
   "source": [
    "docker stop performance_example_pg"
   ]
  },
  {
   "cell_type": "markdown",
   "metadata": {},
   "source": [
    "## Estimate query\n",
    "\n",
    "**Quick answer**: Use the `EXPLAIN ANALYZE` clause before the query. Read more details about `EXPLAIN` clause in the particula sectoin."
   ]
  },
  {
   "cell_type": "markdown",
   "metadata": {},
   "source": [
    "---\n",
    "\n",
    "The following cell shows the query for which `EXPLAIN ANALYZE` was applied."
   ]
  },
  {
   "cell_type": "code",
   "execution_count": 36,
   "metadata": {
    "vscode": {
     "languageId": "shellscript"
    }
   },
   "outputs": [
    {
     "name": "stdout",
     "output_type": "stream",
     "text": [
      "                                                      QUERY PLAN                                                      \n",
      "----------------------------------------------------------------------------------------------------------------------\n",
      " Sort  (cost=520.08..520.09 rows=4 width=76) (actual time=1.248..1.248 rows=4 loops=1)\n",
      "   Sort Key: (sum(hundred))\n",
      "   Sort Method: quicksort  Memory: 25kB\n",
      "   ->  HashAggregate  (cost=520.00..520.04 rows=4 width=76) (actual time=1.236..1.237 rows=4 loops=1)\n",
      "         Group Key: string4\n",
      "         Batches: 1  Memory Usage: 24kB\n",
      "         ->  Seq Scan on tenk1  (cost=0.00..445.00 rows=10000 width=72) (actual time=0.001..0.290 rows=10000 loops=1)\n",
      " Planning Time: 0.094 ms\n",
      " Execution Time: 1.284 ms\n",
      "(9 rows)\n",
      "\n"
     ]
    }
   ],
   "source": [
    "docker exec -i performance_example_pg psql -U postgres << EOF\n",
    "EXPLAIN ANALYSE \n",
    "SELECT max(ten) FROM tenk1 \n",
    "GROUP BY string4 \n",
    "ORDER BY SUM(hundred);\n",
    "EOF"
   ]
  },
  {
   "cell_type": "markdown",
   "metadata": {},
   "source": [
    "At the end of the output, there are fields *Planning Time* and *Execution Time* - they indicate exactly what is stated."
   ]
  },
  {
   "cell_type": "markdown",
   "metadata": {},
   "source": [
    "## Explain query\n",
    "\n",
    "You can discover details how engine will execute your query. In postgreSQL for this purposes exists `EXPLAIN` keyword."
   ]
  },
  {
   "cell_type": "markdown",
   "metadata": {},
   "source": [
    "---\n",
    "\n",
    "The following cell shows the output of applying `EXPLAIN` to a typical query."
   ]
  },
  {
   "cell_type": "code",
   "execution_count": 31,
   "metadata": {
    "vscode": {
     "languageId": "shellscript"
    }
   },
   "outputs": [
    {
     "name": "stdout",
     "output_type": "stream",
     "text": [
      "                         QUERY PLAN                          \n",
      "-------------------------------------------------------------\n",
      " Seq Scan on tenk1  (cost=0.00..445.00 rows=10000 width=244)\n",
      "(1 row)\n",
      "\n"
     ]
    }
   ],
   "source": [
    "docker exec -i performance_example_pg psql -U postgres << EOF\n",
    "EXPLAIN SELECT * FROM tenk1;\n",
    "EOF"
   ]
  }
 ],
 "metadata": {
  "kernelspec": {
   "display_name": "Bash",
   "language": "bash",
   "name": "bash"
  },
  "language_info": {
   "codemirror_mode": "shell",
   "file_extension": ".sh",
   "mimetype": "text/x-sh",
   "name": "bash"
  }
 },
 "nbformat": 4,
 "nbformat_minor": 2
}
