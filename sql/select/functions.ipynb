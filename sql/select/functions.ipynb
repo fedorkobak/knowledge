{
 "cells": [
  {
   "cell_type": "markdown",
   "id": "9117e8e4-87a4-468e-a4cd-67d25b7c776d",
   "metadata": {},
   "source": [
    "# Functions\n",
    "\n",
    "This page is about what operation that you can apply ."
   ]
  },
  {
   "cell_type": "markdown",
   "id": "0b3ecd38-0eb1-4ae3-b084-a97e572e9287",
   "metadata": {},
   "source": [
    "The next cell starts the container for the playground database."
   ]
  },
  {
   "cell_type": "code",
   "execution_count": 1,
   "id": "a11941a0-d8e1-4917-9c8f-9a8ad0f93df8",
   "metadata": {
    "vscode": {
     "languageId": "shellscript"
    }
   },
   "outputs": [
    {
     "name": "stdout",
     "output_type": "stream",
     "text": [
      "CREATE TABLE\n",
      "INSERT 0 4\n",
      " var1 | var2 | var3  \n",
      "------+------+-------\n",
      " foo  | t    | peter\n",
      " bar  | t    | alice\n",
      " bar  | f    | bob\n",
      " foo  | t    | jamie\n",
      "(4 rows)\n",
      "\n"
     ]
    }
   ],
   "source": [
    "docker run --rm -d\\\n",
    "    -e POSTGRES_PASSWORD=docker_app \\\n",
    "    --name aggregation_postgres_exmaples \\\n",
    "    postgres:15.4 &> /dev/null\n",
    "sleep 5\n",
    "\n",
    "docker exec -i aggregation_postgres_exmaples psql -U postgres -d postgres << EOF\n",
    "CREATE TABLE tab (\n",
    "    var1 TEXT,\n",
    "    var2 BOOL,\n",
    "    var3 TEXT\n",
    ");\n",
    "\n",
    "INSERT INTO tab (var1, var2, var3) VALUES\n",
    "('foo', true, 'peter'),\n",
    "('bar', true, 'alice'),\n",
    "('bar', false, 'bob'),\n",
    "('foo', true, 'jamie');\n",
    "\n",
    "SELECT * FROM tab;\n",
    "EOF"
   ]
  },
  {
   "cell_type": "markdown",
   "id": "5f19f20c-1293-48ee-a195-c6482da2c177",
   "metadata": {},
   "source": [
    "**Note** Don't forget to stop the container when you've finished playing with it."
   ]
  },
  {
   "cell_type": "code",
   "execution_count": 1,
   "id": "7fecb63a-67f4-43b2-9316-76db2ea71b01",
   "metadata": {
    "vscode": {
     "languageId": "shellscript"
    }
   },
   "outputs": [
    {
     "name": "stdout",
     "output_type": "stream",
     "text": [
      "aggregation_postgres_exmaples\n"
     ]
    }
   ],
   "source": [
    "docker stop aggregation_postgres_exmaples;"
   ]
  },
  {
   "cell_type": "markdown",
   "id": "f13fad51-50e1-48c6-a9c6-362e9752d093",
   "metadata": {},
   "source": [
    "## Logical operations (BOOL_OR, BOOL_AND)\n",
    "\n",
    "Sometimes you need to find out if all values of a boolean variable by group are true. For such cases you can use `boot_and` aggregation function. Also there is function `bool_or` if you need to get if any value by group is true.\n",
    "\n",
    "The following example shows how to use these functions."
   ]
  },
  {
   "cell_type": "code",
   "execution_count": 6,
   "id": "fab0e9b9-d056-4b96-b67f-d62ffdc5c596",
   "metadata": {
    "vscode": {
     "languageId": "shellscript"
    }
   },
   "outputs": [
    {
     "name": "stdout",
     "output_type": "stream",
     "text": [
      " bool_and | bool_or \n",
      "----------+---------\n",
      " f        | t\n",
      "(1 row)\n",
      "\n"
     ]
    }
   ],
   "source": [
    "docker exec -i aggregation_postgres_exmaples psql -U postgres << EOF\n",
    "SELECT\n",
    "    bool_and(var2),\n",
    "    bool_or(var2)\n",
    "FROM tab;\n",
    "EOF"
   ]
  },
  {
   "cell_type": "markdown",
   "id": "dcebc133-1c2b-45c5-a206-22142a21abf7",
   "metadata": {},
   "source": [
    "## Strings concatenations\n",
    "\n",
    "Suppose you need to concatenate all the values of a text variable into groups. For this purpose there is an argregation function `string_agg(<column for concatenation>, <separator>)`. The result will be all values by group in one line, separated by a separator.\n",
    "\n",
    "We list the values of variable `val2` that occur in different groups of variable `val1` separated by commas:"
   ]
  },
  {
   "cell_type": "code",
   "execution_count": 3,
   "id": "dcefb9c6-03e7-4dbd-9999-5e189e3f85e6",
   "metadata": {
    "vscode": {
     "languageId": "shellscript"
    }
   },
   "outputs": [
    {
     "name": "stdout",
     "output_type": "stream",
     "text": [
      "  string_agg  \n",
      "--------------\n",
      " alice, bob\n",
      " peter, jamie\n",
      "(2 rows)\n",
      "\n"
     ]
    }
   ],
   "source": [
    "%%bash\n",
    "docker exec -i aggregation_postgres_exmaples psql -U postgres -d postgres\n",
    "SELECT \n",
    "    string_agg(var3, ', ')\n",
    "FROM tab\n",
    "GROUP BY var1;"
   ]
  }
 ],
 "metadata": {
  "kernelspec": {
   "display_name": "Bash",
   "language": "bash",
   "name": "bash"
  },
  "language_info": {
   "codemirror_mode": "shell",
   "file_extension": ".sh",
   "mimetype": "text/x-sh",
   "name": "bash"
  }
 },
 "nbformat": 4,
 "nbformat_minor": 5
}
