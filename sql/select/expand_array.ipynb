{
 "cells": [
  {
   "cell_type": "markdown",
   "id": "83f9d907-7870-45a7-b3fe-3928bdbdb6a9",
   "metadata": {},
   "source": [
    "# Expand array\n",
    "\n",
    "Sometimes you need to deal with arrays of arrays or, more scientifically, a column containing arrays in each record.\n",
    "\n",
    "You can perform this operation using:\n",
    "\n",
    "- The `UNNEST(<column>)` function in postgres.\n",
    "- The `arrayJoin(<column>)` functoin in clickhouse."
   ]
  },
  {
   "cell_type": "markdown",
   "id": "063549ee-3bc4-4bd0-aa05-286936a77389",
   "metadata": {},
   "source": [
    "The following cell starts the containers that we'll use as examples."
   ]
  },
  {
   "cell_type": "code",
   "execution_count": 1,
   "id": "79919524-dd62-4ad6-9e4d-f0f5ec282a97",
   "metadata": {
    "vscode": {
     "languageId": "shellscript"
    }
   },
   "outputs": [
    {
     "name": "stdout",
     "output_type": "stream",
     "text": [
      "f31fede38e574947db72a4d4bed54119adb6c9cf5e4cd23d8d1956800a366d90\n"
     ]
    }
   ],
   "source": [
    "docker run --rm -d\\\n",
    "    -e POSTGRES_PASSWORD=postgres \\\n",
    "    --name unnest_example_postgres \\\n",
    "    postgres:15.4 &> /dev/null\n",
    "docker run --rm -d --name unnest_example_click clickhouse/clickhouse-server:24\n",
    "sleep 5"
   ]
  },
  {
   "cell_type": "markdown",
   "id": "21f84158-2c2f-4729-83cb-fb935c7508c1",
   "metadata": {},
   "source": [
    "**Note** don't forget to stop the container when you've finished playing with it."
   ]
  },
  {
   "cell_type": "code",
   "execution_count": null,
   "id": "3bd28ba1-f029-425c-a449-589ff6c505c2",
   "metadata": {
    "vscode": {
     "languageId": "shellscript"
    }
   },
   "outputs": [],
   "source": [
    "docker stop unnest_example_postgres unnest_example_click"
   ]
  },
  {
   "cell_type": "markdown",
   "id": "59cb9985-b7ca-41c8-aedd-d1854667fbeb",
   "metadata": {},
   "source": [
    "## Basic example\n",
    "\n",
    "Here, `unnest` is applied to an arbitrary column. The values of the other columns are duplicated so that each element of the unnested array corresponds to the original record."
   ]
  },
  {
   "cell_type": "code",
   "execution_count": 13,
   "id": "57c1b11e-d2cb-4e23-b047-c22ce14a0143",
   "metadata": {
    "vscode": {
     "languageId": "shellscript"
    }
   },
   "outputs": [
    {
     "name": "stdout",
     "output_type": "stream",
     "text": [
      " col1 | unnestted_value \n",
      "------+-----------------\n",
      "   10 |               1\n",
      "   10 |               2\n",
      "   10 |               3\n",
      "    7 |               3\n",
      "    7 |               4\n",
      "    7 |               1\n",
      "(6 rows)\n",
      "\n"
     ]
    }
   ],
   "source": [
    "docker exec -i unnest_example_postgres psql -U postgres << EOF\n",
    "\n",
    "SELECT \n",
    "    col1, \n",
    "    unnest(col2) AS unnestted_value\n",
    "FROM (\n",
    "    VALUES\n",
    "    (10, '{1,2,3}'::int[]),\n",
    "    (7, '{3,4,1}'::int[])\n",
    ") AS temp(col1, col2);\n",
    "\n",
    "EOF"
   ]
  },
  {
   "cell_type": "markdown",
   "id": "02a1d3cb-bb60-434a-ad7a-688476de8a44",
   "metadata": {},
   "source": [
    "## Multicolumn unnest\n",
    "\n",
    "Using multiple `unnest` operations in the same query leads to unexpected results. Instead of generating separate records for each combination of array elements, it produces records with pairwise matches, skipping elements when the arrays for the same record have different lengths."
   ]
  },
  {
   "cell_type": "markdown",
   "id": "64427019",
   "metadata": {},
   "source": [
    "---\n",
    "\n",
    "The following cell shows such an example - the second record of `col3` contains fewer values than the second record of `col2`, but the query tries to unnest them sulmiteniously."
   ]
  },
  {
   "cell_type": "code",
   "execution_count": 19,
   "id": "1e283758-6ff9-46b4-8199-99bf33ca970f",
   "metadata": {
    "vscode": {
     "languageId": "shellscript"
    }
   },
   "outputs": [
    {
     "name": "stdout",
     "output_type": "stream",
     "text": [
      " col1 | col2_unnested | col3_unnested \n",
      "------+---------------+---------------\n",
      "   10 |             1 | a\n",
      "   10 |             2 | b\n",
      "   10 |             3 | c\n",
      "    7 |             3 | a\n",
      "    7 |             4 | b\n",
      "    7 |             1 | \n",
      "(6 rows)\n",
      "\n"
     ]
    }
   ],
   "source": [
    "docker exec -i unnest_example_postgres psql -U postgres << EOF\n",
    "\n",
    "SELECT \n",
    "    col1, \n",
    "    unnest(col2) AS col2_unnested,\n",
    "    unnest(col3) AS col3_unnested\n",
    "FROM (\n",
    "    VALUES\n",
    "    (10, '{1,2,3}'::int[], '{\"a\", \"b\", \"c\"}'::text[]),\n",
    "    (7, '{3,4,1}'::int[], '{\"a\", \"b\"}'::text[])\n",
    ") AS temp(col1, col2, col3);\n",
    "\n",
    "EOF"
   ]
  },
  {
   "cell_type": "markdown",
   "id": "0ef61a79-e2ac-4cf7-b42f-2e63b82311ad",
   "metadata": {},
   "source": [
    "If you want to get a separate record for each combination of unnested values, just use subquery.\n",
    "\n",
    "---\n",
    "So in the following example, there is a separate record for each combination of values in the corresponding `col2` and `col3` records."
   ]
  },
  {
   "cell_type": "code",
   "execution_count": 21,
   "id": "52700aff-cb5a-420b-a4f7-a1674c008cbb",
   "metadata": {
    "vscode": {
     "languageId": "shellscript"
    }
   },
   "outputs": [
    {
     "name": "stdout",
     "output_type": "stream",
     "text": [
      " col1 | col2 | unnest \n",
      "------+------+--------\n",
      "   10 |    1 | a\n",
      "   10 |    1 | b\n",
      "   10 |    1 | c\n",
      "   10 |    2 | a\n",
      "   10 |    2 | b\n",
      "   10 |    2 | c\n",
      "   10 |    3 | a\n",
      "   10 |    3 | b\n",
      "   10 |    3 | c\n",
      "    7 |    3 | a\n",
      "    7 |    3 | b\n",
      "    7 |    4 | a\n",
      "    7 |    4 | b\n",
      "    7 |    1 | a\n",
      "    7 |    1 | b\n",
      "(15 rows)\n",
      "\n"
     ]
    }
   ],
   "source": [
    "docker exec -i unnest_example_postgres psql -U postgres << EOF\n",
    "\n",
    "WITH \n",
    "example_table(col1, col2, col3) AS (\n",
    "    VALUES\n",
    "    (10, '{1,2,3}'::int[], '{\"a\", \"b\", \"c\"}'::text[]),\n",
    "    (7, '{3,4,1}'::int[], '{\"a\", \"b\"}'::text[])\n",
    ")\n",
    "\n",
    "SELECT col1, col2, UNNEST(col3)\n",
    "FROM (\n",
    "    SELECT \n",
    "        col1, UNNEST(col2) AS col2, col3 \n",
    "    FROM example_table\n",
    ") AS t;\n",
    "\n",
    "EOF"
   ]
  },
  {
   "cell_type": "markdown",
   "id": "3ff1878e-7de8-47c7-be08-9fc1919983c4",
   "metadata": {},
   "source": [
    "Alternative solution,  using artificial cross-joining to deploy the array into a relational format.\n",
    "\n",
    "**Note** now I don't have time, but in general it would be great to compare the performance of this and solution with subquery."
   ]
  },
  {
   "cell_type": "code",
   "execution_count": 22,
   "id": "5eeb1163-9cda-4c6c-862c-6c332f30d926",
   "metadata": {
    "vscode": {
     "languageId": "shellscript"
    }
   },
   "outputs": [
    {
     "name": "stdout",
     "output_type": "stream",
     "text": [
      " col1 | unnested_col2 | col3 \n",
      "------+---------------+------\n",
      "   10 |             1 | a\n",
      "   10 |             1 | b\n",
      "   10 |             1 | c\n",
      "   10 |             2 | a\n",
      "   10 |             2 | b\n",
      "   10 |             2 | c\n",
      "   10 |             3 | a\n",
      "   10 |             3 | b\n",
      "   10 |             3 | c\n",
      "    7 |             3 | a\n",
      "    7 |             3 | b\n",
      "    7 |             4 | a\n",
      "    7 |             4 | b\n",
      "    7 |             1 | a\n",
      "    7 |             1 | b\n",
      "(15 rows)\n",
      "\n"
     ]
    }
   ],
   "source": [
    "docker exec -i unnest_example_postgres psql -U postgres << EOF\n",
    "\n",
    "WITH \n",
    "example_table(col1, col2, col3) AS (\n",
    "    VALUES\n",
    "    (10, '{1,2,3}'::int[], '{\"a\", \"b\", \"c\"}'::text[]),\n",
    "    (7, '{3,4,1}'::int[], '{\"a\", \"b\"}'::text[])\n",
    ")\n",
    "\n",
    "SELECT col1, unnested_col2, UNNEST(col3) AS col3\n",
    "FROM example_table, UNNEST(col2) AS unnested_col2;\n",
    "EOF"
   ]
  }
 ],
 "metadata": {
  "kernelspec": {
   "display_name": "Bash",
   "language": "bash",
   "name": "bash"
  },
  "language_info": {
   "codemirror_mode": "shell",
   "file_extension": ".sh",
   "mimetype": "text/x-sh",
   "name": "bash"
  }
 },
 "nbformat": 4,
 "nbformat_minor": 5
}
