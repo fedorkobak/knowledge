{
 "cells": [
  {
   "cell_type": "markdown",
   "id": "9117e8e4-87a4-468e-a4cd-67d25b7c776d",
   "metadata": {},
   "source": [
    "# Aggregation functions\n",
    "\n",
    "Aggregation functions operate on arrays of data and produce a single numerical result."
   ]
  },
  {
   "cell_type": "markdown",
   "id": "0b3ecd38-0eb1-4ae3-b084-a97e572e9287",
   "metadata": {},
   "source": [
    "The next cell starts the container for the playground database."
   ]
  },
  {
   "cell_type": "code",
   "execution_count": 2,
   "id": "a11941a0-d8e1-4917-9c8f-9a8ad0f93df8",
   "metadata": {
    "vscode": {
     "languageId": "shellscript"
    }
   },
   "outputs": [],
   "source": [
    "docker run --rm -d\\\n",
    "    -e POSTGRES_PASSWORD=docker_app \\\n",
    "    --name aggregation_postgres_exmaples \\\n",
    "    postgres:15.4 &> /dev/null\n",
    "sleep 5"
   ]
  },
  {
   "cell_type": "markdown",
   "id": "5f19f20c-1293-48ee-a195-c6482da2c177",
   "metadata": {},
   "source": [
    "**Note** Don't forget to stop the container when you've finished playing with it."
   ]
  },
  {
   "cell_type": "code",
   "execution_count": 1,
   "id": "7fecb63a-67f4-43b2-9316-76db2ea71b01",
   "metadata": {
    "vscode": {
     "languageId": "shellscript"
    }
   },
   "outputs": [
    {
     "name": "stdout",
     "output_type": "stream",
     "text": [
      "aggregation_postgres_exmaples\n"
     ]
    }
   ],
   "source": [
    "docker stop aggregation_postgres_exmaples;"
   ]
  },
  {
   "cell_type": "markdown",
   "id": "f13fad51-50e1-48c6-a9c6-362e9752d093",
   "metadata": {},
   "source": [
    "## Logical operations (BOOL_OR, BOOL_AND)\n",
    "\n",
    "Sometimes you need to find out if all values of a boolean variable by group are true. For such cases you can use `boot_and` aggregation function. Also there is function `bool_or` if you need to get if any value by group is true."
   ]
  },
  {
   "cell_type": "markdown",
   "id": "395cd51e",
   "metadata": {},
   "source": [
    "---\n",
    "\n",
    "The following example presents a comprehensive list of all possible pairings between logical values and the functions we're exploting are applied to them. "
   ]
  },
  {
   "cell_type": "code",
   "execution_count": 11,
   "id": "fab0e9b9-d056-4b96-b67f-d62ffdc5c596",
   "metadata": {
    "vscode": {
     "languageId": "shellscript"
    }
   },
   "outputs": [
    {
     "name": "stdout",
     "output_type": "stream",
     "text": [
      " all_true_and | all_true_or | one_true1_and | one_true1_or | one_true2_and | one_true2_or | no_true_and | no_true_or \n",
      "--------------+-------------+---------------+--------------+---------------+--------------+-------------+------------\n",
      " t            | t           | f             | t            | f             | t            | f           | f\n",
      "(1 row)\n",
      "\n"
     ]
    }
   ],
   "source": [
    "docker exec -i aggregation_postgres_exmaples psql -U postgres << EOF\n",
    "SELECT\n",
    "    bool_and(all_true) AS all_true_and,\n",
    "    bool_or(all_true) AS all_true_or,\n",
    "    bool_and(one_true1) AS one_true1_and,\n",
    "    bool_or(one_true1) AS one_true1_or,\n",
    "    bool_and(one_true2) AS one_true2_and,\n",
    "    bool_or(one_true2) AS one_true2_or,\n",
    "    bool_and(no_true) AS no_true_and,\n",
    "    bool_and(no_true) AS no_true_or\n",
    "FROM (\n",
    "    VALUES \n",
    "        (TRUE, TRUE, FALSE, FALSE), \n",
    "        (TRUE, FALSE, TRUE, FALSE)\n",
    ") AS temp(all_true, one_true1, one_true2, no_true);\n",
    "EOF"
   ]
  },
  {
   "cell_type": "markdown",
   "id": "dcebc133-1c2b-45c5-a206-22142a21abf7",
   "metadata": {},
   "source": [
    "## Strings concatenations\n",
    "\n",
    "If you need to combine the values of a string variable into a single string, you can use the `string_agg(<column for concatenation>, <separator>)` aggregation function.  This function will output all the values in a single line, separated by the specified separator. "
   ]
  },
  {
   "cell_type": "markdown",
   "id": "4f01dc1b",
   "metadata": {},
   "source": [
    "---\n",
    "\n",
    "The following example concatenates strings 'one', 'two' and 'three'."
   ]
  },
  {
   "cell_type": "code",
   "execution_count": 14,
   "id": "dcefb9c6-03e7-4dbd-9999-5e189e3f85e6",
   "metadata": {
    "vscode": {
     "languageId": "shellscript"
    }
   },
   "outputs": [
    {
     "name": "stdout",
     "output_type": "stream",
     "text": [
      "   string_agg    \n",
      "-----------------\n",
      " one, two, three\n",
      "(1 row)\n",
      "\n"
     ]
    }
   ],
   "source": [
    "docker exec -i aggregation_postgres_exmaples psql -U postgres << EOF\n",
    "SELECT \n",
    "    string_agg(string_variable, ', ')\n",
    "FROM (\n",
    "    VALUES\n",
    "    ('one'), ('two'), ('three')\n",
    ") AS temp(string_variable)\n",
    "EOF"
   ]
  },
  {
   "cell_type": "markdown",
   "id": "6bf0c834",
   "metadata": {},
   "source": [
    "## Collect array\n",
    "\n",
    "There is a function that allows transforming a set of numbers into an array that fits in one cell of a table. In PostgreSQL, this can be done using the `array_agg` function."
   ]
  },
  {
   "cell_type": "markdown",
   "id": "aec1a1d8",
   "metadata": {},
   "source": [
    "---\n",
    "\n",
    "The following cell shows the application of the `array_agg` function to the `some_value` column, excluding a particular element from the array."
   ]
  },
  {
   "cell_type": "code",
   "execution_count": 2,
   "id": "ccf34c8f",
   "metadata": {
    "vscode": {
     "languageId": "shellscript"
    }
   },
   "outputs": [
    {
     "name": "stdout",
     "output_type": "stream",
     "text": [
      "      whole_array      | first_element | second_element | third_element \n",
      "-----------------------+---------------+----------------+---------------\n",
      " {4,3,3,1,3,3,3,5,5,1} |             4 |              3 |             3\n",
      "(1 row)\n",
      "\n"
     ]
    }
   ],
   "source": [
    "docker exec -i sql_functions_example psql -U postgres -d postgres << EOF\n",
    "SELECT \n",
    "    array_agg(some_value) whole_array,\n",
    "    (array_agg(some_value))[1] first_element,\n",
    "    (array_agg(some_value))[2] second_element,\n",
    "    (array_agg(some_value))[3] third_element\n",
    "FROM (\n",
    "    VALUES\n",
    "    (4), (3), (3), (1), (3), (3), (3), (5), (5), (1)\n",
    ") AS temp(some_value);\n",
    "EOF"
   ]
  }
 ],
 "metadata": {
  "kernelspec": {
   "display_name": "Bash",
   "language": "bash",
   "name": "bash"
  },
  "language_info": {
   "codemirror_mode": "shell",
   "file_extension": ".sh",
   "mimetype": "text/x-sh",
   "name": "bash"
  }
 },
 "nbformat": 4,
 "nbformat_minor": 5
}
