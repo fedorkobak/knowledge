{
 "cells": [
  {
   "cell_type": "markdown",
   "id": "a94df266-cc99-42a9-aa1c-c908b9caa3b9",
   "metadata": {},
   "source": [
    "# Fill empty (COALESCE/IFNULL)\n",
    "\n",
    "Sometimes tables contain empty values. But in some cases it's convenient to replace such values with a specific value. So in this section I'll show you some features of databases that can help you to do this."
   ]
  },
  {
   "cell_type": "markdown",
   "id": "b702bf6c-7367-48b2-8190-3eaca11e4a26",
   "metadata": {},
   "source": [
    "The next cell creates a docker container with postgres, which will be used for the experiments on this page."
   ]
  },
  {
   "cell_type": "code",
   "execution_count": 2,
   "id": "b0ea5468-6b1a-4d8e-8353-c38c830e5c49",
   "metadata": {},
   "outputs": [
    {
     "name": "stdout",
     "output_type": "stream",
     "text": [
      "CREATE TABLE\n",
      "INSERT 0 3\n"
     ]
    }
   ],
   "source": [
    "%%bash\n",
    "docker run --rm -d\\\n",
    "    -e POSTGRES_PASSWORD=postgres \\\n",
    "    --name fill_empty \\\n",
    "    postgres:15.4 &> /dev/null\n",
    "sleep 5\n",
    "docker exec -i fill_empty psql -U postgres -d postgres\n",
    "\n",
    "CREATE TABLE tab(\n",
    "    var1 TEXT,\n",
    "    var2 TEXT\n",
    ");\n",
    "INSERT INTO tab (var1, var2) VALUES\n",
    "(NULL, 'world'),\n",
    "('hello', NULL),\n",
    "(NULL, 'test line');"
   ]
  },
  {
   "cell_type": "markdown",
   "id": "8c642aaf-f6af-43ab-928c-d6a14c982050",
   "metadata": {},
   "source": [
    "Initial state of the table used for the experiment."
   ]
  },
  {
   "cell_type": "code",
   "execution_count": 3,
   "id": "0828afb4-92e0-40b0-bf16-e1b89b9106cf",
   "metadata": {},
   "outputs": [
    {
     "name": "stdout",
     "output_type": "stream",
     "text": [
      " var1  |   var2    \n",
      "-------+-----------\n",
      "       | world\n",
      " hello | \n",
      "       | test line\n",
      "(3 rows)\n",
      "\n"
     ]
    }
   ],
   "source": [
    "%%bash\n",
    "docker exec -i fill_empty psql -U postgres -d postgres\n",
    "SELECT * FROM tab;"
   ]
  },
  {
   "cell_type": "markdown",
   "id": "bea93c36-71a4-4506-a70e-30c97e8ff096",
   "metadata": {},
   "source": [
    "**Note** Don't forget to close the container when you have finished playing with the examples."
   ]
  },
  {
   "cell_type": "code",
   "execution_count": 1,
   "id": "131ba7f8-16cb-4b1e-b0af-6e309bc32ae0",
   "metadata": {},
   "outputs": [
    {
     "name": "stdout",
     "output_type": "stream",
     "text": [
      "fill_empty\n"
     ]
    }
   ],
   "source": [
    "!docker stop fill_empty"
   ]
  },
  {
   "cell_type": "markdown",
   "id": "e4699acf-7293-44dc-9e58-d97aabedc7c9",
   "metadata": {},
   "source": [
    "## In query\n",
    "\n",
    "It's a very common case when empty values have business sense, but in query results you need to replace them. So you can write `SELECT` to replace `NULL` in query results, this section is focused on it."
   ]
  },
  {
   "cell_type": "markdown",
   "id": "76624c6f-c9ed-4b8e-8c60-a4653dbae850",
   "metadata": {},
   "source": [
    "### Postgres (COALESCE)\n",
    "\n",
    "In postgres you have to use the `COALENCE` function. Use the syntax `COALESCE(<column name>, <value to replace>)`. So in the following cell such syntax is used to replace empty values."
   ]
  },
  {
   "cell_type": "code",
   "execution_count": 4,
   "id": "b6571e9c-1684-44c6-a024-d492457cc481",
   "metadata": {},
   "outputs": [
    {
     "name": "stdout",
     "output_type": "stream",
     "text": [
      "   var1   |   var2    \n",
      "----------+-----------\n",
      " NAN text | world\n",
      " hello    | NAN text\n",
      " NAN text | test line\n",
      "(3 rows)\n",
      "\n"
     ]
    }
   ],
   "source": [
    "%%bash\n",
    "docker exec -i fill_empty psql -U postgres -d postgres\n",
    "\n",
    "SELECT \n",
    "    COALESCE(var1, 'NAN text') var1,\n",
    "    COALESCE(var2, 'NAN text') var2\n",
    "FROM tab;"
   ]
  },
  {
   "cell_type": "markdown",
   "id": "d4237c8a-5d53-49c0-8e0c-d43b640dfddc",
   "metadata": {},
   "source": [
    "### Alternative (IFNULL)\n",
    "\n",
    "IFNULL is an alternative function that can be used to replace empty values in query statements."
   ]
  },
  {
   "cell_type": "markdown",
   "id": "4905eb7d-7d45-40b2-acfa-f82766a6c847",
   "metadata": {},
   "source": [
    "It's not supported by postgres. So to make sure, I'll show you in the following cell that there will be an error if you try to use it in postgres."
   ]
  },
  {
   "cell_type": "code",
   "execution_count": 5,
   "id": "aacaed67-8f3d-4465-922c-467a171a0a96",
   "metadata": {},
   "outputs": [
    {
     "name": "stderr",
     "output_type": "stream",
     "text": [
      "ERROR:  function ifnull(text, unknown) does not exist\n",
      "LINE 2:     IFNULL(var1, 'NAN text') var1,\n",
      "            ^\n",
      "HINT:  No function matches the given name and argument types. You might need to add explicit type casts.\n"
     ]
    }
   ],
   "source": [
    "%%bash\n",
    "docker exec -i fill_empty psql -U postgres -d postgres\n",
    "SELECT \n",
    "    IFNULL(var1, 'NAN text') var1,\n",
    "    IFNULL(var2, 'NAN text') var2\n",
    "FROM tab;"
   ]
  },
  {
   "cell_type": "markdown",
   "id": "716200a5-2b1f-4896-a1d1-94f26dc518cc",
   "metadata": {},
   "source": [
    "So I will use sqlite base to demonstrate how IFNULL works. In the following example is the process of creating sample database."
   ]
  },
  {
   "cell_type": "code",
   "execution_count": 13,
   "id": "2415136a-7a5b-4499-98a8-d3dabbfa61cb",
   "metadata": {},
   "outputs": [],
   "source": [
    "%%bash\n",
    "sqlite3 fill_empty_files/dump.sql\n",
    "\n",
    "CREATE TABLE IF NOT EXISTS tab (\n",
    "    var1 TEXT,\n",
    "    var2 TEXT\n",
    ");\n",
    "DELETE FROM tab;\n",
    "INSERT INTO tab (var1, var2) VALUES\n",
    "(NULL, 'world'),\n",
    "('hello', NULL),\n",
    "(NULL, 'test line');"
   ]
  },
  {
   "cell_type": "markdown",
   "id": "d812d322-7170-4248-abd8-a1ff503929ed",
   "metadata": {},
   "source": [
    "Here is what the query to the example database looks like, without any of the tricks involved in replacing values."
   ]
  },
  {
   "cell_type": "code",
   "execution_count": 16,
   "id": "7ce53e15-d5ad-4587-b3d3-015530328899",
   "metadata": {},
   "outputs": [
    {
     "name": "stdout",
     "output_type": "stream",
     "text": [
      "|world\n",
      "hello|\n",
      "|test line\n"
     ]
    }
   ],
   "source": [
    "%%bash\n",
    "sqlite3 fill_empty_files/dump.sql\n",
    "\n",
    "SELECT * FROM tab;"
   ]
  },
  {
   "cell_type": "markdown",
   "id": "4e13bb7c-5984-43a2-9ec0-6c347e47b4c2",
   "metadata": {},
   "source": [
    "The syntax is exactly the same as for `COALESCE`: `IFNULL(<column name>, <value to replace>)`.\n",
    "\n",
    "Actually, sqlite supports both `COALESCE` and `IFNULL`, so in the following example both have been used to replace empty values in different columns."
   ]
  },
  {
   "cell_type": "code",
   "execution_count": 15,
   "id": "3aa325b0-7cb4-4441-8ecf-e2b45e67a882",
   "metadata": {},
   "outputs": [
    {
     "name": "stdout",
     "output_type": "stream",
     "text": [
      "replaced by IFNULL|world\n",
      "hello|relaced by COALESCE\n",
      "replaced by IFNULL|test line\n"
     ]
    }
   ],
   "source": [
    "%%bash\n",
    "sqlite3 fill_empty_files/dump.sql\n",
    "\n",
    "SELECT \n",
    "    IFNULL(var1, 'replaced by IFNULL') var1,\n",
    "    COALESCE(var2, 'relaced by COALESCE') var2\n",
    "FROM tab;"
   ]
  },
  {
   "cell_type": "markdown",
   "id": "61086da7-1bc0-4e10-a384-62696159fd86",
   "metadata": {},
   "source": [
    "## Change base"
   ]
  },
  {
   "cell_type": "markdown",
   "id": "1c62d2aa-5d24-464f-b3a2-0d1d5abe83d2",
   "metadata": {},
   "source": [
    "Sometimes empty values in database appear as errors or business sense of data table can be selected. So you can face with case when you need to replace all values in the database, not only in the results of the specific query.\n",
    "\n",
    "For such purpose you can use syntax:\n",
    "\n",
    "```\n",
    "UPDATE <table_name>\n",
    "SET <column name> = <replace value>\n",
    "WHERE <column name> IS NULL;\n",
    "```\n",
    "\n",
    "The following cell uses such syntax to replace some empty values."
   ]
  },
  {
   "cell_type": "code",
   "execution_count": 17,
   "id": "8274f8d0-ac08-40a5-9704-094969b9bf17",
   "metadata": {},
   "outputs": [
    {
     "name": "stdout",
     "output_type": "stream",
     "text": [
      "UPDATE 2\n"
     ]
    }
   ],
   "source": [
    "%%bash\n",
    "docker exec -i fill_empty psql -U postgres -d postgres\n",
    "\n",
    "UPDATE tab\n",
    "SET var1 = 'replaced'\n",
    "WHERE var1 IS NULL;"
   ]
  },
  {
   "cell_type": "markdown",
   "id": "7facd4e9-bfa6-40c6-8655-cc9221f536bf",
   "metadata": {},
   "source": [
    "Let's see the result of the transformation."
   ]
  },
  {
   "cell_type": "code",
   "execution_count": 18,
   "id": "89731611-025a-4ed8-b024-26e91cb00efa",
   "metadata": {},
   "outputs": [
    {
     "name": "stdout",
     "output_type": "stream",
     "text": [
      "   var1   |   var2    \n",
      "----------+-----------\n",
      " hello    | \n",
      " replaced | world\n",
      " replaced | test line\n",
      "(3 rows)\n",
      "\n"
     ]
    }
   ],
   "source": [
    "%%bash\n",
    "docker exec -i fill_empty psql -U postgres -d postgres\n",
    "SELECT * FROM tab;"
   ]
  }
 ],
 "metadata": {
  "kernelspec": {
   "display_name": "Python 3 (ipykernel)",
   "language": "python",
   "name": "python3"
  },
  "language_info": {
   "codemirror_mode": {
    "name": "ipython",
    "version": 3
   },
   "file_extension": ".py",
   "mimetype": "text/x-python",
   "name": "python",
   "nbconvert_exporter": "python",
   "pygments_lexer": "ipython3",
   "version": "3.10.12"
  }
 },
 "nbformat": 4,
 "nbformat_minor": 5
}
