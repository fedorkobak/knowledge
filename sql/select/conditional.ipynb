{
 "cells": [
  {
   "cell_type": "markdown",
   "id": "8ec7c036-f0a9-46fc-acd4-de20b0d4baed",
   "metadata": {},
   "source": [
    "# Conditional (CASE)\n",
    "\n",
    "Source - <a href=\"https://www.commandprompt.com/education/postgresql-conditional-select-with-examples/\">commandprompt.com</a>.\n",
    "\n",
    "\n",
    "Conditional SELECT allows you to define which values you get for certain cases in data values. In general, you can use something like this inside a `SELECT` block:\n",
    "\n",
    "```\n",
    "CASE\n",
    "WHEN <condition 1> THEN <result 1>\n",
    "WHEN <condition 2> THEN <result 2>\n",
    "…\n",
    "WHEN <condition n> THEN <result n>\n",
    "ELSE <else result>\n",
    "END\n",
    "```\n",
    "\n",
    "**Note** `ELSE` block is optional."
   ]
  },
  {
   "cell_type": "code",
   "execution_count": 8,
   "id": "38d444d0-504e-477a-8d97-f9cbd3058113",
   "metadata": {},
   "outputs": [
    {
     "name": "stdout",
     "output_type": "stream",
     "text": [
      "CREATE TABLE\n",
      "INSERT 0 3\n",
      " var1 | var2 | var3 \n",
      "------+------+------\n",
      "    1 |    2 | foo\n",
      "    4 |    5 | bar\n",
      "    2 |    3 | bar\n",
      "(3 rows)\n",
      "\n"
     ]
    }
   ],
   "source": [
    "%%bash\n",
    "docker run --rm -d\\\n",
    "    -e POSTGRES_PASSWORD=docker_app \\\n",
    "    --name conditional_postgres_exmaples \\\n",
    "    postgres:15.4 &> /dev/null\n",
    "sleep 5\n",
    "docker exec -i conditional_postgres_exmaples psql -U postgres -d postgres\n",
    "\n",
    "CREATE TABLE tab (\n",
    "    var1 INT,\n",
    "    var2 INT,\n",
    "    var3 TEXT\n",
    ");\n",
    "\n",
    "INSERT INTO tab (var1, var2, var3) VALUES\n",
    "(1, 2, 'foo'),\n",
    "(4, 5, 'bar'),\n",
    "(2, 3, 'bar');\n",
    "\n",
    "SELECT * FROM tab;"
   ]
  },
  {
   "cell_type": "markdown",
   "id": "e7d3c4ab-e7ee-45ef-83b9-9e90e5501ec3",
   "metadata": {},
   "source": [
    "In my opinion, the most popular cases for this operation are the categorisation of numerical variables and the replacement of categorical variables. So in the following cell such operations are performed."
   ]
  },
  {
   "cell_type": "code",
   "execution_count": 20,
   "id": "2865985b-682c-4ea0-812a-70d66ed468f7",
   "metadata": {},
   "outputs": [
    {
     "name": "stdout",
     "output_type": "stream",
     "text": [
      " num_to_cat | replace \n",
      "------------+---------\n",
      " <=5        | new foo\n",
      " >5         | new bar\n",
      " <=5        | new bar\n",
      "(3 rows)\n",
      "\n"
     ]
    }
   ],
   "source": [
    "%%bash\n",
    "docker exec -i conditional_postgres_exmaples psql -U postgres -d postgres\n",
    "SELECT\n",
    "    CASE\n",
    "        WHEN var1+var2 > 5 THEN '>5'\n",
    "        ELSE '<=5'\n",
    "    END num_to_cat,\n",
    "    CASE\n",
    "        WHEN var3='foo' THEN 'new foo'\n",
    "        WHEN var3='bar' THEN 'new bar'\n",
    "    END replace\n",
    "FROM tab;"
   ]
  },
  {
   "cell_type": "markdown",
   "id": "cc396a7a-85bb-40d2-859a-ebfbfc3a7cd3",
   "metadata": {},
   "source": [
    "**Note** Don't forget to stop the container when you've finished playing with it."
   ]
  },
  {
   "cell_type": "code",
   "execution_count": 7,
   "id": "c7200d12-26e4-4e51-b0c0-0d1b51c352a2",
   "metadata": {},
   "outputs": [
    {
     "name": "stdout",
     "output_type": "stream",
     "text": [
      "conditional_postgres_exmaples\n"
     ]
    }
   ],
   "source": [
    "%%bash\n",
    "docker stop conditional_postgres_exmaples;"
   ]
  }
 ],
 "metadata": {
  "kernelspec": {
   "display_name": "Python 3 (ipykernel)",
   "language": "python",
   "name": "python3"
  },
  "language_info": {
   "codemirror_mode": {
    "name": "ipython",
    "version": 3
   },
   "file_extension": ".py",
   "mimetype": "text/x-python",
   "name": "python",
   "nbconvert_exporter": "python",
   "pygments_lexer": "ipython3",
   "version": "3.10.12"
  }
 },
 "nbformat": 4,
 "nbformat_minor": 5
}
