{
 "cells": [
  {
   "cell_type": "markdown",
   "metadata": {},
   "source": [
    "# Functions\n",
    "\n",
    "This page describes the different types of window functions, discusses the specifics of each group, and illustrates the key features in practice."
   ]
  },
  {
   "cell_type": "markdown",
   "metadata": {},
   "source": [
    "## Value\n",
    "\n",
    "Value window functions (*рус. функции смещения*) allow each row in a group to access a value from another row within the same group. The following table shows the basic window functions.\n",
    "\n",
    "| Function            | Description                                             |\n",
    "| ------------------- | ------------------------------------------------------- |\n",
    "| `LAG(column, n)`    | Returns the value from `n` rows before the current row. |\n",
    "| `LEAD(column, n)`   | Returns the value from `n` rows after the current row.  |\n",
    "| `FIRST_VALUE()`     | Returns the first value in the window frame.            |\n",
    "| `LAST_VALUE()`      | Returns the last value in the window frame.             |\n",
    "| `NTH_VALUE(col, n)` | Returns the `n`-th value in the window frame.           |\n",
    "\n",
    "For more details on the value functions in SQL, check out the [value](functions/value.ipynb) page."
   ]
  },
  {
   "cell_type": "markdown",
   "metadata": {},
   "source": [
    "---\n",
    "\n",
    "The following cell shows how value window functions works in the postgreSQL."
   ]
  },
  {
   "cell_type": "code",
   "execution_count": 1,
   "metadata": {},
   "outputs": [
    {
     "name": "stdout",
     "output_type": "stream",
     "text": [
      "SELECT 8\n"
     ]
    },
    {
     "data": {
      "text/html": [
       "<table>\n",
       "<thead>\n",
       "<tr><th style=\"text-align: right;\">  order</th><th>group  </th><th style=\"text-align: right;\">  value</th><th style=\"text-align: right;\">  lag</th><th style=\"text-align: right;\">  lead</th><th style=\"text-align: right;\">  first_value</th><th style=\"text-align: right;\">  last_value</th><th style=\"text-align: right;\">  nth_value</th></tr>\n",
       "</thead>\n",
       "<tbody>\n",
       "<tr><td style=\"text-align: right;\">      3</td><td>A      </td><td style=\"text-align: right;\">      5</td><td style=\"text-align: right;\">     </td><td style=\"text-align: right;\">     8</td><td style=\"text-align: right;\">            5</td><td style=\"text-align: right;\">           5</td><td style=\"text-align: right;\">           </td></tr>\n",
       "<tr><td style=\"text-align: right;\">      7</td><td>A      </td><td style=\"text-align: right;\">      8</td><td style=\"text-align: right;\">    5</td><td style=\"text-align: right;\">      </td><td style=\"text-align: right;\">            5</td><td style=\"text-align: right;\">           8</td><td style=\"text-align: right;\">          8</td></tr>\n",
       "<tr><td style=\"text-align: right;\">      1</td><td>B      </td><td style=\"text-align: right;\">      3</td><td style=\"text-align: right;\">     </td><td style=\"text-align: right;\">     2</td><td style=\"text-align: right;\">            3</td><td style=\"text-align: right;\">           3</td><td style=\"text-align: right;\">           </td></tr>\n",
       "<tr><td style=\"text-align: right;\">      3</td><td>B      </td><td style=\"text-align: right;\">      2</td><td style=\"text-align: right;\">    3</td><td style=\"text-align: right;\">     7</td><td style=\"text-align: right;\">            3</td><td style=\"text-align: right;\">           2</td><td style=\"text-align: right;\">          2</td></tr>\n",
       "<tr><td style=\"text-align: right;\">      6</td><td>B      </td><td style=\"text-align: right;\">      7</td><td style=\"text-align: right;\">    2</td><td style=\"text-align: right;\">      </td><td style=\"text-align: right;\">            3</td><td style=\"text-align: right;\">           7</td><td style=\"text-align: right;\">          2</td></tr>\n",
       "<tr><td style=\"text-align: right;\">      3</td><td>C      </td><td style=\"text-align: right;\">      1</td><td style=\"text-align: right;\">     </td><td style=\"text-align: right;\">     4</td><td style=\"text-align: right;\">            1</td><td style=\"text-align: right;\">           1</td><td style=\"text-align: right;\">           </td></tr>\n",
       "<tr><td style=\"text-align: right;\">      4</td><td>C      </td><td style=\"text-align: right;\">      4</td><td style=\"text-align: right;\">    1</td><td style=\"text-align: right;\">     6</td><td style=\"text-align: right;\">            1</td><td style=\"text-align: right;\">           4</td><td style=\"text-align: right;\">          4</td></tr>\n",
       "<tr><td style=\"text-align: right;\">      5</td><td>C      </td><td style=\"text-align: right;\">      6</td><td style=\"text-align: right;\">    4</td><td style=\"text-align: right;\">      </td><td style=\"text-align: right;\">            1</td><td style=\"text-align: right;\">           6</td><td style=\"text-align: right;\">          4</td></tr>\n",
       "</tbody>\n",
       "</table>"
      ],
      "text/latex": [
       "\\begin{tabular}{rlrrrrrr}\n",
       "\\toprule\n",
       "   order & group   &   value &   lag &   lead &   first\\_value &   last\\_value &   nth\\_value \\\\\n",
       "\\midrule\n",
       "       3 & A       &       5 &       &      8 &             5 &            5 &             \\\\\n",
       "       7 & A       &       8 &     5 &        &             5 &            8 &           8 \\\\\n",
       "       1 & B       &       3 &       &      2 &             3 &            3 &             \\\\\n",
       "       3 & B       &       2 &     3 &      7 &             3 &            2 &           2 \\\\\n",
       "       6 & B       &       7 &     2 &        &             3 &            7 &           2 \\\\\n",
       "       3 & C       &       1 &       &      4 &             1 &            1 &             \\\\\n",
       "       4 & C       &       4 &     1 &      6 &             1 &            4 &           4 \\\\\n",
       "       5 & C       &       6 &     4 &        &             1 &            6 &           4 \\\\\n",
       "\\bottomrule\n",
       "\\end{tabular}"
      ],
      "text/plain": [
       "  order  group      value    lag    lead    first_value    last_value    nth_value\n",
       "-------  -------  -------  -----  ------  -------------  ------------  -----------\n",
       "      3  A              5              8              5             5\n",
       "      7  A              8      5                      5             8            8\n",
       "      1  B              3              2              3             3\n",
       "      3  B              2      3       7              3             2            2\n",
       "      6  B              7      2                      3             7            2\n",
       "      3  C              1              4              1             1\n",
       "      4  C              4      1       6              1             4            4\n",
       "      5  C              6      4                      1             6            4"
      ]
     },
     "metadata": {},
     "output_type": "display_data"
    }
   ],
   "source": [
    "--postgreSQL\n",
    "SELECT\n",
    "    *,\n",
    "    LAG(\"value\", 1) OVER (PARTITION BY \"group\" ORDER BY \"order\"),\n",
    "    LEAD(\"value\", 1) OVER (PARTITION BY \"group\" ORDER BY \"order\"),\n",
    "    FIRST_VALUE(\"value\") OVER (PARTITION BY \"group\" ORDER BY \"order\"),\n",
    "    LAST_VALUE(\"value\") OVER (PARTITION BY \"group\" ORDER BY \"order\"),\n",
    "    NTH_VALUE(\"value\", 2) OVER (PARTITION BY \"group\" ORDER BY \"order\")\n",
    "FROM (\n",
    "    VALUES\n",
    "    (3, 'C', 1),\n",
    "    (3, 'B', 2),\n",
    "    (1, 'B', 3),\n",
    "    (4, 'C', 4),\n",
    "    (3, 'A', 5),\n",
    "    (5, 'C', 6),\n",
    "    (6, 'B', 7),\n",
    "    (7, 'A', 8)\n",
    ") AS temp(\"order\", \"group\", \"value\");"
   ]
  }
 ],
 "metadata": {
  "kernelspec": {
   "display_name": "UniversalSQL",
   "language": "SQL",
   "name": "universal_sql"
  },
  "language_info": {
   "file_extentions": ".sql",
   "mimetype": "text/plain",
   "name": "sql"
  }
 },
 "nbformat": 4,
 "nbformat_minor": 2
}
