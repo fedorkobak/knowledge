{
 "cells": [
  {
   "cell_type": "markdown",
   "metadata": {},
   "source": [
    "# Functions\n",
    "\n",
    "This page specifically focuses on examining functions in SQL that are exclusively designed for use with window functions. "
   ]
  },
  {
   "cell_type": "markdown",
   "metadata": {},
   "source": [
    "---\n",
    "\n",
    "The following cell sets up a Docker container with SQL that we'll use as an example. "
   ]
  },
  {
   "cell_type": "code",
   "execution_count": 9,
   "metadata": {
    "vscode": {
     "languageId": "shellscript"
    }
   },
   "outputs": [
    {
     "name": "stdout",
     "output_type": "stream",
     "text": [
      "CREATE TABLE\n",
      "INSERT 0 25\n",
      " some_value | group | group2 \n",
      "------------+-------+--------\n",
      "          3 | C     | X\n",
      "          3 | C     | Y\n",
      "          1 | C     | X\n",
      "          4 | B     | Y\n",
      "          3 | A     | X\n",
      "(5 rows)\n",
      "\n"
     ]
    }
   ],
   "source": [
    "docker run -d --rm\\\n",
    "    --name window_functions_example\\\n",
    "    -e POSTGRES_PASSWORD=postgres\\\n",
    "    postgres:15.4 &> /dev/null\n",
    "sleep 5\n",
    "\n",
    "docker exec -i window_functions_example psql -U postgres -d postgres << EOF\n",
    "CREATE TABLE example_table (\n",
    "    some_value INT NOT NULL,\n",
    "    \"group\" TEXT NOT NULL,\n",
    "    group2 TEXT NOT NULL\n",
    ");\n",
    "INSERT INTO example_table (some_value, \"group\", group2) VALUES\n",
    "(3, 'C', 'X'),\n",
    "(3, 'C', 'Y'),\n",
    "(1, 'C', 'X'),\n",
    "(4, 'B', 'Y'),\n",
    "(3, 'A', 'X'),\n",
    "(1, 'D', 'Y'),\n",
    "(2, 'A', 'Z'),\n",
    "(4, 'A', 'X'),\n",
    "(2, 'A', 'X'),\n",
    "(0, 'D', 'X'),\n",
    "(1, 'D', 'Y'),\n",
    "(4, 'A', 'Y'),\n",
    "(4, 'B', 'Z'),\n",
    "(0, 'D', 'X'),\n",
    "(0, 'D', 'Z'),\n",
    "(0, 'D', 'X'),\n",
    "(2, 'D', 'Y'),\n",
    "(4, 'C', 'Z'),\n",
    "(4, 'A', 'X'),\n",
    "(2, 'B', 'X'),\n",
    "(3, 'A', 'Z'),\n",
    "(1, 'C', 'Y'),\n",
    "(3, 'D', 'X'),\n",
    "(2, 'A', 'X'),\n",
    "(4, 'B', 'X');\n",
    "\n",
    "SELECT * FROM example_table LIMIT 5;\n",
    "EOF"
   ]
  },
  {
   "cell_type": "markdown",
   "metadata": {},
   "source": [
    "**Note** don't forget to stop container after all."
   ]
  },
  {
   "cell_type": "code",
   "execution_count": 14,
   "metadata": {
    "vscode": {
     "languageId": "shellscript"
    }
   },
   "outputs": [
    {
     "name": "stdout",
     "output_type": "stream",
     "text": [
      "window_functions_example\n"
     ]
    }
   ],
   "source": [
    "docker stop window_functions_example"
   ]
  },
  {
   "cell_type": "markdown",
   "metadata": {},
   "source": [
    "## Values shifting (LAG/LEAD)\n",
    "\n",
    "You can shift values over the window by using `LAG` functions for shifting down and `LEAD` funtions for shifting up."
   ]
  },
  {
   "cell_type": "markdown",
   "metadata": {},
   "source": [
    "---\n",
    "\n",
    "The following cell demonstrates the application of the `LAG` and `LEAD` functions to our example."
   ]
  },
  {
   "cell_type": "code",
   "execution_count": 10,
   "metadata": {
    "vscode": {
     "languageId": "shellscript"
    }
   },
   "outputs": [
    {
     "name": "stdout",
     "output_type": "stream",
     "text": [
      " group | lag_step_1 | lead_step_1 | lag_step3 | lag_step3 \n",
      "-------+------------+-------------+-----------+-----------\n",
      " C     |            | C           |           | B\n",
      " C     | C          | C           |           | A\n",
      " C     | C          | B           |           | D\n",
      " B     | C          | A           | C         | A\n",
      " A     | B          | D           | C         | A\n",
      " D     | A          | A           | C         | A\n",
      " A     | D          | A           | B         | D\n",
      " A     | A          | A           | A         | D\n",
      " A     | A          | D           | D         | A\n",
      " D     | A          | D           | A         | B\n",
      " D     | D          | A           | A         | D\n",
      " A     | D          | B           | A         | D\n",
      " B     | A          | D           | D         | D\n",
      " D     | B          | D           | D         | D\n",
      " D     | D          | D           | A         | C\n",
      " D     | D          | D           | B         | A\n",
      " D     | D          | C           | D         | B\n",
      " C     | D          | A           | D         | A\n",
      " A     | C          | B           | D         | C\n",
      " B     | A          | A           | D         | D\n",
      " A     | B          | C           | C         | A\n",
      " C     | A          | D           | A         | B\n",
      " D     | C          | A           | B         | \n",
      " A     | D          | B           | A         | \n",
      " B     | A          |             | C         | \n",
      "(25 rows)\n",
      "\n"
     ]
    }
   ],
   "source": [
    "docker exec -i window_functions_example psql -U postgres -d postgres << EOF\n",
    "SELECT \n",
    "    \"group\",\n",
    "    LAG(\"group\") OVER () lag_step_1,\n",
    "    LEAD(\"group\") OVER () lead_step_1,\n",
    "    LAG(\"group\", 3) OVER () lag_step3,\n",
    "    LEAD(\"group\", 3) OVER () lag_step3\n",
    "FROM example_table;\n",
    "EOF"
   ]
  },
  {
   "cell_type": "markdown",
   "metadata": {},
   "source": [
    "The result of applying `LAG` and `LEAD` produces new variables that can be represented as:\n",
    "\n",
    "- For `LAG`:  $x'_i = x_{i-s}$ \n",
    "- For `LEAD`: $x'_i=x_{i+s}$\n",
    "\n",
    "Where:\n",
    "\n",
    "-  $i$ position of the row during generaiton.\n",
    "-  $x_i$ is the original group value at the $i$-th position.\n",
    "-  $s$ is the step value specified as the second argument of the function. "
   ]
  },
  {
   "cell_type": "markdown",
   "metadata": {},
   "source": [
    "### Partition by\n",
    "\n",
    "If you include a `PARTITION BY` clause with the `LAG` window function, it will define groups of values within which the shifting operation will take place."
   ]
  },
  {
   "cell_type": "markdown",
   "metadata": {},
   "source": [
    "---\n",
    "\n",
    "This example demonstrates shifting the `group` values within groups defined by `group2`. "
   ]
  },
  {
   "cell_type": "code",
   "execution_count": 13,
   "metadata": {
    "vscode": {
     "languageId": "shellscript"
    }
   },
   "outputs": [
    {
     "name": "stdout",
     "output_type": "stream",
     "text": [
      " group | group2 | lag \n",
      "-------+--------+-----\n",
      " C     | X      | \n",
      " C     | X      | C\n",
      " A     | X      | C\n",
      " A     | X      | A\n",
      " A     | X      | A\n",
      " D     | X      | A\n",
      " D     | X      | D\n",
      " D     | X      | D\n",
      " A     | X      | D\n",
      " B     | X      | A\n",
      " D     | X      | B\n",
      " A     | X      | D\n",
      " B     | X      | A\n",
      " C     | Y      | \n",
      " D     | Y      | C\n",
      " C     | Y      | D\n",
      " D     | Y      | C\n",
      " D     | Y      | D\n",
      " A     | Y      | D\n",
      " B     | Y      | A\n",
      " A     | Z      | \n",
      " C     | Z      | A\n",
      " D     | Z      | C\n",
      " B     | Z      | D\n",
      " A     | Z      | B\n",
      "(25 rows)\n",
      "\n"
     ]
    }
   ],
   "source": [
    "docker exec -i window_functions_example psql -U postgres -d postgres << EOF\n",
    "SELECT \n",
    "    \"group\", group2,\n",
    "    LAG(\"group\") OVER (PARTITION BY group2)\n",
    "FROM example_table;\n",
    "EOF"
   ]
  },
  {
   "cell_type": "markdown",
   "metadata": {},
   "source": [
    "The result demonstrates that the values were shifted only within their respective groups (windows) defined by `group2`."
   ]
  }
 ],
 "metadata": {
  "kernelspec": {
   "display_name": "Bash",
   "language": "bash",
   "name": "bash"
  },
  "language_info": {
   "codemirror_mode": "shell",
   "file_extension": ".sh",
   "mimetype": "text/x-sh",
   "name": "bash"
  }
 },
 "nbformat": 4,
 "nbformat_minor": 2
}
