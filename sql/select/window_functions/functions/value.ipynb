{
 "cells": [
  {
   "cell_type": "markdown",
   "id": "993c919c",
   "metadata": {},
   "source": [
    "# Value\n",
    "\n",
    "This page focuses on the value window functions."
   ]
  },
  {
   "cell_type": "markdown",
   "id": "a1a443d3",
   "metadata": {},
   "source": [
    "## Values shifting (LAG/LEAD)\n",
    "\n",
    "You can shift values over the window by using `LAG` functions for shifting down and `LEAD` funtions for shifting up. Find out more in the [specific page](functions/values_shifting_lag_lead.ipynb)."
   ]
  },
  {
   "cell_type": "markdown",
   "id": "23c59659",
   "metadata": {},
   "source": [
    "---\n",
    "\n",
    "The following cell demonstrates the application of the `LAG` and `LEAD` functions to our example."
   ]
  },
  {
   "cell_type": "code",
   "execution_count": null,
   "id": "f30b5ea1",
   "metadata": {
    "vscode": {
     "languageId": "sql"
    }
   },
   "outputs": [
    {
     "name": "stdout",
     "output_type": "stream",
     "text": [
      "SELECT 6\n"
     ]
    },
    {
     "data": {
      "text/html": [
       "<table>\n",
       "<thead>\n",
       "<tr><th>group  </th><th>lag_step_1  </th><th>lead_step_1  </th><th>lag_step3  </th><th>lag_step3  </th></tr>\n",
       "</thead>\n",
       "<tbody>\n",
       "<tr><td>C      </td><td>            </td><td>C            </td><td>           </td><td>B          </td></tr>\n",
       "<tr><td>C      </td><td>C           </td><td>C            </td><td>           </td><td>A          </td></tr>\n",
       "<tr><td>C      </td><td>C           </td><td>B            </td><td>           </td><td>D          </td></tr>\n",
       "<tr><td>B      </td><td>C           </td><td>A            </td><td>C          </td><td>           </td></tr>\n",
       "<tr><td>A      </td><td>B           </td><td>D            </td><td>C          </td><td>           </td></tr>\n",
       "<tr><td>D      </td><td>A           </td><td>             </td><td>C          </td><td>           </td></tr>\n",
       "</tbody>\n",
       "</table>"
      ],
      "text/latex": [
       "\\begin{tabular}{lllll}\n",
       "\\toprule\n",
       " group   & lag\\_step\\_1   & lead\\_step\\_1   & lag\\_step3   & lag\\_step3   \\\\\n",
       "\\midrule\n",
       " C       &              & C             &             & B           \\\\\n",
       " C       & C            & C             &             & A           \\\\\n",
       " C       & C            & B             &             & D           \\\\\n",
       " B       & C            & A             & C           &             \\\\\n",
       " A       & B            & D             & C           &             \\\\\n",
       " D       & A            &               & C           &             \\\\\n",
       "\\bottomrule\n",
       "\\end{tabular}"
      ],
      "text/plain": [
       "group    lag_step_1    lead_step_1    lag_step3    lag_step3\n",
       "-------  ------------  -------------  -----------  -----------\n",
       "C                      C                           B\n",
       "C        C             C                           A\n",
       "C        C             B                           D\n",
       "B        C             A              C\n",
       "A        B             D              C\n",
       "D        A                            C"
      ]
     },
     "metadata": {},
     "output_type": "display_data"
    }
   ],
   "source": [
    "--postgreSQL\n",
    "SELECT \n",
    "    \"group\",\n",
    "    LAG(\"group\") OVER () lag_step_1,\n",
    "    LEAD(\"group\") OVER () lead_step_1,\n",
    "    LAG(\"group\", 3) OVER () lag_step3,\n",
    "    LEAD(\"group\", 3) OVER () lag_step3\n",
    "FROM (\n",
    "    VALUES\n",
    "    (3, 'C', 'X'),\n",
    "    (3, 'C', 'Y'),\n",
    "    (1, 'C', 'X'),\n",
    "    (4, 'B', 'Y'),\n",
    "    (3, 'A', 'X'),\n",
    "    (1, 'D', 'Y')\n",
    ") AS temp(some_value, \"group\", group2);"
   ]
  },
  {
   "cell_type": "markdown",
   "id": "fbf2f269",
   "metadata": {},
   "source": [
    "The result of applying `LAG` and `LEAD` produces new variables that can be represented as:\n",
    "\n",
    "- For `LAG`:  $x'_i = x_{i-s}$ \n",
    "- For `LEAD`: $x'_i=x_{i+s}$\n",
    "\n",
    "Where:\n",
    "\n",
    "-  $i$ position of the row during generaiton.\n",
    "-  $x_i$ is the original group value at the $i$-th position.\n",
    "-  $s$ is the step value specified as the second argument of the function. "
   ]
  },
  {
   "cell_type": "markdown",
   "id": "df78cc3c",
   "metadata": {},
   "source": [
    "## First/last value\n",
    "\n",
    "The `FIRST_VALUE` and `LAST_VALUE` window functions retrieve the first and last values, respectively, within a partition of a result set."
   ]
  },
  {
   "cell_type": "markdown",
   "id": "4944385f",
   "metadata": {},
   "source": [
    "---\n",
    "\n",
    "The followin cell shows using `FIRST_VALUE` for `group` and `LAST_VALUE` for `first_group2`."
   ]
  },
  {
   "cell_type": "code",
   "execution_count": null,
   "id": "7931bf1a",
   "metadata": {
    "vscode": {
     "languageId": "sql"
    }
   },
   "outputs": [
    {
     "name": "stdout",
     "output_type": "stream",
     "text": [
      "SELECT 6\n"
     ]
    },
    {
     "data": {
      "text/html": [
       "<table>\n",
       "<thead>\n",
       "<tr><th>first_group  </th><th>last_group2  </th></tr>\n",
       "</thead>\n",
       "<tbody>\n",
       "<tr><td>C            </td><td>Y            </td></tr>\n",
       "<tr><td>C            </td><td>Y            </td></tr>\n",
       "<tr><td>C            </td><td>Y            </td></tr>\n",
       "<tr><td>C            </td><td>Y            </td></tr>\n",
       "<tr><td>C            </td><td>Y            </td></tr>\n",
       "<tr><td>C            </td><td>Y            </td></tr>\n",
       "</tbody>\n",
       "</table>"
      ],
      "text/latex": [
       "\\begin{tabular}{ll}\n",
       "\\toprule\n",
       " first\\_group   & last\\_group2   \\\\\n",
       "\\midrule\n",
       " C             & Y             \\\\\n",
       " C             & Y             \\\\\n",
       " C             & Y             \\\\\n",
       " C             & Y             \\\\\n",
       " C             & Y             \\\\\n",
       " C             & Y             \\\\\n",
       "\\bottomrule\n",
       "\\end{tabular}"
      ],
      "text/plain": [
       "first_group    last_group2\n",
       "-------------  -------------\n",
       "C              Y\n",
       "C              Y\n",
       "C              Y\n",
       "C              Y\n",
       "C              Y\n",
       "C              Y"
      ]
     },
     "metadata": {},
     "output_type": "display_data"
    }
   ],
   "source": [
    "--postgreSQL\n",
    "SELECT \n",
    "    FIRST_VALUE(\"group\") OVER () first_group,\n",
    "    LAST_VALUE(group2) OVER () last_group2\n",
    "FROM (\n",
    "    VALUES\n",
    "    (3, 'C', 'X'),\n",
    "    (3, 'C', 'Y'),\n",
    "    (1, 'C', 'X'),\n",
    "    (4, 'B', 'Y'),\n",
    "    (3, 'A', 'X'),\n",
    "    (1, 'D', 'Y')\n",
    ") AS temp(some_value, \"group\", group2);"
   ]
  },
  {
   "cell_type": "markdown",
   "id": "62d0c23e",
   "metadata": {},
   "source": [
    "The `FIRST_VALUE` for the `group` is `C` because it was the first value encountered during data generation. Similarly, the `LAST_VALUE` for the `group2` is `Y` because it was the last value encountered."
   ]
  },
  {
   "cell_type": "markdown",
   "id": "c83f6105",
   "metadata": {},
   "source": [
    "### Order by\n",
    "\n",
    "By using `ORDER BY` clause you can find value that corresponds to the biggest/lowest value of some other columns."
   ]
  },
  {
   "cell_type": "markdown",
   "id": "32b12b99",
   "metadata": {},
   "source": [
    "---\n",
    "\n",
    "This example demonstrates how to retrieve the first value of the `group` and the last value of the `group2`, both based on the `some_value` axis. "
   ]
  },
  {
   "cell_type": "code",
   "execution_count": null,
   "id": "9e5cdbc9",
   "metadata": {
    "vscode": {
     "languageId": "sql"
    }
   },
   "outputs": [
    {
     "name": "stdout",
     "output_type": "stream",
     "text": [
      "SELECT 5\n"
     ]
    },
    {
     "data": {
      "text/html": [
       "<table>\n",
       "<thead>\n",
       "<tr><th>group_of_min_some_value  </th><th>group_of_max_some_value  </th></tr>\n",
       "</thead>\n",
       "<tbody>\n",
       "<tr><td>M                        </td><td>X                        </td></tr>\n",
       "<tr><td>M                        </td><td>X                        </td></tr>\n",
       "<tr><td>M                        </td><td>X                        </td></tr>\n",
       "<tr><td>M                        </td><td>Y                        </td></tr>\n",
       "<tr><td>M                        </td><td>Z                        </td></tr>\n",
       "</tbody>\n",
       "</table>"
      ],
      "text/latex": [
       "\\begin{tabular}{ll}\n",
       "\\toprule\n",
       " group\\_of\\_min\\_some\\_value   & group\\_of\\_max\\_some\\_value   \\\\\n",
       "\\midrule\n",
       " M                         & X                         \\\\\n",
       " M                         & X                         \\\\\n",
       " M                         & X                         \\\\\n",
       " M                         & Y                         \\\\\n",
       " M                         & Z                         \\\\\n",
       "\\bottomrule\n",
       "\\end{tabular}"
      ],
      "text/plain": [
       "group_of_min_some_value    group_of_max_some_value\n",
       "-------------------------  -------------------------\n",
       "M                          X\n",
       "M                          X\n",
       "M                          X\n",
       "M                          Y\n",
       "M                          Z"
      ]
     },
     "metadata": {},
     "output_type": "display_data"
    }
   ],
   "source": [
    "--postgreSQL\n",
    "SELECT \n",
    "    FIRST_VALUE(\"group\") OVER (ORDER BY some_value) group_of_min_some_value,\n",
    "    LAST_VALUE(group2) OVER (ORDER BY some_value) group_of_max_some_value\n",
    "FROM (\n",
    "    VALUES \n",
    "    (0, 'M', 'X'),\n",
    "    (3, 'G', 'Z'),\n",
    "    (10, 'C', 'Z'),\n",
    "    (4, 'B', 'Y'),\n",
    "    (3, 'A', 'X')\n",
    ")\n",
    "AS t (some_value, \"group\", group2);"
   ]
  },
  {
   "cell_type": "markdown",
   "id": "c766d894",
   "metadata": {},
   "source": [
    "In this scenario, `M` within the `group` corresponds to the lowest value on the `some_value` axis. Conversely, `Z` represents the highest value on the `some_value` axis within `group2`. "
   ]
  }
 ],
 "metadata": {
  "language_info": {
   "name": "python"
  }
 },
 "nbformat": 4,
 "nbformat_minor": 5
}
