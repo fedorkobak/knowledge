{
 "cells": [
  {
   "cell_type": "markdown",
   "id": "33df1e43-4431-4eb1-9a96-a5e532fb6617",
   "metadata": {},
   "source": [
    "# JOIN\n",
    "\n",
    "Join is a keyword that allows you to combine information from different tables. It's really important, but sometimes it's hard to understand, so this whole page is about features and usecases of joins in Postgres SQL.\n",
    "\n",
    "In the following cell, I'm creating a database that will be used for all the examples on this page."
   ]
  },
  {
   "cell_type": "code",
   "execution_count": 5,
   "id": "0cdfeb5a-ccd3-4095-84be-94c48e997097",
   "metadata": {
    "vscode": {
     "languageId": "shellscript"
    }
   },
   "outputs": [
    {
     "name": "stdout",
     "output_type": "stream",
     "text": [
      "CREATE TABLE\n",
      "INSERT 0 3\n",
      "CREATE TABLE\n",
      "INSERT 0 3\n",
      "CREATE TABLE\n",
      "INSERT 0 3\n"
     ]
    }
   ],
   "source": [
    "docker run -d --rm\\\n",
    "    --name join_example_postgres\\\n",
    "    -e POSTGRES_PASSWORD=postgres\\\n",
    "    postgres:15.4 &> /dev/null\n",
    "sleep 5\n",
    "docker exec -i join_example_postgres psql -U postgres -d postgres << EOF\n",
    "\n",
    "CREATE TABLE central_table (\n",
    "    id INT NOT NULL,\n",
    "    someinfo1_id INT NOT NULL,\n",
    "    someinfo2_id INT NOT NULL\n",
    ");\n",
    "INSERT INTO central_table (id, someinfo1_id, someinfo2_id) VALUES\n",
    "(1, 1, 1),\n",
    "(2, 2, 2),\n",
    "(3, 2, 1);\n",
    "\n",
    "CREATE TABLE some_info1 (\n",
    "    id INT NOT NULL,\n",
    "    some_info TEXT\n",
    ");\n",
    "INSERT INTO some_info1 (id, some_info) VALUES\n",
    "(1, 'some_info1.1'),\n",
    "(2, 'some_info1.2'),\n",
    "(3, 'some_info1.3');\n",
    "\n",
    "CREATE TABLE some_info2 (\n",
    "    id INT NOT NULL,\n",
    "    some_info TEXT\n",
    ");\n",
    "INSERT INTO some_info2 (id, some_info) VALUES\n",
    "(1, 'some_info2.1'),\n",
    "(2, 'some_info2.2'),\n",
    "(3, 'some_info2.3');\n",
    "EOF"
   ]
  },
  {
   "cell_type": "markdown",
   "id": "6468d1d1-e92b-4b35-b78e-0c9088b0f879",
   "metadata": {},
   "source": [
    "In basic case examples I'll use tables `central_table`, `some_info1`, `some_info2`. So in the next cell I just show their content."
   ]
  },
  {
   "cell_type": "code",
   "execution_count": 6,
   "id": "285be83a-2175-4b24-bf79-9637d75ae536",
   "metadata": {
    "vscode": {
     "languageId": "shellscript"
    }
   },
   "outputs": [
    {
     "name": "stdout",
     "output_type": "stream",
     "text": [
      " id | someinfo1_id | someinfo2_id \n",
      "----+--------------+--------------\n",
      "  1 |            1 |            1\n",
      "  2 |            2 |            2\n",
      "  3 |            2 |            1\n",
      "(3 rows)\n",
      "\n",
      " id |  some_info   \n",
      "----+--------------\n",
      "  1 | some_info1.1\n",
      "  2 | some_info1.2\n",
      "  3 | some_info1.3\n",
      "(3 rows)\n",
      "\n",
      " id |  some_info   \n",
      "----+--------------\n",
      "  1 | some_info2.1\n",
      "  2 | some_info2.2\n",
      "  3 | some_info2.3\n",
      "(3 rows)\n",
      "\n"
     ]
    }
   ],
   "source": [
    "docker exec -i join_example_postgres psql -U postgres -d postgres << EOF\n",
    "SELECT * FROM central_table;\n",
    "SELECT * FROM some_info1;\n",
    "SELECT * FROM some_info2;\n",
    "EOF"
   ]
  },
  {
   "cell_type": "markdown",
   "id": "e06de6c7-8b25-407f-a1a1-311e175c0344",
   "metadata": {},
   "source": [
    "**Note** Remember to close the container when you have finished playing with the examples."
   ]
  },
  {
   "cell_type": "code",
   "execution_count": 12,
   "id": "012dcba9-f6cd-4090-ac89-5b0381fbe77c",
   "metadata": {
    "vscode": {
     "languageId": "shellscript"
    }
   },
   "outputs": [
    {
     "name": "stdout",
     "output_type": "stream",
     "text": [
      "join_example_postgres\n"
     ]
    }
   ],
   "source": [
    "docker stop join_example_postgres"
   ]
  },
  {
   "cell_type": "markdown",
   "id": "9c71a77f",
   "metadata": {},
   "source": [
    "## Join types\n",
    "\n",
    "This diagram describes the different types of joins available in SQL.\n",
    "\n",
    "![join types](join_files/join_types.png)"
   ]
  },
  {
   "cell_type": "markdown",
   "id": "88ed42c9-5c3e-4f0b-a7c4-5b365c4e6e27",
   "metadata": {},
   "source": [
    "## Short names\n",
    "\n",
    "You can use short names for the tables involved in the join to make it easier to write code. Just give the new name of the table separated by a space from the original name of the table."
   ]
  },
  {
   "cell_type": "markdown",
   "id": "b2a993e8",
   "metadata": {},
   "source": [
    "---\n",
    "\n",
    "In the next cell I set the `sent` name for the table `central_table` and the `si1` name for the table `some_info1` and use it everywhere to refer to the tables used in the join."
   ]
  },
  {
   "cell_type": "code",
   "execution_count": 10,
   "id": "2cabc653-24bc-421d-9c01-02ef479a8f0c",
   "metadata": {
    "vscode": {
     "languageId": "shellscript"
    }
   },
   "outputs": [
    {
     "name": "stdout",
     "output_type": "stream",
     "text": [
      " id |  some_info   \n",
      "----+--------------\n",
      "  1 | some_info1.1\n",
      "  2 | some_info1.2\n",
      "  3 | some_info1.2\n",
      "(3 rows)\n",
      "\n"
     ]
    }
   ],
   "source": [
    "docker exec -i join_example_postgres psql -U postgres -d postgres << EOF\n",
    "\n",
    "SELECT \n",
    "    sent.id, \n",
    "    si1.some_info \n",
    "FROM \n",
    "    central_table sent\n",
    "    JOIN some_info1 si1\n",
    "        ON sent.someinfo1_id=si1.id\n",
    ";\n",
    "EOF"
   ]
  },
  {
   "cell_type": "markdown",
   "id": "9ac119cf-3d1d-4fd9-a294-7aee1efa1411",
   "metadata": {},
   "source": [
    "## Several tables\n",
    "\n",
    "You can use more than two tables in a join. Just use multiple `JOIN ... ON ...` blocks to select more information."
   ]
  },
  {
   "cell_type": "markdown",
   "id": "a7554e5e",
   "metadata": {},
   "source": [
    "---\n",
    "\n",
    "In the following example, all information is combined into a single query using multiple joins."
   ]
  },
  {
   "cell_type": "code",
   "execution_count": 11,
   "id": "178ba4d3-9d67-41e3-93c6-8753e5b585f9",
   "metadata": {
    "vscode": {
     "languageId": "shellscript"
    }
   },
   "outputs": [
    {
     "name": "stdout",
     "output_type": "stream",
     "text": [
      " id |  some_info   |  some_info   \n",
      "----+--------------+--------------\n",
      "  1 | some_info1.1 | some_info2.1\n",
      "  3 | some_info1.2 | some_info2.1\n",
      "  2 | some_info1.2 | some_info2.2\n",
      "(3 rows)\n",
      "\n"
     ]
    }
   ],
   "source": [
    "docker exec -i join_example_postgres psql -U postgres -d postgres << EOF\n",
    "\n",
    "SELECT sent.id, si1.some_info, si2.some_info \n",
    "FROM \n",
    "    central_table sent\n",
    "    JOIN some_info1 si1 ON sent.someinfo1_id=si1.id\n",
    "    JOIN some_info2 si2 ON sent.someinfo2_id=si2.id\n",
    ";\n",
    "EOF"
   ]
  },
  {
   "cell_type": "markdown",
   "id": "70bec87a-b711-424d-b1fb-5af468ba9a26",
   "metadata": {},
   "source": [
    "## Duplication\n",
    "\n",
    "If in joined table will be duplicates in join key, you will find that some tables of original table have been duplicated."
   ]
  },
  {
   "cell_type": "markdown",
   "id": "979cc888",
   "metadata": {},
   "source": [
    "---\n",
    "\n",
    "In the example for this page, `central_table.someinfo1_id` takes the value `2` twice. So if you join it to `some_info`, the record of `some_info` that has `id=2` will be duplicated, just like in the following cell."
   ]
  },
  {
   "cell_type": "code",
   "execution_count": 4,
   "id": "267ff0e6-1d2b-4d01-8d07-96a490a584c9",
   "metadata": {
    "vscode": {
     "languageId": "shellscript"
    }
   },
   "outputs": [
    {
     "name": "stdout",
     "output_type": "stream",
     "text": [
      " id |  some_info   | id | someinfo1_id | someinfo2_id \n",
      "----+--------------+----+--------------+--------------\n",
      "  1 | some_info1.1 |  1 |            1 |            1\n",
      "  2 | some_info1.2 |  2 |            2 |            2\n",
      "  2 | some_info1.2 |  3 |            2 |            1\n",
      "  3 | some_info1.3 |    |              |             \n",
      "(4 rows)\n",
      "\n"
     ]
    }
   ],
   "source": [
    "%%bash\n",
    "docker exec -i join_example psql -U postgres -d postgres\n",
    "\n",
    "SELECT * \n",
    "FROM some_info1\n",
    "FULL OUTER JOIN central_table ON some_info1.id=central_table.someinfo1_id;"
   ]
  }
 ],
 "metadata": {
  "kernelspec": {
   "display_name": "Bash",
   "language": "bash",
   "name": "bash"
  },
  "language_info": {
   "codemirror_mode": "shell",
   "file_extension": ".sh",
   "mimetype": "text/x-sh",
   "name": "bash"
  }
 },
 "nbformat": 4,
 "nbformat_minor": 5
}
