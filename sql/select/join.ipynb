{
 "cells": [
  {
   "cell_type": "markdown",
   "id": "33df1e43-4431-4eb1-9a96-a5e532fb6617",
   "metadata": {},
   "source": [
    "# JOIN\n",
    "\n",
    "Join is a keyword that allows you to combine information from different tables. It's really important, but sometimes it's hard to understand, so this whole page is about features and usecases of joins in Postgres SQL.\n",
    "\n",
    "In the following cell, I'm creating a database that will be used for all the examples on this page."
   ]
  },
  {
   "cell_type": "code",
   "execution_count": 1,
   "id": "0cdfeb5a-ccd3-4095-84be-94c48e997097",
   "metadata": {
    "vscode": {
     "languageId": "shellscript"
    }
   },
   "outputs": [],
   "source": [
    "docker run -d --rm\\\n",
    "    --name join_example_postgres\\\n",
    "    -e POSTGRES_PASSWORD=postgres\\\n",
    "    postgres:15.4 &> /dev/null\n",
    "sleep 5"
   ]
  },
  {
   "cell_type": "markdown",
   "id": "e06de6c7-8b25-407f-a1a1-311e175c0344",
   "metadata": {},
   "source": [
    "**Note** Remember to close the container when you have finished playing with the examples."
   ]
  },
  {
   "cell_type": "code",
   "execution_count": 12,
   "id": "012dcba9-f6cd-4090-ac89-5b0381fbe77c",
   "metadata": {
    "vscode": {
     "languageId": "shellscript"
    }
   },
   "outputs": [
    {
     "name": "stdout",
     "output_type": "stream",
     "text": [
      "join_example_postgres\n"
     ]
    }
   ],
   "source": [
    "docker stop join_example_postgres"
   ]
  },
  {
   "cell_type": "markdown",
   "id": "9c71a77f",
   "metadata": {},
   "source": [
    "## Join types\n",
    "\n",
    "This diagram describes the different types of joins available in SQL.\n",
    "\n",
    "![join types](join_files/join_types.png)"
   ]
  },
  {
   "cell_type": "markdown",
   "id": "88ed42c9-5c3e-4f0b-a7c4-5b365c4e6e27",
   "metadata": {},
   "source": [
    "## Short names\n",
    "\n",
    "You can use short names for the tables involved in the join to make it easier to write code. Just give the new name of the table separated by a space from the original name of the table."
   ]
  },
  {
   "cell_type": "markdown",
   "id": "b2a993e8",
   "metadata": {},
   "source": [
    "---\n",
    "\n",
    "The following cell shows how tables `table1` and `table2`, aliased as `t1` and `t2` respectively, are joined and used in a query."
   ]
  },
  {
   "cell_type": "code",
   "execution_count": 7,
   "id": "1cf191df",
   "metadata": {
    "vscode": {
     "languageId": "shellscript"
    }
   },
   "outputs": [
    {
     "name": "stdout",
     "output_type": "stream",
     "text": [
      " col1 | col2 | col1 | col2 \n",
      "------+------+------+------\n",
      "    1 | a    |    1 | A\n",
      "    2 | b    |    2 | B\n",
      "    3 | c    |    3 | C\n",
      "    4 | d    |    4 | D\n",
      "(4 rows)\n",
      "\n"
     ]
    }
   ],
   "source": [
    "docker exec -i join_example_postgres psql -U postgres -d postgres << EOF\n",
    "WITH\n",
    "\n",
    "table1(col1, col2) AS (\n",
    "    VALUES\n",
    "    (1, 'a'),\n",
    "    (2, 'b'),\n",
    "    (3, 'c'),\n",
    "    (4, 'd')\n",
    "),\n",
    "table2(col1, col2) AS (\n",
    "    VALUES\n",
    "    (1, 'A'),\n",
    "    (2, 'B'),\n",
    "    (3, 'C'),\n",
    "    (4, 'D')\n",
    ")\n",
    "\n",
    "SELECT * \n",
    "FROM \n",
    "    table1 t1 JOIN table2 t2 \n",
    "    ON (t1.col1=t2.col1);\n",
    "EOF"
   ]
  },
  {
   "cell_type": "markdown",
   "id": "9ac119cf-3d1d-4fd9-a294-7aee1efa1411",
   "metadata": {},
   "source": [
    "## Several tables\n",
    "\n",
    "You can use more than two tables in a join. Just use multiple `JOIN ... ON ...` blocks to select more information."
   ]
  },
  {
   "cell_type": "markdown",
   "id": "a7554e5e",
   "metadata": {},
   "source": [
    "---\n",
    "\n",
    "In the following example, all information is combined into a single query using multiple joins."
   ]
  },
  {
   "cell_type": "code",
   "execution_count": 17,
   "id": "178ba4d3-9d67-41e3-93c6-8753e5b585f9",
   "metadata": {
    "vscode": {
     "languageId": "shellscript"
    }
   },
   "outputs": [
    {
     "name": "stdout",
     "output_type": "stream",
     "text": [
      " col1 | col1 | col1 \n",
      "------+------+------\n",
      "    1 |    1 |    1\n",
      "    3 |    3 |    3\n",
      "(2 rows)\n",
      "\n"
     ]
    }
   ],
   "source": [
    "docker exec -i join_example_postgres psql -U postgres -d postgres << EOF\n",
    "\n",
    "WITH \n",
    "table1(col1) AS (VALUES (1), (2), (3)),\n",
    "table2(col1) AS (VALUES (1), (3), (2)),\n",
    "table3(col1) AS (VALUES (3), (1), (7))\n",
    "\n",
    "SELECT *\n",
    "FROM \n",
    "    table1\n",
    "    JOIN table2 ON table1.col1=table2.col1\n",
    "    JOIN table3 ON table1.col1=table3.col1\n",
    ";\n",
    "EOF"
   ]
  }
 ],
 "metadata": {
  "kernelspec": {
   "display_name": "Bash",
   "language": "bash",
   "name": "bash"
  },
  "language_info": {
   "codemirror_mode": "shell",
   "file_extension": ".sh",
   "mimetype": "text/x-sh",
   "name": "bash"
  }
 },
 "nbformat": 4,
 "nbformat_minor": 5
}
