{
 "cells": [
  {
   "cell_type": "markdown",
   "metadata": {},
   "source": [
    "# Collect array\n",
    "\n",
    "Here, we take a closer look at functions that vary across SQL dialects, allowing columns in a database to be transformed into an array that fits in one table cell."
   ]
  },
  {
   "cell_type": "markdown",
   "metadata": {},
   "source": [
    "The following cell starts the databases we'll use in Docker. For now, they are:\n",
    "\n",
    "- PostgreSQL\n",
    "- ClickHouse"
   ]
  },
  {
   "cell_type": "code",
   "execution_count": 14,
   "metadata": {
    "vscode": {
     "languageId": "shellscript"
    }
   },
   "outputs": [],
   "source": [
    "docker run --rm -d\\\n",
    "    -e POSTGRES_PASSWORD=docker_app \\\n",
    "    --name collect_array_postgres_examples \\\n",
    "    postgres:15.4 &> /dev/null\n",
    "docker run --rm -d \\\n",
    "    --name collect_array_click_examples \\\n",
    "    clickhouse/clickhouse-server &> /dev/null\n",
    "sleep 5"
   ]
  },
  {
   "cell_type": "markdown",
   "metadata": {},
   "source": [
    "**Note**: Don't forget to stop all containers once finished."
   ]
  },
  {
   "cell_type": "code",
   "execution_count": 13,
   "metadata": {
    "vscode": {
     "languageId": "shellscript"
    }
   },
   "outputs": [
    {
     "name": "stdout",
     "output_type": "stream",
     "text": [
      "collect_array_postgres_examples\n",
      "collect_array_click_examples\n"
     ]
    }
   ],
   "source": [
    "docker stop collect_array_postgres_examples collect_array_click_examples"
   ]
  },
  {
   "cell_type": "markdown",
   "metadata": {},
   "source": [
    "## Clickhouse syntax\n",
    "\n",
    "In ClickHouse, for such transformations, you need to use the `groupArray` function."
   ]
  },
  {
   "cell_type": "markdown",
   "metadata": {},
   "source": [
    "---\n",
    "\n",
    "The following cell shows the application of the `groupArray` function to the `some_value` column, along with extracting specific positions from the resulting array."
   ]
  },
  {
   "cell_type": "code",
   "execution_count": 9,
   "metadata": {
    "vscode": {
     "languageId": "shellscript"
    }
   },
   "outputs": [
    {
     "name": "stdout",
     "output_type": "stream",
     "text": [
      "   ┏━━━━━━━━━━━━━━━━━━━━━━━┳━━━━━━━━━━━━━━━━━━━━━━━━━━━━━━━━┳━━━━━━━━━━━━━━━━━━━━━━━━━━━━━━━━┓\n",
      "   ┃ groupArray(a)         ┃ arrayElement(groupArray(a), 1) ┃ arrayElement(groupArray(a), 2) ┃\n",
      "   ┡━━━━━━━━━━━━━━━━━━━━━━━╇━━━━━━━━━━━━━━━━━━━━━━━━━━━━━━━━╇━━━━━━━━━━━━━━━━━━━━━━━━━━━━━━━━┩\n",
      "1. │ [4,3,3,1,3,3,3,5,5,1] │                              4 │                              3 │\n",
      "   └───────────────────────┴────────────────────────────────┴────────────────────────────────┘\n"
     ]
    }
   ],
   "source": [
    "docker exec collect_array_click_examples clickhouse-client -q \"\n",
    "CREATE TEMPORARY TABLE temp (some_value Int32) ENGINE = Memory;\n",
    "\n",
    "INSERT INTO temp VALUES\n",
    "    (4), (3), (3), (1), (3), (3), (3), (5), (5), (1);\n",
    "\n",
    "SELECT \n",
    "    groupArray(some_value), \n",
    "    groupArray(some_value)[1], \n",
    "    groupArray(some_value)[2] \n",
    "FROM temp\n",
    "FORMAT Pretty;\n",
    "\""
   ]
  },
  {
   "cell_type": "markdown",
   "metadata": {},
   "source": [
    "## Index out of range\n",
    "\n",
    "When trying to access an out-of-range position in this command, the common behavior across SQL dialects is to return a reserved value. However, the specific behavior can vary between different SQL dialects."
   ]
  },
  {
   "cell_type": "markdown",
   "metadata": {},
   "source": [
    "---\n",
    "\n",
    "The following examples demonstrate attempts to access out-of-range positions in different SQL dialects."
   ]
  },
  {
   "cell_type": "markdown",
   "metadata": {},
   "source": [
    "Here is an example from PostgreSQL, which shows that PostgreSQL returns NULL in such cases."
   ]
  },
  {
   "cell_type": "code",
   "execution_count": 24,
   "metadata": {
    "vscode": {
     "languageId": "shellscript"
    }
   },
   "outputs": [
    {
     "name": "stdout",
     "output_type": "stream",
     "text": [
      " fifth_element_is_null \n",
      "-----------------------\n",
      " t\n",
      "(1 row)\n",
      "\n"
     ]
    }
   ],
   "source": [
    "docker exec -i collect_array_postgres_examples psql -U postgres -d postgres << EOF\n",
    "SELECT \n",
    "    (array_agg(some_value))[5] IS NULL fifth_element_is_null\n",
    "FROM (\n",
    "    VALUES\n",
    "    (4), (3), (3)\n",
    ") AS temp(some_value);\n",
    "EOF"
   ]
  },
  {
   "cell_type": "markdown",
   "metadata": {},
   "source": [
    "In ClickHouse, it returns reserved values to replace non-existent values. The following cell shows that instead of a non-existent element of the array, ClickHouse returns:\n",
    "\n",
    "- `0` for numeric columns.\n",
    "- An empty string `''` for string columns."
   ]
  },
  {
   "cell_type": "code",
   "execution_count": 25,
   "metadata": {
    "vscode": {
     "languageId": "shellscript"
    }
   },
   "outputs": [
    {
     "name": "stdout",
     "output_type": "stream",
     "text": [
      "   ┏━━━━━━━━━━━━━━━━━━━┳━━━━━━━━━━━━━━━━━━┓\n",
      "   ┃ numeric_index_out ┃ string_index_out ┃\n",
      "   ┡━━━━━━━━━━━━━━━━━━━╇━━━━━━━━━━━━━━━━━━┩\n",
      "1. │                 0 │                  │\n",
      "   └───────────────────┴──────────────────┘\n"
     ]
    }
   ],
   "source": [
    "docker exec collect_array_click_examples clickhouse-client -q \"\n",
    "CREATE TEMPORARY TABLE temp (numeric_value Int, string_value String) ENGINE = Memory;\n",
    "\n",
    "INSERT INTO temp VALUES\n",
    "    (1, 'a'), (2, 'b'), (3, 'c');\n",
    "\n",
    "SELECT \n",
    "    groupArray(numeric_value)[5] numeric_index_out,\n",
    "    groupArray(string_value)[5] string_index_out\n",
    "FROM temp\n",
    "FORMAT Pretty;\n",
    "\""
   ]
  }
 ],
 "metadata": {
  "kernelspec": {
   "display_name": "Bash",
   "language": "bash",
   "name": "bash"
  },
  "language_info": {
   "codemirror_mode": "shell",
   "file_extension": ".sh",
   "mimetype": "text/x-sh",
   "name": "bash"
  }
 },
 "nbformat": 4,
 "nbformat_minor": 2
}
