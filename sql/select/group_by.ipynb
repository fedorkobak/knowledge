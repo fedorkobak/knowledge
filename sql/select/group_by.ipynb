{
 "cells": [
  {
   "cell_type": "markdown",
   "id": "9117e8e4-87a4-468e-a4cd-67d25b7c776d",
   "metadata": {},
   "source": [
    "# Aggregation (GROUP BY)\n",
    "\n",
    "This page is about aggregations in sql."
   ]
  },
  {
   "cell_type": "markdown",
   "id": "0b3ecd38-0eb1-4ae3-b084-a97e572e9287",
   "metadata": {},
   "source": [
    "The next cell starts the container for the playground database."
   ]
  },
  {
   "cell_type": "code",
   "execution_count": 2,
   "id": "a11941a0-d8e1-4917-9c8f-9a8ad0f93df8",
   "metadata": {},
   "outputs": [
    {
     "name": "stdout",
     "output_type": "stream",
     "text": [
      "CREATE TABLE\n",
      "INSERT 0 4\n",
      " var1 | var2  \n",
      "------+-------\n",
      " foo  | peter\n",
      " bar  | alice\n",
      " bar  | bob\n",
      " foo  | jamie\n",
      "(4 rows)\n",
      "\n"
     ]
    }
   ],
   "source": [
    "%%bash\n",
    "docker run --rm -d\\\n",
    "    -e POSTGRES_PASSWORD=docker_app \\\n",
    "    --name aggregation_postgres_exmaples \\\n",
    "    postgres:15.4 &> /dev/null\n",
    "sleep 5\n",
    "docker exec -i aggregation_postgres_exmaples psql -U postgres -d postgres\n",
    "\n",
    "CREATE TABLE tab (\n",
    "    var1 TEXT,\n",
    "    var2 TEXT\n",
    ");\n",
    "\n",
    "INSERT INTO tab (var1, var2) VALUES\n",
    "('foo', 'peter'),\n",
    "('bar', 'alice'),\n",
    "('bar', 'bob'),\n",
    "('foo', 'jamie');\n",
    "\n",
    "SELECT * FROM tab;"
   ]
  },
  {
   "cell_type": "markdown",
   "id": "5f19f20c-1293-48ee-a195-c6482da2c177",
   "metadata": {},
   "source": [
    "**Note** Don't forget to stop the container when you've finished playing with it."
   ]
  },
  {
   "cell_type": "code",
   "execution_count": 1,
   "id": "7fecb63a-67f4-43b2-9316-76db2ea71b01",
   "metadata": {},
   "outputs": [
    {
     "name": "stdout",
     "output_type": "stream",
     "text": [
      "aggregation_postgres_exmaples\n"
     ]
    }
   ],
   "source": [
    "%%bash\n",
    "docker stop aggregation_postgres_exmaples;"
   ]
  },
  {
   "cell_type": "markdown",
   "id": "c42e6f78-388a-4846-b5d7-92a17fe258f0",
   "metadata": {},
   "source": [
    "## Strings concatenations"
   ]
  },
  {
   "cell_type": "markdown",
   "id": "dcebc133-1c2b-45c5-a206-22142a21abf7",
   "metadata": {},
   "source": [
    "Suppose you need to concatenate all the values of a text variable into groups. For this purpose there is an argregation function `string_agg(<column for concatenation>, <separator>)`. The result will be all values by group in one line, separated by a separator.\n",
    "\n",
    "We list the values of variable `val2` that occur in different groups of variable `val1` separated by commas:"
   ]
  },
  {
   "cell_type": "code",
   "execution_count": 3,
   "id": "dcefb9c6-03e7-4dbd-9999-5e189e3f85e6",
   "metadata": {},
   "outputs": [
    {
     "name": "stdout",
     "output_type": "stream",
     "text": [
      "  string_agg  \n",
      "--------------\n",
      " alice, bob\n",
      " peter, jamie\n",
      "(2 rows)\n",
      "\n"
     ]
    }
   ],
   "source": [
    "%%bash\n",
    "docker exec -i aggregation_postgres_exmaples psql -U postgres -d postgres\n",
    "SELECT \n",
    "    string_agg(var2, ', ')\n",
    "FROM tab\n",
    "GROUP BY var1;"
   ]
  }
 ],
 "metadata": {
  "kernelspec": {
   "display_name": "Python 3 (ipykernel)",
   "language": "python",
   "name": "python3"
  },
  "language_info": {
   "codemirror_mode": {
    "name": "ipython",
    "version": 3
   },
   "file_extension": ".py",
   "mimetype": "text/x-python",
   "name": "python",
   "nbconvert_exporter": "python",
   "pygments_lexer": "ipython3",
   "version": "3.10.12"
  }
 },
 "nbformat": 4,
 "nbformat_minor": 5
}
