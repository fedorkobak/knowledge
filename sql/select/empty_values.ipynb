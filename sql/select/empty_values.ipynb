{
 "cells": [
  {
   "cell_type": "markdown",
   "id": "a94df266-cc99-42a9-aa1c-c908b9caa3b9",
   "metadata": {},
   "source": [
    "# Empty values\n",
    "\n",
    "This page focuses on handling empty values in SQL."
   ]
  },
  {
   "cell_type": "markdown",
   "id": "b702bf6c-7367-48b2-8190-3eaca11e4a26",
   "metadata": {},
   "source": [
    "The next cell creates a docker container with postgres, which will be used for the experiments on this page."
   ]
  },
  {
   "cell_type": "code",
   "execution_count": 2,
   "id": "b0ea5468-6b1a-4d8e-8353-c38c830e5c49",
   "metadata": {
    "vscode": {
     "languageId": "shellscript"
    }
   },
   "outputs": [
    {
     "name": "stdout",
     "output_type": "stream",
     "text": [
      "ef85f7a08100cf940e2a31347c850b76069768a95a5fa6862389c4b65ad696eb\n",
      "ca34503d969f02d1f30328309d72828f226745d80f588b3d67cf926c44c93698\n"
     ]
    }
   ],
   "source": [
    "docker run --rm -d\\\n",
    "    -e POSTGRES_PASSWORD=postgres \\\n",
    "    --name empty_value_pg \\\n",
    "    postgres:15.4\n",
    "docker run --rm -itd --name empty_value_sqlite keinos/sqlite3\n",
    "sleep 5"
   ]
  },
  {
   "cell_type": "markdown",
   "id": "bea93c36-71a4-4506-a70e-30c97e8ff096",
   "metadata": {},
   "source": [
    "**Note** Don't forget to close the container when you have finished playing with the examples."
   ]
  },
  {
   "cell_type": "code",
   "execution_count": null,
   "id": "131ba7f8-16cb-4b1e-b0af-6e309bc32ae0",
   "metadata": {
    "vscode": {
     "languageId": "shellscript"
    }
   },
   "outputs": [],
   "source": [
    "docker stop empty_value_pg empty_value_sqlite"
   ]
  },
  {
   "cell_type": "markdown",
   "id": "1d136439",
   "metadata": {},
   "source": [
    "## Replace in query\n",
    "\n",
    "It's a very common case when empty values have business sense, but in query results you need to replace them. So you can write `SELECT` to replace `NULL` in query results, this section is focused on it."
   ]
  },
  {
   "cell_type": "markdown",
   "id": "76624c6f-c9ed-4b8e-8c60-a4653dbae850",
   "metadata": {},
   "source": [
    "### COALESCE\n",
    "\n",
    "In PostgreSQL, there is the `COALESCE` function. Use the syntax `COALESCE(<column_name> | <value>, ...)`. This function will return the first value that is not `NULL`. You can use columns or just values as arguments—values will be broadcast to the column size.\n",
    "\n",
    "Check the [description of the `COALESCE`](https://www.postgresql.org/docs/current/functions-conditional.html#FUNCTIONS-COALESCE-NVL-IFNULL) function in the official PostgreSQL documentation."
   ]
  },
  {
   "cell_type": "markdown",
   "id": "448e31ce",
   "metadata": {},
   "source": [
    "---\n",
    "\n",
    "The following cell shows applying `COALENCE` to the columns `col1`, `col2` and `col3` that contains many empty values."
   ]
  },
  {
   "cell_type": "code",
   "execution_count": 9,
   "id": "b6571e9c-1684-44c6-a024-d492457cc481",
   "metadata": {
    "vscode": {
     "languageId": "shellscript"
    }
   },
   "outputs": [
    {
     "name": "stdout",
     "output_type": "stream",
     "text": [
      " col1 | col2 | col3 | no_default | no_default_is_null | with_default \n",
      "------+------+------+------------+--------------------+--------------\n",
      "      | a    |      | a          | f                  | a\n",
      " b    |      |      | b          | f                  | b\n",
      "      |      | c    | c          | f                  | c\n",
      "      |      |      |            | t                  | default\n",
      "(4 rows)\n",
      "\n"
     ]
    }
   ],
   "source": [
    "docker exec -i empty_value_example psql -U postgres << EOF\n",
    "SELECT \n",
    "    *,\n",
    "    COALESCE(col1, col2, col3) no_default,\n",
    "    COALESCE(col1, col2, col3) IS NULL no_default_is_null,\n",
    "    COALESCE(col1, col2, col3, 'default') with_default\n",
    "FROM (\n",
    "    VALUES\n",
    "    (NULL, 'a', NULL),\n",
    "    ('b', NULL, NULL),\n",
    "    (NULL, NULL, 'c'),\n",
    "    (NULL, NULL, NULL)\n",
    "\n",
    ") AS temp(col1, col2, col3);\n",
    "EOF"
   ]
  },
  {
   "cell_type": "markdown",
   "id": "66585287",
   "metadata": {},
   "source": [
    "The same example in `sqlite`:"
   ]
  },
  {
   "cell_type": "code",
   "execution_count": 21,
   "id": "f4a45667",
   "metadata": {
    "vscode": {
     "languageId": "shellscript"
    }
   },
   "outputs": [
    {
     "name": "stdout",
     "output_type": "stream",
     "text": [
      "┌──────┬──────┬──────┬────────────┬────────────────────┬──────────────┐\n",
      "│ col1 │ col2 │ col3 │ no_default │ no_default_is_null │ with_default │\n",
      "├──────┼──────┼──────┼────────────┼────────────────────┼──────────────┤\n",
      "│      │ a    │      │ a          │ 0                  │ a            │\n",
      "│ b    │      │      │ b          │ 0                  │ b            │\n",
      "│      │      │ c    │ c          │ 0                  │ c            │\n",
      "│      │      │      │            │ 1                  │ default      │\n",
      "└──────┴──────┴──────┴────────────┴────────────────────┴──────────────┘\n"
     ]
    }
   ],
   "source": [
    "docker exec empty_value_sqlite sqlite3 -box -cmd \"\n",
    "CREATE TABLE IF NOT EXISTS tab (\n",
    "    col1 TEXT, col2 TEXT, col3 TEXT\n",
    ");\n",
    "\n",
    "\n",
    "INSERT INTO tab (col1, col2, col3) VALUES\n",
    "(NULL, 'a', NULL),\n",
    "('b', NULL, NULL),\n",
    "(NULL, NULL, 'c'),\n",
    "(NULL, NULL, NULL);\n",
    "\n",
    "\n",
    "SELECT \n",
    "    *,\n",
    "    COALESCE(col1, col2, col3) no_default,\n",
    "    COALESCE(col1, col2, col3) IS NULL no_default_is_null,\n",
    "    COALESCE(col1, col2, col3, 'default') with_default\n",
    "FROM tab;\n",
    "\""
   ]
  },
  {
   "cell_type": "markdown",
   "id": "d4237c8a-5d53-49c0-8e0c-d43b640dfddc",
   "metadata": {},
   "source": [
    "### IFNULL\n",
    "\n",
    "`IFNULL` is an alternative function that can be used to replace empty values in query statements. It returns the first non-null value passed to its arguments and is supported by SQLite."
   ]
  },
  {
   "cell_type": "markdown",
   "id": "716200a5-2b1f-4896-a1d1-94f26dc518cc",
   "metadata": {},
   "source": [
    "---\n",
    "\n",
    "The following shows some cases for `IFNULL` function."
   ]
  },
  {
   "cell_type": "code",
   "execution_count": 6,
   "id": "2415136a-7a5b-4499-98a8-d3dabbfa61cb",
   "metadata": {
    "vscode": {
     "languageId": "shellscript"
    }
   },
   "outputs": [
    {
     "name": "stdout",
     "output_type": "stream",
     "text": [
      "┌────────────────────┐\n",
      "│ IFNULL(var1, var2) │\n",
      "├────────────────────┤\n",
      "│ a                  │\n",
      "│ a                  │\n",
      "│ b                  │\n",
      "│                    │\n",
      "└────────────────────┘\n"
     ]
    }
   ],
   "source": [
    "docker exec empty_value_sqlite sqlite3 -box -cmd \"\n",
    "CREATE TABLE IF NOT EXISTS tab (\n",
    "    var1 TEXT,\n",
    "    var2 TEXT\n",
    ");\n",
    "\n",
    "\n",
    "INSERT INTO tab (var1, var2) VALUES\n",
    "('a', 'b'),\n",
    "(NULL, 'a'),\n",
    "('b', NULL),\n",
    "(NULL, NULL);\n",
    "\n",
    "\n",
    "SELECT IFNULL(var1, var2) FROM tab;\n",
    "\""
   ]
  },
  {
   "cell_type": "markdown",
   "id": "c172621c",
   "metadata": {},
   "source": [
    "**Note:** The main difference from `COALESCE` is that `IFNULL` can operate with only two operands."
   ]
  },
  {
   "cell_type": "code",
   "execution_count": 8,
   "id": "823b827f",
   "metadata": {
    "vscode": {
     "languageId": "shellscript"
    }
   },
   "outputs": [
    {
     "name": "stdout",
     "output_type": "stream",
     "text": [
      "Error: in prepare, wrong number of arguments to function IFNULL()\n",
      "  SELECT IFNULL(10, 20, 'hello');\n",
      "         ^--- error here\n"
     ]
    }
   ],
   "source": [
    "docker exec empty_value_sqlite sqlite3 -box -cmd \"SELECT IFNULL(10, 20, 'hello');\""
   ]
  },
  {
   "cell_type": "markdown",
   "id": "61086da7-1bc0-4e10-a384-62696159fd86",
   "metadata": {},
   "source": [
    "## Change base"
   ]
  },
  {
   "cell_type": "markdown",
   "id": "1c62d2aa-5d24-464f-b3a2-0d1d5abe83d2",
   "metadata": {},
   "source": [
    "Sometimes empty values in database appear as errors or business sense of data table can be selected. So you can face with case when you need to replace all values in the database, not only in the results of the specific query.\n",
    "\n",
    "For such purpose you can use syntax:\n",
    "\n",
    "```\n",
    "UPDATE <table_name>\n",
    "SET <column name> = <replace value>\n",
    "WHERE <column name> IS NULL;\n",
    "```"
   ]
  },
  {
   "cell_type": "markdown",
   "id": "345fdddf",
   "metadata": {},
   "source": [
    "---\n",
    "\n",
    "The following cell creates a table with some `NULL` values, then replaces them directly in the table and shows the results."
   ]
  },
  {
   "cell_type": "code",
   "execution_count": 23,
   "id": "8274f8d0-ac08-40a5-9704-094969b9bf17",
   "metadata": {
    "vscode": {
     "languageId": "shellscript"
    }
   },
   "outputs": [
    {
     "name": "stdout",
     "output_type": "stream",
     "text": [
      "DROP TABLE\n",
      "CREATE TABLE\n",
      "INSERT 0 2\n",
      " col1 | col2 | col3 \n",
      "------+------+------\n",
      " val1 |      | val2\n",
      "      | val2 | \n",
      "(2 rows)\n",
      "\n",
      "UPDATE 1\n",
      "   col1   | col2 | col3 \n",
      "----------+------+------\n",
      " val1     |      | val2\n",
      " replaced | val2 | \n",
      "(2 rows)\n",
      "\n"
     ]
    }
   ],
   "source": [
    "docker exec -i empty_value_pg psql -U postgres << EOF\n",
    "\n",
    "DROP TABLE IF EXISTS change_null_table;\n",
    "CREATE TABLE change_null_table(col1 TEXT, col2 TEXT, col3 TEXT);\n",
    "\n",
    "INSERT INTO change_null_table(col1, col2, col3)\n",
    "VALUES\n",
    "    ('val1', NULL, 'val2'),\n",
    "    (NULL, 'val2', NULL);\n",
    "\n",
    "\n",
    "SELECT * FROM change_null_table;\n",
    "\n",
    "UPDATE change_null_table\n",
    "SET col1 = 'replaced'\n",
    "WHERE col1 IS NULL;\n",
    "\n",
    "\n",
    "SELECT * FROM change_null_table;\n",
    "\n",
    "EOF"
   ]
  }
 ],
 "metadata": {
  "kernelspec": {
   "display_name": "Bash",
   "language": "bash",
   "name": "bash"
  },
  "language_info": {
   "codemirror_mode": "shell",
   "file_extension": ".sh",
   "mimetype": "text/x-sh",
   "name": "bash"
  }
 },
 "nbformat": 4,
 "nbformat_minor": 5
}
