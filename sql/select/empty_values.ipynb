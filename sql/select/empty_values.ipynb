{
 "cells": [
  {
   "cell_type": "markdown",
   "id": "a94df266-cc99-42a9-aa1c-c908b9caa3b9",
   "metadata": {},
   "source": [
    "# Empty values\n",
    "\n",
    "This page focuses on handling empty values in SQL."
   ]
  },
  {
   "cell_type": "markdown",
   "id": "b702bf6c-7367-48b2-8190-3eaca11e4a26",
   "metadata": {},
   "source": [
    "The next cell creates a docker container with postgres, which will be used for the experiments on this page."
   ]
  },
  {
   "cell_type": "code",
   "execution_count": 6,
   "id": "b0ea5468-6b1a-4d8e-8353-c38c830e5c49",
   "metadata": {
    "vscode": {
     "languageId": "shellscript"
    }
   },
   "outputs": [
    {
     "name": "stdout",
     "output_type": "stream",
     "text": [
      "33cbe8feb990bbe6afea7d3e7d6c3cc6cf7959251d2353cb496469cda2e37a93\n",
      "de0267939e94b797d7ad1e87810300c77a8ca6f58dcb1225e52c3eb939409fec\n"
     ]
    }
   ],
   "source": [
    "docker run --rm -d\\\n",
    "    -e POSTGRES_PASSWORD=postgres \\\n",
    "    --name empty_value_pg \\\n",
    "    postgres:15.4\n",
    "docker run --rm -itd --name empty_value_sqlite keinos/sqlite3\n",
    "sleep 5"
   ]
  },
  {
   "cell_type": "markdown",
   "id": "bea93c36-71a4-4506-a70e-30c97e8ff096",
   "metadata": {},
   "source": [
    "**Note** Don't forget to close the container when you have finished playing with the examples."
   ]
  },
  {
   "cell_type": "code",
   "execution_count": null,
   "id": "131ba7f8-16cb-4b1e-b0af-6e309bc32ae0",
   "metadata": {
    "vscode": {
     "languageId": "shellscript"
    }
   },
   "outputs": [],
   "source": [
    "docker stop empty_value_pg empty_value_sqlite"
   ]
  },
  {
   "cell_type": "markdown",
   "id": "1d136439",
   "metadata": {},
   "source": [
    "## Replace in query\n",
    "\n",
    "It's a very common case when empty values have business sense, but in query results you need to replace them. So you can write `SELECT` to replace `NULL` in query results, this section is focused on it."
   ]
  },
  {
   "cell_type": "markdown",
   "id": "76624c6f-c9ed-4b8e-8c60-a4653dbae850",
   "metadata": {},
   "source": [
    "### COALESCE\n",
    "\n",
    "In PostgreSQL, there is the `COALESCE` function. Use the syntax `COALESCE(<column_name> | <value>, ...)`. This function will return the first value that is not `NULL`. You can use columns or just values as arguments—values will be broadcast to the column size.\n",
    "\n",
    "Check the [description of the `COALESCE`](https://www.postgresql.org/docs/current/functions-conditional.html#FUNCTIONS-COALESCE-NVL-IFNULL) function in the official PostgreSQL documentation."
   ]
  },
  {
   "cell_type": "markdown",
   "id": "448e31ce",
   "metadata": {},
   "source": [
    "---\n",
    "\n",
    "The following cell shows applying `COALENCE` to the columns `col1`, `col2` and `col3` that contains many empty values."
   ]
  },
  {
   "cell_type": "code",
   "execution_count": 9,
   "id": "b6571e9c-1684-44c6-a024-d492457cc481",
   "metadata": {
    "vscode": {
     "languageId": "shellscript"
    }
   },
   "outputs": [
    {
     "name": "stdout",
     "output_type": "stream",
     "text": [
      " col1 | col2 | col3 | no_default | no_default_is_null | with_default \n",
      "------+------+------+------------+--------------------+--------------\n",
      "      | a    |      | a          | f                  | a\n",
      " b    |      |      | b          | f                  | b\n",
      "      |      | c    | c          | f                  | c\n",
      "      |      |      |            | t                  | default\n",
      "(4 rows)\n",
      "\n"
     ]
    }
   ],
   "source": [
    "docker exec -i empty_value_example psql -U postgres << EOF\n",
    "SELECT \n",
    "    *,\n",
    "    COALESCE(col1, col2, col3) no_default,\n",
    "    COALESCE(col1, col2, col3) IS NULL no_default_is_null,\n",
    "    COALESCE(col1, col2, col3, 'default') with_default\n",
    "FROM (\n",
    "    VALUES\n",
    "    (NULL, 'a', NULL),\n",
    "    ('b', NULL, NULL),\n",
    "    (NULL, NULL, 'c'),\n",
    "    (NULL, NULL, NULL)\n",
    "\n",
    ") AS temp(col1, col2, col3);\n",
    "EOF"
   ]
  },
  {
   "cell_type": "markdown",
   "id": "66585287",
   "metadata": {},
   "source": [
    "The same example in `sqlite`:"
   ]
  },
  {
   "cell_type": "code",
   "execution_count": 21,
   "id": "f4a45667",
   "metadata": {
    "vscode": {
     "languageId": "shellscript"
    }
   },
   "outputs": [
    {
     "name": "stdout",
     "output_type": "stream",
     "text": [
      "┌──────┬──────┬──────┬────────────┬────────────────────┬──────────────┐\n",
      "│ col1 │ col2 │ col3 │ no_default │ no_default_is_null │ with_default │\n",
      "├──────┼──────┼──────┼────────────┼────────────────────┼──────────────┤\n",
      "│      │ a    │      │ a          │ 0                  │ a            │\n",
      "│ b    │      │      │ b          │ 0                  │ b            │\n",
      "│      │      │ c    │ c          │ 0                  │ c            │\n",
      "│      │      │      │            │ 1                  │ default      │\n",
      "└──────┴──────┴──────┴────────────┴────────────────────┴──────────────┘\n"
     ]
    }
   ],
   "source": [
    "docker exec empty_value_sqlite sqlite3 -box -cmd \"\n",
    "CREATE TABLE IF NOT EXISTS tab (\n",
    "    col1 TEXT, col2 TEXT, col3 TEXT\n",
    ");\n",
    "\n",
    "\n",
    "INSERT INTO tab (col1, col2, col3) VALUES\n",
    "(NULL, 'a', NULL),\n",
    "('b', NULL, NULL),\n",
    "(NULL, NULL, 'c'),\n",
    "(NULL, NULL, NULL);\n",
    "\n",
    "\n",
    "SELECT \n",
    "    *,\n",
    "    COALESCE(col1, col2, col3) no_default,\n",
    "    COALESCE(col1, col2, col3) IS NULL no_default_is_null,\n",
    "    COALESCE(col1, col2, col3, 'default') with_default\n",
    "FROM tab;\n",
    "\""
   ]
  },
  {
   "cell_type": "markdown",
   "id": "d4237c8a-5d53-49c0-8e0c-d43b640dfddc",
   "metadata": {},
   "source": [
    "### Alternative (IFNULL)\n",
    "\n",
    "IFNULL is an alternative function that can be used to replace empty values in query statements."
   ]
  },
  {
   "cell_type": "markdown",
   "id": "4905eb7d-7d45-40b2-acfa-f82766a6c847",
   "metadata": {},
   "source": [
    "It's not supported by postgres. So to make sure, I'll show you in the following cell that there will be an error if you try to use it in postgres."
   ]
  },
  {
   "cell_type": "markdown",
   "id": "716200a5-2b1f-4896-a1d1-94f26dc518cc",
   "metadata": {},
   "source": [
    "So I will use sqlite base to demonstrate how IFNULL works. In the following example is the process of creating sample database."
   ]
  },
  {
   "cell_type": "code",
   "execution_count": 16,
   "id": "2415136a-7a5b-4499-98a8-d3dabbfa61cb",
   "metadata": {
    "vscode": {
     "languageId": "shellscript"
    }
   },
   "outputs": [
    {
     "name": "stdout",
     "output_type": "stream",
     "text": [
      "┌─────────────────────┬────────────────────┐\n",
      "│      coalesce       │ IFNULL(var1, var2) │\n",
      "├─────────────────────┼────────────────────┤\n",
      "│ a                   │ a                  │\n",
      "│ b                   │ b                  │\n",
      "│ relaced by COALESCE │                    │\n",
      "└─────────────────────┴────────────────────┘\n"
     ]
    }
   ],
   "source": [
    "docker exec empty_value_sqlite sqlite3 -box -cmd \"\n",
    "CREATE TABLE IF NOT EXISTS tab (\n",
    "    var1 TEXT,\n",
    "    var2 TEXT\n",
    ");\n",
    "\n",
    "\n",
    "INSERT INTO tab (var1, var2) VALUES\n",
    "(NULL, 'a'),\n",
    "('b', NULL),\n",
    "(NULL, NULL);\n",
    "\n",
    "\n",
    "SELECT \n",
    "    COALESCE(var2, var1, 'relaced by COALESCE') coalesce,\n",
    "    IFNULL(var1, var2)\n",
    "FROM tab;\n",
    "\""
   ]
  },
  {
   "cell_type": "markdown",
   "id": "4e13bb7c-5984-43a2-9ec0-6c347e47b4c2",
   "metadata": {},
   "source": [
    "The syntax is exactly the same as for `COALESCE`: `IFNULL(<column name>, <value to replace>)`.\n",
    "\n",
    "Actually, sqlite supports both `COALESCE` and `IFNULL`, so in the following example both have been used to replace empty values in different columns."
   ]
  },
  {
   "cell_type": "code",
   "execution_count": 15,
   "id": "3aa325b0-7cb4-4441-8ecf-e2b45e67a882",
   "metadata": {
    "vscode": {
     "languageId": "shellscript"
    }
   },
   "outputs": [
    {
     "name": "stdout",
     "output_type": "stream",
     "text": [
      "replaced by IFNULL|world\n",
      "hello|relaced by COALESCE\n",
      "replaced by IFNULL|test line\n"
     ]
    }
   ],
   "source": [
    "%%bash\n",
    "sqlite3 fill_empty_files/dump.sql\n",
    "\n",
    "SELECT \n",
    "    IFNULL(var1, 'replaced by IFNULL') var1,\n",
    "    COALESCE(var2, 'relaced by COALESCE') var2\n",
    "FROM tab;"
   ]
  },
  {
   "cell_type": "markdown",
   "id": "61086da7-1bc0-4e10-a384-62696159fd86",
   "metadata": {},
   "source": [
    "## Change base"
   ]
  },
  {
   "cell_type": "markdown",
   "id": "1c62d2aa-5d24-464f-b3a2-0d1d5abe83d2",
   "metadata": {},
   "source": [
    "Sometimes empty values in database appear as errors or business sense of data table can be selected. So you can face with case when you need to replace all values in the database, not only in the results of the specific query.\n",
    "\n",
    "For such purpose you can use syntax:\n",
    "\n",
    "```\n",
    "UPDATE <table_name>\n",
    "SET <column name> = <replace value>\n",
    "WHERE <column name> IS NULL;\n",
    "```\n",
    "\n",
    "The following cell uses such syntax to replace some empty values."
   ]
  },
  {
   "cell_type": "code",
   "execution_count": 17,
   "id": "8274f8d0-ac08-40a5-9704-094969b9bf17",
   "metadata": {
    "vscode": {
     "languageId": "shellscript"
    }
   },
   "outputs": [
    {
     "name": "stdout",
     "output_type": "stream",
     "text": [
      "UPDATE 2\n"
     ]
    }
   ],
   "source": [
    "%%bash\n",
    "docker exec -i fill_empty psql -U postgres -d postgres\n",
    "\n",
    "UPDATE tab\n",
    "SET var1 = 'replaced'\n",
    "WHERE var1 IS NULL;"
   ]
  },
  {
   "cell_type": "markdown",
   "id": "7facd4e9-bfa6-40c6-8655-cc9221f536bf",
   "metadata": {},
   "source": [
    "Let's see the result of the transformation."
   ]
  },
  {
   "cell_type": "code",
   "execution_count": 18,
   "id": "89731611-025a-4ed8-b024-26e91cb00efa",
   "metadata": {
    "vscode": {
     "languageId": "shellscript"
    }
   },
   "outputs": [
    {
     "name": "stdout",
     "output_type": "stream",
     "text": [
      "   var1   |   var2    \n",
      "----------+-----------\n",
      " hello    | \n",
      " replaced | world\n",
      " replaced | test line\n",
      "(3 rows)\n",
      "\n"
     ]
    }
   ],
   "source": [
    "%%bash\n",
    "docker exec -i fill_empty psql -U postgres -d postgres\n",
    "SELECT * FROM tab;"
   ]
  }
 ],
 "metadata": {
  "kernelspec": {
   "display_name": "Bash",
   "language": "bash",
   "name": "bash"
  },
  "language_info": {
   "codemirror_mode": "shell",
   "file_extension": ".sh",
   "mimetype": "text/x-sh",
   "name": "bash"
  }
 },
 "nbformat": 4,
 "nbformat_minor": 5
}
