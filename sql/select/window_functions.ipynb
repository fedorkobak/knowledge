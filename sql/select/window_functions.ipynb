{
 "cells": [
  {
   "cell_type": "markdown",
   "id": "ff43885f-037d-4b9f-ad26-89944fbb35cf",
   "metadata": {},
   "source": [
    "# Window functions (OVER)\n",
    "\n",
    "Check following sources:\n",
    "\n",
    "- [SQL window functions](https://mode.com/sql-tutorial/sql-window-functions) tutorial on mode.com.\n",
    "- [Window functions](https://www.postgresql.org/docs/9.1/tutorial-window.html) article on official postgres documentation.\n",
    "\n",
    "A window function performs a calculation across a set of table rows that are somehow related to the current row. This is comparable to the type of calculation that can be done with an aggregate function. But unlike regular aggregate functions, use of a window function does not cause rows to become grouped into a single output row — the rows retain their separate identities. Behind the scenes, the window function is able to access more than just the current row of the query result.\n",
    "\n",
    "In fact, you are doing something like aggregation, but the results are not collapsed by variable aggregation."
   ]
  },
  {
   "cell_type": "markdown",
   "id": "c037d5c6",
   "metadata": {},
   "source": [
    "## Syntax\n",
    "\n",
    "If you are using a window function in the `SELECT` block of your query, you can declare a new output column using the following syntax:\n",
    "\n",
    "```sql<function> OVER (<relationship>) AS <result name>.```\n",
    "\n",
    "This allows you to compute the result of the window function and assign it to a new column with the specified `<result name>`.\n",
    "\n",
    "Functions can be quite different, but actually there are only two components of `<relationship>`: `PARTITION` and `ORDER BY` , so consider them at the beginning."
   ]
  },
  {
   "cell_type": "markdown",
   "id": "2b0c88f7-2425-4b1f-9d6b-7ec21d6ed764",
   "metadata": {},
   "source": [
    "## Partition\n",
    "\n",
    "Within the `OVER` clause, the `PARTITION BY` clause enables you to define variables whose values will be treated as groups. The window functions will be applied independently to each of these defined groups. "
   ]
  },
  {
   "cell_type": "markdown",
   "id": "2e5f2de5-e998-4975-b05f-7a7acd8a5bac",
   "metadata": {},
   "source": [
    "---\n",
    "\n",
    "Consider the simplest possible example: for each record, calculate the sum of the `some_value` by the `group` of the row."
   ]
  },
  {
   "cell_type": "code",
   "execution_count": 1,
   "id": "0b72d0b4",
   "metadata": {
    "vscode": {
     "languageId": "sql"
    }
   },
   "outputs": [
    {
     "name": "stdout",
     "output_type": "stream",
     "text": [
      "SELECT 5\n"
     ]
    },
    {
     "data": {
      "text/html": [
       "<table>\n",
       "<thead>\n",
       "<tr><th style=\"text-align: right;\">  some_value</th><th>group  </th><th style=\"text-align: right;\">  result</th></tr>\n",
       "</thead>\n",
       "<tbody>\n",
       "<tr><td style=\"text-align: right;\">           3</td><td>A      </td><td style=\"text-align: right;\">       3</td></tr>\n",
       "<tr><td style=\"text-align: right;\">           4</td><td>B      </td><td style=\"text-align: right;\">       4</td></tr>\n",
       "<tr><td style=\"text-align: right;\">           3</td><td>C      </td><td style=\"text-align: right;\">       7</td></tr>\n",
       "<tr><td style=\"text-align: right;\">           3</td><td>C      </td><td style=\"text-align: right;\">       7</td></tr>\n",
       "<tr><td style=\"text-align: right;\">           1</td><td>C      </td><td style=\"text-align: right;\">       7</td></tr>\n",
       "</tbody>\n",
       "</table>"
      ],
      "text/latex": [
       "\\begin{tabular}{rlr}\n",
       "\\toprule\n",
       "   some\\_value & group   &   result \\\\\n",
       "\\midrule\n",
       "            3 & A       &        3 \\\\\n",
       "            4 & B       &        4 \\\\\n",
       "            3 & C       &        7 \\\\\n",
       "            3 & C       &        7 \\\\\n",
       "            1 & C       &        7 \\\\\n",
       "\\bottomrule\n",
       "\\end{tabular}"
      ],
      "text/plain": [
       "  some_value  group      result\n",
       "------------  -------  --------\n",
       "           3  A               3\n",
       "           4  B               4\n",
       "           3  C               7\n",
       "           3  C               7\n",
       "           1  C               7"
      ]
     },
     "metadata": {},
     "output_type": "display_data"
    }
   ],
   "source": [
    "--postgreSQL\n",
    "SELECT \n",
    "    some_value, \"group\",\n",
    "    SUM(some_value) OVER (PARTITION BY \"group\") AS result\n",
    "FROM \n",
    "(\n",
    "    VALUES\n",
    "    (3, 'C', 'X'),\n",
    "    (3, 'C', 'Y'),\n",
    "    (1, 'C', 'X'),\n",
    "    (4, 'B', 'Y'),\n",
    "    (3, 'A', 'X')\n",
    ") AS temp(some_value, \"group\", group2);"
   ]
  },
  {
   "cell_type": "markdown",
   "id": "0103c093-68dd-4dbd-850b-5bab9fa5a775",
   "metadata": {},
   "source": [
    "Now, let's explore a more exotic example to better understand the flexibility of this tool. In this case, for each unique `some_value` we correspond emumeration of the possible values of `group` that ocur with that options of `some_value`."
   ]
  },
  {
   "cell_type": "code",
   "execution_count": 2,
   "id": "876588e8-8078-497e-a32e-f2bfffae4b06",
   "metadata": {
    "vscode": {
     "languageId": "sql"
    }
   },
   "outputs": [
    {
     "name": "stdout",
     "output_type": "stream",
     "text": [
      "SELECT 5\n"
     ]
    },
    {
     "data": {
      "text/html": [
       "<table>\n",
       "<thead>\n",
       "<tr><th style=\"text-align: right;\">  some_value</th><th>group  </th><th>result  </th></tr>\n",
       "</thead>\n",
       "<tbody>\n",
       "<tr><td style=\"text-align: right;\">           1</td><td>C      </td><td>C       </td></tr>\n",
       "<tr><td style=\"text-align: right;\">           3</td><td>C      </td><td>C, B, A </td></tr>\n",
       "<tr><td style=\"text-align: right;\">           3</td><td>B      </td><td>C, B, A </td></tr>\n",
       "<tr><td style=\"text-align: right;\">           3</td><td>A      </td><td>C, B, A </td></tr>\n",
       "<tr><td style=\"text-align: right;\">           4</td><td>B      </td><td>B       </td></tr>\n",
       "</tbody>\n",
       "</table>"
      ],
      "text/latex": [
       "\\begin{tabular}{rll}\n",
       "\\toprule\n",
       "   some\\_value & group   & result   \\\\\n",
       "\\midrule\n",
       "            1 & C       & C        \\\\\n",
       "            3 & C       & C, B, A  \\\\\n",
       "            3 & B       & C, B, A  \\\\\n",
       "            3 & A       & C, B, A  \\\\\n",
       "            4 & B       & B        \\\\\n",
       "\\bottomrule\n",
       "\\end{tabular}"
      ],
      "text/plain": [
       "  some_value  group    result\n",
       "------------  -------  --------\n",
       "           1  C        C\n",
       "           3  C        C, B, A\n",
       "           3  B        C, B, A\n",
       "           3  A        C, B, A\n",
       "           4  B        B"
      ]
     },
     "metadata": {},
     "output_type": "display_data"
    }
   ],
   "source": [
    "--postgreSQL\n",
    "SELECT\n",
    "    some_value, \"group\",\n",
    "    string_agg(\"group\", ', ') OVER (PARTITION BY some_value) AS result\n",
    "FROM (\n",
    "    VALUES\n",
    "    (3, 'C', 'X'),\n",
    "    (3, 'B', 'Y'),\n",
    "    (1, 'C', 'X'),\n",
    "    (4, 'B', 'Y'),\n",
    "    (3, 'A', 'X')\n",
    ") AS temp(some_value, \"group\", group2);"
   ]
  },
  {
   "cell_type": "markdown",
   "id": "6448af7d",
   "metadata": {},
   "source": [
    "### Several variables\n",
    "\n",
    "When you specify two or more variables within the `PARTITION BY` clause, you create partitions based on a **composite** of those columns."
   ]
  },
  {
   "cell_type": "markdown",
   "id": "df18d94e",
   "metadata": {},
   "source": [
    "---\n",
    "\n",
    "This example demonstrates how to calculate the sum of `some_value` for every unique combination of `group` and `group2`. "
   ]
  },
  {
   "cell_type": "code",
   "execution_count": 3,
   "id": "f8a707fc",
   "metadata": {
    "vscode": {
     "languageId": "sql"
    }
   },
   "outputs": [
    {
     "name": "stdout",
     "output_type": "stream",
     "text": [
      "SELECT 5\n"
     ]
    },
    {
     "data": {
      "text/html": [
       "<table>\n",
       "<thead>\n",
       "<tr><th style=\"text-align: right;\">  some_value</th><th>group  </th><th>group2  </th><th style=\"text-align: right;\">  result</th></tr>\n",
       "</thead>\n",
       "<tbody>\n",
       "<tr><td style=\"text-align: right;\">           3</td><td>A      </td><td>X       </td><td style=\"text-align: right;\">       3</td></tr>\n",
       "<tr><td style=\"text-align: right;\">           3</td><td>B      </td><td>Y       </td><td style=\"text-align: right;\">       7</td></tr>\n",
       "<tr><td style=\"text-align: right;\">           4</td><td>B      </td><td>Y       </td><td style=\"text-align: right;\">       7</td></tr>\n",
       "<tr><td style=\"text-align: right;\">           3</td><td>C      </td><td>X       </td><td style=\"text-align: right;\">       4</td></tr>\n",
       "<tr><td style=\"text-align: right;\">           1</td><td>C      </td><td>X       </td><td style=\"text-align: right;\">       4</td></tr>\n",
       "</tbody>\n",
       "</table>"
      ],
      "text/latex": [
       "\\begin{tabular}{rllr}\n",
       "\\toprule\n",
       "   some\\_value & group   & group2   &   result \\\\\n",
       "\\midrule\n",
       "            3 & A       & X        &        3 \\\\\n",
       "            3 & B       & Y        &        7 \\\\\n",
       "            4 & B       & Y        &        7 \\\\\n",
       "            3 & C       & X        &        4 \\\\\n",
       "            1 & C       & X        &        4 \\\\\n",
       "\\bottomrule\n",
       "\\end{tabular}"
      ],
      "text/plain": [
       "  some_value  group    group2      result\n",
       "------------  -------  --------  --------\n",
       "           3  A        X                3\n",
       "           3  B        Y                7\n",
       "           4  B        Y                7\n",
       "           3  C        X                4\n",
       "           1  C        X                4"
      ]
     },
     "metadata": {},
     "output_type": "display_data"
    }
   ],
   "source": [
    "--postgreSQL\n",
    "SELECT\n",
    "    some_value, \"group\", group2, \n",
    "    SUM(some_value) OVER (PARTITION BY \"group\", group2) AS result\n",
    "FROM (\n",
    "    VALUES\n",
    "    (3, 'C', 'X'),\n",
    "    (3, 'B', 'Y'),\n",
    "    (1, 'C', 'X'),\n",
    "    (4, 'B', 'Y'),\n",
    "    (3, 'A', 'X')\n",
    ") AS temp(some_value, \"group\", group2);"
   ]
  },
  {
   "cell_type": "markdown",
   "id": "1c096b77-d8c5-4be2-8b6d-d22f46fdf024",
   "metadata": {},
   "source": [
    "## Order by\n",
    "\n",
    "The `ORDER BY` clause defines the order of application of the window function. Each unique value of the ordering variable in the aggregation will contain only values corresponding to the previous values according to the order. "
   ]
  },
  {
   "cell_type": "markdown",
   "id": "b6f6ad35-c1dc-4403-b01f-0c3973e43c14",
   "metadata": {},
   "source": [
    "---\n",
    "\n",
    "The following examples apply to the computation of sums of `some_value` in the order defined by `group`."
   ]
  },
  {
   "cell_type": "code",
   "execution_count": 4,
   "id": "730ec11c-7086-4505-8d1b-09881c44e6a3",
   "metadata": {
    "vscode": {
     "languageId": "sql"
    }
   },
   "outputs": [
    {
     "name": "stdout",
     "output_type": "stream",
     "text": [
      "SELECT 5\n"
     ]
    },
    {
     "data": {
      "text/html": [
       "<table>\n",
       "<thead>\n",
       "<tr><th style=\"text-align: right;\">  some_value</th><th>group  </th><th style=\"text-align: right;\">  sv</th></tr>\n",
       "</thead>\n",
       "<tbody>\n",
       "<tr><td style=\"text-align: right;\">           3</td><td>A      </td><td style=\"text-align: right;\">   3</td></tr>\n",
       "<tr><td style=\"text-align: right;\">           3</td><td>B      </td><td style=\"text-align: right;\">  10</td></tr>\n",
       "<tr><td style=\"text-align: right;\">           4</td><td>B      </td><td style=\"text-align: right;\">  10</td></tr>\n",
       "<tr><td style=\"text-align: right;\">           3</td><td>C      </td><td style=\"text-align: right;\">  14</td></tr>\n",
       "<tr><td style=\"text-align: right;\">           1</td><td>C      </td><td style=\"text-align: right;\">  14</td></tr>\n",
       "</tbody>\n",
       "</table>"
      ],
      "text/latex": [
       "\\begin{tabular}{rlr}\n",
       "\\toprule\n",
       "   some\\_value & group   &   sv \\\\\n",
       "\\midrule\n",
       "            3 & A       &    3 \\\\\n",
       "            3 & B       &   10 \\\\\n",
       "            4 & B       &   10 \\\\\n",
       "            3 & C       &   14 \\\\\n",
       "            1 & C       &   14 \\\\\n",
       "\\bottomrule\n",
       "\\end{tabular}"
      ],
      "text/plain": [
       "  some_value  group      sv\n",
       "------------  -------  ----\n",
       "           3  A           3\n",
       "           3  B          10\n",
       "           4  B          10\n",
       "           3  C          14\n",
       "           1  C          14"
      ]
     },
     "metadata": {},
     "output_type": "display_data"
    }
   ],
   "source": [
    "--postgreSQL\n",
    "SELECT \n",
    "    some_value, \"group\",\n",
    "    SUM(some_value) OVER (ORDER BY \"group\") AS sv\n",
    "FROM (\n",
    "    VALUES\n",
    "    (3, 'C', 'X'),\n",
    "    (3, 'B', 'Y'),\n",
    "    (1, 'C', 'X'),\n",
    "    (4, 'B', 'Y'),\n",
    "    (3, 'A', 'X')\n",
    ") AS temp(some_value, \"group\", group2);"
   ]
  },
  {
   "cell_type": "markdown",
   "id": "ce9fa2fb-7a04-466d-b016-c59c4a0c0226",
   "metadata": {},
   "source": [
    "So for `A` we only have the sum of the `some_values` of the rows corresponding to the `A` group. But for `B` we have the sum on both `A` and `B` groups and so on."
   ]
  },
  {
   "cell_type": "markdown",
   "id": "15bae69b",
   "metadata": {},
   "source": [
    "## Partition and order\n",
    "\n",
    "You can combine `PARTITION BY` and `ORDER BY` within a single `OVER` clause. This allows you to compute aggregations for each distinct combination of variables specified in `PARTITION BY`, while accumulating the aggregation only based on the unique values defined in the `ORDER BY` clause."
   ]
  },
  {
   "cell_type": "markdown",
   "id": "4f9af4bd",
   "metadata": {},
   "source": [
    "---\n",
    "\n",
    "This example uses `group2` for the `PARTITION BY` clause and `group` for the `ORDER BY` clause within the `OVER` clause. "
   ]
  },
  {
   "cell_type": "code",
   "execution_count": 5,
   "id": "cc98de9a",
   "metadata": {
    "vscode": {
     "languageId": "sql"
    }
   },
   "outputs": [
    {
     "name": "stdout",
     "output_type": "stream",
     "text": [
      "SELECT 5\n"
     ]
    },
    {
     "data": {
      "text/html": [
       "<table>\n",
       "<thead>\n",
       "<tr><th style=\"text-align: right;\">  some_value</th><th>group  </th><th>group2  </th><th style=\"text-align: right;\">  sv</th></tr>\n",
       "</thead>\n",
       "<tbody>\n",
       "<tr><td style=\"text-align: right;\">           3</td><td>A      </td><td>X       </td><td style=\"text-align: right;\">   3</td></tr>\n",
       "<tr><td style=\"text-align: right;\">           1</td><td>B      </td><td>X       </td><td style=\"text-align: right;\">   4</td></tr>\n",
       "<tr><td style=\"text-align: right;\">           3</td><td>C      </td><td>X       </td><td style=\"text-align: right;\">   7</td></tr>\n",
       "<tr><td style=\"text-align: right;\">           3</td><td>B      </td><td>Y       </td><td style=\"text-align: right;\">   3</td></tr>\n",
       "<tr><td style=\"text-align: right;\">           4</td><td>C      </td><td>Y       </td><td style=\"text-align: right;\">   7</td></tr>\n",
       "</tbody>\n",
       "</table>"
      ],
      "text/latex": [
       "\\begin{tabular}{rllr}\n",
       "\\toprule\n",
       "   some\\_value & group   & group2   &   sv \\\\\n",
       "\\midrule\n",
       "            3 & A       & X        &    3 \\\\\n",
       "            1 & B       & X        &    4 \\\\\n",
       "            3 & C       & X        &    7 \\\\\n",
       "            3 & B       & Y        &    3 \\\\\n",
       "            4 & C       & Y        &    7 \\\\\n",
       "\\bottomrule\n",
       "\\end{tabular}"
      ],
      "text/plain": [
       "  some_value  group    group2      sv\n",
       "------------  -------  --------  ----\n",
       "           3  A        X            3\n",
       "           1  B        X            4\n",
       "           3  C        X            7\n",
       "           3  B        Y            3\n",
       "           4  C        Y            7"
      ]
     },
     "metadata": {},
     "output_type": "display_data"
    }
   ],
   "source": [
    "--postgreSQL\n",
    "SELECT \n",
    "    some_value, \"group\", group2,\n",
    "    SUM(some_value) OVER (PARTITION BY group2 ORDER BY \"group\") AS sv\n",
    "FROM (\n",
    "    VALUES\n",
    "    (3, 'C', 'X'),\n",
    "    (3, 'B', 'Y'),\n",
    "    (1, 'B', 'X'),\n",
    "    (4, 'C', 'Y'),\n",
    "    (3, 'A', 'X')\n",
    ") AS temp(some_value, \"group\", group2);"
   ]
  },
  {
   "cell_type": "markdown",
   "id": "bd03c7f6",
   "metadata": {},
   "source": [
    "As a result, each unique combination of `group` and `group2` receives its own calculated value.  Within each `group2` value, the `group` values are ordered, and the aggregation accumulates only within that specific `group2` value. This means that different `group2` values have independent sequences for the aggregation. "
   ]
  },
  {
   "cell_type": "markdown",
   "id": "ed2ae39c",
   "metadata": {},
   "source": [
    "## Functions\n",
    "\n",
    "There are four types of functions that can be used with the `OVER` clause (usually referred to as window functions): Ranking, Value, Aggregate, and Statistical (Analytical).\n",
    "\n",
    "| Type                     | Function            | Description                                             |\n",
    "| ------------------------ | ------------------- | ------------------------------------------------------- |\n",
    "| Ranking                  | `ROW_NUMBER()`      | Assigns a unique number to each row.                    |\n",
    "|                          | `RANK()`            | Assigns ranks with gaps for ties.                       |\n",
    "|                          | `DENSE_RANK()`      | Assigns ranks without gaps for ties.                    |\n",
    "|                          | `NTILE(n)`          | Divides rows into `n` buckets with equal sizes.         |\n",
    "| Value                    | `LAG(column, n)`    | Returns the value from `n` rows before the current row. |\n",
    "|                          | `LEAD(column, n)`   | Returns the value from `n` rows after the current row.  |\n",
    "|                          | `FIRST_VALUE()`     | Returns the first value in the window frame.            |\n",
    "|                          | `LAST_VALUE()`      | Returns the last value in the window frame.             |\n",
    "|                          | `NTH_VALUE(col, n)` | Returns the `n`-th value in the window frame.           |\n",
    "| Aggregate                | `SUM(column)`       | Returns the cumulative or grouped sum.                  |\n",
    "|                          | `AVG(column)`       | Returns the average.                                    |\n",
    "|                          | `MIN(column)`       | Returns the minimum value.                              |\n",
    "|                          | `MAX(column)`       | Returns the maximum value.                              |\n",
    "|                          | `COUNT(column)`     | Returns the number of rows.                             |\n",
    "| Statistical (analitical) | `CUME_DIST()`       | Cumulative distribution of a value in its partition.    |\n",
    "|                          | `PERCENT_RANK()`    | Percent rank of a value in its partition.               |\n",
    "|                          | `PERCENTILE_CONT()` | Continuous percentile (interpolated).                   |\n",
    "|                          | `PERCENTILE_DISC()` | Discrete percentile (actual row value).                 |\n"
   ]
  },
  {
   "cell_type": "markdown",
   "id": "33c2857f",
   "metadata": {},
   "source": [
    "---\n",
    "\n",
    "The following cell shows failed attempt to apply `LAG` functions without using `OVER` clause."
   ]
  },
  {
   "cell_type": "code",
   "execution_count": 6,
   "id": "c263f461",
   "metadata": {
    "vscode": {
     "languageId": "sql"
    }
   },
   "outputs": [
    {
     "name": "stderr",
     "output_type": "stream",
     "text": [
      "Traceback (most recent call last):\n",
      "  File \"/home/fedor/Documents/code/knowledge/src/kernel.py\", line 116, in do_execute\n",
      "    self._execute_sql(code=code)\n",
      "    ~~~~~~~~~~~~~~~~~^^^^^^^^^^^\n",
      "  File \"/home/fedor/Documents/code/knowledge/src/kernel.py\", line 84, in _execute_sql\n",
      "    messages, tables = runner.execute(code)\n",
      "                       ~~~~~~~~~~~~~~^^^^^^\n",
      "  File \"/home/fedor/Documents/code/knowledge/src/runners/runners.py\", line 69, in execute\n",
      "    cursor.execute(code.encode())\n",
      "    ~~~~~~~~~~~~~~^^^^^^^^^^^^^^^\n",
      "  File \"/home/fedor/.virtualenvironments/knowledge/lib/python3.13/site-packages/psycopg/cursor.py\", line 97, in execute\n",
      "    raise ex.with_traceback(None)\n",
      "psycopg.errors.WrongObjectType: window function lag requires an OVER clause\n",
      "LINE 2: SELECT LAG(group2)\n",
      "               ^\n"
     ]
    }
   ],
   "source": [
    "--postgreSQL\n",
    "SELECT LAG(group2)\n",
    "FROM (\n",
    "    VALUES\n",
    "    (3, 'C', 'X'),\n",
    "    (3, 'B', 'Y'),\n",
    "    (1, 'B', 'X'),\n",
    "    (4, 'C', 'Y'),\n",
    "    (3, 'A', 'X')\n",
    ") AS temp(some_value, \"group\", group2);"
   ]
  },
  {
   "cell_type": "markdown",
   "id": "bbd93747",
   "metadata": {},
   "source": [
    "The error message indicates that you cannot use window functions without specifying an `OVER` clause. "
   ]
  },
  {
   "cell_type": "markdown",
   "id": "7fbd65e9",
   "metadata": {},
   "source": [
    "## Rows between\n",
    "\n",
    "ClickHouse has one more option to specify the logic of the window function: `ROWS BETWEEN <top border> AND <bottom border>`. This allows you to define a relative range of rows that will be aggregated in the window function.\n",
    "\n",
    "Instead of `<top border>` and `<bottom border>`, you supposed to use `<n> PRECEDING` to refer to the previous rows and `<n> FOLLOWING` to refer to the following rows."
   ]
  },
  {
   "cell_type": "markdown",
   "id": "93c34e5e",
   "metadata": {
    "vscode": {
     "languageId": "shellscript"
    }
   },
   "source": [
    "---\n",
    "\n",
    "The following example shows how to generate an array for each row, which includes preceding, following, and surrounding values."
   ]
  },
  {
   "cell_type": "code",
   "execution_count": 2,
   "id": "dd22ffe3",
   "metadata": {
    "vscode": {
     "languageId": "sql"
    }
   },
   "outputs": [
    {
     "data": {
      "text/html": [],
      "text/latex": [],
      "text/plain": []
     },
     "metadata": {},
     "output_type": "display_data"
    },
    {
     "data": {
      "text/html": [],
      "text/latex": [],
      "text/plain": []
     },
     "metadata": {},
     "output_type": "display_data"
    },
    {
     "data": {
      "text/html": [
       "<table>\n",
       "<thead>\n",
       "<tr><th style=\"text-align: right;\">  some_value</th><th>preceding  </th><th>following  </th><th>around   </th></tr>\n",
       "</thead>\n",
       "<tbody>\n",
       "<tr><td style=\"text-align: right;\">           3</td><td>[3]        </td><td>[3, 1]     </td><td>[3, 3]   </td></tr>\n",
       "<tr><td style=\"text-align: right;\">           3</td><td>[3, 3]     </td><td>[1, 4]     </td><td>[3, 3, 1]</td></tr>\n",
       "<tr><td style=\"text-align: right;\">           1</td><td>[3, 3, 1]  </td><td>[4, 3]     </td><td>[3, 1, 4]</td></tr>\n",
       "<tr><td style=\"text-align: right;\">           4</td><td>[3, 1, 4]  </td><td>[3]        </td><td>[1, 4, 3]</td></tr>\n",
       "<tr><td style=\"text-align: right;\">           3</td><td>[1, 4, 3]  </td><td>[]         </td><td>[4, 3]   </td></tr>\n",
       "</tbody>\n",
       "</table>"
      ],
      "text/latex": [
       "\\begin{tabular}{rlll}\n",
       "\\toprule\n",
       "   some\\_value & preceding   & following   & around    \\\\\n",
       "\\midrule\n",
       "            3 & [3]         & [3, 1]      & [3, 3]    \\\\\n",
       "            3 & [3, 3]      & [1, 4]      & [3, 3, 1] \\\\\n",
       "            1 & [3, 3, 1]   & [4, 3]      & [3, 1, 4] \\\\\n",
       "            4 & [3, 1, 4]   & [3]         & [1, 4, 3] \\\\\n",
       "            3 & [1, 4, 3]   & []          & [4, 3]    \\\\\n",
       "\\bottomrule\n",
       "\\end{tabular}"
      ],
      "text/plain": [
       "  some_value  preceding    following    around\n",
       "------------  -----------  -----------  ---------\n",
       "           3  [3]          [3, 1]       [3, 3]\n",
       "           3  [3, 3]       [1, 4]       [3, 3, 1]\n",
       "           1  [3, 3, 1]    [4, 3]       [3, 1, 4]\n",
       "           4  [3, 1, 4]    [3]          [1, 4, 3]\n",
       "           3  [1, 4, 3]    []           [4, 3]"
      ]
     },
     "metadata": {},
     "output_type": "display_data"
    }
   ],
   "source": [
    "--ClickHouse\n",
    "CREATE \n",
    "TEMPORARY TABLE IF NOT EXISTS temp (some_value Int32) \n",
    "ENGINE = Memory;\n",
    "\n",
    "INSERT INTO temp VALUES\n",
    "    (3), (3), (1), (4), (3);\n",
    "\n",
    "SELECT \n",
    "    some_value,\n",
    "    groupArray(some_value) OVER (ROWS BETWEEN 2 PRECEDING AND 0 PRECEDING) preceding,\n",
    "    groupArray(some_value) OVER (ROWS BETWEEN 1 FOLLOWING AND 2 FOLLOWING) following,\n",
    "    groupArray(some_value) OVER (ROWS BETWEEN 1 PRECEDING AND 1 FOLLOWING) around \n",
    "FROM temp;"
   ]
  }
 ],
 "metadata": {
  "kernelspec": {
   "display_name": "UniversalSQL",
   "language": "SQL",
   "name": "universal_sql"
  },
  "language_info": {
   "file_extentions": ".sql",
   "mimetype": "text/plain",
   "name": "SQL"
  }
 },
 "nbformat": 4,
 "nbformat_minor": 5
}
