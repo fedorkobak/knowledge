{
 "cells": [
  {
   "cell_type": "markdown",
   "id": "ff43885f-037d-4b9f-ad26-89944fbb35cf",
   "metadata": {},
   "source": [
    "# Window functions (OVER)\n",
    "\n",
    "Check following sources:\n",
    "\n",
    "- [SQL window functions](https://mode.com/sql-tutorial/sql-window-functions) tutorial on mode.com.\n",
    "- [Window functions](https://www.postgresql.org/docs/9.1/tutorial-window.html) article on official postgres documentation.\n",
    "\n",
    "A window function performs a calculation across a set of table rows that are somehow related to the current row. This is comparable to the type of calculation that can be done with an aggregate function. But unlike regular aggregate functions, use of a window function does not cause rows to become grouped into a single output row — the rows retain their separate identities. Behind the scenes, the window function is able to access more than just the current row of the query result.\n",
    "\n",
    "In fact, you are doing something like aggregation, but the results are not collapsed by variable aggregation."
   ]
  },
  {
   "cell_type": "markdown",
   "id": "9a520321-a913-44a7-b994-a8b9fd21312b",
   "metadata": {},
   "source": [
    "Let's consider an example for this page. We have a numeric variable called `some_variable`, on which we will apply various functions. Also, we have a `group` variable that represents the relationship between rows."
   ]
  },
  {
   "cell_type": "code",
   "execution_count": 3,
   "id": "a7009678-8c52-43d6-8636-4709c07af560",
   "metadata": {
    "vscode": {
     "languageId": "shellscript"
    }
   },
   "outputs": [],
   "source": [
    "docker run -d --rm\\\n",
    "    --name window_functions_example\\\n",
    "    -e POSTGRES_PASSWORD=postgres\\\n",
    "    postgres:15.4 &> /dev/null\n",
    "sleep 5"
   ]
  },
  {
   "cell_type": "markdown",
   "id": "4f4ae5c3",
   "metadata": {},
   "source": [
    "**Note** Don't forget to stop the container."
   ]
  },
  {
   "cell_type": "code",
   "execution_count": 2,
   "id": "47e3001f-4b52-4069-a26a-5746b609d85d",
   "metadata": {
    "vscode": {
     "languageId": "shellscript"
    }
   },
   "outputs": [
    {
     "name": "stdout",
     "output_type": "stream",
     "text": [
      "window_functions_example\n"
     ]
    }
   ],
   "source": [
    "docker stop window_functions_example"
   ]
  },
  {
   "cell_type": "markdown",
   "id": "c037d5c6",
   "metadata": {},
   "source": [
    "## Syntax\n",
    "\n",
    "If you are using a window function in the `SELECT` block of your query, you can declare a new output column using the following syntax:\n",
    "\n",
    "```sql<function> OVER (<relationship>) AS <result name>.```\n",
    "\n",
    "This allows you to compute the result of the window function and assign it to a new column with the specified `<result name>`.\n",
    "\n",
    "Functions can be quite different, but actually there are only two components of `<relationship>`: `PARTITION` and `ORDER BY` , so consider them at the beginning."
   ]
  },
  {
   "cell_type": "markdown",
   "id": "2b0c88f7-2425-4b1f-9d6b-7ec21d6ed764",
   "metadata": {},
   "source": [
    "## Partition\n",
    "\n",
    "Within the `OVER` clause, the `PARTITION BY` clause enables you to define variables whose values will be treated as groups. The window functions will be applied independently to each of these defined groups. "
   ]
  },
  {
   "cell_type": "markdown",
   "id": "2e5f2de5-e998-4975-b05f-7a7acd8a5bac",
   "metadata": {},
   "source": [
    "---\n",
    "\n",
    "Consider the simplest possible example: for each record, calculate the sum of the `some_value` by the `group` of the row."
   ]
  },
  {
   "cell_type": "code",
   "execution_count": 6,
   "id": "0b72d0b4",
   "metadata": {
    "vscode": {
     "languageId": "shellscript"
    }
   },
   "outputs": [
    {
     "name": "stdout",
     "output_type": "stream",
     "text": [
      " some_value | group | result \n",
      "------------+-------+--------\n",
      "          3 | A     |      3\n",
      "          4 | B     |      4\n",
      "          3 | C     |      7\n",
      "          3 | C     |      7\n",
      "          1 | C     |      7\n",
      "(5 rows)\n",
      "\n"
     ]
    }
   ],
   "source": [
    "docker exec -i window_functions_example psql -U postgres -d postgres << EOF\n",
    "SELECT \n",
    "    some_value, \"group\",\n",
    "    SUM(some_value) OVER (PARTITION BY \"group\") AS result\n",
    "FROM \n",
    "(\n",
    "    VALUES\n",
    "    (3, 'C', 'X'),\n",
    "    (3, 'C', 'Y'),\n",
    "    (1, 'C', 'X'),\n",
    "    (4, 'B', 'Y'),\n",
    "    (3, 'A', 'X')\n",
    ") AS temp(some_value, \"group\", group2);\n",
    "EOF"
   ]
  },
  {
   "cell_type": "markdown",
   "id": "0103c093-68dd-4dbd-850b-5bab9fa5a775",
   "metadata": {},
   "source": [
    "Now, let's explore a more exotic example to better understand the flexibility of this tool. In this case, for each unique `some_value` we correspond emumeration of the possible values of `group` that ocur with that options of `some_value`."
   ]
  },
  {
   "cell_type": "code",
   "execution_count": 11,
   "id": "876588e8-8078-497e-a32e-f2bfffae4b06",
   "metadata": {
    "vscode": {
     "languageId": "shellscript"
    }
   },
   "outputs": [
    {
     "name": "stdout",
     "output_type": "stream",
     "text": [
      " some_value | group | result  \n",
      "------------+-------+---------\n",
      "          1 | C     | C\n",
      "          3 | C     | C, B, A\n",
      "          3 | B     | C, B, A\n",
      "          3 | A     | C, B, A\n",
      "          4 | B     | B\n",
      "(5 rows)\n",
      "\n"
     ]
    }
   ],
   "source": [
    "docker exec -i window_functions_example psql -U postgres -d postgres << EOF\n",
    "SELECT \n",
    "    some_value, \"group\",\n",
    "    string_agg(\"group\", ', ') OVER (PARTITION BY some_value) AS result\n",
    "FROM (\n",
    "    VALUES\n",
    "    (3, 'C', 'X'),\n",
    "    (3, 'B', 'Y'),\n",
    "    (1, 'C', 'X'),\n",
    "    (4, 'B', 'Y'),\n",
    "    (3, 'A', 'X')\n",
    ") AS temp(some_value, \"group\", group2);\n",
    "EOF"
   ]
  },
  {
   "cell_type": "markdown",
   "id": "6448af7d",
   "metadata": {},
   "source": [
    "### Several variables\n",
    "\n",
    "When you specify two or more variables within the `PARTITION BY` clause, you create partitions based on a **composite** of those columns."
   ]
  },
  {
   "cell_type": "markdown",
   "id": "df18d94e",
   "metadata": {},
   "source": [
    "---\n",
    "\n",
    "This example demonstrates how to calculate the sum of `some_value` for every unique combination of `group` and `group2`. "
   ]
  },
  {
   "cell_type": "code",
   "execution_count": 12,
   "id": "f8a707fc",
   "metadata": {
    "vscode": {
     "languageId": "shellscript"
    }
   },
   "outputs": [
    {
     "name": "stdout",
     "output_type": "stream",
     "text": [
      " some_value | group | group2 | result \n",
      "------------+-------+--------+--------\n",
      "          3 | A     | X      |      3\n",
      "          3 | B     | Y      |      7\n",
      "          4 | B     | Y      |      7\n",
      "          3 | C     | X      |      4\n",
      "          1 | C     | X      |      4\n",
      "(5 rows)\n",
      "\n"
     ]
    }
   ],
   "source": [
    "docker exec -i window_functions_example psql -U postgres -d postgres << EOF\n",
    "SELECT \n",
    "    some_value, \"group\", group2, \n",
    "    SUM(some_value) OVER (PARTITION BY \"group\", group2) AS result\n",
    "FROM (\n",
    "    VALUES\n",
    "    (3, 'C', 'X'),\n",
    "    (3, 'B', 'Y'),\n",
    "    (1, 'C', 'X'),\n",
    "    (4, 'B', 'Y'),\n",
    "    (3, 'A', 'X')\n",
    ") AS temp(some_value, \"group\", group2);\n",
    "EOF"
   ]
  },
  {
   "cell_type": "markdown",
   "id": "1c096b77-d8c5-4be2-8b6d-d22f46fdf024",
   "metadata": {},
   "source": [
    "## Order by\n",
    "\n",
    "The `ORDER BY` clause defines the order of application of the window function. Each unique value of the ordering variable in the aggregation will contain only values corresponding to the previous values according to the order. "
   ]
  },
  {
   "cell_type": "markdown",
   "id": "b6f6ad35-c1dc-4403-b01f-0c3973e43c14",
   "metadata": {},
   "source": [
    "---\n",
    "\n",
    "The following examples apply to the computation of sums of `some_value` in the order defined by `group`."
   ]
  },
  {
   "cell_type": "code",
   "execution_count": 13,
   "id": "730ec11c-7086-4505-8d1b-09881c44e6a3",
   "metadata": {
    "vscode": {
     "languageId": "shellscript"
    }
   },
   "outputs": [
    {
     "name": "stdout",
     "output_type": "stream",
     "text": [
      " some_value | group | sv \n",
      "------------+-------+----\n",
      "          3 | A     |  3\n",
      "          3 | B     | 10\n",
      "          4 | B     | 10\n",
      "          3 | C     | 14\n",
      "          1 | C     | 14\n",
      "(5 rows)\n",
      "\n"
     ]
    }
   ],
   "source": [
    "docker exec -i window_functions_example psql -U postgres -d postgres << EOF\n",
    "SELECT \n",
    "    some_value, \"group\",\n",
    "    SUM(some_value) OVER (ORDER BY \"group\") AS sv\n",
    "FROM (\n",
    "    VALUES\n",
    "    (3, 'C', 'X'),\n",
    "    (3, 'B', 'Y'),\n",
    "    (1, 'C', 'X'),\n",
    "    (4, 'B', 'Y'),\n",
    "    (3, 'A', 'X')\n",
    ") AS temp(some_value, \"group\", group2);\n",
    "EOF"
   ]
  },
  {
   "cell_type": "markdown",
   "id": "ce9fa2fb-7a04-466d-b016-c59c4a0c0226",
   "metadata": {},
   "source": [
    "So for `A` we only have the sum of the `some_values` of the rows corresponding to the `A` group. But for `B` we have the sum on both `A` and `B` groups and so on."
   ]
  },
  {
   "cell_type": "markdown",
   "id": "15bae69b",
   "metadata": {},
   "source": [
    "## Partition and order\n",
    "\n",
    "You can combine `PARTITION BY` and `ORDER BY` within a single `OVER` clause. This allows you to compute aggregations for each distinct combination of variables specified in `PARTITION BY`, while accumulating the aggregation only based on the unique values defined in the `ORDER BY` clause."
   ]
  },
  {
   "cell_type": "markdown",
   "id": "4f9af4bd",
   "metadata": {},
   "source": [
    "---\n",
    "\n",
    "This example uses `group2` for the `PARTITION BY` clause and `group` for the `ORDER BY` clause within the `OVER` clause. "
   ]
  },
  {
   "cell_type": "code",
   "execution_count": 16,
   "id": "cc98de9a",
   "metadata": {
    "vscode": {
     "languageId": "shellscript"
    }
   },
   "outputs": [
    {
     "name": "stdout",
     "output_type": "stream",
     "text": [
      " some_value | group | group2 | sv \n",
      "------------+-------+--------+----\n",
      "          3 | A     | X      |  3\n",
      "          1 | B     | X      |  4\n",
      "          3 | C     | X      |  7\n",
      "          3 | B     | Y      |  3\n",
      "          4 | C     | Y      |  7\n",
      "(5 rows)\n",
      "\n"
     ]
    }
   ],
   "source": [
    "docker exec -i window_functions_example psql -U postgres -d postgres << EOF\n",
    "SELECT \n",
    "    some_value, \"group\", group2,\n",
    "    SUM(some_value) OVER (PARTITION BY group2 ORDER BY \"group\") AS sv\n",
    "FROM (\n",
    "    VALUES\n",
    "    (3, 'C', 'X'),\n",
    "    (3, 'B', 'Y'),\n",
    "    (1, 'B', 'X'),\n",
    "    (4, 'C', 'Y'),\n",
    "    (3, 'A', 'X')\n",
    ") AS temp(some_value, \"group\", group2);\n",
    "EOF"
   ]
  },
  {
   "cell_type": "markdown",
   "id": "bd03c7f6",
   "metadata": {},
   "source": [
    "As a result, each unique combination of `group` and `group2` receives its own calculated value.  Within each `group2` value, the `group` values are ordered, and the aggregation accumulates only within that specific `group2` value. This means that different `group2` values have independent sequences for the aggregation. "
   ]
  },
  {
   "cell_type": "markdown",
   "id": "ed2ae39c",
   "metadata": {},
   "source": [
    "## Functions\n",
    "\n",
    "While window functions can utilize aggregation functions, there are specialized functions specifically designed for use with window functions. We'll explore these dedicated window functions in this section. For more detailed information, please refer to the [specific page](window_functions/functions.ipynb).\n",
    "\n",
    "There is a table that lists some popular window functions.\n",
    "\n",
    "| Function        | Description                                               |\n",
    "|-----------------|-----------------------------------------------------------|\n",
    "| `ROW_NUMBER()`  | Assigns a unique sequential integer to rows within a partition. |\n",
    "| `RANK()`        | Assigns a rank to each row with gaps in ranking for ties. |\n",
    "| `DENSE_RANK()`  | Assigns a rank to each row without gaps in ranking for ties. |\n",
    "| `NTILE(n)`      | Divides the result set into `n` parts and assigns a bucket number. |\n",
    "| `LEAD()`        | Accesses data from the next row in the result set.        |\n",
    "| `LAG()`         | Accesses data from the previous row in the result set.    |\n",
    "| `FIRST_VALUE()` | Returns the first value in an ordered partition.          |\n",
    "| `LAST_VALUE()`  | Returns the last value in an ordered partition.           |\n",
    "| `NTH_VALUE()`   | Returns the nth value in an ordered partition.            |\n"
   ]
  },
  {
   "cell_type": "markdown",
   "id": "33c2857f",
   "metadata": {},
   "source": [
    "---\n",
    "\n",
    "The following cell shows failed attempt to apply `LAG` functions without using `OVER` clause."
   ]
  },
  {
   "cell_type": "code",
   "execution_count": 17,
   "id": "c263f461",
   "metadata": {
    "vscode": {
     "languageId": "shellscript"
    }
   },
   "outputs": [
    {
     "name": "stdout",
     "output_type": "stream",
     "text": [
      "ERROR:  relation \"example_table\" does not exist\n",
      "LINE 1: SELECT LAG(group2) FROM example_table;\n",
      "                                ^\n"
     ]
    }
   ],
   "source": [
    "docker exec -i window_functions_example psql -U postgres -d postgres << EOF\n",
    "SELECT LAG(group2) FROM example_table;\n",
    "EOF"
   ]
  },
  {
   "cell_type": "markdown",
   "id": "bbd93747",
   "metadata": {},
   "source": [
    "The error message indicates that you cannot use window functions without specifying an `OVER` clause. "
   ]
  }
 ],
 "metadata": {
  "kernelspec": {
   "display_name": "Bash",
   "language": "bash",
   "name": "bash"
  },
  "language_info": {
   "codemirror_mode": "shell",
   "file_extension": ".sh",
   "mimetype": "text/x-sh",
   "name": "bash"
  }
 },
 "nbformat": 4,
 "nbformat_minor": 5
}
