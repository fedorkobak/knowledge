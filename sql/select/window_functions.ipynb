{
 "cells": [
  {
   "cell_type": "markdown",
   "id": "ff43885f-037d-4b9f-ad26-89944fbb35cf",
   "metadata": {},
   "source": [
    "# Window functions (OVER)\n",
    "\n",
    "Check following sources:\n",
    "\n",
    "- [SQL window functions](https://mode.com/sql-tutorial/sql-window-functions) tutorial on mode.com.\n",
    "- [Window functions](https://www.postgresql.org/docs/9.1/tutorial-window.html) article on official postgres documentation.\n",
    "\n",
    "A window function performs a calculation across a set of table rows that are somehow related to the current row. This is comparable to the type of calculation that can be done with an aggregate function. But unlike regular aggregate functions, use of a window function does not cause rows to become grouped into a single output row — the rows retain their separate identities. Behind the scenes, the window function is able to access more than just the current row of the query result.\n",
    "\n",
    "In fact, you are doing something like aggregation, but the results are not collapsed by variable aggregation."
   ]
  },
  {
   "cell_type": "markdown",
   "id": "9a520321-a913-44a7-b994-a8b9fd21312b",
   "metadata": {},
   "source": [
    "Let's consider an example for this page. We have a numeric variable called `some_variable`, on which we will apply various functions. Also, we have a `group` variable that represents the relationship between rows."
   ]
  },
  {
   "cell_type": "code",
   "execution_count": 1,
   "id": "a7009678-8c52-43d6-8636-4709c07af560",
   "metadata": {},
   "outputs": [
    {
     "name": "stdout",
     "output_type": "stream",
     "text": [
      "CREATE TABLE\n",
      "INSERT 0 10\n",
      " some_value | group \n",
      "------------+-------\n",
      "          2 | A\n",
      "          1 | A\n",
      "          9 | A\n",
      "          4 | A\n",
      "          8 | A\n",
      "          0 | B\n",
      "          0 | A\n",
      "          5 | A\n",
      "          8 | B\n",
      "          5 | A\n",
      "(10 rows)\n",
      "\n"
     ]
    }
   ],
   "source": [
    "%%bash\n",
    "docker run -d --rm\\\n",
    "    --name window_functions_example\\\n",
    "    -e POSTGRES_PASSWORD=postgres\\\n",
    "    postgres:15.4 &> /dev/null\n",
    "sleep 5\n",
    "docker exec -i window_functions_example psql -U postgres -d postgres\n",
    "\n",
    "CREATE TABLE example_table (\n",
    "    some_value INT NOT NULL,\n",
    "    \"group\" TEXT NOT NULL\n",
    ");\n",
    "INSERT INTO example_table (some_value, \"group\") VALUES\n",
    "(2, 'A'),\n",
    "(1, 'A'),\n",
    "(9, 'A'),\n",
    "(4, 'A'),\n",
    "(8, 'A'),\n",
    "(0, 'B'),\n",
    "(0, 'A'),\n",
    "(5, 'A'),\n",
    "(8, 'B'),\n",
    "(5, 'A');\n",
    "\n",
    "SELECT * FROM example_table;"
   ]
  },
  {
   "cell_type": "markdown",
   "id": "4f4ae5c3",
   "metadata": {},
   "source": [
    "**Note** Don't forget to stop the container."
   ]
  },
  {
   "cell_type": "code",
   "execution_count": null,
   "id": "47e3001f-4b52-4069-a26a-5746b609d85d",
   "metadata": {},
   "outputs": [],
   "source": [
    "!docker stop window_functions_example"
   ]
  },
  {
   "cell_type": "markdown",
   "id": "c037d5c6",
   "metadata": {},
   "source": [
    "## Syntax\n",
    "\n",
    "If you are using a window function in the `SELECT` block of your query, you can declare a new output column using the following syntax:\n",
    "\n",
    "```sql<function> OVER (<relationship>) AS <result name>.```\n",
    "\n",
    "This allows you to compute the result of the window function and assign it to a new column with the specified `<result name>`."
   ]
  },
  {
   "cell_type": "code",
   "execution_count": 17,
   "id": "0b72d0b4",
   "metadata": {},
   "outputs": [
    {
     "name": "stdout",
     "output_type": "stream",
     "text": [
      " some_value | group | sv \n",
      "------------+-------+----\n",
      "          2 | A     | 34\n",
      "          1 | A     | 34\n",
      "          9 | A     | 34\n",
      "          4 | A     | 34\n",
      "          8 | A     | 34\n",
      "          5 | A     | 34\n",
      "          5 | A     | 34\n",
      "          0 | A     | 34\n",
      "          0 | B     |  8\n",
      "          8 | B     |  8\n",
      "(10 rows)\n",
      "\n"
     ]
    }
   ],
   "source": [
    "%%bash\n",
    "docker exec -i window_functions_example psql -U postgres -d postgres\n",
    "\n",
    "SELECT \n",
    "    some_value, \"group\",\n",
    "    SUM(some_value) OVER (PARTITION BY \"group\") AS sv\n",
    "FROM example_table;"
   ]
  }
 ],
 "metadata": {
  "kernelspec": {
   "display_name": "Python 3 (ipykernel)",
   "language": "python",
   "name": "python3"
  },
  "language_info": {
   "codemirror_mode": {
    "name": "ipython",
    "version": 3
   },
   "file_extension": ".py",
   "mimetype": "text/x-python",
   "name": "python",
   "nbconvert_exporter": "python",
   "pygments_lexer": "ipython3",
   "version": "3.10.12"
  }
 },
 "nbformat": 4,
 "nbformat_minor": 5
}
