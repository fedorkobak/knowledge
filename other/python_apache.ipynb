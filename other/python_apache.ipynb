{
 "cells": [
  {
   "cell_type": "markdown",
   "id": "d0b140b6-f187-4dea-a3af-c5d06d8e846d",
   "metadata": {
    "jp-MarkdownHeadingCollapsed": true
   },
   "source": [
    "# Python with apache\n",
    "\n",
    "For examples in this notebook I use special docker containers - docker file for container shown in `python_apache_files` folder. So to run examples from this section you should build image by running command `docker build -t my_apache .` from `python_apache_files` directory. This docker image will contain:\n",
    "\n",
    "- Installed programs:\n",
    "    - `nano` - for easy files editing from container;\n",
    "    - `python3`;\n",
    "    - `libapache2-mod-wsgi-py3` - it is the necessary programme for forking Apache with Python;\n",
    "    - `python3.11-venv` - to configue python virtual environments;\n",
    "    - `curl` - to try ulrs from container.\n",
    "- `mkdir /var/www/application` - for useful applications;\n",
    "- `python3 -m venv /var/www/application/venv` Python environment - it's not necessary here, but it's good practice to do it:\n",
    "    - Installed `Dash` library for dealing with Web BI in Python."
   ]
  },
  {
   "cell_type": "markdown",
   "id": "fdf4d335-1c1a-4df5-8abc-97f3ec8ce838",
   "metadata": {},
   "source": [
    "# Sources\n",
    "\n",
    "- WSGI:\n",
    "    - <a href=\"https://modwsgi.readthedocs.io/en/develop/index.html\">Package implements a simple to use Apache module which can host any Python web application</a>;\n",
    "        - <a href=\"https://modwsgi.readthedocs.io/en/develop/user-guides/quick-configuration-guide.html\"> Quick configuration guide</a>;\n",
    "        - <a href=\"https://modwsgi.readthedocs.io/en/develop/user-guides/configuration-guidelines.html#the-wsgiscriptalias-directive\">The WSGIScriptAlias Directive</a>;"
   ]
  },
  {
   "cell_type": "markdown",
   "id": "193c65bc-0169-4e42-8899-6ddfde5afcf9",
   "metadata": {},
   "source": [
    "# **My server configuration**\n",
    "\n",
    "Here I will show you how to start the server that contains all the examples in this notebook. More specific details about this server are described in the following sections."
   ]
  },
  {
   "cell_type": "markdown",
   "id": "8ace4f75-32a7-4cb0-8a33-1c7a62f70334",
   "metadata": {},
   "source": [
    "## `ports.conf`\n",
    "\n",
    "Config that describes which ports to listen on. By default, apache2 ports.conf only uses ports 80 and 443. But for some examples I need port 8050, so I use it as well."
   ]
  },
  {
   "cell_type": "code",
   "execution_count": 48,
   "id": "b314b10a-ac2f-4661-b784-89db969a79be",
   "metadata": {},
   "outputs": [
    {
     "name": "stdout",
     "output_type": "stream",
     "text": [
      "# If you just change the port or add more ports here, you will likely also\n",
      "# have to change the VirtualHost statement in\n",
      "# /etc/apache2/sites-enabled/000-default.conf\n",
      "\n",
      "Listen 80\n",
      "Listen 8050\n",
      "\n",
      "<IfModule ssl_module>\n",
      "        Listen 443\n",
      "</IfModule>\n",
      "\n",
      "<IfModule mod_gnutls.c>\n",
      "        Listen 443\n",
      "</IfModule>"
     ]
    }
   ],
   "source": [
    "%%bash\n",
    "cat python_apache_files/ports.conf"
   ]
  },
  {
   "cell_type": "markdown",
   "id": "48473411-e94d-4e9b-b61b-875452db10e0",
   "metadata": {},
   "source": [
    "## Launching"
   ]
  },
  {
   "cell_type": "markdown",
   "id": "1238dcad-af47-4aaa-8e9c-09207aedf9d1",
   "metadata": {},
   "source": [
    "By running this section on our local host, a number of sites will be hosted:"
   ]
  },
  {
   "cell_type": "code",
   "execution_count": 52,
   "id": "7c6e38fd-da2b-4614-ab34-708b28ce9211",
   "metadata": {},
   "outputs": [
    {
     "name": "stdout",
     "output_type": "stream",
     "text": [
      "Enabling site wsgi_basic.\n",
      "To activate the new configuration, you need to run:\n",
      "  service apache2 reload\n",
      "Enabling site spec_port.\n",
      "To activate the new configuration, you need to run:\n",
      "  service apache2 reload\n",
      "Site 000-default disabled.\n",
      "To activate the new configuration, you need to run:\n",
      "  service apache2 reload\n",
      " * Reloading Apache httpd web server apache2\n",
      " * \n"
     ]
    }
   ],
   "source": [
    "%%bash\n",
    "cd python_apache_files\n",
    "\n",
    "docker run --rm --name test_apache -d -p 81:80 -p 82:8050 my_apache &> /dev/null\n",
    "\n",
    "\n",
    "docker cp ports.conf test_apache:/etc/apache2/ports.conf\n",
    "\n",
    "# wsgi basics\n",
    "docker cp wsgi_example/wsgi_basic.wsgi test_apache:/var/www/application/wsgi_basic.wsgi\n",
    "docker cp wsgi_example/suburl.wsgi test_apache:/var/www/application/suburl.wsgi\n",
    "docker cp wsgi_example/wsgi_basic.conf test_apache:/etc/apache2/sites-available/wsgi_basic.conf\n",
    "docker exec test_apache a2ensite wsgi_basic\n",
    "\n",
    "# specific port\n",
    "docker cp use_specific_port/spec_port.wsgi test_apache:/var/www/application/spec_port.wsgi\n",
    "docker cp use_specific_port/spec_port.conf test_apache:/etc/apache2/sites-available/spec_port.conf\n",
    "docker exec test_apache a2ensite spec_port\n",
    "\n",
    "# dash application\n",
    "# docker exec test_apache mkdir /var/www/dash\n",
    "docker cp dash/dash.wsgi test_apache:/var/www/application/dash.wsgi\n",
    "docker cp dash/app.py test_apache:/var/www/application/app.py\n",
    "# docker cp dash/dash.wsgi test_apache:/var/www/dash/dash.wsgi\n",
    "# docker cp dash/app.py test_apache:/var/www/dash/app.py\n",
    "# docker cp dash/dash.conf test_apache:/etc/apache2/sites-available/dash.conf\n",
    "# docker exec test_apache a2ensite dash\n",
    "\n",
    "# docker exec test_apache chown -R :www-data /var/www/application\n",
    "# docker exec test_apache chmod -R o-rw /var/www/application\n",
    "\n",
    "\n",
    "docker exec test_apache a2dissite 000-default\n",
    "docker exec test_apache service apache2 reload"
   ]
  },
  {
   "cell_type": "markdown",
   "id": "0409b6c7-5af0-479d-9c88-84f4e5739716",
   "metadata": {},
   "source": [
    "**Note:** for the site to work for any reason, it's extremely important to stop apache2 default page with `a2dissite 000-default` command."
   ]
  },
  {
   "cell_type": "markdown",
   "id": "0bb66f7e-1ac6-4ba0-a421-104b2916b44a",
   "metadata": {},
   "source": [
    "By runnig the following cell - sites will be stopped:"
   ]
  },
  {
   "cell_type": "code",
   "execution_count": 51,
   "id": "ff008e2d-a89b-4167-85e2-4be6447188e7",
   "metadata": {},
   "outputs": [
    {
     "name": "stdout",
     "output_type": "stream",
     "text": [
      "test_apache\n"
     ]
    }
   ],
   "source": [
    "%%bash\n",
    "docker stop test_apache"
   ]
  },
  {
   "cell_type": "markdown",
   "id": "bdba3aa7-ba0d-4d28-b9bb-69073f530de7",
   "metadata": {},
   "source": [
    "# **WSGI basics**\n",
    "\n",
    "WSGI is a special interface that allows Python programs and web servers to talk to each other. The site described in this section can only be accessed from root at localhost:81, so type `localhost:81` in your browser."
   ]
  },
  {
   "cell_type": "markdown",
   "id": "d9d69bf1-832c-40e1-90ab-1811933b1e6a",
   "metadata": {},
   "source": [
    "## wsgi application\n",
    "\n",
    "We need a WSGI application - this is a Python program that is used when you ask for a specific URL. It should have essance with name application, in basic option it can be just function. So in the following example I show exactly this option:"
   ]
  },
  {
   "cell_type": "code",
   "execution_count": 157,
   "id": "a9248b64-d850-4a05-8607-83c631b8bca4",
   "metadata": {},
   "outputs": [
    {
     "name": "stdout",
     "output_type": "stream",
     "text": [
      "def application(environ, start_response):\n",
      "    status = '200 OK'\n",
      "    output = b\"I'm application from root. Basic example of wsgi\"\n",
      "\n",
      "    response_headers = [('Content-type', 'text/plain'),\n",
      "                        ('Content-Length', str(len(output)))]\n",
      "    start_response(status, response_headers)\n",
      "\n",
      "    return [output]"
     ]
    }
   ],
   "source": [
    "%%bash\n",
    "cat python_apache_files/wsgi_example/wsgi_basic.wsgi"
   ]
  },
  {
   "cell_type": "markdown",
   "id": "4be850f4-fe45-4f77-a2e8-032fa55b9336",
   "metadata": {},
   "source": [
    "## Site config\n",
    "\n",
    "\n",
    "Really important file that describe site behavior. Crusial information:\n",
    "\n",
    "- Should be placed in `/ect/apache2/apailible-sites`;\n",
    "- `WSGIScriptAlias` directive to describe which Python file will be used as the entry point, and which suburl of the site it will use;\n",
    "-  `WSGIDaemonProcess` -> `python-path` describe which Python interpreter should be used.;"
   ]
  },
  {
   "cell_type": "code",
   "execution_count": 158,
   "id": "8d9ac714-9960-4a46-bbfd-f9c4ffa3f199",
   "metadata": {},
   "outputs": [
    {
     "name": "stdout",
     "output_type": "stream",
     "text": [
      "<VirtualHost *:80>\n",
      "        ServerName application\n",
      "        ServerAdmin webmaster@localhost\n",
      "        DocumentRoot /var/www/application\n",
      "\n",
      "        ErrorLog ${APACHE_LOG_DIR}/error.log\n",
      "        CustomLog ${APACHE_LOG_DIR}/access.log combined\n",
      "\n",
      "        WSGIDaemonProcess application threads=5 user=www-data group=www-data python-path=/var/www/application/venv/lib/python3.11/site-packages python-home=/var/www/application/venv\n",
      "\n",
      "        WSGIScriptAlias /suburl /var/www/application/suburl.wsgi\n",
      "        WSGIScriptAlias / /var/www/application/wsgi_basic.wsgi\n",
      "        \n",
      "        <Directory /var/www/application>\n",
      "                Order deny,allow\n",
      "                Allow from all\n",
      "        </Directory>\n",
      "\n",
      "</VirtualHost>"
     ]
    }
   ],
   "source": [
    "%%bash\n",
    "cat python_apache_files/wsgi_example/wsgi_basic.conf"
   ]
  },
  {
   "cell_type": "markdown",
   "id": "3876ee3c-0b33-4586-95b0-f1e16e21af30",
   "metadata": {},
   "source": [
    "# Subulr\n",
    "\n",
    "If you want to have several wsgi scripts on one server, you can use suburl - url to access these pages will be like `<name of site>/<sub page>`. So in the central example of this notebook, `/suburl` is used to describe subrul:\n",
    "\n",
    "`WSGIScriptAlias /suburl /var/www/application/suburl.wsgi`\n",
    "\n",
    "**Note** Suburls should be written before the root url. It looks like higher level urls (which closer to root) will overwrite lower level ones. **good option to test in future!**\n",
    "\n",
    "You can test the example by typing `localhost:81/suburl` in browser line after starting the apache web server."
   ]
  },
  {
   "cell_type": "markdown",
   "id": "acd6a8d8-cb74-4ea6-b300-5e07e965abd2",
   "metadata": {},
   "source": [
    "# **Use different port**"
   ]
  },
  {
   "cell_type": "markdown",
   "id": "d748e324-3bed-4be0-a997-17828c60ffd2",
   "metadata": {},
   "source": [
    "To start the application on a different port, you need to\n",
    "\n",
    "- Make apache listen to it by using `ports.conf` in the apache program folder;\n",
    "- On the config page you should specify port 8050 in the `VirtualHost` directive.\n",
    "\n",
    "So this site uses files"
   ]
  },
  {
   "cell_type": "markdown",
   "id": "0c54bad0-3095-4e28-a3bb-169e977fded9",
   "metadata": {},
   "source": [
    "- python file - just different message"
   ]
  },
  {
   "cell_type": "code",
   "execution_count": 53,
   "id": "9fa4e2eb-5a85-4171-9c5a-b0c453673ae7",
   "metadata": {},
   "outputs": [
    {
     "name": "stdout",
     "output_type": "stream",
     "text": [
      "def application(environ, start_response):\n",
      "    status = '200 OK'\n",
      "    output = b\"I'm application from root from specific port.\"\n",
      "\n",
      "    response_headers = [('Content-type', 'text/plain'),\n",
      "                        ('Content-Length', str(len(output)))]\n",
      "    start_response(status, response_headers)\n",
      "\n",
      "    return [output]"
     ]
    }
   ],
   "source": [
    "%%bash\n",
    "cat python_apache_files/use_specific_port/spec_port.wsgi"
   ]
  },
  {
   "cell_type": "markdown",
   "id": "31e8d7f8-1452-4df2-95e5-7ab3df17d8a7",
   "metadata": {},
   "source": [
    "- site config use 8050 as port in `VirtualHost` directive "
   ]
  },
  {
   "cell_type": "code",
   "execution_count": 54,
   "id": "2e018eb5-c734-4437-8d2b-c8c94ff603e9",
   "metadata": {},
   "outputs": [
    {
     "name": "stdout",
     "output_type": "stream",
     "text": [
      "<VirtualHost *:8050>\n",
      "        ServerName application\n",
      "        ServerAdmin webmaster@localhost\n",
      "        DocumentRoot /var/www/application\n",
      "\n",
      "        ErrorLog ${APACHE_LOG_DIR}/error.log\n",
      "        CustomLog ${APACHE_LOG_DIR}/access.log combined\n",
      "\n",
      "        WSGIScriptAlias / /var/www/application/spec_port.wsgi\n",
      "\n",
      "        <Directory /var/www/application>\n",
      "                WSGIProcessGroup application\n",
      "                WSGIApplicationGroup %{GLOBAL}\n",
      "                Order deny,allow\n",
      "                Allow from all\n",
      "        </Directory>\n",
      "\n",
      "</VirtualHost>"
     ]
    }
   ],
   "source": [
    "%%bash\n",
    "cat python_apache_files/use_specific_port/spec_port.conf"
   ]
  },
  {
   "cell_type": "markdown",
   "id": "6edaabdd-7238-45ea-9f45-001eb7159fff",
   "metadata": {},
   "source": [
    "So this site is accessible from `localhost:82` (you can see that I set port 8050 for this site, but at the docker level in which I run these examples there is a redirection from 8050 to port 82 - so on the host from will be available on port 82)"
   ]
  },
  {
   "cell_type": "markdown",
   "id": "65149dae-3992-46d4-9088-ac75bbe3de46",
   "metadata": {},
   "source": [
    "# **Dash application**\n",
    "\n",
    "Dash is python data visualisation framwork based on flask. This section describe how to deploay dash application on apache2 web server."
   ]
  },
  {
   "cell_type": "markdown",
   "id": "366923a8-7aac-457f-928c-56540dd9f0a3",
   "metadata": {},
   "source": [
    "## dash application"
   ]
  },
  {
   "cell_type": "code",
   "execution_count": 53,
   "id": "7a05368a-f6bf-43e9-9e5f-065ea48c31fa",
   "metadata": {},
   "outputs": [
    {
     "name": "stdout",
     "output_type": "stream",
     "text": [
      "from dash import Dash, html\n",
      "\n",
      "app = Dash(__name__, requests_pathname_prefix='/dash/')\n",
      "app.layout = html.Div(\"Hello world\")\n",
      "\n",
      "server = app.server\n",
      "\n",
      "if __name__ == \"__main__\":\n",
      "\tapp.run_server(debug=True, port=8051)\n"
     ]
    }
   ],
   "source": [
    "%%bash\n",
    "cat python_apache_files/dash/app.py"
   ]
  },
  {
   "cell_type": "markdown",
   "id": "1775ebb1-e5d8-4130-8704-4db2636978ae",
   "metadata": {},
   "source": [
    "**Note**:\n",
    "- `server = app.server` is very important - it is loaded in wsgi;\n",
    "- `requests_pathname_prefix='/dash/'` in `Dash` constructor will allow to run application with suburl `dash`."
   ]
  },
  {
   "cell_type": "markdown",
   "id": "651c926c-9c4e-446b-aa8a-80335b95ad73",
   "metadata": {},
   "source": [
    "## wsgi file"
   ]
  },
  {
   "cell_type": "markdown",
   "id": "d6621805-0586-42d4-92a2-fed81b083880",
   "metadata": {},
   "source": [
    "The main purpose of the wsgi file here is to load `dash.Dash` as an `application` essence for wsgi."
   ]
  },
  {
   "cell_type": "code",
   "execution_count": 54,
   "id": "d5bb9b49-9ce1-4fd3-8047-5610c8529c62",
   "metadata": {},
   "outputs": [
    {
     "name": "stdout",
     "output_type": "stream",
     "text": [
      "import sys\n",
      "sys.path.insert(0,\"/var/www/application/\")\n",
      "from app import server as application"
     ]
    }
   ],
   "source": [
    "%%bash\n",
    "cat python_apache_files/dash/dash.wsgi"
   ]
  }
 ],
 "metadata": {
  "kernelspec": {
   "display_name": "Python 3 (ipykernel)",
   "language": "python",
   "name": "python3"
  },
  "language_info": {
   "codemirror_mode": {
    "name": "ipython",
    "version": 3
   },
   "file_extension": ".py",
   "mimetype": "text/x-python",
   "name": "python",
   "nbconvert_exporter": "python",
   "pygments_lexer": "ipython3",
   "version": "3.10.6"
  }
 },
 "nbformat": 4,
 "nbformat_minor": 5
}
