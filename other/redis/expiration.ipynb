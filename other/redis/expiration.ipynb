{
 "cells": [
  {
   "cell_type": "markdown",
   "id": "630f62af-c224-4ad4-9060-0a9fcc4fb912",
   "metadata": {},
   "source": [
    "# Expiration\n",
    "\n",
    "In `redis` there are many options that allow you to delete objects after a certain amount of time."
   ]
  },
  {
   "cell_type": "markdown",
   "id": "ee6b8af6-4ae7-4357-912a-2f41e317cb25",
   "metadata": {},
   "source": [
    "## expire\n",
    "\n",
    "The `EXPIRE` command in Redis is used to set an expiration time (or TTL - Time To Live) for a key. It specifies the number of seconds until the key will automatically be deleted. This command is particularly useful when you want certain data to be automatically removed from the database after a certain period of time, such as cache data or session information.\n",
    "\n",
    "To use it we should follow syntax `expire test <number of users>`"
   ]
  },
  {
   "cell_type": "markdown",
   "id": "aca9e6d5-0000-417b-b719-f8bdac608b38",
   "metadata": {},
   "source": [
    "This creates a variable under the `test` key."
   ]
  },
  {
   "cell_type": "code",
   "execution_count": 1,
   "id": "785c90d7-0cec-4459-83e8-349e2b5f2128",
   "metadata": {},
   "outputs": [
    {
     "name": "stdout",
     "output_type": "stream",
     "text": [
      "OK\n"
     ]
    }
   ],
   "source": [
    "%%bash\n",
    "redis-cli\n",
    "SET test value_under_consideration"
   ]
  },
  {
   "cell_type": "markdown",
   "id": "b5fc94e9-7c13-46a0-9ad4-ec76d387118a",
   "metadata": {},
   "source": [
    "Now, by executing `expire` for it, we'll make it delete object under key `test` in specified delay.\n",
    "\n",
    "Then we'll check the key every second during 10 seconds to see if it will be deleted after 5th iteration. "
   ]
  },
  {
   "cell_type": "code",
   "execution_count": 2,
   "id": "881c88b0-b971-47bb-930b-dcab6738ed3c",
   "metadata": {},
   "outputs": [
    {
     "name": "stdout",
     "output_type": "stream",
     "text": [
      "1\n",
      "iteration 0 value_under_consideration\n",
      "iteration 1 value_under_consideration\n",
      "iteration 2 value_under_consideration\n",
      "iteration 3 value_under_consideration\n",
      "iteration 4 value_under_consideration\n",
      "iteration 5\n",
      "iteration 6\n",
      "iteration 7\n",
      "iteration 8\n",
      "iteration 9\n"
     ]
    }
   ],
   "source": [
    "%%bash\n",
    "redis-cli expire test 5\n",
    "\n",
    "ITERATIONS=10\n",
    "counter=0\n",
    "\n",
    "# Loop until the counter reaches the specified number of iterations\n",
    "while [ $counter -lt $ITERATIONS ]; do\n",
    "    echo \"iteration\" $counter $(redis-cli GET test)\n",
    "    ((counter++))\n",
    "    sleep 1\n",
    "done"
   ]
  },
  {
   "cell_type": "markdown",
   "id": "d680425d-bbaf-4e85-9b36-e444b1b822d1",
   "metadata": {},
   "source": [
    "So what we see in the outputs - during the first 5 seconds we get value under key. And then only empty strings."
   ]
  },
  {
   "cell_type": "markdown",
   "id": "7a778140-098d-4922-a73d-881aab285bdc",
   "metadata": {},
   "source": [
    "## setex\n",
    "\n",
    "You can easily create a variable that will expire at a selected time using the `setex` command. The syntax is `setext <key> <seconds> <value>`."
   ]
  },
  {
   "cell_type": "markdown",
   "id": "58fc629b-60fd-4540-9247-3ebf667c0280",
   "metadata": {},
   "source": [
    "The following cell shows an example as in the section about the [expire](#expire) command, but using the `setex` option."
   ]
  },
  {
   "cell_type": "code",
   "execution_count": 2,
   "id": "fcd8924d-e0ff-48e9-8189-8e038f7b2ee7",
   "metadata": {},
   "outputs": [
    {
     "name": "stdout",
     "output_type": "stream",
     "text": [
      "OK\n",
      "iteration 0 it's a value created with setex\n",
      "iteration 1 it's a value created with setex\n",
      "iteration 2 it's a value created with setex\n",
      "iteration 3 it's a value created with setex\n",
      "iteration 4 it's a value created with setex\n",
      "iteration 5\n",
      "iteration 6\n",
      "iteration 7\n",
      "iteration 8\n",
      "iteration 9\n"
     ]
    }
   ],
   "source": [
    "%%bash\n",
    "redis-cli setex test 5 \"it's a value created with setex\"\n",
    "\n",
    "ITERATIONS=10\n",
    "counter=0\n",
    "\n",
    "# Loop until the counter reaches the specified number of iterations\n",
    "while [ $counter -lt $ITERATIONS ]; do\n",
    "    echo \"iteration\" $counter $(redis-cli GET test)\n",
    "    ((counter++))\n",
    "    sleep 1\n",
    "done"
   ]
  }
 ],
 "metadata": {
  "kernelspec": {
   "display_name": "Python 3 (ipykernel)",
   "language": "python",
   "name": "python3"
  },
  "language_info": {
   "codemirror_mode": {
    "name": "ipython",
    "version": 3
   },
   "file_extension": ".py",
   "mimetype": "text/x-python",
   "name": "python",
   "nbconvert_exporter": "python",
   "pygments_lexer": "ipython3",
   "version": "3.10.12"
  }
 },
 "nbformat": 4,
 "nbformat_minor": 5
}
