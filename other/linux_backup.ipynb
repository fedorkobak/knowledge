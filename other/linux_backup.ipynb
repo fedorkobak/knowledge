{
 "cells": [
  {
   "cell_type": "markdown",
   "id": "337f1730-d4ca-4962-9537-f979e4f22dae",
   "metadata": {},
   "source": [
    "# How to linux backup\n",
    "\n",
    "- <a href=\"https://www.google.com/search?channel=fs&client=ubuntu-sn&q=how+to+linux+backup&bshm=nce/1#fpstate=ive&vld=cid:d262cccb,vid:GqSxR93xK6E\">`rsync` usage example</a>;\n",
    "- <a href=\"https://download.samba.org/pub/rsync/rsync.1\">`rsync` documentation</a>;\n",
    "- <a href=\"https://jumpcloud.com/blog/how-to-backup-linux-system-rsync\"> backup with `rsync`</a>."
   ]
  },
  {
   "cell_type": "markdown",
   "id": "ea62d6e0-3eb1-4daa-81bc-9573077b6052",
   "metadata": {},
   "source": [
    "# `rsync` basics\n",
    "\n",
    "Actually `rsync` is just a copy tool, but if you compare it with `cp` it has much more options and features."
   ]
  },
  {
   "cell_type": "markdown",
   "id": "bceebb36-6d59-4cf2-9d61-4c634e4ffc7f",
   "metadata": {},
   "source": [
    "### Basic syntax\n",
    "\n",
    "`rsync <copied file> <destination of copying>`\n",
    "\n",
    "Example follows"
   ]
  },
  {
   "cell_type": "code",
   "execution_count": 7,
   "id": "dfb3829c-9ad9-4ab0-bcad-74dccb6475e3",
   "metadata": {},
   "outputs": [
    {
     "name": "stdout",
     "output_type": "stream",
     "text": [
      "hello new file\n"
     ]
    }
   ],
   "source": [
    "%%bash\n",
    "# creating to directories\n",
    "mkdir dir1 dir2\n",
    "# creating file in dir1\n",
    "echo \"hello new file\" > dir1/test_file\n",
    "# rsynk file from dir1 to dir2\n",
    "rsync dir1/test_file dir2/test_file\n",
    "# check the message\n",
    "cat dir2/test_file\n",
    "\n",
    "rm -r dir1 dir2"
   ]
  },
  {
   "cell_type": "markdown",
   "id": "788e26c8-e7da-453c-9252-b6bf5644d72e",
   "metadata": {},
   "source": [
    "### `r` - copy *r*ecursive\n",
    "\n",
    "Allow to copy a folder with all its contents.\n",
    "\n",
    "In the following example I'm trying to copy contents from dir1 to dir2, as you can see I couldn't do it without the `r` option."
   ]
  },
  {
   "cell_type": "code",
   "execution_count": 22,
   "id": "f4c3749b-74fa-4010-ba96-47330208db57",
   "metadata": {},
   "outputs": [
    {
     "name": "stdout",
     "output_type": "stream",
     "text": [
      "=====content of dir1=====\n",
      "file1.txt\n",
      "file2.txt\n",
      "file3.txt\n",
      "file4.txt\n",
      "file5.txt\n",
      "=====no r option=====\n",
      "skipping directory .\n",
      "=====r option=====\n",
      "file1.txt\n",
      "file2.txt\n",
      "file3.txt\n",
      "file4.txt\n",
      "file5.txt\n"
     ]
    }
   ],
   "source": [
    "%%bash\n",
    "\n",
    "mkdir dir1 dir2\n",
    "touch dir1/file{1..5}.txt\n",
    "\n",
    "echo \"=====content of dir1=====\"\n",
    "ls dir1\n",
    "\n",
    "echo \"=====no r option=====\"\n",
    "rsync dir1/ dir2\n",
    "ls dir2\n",
    "\n",
    "echo \"=====r option=====\"\n",
    "rsync -r dir1/ dir2\n",
    "ls dir2\n",
    "\n",
    "rm -r dir1 dir2"
   ]
  },
  {
   "cell_type": "markdown",
   "id": "87d21cc8-f8da-482e-af85-5c1f18a5f4a7",
   "metadata": {},
   "source": [
    "### `-a` - attributes\n",
    "\n",
    "It works just like `r`, but also deals with file attributes (like creation time, user and so on). So in the following example:\n",
    "\n",
    "- Few files was created in `dir1`;\n",
    "- The user for these files has been changed from `root` to `user1`;\n",
    "- Then I use `rsync` twice:\n",
    "    - First with the `r` option, which puts the user back in `root`;\n",
    "    - Second, with the `a` option, which saves the user attribute as `user1` from source."
   ]
  },
  {
   "cell_type": "code",
   "execution_count": 38,
   "id": "6f803bda-484b-452e-a419-fa2203430115",
   "metadata": {},
   "outputs": [
    {
     "name": "stdout",
     "output_type": "stream",
     "text": [
      "=====dir1=====\n",
      "total 0\n",
      "-rw-r--r-- 1 user1 root 0 Jun 17 15:31 file1.txt\n",
      "-rw-r--r-- 1 user1 root 0 Jun 17 15:31 file2.txt\n",
      "-rw-r--r-- 1 user1 root 0 Jun 17 15:31 file3.txt\n",
      "-rw-r--r-- 1 user1 root 0 Jun 17 15:31 file4.txt\n",
      "-rw-r--r-- 1 user1 root 0 Jun 17 15:31 file5.txt\n",
      "\n",
      "=====dir2 after rsync -r=====\n",
      "total 0\n",
      "-rw-r--r-- 1 root root 0 Jun 17 15:31 file1.txt\n",
      "-rw-r--r-- 1 root root 0 Jun 17 15:31 file2.txt\n",
      "-rw-r--r-- 1 root root 0 Jun 17 15:31 file3.txt\n",
      "-rw-r--r-- 1 root root 0 Jun 17 15:31 file4.txt\n",
      "-rw-r--r-- 1 root root 0 Jun 17 15:31 file5.txt\n",
      "\n",
      "=====dir2 after rsync -a=====\n",
      "total 0\n",
      "-rw-r--r-- 1 user1 root 0 Jun 17 15:31 file1.txt\n",
      "-rw-r--r-- 1 user1 root 0 Jun 17 15:31 file2.txt\n",
      "-rw-r--r-- 1 user1 root 0 Jun 17 15:31 file3.txt\n",
      "-rw-r--r-- 1 user1 root 0 Jun 17 15:31 file4.txt\n",
      "-rw-r--r-- 1 user1 root 0 Jun 17 15:31 file5.txt\n"
     ]
    }
   ],
   "source": [
    "%%bash\n",
    "# docker container for usperuser access\n",
    "docker run --rm --name test_container -i ubuntu\n",
    "apt-get update &> /dev/null\n",
    "apt-get install -y rsync &> /dev/null\n",
    "# creating file with some specific user\n",
    "useradd user1\n",
    "mkdir dir1 dir2\n",
    "touch dir1/file{1..5}.txt\n",
    "chown user1 dir1/file*\n",
    "\n",
    "echo \"=====dir1=====\"\n",
    "ls -l dir1\n",
    "\n",
    "echo\n",
    "echo \"=====dir2 after rsync -r=====\"\n",
    "rsync -r dir1/ dir2\n",
    "ls -l dir2\n",
    "\n",
    "echo\n",
    "echo \"=====dir2 after rsync -a=====\"\n",
    "rsync -a dir1/ dir2\n",
    "ls -l dir2\n",
    "\n",
    "exit"
   ]
  },
  {
   "cell_type": "markdown",
   "id": "642fdfda-fbe7-4417-aafc-3ae98552249f",
   "metadata": {},
   "source": [
    "### `--delete` - delete extraneous\n",
    "\n",
    "If you don't use this option `rsync` will save files wich are in destination directory. Оtherwise all files that are not in the source will be deleted in the destination folder. The following exampe show:\n",
    "- In `dir2` I created file `test.txt`;\n",
    "- First I rsync files from `dir1` to `dir2` without the `--delete` option - `test.txt` is still in `dir2`;\n",
    "- Second I rsync files from `dir1` to `dir2` using the `--delete` option - `test.txt` disappears from `dir2`."
   ]
  },
  {
   "cell_type": "code",
   "execution_count": 6,
   "id": "0051b746-0f4a-4bd5-9a9f-ebbd7add5390",
   "metadata": {},
   "outputs": [
    {
     "name": "stdout",
     "output_type": "stream",
     "text": [
      "====initial dir2=====\n",
      "test.txt\n",
      "=====dir2 after rsync no --delete=====\n",
      "file1.txt\n",
      "file2.txt\n",
      "file3.txt\n",
      "file4.txt\n",
      "file5.txt\n",
      "test.txt\n",
      "=====dir2 after rsync with --delete=====\n",
      "file1.txt\n",
      "file2.txt\n",
      "file3.txt\n",
      "file4.txt\n",
      "file5.txt\n"
     ]
    }
   ],
   "source": [
    "%%bash\n",
    "mkdir dir1 dir2\n",
    "touch dir1/file{1..5}.txt\n",
    "touch dir2/test.txt\n",
    "\n",
    "echo \"====initial dir2=====\"\n",
    "ls dir2\n",
    "\n",
    "echo \"=====dir2 after rsync no --delete=====\"\n",
    "rsync -r dir1/ dir2\n",
    "ls dir2\n",
    "\n",
    "echo \"=====dir2 after rsync with --delete=====\"\n",
    "rsync -r --delete dir1/ dir2\n",
    "ls dir2\n",
    "\n",
    "rm -r dir1 dir2"
   ]
  }
 ],
 "metadata": {
  "kernelspec": {
   "display_name": "Python 3 (ipykernel)",
   "language": "python",
   "name": "python3"
  },
  "language_info": {
   "codemirror_mode": {
    "name": "ipython",
    "version": 3
   },
   "file_extension": ".py",
   "mimetype": "text/x-python",
   "name": "python",
   "nbconvert_exporter": "python",
   "pygments_lexer": "ipython3",
   "version": "3.10.6"
  }
 },
 "nbformat": 4,
 "nbformat_minor": 5
}
