{
 "cells": [
  {
   "cell_type": "markdown",
   "id": "80685b23-0b65-4f84-a652-4de873a5c8a4",
   "metadata": {},
   "source": [
    "# HTML concepts"
   ]
  },
  {
   "cell_type": "code",
   "execution_count": 1,
   "id": "fa82b307-960c-47e0-b337-2658304934e9",
   "metadata": {},
   "outputs": [],
   "source": [
    "from IPython.display import HTML"
   ]
  },
  {
   "cell_type": "markdown",
   "id": "70fd7b3b-2e70-4514-bf82-0ba2dbb6c47f",
   "metadata": {},
   "source": [
    "# Common attributes\n",
    "\n",
    "- `id` - object identificator;"
   ]
  },
  {
   "cell_type": "markdown",
   "id": "d4dcc10f-c94b-40c4-ba26-8d586fc33c88",
   "metadata": {},
   "source": [
    "# Tags"
   ]
  },
  {
   "cell_type": "markdown",
   "id": "5a843d60-8e76-4739-81ac-baa74e0d38da",
   "metadata": {},
   "source": [
    "## `<p>` - paragraph\n",
    "\n",
    "Creates a new paragraph."
   ]
  },
  {
   "cell_type": "code",
   "execution_count": 9,
   "id": "06ea3505-da20-4e18-b5b6-2771629f67b6",
   "metadata": {},
   "outputs": [
    {
     "data": {
      "text/html": [
       "\n",
       "    <p>Paragraph 1</p><p>Paragraph 2</p><p>...</p><p>Paragraph n</p>\n",
       "    "
      ],
      "text/plain": [
       "<IPython.core.display.HTML object>"
      ]
     },
     "execution_count": 9,
     "metadata": {},
     "output_type": "execute_result"
    }
   ],
   "source": [
    "HTML(\n",
    "    '''\n",
    "    <p>Paragraph 1</p><p>Paragraph 2</p><p>...</p><p>Paragraph n</p>\n",
    "    '''\n",
    ")"
   ]
  },
  {
   "cell_type": "markdown",
   "id": "030d72df-85da-40c8-8732-6f5b3e5274be",
   "metadata": {},
   "source": [
    "## `<span>`\n",
    "\n",
    "This tag exists to assign different styles to the text, without getting any unintended changes set by the style.\n",
    "\n",
    "In following example i use style with `<div>` tag and `<span>` tag:\n",
    "\n",
    "- `<div>` tag sets the text in a separate paragraph;\n",
    "- `<span>` tag just apply font style to text."
   ]
  },
  {
   "cell_type": "code",
   "execution_count": 11,
   "id": "68667ecf-22c2-4e9b-9c04-5447f355fdb6",
   "metadata": {},
   "outputs": [
    {
     "data": {
      "text/html": [
       "\n",
       "    <style>\n",
       "        body { \n",
       "         font-family: Arial, sans-serif; /* Рубленый шрифт */ \n",
       "        }\n",
       "        .letter { \n",
       "         color: red;\n",
       "        }\n",
       "    </style> \n",
       "    <span class=\"letter\">Text</span> surrounded by snap.\n",
       "    <div class=\"letter\">Text</div> surrounded by div.    \n",
       "    "
      ],
      "text/plain": [
       "<IPython.core.display.HTML object>"
      ]
     },
     "execution_count": 11,
     "metadata": {},
     "output_type": "execute_result"
    }
   ],
   "source": [
    "HTML(\n",
    "    '''\n",
    "    <style>\n",
    "        body { \n",
    "         font-family: Arial, sans-serif; /* Рубленый шрифт */ \n",
    "        }\n",
    "        .letter { \n",
    "         color: red;\n",
    "        }\n",
    "    </style> \n",
    "    <span class=\"letter\">Text</span> surrounded by snap.\n",
    "    <div class=\"letter\">Text</div> surrounded by div.    \n",
    "    '''\n",
    ")"
   ]
  },
  {
   "cell_type": "markdown",
   "id": "8de935a7-1644-4008-b791-162ee07b4e16",
   "metadata": {},
   "source": [
    "## `<div>` - division\n",
    "\n",
    "Helps to group html elements."
   ]
  },
  {
   "cell_type": "markdown",
   "id": "b026fb79-2969-4ce6-93c1-1427e4d69c12",
   "metadata": {},
   "source": [
    "## `<em>` - italic"
   ]
  },
  {
   "cell_type": "code",
   "execution_count": 3,
   "id": "72fffd59-c76f-48e5-a9a0-4b6920523d28",
   "metadata": {},
   "outputs": [
    {
     "data": {
      "text/html": [
       "<em>Some emphasized text</em>"
      ],
      "text/plain": [
       "<IPython.core.display.HTML object>"
      ]
     },
     "execution_count": 3,
     "metadata": {},
     "output_type": "execute_result"
    }
   ],
   "source": [
    "HTML('<em>Some emphasized text</em>')"
   ]
  },
  {
   "cell_type": "markdown",
   "id": "8d258169-66ab-464f-9469-2dd775065aad",
   "metadata": {},
   "source": [
    "## `<strong>` -  bold"
   ]
  },
  {
   "cell_type": "code",
   "execution_count": 4,
   "id": "a948bb23-384f-4b67-b913-e350bd0c2cf9",
   "metadata": {},
   "outputs": [
    {
     "data": {
      "text/html": [
       "<strong>Some emphasized text</strong>"
      ],
      "text/plain": [
       "<IPython.core.display.HTML object>"
      ]
     },
     "execution_count": 4,
     "metadata": {},
     "output_type": "execute_result"
    }
   ],
   "source": [
    "HTML('<strong>Some emphasized text</strong>')"
   ]
  },
  {
   "cell_type": "markdown",
   "id": "5d829b85-2430-4cba-a663-dede3538d369",
   "metadata": {},
   "source": [
    "## `<ul>`,`<li>` - unordered list\n",
    "\n",
    "- `<ul>` describes an unordered list;\n",
    "- `<li>` describes a item of list."
   ]
  },
  {
   "cell_type": "code",
   "execution_count": 7,
   "id": "01edfa01-fb6c-455a-8ec3-f66d39b6ce8c",
   "metadata": {},
   "outputs": [
    {
     "data": {
      "text/html": [
       "\n",
       "    <ul>\n",
       "        <li>item 1</li>\n",
       "        <li>item 2</li>\n",
       "        <li>...</li>\n",
       "        <li>item n</li>\n",
       "    </ul>\n"
      ],
      "text/plain": [
       "<IPython.core.display.HTML object>"
      ]
     },
     "execution_count": 7,
     "metadata": {},
     "output_type": "execute_result"
    }
   ],
   "source": [
    "HTML('''\n",
    "    <ul>\n",
    "        <li>item 1</li>\n",
    "        <li>item 2</li>\n",
    "        <li>...</li>\n",
    "        <li>item n</li>\n",
    "    </ul>\n",
    "''')"
   ]
  },
  {
   "cell_type": "markdown",
   "id": "bbf375e9-ccce-45d9-b499-abcb98d18016",
   "metadata": {},
   "source": [
    "## `<ol>`,`<li>` - ordered list\n",
    "- `<ol>` describes an ordered list;\n",
    "- `<li>` describes a item of list."
   ]
  },
  {
   "cell_type": "code",
   "execution_count": 8,
   "id": "9c0c2472-7284-4680-b884-ddf7b213729d",
   "metadata": {},
   "outputs": [
    {
     "data": {
      "text/html": [
       "\n",
       "    <ol>\n",
       "        <li>item 1</li>\n",
       "        <li>item 2</li>\n",
       "        <li>...</li>\n",
       "        <li>item n</li>\n",
       "    </ol>\n"
      ],
      "text/plain": [
       "<IPython.core.display.HTML object>"
      ]
     },
     "execution_count": 8,
     "metadata": {},
     "output_type": "execute_result"
    }
   ],
   "source": [
    "HTML('''\n",
    "    <ol>\n",
    "        <li>item 1</li>\n",
    "        <li>item 2</li>\n",
    "        <li>...</li>\n",
    "        <li>item n</li>\n",
    "    </ol>\n",
    "''')"
   ]
  },
  {
   "cell_type": "markdown",
   "id": "dc620a72-77dd-4c36-a577-15c5b54673a6",
   "metadata": {},
   "source": [
    "## `<img/>` add image to html"
   ]
  },
  {
   "cell_type": "markdown",
   "id": "8ac449a7-d8cf-4083-ac68-9a9f51de8dad",
   "metadata": {},
   "source": [
    "### `src` - set picture\n",
    "\n",
    "You can add url of the image or filepath on computer."
   ]
  },
  {
   "cell_type": "code",
   "execution_count": 14,
   "id": "3c401a1a-f3f1-4d7b-893f-fb8978c57c67",
   "metadata": {},
   "outputs": [
    {
     "data": {
      "text/html": [
       "\n",
       "<img src=\"https://content.codecademy.com/courses/web-101/web101-image_brownbear.jpg\"/>\n"
      ],
      "text/plain": [
       "<IPython.core.display.HTML object>"
      ]
     },
     "execution_count": 14,
     "metadata": {},
     "output_type": "execute_result"
    }
   ],
   "source": [
    "HTML('''\n",
    "<img src=\"https://content.codecademy.com/courses/web-101/web101-image_brownbear.jpg\"/>\n",
    "''')"
   ]
  },
  {
   "cell_type": "markdown",
   "id": "7a26aa52-c58e-4c5f-a6e3-41132d5248e2",
   "metadata": {},
   "source": [
    "### `alt` - text hint\n",
    "\n",
    "Describes the text that will be used if the picture cannot be uploaded. There no option to show how it works in jupyter notebook, but the html page with the following code:"
   ]
  },
  {
   "cell_type": "code",
   "execution_count": 15,
   "id": "25510b42-2a6d-46cd-82cc-c5070eb0a4c9",
   "metadata": {},
   "outputs": [
    {
     "name": "stdout",
     "output_type": "stream",
     "text": [
      "<img src=\"unreal image\" alt=\"description of some image\"/>"
     ]
    }
   ],
   "source": [
    "%%bash\n",
    "cat html_files/img_alt_ex.html"
   ]
  },
  {
   "cell_type": "markdown",
   "id": "dbae33ae-f507-41bb-8a9c-f743c236f31b",
   "metadata": {},
   "source": [
    "You can check <a href=\"html_files/img_alt_ex.html\">here</a>."
   ]
  },
  {
   "cell_type": "markdown",
   "id": "58132013-4ae3-4dd5-9ef8-90188e22b714",
   "metadata": {},
   "source": [
    "## `<video>` - insert video"
   ]
  },
  {
   "cell_type": "markdown",
   "id": "a331c34d-25b3-429f-8748-2a7534fa8ac2",
   "metadata": {},
   "source": [
    "### `controls` handle video\n",
    "\n",
    "Attributes allow you to set controls for handling the video playback process. In the following example I have inserted the first video with the `control` attribute and the second without."
   ]
  },
  {
   "cell_type": "code",
   "execution_count": 28,
   "id": "785215cd-ea61-4ece-8570-5e10ed359289",
   "metadata": {},
   "outputs": [
    {
     "data": {
      "text/html": [
       "\n",
       "<video src=\"html_files/some_video.webm\" widht=200 height=200 controls>\n",
       "</video>\n",
       "<video src=\"html_files/some_video.webm\" widht=200 height=200>\n",
       "</video>\n"
      ],
      "text/plain": [
       "<IPython.core.display.HTML object>"
      ]
     },
     "execution_count": 28,
     "metadata": {},
     "output_type": "execute_result"
    }
   ],
   "source": [
    "HTML('''\n",
    "<video src=\"html_files/some_video.webm\" widht=200 height=200 controls>\n",
    "</video>\n",
    "<video src=\"html_files/some_video.webm\" widht=200 height=200>\n",
    "</video>\n",
    "''')"
   ]
  }
 ],
 "metadata": {
  "kernelspec": {
   "display_name": "Python 3 (ipykernel)",
   "language": "python",
   "name": "python3"
  },
  "language_info": {
   "codemirror_mode": {
    "name": "ipython",
    "version": 3
   },
   "file_extension": ".py",
   "mimetype": "text/x-python",
   "name": "python",
   "nbconvert_exporter": "python",
   "pygments_lexer": "ipython3",
   "version": "3.10.6"
  }
 },
 "nbformat": 4,
 "nbformat_minor": 5
}
