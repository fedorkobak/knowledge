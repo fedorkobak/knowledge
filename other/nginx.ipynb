{
 "cells": [
  {
   "cell_type": "markdown",
   "metadata": {},
   "source": [
    "# Nginx\n",
    "\n",
    "Nginx is a versatile tool that can be utilized as a web server, reverse proxy, load balancer, and much more. This page provides an overview of the fundamentals of working with Nginx.\n",
    "\n",
    "**Sources:**\n",
    "\n",
    "- [Nginx handbook](https://www.freecodecamp.org/news/the-nginx-handbook/).\n",
    "- [Default variables available in NGINX](https://nginx.org/en/docs/varindex.html)."
   ]
  },
  {
   "cell_type": "markdown",
   "metadata": {},
   "source": [
    "For examples, we will run nginx in a docker container - the following cell runs nginx in a docker container."
   ]
  },
  {
   "cell_type": "code",
   "execution_count": 1,
   "metadata": {
    "vscode": {
     "languageId": "shellscript"
    }
   },
   "outputs": [
    {
     "name": "stdout",
     "output_type": "stream",
     "text": [
      "30f4f58e59bf0a02c1381256527271de823873b9fae29abd3650e5e1bf346c29\n"
     ]
    }
   ],
   "source": [
    "docker run -itd --name experiment_nginx --rm -p 80:80 nginx"
   ]
  },
  {
   "cell_type": "markdown",
   "metadata": {},
   "source": [
    "**Note** don't forget to stop container after all."
   ]
  },
  {
   "cell_type": "code",
   "execution_count": 17,
   "metadata": {
    "vscode": {
     "languageId": "shellscript"
    }
   },
   "outputs": [
    {
     "name": "stdout",
     "output_type": "stream",
     "text": [
      "experiment_nginx\n"
     ]
    }
   ],
   "source": [
    "docker stop experiment_nginx"
   ]
  },
  {
   "cell_type": "markdown",
   "metadata": {},
   "source": [
    "## Basics of configuration"
   ]
  },
  {
   "cell_type": "markdown",
   "metadata": {},
   "source": [
    "Once the container is running, we can access nginx at `localhost:80`. The following cell displays a basic nginx welcome page."
   ]
  },
  {
   "cell_type": "code",
   "execution_count": 2,
   "metadata": {
    "vscode": {
     "languageId": "shellscript"
    }
   },
   "outputs": [
    {
     "data": {
      "text/html": [
       "<iframe \n",
       "    srcdoc='<!DOCTYPE html>\n",
       "<html>\n",
       "<head>\n",
       "<title>Welcome to nginx!</title>\n",
       "<style>\n",
       "html { color-scheme: light dark; }\n",
       "body { width: 35em; margin: 0 auto;\n",
       "font-family: Tahoma, Verdana, Arial, sans-serif; }\n",
       "</style>\n",
       "</head>\n",
       "<body>\n",
       "<h1>Welcome to nginx!</h1>\n",
       "<p>If you see this page, the nginx web server is successfully installed and\n",
       "working. Further configuration is required.</p>\n",
       "\n",
       "<p>For online documentation and support please refer to\n",
       "<a href=\"http://nginx.org/\">nginx.org</a>.<br/>\n",
       "Commercial support is available at\n",
       "<a href=\"http://nginx.com/\">nginx.com</a>.</p>\n",
       "\n",
       "<p><em>Thank you for using nginx.</em></p>\n",
       "</body>\n",
       "</html>' \n",
       "    width='100%' \n",
       "    height='600px' \n",
       "    style='border:none;'\n",
       ">\n",
       "</iframe>\n"
      ]
     },
     "metadata": {},
     "output_type": "display_data"
    }
   ],
   "source": [
    "cat << EOF | displayHTML\n",
    "<iframe \n",
    "    srcdoc='$(curl -s localhost:80)' \n",
    "    width='100%' \n",
    "    height='600px' \n",
    "    style='border:none;'\n",
    ">\n",
    "</iframe>\n",
    "EOF"
   ]
  },
  {
   "cell_type": "markdown",
   "metadata": {},
   "source": [
    "Nginx is mainly controlled by its configuration files, so it's important to understand where they are. They are usually located in the `/etc/nginx/` folder. The following cell shows the contents of this folder."
   ]
  },
  {
   "cell_type": "code",
   "execution_count": 3,
   "metadata": {
    "vscode": {
     "languageId": "shellscript"
    }
   },
   "outputs": [
    {
     "name": "stdout",
     "output_type": "stream",
     "text": [
      "total 32\n",
      "drwxr-xr-x 1 root root 4096 Jul 22 07:53 conf.d\n",
      "-rw-r--r-- 1 root root 1007 May 28 13:22 fastcgi_params\n",
      "-rw-r--r-- 1 root root 5349 May 28 13:22 mime.types\n",
      "lrwxrwxrwx 1 root root   22 May 29 16:45 modules -> /usr/lib/nginx/modules\n",
      "-rw-r--r-- 1 root root  648 May 29 16:45 nginx.conf\n",
      "-rw-r--r-- 1 root root  636 May 28 13:22 scgi_params\n",
      "-rw-r--r-- 1 root root  664 May 28 13:22 uwsgi_params\n"
     ]
    }
   ],
   "source": [
    "docker exec experiment_nginx ls -l /etc/nginx/"
   ]
  },
  {
   "cell_type": "markdown",
   "metadata": {},
   "source": [
    "The most important file here is `nginx.conf` - it's the central nginx configuration file. Let's replace the default `nginx.conf` with the new configuration specified in the following cell."
   ]
  },
  {
   "cell_type": "code",
   "execution_count": 4,
   "metadata": {
    "vscode": {
     "languageId": "shellscript"
    }
   },
   "outputs": [],
   "source": [
    "cat << EOF > nginx_files/nginx.conf\n",
    "events {}\n",
    "\n",
    "http {\n",
    "    server {\n",
    "        listen 80;\n",
    "        return 200 \"this is new message from nginx\";\n",
    "    }\n",
    "}\n",
    "EOF"
   ]
  },
  {
   "cell_type": "markdown",
   "metadata": {},
   "source": [
    "Now replace the file with a new one and use `nginx -s reload` to make nginx use the new configuration."
   ]
  },
  {
   "cell_type": "code",
   "execution_count": 5,
   "metadata": {
    "vscode": {
     "languageId": "shellscript"
    }
   },
   "outputs": [
    {
     "name": "stdout",
     "output_type": "stream",
     "text": [
      "Successfully copied 3.07kB to experiment_nginx:/etc/nginx/nginx.conf\n",
      "2024/07/22 07:53:49 [notice] 67#67: signal process started\n"
     ]
    }
   ],
   "source": [
    "docker cp $(pwd)/nginx_files/nginx.conf experiment_nginx:/etc/nginx/nginx.conf\n",
    "docker exec experiment_nginx nginx -s reload"
   ]
  },
  {
   "cell_type": "markdown",
   "metadata": {},
   "source": [
    "Here is showen how default behaviour of the nginx changed."
   ]
  },
  {
   "cell_type": "code",
   "execution_count": 6,
   "metadata": {
    "vscode": {
     "languageId": "shellscript"
    }
   },
   "outputs": [
    {
     "name": "stdout",
     "output_type": "stream",
     "text": [
      "this is new message from nginx\n"
     ]
    }
   ],
   "source": [
    "curl localhost:80"
   ]
  },
  {
   "cell_type": "markdown",
   "metadata": {},
   "source": [
    "We just got message specified in the `nginx.conf`."
   ]
  },
  {
   "cell_type": "markdown",
   "metadata": {},
   "source": [
    "## Reverse proxy (location)\n",
    "\n",
    "Another way to use nginx is as a reverse proxy, so you can redirect requests. You can define it with the `proxy_pass` directive in the `server` context."
   ]
  },
  {
   "cell_type": "markdown",
   "metadata": {},
   "source": [
    "The following config file makes requests to nginx to redirect to google.com."
   ]
  },
  {
   "cell_type": "code",
   "execution_count": 7,
   "metadata": {
    "vscode": {
     "languageId": "shellscript"
    }
   },
   "outputs": [],
   "source": [
    "cat << EOF > nginx_files/proxy_example.conf\n",
    "events {}\n",
    "\n",
    "http {\n",
    "    server {\n",
    "        listen 80;\n",
    "        location / {proxy_pass \"https://google.com/\";}\n",
    "    }\n",
    "}\n",
    "EOF"
   ]
  },
  {
   "cell_type": "markdown",
   "metadata": {},
   "source": [
    "Updating configuration and reloading nginx."
   ]
  },
  {
   "cell_type": "code",
   "execution_count": 8,
   "metadata": {
    "vscode": {
     "languageId": "shellscript"
    }
   },
   "outputs": [
    {
     "name": "stdout",
     "output_type": "stream",
     "text": [
      "Successfully copied 3.07kB to experiment_nginx:/etc/nginx/nginx.conf\n",
      "2024/07/22 07:53:58 [notice] 74#74: signal process started\n"
     ]
    }
   ],
   "source": [
    "docker cp $(pwd)/nginx_files/proxy_example.conf experiment_nginx:/etc/nginx/nginx.conf\n",
    "docker exec experiment_nginx nginx -s reload"
   ]
  },
  {
   "cell_type": "markdown",
   "metadata": {},
   "source": [
    "Now, by accessing `localhost:80`, we've got Google's main page back."
   ]
  },
  {
   "cell_type": "code",
   "execution_count": 9,
   "metadata": {
    "vscode": {
     "languageId": "shellscript"
    }
   },
   "outputs": [
    {
     "name": "stdout",
     "output_type": "stream",
     "text": [
      "<HTML><HEAD><meta http-equiv=\"content-type\" content=\"text/html;charset=utf-8\">\n",
      "<TITLE>301 Moved</TITLE></HEAD><BODY>\n",
      "<H1>301 Moved</H1>\n",
      "The document has moved\n",
      "<A HREF=\"https://www.google.com/\">here</A>.\n",
      "</BODY></HTML>\n"
     ]
    }
   ],
   "source": [
    "curl -s localhost:80\n"
   ]
  },
  {
   "cell_type": "markdown",
   "metadata": {},
   "source": [
    "## Logs\n",
    "\n",
    "Logging in nginx is really usefull in process of the trouble shouting. There are two log files in nginx:\n",
    "\n",
    "- `/var/log/nginx/access.log` - where all attempts to accept are logged.\n",
    "- `/var/log/nginx/error.log` - where logged cases leading to errors."
   ]
  },
  {
   "cell_type": "markdown",
   "metadata": {},
   "source": [
    "For reasons that are still unclear, we need to reorder the log files in order to be able to read them. So in the following cell we do this for our container."
   ]
  },
  {
   "cell_type": "code",
   "execution_count": 10,
   "metadata": {
    "vscode": {
     "languageId": "shellscript"
    }
   },
   "outputs": [],
   "source": [
    "docker exec -i experiment_nginx bash << EOF\n",
    "\n",
    "rm /var/log/nginx/access.log /var/log/nginx/error.log\n",
    "touch /var/log/nginx/access.log /var/log/nginx/error.log\n",
    "nginx -s reload\n",
    "EOF"
   ]
  },
  {
   "cell_type": "markdown",
   "metadata": {},
   "source": [
    "And here is a request to nginx to print the contents of `access.log`."
   ]
  },
  {
   "cell_type": "code",
   "execution_count": 11,
   "metadata": {
    "vscode": {
     "languageId": "shellscript"
    }
   },
   "outputs": [
    {
     "name": "stdout",
     "output_type": "stream",
     "text": [
      "172.17.0.1 - - [22/Jul/2024:07:54:09 +0000] \"GET / HTTP/1.1\" 301 220 \"-\" \"curl/7.81.0\"\n"
     ]
    }
   ],
   "source": [
    "curl localhost:80 &> /dev/null\n",
    "docker exec experiment_nginx cat /var/log/nginx/access.log"
   ]
  }
 ],
 "metadata": {
  "kernelspec": {
   "display_name": "Bash",
   "language": "bash",
   "name": "bash"
  },
  "language_info": {
   "codemirror_mode": "shell",
   "file_extension": ".sh",
   "mimetype": "text/x-sh",
   "name": "bash"
  }
 },
 "nbformat": 4,
 "nbformat_minor": 2
}
