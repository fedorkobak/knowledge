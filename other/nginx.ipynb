{
 "cells": [
  {
   "cell_type": "markdown",
   "metadata": {},
   "source": [
    "# Nginx\n",
    "\n",
    "Nginx is a versatile tool that can be utilized as a web server, reverse proxy, load balancer, and much more. This page provides an overview of the fundamentals of working with Nginx.\n",
    "\n",
    "**Sources:**\n",
    "\n",
    "- [Nginx handbook](https://www.freecodecamp.org/news/the-nginx-handbook/).\n",
    "- [Default variables available in NGINX](https://nginx.org/en/docs/varindex.html)."
   ]
  },
  {
   "cell_type": "markdown",
   "metadata": {},
   "source": [
    "For examples, we will run nginx in a docker container - the following cell runs nginx in a docker container."
   ]
  },
  {
   "cell_type": "code",
   "execution_count": 1,
   "metadata": {
    "vscode": {
     "languageId": "shellscript"
    }
   },
   "outputs": [
    {
     "name": "stdout",
     "output_type": "stream",
     "text": [
      "ef4ee3db35609cd57d5264fcb57fcfa9b5866035c9b2d9e6ba7278eb4be936b1\n"
     ]
    }
   ],
   "source": [
    "docker run -itd --name experiment_nginx --rm -p 80:80 nginx"
   ]
  },
  {
   "cell_type": "markdown",
   "metadata": {},
   "source": [
    "Now we can check if nginx is up by requesting it's main page."
   ]
  },
  {
   "cell_type": "code",
   "execution_count": 3,
   "metadata": {
    "vscode": {
     "languageId": "shellscript"
    }
   },
   "outputs": [
    {
     "data": {
      "text/html": [
       "<iframe \n",
       "    srcdoc='<!DOCTYPE html>\n",
       "<html>\n",
       "<head>\n",
       "<title>Welcome to nginx!</title>\n",
       "<style>\n",
       "html { color-scheme: light dark; }\n",
       "body { width: 35em; margin: 0 auto;\n",
       "font-family: Tahoma, Verdana, Arial, sans-serif; }\n",
       "</style>\n",
       "</head>\n",
       "<body>\n",
       "<h1>Welcome to nginx!</h1>\n",
       "<p>If you see this page, the nginx web server is successfully installed and\n",
       "working. Further configuration is required.</p>\n",
       "\n",
       "<p>For online documentation and support please refer to\n",
       "<a href=\"http://nginx.org/\">nginx.org</a>.<br/>\n",
       "Commercial support is available at\n",
       "<a href=\"http://nginx.com/\">nginx.com</a>.</p>\n",
       "\n",
       "<p><em>Thank you for using nginx.</em></p>\n",
       "</body>\n",
       "</html>' \n",
       "    width='100%' \n",
       "    height='600px' \n",
       "    style='border:none;'\n",
       ">\n",
       "</iframe>\n"
      ]
     },
     "metadata": {},
     "output_type": "display_data"
    }
   ],
   "source": [
    "cat << EOF | displayHTML\n",
    "<iframe \n",
    "    srcdoc='$(curl -s localhost:80)' \n",
    "    width='100%' \n",
    "    height='600px' \n",
    "    style='border:none;'\n",
    ">\n",
    "</iframe>\n",
    "EOF"
   ]
  },
  {
   "cell_type": "markdown",
   "metadata": {},
   "source": [
    "**Note** don't forget to stop container after all."
   ]
  },
  {
   "cell_type": "code",
   "execution_count": 8,
   "metadata": {
    "vscode": {
     "languageId": "shellscript"
    }
   },
   "outputs": [
    {
     "name": "stdout",
     "output_type": "stream",
     "text": [
      "experiment_nginx\n"
     ]
    }
   ],
   "source": [
    "docker stop experiment_nginx"
   ]
  },
  {
   "cell_type": "markdown",
   "metadata": {},
   "source": [
    "## Configuration\n",
    "\n",
    "Nginx is mainly controlled by its configuration files, so it's important to understand where they are. They are usually located in the `/etc/nginx/` folder. Find out more in [specific page](nginx/configuration.ipynb)."
   ]
  },
  {
   "cell_type": "markdown",
   "metadata": {},
   "source": [
    "---\n",
    "\n",
    "The following cell shows the contents of the `/etc/nginx` command."
   ]
  },
  {
   "cell_type": "code",
   "execution_count": 5,
   "metadata": {
    "vscode": {
     "languageId": "shellscript"
    }
   },
   "outputs": [
    {
     "name": "stdout",
     "output_type": "stream",
     "text": [
      "total 32\n",
      "drwxr-xr-x 1 root root 4096 Sep  4 08:52 conf.d\n",
      "-rw-r--r-- 1 root root 1007 May 28 13:22 fastcgi_params\n",
      "-rw-r--r-- 1 root root 5349 May 28 13:22 mime.types\n",
      "lrwxrwxrwx 1 root root   22 May 29 16:45 modules -> /usr/lib/nginx/modules\n",
      "-rw-r--r-- 1 root root  648 May 29 16:45 nginx.conf\n",
      "-rw-r--r-- 1 root root  636 May 28 13:22 scgi_params\n",
      "-rw-r--r-- 1 root root  664 May 28 13:22 uwsgi_params\n"
     ]
    }
   ],
   "source": [
    "docker exec experiment_nginx ls -l /etc/nginx/"
   ]
  },
  {
   "cell_type": "markdown",
   "metadata": {},
   "source": [
    "The most important file here is `nginx.conf` - it's the central nginx configuration file. It's printed in the next cell:"
   ]
  },
  {
   "cell_type": "code",
   "execution_count": 6,
   "metadata": {
    "vscode": {
     "languageId": "shellscript"
    }
   },
   "outputs": [
    {
     "name": "stdout",
     "output_type": "stream",
     "text": [
      "\n",
      "user  nginx;\n",
      "worker_processes  auto;\n",
      "\n",
      "error_log  /var/log/nginx/error.log notice;\n",
      "pid        /var/run/nginx.pid;\n",
      "\n",
      "\n",
      "events {\n",
      "    worker_connections  1024;\n",
      "}\n",
      "\n",
      "\n",
      "http {\n",
      "    include       /etc/nginx/mime.types;\n",
      "    default_type  application/octet-stream;\n",
      "\n",
      "    log_format  main  '$remote_addr - $remote_user [$time_local] \"$request\" '\n",
      "                      '$status $body_bytes_sent \"$http_referer\" '\n",
      "                      '\"$http_user_agent\" \"$http_x_forwarded_for\"';\n",
      "\n",
      "    access_log  /var/log/nginx/access.log  main;\n",
      "\n",
      "    sendfile        on;\n",
      "    #tcp_nopush     on;\n",
      "\n",
      "    keepalive_timeout  65;\n",
      "\n",
      "    #gzip  on;\n",
      "\n",
      "    include /etc/nginx/conf.d/*.conf;\n",
      "}\n"
     ]
    }
   ],
   "source": [
    "docker exec experiment_nginx cat /etc/nginx/nginx.conf"
   ]
  },
  {
   "cell_type": "markdown",
   "metadata": {},
   "source": [
    "Changing this file will change the behavior of nginx. So in the next cell we do that. With `nginx -s reload` we reload nginx - this will apply the changes to nginx. The following cell defines the most minimal configuration I've found so far - just returning 200 \"hello\" from the server."
   ]
  },
  {
   "cell_type": "code",
   "execution_count": 26,
   "metadata": {
    "vscode": {
     "languageId": "shellscript"
    }
   },
   "outputs": [
    {
     "name": "stdout",
     "output_type": "stream",
     "text": [
      "2024/12/04 16:13:55 [notice] 311#311: signal process started\n"
     ]
    }
   ],
   "source": [
    "docker exec -i experiment_nginx sh -c 'cat >  /etc/nginx/nginx.conf' <<EOF\n",
    "events {}\n",
    "http {server{return 200 \"hello\";}}\n",
    "EOF\n",
    "docker exec -i experiment_nginx nginx -s reload"
   ]
  },
  {
   "cell_type": "markdown",
   "metadata": {},
   "source": [
    "Here is showen how default behaviour of the nginx changed."
   ]
  },
  {
   "cell_type": "code",
   "execution_count": 27,
   "metadata": {
    "vscode": {
     "languageId": "shellscript"
    }
   },
   "outputs": [
    {
     "name": "stdout",
     "output_type": "stream",
     "text": [
      "hello\n"
     ]
    }
   ],
   "source": [
    "curl localhost:80"
   ]
  },
  {
   "cell_type": "markdown",
   "metadata": {},
   "source": [
    "We just got message specified in the `nginx.conf`."
   ]
  },
  {
   "cell_type": "markdown",
   "metadata": {},
   "source": [
    "## Variables\n",
    "\n",
    "Nginx uses variables, which are denoted by the `$` symbol before the variable name. There is a [set of predefined variables](https://nginx.org/en/docs/varindex.html) in Nginx that you can use. Find out more in the [specific page](nginx/variables.ipynb)."
   ]
  },
  {
   "cell_type": "markdown",
   "metadata": {},
   "source": [
    "---\n",
    "\n",
    "The following cell shows how you can display the value of an arbitrary Nginx variable; in this case, it is `$localtime`.\n",
    "\n",
    "**Note:** The backward slash (`\\`) is used here to escape the `$` symbol from bash, which also uses `$` to identify variables."
   ]
  },
  {
   "cell_type": "code",
   "execution_count": null,
   "metadata": {
    "vscode": {
     "languageId": "shellscript"
    }
   },
   "outputs": [
    {
     "name": "stdout",
     "output_type": "stream",
     "text": [
      "2024/09/04 09:21:38 [notice] 381#381: signal process started\n"
     ]
    }
   ],
   "source": [
    "docker exec -i experiment_nginx sh -c 'cat >  /etc/nginx/nginx.conf' <<EOF\n",
    "events {}\n",
    "\n",
    "http {\n",
    "    server {\n",
    "        listen 80;\n",
    "        return 200 \\$time_local;\n",
    "    }\n",
    "}\n",
    "\n",
    "EOF\n",
    "\n",
    "docker exec experiment_nginx nginx -s reload"
   ]
  },
  {
   "cell_type": "markdown",
   "metadata": {},
   "source": [
    "Let's request gotten endpoint."
   ]
  },
  {
   "cell_type": "code",
   "execution_count": null,
   "metadata": {
    "vscode": {
     "languageId": "shellscript"
    }
   },
   "outputs": [
    {
     "name": "stdout",
     "output_type": "stream",
     "text": [
      "04/Sep/2024:09:28:54 +0000\n"
     ]
    }
   ],
   "source": [
    "curl http://localhost:80"
   ]
  },
  {
   "cell_type": "markdown",
   "metadata": {},
   "source": [
    "We get something that looks like a datetime."
   ]
  },
  {
   "cell_type": "markdown",
   "metadata": {},
   "source": [
    "## Server name\n",
    "\n",
    "In your configuration, you can define several `server` directives. To make Nginx understand which server should handle a request, you need to define the `server_name`. Nginx will look at the `Host` HTTP header and use the server whose `server_name` matches the header value.\n",
    "\n",
    "Find out more in:\n",
    "\n",
    "- [Server names](https://nginx.org/en/docs/http/server_names.html) official nginx tutorial.\n",
    "- [How nginx processes a request](https://nginx.org/en/docs/http/request_processing.html) page in official nginx site."
   ]
  },
  {
   "cell_type": "markdown",
   "metadata": {},
   "source": [
    "---\n",
    "\n",
    "The following cell defines nginx cofig that defines two servers with names: `server1` and `sever2`. Note servers listen the same port."
   ]
  },
  {
   "cell_type": "code",
   "execution_count": 3,
   "metadata": {
    "vscode": {
     "languageId": "shellscript"
    }
   },
   "outputs": [
    {
     "name": "stdout",
     "output_type": "stream",
     "text": [
      "2024/09/05 10:14:20 [notice] 68#68: signal process started\n"
     ]
    }
   ],
   "source": [
    "docker exec -i experiment_nginx sh -c 'cat >  /etc/nginx/nginx.conf' <<EOF\n",
    "events {}\n",
    "\n",
    "http {\n",
    "    server {\n",
    "        server_name server1;\n",
    "        listen 80;\n",
    "        return 200 \"message from server1\";\n",
    "    }\n",
    "\n",
    "    server {\n",
    "        server_name server2;\n",
    "        listen 80;\n",
    "        return 200 \"message from server2\";\n",
    "    }\n",
    "}\n",
    "EOF\n",
    "\n",
    "docker exec experiment_nginx nginx -s reload"
   ]
  },
  {
   "cell_type": "markdown",
   "metadata": {},
   "source": [
    "Now let's try to request this server."
   ]
  },
  {
   "cell_type": "code",
   "execution_count": 7,
   "metadata": {
    "vscode": {
     "languageId": "shellscript"
    }
   },
   "outputs": [
    {
     "name": "stdout",
     "output_type": "stream",
     "text": [
      "message from server1\n"
     ]
    }
   ],
   "source": [
    "curl localhost:80"
   ]
  },
  {
   "cell_type": "markdown",
   "metadata": {},
   "source": [
    "We received a message from `server1`, indicating that the first defined server has higher priority."
   ]
  },
  {
   "cell_type": "markdown",
   "metadata": {},
   "source": [
    "Let's try the same request but with the `Host: server2` header."
   ]
  },
  {
   "cell_type": "code",
   "execution_count": 9,
   "metadata": {
    "vscode": {
     "languageId": "shellscript"
    }
   },
   "outputs": [
    {
     "name": "stdout",
     "output_type": "stream",
     "text": [
      "message from server2\n"
     ]
    }
   ],
   "source": [
    "curl localhost:80 -H \"Host: server2\""
   ]
  },
  {
   "cell_type": "markdown",
   "metadata": {},
   "source": [
    "Now we receive the message specified in the second server."
   ]
  },
  {
   "cell_type": "markdown",
   "metadata": {},
   "source": [
    "## Location\n",
    "\n",
    "The `location` directive allows setting configurations based on the request URI. Check [corresponding section](https://nginx.org/en/docs/http/ngx_http_core_module.html#location) on the official site."
   ]
  },
  {
   "cell_type": "markdown",
   "metadata": {},
   "source": [
    "---\n",
    "\n",
    "In the following example, nginx config defines two locations:  `/pattern` and `/pattern/` URIs. By looking at the output, you can see exactly which location was triggered. They're almost the same, but you'll see that they match the different cases."
   ]
  },
  {
   "cell_type": "code",
   "execution_count": 4,
   "metadata": {
    "vscode": {
     "languageId": "shellscript"
    }
   },
   "outputs": [
    {
     "name": "stdout",
     "output_type": "stream",
     "text": [
      "2024/12/04 16:05:03 [notice] 106#106: signal process started\n"
     ]
    }
   ],
   "source": [
    "docker exec -i experiment_nginx sh -c 'cat >  /etc/nginx/nginx.conf' <<EOF\n",
    "events {}\n",
    "http {\n",
    "    server {\n",
    "        listen 80;\n",
    "        \n",
    "        location /pattern {\n",
    "            return 200 \"location 1 - I use /pattern\";\n",
    "        }\n",
    "\n",
    "        location /pattern/ {\n",
    "            return 200 \"location 2 - I use /pattern/\";\n",
    "        }\n",
    "    }\n",
    "}\n",
    "EOF\n",
    "\n",
    "docker exec -it experiment_nginx nginx -s reload"
   ]
  },
  {
   "cell_type": "markdown",
   "metadata": {},
   "source": [
    "Now we can request different URIs from nginx and see what exactly has been triggered."
   ]
  },
  {
   "cell_type": "markdown",
   "metadata": {},
   "source": [
    "The following example shows what happens when you access `/pattern` (no `/` at the end of the command)."
   ]
  },
  {
   "cell_type": "code",
   "execution_count": 5,
   "metadata": {
    "vscode": {
     "languageId": "shellscript"
    }
   },
   "outputs": [
    {
     "name": "stdout",
     "output_type": "stream",
     "text": [
      "location 1 - I use /pattern\n"
     ]
    }
   ],
   "source": [
    "curl -L http://localhost:80/pattern"
   ]
  },
  {
   "cell_type": "markdown",
   "metadata": {},
   "source": [
    "The next cell shows what happens when you access `/pattern/wow` (we use an additional path segment)."
   ]
  },
  {
   "cell_type": "code",
   "execution_count": 6,
   "metadata": {
    "vscode": {
     "languageId": "shellscript"
    }
   },
   "outputs": [
    {
     "name": "stdout",
     "output_type": "stream",
     "text": [
      "location 2 - I use /pattern/\n"
     ]
    }
   ],
   "source": [
    "curl -L http://localhost:80/pattern/wow"
   ]
  },
  {
   "cell_type": "markdown",
   "metadata": {},
   "source": [
    "## Reverse proxy\n",
    "\n",
    "Another way to use nginx is as a reverse proxy, so you can redirect requests. You can define it with the `proxy_pass` directive in the `server` context.\n",
    "\n",
    "Findout more in [specific page](nginx/location.ipynb)."
   ]
  },
  {
   "cell_type": "markdown",
   "metadata": {},
   "source": [
    "---\n",
    "\n",
    "The following config file makes requests to nginx to redirect to `google.com`."
   ]
  },
  {
   "cell_type": "code",
   "execution_count": 13,
   "metadata": {
    "vscode": {
     "languageId": "shellscript"
    }
   },
   "outputs": [
    {
     "name": "stdout",
     "output_type": "stream",
     "text": [
      "2024/09/04 08:55:31 [notice] 146#146: signal process started\n"
     ]
    }
   ],
   "source": [
    "docker exec -i experiment_nginx sh -c 'cat >  /etc/nginx/nginx.conf' <<EOF\n",
    "events {}\n",
    "\n",
    "http {\n",
    "    server {\n",
    "        listen 80;\n",
    "        location / {proxy_pass \"https://google.com/\";}\n",
    "    }\n",
    "}\n",
    "EOF\n",
    "\n",
    "docker exec experiment_nginx nginx -s reload"
   ]
  },
  {
   "cell_type": "markdown",
   "metadata": {},
   "source": [
    "Now, when we access `localhost:80`, we get a message that we've been redirected."
   ]
  },
  {
   "cell_type": "code",
   "execution_count": 14,
   "metadata": {
    "vscode": {
     "languageId": "shellscript"
    }
   },
   "outputs": [
    {
     "data": {
      "text/html": [
       "<HTML><HEAD><meta http-equiv=\"content-type\" content=\"text/html;charset=utf-8\">\n",
       "<TITLE>301 Moved</TITLE></HEAD><BODY>\n",
       "<H1>301 Moved</H1>\n",
       "The document has moved\n",
       "<A HREF=\"https://www.google.com/\">here</A>.\r\n",
       "</BODY></HTML>\r\n"
      ]
     },
     "metadata": {},
     "output_type": "display_data"
    }
   ],
   "source": [
    "curl -s localhost:80 | displayHTML"
   ]
  },
  {
   "cell_type": "markdown",
   "metadata": {},
   "source": [
    "By adding the `-L` option to the `curl` command, we can follow redirects, allowing us to retrieve Google's main page."
   ]
  },
  {
   "cell_type": "code",
   "execution_count": 15,
   "metadata": {
    "vscode": {
     "languageId": "shellscript"
    }
   },
   "outputs": [
    {
     "data": {
      "text/html": [
       "<!doctype html><html itemscope=\"\" itemtype=\"http://schema.org/WebPage\" lang=\"be\"><head><meta content=\"text/html; charset=UTF-8\" http-equiv=\"Content-Type\"><meta content=\"/images/branding/googleg/1x/googleg_standard_color_128dp.png\" itemprop=\"image\"><title>Google</title><script nonce=\"OweyEjq5S-5PXivNRbv8_g\">(function(){var _g={kEI:'iSDYZr7QJ_GihbIP4u2KyAc',kEXPI:'0,3700290,659,432,51,538613,2872,2891,8348,34680,249749,6700,41948,57734,2,2,1,10956,13670,2006,8155,23350,22436,9779,5864,56794,44507,31701,15816,1804,47082,1632,9710,19569,5239758,997,147,5991287,936,30821199,1008,15665,43886,3,318,4,1281,3,2124363,23029351,4117,8682,24511,2,75968,19268,3355,15164,8181,154,49276,21673,2479,4272,155,2484,13414,89,7736,9140,4599,328,3217,4,1238,1766,1116,6470,5,6374,5708,410,518,5720,1669,5634,687,6676,1119,3,3015,2695,4475,1643,3968,5486,774,682,664,6181,5334,2188,2212,2,9,3089,1195,4283,4844,2378,564,920,979,307,221,1705,4840,1,6,2294,305,840,4,2205,239,1370,4192,615,5341,1050,752,45,2388,157,94,3145,2893,2,2082,565,709,59,556,11,3479,211,9,510,11850,660,809,959,2,820,3,2699,646,336,558,184,599,3,560,1472,1047,2649,505,454,329,26,621,503,1,872,10,3,2,85,27,425,484,113,1182,77,143,1447,78,125,21,1130,702,42,979,3,193,326,669,1460,4,3,1063,329,59,41,1081,5,11,52,4,1381,6,210,2269,141,313,70,52,57,335,148,504,248,200,1429,1362,2004,882,220,209,46,383,219,1,584,509,48,2,424,145,20,313,96,186,91,641,542,1,8,1,1,4,1,4,65,175,9,140,502,273,463,234,513,772,1010,1145,3058,4,1,6,21474764,3,1423,3,14475,3,7053,275,837,47,8781,21,1327',kBL:'yGjC',kOPI:89978449};(function(){var a;((a=window.google)==null?0:a.stvsc)?google.kEI=_g.kEI:window.google=_g;}).call(this);})();(function(){google.sn='webhp';google.kHL='be';})();(function(){\n",
       "var h=this||self;function l(){return window.google!==void 0&&window.google.kOPI!==void 0&&window.google.kOPI!==0?window.google.kOPI:null};var m,n=[];function p(a){for(var b;a&&(!a.getAttribute||!(b=a.getAttribute(\"eid\")));)a=a.parentNode;return b||m}function q(a){for(var b=null;a&&(!a.getAttribute||!(b=a.getAttribute(\"leid\")));)a=a.parentNode;return b}function r(a){/^http:/i.test(a)&&window.location.protocol===\"https:\"&&(google.ml&&google.ml(Error(\"a\"),!1,{src:a,glmm:1}),a=\"\");return a}\n",
       "function t(a,b,c,d,k){var e=\"\";b.search(\"&ei=\")===-1&&(e=\"&ei=\"+p(d),b.search(\"&lei=\")===-1&&(d=q(d))&&(e+=\"&lei=\"+d));d=\"\";var g=b.search(\"&cshid=\")===-1&&a!==\"slh\",f=[];f.push([\"zx\",Date.now().toString()]);h._cshid&&g&&f.push([\"cshid\",h._cshid]);c=c();c!=null&&f.push([\"opi\",c.toString()]);for(c=0;c<f.length;c++){if(c===0||c>0)d+=\"&\";d+=f[c][0]+\"=\"+f[c][1]}return\"/\"+(k||\"gen_204\")+\"?atyp=i&ct=\"+String(a)+\"&cad=\"+(b+e+d)};m=google.kEI;google.getEI=p;google.getLEI=q;google.ml=function(){return null};google.log=function(a,b,c,d,k,e){e=e===void 0?l:e;c||(c=t(a,b,e,d,k));if(c=r(c)){a=new Image;var g=n.length;n[g]=a;a.onerror=a.onload=a.onabort=function(){delete n[g]};a.src=c}};google.logUrl=function(a,b){b=b===void 0?l:b;return t(\"\",a,b)};}).call(this);(function(){google.y={};google.sy=[];var d;(d=google).x||(d.x=function(a,b){if(a)var c=a.id;else{do c=Math.random();while(google.y[c])}google.y[c]=[a,b];return!1});var e;(e=google).sx||(e.sx=function(a){google.sy.push(a)});google.lm=[];var f;(f=google).plm||(f.plm=function(a){google.lm.push.apply(google.lm,a)});google.lq=[];var g;(g=google).load||(g.load=function(a,b,c){google.lq.push([[a],b,c])});var h;(h=google).loadAll||(h.loadAll=function(a,b){google.lq.push([a,b])});google.bx=!1;var k;(k=google).lx||(k.lx=function(){});var l=[],m;(m=google).fce||(m.fce=function(a,b,c,n){l.push([a,b,c,n])});google.qce=l;}).call(this);google.f={};(function(){\n",
       "document.documentElement.addEventListener(\"submit\",function(b){var a;if(a=b.target){var c=a.getAttribute(\"data-submitfalse\");a=c===\"1\"||c===\"q\"&&!a.elements.q.value?!0:!1}else a=!1;a&&(b.preventDefault(),b.stopPropagation())},!0);document.documentElement.addEventListener(\"click\",function(b){var a;a:{for(a=b.target;a&&a!==document.documentElement;a=a.parentElement)if(a.tagName===\"A\"){a=a.getAttribute(\"data-nohref\")===\"1\";break a}a=!1}a&&b.preventDefault()},!0);}).call(this);</script><style>#gbar,#guser{font-size:13px;padding-top:1px !important;}#gbar{height:22px}#guser{padding-bottom:7px !important;text-align:right}.gbh,.gbd{border-top:1px solid #c9d7f1;font-size:1px}.gbh{height:0;position:absolute;top:24px;width:100%}@media all{.gb1{height:22px;margin-right:.5em;vertical-align:top}#gbar{float:left}}a.gb1,a.gb4{text-decoration:underline !important}a.gb1,a.gb4{color:#00c !important}.gbi .gb4{color:#dd8e27 !important}.gbf .gb4{color:#900 !important}\n",
       "</style><style>body,td,a,p,.h{font-family:arial,sans-serif}body{margin:0;overflow-y:scroll}#gog{padding:3px 8px 0}td{line-height:.8em}.gac_m td{line-height:17px}form{margin-bottom:20px}.h{color:#1967d2}em{font-weight:bold;font-style:normal}.lst{height:25px;width:496px}.gsfi,.lst{font:18px arial,sans-serif}.gsfs{font:17px arial,sans-serif}.ds{display:inline-box;display:inline-block;margin:3px 0 4px;margin-left:4px}input{font-family:inherit}body{background:#fff;color:#000}a{color:#681da8;text-decoration:none}a:hover,a:active{text-decoration:underline}.fl a{color:#1967d2}a:visited{color:#681da8}.sblc{padding-top:5px}.sblc a{display:block;margin:2px 0;margin-left:13px;font-size:11px}.lsbb{background:#f8f9fa;border:solid 1px;border-color:#dadce0 #70757a #70757a #dadce0;height:30px}.lsbb{display:block}#WqQANb a{display:inline-block;margin:0 12px}.lsb{background:url(/images/nav_logo229.png) 0 -261px repeat-x;color:#000;border:none;cursor:pointer;height:30px;margin:0;outline:0;font:15px arial,sans-serif;vertical-align:top}.lsb:active{background:#dadce0}.lst:focus{outline:none}.Ucigb{width:458px}</style><script nonce=\"OweyEjq5S-5PXivNRbv8_g\">(function(){window.google.erd={jsr:1,bv:2071,de:true};\n",
       "var g=this||self;var k,l=(k=g.mei)!=null?k:1,n,p=(n=g.sdo)!=null?n:!0,q=0,r,t=google.erd,v=t.jsr;google.ml=function(a,b,d,m,e){e=e===void 0?2:e;b&&(r=a&&a.message);d===void 0&&(d={});d.cad=\"ple_\"+google.ple+\".aple_\"+google.aple;if(google.dl)return google.dl(a,e,d,!0),null;b=d;if(v<0){window.console&&console.error(a,b);if(v===-2)throw a;b=!1}else b=!a||!a.message||a.message===\"Error loading script\"||q>=l&&!m?!1:!0;if(!b)return null;q++;d=d||{};b=encodeURIComponent;var c=\"/gen_204?atyp=i&ei=\"+b(google.kEI);google.kEXPI&&(c+=\"&jexpid=\"+b(google.kEXPI));c+=\"&srcpg=\"+b(google.sn)+\"&jsr=\"+b(t.jsr)+\n",
       "\"&bver=\"+b(t.bv);t.dpf&&(c+=\"&dpf=\"+b(t.dpf));var f=a.lineNumber;f!==void 0&&(c+=\"&line=\"+f);var h=a.fileName;h&&(h.indexOf(\"-extension:/\")>0&&(e=3),c+=\"&script=\"+b(h),f&&h===window.location.href&&(f=document.documentElement.outerHTML.split(\"\\n\")[f],c+=\"&cad=\"+b(f?f.substring(0,300):\"No script found.\")));google.ple&&google.ple===1&&(e=2);c+=\"&jsel=\"+e;for(var u in d)c+=\"&\",c+=b(u),c+=\"=\",c+=b(d[u]);c=c+\"&emsg=\"+b(a.name+\": \"+a.message);c=c+\"&jsst=\"+b(a.stack||\"N/A\");c.length>=12288&&(c=c.substr(0,12288));a=c;m||google.log(0,\"\",a);return a};window.onerror=function(a,b,d,m,e){r!==a&&(a=e instanceof Error?e:Error(a),d===void 0||\"lineNumber\"in a||(a.lineNumber=d),b===void 0||\"fileName\"in a||(a.fileName=b),google.ml(a,!1,void 0,!1,a.name===\"SyntaxError\"||a.message.substring(0,11)===\"SyntaxError\"||a.message.indexOf(\"Script error\")!==-1?3:0));r=null;p&&q>=l&&(window.onerror=null)};})();</script></head><body bgcolor=\"#fff\"><script nonce=\"OweyEjq5S-5PXivNRbv8_g\">(function(){var src='/images/nav_logo229.png';var iesg=false;document.body.onload = function(){window.n && window.n();if (document.images){new Image().src=src;}\n",
       "if (!iesg){document.f&&document.f.q.focus();document.gbqf&&document.gbqf.q.focus();}\n",
       "}\n",
       "})();</script><div id=\"mngb\"><div id=gbar><nobr><b class=gb1>&#1055;&#1086;&#1096;&#1091;&#1082;</b> <a class=gb1 href=\"https://www.google.com/imghp?hl=be&tab=wi\">&#1042;&#1110;&#1076;&#1072;&#1088;&#1099;&#1089;&#1099;</a> <a class=gb1 href=\"https://maps.google.by/maps?hl=be&tab=wl\">&#1050;&#1072;&#1088;&#1090;&#1099;</a> <a class=gb1 href=\"https://play.google.com/?hl=be&tab=w8\">Play</a> <a class=gb1 href=\"https://www.youtube.com/?tab=w1\">YouTube</a> <a class=gb1 href=\"https://news.google.com/?tab=wn\">&#1053;&#1072;&#1074;&#1110;&#1085;&#1099;</a> <a class=gb1 href=\"https://mail.google.com/mail/?tab=wm\">Gmail</a> <a class=gb1 href=\"https://drive.google.com/?tab=wo\">&#1044;&#1099;&#1089;&#1082;</a> <a class=gb1 style=\"text-decoration:none\" href=\"https://www.google.by/intl/be/about/products?tab=wh\"><u>&#1071;&#1096;&#1095;&#1101;</u> &raquo;</a></nobr></div><div id=guser width=100%><nobr><span id=gbn class=gbi></span><span id=gbf class=gbf></span><span id=gbe></span><a href=\"http://www.google.by/history/optout?hl=be\" class=gb4>&#1043;&#1110;&#1089;&#1090;&#1086;&#1088;&#1099;&#1103; &#1087;&#1086;&#1096;&#1091;&#1082;&#1091;</a> | <a  href=\"/preferences?hl=be\" class=gb4>&#1053;&#1072;&#1083;&#1072;&#1076;&#1099;</a> | <a target=_top id=gb_70 href=\"https://accounts.google.com/ServiceLogin?hl=be&passive=true&continue=https://www.google.com/&ec=GAZAAQ\" class=gb4>&#1059;&#1074;&#1072;&#1081;&#1089;&#1094;&#1110;</a></nobr></div><div class=gbh style=left:0></div><div class=gbh style=right:0></div></div><center><br clear=\"all\" id=\"lgpd\"><div id=\"XjhHGf\"><img alt=\"Google\" height=\"92\" src=\"/images/branding/googlelogo/1x/googlelogo_white_background_color_272x92dp.png\" style=\"padding:28px 0 14px\" width=\"272\" id=\"hplogo\"><br><br></div><form action=\"/search\" name=\"f\"><table cellpadding=\"0\" cellspacing=\"0\"><tr valign=\"top\"><td width=\"25%\">&nbsp;</td><td align=\"center\" nowrap=\"\"><input name=\"ie\" value=\"ISO-8859-1\" type=\"hidden\"><input value=\"be\" name=\"hl\" type=\"hidden\"><input name=\"source\" type=\"hidden\" value=\"hp\"><input name=\"biw\" type=\"hidden\"><input name=\"bih\" type=\"hidden\"><div class=\"ds\" style=\"height:32px;margin:4px 0\"><div style=\"position:relative;zoom:1\"><input class=\"lst Ucigb\" style=\"margin:0;padding:5px 8px 0 6px;vertical-align:top;color:#000;padding-right:38px\" value=\"\" title=\"&#1055;&#1086;&#1096;&#1091;&#1082; Google\" maxlength=\"2048\" name=\"q\" size=\"57\"><img src=\"/textinputassistant/tia.png\" style=\"position:absolute;cursor:pointer;right:5px;top:4px;z-index:300\" data-script-url=\"/textinputassistant/13/be_tia.js\" id=\"tsuid_1\" alt=\"\" height=\"23\" width=\"27\"><script nonce=\"OweyEjq5S-5PXivNRbv8_g\">(function(){var id='tsuid_1';document.getElementById(id).onclick = function(){var s = document.createElement('script');s.src = this.getAttribute('data-script-url');document.body.appendChild(s);};})();</script></div></div><br style=\"line-height:0\"><span class=\"ds\"><span class=\"lsbb\"><input class=\"lsb\" value=\"&#1055;&#1086;&#1096;&#1091;&#1082; Google\" name=\"btnG\" type=\"submit\"></span></span><span class=\"ds\"><span class=\"lsbb\"><input class=\"lsb\" id=\"tsuid_2\" value=\"&#1052;&#1085;&#1077; &#1087;&#1072;&#1096;&#1072;&#1085;&#1094;&#1091;&#1077;\" name=\"btnI\" type=\"submit\"><script nonce=\"OweyEjq5S-5PXivNRbv8_g\">(function(){var id='tsuid_2';document.getElementById(id).onclick = function(){if (this.form.q.value){this.checked = 1;if (this.form.iflsig)this.form.iflsig.disabled = false;}\n",
       "else top.location='/doodles/';};})();</script><input value=\"AL9hbdgAAAAAZtgumRxuhzMggDxAVYWocEBMfIczG4BZ\" name=\"iflsig\" type=\"hidden\"></span></span></td><td class=\"fl sblc\" align=\"left\" nowrap=\"\" width=\"25%\"><a href=\"/advanced_search?hl=be&amp;authuser=0\">&#1055;&#1072;&#1096;&#1099;&#1088;&#1072;&#1085;&#1099; &#1087;&#1086;&#1096;&#1091;&#1082;</a></td></tr></table><input id=\"gbv\" name=\"gbv\" type=\"hidden\" value=\"1\"><script nonce=\"OweyEjq5S-5PXivNRbv8_g\">(function(){var a,b=\"1\";if(document&&document.getElementById)if(typeof XMLHttpRequest!=\"undefined\")b=\"2\";else if(typeof ActiveXObject!=\"undefined\"){var c,d,e=[\"MSXML2.XMLHTTP.6.0\",\"MSXML2.XMLHTTP.3.0\",\"MSXML2.XMLHTTP\",\"Microsoft.XMLHTTP\"];for(c=0;d=e[c++];)try{new ActiveXObject(d),b=\"2\"}catch(h){}}a=b;if(a==\"2\"&&location.search.indexOf(\"&gbv=2\")==-1){var f=google.gbvu,g=document.getElementById(\"gbv\");g&&(g.value=a);f&&window.setTimeout(function(){location.href=f},0)};}).call(this);</script></form><div style=\"font-size:83%;min-height:3.5em\"><br><div id=\"gws-output-pages-elements-homepage_additional_languages__als\"><style>#gws-output-pages-elements-homepage_additional_languages__als{font-size:small;margin-bottom:24px}#SIvCob{color:#474747;display:inline-block;line-height:28px;}#SIvCob a{padding:0 3px;}.H6sW5{display:inline-block;margin:0 2px;white-space:nowrap}.z4hgWe{display:inline-block;margin:0 2px}</style><div id=\"SIvCob\">&#1044;&#1072;&#1089;&#1090;&#1091;&#1087;&#1085;&#1072;&#1103; &#1084;&#1086;&#1074;&#1072;:  <a href=\"https://www.google.com/setprefs?sig=0_AgpL4V0kVwAQ_9Efbr8O5WuDDsM%3D&amp;hl=ru&amp;source=homepage&amp;sa=X&amp;ved=0ahUKEwj-uPGz9aiIAxVxUUEAHeK2AnkQ2ZgBCAY\">&#1088;&#1091;&#1089;&#1089;&#1082;&#1080;&#1081;</a>  </div></div></div><span id=\"footer\"><div style=\"font-size:10pt\"><div style=\"margin:19px auto;text-align:center\" id=\"WqQANb\"><a href=\"/intl/be/ads/\">&#1056;&#1101;&#1082;&#1083;&#1072;&#1084;&#1072;</a><a href=\"/intl/be/about.html\">&#1059;&#1089;&#1105; &#1087;&#1088;&#1072; Google</a><a href=\"https://www.google.com/setprefdomain?prefdom=BY&amp;prev=https://www.google.by/&amp;sig=K_sj4rHy9QkHY-XOkZqSEQNpwoDaM%3D\">Google.by</a></div></div><p style=\"font-size:8pt;color:#70757a\">&copy; 2024</p></span></center><script nonce=\"OweyEjq5S-5PXivNRbv8_g\">(function(){window.google.cdo={height:757,width:1440};(function(){var a=window.innerWidth,b=window.innerHeight;if(!a||!b){var c=window.document,d=c.compatMode==\"CSS1Compat\"?c.documentElement:c.body;a=d.clientWidth;b=d.clientHeight}\n",
       "if(a&&b&&(a!=google.cdo.width||b!=google.cdo.height)){var e=google,f=e.log,g=\"/client_204?&atyp=i&biw=\"+a+\"&bih=\"+b+\"&ei=\"+google.kEI,h=\"\",k=[],l=window.google!==void 0&&window.google.kOPI!==void 0&&window.google.kOPI!==0?window.google.kOPI:null;l!=null&&k.push([\"opi\",l.toString()]);for(var m=0;m<k.length;m++){if(m===0||m>0)h+=\"&\";h+=k[m][0]+\"=\"+k[m][1]}f.call(e,\"\",\"\",g+h)};}).call(this);})();</script>  <script nonce=\"OweyEjq5S-5PXivNRbv8_g\">(function(){google.xjs={basecomb:'/xjs/_/js/k\\x3dxjs.hp.en.2RRmhRyqEcM.O/ck\\x3dxjs.hp.vZsmrEGoitM.L.X.O/am\\x3dAQAAACAAAAAAAAAAAAAAAAAAAAAAAAAAgBAAAAAAAABAABgAwAEAACAAQEAAAAAAAB4AAAAAAAAQgBAAgAKAAAHAgfiOAEAALAIAwAs/d\\x3d1/ed\\x3d1/dg\\x3d0/ujg\\x3d1/rs\\x3dACT90oF1ukRlhF_vcouA6O7q8SmwqSXwWg',basecss:'/xjs/_/ss/k\\x3dxjs.hp.vZsmrEGoitM.L.X.O/am\\x3dAQAAACAAAAAAAAAAAAAAAAAAAAAAAAAAABAAAAAAAABAAAAAAAAAACAAQEAAAAAAAAAAAAAAAAAQgBAAgAKAAAE/rs\\x3dACT90oEh2qYx0ggVNZxUb-7AkJiU8ZF1oA',basejs:'/xjs/_/js/k\\x3dxjs.hp.en.2RRmhRyqEcM.O/am\\x3dAAAAAAAAAAAAAAAAAAAAAAAAAAAAAAAAgAAAAAAAAAAAABgAwAEAAAAAAAAAAAAAAB4AAAAAAAAAAAAAAAAAAADAgfiOAEAALAIAwAs/dg\\x3d0/rs\\x3dACT90oGYfbxDfG1QrGq9VI2mIcfaY2ImQQ',excm:[]};})();</script>  <link href=\"/xjs/_/ss/k=xjs.hp.vZsmrEGoitM.L.X.O/am=AQAAACAAAAAAAAAAAAAAAAAAAAAAAAAAABAAAAAAAABAAAAAAAAAACAAQEAAAAAAAAAAAAAAAAAQgBAAgAKAAAE/d=1/ed=1/rs=ACT90oEh2qYx0ggVNZxUb-7AkJiU8ZF1oA/m=d\" rel=\"stylesheet\" nonce=\"OweyEjq5S-5PXivNRbv8_g\">      <script nonce=\"OweyEjq5S-5PXivNRbv8_g\">(function(){var u='/xjs/_/js/k\\x3dxjs.hp.en.2RRmhRyqEcM.O/am\\x3dAAAAAAAAAAAAAAAAAAAAAAAAAAAAAAAAgAAAAAAAAAAAABgAwAEAAAAAAAAAAAAAAB4AAAAAAAAAAAAAAAAAAADAgfiOAEAALAIAwAs/d\\x3d1/ed\\x3d1/dg\\x3d3/rs\\x3dACT90oGYfbxDfG1QrGq9VI2mIcfaY2ImQQ/m\\x3dd';var st=1;var amd=1000;var mmd=0;var pod=true;\n",
       "var f=this||self,g=function(a){return a};function h(){var a,b,c;return(a=(b=window.google)==null?void 0:(c=b.ia)==null?void 0:c.r.B2Jtyd)&&a.m===1&&a.cbfd!=null&&a.cbvi!=null?a:void 0};var k;var l={},m=function(a){this.g=a};m.prototype.toString=function(){return this.g+\"\"};var n=function(a){return a instanceof m&&a.constructor===m?a.g:\"type_error:TrustedResourceUrl\"};\n",
       "var p=/^\\s*(?!javascript:)(?:[\\w+.-]+:|[^:/?#]*(?:[/?#]|$))/i;var q=\"alternate author bookmark canonical cite help icon license modulepreload next prefetch dns-prefetch prerender preconnect preload prev search subresource\".split(\" \");function r(a,b){a.src=n(b);var c,d;(c=(b=(d=(c=(a.ownerDocument&&a.ownerDocument.defaultView||window).document).querySelector)==null?void 0:d.call(c,\"script[nonce]\"))?b.nonce||b.getAttribute(\"nonce\")||\"\":\"\")&&a.setAttribute(\"nonce\",c)};var t=function(a){var b=document;a=String(a);b.contentType===\"application/xhtml+xml\"&&(a=a.toLowerCase());return b.createElement(a)};function w(a){a=a===null?\"null\":a===void 0?\"undefined\":a;if(k===void 0){var b=null;var c=f.trustedTypes;if(c&&c.createPolicy){try{b=c.createPolicy(\"goog#html\",{createHTML:g,createScript:g,createScriptURL:g})}catch(d){f.console&&f.console.error(d.message)}k=b}else k=b}a=(b=k)?b.createScriptURL(a):a;return new m(a,l)};google.ps===void 0&&(google.ps=[]);function x(){var a=u,b=function(){};google.lx=google.stvsc?b:function(){y(a);google.lx=b};google.bx||google.lx()}function z(a,b){b&&r(a,w(b));var c=a.onload;a.onload=function(d){c&&c(d);google.ps=google.ps.filter(function(e){return a!==e})};google.ps.push(a);document.body.appendChild(a)}google.as=z;function y(a){google.timers&&google.timers.load&&google.tick&&google.tick(\"load\",\"xjsls\");var b=t(\"SCRIPT\");b.onerror=function(){google.ple=1};b.onload=function(){google.ple=0};google.xjsus=void 0;z(b,a);google.aple=-1;google.dp=!0}\n",
       "function A(){var a=[u];if(!google.dp){for(var b=0;b<a.length;b++){var c=t(\"LINK\"),d=c,e=w(a[b]);if(e instanceof m)d.href=n(e).toString(),d.rel=\"preload\";else{if(q.indexOf(\"preload\")===-1)throw Error(\"a`preload\");e=p.test(e)?e:void 0;e!==void 0&&(d.href=e,d.rel=\"preload\")}c.setAttribute(\"as\",\"script\");document.body.appendChild(c)}google.dp=!0}};function B(a){var b=a.getAttribute(\"jscontroller\");return(b===\"UBXHI\"||b===\"R3fhkb\"||b===\"TSZEqd\")&&a.hasAttribute(\"data-src\")}function C(){for(var a=document.getElementsByTagName(\"img\"),b=0,c=a.length;b<c;b++){var d=a[b];if(d.hasAttribute(\"data-lzy_\")&&Number(d.getAttribute(\"data-atf\"))&1&&!B(d))return!0}return!1}for(var D=document.getElementsByTagName(\"img\"),E=0,F=D.length;E<F;++E){var G=D[E];Number(G.getAttribute(\"data-atf\"))&1&&B(G)&&(G.src=G.getAttribute(\"data-src\"))};var H,I,J,K,L,M;function N(){google.xjsu=u;f._F_jsUrl=u;L=function(){x()};H=!1;I=(st===1||st===3)&&!!google.caft&&!C();J=h();K=(st===2||st===3)&&(!!google.rairicb||!!J)&&!C();M=pod}function O(){H||I||K||(L(),H=!0)}\n",
       "setTimeout(function(){google&&google.tick&&google.timers&&google.timers.load&&google.tick(\"load\",\"xjspls\");N();if(I||K){if(I){var a=function(){I=!1;O()};google.caft(a);window.setTimeout(a,amd)}K&&(a=function(){K=!1;O()},J?J.cbvi.push(a):(0,google.rairicb)(a),window.setTimeout(a,mmd));M&&(H||A())}else L()},0);})();window._ = window._ || {};window._DumpException = _._DumpException = function(e){throw e;};window._s = window._s || {};_s._DumpException = _._DumpException;window._qs = window._qs || {};_qs._DumpException = _._DumpException;(function(){var t=[1,128,0,0,0,0,17367040,0,4526784,117702756,167772176,1052672,2363392,120,0,270340,10519168,570884100,67111151,35592,3008];window._F_toggles = window._xjs_toggles = t;})();window._F_installCss = window._F_installCss || function(css){};(function(){google.jl={bfl:0,dw:false,ine:false,ubm:false,uwp:true,vs:false};})();(function(){var pmc='{\\x22d\\x22:{}}';google.pmc=JSON.parse(pmc);})();(function(){var b=function(a){var c=0;return function(){return c<a.length?{done:!1,value:a[c++]}:{done:!0}}};\n",
       "var e=this||self;var g,h;a:{for(var k=[\"CLOSURE_FLAGS\"],l=e,n=0;n<k.length;n++)if(l=l[k[n]],l==null){h=null;break a}h=l}var p=h&&h[610401301];g=p!=null?p:!1;var q,r=e.navigator;q=r?r.userAgentData||null:null;function t(a){return g?q?q.brands.some(function(c){return(c=c.brand)&&c.indexOf(a)!=-1}):!1:!1}function u(a){var c;a:{if(c=e.navigator)if(c=c.userAgent)break a;c=\"\"}return c.indexOf(a)!=-1};function v(){return g?!!q&&q.brands.length>0:!1}function w(){return u(\"Safari\")&&!(x()||(v()?0:u(\"Coast\"))||(v()?0:u(\"Opera\"))||(v()?0:u(\"Edge\"))||(v()?t(\"Microsoft Edge\"):u(\"Edg/\"))||(v()?t(\"Opera\"):u(\"OPR\"))||u(\"Firefox\")||u(\"FxiOS\")||u(\"Silk\")||u(\"Android\"))}function x(){return v()?t(\"Chromium\"):(u(\"Chrome\")||u(\"CriOS\"))&&!(v()?0:u(\"Edge\"))||u(\"Silk\")}function y(){return u(\"Android\")&&!(x()||u(\"Firefox\")||u(\"FxiOS\")||(v()?0:u(\"Opera\"))||u(\"Silk\"))};var z=v()?!1:u(\"Trident\")||u(\"MSIE\");y();x();w();var A=!z&&!w(),D=function(a){if(/-[a-z]/.test(\"ved\"))return null;if(A&&a.dataset){if(y()&&!(\"ved\"in a.dataset))return null;a=a.dataset.ved;return a===void 0?null:a}return a.getAttribute(\"data-\"+\"ved\".replace(/([A-Z])/g,\"-$1\").toLowerCase())};var E=[],F=null;function G(a){a=a.target;var c=performance.now(),f=[],H=f.concat,d=E;if(!(d instanceof Array)){var m=typeof Symbol!=\"undefined\"&&Symbol.iterator&&d[Symbol.iterator];if(m)d=m.call(d);else if(typeof d.length==\"number\")d={next:b(d)};else throw Error(\"b`\"+String(d));for(var B=[];!(m=d.next()).done;)B.push(m.value);d=B}E=H.call(f,d,[c]);if(a&&a instanceof HTMLElement)if(a===F){if(c=E.length>=4)c=(E[E.length-1]-E[E.length-4])/1E3<5;if(c){c=google.getEI(a);a.hasAttribute(\"data-ved\")?f=a?D(a)||\"\":\"\":f=(f=\n",
       "a.closest(\"[data-ved]\"))?D(f)||\"\":\"\";f=f||\"\";if(a.hasAttribute(\"jsname\"))a=a.getAttribute(\"jsname\");else{var C;a=(C=a.closest(\"[jsname]\"))==null?void 0:C.getAttribute(\"jsname\")}google.log(\"rcm\",\"&ei=\"+c+\"&tgtved=\"+f+\"&jsname=\"+(a||\"\"))}}else F=a,E=[c]}window.document.addEventListener(\"DOMContentLoaded\",function(){document.body.addEventListener(\"click\",G)});}).call(this);</script></body></html>"
      ]
     },
     "metadata": {},
     "output_type": "display_data"
    }
   ],
   "source": [
    "curl -sL localhost:80 | displayHTML"
   ]
  },
  {
   "cell_type": "markdown",
   "metadata": {},
   "source": [
    "## Logs\n",
    "\n",
    "Logging in Nginx is very useful for troubleshooting. There are two main log files in Nginx:\n",
    "\n",
    "- `/var/log/nginx/access.log`: Logs all incoming requests and their details.\n",
    "- `/var/log/nginx/error.log`: Logs cases that lead to errors."
   ]
  },
  {
   "cell_type": "markdown",
   "metadata": {},
   "source": [
    "---\n",
    "\n",
    "For reasons that are still unclear, we need to reorder the log files in order to be able to read them. So in the following cell we do this for our container."
   ]
  },
  {
   "cell_type": "code",
   "execution_count": 10,
   "metadata": {
    "vscode": {
     "languageId": "shellscript"
    }
   },
   "outputs": [],
   "source": [
    "docker exec -i experiment_nginx bash << EOF\n",
    "\n",
    "rm /var/log/nginx/access.log /var/log/nginx/error.log\n",
    "touch /var/log/nginx/access.log /var/log/nginx/error.log\n",
    "nginx -s reload\n",
    "EOF"
   ]
  },
  {
   "cell_type": "markdown",
   "metadata": {},
   "source": [
    "And here is a request to nginx to print the contents of `access.log`."
   ]
  },
  {
   "cell_type": "code",
   "execution_count": 11,
   "metadata": {
    "vscode": {
     "languageId": "shellscript"
    }
   },
   "outputs": [
    {
     "name": "stdout",
     "output_type": "stream",
     "text": [
      "172.17.0.1 - - [22/Jul/2024:07:54:09 +0000] \"GET / HTTP/1.1\" 301 220 \"-\" \"curl/7.81.0\"\n"
     ]
    }
   ],
   "source": [
    "curl localhost:80 &> /dev/null\n",
    "docker exec experiment_nginx cat /var/log/nginx/access.log"
   ]
  },
  {
   "cell_type": "markdown",
   "metadata": {},
   "source": [
    "## Connections management\n",
    "\n",
    "This section cosiders capabilities of the nginx to manage connections. Check the [specific page](nginx/connections_management.ipynb) for this topic."
   ]
  },
  {
   "cell_type": "markdown",
   "metadata": {},
   "source": [
    "## Build nginx\n",
    "\n",
    "To enable some features of the nginx you'll need to build nginx from sources. For example, to include module for example `ngx_http_stub_status_module` you need to build nginx with special parameter `--with-http_stub_status_module` only after that operation you can use features of the included module.\n",
    "\n",
    "Check [corresponding section](https://docs.nginx.com/nginx/admin-guide/installing-nginx/installing-nginx-open-source/#compiling-and-installing-from-source) of the nginx installatin page."
   ]
  },
  {
   "cell_type": "markdown",
   "metadata": {},
   "source": [
    "---\n",
    "\n",
    "The following cell represents dockerfile that can be used for building image of the custom nginx."
   ]
  },
  {
   "cell_type": "code",
   "execution_count": 1,
   "metadata": {
    "vscode": {
     "languageId": "shellscript"
    }
   },
   "outputs": [
    {
     "name": "stdout",
     "output_type": "stream",
     "text": [
      "FROM debian:bookworm-slim\n",
      "\n",
      "RUN apt update && \\\n",
      "    apt install --no-install-recommends --no-install-suggests -y \\\n",
      "        gnupg1 \\\n",
      "        ca-certificates \\\n",
      "        curl \\\n",
      "        devscripts \\\n",
      "        equivs \\\n",
      "        git \\\n",
      "        libxml2-utils \\\n",
      "        lsb-release \\\n",
      "        xsltproc \\\n",
      "        libpcre3 \\\n",
      "        libpcre3-dev \\\n",
      "        zlib1g \\\n",
      "        zlib1g-dev\n",
      "\n",
      "ARG NGINX_VERSION=\"1.27.3\"\n",
      "ARG CONFIG_ARGUMENTS=\"--conf-path=/etc/nginx/nginx.conf --with-http_stub_status_module\"\n",
      "\n",
      "RUN curl -f -L -O http://nginx.org/download/nginx-${NGINX_VERSION}.tar.gz && \\\n",
      "    tar -zxvf nginx-${NGINX_VERSION}.tar.gz && \\\n",
      "    cd nginx-${NGINX_VERSION} && \\\n",
      "    ./configure ${CONFIG_ARGUMENTS} && \\\n",
      "    make && make install\n",
      "    \n",
      "ENV PATH=$PATH:/usr/local/nginx/sbin\n",
      "\n",
      "CMD [\"nginx\", \"-g\", \"daemon off;\"]\n"
     ]
    }
   ],
   "source": [
    "cat nginx_files/build_nginx_docker"
   ]
  },
  {
   "cell_type": "markdown",
   "metadata": {},
   "source": [
    "There is such crucial features:\n",
    "\n",
    "- Installing packages that are required for building nginx: `apt update ... && apt install ...`.\n",
    "- Downloading nginx compiling and instiling it:\n",
    "    ```bash\n",
    "    curl -f -L -O http://nginx.org/download/nginx-${NGINX_VERSION}.tar.gz && \\\n",
    "    tar -zxvf nginx-${NGINX_VERSION}.tar.gz && \\\n",
    "    cd nginx-${NGINX_VERSION} && \\\n",
    "    ./configure --conf-path=/etc/nginx/nginx.conf && \\\n",
    "    make && make install\n",
    "    ```\n",
    "    - The `./configure` command is particularly important as it allows you to specify additional arguments that affect the behavior of the resulting build. You can check the list of parameters and their meanings on the [corresponding page](https://nginx.org/en/docs/configure.html). For convenience, in a Dockerfile, there is a special argument `CONFIG_ARGUMENTS` where you can specify the set of arguments you want to use to build Nginx.\n",
    "- Add the path of the installation to the `PATH` environment variable - so you can access nginx just by using the `nginx` command."
   ]
  },
  {
   "cell_type": "markdown",
   "metadata": {},
   "source": [
    "In some specific sections of this description, a `custom_nginx` image can be used, which can be created with the following code:"
   ]
  },
  {
   "cell_type": "code",
   "execution_count": 4,
   "metadata": {
    "vscode": {
     "languageId": "shellscript"
    }
   },
   "outputs": [],
   "source": [
    "docker build -f nginx_files/build_nginx_docker -t custom_nginx . &> /dev/null"
   ]
  },
  {
   "cell_type": "markdown",
   "metadata": {},
   "source": [
    "With the `nginx -V` command, you can print the Nginx version, compiler version, and configure parameters. Use this to verify if you are indeed working with a custom Nginx build."
   ]
  },
  {
   "cell_type": "code",
   "execution_count": 3,
   "metadata": {
    "vscode": {
     "languageId": "shellscript"
    }
   },
   "outputs": [
    {
     "name": "stdout",
     "output_type": "stream",
     "text": [
      "nginx version: nginx/1.27.3\n",
      "built by gcc 12.2.0 (Debian 12.2.0-14) \n",
      "configure arguments: --conf-path=/etc/nginx/nginx.conf --with-http_stub_status_module\n"
     ]
    }
   ],
   "source": [
    "docker run -it --rm --name experiment_nginx custom_nginx nginx -V"
   ]
  }
 ],
 "metadata": {
  "kernelspec": {
   "display_name": "Bash",
   "language": "bash",
   "name": "bash"
  },
  "language_info": {
   "codemirror_mode": "shell",
   "file_extension": ".sh",
   "mimetype": "text/x-sh",
   "name": "bash"
  }
 },
 "nbformat": 4,
 "nbformat_minor": 2
}
