{
 "cells": [
  {
   "cell_type": "markdown",
   "id": "8438a208-62d8-4e2a-8924-6e197694caf6",
   "metadata": {},
   "source": [
    "# Linux\n",
    "\n",
    "This section is focused in options of using/configuring linux."
   ]
  },
  {
   "cell_type": "markdown",
   "id": "4891b86f-e2a1-4a47-8007-bda747cd15e7",
   "metadata": {},
   "source": [
    "## Operators\n",
    "\n",
    "Operators available in bash are shown in the table above by groups.\n",
    "\n",
    "| **Operator Group**       | **Operators**                                                                                                                                                    | **Description**|\n",
    "|--------------------------|------------------------------------------------------------------------------------------------------------------------------------------------------------------|-----------------|\n",
    "| **Arithmetic Operators** | `+`, `-`, `*`, `/`, `%`, `**`                                                                                                                                    | Perform mathematical calculations. |\n",
    "| **Comparison Operators** | `-eq`, `-ne`, `-gt`, `-ge`, `-lt`, `-le`                                                                                                                         | Compare values.|\n",
    "| **Logical Operators**    | `&&`, `\\|\\|`, `!`                                                                                                                                                  | Combine multiple conditions.|\n",
    "| **String Operators**     | `=`, `!=`, `-z`, `-n`                                                                                                                                            | Compare and manipulate strings.|\n",
    "| **File Test Operators**  | `-e`, `-f`, `-d`, `-r`, `-w`, `-x`                                                                                                                               | Test file properties.|\n",
    "| **Redirection Operators**| `>`, `>>`, `<`, `2>`, `2>>`, `&>`, `&>>`                                                                                                                         | Redirect input and output of commands.|\n",
    "| **Control Operators**    | `;`, `&&`, `\\|\\|`, `()`, `{}`                                                                                                                                      | Control execution flow of commands.|\n",
    "| **Pipeline Operators**   | `\\|`                                                                                                                                                              | Pass output of one command as input to another.|"
   ]
  },
  {
   "cell_type": "markdown",
   "id": "42a3a855-cafb-41de-a10b-fcbf2a830985",
   "metadata": {},
   "source": [
    "## Tiny commands\n",
    "\n",
    "There are some commands that are really primitive to use. They literally have 1-3 options. It doesn't make sense to have a separate section for all such commands, so we'll cover them all in this section."
   ]
  },
  {
   "cell_type": "markdown",
   "id": "6789ee11-8ff5-4303-b814-137bdb6c1fe8",
   "metadata": {},
   "source": [
    "Print the number of processing units available to the current process, which may be less than the number of online processors."
   ]
  },
  {
   "cell_type": "code",
   "execution_count": 1,
   "id": "ffd6879a-04d0-46bb-a44b-3e499299a3e7",
   "metadata": {
    "vscode": {
     "languageId": "shellscript"
    }
   },
   "outputs": [
    {
     "name": "stdout",
     "output_type": "stream",
     "text": [
      "32\n"
     ]
    }
   ],
   "source": [
    "!nproc"
   ]
  },
  {
   "cell_type": "markdown",
   "id": "9d75418e-d890-4adb-901c-345b07cee008",
   "metadata": {},
   "source": [
    "Print how long system have been running."
   ]
  },
  {
   "cell_type": "code",
   "execution_count": 2,
   "id": "0aa4f1ce-77df-4463-a8cd-66f6dc96c882",
   "metadata": {
    "vscode": {
     "languageId": "shellscript"
    }
   },
   "outputs": [
    {
     "name": "stdout",
     "output_type": "stream",
     "text": [
      " 17:16:38 up  7:12,  1 user,  load average: 0,37, 0,34, 0,47\n"
     ]
    }
   ],
   "source": [
    "!uptime"
   ]
  },
  {
   "cell_type": "markdown",
   "id": "2f904647-db07-4309-9359-9bfdc0d71d64",
   "metadata": {},
   "source": [
    "Shows or sets the system's hostname."
   ]
  },
  {
   "cell_type": "code",
   "execution_count": 3,
   "id": "f0ca7629-1b3b-466f-b397-751f64e55ed8",
   "metadata": {
    "vscode": {
     "languageId": "shellscript"
    }
   },
   "outputs": [
    {
     "name": "stdout",
     "output_type": "stream",
     "text": [
      "MBD843AE246AC7\n"
     ]
    }
   ],
   "source": [
    "!hostname"
   ]
  },
  {
   "cell_type": "markdown",
   "id": "e973985f-5896-478b-b97a-0b4912b940c3",
   "metadata": {},
   "source": [
    "Print working directory."
   ]
  },
  {
   "cell_type": "code",
   "execution_count": 4,
   "id": "9e8a8f91-18d5-4557-8e2f-53cf95c8d061",
   "metadata": {
    "vscode": {
     "languageId": "shellscript"
    }
   },
   "outputs": [
    {
     "name": "stdout",
     "output_type": "stream",
     "text": [
      "/home/f.kobak@maxbit.local/Documents/knowledge/other\n"
     ]
    }
   ],
   "source": [
    "!pwd"
   ]
  },
  {
   "cell_type": "markdown",
   "id": "3900f25c-94d1-4f94-b38c-b751b3f09f7f",
   "metadata": {},
   "source": [
    "Pause the execution flow for a certain amount of time. The following example shows that the second execution of `uptime` is delayed by `sleep` when compared to the first execution of `uptime`."
   ]
  },
  {
   "cell_type": "code",
   "execution_count": 5,
   "id": "402959f3-6cae-4252-a664-04c5eb3d987a",
   "metadata": {
    "vscode": {
     "languageId": "shellscript"
    }
   },
   "outputs": [
    {
     "name": "stdout",
     "output_type": "stream",
     "text": [
      " 17:16:38 up  7:12,  1 user,  load average: 0,34, 0,34, 0,46\n",
      " 17:16:41 up  7:12,  1 user,  load average: 0,34, 0,34, 0,46\n"
     ]
    }
   ],
   "source": [
    "%%bash\n",
    "uptime\n",
    "sleep 3\n",
    "uptime"
   ]
  },
  {
   "cell_type": "markdown",
   "id": "f45f7533",
   "metadata": {},
   "source": [
    "## List contents (ls)\n",
    "\n",
    "`ls` command that allows to show files/directories in the folder."
   ]
  },
  {
   "cell_type": "markdown",
   "id": "d58a27b9",
   "metadata": {},
   "source": [
    "The following python code creates some random files and folders - so we can see what they look like in the output of the `ls` command."
   ]
  },
  {
   "cell_type": "code",
   "execution_count": 6,
   "id": "f3f62580",
   "metadata": {
    "vscode": {
     "languageId": "shellscript"
    }
   },
   "outputs": [],
   "source": [
    "import os\n",
    "import random\n",
    "import string\n",
    "\n",
    "def random_name(length=8):\n",
    "    'Function to create a random file/directory name'\n",
    "    letters = string.ascii_lowercase\n",
    "    return ''.join(random.choice(letters) for i in range(length))\n",
    "\n",
    "experimental_path = \"linux_files/ls\"\n",
    "os.mkdir(experimental_path)\n",
    "\n",
    "for i in range(10):\n",
    "    new_path = experimental_path + \"/\" + random_name()\n",
    "    if random.choice([True, False]):\n",
    "        os.mkdir(new_path)\n",
    "    else:\n",
    "        with open(new_path, \"w\") as f:\n",
    "            f.write(\"some content\")"
   ]
  },
  {
   "cell_type": "markdown",
   "id": "bbe04b4c",
   "metadata": {},
   "source": [
    "Just by using the `ls` command, we'll get some files/folders listed in random order. But we can't tell which of them are directories and which are files, their creation dates, the user who created them, and so on."
   ]
  },
  {
   "cell_type": "code",
   "execution_count": 7,
   "id": "1eff638b",
   "metadata": {
    "vscode": {
     "languageId": "shellscript"
    }
   },
   "outputs": [
    {
     "name": "stdout",
     "output_type": "stream",
     "text": [
      "clctvira  kmloyjbo  notogjkx  nyxxrzni\trxmzznlq\n",
      "itklpuxw  mojhtfqq  nvqttwne  rgnmwfrt\tzoiqrlne\n"
     ]
    }
   ],
   "source": [
    "!ls linux_files/ls"
   ]
  },
  {
   "cell_type": "markdown",
   "id": "9c232ae7",
   "metadata": {},
   "source": [
    "When using the `ls -l` command, you receive additional information in a detailed, table-like format. The columns provide the following details:\n",
    "\n",
    "- Line that indicates whether the item is a directory, along with its permissions.\n",
    "- Number of links to the item.\n",
    "- The third and fourth columns are the user who owns the file and the Unix group of users to which the file belongs.\n",
    "- Size of item in bytes.\n",
    "- Time at which item was changed.\n",
    "- And last column is the name of the item."
   ]
  },
  {
   "cell_type": "code",
   "execution_count": 8,
   "id": "89636b84",
   "metadata": {
    "vscode": {
     "languageId": "shellscript"
    }
   },
   "outputs": [
    {
     "name": "stdout",
     "output_type": "stream",
     "text": [
      "total 40\n",
      "drwxr-xr-x 2 f.kobak@maxbit.local domain users@maxbit.local 4096 ліп 12 17:16 clctvira\n",
      "drwxr-xr-x 2 f.kobak@maxbit.local domain users@maxbit.local 4096 ліп 12 17:16 itklpuxw\n",
      "-rw-r--r-- 1 f.kobak@maxbit.local domain users@maxbit.local   12 ліп 12 17:16 kmloyjbo\n",
      "drwxr-xr-x 2 f.kobak@maxbit.local domain users@maxbit.local 4096 ліп 12 17:16 mojhtfqq\n",
      "drwxr-xr-x 2 f.kobak@maxbit.local domain users@maxbit.local 4096 ліп 12 17:16 notogjkx\n",
      "drwxr-xr-x 2 f.kobak@maxbit.local domain users@maxbit.local 4096 ліп 12 17:16 nvqttwne\n",
      "-rw-r--r-- 1 f.kobak@maxbit.local domain users@maxbit.local   12 ліп 12 17:16 nyxxrzni\n",
      "-rw-r--r-- 1 f.kobak@maxbit.local domain users@maxbit.local   12 ліп 12 17:16 rgnmwfrt\n",
      "-rw-r--r-- 1 f.kobak@maxbit.local domain users@maxbit.local   12 ліп 12 17:16 rxmzznlq\n",
      "drwxr-xr-x 2 f.kobak@maxbit.local domain users@maxbit.local 4096 ліп 12 17:16 zoiqrlne\n"
     ]
    }
   ],
   "source": [
    "!ls linux_files/ls -l"
   ]
  },
  {
   "cell_type": "markdown",
   "id": "858322ad",
   "metadata": {},
   "source": [
    "**Note** to keep your system clean, don't forget to get rid of temporary directories and files."
   ]
  },
  {
   "cell_type": "code",
   "execution_count": 9,
   "id": "4ba19eff",
   "metadata": {
    "vscode": {
     "languageId": "shellscript"
    }
   },
   "outputs": [],
   "source": [
    "!rm -r linux_files/ls"
   ]
  },
  {
   "cell_type": "markdown",
   "id": "180f3489-4e89-4e8e-9fb9-f4ef3896454a",
   "metadata": {},
   "source": [
    "## Find\n",
    "\n",
    "Linux `find` command allows you to search for files in the system. It have following syntax `find <directory-to-search> <criteria> <action>` where:\n",
    "\n",
    "- `<directory-to-search>`: Specifies the directory where you want to begin the search.\n",
    "- `<criteria>`: Defines the properties of the files you are searching for. This can include the file name, size, modification date, permissions, and more.\n",
    "- `<action>`: Specifies what to do with the found files. By default, it prints the path to the files, but it can also execute other commands on them."
   ]
  },
  {
   "cell_type": "markdown",
   "id": "10d94cd4-80ee-4c95-88b9-9d85ee2ad6cf",
   "metadata": {},
   "source": [
    "The following Python code creates a random tree of foldres and puts `text.txt` in the random place."
   ]
  },
  {
   "cell_type": "code",
   "execution_count": 10,
   "id": "a7a4aa50-d540-44ce-8732-43d7f48d7a90",
   "metadata": {
    "vscode": {
     "languageId": "shellscript"
    }
   },
   "outputs": [],
   "source": [
    "import os\n",
    "import random\n",
    "import string\n",
    "\n",
    "def random_directory_name(length=8):\n",
    "    'Function to create a random directory name'\n",
    "    letters = string.ascii_lowercase\n",
    "    return ''.join(random.choice(letters) for i in range(length))\n",
    "\n",
    "os.mkdir(\"linux_files/find\")\n",
    "folders = [\"linux_files/find\"]\n",
    "\n",
    "for i in range(10):\n",
    "    fold = random.choice(folders)\n",
    "    new_dir = fold + \"/\" + random_directory_name()\n",
    "    os.mkdir(new_dir)\n",
    "    folders.append(new_dir)\n",
    "\n",
    "with open(random.choice(folders) + \"/\" + \"text.txt\", \"w\") as f:\n",
    "    f.write(\"Message to aliens\")"
   ]
  },
  {
   "cell_type": "markdown",
   "id": "5b83a977-ea08-4308-93a8-565cae32b70f",
   "metadata": {},
   "source": [
    "As a result, we have the following file tree."
   ]
  },
  {
   "cell_type": "code",
   "execution_count": 11,
   "id": "7438598a-3525-4d31-a23c-9ba733fba16b",
   "metadata": {
    "vscode": {
     "languageId": "shellscript"
    }
   },
   "outputs": [
    {
     "name": "stdout",
     "output_type": "stream",
     "text": [
      "\u001b[01;34mlinux_files/find\u001b[0m\n",
      "└── \u001b[01;34mgptiiiab\u001b[0m\n",
      "    ├── \u001b[01;34miipubngm\u001b[0m\n",
      "    ├── \u001b[01;34mngvixpsi\u001b[0m\n",
      "    ├── \u001b[01;34mpluqbiln\u001b[0m\n",
      "    └── \u001b[01;34myfjphojg\u001b[0m\n",
      "        ├── \u001b[01;34mbosqqrcn\u001b[0m\n",
      "        ├── \u001b[01;34mfopmjtfu\u001b[0m\n",
      "        └── \u001b[01;34mrctkvqsm\u001b[0m\n",
      "            └── \u001b[01;34mkegxfokz\u001b[0m\n",
      "                ├── \u001b[00mtext.txt\u001b[0m\n",
      "                └── \u001b[01;34mxsvcplwo\u001b[0m\n",
      "\n",
      "10 directories, 1 file\n"
     ]
    }
   ],
   "source": [
    "!tree linux_files/find"
   ]
  },
  {
   "cell_type": "markdown",
   "id": "7cbe08b8-3e68-4590-9a47-1b3d1a242b07",
   "metadata": {},
   "source": [
    "And we can get the full path for `text.txt` by using construction `--name text.txt` as criteria."
   ]
  },
  {
   "cell_type": "code",
   "execution_count": 12,
   "id": "30a49823-6db6-4af5-9957-579f547c39f0",
   "metadata": {
    "vscode": {
     "languageId": "shellscript"
    }
   },
   "outputs": [
    {
     "name": "stdout",
     "output_type": "stream",
     "text": [
      "linux_files/find/gptiiiab/yfjphojg/rctkvqsm/kegxfokz/text.txt\n"
     ]
    }
   ],
   "source": [
    "%%bash\n",
    "find linux_files/find -name text.txt\n",
    "rm -r linux_files/find"
   ]
  },
  {
   "cell_type": "markdown",
   "id": "fdbc3a78-ed94-48f5-bf3b-7ff35920bb9a",
   "metadata": {},
   "source": [
    "## Process status (ps)\n",
    "\n",
    "The `ps` (process status) command in Linux is used to display information about active system processes. By default, it provides an output table where each row represents a process and the columns include:\n",
    "\n",
    "- `PID` the unique process identifier.\n",
    "- `TTY` the terminal associated with the process.\n",
    "- `TIME` the cumulative CPU time used by the process.\n",
    "- `CMD` the command that initiated the process."
   ]
  },
  {
   "cell_type": "markdown",
   "id": "f71821de-be46-46be-9ff4-344da2a1deed",
   "metadata": {},
   "source": [
    "The following example shows the output of the ps command."
   ]
  },
  {
   "cell_type": "code",
   "execution_count": 13,
   "id": "ee5ce4aa-d59d-42a4-9bab-a655b8a4fcaf",
   "metadata": {
    "vscode": {
     "languageId": "shellscript"
    }
   },
   "outputs": [
    {
     "name": "stdout",
     "output_type": "stream",
     "text": [
      "    PID TTY          TIME CMD\n",
      " 213863 pts/2    00:00:00 ps\n"
     ]
    }
   ],
   "source": [
    "!ps"
   ]
  },
  {
   "cell_type": "markdown",
   "id": "795effbb-61ab-4ac3-a8e7-f8336d55d67e",
   "metadata": {},
   "source": [
    "To print all processes in the system, use the `-e` option, which prints all processes in the system."
   ]
  },
  {
   "cell_type": "markdown",
   "id": "0d577b92-ba36-4f1b-a3e1-f07f63892c57",
   "metadata": {},
   "source": [
    "The following cell shows the result of `ps -e`. Only the first 10 rows have been printed, because it could take a long time for the computer to process them."
   ]
  },
  {
   "cell_type": "code",
   "execution_count": 14,
   "id": "3b66e789-b110-44b8-94ea-ed2dc575f0fe",
   "metadata": {
    "vscode": {
     "languageId": "shellscript"
    }
   },
   "outputs": [
    {
     "name": "stdout",
     "output_type": "stream",
     "text": [
      "    PID TTY          TIME CMD\n",
      "      1 ?        00:00:05 systemd\n",
      "      2 ?        00:00:00 kthreadd\n",
      "      3 ?        00:00:00 rcu_gp\n",
      "      4 ?        00:00:00 rcu_par_gp\n",
      "      5 ?        00:00:00 slub_flushwq\n",
      "      6 ?        00:00:00 netns\n",
      "     11 ?        00:00:00 mm_percpu_wq\n",
      "     12 ?        00:00:00 rcu_tasks_kthread\n",
      "     13 ?        00:00:00 rcu_tasks_rude_kthread\n"
     ]
    }
   ],
   "source": [
    "!ps -e | head -n 10"
   ]
  },
  {
   "cell_type": "markdown",
   "id": "ba20ceb3-0880-4278-b303-379dfda81d2c",
   "metadata": {},
   "source": [
    "## System limits (ulimit)\n",
    "\n",
    "The `ulimit` Linux utility allows you to view and set user-level resource limits. It provides options for each type of limit, enabling you to control various aspects of system resource usage. To display all available limits, use the `-a` option."
   ]
  },
  {
   "cell_type": "code",
   "execution_count": 15,
   "id": "1f235ffd-2c19-459c-818b-e49f32f86e58",
   "metadata": {
    "vscode": {
     "languageId": "shellscript"
    }
   },
   "outputs": [
    {
     "name": "stdout",
     "output_type": "stream",
     "text": [
      "real-time non-blocking time  (microseconds, -R) unlimited\n",
      "core file size              (blocks, -c) 0\n",
      "data seg size               (kbytes, -d) unlimited\n",
      "scheduling priority                 (-e) 0\n",
      "file size                   (blocks, -f) unlimited\n",
      "pending signals                     (-i) 126734\n",
      "max locked memory           (kbytes, -l) 4065160\n",
      "max memory size             (kbytes, -m) unlimited\n",
      "open files                          (-n) 1048576\n",
      "pipe size                (512 bytes, -p) 8\n",
      "POSIX message queues         (bytes, -q) 819200\n",
      "real-time priority                  (-r) 0\n",
      "stack size                  (kbytes, -s) 8192\n",
      "cpu time                   (seconds, -t) unlimited\n",
      "max user processes                  (-u) 126734\n",
      "virtual memory              (kbytes, -v) unlimited\n",
      "file locks                          (-x) unlimited\n"
     ]
    }
   ],
   "source": [
    "!ulimit -a"
   ]
  },
  {
   "cell_type": "markdown",
   "id": "61a14282",
   "metadata": {},
   "source": [
    "## Replace env. var. (envsubst)\n",
    "\n",
    "The `envsubst` utility is used to replace placeholders within a \"template\" with corresponding values from environment variables. It allows you to substitute variables in specific locations with their actual values."
   ]
  },
  {
   "cell_type": "markdown",
   "id": "4c5963a9",
   "metadata": {},
   "source": [
    "So in the following cell is created a template:"
   ]
  },
  {
   "cell_type": "code",
   "execution_count": 7,
   "id": "c259d03a",
   "metadata": {
    "vscode": {
     "languageId": "shellscript"
    }
   },
   "outputs": [],
   "source": [
    "cat << EOF > linux_files/envsubst_example\n",
    "User \\${username} succesfully login his age is \\${userage}.\n",
    "EOF"
   ]
  },
  {
   "cell_type": "markdown",
   "id": "d6c85aca",
   "metadata": {},
   "source": [
    "If we print this template as it is - it will have `${username}` and `${userage}` just as text."
   ]
  },
  {
   "cell_type": "code",
   "execution_count": 8,
   "id": "e940b988",
   "metadata": {
    "vscode": {
     "languageId": "shellscript"
    }
   },
   "outputs": [
    {
     "name": "stdout",
     "output_type": "stream",
     "text": [
      "User ${username} succesfully login his age is ${userage}.\n"
     ]
    }
   ],
   "source": [
    "cat linux_files/envsubst_example"
   ]
  },
  {
   "cell_type": "markdown",
   "id": "022d02b2",
   "metadata": {},
   "source": [
    "If we define the corresponding values `username` and `userage` and pass the file to the envsubst command, we will obtain a line with the substituted values."
   ]
  },
  {
   "cell_type": "code",
   "execution_count": 9,
   "id": "00682618",
   "metadata": {
    "vscode": {
     "languageId": "shellscript"
    }
   },
   "outputs": [
    {
     "name": "stdout",
     "output_type": "stream",
     "text": [
      "User Fedor succesfully login his age is 23.\n"
     ]
    }
   ],
   "source": [
    "export username=Fedor\n",
    "export userage=23\n",
    "envsubst < linux_files/envsubst_example\n",
    "rm linux_files/envsubst_example"
   ]
  },
  {
   "cell_type": "markdown",
   "id": "a5478b46",
   "metadata": {},
   "source": [
    "## Curl"
   ]
  },
  {
   "cell_type": "markdown",
   "id": "41a649de",
   "metadata": {
    "vscode": {
     "languageId": "shellscript"
    }
   },
   "source": [
    "`curl` is a command-line tool for transferring data using various network protocols. In Linux, it’s commonly used to interact with web servers.\n",
    "\n",
    "Find out more in the [specific page](linux/curl.ipynb)."
   ]
  },
  {
   "cell_type": "markdown",
   "id": "e0fc8bc8",
   "metadata": {},
   "source": [
    "---\n",
    "\n",
    "Here is an example of a request to the remote server using curl."
   ]
  },
  {
   "cell_type": "code",
   "execution_count": 2,
   "id": "000cd6e8",
   "metadata": {
    "vscode": {
     "languageId": "shellscript"
    }
   },
   "outputs": [
    {
     "name": "stdout",
     "output_type": "stream",
     "text": [
      "{\n",
      "  \"args\": {}, \n",
      "  \"data\": \"\", \n",
      "  \"files\": {}, \n",
      "  \"form\": {}, \n",
      "  \"headers\": {\n",
      "    \"Accept\": \"*/*\", \n",
      "    \"Host\": \"httpbin.org\", \n",
      "    \"User-Agent\": \"curl/7.81.0\", \n",
      "    \"X-Amzn-Trace-Id\": \"Root=1-66a891dd-4956ac101aa26bcc365e22d5\"\n",
      "  }, \n",
      "  \"json\": null, \n",
      "  \"method\": \"GET\", \n",
      "  \"origin\": \"212.98.168.102\", \n",
      "  \"url\": \"https://httpbin.org/anything\"\n",
      "}\n"
     ]
    }
   ],
   "source": [
    "curl https://httpbin.org/anything"
   ]
  },
  {
   "cell_type": "markdown",
   "id": "2863713f",
   "metadata": {},
   "source": [
    "## Heredoc (<< delimiting_identifier)\n",
    "\n",
    "Using the `<<` symbol followed by a *delimiter identifier*, you can define a multiline string (here document) that will be passed as input to the chosen command. The block of text should be terminated by the same *delimiter identifier*."
   ]
  },
  {
   "cell_type": "markdown",
   "id": "cc3904e5",
   "metadata": {},
   "source": [
    "In the following cell, the `cat` command is passed a multiline expression, which is then printed in the output — this is exactly what the `cat` command does."
   ]
  },
  {
   "cell_type": "code",
   "execution_count": 9,
   "id": "46b7dcb0",
   "metadata": {
    "vscode": {
     "languageId": "shellscript"
    }
   },
   "outputs": [
    {
     "name": "stdout",
     "output_type": "stream",
     "text": [
      "hello\n",
      "my name \n",
      "is fedor\n"
     ]
    }
   ],
   "source": [
    "cat << EOF\n",
    "hello\n",
    "my name \n",
    "is fedor\n",
    "EOF"
   ]
  },
  {
   "cell_type": "markdown",
   "id": "f8323017",
   "metadata": {},
   "source": [
    "To understand better what exactly it does. Anoter example with other delimiting identifier and other command applied to the result. Here we are using `grep` to find line that contains `FIND ME`. Begining and ending of the document is defined by `SSS` combination of the symbols."
   ]
  },
  {
   "cell_type": "code",
   "execution_count": 8,
   "id": "bd192149",
   "metadata": {
    "vscode": {
     "languageId": "shellscript"
    }
   },
   "outputs": [
    {
     "name": "stdout",
     "output_type": "stream",
     "text": [
      "it's great FIND ME that\n"
     ]
    }
   ],
   "source": [
    "grep \"FIND ME\" << SSS\n",
    "this is some line\n",
    "it's great FIND ME that\n",
    "something strange in this line \n",
    "SSS"
   ]
  },
  {
   "cell_type": "markdown",
   "id": "f60df165",
   "metadata": {},
   "source": [
    "## Cron\n",
    "\n",
    "Cron is a utility that allows you to schedule commands in a Linux system. You can manage cron jobs using `crontab`, a special utility that handles the file defining jobs for cron.\n",
    "\n",
    "To set up a cron job, type `crontab -e` to open the editor where you can define jobs using the following syntax:\n",
    "\n",
    "```bash\n",
    "minute hour day month weekday command\n",
    "```\n",
    "\n",
    "Each line represents a new cron job. \n",
    "\n",
    "Find out more at the [particular page](linux/crontab.ipynb)."
   ]
  },
  {
   "cell_type": "markdown",
   "id": "728b4a25",
   "metadata": {},
   "source": [
    "---\n",
    "\n",
    "The following cell shows the default cron schedule for Alpine Linux, allowing you to learn the typical format of a cron schedule."
   ]
  },
  {
   "cell_type": "code",
   "execution_count": 2,
   "id": "13df3cf1",
   "metadata": {
    "vscode": {
     "languageId": "shellscript"
    }
   },
   "outputs": [
    {
     "name": "stdout",
     "output_type": "stream",
     "text": [
      "# do daily/weekly/monthly maintenance\n",
      "# min\thour\tday\tmonth\tweekday\tcommand\n",
      "*/15\t*\t*\t*\t*\trun-parts /etc/periodic/15min\n",
      "0\t*\t*\t*\t*\trun-parts /etc/periodic/hourly\n",
      "0\t2\t*\t*\t*\trun-parts /etc/periodic/daily\n",
      "0\t3\t*\t*\t6\trun-parts /etc/periodic/weekly\n",
      "0\t5\t1\t*\t*\trun-parts /etc/periodic/monthly\n",
      "\n"
     ]
    }
   ],
   "source": [
    "docker run --rm -it alpine crontab -l"
   ]
  }
 ],
 "metadata": {
  "kernelspec": {
   "display_name": "Bash",
   "language": "bash",
   "name": "bash"
  },
  "language_info": {
   "codemirror_mode": "shell",
   "file_extension": ".sh",
   "mimetype": "text/x-sh",
   "name": "bash"
  }
 },
 "nbformat": 4,
 "nbformat_minor": 5
}
