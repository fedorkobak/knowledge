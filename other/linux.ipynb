{
 "cells": [
  {
   "cell_type": "markdown",
   "id": "8438a208-62d8-4e2a-8924-6e197694caf6",
   "metadata": {},
   "source": [
    "# Linux\n",
    "\n",
    "This section is focused in options of using/configuring linux."
   ]
  },
  {
   "cell_type": "markdown",
   "id": "541fa495",
   "metadata": {},
   "source": [
    "## Bash\n",
    "\n",
    "Bash is a shell commonly used in Linux-based operating systems. Mastering Bash allows you to combine results from Linux utilities and create your own, which is a straightforward way to optimize tasks. \n",
    "Find out more on the [specific page](linux/bash.ipynb) or in the [official manual](https://www.gnu.org/software/bash/manual/bash.html)."
   ]
  },
  {
   "cell_type": "markdown",
   "id": "2df0bfca",
   "metadata": {},
   "source": [
    "---\n",
    "\n",
    "The following example shows how to extract raw JSON using the `curl` command, format it nicely with the `jp` tool, and transform it to YAML format using the `yp` tool. To perform all this, we use just two Bash command operators: `|` and `$`."
   ]
  },
  {
   "cell_type": "code",
   "execution_count": 19,
   "id": "84b82d2f",
   "metadata": {
    "vscode": {
     "languageId": "shellscript"
    }
   },
   "outputs": [
    {
     "name": "stdout",
     "output_type": "stream",
     "text": [
      "5d54c061747cf404cb1b6623515f3836d562367470208a9e008c4f7c7f0c2b75\n",
      "\u001b[1;39m{\n",
      "  \u001b[0m\u001b[34;1m\"slideshow\"\u001b[0m\u001b[1;39m: \u001b[0m\u001b[1;39m{\n",
      "    \u001b[0m\u001b[34;1m\"author\"\u001b[0m\u001b[1;39m: \u001b[0m\u001b[0;32m\"Yours Truly\"\u001b[0m\u001b[1;39m,\n",
      "    \u001b[0m\u001b[34;1m\"date\"\u001b[0m\u001b[1;39m: \u001b[0m\u001b[0;32m\"date of publication\"\u001b[0m\u001b[1;39m,\n",
      "    \u001b[0m\u001b[34;1m\"slides\"\u001b[0m\u001b[1;39m: \u001b[0m\u001b[1;39m[\n",
      "      \u001b[1;39m{\n",
      "        \u001b[0m\u001b[34;1m\"title\"\u001b[0m\u001b[1;39m: \u001b[0m\u001b[0;32m\"Wake up to WonderWidgets!\"\u001b[0m\u001b[1;39m,\n",
      "        \u001b[0m\u001b[34;1m\"type\"\u001b[0m\u001b[1;39m: \u001b[0m\u001b[0;32m\"all\"\u001b[0m\u001b[1;39m\n",
      "      \u001b[1;39m}\u001b[0m\u001b[1;39m,\n",
      "      \u001b[1;39m{\n",
      "        \u001b[0m\u001b[34;1m\"items\"\u001b[0m\u001b[1;39m: \u001b[0m\u001b[1;39m[\n",
      "          \u001b[0;32m\"Why <em>WonderWidgets</em> are great\"\u001b[0m\u001b[1;39m,\n",
      "          \u001b[0;32m\"Who <em>buys</em> WonderWidgets\"\u001b[0m\u001b[1;39m\n",
      "        \u001b[1;39m]\u001b[0m\u001b[1;39m,\n",
      "        \u001b[0m\u001b[34;1m\"title\"\u001b[0m\u001b[1;39m: \u001b[0m\u001b[0;32m\"Overview\"\u001b[0m\u001b[1;39m,\n",
      "        \u001b[0m\u001b[34;1m\"type\"\u001b[0m\u001b[1;39m: \u001b[0m\u001b[0;32m\"all\"\u001b[0m\u001b[1;39m\n",
      "      \u001b[1;39m}\u001b[0m\u001b[1;39m\n",
      "    \u001b[1;39m]\u001b[0m\u001b[1;39m,\n",
      "    \u001b[0m\u001b[34;1m\"title\"\u001b[0m\u001b[1;39m: \u001b[0m\u001b[0;32m\"Sample Slide Show\"\u001b[0m\u001b[1;39m\n",
      "  \u001b[1;39m}\u001b[0m\u001b[1;39m\n",
      "\u001b[1;39m}\u001b[0m\n",
      "============================================================\n",
      "\u001b[36mslideshow\u001b[0m:\u001b[36m\u001b[0m\n",
      "\u001b[36m  author\u001b[0m:\u001b[32m Yours Truly\u001b[0m\n",
      "\u001b[32m  \u001b[0m\u001b[36mdate\u001b[0m:\u001b[32m date of publication\u001b[0m\n",
      "\u001b[32m  \u001b[0m\u001b[36mslides\u001b[0m:\n",
      "    -\u001b[36m title\u001b[0m:\u001b[32m Wake up to WonderWidgets!\u001b[0m\n",
      "\u001b[32m      \u001b[0m\u001b[36mtype\u001b[0m:\u001b[32m all\u001b[0m\n",
      "\u001b[32m    \u001b[0m-\u001b[36m items\u001b[0m:\n",
      "        -\u001b[32m Why <em>WonderWidgets</em> are great\u001b[0m\n",
      "\u001b[32m        \u001b[0m-\u001b[32m Who <em>buys</em> WonderWidgets\u001b[0m\n",
      "\u001b[32m      \u001b[0m\u001b[36mtitle\u001b[0m:\u001b[32m Overview\u001b[0m\n",
      "\u001b[32m      \u001b[0m\u001b[36mtype\u001b[0m:\u001b[32m all\u001b[0m\n",
      "\u001b[32m  \u001b[0m\u001b[36mtitle\u001b[0m:\u001b[32m Sample Slide Show\u001b[0m\n",
      "temp_http\n"
     ]
    }
   ],
   "source": [
    "docker run -itd --name temp_http --rm -p 80:80 kennethreitz/httpbin\n",
    "\n",
    "json_output=$(curl -s localhost:80/json)\n",
    "echo $json_output | jq\n",
    "echo \"============================================================\"\n",
    "echo \"$json_output\" | jq '.' | yq -P\n",
    "\n",
    "docker stop temp_http"
   ]
  },
  {
   "cell_type": "markdown",
   "id": "42a3a855-cafb-41de-a10b-fcbf2a830985",
   "metadata": {},
   "source": [
    "## Tiny commands\n",
    "\n",
    "There are some commands that are really primitive to use. They literally have 1-3 options. It doesn't make sense to have a separate section for all such commands, so we'll cover them all in this section."
   ]
  },
  {
   "cell_type": "markdown",
   "id": "6789ee11-8ff5-4303-b814-137bdb6c1fe8",
   "metadata": {},
   "source": [
    "Print the number of processing units available to the current process, which may be less than the number of online processors."
   ]
  },
  {
   "cell_type": "code",
   "execution_count": 1,
   "id": "ffd6879a-04d0-46bb-a44b-3e499299a3e7",
   "metadata": {
    "vscode": {
     "languageId": "shellscript"
    }
   },
   "outputs": [
    {
     "name": "stdout",
     "output_type": "stream",
     "text": [
      "32\n"
     ]
    }
   ],
   "source": [
    "nproc"
   ]
  },
  {
   "cell_type": "markdown",
   "id": "9d75418e-d890-4adb-901c-345b07cee008",
   "metadata": {},
   "source": [
    "Print how long system have been running."
   ]
  },
  {
   "cell_type": "code",
   "execution_count": 2,
   "id": "0aa4f1ce-77df-4463-a8cd-66f6dc96c882",
   "metadata": {
    "vscode": {
     "languageId": "shellscript"
    }
   },
   "outputs": [
    {
     "name": "stdout",
     "output_type": "stream",
     "text": [
      " 16:29:57 up  3:13,  1 user,  load average: 1,13, 1,39, 1,19\n"
     ]
    }
   ],
   "source": [
    "uptime"
   ]
  },
  {
   "cell_type": "markdown",
   "id": "2f904647-db07-4309-9359-9bfdc0d71d64",
   "metadata": {},
   "source": [
    "Shows or sets the system's hostname."
   ]
  },
  {
   "cell_type": "code",
   "execution_count": 3,
   "id": "f0ca7629-1b3b-466f-b397-751f64e55ed8",
   "metadata": {
    "vscode": {
     "languageId": "shellscript"
    }
   },
   "outputs": [
    {
     "name": "stdout",
     "output_type": "stream",
     "text": [
      "MBD843AE246AC7\n"
     ]
    }
   ],
   "source": [
    "hostname"
   ]
  },
  {
   "cell_type": "markdown",
   "id": "e973985f-5896-478b-b97a-0b4912b940c3",
   "metadata": {},
   "source": [
    "Print working directory."
   ]
  },
  {
   "cell_type": "code",
   "execution_count": 4,
   "id": "9e8a8f91-18d5-4557-8e2f-53cf95c8d061",
   "metadata": {
    "vscode": {
     "languageId": "shellscript"
    }
   },
   "outputs": [
    {
     "name": "stdout",
     "output_type": "stream",
     "text": [
      "/home/f.kobak@maxbit.local/Documents/knowledge/other\n"
     ]
    }
   ],
   "source": [
    "pwd"
   ]
  },
  {
   "cell_type": "markdown",
   "id": "3900f25c-94d1-4f94-b38c-b751b3f09f7f",
   "metadata": {},
   "source": [
    "Pause the execution flow for a certain amount of time. The following example shows that the second execution of `uptime` is delayed by `sleep` when compared to the first execution of `uptime`."
   ]
  },
  {
   "cell_type": "code",
   "execution_count": 5,
   "id": "402959f3-6cae-4252-a664-04c5eb3d987a",
   "metadata": {
    "vscode": {
     "languageId": "shellscript"
    }
   },
   "outputs": [
    {
     "name": "stdout",
     "output_type": "stream",
     "text": [
      "bash: fg: %%bash: no such job\n",
      " 16:29:59 up  3:13,  1 user,  load average: 1,04, 1,37, 1,18\n",
      " 16:30:02 up  3:13,  1 user,  load average: 1,04, 1,37, 1,18\n"
     ]
    }
   ],
   "source": [
    "%%bash\n",
    "uptime\n",
    "sleep 3\n",
    "uptime"
   ]
  },
  {
   "cell_type": "markdown",
   "id": "6614d1b3",
   "metadata": {},
   "source": [
    "## Variables\n",
    "\n",
    "You can define variables in the current shell session using the syntax `<variable_name>=<value>`. To access a variable, use the syntax `$variable_name`. These variables will be substituted in the current command.\n",
    "\n",
    "There is a special type of variable widely used in practice — environment variables. **Environment variables** are variables inherited by nested shells. The environment passed to any executed command includes the shell’s initial environment. Use the syntax `export <variable_name>=<value>` to set an environment variable.\n",
    "\n",
    "Check:\n",
    "\n",
    "- [Particular page](linux/variables.ipynb) on this website.\n",
    "- [Environmennt](https://www.gnu.org/software/bash/manual/html_node/Environment.html) desciription on bash documentation."
   ]
  },
  {
   "cell_type": "markdown",
   "id": "316a3781",
   "metadata": {},
   "source": [
    "---\n",
    "\n",
    "The following code demonstrates defining a variable and substituting its value into the `echo` command."
   ]
  },
  {
   "cell_type": "code",
   "execution_count": 1,
   "id": "59199107",
   "metadata": {
    "vscode": {
     "languageId": "shellscript"
    }
   },
   "outputs": [
    {
     "name": "stdout",
     "output_type": "stream",
     "text": [
      "10\n"
     ]
    }
   ],
   "source": [
    "MY_VAR=10\n",
    "echo $MY_VAR"
   ]
  },
  {
   "cell_type": "markdown",
   "id": "46622926",
   "metadata": {},
   "source": [
    "The following cell defines an environment variable and a regular variable, then attempts to access both from a nested `bash` shell:"
   ]
  },
  {
   "cell_type": "code",
   "execution_count": 6,
   "id": "bbe9648c",
   "metadata": {
    "vscode": {
     "languageId": "shellscript"
    }
   },
   "outputs": [
    {
     "name": "stdout",
     "output_type": "stream",
     "text": [
      " environment\n"
     ]
    }
   ],
   "source": [
    "export env_var=\"environment\"\n",
    "just_var=\"local\"\n",
    "\n",
    "bash -c \"echo \\\"\\$just_var \\$env_var\\\"\""
   ]
  },
  {
   "cell_type": "markdown",
   "id": "6f42be6c",
   "metadata": {},
   "source": [
    "As a result, only the value for the environment variable exists in the nested shell."
   ]
  },
  {
   "cell_type": "markdown",
   "id": "f45f7533",
   "metadata": {},
   "source": [
    "## List contents (ls)\n",
    "\n",
    "`ls` command that allows to show files/directories in the folder."
   ]
  },
  {
   "cell_type": "markdown",
   "id": "d58a27b9",
   "metadata": {},
   "source": [
    "The following python code creates some random files and folders - so we can see what they look like in the output of the `ls` command."
   ]
  },
  {
   "cell_type": "code",
   "execution_count": 6,
   "id": "f3f62580",
   "metadata": {
    "vscode": {
     "languageId": "shellscript"
    }
   },
   "outputs": [],
   "source": [
    "import os\n",
    "import random\n",
    "import string\n",
    "\n",
    "def random_name(length=8):\n",
    "    'Function to create a random file/directory name'\n",
    "    letters = string.ascii_lowercase\n",
    "    return ''.join(random.choice(letters) for i in range(length))\n",
    "\n",
    "experimental_path = \"linux_files/ls\"\n",
    "os.mkdir(experimental_path)\n",
    "\n",
    "for i in range(10):\n",
    "    new_path = experimental_path + \"/\" + random_name()\n",
    "    if random.choice([True, False]):\n",
    "        os.mkdir(new_path)\n",
    "    else:\n",
    "        with open(new_path, \"w\") as f:\n",
    "            f.write(\"some content\")"
   ]
  },
  {
   "cell_type": "markdown",
   "id": "bbe04b4c",
   "metadata": {},
   "source": [
    "Just by using the `ls` command, we'll get some files/folders listed in random order. But we can't tell which of them are directories and which are files, their creation dates, the user who created them, and so on."
   ]
  },
  {
   "cell_type": "code",
   "execution_count": 7,
   "id": "1eff638b",
   "metadata": {
    "vscode": {
     "languageId": "shellscript"
    }
   },
   "outputs": [
    {
     "name": "stdout",
     "output_type": "stream",
     "text": [
      "clctvira  kmloyjbo  notogjkx  nyxxrzni\trxmzznlq\n",
      "itklpuxw  mojhtfqq  nvqttwne  rgnmwfrt\tzoiqrlne\n"
     ]
    }
   ],
   "source": [
    "!ls linux_files/ls"
   ]
  },
  {
   "cell_type": "markdown",
   "id": "9c232ae7",
   "metadata": {},
   "source": [
    "When using the `ls -l` command, you receive additional information in a detailed, table-like format. The columns provide the following details:\n",
    "\n",
    "- Line that indicates whether the item is a directory, along with its permissions.\n",
    "- Number of links to the item.\n",
    "- The third and fourth columns are the user who owns the file and the Unix group of users to which the file belongs.\n",
    "- Size of item in bytes.\n",
    "- Time at which item was changed.\n",
    "- And last column is the name of the item."
   ]
  },
  {
   "cell_type": "code",
   "execution_count": 8,
   "id": "89636b84",
   "metadata": {
    "vscode": {
     "languageId": "shellscript"
    }
   },
   "outputs": [
    {
     "name": "stdout",
     "output_type": "stream",
     "text": [
      "total 40\n",
      "drwxr-xr-x 2 f.kobak@maxbit.local domain users@maxbit.local 4096 ліп 12 17:16 clctvira\n",
      "drwxr-xr-x 2 f.kobak@maxbit.local domain users@maxbit.local 4096 ліп 12 17:16 itklpuxw\n",
      "-rw-r--r-- 1 f.kobak@maxbit.local domain users@maxbit.local   12 ліп 12 17:16 kmloyjbo\n",
      "drwxr-xr-x 2 f.kobak@maxbit.local domain users@maxbit.local 4096 ліп 12 17:16 mojhtfqq\n",
      "drwxr-xr-x 2 f.kobak@maxbit.local domain users@maxbit.local 4096 ліп 12 17:16 notogjkx\n",
      "drwxr-xr-x 2 f.kobak@maxbit.local domain users@maxbit.local 4096 ліп 12 17:16 nvqttwne\n",
      "-rw-r--r-- 1 f.kobak@maxbit.local domain users@maxbit.local   12 ліп 12 17:16 nyxxrzni\n",
      "-rw-r--r-- 1 f.kobak@maxbit.local domain users@maxbit.local   12 ліп 12 17:16 rgnmwfrt\n",
      "-rw-r--r-- 1 f.kobak@maxbit.local domain users@maxbit.local   12 ліп 12 17:16 rxmzznlq\n",
      "drwxr-xr-x 2 f.kobak@maxbit.local domain users@maxbit.local 4096 ліп 12 17:16 zoiqrlne\n"
     ]
    }
   ],
   "source": [
    "!ls linux_files/ls -l"
   ]
  },
  {
   "cell_type": "markdown",
   "id": "858322ad",
   "metadata": {},
   "source": [
    "**Note** to keep your system clean, don't forget to get rid of temporary directories and files."
   ]
  },
  {
   "cell_type": "code",
   "execution_count": 9,
   "id": "4ba19eff",
   "metadata": {
    "vscode": {
     "languageId": "shellscript"
    }
   },
   "outputs": [],
   "source": [
    "!rm -r linux_files/ls"
   ]
  },
  {
   "cell_type": "markdown",
   "id": "180f3489-4e89-4e8e-9fb9-f4ef3896454a",
   "metadata": {},
   "source": [
    "## Find\n",
    "\n",
    "Linux `find` command allows you to search for files in the system. It have following syntax `find <directory-to-search> <criteria> <action>` where:\n",
    "\n",
    "- `<directory-to-search>`: Specifies the directory where you want to begin the search.\n",
    "- `<criteria>`: Defines the properties of the files you are searching for. This can include the file name, size, modification date, permissions, and more.\n",
    "- `<action>`: Specifies what to do with the found files. By default, it prints the path to the files, but it can also execute other commands on them."
   ]
  },
  {
   "cell_type": "markdown",
   "id": "10d94cd4-80ee-4c95-88b9-9d85ee2ad6cf",
   "metadata": {},
   "source": [
    "The following Python code creates a random tree of foldres and puts `text.txt` in the random place."
   ]
  },
  {
   "cell_type": "code",
   "execution_count": 10,
   "id": "a7a4aa50-d540-44ce-8732-43d7f48d7a90",
   "metadata": {
    "vscode": {
     "languageId": "shellscript"
    }
   },
   "outputs": [],
   "source": [
    "import os\n",
    "import random\n",
    "import string\n",
    "\n",
    "def random_directory_name(length=8):\n",
    "    'Function to create a random directory name'\n",
    "    letters = string.ascii_lowercase\n",
    "    return ''.join(random.choice(letters) for i in range(length))\n",
    "\n",
    "os.mkdir(\"linux_files/find\")\n",
    "folders = [\"linux_files/find\"]\n",
    "\n",
    "for i in range(10):\n",
    "    fold = random.choice(folders)\n",
    "    new_dir = fold + \"/\" + random_directory_name()\n",
    "    os.mkdir(new_dir)\n",
    "    folders.append(new_dir)\n",
    "\n",
    "with open(random.choice(folders) + \"/\" + \"text.txt\", \"w\") as f:\n",
    "    f.write(\"Message to aliens\")"
   ]
  },
  {
   "cell_type": "markdown",
   "id": "5b83a977-ea08-4308-93a8-565cae32b70f",
   "metadata": {},
   "source": [
    "As a result, we have the following file tree."
   ]
  },
  {
   "cell_type": "code",
   "execution_count": 11,
   "id": "7438598a-3525-4d31-a23c-9ba733fba16b",
   "metadata": {
    "vscode": {
     "languageId": "shellscript"
    }
   },
   "outputs": [
    {
     "name": "stdout",
     "output_type": "stream",
     "text": [
      "\u001b[01;34mlinux_files/find\u001b[0m\n",
      "└── \u001b[01;34mgptiiiab\u001b[0m\n",
      "    ├── \u001b[01;34miipubngm\u001b[0m\n",
      "    ├── \u001b[01;34mngvixpsi\u001b[0m\n",
      "    ├── \u001b[01;34mpluqbiln\u001b[0m\n",
      "    └── \u001b[01;34myfjphojg\u001b[0m\n",
      "        ├── \u001b[01;34mbosqqrcn\u001b[0m\n",
      "        ├── \u001b[01;34mfopmjtfu\u001b[0m\n",
      "        └── \u001b[01;34mrctkvqsm\u001b[0m\n",
      "            └── \u001b[01;34mkegxfokz\u001b[0m\n",
      "                ├── \u001b[00mtext.txt\u001b[0m\n",
      "                └── \u001b[01;34mxsvcplwo\u001b[0m\n",
      "\n",
      "10 directories, 1 file\n"
     ]
    }
   ],
   "source": [
    "!tree linux_files/find"
   ]
  },
  {
   "cell_type": "markdown",
   "id": "7cbe08b8-3e68-4590-9a47-1b3d1a242b07",
   "metadata": {},
   "source": [
    "And we can get the full path for `text.txt` by using construction `--name text.txt` as criteria."
   ]
  },
  {
   "cell_type": "code",
   "execution_count": 12,
   "id": "30a49823-6db6-4af5-9957-579f547c39f0",
   "metadata": {
    "vscode": {
     "languageId": "shellscript"
    }
   },
   "outputs": [
    {
     "name": "stdout",
     "output_type": "stream",
     "text": [
      "linux_files/find/gptiiiab/yfjphojg/rctkvqsm/kegxfokz/text.txt\n"
     ]
    }
   ],
   "source": [
    "%%bash\n",
    "find linux_files/find -name text.txt\n",
    "rm -r linux_files/find"
   ]
  },
  {
   "cell_type": "markdown",
   "id": "bca2b37c",
   "metadata": {},
   "source": [
    "## Disk usage (du)\n",
    "\n",
    "The `du` command is used to check disk usage by different paths in the filesystem. It provides information about how much space is being used by files and directories."
   ]
  },
  {
   "cell_type": "markdown",
   "id": "a2b14277",
   "metadata": {},
   "source": [
    "---\n",
    "\n",
    "The following cell creates several folders and files. Notably, `linux/du_example/megabytes_file` is created with a size of exactly 2.5 megabytes, whereas `linux/du_example/folder/small_file` contains only a single short line, making it an extremely small file."
   ]
  },
  {
   "cell_type": "code",
   "execution_count": 22,
   "id": "21719316",
   "metadata": {
    "vscode": {
     "languageId": "shellscript"
    }
   },
   "outputs": [],
   "source": [
    "mkdir linux/du_example\n",
    "mkdir linux/du_example/folder\n",
    "\n",
    "dd if=/dev/zero of=linux/du_example/megabutes_file bs=1M count=2 &> /dev/null\n",
    "dd if=/dev/zero of=linux/du_example/megabutes_file bs=512K count=1 oflag=append conv=notrunc &>/dev/null\n",
    "\n",
    "echo \"this is short message\" >> linux/du_example/folder/small_file"
   ]
  },
  {
   "cell_type": "markdown",
   "id": "49c6d119",
   "metadata": {},
   "source": [
    "Now let's try the `du` command. The following options are also added:\n",
    "\n",
    "- `a`: prints both files and folders.\n",
    "- `h`: displays file sizes in a human-readable format.\n",
    "\n",
    "These options are really useful in my opinion."
   ]
  },
  {
   "cell_type": "code",
   "execution_count": 26,
   "id": "e03deb35",
   "metadata": {
    "vscode": {
     "languageId": "shellscript"
    }
   },
   "outputs": [
    {
     "name": "stdout",
     "output_type": "stream",
     "text": [
      "2,5M\tlinux/du_example/megabutes_file\n",
      "4,0K\tlinux/du_example/folder/small_file\n",
      "8,0K\tlinux/du_example/folder\n",
      "2,6M\tlinux/du_example/\n"
     ]
    }
   ],
   "source": [
    "du -ah linux/du_example/"
   ]
  },
  {
   "cell_type": "markdown",
   "id": "636ac62f",
   "metadata": {},
   "source": [
    "After all don't forget foder that was used for experiments."
   ]
  },
  {
   "cell_type": "code",
   "execution_count": 27,
   "id": "6a5164c0",
   "metadata": {
    "vscode": {
     "languageId": "shellscript"
    }
   },
   "outputs": [],
   "source": [
    "rm -r linux/du_example"
   ]
  },
  {
   "cell_type": "markdown",
   "id": "fdbc3a78-ed94-48f5-bf3b-7ff35920bb9a",
   "metadata": {},
   "source": [
    "## Process status (ps)\n",
    "\n",
    "The `ps` (process status) command in Linux is used to display information about active system processes. By default, it provides an output table where each row represents a process and the columns include:\n",
    "\n",
    "- `PID` the unique process identifier.\n",
    "- `TTY` the terminal associated with the process.\n",
    "- `TIME` the cumulative CPU time used by the process.\n",
    "- `CMD` the command that initiated the process."
   ]
  },
  {
   "cell_type": "markdown",
   "id": "f71821de-be46-46be-9ff4-344da2a1deed",
   "metadata": {},
   "source": [
    "The following example shows the output of the ps command."
   ]
  },
  {
   "cell_type": "code",
   "execution_count": 13,
   "id": "ee5ce4aa-d59d-42a4-9bab-a655b8a4fcaf",
   "metadata": {
    "vscode": {
     "languageId": "shellscript"
    }
   },
   "outputs": [
    {
     "name": "stdout",
     "output_type": "stream",
     "text": [
      "    PID TTY          TIME CMD\n",
      " 213863 pts/2    00:00:00 ps\n"
     ]
    }
   ],
   "source": [
    "!ps"
   ]
  },
  {
   "cell_type": "markdown",
   "id": "795effbb-61ab-4ac3-a8e7-f8336d55d67e",
   "metadata": {},
   "source": [
    "To print all processes in the system, use the `-e` option, which prints all processes in the system."
   ]
  },
  {
   "cell_type": "markdown",
   "id": "0d577b92-ba36-4f1b-a3e1-f07f63892c57",
   "metadata": {},
   "source": [
    "The following cell shows the result of `ps -e`. Only the first 10 rows have been printed, because it could take a long time for the computer to process them."
   ]
  },
  {
   "cell_type": "code",
   "execution_count": 14,
   "id": "3b66e789-b110-44b8-94ea-ed2dc575f0fe",
   "metadata": {
    "vscode": {
     "languageId": "shellscript"
    }
   },
   "outputs": [
    {
     "name": "stdout",
     "output_type": "stream",
     "text": [
      "    PID TTY          TIME CMD\n",
      "      1 ?        00:00:05 systemd\n",
      "      2 ?        00:00:00 kthreadd\n",
      "      3 ?        00:00:00 rcu_gp\n",
      "      4 ?        00:00:00 rcu_par_gp\n",
      "      5 ?        00:00:00 slub_flushwq\n",
      "      6 ?        00:00:00 netns\n",
      "     11 ?        00:00:00 mm_percpu_wq\n",
      "     12 ?        00:00:00 rcu_tasks_kthread\n",
      "     13 ?        00:00:00 rcu_tasks_rude_kthread\n"
     ]
    }
   ],
   "source": [
    "!ps -e | head -n 10"
   ]
  },
  {
   "cell_type": "markdown",
   "id": "ba20ceb3-0880-4278-b303-379dfda81d2c",
   "metadata": {},
   "source": [
    "## System limits (ulimit)\n",
    "\n",
    "The `ulimit` Linux utility allows you to view and set user-level resource limits. It provides options for each type of limit, enabling you to control various aspects of system resource usage. To display all available limits, use the `-a` option."
   ]
  },
  {
   "cell_type": "code",
   "execution_count": 15,
   "id": "1f235ffd-2c19-459c-818b-e49f32f86e58",
   "metadata": {
    "vscode": {
     "languageId": "shellscript"
    }
   },
   "outputs": [
    {
     "name": "stdout",
     "output_type": "stream",
     "text": [
      "real-time non-blocking time  (microseconds, -R) unlimited\n",
      "core file size              (blocks, -c) 0\n",
      "data seg size               (kbytes, -d) unlimited\n",
      "scheduling priority                 (-e) 0\n",
      "file size                   (blocks, -f) unlimited\n",
      "pending signals                     (-i) 126734\n",
      "max locked memory           (kbytes, -l) 4065160\n",
      "max memory size             (kbytes, -m) unlimited\n",
      "open files                          (-n) 1048576\n",
      "pipe size                (512 bytes, -p) 8\n",
      "POSIX message queues         (bytes, -q) 819200\n",
      "real-time priority                  (-r) 0\n",
      "stack size                  (kbytes, -s) 8192\n",
      "cpu time                   (seconds, -t) unlimited\n",
      "max user processes                  (-u) 126734\n",
      "virtual memory              (kbytes, -v) unlimited\n",
      "file locks                          (-x) unlimited\n"
     ]
    }
   ],
   "source": [
    "!ulimit -a"
   ]
  },
  {
   "cell_type": "markdown",
   "id": "a5478b46",
   "metadata": {},
   "source": [
    "## Curl"
   ]
  },
  {
   "cell_type": "markdown",
   "id": "41a649de",
   "metadata": {
    "vscode": {
     "languageId": "shellscript"
    }
   },
   "source": [
    "`curl` is a command-line tool for transferring data using various network protocols. In Linux, it’s commonly used to interact with web servers.\n",
    "\n",
    "Find out more in the [specific page](linux/curl.ipynb)."
   ]
  },
  {
   "cell_type": "markdown",
   "id": "e0fc8bc8",
   "metadata": {},
   "source": [
    "---\n",
    "\n",
    "Here is an example of a request to the remote server using curl."
   ]
  },
  {
   "cell_type": "code",
   "execution_count": 2,
   "id": "000cd6e8",
   "metadata": {
    "vscode": {
     "languageId": "shellscript"
    }
   },
   "outputs": [
    {
     "name": "stdout",
     "output_type": "stream",
     "text": [
      "{\n",
      "  \"args\": {}, \n",
      "  \"data\": \"\", \n",
      "  \"files\": {}, \n",
      "  \"form\": {}, \n",
      "  \"headers\": {\n",
      "    \"Accept\": \"*/*\", \n",
      "    \"Host\": \"httpbin.org\", \n",
      "    \"User-Agent\": \"curl/7.81.0\", \n",
      "    \"X-Amzn-Trace-Id\": \"Root=1-66a891dd-4956ac101aa26bcc365e22d5\"\n",
      "  }, \n",
      "  \"json\": null, \n",
      "  \"method\": \"GET\", \n",
      "  \"origin\": \"212.98.168.102\", \n",
      "  \"url\": \"https://httpbin.org/anything\"\n",
      "}\n"
     ]
    }
   ],
   "source": [
    "curl https://httpbin.org/anything"
   ]
  },
  {
   "cell_type": "markdown",
   "id": "2863713f",
   "metadata": {},
   "source": [
    "## Heredoc (<< delimiting_identifier)\n",
    "\n",
    "Using the `<<` symbol followed by a *delimiter identifier*, you can define a multiline string (here document) that will be passed as input to the chosen command. The block of text should be terminated by the same *delimiter identifier*."
   ]
  },
  {
   "cell_type": "markdown",
   "id": "cc3904e5",
   "metadata": {},
   "source": [
    "In the following cell, the `cat` command is passed a multiline expression, which is then printed in the output — this is exactly what the `cat` command does."
   ]
  },
  {
   "cell_type": "code",
   "execution_count": 9,
   "id": "46b7dcb0",
   "metadata": {
    "vscode": {
     "languageId": "shellscript"
    }
   },
   "outputs": [
    {
     "name": "stdout",
     "output_type": "stream",
     "text": [
      "hello\n",
      "my name \n",
      "is fedor\n"
     ]
    }
   ],
   "source": [
    "cat << EOF\n",
    "hello\n",
    "my name \n",
    "is fedor\n",
    "EOF"
   ]
  },
  {
   "cell_type": "markdown",
   "id": "f8323017",
   "metadata": {},
   "source": [
    "To understand better what exactly it does. Anoter example with other delimiting identifier and other command applied to the result. Here we are using `grep` to find line that contains `FIND ME`. Begining and ending of the document is defined by `SSS` combination of the symbols."
   ]
  },
  {
   "cell_type": "code",
   "execution_count": 8,
   "id": "bd192149",
   "metadata": {
    "vscode": {
     "languageId": "shellscript"
    }
   },
   "outputs": [
    {
     "name": "stdout",
     "output_type": "stream",
     "text": [
      "it's great FIND ME that\n"
     ]
    }
   ],
   "source": [
    "grep \"FIND ME\" << SSS\n",
    "this is some line\n",
    "it's great FIND ME that\n",
    "something strange in this line \n",
    "SSS"
   ]
  },
  {
   "cell_type": "markdown",
   "id": "f60df165",
   "metadata": {},
   "source": [
    "## Cron\n",
    "\n",
    "Cron is a utility that allows you to schedule commands in a Linux system. You can manage cron jobs using `crontab`, a special utility that handles the file defining jobs for cron.\n",
    "\n",
    "To set up a cron job, type `crontab -e` to open the editor where you can define jobs using the following syntax:\n",
    "\n",
    "```bash\n",
    "minute hour day month weekday command\n",
    "```\n",
    "\n",
    "Each line represents a new cron job. \n",
    "\n",
    "Find out more at the [particular page](linux/crontab.ipynb)."
   ]
  },
  {
   "cell_type": "markdown",
   "id": "728b4a25",
   "metadata": {},
   "source": [
    "---\n",
    "\n",
    "The following cell shows the default cron schedule for Alpine Linux, allowing you to learn the typical format of a cron schedule."
   ]
  },
  {
   "cell_type": "code",
   "execution_count": 2,
   "id": "13df3cf1",
   "metadata": {
    "vscode": {
     "languageId": "shellscript"
    }
   },
   "outputs": [
    {
     "name": "stdout",
     "output_type": "stream",
     "text": [
      "# do daily/weekly/monthly maintenance\n",
      "# min\thour\tday\tmonth\tweekday\tcommand\n",
      "*/15\t*\t*\t*\t*\trun-parts /etc/periodic/15min\n",
      "0\t*\t*\t*\t*\trun-parts /etc/periodic/hourly\n",
      "0\t2\t*\t*\t*\trun-parts /etc/periodic/daily\n",
      "0\t3\t*\t*\t6\trun-parts /etc/periodic/weekly\n",
      "0\t5\t1\t*\t*\trun-parts /etc/periodic/monthly\n",
      "\n"
     ]
    }
   ],
   "source": [
    "docker run --rm -it alpine crontab -l"
   ]
  }
 ],
 "metadata": {
  "kernelspec": {
   "display_name": "Bash",
   "language": "bash",
   "name": "bash"
  },
  "language_info": {
   "codemirror_mode": "shell",
   "file_extension": ".sh",
   "mimetype": "text/x-sh",
   "name": "bash"
  }
 },
 "nbformat": 4,
 "nbformat_minor": 5
}
