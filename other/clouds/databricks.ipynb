{
 "cells": [
  {
   "cell_type": "markdown",
   "id": "1a585528",
   "metadata": {},
   "source": [
    "# Databricks\n",
    "\n",
    "Databricks is a platform for manipulating data and data related processes: analitics and ML."
   ]
  },
  {
   "cell_type": "markdown",
   "id": "413304ad",
   "metadata": {},
   "source": [
    "## Feature store\n",
    "\n",
    "You can manipulate the feature store using the databricks Python SDK, module: `databricks.feature_engineering`. This is not provided with the Databricks Python SDK out of the box - install the separatre [PyPI published package](https://pypi.org/project/databricks-feature-engineering/).\n",
    "\n",
    "Create the feature store with code:\n",
    "\n",
    "```python\n",
    "from databricks.feature_engineering import FeatureEngineeringClient\n",
    "fe = FeatureEngineeringClient()\n",
    "\n",
    "fe.create_table(\n",
    "    name=\"<catalog>.<schema>.<table name>\",\n",
    "    primary_keys=[\"<primary key 1>\", \"<primary key2>\"],\n",
    "    df=data,\n",
    "    description=\"This is some sort of description\",\n",
    "    tags={\"source\": \"bronze\", \"format\": \"delta\"}\n",
    ")\n",
    "```"
   ]
  },
  {
   "cell_type": "markdown",
   "id": "b637096b",
   "metadata": {
    "vscode": {
     "languageId": "plaintext"
    }
   },
   "source": [
    "## Jobs&Workflows\n",
    "\n",
    "Jobs and workflows allows to orchestrate tasks, wich are pieces of code that perform actions on the platform, and build relationships between them.\n",
    "\n",
    "The following table lists teh ways you can define the databricks tasks.\n",
    "\n",
    "| Task Type | Description | Primary Use Case |\n",
    "| :--- | :--- | :--- |\n",
    "| **Notebook Task** | Runs a Databricks notebook written in Python, Scala, SQL, or R. | Executing interactive code, ETL logic, or ML training pipelines. |\n",
    "| **Pipeline Task** | Runs a specified Delta Live Tables (DLT) pipeline. | Orchestrating end-to-end declarative ETL/streaming data pipelines. |\n",
    "| **SQL File Task** | Executes a SQL script file stored in the workspace or a Git repository. | Running complex SQL transformations, DDL, or DML statements. |\n",
    "| **Python Script Task** | Executes a Python file on the cluster using `spark-submit`. | Running standard Python code, often with Spark (PySpark) libraries. |\n",
    "| **Python Wheel Task** | Runs a Python function packaged within a Python Wheel (`.whl`) file. | Running production-grade, modular, and version-controlled Python code. |\n",
    "| **JAR Task** | Executes a compiled Java or Scala application packaged as a JAR file. | Running compiled, production-ready code, typically for complex logic. |\n",
    "| **Spark-Submit Task** | Allows submission of a generic Spark application via the `spark-submit` command. | Running custom or highly specialized Spark applications. |\n",
    "| **dbt Task** | Runs one or more `dbt` (data build tool) commands. | Orchestrating and running dbt projects for data transformation. |\n",
    "| **Run Job Task** | Executes another Databricks Job as a task. | Creating nested, modular, or reusable workflows (Parent-Child jobs). |\n",
    "| **If/Else Condition Task**| Evaluates a condition and controls the execution flow of subsequent tasks. | Adding conditional logic (branching) to a workflow. |\n",
    "| **For Each Task** | Iterates over a collection of input values and runs a nested task for each value. | Parallel processing or batch operations over a list of items. |\n",
    "| **Dashboard Task** | Updates a Databricks SQL Dashboard. | Automating the refresh of business intelligence dashboards. |\n"
   ]
  },
  {
   "cell_type": "markdown",
   "id": "ccd71220",
   "metadata": {},
   "source": [
    "### Tasks communication\n",
    "\n",
    "To communicate between tasks you can set and read \"tasks values\".\n",
    "\n",
    "In python code use for that [dbutils.jobs.tasksValue](https://docs.databricks.com/aws/en/dev-tools/databricks-utils#taskvalues-subutility-dbutilsjobstaskvalues):\n",
    "\n",
    "- `dbutils.jobs.taskValues.set(key=\"<key>\", value=\"<value>\")` for setting a value.\n",
    "- `dbutils.jobs.taskValues.get(taskKey=\"<name of the previous task>\", key='key_from_script')` for reading the value."
   ]
  }
 ],
 "metadata": {
  "language_info": {
   "name": "python"
  }
 },
 "nbformat": 4,
 "nbformat_minor": 5
}
