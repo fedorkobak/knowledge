{
 "cells": [
  {
   "cell_type": "markdown",
   "id": "587c0811",
   "metadata": {},
   "source": [
    "# Elastic search\n",
    "\n",
    "Elasticsearch is a distributed search and analitycs engine. You can add documents, and perform analitycs over them.\n",
    "\n",
    "For more details check:\n",
    "\n",
    "- [Try Elasticsearch and Kibana](https://github.com/elastic/start-local?tab=readme-ov-file#-try-elasticsearch-and-kibana-locally): for guide on local deployment using docker or k8s.\n",
    "- [Elasticsearch labs](https://github.com/elastic/elasticsearch-labs): for projects that use Elasticsearch and notebooks with code snippets."
   ]
  },
  {
   "cell_type": "markdown",
   "id": "0dfe2721",
   "metadata": {},
   "source": [
    "## Connection\n",
    "\n",
    "Elasticsearch is designed to be run as a separate service. For local installation, check out [try Elasticsesarch and Kibana](https://github.com/elastic/start-local?tab=readme-ov-file#-try-elasticsearch-and-kibana-locally).\n",
    "\n",
    "**Note:** don't forget to set: `ELASTICSEARCH_USER=elastic` and `ELASTICSEARCH_PASSWORD=elastic` environment variables before starting the service.\n",
    "\n",
    "An instance of the `Elasticsearch` class represents a connection Elasticsearch."
   ]
  },
  {
   "cell_type": "markdown",
   "id": "938e5af9",
   "metadata": {},
   "source": [
    "---\n",
    "\n",
    "The following cell shows the connection to elasticsearch."
   ]
  },
  {
   "cell_type": "code",
   "execution_count": 9,
   "id": "928c8117",
   "metadata": {},
   "outputs": [
    {
     "data": {
      "text/plain": [
       "<Elasticsearch(['http://localhost:9200'])>"
      ]
     },
     "execution_count": 9,
     "metadata": {},
     "output_type": "execute_result"
    }
   ],
   "source": [
    "from elasticsearch import Elasticsearch\n",
    "es = Elasticsearch(\n",
    "    hosts=[\"http://localhost:9200\"],\n",
    "    basic_auth=(\"elastic\", \"elastic\")\n",
    ")\n",
    "es"
   ]
  }
 ],
 "metadata": {
  "kernelspec": {
   "display_name": "knowledge",
   "language": "python",
   "name": "python3"
  },
  "language_info": {
   "codemirror_mode": {
    "name": "ipython",
    "version": 3
   },
   "file_extension": ".py",
   "mimetype": "text/x-python",
   "name": "python",
   "nbconvert_exporter": "python",
   "pygments_lexer": "ipython3",
   "version": "3.13.7"
  }
 },
 "nbformat": 4,
 "nbformat_minor": 5
}
