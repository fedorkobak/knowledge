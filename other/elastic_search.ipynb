{
 "cells": [
  {
   "cell_type": "markdown",
   "id": "587c0811",
   "metadata": {},
   "source": [
    "# Elastic search\n",
    "\n",
    "Elasticsearch is a distributed search and analitycs engine. You can add documents, and perform analitycs over them.\n",
    "\n",
    "For more details check:\n",
    "\n",
    "- [Try Elasticsearch and Kibana](https://github.com/elastic/start-local?tab=readme-ov-file#-try-elasticsearch-and-kibana-locally): for guide on local deployment using docker or k8s.\n",
    "- [Elasticsearch labs](https://github.com/elastic/elasticsearch-labs): for projects that use Elasticsearch and notebooks with code snippets."
   ]
  },
  {
   "cell_type": "markdown",
   "id": "0dfe2721",
   "metadata": {},
   "source": [
    "## Connection\n",
    "\n",
    "Elasticsearch is designed to be run as a separate service. For local installation, check out [try Elasticsesarch and Kibana](https://github.com/elastic/start-local?tab=readme-ov-file#-try-elasticsearch-and-kibana-locally).\n",
    "\n",
    "**Note:** don't forget to set: `ELASTICSEARCH_USER=elastic` and `ELASTICSEARCH_PASSWORD=elastic` environment variables before starting the service.\n",
    "\n",
    "An instance of the `Elasticsearch` class represents a connection Elasticsearch."
   ]
  },
  {
   "cell_type": "markdown",
   "id": "938e5af9",
   "metadata": {},
   "source": [
    "---\n",
    "\n",
    "The following cell shows the connection to elasticsearch."
   ]
  },
  {
   "cell_type": "code",
   "execution_count": 9,
   "id": "928c8117",
   "metadata": {},
   "outputs": [
    {
     "data": {
      "text/plain": [
       "<Elasticsearch(['http://localhost:9200'])>"
      ]
     },
     "execution_count": 9,
     "metadata": {},
     "output_type": "execute_result"
    }
   ],
   "source": [
    "from elasticsearch import Elasticsearch\n",
    "es = Elasticsearch(\n",
    "    hosts=[\"http://localhost:9200\"],\n",
    "    basic_auth=(\"elastic\", \"elastic\")\n",
    ")\n",
    "es"
   ]
  },
  {
   "cell_type": "markdown",
   "id": "464adffb",
   "metadata": {},
   "source": [
    "Use the `info` method to unsure the connection is established correctly. The following cell shows possible outputs of the `info` method."
   ]
  },
  {
   "cell_type": "code",
   "execution_count": 19,
   "id": "23f3cce9",
   "metadata": {},
   "outputs": [
    {
     "name": "stdout",
     "output_type": "stream",
     "text": [
      "{'cluster_name': 'docker-cluster',\n",
      " 'cluster_uuid': 'BDjLMAgzRxa9TP634NQHew',\n",
      " 'name': '5a0053e0a328',\n",
      " 'tagline': 'You Know, for Search',\n",
      " 'version': {'build_date': '2025-08-24T22:05:04.526302670Z',\n",
      "             'build_flavor': 'default',\n",
      "             'build_hash': '0c781091a2f57de895a73a1391ff8426c0153c8d',\n",
      "             'build_snapshot': False,\n",
      "             'build_type': 'docker',\n",
      "             'lucene_version': '10.2.2',\n",
      "             'minimum_index_compatibility_version': '8.0.0',\n",
      "             'minimum_wire_compatibility_version': '8.19.0',\n",
      "             'number': '9.1.3'}}\n"
     ]
    }
   ],
   "source": [
    "from pprint import pprint\n",
    "pprint(dict(es.info()))"
   ]
  },
  {
   "cell_type": "markdown",
   "id": "a69e169a",
   "metadata": {},
   "source": [
    "## Index\n",
    "\n",
    "In the context of Elasticsearch, an index is a collection of similar documents. Analog in relational databases is \"table\".\n",
    "\n",
    "| Action | Python Method | Description |\n",
    "| :--- | :--- | :--- |\n",
    "| **Create an Index** | `es.indices.create()` | Creates a new index. You can pass settings and mappings as keyword arguments to define the index structure. |\n",
    "| **Check for an Index** | `es.indices.exists()` | Returns `True` if an index with the given name exists, otherwise returns `False`. |\n",
    "| **Get Index Information** | `es.indices.get()` | Retrieves detailed information about an index, including its settings and mappings. |\n",
    "| **Delete an Index** | `es.indices.delete()` | Permanently deletes an index and all of its data. |"
   ]
  },
  {
   "cell_type": "markdown",
   "id": "3bd08a44",
   "metadata": {},
   "source": [
    "---\n",
    "\n",
    "Consider the basic operations of indices."
   ]
  },
  {
   "cell_type": "markdown",
   "id": "a1a5f157",
   "metadata": {},
   "source": [
    "The following cell creates the \"book_index\". `mappings` specify the attributes index contains and their types."
   ]
  },
  {
   "cell_type": "code",
   "execution_count": 28,
   "id": "dbaabf9e",
   "metadata": {},
   "outputs": [
    {
     "data": {
      "text/plain": [
       "ObjectApiResponse({'acknowledged': True, 'shards_acknowledged': True, 'index': 'book_index'})"
      ]
     },
     "execution_count": 28,
     "metadata": {},
     "output_type": "execute_result"
    }
   ],
   "source": [
    "mappings = {\n",
    "    \"properties\": {\n",
    "        \"prop1\": {\"type\": \"text\"},\n",
    "        \"prop2\": {\"type\": \"keyword\"}\n",
    "    }\n",
    "}\n",
    "\n",
    "es.indices.create(index=\"book_index\", mappings=mappings)"
   ]
  },
  {
   "cell_type": "markdown",
   "id": "e00839a8",
   "metadata": {},
   "source": [
    "Now, the method `es.indices.exists` returns `True` as index has been created."
   ]
  },
  {
   "cell_type": "code",
   "execution_count": 29,
   "id": "424bf071",
   "metadata": {},
   "outputs": [
    {
     "data": {
      "text/plain": [
       "HeadApiResponse(True)"
      ]
     },
     "execution_count": 29,
     "metadata": {},
     "output_type": "execute_result"
    }
   ],
   "source": [
    "es.indices.exists(index=\"book_index\")"
   ]
  },
  {
   "cell_type": "markdown",
   "id": "24470579",
   "metadata": {},
   "source": [
    "The information provided by the `get` method is represented above."
   ]
  },
  {
   "cell_type": "code",
   "execution_count": 32,
   "id": "8ae6a19a",
   "metadata": {},
   "outputs": [
    {
     "name": "stdout",
     "output_type": "stream",
     "text": [
      "{'book_index': {'aliases': {},\n",
      "                'mappings': {'properties': {'prop1': {'type': 'text'},\n",
      "                                            'prop2': {'type': 'keyword'}}},\n",
      "                'settings': {'index': {'creation_date': '1756809943562',\n",
      "                                       'number_of_replicas': '1',\n",
      "                                       'number_of_shards': '1',\n",
      "                                       'provided_name': 'book_index',\n",
      "                                       'routing': {'allocation': {'include': {'_tier_preference': 'data_content'}}},\n",
      "                                       'uuid': 'G9uweKCnSFyU_aHWSsI8Zw',\n",
      "                                       'version': {'created': '9033000'}}}}}\n"
     ]
    }
   ],
   "source": [
    "pprint(dict(es.indices.get(index=\"book_index\")))"
   ]
  },
  {
   "cell_type": "markdown",
   "id": "89215526",
   "metadata": {},
   "source": [
    "As expected, the `exists` method returns `False` after the index is deleted."
   ]
  },
  {
   "cell_type": "code",
   "execution_count": 33,
   "id": "449f300a",
   "metadata": {},
   "outputs": [
    {
     "data": {
      "text/plain": [
       "HeadApiResponse(False)"
      ]
     },
     "execution_count": 33,
     "metadata": {},
     "output_type": "execute_result"
    }
   ],
   "source": [
    "es.indices.delete(index=\"book_index\")\n",
    "es.indices.exists(index=\"book_index\")"
   ]
  }
 ],
 "metadata": {
  "kernelspec": {
   "display_name": "knowledge",
   "language": "python",
   "name": "python3"
  },
  "language_info": {
   "codemirror_mode": {
    "name": "ipython",
    "version": 3
   },
   "file_extension": ".py",
   "mimetype": "text/x-python",
   "name": "python",
   "nbconvert_exporter": "python",
   "pygments_lexer": "ipython3",
   "version": "3.13.7"
  }
 },
 "nbformat": 4,
 "nbformat_minor": 5
}
