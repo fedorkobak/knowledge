{
 "cells": [
  {
   "cell_type": "markdown",
   "id": "8438a208-62d8-4e2a-8924-6e197694caf6",
   "metadata": {},
   "source": [
    "# Linux terminal"
   ]
  },
  {
   "cell_type": "markdown",
   "id": "fdbc3a78-ed94-48f5-bf3b-7ff35920bb9a",
   "metadata": {},
   "source": [
    "## Process status (ps)\n",
    "\n",
    "The `ps` (process status) command in Linux is used to display information about active system processes. By default, it provides an output table where each row represents a process and the columns include:\n",
    "\n",
    "- `PID` the unique process identifier.\n",
    "- `TTY` the terminal associated with the process.\n",
    "- `TIME` the cumulative CPU time used by the process.\n",
    "- `CMD` the command that initiated the process."
   ]
  },
  {
   "cell_type": "markdown",
   "id": "f71821de-be46-46be-9ff4-344da2a1deed",
   "metadata": {},
   "source": [
    "The following example shows the output of the ps command."
   ]
  },
  {
   "cell_type": "code",
   "execution_count": 1,
   "id": "ee5ce4aa-d59d-42a4-9bab-a655b8a4fcaf",
   "metadata": {},
   "outputs": [
    {
     "name": "stdout",
     "output_type": "stream",
     "text": [
      "    PID TTY          TIME CMD\n",
      " 187398 pts/1    00:00:00 ps\n"
     ]
    }
   ],
   "source": [
    "!ps"
   ]
  },
  {
   "cell_type": "markdown",
   "id": "795effbb-61ab-4ac3-a8e7-f8336d55d67e",
   "metadata": {},
   "source": [
    "To print all processes in the system, use the `-e` option, which prints all processes in the system."
   ]
  },
  {
   "cell_type": "markdown",
   "id": "0d577b92-ba36-4f1b-a3e1-f07f63892c57",
   "metadata": {},
   "source": [
    "The following cell shows the result of `ps -e`. Only the first 10 rows have been printed, because it could take a long time for the computer to process them."
   ]
  },
  {
   "cell_type": "code",
   "execution_count": 3,
   "id": "3b66e789-b110-44b8-94ea-ed2dc575f0fe",
   "metadata": {},
   "outputs": [
    {
     "name": "stdout",
     "output_type": "stream",
     "text": [
      "    PID TTY          TIME CMD\n",
      "      1 ?        00:00:02 systemd\n",
      "      2 ?        00:00:00 kthreadd\n",
      "      3 ?        00:00:00 rcu_gp\n",
      "      4 ?        00:00:00 rcu_par_gp\n",
      "      5 ?        00:00:00 slub_flushwq\n",
      "      6 ?        00:00:00 netns\n",
      "     11 ?        00:00:00 mm_percpu_wq\n",
      "     12 ?        00:00:00 rcu_tasks_kthread\n",
      "     13 ?        00:00:00 rcu_tasks_rude_kthread\n"
     ]
    }
   ],
   "source": [
    "!ps -e | head -n 10"
   ]
  }
 ],
 "metadata": {
  "kernelspec": {
   "display_name": "Python 3 (ipykernel)",
   "language": "python",
   "name": "python3"
  },
  "language_info": {
   "codemirror_mode": {
    "name": "ipython",
    "version": 3
   },
   "file_extension": ".py",
   "mimetype": "text/x-python",
   "name": "python",
   "nbconvert_exporter": "python",
   "pygments_lexer": "ipython3",
   "version": "3.10.12"
  }
 },
 "nbformat": 4,
 "nbformat_minor": 5
}
