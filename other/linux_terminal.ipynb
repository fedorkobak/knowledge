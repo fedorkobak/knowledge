{
 "cells": [
  {
   "cell_type": "markdown",
   "id": "8438a208-62d8-4e2a-8924-6e197694caf6",
   "metadata": {},
   "source": [
    "# Linux terminal\n",
    "\n",
    "Good operating skills in the Linux terminal make an effective Linux user, so here we consider some options."
   ]
  },
  {
   "cell_type": "markdown",
   "id": "180f3489-4e89-4e8e-9fb9-f4ef3896454a",
   "metadata": {},
   "source": [
    "## Find\n",
    "\n",
    "Linux `find` command allows you to search for files in the system. It have following syntax `find <directory-to-search> <criteria> <action>` where:\n",
    "\n",
    "- `<directory-to-search>`: Specifies the directory where you want to begin the search.\n",
    "- `<criteria>`: Defines the properties of the files you are searching for. This can include the file name, size, modification date, permissions, and more.\n",
    "- `<action>`: Specifies what to do with the found files. By default, it prints the path to the files, but it can also execute other commands on them."
   ]
  },
  {
   "cell_type": "markdown",
   "id": "10d94cd4-80ee-4c95-88b9-9d85ee2ad6cf",
   "metadata": {},
   "source": [
    "The following Python code creates a random tree of foldres and puts `text.txt` in the random place."
   ]
  },
  {
   "cell_type": "code",
   "execution_count": 35,
   "id": "a7a4aa50-d540-44ce-8732-43d7f48d7a90",
   "metadata": {},
   "outputs": [],
   "source": [
    "import os\n",
    "import random\n",
    "import string\n",
    "\n",
    "def random_directory_name(length=8):\n",
    "    'Function to create a random directory name'\n",
    "    letters = string.ascii_lowercase\n",
    "    return ''.join(random.choice(letters) for i in range(length))\n",
    "\n",
    "os.mkdir(\"linux_terminal_files/find\")\n",
    "folders = [\"linux_terminal_files/find\"]\n",
    "\n",
    "for i in range(10):\n",
    "    fold = random.choice(folders)\n",
    "    new_dir = fold + \"/\" + random_directory_name()\n",
    "    os.mkdir(new_dir)\n",
    "    folders.append(new_dir)\n",
    "\n",
    "with open(random.choice(folders) + \"/\" + \"text.txt\", \"w\") as f:\n",
    "    f.write(\"Message to aliens\")"
   ]
  },
  {
   "cell_type": "markdown",
   "id": "5b83a977-ea08-4308-93a8-565cae32b70f",
   "metadata": {},
   "source": [
    "As a result, we have the following file tree."
   ]
  },
  {
   "cell_type": "code",
   "execution_count": 36,
   "id": "7438598a-3525-4d31-a23c-9ba733fba16b",
   "metadata": {},
   "outputs": [
    {
     "name": "stdout",
     "output_type": "stream",
     "text": [
      "\u001b[01;34mlinux_terminal_files/find\u001b[0m\n",
      "├── \u001b[01;34mbznamesu\u001b[0m\n",
      "│   ├── \u001b[01;34megfqdeno\u001b[0m\n",
      "│   │   └── \u001b[01;34mkdeavbww\u001b[0m\n",
      "│   └── \u001b[01;34mrnnghuwk\u001b[0m\n",
      "├── \u001b[01;34mgtztnqwt\u001b[0m\n",
      "├── \u001b[01;34mjctzvtgu\u001b[0m\n",
      "│   └── \u001b[01;34mvcguanqh\u001b[0m\n",
      "│       └── \u001b[01;34mcfgvqhod\u001b[0m\n",
      "├── \u001b[01;34mvozojccx\u001b[0m\n",
      "│   └── text.txt\n",
      "└── \u001b[01;34mztmpgspv\u001b[0m\n",
      "\n",
      "10 directories, 1 file\n"
     ]
    }
   ],
   "source": [
    "!tree linux_terminal_files/find"
   ]
  },
  {
   "cell_type": "markdown",
   "id": "7cbe08b8-3e68-4590-9a47-1b3d1a242b07",
   "metadata": {},
   "source": [
    "And we can get the full path for `text.txt` by using construction `--name text.txt` as criteria."
   ]
  },
  {
   "cell_type": "code",
   "execution_count": 37,
   "id": "30a49823-6db6-4af5-9957-579f547c39f0",
   "metadata": {},
   "outputs": [
    {
     "name": "stdout",
     "output_type": "stream",
     "text": [
      "linux_terminal_files/find/vozojccx/text.txt\n"
     ]
    }
   ],
   "source": [
    "%%bash\n",
    "find linux_terminal_files/find -name text.txt\n",
    "rm -r linux_terminal_files/find"
   ]
  },
  {
   "cell_type": "markdown",
   "id": "fdbc3a78-ed94-48f5-bf3b-7ff35920bb9a",
   "metadata": {},
   "source": [
    "## Process status (ps)\n",
    "\n",
    "The `ps` (process status) command in Linux is used to display information about active system processes. By default, it provides an output table where each row represents a process and the columns include:\n",
    "\n",
    "- `PID` the unique process identifier.\n",
    "- `TTY` the terminal associated with the process.\n",
    "- `TIME` the cumulative CPU time used by the process.\n",
    "- `CMD` the command that initiated the process."
   ]
  },
  {
   "cell_type": "markdown",
   "id": "f71821de-be46-46be-9ff4-344da2a1deed",
   "metadata": {},
   "source": [
    "The following example shows the output of the ps command."
   ]
  },
  {
   "cell_type": "code",
   "execution_count": 1,
   "id": "ee5ce4aa-d59d-42a4-9bab-a655b8a4fcaf",
   "metadata": {},
   "outputs": [
    {
     "name": "stdout",
     "output_type": "stream",
     "text": [
      "    PID TTY          TIME CMD\n",
      " 187398 pts/1    00:00:00 ps\n"
     ]
    }
   ],
   "source": [
    "!ps"
   ]
  },
  {
   "cell_type": "markdown",
   "id": "795effbb-61ab-4ac3-a8e7-f8336d55d67e",
   "metadata": {},
   "source": [
    "To print all processes in the system, use the `-e` option, which prints all processes in the system."
   ]
  },
  {
   "cell_type": "markdown",
   "id": "0d577b92-ba36-4f1b-a3e1-f07f63892c57",
   "metadata": {},
   "source": [
    "The following cell shows the result of `ps -e`. Only the first 10 rows have been printed, because it could take a long time for the computer to process them."
   ]
  },
  {
   "cell_type": "code",
   "execution_count": 3,
   "id": "3b66e789-b110-44b8-94ea-ed2dc575f0fe",
   "metadata": {},
   "outputs": [
    {
     "name": "stdout",
     "output_type": "stream",
     "text": [
      "    PID TTY          TIME CMD\n",
      "      1 ?        00:00:02 systemd\n",
      "      2 ?        00:00:00 kthreadd\n",
      "      3 ?        00:00:00 rcu_gp\n",
      "      4 ?        00:00:00 rcu_par_gp\n",
      "      5 ?        00:00:00 slub_flushwq\n",
      "      6 ?        00:00:00 netns\n",
      "     11 ?        00:00:00 mm_percpu_wq\n",
      "     12 ?        00:00:00 rcu_tasks_kthread\n",
      "     13 ?        00:00:00 rcu_tasks_rude_kthread\n"
     ]
    }
   ],
   "source": [
    "!ps -e | head -n 10"
   ]
  }
 ],
 "metadata": {
  "kernelspec": {
   "display_name": "Python 3 (ipykernel)",
   "language": "python",
   "name": "python3"
  },
  "language_info": {
   "codemirror_mode": {
    "name": "ipython",
    "version": 3
   },
   "file_extension": ".py",
   "mimetype": "text/x-python",
   "name": "python",
   "nbconvert_exporter": "python",
   "pygments_lexer": "ipython3",
   "version": "3.10.12"
  }
 },
 "nbformat": 4,
 "nbformat_minor": 5
}
