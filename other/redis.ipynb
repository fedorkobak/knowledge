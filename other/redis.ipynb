{
 "cells": [
  {
   "cell_type": "markdown",
   "id": "b1fe41b5-d25e-4180-999f-1422f6db93ab",
   "metadata": {},
   "source": [
    "# Redis\n",
    "\n",
    "On this page I'm getting to know reddis. It's a inmemory no-sql database."
   ]
  },
  {
   "cell_type": "markdown",
   "id": "02c694be-b6bb-45c9-a867-daa375b80a4c",
   "metadata": {},
   "source": [
    "## Activate command line\n",
    "\n",
    "Just use the `redis-cli` command to fall into its shell. The following cell shows how this can look like:"
   ]
  },
  {
   "cell_type": "code",
   "execution_count": 3,
   "id": "56646f87-1ca8-4e93-bdbb-e80a44dac2ce",
   "metadata": {},
   "outputs": [
    {
     "name": "stdout",
     "output_type": "stream",
     "text": [
      "OK\n",
      "world\n"
     ]
    }
   ],
   "source": [
    "%%bash\n",
    "redis-cli\n",
    "\n",
    "set hello world\n",
    "get hello"
   ]
  },
  {
   "cell_type": "markdown",
   "id": "aecfd9a2-6374-46ca-9849-d04c797de412",
   "metadata": {},
   "source": [
    "After activating `redis-cli` we add a new key/value combination - it returns `OK` and then try to access the value under the `hello` key - it returns `world`, which is the value corresponding to the `hello` key."
   ]
  }
 ],
 "metadata": {
  "kernelspec": {
   "display_name": "Python 3 (ipykernel)",
   "language": "python",
   "name": "python3"
  },
  "language_info": {
   "codemirror_mode": {
    "name": "ipython",
    "version": 3
   },
   "file_extension": ".py",
   "mimetype": "text/x-python",
   "name": "python",
   "nbconvert_exporter": "python",
   "pygments_lexer": "ipython3",
   "version": "3.10.12"
  }
 },
 "nbformat": 4,
 "nbformat_minor": 5
}
