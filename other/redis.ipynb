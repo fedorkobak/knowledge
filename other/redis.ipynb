{
 "cells": [
  {
   "cell_type": "markdown",
   "id": "b1fe41b5-d25e-4180-999f-1422f6db93ab",
   "metadata": {},
   "source": [
    "# Redis\n",
    "\n",
    "On this page I'm getting to know reddis. It's a inmemory no-sql database."
   ]
  },
  {
   "cell_type": "markdown",
   "id": "02c694be-b6bb-45c9-a867-daa375b80a4c",
   "metadata": {},
   "source": [
    "## Using command line\n",
    "\n",
    "Just use the `redis-cli` command to go into its shell. There is a `ping` command that answers `PONG` to check if everything is OK.\n",
    "\n",
    "The following cell shows how this can look like."
   ]
  },
  {
   "cell_type": "code",
   "execution_count": 1,
   "id": "56646f87-1ca8-4e93-bdbb-e80a44dac2ce",
   "metadata": {},
   "outputs": [
    {
     "name": "stdout",
     "output_type": "stream",
     "text": [
      "PONG\n"
     ]
    }
   ],
   "source": [
    "%%bash\n",
    "redis-cli\n",
    "ping"
   ]
  },
  {
   "cell_type": "markdown",
   "id": "543cb009-223f-4016-9734-21bba620eac6",
   "metadata": {},
   "source": [
    "## String\n",
    "\n",
    "Is atomic thing in `redis`. There are such commands to operate on it.\n",
    "\n",
    "|Command|What it does|\n",
    "|-------|------------|\n",
    "| `set` | Sets value for the variable|\n",
    "| `get` | Get value from the key value|\n",
    "| `del` | Delet value under key|"
   ]
  },
  {
   "cell_type": "code",
   "execution_count": 2,
   "id": "ad389801-6ad3-4257-8312-5d52520bc904",
   "metadata": {},
   "outputs": [
    {
     "name": "stdout",
     "output_type": "stream",
     "text": [
      "OK\n",
      "world\n"
     ]
    }
   ],
   "source": [
    "%%bash\n",
    "redis-cli\n",
    "\n",
    "set hello world\n",
    "get hello"
   ]
  },
  {
   "cell_type": "markdown",
   "id": "aecfd9a2-6374-46ca-9849-d04c797de412",
   "metadata": {},
   "source": [
    "After activating `redis-cli` we add a new key/value combination - it returns `OK` and then try to access the value under the `hello` key - it returns `world`, which is the value corresponding to the `hello` key."
   ]
  },
  {
   "cell_type": "markdown",
   "id": "0c132831-f7b7-4e12-bfba-6ac0cee25d22",
   "metadata": {},
   "source": [
    "Ok now lets try to delete just created key/value pair from redis."
   ]
  },
  {
   "cell_type": "code",
   "execution_count": 3,
   "id": "452beae3-8ea7-44d1-afd9-011dc27b1333",
   "metadata": {},
   "outputs": [
    {
     "name": "stdout",
     "output_type": "stream",
     "text": [
      "1\n",
      "0\n",
      "\n"
     ]
    }
   ],
   "source": [
    "%%bash\n",
    "redis-cli\n",
    "\n",
    "del hello\n",
    "del hello\n",
    "get hello"
   ]
  },
  {
   "cell_type": "markdown",
   "id": "885063b3-6880-4b80-bc9d-32045400295e",
   "metadata": {},
   "source": [
    "The first execution of `del` returns `1` because the key `hello` exists, but the second `del` returns `0` because the key `hello` has already been deleted. And as proof that the key has been deleted, we try to access it with `get` and get an empty response."
   ]
  },
  {
   "cell_type": "markdown",
   "id": "812c1cbb-5739-420b-87ff-7c7c411b2a7f",
   "metadata": {},
   "source": [
    "## Lists\n",
    "\n",
    "Redis has a `list` data structure. There are some operations you can perform on redis lists.\n",
    "\n",
    "|Command|What it does|\n",
    "|-------|------------|\n",
    "|`rpush`|Pushes the value onto the right end of the list|\n",
    "|`lrange`|Fetches a range of values from the list|\n",
    "|`lindex`|Fetches an item at a given position in the list|\n",
    "|`lpop`|Pops the value from the left end of the list and returns it|\n",
    "\n",
    "Now let's play around with it."
   ]
  },
  {
   "cell_type": "markdown",
   "id": "a3f0b09c-7afe-4255-8ac3-3af347b4e359",
   "metadata": {},
   "source": [
    "Here some values are pushed to the `list-key`."
   ]
  },
  {
   "cell_type": "code",
   "execution_count": 4,
   "id": "94b8036b-f6bc-4962-91d6-259fb0698d67",
   "metadata": {},
   "outputs": [
    {
     "name": "stdout",
     "output_type": "stream",
     "text": [
      "1\n",
      "2\n",
      "3\n"
     ]
    }
   ],
   "source": [
    "%%bash\n",
    "redis-cli\n",
    "\n",
    "rpush list-key my\n",
    "rpush list-key name\n",
    "rpush list-key Fedor"
   ]
  },
  {
   "cell_type": "markdown",
   "id": "624bc365-d578-4d15-a42b-a4bc1454714e",
   "metadata": {},
   "source": [
    "By using `list-key` we can get values that were stored in the list."
   ]
  },
  {
   "cell_type": "code",
   "execution_count": 5,
   "id": "e4a2e7ae-a451-4696-ba6e-19afd369f7c6",
   "metadata": {},
   "outputs": [
    {
     "name": "stdout",
     "output_type": "stream",
     "text": [
      "my\n",
      "name\n",
      "Fedor\n"
     ]
    }
   ],
   "source": [
    "%%bash\n",
    "redis-cli\n",
    "lrange list-key 0 -1"
   ]
  },
  {
   "cell_type": "markdown",
   "id": "6ec6d17f-91b6-4656-8f9a-6a01596588f2",
   "metadata": {},
   "source": [
    "By using `lindex` we can access any element you want."
   ]
  },
  {
   "cell_type": "code",
   "execution_count": 6,
   "id": "421bb36b-760a-4402-93e3-123659cbf18c",
   "metadata": {},
   "outputs": [
    {
     "name": "stdout",
     "output_type": "stream",
     "text": [
      "my\n",
      "Fedor\n",
      "name\n"
     ]
    }
   ],
   "source": [
    "%%bash\n",
    "redis-cli\n",
    "\n",
    "lindex list-key 0\n",
    "lindex list-key 2\n",
    "lindex list-key 1"
   ]
  },
  {
   "cell_type": "markdown",
   "id": "306cccd0-442a-48d7-8b4e-b729e48adb59",
   "metadata": {},
   "source": [
    "Now we can `rpop` items from the list. Each pop returns the last value of the list and clears it."
   ]
  },
  {
   "cell_type": "code",
   "execution_count": 7,
   "id": "92d7e075-7c30-4d56-8070-d8ee0c639d54",
   "metadata": {},
   "outputs": [
    {
     "name": "stdout",
     "output_type": "stream",
     "text": [
      "Fedor\n",
      "name\n",
      "my\n"
     ]
    }
   ],
   "source": [
    "%%bash\n",
    "redis-cli\n",
    "\n",
    "rpop list-key\n",
    "rpop list-key\n",
    "rpop list-key"
   ]
  },
  {
   "cell_type": "markdown",
   "id": "bed44398-9549-403a-b176-d1f01074068d",
   "metadata": {},
   "source": [
    "## Sets\n",
    "\n",
    "Redis has a `set` data structure - it's a bunch of unique strings. There are some commands to use them with redis sets:\n",
    "\n",
    "|Command|What it does|\n",
    "|-------|------------|\n",
    "|`sadd`|Adds an item to the set|\n",
    "|`smembers`|Returns entire set of items|\n",
    "|`sismember`|Checks is an item is in set|\n",
    "|`srem`|Remove the item from the set|\n",
    "\n",
    "Next cells represents some experiments with this set of commands."
   ]
  },
  {
   "cell_type": "markdown",
   "id": "af415460-671c-452f-801f-02fdeb152ec0",
   "metadata": {},
   "source": [
    "Now let's add some new values to the set. Here we add `\"this value\"` and `\"new value\"`, but `\"this value\"` has been added twice."
   ]
  },
  {
   "cell_type": "code",
   "execution_count": 8,
   "id": "b0a9e20e-a594-4fa9-adcb-9db86403ff7c",
   "metadata": {},
   "outputs": [
    {
     "name": "stdout",
     "output_type": "stream",
     "text": [
      "1\n",
      "1\n",
      "0\n"
     ]
    }
   ],
   "source": [
    "%%bash\n",
    "redis-cli\n",
    "\n",
    "sadd set-key \"this value\"\n",
    "sadd set-key \"new value\"\n",
    "sadd set-key \"this value\""
   ]
  },
  {
   "cell_type": "markdown",
   "id": "b8c1f84f-bbe0-4d16-9823-adb88b553d12",
   "metadata": {},
   "source": [
    "It's interesting that outputs looks like it returns `1` if the operation was successful and `0` if not. In our case the last `sadd` tried to add an already existing element."
   ]
  },
  {
   "cell_type": "markdown",
   "id": "27aafe35-c640-429d-ae2b-ef3a2c943251",
   "metadata": {},
   "source": [
    "Now, using `smembers`, we can access the set we have just created."
   ]
  },
  {
   "cell_type": "code",
   "execution_count": 9,
   "id": "9dc02e5b-529c-4af2-bc7d-95dc04a290bd",
   "metadata": {},
   "outputs": [
    {
     "name": "stdout",
     "output_type": "stream",
     "text": [
      "this value\n",
      "new value\n"
     ]
    }
   ],
   "source": [
    "%%bash \n",
    "redis-cli\n",
    "smembers set-key"
   ]
  },
  {
   "cell_type": "markdown",
   "id": "9675396a-20fb-45b7-928b-714c6c6cc188",
   "metadata": {},
   "source": [
    "Some practice for `sismember` and `srem` in one cell."
   ]
  },
  {
   "cell_type": "code",
   "execution_count": 10,
   "id": "e585064d-e9e8-44f1-853a-75896ee6668e",
   "metadata": {},
   "outputs": [
    {
     "name": "stdout",
     "output_type": "stream",
     "text": [
      "1\n",
      "1\n",
      "0\n"
     ]
    }
   ],
   "source": [
    "%%bash\n",
    "redis-cli\n",
    "\n",
    "sismember set-key \"new value\"\n",
    "srem set-key \"new value\"\n",
    "sismember set-key \"new value\""
   ]
  },
  {
   "cell_type": "markdown",
   "id": "26580f2a-4831-4437-a3c3-8934eca96f71",
   "metadata": {},
   "source": [
    "Before removing `sismember` it returns `1`, after removing it returns `0`. The middle `1` is the output of the `srem` command - it signals that everything has been successfully completed."
   ]
  },
  {
   "cell_type": "markdown",
   "id": "9cd6b829-3e8b-4f94-8597-e156184808b2",
   "metadata": {},
   "source": [
    "Don't forget to delete the set you just created, to ensure the same execution for this example and to exclude useless garbage in our reddis instance."
   ]
  },
  {
   "cell_type": "code",
   "execution_count": 11,
   "id": "a0038e2b-75b3-484b-b1de-394930909b87",
   "metadata": {},
   "outputs": [
    {
     "name": "stdout",
     "output_type": "stream",
     "text": [
      "1\n"
     ]
    }
   ],
   "source": [
    "%%bash\n",
    "redis-cli\n",
    "del set-key"
   ]
  }
 ],
 "metadata": {
  "kernelspec": {
   "display_name": "Python 3 (ipykernel)",
   "language": "python",
   "name": "python3"
  },
  "language_info": {
   "codemirror_mode": {
    "name": "ipython",
    "version": 3
   },
   "file_extension": ".py",
   "mimetype": "text/x-python",
   "name": "python",
   "nbconvert_exporter": "python",
   "pygments_lexer": "ipython3",
   "version": "3.10.12"
  }
 },
 "nbformat": 4,
 "nbformat_minor": 5
}
