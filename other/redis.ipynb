{
 "cells": [
  {
   "cell_type": "markdown",
   "id": "b1fe41b5-d25e-4180-999f-1422f6db93ab",
   "metadata": {},
   "source": [
    "# Redis\n",
    "\n",
    "On this page I'm getting to know reddis. It's a inmemory no-sql database."
   ]
  },
  {
   "cell_type": "markdown",
   "id": "02c694be-b6bb-45c9-a867-daa375b80a4c",
   "metadata": {},
   "source": [
    "## Activate command line\n",
    "\n",
    "Just use the `redis-cli` command to fall into its shell. The following cell shows how this can look like:"
   ]
  },
  {
   "cell_type": "code",
   "execution_count": 3,
   "id": "56646f87-1ca8-4e93-bdbb-e80a44dac2ce",
   "metadata": {},
   "outputs": [
    {
     "name": "stdout",
     "output_type": "stream",
     "text": [
      "OK\n",
      "world\n"
     ]
    }
   ],
   "source": [
    "%%bash\n",
    "redis-cli\n",
    "\n",
    "set hello world\n",
    "get hello"
   ]
  },
  {
   "cell_type": "markdown",
   "id": "aecfd9a2-6374-46ca-9849-d04c797de412",
   "metadata": {},
   "source": [
    "After activating `redis-cli` we add a new key/value combination - it returns `OK` and then try to access the value under the `hello` key - it returns `world`, which is the value corresponding to the `hello` key."
   ]
  },
  {
   "cell_type": "markdown",
   "id": "812c1cbb-5739-420b-87ff-7c7c411b2a7f",
   "metadata": {},
   "source": [
    "## Lists\n",
    "\n",
    "Redis has a `list` data structure. There are some operations you can perform on redis lists.\n",
    "\n",
    "|Command|What it does|\n",
    "|-------|------------|\n",
    "|rpush|Pushes the value onto the right end of the list|\n",
    "|lrange|Fetches a range of values from the list|\n",
    "|lindex|Fetches an item at a given position in the list|\n",
    "|lpop|Pops the value from the left end of the list and returns it|\n",
    "\n",
    "Now let's play around with it."
   ]
  },
  {
   "cell_type": "markdown",
   "id": "a3f0b09c-7afe-4255-8ac3-3af347b4e359",
   "metadata": {},
   "source": [
    "Here some values are pushed to the `list-key`."
   ]
  },
  {
   "cell_type": "code",
   "execution_count": 17,
   "id": "94b8036b-f6bc-4962-91d6-259fb0698d67",
   "metadata": {},
   "outputs": [
    {
     "name": "stdout",
     "output_type": "stream",
     "text": [
      "1\n",
      "2\n",
      "3\n"
     ]
    }
   ],
   "source": [
    "%%bash\n",
    "redis-cli\n",
    "\n",
    "rpush list-key my\n",
    "rpush list-key name\n",
    "rpush list-key Fedor"
   ]
  },
  {
   "cell_type": "markdown",
   "id": "624bc365-d578-4d15-a42b-a4bc1454714e",
   "metadata": {},
   "source": [
    "By using `list-key` we can get values that were stored in the list."
   ]
  },
  {
   "cell_type": "code",
   "execution_count": 18,
   "id": "e4a2e7ae-a451-4696-ba6e-19afd369f7c6",
   "metadata": {},
   "outputs": [
    {
     "name": "stdout",
     "output_type": "stream",
     "text": [
      "my\n",
      "name\n",
      "Fedor\n"
     ]
    }
   ],
   "source": [
    "%%bash\n",
    "redis-cli\n",
    "lrange list-key 0 -1"
   ]
  },
  {
   "cell_type": "markdown",
   "id": "6ec6d17f-91b6-4656-8f9a-6a01596588f2",
   "metadata": {},
   "source": [
    "By using `lindex` we can access any element you want."
   ]
  },
  {
   "cell_type": "code",
   "execution_count": 21,
   "id": "421bb36b-760a-4402-93e3-123659cbf18c",
   "metadata": {},
   "outputs": [
    {
     "name": "stdout",
     "output_type": "stream",
     "text": [
      "my\n",
      "Fedor\n",
      "name\n"
     ]
    }
   ],
   "source": [
    "%%bash\n",
    "redis-cli\n",
    "\n",
    "lindex list-key 0\n",
    "lindex list-key 2\n",
    "lindex list-key 1"
   ]
  },
  {
   "cell_type": "markdown",
   "id": "306cccd0-442a-48d7-8b4e-b729e48adb59",
   "metadata": {},
   "source": [
    "Now we can `rpop` items from the list. Each pop returns the last value of the list and clears it."
   ]
  },
  {
   "cell_type": "code",
   "execution_count": 15,
   "id": "92d7e075-7c30-4d56-8070-d8ee0c639d54",
   "metadata": {},
   "outputs": [
    {
     "name": "stdout",
     "output_type": "stream",
     "text": [
      "Fedor\n",
      "name\n",
      "my\n"
     ]
    }
   ],
   "source": [
    "%%bash\n",
    "redis-cli\n",
    "\n",
    "rpop list-key\n",
    "rpop list-key\n",
    "rpop list-key"
   ]
  }
 ],
 "metadata": {
  "kernelspec": {
   "display_name": "Python 3 (ipykernel)",
   "language": "python",
   "name": "python3"
  },
  "language_info": {
   "codemirror_mode": {
    "name": "ipython",
    "version": 3
   },
   "file_extension": ".py",
   "mimetype": "text/x-python",
   "name": "python",
   "nbconvert_exporter": "python",
   "pygments_lexer": "ipython3",
   "version": "3.10.12"
  }
 },
 "nbformat": 4,
 "nbformat_minor": 5
}
