{
 "cells": [
  {
   "cell_type": "markdown",
   "id": "b1fe41b5-d25e-4180-999f-1422f6db93ab",
   "metadata": {},
   "source": [
    "# Redis\n",
    "\n",
    "On this page I'm getting to know reddis. It's a inmemory no-sql database."
   ]
  },
  {
   "cell_type": "markdown",
   "id": "02c694be-b6bb-45c9-a867-daa375b80a4c",
   "metadata": {},
   "source": [
    "## Using command line\n",
    "\n",
    "Just use the `redis-cli` command to go into its shell. There is a `ping` command that answers `PONG` to check if everything is OK.\n",
    "\n",
    "The following cell shows how this can look like."
   ]
  },
  {
   "cell_type": "code",
   "execution_count": 1,
   "id": "56646f87-1ca8-4e93-bdbb-e80a44dac2ce",
   "metadata": {},
   "outputs": [
    {
     "name": "stdout",
     "output_type": "stream",
     "text": [
      "PONG\n"
     ]
    }
   ],
   "source": [
    "%%bash\n",
    "redis-cli\n",
    "ping"
   ]
  },
  {
   "cell_type": "markdown",
   "id": "ba3b682e-bb36-47bc-8b86-b4745c202cba",
   "metadata": {},
   "source": [
    "It is also sometimes useful to be able to run `redis` commands without having to enter the redis shell interactively."
   ]
  },
  {
   "cell_type": "code",
   "execution_count": 2,
   "id": "44ccdd76-4408-486b-ad43-155a25559fa5",
   "metadata": {},
   "outputs": [
    {
     "name": "stdout",
     "output_type": "stream",
     "text": [
      "PONG\n"
     ]
    }
   ],
   "source": [
    "!redis-cli ping"
   ]
  },
  {
   "cell_type": "markdown",
   "id": "543cb009-223f-4016-9734-21bba620eac6",
   "metadata": {},
   "source": [
    "## String\n",
    "\n",
    "Is atomic thing in `redis`. There are such commands to operate on it.\n",
    "\n",
    "|Command|What it does|\n",
    "|-------|------------|\n",
    "| `SET` | Sets value for the variable|\n",
    "| `GET` | Get value from the key value|\n",
    "| `DEL` | Delet value under key|"
   ]
  },
  {
   "cell_type": "code",
   "execution_count": 3,
   "id": "ad389801-6ad3-4257-8312-5d52520bc904",
   "metadata": {},
   "outputs": [
    {
     "name": "stdout",
     "output_type": "stream",
     "text": [
      "OK\n",
      "world\n"
     ]
    }
   ],
   "source": [
    "%%bash\n",
    "redis-cli\n",
    "\n",
    "SET hello world\n",
    "GET hello"
   ]
  },
  {
   "cell_type": "markdown",
   "id": "aecfd9a2-6374-46ca-9849-d04c797de412",
   "metadata": {},
   "source": [
    "After activating `redis-cli` we add a new key/value combination - it returns `OK` and then try to access the value under the `hello` key - it returns `world`, which is the value corresponding to the `hello` key."
   ]
  },
  {
   "cell_type": "markdown",
   "id": "0c132831-f7b7-4e12-bfba-6ac0cee25d22",
   "metadata": {},
   "source": [
    "Ok now lets try to delete just created key/value pair from redis."
   ]
  },
  {
   "cell_type": "code",
   "execution_count": 4,
   "id": "452beae3-8ea7-44d1-afd9-011dc27b1333",
   "metadata": {},
   "outputs": [
    {
     "name": "stdout",
     "output_type": "stream",
     "text": [
      "1\n",
      "0\n",
      "\n"
     ]
    }
   ],
   "source": [
    "%%bash\n",
    "redis-cli\n",
    "\n",
    "DEL hello\n",
    "DEL hello\n",
    "GET hello"
   ]
  },
  {
   "cell_type": "markdown",
   "id": "885063b3-6880-4b80-bc9d-32045400295e",
   "metadata": {},
   "source": [
    "The first execution of `del` returns `1` because the key `hello` exists, but the second `del` returns `0` because the key `hello` has already been deleted. And as proof that the key has been deleted, we try to access it with `get` and get an empty response."
   ]
  },
  {
   "cell_type": "markdown",
   "id": "812c1cbb-5739-420b-87ff-7c7c411b2a7f",
   "metadata": {},
   "source": [
    "## Lists\n",
    "\n",
    "Redis has a `list` data structure. There are some operations you can perform on redis lists.\n",
    "\n",
    "|Command|What it does|\n",
    "|-------|------------|\n",
    "|`RPUHS`|Pushes the value onto the right end of the list|\n",
    "|`LRANGE`|Fetches a range of values from the list|\n",
    "|`LINDEX`|Fetches an item at a given position in the list|\n",
    "|`LPOP`|Pops the value from the left end of the list and returns it|\n",
    "\n",
    "Now let's play around with it."
   ]
  },
  {
   "cell_type": "markdown",
   "id": "a3f0b09c-7afe-4255-8ac3-3af347b4e359",
   "metadata": {},
   "source": [
    "Here some values are pushed to the `list-key`."
   ]
  },
  {
   "cell_type": "code",
   "execution_count": 5,
   "id": "94b8036b-f6bc-4962-91d6-259fb0698d67",
   "metadata": {},
   "outputs": [
    {
     "name": "stdout",
     "output_type": "stream",
     "text": [
      "3\n"
     ]
    }
   ],
   "source": [
    "%%bash\n",
    "redis-cli\n",
    "RPUSH list-key my name Fedor"
   ]
  },
  {
   "cell_type": "markdown",
   "id": "624bc365-d578-4d15-a42b-a4bc1454714e",
   "metadata": {},
   "source": [
    "By using `list-key` we can get values that were stored in the list."
   ]
  },
  {
   "cell_type": "code",
   "execution_count": 6,
   "id": "e4a2e7ae-a451-4696-ba6e-19afd369f7c6",
   "metadata": {},
   "outputs": [
    {
     "name": "stdout",
     "output_type": "stream",
     "text": [
      "my\n",
      "name\n",
      "Fedor\n"
     ]
    }
   ],
   "source": [
    "%%bash\n",
    "redis-cli\n",
    "LRANGE list-key 0 -1"
   ]
  },
  {
   "cell_type": "markdown",
   "id": "6ec6d17f-91b6-4656-8f9a-6a01596588f2",
   "metadata": {},
   "source": [
    "By using `lindex` we can access any element you want."
   ]
  },
  {
   "cell_type": "code",
   "execution_count": 7,
   "id": "421bb36b-760a-4402-93e3-123659cbf18c",
   "metadata": {},
   "outputs": [
    {
     "name": "stdout",
     "output_type": "stream",
     "text": [
      "my\n",
      "Fedor\n",
      "name\n"
     ]
    }
   ],
   "source": [
    "%%bash\n",
    "redis-cli\n",
    "\n",
    "LINDEX list-key 0\n",
    "LINDEX list-key 2\n",
    "LINDEX list-key 1"
   ]
  },
  {
   "cell_type": "markdown",
   "id": "306cccd0-442a-48d7-8b4e-b729e48adb59",
   "metadata": {},
   "source": [
    "Now we can `rpop` items from the list. Each pop returns the last value of the list and clears it."
   ]
  },
  {
   "cell_type": "code",
   "execution_count": 8,
   "id": "92d7e075-7c30-4d56-8070-d8ee0c639d54",
   "metadata": {},
   "outputs": [
    {
     "name": "stdout",
     "output_type": "stream",
     "text": [
      "Fedor\n",
      "name\n",
      "my\n"
     ]
    }
   ],
   "source": [
    "%%bash\n",
    "redis-cli\n",
    "\n",
    "RPOP list-key\n",
    "RPOP list-key\n",
    "RPOP list-key"
   ]
  },
  {
   "cell_type": "markdown",
   "id": "bed44398-9549-403a-b176-d1f01074068d",
   "metadata": {},
   "source": [
    "## Sets\n",
    "\n",
    "Redis has a `set` data structure - it's a bunch of unique strings. There are some commands to use them with redis sets:\n",
    "\n",
    "|Command|What it does|\n",
    "|-------|------------|\n",
    "|`SADD`|Adds an item to the set|\n",
    "|`SMEMBERS`|Returns entire set of items|\n",
    "|`SISMEMBER`|Checks is an item is in set|\n",
    "|`SREM`|Remove the item from the set|\n",
    "\n",
    "Next cells represents some experiments with this set of commands."
   ]
  },
  {
   "cell_type": "markdown",
   "id": "af415460-671c-452f-801f-02fdeb152ec0",
   "metadata": {},
   "source": [
    "Now let's add some new values to the set. Here we add `\"this value\"` and `\"new value\"`, but `\"this value\"` has been added twice."
   ]
  },
  {
   "cell_type": "code",
   "execution_count": 9,
   "id": "b0a9e20e-a594-4fa9-adcb-9db86403ff7c",
   "metadata": {},
   "outputs": [
    {
     "name": "stdout",
     "output_type": "stream",
     "text": [
      "1\n",
      "1\n",
      "0\n"
     ]
    }
   ],
   "source": [
    "%%bash\n",
    "redis-cli\n",
    "\n",
    "SADD set-key \"this value\"\n",
    "SADD set-key \"new value\"\n",
    "SADD set-key \"this value\""
   ]
  },
  {
   "cell_type": "markdown",
   "id": "b8c1f84f-bbe0-4d16-9823-adb88b553d12",
   "metadata": {},
   "source": [
    "It's interesting that outputs looks like it returns `1` if the operation was successful and `0` if not. In our case the last `sadd` tried to add an already existing element."
   ]
  },
  {
   "cell_type": "markdown",
   "id": "27aafe35-c640-429d-ae2b-ef3a2c943251",
   "metadata": {},
   "source": [
    "Now, using `smembers`, we can access the set we have just created."
   ]
  },
  {
   "cell_type": "code",
   "execution_count": 10,
   "id": "9dc02e5b-529c-4af2-bc7d-95dc04a290bd",
   "metadata": {},
   "outputs": [
    {
     "name": "stdout",
     "output_type": "stream",
     "text": [
      "this value\n",
      "new value\n"
     ]
    }
   ],
   "source": [
    "%%bash \n",
    "redis-cli\n",
    "SMEMBERS set-key"
   ]
  },
  {
   "cell_type": "markdown",
   "id": "9675396a-20fb-45b7-928b-714c6c6cc188",
   "metadata": {},
   "source": [
    "Some practice for `sismember` and `srem` in one cell."
   ]
  },
  {
   "cell_type": "code",
   "execution_count": 11,
   "id": "e585064d-e9e8-44f1-853a-75896ee6668e",
   "metadata": {},
   "outputs": [
    {
     "name": "stdout",
     "output_type": "stream",
     "text": [
      "1\n",
      "1\n",
      "0\n"
     ]
    }
   ],
   "source": [
    "%%bash\n",
    "redis-cli\n",
    "\n",
    "SISMEMBER set-key \"new value\"\n",
    "SREM set-key \"new value\"\n",
    "SISMEMBER set-key \"new value\""
   ]
  },
  {
   "cell_type": "markdown",
   "id": "26580f2a-4831-4437-a3c3-8934eca96f71",
   "metadata": {},
   "source": [
    "Before removing `sismember` it returns `1`, after removing it returns `0`. The middle `1` is the output of the `srem` command - it signals that everything has been successfully completed."
   ]
  },
  {
   "cell_type": "markdown",
   "id": "9cd6b829-3e8b-4f94-8597-e156184808b2",
   "metadata": {},
   "source": [
    "Don't forget to delete the set you just created, to ensure the same execution for this example and to exclude useless garbage in our reddis instance."
   ]
  },
  {
   "cell_type": "code",
   "execution_count": 12,
   "id": "a0038e2b-75b3-484b-b1de-394930909b87",
   "metadata": {},
   "outputs": [
    {
     "name": "stdout",
     "output_type": "stream",
     "text": [
      "(integer) 1\n"
     ]
    }
   ],
   "source": [
    "!redis-cli DEL set-key"
   ]
  },
  {
   "cell_type": "markdown",
   "id": "73489569-f04f-4c81-bbf8-d152d00c0235",
   "metadata": {},
   "source": [
    "## Hashes\n",
    "\n",
    "`Hash` is a key/value structure in redis. You can think of it as a small sub-redis.\n",
    "\n",
    "You can operate with hashes using following commands.\n",
    "\n",
    "|Command|What it does|\n",
    "|-------|------------|\n",
    "|`HSET`|Stores the value at the key in the hash|\n",
    "|`HGET`|Fetches value at the given hash key|\n",
    "|`HGETALL`|Fetches the entire hash|\n",
    "|`HDEL`|Removes the key from the hash|"
   ]
  },
  {
   "cell_type": "markdown",
   "id": "5a49ff3e-a7cf-4a9a-94a4-f2567b0b0f8c",
   "metadata": {},
   "source": [
    "Here is an example of making hash with different animals and the sounds they make."
   ]
  },
  {
   "cell_type": "code",
   "execution_count": 13,
   "id": "db604ba8-297f-40d9-a383-9f36a780eb25",
   "metadata": {},
   "outputs": [
    {
     "name": "stdout",
     "output_type": "stream",
     "text": [
      "1\n",
      "1\n",
      "1\n",
      "0\n",
      "1\n",
      "0\n",
      "0\n",
      "0\n",
      "0\n"
     ]
    }
   ],
   "source": [
    "%%bash\n",
    "redis-cli\n",
    "\n",
    "HSET hash-key cat meow\n",
    "HSET hash-key dog woh\n",
    "HSET hash-key snake ssss\n",
    "HSET hash-key cat mow\n",
    "HSET hash-key bird chirp\n",
    "HSET hash-key dog bark\n",
    "HSET hash-key snake hiss\n",
    "HSET hash-key cat purr\n",
    "HSET hash-key bird tweet"
   ]
  },
  {
   "cell_type": "markdown",
   "id": "97cc3b10-285d-41f8-a084-5b423aa4b199",
   "metadata": {},
   "source": [
    "Each time a new record was added to the has, 0 or 1 was printed. 1 is for cases where a new key was created, but 0 is for cases where such a case already exists."
   ]
  },
  {
   "cell_type": "markdown",
   "id": "0e793df9-6249-4d96-9be0-2e8be2711197",
   "metadata": {},
   "source": [
    "Now let's try `hgetall`."
   ]
  },
  {
   "cell_type": "code",
   "execution_count": 14,
   "id": "f6da8346-6dd2-4cec-a1d2-01755b055e87",
   "metadata": {},
   "outputs": [
    {
     "name": "stdout",
     "output_type": "stream",
     "text": [
      "cat\n",
      "purr\n",
      "dog\n",
      "bark\n",
      "snake\n",
      "hiss\n",
      "bird\n",
      "tweet\n"
     ]
    }
   ],
   "source": [
    "%%bash\n",
    "redis-cli\n",
    "HGETALL hash-key"
   ]
  },
  {
   "cell_type": "markdown",
   "id": "47150ebe-9df8-492b-bee5-dcbc8d315d00",
   "metadata": {},
   "source": [
    "Well, result may be a bit uncomfortable to read but it has structure like:\n",
    "\n",
    "```\n",
    "<key1>\n",
    "<value1>\n",
    "<key2>\n",
    "<value2>\n",
    "...\n",
    "<keyN>\n",
    "<valueN>\n",
    "```"
   ]
  },
  {
   "cell_type": "markdown",
   "id": "c747e2cd-42c4-4d29-a95f-fc19959a8db2",
   "metadata": {},
   "source": [
    "Don't forget to delete the hash you just created, to ensure the same execution for this example and to exclude useless garbage in our reddis instance."
   ]
  },
  {
   "cell_type": "code",
   "execution_count": 15,
   "id": "9970d8ad-e6c0-4916-8ffb-489d187428a3",
   "metadata": {},
   "outputs": [
    {
     "name": "stdout",
     "output_type": "stream",
     "text": [
      "(integer) 1\n"
     ]
    }
   ],
   "source": [
    "!redis-cli DEL hash-key"
   ]
  },
  {
   "cell_type": "markdown",
   "id": "8e6b31a7-108c-4af2-ad6b-f90c8eb7c0c1",
   "metadata": {},
   "source": [
    "## Zsets\n",
    "\n",
    "Is a data structure where the number (score) corresponds to the value. This allows you to select values by the range of their scores.\n",
    "\n",
    "To show it's functionality we'll need following operations:\n",
    "\n",
    "|Command|What it does|\n",
    "|-------|------------|\n",
    "|`ZADD`|Adds member with get given score to zset|\n",
    "|`ZRANGE`|Fetches the items in the zset from their position in sorted order|\n",
    "\n",
    "This section only describes basic concepts, find out more on the [specific page](redis/zset.ipynb)."
   ]
  },
  {
   "cell_type": "markdown",
   "id": "5fcab317-aaac-4b25-bcb8-b13cf0da5d33",
   "metadata": {},
   "source": [
    "Ok let's have experiments with this structure. Here we have zset that ranges aminal acording to their weights. For this we can use syntax `zadd <zset-name> <score1> <value1> <score2> <value2> ... <scoreN> <valueN>`"
   ]
  },
  {
   "cell_type": "code",
   "execution_count": 16,
   "id": "1ad47786-31f1-4d54-9856-126338564fec",
   "metadata": {},
   "outputs": [
    {
     "name": "stdout",
     "output_type": "stream",
     "text": [
      "1\n",
      "1\n",
      "1\n",
      "1\n",
      "1\n",
      "0\n",
      "0\n",
      "1\n"
     ]
    }
   ],
   "source": [
    "%%bash\n",
    "redis-cli\n",
    "\n",
    "ZADD animal-weights 50 elephant\n",
    "ZADD animal-weights 20 lion\n",
    "ZADD animal-weights 30 giraffe\n",
    "ZADD animal-weights 10 cheetah\n",
    "ZADD animal-weights 50 rhinoceros\n",
    "ZADD animal-weights 30 giraffe\n",
    "ZADD animal-weights 25 lion\n",
    "ZADD animal-weights 20 tiger"
   ]
  },
  {
   "cell_type": "markdown",
   "id": "d5577b41-087e-4f03-895c-08f29d22dfd8",
   "metadata": {},
   "source": [
    "It's output is 1 every time I add a new value, but scores can be repeated as often as you like."
   ]
  },
  {
   "cell_type": "markdown",
   "id": "4f4833c3-3ee5-4365-be2c-278c89cb3211",
   "metadata": {},
   "source": [
    "Now let us try to apply `zrange` to the zset under consideration:"
   ]
  },
  {
   "cell_type": "code",
   "execution_count": 17,
   "id": "6bb1ce2d-9077-40f2-abe0-ded4eb719cd2",
   "metadata": {},
   "outputs": [
    {
     "name": "stdout",
     "output_type": "stream",
     "text": [
      "cheetah\n",
      "tiger\n",
      "lion\n",
      "giraffe\n",
      "elephant\n",
      "rhinoceros\n"
     ]
    }
   ],
   "source": [
    "%%bash\n",
    "redis-cli\n",
    "ZRANGE animal-weights 0 -1"
   ]
  },
  {
   "cell_type": "markdown",
   "id": "da5b11eb-9b7a-49d4-9c0a-ae9e229a573d",
   "metadata": {},
   "source": [
    "We have all the values that we tried to add once. In order of increasing scores. **Note** that `rhinoceros` have the same score as `elephant` but it diaplyed later because it was added later."
   ]
  },
  {
   "cell_type": "markdown",
   "id": "098533f6-6cc7-42f4-bea5-bdb79c8ed94b",
   "metadata": {},
   "source": [
    "Don't forget to delete the zset you just created, to ensure the same execution for this example and to exclude useless garbage in our reddis instance."
   ]
  },
  {
   "cell_type": "code",
   "execution_count": 18,
   "id": "26e054c8-a5a3-4993-bdd6-1b1a5b16395d",
   "metadata": {},
   "outputs": [
    {
     "name": "stdout",
     "output_type": "stream",
     "text": [
      "(integer) 1\n"
     ]
    }
   ],
   "source": [
    "!redis-cli DEL animal-weights"
   ]
  }
 ],
 "metadata": {
  "kernelspec": {
   "display_name": "Python 3 (ipykernel)",
   "language": "python",
   "name": "python3"
  },
  "language_info": {
   "codemirror_mode": {
    "name": "ipython",
    "version": 3
   },
   "file_extension": ".py",
   "mimetype": "text/x-python",
   "name": "python",
   "nbconvert_exporter": "python",
   "pygments_lexer": "ipython3",
   "version": "3.10.12"
  }
 },
 "nbformat": 4,
 "nbformat_minor": 5
}
