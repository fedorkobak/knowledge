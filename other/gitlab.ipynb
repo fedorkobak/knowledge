{
 "cells": [
  {
   "cell_type": "markdown",
   "metadata": {},
   "source": [
    "# Gitlab\n",
    "\n",
    "This page focuses on configuring and exploring the options in GitLab."
   ]
  },
  {
   "cell_type": "markdown",
   "metadata": {},
   "source": [
    "## Running\n",
    "\n",
    "We are moving away from the usual paradigm of deploying a separate container for each notebook. Here, it is assumed that GitLab is deployed with a command line. The following cell shows how to run the GitLab server. For more details on running, check [Configure GitLab running in a Docker container](https://docs.gitlab.com/ee/install/docker/configuration.html)."
   ]
  },
  {
   "cell_type": "markdown",
   "metadata": {},
   "source": [
    "Crucial here is `GITLAB_OMNIBUS_CONFIG` environment variable - it allows you to set up the configuration of GitLab. In this case, it simply sets the default password for the root user."
   ]
  },
  {
   "cell_type": "code",
   "execution_count": 2,
   "metadata": {
    "vscode": {
     "languageId": "shellscript"
    }
   },
   "outputs": [
    {
     "name": "stdout",
     "output_type": "stream",
     "text": [
      "391f795aa6e102f86a0e809c1280c967a004b2e7c074904ac731a3977c8c2552\n"
     ]
    }
   ],
   "source": [
    "docker run \\\n",
    "    -p 80:80 --name gitlab --rm -d \\\n",
    "    -e GITLAB_OMNIBUS_CONFIG=\"gitlab_rails['initial_root_password'] = \\\"wow_wow_wow\\\";\" \\\n",
    "    gitlab/gitlab-ce"
   ]
  },
  {
   "cell_type": "markdown",
   "metadata": {},
   "source": [
    "After a while, you can access your GitLab server using the following credentials:\n",
    "\n",
    "- **user**: root\n",
    "- **password**: wow_wow_wow"
   ]
  }
 ],
 "metadata": {
  "kernelspec": {
   "display_name": "Bash",
   "language": "bash",
   "name": "bash"
  },
  "language_info": {
   "codemirror_mode": "shell",
   "file_extension": ".sh",
   "mimetype": "text/x-sh",
   "name": "bash"
  }
 },
 "nbformat": 4,
 "nbformat_minor": 2
}
