{
 "cells": [
  {
   "cell_type": "markdown",
   "metadata": {},
   "source": [
    "# Gitlab\n",
    "\n",
    "This page focuses on configuring and exploring the options in GitLab."
   ]
  },
  {
   "cell_type": "markdown",
   "metadata": {},
   "source": [
    "We're moving away from the usual paradigm where in each notebook we deploy a separate new container for the purposes of that notebook, here it's assumed that gitlab is deployed with a command line."
   ]
  },
  {
   "cell_type": "code",
   "execution_count": null,
   "metadata": {
    "vscode": {
     "languageId": "shellscript"
    }
   },
   "outputs": [],
   "source": [
    "docker run -p 80:80 --name gitlab --rm -d gitlab/gitlab-ce"
   ]
  },
  {
   "cell_type": "markdown",
   "metadata": {},
   "source": [
    "For some reasons previous command usully don't allow to turn gitlab up you need to run.\n",
    "\n",
    "```bash\n",
    "docker exec -it gitlab update-permissions\n",
    "docker restart gitlab\n",
    "```\n",
    "\n",
    "Then you need to configre root user - you'll be able to enter your gitlab.\n",
    "\n",
    "```bash\n",
    "docker exec -it gitlab gitlab-rails console\n",
    "```\n",
    "\n",
    "After waiting for some time enter following script:\n",
    "\n",
    "```ruby\n",
    "user = User.find_by(username: 'root')\n",
    "user.password = 'turbo_super'\n",
    "user.password_confirmation = 'turbo_super'\n",
    "user.save!\n",
    "exit\n",
    "```\n",
    "\n",
    "So now you can access your git lab using credentials user - `root`, password - `turbo_super`."
   ]
  }
 ],
 "metadata": {
  "kernelspec": {
   "display_name": "Bash",
   "language": "bash",
   "name": "bash"
  },
  "language_info": {
   "codemirror_mode": "shell",
   "file_extension": ".sh",
   "mimetype": "text/x-sh",
   "name": "bash"
  }
 },
 "nbformat": 4,
 "nbformat_minor": 2
}
