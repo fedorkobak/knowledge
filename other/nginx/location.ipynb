{
 "cells": [
  {
   "cell_type": "markdown",
   "metadata": {},
   "source": [
    "# Location\n",
    "\n",
    "The `location` directive, used within the `server` context, specifies how NGINX should process requests based on the URI.\n",
    "\n",
    "More in [correspoding section](http://nginx.org/en/docs/http/ngx_http_core_module.html#location) of the official documentation."
   ]
  },
  {
   "cell_type": "code",
   "execution_count": 1,
   "metadata": {},
   "outputs": [],
   "source": [
    "import os\n",
    "import docker\n",
    "import requests\n",
    "\n",
    "docker_client = docker.DockerClient()"
   ]
  },
  {
   "cell_type": "markdown",
   "metadata": {},
   "source": [
    "## Setup\n",
    "\n",
    "It turns out that it's quite a complex task to build examples that show how everything works, so this section describes what we need to show everything. In summary, we need\n",
    "\n",
    "- Proxied server - server where we'll redirect requests to nginx.\n",
    "- And nginx, which can be configured differently for different examples."
   ]
  },
  {
   "cell_type": "markdown",
   "metadata": {},
   "source": [
    "### Network\n",
    "\n",
    "We need a way to connect containers between each other - so we're going to create a network that will be used for container communication."
   ]
  },
  {
   "cell_type": "code",
   "execution_count": 2,
   "metadata": {},
   "outputs": [],
   "source": [
    "network = docker_client.networks.create(name = \"test_network\")"
   ]
  },
  {
   "cell_type": "markdown",
   "metadata": {},
   "source": [
    "### Proxied server\n",
    "\n",
    "Here is the simplest possible http server in Python. It's purpose is just to return it's input as raw text - so we can check what was sent to the server."
   ]
  },
  {
   "cell_type": "code",
   "execution_count": 3,
   "metadata": {},
   "outputs": [
    {
     "name": "stdout",
     "output_type": "stream",
     "text": [
      "Overwriting location_files/proxy_set_header.py\n"
     ]
    }
   ],
   "source": [
    "%%writefile location_files/proxy_set_header.py\n",
    "import http.server\n",
    "import socketserver\n",
    "\n",
    "class RequestHandler(http.server.BaseHTTPRequestHandler):\n",
    "    def do_GET(self):\n",
    "        self.send_response(200)\n",
    "        self.send_header(\"Content-type\", \"text/plain\")\n",
    "        self.end_headers()\n",
    "        self.wfile.write(b\"Server received your GET request\\n\")\n",
    "        self.wfile.write(b\"Raw request data:\\n\\n\")\n",
    "        self.wfile.write(self.raw_requestline)\n",
    "        self.wfile.write(b\"\\nHeaders:\\n\")\n",
    "        self.wfile.write(bytes(str(self.headers), \"utf-8\"))\n",
    "\n",
    "PORT = 7890\n",
    "with socketserver.TCPServer((\"\", PORT), RequestHandler) as httpd:\n",
    "    print(\"Serving at port\", PORT)\n",
    "    httpd.serve_forever()"
   ]
  },
  {
   "cell_type": "markdown",
   "metadata": {},
   "source": [
    "For standardisation purposes, we'll run this server in the docker container."
   ]
  },
  {
   "cell_type": "code",
   "execution_count": 4,
   "metadata": {},
   "outputs": [],
   "source": [
    "client_container = docker_client.containers.run(\n",
    "    image = \"python:3.10-alpine\",\n",
    "    volumes = {\n",
    "        f\"{os.getcwd()}/location_files/proxy_set_header.py\": \n",
    "        {'bind': '/proxy_set_header.py', 'mode': 'rw'}\n",
    "    },\n",
    "    command = \"python proxy_set_header.py\",\n",
    "    ports = {7890: 7890},\n",
    "    detach = True,\n",
    "    remove = True,\n",
    "    network = network.name,\n",
    "    name = \"client_container\"\n",
    ")"
   ]
  },
  {
   "cell_type": "markdown",
   "metadata": {},
   "source": [
    "The next cell shows how it works - it sends a request to the server we created. And for example, we'll add some headers to the request."
   ]
  },
  {
   "cell_type": "code",
   "execution_count": 5,
   "metadata": {},
   "outputs": [
    {
     "name": "stdout",
     "output_type": "stream",
     "text": [
      "Server received your GET request\n",
      "Raw request data:\n",
      "\n",
      "GET / HTTP/1.1\n",
      "\n",
      "Headers:\n",
      "Host: localhost:7890\n",
      "User-Agent: python-requests/2.31.0\n",
      "Accept-Encoding: gzip, deflate\n",
      "Accept: */*\n",
      "Connection: keep-alive\n",
      "my_field: my_value\n",
      "\n",
      "\n"
     ]
    }
   ],
   "source": [
    "print(\n",
    "    requests.get(\n",
    "        \"http://localhost:7890\", \n",
    "        headers={\"my_field\": \"my_value\"}\n",
    "    ).content.decode(\"utf-8\")\n",
    ")"
   ]
  },
  {
   "cell_type": "markdown",
   "metadata": {},
   "source": [
    "As a result we got raw GET HTTP request and there is defined by us header field in the output."
   ]
  },
  {
   "cell_type": "markdown",
   "metadata": {},
   "source": [
    "### Nginx\n",
    "\n",
    "Now we configure nginx. It's config can be changed, but by default it will forward requests to it root to the http server we created earlier."
   ]
  },
  {
   "cell_type": "code",
   "execution_count": 6,
   "metadata": {},
   "outputs": [
    {
     "name": "stdout",
     "output_type": "stream",
     "text": [
      "Overwriting location_files/nginx.conf\n"
     ]
    }
   ],
   "source": [
    "%%writefile location_files/nginx.conf\n",
    "events {}\n",
    "http {\n",
    "    server {\n",
    "        listen 80;\n",
    "        location / {proxy_pass \"http://client_container:7890\";}\n",
    "    }\n",
    "}"
   ]
  },
  {
   "cell_type": "markdown",
   "metadata": {},
   "source": [
    "And we run docker container with nginx on the same network as our client http server."
   ]
  },
  {
   "cell_type": "code",
   "execution_count": 7,
   "metadata": {},
   "outputs": [],
   "source": [
    "nginx_container = docker_client.containers.run(\n",
    "    image = \"nginx\",\n",
    "    volumes = {\n",
    "        f\"{os.getcwd()}/location_files/nginx.conf\": \n",
    "        {'bind': '/etc/nginx/nginx.conf', 'mode': 'rw'}\n",
    "    },\n",
    "    ports = {80: 80},\n",
    "    detach = True,\n",
    "    remove = True,\n",
    "    network = network.name\n",
    ")"
   ]
  },
  {
   "cell_type": "markdown",
   "metadata": {},
   "source": [
    "Now let's see how it works by sending a request to the `localhost:80` that nginx will proxy to the http server."
   ]
  },
  {
   "cell_type": "code",
   "execution_count": 8,
   "metadata": {},
   "outputs": [
    {
     "name": "stdout",
     "output_type": "stream",
     "text": [
      "Server received your GET request\n",
      "Raw request data:\n",
      "\n",
      "GET / HTTP/1.0\n",
      "\n",
      "Headers:\n",
      "Host: client_container:7890\n",
      "Connection: close\n",
      "User-Agent: python-requests/2.31.0\n",
      "Accept-Encoding: gzip, deflate\n",
      "Accept: */*\n",
      "\n",
      "\n"
     ]
    }
   ],
   "source": [
    "print(\n",
    "    requests.get(\n",
    "        \"http://localhost:80\", \n",
    "        headers={\"my_field\": \"my_value\"}\n",
    "    ).content.decode(\"utf-8\")\n",
    ")"
   ]
  },
  {
   "cell_type": "markdown",
   "metadata": {},
   "source": [
    "We got the same output as if we had just requested the http server."
   ]
  },
  {
   "cell_type": "markdown",
   "metadata": {},
   "source": [
    "### Clear environment\n",
    "\n",
    "To avoid a lot of rubbish in your environment, you need to delete the containers you have created."
   ]
  },
  {
   "cell_type": "code",
   "execution_count": 9,
   "metadata": {},
   "outputs": [],
   "source": [
    "client_container.stop()\n",
    "nginx_container.stop()\n",
    "network.remove()"
   ]
  },
  {
   "cell_type": "markdown",
   "metadata": {},
   "source": [
    "## Headers to proxied server (`proxy_set_header`)\n",
    "\n",
    "Allows redefining or appending fields to the request header passed to the proxied server. You can add aditional headers to the http request that will be sent to the destination server."
   ]
  },
  {
   "cell_type": "code",
   "execution_count": 8,
   "metadata": {},
   "outputs": [
    {
     "name": "stdout",
     "output_type": "stream",
     "text": [
      "<html>\n",
      "<head><title>502 Bad Gateway</title></head>\n",
      "<body>\n",
      "<center><h1>502 Bad Gateway</h1></center>\n",
      "<hr><center>nginx/1.27.0</center>\n",
      "</body>\n",
      "</html>\n",
      "\n"
     ]
    }
   ],
   "source": [
    "print(\n",
    "    requests\n",
    "    .get(\"http://localhost:80\")\n",
    "    .content.decode(\"utf-8\")\n",
    ")"
   ]
  }
 ],
 "metadata": {
  "kernelspec": {
   "display_name": "Python 3",
   "language": "python",
   "name": "python3"
  },
  "language_info": {
   "codemirror_mode": {
    "name": "ipython",
    "version": 3
   },
   "file_extension": ".py",
   "mimetype": "text/x-python",
   "name": "python",
   "nbconvert_exporter": "python",
   "pygments_lexer": "ipython3",
   "version": "3.10.12"
  }
 },
 "nbformat": 4,
 "nbformat_minor": 2
}
