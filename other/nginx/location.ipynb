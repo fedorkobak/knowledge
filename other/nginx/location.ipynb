{
 "cells": [
  {
   "cell_type": "markdown",
   "metadata": {},
   "source": [
    "# Location\n",
    "\n",
    "The `location` directive, used within the `server` context, specifies how NGINX should process requests based on the URI.\n",
    "\n",
    "More in [correspoding section](http://nginx.org/en/docs/http/ngx_http_core_module.html#location) of the official documentation."
   ]
  },
  {
   "cell_type": "code",
   "execution_count": 1,
   "metadata": {},
   "outputs": [],
   "source": [
    "import os\n",
    "import docker\n",
    "import requests\n",
    "\n",
    "docker_client = docker.DockerClient()"
   ]
  },
  {
   "cell_type": "markdown",
   "metadata": {},
   "source": [
    "## Setup\n",
    "\n",
    "It turns out that it's quite a complex task to build examples that show how everything works, so this section describes what we need to show everything. In summary, we need\n",
    "\n",
    "- Proxied server - server where we'll redirect requests to nginx.\n",
    "- And nginx, which can be configured differently for different examples."
   ]
  },
  {
   "cell_type": "markdown",
   "metadata": {},
   "source": [
    "### Network\n",
    "\n",
    "We need a way to connect containers between each other - so we're going to create a network that will be used for container communication."
   ]
  },
  {
   "cell_type": "code",
   "execution_count": 2,
   "metadata": {},
   "outputs": [],
   "source": [
    "network = docker_client.networks.create(name = \"test_network\")"
   ]
  },
  {
   "cell_type": "markdown",
   "metadata": {},
   "source": [
    "### Proxied server\n",
    "\n",
    "As a proxy server, we'll use httpbin - an http pseudo-server that allows us to study the requests sent to it."
   ]
  },
  {
   "cell_type": "code",
   "execution_count": 3,
   "metadata": {},
   "outputs": [],
   "source": [
    "client_container = docker_client.containers.run(\n",
    "    image = \"kennethreitz/httpbin\",\n",
    "    detach = True,\n",
    "    remove = True,\n",
    "    name=\"client_container\",\n",
    "    network = network.name\n",
    ")"
   ]
  },
  {
   "cell_type": "markdown",
   "metadata": {},
   "source": [
    "### Nginx\n",
    "\n",
    "Now we configure nginx. It's config can be changed, but by default it will forward requests to it root to the http server we created earlier."
   ]
  },
  {
   "cell_type": "code",
   "execution_count": 4,
   "metadata": {},
   "outputs": [
    {
     "name": "stdout",
     "output_type": "stream",
     "text": [
      "Overwriting location_files/nginx.conf\n"
     ]
    }
   ],
   "source": [
    "%%writefile location_files/nginx.conf\n",
    "events {}\n",
    "http {\n",
    "    server {\n",
    "        listen 80;\n",
    "        location / {proxy_pass \"http://client_container\";}\n",
    "    }\n",
    "}"
   ]
  },
  {
   "cell_type": "markdown",
   "metadata": {},
   "source": [
    "And we run docker container with nginx on the same network as our client http server."
   ]
  },
  {
   "cell_type": "code",
   "execution_count": 5,
   "metadata": {},
   "outputs": [],
   "source": [
    "nginx_container = docker_client.containers.run(\n",
    "    image = \"nginx\",\n",
    "    volumes = {\n",
    "        f\"{os.getcwd()}/location_files/nginx.conf\": \n",
    "        {'bind': '/etc/nginx/nginx.conf', 'mode': 'rw'}\n",
    "    },\n",
    "    ports = {80: 80},\n",
    "    detach = True,\n",
    "    remove = True,\n",
    "    network = network.name\n",
    ")"
   ]
  },
  {
   "cell_type": "markdown",
   "metadata": {},
   "source": [
    "### Clear environment\n",
    "\n",
    "To avoid a lot of rubbish in your environment, you need to delete the containers you have created."
   ]
  },
  {
   "cell_type": "code",
   "execution_count": 6,
   "metadata": {},
   "outputs": [],
   "source": [
    "client_container.stop()\n",
    "nginx_container.stop()\n",
    "network.remove()"
   ]
  },
  {
   "cell_type": "markdown",
   "metadata": {},
   "source": [
    "## Headers to server (`proxy_set_header`)\n",
    "\n",
    "Allows redefining or appending fields to the request header passed to the proxied server. You can add aditional headers to the http request that will be sent to the destination server. So by using syntax `proxy_set_header <header field> <value>;`."
   ]
  },
  {
   "cell_type": "markdown",
   "metadata": {},
   "source": [
    "The following example changes the nginx config to add two new fields to the http header `Name` and `SecondName`."
   ]
  },
  {
   "cell_type": "code",
   "execution_count": 6,
   "metadata": {},
   "outputs": [
    {
     "name": "stdout",
     "output_type": "stream",
     "text": [
      "Overwriting location_files/nginx.conf\n"
     ]
    }
   ],
   "source": [
    "%%writefile location_files/nginx.conf\n",
    "events {}\n",
    "http {\n",
    "    server {\n",
    "        listen 80;\n",
    "        location / {\n",
    "            proxy_pass \"http://client_container/headers\";\n",
    "            proxy_set_header Name Fedor;\n",
    "            proxy_set_header SecondName Kobak;\n",
    "        }\n",
    "    }\n",
    "}"
   ]
  },
  {
   "cell_type": "markdown",
   "metadata": {},
   "source": [
    "After reloading nginx, we need to try sending the request to the original server and then to nginx."
   ]
  },
  {
   "cell_type": "code",
   "execution_count": 7,
   "metadata": {},
   "outputs": [
    {
     "name": "stdout",
     "output_type": "stream",
     "text": [
      "=====Original request=====\n",
      "{\n",
      "  \"headers\": {\n",
      "    \"Accept\": \"*/*\", \n",
      "    \"Accept-Encoding\": \"gzip, deflate\", \n",
      "    \"Connection\": \"close\", \n",
      "    \"Host\": \"client_container\", \n",
      "    \"User-Agent\": \"python-requests/2.31.0\"\n",
      "  }\n",
      "}\n",
      "\n",
      "=====Proxied request=====\n",
      "{\n",
      "  \"headers\": {\n",
      "    \"Accept\": \"*/*\", \n",
      "    \"Accept-Encoding\": \"gzip, deflate\", \n",
      "    \"Connection\": \"close\", \n",
      "    \"Host\": \"client_container\", \n",
      "    \"Name\": \"Fedor\", \n",
      "    \"Secondname\": \"Kobak\", \n",
      "    \"User-Agent\": \"python-requests/2.31.0\"\n",
      "  }\n",
      "}\n",
      "\n"
     ]
    }
   ],
   "source": [
    "ans = nginx_container.exec_run(\"nginx -s reload\")\n",
    "\n",
    "print(\"=====Original request=====\")\n",
    "print(\n",
    "    requests.get(\"http://localhost/headers\").content.decode(\"utf-8\")\n",
    ")\n",
    "print(\"=====Proxied request=====\")\n",
    "print(\n",
    "    requests.get(\"http://localhost:80\").content.decode(\"utf-8\")\n",
    ")"
   ]
  },
  {
   "cell_type": "markdown",
   "metadata": {},
   "source": [
    "If you compare the output of the original and proxied requests, you can see that the proxied requests have additional headers - just as we specified in the nginx configuration."
   ]
  }
 ],
 "metadata": {
  "kernelspec": {
   "display_name": "Python 3",
   "language": "python",
   "name": "python3"
  },
  "language_info": {
   "codemirror_mode": {
    "name": "ipython",
    "version": 3
   },
   "file_extension": ".py",
   "mimetype": "text/x-python",
   "name": "python",
   "nbconvert_exporter": "python",
   "pygments_lexer": "ipython3",
   "version": "3.10.12"
  }
 },
 "nbformat": 4,
 "nbformat_minor": 2
}
