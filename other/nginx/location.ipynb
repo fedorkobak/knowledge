{
 "cells": [
  {
   "cell_type": "markdown",
   "metadata": {},
   "source": [
    "# Location\n",
    "\n",
    "The `location` directive, used within the `server` context, specifies how NGINX should process requests based on the URI.\n",
    "\n",
    "More in [correspoding section](http://nginx.org/en/docs/http/ngx_http_core_module.html#location) of the official documentation."
   ]
  },
  {
   "cell_type": "markdown",
   "metadata": {},
   "source": [
    "## Setup\n",
    "\n",
    "It turns out that it's quite a complex task to build examples that show how everything works, so this section describes what we need to show everything. In summary, we need\n",
    "\n",
    "- Proxied server - server where we'll redirect requests to nginx.\n",
    "- And nginx, which can be configured differently for different examples.\n",
    "- A network that connects containers."
   ]
  },
  {
   "cell_type": "markdown",
   "metadata": {},
   "source": [
    "The following cell creates a Docker Compose file that satisfies all these requirements."
   ]
  },
  {
   "cell_type": "code",
   "execution_count": 20,
   "metadata": {
    "vscode": {
     "languageId": "shellscript"
    }
   },
   "outputs": [],
   "source": [
    "cat << EOF > location_files/docker-compose.yml\n",
    "services:\n",
    "  proxied:\n",
    "    image: kennethreitz/httpbin\n",
    "    container_name: client_container\n",
    "    ports: \n",
    "      - 81:80\n",
    "  nginx:\n",
    "    image: nginx\n",
    "    container_name: experiment_nginx\n",
    "    volumes:\n",
    "      - ./nginx.conf:/etc/nginx/nginx.conf\n",
    "    ports: \n",
    "      - 80:80\n",
    "EOF"
   ]
  },
  {
   "cell_type": "markdown",
   "metadata": {},
   "source": [
    "The following cell runs applications."
   ]
  },
  {
   "cell_type": "code",
   "execution_count": 21,
   "metadata": {
    "vscode": {
     "languageId": "shellscript"
    }
   },
   "outputs": [],
   "source": [
    "docker compose -f location_files/docker-compose.yml up -d &> /dev/null"
   ]
  },
  {
   "cell_type": "markdown",
   "metadata": {},
   "source": [
    "**Note** Don't forget to clear the environment."
   ]
  },
  {
   "cell_type": "code",
   "execution_count": 15,
   "metadata": {
    "vscode": {
     "languageId": "shellscript"
    }
   },
   "outputs": [],
   "source": [
    "docker compose -f location_files/docker-compose.yml down &> /dev/null"
   ]
  },
  {
   "cell_type": "markdown",
   "metadata": {},
   "source": [
    "## URI matching\n",
    "\n",
    "The `location` directive has an argument that specifies rules for which URI to match in which context. This section considers several options."
   ]
  },
  {
   "cell_type": "markdown",
   "metadata": {},
   "source": [
    "---\n",
    "\n",
    "In the following example, nginx config defines two locations:  `/pattern` and `/pattern/` URIs. By looking at the output, you can see exactly which location was triggered. They're almost the same, but you'll see that they match the different cases."
   ]
  },
  {
   "cell_type": "code",
   "execution_count": 22,
   "metadata": {
    "vscode": {
     "languageId": "shellscript"
    }
   },
   "outputs": [
    {
     "name": "stdout",
     "output_type": "stream",
     "text": [
      "2024/09/05 09:13:54 [notice] 30#30: signal process started\n"
     ]
    }
   ],
   "source": [
    "cat << EOF > location_files/nginx.conf\n",
    "events {}\n",
    "http {\n",
    "    server {\n",
    "        listen 80;\n",
    "        \n",
    "        location /pattern {\n",
    "            return 200 \"location 1 - I use /pattern\";\n",
    "        }\n",
    "\n",
    "        location /pattern/ {\n",
    "            return 200 \"location 2 - I use /pattern/\";\n",
    "        }\n",
    "    }\n",
    "}\n",
    "EOF\n",
    "\n",
    "docker exec -it experiment_nginx nginx -s reload"
   ]
  },
  {
   "cell_type": "markdown",
   "metadata": {},
   "source": [
    "Now we can request different URIs from nginx and see what exactly has been triggered."
   ]
  },
  {
   "cell_type": "markdown",
   "metadata": {},
   "source": [
    "The following example shows what happens when you access `/pattern` (no `/` at the end of the command)."
   ]
  },
  {
   "cell_type": "code",
   "execution_count": 23,
   "metadata": {
    "vscode": {
     "languageId": "shellscript"
    }
   },
   "outputs": [
    {
     "name": "stdout",
     "output_type": "stream",
     "text": [
      "location 1 - I use /pattern\n"
     ]
    }
   ],
   "source": [
    "curl -L http://localhost:80/pattern"
   ]
  },
  {
   "cell_type": "markdown",
   "metadata": {},
   "source": [
    "The next cell shows what happens when you access `/pattern/wow` (we use an additional path segment)."
   ]
  },
  {
   "cell_type": "code",
   "execution_count": 24,
   "metadata": {
    "vscode": {
     "languageId": "shellscript"
    }
   },
   "outputs": [
    {
     "name": "stdout",
     "output_type": "stream",
     "text": [
      "location 2 - I use /pattern/\n"
     ]
    }
   ],
   "source": [
    "curl -L http://localhost:80/pattern/wow"
   ]
  },
  {
   "cell_type": "markdown",
   "metadata": {},
   "source": [
    "## Proxy pass\n",
    "\n",
    "Find out more in:\n",
    "\n",
    "- The special [section of the official documentation](https://nginx.org/en/docs/http/ngx_http_proxy_module.html#proxy_pass).\n",
    "- [Specific page](location/proxy_pass.ipynb) on this site.\n",
    "\n",
    "`proxy_path` in nginx specify the URL of the proxied service. This would be a URL that nginx will request."
   ]
  },
  {
   "cell_type": "markdown",
   "metadata": {},
   "source": [
    "---\n",
    "\n",
    "The following example defines `location /recsys` and ties to it `http://client_container/anything/config/`. "
   ]
  },
  {
   "cell_type": "code",
   "execution_count": 25,
   "metadata": {
    "vscode": {
     "languageId": "shellscript"
    }
   },
   "outputs": [
    {
     "name": "stdout",
     "output_type": "stream",
     "text": [
      "2024/09/05 09:14:13 [notice] 37#37: signal process started\n"
     ]
    }
   ],
   "source": [
    "cat << EOF > location_files/nginx.conf\n",
    "events {}\n",
    "http {\n",
    "    server {\n",
    "        listen 80;\n",
    "        location /recsys {\n",
    "            proxy_pass \"http://client_container/anything/config/\";\n",
    "        }\n",
    "    }\n",
    "}\n",
    "EOF\n",
    "\n",
    "docker exec -it experiment_nginx nginx -s reload"
   ]
  },
  {
   "cell_type": "markdown",
   "metadata": {},
   "source": [
    "The following cell demonstrates a request to the `<nginx address>/recsys/...`, which uses httpbin to display the result of the request."
   ]
  },
  {
   "cell_type": "code",
   "execution_count": 26,
   "metadata": {
    "vscode": {
     "languageId": "shellscript"
    }
   },
   "outputs": [
    {
     "name": "stdout",
     "output_type": "stream",
     "text": [
      "{\n",
      "  \"args\": {}, \n",
      "  \"data\": \"\", \n",
      "  \"files\": {}, \n",
      "  \"form\": {}, \n",
      "  \"headers\": {\n",
      "    \"Accept\": \"*/*\", \n",
      "    \"Connection\": \"close\", \n",
      "    \"Host\": \"client_container\", \n",
      "    \"User-Agent\": \"curl/7.81.0\"\n",
      "  }, \n",
      "  \"json\": null, \n",
      "  \"method\": \"GET\", \n",
      "  \"origin\": \"172.19.0.3\", \n",
      "  \"url\": \"http://client_container/anything/config//101\"\n",
      "}\n"
     ]
    }
   ],
   "source": [
    "curl -L http://localhost:80/recsys/101"
   ]
  },
  {
   "cell_type": "markdown",
   "metadata": {},
   "source": [
    "In the `url` field you can check the exact url that nginx throws to the httpbin."
   ]
  },
  {
   "cell_type": "markdown",
   "metadata": {},
   "source": [
    "## Headers to server (`proxy_set_header`)\n",
    "\n",
    "Allows redefining or appending fields to the request header passed to the proxied server. You can add aditional headers to the http request that will be sent to the destination server. So by using syntax `proxy_set_header <header field> <value>;`."
   ]
  },
  {
   "cell_type": "markdown",
   "metadata": {},
   "source": [
    "---\n",
    "\n",
    "The following example changes the nginx config to add two new fields to the http header `Name` and `SecondName` and reloads nginx."
   ]
  },
  {
   "cell_type": "code",
   "execution_count": 2,
   "metadata": {
    "vscode": {
     "languageId": "shellscript"
    }
   },
   "outputs": [
    {
     "name": "stdout",
     "output_type": "stream",
     "text": [
      "2024/07/23 11:24:34 [notice] 68#68: signal process started\n"
     ]
    }
   ],
   "source": [
    "docker exec -i experiment_nginx sh -c 'cat >  /etc/nginx/nginx.conf' << EOF\n",
    "events {}\n",
    "http {\n",
    "    server {\n",
    "        listen 80;\n",
    "        location / {\n",
    "            proxy_pass \"http://client_container/headers\";\n",
    "            proxy_set_header Name Fedor;\n",
    "            proxy_set_header SecondName Kobak;\n",
    "        }\n",
    "    }\n",
    "}\n",
    "EOF\n",
    "\n",
    "docker exec -it experiment_nginx nginx -s reload"
   ]
  },
  {
   "cell_type": "markdown",
   "metadata": {},
   "source": [
    "First, consider what happens if we just request httpbin directly."
   ]
  },
  {
   "cell_type": "code",
   "execution_count": 3,
   "metadata": {
    "vscode": {
     "languageId": "shellscript"
    }
   },
   "outputs": [
    {
     "name": "stdout",
     "output_type": "stream",
     "text": [
      "{\n",
      "  \"headers\": {\n",
      "    \"Accept\": \"*/*\", \n",
      "    \"Host\": \"localhost:81\", \n",
      "    \"User-Agent\": \"curl/7.81.0\"\n",
      "  }\n",
      "}\n"
     ]
    }
   ],
   "source": [
    "curl http://localhost:81/headers"
   ]
  },
  {
   "cell_type": "markdown",
   "metadata": {},
   "source": [
    "There are no additional headers - just the very basic ones generated by `curl`."
   ]
  },
  {
   "cell_type": "code",
   "execution_count": 4,
   "metadata": {
    "vscode": {
     "languageId": "shellscript"
    }
   },
   "outputs": [
    {
     "name": "stdout",
     "output_type": "stream",
     "text": [
      "{\n",
      "  \"headers\": {\n",
      "    \"Accept\": \"*/*\", \n",
      "    \"Connection\": \"close\", \n",
      "    \"Host\": \"client_container\", \n",
      "    \"Name\": \"Fedor\", \n",
      "    \"Secondname\": \"Kobak\", \n",
      "    \"User-Agent\": \"curl/7.81.0\"\n",
      "  }\n",
      "}\n"
     ]
    }
   ],
   "source": [
    "curl http://localhost:80"
   ]
  },
  {
   "cell_type": "markdown",
   "metadata": {},
   "source": [
    "If you compare the output of the original and proxied requests, you can see that the proxied requests have additional headers - just as we specified in the nginx configuration."
   ]
  }
 ],
 "metadata": {
  "kernelspec": {
   "display_name": "Bash",
   "language": "bash",
   "name": "bash"
  },
  "language_info": {
   "codemirror_mode": "shell",
   "file_extension": ".sh",
   "mimetype": "text/x-sh",
   "name": "bash"
  }
 },
 "nbformat": 4,
 "nbformat_minor": 2
}
