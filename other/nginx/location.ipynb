{
 "cells": [
  {
   "cell_type": "markdown",
   "metadata": {},
   "source": [
    "# Location\n",
    "\n",
    "The `location` directive, used within the `server` context, specifies how NGINX should process requests based on the URI.\n",
    "\n",
    "More in [correspoding section](http://nginx.org/en/docs/http/ngx_http_core_module.html#location) of the official documentation."
   ]
  },
  {
   "cell_type": "markdown",
   "metadata": {},
   "source": [
    "## Setup\n",
    "\n",
    "It turns out that it's quite a complex task to build examples that show how everything works, so this section describes what we need to show everything. In summary, we need\n",
    "\n",
    "- Proxied server - server where we'll redirect requests to nginx.\n",
    "- And nginx, which can be configured differently for different examples."
   ]
  },
  {
   "cell_type": "markdown",
   "metadata": {},
   "source": [
    "### Proxied server\n",
    "\n",
    "Here is the simplest possible http server in Python. It's purpose is just to return it's input as raw text - so we can check what was sent to the server."
   ]
  },
  {
   "cell_type": "code",
   "execution_count": 7,
   "metadata": {},
   "outputs": [
    {
     "name": "stdout",
     "output_type": "stream",
     "text": [
      "Overwriting location_files/proxy_set_header.py\n"
     ]
    }
   ],
   "source": [
    "%%writefile location_files/proxy_set_header.py\n",
    "import http.server\n",
    "import socketserver\n",
    "\n",
    "class RequestHandler(http.server.BaseHTTPRequestHandler):\n",
    "    def do_GET(self):\n",
    "        self.send_response(200)\n",
    "        self.send_header(\"Content-type\", \"text/plain\")\n",
    "        self.end_headers()\n",
    "        self.wfile.write(b\"Server received your GET request\\n\")\n",
    "        self.wfile.write(b\"Raw request data:\\n\\n\")\n",
    "        self.wfile.write(self.raw_requestline)\n",
    "        self.wfile.write(b\"\\nHeaders:\\n\")\n",
    "        self.wfile.write(bytes(str(self.headers), \"utf-8\"))\n",
    "\n",
    "PORT = 7890\n",
    "with socketserver.TCPServer((\"\", PORT), RequestHandler) as httpd:\n",
    "    print(\"Serving at port\", PORT)\n",
    "    httpd.serve_forever()"
   ]
  },
  {
   "cell_type": "markdown",
   "metadata": {},
   "source": [
    "For standardisation purposes, we'll run this server in the docker container."
   ]
  },
  {
   "cell_type": "code",
   "execution_count": 16,
   "metadata": {},
   "outputs": [
    {
     "name": "stdout",
     "output_type": "stream",
     "text": [
      "0b8ae6b03af7745cd6c48ad5840f1927137cb23a0ca65f0e34825118504ed8ff\n"
     ]
    }
   ],
   "source": [
    "!docker run --rm -itd -p 7890:7890 \\\n",
    "    --name destination_server \\\n",
    "    -v $(pwd)/location_files/proxy_set_header.py:/proxy_set_header.py \\\n",
    "    python:3.10-alpine python proxy_set_header.py"
   ]
  },
  {
   "cell_type": "markdown",
   "metadata": {},
   "source": [
    "The next cell shows how it works - it sends a request to the server we created. And for example, we'll add some headers to the request."
   ]
  },
  {
   "cell_type": "code",
   "execution_count": 25,
   "metadata": {},
   "outputs": [
    {
     "name": "stdout",
     "output_type": "stream",
     "text": [
      "Server received your GET request\n",
      "Raw request data:\n",
      "\n",
      "GET /my_data HTTP/1.1\n",
      "\n",
      "Headers:\n",
      "Host: localhost:7890\n",
      "User-Agent: python-requests/2.31.0\n",
      "Accept-Encoding: gzip, deflate\n",
      "Accept: */*\n",
      "Connection: keep-alive\n",
      "my_field: my_value\n",
      "\n",
      "\n"
     ]
    }
   ],
   "source": [
    "import requests\n",
    "print(\n",
    "    requests.get(\n",
    "        \"http://localhost:7890/my_data\", \n",
    "        headers={\"my_field\": \"my_value\"}\n",
    "    ).content.decode(\"utf-8\")\n",
    ")"
   ]
  },
  {
   "cell_type": "markdown",
   "metadata": {},
   "source": [
    "As a result we got raw GET HTTP request and there is defined by us header field in the output."
   ]
  },
  {
   "cell_type": "markdown",
   "metadata": {},
   "source": [
    "### Nginx"
   ]
  },
  {
   "cell_type": "code",
   "execution_count": 4,
   "metadata": {},
   "outputs": [
    {
     "name": "stdout",
     "output_type": "stream",
     "text": [
      "Overwriting location_files/nginx.conf\n"
     ]
    }
   ],
   "source": [
    "%%writefile location_files/nginx.conf\n",
    "events {}\n",
    "\n",
    "http {\n",
    "    server {\n",
    "        listen 80;\n",
    "        location / {proxy_pass \"https://google.com/\";}\n",
    "    }\n",
    "}"
   ]
  },
  {
   "cell_type": "code",
   "execution_count": 6,
   "metadata": {},
   "outputs": [
    {
     "name": "stdout",
     "output_type": "stream",
     "text": [
      "b45a4acb471835e9df1afb43ba96cccfc7b5f8b241db4f8505c6734e40caf06a\n"
     ]
    }
   ],
   "source": [
    "!docker run -itd --rm -p 80:80 --name nginx_location \\\n",
    "    -v $(pwd)/location_files/nginx.conf:/etc/nginx/nginx.conf nginx"
   ]
  },
  {
   "cell_type": "code",
   "execution_count": null,
   "metadata": {},
   "outputs": [],
   "source": [
    "!docker stop nginx_location"
   ]
  },
  {
   "cell_type": "markdown",
   "metadata": {},
   "source": [
    "## Headers to proxied server (`proxy_set_header`)\n",
    "\n",
    "Allows redefining or appending fields to the request header passed to the proxied server. You can add aditional headers to the http request that will be sent to the destination server."
   ]
  }
 ],
 "metadata": {
  "kernelspec": {
   "display_name": "Python 3",
   "language": "python",
   "name": "python3"
  },
  "language_info": {
   "codemirror_mode": {
    "name": "ipython",
    "version": 3
   },
   "file_extension": ".py",
   "mimetype": "text/x-python",
   "name": "python",
   "nbconvert_exporter": "python",
   "pygments_lexer": "ipython3",
   "version": "3.10.12"
  }
 },
 "nbformat": 4,
 "nbformat_minor": 2
}
