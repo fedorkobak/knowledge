{
 "cells": [
  {
   "cell_type": "markdown",
   "metadata": {},
   "source": [
    "# Logs\n",
    "\n",
    "This page explores methods to manage logs in Nginx.\n",
    "\n",
    "Nginx provides tools for configuring and handling logs:\n",
    "\n",
    "- `error_log`: Refer to the [official documentation](https://nginx.org/en/docs/ngx_core_module.html#error_log).\n",
    "- `ngx_http_log_module`: Refer to the [documentation page](https://nginx.org/en/docs/http/ngx_http_log_module.html).\n",
    "\n",
    "The following sections detail the features and configurations for effective log management."
   ]
  },
  {
   "cell_type": "code",
   "execution_count": 18,
   "metadata": {
    "vscode": {
     "languageId": "shellscript"
    }
   },
   "outputs": [
    {
     "name": "stdout",
     "output_type": "stream",
     "text": [
      "b9eb474f45b7f35e03f2316626428e11b397171849622cb7f6a30f52798e2515\n"
     ]
    }
   ],
   "source": [
    "docker run -itd --name logs_nginx --rm -p 80:80 nginx"
   ]
  },
  {
   "cell_type": "markdown",
   "metadata": {},
   "source": [
    "Clean the environment from created container."
   ]
  },
  {
   "cell_type": "code",
   "execution_count": 17,
   "metadata": {
    "vscode": {
     "languageId": "shellscript"
    }
   },
   "outputs": [
    {
     "name": "stdout",
     "output_type": "stream",
     "text": [
      "logs_nginx\n"
     ]
    }
   ],
   "source": [
    "docker stop logs_nginx"
   ]
  },
  {
   "cell_type": "markdown",
   "metadata": {},
   "source": [
    "## Several logs\n",
    "\n",
    "You can define multiple files for logs. Each logging configuration is applied to it's context and to all selected contexts, except if a specific logging configuration is defined in a nested context."
   ]
  },
  {
   "cell_type": "markdown",
   "metadata": {},
   "source": [
    "---\n",
    "\n",
    "The following cell defines nginx with two roots. There is a general config for the whole `server` and a specific config for `/my_rote`."
   ]
  },
  {
   "cell_type": "code",
   "execution_count": 19,
   "metadata": {
    "vscode": {
     "languageId": "shellscript"
    }
   },
   "outputs": [
    {
     "name": "stdout",
     "output_type": "stream",
     "text": [
      "2024/12/20 07:22:05 [notice] 68#68: signal process started\n"
     ]
    }
   ],
   "source": [
    "docker exec -i logs_nginx sh -c 'cat >  /etc/nginx/nginx.conf' <<EOF\n",
    "events {}\n",
    "http {server{\n",
    "    access_log /basic_log;\n",
    "    location / {\n",
    "        return 200 \"hello\";\n",
    "    }\n",
    "\n",
    "    location /my_rote {\n",
    "        access_log /my_rote_log;\n",
    "        return 200 \"hello\";\n",
    "    }\n",
    "}}\n",
    "EOF\n",
    "docker exec -i logs_nginx nginx -s reload"
   ]
  },
  {
   "cell_type": "markdown",
   "metadata": {},
   "source": [
    "Now we'll try a requests to that log:"
   ]
  },
  {
   "cell_type": "code",
   "execution_count": 20,
   "metadata": {
    "vscode": {
     "languageId": "shellscript"
    }
   },
   "outputs": [
    {
     "name": "stdout",
     "output_type": "stream",
     "text": [
      "hello\n",
      "hello\n"
     ]
    }
   ],
   "source": [
    "curl localhost:80\n",
    "curl localhost:80/my_rote"
   ]
  },
  {
   "cell_type": "markdown",
   "metadata": {},
   "source": [
    "Both rotes works lets check results in the config."
   ]
  },
  {
   "cell_type": "code",
   "execution_count": 21,
   "metadata": {
    "vscode": {
     "languageId": "shellscript"
    }
   },
   "outputs": [
    {
     "name": "stdout",
     "output_type": "stream",
     "text": [
      "172.17.0.1 - - [20/Dec/2024:07:22:05 +0000] \"GET / HTTP/1.1\" 200 5 \"-\" \"curl/7.81.0\"\n"
     ]
    }
   ],
   "source": [
    "docker exec -it logs_nginx cat /basic_log"
   ]
  },
  {
   "cell_type": "code",
   "execution_count": 22,
   "metadata": {
    "vscode": {
     "languageId": "shellscript"
    }
   },
   "outputs": [
    {
     "name": "stdout",
     "output_type": "stream",
     "text": [
      "172.17.0.1 - - [20/Dec/2024:07:22:05 +0000] \"GET /my_rote HTTP/1.1\" 200 5 \"-\" \"curl/7.81.0\"\n"
     ]
    }
   ],
   "source": [
    "docker exec -it logs_nginx cat /my_rote_log"
   ]
  },
  {
   "cell_type": "markdown",
   "metadata": {},
   "source": [
    "Each file has a record that corresponds to what the log has been configured for."
   ]
  }
 ],
 "metadata": {
  "kernelspec": {
   "display_name": "Bash",
   "language": "bash",
   "name": "bash"
  },
  "language_info": {
   "codemirror_mode": "shell",
   "file_extension": ".sh",
   "mimetype": "text/x-sh",
   "name": "bash"
  }
 },
 "nbformat": 4,
 "nbformat_minor": 2
}
