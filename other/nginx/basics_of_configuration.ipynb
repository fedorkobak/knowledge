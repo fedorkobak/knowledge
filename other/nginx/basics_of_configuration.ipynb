{
 "cells": [
  {
   "cell_type": "markdown",
   "metadata": {},
   "source": [
    "# Configuration files"
   ]
  },
  {
   "cell_type": "code",
   "execution_count": 1,
   "metadata": {
    "vscode": {
     "languageId": "shellscript"
    }
   },
   "outputs": [
    {
     "name": "stdout",
     "output_type": "stream",
     "text": [
      "bc6b0f1da2498fe9873d7cad7372ca82a842a19c8b306e98bddd287b10dfdeee\n"
     ]
    }
   ],
   "source": [
    "docker run -itd --name experiment_nginx --rm -p 80:80 nginx"
   ]
  },
  {
   "cell_type": "markdown",
   "metadata": {},
   "source": [
    "## Validate\n",
    "\n",
    "You can use `nginx -t` syntax to validate the `nginx` config."
   ]
  },
  {
   "cell_type": "markdown",
   "metadata": {},
   "source": [
    "---\n",
    "\n",
    "Suppose we created an nginx config, but made a typo in the word `server`. Let's apply `nginx -t` command in such case:"
   ]
  },
  {
   "cell_type": "code",
   "execution_count": 6,
   "metadata": {
    "vscode": {
     "languageId": "shellscript"
    }
   },
   "outputs": [
    {
     "name": "stdout",
     "output_type": "stream",
     "text": [
      "2024/07/22 08:54:01 [emerg] 101#101: unknown directive \"surver\" in /etc/nginx/nginx.conf:4\n",
      "nginx: [emerg] unknown directive \"surver\" in /etc/nginx/nginx.conf:4\n",
      "nginx: configuration file /etc/nginx/nginx.conf test failed\n"
     ]
    },
    {
     "ename": "",
     "evalue": "1",
     "output_type": "error",
     "traceback": []
    }
   ],
   "source": [
    "docker exec -i experiment_nginx sh -c 'cat >  /etc/nginx/nginx.conf' <<EOF\n",
    "events {}\n",
    "\n",
    "http {\n",
    "    surver { # typo!\n",
    "        listen 80;\n",
    "        return 200 \"this is new message from nginx\";\n",
    "    }\n",
    "}\n",
    "EOF\n",
    "\n",
    "docker exec experiment_nginx nginx -t"
   ]
  },
  {
   "cell_type": "markdown",
   "metadata": {},
   "source": [
    "We got the message `configuration file /etc/nginx/nginx.conf test failed` and something like tracings."
   ]
  },
  {
   "cell_type": "markdown",
   "metadata": {},
   "source": [
    "The following cell fixes the error and re-runs `nginx -t`."
   ]
  },
  {
   "cell_type": "code",
   "execution_count": 5,
   "metadata": {
    "vscode": {
     "languageId": "shellscript"
    }
   },
   "outputs": [
    {
     "name": "stdout",
     "output_type": "stream",
     "text": [
      "nginx: the configuration file /etc/nginx/nginx.conf syntax is ok\n",
      "nginx: configuration file /etc/nginx/nginx.conf test is successful\n"
     ]
    }
   ],
   "source": [
    "docker exec -i experiment_nginx sh -c 'cat >  /etc/nginx/nginx.conf' <<EOF\n",
    "events {}\n",
    "\n",
    "http {\n",
    "    server {\n",
    "        listen 80;\n",
    "        return 200 \"this is new message from nginx\";\n",
    "    }\n",
    "}\n",
    "EOF\n",
    "\n",
    "docker exec experiment_nginx nginx -t"
   ]
  },
  {
   "cell_type": "markdown",
   "metadata": {},
   "source": [
    "Now we have `syntax ok` - which means that everything is working fine."
   ]
  }
 ],
 "metadata": {
  "kernelspec": {
   "display_name": "Bash",
   "language": "bash",
   "name": "bash"
  },
  "language_info": {
   "codemirror_mode": "shell",
   "file_extension": ".sh",
   "mimetype": "text/x-sh",
   "name": "bash"
  }
 },
 "nbformat": 4,
 "nbformat_minor": 2
}
