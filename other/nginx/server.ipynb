{
 "cells": [
  {
   "cell_type": "markdown",
   "metadata": {},
   "source": [
    "# Server\n",
    "\n",
    "This section discusses features of the nginx virtual servers that are defined by the `server` directive. Check details in the [corresponding section](https://nginx.org/en/docs/http/ngx_http_core_module.html#server) of the official documentation."
   ]
  },
  {
   "cell_type": "code",
   "execution_count": null,
   "metadata": {
    "vscode": {
     "languageId": "shellscript"
    }
   },
   "outputs": [],
   "source": [
    "docker run -itd --name experiment_nginx --rm -p 80:80 nginx"
   ]
  },
  {
   "cell_type": "markdown",
   "metadata": {},
   "source": [
    "**Note**: Don't forget to stop the example nginx when you are done interacting with it."
   ]
  },
  {
   "cell_type": "code",
   "execution_count": null,
   "metadata": {
    "vscode": {
     "languageId": "shellscript"
    }
   },
   "outputs": [],
   "source": [
    "docker stop experiment_nginx"
   ]
  },
  {
   "cell_type": "markdown",
   "metadata": {},
   "source": [
    "## Server name\n",
    "\n",
    "In your configuration, you can define several `server` directives. To make Nginx understand which server should handle a request, you need to define the `server_name`. Nginx will look at the `Host` HTTP header and use the server whose `server_name` matches the header value."
   ]
  },
  {
   "cell_type": "markdown",
   "metadata": {},
   "source": [
    "---\n",
    "\n",
    "The following cell defines nginx cofig that defines two servers with names: `server1` and `sever2`. Note servers listen the same port."
   ]
  },
  {
   "cell_type": "code",
   "execution_count": null,
   "metadata": {
    "vscode": {
     "languageId": "shellscript"
    }
   },
   "outputs": [
    {
     "name": "stdout",
     "output_type": "stream",
     "text": [
      "2024/09/05 10:14:20 [notice] 68#68: signal process started\n"
     ]
    }
   ],
   "source": [
    "docker exec -i experiment_nginx sh -c 'cat >  /etc/nginx/nginx.conf' <<EOF\n",
    "events {}\n",
    "\n",
    "http {\n",
    "    server {\n",
    "        server_name server1;\n",
    "        listen 80;\n",
    "        return 200 \"message from server1\";\n",
    "    }\n",
    "\n",
    "    server {\n",
    "        server_name server2;\n",
    "        listen 80;\n",
    "        return 200 \"message from server2\";\n",
    "    }\n",
    "}\n",
    "EOF\n",
    "\n",
    "docker exec experiment_nginx nginx -s reload"
   ]
  },
  {
   "cell_type": "markdown",
   "metadata": {},
   "source": [
    "Now let's try to request this server."
   ]
  },
  {
   "cell_type": "code",
   "execution_count": null,
   "metadata": {
    "vscode": {
     "languageId": "shellscript"
    }
   },
   "outputs": [
    {
     "name": "stdout",
     "output_type": "stream",
     "text": [
      "message from server1\n"
     ]
    }
   ],
   "source": [
    "curl localhost:80"
   ]
  },
  {
   "cell_type": "markdown",
   "metadata": {},
   "source": [
    "We received a message from `server1`, indicating that the first defined server has higher priority."
   ]
  },
  {
   "cell_type": "markdown",
   "metadata": {},
   "source": [
    "Let's try the same request but with the `Host: server2` header."
   ]
  },
  {
   "cell_type": "code",
   "execution_count": null,
   "metadata": {
    "vscode": {
     "languageId": "shellscript"
    }
   },
   "outputs": [
    {
     "name": "stdout",
     "output_type": "stream",
     "text": [
      "message from server2\n"
     ]
    }
   ],
   "source": [
    "curl localhost:80 -H \"Host: server2\""
   ]
  },
  {
   "cell_type": "markdown",
   "metadata": {},
   "source": [
    "Now we receive the message specified in the second server."
   ]
  }
 ],
 "metadata": {
  "language_info": {
   "name": "python"
  }
 },
 "nbformat": 4,
 "nbformat_minor": 2
}
