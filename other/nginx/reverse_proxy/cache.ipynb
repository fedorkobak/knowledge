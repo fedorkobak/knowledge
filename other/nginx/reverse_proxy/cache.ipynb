{
 "cells": [
  {
   "cell_type": "markdown",
   "metadata": {},
   "source": [
    "# Cache\n",
    "\n",
    "Nginx provides a caching facility that saves responses from proxied URLs and reuses them later. You can enable and configure it using directives that start with `proxy_cache`. There is a special tutorial on the Nginx website that covers Nginx configuration.\n",
    "\n",
    "There is [a guide for caching](https://blog.nginx.org/blog/nginx-caching-guide#:~:text=The%20proxy_cache_path%20directive%20sets%20the,the%20proxy_cache%20directive%20activates%20it.&text=The%20parameters%20to%20the%20proxy_cache_path,path%2Fto%2Fcache%2F.) at official nginx documentation."
   ]
  },
  {
   "cell_type": "markdown",
   "metadata": {},
   "source": [
    "In the next cell, the setup defined earlier is executed, and we access the root page."
   ]
  },
  {
   "cell_type": "code",
   "execution_count": 45,
   "metadata": {
    "vscode": {
     "languageId": "shellscript"
    }
   },
   "outputs": [],
   "source": [
    "docker compose -f ../reverse_proxy_files/docker-compose.yml up -d &> /dev/null"
   ]
  },
  {
   "cell_type": "markdown",
   "metadata": {},
   "source": [
    "Don't forget to clean up the environment after everything is done."
   ]
  },
  {
   "cell_type": "code",
   "execution_count": 104,
   "metadata": {
    "vscode": {
     "languageId": "shellscript"
    }
   },
   "outputs": [],
   "source": [
    "docker compose -f ../reverse_proxy_files/docker-compose.yml down &> /dev/null"
   ]
  },
  {
   "cell_type": "markdown",
   "metadata": {},
   "source": [
    "## Expire time\n",
    "\n",
    "You can regulate expiration type through the `proxy_cache_valid` directive. Specify status codes and their expiration times within the `location` directive."
   ]
  },
  {
   "cell_type": "markdown",
   "metadata": {},
   "source": [
    "---\n",
    "\n",
    "The following cell configures Nginx to expire cached responses with a 200 status code after 5 seconds:"
   ]
  },
  {
   "cell_type": "code",
   "execution_count": 88,
   "metadata": {
    "vscode": {
     "languageId": "shellscript"
    }
   },
   "outputs": [
    {
     "name": "stdout",
     "output_type": "stream",
     "text": [
      "2024/09/09 12:57:51 [notice] 130#130: signal process started\n"
     ]
    }
   ],
   "source": [
    "docker exec -i experiment_nginx sh -c 'cat >  /etc/nginx/nginx.conf' << EOF\n",
    "events {}\n",
    "http {\n",
    "\n",
    "    proxy_cache_path /var/cache/nginx/proxy_cache keys_zone=my_cache:10m inactive=3s;\n",
    "\n",
    "    server {\n",
    "        listen 80;\n",
    "        location / {\n",
    "            proxy_cache my_cache;\n",
    "            proxy_cache_valid 200 5s;\n",
    "            proxy_pass http://client_container/bytes/50;\n",
    "        }\n",
    "    }\n",
    "}\n",
    "EOF\n",
    "\n",
    "docker exec -it experiment_nginx nginx -s reload"
   ]
  },
  {
   "cell_type": "markdown",
   "metadata": {},
   "source": [
    "Now let's check if it works—the following cell sends a request to Nginx every second for some time. After a few seconds, the output changes, indicating that the cache has expired and a new response is generated."
   ]
  },
  {
   "cell_type": "code",
   "execution_count": 103,
   "metadata": {
    "vscode": {
     "languageId": "shellscript"
    }
   },
   "outputs": [
    {
     "name": "stdout",
     "output_type": "stream",
     "text": [
      ">�E�V��9���`��Wè�o6F��A(ف��/�^f�{)�2\u0001�'��`�]�)��\n",
      ">�E�V��9���`��Wè�o6F��A(ف��/�^f�{)�2\u0001�'��`�]�)��\n",
      ">�E�V��9���`��Wè�o6F��A(ف��/�^f�{)�2\u0001�'��`�]�)��\n",
      ">�E�V��9���`��Wè�o6F��A(ف��/�^f�{)�2\u0001�'��`�]�)��\n",
      ">�E�V��9���`��Wè�o6F��A(ف��/�^f�{)�2\u0001�'��`�]�)��\n",
      ">�E�V��9���`��Wè�o6F��A(ف��/�^f�{)�2\u0001�'��`�]�)��\n",
      "��\u000b͹�Fg��-�4P@���BY�\u000fb����Q��ψv\u0010�P����6\u0005٘�c��r\n",
      "��\u000b͹�Fg��-�4P@���BY�\u000fb����Q��ψv\u0010�P����6\u0005٘�c��r\n",
      "��\u000b͹�Fg��-�4P@���BY�\u000fb����Q��ψv\u0010�P����6\u0005٘�c��r\n",
      "��\u000b͹�Fg��-�4P@���BY�\u000fb����Q��ψv\u0010�P����6\u0005٘�c��r\n"
     ]
    }
   ],
   "source": [
    "for i in {1..10}; do\n",
    "    echo $(curl -s localhost:80/ | tr -d '\\0')\n",
    "    sleep 1\n",
    "done"
   ]
  }
 ],
 "metadata": {
  "kernelspec": {
   "display_name": "Bash",
   "language": "bash",
   "name": "bash"
  },
  "language_info": {
   "codemirror_mode": "shell",
   "file_extension": ".sh",
   "mimetype": "text/x-sh",
   "name": "bash"
  }
 },
 "nbformat": 4,
 "nbformat_minor": 2
}
