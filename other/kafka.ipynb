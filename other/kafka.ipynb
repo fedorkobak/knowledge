{
 "cells": [
  {
   "cell_type": "markdown",
   "id": "0b70efd0",
   "metadata": {
    "vscode": {
     "languageId": "plaintext"
    }
   },
   "source": [
    "# Kafka\n",
    "\n",
    "Run the Kafka container using the following command:\n",
    "\n",
    "```bash\n",
    "docker run -p 9092:9092 -itd --name experimenting_kafka -v ./:/knowledge apache/kafka:4.0.0\n",
    "```\n",
    "\n",
    "In order to run notebooks, you are supposed to intsall python with some additional packages:\n",
    "\n",
    "```bash\n",
    "docker exec -u root experimenting_kafka apk add gcc python3-dev py3-pip musl-dev linux-headers\n",
    "docker exec experimenting_kafka python3 -m venv /home/appuser/venv\n",
    "docker exec experimenting_kafka /home/appuser/venv/bin/pip install ipykernel bash_kernel\n",
    "docker exec experimenting_kafka /home/appuser/venv/bin/python -m bash_kernel.install\n",
    "```\n",
    "\n",
    "So, finally, once you have successfully set up all the preparation in the folder `/opt/kafka/bin`, you should be able to see scripts to manipulate kafka. They are represented in the following cell:"
   ]
  },
  {
   "cell_type": "code",
   "execution_count": null,
   "id": "dbc3183c",
   "metadata": {
    "vscode": {
     "languageId": "shellscript"
    }
   },
   "outputs": [
    {
     "name": "stdout",
     "output_type": "stream",
     "text": [
      "connect-distributed.sh\t\t kafka-jmx.sh\n",
      "connect-mirror-maker.sh\t\t kafka-leader-election.sh\n",
      "connect-plugin-path.sh\t\t kafka-log-dirs.sh\n",
      "connect-standalone.sh\t\t kafka-metadata-quorum.sh\n",
      "kafka-acls.sh\t\t\t kafka-metadata-shell.sh\n",
      "kafka-broker-api-versions.sh\t kafka-producer-perf-test.sh\n",
      "kafka-client-metrics.sh\t\t kafka-reassign-partitions.sh\n",
      "kafka-cluster.sh\t\t kafka-replica-verification.sh\n",
      "kafka-configs.sh\t\t kafka-run-class.sh\n",
      "kafka-console-consumer.sh\t kafka-server-start.sh\n",
      "kafka-console-producer.sh\t kafka-server-stop.sh\n",
      "kafka-console-share-consumer.sh  kafka-share-groups.sh\n",
      "kafka-consumer-groups.sh\t kafka-storage.sh\n",
      "kafka-consumer-perf-test.sh\t kafka-streams-application-reset.sh\n",
      "kafka-delegation-tokens.sh\t kafka-topics.sh\n",
      "kafka-delete-records.sh\t\t kafka-transactions.sh\n",
      "kafka-dump-log.sh\t\t kafka-verifiable-consumer.sh\n",
      "kafka-e2e-latency.sh\t\t kafka-verifiable-producer.sh\n",
      "kafka-features.sh\t\t trogdor.sh\n",
      "kafka-get-offsets.sh\t\t windows\n",
      "kafka-groups.sh\n"
     ]
    }
   ],
   "source": [
    "ls /opt/kafka/bin"
   ]
  },
  {
   "cell_type": "markdown",
   "id": "35b797bb",
   "metadata": {},
   "source": [
    "## Topics\n",
    "\n",
    "These are folders that contain events. To manipulate with topics, use the `./kafka-topic.sh` script. The most important options for the script are:\n",
    "\n",
    "- `--create` to create a new topic.\n",
    "- `--list` to show created topics.\n",
    "- `--delete` to delete the topic."
   ]
  },
  {
   "cell_type": "markdown",
   "id": "b5a39609",
   "metadata": {},
   "source": [
    "---\n",
    "\n",
    "The following cell illustrates the use of the `--create` option."
   ]
  },
  {
   "cell_type": "code",
   "execution_count": 28,
   "id": "03ac0470",
   "metadata": {
    "vscode": {
     "languageId": "shellscript"
    }
   },
   "outputs": [
    {
     "name": "stdout",
     "output_type": "stream",
     "text": [
      "Created topic myFirstTopic.\n"
     ]
    }
   ],
   "source": [
    "./kafka-topics.sh --create --topic myFirstTopic --bootstrap-server localhost:9092"
   ]
  },
  {
   "cell_type": "markdown",
   "id": "35a1dd14",
   "metadata": {},
   "source": [
    "After creating, we can list all the topics that have been created:"
   ]
  },
  {
   "cell_type": "code",
   "execution_count": 29,
   "id": "99767b0f",
   "metadata": {
    "vscode": {
     "languageId": "shellscript"
    }
   },
   "outputs": [
    {
     "name": "stdout",
     "output_type": "stream",
     "text": [
      "myFirstTopic\n"
     ]
    }
   ],
   "source": [
    "./kafka-topics.sh --bootstrap-server localhost:9092 --list"
   ]
  },
  {
   "cell_type": "markdown",
   "id": "790c33d8",
   "metadata": {},
   "source": [
    "And  the `--delete` for the `myFirstTopic`:"
   ]
  },
  {
   "cell_type": "code",
   "execution_count": 30,
   "id": "9a7da975",
   "metadata": {
    "vscode": {
     "languageId": "shellscript"
    }
   },
   "outputs": [],
   "source": [
    "./kafka-topics.sh --delete --topic myFirstTopic --bootstrap-server localhost:9092"
   ]
  }
 ],
 "metadata": {
  "kernelspec": {
   "display_name": "Bash",
   "language": "bash",
   "name": "bash"
  },
  "language_info": {
   "codemirror_mode": "shell",
   "file_extension": ".sh",
   "mimetype": "text/x-sh",
   "name": "bash"
  }
 },
 "nbformat": 4,
 "nbformat_minor": 5
}
