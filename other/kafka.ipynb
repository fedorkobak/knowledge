{
 "cells": [
  {
   "cell_type": "markdown",
   "id": "0b70efd0",
   "metadata": {
    "vscode": {
     "languageId": "plaintext"
    }
   },
   "source": [
    "# Kafka\n",
    "\n",
    "Run the Kafka container using the following command:\n",
    "\n",
    "```bash\n",
    "docker run -p 9092:9092 -itd --name experimenting_kafka -v ./:/knowledge apache/kafka-native:4.0.0\n",
    "```"
   ]
  }
 ],
 "metadata": {
  "kernelspec": {
   "display_name": "Bash",
   "language": "bash",
   "name": "bash"
  },
  "language_info": {
   "codemirror_mode": "shell",
   "file_extension": ".sh",
   "mimetype": "text/x-sh",
   "name": "bash"
  }
 },
 "nbformat": 4,
 "nbformat_minor": 5
}
