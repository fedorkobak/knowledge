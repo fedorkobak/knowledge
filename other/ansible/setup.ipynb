{
 "cells": [
  {
   "cell_type": "markdown",
   "metadata": {},
   "source": [
    "# Setup"
   ]
  },
  {
   "cell_type": "markdown",
   "metadata": {},
   "source": [
    "Using ansible requires:\n",
    "\n",
    "- Control node with ssh client and ansible installed.\n",
    "- Managed node with ssh server, and python interpreter.\n",
    "- Provide access from control node to managed node.\n",
    "\n",
    "The role of the nodes in our examples will be to play docker containers. These containers require some preparation, so we'll create images."
   ]
  },
  {
   "cell_type": "markdown",
   "metadata": {},
   "source": [
    "For the managed node, we need to install and run the ssh server."
   ]
  },
  {
   "cell_type": "code",
   "execution_count": 3,
   "metadata": {
    "vscode": {
     "languageId": "shellscript"
    }
   },
   "outputs": [],
   "source": [
    "cat << EOF > setup_files/managed_node_dockerfile\n",
    "\n",
    "FROM python:3.10-alpine\n",
    "RUN apk add -q openssh && ssh-keygen -A && mkdir /root/.ssh\n",
    "CMD [\"/usr/sbin/sshd\", \"-D\"]\n",
    "\n",
    "EOF"
   ]
  },
  {
   "cell_type": "markdown",
   "metadata": {},
   "source": [
    "For control mode, we need to install the ssh client and ansible as a python package."
   ]
  },
  {
   "cell_type": "code",
   "execution_count": 4,
   "metadata": {
    "vscode": {
     "languageId": "shellscript"
    }
   },
   "outputs": [],
   "source": [
    "cat << EOF > setup_files/control_node_dockerfile\n",
    "\n",
    "FROM python:3.10-alpine\n",
    "RUN apk add openssh-client && \\\\\n",
    "    ssh-keygen -t rsa -N \"\" -f /root/.ssh/id_rsa && \\\\\n",
    "    pip3 install ansible && \\\\\n",
    "    # Add to the config statement that we don't need to enter if we want to save the new host.\n",
    "    echo -e \"Host *\\n\\tStrictHostKeyChecking no\\n\\n\" > ~/.ssh/config\n",
    "\n",
    "EOF"
   ]
  },
  {
   "cell_type": "markdown",
   "metadata": {},
   "source": [
    "The following cell creates images that we'll use to consider ansible."
   ]
  },
  {
   "cell_type": "code",
   "execution_count": null,
   "metadata": {
    "vscode": {
     "languageId": "shellscript"
    }
   },
   "outputs": [],
   "source": [
    "docker build -t ansible_managed_node \\\n",
    "    -f ./setup_files/managed_node_dockerfile \\\n",
    "    ./setup_files &> /dev/null\n",
    "docker build -t ansible_control_node \\\n",
    "    -f ./setup_files/control_node_dockerfile \\\n",
    "    ./setup_files &> /dev/null"
   ]
  },
  {
   "cell_type": "markdown",
   "metadata": {},
   "source": [
    "The role of the nodes in our examples will be to play Docker containers. The following compose files emit two computers that play roles of control and managed nodes. These containers share the ssh key through the volume to which both containers are mounted."
   ]
  },
  {
   "cell_type": "code",
   "execution_count": null,
   "metadata": {
    "vscode": {
     "languageId": "shellscript"
    }
   },
   "outputs": [],
   "source": [
    "cat << EOF > setup_files/compose.yml\n",
    "services:\n",
    "  managed_node:\n",
    "    image: ansible_managed_node\n",
    "    container_name: managed_node\n",
    "    volumes:\n",
    "      - ssh_keys:/root/control_ssh\n",
    "    command: |\n",
    "      sh -c \"\n",
    "      while ! [ -e /root/control_ssh/id_rsa.pub ]; do sleep 1; done && \\\n",
    "      cat /root/control_ssh/id_rsa.pub >> /root/.ssh/authorized_keys; \\\n",
    "      /usr/sbin/sshd -D\n",
    "      \"\n",
    "    stdin_open: true\n",
    "    tty: true\n",
    "    depends_on:\n",
    "      - control_node\n",
    "\n",
    "  control_node:\n",
    "    image: ansible_control_node\n",
    "    container_name: control_node\n",
    "    volumes:\n",
    "      - ssh_keys:/root/control_ssh\n",
    "    command: \n",
    "      sh -c \"\n",
    "      cp /root/.ssh/id_rsa.pub /root/control_ssh/id_rsa.pub && \\\n",
    "      while true; do sleep 1; done\n",
    "      \"\n",
    "    stdin_open: true\n",
    "    tty: true\n",
    "\n",
    "volumes:\n",
    "  ssh_keys:\n",
    "EOF"
   ]
  },
  {
   "cell_type": "markdown",
   "metadata": {},
   "source": [
    "## Hello world\n",
    "\n",
    "Here we'll look at how to run the Ansible sandbox that was created earlier, and with it, really show the basic ideas of the Ansible."
   ]
  },
  {
   "cell_type": "code",
   "execution_count": 106,
   "metadata": {
    "vscode": {
     "languageId": "shellscript"
    }
   },
   "outputs": [],
   "source": [
    "docker compose -f setup_files/compose.yml up -d &> /dev/null"
   ]
  },
  {
   "cell_type": "markdown",
   "metadata": {},
   "source": [
    "**Note** don't forget to stop the container after all."
   ]
  },
  {
   "cell_type": "code",
   "execution_count": 105,
   "metadata": {
    "vscode": {
     "languageId": "shellscript"
    }
   },
   "outputs": [],
   "source": [
    "docker compose -f setup_files/compose.yml down --volumes &> /dev/null"
   ]
  },
  {
   "cell_type": "markdown",
   "metadata": {},
   "source": [
    "### Inventory\n",
    "\n",
    "Check [building an inventory](https://docs.ansible.com/ansible/latest/getting_started/get_started_inventory.html) page of documentation.\n",
    "\n",
    "Inventories organise managed nodes into centralised files that provide Ansible with system information and network locations. An inventory file allows Ansible to manage a large number of hosts with a single command. So it's a file in which you list all the managed nodes."
   ]
  },
  {
   "cell_type": "markdown",
   "metadata": {},
   "source": [
    "Now in the control node we need to create an ansible config `inventory.ini` where we just specify managed node.\n",
    "\n",
    "**Note** We have specified the python path with `ansible_python_interpreter=/usr/local/bin/python3.10`, it's not necessary but allows to avoid some warnings."
   ]
  },
  {
   "cell_type": "code",
   "execution_count": 34,
   "metadata": {
    "vscode": {
     "languageId": "shellscript"
    }
   },
   "outputs": [],
   "source": [
    "docker exec control_node sh -c  \"\n",
    "cat << EOF > inventory.ini\n",
    "[myhosts]\n",
    "managed_node ansible_python_interpreter=/usr/local/bin/python3.10\n",
    "EOF\""
   ]
  },
  {
   "cell_type": "markdown",
   "metadata": {},
   "source": [
    "Here `[myhosts]` is the name of the group of servers."
   ]
  },
  {
   "cell_type": "markdown",
   "metadata": {},
   "source": [
    "Finally, try pinging the managed nodes using the command `ansible <group of servers> -m ping -i inventory.ini`."
   ]
  },
  {
   "cell_type": "code",
   "execution_count": 35,
   "metadata": {
    "vscode": {
     "languageId": "shellscript"
    }
   },
   "outputs": [
    {
     "name": "stdout",
     "output_type": "stream",
     "text": [
      "managed_node | UNREACHABLE! => {\n",
      "    \"changed\": false,\n",
      "    \"msg\": \"Failed to connect to the host via ssh: ssh: connect to host managed_node port 22: Connection refused\",\n",
      "    \"unreachable\": true\n",
      "}\n"
     ]
    },
    {
     "ename": "",
     "evalue": "4",
     "output_type": "error",
     "traceback": []
    }
   ],
   "source": [
    "docker exec control_node ansible myhosts -m ping -i inventory.ini"
   ]
  },
  {
   "cell_type": "markdown",
   "metadata": {},
   "source": [
    "As a result, we got the message `ansible_host | SUCCESS ...`, which tells us that we successfully ping the managed node."
   ]
  },
  {
   "cell_type": "markdown",
   "metadata": {},
   "source": [
    "### Playbook\n",
    "\n",
    "Playbooks are files with instructions. So below is a playbook that creates a play called `My first play`. This play will ping all hosts and then print a message."
   ]
  },
  {
   "cell_type": "code",
   "execution_count": null,
   "metadata": {
    "vscode": {
     "languageId": "shellscript"
    }
   },
   "outputs": [],
   "source": [
    "docker exec ansible_control_node sh -c  \"\n",
    "cat << EOF > playbook.yaml\n",
    "- name: My first play\n",
    "  hosts: myhosts\n",
    "  tasks:\n",
    "   - name: Ping my hosts\n",
    "     ansible.builtin.ping:\n",
    "\n",
    "   - name: Print message\n",
    "     ansible.builtin.debug:\n",
    "      msg: Hello world\""
   ]
  },
  {
   "cell_type": "markdown",
   "metadata": {},
   "source": [
    "So now you can use the `ansible-playbook` command to play the playbook we have just created."
   ]
  },
  {
   "cell_type": "code",
   "execution_count": null,
   "metadata": {
    "vscode": {
     "languageId": "shellscript"
    }
   },
   "outputs": [
    {
     "name": "stdout",
     "output_type": "stream",
     "text": [
      "\n",
      "PLAY [My first play] ***********************************************************\n",
      "\n",
      "TASK [Gathering Facts] *********************************************************\n",
      "ok: [ansible_managed_node]\n",
      "\n",
      "TASK [Ping my hosts] ***********************************************************\n",
      "ok: [ansible_managed_node]\n",
      "\n",
      "TASK [Print message] ***********************************************************\n",
      "ok: [ansible_managed_node] => {\n",
      "    \"msg\": \"Hello world\"\n",
      "}\n",
      "\n",
      "PLAY RECAP *********************************************************************\n",
      "ansible_managed_node       : ok=3    changed=0    unreachable=0    failed=0    skipped=0    rescued=0    ignored=0   \n",
      "\n"
     ]
    }
   ],
   "source": [
    "docker exec ansible_control_node ansible-playbook -i inventory.ini playbook.yaml"
   ]
  },
  {
   "cell_type": "markdown",
   "metadata": {},
   "source": [
    "So there are tasks: `Ping my hosts` and `Print message`, just as we specified."
   ]
  },
  {
   "cell_type": "markdown",
   "metadata": {},
   "source": [
    "### Modules\n",
    "\n",
    "Check the page [introduction to modules](https://docs.ansible.com/ansible/latest/module_plugin_guide/modules_intro.html).\n",
    "\n",
    "Modules are discrete units of code that can be used in ansible playbooks or in the CLI as an argument to the `ansible` command."
   ]
  },
  {
   "cell_type": "markdown",
   "metadata": {},
   "source": [
    "As an example, let's consider the `command` module, which enables the execution of commands on a managed node. Here, we have the following details:\n",
    "\n",
    "- The `-m` parameter specifies the module we want to execute.\n",
    "- The `-a` parameter specifies the arguments for that module.\n",
    "\n",
    "Sence of the command - creation a file called `secret_file`."
   ]
  },
  {
   "cell_type": "code",
   "execution_count": null,
   "metadata": {
    "vscode": {
     "languageId": "shellscript"
    }
   },
   "outputs": [
    {
     "name": "stdout",
     "output_type": "stream",
     "text": [
      "ansible_managed_node | CHANGED | rc=0 >>\n",
      "\n"
     ]
    }
   ],
   "source": [
    "docker exec ansible_control_node \\\n",
    "    ansible myhosts \\\n",
    "        -i inventory.ini \\\n",
    "        -m command \\\n",
    "        -a \"touch secret_file\""
   ]
  },
  {
   "cell_type": "markdown",
   "metadata": {},
   "source": [
    "Let's check if it appeared in the managed node."
   ]
  },
  {
   "cell_type": "code",
   "execution_count": null,
   "metadata": {
    "vscode": {
     "languageId": "shellscript"
    }
   },
   "outputs": [
    {
     "name": "stdout",
     "output_type": "stream",
     "text": [
      "secret_file\n"
     ]
    }
   ],
   "source": [
    "docker exec ansible_managed_node ls /root"
   ]
  }
 ],
 "metadata": {
  "kernelspec": {
   "display_name": "Bash",
   "language": "bash",
   "name": "bash"
  },
  "language_info": {
   "codemirror_mode": "shell",
   "file_extension": ".sh",
   "mimetype": "text/x-sh",
   "name": "bash"
  }
 },
 "nbformat": 4,
 "nbformat_minor": 2
}
