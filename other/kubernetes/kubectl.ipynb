{
 "cells": [
  {
   "cell_type": "markdown",
   "id": "205aa3b3",
   "metadata": {},
   "source": [
    "# Kubectl\n",
    "\n",
    "The `kubectl` utility is a primary way to interact with k8s cluster.\n",
    "\n",
    "Different k8s resources have slightly different configurations. However, `kubectl` is designed in such a way that different resources often have many features in common. This page addresses the questions about managing the entire cluster with `kubectl`, as well as common details about managing different resource types. It is not always very detailed regarding questions specific to particular resources - there are specific pages for such details. "
   ]
  },
  {
   "cell_type": "markdown",
   "id": "6fb49c3c",
   "metadata": {},
   "source": [
    "## Install&Config\n",
    "\n",
    "Check [installation guide](https://kubernetes.io/docs/tasks/tools/install-kubectl-linux/) for `kubectl`. For me, using the ubuntu option `snap install kubectl --classic` worked well.\n",
    "\n",
    "To enable `TAB` completion add `source` the script printed with `kubectl completion bash`: `source <(kubectl completion bash)`. To enable completion at the start of the shell, add line into `~/.bashrc` file: `echo 'source <(kubectl completion bash)' >> ~/.bashrc`."
   ]
  },
  {
   "cell_type": "markdown",
   "id": "b2d9c9aa",
   "metadata": {},
   "source": [
    "### Config file \n",
    "\n",
    "The behavior of the `kubectl` is typically defined by the configuration file that is located in the `~/.kube/config` directory."
   ]
  },
  {
   "cell_type": "markdown",
   "id": "19fa6e64",
   "metadata": {},
   "source": [
    "---\n",
    "\n",
    "The following cell displays a few lines of the `kubectl` configuration."
   ]
  },
  {
   "cell_type": "code",
   "execution_count": null,
   "id": "476f5882",
   "metadata": {
    "vscode": {
     "languageId": "shellscript"
    }
   },
   "outputs": [
    {
     "name": "stdout",
     "output_type": "stream",
     "text": [
      "apiVersion: v1\n",
      "clusters:\n",
      "- cluster:\n",
      "    certificate-authority: /home/user/.minikube/ca.crt\n",
      "    extensions:\n",
      "    - extension:\n",
      "        last-update: Mon, 13 Oct 2025 09:07:40 CEST\n",
      "        provider: minikube.sigs.k8s.io\n",
      "        version: v1.37.0\n",
      "      name: cluster_info\n"
     ]
    }
   ],
   "source": [
    "cat ~/.kube/config | head -n 10"
   ]
  },
  {
   "cell_type": "markdown",
   "id": "b3359855",
   "metadata": {},
   "source": [
    "## Cluster information\n",
    "\n",
    "The `kubectl cluster-info` command displays the information about the cluster that `kubectl` currently connected to."
   ]
  },
  {
   "cell_type": "code",
   "execution_count": null,
   "id": "6935d4cc",
   "metadata": {
    "vscode": {
     "languageId": "shellscript"
    }
   },
   "outputs": [
    {
     "name": "stdout",
     "output_type": "stream",
     "text": [
      "Kubernetes control plane is running at https://192.168.49.2:8443\n",
      "CoreDNS is running at https://192.168.49.2:8443/api/v1/namespaces/kube-system/services/kube-dns:dns/proxy\n",
      "\n",
      "To further debug and diagnose cluster problems, use 'kubectl cluster-info dump'.\n"
     ]
    }
   ],
   "source": [
    "kubectl cluster-info"
   ]
  },
  {
   "cell_type": "markdown",
   "id": "0f2aa6d6",
   "metadata": {},
   "source": [
    "## Proxy\n",
    "\n",
    "Since `kubectl` is just convenient wrapper around the Kubernetes API, it can communicate with the kubernetes API and allow you to create a locally hosted proxy for it. Use the `kubectl proxy` command for this. "
   ]
  },
  {
   "cell_type": "markdown",
   "id": "f414fd86",
   "metadata": {},
   "source": [
    "---\n",
    "\n",
    "The following cell runs the proxy."
   ]
  },
  {
   "cell_type": "code",
   "execution_count": null,
   "id": "cbed00b8",
   "metadata": {
    "vscode": {
     "languageId": "shellscript"
    }
   },
   "outputs": [
    {
     "name": "stdout",
     "output_type": "stream",
     "text": [
      "[1] 101050\n"
     ]
    }
   ],
   "source": [
    "kubectl proxy &\n",
    "export proxy_pid=$!"
   ]
  },
  {
   "cell_type": "markdown",
   "id": "b6463219",
   "metadata": {},
   "source": [
    "Now you are able to access api:"
   ]
  },
  {
   "cell_type": "code",
   "execution_count": null,
   "id": "b7ffd2ed",
   "metadata": {
    "vscode": {
     "languageId": "shellscript"
    }
   },
   "outputs": [
    {
     "name": "stdout",
     "output_type": "stream",
     "text": [
      "Starting to serve on 127.0.0.1:8001\n",
      "{\n",
      "  \"kind\": \"APIVersions\",\n",
      "  \"versions\": [\n",
      "    \"v1\"\n",
      "  ],\n",
      "  \"serverAddressByClientCIDRs\": [\n",
      "    {\n",
      "      \"clientCIDR\": \"0.0.0.0/0\",\n",
      "      \"serverAddress\": \"192.168.49.2:8443\"\n",
      "    }\n",
      "  ]\n",
      "}\n"
     ]
    }
   ],
   "source": [
    "curl localhost:8001/api"
   ]
  },
  {
   "cell_type": "code",
   "execution_count": null,
   "id": "f9186cd2",
   "metadata": {
    "vscode": {
     "languageId": "shellscript"
    }
   },
   "outputs": [],
   "source": [
    "kill $proxy_pid"
   ]
  }
 ],
 "metadata": {
  "language_info": {
   "name": "python"
  }
 },
 "nbformat": 4,
 "nbformat_minor": 5
}
