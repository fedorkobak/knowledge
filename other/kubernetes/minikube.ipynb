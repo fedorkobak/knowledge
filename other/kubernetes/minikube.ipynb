{
 "cells": [
  {
   "cell_type": "markdown",
   "id": "fad81de8",
   "metadata": {},
   "source": [
    "# Minikube\n",
    "\n",
    "Minikube is a test implementation of the k8s that runs in on a specified container runtime."
   ]
  },
  {
   "cell_type": "markdown",
   "id": "5d72d5d1",
   "metadata": {},
   "source": [
    "## Lifecycle\n",
    "\n",
    "The lifecycle of the minicube cluster primarly managed by the commands: \n",
    "\n",
    "- `minikube start` to start the cluster.\n",
    "- `minikube status` to check the curresnt status of the cluster.\n",
    "- `minikube stop` to terminate the cluster.\n",
    "- `minikube delete` to remove the cluster from user container runtime."
   ]
  },
  {
   "cell_type": "markdown",
   "id": "c7de2281",
   "metadata": {},
   "source": [
    "---\n",
    "\n",
    "The following example illustrates a typical behaviour for different minikube commands.\n",
    "\n",
    "Start the cluster with the command:"
   ]
  },
  {
   "cell_type": "code",
   "execution_count": 1,
   "id": "406b9750",
   "metadata": {
    "vscode": {
     "languageId": "shellscript"
    }
   },
   "outputs": [],
   "source": [
    "minikube start &> /dev/null"
   ]
  },
  {
   "cell_type": "markdown",
   "id": "b9b79c22",
   "metadata": {},
   "source": [
    "Once you've completed the previous command, you'll have a corresponding container called `minikube` in your docker. The following cell shows it."
   ]
  },
  {
   "cell_type": "code",
   "execution_count": null,
   "id": "d1ebbe6a",
   "metadata": {
    "vscode": {
     "languageId": "shellscript"
    }
   },
   "outputs": [
    {
     "ename": "",
     "evalue": "1",
     "output_type": "error",
     "traceback": [
      "1"
     ]
    }
   ],
   "source": [
    "docker ps | grep minikube"
   ]
  },
  {
   "cell_type": "markdown",
   "id": "01459e77",
   "metadata": {},
   "source": [
    "To make sure everything is OK, try checking the minikube status."
   ]
  },
  {
   "cell_type": "code",
   "execution_count": null,
   "id": "cae89dfb",
   "metadata": {
    "vscode": {
     "languageId": "shellscript"
    }
   },
   "outputs": [
    {
     "name": "stdout",
     "output_type": "stream",
     "text": [
      "minikube\n",
      "type: Control Plane\n",
      "host: Running\n",
      "kubelet: Running\n",
      "apiserver: Running\n",
      "kubeconfig: Configured\n",
      "\n"
     ]
    }
   ],
   "source": [
    "minikube status"
   ]
  },
  {
   "cell_type": "markdown",
   "id": "fbf3ea7a",
   "metadata": {},
   "source": [
    "With `minikube stop` you're able to stop the minikube container but not delete it."
   ]
  },
  {
   "cell_type": "code",
   "execution_count": null,
   "id": "511ef9d7",
   "metadata": {
    "vscode": {
     "languageId": "shellscript"
    }
   },
   "outputs": [
    {
     "name": "stdout",
     "output_type": "stream",
     "text": [
      "✋  Stopping node \"minikube\"  ...\n",
      "🛑  Powering off \"minikube\" via SSH ...\n",
      "🛑  1 node stopped.\n"
     ]
    }
   ],
   "source": [
    "minikube stop"
   ]
  },
  {
   "cell_type": "markdown",
   "id": "4043dff6",
   "metadata": {},
   "source": [
    "Now `minikube` have the corresponding status."
   ]
  },
  {
   "cell_type": "code",
   "execution_count": null,
   "id": "4f6a164c",
   "metadata": {
    "vscode": {
     "languageId": "shellscript"
    }
   },
   "outputs": [
    {
     "name": "stdout",
     "output_type": "stream",
     "text": [
      "minikube\n",
      "type: Control Plane\n",
      "host: Stopped\n",
      "kubelet: Stopped\n",
      "apiserver: Stopped\n",
      "kubeconfig: Stopped\n",
      "\n"
     ]
    },
    {
     "ename": "",
     "evalue": "7",
     "output_type": "error",
     "traceback": [
      "7"
     ]
    }
   ],
   "source": [
    "minikube status\n",
    "true"
   ]
  },
  {
   "cell_type": "markdown",
   "id": "b4e9f05f",
   "metadata": {},
   "source": [
    "And the container is stopped in the docker."
   ]
  },
  {
   "cell_type": "code",
   "execution_count": null,
   "id": "cf9f03c4",
   "metadata": {
    "vscode": {
     "languageId": "shellscript"
    }
   },
   "outputs": [
    {
     "name": "stdout",
     "output_type": "stream",
     "text": [
      "84c165ada306   gcr.io/k8s-\u001b[01;31m\u001b[Kminikube\u001b[m\u001b[K/kicbase:v0.0.48   \"/usr/local/bin/entr…\"   About a minute ago   Exited (130) 24 seconds ago             \u001b[01;31m\u001b[Kminikube\u001b[m\u001b[K\n"
     ]
    }
   ],
   "source": [
    "docker ps -a | grep minikube"
   ]
  },
  {
   "cell_type": "markdown",
   "id": "4b8962e9",
   "metadata": {},
   "source": [
    "You can stop the `minikube` cluster by running the command `minicube delete`."
   ]
  },
  {
   "cell_type": "code",
   "execution_count": null,
   "id": "eef68ba8",
   "metadata": {
    "vscode": {
     "languageId": "shellscript"
    }
   },
   "outputs": [
    {
     "name": "stdout",
     "output_type": "stream",
     "text": [
      "🔥  Deleting \"minikube\" in docker ...\n",
      "🔥  Deleting container \"minikube\" ...\n",
      "🔥  Removing /home/user/.minikube/machines/minikube ...\n",
      "💀  Removed all traces of the \"minikube\" cluster.\n"
     ]
    }
   ],
   "source": [
    "minikube delete"
   ]
  },
  {
   "cell_type": "markdown",
   "id": "ae750fe1",
   "metadata": {},
   "source": [
    "So `minikube status` retunrs the corresponding output."
   ]
  },
  {
   "cell_type": "code",
   "execution_count": null,
   "id": "b66e2236",
   "metadata": {
    "vscode": {
     "languageId": "shellscript"
    }
   },
   "outputs": [
    {
     "name": "stdout",
     "output_type": "stream",
     "text": [
      "🤷  Profile \"minikube\" not found. Run \"minikube profile list\" to view all profiles.\n",
      "👉  To start a cluster, run: \"minikube start\"\n"
     ]
    }
   ],
   "source": [
    "minikube status\n",
    "true"
   ]
  },
  {
   "cell_type": "markdown",
   "id": "41b71098",
   "metadata": {},
   "source": [
    "## Profiles\n",
    "\n",
    "You can manage several minikube clusters, but in different profiles. To do so, use the `--profile <profile name>` option with for minikube lifecycle commands.\n",
    "\n",
    "To manage the profiles there are following commands:\n",
    "\n",
    "- `minikube profile list`: lists the created minikube profiles.\n",
    "- `minikube profile <profile name>`: sets the profile `<profile name>` as default profile."
   ]
  },
  {
   "cell_type": "markdown",
   "id": "e965c15a",
   "metadata": {},
   "source": [
    "---\n",
    "\n",
    "This cell runs two minikube clusters with different profiles."
   ]
  },
  {
   "cell_type": "code",
   "execution_count": 12,
   "id": "4803c5c4",
   "metadata": {
    "vscode": {
     "languageId": "shellscript"
    }
   },
   "outputs": [],
   "source": [
    "minikube start &> /dev/null\n",
    "minikube start --profile second &> /dev/null"
   ]
  },
  {
   "cell_type": "markdown",
   "id": "fd22b9ec",
   "metadata": {},
   "source": [
    "The output of the `minikube profile list` is represented by the following code."
   ]
  },
  {
   "cell_type": "code",
   "execution_count": 8,
   "id": "accd6926",
   "metadata": {
    "vscode": {
     "languageId": "shellscript"
    }
   },
   "outputs": [
    {
     "name": "stdout",
     "output_type": "stream",
     "text": [
      "┌──────────┬────────┬─────────┬──────────────┬─────────┬────────┬───────┬────────────────┬────────────────────┐\n",
      "│ PROFILE  │ DRIVER │ RUNTIME │      IP      │ VERSION │ STATUS │ NODES │ ACTIVE PROFILE │ ACTIVE KUBECONTEXT │\n",
      "├──────────┼────────┼─────────┼──────────────┼─────────┼────────┼───────┼────────────────┼────────────────────┤\n",
      "│ minikube │ docker │ docker  │ 192.168.49.2 │ v1.34.0 │ OK     │ 1     │ *              │                    │\n",
      "│ second   │ docker │ docker  │ 192.168.58.2 │ v1.34.0 │ OK     │ 1     │                │ *                  │\n",
      "└──────────┴────────┴─────────┴──────────────┴─────────┴────────┴───────┴────────────────┴────────────────────┘\n"
     ]
    }
   ],
   "source": [
    "minikube profile list"
   ]
  },
  {
   "cell_type": "markdown",
   "id": "005d43e7",
   "metadata": {},
   "source": [
    "The `ACTIVE PROFILE` column marks the default prifle. The following cell changes the active profile and an updated profiles list:"
   ]
  },
  {
   "cell_type": "code",
   "execution_count": 14,
   "id": "6a7e3540",
   "metadata": {
    "vscode": {
     "languageId": "shellscript"
    }
   },
   "outputs": [
    {
     "name": "stdout",
     "output_type": "stream",
     "text": [
      "✅  minikube profile was successfully set to second\n",
      "┌──────────┬────────┬─────────┬──────────────┬─────────┬────────┬───────┬────────────────┬────────────────────┐\n",
      "│ PROFILE  │ DRIVER │ RUNTIME │      IP      │ VERSION │ STATUS │ NODES │ ACTIVE PROFILE │ ACTIVE KUBECONTEXT │\n",
      "├──────────┼────────┼─────────┼──────────────┼─────────┼────────┼───────┼────────────────┼────────────────────┤\n",
      "│ minikube │ docker │ docker  │ 192.168.49.2 │ v1.34.0 │ OK     │ 1     │                │                    │\n",
      "│ second   │ docker │ docker  │ 192.168.58.2 │ v1.34.0 │ OK     │ 1     │ *              │ *                  │\n",
      "└──────────┴────────┴─────────┴──────────────┴─────────┴────────┴───────┴────────────────┴────────────────────┘\n"
     ]
    }
   ],
   "source": [
    "minikube profile second\n",
    "minikube profile list"
   ]
  },
  {
   "cell_type": "markdown",
   "id": "d56f8e2a",
   "metadata": {},
   "source": [
    "Remove the corresponding clusters."
   ]
  },
  {
   "cell_type": "code",
   "execution_count": 15,
   "id": "c9290175",
   "metadata": {
    "vscode": {
     "languageId": "shellscript"
    }
   },
   "outputs": [
    {
     "name": "stdout",
     "output_type": "stream",
     "text": [
      "🔥  Deleting \"second\" in docker ...\n",
      "🔥  Deleting container \"second\" ...\n",
      "🔥  Removing /home/fedor/.minikube/machines/second ...\n",
      "💀  Removed all traces of the \"second\" cluster.\n",
      "🔥  Deleting \"minikube\" in docker ...\n",
      "🔥  Deleting container \"minikube\" ...\n",
      "🔥  Removing /home/fedor/.minikube/machines/minikube ...\n",
      "💀  Removed all traces of the \"minikube\" cluster.\n"
     ]
    }
   ],
   "source": [
    "minikube delete --profile second\n",
    "minikube delete"
   ]
  },
  {
   "cell_type": "markdown",
   "id": "ab1b5680",
   "metadata": {},
   "source": [
    "## Nodes\n",
    "\n",
    "The `--nodes` argument in the `minikube start` controls how many nodes are stared in the cluster."
   ]
  },
  {
   "cell_type": "markdown",
   "id": "a31e0e39",
   "metadata": {},
   "source": [
    "---\n",
    "\n",
    "The following cell starts the cluster with two nodes."
   ]
  },
  {
   "cell_type": "code",
   "execution_count": 1,
   "id": "6e6165eb",
   "metadata": {
    "vscode": {
     "languageId": "shellscript"
    }
   },
   "outputs": [],
   "source": [
    "minikube start --nodes=2 &> /dev/null"
   ]
  },
  {
   "cell_type": "markdown",
   "id": "8ac5e953",
   "metadata": {},
   "source": [
    "There are corresponding containers in Docker."
   ]
  },
  {
   "cell_type": "code",
   "execution_count": 4,
   "id": "68d96dc0",
   "metadata": {
    "vscode": {
     "languageId": "shellscript"
    }
   },
   "outputs": [
    {
     "name": "stdout",
     "output_type": "stream",
     "text": [
      "988bf69e8d11   gcr.io/k8s-minikube/kicbase:v0.0.48   \"/usr/local/bin/entr…\"   2 minutes ago   Up 2 minutes   127.0.0.1:32783->22/tcp, 127.0.0.1:32784->2376/tcp, 127.0.0.1:32785->5000/tcp, 127.0.0.1:32786->8443/tcp, 127.0.0.1:32787->32443/tcp   minikube-m02\n",
      "9ca994772189   gcr.io/k8s-minikube/kicbase:v0.0.48   \"/usr/local/bin/entr…\"   2 minutes ago   Up 2 minutes   127.0.0.1:32778->22/tcp, 127.0.0.1:32779->2376/tcp, 127.0.0.1:32780->5000/tcp, 127.0.0.1:32781->8443/tcp, 127.0.0.1:32782->32443/tcp   minikube\n"
     ]
    }
   ],
   "source": [
    "docker ps | grep --color=never minikube"
   ]
  },
  {
   "cell_type": "code",
   "execution_count": 5,
   "id": "73c57c0f",
   "metadata": {
    "vscode": {
     "languageId": "shellscript"
    }
   },
   "outputs": [
    {
     "name": "stdout",
     "output_type": "stream",
     "text": [
      "✋  Stopping node \"minikube-m02\"  ...\n",
      "🛑  Powering off \"minikube-m02\" via SSH ...\n",
      "✋  Stopping node \"minikube\"  ...\n",
      "🛑  Powering off \"minikube\" via SSH ...\n",
      "🛑  2 nodes stopped.\n"
     ]
    }
   ],
   "source": [
    "minikube delete"
   ]
  }
 ],
 "metadata": {
  "kernelspec": {
   "display_name": "Bash",
   "language": "bash",
   "name": "bash"
  },
  "language_info": {
   "codemirror_mode": "shell",
   "file_extension": ".sh",
   "mimetype": "text/x-sh",
   "name": "bash"
  }
 },
 "nbformat": 4,
 "nbformat_minor": 5
}
