{
 "cells": [
  {
   "cell_type": "markdown",
   "id": "7e2be0c4",
   "metadata": {},
   "source": [
    "# Deployment\n",
    "\n",
    "Deployment is the most popular way to run an application. This page discusses the components of deployment and common management patterns."
   ]
  },
  {
   "cell_type": "markdown",
   "id": "81c83e20",
   "metadata": {},
   "source": [
    "## ReplicaSet\n",
    "\n",
    "A set of pods is deployed in parallel. K8s aims to maintain the specified number of replicas as specified in the replica set configuration."
   ]
  },
  {
   "cell_type": "markdown",
   "id": "80196f75",
   "metadata": {},
   "source": [
    "---\n",
    "\n",
    "The following cell creates a replica set."
   ]
  },
  {
   "cell_type": "code",
   "execution_count": null,
   "id": "bc19e844",
   "metadata": {
    "vscode": {
     "languageId": "shellscript"
    }
   },
   "outputs": [
    {
     "name": "stdout",
     "output_type": "stream",
     "text": [
      "replicaset.apps/frontend created\n"
     ]
    }
   ],
   "source": [
    "kubectl create -f - << EOF\n",
    "apiVersion: apps/v1\n",
    "kind: ReplicaSet\n",
    "metadata:\n",
    "  name: frontend\n",
    "spec:\n",
    "  replicas: 3\n",
    "  selector:\n",
    "    matchLabels:\n",
    "      tier: frontend\n",
    "  template:\n",
    "    metadata:\n",
    "      labels:\n",
    "        tier: frontend\n",
    "    spec:\n",
    "      containers:\n",
    "      - name: php-redis\n",
    "        image: us-docker.pkg.dev/google-samples/containers/gke/gb-frontend:v5\n",
    "EOF"
   ]
  },
  {
   "cell_type": "markdown",
   "id": "ba4dfadf",
   "metadata": {},
   "source": [
    "The result is 3 pods (as specified in the `spec.replicas`). They all belong to the `frontent` replica set, that is clear from their naming."
   ]
  },
  {
   "cell_type": "code",
   "execution_count": null,
   "id": "3cf0ddf4",
   "metadata": {
    "vscode": {
     "languageId": "shellscript"
    }
   },
   "outputs": [
    {
     "name": "stdout",
     "output_type": "stream",
     "text": [
      "NAME             READY   STATUS    RESTARTS   AGE\n",
      "frontend-4rpzj   1/1     Running   0          7s\n",
      "frontend-6bnqz   1/1     Running   0          7s\n",
      "frontend-b7v94   1/1     Running   0          7s\n"
     ]
    }
   ],
   "source": [
    "kubectl get pods"
   ]
  },
  {
   "cell_type": "markdown",
   "id": "6c3eede9",
   "metadata": {},
   "source": [
    "You can use the command `kubectl get rs` to list replica sets."
   ]
  },
  {
   "cell_type": "code",
   "execution_count": null,
   "id": "aeb24bde",
   "metadata": {
    "vscode": {
     "languageId": "shellscript"
    }
   },
   "outputs": [
    {
     "name": "stdout",
     "output_type": "stream",
     "text": [
      "NAME       DESIRED   CURRENT   READY   AGE\n",
      "frontend   3         3         3       8s\n"
     ]
    }
   ],
   "source": [
    "kubectl get rs"
   ]
  },
  {
   "cell_type": "markdown",
   "id": "f96b74b9",
   "metadata": {},
   "source": [
    "Use the command `kubectl delete rs frontend` to delete the replica set."
   ]
  },
  {
   "cell_type": "code",
   "execution_count": null,
   "id": "67ce06d4",
   "metadata": {
    "vscode": {
     "languageId": "shellscript"
    }
   },
   "outputs": [
    {
     "name": "stdout",
     "output_type": "stream",
     "text": [
      "replicaset.apps \"frontend\" deleted from default namespace\n"
     ]
    }
   ],
   "source": [
    "kubectl delete rs frontend"
   ]
  }
 ],
 "metadata": {
  "language_info": {
   "name": "python"
  }
 },
 "nbformat": 4,
 "nbformat_minor": 5
}
