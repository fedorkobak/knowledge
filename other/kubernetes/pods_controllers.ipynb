{
 "cells": [
  {
   "cell_type": "markdown",
   "id": "7e2be0c4",
   "metadata": {},
   "source": [
    "# Pods controllers\n",
    "\n",
    "Deployment is the most popular way to run an application. This page discusses the components of deployment and common management patterns."
   ]
  },
  {
   "cell_type": "markdown",
   "id": "81c83e20",
   "metadata": {},
   "source": [
    "## ReplicaSet\n",
    "\n",
    "A set of pods is deployed in parallel. K8s aims to maintain the specified number of replicas as specified in the replica set configuration."
   ]
  },
  {
   "cell_type": "markdown",
   "id": "80196f75",
   "metadata": {},
   "source": [
    "---\n",
    "\n",
    "The following cell creates a replica set."
   ]
  },
  {
   "cell_type": "code",
   "execution_count": 2,
   "id": "bc19e844",
   "metadata": {
    "vscode": {
     "languageId": "shellscript"
    }
   },
   "outputs": [
    {
     "name": "stdout",
     "output_type": "stream",
     "text": [
      "replicaset.apps/frontend created\n"
     ]
    }
   ],
   "source": [
    "kubectl create -f - << EOF\n",
    "apiVersion: apps/v1\n",
    "kind: ReplicaSet\n",
    "metadata:\n",
    "  name: frontend\n",
    "spec:\n",
    "  replicas: 3\n",
    "  selector:\n",
    "    matchLabels:\n",
    "      tier: frontend\n",
    "  template:\n",
    "    metadata:\n",
    "      labels:\n",
    "        tier: frontend\n",
    "    spec:\n",
    "      containers:\n",
    "      - name: php-redis\n",
    "        image: us-docker.pkg.dev/google-samples/containers/gke/gb-frontend:v5\n",
    "EOF"
   ]
  },
  {
   "cell_type": "markdown",
   "id": "ba4dfadf",
   "metadata": {},
   "source": [
    "The result is 3 pods (as specified in the `spec.replicas`). They all belong to the `frontent` replica set, that is clear from their naming."
   ]
  },
  {
   "cell_type": "code",
   "execution_count": null,
   "id": "3cf0ddf4",
   "metadata": {
    "vscode": {
     "languageId": "shellscript"
    }
   },
   "outputs": [
    {
     "name": "stdout",
     "output_type": "stream",
     "text": [
      "NAME             READY   STATUS    RESTARTS   AGE\n",
      "frontend-4rpzj   1/1     Running   0          7s\n",
      "frontend-6bnqz   1/1     Running   0          7s\n",
      "frontend-b7v94   1/1     Running   0          7s\n"
     ]
    }
   ],
   "source": [
    "kubectl get pods"
   ]
  },
  {
   "cell_type": "markdown",
   "id": "6c3eede9",
   "metadata": {},
   "source": [
    "You can use the command `kubectl get rs` to list replica sets."
   ]
  },
  {
   "cell_type": "code",
   "execution_count": null,
   "id": "aeb24bde",
   "metadata": {
    "vscode": {
     "languageId": "shellscript"
    }
   },
   "outputs": [
    {
     "name": "stdout",
     "output_type": "stream",
     "text": [
      "NAME       DESIRED   CURRENT   READY   AGE\n",
      "frontend   3         3         3       8s\n"
     ]
    }
   ],
   "source": [
    "kubectl get rs"
   ]
  },
  {
   "cell_type": "markdown",
   "id": "f96b74b9",
   "metadata": {},
   "source": [
    "Use the command `kubectl delete rs frontend` to delete the replica set."
   ]
  },
  {
   "cell_type": "code",
   "execution_count": 3,
   "id": "67ce06d4",
   "metadata": {
    "vscode": {
     "languageId": "shellscript"
    }
   },
   "outputs": [
    {
     "name": "stdout",
     "output_type": "stream",
     "text": [
      "replicaset.apps \"frontend\" deleted from default namespace\n"
     ]
    }
   ],
   "source": [
    "kubectl delete rs frontend"
   ]
  },
  {
   "cell_type": "markdown",
   "id": "9cc85f22",
   "metadata": {},
   "source": [
    "## Deployment\n",
    "\n",
    "Deployment is the most popular way to run an application. It runs and manages a **replica set**, which is a set of pods that run in parallel. A deployment is generally tied to a single ReplicaSet, but it implements a **rolling update** mechanism. If the ReplicaSet's configuration must be changed, the deployment retains the ReplicaSet's old configration until it ensures that the newly deployed updates are healthy."
   ]
  },
  {
   "cell_type": "markdown",
   "id": "2e0ab802",
   "metadata": {},
   "source": [
    "---\n",
    "\n",
    "The following cell uses an imperative approach to create a deployment."
   ]
  },
  {
   "cell_type": "code",
   "execution_count": null,
   "id": "09938cef",
   "metadata": {
    "vscode": {
     "languageId": "shellscript"
    }
   },
   "outputs": [
    {
     "name": "stdout",
     "output_type": "stream",
     "text": [
      "deployment.apps/nginx-deployment created\n"
     ]
    }
   ],
   "source": [
    "kubectl create deployment nginx-deployment --image=nginx:1.22.1 --replicas=3"
   ]
  },
  {
   "cell_type": "markdown",
   "id": "dd2ee924",
   "metadata": {},
   "source": [
    "You can view a list of available deployments by entering the command `kubectl get deployment`."
   ]
  },
  {
   "cell_type": "code",
   "execution_count": null,
   "id": "6c707995",
   "metadata": {
    "vscode": {
     "languageId": "shellscript"
    }
   },
   "outputs": [
    {
     "name": "stdout",
     "output_type": "stream",
     "text": [
      "NAME               READY   UP-TO-DATE   AVAILABLE   AGE\n",
      "nginx-deployment   3/3     3            3           102s\n"
     ]
    }
   ],
   "source": [
    "kubectl get deployment "
   ]
  },
  {
   "cell_type": "markdown",
   "id": "606ba2ad",
   "metadata": {},
   "source": [
    "As was specified by the `replicas=3`, three identical pods have been deployed."
   ]
  },
  {
   "cell_type": "code",
   "execution_count": null,
   "id": "ce57be5b",
   "metadata": {
    "vscode": {
     "languageId": "shellscript"
    }
   },
   "outputs": [
    {
     "name": "stdout",
     "output_type": "stream",
     "text": [
      "NAME                                READY   STATUS    RESTARTS   AGE\n",
      "nginx-deployment-799db84976-fcbjb   1/1     Running   0          112s\n",
      "nginx-deployment-799db84976-fwmng   1/1     Running   0          112s\n",
      "nginx-deployment-799db84976-hs492   1/1     Running   0          112s\n"
     ]
    }
   ],
   "source": [
    "kubectl get pods"
   ]
  },
  {
   "cell_type": "code",
   "execution_count": null,
   "id": "c0f5d04e",
   "metadata": {
    "vscode": {
     "languageId": "shellscript"
    }
   },
   "outputs": [
    {
     "name": "stdout",
     "output_type": "stream",
     "text": [
      "deployment.apps \"nginx-deployment\" deleted from default namespace\n"
     ]
    }
   ],
   "source": [
    "kubectl delete deployment nginx-deployment"
   ]
  },
  {
   "cell_type": "markdown",
   "id": "4052e4f5",
   "metadata": {},
   "source": [
    "## DaemonSet\n",
    "\n",
    "The DaemonSet is a controller that runs a single instance of the same pod on each node in the cluster."
   ]
  },
  {
   "cell_type": "markdown",
   "id": "6ea54ee3",
   "metadata": {},
   "source": [
    "---\n",
    "\n",
    "The following cell runs the daemon set on the new cluster consisting of three nodes."
   ]
  },
  {
   "cell_type": "code",
   "execution_count": 3,
   "id": "f03728de",
   "metadata": {
    "vscode": {
     "languageId": "shellscript"
    }
   },
   "outputs": [
    {
     "name": "stdout",
     "output_type": "stream",
     "text": [
      "daemonset.apps/fluentd-agent created\n"
     ]
    }
   ],
   "source": [
    "minikube start --profile daemonset-example --nodes 3 &> /dev/null\n",
    "kubectl create -f - << EOF\n",
    "apiVersion: apps/v1\n",
    "kind: DaemonSet\n",
    "metadata:\n",
    "  name: fluentd-agent\n",
    "  namespace: default\n",
    "  labels:\n",
    "    k8s-app: fluentd-agent\n",
    "spec:\n",
    "  selector:\n",
    "    matchLabels:\n",
    "      k8s-app: fluentd-agent\n",
    "  template:\n",
    "    metadata:\n",
    "      labels:\n",
    "        k8s-app: fluentd-agent\n",
    "    spec:\n",
    "      containers:\n",
    "      - name: fluentd\n",
    "        image: quay.io/fluentd_elasticsearch/fluentd:v4.5.2\n",
    "EOF"
   ]
  },
  {
   "cell_type": "markdown",
   "id": "31508381",
   "metadata": {},
   "source": [
    "The following cell shows the pods in the cluster."
   ]
  },
  {
   "cell_type": "code",
   "execution_count": 4,
   "id": "2e0f6f0a",
   "metadata": {
    "vscode": {
     "languageId": "shellscript"
    }
   },
   "outputs": [
    {
     "name": "stdout",
     "output_type": "stream",
     "text": [
      "NAME                  READY   STATUS              RESTARTS   AGE   IP       NODE                    NOMINATED NODE   READINESS GATES\n",
      "fluentd-agent-f7hl4   0/1     ContainerCreating   0          0s    <none>   daemonset-example-m02   <none>           <none>\n",
      "fluentd-agent-wqkhj   0/1     ContainerCreating   0          0s    <none>   daemonset-example       <none>           <none>\n",
      "fluentd-agent-ztwl4   0/1     ContainerCreating   0          0s    <none>   daemonset-example-m03   <none>           <none>\n"
     ]
    }
   ],
   "source": [
    "kubectl get pods -o wide"
   ]
  },
  {
   "cell_type": "markdown",
   "id": "2515825d",
   "metadata": {},
   "source": [
    "The `NODE` column of the output is important here - each pod is on uniqe node, and the DaemonSet garantees that."
   ]
  },
  {
   "cell_type": "code",
   "execution_count": 7,
   "id": "a4688a7a",
   "metadata": {
    "vscode": {
     "languageId": "shellscript"
    }
   },
   "outputs": [],
   "source": [
    "minikube delete --profile daemonset-example &> /dev/null"
   ]
  }
 ],
 "metadata": {
  "kernelspec": {
   "display_name": "Bash",
   "language": "bash",
   "name": "bash"
  },
  "language_info": {
   "codemirror_mode": "shell",
   "file_extension": ".sh",
   "mimetype": "text/x-sh",
   "name": "bash"
  }
 },
 "nbformat": 4,
 "nbformat_minor": 5
}
