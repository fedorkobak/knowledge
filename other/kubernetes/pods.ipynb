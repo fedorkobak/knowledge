{
 "cells": [
  {
   "cell_type": "markdown",
   "id": "546da504",
   "metadata": {},
   "source": [
    "# Pods\n",
    "\n",
    "Pods are k8s abstractions that can be interpreted as a single application. In the container runtime, pods can be considered as a group of containers/volumes. This section discusses typical operations associated with pods."
   ]
  },
  {
   "cell_type": "markdown",
   "id": "34f9af7f",
   "metadata": {},
   "source": [
    "## Config\n",
    "\n",
    "You can use a configuration file to define a pod's properties. \n",
    "\n",
    "There are few important details associated with pods configuration:\n",
    "\n",
    "- The file can be in YAML or JSON format.\n",
    "- The command `kubectl create -f <file>` runs the pod specified in the given configuration file."
   ]
  },
  {
   "cell_type": "markdown",
   "id": "ad29d8dd",
   "metadata": {},
   "source": [
    "---\n",
    "\n",
    "The following cell creates the pod configuration file."
   ]
  },
  {
   "cell_type": "code",
   "execution_count": 7,
   "id": "510e2968",
   "metadata": {
    "vscode": {
     "languageId": "shellscript"
    }
   },
   "outputs": [],
   "source": [
    "rm -rf /tmp/pods_config && mkdir /tmp/pods_config\n",
    "cat << EOF > /tmp/pods_config/pods_config.yml\n",
    "apiVersion: v1\n",
    "kind: Pod\n",
    "metadata:\n",
    "  name: nginx-pod\n",
    "spec:\n",
    "  containers:\n",
    "  - name: nginx-pod\n",
    "    image: nginx:1.22.1\n",
    "    ports:\n",
    "    - containerPort: 80\n",
    "EOF"
   ]
  },
  {
   "cell_type": "markdown",
   "id": "277fd5d1",
   "metadata": {},
   "source": [
    "With `kubectl create -f <file name>` you can create the pod."
   ]
  },
  {
   "cell_type": "code",
   "execution_count": 8,
   "id": "f60fefcb",
   "metadata": {
    "vscode": {
     "languageId": "shellscript"
    }
   },
   "outputs": [
    {
     "name": "stdout",
     "output_type": "stream",
     "text": [
      "pod/nginx-pod created\n",
      "NAME                       READY   STATUS              RESTARTS       AGE\n",
      "bla-bla-7c4989cf78-9gmxz   0/1     CrashLoopBackOff    20 (30s ago)   77m\n",
      "nginx-pod                  0/1     ContainerCreating   0              0s\n"
     ]
    }
   ],
   "source": [
    "kubectl create -f /tmp/pods_config/pods_config.yml\n",
    "kubectl get pods"
   ]
  },
  {
   "cell_type": "code",
   "execution_count": 9,
   "id": "b7455346",
   "metadata": {
    "vscode": {
     "languageId": "shellscript"
    }
   },
   "outputs": [
    {
     "name": "stdout",
     "output_type": "stream",
     "text": [
      "pod \"nginx-pod\" deleted from default namespace\n"
     ]
    }
   ],
   "source": [
    "kubectl delete pod nginx-pod"
   ]
  },
  {
   "cell_type": "markdown",
   "id": "a5fda41b",
   "metadata": {},
   "source": [
    "### Generated config\n",
    "\n",
    "Use the `--dry-run` parameter to instruct the `kubectl run pod` to generate the config instead of actually running the pod. It typically used with the `-o <yaml/json>` parameter to specify the format."
   ]
  },
  {
   "cell_type": "markdown",
   "id": "9ecb1743",
   "metadata": {},
   "source": [
    "---\n",
    "\n",
    "The following cell shows the configuration for the nginx pod."
   ]
  },
  {
   "cell_type": "code",
   "execution_count": 6,
   "id": "ba3713fa",
   "metadata": {
    "vscode": {
     "languageId": "shellscript"
    }
   },
   "outputs": [
    {
     "name": "stdout",
     "output_type": "stream",
     "text": [
      "apiVersion: v1\n",
      "kind: Pod\n",
      "metadata:\n",
      "  labels:\n",
      "    run: pod\n",
      "  name: pod\n",
      "spec:\n",
      "  containers:\n",
      "  - args:\n",
      "    - nginx-pod\n",
      "    image: nginx:1.22.1\n",
      "    name: pod\n",
      "    resources: {}\n",
      "  dnsPolicy: ClusterFirst\n",
      "  restartPolicy: Always\n",
      "status: {}\n"
     ]
    }
   ],
   "source": [
    "kubectl run pod --dry-run=client -o yaml --image=nginx:1.22.1 nginx-pod"
   ]
  }
 ],
 "metadata": {
  "kernelspec": {
   "display_name": "Bash",
   "language": "bash",
   "name": "bash"
  },
  "language_info": {
   "codemirror_mode": "shell",
   "file_extension": ".sh",
   "mimetype": "text/x-sh",
   "name": "bash"
  }
 },
 "nbformat": 4,
 "nbformat_minor": 5
}
