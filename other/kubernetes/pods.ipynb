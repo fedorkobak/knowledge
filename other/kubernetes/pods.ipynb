{
 "cells": [
  {
   "cell_type": "markdown",
   "id": "546da504",
   "metadata": {},
   "source": [
    "# Pods\n",
    "\n",
    "Pods are k8s abstractions that can be interpreted as a single application. In the container runtime, pods can be considered as a group of containers/volumes. This section discusses typical operations associated with pods."
   ]
  },
  {
   "cell_type": "markdown",
   "id": "34f9af7f",
   "metadata": {},
   "source": [
    "## Config\n",
    "\n",
    "You can use a configuration file to define a pod's properties. \n",
    "\n",
    "There are few important details associated with pods configuration:\n",
    "\n",
    "- The file can be in YAML or JSON format.\n",
    "- The command `kubectl create -f <file>` runs the pod specified in the given configuration file."
   ]
  },
  {
   "cell_type": "markdown",
   "id": "ad29d8dd",
   "metadata": {},
   "source": [
    "---\n",
    "\n",
    "The following cell creates the pod configuration file."
   ]
  },
  {
   "cell_type": "code",
   "execution_count": 7,
   "id": "510e2968",
   "metadata": {
    "vscode": {
     "languageId": "shellscript"
    }
   },
   "outputs": [],
   "source": [
    "rm -rf /tmp/pods_config && mkdir /tmp/pods_config\n",
    "cat << EOF > /tmp/pods_config/pods_config.yml\n",
    "apiVersion: v1\n",
    "kind: Pod\n",
    "metadata:\n",
    "  name: nginx-pod\n",
    "spec:\n",
    "  containers:\n",
    "  - name: nginx-pod\n",
    "    image: nginx:1.22.1\n",
    "    ports:\n",
    "    - containerPort: 80\n",
    "EOF"
   ]
  },
  {
   "cell_type": "markdown",
   "id": "277fd5d1",
   "metadata": {},
   "source": [
    "With `kubectl create -f <file name>` you can create the pod."
   ]
  },
  {
   "cell_type": "code",
   "execution_count": 8,
   "id": "f60fefcb",
   "metadata": {
    "vscode": {
     "languageId": "shellscript"
    }
   },
   "outputs": [
    {
     "name": "stdout",
     "output_type": "stream",
     "text": [
      "pod/nginx-pod created\n",
      "NAME                       READY   STATUS              RESTARTS       AGE\n",
      "bla-bla-7c4989cf78-9gmxz   0/1     CrashLoopBackOff    20 (30s ago)   77m\n",
      "nginx-pod                  0/1     ContainerCreating   0              0s\n"
     ]
    }
   ],
   "source": [
    "kubectl create -f /tmp/pods_config/pods_config.yml\n",
    "kubectl get pods"
   ]
  },
  {
   "cell_type": "code",
   "execution_count": 9,
   "id": "b7455346",
   "metadata": {
    "vscode": {
     "languageId": "shellscript"
    }
   },
   "outputs": [
    {
     "name": "stdout",
     "output_type": "stream",
     "text": [
      "pod \"nginx-pod\" deleted from default namespace\n"
     ]
    }
   ],
   "source": [
    "kubectl delete pod nginx-pod"
   ]
  },
  {
   "cell_type": "markdown",
   "id": "a5fda41b",
   "metadata": {},
   "source": [
    "### Generated config\n",
    "\n",
    "Use the `--dry-run` parameter to instruct the `kubectl run pod` to generate the config instead of actually running the pod. It typically used with the `-o <yaml/json>` parameter to specify the format."
   ]
  },
  {
   "cell_type": "markdown",
   "id": "9ecb1743",
   "metadata": {},
   "source": [
    "---\n",
    "\n",
    "The following cell shows the configuration for the nginx pod."
   ]
  },
  {
   "cell_type": "code",
   "execution_count": 6,
   "id": "ba3713fa",
   "metadata": {
    "vscode": {
     "languageId": "shellscript"
    }
   },
   "outputs": [
    {
     "name": "stdout",
     "output_type": "stream",
     "text": [
      "apiVersion: v1\n",
      "kind: Pod\n",
      "metadata:\n",
      "  labels:\n",
      "    run: pod\n",
      "  name: pod\n",
      "spec:\n",
      "  containers:\n",
      "  - args:\n",
      "    - nginx-pod\n",
      "    image: nginx:1.22.1\n",
      "    name: pod\n",
      "    resources: {}\n",
      "  dnsPolicy: ClusterFirst\n",
      "  restartPolicy: Always\n",
      "status: {}\n"
     ]
    }
   ],
   "source": [
    "kubectl run pod --dry-run=client -o yaml --image=nginx:1.22.1 nginx-pod"
   ]
  },
  {
   "cell_type": "markdown",
   "id": "7e0eb0d9",
   "metadata": {},
   "source": [
    "## Describe\n",
    "\n",
    "Use the `nginx describe pod <pod_name>` command to check the status of a pod."
   ]
  },
  {
   "cell_type": "markdown",
   "id": "d9d812fd",
   "metadata": {},
   "source": [
    "---\n",
    "\n",
    "The following cell creates the pod and shows the `describe` for it."
   ]
  },
  {
   "cell_type": "code",
   "execution_count": null,
   "id": "29507336",
   "metadata": {
    "vscode": {
     "languageId": "shellscript"
    }
   },
   "outputs": [
    {
     "name": "stdout",
     "output_type": "stream",
     "text": [
      "Name:             nginx-pod\n",
      "Namespace:        default\n",
      "Priority:         0\n",
      "Service Account:  default\n",
      "Node:             minikube/192.168.49.2\n",
      "Start Time:       Mon, 13 Oct 2025 11:49:48 +0200\n",
      "Labels:           run=nginx-pod\n",
      "Annotations:      <none>\n",
      "Status:           Running\n",
      "IP:               10.244.0.23\n",
      "IPs:\n",
      "  IP:  10.244.0.23\n",
      "Containers:\n",
      "  nginx-pod:\n",
      "    Container ID:   docker://7a880563fab311448f207cb9909b63a34478f887fe7fca78a7aef99a5144451d\n",
      "    Image:          nginx:1.22.1\n",
      "    Image ID:       docker-pullable://nginx@sha256:fc5f5fb7574755c306aaf88456ebfbe0b006420a184d52b923d2f0197108f6b7\n",
      "    Port:           <none>\n",
      "    Host Port:      <none>\n",
      "    State:          Running\n",
      "      Started:      Mon, 13 Oct 2025 11:49:49 +0200\n",
      "    Ready:          True\n",
      "    Restart Count:  0\n",
      "    Environment:    <none>\n",
      "    Mounts:\n",
      "      /var/run/secrets/kubernetes.io/serviceaccount from kube-api-access-vt79d (ro)\n",
      "Conditions:\n",
      "  Type                        Status\n",
      "  PodReadyToStartContainers   True \n",
      "  Initialized                 True \n",
      "  Ready                       True \n",
      "  ContainersReady             True \n",
      "  PodScheduled                True \n",
      "Volumes:\n",
      "  kube-api-access-vt79d:\n",
      "    Type:                    Projected (a volume that contains injected data from multiple sources)\n",
      "    TokenExpirationSeconds:  3607\n",
      "    ConfigMapName:           kube-root-ca.crt\n",
      "    Optional:                false\n",
      "    DownwardAPI:             true\n",
      "QoS Class:                   BestEffort\n",
      "Node-Selectors:              <none>\n",
      "Tolerations:                 node.kubernetes.io/not-ready:NoExecute op=Exists for 300s\n",
      "                             node.kubernetes.io/unreachable:NoExecute op=Exists for 300s\n",
      "Events:\n",
      "  Type    Reason     Age   From               Message\n",
      "  ----    ------     ----  ----               -------\n",
      "  Normal  Scheduled  4s    default-scheduler  Successfully assigned default/nginx-pod to minikube\n",
      "  Normal  Pulled     3s    kubelet            Container image \"nginx:1.22.1\" already present on machine\n",
      "  Normal  Created    3s    kubelet            Created container: nginx-pod\n",
      "  Normal  Started    3s    kubelet            Started container nginx-pod\n"
     ]
    }
   ],
   "source": [
    "kubectl run nginx-pod --image=nginx:1.22.1\n",
    "kubectl describe pod nginx-pod"
   ]
  }
 ],
 "metadata": {
  "kernelspec": {
   "display_name": "Bash",
   "language": "bash",
   "name": "bash"
  },
  "language_info": {
   "codemirror_mode": "shell",
   "file_extension": ".sh",
   "mimetype": "text/x-sh",
   "name": "bash"
  }
 },
 "nbformat": 4,
 "nbformat_minor": 5
}
