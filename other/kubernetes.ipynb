{
 "cells": [
  {
   "cell_type": "markdown",
   "id": "bbc1b8fe-3551-40df-bbc6-d558c7d13801",
   "metadata": {},
   "source": [
    "# Kubernetes\n",
    "\n",
    "**Sources**\n",
    "\n",
    "- [Hello minikube](https://kubernetes.io/docs/tutorials/hello-minikube/) tutorial on official k8s site.\n",
    "- [kubernetes crashcourse](https://www.youtube.com/watch?v=s_o8dwzRlu4) video on youtube."
   ]
  },
  {
   "cell_type": "markdown",
   "id": "08b78eba",
   "metadata": {},
   "source": [
    "## Architecture\n",
    "\n",
    "K8s cluster generally consits of:\n",
    "\n",
    "- **Control plane nodes**: the brain of the cluster, contains **control plane agents**:\n",
    "\n",
    "    - API server (kube-api): Provides an RESTful interface to manage the cluster.\n",
    "    - The scheduler (kube-scheduler): assigns new workloads, such as pods to the nodes, which are typicaly workers.\n",
    "    - Controller Managers. A watch-loop application that periodically checks the state of the cluster. There are two types of the controller managers: kube-controller-manager and cloud-controller-manager.\n",
    "    - Key-Value Data Store ([etcd](https://etcd.io/)): distributed key-value map.\n",
    "    - Node Agent - kubelet.\n",
    "    - Proxy - kube-proxy.\n",
    "\n",
    "- **Worker nodes**: machines on which pods are executed. A worker consists of the following components:\n",
    "\n",
    "    - Container runtime: The tool to run containers. It could be Docker Engine, CRI-O, containerd, and Mirantis.\n",
    "    - Node Agent - kubelet.\n",
    "    - Proxy - kube-proxy.\n",
    "    - Optional add-ons: dashborads, cluster-level monitoring, and logging.\n",
    "\n",
    "\n",
    "A **pod** is the smallest unit in the Kubernetes. It literally represents an application. In the container runtime, it looks like a group of the containers that are deployed to handle a single application.\n",
    "\n",
    "**Proxy** is a special kube-proxy application installed on each node, that manages the node's the network."
   ]
  },
  {
   "cell_type": "markdown",
   "id": "86fd869e",
   "metadata": {},
   "source": [
    "### Kubelet\n",
    "\n",
    "A Kubelet is a special process in each node, that receives pod information from the API server and runs it in the container runtime.\n",
    "\n",
    "To communicate with a particular container runtime kubelete uses special abstraction service: \"CRI shim\". CRI: container runtime interface.\n",
    "\n",
    "The Kubelet uses a special abstraction service to communicate with a specific container runtime. This abstraction service hides the implementation details of the specific service."
   ]
  },
  {
   "cell_type": "markdown",
   "id": "17b194bc",
   "metadata": {},
   "source": [
    "![](kubernetes_files/Kubelet.svg)"
   ]
  },
  {
   "cell_type": "markdown",
   "id": "290a8641",
   "metadata": {},
   "source": [
    "The following CRI shims exist: cri-containerd, CRI-O, and cri-dockerd. Their names make it clear to which container runtimes they correspond. "
   ]
  },
  {
   "cell_type": "markdown",
   "id": "79845a64-9283-4170-8a96-73e49ad27d7c",
   "metadata": {},
   "source": [
    "## Setup\n",
    "\n",
    "For local experimentation setup you can try following solutions:\n",
    "\n",
    "- [Minikube](https://minikube.sigs.k8s.io/docs/) single- and multi-node local K8s cluster, recommended for a learning environment deployed on a single host.\n",
    "- [Kind](https://kind.sigs.k8s.io/) Multi-node Kubernetes cluster deployed in Docker containers acting as Kubernetes nodes, recommended for a learning environment.\n",
    "- [Microk8s](https://microk8s.io/) Local and cloud K8s cluster for developers and production, from Canonical.\n",
    "- [K3S](https://k3s.io/) Lightweight Kubernetes cluster for local, cloud, edge, IoT deployments, originally from Rancher, currently a CNCF project."
   ]
  },
  {
   "cell_type": "markdown",
   "id": "da46bef3-4158-41de-841d-8c44ce0263a9",
   "metadata": {},
   "source": [
    "### Minikube\n",
    "\n",
    "Minikube is local Kubernetes, focusing on making it easy to learn and develop for Kubernetes. Read more in [start with minikube](https://minikube.sigs.k8s.io/docs/start/?arch=%2Flinux%2Fx86-64%2Fstable%2Fbinary+download) page. This is a tool that we'll use to play with kubernetes.\n",
    "\n",
    "Check more examples in the [Minikube](kubernetes/minikube.ipynb) page."
   ]
  },
  {
   "cell_type": "markdown",
   "id": "acb96dc2",
   "metadata": {},
   "source": [
    "---\n",
    "\n",
    "Start the Minikube cluster using the `minikube start` command."
   ]
  },
  {
   "cell_type": "code",
   "execution_count": 23,
   "id": "a0042318",
   "metadata": {
    "vscode": {
     "languageId": "shellscript"
    }
   },
   "outputs": [],
   "source": [
    "minikube start &> /dev/null"
   ]
  },
  {
   "cell_type": "markdown",
   "id": "fe7e66e9",
   "metadata": {},
   "source": [
    "Use the command `minikube status` to check the status of your cluster."
   ]
  },
  {
   "cell_type": "code",
   "execution_count": 24,
   "id": "87274593",
   "metadata": {
    "vscode": {
     "languageId": "shellscript"
    }
   },
   "outputs": [
    {
     "name": "stdout",
     "output_type": "stream",
     "text": [
      "minikube\n",
      "type: Control Plane\n",
      "host: Running\n",
      "kubelet: Running\n",
      "apiserver: Running\n",
      "kubeconfig: Configured\n",
      "\n"
     ]
    }
   ],
   "source": [
    "minikube status"
   ]
  },
  {
   "cell_type": "markdown",
   "id": "60c66ba2",
   "metadata": {},
   "source": [
    "Use `minikube delete` to remove the current cluster of the minikube."
   ]
  },
  {
   "cell_type": "code",
   "execution_count": 25,
   "id": "88b0ae24",
   "metadata": {
    "vscode": {
     "languageId": "shellscript"
    }
   },
   "outputs": [
    {
     "name": "stdout",
     "output_type": "stream",
     "text": [
      "🔥  Deleting \"minikube\" in docker ...\n",
      "🔥  Deleting container \"minikube\" ...\n",
      "🔥  Removing /home/user/.minikube/machines/minikube ...\n",
      "💀  Removed all traces of the \"minikube\" cluster.\n"
     ]
    }
   ],
   "source": [
    "minikube delete"
   ]
  },
  {
   "cell_type": "markdown",
   "id": "b6a5217b",
   "metadata": {},
   "source": [
    "#### Autocompletion\n",
    "\n",
    "To set up `TAB` completion, add the script printed to the standard output by `minikube completion bash` to the source: `source <(minikube completion bash)`. To enable the completion when running the shell, add the command to the `~/.bashrc` file: `echo 'source <(minikube completion bash)' >> ~/.bashrc`."
   ]
  },
  {
   "cell_type": "markdown",
   "id": "98ac927d-f15c-4c94-a968-0c9d81793421",
   "metadata": {},
   "source": [
    "## kubectl\n",
    "\n",
    "`kubectl` is a command line interface that allows you to interact with Kubernetes."
   ]
  },
  {
   "cell_type": "markdown",
   "id": "7a0e73bd",
   "metadata": {},
   "source": [
    "Check [installation guide](https://kubernetes.io/docs/tasks/tools/install-kubectl-linux/) for `kubectl`.\n",
    "\n",
    "For me, using the ubuntu option `snap install kubectl --classic` worked well.\n",
    "\n",
    "To enable `TAB` completion add `source` the script printed with `kubectl completion bash`: `source <(kubectl completion bash)`. To enable completion at the start of the shell, add line into `~/.bashrc` file: `echo 'source <(kubectl completion bash)' >> ~/.bashrc`."
   ]
  },
  {
   "cell_type": "markdown",
   "id": "af08b675",
   "metadata": {},
   "source": [
    "If you're using `minikube`, you can access the `kubectl` using the command `minikube kubectl -- <subcommands>`. This will give you access to `kubectl` for minikube.\n",
    "\n",
    "**Note:** Even for learning purposes, we'll use a separate installation of the `kubectl`, as this installation closer to the real-world challanges."
   ]
  },
  {
   "cell_type": "markdown",
   "id": "63d91492",
   "metadata": {},
   "source": [
    "---\n",
    "\n",
    "The following cell shows the version of the cluster displayed using `minikube kubectl -- version --client`."
   ]
  },
  {
   "cell_type": "code",
   "execution_count": 7,
   "id": "7977f404-9cc3-4574-bb95-c24e1cfca01a",
   "metadata": {
    "vscode": {
     "languageId": "shellscript"
    }
   },
   "outputs": [
    {
     "name": "stdout",
     "output_type": "stream",
     "text": [
      "Client Version: v1.34.0\n",
      "Kustomize Version: v5.7.1\n"
     ]
    }
   ],
   "source": [
    "minikube kubectl -- version --client"
   ]
  },
  {
   "cell_type": "markdown",
   "id": "33042952",
   "metadata": {},
   "source": [
    "If you have successfully installed `kubectl` you will be able to run the following cell:"
   ]
  },
  {
   "cell_type": "code",
   "execution_count": 2,
   "id": "fff17364",
   "metadata": {
    "vscode": {
     "languageId": "shellscript"
    }
   },
   "outputs": [
    {
     "name": "stdout",
     "output_type": "stream",
     "text": [
      "Client Version: v1.34.1\n",
      "Kustomize Version: v5.7.1\n",
      "Server Version: v1.34.0\n"
     ]
    }
   ],
   "source": [
    "kubectl version"
   ]
  },
  {
   "cell_type": "markdown",
   "id": "67c4cb5c",
   "metadata": {},
   "source": [
    "### Configuration\n",
    "\n",
    "The behavior of the `kubectl` is typically defined by the configuration file that is located in the `~/.kube/config` directory."
   ]
  },
  {
   "cell_type": "markdown",
   "id": "018f44dc",
   "metadata": {},
   "source": [
    "---\n",
    "\n",
    "The following cell displays a few lines of the `kubectl` configuration."
   ]
  },
  {
   "cell_type": "code",
   "execution_count": 2,
   "id": "3190aa6a",
   "metadata": {
    "vscode": {
     "languageId": "shellscript"
    }
   },
   "outputs": [
    {
     "name": "stdout",
     "output_type": "stream",
     "text": [
      "apiVersion: v1\n",
      "clusters:\n",
      "- cluster:\n",
      "    certificate-authority: /home/user/.minikube/ca.crt\n",
      "    extensions:\n",
      "    - extension:\n",
      "        last-update: Mon, 13 Oct 2025 09:07:40 CEST\n",
      "        provider: minikube.sigs.k8s.io\n",
      "        version: v1.37.0\n",
      "      name: cluster_info\n"
     ]
    }
   ],
   "source": [
    "cat ~/.kube/config | head -n 10"
   ]
  },
  {
   "cell_type": "markdown",
   "id": "1d9e24dc",
   "metadata": {},
   "source": [
    "### Cluster information\n",
    "\n",
    "The `kubectl cluster-info` command displays the information about the cluster that `kubectl` currently connected to."
   ]
  },
  {
   "cell_type": "code",
   "execution_count": 3,
   "id": "b7dbb851",
   "metadata": {
    "vscode": {
     "languageId": "shellscript"
    }
   },
   "outputs": [
    {
     "name": "stdout",
     "output_type": "stream",
     "text": [
      "Kubernetes control plane is running at https://192.168.49.2:8443\n",
      "CoreDNS is running at https://192.168.49.2:8443/api/v1/namespaces/kube-system/services/kube-dns:dns/proxy\n",
      "\n",
      "To further debug and diagnose cluster problems, use 'kubectl cluster-info dump'.\n"
     ]
    }
   ],
   "source": [
    "kubectl cluster-info"
   ]
  },
  {
   "cell_type": "markdown",
   "id": "8764faf8",
   "metadata": {},
   "source": [
    "### Proxy\n",
    "\n",
    "Since `kubectl` is just convenient wrapper around the Kubernetes API, it can communicate with the kubernetes API and allow you to create a locally hosted proxy for it. Use the `kubectl proxy` command for this. "
   ]
  },
  {
   "cell_type": "markdown",
   "id": "a2553f4f",
   "metadata": {},
   "source": [
    "---\n",
    "\n",
    "The following cell runs the proxy."
   ]
  },
  {
   "cell_type": "code",
   "execution_count": 14,
   "id": "0a9b634c",
   "metadata": {
    "vscode": {
     "languageId": "shellscript"
    }
   },
   "outputs": [
    {
     "name": "stdout",
     "output_type": "stream",
     "text": [
      "[1] 101050\n"
     ]
    }
   ],
   "source": [
    "kubectl proxy &\n",
    "export proxy_pid=$!"
   ]
  },
  {
   "cell_type": "markdown",
   "id": "f18b3a7f",
   "metadata": {},
   "source": [
    "Now you are able to access api:"
   ]
  },
  {
   "cell_type": "code",
   "execution_count": 15,
   "id": "4ac35cfe",
   "metadata": {
    "vscode": {
     "languageId": "shellscript"
    }
   },
   "outputs": [
    {
     "name": "stdout",
     "output_type": "stream",
     "text": [
      "Starting to serve on 127.0.0.1:8001\n",
      "{\n",
      "  \"kind\": \"APIVersions\",\n",
      "  \"versions\": [\n",
      "    \"v1\"\n",
      "  ],\n",
      "  \"serverAddressByClientCIDRs\": [\n",
      "    {\n",
      "      \"clientCIDR\": \"0.0.0.0/0\",\n",
      "      \"serverAddress\": \"192.168.49.2:8443\"\n",
      "    }\n",
      "  ]\n",
      "}\n"
     ]
    }
   ],
   "source": [
    "curl localhost:8001/api"
   ]
  },
  {
   "cell_type": "code",
   "execution_count": 16,
   "id": "8929441c",
   "metadata": {
    "vscode": {
     "languageId": "shellscript"
    }
   },
   "outputs": [],
   "source": [
    "kill $proxy_pid"
   ]
  },
  {
   "cell_type": "markdown",
   "id": "889fd5a1",
   "metadata": {},
   "source": [
    "## Pods\n",
    "\n",
    "In k8s, a pod is an abstraction representing an application. In the container runtime, it is ususally represented by a set of the containers/volumes in the container runtime.\n",
    "\n",
    "The are following operations that you can do with the pods:\n",
    "\n",
    "| Opearation | `kubectl` command      |\n",
    "|------------|------------------------|\n",
    "| Create     | `kubectl create`       |\n",
    "| Run        | `kubectl run`          |\n",
    "| Get pods   | `kubectl get pods`     |\n",
    "| Describe   | `kubectl describe pod` |"
   ]
  },
  {
   "cell_type": "markdown",
   "id": "e95a080e",
   "metadata": {},
   "source": [
    "---\n",
    "\n",
    "The following cell uses the command `kubectl run` to create and run the pod."
   ]
  },
  {
   "cell_type": "code",
   "execution_count": 38,
   "id": "8f3dcff4",
   "metadata": {
    "vscode": {
     "languageId": "shellscript"
    }
   },
   "outputs": [
    {
     "name": "stdout",
     "output_type": "stream",
     "text": [
      "pod/nginx-pod created\n"
     ]
    }
   ],
   "source": [
    "kubectl run nginx-pod --image=nginx:1.22.1"
   ]
  },
  {
   "cell_type": "markdown",
   "id": "9662331f",
   "metadata": {},
   "source": [
    "The corresponding pod appears in the output of the `kubectl get pods` command."
   ]
  },
  {
   "cell_type": "code",
   "execution_count": 33,
   "id": "4fb1c843",
   "metadata": {
    "vscode": {
     "languageId": "shellscript"
    }
   },
   "outputs": [
    {
     "name": "stdout",
     "output_type": "stream",
     "text": [
      "NAME                       READY   STATUS             RESTARTS       AGE\n",
      "bla-bla-7c4989cf78-9gmxz   0/1     CrashLoopBackOff   9 (3m7s ago)   24m\n",
      "nginx-pod                  1/1     Running            0              2s\n"
     ]
    }
   ],
   "source": [
    "kubectl get pods"
   ]
  },
  {
   "cell_type": "markdown",
   "id": "72c5a18e",
   "metadata": {},
   "source": [
    "Use the command `kubectl delete pod <pod name>` to delete the pod. The following cell deletes the pod that was created earlier and lists the pods."
   ]
  },
  {
   "cell_type": "code",
   "execution_count": 39,
   "id": "a98e054e",
   "metadata": {
    "vscode": {
     "languageId": "shellscript"
    }
   },
   "outputs": [
    {
     "name": "stdout",
     "output_type": "stream",
     "text": [
      "pod \"nginx-pod\" deleted from default namespace\n",
      "NAME                       READY   STATUS             RESTARTS         AGE\n",
      "bla-bla-7c4989cf78-9gmxz   0/1     CrashLoopBackOff   10 (2m25s ago)   28m\n"
     ]
    }
   ],
   "source": [
    "kubectl delete pod nginx-pod\n",
    "kubectl get pods"
   ]
  },
  {
   "cell_type": "markdown",
   "id": "d01a1bb7-097a-4a81-9929-69baf536c9e3",
   "metadata": {},
   "source": [
    "## Core components\n",
    "\n",
    "Here we will discuss components of the kubernetes:\n",
    "\n",
    " - **Pod** is a group of containers.\n",
    " - **Deployment** is an abstraction that manages pods.\n",
    " - **Service** is pod that was exposed."
   ]
  },
  {
   "cell_type": "markdown",
   "id": "1734efb4-bd67-4151-a620-fbffbbcd4865",
   "metadata": {},
   "source": [
    "Creating `hello-node` deployment."
   ]
  },
  {
   "cell_type": "code",
   "execution_count": null,
   "id": "0aede080-8955-40e7-988a-649356b9dcd9",
   "metadata": {
    "vscode": {
     "languageId": "shellscript"
    }
   },
   "outputs": [
    {
     "name": "stdout",
     "output_type": "stream",
     "text": [
      "deployment.apps/hello-node created\n"
     ]
    }
   ],
   "source": [
    "!kubectl create deployment hello-node --image=registry.k8s.io/e2e-test-images/agnhost:2.39 -- /agnhost netexec --http-port=8080"
   ]
  },
  {
   "cell_type": "markdown",
   "id": "ea491afd-74fb-40d3-a6d5-56393a5d7693",
   "metadata": {},
   "source": [
    "Now we can access the deployments list:"
   ]
  },
  {
   "cell_type": "code",
   "execution_count": null,
   "id": "5d151a6f-a327-4240-b75f-a19debb9dd67",
   "metadata": {
    "vscode": {
     "languageId": "shellscript"
    }
   },
   "outputs": [
    {
     "name": "stdout",
     "output_type": "stream",
     "text": [
      "NAME         READY   UP-TO-DATE   AVAILABLE   AGE\n",
      "hello-node   1/1     1            1           51s\n"
     ]
    }
   ],
   "source": [
    "!kubectl get deployments"
   ]
  },
  {
   "cell_type": "markdown",
   "id": "e9272a7c-d18c-4eb1-9064-985b74843ecf",
   "metadata": {},
   "source": [
    "It have a pod that can be listed using the appropriate command:"
   ]
  },
  {
   "cell_type": "code",
   "execution_count": null,
   "id": "50fc529f-2919-4619-bd99-56a09b195d72",
   "metadata": {
    "vscode": {
     "languageId": "shellscript"
    }
   },
   "outputs": [
    {
     "name": "stdout",
     "output_type": "stream",
     "text": [
      "NAME                          READY   STATUS    RESTARTS   AGE\n",
      "hello-node-55fdcd95bf-v9w97   1/1     Running   0          2m18s\n"
     ]
    }
   ],
   "source": [
    "!kubectl get pods"
   ]
  },
  {
   "cell_type": "markdown",
   "id": "2c3b54fb-3740-49df-a769-e8eca40875d3",
   "metadata": {},
   "source": [
    "Now we only have a basic service that runs on k8s."
   ]
  },
  {
   "cell_type": "code",
   "execution_count": null,
   "id": "758ad38b-0831-4216-8a16-dfe06da9446c",
   "metadata": {
    "vscode": {
     "languageId": "shellscript"
    }
   },
   "outputs": [
    {
     "name": "stdout",
     "output_type": "stream",
     "text": [
      "NAME         TYPE        CLUSTER-IP   EXTERNAL-IP   PORT(S)   AGE\n",
      "kubernetes   ClusterIP   10.96.0.1    <none>        443/TCP   5m17s\n"
     ]
    }
   ],
   "source": [
    "!kubectl get services"
   ]
  },
  {
   "cell_type": "markdown",
   "id": "b691f4e7-351e-4fdc-8d6f-a2ced49e82b3",
   "metadata": {},
   "source": [
    "But after exposing `hello-node` we'll have one more service."
   ]
  },
  {
   "cell_type": "code",
   "execution_count": null,
   "id": "d2f97086-dba9-4cd3-9966-08849806238f",
   "metadata": {
    "vscode": {
     "languageId": "shellscript"
    }
   },
   "outputs": [
    {
     "name": "stderr",
     "output_type": "stream",
     "text": [
      "Error from server (AlreadyExists): services \"hello-node\" already exists\n"
     ]
    },
    {
     "name": "stdout",
     "output_type": "stream",
     "text": [
      "NAME         TYPE           CLUSTER-IP      EXTERNAL-IP   PORT(S)          AGE\n",
      "hello-node   LoadBalancer   10.97.143.213   <pending>     8080:32657/TCP   90s\n",
      "kubernetes   ClusterIP      10.96.0.1       <none>        443/TCP          7m57s\n"
     ]
    }
   ],
   "source": [
    "%%bash\n",
    "kubectl expose deployment hello-node --type=LoadBalancer --port=8080\n",
    "kubectl get services"
   ]
  }
 ],
 "metadata": {
  "kernelspec": {
   "display_name": "Bash",
   "language": "bash",
   "name": "bash"
  },
  "language_info": {
   "codemirror_mode": "shell",
   "file_extension": ".sh",
   "mimetype": "text/x-sh",
   "name": "bash"
  }
 },
 "nbformat": 4,
 "nbformat_minor": 5
}
