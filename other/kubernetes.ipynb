{
 "cells": [
  {
   "cell_type": "markdown",
   "id": "bbc1b8fe-3551-40df-bbc6-d558c7d13801",
   "metadata": {},
   "source": [
    "# Kubernetes"
   ]
  },
  {
   "cell_type": "markdown",
   "id": "da46bef3-4158-41de-841d-8c44ce0263a9",
   "metadata": {},
   "source": [
    "## Minicube\n",
    "\n",
    "Minikube is local Kubernetes, focusing on making it easy to learn and develop for Kubernetes. Read more in [start with minikube](https://minikube.sigs.k8s.io/docs/start/?arch=%2Flinux%2Fx86-64%2Fstable%2Fbinary+download) page. This is a tool that we'll use to play with kubernetes.\n",
    "\n",
    "You need to install it and use the command to start it:"
   ]
  },
  {
   "cell_type": "code",
   "execution_count": null,
   "id": "20e7959b-bc34-4afa-89c8-0400e0eb5727",
   "metadata": {},
   "outputs": [],
   "source": [
    "!minikube start"
   ]
  },
  {
   "cell_type": "markdown",
   "id": "da949463-bfb7-4a09-ab38-d38c26b69b3a",
   "metadata": {},
   "source": [
    "Once you've completed the previous command, you'll have a corresponding container called `minikube` in your docker. The following cell shows it."
   ]
  },
  {
   "cell_type": "code",
   "execution_count": 2,
   "id": "e5e72501-9fd0-4243-b84e-d82d090d4cc8",
   "metadata": {},
   "outputs": [
    {
     "name": "stdout",
     "output_type": "stream",
     "text": [
      "9e8762fc7e01   gcr.io/k8s-minikube/kicbase:v0.0.44   \"/usr/local/bin/entr…\"   51 seconds ago   Up 50 seconds   127.0.0.1:32772->22/tcp, 127.0.0.1:32771->2376/tcp, 127.0.0.1:32770->5000/tcp, 127.0.0.1:32769->8443/tcp, 127.0.0.1:32768->32443/tcp   minikube\n"
     ]
    }
   ],
   "source": [
    "!docker ps | grep minikube"
   ]
  },
  {
   "cell_type": "markdown",
   "id": "a89b6e9a-c2f0-49c3-a22b-c27e8e5727a8",
   "metadata": {},
   "source": [
    "To make sure everything is OK, try checking the minikube status."
   ]
  },
  {
   "cell_type": "code",
   "execution_count": 4,
   "id": "da69e532-9cc3-4aa6-9935-0ee564b3c55d",
   "metadata": {},
   "outputs": [
    {
     "name": "stdout",
     "output_type": "stream",
     "text": [
      "minikube\n",
      "type: Control Plane\n",
      "host: Running\n",
      "kubelet: Running\n",
      "apiserver: Running\n",
      "kubeconfig: Configured\n",
      "\n"
     ]
    }
   ],
   "source": [
    "!minikube status"
   ]
  }
 ],
 "metadata": {
  "kernelspec": {
   "display_name": "Python 3 (ipykernel)",
   "language": "python",
   "name": "python3"
  },
  "language_info": {
   "codemirror_mode": {
    "name": "ipython",
    "version": 3
   },
   "file_extension": ".py",
   "mimetype": "text/x-python",
   "name": "python",
   "nbconvert_exporter": "python",
   "pygments_lexer": "ipython3",
   "version": "3.10.12"
  }
 },
 "nbformat": 4,
 "nbformat_minor": 5
}
