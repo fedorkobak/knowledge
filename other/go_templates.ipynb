{
 "cells": [
  {
   "cell_type": "markdown",
   "metadata": {},
   "source": [
    "# Go templates\n",
    "\n",
    "This page overviews how to use go-lang string-processing sytax - `go-templates`. Check [description](https://pkg.go.dev/text/template) in the official site."
   ]
  },
  {
   "cell_type": "markdown",
   "metadata": {},
   "source": [
    "## Set up\n",
    "\n",
    "Obviously, you need `go-lang` to run Go templates, so this notebook requires a specific setup. It uses the [gonb](https://github.com/janpfeifer/gonb) kernel to execute the code."
   ]
  },
  {
   "cell_type": "markdown",
   "metadata": {},
   "source": [
    "We don't really need any other `go-lang` functions except `go-templates`, so the following cell defines a function `t` that takes template and prints the result of its execution to the standard output."
   ]
  },
  {
   "cell_type": "code",
   "execution_count": 12,
   "metadata": {},
   "outputs": [],
   "source": [
    "package main\n",
    "\n",
    "import (\n",
    "\t\"bytes\"\n",
    "\t\"text/template\"\n",
    "\t\"fmt\"\n",
    ")\n",
    "\n",
    "func t(templateStr string, data interface{}) () {\n",
    "\ttmpl, _ := template.New(\"tmpl\").Parse(templateStr)\n",
    "\tvar buf bytes.Buffer\n",
    "\ttmpl.Execute(&buf, data)\n",
    "\tfmt.Println(buf.String())\n",
    "}"
   ]
  },
  {
   "cell_type": "markdown",
   "metadata": {},
   "source": [
    "Following cell shows how it can be used. "
   ]
  },
  {
   "cell_type": "code",
   "execution_count": 13,
   "metadata": {},
   "outputs": [
    {
     "name": "stdout",
     "output_type": "stream",
     "text": [
      "Hello, Go!\n"
     ]
    }
   ],
   "source": [
    "%%\n",
    "t(\"Hello, {{.Name}}!\", map[string]string{\"Name\": \"Go\"})"
   ]
  }
 ],
 "metadata": {
  "kernelspec": {
   "display_name": "Go (gonb)",
   "language": "go",
   "name": "gonb"
  },
  "language_info": {
   "codemirror_mode": "",
   "file_extension": ".go",
   "mimetype": "",
   "name": "go",
   "nbconvert_exporter": "",
   "pygments_lexer": "",
   "version": "go1.23.2"
  }
 },
 "nbformat": 4,
 "nbformat_minor": 2
}
