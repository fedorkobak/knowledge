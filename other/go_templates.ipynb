{
 "cells": [
  {
   "cell_type": "markdown",
   "metadata": {},
   "source": [
    "# Go templates\n",
    "\n",
    "This page overviews how to use go-lang string-processing sytax - `go-templates`. Check [description](https://pkg.go.dev/text/template) in the official site."
   ]
  },
  {
   "cell_type": "markdown",
   "metadata": {},
   "source": [
    "## Set up\n",
    "\n",
    "Obviously, you need `go-lang` to run Go templates, so this notebook requires a specific setup. It uses the [gonb](https://github.com/janpfeifer/gonb) kernel to execute the code."
   ]
  },
  {
   "cell_type": "markdown",
   "metadata": {},
   "source": [
    "We don't really need any other `go-lang` functions except `go-templates`, so the following cell defines a function `t` that takes template and prints the result of its execution to the standard output."
   ]
  },
  {
   "cell_type": "code",
   "execution_count": 31,
   "metadata": {},
   "outputs": [],
   "source": [
    "package main\n",
    "\n",
    "import (\n",
    "\t\"bytes\"\n",
    "\t\"text/template\"\n",
    "\t\"fmt\"\n",
    ")\n",
    "\n",
    "func t(templateStr string, data ...interface{}) () {\n",
    "\t\n",
    "\tvar tmplData interface{}\n",
    "\tif len(data) > 0 {\n",
    "\t\ttmplData = data[0]\n",
    "\t}\n",
    "\n",
    "\ttmpl, _ := template.New(\"tmpl\").Parse(templateStr)\n",
    "\ttmpl.Execute(os.Stdout, tmplData)\n",
    "}"
   ]
  },
  {
   "cell_type": "markdown",
   "metadata": {},
   "source": [
    "The following cell shows how it can be used. Go templates are typically used to interpret data into a string. The function takes a template and data that need to be displayed using the template."
   ]
  },
  {
   "cell_type": "code",
   "execution_count": 32,
   "metadata": {},
   "outputs": [
    {
     "name": "stdout",
     "output_type": "stream",
     "text": [
      "Hello, Go!"
     ]
    }
   ],
   "source": [
    "%%\n",
    "t(\"Hello, {{.Name}}!\", map[string]string{\"Name\": \"Go\"})"
   ]
  },
  {
   "cell_type": "markdown",
   "metadata": {},
   "source": [
    "## Access by key \n",
    "\n",
    "You can access key-like elements of the data by using the syntax `.<key>`."
   ]
  },
  {
   "cell_type": "markdown",
   "metadata": {},
   "source": [
    "---\n",
    "\n",
    "The following cell extracts `val1` and `val2` into the template."
   ]
  },
  {
   "cell_type": "code",
   "execution_count": 49,
   "metadata": {},
   "outputs": [
    {
     "name": "stdout",
     "output_type": "stream",
     "text": [
      "Static text. var1: hello. var2: world"
     ]
    }
   ],
   "source": [
    "%%\n",
    "t(\n",
    "\t\"Static text. var1: {{ .val1 }}. var2: {{ .val2 }}\",\n",
    "\tmap[string]string{\"val1\": \"hello\", \"val2\": \"world\"},\n",
    ")"
   ]
  }
 ],
 "metadata": {
  "kernelspec": {
   "display_name": "Go (gonb)",
   "language": "go",
   "name": "gonb"
  },
  "language_info": {
   "codemirror_mode": "",
   "file_extension": ".go",
   "mimetype": "",
   "name": "go",
   "nbconvert_exporter": "",
   "pygments_lexer": "",
   "version": "go1.23.2"
  }
 },
 "nbformat": 4,
 "nbformat_minor": 2
}
