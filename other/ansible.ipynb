{
 "cells": [
  {
   "cell_type": "markdown",
   "metadata": {},
   "source": [
    "# Ansible\n",
    "\n",
    "[Ansible](https://docs.ansible.com/) is a tool that allows you to automate some common operations on a set of hosts."
   ]
  },
  {
   "cell_type": "markdown",
   "metadata": {},
   "source": [
    "There is separate section for description how to setup sandbox that I'll use to exeperiment with ansible. Check particular page for detail just use forllowing command to start the ansible sandbox:"
   ]
  },
  {
   "cell_type": "code",
   "execution_count": 1,
   "metadata": {
    "vscode": {
     "languageId": "shellscript"
    }
   },
   "outputs": [],
   "source": [
    "docker compose -f ansible/setup_files/compose.yml up -d &> /dev/null"
   ]
  },
  {
   "cell_type": "markdown",
   "metadata": {},
   "source": [
    "**Note** don't forget to down project after all."
   ]
  },
  {
   "cell_type": "code",
   "execution_count": null,
   "metadata": {
    "vscode": {
     "languageId": "shellscript"
    }
   },
   "outputs": [],
   "source": [
    "docker compose -f ansible/setup_files/compose.yml down --volumes &> /dev/null"
   ]
  },
  {
   "cell_type": "markdown",
   "metadata": {},
   "source": [
    "## Copy files\n",
    "\n",
    "You can copy files from master node to managed node by using corresponding [\"ansible.builtin.copy\" module](https://docs.ansible.com/ansible/latest/collections/ansible/builtin/copy_module.html)."
   ]
  },
  {
   "cell_type": "markdown",
   "metadata": {},
   "source": [
    "---\n",
    "\n",
    "The following cell creates a playbook that copies itself to the managed node:"
   ]
  },
  {
   "cell_type": "code",
   "execution_count": 2,
   "metadata": {
    "vscode": {
     "languageId": "shellscript"
    }
   },
   "outputs": [],
   "source": [
    "docker exec control_node sh -c  \"\n",
    "cat << EOF > playbook.yaml\n",
    "- name: Copy example\n",
    "  hosts: myhosts\n",
    "  tasks:\n",
    "   - name: Copy task\n",
    "     ansible.builtin.copy:\n",
    "       src: ./playbook.yaml\n",
    "       dest: /hello_secret_file\""
   ]
  },
  {
   "cell_type": "markdown",
   "metadata": {},
   "source": [
    "Here is what such playbook run looks like:"
   ]
  },
  {
   "cell_type": "code",
   "execution_count": 3,
   "metadata": {
    "vscode": {
     "languageId": "shellscript"
    }
   },
   "outputs": [
    {
     "name": "stdout",
     "output_type": "stream",
     "text": [
      "\n",
      "PLAY [Copy example] ************************************************************\n",
      "\n",
      "TASK [Gathering Facts] *********************************************************\n",
      "ok: [managed_node]\n",
      "\n",
      "TASK [Copy task] ***************************************************************\n",
      "changed: [managed_node]\n",
      "\n",
      "PLAY RECAP *********************************************************************\n",
      "managed_node               : ok=2    changed=1    unreachable=0    failed=0    skipped=0    rescued=0    ignored=0   \n",
      "\n"
     ]
    }
   ],
   "source": [
    "docker exec control_node ansible-playbook -i inventory.ini playbook.yaml"
   ]
  },
  {
   "cell_type": "markdown",
   "metadata": {},
   "source": [
    "As a result, you will find the copied file in the managed node:"
   ]
  },
  {
   "cell_type": "code",
   "execution_count": 5,
   "metadata": {
    "vscode": {
     "languageId": "shellscript"
    }
   },
   "outputs": [
    {
     "name": "stdout",
     "output_type": "stream",
     "text": [
      "- name: Copy example\n",
      "  hosts: myhosts\n",
      "  tasks:\n",
      "   - name: Copy task\n",
      "     ansible.builtin.copy:\n",
      "       src: ./playbook.yaml\n",
      "       dest: /hello_secret_file\n"
     ]
    }
   ],
   "source": [
    "docker exec managed_node cat hello_secret_file"
   ]
  }
 ],
 "metadata": {
  "kernelspec": {
   "display_name": "Bash",
   "language": "bash",
   "name": "bash"
  },
  "language_info": {
   "codemirror_mode": "shell",
   "file_extension": ".sh",
   "mimetype": "text/x-sh",
   "name": "bash"
  }
 },
 "nbformat": 4,
 "nbformat_minor": 2
}
