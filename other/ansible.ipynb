{
 "cells": [
  {
   "cell_type": "markdown",
   "metadata": {},
   "source": [
    "# Ansible\n",
    "\n",
    "**Sources**\n",
    "\n",
    "- [Building an inventory](https://docs.ansible.com/ansible/latest/getting_started/get_started_inventory.html)."
   ]
  },
  {
   "cell_type": "markdown",
   "metadata": {},
   "source": [
    "## Hello world\n",
    "\n",
    "To make ansible work we need:\n",
    "\n",
    "- Control node with ssh client and ansible installed.\n",
    "- Managed node with ssh server, and python interpreter.\n",
    "- Provide access from control node to managed node.\n",
    "\n",
    "The role of the nodes in our examples will be to play docker containers. The following cell creates docker containers and configures access between them."
   ]
  },
  {
   "cell_type": "code",
   "execution_count": 19,
   "metadata": {
    "vscode": {
     "languageId": "shellscript"
    }
   },
   "outputs": [
    {
     "name": "stdout",
     "output_type": "stream",
     "text": [
      "ade562fb2daef876f87e02abd24407aa9907dbc1dd46a11bbe9ba4d9ef369801\n",
      "d83689eadce86220ce6b96bb3f39aa3768a484fdfc7323fb7f3480311d28aaf5\n",
      "9c071a4146ea47505c369727dc96c7c291b4c3bc2d19d71da8a961bf4e16f44e\n",
      "Created directory '/root/.ssh'.\n",
      "WARNING: Running pip as the 'root' user can result in broken permissions and conflicting behaviour with the system package manager. It is recommended to use a virtual environment instead: https://pip.pypa.io/warnings/venv\n",
      "\n",
      "[notice] A new release of pip is available: 23.0.1 -> 24.1.2\n",
      "[notice] To update, run: pip install --upgrade pip\n"
     ]
    }
   ],
   "source": [
    "docker network create ansible_test_network\n",
    "docker run -itd --rm --name ansible_managed_node --network ansible_test_network python:3.10-alpine\n",
    "docker run -itd --rm --name ansible_control_node --network ansible_test_network python:3.10-alpine\n",
    "\n",
    "# openssh instalation\n",
    "docker exec ansible_managed_node sh -c \"\n",
    "apk add -q openssh\n",
    "ssh-keygen -A\n",
    "mkdir /root/.ssh\n",
    "/usr/sbin/sshd -D &\n",
    "\" > /dev/null\n",
    "\n",
    "docker exec ansible_control_node sh -c \"\n",
    "apk add openssh-client\n",
    "ssh-keygen -t rsa -N \\\"\\\" -f /root/.ssh/id_rsa\n",
    "pip3 install ansible\n",
    "# Add to the config statement that we don't need to enter if we want to save the new host.\n",
    "echo -e \\\"Host *\\n\\tStrictHostKeyChecking no\\n\\n\\\" > ~/.ssh/config\n",
    "\" > /dev/null\n",
    "\n",
    "export public_key=$(docker exec ansible_control_node cat /root/.ssh/id_rsa.pub)\n",
    "docker exec ansible_managed_node sh -c \"echo \\\"$public_key\\\" >> /root/.ssh/authorized_keys\""
   ]
  },
  {
   "cell_type": "markdown",
   "metadata": {},
   "source": [
    "**Note** don't forget to stop containres after all."
   ]
  },
  {
   "cell_type": "code",
   "execution_count": 18,
   "metadata": {
    "vscode": {
     "languageId": "shellscript"
    }
   },
   "outputs": [
    {
     "name": "stdout",
     "output_type": "stream",
     "text": [
      "ansible_managed_node\n",
      "ansible_control_node\n",
      "ansible_test_network\n"
     ]
    }
   ],
   "source": [
    "docker stop ansible_managed_node ansible_control_node\n",
    "docker network rm ansible_test_network"
   ]
  },
  {
   "cell_type": "markdown",
   "metadata": {},
   "source": [
    "### Inventory\n",
    "\n",
    "Inventories organise managed nodes into centralised files that provide Ansible with system information and network locations. An inventory file allows Ansible to manage a large number of hosts with a single command. So it's a file in which you list all the managed nodes."
   ]
  },
  {
   "cell_type": "markdown",
   "metadata": {},
   "source": [
    "Now in the control node we need to create an ansible config `inventory.ini` where we just specify managed node."
   ]
  },
  {
   "cell_type": "code",
   "execution_count": 20,
   "metadata": {
    "vscode": {
     "languageId": "shellscript"
    }
   },
   "outputs": [],
   "source": [
    "docker exec ansible_control_node sh -c  \"\n",
    "cat << EOF > inventory.ini\n",
    "[myhosts]\n",
    "ansible_managed_node\n",
    "EOF\""
   ]
  },
  {
   "cell_type": "markdown",
   "metadata": {},
   "source": [
    "Finally, try pinging the managed nodes using the command `ansible myhosts -m ping -i inventory.ini`."
   ]
  },
  {
   "cell_type": "code",
   "execution_count": 21,
   "metadata": {
    "vscode": {
     "languageId": "shellscript"
    }
   },
   "outputs": [
    {
     "name": "stdout",
     "output_type": "stream",
     "text": [
      "[WARNING]: Platform linux on host ansible_managed_node is using the discovered\n",
      "Python interpreter at /usr/local/bin/python3.10, but future installation of\n",
      "another Python interpreter could change the meaning of that path. See\n",
      "https://docs.ansible.com/ansible-\n",
      "core/2.17/reference_appendices/interpreter_discovery.html for more information.\n",
      "ansible_managed_node | SUCCESS => {\n",
      "    \"ansible_facts\": {\n",
      "        \"discovered_interpreter_python\": \"/usr/local/bin/python3.10\"\n",
      "    },\n",
      "    \"changed\": false,\n",
      "    \"ping\": \"pong\"\n",
      "}\n"
     ]
    }
   ],
   "source": [
    "docker exec ansible_control_node ansible myhosts -m ping -i inventory.ini"
   ]
  },
  {
   "cell_type": "markdown",
   "metadata": {},
   "source": [
    "As a result, we got the message `ansible_host | SUCCESS ...`, which tells us that we successfully ping the managed node."
   ]
  },
  {
   "cell_type": "markdown",
   "metadata": {},
   "source": [
    "### Playbook\n",
    "\n",
    "Playbooks are files with instructions. So below is a playbook that creates a play called `My first play`. This play will ping all hosts and then print a message."
   ]
  },
  {
   "cell_type": "code",
   "execution_count": 22,
   "metadata": {
    "vscode": {
     "languageId": "shellscript"
    }
   },
   "outputs": [],
   "source": [
    "docker exec ansible_control_node sh -c  \"\n",
    "cat << EOF > playbook.yaml\n",
    "- name: My first play\n",
    "  hosts: myhosts\n",
    "  tasks:\n",
    "   - name: Ping my hosts\n",
    "     ansible.builtin.ping:\n",
    "\n",
    "   - name: Print message\n",
    "     ansible.builtin.debug:\n",
    "      msg: Hello world\""
   ]
  },
  {
   "cell_type": "markdown",
   "metadata": {},
   "source": [
    "So now you can use the `ansible-playbook` command to play the playbook we have just created."
   ]
  },
  {
   "cell_type": "code",
   "execution_count": 23,
   "metadata": {
    "vscode": {
     "languageId": "shellscript"
    }
   },
   "outputs": [
    {
     "name": "stdout",
     "output_type": "stream",
     "text": [
      "\n",
      "PLAY [My first play] ***********************************************************\n",
      "\n",
      "TASK [Gathering Facts] *********************************************************\n",
      "[WARNING]: Platform linux on host ansible_managed_node is using the discovered\n",
      "Python interpreter at /usr/local/bin/python3.10, but future installation of\n",
      "another Python interpreter could change the meaning of that path. See\n",
      "https://docs.ansible.com/ansible-\n",
      "core/2.17/reference_appendices/interpreter_discovery.html for more information.\n",
      "ok: [ansible_managed_node]\n",
      "\n",
      "TASK [Ping my hosts] ***********************************************************\n",
      "ok: [ansible_managed_node]\n",
      "\n",
      "TASK [Print message] ***********************************************************\n",
      "ok: [ansible_managed_node] => {\n",
      "    \"msg\": \"Hello world\"\n",
      "}\n",
      "\n",
      "PLAY RECAP *********************************************************************\n",
      "ansible_managed_node       : ok=3    changed=0    unreachable=0    failed=0    skipped=0    rescued=0    ignored=0   \n",
      "\n"
     ]
    }
   ],
   "source": [
    "docker exec ansible_control_node ansible-playbook -i inventory.ini playbook.yaml"
   ]
  },
  {
   "cell_type": "markdown",
   "metadata": {},
   "source": [
    "So there are tasks: `Ping my hosts` and `Print message`, just as we specified."
   ]
  }
 ],
 "metadata": {
  "kernelspec": {
   "display_name": "Bash",
   "language": "bash",
   "name": "bash"
  },
  "language_info": {
   "codemirror_mode": "shell",
   "file_extension": ".sh",
   "mimetype": "text/x-sh",
   "name": "bash"
  }
 },
 "nbformat": 4,
 "nbformat_minor": 2
}
