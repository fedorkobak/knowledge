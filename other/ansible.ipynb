{
 "cells": [
  {
   "cell_type": "markdown",
   "metadata": {},
   "source": [
    "# Ansible\n",
    "\n",
    "`pip3 install ansible`"
   ]
  },
  {
   "cell_type": "code",
   "execution_count": 63,
   "metadata": {
    "vscode": {
     "languageId": "shellscript"
    }
   },
   "outputs": [
    {
     "name": "stdout",
     "output_type": "stream",
     "text": [
      "9ff67063d7727bd3235d92d786ea091e346c7daeb58bcd0e5e049fa071bf773d\n",
      "4c2629e8a699e21cfc1e48f6b784ff37ace8e27d1e92bcda894d84e5f9eda6dd\n",
      "6968562ab6cd2a472716f126bc55d12ffe363a83722573c904c6be70b9286add\n",
      "Created directory '/root/.ssh'.\n"
     ]
    }
   ],
   "source": [
    "docker network create ansible_test_network\n",
    "docker run -itd --rm --name ansible_host --network ansible_test_network python:3.10-alpine\n",
    "docker run -itd --rm --name ansible_client --network ansible_test_network python:3.10-alpine\n",
    "\n",
    "# openssh instalation\n",
    "docker exec ansible_host sh -c \"\n",
    "apk add -q openssh\n",
    "ssh-keygen -A\n",
    "mkdir /root/.ssh\n",
    "/usr/sbin/sshd -D &\" > /dev/null\n",
    "\n",
    "docker exec ansible_client sh -c \"\n",
    "apk add openssh-client &&\\\n",
    "ssh-keygen -t rsa -N \\\"\\\" -f /root/.ssh/id_rsa\" > /dev/null\n",
    "\n",
    "export public_key=$(docker exec ansible_client cat /root/.ssh/id_rsa.pub)\n",
    "docker exec ansible_host sh -c \"echo \\\"$public_key\\\" >> /root/.ssh/authorized_keys\""
   ]
  },
  {
   "cell_type": "code",
   "execution_count": 62,
   "metadata": {
    "vscode": {
     "languageId": "shellscript"
    }
   },
   "outputs": [
    {
     "name": "stdout",
     "output_type": "stream",
     "text": [
      "ansible_host\n",
      "ansible_client\n",
      "ansible_test_network\n"
     ]
    }
   ],
   "source": [
    "docker stop ansible_host ansible_client\n",
    "docker network rm ansible_test_network"
   ]
  },
  {
   "cell_type": "code",
   "execution_count": 67,
   "metadata": {
    "vscode": {
     "languageId": "shellscript"
    }
   },
   "outputs": [],
   "source": [
    "docker exec ansible_client sh -c  \"\n",
    "cat << EOF > inventory.ini\n",
    "[myhosts]\n",
    "ansible_host\n",
    "EOF\""
   ]
  },
  {
   "cell_type": "code",
   "execution_count": 69,
   "metadata": {
    "vscode": {
     "languageId": "shellscript"
    }
   },
   "outputs": [
    {
     "name": "stdout",
     "output_type": "stream",
     "text": [
      "[WARNING]: Platform linux on host ansible_host is using the discovered Python\n",
      "interpreter at /usr/local/bin/python3.10, but future installation of another\n",
      "Python interpreter could change the meaning of that path. See\n",
      "https://docs.ansible.com/ansible-\n",
      "core/2.17/reference_appendices/interpreter_discovery.html for more information.\n",
      "ansible_host | SUCCESS => {\n",
      "    \"ansible_facts\": {\n",
      "        \"discovered_interpreter_python\": \"/usr/local/bin/python3.10\"\n",
      "    },\n",
      "    \"changed\": false,\n",
      "    \"ping\": \"pong\"\n",
      "}\n"
     ]
    }
   ],
   "source": [
    "docker exec ansible_client ansible myhosts -m ping -i inventory.ini"
   ]
  }
 ],
 "metadata": {
  "kernelspec": {
   "display_name": "Bash",
   "language": "bash",
   "name": "bash"
  },
  "language_info": {
   "codemirror_mode": "shell",
   "file_extension": ".sh",
   "mimetype": "text/x-sh",
   "name": "bash"
  }
 },
 "nbformat": 4,
 "nbformat_minor": 2
}
