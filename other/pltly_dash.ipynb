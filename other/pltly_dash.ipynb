{
 "cells": [
  {
   "cell_type": "markdown",
   "id": "a37155a8-f04b-4309-940e-f2cffdfd3c27",
   "metadata": {},
   "source": [
    "# Experiments with plotly dash"
   ]
  },
  {
   "cell_type": "markdown",
   "id": "c0d3d602-2df0-40bf-a685-3a00f976402b",
   "metadata": {},
   "source": [
    "# Sources\n",
    "\n",
    "- <a href=\"https://dash.plotly.com/workspaces/using-dash-in-jupyter-and-workspaces\">Using dash inside jupyter</a>;\n",
    "- <a href=\"https://dash.plotly.com/dash-core-components/checklist\">Check list component in dash</a>;\n",
    "- <a href=\"https://dash.plotly.com/basic-callbacks\">Dash basic callbacks;</a>\n",
    "- <a href=\"https://github.com/plotly/dash/issues/1549\">Callback without output - github discussion</a>."
   ]
  },
  {
   "cell_type": "markdown",
   "id": "ba199e67-e31e-4289-93d6-7438c2481dca",
   "metadata": {},
   "source": [
    "# Callbacks\n",
    "\n",
    "It is a mechanism that allows you to create a function that will be called when you perform an action. It realised. This is implemented via the `dash.callback` decorator. More details in the <a href=\"https://dash.plotly.com/basic-callbacks\">documentation</a>. I will focus on some practical features."
   ]
  },
  {
   "cell_type": "markdown",
   "id": "55a5f97f-b88b-4695-8a75-8913f4df1d7c",
   "metadata": {},
   "source": [
    "### Input/output format\n",
    "\n",
    "Input/Output, implemented by `dash.Input`/`dash.Output`, which should be passed as arguments to the `callback` decorator. Constructors of the classes require the following syntax `(\"<object-id>\", \"<property>\")`, so you can choose which property to pass to the callback and which to change.\n",
    "\n",
    "In the following example, I simply take `dcc.Checklist.values` and link it to `ddc.Slider.marks`  - the markers on the `dcc.slider` will exactly match the selected checkboxes on the `dcc.checklist`."
   ]
  },
  {
   "cell_type": "code",
   "execution_count": 32,
   "id": "2d399ee9-4a60-422e-83fb-f16652524cbe",
   "metadata": {},
   "outputs": [],
   "source": [
    "from dash import dcc, html, Input, Output, callback\n",
    "from IPython.display import clear_output\n",
    "\n",
    "app = JupyterDash(__name__)\n",
    "options = list(range(0,20))\n",
    "value = [1,5]\n",
    "\n",
    "lst_val_to_slider_marks = lambda value: {val:str(val) for val in value}\n",
    "\n",
    "app.layout = html.Div(\n",
    "    [\n",
    "        dcc.Checklist(\n",
    "            options,\n",
    "            value = value,\n",
    "            id = \"check-lst\",\n",
    "            inline = True\n",
    "        ),\n",
    "        dcc.Slider(\n",
    "            min(options), max(options),\n",
    "            step = None,\n",
    "            marks = lst_val_to_slider_marks(value),\n",
    "            id = \"slider\"\n",
    "        )\n",
    "    ],\n",
    "    style={'display': 'flex', 'flex-direction': 'column'}\n",
    ")\n",
    "\n",
    "@callback(\n",
    "    Output(\"slider\", \"marks\"),\n",
    "    Input(\"check-lst\", \"value\")\n",
    ")\n",
    "def my_callback(val):\n",
    "    return lst_val_to_slider_marks(val)\n",
    "\n",
    "if __name__ == '__main__':\n",
    "    app.run_server(debug=True)\n",
    "clear_output()"
   ]
  },
  {
   "cell_type": "markdown",
   "id": "82ba1651-5668-4f3f-b826-c857af071d22",
   "metadata": {},
   "source": [
    "In site it will looks like:<br>\n",
    "<img src=\"pltly_dash_examples/callbacks_InpOut_formal.gif\"></img><br>\n",
    "Any check box you click - it will add one more marker on slider."
   ]
  },
  {
   "cell_type": "markdown",
   "id": "548d4450-8ab3-407c-93f0-5415a08d8a63",
   "metadata": {},
   "source": [
    "### Callback without output"
   ]
  },
  {
   "cell_type": "code",
   "execution_count": 7,
   "id": "95cbf7e9-b4f3-4e68-9915-d3f112170cd6",
   "metadata": {},
   "outputs": [
    {
     "name": "stdout",
     "output_type": "stream",
     "text": [
      "Dash is running on http://127.0.0.1:8050/\n",
      "\n",
      "Dash app running on http://127.0.0.1:8050/\n",
      "==========================\n",
      "    CILICK 1     \n",
      "==========================\n",
      "=====options=====\n",
      "['value1', 'value2', 'value3']\n",
      "=====vlaue=====\n",
      "['value2', 'value1']\n",
      "==========================\n",
      "    CILICK 2     \n",
      "==========================\n",
      "=====options=====\n",
      "['value1', 'value2', 'value3']\n",
      "=====vlaue=====\n",
      "None\n",
      "==========================\n",
      "    CILICK 3     \n",
      "==========================\n",
      "=====options=====\n",
      "['value1', 'value2', 'value3']\n",
      "=====vlaue=====\n",
      "None\n",
      "==========================\n",
      "    CILICK 4     \n",
      "==========================\n",
      "=====options=====\n",
      "['value1', 'value2', 'value3']\n",
      "=====vlaue=====\n",
      "['value2']\n"
     ]
    }
   ],
   "source": [
    "from dash import dcc, html, Input, Output, callback\n",
    "from jupyter_dash import JupyterDash\n",
    "\n",
    "app = JupyterDash(__name__)\n",
    "\n",
    "check_values = [\"value1\", \"value2\", \"value3\"]\n",
    "\n",
    "app.layout = html.Div([\n",
    "    html.Div(id='dummy1'),\n",
    "    dcc.Checklist(\n",
    "        check_values,\n",
    "        id = \"source-check-lst\"\n",
    "    )\n",
    "])\n",
    "\n",
    "clicks_counter = 0\n",
    "\n",
    "@callback(\n",
    "    Output(\"dummy1\", \"children\"),\n",
    "    Input('source-check-lst', 'options'),\n",
    "    Input('source-check-lst', 'value')\n",
    ")\n",
    "def test_callback(checklist_options, checklist_value):\n",
    "    global clicks_counter\n",
    "    clicks_counter += 1\n",
    "\n",
    "    print(\"==========================\")\n",
    "    print(f\"    CLICK {clicks_counter}     \")\n",
    "    print(\"==========================\")\n",
    "    \n",
    "    print(\"=====options=====\")\n",
    "    print(checklist_options)\n",
    "    print(\"=====vlaue=====\")\n",
    "    print(checklist_value)\n",
    "    return None\n",
    "\n",
    "if __name__ == '__main__':\n",
    "    app.run_server(debug=True)"
   ]
  },
  {
   "cell_type": "markdown",
   "id": "56de030b-c6c0-4409-809f-ff4dc0b426a5",
   "metadata": {},
   "source": [
    "# Checklist\n",
    "\n",
    "The component that implements a bunch of checkboxes.\n",
    "\n",
    "The following example shows what checklists return as values from checklist:"
   ]
  },
  {
   "cell_type": "code",
   "execution_count": 10,
   "id": "0f346904-bd8b-43e6-b54c-54381d313fc2",
   "metadata": {},
   "outputs": [
    {
     "name": "stdout",
     "output_type": "stream",
     "text": [
      "Dash is running on http://127.0.0.1:8050/\n",
      "\n",
      "Dash app running on http://127.0.0.1:8050/\n",
      "None\n",
      "['value2']\n",
      "['value2', 'value3']\n",
      "['value2', 'value3', 'value1']\n"
     ]
    }
   ],
   "source": [
    "from dash import dcc, html, Input, Output, callback\n",
    "from jupyter_dash import JupyterDash\n",
    "\n",
    "app = JupyterDash(__name__)\n",
    "\n",
    "check_values = [\"value1\", \"value2\", \"value3\"]\n",
    "\n",
    "\n",
    "app.layout = html.Div([\n",
    "    html.Div(id='dummy1'),\n",
    "    dcc.Checklist(\n",
    "        check_values,\n",
    "        id = \"source-check-lst\"\n",
    "    )\n",
    "])\n",
    "\n",
    "@callback(\n",
    "    Output(\"dummy1\", \"children\"),\n",
    "    Input('source-check-lst', 'value')\n",
    ")\n",
    "def test_callback(checklist_callback):\n",
    "    print(checklist_callback)\n",
    "    return None\n",
    "\n",
    "if __name__ == '__main__':\n",
    "    app.run_server(debug=True)"
   ]
  }
 ],
 "metadata": {
  "kernelspec": {
   "display_name": "Python 3 (ipykernel)",
   "language": "python",
   "name": "python3"
  },
  "language_info": {
   "codemirror_mode": {
    "name": "ipython",
    "version": 3
   },
   "file_extension": ".py",
   "mimetype": "text/x-python",
   "name": "python",
   "nbconvert_exporter": "python",
   "pygments_lexer": "ipython3",
   "version": "3.10.6"
  }
 },
 "nbformat": 4,
 "nbformat_minor": 5
}
