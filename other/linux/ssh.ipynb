{
 "cells": [
  {
   "cell_type": "markdown",
   "metadata": {},
   "source": [
    "# SSH\n",
    "\n",
    "This page shows aspects of working with the ssh connection. We will consider an example where an ssh connection is established from one Docker container to another."
   ]
  },
  {
   "cell_type": "markdown",
   "metadata": {},
   "source": [
    "## Set up"
   ]
  },
  {
   "cell_type": "markdown",
   "metadata": {},
   "source": [
    "Let's create the necessary docker entities:\n",
    "\n",
    "- `ssh_host` container that starts the ssh server - we would be able to connect to this server using ssh.\n",
    "- `ssh_client` container to which we will give access to the `ssh_host`.\n",
    "- `network` to allow communication between containers."
   ]
  },
  {
   "cell_type": "code",
   "execution_count": 2,
   "metadata": {
    "vscode": {
     "languageId": "shellscript"
    }
   },
   "outputs": [
    {
     "name": "stdout",
     "output_type": "stream",
     "text": [
      "a5e5d0804330499eb0b02eff204b6d8bbcf445961701f7302da30500fce2cb1d\n",
      "68864676721ced0b6ae7814c85f871f6014d3822e2c3a91f9c0a8d456f315cab\n",
      "8aa47ff70d428ca0aab8d0ecb61b2094e1bf4125f720f7bdff29c2cc95cf2810\n"
     ]
    }
   ],
   "source": [
    "docker network create ssh_test_network\n",
    "docker run -dit --rm --name ssh_host --network ssh_test_network alpine\n",
    "docker run -dit --rm --name ssh_client --network ssh_test_network alpine"
   ]
  },
  {
   "cell_type": "markdown",
   "metadata": {},
   "source": [
    "Install and start the ssh server."
   ]
  },
  {
   "cell_type": "code",
   "execution_count": 3,
   "metadata": {
    "vscode": {
     "languageId": "shellscript"
    }
   },
   "outputs": [],
   "source": [
    "docker exec -d ssh_host sh -c \" \n",
    "# openssh instalation\n",
    "apk add -q openssh\n",
    "# generating default host keys - they are necessary for running ssh server\n",
    "ssh-keygen -A\n",
    "# running ssh server\n",
    "/usr/sbin/sshd -D\""
   ]
  },
  {
   "cell_type": "markdown",
   "metadata": {},
   "source": [
    "Installing ssh client."
   ]
  },
  {
   "cell_type": "code",
   "execution_count": 4,
   "metadata": {
    "vscode": {
     "languageId": "shellscript"
    }
   },
   "outputs": [],
   "source": [
    "docker exec ssh_client apk add -q openssh-client"
   ]
  },
  {
   "cell_type": "markdown",
   "metadata": {},
   "source": [
    "**Note** Don't forget to stop the container and the network."
   ]
  },
  {
   "cell_type": "code",
   "execution_count": 1,
   "metadata": {
    "vscode": {
     "languageId": "shellscript"
    }
   },
   "outputs": [
    {
     "name": "stdout",
     "output_type": "stream",
     "text": [
      "ssh_client\n",
      "ssh_host\n",
      "ssh_test_network\n"
     ]
    }
   ],
   "source": [
    "docker stop ssh_client ssh_host\n",
    "docker network rm ssh_test_network"
   ]
  },
  {
   "cell_type": "markdown",
   "metadata": {},
   "source": [
    "## Generating key\n",
    "\n",
    "You need to generate an ssh key. It consists of two parts, a public key and a private key. You can generate it wherever you like. But in our example we will consider the most straightforward option - generating it on the client."
   ]
  },
  {
   "cell_type": "markdown",
   "metadata": {
    "vscode": {
     "languageId": "shellscript"
    }
   },
   "source": [
    "You can just run `ssh-keygen` and follow the CLI's instructions. It'll ask for filepath for the key and passphrase. However, due to the limitations of the jupyter notebook we are using for the presentation, we need to specify some options:\n",
    "\n",
    "- `t rsa`: This option specifies the type of key algorithm to use. In this case, it specifies RSA as the algorithm. RSA is a widely used asymmetric encryption algorithm.\n",
    "- `N \"\"` : This option sets the passphrase (or password) for the generated key. In your command, it is set to an empty string, effectively creating a key without a passphrase. It means that anyone with access to the private key file can use it without providing a passphrase.\n",
    "- `f /root/.ssh/id_rsa`: This option specifies the filename and path where the generated key pair will be stored. In this case, it will be stored in the /root/.ssh/ directory with the filename id_rsa. The id_rsa file will contain the private key, while the id_rsa.pub file (automatically generated) will contain the public key.\n"
   ]
  },
  {
   "cell_type": "code",
   "execution_count": 5,
   "metadata": {
    "vscode": {
     "languageId": "shellscript"
    }
   },
   "outputs": [
    {
     "name": "stdout",
     "output_type": "stream",
     "text": [
      "Generating public/private rsa key pair.\n",
      "Created directory '/root/.ssh'.\n",
      "Your identification has been saved in /root/.ssh/id_rsa\n",
      "Your public key has been saved in /root/.ssh/id_rsa.pub\n",
      "The key fingerprint is:\n",
      "SHA256:+BDIYEqA+idEbKfFYGv0FKv8H9mURzJxipslq+QrLMw root@8aa47ff70d42\n",
      "The key's randomart image is:\n",
      "+---[RSA 3072]----+\n",
      "|+o*oo.  . .      |\n",
      "|o=+*+o . +       |\n",
      "|ooo+= + = .      |\n",
      "|.oo.   O =       |\n",
      "| oo . * S .      |\n",
      "|  o+.. * .       |\n",
      "|o. o+ o o        |\n",
      "|.Eo  o .         |\n",
      "| . .. .          |\n",
      "+----[SHA256]-----+\n"
     ]
    }
   ],
   "source": [
    "docker exec ssh_client ssh-keygen -t rsa -N \"\" -f /root/.ssh/id_rsa"
   ]
  },
  {
   "cell_type": "markdown",
   "metadata": {},
   "source": [
    "After all I'll have `id_rsa` and `id_rsa.pub` files in my the sepcified for ssh keys folder."
   ]
  },
  {
   "cell_type": "code",
   "execution_count": 6,
   "metadata": {
    "vscode": {
     "languageId": "shellscript"
    }
   },
   "outputs": [
    {
     "name": "stdout",
     "output_type": "stream",
     "text": [
      "id_rsa\n",
      "id_rsa.pub\n"
     ]
    }
   ],
   "source": [
    "docker exec ssh_client ls /root/.ssh"
   ]
  },
  {
   "cell_type": "markdown",
   "metadata": {},
   "source": [
    "This is what the private key looks like."
   ]
  },
  {
   "cell_type": "code",
   "execution_count": 7,
   "metadata": {
    "vscode": {
     "languageId": "shellscript"
    }
   },
   "outputs": [
    {
     "name": "stdout",
     "output_type": "stream",
     "text": [
      "BTFBeF3HVrJAbSsDMHwrQoEuw7lKQ5j4ZQj0QgG6/sCaLog9wQNhkbBIQ0GKQ33T6MKyb0\n",
      "IKTeBieqcLuzi31BYal444jyqu3vFD/6e+XSF3+7RZ+y4O4z/rinbe0VgDaXgHw31rvFQv\n",
      "FvgjLkk5qtBYofewY97tiHZNmKWFYctN95WvDEXTGosm6wsLCCpWNZxtba9ash4ClKLCfp\n",
      "fc/rn8QL8VoU1/SHFfBaXLDbJCLB+tZB7/GoGzEbZAdN19913GQhcMZoIvBR1gDNGryXrt\n",
      "Z8+DV+nxByo/KZIXBvUotGLtTNMAOhH1xXzNEmy3AAAFiCrCInIqwiJyAAAAB3NzaC1yc2\n"
     ]
    }
   ],
   "source": [
    "docker exec ssh_client cat /root/.ssh/id_rsa | head -n 10 | tail -n 5"
   ]
  },
  {
   "cell_type": "markdown",
   "metadata": {},
   "source": [
    "**Note** Only a few lines can be printed here because Githab, which I use to save these pages, sends me notifications that I have credentials leaks."
   ]
  },
  {
   "cell_type": "markdown",
   "metadata": {},
   "source": [
    "And here is what the public key looks like."
   ]
  },
  {
   "cell_type": "code",
   "execution_count": 8,
   "metadata": {
    "vscode": {
     "languageId": "shellscript"
    }
   },
   "outputs": [
    {
     "name": "stdout",
     "output_type": "stream",
     "text": [
      "ssh-rsa AAAAB3NzaC1yc2EAAAADAQABAAABgQDC1spPOD80aZ7Cs4lfu6tXA0An/byUjsANPxDSRkSQN4WviFNeHBEGybOM3SrZBMqinpQ6q98AGG8htD3hLFQ3oO5iBSKQq6X0jiAxCiDsZdKADiyUmWRdm4m61vQ+OfAdDzOE0TVp8Bn5mOU9iXRGH/sql32EXMuaZvRdG3+SyLEZ7Gnq/mGKhVmL2ZyMxAYFMUF4XcdWskBtKwMwfCtCgS7DuUpDmPhlCPRCAbr+wJouiD3BA2GRsEhDQYpDfdPowrJvQgpN4GJ6pwu7OLfUFhqXjjiPKq7e8UP/p75dIXf7tFn7Lg7jP+uKdt7RWANpeAfDfWu8VC8W+CMuSTmq0Fih97Bj3u2Idk2YpYVhy033la8MRdMaiybrCwsIKlY1nG1tr1qyHgKUosJ+l9z+ufxAvxWhTX9IcV8FpcsNskIsH61kHv8agbMRtkB03X33XcZCFwxmgi8FHWAM0avJeu1nz4NX6fEHKj8pkhcG9Si0Yu1M0wA6EfXFfM0SbLc= root@8aa47ff70d42\n"
     ]
    }
   ],
   "source": [
    "docker exec ssh_client cat /root/.ssh/id_rsa.pub"
   ]
  },
  {
   "cell_type": "markdown",
   "metadata": {},
   "source": [
    "## Copying public key\n",
    "\n",
    "On the server, list all the public keys that have access in the `/root/.ssh/authorised_keys` file. In our case, there would only be one line corresponding to the generated pre-public key."
   ]
  },
  {
   "cell_type": "code",
   "execution_count": 9,
   "metadata": {
    "vscode": {
     "languageId": "shellscript"
    }
   },
   "outputs": [
    {
     "name": "stdout",
     "output_type": "stream",
     "text": [
      "Successfully copied 3.58kB to ssh_host:/root/.ssh/authorized_keys\n"
     ]
    }
   ],
   "source": [
    "docker exec ssh_client cat /root/.ssh/id_rsa.pub > authorized_keys\n",
    "docker exec ssh_host mkdir /root/.ssh\n",
    "docker cp authorized_keys ssh_host:/root/.ssh/authorized_keys\n",
    "rm authorized_keys"
   ]
  },
  {
   "cell_type": "markdown",
   "metadata": {},
   "source": [
    "**Note** files copied with the `docker ps` command have the wrong permissions and ownership - the following cell fixes this."
   ]
  },
  {
   "cell_type": "code",
   "execution_count": 10,
   "metadata": {
    "vscode": {
     "languageId": "shellscript"
    }
   },
   "outputs": [],
   "source": [
    "docker exec ssh_host chown root:root /root/.ssh/authorized_keys\n",
    "docker exec ssh_host chmod 644 /root/.ssh/authorized_keys"
   ]
  },
  {
   "cell_type": "markdown",
   "metadata": {},
   "source": [
    "## Getting acceess\n",
    "\n",
    "If setup correcd you can get ssh from the client server to the host server using command `ssh <user_name>@<host_name>`. In our example try:\n",
    "\n",
    "```bash\n",
    "docker exec -it ssh_client ssh root@ssh_host\n",
    "```\n",
    "\n",
    "So here is a rather tricky case - we have access to the `ssh_host` CLI through the `ssh_client` CLI."
   ]
  },
  {
   "cell_type": "markdown",
   "metadata": {},
   "source": [
    "The following cell shows that it works: we create files in `ssh_host`using `ssh_client`."
   ]
  },
  {
   "cell_type": "code",
   "execution_count": 11,
   "metadata": {
    "vscode": {
     "languageId": "shellscript"
    }
   },
   "outputs": [
    {
     "name": "stdout",
     "output_type": "stream",
     "text": [
      "Warning: Permanently added 'ssh_host' (ED25519) to the list of known hosts.\n",
      "file1\n",
      "file2\n",
      "file3\n",
      "file4\n",
      "file5\n"
     ]
    }
   ],
   "source": [
    "docker exec ssh_client\\\n",
    "    ssh -o StrictHostKeyChecking=no root@ssh_host touch file{1..5}\n",
    "docker exec ssh_host ls /root"
   ]
  },
  {
   "cell_type": "markdown",
   "metadata": {},
   "source": [
    "**Note** The `-o StrictHostKeyChecking=no` option is used here to prevent the client from asking if it needs to add host to the list of known hosts."
   ]
  }
 ],
 "metadata": {
  "kernelspec": {
   "display_name": "Bash",
   "language": "bash",
   "name": "bash"
  },
  "language_info": {
   "codemirror_mode": "shell",
   "file_extension": ".sh",
   "mimetype": "text/x-sh",
   "name": "bash"
  }
 },
 "nbformat": 4,
 "nbformat_minor": 2
}
