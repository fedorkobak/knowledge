{
 "cells": [
  {
   "cell_type": "markdown",
   "metadata": {},
   "source": [
    "# SSH\n",
    "\n",
    "This page shows aspects of working with the ssh connection. We will consider an example where an ssh connection is established from one Docker container to another.\n",
    "\n",
    "**Note:** strongly recommended to run this notebook in a secure environment it may display sensitive information related to ssh keys. Environment requires docker installation. However id doesn't have its won docker build - use setup described [here](https://fedorkobak.github.io/knowledge/docker/overview.html#docker-in-docker)."
   ]
  },
  {
   "cell_type": "markdown",
   "metadata": {},
   "source": [
    "## Set up\n",
    "\n",
    "Ssh host would be represented by docker container, the following cell runs docker container which we'll use as ssh host."
   ]
  },
  {
   "cell_type": "code",
   "execution_count": 27,
   "metadata": {
    "vscode": {
     "languageId": "shellscript"
    }
   },
   "outputs": [
    {
     "name": "stdout",
     "output_type": "stream",
     "text": [
      "83a7ecd035f2e0fbaf3cbf7bc75746dd40f45f775b4a089b1da6628823a4430d\n"
     ]
    }
   ],
   "source": [
    "docker run -dit --rm --name ssh_host -p 22:22 alpine"
   ]
  },
  {
   "cell_type": "markdown",
   "metadata": {},
   "source": [
    "Install and start the ssh server."
   ]
  },
  {
   "cell_type": "code",
   "execution_count": 30,
   "metadata": {
    "vscode": {
     "languageId": "shellscript"
    }
   },
   "outputs": [],
   "source": [
    "docker exec -d ssh_host sh -c \" \n",
    "# openssh instalation\n",
    "apk add -q openssh\n",
    "# generating default host keys - they are necessary for running ssh server\n",
    "ssh-keygen -A\n",
    "# running ssh server\n",
    "/usr/sbin/sshd -D\""
   ]
  },
  {
   "cell_type": "markdown",
   "metadata": {},
   "source": [
    "In the current environment, we only need the ssh client."
   ]
  },
  {
   "cell_type": "code",
   "execution_count": 3,
   "metadata": {
    "vscode": {
     "languageId": "shellscript"
    }
   },
   "outputs": [
    {
     "name": "stdout",
     "output_type": "stream",
     "text": [
      "\u001b7  0%                                                                           \u001b8\u001b[0K\n"
     ]
    }
   ],
   "source": [
    "apk add -q openssh-client"
   ]
  },
  {
   "cell_type": "markdown",
   "metadata": {},
   "source": [
    "## Generating key\n",
    "\n",
    "You need to generate an ssh key. It consists of two parts, a public key and a private key. You can generate it wherever you like. But in our example we will consider the most straightforward option - generating it on the client."
   ]
  },
  {
   "cell_type": "markdown",
   "metadata": {
    "vscode": {
     "languageId": "shellscript"
    }
   },
   "source": [
    "You can just run `ssh-keygen` and follow the CLI's instructions. It'll ask for filepath for the key and passphrase. However, due to the limitations of the jupyter notebook we are using for the presentation, we need to specify some options:\n",
    "\n",
    "- `t rsa`: This option specifies the type of key algorithm to use. In this case, it specifies RSA as the algorithm. RSA is a widely used asymmetric encryption algorithm.\n",
    "- `N \"\"` : This option sets the passphrase (or password) for the generated key. In your command, it is set to an empty string, effectively creating a key without a passphrase. It means that anyone with access to the private key file can use it without providing a passphrase.\n",
    "- `f /root/.ssh/id_rsa`: This option specifies the filename and path where the generated key pair will be stored. In this case, it will be stored in the /root/.ssh/ directory with the filename id_rsa. The id_rsa file will contain the private key, while the id_rsa.pub file (automatically generated) will contain the public key.\n"
   ]
  },
  {
   "cell_type": "code",
   "execution_count": 5,
   "metadata": {
    "vscode": {
     "languageId": "shellscript"
    }
   },
   "outputs": [
    {
     "name": "stdout",
     "output_type": "stream",
     "text": [
      "Generating public/private rsa key pair.\n",
      "Your identification has been saved in /root/.ssh/id_rsa\n",
      "Your public key has been saved in /root/.ssh/id_rsa.pub\n",
      "The key fingerprint is:\n",
      "SHA256:ckjSwAPtmsgMsQ+9nmo4q8qHYUI/BRT5a7Zl9TjE1VI root@d0d8db92d18f\n",
      "The key's randomart image is:\n",
      "+---[RSA 3072]----+\n",
      "|  o*+       oE   |\n",
      "|.  o+o     o .   |\n",
      "| + .+.o . . .    |\n",
      "|+.. .= . +       |\n",
      "|=+.+. + S o      |\n",
      "|o==o + = o .     |\n",
      "|+.o.+ +   .      |\n",
      "|+oo. .           |\n",
      "|O=.              |\n",
      "+----[SHA256]-----+\n"
     ]
    }
   ],
   "source": [
    "ssh-keygen -t rsa -N \"\" -f /root/.ssh/id_rsa"
   ]
  },
  {
   "cell_type": "markdown",
   "metadata": {},
   "source": [
    "After all I'll have `id_rsa` and `id_rsa.pub` files in my the sepcified for ssh keys folder."
   ]
  },
  {
   "cell_type": "code",
   "execution_count": 7,
   "metadata": {
    "vscode": {
     "languageId": "shellscript"
    }
   },
   "outputs": [
    {
     "name": "stdout",
     "output_type": "stream",
     "text": [
      "total 16\n",
      "-rw-------    1 root     root          2602 Feb  7 13:49 \u001b[0;0mid_rsa\u001b[m\n",
      "-rw-r--r--    1 root     root           571 Feb  7 13:49 \u001b[0;0mid_rsa.pub\u001b[m\n",
      "-rw-r--r--    1 root     root          6452 Feb  7 13:43 \u001b[0;0mknown_hosts\u001b[m\n"
     ]
    }
   ],
   "source": [
    "ls -l /root/.ssh"
   ]
  },
  {
   "cell_type": "markdown",
   "metadata": {},
   "source": [
    "This is what the private key looks like."
   ]
  },
  {
   "cell_type": "code",
   "execution_count": 8,
   "metadata": {
    "vscode": {
     "languageId": "shellscript"
    }
   },
   "outputs": [
    {
     "name": "stdout",
     "output_type": "stream",
     "text": [
      "Ijsp5A3yZUFB9RT6AwlvZ+tJxIts+rQGgHIRiHn1/ljZlhIIEKZKN7JV3IcrEfu9h8/uFo\n",
      "6vye3rFqAzHTEWBLhj76mWr3WEAVubTcA6s3OTvAzFAqEeEDSlQ1g0EWpiIwSgNX3uxrxJ\n",
      "jBulPmciF8mZ+4d8gp+0oAo2O3lbh9UeyxiZlMXowo7Vs9/e15HMjw4TJZLXNFAMc5XZha\n",
      "nPnaxBioBMdJ2fVBxeJ3/5hm1VeKT5XhOjKzAN7gKhdQmziv52SKokqyVmXZWe89uCwp/l\n",
      "/4ofy/CKYdcAQMByiWrJuB7lEgbsJrNvCREgIq/BAAAFiMFBm6vBQZurAAAAB3NzaC1yc2\n"
     ]
    }
   ],
   "source": [
    "cat /root/.ssh/id_rsa | head -n 10 | tail -n 5"
   ]
  },
  {
   "cell_type": "markdown",
   "metadata": {},
   "source": [
    "**Note** Only a few lines can be printed here because Githab, which I use to save these pages, sends me notifications that I have credentials leaks."
   ]
  },
  {
   "cell_type": "markdown",
   "metadata": {},
   "source": [
    "And here is what the public key looks like."
   ]
  },
  {
   "cell_type": "code",
   "execution_count": 36,
   "metadata": {
    "vscode": {
     "languageId": "shellscript"
    }
   },
   "outputs": [
    {
     "name": "stdout",
     "output_type": "stream",
     "text": [
      "ssh-rsa AAAAB3NzaC1yc2EAAAADAQABAAABgQC3tvsJRX1uxF+aiIkkFmNw+y0XQJ6lRbEBe6xR4XNUS9QQsjobl+PixLASVfMv9X2eEBxAH3reYvP/nham4+ztix+90Diad/n7ICKQB5wzegtRvSd6iwHF1jhLfUkLjqOzSzFJEND5LXdFMNKP/CnxcIHFYiPTSPS1RmMhwXAMKuVJfub+RbpVh0guTe3AJAkiOynkDfJlQUH1FPoDCW9n60nEi2z6tAaAchGIefX+WNmWEggQpko3slXchysR+72Hz+4Wjq/J7esWoDMdMRYEuGPvqZavdYQBW5tNwDqzc5O8DMUCoR4QNKVDWDQRamIjBKA1fe7GvEmMG6U+ZyIXyZn7h3yCn7SgCjY7eVuH1R7LGJmUxejCjtWz397XkcyPDhMlktc0UAxzldmFqc+drEGKgEx0nZ9UHF4nf/mGbVV4pPleE6MrMA3uAqF1CbOK/nZIqiSrJWZdlZ7z24LCn+X/ih/L8Iph1wBAwHKJasm4HuUSBuwms28JESAir8E= root@d0d8db92d18f\n"
     ]
    }
   ],
   "source": [
    "cat /root/.ssh/id_rsa.pub"
   ]
  },
  {
   "cell_type": "markdown",
   "metadata": {},
   "source": [
    "## Copying public key\n",
    "\n",
    "The list of public keys that have access to the server can be found `~/root/.ssh.authorized_keys` file."
   ]
  },
  {
   "cell_type": "code",
   "execution_count": 39,
   "metadata": {
    "vscode": {
     "languageId": "shellscript"
    }
   },
   "outputs": [],
   "source": [
    "docker exec ssh_host mkdir -p /root/.ssh\n",
    "docker exec ssh_host \\\n",
    "    sh -c \"echo $(cat ~/.ssh/id_rsa.pub) >> /root/.ssh/authorized_keys\""
   ]
  },
  {
   "cell_type": "markdown",
   "metadata": {},
   "source": [
    "## Getting access\n",
    "\n",
    "If setup is correct, you can get ssh from the client server to the host server using the command `ssh <user_name>@<host_name>`. In our example try:\n",
    "\n",
    "```bash\n",
    "docker exec -it ssh_client ssh root@ssh_host\n",
    "```\n",
    "\n",
    "So here is a rather tricky case - we have access to the `ssh_host` CLI through the `ssh_client` CLI."
   ]
  },
  {
   "cell_type": "markdown",
   "metadata": {},
   "source": [
    "---\n",
    "\n",
    "The following cell adds some files to the server via `ssh`."
   ]
  },
  {
   "cell_type": "code",
   "execution_count": 41,
   "metadata": {
    "vscode": {
     "languageId": "shellscript"
    }
   },
   "outputs": [],
   "source": [
    "ssh -o StrictHostKeyChecking=no root@localhost touch file{1..5}"
   ]
  },
  {
   "cell_type": "markdown",
   "metadata": {},
   "source": [
    "To make sure that ssh really worked, the following cell shows the created files in the `ls` output."
   ]
  },
  {
   "cell_type": "code",
   "execution_count": 43,
   "metadata": {
    "vscode": {
     "languageId": "shellscript"
    }
   },
   "outputs": [
    {
     "name": "stdout",
     "output_type": "stream",
     "text": [
      "file1\n",
      "file2\n",
      "file3\n",
      "file4\n",
      "file5\n"
     ]
    }
   ],
   "source": [
    "docker exec ssh_host ls /root"
   ]
  },
  {
   "cell_type": "markdown",
   "metadata": {},
   "source": [
    "**Note** The `-o StrictHostKeyChecking=no` option is used here to prevent the client from asking if it needs to add host to the list of known hosts."
   ]
  }
 ],
 "metadata": {
  "kernelspec": {
   "display_name": "Bash",
   "language": "bash",
   "name": "bash"
  },
  "language_info": {
   "codemirror_mode": "shell",
   "file_extension": ".sh",
   "mimetype": "text/x-sh",
   "name": "bash"
  }
 },
 "nbformat": 4,
 "nbformat_minor": 2
}
