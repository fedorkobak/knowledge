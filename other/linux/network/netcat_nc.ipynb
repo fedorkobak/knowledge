{
 "cells": [
  {
   "cell_type": "markdown",
   "metadata": {},
   "source": [
    "# Netcat (`nc`)\n",
    "\n",
    "The `nc` command is a linux utility that allows you to write to and listen to the network. See the official documentation of the canonical GNU net cat realization [here](https://netcat.sourceforge.net/)."
   ]
  },
  {
   "cell_type": "markdown",
   "metadata": {},
   "source": [
    "## Help\n",
    "\n",
    "The classic `--help` option doesn't work for the `nc` command - use `-h` instead. Or just check it in the following cell."
   ]
  },
  {
   "cell_type": "code",
   "execution_count": 1,
   "metadata": {
    "vscode": {
     "languageId": "shellscript"
    }
   },
   "outputs": [
    {
     "name": "stdout",
     "output_type": "stream",
     "text": [
      "OpenBSD netcat (Debian patchlevel 1.226-1ubuntu2)\n",
      "usage: nc [-46CDdFhklNnrStUuvZz] [-I length] [-i interval] [-M ttl]\n",
      "\t  [-m minttl] [-O length] [-P proxy_username] [-p source_port]\n",
      "\t  [-q seconds] [-s sourceaddr] [-T keyword] [-V rtable] [-W recvlimit]\n",
      "\t  [-w timeout] [-X proxy_protocol] [-x proxy_address[:port]]\n",
      "\t  [destination] [port]\n",
      "\tCommand Summary:\n",
      "\t\t-4\t\tUse IPv4\n",
      "\t\t-6\t\tUse IPv6\n",
      "\t\t-b\t\tAllow broadcast\n",
      "\t\t-C\t\tSend CRLF as line-ending\n",
      "\t\t-D\t\tEnable the debug socket option\n",
      "\t\t-d\t\tDetach from stdin\n",
      "\t\t-F\t\tPass socket fd\n",
      "\t\t-h\t\tThis help text\n",
      "\t\t-I length\tTCP receive buffer length\n",
      "\t\t-i interval\tDelay interval for lines sent, ports scanned\n",
      "\t\t-k\t\tKeep inbound sockets open for multiple connects\n",
      "\t\t-l\t\tListen mode, for inbound connects\n",
      "\t\t-M ttl\t\tOutgoing TTL / Hop Limit\n",
      "\t\t-m minttl\tMinimum incoming TTL / Hop Limit\n",
      "\t\t-N\t\tShutdown the network socket after EOF on stdin\n",
      "\t\t-n\t\tSuppress name/port resolutions\n",
      "\t\t-O length\tTCP send buffer length\n",
      "\t\t-P proxyuser\tUsername for proxy authentication\n",
      "\t\t-p port\t\tSpecify local port for remote connects\n",
      "\t\t-q secs\t\tquit after EOF on stdin and delay of secs\n",
      "\t\t-r\t\tRandomize remote ports\n",
      "\t\t-S\t\tEnable the TCP MD5 signature option\n",
      "\t\t-s sourceaddr\tLocal source address\n",
      "\t\t-T keyword\tTOS value\n",
      "\t\t-t\t\tAnswer TELNET negotiation\n",
      "\t\t-U\t\tUse UNIX domain socket\n",
      "\t\t-u\t\tUDP mode\n",
      "\t\t-V rtable\tSpecify alternate routing table\n",
      "\t\t-v\t\tVerbose\n",
      "\t\t-W recvlimit\tTerminate after receiving a number of packets\n",
      "\t\t-w timeout\tTimeout for connects and final net reads\n",
      "\t\t-X proto\tProxy protocol: \"4\", \"5\" (SOCKS) or \"connect\"\n",
      "\t\t-x addr[:port]\tSpecify proxy address and port\n",
      "\t\t-Z\t\tDCCP mode\n",
      "\t\t-z\t\tZero-I/O mode [used for scanning]\n",
      "\tPort numbers can be individual or ranges: lo-hi [inclusive]\n"
     ]
    }
   ],
   "source": [
    "nc -h"
   ]
  },
  {
   "cell_type": "markdown",
   "metadata": {},
   "source": [
    "## Modes\n",
    " \n",
    "There is two modes of the `nc` process: \n",
    "\n",
    "- Listener: listens to the messages. Can be specified by `-l` option, requires port as a positional argument.\n",
    "- Writer: sends messages. Requires host and port to which send messages as positional arguments."
   ]
  },
  {
   "cell_type": "markdown",
   "metadata": {},
   "source": [
    "---\n",
    "\n",
    "Consider the example where we start `nc` in a listener mode in docker and send to it messages from the host machine."
   ]
  },
  {
   "cell_type": "markdown",
   "metadata": {},
   "source": [
    "The following cell runs an `nc` in listen mode and redirects everything it hears to the `/tmp/nc_out` file."
   ]
  },
  {
   "cell_type": "code",
   "execution_count": 39,
   "metadata": {
    "vscode": {
     "languageId": "shellscript"
    }
   },
   "outputs": [],
   "source": [
    "(nc -l -w 30 -p 1234 &> /tmp/nc_out &) &> /dev/null"
   ]
  },
  {
   "cell_type": "markdown",
   "metadata": {},
   "source": [
    "Now you can run `nc localhost 1234` in the terminal, every line you type will be written to port 1234 on `localhost`. Due to the liminations of represenations in jupyter notebook, we can't show here, how it works, but the following cell sends a line to the listener."
   ]
  },
  {
   "cell_type": "code",
   "execution_count": 40,
   "metadata": {
    "vscode": {
     "languageId": "shellscript"
    }
   },
   "outputs": [],
   "source": [
    "echo \"my message by network\" | nc -w 1 localhost 1234"
   ]
  },
  {
   "cell_type": "markdown",
   "metadata": {},
   "source": [
    "Finally, let's check if the line was really redirected by the listener to the `/tmp/nc_out`."
   ]
  },
  {
   "cell_type": "code",
   "execution_count": 41,
   "metadata": {
    "vscode": {
     "languageId": "shellscript"
    }
   },
   "outputs": [
    {
     "name": "stdout",
     "output_type": "stream",
     "text": [
      "my message by network\n"
     ]
    }
   ],
   "source": [
    "cat /tmp/nc_out"
   ]
  },
  {
   "cell_type": "markdown",
   "metadata": {},
   "source": [
    "## Infinite sender\n",
    "\n",
    "Sometimes, for debugging purposes, it's useful to have an infinite sender - every time something tries to connect, it sends something."
   ]
  },
  {
   "cell_type": "markdown",
   "metadata": {},
   "source": [
    "---\n",
    "\n",
    "The following cell shows how such a tool can be started using typical bash syntax."
   ]
  },
  {
   "cell_type": "code",
   "execution_count": 5,
   "metadata": {
    "vscode": {
     "languageId": "shellscript"
    }
   },
   "outputs": [
    {
     "name": "stdout",
     "output_type": "stream",
     "text": [
      "[1] 1755455\n"
     ]
    }
   ],
   "source": [
    "while true; do echo \"hello world\" | nc localhost 12345; done &"
   ]
  },
  {
   "cell_type": "markdown",
   "metadata": {},
   "source": [
    "And now every time you add a listener to it the listener will immeditely throw the message specified in the writer."
   ]
  },
  {
   "cell_type": "code",
   "execution_count": 8,
   "metadata": {
    "vscode": {
     "languageId": "shellscript"
    }
   },
   "outputs": [
    {
     "name": "stdout",
     "output_type": "stream",
     "text": [
      "hello world\n"
     ]
    }
   ],
   "source": [
    "nc -w 1 -l localhost 12345"
   ]
  },
  {
   "cell_type": "markdown",
   "metadata": {},
   "source": [
    "## Packages\n",
    "\n",
    "There are two versions of the `nc` command, they are used for the same purposes but have some peculiarities associated with working with them.\n",
    "\n",
    "- Use `apt install netcat-openbsd` for the Ubuntu installation. We'll using this version in the general examples.\n",
    "- Use `apt  install netcat-traditional` for a different version."
   ]
  },
  {
   "cell_type": "markdown",
   "metadata": {},
   "source": [
    "---\n",
    "\n",
    "The following cell installs both the traditional and OpenBSD versions of the program - it's no problem to have both."
   ]
  },
  {
   "cell_type": "code",
   "execution_count": 1,
   "metadata": {
    "vscode": {
     "languageId": "shellscript"
    }
   },
   "outputs": [],
   "source": [
    "apt install netcat-openbsd netcat-traditional &> /dev/null"
   ]
  },
  {
   "cell_type": "markdown",
   "metadata": {},
   "source": [
    "You can identify what exactly version you're using by by looking at first line of the help."
   ]
  },
  {
   "cell_type": "code",
   "execution_count": 6,
   "metadata": {
    "vscode": {
     "languageId": "shellscript"
    }
   },
   "outputs": [
    {
     "name": "stdout",
     "output_type": "stream",
     "text": [
      "OpenBSD netcat (Debian patchlevel 1.219-1)\n"
     ]
    }
   ],
   "source": [
    "nc -h 2>&1 | head -n 1"
   ]
  },
  {
   "cell_type": "markdown",
   "metadata": {},
   "source": [
    "The default `nc` command refers to the OpenBSD version. However, you can access a specific version by using `nc.traditional` for traditional version and `nc.openbsd` for the OpenBSD version."
   ]
  },
  {
   "cell_type": "code",
   "execution_count": 9,
   "metadata": {
    "vscode": {
     "languageId": "shellscript"
    }
   },
   "outputs": [
    {
     "name": "stdout",
     "output_type": "stream",
     "text": [
      "[v1.10-47]\n"
     ]
    }
   ],
   "source": [
    "nc.traditional -h 2>&1 | head -n 1"
   ]
  },
  {
   "cell_type": "code",
   "execution_count": 10,
   "metadata": {
    "vscode": {
     "languageId": "shellscript"
    }
   },
   "outputs": [
    {
     "name": "stdout",
     "output_type": "stream",
     "text": [
      "OpenBSD netcat (Debian patchlevel 1.219-1)\n"
     ]
    }
   ],
   "source": [
    "nc.openbsd -h 2>&1 | head -n 1"
   ]
  },
  {
   "cell_type": "markdown",
   "metadata": {},
   "source": [
    "## Adress and port\n",
    "\n",
    "For the `nc` command, you must specify the address and port. There are few options to specify them. Use the syntax:\n",
    "\n",
    "- `nc -l -p <port>` to listen on the specified port on localhost.\n",
    "- `nc -l <address> <port>` to listen on the specified port of the specified address.\n",
    "- **Note:** if you are using `nc.traditional` you can't use `nc -l <address> <port>` - you have to specify port with `-p` parameter and address with `-s`"
   ]
  },
  {
   "cell_type": "markdown",
   "metadata": {},
   "source": [
    "---\n",
    "\n",
    "The following cell starts an infinite sender that we'll use to test different listening options."
   ]
  },
  {
   "cell_type": "code",
   "execution_count": 8,
   "metadata": {
    "vscode": {
     "languageId": "shellscript"
    }
   },
   "outputs": [
    {
     "name": "stdout",
     "output_type": "stream",
     "text": [
      "[4] 3605158\n"
     ]
    }
   ],
   "source": [
    "while true; do echo \"hello world\" | nc localhost 12345; done &"
   ]
  },
  {
   "cell_type": "markdown",
   "metadata": {},
   "source": [
    "Listening on the port `12345`, the `localhost` as address is not explicitly specified."
   ]
  },
  {
   "cell_type": "code",
   "execution_count": 11,
   "metadata": {
    "vscode": {
     "languageId": "shellscript"
    }
   },
   "outputs": [
    {
     "name": "stdout",
     "output_type": "stream",
     "text": [
      "hello world\n"
     ]
    }
   ],
   "source": [
    "nc -w 1 -l -p 12345"
   ]
  },
  {
   "cell_type": "markdown",
   "metadata": {},
   "source": [
    "Using the `<address> <port>` syntax as a positional argument allows you to specify address and port explicitly."
   ]
  },
  {
   "cell_type": "code",
   "execution_count": 14,
   "metadata": {
    "vscode": {
     "languageId": "shellscript"
    }
   },
   "outputs": [
    {
     "name": "stdout",
     "output_type": "stream",
     "text": [
      "hello world\n"
     ]
    }
   ],
   "source": [
    "nc -w 1 -l localhost 12345"
   ]
  },
  {
   "cell_type": "markdown",
   "metadata": {},
   "source": [
    "You can spend some time trying to get `nc.traditional` to work with this syntax, but it's not possible, the following cell shows that it doesn't work."
   ]
  },
  {
   "cell_type": "code",
   "execution_count": 17,
   "metadata": {
    "vscode": {
     "languageId": "shellscript"
    }
   },
   "outputs": [
    {
     "name": "stdout",
     "output_type": "stream",
     "text": [
      "\n"
     ]
    }
   ],
   "source": [
    "timeout 1s nc.traditional -l localhost 12345\n",
    "true"
   ]
  },
  {
   "cell_type": "markdown",
   "metadata": {},
   "source": [
    "But by specifying the address through the `s` parameter and the port through `p` parameter, it will work with `nc.traditional` as well."
   ]
  },
  {
   "cell_type": "code",
   "execution_count": 15,
   "metadata": {
    "vscode": {
     "languageId": "shellscript"
    }
   },
   "outputs": [
    {
     "name": "stdout",
     "output_type": "stream",
     "text": [
      "hello world\n",
      "\n"
     ]
    }
   ],
   "source": [
    "timeout 1s nc.traditional -l -s localhost -p 12345\n",
    "true"
   ]
  }
 ],
 "metadata": {
  "kernelspec": {
   "display_name": "Bash",
   "language": "bash",
   "name": "bash"
  },
  "language_info": {
   "codemirror_mode": "shell",
   "file_extension": ".sh",
   "mimetype": "text/x-sh",
   "name": "bash"
  }
 },
 "nbformat": 4,
 "nbformat_minor": 2
}
