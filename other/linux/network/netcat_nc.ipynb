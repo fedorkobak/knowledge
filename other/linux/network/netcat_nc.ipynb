{
 "cells": [
  {
   "cell_type": "markdown",
   "metadata": {},
   "source": [
    "# Netcat (`nc`)\n",
    "\n",
    "The `nc` command is a linux utility that allows you to write to and listen to the network. See the official documentation of the canonical GNU net cat realization [here](https://netcat.sourceforge.net/)."
   ]
  },
  {
   "cell_type": "markdown",
   "metadata": {},
   "source": [
    "## Modes\n",
    " \n",
    "There is two modes of the `nc` process: \n",
    "\n",
    "- Listener: listens to the messages. Can be specified by `-l` option, requires port as a positional argument.\n",
    "- Writer: sends messages. Requires host and port to which send messages as positional arguments."
   ]
  },
  {
   "cell_type": "markdown",
   "metadata": {},
   "source": [
    "---\n",
    "\n",
    "Consider the example where we start `nc` in a listener mode in docker and send to it messages from the host machine."
   ]
  },
  {
   "cell_type": "markdown",
   "metadata": {},
   "source": [
    "The following cell runs an `nc` in listen mode and redirects everything it hears to the `/tmp/nc_out` file."
   ]
  },
  {
   "cell_type": "code",
   "execution_count": 39,
   "metadata": {
    "vscode": {
     "languageId": "shellscript"
    }
   },
   "outputs": [],
   "source": [
    "(nc -l -w 30 -p 1234 &> /tmp/nc_out &) &> /dev/null"
   ]
  },
  {
   "cell_type": "markdown",
   "metadata": {},
   "source": [
    "Now you can run `nc localhost 1234` in the terminal, every line you type will be written to port 1234 on `localhost`. Due to the liminations of represenations in jupyter notebook, we can't show here, how it works, but the following cell sends a line to the listener."
   ]
  },
  {
   "cell_type": "code",
   "execution_count": 40,
   "metadata": {
    "vscode": {
     "languageId": "shellscript"
    }
   },
   "outputs": [],
   "source": [
    "echo \"my message by network\" | nc -w 1 localhost 1234"
   ]
  },
  {
   "cell_type": "markdown",
   "metadata": {},
   "source": [
    "Finally, let's check if the line was really redirected by the listener to the `/tmp/nc_out`."
   ]
  },
  {
   "cell_type": "code",
   "execution_count": 41,
   "metadata": {
    "vscode": {
     "languageId": "shellscript"
    }
   },
   "outputs": [
    {
     "name": "stdout",
     "output_type": "stream",
     "text": [
      "my message by network\n"
     ]
    }
   ],
   "source": [
    "cat /tmp/nc_out"
   ]
  }
 ],
 "metadata": {
  "kernelspec": {
   "display_name": "Bash",
   "language": "bash",
   "name": "bash"
  },
  "language_info": {
   "codemirror_mode": "shell",
   "file_extension": ".sh",
   "mimetype": "text/x-sh",
   "name": "bash"
  }
 },
 "nbformat": 4,
 "nbformat_minor": 2
}
