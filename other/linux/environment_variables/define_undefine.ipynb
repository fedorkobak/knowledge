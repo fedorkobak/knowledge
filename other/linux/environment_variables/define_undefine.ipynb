{
 "cells": [
  {
   "cell_type": "markdown",
   "metadata": {},
   "source": [
    "# Define/Undefine\n",
    "\n",
    "This page discusses various methods to create and update environment variables in Linux."
   ]
  },
  {
   "cell_type": "markdown",
   "metadata": {},
   "source": [
    "## Reading from file\n",
    "\n",
    "Popular way to store environment variables is to use so called `.env` file. It's a file of format:\n",
    "\n",
    "\n",
    "```bash\n",
    "<name1>=<value1>\n",
    "<name2>=<value2>\n",
    "...\n",
    "```\n",
    "\n",
    "You can run it in the current shell with `source <filename>` or `. <filename>`. So all variables from the file will appear in your environment.\n",
    "\n",
    "**Note:** although .`env` are technically executable files, using `bash <filename>` will not work because this approach creates a new session rather than executing the script in the old one."
   ]
  },
  {
   "cell_type": "markdown",
   "metadata": {},
   "source": [
    "---\n",
    "\n",
    "The following cell creates a `.env` file that we'll use as an example."
   ]
  },
  {
   "cell_type": "code",
   "execution_count": 5,
   "metadata": {
    "vscode": {
     "languageId": "shellscript"
    }
   },
   "outputs": [],
   "source": [
    "cat << EOF > my_env\n",
    "VARIABLE1=\"variable 1 value\"\n",
    "VARIABLE2=\"variable 2 value\"\n",
    "EOF"
   ]
  },
  {
   "cell_type": "markdown",
   "metadata": {},
   "source": [
    "The example shows that after `source <file name>`, the variables will be accessible:"
   ]
  },
  {
   "cell_type": "code",
   "execution_count": 6,
   "metadata": {
    "vscode": {
     "languageId": "shellscript"
    }
   },
   "outputs": [
    {
     "name": "stdout",
     "output_type": "stream",
     "text": [
      "variable 1 value variable 2 value\n"
     ]
    }
   ],
   "source": [
    "source my_env\n",
    "echo $VARIABLE1 $VARIABLE2\n",
    "unset VARIABLE1 VARIABLE2"
   ]
  },
  {
   "cell_type": "markdown",
   "metadata": {},
   "source": [
    "The same with using syntax `. <file name>`:"
   ]
  },
  {
   "cell_type": "code",
   "execution_count": 7,
   "metadata": {
    "vscode": {
     "languageId": "shellscript"
    }
   },
   "outputs": [
    {
     "name": "stdout",
     "output_type": "stream",
     "text": [
      "variable 1 value variable 2 value\n"
     ]
    }
   ],
   "source": [
    ". my_env\n",
    "echo $VARIABLE1 $VARIABLE2\n",
    "unset VARIABLE1 VARIABLE2"
   ]
  },
  {
   "cell_type": "markdown",
   "metadata": {},
   "source": [
    "If you try the same trick with `bash`, it won't work."
   ]
  },
  {
   "cell_type": "code",
   "execution_count": 8,
   "metadata": {
    "vscode": {
     "languageId": "shellscript"
    }
   },
   "outputs": [
    {
     "name": "stdout",
     "output_type": "stream",
     "text": [
      "\n"
     ]
    }
   ],
   "source": [
    "bash my_env\n",
    "echo $VARIABLE1 $VARIABLE2"
   ]
  },
  {
   "cell_type": "markdown",
   "metadata": {},
   "source": [
    "It doesn't work because the variables were defined in new sessions created by calling the `bash` command. If you add `echo` to the script, the values will be printed:"
   ]
  },
  {
   "cell_type": "code",
   "execution_count": 9,
   "metadata": {
    "vscode": {
     "languageId": "shellscript"
    }
   },
   "outputs": [
    {
     "name": "stdout",
     "output_type": "stream",
     "text": [
      "variable 1 value variable 2 value\n"
     ]
    }
   ],
   "source": [
    "echo \"echo \\$VARIABLE1 \\$VARIABLE2\" >> my_env\n",
    "\n",
    "bash my_env"
   ]
  },
  {
   "cell_type": "markdown",
   "metadata": {},
   "source": [
    "Deleting file that we used as the example at the end."
   ]
  },
  {
   "cell_type": "code",
   "execution_count": 10,
   "metadata": {
    "vscode": {
     "languageId": "shellscript"
    }
   },
   "outputs": [],
   "source": [
    "rm my_env"
   ]
  }
 ],
 "metadata": {
  "kernelspec": {
   "display_name": "Bash",
   "language": "bash",
   "name": "bash"
  },
  "language_info": {
   "codemirror_mode": "shell",
   "file_extension": ".sh",
   "mimetype": "text/x-sh",
   "name": "bash"
  }
 },
 "nbformat": 4,
 "nbformat_minor": 2
}
