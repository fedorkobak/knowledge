{
 "cells": [
  {
   "cell_type": "markdown",
   "metadata": {},
   "source": [
    "# Define/Undefine\n",
    "\n",
    "This page discusses various methods to create and update environment variables in Linux."
   ]
  },
  {
   "cell_type": "markdown",
   "metadata": {},
   "source": [
    "## Defining\n",
    "\n",
    "To define an environment variable only for a specific command, you can use the syntax:\n",
    "\n",
    "```\n",
    "<variable_name>=<variable_value> <command>\n",
    "```\n",
    "\n",
    "To set the variable for the entire current terminal session, use:\n",
    "\n",
    "```\n",
    "export <variable_name>=<variable_value>\n",
    "```\n",
    "\n",
    "All commands executed after this will use the specified value of the variable."
   ]
  },
  {
   "cell_type": "markdown",
   "metadata": {},
   "source": [
    "---\n",
    "\n",
    "The following example demonstrates the `echo` command printing the value of the `$EXPERIMENT_VARIABLE`, which was defined immediately before the command:"
   ]
  },
  {
   "cell_type": "code",
   "execution_count": null,
   "metadata": {
    "vscode": {
     "languageId": "shellscript"
    }
   },
   "outputs": [
    {
     "name": "stdout",
     "output_type": "stream",
     "text": [
      "hello world\n"
     ]
    }
   ],
   "source": [
    "EXPERIMENT_VARIABLE=\"hello world\" echo $EXPERIMENT_VARIABLE"
   ]
  },
  {
   "cell_type": "markdown",
   "metadata": {},
   "source": [
    "However, if you attempt a similar example over two lines, you won't get the expected result."
   ]
  },
  {
   "cell_type": "code",
   "execution_count": null,
   "metadata": {
    "vscode": {
     "languageId": "shellscript"
    }
   },
   "outputs": [],
   "source": [
    "EXPERIMENT_VARIABLE=\"hello world\"\n",
    "echo $EXPERIMENT_VARIBLE"
   ]
  },
  {
   "cell_type": "markdown",
   "metadata": {},
   "source": [
    "Use the `export` keyword to indicate that the following command should also utilize the variable:"
   ]
  },
  {
   "cell_type": "code",
   "execution_count": null,
   "metadata": {
    "vscode": {
     "languageId": "shellscript"
    }
   },
   "outputs": [
    {
     "name": "stdout",
     "output_type": "stream",
     "text": [
      "hello for session\n"
     ]
    }
   ],
   "source": [
    "export EXPERIMENT_VARIABLE=\"hello for session\"\n",
    "echo $EXPERIMENT_VARIABLE"
   ]
  },
  {
   "cell_type": "markdown",
   "metadata": {},
   "source": [
    "## Reading from file\n",
    "\n",
    "Popular way to store environment variables is to use so called `.env` file. It's a file of format:\n",
    "\n",
    "\n",
    "```bash\n",
    "<name1>=<value1>\n",
    "<name2>=<value2>\n",
    "...\n",
    "```\n",
    "\n",
    "You can run it in the current shell with `source <filename>` or `. <filename>`. So all variables from the file will appear in your environment."
   ]
  },
  {
   "cell_type": "code",
   "execution_count": null,
   "metadata": {
    "vscode": {
     "languageId": "shellscript"
    }
   },
   "outputs": [
    {
     "name": "stdout",
     "output_type": "stream",
     "text": [
      "variable 1 value variable 2 value\n"
     ]
    }
   ],
   "source": [
    "cat << EOF > my_env\n",
    "VARIABLE1=\"variable 1 value\"\n",
    "VARIABLE2=\"variable 2 value\"\n",
    "EOF\n",
    "\n",
    "source my_env\n",
    "echo $VARIABLE1 $VARIABLE2"
   ]
  }
 ],
 "metadata": {
  "language_info": {
   "name": "python"
  }
 },
 "nbformat": 4,
 "nbformat_minor": 2
}
