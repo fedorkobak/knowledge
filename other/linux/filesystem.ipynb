{
 "cells": [
  {
   "cell_type": "markdown",
   "metadata": {},
   "source": [
    "# Filesystem\n",
    "\n",
    "In this page considered tools that are used for system management in linux."
   ]
  },
  {
   "cell_type": "markdown",
   "metadata": {},
   "source": [
    "## Files and directories\n",
    "\n",
    "There are tools that allow to manipulate with files and folders using Linux command system.\n",
    "\n",
    "| Utility           | Description                                                 |\n",
    "|-------------------|-------------------------------------------------------------|\n",
    "| `ls`              | List files and directories.                                 |\n",
    "| `cd`              | Change directory.                                           |\n",
    "| `mkdir`           | Create directories.                                         |\n",
    "| `rmdir`           | Remove empty directories.                                   |\n",
    "| `rm`              | Remove files and directories.                               |\n",
    "| `mv`              | Move or rename files and directories.                      |\n",
    "| `cp`              | Copy files and directories.                                 |\n",
    "| `touch`           | Create empty files or update timestamps.                   |\n",
    "| `find`            | Search for files and directories.                          |\n",
    "| `locate`          | Quickly find files by name (uses a prebuilt database).      |\n",
    "| `tree`            | Display directories as a tree structure.                   |\n",
    "\n",
    "Check details on the [specific page](filesystem/files_directories.ipynb)."
   ]
  },
  {
   "cell_type": "markdown",
   "metadata": {},
   "source": [
    "## Disk usage (du)\n",
    "\n",
    "The `du` command is used to check disk usage by different paths in the filesystem. It provides information about how much space is being used by files and directories."
   ]
  },
  {
   "cell_type": "markdown",
   "metadata": {},
   "source": [
    "---\n",
    "\n",
    "The following cell creates several folders and files. Notably, `linux/du_example/megabytes_file` is created with a size of exactly 2.5 megabytes, whereas `linux/du_example/folder/small_file` contains only a single short line, making it an extremely small file."
   ]
  },
  {
   "cell_type": "code",
   "execution_count": null,
   "metadata": {
    "vscode": {
     "languageId": "shellscript"
    }
   },
   "outputs": [],
   "source": [
    "mkdir linux/du_example\n",
    "mkdir linux/du_example/folder\n",
    "\n",
    "dd if=/dev/zero of=linux/du_example/megabutes_file bs=1M count=2 &> /dev/null\n",
    "dd if=/dev/zero of=linux/du_example/megabutes_file bs=512K count=1 oflag=append conv=notrunc &>/dev/null\n",
    "\n",
    "echo \"this is short message\" >> linux/du_example/folder/small_file"
   ]
  },
  {
   "cell_type": "markdown",
   "metadata": {},
   "source": [
    "Now let's try the `du` command. The following options are also added:\n",
    "\n",
    "- `a`: prints both files and folders.\n",
    "- `h`: displays file sizes in a human-readable format.\n",
    "\n",
    "These options are really useful in my opinion."
   ]
  },
  {
   "cell_type": "code",
   "execution_count": null,
   "metadata": {
    "vscode": {
     "languageId": "shellscript"
    }
   },
   "outputs": [
    {
     "name": "stdout",
     "output_type": "stream",
     "text": [
      "2,5M\tlinux/du_example/megabutes_file\n",
      "4,0K\tlinux/du_example/folder/small_file\n",
      "8,0K\tlinux/du_example/folder\n",
      "2,6M\tlinux/du_example/\n"
     ]
    }
   ],
   "source": [
    "du -ah linux/du_example/"
   ]
  },
  {
   "cell_type": "markdown",
   "metadata": {},
   "source": [
    "After all don't forget foder that was used for experiments."
   ]
  },
  {
   "cell_type": "code",
   "execution_count": null,
   "metadata": {
    "vscode": {
     "languageId": "shellscript"
    }
   },
   "outputs": [],
   "source": [
    "rm -r linux/du_example"
   ]
  },
  {
   "cell_type": "markdown",
   "metadata": {},
   "source": [
    "## Archiving\n",
    "\n",
    "This section discusses utilities in Linux related to archiving: combining a set of files into a single compact file and extracting it back to the original files. Below is a list of popular archive utilities:\n",
    "\n",
    "\n",
    "| Utility  | Description                                                                                 |\n",
    "|----------|---------------------------------------------------------------------------------------------|\n",
    "| `tar`    | A widely-used tool for creating, extracting, and managing tarball archives (e.g., `.tar`, `.tar.gz`). |\n",
    "| `gzip`   | Compresses files using the GNU zip algorithm, typically creating `.gz` files.               |\n",
    "| `bzip2`  | Compresses files using the Burrows-Wheeler algorithm, typically creating `.bz2` files.      |\n",
    "| `xz`     | Compresses files with high compression efficiency, typically creating `.xz` files.          |\n",
    "| `zip`    | Creates compressed archives in `.zip` format, commonly used for cross-platform compatibility. |\n",
    "| `unzip`  | Extracts `.zip` files.                                                                      |\n",
    "| `7z`     | A high-compression utility for `.7z` format and other archive types, part of the p7zip package. |\n",
    "| `ar`     | Creates, modifies, and extracts archives, often used for `.deb` packages in Debian-based systems. |\n",
    "| `rar`    | Creates RAR archives, known for good compression ratios; proprietary software.               |\n",
    "| `unrar`  | Extracts RAR files.                                                                         |\n",
    "| `lzma`   | Compresses files using LZMA (Lempel-Ziv-Markov chain algorithm), predecessor to `xz`.       |\n",
    "| `tar` + `lzma` | Combines tar archiving and LZMA compression, resulting in `.tar.lzma` files.          |\n",
    "| `tar` + `xz`   | Combines tar archiving and XZ compression, resulting in `.tar.xz` files.              |\n",
    "| `zstd`   | Compresses files with high speed and efficiency, creating `.zst` files.                     |\n",
    "| `cpio`   | Archives files for use with tape backups or streams.                                        |\n",
    "\n",
    "Find out more in the [particular page](filesystem/archiving.ipynb)."
   ]
  },
  {
   "cell_type": "markdown",
   "metadata": {},
   "source": [
    "---\n",
    "\n",
    "Consider the example of an archive file generated in the following cell."
   ]
  },
  {
   "cell_type": "code",
   "execution_count": null,
   "metadata": {
    "vscode": {
     "languageId": "shellscript"
    }
   },
   "outputs": [
    {
     "name": "stdout",
     "output_type": "stream",
     "text": [
      "980K\t/tmp/archive_me\n"
     ]
    }
   ],
   "source": [
    "for ((i=0; i<1000000; i++))\n",
    "do\n",
    "    echo -n \"a\" >> /tmp/archive_me\n",
    "done\n",
    "\n",
    "du -h /tmp/archive_me"
   ]
  },
  {
   "cell_type": "markdown",
   "metadata": {},
   "source": [
    "File just contains repeated `a`, it is repeated so many times that all files take `980K`."
   ]
  },
  {
   "cell_type": "markdown",
   "metadata": {},
   "source": [
    "The next cell applies archiving to the created file."
   ]
  },
  {
   "cell_type": "code",
   "execution_count": null,
   "metadata": {
    "vscode": {
     "languageId": "shellscript"
    }
   },
   "outputs": [
    {
     "name": "stdout",
     "output_type": "stream",
     "text": [
      "tar: Removing leading `/' from member names\n",
      "/tmp/archive_me\n",
      "4,0K\t/tmp/archive.tar.xz\n"
     ]
    }
   ],
   "source": [
    "tar -cJvf /tmp/archive.tar.xz /tmp/archive_me\n",
    "du -h /tmp/archive.tar.xz"
   ]
  },
  {
   "cell_type": "markdown",
   "metadata": {},
   "source": [
    "Result takes only `4KB`."
   ]
  },
  {
   "cell_type": "markdown",
   "metadata": {},
   "source": [
    "The following cell restores the original file."
   ]
  },
  {
   "cell_type": "code",
   "execution_count": null,
   "metadata": {
    "vscode": {
     "languageId": "shellscript"
    }
   },
   "outputs": [
    {
     "name": "stdout",
     "output_type": "stream",
     "text": [
      "tmp/archive_me\n"
     ]
    }
   ],
   "source": [
    "mkdir /tmp/unarchived\n",
    "tar -xJvf /tmp/archive.tar.xz -C /tmp/unarchived"
   ]
  },
  {
   "cell_type": "markdown",
   "metadata": {},
   "source": [
    "This is the file tree we got after unarchiving."
   ]
  },
  {
   "cell_type": "code",
   "execution_count": null,
   "metadata": {
    "vscode": {
     "languageId": "shellscript"
    }
   },
   "outputs": [
    {
     "name": "stdout",
     "output_type": "stream",
     "text": [
      "\u001b[01;34m/tmp/unarchived\u001b[0m\n",
      "└── \u001b[01;34mtmp\u001b[0m\n",
      "    └── archive_me\n",
      "\n",
      "1 directory, 1 file\n"
     ]
    }
   ],
   "source": [
    "tree /tmp/unarchived"
   ]
  },
  {
   "cell_type": "markdown",
   "metadata": {},
   "source": [
    "Finally, check that the contents of the file have been restored correctly."
   ]
  },
  {
   "cell_type": "code",
   "execution_count": null,
   "metadata": {
    "vscode": {
     "languageId": "shellscript"
    }
   },
   "outputs": [
    {
     "name": "stdout",
     "output_type": "stream",
     "text": [
      "aaaaaaaaaaaaaaaaaaaaaaaaaaaaaaaaaaaaaaaaaaaaaaaaaaaaaaaaaaaaaaaaaaaaaaaaaaaaaaaaaaaaaaaaaaaaaaaaaaaa\n"
     ]
    }
   ],
   "source": [
    "head -c 100 /tmp/unarchived/tmp/archive_me"
   ]
  },
  {
   "cell_type": "markdown",
   "metadata": {},
   "source": [
    "## Permission/ownership \n",
    "\n",
    "Each file in Linux contains special attributes that specify permissions and ownership for that file. Permissions determine the ability of a user or group to read, write, or execute a file.\n",
    "\n",
    "There are central commands to handle permissions and ownership:\n",
    "\n",
    "- `ls -l`: Shows the content of a folder, along with information about the owner and permissions for each item.\n",
    "- `chown`: Allows you to change the owner of a file or folder.\n",
    "- `chmod`: Allows you to change the permissions of a file."
   ]
  },
  {
   "cell_type": "markdown",
   "metadata": {},
   "source": [
    "---\n",
    "\n",
    "The following cell creates a file and shows its initial attributes:"
   ]
  },
  {
   "cell_type": "code",
   "execution_count": 46,
   "metadata": {
    "vscode": {
     "languageId": "shellscript"
    }
   },
   "outputs": [
    {
     "name": "stdout",
     "output_type": "stream",
     "text": [
      "total 0\n",
      "-rw-r--r-- 1 root root 0 Feb  2 18:14 toy_file\n"
     ]
    }
   ],
   "source": [
    "[ -d /tmp/permissions ] && rm -r /tmp/permissions\n",
    "mkdir /tmp/permissions\n",
    "cd /tmp/permissions\n",
    "touch toy_file\n",
    "ls -l"
   ]
  },
  {
   "cell_type": "markdown",
   "metadata": {},
   "source": [
    "Here, `-rw-r--r--` corresponds to the permissions, and `root root` describes the user and group, respectively."
   ]
  },
  {
   "cell_type": "markdown",
   "metadata": {},
   "source": [
    "The following cell creates a new user and grants them permissions for that file using the `chown` command."
   ]
  },
  {
   "cell_type": "code",
   "execution_count": 42,
   "metadata": {
    "vscode": {
     "languageId": "shellscript"
    }
   },
   "outputs": [
    {
     "name": "stdout",
     "output_type": "stream",
     "text": [
      "changed ownership of 'toy_file' from root to perm_exam\n",
      "total 0\n",
      "-rw-r--r-- 1 perm_exam root 0 Feb  2 18:08 toy_file\n"
     ]
    }
   ],
   "source": [
    "useradd perm_exam\n",
    "chown -c perm_exam toy_file \n",
    "ls -l\n",
    "userdel perm_exam"
   ]
  },
  {
   "cell_type": "markdown",
   "metadata": {},
   "source": [
    "As a result, in the output of `ls -l`, `perm_exam` is listed in the user field."
   ]
  },
  {
   "cell_type": "markdown",
   "metadata": {},
   "source": [
    "Finally, the last cell changes the permission attributes of the file using the `chmod` command."
   ]
  },
  {
   "cell_type": "code",
   "execution_count": 45,
   "metadata": {
    "vscode": {
     "languageId": "shellscript"
    }
   },
   "outputs": [
    {
     "name": "stdout",
     "output_type": "stream",
     "text": [
      "total 0\n",
      "-r----xrwx 1 1001 root 0 Feb  2 18:08 toy_file\n"
     ]
    }
   ],
   "source": [
    "chmod 417 toy_file\n",
    "ls -l"
   ]
  },
  {
   "cell_type": "markdown",
   "metadata": {},
   "source": [
    "It changes the first field corresponding to the `toy_file` - so the permissions are now different."
   ]
  },
  {
   "cell_type": "markdown",
   "metadata": {},
   "source": [
    "## `test`\n",
    "\n",
    "`test` is a core linux utility that allows you to build expressions that depend on files. For more details see the [corresponding page](https://www.gnu.org/software/coreutils/manual/html_node/test-invocation.html) in the GNU manual. \n",
    "\n",
    "**Note:** for this command there is a very popular alias `[ <parameters> ] `."
   ]
  },
  {
   "cell_type": "markdown",
   "metadata": {},
   "source": [
    "---\n",
    "\n",
    "Consider the basic example of using `test`. The following cell tries to check if the file `/tmp/wow` exists."
   ]
  },
  {
   "cell_type": "code",
   "execution_count": 11,
   "metadata": {
    "vscode": {
     "languageId": "shellscript"
    }
   },
   "outputs": [
    {
     "name": "stdout",
     "output_type": "stream",
     "text": [
      "1\n"
     ]
    }
   ],
   "source": [
    "test -f /tmp/wow\n",
    "echo $?"
   ]
  },
  {
   "cell_type": "markdown",
   "metadata": {
    "vscode": {
     "languageId": "shellscript"
    }
   },
   "source": [
    "Since it wasn't created, we got the typical error result output - 1."
   ]
  },
  {
   "cell_type": "markdown",
   "metadata": {},
   "source": [
    "The following cell repeates previous experiment but now, it creates file before running `test -f /tmp/wow`."
   ]
  },
  {
   "cell_type": "code",
   "execution_count": 13,
   "metadata": {
    "vscode": {
     "languageId": "shellscript"
    }
   },
   "outputs": [
    {
     "name": "stdout",
     "output_type": "stream",
     "text": [
      "0\n"
     ]
    }
   ],
   "source": [
    "echo \"info\" > /tmp/wow\n",
    "test -f /tmp/wow\n",
    "echo $?\n",
    "rm /tmp/wow"
   ]
  },
  {
   "cell_type": "markdown",
   "metadata": {
    "vscode": {
     "languageId": "shellscript"
    }
   },
   "source": [
    "So the result code is `0`, that means that file we checked truly exists."
   ]
  },
  {
   "cell_type": "markdown",
   "metadata": {},
   "source": [
    "### Negation\n",
    "\n",
    "You can negotiate the test by using `!` in the list of parameters. "
   ]
  },
  {
   "cell_type": "markdown",
   "metadata": {},
   "source": [
    "---\n",
    "\n",
    "For example, `! -f` will return true if there is no file in the given path. The following cell just shows how it works for a file that doesn't exist - there's nothing in the result, which means the cell exits with a 0 status code."
   ]
  },
  {
   "cell_type": "code",
   "execution_count": 2,
   "metadata": {
    "vscode": {
     "languageId": "shellscript"
    }
   },
   "outputs": [],
   "source": [
    "test ! -f /tmp/wow"
   ]
  },
  {
   "cell_type": "markdown",
   "metadata": {
    "vscode": {
     "languageId": "shellscript"
    }
   },
   "source": [
    "This cell creates a file before executing `test !` as the result there is a `1` status code."
   ]
  },
  {
   "cell_type": "code",
   "execution_count": null,
   "metadata": {
    "vscode": {
     "languageId": "shellscript"
    }
   },
   "outputs": [
    {
     "name": "stdout",
     "output_type": "stream",
     "text": [
      "1\n"
     ]
    }
   ],
   "source": [
    "echo \"info\" > /tmp/wow\n",
    "test ! -f /tmp/wow\n",
    "echo $?\n",
    "rm /tmp/wow"
   ]
  }
 ],
 "metadata": {
  "kernelspec": {
   "display_name": "Bash",
   "language": "bash",
   "name": "bash"
  },
  "language_info": {
   "codemirror_mode": "shell",
   "file_extension": ".sh",
   "mimetype": "text/x-sh",
   "name": "bash"
  }
 },
 "nbformat": 4,
 "nbformat_minor": 2
}
