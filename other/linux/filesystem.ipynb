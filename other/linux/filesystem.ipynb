{
 "cells": [
  {
   "cell_type": "markdown",
   "metadata": {},
   "source": [
    "# Filesystem\n",
    "\n",
    "In this page considered tools that are used for system management in linux."
   ]
  },
  {
   "cell_type": "markdown",
   "metadata": {},
   "source": [
    "## List contents (ls)\n",
    "\n",
    "`ls` command that allows to show files/directories in the folder."
   ]
  },
  {
   "cell_type": "markdown",
   "metadata": {},
   "source": [
    "The following python code creates some random files and folders - so we can see what they look like in the output of the `ls` command."
   ]
  },
  {
   "cell_type": "code",
   "execution_count": null,
   "metadata": {
    "vscode": {
     "languageId": "shellscript"
    }
   },
   "outputs": [],
   "source": [
    "python3 << EOF\n",
    "import os\n",
    "import random\n",
    "import string\n",
    "\n",
    "def random_name(length=8):\n",
    "    'Function to create a random file/directory name'\n",
    "    letters = string.ascii_lowercase\n",
    "    return ''.join(random.choice(letters) for i in range(length))\n",
    "\n",
    "experimental_path = \"/tmp/ls\"\n",
    "os.mkdir(experimental_path)\n",
    "\n",
    "for i in range(10):\n",
    "    new_path = experimental_path + \"/\" + random_name()\n",
    "    if random.choice([True, False]):\n",
    "        os.mkdir(new_path)\n",
    "    else:\n",
    "        with open(new_path, \"w\") as f:\n",
    "            f.write(\"some content\")\n",
    "EOF"
   ]
  },
  {
   "cell_type": "markdown",
   "metadata": {},
   "source": [
    "Just by using the `ls` command, we'll get some files/folders listed in random order. But we can't tell which of them are directories and which are files, their creation dates, the user who created them, and so on."
   ]
  },
  {
   "cell_type": "code",
   "execution_count": null,
   "metadata": {
    "vscode": {
     "languageId": "shellscript"
    }
   },
   "outputs": [
    {
     "name": "stdout",
     "output_type": "stream",
     "text": [
      "bgvnkllg  gcpxmhxi  \u001b[0m\u001b[01;34mqikvjpad\u001b[0m  uezijtkv  uzrkogvi\n",
      "fzktcbrl  \u001b[01;34mkwtzoaja\u001b[0m  rprudeil  uvyfqpnk  \u001b[01;34mvggltcfs\u001b[0m\n"
     ]
    }
   ],
   "source": [
    "ls /tmp/ls"
   ]
  },
  {
   "cell_type": "markdown",
   "metadata": {},
   "source": [
    "When using the `ls -l` command, you receive additional information in a detailed, table-like format. The columns provide the following details:\n",
    "\n",
    "- Line that indicates whether the item is a directory, along with its permissions.\n",
    "- Number of links to the item.\n",
    "- The third and fourth columns are the user who owns the file and the Unix group of users to which the file belongs.\n",
    "- Size of item in bytes.\n",
    "- Time at which item was changed.\n",
    "- And last column is the name of the item."
   ]
  },
  {
   "cell_type": "code",
   "execution_count": null,
   "metadata": {
    "vscode": {
     "languageId": "shellscript"
    }
   },
   "outputs": [
    {
     "name": "stdout",
     "output_type": "stream",
     "text": [
      "total 40\n",
      "-rw-rw-r-- 1 f-kobak-distance-desctop f-kobak-distance-desctop   12 Dec 29 19:01 bgvnkllg\n",
      "-rw-rw-r-- 1 f-kobak-distance-desctop f-kobak-distance-desctop   12 Dec 29 19:01 fzktcbrl\n",
      "-rw-rw-r-- 1 f-kobak-distance-desctop f-kobak-distance-desctop   12 Dec 29 19:01 gcpxmhxi\n",
      "drwxrwxr-x 2 f-kobak-distance-desctop f-kobak-distance-desctop 4096 Dec 29 19:01 \u001b[0m\u001b[01;34mkwtzoaja\u001b[0m\n",
      "drwxrwxr-x 2 f-kobak-distance-desctop f-kobak-distance-desctop 4096 Dec 29 19:01 \u001b[01;34mqikvjpad\u001b[0m\n",
      "-rw-rw-r-- 1 f-kobak-distance-desctop f-kobak-distance-desctop   12 Dec 29 19:01 rprudeil\n",
      "-rw-rw-r-- 1 f-kobak-distance-desctop f-kobak-distance-desctop   12 Dec 29 19:01 uezijtkv\n",
      "-rw-rw-r-- 1 f-kobak-distance-desctop f-kobak-distance-desctop   12 Dec 29 19:01 uvyfqpnk\n",
      "-rw-rw-r-- 1 f-kobak-distance-desctop f-kobak-distance-desctop   12 Dec 29 19:01 uzrkogvi\n",
      "drwxrwxr-x 2 f-kobak-distance-desctop f-kobak-distance-desctop 4096 Dec 29 19:01 \u001b[01;34mvggltcfs\u001b[0m\n"
     ]
    }
   ],
   "source": [
    "ls /tmp/ls -l"
   ]
  },
  {
   "cell_type": "markdown",
   "metadata": {},
   "source": [
    "## Find\n",
    "\n",
    "Linux `find` command allows you to search for files in the system. It have following syntax `find <directory-to-search> <criteria> <action>` where:\n",
    "\n",
    "- `<directory-to-search>`: Specifies the directory where you want to begin the search.\n",
    "- `<criteria>`: Defines the properties of the files you are searching for. This can include the file name, size, modification date, permissions, and more.\n",
    "- `<action>`: Specifies what to do with the found files. By default, it prints the path to the files, but it can also execute other commands on them."
   ]
  },
  {
   "cell_type": "markdown",
   "metadata": {},
   "source": [
    "The following Python code creates a random tree of foldres and puts `text.txt` in the random place."
   ]
  },
  {
   "cell_type": "code",
   "execution_count": null,
   "metadata": {
    "vscode": {
     "languageId": "shellscript"
    }
   },
   "outputs": [],
   "source": [
    "import os\n",
    "import random\n",
    "import string\n",
    "\n",
    "def random_directory_name(length=8):\n",
    "    'Function to create a random directory name'\n",
    "    letters = string.ascii_lowercase\n",
    "    return ''.join(random.choice(letters) for i in range(length))\n",
    "\n",
    "os.mkdir(\"linux_files/find\")\n",
    "folders = [\"linux_files/find\"]\n",
    "\n",
    "for i in range(10):\n",
    "    fold = random.choice(folders)\n",
    "    new_dir = fold + \"/\" + random_directory_name()\n",
    "    os.mkdir(new_dir)\n",
    "    folders.append(new_dir)\n",
    "\n",
    "with open(random.choice(folders) + \"/\" + \"text.txt\", \"w\") as f:\n",
    "    f.write(\"Message to aliens\")"
   ]
  },
  {
   "cell_type": "markdown",
   "metadata": {},
   "source": [
    "As a result, we have the following file tree."
   ]
  },
  {
   "cell_type": "code",
   "execution_count": null,
   "metadata": {
    "vscode": {
     "languageId": "shellscript"
    }
   },
   "outputs": [
    {
     "name": "stdout",
     "output_type": "stream",
     "text": [
      "\u001b[01;34mlinux_files/find\u001b[0m\n",
      "└── \u001b[01;34mgptiiiab\u001b[0m\n",
      "    ├── \u001b[01;34miipubngm\u001b[0m\n",
      "    ├── \u001b[01;34mngvixpsi\u001b[0m\n",
      "    ├── \u001b[01;34mpluqbiln\u001b[0m\n",
      "    └── \u001b[01;34myfjphojg\u001b[0m\n",
      "        ├── \u001b[01;34mbosqqrcn\u001b[0m\n",
      "        ├── \u001b[01;34mfopmjtfu\u001b[0m\n",
      "        └── \u001b[01;34mrctkvqsm\u001b[0m\n",
      "            └── \u001b[01;34mkegxfokz\u001b[0m\n",
      "                ├── \u001b[00mtext.txt\u001b[0m\n",
      "                └── \u001b[01;34mxsvcplwo\u001b[0m\n",
      "\n",
      "10 directories, 1 file\n"
     ]
    }
   ],
   "source": [
    "!tree linux_files/find"
   ]
  },
  {
   "cell_type": "markdown",
   "metadata": {},
   "source": [
    "And we can get the full path for `text.txt` by using construction `--name text.txt` as criteria."
   ]
  },
  {
   "cell_type": "code",
   "execution_count": null,
   "metadata": {
    "vscode": {
     "languageId": "shellscript"
    }
   },
   "outputs": [
    {
     "name": "stdout",
     "output_type": "stream",
     "text": [
      "linux_files/find/gptiiiab/yfjphojg/rctkvqsm/kegxfokz/text.txt\n"
     ]
    }
   ],
   "source": [
    "%%bash\n",
    "find linux_files/find -name text.txt\n",
    "rm -r linux_files/find"
   ]
  },
  {
   "cell_type": "markdown",
   "metadata": {},
   "source": [
    "## Disk usage (du)\n",
    "\n",
    "The `du` command is used to check disk usage by different paths in the filesystem. It provides information about how much space is being used by files and directories."
   ]
  },
  {
   "cell_type": "markdown",
   "metadata": {},
   "source": [
    "---\n",
    "\n",
    "The following cell creates several folders and files. Notably, `linux/du_example/megabytes_file` is created with a size of exactly 2.5 megabytes, whereas `linux/du_example/folder/small_file` contains only a single short line, making it an extremely small file."
   ]
  },
  {
   "cell_type": "code",
   "execution_count": null,
   "metadata": {
    "vscode": {
     "languageId": "shellscript"
    }
   },
   "outputs": [],
   "source": [
    "mkdir linux/du_example\n",
    "mkdir linux/du_example/folder\n",
    "\n",
    "dd if=/dev/zero of=linux/du_example/megabutes_file bs=1M count=2 &> /dev/null\n",
    "dd if=/dev/zero of=linux/du_example/megabutes_file bs=512K count=1 oflag=append conv=notrunc &>/dev/null\n",
    "\n",
    "echo \"this is short message\" >> linux/du_example/folder/small_file"
   ]
  },
  {
   "cell_type": "markdown",
   "metadata": {},
   "source": [
    "Now let's try the `du` command. The following options are also added:\n",
    "\n",
    "- `a`: prints both files and folders.\n",
    "- `h`: displays file sizes in a human-readable format.\n",
    "\n",
    "These options are really useful in my opinion."
   ]
  },
  {
   "cell_type": "code",
   "execution_count": null,
   "metadata": {
    "vscode": {
     "languageId": "shellscript"
    }
   },
   "outputs": [
    {
     "name": "stdout",
     "output_type": "stream",
     "text": [
      "2,5M\tlinux/du_example/megabutes_file\n",
      "4,0K\tlinux/du_example/folder/small_file\n",
      "8,0K\tlinux/du_example/folder\n",
      "2,6M\tlinux/du_example/\n"
     ]
    }
   ],
   "source": [
    "du -ah linux/du_example/"
   ]
  },
  {
   "cell_type": "markdown",
   "metadata": {},
   "source": [
    "After all don't forget foder that was used for experiments."
   ]
  },
  {
   "cell_type": "code",
   "execution_count": null,
   "metadata": {
    "vscode": {
     "languageId": "shellscript"
    }
   },
   "outputs": [],
   "source": [
    "rm -r linux/du_example"
   ]
  },
  {
   "cell_type": "markdown",
   "metadata": {},
   "source": [
    "## Archiving\n",
    "\n",
    "This section discusses utilities in Linux related to archiving: combining a set of files into a single compact file and extracting it back to the original files. Below is a list of popular archive utilities:\n",
    "\n",
    "\n",
    "| Utility  | Description                                                                                 |\n",
    "|----------|---------------------------------------------------------------------------------------------|\n",
    "| `tar`    | A widely-used tool for creating, extracting, and managing tarball archives (e.g., `.tar`, `.tar.gz`). |\n",
    "| `gzip`   | Compresses files using the GNU zip algorithm, typically creating `.gz` files.               |\n",
    "| `bzip2`  | Compresses files using the Burrows-Wheeler algorithm, typically creating `.bz2` files.      |\n",
    "| `xz`     | Compresses files with high compression efficiency, typically creating `.xz` files.          |\n",
    "| `zip`    | Creates compressed archives in `.zip` format, commonly used for cross-platform compatibility. |\n",
    "| `unzip`  | Extracts `.zip` files.                                                                      |\n",
    "| `7z`     | A high-compression utility for `.7z` format and other archive types, part of the p7zip package. |\n",
    "| `ar`     | Creates, modifies, and extracts archives, often used for `.deb` packages in Debian-based systems. |\n",
    "| `rar`    | Creates RAR archives, known for good compression ratios; proprietary software.               |\n",
    "| `unrar`  | Extracts RAR files.                                                                         |\n",
    "| `lzma`   | Compresses files using LZMA (Lempel-Ziv-Markov chain algorithm), predecessor to `xz`.       |\n",
    "| `tar` + `lzma` | Combines tar archiving and LZMA compression, resulting in `.tar.lzma` files.          |\n",
    "| `tar` + `xz`   | Combines tar archiving and XZ compression, resulting in `.tar.xz` files.              |\n",
    "| `zstd`   | Compresses files with high speed and efficiency, creating `.zst` files.                     |\n",
    "| `cpio`   | Archives files for use with tape backups or streams.                                        |\n",
    "\n",
    "Find out more in the [particular page](filesystem/archiving.ipynb)."
   ]
  },
  {
   "cell_type": "markdown",
   "metadata": {},
   "source": [
    "---\n",
    "\n",
    "Consider the example of an archive file generated in the following cell."
   ]
  },
  {
   "cell_type": "code",
   "execution_count": null,
   "metadata": {
    "vscode": {
     "languageId": "shellscript"
    }
   },
   "outputs": [
    {
     "name": "stdout",
     "output_type": "stream",
     "text": [
      "980K\t/tmp/archive_me\n"
     ]
    }
   ],
   "source": [
    "for ((i=0; i<1000000; i++))\n",
    "do\n",
    "    echo -n \"a\" >> /tmp/archive_me\n",
    "done\n",
    "\n",
    "du -h /tmp/archive_me"
   ]
  },
  {
   "cell_type": "markdown",
   "metadata": {},
   "source": [
    "File just contains repeated `a`, it is repeated so many times that all files take `980K`."
   ]
  },
  {
   "cell_type": "markdown",
   "metadata": {},
   "source": [
    "The next cell applies archiving to the created file."
   ]
  },
  {
   "cell_type": "code",
   "execution_count": null,
   "metadata": {
    "vscode": {
     "languageId": "shellscript"
    }
   },
   "outputs": [
    {
     "name": "stdout",
     "output_type": "stream",
     "text": [
      "tar: Removing leading `/' from member names\n",
      "/tmp/archive_me\n",
      "4,0K\t/tmp/archive.tar.xz\n"
     ]
    }
   ],
   "source": [
    "tar -cJvf /tmp/archive.tar.xz /tmp/archive_me\n",
    "du -h /tmp/archive.tar.xz"
   ]
  },
  {
   "cell_type": "markdown",
   "metadata": {},
   "source": [
    "Result takes only `4KB`."
   ]
  },
  {
   "cell_type": "markdown",
   "metadata": {},
   "source": [
    "The following cell restores the original file."
   ]
  },
  {
   "cell_type": "code",
   "execution_count": null,
   "metadata": {
    "vscode": {
     "languageId": "shellscript"
    }
   },
   "outputs": [
    {
     "name": "stdout",
     "output_type": "stream",
     "text": [
      "tmp/archive_me\n"
     ]
    }
   ],
   "source": [
    "mkdir /tmp/unarchived\n",
    "tar -xJvf /tmp/archive.tar.xz -C /tmp/unarchived"
   ]
  },
  {
   "cell_type": "markdown",
   "metadata": {},
   "source": [
    "This is the file tree we got after unarchiving."
   ]
  },
  {
   "cell_type": "code",
   "execution_count": null,
   "metadata": {
    "vscode": {
     "languageId": "shellscript"
    }
   },
   "outputs": [
    {
     "name": "stdout",
     "output_type": "stream",
     "text": [
      "\u001b[01;34m/tmp/unarchived\u001b[0m\n",
      "└── \u001b[01;34mtmp\u001b[0m\n",
      "    └── archive_me\n",
      "\n",
      "1 directory, 1 file\n"
     ]
    }
   ],
   "source": [
    "tree /tmp/unarchived"
   ]
  },
  {
   "cell_type": "markdown",
   "metadata": {},
   "source": [
    "Finally, check that the contents of the file have been restored correctly."
   ]
  },
  {
   "cell_type": "code",
   "execution_count": null,
   "metadata": {
    "vscode": {
     "languageId": "shellscript"
    }
   },
   "outputs": [
    {
     "name": "stdout",
     "output_type": "stream",
     "text": [
      "aaaaaaaaaaaaaaaaaaaaaaaaaaaaaaaaaaaaaaaaaaaaaaaaaaaaaaaaaaaaaaaaaaaaaaaaaaaaaaaaaaaaaaaaaaaaaaaaaaaa\n"
     ]
    }
   ],
   "source": [
    "head -c 100 /tmp/unarchived/tmp/archive_me"
   ]
  }
 ],
 "metadata": {
  "language_info": {
   "name": "python"
  }
 },
 "nbformat": 4,
 "nbformat_minor": 2
}
