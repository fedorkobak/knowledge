{
 "cells": [
  {
   "cell_type": "markdown",
   "metadata": {},
   "source": [
    "# Cron\n",
    "\n",
    "Cron is a utility that allows you to schedule commands in a Linux system. You can manage cron jobs using `crontab`, a special utility that handles the file defining jobs for cron."
   ]
  },
  {
   "cell_type": "markdown",
   "metadata": {},
   "source": [
    "The following cell runs Alpine Linux, which includes cron by default, providing a playground to experiment with it."
   ]
  },
  {
   "cell_type": "code",
   "execution_count": 22,
   "metadata": {
    "vscode": {
     "languageId": "shellscript"
    }
   },
   "outputs": [
    {
     "name": "stdout",
     "output_type": "stream",
     "text": [
      "44569db259be0ecdba06af527c5943a02206130d1444a2e611ff5aee7570a939\n"
     ]
    }
   ],
   "source": [
    "docker run --rm -itd --name crontab_test alpine"
   ]
  },
  {
   "cell_type": "markdown",
   "metadata": {},
   "source": [
    "**Note** don't forget to stop the container after all."
   ]
  },
  {
   "cell_type": "code",
   "execution_count": 32,
   "metadata": {
    "vscode": {
     "languageId": "shellscript"
    }
   },
   "outputs": [
    {
     "name": "stdout",
     "output_type": "stream",
     "text": [
      "crontab_test\n"
     ]
    }
   ],
   "source": [
    "docker stop crontab_test"
   ]
  },
  {
   "cell_type": "markdown",
   "metadata": {},
   "source": [
    "## From stdin\n",
    "\n",
    "You can set your cron schedule using the syntax `crontab -`, which means that `crontab` will take the schedule from standard input."
   ]
  },
  {
   "cell_type": "markdown",
   "metadata": {},
   "source": [
    "---\n",
    "\n",
    "The following cell shows how you can set the crontab through the `echo` command."
   ]
  },
  {
   "cell_type": "code",
   "execution_count": 28,
   "metadata": {
    "vscode": {
     "languageId": "shellscript"
    }
   },
   "outputs": [],
   "source": [
    "docker exec crontab_test sh -c \"\n",
    "echo \\\"10 * * * * from_echo\\\" | crontab -\n",
    "\""
   ]
  },
  {
   "cell_type": "markdown",
   "metadata": {},
   "source": [
    "Let's check gotten cron schedule."
   ]
  },
  {
   "cell_type": "code",
   "execution_count": 29,
   "metadata": {
    "vscode": {
     "languageId": "shellscript"
    }
   },
   "outputs": [
    {
     "name": "stdout",
     "output_type": "stream",
     "text": [
      "10 * * * * from_echo\n"
     ]
    }
   ],
   "source": [
    "docker exec crontab_test crontab -l"
   ]
  },
  {
   "cell_type": "markdown",
   "metadata": {},
   "source": [
    "Even better, you can use heredoc syntax to set a multiline cron schedule."
   ]
  },
  {
   "cell_type": "code",
   "execution_count": 30,
   "metadata": {
    "vscode": {
     "languageId": "shellscript"
    }
   },
   "outputs": [],
   "source": [
    "docker exec crontab_test sh -c \"\n",
    "cat <<EOF | crontab -\n",
    "10 * * * * echo line1\n",
    "* 10 * * * echo line2\n",
    "EOF\""
   ]
  },
  {
   "cell_type": "markdown",
   "metadata": {},
   "source": [
    "Let's check if the schedule from the previous cell was actually added to the cron."
   ]
  },
  {
   "cell_type": "code",
   "execution_count": 31,
   "metadata": {
    "vscode": {
     "languageId": "shellscript"
    }
   },
   "outputs": [
    {
     "name": "stdout",
     "output_type": "stream",
     "text": [
      "10 * * * * echo line1\n",
      "* 10 * * * echo line2\n"
     ]
    }
   ],
   "source": [
    "docker exec crontab_test crontab -l"
   ]
  }
 ],
 "metadata": {
  "kernelspec": {
   "display_name": "Bash",
   "language": "bash",
   "name": "bash"
  },
  "language_info": {
   "codemirror_mode": "shell",
   "file_extension": ".sh",
   "mimetype": "text/x-sh",
   "name": "bash"
  }
 },
 "nbformat": 4,
 "nbformat_minor": 2
}
