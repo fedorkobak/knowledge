{
 "cells": [
  {
   "cell_type": "markdown",
   "metadata": {},
   "source": [
    "# Package management\n",
    "\n",
    "This page considers features of package management in linux systems. \n",
    "\n",
    "For details check:\n",
    "- [Apt users guide](https://www.debian.org/doc/manuals/apt-guide/index.en.html).\n",
    "- Corresponding page in the [ubuntu documentation](https://ubuntu.com/server/docs/package-management)."
   ]
  },
  {
   "cell_type": "markdown",
   "metadata": {},
   "source": [
    "\n",
    "As example will be used ubuntu docker container created in the following cell:"
   ]
  },
  {
   "cell_type": "code",
   "execution_count": 1,
   "metadata": {
    "vscode": {
     "languageId": "shellscript"
    }
   },
   "outputs": [
    {
     "name": "stdout",
     "output_type": "stream",
     "text": [
      "8ddf718bce5c5e39fabf0c12a8c027a0047234d53bbe6beb773c6a91bec9c1f2\n"
     ]
    }
   ],
   "source": [
    "docker run -itd --rm --name package_management ubuntu"
   ]
  },
  {
   "cell_type": "markdown",
   "metadata": {},
   "source": [
    "**Note:** don't forget to stop container after all."
   ]
  },
  {
   "cell_type": "code",
   "execution_count": null,
   "metadata": {
    "vscode": {
     "languageId": "shellscript"
    }
   },
   "outputs": [],
   "source": [
    "docker stop package_management"
   ]
  },
  {
   "cell_type": "markdown",
   "metadata": {},
   "source": [
    "## Logs\n",
    "\n",
    "`/var/log/dpkg.log` is a typical path for the log which describes the packages installed on the system."
   ]
  },
  {
   "cell_type": "markdown",
   "metadata": {},
   "source": [
    "---\n",
    "\n",
    "The next cell shows the default files available, which describe the default packages installed in the container."
   ]
  },
  {
   "cell_type": "code",
   "execution_count": null,
   "metadata": {
    "vscode": {
     "languageId": "shellscript"
    }
   },
   "outputs": [
    {
     "name": "stdout",
     "output_type": "stream",
     "text": [
      "2024-11-19 09:52:39 status unpacked libpam-modules:amd64 1.5.3-5ubuntu5.1\n",
      "2024-11-19 09:52:39 startup packages configure\n",
      "2024-11-19 09:52:39 configure libpam-modules:amd64 1.5.3-5ubuntu5.1 <none>\n",
      "2024-11-19 09:52:39 status unpacked libpam-modules:amd64 1.5.3-5ubuntu5.1\n",
      "2024-11-19 09:52:39 status half-configured libpam-modules:amd64 1.5.3-5ubuntu5.1\n",
      "2024-11-19 09:52:39 status installed libpam-modules:amd64 1.5.3-5ubuntu5.1\n",
      "2024-11-19 09:52:39 startup packages configure\n",
      "2024-11-19 09:52:39 trigproc libc-bin:amd64 2.39-0ubuntu8.3 <none>\n",
      "2024-11-19 09:52:39 status half-configured libc-bin:amd64 2.39-0ubuntu8.3\n",
      "2024-11-19 09:52:39 status installed libc-bin:amd64 2.39-0ubuntu8.3\n"
     ]
    }
   ],
   "source": [
    "docker exec package_management bash -c \"cat /var/log/dpkg.log | tail -n 10\""
   ]
  },
  {
   "cell_type": "markdown",
   "metadata": {},
   "source": [
    "Now consider how the logs for the installation of a specific package look: the following cell installs `vim` and displays all log entries containing `vim`."
   ]
  },
  {
   "cell_type": "code",
   "execution_count": null,
   "metadata": {
    "vscode": {
     "languageId": "shellscript"
    }
   },
   "outputs": [
    {
     "name": "stdout",
     "output_type": "stream",
     "text": [
      "2025-01-04 10:05:22 install vim-common:all <none> 2:9.1.0016-1ubuntu7.5\n",
      "2025-01-04 10:05:22 status half-installed vim-common:all 2:9.1.0016-1ubuntu7.5\n",
      "2025-01-04 10:05:22 status unpacked vim-common:all 2:9.1.0016-1ubuntu7.5\n",
      "2025-01-04 10:05:22 install vim-runtime:all <none> 2:9.1.0016-1ubuntu7.5\n",
      "2025-01-04 10:05:22 status half-installed vim-runtime:all 2:9.1.0016-1ubuntu7.5\n",
      "2025-01-04 10:05:23 status unpacked vim-runtime:all 2:9.1.0016-1ubuntu7.5\n",
      "2025-01-04 10:05:23 install vim:amd64 <none> 2:9.1.0016-1ubuntu7.5\n",
      "2025-01-04 10:05:23 status half-installed vim:amd64 2:9.1.0016-1ubuntu7.5\n",
      "2025-01-04 10:05:23 status unpacked vim:amd64 2:9.1.0016-1ubuntu7.5\n",
      "2025-01-04 10:05:23 configure vim-common:all 2:9.1.0016-1ubuntu7.5 <none>\n",
      "2025-01-04 10:05:23 status unpacked vim-common:all 2:9.1.0016-1ubuntu7.5\n",
      "2025-01-04 10:05:23 status half-configured vim-common:all 2:9.1.0016-1ubuntu7.5\n",
      "2025-01-04 10:05:23 status installed vim-common:all 2:9.1.0016-1ubuntu7.5\n",
      "2025-01-04 10:05:23 configure vim-runtime:all 2:9.1.0016-1ubuntu7.5 <none>\n",
      "2025-01-04 10:05:23 status unpacked vim-runtime:all 2:9.1.0016-1ubuntu7.5\n",
      "2025-01-04 10:05:23 status half-configured vim-runtime:all 2:9.1.0016-1ubuntu7.5\n",
      "2025-01-04 10:05:23 status installed vim-runtime:all 2:9.1.0016-1ubuntu7.5\n",
      "2025-01-04 10:05:23 configure vim:amd64 2:9.1.0016-1ubuntu7.5 <none>\n",
      "2025-01-04 10:05:23 status unpacked vim:amd64 2:9.1.0016-1ubuntu7.5\n",
      "2025-01-04 10:05:23 status half-configured vim:amd64 2:9.1.0016-1ubuntu7.5\n",
      "2025-01-04 10:05:23 status installed vim:amd64 2:9.1.0016-1ubuntu7.5\n"
     ]
    }
   ],
   "source": [
    "docker exec package_management bash -c \"apt update && apt install -y vim\" &> /dev/null\n",
    "docker exec package_management bash -c \"cat /var/log/dpkg.log | grep vim\""
   ]
  }
 ],
 "metadata": {
  "kernelspec": {
   "display_name": "Bash",
   "language": "bash",
   "name": "bash"
  },
  "language_info": {
   "codemirror_mode": "shell",
   "file_extension": ".sh",
   "mimetype": "text/x-sh",
   "name": "bash"
  }
 },
 "nbformat": 4,
 "nbformat_minor": 2
}
