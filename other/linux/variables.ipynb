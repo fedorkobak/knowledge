{
 "cells": [
  {
   "cell_type": "markdown",
   "metadata": {},
   "source": [
    "# Variables\n",
    "\n",
    "This page provides an overview of tricks and tools for working with variables, including environment variables, in Linux."
   ]
  },
  {
   "cell_type": "markdown",
   "metadata": {},
   "source": [
    "## Nested shells\n",
    "\n",
    "Some utilities are designed to operate based on specific values of environment variables. It can be frustrating at first when a variable you’ve defined isn’t visible to an invoked shell. Here are ways to pass variables to a nested shell:\n",
    "\n",
    "- Define it before the command using the syntax `<var1>=<value1> <var2>=<value2> ... <var_n>=<value_n> <shell command>`.  \n",
    "- Define the variables as environment variables using the `export` command.  "
   ]
  },
  {
   "cell_type": "markdown",
   "metadata": {},
   "source": [
    "\n",
    "---\n",
    "\n",
    "Consider `LOCAL_VARIABLE` - within this shell, you can access it freely. The following cell demonstrates how it is substituted into the output of `echo`:"
   ]
  },
  {
   "cell_type": "code",
   "execution_count": 1,
   "metadata": {
    "vscode": {
     "languageId": "shellscript"
    }
   },
   "outputs": [
    {
     "name": "stdout",
     "output_type": "stream",
     "text": [
      "hello world\n"
     ]
    }
   ],
   "source": [
    "LOCAL_VARIABLE=\"hello world\"\n",
    "echo $LOCAL_VARIABLE"
   ]
  },
  {
   "cell_type": "markdown",
   "metadata": {},
   "source": [
    "However, the following cell attempts to access `LOCAL_VARIABLE` from another shell:"
   ]
  },
  {
   "cell_type": "code",
   "execution_count": 2,
   "metadata": {
    "vscode": {
     "languageId": "shellscript"
    }
   },
   "outputs": [
    {
     "name": "stdout",
     "output_type": "stream",
     "text": [
      "\n"
     ]
    }
   ],
   "source": [
    "bash -c \"echo \\$LOCAL_VARIABLE\""
   ]
  },
  {
   "cell_type": "markdown",
   "metadata": {},
   "source": [
    "There is no result — by executing `bash`, you have created another shell where `LOCAL_VARIABLE` is not defined."
   ]
  },
  {
   "cell_type": "markdown",
   "metadata": {},
   "source": [
    "The same issue with python."
   ]
  },
  {
   "cell_type": "code",
   "execution_count": 3,
   "metadata": {
    "vscode": {
     "languageId": "shellscript"
    }
   },
   "outputs": [
    {
     "name": "stdout",
     "output_type": "stream",
     "text": [
      "Traceback (most recent call last):\n",
      "  File \"<string>\", line 1, in <module>\n",
      "  File \"/usr/lib/python3.10/os.py\", line 680, in __getitem__\n",
      "    raise KeyError(key) from None\n",
      "KeyError: 'LOCAL_VARIABLE'\n"
     ]
    },
    {
     "ename": "",
     "evalue": "1",
     "output_type": "error",
     "traceback": []
    }
   ],
   "source": [
    "python3 -c \"import os; print(os.environ[\\\"LOCAL_VARIABLE\\\"])\""
   ]
  },
  {
   "cell_type": "markdown",
   "metadata": {},
   "source": [
    "But if you prefix the shell invocation with the variable definition, everything works fine in the nested shell."
   ]
  },
  {
   "cell_type": "code",
   "execution_count": 3,
   "metadata": {
    "vscode": {
     "languageId": "shellscript"
    }
   },
   "outputs": [
    {
     "name": "stdout",
     "output_type": "stream",
     "text": [
      "hello variable\n",
      "hello variable\n"
     ]
    }
   ],
   "source": [
    "LOCAL_VARIABLE=\"hello variable\" bash -c \"echo \\$LOCAL_VARIABLE\"\n",
    "LOCAL_VARIABLE=\"hello variable\" python3 -c \"import os; print(os.environ[\\\"LOCAL_VARIABLE\\\"])\""
   ]
  },
  {
   "cell_type": "markdown",
   "metadata": {},
   "source": [
    "Or prefixing it with `export` will create this variable as an environment variable:"
   ]
  },
  {
   "cell_type": "code",
   "execution_count": 4,
   "metadata": {
    "vscode": {
     "languageId": "shellscript"
    }
   },
   "outputs": [
    {
     "name": "stdout",
     "output_type": "stream",
     "text": [
      "hello global\n"
     ]
    }
   ],
   "source": [
    "export ENVIRONMENT_VARIABLE=\"hello global\"\n",
    "echo $ENVIRONMENT_VARIABLE"
   ]
  },
  {
   "cell_type": "markdown",
   "metadata": {},
   "source": [
    "Now it can be easily accessed from any nested shell."
   ]
  },
  {
   "cell_type": "code",
   "execution_count": 5,
   "metadata": {
    "vscode": {
     "languageId": "shellscript"
    }
   },
   "outputs": [
    {
     "name": "stdout",
     "output_type": "stream",
     "text": [
      "hello global\n",
      "hello global\n"
     ]
    }
   ],
   "source": [
    "python3 -c \"import os; print(os.environ[\\\"ENVIRONMENT_VARIABLE\\\"])\"\n",
    "bash -c \"echo \\$ENVIRONMENT_VARIABLE\""
   ]
  },
  {
   "cell_type": "markdown",
   "metadata": {},
   "source": [
    "## Keep variables in file\n",
    "\n",
    "For convenince you can keep variables in file - typical name for such file is `.env`. In fact it is just script that have to be executed in the shell where you wan't to define varables - so you have just write command simply like that you can write in the shell, result would be the same.\n",
    "\n",
    "To load variable from file you can use `. <file>` or `source <file>`."
   ]
  },
  {
   "cell_type": "markdown",
   "metadata": {},
   "source": [
    "---\n",
    "\n",
    "As an example, consider a file created with the following code:"
   ]
  },
  {
   "cell_type": "code",
   "execution_count": 15,
   "metadata": {
    "vscode": {
     "languageId": "shellscript"
    }
   },
   "outputs": [],
   "source": [
    "cat << EOF > /tmp/env\n",
    "VARIABLE1=\"variable 1 value\"\n",
    "VARIABLE2=\"variable 2 value\"\n",
    "export ENVIRONMENT_EXAMPLE=\"environment hello\"\n",
    "EOF"
   ]
  },
  {
   "cell_type": "markdown",
   "metadata": {},
   "source": [
    "After loading this file, you can use the variables defined in it as usual."
   ]
  },
  {
   "cell_type": "code",
   "execution_count": 17,
   "metadata": {
    "vscode": {
     "languageId": "shellscript"
    }
   },
   "outputs": [
    {
     "name": "stdout",
     "output_type": "stream",
     "text": [
      "variable 1 value variable 2 value\n",
      "ENVIRONMENT_\u001b[01;31m\u001b[KEXAMPLE\u001b[m\u001b[K=environment hello\n"
     ]
    }
   ],
   "source": [
    "source /tmp/env\n",
    "echo $VARIABLE1 $VARIABLE2\n",
    "env | grep EXAMPLE\n",
    "unset VARIABLE1 VARIABLE2 ENVIRONMENT_EXAMPLE"
   ]
  },
  {
   "cell_type": "markdown",
   "metadata": {},
   "source": [
    "The same output with using `.` instead of `source`."
   ]
  },
  {
   "cell_type": "code",
   "execution_count": 18,
   "metadata": {
    "vscode": {
     "languageId": "shellscript"
    }
   },
   "outputs": [
    {
     "name": "stdout",
     "output_type": "stream",
     "text": [
      "variable 1 value variable 2 value\n",
      "ENVIRONMENT_\u001b[01;31m\u001b[KEXAMPLE\u001b[m\u001b[K=environment hello\n"
     ]
    }
   ],
   "source": [
    ". /tmp/env\n",
    "echo $VARIABLE1 $VARIABLE2\n",
    "env | grep EXAMPLE\n",
    "unset VARIABLE1 VARIABLE2 ENVIRONMENT_EXAMPLE"
   ]
  },
  {
   "cell_type": "markdown",
   "metadata": {},
   "source": [
    "**Note:** In this context, you can't use `bash` to execute files that define variables, as they will only be defined in the invoked shell, not in the calling shell."
   ]
  },
  {
   "cell_type": "code",
   "execution_count": 23,
   "metadata": {
    "vscode": {
     "languageId": "shellscript"
    }
   },
   "outputs": [
    {
     "name": "stdout",
     "output_type": "stream",
     "text": [
      "\n"
     ]
    }
   ],
   "source": [
    "bash /tmp/env\n",
    "echo $VARIABLE1 $VARIABLE2"
   ]
  },
  {
   "cell_type": "markdown",
   "metadata": {},
   "source": [
    "## Unset variable\n",
    "\n",
    "If you want to remove a variable from the current shell or delete a local variable, use the `unset <variable>` command."
   ]
  },
  {
   "cell_type": "markdown",
   "metadata": {},
   "source": [
    "---\n",
    "\n",
    "The following cell creates a shell variable and an environment variable. Once created, you can use them in any command you like."
   ]
  },
  {
   "cell_type": "code",
   "execution_count": 36,
   "metadata": {
    "vscode": {
     "languageId": "shellscript"
    }
   },
   "outputs": [
    {
     "name": "stdout",
     "output_type": "stream",
     "text": [
      "hello shell hello environment\n"
     ]
    }
   ],
   "source": [
    "shell_var=\"hello shell\"\n",
    "export env_var=\"hello environment\"\n",
    "\n",
    "echo \"$shell_var $env_var\""
   ]
  },
  {
   "cell_type": "markdown",
   "metadata": {
    "vscode": {
     "languageId": "shellscript"
    }
   },
   "source": [
    "But after applying `unset` to the variables, `echo` returns an empty output again."
   ]
  },
  {
   "cell_type": "code",
   "execution_count": 37,
   "metadata": {
    "vscode": {
     "languageId": "shellscript"
    }
   },
   "outputs": [
    {
     "name": "stdout",
     "output_type": "stream",
     "text": [
      " \n"
     ]
    }
   ],
   "source": [
    "unset shell_var env_var\n",
    "\n",
    "echo \"$shell_var $env_var\""
   ]
  },
  {
   "cell_type": "markdown",
   "metadata": {},
   "source": [
    "## Replace env. var. (envsubst)\n",
    "\n",
    "The `envsubst` utility is used to replace placeholders within a \"template\" with corresponding values from environment variables. It allows you to substitute variables in specific locations with their actual values."
   ]
  },
  {
   "cell_type": "markdown",
   "metadata": {},
   "source": [
    "---\n",
    "\n",
    "In the following cell is created a template:"
   ]
  },
  {
   "cell_type": "code",
   "execution_count": null,
   "metadata": {
    "vscode": {
     "languageId": "shellscript"
    }
   },
   "outputs": [],
   "source": [
    "cat << EOF > envsubst_example\n",
    "User \\${username} succesfully login his age is \\${userage}.\n",
    "EOF"
   ]
  },
  {
   "cell_type": "markdown",
   "metadata": {},
   "source": [
    "If we print this template as it is - it will have `${username}` and `${userage}` just as text."
   ]
  },
  {
   "cell_type": "code",
   "execution_count": null,
   "metadata": {
    "vscode": {
     "languageId": "shellscript"
    }
   },
   "outputs": [
    {
     "name": "stdout",
     "output_type": "stream",
     "text": [
      "User ${username} succesfully login his age is ${userage}.\n"
     ]
    }
   ],
   "source": [
    "cat envsubst_example"
   ]
  },
  {
   "cell_type": "markdown",
   "metadata": {},
   "source": [
    "If we define the corresponding values `username` and `userage` and pass the file to the envsubst command, we will obtain a line with the substituted values."
   ]
  },
  {
   "cell_type": "code",
   "execution_count": null,
   "metadata": {
    "vscode": {
     "languageId": "shellscript"
    }
   },
   "outputs": [
    {
     "name": "stdout",
     "output_type": "stream",
     "text": [
      "User Fedor succesfully login his age is 23.\n"
     ]
    }
   ],
   "source": [
    "export username=Fedor\n",
    "export userage=23\n",
    "envsubst < envsubst_example\n",
    "rm envsubst_example"
   ]
  }
 ],
 "metadata": {
  "kernelspec": {
   "display_name": "Bash",
   "language": "bash",
   "name": "bash"
  },
  "language_info": {
   "codemirror_mode": "shell",
   "file_extension": ".sh",
   "mimetype": "text/x-sh",
   "name": "bash"
  }
 },
 "nbformat": 4,
 "nbformat_minor": 2
}
