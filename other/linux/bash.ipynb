{
 "cells": [
  {
   "cell_type": "markdown",
   "metadata": {},
   "source": [
    "# Bash\n",
    "\n",
    "Bash is a shell commonly used in Linux-based operating systems. Mastering Bash allows you to combine results from Linux utilities and create your own, which is a straightforward way to optimize tasks."
   ]
  },
  {
   "cell_type": "markdown",
   "metadata": {},
   "source": [
    "## Operators\n",
    "\n",
    "Operators available in bash are shown in the table above by groups.\n",
    "\n",
    "| **Operator Group**       | **Operators**                                                                                                                                                    | **Description**|\n",
    "|--------------------------|------------------------------------------------------------------------------------------------------------------------------------------------------------------|-----------------|\n",
    "| **Arithmetic Operators** | `+`, `-`, `*`, `/`, `%`, `**`                                                                                                                                    | Perform mathematical calculations. |\n",
    "| **Comparison Operators** | `-eq`, `-ne`, `-gt`, `-ge`, `-lt`, `-le`                                                                                                                         | Compare values.|\n",
    "| **Logical Operators**    | `&&`, `\\|\\|`, `!`                                                                                                                                                  | Combine multiple conditions.|\n",
    "| **String Operators**     | `=`, `!=`, `-z`, `-n`                                                                                                                                            | Compare and manipulate strings.|\n",
    "| **File Test Operators**  | `-e`, `-f`, `-d`, `-r`, `-w`, `-x`                                                                                                                               | Test file properties.|\n",
    "| **Redirection Operators**| `>`, `>>`, `<`, `2>`, `2>>`, `&>`, `&>>`                                                                                                                         | Redirect input and output of commands.|\n",
    "| **Control Operators**    | `;`, `&&`, `\\|\\|`, `()`, `{}`                                                                                                                                      | Control execution flow of commands.|\n",
    "| **Pipeline Operators**   | `\\|`                                                                                                                                                              | Pass output of one command as input to another.|"
   ]
  }
 ],
 "metadata": {
  "language_info": {
   "name": "python"
  }
 },
 "nbformat": 4,
 "nbformat_minor": 2
}
