{
 "cells": [
  {
   "cell_type": "markdown",
   "metadata": {},
   "source": [
    "# Manage input/output\n",
    "\n",
    "This page deals with common tools that improves the terminal experience. They don't have a specific purpose, can be used for many purposes and are related with transfering and processing information with LinuxTerminal."
   ]
  },
  {
   "cell_type": "markdown",
   "metadata": {},
   "source": [
    "## Grep\n",
    "\n",
    "**G**lobal **R**egular **E**xpression **P**rint (grep) is a very popular Linux utility for searching within texts. It allows you to find sections of text that match specified patterns and is extremely useful in many cases. Check [official manual on gnu.org](https://www.gnu.org/software/grep/manual/grep.html)."
   ]
  },
  {
   "cell_type": "markdown",
   "metadata": {},
   "source": [
    "---\n",
    "\n",
    "The most common use of grep is to find patterns in the output of another command. The following cell creates a file with some text that will be used as an example."
   ]
  },
  {
   "cell_type": "code",
   "execution_count": null,
   "metadata": {
    "vscode": {
     "languageId": "shellscript"
    }
   },
   "outputs": [],
   "source": [
    "cat << EOF > /tmp/play_with_grep\n",
    "This text is used\n",
    "to show how the grep\n",
    "utility works\n",
    "EOF"
   ]
  },
  {
   "cell_type": "markdown",
   "metadata": {},
   "source": [
    "The following cell applies the `cat` command to the file we created earlier - so its contents will be shown in the standard output. Using the syntax `<command> | grep <pattern>` applies `grep <pattern>` to the output of `<command>`."
   ]
  },
  {
   "cell_type": "code",
   "execution_count": null,
   "metadata": {
    "vscode": {
     "languageId": "shellscript"
    }
   },
   "outputs": [
    {
     "name": "stdout",
     "output_type": "stream",
     "text": [
      "This \u001b[01;31m\u001b[Ktext\u001b[m\u001b[K is used\n"
     ]
    }
   ],
   "source": [
    "cat /tmp/play_with_grep | grep text"
   ]
  },
  {
   "cell_type": "markdown",
   "metadata": {},
   "source": [
    "The result is a line in which the specified pattern appears."
   ]
  },
  {
   "cell_type": "markdown",
   "metadata": {},
   "source": [
    "The following cell similarly shows the line where the word `grep` appears."
   ]
  },
  {
   "cell_type": "code",
   "execution_count": null,
   "metadata": {
    "vscode": {
     "languageId": "shellscript"
    }
   },
   "outputs": [
    {
     "name": "stdout",
     "output_type": "stream",
     "text": [
      "to show how the \u001b[01;31m\u001b[Kgrep\u001b[m\u001b[K\n"
     ]
    }
   ],
   "source": [
    "cat /tmp/play_with_grep | grep grep"
   ]
  },
  {
   "cell_type": "markdown",
   "metadata": {},
   "source": [
    "## Heredoc (<< delimiting_identifier)\n",
    "\n",
    "Using the `<<` symbol followed by a *delimiter identifier*, you can define a multiline string (here document) that will be passed as input to the chosen command. The block of text should be terminated by the same *delimiter identifier*."
   ]
  },
  {
   "cell_type": "markdown",
   "metadata": {},
   "source": [
    "---\n",
    "\n",
    "In the following cell, the `cat` command is passed a multiline expression, which is then printed in the output — this is exactly what the `cat` command does."
   ]
  },
  {
   "cell_type": "code",
   "execution_count": null,
   "metadata": {
    "vscode": {
     "languageId": "shellscript"
    }
   },
   "outputs": [
    {
     "name": "stdout",
     "output_type": "stream",
     "text": [
      "hello\n",
      "my name \n",
      "is fedor\n"
     ]
    }
   ],
   "source": [
    "cat << EOF\n",
    "hello\n",
    "my name \n",
    "is fedor\n",
    "EOF"
   ]
  },
  {
   "cell_type": "markdown",
   "metadata": {},
   "source": [
    "To understand better what exactly it does. Anoter example with other delimiting identifier and other command applied to the result. Here we are using `grep` to find line that contains `FIND ME`. Begining and ending of the document is defined by `SSS` combination of the symbols."
   ]
  },
  {
   "cell_type": "code",
   "execution_count": null,
   "metadata": {
    "vscode": {
     "languageId": "shellscript"
    }
   },
   "outputs": [
    {
     "name": "stdout",
     "output_type": "stream",
     "text": [
      "it's great FIND ME that\n"
     ]
    }
   ],
   "source": [
    "grep \"FIND ME\" << SSS\n",
    "this is some line\n",
    "it's great FIND ME that\n",
    "something strange in this line \n",
    "SSS"
   ]
  },
  {
   "cell_type": "markdown",
   "metadata": {},
   "source": [
    "## Clipboard\n",
    "\n",
    "There are special utility to manipulate with clipboard in linux `xclip`. Check decription using `man xclip` or on the [official github page](https://github.com/astrand/xclip/blob/master/xctest).\n",
    "\n",
    "To to paste result as a \"ctrl+v\" combination use `<command> | xclip -sel clip`."
   ]
  },
  {
   "cell_type": "markdown",
   "metadata": {},
   "source": [
    "---\n",
    "\n",
    "The following cell uses `xclip` to save the result of the `uptime` command."
   ]
  },
  {
   "cell_type": "code",
   "execution_count": null,
   "metadata": {
    "vscode": {
     "languageId": "shellscript"
    }
   },
   "outputs": [],
   "source": [
    "uptime | xclip"
   ]
  },
  {
   "cell_type": "markdown",
   "metadata": {},
   "source": [
    "`xclip -o` retrieves the content you've previously saved."
   ]
  },
  {
   "cell_type": "code",
   "execution_count": null,
   "metadata": {
    "vscode": {
     "languageId": "shellscript"
    }
   },
   "outputs": [
    {
     "name": "stdout",
     "output_type": "stream",
     "text": [
      " 17:29:43 up  1:41,  1 user,  load average: 1.53, 1.17, 1.07\n"
     ]
    }
   ],
   "source": [
    "xclip -o"
   ]
  }
 ],
 "metadata": {
  "language_info": {
   "name": "python"
  }
 },
 "nbformat": 4,
 "nbformat_minor": 2
}
