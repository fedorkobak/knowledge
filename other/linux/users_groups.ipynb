{
 "cells": [
  {
   "cell_type": "markdown",
   "metadata": {},
   "source": [
    "# Users & groups\n",
    "\n",
    "This page discusses ways to manage users in a Linux system.\n",
    "\n",
    "Commands described in this page can seriously change the environment, so it is highly recommended to run this notebook from the safe environment."
   ]
  },
  {
   "cell_type": "markdown",
   "metadata": {},
   "source": [
    "## Users file\n",
    "\n",
    "In a Linux system, the `/etc/passwd` file contains information about users, with each line representing a user. The information about each user is separated by colons (`:`). Lines describing a user follow this pattern:\n",
    "\n",
    "```\n",
    "<user name>:<password placeholder>:<user id>:<primary group id>:<user comment>:<home directory of the user>:<shell of the user>\n",
    "```"
   ]
  },
  {
   "cell_type": "markdown",
   "metadata": {},
   "source": [
    "---\n",
    "\n",
    "The following cell shows the content that `/etc/passwd` can have."
   ]
  },
  {
   "cell_type": "code",
   "execution_count": 7,
   "metadata": {
    "vscode": {
     "languageId": "shellscript"
    }
   },
   "outputs": [
    {
     "name": "stdout",
     "output_type": "stream",
     "text": [
      "root:x:0:0:root:/root:/bin/bash\n",
      "daemon:x:1:1:daemon:/usr/sbin:/usr/sbin/nologin\n",
      "bin:x:2:2:bin:/bin:/usr/sbin/nologin\n",
      "sys:x:3:3:sys:/dev:/usr/sbin/nologin\n",
      "sync:x:4:65534:sync:/bin:/bin/sync\n",
      "games:x:5:60:games:/usr/games:/usr/sbin/nologin\n",
      "man:x:6:12:man:/var/cache/man:/usr/sbin/nologin\n",
      "lp:x:7:7:lp:/var/spool/lpd:/usr/sbin/nologin\n",
      "mail:x:8:8:mail:/var/mail:/usr/sbin/nologin\n",
      "news:x:9:9:news:/var/spool/news:/usr/sbin/nologin\n"
     ]
    }
   ],
   "source": [
    "cat /etc/passwd | head -n 10"
   ]
  },
  {
   "cell_type": "markdown",
   "metadata": {
    "vscode": {
     "languageId": "shellscript"
    }
   },
   "source": [
    "## Groups file\n",
    "\n",
    "There is a `/etc/group` file where each line contains information about a group. Each line in `/etc/group` file corresponds to pattern:\n",
    "\n",
    "```\n",
    "<group name>:<password placeholder>:<group id>:<users list>\n",
    "```"
   ]
  },
  {
   "cell_type": "markdown",
   "metadata": {},
   "source": [
    "---\n",
    "\n",
    "The following cell shows typical `/etc/group` file. "
   ]
  },
  {
   "cell_type": "code",
   "execution_count": 5,
   "metadata": {
    "vscode": {
     "languageId": "shellscript"
    }
   },
   "outputs": [
    {
     "name": "stdout",
     "output_type": "stream",
     "text": [
      "root:x:0:\n",
      "daemon:x:1:\n",
      "bin:x:2:\n",
      "sys:x:3:\n",
      "adm:x:4:\n",
      "tty:x:5:\n",
      "disk:x:6:\n",
      "lp:x:7:\n",
      "mail:x:8:\n",
      "news:x:9:\n"
     ]
    }
   ],
   "source": [
    "cat /etc/group | head -n 10"
   ]
  },
  {
   "cell_type": "markdown",
   "metadata": {},
   "source": [
    "## Passwords file\n",
    "\n",
    "File that contains passwords is `/etc/shadow`. The meaning of the fileds of this file is:\n",
    "\n",
    "```\n",
    "<user name>:<password hash or password setting>:<last password change>:<minimum days before change>:<maximum days before expiration>:<warning period>:<inactive period>:<expires on>\n",
    "```"
   ]
  },
  {
   "cell_type": "code",
   "execution_count": 8,
   "metadata": {
    "vscode": {
     "languageId": "shellscript"
    }
   },
   "outputs": [
    {
     "name": "stdout",
     "output_type": "stream",
     "text": [
      "root:*:20101:0:99999:7:::\n",
      "daemon:*:20101:0:99999:7:::\n",
      "bin:*:20101:0:99999:7:::\n",
      "sys:*:20101:0:99999:7:::\n",
      "sync:*:20101:0:99999:7:::\n",
      "games:*:20101:0:99999:7:::\n",
      "man:*:20101:0:99999:7:::\n",
      "lp:*:20101:0:99999:7:::\n",
      "mail:*:20101:0:99999:7:::\n",
      "news:*:20101:0:99999:7:::\n",
      "uucp:*:20101:0:99999:7:::\n",
      "proxy:*:20101:0:99999:7:::\n",
      "www-data:*:20101:0:99999:7:::\n",
      "backup:*:20101:0:99999:7:::\n",
      "list:*:20101:0:99999:7:::\n",
      "irc:*:20101:0:99999:7:::\n",
      "_apt:*:20101:0:99999:7:::\n",
      "nobody:*:20101:0:99999:7:::\n"
     ]
    }
   ],
   "source": [
    "cat /etc/shadow"
   ]
  },
  {
   "cell_type": "markdown",
   "metadata": {},
   "source": [
    "## Add user\n",
    "\n",
    "This section discusses features associated with adding extra users to the system. The parameters of the `useradd` command are primarily addressed here."
   ]
  },
  {
   "cell_type": "markdown",
   "metadata": {},
   "source": [
    "### Default shell\n",
    "\n",
    "You can specify default shell that will be used by the user. With `--shell` argument."
   ]
  },
  {
   "cell_type": "markdown",
   "metadata": {},
   "source": [
    "---\n",
    "\n",
    "The following example shows how to make python the default shell for the user. We need python installed on the system to play with such tricks."
   ]
  },
  {
   "cell_type": "markdown",
   "metadata": {},
   "source": [
    "The following cell creates `python_user` and specifies the path to Python in the `--shell` argument."
   ]
  },
  {
   "cell_type": "code",
   "execution_count": 1,
   "metadata": {
    "vscode": {
     "languageId": "shellscript"
    }
   },
   "outputs": [],
   "source": [
    "useradd --shell /usr/bin/python3 -m python_user"
   ]
  },
  {
   "cell_type": "markdown",
   "metadata": {},
   "source": [
    "The following cell executes Python code that prints the value of the environment variable `SHELL` for `python_user`."
   ]
  },
  {
   "cell_type": "code",
   "execution_count": 2,
   "metadata": {
    "vscode": {
     "languageId": "shellscript"
    }
   },
   "outputs": [
    {
     "name": "stdout",
     "output_type": "stream",
     "text": [
      "/usr/bin/python3\n"
     ]
    }
   ],
   "source": [
    "su - python_user -c \"import os; print(os.environ['SHELL'])\""
   ]
  },
  {
   "cell_type": "markdown",
   "metadata": {},
   "source": [
    "As a result, `/usr/bin/python` is shown, and Python syntax is used to print it."
   ]
  },
  {
   "cell_type": "markdown",
   "metadata": {},
   "source": [
    "## Add/remove group\n",
    "\n",
    "Use the `groupadd` and `groupdel` commands to add and remove groups."
   ]
  },
  {
   "cell_type": "markdown",
   "metadata": {},
   "source": [
    "---\n",
    "\n",
    "The following code creates `newgroup` and shows the corresponding line in `/etc/group`."
   ]
  },
  {
   "cell_type": "code",
   "execution_count": 13,
   "metadata": {
    "vscode": {
     "languageId": "shellscript"
    }
   },
   "outputs": [
    {
     "name": "stdout",
     "output_type": "stream",
     "text": [
      "newgroup:x:1000:\n"
     ]
    }
   ],
   "source": [
    "groupadd newgroup\n",
    "cat /etc/group | grep newgrou"
   ]
  },
  {
   "cell_type": "markdown",
   "metadata": {},
   "source": [
    "But after applying `groupdel` to the created group, it disappears from the `/etc/group`."
   ]
  },
  {
   "cell_type": "code",
   "execution_count": 14,
   "metadata": {
    "vscode": {
     "languageId": "shellscript"
    }
   },
   "outputs": [],
   "source": [
    "groupdel newgroup\n",
    "cat /etc/group | grep newgroup | true"
   ]
  },
  {
   "cell_type": "markdown",
   "metadata": {},
   "source": [
    "## Configure relationships\n",
    "\n",
    "This section covers commands that allow you to manage relationships between users and groups, such as setting information about which users belong to which groups.\n",
    "\n",
    "Really basics:\n",
    "\n",
    "- Add user to group with `gpasswd -a <user name> <group name>`.\n",
    "- Delete user from group with `gpasswd -d <user name> <group name>`."
   ]
  },
  {
   "cell_type": "markdown",
   "metadata": {},
   "source": [
    "---\n",
    "\n",
    "The following cell creates an `experimental` group, which will be used as an example:"
   ]
  },
  {
   "cell_type": "code",
   "execution_count": 34,
   "metadata": {
    "vscode": {
     "languageId": "shellscript"
    }
   },
   "outputs": [
    {
     "name": "stdout",
     "output_type": "stream",
     "text": [
      "experimental:x:1000:\n"
     ]
    }
   ],
   "source": [
    "groupdel experimental &> /dev/null && groupadd experimental\n",
    "cat /etc/group | grep experimental"
   ]
  },
  {
   "cell_type": "markdown",
   "metadata": {},
   "source": [
    "By default, there are no users in this group. However, following cell with the syntax `usermod -a <username> experimental` will add two users to the group."
   ]
  },
  {
   "cell_type": "code",
   "execution_count": 35,
   "metadata": {
    "vscode": {
     "languageId": "shellscript"
    }
   },
   "outputs": [
    {
     "name": "stdout",
     "output_type": "stream",
     "text": [
      "Adding user root to group experimental\n",
      "Adding user bin to group experimental\n",
      "experimental:x:1000:root,bin\n"
     ]
    }
   ],
   "source": [
    "gpasswd -a root experimental\n",
    "gpasswd -a bin experimental\n",
    "cat /etc/group | grep experimental"
   ]
  },
  {
   "cell_type": "markdown",
   "metadata": {},
   "source": [
    "As the result, line of the `/etc/group` corresponding to the `experimental` contains users separated by coma."
   ]
  },
  {
   "cell_type": "markdown",
   "metadata": {},
   "source": [
    "The following cell removes the `root` user from the `experimental` group. And shows the corresponding line of the `/etc/group` - now there is no `root` user."
   ]
  },
  {
   "cell_type": "code",
   "execution_count": 36,
   "metadata": {
    "vscode": {
     "languageId": "shellscript"
    }
   },
   "outputs": [
    {
     "name": "stdout",
     "output_type": "stream",
     "text": [
      "Removing user root from group experimental\n"
     ]
    },
    {
     "name": "stdout",
     "output_type": "stream",
     "text": [
      "experimental:x:1000:bin\n"
     ]
    }
   ],
   "source": [
    "gpasswd -d root experimental\n",
    "cat /etc/group | grep experimental"
   ]
  }
 ],
 "metadata": {
  "kernelspec": {
   "display_name": "Bash",
   "language": "bash",
   "name": "bash"
  },
  "language_info": {
   "codemirror_mode": "shell",
   "file_extension": ".sh",
   "mimetype": "text/x-sh",
   "name": "bash"
  }
 },
 "nbformat": 4,
 "nbformat_minor": 2
}
