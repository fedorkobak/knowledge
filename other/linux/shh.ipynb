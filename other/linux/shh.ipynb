{
 "cells": [
  {
   "cell_type": "markdown",
   "metadata": {},
   "source": [
    "# SSH"
   ]
  },
  {
   "cell_type": "code",
   "execution_count": 36,
   "metadata": {
    "vscode": {
     "languageId": "shellscript"
    }
   },
   "outputs": [
    {
     "name": "stdout",
     "output_type": "stream",
     "text": [
      "9bfe833d63297da8fd2d7599c5b01316b25f09a0526659d5ca7868d74e32b5f1\n"
     ]
    }
   ],
   "source": [
    "docker network create ssh_test_network"
   ]
  },
  {
   "cell_type": "code",
   "execution_count": 37,
   "metadata": {
    "vscode": {
     "languageId": "shellscript"
    }
   },
   "outputs": [
    {
     "name": "stdout",
     "output_type": "stream",
     "text": [
      "11f75db6d513ad1d7095da315e94deda4cf4f3b7324df92da7181588004d4bb8\n",
      "4823f73c81b836c2f6257ea53d83773699885e16df54b3833545ce46e2848053\n"
     ]
    }
   ],
   "source": [
    "docker run -dit --rm --name ssh_host --network ssh_test_network -p 22:22 alpine\n",
    "docker run -dit --rm --name ssh_client --network ssh_test_network alpine"
   ]
  },
  {
   "cell_type": "code",
   "execution_count": 38,
   "metadata": {
    "vscode": {
     "languageId": "shellscript"
    }
   },
   "outputs": [
    {
     "name": "stdout",
     "output_type": "stream",
     "text": [
      "fetch https://dl-cdn.alpinelinux.org/alpine/v3.20/main/x86_64/APKINDEX.tar.gz\n",
      "fetch https://dl-cdn.alpinelinux.org/alpine/v3.20/community/x86_64/APKINDEX.tar.gz\n",
      "(1/10) Installing openssh-keygen (9.7_p1-r4)\n",
      "\u001b7  0%                                                                           \u001b8\u001b[0K(2/10) Installing ncurses-terminfo-base (6.4_p20240420-r0)\n",
      "\u001b7  8% ######                                                                    \u001b8\u001b[0K\u001b7  9% ######                                                                    \u001b8\u001b[0K\u001b7  9% #######                                                                   \u001b8\u001b[0K\u001b7 10% #######                                                                   \u001b8\u001b[0K(3/10) Installing libncursesw (6.4_p20240420-r0)\n",
      "\u001b7 11% ########                                                                  \u001b8\u001b[0K(4/10) Installing libedit (20240517.3.1-r0)\n",
      "\u001b7 17% ############                                                              \u001b8\u001b[0K(5/10) Installing openssh-client-common (9.7_p1-r4)\n",
      "\u001b7 20% ###############                                                           \u001b8\u001b[0K\u001b7 30% ######################                                                    \u001b8\u001b[0K\u001b7 31% #######################                                                   \u001b8\u001b[0K\u001b7 34% #########################                                                 \u001b8\u001b[0K\u001b7 37% ###########################                                               \u001b8\u001b[0K\u001b7 43% ################################                                          \u001b8\u001b[0K\u001b7 49% ####################################                                      \u001b8\u001b[0K\u001b7 57% ##########################################                                \u001b8\u001b[0K(6/10) Installing openssh-client-default (9.7_p1-r4)\n",
      "\u001b7 63% ###############################################                           \u001b8\u001b[0K(7/10) Installing openssh-sftp-server (9.7_p1-r4)\n",
      "\u001b7 77% ########################################################                  \u001b8\u001b[0K(8/10) Installing openssh-server-common (9.7_p1-r4)\n",
      "\u001b7 79% ##########################################################                \u001b8\u001b[0K(9/10) Installing openssh-server (9.7_p1-r4)\n",
      "\u001b7 79% ###########################################################               \u001b8\u001b[0K(10/10) Installing openssh (9.7_p1-r4)\n",
      "\u001b7 93% #####################################################################     \u001b8\u001b[0K\u001b7100% ##########################################################################\u001b8\u001b[0KExecuting busybox-1.36.1-r29.trigger\n",
      "OK: 14 MiB in 24 packages\n",
      "ssh-keygen: generating new host keys: RSA ECDSA ED25519 \n"
     ]
    }
   ],
   "source": [
    "docker exec -it ssh_host apk add openssh\n",
    "docker exec -it ssh_host ssh-keygen -A"
   ]
  },
  {
   "cell_type": "code",
   "execution_count": 39,
   "metadata": {
    "vscode": {
     "languageId": "shellscript"
    }
   },
   "outputs": [],
   "source": [
    "docker exec -itd ssh_host /usr/sbin/sshd -D"
   ]
  },
  {
   "cell_type": "code",
   "execution_count": 40,
   "metadata": {
    "vscode": {
     "languageId": "shellscript"
    }
   },
   "outputs": [
    {
     "name": "stdout",
     "output_type": "stream",
     "text": [
      "  % Total    % Received % Xferd  Average Speed   Time    Time     Time  Current\n",
      "                                 Dload  Upload   Total   Spent    Left  Speed\n",
      "  0     0    0     0    0     0      0      0 --:--:-- --:--:-- --:--:--     0\n",
      "curl: (1) Received HTTP/0.9 when not allowed\n"
     ]
    },
    {
     "ename": "",
     "evalue": "1",
     "output_type": "error",
     "traceback": []
    }
   ],
   "source": [
    "docker exec ssh_client curl ssh_host:22"
   ]
  },
  {
   "cell_type": "code",
   "execution_count": 35,
   "metadata": {
    "vscode": {
     "languageId": "shellscript"
    }
   },
   "outputs": [
    {
     "name": "stdout",
     "output_type": "stream",
     "text": [
      "ssh_client\n",
      "ssh_host\n",
      "ssh_test_network\n"
     ]
    }
   ],
   "source": [
    "docker stop ssh_client ssh_host\n",
    "docker network rm ssh_test_network"
   ]
  }
 ],
 "metadata": {
  "kernelspec": {
   "display_name": "Bash",
   "language": "bash",
   "name": "bash"
  },
  "language_info": {
   "codemirror_mode": "shell",
   "file_extension": ".sh",
   "mimetype": "text/x-sh",
   "name": "bash"
  }
 },
 "nbformat": 4,
 "nbformat_minor": 2
}
