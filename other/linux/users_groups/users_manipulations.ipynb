{
 "cells": [
  {
   "cell_type": "markdown",
   "metadata": {},
   "source": [
    "# Users manipulations\n",
    "\n",
    "This section considers ways to configure the list of users of the Linux operating system."
   ]
  },
  {
   "cell_type": "markdown",
   "metadata": {},
   "source": [
    "## Default shell\n",
    "\n",
    "You can specify default shell that will be used by the user. With `--shell` argument."
   ]
  },
  {
   "cell_type": "markdown",
   "metadata": {},
   "source": [
    "---\n",
    "\n",
    "The following example shows how to make python the default shell for the user. We need python installed on the system to play with such tricks."
   ]
  },
  {
   "cell_type": "markdown",
   "metadata": {},
   "source": [
    "The following cell creates `python_user` and specifies the path to Python in the `--shell` argument."
   ]
  },
  {
   "cell_type": "code",
   "execution_count": 4,
   "metadata": {
    "vscode": {
     "languageId": "shellscript"
    }
   },
   "outputs": [],
   "source": [
    "useradd --shell /usr/local/bin/python3 -m python_user"
   ]
  },
  {
   "cell_type": "markdown",
   "metadata": {},
   "source": [
    "The following cell executes Python code that prints the value of the environment variable `SHELL` for `python_user`."
   ]
  },
  {
   "cell_type": "code",
   "execution_count": 5,
   "metadata": {
    "vscode": {
     "languageId": "shellscript"
    }
   },
   "outputs": [
    {
     "name": "stdout",
     "output_type": "stream",
     "text": [
      "/usr/local/bin/python3\n"
     ]
    }
   ],
   "source": [
    "su - python_user -c \"import os; print(os.environ['SHELL'])\""
   ]
  },
  {
   "cell_type": "markdown",
   "metadata": {},
   "source": [
    "The result is a path specified for python path."
   ]
  },
  {
   "cell_type": "markdown",
   "metadata": {},
   "source": [
    "## Specify the password (`-p`)\n",
    "\n",
    "You can specify a password for a user just during creation using `-p <password>` option.\n",
    "\n",
    "**Note:** The argument passed with `-p` will be literaly write to the corresponding field of the `/etc/shadow` but password to be walid it have to be hashed"
   ]
  },
  {
   "cell_type": "markdown",
   "metadata": {},
   "source": [
    "---\n",
    "\n",
    "The following cell creates a user and specifies a `-p` value for it."
   ]
  },
  {
   "cell_type": "code",
   "execution_count": 8,
   "metadata": {
    "vscode": {
     "languageId": "shellscript"
    }
   },
   "outputs": [
    {
     "name": "stdout",
     "output_type": "stream",
     "text": [
      "pass_user:test_password:20142:0:99999:7:::\n"
     ]
    }
   ],
   "source": [
    "id pass_user &> /dev/null && userdel pass_user\n",
    "useradd pass_user -p test_password\n",
    "cat /etc/shadow | tail -n 1"
   ]
  },
  {
   "cell_type": "markdown",
   "metadata": {},
   "source": [
    "As a result, the corresponding line for that user will contain the literal value specified by `-p`. This is not a valid password, for example following code `chpasswd` to specify the same password."
   ]
  },
  {
   "cell_type": "code",
   "execution_count": 16,
   "metadata": {
    "vscode": {
     "languageId": "shellscript"
    }
   },
   "outputs": [
    {
     "name": "stdout",
     "output_type": "stream",
     "text": [
      "pass_user:$y$j9T$zXkpdGLeWECuJJjUWRkWA/$69C8IDy67Fc52nFTCalrscvFp04JrapLnhUnHWWpyAD:20142:0:99999:7:::\n"
     ]
    }
   ],
   "source": [
    "echo \"pass_user:test_password\" | chpasswd\n",
    "cat /etc/shadow | tail -n 1"
   ]
  },
  {
   "cell_type": "markdown",
   "metadata": {},
   "source": [
    "The result is a hash value in the place corresponding to the password, as it should be. But you can still specify the hashed password directly. The following cell uses the `openssl passwd` utility to create a hash for the password, which then used in `useradd`."
   ]
  },
  {
   "cell_type": "code",
   "execution_count": 18,
   "metadata": {
    "vscode": {
     "languageId": "shellscript"
    }
   },
   "outputs": [
    {
     "name": "stdout",
     "output_type": "stream",
     "text": [
      "pass_user:$6$mgDjcLr.bA.WrMfO$PBUc/Q/dqAQbntKhI7MwldjADkE0E.wf4YQDMUXP/.v/k04MzFy3JjGeWYtTM4NN7GvWz3A5UGGjOcCeZUtmI0:20142:0:99999:7:::\n"
     ]
    }
   ],
   "source": [
    "id pass_user &> /dev/null && userdel pass_user\n",
    "useradd pass_user -p $(openssl passwd -6 \"test_password\")\n",
    "cat /etc/shadow | tail -n 1"
   ]
  },
  {
   "cell_type": "markdown",
   "metadata": {},
   "source": [
    "And result would be a valid value for password."
   ]
  }
 ],
 "metadata": {
  "kernelspec": {
   "display_name": "Bash",
   "language": "bash",
   "name": "bash"
  },
  "language_info": {
   "codemirror_mode": "shell",
   "file_extension": ".sh",
   "mimetype": "text/x-sh",
   "name": "bash"
  }
 },
 "nbformat": 4,
 "nbformat_minor": 2
}
