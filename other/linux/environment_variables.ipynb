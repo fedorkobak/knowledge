{
 "cells": [
  {
   "cell_type": "markdown",
   "metadata": {},
   "source": [
    "# Environment variables\n",
    "\n",
    "This page presents tools to manage environment variables in Linux."
   ]
  },
  {
   "cell_type": "markdown",
   "metadata": {},
   "source": [
    "## Defining\n",
    "\n",
    "To define an environment variable only for a specific command, you can use the syntax:\n",
    "\n",
    "```\n",
    "<variable_name>=<variable_value> <command>\n",
    "```\n",
    "\n",
    "To set the variable for the entire current terminal session, use:\n",
    "\n",
    "```\n",
    "export <variable_name>=<variable_value>\n",
    "```\n",
    "\n",
    "All commands executed after this will use the specified value of the variable."
   ]
  },
  {
   "cell_type": "markdown",
   "metadata": {},
   "source": [
    "---\n",
    "\n",
    "The following example demonstrates the `echo` command printing the value of the `$EXPERIMENT_VARIABLE`, which was defined immediately before the command:"
   ]
  },
  {
   "cell_type": "code",
   "execution_count": 2,
   "metadata": {
    "vscode": {
     "languageId": "shellscript"
    }
   },
   "outputs": [
    {
     "name": "stdout",
     "output_type": "stream",
     "text": [
      "hello world\n"
     ]
    }
   ],
   "source": [
    "EXPERIMENT_VARIABLE=\"hello world\" echo $EXPERIMENT_VARIABLE"
   ]
  },
  {
   "cell_type": "markdown",
   "metadata": {},
   "source": [
    "However, if you attempt a similar example over two lines, you won't get the expected result."
   ]
  },
  {
   "cell_type": "code",
   "execution_count": null,
   "metadata": {
    "vscode": {
     "languageId": "shellscript"
    }
   },
   "outputs": [],
   "source": [
    "EXPERIMENT_VARIABLE=\"hello world\"\n",
    "echo $EXPERIMENT_VARIBLE"
   ]
  },
  {
   "cell_type": "markdown",
   "metadata": {},
   "source": [
    "Use the `export` keyword to indicate that the following command should also utilize the variable:"
   ]
  },
  {
   "cell_type": "code",
   "execution_count": 3,
   "metadata": {
    "vscode": {
     "languageId": "shellscript"
    }
   },
   "outputs": [
    {
     "name": "stdout",
     "output_type": "stream",
     "text": [
      "hello for session\n"
     ]
    }
   ],
   "source": [
    "export EXPERIMENT_VARIABLE=\"hello for session\"\n",
    "echo $EXPERIMENT_VARIABLE"
   ]
  },
  {
   "cell_type": "markdown",
   "metadata": {},
   "source": [
    "## Replace env. var. (envsubst)\n",
    "\n",
    "The `envsubst` utility is used to replace placeholders within a \"template\" with corresponding values from environment variables. It allows you to substitute variables in specific locations with their actual values."
   ]
  },
  {
   "cell_type": "markdown",
   "metadata": {},
   "source": [
    "So in the following cell is created a template:"
   ]
  },
  {
   "cell_type": "code",
   "execution_count": null,
   "metadata": {
    "vscode": {
     "languageId": "shellscript"
    }
   },
   "outputs": [],
   "source": [
    "cat << EOF > envsubst_example\n",
    "User \\${username} succesfully login his age is \\${userage}.\n",
    "EOF"
   ]
  },
  {
   "cell_type": "markdown",
   "metadata": {},
   "source": [
    "If we print this template as it is - it will have `${username}` and `${userage}` just as text."
   ]
  },
  {
   "cell_type": "code",
   "execution_count": null,
   "metadata": {
    "vscode": {
     "languageId": "shellscript"
    }
   },
   "outputs": [
    {
     "name": "stdout",
     "output_type": "stream",
     "text": [
      "User ${username} succesfully login his age is ${userage}.\n"
     ]
    }
   ],
   "source": [
    "cat envsubst_example"
   ]
  },
  {
   "cell_type": "markdown",
   "metadata": {},
   "source": [
    "If we define the corresponding values `username` and `userage` and pass the file to the envsubst command, we will obtain a line with the substituted values."
   ]
  },
  {
   "cell_type": "code",
   "execution_count": null,
   "metadata": {
    "vscode": {
     "languageId": "shellscript"
    }
   },
   "outputs": [
    {
     "name": "stdout",
     "output_type": "stream",
     "text": [
      "User Fedor succesfully login his age is 23.\n"
     ]
    }
   ],
   "source": [
    "export username=Fedor\n",
    "export userage=23\n",
    "envsubst < envsubst_example\n",
    "rm envsubst_example"
   ]
  }
 ],
 "metadata": {
  "kernelspec": {
   "display_name": "Bash",
   "language": "bash",
   "name": "bash"
  },
  "language_info": {
   "codemirror_mode": "shell",
   "file_extension": ".sh",
   "mimetype": "text/x-sh",
   "name": "bash"
  }
 },
 "nbformat": 4,
 "nbformat_minor": 2
}
