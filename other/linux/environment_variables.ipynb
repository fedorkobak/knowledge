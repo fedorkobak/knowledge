{
 "cells": [
  {
   "cell_type": "markdown",
   "metadata": {},
   "source": [
    "# Environment variables\n",
    "\n",
    "This page presents tools to manage environment variables in Linux.\n",
    "\n",
    "Check relevant bash documentation [page](https://www.gnu.org/software/bash/manual/html_node/Environment.html).\n",
    "\n",
    "Environment variable is a kind of variable that will be enherited by the nested shells - the environment inherited by any executed command consists of the shell’s initial environment."
   ]
  },
  {
   "cell_type": "markdown",
   "metadata": {},
   "source": [
    "---\n",
    "\n",
    "Consider `LOCAL_VARIABLE` - within this shell, you can access it freely. The following cell demonstrates how it is substituted into the output of `echo`:"
   ]
  },
  {
   "cell_type": "code",
   "execution_count": 1,
   "metadata": {
    "vscode": {
     "languageId": "shellscript"
    }
   },
   "outputs": [
    {
     "name": "stdout",
     "output_type": "stream",
     "text": [
      "hello world\n"
     ]
    }
   ],
   "source": [
    "LOCAL_VARIABLE=\"hello world\"\n",
    "echo $LOCAL_VARIABLE"
   ]
  },
  {
   "cell_type": "markdown",
   "metadata": {},
   "source": [
    "However, the following cell attempts to access `LOCAL_VARIABLE` from another shell:"
   ]
  },
  {
   "cell_type": "code",
   "execution_count": 2,
   "metadata": {
    "vscode": {
     "languageId": "shellscript"
    }
   },
   "outputs": [
    {
     "name": "stdout",
     "output_type": "stream",
     "text": [
      "\n"
     ]
    }
   ],
   "source": [
    "bash -c \"echo \\$LOCAL_VARIABLE\""
   ]
  },
  {
   "cell_type": "markdown",
   "metadata": {},
   "source": [
    "There is no result — by executing `bash`, you have created another shell where `LOCAL_VARIABLE` is not defined."
   ]
  },
  {
   "cell_type": "markdown",
   "metadata": {},
   "source": [
    "The same issue with python."
   ]
  },
  {
   "cell_type": "code",
   "execution_count": 3,
   "metadata": {
    "vscode": {
     "languageId": "shellscript"
    }
   },
   "outputs": [
    {
     "name": "stdout",
     "output_type": "stream",
     "text": [
      "Traceback (most recent call last):\n",
      "  File \"<string>\", line 1, in <module>\n",
      "  File \"/usr/lib/python3.10/os.py\", line 680, in __getitem__\n",
      "    raise KeyError(key) from None\n",
      "KeyError: 'LOCAL_VARIABLE'\n"
     ]
    },
    {
     "ename": "",
     "evalue": "1",
     "output_type": "error",
     "traceback": []
    }
   ],
   "source": [
    "python3 -c \"import os; print(os.environ[\\\"LOCAL_VARIABLE\\\"])\""
   ]
  },
  {
   "cell_type": "markdown",
   "metadata": {},
   "source": [
    "But prefixing it with `export` will create this variable as an environment variable:"
   ]
  },
  {
   "cell_type": "code",
   "execution_count": 4,
   "metadata": {
    "vscode": {
     "languageId": "shellscript"
    }
   },
   "outputs": [
    {
     "name": "stdout",
     "output_type": "stream",
     "text": [
      "hello global\n"
     ]
    }
   ],
   "source": [
    "export ENVIRONMENT_VARIABLE=\"hello global\"\n",
    "echo $ENVIRONMENT_VARIABLE"
   ]
  },
  {
   "cell_type": "markdown",
   "metadata": {},
   "source": [
    "Now it can be easily accessed from any nested shell."
   ]
  },
  {
   "cell_type": "code",
   "execution_count": 5,
   "metadata": {
    "vscode": {
     "languageId": "shellscript"
    }
   },
   "outputs": [
    {
     "name": "stdout",
     "output_type": "stream",
     "text": [
      "hello global\n",
      "hello global\n"
     ]
    }
   ],
   "source": [
    "python3 -c \"import os; print(os.environ[\\\"ENVIRONMENT_VARIABLE\\\"])\"\n",
    "bash -c \"echo \\$ENVIRONMENT_VARIABLE\""
   ]
  },
  {
   "cell_type": "markdown",
   "metadata": {},
   "source": [
    "## Define/undefine\n",
    "\n",
    "There are several ways to define a variable in the Linux shell, each with slightly different outcomes. To summarize, the options are:\n",
    "\n",
    "- Define a variable for the whole bash session using the `export` keyword.\n",
    "- Define a variable only for a particular command using the syntax `<variable name>=<variable value> <command>`.\n",
    "- Load variables from a file.\n",
    "\n",
    "To remove a created variable, use the `unset <variable name>` command. \n",
    "\n",
    "Find out more in the [specific page](environment_variables/define_undefine.ipynb)."
   ]
  },
  {
   "cell_type": "markdown",
   "metadata": {},
   "source": [
    "---\n",
    "\n",
    "Consider an example of creating a variable for the session and then deleting it."
   ]
  },
  {
   "cell_type": "markdown",
   "metadata": {},
   "source": [
    "If you try to show value of the `test_variable` you'll get just empty output."
   ]
  },
  {
   "cell_type": "code",
   "execution_count": 11,
   "metadata": {
    "vscode": {
     "languageId": "shellscript"
    }
   },
   "outputs": [
    {
     "name": "stdout",
     "output_type": "stream",
     "text": [
      "\n"
     ]
    }
   ],
   "source": [
    "echo $test_variable"
   ]
  },
  {
   "cell_type": "markdown",
   "metadata": {},
   "source": [
    "But you can define variable using `export` keyword."
   ]
  },
  {
   "cell_type": "code",
   "execution_count": 12,
   "metadata": {
    "vscode": {
     "languageId": "shellscript"
    }
   },
   "outputs": [],
   "source": [
    "export test_variable=\"hello wolrd\""
   ]
  },
  {
   "cell_type": "markdown",
   "metadata": {},
   "source": [
    "Now, after defining the variable with the `export` keyword, we can print its actual value."
   ]
  },
  {
   "cell_type": "code",
   "execution_count": 13,
   "metadata": {
    "vscode": {
     "languageId": "shellscript"
    }
   },
   "outputs": [
    {
     "name": "stdout",
     "output_type": "stream",
     "text": [
      "hello wolrd\n"
     ]
    }
   ],
   "source": [
    "echo $test_variable"
   ]
  },
  {
   "cell_type": "markdown",
   "metadata": {},
   "source": [
    "But after applying `unset` to the variable, `echo` again returns an empty output."
   ]
  },
  {
   "cell_type": "code",
   "execution_count": 14,
   "metadata": {
    "vscode": {
     "languageId": "shellscript"
    }
   },
   "outputs": [
    {
     "name": "stdout",
     "output_type": "stream",
     "text": [
      "\n"
     ]
    }
   ],
   "source": [
    "unset test_variable\n",
    "echo $test_variable"
   ]
  },
  {
   "cell_type": "markdown",
   "metadata": {},
   "source": [
    "## Replace env. var. (envsubst)\n",
    "\n",
    "The `envsubst` utility is used to replace placeholders within a \"template\" with corresponding values from environment variables. It allows you to substitute variables in specific locations with their actual values."
   ]
  },
  {
   "cell_type": "markdown",
   "metadata": {},
   "source": [
    "---\n",
    "\n",
    "In the following cell is created a template:"
   ]
  },
  {
   "cell_type": "code",
   "execution_count": null,
   "metadata": {
    "vscode": {
     "languageId": "shellscript"
    }
   },
   "outputs": [],
   "source": [
    "cat << EOF > envsubst_example\n",
    "User \\${username} succesfully login his age is \\${userage}.\n",
    "EOF"
   ]
  },
  {
   "cell_type": "markdown",
   "metadata": {},
   "source": [
    "If we print this template as it is - it will have `${username}` and `${userage}` just as text."
   ]
  },
  {
   "cell_type": "code",
   "execution_count": null,
   "metadata": {
    "vscode": {
     "languageId": "shellscript"
    }
   },
   "outputs": [
    {
     "name": "stdout",
     "output_type": "stream",
     "text": [
      "User ${username} succesfully login his age is ${userage}.\n"
     ]
    }
   ],
   "source": [
    "cat envsubst_example"
   ]
  },
  {
   "cell_type": "markdown",
   "metadata": {},
   "source": [
    "If we define the corresponding values `username` and `userage` and pass the file to the envsubst command, we will obtain a line with the substituted values."
   ]
  },
  {
   "cell_type": "code",
   "execution_count": null,
   "metadata": {
    "vscode": {
     "languageId": "shellscript"
    }
   },
   "outputs": [
    {
     "name": "stdout",
     "output_type": "stream",
     "text": [
      "User Fedor succesfully login his age is 23.\n"
     ]
    }
   ],
   "source": [
    "export username=Fedor\n",
    "export userage=23\n",
    "envsubst < envsubst_example\n",
    "rm envsubst_example"
   ]
  }
 ],
 "metadata": {
  "kernelspec": {
   "display_name": "Bash",
   "language": "bash",
   "name": "bash"
  },
  "language_info": {
   "codemirror_mode": "shell",
   "file_extension": ".sh",
   "mimetype": "text/x-sh",
   "name": "bash"
  }
 },
 "nbformat": 4,
 "nbformat_minor": 2
}
