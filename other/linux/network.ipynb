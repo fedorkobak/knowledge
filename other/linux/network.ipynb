{
 "cells": [
  {
   "cell_type": "markdown",
   "metadata": {},
   "source": [
    "# Network\n",
    "\n",
    "There are tons of utilities for working with networking in Linux. "
   ]
  },
  {
   "cell_type": "markdown",
   "metadata": {},
   "source": [
    "## Curl"
   ]
  },
  {
   "cell_type": "markdown",
   "metadata": {},
   "source": [
    "`curl` is a command-line tool for transferring data using various network protocols. In Linux, it’s commonly used to interact with web servers.\n",
    "\n",
    "Find out more in the [specific page](network/curl.ipynb)."
   ]
  },
  {
   "cell_type": "markdown",
   "metadata": {},
   "source": [
    "---\n",
    "\n",
    "Here is an example of a request to the remote server using curl."
   ]
  },
  {
   "cell_type": "code",
   "execution_count": null,
   "metadata": {
    "vscode": {
     "languageId": "shellscript"
    }
   },
   "outputs": [
    {
     "name": "stdout",
     "output_type": "stream",
     "text": [
      "{\n",
      "  \"args\": {}, \n",
      "  \"data\": \"\", \n",
      "  \"files\": {}, \n",
      "  \"form\": {}, \n",
      "  \"headers\": {\n",
      "    \"Accept\": \"*/*\", \n",
      "    \"Host\": \"httpbin.org\", \n",
      "    \"User-Agent\": \"curl/7.81.0\", \n",
      "    \"X-Amzn-Trace-Id\": \"Root=1-67501c2a-15500f651c7b43116850fec9\"\n",
      "  }, \n",
      "  \"json\": null, \n",
      "  \"method\": \"GET\", \n",
      "  \"origin\": \"212.98.168.102\", \n",
      "  \"url\": \"https://httpbin.org/anything\"\n",
      "}\n"
     ]
    }
   ],
   "source": [
    "curl https://httpbin.org/anything"
   ]
  },
  {
   "cell_type": "markdown",
   "metadata": {},
   "source": [
    "## Domain names (`nslookup`)\n",
    "\n",
    "With `snlookup` you can check the IP address that corresponds to the given domain name."
   ]
  },
  {
   "cell_type": "markdown",
   "metadata": {},
   "source": [
    "---\n",
    "\n",
    "For example, consider the `nslookup` application to the `localhost` domain name."
   ]
  },
  {
   "cell_type": "code",
   "execution_count": 4,
   "metadata": {
    "vscode": {
     "languageId": "shellscript"
    }
   },
   "outputs": [
    {
     "name": "stdout",
     "output_type": "stream",
     "text": [
      "Server:\t\t127.0.0.53\n",
      "Address:\t127.0.0.53#53\n",
      "\n",
      "Name:\tlocalhost\n",
      "Address: 127.0.0.1\n",
      "Name:\tlocalhost\n",
      "Address: ::1\n",
      "\n"
     ]
    }
   ],
   "source": [
    "nslookup localhost"
   ]
  },
  {
   "cell_type": "markdown",
   "metadata": {},
   "source": [
    "Almost the same output when using `nslookup` on the `google.com` domain."
   ]
  },
  {
   "cell_type": "code",
   "execution_count": 2,
   "metadata": {
    "vscode": {
     "languageId": "shellscript"
    }
   },
   "outputs": [
    {
     "name": "stdout",
     "output_type": "stream",
     "text": [
      "Server:\t\t127.0.0.53\n",
      "Address:\t127.0.0.53#53\n",
      "\n",
      "Non-authoritative answer:\n",
      "Name:\tgoogle.com\n",
      "Address: 142.250.186.46\n",
      "Name:\tgoogle.com\n",
      "Address: 2a00:1450:4001:82f::200e\n",
      "\n"
     ]
    }
   ],
   "source": [
    "nslookup google.com"
   ]
  },
  {
   "cell_type": "markdown",
   "metadata": {},
   "source": [
    "## SSH\n",
    "\n",
    "**Secure SHell (SSH)** is a protocol that allows remote control of a host. Linux provides a utility for this purpose called `ssh`.\n",
    "\n",
    "It is difficult to reproduce a production environment here, so refer to [this specific page](network/ssh.ipynb) for more details. However, here are some crucial points for establishing an SSH connection that are easy to forget:\n",
    "\n",
    "- You need to have a private SSH key on the client, typically located in the `~/.ssh` directory.\n",
    "- The public SSH key should be placed in the `~/.ssh/authorized_keys` file on the server, as an additional line.\n",
    "- Once configured, you can connect to the server using the command `ssh <user>@<ip>`."
   ]
  }
 ],
 "metadata": {
  "kernelspec": {
   "display_name": "Bash",
   "language": "bash",
   "name": "bash"
  },
  "language_info": {
   "codemirror_mode": "shell",
   "file_extension": ".sh",
   "mimetype": "text/x-sh",
   "name": "bash"
  }
 },
 "nbformat": 4,
 "nbformat_minor": 2
}
