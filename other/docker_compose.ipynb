{
 "cells": [
  {
   "cell_type": "markdown",
   "metadata": {},
   "source": [
    "# Docker compose\n",
    "\n",
    "Docker compose is a tool for defining and running multi-container Docker applications. With Docker Compose, you can use a YAML file to configure your application's services. Then, with a single command, you can create and start all the services from your configuration. This page overview core concepts of the docker compose.\n",
    "\n",
    "In the special config you can specify the behaviour of our application as a group of containers."
   ]
  },
  {
   "cell_type": "markdown",
   "metadata": {},
   "source": [
    "## Run compose\n",
    "\n",
    "To run docker compose, you need to specify a special config for dockercompose. The following cell defines compose config needed two services `linux1` and `linux2`."
   ]
  },
  {
   "cell_type": "code",
   "execution_count": 9,
   "metadata": {
    "vscode": {
     "languageId": "shellscript"
    }
   },
   "outputs": [],
   "source": [
    "cat << EOF > compose.yml\n",
    "services:\n",
    "    linux1:\n",
    "        image: alpine\n",
    "    linux2:\n",
    "        image: alpine\n",
    "EOF"
   ]
  },
  {
   "cell_type": "markdown",
   "metadata": {},
   "source": [
    "To run a defined container you need to run `compose up`, this command will automatically find `compose.yml` in the execution folder and run it."
   ]
  },
  {
   "cell_type": "code",
   "execution_count": 10,
   "metadata": {
    "vscode": {
     "languageId": "shellscript"
    }
   },
   "outputs": [
    {
     "name": "stdout",
     "output_type": "stream",
     "text": [
      "\u001b[1A\u001b[1B\u001b[0G\u001b[?25l[+] Running 0/0\n",
      " \u001b[33m⠋\u001b[0m Container other-linux2-1  Creating                                      \u001b[34m0.1s \u001b[0m\n",
      " \u001b[33m⠋\u001b[0m Container other-linux1-1  Creating                                      \u001b[34m0.1s \u001b[0m\n",
      "\u001b[?25h\u001b[1A\u001b[1A\u001b[1A\u001b[0G\u001b[?25l\u001b[34m[+] Running 2/2\u001b[0m\n",
      " \u001b[32m✔\u001b[0m Container other-linux2-1  \u001b[32mCreated\u001b[0m                                       \u001b[34m0.1s \u001b[0m\n",
      " \u001b[32m✔\u001b[0m Container other-linux1-1  \u001b[32mCreated\u001b[0m                                       \u001b[34m0.1s \u001b[0m\n",
      "\u001b[?25hAttaching to linux1-1, linux2-1\n",
      "\u001b[Klinux1-1 exited with code 0\n",
      "\u001b[Klinux2-1 exited with code 0\n",
      "\u001b[0m\n"
     ]
    }
   ],
   "source": [
    "docker compose up"
   ]
  },
  {
   "cell_type": "markdown",
   "metadata": {},
   "source": [
    "Containers we've specified to exit right after run - there's nothing specified to do for them. But in the `docker ps -a` we can still see them with `exited` status."
   ]
  },
  {
   "cell_type": "code",
   "execution_count": 11,
   "metadata": {
    "vscode": {
     "languageId": "shellscript"
    }
   },
   "outputs": [
    {
     "name": "stdout",
     "output_type": "stream",
     "text": [
      "CONTAINER ID   IMAGE     COMMAND     CREATED        STATUS                              PORTS     NAMES\n",
      "185393bccc59   alpine    \"/bin/sh\"   1 second ago   Exited (0) Less than a second ago             other-linux2-1\n",
      "8f96dd397391   alpine    \"/bin/sh\"   1 second ago   Exited (0) Less than a second ago             other-linux1-1\n"
     ]
    }
   ],
   "source": [
    "docker ps -a"
   ]
  },
  {
   "cell_type": "markdown",
   "metadata": {},
   "source": [
    "To remove everything you've created, use the `docker compose rm` command.\n",
    "\n",
    "**Note** By default, `docker compose rm` asks you to confirm the removal, by using the `-f` option we deny confirmation - you don't need to use this option in the work. \n",
    "\n",
    "You need to run it in the folder where compose config is located - it will automatically detect what was created by this compose and delete it."
   ]
  },
  {
   "cell_type": "code",
   "execution_count": 12,
   "metadata": {
    "vscode": {
     "languageId": "shellscript"
    }
   },
   "outputs": [
    {
     "name": "stdout",
     "output_type": "stream",
     "text": [
      "Going to remove other-linux2-1, other-linux1-1\n",
      "\u001b[1A\u001b[1B\u001b[0G\u001b[?25l[+] Removing 2/0\n",
      " \u001b[32m✔\u001b[0m Container other-linux1-1  \u001b[32mRemoved\u001b[0m                                       \u001b[34m0.0s \u001b[0m\n",
      " \u001b[32m✔\u001b[0m Container other-linux2-1  \u001b[32mRemoved\u001b[0m                                       \u001b[34m0.0s \u001b[0m\n",
      "\u001b[?25h\n"
     ]
    }
   ],
   "source": [
    "docker compose rm -f"
   ]
  },
  {
   "cell_type": "markdown",
   "metadata": {},
   "source": [
    "So, after all, containres should disappear."
   ]
  },
  {
   "cell_type": "code",
   "execution_count": 13,
   "metadata": {
    "vscode": {
     "languageId": "shellscript"
    }
   },
   "outputs": [
    {
     "name": "stdout",
     "output_type": "stream",
     "text": [
      "CONTAINER ID   IMAGE     COMMAND   CREATED   STATUS    PORTS     NAMES\n"
     ]
    }
   ],
   "source": [
    "docker ps -a\n",
    "rm compose.yml"
   ]
  }
 ],
 "metadata": {
  "kernelspec": {
   "display_name": "Bash",
   "language": "bash",
   "name": "bash"
  },
  "language_info": {
   "codemirror_mode": "shell",
   "file_extension": ".sh",
   "mimetype": "text/x-sh",
   "name": "bash"
  }
 },
 "nbformat": 4,
 "nbformat_minor": 2
}
