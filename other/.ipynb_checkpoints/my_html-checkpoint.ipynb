{
 "cells": [
  {
   "cell_type": "markdown",
   "id": "80685b23-0b65-4f84-a652-4de873a5c8a4",
   "metadata": {},
   "source": [
    "<h1 style=\"text-align:center\">HTML concepts</h1>"
   ]
  },
  {
   "cell_type": "code",
   "execution_count": 2,
   "id": "fa82b307-960c-47e0-b337-2658304934e9",
   "metadata": {},
   "outputs": [],
   "source": [
    "from IPython.display import HTML"
   ]
  },
  {
   "cell_type": "markdown",
   "id": "337a2b03-c47c-4489-aaa3-70d9558a9aca",
   "metadata": {},
   "source": [
    "<h1 style=\"text-align:center\"> Sources </h1>\n",
    "\n",
    "- <a href=\"https://stepik.org/course/120494/syllabus\">Stepic html css course (rus)</a>;"
   ]
  },
  {
   "cell_type": "markdown",
   "id": "70fd7b3b-2e70-4514-bf82-0ba2dbb6c47f",
   "metadata": {},
   "source": [
    "<h1 style=\"text-align:center\">Common attributes</h1>\n",
    "\n",
    "- `id` - object identificator;"
   ]
  },
  {
   "cell_type": "markdown",
   "id": "7266442f-d461-4b35-b132-ea33c737dcb3",
   "metadata": {},
   "source": [
    "## **`style` set a style of element**\n",
    "\n",
    "To set some proberty of the tag you have to use syntax \n",
    "\n",
    "`<property1 name>:<setted value>;<property2 name>:<setted value>;...;<propertyn name>:<setted value>`"
   ]
  },
  {
   "cell_type": "code",
   "execution_count": 8,
   "id": "441cf787-ae71-4dec-83a7-bbb43ec8ef1e",
   "metadata": {},
   "outputs": [
    {
     "data": {
      "text/html": [
       "\n",
       "    <p style=\"color:blue\">Blue text color</p>\n",
       "    <p style=\"background:red\">Red background color</p>\n",
       "    <p style=\"background:red;color:blue\">Red background color</p>\n",
       "    "
      ],
      "text/plain": [
       "<IPython.core.display.HTML object>"
      ]
     },
     "execution_count": 8,
     "metadata": {},
     "output_type": "execute_result"
    }
   ],
   "source": [
    "HTML(\n",
    "    '''\n",
    "    <p style=\"color:blue\">Blue text color</p>\n",
    "    <p style=\"background:red\">Red background color</p>\n",
    "    <p style=\"background:red;color:blue\">Red background color</p>\n",
    "    '''\n",
    ")"
   ]
  },
  {
   "cell_type": "markdown",
   "id": "7f9d8089-85da-4f54-a8a9-ff138c38e9ec",
   "metadata": {},
   "source": [
    "### *`color` - text color*"
   ]
  },
  {
   "cell_type": "code",
   "execution_count": 22,
   "id": "2655e38a-4240-4a5d-abfe-3f06e59c21af",
   "metadata": {},
   "outputs": [
    {
     "data": {
      "text/html": [
       "<text style=\"color:aqua\">aqua</text><br><text style=\"color:black\">black</text><br><text style=\"color:blue\">blue</text><br><text style=\"color:fuchsia\">fuchsia</text><br><text style=\"color:gray\">gray</text><br><text style=\"color:green\">green</text><br><text style=\"color:lime\">lime</text><br><text style=\"color:maroon\">maroon</text><br><text style=\"color:navy\">navy</text><br><text style=\"color:olive\">olive</text><br><text style=\"color:purple\">purple</text><br><text style=\"color:red\">red</text><br><text style=\"color:silver\">silver</text><br><text style=\"color:teal\">teal</text><br><text style=\"color:white\">white</text><br><text style=\"color:yellow\">yellow</text><br>"
      ],
      "text/plain": [
       "<IPython.core.display.HTML object>"
      ]
     },
     "execution_count": 22,
     "metadata": {},
     "output_type": "execute_result"
    }
   ],
   "source": [
    "colors = ['aqua', 'black', 'blue', 'fuchsia', 'gray', 'green', 'lime', 'maroon', 'navy', 'olive', 'purple', 'red', 'silver', 'teal', 'white', 'yellow']\n",
    "line_template = '<text style=\"color:{}\">{}</text><br>'\n",
    "html_line = \"\"\n",
    "\n",
    "for color in colors:\n",
    "    html_line += line_template.format(color, color)\n",
    "HTML(html_line)"
   ]
  },
  {
   "cell_type": "markdown",
   "id": "84fd3cdd-b1a2-4fe6-bee3-b1a7bfbe12b8",
   "metadata": {},
   "source": [
    "### *`background` - bachground color*"
   ]
  },
  {
   "cell_type": "code",
   "execution_count": 25,
   "id": "1c3618af-3ba3-4399-8d25-5c89d90c649c",
   "metadata": {},
   "outputs": [
    {
     "data": {
      "text/html": [
       "<text style=\"background:aqua\">aqua</text><br><text style=\"background:black\">black</text><br><text style=\"background:blue\">blue</text><br><text style=\"background:fuchsia\">fuchsia</text><br><text style=\"background:gray\">gray</text><br><text style=\"background:green\">green</text><br><text style=\"background:lime\">lime</text><br><text style=\"background:maroon\">maroon</text><br><text style=\"background:navy\">navy</text><br><text style=\"background:olive\">olive</text><br><text style=\"background:purple\">purple</text><br><text style=\"background:red\">red</text><br><text style=\"background:silver\">silver</text><br><text style=\"background:teal\">teal</text><br><text style=\"background:white\">white</text><br><text style=\"background:yellow\">yellow</text><br>"
      ],
      "text/plain": [
       "<IPython.core.display.HTML object>"
      ]
     },
     "execution_count": 25,
     "metadata": {},
     "output_type": "execute_result"
    }
   ],
   "source": [
    "colors = ['aqua', 'black', 'blue', 'fuchsia', 'gray', 'green', 'lime', 'maroon', 'navy', 'olive', 'purple', 'red', 'silver', 'teal', 'white', 'yellow']\n",
    "line_template = '<text style=\"background:{}\">{}</text><br>'\n",
    "html_line = \"\"\n",
    "\n",
    "for color in colors:\n",
    "    html_line += line_template.format(color, color)\n",
    "HTML(html_line)"
   ]
  },
  {
   "cell_type": "markdown",
   "id": "79fff08d-cd92-4fcb-a39f-e6131d99326c",
   "metadata": {},
   "source": [
    "### *`font-size` - font size*\n",
    "\n",
    "[measures](#sec-sizes_measures)"
   ]
  },
  {
   "cell_type": "code",
   "execution_count": 32,
   "id": "2eb1d4d4-e7ba-4aa4-acd4-349ad4ee5577",
   "metadata": {},
   "outputs": [
    {
     "data": {
      "text/html": [
       "\n",
       "    <p style=\"font-size:20px\">20px font size</p>\n",
       "    <p style=\"font-size:10px\">10px font size</p>\n",
       "    <p style=\"font-size:100%\">100% font size</p>\n",
       "    <p style=\"font-size:120%\">120% font size</p>\n",
       "    "
      ],
      "text/plain": [
       "<IPython.core.display.HTML object>"
      ]
     },
     "execution_count": 32,
     "metadata": {},
     "output_type": "execute_result"
    }
   ],
   "source": [
    "HTML(\n",
    "    '''\n",
    "    <p style=\"font-size:20px\">20px font size</p>\n",
    "    <p style=\"font-size:10px\">10px font size</p>\n",
    "    <p style=\"font-size:100%\">100% font size</p>\n",
    "    <p style=\"font-size:120%\">120% font size</p>\n",
    "    '''\n",
    ")"
   ]
  },
  {
   "cell_type": "markdown",
   "id": "2169b97b-479a-4721-a58c-0fc61ea91131",
   "metadata": {},
   "source": [
    "### *`text-align` - position of the text*"
   ]
  },
  {
   "cell_type": "code",
   "execution_count": 9,
   "id": "a8516f00-c5c7-4179-b56d-2c11001a73e0",
   "metadata": {},
   "outputs": [
    {
     "data": {
      "text/html": [
       "\n",
       "    <p style=\"text-align:center\">Centered text</p>\n",
       "    <p style=\"text-align:right\">Rigth side text</p>\n",
       "    <p style=\"text-align:left\">Left side text</p>\n",
       "    "
      ],
      "text/plain": [
       "<IPython.core.display.HTML object>"
      ]
     },
     "execution_count": 9,
     "metadata": {},
     "output_type": "execute_result"
    }
   ],
   "source": [
    "HTML(\n",
    "    '''\n",
    "    <p style=\"text-align:center\">Centered text</p>\n",
    "    <p style=\"text-align:right\">Rigth side text</p>\n",
    "    <p style=\"text-align:left\">Left side text</p>\n",
    "    '''\n",
    ")"
   ]
  },
  {
   "cell_type": "markdown",
   "id": "50743fcd-b02f-4645-b177-a87e82a811c1",
   "metadata": {},
   "source": [
    "### *`width` - width of the element*\n",
    "\n",
    "**Not to be confused with the `width` attribute**\n",
    "\n",
    "[measures](#sec-sizes_measures)"
   ]
  },
  {
   "cell_type": "code",
   "execution_count": 36,
   "id": "02c0f040-4653-4d27-b8f1-29925d2acd6b",
   "metadata": {},
   "outputs": [
    {
     "data": {
      "text/html": [
       "\n",
       "    <strong>Width 200px</strong>\n",
       "    <p style=\"width:200px\">\n",
       "    Lorem ipsum dolor sit amet, consectetur adipiscing elit. \n",
       "    Etiam semper diam at erat pulvinar, at pulvinar felis blandit. \n",
       "    Vestibulum volutpat tellus diam, consequat gravida libero rhoncus ut.\n",
       "    Maecenas imperdiet felis nisi, fringilla luctus felis hendrerit\n",
       "    sit amet. Pellentesque interdum, nisl nec interdum maximus, augue\n",
       "    diam porttitor lorem, et sollicitudin felis neque sit amet erat.\n",
       "    </p>\n",
       "\n",
       "    <strong>Width 50%</strong>\n",
       "    <p style=\"width:50%\">\n",
       "    Lorem ipsum dolor sit amet, consectetur adipiscing elit. \n",
       "    Etiam semper diam at erat pulvinar, at pulvinar felis blandit. \n",
       "    Vestibulum volutpat tellus diam, consequat gravida libero rhoncus ut.\n",
       "    Maecenas imperdiet felis nisi, fringilla luctus felis hendrerit\n",
       "    sit amet. Pellentesque interdum, nisl nec interdum maximus, augue\n",
       "    diam porttitor lorem, et sollicitudin felis neque sit amet erat.\n",
       "    </p>\n",
       "    "
      ],
      "text/plain": [
       "<IPython.core.display.HTML object>"
      ]
     },
     "execution_count": 36,
     "metadata": {},
     "output_type": "execute_result"
    }
   ],
   "source": [
    "HTML(\n",
    "    '''\n",
    "    <strong>Width 200px</strong>\n",
    "    <p style=\"width:200px\">\n",
    "    Lorem ipsum dolor sit amet, consectetur adipiscing elit. \n",
    "    Etiam semper diam at erat pulvinar, at pulvinar felis blandit. \n",
    "    Vestibulum volutpat tellus diam, consequat gravida libero rhoncus ut.\n",
    "    Maecenas imperdiet felis nisi, fringilla luctus felis hendrerit\n",
    "    sit amet. Pellentesque interdum, nisl nec interdum maximus, augue\n",
    "    diam porttitor lorem, et sollicitudin felis neque sit amet erat.\n",
    "    </p>\n",
    "\n",
    "    <strong>Width 50%</strong>\n",
    "    <p style=\"width:50%\">\n",
    "    Lorem ipsum dolor sit amet, consectetur adipiscing elit. \n",
    "    Etiam semper diam at erat pulvinar, at pulvinar felis blandit. \n",
    "    Vestibulum volutpat tellus diam, consequat gravida libero rhoncus ut.\n",
    "    Maecenas imperdiet felis nisi, fringilla luctus felis hendrerit\n",
    "    sit amet. Pellentesque interdum, nisl nec interdum maximus, augue\n",
    "    diam porttitor lorem, et sollicitudin felis neque sit amet erat.\n",
    "    </p>\n",
    "    '''\n",
    ")"
   ]
  },
  {
   "cell_type": "markdown",
   "id": "df41e905-1410-4bfe-ae9e-aad109c47a28",
   "metadata": {},
   "source": [
    "### *sizes measures*{#sec-containers_always_have_root}\n",
    "\n",
    "Sizes in style properties can be measured in:\n",
    "- In pixels, for example `20px`;\n",
    "- In percent relately to standart fontsize, for example `140%`;"
   ]
  },
  {
   "cell_type": "markdown",
   "id": "558b87a1-c836-45b6-84ab-69616d8cc608",
   "metadata": {},
   "source": [
    "## **`title` - hint text**\n",
    "\n",
    "If you hold the mouse for some time on the element created by the tag with the title attribute - close to the mouse, a small hint appears. So try it wit text which is the result for the next cell."
   ]
  },
  {
   "cell_type": "code",
   "execution_count": 6,
   "id": "e3b0a051-a479-4a29-9ded-925967e86124",
   "metadata": {},
   "outputs": [
    {
     "data": {
      "text/html": [
       "\n",
       "    <p title=\"hello im title\">Blue text color</p>\n",
       "    "
      ],
      "text/plain": [
       "<IPython.core.display.HTML object>"
      ]
     },
     "execution_count": 6,
     "metadata": {},
     "output_type": "execute_result"
    }
   ],
   "source": [
    "HTML(\n",
    "    '''\n",
    "    <p title=\"hello im title\">text with title</p>\n",
    "    '''\n",
    ")"
   ]
  },
  {
   "cell_type": "markdown",
   "id": "d4dcc10f-c94b-40c4-ba26-8d586fc33c88",
   "metadata": {},
   "source": [
    "<h1 style=\"text-align:center\"> Text format tags </h1>"
   ]
  },
  {
   "cell_type": "markdown",
   "id": "5a843d60-8e76-4739-81ac-baa74e0d38da",
   "metadata": {},
   "source": [
    "## **`<p>` - paragraph**\n",
    "\n",
    "Creates a new paragraph."
   ]
  },
  {
   "cell_type": "code",
   "execution_count": 9,
   "id": "06ea3505-da20-4e18-b5b6-2771629f67b6",
   "metadata": {},
   "outputs": [
    {
     "data": {
      "text/html": [
       "\n",
       "    <p>Paragraph 1</p><p>Paragraph 2</p><p>...</p><p>Paragraph n</p>\n",
       "    "
      ],
      "text/plain": [
       "<IPython.core.display.HTML object>"
      ]
     },
     "execution_count": 9,
     "metadata": {},
     "output_type": "execute_result"
    }
   ],
   "source": [
    "HTML(\n",
    "    '''\n",
    "    <p>Paragraph 1</p><p>Paragraph 2</p><p>...</p><p>Paragraph n</p>\n",
    "    '''\n",
    ")"
   ]
  },
  {
   "cell_type": "markdown",
   "id": "783753b5-f985-49f7-8511-e302cae1550e",
   "metadata": {},
   "source": [
    "## **`<hr>` - thematic break**\n",
    "\n",
    "It will be displayed as horizontal line by page width."
   ]
  },
  {
   "cell_type": "code",
   "execution_count": 4,
   "id": "d4026a2f-0071-46cd-80b5-d2149c41c374",
   "metadata": {},
   "outputs": [
    {
     "data": {
      "text/html": [
       "\n",
       "Text with sence 1\n",
       "<hr>\n",
       "Text with sence 2\n"
      ],
      "text/plain": [
       "<IPython.core.display.HTML object>"
      ]
     },
     "execution_count": 4,
     "metadata": {},
     "output_type": "execute_result"
    }
   ],
   "source": [
    "HTML('''\n",
    "Text with sence 1\n",
    "<hr>\n",
    "Text with sence 2\n",
    "''')"
   ]
  },
  {
   "cell_type": "markdown",
   "id": "030d72df-85da-40c8-8732-6f5b3e5274be",
   "metadata": {},
   "source": [
    "## **`<span>`**\n",
    "\n",
    "This tag exists to assign different styles to the text, without getting any unintended changes set by the style.\n",
    "\n",
    "In following example i use style with `<div>` tag and `<span>` tag:\n",
    "\n",
    "- `<div>` tag sets the text in a separate paragraph;\n",
    "- `<span>` tag just apply font style to text."
   ]
  },
  {
   "cell_type": "code",
   "execution_count": 3,
   "id": "68667ecf-22c2-4e9b-9c04-5447f355fdb6",
   "metadata": {},
   "outputs": [
    {
     "data": {
      "text/html": [
       "\n",
       "    <span style=\"color:red\">Text</span> surrounded by snap.\n",
       "    <div style=\"color:red\">Text</div> surrounded by div.    \n",
       "    "
      ],
      "text/plain": [
       "<IPython.core.display.HTML object>"
      ]
     },
     "execution_count": 3,
     "metadata": {},
     "output_type": "execute_result"
    }
   ],
   "source": [
    "HTML(\n",
    "    '''\n",
    "    <span style=\"color:red\">Text</span> surrounded by snap.\n",
    "    <div style=\"color:red\">Text</div> surrounded by div.    \n",
    "    '''\n",
    ")"
   ]
  },
  {
   "cell_type": "markdown",
   "id": "dac73acd-2ea0-49da-9515-8444e6a8e024",
   "metadata": {},
   "source": [
    "## **`<pre>` - preformatted text**\n",
    "\n",
    "The `<pre>` tag in HTML is used to define preformatted text, which preserves both spaces and line breaks. It is commonly used to display code snippets or other types of text that require a fixed-width font and exact formatting.\n",
    "\n",
    "So in the following example, аor the first two stanzas I do not use the `<pre>` tag for the remaining ones I use:"
   ]
  },
  {
   "cell_type": "code",
   "execution_count": 6,
   "id": "76215cf8-4547-4ee6-b1b4-888f5f35e52c",
   "metadata": {},
   "outputs": [
    {
     "data": {
      "text/html": [
       "\n",
       "    In the realm of dreams we wander,\n",
       "    Where reality is torn asunder.\n",
       "    Whispers of love and tales untold,\n",
       "    A symphony of emotions, bold.\n",
       "    \n",
       "    Stars dance upon a velvet sky,\n",
       "    As moonbeams paint a lullaby.\n",
       "    Nature's canvas, a masterpiece,\n",
       "    Where hearts find solace and peace.\n",
       "    <pre>\n",
       "    \n",
       "    Through winding paths we tread,\n",
       "    Seeking answers that lie ahead.\n",
       "    Life's tapestry, a vibrant hue,\n",
       "    Each moment, a story to pursue.\n",
       "    \n",
       "    So let us cherish this fleeting rhyme,\n",
       "    Embrace the beauty in every chime.\n",
       "    For in these words, a glimpse we find,\n",
       "    Of the magic that dwells in mankind.\n",
       "    </pre>\n",
       "    "
      ],
      "text/plain": [
       "<IPython.core.display.HTML object>"
      ]
     },
     "execution_count": 6,
     "metadata": {},
     "output_type": "execute_result"
    }
   ],
   "source": [
    "HTML(\n",
    "    '''\n",
    "    In the realm of dreams we wander,\n",
    "    Where reality is torn asunder.\n",
    "    Whispers of love and tales untold,\n",
    "    A symphony of emotions, bold.\n",
    "    \n",
    "    Stars dance upon a velvet sky,\n",
    "    As moonbeams paint a lullaby.\n",
    "    Nature's canvas, a masterpiece,\n",
    "    Where hearts find solace and peace.\n",
    "    <pre>\n",
    "    \n",
    "    Through winding paths we tread,\n",
    "    Seeking answers that lie ahead.\n",
    "    Life's tapestry, a vibrant hue,\n",
    "    Each moment, a story to pursue.\n",
    "    \n",
    "    So let us cherish this fleeting rhyme,\n",
    "    Embrace the beauty in every chime.\n",
    "    For in these words, a glimpse we find,\n",
    "    Of the magic that dwells in mankind.\n",
    "    </pre>\n",
    "    '''\n",
    ")"
   ]
  },
  {
   "cell_type": "markdown",
   "id": "b026fb79-2969-4ce6-93c1-1427e4d69c12",
   "metadata": {},
   "source": [
    "## **`<em>` - italic**"
   ]
  },
  {
   "cell_type": "code",
   "execution_count": 3,
   "id": "72fffd59-c76f-48e5-a9a0-4b6920523d28",
   "metadata": {},
   "outputs": [
    {
     "data": {
      "text/html": [
       "<em>Some emphasized text</em>"
      ],
      "text/plain": [
       "<IPython.core.display.HTML object>"
      ]
     },
     "execution_count": 3,
     "metadata": {},
     "output_type": "execute_result"
    }
   ],
   "source": [
    "HTML('<em>Some emphasized text</em>')"
   ]
  },
  {
   "cell_type": "markdown",
   "id": "8d258169-66ab-464f-9469-2dd775065aad",
   "metadata": {},
   "source": [
    "## **`<strong>` -  bold**"
   ]
  },
  {
   "cell_type": "code",
   "execution_count": 4,
   "id": "a948bb23-384f-4b67-b913-e350bd0c2cf9",
   "metadata": {},
   "outputs": [
    {
     "data": {
      "text/html": [
       "<strong>Some emphasized text</strong>"
      ],
      "text/plain": [
       "<IPython.core.display.HTML object>"
      ]
     },
     "execution_count": 4,
     "metadata": {},
     "output_type": "execute_result"
    }
   ],
   "source": [
    "HTML('<strong>Some emphasized text</strong>')"
   ]
  },
  {
   "cell_type": "markdown",
   "id": "0bb3e05f-629f-4c66-b8c0-0f3d39a96471",
   "metadata": {},
   "source": [
    "<h1 style=\"text-align:center\"> List tags </h1>"
   ]
  },
  {
   "cell_type": "markdown",
   "id": "5d829b85-2430-4cba-a663-dede3538d369",
   "metadata": {},
   "source": [
    "## **`<ul>`,`<li>` - unordered list**\n",
    "\n",
    "- `<ul>` describes an unordered list;\n",
    "- `<li>` describes a item of list."
   ]
  },
  {
   "cell_type": "code",
   "execution_count": 7,
   "id": "01edfa01-fb6c-455a-8ec3-f66d39b6ce8c",
   "metadata": {},
   "outputs": [
    {
     "data": {
      "text/html": [
       "\n",
       "    <ul>\n",
       "        <li>item 1</li>\n",
       "        <li>item 2</li>\n",
       "        <li>...</li>\n",
       "        <li>item n</li>\n",
       "    </ul>\n"
      ],
      "text/plain": [
       "<IPython.core.display.HTML object>"
      ]
     },
     "execution_count": 7,
     "metadata": {},
     "output_type": "execute_result"
    }
   ],
   "source": [
    "HTML('''\n",
    "    <ul>\n",
    "        <li>item 1</li>\n",
    "        <li>item 2</li>\n",
    "        <li>...</li>\n",
    "        <li>item n</li>\n",
    "    </ul>\n",
    "''')"
   ]
  },
  {
   "cell_type": "markdown",
   "id": "bbf375e9-ccce-45d9-b499-abcb98d18016",
   "metadata": {},
   "source": [
    "## **`<ol>`,`<li>` - ordered list**\n",
    "- `<ol>` describes an ordered list;\n",
    "- `<li>` describes a item of list."
   ]
  },
  {
   "cell_type": "code",
   "execution_count": 8,
   "id": "9c0c2472-7284-4680-b884-ddf7b213729d",
   "metadata": {},
   "outputs": [
    {
     "data": {
      "text/html": [
       "\n",
       "    <ol>\n",
       "        <li>item 1</li>\n",
       "        <li>item 2</li>\n",
       "        <li>...</li>\n",
       "        <li>item n</li>\n",
       "    </ol>\n"
      ],
      "text/plain": [
       "<IPython.core.display.HTML object>"
      ]
     },
     "execution_count": 8,
     "metadata": {},
     "output_type": "execute_result"
    }
   ],
   "source": [
    "HTML('''\n",
    "    <ol>\n",
    "        <li>item 1</li>\n",
    "        <li>item 2</li>\n",
    "        <li>...</li>\n",
    "        <li>item n</li>\n",
    "    </ol>\n",
    "''')"
   ]
  },
  {
   "cell_type": "markdown",
   "id": "7f1faf71-05a3-49ba-beb5-07243f6f2ad7",
   "metadata": {},
   "source": [
    "<h1 style=\"text-align:center\"> Content tags </h1>"
   ]
  },
  {
   "cell_type": "markdown",
   "id": "dc620a72-77dd-4c36-a577-15c5b54673a6",
   "metadata": {},
   "source": [
    "## `<img/>` add image to html"
   ]
  },
  {
   "cell_type": "markdown",
   "id": "8ac449a7-d8cf-4083-ac68-9a9f51de8dad",
   "metadata": {},
   "source": [
    "### *`src` - set picture*\n",
    "\n",
    "You can add url of the image or filepath on computer."
   ]
  },
  {
   "cell_type": "code",
   "execution_count": 14,
   "id": "3c401a1a-f3f1-4d7b-893f-fb8978c57c67",
   "metadata": {},
   "outputs": [
    {
     "data": {
      "text/html": [
       "\n",
       "<img src=\"https://content.codecademy.com/courses/web-101/web101-image_brownbear.jpg\"/>\n"
      ],
      "text/plain": [
       "<IPython.core.display.HTML object>"
      ]
     },
     "execution_count": 14,
     "metadata": {},
     "output_type": "execute_result"
    }
   ],
   "source": [
    "HTML('''\n",
    "<img src=\"https://content.codecademy.com/courses/web-101/web101-image_brownbear.jpg\"/>\n",
    "''')"
   ]
  },
  {
   "cell_type": "markdown",
   "id": "7a26aa52-c58e-4c5f-a6e3-41132d5248e2",
   "metadata": {},
   "source": [
    "### *`alt` - text hint*\n",
    "\n",
    "Describes the text that will be used if the picture cannot be uploaded. There no option to show how it works in jupyter notebook, but the html page with the following code:"
   ]
  },
  {
   "cell_type": "code",
   "execution_count": 15,
   "id": "25510b42-2a6d-46cd-82cc-c5070eb0a4c9",
   "metadata": {},
   "outputs": [
    {
     "name": "stdout",
     "output_type": "stream",
     "text": [
      "<img src=\"unreal image\" alt=\"description of some image\"/>"
     ]
    }
   ],
   "source": [
    "%%bash\n",
    "cat html_files/img_alt_ex.html"
   ]
  },
  {
   "cell_type": "markdown",
   "id": "dbae33ae-f507-41bb-8a9c-f743c236f31b",
   "metadata": {},
   "source": [
    "You can check <a href=\"html_files/img_alt_ex.html\">here</a>."
   ]
  },
  {
   "cell_type": "markdown",
   "id": "58132013-4ae3-4dd5-9ef8-90188e22b714",
   "metadata": {},
   "source": [
    "## **`<video>` - insert video**"
   ]
  },
  {
   "cell_type": "markdown",
   "id": "a331c34d-25b3-429f-8748-2a7534fa8ac2",
   "metadata": {},
   "source": [
    "### *`controls` handle video*\n",
    "\n",
    "Attributes allow you to set controls for handling the video playback process. In the following example I have inserted the first video with the `control` attribute and the second without."
   ]
  },
  {
   "cell_type": "code",
   "execution_count": 28,
   "id": "785215cd-ea61-4ece-8570-5e10ed359289",
   "metadata": {},
   "outputs": [
    {
     "data": {
      "text/html": [
       "\n",
       "<video src=\"html_files/some_video.webm\" widht=200 height=200 controls>\n",
       "</video>\n",
       "<video src=\"html_files/some_video.webm\" widht=200 height=200>\n",
       "</video>\n"
      ],
      "text/plain": [
       "<IPython.core.display.HTML object>"
      ]
     },
     "execution_count": 28,
     "metadata": {},
     "output_type": "execute_result"
    }
   ],
   "source": [
    "HTML('''\n",
    "<video src=\"html_files/some_video.webm\" widht=200 height=200 controls>\n",
    "</video>\n",
    "<video src=\"html_files/some_video.webm\" widht=200 height=200>\n",
    "</video>\n",
    "''')"
   ]
  },
  {
   "cell_type": "markdown",
   "id": "dd2a37e7-4a4d-4cca-990d-16ac17659a69",
   "metadata": {},
   "source": [
    "<h1 style=\"text-align:center\"> Other tags </h1>"
   ]
  },
  {
   "cell_type": "markdown",
   "id": "feb37740-29fe-478d-8f34-80eede683d5a",
   "metadata": {},
   "source": [
    "## **`<div>` - division**\n",
    "\n",
    "Helps to group html elements."
   ]
  }
 ],
 "metadata": {
  "kernelspec": {
   "display_name": "Python 3 (ipykernel)",
   "language": "python",
   "name": "python3"
  },
  "language_info": {
   "codemirror_mode": {
    "name": "ipython",
    "version": 3
   },
   "file_extension": ".py",
   "mimetype": "text/x-python",
   "name": "python",
   "nbconvert_exporter": "python",
   "pygments_lexer": "ipython3",
   "version": "3.10.6"
  }
 },
 "nbformat": 4,
 "nbformat_minor": 5
}
