{
 "cells": [
  {
   "cell_type": "markdown",
   "id": "80685b23-0b65-4f84-a652-4de873a5c8a4",
   "metadata": {},
   "source": [
    "# HTML concepts"
   ]
  },
  {
   "cell_type": "code",
   "execution_count": 2,
   "id": "fa82b307-960c-47e0-b337-2658304934e9",
   "metadata": {},
   "outputs": [],
   "source": [
    "from IPython.display import HTML"
   ]
  },
  {
   "cell_type": "markdown",
   "id": "70fd7b3b-2e70-4514-bf82-0ba2dbb6c47f",
   "metadata": {},
   "source": [
    "# Common attributes\n",
    "\n",
    "- `id` - object identificator;"
   ]
  },
  {
   "cell_type": "markdown",
   "id": "d4dcc10f-c94b-40c4-ba26-8d586fc33c88",
   "metadata": {},
   "source": [
    "# Tags"
   ]
  },
  {
   "cell_type": "markdown",
   "id": "5a843d60-8e76-4739-81ac-baa74e0d38da",
   "metadata": {},
   "source": [
    "## `<p>` - paragraph\n",
    "\n",
    "Creates a new paragraph."
   ]
  },
  {
   "cell_type": "code",
   "execution_count": 9,
   "id": "06ea3505-da20-4e18-b5b6-2771629f67b6",
   "metadata": {},
   "outputs": [
    {
     "data": {
      "text/html": [
       "\n",
       "    <p>Paragraph 1</p><p>Paragraph 2</p><p>...</p><p>Paragraph n</p>\n",
       "    "
      ],
      "text/plain": [
       "<IPython.core.display.HTML object>"
      ]
     },
     "execution_count": 9,
     "metadata": {},
     "output_type": "execute_result"
    }
   ],
   "source": [
    "HTML(\n",
    "    '''\n",
    "    <p>Paragraph 1</p><p>Paragraph 2</p><p>...</p><p>Paragraph n</p>\n",
    "    '''\n",
    ")"
   ]
  },
  {
   "cell_type": "markdown",
   "id": "030d72df-85da-40c8-8732-6f5b3e5274be",
   "metadata": {},
   "source": [
    "## `<snap>`\n",
    "\n",
    "This tag exists to assign different styles to the text, without getting any unintended changes set by the style.\n",
    "\n",
    "In following example i use style with `<div>` tag and `<span>` tag:\n",
    "\n",
    "- `<div>` tag sets the text in a separate paragraph;\n",
    "- `<span>` tag just apply font style to text."
   ]
  },
  {
   "cell_type": "code",
   "execution_count": 11,
   "id": "68667ecf-22c2-4e9b-9c04-5447f355fdb6",
   "metadata": {},
   "outputs": [
    {
     "data": {
      "text/html": [
       "\n",
       "    <style>\n",
       "        body { \n",
       "         font-family: Arial, sans-serif; /* Рубленый шрифт */ \n",
       "        }\n",
       "        .letter { \n",
       "         color: red;\n",
       "        }\n",
       "    </style> \n",
       "    <span class=\"letter\">Text</span> surrounded by snap.\n",
       "    <div class=\"letter\">Text</div> surrounded by div.    \n",
       "    "
      ],
      "text/plain": [
       "<IPython.core.display.HTML object>"
      ]
     },
     "execution_count": 11,
     "metadata": {},
     "output_type": "execute_result"
    }
   ],
   "source": [
    "HTML(\n",
    "    '''\n",
    "    <style>\n",
    "        body { \n",
    "         font-family: Arial, sans-serif; /* Рубленый шрифт */ \n",
    "        }\n",
    "        .letter { \n",
    "         color: red;\n",
    "        }\n",
    "    </style> \n",
    "    <span class=\"letter\">Text</span> surrounded by snap.\n",
    "    <div class=\"letter\">Text</div> surrounded by div.    \n",
    "    '''\n",
    ")"
   ]
  },
  {
   "cell_type": "markdown",
   "id": "8de935a7-1644-4008-b791-162ee07b4e16",
   "metadata": {},
   "source": [
    "## `<div>` - division\n",
    "\n",
    "Helps to group html elements."
   ]
  }
 ],
 "metadata": {
  "kernelspec": {
   "display_name": "Python 3 (ipykernel)",
   "language": "python",
   "name": "python3"
  },
  "language_info": {
   "codemirror_mode": {
    "name": "ipython",
    "version": 3
   },
   "file_extension": ".py",
   "mimetype": "text/x-python",
   "name": "python",
   "nbconvert_exporter": "python",
   "pygments_lexer": "ipython3",
   "version": "3.10.6"
  }
 },
 "nbformat": 4,
 "nbformat_minor": 5
}
