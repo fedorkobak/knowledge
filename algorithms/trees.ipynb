{
 "cells": [
  {
   "cell_type": "markdown",
   "id": "d9e51a26-c584-4a1e-b4d2-98f7905b13e9",
   "metadata": {},
   "source": [
    "# Trees"
   ]
  },
  {
   "cell_type": "markdown",
   "id": "09dcaecd-efa2-47d6-a21e-b96b0169c6d1",
   "metadata": {},
   "source": [
    "Trees are a data structure in which each element can have a descendant that represents an element of the same form."
   ]
  },
  {
   "cell_type": "markdown",
   "id": "342f9a1e-0a7f-4c30-9aef-e976bd9be4b6",
   "metadata": {},
   "source": [
    "In python tree can be defined as following class:"
   ]
  },
  {
   "cell_type": "code",
   "execution_count": 1,
   "id": "24c9e453-c383-4c55-98f0-06f38a0c8b73",
   "metadata": {},
   "outputs": [],
   "source": [
    "class Node:\n",
    "    def __init__(self, val=0, left=None, right=None):\n",
    "        self.val = val\n",
    "        self.left = left\n",
    "        self.right = right"
   ]
  },
  {
   "cell_type": "markdown",
   "id": "dfd34284-d803-4f6e-9603-d31a2c0739bc",
   "metadata": {},
   "source": [
    "Particular realisatoin of the tree example in the cell below:"
   ]
  },
  {
   "cell_type": "code",
   "execution_count": 3,
   "id": "b32d26a1-28fa-4ffd-97ea-5a417ef0fe69",
   "metadata": {},
   "outputs": [],
   "source": [
    "#    [1]\n",
    "#  [2] [3]\n",
    "head = Node(\n",
    "    1,\n",
    "    Node(2),\n",
    "    Node(3)\n",
    ")"
   ]
  },
  {
   "cell_type": "markdown",
   "id": "44749d83-89ea-4c8c-80d6-68c55d65a557",
   "metadata": {},
   "source": [
    "## Inorder\n",
    "\n",
    "Traversal of the tree in order showed in the fllowing cell. \"In order\" means that the leftmost elements of the tree will always be processed first. So here is example that adds elements to a sequential array."
   ]
  },
  {
   "cell_type": "code",
   "execution_count": 27,
   "id": "7d4e9c8b-c1df-413f-b047-f238dbde4a3c",
   "metadata": {},
   "outputs": [],
   "source": [
    "def inorder(root : Node, res):\n",
    "    if root is not None:\n",
    "        tree_to_list(root.left, res)\n",
    "        res.append(root.val)\n",
    "        tree_to_list(root.right,res)\n",
    "    return res"
   ]
  },
  {
   "cell_type": "markdown",
   "id": "3ae94eab-7fb0-436a-b0cc-d036192e911d",
   "metadata": {},
   "source": [
    "Here is an example of how our function can be used."
   ]
  },
  {
   "cell_type": "code",
   "execution_count": 28,
   "id": "6d312af1-6a8d-4a3c-b831-55181467db09",
   "metadata": {},
   "outputs": [
    {
     "data": {
      "text/plain": [
       "[7, 5, 8, 1, 9, 6, 10]"
      ]
     },
     "execution_count": 28,
     "metadata": {},
     "output_type": "execute_result"
    }
   ],
   "source": [
    "#       [1]\n",
    "#   [5]   [6]\n",
    "# [7][8] [9][10]\n",
    "head = Node(1, \n",
    "    Node(5, Node(7), Node(8)), \n",
    "    Node(6, Node(9), Node(10))\n",
    ")\n",
    "tree_to_list(head, [])"
   ]
  }
 ],
 "metadata": {
  "kernelspec": {
   "display_name": "Python 3 (ipykernel)",
   "language": "python",
   "name": "python3"
  },
  "language_info": {
   "codemirror_mode": {
    "name": "ipython",
    "version": 3
   },
   "file_extension": ".py",
   "mimetype": "text/x-python",
   "name": "python",
   "nbconvert_exporter": "python",
   "pygments_lexer": "ipython3",
   "version": "3.10.12"
  }
 },
 "nbformat": 4,
 "nbformat_minor": 5
}
