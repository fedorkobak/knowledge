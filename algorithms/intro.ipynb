{
 "cells": [
  {
   "cell_type": "markdown",
   "id": "51aa482d",
   "metadata": {},
   "source": [
    "# Intro\n",
    "\n",
    "This page introduces to the algorithms and data structures section."
   ]
  },
  {
   "cell_type": "markdown",
   "id": "097ad6d4",
   "metadata": {
    "vscode": {
     "languageId": "plaintext"
    }
   },
   "source": [
    "## Prefix sum\n",
    "\n",
    "Prefix sum for sequence $x_1, x_2, \\ldots, x_n$ is a sequence $y_1, y_2, \\ldots, y_{n+1}$.\n",
    "\n",
    "Where: $y_i = \\sum^{i-1}_{j=1} x_j, i = \\overline{1, n+1}$\n",
    "\n",
    "From this the statement $y_i = y_{i-1} + x_{i-1}$ will be correct.\n",
    "\n",
    "The following cell shows the prefix sum idea in table format.\n",
    "\n",
    "| $i$      | $1$      | $2$                         | $3$                                     | $4$                                       | $\\ldots$                                   | $n$                                        | $n+1$                                     |\n",
    "|----------|----------|-----------------------------|------------------------------------------|--------------------------------------------|---------------------------------------------|---------------------------------------------|---------------------------------------------|\n",
    "| $x_i$    | $x_1$    | $x_2$                       | $x_3$                                    | $x_4$                                      | $\\ldots$                                    | $x_n$                                      |                                             |\n",
    "| $y_i$    | $0$      | $x_1$                       | $x_1 + x_2 = y_2 + x_2$                  | $x_1 + x_2 + x_3 = y_3 + x_3$              | $\\ldots$                                    | $\\sum^{n-1}_{j=1} x_j = y_{n-1} + x_{n-1}$ | $\\sum^{n}_{j=1} x_j = y_n + x_n$          |\n",
    "\n",
    "\n",
    "The prefix sum can be computed from the original sequence in $O(n)$ time."
   ]
  },
  {
   "cell_type": "markdown",
   "id": "c4bd89d7",
   "metadata": {},
   "source": [
    "---\n",
    "\n",
    "The following cell illustrates the implementation of the counting prefix sum."
   ]
  },
  {
   "cell_type": "code",
   "execution_count": 6,
   "id": "32ad7ee7",
   "metadata": {},
   "outputs": [
    {
     "data": {
      "text/plain": [
       "[0, 1, 3, 6, 10]"
      ]
     },
     "execution_count": 6,
     "metadata": {},
     "output_type": "execute_result"
    }
   ],
   "source": [
    "def count_prefix_sum(seq: list[float | int]):\n",
    "    ans = [0]\n",
    "    for x in seq:\n",
    "        ans.append(ans[-1] + x)\n",
    "    return ans\n",
    "\n",
    "count_prefix_sum([1, 2, 3, 4])"
   ]
  },
  {
   "cell_type": "markdown",
   "id": "989c8f01",
   "metadata": {},
   "source": [
    "### Sum of subset\n",
    "\n",
    "Calculate the sum of the elements of the sequence from the $a$-th to the $b$-th position using formula:\n",
    "\n",
    "$$\\sum_{i=a}^b x_i = y_{b + 1} - y_a$$\n",
    "\n",
    "If you have the prefix sum precomputed, you can compute the sum of a subset with complexity of $O(1)$.\n",
    "\n",
    "To **prove** this just describe the difference $y_{b+1} - y_a$:\n",
    "\n",
    "$$y_{b+1} - y_a = \\sum_{i=1}^{b} x_i - \\sum_{i=1}^{a-1} x_i = \\sum_{i=a}^b x_i$$\n"
   ]
  },
  {
   "cell_type": "markdown",
   "id": "f9285420",
   "metadata": {},
   "source": [
    "### Transformation\n",
    "\n",
    "The prefix sum is a really useful data structure. To fulfill its potential, you must apply a transformation to the original set - $f(x)$.\n",
    "\n",
    "For example, if the task requires counting the number of elements $x_i > k$ for $i=\\overline{a,b}$, then cae apply the following transformation:\n",
    "\n",
    "$$\n",
    "f(x_i) = \\begin{cases}\n",
    "    1, x_i > k; \\\\\n",
    "    0, x_i \\leq k.\n",
    "\\end{cases}\n",
    "$$\n",
    "\n",
    "Count and use the prefix sum for the transformed sequence."
   ]
  },
  {
   "cell_type": "markdown",
   "id": "e22b73bb",
   "metadata": {},
   "source": [
    "## Two pointers\n",
    "\n",
    "In the two-pointers technique uses two indexes (pointers) that access the elements of an array during the same iteration."
   ]
  },
  {
   "cell_type": "markdown",
   "id": "12e13a27",
   "metadata": {},
   "source": [
    "**Example of task**:\n",
    "\n",
    "There is a sorted array of numbers. You need to count all pairs of the elements, $(a,b)$, for which the statemene $a - b > D$ is true."
   ]
  },
  {
   "cell_type": "markdown",
   "id": "1c7e9cf7",
   "metadata": {},
   "source": [
    "---\n",
    "\n",
    "The following cell shows the approach to solve this using the two pointers technique."
   ]
  },
  {
   "cell_type": "code",
   "execution_count": 10,
   "id": "9f11d8b5",
   "metadata": {},
   "outputs": [],
   "source": [
    "def find_pair(lst: list[int], D: int):\n",
    "    l, r = 0, 1\n",
    "    count = 0\n",
    "    lst_len = len(lst)\n",
    "    while True:\n",
    "        if r >= lst_len:\n",
    "            break\n",
    "        if (lst[r] - lst[l] > D) and (l < r):\n",
    "            count += (lst_len - r)\n",
    "            l += 1\n",
    "        else:\n",
    "            r += 1\n",
    "    return count"
   ]
  },
  {
   "cell_type": "markdown",
   "id": "a9968bd3",
   "metadata": {},
   "source": [
    "The idea is to compare items under indices $l$ and $r$. \n",
    "\n",
    "If $x_r - x_l > D$, then count all pairs $(l,r), (l, r+1), \\ldots (l, N)$, as garanteeed that $x_{r+t} - x_l > D$ due to $x_{r+t} > x_{r}$. then move $l$ pointer.\n",
    "\n",
    "Otherwise just move $r$. \n",
    "\n",
    "It ensures $O(2N)$ compexity of the algorithm."
   ]
  },
  {
   "cell_type": "markdown",
   "id": "aa8e5dc8",
   "metadata": {},
   "source": [
    "The following cell shows the result of the applying the algorithm."
   ]
  },
  {
   "cell_type": "code",
   "execution_count": null,
   "id": "5985dc03",
   "metadata": {},
   "outputs": [
    {
     "data": {
      "text/plain": [
       "3"
      ]
     },
     "execution_count": 12,
     "metadata": {},
     "output_type": "execute_result"
    }
   ],
   "source": [
    "lst = [1, 2, 3, 4, 5, 6]\n",
    "find_pair(lst, 2)"
   ]
  },
  {
   "cell_type": "markdown",
   "id": "aa786398",
   "metadata": {},
   "source": [
    "## Binary search\n",
    "\n",
    "Binary search is an algorithm used to find a specific element within an ordered sequence. At each step, it divides the sequence into two equal sub-sequences and continuest searching in only one of them."
   ]
  },
  {
   "cell_type": "markdown",
   "id": "e1779bd5",
   "metadata": {},
   "source": [
    "Suppose you are processing the sequence: $x_1, x_2, \\ldots, x_{k-1}, x_k, x_{k+1}, \\ldots, x_{n-1}, x_n$. The element you are trying to find is $x_k$.\n",
    "\n",
    "In this context, the fact that the sequence is ordered means that one can define a function $f$ such that it takes the value 0 for all elements before $x_k$ and 1 for all elements from $x_k$ onward. More formally,\n",
    "\n",
    "$$\n",
    "f(x_i) = \n",
    "\\begin{cases}\n",
    "0, & i \\in \\{1, \\ldots, k-1\\} \\\\[6pt]\n",
    "1, & i \\in \\{k, \\ldots, n\\}.\n",
    "\\end{cases}\n",
    "$$"
   ]
  },
  {
   "cell_type": "markdown",
   "id": "6d8aab60",
   "metadata": {},
   "source": [
    "Define variables that indicate the beginning and the end of the interval beingconsidered: $l_0 = 0, r_0 = n$.\n",
    "\n",
    "At each step, the middle point of the interval is counted: $p_j = \\left\\lfloor \\frac{l_j + r_j}{2} \\right\\rfloor$. Depending on the value of $f(x_{p_j})$, we decide whether to move $l$ or $r$:"
   ]
  },
  {
   "cell_type": "markdown",
   "id": "53578c0c",
   "metadata": {},
   "source": [
    "$$r_j =\n",
    "\\begin{cases}\n",
    "p_{j - 1}, f(x_{p_j}) = 1 \\\\\n",
    "r_{j - 1}, f(x_{p_j}) = 0.\n",
    "\\end{cases}\n",
    "$$\n",
    "\n",
    "$$\n",
    "l_j =\n",
    "\\begin{cases}\n",
    "p_{j - 1}, f(x_{p_j}) = 0 \\\\\n",
    "l_{j - 1}, f(x_{p_j}) = 1.\n",
    "\\end{cases}\n",
    "$$"
   ]
  },
  {
   "cell_type": "markdown",
   "id": "c4c114a4",
   "metadata": {},
   "source": [
    "Procedure continues until $l_j + 1 < r_j$. The fact $l_j + 1 = r_j$ garantees that $x_{r_j} = x_k$"
   ]
  },
  {
   "cell_type": "markdown",
   "id": "c0fe982e",
   "metadata": {},
   "source": [
    "**Note:** A very common mistake in binary search is to forget to add $1$ in the stopping condition $l_j + 1 < r_j$. Omitting it can lead to an infinite loop. At some point, you may reach the situation where $l_j = k - 1$ and $r_j = k$. Then:\n",
    "\n",
    "$$\n",
    "p_j = \\left\\lfloor \\frac{l_j + r_j}{2} \\right\\rfloor \n",
    "= \\left\\lfloor \\frac{(k - 1) + k}{2} \\right\\rfloor \n",
    "= \\left\\lfloor k - 1 + 0.5 \\right\\rfloor \n",
    "= k - 1.\n",
    "$$\n",
    "\n",
    "So,\n",
    "\n",
    "$$\n",
    "f(x_{k - 1}) = 0 \\quad \\Longrightarrow \\quad r_{j + 1} = r_j, \n",
    "\\quad l_{j + 1} = p_j = k - 1 = l_j.\n",
    "$$\n",
    "\n",
    "As a result, $r_j = r_{j - 1}$ and $l_j = l_{j - 1}$ — the search interval does not shrink, and the loop runs forever."
   ]
  }
 ],
 "metadata": {
  "kernelspec": {
   "display_name": "knowledge",
   "language": "python",
   "name": "python3"
  },
  "language_info": {
   "codemirror_mode": {
    "name": "ipython",
    "version": 3
   },
   "file_extension": ".py",
   "mimetype": "text/x-python",
   "name": "python",
   "nbconvert_exporter": "python",
   "pygments_lexer": "ipython3",
   "version": "3.12.8"
  }
 },
 "nbformat": 4,
 "nbformat_minor": 5
}
