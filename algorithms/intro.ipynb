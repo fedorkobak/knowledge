{
 "cells": [
  {
   "cell_type": "markdown",
   "id": "51aa482d",
   "metadata": {},
   "source": [
    "# Intro\n",
    "\n",
    "This page introduces to the algorithms and data structures section."
   ]
  },
  {
   "cell_type": "markdown",
   "id": "097ad6d4",
   "metadata": {
    "vscode": {
     "languageId": "plaintext"
    }
   },
   "source": [
    "## Prefix sum\n",
    "\n",
    "Prefix sum for sequence $x_1, x_2, \\ldots, x_n$ is a sequence $y_1, y_2, \\ldots, y_{n+1}$.\n",
    "\n",
    "Where: $y_i = \\sum^{i-1}_{j=1} x_j, i = \\overline{1, n+1}$\n",
    "\n",
    "From this the statement $y_i = y_{i-1} + x_{i-1}$ will be correct.\n",
    "\n",
    "The following cell shows the prefix sum idea in table format.\n",
    "\n",
    "| $i$      | $1$      | $2$                         | $3$                                     | $4$                                       | $\\ldots$                                   | $n$                                        | $n+1$                                     |\n",
    "|----------|----------|-----------------------------|------------------------------------------|--------------------------------------------|---------------------------------------------|---------------------------------------------|---------------------------------------------|\n",
    "| $x_i$    | $x_1$    | $x_2$                       | $x_3$                                    | $x_4$                                      | $\\ldots$                                    | $x_n$                                      |                                             |\n",
    "| $y_i$    | $0$      | $x_1$                       | $x_1 + x_2 = y_2 + x_2$                  | $x_1 + x_2 + x_3 = y_3 + x_3$              | $\\ldots$                                    | $\\sum^{n-1}_{j=1} x_j = y_{n-1} + x_{n-1}$ | $\\sum^{n}_{j=1} x_j = y_n + x_n$          |\n",
    "\n",
    "\n",
    "The prefix sum can be computed from the original sequence in $O(n)$ time."
   ]
  },
  {
   "cell_type": "markdown",
   "id": "c4bd89d7",
   "metadata": {},
   "source": [
    "---\n",
    "\n",
    "The following cell illustrates the implementation of the counting prefix sum."
   ]
  },
  {
   "cell_type": "code",
   "execution_count": null,
   "id": "32ad7ee7",
   "metadata": {},
   "outputs": [
    {
     "data": {
      "text/plain": [
       "[0, 1, 3, 6, 10]"
      ]
     },
     "execution_count": 6,
     "metadata": {},
     "output_type": "execute_result"
    }
   ],
   "source": [
    "def count_prefix_sum(seq: list[float | int]):\n",
    "    ans: list[float | int] = [0]\n",
    "    for x in seq:\n",
    "        ans.append(ans[-1] + x)\n",
    "    return ans\n",
    "\n",
    "count_prefix_sum([1, 2, 3, 4])"
   ]
  },
  {
   "cell_type": "markdown",
   "id": "989c8f01",
   "metadata": {},
   "source": [
    "### Sum of subset\n",
    "\n",
    "Calculate the sum of the elements of the sequence from the $a$-th to the $b$-th position using formula:\n",
    "\n",
    "$$\\sum_{i=a}^b x_i = y_{b + 1} - y_a$$\n",
    "\n",
    "If you have the prefix sum precomputed, you can compute the sum of a subset with complexity of $O(1)$.\n",
    "\n",
    "To **prove** this just describe the difference $y_{b+1} - y_a$:\n",
    "\n",
    "$$y_{b+1} - y_a = \\sum_{i=1}^{b} x_i - \\sum_{i=1}^{a-1} x_i = \\sum_{i=a}^b x_i$$\n"
   ]
  },
  {
   "cell_type": "markdown",
   "id": "f9285420",
   "metadata": {},
   "source": [
    "### Transformation\n",
    "\n",
    "The prefix sum is a really useful data structure. To fulfill its potential, you must apply a transformation to the original set - $f(x)$.\n",
    "\n",
    "For example, if the task requires counting the number of elements $x_i > k$ for $i=\\overline{a,b}$, then cae apply the following transformation:\n",
    "\n",
    "$$\n",
    "f(x_i) = \\begin{cases}\n",
    "    1, x_i > k; \\\\\n",
    "    0, x_i \\leq k.\n",
    "\\end{cases}\n",
    "$$\n",
    "\n",
    "Count and use the prefix sum for the transformed sequence."
   ]
  },
  {
   "cell_type": "markdown",
   "id": "e22b73bb",
   "metadata": {},
   "source": [
    "## Two pointers\n",
    "\n",
    "In the two-pointers technique uses two indexes (pointers) that access the elements of an array during the same iteration."
   ]
  },
  {
   "cell_type": "markdown",
   "id": "12e13a27",
   "metadata": {},
   "source": [
    "**Example of task**:\n",
    "\n",
    "There is a sorted array of numbers. You need to count all pairs of the elements, $(a,b)$, for which the statemene $a - b > D$ is true."
   ]
  },
  {
   "cell_type": "markdown",
   "id": "1c7e9cf7",
   "metadata": {},
   "source": [
    "---\n",
    "\n",
    "The following cell shows the approach to solve this using the two pointers technique."
   ]
  },
  {
   "cell_type": "code",
   "execution_count": 10,
   "id": "9f11d8b5",
   "metadata": {},
   "outputs": [],
   "source": [
    "def find_pair(lst: list[int], D: int):\n",
    "    l, r = 0, 1\n",
    "    count = 0\n",
    "    lst_len = len(lst)\n",
    "    while True:\n",
    "        if r >= lst_len:\n",
    "            break\n",
    "        if (lst[r] - lst[l] > D) and (l < r):\n",
    "            count += (lst_len - r)\n",
    "            l += 1\n",
    "        else:\n",
    "            r += 1\n",
    "    return count"
   ]
  },
  {
   "cell_type": "markdown",
   "id": "a9968bd3",
   "metadata": {},
   "source": [
    "The idea is to compare items under indices $l$ and $r$. \n",
    "\n",
    "If $x_r - x_l > D$, then count all pairs $(l,r), (l, r+1), \\ldots (l, N)$, as garanteeed that $x_{r+t} - x_l > D$ due to $x_{r+t} > x_{r}$. then move $l$ pointer.\n",
    "\n",
    "Otherwise just move $r$. \n",
    "\n",
    "It ensures $O(2N)$ compexity of the algorithm."
   ]
  },
  {
   "cell_type": "markdown",
   "id": "aa8e5dc8",
   "metadata": {},
   "source": [
    "The following cell shows the result of the applying the algorithm."
   ]
  },
  {
   "cell_type": "code",
   "execution_count": null,
   "id": "5985dc03",
   "metadata": {},
   "outputs": [
    {
     "data": {
      "text/plain": [
       "3"
      ]
     },
     "execution_count": 12,
     "metadata": {},
     "output_type": "execute_result"
    }
   ],
   "source": [
    "lst = [1, 2, 3, 4, 5, 6]\n",
    "find_pair(lst, 2)"
   ]
  },
  {
   "cell_type": "markdown",
   "id": "aa786398",
   "metadata": {},
   "source": [
    "## Binary search\n",
    "\n",
    "Binary search is a fast way to find an item in a **sorted** list.\n",
    "\n",
    "Here’s how it works:\n",
    "\n",
    "1. Look at the middle element.\n",
    "2. If it’s what you want, you’re done.\n",
    "3. If it’s smaller than what you want, search the right half.\n",
    "4. If it’s bigger, search the left half.\n",
    "5. Repeat until you find the item or the list is empty.\n",
    "\n",
    "Binary search is quick because it halves the list each step. It works only if the list is **already sorted**.\n",
    "\n",
    "For a more detailed and strict description, check the [binary search](binary_search.ipynb) page."
   ]
  },
  {
   "cell_type": "markdown",
   "id": "917b813d",
   "metadata": {},
   "source": [
    "---\n",
    "\n",
    "The following code shows an implementation of binary search to find the index of a given element. At each step, it updates either the **left** (`l`) or **right** (`r`) boundary based on the value at `(l + r) // 2`. Each step brings the search closer to the result."
   ]
  },
  {
   "cell_type": "code",
   "execution_count": 5,
   "id": "d4f48a2e",
   "metadata": {},
   "outputs": [],
   "source": [
    "def find_index(lst: list[int], num: int):\n",
    "    l, r = -1, len(lst)\n",
    "    while l + 1 < r:\n",
    "        p = (l + r) // 2\n",
    "        if lst[p] == num:\n",
    "            return p\n",
    "        elif lst[p] < num:\n",
    "            l = p\n",
    "        else:\n",
    "            r = p\n",
    "    return None"
   ]
  },
  {
   "cell_type": "markdown",
   "id": "230574fe",
   "metadata": {},
   "source": [
    "The following cell shows that it works."
   ]
  },
  {
   "cell_type": "code",
   "execution_count": 7,
   "id": "3c149351",
   "metadata": {},
   "outputs": [
    {
     "data": {
      "text/plain": [
       "0"
      ]
     },
     "execution_count": 7,
     "metadata": {},
     "output_type": "execute_result"
    }
   ],
   "source": [
    "find_index([1, 3, 7, 12, 88, 104], 1)"
   ]
  },
  {
   "cell_type": "markdown",
   "id": "b2aa9e27",
   "metadata": {},
   "source": [
    "## Event sort\n",
    "\n",
    "The event sort approach is used for tasks involving events that occur at different times (or any other orderable entity). It typically assumes a system with multiple states, where events are used to transition between these states."
   ]
  },
  {
   "cell_type": "markdown",
   "id": "f27ce302",
   "metadata": {},
   "source": [
    "The following picture is a typical illustration of kind of tasks that are usually solved with an even sort:"
   ]
  },
  {
   "cell_type": "markdown",
   "id": "29dbfa6a",
   "metadata": {},
   "source": [
    "<svg width=700 height=200 stroke=\"black\" stroke-width=\"3\" style=\"font-family: 'LatinModern'\" font-style=\"italic\" font-size=30>\n",
    "  <line x1=0 y1=150 x2=600 y2=150 />\n",
    "  <line x1=600 y1=150 x2=570 y2=160 />\n",
    "  <line x1=600 y1=150 x2=570 y2=140 />\n",
    "  <g stroke-width=\"2\">\n",
    "    <line x1=30 y1=130 x2=130 y2=130 />\n",
    "    <line x1=160 y1=130 x2=300 y2=130 />\n",
    "    <line x1=190 y1=110 x2=480 y2=110 />\n",
    "    <line x1=320 y1=130 x2=440 y2=130 />\n",
    "    <line x1=350 y1=110 x2=530 y2=110 />\n",
    "    <g stroke-dasharray=\"4\">\n",
    "    <line x1=30 y1=130 x2=30 y2=150 />\n",
    "      <line x1=130 y1=130 x2=130 y2=150 />\n",
    "      <line x1=160 y1=130 x2=160 y2=150 />\n",
    "      <line x1=300 y1=130 x2=300 y2=150 />\n",
    "      <line x1=190 y1=110 x2=190 y2=150 />\n",
    "      <line x1=480 y1=110 x2=480 y2=150 />\n",
    "      <line x1=320 y1=130 x2=320 y2=150 />\n",
    "      <line x1=440 y1=130 x2=440 y2=150 />\n",
    "      <line x1=350 y1=110 x2=350 y2=150 />\n",
    "      <line x1=530 y1=110 x2=530 y2=150 />\n",
    "    </g>\n",
    "  </g>\n",
    "  <circle cx=30 cy=130 r=2 />\n",
    "  <circle cx=130 cy=130 r=2 />\n",
    "  <circle cx=160 cy=130 r=2 />\n",
    "  <circle cx=300 cy=130 r=2 />\n",
    "  <circle cx=190 cy=110 r=2 />\n",
    "  <circle cx=480 cy=110 r=2 />\n",
    "  <circle cx=320 cy=130 r=2 />\n",
    "  <circle cx=440 cy=130 r=2 />\n",
    "  <circle cx=350 cy=110 r=2 />\n",
    "  <circle cx=530 cy=110 r=2 />\n",
    "  <g stroke-width=0>\n",
    "    <text x=580 y=180>t</text>\n",
    "    <text x=25 y=175>t</text><text x=35 y=180 font-size=15>1</text>\n",
    "    <text x=125 y=175>t'</text><text x=135 y=180 font-size=15>1</text>\n",
    "    <text x=155 y=175>t</text><text x=165 y=180 font-size=15>2</text>\n",
    "    <text x=295 y=175>t'</text><text x=305 y=180 font-size=15>2</text>\n",
    "    <text x=185 y=175>t</text><text x=195 y=180 font-size=15>3</text>\n",
    "    <text x=475 y=175>t'</text><text x=485 y=180 font-size=15>3</text>\n",
    "    <text x=315 y=175>t</text><text x=325 y=180 font-size=15>4</text>\n",
    "    <text x=435 y=175>t'</text><text x=445 y=180 font-size=15>4</text>\n",
    "    <text x=345 y=175>t</text><text x=355 y=180 font-size=15>5</text>\n",
    "    <text x=525 y=175>t'</text><text x=535 y=180 font-size=15>5</text>\n",
    "  </g>\n",
    "</svg>"
   ]
  },
  {
   "cell_type": "markdown",
   "id": "a21d4f45",
   "metadata": {},
   "source": [
    "The typical input is an array of $(t_i, t'_i)$ pairs, representing the start and end of some process. The values $t_i$ and $t'_i$ can have a variety of physical meanings — for example, the time a customer spends in a shop or on a website, distances between objects, and so on."
   ]
  },
  {
   "cell_type": "markdown",
   "id": "2d889494",
   "metadata": {},
   "source": [
    "The main idea of the approach is to iterate over the $(t_i, t'_i)$ pairs and create a sequence of events $(\\tau_j, \\text{type}_j, \\overline{x}_j)$, where:\n",
    "\n",
    "* $\\tau_j$ is the timestamp of the event.\n",
    "* $\\text{type}_j$ indicates the type of the event — typically one value for the start of a process and another for the end.\n",
    "* $\\overline{x}_j$ is a vector containing additional information about the event, which varies depending on the specific task."
   ]
  },
  {
   "cell_type": "markdown",
   "id": "436b1001",
   "metadata": {},
   "source": [
    "The array of the vectors of the events $(\\tau_j, \\text{type}_j, \\overline{x}_j)$ is sorted. Usually it supposes lower $\\tau_j$ to go first.  Ordering by $\\text{type}_j$ is also important, so you have to assign lower marks to the events that are supposed to be processed first.\n",
    "\n",
    "The second cycle iterates though the sorted array of the events and performs some computations based on their contents."
   ]
  },
  {
   "cell_type": "markdown",
   "id": "82370a5e",
   "metadata": {},
   "source": [
    "---\n",
    "\n",
    "As the example cosider programm that generates SVG illustration for this picture. As input it takes pairs: begining and ending of the line.\n",
    "\n",
    "The issue here is that lines that overlaps ($t'_i > t_j$) must be at the different levels. However, when a line that occupied a certain level ends, the next line must take its place. So the approach is to each event that corresponds to the start of the line to remember the current position of the line and increase following."
   ]
  },
  {
   "cell_type": "code",
   "execution_count": null,
   "id": "61ea0f13",
   "metadata": {},
   "outputs": [
    {
     "name": "stdout",
     "output_type": "stream",
     "text": [
      "\n",
      "<svg width=700 height=200 stroke=\"black\" stroke-width=\"3\" style=\"font-family: 'LatinModern'\" font-style=\"italic\" font-size=30>\n",
      "  <line x1=0 y1=150 x2=600 y2=150 />\n",
      "  <line x1=600 y1=150 x2=570 y2=160 />\n",
      "  <line x1=600 y1=150 x2=570 y2=140 />\n",
      "  <g stroke-width=\"2\">\n",
      "    <line x1=30 y1=130 x2=130 y2=130 />\n",
      "    <line x1=160 y1=130 x2=300 y2=130 />\n",
      "    <line x1=190 y1=110 x2=480 y2=110 />\n",
      "    <line x1=320 y1=130 x2=440 y2=130 />\n",
      "    <line x1=350 y1=110 x2=530 y2=110 />\n",
      "    <g stroke-dasharray=\"4\">\n",
      "    <line x1=30 y1=130 x2=30 y2=150 />\n",
      "      <line x1=130 y1=130 x2=130 y2=150 />\n",
      "      <line x1=160 y1=130 x2=160 y2=150 />\n",
      "      <line x1=300 y1=130 x2=300 y2=150 />\n",
      "      <line x1=190 y1=110 x2=190 y2=150 />\n",
      "      <line x1=480 y1=110 x2=480 y2=150 />\n",
      "      <line x1=320 y1=130 x2=320 y2=150 />\n",
      "      <line x1=440 y1=130 x2=440 y2=150 />\n",
      "      <line x1=350 y1=110 x2=350 y2=150 />\n",
      "      <line x1=530 y1=110 x2=530 y2=150 />\n",
      "    </g>\n",
      "  </g>\n",
      "  <circle cx=30 cy=130 r=2 />\n",
      "  <circle cx=130 cy=130 r=2 />\n",
      "  <circle cx=160 cy=130 r=2 />\n",
      "  <circle cx=300 cy=130 r=2 />\n",
      "  <circle cx=190 cy=110 r=2 />\n",
      "  <circle cx=480 cy=110 r=2 />\n",
      "  <circle cx=320 cy=130 r=2 />\n",
      "  <circle cx=440 cy=130 r=2 />\n",
      "  <circle cx=350 cy=110 r=2 />\n",
      "  <circle cx=530 cy=110 r=2 />\n",
      "  <g stroke-width=0>\n",
      "    <text x=580 y=180>t</text>\n",
      "    <text x=25 y=175>t</text><text x=35 y=180 font-size=15>1</text>\n",
      "    <text x=125 y=175>t'</text><text x=135 y=180 font-size=15>1</text>\n",
      "    <text x=155 y=175>t</text><text x=165 y=180 font-size=15>2</text>\n",
      "    <text x=295 y=175>t'</text><text x=305 y=180 font-size=15>2</text>\n",
      "    <text x=185 y=175>t</text><text x=195 y=180 font-size=15>3</text>\n",
      "    <text x=475 y=175>t'</text><text x=485 y=180 font-size=15>3</text>\n",
      "    <text x=315 y=175>t</text><text x=325 y=180 font-size=15>4</text>\n",
      "    <text x=435 y=175>t'</text><text x=445 y=180 font-size=15>4</text>\n",
      "    <text x=345 y=175>t</text><text x=355 y=180 font-size=15>5</text>\n",
      "    <text x=525 y=175>t'</text><text x=535 y=180 font-size=15>5</text>\n",
      "  </g>\n",
      "</svg>\n",
      "\n"
     ]
    }
   ],
   "source": [
    "from typing import Callable\n",
    "template = \"\"\"\n",
    "<svg width=700 height=200 stroke=\"black\" stroke-width=\"3\" style=\"font-family: 'LatinModern'\" font-style=\"italic\" font-size=30>\n",
    "  <line x1=0 y1=150 x2=600 y2=150 />\n",
    "  <line x1=600 y1=150 x2=570 y2=160 />\n",
    "  <line x1=600 y1=150 x2=570 y2=140 />\n",
    "  <g stroke-width=\"2\">\n",
    "    {lines}\n",
    "    <g stroke-dasharray=\"4\">\n",
    "    {projections}\n",
    "    </g>\n",
    "  </g>\n",
    "  {circles}\n",
    "  <g stroke-width=0>\n",
    "    <text x=580 y=180>t</text>\n",
    "    {coord_denotes}\n",
    "  </g>\n",
    "</svg>\n",
    "\"\"\"\n",
    "\n",
    "coordinates = [(30, 130), (160, 300), (190, 480), (320, 440), (350, 530)]\n",
    "\n",
    "# Building an events sequence\n",
    "START, END = 0, 1\n",
    "events: list[tuple[int, int, int, int]] = []\n",
    "for i, (start, end) in enumerate(coordinates):\n",
    "    events.append((start, START, end, i))\n",
    "    events.append((end, END, 0, i))\n",
    "\n",
    "events.sort()\n",
    "\n",
    "positions: dict[int, int] = {}\n",
    "y_coord = 130\n",
    "\n",
    "lines: list[str] = []\n",
    "line_template = \"<line x1={x1} y1={y} x2={x2} y2={y} />\" \n",
    "circles: list[str] = []\n",
    "circle_template = \"<circle cx={x} cy={y} r=2 />\"\n",
    "projections: list[str] = []\n",
    "projection_template = \"<line x1={x} y1={y} x2={x} y2=150 />\"\n",
    "coord_denote: Callable[[int, int, str], str] = lambda x, i, text: (\n",
    "    f\"<text x={x} y=175>{text}</text>\"\n",
    "    f\"<text x={x + 10} y=180 font-size=15>{i}</text>\"\n",
    ")\n",
    "coord_denotes: list[str] = []\n",
    "\n",
    "# Perform actions according to events\n",
    "for x_coord, e_type, end, i in events:\n",
    "    if e_type == START:\n",
    "        lines.append(line_template.format(x1=x_coord, y=y_coord, x2=end))\n",
    "        circles.append(circle_template.format(x=x_coord, y=y_coord))\n",
    "        circles.append(circle_template.format(x=end, y=y_coord))\n",
    "        projections.append(projection_template.format(x=x_coord, y=y_coord))\n",
    "        projections.append(projection_template.format(x=end, y=y_coord))\n",
    "        coord_denotes.append(coord_denote(x=x_coord - 5, i=(i + 1), text=\"t\"))\n",
    "        coord_denotes.append(coord_denote(x=end - 5, i=(i + 1), text=\"t'\"))\n",
    "\n",
    "        positions[i] = y_coord\n",
    "        y_coord -= 20\n",
    "    else:\n",
    "        if y_coord < positions[i]:\n",
    "          y_coord = positions[i]\n",
    "\n",
    "print(template.format(\n",
    "    lines=\"\\n    \".join(lines),\n",
    "    projections=\"\\n      \".join(projections),\n",
    "    circles=\"\\n  \".join(circles),\n",
    "    coord_denotes=\"\\n    \".join(coord_denotes)\n",
    "))"
   ]
  }
 ],
 "metadata": {
  "kernelspec": {
   "display_name": "knowledge",
   "language": "python",
   "name": "python3"
  },
  "language_info": {
   "codemirror_mode": {
    "name": "ipython",
    "version": 3
   },
   "file_extension": ".py",
   "mimetype": "text/x-python",
   "name": "python",
   "nbconvert_exporter": "python",
   "pygments_lexer": "ipython3",
   "version": "3.13.5"
  }
 },
 "nbformat": 4,
 "nbformat_minor": 5
}
