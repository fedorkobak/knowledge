{
 "cells": [
  {
   "cell_type": "markdown",
   "id": "51aa482d",
   "metadata": {},
   "source": [
    "# Intro\n",
    "\n",
    "This page introduces to the algorithms and data structures section."
   ]
  },
  {
   "cell_type": "markdown",
   "id": "097ad6d4",
   "metadata": {
    "vscode": {
     "languageId": "plaintext"
    }
   },
   "source": [
    "## Prefix sum\n",
    "\n",
    "Prefix sum for sequence $x_1, x_2, \\ldots, x_n$ is a sequence $y_1, y_2, \\ldots, y_{n+1}$.\n",
    "\n",
    "Where: $y_i = \\sum^{i-1}_{j=1} x_j, i = \\overline{1, n+1}$\n",
    "\n",
    "From this the statement $y_i = y_{i-1} + x_{i-1}$ will be correct.\n",
    "\n",
    "The following cell shows the prefix sum idea in table format.\n",
    "\n",
    "| $i$      | $1$      | $2$                         | $3$                                     | $4$                                       | $\\ldots$                                   | $n$                                        | $n+1$                                     |\n",
    "|----------|----------|-----------------------------|------------------------------------------|--------------------------------------------|---------------------------------------------|---------------------------------------------|---------------------------------------------|\n",
    "| $x_i$    | $x_1$    | $x_2$                       | $x_3$                                    | $x_4$                                      | $\\ldots$                                    | $x_n$                                      |                                             |\n",
    "| $y_i$    | $0$      | $x_1$                       | $x_1 + x_2 = y_2 + x_2$                  | $x_1 + x_2 + x_3 = y_3 + x_3$              | $\\ldots$                                    | $\\sum^{n-1}_{j=1} x_j = y_{n-1} + x_{n-1}$ | $\\sum^{n}_{j=1} x_j = y_n + x_n$          |\n",
    "\n",
    "\n",
    "The prefix sum can be computed from the original sequence in $O(n)$ time."
   ]
  },
  {
   "cell_type": "markdown",
   "id": "c4bd89d7",
   "metadata": {},
   "source": [
    "---\n",
    "\n",
    "The following cell illustrates the implementation of the counting prefix sum."
   ]
  },
  {
   "cell_type": "code",
   "execution_count": 6,
   "id": "32ad7ee7",
   "metadata": {},
   "outputs": [
    {
     "data": {
      "text/plain": [
       "[0, 1, 3, 6, 10]"
      ]
     },
     "execution_count": 6,
     "metadata": {},
     "output_type": "execute_result"
    }
   ],
   "source": [
    "def count_prefix_sum(seq: list[float | int]):\n",
    "    ans = [0]\n",
    "    for x in seq:\n",
    "        ans.append(ans[-1] + x)\n",
    "    return ans\n",
    "\n",
    "count_prefix_sum([1, 2, 3, 4])"
   ]
  },
  {
   "cell_type": "markdown",
   "id": "989c8f01",
   "metadata": {},
   "source": [
    "### Sum of subset\n",
    "\n",
    "Calculate the sum of the elements of the sequence from the $a$-th to the $b$-th position using formula:\n",
    "\n",
    "$$\\sum_{i=a}^b x_i = y_{b + 1} - y_a$$\n",
    "\n",
    "If you have the prefix sum precomputed, you can compute the sum of a subset with complexity of $O(1)$.\n",
    "\n",
    "To **prove** this just describe the difference $y_{b+1} - y_a$:\n",
    "\n",
    "$$y_{b+1} - y_a = \\sum_{i=1}^{b} x_i - \\sum_{i=1}^{a-1} x_i = \\sum_{i=a}^b x_i$$\n"
   ]
  },
  {
   "cell_type": "markdown",
   "id": "f9285420",
   "metadata": {},
   "source": [
    "### Transformation\n",
    "\n",
    "The prefix sum is a really useful data structure. To fulfill its potential, you must apply a transformation to the original set - $f(x)$.\n",
    "\n",
    "For example, if the task requires counting the number of elements $x_i > k$ for $i=\\overline{a,b}$, then cae apply the following transformation:\n",
    "\n",
    "$$\n",
    "f(x_i) = \\begin{cases}\n",
    "    1, x_i > k; \\\\\n",
    "    0, x_i \\leq k.\n",
    "\\end{cases}\n",
    "$$\n",
    "\n",
    "Count and use the prefix sum for the transformed sequence."
   ]
  }
 ],
 "metadata": {
  "kernelspec": {
   "display_name": "knowledge",
   "language": "python",
   "name": "python3"
  },
  "language_info": {
   "codemirror_mode": {
    "name": "ipython",
    "version": 3
   },
   "file_extension": ".py",
   "mimetype": "text/x-python",
   "name": "python",
   "nbconvert_exporter": "python",
   "pygments_lexer": "ipython3",
   "version": "3.12.8"
  }
 },
 "nbformat": 4,
 "nbformat_minor": 5
}
