{
 "cells": [
  {
   "cell_type": "markdown",
   "id": "51aa482d",
   "metadata": {},
   "source": [
    "# Intro\n",
    "\n",
    "This page introduces to the algorithms and data structures section."
   ]
  },
  {
   "cell_type": "markdown",
   "id": "097ad6d4",
   "metadata": {
    "vscode": {
     "languageId": "plaintext"
    }
   },
   "source": [
    "## Prefix sum\n",
    "\n",
    "Prefix sum for sequence $x_1, x_2, \\ldots, x_n$ is a sequence $y_1, y_2, \\ldots, y_{n+1}$.\n",
    "\n",
    "Where: $y_i = \\sum^{i-1}_{j=1} x_j, i = \\overline{1, n+1}$\n",
    "\n",
    "From this the statement $y_i = y_{i-1} + x_{i-1}$ will be correct.\n",
    "\n",
    "The following cell shows the prefix sum idea in table format.\n",
    "\n",
    "| $i$      | $1$      | $2$                         | $3$                                     | $4$                                       | $\\ldots$                                   | $n$                                        | $n+1$                                     |\n",
    "|----------|----------|-----------------------------|------------------------------------------|--------------------------------------------|---------------------------------------------|---------------------------------------------|---------------------------------------------|\n",
    "| $x_i$    | $x_1$    | $x_2$                       | $x_3$                                    | $x_4$                                      | $\\ldots$                                    | $x_n$                                      |                                             |\n",
    "| $y_i$    | $0$      | $x_1$                       | $x_1 + x_2 = y_2 + x_2$                  | $x_1 + x_2 + x_3 = y_3 + x_3$              | $\\ldots$                                    | $\\sum^{n-1}_{j=1} x_j = y_{n-1} + x_{n-1}$ | $\\sum^{n}_{j=1} x_j = y_n + x_n$          |\n",
    "\n",
    "\n",
    "The prefix sum can be computed from the original sequence in $O(n)$ time."
   ]
  }
 ],
 "metadata": {
  "language_info": {
   "name": "python"
  }
 },
 "nbformat": 4,
 "nbformat_minor": 5
}
