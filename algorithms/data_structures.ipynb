{
 "cells": [
  {
   "cell_type": "markdown",
   "id": "c0f3e243",
   "metadata": {},
   "source": [
    "# Data structures\n",
    "\n",
    "A **data structure** is a way of organizing and storing data in memory. Different data structures are beneficial in different situations: some allow dynamic expansion of data, others provide faster access, and some offer features that are especially useful for specific tasks."
   ]
  },
  {
   "cell_type": "markdown",
   "id": "f2347842",
   "metadata": {},
   "source": [
    "## Set\n",
    "\n",
    "A **set** is an abstract data structure used to store a collection of **unordered** and **unique** elements.\n",
    "\n",
    "In a typical implementation, such as a hash set, each element is assigned to a **bucket** based on a hash function. Let the set consist of $n$ buckets, denoted as $b_i$, where $i \\in \\{1, \\ldots, n\\}$. Each bucket $b_i$ contains a subset of the elements that hash to index $i$.\n",
    "\n",
    "Let $\\mathbb{E}$ be the universe of elements that can potentially be stored in the set. A hash function\n",
    "\n",
    "$$\n",
    "f : \\mathbb{E} \\rightarrow \\{1, \\ldots, n\\}\n",
    "$$\n",
    "\n",
    "maps each element $e \\in \\mathbb{E}$ to the index of the bucket it belongs to. That is, element $e$ is stored in bucket $b_{f(e)}$."
   ]
  },
  {
   "cell_type": "markdown",
   "id": "510ac22d",
   "metadata": {},
   "source": [
    "## Trees"
   ]
  }
 ],
 "metadata": {
  "language_info": {
   "name": "python"
  }
 },
 "nbformat": 4,
 "nbformat_minor": 5
}
