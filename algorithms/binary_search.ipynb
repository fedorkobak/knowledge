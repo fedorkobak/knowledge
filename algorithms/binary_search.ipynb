{
 "cells": [
  {
   "cell_type": "markdown",
   "id": "06f60098",
   "metadata": {},
   "source": [
    "# Binary search\n",
    "\n",
    "Binary search is an algorithm used to find a specific element within an ordered sequence. At each step, it divides the sequence into two equal sub-sequences and continuest searching in only one of them. This page provides an accurate description."
   ]
  },
  {
   "cell_type": "code",
   "execution_count": 1,
   "id": "4d63ce0a",
   "metadata": {},
   "outputs": [],
   "source": [
    "from typing import Any, Callable"
   ]
  },
  {
   "cell_type": "markdown",
   "id": "1f9623e1",
   "metadata": {},
   "source": [
    "## Formal description"
   ]
  },
  {
   "cell_type": "markdown",
   "id": "2af423c9",
   "metadata": {},
   "source": [
    "Suppose you are processing the sequence: $x_1, x_2, \\ldots, x_{k-1}, x_k, x_{k+1}, \\ldots, x_{n-1}, x_n$. The element you are trying to find is $x_k$.\n",
    "\n",
    "In this context, the fact that the sequence is ordered means that one can define a function $f$ such that it takes the value 0 for all elements before $x_k$ and 1 for all elements from $x_k$ onward. More formally,\n",
    "\n",
    "$$\n",
    "f(x_i) = \n",
    "\\begin{cases}\n",
    "0, & i \\in \\{1, \\ldots, k-1\\} \\\\[6pt]\n",
    "1, & i \\in \\{k, \\ldots, n\\}.\n",
    "\\end{cases}\n",
    "$$"
   ]
  },
  {
   "cell_type": "markdown",
   "id": "9ef56cf9",
   "metadata": {},
   "source": [
    "Define variables that indicate the beginning and the end of the interval beingconsidered: $l_0 = 0, r_0 = n$.\n",
    "\n",
    "At each step, the middle point of the interval is counted: $p_j = \\left\\lfloor \\frac{l_j + r_j}{2} \\right\\rfloor$. Depending on the value of $f(x_{p_j})$, we decide whether to move $l$ or $r$:"
   ]
  },
  {
   "cell_type": "markdown",
   "id": "f5c7df8e",
   "metadata": {},
   "source": [
    "$$r_j =\n",
    "\\begin{cases}\n",
    "p_{j - 1}, f(x_{p_j}) = 1 \\\\\n",
    "r_{j - 1}, f(x_{p_j}) = 0.\n",
    "\\end{cases}\n",
    "$$\n",
    "\n",
    "$$\n",
    "l_j =\n",
    "\\begin{cases}\n",
    "p_{j - 1}, f(x_{p_j}) = 0 \\\\\n",
    "l_{j - 1}, f(x_{p_j}) = 1.\n",
    "\\end{cases}\n",
    "$$"
   ]
  },
  {
   "cell_type": "markdown",
   "id": "ba5d0c3d",
   "metadata": {},
   "source": [
    "Procedure continues until $l_j + 1 < r_j$. The fact $l_j + 1 = r_j$ garantees that $x_{r_j} = x_k$"
   ]
  },
  {
   "cell_type": "markdown",
   "id": "c4b8fa36",
   "metadata": {},
   "source": [
    "**Note:** A very common mistake in binary search is to forget to add $1$ in the stopping condition $l_j + 1 < r_j$. Omitting it can lead to an infinite loop. At some point, you may reach the situation where $l_j = k - 1$ and $r_j = k$. Then:\n",
    "\n",
    "$$\n",
    "p_j = \\left\\lfloor \\frac{l_j + r_j}{2} \\right\\rfloor \n",
    "= \\left\\lfloor \\frac{(k - 1) + k}{2} \\right\\rfloor \n",
    "= \\left\\lfloor k - 1 + 0.5 \\right\\rfloor \n",
    "= k - 1.\n",
    "$$\n",
    "\n",
    "So,\n",
    "\n",
    "$$\n",
    "f(x_{k - 1}) = 0 \\quad \\Longrightarrow \\quad r_{j + 1} = r_j, \n",
    "\\quad l_{j + 1} = p_j = k - 1 = l_j.\n",
    "$$\n",
    "\n",
    "As a result, $r_j = r_{j - 1}$ and $l_j = l_{j - 1}$ — the search interval does not shrink, and the loop runs forever."
   ]
  },
  {
   "cell_type": "markdown",
   "id": "1dc3c5b3",
   "metadata": {},
   "source": [
    "---\n",
    "\n",
    "The following cell defines a generalised implemention of the binary search:"
   ]
  },
  {
   "cell_type": "code",
   "execution_count": null,
   "id": "882f974a",
   "metadata": {},
   "outputs": [],
   "source": [
    "def first_entry(sequence: list[Any], fun: Callable[[int], int]) -> int:\n",
    "    '''\n",
    "    Implementation of the first entry binary search.\n",
    "\n",
    "    Parameters\n",
    "    ----------\n",
    "    sequence: list[Any]\n",
    "        Sequence of elements to be processed.\n",
    "    fun: Callable\n",
    "        Function that takes value True for appropriate side of the sequence.\n",
    "    \n",
    "    Returns\n",
    "    -------\n",
    "    The first index when fun takes value True.\n",
    "    '''\n",
    "    l, r = -1, len(sequence)\n",
    "    while l + 1 < r:\n",
    "        p = (l + r) // 2\n",
    "        if fun(sequence[p]):\n",
    "            l = p\n",
    "        else:\n",
    "            r = p\n",
    "    return r"
   ]
  },
  {
   "cell_type": "markdown",
   "id": "efc94a92",
   "metadata": {},
   "source": [
    "The following cell shows how the function implemented earlier used to find a specific number (12) in a list of integers."
   ]
  },
  {
   "cell_type": "code",
   "execution_count": 9,
   "id": "d59a23fd",
   "metadata": {},
   "outputs": [
    {
     "data": {
      "text/plain": [
       "4"
      ]
     },
     "execution_count": 9,
     "metadata": {},
     "output_type": "execute_result"
    }
   ],
   "source": [
    "first_entry(\n",
    "    [1, 7, 9, 10, 12, 12, 16, 21],\n",
    "    lambda x: x < 12\n",
    ")"
   ]
  },
  {
   "cell_type": "markdown",
   "id": "d657cc43",
   "metadata": {},
   "source": [
    "## Last entry\n",
    "\n",
    "Binary search algorithm in different sources can be defined slightly different, but important is the one option - last occurance approach."
   ]
  },
  {
   "cell_type": "markdown",
   "id": "8e879597",
   "metadata": {},
   "source": [
    "The previously defined algorithm, in the case where there are multiple elements with the same value, $x_k = x_{k+1} = x_{k+2} = \\ldots$, will return $k$, which corresponds to the first occurrence of an element for which $f(x) = 1$.\n",
    "\n",
    "The widely accepted alternative last occurrence approach sugests that $f$ is defined as:\n",
    "\n",
    "$$\n",
    "f(x_i) = \n",
    "\\begin{cases}\n",
    "1, & i \\in \\{1, \\ldots, k\\} \\\\[6pt]\n",
    "0, & i \\in \\{k + 1, \\ldots, n\\}.\n",
    "\\end{cases}\n",
    "$$"
   ]
  },
  {
   "cell_type": "markdown",
   "id": "a3137bcf",
   "metadata": {},
   "source": [
    "Accordingly, the following alterations are expected to be implemented in the mechanisms employed for the computation of interval borders and the midpoint of an interval:\n",
    "\n",
    "$$\n",
    "p_j = \\left\\lceil \\frac{l_j + r_j}{2} \\right\\rceil\n",
    "$$\n",
    "\n",
    "$$r_j =\n",
    "\\begin{cases}\n",
    "p_{j - 1}, f(x_{p_j}) = 0 \\\\\n",
    "r_{j - 1}, f(x_{p_j}) = 1.\n",
    "\\end{cases}\n",
    "$$\n",
    "\n",
    "$$\n",
    "l_j =\n",
    "\\begin{cases}\n",
    "p_{j - 1}, f(x_{p_j}) = 1 \\\\\n",
    "l_{j - 1}, f(x_{p_j}) = 0.\n",
    "\\end{cases}\n",
    "$$"
   ]
  },
  {
   "cell_type": "markdown",
   "id": "5274be9e",
   "metadata": {},
   "source": [
    "Such changes occur in the final steps of the algorithm:\n",
    "\n",
    "* When $\\frac{l_j + r_j}{2} = k + \\varepsilon$, where $\\varepsilon \\in (0, 1)$, we have $p_j = \\lceil k + \\varepsilon \\rceil = k + 1$. Since $f(x_{k+1}) = 0$, the right boundary is moved to the $(k+1)$-th position: $r_j = k + 1$.\n",
    "* When $\\frac{l_j + r_j}{2} = k - 1 + \\varepsilon$, where $\\varepsilon \\in (0, 1)$, we have $p_j = \\lceil k - 1 + \\varepsilon \\rceil = k$. Since $f(x_k) = 1$, the left boundary is moved to the $k$-th position: $l_j = k$."
   ]
  },
  {
   "cell_type": "markdown",
   "id": "c41617f5",
   "metadata": {},
   "source": [
    "After all the steps, we have $l_j = k$ and $r_j = k + 1$. Even if there are multiple identical values, $x_{k - l} = x_{k - l + 1} = \\ldots = x_{k - 1} = x_k$, the algorithm will still point, by the final left boundary, to the $k$-th element — the first occurrence of the desired element."
   ]
  },
  {
   "cell_type": "markdown",
   "id": "1dc0b56a",
   "metadata": {},
   "source": [
    "---\n",
    "\n",
    "The next code defines universal implementation of the last entry approach:"
   ]
  },
  {
   "cell_type": "code",
   "execution_count": null,
   "id": "b28adf2d",
   "metadata": {},
   "outputs": [],
   "source": [
    "def last_entry(sequence: list[Any], fun: Callable[[int], int]):\n",
    "    '''\n",
    "    Implementation of the last entry binary search.\n",
    "\n",
    "    Parameters\n",
    "    ----------\n",
    "    sequence: list[Any]\n",
    "        Sequence of elements to be processed.\n",
    "    fun: Callable\n",
    "        Function that takes value True for appropriate side of the sequence.\n",
    "    \n",
    "    Returns\n",
    "    -------\n",
    "    The last index when fun takes value True.\n",
    "    '''\n",
    "\n",
    "    l, r = -1, len(sequence)\n",
    "    while l + 1 < r:\n",
    "        p = (l + r + 1) // 2\n",
    "        if fun(sequence[p]):\n",
    "            l = p\n",
    "        else:\n",
    "            r = p\n",
    "    return l"
   ]
  },
  {
   "cell_type": "markdown",
   "id": "50888774",
   "metadata": {},
   "source": [
    "Following cell shows, use of the function defined earlier to find index of the 12 value in the list:"
   ]
  },
  {
   "cell_type": "code",
   "execution_count": null,
   "id": "5caf7705",
   "metadata": {},
   "outputs": [
    {
     "data": {
      "text/plain": [
       "4"
      ]
     },
     "execution_count": 27,
     "metadata": {},
     "output_type": "execute_result"
    }
   ],
   "source": [
    "last_entry(\n",
    "    [5, 7, 9, 12, 12, 14, 16, 18, 21, 22],\n",
    "    lambda x: x <= 12\n",
    ")"
   ]
  },
  {
   "cell_type": "markdown",
   "id": "296306ff",
   "metadata": {},
   "source": [
    "It returns 4, which is the second entry of the value we are looking for."
   ]
  },
  {
   "cell_type": "markdown",
   "id": "c3886deb",
   "metadata": {},
   "source": [
    "## Search by answer\n",
    "\n",
    "The binary search by answer is an important method for solving a set of tasks.\n",
    "\n",
    "It is used for tasks that require finding the minimum or maximum value under certain conditions. The conditions must be able to be represented as a binary function that changes value once at a certain point. \n",
    "\n",
    "More formally, for the binary function $f(x)$ is required to find $\\min_{f(x)=True}{(x)}$."
   ]
  },
  {
   "cell_type": "markdown",
   "id": "45646bd1",
   "metadata": {},
   "source": [
    "---\n",
    "\n",
    "The best way to demonstrate this approach is to show the tasks that can be solved using this approach."
   ]
  },
  {
   "cell_type": "markdown",
   "id": "e0b547d0",
   "metadata": {},
   "source": [
    "Given a sequence of numbers ordered in ascending order: $a_1, a_2, \\ldots, a_n$. Required to find $L$ non-overlapping $c$-elements subsets of numbers such that the maximum difference is minimal:\n",
    "\n",
    "$$\\Delta = \\min_{\\{i_1, i_2, \\ldots, i_L\\}}\\left[\\max_j \\left( a_{i_j + c} - a_{i_j} \\right)\\right]$$\n",
    "\n",
    "Here, $i_j, j=\\overline{1,n}$ is the first index of the $j$-th group."
   ]
  },
  {
   "cell_type": "markdown",
   "id": "8592ca29",
   "metadata": {},
   "source": [
    "The  binary search solution involves searching for smallest $\\Delta$ that allows the formation of $L$ non-overlapping $c$-element subsets."
   ]
  },
  {
   "cell_type": "markdown",
   "id": "5a720d99",
   "metadata": {},
   "source": [
    "The following cell realizes the function that checks whether it is possible to find such subsets for given $\\Delta$ (`D`)."
   ]
  },
  {
   "cell_type": "code",
   "execution_count": 25,
   "id": "7d15fdee",
   "metadata": {},
   "outputs": [],
   "source": [
    "def check_groups(lst: list[int], L: int, c: int, D: int) -> bool:\n",
    "    \"\"\"\n",
    "    Check if it possible to form L groups of c elements\n",
    "    \"\"\"\n",
    "    i = 0\n",
    "    counter = 0\n",
    "    lst_len = len(lst)\n",
    "    while i < lst_len - c + 1:\n",
    "        if lst[i + c - 1] - lst[i] <= D:\n",
    "            counter += 1\n",
    "            i += c\n",
    "        else:\n",
    "            i += 1\n",
    "        if counter >= L:\n",
    "            return True\n",
    "    return False"
   ]
  },
  {
   "cell_type": "markdown",
   "id": "c2e41365",
   "metadata": {},
   "source": [
    "Consider set of numbers $\\left\\{1, 5, 15, 20, 20\\right\\}$ and parameters $L=2$, $c=2$. For $\\Delta=4$ it still possible to find subsets $\\left\\{1, 5\\right\\}, \\left\\{20, 20\\right\\}$:"
   ]
  },
  {
   "cell_type": "code",
   "execution_count": 26,
   "id": "bf40bfdc",
   "metadata": {},
   "outputs": [
    {
     "data": {
      "text/plain": [
       "True"
      ]
     },
     "execution_count": 26,
     "metadata": {},
     "output_type": "execute_result"
    }
   ],
   "source": [
    "check_groups(\n",
    "    lst=[1, 5, 15, 20, 20], L=2, c=2, D=4\n",
    ")"
   ]
  },
  {
   "cell_type": "markdown",
   "id": "3abaf9f9",
   "metadata": {},
   "source": [
    "However, for $\\Delta = 1$, the subset $\\left\\{1, 5\\right\\}$ is incorrect - it's impossible to find the corresponding subsets."
   ]
  },
  {
   "cell_type": "code",
   "execution_count": 27,
   "id": "c6926df2",
   "metadata": {},
   "outputs": [
    {
     "data": {
      "text/plain": [
       "False"
      ]
     },
     "execution_count": 27,
     "metadata": {},
     "output_type": "execute_result"
    }
   ],
   "source": [
    "check_groups(\n",
    "    lst=[1, 5, 15, 20, 20], L=2, c=2, D=1\n",
    ")"
   ]
  },
  {
   "cell_type": "markdown",
   "id": "7eae0058",
   "metadata": {},
   "source": [
    "Now, just binserach for the first $\\Delta$ that corresponds to the requirements:"
   ]
  },
  {
   "cell_type": "code",
   "execution_count": 29,
   "id": "bf9d9672",
   "metadata": {},
   "outputs": [],
   "source": [
    "def solution(lst: list[int], L: int, c: int) -> int:\n",
    "    left, right = 0, len(lst)\n",
    "    while left + 1 < right:\n",
    "        D = (left + right) // 2\n",
    "        if check_groups(lst=lst, L=L, c=c, D=D):\n",
    "            right = D\n",
    "        else:\n",
    "            left = D\n",
    "    return right"
   ]
  },
  {
   "cell_type": "code",
   "execution_count": 30,
   "id": "d25d88aa",
   "metadata": {},
   "outputs": [
    {
     "data": {
      "text/plain": [
       "4"
      ]
     },
     "execution_count": 30,
     "metadata": {},
     "output_type": "execute_result"
    }
   ],
   "source": [
    "solution(lst=[1, 5, 15, 20, 20], L=2, c=2)"
   ]
  }
 ],
 "metadata": {
  "kernelspec": {
   "display_name": "knowledge",
   "language": "python",
   "name": "python3"
  },
  "language_info": {
   "codemirror_mode": {
    "name": "ipython",
    "version": 3
   },
   "file_extension": ".py",
   "mimetype": "text/x-python",
   "name": "python",
   "nbconvert_exporter": "python",
   "pygments_lexer": "ipython3",
   "version": "3.13.5"
  }
 },
 "nbformat": 4,
 "nbformat_minor": 5
}
