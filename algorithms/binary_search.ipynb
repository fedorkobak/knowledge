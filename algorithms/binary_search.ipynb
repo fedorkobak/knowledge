{
 "cells": [
  {
   "cell_type": "markdown",
   "id": "06f60098",
   "metadata": {},
   "source": [
    "# Binary search\n",
    "\n",
    "Binary search is an algorithm used to find a specific element within an ordered sequence. At each step, it divides the sequence into two equal sub-sequences and continuest searching in only one of them. This page provides an accurate description."
   ]
  },
  {
   "cell_type": "code",
   "execution_count": 1,
   "id": "4d63ce0a",
   "metadata": {},
   "outputs": [],
   "source": [
    "from typing import Any, Callable"
   ]
  },
  {
   "cell_type": "markdown",
   "id": "1f9623e1",
   "metadata": {},
   "source": [
    "## Formal description"
   ]
  },
  {
   "cell_type": "markdown",
   "id": "2af423c9",
   "metadata": {},
   "source": [
    "Suppose you are processing the sequence: $x_1, x_2, \\ldots, x_{k-1}, x_k, x_{k+1}, \\ldots, x_{n-1}, x_n$. The element you are trying to find is $x_k$.\n",
    "\n",
    "In this context, the fact that the sequence is ordered means that one can define a function $f$ such that it takes the value 0 for all elements before $x_k$ and 1 for all elements from $x_k$ onward. More formally,\n",
    "\n",
    "$$\n",
    "f(x_i) = \n",
    "\\begin{cases}\n",
    "0, & i \\in \\{1, \\ldots, k-1\\} \\\\[6pt]\n",
    "1, & i \\in \\{k, \\ldots, n\\}.\n",
    "\\end{cases}\n",
    "$$"
   ]
  },
  {
   "cell_type": "markdown",
   "id": "9ef56cf9",
   "metadata": {},
   "source": [
    "Define variables that indicate the beginning and the end of the interval beingconsidered: $l_0 = 0, r_0 = n$.\n",
    "\n",
    "At each step, the middle point of the interval is counted: $p_j = \\left\\lfloor \\frac{l_j + r_j}{2} \\right\\rfloor$. Depending on the value of $f(x_{p_j})$, we decide whether to move $l$ or $r$:"
   ]
  },
  {
   "cell_type": "markdown",
   "id": "f5c7df8e",
   "metadata": {},
   "source": [
    "$$r_j =\n",
    "\\begin{cases}\n",
    "p_{j - 1}, f(x_{p_j}) = 1 \\\\\n",
    "r_{j - 1}, f(x_{p_j}) = 0.\n",
    "\\end{cases}\n",
    "$$\n",
    "\n",
    "$$\n",
    "l_j =\n",
    "\\begin{cases}\n",
    "p_{j - 1}, f(x_{p_j}) = 0 \\\\\n",
    "l_{j - 1}, f(x_{p_j}) = 1.\n",
    "\\end{cases}\n",
    "$$"
   ]
  },
  {
   "cell_type": "markdown",
   "id": "ba5d0c3d",
   "metadata": {},
   "source": [
    "Procedure continues until $l_j + 1 < r_j$. The fact $l_j + 1 = r_j$ garantees that $x_{r_j} = x_k$"
   ]
  },
  {
   "cell_type": "markdown",
   "id": "c4b8fa36",
   "metadata": {},
   "source": [
    "**Note:** A very common mistake in binary search is to forget to add $1$ in the stopping condition $l_j + 1 < r_j$. Omitting it can lead to an infinite loop. At some point, you may reach the situation where $l_j = k - 1$ and $r_j = k$. Then:\n",
    "\n",
    "$$\n",
    "p_j = \\left\\lfloor \\frac{l_j + r_j}{2} \\right\\rfloor \n",
    "= \\left\\lfloor \\frac{(k - 1) + k}{2} \\right\\rfloor \n",
    "= \\left\\lfloor k - 1 + 0.5 \\right\\rfloor \n",
    "= k - 1.\n",
    "$$\n",
    "\n",
    "So,\n",
    "\n",
    "$$\n",
    "f(x_{k - 1}) = 0 \\quad \\Longrightarrow \\quad r_{j + 1} = r_j, \n",
    "\\quad l_{j + 1} = p_j = k - 1 = l_j.\n",
    "$$\n",
    "\n",
    "As a result, $r_j = r_{j - 1}$ and $l_j = l_{j - 1}$ — the search interval does not shrink, and the loop runs forever."
   ]
  },
  {
   "cell_type": "markdown",
   "id": "1dc3c5b3",
   "metadata": {},
   "source": [
    "---\n",
    "\n",
    "The following cell defines a generalised implemention of the binary search:"
   ]
  },
  {
   "cell_type": "code",
   "execution_count": null,
   "id": "882f974a",
   "metadata": {},
   "outputs": [],
   "source": [
    "def first_entry(seqence: list[Any], fun: Callable) -> int:\n",
    "    '''\n",
    "    Implementation of the first entry binary search.\n",
    "\n",
    "    Parameters\n",
    "    ----------\n",
    "    sequence: list[Any]\n",
    "        Sequence of elements to be processed.\n",
    "    fun: Callable\n",
    "        Function that takes value True for appropriate side of the sequence.\n",
    "    \n",
    "    Returns\n",
    "    -------\n",
    "    The first index when fun takes value True.\n",
    "    '''\n",
    "    l, r = -1, len(seqence)\n",
    "    while l + 1 < r:\n",
    "        p = (l + r) // 2\n",
    "        if fun(seqence[p]):\n",
    "            l = p\n",
    "        else:\n",
    "            r = p\n",
    "    return r"
   ]
  },
  {
   "cell_type": "markdown",
   "id": "efc94a92",
   "metadata": {},
   "source": [
    "The following cell shows how the function implemented earlier used to find a specific number (12) in a list of integers."
   ]
  },
  {
   "cell_type": "code",
   "execution_count": 9,
   "id": "d59a23fd",
   "metadata": {},
   "outputs": [
    {
     "data": {
      "text/plain": [
       "4"
      ]
     },
     "execution_count": 9,
     "metadata": {},
     "output_type": "execute_result"
    }
   ],
   "source": [
    "first_entry(\n",
    "    [1, 7, 9, 10, 12, 12, 16, 21],\n",
    "    lambda x: x < 12\n",
    ")"
   ]
  },
  {
   "cell_type": "markdown",
   "id": "d657cc43",
   "metadata": {},
   "source": [
    "## Last entry\n",
    "\n",
    "Binary search algorithm in different sources can be defined slightly different, but important is the one option - last occurance approach."
   ]
  },
  {
   "cell_type": "markdown",
   "id": "8e879597",
   "metadata": {},
   "source": [
    "The previously defined algorithm, in the case where there are multiple elements with the same value, $x_k = x_{k+1} = x_{k+2} = \\ldots$, will return $k$, which corresponds to the first occurrence of an element for which $f(x) = 1$.\n",
    "\n",
    "The widely accepted alternative last occurrence approach sugests that $f$ is defined as:\n",
    "\n",
    "$$\n",
    "f(x_i) = \n",
    "\\begin{cases}\n",
    "1, & i \\in \\{1, \\ldots, k\\} \\\\[6pt]\n",
    "0, & i \\in \\{k + 1, \\ldots, n\\}.\n",
    "\\end{cases}\n",
    "$$"
   ]
  },
  {
   "cell_type": "markdown",
   "id": "a3137bcf",
   "metadata": {},
   "source": [
    "Accordingly, the following alterations are expected to be implemented in the mechanisms employed for the computation of interval borders and the midpoint of an interval:\n",
    "\n",
    "$$\n",
    "p_j = \\left\\lceil \\frac{l_j + r_j}{2} \\right\\rceil\n",
    "$$\n",
    "\n",
    "$$r_j =\n",
    "\\begin{cases}\n",
    "p_{j - 1}, f(x_{p_j}) = 0 \\\\\n",
    "r_{j - 1}, f(x_{p_j}) = 1.\n",
    "\\end{cases}\n",
    "$$\n",
    "\n",
    "$$\n",
    "l_j =\n",
    "\\begin{cases}\n",
    "p_{j - 1}, f(x_{p_j}) = 1 \\\\\n",
    "l_{j - 1}, f(x_{p_j}) = 0.\n",
    "\\end{cases}\n",
    "$$"
   ]
  },
  {
   "cell_type": "markdown",
   "id": "5274be9e",
   "metadata": {},
   "source": [
    "Such changes occur in the final steps of the algorithm:\n",
    "\n",
    "* When $\\frac{l_j + r_j}{2} = k + \\varepsilon$, where $\\varepsilon \\in (0, 1)$, we have $p_j = \\lceil k + \\varepsilon \\rceil = k + 1$. Since $f(x_{k+1}) = 0$, the right boundary is moved to the $(k+1)$-th position: $r_j = k + 1$.\n",
    "* When $\\frac{l_j + r_j}{2} = k - 1 + \\varepsilon$, where $\\varepsilon \\in (0, 1)$, we have $p_j = \\lceil k - 1 + \\varepsilon \\rceil = k$. Since $f(x_k) = 1$, the left boundary is moved to the $k$-th position: $l_j = k$."
   ]
  },
  {
   "cell_type": "markdown",
   "id": "c41617f5",
   "metadata": {},
   "source": [
    "After all the steps, we have $l_j = k$ and $r_j = k + 1$. Even if there are multiple identical values, $x_{k - l} = x_{k - l + 1} = \\ldots = x_{k - 1} = x_k$, the algorithm will still point, by the final left boundary, to the $k$-th element — the first occurrence of the desired element."
   ]
  }
 ],
 "metadata": {
  "kernelspec": {
   "display_name": "knowledge",
   "language": "python",
   "name": "python3"
  },
  "language_info": {
   "codemirror_mode": {
    "name": "ipython",
    "version": 3
   },
   "file_extension": ".py",
   "mimetype": "text/x-python",
   "name": "python",
   "nbconvert_exporter": "python",
   "pygments_lexer": "ipython3",
   "version": "3.13.5"
  }
 },
 "nbformat": 4,
 "nbformat_minor": 5
}
