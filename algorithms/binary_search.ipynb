{
 "cells": [
  {
   "cell_type": "markdown",
   "id": "06f60098",
   "metadata": {},
   "source": [
    "# Binary search\n",
    "\n",
    "Binary search is an algorithm used to find a specific element within an ordered sequence. At each step, it divides the sequence into two equal sub-sequences and continuest searching in only one of them. This page provides an accurate description."
   ]
  },
  {
   "cell_type": "markdown",
   "id": "1f9623e1",
   "metadata": {},
   "source": [
    "## Formal description"
   ]
  },
  {
   "cell_type": "markdown",
   "id": "2af423c9",
   "metadata": {},
   "source": [
    "Suppose you are processing the sequence: $x_1, x_2, \\ldots, x_{k-1}, x_k, x_{k+1}, \\ldots, x_{n-1}, x_n$. The element you are trying to find is $x_k$.\n",
    "\n",
    "In this context, the fact that the sequence is ordered means that one can define a function $f$ such that it takes the value 0 for all elements before $x_k$ and 1 for all elements from $x_k$ onward. More formally,\n",
    "\n",
    "$$\n",
    "f(x_i) = \n",
    "\\begin{cases}\n",
    "0, & i \\in \\{1, \\ldots, k-1\\} \\\\[6pt]\n",
    "1, & i \\in \\{k, \\ldots, n\\}.\n",
    "\\end{cases}\n",
    "$$"
   ]
  },
  {
   "cell_type": "markdown",
   "id": "9ef56cf9",
   "metadata": {},
   "source": [
    "Define variables that indicate the beginning and the end of the interval beingconsidered: $l_0 = 0, r_0 = n$.\n",
    "\n",
    "At each step, the middle point of the interval is counted: $p_j = \\left\\lfloor \\frac{l_j + r_j}{2} \\right\\rfloor$. Depending on the value of $f(x_{p_j})$, we decide whether to move $l$ or $r$:"
   ]
  },
  {
   "cell_type": "markdown",
   "id": "f5c7df8e",
   "metadata": {},
   "source": [
    "$$r_j =\n",
    "\\begin{cases}\n",
    "p_{j - 1}, f(x_{p_j}) = 1 \\\\\n",
    "r_{j - 1}, f(x_{p_j}) = 0.\n",
    "\\end{cases}\n",
    "$$\n",
    "\n",
    "$$\n",
    "l_j =\n",
    "\\begin{cases}\n",
    "p_{j - 1}, f(x_{p_j}) = 0 \\\\\n",
    "l_{j - 1}, f(x_{p_j}) = 1.\n",
    "\\end{cases}\n",
    "$$"
   ]
  },
  {
   "cell_type": "markdown",
   "id": "ba5d0c3d",
   "metadata": {},
   "source": [
    "Procedure continues until $l_j + 1 < r_j$. The fact $l_j + 1 = r_j$ garantees that $x_{r_j} = x_k$"
   ]
  },
  {
   "cell_type": "markdown",
   "id": "c4b8fa36",
   "metadata": {},
   "source": [
    "**Note:** A very common mistake in binary search is to forget to add $1$ in the stopping condition $l_j + 1 < r_j$. Omitting it can lead to an infinite loop. At some point, you may reach the situation where $l_j = k - 1$ and $r_j = k$. Then:\n",
    "\n",
    "$$\n",
    "p_j = \\left\\lfloor \\frac{l_j + r_j}{2} \\right\\rfloor \n",
    "= \\left\\lfloor \\frac{(k - 1) + k}{2} \\right\\rfloor \n",
    "= \\left\\lfloor k - 1 + 0.5 \\right\\rfloor \n",
    "= k - 1.\n",
    "$$\n",
    "\n",
    "So,\n",
    "\n",
    "$$\n",
    "f(x_{k - 1}) = 0 \\quad \\Longrightarrow \\quad r_{j + 1} = r_j, \n",
    "\\quad l_{j + 1} = p_j = k - 1 = l_j.\n",
    "$$\n",
    "\n",
    "As a result, $r_j = r_{j - 1}$ and $l_j = l_{j - 1}$ — the search interval does not shrink, and the loop runs forever."
   ]
  }
 ],
 "metadata": {
  "language_info": {
   "name": "python"
  }
 },
 "nbformat": 4,
 "nbformat_minor": 5
}
