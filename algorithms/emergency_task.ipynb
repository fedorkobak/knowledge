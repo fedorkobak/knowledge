{
 "cells": [
  {
   "cell_type": "markdown",
   "id": "47d2dccf-b1d6-446a-84b3-c51dbdb962cd",
   "metadata": {},
   "source": [
    "# Emergency task\n",
    "\n",
    "I face this task while solving the Yandex \"<a href=\"https://yandex.ru/yaintern/algorithm-training_1\">algorithms trainings part one</a>\" course on home work for first lesson."
   ]
  },
  {
   "cell_type": "markdown",
   "id": "50458f47-33fa-459e-b4aa-853d6069dcfb",
   "metadata": {},
   "source": [
    "## Problem condition"
   ]
  },
  {
   "cell_type": "markdown",
   "id": "d23a0df2-813a-405a-93be-92442bb75984",
   "metadata": {},
   "source": [
    "An ambulance crew went on a call to a segregated neighbourhood. Unfortunately, when the dispatcher received the call, he only had time to write down the house address and the number of flat $K_1$, and then the connection was cut off. However, he remembered that at the same house address some time ago an ambulance had travelled to flat $K_2$, which is located in entrance $P_2$ on floor $N_2$. It is known that there are $M$ floors in the house and the number of flats on each landing is the same. Write a programme that calculates the number of staircase $P_1$ and the number of floor $N_1$ of flat $K_1$.\n",
    "\n",
    "Input format $K_1$, $M$, $K_2$, $P_2$, $N_2$ one after the other. All positive.\n",
    "\n",
    "The programme returns $N_1$ and $P_1$.\n",
    "\n",
    "If there are multiple options for a result, you must return $0$.\n",
    "\n",
    "If the numbers passed are wrong, you must return -1 -1."
   ]
  },
  {
   "cell_type": "markdown",
   "id": "3306cc40-a25f-4b3d-8e77-226b29431b1f",
   "metadata": {},
   "source": [
    "## Theoretical ideas"
   ]
  },
  {
   "cell_type": "markdown",
   "id": "f3206d9d-1eaf-47af-bf79-7a7f9147441e",
   "metadata": {},
   "source": [
    "The task was quite difficult (I wasn't the only one). Therefore, I will describe some theoretical calculations that will help in solving it.\n",
    "\n",
    "Sometimes I use preudographic schemes for clarity, where each row is a staircase, `[n]` is an apartment with the number $n$, the symbol `|` separates different staircases. So 2 saved buildings with 2 staircases and 2 flats on the floor will look like this:"
   ]
  },
  {
   "cell_type": "markdown",
   "id": "1f79ec0f-7749-40fe-9e01-38796de8f482",
   "metadata": {},
   "source": [
    "$M*(P_2-1)$ - number of stairwells on all previous staircases."
   ]
  },
  {
   "cell_type": "markdown",
   "id": "fa618422-aba0-456f-88d5-458c514db63d",
   "metadata": {},
   "source": [
    "**The number of stairwells in flat 2, including all the staircases of the previous staircases**, which we will call $T_2$, can be calculated as follows:\n",
    "\n",
    "$$T_2 = M*(P_2-1)+N_2$$"
   ]
  },
  {
   "cell_type": "markdown",
   "id": "afa55dda-0998-41c5-8e03-d39a5c918a03",
   "metadata": {},
   "source": [
    "But consider case $K_1=11$, $M=10$, $K_2=2$, $P_2=3$, $N_2=3$.\n",
    "\n",
    "$T_2 = 10*2 + 3 = 23$\n",
    "\n",
    "And what have we got? A 2nd flat on the 23rd stairwell? No sense! There must be at least one flat on each stairwell, which can be written formally as $T_2 < K_2$.\n",
    "\n",
    "So if the condition $T_2 < K_2$ isn't complete, we have to return -1, -1."
   ]
  },
  {
   "cell_type": "markdown",
   "id": "654a0f5b-0117-4565-8c21-c5f401140ca0",
   "metadata": {},
   "source": [
    "Let $G$ **be the number of dwellings on a stairwell** - actually it's a crusical number for our task."
   ]
  },
  {
   "cell_type": "markdown",
   "id": "af1eb8d7-5d4e-468f-ba34-f91fbf4039b4",
   "metadata": {},
   "source": [
    "Let's express a pair of quantities with this number:\n",
    "\n",
    "- $T_2*G$ - number of the last flat on the same staircase as flat 2 (it could actually be flat 2);\n",
    "- $(T_2-1)*G$ - number of the last flat on the previous staircase as flat 2."
   ]
  },
  {
   "cell_type": "markdown",
   "id": "bb842846-c27f-44c3-bbcd-8f0fce9742c4",
   "metadata": {},
   "source": [
    "So $G$ is the integer that must satisfy the following conditions:\n",
    "\n",
    "$$\n",
    "\\begin{cases}\n",
    "T_2*G \\geq K_2; \\\\\n",
    "(T_2-1)*G < K_2.\n",
    "\\end{cases}\n",
    "$$"
   ]
  },
  {
   "cell_type": "markdown",
   "id": "bbe4c58e-2c81-49f9-8390-20bc2cb5ec82",
   "metadata": {},
   "source": [
    "Now let us solve the inequalities with respect to $G$:\n",
    "\n",
    "$$\n",
    "\\begin{cases}\n",
    "G\\geq \\frac{K_2}{T_2}; \\\\\n",
    "G < \\frac{K_2}{T_2 - 1}.\n",
    "\\end{cases}\n",
    "$$"
   ]
  },
  {
   "cell_type": "markdown",
   "id": "11c20aeb-5536-4d18-8a98-d03f14cb162b",
   "metadata": {},
   "source": [
    "So $G$ can take all integers between $G_{min}=\\lceil K_2/T_2 \\rceil$ and $G_{max}=\\lceil K_2/(T_2 - 1) \\rceil - 1$, including both. "
   ]
  },
  {
   "cell_type": "markdown",
   "id": "a5d51183-2311-412a-88b3-332f3c3f6358",
   "metadata": {},
   "source": [
    "But there are some cases where we need to consider the values entered:\n",
    "\n",
    "- $G_{min}=G_{max}$ - the best option - we have only one possible $G$ and as a result of only one possible and guaranteed solution;\n",
    "- $G_{min} < G_{max}$ means that there are several possible numbers of flats on a stairwell. But actually that doesn't mean we can't unambiguously define $P_1$ or $N_1$ or even both of them. Read more in one of the next following subsections;\n",
    "- $T_2 = 1$ makes $G_{max}$ is underfined. The algebra here just follows the logic of life (as always, really). $T_2-1=0$, which makes the denominator in $G_{max}$ equal to zero. And just think - if flat 2 is on the first staircase, you won't understand how many flats are on the staircase, because there can be any number of flats on the same staircase behind $K_2$. But you have to remember that if $K_1<K_2$ we don't need to find $G_{max}$ - $K_1$ is on the first staircase as well as $K_2$;\n",
    "- $G_{min} > G_{max}$ - means that apartment number $K_2$ on stariwell $T_2$ can't exist. Read more in one of the following subsections;\n",
    "\n",
    "Now suppose we have chosen some value for $G$. We can calculate solutions for this G using formulas:\n",
    "\n",
    "$$T_1 = \\lceil K_1/G \\rceil \\tag{1}$$ \n",
    "$$P_1=\\lceil T_1/M \\rceil \\tag{2}$$\n",
    "$$N_1 = T_1 - (P_1-1) \\tag{3}M$$"
   ]
  },
  {
   "cell_type": "markdown",
   "id": "da30f3b2-b574-4aa6-8ca2-af67ddaf484c",
   "metadata": {},
   "source": [
    "### $G_{min} < G_{max}$"
   ]
  },
  {
   "cell_type": "markdown",
   "id": "9142a84a-b558-479e-85d8-13f212c55316",
   "metadata": {},
   "source": [
    "Probably the easiest case I foud: $M=3, K_2 = 4, P_2 = 1, N_2 = 2$.\n",
    "\n",
    "In these conditions there are two possible option for number of flats on the straiwell.\n",
    "\n",
    "If $G=2$, apartment with number $K_2=4$ can be the second apartment on the second staircase. As in the pseudographic scheme below:\n",
    "\n",
    "```\n",
    "[5][6] | [11][12] | [17][18]\n",
    "[3][4] | [ 9][10] | [15][16]\n",
    "[1][2] | [ 7][ 8] | [13][14]\n",
    "```\n",
    "But even if $G=3$, such an apartment still exists as the first apartment of the second stairwell:\n",
    "```\n",
    "[7][8][9] | [16][17][18] | [25][26][27]\n",
    "[4][5][6] | [13][14][15] | [22][23][24]\n",
    "[1][2][3] | [10][11][12] | [19][20][21]\n",
    "```"
   ]
  },
  {
   "cell_type": "markdown",
   "id": "e717e287-dc97-439f-86b8-26d029974f48",
   "metadata": {},
   "source": [
    "Using different values of G, we can calculate $P_1$ in $N_1$ using formulas $(1), (2), (3)$, assuming there are $G$ apartments on the stairwell."
   ]
  },
  {
   "cell_type": "markdown",
   "id": "28cb2cda-8856-4623-a191-881e589cb6b3",
   "metadata": {},
   "source": [
    "So from this point everything depends on $K_1$ - in some cases the problem can be solved unambiguously, in others there may be some uncertainty."
   ]
  },
  {
   "cell_type": "markdown",
   "id": "2c155654-ba6c-4bf1-a360-dd54b7bf7a32",
   "metadata": {},
   "source": [
    "**Option1 - one solution.** Suppose $K_1=2$ in case both cases $N_1=1, P_1=1$."
   ]
  },
  {
   "cell_type": "markdown",
   "id": "963a5bb7-8412-43cb-a9c0-6304ffd5b975",
   "metadata": {},
   "source": [
    "**Option2 - uncertain floor.** Suppose $K_1=6$ in case $G = 2 \\rightarrow N_1 = 3$, but in case $G=3\\rightarrow N_1 = 2$, but the number of stairs in both cases take the same number $P_1 = 1$. So the answer must be $N_1=0$, $P_1=1$."
   ]
  },
  {
   "cell_type": "markdown",
   "id": "10193064-fcc1-4821-a310-ea66ad15cbed",
   "metadata": {},
   "source": [
    "**Option3 - uncertain both.** Suppose $K_1=9$ in case $G=2 \\rightarrow N_1=2, P_1=2$, but in case $G=3 \\rightarrow N_1=1, P_1=3$. So both $N1$ and $P_1$ take different values in different cases. So the answer must be $N_1=0$, $P_1=0$."
   ]
  },
  {
   "cell_type": "markdown",
   "id": "58dbcc86-69d4-4b4f-a200-0a25934c931a",
   "metadata": {},
   "source": [
    "**Option4 - uncertain staircase.** Suppose $K_1=15$, in case $G=2 \\rightarrow P_1=2$ but in case $G_2=3 \\rightarrow P_1=3$ but the floor can only be determined one way $N_1 = 2$. So the final answer must be $N_1=2$ and $P_1=0$."
   ]
  },
  {
   "cell_type": "markdown",
   "id": "835538a9-becd-4e6d-b7ac-d8acd125a4fa",
   "metadata": {},
   "source": [
    "So the best solution I have found so far is to try all possible values of $G$ and see what values of $N_1$ and $P_1$ we get."
   ]
  },
  {
   "cell_type": "markdown",
   "id": "5f464dca-2dff-4db7-8d63-7f36e8f41066",
   "metadata": {},
   "source": [
    "### $G_{min} > G_{max}$"
   ]
  },
  {
   "cell_type": "markdown",
   "id": "c5a53443-7d4c-4cdd-9493-8e00aa638f35",
   "metadata": {},
   "source": [
    "Some combinations for $K_2$, $N_2$, $P_2$ are impossible - some flats can't exist on some stairwells. For example flat with number $K_2 = 6$ can't exist on stairwell with number $T_2 = 4$. The simpliest example here is $M=10$, $K_2=6$, $N_2=4$, $P_2=1$.\n",
    "\n",
    "Suppose $G=1$ then we will have schema:\n",
    "\n",
    "```\n",
    "[6]\n",
    "[5]\n",
    "[4]\n",
    "[3]\n",
    "[2]\n",
    "[1]\n",
    "```\n",
    "\n",
    "So apartment six is on the sixth floor, which is more than the specified $N_2=4$.\n",
    "\n",
    "Ok let's try $G=2$. Schema is below:\n",
    "\n",
    "```\n",
    "[5][6]\n",
    "[3][4]\n",
    "[1][2]\n",
    "```\n",
    "\n",
    "So here is a flat with known parameters on the 3rd floor, which is less than the given $N_2=4$. And increasing $G$ will only make things worse.\n",
    "\n",
    "There are no options for $G$ that satisfy the given conditions."
   ]
  },
  {
   "cell_type": "markdown",
   "id": "8c49f1c6-b7b6-44e7-9dfa-66d6d26ebec1",
   "metadata": {},
   "source": [
    "### Solution description"
   ]
  },
  {
   "cell_type": "markdown",
   "id": "b8cc26ac-edc6-4406-a805-b0a507fecf0d",
   "metadata": {},
   "source": [
    "Finally let's describe final solution.\n",
    "\n",
    "- $M < N_2$ means that the second apartment is on a higher floor than the one in the house under consideration - so we have to return (-1, -1) in this case. I'm not sure about this point, maybe it's always $G_{max} < G_{min}$ in case $M < N_2$ - it has to be proved or rejected;\n",
    "- Compute $T_2 = M*(P_2-1)+N_2$;\n",
    "\n",
    "    - If $T_2 < K_2$ we have to return (-1, -1);\n",
    "    - If $T_2=1$:\n",
    "\n",
    "      - If $K_1 \\leq K_2$ return (1, 1);\n",
    "      - If $K_1 > K_2$ return (-1, -1);\n",
    "- Compute $G_{min}=\\lceil K_2/T_2 \\rceil$ and $G_{max}=\\lceil K_2/(T_2 - 1) \\rceil - 1$;\n",
    "    - If $G_{min} < G_{max}$;\n",
    "        - We need to try all options for $G = \\overline{G_{min}, G_{max}}$ and compute follwoing numbers:\n",
    "        - $T_1 = \\lceil K_1/G \\rceil$;\n",
    "        - $P_1=\\lceil T_1/M \\rceil$;\n",
    "        - $N_1 = T_1 - (P_1-1)M$;\n",
    "        - If for each $G$ we got same values of $P_1$ and $N_1$ - return them;\n",
    "        - If for different $G$ there are different $P_1$ or $N_1$ or both, we have to retrun 0 for the corresponding value;\n",
    "    - If $G_{min} \\geq G_{max}$ return (-1, -1)."
   ]
  },
  {
   "cell_type": "markdown",
   "id": "7d367ff6-de7a-4f58-a58a-be7d772e1b21",
   "metadata": {},
   "source": [
    "## Python implementation"
   ]
  },
  {
   "cell_type": "markdown",
   "id": "b2c84d67-31ca-46e7-8ca4-0c39afd72d92",
   "metadata": {},
   "source": [
    "The program from the following cell describes the python implementation of the task. The input to the program is $K_1, M, K_2, P_2, N_2$ in one line, separated by spaces. The output of the programme is $P_1$, $N_1$ separated by a space."
   ]
  },
  {
   "cell_type": "code",
   "execution_count": 8,
   "id": "fb11f7ed-a09f-4009-b4dd-a5050ff9b197",
   "metadata": {},
   "outputs": [
    {
     "name": "stdout",
     "output_type": "stream",
     "text": [
      "Overwriting algo_sols/task1_5.py\n"
     ]
    }
   ],
   "source": [
    "%%writefile algo_sols/task1_5.py\n",
    "from math import ceil\n",
    "\n",
    "def get_P_N(K, G, M):\n",
    "    '''\n",
    "    Calculate the number of stairs (P) and the floor (N)\n",
    "    of the flat using information about it's number (K)\n",
    "    number of flats on the stairwell (G) and number\n",
    "    of floors in the building.\n",
    "\n",
    "    Paramters\n",
    "    ---------\n",
    "    G : int \n",
    "        number of flats on the stairwell'\n",
    "    flatno : int \n",
    "        number of the flat;\n",
    "    M : int \n",
    "        numver of flats in the house;\n",
    "\n",
    "    Returns\n",
    "    ---------\n",
    "    P : int \n",
    "        staircase number for \n",
    "        the apartment in question;\n",
    "    M : int\n",
    "        floor number of the flat.\n",
    "    '''\n",
    "    # The number of stairwells, \n",
    "    # including all the staircases \n",
    "    # of the previous staircases\n",
    "    T = ceil(K/G)\n",
    "    \n",
    "    P = ceil(T/M)\n",
    "    N = T - (P-1)*M\n",
    "    \n",
    "    return P, N\n",
    "\n",
    "def potential_transformation(curr, pot):\n",
    "    '''\n",
    "    Transformate potential value to real value. \n",
    "    If current value isn't defined we need to replace\n",
    "    it with potential value. \n",
    "    If there is current value and it differs from\n",
    "    potential value we have uncertainty that means\n",
    "    that we need to replace current value with 0.\n",
    "\n",
    "    Parameters\n",
    "    ----------\n",
    "    curr : int\n",
    "        current value;\n",
    "    pot : int\n",
    "        potential value;\n",
    "\n",
    "    Returns\n",
    "    ----------\n",
    "    out : int\n",
    "        new current value.\n",
    "    '''\n",
    "    if not curr:\n",
    "        return pot\n",
    "    elif curr!=pot:\n",
    "        return 0\n",
    "    return curr\n",
    "        \n",
    "def sol(K1, M, K2, P2, N2):\n",
    "\n",
    "    # if second flat is higher\n",
    "    # than possible\n",
    "    if N2 > M:\n",
    "        return (-1, -1)\n",
    "    \n",
    "    # The number of stairwells in flat 2, \n",
    "    # including all the staircases of the \n",
    "    # previous staircases\n",
    "    T2 = M*(P2 - 1) + N2\n",
    "\n",
    "    # one more impossible case\n",
    "    if T2 > K2:\n",
    "        return (-1, -1)\n",
    "\n",
    "    P1 = None\n",
    "    N1 = None\n",
    "\n",
    "    if T2 > 1:\n",
    "        G_min = ceil(K2/T2)\n",
    "        # In the description I wrote\n",
    "        # formula G_max = ceil(K2/(T2-1))-1\n",
    "        # but in the Python3 implementation it's\n",
    "        # easier to use such formula - because\n",
    "        # the `range` function, which doesn't include the\n",
    "        # last value.\n",
    "        G_max = ceil(K2/(T2-1))\n",
    "\n",
    "        # Here is greater or equal because if\n",
    "        # we didn't subtract one from G_max\n",
    "        if G_min >= G_max:\n",
    "            return -1, -1\n",
    "\n",
    "        for G in range(G_min, G_max):\n",
    "            # Calculate such values of P and N\n",
    "            # that satisfy K1, G and M\n",
    "            # but are not yet potential values\n",
    "            pot_P1, pot_N1 = get_P_N(K1, G, M)\n",
    "            \n",
    "            # if P1 is not defined yet we fill it\n",
    "            # with new value\n",
    "            P1 = potential_transformation(P1, pot_P1)\n",
    "            N1 = potential_transformation(N1, pot_N1)\n",
    "            \n",
    "    # The following cases are checked\n",
    "    # when T2 = 1\n",
    "    elif K1 <= K2:\n",
    "        # This case is used when\n",
    "        # the second flat is on the first floor\n",
    "        # of the first staircase and\n",
    "        # and the first flat has a lower number.\n",
    "        # All the above guarantees that \n",
    "        # the first flat is on the first floor of the \n",
    "        # of the first staircase.\n",
    "        N1 = 1; P1 = 1\n",
    "    elif K2 > K1: \n",
    "        # This case is used when\n",
    "        # the second flat is on the first floor\n",
    "        # of the first staircase and\n",
    "        # the first flat has a greater number.\n",
    "        # We can't define how many flats there are\n",
    "        # above the second flat on the same\n",
    "        # staircase, so the parameters of the \n",
    "        # first flat cannot be defined.\n",
    "        N1=0;P1=0\n",
    "    if M==1 and N1==0:\n",
    "        # If we have decided in a previous step that\n",
    "        # that number of floor is underdefined. If there is\n",
    "        # only one floor in the building, we can be\n",
    "        # be sure that the first apartment is on the first floor.\n",
    "        N1 = 1\n",
    "\n",
    "    return P1, N1\n",
    "\n",
    "if __name__ == \"__main__\":\n",
    "    print(\" \".join(map(str,\n",
    "        sol(*map(int, input().split(\" \")))\n",
    "    )))"
   ]
  },
  {
   "cell_type": "markdown",
   "id": "504785c4-5466-4d32-a6aa-dd03d4a8e6f7",
   "metadata": {},
   "source": [
    "Here is some unittests for program in the previous cell:"
   ]
  },
  {
   "cell_type": "code",
   "execution_count": 9,
   "id": "b9a5ca28-5c10-49bd-9e75-6ae9a44b85ec",
   "metadata": {},
   "outputs": [
    {
     "name": "stdout",
     "output_type": "stream",
     "text": [
      "Overwriting algo_sols/task1_5_test.py\n"
     ]
    }
   ],
   "source": [
    "%%writefile algo_sols/task1_5_test.py\n",
    "import unittest\n",
    "from task1_5 import sol\n",
    "\n",
    "class Test(unittest.TestCase):\n",
    "    def test(self):\n",
    "        cases = {\n",
    "            (89, 20, 41, 1, 11) : (2, 3),\n",
    "\n",
    "            # the known flat on the first cell \n",
    "            # but there's only one floor so it's safe \n",
    "            # you can go ahead and\n",
    "            (11, 1, 1, 1, 1) : (0, 1), \n",
    "\n",
    "            # the known flat in the second entrance\n",
    "            # of a one-storey building\n",
    "            (11, 1, 3, 2, 1) : (6, 1),\n",
    "\n",
    "            (3, 2, 2, 2, 1) : (-1, -1),\n",
    "            (11, 2, 1, 1, 1) : (0, 0),\n",
    "            (3, 3, 5, 1, 1) : (1, 1),\n",
    "            (15, 10, 31, 4, 20) : (-1, -1),\n",
    "\n",
    "            # N2>M flat is higher than maximum floor\n",
    "            (11, 1, 5, 1, 2) : (-1, -1),\n",
    "            # G_min > G_max\n",
    "            (13, 2, 6, 2, 2) : (-1, -1)\n",
    "        }\n",
    "\n",
    "        for k, c in cases.items():\n",
    "            self.assertEqual(sol(*k), c, msg=str(k))"
   ]
  },
  {
   "cell_type": "code",
   "execution_count": 10,
   "id": "186b2429-b037-401d-92c0-1c3c5e78e0a7",
   "metadata": {},
   "outputs": [
    {
     "name": "stderr",
     "output_type": "stream",
     "text": [
      "F\n",
      "======================================================================\n",
      "FAIL: test (task1_5_test.Test)\n",
      "----------------------------------------------------------------------\n",
      "Traceback (most recent call last):\n",
      "  File \"/home/fedor/Documents/knowledge/algorithms/algo_sols/task1_5_test.py\", line 30, in test\n",
      "    self.assertEqual(sol(*k), c, msg=str(k))\n",
      "AssertionError: Tuples differ: (None, None) != (0, 1)\n",
      "\n",
      "First differing element 0:\n",
      "None\n",
      "0\n",
      "\n",
      "- (None, None)\n",
      "+ (0, 1) : (11, 1, 1, 1, 1)\n",
      "\n",
      "----------------------------------------------------------------------\n",
      "Ran 1 test in 0.001s\n",
      "\n",
      "FAILED (failures=1)\n"
     ]
    },
    {
     "ename": "CalledProcessError",
     "evalue": "Command 'b'cd algo_sols\\npython3 -m unittest task1_5_test\\n'' returned non-zero exit status 1.",
     "output_type": "error",
     "traceback": [
      "\u001b[0;31m---------------------------------------------------------------------------\u001b[0m",
      "\u001b[0;31mCalledProcessError\u001b[0m                        Traceback (most recent call last)",
      "Cell \u001b[0;32mIn[10], line 1\u001b[0m\n\u001b[0;32m----> 1\u001b[0m \u001b[43mget_ipython\u001b[49m\u001b[43m(\u001b[49m\u001b[43m)\u001b[49m\u001b[38;5;241;43m.\u001b[39;49m\u001b[43mrun_cell_magic\u001b[49m\u001b[43m(\u001b[49m\u001b[38;5;124;43m'\u001b[39;49m\u001b[38;5;124;43mbash\u001b[39;49m\u001b[38;5;124;43m'\u001b[39;49m\u001b[43m,\u001b[49m\u001b[43m \u001b[49m\u001b[38;5;124;43m'\u001b[39;49m\u001b[38;5;124;43m'\u001b[39;49m\u001b[43m,\u001b[49m\u001b[43m \u001b[49m\u001b[38;5;124;43m'\u001b[39;49m\u001b[38;5;124;43mcd algo_sols\u001b[39;49m\u001b[38;5;130;43;01m\\n\u001b[39;49;00m\u001b[38;5;124;43mpython3 -m unittest task1_5_test\u001b[39;49m\u001b[38;5;130;43;01m\\n\u001b[39;49;00m\u001b[38;5;124;43m'\u001b[39;49m\u001b[43m)\u001b[49m\n",
      "File \u001b[0;32m~/.local/lib/python3.10/site-packages/IPython/core/interactiveshell.py:2430\u001b[0m, in \u001b[0;36mInteractiveShell.run_cell_magic\u001b[0;34m(self, magic_name, line, cell)\u001b[0m\n\u001b[1;32m   2428\u001b[0m \u001b[38;5;28;01mwith\u001b[39;00m \u001b[38;5;28mself\u001b[39m\u001b[38;5;241m.\u001b[39mbuiltin_trap:\n\u001b[1;32m   2429\u001b[0m     args \u001b[38;5;241m=\u001b[39m (magic_arg_s, cell)\n\u001b[0;32m-> 2430\u001b[0m     result \u001b[38;5;241m=\u001b[39m \u001b[43mfn\u001b[49m\u001b[43m(\u001b[49m\u001b[38;5;241;43m*\u001b[39;49m\u001b[43margs\u001b[49m\u001b[43m,\u001b[49m\u001b[43m \u001b[49m\u001b[38;5;241;43m*\u001b[39;49m\u001b[38;5;241;43m*\u001b[39;49m\u001b[43mkwargs\u001b[49m\u001b[43m)\u001b[49m\n\u001b[1;32m   2432\u001b[0m \u001b[38;5;66;03m# The code below prevents the output from being displayed\u001b[39;00m\n\u001b[1;32m   2433\u001b[0m \u001b[38;5;66;03m# when using magics with decodator @output_can_be_silenced\u001b[39;00m\n\u001b[1;32m   2434\u001b[0m \u001b[38;5;66;03m# when the last Python token in the expression is a ';'.\u001b[39;00m\n\u001b[1;32m   2435\u001b[0m \u001b[38;5;28;01mif\u001b[39;00m \u001b[38;5;28mgetattr\u001b[39m(fn, magic\u001b[38;5;241m.\u001b[39mMAGIC_OUTPUT_CAN_BE_SILENCED, \u001b[38;5;28;01mFalse\u001b[39;00m):\n",
      "File \u001b[0;32m~/.local/lib/python3.10/site-packages/IPython/core/magics/script.py:153\u001b[0m, in \u001b[0;36mScriptMagics._make_script_magic.<locals>.named_script_magic\u001b[0;34m(line, cell)\u001b[0m\n\u001b[1;32m    151\u001b[0m \u001b[38;5;28;01melse\u001b[39;00m:\n\u001b[1;32m    152\u001b[0m     line \u001b[38;5;241m=\u001b[39m script\n\u001b[0;32m--> 153\u001b[0m \u001b[38;5;28;01mreturn\u001b[39;00m \u001b[38;5;28;43mself\u001b[39;49m\u001b[38;5;241;43m.\u001b[39;49m\u001b[43mshebang\u001b[49m\u001b[43m(\u001b[49m\u001b[43mline\u001b[49m\u001b[43m,\u001b[49m\u001b[43m \u001b[49m\u001b[43mcell\u001b[49m\u001b[43m)\u001b[49m\n",
      "File \u001b[0;32m~/.local/lib/python3.10/site-packages/IPython/core/magics/script.py:305\u001b[0m, in \u001b[0;36mScriptMagics.shebang\u001b[0;34m(self, line, cell)\u001b[0m\n\u001b[1;32m    300\u001b[0m \u001b[38;5;28;01mif\u001b[39;00m args\u001b[38;5;241m.\u001b[39mraise_error \u001b[38;5;129;01mand\u001b[39;00m p\u001b[38;5;241m.\u001b[39mreturncode \u001b[38;5;241m!=\u001b[39m \u001b[38;5;241m0\u001b[39m:\n\u001b[1;32m    301\u001b[0m     \u001b[38;5;66;03m# If we get here and p.returncode is still None, we must have\u001b[39;00m\n\u001b[1;32m    302\u001b[0m     \u001b[38;5;66;03m# killed it but not yet seen its return code. We don't wait for it,\u001b[39;00m\n\u001b[1;32m    303\u001b[0m     \u001b[38;5;66;03m# in case it's stuck in uninterruptible sleep. -9 = SIGKILL\u001b[39;00m\n\u001b[1;32m    304\u001b[0m     rc \u001b[38;5;241m=\u001b[39m p\u001b[38;5;241m.\u001b[39mreturncode \u001b[38;5;129;01mor\u001b[39;00m \u001b[38;5;241m-\u001b[39m\u001b[38;5;241m9\u001b[39m\n\u001b[0;32m--> 305\u001b[0m     \u001b[38;5;28;01mraise\u001b[39;00m CalledProcessError(rc, cell)\n",
      "\u001b[0;31mCalledProcessError\u001b[0m: Command 'b'cd algo_sols\\npython3 -m unittest task1_5_test\\n'' returned non-zero exit status 1."
     ]
    }
   ],
   "source": [
    "%%bash\n",
    "cd algo_sols\n",
    "python3 -m unittest task1_5_test"
   ]
  }
 ],
 "metadata": {
  "kernelspec": {
   "display_name": "Python 3 (ipykernel)",
   "language": "python",
   "name": "python3"
  },
  "language_info": {
   "codemirror_mode": {
    "name": "ipython",
    "version": 3
   },
   "file_extension": ".py",
   "mimetype": "text/x-python",
   "name": "python",
   "nbconvert_exporter": "python",
   "pygments_lexer": "ipython3",
   "version": "3.10.12"
  }
 },
 "nbformat": 4,
 "nbformat_minor": 5
}
