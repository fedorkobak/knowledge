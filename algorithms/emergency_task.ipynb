{
 "cells": [
  {
   "cell_type": "markdown",
   "id": "47d2dccf-b1d6-446a-84b3-c51dbdb962cd",
   "metadata": {},
   "source": [
    "# Emergency task\n",
    "\n",
    "I face this task while solving the Yandex \"<a href=\"https://yandex.ru/yaintern/algorithm-training_1\">algorithms trainings part one</a>\" course on home work for first lesson."
   ]
  },
  {
   "cell_type": "markdown",
   "id": "50458f47-33fa-459e-b4aa-853d6069dcfb",
   "metadata": {},
   "source": [
    "## Problem condition"
   ]
  },
  {
   "cell_type": "markdown",
   "id": "d23a0df2-813a-405a-93be-92442bb75984",
   "metadata": {},
   "source": [
    "An ambulance crew went on a call to a segregated neighbourhood. Unfortunately, when the dispatcher received the call, he only had time to write down the house address and the number of flat $K_1$, and then the connection was cut off. However, he remembered that at the same house address some time ago an ambulance had travelled to flat $K_2$, which is located in entrance $P_2$ on floor $N_2$. It is known that there are $M$ floors in the house and the number of flats on each landing is the same. Write a programme that calculates the number of staircase $P_1$ and the number of floor $N_1$ of flat $K_1$.\n",
    "\n",
    "Input format $K_1$, $M$, $K_2$, $P_2$, $N_2$ one after the other. All positive.\n",
    "\n",
    "The programme returns $N_1$ and $P_1$.\n",
    "\n",
    "If there are multiple options for a result, you must return $0$.\n",
    "\n",
    "If the numbers passed are wrong, you must return -1 -1."
   ]
  },
  {
   "cell_type": "markdown",
   "id": "3306cc40-a25f-4b3d-8e77-226b29431b1f",
   "metadata": {},
   "source": [
    "## Theoretical ideas"
   ]
  },
  {
   "cell_type": "markdown",
   "id": "f3206d9d-1eaf-47af-bf79-7a7f9147441e",
   "metadata": {},
   "source": [
    "The task was quite difficult (I wasn't the only one). Therefore, I will describe some theoretical calculations that will help in solving it."
   ]
  },
  {
   "cell_type": "markdown",
   "id": "9a668f33-795a-4cba-a643-e282f4bd99c0",
   "metadata": {},
   "source": [
    "### Number fo strairwell for flat 2"
   ]
  },
  {
   "cell_type": "markdown",
   "id": "1f79ec0f-7749-40fe-9e01-38796de8f482",
   "metadata": {},
   "source": [
    "$M*(P_2-1)$ - number of stairwells on all previous staircases."
   ]
  },
  {
   "cell_type": "markdown",
   "id": "fa618422-aba0-456f-88d5-458c514db63d",
   "metadata": {},
   "source": [
    "$T_2 = M*(P_2-1)+N_2$ - number of stairwell of flat 2, including all stairwells of previous staircases."
   ]
  },
  {
   "cell_type": "markdown",
   "id": "afa55dda-0998-41c5-8e03-d39a5c918a03",
   "metadata": {},
   "source": [
    "But consider case $K_1=11$, $M=10$, $K_2=2$, $P_2=3$, $N_2=3$.\n",
    "\n",
    "$T_2 = 10*2 + 3 = 23$\n",
    "\n",
    "And what have we got? A 2nd flat on the 23rd stairwell? No sense! There must be at least one flat on each stairwell, which can be written formally as $T_2 < K_2$.\n",
    "\n",
    "So if the condition $T_2 < K_2$ isn't complete, we have to return -1, -1."
   ]
  },
  {
   "cell_type": "markdown",
   "id": "7fd1b1f5-aa45-405a-a475-bb7ace5f752c",
   "metadata": {},
   "source": [
    "### Number of dwelling on stairwell"
   ]
  },
  {
   "cell_type": "markdown",
   "id": "654a0f5b-0117-4565-8c21-c5f401140ca0",
   "metadata": {},
   "source": [
    "Let $G$ be the number of dwellings on a stairwell - actually it's a crusical number for our task."
   ]
  },
  {
   "cell_type": "markdown",
   "id": "af1eb8d7-5d4e-468f-ba34-f91fbf4039b4",
   "metadata": {},
   "source": [
    "Let's express a pair of quantities with this number:\n",
    "\n",
    "- $T_2*G$ - number of the last flat on the same staircase as flat 2 (it could actually be flat 2);\n",
    "- $(T_2-1)*G$ - number of the last flat on the previous staircase as flat 2."
   ]
  },
  {
   "cell_type": "markdown",
   "id": "bb842846-c27f-44c3-bbcd-8f0fce9742c4",
   "metadata": {},
   "source": [
    "So $G$ is the integer that must satisfy the following conditions:\n",
    "\n",
    "$$\n",
    "\\begin{cases}\n",
    "T_2*G \\geq N_2; \\\\\n",
    "(T_2-1)*G < N_2.\n",
    "\\end{cases}\n",
    "$$"
   ]
  },
  {
   "cell_type": "markdown",
   "id": "769e6f1c-d153-4d43-aed6-3fe442ce9d48",
   "metadata": {},
   "source": [
    "Now let us solve the inequalities with respect to $G$:"
   ]
  }
 ],
 "metadata": {
  "kernelspec": {
   "display_name": "Python 3 (ipykernel)",
   "language": "python",
   "name": "python3"
  },
  "language_info": {
   "codemirror_mode": {
    "name": "ipython",
    "version": 3
   },
   "file_extension": ".py",
   "mimetype": "text/x-python",
   "name": "python",
   "nbconvert_exporter": "python",
   "pygments_lexer": "ipython3",
   "version": "3.10.12"
  }
 },
 "nbformat": 4,
 "nbformat_minor": 5
}
