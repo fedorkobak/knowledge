{
 "cells": [
  {
   "cell_type": "markdown",
   "id": "d9e51a26-c584-4a1e-b4d2-98f7905b13e9",
   "metadata": {},
   "source": [
    "# Binary search trees\n",
    "\n",
    "A **binary search tree (BST)** is a type of binary tree in which each node contains a value and has at most two child nodes: a left child and a right child. Each node can be represented as a triplet $(l, v, r)$, where:\n",
    "\n",
    "* $v$ is the value stored in the current node,\n",
    "* $l$ is the left child,\n",
    "* $r$ is the right child.\n",
    "\n",
    "The tree satisfies the **binary search property**:\n",
    "For every node, all values in its left subtree are strictly less than $v$, and all values in its right subtree are strictly greater than $v$:\n",
    "\n",
    "$$\n",
    "\\forall x \\in \\text{left subtree of } v, \\; x < v \\quad \\text{and} \\quad \\forall y \\in \\text{right subtree of } v, \\; v < y\n",
    "$$\n",
    "\n",
    "This property must hold recursively for all nodes in the tree.\n",
    "\n",
    "If elements are inserted into the tree in the random order, the average depth of nodes is $log(N)$ where $N$ is the number of nodes of the tree."
   ]
  },
  {
   "cell_type": "code",
   "execution_count": 32,
   "id": "cca6e0a2",
   "metadata": {},
   "outputs": [],
   "source": [
    "import random\n",
    "from typing import Any"
   ]
  },
  {
   "cell_type": "markdown",
   "id": "3debd2a9",
   "metadata": {},
   "source": [
    "## Implementation\n",
    "\n",
    "There are many ways to implement a tree using the python programming language. For example, we'll use an approach that only allows access to the tree through the root node, with all child elements nested.\n",
    "\n",
    "In my opinion, this approach really represents the spirit of tree approach."
   ]
  },
  {
   "cell_type": "code",
   "execution_count": 12,
   "id": "24c9e453-c383-4c55-98f0-06f38a0c8b73",
   "metadata": {},
   "outputs": [],
   "source": [
    "class Node:\n",
    "    def __init__(\n",
    "        self,\n",
    "        val: Any = 0,\n",
    "        left: \"Node | None\" = None,\n",
    "        right: \"Node | None\" = None,\n",
    "        parent: \"Node | None\" = None\n",
    "    ):\n",
    "        self.val = val\n",
    "        self.left = left\n",
    "        self.right = right\n",
    "        self.parent = parent\n",
    "        self.parent_link()\n",
    "\n",
    "    def __str__(self) -> str:\n",
    "        return str(self.val)\n",
    "\n",
    "    def parent_link(self):\n",
    "        if self.right is not None:\n",
    "            self.right.parent = self\n",
    "            self.right.parent_link()\n",
    "        if self.left is not None:\n",
    "            self.left.parent = self\n",
    "            self.left.parent_link()"
   ]
  },
  {
   "cell_type": "markdown",
   "id": "b792c431",
   "metadata": {},
   "source": [
    "**Note:** The represented implementation keeps a pointer to the parent node, if it exists, and contains tools that support the parent. This is not necessary, and in many implementations, the node doesn't keep information about the parent node. However, it makes it much easier to implement some operations under BST."
   ]
  },
  {
   "cell_type": "markdown",
   "id": "dfd34284-d803-4f6e-9603-d31a2c0739bc",
   "metadata": {},
   "source": [
    "Particular realisatoin of the tree example in the cell below:"
   ]
  },
  {
   "cell_type": "code",
   "execution_count": 13,
   "id": "b32d26a1-28fa-4ffd-97ea-5a417ef0fe69",
   "metadata": {},
   "outputs": [],
   "source": [
    "#    [1]\n",
    "#  [2] [3]\n",
    "head = Node(\n",
    "    1,\n",
    "    Node(2),\n",
    "    Node(3)\n",
    ")"
   ]
  },
  {
   "cell_type": "markdown",
   "id": "99c7773f-fc58-491f-bcfc-9152afa13900",
   "metadata": {},
   "source": [
    "### Visualisation\n",
    "\n",
    "Sometimes, it's useful to be able to visualize trees. To to visualize tree just in the standard output, we'll use the following format:\n",
    "\n",
    "```\n",
    "[Head node]\n",
    "    [Left_1]\n",
    "        [Left_l2]\n",
    "        [Right_l2]\n",
    "    [Right_1]\n",
    "        [Left_r2]\n",
    "        [Right_r2]\n",
    "```"
   ]
  },
  {
   "cell_type": "markdown",
   "id": "192c7096",
   "metadata": {},
   "source": [
    "The follwing cell implements this function and displays the visualization outputs:"
   ]
  },
  {
   "cell_type": "code",
   "execution_count": 14,
   "id": "6422bd34-fc97-493f-974d-d3634a989673",
   "metadata": {},
   "outputs": [
    {
     "name": "stdout",
     "output_type": "stream",
     "text": [
      "[1]\n",
      "  [2]\n",
      "    [3]\n",
      "    [4]\n",
      "  [5]\n",
      "    [6]\n",
      "    [7]\n"
     ]
    }
   ],
   "source": [
    "def print_tree(node: Node | None, indent: int = 0):\n",
    "    if node is not None:\n",
    "        print(f\"{indent*' '}[{node.val}]\")\n",
    "        print_tree(node.left, indent+2)\n",
    "        print_tree(node.right, indent+2)\n",
    "\n",
    "head = Node(\n",
    "    1,\n",
    "    Node(\n",
    "        2,\n",
    "        Node(val=3),\n",
    "        Node(val=4)\n",
    "    ),\n",
    "    Node(\n",
    "        5,\n",
    "        Node(val=6),\n",
    "        Node(val=7)\n",
    "    )\n",
    ")\n",
    "print_tree(head)"
   ]
  },
  {
   "cell_type": "markdown",
   "id": "279e4b32",
   "metadata": {},
   "source": [
    "## Search\n",
    "\n",
    "Searching for the element is a fundamental operation for the data structure under consideration. The way it could be done follows from the definition of the binary search tree.\n",
    "\n",
    "To search for an element in a binary search tree (BST), start at an arbitrary node (typically the root). At each step:\n",
    "\n",
    "* If the value stored in the current node is equal to the target value, the search is successful.\n",
    "* If the target value is less than the current node's value, continue the search in the left subtree.\n",
    "* Otherwise, continue the search in the right subtree.\n",
    "\n",
    "The process repeats until either the target value is found or there is no child node to continue the search, in which case the value is not present in the tree."
   ]
  },
  {
   "cell_type": "markdown",
   "id": "06092ce7",
   "metadata": {},
   "source": [
    "---\n",
    "\n",
    "The following cell implements the search for example of the BST.\n",
    "\n",
    "**Note**. If the appropriate element is not found, it returns the last leaf of the search. This would be usefull for adding and removing operations."
   ]
  },
  {
   "cell_type": "code",
   "execution_count": 15,
   "id": "f780bf8b",
   "metadata": {},
   "outputs": [],
   "source": [
    "def search(tree: Node, val: Any) -> Node:\n",
    "    if (val < tree.val) and tree.left is not None:\n",
    "        return search(tree=tree.left, val=val)\n",
    "    elif (val > tree.val) and tree.right is not None:\n",
    "        return search(tree=tree.right, val=val)\n",
    "    return tree"
   ]
  },
  {
   "cell_type": "markdown",
   "id": "7d5a4e32",
   "metadata": {},
   "source": [
    "Consider how the search function works for the tree defined in the following cell."
   ]
  },
  {
   "cell_type": "code",
   "execution_count": 16,
   "id": "1b1994f8",
   "metadata": {},
   "outputs": [
    {
     "name": "stdout",
     "output_type": "stream",
     "text": [
      "[6]\n",
      "  [5]\n",
      "    [4]\n",
      "  [9]\n",
      "    [8]\n",
      "    [11]\n",
      "      [10]\n",
      "      [12]\n"
     ]
    }
   ],
   "source": [
    "example = Node(\n",
    "    val=6,\n",
    "    left=Node(\n",
    "        val=5,\n",
    "        left=Node(val=4)\n",
    "    ),\n",
    "    right=Node(\n",
    "        val=9,\n",
    "        left=Node(val=8),\n",
    "        right=Node(\n",
    "            val=11,\n",
    "            left=Node(val=10),\n",
    "            right=Node(val=12)\n",
    "        )\n",
    "    )\n",
    ")\n",
    "print_tree(example)"
   ]
  },
  {
   "cell_type": "markdown",
   "id": "5cff4d95",
   "metadata": {},
   "source": [
    "The following cell prints the tree gotten in case you're looking for the element 5 in the example tree."
   ]
  },
  {
   "cell_type": "code",
   "execution_count": 17,
   "id": "ea5fb156",
   "metadata": {},
   "outputs": [
    {
     "name": "stdout",
     "output_type": "stream",
     "text": [
      "[5]\n",
      "  [4]\n"
     ]
    }
   ],
   "source": [
    "print_tree(search(tree=example, val=5))"
   ]
  },
  {
   "cell_type": "markdown",
   "id": "83b27689",
   "metadata": {},
   "source": [
    "The next code tries to find the node with the value of 7 in the example, which does not exist."
   ]
  },
  {
   "cell_type": "code",
   "execution_count": 18,
   "id": "573051e5",
   "metadata": {},
   "outputs": [
    {
     "name": "stdout",
     "output_type": "stream",
     "text": [
      "[8]\n"
     ]
    }
   ],
   "source": [
    "print_tree(search(tree=example, val=7))"
   ]
  },
  {
   "cell_type": "markdown",
   "id": "99361cfc",
   "metadata": {},
   "source": [
    "The result is a leaf with the closes value."
   ]
  },
  {
   "cell_type": "markdown",
   "id": "5bb6de47",
   "metadata": {},
   "source": [
    "## Add\n",
    "\n",
    "To add an element to the tree, you simply have to find the node without ancestors on the side where new node is supposed to be added and create the node in the corresponding place."
   ]
  },
  {
   "cell_type": "markdown",
   "id": "1b828bdf",
   "metadata": {},
   "source": [
    "---\n",
    "\n",
    "The following cell implements the `add` function, which adds a value to the tree. It simply adds a new value to the output of the `search`, but only when the search returns a node with a different value. Otherwise, the element we want to add has already been added to the tree."
   ]
  },
  {
   "cell_type": "code",
   "execution_count": 30,
   "id": "fee86090",
   "metadata": {},
   "outputs": [],
   "source": [
    "def add(tree: Node | None, val: Any):\n",
    "\n",
    "    if tree is None:\n",
    "        return Node(val=val)\n",
    "\n",
    "    node = search(tree=tree, val=val)\n",
    "    if (val < node.val):\n",
    "        node.left = Node(val=val, parent=node)\n",
    "    elif (val > node.val):\n",
    "        node.right = Node(val=val, parent=node)\n",
    "\n",
    "    return tree"
   ]
  },
  {
   "cell_type": "markdown",
   "id": "437b0ff9",
   "metadata": {},
   "source": [
    "For example, consider the generation of a BST with random elements."
   ]
  },
  {
   "cell_type": "code",
   "execution_count": 37,
   "id": "d4313860",
   "metadata": {},
   "outputs": [
    {
     "name": "stdout",
     "output_type": "stream",
     "text": [
      "[8]\n",
      "  [1]\n",
      "    [0]\n",
      "    [6]\n",
      "      [4]\n",
      "      [7]\n",
      "  [18]\n",
      "    [13]\n",
      "      [12]\n"
     ]
    }
   ],
   "source": [
    "tree = None\n",
    "for i in range(1, 10):\n",
    "    tree = add(tree, val=random.randint(0, 20))\n",
    "print_tree(tree)"
   ]
  },
  {
   "cell_type": "markdown",
   "id": "7b5adb59",
   "metadata": {},
   "source": [
    "## Delete\n",
    "\n",
    "In general, to delete the item you have to unlink it from its parent. The process becomes more complicated when you need to delete an element that has its own children.\n",
    "\n",
    "There are a few approaches to deleting a node with children from a BST, but we'll use the following: replace the node to be deleted with the smallest value from its right subtree. This ensures that the new element is greater than all elements in the left subtree and smaller than any other element in the right subtree."
   ]
  },
  {
   "cell_type": "markdown",
   "id": "310eb170",
   "metadata": {},
   "source": [
    "---"
   ]
  },
  {
   "cell_type": "code",
   "execution_count": 41,
   "id": "59960825",
   "metadata": {},
   "outputs": [],
   "source": [
    "def delete(tree: Node, val: Any):\n",
    "    remove = search(tree=tree, val=val)\n",
    "\n",
    "    # Determine new element\n",
    "    if remove.right is not None:\n",
    "        new = remove.right\n",
    "        while new.left is not None:\n",
    "            new = new.left\n",
    "    elif remove.left is not None:\n",
    "        new = remove.left\n",
    "    else:\n",
    "        return\n",
    "\n",
    "    # Detelete new from it's position\n",
    "    delete(tree=new, val=new.val)\n",
    "\n",
    "    # Unbound element to be removed from all possible connections\n",
    "    if remove.right is not None:\n",
    "        remove.right.parent = new\n",
    "    if remove.left is not None:\n",
    "        remove.left.parent = new\n",
    "    if remove.parent is not None:\n",
    "        if remove.parent.left is remove:\n",
    "            remove.parent.left = new\n",
    "        elif remove.parent.right is remove:\n",
    "            remove.parent.right = new"
   ]
  },
  {
   "cell_type": "code",
   "execution_count": null,
   "id": "454b0e0e",
   "metadata": {},
   "outputs": [
    {
     "name": "stdout",
     "output_type": "stream",
     "text": [
      "[17]\n",
      "  [10]\n",
      "    [8]\n",
      "      [7]\n",
      "        [6]\n",
      "    [16]\n",
      "      [14]\n",
      "        [15]\n",
      "  [18]\n"
     ]
    }
   ],
   "source": [
    "tree = add(tree=None, val=17)\n",
    "for v in [10, 16, 14, 15, 8, 7, 6, 18]:\n",
    "    tree = add(tree, v)\n",
    "print_tree(tree)"
   ]
  },
  {
   "cell_type": "code",
   "execution_count": 60,
   "id": "4c7e9367",
   "metadata": {},
   "outputs": [],
   "source": [
    "delete(tree=tree, val=10)"
   ]
  },
  {
   "cell_type": "code",
   "execution_count": 61,
   "id": "d0315d22",
   "metadata": {},
   "outputs": [
    {
     "name": "stdout",
     "output_type": "stream",
     "text": [
      "[17]\n",
      "  [14]\n",
      "    [15]\n",
      "  [18]\n"
     ]
    }
   ],
   "source": [
    "print_tree(tree)"
   ]
  }
 ],
 "metadata": {
  "kernelspec": {
   "display_name": "knowledge",
   "language": "python",
   "name": "python3"
  },
  "language_info": {
   "codemirror_mode": {
    "name": "ipython",
    "version": 3
   },
   "file_extension": ".py",
   "mimetype": "text/x-python",
   "name": "python",
   "nbconvert_exporter": "python",
   "pygments_lexer": "ipython3",
   "version": "3.13.5"
  }
 },
 "nbformat": 4,
 "nbformat_minor": 5
}
