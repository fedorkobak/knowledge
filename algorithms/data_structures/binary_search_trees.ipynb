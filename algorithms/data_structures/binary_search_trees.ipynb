{
 "cells": [
  {
   "cell_type": "markdown",
   "id": "d9e51a26-c584-4a1e-b4d2-98f7905b13e9",
   "metadata": {},
   "source": [
    "# Binary search trees\n",
    "\n",
    "A **binary search tree (BST)** is a type of binary tree in which each node contains a value and has at most two child nodes: a left child and a right child. Each node can be represented as a triplet $(l, v, r)$, where:\n",
    "\n",
    "* $v$ is the value stored in the current node,\n",
    "* $l$ is the left child,\n",
    "* $r$ is the right child.\n",
    "\n",
    "The tree satisfies the **binary search property**:\n",
    "For every node, all values in its left subtree are strictly less than $v$, and all values in its right subtree are strictly greater than $v$:\n",
    "\n",
    "$$\n",
    "\\forall x \\in \\text{left subtree of } v, \\; x < v \\quad \\text{and} \\quad \\forall y \\in \\text{right subtree of } v, \\; v < y\n",
    "$$\n",
    "\n",
    "This property must hold recursively for all nodes in the tree.\n",
    "\n",
    "If elements are inserted into the tree in the random order, the average depth of nodes is $log(N)$ where $N$ is the number of nodes of the tree."
   ]
  },
  {
   "cell_type": "code",
   "execution_count": 2,
   "id": "cca6e0a2",
   "metadata": {},
   "outputs": [],
   "source": [
    "import random\n",
    "from binary_search_trees_files.tree_svg import BST, visualize_tree\n",
    "from typing import Any"
   ]
  },
  {
   "cell_type": "markdown",
   "id": "3debd2a9",
   "metadata": {},
   "source": [
    "## Implementation\n",
    "\n",
    "There are many ways to implement a tree using the python programming language. For example, we'll use an approach that only allows access to the tree through the root node, with all child elements nested.\n",
    "\n",
    "In my opinion, this approach really represents the spirit of tree approach."
   ]
  },
  {
   "cell_type": "code",
   "execution_count": 3,
   "id": "24c9e453-c383-4c55-98f0-06f38a0c8b73",
   "metadata": {},
   "outputs": [],
   "source": [
    "class Node:\n",
    "    def __init__(\n",
    "        self,\n",
    "        val: Any = 0,\n",
    "        left: \"Node | None\" = None,\n",
    "        right: \"Node | None\" = None,\n",
    "        parent: \"Node | None\" = None\n",
    "    ):\n",
    "        self.val = val\n",
    "        self.left = left\n",
    "        self.right = right\n",
    "        self.parent = parent\n",
    "        self.parent_link()\n",
    "\n",
    "    def __str__(self) -> str:\n",
    "        return str(self.val)\n",
    "\n",
    "    def parent_link(self):\n",
    "        if self.right is not None:\n",
    "            self.right.parent = self\n",
    "            self.right.parent_link()\n",
    "        if self.left is not None:\n",
    "            self.left.parent = self\n",
    "            self.left.parent_link()"
   ]
  },
  {
   "cell_type": "markdown",
   "id": "b792c431",
   "metadata": {},
   "source": [
    "**Note:** The represented implementation keeps a pointer to the parent node, if it exists, and contains tools that support the parent. This is not necessary, and in many implementations, the node doesn't keep information about the parent node. However, it makes it much easier to implement some operations under BST."
   ]
  },
  {
   "cell_type": "markdown",
   "id": "dfd34284-d803-4f6e-9603-d31a2c0739bc",
   "metadata": {},
   "source": [
    "Particular realisatoin of the tree example in the cell below:"
   ]
  },
  {
   "cell_type": "code",
   "execution_count": 3,
   "id": "b32d26a1-28fa-4ffd-97ea-5a417ef0fe69",
   "metadata": {},
   "outputs": [],
   "source": [
    "#    [1]\n",
    "#  [2] [3]\n",
    "head = Node(\n",
    "    1,\n",
    "    Node(2),\n",
    "    Node(3)\n",
    ")"
   ]
  },
  {
   "cell_type": "markdown",
   "id": "99c7773f-fc58-491f-bcfc-9152afa13900",
   "metadata": {},
   "source": [
    "### Visualisation\n",
    "\n",
    "There is a special tool for tree visualization: `binary_search_tree_files.tree_svg.visualize_tree`. However, it only accepts trees in a special format. The following cell implements a function that transforms the format chosen for this page into the format that is used for visualization."
   ]
  },
  {
   "cell_type": "code",
   "execution_count": 105,
   "id": "3465b633",
   "metadata": {},
   "outputs": [],
   "source": [
    "def convert_BSE(tree: Node | None) -> BST:\n",
    "    if tree is None:\n",
    "        return None\n",
    "    return (\n",
    "        tree.val,\n",
    "        convert_BSE(tree=tree.left) if tree.left else None,\n",
    "        convert_BSE(tree=tree.right) if tree.right else None\n",
    "    )"
   ]
  },
  {
   "cell_type": "markdown",
   "id": "7a922943",
   "metadata": {},
   "source": [
    "The following cell shows how the arbitrary tree can be visualized."
   ]
  },
  {
   "cell_type": "code",
   "execution_count": 5,
   "id": "6422bd34-fc97-493f-974d-d3634a989673",
   "metadata": {},
   "outputs": [
    {
     "data": {
      "image/svg+xml": [
       "<?xml version=\"1.0\" encoding=\"UTF-8\"?>\n",
       "<svg xmlns=\"http://www.w3.org/2000/svg\" xmlns:xlink=\"http://www.w3.org/1999/xlink\"\n",
       "     width=\"420.0\" height=\"240\" viewBox=\"-10 -10 440.0 260\">\n",
       "<defs>\n",
       "</defs>\n",
       "<g>\n",
       "<circle cx=\"210.0\" cy=\"30\" r=\"30\" stroke=\"black\" stroke-width=\"2\" fill=\"none\" />\n",
       "<text x=\"210.0\" y=\"30\" font-size=\"20\" text-anchor=\"middle\" dominant-baseline=\"middle\" fill=\"black\">1</text>\n",
       "</g>\n",
       "<g>\n",
       "<circle cx=\"90.0\" cy=\"120\" r=\"30\" stroke=\"black\" stroke-width=\"2\" fill=\"none\" />\n",
       "<text x=\"90.0\" y=\"120\" font-size=\"20\" text-anchor=\"middle\" dominant-baseline=\"middle\" fill=\"black\">2</text>\n",
       "</g>\n",
       "<g>\n",
       "<circle cx=\"30.0\" cy=\"210\" r=\"30\" stroke=\"black\" stroke-width=\"2\" fill=\"none\" />\n",
       "<text x=\"30.0\" y=\"210\" font-size=\"20\" text-anchor=\"middle\" dominant-baseline=\"middle\" fill=\"black\">3</text>\n",
       "</g>\n",
       "<path d=\"M73.35899411324313,144.9615088301353 L46.64100588675687,185.0384911698647 M46.64100588675687,185.0384911698647 L48.02775637731994,173.9444872453601 L56.34825932069838,179.4914892076124\" fill=\"black\" stroke=\"black\" stroke-width=\"3\" />\n",
       "<g>\n",
       "<circle cx=\"150.0\" cy=\"210\" r=\"30\" stroke=\"black\" stroke-width=\"2\" fill=\"none\" />\n",
       "<text x=\"150.0\" y=\"210\" font-size=\"20\" text-anchor=\"middle\" dominant-baseline=\"middle\" fill=\"black\">4</text>\n",
       "</g>\n",
       "<path d=\"M106.64100588675687,144.9615088301353 L133.3589941132431,185.0384911698647 M133.3589941132431,185.0384911698647 L123.6517406793016,179.4914892076124 L131.97224362268003,173.9444872453601\" fill=\"black\" stroke=\"black\" stroke-width=\"3\" />\n",
       "<path d=\"M186.0,48.0 L114.0,102.0 M114.0,102.0 L119.0,92.0 L125.0,100.0\" fill=\"black\" stroke=\"black\" stroke-width=\"3\" />\n",
       "<g>\n",
       "<circle cx=\"330.0\" cy=\"120\" r=\"30\" stroke=\"black\" stroke-width=\"2\" fill=\"none\" />\n",
       "<text x=\"330.0\" y=\"120\" font-size=\"20\" text-anchor=\"middle\" dominant-baseline=\"middle\" fill=\"black\">5</text>\n",
       "</g>\n",
       "<g>\n",
       "<circle cx=\"270.0\" cy=\"210\" r=\"30\" stroke=\"black\" stroke-width=\"2\" fill=\"none\" />\n",
       "<text x=\"270.0\" y=\"210\" font-size=\"20\" text-anchor=\"middle\" dominant-baseline=\"middle\" fill=\"black\">6</text>\n",
       "</g>\n",
       "<path d=\"M313.3589941132431,144.9615088301353 L286.6410058867569,185.0384911698647 M286.6410058867569,185.0384911698647 L288.02775637732,173.9444872453601 L296.3482593206984,179.4914892076124\" fill=\"black\" stroke=\"black\" stroke-width=\"3\" />\n",
       "<g>\n",
       "<circle cx=\"390.0\" cy=\"210\" r=\"30\" stroke=\"black\" stroke-width=\"2\" fill=\"none\" />\n",
       "<text x=\"390.0\" y=\"210\" font-size=\"20\" text-anchor=\"middle\" dominant-baseline=\"middle\" fill=\"black\">7</text>\n",
       "</g>\n",
       "<path d=\"M346.6410058867569,144.9615088301353 L373.3589941132431,185.0384911698647 M373.3589941132431,185.0384911698647 L363.6517406793016,179.4914892076124 L371.97224362268,173.9444872453601\" fill=\"black\" stroke=\"black\" stroke-width=\"3\" />\n",
       "<path d=\"M234.0,48.0 L306.0,102.0 M306.0,102.0 L295.0,100.0 L301.0,92.0\" fill=\"black\" stroke=\"black\" stroke-width=\"3\" />\n",
       "</svg>"
      ],
      "text/plain": [
       "<drawsvg.drawing.Drawing at 0x7446dfe734d0>"
      ]
     },
     "execution_count": 5,
     "metadata": {},
     "output_type": "execute_result"
    }
   ],
   "source": [
    "head = Node(\n",
    "    1,\n",
    "    Node(\n",
    "        2,\n",
    "        Node(val=3),\n",
    "        Node(val=4)\n",
    "    ),\n",
    "    Node(\n",
    "        5,\n",
    "        Node(val=6),\n",
    "        Node(val=7)\n",
    "    )\n",
    ")\n",
    "visualize_tree(convert_BSE(tree=head))"
   ]
  },
  {
   "cell_type": "markdown",
   "id": "279e4b32",
   "metadata": {},
   "source": [
    "## Search\n",
    "\n",
    "Searching for the element is a fundamental operation for the data structure under consideration. The way it could be done follows from the definition of the binary search tree.\n",
    "\n",
    "To search for an element in a binary search tree (BST), start at an arbitrary node (typically the root). At each step:\n",
    "\n",
    "* If the value stored in the current node is equal to the target value, the search is successful.\n",
    "* If the target value is less than the current node's value, continue the search in the left subtree.\n",
    "* Otherwise, continue the search in the right subtree.\n",
    "\n",
    "The process repeats until either the target value is found or there is no child node to continue the search, in which case the value is not present in the tree."
   ]
  },
  {
   "cell_type": "markdown",
   "id": "06092ce7",
   "metadata": {},
   "source": [
    "---\n",
    "\n",
    "The following cell implements the search for example of the BST.\n",
    "\n",
    "**Note**. If the appropriate element is not found, it returns the last leaf of the search. This would be usefull for adding and removing operations."
   ]
  },
  {
   "cell_type": "code",
   "execution_count": 10,
   "id": "f780bf8b",
   "metadata": {},
   "outputs": [],
   "source": [
    "def search(tree: Node, val: Any) -> Node:\n",
    "    if (val < tree.val) and tree.left is not None:\n",
    "        return search(tree=tree.left, val=val)\n",
    "    elif (val > tree.val) and tree.right is not None:\n",
    "        return search(tree=tree.right, val=val)\n",
    "    return tree"
   ]
  },
  {
   "cell_type": "markdown",
   "id": "7d5a4e32",
   "metadata": {},
   "source": [
    "Consider how the search function works for the tree defined in the following cell."
   ]
  },
  {
   "cell_type": "code",
   "execution_count": 12,
   "id": "1b1994f8",
   "metadata": {},
   "outputs": [
    {
     "data": {
      "image/svg+xml": [
       "<?xml version=\"1.0\" encoding=\"UTF-8\"?>\n",
       "<svg xmlns=\"http://www.w3.org/2000/svg\" xmlns:xlink=\"http://www.w3.org/1999/xlink\"\n",
       "     width=\"900.0\" height=\"330\" viewBox=\"-10 -10 920.0 350\">\n",
       "<defs>\n",
       "</defs>\n",
       "<g>\n",
       "<circle cx=\"450.0\" cy=\"30\" r=\"30\" stroke=\"black\" stroke-width=\"2\" fill=\"none\" />\n",
       "<text x=\"450.0\" y=\"30\" font-size=\"20\" text-anchor=\"middle\" dominant-baseline=\"middle\" fill=\"black\">6</text>\n",
       "</g>\n",
       "<g>\n",
       "<circle cx=\"210.0\" cy=\"120\" r=\"30\" stroke=\"black\" stroke-width=\"2\" fill=\"none\" />\n",
       "<text x=\"210.0\" y=\"120\" font-size=\"20\" text-anchor=\"middle\" dominant-baseline=\"middle\" fill=\"black\">5</text>\n",
       "</g>\n",
       "<g>\n",
       "<circle cx=\"90.0\" cy=\"210\" r=\"30\" stroke=\"black\" stroke-width=\"2\" fill=\"none\" />\n",
       "<text x=\"90.0\" y=\"210\" font-size=\"20\" text-anchor=\"middle\" dominant-baseline=\"middle\" fill=\"black\">4</text>\n",
       "</g>\n",
       "<path d=\"M186.0,138.0 L114.0,192.0 M114.0,192.0 L119.0,182.0 L125.0,190.0\" fill=\"black\" stroke=\"black\" stroke-width=\"3\" />\n",
       "<path d=\"M421.91012467292865,40.53370324765175 L238.08987532707133,109.46629675234826 M238.08987532707133,109.46629675234826 L245.69754989481982,101.27341644861912 L249.20878431070372,110.63670822430956\" fill=\"black\" stroke=\"black\" stroke-width=\"3\" />\n",
       "<g>\n",
       "<circle cx=\"690.0\" cy=\"120\" r=\"30\" stroke=\"black\" stroke-width=\"2\" fill=\"none\" />\n",
       "<text x=\"690.0\" y=\"120\" font-size=\"20\" text-anchor=\"middle\" dominant-baseline=\"middle\" fill=\"black\">9</text>\n",
       "</g>\n",
       "<g>\n",
       "<circle cx=\"570.0\" cy=\"210\" r=\"30\" stroke=\"black\" stroke-width=\"2\" fill=\"none\" />\n",
       "<text x=\"570.0\" y=\"210\" font-size=\"20\" text-anchor=\"middle\" dominant-baseline=\"middle\" fill=\"black\">8</text>\n",
       "</g>\n",
       "<path d=\"M666.0,138.0 L594.0,192.0 M594.0,192.0 L599.0,182.0 L605.0,190.0\" fill=\"black\" stroke=\"black\" stroke-width=\"3\" />\n",
       "<g>\n",
       "<circle cx=\"810.0\" cy=\"210\" r=\"30\" stroke=\"black\" stroke-width=\"2\" fill=\"none\" />\n",
       "<text x=\"810.0\" y=\"210\" font-size=\"20\" text-anchor=\"middle\" dominant-baseline=\"middle\" fill=\"black\">11</text>\n",
       "</g>\n",
       "<g>\n",
       "<circle cx=\"750.0\" cy=\"300\" r=\"30\" stroke=\"black\" stroke-width=\"2\" fill=\"none\" />\n",
       "<text x=\"750.0\" y=\"300\" font-size=\"20\" text-anchor=\"middle\" dominant-baseline=\"middle\" fill=\"black\">10</text>\n",
       "</g>\n",
       "<path d=\"M793.3589941132432,234.9615088301353 L766.6410058867568,275.0384911698647 M766.6410058867568,275.0384911698647 L768.02775637732,263.9444872453601 L776.3482593206984,269.49148920761246\" fill=\"black\" stroke=\"black\" stroke-width=\"3\" />\n",
       "<g>\n",
       "<circle cx=\"870.0\" cy=\"300\" r=\"30\" stroke=\"black\" stroke-width=\"2\" fill=\"none\" />\n",
       "<text x=\"870.0\" y=\"300\" font-size=\"20\" text-anchor=\"middle\" dominant-baseline=\"middle\" fill=\"black\">12</text>\n",
       "</g>\n",
       "<path d=\"M826.6410058867568,234.9615088301353 L853.3589941132432,275.0384911698647 M853.3589941132432,275.0384911698647 L843.6517406793016,269.49148920761246 L851.97224362268,263.9444872453601\" fill=\"black\" stroke=\"black\" stroke-width=\"3\" />\n",
       "<path d=\"M714.0,138.0 L786.0,192.0 M786.0,192.0 L775.0,190.0 L781.0,182.0\" fill=\"black\" stroke=\"black\" stroke-width=\"3\" />\n",
       "<path d=\"M478.08987532707135,40.53370324765175 L661.9101246729286,109.46629675234826 M661.9101246729286,109.46629675234826 L650.7912156892962,110.63670822430956 L654.3024501051802,101.27341644861912\" fill=\"black\" stroke=\"black\" stroke-width=\"3\" />\n",
       "</svg>"
      ],
      "text/plain": [
       "<drawsvg.drawing.Drawing at 0x79ab44267820>"
      ]
     },
     "execution_count": 12,
     "metadata": {},
     "output_type": "execute_result"
    }
   ],
   "source": [
    "example = Node(\n",
    "    val=6,\n",
    "    left=Node(\n",
    "        val=5,\n",
    "        left=Node(val=4)\n",
    "    ),\n",
    "    right=Node(\n",
    "        val=9,\n",
    "        left=Node(val=8),\n",
    "        right=Node(\n",
    "            val=11,\n",
    "            left=Node(val=10),\n",
    "            right=Node(val=12)\n",
    "        )\n",
    "    )\n",
    ")\n",
    "visualize_tree(convert_BSE(example))"
   ]
  },
  {
   "cell_type": "markdown",
   "id": "5cff4d95",
   "metadata": {},
   "source": [
    "The following cell prints the tree gotten in case you're looking for the element 5 in the example tree."
   ]
  },
  {
   "cell_type": "code",
   "execution_count": 13,
   "id": "ea5fb156",
   "metadata": {},
   "outputs": [
    {
     "data": {
      "image/svg+xml": [
       "<?xml version=\"1.0\" encoding=\"UTF-8\"?>\n",
       "<svg xmlns=\"http://www.w3.org/2000/svg\" xmlns:xlink=\"http://www.w3.org/1999/xlink\"\n",
       "     width=\"180.0\" height=\"150\" viewBox=\"-10 -10 200.0 170\">\n",
       "<defs>\n",
       "</defs>\n",
       "<g>\n",
       "<circle cx=\"90.0\" cy=\"30\" r=\"30\" stroke=\"black\" stroke-width=\"2\" fill=\"none\" />\n",
       "<text x=\"90.0\" y=\"30\" font-size=\"20\" text-anchor=\"middle\" dominant-baseline=\"middle\" fill=\"black\">5</text>\n",
       "</g>\n",
       "<g>\n",
       "<circle cx=\"30.0\" cy=\"120\" r=\"30\" stroke=\"black\" stroke-width=\"2\" fill=\"none\" />\n",
       "<text x=\"30.0\" y=\"120\" font-size=\"20\" text-anchor=\"middle\" dominant-baseline=\"middle\" fill=\"black\">4</text>\n",
       "</g>\n",
       "<path d=\"M73.35899411324313,54.961508830135315 L46.64100588675687,95.03849116986468 M46.64100588675687,95.03849116986468 L48.027756377319946,83.94448724536011 L56.34825932069839,89.4914892076124\" fill=\"black\" stroke=\"black\" stroke-width=\"3\" />\n",
       "</svg>"
      ],
      "text/plain": [
       "<drawsvg.drawing.Drawing at 0x79ab44267490>"
      ]
     },
     "execution_count": 13,
     "metadata": {},
     "output_type": "execute_result"
    }
   ],
   "source": [
    "visualize_tree(convert_BSE(search(tree=example, val=5)))"
   ]
  },
  {
   "cell_type": "markdown",
   "id": "83b27689",
   "metadata": {},
   "source": [
    "The next code tries to find the node with the value of 7 in the example, which does not exist."
   ]
  },
  {
   "cell_type": "code",
   "execution_count": 14,
   "id": "573051e5",
   "metadata": {},
   "outputs": [
    {
     "data": {
      "image/svg+xml": [
       "<?xml version=\"1.0\" encoding=\"UTF-8\"?>\n",
       "<svg xmlns=\"http://www.w3.org/2000/svg\" xmlns:xlink=\"http://www.w3.org/1999/xlink\"\n",
       "     width=\"60.0\" height=\"60\" viewBox=\"-10 -10 80.0 80\">\n",
       "<defs>\n",
       "</defs>\n",
       "<g>\n",
       "<circle cx=\"30.0\" cy=\"30\" r=\"30\" stroke=\"black\" stroke-width=\"2\" fill=\"none\" />\n",
       "<text x=\"30.0\" y=\"30\" font-size=\"20\" text-anchor=\"middle\" dominant-baseline=\"middle\" fill=\"black\">8</text>\n",
       "</g>\n",
       "</svg>"
      ],
      "text/plain": [
       "<drawsvg.drawing.Drawing at 0x79ab44283d10>"
      ]
     },
     "execution_count": 14,
     "metadata": {},
     "output_type": "execute_result"
    }
   ],
   "source": [
    "visualize_tree(convert_BSE(search(tree=example, val=7)))"
   ]
  },
  {
   "cell_type": "markdown",
   "id": "99361cfc",
   "metadata": {},
   "source": [
    "The result is a leaf with the closes value."
   ]
  },
  {
   "cell_type": "markdown",
   "id": "5bb6de47",
   "metadata": {},
   "source": [
    "## Add\n",
    "\n",
    "To add an element to the tree, you simply have to find the node without ancestors on the side where new node is supposed to be added and create the node in the corresponding place."
   ]
  },
  {
   "cell_type": "markdown",
   "id": "1b828bdf",
   "metadata": {},
   "source": [
    "---\n",
    "\n",
    "The following cell implements the `add` function, which adds a value to the tree. It simply adds a new value to the output of the `search`, but only when the search returns a node with a different value. Otherwise, the element we want to add has already been added to the tree."
   ]
  },
  {
   "cell_type": "code",
   "execution_count": 8,
   "id": "fee86090",
   "metadata": {},
   "outputs": [],
   "source": [
    "def add(tree: Node | None, val: Any):\n",
    "\n",
    "    if tree is None:\n",
    "        return Node(val=val)\n",
    "\n",
    "    node = search(tree=tree, val=val)\n",
    "    if (val < node.val):\n",
    "        node.left = Node(val=val, parent=node)\n",
    "    elif (val > node.val):\n",
    "        node.right = Node(val=val, parent=node)\n",
    "\n",
    "    return tree"
   ]
  },
  {
   "cell_type": "markdown",
   "id": "437b0ff9",
   "metadata": {},
   "source": [
    "For example, consider the generation of a BST with random elements."
   ]
  },
  {
   "cell_type": "code",
   "execution_count": 26,
   "id": "d4313860",
   "metadata": {},
   "outputs": [
    {
     "data": {
      "image/svg+xml": [
       "<?xml version=\"1.0\" encoding=\"UTF-8\"?>\n",
       "<svg xmlns=\"http://www.w3.org/2000/svg\" xmlns:xlink=\"http://www.w3.org/1999/xlink\"\n",
       "     width=\"900.0\" height=\"330\" viewBox=\"-10 -10 920.0 350\">\n",
       "<defs>\n",
       "</defs>\n",
       "<g>\n",
       "<circle cx=\"450.0\" cy=\"30\" r=\"30\" stroke=\"black\" stroke-width=\"2\" fill=\"none\" />\n",
       "<text x=\"450.0\" y=\"30\" font-size=\"20\" text-anchor=\"middle\" dominant-baseline=\"middle\" fill=\"black\">14</text>\n",
       "</g>\n",
       "<g>\n",
       "<circle cx=\"210.0\" cy=\"120\" r=\"30\" stroke=\"black\" stroke-width=\"2\" fill=\"none\" />\n",
       "<text x=\"210.0\" y=\"120\" font-size=\"20\" text-anchor=\"middle\" dominant-baseline=\"middle\" fill=\"black\">1</text>\n",
       "</g>\n",
       "<g>\n",
       "<circle cx=\"330.0\" cy=\"210\" r=\"30\" stroke=\"black\" stroke-width=\"2\" fill=\"none\" />\n",
       "<text x=\"330.0\" y=\"210\" font-size=\"20\" text-anchor=\"middle\" dominant-baseline=\"middle\" fill=\"black\">5</text>\n",
       "</g>\n",
       "<g>\n",
       "<circle cx=\"390.0\" cy=\"300\" r=\"30\" stroke=\"black\" stroke-width=\"2\" fill=\"none\" />\n",
       "<text x=\"390.0\" y=\"300\" font-size=\"20\" text-anchor=\"middle\" dominant-baseline=\"middle\" fill=\"black\">11</text>\n",
       "</g>\n",
       "<path d=\"M346.6410058867569,234.9615088301353 L373.3589941132431,275.0384911698647 M373.3589941132431,275.0384911698647 L363.6517406793016,269.4914892076124 L371.97224362268,263.94448724536016\" fill=\"black\" stroke=\"black\" stroke-width=\"3\" />\n",
       "<path d=\"M234.0,138.0 L306.0,192.0 M306.0,192.0 L295.0,190.0 L301.0,182.0\" fill=\"black\" stroke=\"black\" stroke-width=\"3\" />\n",
       "<path d=\"M421.91012467292865,40.53370324765175 L238.08987532707133,109.46629675234826 M238.08987532707133,109.46629675234826 L245.69754989481982,101.27341644861912 L249.20878431070372,110.63670822430956\" fill=\"black\" stroke=\"black\" stroke-width=\"3\" />\n",
       "<g>\n",
       "<circle cx=\"690.0\" cy=\"120\" r=\"30\" stroke=\"black\" stroke-width=\"2\" fill=\"none\" />\n",
       "<text x=\"690.0\" y=\"120\" font-size=\"20\" text-anchor=\"middle\" dominant-baseline=\"middle\" fill=\"black\">20</text>\n",
       "</g>\n",
       "<path d=\"M478.08987532707135,40.53370324765175 L661.9101246729286,109.46629675234826 M661.9101246729286,109.46629675234826 L650.7912156892962,110.63670822430956 L654.3024501051802,101.27341644861912\" fill=\"black\" stroke=\"black\" stroke-width=\"3\" />\n",
       "</svg>"
      ],
      "text/plain": [
       "<drawsvg.drawing.Drawing at 0x79ab2dbaa270>"
      ]
     },
     "execution_count": 26,
     "metadata": {},
     "output_type": "execute_result"
    }
   ],
   "source": [
    "tree = None\n",
    "for i in range(1, 7):\n",
    "    tree = add(tree, val=random.randint(0, 20))\n",
    "visualize_tree(convert_BSE(tree))"
   ]
  },
  {
   "cell_type": "markdown",
   "id": "7b5adb59",
   "metadata": {},
   "source": [
    "## Delete\n",
    "\n",
    "In general, to delete the item you have to unlink it from its parent. The process becomes more complicated when you need to delete an element that has its own children.\n",
    "\n",
    "There are a few approaches to deleting a node with children from a BST, but we'll use the following: replace the node to be deleted with the smallest value from its right subtree. This ensures that the new element is greater than all elements in the left subtree and smaller than any other element in the right subtree."
   ]
  },
  {
   "cell_type": "markdown",
   "id": "6906999f",
   "metadata": {},
   "source": [
    "More specifically. You have to:\n",
    "\n",
    "- Identify the item to be deleted by regular search through items.\n",
    "- Identify the item that that will replace one being removed:\n",
    "    - In the most general case, it is the smallest element in the right subtree of the element to be deleted.\n",
    "    - If there is no right subtree, then the left element would be the one to be deleted.\n",
    "    - If the leaf element is supposed to be removed (so it doesn't have right and left subtree), then we don't need an element to replace it.\n",
    "- Recursively delete the element that is supposed to replace the element being deleted from the tree.\n",
    "- Reset the boundaries of the parent and child elements of the element to be deleted to the element that will replace it."
   ]
  },
  {
   "cell_type": "markdown",
   "id": "310eb170",
   "metadata": {},
   "source": [
    "---\n",
    "\n",
    "The following cell implemenets the `delete` function that realises remove of the element from the binary tree."
   ]
  },
  {
   "cell_type": "code",
   "execution_count": 145,
   "id": "59960825",
   "metadata": {},
   "outputs": [],
   "source": [
    "def delete(tree: Node | None, val: Any) -> Node | None:\n",
    "    if tree is None:\n",
    "        return None\n",
    "\n",
    "    remove = search(tree=tree, val=val)\n",
    "    if remove.val != val:\n",
    "        return tree\n",
    "\n",
    "    # Determine new element\n",
    "    if remove.right is not None:\n",
    "        new = remove.right\n",
    "        while new.left is not None:\n",
    "            new = new.left\n",
    "    elif remove.left is not None:\n",
    "        new = remove.left\n",
    "    else:\n",
    "        new = None\n",
    "\n",
    "    if new is not None:\n",
    "        delete(tree=new, val=new.val)\n",
    "        new.left = remove.left\n",
    "        new.right = remove.right\n",
    "        new.parent = remove.parent\n",
    "    \n",
    "    # Replace remove with new for parent\n",
    "    if remove.parent is not None:\n",
    "        if remove.parent.left is remove:\n",
    "            remove.parent.left = new\n",
    "        elif remove.parent.right is remove:\n",
    "            remove.parent.right = new\n",
    "    else:\n",
    "        tree = new\n",
    "\n",
    "    if remove.left is not None:\n",
    "        remove.left.parent = new\n",
    "    if remove.right is not None:\n",
    "        remove.right.parent = new\n",
    "\n",
    "    return tree"
   ]
  },
  {
   "cell_type": "markdown",
   "id": "c15a4db3",
   "metadata": {},
   "source": [
    "**Note** due to the implementation details, you should replace the original tree with the result of the `delete` function. Formally, it just rebuilds the relations between elements. If the root element is deleted, use \"new\" as the new entry point to the tree."
   ]
  },
  {
   "cell_type": "markdown",
   "id": "4981541d",
   "metadata": {},
   "source": [
    "Consider a following cell, which defines realatively complex tree."
   ]
  },
  {
   "cell_type": "code",
   "execution_count": 143,
   "id": "454b0e0e",
   "metadata": {},
   "outputs": [
    {
     "data": {
      "image/svg+xml": [
       "<?xml version=\"1.0\" encoding=\"UTF-8\"?>\n",
       "<svg xmlns=\"http://www.w3.org/2000/svg\" xmlns:xlink=\"http://www.w3.org/1999/xlink\"\n",
       "     width=\"1860.0\" height=\"420\" viewBox=\"-10 -10 1880.0 440\">\n",
       "<defs>\n",
       "</defs>\n",
       "<g>\n",
       "<circle cx=\"930.0\" cy=\"30\" r=\"30\" stroke=\"black\" stroke-width=\"2\" fill=\"none\" />\n",
       "<text x=\"930.0\" y=\"30\" font-size=\"20\" text-anchor=\"middle\" dominant-baseline=\"middle\" fill=\"black\">17</text>\n",
       "</g>\n",
       "<g>\n",
       "<circle cx=\"450.0\" cy=\"120\" r=\"30\" stroke=\"black\" stroke-width=\"2\" fill=\"none\" />\n",
       "<text x=\"450.0\" y=\"120\" font-size=\"20\" text-anchor=\"middle\" dominant-baseline=\"middle\" fill=\"black\">10</text>\n",
       "</g>\n",
       "<g>\n",
       "<circle cx=\"210.0\" cy=\"210\" r=\"30\" stroke=\"black\" stroke-width=\"2\" fill=\"none\" />\n",
       "<text x=\"210.0\" y=\"210\" font-size=\"20\" text-anchor=\"middle\" dominant-baseline=\"middle\" fill=\"black\">8</text>\n",
       "</g>\n",
       "<g>\n",
       "<circle cx=\"90.0\" cy=\"300\" r=\"30\" stroke=\"black\" stroke-width=\"2\" fill=\"none\" />\n",
       "<text x=\"90.0\" y=\"300\" font-size=\"20\" text-anchor=\"middle\" dominant-baseline=\"middle\" fill=\"black\">7</text>\n",
       "</g>\n",
       "<path d=\"M186.0,228.0 L114.0,282.0 M114.0,282.0 L119.0,272.0 L125.0,280.0\" fill=\"black\" stroke=\"black\" stroke-width=\"3\" />\n",
       "<path d=\"M421.91012467292865,130.53370324765174 L238.08987532707133,199.46629675234826 M238.08987532707133,199.46629675234826 L245.69754989481982,191.27341644861912 L249.20878431070372,200.6367082243096\" fill=\"black\" stroke=\"black\" stroke-width=\"3\" />\n",
       "<g>\n",
       "<circle cx=\"690.0\" cy=\"210\" r=\"30\" stroke=\"black\" stroke-width=\"2\" fill=\"none\" />\n",
       "<text x=\"690.0\" y=\"210\" font-size=\"20\" text-anchor=\"middle\" dominant-baseline=\"middle\" fill=\"black\">16</text>\n",
       "</g>\n",
       "<g>\n",
       "<circle cx=\"570.0\" cy=\"300\" r=\"30\" stroke=\"black\" stroke-width=\"2\" fill=\"none\" />\n",
       "<text x=\"570.0\" y=\"300\" font-size=\"20\" text-anchor=\"middle\" dominant-baseline=\"middle\" fill=\"black\">14</text>\n",
       "</g>\n",
       "<g>\n",
       "<circle cx=\"630.0\" cy=\"390\" r=\"30\" stroke=\"black\" stroke-width=\"2\" fill=\"none\" />\n",
       "<text x=\"630.0\" y=\"390\" font-size=\"20\" text-anchor=\"middle\" dominant-baseline=\"middle\" fill=\"black\">15</text>\n",
       "</g>\n",
       "<path d=\"M586.6410058867568,324.9615088301353 L613.3589941132432,365.0384911698647 M613.3589941132432,365.0384911698647 L603.6517406793016,359.49148920761246 L611.97224362268,353.9444872453601\" fill=\"black\" stroke=\"black\" stroke-width=\"3\" />\n",
       "<path d=\"M666.0,228.0 L594.0,282.0 M594.0,282.0 L599.0,272.0 L605.0,280.0\" fill=\"black\" stroke=\"black\" stroke-width=\"3\" />\n",
       "<path d=\"M478.08987532707135,130.53370324765174 L661.9101246729286,199.46629675234826 M661.9101246729286,199.46629675234826 L650.7912156892962,200.6367082243096 L654.3024501051802,191.27341644861912\" fill=\"black\" stroke=\"black\" stroke-width=\"3\" />\n",
       "<path d=\"M900.5138343919704,35.528656051505564 L479.48616560802964,114.47134394849444 M479.48616560802964,114.47134394849444 L488.3934448021219,107.71409766332097 L490.2363301526238,117.54281953266418\" fill=\"black\" stroke=\"black\" stroke-width=\"3\" />\n",
       "<g>\n",
       "<circle cx=\"1410.0\" cy=\"120\" r=\"30\" stroke=\"black\" stroke-width=\"2\" fill=\"none\" />\n",
       "<text x=\"1410.0\" y=\"120\" font-size=\"20\" text-anchor=\"middle\" dominant-baseline=\"middle\" fill=\"black\">18</text>\n",
       "</g>\n",
       "<path d=\"M959.4861656080296,35.528656051505564 L1380.5138343919702,114.47134394849444 M1380.5138343919702,114.47134394849444 L1369.763669847376,117.54281953266418 L1371.606555197878,107.71409766332097\" fill=\"black\" stroke=\"black\" stroke-width=\"3\" />\n",
       "</svg>"
      ],
      "text/plain": [
       "<drawsvg.drawing.Drawing at 0x7446de44d1d0>"
      ]
     },
     "execution_count": 143,
     "metadata": {},
     "output_type": "execute_result"
    }
   ],
   "source": [
    "tree = add(tree=None, val=17)\n",
    "for v in [10, 16, 14, 15, 8, 7, 18]:\n",
    "    tree = add(tree, v)\n",
    "visualize_tree(convert_BSE(tree))"
   ]
  },
  {
   "cell_type": "markdown",
   "id": "c1bf8e50",
   "metadata": {},
   "source": [
    "The result of applying of the function to delete the \"10\" element is shown in the following tree."
   ]
  },
  {
   "cell_type": "code",
   "execution_count": 144,
   "id": "cf16bc47",
   "metadata": {},
   "outputs": [
    {
     "data": {
      "image/svg+xml": [
       "<?xml version=\"1.0\" encoding=\"UTF-8\"?>\n",
       "<svg xmlns=\"http://www.w3.org/2000/svg\" xmlns:xlink=\"http://www.w3.org/1999/xlink\"\n",
       "     width=\"900.0\" height=\"330\" viewBox=\"-10 -10 920.0 350\">\n",
       "<defs>\n",
       "</defs>\n",
       "<g>\n",
       "<circle cx=\"450.0\" cy=\"30\" r=\"30\" stroke=\"black\" stroke-width=\"2\" fill=\"none\" />\n",
       "<text x=\"450.0\" y=\"30\" font-size=\"20\" text-anchor=\"middle\" dominant-baseline=\"middle\" fill=\"black\">17</text>\n",
       "</g>\n",
       "<g>\n",
       "<circle cx=\"210.0\" cy=\"120\" r=\"30\" stroke=\"black\" stroke-width=\"2\" fill=\"none\" />\n",
       "<text x=\"210.0\" y=\"120\" font-size=\"20\" text-anchor=\"middle\" dominant-baseline=\"middle\" fill=\"black\">14</text>\n",
       "</g>\n",
       "<g>\n",
       "<circle cx=\"90.0\" cy=\"210\" r=\"30\" stroke=\"black\" stroke-width=\"2\" fill=\"none\" />\n",
       "<text x=\"90.0\" y=\"210\" font-size=\"20\" text-anchor=\"middle\" dominant-baseline=\"middle\" fill=\"black\">8</text>\n",
       "</g>\n",
       "<g>\n",
       "<circle cx=\"30.0\" cy=\"300\" r=\"30\" stroke=\"black\" stroke-width=\"2\" fill=\"none\" />\n",
       "<text x=\"30.0\" y=\"300\" font-size=\"20\" text-anchor=\"middle\" dominant-baseline=\"middle\" fill=\"black\">7</text>\n",
       "</g>\n",
       "<path d=\"M73.35899411324313,234.9615088301353 L46.64100588675687,275.0384911698647 M46.64100588675687,275.0384911698647 L48.02775637731994,263.94448724536016 L56.34825932069838,269.4914892076124\" fill=\"black\" stroke=\"black\" stroke-width=\"3\" />\n",
       "<path d=\"M186.0,138.0 L114.0,192.0 M114.0,192.0 L119.0,182.0 L125.0,190.0\" fill=\"black\" stroke=\"black\" stroke-width=\"3\" />\n",
       "<g>\n",
       "<circle cx=\"330.0\" cy=\"210\" r=\"30\" stroke=\"black\" stroke-width=\"2\" fill=\"none\" />\n",
       "<text x=\"330.0\" y=\"210\" font-size=\"20\" text-anchor=\"middle\" dominant-baseline=\"middle\" fill=\"black\">16</text>\n",
       "</g>\n",
       "<g>\n",
       "<circle cx=\"270.0\" cy=\"300\" r=\"30\" stroke=\"black\" stroke-width=\"2\" fill=\"none\" />\n",
       "<text x=\"270.0\" y=\"300\" font-size=\"20\" text-anchor=\"middle\" dominant-baseline=\"middle\" fill=\"black\">15</text>\n",
       "</g>\n",
       "<path d=\"M313.3589941132431,234.9615088301353 L286.6410058867569,275.0384911698647 M286.6410058867569,275.0384911698647 L288.02775637732,263.94448724536016 L296.3482593206984,269.4914892076124\" fill=\"black\" stroke=\"black\" stroke-width=\"3\" />\n",
       "<path d=\"M234.0,138.0 L306.0,192.0 M306.0,192.0 L295.0,190.0 L301.0,182.0\" fill=\"black\" stroke=\"black\" stroke-width=\"3\" />\n",
       "<path d=\"M421.91012467292865,40.53370324765175 L238.08987532707133,109.46629675234826 M238.08987532707133,109.46629675234826 L245.69754989481982,101.27341644861912 L249.20878431070372,110.63670822430956\" fill=\"black\" stroke=\"black\" stroke-width=\"3\" />\n",
       "<g>\n",
       "<circle cx=\"690.0\" cy=\"120\" r=\"30\" stroke=\"black\" stroke-width=\"2\" fill=\"none\" />\n",
       "<text x=\"690.0\" y=\"120\" font-size=\"20\" text-anchor=\"middle\" dominant-baseline=\"middle\" fill=\"black\">18</text>\n",
       "</g>\n",
       "<path d=\"M478.08987532707135,40.53370324765175 L661.9101246729286,109.46629675234826 M661.9101246729286,109.46629675234826 L650.7912156892962,110.63670822430956 L654.3024501051802,101.27341644861912\" fill=\"black\" stroke=\"black\" stroke-width=\"3\" />\n",
       "</svg>"
      ],
      "text/plain": [
       "<drawsvg.drawing.Drawing at 0x7446de44cbb0>"
      ]
     },
     "execution_count": 144,
     "metadata": {},
     "output_type": "execute_result"
    }
   ],
   "source": [
    "visualize_tree(convert_BSE(delete(tree=tree, val=10)))"
   ]
  }
 ],
 "metadata": {
  "kernelspec": {
   "display_name": "knowledge",
   "language": "python",
   "name": "python3"
  },
  "language_info": {
   "codemirror_mode": {
    "name": "ipython",
    "version": 3
   },
   "file_extension": ".py",
   "mimetype": "text/x-python",
   "name": "python",
   "nbconvert_exporter": "python",
   "pygments_lexer": "ipython3",
   "version": "3.13.5"
  }
 },
 "nbformat": 4,
 "nbformat_minor": 5
}
