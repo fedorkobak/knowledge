{
 "cells": [
  {
   "cell_type": "markdown",
   "id": "d9e51a26-c584-4a1e-b4d2-98f7905b13e9",
   "metadata": {},
   "source": [
    "# Binary search trees\n",
    "\n",
    "A **binary search tree (BST)** is a type of binary tree in which each node contains a value and has at most two child nodes: a left child and a right child. Each node can be represented as a triplet $(l, v, r)$, where:\n",
    "\n",
    "* $v$ is the value stored in the current node,\n",
    "* $l$ is the left child,\n",
    "* $r$ is the right child.\n",
    "\n",
    "The tree satisfies the **binary search property**:\n",
    "For every node, all values in its left subtree are strictly less than $v$, and all values in its right subtree are strictly greater than $v$:\n",
    "\n",
    "$$\n",
    "\\forall x \\in \\text{left subtree of } v, \\; x < v \\quad \\text{and} \\quad \\forall y \\in \\text{right subtree of } v, \\; v < y\n",
    "$$\n",
    "\n",
    "This property must hold recursively for all nodes in the tree.\n",
    "\n",
    "If elements are inserted into the tree in the random order, the average depth of nodes is $log(N)$ where $N$ is the number of nodes of the tree."
   ]
  },
  {
   "cell_type": "code",
   "execution_count": null,
   "id": "cca6e0a2",
   "metadata": {},
   "outputs": [],
   "source": [
    "from typing import Any"
   ]
  },
  {
   "cell_type": "markdown",
   "id": "3debd2a9",
   "metadata": {},
   "source": [
    "## Implementation\n",
    "\n",
    "Consider an implementing of the tree using Python. Only a node that stores a value and refer to the two same nodes is needed."
   ]
  },
  {
   "cell_type": "code",
   "execution_count": 25,
   "id": "24c9e453-c383-4c55-98f0-06f38a0c8b73",
   "metadata": {},
   "outputs": [],
   "source": [
    "class Node:\n",
    "    def __init__(\n",
    "        self,\n",
    "        val: Any = 0,\n",
    "        left: \"Node | None\" = None,\n",
    "        right: \"Node | None\" = None\n",
    "    ):\n",
    "        self.val = val\n",
    "        self.left = left\n",
    "        self.right = right"
   ]
  },
  {
   "cell_type": "markdown",
   "id": "dfd34284-d803-4f6e-9603-d31a2c0739bc",
   "metadata": {},
   "source": [
    "Particular realisatoin of the tree example in the cell below:"
   ]
  },
  {
   "cell_type": "code",
   "execution_count": 26,
   "id": "b32d26a1-28fa-4ffd-97ea-5a417ef0fe69",
   "metadata": {},
   "outputs": [],
   "source": [
    "#    [1]\n",
    "#  [2] [3]\n",
    "head = Node(\n",
    "    1,\n",
    "    Node(2),\n",
    "    Node(3)\n",
    ")"
   ]
  },
  {
   "cell_type": "markdown",
   "id": "99c7773f-fc58-491f-bcfc-9152afa13900",
   "metadata": {},
   "source": [
    "### Visualisation\n",
    "\n",
    "Sometimes, it's useful to be able to visualize trees. To to visualize tree just in the standard output, we'll use the following format:\n",
    "\n",
    "```\n",
    "[Head node]\n",
    "    [Left_1]\n",
    "        [Left_l2]\n",
    "        [Right_l2]\n",
    "    [Right_1]\n",
    "        [Left_r2]\n",
    "        [Right_r2]\n",
    "```"
   ]
  },
  {
   "cell_type": "markdown",
   "id": "192c7096",
   "metadata": {},
   "source": [
    "The follwing cell implements this function and displays the visualization outputs:"
   ]
  },
  {
   "cell_type": "code",
   "execution_count": 27,
   "id": "6422bd34-fc97-493f-974d-d3634a989673",
   "metadata": {},
   "outputs": [
    {
     "name": "stdout",
     "output_type": "stream",
     "text": [
      "[1]\n",
      "  [2]\n",
      "    [3]\n",
      "      [ ]\n",
      "      [ ]\n",
      "    [4]\n",
      "      [ ]\n",
      "      [ ]\n",
      "  [5]\n",
      "    [6]\n",
      "      [ ]\n",
      "      [ ]\n",
      "    [7]\n",
      "      [ ]\n",
      "      [ ]\n"
     ]
    }
   ],
   "source": [
    "def print_tree(node: Node | None, indent: int = 0):\n",
    "    if node is not None:\n",
    "        print(f\"{indent*' '}[{node.val}]\")\n",
    "        print_tree(node.left, indent+2)\n",
    "        print_tree(node.right, indent+2)\n",
    "    else:\n",
    "        print(f\"{indent*' '}[ ]\")\n",
    "\n",
    "head = Node(\n",
    "    1,\n",
    "    Node(\n",
    "        2,\n",
    "        Node(val=3),\n",
    "        Node(val=4)\n",
    "    ),\n",
    "    Node(\n",
    "        5,\n",
    "        Node(val=6),\n",
    "        Node(val=7)\n",
    "    )\n",
    ")\n",
    "print_tree(head)"
   ]
  }
 ],
 "metadata": {
  "kernelspec": {
   "display_name": "knowledge",
   "language": "python",
   "name": "python3"
  },
  "language_info": {
   "codemirror_mode": {
    "name": "ipython",
    "version": 3
   },
   "file_extension": ".py",
   "mimetype": "text/x-python",
   "name": "python",
   "nbconvert_exporter": "python",
   "pygments_lexer": "ipython3",
   "version": "3.13.5"
  }
 },
 "nbformat": 4,
 "nbformat_minor": 5
}
