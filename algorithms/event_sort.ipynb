{
 "cells": [
  {
   "cell_type": "markdown",
   "id": "d6136dff",
   "metadata": {},
   "source": [
    "# Event sort\n",
    "\n",
    "This page discusses the details of the using and implementing the event sorting approach."
   ]
  },
  {
   "cell_type": "markdown",
   "id": "8ea36c29",
   "metadata": {},
   "source": [
    "## Example\n",
    "\n",
    "Consider series of periods visualised on the following picture."
   ]
  },
  {
   "cell_type": "markdown",
   "id": "fd95de2b",
   "metadata": {},
   "source": [
    "<svg width=700 height=200 stroke=\"black\" stroke-width=\"3\"\n",
    "    style=\"font-family: 'LatinModern'\" font-style=\"italic\" font-size=30>\n",
    "  <line x1=0 y1=150 x2=605 y2=150 />\n",
    "    <line x1=605 y1=150 x2=574.75 y2=160 />\n",
    "    <line x1=605 y1=150 x2=574.75 y2=140 />\n",
    "  <g stroke-width=\"2\">\n",
    "    <line x1=30 y1=130 x2=300 y2=130 />\n",
    "    <line x1=100 y1=110 x2=240 y2=110 />\n",
    "    <line x1=180 y1=90 x2=360 y2=90 />\n",
    "    <line x1=360 y1=130 x2=550 y2=130 />\n",
    "    <g stroke-dasharray=\"4\">\n",
    "    <line x1=30 y1=130 x2=30 y2=150 />\n",
    "      <line x1=300 y1=130 x2=300 y2=150 />\n",
    "      <line x1=100 y1=110 x2=100 y2=150 />\n",
    "      <line x1=240 y1=110 x2=240 y2=150 />\n",
    "      <line x1=180 y1=90 x2=180 y2=150 />\n",
    "      <line x1=360 y1=90 x2=360 y2=150 />\n",
    "      <line x1=360 y1=130 x2=360 y2=150 />\n",
    "      <line x1=550 y1=130 x2=550 y2=150 />\n",
    "    </g>\n",
    "  </g>\n",
    "  <circle cx=30 cy=130 r=2 />\n",
    "  <circle cx=300 cy=130 r=2 />\n",
    "  <circle cx=100 cy=110 r=2 />\n",
    "  <circle cx=240 cy=110 r=2 />\n",
    "  <circle cx=180 cy=90 r=2 />\n",
    "  <circle cx=360 cy=90 r=2 />\n",
    "  <circle cx=360 cy=130 r=2 />\n",
    "  <circle cx=550 cy=130 r=2 />\n",
    "  <g stroke-width=0 text-anchor=\"middle\">\n",
    "    <text x=580 y=180>t</text>\n",
    "    <text x=100 y=180>100</text>\n",
    "    <text x=550 y=180>550</text>\n",
    "    <text x=360 y=180>360</text>\n",
    "    <text x=300 y=180>300</text>\n",
    "    <text x=240 y=180>240</text>\n",
    "    <text x=180 y=180>180</text>\n",
    "    <text x=30 y=180>30</text>\n",
    "  </g>\n",
    "</svg>\n"
   ]
  },
  {
   "cell_type": "markdown",
   "id": "32d01eb6",
   "metadata": {},
   "source": [
    "Suppose you need to identify the time interval with the most simultaneous processes. The event-sort approach is a special solution this type of tasks."
   ]
  },
  {
   "cell_type": "markdown",
   "id": "cff61797",
   "metadata": {},
   "source": [
    "---\n",
    "\n",
    "The following cell shows the program's implementation and prints its output."
   ]
  },
  {
   "cell_type": "code",
   "execution_count": 1,
   "id": "61f40574",
   "metadata": {},
   "outputs": [
    {
     "name": "stdout",
     "output_type": "stream",
     "text": [
      "(180, 240)\n"
     ]
    }
   ],
   "source": [
    "START, END = 0, 1\n",
    "intervals = [(30, 300), (100, 240), (180, 360), (360, 550)]\n",
    "\n",
    "events: list[tuple[int, int]] = []\n",
    "for start, end in intervals:\n",
    "    events.append((start, START))\n",
    "    events.append((end, END))\n",
    "\n",
    "events.sort()\n",
    "\n",
    "max_count = 0\n",
    "best_interval = (0, 0)\n",
    "active_intervals = 0\n",
    "for i, (e_moment, e_type) in enumerate(events):\n",
    "    if (active_intervals > max_count) and (i != 0):\n",
    "        max_count = active_intervals\n",
    "        best_interval = (events[i - 1][0], e_moment)\n",
    "\n",
    "    if e_type == START:\n",
    "        active_intervals += 1\n",
    "    else:  # e_type == END\n",
    "        active_intervals -= 1\n",
    "\n",
    "\n",
    "print(best_interval)"
   ]
  },
  {
   "cell_type": "markdown",
   "id": "5f26676f",
   "metadata": {},
   "source": [
    "## Two passes\n",
    "\n",
    "There are some tasks for which the event-sorting approach can lead to quadratic complexity. These are tasks that require returning a set of objects corresponding to a specific state - so at each step, the conditions are checked and the current set is copied to the result set. In the worst case, the result set may need to be updated at every event, which results in quadratic complexity with respect to the number of events.\n",
    "\n",
    "There are several approaches that can be used in specific cases, but the most universal solution is to go through the events twice: first, to determine the positions where the conditions are met, and second, to find the appropriate result based on those positions."
   ]
  }
 ],
 "metadata": {
  "kernelspec": {
   "display_name": "knowledge",
   "language": "python",
   "name": "python3"
  },
  "language_info": {
   "codemirror_mode": {
    "name": "ipython",
    "version": 3
   },
   "file_extension": ".py",
   "mimetype": "text/x-python",
   "name": "python",
   "nbconvert_exporter": "python",
   "pygments_lexer": "ipython3",
   "version": "3.13.5"
  }
 },
 "nbformat": 4,
 "nbformat_minor": 5
}
