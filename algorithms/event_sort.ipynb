{
 "cells": [
  {
   "cell_type": "markdown",
   "id": "d6136dff",
   "metadata": {},
   "source": [
    "# Event sort\n",
    "\n",
    "This page discusses the details of the using and implementing the event sorting approach."
   ]
  },
  {
   "cell_type": "code",
   "execution_count": 5,
   "id": "205c857e",
   "metadata": {},
   "outputs": [],
   "source": [
    "from typing import Callable\n",
    "from datetime import datetime\n",
    "from matplotlib import pyplot as plt"
   ]
  },
  {
   "cell_type": "markdown",
   "id": "8ea36c29",
   "metadata": {},
   "source": [
    "## Example\n",
    "\n",
    "Consider series of periods visualised on the following picture."
   ]
  },
  {
   "cell_type": "markdown",
   "id": "fd95de2b",
   "metadata": {},
   "source": [
    "<svg width=700 height=200 stroke=\"black\" stroke-width=\"3\"\n",
    "    style=\"font-family: 'LatinModern'\" font-style=\"italic\" font-size=30>\n",
    "  <line x1=0 y1=150 x2=605 y2=150 />\n",
    "    <line x1=605 y1=150 x2=574.75 y2=160 />\n",
    "    <line x1=605 y1=150 x2=574.75 y2=140 />\n",
    "  <g stroke-width=\"2\">\n",
    "    <line x1=30 y1=130 x2=300 y2=130 />\n",
    "    <line x1=100 y1=110 x2=240 y2=110 />\n",
    "    <line x1=180 y1=90 x2=360 y2=90 />\n",
    "    <line x1=360 y1=130 x2=550 y2=130 />\n",
    "    <g stroke-dasharray=\"4\">\n",
    "    <line x1=30 y1=130 x2=30 y2=150 />\n",
    "      <line x1=300 y1=130 x2=300 y2=150 />\n",
    "      <line x1=100 y1=110 x2=100 y2=150 />\n",
    "      <line x1=240 y1=110 x2=240 y2=150 />\n",
    "      <line x1=180 y1=90 x2=180 y2=150 />\n",
    "      <line x1=360 y1=90 x2=360 y2=150 />\n",
    "      <line x1=360 y1=130 x2=360 y2=150 />\n",
    "      <line x1=550 y1=130 x2=550 y2=150 />\n",
    "    </g>\n",
    "  </g>\n",
    "  <circle cx=30 cy=130 r=2 />\n",
    "  <circle cx=300 cy=130 r=2 />\n",
    "  <circle cx=100 cy=110 r=2 />\n",
    "  <circle cx=240 cy=110 r=2 />\n",
    "  <circle cx=180 cy=90 r=2 />\n",
    "  <circle cx=360 cy=90 r=2 />\n",
    "  <circle cx=360 cy=130 r=2 />\n",
    "  <circle cx=550 cy=130 r=2 />\n",
    "  <g stroke-width=0 text-anchor=\"middle\">\n",
    "    <text x=580 y=180>t</text>\n",
    "    <text x=100 y=180>100</text>\n",
    "    <text x=550 y=180>550</text>\n",
    "    <text x=360 y=180>360</text>\n",
    "    <text x=300 y=180>300</text>\n",
    "    <text x=240 y=180>240</text>\n",
    "    <text x=180 y=180>180</text>\n",
    "    <text x=30 y=180>30</text>\n",
    "  </g>\n",
    "</svg>\n"
   ]
  },
  {
   "cell_type": "markdown",
   "id": "32d01eb6",
   "metadata": {},
   "source": [
    "Suppose you need to identify the time interval with the most simultaneous processes. The event-sort approach is a special solution this type of tasks."
   ]
  },
  {
   "cell_type": "markdown",
   "id": "cff61797",
   "metadata": {},
   "source": [
    "---\n",
    "\n",
    "The following cell shows the program's implementation and prints its output."
   ]
  },
  {
   "cell_type": "code",
   "execution_count": 1,
   "id": "61f40574",
   "metadata": {},
   "outputs": [
    {
     "name": "stdout",
     "output_type": "stream",
     "text": [
      "(180, 240)\n"
     ]
    }
   ],
   "source": [
    "START, END = 0, 1\n",
    "intervals = [(30, 300), (100, 240), (180, 360), (360, 550)]\n",
    "\n",
    "events: list[tuple[int, int]] = []\n",
    "for start, end in intervals:\n",
    "    events.append((start, START))\n",
    "    events.append((end, END))\n",
    "\n",
    "events.sort()\n",
    "\n",
    "max_count = 0\n",
    "best_interval = (0, 0)\n",
    "active_intervals = 0\n",
    "for i, (e_moment, e_type) in enumerate(events):\n",
    "    if (active_intervals > max_count) and (i != 0):\n",
    "        max_count = active_intervals\n",
    "        best_interval = (events[i - 1][0], e_moment)\n",
    "\n",
    "    if e_type == START:\n",
    "        active_intervals += 1\n",
    "    else:  # e_type == END\n",
    "        active_intervals -= 1\n",
    "\n",
    "\n",
    "print(best_interval)"
   ]
  },
  {
   "cell_type": "markdown",
   "id": "5f26676f",
   "metadata": {},
   "source": [
    "## Two passes\n",
    "\n",
    "There are some tasks for which the event-sorting approach can lead to quadratic complexity. These are tasks that require returning a set of objects corresponding to a specific state - so at each step, the conditions are checked and the current set is copied to the result set. In the worst case, the result set may need to be updated at every event, which results in quadratic complexity with respect to the number of events.\n",
    "\n",
    "There are several approaches that can be used in specific cases, but the most universal solution is to go through the events twice: first, to determine the positions where the conditions are met, and second, to find the appropriate result based on those positions."
   ]
  },
  {
   "cell_type": "markdown",
   "id": "02a366da",
   "metadata": {},
   "source": [
    "---\n",
    "\n",
    "Consider the following task: given a set of time periods $(t_i, t'_i)$, find the set of indices of the periods that fall within the time interval where the maximum number of periods overlap."
   ]
  },
  {
   "cell_type": "markdown",
   "id": "a3957270",
   "metadata": {},
   "source": [
    "The following cell defines the function that generates the events, as this code is shared by both solutions."
   ]
  },
  {
   "cell_type": "code",
   "execution_count": 6,
   "id": "7ebea430",
   "metadata": {},
   "outputs": [],
   "source": [
    "START, END = 0, 1\n",
    "\n",
    "def construct_events(intervals: list[tuple[int, int]]) -> list[tuple[int, int, int]]:\n",
    "    events: list[tuple[int, int, int]] = []\n",
    "    for i, (start, end) in enumerate(intervals):\n",
    "        events.append((start, START, i))\n",
    "        events.append((end, END, i))\n",
    "    return events"
   ]
  },
  {
   "cell_type": "markdown",
   "id": "9a320d61",
   "metadata": {},
   "source": [
    "The following cell defines the basic solution. As previously described, it simply copies the best set of the items wheather a better solution is found."
   ]
  },
  {
   "cell_type": "code",
   "execution_count": 7,
   "id": "ac3f1de9",
   "metadata": {},
   "outputs": [],
   "source": [
    "def basic_solution(intervals: list[tuple[int, int]]) -> set[int]:\n",
    "    events = construct_events(intervals)\n",
    "    events.sort()\n",
    "\n",
    "    intervals_set: set[int] = set()\n",
    "    ans: set[int] = set()\n",
    "\n",
    "    for _, e_type, i in events:\n",
    "        if e_type == START:\n",
    "            intervals_set.add(i)\n",
    "        else:  # e_type == END\n",
    "            intervals_set.remove(i)\n",
    "        if len(intervals_set) > len(ans):\n",
    "            ans = intervals_set.copy() # Notice that we copy the set here\n",
    "    return ans"
   ]
  },
  {
   "cell_type": "markdown",
   "id": "65374f5b",
   "metadata": {},
   "source": [
    "The next code uses the `basic_solution` function."
   ]
  },
  {
   "cell_type": "code",
   "execution_count": 9,
   "id": "4a95290d",
   "metadata": {},
   "outputs": [
    {
     "data": {
      "text/plain": [
       "{1, 2}"
      ]
     },
     "execution_count": 9,
     "metadata": {},
     "output_type": "execute_result"
    }
   ],
   "source": [
    "basic_solution([(30, 50), (100, 240), (180, 360), (360, 550)])"
   ]
  },
  {
   "cell_type": "markdown",
   "id": "23f8f425",
   "metadata": {},
   "source": [
    "But consider a really specific kind of input, as visualized in the following picture:"
   ]
  },
  {
   "cell_type": "markdown",
   "id": "06424a00",
   "metadata": {},
   "source": [
    "<svg width=700 height=200 stroke=\"black\" stroke-width=\"3\"\n",
    "    style=\"font-family: 'LatinModern'\" font-style=\"italic\" font-size=30>\n",
    "  <line x1=0 y1=150 x2=572 y2=150 />\n",
    "    <line x1=572 y1=150 x2=543.4 y2=160 />\n",
    "    <line x1=572 y1=150 x2=543.4 y2=140 />\n",
    "  <g stroke-width=\"2\">\n",
    "    <line x1=30 y1=130 x2=400 y2=130 />\n",
    "    <line x1=60 y1=110 x2=430 y2=110 />\n",
    "    <line x1=90 y1=90 x2=460 y2=90 />\n",
    "    <line x1=120 y1=70 x2=490 y2=70 />\n",
    "    <line x1=150 y1=50 x2=520 y2=50 />\n",
    "    <g stroke-dasharray=\"4\">\n",
    "    <line x1=30 y1=130 x2=30 y2=150 />\n",
    "      <line x1=400 y1=130 x2=400 y2=150 />\n",
    "      <line x1=60 y1=110 x2=60 y2=150 />\n",
    "      <line x1=430 y1=110 x2=430 y2=150 />\n",
    "      <line x1=90 y1=90 x2=90 y2=150 />\n",
    "      <line x1=460 y1=90 x2=460 y2=150 />\n",
    "      <line x1=120 y1=70 x2=120 y2=150 />\n",
    "      <line x1=490 y1=70 x2=490 y2=150 />\n",
    "      <line x1=150 y1=50 x2=150 y2=150 />\n",
    "      <line x1=520 y1=50 x2=520 y2=150 />\n",
    "    </g>\n",
    "  </g>\n",
    "  <circle cx=30 cy=130 r=2 />\n",
    "  <circle cx=400 cy=130 r=2 />\n",
    "  <circle cx=60 cy=110 r=2 />\n",
    "  <circle cx=430 cy=110 r=2 />\n",
    "  <circle cx=90 cy=90 r=2 />\n",
    "  <circle cx=460 cy=90 r=2 />\n",
    "  <circle cx=120 cy=70 r=2 />\n",
    "  <circle cx=490 cy=70 r=2 />\n",
    "  <circle cx=150 cy=50 r=2 />\n",
    "  <circle cx=520 cy=50 r=2 />\n",
    "  <g stroke-width=0 text-anchor=\"middle\">\n",
    "    <text x=580 y=180>t</text>\n",
    "    <text x=25 y=175>t</text><text x=35 y=180 font-size=15>1</text>\n",
    "    <text x=395 y=175>t'</text><text x=405 y=180 font-size=15>1</text>\n",
    "    <text x=55 y=175>t</text><text x=65 y=180 font-size=15>2</text>\n",
    "    <text x=425 y=175>t'</text><text x=435 y=180 font-size=15>2</text>\n",
    "    <text x=85 y=175>t</text><text x=95 y=180 font-size=15>3</text>\n",
    "    <text x=455 y=175>t'</text><text x=465 y=180 font-size=15>3</text>\n",
    "    <text x=115 y=175>t</text><text x=125 y=180 font-size=15>4</text>\n",
    "    <text x=485 y=175>t'</text><text x=495 y=180 font-size=15>4</text>\n",
    "    <text x=145 y=175>t</text><text x=155 y=180 font-size=15>5</text>\n",
    "    <text x=515 y=175>t'</text><text x=525 y=180 font-size=15>5</text>\n",
    "  </g>\n",
    "</svg>\n"
   ]
  },
  {
   "cell_type": "markdown",
   "id": "6bdd325a",
   "metadata": {},
   "source": [
    "With each event, a new element is added to the set. Therefore the algorithm is required to copy the accumulated elements to the answer for each of first five iterations."
   ]
  },
  {
   "cell_type": "markdown",
   "id": "e37b8406",
   "metadata": {},
   "source": [
    "The following cell defines a function that generates this type of input at a defined scale."
   ]
  },
  {
   "cell_type": "code",
   "execution_count": 10,
   "id": "6d2525df",
   "metadata": {},
   "outputs": [],
   "source": [
    "def generate_case(n: int) -> list[tuple[int, int]]:\n",
    "    return [(i, n + i)for i in range(n)]"
   ]
  },
  {
   "cell_type": "markdown",
   "id": "6c84444f",
   "metadata": {},
   "source": [
    "The next code implements the performance estimation function, that gradually increases the arrays generated by `generate_case`, and measures the time it takes to process the data."
   ]
  },
  {
   "cell_type": "code",
   "execution_count": 11,
   "id": "57de2937",
   "metadata": {},
   "outputs": [],
   "source": [
    "def estimate_time_complexity(target: Callable[[list[tuple[int, int]]], set[int]]) -> list[tuple[int, float]]: \n",
    "    timings: list[tuple[int, float]] = []\n",
    "    for i in range(1, 2_000):\n",
    "        res: list[float] = []\n",
    "        for _ in range(5):\n",
    "            start = datetime.now()\n",
    "            target(generate_case(i))\n",
    "            end = datetime.now()\n",
    "            res.append((end - start).total_seconds())\n",
    "        timings.append((i, sum(res)/len(res)))\n",
    "    return timings"
   ]
  },
  {
   "cell_type": "markdown",
   "id": "6ef93f31",
   "metadata": {},
   "source": [
    "The execution time progress related to the number of process intervals is displayed in the following cell."
   ]
  },
  {
   "cell_type": "code",
   "execution_count": 12,
   "id": "a88c1eee",
   "metadata": {},
   "outputs": [
    {
     "data": {
      "text/plain": [
       "Text(0, 0.5, 'Time (seconds)')"
      ]
     },
     "execution_count": 12,
     "metadata": {},
     "output_type": "execute_result"
    },
    {
     "data": {
      "image/png": "[encoded data removed]",
      "text/plain": [
       "<Figure size 640x480 with 1 Axes>"
      ]
     },
     "metadata": {},
     "output_type": "display_data"
    }
   ],
   "source": [
    "timings_basic = estimate_time_complexity(basic_solution)\n",
    "plt.plot([x for x, _ in timings_basic], [y for _, y in timings_basic])\n",
    "plt.xlabel('Number of intervals')\n",
    "plt.ylabel('Time (seconds)')"
   ]
  },
  {
   "cell_type": "markdown",
   "id": "494aea2f",
   "metadata": {},
   "source": [
    "There is a quadratic progression."
   ]
  },
  {
   "cell_type": "markdown",
   "id": "f6aab7af",
   "metadata": {},
   "source": [
    "The approach that solves this issue is realized in the function below. It simply finds the maximum simultanious intervals and then accounts and returns the set of elements it consists of."
   ]
  },
  {
   "cell_type": "code",
   "execution_count": 15,
   "id": "c9783dad",
   "metadata": {},
   "outputs": [],
   "source": [
    "def two_pass(intervals: list[tuple[int, int]]) -> set[int]:\n",
    "    events = construct_events(intervals)\n",
    "    events.sort()\n",
    "\n",
    "    intervals_set: set[int] = set()\n",
    "\n",
    "    count = 0\n",
    "    max_count = 0\n",
    "    # First pass to find the maximum number of overlapping intervals\n",
    "    for _, e_type, _ in events:\n",
    "        if e_type == START:\n",
    "            count += 1\n",
    "        else:  # e_type == END\n",
    "            count -= 1\n",
    "        max_count = max(max_count, count)\n",
    "\n",
    "    # Second pass to find the indices of intervals with the maximum overlap\n",
    "    for _, e_type, i in events:\n",
    "        if e_type == START:\n",
    "            intervals_set.add(i)\n",
    "        else:  # e_type == END\n",
    "            intervals_set.remove(i)\n",
    "        if len(intervals_set) == max_count:\n",
    "            return intervals_set\n",
    "    return set()"
   ]
  },
  {
   "cell_type": "markdown",
   "id": "e75b3a8a",
   "metadata": {},
   "source": [
    "The results of applying the same test applied to the `two_pass` is displayed below."
   ]
  },
  {
   "cell_type": "code",
   "execution_count": 16,
   "id": "842ca60e",
   "metadata": {},
   "outputs": [],
   "source": [
    "timings_two_passes = estimate_time_complexity(two_pass)"
   ]
  },
  {
   "cell_type": "code",
   "execution_count": 17,
   "id": "4b73bf6f",
   "metadata": {},
   "outputs": [
    {
     "data": {
      "text/plain": [
       "Text(0, 0.5, 'Time (seconds)')"
      ]
     },
     "execution_count": 17,
     "metadata": {},
     "output_type": "execute_result"
    },
    {
     "data": {
      "image/png": "[encoded data removed]",
      "text/plain": [
       "<Figure size 640x480 with 1 Axes>"
      ]
     },
     "metadata": {},
     "output_type": "display_data"
    }
   ],
   "source": [
    "plt.plot([x for x, _ in timings_basic], [y for _, y in timings_basic])\n",
    "plt.plot([x for x, _ in timings_two_passes], [y for _, y in timings_two_passes])\n",
    "plt.xlabel('Number of intervals')\n",
    "plt.ylabel('Time (seconds)')"
   ]
  },
  {
   "cell_type": "markdown",
   "id": "b338bcde",
   "metadata": {},
   "source": [
    "Even if the exact complexities of the algorithms are not obvious, the `two_pass` approach certainly has better results here."
   ]
  }
 ],
 "metadata": {
  "kernelspec": {
   "display_name": "knowledge",
   "language": "python",
   "name": "python3"
  },
  "language_info": {
   "codemirror_mode": {
    "name": "ipython",
    "version": 3
   },
   "file_extension": ".py",
   "mimetype": "text/x-python",
   "name": "python",
   "nbconvert_exporter": "python",
   "pygments_lexer": "ipython3",
   "version": "3.13.5"
  }
 },
 "nbformat": 4,
 "nbformat_minor": 5
}
