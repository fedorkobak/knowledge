{
 "cells": [
  {
   "cell_type": "markdown",
   "id": "77a15eaf-f432-49bd-bc7b-26cc029d7dbb",
   "metadata": {},
   "source": [
    "# Dynamic programming\n",
    "\n",
    "Dynamic programming is a popular way to solve some algorithmic problems. The main approach of this type of task is that to find the best solution at the $N-th$ step, you have to check the solution at the $N-1$ step."
   ]
  },
  {
   "cell_type": "markdown",
   "id": "9773e001-cb72-4332-8d69-72732e9ad89b",
   "metadata": {},
   "source": [
    "## Robot task"
   ]
  },
  {
   "cell_type": "markdown",
   "id": "32eab42f-edfb-4c11-a9a2-f941f45ae713",
   "metadata": {},
   "source": [
    "### Problem statement\n",
    "\n",
    "This is a classic example of a dynamic programming problem. Suppose we have a square board of size NxN. And there is robot that stay on the top left cell of the board. We need to count ways that robot can use to get to the bottom right corner of the field. Assuming the robot can only walk to the right and down."
   ]
  },
  {
   "cell_type": "markdown",
   "id": "425823c7-c881-4fe4-a8fa-29ed7602bbbc",
   "metadata": {},
   "source": [
    "So if we are talking about a 3x3 cell, there are 6 possibilities. All of them are described in the following cell:\n",
    "\n",
    "```\n",
    "[→] [→] [↓] | [→] [↓] [ ] | [→] [↓] [ ]\n",
    "[ ] [ ] [↓] | [ ] [→] [↓] | [ ] [↓] [ ]\n",
    "[ ] [ ] [ ] | [ ] [ ] [ ] | [ ] [→] [ ]\n",
    "----------------------------------------\n",
    "[↓] [ ] [ ] | [↓] [ ] [ ] | [↓] [ ] [ ]\n",
    "[↓] [ ] [ ] | [→] [↓] [ ] | [→] [→] [↓]\n",
    "[→] [→] [ ] | [ ] [→] [ ] | [ ] [ ] [ ]\n",
    "```"
   ]
  },
  {
   "cell_type": "markdown",
   "id": "705a91f8-2fdb-4c2a-8ea0-c91c684be531",
   "metadata": {},
   "source": [
    "### Idea\n",
    "\n",
    "For a cell with coordinates $(i,j)$, we can count the number of passes by simply summing the number of passes for the cell $(i-1, j-1)$. So we can simply use a recursion that sums the number of passes for the top cell and the left cell. \n",
    "\n",
    "To apply the function once to each cell, you can simply save the counts for the cells and use them again in the next steps - this method is called memorisation. So in each iteration you have to check if the number of paths to the cell in question is already known, and if so, just return the result of the previous steps.\n",
    "\n",
    "**Trick**\n",
    "\n",
    "There is only one way to reach the top row and left column, so you can fill them before the recursion. There's great convenience in such an approach - you don't have to worry about leaving the boundaries of the array - for the outermost cells, the recursion will simply return the pre-defined 1."
   ]
  },
  {
   "cell_type": "markdown",
   "id": "078f5155-1d70-4dba-8757-1e73defe8af6",
   "metadata": {},
   "source": [
    "### Python implementaion\n",
    "\n",
    "There is realisation of this algorithm in python:"
   ]
  },
  {
   "cell_type": "code",
   "execution_count": 11,
   "id": "2096994f-908a-4991-b5aa-f2824ba223b3",
   "metadata": {},
   "outputs": [],
   "source": [
    "def solve(arr, i, j):\n",
    "    '''\n",
    "    Recursion that returns the number \n",
    "    of ways to enrich cell i,j in a \n",
    "    board defined by arr.\n",
    "\n",
    "    Parameters\n",
    "    ----------\n",
    "    arr : list of lists\n",
    "        board of the task;\n",
    "    i,j : int\n",
    "        The coordinates of the cell for \n",
    "        which we are looking for the \n",
    "        number of paths.\n",
    "\n",
    "    Returns\n",
    "    ----------\n",
    "    out : int\n",
    "        number of ways to reach the \n",
    "        cell under under consideration.\n",
    "    '''\n",
    "    if arr[i][j]==0:\n",
    "        arr[i][j]=solve(arr, i-1, j) + solve(arr, i, j-1)\n",
    "    return arr[i][j]\n",
    "\n",
    "def run(N):\n",
    "    '''\n",
    "    Find number of ways that allows to\n",
    "    enrich cell botton right cell of board\n",
    "    with size NxN from the top left cell\n",
    "    of the board\n",
    "\n",
    "    Parameters\n",
    "    ----------\n",
    "    N : int\n",
    "        number of columns and rows \n",
    "        on the that we are solving \n",
    "        the problem for.\n",
    "\n",
    "    Returns\n",
    "    ----------\n",
    "    out : int\n",
    "        number of ways to reach the top\n",
    "        left cell from the bottom right cell.\n",
    "    '''\n",
    "    arr = [\n",
    "        [ (1 if (i==0 or j==0) else 0) for i in range(N)] \n",
    "        for j in range(N)\n",
    "    ]\n",
    "    return solve(arr, N-1, N-1)"
   ]
  },
  {
   "cell_type": "markdown",
   "id": "f96a4313-eec5-4ad4-9286-677d4e021665",
   "metadata": {},
   "source": [
    "So now we calculate the number of ways for different board sizes:"
   ]
  },
  {
   "cell_type": "code",
   "execution_count": 17,
   "id": "24cd7db7-5c9c-4052-a9bf-3fc346060573",
   "metadata": {},
   "outputs": [
    {
     "name": "stdout",
     "output_type": "stream",
     "text": [
      "board1x1 - number of pathes 1\n",
      "board2x2 - number of pathes 2\n",
      "board3x3 - number of pathes 6\n",
      "board4x4 - number of pathes 20\n",
      "board5x5 - number of pathes 70\n",
      "board6x6 - number of pathes 252\n",
      "board7x7 - number of pathes 924\n",
      "board8x8 - number of pathes 3432\n",
      "board9x9 - number of pathes 12870\n"
     ]
    }
   ],
   "source": [
    "for i in range(1, 10):\n",
    "    print(f\"board{i}x{i} - number of pathes {run(i)}\")"
   ]
  }
 ],
 "metadata": {
  "kernelspec": {
   "display_name": "Python 3 (ipykernel)",
   "language": "python",
   "name": "python3"
  },
  "language_info": {
   "codemirror_mode": {
    "name": "ipython",
    "version": 3
   },
   "file_extension": ".py",
   "mimetype": "text/x-python",
   "name": "python",
   "nbconvert_exporter": "python",
   "pygments_lexer": "ipython3",
   "version": "3.10.12"
  }
 },
 "nbformat": 4,
 "nbformat_minor": 5
}
