{
 "cells": [
  {
   "cell_type": "markdown",
   "id": "77a15eaf-f432-49bd-bc7b-26cc029d7dbb",
   "metadata": {},
   "source": [
    "# Dynamic programming\n",
    "\n",
    "Dynamic programming is a popular way to solve some algorithmic problems. The main approach of this type of task is that to find the best solution at the $N-th$ step, you have to check the solution at the $N-1$ step."
   ]
  },
  {
   "cell_type": "markdown",
   "id": "9773e001-cb72-4332-8d69-72732e9ad89b",
   "metadata": {},
   "source": [
    "## Robot task"
   ]
  },
  {
   "cell_type": "markdown",
   "id": "32eab42f-edfb-4c11-a9a2-f941f45ae713",
   "metadata": {},
   "source": [
    "## Problem statement\n",
    "\n",
    "This is a classic example of a dynamic programming problem. Suppose we have a square board of size NxN. And there is robot that stay on the top left cell of the board. We need to count ways that robot can use to get to the bottom right corner of the field. Assuming the robot can only walk to the right and down."
   ]
  },
  {
   "cell_type": "markdown",
   "id": "425823c7-c881-4fe4-a8fa-29ed7602bbbc",
   "metadata": {},
   "source": [
    "So if we are talking about a 3x3 cell, there are 6 possibilities. All of them are described in the following cell:\n",
    "\n",
    "```\n",
    "[→] [→] [↓] | [→] [↓] [ ] | [→] [↓] [ ]\n",
    "[ ] [ ] [↓] | [ ] [→] [↓] | [ ] [↓] [ ]\n",
    "[ ] [ ] [ ] | [ ] [ ] [ ] | [ ] [→] [ ]\n",
    "----------------------------------------\n",
    "[↓] [ ] [ ] | [↓] [ ] [ ] | [↓] [ ] [ ]\n",
    "[↓] [ ] [ ] | [→] [↓] [ ] | [→] [→] [↓]\n",
    "[→] [→] [ ] | [ ] [→] [ ] | [ ] [ ] [ ]\n",
    "```"
   ]
  }
 ],
 "metadata": {
  "kernelspec": {
   "display_name": "Python 3 (ipykernel)",
   "language": "python",
   "name": "python3"
  },
  "language_info": {
   "codemirror_mode": {
    "name": "ipython",
    "version": 3
   },
   "file_extension": ".py",
   "mimetype": "text/x-python",
   "name": "python",
   "nbconvert_exporter": "python",
   "pygments_lexer": "ipython3",
   "version": "3.10.12"
  }
 },
 "nbformat": 4,
 "nbformat_minor": 5
}
