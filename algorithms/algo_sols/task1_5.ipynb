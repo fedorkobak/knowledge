{
 "cells": [
  {
   "cell_type": "markdown",
   "metadata": {},
   "source": [
    "## Обозначения\n",
    "\n",
    "\n",
    "\n",
    "$K_1, K_2$ - номера квартир;\n",
    "\n",
    "$P_1, P_2$ - номера подъездов;\n",
    "\n",
    "$N_1, N_2$ - этаж на котором находится $i$-я из рассматриваемых квартир;\n",
    "\n",
    "$G$ - количество квартир в на лесничной клетке;\n",
    "\n",
    "$M$ - количесво этажей в доме.\n"
   ]
  },
  {
   "cell_type": "markdown",
   "metadata": {},
   "source": [
    "## Известно\n",
    "\n",
    "$K_1, K_2, P_2, N_2, M \\leq 10^6$"
   ]
  },
  {
   "cell_type": "markdown",
   "metadata": {},
   "source": [
    "## Найти\n",
    "\n",
    "$P_1, N_1$"
   ]
  },
  {
   "cell_type": "markdown",
   "metadata": {},
   "source": [
    "## Решение"
   ]
  },
  {
   "cell_type": "markdown",
   "metadata": {},
   "source": [
    "$G = \\lceil (K_2 - M*G*(P_2-1))/N_2\\rceil$\n",
    "\n",
    "$M*(P_2 - 1)$ -  суммарное количество лесничных клеток во всех предыдущих подъездах;\n",
    "\n",
    "$T_2 = M*(P_2-1) + N_2$ - суммарное количество лесничных клеток до квартиры 2 (включая клетки предыдущих подъездов и саму клетку на которой находится квартира);\n",
    "\n",
    "Тогда $G$ может быть так-же записан так:\n",
    "\n",
    "$$G = \\begin{cases} \n",
    "\\left\\lceil K_2/T_2 \\right\\rceil, T_2 > 1 \\\\\n",
    "\\text{невозможно определить}, T_2 = 1\n",
    "\\end{cases}\n",
    "$$\n",
    "\n",
    "Причем обязательно $T_2< K_2$, в противном случае получиться что квартир меньше чем лестничных клеток;\n",
    "\n",
    "Но это сработает только если квартира 2 не на первом этаже первого подъезда."
   ]
  },
  {
   "cell_type": "markdown",
   "metadata": {},
   "source": [
    "Теперь выразим какая по счету (со всеми предыдущими клетками) искомая клетка \n",
    "\n",
    "$T_1 = \\lceil K_1/G \\rceil$.\n",
    "\n",
    "Тогда: \n",
    "\n",
    "$P_1 = \\lceil T_1 / M \\rceil$\n",
    "\n",
    "Тогда:\n",
    "\n",
    "$N_1 = T_1-(P_1-1)*M$"
   ]
  },
  {
   "cell_type": "markdown",
   "metadata": {},
   "source": [
    "### Частные случаи"
   ]
  },
  {
   "cell_type": "markdown",
   "metadata": {},
   "source": [
    "#### 1"
   ]
  },
  {
   "cell_type": "markdown",
   "metadata": {},
   "source": [
    "$K_1 = 89; M = 20; K_2 = 41;P_2 = 1; N_2=11$\n",
    "\n",
    "$$G=\\left\\lceil \\frac{41}{11} \\right\\rceil = 4$$\n",
    "\n",
    "$T_1 = 89/4 = 22$\n",
    "\n",
    "$P_1 = \\left\\lceil 22/20 \\right\\rceil = 2$\n",
    "\n",
    "$N_1=22-1*20 = 2$"
   ]
  },
  {
   "cell_type": "markdown",
   "metadata": {},
   "source": [
    "#### 2"
   ]
  },
  {
   "cell_type": "markdown",
   "metadata": {},
   "source": [
    "$K_1=11;M=1;K_2=1; P_2=1; N_2=1$\n",
    "\n",
    "$T_2 = 1$\n",
    "\n",
    "$G - \\text{невозможно определить}$"
   ]
  },
  {
   "cell_type": "markdown",
   "metadata": {},
   "source": [
    "#### 3"
   ]
  },
  {
   "cell_type": "markdown",
   "metadata": {},
   "source": [
    "$K_1 = 11; M = 1; K_2 = 5; P_2 = 1; N_2 = 2$\n"
   ]
  },
  {
   "cell_type": "markdown",
   "metadata": {},
   "source": [
    "\n",
    "$G = 3$"
   ]
  },
  {
   "cell_type": "markdown",
   "metadata": {},
   "source": [
    "#### 4"
   ]
  },
  {
   "cell_type": "markdown",
   "metadata": {},
   "source": [
    "$K_1=3; M=2; K_2=2;P_2=2;N_2=1$"
   ]
  },
  {
   "cell_type": "markdown",
   "metadata": {},
   "source": [
    "$T_2 = 3$"
   ]
  },
  {
   "cell_type": "markdown",
   "metadata": {},
   "source": [
    "$G=\\lceil 2/3 \\rceil = 1$"
   ]
  }
 ],
 "metadata": {
  "kernelspec": {
   "display_name": "Python 3 (ipykernel)",
   "language": "python",
   "name": "python3"
  },
  "language_info": {
   "codemirror_mode": {
    "name": "ipython",
    "version": 3
   },
   "file_extension": ".py",
   "mimetype": "text/x-python",
   "name": "python",
   "nbconvert_exporter": "python",
   "pygments_lexer": "ipython3",
   "version": "3.10.12"
  }
 },
 "nbformat": 4,
 "nbformat_minor": 4
}
