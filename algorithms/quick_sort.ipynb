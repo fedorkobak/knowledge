{
 "cells": [
  {
   "cell_type": "markdown",
   "id": "a84b9f8d-c2b1-4d72-ad6f-bfe0e034287d",
   "metadata": {},
   "source": [
    "# Quick sort\n",
    "\n",
    "Is sorting algorithm that is based on recursive procedure which divides an array into two parts - less than some pivot element and greater than some pivot element, and applies itself to each of the parts."
   ]
  },
  {
   "cell_type": "markdown",
   "id": "06af3617-5db7-421e-b0cd-0aed3871fea0",
   "metadata": {},
   "source": [
    "## Partition\n",
    "\n",
    "The core element of the algorithm is a procedure that allows elements less than the pivot to be pre-positioned to the left of the element, and values greater than the pivot to be pre-positioned to the right of the array."
   ]
  },
  {
   "cell_type": "code",
   "execution_count": 14,
   "id": "45ebbcee-27ed-4e62-a5da-adbc4861199e",
   "metadata": {},
   "outputs": [],
   "source": [
    "def partition(arr, low, hight, pivot):\n",
    "    i = low\n",
    "    for j in range(low, hight+1):\n",
    "        if arr[j] <= pivot:\n",
    "            arr[i], arr[j] = arr[j], arr[i]\n",
    "            i+=1"
   ]
  },
  {
   "cell_type": "code",
   "execution_count": 18,
   "id": "f307896c-bd04-44da-9f1d-4d955a1e00b2",
   "metadata": {},
   "outputs": [
    {
     "data": {
      "text/plain": [
       "[2, 6, 3, 3, 3, 5, 3]"
      ]
     },
     "execution_count": 18,
     "metadata": {},
     "output_type": "execute_result"
    }
   ],
   "source": [
    "arr = [3,6,3,3,2,5,3]\n",
    "\n",
    "partition(arr, 0, len(arr)-1,2)\n",
    "arr"
   ]
  },
  {
   "cell_type": "markdown",
   "id": "e66d4f2b-1fe9-44b3-8069-24198417da21",
   "metadata": {},
   "source": [
    "## Classic sort\n",
    "\n",
    "Here is the basic realisation of this algorithm, which is a key to algorithms for different tasks based on the same idea."
   ]
  },
  {
   "cell_type": "code",
   "execution_count": null,
   "id": "68276632-ce0c-4f73-a498-7e34b3ad6d09",
   "metadata": {},
   "outputs": [],
   "source": [
    "def split_array(arr):\n",
    "    ref = arr[-1]\n",
    "    "
   ]
  }
 ],
 "metadata": {
  "kernelspec": {
   "display_name": "Python 3 (ipykernel)",
   "language": "python",
   "name": "python3"
  },
  "language_info": {
   "codemirror_mode": {
    "name": "ipython",
    "version": 3
   },
   "file_extension": ".py",
   "mimetype": "text/x-python",
   "name": "python",
   "nbconvert_exporter": "python",
   "pygments_lexer": "ipython3",
   "version": "3.10.12"
  }
 },
 "nbformat": 4,
 "nbformat_minor": 5
}
