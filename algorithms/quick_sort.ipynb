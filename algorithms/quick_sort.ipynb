{
 "cells": [
  {
   "cell_type": "markdown",
   "id": "a84b9f8d-c2b1-4d72-ad6f-bfe0e034287d",
   "metadata": {},
   "source": [
    "# Quick sort\n",
    "\n",
    "Is sorting algorithm that is based on recursive procedure which divides an array into two parts - less than some pivot element and greater than some pivot element, and applies itself to each of the parts."
   ]
  },
  {
   "cell_type": "markdown",
   "id": "06af3617-5db7-421e-b0cd-0aed3871fea0",
   "metadata": {},
   "source": [
    "## Partition\n",
    "\n",
    "The core part of the algorithm is a procedure that allows elements less than the pivot to be pre-positioned to the left of the array, and values greater than the pivot to be pre-positioned to the right of the array.\n",
    "\n",
    "For simplicity, I will use **left** to denote a subset of elements such that it is smaller than `pivot`, and **right** to denote a subset of elements such that it is larger than `pivot`."
   ]
  },
  {
   "cell_type": "code",
   "execution_count": 1,
   "id": "45ebbcee-27ed-4e62-a5da-adbc4861199e",
   "metadata": {},
   "outputs": [],
   "source": [
    "def partition(arr, low, high, pivot):\n",
    "    '''\n",
    "    Function shuffle elements in place array\n",
    "    so that all elements lower than\n",
    "    pivot have less indexes than elements\n",
    "    whose value is greater than pivot.\n",
    "\n",
    "    Parameters\n",
    "    ----------\n",
    "    arr : list\n",
    "        array, which elements need to be shuffled;\n",
    "    low : int\n",
    "        left border index that will be \n",
    "        considered by funtion;\n",
    "    high : int\n",
    "        right border index that will be\n",
    "        consedered by funtion;\n",
    "    pivot : number\n",
    "        such a number that all elements of the array \n",
    "        less will be collected in the left part of \n",
    "        the array, and all elements of the array \n",
    "        more will be collected in the right part of \n",
    "        the array.\n",
    "\n",
    "    Retuns\n",
    "    ----------\n",
    "    out : int\n",
    "        index of the half-next element among those \n",
    "        that are less than pivot\n",
    "    '''\n",
    "    i = low\n",
    "    for j in range(low, high+1):\n",
    "        if arr[j] <= pivot:\n",
    "            arr[i], arr[j] = arr[j], arr[i]\n",
    "            i+=1\n",
    "    return i-1"
   ]
  },
  {
   "cell_type": "markdown",
   "id": "40fd1a81-dbb5-474f-b925-e5649dce4433",
   "metadata": {},
   "source": [
    "Now let's see how this works in the most general case.  So in the following cell there is an input array and `partition` is applied from the i-th to the len-i-th elements, with pivot 10. And before execution funtion under consideration is printed results:\n",
    "\n",
    "- Elements that were in the input array before `low` don't change their order;\n",
    "- Elements that were in the input array after `high' don't change their order either;\n",
    "- Elements between the `low` and `high` indices are split into two arrays:\n",
    "    - less or equal than `pivot`;\n",
    "    - more than `pivot`."
   ]
  },
  {
   "cell_type": "code",
   "execution_count": 2,
   "id": "f639082f-20e9-4af2-bb11-0d9e74d6d270",
   "metadata": {},
   "outputs": [
    {
     "name": "stdout",
     "output_type": "stream",
     "text": [
      "Input array [18, 1, 13, 0, 6, 8, 5, 1, 10, 2, 7, 18, 14, 16, 15, 15, 15, 20, 11, 1]\n",
      "\n",
      "before left:[18, 1, 13]\n",
      "left:[0, 6, 8, 5, 1, 10, 2, 7]\n",
      "right:[18, 14, 16, 15, 15, 15]\n",
      "after right:[20, 11, 1]\n",
      "\n"
     ]
    }
   ],
   "source": [
    "import random\n",
    "from random import randint\n",
    "random.seed(10)\n",
    "arr_size = 20\n",
    "arr = [randint(0, 20) for i in range(arr_size)]\n",
    "\n",
    "low = 3\n",
    "high = arr_size - 3\n",
    "\n",
    "ind = partition(arr, low, high, 10)\n",
    "print(\"Input array\", arr, end=\"\\n\\n\")\n",
    "print(\n",
    "    \"before left:\", arr[:low], \"\\n\",\n",
    "    \"left:\", arr[low:ind+1], \"\\n\",\n",
    "    \"right:\", arr[ind+1:high], \"\\n\",\n",
    "    \"after right:\", arr[high:], \"\\n\",\n",
    "    sep = \"\"\n",
    ")"
   ]
  },
  {
   "cell_type": "markdown",
   "id": "7c0b1808-ff44-4eec-a5d5-18ffd9be8a1e",
   "metadata": {},
   "source": [
    "Also let's check some boundary cases:"
   ]
  },
  {
   "cell_type": "markdown",
   "id": "57befa93-4c97-4513-9223-21a9d8165a45",
   "metadata": {},
   "source": [
    "- **Left** contains only one lement:"
   ]
  },
  {
   "cell_type": "code",
   "execution_count": 3,
   "id": "300ffe14-84cb-4450-b8da-3982e33cf484",
   "metadata": {},
   "outputs": [
    {
     "name": "stdout",
     "output_type": "stream",
     "text": [
      "Input array [3, 2, 1, 5, 4]\n",
      "Result: [1, 2, 3, 5, 4] with separation in 0-th position.\n"
     ]
    }
   ],
   "source": [
    "arr = [3,2,1,5,4]\n",
    "print(\"Input array\", arr)\n",
    "ind = partition(arr, 0, 4, 1)\n",
    "print(\"Result:\", arr, f\"with separation in {ind}-th position.\")"
   ]
  },
  {
   "cell_type": "markdown",
   "id": "19adb3b8-c5c1-4582-97e9-5274dc29dbf7",
   "metadata": {},
   "source": [
    "- **Left** is empty;"
   ]
  },
  {
   "cell_type": "code",
   "execution_count": 4,
   "id": "754a7e18-a9dc-4834-a511-bb6ab6cc46c1",
   "metadata": {},
   "outputs": [
    {
     "name": "stdout",
     "output_type": "stream",
     "text": [
      "Input array [3, 2, 1, 5, 4]\n",
      "Result: [3, 2, 1, 5, 4] with separation in -1-th position.\n"
     ]
    }
   ],
   "source": [
    "arr = [3,2,1,5,4]\n",
    "print(\"Input array\", arr)\n",
    "ind = partition(arr, 0, 4, 0)\n",
    "print(\"Result:\", arr, f\"with separation in {ind}-th position.\")"
   ]
  },
  {
   "cell_type": "markdown",
   "id": "fed22170-42d3-4e45-bd26-5c294a8f9c14",
   "metadata": {},
   "source": [
    "- **Right** contains only one element;"
   ]
  },
  {
   "cell_type": "code",
   "execution_count": 5,
   "id": "88248a29-8c6f-4161-939a-7e28ed9c7a2f",
   "metadata": {},
   "outputs": [
    {
     "name": "stdout",
     "output_type": "stream",
     "text": [
      "Input array [3, 2, 1, 5, 4]\n",
      "Result: [3, 2, 1, 4, 5] with separation in 3-th position.\n"
     ]
    }
   ],
   "source": [
    "arr = [3,2,1,5,4]\n",
    "print(\"Input array\", arr)\n",
    "ind = partition(arr, 0, 4, 4)\n",
    "print(\"Result:\", arr, f\"with separation in {ind}-th position.\")"
   ]
  },
  {
   "cell_type": "markdown",
   "id": "12d9f601-b519-4479-ab62-50cf686d6489",
   "metadata": {},
   "source": [
    "- **Right** is empty;"
   ]
  },
  {
   "cell_type": "code",
   "execution_count": 6,
   "id": "0bd25f90-af6b-45d4-96b1-18e44654d3d1",
   "metadata": {},
   "outputs": [
    {
     "name": "stdout",
     "output_type": "stream",
     "text": [
      "Input array [3, 2, 1, 5, 4]\n",
      "Result: [3, 2, 1, 5, 4] with separation in 4-th position.\n"
     ]
    }
   ],
   "source": [
    "arr = [3,2,1,5,4]\n",
    "print(\"Input array\", arr)\n",
    "ind = partition(arr, 0, 4, 10)\n",
    "print(\"Result:\", arr, f\"with separation in {ind}-th position.\")"
   ]
  },
  {
   "cell_type": "markdown",
   "id": "e66d4f2b-1fe9-44b3-8069-24198417da21",
   "metadata": {},
   "source": [
    "## Classic sort\n",
    "\n",
    "Here is the basic realisation of this algorithm, which is a key to algorithms for different tasks based on the same idea."
   ]
  },
  {
   "cell_type": "code",
   "execution_count": 76,
   "id": "68276632-ce0c-4f73-a498-7e34b3ad6d09",
   "metadata": {},
   "outputs": [],
   "source": [
    "def quick_sort(arr, low=0, high=None):\n",
    "    '''\n",
    "    Sort in ascending order in place.\n",
    "    This is a recursive function that only \n",
    "    replaces elements in the elements only \n",
    "    in the specified range.\n",
    "    \n",
    "    Parameters\n",
    "    ----------\n",
    "    arr : list\n",
    "        the object will be sorted by the \n",
    "        passed reference;\n",
    "    low : int\n",
    "        is the lower index of the subarray \n",
    "        under consideration;\n",
    "    high : int\n",
    "        is the highes index of the subarry\n",
    "        under consideration.\n",
    "    '''\n",
    "    if len(arr)<=1:\n",
    "        return arr\n",
    "    if not high: high=len(arr)-1\n",
    "    \n",
    "    ind = partition(arr, low, high, arr[high])\n",
    "    if ind-1>low:quick_sort(arr, low=low, high=ind-1)\n",
    "    if ind+1<high: quick_sort(arr, low=ind+1, high=high)"
   ]
  },
  {
   "cell_type": "markdown",
   "id": "b9bedd4b-0aab-4e32-9743-c35b0f081fb0",
   "metadata": {},
   "source": [
    "Now let's check how it works:"
   ]
  },
  {
   "cell_type": "code",
   "execution_count": 78,
   "id": "de91af5d-721f-45b0-bc4c-58af7c255463",
   "metadata": {},
   "outputs": [
    {
     "name": "stdout",
     "output_type": "stream",
     "text": [
      "Input array: [4, 8, 20, 3, 10, 18, 5, 0, 13, 13, 2, 3, 4, 10, 15, 18, 14, 13, 6, 6]\n",
      "Sorted array: [0, 2, 3, 3, 4, 4, 5, 6, 6, 8, 10, 10, 13, 13, 13, 14, 15, 18, 18, 20]\n"
     ]
    }
   ],
   "source": [
    "import random\n",
    "from random import randint\n",
    "random.seed(20)\n",
    "arr_size = 20\n",
    "arr = [randint(0, 20) for i in range(arr_size)]\n",
    "print(\"Input array:\", arr)\n",
    "quick_sort(arr)\n",
    "print(\"Sorted array:\", arr)"
   ]
  },
  {
   "cell_type": "markdown",
   "id": "5208f91f-a6af-44f5-ad54-4004e576f748",
   "metadata": {},
   "source": [
    "And finally, a little \"stress test\" - we'll compare the results of the function `quick_sort` and the built-in function `sorted`."
   ]
  },
  {
   "cell_type": "code",
   "execution_count": 81,
   "id": "1cf23a36-f5e2-4958-9d1f-32cb24d7b66e",
   "metadata": {},
   "outputs": [],
   "source": [
    "from warnings import warn\n",
    "arr_size = 20\n",
    "\n",
    "for i in range(1000):\n",
    "    arr = [randint(0, 20) for i in range(arr_size)]\n",
    "    classic_res = sorted(arr)\n",
    "    quick_sort(arr)\n",
    "    if classic_res != arr:\n",
    "        warn(\"there is some problems with your realisation!!\")"
   ]
  }
 ],
 "metadata": {
  "kernelspec": {
   "display_name": "Python 3 (ipykernel)",
   "language": "python",
   "name": "python3"
  },
  "language_info": {
   "codemirror_mode": {
    "name": "ipython",
    "version": 3
   },
   "file_extension": ".py",
   "mimetype": "text/x-python",
   "name": "python",
   "nbconvert_exporter": "python",
   "pygments_lexer": "ipython3",
   "version": "3.10.12"
  }
 },
 "nbformat": 4,
 "nbformat_minor": 5
}
