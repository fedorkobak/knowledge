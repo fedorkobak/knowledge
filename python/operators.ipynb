{
 "cells": [
  {
   "cell_type": "markdown",
   "id": "380823fe-84d5-445d-a7f4-7996394453b1",
   "metadata": {},
   "source": [
    "# Operators\n",
    "\n",
    "On this page I'll describe some details about operators in Python."
   ]
  },
  {
   "cell_type": "markdown",
   "id": "32fce860-f1da-433a-b8d3-329b53de2f8c",
   "metadata": {},
   "source": [
    "# `/` - division operator"
   ]
  },
  {
   "cell_type": "markdown",
   "id": "ffcc77b7-555d-4b39-b61c-76cd62697a99",
   "metadata": {},
   "source": [
    "It always returns the data type `float`, even if the result can be interpreted as `int`."
   ]
  },
  {
   "cell_type": "code",
   "execution_count": 9,
   "id": "09c43cd8-cccf-4a8c-a173-10e9e0e27cd3",
   "metadata": {},
   "outputs": [
    {
     "data": {
      "text/plain": [
       "float"
      ]
     },
     "execution_count": 9,
     "metadata": {},
     "output_type": "execute_result"
    }
   ],
   "source": [
    "type(4/2)"
   ]
  },
  {
   "cell_type": "markdown",
   "id": "2e6e57ba-9e6f-486a-a6f3-c4b91127c59a",
   "metadata": {},
   "source": [
    "# `//` - integer division"
   ]
  },
  {
   "cell_type": "markdown",
   "id": "07f1e837-ca77-4ea6-bea0-181a5a72ca42",
   "metadata": {},
   "source": [
    "This operator simply divides the operands and returns the result without the floating point part."
   ]
  },
  {
   "cell_type": "code",
   "execution_count": 1,
   "id": "099d6f88-ec9e-4a58-9666-ba29278dd011",
   "metadata": {},
   "outputs": [
    {
     "data": {
      "text/plain": [
       "2"
      ]
     },
     "execution_count": 1,
     "metadata": {},
     "output_type": "execute_result"
    }
   ],
   "source": [
    "5//2"
   ]
  },
  {
   "cell_type": "markdown",
   "id": "1796fd0e-6287-42d5-87f0-744050c1a8b6",
   "metadata": {},
   "source": [
    "Unlike regular division, it always returns `int` data type."
   ]
  },
  {
   "cell_type": "code",
   "execution_count": 8,
   "id": "f82ff403-8fac-47b1-932c-6d0718551b0a",
   "metadata": {},
   "outputs": [
    {
     "data": {
      "text/plain": [
       "int"
      ]
     },
     "execution_count": 8,
     "metadata": {},
     "output_type": "execute_result"
    }
   ],
   "source": [
    "print(type(6/2))\n",
    "print(type(6//2))"
   ]
  },
  {
   "cell_type": "markdown",
   "id": "67d12e71-58bb-463f-9cea-e7d63eeaa33e",
   "metadata": {},
   "source": [
    "**Note** that the rounding is always on the lower side. So if we apply this operator to the negative number, we get the lower number that is the result of the even division."
   ]
  },
  {
   "cell_type": "code",
   "execution_count": 2,
   "id": "1907e2f9-b216-4a80-a0ad-75bf0500017b",
   "metadata": {},
   "outputs": [
    {
     "data": {
      "text/plain": [
       "-3"
      ]
     },
     "execution_count": 2,
     "metadata": {},
     "output_type": "execute_result"
    }
   ],
   "source": [
    "-5//2"
   ]
  },
  {
   "cell_type": "markdown",
   "id": "a418e018-f57e-4f7d-af65-184f9802a9c5",
   "metadata": {},
   "source": [
    "# `in` - is in array\n",
    "\n",
    "This keyword allows you to check an element in an array."
   ]
  },
  {
   "cell_type": "markdown",
   "id": "5301eb67-75c7-4ced-b6df-7ac2126d8237",
   "metadata": {},
   "source": [
    "## list"
   ]
  },
  {
   "cell_type": "code",
   "execution_count": 12,
   "id": "b5b4d2a2-b21c-4137-9618-87dd80a307f1",
   "metadata": {},
   "outputs": [
    {
     "name": "stdout",
     "output_type": "stream",
     "text": [
      "True\n",
      "False\n"
     ]
    }
   ],
   "source": [
    "test_list = [1,2,3,4,5] \n",
    "print(5 in test_list)\n",
    "print(6 in test_list)"
   ]
  },
  {
   "cell_type": "markdown",
   "id": "70da8eab-d603-46d8-baf2-e3bf907a9504",
   "metadata": {},
   "source": [
    "## tuple"
   ]
  },
  {
   "cell_type": "code",
   "execution_count": 13,
   "id": "ad89cd3e-ee74-44d2-a749-09f2334aca2a",
   "metadata": {},
   "outputs": [
    {
     "name": "stdout",
     "output_type": "stream",
     "text": [
      "True\n",
      "False\n"
     ]
    }
   ],
   "source": [
    "test_tuple = (1,2,3,4,5)\n",
    "print(5 in test_tuple)\n",
    "print(6 in test_tuple)"
   ]
  },
  {
   "cell_type": "markdown",
   "id": "6ce7d333-1d79-4a72-99c6-635aeca2132c",
   "metadata": {},
   "source": [
    "## str"
   ]
  },
  {
   "cell_type": "code",
   "execution_count": 15,
   "id": "123409c0-d082-47c5-acb8-54e858e4da05",
   "metadata": {},
   "outputs": [
    {
     "name": "stdout",
     "output_type": "stream",
     "text": [
      "True\n",
      "False\n"
     ]
    }
   ],
   "source": [
    "test_str = \"this is the test str contains subline to check it\"\n",
    "\n",
    "print(\"subline\" in test_str)\n",
    "print(\"subliner\" in test_str)"
   ]
  },
  {
   "cell_type": "markdown",
   "id": "187baca4-f3e2-4903-9500-20f7515a4ef8",
   "metadata": {},
   "source": [
    "## dict"
   ]
  },
  {
   "cell_type": "markdown",
   "id": "cca03714-3766-49e7-b75e-544f9dd89dde",
   "metadata": {},
   "source": [
    "Checks if the element on the left side of `in` is **in the keys** (not values) of the dictionary on the right side of `in`."
   ]
  },
  {
   "cell_type": "code",
   "execution_count": 1,
   "id": "f4dbb591-4c32-48b6-9c9f-ed1983955029",
   "metadata": {},
   "outputs": [
    {
     "name": "stdout",
     "output_type": "stream",
     "text": [
      "True\n",
      "False\n"
     ]
    }
   ],
   "source": [
    "test_dict = {\"a\":1, \"b\":2}\n",
    "print(\"a\" in test_dict)\n",
    "print(1 in test_dict)"
   ]
  },
  {
   "cell_type": "markdown",
   "id": "73c826ef-69f4-4d05-9a14-9dbcdec637b7",
   "metadata": {},
   "source": [
    "# `not in`\n",
    "\n",
    "This operator returns `True` if the collection from the right side of the operator contains the value from the left side of the operator, otherwise it returns `False`.\n",
    "\n",
    "Looks like it's syntax sugar, because now I don't see any cases where it differs from the expression `not (<value> in <collection>)`. The following example supports this idea."
   ]
  },
  {
   "cell_type": "code",
   "execution_count": 9,
   "id": "0e9402e3-126c-47aa-a0ab-60f512db6a25",
   "metadata": {},
   "outputs": [
    {
     "name": "stdout",
     "output_type": "stream",
     "text": [
      "False\n",
      "False\n"
     ]
    }
   ],
   "source": [
    "example_collection = [\"a\", \"b\", \"c\"]\n",
    "\n",
    "print(not (\"a\" in example_collection)) \n",
    "print(\"a\" not in example_collection)"
   ]
  },
  {
   "cell_type": "markdown",
   "id": "31049e86-61f8-4257-827b-4f8597e61f77",
   "metadata": {},
   "source": [
    "# Order\n",
    "\n",
    "Here I'll show features related to the order of execution of expressions with different combinations of operators.\n",
    "\n",
    "Somewhere on the internet I found such a picture describing the order of execution for Python operators.\n",
    "\n",
    "<img src=\"operators_files/operators_order.jpg\">"
   ]
  },
  {
   "cell_type": "markdown",
   "id": "dd135a7d-55f2-45a5-a56f-75e597fb4832",
   "metadata": {},
   "source": [
    "The top operators are executed first, regardless of where they appear in the expression. Operators at the same level will be executed in the sequence as they are specified in the expression according to the rule specified in the \"Associativity\" column."
   ]
  },
  {
   "cell_type": "markdown",
   "id": "76480779-b1a9-45d2-80c2-cb9e6d30513f",
   "metadata": {},
   "source": [
    "## Easy examples\n",
    "\n",
    "Now some simple examples that demonstrate how to use the proposed table in practice."
   ]
  },
  {
   "cell_type": "markdown",
   "id": "026dec16-dcd5-496b-848b-15fe2a491a90",
   "metadata": {},
   "source": [
    "### Operator sequence\n",
    "\n",
    "The following example show that `**` will be executed before `*` anyway. Calculation always follows the way $4^2=16 \\rightarrow 16*2 = 32$ and never $2*4=8 \\rightarrow 8^2=64$."
   ]
  },
  {
   "cell_type": "code",
   "execution_count": 23,
   "id": "d023cd83-f784-4bd9-b4d3-e824ab1f92d4",
   "metadata": {},
   "outputs": [
    {
     "data": {
      "text/plain": [
       "32"
      ]
     },
     "execution_count": 23,
     "metadata": {},
     "output_type": "execute_result"
    }
   ],
   "source": [
    "print(2*4**2)\n",
    "print(4**2*2)"
   ]
  },
  {
   "cell_type": "markdown",
   "id": "18479475-c64b-4205-9bfe-11a02caa4e3f",
   "metadata": {},
   "source": [
    "### Associativity\n",
    "\n",
    "As mentioned for the operators `/` and `*`, they are executed from left to right. So the following example will use logic $3/3=1 \\rightarrow 1*2=2$, not $3*2=6 \\rightarrow 3/6=0.5$."
   ]
  },
  {
   "cell_type": "code",
   "execution_count": 19,
   "id": "6255857d-075b-4248-b5d1-09e68abeeff0",
   "metadata": {},
   "outputs": [
    {
     "data": {
      "text/plain": [
       "2.0"
      ]
     },
     "execution_count": 19,
     "metadata": {},
     "output_type": "execute_result"
    }
   ],
   "source": [
    "3/3*2"
   ]
  },
  {
   "cell_type": "markdown",
   "id": "ea63b4d1-92bb-49e2-83bb-3cbbf1f8d618",
   "metadata": {},
   "source": [
    "One more example shows how associativity rool changes the result with exactly same operands.\n",
    "\n",
    "- In first case it uses logic $3/3=1 \\rightarrow [1/3]=1$;\n",
    "- In second case it uses logic $[3/3]=0 \\rightarrow 0/3=0$."
   ]
  },
  {
   "cell_type": "code",
   "execution_count": 24,
   "id": "61d2b7ea-8362-4622-b54a-0a8e204aa034",
   "metadata": {},
   "outputs": [
    {
     "name": "stdout",
     "output_type": "stream",
     "text": [
      "1.0\n",
      "0.0\n"
     ]
    }
   ],
   "source": [
    "print(3/3%3)\n",
    "print(3%3/3)"
   ]
  },
  {
   "cell_type": "markdown",
   "id": "409a7bd0-e9df-430c-968a-50a167255c1d",
   "metadata": {},
   "source": [
    "# `break`\n",
    "\n",
    "Lets you exit the cycle."
   ]
  },
  {
   "cell_type": "markdown",
   "id": "22ee7ba2-636b-43a1-817f-a8cf51a186c3",
   "metadata": {},
   "source": [
    "## Nested loops\n",
    "\n",
    "What will happens if you put cycle incide two cycles? Will it leave both cycles or just the internal one?\n",
    "\n",
    "**It will leave only intertal loop.**\n",
    "\n",
    "So in the following example we will use the `break` operator inside the internal cycle only if we loop to a variable of the internal cycle that is equal to or greater than 2. As a result, we go through all the operations provided by the outer loop, but each interation of the internal loop is ended when the loop variable enriches 2."
   ]
  },
  {
   "cell_type": "code",
   "execution_count": 3,
   "id": "94aab496-d8cc-4e69-a0ee-e31e02dfd499",
   "metadata": {},
   "outputs": [
    {
     "name": "stdout",
     "output_type": "stream",
     "text": [
      "external loop 0\n",
      "    internal loop 0\n",
      "    internal loop 1\n",
      "external loop 1\n",
      "    internal loop 0\n",
      "    internal loop 1\n",
      "external loop 2\n",
      "    internal loop 0\n",
      "    internal loop 1\n",
      "external loop 3\n",
      "    internal loop 0\n",
      "    internal loop 1\n"
     ]
    }
   ],
   "source": [
    "for i in range(4):\n",
    "    print(\"external loop\", i)\n",
    "    for j in range(4):\n",
    "        if j >= 2:\n",
    "            break\n",
    "        print(\"    internal loop\", j)"
   ]
  }
 ],
 "metadata": {
  "kernelspec": {
   "display_name": "Python 3 (ipykernel)",
   "language": "python",
   "name": "python3"
  },
  "language_info": {
   "codemirror_mode": {
    "name": "ipython",
    "version": 3
   },
   "file_extension": ".py",
   "mimetype": "text/x-python",
   "name": "python",
   "nbconvert_exporter": "python",
   "pygments_lexer": "ipython3",
   "version": "3.10.6"
  }
 },
 "nbformat": 4,
 "nbformat_minor": 5
}
