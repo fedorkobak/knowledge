{
 "cells": [
  {
   "cell_type": "markdown",
   "id": "e7621934-2f80-4d7a-8478-ddb77e9d70ca",
   "metadata": {},
   "source": [
    "# Deploy\n",
    "\n",
    "**Sources**\n",
    "\n",
    "- [Tutorial by Tobias Starbak](https://www.youtube.com/watch?v=IUF4s9SXnd4);\n",
    "- [Deployment](https://mlflow.org/docs/latest/deployment/index.html) page in offcial MLflow documentation."
   ]
  },
  {
   "cell_type": "markdown",
   "id": "23d8b5cc-388c-4495-b431-e86e025da6ef",
   "metadata": {},
   "source": [
    "## Setup"
   ]
  },
  {
   "cell_type": "code",
   "execution_count": 10,
   "id": "0bdcdb12-c7c1-4906-b5df-c9b0df24539d",
   "metadata": {},
   "outputs": [],
   "source": [
    "import pandas as pd\n",
    "from pathlib import Path\n",
    "\n",
    "from sklearn.model_selection import train_test_split\n",
    "from sklearn.tree import DecisionTreeClassifier\n",
    "\n",
    "import mlflow\n",
    "from mlflow.models.signature import ModelSignature\n",
    "from mlflow.types.schema import Schema, ColSpec"
   ]
  },
  {
   "cell_type": "code",
   "execution_count": 11,
   "id": "45b92a34-5e45-4937-aa24-3fa56f23ca52",
   "metadata": {},
   "outputs": [
    {
     "name": "stdout",
     "output_type": "stream",
     "text": [
      "2acf7e2afb38abedbe7fa37412f9377134b900996caec92426979381f9dd352a\n"
     ]
    }
   ],
   "source": [
    "%%bash\n",
    "docker run -p 5000:5000 -dt --name mlflow_deploy --rm \\\n",
    "    ghcr.io/mlflow/mlflow \\\n",
    "    bash -c \"mlflow server --host 0.0.0.0 --port 5000\""
   ]
  },
  {
   "cell_type": "code",
   "execution_count": 12,
   "id": "d059614c-fa9a-4e5e-b864-ab26524a8fea",
   "metadata": {},
   "outputs": [
    {
     "data": {
      "text/plain": [
       "'569328658685107276'"
      ]
     },
     "execution_count": 12,
     "metadata": {},
     "output_type": "execute_result"
    }
   ],
   "source": [
    "mlflow.set_tracking_uri(\"http://localhost:5000\")\n",
    "exp_name = \"penguin_classification\"\n",
    "mlflow.create_experiment(exp_name)"
   ]
  },
  {
   "cell_type": "code",
   "execution_count": 9,
   "id": "42d03bdf-869d-4d24-9f8c-2a3909babef5",
   "metadata": {},
   "outputs": [
    {
     "name": "stdout",
     "output_type": "stream",
     "text": [
      "mlflow_deploy\n"
     ]
    }
   ],
   "source": [
    "%%bash\n",
    "docker stop mlflow_deploy"
   ]
  },
  {
   "cell_type": "markdown",
   "id": "116ca019-4710-47c9-bfbd-fecd4b7035ef",
   "metadata": {},
   "source": [
    "## Add model to registry"
   ]
  },
  {
   "cell_type": "markdown",
   "id": "4d17fd7a-f998-4621-ae7d-fc3465cd70dd",
   "metadata": {},
   "source": [
    "### Create run"
   ]
  },
  {
   "cell_type": "code",
   "execution_count": 13,
   "id": "35661813-01db-46f4-ab2a-928ebb6db69a",
   "metadata": {},
   "outputs": [
    {
     "name": "stdout",
     "output_type": "stream",
     "text": [
      "Started run f61f3c3e17d1474f9dc16e2b2a8237f2\n",
      "Load dataset...\n",
      "Prepare a train-test-split...\n",
      "Initialize and fit a DecisionTreeClassifier with max_depth=3, max_leaf_nodes4\n",
      "Result: Accuracy of the DecisionTreeClassifier: 96.5%\n"
     ]
    },
    {
     "name": "stderr",
     "output_type": "stream",
     "text": [
      "/home/f.kobak@maxbit.local/.local/lib/python3.10/site-packages/_distutils_hack/__init__.py:11: UserWarning: Distutils was imported before Setuptools, but importing Setuptools also replaces the `distutils` module in `sys.modules`. This may lead to undesirable behaviors or errors. To avoid these issues, avoid using distutils directly, ensure that setuptools is installed in the traditional way (e.g. not an editable install), and/or make sure that setuptools is always imported before distutils.\n",
      "  warnings.warn(\n",
      "/home/f.kobak@maxbit.local/.local/lib/python3.10/site-packages/_distutils_hack/__init__.py:26: UserWarning: Setuptools is replacing distutils.\n",
      "  warnings.warn(\"Setuptools is replacing distutils.\")\n"
     ]
    }
   ],
   "source": [
    "input_schema = Schema([\n",
    "  ColSpec(\"double\", \"Culmen Length (mm)\"),\n",
    "  ColSpec(\"double\", \"Culmen Depth (mm)\"),\n",
    "])\n",
    "output_schema = Schema([ColSpec(\"string\")])\n",
    "\n",
    "signature = ModelSignature(inputs=input_schema, outputs=output_schema)\n",
    "\n",
    "mlflow.set_experiment(exp_name)\n",
    "with mlflow.start_run() as run:\n",
    "    run_id = run.info.run_id\n",
    "    print(f\"Started run {run_id}\")\n",
    "    # Load dataset\n",
    "    print(\"Load dataset...\")\n",
    "    culmen_columns = [\"Culmen Length (mm)\", \"Culmen Depth (mm)\"]\n",
    "    target_column = \"Species\"\n",
    "\n",
    "    data = pd.read_csv(\n",
    "        Path(\"deploy_files\")/\"penguins_classification.csv\"\n",
    "    )\n",
    "\n",
    "    print(\"Prepare a train-test-split...\")\n",
    "    data, target = data[culmen_columns], data[target_column]\n",
    "    data_train, data_test, target_train, target_test = train_test_split(\n",
    "        data, target, random_state=0)\n",
    "\n",
    "    # Initialize and fit a classifier\n",
    "    max_depth = 3\n",
    "    max_leaf_nodes = 4\n",
    "    print(f\"Initialize and fit a DecisionTreeClassifier with max_depth={max_depth}, max_leaf_nodes{max_leaf_nodes}\")\n",
    "    \n",
    "    mlflow.log_params(\n",
    "        {\"max_depth\": max_depth, \n",
    "         \"max_leaf_nodes\": max_leaf_nodes}\n",
    "    )\n",
    "    tree = DecisionTreeClassifier(\n",
    "        max_depth=max_depth,\n",
    "        max_leaf_nodes=max_leaf_nodes\n",
    "    )\n",
    "    tree.fit(data_train, target_train)\n",
    "\n",
    "    # Calculate test scores\n",
    "    test_score = tree.score(data_test, target_test)\n",
    "    mlflow.log_metric(\"test_accuracy\", test_score)\n",
    "    print(f\"Result: Accuracy of the DecisionTreeClassifier: {test_score:.1%}\")\n",
    "    \n",
    "    # Log the model\n",
    "    mlflow.sklearn.log_model(tree, \"model\", signature=signature)"
   ]
  },
  {
   "cell_type": "markdown",
   "id": "bc42f26e-9780-4eca-8ec8-542f63f29a8f",
   "metadata": {},
   "source": [
    "### Add run to registry"
   ]
  },
  {
   "cell_type": "code",
   "execution_count": 14,
   "id": "0da41f01-3058-4fdf-8e36-becf9176facf",
   "metadata": {},
   "outputs": [
    {
     "name": "stderr",
     "output_type": "stream",
     "text": [
      "Successfully registered model 'penguins_clf'.\n",
      "2024/06/06 19:42:55 INFO mlflow.store.model_registry.abstract_store: Waiting up to 300 seconds for model version to finish creation. Model name: penguins_clf, version 1\n",
      "Created version '1' of model 'penguins_clf'.\n"
     ]
    }
   ],
   "source": [
    "model_name = \"penguins_clf\"\n",
    "\n",
    "result = mlflow.register_model(\n",
    "    f\"runs:/{run_id}/model\",\n",
    "    f\"{model_name}\"\n",
    ")"
   ]
  },
  {
   "cell_type": "markdown",
   "id": "7b99f1a3-fbf1-4b2e-900b-1541b4dd6499",
   "metadata": {},
   "source": [
    "## Run MLFlow side API"
   ]
  },
  {
   "cell_type": "raw",
   "id": "f21a6b00-5151-4baf-986c-ae309a5b86f1",
   "metadata": {},
   "source": [
    "%%bash\n",
    "docker run -itd ubuntu bash 'MLFLOW_TRACKING_URI=http://localhost:5000 mlflow models serve --no-conda -m \"models:/penguins_clf/1\" -p 4242'"
   ]
  }
 ],
 "metadata": {
  "kernelspec": {
   "display_name": "Python 3 (ipykernel)",
   "language": "python",
   "name": "python3"
  },
  "language_info": {
   "codemirror_mode": {
    "name": "ipython",
    "version": 3
   },
   "file_extension": ".py",
   "mimetype": "text/x-python",
   "name": "python",
   "nbconvert_exporter": "python",
   "pygments_lexer": "ipython3",
   "version": "3.10.12"
  }
 },
 "nbformat": 4,
 "nbformat_minor": 5
}
