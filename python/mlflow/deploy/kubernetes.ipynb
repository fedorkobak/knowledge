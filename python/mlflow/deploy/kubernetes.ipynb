{
 "cells": [
  {
   "cell_type": "markdown",
   "id": "37bc5d60-6da7-4c2c-a912-3906c4f66dbf",
   "metadata": {},
   "source": [
    "# Kubernetes\n",
    "\n",
    "This is my compilation of tutorial [develop ML model with MLflow and deploy to Kubernetes](https://mlflow.org/docs/latest/deployment/deploy-model-to-kubernetes/tutorial.html) on the official mlflow site."
   ]
  },
  {
   "cell_type": "markdown",
   "id": "1b552eb2-2824-43e7-8520-dd2bafa03bea",
   "metadata": {},
   "source": [
    "## Setup"
   ]
  },
  {
   "cell_type": "code",
   "execution_count": 21,
   "id": "9e2dae02-e11d-4438-81ae-b9dd856341c8",
   "metadata": {},
   "outputs": [
    {
     "name": "stdout",
     "output_type": "stream",
     "text": [
      "15f3ec9eec5513bf91736096c43a11f073649a0fca74975192bf34610369047d\n"
     ]
    }
   ],
   "source": [
    "%%bash\n",
    "docker run -p 5000:5000 -dt --name mlflow_deploy --rm \\\n",
    "    ghcr.io/mlflow/mlflow \\\n",
    "    bash -c \"mlflow server --host 0.0.0.0 --port 5000\""
   ]
  },
  {
   "cell_type": "code",
   "execution_count": 18,
   "id": "c4901c22-d955-4402-a107-c1bacacb9a33",
   "metadata": {},
   "outputs": [],
   "source": [
    "import mlflow\n",
    "import requests\n",
    "import numpy as np\n",
    "import subprocess\n",
    "from sklearn import datasets, metrics\n",
    "from sklearn.linear_model import ElasticNet\n",
    "from sklearn.model_selection import train_test_split\n",
    "\n",
    "mlflow.set_tracking_uri(\"http://localhost:5000\")"
   ]
  },
  {
   "cell_type": "code",
   "execution_count": null,
   "id": "33b504b3-c5cb-41f1-87bb-91731355e2c3",
   "metadata": {},
   "outputs": [],
   "source": [
    "%%bash\n",
    "docker stop mlflow_deploy"
   ]
  },
  {
   "cell_type": "markdown",
   "id": "6fe361d3-2554-4f8d-a104-2796eb638e70",
   "metadata": {},
   "source": [
    "## Model"
   ]
  },
  {
   "cell_type": "markdown",
   "id": "1cc89b1d-72a0-4084-b36e-943926058af2",
   "metadata": {},
   "source": [
    "### Creating model"
   ]
  },
  {
   "cell_type": "code",
   "execution_count": 22,
   "id": "db3bb44e-c1bd-44a7-83fb-ff2e57efc195",
   "metadata": {},
   "outputs": [
    {
     "name": "stderr",
     "output_type": "stream",
     "text": [
      "2024/06/07 17:48:16 INFO mlflow.tracking.fluent: Experiment with name 'wine-quality' does not exist. Creating a new experiment.\n",
      "Successfully registered model 'wine-quality'.\n",
      "2024/06/07 17:48:16 INFO mlflow.store.model_registry.abstract_store: Waiting up to 300 seconds for model version to finish creation. Model name: wine-quality, version 1\n",
      "Created version '1' of model 'wine-quality'.\n"
     ]
    }
   ],
   "source": [
    "def eval_metrics(pred, actual):\n",
    "    rmse = np.sqrt(metrics.mean_squared_error(actual, pred))\n",
    "    mae = metrics.mean_absolute_error(actual, pred)\n",
    "    r2 = metrics.r2_score(actual, pred)\n",
    "    return rmse, mae, r2\n",
    "\n",
    "# Set th experiment name\n",
    "mlflow.set_experiment(\"wine-quality\")\n",
    "\n",
    "# Enable auto-logging to MLflow\n",
    "mlflow.sklearn.autolog()\n",
    "\n",
    "# Load wine quality dataset\n",
    "X, y = datasets.load_wine(return_X_y=True)\n",
    "X_train, X_test, y_train, y_test = train_test_split(X, y, test_size=0.25)\n",
    "\n",
    "# Start a run and train a model\n",
    "with mlflow.start_run(run_name=\"default-params\") as run:\n",
    "    run_id = run.info.run_id\n",
    "    lr = ElasticNet()\n",
    "    lr.fit(X_train, y_train)\n",
    "\n",
    "    y_pred = lr.predict(X_test)\n",
    "    metr = eval_metrics(y_pred, y_test)\n",
    "\n",
    "model_name = \"wine-quality\"\n",
    "result = mlflow.register_model(\n",
    "    f\"runs:/{run_id}/model\", model_name\n",
    ")"
   ]
  },
  {
   "cell_type": "markdown",
   "id": "bb593d0e-8779-4c61-afee-8e2e7371b2ec",
   "metadata": {},
   "source": [
    "### Check"
   ]
  },
  {
   "cell_type": "code",
   "execution_count": 23,
   "id": "fe3d8631-16c2-4cc0-bbac-941b20439449",
   "metadata": {},
   "outputs": [],
   "source": [
    "start_api_command = f'MLFLOW_TRACKING_URI=http://localhost:5000 mlflow models serve --no-conda -m \"models:/{model_name}/1\" -p 4242'\n",
    "ans = subprocess.run([\n",
    "    'gnome-terminal', '--', 'bash', '-c', start_api_command\n",
    "])"
   ]
  },
  {
   "cell_type": "code",
   "execution_count": 24,
   "id": "1e6b0336-3764-436f-91c8-8f7398d05c47",
   "metadata": {},
   "outputs": [
    {
     "name": "stdout",
     "output_type": "stream",
     "text": [
      "{\"predictions\": [0.4122446447044683]}\n"
     ]
    }
   ],
   "source": [
    "url = \"http://127.0.0.1:4242/invocations\"\n",
    "headers = {\n",
    "    'Content-Type': 'application/json',\n",
    "}\n",
    "data = {\n",
    "    \"inputs\": [[14.23, 1.71, 2.43, 15.6, 127.0, 2.8, 3.06, 0.28, 2.29, 5.64, 1.04, 3.92, 1065.0]]\n",
    "}\n",
    "response = requests.post(url, headers=headers, json=data)\n",
    "\n",
    "print(response.text)"
   ]
  },
  {
   "cell_type": "markdown",
   "id": "02dcf29d-dbf3-46bb-99bd-42681f6518d0",
   "metadata": {},
   "source": [
    "## Kubernetes"
   ]
  },
  {
   "cell_type": "code",
   "execution_count": 25,
   "id": "cf378337-0bc3-427a-9c01-6eb6510d2fa7",
   "metadata": {},
   "outputs": [
    {
     "name": "stdout",
     "output_type": "stream",
     "text": [
      "2024/06/07 17:54:43.221117 system_key.go:131: cannot determine nfs usage in generateSystemKey: cannot parse /etc/fstab: expected between 3 and 6 fields, found 7\n",
      "namespace/mlflow-kserve-test created\n"
     ]
    }
   ],
   "source": [
    "!kubectl create namespace mlflow-kserve-test"
   ]
  },
  {
   "cell_type": "code",
   "execution_count": null,
   "id": "dc0f2d36-16e3-418d-8d05-48df9b8e1cd1",
   "metadata": {},
   "outputs": [],
   "source": []
  }
 ],
 "metadata": {
  "kernelspec": {
   "display_name": "Python 3 (ipykernel)",
   "language": "python",
   "name": "python3"
  },
  "language_info": {
   "codemirror_mode": {
    "name": "ipython",
    "version": 3
   },
   "file_extension": ".py",
   "mimetype": "text/x-python",
   "name": "python",
   "nbconvert_exporter": "python",
   "pygments_lexer": "ipython3",
   "version": "3.10.12"
  }
 },
 "nbformat": 4,
 "nbformat_minor": 5
}
