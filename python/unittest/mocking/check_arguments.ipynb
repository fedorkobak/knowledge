{
 "cells": [
  {
   "cell_type": "markdown",
   "id": "70345b26-f7ab-4852-b799-22c432762675",
   "metadata": {},
   "source": [
    "# Chekc arguments"
   ]
  },
  {
   "cell_type": "markdown",
   "id": "ce9a2862-fa96-4ecd-afb0-f9eac933392a",
   "metadata": {},
   "source": [
    "If you need to check which arguments were passed to the mocked function, you can use the `assert_called_with(<supposed arguments>)` method of the patch object.\n",
    "\n",
    "Lets test it on really basic python function `sum`. In the following cell we have just defined wrapper for it."
   ]
  },
  {
   "cell_type": "code",
   "execution_count": 7,
   "id": "64ae87d5-66af-4e6f-8433-1071961dc83a",
   "metadata": {},
   "outputs": [],
   "source": [
    "def sum_wrapper(numbers):\n",
    "    return sum(numbers)"
   ]
  },
  {
   "cell_type": "markdown",
   "id": "c89830aa-d23f-4cf6-af24-9f39620ec409",
   "metadata": {},
   "source": [
    "Tests will mock `sum` funtion. In both tests to `sum_wrapper` was passed `[1,2,3]` list. But in second case we use `[1,2,5]` in `assert_called_with`."
   ]
  },
  {
   "cell_type": "code",
   "execution_count": 8,
   "id": "94921285-1de8-4ca6-b32e-b8b4b0b146f7",
   "metadata": {},
   "outputs": [
    {
     "name": "stderr",
     "output_type": "stream",
     "text": [
      "test_fail (__main__.TestCalledWith) ... FAIL\n",
      "test_ok (__main__.TestCalledWith) ... ok\n",
      "\n",
      "======================================================================\n",
      "FAIL: test_fail (__main__.TestCalledWith)\n",
      "----------------------------------------------------------------------\n",
      "Traceback (most recent call last):\n",
      "  File \"/tmp/ipykernel_22562/616931396.py\", line 13, in test_fail\n",
      "    mocked_sum.assert_called_with([1,2,5])\n",
      "  File \"/usr/lib/python3.10/unittest/mock.py\", line 929, in assert_called_with\n",
      "    raise AssertionError(_error_message()) from cause\n",
      "AssertionError: expected call not found.\n",
      "Expected: sum_wrapper([1, 2, 5])\n",
      "Actual: sum_wrapper([1, 2, 3])\n",
      "\n",
      "----------------------------------------------------------------------\n",
      "Ran 2 tests in 0.002s\n",
      "\n",
      "FAILED (failures=1)\n"
     ]
    }
   ],
   "source": [
    "import unittest\n",
    "from unittest.mock import patch\n",
    "\n",
    "class TestCalledWith(unittest.TestCase):\n",
    "    def test_ok(self):\n",
    "        with patch(\"__main__.sum_wrapper\") as mocked_sum:\n",
    "            sum_wrapper([1,2,3])\n",
    "            mocked_sum.assert_called_with([1,2,3])\n",
    "\n",
    "    def test_fail(self):\n",
    "        with patch(\"__main__.sum_wrapper\") as mocked_sum:\n",
    "            sum_wrapper([1,2,3])\n",
    "            mocked_sum.assert_called_with([1,2,5])      \n",
    "\n",
    "ans = unittest.main(argv=[''], verbosity=2, exit=False)\n",
    "del TestCalledWith"
   ]
  },
  {
   "cell_type": "markdown",
   "id": "d9b8d159-7313-49ca-8775-f01f4d521379",
   "metadata": {},
   "source": [
    "So one test passed successfully because the supposed argument in `assert_called_with` matches the argument passed to `sum_wrapper`. But in the second case we got \"Fail\" because it doesn't."
   ]
  }
 ],
 "metadata": {
  "kernelspec": {
   "display_name": "Python 3 (ipykernel)",
   "language": "python",
   "name": "python3"
  },
  "language_info": {
   "codemirror_mode": {
    "name": "ipython",
    "version": 3
   },
   "file_extension": ".py",
   "mimetype": "text/x-python",
   "name": "python",
   "nbconvert_exporter": "python",
   "pygments_lexer": "ipython3",
   "version": "3.10.12"
  }
 },
 "nbformat": 4,
 "nbformat_minor": 5
}
