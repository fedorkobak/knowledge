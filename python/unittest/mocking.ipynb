{
 "cells": [
  {
   "cell_type": "markdown",
   "id": "ee758633-c244-42bd-b31a-3d2df9e60d32",
   "metadata": {},
   "source": [
    "# Mocking\n",
    "\n",
    "Sometimes our programmes depend on external circumstances, but during unit testing we shouldn't worry about whether they work. And only test our code. So there are ways to change the behaviour of functions called in the programs being tested, to make it convenient for us to do the testing."
   ]
  },
  {
   "cell_type": "markdown",
   "id": "b6a13011-1615-4962-9707-f9c098d8293c",
   "metadata": {},
   "source": [
    "## Use cases"
   ]
  },
  {
   "cell_type": "markdown",
   "id": "eda48a9b-b8cd-43c6-a636-d47e6ea087cf",
   "metadata": {},
   "source": [
    "It's a bit of an advanced concept, so for better understanding the content of this page starts with the user case. This will help you understand why this slightly tricky option can be so useful. The following sections provide more detailed experiments with specific functions of mocking in tests."
   ]
  },
  {
   "cell_type": "markdown",
   "id": "f9c24c95-1254-4cbd-99e2-b0495100882b",
   "metadata": {},
   "source": [
    "### Mock function"
   ]
  },
  {
   "cell_type": "markdown",
   "id": "b9cf71b7-f6c9-45dd-8d92-d3eaa131bed9",
   "metadata": {},
   "source": [
    "Suppose you have service that answers some information about user. Just like the function in the next cell:"
   ]
  },
  {
   "cell_type": "code",
   "execution_count": 1,
   "id": "7bbbeeac-0158-44d7-b46d-c7f01ff6db79",
   "metadata": {},
   "outputs": [],
   "source": [
    "import requests\n",
    "\n",
    "def request_user(user_id):\n",
    "    response = requests.get(f\"https://im_not_exist/{user_id}\")\n",
    "    if response.ok:\n",
    "        return response.text\n",
    "    else:\n",
    "        return \"Fail!\""
   ]
  },
  {
   "cell_type": "markdown",
   "id": "71d33c2c-d141-4f67-afde-eb35cdee85f0",
   "metadata": {},
   "source": [
    "Now we have to test this code. But you don't need to rely on any particular service in your tests, and you know that the requesting function under consideration uses `requests.get` to access information about the user from the service. So the best option for you here is to mock the `requests.get` function. So for test you change it behaviour in benificial for you way.\n",
    "\n",
    "To do this, use the following syntax `unittest.mock.patch(\"<module under tests>.<name of the function to mock>\")` as an object for the context manager. You must specify a module to change the behaviour of the function for that module only.\n",
    "\n",
    "So such an option is implemented in the following cell. We've replaced the `request.get` function in the `request_user` module for test purposes. And check with which arguments it was called with and specify the properties of its output for particular case."
   ]
  },
  {
   "cell_type": "code",
   "execution_count": 2,
   "id": "c60c2561-4ef3-44ff-a5d0-0e51bcb6caf7",
   "metadata": {},
   "outputs": [
    {
     "name": "stderr",
     "output_type": "stream",
     "text": [
      "test_fail_case (__main__.TestUserReques)\n",
      "Fail case. Suppose we got bad response ... ok\n",
      "test_success_case (__main__.TestUserReques)\n",
      "Sucessfull case. Suppose we got nice ... ok\n",
      "\n",
      "----------------------------------------------------------------------\n",
      "Ran 2 tests in 0.001s\n",
      "\n",
      "OK\n"
     ]
    }
   ],
   "source": [
    "import unittest\n",
    "from unittest.mock import patch\n",
    "\n",
    "class TestUserReques(unittest.TestCase):\n",
    "    \n",
    "    def test_success_case(self):\n",
    "        '''\n",
    "        Sucessfull case. Suppose we got nice\n",
    "        repsonse from requests.get in request_user function.\n",
    "        '''\n",
    "        with patch(\"__main__.requests.get\") as mocked_get:\n",
    "            # set that output of the request_user.requests.get\n",
    "            # will have properties `ok == True` `text==\"Success`\n",
    "            mocked_get.return_value.ok = True\n",
    "            mocked_get.return_value.text = \"Success\"\n",
    "            \n",
    "            response = request_user(\"Fedor\")\n",
    "            # request_user should have called `get` with specific url\n",
    "            mocked_get.assert_called_with(\"https://im_not_exist/Fedor\")\n",
    "            # and \"text\" property have to be just like we specified\n",
    "            self.assertEqual(response, \"Success\")\n",
    "\n",
    "    def test_fail_case(self):\n",
    "        '''\n",
    "        Fail case. Suppose we got bad response\n",
    "        from requests.get in the request_user function.\n",
    "        '''\n",
    "        with patch(\"__main__.requests.get\") as mocked_get:\n",
    "            # set that output of the request_user.requests.get\n",
    "            # will have properties `ok == False` `text==\"Success`\n",
    "            # actually we don't really care wich exactly value\n",
    "            # does text property have but unsver from always\n",
    "            # have to be \"Fail!\"\n",
    "            mocked_get.return_value.ok = False\n",
    "            mocked_get.return_value.text = \"Success\"\n",
    "            \n",
    "            response = request_user(\"Ekaterina\")\n",
    "            # request_user should have called `get` with specific url\n",
    "            mocked_get.assert_called_with(\"https://im_not_exist/Ekaterina\")\n",
    "            # but answer anyway have to be \"Fail!\" \n",
    "            self.assertEqual(response, \"Fail!\")\n",
    "\n",
    "ans = unittest.main(argv=[''], verbosity=2, exit=False)\n",
    "del TestUserReques"
   ]
  },
  {
   "cell_type": "markdown",
   "id": "3a50ef66-2b3e-4370-a74a-2007008420bc",
   "metadata": {},
   "source": [
    "### Mock class method"
   ]
  },
  {
   "cell_type": "markdown",
   "id": "4a8f7668-76d0-4d8b-939d-d95256634bf2",
   "metadata": {},
   "source": [
    "Due to the specifics of the tasks I face I often had to make classes that somehow turn around machine learning models. That is, there was a class that contained the model, it should prepare data to feed into the model and process its results.\n",
    "\n",
    "However, this pattern can occur in other variations. Here we will consider the peculiarities of working with it."
   ]
  },
  {
   "cell_type": "markdown",
   "id": "caf531a8-e23f-4d55-a2a9-0b6ba6f12690",
   "metadata": {},
   "source": [
    "In the following cell, such a pattern has just been re-created schematically."
   ]
  },
  {
   "cell_type": "code",
   "execution_count": 3,
   "id": "e0fe7181-c112-4b88-b3dd-13c2639a0577",
   "metadata": {},
   "outputs": [],
   "source": [
    "from sklearn.neighbors import KNeighborsRegressor\n",
    "\n",
    "class ClassUnderConsider():\n",
    "    def __init__(self):\n",
    "        # model creating\n",
    "        # it isn't necessary to fit it somehow\n",
    "        # because we will change it's behaviour\n",
    "        # anyway\n",
    "        self.obj = KNeighborsRegressor()\n",
    "\n",
    "    \n",
    "    def explode_object(self):\n",
    "        # we will later change behavior of the `predict`\n",
    "        # method so there aren't any sence to care\n",
    "        # about arguments it taking\n",
    "        ans = self.obj.predict()\n",
    "        # just returning of `predict` outputs\n",
    "        # we will replace it outputs as well\n",
    "        return ans"
   ]
  },
  {
   "cell_type": "markdown",
   "id": "b9088bd5-ccff-44dc-81bd-ec4436365325",
   "metadata": {},
   "source": [
    "Now test for such a case. We need to make `obj.predict` behave as we need it to during the test run. So `obj` is an instance of the `sklearn.neighbours.KNeighborsRegressor` class, so we can mock it's `predict` method and everything will be fine.\n",
    "\n",
    "Exactly such a scheme is implemented in the following cell:"
   ]
  },
  {
   "cell_type": "code",
   "execution_count": 4,
   "id": "287eb197-f252-4ab9-8bad-b1950d7bf3a6",
   "metadata": {},
   "outputs": [
    {
     "name": "stderr",
     "output_type": "stream",
     "text": [
      "test_explode_object (__main__.ClassTester) ... ok\n",
      "\n",
      "----------------------------------------------------------------------\n",
      "Ran 1 test in 0.001s\n",
      "\n",
      "OK\n"
     ]
    },
    {
     "name": "stdout",
     "output_type": "stream",
     "text": [
      "Value from predict - Something predicted\n"
     ]
    }
   ],
   "source": [
    "import unittest\n",
    "from unittest.mock import patch\n",
    "\n",
    "class ClassTester(unittest.TestCase):\n",
    "    def test_explode_object(self):\n",
    "        obj = ClassUnderConsider()\n",
    "        # mocking method under consideration\n",
    "        with patch(\"__main__.KNeighborsRegressor.predict\") as mocked_predict:\n",
    "\n",
    "            # now make it return what we are interested in\n",
    "            exp_ans = \"Something predicted\"\n",
    "            mocked_predict.return_value = exp_ans\n",
    "\n",
    "            # lets execute method that is udner testing\n",
    "            # and print what it return - it have to be our\n",
    "            # exp_ans\n",
    "            real_ans = obj.explode_object()\n",
    "            print(\"Value from predict -\", real_ans)\n",
    "\n",
    "            # and finally chekc of the test\n",
    "            self.assertEqual(exp_ans, real_ans)\n",
    "\n",
    "ans = unittest.main(argv=[''], verbosity=2, exit=False)\n",
    "del ClassTester"
   ]
  },
  {
   "cell_type": "markdown",
   "id": "bf069bf7-f055-469c-b336-e24d7ea98475",
   "metadata": {},
   "source": [
    "\"Something predicted\" was printed that just how we mocked `KNeighborsRegressor.predict`."
   ]
  },
  {
   "cell_type": "markdown",
   "id": "440d4d01-7725-47ea-875f-8af2ee3ba7b1",
   "metadata": {},
   "source": [
    "## Called with"
   ]
  },
  {
   "cell_type": "markdown",
   "id": "75116f6b-7f50-4f29-9723-1871fa1619b7",
   "metadata": {},
   "source": [
    "If you need to check which arguments were passed to the mocked function, you can use the `assert_called_with(<supposed arguments>)` method of the patch object.\n",
    "\n",
    "Lets test it on really basic python function `sum`. In the following cell we have just defined wrapper for it."
   ]
  },
  {
   "cell_type": "code",
   "execution_count": 5,
   "id": "e168f405-9421-4a9c-9a16-117c206d2632",
   "metadata": {},
   "outputs": [],
   "source": [
    "def sum_wrapper(numbers):\n",
    "    return sum(numbers)"
   ]
  },
  {
   "cell_type": "markdown",
   "id": "43177bf0-4df0-4c2c-b33b-f75ed4e23e81",
   "metadata": {},
   "source": [
    "Tests will mock `sum` funtion. In both tests to `sum_wrapper` was passed `[1,2,3]` list. But in second case we use `[1,2,5]` in `assert_called_with`."
   ]
  },
  {
   "cell_type": "code",
   "execution_count": 6,
   "id": "13d1aa9e-c9c5-427d-bb28-468377657992",
   "metadata": {},
   "outputs": [
    {
     "name": "stderr",
     "output_type": "stream",
     "text": [
      "test_fail (__main__.TestCalledWith) ... FAIL\n",
      "test_ok (__main__.TestCalledWith) ... ok\n",
      "\n",
      "======================================================================\n",
      "FAIL: test_fail (__main__.TestCalledWith)\n",
      "----------------------------------------------------------------------\n",
      "Traceback (most recent call last):\n",
      "  File \"/tmp/ipykernel_21227/616931396.py\", line 13, in test_fail\n",
      "    mocked_sum.assert_called_with([1,2,5])\n",
      "  File \"/usr/lib/python3.10/unittest/mock.py\", line 929, in assert_called_with\n",
      "    raise AssertionError(_error_message()) from cause\n",
      "AssertionError: expected call not found.\n",
      "Expected: sum_wrapper([1, 2, 5])\n",
      "Actual: sum_wrapper([1, 2, 3])\n",
      "\n",
      "----------------------------------------------------------------------\n",
      "Ran 2 tests in 0.002s\n",
      "\n",
      "FAILED (failures=1)\n"
     ]
    }
   ],
   "source": [
    "import unittest\n",
    "from unittest.mock import patch\n",
    "\n",
    "class TestCalledWith(unittest.TestCase):\n",
    "    def test_ok(self):\n",
    "        with patch(\"__main__.sum_wrapper\") as mocked_sum:\n",
    "            sum_wrapper([1,2,3])\n",
    "            mocked_sum.assert_called_with([1,2,3])\n",
    "\n",
    "    def test_fail(self):\n",
    "        with patch(\"__main__.sum_wrapper\") as mocked_sum:\n",
    "            sum_wrapper([1,2,3])\n",
    "            mocked_sum.assert_called_with([1,2,5])      \n",
    "\n",
    "ans = unittest.main(argv=[''], verbosity=2, exit=False)\n",
    "del TestCalledWith"
   ]
  },
  {
   "cell_type": "markdown",
   "id": "b2d37ec3-4d6f-4765-a349-a69af1deb3d3",
   "metadata": {},
   "source": [
    "So one test passed successfully because the supposed argument in `assert_called_with` matches the argument passed to `sum_wrapper`. But in the second case we got \"Fail\" because it doesn't."
   ]
  }
 ],
 "metadata": {
  "kernelspec": {
   "display_name": "Python 3 (ipykernel)",
   "language": "python",
   "name": "python3"
  },
  "language_info": {
   "codemirror_mode": {
    "name": "ipython",
    "version": 3
   },
   "file_extension": ".py",
   "mimetype": "text/x-python",
   "name": "python",
   "nbconvert_exporter": "python",
   "pygments_lexer": "ipython3",
   "version": "3.10.12"
  }
 },
 "nbformat": 4,
 "nbformat_minor": 5
}
