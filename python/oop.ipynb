{
 "cells": [
  {
   "cell_type": "markdown",
   "id": "dc999654-3f64-4614-8016-c6d6699408d5",
   "metadata": {},
   "source": [
    "# Object oriented programming\n",
    "\n",
    "Object-Oriented Programming (OOP) is a programming paradigm that provides a way to structure code by organizing it into objects. Objects are instances of classes, which are blueprints that define the behavior and characteristics of the objects. Python is an object-oriented programming language that fully supports OOP principles."
   ]
  },
  {
   "cell_type": "markdown",
   "id": "3150687d-0844-4176-879b-bb5bc0ee21a4",
   "metadata": {},
   "source": [
    "## Classes and Objects"
   ]
  },
  {
   "cell_type": "markdown",
   "id": "dfa49322-8c01-489f-8d05-2d195c8591fd",
   "metadata": {},
   "source": [
    "In Python, a class is defined using the class keyword. It encapsulates data (attributes) and functions (methods) that operate on that data. An object is an instance of a class, created using the class as a template."
   ]
  },
  {
   "cell_type": "markdown",
   "id": "1a0b708a-86b3-4ef4-826d-6b17749c865c",
   "metadata": {},
   "source": [
    "Here's an example of a simple class definition:"
   ]
  },
  {
   "cell_type": "code",
   "execution_count": 1,
   "id": "1e0b81a5-691e-4b39-9ca5-c5acb9b09f4d",
   "metadata": {},
   "outputs": [],
   "source": [
    "class Car:\n",
    "    def __init__(self, make, model, year):\n",
    "        self.make = make\n",
    "        self.model = model\n",
    "        self.year = year\n",
    "        \n",
    "    def start(self):\n",
    "        print(\"The car has started.\")\n",
    "        \n",
    "    def stop(self):\n",
    "        print(\"The car has stopped.\")"
   ]
  },
  {
   "cell_type": "markdown",
   "id": "960b67d9-4dbe-42fe-96e5-f6b6d1f5093e",
   "metadata": {},
   "source": [
    "In this example, we define a class called Car. It has three attributes: make, model, and year. The __init__ method is a special method called the constructor, which is invoked when an object is created. The start and stop methods are defined to perform actions specific to a car object."
   ]
  },
  {
   "cell_type": "markdown",
   "id": "c6f613fa-e498-4035-830a-cfccb2f954fb",
   "metadata": {},
   "source": [
    "To create an instance of the Car class, we can use the following code:"
   ]
  },
  {
   "cell_type": "code",
   "execution_count": 2,
   "id": "7b76e061-f1dc-43f3-98d5-d95fe84daef9",
   "metadata": {},
   "outputs": [],
   "source": [
    "my_car = Car(\"Toyota\", \"Camry\", 2022)"
   ]
  },
  {
   "cell_type": "markdown",
   "id": "89d65839-008f-4de5-b583-253cba233dce",
   "metadata": {},
   "source": [
    "Here, `my_car` is an object of the Car class. We pass the arguments \"Toyota\", \"Camry\", and 2022 to the constructor to initialize the object."
   ]
  },
  {
   "cell_type": "markdown",
   "id": "32563e34-b164-4f56-9ba9-c1f65ed3e336",
   "metadata": {},
   "source": [
    "## Accessing Attributes and Invoking Methods"
   ]
  },
  {
   "cell_type": "markdown",
   "id": "d1996ba9-5839-49e7-bfe1-15e2f79fcfcb",
   "metadata": {},
   "source": [
    "Once we have an object, we can access its attributes and invoke its methods using the dot notation."
   ]
  },
  {
   "cell_type": "code",
   "execution_count": 4,
   "id": "222a3333-8bfc-4e8b-9a02-3f4ddd0d963d",
   "metadata": {},
   "outputs": [
    {
     "name": "stdout",
     "output_type": "stream",
     "text": [
      "Toyota\n",
      "Camry\n",
      "2022\n",
      "The car has started.\n",
      "The car has stopped.\n"
     ]
    }
   ],
   "source": [
    "print(my_car.make)\n",
    "print(my_car.model)\n",
    "print(my_car.year)\n",
    "\n",
    "my_car.start()\n",
    "my_car.stop()"
   ]
  },
  {
   "cell_type": "markdown",
   "id": "af177215-e630-44df-bf28-0ccb1a85dd2b",
   "metadata": {},
   "source": [
    "Here, we access the attributes make, model, and year of my_car and invoke its start and stop methods."
   ]
  },
  {
   "cell_type": "markdown",
   "id": "233ab9b9-f64c-4ccd-8b99-6ac944b1e4a8",
   "metadata": {},
   "source": [
    "## Inheritance"
   ]
  },
  {
   "cell_type": "markdown",
   "id": "0f81775b-30f6-49b5-b8e5-372a0d72465a",
   "metadata": {},
   "source": [
    "One of the key features of OOP is inheritance, which allows a class to inherit attributes and methods from another class. The class that inherits is called a subclass or derived class, and the class from which it inherits is called a superclass or base class."
   ]
  },
  {
   "cell_type": "code",
   "execution_count": 5,
   "id": "5ba4a331-ec2f-4bd5-a079-fb56ecf72ee5",
   "metadata": {},
   "outputs": [],
   "source": [
    "class ElectricCar(Car):\n",
    "    def __init__(self, make, model, year, battery_capacity):\n",
    "        super().__init__(make, model, year)\n",
    "        self.battery_capacity = battery_capacity\n",
    "        \n",
    "    def charge(self):\n",
    "        print(\"The electric car is charging.\")"
   ]
  },
  {
   "cell_type": "markdown",
   "id": "4719d900-31d2-492c-b251-1d65f6938656",
   "metadata": {},
   "source": [
    "In this example, we define a subclass `ElectricCar` that inherits from the `Car` class. It has an additional attribute `battery_capacity` and a new method charge. The `super()` function is used to call the superclass's constructor and initialize the inherited attributes."
   ]
  },
  {
   "cell_type": "code",
   "execution_count": 6,
   "id": "ab7728a7-6d30-4cb6-ac1f-55cc66c50ffd",
   "metadata": {},
   "outputs": [
    {
     "name": "stdout",
     "output_type": "stream",
     "text": [
      "Tesla\n",
      "100\n",
      "The car has started.\n",
      "The electric car is charging.\n"
     ]
    }
   ],
   "source": [
    "my_electric_car = ElectricCar(\"Tesla\", \"Model S\", 2023, 100)\n",
    "print(my_electric_car.make)\n",
    "print(my_electric_car.battery_capacity)\n",
    "my_electric_car.start()\n",
    "my_electric_car.charge()"
   ]
  },
  {
   "cell_type": "markdown",
   "id": "0345a5eb-7cac-4b9c-abd4-470605e898ac",
   "metadata": {},
   "source": [
    "Here, `my_electric_car` is an object of the `ElectricCar` class, which inherits attributes and methods from the `Car` class. It also has its own specific attributes and methods."
   ]
  }
 ],
 "metadata": {
  "kernelspec": {
   "display_name": "Python 3 (ipykernel)",
   "language": "python",
   "name": "python3"
  },
  "language_info": {
   "codemirror_mode": {
    "name": "ipython",
    "version": 3
   },
   "file_extension": ".py",
   "mimetype": "text/x-python",
   "name": "python",
   "nbconvert_exporter": "python",
   "pygments_lexer": "ipython3",
   "version": "3.10.12"
  }
 },
 "nbformat": 4,
 "nbformat_minor": 5
}
