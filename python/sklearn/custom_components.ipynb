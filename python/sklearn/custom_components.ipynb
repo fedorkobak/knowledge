{
 "cells": [
  {
   "cell_type": "markdown",
   "id": "f6d62836-2b75-4bb7-8c4e-97e67e094b15",
   "metadata": {},
   "source": [
    "# Custom components\n",
    "\n",
    "[developing scikit-learn estimators](https://scikit-learn.org/stable/developers/develop.html)\n",
    "\n",
    "https://scikit-learn.org/stable/auto_examples/developing_estimators/sklearn_is_fitted.html#sphx-glr-auto-examples-developing-estimators-sklearn-is-fitted-py"
   ]
  },
  {
   "cell_type": "code",
   "execution_count": 23,
   "id": "d49351a4-bbcc-4932-b34a-52e10bce2d5b",
   "metadata": {},
   "outputs": [],
   "source": [
    "from sklearn.base import BaseEstimator, RegressorMixin\n",
    "from sklearn.utils.validation import check_is_fitted\n",
    "import numpy as np\n",
    "\n",
    "class CustomEstimator(BaseEstimator, RegressorMixin):\n",
    "    def __init__(self, parameter=1):\n",
    "        self.parameter = parameter\n",
    "\n",
    "    def fit(self, X, y=None):\n",
    "        \"\"\"\n",
    "        Fit the estimator to the training data.\n",
    "        \"\"\"\n",
    "        if X.shape[0] != y.shape[0]:\n",
    "            raise ValueError(\"X and y have different number of samples\")\n",
    "        # Custom attribute to track if the estimator is fitted\n",
    "        self._is_fitted = True\n",
    "        return self\n",
    "\n",
    "    def predict(self, X):\n",
    "        \"\"\"\n",
    "        Perform Predictions\n",
    "\n",
    "        If the estimator is not fitted, then raise NotFittedError\n",
    "        \"\"\"\n",
    "        check_is_fitted(self)\n",
    "        # Perform prediction logic\n",
    "        return X\n",
    "\n",
    "    def score(self, X, y):\n",
    "        \"\"\"\n",
    "        Calculate Score\n",
    "\n",
    "        If the estimator is not fitted, then raise NotFittedError\n",
    "        \"\"\"\n",
    "        check_is_fitted(self)\n",
    "        # Perform scoring logic\n",
    "        return 0.5\n",
    "\n",
    "    def __sklearn_is_fitted__(self):\n",
    "        \"\"\"\n",
    "        Check fitted status and return a Boolean value.\n",
    "        \"\"\"\n",
    "        return hasattr(self, \"_is_fitted\") and self._is_fitted"
   ]
  },
  {
   "cell_type": "code",
   "execution_count": 24,
   "id": "5dd8910a-d121-4a39-bb73-fc346018eb28",
   "metadata": {},
   "outputs": [
    {
     "ename": "AttributeError",
     "evalue": "'NoneType' object has no attribute 'shape'",
     "output_type": "error",
     "traceback": [
      "\u001b[0;31m---------------------------------------------------------------------------\u001b[0m",
      "\u001b[0;31mAttributeError\u001b[0m                            Traceback (most recent call last)",
      "Cell \u001b[0;32mIn[24], line 3\u001b[0m\n\u001b[1;32m      1\u001b[0m X \u001b[38;5;241m=\u001b[39m np\u001b[38;5;241m.\u001b[39mrandom\u001b[38;5;241m.\u001b[39mnormal(\u001b[38;5;241m0\u001b[39m,\u001b[38;5;241m10\u001b[39m,[\u001b[38;5;241m10\u001b[39m,\u001b[38;5;241m20\u001b[39m])\n\u001b[0;32m----> 3\u001b[0m \u001b[43mCustomEstimator\u001b[49m\u001b[43m(\u001b[49m\u001b[43m)\u001b[49m\u001b[38;5;241;43m.\u001b[39;49m\u001b[43mfit\u001b[49m\u001b[43m(\u001b[49m\u001b[43mX\u001b[49m\u001b[43m)\u001b[49m\u001b[38;5;241m.\u001b[39mpredict(X)\n",
      "Cell \u001b[0;32mIn[23], line 13\u001b[0m, in \u001b[0;36mCustomEstimator.fit\u001b[0;34m(self, X, y)\u001b[0m\n\u001b[1;32m      9\u001b[0m \u001b[38;5;28;01mdef\u001b[39;00m \u001b[38;5;21mfit\u001b[39m(\u001b[38;5;28mself\u001b[39m, X, y\u001b[38;5;241m=\u001b[39m\u001b[38;5;28;01mNone\u001b[39;00m):\n\u001b[1;32m     10\u001b[0m \u001b[38;5;250m    \u001b[39m\u001b[38;5;124;03m\"\"\"\u001b[39;00m\n\u001b[1;32m     11\u001b[0m \u001b[38;5;124;03m    Fit the estimator to the training data.\u001b[39;00m\n\u001b[1;32m     12\u001b[0m \u001b[38;5;124;03m    \"\"\"\u001b[39;00m\n\u001b[0;32m---> 13\u001b[0m     \u001b[38;5;28;01mif\u001b[39;00m X\u001b[38;5;241m.\u001b[39mshape[\u001b[38;5;241m0\u001b[39m] \u001b[38;5;241m!=\u001b[39m \u001b[43my\u001b[49m\u001b[38;5;241;43m.\u001b[39;49m\u001b[43mshape\u001b[49m[\u001b[38;5;241m0\u001b[39m]:\n\u001b[1;32m     14\u001b[0m         \u001b[38;5;28;01mraise\u001b[39;00m \u001b[38;5;167;01mValueError\u001b[39;00m(\u001b[38;5;124m\"\u001b[39m\u001b[38;5;124mX and y have different number of samples\u001b[39m\u001b[38;5;124m\"\u001b[39m)\n\u001b[1;32m     15\u001b[0m     \u001b[38;5;66;03m# Custom attribute to track if the estimator is fitted\u001b[39;00m\n",
      "\u001b[0;31mAttributeError\u001b[0m: 'NoneType' object has no attribute 'shape'"
     ]
    }
   ],
   "source": [
    "X = np.random.normal(0,10,[10,20])\n",
    "\n",
    "CustomEstimator().fit(X).predict(X)"
   ]
  },
  {
   "cell_type": "code",
   "execution_count": 18,
   "id": "647ff357-03ac-4dad-80ef-11b538800580",
   "metadata": {},
   "outputs": [],
   "source": [
    "from sklearn.utils.estimator_checks import is_regressor, check_estimator"
   ]
  },
  {
   "cell_type": "code",
   "execution_count": 20,
   "id": "655ff832-e96c-4f8c-b9b8-a12323a4e8bd",
   "metadata": {},
   "outputs": [
    {
     "ename": "AssertionError",
     "evalue": "Did not raise: [<class 'ValueError'>]",
     "output_type": "error",
     "traceback": [
      "\u001b[0;31m---------------------------------------------------------------------------\u001b[0m",
      "\u001b[0;31mAssertionError\u001b[0m                            Traceback (most recent call last)",
      "Cell \u001b[0;32mIn[20], line 1\u001b[0m\n\u001b[0;32m----> 1\u001b[0m \u001b[43mcheck_estimator\u001b[49m\u001b[43m(\u001b[49m\u001b[43mCustomEstimator\u001b[49m\u001b[43m(\u001b[49m\u001b[43m)\u001b[49m\u001b[43m)\u001b[49m\n",
      "File \u001b[0;32m~/.local/lib/python3.10/site-packages/sklearn/utils/estimator_checks.py:655\u001b[0m, in \u001b[0;36mcheck_estimator\u001b[0;34m(estimator, generate_only)\u001b[0m\n\u001b[1;32m    653\u001b[0m \u001b[38;5;28;01mfor\u001b[39;00m estimator, check \u001b[38;5;129;01min\u001b[39;00m checks_generator():\n\u001b[1;32m    654\u001b[0m     \u001b[38;5;28;01mtry\u001b[39;00m:\n\u001b[0;32m--> 655\u001b[0m         \u001b[43mcheck\u001b[49m\u001b[43m(\u001b[49m\u001b[43mestimator\u001b[49m\u001b[43m)\u001b[49m\n\u001b[1;32m    656\u001b[0m     \u001b[38;5;28;01mexcept\u001b[39;00m SkipTest \u001b[38;5;28;01mas\u001b[39;00m exception:\n\u001b[1;32m    657\u001b[0m         \u001b[38;5;66;03m# SkipTest is thrown when pandas can't be imported, or by checks\u001b[39;00m\n\u001b[1;32m    658\u001b[0m         \u001b[38;5;66;03m# that are in the xfail_checks tag\u001b[39;00m\n\u001b[1;32m    659\u001b[0m         warnings\u001b[38;5;241m.\u001b[39mwarn(\u001b[38;5;28mstr\u001b[39m(exception), SkipTestWarning)\n",
      "File \u001b[0;32m~/.local/lib/python3.10/site-packages/sklearn/utils/estimator_checks.py:1368\u001b[0m, in \u001b[0;36mcheck_complex_data\u001b[0;34m(name, estimator_orig)\u001b[0m\n\u001b[1;32m   1366\u001b[0m estimator \u001b[38;5;241m=\u001b[39m clone(estimator_orig)\n\u001b[1;32m   1367\u001b[0m set_random_state(estimator, random_state\u001b[38;5;241m=\u001b[39m\u001b[38;5;241m0\u001b[39m)\n\u001b[0;32m-> 1368\u001b[0m \u001b[38;5;28;01mwith\u001b[39;00m raises(\u001b[38;5;167;01mValueError\u001b[39;00m, match\u001b[38;5;241m=\u001b[39m\u001b[38;5;124m\"\u001b[39m\u001b[38;5;124mComplex data not supported\u001b[39m\u001b[38;5;124m\"\u001b[39m):\n\u001b[1;32m   1369\u001b[0m     estimator\u001b[38;5;241m.\u001b[39mfit(X, y)\n",
      "File \u001b[0;32m~/.local/lib/python3.10/site-packages/sklearn/utils/_testing.py:901\u001b[0m, in \u001b[0;36m_Raises.__exit__\u001b[0;34m(self, exc_type, exc_value, _)\u001b[0m\n\u001b[1;32m    899\u001b[0m     \u001b[38;5;28;01melse\u001b[39;00m:\n\u001b[1;32m    900\u001b[0m         err_msg \u001b[38;5;241m=\u001b[39m \u001b[38;5;28mself\u001b[39m\u001b[38;5;241m.\u001b[39merr_msg \u001b[38;5;129;01mor\u001b[39;00m \u001b[38;5;124mf\u001b[39m\u001b[38;5;124m\"\u001b[39m\u001b[38;5;124mDid not raise: \u001b[39m\u001b[38;5;132;01m{\u001b[39;00m\u001b[38;5;28mself\u001b[39m\u001b[38;5;241m.\u001b[39mexpected_exc_types\u001b[38;5;132;01m}\u001b[39;00m\u001b[38;5;124m\"\u001b[39m\n\u001b[0;32m--> 901\u001b[0m         \u001b[38;5;28;01mraise\u001b[39;00m \u001b[38;5;167;01mAssertionError\u001b[39;00m(err_msg)\n\u001b[1;32m    903\u001b[0m \u001b[38;5;28;01mif\u001b[39;00m \u001b[38;5;129;01mnot\u001b[39;00m \u001b[38;5;28many\u001b[39m(\n\u001b[1;32m    904\u001b[0m     \u001b[38;5;28missubclass\u001b[39m(exc_type, expected_type)\n\u001b[1;32m    905\u001b[0m     \u001b[38;5;28;01mfor\u001b[39;00m expected_type \u001b[38;5;129;01min\u001b[39;00m \u001b[38;5;28mself\u001b[39m\u001b[38;5;241m.\u001b[39mexpected_exc_types\n\u001b[1;32m    906\u001b[0m ):\n\u001b[1;32m    907\u001b[0m     \u001b[38;5;28;01mif\u001b[39;00m \u001b[38;5;28mself\u001b[39m\u001b[38;5;241m.\u001b[39merr_msg \u001b[38;5;129;01mis\u001b[39;00m \u001b[38;5;129;01mnot\u001b[39;00m \u001b[38;5;28;01mNone\u001b[39;00m:\n",
      "\u001b[0;31mAssertionError\u001b[0m: Did not raise: [<class 'ValueError'>]"
     ]
    }
   ],
   "source": [
    "check_estimator(CustomEstimator())"
   ]
  },
  {
   "cell_type": "code",
   "execution_count": 22,
   "id": "348b798f-fe4d-4615-9011-20750f11493d",
   "metadata": {},
   "outputs": [
    {
     "data": {
      "text/plain": [
       "True"
      ]
     },
     "execution_count": 22,
     "metadata": {},
     "output_type": "execute_result"
    }
   ],
   "source": [
    "is_regressor(CustomEstimator)"
   ]
  }
 ],
 "metadata": {
  "kernelspec": {
   "display_name": "Python 3 (ipykernel)",
   "language": "python",
   "name": "python3"
  },
  "language_info": {
   "codemirror_mode": {
    "name": "ipython",
    "version": 3
   },
   "file_extension": ".py",
   "mimetype": "text/x-python",
   "name": "python",
   "nbconvert_exporter": "python",
   "pygments_lexer": "ipython3",
   "version": "3.10.12"
  }
 },
 "nbformat": 4,
 "nbformat_minor": 5
}
