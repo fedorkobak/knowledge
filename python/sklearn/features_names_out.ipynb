{
 "cells": [
  {
   "cell_type": "markdown",
   "id": "6e3244b8-17c4-47be-a081-73042890bf3b",
   "metadata": {},
   "source": [
    "# Features names out"
   ]
  },
  {
   "cell_type": "markdown",
   "id": "0431a9e2-05ca-4b56-b9fb-5be244cb9a73",
   "metadata": {},
   "source": [
    "Having the ability to identify columns after applying transformations using different sklearn transformers is highly crucial. By default, sklearn transformers generate `numpy.array` outputs, lacking the column structure found in `pandas.DataFrame`.\n",
    "\n",
    "Fortunately, a solution to this problem has been introduced in `sklearn==1.1`. This solution involves the utilization of the `get_feature_names_out` method, which returns the feature names as values."
   ]
  },
  {
   "cell_type": "code",
   "execution_count": 1,
   "id": "7db2c8f6-a191-4ac0-81f2-9af7888c0495",
   "metadata": {},
   "outputs": [],
   "source": [
    "import numpy as np\n",
    "import pandas as pd\n",
    "\n",
    "from IPython.display import HTML\n",
    "header_template = \"<p style='font-size:17px'>{}</p>\"\n",
    "\n",
    "from sklearn.preprocessing import (\n",
    "    FunctionTransformer,\n",
    "    StandardScaler\n",
    ")\n",
    "\n",
    "# this is frame with few numeric columns that\n",
    "# is typically used for examples\n",
    "input_frame = pd.DataFrame({\n",
    "    f\"feature{n}\" : np.random.normal(0, 10, 5)\n",
    "    for n in range(3)\n",
    "})"
   ]
  },
  {
   "cell_type": "markdown",
   "id": "f926d7bd-5cdb-48b1-9d68-e38a61f52117",
   "metadata": {},
   "source": [
    "## Defined names"
   ]
  },
  {
   "cell_type": "markdown",
   "id": "a516953c-89e7-419d-9a8c-c8fc5f1a0522",
   "metadata": {},
   "source": [
    "There are converters that specify columns output names by themselves. In them you can simply call `get_features_names_out` in the trained object and the input names of the features will be returned. Some examples of such transformers:]\n",
    "\n",
    "- `StandartScaler`;\n",
    "- `OneHotEncoder`;\n",
    "- `ColumnTransformer`;\n",
    "- `PolynomialFeatures`;\n",
    "- `CountVectorizer`;\n",
    "- `TfidfVectorizer`."
   ]
  },
  {
   "cell_type": "markdown",
   "id": "dd764fb2-353c-4a61-a58a-9254c5895604",
   "metadata": {},
   "source": [
    "So in the following example cell is for `StandardScaler` - it just keeps names of the input array:"
   ]
  },
  {
   "cell_type": "code",
   "execution_count": 2,
   "id": "bc1de995-a051-430b-a756-f877153e7e9f",
   "metadata": {},
   "outputs": [
    {
     "data": {
      "text/html": [
       "<p style='font-size:17px'>Input dataframe</p>"
      ],
      "text/plain": [
       "<IPython.core.display.HTML object>"
      ]
     },
     "metadata": {},
     "output_type": "display_data"
    },
    {
     "data": {
      "text/html": [
       "<div>\n",
       "<style scoped>\n",
       "    .dataframe tbody tr th:only-of-type {\n",
       "        vertical-align: middle;\n",
       "    }\n",
       "\n",
       "    .dataframe tbody tr th {\n",
       "        vertical-align: top;\n",
       "    }\n",
       "\n",
       "    .dataframe thead th {\n",
       "        text-align: right;\n",
       "    }\n",
       "</style>\n",
       "<table border=\"1\" class=\"dataframe\">\n",
       "  <thead>\n",
       "    <tr style=\"text-align: right;\">\n",
       "      <th></th>\n",
       "      <th>feature0</th>\n",
       "      <th>feature1</th>\n",
       "      <th>feature2</th>\n",
       "    </tr>\n",
       "  </thead>\n",
       "  <tbody>\n",
       "    <tr>\n",
       "      <th>0</th>\n",
       "      <td>-5.263240</td>\n",
       "      <td>14.943478</td>\n",
       "      <td>-0.875921</td>\n",
       "    </tr>\n",
       "    <tr>\n",
       "      <th>1</th>\n",
       "      <td>-1.549951</td>\n",
       "      <td>-10.348717</td>\n",
       "      <td>9.488640</td>\n",
       "    </tr>\n",
       "    <tr>\n",
       "      <th>2</th>\n",
       "      <td>-0.907326</td>\n",
       "      <td>-6.827048</td>\n",
       "      <td>12.779967</td>\n",
       "    </tr>\n",
       "    <tr>\n",
       "      <th>3</th>\n",
       "      <td>-6.299696</td>\n",
       "      <td>-6.115877</td>\n",
       "      <td>3.503167</td>\n",
       "    </tr>\n",
       "    <tr>\n",
       "      <th>4</th>\n",
       "      <td>-10.672533</td>\n",
       "      <td>-16.607050</td>\n",
       "      <td>0.652093</td>\n",
       "    </tr>\n",
       "  </tbody>\n",
       "</table>\n",
       "</div>"
      ],
      "text/plain": [
       "    feature0   feature1   feature2\n",
       "0  -5.263240  14.943478  -0.875921\n",
       "1  -1.549951 -10.348717   9.488640\n",
       "2  -0.907326  -6.827048  12.779967\n",
       "3  -6.299696  -6.115877   3.503167\n",
       "4 -10.672533 -16.607050   0.652093"
      ]
     },
     "metadata": {},
     "output_type": "display_data"
    },
    {
     "data": {
      "text/html": [
       "<p style='font-size:17px'>transform result</p>"
      ],
      "text/plain": [
       "<IPython.core.display.HTML object>"
      ]
     },
     "metadata": {},
     "output_type": "display_data"
    },
    {
     "data": {
      "text/plain": [
       "array([[-0.09178503,  1.87419164, -1.14646023],\n",
       "       [ 0.95790347, -0.5037146 ,  0.83876015],\n",
       "       [ 1.13956346, -0.17261638,  1.46917855],\n",
       "       [-0.38477476, -0.105754  , -0.30769289],\n",
       "       [-1.62090714, -1.09210666, -0.85378558]])"
      ]
     },
     "metadata": {},
     "output_type": "display_data"
    },
    {
     "data": {
      "text/html": [
       "<p style='font-size:17px'>.get_features_names_out result</p>"
      ],
      "text/plain": [
       "<IPython.core.display.HTML object>"
      ]
     },
     "metadata": {},
     "output_type": "display_data"
    },
    {
     "data": {
      "text/plain": [
       "array(['feature0', 'feature1', 'feature2'], dtype=object)"
      ]
     },
     "metadata": {},
     "output_type": "display_data"
    }
   ],
   "source": [
    "display(HTML(header_template.format(\"Input dataframe\")))\n",
    "display(input_frame)\n",
    "\n",
    "my_scaler = StandardScaler()\n",
    "display(HTML(header_template.format(\"transform result\")))\n",
    "display(my_scaler.fit_transform(input_frame))\n",
    "\n",
    "display(HTML(header_template.format(\".get_features_names_out result\")))\n",
    "display(my_scaler.get_feature_names_out())"
   ]
  },
  {
   "cell_type": "markdown",
   "id": "6dc8822e-c7b2-4a9d-90e4-a435ba428d3b",
   "metadata": {},
   "source": [
    "## FunctionTransformer"
   ]
  },
  {
   "cell_type": "markdown",
   "id": "3c0dc823-120a-44f0-b487-bb48281a806f",
   "metadata": {},
   "source": [
    "This transformer have a bit tricky behaviour of `get_feature_names_out` method. \n",
    "\n",
    "You have to specify `feature_names_out`. It can be `\"one-to-one\"` or something callable. For both options I have examples below."
   ]
  },
  {
   "cell_type": "markdown",
   "id": "89585c2e-152d-4805-9aae-176bba38d43f",
   "metadata": {},
   "source": [
    "### `\"one-to-one\"`"
   ]
  },
  {
   "cell_type": "markdown",
   "id": "53a85c8c-24af-4413-b520-97d3d7030277",
   "metadata": {},
   "source": [
    "`one-to-one` simply causes `.get_feature_names_out` to return the feature names as they were in the input. The following example is sutitable for `dummy` transformer - the following example is suitable for the `dummy` transformer - it simply returns it's input."
   ]
  },
  {
   "cell_type": "code",
   "execution_count": 3,
   "id": "f589470e-a170-44d2-a0ea-35ae21d9bdc1",
   "metadata": {},
   "outputs": [
    {
     "data": {
      "text/html": [
       "<p style='font-size:17px'>Input dataframe</p>"
      ],
      "text/plain": [
       "<IPython.core.display.HTML object>"
      ]
     },
     "metadata": {},
     "output_type": "display_data"
    },
    {
     "data": {
      "text/html": [
       "<div>\n",
       "<style scoped>\n",
       "    .dataframe tbody tr th:only-of-type {\n",
       "        vertical-align: middle;\n",
       "    }\n",
       "\n",
       "    .dataframe tbody tr th {\n",
       "        vertical-align: top;\n",
       "    }\n",
       "\n",
       "    .dataframe thead th {\n",
       "        text-align: right;\n",
       "    }\n",
       "</style>\n",
       "<table border=\"1\" class=\"dataframe\">\n",
       "  <thead>\n",
       "    <tr style=\"text-align: right;\">\n",
       "      <th></th>\n",
       "      <th>feature0</th>\n",
       "      <th>feature1</th>\n",
       "      <th>feature2</th>\n",
       "    </tr>\n",
       "  </thead>\n",
       "  <tbody>\n",
       "    <tr>\n",
       "      <th>0</th>\n",
       "      <td>-5.263240</td>\n",
       "      <td>14.943478</td>\n",
       "      <td>-0.875921</td>\n",
       "    </tr>\n",
       "    <tr>\n",
       "      <th>1</th>\n",
       "      <td>-1.549951</td>\n",
       "      <td>-10.348717</td>\n",
       "      <td>9.488640</td>\n",
       "    </tr>\n",
       "    <tr>\n",
       "      <th>2</th>\n",
       "      <td>-0.907326</td>\n",
       "      <td>-6.827048</td>\n",
       "      <td>12.779967</td>\n",
       "    </tr>\n",
       "    <tr>\n",
       "      <th>3</th>\n",
       "      <td>-6.299696</td>\n",
       "      <td>-6.115877</td>\n",
       "      <td>3.503167</td>\n",
       "    </tr>\n",
       "    <tr>\n",
       "      <th>4</th>\n",
       "      <td>-10.672533</td>\n",
       "      <td>-16.607050</td>\n",
       "      <td>0.652093</td>\n",
       "    </tr>\n",
       "  </tbody>\n",
       "</table>\n",
       "</div>"
      ],
      "text/plain": [
       "    feature0   feature1   feature2\n",
       "0  -5.263240  14.943478  -0.875921\n",
       "1  -1.549951 -10.348717   9.488640\n",
       "2  -0.907326  -6.827048  12.779967\n",
       "3  -6.299696  -6.115877   3.503167\n",
       "4 -10.672533 -16.607050   0.652093"
      ]
     },
     "metadata": {},
     "output_type": "display_data"
    },
    {
     "data": {
      "text/html": [
       "<p style='font-size:17px'>transform result</p>"
      ],
      "text/plain": [
       "<IPython.core.display.HTML object>"
      ]
     },
     "metadata": {},
     "output_type": "display_data"
    },
    {
     "data": {
      "text/html": [
       "<div>\n",
       "<style scoped>\n",
       "    .dataframe tbody tr th:only-of-type {\n",
       "        vertical-align: middle;\n",
       "    }\n",
       "\n",
       "    .dataframe tbody tr th {\n",
       "        vertical-align: top;\n",
       "    }\n",
       "\n",
       "    .dataframe thead th {\n",
       "        text-align: right;\n",
       "    }\n",
       "</style>\n",
       "<table border=\"1\" class=\"dataframe\">\n",
       "  <thead>\n",
       "    <tr style=\"text-align: right;\">\n",
       "      <th></th>\n",
       "      <th>feature0</th>\n",
       "      <th>feature1</th>\n",
       "      <th>feature2</th>\n",
       "    </tr>\n",
       "  </thead>\n",
       "  <tbody>\n",
       "    <tr>\n",
       "      <th>0</th>\n",
       "      <td>-5.263240</td>\n",
       "      <td>14.943478</td>\n",
       "      <td>-0.875921</td>\n",
       "    </tr>\n",
       "    <tr>\n",
       "      <th>1</th>\n",
       "      <td>-1.549951</td>\n",
       "      <td>-10.348717</td>\n",
       "      <td>9.488640</td>\n",
       "    </tr>\n",
       "    <tr>\n",
       "      <th>2</th>\n",
       "      <td>-0.907326</td>\n",
       "      <td>-6.827048</td>\n",
       "      <td>12.779967</td>\n",
       "    </tr>\n",
       "    <tr>\n",
       "      <th>3</th>\n",
       "      <td>-6.299696</td>\n",
       "      <td>-6.115877</td>\n",
       "      <td>3.503167</td>\n",
       "    </tr>\n",
       "    <tr>\n",
       "      <th>4</th>\n",
       "      <td>-10.672533</td>\n",
       "      <td>-16.607050</td>\n",
       "      <td>0.652093</td>\n",
       "    </tr>\n",
       "  </tbody>\n",
       "</table>\n",
       "</div>"
      ],
      "text/plain": [
       "    feature0   feature1   feature2\n",
       "0  -5.263240  14.943478  -0.875921\n",
       "1  -1.549951 -10.348717   9.488640\n",
       "2  -0.907326  -6.827048  12.779967\n",
       "3  -6.299696  -6.115877   3.503167\n",
       "4 -10.672533 -16.607050   0.652093"
      ]
     },
     "metadata": {},
     "output_type": "display_data"
    },
    {
     "data": {
      "text/html": [
       "<p style='font-size:17px'>.get_features_names_out result</p>"
      ],
      "text/plain": [
       "<IPython.core.display.HTML object>"
      ]
     },
     "metadata": {},
     "output_type": "display_data"
    },
    {
     "data": {
      "text/plain": [
       "array(['feature0', 'feature1', 'feature2'], dtype=object)"
      ]
     },
     "metadata": {},
     "output_type": "display_data"
    }
   ],
   "source": [
    "display(HTML(header_template.format(\"Input dataframe\")))\n",
    "display(input_frame)\n",
    "\n",
    "my_scaler = FunctionTransformer(\n",
    "    lambda X : X,\n",
    "    feature_names_out = \"one-to-one\"\n",
    ")\n",
    "display(HTML(header_template.format(\"transform result\")))\n",
    "display(my_scaler.fit_transform(input_frame))\n",
    "\n",
    "display(HTML(header_template.format(\".get_features_names_out result\")))\n",
    "display(my_scaler.get_feature_names_out())"
   ]
  },
  {
   "cell_type": "markdown",
   "id": "d03429ce-d091-4b98-a28d-8c27685167d0",
   "metadata": {},
   "source": [
    "**Note**: While the usefulness of `.get_feature_names_out` may not be apparent in the current case where a transformer returns a dataframe, it becomes valuable in more complex pipelines where it remembers feature names in a scikit-learn style. Its ability to retain names can be crucial in such scenarios, making it a useful feature to have."
   ]
  },
  {
   "cell_type": "markdown",
   "id": "6192b10b-ba1a-48c1-86b4-729688e9a844",
   "metadata": {},
   "source": [
    "### Callable\n",
    "\n",
    "If you pass callable as argument to `feature_names_out` it will be called with `.get_feature_names_out`. It should instance of `FunctionTransformer` that called method and input array of input features. "
   ]
  },
  {
   "cell_type": "markdown",
   "id": "b42ee354-4003-42fb-9419-abdf96043434",
   "metadata": {},
   "source": [
    "#### Expected inputs\n",
    "\n",
    "Let's study what is passed to the specified in `feature_names_out` funcion on the example. Let's just try to substitute such a function that will return its own input elements."
   ]
  },
  {
   "cell_type": "code",
   "execution_count": 4,
   "id": "245afddb-fa4c-4315-9021-16006cb0d0db",
   "metadata": {},
   "outputs": [
    {
     "data": {
      "text/html": [
       "<p style='font-size:17px'>First argument - transformer itself</p>"
      ],
      "text/plain": [
       "<IPython.core.display.HTML object>"
      ]
     },
     "metadata": {},
     "output_type": "display_data"
    },
    {
     "data": {
      "text/html": [
       "<style>#sk-container-id-1 {\n",
       "  /* Definition of color scheme common for light and dark mode */\n",
       "  --sklearn-color-text: black;\n",
       "  --sklearn-color-line: gray;\n",
       "  /* Definition of color scheme for unfitted estimators */\n",
       "  --sklearn-color-unfitted-level-0: #fff5e6;\n",
       "  --sklearn-color-unfitted-level-1: #f6e4d2;\n",
       "  --sklearn-color-unfitted-level-2: #ffe0b3;\n",
       "  --sklearn-color-unfitted-level-3: chocolate;\n",
       "  /* Definition of color scheme for fitted estimators */\n",
       "  --sklearn-color-fitted-level-0: #f0f8ff;\n",
       "  --sklearn-color-fitted-level-1: #d4ebff;\n",
       "  --sklearn-color-fitted-level-2: #b3dbfd;\n",
       "  --sklearn-color-fitted-level-3: cornflowerblue;\n",
       "\n",
       "  /* Specific color for light theme */\n",
       "  --sklearn-color-text-on-default-background: var(--sg-text-color, var(--theme-code-foreground, var(--jp-content-font-color1, black)));\n",
       "  --sklearn-color-background: var(--sg-background-color, var(--theme-background, var(--jp-layout-color0, white)));\n",
       "  --sklearn-color-border-box: var(--sg-text-color, var(--theme-code-foreground, var(--jp-content-font-color1, black)));\n",
       "  --sklearn-color-icon: #696969;\n",
       "\n",
       "  @media (prefers-color-scheme: dark) {\n",
       "    /* Redefinition of color scheme for dark theme */\n",
       "    --sklearn-color-text-on-default-background: var(--sg-text-color, var(--theme-code-foreground, var(--jp-content-font-color1, white)));\n",
       "    --sklearn-color-background: var(--sg-background-color, var(--theme-background, var(--jp-layout-color0, #111)));\n",
       "    --sklearn-color-border-box: var(--sg-text-color, var(--theme-code-foreground, var(--jp-content-font-color1, white)));\n",
       "    --sklearn-color-icon: #878787;\n",
       "  }\n",
       "}\n",
       "\n",
       "#sk-container-id-1 {\n",
       "  color: var(--sklearn-color-text);\n",
       "}\n",
       "\n",
       "#sk-container-id-1 pre {\n",
       "  padding: 0;\n",
       "}\n",
       "\n",
       "#sk-container-id-1 input.sk-hidden--visually {\n",
       "  border: 0;\n",
       "  clip: rect(1px 1px 1px 1px);\n",
       "  clip: rect(1px, 1px, 1px, 1px);\n",
       "  height: 1px;\n",
       "  margin: -1px;\n",
       "  overflow: hidden;\n",
       "  padding: 0;\n",
       "  position: absolute;\n",
       "  width: 1px;\n",
       "}\n",
       "\n",
       "#sk-container-id-1 div.sk-dashed-wrapped {\n",
       "  border: 1px dashed var(--sklearn-color-line);\n",
       "  margin: 0 0.4em 0.5em 0.4em;\n",
       "  box-sizing: border-box;\n",
       "  padding-bottom: 0.4em;\n",
       "  background-color: var(--sklearn-color-background);\n",
       "}\n",
       "\n",
       "#sk-container-id-1 div.sk-container {\n",
       "  /* jupyter's `normalize.less` sets `[hidden] { display: none; }`\n",
       "     but bootstrap.min.css set `[hidden] { display: none !important; }`\n",
       "     so we also need the `!important` here to be able to override the\n",
       "     default hidden behavior on the sphinx rendered scikit-learn.org.\n",
       "     See: https://github.com/scikit-learn/scikit-learn/issues/21755 */\n",
       "  display: inline-block !important;\n",
       "  position: relative;\n",
       "}\n",
       "\n",
       "#sk-container-id-1 div.sk-text-repr-fallback {\n",
       "  display: none;\n",
       "}\n",
       "\n",
       "div.sk-parallel-item,\n",
       "div.sk-serial,\n",
       "div.sk-item {\n",
       "  /* draw centered vertical line to link estimators */\n",
       "  background-image: linear-gradient(var(--sklearn-color-text-on-default-background), var(--sklearn-color-text-on-default-background));\n",
       "  background-size: 2px 100%;\n",
       "  background-repeat: no-repeat;\n",
       "  background-position: center center;\n",
       "}\n",
       "\n",
       "/* Parallel-specific style estimator block */\n",
       "\n",
       "#sk-container-id-1 div.sk-parallel-item::after {\n",
       "  content: \"\";\n",
       "  width: 100%;\n",
       "  border-bottom: 2px solid var(--sklearn-color-text-on-default-background);\n",
       "  flex-grow: 1;\n",
       "}\n",
       "\n",
       "#sk-container-id-1 div.sk-parallel {\n",
       "  display: flex;\n",
       "  align-items: stretch;\n",
       "  justify-content: center;\n",
       "  background-color: var(--sklearn-color-background);\n",
       "  position: relative;\n",
       "}\n",
       "\n",
       "#sk-container-id-1 div.sk-parallel-item {\n",
       "  display: flex;\n",
       "  flex-direction: column;\n",
       "}\n",
       "\n",
       "#sk-container-id-1 div.sk-parallel-item:first-child::after {\n",
       "  align-self: flex-end;\n",
       "  width: 50%;\n",
       "}\n",
       "\n",
       "#sk-container-id-1 div.sk-parallel-item:last-child::after {\n",
       "  align-self: flex-start;\n",
       "  width: 50%;\n",
       "}\n",
       "\n",
       "#sk-container-id-1 div.sk-parallel-item:only-child::after {\n",
       "  width: 0;\n",
       "}\n",
       "\n",
       "/* Serial-specific style estimator block */\n",
       "\n",
       "#sk-container-id-1 div.sk-serial {\n",
       "  display: flex;\n",
       "  flex-direction: column;\n",
       "  align-items: center;\n",
       "  background-color: var(--sklearn-color-background);\n",
       "  padding-right: 1em;\n",
       "  padding-left: 1em;\n",
       "}\n",
       "\n",
       "\n",
       "/* Toggleable style: style used for estimator/Pipeline/ColumnTransformer box that is\n",
       "clickable and can be expanded/collapsed.\n",
       "- Pipeline and ColumnTransformer use this feature and define the default style\n",
       "- Estimators will overwrite some part of the style using the `sk-estimator` class\n",
       "*/\n",
       "\n",
       "/* Pipeline and ColumnTransformer style (default) */\n",
       "\n",
       "#sk-container-id-1 div.sk-toggleable {\n",
       "  /* Default theme specific background. It is overwritten whether we have a\n",
       "  specific estimator or a Pipeline/ColumnTransformer */\n",
       "  background-color: var(--sklearn-color-background);\n",
       "}\n",
       "\n",
       "/* Toggleable label */\n",
       "#sk-container-id-1 label.sk-toggleable__label {\n",
       "  cursor: pointer;\n",
       "  display: block;\n",
       "  width: 100%;\n",
       "  margin-bottom: 0;\n",
       "  padding: 0.5em;\n",
       "  box-sizing: border-box;\n",
       "  text-align: center;\n",
       "}\n",
       "\n",
       "#sk-container-id-1 label.sk-toggleable__label-arrow:before {\n",
       "  /* Arrow on the left of the label */\n",
       "  content: \"▸\";\n",
       "  float: left;\n",
       "  margin-right: 0.25em;\n",
       "  color: var(--sklearn-color-icon);\n",
       "}\n",
       "\n",
       "#sk-container-id-1 label.sk-toggleable__label-arrow:hover:before {\n",
       "  color: var(--sklearn-color-text);\n",
       "}\n",
       "\n",
       "/* Toggleable content - dropdown */\n",
       "\n",
       "#sk-container-id-1 div.sk-toggleable__content {\n",
       "  max-height: 0;\n",
       "  max-width: 0;\n",
       "  overflow: hidden;\n",
       "  text-align: left;\n",
       "  /* unfitted */\n",
       "  background-color: var(--sklearn-color-unfitted-level-0);\n",
       "}\n",
       "\n",
       "#sk-container-id-1 div.sk-toggleable__content.fitted {\n",
       "  /* fitted */\n",
       "  background-color: var(--sklearn-color-fitted-level-0);\n",
       "}\n",
       "\n",
       "#sk-container-id-1 div.sk-toggleable__content pre {\n",
       "  margin: 0.2em;\n",
       "  border-radius: 0.25em;\n",
       "  color: var(--sklearn-color-text);\n",
       "  /* unfitted */\n",
       "  background-color: var(--sklearn-color-unfitted-level-0);\n",
       "}\n",
       "\n",
       "#sk-container-id-1 div.sk-toggleable__content.fitted pre {\n",
       "  /* unfitted */\n",
       "  background-color: var(--sklearn-color-fitted-level-0);\n",
       "}\n",
       "\n",
       "#sk-container-id-1 input.sk-toggleable__control:checked~div.sk-toggleable__content {\n",
       "  /* Expand drop-down */\n",
       "  max-height: 200px;\n",
       "  max-width: 100%;\n",
       "  overflow: auto;\n",
       "}\n",
       "\n",
       "#sk-container-id-1 input.sk-toggleable__control:checked~label.sk-toggleable__label-arrow:before {\n",
       "  content: \"▾\";\n",
       "}\n",
       "\n",
       "/* Pipeline/ColumnTransformer-specific style */\n",
       "\n",
       "#sk-container-id-1 div.sk-label input.sk-toggleable__control:checked~label.sk-toggleable__label {\n",
       "  color: var(--sklearn-color-text);\n",
       "  background-color: var(--sklearn-color-unfitted-level-2);\n",
       "}\n",
       "\n",
       "#sk-container-id-1 div.sk-label.fitted input.sk-toggleable__control:checked~label.sk-toggleable__label {\n",
       "  background-color: var(--sklearn-color-fitted-level-2);\n",
       "}\n",
       "\n",
       "/* Estimator-specific style */\n",
       "\n",
       "/* Colorize estimator box */\n",
       "#sk-container-id-1 div.sk-estimator input.sk-toggleable__control:checked~label.sk-toggleable__label {\n",
       "  /* unfitted */\n",
       "  background-color: var(--sklearn-color-unfitted-level-2);\n",
       "}\n",
       "\n",
       "#sk-container-id-1 div.sk-estimator.fitted input.sk-toggleable__control:checked~label.sk-toggleable__label {\n",
       "  /* fitted */\n",
       "  background-color: var(--sklearn-color-fitted-level-2);\n",
       "}\n",
       "\n",
       "#sk-container-id-1 div.sk-label label.sk-toggleable__label,\n",
       "#sk-container-id-1 div.sk-label label {\n",
       "  /* The background is the default theme color */\n",
       "  color: var(--sklearn-color-text-on-default-background);\n",
       "}\n",
       "\n",
       "/* On hover, darken the color of the background */\n",
       "#sk-container-id-1 div.sk-label:hover label.sk-toggleable__label {\n",
       "  color: var(--sklearn-color-text);\n",
       "  background-color: var(--sklearn-color-unfitted-level-2);\n",
       "}\n",
       "\n",
       "/* Label box, darken color on hover, fitted */\n",
       "#sk-container-id-1 div.sk-label.fitted:hover label.sk-toggleable__label.fitted {\n",
       "  color: var(--sklearn-color-text);\n",
       "  background-color: var(--sklearn-color-fitted-level-2);\n",
       "}\n",
       "\n",
       "/* Estimator label */\n",
       "\n",
       "#sk-container-id-1 div.sk-label label {\n",
       "  font-family: monospace;\n",
       "  font-weight: bold;\n",
       "  display: inline-block;\n",
       "  line-height: 1.2em;\n",
       "}\n",
       "\n",
       "#sk-container-id-1 div.sk-label-container {\n",
       "  text-align: center;\n",
       "}\n",
       "\n",
       "/* Estimator-specific */\n",
       "#sk-container-id-1 div.sk-estimator {\n",
       "  font-family: monospace;\n",
       "  border: 1px dotted var(--sklearn-color-border-box);\n",
       "  border-radius: 0.25em;\n",
       "  box-sizing: border-box;\n",
       "  margin-bottom: 0.5em;\n",
       "  /* unfitted */\n",
       "  background-color: var(--sklearn-color-unfitted-level-0);\n",
       "}\n",
       "\n",
       "#sk-container-id-1 div.sk-estimator.fitted {\n",
       "  /* fitted */\n",
       "  background-color: var(--sklearn-color-fitted-level-0);\n",
       "}\n",
       "\n",
       "/* on hover */\n",
       "#sk-container-id-1 div.sk-estimator:hover {\n",
       "  /* unfitted */\n",
       "  background-color: var(--sklearn-color-unfitted-level-2);\n",
       "}\n",
       "\n",
       "#sk-container-id-1 div.sk-estimator.fitted:hover {\n",
       "  /* fitted */\n",
       "  background-color: var(--sklearn-color-fitted-level-2);\n",
       "}\n",
       "\n",
       "/* Specification for estimator info (e.g. \"i\" and \"?\") */\n",
       "\n",
       "/* Common style for \"i\" and \"?\" */\n",
       "\n",
       ".sk-estimator-doc-link,\n",
       "a:link.sk-estimator-doc-link,\n",
       "a:visited.sk-estimator-doc-link {\n",
       "  float: right;\n",
       "  font-size: smaller;\n",
       "  line-height: 1em;\n",
       "  font-family: monospace;\n",
       "  background-color: var(--sklearn-color-background);\n",
       "  border-radius: 1em;\n",
       "  height: 1em;\n",
       "  width: 1em;\n",
       "  text-decoration: none !important;\n",
       "  margin-left: 1ex;\n",
       "  /* unfitted */\n",
       "  border: var(--sklearn-color-unfitted-level-1) 1pt solid;\n",
       "  color: var(--sklearn-color-unfitted-level-1);\n",
       "}\n",
       "\n",
       ".sk-estimator-doc-link.fitted,\n",
       "a:link.sk-estimator-doc-link.fitted,\n",
       "a:visited.sk-estimator-doc-link.fitted {\n",
       "  /* fitted */\n",
       "  border: var(--sklearn-color-fitted-level-1) 1pt solid;\n",
       "  color: var(--sklearn-color-fitted-level-1);\n",
       "}\n",
       "\n",
       "/* On hover */\n",
       "div.sk-estimator:hover .sk-estimator-doc-link:hover,\n",
       ".sk-estimator-doc-link:hover,\n",
       "div.sk-label-container:hover .sk-estimator-doc-link:hover,\n",
       ".sk-estimator-doc-link:hover {\n",
       "  /* unfitted */\n",
       "  background-color: var(--sklearn-color-unfitted-level-3);\n",
       "  color: var(--sklearn-color-background);\n",
       "  text-decoration: none;\n",
       "}\n",
       "\n",
       "div.sk-estimator.fitted:hover .sk-estimator-doc-link.fitted:hover,\n",
       ".sk-estimator-doc-link.fitted:hover,\n",
       "div.sk-label-container:hover .sk-estimator-doc-link.fitted:hover,\n",
       ".sk-estimator-doc-link.fitted:hover {\n",
       "  /* fitted */\n",
       "  background-color: var(--sklearn-color-fitted-level-3);\n",
       "  color: var(--sklearn-color-background);\n",
       "  text-decoration: none;\n",
       "}\n",
       "\n",
       "/* Span, style for the box shown on hovering the info icon */\n",
       ".sk-estimator-doc-link span {\n",
       "  display: none;\n",
       "  z-index: 9999;\n",
       "  position: relative;\n",
       "  font-weight: normal;\n",
       "  right: .2ex;\n",
       "  padding: .5ex;\n",
       "  margin: .5ex;\n",
       "  width: min-content;\n",
       "  min-width: 20ex;\n",
       "  max-width: 50ex;\n",
       "  color: var(--sklearn-color-text);\n",
       "  box-shadow: 2pt 2pt 4pt #999;\n",
       "  /* unfitted */\n",
       "  background: var(--sklearn-color-unfitted-level-0);\n",
       "  border: .5pt solid var(--sklearn-color-unfitted-level-3);\n",
       "}\n",
       "\n",
       ".sk-estimator-doc-link.fitted span {\n",
       "  /* fitted */\n",
       "  background: var(--sklearn-color-fitted-level-0);\n",
       "  border: var(--sklearn-color-fitted-level-3);\n",
       "}\n",
       "\n",
       ".sk-estimator-doc-link:hover span {\n",
       "  display: block;\n",
       "}\n",
       "\n",
       "/* \"?\"-specific style due to the `<a>` HTML tag */\n",
       "\n",
       "#sk-container-id-1 a.estimator_doc_link {\n",
       "  float: right;\n",
       "  font-size: 1rem;\n",
       "  line-height: 1em;\n",
       "  font-family: monospace;\n",
       "  background-color: var(--sklearn-color-background);\n",
       "  border-radius: 1rem;\n",
       "  height: 1rem;\n",
       "  width: 1rem;\n",
       "  text-decoration: none;\n",
       "  /* unfitted */\n",
       "  color: var(--sklearn-color-unfitted-level-1);\n",
       "  border: var(--sklearn-color-unfitted-level-1) 1pt solid;\n",
       "}\n",
       "\n",
       "#sk-container-id-1 a.estimator_doc_link.fitted {\n",
       "  /* fitted */\n",
       "  border: var(--sklearn-color-fitted-level-1) 1pt solid;\n",
       "  color: var(--sklearn-color-fitted-level-1);\n",
       "}\n",
       "\n",
       "/* On hover */\n",
       "#sk-container-id-1 a.estimator_doc_link:hover {\n",
       "  /* unfitted */\n",
       "  background-color: var(--sklearn-color-unfitted-level-3);\n",
       "  color: var(--sklearn-color-background);\n",
       "  text-decoration: none;\n",
       "}\n",
       "\n",
       "#sk-container-id-1 a.estimator_doc_link.fitted:hover {\n",
       "  /* fitted */\n",
       "  background-color: var(--sklearn-color-fitted-level-3);\n",
       "}\n",
       "</style><div id=\"sk-container-id-1\" class=\"sk-top-container\"><div class=\"sk-text-repr-fallback\"><pre>FunctionTransformer(feature_names_out=&lt;function &lt;lambda&gt; at 0x7f1d86e37130&gt;,\n",
       "                    func=&lt;function &lt;lambda&gt; at 0x7f1d86e371c0&gt;)</pre><b>In a Jupyter environment, please rerun this cell to show the HTML representation or trust the notebook. <br />On GitHub, the HTML representation is unable to render, please try loading this page with nbviewer.org.</b></div><div class=\"sk-container\" hidden><div class=\"sk-item\"><div class=\"sk-estimator fitted sk-toggleable\"><input class=\"sk-toggleable__control sk-hidden--visually\" id=\"sk-estimator-id-1\" type=\"checkbox\" checked><label for=\"sk-estimator-id-1\" class=\"sk-toggleable__label fitted sk-toggleable__label-arrow fitted\">&nbsp;&nbsp;FunctionTransformer<a class=\"sk-estimator-doc-link fitted\" rel=\"noreferrer\" target=\"_blank\" href=\"https://scikit-learn.org/1.4/modules/generated/sklearn.preprocessing.FunctionTransformer.html\">?<span>Documentation for FunctionTransformer</span></a><span class=\"sk-estimator-doc-link fitted\">i<span>Fitted</span></span></label><div class=\"sk-toggleable__content fitted\"><pre>FunctionTransformer(feature_names_out=&lt;function &lt;lambda&gt; at 0x7f1d86e37130&gt;,\n",
       "                    func=&lt;function &lt;lambda&gt; at 0x7f1d86e371c0&gt;)</pre></div> </div></div></div></div>"
      ],
      "text/plain": [
       "FunctionTransformer(feature_names_out=<function <lambda> at 0x7f1d86e37130>,\n",
       "                    func=<function <lambda> at 0x7f1d86e371c0>)"
      ]
     },
     "metadata": {},
     "output_type": "display_data"
    },
    {
     "name": "stdout",
     "output_type": "stream",
     "text": [
      "Check if first input of the feature_names_outreally initial transformer -  True\n"
     ]
    },
    {
     "data": {
      "text/html": [
       "<p style='font-size:17px'>Second argument - input feature names</p>"
      ],
      "text/plain": [
       "<IPython.core.display.HTML object>"
      ]
     },
     "metadata": {},
     "output_type": "display_data"
    },
    {
     "data": {
      "text/plain": [
       "array(['feature0', 'feature1', 'feature2'], dtype=object)"
      ]
     },
     "execution_count": 4,
     "metadata": {},
     "output_type": "execute_result"
    }
   ],
   "source": [
    "my_transformer = FunctionTransformer(\n",
    "    lambda X: np.array(X),\n",
    "    # here is just function that returns\n",
    "    # it's inputs to check what they actualy\n",
    "    # are\n",
    "    feature_names_out=(\n",
    "        lambda transformer, input_features: \\\n",
    "        (transformer, input_features)\n",
    "    )\n",
    ")\n",
    "my_transformer.fit_transform(input_frame)\n",
    "features_output = my_transformer.get_feature_names_out()\n",
    "\n",
    "display(HTML(header_template.format(\"First argument - transformer itself\")))\n",
    "display(features_output[0])\n",
    "print(\n",
    "    \"Check if first input of the feature_names_out\"\n",
    "    \"really initial transformer - \",\n",
    "    features_output[0] is my_transformer\n",
    ")\n",
    "display(HTML(header_template.format(\"Second argument - input feature names\")))\n",
    "features_output[1]"
   ]
  },
  {
   "cell_type": "markdown",
   "id": "a3ae61f8-3502-47e8-96f0-8019e41e970b",
   "metadata": {},
   "source": [
    "#### Real world example"
   ]
  },
  {
   "cell_type": "markdown",
   "id": "ef3ecdc7-6130-435b-a67d-047ebed75265",
   "metadata": {},
   "source": [
    "Here is an example of how the tools we are considering might be used in the real world.\n",
    "\n",
    "Suppose you need to build a transformer that returns squares and cubes of each feature of the input array. And the result features should have names `<inputname> square` for squares and `<inputname> cube` for cubes.\n",
    "\n",
    "This can be achieved with the following code:"
   ]
  },
  {
   "cell_type": "code",
   "execution_count": 5,
   "id": "5e6732ff-de63-43a3-8fbc-d83b906ac458",
   "metadata": {},
   "outputs": [
    {
     "data": {
      "text/html": [
       "<p style='font-size:17px'>Input dataframe</p>"
      ],
      "text/plain": [
       "<IPython.core.display.HTML object>"
      ]
     },
     "metadata": {},
     "output_type": "display_data"
    },
    {
     "data": {
      "text/html": [
       "<div>\n",
       "<style scoped>\n",
       "    .dataframe tbody tr th:only-of-type {\n",
       "        vertical-align: middle;\n",
       "    }\n",
       "\n",
       "    .dataframe tbody tr th {\n",
       "        vertical-align: top;\n",
       "    }\n",
       "\n",
       "    .dataframe thead th {\n",
       "        text-align: right;\n",
       "    }\n",
       "</style>\n",
       "<table border=\"1\" class=\"dataframe\">\n",
       "  <thead>\n",
       "    <tr style=\"text-align: right;\">\n",
       "      <th></th>\n",
       "      <th>feature0</th>\n",
       "      <th>feature1</th>\n",
       "      <th>feature2</th>\n",
       "    </tr>\n",
       "  </thead>\n",
       "  <tbody>\n",
       "    <tr>\n",
       "      <th>0</th>\n",
       "      <td>-5.263240</td>\n",
       "      <td>14.943478</td>\n",
       "      <td>-0.875921</td>\n",
       "    </tr>\n",
       "    <tr>\n",
       "      <th>1</th>\n",
       "      <td>-1.549951</td>\n",
       "      <td>-10.348717</td>\n",
       "      <td>9.488640</td>\n",
       "    </tr>\n",
       "    <tr>\n",
       "      <th>2</th>\n",
       "      <td>-0.907326</td>\n",
       "      <td>-6.827048</td>\n",
       "      <td>12.779967</td>\n",
       "    </tr>\n",
       "    <tr>\n",
       "      <th>3</th>\n",
       "      <td>-6.299696</td>\n",
       "      <td>-6.115877</td>\n",
       "      <td>3.503167</td>\n",
       "    </tr>\n",
       "    <tr>\n",
       "      <th>4</th>\n",
       "      <td>-10.672533</td>\n",
       "      <td>-16.607050</td>\n",
       "      <td>0.652093</td>\n",
       "    </tr>\n",
       "  </tbody>\n",
       "</table>\n",
       "</div>"
      ],
      "text/plain": [
       "    feature0   feature1   feature2\n",
       "0  -5.263240  14.943478  -0.875921\n",
       "1  -1.549951 -10.348717   9.488640\n",
       "2  -0.907326  -6.827048  12.779967\n",
       "3  -6.299696  -6.115877   3.503167\n",
       "4 -10.672533 -16.607050   0.652093"
      ]
     },
     "metadata": {},
     "output_type": "display_data"
    },
    {
     "data": {
      "text/html": [
       "<p style='font-size:17px'>transform output</p>"
      ],
      "text/plain": [
       "<IPython.core.display.HTML object>"
      ]
     },
     "metadata": {},
     "output_type": "display_data"
    },
    {
     "data": {
      "text/plain": [
       "array([[ 2.77016967e+01, -1.45800682e+02,  2.23307526e+02,\n",
       "         3.33699103e+03,  7.67237912e-01, -6.72039936e-01],\n",
       "       [ 2.40234719e+00, -3.72351972e+00,  1.07095953e+02,\n",
       "        -1.10830576e+03,  9.00342844e+01,  8.54302891e+02],\n",
       "       [ 8.23239835e-01, -7.46946619e-01,  4.66085789e+01,\n",
       "        -3.18198986e+02,  1.63327556e+02,  2.08732077e+03],\n",
       "       [ 3.96861679e+01, -2.50010787e+02,  3.74039550e+01,\n",
       "        -2.28757999e+02,  1.22721794e+01,  4.29914946e+01],\n",
       "       [ 1.13902970e+02, -1.21563325e+03,  2.75794094e+02,\n",
       "        -4.58012619e+03,  4.25224871e-01,  2.77286029e-01]])"
      ]
     },
     "metadata": {},
     "output_type": "display_data"
    },
    {
     "data": {
      "text/html": [
       "<p style='font-size:17px'>.get_feature_names_out</p>"
      ],
      "text/plain": [
       "<IPython.core.display.HTML object>"
      ]
     },
     "metadata": {},
     "output_type": "display_data"
    },
    {
     "data": {
      "text/plain": [
       "array(['feature0 square', 'feature0 cubic', 'feature1 square',\n",
       "       'feature1 cubic', 'feature2 square', 'feature2 cubic'],\n",
       "      dtype=object)"
      ]
     },
     "metadata": {},
     "output_type": "display_data"
    }
   ],
   "source": [
    "my_transformer = FunctionTransformer(\n",
    "    # iterates over all input features\n",
    "    # and returns square and cube of them\n",
    "    lambda X : np.concatenate(\n",
    "        [\n",
    "            np.array(X[[col]]**power)\n",
    "            for col in X\n",
    "            for power in range(2,4)\n",
    "        ], \n",
    "        axis = 1\n",
    "    ),\n",
    "    # iterates over input features anmes\n",
    "    # and for each creates pair of square\n",
    "    # and cube name\n",
    "    feature_names_out = (\n",
    "        lambda transformer, input_features: [\n",
    "            f\"{feature} {power_str}\"\n",
    "            for feature in input_features\n",
    "            for power_str in [\"square\", \"cubic\"]\n",
    "        ]\n",
    "    )\n",
    ")\n",
    "\n",
    "display(HTML(header_template.format(\"Input dataframe\")))\n",
    "display(input_frame)\n",
    "\n",
    "display(HTML(header_template.format(\"transform output\")))\n",
    "display(my_transformer.fit_transform(input_frame))\n",
    "\n",
    "display(HTML(header_template.format(\".get_feature_names_out\")))\n",
    "display(my_transformer.get_feature_names_out())"
   ]
  },
  {
   "cell_type": "markdown",
   "id": "2d9f8c3c-a0d8-457d-992c-468c6d53d643",
   "metadata": {},
   "source": [
    "#### Pandas output"
   ]
  },
  {
   "cell_type": "markdown",
   "id": "e391a54d-9e0c-4b34-9551-06c9de4279b6",
   "metadata": {},
   "source": [
    "Ideally, if the function specified in FunctionTransfomer returns pandas.DataFrame, then the columns that `get_feature_names_out` returns should be automatically applied to the result. But if you try to adapt the previous example, the result is an error. Just like in the following cell."
   ]
  },
  {
   "cell_type": "code",
   "execution_count": 14,
   "id": "0e4e4758-d30a-4d4b-863a-cd9c5b34842f",
   "metadata": {},
   "outputs": [
    {
     "name": "stdout",
     "output_type": "stream",
     "text": [
      "The output generated by `func` have different column names than the ones provided by `get_feature_names_out`. Got output with columns names: ['feature0', 'feature0', 'feature1', 'feature1', 'feature2', 'feature2'] and `get_feature_names_out` returned: ['feature0 square', 'feature0 cubic', 'feature1 square', 'feature1 cubic', 'feature2 square', 'feature2 cubic']. The column names can be overridden by setting `set_output(transform='pandas')` or `set_output(transform='polars')` such that the column names are set to the names provided by `get_feature_names_out`.\n"
     ]
    }
   ],
   "source": [
    "my_transformer = FunctionTransformer(\n",
    "    # iterates over all input features\n",
    "    # and returns square and cube of them\n",
    "    lambda X : pd.concat(\n",
    "        [\n",
    "            X[col]**power\n",
    "            for col in X\n",
    "            for power in range(2,4)\n",
    "        ],\n",
    "        axis=1\n",
    "    ),\n",
    "    # iterates over input features anmes\n",
    "    # and for each creates pair of square\n",
    "    # and cube name\n",
    "    feature_names_out = (\n",
    "        lambda transformer, input_features: [\n",
    "            f\"{feature} {power_str}\"\n",
    "            for feature in input_features\n",
    "            for power_str in [\"square\", \"cubic\"]\n",
    "        ]\n",
    "    )\n",
    ")\n",
    "my_transformer.set_output(transform='pandas')\n",
    "\n",
    "try:\n",
    "    my_transformer.fit_transform(input_frame)\n",
    "except Exception as e:\n",
    "    print(e)"
   ]
  },
  {
   "cell_type": "markdown",
   "id": "8358c385-9a24-4873-9d9e-a467aaa9e6d4",
   "metadata": {},
   "source": [
    "I think it's a `sklearn` bug, so I've created a corresponding [issue](https://github.com/scikit-learn/scikit-learn/issues/28780). Check it out, there might be a solution already."
   ]
  }
 ],
 "metadata": {
  "kernelspec": {
   "display_name": "Python 3 (ipykernel)",
   "language": "python",
   "name": "python3"
  },
  "language_info": {
   "codemirror_mode": {
    "name": "ipython",
    "version": 3
   },
   "file_extension": ".py",
   "mimetype": "text/x-python",
   "name": "python",
   "nbconvert_exporter": "python",
   "pygments_lexer": "ipython3",
   "version": "3.10.12"
  }
 },
 "nbformat": 4,
 "nbformat_minor": 5
}
