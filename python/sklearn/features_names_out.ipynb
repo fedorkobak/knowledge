{
 "cells": [
  {
   "cell_type": "markdown",
   "id": "6e3244b8-17c4-47be-a081-73042890bf3b",
   "metadata": {},
   "source": [
    "# Features names out"
   ]
  },
  {
   "cell_type": "markdown",
   "id": "0431a9e2-05ca-4b56-b9fb-5be244cb9a73",
   "metadata": {},
   "source": [
    "Having the ability to identify columns after applying transformations using different sklearn transformers is highly crucial. By default, sklearn transformers generate `numpy.array` outputs, lacking the column structure found in `pandas.DataFrame`.\n",
    "\n",
    "Fortunately, a solution to this problem has been introduced in `sklearn==1.1`. This solution involves the utilization of the `get_feature_names_out` method, which returns the feature names as values. Additionally, the `feature_names_out` parameter has been incorporated to implement specific behaviors in certain cases."
   ]
  },
  {
   "cell_type": "code",
   "execution_count": 2,
   "id": "7db2c8f6-a191-4ac0-81f2-9af7888c0495",
   "metadata": {},
   "outputs": [],
   "source": [
    "import numpy as np\n",
    "import pandas as pd\n",
    "\n",
    "from IPython.display import HTML\n",
    "header_template = \"<p style='font-size:17px'>{}</p>\"\n",
    "\n",
    "from sklearn.preprocessing import (\n",
    "    FunctionTransformer,\n",
    "    StandardScaler\n",
    ")"
   ]
  },
  {
   "cell_type": "markdown",
   "id": "f926d7bd-5cdb-48b1-9d68-e38a61f52117",
   "metadata": {},
   "source": [
    "## Defined names"
   ]
  },
  {
   "cell_type": "markdown",
   "id": "a516953c-89e7-419d-9a8c-c8fc5f1a0522",
   "metadata": {},
   "source": [
    "There are converters that specify columns output names by themselves. In them you can simply call `get_features_names_out` in the trained object and the input names of the features will be returned. Some examples of such transformers:]\n",
    "\n",
    "- `StandartScaler`;\n",
    "- `OneHotEncoder`;\n",
    "- `ColumnTransformer`;\n",
    "- `PolynomialFeatures`;\n",
    "- `CountVectorizer`;\n",
    "- `TfidfVectorizer`."
   ]
  },
  {
   "cell_type": "markdown",
   "id": "dd764fb2-353c-4a61-a58a-9254c5895604",
   "metadata": {},
   "source": [
    "So in the following example cell is for `StandardScaler` - it just keeps names of the input array:"
   ]
  },
  {
   "cell_type": "code",
   "execution_count": 11,
   "id": "bc1de995-a051-430b-a756-f877153e7e9f",
   "metadata": {},
   "outputs": [
    {
     "data": {
      "text/html": [
       "<p style='font-size:17px'>Input dataframe</p>"
      ],
      "text/plain": [
       "<IPython.core.display.HTML object>"
      ]
     },
     "metadata": {},
     "output_type": "display_data"
    },
    {
     "data": {
      "text/html": [
       "<div>\n",
       "<style scoped>\n",
       "    .dataframe tbody tr th:only-of-type {\n",
       "        vertical-align: middle;\n",
       "    }\n",
       "\n",
       "    .dataframe tbody tr th {\n",
       "        vertical-align: top;\n",
       "    }\n",
       "\n",
       "    .dataframe thead th {\n",
       "        text-align: right;\n",
       "    }\n",
       "</style>\n",
       "<table border=\"1\" class=\"dataframe\">\n",
       "  <thead>\n",
       "    <tr style=\"text-align: right;\">\n",
       "      <th></th>\n",
       "      <th>feature0</th>\n",
       "      <th>feature1</th>\n",
       "      <th>feature2</th>\n",
       "    </tr>\n",
       "  </thead>\n",
       "  <tbody>\n",
       "    <tr>\n",
       "      <th>0</th>\n",
       "      <td>12.894576</td>\n",
       "      <td>-7.211420</td>\n",
       "      <td>22.376874</td>\n",
       "    </tr>\n",
       "    <tr>\n",
       "      <th>1</th>\n",
       "      <td>-4.384511</td>\n",
       "      <td>-3.011719</td>\n",
       "      <td>11.893116</td>\n",
       "    </tr>\n",
       "    <tr>\n",
       "      <th>2</th>\n",
       "      <td>2.246345</td>\n",
       "      <td>-12.251342</td>\n",
       "      <td>-23.880928</td>\n",
       "    </tr>\n",
       "    <tr>\n",
       "      <th>3</th>\n",
       "      <td>4.267464</td>\n",
       "      <td>-14.256397</td>\n",
       "      <td>11.316802</td>\n",
       "    </tr>\n",
       "    <tr>\n",
       "      <th>4</th>\n",
       "      <td>0.489308</td>\n",
       "      <td>-0.981538</td>\n",
       "      <td>25.313440</td>\n",
       "    </tr>\n",
       "    <tr>\n",
       "      <th>5</th>\n",
       "      <td>0.057029</td>\n",
       "      <td>3.164312</td>\n",
       "      <td>3.665438</td>\n",
       "    </tr>\n",
       "    <tr>\n",
       "      <th>6</th>\n",
       "      <td>-8.548567</td>\n",
       "      <td>-7.245126</td>\n",
       "      <td>3.602710</td>\n",
       "    </tr>\n",
       "    <tr>\n",
       "      <th>7</th>\n",
       "      <td>6.028535</td>\n",
       "      <td>-4.029933</td>\n",
       "      <td>-2.911737</td>\n",
       "    </tr>\n",
       "    <tr>\n",
       "      <th>8</th>\n",
       "      <td>-5.958672</td>\n",
       "      <td>-6.129775</td>\n",
       "      <td>14.865591</td>\n",
       "    </tr>\n",
       "    <tr>\n",
       "      <th>9</th>\n",
       "      <td>-0.430953</td>\n",
       "      <td>-8.197262</td>\n",
       "      <td>-14.039734</td>\n",
       "    </tr>\n",
       "  </tbody>\n",
       "</table>\n",
       "</div>"
      ],
      "text/plain": [
       "    feature0   feature1   feature2\n",
       "0  12.894576  -7.211420  22.376874\n",
       "1  -4.384511  -3.011719  11.893116\n",
       "2   2.246345 -12.251342 -23.880928\n",
       "3   4.267464 -14.256397  11.316802\n",
       "4   0.489308  -0.981538  25.313440\n",
       "5   0.057029   3.164312   3.665438\n",
       "6  -8.548567  -7.245126   3.602710\n",
       "7   6.028535  -4.029933  -2.911737\n",
       "8  -5.958672  -6.129775  14.865591\n",
       "9  -0.430953  -8.197262 -14.039734"
      ]
     },
     "metadata": {},
     "output_type": "display_data"
    },
    {
     "data": {
      "text/html": [
       "<p style='font-size:17px'>transform result</p>"
      ],
      "text/plain": [
       "<IPython.core.display.HTML object>"
      ]
     },
     "metadata": {},
     "output_type": "display_data"
    },
    {
     "data": {
      "text/plain": [
       "array([[ 2.06797108, -0.24570913,  1.16687998],\n",
       "       [-0.85410375,  0.61679908,  0.45384801],\n",
       "       [ 0.26724354, -1.28077665, -1.97925246],\n",
       "       [ 0.60903596, -1.69256235,  0.41465121],\n",
       "       [-0.02988991,  1.03374489,  1.36660467],\n",
       "       [-0.10299274,  1.8851937 , -0.10574115],\n",
       "       [-1.55828924, -0.25263156, -0.11000745],\n",
       "       [ 0.90685157,  0.40768479, -0.55307464],\n",
       "       [-1.12031085, -0.02356759,  0.65601501],\n",
       "       [-0.18551566, -0.44817518, -1.30992319]])"
      ]
     },
     "metadata": {},
     "output_type": "display_data"
    },
    {
     "data": {
      "text/html": [
       "<p style='font-size:17px'>.get_features_names_out result</p>"
      ],
      "text/plain": [
       "<IPython.core.display.HTML object>"
      ]
     },
     "metadata": {},
     "output_type": "display_data"
    },
    {
     "data": {
      "text/plain": [
       "array(['feature0', 'feature1', 'feature2'], dtype=object)"
      ]
     },
     "metadata": {},
     "output_type": "display_data"
    }
   ],
   "source": [
    "input_frame = pd.DataFrame({\n",
    "    f\"feature{n}\" : np.random.normal(0, 10, 10)\n",
    "    for n in range(3)\n",
    "})\n",
    "display(HTML(header_template.format(\"Input dataframe\")))\n",
    "display(input_frame)\n",
    "\n",
    "my_scaler = StandardScaler()\n",
    "display(HTML(header_template.format(\"transform result\")))\n",
    "display(my_scaler.fit_transform(input_frame))\n",
    "\n",
    "display(HTML(header_template.format(\".get_features_names_out result\")))\n",
    "display(my_scaler.get_feature_names_out())"
   ]
  },
  {
   "cell_type": "markdown",
   "id": "89cae95f-fa60-47fc-bd7b-cfd4d94e910e",
   "metadata": {},
   "source": [
    "## Specify"
   ]
  },
  {
   "cell_type": "code",
   "execution_count": 2,
   "id": "5e6732ff-de63-43a3-8fbc-d83b906ac458",
   "metadata": {},
   "outputs": [],
   "source": [
    "my_transformer = FunctionTransformer(\n",
    "    lambda X : np.concatenate(\n",
    "        [\n",
    "            np.array(X**2),\n",
    "            np.array(X**3)\n",
    "        ], \n",
    "        axis = 1\n",
    "    ),\n",
    "    feature_names_out = (\n",
    "        lambda transformer, input_features: [\n",
    "            f\"{input_features[0]} square\", \n",
    "            f\"{input_features[0]} cubic\"\n",
    "        ]\n",
    "    )\n",
    ")"
   ]
  },
  {
   "cell_type": "code",
   "execution_count": 10,
   "id": "5eb7681d-ef26-47b1-9387-630160fe43fe",
   "metadata": {},
   "outputs": [
    {
     "data": {
      "text/html": [
       "<p style='font-size:17px'>Original output</p>"
      ],
      "text/plain": [
       "<IPython.core.display.HTML object>"
      ]
     },
     "metadata": {},
     "output_type": "display_data"
    },
    {
     "data": {
      "text/plain": [
       "array([[ 1.06098100e+02,  1.09285215e+03],\n",
       "       [ 4.73848169e+01, -3.26181113e+02],\n",
       "       [ 1.46308258e+01, -5.59632930e+01],\n",
       "       [ 6.14459336e+00,  1.52313964e+01],\n",
       "       [ 2.16762967e+00, -3.19137347e+00],\n",
       "       [ 3.88564680e+02, -7.65940408e+03],\n",
       "       [ 2.05485138e+02,  2.94557866e+03],\n",
       "       [ 2.66129126e+02,  4.34148807e+03],\n",
       "       [ 1.46074375e+02, -1.76547290e+03],\n",
       "       [ 1.00912952e+02,  1.01372548e+03]])"
      ]
     },
     "metadata": {},
     "output_type": "display_data"
    },
    {
     "data": {
      "text/html": [
       "<p style='font-size:17px'>.get_feature_names_out</p>"
      ],
      "text/plain": [
       "<IPython.core.display.HTML object>"
      ]
     },
     "metadata": {},
     "output_type": "display_data"
    },
    {
     "data": {
      "text/plain": [
       "array(['Value square', 'Value cubic'], dtype=object)"
      ]
     },
     "metadata": {},
     "output_type": "display_data"
    }
   ],
   "source": [
    "X = pd.Series(\n",
    "    np.random.normal(0, 10, 10), \n",
    "    name=\"Value\"\n",
    ").to_frame()\n",
    "\n",
    "display(HTML(header_template.format(\"Original output\")))\n",
    "display(my_transformer.fit_transform(X))\n",
    "\n",
    "display(HTML(header_template.format(\".get_feature_names_out\")))\n",
    "display(my_transformer.get_feature_names_out())"
   ]
  }
 ],
 "metadata": {
  "kernelspec": {
   "display_name": "Python 3 (ipykernel)",
   "language": "python",
   "name": "python3"
  },
  "language_info": {
   "codemirror_mode": {
    "name": "ipython",
    "version": 3
   },
   "file_extension": ".py",
   "mimetype": "text/x-python",
   "name": "python",
   "nbconvert_exporter": "python",
   "pygments_lexer": "ipython3",
   "version": "3.10.12"
  }
 },
 "nbformat": 4,
 "nbformat_minor": 5
}
