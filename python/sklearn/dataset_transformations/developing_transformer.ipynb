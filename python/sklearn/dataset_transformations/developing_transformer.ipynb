{
 "cells": [
  {
   "cell_type": "markdown",
   "id": "b4328b87-43c2-4bf1-af5e-0a902138f0e5",
   "metadata": {},
   "source": [
    "# Developing transformer\n",
    "\n",
    "This page focuses on building your own `sklearn` transformers.\n",
    "\n",
    "Check [developing scikit-learn estimators](https://scikit-learn.org/stable/developers/develop.html) guide."
   ]
  },
  {
   "cell_type": "markdown",
   "id": "12abed5e-a874-444c-8f9e-b2e12bf14c7f",
   "metadata": {},
   "source": [
    "The following cell makes some inputs and generates a data frame that will be used for the examples on this page."
   ]
  },
  {
   "cell_type": "code",
   "execution_count": 1,
   "id": "28c0c344-39db-4d81-a506-3bda64afb10c",
   "metadata": {},
   "outputs": [
    {
     "data": {
      "text/html": [
       "<div>\n",
       "<style scoped>\n",
       "    .dataframe tbody tr th:only-of-type {\n",
       "        vertical-align: middle;\n",
       "    }\n",
       "\n",
       "    .dataframe tbody tr th {\n",
       "        vertical-align: top;\n",
       "    }\n",
       "\n",
       "    .dataframe thead th {\n",
       "        text-align: right;\n",
       "    }\n",
       "</style>\n",
       "<table border=\"1\" class=\"dataframe\">\n",
       "  <thead>\n",
       "    <tr style=\"text-align: right;\">\n",
       "      <th></th>\n",
       "      <th>a x</th>\n",
       "      <th>a y</th>\n",
       "      <th>b x</th>\n",
       "      <th>b y</th>\n",
       "    </tr>\n",
       "  </thead>\n",
       "  <tbody>\n",
       "    <tr>\n",
       "      <th>0</th>\n",
       "      <td>1.331587</td>\n",
       "      <td>0.133137</td>\n",
       "      <td>0.462386</td>\n",
       "      <td>0.570693</td>\n",
       "    </tr>\n",
       "    <tr>\n",
       "      <th>1</th>\n",
       "      <td>0.715279</td>\n",
       "      <td>1.202744</td>\n",
       "      <td>-1.219856</td>\n",
       "      <td>-0.512875</td>\n",
       "    </tr>\n",
       "    <tr>\n",
       "      <th>2</th>\n",
       "      <td>-1.545400</td>\n",
       "      <td>-1.024753</td>\n",
       "      <td>0.192573</td>\n",
       "      <td>0.275782</td>\n",
       "    </tr>\n",
       "    <tr>\n",
       "      <th>3</th>\n",
       "      <td>-0.008384</td>\n",
       "      <td>0.160399</td>\n",
       "      <td>0.435450</td>\n",
       "      <td>-0.389282</td>\n",
       "    </tr>\n",
       "    <tr>\n",
       "      <th>4</th>\n",
       "      <td>0.621336</td>\n",
       "      <td>-1.130475</td>\n",
       "      <td>-1.634944</td>\n",
       "      <td>0.648529</td>\n",
       "    </tr>\n",
       "  </tbody>\n",
       "</table>\n",
       "</div>"
      ],
      "text/plain": [
       "        a x       a y       b x       b y\n",
       "0  1.331587  0.133137  0.462386  0.570693\n",
       "1  0.715279  1.202744 -1.219856 -0.512875\n",
       "2 -1.545400 -1.024753  0.192573  0.275782\n",
       "3 -0.008384  0.160399  0.435450 -0.389282\n",
       "4  0.621336 -1.130475 -1.634944  0.648529"
      ]
     },
     "metadata": {},
     "output_type": "display_data"
    }
   ],
   "source": [
    "import numpy as np\n",
    "import pandas as pd\n",
    "\n",
    "from sklearn.decomposition import PCA\n",
    "from sklearn.pipeline import Pipeline, FeatureUnion\n",
    "from sklearn.utils.estimator_checks import check_estimator\n",
    "\n",
    "np.random.seed(10)\n",
    "char_1 = [\"a\", \"b\"]\n",
    "char_2 = [\"x\", \"y\"]\n",
    "sample_size=200\n",
    "example_data = pd.DataFrame({\n",
    "    f\"{c1} {c2}\":np.random.normal(size=sample_size) \n",
    "    for c1 in char_1 for c2 in char_2\n",
    "})\n",
    "display(example_data.head())"
   ]
  },
  {
   "cell_type": "markdown",
   "id": "d7d45b97-5053-47b4-97af-ec09a87ee85b",
   "metadata": {},
   "source": [
    "## Minimum setup\n",
    "\n",
    "For minimum setup you need:\n",
    "\n",
    "For minimum setup you need\n",
    "\n",
    "- Inherit class from `BaseEstimator, TransformerMixin`;\n",
    "- Implement `__init__` which defines the hyperparameters of the transformer;\n",
    "- Implement `fit` and `transform` methods."
   ]
  },
  {
   "cell_type": "markdown",
   "id": "05f86ce8-31f8-4e15-9001-e5ca53e0590b",
   "metadata": {},
   "source": [
    "Which subtracts given columns of input data from each other."
   ]
  },
  {
   "cell_type": "code",
   "execution_count": 2,
   "id": "09a9e1aa-f87a-4267-8539-36390a7ea3b8",
   "metadata": {},
   "outputs": [],
   "source": [
    "from sklearn.base import BaseEstimator, TransformerMixin\n",
    "\n",
    "class ColumnsSubtraction(BaseEstimator, TransformerMixin):\n",
    "    \n",
    "    def __init__(self, A_columns : list, B_columns : list):\n",
    "        if len(A_columns) != len(B_columns):\n",
    "            raise ValueError(\n",
    "                \"The number of columns in the decreasing \"\n",
    "                \"and subtracting columns do not match.\"\n",
    "            )\n",
    "        \n",
    "        self.A_columns = A_columns\n",
    "        self.B_columns = B_columns\n",
    "\n",
    "    def fit(self, X, y=None):\n",
    "        return self\n",
    "    \n",
    "    def transform(self, X):\n",
    "        return (\n",
    "            X[self.A_columns].to_numpy() - \n",
    "            X[self.B_columns].to_numpy()\n",
    "        )"
   ]
  },
  {
   "cell_type": "markdown",
   "id": "6d4ed35b-5249-460b-a4fe-61cd2d60845f",
   "metadata": {},
   "source": [
    "The following cell shows that instances of such a transformer can transform data."
   ]
  },
  {
   "cell_type": "code",
   "execution_count": 3,
   "id": "5724ee66-11f3-493b-bfa1-f4071c2e4118",
   "metadata": {},
   "outputs": [
    {
     "data": {
      "text/plain": [
       "array([[ 0.86920095, -0.43755596],\n",
       "       [ 1.93513451,  1.71561907],\n",
       "       [-1.73797313, -1.30053539],\n",
       "       [-0.44383424,  0.54968071],\n",
       "       [ 2.25628011, -1.7790047 ]])"
      ]
     },
     "metadata": {},
     "output_type": "display_data"
    },
    {
     "data": {
      "text/plain": [
       "array([[ 1.19844901, -0.1083079 ],\n",
       "       [-0.4874649 , -0.70698034],\n",
       "       [-0.52064733, -0.08320958],\n",
       "       [-0.16878301,  0.82473193],\n",
       "       [ 1.75181126, -2.28347355]])"
      ]
     },
     "metadata": {},
     "output_type": "display_data"
    }
   ],
   "source": [
    "display(\n",
    "    ColumnsSubtraction([\"a x\", \"a y\"], [\"b x\", \"b y\"])\n",
    "    .transform(example_data)[:5, :]\n",
    ")\n",
    "display(\n",
    "    ColumnsSubtraction([\"a x\", \"b x\"], [\"a y\", \"b y\"])\n",
    "    .transform(example_data)[:5, :]\n",
    ")"
   ]
  },
  {
   "cell_type": "markdown",
   "id": "cc28e374-946d-4586-a128-3e7b96434f7f",
   "metadata": {},
   "source": [
    "As well you can use them in the `sklearn.pipeline.FeatureUnion`:"
   ]
  },
  {
   "cell_type": "code",
   "execution_count": 4,
   "id": "69228428-95a8-423f-a3f2-1d4a235396de",
   "metadata": {},
   "outputs": [
    {
     "data": {
      "text/plain": [
       "array([[ 0.86920095, -0.43755596,  1.19844901, -0.1083079 ],\n",
       "       [ 1.93513451,  1.71561907, -0.4874649 , -0.70698034],\n",
       "       [-1.73797313, -1.30053539, -0.52064733, -0.08320958],\n",
       "       [-0.44383424,  0.54968071, -0.16878301,  0.82473193],\n",
       "       [ 2.25628011, -1.7790047 ,  1.75181126, -2.28347355]])"
      ]
     },
     "execution_count": 4,
     "metadata": {},
     "output_type": "execute_result"
    }
   ],
   "source": [
    "test_union = FeatureUnion([\n",
    "    (\"a-b\", ColumnsSubtraction([\"a x\", \"a y\"], [\"b x\", \"b y\"])),\n",
    "    (\"x-y\", ColumnsSubtraction([\"a x\", \"b x\"], [\"a y\", \"b y\"]))\n",
    "])\n",
    "test_union.fit_transform(example_data)[:5,:]"
   ]
  },
  {
   "cell_type": "markdown",
   "id": "c3309c0d-dab0-4e83-817d-d7a7b7d90b8b",
   "metadata": {},
   "source": [
    "And using the `sklearn.pipeline.FeatureUnion` from the previous cell as a step for the `sklearn.pipeline.Pipeline` also works well:"
   ]
  },
  {
   "cell_type": "code",
   "execution_count": 5,
   "id": "474db2f0-bdb2-48e4-b4f0-ed3d99737ca2",
   "metadata": {},
   "outputs": [
    {
     "data": {
      "text/plain": [
       "array([[ 1.221,  0.587, -0.502,  0.   ],\n",
       "       [ 0.056,  1.582,  2.072, -0.   ],\n",
       "       [-0.522, -2.11 , -0.93 , -0.   ],\n",
       "       [-1.084,  0.235, -0.449, -0.   ],\n",
       "       [ 3.915, -0.036,  0.554, -0.   ]])"
      ]
     },
     "execution_count": 5,
     "metadata": {},
     "output_type": "execute_result"
    }
   ],
   "source": [
    "test_pipeline = Pipeline([\n",
    "    (\"test_union\", test_union),\n",
    "    (\"pca\", PCA())\n",
    "])\n",
    "np.round(test_pipeline.fit_transform(example_data)[:5,:], 3)"
   ]
  },
  {
   "cell_type": "markdown",
   "id": "a01e3f94-b94a-498e-9ea1-d8aae321bdf1",
   "metadata": {},
   "source": [
    "### `check_estimator`\n",
    "\n",
    "Such a transformer **doesn't** path `sklearn.utils.estimator_checks.check_estimator`. It looks like this happens because it's trying to run `transform' on the instance, which just passes a random `numpy.array' as input. But this transformer expects to have `pandas.DataFrame` as input."
   ]
  },
  {
   "cell_type": "markdown",
   "id": "9c200c9d-4392-4c3a-ac16-e37778e1647a",
   "metadata": {},
   "source": [
    "The following example shows such error:"
   ]
  },
  {
   "cell_type": "code",
   "execution_count": 6,
   "id": "b19146e9-6b07-4824-9543-aeda372bf2b8",
   "metadata": {},
   "outputs": [
    {
     "name": "stdout",
     "output_type": "stream",
     "text": [
      "only integers, slices (`:`), ellipsis (`...`), numpy.newaxis (`None`) and integer or boolean arrays are valid indices\n"
     ]
    }
   ],
   "source": [
    "from sklearn.utils.estimator_checks import check_estimator\n",
    "try:\n",
    "    check_estimator(ColumnsSubtraction([\"a x\", \"a y\"], [\"b x\", \"b y\"]))\n",
    "except Exception as e:\n",
    "    print(e)"
   ]
  },
  {
   "cell_type": "markdown",
   "id": "62fb94b1-ea6e-4c5e-ae1a-1d033c692c94",
   "metadata": {},
   "source": [
    "But it's not the transformer itself that's the problem. The problem lies in the type of transformation it performs - its logic is based on column names, which `numpy.array` doesn't have. The following cell shows that `FunctionTransformer` with the same transformation in function will have the same result in the `check_estimator` function."
   ]
  },
  {
   "cell_type": "code",
   "execution_count": 7,
   "id": "969409bb-050b-41ed-9307-dbb4b9b8498a",
   "metadata": {},
   "outputs": [
    {
     "name": "stdout",
     "output_type": "stream",
     "text": [
      "only integers, slices (`:`), ellipsis (`...`), numpy.newaxis (`None`) and integer or boolean arrays are valid indices\n"
     ]
    }
   ],
   "source": [
    "from sklearn.preprocessing import FunctionTransformer\n",
    "try:\n",
    "    check_estimator(FunctionTransformer(\n",
    "        lambda X: X[[\"a x\", \"a y\"]] - X[[\"b x\", \"b y\"]]\n",
    "    ))\n",
    "except Exception as e:\n",
    "    print(e)"
   ]
  },
  {
   "cell_type": "markdown",
   "id": "0e24402b-fd07-4e76-a087-728945112786",
   "metadata": {},
   "source": [
    "## Feature names out\n",
    "\n",
    "Check [developer API for `set_output`](https://scikit-learn.org/stable/developers/develop.html#developer-api-for-set-output) for more details.\n",
    "\n",
    "In practice, it's extremely important to be able to save column names through transformations."
   ]
  },
  {
   "cell_type": "markdown",
   "id": "c4beb3ee-b30b-49b3-b952-549ccdb06b58",
   "metadata": {},
   "source": [
    "The class from the previous section doesn't have `get_feature_names_out' by default - so you'll get a corresponding error. The following cell shows it:"
   ]
  },
  {
   "cell_type": "code",
   "execution_count": 8,
   "id": "d115bea8-dda8-4d49-9dc4-f32407e3e78c",
   "metadata": {},
   "outputs": [
    {
     "name": "stdout",
     "output_type": "stream",
     "text": [
      "'ColumnsSubtraction' object has no attribute 'get_feature_names_out'\n"
     ]
    }
   ],
   "source": [
    "transoformer = (\n",
    "    ColumnsSubtraction(\n",
    "        [\"a x\", \"a y\"], \n",
    "        [\"b x\", \"b y\"]\n",
    "    )\n",
    "    .fit(example_data)\n",
    ")\n",
    "try:\n",
    "    transoformer.get_feature_names_out()\n",
    "except Exception as e:\n",
    "    print(e)"
   ]
  },
  {
   "cell_type": "markdown",
   "id": "6261d33f-ec4b-4909-a332-fc336e66e279",
   "metadata": {},
   "source": [
    "As a result, you cannot use interfaces associated with feature names in a transformer that contains such components."
   ]
  },
  {
   "cell_type": "markdown",
   "id": "19461c0f-f3bf-441a-b37d-cbc02763cd48",
   "metadata": {},
   "source": [
    "### Defining `get_feature_names_out`\n",
    "\n",
    "Here, for our example with a transformer that subtracts columns, we define `get_feature_names_out`, which returns column names corresponding to the sense of the transformation."
   ]
  },
  {
   "cell_type": "code",
   "execution_count": 9,
   "id": "c920cb39-0e24-4adc-a583-a66de61d04e5",
   "metadata": {},
   "outputs": [],
   "source": [
    "class ColumnsSubtractionNames(BaseEstimator, TransformerMixin):\n",
    "    def __init__(self, A_columns : list, B_columns : list):\n",
    "        if len(A_columns) != len(B_columns):\n",
    "            raise ValueError(\n",
    "                \"The number of columns in the decreasing \"\n",
    "                \"and subtracting columns do not match.\"\n",
    "            )\n",
    "        self.A_columns = A_columns\n",
    "        self.B_columns = B_columns\n",
    "\n",
    "    def fit(self, X, y=None):\n",
    "        return self\n",
    "    \n",
    "    def transform(self, X):\n",
    "        return (\n",
    "            X[self.A_columns].to_numpy() - \n",
    "            X[self.B_columns].to_numpy()\n",
    "        )\n",
    "\n",
    "    def get_feature_names_out(self, input_features=None):\n",
    "        return np.array([\n",
    "            f\"'{a_col}'-'{b_col}'\"\n",
    "            for a_col, b_col in\n",
    "            zip(self.A_columns, self.B_columns)\n",
    "        ])"
   ]
  },
  {
   "cell_type": "markdown",
   "id": "0b1de562-eb59-4eb2-9ade-679c3d32db0a",
   "metadata": {},
   "source": [
    "Instances of `ColumnsSubtractionNames` will return column names and any complex transforms that are used will be able to use the `get_feature_names_out` method."
   ]
  },
  {
   "cell_type": "code",
   "execution_count": 10,
   "id": "d3a55960-a708-40ab-a649-98b8e78be1d2",
   "metadata": {},
   "outputs": [
    {
     "data": {
      "text/plain": [
       "array([\"a-b__'a x'-'b x'\", \"a-b__'a y'-'b y'\", \"x-y__'a x'-'a y'\",\n",
       "       \"x-y__'b x'-'b y'\"], dtype=object)"
      ]
     },
     "execution_count": 10,
     "metadata": {},
     "output_type": "execute_result"
    }
   ],
   "source": [
    "test_union = FeatureUnion([\n",
    "    (\"a-b\", ColumnsSubtractionNames([\"a x\", \"a y\"], [\"b x\", \"b y\"])),\n",
    "    (\"x-y\", ColumnsSubtractionNames([\"a x\", \"b x\"], [\"a y\", \"b y\"]))\n",
    "])\n",
    "test_union.fit(example_data)\n",
    "test_union.get_feature_names_out()"
   ]
  },
  {
   "cell_type": "markdown",
   "id": "f07892ea-696b-46c3-89c7-6e8b1070a4e3",
   "metadata": {},
   "source": [
    "**Note** By applying the method `set_output(transform=\"pandas\")` to the instance of your transformer with defined `get_feature_names_out` - you make it return pandas data frames."
   ]
  },
  {
   "cell_type": "code",
   "execution_count": 11,
   "id": "1fb2928b-1551-4d5e-9792-ce45aacce19a",
   "metadata": {},
   "outputs": [
    {
     "data": {
      "text/html": [
       "<div>\n",
       "<style scoped>\n",
       "    .dataframe tbody tr th:only-of-type {\n",
       "        vertical-align: middle;\n",
       "    }\n",
       "\n",
       "    .dataframe tbody tr th {\n",
       "        vertical-align: top;\n",
       "    }\n",
       "\n",
       "    .dataframe thead th {\n",
       "        text-align: right;\n",
       "    }\n",
       "</style>\n",
       "<table border=\"1\" class=\"dataframe\">\n",
       "  <thead>\n",
       "    <tr style=\"text-align: right;\">\n",
       "      <th></th>\n",
       "      <th>a-b__'a x'-'b x'</th>\n",
       "      <th>a-b__'a y'-'b y'</th>\n",
       "      <th>x-y__'a x'-'a y'</th>\n",
       "      <th>x-y__'b x'-'b y'</th>\n",
       "    </tr>\n",
       "  </thead>\n",
       "  <tbody>\n",
       "    <tr>\n",
       "      <th>0</th>\n",
       "      <td>0.869201</td>\n",
       "      <td>-0.437556</td>\n",
       "      <td>1.198449</td>\n",
       "      <td>-0.108308</td>\n",
       "    </tr>\n",
       "    <tr>\n",
       "      <th>1</th>\n",
       "      <td>1.935135</td>\n",
       "      <td>1.715619</td>\n",
       "      <td>-0.487465</td>\n",
       "      <td>-0.706980</td>\n",
       "    </tr>\n",
       "    <tr>\n",
       "      <th>2</th>\n",
       "      <td>-1.737973</td>\n",
       "      <td>-1.300535</td>\n",
       "      <td>-0.520647</td>\n",
       "      <td>-0.083210</td>\n",
       "    </tr>\n",
       "    <tr>\n",
       "      <th>3</th>\n",
       "      <td>-0.443834</td>\n",
       "      <td>0.549681</td>\n",
       "      <td>-0.168783</td>\n",
       "      <td>0.824732</td>\n",
       "    </tr>\n",
       "    <tr>\n",
       "      <th>4</th>\n",
       "      <td>2.256280</td>\n",
       "      <td>-1.779005</td>\n",
       "      <td>1.751811</td>\n",
       "      <td>-2.283474</td>\n",
       "    </tr>\n",
       "  </tbody>\n",
       "</table>\n",
       "</div>"
      ],
      "text/plain": [
       "   a-b__'a x'-'b x'  a-b__'a y'-'b y'  x-y__'a x'-'a y'  x-y__'b x'-'b y'\n",
       "0          0.869201         -0.437556          1.198449         -0.108308\n",
       "1          1.935135          1.715619         -0.487465         -0.706980\n",
       "2         -1.737973         -1.300535         -0.520647         -0.083210\n",
       "3         -0.443834          0.549681         -0.168783          0.824732\n",
       "4          2.256280         -1.779005          1.751811         -2.283474"
      ]
     },
     "execution_count": 11,
     "metadata": {},
     "output_type": "execute_result"
    }
   ],
   "source": [
    "test_union.set_output(transform=\"pandas\")\n",
    "test_union.fit_transform(example_data).head()"
   ]
  },
  {
   "cell_type": "markdown",
   "id": "197e8eca-07ab-4557-a62e-c67e0e10f04e",
   "metadata": {},
   "source": [
    "**Note** All currently known transformers return `numpy.array` from `get_feature_names_out` so, all things being equal, you should also try to return `numpy.array`."
   ]
  }
 ],
 "metadata": {
  "kernelspec": {
   "display_name": "Python 3 (ipykernel)",
   "language": "python",
   "name": "python3"
  },
  "language_info": {
   "codemirror_mode": {
    "name": "ipython",
    "version": 3
   },
   "file_extension": ".py",
   "mimetype": "text/x-python",
   "name": "python",
   "nbconvert_exporter": "python",
   "pygments_lexer": "ipython3",
   "version": "3.10.12"
  }
 },
 "nbformat": 4,
 "nbformat_minor": 5
}
