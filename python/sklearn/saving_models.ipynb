{
 "cells": [
  {
   "cell_type": "markdown",
   "id": "f5791b75-f222-4a15-91e2-62482d6d7083",
   "metadata": {},
   "source": [
    "# Saving models"
   ]
  },
  {
   "cell_type": "code",
   "execution_count": 1,
   "id": "c5f5e5a2-c4a6-4f68-b802-2bab11a657b2",
   "metadata": {},
   "outputs": [],
   "source": [
    "import dill\n",
    "import pickle\n",
    "\n",
    "import numpy as np\n",
    "\n",
    "from sklearn.preprocessing import FunctionTransformer"
   ]
  },
  {
   "cell_type": "markdown",
   "id": "17aeb387-43f7-4d3e-a1ad-a802121317e6",
   "metadata": {},
   "source": [
    "## pickle\n",
    "\n",
    "Pickle is simpliest way to save python objects and sklearn models/transformers as well."
   ]
  },
  {
   "cell_type": "markdown",
   "id": "0186f299-2548-4e3d-9bb5-68217abcab98",
   "metadata": {},
   "source": [
    "### Basic"
   ]
  },
  {
   "cell_type": "markdown",
   "id": "e8934365-72ca-42c2-9089-2b2595ec2664",
   "metadata": {},
   "source": [
    "Here is a simple sklearn transformer that returns an array with specified row in each value with same number of observations as in input array."
   ]
  },
  {
   "cell_type": "code",
   "execution_count": 2,
   "id": "b9e5418f-d3a5-4db0-8aeb-ff0a336fef7f",
   "metadata": {},
   "outputs": [
    {
     "data": {
      "text/plain": [
       "array([['im from pickle'],\n",
       "       ['im from pickle'],\n",
       "       ['im from pickle']], dtype='<U14')"
      ]
     },
     "execution_count": 2,
     "metadata": {},
     "output_type": "execute_result"
    }
   ],
   "source": [
    "def test(X):\n",
    "    return np.array([[\"im from pickle\"]]*X.shape[0])\n",
    "\n",
    "transformer_obj = FunctionTransformer(test)\n",
    "transformer_obj.fit_transform(np.array([[2],[3],[4]]))"
   ]
  },
  {
   "cell_type": "markdown",
   "id": "dedf5f68-1cdb-4cf3-992b-b1ff065df158",
   "metadata": {},
   "source": [
    "Here is option to save it using pickle. After saving, the object is removed from python memory."
   ]
  },
  {
   "cell_type": "code",
   "execution_count": 3,
   "id": "e1939ab3-a8cb-4f9f-b71a-83ddf20b26a8",
   "metadata": {},
   "outputs": [],
   "source": [
    "with open(\"saving_models_files/test_transformer.pkl\", \"wb\") as f:\n",
    "    pickle.dump(transformer_obj, f)\n",
    "del transformer_obj"
   ]
  },
  {
   "cell_type": "markdown",
   "id": "5af40e42-ed17-4bff-9e9b-04c3599e7404",
   "metadata": {},
   "source": [
    "Now let's load the model from the file - all goes well."
   ]
  },
  {
   "cell_type": "code",
   "execution_count": 4,
   "id": "427ba81e-9a05-4901-81e2-7b98a707e6d2",
   "metadata": {},
   "outputs": [
    {
     "data": {
      "text/plain": [
       "array([['im from pickle'],\n",
       "       ['im from pickle']], dtype='<U14')"
      ]
     },
     "execution_count": 4,
     "metadata": {},
     "output_type": "execute_result"
    }
   ],
   "source": [
    "with open(\"saving_models_files/test_transformer.pkl\", \"rb\") as f:\n",
    "    loaded_transformer = pickle.load(f)\n",
    "loaded_transformer.transform(np.array([[1],[2]]))"
   ]
  },
  {
   "cell_type": "markdown",
   "id": "0a59a6e7-92ae-4ca0-82cf-0940a3c79c99",
   "metadata": {},
   "source": [
    "### Troubles with functions\n",
    "\n",
    "When using pickle to save models, there is one nuance - the functions you use in your pipline must be available where you are going to deploy it."
   ]
  },
  {
   "cell_type": "markdown",
   "id": "2197d4bb-f14c-4cac-9bb6-66bec9dc0acf",
   "metadata": {},
   "source": [
    "Here the transformer is created and saved as in the previous section, but after saving not only the transformer itself is deleted, but also the function used in it."
   ]
  },
  {
   "cell_type": "code",
   "execution_count": 5,
   "id": "855ae411-5bf2-472c-b4e5-15d3c8c69403",
   "metadata": {},
   "outputs": [],
   "source": [
    "def test(X):\n",
    "    return np.array([[\"im from pickle\"]]*X.shape[0])\n",
    "\n",
    "transformer_obj = FunctionTransformer(test)\n",
    "transformer_obj.fit_transform(np.array([[2],[3],[4]]))\n",
    "\n",
    "with open(\"saving_models_files/test_transformer.pkl\", \"wb\") as f:\n",
    "    pickle.dump(transformer_obj, f)\n",
    "del transformer_obj, test"
   ]
  },
  {
   "cell_type": "markdown",
   "id": "e3cef9eb-2132-496f-985a-e98019f5bbdf",
   "metadata": {},
   "source": [
    "Now let's try to load this function from a file - and get an error saying that there is no access to the requested function."
   ]
  },
  {
   "cell_type": "code",
   "execution_count": 6,
   "id": "dc21cd76-3c41-4fc6-8fb2-aeb7fe5748cd",
   "metadata": {},
   "outputs": [
    {
     "name": "stdout",
     "output_type": "stream",
     "text": [
      "Got exception: Can't get attribute 'test' on <module '__main__'>\n"
     ]
    }
   ],
   "source": [
    "try:\n",
    "    with open(\n",
    "        \"saving_models_files/test_transformer.pkl\", \"rb\"\n",
    "    ) as f:\n",
    "        loaded_transformer = pickle.load(f)\n",
    "except Exception as e:\n",
    "    print(\"Got exception:\", e)"
   ]
  },
  {
   "cell_type": "markdown",
   "id": "7715920e-cfb6-43ad-88c8-6e72def107df",
   "metadata": {},
   "source": [
    "## dill\n",
    "\n",
    "In the [troubles with functions](#pickle) section, I mentioned that Pickle doesn't store functions that can be used in Sklearn constructions. Using dill for this purpose can help to solve this problem. Let's try the same example using the Dill module instead of the `pickle` module use `dill`."
   ]
  },
  {
   "cell_type": "markdown",
   "id": "7d113439-9537-4ad2-b17f-9c0715529e7d",
   "metadata": {},
   "source": [
    "The following cell creates a Sklearn transformer with specific behaviour:"
   ]
  },
  {
   "cell_type": "code",
   "execution_count": 15,
   "id": "8802a942-4573-4a1d-8829-e4627f2d50df",
   "metadata": {},
   "outputs": [
    {
     "data": {
      "text/plain": [
       "array([['im from dill'],\n",
       "       ['im from dill'],\n",
       "       ['im from dill']], dtype='<U12')"
      ]
     },
     "execution_count": 15,
     "metadata": {},
     "output_type": "execute_result"
    }
   ],
   "source": [
    "def test(X):\n",
    "    return np.array([[\"im from dill\"]]*X.shape[0])\n",
    "\n",
    "transformer_obj = FunctionTransformer(test)\n",
    "transformer_obj.fit_transform(np.array([[2],[3],[4]]))"
   ]
  },
  {
   "cell_type": "markdown",
   "id": "9a10329c-e028-443b-85fa-3a6ba3ded2c6",
   "metadata": {},
   "source": [
    "Now let's save it and immediately delete the transformer and use it."
   ]
  },
  {
   "cell_type": "code",
   "execution_count": 16,
   "id": "40966ab7-5c98-4f07-b0b6-01341514f052",
   "metadata": {},
   "outputs": [],
   "source": [
    "with open(\"saving_models_files/test_transformer.pkl\", \"wb\") as f:\n",
    "    dill.dump(transformer_obj, f)\n",
    "del transformer_obj, test"
   ]
  },
  {
   "cell_type": "markdown",
   "id": "7d88d2aa-ebf4-449f-8c56-10207152f8c2",
   "metadata": {},
   "source": [
    "After loading it with dill it still saves it behaviour:"
   ]
  },
  {
   "cell_type": "code",
   "execution_count": 18,
   "id": "a7f42e43-9a77-437e-ac8d-f5fbc5c0a769",
   "metadata": {},
   "outputs": [
    {
     "data": {
      "text/plain": [
       "array([['im from dill'],\n",
       "       ['im from dill']], dtype='<U12')"
      ]
     },
     "execution_count": 18,
     "metadata": {},
     "output_type": "execute_result"
    }
   ],
   "source": [
    "with open(\"saving_models_files/test_transformer.pkl\", \"rb\") as f:\n",
    "    transformer_loaded = dill.load(f)\n",
    "transformer_loaded.transform(np.array([[2],[3]]))"
   ]
  }
 ],
 "metadata": {
  "kernelspec": {
   "display_name": "Python 3 (ipykernel)",
   "language": "python",
   "name": "python3"
  },
  "language_info": {
   "codemirror_mode": {
    "name": "ipython",
    "version": 3
   },
   "file_extension": ".py",
   "mimetype": "text/x-python",
   "name": "python",
   "nbconvert_exporter": "python",
   "pygments_lexer": "ipython3",
   "version": "3.10.12"
  }
 },
 "nbformat": 4,
 "nbformat_minor": 5
}
