{
 "cells": [
  {
   "cell_type": "markdown",
   "id": "f5791b75-f222-4a15-91e2-62482d6d7083",
   "metadata": {},
   "source": [
    "# Saving models"
   ]
  },
  {
   "cell_type": "code",
   "execution_count": 1,
   "id": "c5f5e5a2-c4a6-4f68-b802-2bab11a657b2",
   "metadata": {},
   "outputs": [],
   "source": [
    "import dill\n",
    "import pickle\n",
    "\n",
    "import numpy as np\n",
    "\n",
    "from sklearn.preprocessing import FunctionTransformer"
   ]
  },
  {
   "cell_type": "markdown",
   "id": "17aeb387-43f7-4d3e-a1ad-a802121317e6",
   "metadata": {},
   "source": [
    "## pickle\n",
    "\n",
    "Pickle is simpliest way to save python objects and sklearn models/transformers as well."
   ]
  },
  {
   "cell_type": "markdown",
   "id": "0186f299-2548-4e3d-9bb5-68217abcab98",
   "metadata": {},
   "source": [
    "### Basic"
   ]
  },
  {
   "cell_type": "markdown",
   "id": "e8934365-72ca-42c2-9089-2b2595ec2664",
   "metadata": {},
   "source": [
    "Here is a simple sklearn transformer that returns an array with specified row in each value with same number of observations as in input array."
   ]
  },
  {
   "cell_type": "code",
   "execution_count": 10,
   "id": "b9e5418f-d3a5-4db0-8aeb-ff0a336fef7f",
   "metadata": {},
   "outputs": [
    {
     "data": {
      "text/plain": [
       "array([['im from pickle'],\n",
       "       ['im from pickle'],\n",
       "       ['im from pickle']], dtype='<U14')"
      ]
     },
     "execution_count": 10,
     "metadata": {},
     "output_type": "execute_result"
    }
   ],
   "source": [
    "def test(X):\n",
    "    return np.array([[\"im from pickle\"]]*X.shape[0])\n",
    "\n",
    "transformer_obj = FunctionTransformer(test)\n",
    "transformer_obj.fit_transform(np.array([[2],[3],[4]]))"
   ]
  },
  {
   "cell_type": "markdown",
   "id": "dedf5f68-1cdb-4cf3-992b-b1ff065df158",
   "metadata": {},
   "source": [
    "Here is option to save it using pickle. After saving, the object is removed from python memory."
   ]
  },
  {
   "cell_type": "code",
   "execution_count": 11,
   "id": "e1939ab3-a8cb-4f9f-b71a-83ddf20b26a8",
   "metadata": {},
   "outputs": [],
   "source": [
    "with open(\"saving_models_files/test_transformer.pkl\", \"wb\") as f:\n",
    "    pickle.dump(transformer_obj, f)\n",
    "del transformer_obj"
   ]
  },
  {
   "cell_type": "markdown",
   "id": "5af40e42-ed17-4bff-9e9b-04c3599e7404",
   "metadata": {},
   "source": [
    "Now let's load the model from the file - all goes well."
   ]
  },
  {
   "cell_type": "code",
   "execution_count": 12,
   "id": "427ba81e-9a05-4901-81e2-7b98a707e6d2",
   "metadata": {},
   "outputs": [
    {
     "data": {
      "text/plain": [
       "array([['im from pickle'],\n",
       "       ['im from pickle']], dtype='<U14')"
      ]
     },
     "execution_count": 12,
     "metadata": {},
     "output_type": "execute_result"
    }
   ],
   "source": [
    "with open(\"saving_models_files/test_transformer.pkl\", \"rb\") as f:\n",
    "    loaded_transformer = pickle.load(f)\n",
    "loaded_transformer.transform(np.array([[1],[2]]))"
   ]
  },
  {
   "cell_type": "markdown",
   "id": "7715920e-cfb6-43ad-88c8-6e72def107df",
   "metadata": {},
   "source": [
    "## dill"
   ]
  },
  {
   "cell_type": "code",
   "execution_count": 20,
   "id": "8802a942-4573-4a1d-8829-e4627f2d50df",
   "metadata": {},
   "outputs": [
    {
     "data": {
      "text/plain": [
       "array([[1.],\n",
       "       [1.],\n",
       "       [1.]])"
      ]
     },
     "execution_count": 20,
     "metadata": {},
     "output_type": "execute_result"
    }
   ],
   "source": [
    "def test(X):\n",
    "    return np.ones([X.shape[0], 1])\n",
    "\n",
    "transformer_obj = FunctionTransformer(test)\n",
    "transformer_obj.fit_transform(np.array([[2],[3],[4]]))"
   ]
  },
  {
   "cell_type": "code",
   "execution_count": 21,
   "id": "40966ab7-5c98-4f07-b0b6-01341514f052",
   "metadata": {},
   "outputs": [],
   "source": [
    "with open(\"saving_models_files/test_transformer.pkl\", \"wb\") as f:\n",
    "    dill.dump(transformer_obj, f)"
   ]
  },
  {
   "cell_type": "code",
   "execution_count": 22,
   "id": "a7f42e43-9a77-437e-ac8d-f5fbc5c0a769",
   "metadata": {},
   "outputs": [],
   "source": [
    "with open(\"saving_models_files/test_transformer.pkl\", \"rb\") as f:\n",
    "    transformer_loaded = dill.load(f)"
   ]
  },
  {
   "cell_type": "code",
   "execution_count": 23,
   "id": "81051815-cc29-4dde-a00e-c14becb5434a",
   "metadata": {},
   "outputs": [
    {
     "data": {
      "text/plain": [
       "array([[1.],\n",
       "       [1.],\n",
       "       [1.]])"
      ]
     },
     "execution_count": 23,
     "metadata": {},
     "output_type": "execute_result"
    }
   ],
   "source": [
    "transformer_loaded.transform(np.array([[2],[3],[4]]))"
   ]
  },
  {
   "cell_type": "code",
   "execution_count": 24,
   "id": "aa463461-4146-4e26-9d5b-ad5230eb9b22",
   "metadata": {},
   "outputs": [],
   "source": [
    "del test"
   ]
  },
  {
   "cell_type": "code",
   "execution_count": 25,
   "id": "2b28dd5b-055d-4cfd-a67c-6330e3b46b3a",
   "metadata": {},
   "outputs": [],
   "source": [
    "with open(\"saving_models_files/test_transformer.pkl\", \"rb\") as f:\n",
    "    transformer_loaded = dill.load(f)"
   ]
  }
 ],
 "metadata": {
  "kernelspec": {
   "display_name": "Python 3 (ipykernel)",
   "language": "python",
   "name": "python3"
  },
  "language_info": {
   "codemirror_mode": {
    "name": "ipython",
    "version": 3
   },
   "file_extension": ".py",
   "mimetype": "text/x-python",
   "name": "python",
   "nbconvert_exporter": "python",
   "pygments_lexer": "ipython3",
   "version": "3.10.12"
  }
 },
 "nbformat": 4,
 "nbformat_minor": 5
}
