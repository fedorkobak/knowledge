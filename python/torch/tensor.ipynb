{
 "cells": [
  {
   "cell_type": "markdown",
   "id": "45a3324d-a50e-4f04-ab19-713eba6b619b",
   "metadata": {},
   "source": [
    "# Tensor\n",
    "\n",
    "Here is a description of the basic data type in PyTorch: `torch.Tensor`."
   ]
  },
  {
   "cell_type": "code",
   "execution_count": 1,
   "id": "12a27590-7460-406f-819a-a5cc789f908c",
   "metadata": {},
   "outputs": [],
   "source": [
    "import torch\n",
    "from math import prod"
   ]
  },
  {
   "cell_type": "markdown",
   "id": "23926ddf-b0be-43da-b7ad-40c83b03c280",
   "metadata": {},
   "source": [
    "## Create tensor\n",
    "\n",
    "Torch has tons of methods to create tensors. [This page](tensor/creating_methods.ipynb) lists the methods I know for now."
   ]
  },
  {
   "cell_type": "markdown",
   "id": "6db2803f",
   "metadata": {},
   "source": [
    "---\n",
    "\n",
    "The most **straightforward** way is to use `torch.tensor`."
   ]
  },
  {
   "cell_type": "code",
   "execution_count": null,
   "id": "5c0b0c30",
   "metadata": {},
   "outputs": [
    {
     "data": {
      "text/plain": [
       "tensor([[[ 0.0000e+00,  0.0000e+00,  1.4013e-45,  0.0000e+00,  1.4013e-45],\n",
       "         [ 0.0000e+00,  9.1084e-44,  0.0000e+00, -3.7852e+06,  3.3707e-41]],\n",
       "\n",
       "        [[-7.6466e+07,  3.3707e-41,  4.4842e-44,  0.0000e+00,  4.4842e-44],\n",
       "         [ 0.0000e+00,  6.3884e-27,  3.3703e-41,  0.0000e+00,  1.4013e-45]],\n",
       "\n",
       "        [[ 1.3004e-42,  0.0000e+00,  1.1210e-43,  0.0000e+00,  6.4326e-27],\n",
       "         [ 3.3703e-41,  4.2427e-08,  1.2964e+16,  2.1707e-18,  7.0952e+22]]])"
      ]
     },
     "metadata": {},
     "output_type": "display_data"
    }
   ],
   "source": [
    "torch.Tensor(3,2,5)"
   ]
  },
  {
   "cell_type": "markdown",
   "id": "25859f2e-8d6c-4e3e-8969-8160425e531a",
   "metadata": {},
   "source": [
    "## Dimentionality\n",
    "\n",
    "One of the most important properties of the tensor is it's dimensionality. Torch provides a set of tools to manage tensor dimensionality. Find out more on the [dedicated page](tensor/dimentionality.ipynb)."
   ]
  },
  {
   "cell_type": "markdown",
   "id": "f97ce05d",
   "metadata": {},
   "source": [
    "---\n",
    "\n",
    "The most important tools is:\n",
    "\n",
    "- `shape` attribute that contains dimentionality.\n",
    "- `reshape` method that allows to change dimentionality of the tensor.\n",
    "\n",
    "The fillowing cell shows both of them."
   ]
  },
  {
   "cell_type": "code",
   "execution_count": 10,
   "id": "757661f1",
   "metadata": {},
   "outputs": [
    {
     "name": "stdout",
     "output_type": "stream",
     "text": [
      "torch.Tensor.shape torch.Size([2, 5, 3])\n"
     ]
    },
    {
     "data": {
      "text/plain": [
       "tensor([[0., 0., 0., 0., 0.],\n",
       "        [0., 0., 0., 0., 0.],\n",
       "        [0., 0., 0., 0., 0.],\n",
       "        [0., 0., 0., 0., 0.],\n",
       "        [0., 0., 0., 0., 0.],\n",
       "        [0., 0., 0., 0., 0.]])"
      ]
     },
     "execution_count": 10,
     "metadata": {},
     "output_type": "execute_result"
    }
   ],
   "source": [
    "test_tensor = torch.zeros(2, 5, 3)\n",
    "print('torch.Tensor.shape', test_tensor.shape)\n",
    "test_tensor.reshape(6, 5)"
   ]
  },
  {
   "cell_type": "markdown",
   "id": "5c03036d",
   "metadata": {},
   "source": [
    "## Indexing\n",
    "\n",
    "Indexing in `torch` supports all the classic condepts, just like in `numpy` or `pandas`. But there are some features specific for `torch` findout more in the [specific page](tensor/indexing.ipynb)."
   ]
  },
  {
   "cell_type": "markdown",
   "id": "7d82487b",
   "metadata": {},
   "source": [
    "---\n",
    "\n",
    "The following example shows the most basic methods of indexing in Torch. For the first dimensionality it takes all available elements, for the second it takes the slice `0:5:2` and along the last dimensionality it takes the elements counted in `list`."
   ]
  },
  {
   "cell_type": "code",
   "execution_count": 31,
   "id": "5df54c31",
   "metadata": {},
   "outputs": [
    {
     "name": "stdout",
     "output_type": "stream",
     "text": [
      "Original tensor\n",
      "tensor([[[ 0,  1,  2,  3,  4,  5],\n",
      "         [ 6,  7,  8,  9, 10, 11],\n",
      "         [12, 13, 14, 15, 16, 17],\n",
      "         [18, 19, 20, 21, 22, 23],\n",
      "         [24, 25, 26, 27, 28, 29],\n",
      "         [30, 31, 32, 33, 34, 35]],\n",
      "\n",
      "        [[36, 37, 38, 39, 40, 41],\n",
      "         [42, 43, 44, 45, 46, 47],\n",
      "         [48, 49, 50, 51, 52, 53],\n",
      "         [54, 55, 56, 57, 58, 59],\n",
      "         [60, 61, 62, 63, 64, 65],\n",
      "         [66, 67, 68, 69, 70, 71]]])\n",
      "Sliced tensor\n",
      "tensor([[[ 5,  1,  4],\n",
      "         [17, 13, 16],\n",
      "         [29, 25, 28]],\n",
      "\n",
      "        [[41, 37, 40],\n",
      "         [53, 49, 52],\n",
      "         [65, 61, 64]]])\n"
     ]
    }
   ],
   "source": [
    "dimentionality = (2,6,6)\n",
    "experimental = torch.arange(prod(dimentionality)).reshape(dimentionality)\n",
    "\n",
    "print(\"Original tensor\")\n",
    "print(experimental)\n",
    "print(\"Sliced tensor\")\n",
    "print(experimental[:, 0:5:2, [5,1,4]])"
   ]
  },
  {
   "cell_type": "markdown",
   "id": "d642b507",
   "metadata": {},
   "source": [
    "## Element-wise operations\n",
    "\n",
    "There is a class of operations in Pytorch that are applied element by element - we'll call them element wise operations. Read more in the [special page](tensor/element_wise.ipynb)."
   ]
  },
  {
   "cell_type": "markdown",
   "id": "711403af",
   "metadata": {},
   "source": [
    "---\n",
    "\n",
    "As a brief review, consider two matrices $A = [a_{ij}]_{n \\times m}$ and $B = [b_{ij}]_{n \\times m}$. "
   ]
  },
  {
   "cell_type": "code",
   "execution_count": 4,
   "id": "b45fcb2f",
   "metadata": {},
   "outputs": [
    {
     "data": {
      "text/plain": [
       "tensor([[-5, -2,  4,  0, -4],\n",
       "        [-1, -4,  1, -5, -5],\n",
       "        [-4,  1,  4, -5, -5],\n",
       "        [-2,  2,  0,  1,  0]])"
      ]
     },
     "execution_count": 4,
     "metadata": {},
     "output_type": "execute_result"
    }
   ],
   "source": [
    "A = torch.randint(-5,5, [4,5])\n",
    "A"
   ]
  },
  {
   "cell_type": "code",
   "execution_count": 5,
   "id": "52e16623",
   "metadata": {},
   "outputs": [
    {
     "data": {
      "text/plain": [
       "tensor([[-1, -3,  1, -4, -4],\n",
       "        [-4,  4, -4, -4, -3],\n",
       "        [ 3, -2,  0, -1,  0],\n",
       "        [ 4, -2,  0,  2,  1]])"
      ]
     },
     "execution_count": 5,
     "metadata": {},
     "output_type": "execute_result"
    }
   ],
   "source": [
    "B = torch.randint(-5,5, [4,5])\n",
    "B"
   ]
  },
  {
   "cell_type": "markdown",
   "id": "3ac8daca",
   "metadata": {},
   "source": [
    "By applying the `+` operator to matrices we got the matrix $\\left[a_{ij} + b_{ij}\\right]_{n \\times m}$ - so the operation was applied element by element."
   ]
  },
  {
   "cell_type": "code",
   "execution_count": 7,
   "id": "e400a316",
   "metadata": {},
   "outputs": [
    {
     "data": {
      "text/plain": [
       "tensor([[-6, -5,  5, -4, -8],\n",
       "        [-5,  0, -3, -9, -8],\n",
       "        [-1, -1,  4, -6, -5],\n",
       "        [ 2,  0,  0,  3,  1]])"
      ]
     },
     "execution_count": 7,
     "metadata": {},
     "output_type": "execute_result"
    }
   ],
   "source": [
    "A + B"
   ]
  },
  {
   "cell_type": "markdown",
   "id": "289a6ae7",
   "metadata": {},
   "source": [
    "## Algebraic operations\n",
    "\n",
    "The following table lists algebraic operations on `torch.Tensor`.\n",
    "\n",
    "| **Operation**                 | **Function**                  | **Description**                           |\n",
    "|-------------------------------|-------------------------------|-------------------------------------------|\n",
    "| Matrix Multiplication         | `torch.matmul()`              | Matrix multiplication                    |\n",
    "|                               | `tensor1 @ tensor2`           | Matrix multiplication using `@` operator |\n",
    "| Singular Value Decomposition  | `torch.svd()`                 | Singular Value Decomposition (SVD)        |\n",
    "|                               | `torch.linalg.svd()`          | SVD with advanced options                |\n",
    "| Eigenvalues and Eigenvectors  | `torch.eig()`                 | Compute eigenvalues and eigenvectors     |\n",
    "|                               | `torch.linalg.eig()`          | Eigenvalues and eigenvectors (advanced)  |\n",
    "| Matrix Inversion              | `torch.linalg.inv()`          | Matrix inversion                          |\n",
    "|                               | `torch.inverse()`             | Matrix inversion (deprecated)            |\n",
    "| Matrix Norms                  | `torch.norm()`                | Compute the norm of a tensor             |\n",
    "|                               | `torch.linalg.norm()`         | Norm with advanced options               |\n",
    "| Determinants                  | `torch.det()`                 | Compute the determinant of a matrix       |\n",
    "|                               | `torch.linalg.det()`          | Determinant with advanced options        |\n",
    "| Matrix Trace                  | `torch.trace()`               | Compute the trace of a matrix            |\n",
    "| Eigenvalues                   | `torch.linalg.eigvals()`      | Compute eigenvalues of a square matrix   |\n",
    "| Matrix Rank                   | `torch.linalg.matrix_rank()`  | Compute the rank of a matrix             |\n",
    "| Cholesky Decomposition        | `torch.linalg.cholesky()`     | Cholesky decomposition                    |\n",
    "| QR Decomposition              | `torch.linalg.qr()`           | QR decomposition                          |\n",
    "| Solving Linear Systems        | `torch.linalg.solve()`        | Solve a system of linear equations       |\n",
    "|                               | `torch.linalg.lstsq()`        | Solve a least-squares problem            |\n",
    "| Kronecker Product             | `torch.kron()`                | Compute the Kronecker product             |"
   ]
  },
  {
   "cell_type": "markdown",
   "id": "a5bc4a79",
   "metadata": {},
   "source": [
    "## Data type\n",
    "\n",
    "Torch has it's own system of data types. Here is a table that describes the available datatypes.\n",
    "\n",
    "\n",
    "| Type       | Description                                |\n",
    "|------------|--------------------------------------------|\n",
    "| `torch.float16` / `torch.half`  | 16-bit half precision (floating point)       |\n",
    "| `torch.float32` / `torch.float` | 32-bit single precision (floating point)     |\n",
    "| `torch.float64` / `torch.double`| 64-bit double precision (floating point)     |\n",
    "| `torch.int8`                    | 8-bit integer                                |\n",
    "| `torch.int16` / `torch.short`   | 16-bit integer                               |\n",
    "| `torch.int32` / `torch.int`     | 32-bit integer                               |\n",
    "| `torch.int64` / `torch.long`    | 64-bit integer                               |\n",
    "| `torch.uint8`                   | 8-bit unsigned integer                       |\n",
    "| `torch.bool`                    | Boolean type                                 |\n",
    "| `torch.complex64`               | 64-bit complex number (32-bit real and imaginary) |\n",
    "| `torch.complex128`              | 128-bit complex number (64-bit real and imaginary) |\n"
   ]
  },
  {
   "cell_type": "markdown",
   "id": "ec44a79f",
   "metadata": {},
   "source": [
    "---\n",
    "\n",
    "You can get type of the tensor by using `dtype` field."
   ]
  },
  {
   "cell_type": "code",
   "execution_count": 15,
   "id": "c8009c70",
   "metadata": {},
   "outputs": [
    {
     "data": {
      "text/plain": [
       "torch.float32"
      ]
     },
     "execution_count": 15,
     "metadata": {},
     "output_type": "execute_result"
    }
   ],
   "source": [
    "torch.Tensor(3, 3).dtype"
   ]
  },
  {
   "cell_type": "markdown",
   "id": "2737ced4",
   "metadata": {},
   "source": [
    "**Note** there are some functions in torch that have `dtype` parameter. By passing special torch objects as `dtype` arguments, we can get tensors of the specific dtype."
   ]
  },
  {
   "cell_type": "code",
   "execution_count": 16,
   "id": "a99e6f55",
   "metadata": {},
   "outputs": [
    {
     "data": {
      "text/plain": [
       "tensor([1., 2., 3.], dtype=torch.float16)"
      ]
     },
     "execution_count": 16,
     "metadata": {},
     "output_type": "execute_result"
    }
   ],
   "source": [
    "torch.tensor([1,2,3], dtype=torch.float16)"
   ]
  },
  {
   "cell_type": "code",
   "execution_count": 18,
   "id": "53bb9f4e",
   "metadata": {},
   "outputs": [
    {
     "data": {
      "text/plain": [
       "tensor([[0., 0., 0.],\n",
       "        [0., 0., 0.],\n",
       "        [0., 0., 0.]], dtype=torch.float16)"
      ]
     },
     "execution_count": 18,
     "metadata": {},
     "output_type": "execute_result"
    }
   ],
   "source": [
    "torch.zeros((3,3), dtype=torch.float16)"
   ]
  },
  {
   "cell_type": "markdown",
   "id": "3d89807c",
   "metadata": {},
   "source": [
    "## Inplace methods\n",
    "\n",
    "Some methods of `torch.Tensor` allow you to change the value of the tensor on the fly. It's typical for such methods to have the underscore symbol `_` at the end of the name.\n",
    "\n",
    "| Method                       | Description                                                                                       |\n",
    "|------------------------------|---------------------------------------------------------------------------------------------------|\n",
    "| `add_`                       | Adds the input tensor to the current tensor in place.                                             |\n",
    "| `addcmul_`                   | Performs a component-wise multiplication of two tensors and adds the result to the current tensor in place. |\n",
    "| `addcdiv_`                   | Performs a component-wise division of two tensors and adds the result to the current tensor in place. |\n",
    "| `bernoulli_`                 | Applies the Bernoulli distribution to the tensor in place.                                        |\n",
    "| `bmm_`                       | Performs batch matrix multiplication in place.                                                   |\n",
    "| `clamp_`                     | Clamps all elements in the input tensor to be within the specified range, in place.              |\n",
    "| `copy_`                      | Copies data from another tensor to the current tensor in place.                                    |\n",
    "| `div_`                       | Divides the current tensor by the input tensor in place.                                          |\n",
    "| `fill_`                      | Fills the tensor with the specified value in place.                                               |\n",
    "| `flatten_`                   | Flattens the tensor to a 1D tensor in place.                                                     |\n",
    "| `index_add_`                 | Adds values to the tensor at specified indices in place.                                          |\n",
    "| `index_fill_`                | Fills the tensor at specified indices with the given value in place.                              |\n",
    "| `index_copy_`                | Copies values from another tensor into the current tensor at specified indices, in place.         |\n",
    "| `mask_fill_`                 | Fills elements of the tensor where the mask is `True` with the specified value in place.           |\n",
    "| `mask_scatter_`              | Scatters values into the tensor at indices specified by the mask in place.                        |\n",
    "| `masked_fill_`               | Fills elements of the tensor where the mask is `True` with the specified value in place.           |\n",
    "| `masked_scatter_`            | Scatters values into the tensor where the mask is `True` in place.                                 |\n",
    "| `neg_`                       | Negates the tensor's values in place.                                                             |\n",
    "| `normal_`                    | Fills the tensor with random numbers from a normal distribution in place.                         |\n",
    "| `relu_`                      | Applies the ReLU activation function in place.                                                    |\n",
    "| `renorm_`                    | Renormalizes the tensor along a specified dimension in place.                                     |\n",
    "| `scatter_`                   | Scatters values into the tensor at specified indices in place.                                    |\n",
    "| `select_`                    | Selects a sub-tensor in place (used for slicing).                                                 |\n",
    "| `set_`                       | Sets tensor values based on other tensors or values in place.                                      |\n",
    "| `sigmoid_`                   | Applies the sigmoid function in place.                                                            |\n",
    "| `softmax_`                   | Applies the softmax function in place along a specified dimension.                                |\n",
    "| `sub_`                       | Subtracts the input tensor from the current tensor in place.                                      |\n",
    "| `t_`                         | Transposes the tensor in place (2D tensors only).                                                 |\n",
    "| `transpose_`                 | Transposes the tensor along specified dimensions in place.                                        |\n",
    "| `truncate_`                  | Truncates tensor values to a specified precision in place.                                         |\n",
    "| `zero_`                      | Sets all elements of the tensor to zero in place.                                                  |\n"
   ]
  },
  {
   "cell_type": "markdown",
   "id": "2b63fbec",
   "metadata": {},
   "source": [
    "Here is an example of applying the `relu` transformation to the tensor."
   ]
  },
  {
   "cell_type": "code",
   "execution_count": 30,
   "id": "37ca162f",
   "metadata": {},
   "outputs": [
    {
     "data": {
      "text/plain": [
       "tensor([0.0000, 0.0000, 0.0000, 0.0000, 0.0000, 0.0000, 0.0000, 0.0000, 0.0000,\n",
       "        0.0000, 0.0000, 0.1000, 0.2000, 0.3000, 0.4000, 0.5000, 0.6000, 0.7000,\n",
       "        0.8000, 0.9000])"
      ]
     },
     "execution_count": 30,
     "metadata": {},
     "output_type": "execute_result"
    }
   ],
   "source": [
    "my_tensor = torch.arange(-1,1,0.1)\n",
    "my_tensor.relu_()\n",
    "my_tensor"
   ]
  },
  {
   "cell_type": "markdown",
   "id": "c4cb6252",
   "metadata": {},
   "source": [
    "## Repeat method\n",
    "\n",
    "The `torch.Tensor.repeat` function allows you to duplicate a tensor's values along specific dimensions, creating a new tensor with the replicated values. "
   ]
  },
  {
   "cell_type": "markdown",
   "id": "94d2c7ff",
   "metadata": {},
   "source": [
    "---\n",
    "\n",
    "For example, consider a tensor created using `torch.arange(0, 2)`."
   ]
  },
  {
   "cell_type": "code",
   "execution_count": 9,
   "id": "5fa37012",
   "metadata": {},
   "outputs": [
    {
     "data": {
      "text/plain": [
       "tensor([0, 1, 2])"
      ]
     },
     "execution_count": 9,
     "metadata": {},
     "output_type": "execute_result"
    }
   ],
   "source": [
    "example_array = torch.arange(3)\n",
    "example_array"
   ]
  },
  {
   "cell_type": "markdown",
   "id": "207fdc19",
   "metadata": {},
   "source": [
    "If you use `repeat` along a nested axis (e.g., `repeat(3)`), the input vector is duplicated three times, resulting in a longer vector. "
   ]
  },
  {
   "cell_type": "code",
   "execution_count": 10,
   "id": "5405f922",
   "metadata": {},
   "outputs": [
    {
     "data": {
      "text/plain": [
       "tensor([0, 1, 2, 0, 1, 2, 0, 1, 2])"
      ]
     },
     "execution_count": 10,
     "metadata": {},
     "output_type": "execute_result"
    }
   ],
   "source": [
    "example_array.repeat(3)"
   ]
  },
  {
   "cell_type": "markdown",
   "id": "b5076fe5",
   "metadata": {},
   "source": [
    "By replicating along the rows (e.g., `repeat(3, 1)`), you will create a matrix with three rows. Each row will contain a copy of the original input vector. "
   ]
  },
  {
   "cell_type": "code",
   "execution_count": 5,
   "id": "5caee591",
   "metadata": {},
   "outputs": [
    {
     "data": {
      "text/plain": [
       "tensor([[0, 1, 2],\n",
       "        [0, 1, 2],\n",
       "        [0, 1, 2]])"
      ]
     },
     "execution_count": 5,
     "metadata": {},
     "output_type": "execute_result"
    }
   ],
   "source": [
    "torch.arange(3).repeat(3, 1)"
   ]
  },
  {
   "cell_type": "markdown",
   "id": "8fcc08bc",
   "metadata": {},
   "source": [
    "Finally, let's try to duplicate the vector three times vertically and two times in the depth dimension. This will create a tensor with three columns, each containing a duplicated version of the original vector, and two layers of these duplicated columns."
   ]
  },
  {
   "cell_type": "code",
   "execution_count": 8,
   "id": "c7f9de41",
   "metadata": {},
   "outputs": [
    {
     "data": {
      "text/plain": [
       "tensor([[[0, 1, 2],\n",
       "         [0, 1, 2],\n",
       "         [0, 1, 2]],\n",
       "\n",
       "        [[0, 1, 2],\n",
       "         [0, 1, 2],\n",
       "         [0, 1, 2]]])"
      ]
     },
     "execution_count": 8,
     "metadata": {},
     "output_type": "execute_result"
    }
   ],
   "source": [
    "torch.arange(3).repeat(2, 3, 1)"
   ]
  }
 ],
 "metadata": {
  "kernelspec": {
   "display_name": "Python 3 (ipykernel)",
   "language": "python",
   "name": "python3"
  },
  "language_info": {
   "codemirror_mode": {
    "name": "ipython",
    "version": 3
   },
   "file_extension": ".py",
   "mimetype": "text/x-python",
   "name": "python",
   "nbconvert_exporter": "python",
   "pygments_lexer": "ipython3",
   "version": "3.10.12"
  }
 },
 "nbformat": 4,
 "nbformat_minor": 5
}
