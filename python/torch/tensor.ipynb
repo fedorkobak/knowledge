{
 "cells": [
  {
   "cell_type": "markdown",
   "id": "45a3324d-a50e-4f04-ab19-713eba6b619b",
   "metadata": {},
   "source": [
    "# Tensor\n",
    "\n",
    "Here is a description of the basic data type in PyTorch: `torch.Tensor`."
   ]
  },
  {
   "cell_type": "code",
   "execution_count": 3,
   "id": "12a27590-7460-406f-819a-a5cc789f908c",
   "metadata": {},
   "outputs": [],
   "source": [
    "import torch\n",
    "import numpy as np"
   ]
  },
  {
   "cell_type": "markdown",
   "id": "23926ddf-b0be-43da-b7ad-40c83b03c280",
   "metadata": {},
   "source": [
    "## Create tensor\n",
    "\n",
    "Torch has tons of methods to create tensors. [This page](tensor/creating_methods.ipynb) lists the methods I know for now."
   ]
  },
  {
   "cell_type": "markdown",
   "id": "6db2803f",
   "metadata": {},
   "source": [
    "---\n",
    "\n",
    "The most **straightforward** way is to use `torch.tensor`."
   ]
  },
  {
   "cell_type": "code",
   "execution_count": null,
   "id": "5c0b0c30",
   "metadata": {},
   "outputs": [
    {
     "data": {
      "text/plain": [
       "tensor([[[ 0.0000e+00,  0.0000e+00,  1.4013e-45,  0.0000e+00,  1.4013e-45],\n",
       "         [ 0.0000e+00,  9.1084e-44,  0.0000e+00, -3.7852e+06,  3.3707e-41]],\n",
       "\n",
       "        [[-7.6466e+07,  3.3707e-41,  4.4842e-44,  0.0000e+00,  4.4842e-44],\n",
       "         [ 0.0000e+00,  6.3884e-27,  3.3703e-41,  0.0000e+00,  1.4013e-45]],\n",
       "\n",
       "        [[ 1.3004e-42,  0.0000e+00,  1.1210e-43,  0.0000e+00,  6.4326e-27],\n",
       "         [ 3.3703e-41,  4.2427e-08,  1.2964e+16,  2.1707e-18,  7.0952e+22]]])"
      ]
     },
     "metadata": {},
     "output_type": "display_data"
    }
   ],
   "source": [
    "torch.Tensor(3,2,5)"
   ]
  },
  {
   "cell_type": "markdown",
   "id": "25859f2e-8d6c-4e3e-8969-8160425e531a",
   "metadata": {},
   "source": [
    "## Shape\n",
    "\n",
    "Simply refer to the `shape` attribute to get the dimensionality of the tensor. You will got `torch.Size` as the result, you can use `[]` to access values of this object."
   ]
  },
  {
   "cell_type": "code",
   "execution_count": 22,
   "id": "13c22997-71dd-48f9-9b44-1d73d342c6c1",
   "metadata": {},
   "outputs": [
    {
     "data": {
      "text/plain": [
       "torch.Size([2, 3])"
      ]
     },
     "metadata": {},
     "output_type": "display_data"
    },
    {
     "name": "stdout",
     "output_type": "stream",
     "text": [
      "rows : 2, columns: 3\n"
     ]
    }
   ],
   "source": [
    "shape_return = torch.tensor([[1,2,3], [1,2,3]]).shape\n",
    "display(shape_return)\n",
    "print(f\"rows : {shape_return[0]}, columns: {shape_return[1]}\")"
   ]
  },
  {
   "cell_type": "markdown",
   "id": "a5bc4a79",
   "metadata": {},
   "source": [
    "## Data type\n",
    "\n",
    "Torch has it's own system of data types. Here is a table that describes the available datatypes.\n",
    "\n",
    "\n",
    "| Type       | Description                                |\n",
    "|------------|--------------------------------------------|\n",
    "| `torch.float16` / `torch.half`  | 16-bit half precision (floating point)       |\n",
    "| `torch.float32` / `torch.float` | 32-bit single precision (floating point)     |\n",
    "| `torch.float64` / `torch.double`| 64-bit double precision (floating point)     |\n",
    "| `torch.int8`                    | 8-bit integer                                |\n",
    "| `torch.int16` / `torch.short`   | 16-bit integer                               |\n",
    "| `torch.int32` / `torch.int`     | 32-bit integer                               |\n",
    "| `torch.int64` / `torch.long`    | 64-bit integer                               |\n",
    "| `torch.uint8`                   | 8-bit unsigned integer                       |\n",
    "| `torch.bool`                    | Boolean type                                 |\n",
    "| `torch.complex64`               | 64-bit complex number (32-bit real and imaginary) |\n",
    "| `torch.complex128`              | 128-bit complex number (64-bit real and imaginary) |\n"
   ]
  },
  {
   "cell_type": "markdown",
   "id": "ec44a79f",
   "metadata": {},
   "source": [
    "---\n",
    "\n",
    "You can get type of the tensor by using `dtype` field."
   ]
  },
  {
   "cell_type": "code",
   "execution_count": 15,
   "id": "c8009c70",
   "metadata": {},
   "outputs": [
    {
     "data": {
      "text/plain": [
       "torch.float32"
      ]
     },
     "execution_count": 15,
     "metadata": {},
     "output_type": "execute_result"
    }
   ],
   "source": [
    "torch.Tensor(3, 3).dtype"
   ]
  },
  {
   "cell_type": "markdown",
   "id": "2737ced4",
   "metadata": {},
   "source": [
    "**Note** there are some functions in torch that have `dtype` parameter. By passing special torch objects as `dtype` arguments, we can get tensors of the specific dtype."
   ]
  },
  {
   "cell_type": "code",
   "execution_count": 16,
   "id": "a99e6f55",
   "metadata": {},
   "outputs": [
    {
     "data": {
      "text/plain": [
       "tensor([1., 2., 3.], dtype=torch.float16)"
      ]
     },
     "execution_count": 16,
     "metadata": {},
     "output_type": "execute_result"
    }
   ],
   "source": [
    "torch.tensor([1,2,3], dtype=torch.float16)"
   ]
  },
  {
   "cell_type": "code",
   "execution_count": 18,
   "id": "53bb9f4e",
   "metadata": {},
   "outputs": [
    {
     "data": {
      "text/plain": [
       "tensor([[0., 0., 0.],\n",
       "        [0., 0., 0.],\n",
       "        [0., 0., 0.]], dtype=torch.float16)"
      ]
     },
     "execution_count": 18,
     "metadata": {},
     "output_type": "execute_result"
    }
   ],
   "source": [
    "torch.zeros((3,3), dtype=torch.float16)"
   ]
  },
  {
   "cell_type": "markdown",
   "id": "3d89807c",
   "metadata": {},
   "source": [
    "## Inplace methods\n",
    "\n",
    "Some methods of `torch.Tensor` allow you to change the value of the tensor on the fly. It's typical for such methods to have the underscore symbol `_` at the end of the name.\n",
    "\n",
    "| Method                       | Description                                                                                       |\n",
    "|------------------------------|---------------------------------------------------------------------------------------------------|\n",
    "| `add_`                       | Adds the input tensor to the current tensor in place.                                             |\n",
    "| `addcmul_`                   | Performs a component-wise multiplication of two tensors and adds the result to the current tensor in place. |\n",
    "| `addcdiv_`                   | Performs a component-wise division of two tensors and adds the result to the current tensor in place. |\n",
    "| `bernoulli_`                 | Applies the Bernoulli distribution to the tensor in place.                                        |\n",
    "| `bmm_`                       | Performs batch matrix multiplication in place.                                                   |\n",
    "| `clamp_`                     | Clamps all elements in the input tensor to be within the specified range, in place.              |\n",
    "| `copy_`                      | Copies data from another tensor to the current tensor in place.                                    |\n",
    "| `div_`                       | Divides the current tensor by the input tensor in place.                                          |\n",
    "| `fill_`                      | Fills the tensor with the specified value in place.                                               |\n",
    "| `flatten_`                   | Flattens the tensor to a 1D tensor in place.                                                     |\n",
    "| `index_add_`                 | Adds values to the tensor at specified indices in place.                                          |\n",
    "| `index_fill_`                | Fills the tensor at specified indices with the given value in place.                              |\n",
    "| `index_copy_`                | Copies values from another tensor into the current tensor at specified indices, in place.         |\n",
    "| `mask_fill_`                 | Fills elements of the tensor where the mask is `True` with the specified value in place.           |\n",
    "| `mask_scatter_`              | Scatters values into the tensor at indices specified by the mask in place.                        |\n",
    "| `masked_fill_`               | Fills elements of the tensor where the mask is `True` with the specified value in place.           |\n",
    "| `masked_scatter_`            | Scatters values into the tensor where the mask is `True` in place.                                 |\n",
    "| `neg_`                       | Negates the tensor's values in place.                                                             |\n",
    "| `normal_`                    | Fills the tensor with random numbers from a normal distribution in place.                         |\n",
    "| `relu_`                      | Applies the ReLU activation function in place.                                                    |\n",
    "| `renorm_`                    | Renormalizes the tensor along a specified dimension in place.                                     |\n",
    "| `scatter_`                   | Scatters values into the tensor at specified indices in place.                                    |\n",
    "| `select_`                    | Selects a sub-tensor in place (used for slicing).                                                 |\n",
    "| `set_`                       | Sets tensor values based on other tensors or values in place.                                      |\n",
    "| `sigmoid_`                   | Applies the sigmoid function in place.                                                            |\n",
    "| `softmax_`                   | Applies the softmax function in place along a specified dimension.                                |\n",
    "| `sub_`                       | Subtracts the input tensor from the current tensor in place.                                      |\n",
    "| `t_`                         | Transposes the tensor in place (2D tensors only).                                                 |\n",
    "| `transpose_`                 | Transposes the tensor along specified dimensions in place.                                        |\n",
    "| `truncate_`                  | Truncates tensor values to a specified precision in place.                                         |\n",
    "| `zero_`                      | Sets all elements of the tensor to zero in place.                                                  |\n"
   ]
  },
  {
   "cell_type": "markdown",
   "id": "2b63fbec",
   "metadata": {},
   "source": [
    "Here is an example of applying the `relu` transformation to the tensor."
   ]
  },
  {
   "cell_type": "code",
   "execution_count": 30,
   "id": "37ca162f",
   "metadata": {},
   "outputs": [
    {
     "data": {
      "text/plain": [
       "tensor([0.0000, 0.0000, 0.0000, 0.0000, 0.0000, 0.0000, 0.0000, 0.0000, 0.0000,\n",
       "        0.0000, 0.0000, 0.1000, 0.2000, 0.3000, 0.4000, 0.5000, 0.6000, 0.7000,\n",
       "        0.8000, 0.9000])"
      ]
     },
     "execution_count": 30,
     "metadata": {},
     "output_type": "execute_result"
    }
   ],
   "source": [
    "my_tensor = torch.arange(-1,1,0.1)\n",
    "my_tensor.relu_()\n",
    "my_tensor"
   ]
  }
 ],
 "metadata": {
  "kernelspec": {
   "display_name": "Python 3 (ipykernel)",
   "language": "python",
   "name": "python3"
  },
  "language_info": {
   "codemirror_mode": {
    "name": "ipython",
    "version": 3
   },
   "file_extension": ".py",
   "mimetype": "text/x-python",
   "name": "python",
   "nbconvert_exporter": "python",
   "pygments_lexer": "ipython3",
   "version": "3.10.12"
  }
 },
 "nbformat": 4,
 "nbformat_minor": 5
}
