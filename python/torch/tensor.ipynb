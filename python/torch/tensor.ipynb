{
 "cells": [
  {
   "cell_type": "markdown",
   "id": "45a3324d-a50e-4f04-ab19-713eba6b619b",
   "metadata": {},
   "source": [
    "# Tensor\n",
    "\n",
    "Here is a description of the basic data type in PyTorch: `torch.Tensor`."
   ]
  },
  {
   "cell_type": "code",
   "execution_count": 2,
   "id": "12a27590-7460-406f-819a-a5cc789f908c",
   "metadata": {},
   "outputs": [],
   "source": [
    "import torch\n",
    "import numpy as np"
   ]
  },
  {
   "cell_type": "markdown",
   "id": "23926ddf-b0be-43da-b7ad-40c83b03c280",
   "metadata": {},
   "source": [
    "## Create tensor\n",
    "\n",
    "Use class `torch.tensor` which can accept a random list as a parameter."
   ]
  },
  {
   "cell_type": "code",
   "execution_count": 7,
   "id": "e326f8b7-8ec4-4a83-8e57-f1517fec696d",
   "metadata": {},
   "outputs": [
    {
     "data": {
      "text/plain": [
       "tensor([[1., 2., 3.],\n",
       "        [3., 4., 5.]])"
      ]
     },
     "execution_count": 7,
     "metadata": {},
     "output_type": "execute_result"
    }
   ],
   "source": [
    "torch.tensor([[1,2,3], [3,4,5]], dtype = torch.float32)"
   ]
  },
  {
   "cell_type": "markdown",
   "id": "25859f2e-8d6c-4e3e-8969-8160425e531a",
   "metadata": {},
   "source": [
    "## Shape\n",
    "\n",
    "Simply refer to the `shape` attribute to get the dimensionality of the tensor. You will got `torch.Size` as the result, you can use `[]` to access values of this object."
   ]
  },
  {
   "cell_type": "code",
   "execution_count": 22,
   "id": "13c22997-71dd-48f9-9b44-1d73d342c6c1",
   "metadata": {},
   "outputs": [
    {
     "data": {
      "text/plain": [
       "torch.Size([2, 3])"
      ]
     },
     "metadata": {},
     "output_type": "display_data"
    },
    {
     "name": "stdout",
     "output_type": "stream",
     "text": [
      "rows : 2, columns: 3\n"
     ]
    }
   ],
   "source": [
    "shape_return = torch.tensor([[1,2,3], [1,2,3]]).shape\n",
    "display(shape_return)\n",
    "print(f\"rows : {shape_return[0]}, columns: {shape_return[1]}\")"
   ]
  },
  {
   "cell_type": "markdown",
   "id": "a0670440-f340-44aa-8d47-c809738334fd",
   "metadata": {},
   "source": [
    "## Random values\n",
    "\n",
    "Use `torch.rand` to get random tensor where values will follow uniform distribution from 0 to 1."
   ]
  },
  {
   "cell_type": "code",
   "execution_count": 3,
   "id": "f0ba6007-5840-4d04-be39-1bcea51138dc",
   "metadata": {},
   "outputs": [
    {
     "data": {
      "text/plain": [
       "tensor([[0.3386, 0.0154, 0.7047],\n",
       "        [0.7331, 0.9721, 0.5746],\n",
       "        [0.7657, 0.4934, 0.5701],\n",
       "        [0.6945, 0.3883, 0.5244],\n",
       "        [0.7672, 0.1538, 0.1033],\n",
       "        [0.7886, 0.6982, 0.2064],\n",
       "        [0.2538, 0.6580, 0.8651],\n",
       "        [0.6573, 0.4551, 0.3203],\n",
       "        [0.1855, 0.3056, 0.8196],\n",
       "        [0.0160, 0.9934, 0.5827]])"
      ]
     },
     "execution_count": 3,
     "metadata": {},
     "output_type": "execute_result"
    }
   ],
   "source": [
    "torch.rand(10, 3)"
   ]
  }
 ],
 "metadata": {
  "kernelspec": {
   "display_name": "Python 3 (ipykernel)",
   "language": "python",
   "name": "python3"
  },
  "language_info": {
   "codemirror_mode": {
    "name": "ipython",
    "version": 3
   },
   "file_extension": ".py",
   "mimetype": "text/x-python",
   "name": "python",
   "nbconvert_exporter": "python",
   "pygments_lexer": "ipython3",
   "version": "3.10.12"
  }
 },
 "nbformat": 4,
 "nbformat_minor": 5
}
