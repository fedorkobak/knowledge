{
 "cells": [
  {
   "cell_type": "markdown",
   "id": "45a3324d-a50e-4f04-ab19-713eba6b619b",
   "metadata": {},
   "source": [
    "# Tensor\n",
    "\n",
    "Here is a description of the basic data type in PyTorch: `torch.Tensor`."
   ]
  },
  {
   "cell_type": "code",
   "execution_count": 3,
   "id": "12a27590-7460-406f-819a-a5cc789f908c",
   "metadata": {},
   "outputs": [],
   "source": [
    "import torch"
   ]
  },
  {
   "cell_type": "markdown",
   "id": "23926ddf-b0be-43da-b7ad-40c83b03c280",
   "metadata": {},
   "source": [
    "## Create tensor\n",
    "\n",
    "Torch has tons of methods to create tensors. [This page](tensor/creating_methods.ipynb) lists the methods I know for now."
   ]
  },
  {
   "cell_type": "markdown",
   "id": "6db2803f",
   "metadata": {},
   "source": [
    "---\n",
    "\n",
    "The most **straightforward** way is to use `torch.tensor`."
   ]
  },
  {
   "cell_type": "code",
   "execution_count": null,
   "id": "5c0b0c30",
   "metadata": {},
   "outputs": [
    {
     "data": {
      "text/plain": [
       "tensor([[[ 0.0000e+00,  0.0000e+00,  1.4013e-45,  0.0000e+00,  1.4013e-45],\n",
       "         [ 0.0000e+00,  9.1084e-44,  0.0000e+00, -3.7852e+06,  3.3707e-41]],\n",
       "\n",
       "        [[-7.6466e+07,  3.3707e-41,  4.4842e-44,  0.0000e+00,  4.4842e-44],\n",
       "         [ 0.0000e+00,  6.3884e-27,  3.3703e-41,  0.0000e+00,  1.4013e-45]],\n",
       "\n",
       "        [[ 1.3004e-42,  0.0000e+00,  1.1210e-43,  0.0000e+00,  6.4326e-27],\n",
       "         [ 3.3703e-41,  4.2427e-08,  1.2964e+16,  2.1707e-18,  7.0952e+22]]])"
      ]
     },
     "metadata": {},
     "output_type": "display_data"
    }
   ],
   "source": [
    "torch.Tensor(3,2,5)"
   ]
  },
  {
   "cell_type": "markdown",
   "id": "25859f2e-8d6c-4e3e-8969-8160425e531a",
   "metadata": {},
   "source": [
    "## Dimentionality\n",
    "\n",
    "One of the most important properties of the tensor is it's dimensionality. Torch provides a set of tools to manage tensor dimensionality. Find out more on the [dedicated page](tensor/dimentionality.ipynb)."
   ]
  },
  {
   "cell_type": "markdown",
   "id": "f97ce05d",
   "metadata": {},
   "source": [
    "---\n",
    "\n",
    "The most important tools is:\n",
    "\n",
    "- `shape` attribute that contains dimentionality.\n",
    "- `reshape` method that allows to change dimentionality of the tensor.\n",
    "\n",
    "The fillowing cell shows both of them."
   ]
  },
  {
   "cell_type": "code",
   "execution_count": 10,
   "id": "757661f1",
   "metadata": {},
   "outputs": [
    {
     "name": "stdout",
     "output_type": "stream",
     "text": [
      "torch.Tensor.shape torch.Size([2, 5, 3])\n"
     ]
    },
    {
     "data": {
      "text/plain": [
       "tensor([[0., 0., 0., 0., 0.],\n",
       "        [0., 0., 0., 0., 0.],\n",
       "        [0., 0., 0., 0., 0.],\n",
       "        [0., 0., 0., 0., 0.],\n",
       "        [0., 0., 0., 0., 0.],\n",
       "        [0., 0., 0., 0., 0.]])"
      ]
     },
     "execution_count": 10,
     "metadata": {},
     "output_type": "execute_result"
    }
   ],
   "source": [
    "test_tensor = torch.zeros(2, 5, 3)\n",
    "print('torch.Tensor.shape', test_tensor.shape)\n",
    "test_tensor.reshape(6, 5)"
   ]
  },
  {
   "cell_type": "markdown",
   "id": "5c03036d",
   "metadata": {},
   "source": [
    "## Indexing\n",
    "\n",
    "Indexing in `torch` supports all the classic condepts, just like in `numpy` or `pandas`."
   ]
  },
  {
   "cell_type": "markdown",
   "id": "7d82487b",
   "metadata": {},
   "source": [
    "---\n",
    "\n",
    "As an example, consider the tensor defined in the following cell."
   ]
  },
  {
   "cell_type": "code",
   "execution_count": 50,
   "id": "5df54c31",
   "metadata": {},
   "outputs": [
    {
     "data": {
      "text/plain": [
       "tensor([[ 1,  2,  3,  4,  5],\n",
       "        [ 6,  7,  8,  9, 10],\n",
       "        [11, 12, 13, 14, 15]])"
      ]
     },
     "execution_count": 50,
     "metadata": {},
     "output_type": "execute_result"
    }
   ],
   "source": [
    "experimental = torch.arange(1,16).reshape(3,5)\n",
    "experimental"
   ]
  },
  {
   "cell_type": "markdown",
   "id": "4b3f5f15",
   "metadata": {},
   "source": [
    "You can access elements from specific dimensions in a tensor using index notation within square brackets. Simply pass the desired indexes to retrieve values from corresponding rows, columns, or other dimensions. If you want to include all elements along a particular dimension without subsampling, use the `:` operator, which signifies 'take all elements' along the specified axis. Check following example:"
   ]
  },
  {
   "cell_type": "code",
   "execution_count": 51,
   "id": "514f166f",
   "metadata": {},
   "outputs": [
    {
     "name": "stdout",
     "output_type": "stream",
     "text": [
      "row 1 tensor([ 6,  7,  8,  9, 10])\n",
      "column 3 tensor([ 4,  9, 14])\n"
     ]
    }
   ],
   "source": [
    "print(\"row 1\", experimental[1])\n",
    "print(\"column 3\", experimental[:, 3])"
   ]
  },
  {
   "cell_type": "markdown",
   "id": "69cd80a4",
   "metadata": {},
   "source": [
    "Torch indexing support slicing. The following example selects 0-th and 2-nd columns from experimental tensor."
   ]
  },
  {
   "cell_type": "code",
   "execution_count": 54,
   "id": "add7128d",
   "metadata": {},
   "outputs": [
    {
     "data": {
      "text/plain": [
       "tensor([[ 1,  3],\n",
       "        [ 6,  8],\n",
       "        [11, 13]])"
      ]
     },
     "execution_count": 54,
     "metadata": {},
     "output_type": "execute_result"
    }
   ],
   "source": [
    "experimental[:, 0:4:2]"
   ]
  },
  {
   "cell_type": "markdown",
   "id": "20b28ef2",
   "metadata": {},
   "source": [
    "It is also possible to **use iterable objects** to select subtensors from the original tensor. The following example demonstrates using a `list` to select the second and third rows from the end of the tensor."
   ]
  },
  {
   "cell_type": "code",
   "execution_count": 73,
   "id": "020a62e8",
   "metadata": {},
   "outputs": [
    {
     "data": {
      "text/plain": [
       "tensor([[ 6,  7,  8,  9, 10],\n",
       "        [ 1,  2,  3,  4,  5]])"
      ]
     },
     "execution_count": 73,
     "metadata": {},
     "output_type": "execute_result"
    }
   ],
   "source": [
    "experimental[[-2,-3]]"
   ]
  },
  {
   "cell_type": "markdown",
   "id": "9fd1ce77",
   "metadata": {},
   "source": [
    "Using `None` in indexing allows you to add new dimensions to the tensor. For example, consider extracting the 1st column from the tensor `experimental`. By adding `None` at the end of the indexing, you transform the output into a one-row matrix. This effectively reshapes the tensor, changing its dimensionality and shape."
   ]
  },
  {
   "cell_type": "code",
   "execution_count": 65,
   "id": "a8deecdd",
   "metadata": {},
   "outputs": [
    {
     "data": {
      "text/plain": [
       "tensor([[ 6,  7,  8,  9, 10]])"
      ]
     },
     "execution_count": 65,
     "metadata": {},
     "output_type": "execute_result"
    }
   ],
   "source": [
    "experimental[1, None]"
   ]
  },
  {
   "cell_type": "markdown",
   "id": "289a6ae7",
   "metadata": {},
   "source": [
    "## Algebraic operations\n",
    "\n",
    "The following table lists algebraic operations on `torch.Tensor`.\n",
    "\n",
    "| **Operation**                 | **Function**                  | **Description**                           |\n",
    "|-------------------------------|-------------------------------|-------------------------------------------|\n",
    "| Matrix Multiplication         | `torch.matmul()`              | Matrix multiplication                    |\n",
    "|                               | `tensor1 @ tensor2`           | Matrix multiplication using `@` operator |\n",
    "| Singular Value Decomposition  | `torch.svd()`                 | Singular Value Decomposition (SVD)        |\n",
    "|                               | `torch.linalg.svd()`          | SVD with advanced options                |\n",
    "| Eigenvalues and Eigenvectors  | `torch.eig()`                 | Compute eigenvalues and eigenvectors     |\n",
    "|                               | `torch.linalg.eig()`          | Eigenvalues and eigenvectors (advanced)  |\n",
    "| Matrix Inversion              | `torch.linalg.inv()`          | Matrix inversion                          |\n",
    "|                               | `torch.inverse()`             | Matrix inversion (deprecated)            |\n",
    "| Matrix Norms                  | `torch.norm()`                | Compute the norm of a tensor             |\n",
    "|                               | `torch.linalg.norm()`         | Norm with advanced options               |\n",
    "| Determinants                  | `torch.det()`                 | Compute the determinant of a matrix       |\n",
    "|                               | `torch.linalg.det()`          | Determinant with advanced options        |\n",
    "| Matrix Trace                  | `torch.trace()`               | Compute the trace of a matrix            |\n",
    "| Eigenvalues                   | `torch.linalg.eigvals()`      | Compute eigenvalues of a square matrix   |\n",
    "| Matrix Rank                   | `torch.linalg.matrix_rank()`  | Compute the rank of a matrix             |\n",
    "| Cholesky Decomposition        | `torch.linalg.cholesky()`     | Cholesky decomposition                    |\n",
    "| QR Decomposition              | `torch.linalg.qr()`           | QR decomposition                          |\n",
    "| Solving Linear Systems        | `torch.linalg.solve()`        | Solve a system of linear equations       |\n",
    "|                               | `torch.linalg.lstsq()`        | Solve a least-squares problem            |\n",
    "| Kronecker Product             | `torch.kron()`                | Compute the Kronecker product             |"
   ]
  },
  {
   "cell_type": "markdown",
   "id": "a5bc4a79",
   "metadata": {},
   "source": [
    "## Data type\n",
    "\n",
    "Torch has it's own system of data types. Here is a table that describes the available datatypes.\n",
    "\n",
    "\n",
    "| Type       | Description                                |\n",
    "|------------|--------------------------------------------|\n",
    "| `torch.float16` / `torch.half`  | 16-bit half precision (floating point)       |\n",
    "| `torch.float32` / `torch.float` | 32-bit single precision (floating point)     |\n",
    "| `torch.float64` / `torch.double`| 64-bit double precision (floating point)     |\n",
    "| `torch.int8`                    | 8-bit integer                                |\n",
    "| `torch.int16` / `torch.short`   | 16-bit integer                               |\n",
    "| `torch.int32` / `torch.int`     | 32-bit integer                               |\n",
    "| `torch.int64` / `torch.long`    | 64-bit integer                               |\n",
    "| `torch.uint8`                   | 8-bit unsigned integer                       |\n",
    "| `torch.bool`                    | Boolean type                                 |\n",
    "| `torch.complex64`               | 64-bit complex number (32-bit real and imaginary) |\n",
    "| `torch.complex128`              | 128-bit complex number (64-bit real and imaginary) |\n"
   ]
  },
  {
   "cell_type": "markdown",
   "id": "ec44a79f",
   "metadata": {},
   "source": [
    "---\n",
    "\n",
    "You can get type of the tensor by using `dtype` field."
   ]
  },
  {
   "cell_type": "code",
   "execution_count": 15,
   "id": "c8009c70",
   "metadata": {},
   "outputs": [
    {
     "data": {
      "text/plain": [
       "torch.float32"
      ]
     },
     "execution_count": 15,
     "metadata": {},
     "output_type": "execute_result"
    }
   ],
   "source": [
    "torch.Tensor(3, 3).dtype"
   ]
  },
  {
   "cell_type": "markdown",
   "id": "2737ced4",
   "metadata": {},
   "source": [
    "**Note** there are some functions in torch that have `dtype` parameter. By passing special torch objects as `dtype` arguments, we can get tensors of the specific dtype."
   ]
  },
  {
   "cell_type": "code",
   "execution_count": 16,
   "id": "a99e6f55",
   "metadata": {},
   "outputs": [
    {
     "data": {
      "text/plain": [
       "tensor([1., 2., 3.], dtype=torch.float16)"
      ]
     },
     "execution_count": 16,
     "metadata": {},
     "output_type": "execute_result"
    }
   ],
   "source": [
    "torch.tensor([1,2,3], dtype=torch.float16)"
   ]
  },
  {
   "cell_type": "code",
   "execution_count": 18,
   "id": "53bb9f4e",
   "metadata": {},
   "outputs": [
    {
     "data": {
      "text/plain": [
       "tensor([[0., 0., 0.],\n",
       "        [0., 0., 0.],\n",
       "        [0., 0., 0.]], dtype=torch.float16)"
      ]
     },
     "execution_count": 18,
     "metadata": {},
     "output_type": "execute_result"
    }
   ],
   "source": [
    "torch.zeros((3,3), dtype=torch.float16)"
   ]
  },
  {
   "cell_type": "markdown",
   "id": "3d89807c",
   "metadata": {},
   "source": [
    "## Inplace methods\n",
    "\n",
    "Some methods of `torch.Tensor` allow you to change the value of the tensor on the fly. It's typical for such methods to have the underscore symbol `_` at the end of the name.\n",
    "\n",
    "| Method                       | Description                                                                                       |\n",
    "|------------------------------|---------------------------------------------------------------------------------------------------|\n",
    "| `add_`                       | Adds the input tensor to the current tensor in place.                                             |\n",
    "| `addcmul_`                   | Performs a component-wise multiplication of two tensors and adds the result to the current tensor in place. |\n",
    "| `addcdiv_`                   | Performs a component-wise division of two tensors and adds the result to the current tensor in place. |\n",
    "| `bernoulli_`                 | Applies the Bernoulli distribution to the tensor in place.                                        |\n",
    "| `bmm_`                       | Performs batch matrix multiplication in place.                                                   |\n",
    "| `clamp_`                     | Clamps all elements in the input tensor to be within the specified range, in place.              |\n",
    "| `copy_`                      | Copies data from another tensor to the current tensor in place.                                    |\n",
    "| `div_`                       | Divides the current tensor by the input tensor in place.                                          |\n",
    "| `fill_`                      | Fills the tensor with the specified value in place.                                               |\n",
    "| `flatten_`                   | Flattens the tensor to a 1D tensor in place.                                                     |\n",
    "| `index_add_`                 | Adds values to the tensor at specified indices in place.                                          |\n",
    "| `index_fill_`                | Fills the tensor at specified indices with the given value in place.                              |\n",
    "| `index_copy_`                | Copies values from another tensor into the current tensor at specified indices, in place.         |\n",
    "| `mask_fill_`                 | Fills elements of the tensor where the mask is `True` with the specified value in place.           |\n",
    "| `mask_scatter_`              | Scatters values into the tensor at indices specified by the mask in place.                        |\n",
    "| `masked_fill_`               | Fills elements of the tensor where the mask is `True` with the specified value in place.           |\n",
    "| `masked_scatter_`            | Scatters values into the tensor where the mask is `True` in place.                                 |\n",
    "| `neg_`                       | Negates the tensor's values in place.                                                             |\n",
    "| `normal_`                    | Fills the tensor with random numbers from a normal distribution in place.                         |\n",
    "| `relu_`                      | Applies the ReLU activation function in place.                                                    |\n",
    "| `renorm_`                    | Renormalizes the tensor along a specified dimension in place.                                     |\n",
    "| `scatter_`                   | Scatters values into the tensor at specified indices in place.                                    |\n",
    "| `select_`                    | Selects a sub-tensor in place (used for slicing).                                                 |\n",
    "| `set_`                       | Sets tensor values based on other tensors or values in place.                                      |\n",
    "| `sigmoid_`                   | Applies the sigmoid function in place.                                                            |\n",
    "| `softmax_`                   | Applies the softmax function in place along a specified dimension.                                |\n",
    "| `sub_`                       | Subtracts the input tensor from the current tensor in place.                                      |\n",
    "| `t_`                         | Transposes the tensor in place (2D tensors only).                                                 |\n",
    "| `transpose_`                 | Transposes the tensor along specified dimensions in place.                                        |\n",
    "| `truncate_`                  | Truncates tensor values to a specified precision in place.                                         |\n",
    "| `zero_`                      | Sets all elements of the tensor to zero in place.                                                  |\n"
   ]
  },
  {
   "cell_type": "markdown",
   "id": "2b63fbec",
   "metadata": {},
   "source": [
    "Here is an example of applying the `relu` transformation to the tensor."
   ]
  },
  {
   "cell_type": "code",
   "execution_count": 30,
   "id": "37ca162f",
   "metadata": {},
   "outputs": [
    {
     "data": {
      "text/plain": [
       "tensor([0.0000, 0.0000, 0.0000, 0.0000, 0.0000, 0.0000, 0.0000, 0.0000, 0.0000,\n",
       "        0.0000, 0.0000, 0.1000, 0.2000, 0.3000, 0.4000, 0.5000, 0.6000, 0.7000,\n",
       "        0.8000, 0.9000])"
      ]
     },
     "execution_count": 30,
     "metadata": {},
     "output_type": "execute_result"
    }
   ],
   "source": [
    "my_tensor = torch.arange(-1,1,0.1)\n",
    "my_tensor.relu_()\n",
    "my_tensor"
   ]
  }
 ],
 "metadata": {
  "kernelspec": {
   "display_name": "Python 3 (ipykernel)",
   "language": "python",
   "name": "python3"
  },
  "language_info": {
   "codemirror_mode": {
    "name": "ipython",
    "version": 3
   },
   "file_extension": ".py",
   "mimetype": "text/x-python",
   "name": "python",
   "nbconvert_exporter": "python",
   "pygments_lexer": "ipython3",
   "version": "3.10.14"
  }
 },
 "nbformat": 4,
 "nbformat_minor": 5
}
