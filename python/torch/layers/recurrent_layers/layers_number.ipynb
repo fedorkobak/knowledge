{
 "cells": [
  {
   "cell_type": "markdown",
   "metadata": {},
   "source": [
    "# Layers number"
   ]
  },
  {
   "cell_type": "code",
   "execution_count": null,
   "metadata": {},
   "outputs": [],
   "source": [
    "sequence_len = 3\n",
    "batch_size = 3\n",
    "input_size = 2\n",
    "hidden_size = 3\n",
    "input = torch.randn(sequence_len, batch_size, rnn.input_size)"
   ]
  },
  {
   "cell_type": "code",
   "execution_count": null,
   "metadata": {},
   "outputs": [
    {
     "name": "stdout",
     "output_type": "stream",
     "text": [
      "tensor([[[-0.8018,  0.6992,  0.4182],\n",
      "         [-0.7160,  0.5811,  0.5767],\n",
      "         [-0.6444,  0.4093,  0.6548]],\n",
      "\n",
      "        [[-0.1987,  0.7565,  0.4025],\n",
      "         [-0.3099,  0.8047,  0.3080],\n",
      "         [-0.0624,  0.7300,  0.6127]],\n",
      "\n",
      "        [[-0.7026,  0.8443, -0.1058],\n",
      "         [-0.1183,  0.6535,  0.6229],\n",
      "         [-0.7327,  0.8932, -0.1795]]], grad_fn=<StackBackward0>)\n",
      "tensor([[[-0.8018,  0.6992,  0.4182],\n",
      "         [-0.7160,  0.5811,  0.5767],\n",
      "         [-0.6444,  0.4093,  0.6548]],\n",
      "\n",
      "        [[-0.1987,  0.7565,  0.4025],\n",
      "         [-0.3099,  0.8047,  0.3080],\n",
      "         [-0.0624,  0.7300,  0.6127]],\n",
      "\n",
      "        [[-0.7026,  0.8443, -0.1058],\n",
      "         [-0.1183,  0.6535,  0.6229],\n",
      "         [-0.7327,  0.8932, -0.1795]]], grad_fn=<StackBackward0>)\n"
     ]
    }
   ],
   "source": [
    "rnn = RNN(\n",
    "    input_size=input_size, \n",
    "    hidden_size=hidden_size, \n",
    "    num_layers=2\n",
    ")\n",
    "print(rnn(input)[0])\n",
    "\n",
    "\n",
    "rnn1 = RNN(input_size=input_size, hidden_size=hidden_size)\n",
    "rnn1.weight_ih_l0 = rnn.weight_ih_l0\n",
    "rnn1.bias_ih_l0 = rnn.bias_ih_l0\n",
    "rnn1.weight_hh_l0 = rnn.weight_hh_l0\n",
    "rnn1.bias_hh_l0 = rnn.bias_hh_l0\n",
    "rnn2 = RNN(input_size=hidden_size, hidden_size=hidden_size)\n",
    "rnn2.weight_ih_l0 = rnn.weight_ih_l1\n",
    "rnn2.bias_ih_l0 = rnn.bias_ih_l1\n",
    "rnn2.weight_hh_l0 = rnn.weight_hh_l1\n",
    "rnn2.bias_hh_l0 = rnn.bias_hh_l1\n",
    "print(rnn2(rnn1(input)[0])[0])"
   ]
  },
  {
   "cell_type": "code",
   "execution_count": null,
   "metadata": {},
   "outputs": [
    {
     "data": {
      "text/plain": [
       "torch.Size([10, 10])"
      ]
     },
     "metadata": {},
     "output_type": "display_data"
    },
    {
     "data": {
      "text/plain": [
       "torch.Size([10, 10])"
      ]
     },
     "metadata": {},
     "output_type": "display_data"
    },
    {
     "data": {
      "text/plain": [
       "torch.Size([10, 10])"
      ]
     },
     "metadata": {},
     "output_type": "display_data"
    }
   ],
   "source": [
    "display(rnn.weight_hh_l0.shape)\n",
    "display(rnn.weight_hh_l1.shape)\n",
    "display(rnn.weight_hh_l2.shape)"
   ]
  },
  {
   "cell_type": "code",
   "execution_count": null,
   "metadata": {},
   "outputs": [
    {
     "data": {
      "text/plain": [
       "torch.Size([10, 2])"
      ]
     },
     "metadata": {},
     "output_type": "display_data"
    },
    {
     "data": {
      "text/plain": [
       "torch.Size([10, 10])"
      ]
     },
     "metadata": {},
     "output_type": "display_data"
    },
    {
     "data": {
      "text/plain": [
       "torch.Size([10, 10])"
      ]
     },
     "metadata": {},
     "output_type": "display_data"
    }
   ],
   "source": [
    "display(rnn.weight_ih_l0.shape)\n",
    "display(rnn.weight_ih_l1.shape)\n",
    "display(rnn.weight_ih_l2.shape)"
   ]
  },
  {
   "cell_type": "code",
   "execution_count": null,
   "metadata": {},
   "outputs": [],
   "source": [
    "def forward(\n",
    "    x: torch.Tensor, \n",
    "    hidden_size: int, \n",
    "    weight_ih: list[torch.Tensor], \n",
    "    bias_ih: list[torch.Tensor], \n",
    "    weight_hh: list[torch.Tensor], \n",
    "    bias_hh: list[torch.Tensor], \n",
    "    num_layers=1\n",
    "):\n",
    "    seq_len, batch_size, _ = x.size()\n",
    "    h_0 = torch.zeros(num_layers, batch_size, hidden_size)\n",
    "    h_t_minus_1 = h_0\n",
    "    h_t = h_0\n",
    "    output = []\n",
    "    for t in range(seq_len):\n",
    "        print(\"=\"*80)\n",
    "        display(Latex(f\"Processing $x_{{{t}}}$ elemnt of sequence.\"))\n",
    "        for layer in range(num_layers):\n",
    "            print(layer)\n",
    "            print(t)\n",
    "            h_t[layer] = torch.tanh(\n",
    "                x[t] @ weight_ih[layer].T\n",
    "                + bias_ih[layer]\n",
    "                + h_t_minus_1[layer] @ weight_hh[layer].T\n",
    "                + bias_hh[layer]\n",
    "            )\n",
    "            display(Latex(\"$x_i$\"))\n",
    "        output.append(h_t[-1].clone())\n",
    "        h_t_minus_1 = h_t\n",
    "    output = torch.stack(output)\n",
    "    return output, h_t"
   ]
  },
  {
   "cell_type": "code",
   "execution_count": null,
   "metadata": {},
   "outputs": [
    {
     "name": "stdout",
     "output_type": "stream",
     "text": [
      "================================================================================\n"
     ]
    },
    {
     "data": {
      "text/latex": [
       "Processing $x_{0}$ elemnt of sequence."
      ],
      "text/plain": [
       "<IPython.core.display.Latex object>"
      ]
     },
     "metadata": {},
     "output_type": "display_data"
    },
    {
     "name": "stdout",
     "output_type": "stream",
     "text": [
      "0\n",
      "0\n"
     ]
    },
    {
     "data": {
      "text/latex": [
       "$x_i$"
      ],
      "text/plain": [
       "<IPython.core.display.Latex object>"
      ]
     },
     "metadata": {},
     "output_type": "display_data"
    },
    {
     "name": "stdout",
     "output_type": "stream",
     "text": [
      "1\n",
      "0\n"
     ]
    },
    {
     "ename": "RuntimeError",
     "evalue": "mat1 and mat2 shapes cannot be multiplied (10x2 and 10x10)",
     "output_type": "error",
     "traceback": [
      "\u001b[0;31m---------------------------------------------------------------------------\u001b[0m\n",
      "\u001b[0;31mRuntimeError\u001b[0m                              Traceback (most recent call last)\n",
      "Cell \u001b[0;32mIn[48], line 6\u001b[0m\n",
      "\u001b[1;32m      3\u001b[0m bias_hh \u001b[38;5;241m=\u001b[39m [rnn\u001b[38;5;241m.\u001b[39mbias_hh_l0, rnn\u001b[38;5;241m.\u001b[39mbias_hh_l1, rnn\u001b[38;5;241m.\u001b[39mbias_hh_l2]\n",
      "\u001b[1;32m      4\u001b[0m bias_ih \u001b[38;5;241m=\u001b[39m [rnn\u001b[38;5;241m.\u001b[39mbias_ih_l0, rnn\u001b[38;5;241m.\u001b[39mbias_ih_l1, rnn\u001b[38;5;241m.\u001b[39mbias_ih_l2]\n",
      "\u001b[0;32m----> 6\u001b[0m \u001b[43mforward\u001b[49m\u001b[43m(\u001b[49m\n",
      "\u001b[1;32m      7\u001b[0m \u001b[43m    \u001b[49m\u001b[43mx\u001b[49m\u001b[38;5;241;43m=\u001b[39;49m\u001b[38;5;28;43minput\u001b[39;49m\u001b[43m,\u001b[49m\n",
      "\u001b[1;32m      8\u001b[0m \u001b[43m    \u001b[49m\u001b[43mhidden_size\u001b[49m\u001b[38;5;241;43m=\u001b[39;49m\u001b[43mrnn\u001b[49m\u001b[38;5;241;43m.\u001b[39;49m\u001b[43mhidden_size\u001b[49m\u001b[43m,\u001b[49m\n",
      "\u001b[1;32m      9\u001b[0m \u001b[43m    \u001b[49m\u001b[43mweight_ih\u001b[49m\u001b[38;5;241;43m=\u001b[39;49m\u001b[43mweight_ih\u001b[49m\u001b[43m,\u001b[49m\n",
      "\u001b[1;32m     10\u001b[0m \u001b[43m    \u001b[49m\u001b[43mbias_ih\u001b[49m\u001b[38;5;241;43m=\u001b[39;49m\u001b[43mbias_ih\u001b[49m\u001b[43m,\u001b[49m\n",
      "\u001b[1;32m     11\u001b[0m \u001b[43m    \u001b[49m\u001b[43mweight_hh\u001b[49m\u001b[38;5;241;43m=\u001b[39;49m\u001b[43mweight_hh\u001b[49m\u001b[43m,\u001b[49m\n",
      "\u001b[1;32m     12\u001b[0m \u001b[43m    \u001b[49m\u001b[43mbias_hh\u001b[49m\u001b[38;5;241;43m=\u001b[39;49m\u001b[43mbias_hh\u001b[49m\u001b[43m,\u001b[49m\n",
      "\u001b[1;32m     13\u001b[0m \u001b[43m    \u001b[49m\u001b[43mnum_layers\u001b[49m\u001b[38;5;241;43m=\u001b[39;49m\u001b[43mrnn\u001b[49m\u001b[38;5;241;43m.\u001b[39;49m\u001b[43mnum_layers\u001b[49m\n",
      "\u001b[1;32m     14\u001b[0m \u001b[43m)\u001b[49m\n",
      "\n",
      "Cell \u001b[0;32mIn[46], line 22\u001b[0m, in \u001b[0;36mforward\u001b[0;34m(x, hidden_size, weight_ih, bias_ih, weight_hh, bias_hh, num_layers)\u001b[0m\n",
      "\u001b[1;32m     19\u001b[0m     \u001b[38;5;28mprint\u001b[39m(layer)\n",
      "\u001b[1;32m     20\u001b[0m     \u001b[38;5;28mprint\u001b[39m(t)\n",
      "\u001b[1;32m     21\u001b[0m     h_t[layer] \u001b[38;5;241m=\u001b[39m torch\u001b[38;5;241m.\u001b[39mtanh(\n",
      "\u001b[0;32m---> 22\u001b[0m         \u001b[43mx\u001b[49m\u001b[43m[\u001b[49m\u001b[43mt\u001b[49m\u001b[43m]\u001b[49m\u001b[43m \u001b[49m\u001b[38;5;241;43m@\u001b[39;49m\u001b[43m \u001b[49m\u001b[43mweight_ih\u001b[49m\u001b[43m[\u001b[49m\u001b[43mlayer\u001b[49m\u001b[43m]\u001b[49m\u001b[38;5;241;43m.\u001b[39;49m\u001b[43mT\u001b[49m\n",
      "\u001b[1;32m     23\u001b[0m         \u001b[38;5;241m+\u001b[39m bias_ih[layer]\n",
      "\u001b[1;32m     24\u001b[0m         \u001b[38;5;241m+\u001b[39m h_t_minus_1[layer] \u001b[38;5;241m@\u001b[39m weight_hh[layer]\u001b[38;5;241m.\u001b[39mT\n",
      "\u001b[1;32m     25\u001b[0m         \u001b[38;5;241m+\u001b[39m bias_hh[layer]\n",
      "\u001b[1;32m     26\u001b[0m     )\n",
      "\u001b[1;32m     27\u001b[0m     display(Latex(\u001b[38;5;124m\"\u001b[39m\u001b[38;5;124m$x_i$\u001b[39m\u001b[38;5;124m\"\u001b[39m))\n",
      "\u001b[1;32m     28\u001b[0m output\u001b[38;5;241m.\u001b[39mappend(h_t[\u001b[38;5;241m-\u001b[39m\u001b[38;5;241m1\u001b[39m]\u001b[38;5;241m.\u001b[39mclone())\n",
      "\n",
      "\u001b[0;31mRuntimeError\u001b[0m: mat1 and mat2 shapes cannot be multiplied (10x2 and 10x10)"
     ]
    }
   ],
   "source": [
    "weight_hh = [rnn.weight_hh_l0, rnn.weight_hh_l1, rnn.weight_hh_l2]\n",
    "weight_ih = [rnn.weight_ih_l0, rnn.weight_ih_l1, rnn.weight_ih_l2]\n",
    "bias_hh = [rnn.bias_hh_l0, rnn.bias_hh_l1, rnn.bias_hh_l2]\n",
    "bias_ih = [rnn.bias_ih_l0, rnn.bias_ih_l1, rnn.bias_ih_l2]\n",
    "\n",
    "forward(\n",
    "    x=input,\n",
    "    hidden_size=rnn.hidden_size,\n",
    "    weight_ih=weight_ih,\n",
    "    bias_ih=bias_ih,\n",
    "    weight_hh=weight_hh,\n",
    "    bias_hh=bias_hh,\n",
    "    num_layers=rnn.num_layers\n",
    ")"
   ]
  }
 ],
 "metadata": {
  "language_info": {
   "name": "python"
  }
 },
 "nbformat": 4,
 "nbformat_minor": 2
}
