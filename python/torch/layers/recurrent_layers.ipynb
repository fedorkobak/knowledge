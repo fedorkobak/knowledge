{
 "cells": [
  {
   "cell_type": "markdown",
   "metadata": {},
   "source": [
    "# Recurrent layers\n",
    "\n",
    "This page considers relasilation of the recurent layers in torch. Find out more at the [specific page](https://pytorch.org/docs/stable/generated/torch.nn.RNN.html) of the torch documentation."
   ]
  },
  {
   "cell_type": "code",
   "execution_count": 1,
   "metadata": {},
   "outputs": [],
   "source": [
    "import torch\n",
    "from torch.nn import RNN\n",
    "from IPython.display import Latex"
   ]
  },
  {
   "cell_type": "markdown",
   "metadata": {},
   "source": [
    "## Equivalent realisation\n",
    "\n",
    "On the [RNN](https://pytorch.org/docs/stable/generated/torch.nn.RNN.html) page of the PyTorch documentation, you can find a function that implements a transformation equivalent to `torch.nn.RNN`. To explore different parameters of the recurrent layer, it's convenient to have a function that we can modify to gain a better understanding. This section consider how basic version of this function can be used."
   ]
  },
  {
   "cell_type": "markdown",
   "metadata": {},
   "source": [
    "---\n",
    "\n",
    "The following cell shows a modification of this function that takes only parts of the transformation as parameters, making it more convenient."
   ]
  },
  {
   "cell_type": "code",
   "execution_count": 84,
   "metadata": {},
   "outputs": [],
   "source": [
    "def forward(\n",
    "    x: torch.Tensor,\n",
    "    hidden_size: int,\n",
    "    weight_ih: list[torch.Tensor],\n",
    "    bias_ih: list[torch.Tensor],\n",
    "    weight_hh: list[torch.Tensor],\n",
    "    bias_hh: list[torch.Tensor],\n",
    "    h_0 : torch.Tensor | None = None,\n",
    "    num_layers: int = 1,\n",
    "    batch_first: bool = False\n",
    "):\n",
    "    if batch_first:\n",
    "        x = x.transpose(0, 1)\n",
    "    seq_len, batch_size, _ = x.size()\n",
    "    if h_0 is None:\n",
    "        h_0 = torch.zeros(num_layers, batch_size, hidden_size)\n",
    "    h_t_minus_1 = h_0\n",
    "    h_t = h_0\n",
    "    output = []\n",
    "    for t in range(seq_len):\n",
    "        for layer in range(num_layers):\n",
    "            h_t[layer] = torch.tanh(\n",
    "                x[t] @ weight_ih[layer].T\n",
    "                + bias_ih[layer]\n",
    "                + h_t_minus_1[layer] @ weight_hh[layer].T\n",
    "                + bias_hh[layer]\n",
    "            )\n",
    "        output.append(h_t[-1].clone())\n",
    "        h_t_minus_1 = h_t\n",
    "    output = torch.stack(output)\n",
    "    if batch_first:\n",
    "        output = output.transpose(0, 1)\n",
    "    return output, h_t"
   ]
  },
  {
   "cell_type": "markdown",
   "metadata": {},
   "source": [
    "Following code creates `RNN` layer and typical input for it:"
   ]
  },
  {
   "cell_type": "code",
   "execution_count": 85,
   "metadata": {},
   "outputs": [],
   "source": [
    "sequence_len = 4\n",
    "batch_size = 5\n",
    "\n",
    "rnn = RNN(input_size=2, hidden_size=3)\n",
    "x = torch.randn(sequence_len, batch_size, rnn.input_size)"
   ]
  },
  {
   "cell_type": "markdown",
   "metadata": {},
   "source": [
    "To use custom `forward`, you must pass weights as lists (there may be more than one layer under `torch.nn.RNN`), and all other parameters of the layer."
   ]
  },
  {
   "cell_type": "code",
   "execution_count": 90,
   "metadata": {},
   "outputs": [],
   "source": [
    "function_out = forward(\n",
    "    x=x,\n",
    "    hidden_size=rnn.hidden_size,\n",
    "    weight_ih=[rnn.weight_ih_l0],\n",
    "    bias_ih=[rnn.bias_ih_l0],\n",
    "    weight_hh=[rnn.weight_hh_l0],\n",
    "    bias_hh=[rnn.bias_hh_l0]\n",
    ")\n",
    "\n",
    "layer_out = rnn(x)"
   ]
  },
  {
   "cell_type": "markdown",
   "metadata": {},
   "source": [
    "The following cell shows that the results of the custom realization and `torch.nn.RNN` are the same."
   ]
  },
  {
   "cell_type": "code",
   "execution_count": 94,
   "metadata": {},
   "outputs": [],
   "source": [
    "torch.testing.assert_close(\n",
    "    actual=function_out[0],\n",
    "    expected=layer_out[0]\n",
    ")\n",
    "torch.testing.assert_close(\n",
    "    actual=function_out[1],\n",
    "    expected=layer_out[1]\n",
    ")"
   ]
  },
  {
   "cell_type": "markdown",
   "metadata": {},
   "source": [
    "## Batch dimention\n",
    "\n",
    "By default `torch.nn.RNN` is supposed to work on tensors with dimensionality $(L, N, H_{in})$, which can be considered as **sequence of batches**. But there is `batch_first` parameter which makes `torch.nn.RNN` layer to work with dimensionality $(N, L, H_{in})$, so it can be considered as **batch of sequences** - which actually is convenied in most of the cases.\n",
    "\n",
    "Here:\n",
    "\n",
    "- $L$: lenght of the seuqnce.\n",
    "- $N$: batch size.\n",
    "- $H_{in}$: dimentionality of the element of the sequence."
   ]
  },
  {
   "cell_type": "markdown",
   "metadata": {},
   "source": [
    "---\n",
    "\n",
    "Consider the difference using the tensor generated in the next cell:"
   ]
  },
  {
   "cell_type": "code",
   "execution_count": 11,
   "metadata": {},
   "outputs": [],
   "source": [
    "X = torch.empty(5, 7, 3)"
   ]
  },
  {
   "cell_type": "markdown",
   "metadata": {},
   "source": [
    "By default we got last state for 7 items in batch."
   ]
  },
  {
   "cell_type": "code",
   "execution_count": 14,
   "metadata": {},
   "outputs": [
    {
     "data": {
      "text/plain": [
       "torch.Size([1, 7, 10])"
      ]
     },
     "execution_count": 14,
     "metadata": {},
     "output_type": "execute_result"
    }
   ],
   "source": [
    "rnn = RNN(input_size=3, hidden_size=10)\n",
    "rnn(X)[1].shape"
   ]
  },
  {
   "cell_type": "markdown",
   "metadata": {},
   "source": [
    "But the same code, with only difference in the `batch_first=True` argument, resulted in last state for 5 items in batch."
   ]
  },
  {
   "cell_type": "code",
   "execution_count": 13,
   "metadata": {},
   "outputs": [
    {
     "data": {
      "text/plain": [
       "torch.Size([1, 5, 10])"
      ]
     },
     "execution_count": 13,
     "metadata": {},
     "output_type": "execute_result"
    }
   ],
   "source": [
    "rnn = RNN(input_size=3, hidden_size=10, batch_first=True)\n",
    "rnn(X)[1].shape"
   ]
  },
  {
   "cell_type": "markdown",
   "metadata": {},
   "source": [
    "## Layers number"
   ]
  },
  {
   "cell_type": "code",
   "execution_count": 2,
   "metadata": {},
   "outputs": [],
   "source": [
    "rnn = RNN(input_size=2, hidden_size=10, num_layers=4)\n",
    "input = torch.randn(3, 10, rnn.input_size)"
   ]
  },
  {
   "cell_type": "code",
   "execution_count": 3,
   "metadata": {},
   "outputs": [
    {
     "data": {
      "text/plain": [
       "torch.Size([10, 10])"
      ]
     },
     "metadata": {},
     "output_type": "display_data"
    },
    {
     "data": {
      "text/plain": [
       "torch.Size([10, 10])"
      ]
     },
     "metadata": {},
     "output_type": "display_data"
    },
    {
     "data": {
      "text/plain": [
       "torch.Size([10, 10])"
      ]
     },
     "metadata": {},
     "output_type": "display_data"
    }
   ],
   "source": [
    "display(rnn.weight_hh_l0.shape)\n",
    "display(rnn.weight_hh_l1.shape)\n",
    "display(rnn.weight_hh_l2.shape)"
   ]
  },
  {
   "cell_type": "code",
   "execution_count": 4,
   "metadata": {},
   "outputs": [
    {
     "data": {
      "text/plain": [
       "torch.Size([10, 2])"
      ]
     },
     "metadata": {},
     "output_type": "display_data"
    },
    {
     "data": {
      "text/plain": [
       "torch.Size([10, 10])"
      ]
     },
     "metadata": {},
     "output_type": "display_data"
    },
    {
     "data": {
      "text/plain": [
       "torch.Size([10, 10])"
      ]
     },
     "metadata": {},
     "output_type": "display_data"
    }
   ],
   "source": [
    "display(rnn.weight_ih_l0.shape)\n",
    "display(rnn.weight_ih_l1.shape)\n",
    "display(rnn.weight_ih_l2.shape)"
   ]
  },
  {
   "cell_type": "code",
   "execution_count": 7,
   "metadata": {},
   "outputs": [],
   "source": [
    "def forward(\n",
    "    x, \n",
    "    hidden_size, \n",
    "    weight_ih: list[torch.Tensor], \n",
    "    bias_ih: list[torch.Tensor], \n",
    "    weight_hh: list[torch.Tensor], \n",
    "    bias_hh: list[torch.Tensor], \n",
    "    num_layers=1\n",
    "):\n",
    "    seq_len, batch_size, _ = x.size()\n",
    "    h_0 = torch.zeros(num_layers, batch_size, hidden_size)\n",
    "    h_t_minus_1 = h_0\n",
    "    h_t = h_0\n",
    "    output = []\n",
    "    for t in range(seq_len):\n",
    "        print(\"=\"*80)\n",
    "        display(Latex(f\"Processing $x_{{{t}}}$ elemnt of sequence.\"))\n",
    "        for layer in range(num_layers):\n",
    "            h_t[layer] = torch.tanh(\n",
    "                x[t] @ weight_ih[layer]\n",
    "                + bias_ih[layer]\n",
    "                + h_t_minus_1[layer] @ weight_hh[layer]\n",
    "                + bias_hh[layer]\n",
    "            )\n",
    "            display(Latex(\"$x_i$\"))\n",
    "        output.append(h_t[-1])\n",
    "        h_t_minus_1 = h_t\n",
    "    output = torch.stack(output)\n",
    "    return output, h_t"
   ]
  },
  {
   "cell_type": "code",
   "execution_count": 8,
   "metadata": {},
   "outputs": [
    {
     "name": "stdout",
     "output_type": "stream",
     "text": [
      "================================================================================\n"
     ]
    },
    {
     "data": {
      "text/latex": [
       "Processing $x_{0}$ elemnt of sequence."
      ],
      "text/plain": [
       "<IPython.core.display.Latex object>"
      ]
     },
     "metadata": {},
     "output_type": "display_data"
    },
    {
     "ename": "RuntimeError",
     "evalue": "mat1 and mat2 shapes cannot be multiplied (10x2 and 10x2)",
     "output_type": "error",
     "traceback": [
      "\u001b[0;31m---------------------------------------------------------------------------\u001b[0m",
      "\u001b[0;31mRuntimeError\u001b[0m                              Traceback (most recent call last)",
      "Cell \u001b[0;32mIn[8], line 6\u001b[0m\n\u001b[1;32m      3\u001b[0m bias_hh \u001b[38;5;241m=\u001b[39m [rnn\u001b[38;5;241m.\u001b[39mbias_hh_l0, rnn\u001b[38;5;241m.\u001b[39mbias_hh_l1, rnn\u001b[38;5;241m.\u001b[39mbias_hh_l2]\n\u001b[1;32m      4\u001b[0m bias_ih \u001b[38;5;241m=\u001b[39m [rnn\u001b[38;5;241m.\u001b[39mbias_ih_l0, rnn\u001b[38;5;241m.\u001b[39mbias_ih_l1, rnn\u001b[38;5;241m.\u001b[39mbias_ih_l2]\n\u001b[0;32m----> 6\u001b[0m \u001b[43mforward\u001b[49m\u001b[43m(\u001b[49m\n\u001b[1;32m      7\u001b[0m \u001b[43m    \u001b[49m\u001b[43mx\u001b[49m\u001b[38;5;241;43m=\u001b[39;49m\u001b[38;5;28;43minput\u001b[39;49m\u001b[43m,\u001b[49m\n\u001b[1;32m      8\u001b[0m \u001b[43m    \u001b[49m\u001b[43mhidden_size\u001b[49m\u001b[38;5;241;43m=\u001b[39;49m\u001b[43mrnn\u001b[49m\u001b[38;5;241;43m.\u001b[39;49m\u001b[43mhidden_size\u001b[49m\u001b[43m,\u001b[49m\n\u001b[1;32m      9\u001b[0m \u001b[43m    \u001b[49m\u001b[43mweight_ih\u001b[49m\u001b[38;5;241;43m=\u001b[39;49m\u001b[43mweight_ih\u001b[49m\u001b[43m,\u001b[49m\n\u001b[1;32m     10\u001b[0m \u001b[43m    \u001b[49m\u001b[43mbias_ih\u001b[49m\u001b[38;5;241;43m=\u001b[39;49m\u001b[43mbias_ih\u001b[49m\u001b[43m,\u001b[49m\n\u001b[1;32m     11\u001b[0m \u001b[43m    \u001b[49m\u001b[43mweight_hh\u001b[49m\u001b[38;5;241;43m=\u001b[39;49m\u001b[43mweight_hh\u001b[49m\u001b[43m,\u001b[49m\n\u001b[1;32m     12\u001b[0m \u001b[43m    \u001b[49m\u001b[43mbias_hh\u001b[49m\u001b[38;5;241;43m=\u001b[39;49m\u001b[43mbias_hh\u001b[49m\u001b[43m,\u001b[49m\n\u001b[1;32m     13\u001b[0m \u001b[43m    \u001b[49m\u001b[43mnum_layers\u001b[49m\u001b[38;5;241;43m=\u001b[39;49m\u001b[43mrnn\u001b[49m\u001b[38;5;241;43m.\u001b[39;49m\u001b[43mnum_layers\u001b[49m\n\u001b[1;32m     14\u001b[0m \u001b[43m)\u001b[49m\n",
      "Cell \u001b[0;32mIn[7], line 20\u001b[0m, in \u001b[0;36mforward\u001b[0;34m(x, hidden_size, weight_ih, bias_ih, weight_hh, bias_hh, num_layers)\u001b[0m\n\u001b[1;32m     17\u001b[0m display(Latex(\u001b[38;5;124mf\u001b[39m\u001b[38;5;124m\"\u001b[39m\u001b[38;5;124mProcessing $x_\u001b[39m\u001b[38;5;130;01m{{\u001b[39;00m\u001b[38;5;132;01m{\u001b[39;00mt\u001b[38;5;132;01m}\u001b[39;00m\u001b[38;5;130;01m}}\u001b[39;00m\u001b[38;5;124m$ elemnt of sequence.\u001b[39m\u001b[38;5;124m\"\u001b[39m))\n\u001b[1;32m     18\u001b[0m \u001b[38;5;28;01mfor\u001b[39;00m layer \u001b[38;5;129;01min\u001b[39;00m \u001b[38;5;28mrange\u001b[39m(num_layers):\n\u001b[1;32m     19\u001b[0m     h_t[layer] \u001b[38;5;241m=\u001b[39m torch\u001b[38;5;241m.\u001b[39mtanh(\n\u001b[0;32m---> 20\u001b[0m         \u001b[43mx\u001b[49m\u001b[43m[\u001b[49m\u001b[43mt\u001b[49m\u001b[43m]\u001b[49m\u001b[43m \u001b[49m\u001b[38;5;241;43m@\u001b[39;49m\u001b[43m \u001b[49m\u001b[43mweight_ih\u001b[49m\u001b[43m[\u001b[49m\u001b[43mlayer\u001b[49m\u001b[43m]\u001b[49m\n\u001b[1;32m     21\u001b[0m         \u001b[38;5;241m+\u001b[39m bias_ih[layer]\n\u001b[1;32m     22\u001b[0m         \u001b[38;5;241m+\u001b[39m h_t_minus_1[layer] \u001b[38;5;241m@\u001b[39m weight_hh[layer]\n\u001b[1;32m     23\u001b[0m         \u001b[38;5;241m+\u001b[39m bias_hh[layer]\n\u001b[1;32m     24\u001b[0m     )\n\u001b[1;32m     25\u001b[0m     display(Latex(\u001b[38;5;124m\"\u001b[39m\u001b[38;5;124m$x_i$\u001b[39m\u001b[38;5;124m\"\u001b[39m))\n\u001b[1;32m     26\u001b[0m output\u001b[38;5;241m.\u001b[39mappend(h_t[\u001b[38;5;241m-\u001b[39m\u001b[38;5;241m1\u001b[39m])\n",
      "\u001b[0;31mRuntimeError\u001b[0m: mat1 and mat2 shapes cannot be multiplied (10x2 and 10x2)"
     ]
    }
   ],
   "source": [
    "weight_hh = [rnn.weight_hh_l0, rnn.weight_hh_l1, rnn.weight_hh_l2]\n",
    "weight_ih = [rnn.weight_ih_l0, rnn.weight_ih_l1, rnn.weight_ih_l2]\n",
    "bias_hh = [rnn.bias_hh_l0, rnn.bias_hh_l1, rnn.bias_hh_l2]\n",
    "bias_ih = [rnn.bias_ih_l0, rnn.bias_ih_l1, rnn.bias_ih_l2]\n",
    "\n",
    "forward(\n",
    "    x=input,\n",
    "    hidden_size=rnn.hidden_size,\n",
    "    weight_ih=weight_ih,\n",
    "    bias_ih=bias_ih,\n",
    "    weight_hh=weight_hh,\n",
    "    bias_hh=bias_hh,\n",
    "    num_layers=rnn.num_layers\n",
    ")"
   ]
  },
  {
   "cell_type": "code",
   "execution_count": 15,
   "metadata": {},
   "outputs": [
    {
     "ename": "RuntimeError",
     "evalue": "mat1 and mat2 shapes cannot be multiplied (10x2 and 10x2)",
     "output_type": "error",
     "traceback": [
      "\u001b[0;31m---------------------------------------------------------------------------\u001b[0m",
      "\u001b[0;31mRuntimeError\u001b[0m                              Traceback (most recent call last)",
      "Cell \u001b[0;32mIn[15], line 1\u001b[0m\n\u001b[0;32m----> 1\u001b[0m \u001b[38;5;28;43minput\u001b[39;49m\u001b[43m[\u001b[49m\u001b[38;5;241;43m0\u001b[39;49m\u001b[43m]\u001b[49m\u001b[43m \u001b[49m\u001b[38;5;241;43m@\u001b[39;49m\u001b[43m \u001b[49m\u001b[43mweight_ih\u001b[49m\u001b[43m[\u001b[49m\u001b[38;5;241;43m0\u001b[39;49m\u001b[43m]\u001b[49m\n",
      "\u001b[0;31mRuntimeError\u001b[0m: mat1 and mat2 shapes cannot be multiplied (10x2 and 10x2)"
     ]
    }
   ],
   "source": [
    "input[0] @ weight_ih[0]"
   ]
  }
 ],
 "metadata": {
  "kernelspec": {
   "display_name": "venv",
   "language": "python",
   "name": "python3"
  },
  "language_info": {
   "codemirror_mode": {
    "name": "ipython",
    "version": 3
   },
   "file_extension": ".py",
   "mimetype": "text/x-python",
   "name": "python",
   "nbconvert_exporter": "python",
   "pygments_lexer": "ipython3",
   "version": "3.12.3"
  }
 },
 "nbformat": 4,
 "nbformat_minor": 2
}
