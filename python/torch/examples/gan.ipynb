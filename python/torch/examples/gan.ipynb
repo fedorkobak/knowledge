{
 "cells": [
  {
   "cell_type": "markdown",
   "metadata": {},
   "source": [
    "# Gan\n",
    "\n",
    "This notebook covers the process of building a Generative Adversarial Network (GAN) and it's application to the `MNIST` dataset."
   ]
  },
  {
   "cell_type": "code",
   "execution_count": 1,
   "metadata": {},
   "outputs": [
    {
     "name": "stdout",
     "output_type": "stream",
     "text": [
      "using device cpu\n"
     ]
    }
   ],
   "source": [
    "import torch\n",
    "from torch import nn\n",
    "from torch.utils.data import DataLoader\n",
    "\n",
    "import torchvision.transforms as T\n",
    "import torchvision.utils as vutils\n",
    "from torchvision.datasets import MNIST\n",
    "from torch.nn.functional import binary_cross_entropy\n",
    "\n",
    "from pathlib import Path\n",
    "import matplotlib.pyplot as plt\n",
    "\n",
    "if torch.cuda.is_available():\n",
    "    DEVICE = torch.device(\"cuda\")\n",
    "elif torch.backends.mps.is_available():\n",
    "    DEVICE = torch.device(\"mps\")\n",
    "else:\n",
    "    DEVICE = torch.device(\"cpu\")\n",
    "print(\"using device\", DEVICE)"
   ]
  },
  {
   "cell_type": "markdown",
   "metadata": {},
   "source": [
    "As example `MNIST` dataset will be used."
   ]
  },
  {
   "cell_type": "code",
   "execution_count": 2,
   "metadata": {},
   "outputs": [],
   "source": [
    "TRAIN_DATASET = MNIST(\n",
    "    Path(\"mnist_files\"),\n",
    "    download=True,\n",
    "    train=True,\n",
    "    transform=T.ToTensor()\n",
    ")\n",
    "DATA_LOADER = DataLoader(TRAIN_DATASET, batch_size=64)"
   ]
  },
  {
   "cell_type": "markdown",
   "metadata": {},
   "source": [
    "## Basics\n",
    "\n",
    "At the begining consider network that just tries imitate digits that are in the mnist dataset. "
   ]
  },
  {
   "cell_type": "markdown",
   "metadata": {},
   "source": [
    "### Generator\n",
    "\n",
    "Following cell implements `Generator` class."
   ]
  },
  {
   "cell_type": "code",
   "execution_count": 4,
   "metadata": {},
   "outputs": [],
   "source": [
    "class Generator(nn.Module):\n",
    "    '''\n",
    "    A class that generates a picture from a set of random noise.\n",
    "\n",
    "    Parameters\n",
    "    ----------\n",
    "    feature_map_size: int\n",
    "        Feature map's size of the generator.\n",
    "    number_channels: int\n",
    "        Number of input channels.\n",
    "    noize_size: int\n",
    "        Size of the vector that is expected to be transformed to the picture by \n",
    "        the model.\n",
    "    '''\n",
    "    def __init__(\n",
    "        self, \n",
    "        feature_map_size: int, \n",
    "        number_channels: int, \n",
    "        noize_size: int\n",
    "    ) -> None:\n",
    "        super(Generator, self).__init__()\n",
    "        self.main = nn.Sequential(\n",
    "            # (nz) x 1 x 1\n",
    "            nn.ConvTranspose2d(\n",
    "                in_channels=noize_size, \n",
    "                out_channels=feature_map_size * 2, \n",
    "                kernel_size=7,\n",
    "                stride=1, \n",
    "                padding=0, \n",
    "                bias=False\n",
    "            ),\n",
    "            nn.BatchNorm2d(feature_map_size * 2),\n",
    "            nn.ReLU(True),\n",
    "\n",
    "            # (feature_map_size*2) x 7 x 7\n",
    "            nn.ConvTranspose2d(\n",
    "                in_channels=feature_map_size * 2, \n",
    "                out_channels=feature_map_size, \n",
    "                kernel_size=4, \n",
    "                stride=2, \n",
    "                padding=1, \n",
    "                bias=False\n",
    "            ),\n",
    "            nn.BatchNorm2d(feature_map_size),\n",
    "            nn.ReLU(True),\n",
    "\n",
    "            # (feature_map_size) x 14 x 14\n",
    "            nn.ConvTranspose2d(\n",
    "                in_channels=feature_map_size, \n",
    "                out_channels=number_channels, \n",
    "                kernel_size=4, \n",
    "                stride=2, \n",
    "                padding=1, \n",
    "                bias=False\n",
    "            ),\n",
    "            nn.Tanh(),\n",
    "            # (nc) x 28 x 28\n",
    "        )\n",
    "\n",
    "    def forward(self, input: torch.Tensor) -> torch.Tensor:\n",
    "        '''\n",
    "        Apply model to given data.\n",
    "\n",
    "        Paramaters\n",
    "        ----------\n",
    "        input: torch.Tensor\n",
    "            Tensor with size (n_samples, self.nz)\n",
    "\n",
    "        Returns\n",
    "        -------\n",
    "        out: torch.Tensor\n",
    "            Tensor that represents set of generated pictures.\n",
    "        '''\n",
    "        return self.main(input[:, :, None, None])"
   ]
  },
  {
   "cell_type": "markdown",
   "metadata": {},
   "source": [
    "Now let's check what options there are to use it: to generator you have to pass vectors with random values. For each random vertor it will return picture."
   ]
  },
  {
   "cell_type": "code",
   "execution_count": 5,
   "metadata": {},
   "outputs": [
    {
     "data": {
      "text/plain": [
       "torch.Size([20, 1, 28, 28])"
      ]
     },
     "execution_count": 5,
     "metadata": {},
     "output_type": "execute_result"
    }
   ],
   "source": [
    "generator = Generator(\n",
    "    feature_map_size=64, \n",
    "    number_channels=1, \n",
    "    noize_size=100\n",
    ")\n",
    "generator(torch.randn(20, 100)).shape"
   ]
  },
  {
   "cell_type": "markdown",
   "metadata": {},
   "source": [
    "### Discriminator\n",
    "\n",
    "The discriminator is a model that tries to determine if a picture was created by the generator or not. The following cell defines the generator that we will use for this example."
   ]
  },
  {
   "cell_type": "code",
   "execution_count": 6,
   "metadata": {},
   "outputs": [],
   "source": [
    "class Discriminator(nn.Module):\n",
    "    '''\n",
    "    Realisation of the discriminator. Class that takes picture and generate scor\n",
    "    which expresses how much the model thinks the picture is generated.\n",
    "\n",
    "    Parameters\n",
    "    ----------\n",
    "    number_channels: int\n",
    "        Number of channels in input.\n",
    "    feature_map_size: int\n",
    "        Feature map's size.\n",
    "    '''\n",
    "\n",
    "    def __init__(self, number_channels: int, feature_map_size: int):\n",
    "        super(Discriminator, self).__init__()\n",
    "        self.main = nn.Sequential(\n",
    "            # (number_channels) x 28 x 28\n",
    "            nn.Conv2d(\n",
    "                in_channels=number_channels, \n",
    "                out_channels=feature_map_size, \n",
    "                kernel_size=4, \n",
    "                stride=2, \n",
    "                padding=1, \n",
    "                bias=False\n",
    "            ),\n",
    "            nn.LeakyReLU(0.2, inplace=True),\n",
    "\n",
    "\n",
    "            # (feature_map_size) x 14 x 14\n",
    "            nn.Conv2d(\n",
    "                in_channels=feature_map_size, \n",
    "                out_channels=feature_map_size * 2, \n",
    "                kernel_size=4, \n",
    "                stride=2, \n",
    "                padding=1, \n",
    "                bias=False\n",
    "            ),\n",
    "            nn.BatchNorm2d(feature_map_size * 2),\n",
    "            nn.LeakyReLU(0.2, inplace=True),\n",
    "\n",
    "\n",
    "            # (feature_map_size*2) x 7 x 7\n",
    "            nn.Conv2d(\n",
    "                in_channels=feature_map_size * 2, \n",
    "                out_channels=1, \n",
    "                kernel_size=7, \n",
    "                stride=1, \n",
    "                padding=0, \n",
    "                bias=False\n",
    "            ),\n",
    "            \n",
    "            nn.Sigmoid(),\n",
    "            nn.Flatten(start_dim=0, end_dim=-1)\n",
    "        )\n",
    "\n",
    "    def forward(self, input):\n",
    "        return self.main(input)"
   ]
  },
  {
   "cell_type": "markdown",
   "metadata": {},
   "source": [
    "Consider how the discriminator works by passing a sample picture from the training data to it:"
   ]
  },
  {
   "cell_type": "code",
   "execution_count": 7,
   "metadata": {},
   "outputs": [
    {
     "data": {
      "text/plain": [
       "tensor([0.4717], grad_fn=<ViewBackward0>)"
      ]
     },
     "execution_count": 7,
     "metadata": {},
     "output_type": "execute_result"
    }
   ],
   "source": [
    "discriminator = Discriminator(\n",
    "    number_channels=1, \n",
    "    feature_map_size=64\n",
    ")\n",
    "discriminator(TRAIN_DATASET[0][0][None, :, :, :])"
   ]
  },
  {
   "cell_type": "markdown",
   "metadata": {},
   "source": [
    "We got a score that represents the model's prediction of whether the picture we passed was generated."
   ]
  },
  {
   "cell_type": "markdown",
   "metadata": {},
   "source": [
    "## Model fitting"
   ]
  },
  {
   "cell_type": "markdown",
   "metadata": {},
   "source": [
    "We need to train the discriminator to determine if its input was original or generated by the generator. The following cell implements the optimization step with two core elements:\n",
    "\n",
    "- Gradient accumulation to increase predicted scores for real images.\n",
    "- Gradient accumulation to decrease predicted scores for generated images."
   ]
  },
  {
   "cell_type": "code",
   "execution_count": 8,
   "metadata": {},
   "outputs": [],
   "source": [
    "def discriminator_step(\n",
    "    pictures: torch.Tensor,\n",
    "    generation: torch.Tensor,\n",
    "    discriminator: torch.nn.Module,\n",
    "    optimizer: torch.optim.Optimizer\n",
    ") -> tuple[float, float, float]:\n",
    "    '''\n",
    "    Step of the discriminator. Maximize log(D(x)) + log(1 - D(G(z))) - tries to \n",
    "    to improve the prediction that the real images have 1. scores and the \n",
    "    generated images have have 0. scores.\n",
    "\n",
    "    Parameters\n",
    "    ----------\n",
    "    pictures: torch.Tensor\n",
    "        Batch of real images that we're trying to imitate.\n",
    "    generation: torch.Tensor\n",
    "        Batch of generated images.\n",
    "    discriminator: torch.nn.Module\n",
    "        Model that we optimise.\n",
    "    optimizer: torch.optim.Optimizer\n",
    "        Optimizet that uses weights of the dicriminator.\n",
    "\n",
    "    Return\n",
    "    ------\n",
    "    out: tuple[float, float, float]\n",
    "        - Mean prediction for real images.\n",
    "        - Mean predictoin for fake images.\n",
    "        - Total loss value on both real and fake images.\n",
    "    '''\n",
    "\n",
    "    batch_size = pictures.shape[0]\n",
    "    discriminator.zero_grad()\n",
    "\n",
    "    # Gradient accumulation on real images\n",
    "    # Model should predict scores close to 1\n",
    "    label = torch.full((batch_size,), 1., dtype=torch.float, device=DEVICE)\n",
    "    output = discriminator(pictures)\n",
    "    errD_real = binary_cross_entropy(output, label)\n",
    "    errD_real.backward()\n",
    "    D_x = output.mean().item()\n",
    "\n",
    "    # Gradient accumulation on fake images\n",
    "    # Model should predicst scores close to 0\n",
    "    label.fill_(0.)\n",
    "    # Note: generation here bypasses the discriminator without gradient \n",
    "    # accumulation because we don't need generator gradients to optimize the \n",
    "    # discriminator.\n",
    "    output = discriminator(generation.detach())\n",
    "    errD_fake = binary_cross_entropy(output, label)\n",
    "    errD_fake.backward()\n",
    "    D_G_z1 = output.mean().item()\n",
    "\n",
    "\n",
    "    errD = errD_real + errD_fake\n",
    "\n",
    "    # Step based on accumulated gradients\n",
    "    optimizer.step()\n",
    "\n",
    "    return D_x, D_G_z1, errD"
   ]
  },
  {
   "cell_type": "markdown",
   "metadata": {},
   "source": [
    "In this generator step, by calculating the loss (the difference between the discriminator’s judgment and the target “real” label), the generator learns the extent of improvement needed. This loss is used to compute gradients, guiding adjustments to the generator's weights to make future outputs more realistic."
   ]
  },
  {
   "cell_type": "code",
   "execution_count": 9,
   "metadata": {},
   "outputs": [],
   "source": [
    "def generator_step(\n",
    "    generation: torch.Tensor,\n",
    "    discriminator: torch.nn.Module,\n",
    "    optimizer: torch.optim.Optimizer,\n",
    "    generator: torch.nn.Module\n",
    ") -> tuple[float, float]:\n",
    "    '''\n",
    "    Step of the generator.\n",
    "\n",
    "    Parameters\n",
    "    ----------\n",
    "    genration: torch.Tensor\n",
    "        Set of objects generated by generator.\n",
    "    disciminator: torch.nn.Module\n",
    "        Model which decision will determine behavior of the the generator.\n",
    "    optimizer: torch.optim.Optimizer\n",
    "        The optimizer that changes weights of the generator.\n",
    "    generator: torch.nn.Module\n",
    "        The model whose weights we are adjusting in this step.\n",
    "\n",
    "    Returns\n",
    "    -------\n",
    "    out: tuple[float, float]\n",
    "        - Mean prediction of the discriminator under generated data.\n",
    "        - Loss value of the discriminator on generated picture.\n",
    "    '''\n",
    "\n",
    "    batch_size = generation.shape[0]\n",
    "    generator.zero_grad()\n",
    "    \n",
    "    label = torch.full(\n",
    "        size=(batch_size,), \n",
    "        fill_value=1.,\n",
    "        dtype=torch.float,\n",
    "        device=DEVICE\n",
    "    )\n",
    "    output = discriminator(generation)\n",
    "    errG = binary_cross_entropy(output, label)\n",
    "    errG.backward()\n",
    "\n",
    "\n",
    "    D_G_z2 = output.mean().item()\n",
    "    optimizer.step()\n",
    "\n",
    "    return D_G_z2, errG"
   ]
  },
  {
   "cell_type": "markdown",
   "metadata": {},
   "source": [
    "There are reasons to initialize model weights with specific random values. The following function implements normal distribution-based weight initialization for our models."
   ]
  },
  {
   "cell_type": "code",
   "execution_count": null,
   "metadata": {},
   "outputs": [],
   "source": [
    "def weights_init(m):\n",
    "    classname = m.__class__.__name__\n",
    "    if classname.find(\"Conv\") != -1:\n",
    "        nn.init.normal_(m.weight.data, 0.0, 0.02)\n",
    "    elif classname.find(\"BatchNorm\") != -1:\n",
    "        nn.init.normal_(m.weight.data, 1.0, 0.02)\n",
    "        nn.init.constant_(m.bias.data, 0)"
   ]
  },
  {
   "cell_type": "markdown",
   "metadata": {},
   "source": [
    "There are reasons to initialize model weights with specific random values. The following function implements normal distribution-based weight initialization for our models."
   ]
  },
  {
   "cell_type": "code",
   "execution_count": 31,
   "metadata": {},
   "outputs": [
    {
     "name": "stdout",
     "output_type": "stream",
     "text": [
      "[0/1][0/938]\tDiscriminator's loss: 1.7529\tGenerator's loss: 3.7384\tD(x): 0.6800\tD(G(z)): 0.6905 / 0.0326\n",
      "[0/1][50/938]\tDiscriminator's loss: 0.4476\tGenerator's loss: 5.4672\tD(x): 0.9518\tD(G(z)): 0.2794 / 0.0089\n",
      "[0/1][100/938]\tDiscriminator's loss: 0.3019\tGenerator's loss: 4.4144\tD(x): 0.9743\tD(G(z)): 0.2241 / 0.0184\n",
      "[0/1][150/938]\tDiscriminator's loss: 1.1242\tGenerator's loss: 4.8444\tD(x): 0.9448\tD(G(z)): 0.5862 / 0.0169\n",
      "[0/1][200/938]\tDiscriminator's loss: 0.1329\tGenerator's loss: 4.2130\tD(x): 0.9261\tD(G(z)): 0.0508 / 0.0215\n",
      "[0/1][250/938]\tDiscriminator's loss: 0.0608\tGenerator's loss: 4.9008\tD(x): 0.9559\tD(G(z)): 0.0146 / 0.0177\n",
      "[0/1][300/938]\tDiscriminator's loss: 0.2056\tGenerator's loss: 3.2779\tD(x): 0.9079\tD(G(z)): 0.0832 / 0.0676\n",
      "[0/1][350/938]\tDiscriminator's loss: 0.2759\tGenerator's loss: 2.3487\tD(x): 0.8197\tD(G(z)): 0.0592 / 0.1223\n",
      "[0/1][400/938]\tDiscriminator's loss: 0.4870\tGenerator's loss: 3.1935\tD(x): 0.7897\tD(G(z)): 0.1729 / 0.0583\n",
      "[0/1][450/938]\tDiscriminator's loss: 0.4762\tGenerator's loss: 4.9635\tD(x): 0.9717\tD(G(z)): 0.3248 / 0.0148\n",
      "[0/1][500/938]\tDiscriminator's loss: 0.5251\tGenerator's loss: 2.5639\tD(x): 0.9038\tD(G(z)): 0.3203 / 0.0911\n",
      "[0/1][550/938]\tDiscriminator's loss: 0.1716\tGenerator's loss: 2.9359\tD(x): 0.8821\tD(G(z)): 0.0289 / 0.0963\n",
      "[0/1][600/938]\tDiscriminator's loss: 0.3258\tGenerator's loss: 2.6626\tD(x): 0.8360\tD(G(z)): 0.1197 / 0.0927\n",
      "[0/1][650/938]\tDiscriminator's loss: 0.4859\tGenerator's loss: 4.6947\tD(x): 0.9763\tD(G(z)): 0.3193 / 0.0167\n",
      "[0/1][700/938]\tDiscriminator's loss: 0.1947\tGenerator's loss: 3.0797\tD(x): 0.8761\tD(G(z)): 0.0536 / 0.0628\n",
      "[0/1][750/938]\tDiscriminator's loss: 0.7068\tGenerator's loss: 2.3966\tD(x): 0.6871\tD(G(z)): 0.1736 / 0.1404\n",
      "[0/1][800/938]\tDiscriminator's loss: 0.3081\tGenerator's loss: 2.4173\tD(x): 0.9103\tD(G(z)): 0.1795 / 0.1137\n",
      "[0/1][850/938]\tDiscriminator's loss: 0.3597\tGenerator's loss: 2.9993\tD(x): 0.8772\tD(G(z)): 0.1784 / 0.0717\n",
      "[0/1][900/938]\tDiscriminator's loss: 0.3204\tGenerator's loss: 3.4197\tD(x): 0.9396\tD(G(z)): 0.2115 / 0.0409\n"
     ]
    }
   ],
   "source": [
    "feature_map_size = 64\n",
    "noise_size = 100\n",
    "\n",
    "netG = Generator(\n",
    "    feature_map_size=feature_map_size, \n",
    "    number_channels=1, \n",
    "    noize_size=noise_size\n",
    ").to(DEVICE)\n",
    "netG = netG.apply(weights_init)\n",
    "\n",
    "netD = Discriminator(\n",
    "    feature_map_size=feature_map_size, \n",
    "    number_channels=1\n",
    ").to(DEVICE)\n",
    "netD = netD.apply(weights_init)\n",
    "\n",
    "lr = 0.001\n",
    "beta1 = 0.5\n",
    "\n",
    "# We'll draw images from the same input to compare results.\n",
    "fixed_noise = torch.randn(64, noise_size, device=DEVICE)\n",
    "\n",
    "optimizerD = torch.optim.Adam(netD.parameters(), lr=lr, betas=(beta1, 0.999))\n",
    "optimizerG = torch.optim.Adam(netG.parameters(), lr=lr, betas=(beta1, 0.999))\n",
    "\n",
    "img_list = []\n",
    "G_losses = []\n",
    "D_losses = []\n",
    "\n",
    "num_epochs = 1\n",
    "\n",
    "for epoch in range(num_epochs):\n",
    "    for i, (pictures, _) in enumerate(DATA_LOADER, 0):\n",
    "        pictures = pictures.to(DEVICE)\n",
    "        batch_size = pictures.size(0)\n",
    "        \n",
    "        # Getting generated (\"fake\") picture that tries to trick discriminator\n",
    "        noise = torch.randn(batch_size, noise_size, device=DEVICE)\n",
    "        generation = netG(noise)\n",
    "\n",
    "        D_x, D_G_z1, errD = discriminator_step(\n",
    "            pictures=pictures,\n",
    "            generation=generation,\n",
    "            discriminator=netD,\n",
    "            optimizer=optimizerD\n",
    "        )\n",
    "\n",
    "        # Maximizing for generator log(D(G(z)))\n",
    "        D_G_z2, errG = generator_step(\n",
    "            generation=generation,\n",
    "            discriminator=netD,\n",
    "            optimizer=optimizerG,\n",
    "            generator=netG\n",
    "        )\n",
    "\n",
    "        G_losses.append(errG.item())\n",
    "        D_losses.append(errD.item())\n",
    "\n",
    "        if i % 50 == 0:\n",
    "            print(\n",
    "                f\"[{epoch}/{num_epochs}][{i}/{len(DATA_LOADER)}]\\t\"\n",
    "                f\"Discriminator's loss: {errD.item():.4f}\\t\"\n",
    "                f\"Generator's loss: {errG.item():.4f}\\t\"\n",
    "                f\"D(x): {D_x:.4f}\\t\"\n",
    "                f\"D(G(z)): {D_G_z1:.4f} / {D_G_z2:.4f}\"\n",
    "            )\n",
    "\n",
    "        if (i % 500 == 0) or (\n",
    "            (epoch == num_epochs - 1) and (i == len(DATA_LOADER) - 1)\n",
    "        ):\n",
    "            with torch.no_grad():\n",
    "                generation = netG(fixed_noise).detach().cpu()\n",
    "            img_list.append(vutils.make_grid(generation, padding=2, normalize=True))"
   ]
  },
  {
   "cell_type": "code",
   "execution_count": 37,
   "metadata": {},
   "outputs": [
    {
     "data": {
      "text/plain": [
       "3"
      ]
     },
     "execution_count": 37,
     "metadata": {},
     "output_type": "execute_result"
    }
   ],
   "source": [
    "len(img_list)"
   ]
  },
  {
   "cell_type": "markdown",
   "metadata": {},
   "source": [
    "## Conditional\n",
    "\n",
    "Here, we consider a modification of the previous model. The model shown in this section will draw a picture of the given class."
   ]
  },
  {
   "cell_type": "code",
   "execution_count": 4,
   "metadata": {},
   "outputs": [],
   "source": [
    "# Generator's feature map\n",
    "ngf = 64\n",
    "# Input channels\n",
    "nc = 1\n",
    "# Size of the vector from which generator will create a picture\n",
    "nz = 100\n",
    "\n",
    "class Generator(nn.Module):\n",
    "    def __init__(self):\n",
    "        super(Generator, self).__init__()\n",
    "\n",
    "        self.embedding = nn.Embedding(\n",
    "            num_embeddings=10,\n",
    "            embedding_dim=10\n",
    "        )\n",
    "\n",
    "        self.main = nn.Sequential(\n",
    "            # (nz) x 1 x 1\n",
    "            nn.ConvTranspose2d(\n",
    "                in_channels=nz+10,\n",
    "                out_channels=ngf * 2, \n",
    "                kernel_size=7,\n",
    "                stride=1, \n",
    "                padding=0, \n",
    "                bias=False\n",
    "            ),\n",
    "            nn.BatchNorm2d(ngf * 2),\n",
    "            nn.ReLU(True),\n",
    "\n",
    "            # (ngf*2) x 7 x 7\n",
    "            nn.ConvTranspose2d(ngf * 2, ngf, 4, 2, 1, bias=False),\n",
    "            nn.BatchNorm2d(ngf),\n",
    "            nn.ReLU(True),\n",
    "\n",
    "            # (ngf) x 14 x 14\n",
    "            nn.ConvTranspose2d(ngf, nc, 4, 2, 1, bias=False),\n",
    "            nn.Tanh(),\n",
    "            # (nc) x 28 x 28\n",
    "        )\n",
    "\n",
    "    def forward(self, input, labels):\n",
    "        ohe_labels = self.embedding(labels)[:, :, None, None]\n",
    "        input = torch.cat([input, ohe_labels], dim=1)\n",
    "        return self.main(input)\n",
    "\n",
    "# Discriminator's feature map\n",
    "ndf = 64\n",
    "\n",
    "class Discriminator(nn.Module):\n",
    "    def __init__(self):\n",
    "        super(Discriminator, self).__init__()\n",
    "        self.embedding = torch.nn.Embedding(\n",
    "            num_embeddings=10, \n",
    "            embedding_dim=28 * 28\n",
    "        )\n",
    "        self.main = nn.Sequential(\n",
    "            # (nc) x 28 x 28\n",
    "            nn.Conv2d(\n",
    "                in_channels=nc+1, \n",
    "                out_channels=ndf, \n",
    "                kernel_size=4, \n",
    "                stride=2, \n",
    "                padding=1, \n",
    "                bias=False\n",
    "            ),\n",
    "            nn.LeakyReLU(0.2, inplace=True),\n",
    "\n",
    "\n",
    "            # (ndf) x 14 x 14\n",
    "            nn.Conv2d(\n",
    "                in_channels=ndf, \n",
    "                out_channels=ndf * 2, \n",
    "                kernel_size=4, \n",
    "                stride=2, \n",
    "                padding=1, \n",
    "                bias=False\n",
    "            ),\n",
    "            nn.BatchNorm2d(ndf * 2),\n",
    "            nn.LeakyReLU(0.2, inplace=True),\n",
    "\n",
    "\n",
    "            # (ndf*2) x 7 x 7\n",
    "            nn.Conv2d(\n",
    "                in_channels=ndf * 2, \n",
    "                out_channels=1,\n",
    "                kernel_size=7, \n",
    "                stride=1, \n",
    "                padding=0, \n",
    "                bias=False\n",
    "            ),\n",
    "            nn.Sigmoid()\n",
    "        )\n",
    "\n",
    "    def forward(self, input, labels):\n",
    "        labels = self.embedding(labels).reshape_as(input)\n",
    "        input = torch.cat([input, labels], dim=1)\n",
    "        return self.main(input)"
   ]
  },
  {
   "cell_type": "code",
   "execution_count": 5,
   "metadata": {},
   "outputs": [],
   "source": [
    "netG = Generator().to(DEVICE)\n",
    "netG = netG.apply(weights_init)\n",
    "\n",
    "netD = Discriminator().to(DEVICE)\n",
    "netD = netD.apply(weights_init)\n",
    "\n",
    "criterion = nn.BCELoss()\n",
    "\n",
    "lr = 0.001\n",
    "beta1 = 0.5\n",
    "\n",
    "# We'll draw images from the same input to compare results.\n",
    "fixed_noise = torch.randn(64, nz, 1, 1, device=DEVICE)\n",
    "\n",
    "# Labels for real and fake images\n",
    "real_label, fake_label = 1., 0.\n",
    "\n",
    "optimizerD = torch.optim.Adam(netD.parameters(), lr=lr, betas=(beta1, 0.999))\n",
    "optimizerG = torch.optim.Adam(netG.parameters(), lr=lr, betas=(beta1, 0.999))"
   ]
  },
  {
   "cell_type": "code",
   "execution_count": null,
   "metadata": {},
   "outputs": [],
   "source": [
    "img_list = []\n",
    "G_losses = []\n",
    "D_losses = []\n",
    "iters = 0\n",
    "\n",
    "num_epochs = 10\n",
    "\n",
    "for epoch in range(num_epochs):\n",
    "    for i, (X, y) in enumerate(DATA_LOADER, 0):\n",
    "        real_batch = X.to(DEVICE)\n",
    "        batch_size = real_batch.size(0)\n",
    "        \n",
    "\n",
    "        # Maximazing over discriminator log(D(x)) + log(1 - D(G(z)))\n",
    "        # Step on the real image\n",
    "        netD.zero_grad()\n",
    "        label = torch.full((batch_size,), real_label, dtype=torch.float, device=DEVICE)\n",
    "        output = netD(real_batch, y).view(-1)\n",
    "        errD_real = criterion(output, label)\n",
    "        errD_real.backward()\n",
    "        D_x = output.mean().item()\n",
    "\n",
    "        # Step on the fake image\n",
    "        noise = torch.randn(batch_size, nz, 1, 1, device=DEVICE)\n",
    "        fake = netG(noise, y)\n",
    "        label.fill_(fake_label)\n",
    "        output = netD(fake.detach(), y).view(-1)\n",
    "        errD_fake = criterion(output, label)\n",
    "        errD_fake.backward()\n",
    "        D_G_z1 = output.mean().item()\n",
    "        errD = errD_real + errD_fake\n",
    "        optimizerD.step()\n",
    "\n",
    "        # Maximizing for generator log(D(G(z)))\n",
    "        netG.zero_grad()\n",
    "        label.fill_(real_label)\n",
    "        output = netD(fake, y).view(-1)\n",
    "        errG = criterion(output, label)\n",
    "        errG.backward()\n",
    "        D_G_z2 = output.mean().item()\n",
    "        optimizerG.step()\n",
    "\n",
    "        if i % 50 == 0:\n",
    "            print(\n",
    "                \"[%d/%d][%d/%d]\\tLoss_D: %.4f\\tLoss_G: %.4f\\tD(x): %.4f\\tD(G(z)): %.4f / %.4f\"\n",
    "                % (\n",
    "                    epoch,\n",
    "                    num_epochs,\n",
    "                    i,\n",
    "                    len(DATA_LOADER),\n",
    "                    errD.item(),\n",
    "                    errG.item(),\n",
    "                    D_x,\n",
    "                    D_G_z1,\n",
    "                    D_G_z2,\n",
    "                )\n",
    "            )\n",
    "        G_losses.append(errG.item())\n",
    "        D_losses.append(errD.item())\n",
    "        if (iters % 500 == 0) or (\n",
    "            (epoch == num_epochs - 1) and (i == len(DATA_LOADER) - 1)\n",
    "        ):\n",
    "            with torch.no_grad():\n",
    "                fake = netG(fixed_noise, y).detach().cpu()\n",
    "            img_list.append(vutils.make_grid(fake, padding=2, normalize=True))\n",
    "        iters += 1"
   ]
  },
  {
   "cell_type": "markdown",
   "metadata": {},
   "source": [
    "The following cell shows the result of the obtained network. In the `number` variable, you can specify the number to draw, and the result from the model will be displayed."
   ]
  },
  {
   "cell_type": "code",
   "execution_count": 116,
   "metadata": {},
   "outputs": [
    {
     "data": {
      "image/png": "[encoded data removed]",
      "text/plain": [
       "<Figure size 640x480 with 1 Axes>"
      ]
     },
     "metadata": {},
     "output_type": "display_data"
    }
   ],
   "source": [
    "noise = torch.randn(1, nz, 1, 1, device=DEVICE)\n",
    "number = 0\n",
    "\n",
    "res = netG(\n",
    "    noise, \n",
    "    torch.tensor([number])\n",
    ")\n",
    "plt.imshow(res.squeeze().detach().numpy())\n",
    "plt.axis(False)\n",
    "plt.show()"
   ]
  }
 ],
 "metadata": {
  "kernelspec": {
   "display_name": "Python 3",
   "language": "python",
   "name": "python3"
  },
  "language_info": {
   "codemirror_mode": {
    "name": "ipython",
    "version": 3
   },
   "file_extension": ".py",
   "mimetype": "text/x-python",
   "name": "python",
   "nbconvert_exporter": "python",
   "pygments_lexer": "ipython3",
   "version": "3.10.12"
  }
 },
 "nbformat": 4,
 "nbformat_minor": 2
}
