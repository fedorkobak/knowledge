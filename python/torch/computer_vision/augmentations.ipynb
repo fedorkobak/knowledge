{
 "cells": [
  {
   "cell_type": "markdown",
   "id": "f731422b-29d5-4fb8-8101-fa98d1cc1f4d",
   "metadata": {},
   "source": [
    "# Augmentations\n",
    "\n",
    "Is some transformation of data that allows you to get more data or transfrom your data in specific way."
   ]
  },
  {
   "cell_type": "code",
   "execution_count": 15,
   "id": "03e5bfce-d8ee-4948-8f81-69523757d63b",
   "metadata": {},
   "outputs": [],
   "source": [
    "from torchvision import transforms\n",
    "from PIL import Image\n",
    "\n",
    "from IPython.display import HTML\n",
    "\n",
    "img = Image.open(\"basic_files/test_picture.png\")"
   ]
  },
  {
   "cell_type": "markdown",
   "id": "272c1f0b-b4e6-48a2-afee-0eb2cbf57110",
   "metadata": {},
   "source": [
    "## Resize\n",
    "\n",
    "Is transformation that allows you to set specific size for the picutre."
   ]
  },
  {
   "cell_type": "code",
   "execution_count": 17,
   "id": "60f3f14b-c097-4414-bb09-e02914e5c458",
   "metadata": {},
   "outputs": [
    {
     "data": {
      "text/html": [
       "<h4>Original image</h4>"
      ],
      "text/plain": [
       "<IPython.core.display.HTML object>"
      ]
     },
     "metadata": {},
     "output_type": "display_data"
    },
    {
     "data": {
      "image/png": "[encoded data removed]",
      "text/plain": [
       "<PIL.PngImagePlugin.PngImageFile image mode=RGB size=8x10 at 0x7FDD7D21CF10>"
      ]
     },
     "metadata": {},
     "output_type": "display_data"
    },
    {
     "data": {
      "text/html": [
       "<h4>Transforemd image</h4>"
      ],
      "text/plain": [
       "<IPython.core.display.HTML object>"
      ]
     },
     "metadata": {},
     "output_type": "display_data"
    },
    {
     "data": {
      "image/png": "[encoded data removed]",
      "text/plain": [
       "<PIL.Image.Image image mode=RGB size=224x224 at 0x7FDD7D3ADE70>"
      ]
     },
     "metadata": {},
     "output_type": "display_data"
    }
   ],
   "source": [
    "display(HTML(\"<h4>Original image</h4>\"))\n",
    "display(img)\n",
    "display(HTML(\"<h4>Transforemd image</h4>\"))\n",
    "display(transforms.Resize((224, 224))(img))"
   ]
  }
 ],
 "metadata": {
  "kernelspec": {
   "display_name": "Python 3 (ipykernel)",
   "language": "python",
   "name": "python3"
  },
  "language_info": {
   "codemirror_mode": {
    "name": "ipython",
    "version": 3
   },
   "file_extension": ".py",
   "mimetype": "text/x-python",
   "name": "python",
   "nbconvert_exporter": "python",
   "pygments_lexer": "ipython3",
   "version": "3.10.12"
  }
 },
 "nbformat": 4,
 "nbformat_minor": 5
}
