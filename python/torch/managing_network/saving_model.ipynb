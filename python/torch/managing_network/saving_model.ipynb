{
 "cells": [
  {
   "cell_type": "markdown",
   "metadata": {},
   "source": [
    "# Saving model\n",
    "\n",
    "Saving and loading PyTorch models is crucial because any model you build needs to be transferred and deployed in some way. Check the [official tutorial](https://pytorch.org/tutorials/beginner/saving_loading_models.html). Here, we'll experiment with the options from the tutorial."
   ]
  },
  {
   "cell_type": "code",
   "execution_count": 4,
   "metadata": {},
   "outputs": [],
   "source": [
    "import torch\n",
    "from pathlib import Path"
   ]
  },
  {
   "cell_type": "markdown",
   "metadata": {},
   "source": [
    "## State dict\n",
    "\n",
    "The classical method to save and load a model's state dictionary follows these steps:\n",
    "\n",
    "- Retrieve the model's state dictionary with `torch.nn.Module.state_dict()`.\n",
    "- Save the state dictionary with `torch.save`.\n",
    "- Load the state dictionary with `torch.load`.\n",
    "- Load the weights into the model using `torch.nn.Module.load_state_dict()`."
   ]
  },
  {
   "cell_type": "markdown",
   "metadata": {},
   "source": [
    "---\n",
    "\n",
    "In the following cell, we created a simple model and initialized it with a constant value."
   ]
  },
  {
   "cell_type": "code",
   "execution_count": null,
   "metadata": {},
   "outputs": [
    {
     "data": {
      "text/plain": [
       "OrderedDict([('0.weight',\n",
       "              tensor([[3., 3., 3.],\n",
       "                      [3., 3., 3.],\n",
       "                      [3., 3., 3.]])),\n",
       "             ('0.bias', tensor([3., 3., 3.])),\n",
       "             ('1.weight',\n",
       "              tensor([[3., 3., 3.],\n",
       "                      [3., 3., 3.],\n",
       "                      [3., 3., 3.]])),\n",
       "             ('1.bias', tensor([3., 3., 3.]))])"
      ]
     },
     "metadata": {},
     "output_type": "display_data"
    }
   ],
   "source": [
    "model = torch.nn.Sequential(\n",
    "    torch.nn.Linear(3, 3),\n",
    "    torch.nn.Linear(3, 3)\n",
    ")\n",
    "for p in model.parameters():\n",
    "    torch.nn.init.constant_(p, 3)\n",
    "\n",
    "model.state_dict()"
   ]
  },
  {
   "cell_type": "markdown",
   "metadata": {},
   "source": [
    "Now, using `torch.save`, we save the state dictionary and discard the original model."
   ]
  },
  {
   "cell_type": "code",
   "execution_count": null,
   "metadata": {},
   "outputs": [],
   "source": [
    "torch.save(obj=model.state_dict(), f=Path(\"/tmp\")/\"my_model\")\n",
    "del model"
   ]
  },
  {
   "cell_type": "markdown",
   "metadata": {},
   "source": [
    "Now, with `torch.load`, we load the state dictionary—since all values were constant during saving, they remain as 3."
   ]
  },
  {
   "cell_type": "code",
   "execution_count": null,
   "metadata": {},
   "outputs": [
    {
     "data": {
      "text/plain": [
       "OrderedDict([('0.weight',\n",
       "              tensor([[3., 3., 3.],\n",
       "                      [3., 3., 3.],\n",
       "                      [3., 3., 3.]])),\n",
       "             ('0.bias', tensor([3., 3., 3.])),\n",
       "             ('1.weight',\n",
       "              tensor([[3., 3., 3.],\n",
       "                      [3., 3., 3.],\n",
       "                      [3., 3., 3.]])),\n",
       "             ('1.bias', tensor([3., 3., 3.]))])"
      ]
     },
     "metadata": {},
     "output_type": "display_data"
    }
   ],
   "source": [
    "state_dict = torch.load(Path(\"/tmp\")/\"my_model\", weights_only=False)\n",
    "state_dict"
   ]
  },
  {
   "cell_type": "markdown",
   "metadata": {},
   "source": [
    "By recreating the exact same model and loading the previously saved state dictionary into it, you can fully recreate the model."
   ]
  },
  {
   "cell_type": "code",
   "execution_count": null,
   "metadata": {},
   "outputs": [
    {
     "data": {
      "text/plain": [
       "<All keys matched successfully>"
      ]
     },
     "metadata": {},
     "output_type": "display_data"
    }
   ],
   "source": [
    "model = torch.nn.Sequential(\n",
    "    torch.nn.Linear(3, 3),\n",
    "    torch.nn.Linear(3, 3)\n",
    ")\n",
    "\n",
    "model.load_state_dict(state_dict)"
   ]
  },
  {
   "cell_type": "markdown",
   "metadata": {},
   "source": [
    "Successfully executed `torch.nn.load_state_dict` returns a special string."
   ]
  },
  {
   "cell_type": "markdown",
   "metadata": {},
   "source": [
    "## Save entire model\n",
    "\n",
    "By passing the entire model to the `torch.save` function, you'll save a serialized Torch model. Then, with just one line of code, you can restore the model using the `torch.load` function."
   ]
  },
  {
   "cell_type": "markdown",
   "metadata": {},
   "source": [
    "---\n",
    "\n",
    "The following cell demonstrates creating a model, initializing its weights with a constant, and saving this model to disk by passing it as `obj` to the `torch.save` function."
   ]
  },
  {
   "cell_type": "code",
   "execution_count": null,
   "metadata": {},
   "outputs": [],
   "source": [
    "model = torch.nn.Sequential(\n",
    "    torch.nn.Linear(3, 3),\n",
    "    torch.nn.Linear(3, 3)\n",
    ")\n",
    "for p in model.parameters():\n",
    "    torch.nn.init.constant_(p, 3)\n",
    "\n",
    "torch.save(model, Path(\"/tmp\")/\"model.pht\")"
   ]
  },
  {
   "cell_type": "markdown",
   "metadata": {},
   "source": [
    "With `torch.load`, the model can be restored. The following cell shows that the loaded model has weights identical to those initialized before saving."
   ]
  },
  {
   "cell_type": "code",
   "execution_count": null,
   "metadata": {},
   "outputs": [
    {
     "data": {
      "text/plain": [
       "OrderedDict([('0.weight',\n",
       "              tensor([[3., 3., 3.],\n",
       "                      [3., 3., 3.],\n",
       "                      [3., 3., 3.]])),\n",
       "             ('0.bias', tensor([3., 3., 3.])),\n",
       "             ('1.weight',\n",
       "              tensor([[3., 3., 3.],\n",
       "                      [3., 3., 3.],\n",
       "                      [3., 3., 3.]])),\n",
       "             ('1.bias', tensor([3., 3., 3.]))])"
      ]
     },
     "execution_count": 5,
     "metadata": {},
     "output_type": "execute_result"
    }
   ],
   "source": [
    "torch.load(Path(\"/tmp\")/\"model.pht\", weights_only=False).state_dict()"
   ]
  }
 ],
 "metadata": {
  "kernelspec": {
   "display_name": "venv",
   "language": "python",
   "name": "python3"
  },
  "language_info": {
   "codemirror_mode": {
    "name": "ipython",
    "version": 3
   },
   "file_extension": ".py",
   "mimetype": "text/x-python",
   "name": "python",
   "nbconvert_exporter": "python",
   "pygments_lexer": "ipython3",
   "version": "3.10.15"
  }
 },
 "nbformat": 4,
 "nbformat_minor": 2
}
