{
 "cells": [
  {
   "cell_type": "markdown",
   "id": "cc26b3d2-cf93-4cc5-8f1f-d8542481a923",
   "metadata": {},
   "source": [
    "# Broadcasting\n",
    "\n",
    "Broadcasting is a mechanism that allows tensors of different shapes to be used together in element-wise operations."
   ]
  },
  {
   "cell_type": "code",
   "execution_count": 2,
   "id": "e4b4760f-4d14-43ea-8d57-f8dd072c70e9",
   "metadata": {},
   "outputs": [],
   "source": [
    "import torch"
   ]
  },
  {
   "cell_type": "markdown",
   "id": "4f242c67-d526-4cba-810d-73d54e779e6e",
   "metadata": {},
   "source": [
    "## By row\n",
    "\n",
    "Suppose you need to add a zero tensor to an array containing two numbers. So in the following cells the tensors `a` and `b` are created, which we will use for example:"
   ]
  },
  {
   "cell_type": "code",
   "execution_count": 3,
   "id": "1d02debe-b8d3-4ebe-b89c-782dbe8b806d",
   "metadata": {},
   "outputs": [
    {
     "data": {
      "text/plain": [
       "tensor([[0., 0., 0.],\n",
       "        [0., 0., 0.]])"
      ]
     },
     "execution_count": 3,
     "metadata": {},
     "output_type": "execute_result"
    }
   ],
   "source": [
    "a = torch.zeros((2, 3))\n",
    "a"
   ]
  },
  {
   "cell_type": "code",
   "execution_count": 4,
   "id": "b6974236",
   "metadata": {},
   "outputs": [
    {
     "data": {
      "text/plain": [
       "tensor([2, 3])"
      ]
     },
     "execution_count": 4,
     "metadata": {},
     "output_type": "execute_result"
    }
   ],
   "source": [
    "b = torch.tensor([2, 3])\n",
    "b"
   ]
  },
  {
   "cell_type": "markdown",
   "id": "dc68a4cf",
   "metadata": {},
   "source": [
    "So suppose we want to add the first element of `b` to the first row of `a` and the second element of `b` to the second row of `a`. Obviously just using operator `+` won't work."
   ]
  },
  {
   "cell_type": "code",
   "execution_count": 6,
   "id": "e7d72127",
   "metadata": {},
   "outputs": [
    {
     "ename": "RuntimeError",
     "evalue": "The size of tensor a (3) must match the size of tensor b (2) at non-singleton dimension 1",
     "output_type": "error",
     "traceback": [
      "\u001b[0;31m---------------------------------------------------------------------------\u001b[0m",
      "\u001b[0;31mRuntimeError\u001b[0m                              Traceback (most recent call last)",
      "Cell \u001b[0;32mIn[6], line 1\u001b[0m\n\u001b[0;32m----> 1\u001b[0m \u001b[43ma\u001b[49m\u001b[43m \u001b[49m\u001b[38;5;241;43m+\u001b[39;49m\u001b[43m \u001b[49m\u001b[43mb\u001b[49m\n",
      "\u001b[0;31mRuntimeError\u001b[0m: The size of tensor a (3) must match the size of tensor b (2) at non-singleton dimension 1"
     ]
    }
   ],
   "source": [
    "a + b"
   ]
  },
  {
   "cell_type": "markdown",
   "id": "99627d17-15c9-4156-9c07-4a53c39533f4",
   "metadata": {},
   "source": [
    "The added tensor must be converted so that $n_1=m_1$. \n",
    "\n",
    "Where :\n",
    "- $n_i$ - zeros tensor $i-th$ dimention size;\n",
    "- $m_i$ - addimg tensor $i-th$ dimetion size.\n",
    "\n",
    "So in the following example we will use `unsqueeze` for this purpose."
   ]
  },
  {
   "cell_type": "code",
   "execution_count": 5,
   "id": "d2e870a0-974e-4671-8717-64ab25711931",
   "metadata": {},
   "outputs": [
    {
     "data": {
      "text/plain": [
       "tensor([[2],\n",
       "        [3]])"
      ]
     },
     "execution_count": 5,
     "metadata": {},
     "output_type": "execute_result"
    }
   ],
   "source": [
    "b_unsqueezed = b.unsqueeze(1)\n",
    "b_unsqueezed"
   ]
  },
  {
   "cell_type": "markdown",
   "id": "51c9d06f-273a-46c9-a0a0-bee6302ec83d",
   "metadata": {},
   "source": [
    "And finally result of sum. Essentially we just added the corresponding values of array `b` to each element in the row of array `a`:"
   ]
  },
  {
   "cell_type": "code",
   "execution_count": 7,
   "id": "26c31cf3-cf41-4822-b798-7e89ab306507",
   "metadata": {},
   "outputs": [
    {
     "data": {
      "text/plain": [
       "tensor([[2., 2., 2.],\n",
       "        [3., 3., 3.]])"
      ]
     },
     "execution_count": 7,
     "metadata": {},
     "output_type": "execute_result"
    }
   ],
   "source": [
    "a + b_unsqueezed"
   ]
  },
  {
   "cell_type": "markdown",
   "id": "8446ab55-efd8-4b81-936b-eb48c609e35b",
   "metadata": {},
   "source": [
    "## By layer\n",
    "\n",
    "This shows how to add a tensor of any dimension to another tensor along the selected axis. "
   ]
  },
  {
   "cell_type": "markdown",
   "id": "5d011513",
   "metadata": {},
   "source": [
    "---\n",
    "\n",
    "The following cell creates a tensor with the dimensionality `(3, 2, 3, 3)`. We'll interpret this as 3 cubes with 2 layers, 3 rows and 3 columns."
   ]
  },
  {
   "cell_type": "code",
   "execution_count": 10,
   "id": "9380895d-1b6d-4f2e-b9ab-4e31ec9fa671",
   "metadata": {},
   "outputs": [
    {
     "data": {
      "text/plain": [
       "tensor([[[[0., 0., 0.],\n",
       "          [0., 0., 0.],\n",
       "          [0., 0., 0.]],\n",
       "\n",
       "         [[0., 0., 0.],\n",
       "          [0., 0., 0.],\n",
       "          [0., 0., 0.]]],\n",
       "\n",
       "\n",
       "        [[[0., 0., 0.],\n",
       "          [0., 0., 0.],\n",
       "          [0., 0., 0.]],\n",
       "\n",
       "         [[0., 0., 0.],\n",
       "          [0., 0., 0.],\n",
       "          [0., 0., 0.]]],\n",
       "\n",
       "\n",
       "        [[[0., 0., 0.],\n",
       "          [0., 0., 0.],\n",
       "          [0., 0., 0.]],\n",
       "\n",
       "         [[0., 0., 0.],\n",
       "          [0., 0., 0.],\n",
       "          [0., 0., 0.]]]])"
      ]
     },
     "execution_count": 10,
     "metadata": {},
     "output_type": "execute_result"
    }
   ],
   "source": [
    "a = torch.zeros((3, 2, 3, 3))\n",
    "a"
   ]
  },
  {
   "cell_type": "markdown",
   "id": "2035d917",
   "metadata": {},
   "source": [
    "Suppose we need to add same number to the corresponding layer of each cube. Let it be 2 for first layer and 3 for second layer. So we have to create tensor with dimentions `(2,1,1)` - which you can understand as two elements in different layers."
   ]
  },
  {
   "cell_type": "code",
   "execution_count": 19,
   "id": "7a54f8aa",
   "metadata": {},
   "outputs": [
    {
     "name": "stdout",
     "output_type": "stream",
     "text": [
      "tensor([[[2]],\n",
      "\n",
      "        [[3]]])\n",
      "torch.Size([2, 1, 1])\n"
     ]
    }
   ],
   "source": [
    "b = torch.tensor([[[2]], [[3]]])\n",
    "print(b)\n",
    "print(b.shape)"
   ]
  },
  {
   "cell_type": "markdown",
   "id": "5c094d79-6882-4404-9f96-2607f34bcd28",
   "metadata": {},
   "source": [
    "Now perform an addition operation on the corresponding layer of each cube."
   ]
  },
  {
   "cell_type": "code",
   "execution_count": 21,
   "id": "307350e1-1cbd-40e7-a9fe-12a41df02f43",
   "metadata": {},
   "outputs": [
    {
     "data": {
      "text/plain": [
       "tensor([[[[2., 2., 2.],\n",
       "          [2., 2., 2.],\n",
       "          [2., 2., 2.]],\n",
       "\n",
       "         [[3., 3., 3.],\n",
       "          [3., 3., 3.],\n",
       "          [3., 3., 3.]]],\n",
       "\n",
       "\n",
       "        [[[2., 2., 2.],\n",
       "          [2., 2., 2.],\n",
       "          [2., 2., 2.]],\n",
       "\n",
       "         [[3., 3., 3.],\n",
       "          [3., 3., 3.],\n",
       "          [3., 3., 3.]]],\n",
       "\n",
       "\n",
       "        [[[2., 2., 2.],\n",
       "          [2., 2., 2.],\n",
       "          [2., 2., 2.]],\n",
       "\n",
       "         [[3., 3., 3.],\n",
       "          [3., 3., 3.],\n",
       "          [3., 3., 3.]]]])"
      ]
     },
     "execution_count": 21,
     "metadata": {},
     "output_type": "execute_result"
    }
   ],
   "source": [
    "a + b"
   ]
  }
 ],
 "metadata": {
  "kernelspec": {
   "display_name": "Python 3 (ipykernel)",
   "language": "python",
   "name": "python3"
  },
  "language_info": {
   "codemirror_mode": {
    "name": "ipython",
    "version": 3
   },
   "file_extension": ".py",
   "mimetype": "text/x-python",
   "name": "python",
   "nbconvert_exporter": "python",
   "pygments_lexer": "ipython3",
   "version": "3.10.12"
  }
 },
 "nbformat": 4,
 "nbformat_minor": 5
}
