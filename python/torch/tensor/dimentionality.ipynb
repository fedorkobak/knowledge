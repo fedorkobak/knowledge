{
 "cells": [
  {
   "cell_type": "markdown",
   "metadata": {},
   "source": [
    "# Dimentionality\n",
    "\n",
    "Dimentionality is a crucial property of the tensor, so it's important to know the torch tools to manage dimentionality."
   ]
  },
  {
   "cell_type": "code",
   "execution_count": 12,
   "metadata": {},
   "outputs": [],
   "source": [
    "import torch\n",
    "from random import randint\n",
    "\n",
    "test_tensor = torch.zeros([randint(2, 10) for i in range(randint(3, 6))])"
   ]
  },
  {
   "cell_type": "markdown",
   "metadata": {},
   "source": [
    "## Get\n",
    "\n",
    "There are two methods to get `torch.Tensor` dimentionality to use `torch.Tensor.shape` attribute or to use `torch.Tensor.size` methods."
   ]
  },
  {
   "cell_type": "markdown",
   "metadata": {},
   "source": [
    "---\n",
    "\n",
    "In the follwing cells both methods were applied to the `test_tensor`."
   ]
  },
  {
   "cell_type": "code",
   "execution_count": 13,
   "metadata": {},
   "outputs": [
    {
     "data": {
      "text/plain": [
       "torch.Size([4, 6, 6, 3, 5, 2])"
      ]
     },
     "execution_count": 13,
     "metadata": {},
     "output_type": "execute_result"
    }
   ],
   "source": [
    "test_tensor.shape"
   ]
  },
  {
   "cell_type": "code",
   "execution_count": 14,
   "metadata": {},
   "outputs": [
    {
     "data": {
      "text/plain": [
       "torch.Size([4, 6, 6, 3, 5, 2])"
      ]
     },
     "execution_count": 14,
     "metadata": {},
     "output_type": "execute_result"
    }
   ],
   "source": [
    "test_tensor.size()"
   ]
  },
  {
   "cell_type": "markdown",
   "metadata": {},
   "source": [
    "### `torch.Size`\n",
    "\n",
    "`torch.Size` object keeps dimentionality in it. It have some features:"
   ]
  },
  {
   "cell_type": "markdown",
   "metadata": {},
   "source": [
    "Typical Python indexing methods."
   ]
  },
  {
   "cell_type": "code",
   "execution_count": 37,
   "metadata": {},
   "outputs": [
    {
     "name": "stdout",
     "output_type": "stream",
     "text": [
      "Original shape torch.Size([6, 6, 5, 4, 2, 3, 2])\n",
      "Shape slice torch.Size([6, 5, 4, 2])\n"
     ]
    }
   ],
   "source": [
    "tens = torch.zeros([randint(2,6) for i in range(7)])\n",
    "print(\"Original shape\", tens.shape)\n",
    "print(\"Shape slice\", tens.shape[1:5])"
   ]
  },
  {
   "cell_type": "markdown",
   "metadata": {},
   "source": [
    "Some operators will have meaning when used with certain types of data. \n",
    "For example, `==` works with `tuple` or `list`."
   ]
  },
  {
   "cell_type": "code",
   "execution_count": 24,
   "metadata": {},
   "outputs": [
    {
     "data": {
      "text/plain": [
       "(True, False)"
      ]
     },
     "execution_count": 24,
     "metadata": {},
     "output_type": "execute_result"
    }
   ],
   "source": [
    "tens = torch.Tensor(4,3)\n",
    "(\n",
    "    tens.shape == (4, 3), \n",
    "    tens.shape == [3, 1]\n",
    ")"
   ]
  },
  {
   "cell_type": "markdown",
   "metadata": {},
   "source": [
    "## Null dimentional tensors\n",
    "\n",
    "In PyTorch, there are \"null-dimensional\" tensors, which are tensors with a single value. In such cases, the tensor appears without any square brackets denoting its dimensionality. For example, when we print the tensor, it doesn't show any brackets to indicate it's a single value. When we print its shape, it displays an empty list, signifying that the tensor has no dimensions."
   ]
  },
  {
   "cell_type": "code",
   "execution_count": 38,
   "metadata": {},
   "outputs": [
    {
     "name": "stdout",
     "output_type": "stream",
     "text": [
      "tensor(3)\n",
      "torch.Size([])\n"
     ]
    }
   ],
   "source": [
    "example_tensor = torch.tensor(3)\n",
    "print(example_tensor)\n",
    "print(example_tensor.shape)"
   ]
  },
  {
   "cell_type": "markdown",
   "metadata": {},
   "source": [
    "## Change dimentionality\n",
    "\n",
    "The easiest way to change the dimensionality of a tensor is to use the `torch.reshape` function or `torch.torch.reshape` method of the tensor you're reshaping. All you have to do is specify a new dimensionality, quite obviously the number of elements in the new dimensionality must be equal to the number of elements in the tensor to be reshaped."
   ]
  },
  {
   "cell_type": "markdown",
   "metadata": {},
   "source": [
    "---\n",
    "\n",
    "Consider an example with 12 arange elements."
   ]
  },
  {
   "cell_type": "code",
   "execution_count": 52,
   "metadata": {},
   "outputs": [
    {
     "name": "stdout",
     "output_type": "stream",
     "text": [
      "original tensor([ 0,  1,  2,  3,  4,  5,  6,  7,  8,  9, 10, 11])\n"
     ]
    }
   ],
   "source": [
    "original_tensor = torch.arange(12)\n",
    "print(\"original\", original_tensor)"
   ]
  },
  {
   "cell_type": "markdown",
   "metadata": {},
   "source": [
    "The following cell reshapes it to the `(6, 2)` dimensionality."
   ]
  },
  {
   "cell_type": "code",
   "execution_count": 53,
   "metadata": {},
   "outputs": [
    {
     "data": {
      "text/plain": [
       "tensor([[ 0,  1],\n",
       "        [ 2,  3],\n",
       "        [ 4,  5],\n",
       "        [ 6,  7],\n",
       "        [ 8,  9],\n",
       "        [10, 11]])"
      ]
     },
     "execution_count": 53,
     "metadata": {},
     "output_type": "execute_result"
    }
   ],
   "source": [
    "original_tensor.reshape(6,2)"
   ]
  },
  {
   "cell_type": "markdown",
   "metadata": {},
   "source": [
    "The elements are sequentially obtained in their order, and first fill the innermost dimension, then the next one, and so on."
   ]
  },
  {
   "cell_type": "markdown",
   "metadata": {},
   "source": [
    "Same result with more complex result dimentionality."
   ]
  },
  {
   "cell_type": "code",
   "execution_count": 54,
   "metadata": {},
   "outputs": [
    {
     "data": {
      "text/plain": [
       "tensor([[[ 0,  1],\n",
       "         [ 2,  3]],\n",
       "\n",
       "        [[ 4,  5],\n",
       "         [ 6,  7]],\n",
       "\n",
       "        [[ 8,  9],\n",
       "         [10, 11]]])"
      ]
     },
     "execution_count": 54,
     "metadata": {},
     "output_type": "execute_result"
    }
   ],
   "source": [
    "original_tensor.reshape(3,2,2)"
   ]
  },
  {
   "cell_type": "markdown",
   "metadata": {},
   "source": [
    "Similarly, when reshaping complex dimensions, it will extract elements from the most nested dimensions. The following example breaks the original sequence of elements with transposition, and then reshapes the resulting array to the 1D dimensionality."
   ]
  },
  {
   "cell_type": "code",
   "execution_count": 67,
   "metadata": {},
   "outputs": [
    {
     "name": "stdout",
     "output_type": "stream",
     "text": [
      "Transposed \n",
      " tensor([[ 0,  6],\n",
      "        [ 1,  7],\n",
      "        [ 2,  8],\n",
      "        [ 3,  9],\n",
      "        [ 4, 10],\n",
      "        [ 5, 11]])\n"
     ]
    },
    {
     "data": {
      "text/plain": [
       "tensor([ 0,  6,  1,  7,  2,  8,  3,  9,  4, 10,  5, 11])"
      ]
     },
     "execution_count": 67,
     "metadata": {},
     "output_type": "execute_result"
    }
   ],
   "source": [
    "transposed_tensor = original_tensor.reshape(2, 6).T\n",
    "print(\"Transposed \\n\", transposed_tensor)\n",
    "\n",
    "transposed_tensor.reshape(12)"
   ]
  },
  {
   "cell_type": "markdown",
   "metadata": {},
   "source": [
    "It takes elements from inndermost dimentionalty gradually moving to more and more external dimensions. "
   ]
  }
 ],
 "metadata": {
  "kernelspec": {
   "display_name": "venv",
   "language": "python",
   "name": "python3"
  },
  "language_info": {
   "codemirror_mode": {
    "name": "ipython",
    "version": 3
   },
   "file_extension": ".py",
   "mimetype": "text/x-python",
   "name": "python",
   "nbconvert_exporter": "python",
   "pygments_lexer": "ipython3",
   "version": "3.10.14"
  }
 },
 "nbformat": 4,
 "nbformat_minor": 2
}
