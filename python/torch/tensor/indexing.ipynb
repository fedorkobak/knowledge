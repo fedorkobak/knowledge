{
 "cells": [
  {
   "cell_type": "markdown",
   "metadata": {},
   "source": [
    "# Indexing"
   ]
  },
  {
   "cell_type": "code",
   "execution_count": 8,
   "metadata": {},
   "outputs": [],
   "source": [
    "import torch\n",
    "from math import prod\n",
    "\n",
    "experimental = torch.arange(12).reshape(3, 4)"
   ]
  },
  {
   "cell_type": "markdown",
   "metadata": {},
   "source": [
    "## All elements along axis"
   ]
  },
  {
   "cell_type": "markdown",
   "metadata": {},
   "source": [
    "You can access elements from specific dimensions in a tensor using index notation within square brackets. Simply pass the desired indexes to retrieve values from corresponding rows, columns, or other dimensions. If you want to include all elements along a particular dimension without subsampling, use the `:` operator, which signifies 'take all elements' along the specified axis. Check following example:"
   ]
  },
  {
   "cell_type": "code",
   "execution_count": 9,
   "metadata": {},
   "outputs": [
    {
     "name": "stdout",
     "output_type": "stream",
     "text": [
      "row 1 tensor([4, 5, 6, 7])\n",
      "column 3 tensor([ 3,  7, 11])\n"
     ]
    }
   ],
   "source": [
    "print(\"row 1\", experimental[1])\n",
    "print(\"column 3\", experimental[:, 3])"
   ]
  },
  {
   "cell_type": "markdown",
   "metadata": {},
   "source": [
    "## Slicing\n",
    "\n",
    "Torch indexing support slicing. The following example selects 0-th and 2-nd columns from experimental tensor."
   ]
  },
  {
   "cell_type": "code",
   "execution_count": 10,
   "metadata": {},
   "outputs": [
    {
     "data": {
      "text/plain": [
       "tensor([[ 0,  2],\n",
       "        [ 4,  6],\n",
       "        [ 8, 10]])"
      ]
     },
     "execution_count": 10,
     "metadata": {},
     "output_type": "execute_result"
    }
   ],
   "source": [
    "experimental[:, 0:4:2]"
   ]
  },
  {
   "cell_type": "markdown",
   "metadata": {},
   "source": [
    "## Iterable oject\n",
    "\n",
    "It is also possible to **use iterable objects** to select subtensors from the original tensor. The following example demonstrates using a `list` to select the second and third rows from the end of the tensor."
   ]
  },
  {
   "cell_type": "code",
   "execution_count": 11,
   "metadata": {},
   "outputs": [
    {
     "data": {
      "text/plain": [
       "tensor([[4, 5, 6, 7],\n",
       "        [0, 1, 2, 3]])"
      ]
     },
     "execution_count": 11,
     "metadata": {},
     "output_type": "execute_result"
    }
   ],
   "source": [
    "experimental[[-2,-3]]"
   ]
  },
  {
   "cell_type": "markdown",
   "metadata": {},
   "source": [
    "## New dimention\n",
    "\n",
    "Using `None` in indexing allows you to add new dimensions to the tensor. It'll add dimetion on the axis `None` displayed on."
   ]
  },
  {
   "cell_type": "markdown",
   "metadata": {},
   "source": [
    "---\n",
    "\n",
    "As example, we'll considering two dimention tensor created in the following cell."
   ]
  },
  {
   "cell_type": "code",
   "execution_count": 49,
   "metadata": {},
   "outputs": [
    {
     "data": {
      "text/plain": [
       "tensor([[ 0,  1,  2],\n",
       "        [ 3,  4,  5],\n",
       "        [ 6,  7,  8],\n",
       "        [ 9, 10, 11]])"
      ]
     },
     "execution_count": 49,
     "metadata": {},
     "output_type": "execute_result"
    }
   ],
   "source": [
    "none_example_tensor = torch.arange(12).reshape(4,3)\n",
    "none_example_tensor"
   ]
  },
  {
   "cell_type": "markdown",
   "metadata": {},
   "source": [
    "By putting `None` at the top, we've got a new outer axis, so the whole matrix has been wrapped in the extra layer."
   ]
  },
  {
   "cell_type": "code",
   "execution_count": 58,
   "metadata": {},
   "outputs": [
    {
     "name": "stdout",
     "output_type": "stream",
     "text": [
      "tensor([[[ 0,  1,  2],\n",
      "         [ 3,  4,  5],\n",
      "         [ 6,  7,  8],\n",
      "         [ 9, 10, 11]]])\n"
     ]
    },
    {
     "data": {
      "text/plain": [
       "torch.Size([1, 4, 3])"
      ]
     },
     "execution_count": 58,
     "metadata": {},
     "output_type": "execute_result"
    }
   ],
   "source": [
    "res = none_example_tensor[None]\n",
    "print(res)\n",
    "res.shape"
   ]
  },
  {
   "cell_type": "markdown",
   "metadata": {},
   "source": [
    "By placing `None` on the second axis, we'll create a new axis at the second position - each row of the matrix will be wrapped as a separate one-row matrix."
   ]
  },
  {
   "cell_type": "code",
   "execution_count": 56,
   "metadata": {},
   "outputs": [
    {
     "name": "stdout",
     "output_type": "stream",
     "text": [
      "tensor([[[ 0,  1,  2]],\n",
      "\n",
      "        [[ 3,  4,  5]],\n",
      "\n",
      "        [[ 6,  7,  8]],\n",
      "\n",
      "        [[ 9, 10, 11]]])\n",
      "torch.Size([4, 1, 3])\n"
     ]
    }
   ],
   "source": [
    "res = none_example_tensor[:, None]\n",
    "print(res)\n",
    "print(res.shape)"
   ]
  },
  {
   "cell_type": "markdown",
   "metadata": {},
   "source": [
    "By placing `None` on the last axis, we create a new axis as the most nested axis - each number of the input tensor is now a small one-element vector."
   ]
  },
  {
   "cell_type": "code",
   "execution_count": 59,
   "metadata": {},
   "outputs": [
    {
     "name": "stdout",
     "output_type": "stream",
     "text": [
      "tensor([[[ 0],\n",
      "         [ 1],\n",
      "         [ 2]],\n",
      "\n",
      "        [[ 3],\n",
      "         [ 4],\n",
      "         [ 5]],\n",
      "\n",
      "        [[ 6],\n",
      "         [ 7],\n",
      "         [ 8]],\n",
      "\n",
      "        [[ 9],\n",
      "         [10],\n",
      "         [11]]])\n",
      "torch.Size([4, 3, 1])\n"
     ]
    }
   ],
   "source": [
    "res = none_example_tensor[:, :, None]\n",
    "print(res)\n",
    "print(res.shape)"
   ]
  }
 ],
 "metadata": {
  "kernelspec": {
   "display_name": "venv",
   "language": "python",
   "name": "python3"
  },
  "language_info": {
   "codemirror_mode": {
    "name": "ipython",
    "version": 3
   },
   "file_extension": ".py",
   "mimetype": "text/x-python",
   "name": "python",
   "nbconvert_exporter": "python",
   "pygments_lexer": "ipython3",
   "version": "3.10.14"
  }
 },
 "nbformat": 4,
 "nbformat_minor": 2
}
