{
 "cells": [
  {
   "cell_type": "markdown",
   "metadata": {},
   "source": [
    "# Creating methods\n",
    "\n",
    "This page looks at different ways of creating a tensor in Pytorch."
   ]
  },
  {
   "cell_type": "code",
   "execution_count": 2,
   "metadata": {},
   "outputs": [],
   "source": [
    "import torch"
   ]
  },
  {
   "cell_type": "markdown",
   "metadata": {},
   "source": [
    "## Allocating memory\n",
    "\n",
    "`torch.Tensor` just allocates memory for the tensor and uses the values that is still there from previous processes."
   ]
  },
  {
   "cell_type": "code",
   "execution_count": 2,
   "metadata": {},
   "outputs": [
    {
     "data": {
      "text/plain": [
       "tensor([[[-7.5724e+09,  4.1862e-41, -7.5724e+09,  4.1862e-41,  4.4377e+27],\n",
       "         [ 7.2143e+22,  4.7987e+30,  1.9887e+23,  1.0893e+27,  4.1576e+21]],\n",
       "\n",
       "        [[ 7.3697e+28,  7.1221e+28,  1.9349e-19,  2.0535e-19,  1.9284e+31],\n",
       "         [ 1.9431e-19,  1.8976e+37,  6.6522e-33,  1.3563e-19,  7.4409e+28]],\n",
       "\n",
       "        [[ 1.2713e+31,  1.8499e+20,  1.6078e+19,  3.2770e+09,  1.7689e+31],\n",
       "         [ 1.6460e+19,  7.1435e+31,  1.8177e+31,  6.8292e+22,  7.8979e+34]]])"
      ]
     },
     "execution_count": 2,
     "metadata": {},
     "output_type": "execute_result"
    }
   ],
   "source": [
    "torch.Tensor(3,2,5)"
   ]
  },
  {
   "cell_type": "markdown",
   "metadata": {},
   "source": [
    "## Specify values\n",
    "\n",
    "For creating tensor **with specified** values use `torch.tensor`."
   ]
  },
  {
   "cell_type": "code",
   "execution_count": 3,
   "metadata": {},
   "outputs": [
    {
     "data": {
      "text/plain": [
       "tensor([[1, 2, 3],\n",
       "        [3, 4, 5]])"
      ]
     },
     "execution_count": 3,
     "metadata": {},
     "output_type": "execute_result"
    }
   ],
   "source": [
    "torch.tensor([[1,2,3], [3,4,5]])"
   ]
  },
  {
   "cell_type": "markdown",
   "metadata": {},
   "source": [
    "## Random distributions\n",
    "\n",
    "There are some functions in Torch that allow you to generate arrays of what values belong to the particle distribution. Such function listed in the following table:\n",
    "\n",
    "| Function             | Description                                                                                      |\n",
    "|----------------------|--------------------------------------------------------------------------------------------------|\n",
    "| `torch.rand`         | Generates a tensor with random values from a uniform distribution in the range [0, 1).           |\n",
    "| `torch.randn`        | Generates a tensor with random values from a standard normal distribution (mean 0, variance 1). |\n",
    "| `torch.randint`      | Generates a tensor with random integers within a specified range.                               |\n",
    "| `torch.normal`       | Generates a tensor with random values from a normal distribution with specified mean and std. dev. |\n",
    "| `torch.uniform`      | Generates a tensor with random values from a uniform distribution within a specified range.     |\n",
    "| `torch.bernoulli`    | Generates a tensor of random binary values drawn from a Bernoulli distribution with specified probability of success. |\n",
    "| `torch.multinomial`  | Generates a tensor of indices drawn from a multinomial distribution based on specified probabilities. |\n",
    "| `torch.categorical`  | Generates a tensor of indices drawn from a categorical distribution based on specified probabilities. |\n",
    "| `torch.manual_seed`  | Seeds the random number generator to ensure reproducibility.                                     |\n",
    "\n",
    "Some of them considered closer in the [specific page](creating_methods/random_distributions.ipynb)."
   ]
  },
  {
   "cell_type": "markdown",
   "metadata": {},
   "source": [
    "---\n",
    "\n",
    "Here is example of using `torch.rand`."
   ]
  },
  {
   "cell_type": "code",
   "execution_count": 4,
   "metadata": {},
   "outputs": [
    {
     "data": {
      "text/plain": [
       "tensor([[[0.1544, 0.3327, 0.8823],\n",
       "         [0.7947, 0.1878, 0.3090],\n",
       "         [0.3538, 0.1027, 0.3000]],\n",
       "\n",
       "        [[0.2457, 0.3978, 0.9850],\n",
       "         [0.8457, 0.8203, 0.3024],\n",
       "         [0.0055, 0.9485, 0.3854]],\n",
       "\n",
       "        [[0.7654, 0.3898, 0.1176],\n",
       "         [0.0242, 0.6451, 0.4490],\n",
       "         [0.8737, 0.9906, 0.2242]]])"
      ]
     },
     "execution_count": 4,
     "metadata": {},
     "output_type": "execute_result"
    }
   ],
   "source": [
    "torch.rand(3, 3, 3)"
   ]
  },
  {
   "cell_type": "markdown",
   "metadata": {},
   "source": [
    "## Same values\n",
    "\n",
    "There are many cases where you need a tensor that contains all the same values. This section shows some related functions."
   ]
  },
  {
   "cell_type": "markdown",
   "metadata": {},
   "source": [
    "With `torch.zeros` you can generate all zeros."
   ]
  },
  {
   "cell_type": "code",
   "execution_count": 21,
   "metadata": {},
   "outputs": [
    {
     "data": {
      "text/plain": [
       "tensor([[[0., 0.],\n",
       "         [0., 0.]],\n",
       "\n",
       "        [[0., 0.],\n",
       "         [0., 0.]]])"
      ]
     },
     "execution_count": 21,
     "metadata": {},
     "output_type": "execute_result"
    }
   ],
   "source": [
    "torch.zeros(2, 2, 2)"
   ]
  },
  {
   "cell_type": "markdown",
   "metadata": {},
   "source": [
    "With `torch.ones` you can generate all ones."
   ]
  },
  {
   "cell_type": "code",
   "execution_count": 22,
   "metadata": {},
   "outputs": [
    {
     "data": {
      "text/plain": [
       "tensor([[[1., 1.],\n",
       "         [1., 1.]],\n",
       "\n",
       "        [[1., 1.],\n",
       "         [1., 1.]]])"
      ]
     },
     "execution_count": 22,
     "metadata": {},
     "output_type": "execute_result"
    }
   ],
   "source": [
    "torch.ones(2, 2, 2)"
   ]
  },
  {
   "cell_type": "markdown",
   "metadata": {},
   "source": [
    "With `torch.full` you can generate array filled with specified value."
   ]
  },
  {
   "cell_type": "code",
   "execution_count": 10,
   "metadata": {},
   "outputs": [
    {
     "data": {
      "text/plain": [
       "tensor([[8, 8, 8, 8],\n",
       "        [8, 8, 8, 8]])"
      ]
     },
     "execution_count": 10,
     "metadata": {},
     "output_type": "execute_result"
    }
   ],
   "source": [
    "torch.full([2, 4], 8)"
   ]
  },
  {
   "cell_type": "markdown",
   "metadata": {},
   "source": [
    "## Dimentionality like\n",
    "\n",
    "There are a number of functions in torch that generate arrays that copy dimensionality from given array. It's typical if they end with `_like` pattern. Such known functions are listed in the following table.\n",
    "\n",
    "| Function            | Description                                                               |\n",
    "|---------------------|---------------------------------------------------------------------------|\n",
    "| `empty_like`        | Returns a tensor with the same size as the input tensor, but with uninitialized data. |\n",
    "| `full_like`         | Returns a tensor with the same size as the input tensor, filled with a specified value. |\n",
    "| `ones_like`         | Returns a tensor with the same size as the input tensor, filled with ones. |\n",
    "| `rand_like`         | Returns a tensor with the same size as the input tensor, filled with random values from a uniform distribution. |\n",
    "| `randint_like`      | Returns a tensor with the same size as the input tensor, filled with random integers within a specified range. |\n",
    "| `randn_like`        | Returns a tensor with the same size as the input tensor, filled with random values from a normal distribution. |\n",
    "| `zeros_like`        | Returns a tensor with the same size as the input tensor, filled with zeros. |\n"
   ]
  },
  {
   "cell_type": "markdown",
   "metadata": {},
   "source": [
    "Here is an example of using `torch.randint_like`, which is actually the same as `torch.randint` but follows the dimentionality of the input tensor."
   ]
  },
  {
   "cell_type": "code",
   "execution_count": 4,
   "metadata": {},
   "outputs": [
    {
     "data": {
      "text/plain": [
       "tensor([[9., 2., 8., 0., 1., 0., 4., 4., 5., 0.],\n",
       "        [1., 2., 9., 2., 2., 8., 5., 0., 7., 9.],\n",
       "        [4., 2., 2., 5., 5., 9., 7., 6., 0., 7.],\n",
       "        [5., 5., 5., 7., 7., 0., 6., 1., 4., 2.],\n",
       "        [3., 5., 3., 9., 2., 4., 2., 2., 4., 5.],\n",
       "        [7., 5., 2., 0., 9., 8., 4., 8., 1., 7.],\n",
       "        [8., 5., 2., 2., 4., 2., 7., 9., 3., 8.],\n",
       "        [9., 0., 0., 0., 9., 7., 9., 6., 9., 7.],\n",
       "        [8., 9., 7., 1., 7., 4., 1., 0., 2., 6.],\n",
       "        [1., 2., 8., 8., 0., 7., 2., 3., 1., 9.]])"
      ]
     },
     "execution_count": 4,
     "metadata": {},
     "output_type": "execute_result"
    }
   ],
   "source": [
    "torch.randint_like(torch.Tensor(10,10), 0, 10)"
   ]
  },
  {
   "cell_type": "markdown",
   "metadata": {},
   "source": [
    "## Unit matrix\n",
    "\n",
    "The `torch.eye` function allows you to create a unit matrix."
   ]
  },
  {
   "cell_type": "code",
   "execution_count": 3,
   "metadata": {},
   "outputs": [
    {
     "data": {
      "text/plain": [
       "tensor([[1., 0., 0., 0., 0.],\n",
       "        [0., 1., 0., 0., 0.],\n",
       "        [0., 0., 1., 0., 0.],\n",
       "        [0., 0., 0., 1., 0.],\n",
       "        [0., 0., 0., 0., 1.]])"
      ]
     },
     "execution_count": 3,
     "metadata": {},
     "output_type": "execute_result"
    }
   ],
   "source": [
    "torch.eye(5)"
   ]
  }
 ],
 "metadata": {
  "kernelspec": {
   "display_name": "Python 3",
   "language": "python",
   "name": "python3"
  },
  "language_info": {
   "codemirror_mode": {
    "name": "ipython",
    "version": 3
   },
   "file_extension": ".py",
   "mimetype": "text/x-python",
   "name": "python",
   "nbconvert_exporter": "python",
   "pygments_lexer": "ipython3",
   "version": "3.10.12"
  }
 },
 "nbformat": 4,
 "nbformat_minor": 2
}
