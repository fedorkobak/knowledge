{
 "cells": [
  {
   "cell_type": "markdown",
   "metadata": {},
   "source": [
    "# Creating methods\n",
    "\n",
    "This page looks at different ways of creating a tensor in Pytorch."
   ]
  },
  {
   "cell_type": "code",
   "execution_count": 14,
   "metadata": {},
   "outputs": [],
   "source": [
    "import torch\n",
    "\n",
    "import seaborn as sns\n",
    "import matplotlib.pyplot as plt"
   ]
  },
  {
   "cell_type": "markdown",
   "metadata": {},
   "source": [
    "## Allocating memory\n",
    "\n",
    "`torch.Tensor` just allocates memory for the tensor and uses the values that is still there from previous processes."
   ]
  },
  {
   "cell_type": "code",
   "execution_count": 2,
   "metadata": {},
   "outputs": [
    {
     "data": {
      "text/plain": [
       "tensor([[[-7.5724e+09,  4.1862e-41, -7.5724e+09,  4.1862e-41,  4.4377e+27],\n",
       "         [ 7.2143e+22,  4.7987e+30,  1.9887e+23,  1.0893e+27,  4.1576e+21]],\n",
       "\n",
       "        [[ 7.3697e+28,  7.1221e+28,  1.9349e-19,  2.0535e-19,  1.9284e+31],\n",
       "         [ 1.9431e-19,  1.8976e+37,  6.6522e-33,  1.3563e-19,  7.4409e+28]],\n",
       "\n",
       "        [[ 1.2713e+31,  1.8499e+20,  1.6078e+19,  3.2770e+09,  1.7689e+31],\n",
       "         [ 1.6460e+19,  7.1435e+31,  1.8177e+31,  6.8292e+22,  7.8979e+34]]])"
      ]
     },
     "execution_count": 2,
     "metadata": {},
     "output_type": "execute_result"
    }
   ],
   "source": [
    "torch.Tensor(3,2,5)"
   ]
  },
  {
   "cell_type": "markdown",
   "metadata": {},
   "source": [
    "## Specify values\n",
    "\n",
    "For creating tensor **with specified** values use `torch.tensor`."
   ]
  },
  {
   "cell_type": "code",
   "execution_count": 3,
   "metadata": {},
   "outputs": [
    {
     "data": {
      "text/plain": [
       "tensor([[1, 2, 3],\n",
       "        [3, 4, 5]])"
      ]
     },
     "execution_count": 3,
     "metadata": {},
     "output_type": "execute_result"
    }
   ],
   "source": [
    "torch.tensor([[1,2,3], [3,4,5]])"
   ]
  },
  {
   "cell_type": "markdown",
   "metadata": {},
   "source": [
    "## Random values\n",
    "\n",
    "To create a tensor **with random** values, use `torch.random`."
   ]
  },
  {
   "cell_type": "code",
   "execution_count": 4,
   "metadata": {},
   "outputs": [
    {
     "data": {
      "text/plain": [
       "tensor([[[0.1544, 0.3327, 0.8823],\n",
       "         [0.7947, 0.1878, 0.3090],\n",
       "         [0.3538, 0.1027, 0.3000]],\n",
       "\n",
       "        [[0.2457, 0.3978, 0.9850],\n",
       "         [0.8457, 0.8203, 0.3024],\n",
       "         [0.0055, 0.9485, 0.3854]],\n",
       "\n",
       "        [[0.7654, 0.3898, 0.1176],\n",
       "         [0.0242, 0.6451, 0.4490],\n",
       "         [0.8737, 0.9906, 0.2242]]])"
      ]
     },
     "execution_count": 4,
     "metadata": {},
     "output_type": "execute_result"
    }
   ],
   "source": [
    "torch.rand(3, 3, 3)"
   ]
  },
  {
   "cell_type": "markdown",
   "metadata": {},
   "source": [
    "The result will be randomly generated values with a uniform distribution from 0 to 1. The following graph shows the histogram for generation."
   ]
  },
  {
   "cell_type": "code",
   "execution_count": 15,
   "metadata": {},
   "outputs": [
    {
     "data": {
      "image/png": "[encoded data removed]",
      "text/plain": [
       "<Figure size 640x480 with 1 Axes>"
      ]
     },
     "metadata": {},
     "output_type": "display_data"
    }
   ],
   "source": [
    "sns.histplot(torch.rand(10000).numpy())\n",
    "plt.show()"
   ]
  },
  {
   "cell_type": "markdown",
   "metadata": {},
   "source": [
    "## Same values\n",
    "\n",
    "There are many cases where you need a tensor that contains all the same values. This section shows some related functions."
   ]
  },
  {
   "cell_type": "markdown",
   "metadata": {},
   "source": [
    "With `torch.zeros` you can generate all zeros."
   ]
  },
  {
   "cell_type": "code",
   "execution_count": 21,
   "metadata": {},
   "outputs": [
    {
     "data": {
      "text/plain": [
       "tensor([[[0., 0.],\n",
       "         [0., 0.]],\n",
       "\n",
       "        [[0., 0.],\n",
       "         [0., 0.]]])"
      ]
     },
     "execution_count": 21,
     "metadata": {},
     "output_type": "execute_result"
    }
   ],
   "source": [
    "torch.zeros(2, 2, 2)"
   ]
  },
  {
   "cell_type": "markdown",
   "metadata": {},
   "source": [
    "With `torch.ones` you can generate all ones."
   ]
  },
  {
   "cell_type": "code",
   "execution_count": 22,
   "metadata": {},
   "outputs": [
    {
     "data": {
      "text/plain": [
       "tensor([[[1., 1.],\n",
       "         [1., 1.]],\n",
       "\n",
       "        [[1., 1.],\n",
       "         [1., 1.]]])"
      ]
     },
     "execution_count": 22,
     "metadata": {},
     "output_type": "execute_result"
    }
   ],
   "source": [
    "torch.ones(2, 2, 2)"
   ]
  }
 ],
 "metadata": {
  "kernelspec": {
   "display_name": "Python 3",
   "language": "python",
   "name": "python3"
  },
  "language_info": {
   "codemirror_mode": {
    "name": "ipython",
    "version": 3
   },
   "file_extension": ".py",
   "mimetype": "text/x-python",
   "name": "python",
   "nbconvert_exporter": "python",
   "pygments_lexer": "ipython3",
   "version": "3.10.12"
  }
 },
 "nbformat": 4,
 "nbformat_minor": 2
}
