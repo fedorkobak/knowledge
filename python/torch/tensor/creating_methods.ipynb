{
 "cells": [
  {
   "cell_type": "markdown",
   "metadata": {},
   "source": [
    "# Creating methods\n",
    "\n",
    "This page looks at different ways of creating a tensor in Pytorch."
   ]
  },
  {
   "cell_type": "code",
   "execution_count": 1,
   "metadata": {},
   "outputs": [],
   "source": [
    "import torch"
   ]
  },
  {
   "cell_type": "markdown",
   "metadata": {},
   "source": [
    "## Allocating memory\n",
    "\n",
    "`torch.Tensor` just allocates memory for the tensor and uses the values that is still there from previous processes."
   ]
  },
  {
   "cell_type": "code",
   "execution_count": 2,
   "metadata": {},
   "outputs": [
    {
     "data": {
      "text/plain": [
       "tensor([[[1.0893e+27, 4.1576e+21, 7.3697e+28, 7.1221e+28, 1.9349e-19],\n",
       "         [2.0535e-19, 1.9284e+31, 1.9431e-19, 1.8976e+37, 6.6522e-33]],\n",
       "\n",
       "        [[1.3563e-19, 7.4409e+28, 1.2713e+31, 1.8499e+20, 1.6078e+19],\n",
       "         [3.2770e+09, 1.7689e+31, 1.6460e+19, 7.1435e+31, 1.8177e+31]],\n",
       "\n",
       "        [[6.8292e+22, 7.8979e+34, 1.3556e-19, 4.5093e+27, 7.6831e+31],\n",
       "         [6.7593e+34, 1.8523e+28, 2.0615e-19, 9.2072e+11, 3.1410e+03]]])"
      ]
     },
     "execution_count": 2,
     "metadata": {},
     "output_type": "execute_result"
    }
   ],
   "source": [
    "torch.Tensor(3,2,5)"
   ]
  },
  {
   "cell_type": "markdown",
   "metadata": {},
   "source": [
    "## Specify values\n",
    "\n",
    "For creating tensor **with specified** values use `torch.tensor`."
   ]
  },
  {
   "cell_type": "code",
   "execution_count": 8,
   "metadata": {},
   "outputs": [
    {
     "data": {
      "text/plain": [
       "tensor([[1, 2, 3],\n",
       "        [3, 4, 5]])"
      ]
     },
     "execution_count": 8,
     "metadata": {},
     "output_type": "execute_result"
    }
   ],
   "source": [
    "torch.tensor([[1,2,3], [3,4,5]])"
   ]
  },
  {
   "cell_type": "markdown",
   "metadata": {},
   "source": [
    "## Random values\n",
    "\n",
    "For creating tensor **with random** values use `torch.random`."
   ]
  },
  {
   "cell_type": "code",
   "execution_count": 5,
   "metadata": {},
   "outputs": [
    {
     "data": {
      "text/plain": [
       "tensor([[[0.7251, 0.5233, 0.8536],\n",
       "         [0.4629, 0.3222, 0.2826],\n",
       "         [0.3703, 0.0113, 0.4685]],\n",
       "\n",
       "        [[0.8505, 0.9528, 0.5060],\n",
       "         [0.4150, 0.9585, 0.5233],\n",
       "         [0.0917, 0.4805, 0.4773]],\n",
       "\n",
       "        [[0.0570, 0.8759, 0.6732],\n",
       "         [0.5330, 0.1398, 0.1227],\n",
       "         [0.3241, 0.3911, 0.4317]]])"
      ]
     },
     "execution_count": 5,
     "metadata": {},
     "output_type": "execute_result"
    }
   ],
   "source": [
    "torch.rand(3, 3, 3)"
   ]
  }
 ],
 "metadata": {
  "kernelspec": {
   "display_name": "Python 3",
   "language": "python",
   "name": "python3"
  },
  "language_info": {
   "codemirror_mode": {
    "name": "ipython",
    "version": 3
   },
   "file_extension": ".py",
   "mimetype": "text/x-python",
   "name": "python",
   "nbconvert_exporter": "python",
   "pygments_lexer": "ipython3",
   "version": "3.10.12"
  }
 },
 "nbformat": 4,
 "nbformat_minor": 2
}
