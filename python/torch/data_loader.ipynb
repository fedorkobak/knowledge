{
 "cells": [
  {
   "cell_type": "markdown",
   "metadata": {},
   "source": [
    "# Data loader\n",
    "\n",
    "A `DataLoader` in PyTorch is an object that simplifies the process of splitting data into batches."
   ]
  },
  {
   "cell_type": "code",
   "execution_count": 1,
   "metadata": {},
   "outputs": [],
   "source": [
    "import torch"
   ]
  },
  {
   "cell_type": "markdown",
   "metadata": {},
   "source": [
    "## Drop incomplete batch\n",
    "\n",
    "The `drop_last` argument in `torch.DataLoader` controls whether the final batch is dropped if it doesn't contain enough elements to complete a full batch. If `drop_last=True`, any remaining samples that don't fit into a complete batch will be skipped."
   ]
  },
  {
   "cell_type": "markdown",
   "metadata": {},
   "source": [
    "---\n",
    "\n",
    "The following cell defines a `TensorDataset` tensor that used as base for dataset is showen."
   ]
  },
  {
   "cell_type": "code",
   "execution_count": 16,
   "metadata": {},
   "outputs": [
    {
     "name": "stdout",
     "output_type": "stream",
     "text": [
      "tensor([[ 0,  1,  2,  3,  4],\n",
      "        [ 5,  6,  7,  8,  9],\n",
      "        [10, 11, 12, 13, 14],\n",
      "        [15, 16, 17, 18, 19],\n",
      "        [20, 21, 22, 23, 24],\n",
      "        [25, 26, 27, 28, 29],\n",
      "        [30, 31, 32, 33, 34],\n",
      "        [35, 36, 37, 38, 39],\n",
      "        [40, 41, 42, 43, 44],\n",
      "        [45, 46, 47, 48, 49],\n",
      "        [50, 51, 52, 53, 54],\n",
      "        [55, 56, 57, 58, 59],\n",
      "        [60, 61, 62, 63, 64],\n",
      "        [65, 66, 67, 68, 69]])\n"
     ]
    }
   ],
   "source": [
    "samples = 14\n",
    "dimentinarity = 5\n",
    "\n",
    "input_tensor = torch.arange(\n",
    "    samples*dimentinarity\n",
    ").reshape(\n",
    "    samples, dimentinarity\n",
    ")\n",
    "print(input_tensor)\n",
    "\n",
    "dataset = torch.utils.data.TensorDataset(input_tensor)"
   ]
  },
  {
   "cell_type": "markdown",
   "metadata": {},
   "source": [
    "Suppose we decided to use `batch_size=4`. Since our 14 samples can't be evenly split into 4-size batches, the following cell defines such a `DataLoader` and prints all its batches."
   ]
  },
  {
   "cell_type": "code",
   "execution_count": 17,
   "metadata": {},
   "outputs": [
    {
     "name": "stdout",
     "output_type": "stream",
     "text": [
      "[tensor([[ 0,  1,  2,  3,  4],\n",
      "        [ 5,  6,  7,  8,  9],\n",
      "        [10, 11, 12, 13, 14],\n",
      "        [15, 16, 17, 18, 19]])]\n",
      "[tensor([[20, 21, 22, 23, 24],\n",
      "        [25, 26, 27, 28, 29],\n",
      "        [30, 31, 32, 33, 34],\n",
      "        [35, 36, 37, 38, 39]])]\n",
      "[tensor([[40, 41, 42, 43, 44],\n",
      "        [45, 46, 47, 48, 49],\n",
      "        [50, 51, 52, 53, 54],\n",
      "        [55, 56, 57, 58, 59]])]\n"
     ]
    }
   ],
   "source": [
    "data_loader = torch.utils.data.DataLoader(\n",
    "    dataset, \n",
    "    batch_size=4,\n",
    "    drop_last=True\n",
    ")\n",
    "\n",
    "for d in data_loader:\n",
    "    print(d)"
   ]
  },
  {
   "cell_type": "markdown",
   "metadata": {},
   "source": [
    "The numbers from the last two samples (from 60 to 69) haven't been printed because they didn't form a complete batch, and thus were not included."
   ]
  }
 ],
 "metadata": {
  "kernelspec": {
   "display_name": "Python 3",
   "language": "python",
   "name": "python3"
  },
  "language_info": {
   "codemirror_mode": {
    "name": "ipython",
    "version": 3
   },
   "file_extension": ".py",
   "mimetype": "text/x-python",
   "name": "python",
   "nbconvert_exporter": "python",
   "pygments_lexer": "ipython3",
   "version": "3.10.12"
  }
 },
 "nbformat": 4,
 "nbformat_minor": 2
}
