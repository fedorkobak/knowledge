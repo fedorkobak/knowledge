{
 "cells": [
  {
   "cell_type": "markdown",
   "id": "6e78e44c-98cc-4059-8ae6-72fb058cabf4",
   "metadata": {},
   "source": [
    "# Managing network\n",
    "\n",
    "Is a class that allows you to define complex neural networks in Torch. Simply use this class as a descendant."
   ]
  },
  {
   "cell_type": "code",
   "execution_count": 2,
   "id": "7cb58b03-6c03-4bf4-bed2-be16d2fc2287",
   "metadata": {},
   "outputs": [],
   "source": [
    "import torch\n",
    "from torch import nn"
   ]
  },
  {
   "cell_type": "markdown",
   "id": "b89b3b93",
   "metadata": {},
   "source": [
    "## Sequential\n",
    "\n",
    "You can use `torch.nn.Sequential` to combine multiple network layers into a sequential chain. Find out more in the [specific page](managing_network/sequential.ipynb).\n",
    "\n",
    "---\n",
    "\n",
    "The following cell demonstrates a basic example where a linear transformation is applied to the input, followed by a ReLU activation function."
   ]
  },
  {
   "cell_type": "code",
   "execution_count": null,
   "id": "329df276",
   "metadata": {},
   "outputs": [
    {
     "data": {
      "text/plain": [
       "tensor([[0.0000, 0.0000, 0.8781],\n",
       "        [0.4362, 0.0000, 0.7350],\n",
       "        [0.0000, 0.0000, 1.1225]], grad_fn=<ReluBackward0>)"
      ]
     },
     "metadata": {},
     "output_type": "display_data"
    }
   ],
   "source": [
    "size = 3\n",
    "\n",
    "sequential = torch.nn.Sequential(\n",
    "    torch.nn.Linear(size, size, bias=False),\n",
    "    torch.nn.ReLU()\n",
    ")\n",
    "\n",
    "X = torch.randn([3, 3])\n",
    "sequential(X)"
   ]
  },
  {
   "cell_type": "markdown",
   "id": "87b5b73f",
   "metadata": {},
   "source": [
    "## Separate class\n",
    "\n",
    "You can define a neural network as a separate class, which allows you to add custom logic for initialization or network-specific procedures. To create a network class, follow these rules:\n",
    "\n",
    "- **Inherit from `torch.nn.Module`:** This establishes your class as a PyTorch module, providing access to its functionality.\n",
    "- **Call `super().__init__()` in the constructor:** This initializes the base `nn.Module` class, ensuring proper setup.\n",
    "- **Define a `forward` method:** This method implements the computational procedure of your network. It defines how input data flows through your layers to produce output. "
   ]
  },
  {
   "cell_type": "markdown",
   "id": "2b28f6b2",
   "metadata": {},
   "source": [
    "---\n",
    "\n",
    "The following cell defines a set of Linear layers whose size is determined during class creation. The forward method standardizes the data before applying the network. "
   ]
  },
  {
   "cell_type": "code",
   "execution_count": null,
   "id": "61dc0fcf",
   "metadata": {},
   "outputs": [],
   "source": [
    "class ExampleNetwork(torch.nn.Module):\n",
    "    def __init__(self, layers_number: int, neurons: int):\n",
    "\n",
    "        super().__init__()\n",
    "\n",
    "        self.network = torch.nn.Sequential(*[\n",
    "            torch.nn.Linear(neurons, neurons)\n",
    "            for i in range(layers_number)\n",
    "        ])\n",
    "    \n",
    "    def forward(self, X: torch.Tensor):\n",
    "        X = (X - X.mean(axis=0, keepdim=True))/X.std(axis=0, keepdim=True)\n",
    "        return self.network(X)"
   ]
  },
  {
   "cell_type": "markdown",
   "id": "0c6f24bf",
   "metadata": {},
   "source": [
    "Let's check if the network we've defined works as expected. "
   ]
  },
  {
   "cell_type": "code",
   "execution_count": null,
   "id": "3e32c819",
   "metadata": {},
   "outputs": [
    {
     "data": {
      "text/plain": [
       "tensor([[-0.2482,  0.0882,  0.4507],\n",
       "        [-0.2465,  0.0897,  0.4466],\n",
       "        [-0.2531,  0.0827,  0.4587],\n",
       "        [-0.2463,  0.0899,  0.4459],\n",
       "        [-0.2461,  0.0892,  0.4429]], grad_fn=<AddmmBackward0>)"
      ]
     },
     "metadata": {},
     "output_type": "display_data"
    }
   ],
   "source": [
    "ExampleNetwork(layers_number=10, neurons=3)(X = torch.randn([5, 3]))"
   ]
  },
  {
   "cell_type": "markdown",
   "id": "66b0f9df-64a9-4613-98da-670e17eb8244",
   "metadata": {},
   "source": [
    "## `parameters()`\n",
    "\n",
    "<a href=\"https://pytorch.org/docs/stable/generated/torch.nn.Module.html#torch.nn.Module.parameters\">Official documentation</a>.\n",
    "\n",
    "To optimise the network, you need access to the parameters that will change as the model is optimised. The `Parameters` method fulfils this role. It looks like it somehow understands that the fields it contains are descendants of the class `nn.Module` and extracts their `parameters`.\n",
    "\n",
    "Two following cells allow you to compare what `parameters` return if we use just empty ancestor of `nn.Module` and ancestor that have some fields that actually implementations of `nn.Module`."
   ]
  },
  {
   "cell_type": "markdown",
   "id": "e2d7afce-4e96-4d41-b8c6-f5e7a328741d",
   "metadata": {},
   "source": [
    "In the following cell we have an empty `nn.Module` - so when we try to unpack it generator to list we have just an empty list:"
   ]
  },
  {
   "cell_type": "code",
   "execution_count": 45,
   "id": "ad8022cb-2f1d-4a23-a29d-540946fa9cc7",
   "metadata": {},
   "outputs": [
    {
     "data": {
      "text/plain": [
       "[]"
      ]
     },
     "execution_count": 45,
     "metadata": {},
     "output_type": "execute_result"
    }
   ],
   "source": [
    "class EmptyNetwork(nn.Module):\n",
    "    pass\n",
    "empty_network = EmptyNetwork()\n",
    "[i for i in empty_network.parameters()]"
   ]
  },
  {
   "cell_type": "markdown",
   "id": "1f585fdc-cd8f-41f6-8075-57899c5a6d49",
   "metadata": {},
   "source": [
    "This cell implements such a descendant of the `nn.Module`, taking some parameters from its files. To be more specific, there are two fully connected layers defined here. So we end up with four tensors, two matrices for fully connected layers and their biases:"
   ]
  },
  {
   "cell_type": "code",
   "execution_count": 68,
   "id": "0bad4179-1ca1-4e10-a24a-3510f80c57f2",
   "metadata": {},
   "outputs": [
    {
     "name": "stdout",
     "output_type": "stream",
     "text": [
      "tensor([[ 0.0302, -0.4218,  0.3589],\n",
      "        [ 0.0500, -0.0864,  0.2156],\n",
      "        [-0.5365,  0.4816,  0.2940]])\n",
      "tensor([-0.0345, -0.4456, -0.4284])\n",
      "tensor([[ 0.1643,  0.3919,  0.4324, -0.2549,  0.0276],\n",
      "        [-0.0170,  0.2218, -0.3960,  0.1335,  0.3155],\n",
      "        [ 0.0246, -0.0172,  0.3138,  0.4222,  0.0569],\n",
      "        [ 0.2502,  0.3730, -0.1723,  0.1000,  0.1558],\n",
      "        [ 0.2668, -0.3949,  0.1780,  0.2885,  0.2406]])\n",
      "tensor([-0.0279, -0.2638,  0.1210, -0.1394, -0.0539])\n"
     ]
    }
   ],
   "source": [
    "class ParametersNetwork(nn.Module):\n",
    "    def __init__(self):\n",
    "        super().__init__()\n",
    "        self.foo = nn.Linear(3, 3)\n",
    "        self.bar = nn.Linear(5, 5)\n",
    "\n",
    "network = ParametersNetwork()\n",
    "for i in network.parameters():\n",
    "    print(i.data)"
   ]
  }
 ],
 "metadata": {
  "kernelspec": {
   "display_name": "Python 3 (ipykernel)",
   "language": "python",
   "name": "python3"
  },
  "language_info": {
   "codemirror_mode": {
    "name": "ipython",
    "version": 3
   },
   "file_extension": ".py",
   "mimetype": "text/x-python",
   "name": "python",
   "nbconvert_exporter": "python",
   "pygments_lexer": "ipython3",
   "version": "3.10.12"
  }
 },
 "nbformat": 4,
 "nbformat_minor": 5
}
