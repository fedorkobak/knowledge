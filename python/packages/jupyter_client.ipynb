{
 "cells": [
  {
   "cell_type": "markdown",
   "metadata": {},
   "source": [
    "# Jupyter client \n",
    "\n",
    "`jupyter_client` is a package that implements a system for managing jupyter kernels. See the [official documentation](https://jupyter-client.readthedocs.io/en/latest/index.html). Actually, it provides access to the programming management of jupyter.\n",
    "\n",
    "**Note:** Run this notebook in the same environment, as it intentionally modifies the environment to demonstrate certain configurations."
   ]
  },
  {
   "cell_type": "markdown",
   "metadata": {},
   "source": [
    "## CLI\n",
    "\n",
    "`jupyter-kernel` tool comes with `jupyter_client` package."
   ]
  },
  {
   "cell_type": "markdown",
   "metadata": {},
   "source": [
    "---\n",
    "\n",
    "It confuses me that `jupyter_client` provides the `jupyter-kernel` CLI tool. If you have the same doubts, the following cells will prove it.\n",
    "\n",
    "The code in the following cell shows the file to which `jupyter-kernel` refers in the system."
   ]
  },
  {
   "cell_type": "code",
   "execution_count": 1,
   "metadata": {},
   "outputs": [
    {
     "name": "stdout",
     "output_type": "stream",
     "text": [
      "/usr/local/bin/jupyter-kernel\n"
     ]
    }
   ],
   "source": [
    "!which jupyter-kernel"
   ]
  },
  {
   "cell_type": "markdown",
   "metadata": {},
   "source": [
    "And behind it is Python code that refers to `jupyter_client.kernelapp.main`."
   ]
  },
  {
   "cell_type": "code",
   "execution_count": 2,
   "metadata": {},
   "outputs": [
    {
     "name": "stdout",
     "output_type": "stream",
     "text": [
      "#!/usr/local/bin/python3.12\n",
      "# -*- coding: utf-8 -*-\n",
      "import re\n",
      "import sys\n",
      "from jupyter_client.kernelapp import main\n",
      "if __name__ == '__main__':\n",
      "    sys.argv[0] = re.sub(r'(-script\\.pyw|\\.exe)?$', '', sys.argv[0])\n",
      "    sys.exit(main())\n"
     ]
    }
   ],
   "source": [
    "!cat $(which jupyter-kernel)"
   ]
  },
  {
   "cell_type": "markdown",
   "metadata": {},
   "source": [
    "## Running kernel\n",
    "\n",
    "\n",
    "You can run and manage your own kernel by using [KernelManager](https://jupyter-client.readthedocs.io/en/latest/api/jupyter_client.html#jupyter_client.manager.KernelManager)."
   ]
  },
  {
   "cell_type": "markdown",
   "metadata": {},
   "source": [
    "---\n",
    "\n",
    "The following example starts the Python kernel."
   ]
  },
  {
   "cell_type": "code",
   "execution_count": 7,
   "metadata": {},
   "outputs": [],
   "source": [
    "from jupyter_client import KernelManager\n",
    "km = KernelManager(kernel_name=\"python3\")\n",
    "km.start_kernel()\n",
    "\n",
    "kc = km.client()\n",
    "kc.start_channels()"
   ]
  },
  {
   "cell_type": "markdown",
   "metadata": {},
   "source": [
    "Kernel is a separate process, to which you can send code you want to execute and wait for the response. The following cell makes exactly that."
   ]
  },
  {
   "cell_type": "code",
   "execution_count": 8,
   "metadata": {},
   "outputs": [],
   "source": [
    "kc.execute(\"print(f'hello from kernel {10 + 99}')\", reply=True)\n",
    "msg = kc.get_iopub_msg()\n",
    "while True:\n",
    "   msg = kc.get_iopub_msg(timeout=5)\n",
    "   if msg['msg_type'] == 'stream':\n",
    "        break"
   ]
  },
  {
   "cell_type": "markdown",
   "metadata": {},
   "source": [
    "Once we have received the response, we can check it."
   ]
  },
  {
   "cell_type": "code",
   "execution_count": 9,
   "metadata": {},
   "outputs": [
    {
     "name": "stdout",
     "output_type": "stream",
     "text": [
      "hello from kernel 109\n",
      "\n"
     ]
    }
   ],
   "source": [
    "print(msg[\"content\"][\"text\"])"
   ]
  },
  {
   "cell_type": "markdown",
   "metadata": {},
   "source": [
    "Expected output for the code we sent to kernel to execute."
   ]
  },
  {
   "cell_type": "markdown",
   "metadata": {},
   "source": [
    "Kernel must be shut down:"
   ]
  },
  {
   "cell_type": "code",
   "execution_count": 10,
   "metadata": {},
   "outputs": [],
   "source": [
    "kc.shutdown(reply=True)\n",
    "km.shutdown_kernel(now=True)"
   ]
  },
  {
   "cell_type": "markdown",
   "metadata": {},
   "source": [
    "## Creating kernel\n",
    "\n",
    "There are three ways to create your own Jupyter kernel; check more [here](https://jupyter-client.readthedocs.io/en/latest/kernels.html). This page focuses on the simplest method: [simple Python wrapper kernels](https://jupyter-client.readthedocs.io/en/latest/wrapperkernels.html)."
   ]
  },
  {
   "cell_type": "code",
   "execution_count": 1,
   "metadata": {},
   "outputs": [
    {
     "name": "stdout",
     "output_type": "stream",
     "text": [
      "Writing /tmp/my_kernel.py\n"
     ]
    }
   ],
   "source": [
    "%%writefile /tmp/my_kernel.py\n",
    "from ipykernel.kernelbase import Kernel\n",
    "\n",
    "class EchoKernel(Kernel):\n",
    "    implementation = 'Echo'\n",
    "    implementation_version = '1.0'\n",
    "    language = 'no-op'\n",
    "    language_version = '0.1'\n",
    "    language_info = {\n",
    "        'name': 'Any text',\n",
    "        'mimetype': 'text/plain',\n",
    "        'file_extension': '.txt',\n",
    "    }\n",
    "    banner = \"Echo kernel - as useful as a parrot\"\n",
    "\n",
    "    def do_execute(\n",
    "        self,\n",
    "        code,\n",
    "        silent,\n",
    "        store_history=True,\n",
    "        user_expressions=None,\n",
    "        allow_stdin=False\n",
    "    ):\n",
    "        if not silent:\n",
    "            stream_content = {'name': 'stdout', 'text': code}\n",
    "            self.send_response(self.iopub_socket, 'stream', stream_content)\n",
    "\n",
    "        return {\n",
    "            'status': 'ok',\n",
    "            'execution_count': self.execution_count,\n",
    "            'payload': [],\n",
    "            'user_expressions': {},\n",
    "        }\n",
    "\n",
    "if __name__ == '__main__':\n",
    "    from ipykernel.kernelapp import IPKernelApp\n",
    "    IPKernelApp.launch_instance(kernel_class=EchoKernel)"
   ]
  },
  {
   "cell_type": "code",
   "execution_count": 2,
   "metadata": {},
   "outputs": [
    {
     "name": "stdout",
     "output_type": "stream",
     "text": [
      "mkdir: cannot create directory ‘/usr/local/share/jupyter/kernels/jupyter_client’: File exists\n"
     ]
    }
   ],
   "source": [
    "!mkdir /usr/local/share/jupyter/kernels/jupyter_client"
   ]
  },
  {
   "cell_type": "code",
   "execution_count": 2,
   "metadata": {},
   "outputs": [
    {
     "name": "stdout",
     "output_type": "stream",
     "text": [
      "Overwriting /usr/local/share/jupyter/kernels/jupyter_client/kernel.json\n"
     ]
    }
   ],
   "source": [
    "%%writefile /usr/local/share/jupyter/kernels/jupyter_client/kernel.json\n",
    "{\n",
    "    \"argv\":[\n",
    "        \"python3\", \n",
    "        \"/tmp/my_kernel.py\", \n",
    "        \"-f\", \n",
    "        \"{connection_file}\"\n",
    "    ],\n",
    "    \"display_name\":\"Echo\"\n",
    "}"
   ]
  },
  {
   "cell_type": "code",
   "execution_count": 3,
   "metadata": {},
   "outputs": [
    {
     "name": "stdout",
     "output_type": "stream",
     "text": [
      "Available kernels:\n",
      "  bash              /usr/local/share/jupyter/kernels/bash\n",
      "  jupyter_client    /usr/local/share/jupyter/kernels/jupyter_client\n",
      "  python3           /usr/local/share/jupyter/kernels/python3\n"
     ]
    }
   ],
   "source": [
    "!jupyter kernelspec list"
   ]
  },
  {
   "cell_type": "code",
   "execution_count": 20,
   "metadata": {},
   "outputs": [
    {
     "name": "stdout",
     "output_type": "stream",
     "text": [
      ".  ..  runtime\n"
     ]
    }
   ],
   "source": [
    "!ls -a ~/.local/share/jupyter"
   ]
  }
 ],
 "metadata": {
  "kernelspec": {
   "display_name": "Python 3",
   "language": "python",
   "name": "python3"
  },
  "language_info": {
   "codemirror_mode": {
    "name": "ipython",
    "version": 3
   },
   "file_extension": ".py",
   "mimetype": "text/x-python",
   "name": "python",
   "nbconvert_exporter": "python",
   "pygments_lexer": "ipython3",
   "version": "3.12.8"
  }
 },
 "nbformat": 4,
 "nbformat_minor": 2
}
