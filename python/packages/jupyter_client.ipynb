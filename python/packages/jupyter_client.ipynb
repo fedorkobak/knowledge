{
 "cells": [
  {
   "cell_type": "markdown",
   "metadata": {},
   "source": [
    "# Jupyter client \n",
    "\n",
    "`jupyter_client` is a package that implements a system for managing jupyter kernels. See the [official documentation](https://jupyter-client.readthedocs.io/en/latest/index.html). Actually, it provides access to the programming management of jupyter."
   ]
  },
  {
   "cell_type": "markdown",
   "metadata": {},
   "source": [
    "## CLI\n",
    "\n",
    "`jupyter-kernel` tool comes with `jupyter_client` package."
   ]
  },
  {
   "cell_type": "markdown",
   "metadata": {},
   "source": [
    "---\n",
    "\n",
    "It confuses me that `jupyter_client` provides the `jupyter-kernel` CLI tool. If you have the same doubts, the following cells will prove it.\n",
    "\n",
    "The code in the following cell shows the file to which `jupyter-kernel` refers in the system."
   ]
  },
  {
   "cell_type": "code",
   "execution_count": 1,
   "metadata": {},
   "outputs": [
    {
     "name": "stdout",
     "output_type": "stream",
     "text": [
      "/home/fedor/Documents/knowledge/venv/bin/jupyter-kernel\n"
     ]
    }
   ],
   "source": [
    "!which jupyter-kernel"
   ]
  },
  {
   "cell_type": "markdown",
   "metadata": {},
   "source": [
    "And behind it is Python code that refers to `jupyter_client.kernelapp.main`."
   ]
  },
  {
   "cell_type": "code",
   "execution_count": 2,
   "metadata": {},
   "outputs": [
    {
     "name": "stdout",
     "output_type": "stream",
     "text": [
      "#!/home/fedor/Documents/knowledge/venv/bin/python\n",
      "# -*- coding: utf-8 -*-\n",
      "import re\n",
      "import sys\n",
      "from jupyter_client.kernelapp import main\n",
      "if __name__ == '__main__':\n",
      "    sys.argv[0] = re.sub(r'(-script\\.pyw|\\.exe)?$', '', sys.argv[0])\n",
      "    sys.exit(main())\n"
     ]
    }
   ],
   "source": [
    "!cat $(which jupyter-kernel)"
   ]
  },
  {
   "cell_type": "markdown",
   "metadata": {},
   "source": [
    "## Running kernel"
   ]
  },
  {
   "cell_type": "markdown",
   "metadata": {},
   "source": [
    "## Creating kernel"
   ]
  }
 ],
 "metadata": {
  "kernelspec": {
   "display_name": "venv",
   "language": "python",
   "name": "python3"
  },
  "language_info": {
   "codemirror_mode": {
    "name": "ipython",
    "version": 3
   },
   "file_extension": ".py",
   "mimetype": "text/x-python",
   "name": "python",
   "nbconvert_exporter": "python",
   "pygments_lexer": "ipython3",
   "version": "3.12.3"
  }
 },
 "nbformat": 4,
 "nbformat_minor": 2
}
