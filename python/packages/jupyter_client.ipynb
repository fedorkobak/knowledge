{
 "cells": [
  {
   "cell_type": "markdown",
   "metadata": {},
   "source": [
    "# Jupyter client \n",
    "\n",
    "`jupyter_client` is a package that implements a system for managing jupyter kernels. See the [official documentation](https://jupyter-client.readthedocs.io/en/latest/index.html). Actually, it provides access to the programming management of jupyter."
   ]
  },
  {
   "cell_type": "markdown",
   "metadata": {},
   "source": [
    "## CLI\n",
    "\n",
    "`jupyter-kernel` tool comes with `jupyter_client` package."
   ]
  },
  {
   "cell_type": "markdown",
   "metadata": {},
   "source": [
    "---\n",
    "\n",
    "It confuses me that `jupyter_client` provides the `jupyter-kernel` CLI tool. If you have the same doubts, the following cells will prove it.\n",
    "\n",
    "The code in the following cell shows the file to which `jupyter-kernel` refers in the system."
   ]
  },
  {
   "cell_type": "code",
   "execution_count": 1,
   "metadata": {},
   "outputs": [
    {
     "name": "stdout",
     "output_type": "stream",
     "text": [
      "/home/fedor/Documents/knowledge/venv/bin/jupyter-kernel\n"
     ]
    }
   ],
   "source": [
    "!which jupyter-kernel"
   ]
  },
  {
   "cell_type": "markdown",
   "metadata": {},
   "source": [
    "And behind it is Python code that refers to `jupyter_client.kernelapp.main`."
   ]
  },
  {
   "cell_type": "code",
   "execution_count": 2,
   "metadata": {},
   "outputs": [
    {
     "name": "stdout",
     "output_type": "stream",
     "text": [
      "#!/home/fedor/Documents/knowledge/venv/bin/python\n",
      "# -*- coding: utf-8 -*-\n",
      "import re\n",
      "import sys\n",
      "from jupyter_client.kernelapp import main\n",
      "if __name__ == '__main__':\n",
      "    sys.argv[0] = re.sub(r'(-script\\.pyw|\\.exe)?$', '', sys.argv[0])\n",
      "    sys.exit(main())\n"
     ]
    }
   ],
   "source": [
    "!cat $(which jupyter-kernel)"
   ]
  },
  {
   "cell_type": "markdown",
   "metadata": {},
   "source": [
    "## Running kernel\n",
    "\n",
    "\n",
    "You can run and manage your own kernel by using [KernelManager](https://jupyter-client.readthedocs.io/en/latest/api/jupyter_client.html#jupyter_client.manager.KernelManager)."
   ]
  },
  {
   "cell_type": "markdown",
   "metadata": {},
   "source": [
    "---\n",
    "\n",
    "The following example starts the Python kernel."
   ]
  },
  {
   "cell_type": "code",
   "execution_count": 87,
   "metadata": {},
   "outputs": [],
   "source": [
    "from jupyter_client import KernelManager\n",
    "km = KernelManager(kernel_name=\"python3\")\n",
    "km.start_kernel()\n",
    "\n",
    "kc = km.client()\n",
    "kc.start_channels()"
   ]
  },
  {
   "cell_type": "markdown",
   "metadata": {},
   "source": [
    "Kernel is a separate process, to which you can send code you want to execute and wait for the response. The following cell makes exactly that."
   ]
  },
  {
   "cell_type": "code",
   "execution_count": 88,
   "metadata": {},
   "outputs": [],
   "source": [
    "kc.execute(\"print(f'hello from kernel {10 + 99}')\", reply=True)\n",
    "msg = kc.get_iopub_msg()\n",
    "while True:\n",
    "   msg = kc.get_iopub_msg(timeout=5)\n",
    "   if msg['msg_type'] == 'stream':\n",
    "        break"
   ]
  },
  {
   "cell_type": "markdown",
   "metadata": {},
   "source": [
    "Once we have received the response, we can check it."
   ]
  },
  {
   "cell_type": "code",
   "execution_count": 89,
   "metadata": {},
   "outputs": [
    {
     "name": "stdout",
     "output_type": "stream",
     "text": [
      "hello from kernel 109\n",
      "\n"
     ]
    }
   ],
   "source": [
    "print(msg[\"content\"][\"text\"])"
   ]
  },
  {
   "cell_type": "markdown",
   "metadata": {},
   "source": [
    "Expected output for the code we sent to kernel to execute."
   ]
  },
  {
   "cell_type": "markdown",
   "metadata": {},
   "source": [
    "Kernel must be shut down:"
   ]
  },
  {
   "cell_type": "code",
   "execution_count": 90,
   "metadata": {},
   "outputs": [],
   "source": [
    "kc.shutdown(reply=True)\n",
    "km.shutdown_kernel(now=True)"
   ]
  }
 ],
 "metadata": {
  "kernelspec": {
   "display_name": "venv",
   "language": "python",
   "name": "python3"
  },
  "language_info": {
   "codemirror_mode": {
    "name": "ipython",
    "version": 3
   },
   "file_extension": ".py",
   "mimetype": "text/x-python",
   "name": "python",
   "nbconvert_exporter": "python",
   "pygments_lexer": "ipython3",
   "version": "3.12.3"
  }
 },
 "nbformat": 4,
 "nbformat_minor": 2
}
