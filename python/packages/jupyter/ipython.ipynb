{
 "cells": [
  {
   "cell_type": "markdown",
   "metadata": {},
   "source": [
    "# IPython\n",
    "\n",
    "`ipython` is modified python shell. It provide some tools that allows to intercat with objects in more convenient way than classical python shell. Check [official docuemtation](https://ipython.readthedocs.io/en/latest/index.html).\n",
    "\n",
    "But the greatest feature of the `ipython` is that it provides kernel for jupyter `ipykernel`. `ipykernel` is deafult kernel for `jupyter` and most users consider them as a signlre product. In fact `ipykernel` just takes code cell from jupyter and process it with `ipython`."
   ]
  },
  {
   "cell_type": "markdown",
   "metadata": {},
   "source": [
    "## Syntax\n",
    "\n",
    "`IPython` provides special expressions called \"IPython magics\" that extend the functionality of the classical Python shell. These magics are categorized into three types:\n",
    "\n",
    "- **Line-oriented magics**: Begin with `%` and apply to the next single expression. These can be embedded in Python code, allowing you to save results to a variable, for example.\n",
    "- **Cell-oriented magics**: Begin with `%%` and apply to the entire cell (must be used in the first row of the cell).\n",
    "- **Special magics**: Use special symbols (`?`, `!`, `$`) to instruct `ipykernel` to perform specific tasks.\n",
    "\n",
    "Most magics can be used in both line-oriented and cell-oriented syntax, some even have special magics (such as symbol aliasing).\n",
    "\n",
    "Check:\n",
    "\n",
    "- [Corresponding section](https://ipython.readthedocs.io/en/latest/interactive/tutorial.html#magic-functions) of the ipython tutorial.\n",
    "- [Specific page](ipython/syntax.ipynb) in this site."
   ]
  },
  {
   "cell_type": "markdown",
   "metadata": {},
   "source": [
    "---\n",
    "\n",
    "The following cells roughly considers use cases."
   ]
  },
  {
   "cell_type": "markdown",
   "metadata": {},
   "source": [
    "The next code uses the `%timeit` magic just around other Python code."
   ]
  },
  {
   "cell_type": "code",
   "execution_count": 10,
   "metadata": {},
   "outputs": [
    {
     "name": "stdout",
     "output_type": "stream",
     "text": [
      "some code\n",
      "35.1 ms ± 261 μs per loop (mean ± std. dev. of 7 runs, 10 loops each)\n",
      "some code\n"
     ]
    }
   ],
   "source": [
    "print(\"some code\")\n",
    "%timeit ans = [i for i in range(1_000_000)]\n",
    "print(\"some code\")"
   ]
  },
  {
   "cell_type": "markdown",
   "metadata": {},
   "source": [
    "`timeit` magic we used before have cell-oriented option to be used."
   ]
  },
  {
   "cell_type": "code",
   "execution_count": 9,
   "metadata": {},
   "outputs": [
    {
     "name": "stdout",
     "output_type": "stream",
     "text": [
      "20 ms ± 65.1 μs per loop (mean ± std. dev. of 7 runs, 10 loops each)\n"
     ]
    }
   ],
   "source": [
    "%%timeit\n",
    "for i in range(1_000_000):\n",
    "    pass"
   ]
  },
  {
   "cell_type": "markdown",
   "metadata": {},
   "source": [
    "And probably the most popular special magic - `?` shows the description for the `IPython` module."
   ]
  },
  {
   "cell_type": "code",
   "execution_count": 8,
   "metadata": {},
   "outputs": [
    {
     "name": "stdout",
     "output_type": "stream",
     "text": [
      "\u001b[0;31mType:\u001b[0m        module\n",
      "\u001b[0;31mString form:\u001b[0m <module 'IPython' from '/home/fedor/Documents/knowledge/venv/lib/python3.12/site-packages/IPython/__init__.py'>\n",
      "\u001b[0;31mFile:\u001b[0m        ~/Documents/knowledge/venv/lib/python3.12/site-packages/IPython/__init__.py\n",
      "\u001b[0;31mDocstring:\u001b[0m  \n",
      "IPython: tools for interactive and parallel computing in Python.\n",
      "\n",
      "https://ipython.org"
     ]
    }
   ],
   "source": [
    "import IPython\n",
    "IPython?"
   ]
  },
  {
   "cell_type": "markdown",
   "metadata": {},
   "source": [
    "## `%lsmagic`\n",
    "\n",
    "This command allows you to list available IPython magics"
   ]
  },
  {
   "cell_type": "code",
   "execution_count": null,
   "metadata": {},
   "outputs": [
    {
     "data": {
      "application/json": {
       "cell": {
        "!": "OSMagics",
        "HTML": "Other",
        "SVG": "Other",
        "bash": "Other",
        "capture": "ExecutionMagics",
        "debug": "ExecutionMagics",
        "file": "Other",
        "html": "DisplayMagics",
        "javascript": "DisplayMagics",
        "js": "DisplayMagics",
        "latex": "DisplayMagics",
        "markdown": "DisplayMagics",
        "perl": "Other",
        "prun": "ExecutionMagics",
        "pypy": "Other",
        "python": "Other",
        "python2": "Other",
        "python3": "Other",
        "ruby": "Other",
        "script": "ScriptMagics",
        "sh": "Other",
        "svg": "DisplayMagics",
        "sx": "OSMagics",
        "system": "OSMagics",
        "time": "ExecutionMagics",
        "timeit": "ExecutionMagics",
        "writefile": "OSMagics"
       },
       "line": {
        "alias": "OSMagics",
        "alias_magic": "BasicMagics",
        "autoawait": "AsyncMagics",
        "autocall": "AutoMagics",
        "automagic": "AutoMagics",
        "autosave": "KernelMagics",
        "bookmark": "OSMagics",
        "cat": "Other",
        "cd": "OSMagics",
        "clear": "KernelMagics",
        "colors": "BasicMagics",
        "conda": "PackagingMagics",
        "config": "ConfigMagics",
        "connect_info": "KernelMagics",
        "cp": "Other",
        "debug": "ExecutionMagics",
        "dhist": "OSMagics",
        "dirs": "OSMagics",
        "doctest_mode": "BasicMagics",
        "ed": "Other",
        "edit": "KernelMagics",
        "env": "OSMagics",
        "gui": "BasicMagics",
        "hist": "Other",
        "history": "HistoryMagics",
        "killbgscripts": "ScriptMagics",
        "ldir": "Other",
        "less": "KernelMagics",
        "lf": "Other",
        "lk": "Other",
        "ll": "Other",
        "load": "CodeMagics",
        "load_ext": "ExtensionMagics",
        "loadpy": "CodeMagics",
        "logoff": "LoggingMagics",
        "logon": "LoggingMagics",
        "logstart": "LoggingMagics",
        "logstate": "LoggingMagics",
        "logstop": "LoggingMagics",
        "ls": "Other",
        "lsmagic": "BasicMagics",
        "lx": "Other",
        "macro": "ExecutionMagics",
        "magic": "BasicMagics",
        "man": "KernelMagics",
        "matplotlib": "PylabMagics",
        "mkdir": "Other",
        "more": "KernelMagics",
        "mv": "Other",
        "notebook": "BasicMagics",
        "page": "BasicMagics",
        "pastebin": "CodeMagics",
        "pdb": "ExecutionMagics",
        "pdef": "NamespaceMagics",
        "pdoc": "NamespaceMagics",
        "pfile": "NamespaceMagics",
        "pinfo": "NamespaceMagics",
        "pinfo2": "NamespaceMagics",
        "pip": "PackagingMagics",
        "popd": "OSMagics",
        "pprint": "BasicMagics",
        "precision": "BasicMagics",
        "prun": "ExecutionMagics",
        "psearch": "NamespaceMagics",
        "psource": "NamespaceMagics",
        "pushd": "OSMagics",
        "pwd": "OSMagics",
        "pycat": "OSMagics",
        "pylab": "PylabMagics",
        "qtconsole": "KernelMagics",
        "quickref": "BasicMagics",
        "recall": "HistoryMagics",
        "rehashx": "OSMagics",
        "reload_ext": "ExtensionMagics",
        "rep": "Other",
        "rerun": "HistoryMagics",
        "reset": "NamespaceMagics",
        "reset_selective": "NamespaceMagics",
        "rm": "Other",
        "rmdir": "Other",
        "run": "ExecutionMagics",
        "save": "CodeMagics",
        "sc": "OSMagics",
        "set_env": "OSMagics",
        "store": "StoreMagics",
        "sx": "OSMagics",
        "system": "OSMagics",
        "tb": "ExecutionMagics",
        "time": "ExecutionMagics",
        "timeit": "ExecutionMagics",
        "unalias": "OSMagics",
        "unload_ext": "ExtensionMagics",
        "who": "NamespaceMagics",
        "who_ls": "NamespaceMagics",
        "whos": "NamespaceMagics",
        "xdel": "NamespaceMagics",
        "xmode": "BasicMagics"
       }
      },
      "text/plain": [
       "Available line magics:\n",
       "%alias  %alias_magic  %autoawait  %autocall  %automagic  %autosave  %bookmark  %cat  %cd  %clear  %colors  %conda  %config  %connect_info  %cp  %debug  %dhist  %dirs  %doctest_mode  %ed  %edit  %env  %gui  %hist  %history  %killbgscripts  %ldir  %less  %lf  %lk  %ll  %load  %load_ext  %loadpy  %logoff  %logon  %logstart  %logstate  %logstop  %ls  %lsmagic  %lx  %macro  %magic  %man  %matplotlib  %mkdir  %more  %mv  %notebook  %page  %pastebin  %pdb  %pdef  %pdoc  %pfile  %pinfo  %pinfo2  %pip  %popd  %pprint  %precision  %prun  %psearch  %psource  %pushd  %pwd  %pycat  %pylab  %qtconsole  %quickref  %recall  %rehashx  %reload_ext  %rep  %rerun  %reset  %reset_selective  %rm  %rmdir  %run  %save  %sc  %set_env  %store  %sx  %system  %tb  %time  %timeit  %unalias  %unload_ext  %who  %who_ls  %whos  %xdel  %xmode\n",
       "\n",
       "Available cell magics:\n",
       "%%!  %%HTML  %%SVG  %%bash  %%capture  %%debug  %%file  %%html  %%javascript  %%js  %%latex  %%markdown  %%perl  %%prun  %%pypy  %%python  %%python2  %%python3  %%ruby  %%script  %%sh  %%svg  %%sx  %%system  %%time  %%timeit  %%writefile\n",
       "\n",
       "Automagic is ON, % prefix IS NOT needed for line magics."
      ]
     },
     "metadata": {},
     "output_type": "display_data"
    }
   ],
   "source": [
    "%lsmagic"
   ]
  },
  {
   "cell_type": "markdown",
   "metadata": {},
   "source": [
    "## `%time`\n",
    "\n",
    "Measures the time of execution of some expression."
   ]
  },
  {
   "cell_type": "markdown",
   "metadata": {},
   "source": [
    "### Basic example\n",
    "\n",
    "Here I just have a function that runs a cycle with a given number of iterations, and show results for 10 and 500 iterations."
   ]
  },
  {
   "cell_type": "code",
   "execution_count": null,
   "metadata": {},
   "outputs": [
    {
     "name": "stdout",
     "output_type": "stream",
     "text": [
      "=====10 iterations=====\n",
      "CPU times: user 2 µs, sys: 0 ns, total: 2 µs\n",
      "Wall time: 3.58 µs\n",
      "=====500 iterations=====\n",
      "CPU times: user 14 µs, sys: 2 µs, total: 16 µs\n",
      "Wall time: 16.7 µs\n"
     ]
    }
   ],
   "source": [
    "def some_computing(i_count):\n",
    "    for i in range(i_count): 5+5\n",
    "\n",
    "print(\"=====10 iterations=====\")\n",
    "%time some_computing(10)\n",
    "print(\"=====500 iterations=====\")\n",
    "%time some_computing(500)"
   ]
  },
  {
   "cell_type": "markdown",
   "metadata": {},
   "source": [
    "### Metrics meaning\n",
    "\n",
    "- `CPU times` gives description of the duration by stage of execution:\n",
    "    - `user` user-side duration;\n",
    "    - `sys` system-side duration;\n",
    "    - `total` total duration of the calculation.\n",
    "- `Wall time` duration of the calculation with overhead resources (whatever they may be).\n",
    "\n",
    "**Note** Nowadays, I don't know exactly what the difference is between the user side and the system side - but you should learn Linux to find out."
   ]
  },
  {
   "cell_type": "markdown",
   "metadata": {},
   "source": [
    "## `%timeit`\n",
    "\n",
    "Estimates the execution time of a certain command over a series of runs.\n",
    "\n",
    "In the following example I have a function that runs a cycle with a given number of iterations, and show results for 10 and 500 iterations."
   ]
  },
  {
   "cell_type": "code",
   "execution_count": null,
   "metadata": {},
   "outputs": [
    {
     "name": "stdout",
     "output_type": "stream",
     "text": [
      "=====10 iterations=====\n",
      "203 ns ± 6.87 ns per loop (mean ± std. dev. of 7 runs, 1,000,000 loops each)\n",
      "=====500 iterations=====\n",
      "5.88 µs ± 115 ns per loop (mean ± std. dev. of 7 runs, 100,000 loops each)\n"
     ]
    }
   ],
   "source": [
    "def some_computing(i_count):\n",
    "    for i in range(i_count): 5+5\n",
    "\n",
    "print(\"=====10 iterations=====\")\n",
    "%timeit some_computing(10)\n",
    "print(\"=====500 iterations=====\")\n",
    "%timeit some_computing(500)"
   ]
  },
  {
   "cell_type": "markdown",
   "metadata": {},
   "source": [
    "## System command (`!`)\n",
    "\n",
    "You can access the environment you ran IPython from by simply adding `!` before the line. For linux/macOS this is usually terminal line for windows it is usually powerShall."
   ]
  },
  {
   "cell_type": "markdown",
   "metadata": {},
   "source": [
    "---\n",
    "\n",
    "The following cell executes `curl google.com` in the inpython shell."
   ]
  },
  {
   "cell_type": "code",
   "execution_count": 25,
   "metadata": {},
   "outputs": [
    {
     "name": "stdout",
     "output_type": "stream",
     "text": [
      "<HTML><HEAD><meta http-equiv=\"content-type\" content=\"text/html;charset=utf-8\">\n",
      "<TITLE>301 Moved</TITLE></HEAD><BODY>\n",
      "<H1>301 Moved</H1>\n",
      "The document has moved\n",
      "<A HREF=\"http://www.google.com/\">here</A>.\n",
      "</BODY></HTML>\n"
     ]
    }
   ],
   "source": [
    "!curl google.com"
   ]
  },
  {
   "cell_type": "markdown",
   "metadata": {},
   "source": [
    "**Note:** Just like regular magic, you can embed `!<command>` to the regular python expressions. The following cell stores the result of `curl google.com` in the variable and displays it as HTML with regular Python code."
   ]
  },
  {
   "cell_type": "code",
   "execution_count": 24,
   "metadata": {},
   "outputs": [
    {
     "data": {
      "text/html": [
       "<HTML><HEAD><meta http-equiv=\"content-type\" content=\"text/html;charset=utf-8\"><TITLE>301 Moved</TITLE></HEAD><BODY><H1>301 Moved</H1>The document has moved<A HREF=\"http://www.google.com/\">here</A>.</BODY></HTML>"
      ],
      "text/plain": [
       "<IPython.core.display.HTML object>"
      ]
     },
     "execution_count": 24,
     "metadata": {},
     "output_type": "execute_result"
    }
   ],
   "source": [
    "from IPython.display import display, HTML\n",
    "res = !curl -s google.com\n",
    "HTML(\"\".join(res))"
   ]
  },
  {
   "cell_type": "markdown",
   "metadata": {},
   "source": [
    "## Specific code\n",
    "\n",
    "You can use some other codes in IPython just specifying them with magic `<code type>`. Next, I list some of the options available.\n",
    "\n",
    "**Note** looks like this magic is only available in whole cell mode."
   ]
  },
  {
   "cell_type": "markdown",
   "metadata": {},
   "source": [
    "### bash"
   ]
  },
  {
   "cell_type": "code",
   "execution_count": null,
   "metadata": {},
   "outputs": [
    {
     "name": "stdout",
     "output_type": "stream",
     "text": [
      "total 16\n",
      "-rw-rw-r-- 1 fedor fedor 4127 жні 26 18:40 magic_commands.ipynb\n",
      "drwxrwxr-x 3 fedor fedor 4096 жні 25 15:10 nbconvert\n",
      "drwxrwxr-x 4 fedor fedor 4096 жні 25 15:10 voila_vs_nbconvert_saving_html\n"
     ]
    }
   ],
   "source": [
    "%%bash\n",
    "ls -l"
   ]
  },
  {
   "cell_type": "markdown",
   "metadata": {},
   "source": [
    "### HTML"
   ]
  },
  {
   "cell_type": "code",
   "execution_count": null,
   "metadata": {},
   "outputs": [
    {
     "data": {
      "text/html": [
       "<button>Button as HTML element</button>\n"
      ],
      "text/plain": [
       "<IPython.core.display.HTML object>"
      ]
     },
     "metadata": {},
     "output_type": "display_data"
    }
   ],
   "source": [
    "%%HTML\n",
    "<button>Button as HTML element</button>"
   ]
  },
  {
   "cell_type": "markdown",
   "metadata": {},
   "source": [
    "## `%load_ext`\n",
    "\n",
    "Allows you to load extentions of IPython. <a href=\"https://ipython.readthedocs.io/en/stable/config/extensions/index.html\"> Learn more<a/>. Looks like that's a topic for another page, but for now I'll just mention a few extensions that I use."
   ]
  },
  {
   "cell_type": "markdown",
   "metadata": {},
   "source": [
    "### `autoreload`\n",
    "\n",
    "By default, IPython will only read imported modules when their `import` is mentioned for the first time. But this option allows you to set some specific rules for importing modules. <a href=\"https://ipython.readthedocs.io/en/stable/config/extensions/autoreload.html\">Official documentation</a>.\n",
    "\n",
    "In essence this extension doles out two magic `%autoreload` and `%aimport`:\n",
    "\n",
    "- `%autoreload` - specifies the import mode;\n",
    "- `%aimport` - sets exceptions for `%autoreload` if they are provided by the current mode.\n",
    "\n",
    "**Note** look like you should use the full path to the files if you want to mention them for `%aimport`."
   ]
  },
  {
   "cell_type": "markdown",
   "metadata": {},
   "source": [
    "#### `%autoreload 1/explicit`\n",
    "\n",
    "Before executing a cell, only modules mentioned with `%aimport` will be reloaded.\n",
    "\n",
    "In the following example I:\n",
    "\n",
    "- Create two files `fun<i>` $i \\in {1,2}$, each containing only one function that returns a line like `\"Original line from fun<i>.py\"`;\n",
    "- Import them using the `%autoreload explicit` magic and mentioning `fun1` in `%aimport`.\n",
    "- Call them, and got obvious result - `Original line from fun<i>.py`;\n",
    "- Then change both functions to return `New line from fun<i>.py`;\n",
    "- Call the functions again:\n",
    "    - Function from `fun1` has changed the line;\n",
    "    - Function from `fun2` still has the word `Original` at the beginning (because it was mentioned in `%aimport` as module to me reloaded)."
   ]
  },
  {
   "cell_type": "code",
   "execution_count": null,
   "metadata": {},
   "outputs": [],
   "source": [
    "%%bash\n",
    "cat > ipython_magics_files/fun1.py << EOF\n",
    "def return_line():\n",
    "    return \"Original line from fun1.py\"\n",
    "EOF\n",
    "cat > ipython_magics_files/fun2.py << EOF\n",
    "def return_line():\n",
    "    return \"Original line from fun2.py\"\n",
    "EOF"
   ]
  },
  {
   "cell_type": "code",
   "execution_count": null,
   "metadata": {},
   "outputs": [
    {
     "name": "stdout",
     "output_type": "stream",
     "text": [
      "Original line from fun1.py\n",
      "Original line from fun2.py\n"
     ]
    }
   ],
   "source": [
    "%load_ext autoreload\n",
    "%autoreload explicit\n",
    "from ipython_magics_files import fun1, fun2\n",
    "%aimport ipython_magics_files.fun1\n",
    "\n",
    "print(fun1.return_line())\n",
    "print(fun2.return_line())"
   ]
  },
  {
   "cell_type": "code",
   "execution_count": null,
   "metadata": {},
   "outputs": [],
   "source": [
    "%%bash\n",
    "cat > ipython_magics_files/fun1.py << EOF\n",
    "def return_line():\n",
    "    return \"New line from fun1.py\"\n",
    "EOF\n",
    "cat > ipython_magics_files/fun2.py << EOF\n",
    "def return_line():\n",
    "    return \"New line from fun2.py\"\n",
    "EOF"
   ]
  },
  {
   "cell_type": "code",
   "execution_count": null,
   "metadata": {},
   "outputs": [
    {
     "name": "stdout",
     "output_type": "stream",
     "text": [
      "New line from fun1.py\n",
      "Original line from fun2.py\n"
     ]
    }
   ],
   "source": [
    "print(fun1.return_line())\n",
    "print(fun2.return_line())"
   ]
  },
  {
   "cell_type": "markdown",
   "metadata": {},
   "source": [
    "#### `%autoreload 2/all`\n",
    "\n",
    "It's the most common mode for me - reload all modules before running any cell except those mentioned in `%aimport`.\n",
    "\n",
    "If you want to exclude some modules from reimport, you should use `%aimport -<module name>` (the \"-\" symbol is crucial here).\n",
    "\n",
    "In the following example I:\n",
    "\n",
    "- Create two files `fun<i>` $i \\in {1,2}$, each containing only one function that returns a line like `\"Original line from fun<i>.py\"`;\n",
    "- Import them using the `%autoreload all` magic and mentioning `fun2` in `%aimport`.\n",
    "- Call them, and got obvious result - `Original line from fun<i>.py`;\n",
    "- Then change both functions to return `New line from fun<i>.py`;\n",
    "- Call the functions again:\n",
    "    - Function from `fun1` has changed the line;\n",
    "    - Function from `fun2` still has the word `Original` at the beginning (because it was mentioned in `%aimport` as an exclusion)."
   ]
  },
  {
   "cell_type": "code",
   "execution_count": null,
   "metadata": {},
   "outputs": [],
   "source": [
    "%%bash\n",
    "cat > ipython_magics_files/fun1.py << EOF\n",
    "def return_line():\n",
    "    return \"Original line from fun1.py\"\n",
    "EOF\n",
    "cat > ipython_magics_files/fun2.py << EOF\n",
    "def return_line():\n",
    "    return \"Original line from fun2.py\"\n",
    "EOF"
   ]
  },
  {
   "cell_type": "code",
   "execution_count": null,
   "metadata": {},
   "outputs": [
    {
     "name": "stdout",
     "output_type": "stream",
     "text": [
      "Original line from fun1.py\n",
      "Original line from fun2.py\n"
     ]
    }
   ],
   "source": [
    "%load_ext autoreload\n",
    "%autoreload all\n",
    "\n",
    "from ipython_magics_files import fun1, fun2\n",
    "%aimport -ipython_magics_files.fun2\n",
    "print(fun1.return_line())\n",
    "print(fun2.return_line())"
   ]
  },
  {
   "cell_type": "code",
   "execution_count": null,
   "metadata": {},
   "outputs": [],
   "source": [
    "%%bash\n",
    "cat > ipython_magics_files/fun1.py << EOF\n",
    "def return_line():\n",
    "    return \"New line from fun1.py\"\n",
    "EOF\n",
    "cat > ipython_magics_files/fun2.py << EOF\n",
    "def return_line():\n",
    "    return \"New line from fun2.py\"\n",
    "EOF"
   ]
  },
  {
   "cell_type": "code",
   "execution_count": null,
   "metadata": {},
   "outputs": [
    {
     "name": "stdout",
     "output_type": "stream",
     "text": [
      "New line from fun1.py\n",
      "Original line from fun2.py\n"
     ]
    }
   ],
   "source": [
    "print(fun1.return_line())\n",
    "print(fun2.return_line())"
   ]
  },
  {
   "cell_type": "markdown",
   "metadata": {},
   "source": [
    "## `%%writefile`\n",
    "\n",
    "This is the magic that allows you to save the contents of the cell to a file. You need to use the syntax `%%writefile <directory>` in the first line of the cell to save it in the `<directory>`.\n",
    "\n",
    "All code cells in this section are the same example and should be run one by one."
   ]
  },
  {
   "cell_type": "markdown",
   "metadata": {},
   "source": [
    "A new folder has been created here. The `ls` command confirms that it's empty."
   ]
  },
  {
   "cell_type": "code",
   "execution_count": null,
   "metadata": {},
   "outputs": [],
   "source": [
    "%%bash\n",
    "mkdir ipython_magics_files/writefile_files\n",
    "ls ipython_magics_files/writefile_files"
   ]
  },
  {
   "cell_type": "markdown",
   "metadata": {},
   "source": [
    "Using `%%writefile` to a non-existent file."
   ]
  },
  {
   "cell_type": "code",
   "execution_count": null,
   "metadata": {},
   "outputs": [
    {
     "name": "stdout",
     "output_type": "stream",
     "text": [
      "Writing ipython_magics_files/writefile_files/writefile\n"
     ]
    }
   ],
   "source": [
    "%%writefile ipython_magics_files/writefile_files/writefile\n",
    "this is the file from the cell"
   ]
  },
  {
   "cell_type": "markdown",
   "metadata": {},
   "source": [
    "Verify that the file has been created and contains the content specified in the previous cell."
   ]
  },
  {
   "cell_type": "code",
   "execution_count": null,
   "metadata": {},
   "outputs": [
    {
     "name": "stdout",
     "output_type": "stream",
     "text": [
      "=====files=====\n",
      "writefile\n",
      "=====content=====\n",
      "this is the file from the cell\n"
     ]
    }
   ],
   "source": [
    "%%bash \n",
    "echo \"=====files=====\"\n",
    "ls ipython_magics_files/writefile_files\n",
    "echo \"=====content=====\"\n",
    "cat ipython_magics_files/writefile_files/writefile"
   ]
  },
  {
   "cell_type": "markdown",
   "metadata": {},
   "source": [
    "Now let's try using the same file, but for a different cell. The message `Overwriting ...` indicates that the content will be completely replaced."
   ]
  },
  {
   "cell_type": "code",
   "execution_count": null,
   "metadata": {},
   "outputs": [
    {
     "name": "stdout",
     "output_type": "stream",
     "text": [
      "Overwriting ipython_magics_files/writefile_files/writefile\n"
     ]
    }
   ],
   "source": [
    "%%writefile ipython_magics_files/writefile_files/writefile\n",
    "some other message for another cell"
   ]
  },
  {
   "cell_type": "markdown",
   "metadata": {},
   "source": [
    "Make sure that the contents of the file are from the last cell."
   ]
  },
  {
   "cell_type": "code",
   "execution_count": null,
   "metadata": {},
   "outputs": [
    {
     "name": "stdout",
     "output_type": "stream",
     "text": [
      "some other message for another cell\n"
     ]
    }
   ],
   "source": [
    "%%bash\n",
    "cat ipython_magics_files/writefile_files/writefile"
   ]
  },
  {
   "cell_type": "markdown",
   "metadata": {},
   "source": [
    "Finally delete the folder so that the content remains fully playable."
   ]
  },
  {
   "cell_type": "code",
   "execution_count": null,
   "metadata": {},
   "outputs": [],
   "source": [
    "%%bash\n",
    "rm -r ipython_magics_files/writefile_files/"
   ]
  }
 ],
 "metadata": {
  "kernelspec": {
   "display_name": "venv",
   "language": "python",
   "name": "python3"
  },
  "language_info": {
   "codemirror_mode": {
    "name": "ipython",
    "version": 3
   },
   "file_extension": ".py",
   "mimetype": "text/x-python",
   "name": "python",
   "nbconvert_exporter": "python",
   "pygments_lexer": "ipython3",
   "version": "3.10.16"
  }
 },
 "nbformat": 4,
 "nbformat_minor": 2
}
