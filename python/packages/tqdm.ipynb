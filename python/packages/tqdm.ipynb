{
 "cells": [
  {
   "cell_type": "markdown",
   "id": "2cd6dc57-ba0a-476c-8aa1-faa9b8a37a7d",
   "metadata": {},
   "source": [
    "# TQDM\n",
    "\n",
    "This page focuses on features related to working with the `tqdm` Python library. This is a library that allows you to create terminal progress bars in your python code. See the [official documentation](https://tqdm.github.io/) for more details."
   ]
  },
  {
   "cell_type": "code",
   "execution_count": 10,
   "id": "42623a8e-72d1-4856-879d-ed8d7db14b92",
   "metadata": {},
   "outputs": [],
   "source": [
    "import tqdm\n",
    "from IPython.display import clear_output"
   ]
  },
  {
   "cell_type": "markdown",
   "id": "fed38490-bef9-41b9-9956-4b043f49daf2",
   "metadata": {},
   "source": [
    "## tqdm object\n",
    "\n",
    "The `tqdm.tqdm` function returns a `tqdm.std.tqdm` object, which is iterable. Each `next` call on this object will update the progress line."
   ]
  },
  {
   "cell_type": "markdown",
   "id": "e3a872f7",
   "metadata": {},
   "source": [
    "---\n",
    "\n",
    "The following cell shows type of the object returned by `tqdm.tqdm`."
   ]
  },
  {
   "cell_type": "code",
   "execution_count": 13,
   "id": "6d9d5a92",
   "metadata": {},
   "outputs": [
    {
     "data": {
      "text/plain": [
       "tqdm.std.tqdm"
      ]
     },
     "metadata": {},
     "output_type": "display_data"
    }
   ],
   "source": [
    "bar = tqdm.tqdm([1,2,3,4])\n",
    "bar.close()\n",
    "clear_output()\n",
    "display(type(bar))"
   ]
  },
  {
   "cell_type": "markdown",
   "id": "0cd78740-019e-45e1-b15c-2e74262897df",
   "metadata": {},
   "source": [
    "So, as with any other iterabe, you can manually iterate over it using the `next` function."
   ]
  },
  {
   "cell_type": "code",
   "execution_count": 19,
   "id": "74aba634-2e18-4bc7-866c-720eb6ab82b7",
   "metadata": {},
   "outputs": [
    {
     "name": "stderr",
     "output_type": "stream",
     "text": [
      " 25%|██▌       | 1/4 [00:00<00:00, 4660.34it/s]\n"
     ]
    }
   ],
   "source": [
    "bar = tqdm.tqdm([1,2,3,4])\n",
    "bar = iter(bar)\n",
    "next(bar)\n",
    "next(bar)\n",
    "bar.close()"
   ]
  },
  {
   "cell_type": "markdown",
   "id": "91c5113a",
   "metadata": {},
   "source": [
    "You can also use the `update` method to manually advance the progress bar."
   ]
  },
  {
   "cell_type": "code",
   "execution_count": 20,
   "id": "4d8c0dfd",
   "metadata": {},
   "outputs": [
    {
     "name": "stderr",
     "output_type": "stream",
     "text": [
      " 30%|█████████████████▍                                        | 30/100 [00:00<00:00, 408536.10it/s]\n"
     ]
    }
   ],
   "source": [
    "bar = tqdm.tqdm(total=100, ncols=100)\n",
    "bar.update(10)\n",
    "bar.update(20)\n",
    "bar.close()"
   ]
  },
  {
   "cell_type": "markdown",
   "id": "795412e9",
   "metadata": {},
   "source": [
    "## Output stream"
   ]
  }
 ],
 "metadata": {
  "kernelspec": {
   "display_name": "Python 3 (ipykernel)",
   "language": "python",
   "name": "python3"
  },
  "language_info": {
   "codemirror_mode": {
    "name": "ipython",
    "version": 3
   },
   "file_extension": ".py",
   "mimetype": "text/x-python",
   "name": "python",
   "nbconvert_exporter": "python",
   "pygments_lexer": "ipython3",
   "version": "3.10.12"
  }
 },
 "nbformat": 4,
 "nbformat_minor": 5
}
