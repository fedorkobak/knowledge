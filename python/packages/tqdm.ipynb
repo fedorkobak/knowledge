{
 "cells": [
  {
   "cell_type": "markdown",
   "id": "2cd6dc57-ba0a-476c-8aa1-faa9b8a37a7d",
   "metadata": {},
   "source": [
    "# TQDM\n",
    "\n",
    "This page focuses on features related to working with the `tqdm` Python library. This is a library that allows you to create terminal progress bars in your python code. See the [official documentation](https://tqdm.github.io/) for more details."
   ]
  },
  {
   "cell_type": "code",
   "execution_count": 1,
   "id": "42623a8e-72d1-4856-879d-ed8d7db14b92",
   "metadata": {},
   "outputs": [],
   "source": [
    "import tqdm"
   ]
  },
  {
   "cell_type": "markdown",
   "id": "fed38490-bef9-41b9-9956-4b043f49daf2",
   "metadata": {},
   "source": [
    "## Basic usage"
   ]
  },
  {
   "cell_type": "markdown",
   "id": "37435558-511c-4dca-8264-cb119160e3f9",
   "metadata": {},
   "source": [
    "Just wrap iterable with `tqdm.tqdm` and you'll have a bar that shows the progress of the cycle."
   ]
  },
  {
   "cell_type": "code",
   "execution_count": 9,
   "id": "3d6efe73-fb54-4a41-a04a-07e9a772f974",
   "metadata": {},
   "outputs": [
    {
     "name": "stderr",
     "output_type": "stream",
     "text": [
      "100%|█████████████████████████████████████████████████████████████| 5/5 [00:00<00:00, 107546.26it/s]\n"
     ]
    }
   ],
   "source": [
    "for i in tqdm.tqdm([1,2,3,4,5], ncols=100):\n",
    "    pass"
   ]
  },
  {
   "cell_type": "markdown",
   "id": "0cd78740-019e-45e1-b15c-2e74262897df",
   "metadata": {},
   "source": [
    "So, as with any other iterabe, you can manually iterate over it using the `next` function."
   ]
  },
  {
   "cell_type": "code",
   "execution_count": 8,
   "id": "74aba634-2e18-4bc7-866c-720eb6ab82b7",
   "metadata": {},
   "outputs": [
    {
     "name": "stderr",
     "output_type": "stream",
     "text": [
      "\n",
      " 25%|██████████████████████████████████████████████████▎                                                                                                                                                      | 1/4 [00:00<00:00, 7169.75it/s]\u001b[A\n"
     ]
    }
   ],
   "source": [
    "bar = tqdm.tqdm([1,2,3,4])\n",
    "bar = iter(bar)\n",
    "next(bar)\n",
    "next(bar)\n",
    "bar.close()"
   ]
  },
  {
   "cell_type": "markdown",
   "id": "c316a873-4080-4333-89ad-3613127273fd",
   "metadata": {},
   "source": [
    "## Manual control\n",
    "\n",
    "To gain greater manual control over your `tqdm` progress bar, simply create it using the following syntax: `tqdm.tqdm(total=<number of iterations>)`. Then, utilize the `update(<points>)` method to advance the progress bar by `<points>` points."
   ]
  },
  {
   "cell_type": "markdown",
   "id": "be025f5a-3822-445c-923d-188885e36a23",
   "metadata": {},
   "source": [
    "The following cell shows all these methods together and their results."
   ]
  },
  {
   "cell_type": "code",
   "execution_count": 15,
   "id": "ad65ba47-03a0-470b-b7c6-cdd7d0205ea9",
   "metadata": {},
   "outputs": [
    {
     "name": "stderr",
     "output_type": "stream",
     "text": [
      " 30%|█████████████████▍                                        | 30/100 [00:00<00:00, 274736.07it/s]\n"
     ]
    }
   ],
   "source": [
    "progress_bar = tqdm.tqdm(total=100, ncols=100)\n",
    "progress_bar.update(10)\n",
    "progress_bar.update(20)\n",
    "progress_bar.close()"
   ]
  }
 ],
 "metadata": {
  "kernelspec": {
   "display_name": "Python 3 (ipykernel)",
   "language": "python",
   "name": "python3"
  },
  "language_info": {
   "codemirror_mode": {
    "name": "ipython",
    "version": 3
   },
   "file_extension": ".py",
   "mimetype": "text/x-python",
   "name": "python",
   "nbconvert_exporter": "python",
   "pygments_lexer": "ipython3",
   "version": "3.10.12"
  }
 },
 "nbformat": 4,
 "nbformat_minor": 5
}
