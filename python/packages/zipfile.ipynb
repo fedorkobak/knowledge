{
 "cells": [
  {
   "cell_type": "markdown",
   "metadata": {},
   "source": [
    "# Zipfile\n",
    "\n",
    "There is a special tool in Python that allows you to work with ZIP files. This page explores the options available in this library."
   ]
  },
  {
   "cell_type": "code",
   "execution_count": 26,
   "metadata": {},
   "outputs": [],
   "source": [
    "import random\n",
    "import string\n",
    "import shutil\n",
    "from pathlib import Path"
   ]
  },
  {
   "cell_type": "markdown",
   "metadata": {},
   "source": [
    "The following cell creates a random file tree that we'll use as an example to explore various archiving options."
   ]
  },
  {
   "cell_type": "code",
   "execution_count": 25,
   "metadata": {},
   "outputs": [],
   "source": [
    "def random_string(length=8):\n",
    "    'Function to create a random file/directory name'\n",
    "    letters = string.ascii_lowercase\n",
    "    return ''.join(random.choice(letters) for i in range(length))\n",
    "\n",
    "files_path = Path(\"zipfile_files\")\n",
    "original_path = files_path/\"zipped_folder\"\n",
    "if original_path.exists():\n",
    "    shutil.rmtree(str(original_path))\n",
    "current_path = original_path\n",
    "current_path.mkdir()\n",
    "\n",
    "for i in range(50):\n",
    "\n",
    "    new_path = current_path/random_string()\n",
    "    event = random.choice([\"create_file\"]*5 + [\"create_folder\"] + [\"exit_folder\"]*3)\n",
    "\n",
    "    if event==\"create_file\":\n",
    "        new_path.write_text(random_string())\n",
    "    elif event==\"create_folder\":\n",
    "        new_path.mkdir()\n",
    "        current_path = new_path\n",
    "    elif original_path!=current_path:\n",
    "        current_path = current_path.parent\n",
    "\n",
    "ans = (files_path/\".gitignore\").write_text(\"zipped_folder\")"
   ]
  }
 ],
 "metadata": {
  "kernelspec": {
   "display_name": "Python 3",
   "language": "python",
   "name": "python3"
  },
  "language_info": {
   "codemirror_mode": {
    "name": "ipython",
    "version": 3
   },
   "file_extension": ".py",
   "mimetype": "text/x-python",
   "name": "python",
   "nbconvert_exporter": "python",
   "pygments_lexer": "ipython3",
   "version": "3.10.12"
  }
 },
 "nbformat": 4,
 "nbformat_minor": 2
}
