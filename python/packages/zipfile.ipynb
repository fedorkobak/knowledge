{
 "cells": [
  {
   "cell_type": "markdown",
   "metadata": {},
   "source": [
    "# Zipfile\n",
    "\n",
    "There is a special tool in Python that allows you to work with ZIP files. This page explores the options available in this library."
   ]
  },
  {
   "cell_type": "code",
   "execution_count": 95,
   "metadata": {},
   "outputs": [],
   "source": [
    "import shutil\n",
    "import seedir as sd\n",
    "from pathlib import Path\n",
    "from zipfile import ZipFile\n",
    "\n",
    "files_path = Path(\"zipfile_files\")"
   ]
  },
  {
   "cell_type": "markdown",
   "metadata": {},
   "source": [
    "## ZipFile object\n",
    "\n",
    "The `ZipFile` object behaves like a regular file stream. You have to specify `file` and `mode`."
   ]
  },
  {
   "cell_type": "markdown",
   "metadata": {},
   "source": [
    "---\n",
    "\n",
    "The following example opens an archive with `mode='w'`, so a new archive is created at the path specified in `file`."
   ]
  },
  {
   "cell_type": "code",
   "execution_count": 19,
   "metadata": {},
   "outputs": [],
   "source": [
    "archive_path = Path('experimental.zip')\n",
    "zip = ZipFile(file=archive_path, mode='w')\n",
    "zip.close()"
   ]
  },
  {
   "cell_type": "markdown",
   "metadata": {},
   "source": [
    "The following cell demonstrates that the file was indeed created and then immediately deletes it."
   ]
  },
  {
   "cell_type": "code",
   "execution_count": 20,
   "metadata": {},
   "outputs": [
    {
     "name": "stdout",
     "output_type": "stream",
     "text": [
      "File exists -  True\n"
     ]
    }
   ],
   "source": [
    "print(\"File exists - \", archive_path.exists())\n",
    "archive_path.unlink()"
   ]
  },
  {
   "cell_type": "markdown",
   "metadata": {},
   "source": [
    "## Writing/extracting"
   ]
  },
  {
   "cell_type": "code",
   "execution_count": 99,
   "metadata": {},
   "outputs": [
    {
     "name": "stdout",
     "output_type": "stream",
     "text": [
      "\u001b[01;34mzip_dir/\u001b[0m\n",
      "├── \u001b[01;34minner_dir\u001b[0m\n",
      "│   └── \u001b[00minnder_dir_file\u001b[0m\n",
      "└── \u001b[00mzip_example_file\u001b[0m\n",
      "\n",
      "1 directory, 2 files\n",
      "  adding: zip_dir/ (stored 0%)\n",
      "  adding: zip_dir/inner_dir/ (stored 0%)\n",
      "  adding: zip_dir/inner_dir/innder_dir_file (stored 0%)\n",
      "  adding: zip_dir/zip_example_file (stored 0%)\n"
     ]
    }
   ],
   "source": []
  },
  {
   "cell_type": "code",
   "execution_count": 100,
   "metadata": {},
   "outputs": [
    {
     "name": "stdout",
     "output_type": "stream",
     "text": [
      "test_extraction/\n",
      "└─zip_dir/\n",
      "  ├─inner_dir/\n",
      "  │ └─innder_dir_file\n",
      "  └─zip_example_file\n"
     ]
    }
   ],
   "source": [
    "test_extraction_folder = Path(\"test_extraction\")\n",
    "with ZipFile(file=\"archive.zip\", mode=\"r\") as f:\n",
    "    f.extractall(test_extraction_folder)\n",
    "sd.seedir(test_extraction_folder)\n",
    "shutil.rmtree(test_extraction_folder)"
   ]
  },
  {
   "cell_type": "code",
   "execution_count": 105,
   "metadata": {},
   "outputs": [
    {
     "name": "stdout",
     "output_type": "stream",
     "text": [
      "temp_dir/\n",
      "├─inner_file/\n",
      "│ └─zip_dir/\n",
      "│   └─inner_dir/\n",
      "│     └─innder_dir_file\n",
      "└─outer_file/\n",
      "  └─zip_dir/\n",
      "    └─zip_example_file\n"
     ]
    }
   ],
   "source": [
    "temp_dir = Path(\"temp_dir\")\n",
    "outer_file_path = temp_dir/\"outer_file\"\n",
    "inner_file_path = temp_dir/\"inner_file\"\n",
    "\n",
    "with ZipFile(file=\"archive.zip\", mode='r') as f:\n",
    "    f.extract(member=\"zip_dir/zip_example_file\", path=outer_file_path)\n",
    "    f.extract(member=\"zip_dir/inner_dir/innder_dir_file\", path=inner_file_path)\n",
    "\n",
    "sd.seedir(temp_dir)"
   ]
  }
 ],
 "metadata": {
  "kernelspec": {
   "display_name": "Python 3",
   "language": "python",
   "name": "python3"
  },
  "language_info": {
   "codemirror_mode": {
    "name": "ipython",
    "version": 3
   },
   "file_extension": ".py",
   "mimetype": "text/x-python",
   "name": "python",
   "nbconvert_exporter": "python",
   "pygments_lexer": "ipython3",
   "version": "3.10.12"
  }
 },
 "nbformat": 4,
 "nbformat_minor": 2
}
