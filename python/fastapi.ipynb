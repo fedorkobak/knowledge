{
 "cells": [
  {
   "cell_type": "markdown",
   "id": "39f46a00-0722-4172-8914-4a94b6f344b7",
   "metadata": {},
   "source": [
    "# Fastapi\n",
    "\n",
    "`fastapi` is a python library that allows you to build APIs on top of python."
   ]
  },
  {
   "cell_type": "markdown",
   "id": "3f3c9665-1161-41e9-bbd9-12626aea0266",
   "metadata": {},
   "source": [
    "## Check it\n",
    "\n",
    "- [Introductory and titorials on fastapi](https://fastapi.tiangolo.com/learn/)."
   ]
  },
  {
   "cell_type": "markdown",
   "id": "a9a81842-e48b-4a55-9828-0c080250af7e",
   "metadata": {},
   "source": [
    "## Run application"
   ]
  },
  {
   "cell_type": "markdown",
   "id": "abdf8544-a9ac-4ff7-b53b-c0a223c9970b",
   "metadata": {},
   "source": [
    "In the context of this site, my aim is to make each notebook runnable. To enhance convenience and prevent notebook cell stacking, I have opted to run different servers in Docker containers. This approach allows for seamless execution.\n",
    "\n",
    "In this guide, I will explain how to build a container that will predominantly be utilized in the examples throughout the entire `fastapi` section. And `fastapi` basics steps the same time.\n",
    "\n",
    "**Long story short** just use docker image with name `fastapi_experiment` just as it showen in section \"run\"."
   ]
  },
  {
   "cell_type": "markdown",
   "id": "ecd0ecb9-1c03-4aba-88e7-0493a5c604bd",
   "metadata": {},
   "source": [
    "### Dockerfile"
   ]
  },
  {
   "cell_type": "markdown",
   "id": "ec2c280f-1e23-4cf1-b7de-41e87561aab1",
   "metadata": {},
   "source": [
    "In the next cell is the docker file I am using for this example."
   ]
  },
  {
   "cell_type": "code",
   "execution_count": 1,
   "id": "3e3f921b-57e3-4f1c-8364-bda3b417615e",
   "metadata": {},
   "outputs": [
    {
     "name": "stdout",
     "output_type": "stream",
     "text": [
      "Overwriting fastapi/run_application_files/dockerfile\n"
     ]
    }
   ],
   "source": [
    "%%writefile fastapi/run_application_files/dockerfile\n",
    "FROM python:3.11\n",
    "COPY requrements.txt requrements.txt\n",
    "RUN pip3 install -r requrements.txt\n",
    "EXPOSE 8000"
   ]
  },
  {
   "cell_type": "markdown",
   "id": "0f54d227-7599-409f-9e11-2869f8165bb5",
   "metadata": {},
   "source": [
    "### `requrements.txt`\n",
    "\n",
    "Python libraries you only needed to run the `fastapi` server. It is supposed to be used in the [dockerfile](#sec-dockerfile) described above."
   ]
  },
  {
   "cell_type": "code",
   "execution_count": 2,
   "id": "55120d3f-bac6-41c6-b55b-7c77b3e1461b",
   "metadata": {},
   "outputs": [
    {
     "name": "stdout",
     "output_type": "stream",
     "text": [
      "Overwriting fastapi/run_application_files/requrements.txt\n"
     ]
    }
   ],
   "source": [
    "%%writefile fastapi/run_application_files/requrements.txt\n",
    "fastapi==0.103.1\n",
    "uvicorn==0.23.2"
   ]
  },
  {
   "cell_type": "markdown",
   "id": "0b775f79-cd87-4a24-a44e-5d2724f5939d",
   "metadata": {},
   "source": [
    "### Programme"
   ]
  },
  {
   "cell_type": "markdown",
   "id": "b55ca7c0-8ac5-4e35-94c6-b25c31f4d099",
   "metadata": {},
   "source": [
    "You need to declare an object of class `fastapi.fastAPI`. Then use its decorators to add to your functions the ability to respond to certain requests.\n",
    "\n",
    "So in the following example, I create `fastapi.fastAPI` under the name `my_first_app`, and create a function that will always respond `hello` to a `get` request."
   ]
  },
  {
   "cell_type": "code",
   "execution_count": 3,
   "id": "02b80c22-cc4f-429a-807e-33b9f0cecaf5",
   "metadata": {},
   "outputs": [
    {
     "name": "stdout",
     "output_type": "stream",
     "text": [
      "Overwriting fastapi/run_application_files/get_started.py\n"
     ]
    }
   ],
   "source": [
    "%%writefile fastapi/run_application_files/get_started.py\n",
    "from fastapi import FastAPI\n",
    "\n",
    "my_first_app = FastAPI()\n",
    "\n",
    "@my_first_app.get(\"/\")\n",
    "def say_hello():\n",
    "    return \"hello\""
   ]
  },
  {
   "cell_type": "markdown",
   "id": "44423c14-6963-416f-a32e-ae923c83025e",
   "metadata": {},
   "source": [
    "### Build the image\n",
    "\n",
    "Image with name `fastapi_experiment`, created in the following cell, will be used in the other subsections of the fastapi section."
   ]
  },
  {
   "cell_type": "code",
   "execution_count": 6,
   "id": "bdae2986-0aa7-40d6-b415-cac20a8ce0f7",
   "metadata": {},
   "outputs": [],
   "source": [
    "!docker build -t fastapi_experiment\\\n",
    "    ./fastapi/run_application_files/ &> /dev/null"
   ]
  },
  {
   "cell_type": "markdown",
   "id": "587c3c81-4927-4810-a48b-1133568059b6",
   "metadata": {},
   "source": [
    "### Run\n",
    "\n",
    "To run the `fastapi` official documentation recomend to use `uvicorn` as web-server. So you need to use command:\n",
    "\n",
    "`uvicon <path to python file with program>:<name of fastapi.fastAPI object in your program>.`\n",
    "\n",
    "So in the following example, a docker container is run, tested and stopped:\n",
    "\n",
    "- Created from the image named `fastapi_experiment` described in the docker file above;\n",
    "- With the name `test_container` for container;\n",
    "- The default port for `fastapi` is 8000, so port 8000 on the container is connected to port 8000 on the local machine;\n",
    "- With volume that allows to read programme;\n",
    "- And with the command created from the required pattern:\n",
    "    - `--host 0.0.0.0` is used to make the application visible from the container, it's not necessary if you are using `uvicorn` without docker."
   ]
  },
  {
   "cell_type": "code",
   "execution_count": 7,
   "id": "e320fbcb-3475-414a-ae4e-cde6a302d776",
   "metadata": {
    "scrolled": true
   },
   "outputs": [],
   "source": [
    "!docker run --rm -itd\\\n",
    "    --name test_container\\\n",
    "    -v ./fastapi/run_application_files/get_started.py:/get_started.py\\\n",
    "    -p 8000:8000 \\\n",
    "    fastapi_experiment \\\n",
    "    uvicorn --host 0.0.0.0 get_started:my_first_app >/dev/null"
   ]
  },
  {
   "cell_type": "markdown",
   "id": "71d421a8-adc4-4853-9409-b8faa7c3675f",
   "metadata": {},
   "source": [
    "So now you can try it in your browser, but here I use the `curl` utility - it returns \"hello\", just as I declared in the programme."
   ]
  },
  {
   "cell_type": "code",
   "execution_count": 8,
   "id": "310083e9-24c0-4c09-95c2-e765331b8bf9",
   "metadata": {},
   "outputs": [
    {
     "name": "stdout",
     "output_type": "stream",
     "text": [
      "\"hello\""
     ]
    }
   ],
   "source": [
    "!curl localhost:8000"
   ]
  },
  {
   "cell_type": "markdown",
   "id": "79b6a300-57e0-4de7-b155-51a5618bc251",
   "metadata": {},
   "source": [
    "And we can also check what is happening inside the container. **Note** that the last line here is the log line for the http request from the previous cell."
   ]
  },
  {
   "cell_type": "code",
   "execution_count": 9,
   "id": "83c8c8c8-7439-477a-bea7-0e3640398bf8",
   "metadata": {},
   "outputs": [
    {
     "name": "stdout",
     "output_type": "stream",
     "text": [
      "\u001b[32mINFO\u001b[0m:     Started server process [\u001b[36m1\u001b[0m]\n",
      "\u001b[32mINFO\u001b[0m:     Waiting for application startup.\n",
      "\u001b[32mINFO\u001b[0m:     Application startup complete.\n",
      "\u001b[32mINFO\u001b[0m:     Uvicorn running on \u001b[1mhttp://0.0.0.0:8000\u001b[0m (Press CTRL+C to quit)\n",
      "\u001b[32mINFO\u001b[0m:     172.17.0.1:48288 - \"\u001b[1mGET / HTTP/1.1\u001b[0m\" \u001b[32m200 OK\u001b[0m\n"
     ]
    }
   ],
   "source": [
    "!docker logs test_container"
   ]
  },
  {
   "cell_type": "markdown",
   "id": "052c3e97-4d23-41fc-aa58-77473062247b",
   "metadata": {},
   "source": [
    "**Don't forget** to stop the image when you've finished playing with the container."
   ]
  },
  {
   "cell_type": "code",
   "execution_count": 10,
   "id": "c05fe5d5-8acf-4f46-95ea-e8c806b0ad05",
   "metadata": {
    "scrolled": true
   },
   "outputs": [],
   "source": [
    "!docker stop test_container &> /dev/null"
   ]
  }
 ],
 "metadata": {
  "kernelspec": {
   "display_name": "Python 3 (ipykernel)",
   "language": "python",
   "name": "python3"
  },
  "language_info": {
   "codemirror_mode": {
    "name": "ipython",
    "version": 3
   },
   "file_extension": ".py",
   "mimetype": "text/x-python",
   "name": "python",
   "nbconvert_exporter": "python",
   "pygments_lexer": "ipython3",
   "version": "3.10.12"
  }
 },
 "nbformat": 4,
 "nbformat_minor": 5
}
