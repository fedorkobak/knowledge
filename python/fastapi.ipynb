{
 "cells": [
  {
   "cell_type": "markdown",
   "id": "39f46a00-0722-4172-8914-4a94b6f344b7",
   "metadata": {},
   "source": [
    "# Fastapi\n",
    "\n",
    "`fastapi` is a python library that allows you to build APIs on top of python."
   ]
  },
  {
   "cell_type": "markdown",
   "id": "3f3c9665-1161-41e9-bbd9-12626aea0266",
   "metadata": {},
   "source": [
    "Find out more here:\n",
    "\n",
    "- [Introductory and tutorials on fastapi](https://fastapi.tiangolo.com/learn/)."
   ]
  },
  {
   "cell_type": "code",
   "execution_count": 4,
   "id": "e1e835c9",
   "metadata": {},
   "outputs": [],
   "source": [
    "import requests"
   ]
  },
  {
   "cell_type": "markdown",
   "id": "a9a81842-e48b-4a55-9828-0c080250af7e",
   "metadata": {},
   "source": [
    "## Run application\n",
    "\n",
    "To ensure all notebooks on this site are runnable, I've implemented a solution using Docker containers. This approach allows for efficient execution and prevents notebook cell stacking, providing a seamless experience.  Below is a comprehensive list of requirements for running the application.\n",
    "\n",
    "For detailed instructions on running a FastAPI application, please refer to the [specific page](fastapi/run_application.ipynb)."
   ]
  },
  {
   "cell_type": "markdown",
   "id": "af509920",
   "metadata": {},
   "source": [
    "---"
   ]
  },
  {
   "cell_type": "markdown",
   "id": "1e5d9983",
   "metadata": {},
   "source": [
    "If you haven't already built a container with your FastAPI application, you'll need to do so. "
   ]
  },
  {
   "cell_type": "code",
   "execution_count": null,
   "id": "0cda66b0",
   "metadata": {},
   "outputs": [],
   "source": [
    "!docker build -t fastapi_experiment fastapi/run_application_files/dockerfile"
   ]
  },
  {
   "cell_type": "markdown",
   "id": "3bdeb715",
   "metadata": {},
   "source": [
    "\n",
    "Create a file containing the application you want to play with. "
   ]
  },
  {
   "cell_type": "code",
   "execution_count": 10,
   "id": "1fd0f2cb",
   "metadata": {},
   "outputs": [
    {
     "name": "stdout",
     "output_type": "stream",
     "text": [
      "Overwriting fastapi/run_application_files/get_started.py\n"
     ]
    }
   ],
   "source": [
    "%%writefile fastapi/run_application_files/get_started.py\n",
    "from fastapi import FastAPI\n",
    "\n",
    "my_first_app = FastAPI()\n",
    "\n",
    "@my_first_app.get(\"/\")\n",
    "def say_hello():\n",
    "    return \"hello\""
   ]
  },
  {
   "cell_type": "markdown",
   "id": "dfdcc0e7",
   "metadata": {},
   "source": [
    "Now you need to start the container.  There are a few important features to consider: \n",
    "\n",
    "* **`-v` option:**  Specifies the location of the file containing your program, allowing you to substitute a specific file.\n",
    "* **Command to execute:** `uvicorn --host 0.0.0.0 --reload get_started:my_first_app`\n",
    "    * **`--host 0.0.0.0`:**  Makes the API accessible from the host.\n",
    "    * **`--reload`:**  Automatically applies changes to the API whenever you modify the application file. \n"
   ]
  },
  {
   "cell_type": "code",
   "execution_count": 24,
   "id": "38604ef9",
   "metadata": {},
   "outputs": [],
   "source": [
    "!docker run --rm -itd\\\n",
    "    --name test_container\\\n",
    "    -v ./fastapi/run_application_files/get_started.py:/get_started.py\\\n",
    "    -p 8000:8000 \\\n",
    "    fastapi_experiment \\\n",
    "    uvicorn --host 0.0.0.0 --reload get_started:my_first_app >/dev/null"
   ]
  },
  {
   "cell_type": "markdown",
   "id": "e9b49f5b",
   "metadata": {},
   "source": [
    "Now you can test that everything is working correctly by making a request to the newly created API. "
   ]
  },
  {
   "cell_type": "code",
   "execution_count": 12,
   "id": "16124467",
   "metadata": {},
   "outputs": [
    {
     "data": {
      "text/plain": [
       "b'\"hello\"'"
      ]
     },
     "execution_count": 12,
     "metadata": {},
     "output_type": "execute_result"
    }
   ],
   "source": [
    "requests.get(\"http://localhost:8000/\").content"
   ]
  },
  {
   "cell_type": "markdown",
   "id": "2db809cb",
   "metadata": {},
   "source": [
    "We received a response that matches the code we just wrote."
   ]
  },
  {
   "cell_type": "markdown",
   "id": "3e99165f",
   "metadata": {},
   "source": [
    "Finally, don't forget to stop the container when you're finished. "
   ]
  },
  {
   "cell_type": "code",
   "execution_count": 14,
   "id": "e1e46242",
   "metadata": {},
   "outputs": [
    {
     "name": "stdout",
     "output_type": "stream",
     "text": [
      "test_container\n"
     ]
    }
   ],
   "source": [
    "!docker stop test_container"
   ]
  },
  {
   "cell_type": "markdown",
   "id": "a4088d31",
   "metadata": {},
   "source": [
    "## Responses\n",
    "\n",
    "FastAPI handles API output, returning Python objects or using special wrappers. Output annotations also play a role. For more details check [special page](fastapi/return_values.ipynb)."
   ]
  },
  {
   "cell_type": "markdown",
   "id": "c27964a8",
   "metadata": {},
   "source": [
    "---\n",
    "\n",
    "The following example shows an API that returns a simple Python dictionary as its output. "
   ]
  },
  {
   "cell_type": "code",
   "execution_count": 25,
   "id": "3bb6194c",
   "metadata": {},
   "outputs": [
    {
     "name": "stdout",
     "output_type": "stream",
     "text": [
      "Overwriting fastapi/run_application_files/get_started.py\n"
     ]
    }
   ],
   "source": [
    "%%writefile fastapi/run_application_files/get_started.py\n",
    "from fastapi import FastAPI\n",
    "\n",
    "my_first_app = FastAPI()\n",
    "\n",
    "@my_first_app.get(\"/\")\n",
    "def get_dict():\n",
    "    return {\"a\": \"value\", \"b\": 32}"
   ]
  },
  {
   "cell_type": "markdown",
   "id": "787cc65e",
   "metadata": {},
   "source": [
    "If we request this API, we would receive the corresponding JSON data in response."
   ]
  },
  {
   "cell_type": "code",
   "execution_count": 37,
   "id": "20ef2485",
   "metadata": {},
   "outputs": [
    {
     "data": {
      "text/plain": [
       "b'{\"a\":\"value\",\"b\":32}'"
      ]
     },
     "execution_count": 37,
     "metadata": {},
     "output_type": "execute_result"
    }
   ],
   "source": [
    "requests.get(\"http://localhost:8000\").content"
   ]
  },
  {
   "cell_type": "markdown",
   "id": "cd0c733e",
   "metadata": {},
   "source": [
    "## Cache\n",
    "\n",
    "A common way to optimize applications is by using caching, which involves storing the outputs of certain processes for a set period. For FastAPI, the [`fastapi_cache`](https://github.com/long2ice/fastapi-cache) library provides a convenient way to implement caching, simplifying the process significantly."
   ]
  },
  {
   "cell_type": "markdown",
   "id": "5b8fbcab",
   "metadata": {},
   "source": [
    "---\n",
    "\n",
    "This example demonstrates how to use `fastapi_cache` with a Redis database. The following code snippet defines a Compose file that sets up a FastAPI application and a Redis database."
   ]
  },
  {
   "cell_type": "code",
   "execution_count": 1,
   "id": "eff798ec",
   "metadata": {},
   "outputs": [
    {
     "name": "stdout",
     "output_type": "stream",
     "text": [
      "Overwriting fastapi_files/docker-compose.yml\n"
     ]
    }
   ],
   "source": [
    "%%writefile fastapi_files/docker-compose.yml\n",
    "services:\n",
    "  fast_api:\n",
    "    image: fastapi_experiment\n",
    "    container_name: cache_example_api\n",
    "    volumes:\n",
    "      - ./app.py:/app.py\n",
    "    command: /bin/sh -c \"\\\n",
    "      pip3 install redis fastapi-cache2[redis] && \\\n",
    "      uvicorn --host 0.0.0.0 --reload app:app\"\n",
    "    network_mode: host\n",
    "    stdin_open: true\n",
    "    tty: true\n",
    "  redis:\n",
    "    image: redis:7.4.0\n",
    "    container_name: cache_example_redis\n",
    "    network_mode: host\n",
    "    command: redis-server --port 6380"
   ]
  },
  {
   "cell_type": "markdown",
   "id": "aa63e85b",
   "metadata": {},
   "source": [
    "The following code implements a simple FastAPI application that generates a random number for a given user. We'll use this application to test if the returned values are cached in Redis. "
   ]
  },
  {
   "cell_type": "code",
   "execution_count": 2,
   "id": "56862ef1",
   "metadata": {},
   "outputs": [
    {
     "name": "stdout",
     "output_type": "stream",
     "text": [
      "Overwriting fastapi_files/app.py\n"
     ]
    }
   ],
   "source": [
    "%%writefile fastapi_files/app.py\n",
    "from random import random\n",
    "from collections.abc import AsyncIterator\n",
    "\n",
    "from fastapi import FastAPI\n",
    "\n",
    "from fastapi_cache import FastAPICache\n",
    "from fastapi_cache.decorator import cache\n",
    "from fastapi_cache.backends.redis import RedisBackend\n",
    "\n",
    "from redis import asyncio as aioredis\n",
    "\n",
    "def lifespan(_: FastAPI) -> AsyncIterator[None]:\n",
    "    redis = aioredis.from_url(\"redis://localhost:6380\")\n",
    "    FastAPICache.init(RedisBackend(redis), prefix=\"fastapi-cache\")\n",
    "    yield\n",
    "\n",
    "app = FastAPI(lifespan=lifespan)\n",
    "\n",
    "@app.get(\"/{id}\")\n",
    "@cache(expire=600)\n",
    "def index(id: int):\n",
    "    return random()"
   ]
  },
  {
   "cell_type": "markdown",
   "id": "ad4fc45f",
   "metadata": {},
   "source": [
    "The following cell starts the application. "
   ]
  },
  {
   "cell_type": "code",
   "execution_count": 3,
   "id": "1774bee2",
   "metadata": {},
   "outputs": [],
   "source": [
    "%%bash\n",
    "cd fastapi_files/\n",
    "docker compose up -d &> /dev/null"
   ]
  },
  {
   "cell_type": "markdown",
   "id": "f107db5a",
   "metadata": {},
   "source": [
    "Now you can try making requests to the application.  Different URLs will return different values. "
   ]
  },
  {
   "cell_type": "code",
   "execution_count": 7,
   "id": "787898fc",
   "metadata": {},
   "outputs": [
    {
     "name": "stdout",
     "output_type": "stream",
     "text": [
      "0.38783875657759437"
     ]
    },
    {
     "name": "stdout",
     "output_type": "stream",
     "text": [
      "0.9900099017385098"
     ]
    }
   ],
   "source": [
    "!curl localhost:8000/10\n",
    "!curl localhost:8000/20"
   ]
  },
  {
   "cell_type": "markdown",
   "id": "04ad1005",
   "metadata": {},
   "source": [
    "However, requests to the same URL will return the same values as before, because the results have been cached from previous calls."
   ]
  },
  {
   "cell_type": "code",
   "execution_count": 9,
   "id": "93c24d33",
   "metadata": {},
   "outputs": [
    {
     "name": "stdout",
     "output_type": "stream",
     "text": [
      "0.38783875657759437"
     ]
    },
    {
     "name": "stdout",
     "output_type": "stream",
     "text": [
      "0.9900099017385098"
     ]
    }
   ],
   "source": [
    "!curl localhost:8000/10\n",
    "!curl localhost:8000/20"
   ]
  },
  {
   "cell_type": "markdown",
   "id": "c1a72d16",
   "metadata": {},
   "source": [
    "Let's check if the cached values are present in the Redis database."
   ]
  },
  {
   "cell_type": "code",
   "execution_count": 10,
   "id": "326d8fee",
   "metadata": {},
   "outputs": [
    {
     "name": "stdout",
     "output_type": "stream",
     "text": [
      "1) \"fastapi-cache::5511deb9b96a93779726aed3f9e4d8bc\"\n",
      "2) \"fastapi-cache::c2ab82769e6470b9ef90fa0de4fbb612\"\n"
     ]
    }
   ],
   "source": [
    "!redis-cli -h localhost -p 6380 keys '*'"
   ]
  },
  {
   "cell_type": "markdown",
   "id": "7baada48",
   "metadata": {},
   "source": [
    "We see two keys that begin with the string \"fastapi-cache\", just as we specified in the `prefix` argument. The following Python code prints the values of all keys available in the Redis database. "
   ]
  },
  {
   "cell_type": "code",
   "execution_count": 11,
   "id": "c1bad716",
   "metadata": {},
   "outputs": [
    {
     "name": "stdout",
     "output_type": "stream",
     "text": [
      "fastapi-cache::5511deb9b96a93779726aed3f9e4d8bc: 0.38783875657759437\n",
      "fastapi-cache::c2ab82769e6470b9ef90fa0de4fbb612: 0.9900099017385098\n"
     ]
    }
   ],
   "source": [
    "import redis\n",
    "\n",
    "r = redis.Redis(host='localhost', port=6380, db=0)\n",
    "\n",
    "matching_keys = []\n",
    "cursor = '0'\n",
    "while cursor != 0:\n",
    "    cursor, keys = r.scan(cursor=cursor, match='fastapi-cache*')\n",
    "    matching_keys.extend(keys)\n",
    "\n",
    "if matching_keys:\n",
    "    values = r.mget(matching_keys)\n",
    "    for key, value in zip(matching_keys, values):\n",
    "        print(f\"{key.decode('utf-8')}: {value.decode('utf-8')}\")"
   ]
  },
  {
   "cell_type": "markdown",
   "id": "df2dacf3",
   "metadata": {},
   "source": [
    "The values retrieved from Redis match the values we received from the API responses."
   ]
  },
  {
   "cell_type": "markdown",
   "id": "7617867d",
   "metadata": {},
   "source": [
    "Don't forget to clean the environment after all."
   ]
  },
  {
   "cell_type": "code",
   "execution_count": 12,
   "id": "3cb24d5e",
   "metadata": {},
   "outputs": [],
   "source": [
    "%%bash\n",
    "cd fastapi_files/\n",
    "docker compose down &> /dev/null"
   ]
  }
 ],
 "metadata": {
  "kernelspec": {
   "display_name": "Python 3 (ipykernel)",
   "language": "python",
   "name": "python3"
  },
  "language_info": {
   "codemirror_mode": {
    "name": "ipython",
    "version": 3
   },
   "file_extension": ".py",
   "mimetype": "text/x-python",
   "name": "python",
   "nbconvert_exporter": "python",
   "pygments_lexer": "ipython3",
   "version": "3.10.12"
  }
 },
 "nbformat": 4,
 "nbformat_minor": 5
}
