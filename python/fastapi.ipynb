{
 "cells": [
  {
   "cell_type": "markdown",
   "id": "39f46a00-0722-4172-8914-4a94b6f344b7",
   "metadata": {},
   "source": [
    "# Fastapi\n",
    "\n",
    "`fastapi` is a python library that allows you to build APIs on top of python."
   ]
  },
  {
   "cell_type": "markdown",
   "id": "3f3c9665-1161-41e9-bbd9-12626aea0266",
   "metadata": {},
   "source": [
    "Find out more here:\n",
    "\n",
    "- [Introductory and tutorials on fastapi](https://fastapi.tiangolo.com/learn/)."
   ]
  },
  {
   "cell_type": "code",
   "execution_count": 2,
   "id": "e1e835c9",
   "metadata": {},
   "outputs": [],
   "source": [
    "import requests"
   ]
  },
  {
   "cell_type": "markdown",
   "id": "a9a81842-e48b-4a55-9828-0c080250af7e",
   "metadata": {},
   "source": [
    "## Run application\n",
    "\n",
    "To ensure all notebooks on this site are runnable, I've implemented a solution using Docker containers. This approach allows for efficient execution and prevents notebook cell stacking, providing a seamless experience.  Below is a comprehensive list of requirements for running the application.\n",
    "\n",
    "For detailed instructions on running a FastAPI application, please refer to the [specific page](fastapi/run_application.ipynb)."
   ]
  },
  {
   "cell_type": "markdown",
   "id": "af509920",
   "metadata": {},
   "source": [
    "---"
   ]
  },
  {
   "cell_type": "markdown",
   "id": "1e5d9983",
   "metadata": {},
   "source": [
    "If you haven't already built a container with your FastAPI application, you'll need to do so. "
   ]
  },
  {
   "cell_type": "code",
   "execution_count": null,
   "id": "0cda66b0",
   "metadata": {},
   "outputs": [],
   "source": [
    "!docker build fastapi/run_application_files/dockerfile"
   ]
  },
  {
   "cell_type": "markdown",
   "id": "3bdeb715",
   "metadata": {},
   "source": [
    "\n",
    "Create a file containing the application you want to play with. "
   ]
  },
  {
   "cell_type": "code",
   "execution_count": null,
   "id": "1fd0f2cb",
   "metadata": {},
   "outputs": [],
   "source": [
    "%%writefile fastapi/run_application_files/get_started.py\n",
    "from fastapi import FastAPI\n",
    "\n",
    "my_first_app = FastAPI()\n",
    "\n",
    "@my_first_app.get(\"/\")\n",
    "def say_hello():\n",
    "    return \"hello\""
   ]
  },
  {
   "cell_type": "markdown",
   "id": "dfdcc0e7",
   "metadata": {},
   "source": [
    "Now you need to start the container.  There are a few important features to consider: \n",
    "\n",
    "* **`-v` option:**  Specifies the location of the file containing your program, allowing you to substitute a specific file.\n",
    "* **Command to execute:** `uvicorn --host 0.0.0.0 --reload get_started:my_first_app`\n",
    "    * **`--host 0.0.0.0`:**  Makes the API accessible from the host.\n",
    "    * **`--reload`:**  Automatically applies changes to the API whenever you modify the application file. \n"
   ]
  },
  {
   "cell_type": "code",
   "execution_count": 12,
   "id": "38604ef9",
   "metadata": {},
   "outputs": [],
   "source": [
    "!docker run --rm -itd\\\n",
    "    --name test_container\\\n",
    "    -v ./fastapi/run_application_files/get_started.py:/get_started.py\\\n",
    "    -p 8000:8000 \\\n",
    "    fastapi_experiment \\\n",
    "    uvicorn --host 0.0.0.0 --reload get_started:my_first_app >/dev/null"
   ]
  },
  {
   "cell_type": "markdown",
   "id": "e9b49f5b",
   "metadata": {},
   "source": [
    "Now you can test that everything is working correctly by making a request to the newly created API. "
   ]
  },
  {
   "cell_type": "code",
   "execution_count": 13,
   "id": "16124467",
   "metadata": {},
   "outputs": [
    {
     "data": {
      "text/plain": [
       "b'\"hello\"'"
      ]
     },
     "execution_count": 13,
     "metadata": {},
     "output_type": "execute_result"
    }
   ],
   "source": [
    "requests.get(\"http://localhost:8000/\").content"
   ]
  },
  {
   "cell_type": "markdown",
   "id": "2db809cb",
   "metadata": {},
   "source": [
    "We received a response that matches the code we just wrote."
   ]
  },
  {
   "cell_type": "markdown",
   "id": "3e99165f",
   "metadata": {},
   "source": [
    "Finally, don't forget to stop the container when you're finished. "
   ]
  },
  {
   "cell_type": "code",
   "execution_count": 14,
   "id": "e1e46242",
   "metadata": {},
   "outputs": [
    {
     "name": "stdout",
     "output_type": "stream",
     "text": [
      "test_container\n"
     ]
    }
   ],
   "source": [
    "!docker stop test_container"
   ]
  }
 ],
 "metadata": {
  "kernelspec": {
   "display_name": "Python 3 (ipykernel)",
   "language": "python",
   "name": "python3"
  },
  "language_info": {
   "codemirror_mode": {
    "name": "ipython",
    "version": 3
   },
   "file_extension": ".py",
   "mimetype": "text/x-python",
   "name": "python",
   "nbconvert_exporter": "python",
   "pygments_lexer": "ipython3",
   "version": "3.10.12"
  }
 },
 "nbformat": 4,
 "nbformat_minor": 5
}
