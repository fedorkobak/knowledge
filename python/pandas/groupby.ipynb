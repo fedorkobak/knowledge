{
 "cells": [
  {
   "cell_type": "markdown",
   "id": "a4e18171-64f2-4c77-a398-735e07225cd7",
   "metadata": {},
   "source": [
    "# Groupby\n",
    "\n",
    "`pd.DataFrame.groupby` is a very useful tool, but sometimes working with it can be a bit confusing. So in this page I want to pay more attention to some functions and cases.\n",
    "\n",
    "The most useful page for learning is <a href=\"https://pandas.pydata.org/docs/reference/groupby.html\">GroupBy object in pandas documentation</a>."
   ]
  },
  {
   "cell_type": "markdown",
   "id": "28170813-2825-48ab-b4b6-ff02ec24cffe",
   "metadata": {},
   "source": [
    "# `pd.groupby`\n",
    "\n",
    "Here I describe basic usage of `pandas.groupby` function."
   ]
  },
  {
   "cell_type": "markdown",
   "id": "d87be323-22af-4a96-98b1-492f99ea9f83",
   "metadata": {},
   "source": [
    "## `as_idnex`\n",
    "\n",
    "\n",
    "Setting this value to `True` allows you to say that the aggregation variable should not be used as an index.\n",
    "\n",
    "So in the following example I show the difference.\n",
    "\n",
    "**Note** In the first case the return is `padnas.Series` just because I called it that way, but in the second case it's not a dataframe that pandas has to use as a result."
   ]
  },
  {
   "cell_type": "code",
   "execution_count": 29,
   "id": "20e71bee-d74f-4868-90e5-f8157260bf01",
   "metadata": {},
   "outputs": [
    {
     "data": {
      "text/html": [
       "<b>as_index=True</b>"
      ],
      "text/plain": [
       "<IPython.core.display.HTML object>"
      ]
     },
     "metadata": {},
     "output_type": "display_data"
    },
    {
     "data": {
      "text/plain": [
       "A\n",
       "a     30\n",
       "b     70\n",
       "c    110\n",
       "Name: C, dtype: int64"
      ]
     },
     "metadata": {},
     "output_type": "display_data"
    },
    {
     "data": {
      "text/html": [
       "<b>as_index=False</b>"
      ],
      "text/plain": [
       "<IPython.core.display.HTML object>"
      ]
     },
     "metadata": {},
     "output_type": "display_data"
    },
    {
     "data": {
      "text/html": [
       "<div>\n",
       "<style scoped>\n",
       "    .dataframe tbody tr th:only-of-type {\n",
       "        vertical-align: middle;\n",
       "    }\n",
       "\n",
       "    .dataframe tbody tr th {\n",
       "        vertical-align: top;\n",
       "    }\n",
       "\n",
       "    .dataframe thead th {\n",
       "        text-align: right;\n",
       "    }\n",
       "</style>\n",
       "<table border=\"1\" class=\"dataframe\">\n",
       "  <thead>\n",
       "    <tr style=\"text-align: right;\">\n",
       "      <th></th>\n",
       "      <th>A</th>\n",
       "      <th>C</th>\n",
       "    </tr>\n",
       "  </thead>\n",
       "  <tbody>\n",
       "    <tr>\n",
       "      <th>0</th>\n",
       "      <td>a</td>\n",
       "      <td>30</td>\n",
       "    </tr>\n",
       "    <tr>\n",
       "      <th>1</th>\n",
       "      <td>b</td>\n",
       "      <td>70</td>\n",
       "    </tr>\n",
       "    <tr>\n",
       "      <th>2</th>\n",
       "      <td>c</td>\n",
       "      <td>110</td>\n",
       "    </tr>\n",
       "  </tbody>\n",
       "</table>\n",
       "</div>"
      ],
      "text/plain": [
       "   A    C\n",
       "0  a   30\n",
       "1  b   70\n",
       "2  c  110"
      ]
     },
     "metadata": {},
     "output_type": "display_data"
    }
   ],
   "source": [
    "import pandas as pd\n",
    "from IPython.display import HTML\n",
    "\n",
    "df = pd.DataFrame({'A': ['a', 'a', 'b', 'b', 'c', 'c'],\n",
    "                   'B': [2, 1, 3, 4, 6, 5],\n",
    "                   'C': [10, 20, 30, 40, 50, 60]})\n",
    "\n",
    "display(HTML(\"<b>as_index=True</b>\"))\n",
    "display(df.groupby(\"A\", as_index=True)[\"C\"].sum())\n",
    "display(HTML(\"<b>as_index=False</b>\"))\n",
    "display(df.groupby(\"A\", as_index=False)[\"C\"].sum())"
   ]
  },
  {
   "cell_type": "markdown",
   "id": "b18ab54a-b6b0-4b70-b8ae-cbef93a33ca3",
   "metadata": {},
   "source": [
    "# Iterating\n",
    "\n",
    "You can iterate trow `pandas.DataFrame.groupby` retults. In each eteration you will get tuple of two values:\n",
    "\n",
    "- Value of the grouping variable for this iteration;\n",
    "- Sub-sampling from the original data set corresponding to the considered value of the grouping variable.\n",
    "\n",
    "So in the following example I show the result of the first iteration under `pandas.DataFrameGroupby` result and then show a case of using it in the cycle. "
   ]
  },
  {
   "cell_type": "code",
   "execution_count": 16,
   "id": "096d5791-2c77-403d-b3dd-3662abfc8994",
   "metadata": {},
   "outputs": [
    {
     "data": {
      "text/html": [
       "<b>Input dataframe</b>"
      ],
      "text/plain": [
       "<IPython.core.display.HTML object>"
      ]
     },
     "metadata": {},
     "output_type": "display_data"
    },
    {
     "data": {
      "text/html": [
       "<div>\n",
       "<style scoped>\n",
       "    .dataframe tbody tr th:only-of-type {\n",
       "        vertical-align: middle;\n",
       "    }\n",
       "\n",
       "    .dataframe tbody tr th {\n",
       "        vertical-align: top;\n",
       "    }\n",
       "\n",
       "    .dataframe thead th {\n",
       "        text-align: right;\n",
       "    }\n",
       "</style>\n",
       "<table border=\"1\" class=\"dataframe\">\n",
       "  <thead>\n",
       "    <tr style=\"text-align: right;\">\n",
       "      <th></th>\n",
       "      <th>A</th>\n",
       "      <th>B</th>\n",
       "      <th>C</th>\n",
       "    </tr>\n",
       "  </thead>\n",
       "  <tbody>\n",
       "    <tr>\n",
       "      <th>0</th>\n",
       "      <td>a</td>\n",
       "      <td>2</td>\n",
       "      <td>10</td>\n",
       "    </tr>\n",
       "    <tr>\n",
       "      <th>1</th>\n",
       "      <td>a</td>\n",
       "      <td>1</td>\n",
       "      <td>20</td>\n",
       "    </tr>\n",
       "    <tr>\n",
       "      <th>2</th>\n",
       "      <td>b</td>\n",
       "      <td>3</td>\n",
       "      <td>30</td>\n",
       "    </tr>\n",
       "    <tr>\n",
       "      <th>3</th>\n",
       "      <td>b</td>\n",
       "      <td>4</td>\n",
       "      <td>40</td>\n",
       "    </tr>\n",
       "    <tr>\n",
       "      <th>4</th>\n",
       "      <td>c</td>\n",
       "      <td>6</td>\n",
       "      <td>50</td>\n",
       "    </tr>\n",
       "    <tr>\n",
       "      <th>5</th>\n",
       "      <td>c</td>\n",
       "      <td>5</td>\n",
       "      <td>60</td>\n",
       "    </tr>\n",
       "  </tbody>\n",
       "</table>\n",
       "</div>"
      ],
      "text/plain": [
       "   A  B   C\n",
       "0  a  2  10\n",
       "1  a  1  20\n",
       "2  b  3  30\n",
       "3  b  4  40\n",
       "4  c  6  50\n",
       "5  c  5  60"
      ]
     },
     "metadata": {},
     "output_type": "display_data"
    },
    {
     "data": {
      "text/html": [
       "<b>Some iteration returns</b>"
      ],
      "text/plain": [
       "<IPython.core.display.HTML object>"
      ]
     },
     "metadata": {},
     "output_type": "display_data"
    },
    {
     "data": {
      "text/plain": [
       "('a',\n",
       "    A  B   C\n",
       " 0  a  2  10\n",
       " 1  a  1  20)"
      ]
     },
     "metadata": {},
     "output_type": "display_data"
    },
    {
     "data": {
      "text/html": [
       "<b>Whole cycle</b>"
      ],
      "text/plain": [
       "<IPython.core.display.HTML object>"
      ]
     },
     "metadata": {},
     "output_type": "display_data"
    },
    {
     "name": "stdout",
     "output_type": "stream",
     "text": [
      "====a=====\n"
     ]
    },
    {
     "data": {
      "text/html": [
       "<div>\n",
       "<style scoped>\n",
       "    .dataframe tbody tr th:only-of-type {\n",
       "        vertical-align: middle;\n",
       "    }\n",
       "\n",
       "    .dataframe tbody tr th {\n",
       "        vertical-align: top;\n",
       "    }\n",
       "\n",
       "    .dataframe thead th {\n",
       "        text-align: right;\n",
       "    }\n",
       "</style>\n",
       "<table border=\"1\" class=\"dataframe\">\n",
       "  <thead>\n",
       "    <tr style=\"text-align: right;\">\n",
       "      <th></th>\n",
       "      <th>A</th>\n",
       "      <th>B</th>\n",
       "      <th>C</th>\n",
       "    </tr>\n",
       "  </thead>\n",
       "  <tbody>\n",
       "    <tr>\n",
       "      <th>0</th>\n",
       "      <td>a</td>\n",
       "      <td>2</td>\n",
       "      <td>10</td>\n",
       "    </tr>\n",
       "    <tr>\n",
       "      <th>1</th>\n",
       "      <td>a</td>\n",
       "      <td>1</td>\n",
       "      <td>20</td>\n",
       "    </tr>\n",
       "  </tbody>\n",
       "</table>\n",
       "</div>"
      ],
      "text/plain": [
       "   A  B   C\n",
       "0  a  2  10\n",
       "1  a  1  20"
      ]
     },
     "metadata": {},
     "output_type": "display_data"
    },
    {
     "name": "stdout",
     "output_type": "stream",
     "text": [
      "====b=====\n"
     ]
    },
    {
     "data": {
      "text/html": [
       "<div>\n",
       "<style scoped>\n",
       "    .dataframe tbody tr th:only-of-type {\n",
       "        vertical-align: middle;\n",
       "    }\n",
       "\n",
       "    .dataframe tbody tr th {\n",
       "        vertical-align: top;\n",
       "    }\n",
       "\n",
       "    .dataframe thead th {\n",
       "        text-align: right;\n",
       "    }\n",
       "</style>\n",
       "<table border=\"1\" class=\"dataframe\">\n",
       "  <thead>\n",
       "    <tr style=\"text-align: right;\">\n",
       "      <th></th>\n",
       "      <th>A</th>\n",
       "      <th>B</th>\n",
       "      <th>C</th>\n",
       "    </tr>\n",
       "  </thead>\n",
       "  <tbody>\n",
       "    <tr>\n",
       "      <th>2</th>\n",
       "      <td>b</td>\n",
       "      <td>3</td>\n",
       "      <td>30</td>\n",
       "    </tr>\n",
       "    <tr>\n",
       "      <th>3</th>\n",
       "      <td>b</td>\n",
       "      <td>4</td>\n",
       "      <td>40</td>\n",
       "    </tr>\n",
       "  </tbody>\n",
       "</table>\n",
       "</div>"
      ],
      "text/plain": [
       "   A  B   C\n",
       "2  b  3  30\n",
       "3  b  4  40"
      ]
     },
     "metadata": {},
     "output_type": "display_data"
    },
    {
     "name": "stdout",
     "output_type": "stream",
     "text": [
      "====c=====\n"
     ]
    },
    {
     "data": {
      "text/html": [
       "<div>\n",
       "<style scoped>\n",
       "    .dataframe tbody tr th:only-of-type {\n",
       "        vertical-align: middle;\n",
       "    }\n",
       "\n",
       "    .dataframe tbody tr th {\n",
       "        vertical-align: top;\n",
       "    }\n",
       "\n",
       "    .dataframe thead th {\n",
       "        text-align: right;\n",
       "    }\n",
       "</style>\n",
       "<table border=\"1\" class=\"dataframe\">\n",
       "  <thead>\n",
       "    <tr style=\"text-align: right;\">\n",
       "      <th></th>\n",
       "      <th>A</th>\n",
       "      <th>B</th>\n",
       "      <th>C</th>\n",
       "    </tr>\n",
       "  </thead>\n",
       "  <tbody>\n",
       "    <tr>\n",
       "      <th>4</th>\n",
       "      <td>c</td>\n",
       "      <td>6</td>\n",
       "      <td>50</td>\n",
       "    </tr>\n",
       "    <tr>\n",
       "      <th>5</th>\n",
       "      <td>c</td>\n",
       "      <td>5</td>\n",
       "      <td>60</td>\n",
       "    </tr>\n",
       "  </tbody>\n",
       "</table>\n",
       "</div>"
      ],
      "text/plain": [
       "   A  B   C\n",
       "4  c  6  50\n",
       "5  c  5  60"
      ]
     },
     "metadata": {},
     "output_type": "display_data"
    }
   ],
   "source": [
    "import pandas as pd\n",
    "from IPython.display import HTML\n",
    "\n",
    "df = pd.DataFrame({'A': ['a', 'a', 'b', 'b', 'c', 'c'],\n",
    "                   'B': [2, 1, 3, 4, 6, 5],\n",
    "                   'C': [10, 20, 30, 40, 50, 60]})\n",
    "\n",
    "\n",
    "display(HTML(\"<b>Input dataframe</b>\"))\n",
    "display(df)\n",
    "\n",
    "display(HTML(\"<b>Some iteration returns</b>\"))\n",
    "display(next(df.groupby(\"A\").__iter__()))\n",
    "\n",
    "display(HTML(\"<b>Whole cycle</b>\"))\n",
    "for a_val, subframe in df.groupby(\"A\"):\n",
    "    print(\"====\" + a_val + \"=====\")\n",
    "    display(subframe)"
   ]
  },
  {
   "cell_type": "markdown",
   "id": "0f1e7840-d26e-46b0-b58e-f6e59ad1a797",
   "metadata": {},
   "source": [
    "# `agg` - rule by dict\n",
    "\n",
    "This is a way to apply aggregation functions using syntax `{<var_name_1>:<aggregation_function_1>, <var_name_2>:<aggregation_function_2>, ...}`.\n",
    "\n",
    "So in the following example, I use the above syntax to aggregate max `B` values and sum of `C` values by `A` subsets:"
   ]
  },
  {
   "cell_type": "code",
   "execution_count": 20,
   "id": "9ca202a2-4237-440a-afcc-d27d897abe89",
   "metadata": {},
   "outputs": [
    {
     "data": {
      "text/html": [
       "<b>Input dataframe</b>"
      ],
      "text/plain": [
       "<IPython.core.display.HTML object>"
      ]
     },
     "metadata": {},
     "output_type": "display_data"
    },
    {
     "data": {
      "text/html": [
       "<div>\n",
       "<style scoped>\n",
       "    .dataframe tbody tr th:only-of-type {\n",
       "        vertical-align: middle;\n",
       "    }\n",
       "\n",
       "    .dataframe tbody tr th {\n",
       "        vertical-align: top;\n",
       "    }\n",
       "\n",
       "    .dataframe thead th {\n",
       "        text-align: right;\n",
       "    }\n",
       "</style>\n",
       "<table border=\"1\" class=\"dataframe\">\n",
       "  <thead>\n",
       "    <tr style=\"text-align: right;\">\n",
       "      <th></th>\n",
       "      <th>A</th>\n",
       "      <th>B</th>\n",
       "      <th>C</th>\n",
       "    </tr>\n",
       "  </thead>\n",
       "  <tbody>\n",
       "    <tr>\n",
       "      <th>0</th>\n",
       "      <td>a</td>\n",
       "      <td>2</td>\n",
       "      <td>10</td>\n",
       "    </tr>\n",
       "    <tr>\n",
       "      <th>1</th>\n",
       "      <td>a</td>\n",
       "      <td>1</td>\n",
       "      <td>20</td>\n",
       "    </tr>\n",
       "    <tr>\n",
       "      <th>2</th>\n",
       "      <td>b</td>\n",
       "      <td>3</td>\n",
       "      <td>30</td>\n",
       "    </tr>\n",
       "    <tr>\n",
       "      <th>3</th>\n",
       "      <td>b</td>\n",
       "      <td>4</td>\n",
       "      <td>40</td>\n",
       "    </tr>\n",
       "    <tr>\n",
       "      <th>4</th>\n",
       "      <td>c</td>\n",
       "      <td>6</td>\n",
       "      <td>50</td>\n",
       "    </tr>\n",
       "    <tr>\n",
       "      <th>5</th>\n",
       "      <td>c</td>\n",
       "      <td>5</td>\n",
       "      <td>60</td>\n",
       "    </tr>\n",
       "  </tbody>\n",
       "</table>\n",
       "</div>"
      ],
      "text/plain": [
       "   A  B   C\n",
       "0  a  2  10\n",
       "1  a  1  20\n",
       "2  b  3  30\n",
       "3  b  4  40\n",
       "4  c  6  50\n",
       "5  c  5  60"
      ]
     },
     "metadata": {},
     "output_type": "display_data"
    },
    {
     "data": {
      "text/html": [
       "<b>Aggregation</b>"
      ],
      "text/plain": [
       "<IPython.core.display.HTML object>"
      ]
     },
     "metadata": {},
     "output_type": "display_data"
    },
    {
     "data": {
      "text/html": [
       "<div>\n",
       "<style scoped>\n",
       "    .dataframe tbody tr th:only-of-type {\n",
       "        vertical-align: middle;\n",
       "    }\n",
       "\n",
       "    .dataframe tbody tr th {\n",
       "        vertical-align: top;\n",
       "    }\n",
       "\n",
       "    .dataframe thead th {\n",
       "        text-align: right;\n",
       "    }\n",
       "</style>\n",
       "<table border=\"1\" class=\"dataframe\">\n",
       "  <thead>\n",
       "    <tr style=\"text-align: right;\">\n",
       "      <th></th>\n",
       "      <th>B</th>\n",
       "      <th>C</th>\n",
       "    </tr>\n",
       "    <tr>\n",
       "      <th>A</th>\n",
       "      <th></th>\n",
       "      <th></th>\n",
       "    </tr>\n",
       "  </thead>\n",
       "  <tbody>\n",
       "    <tr>\n",
       "      <th>a</th>\n",
       "      <td>2</td>\n",
       "      <td>30</td>\n",
       "    </tr>\n",
       "    <tr>\n",
       "      <th>b</th>\n",
       "      <td>4</td>\n",
       "      <td>70</td>\n",
       "    </tr>\n",
       "    <tr>\n",
       "      <th>c</th>\n",
       "      <td>6</td>\n",
       "      <td>110</td>\n",
       "    </tr>\n",
       "  </tbody>\n",
       "</table>\n",
       "</div>"
      ],
      "text/plain": [
       "   B    C\n",
       "A        \n",
       "a  2   30\n",
       "b  4   70\n",
       "c  6  110"
      ]
     },
     "metadata": {},
     "output_type": "display_data"
    }
   ],
   "source": [
    "import pandas as pd\n",
    "from IPython.display import HTML\n",
    "\n",
    "df = pd.DataFrame({'A': ['a', 'a', 'b', 'b', 'c', 'c'],\n",
    "                   'B': [2, 1, 3, 4, 6, 5],\n",
    "                   'C': [10, 20, 30, 40, 50, 60]})\n",
    "\n",
    "display(HTML(\"<b>Input dataframe</b>\"))\n",
    "display(df)\n",
    "display(HTML(\"<b>Aggregation</b>\"))\n",
    "display(df.groupby(\"A\").agg({\"B\":\"max\", \"C\":\"sum\"}))"
   ]
  },
  {
   "cell_type": "markdown",
   "id": "3d6bf63c-becf-439b-9f19-ff6ae940ff88",
   "metadata": {},
   "source": [
    "# `Apply` - combine results\n",
    "\n",
    "<a href=\"https://pandas.pydata.org/docs/reference/api/pandas.core.groupby.DataFrameGroupBy.apply.html#pandas.core.groupby.DataFrameGroupBy.apply\">Pandas documentation about apply function.</a>"
   ]
  },
  {
   "cell_type": "markdown",
   "id": "745baaf0-22f6-4e82-879a-935b11bfa505",
   "metadata": {},
   "source": [
    "## Basic idea\n",
    "\n",
    "The peculiarity of this method is that it uses `pandas.DataFrame` as the input for the aggregation function.\n",
    "\n",
    "The following example shows this: `example_funtion' just prints the input and it always prints a DataFrame for each \"A\" variable option."
   ]
  },
  {
   "cell_type": "code",
   "execution_count": 40,
   "id": "ad60e7c8-5e03-4589-9a81-4442e3e43e66",
   "metadata": {},
   "outputs": [
    {
     "name": "stdout",
     "output_type": "stream",
     "text": [
      "=========\n",
      "   A  B   C\n",
      "0  a  2  10\n",
      "1  a  1  20\n",
      "=========\n",
      "   A  B   C\n",
      "2  b  3  30\n",
      "3  b  4  40\n",
      "=========\n",
      "   A  B   C\n",
      "4  c  6  50\n",
      "5  c  5  60\n"
     ]
    }
   ],
   "source": [
    "df = pd.DataFrame({'A': ['a', 'a', 'b', 'b', 'c', 'c'],\n",
    "                   'B': [2, 1, 3, 4, 6, 5],\n",
    "                   'C': [10, 20, 30, 40, 50, 60]})\n",
    "\n",
    "def example_funtion(subdf):\n",
    "    print(\"=========\")\n",
    "    print(subdf)\n",
    "    return 5\n",
    "\n",
    "res = df.groupby(\"A\")[[\"A\", \"B\", \"C\"]].apply(example_funtion)"
   ]
  },
  {
   "cell_type": "markdown",
   "id": "bc479fe5-8c62-44ae-8461-0ad065f198c0",
   "metadata": {},
   "source": [
    "## Use case\n",
    "\n",
    "So it's perfect for cases where you need to get, for each variant of variable A, some value of variable C conditioned on the value of variable B.\n",
    "\n",
    "In particular, the following example shows how to obtain for each option of \"A\" the \"C\" value corresponding to the minimum \"B\" value.\n",
    "\n",
    "- For `\"A\" == \"a\"` I got `\"C\" == 20`, because it corresponds to `\"B\"== 1`, which is the minimum for every `\"A\" == \"a\"`;\n",
    "- For `\"A\" == \"b\"` I got `\"C\" == 30`, because it corresponds to `\"B\"== 3`, which is the minimum for every `\"A\" == \"b\"`;\n",
    "- For `\"A\" == \"c\"` I got `\"C\" == 60`, because it corresponds to `\"B\"== 5`, which is the minimum for every `\"A\" == \"c\"`."
   ]
  },
  {
   "cell_type": "code",
   "execution_count": 9,
   "id": "bbc1caa4-70ed-4eac-aeed-e51dc55586aa",
   "metadata": {},
   "outputs": [
    {
     "data": {
      "text/html": [
       "<b>Initial frame</b>"
      ],
      "text/plain": [
       "<IPython.core.display.HTML object>"
      ]
     },
     "metadata": {},
     "output_type": "display_data"
    },
    {
     "data": {
      "text/html": [
       "<div>\n",
       "<style scoped>\n",
       "    .dataframe tbody tr th:only-of-type {\n",
       "        vertical-align: middle;\n",
       "    }\n",
       "\n",
       "    .dataframe tbody tr th {\n",
       "        vertical-align: top;\n",
       "    }\n",
       "\n",
       "    .dataframe thead th {\n",
       "        text-align: right;\n",
       "    }\n",
       "</style>\n",
       "<table border=\"1\" class=\"dataframe\">\n",
       "  <thead>\n",
       "    <tr style=\"text-align: right;\">\n",
       "      <th></th>\n",
       "      <th>A</th>\n",
       "      <th>B</th>\n",
       "      <th>C</th>\n",
       "    </tr>\n",
       "  </thead>\n",
       "  <tbody>\n",
       "    <tr>\n",
       "      <th>0</th>\n",
       "      <td>a</td>\n",
       "      <td>2</td>\n",
       "      <td>10</td>\n",
       "    </tr>\n",
       "    <tr>\n",
       "      <th>1</th>\n",
       "      <td>a</td>\n",
       "      <td>1</td>\n",
       "      <td>20</td>\n",
       "    </tr>\n",
       "    <tr>\n",
       "      <th>2</th>\n",
       "      <td>b</td>\n",
       "      <td>3</td>\n",
       "      <td>30</td>\n",
       "    </tr>\n",
       "    <tr>\n",
       "      <th>3</th>\n",
       "      <td>b</td>\n",
       "      <td>4</td>\n",
       "      <td>40</td>\n",
       "    </tr>\n",
       "    <tr>\n",
       "      <th>4</th>\n",
       "      <td>c</td>\n",
       "      <td>6</td>\n",
       "      <td>50</td>\n",
       "    </tr>\n",
       "    <tr>\n",
       "      <th>5</th>\n",
       "      <td>c</td>\n",
       "      <td>5</td>\n",
       "      <td>60</td>\n",
       "    </tr>\n",
       "  </tbody>\n",
       "</table>\n",
       "</div>"
      ],
      "text/plain": [
       "   A  B   C\n",
       "0  a  2  10\n",
       "1  a  1  20\n",
       "2  b  3  30\n",
       "3  b  4  40\n",
       "4  c  6  50\n",
       "5  c  5  60"
      ]
     },
     "metadata": {},
     "output_type": "display_data"
    },
    {
     "data": {
      "text/html": [
       "<b>Result</b>"
      ],
      "text/plain": [
       "<IPython.core.display.HTML object>"
      ]
     },
     "metadata": {},
     "output_type": "display_data"
    },
    {
     "data": {
      "text/html": [
       "<div>\n",
       "<style scoped>\n",
       "    .dataframe tbody tr th:only-of-type {\n",
       "        vertical-align: middle;\n",
       "    }\n",
       "\n",
       "    .dataframe tbody tr th {\n",
       "        vertical-align: top;\n",
       "    }\n",
       "\n",
       "    .dataframe thead th {\n",
       "        text-align: right;\n",
       "    }\n",
       "</style>\n",
       "<table border=\"1\" class=\"dataframe\">\n",
       "  <thead>\n",
       "    <tr style=\"text-align: right;\">\n",
       "      <th></th>\n",
       "      <th>C</th>\n",
       "    </tr>\n",
       "    <tr>\n",
       "      <th>A</th>\n",
       "      <th></th>\n",
       "    </tr>\n",
       "  </thead>\n",
       "  <tbody>\n",
       "    <tr>\n",
       "      <th>a</th>\n",
       "      <td>20</td>\n",
       "    </tr>\n",
       "    <tr>\n",
       "      <th>b</th>\n",
       "      <td>30</td>\n",
       "    </tr>\n",
       "    <tr>\n",
       "      <th>c</th>\n",
       "      <td>60</td>\n",
       "    </tr>\n",
       "  </tbody>\n",
       "</table>\n",
       "</div>"
      ],
      "text/plain": [
       "    C\n",
       "A    \n",
       "a  20\n",
       "b  30\n",
       "c  60"
      ]
     },
     "execution_count": 9,
     "metadata": {},
     "output_type": "execute_result"
    }
   ],
   "source": [
    "from IPython.display import HTML\n",
    "import pandas as pd\n",
    "df = pd.DataFrame({'A': ['a', 'a', 'b', 'b', 'c', 'c'],\n",
    "                   'B': [2, 1, 3, 4, 6, 5],\n",
    "                   'C': [10, 20, 30, 40, 50, 60]})\n",
    "\n",
    "display(HTML(\"<b>Initial frame</b>\"))\n",
    "display(df)\n",
    "\n",
    "result = df.groupby(\"A\")[[\"B\", \"C\"]].apply(\n",
    "    lambda subset: subset.loc[subset[\"B\"].idxmin(), \"C\"]\n",
    ")\n",
    "display(HTML(\"<b>Result</b>\"))\n",
    "result.rename(\"C\").to_frame()"
   ]
  },
  {
   "cell_type": "markdown",
   "id": "d4515b24-e11c-4994-bba7-9de2db5280f9",
   "metadata": {},
   "source": [
    "## vs `agg`/`transform`\n",
    "\n",
    "Other common functions may seem useless because this function can do everything they can. However, according to the <a href=\"https://pandas.pydata.org/docs/reference/api/pandas.core.groupby.DataFrameGroupBy.apply.html#pandas.core.groupby.DataFrameGroupBy.apply\">pandas documentation</a>, they may work a little faster. I have not been able to test this yet."
   ]
  },
  {
   "cell_type": "markdown",
   "id": "ab097ba0-cdef-4212-b582-66ca2a247218",
   "metadata": {},
   "source": [
    "# `sum`\n",
    "\n",
    "The basic function that allows you to get sums by groups."
   ]
  },
  {
   "cell_type": "markdown",
   "id": "b4483ee6-74bd-416f-9671-affc859e5e8f",
   "metadata": {},
   "source": [
    "## For `str` dtype\n",
    "\n",
    "If you apply the `sum` function to a variable containing a `str` datatype, it will concatenate observations by groups.\n",
    "\n",
    "So in the following example, this just happened with the `group text` column of the initial dataframe."
   ]
  },
  {
   "cell_type": "code",
   "execution_count": 10,
   "id": "5201e540-8417-4ee3-98ca-b911cee62b4c",
   "metadata": {},
   "outputs": [
    {
     "data": {
      "text/html": [
       "<b>Initial frame</b>"
      ],
      "text/plain": [
       "<IPython.core.display.HTML object>"
      ]
     },
     "metadata": {},
     "output_type": "display_data"
    },
    {
     "data": {
      "text/html": [
       "<div>\n",
       "<style scoped>\n",
       "    .dataframe tbody tr th:only-of-type {\n",
       "        vertical-align: middle;\n",
       "    }\n",
       "\n",
       "    .dataframe tbody tr th {\n",
       "        vertical-align: top;\n",
       "    }\n",
       "\n",
       "    .dataframe thead th {\n",
       "        text-align: right;\n",
       "    }\n",
       "</style>\n",
       "<table border=\"1\" class=\"dataframe\">\n",
       "  <thead>\n",
       "    <tr style=\"text-align: right;\">\n",
       "      <th></th>\n",
       "      <th>group class</th>\n",
       "      <th>group numeric</th>\n",
       "      <th>group text</th>\n",
       "    </tr>\n",
       "  </thead>\n",
       "  <tbody>\n",
       "    <tr>\n",
       "      <th>0</th>\n",
       "      <td>a</td>\n",
       "      <td>3</td>\n",
       "      <td>hello</td>\n",
       "    </tr>\n",
       "    <tr>\n",
       "      <th>1</th>\n",
       "      <td>a</td>\n",
       "      <td>4</td>\n",
       "      <td>test</td>\n",
       "    </tr>\n",
       "    <tr>\n",
       "      <th>2</th>\n",
       "      <td>b</td>\n",
       "      <td>5</td>\n",
       "      <td>line3</td>\n",
       "    </tr>\n",
       "    <tr>\n",
       "      <th>3</th>\n",
       "      <td>b</td>\n",
       "      <td>1</td>\n",
       "      <td>superline</td>\n",
       "    </tr>\n",
       "  </tbody>\n",
       "</table>\n",
       "</div>"
      ],
      "text/plain": [
       "  group class  group numeric group text\n",
       "0           a              3      hello\n",
       "1           a              4       test\n",
       "2           b              5      line3\n",
       "3           b              1  superline"
      ]
     },
     "metadata": {},
     "output_type": "display_data"
    },
    {
     "data": {
      "text/html": [
       "<b>Aggregation result</b>"
      ],
      "text/plain": [
       "<IPython.core.display.HTML object>"
      ]
     },
     "metadata": {},
     "output_type": "display_data"
    },
    {
     "data": {
      "text/html": [
       "<div>\n",
       "<style scoped>\n",
       "    .dataframe tbody tr th:only-of-type {\n",
       "        vertical-align: middle;\n",
       "    }\n",
       "\n",
       "    .dataframe tbody tr th {\n",
       "        vertical-align: top;\n",
       "    }\n",
       "\n",
       "    .dataframe thead th {\n",
       "        text-align: right;\n",
       "    }\n",
       "</style>\n",
       "<table border=\"1\" class=\"dataframe\">\n",
       "  <thead>\n",
       "    <tr style=\"text-align: right;\">\n",
       "      <th></th>\n",
       "      <th>group numeric</th>\n",
       "      <th>group text</th>\n",
       "    </tr>\n",
       "    <tr>\n",
       "      <th>group class</th>\n",
       "      <th></th>\n",
       "      <th></th>\n",
       "    </tr>\n",
       "  </thead>\n",
       "  <tbody>\n",
       "    <tr>\n",
       "      <th>a</th>\n",
       "      <td>7</td>\n",
       "      <td>hellotest</td>\n",
       "    </tr>\n",
       "    <tr>\n",
       "      <th>b</th>\n",
       "      <td>6</td>\n",
       "      <td>line3superline</td>\n",
       "    </tr>\n",
       "  </tbody>\n",
       "</table>\n",
       "</div>"
      ],
      "text/plain": [
       "             group numeric      group text\n",
       "group class                               \n",
       "a                        7       hellotest\n",
       "b                        6  line3superline"
      ]
     },
     "execution_count": 10,
     "metadata": {},
     "output_type": "execute_result"
    }
   ],
   "source": [
    "import pandas as pd\n",
    "from IPython.display import HTML\n",
    "test_df = pd.DataFrame({\n",
    "    \"group class\" : [\"a\", \"a\", \"b\", \"b\"],\n",
    "    \"group numeric\" : [3,4,5,1],\n",
    "    \"group text\" : [\"hello\", \"test\", \"line3\", \"superline\"]\n",
    "})\n",
    "display(HTML(\"<b>Initial frame</b>\"))\n",
    "display(test_df)\n",
    "display(HTML(\"<b>Aggregation result</b>\"))\n",
    "test_df.groupby(\"group class\").sum()"
   ]
  }
 ],
 "metadata": {
  "kernelspec": {
   "display_name": "Python 3 (ipykernel)",
   "language": "python",
   "name": "python3"
  },
  "language_info": {
   "codemirror_mode": {
    "name": "ipython",
    "version": 3
   },
   "file_extension": ".py",
   "mimetype": "text/x-python",
   "name": "python",
   "nbconvert_exporter": "python",
   "pygments_lexer": "ipython3",
   "version": "3.10.12"
  }
 },
 "nbformat": 4,
 "nbformat_minor": 5
}
