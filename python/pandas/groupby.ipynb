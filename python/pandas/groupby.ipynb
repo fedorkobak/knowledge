{
 "cells": [
  {
   "cell_type": "markdown",
   "id": "a4e18171-64f2-4c77-a398-735e07225cd7",
   "metadata": {},
   "source": [
    "# Groupby\n",
    "\n",
    "`pd.DataFrame.groupby` is a very useful tool, but sometimes working with it can be a bit confusing. So in this page I want to pay more attention to some functions and cases.\n",
    "\n",
    "The most useful page for learning is <a href=\"https://pandas.pydata.org/docs/reference/groupby.html\">GroupBy object in pandas documentation</a>."
   ]
  },
  {
   "cell_type": "markdown",
   "id": "3d6bf63c-becf-439b-9f19-ff6ae940ff88",
   "metadata": {},
   "source": [
    "# `Apply` - combine results\n",
    "\n",
    "<a href=\"https://pandas.pydata.org/docs/reference/api/pandas.core.groupby.DataFrameGroupBy.apply.html#pandas.core.groupby.DataFrameGroupBy.apply\">Pandas documentation about apply function.</a>"
   ]
  },
  {
   "cell_type": "markdown",
   "id": "745baaf0-22f6-4e82-879a-935b11bfa505",
   "metadata": {},
   "source": [
    "## Basic idea\n",
    "\n",
    "The peculiarity of this method is that it uses `pandas.DataFrame` as the input for the aggregation function.\n",
    "\n",
    "The following example shows this: `example_funtion' just prints the input and it always prints a DataFrame for each \"A\" variable option."
   ]
  },
  {
   "cell_type": "code",
   "execution_count": 40,
   "id": "ad60e7c8-5e03-4589-9a81-4442e3e43e66",
   "metadata": {},
   "outputs": [
    {
     "name": "stdout",
     "output_type": "stream",
     "text": [
      "=========\n",
      "   A  B   C\n",
      "0  a  2  10\n",
      "1  a  1  20\n",
      "=========\n",
      "   A  B   C\n",
      "2  b  3  30\n",
      "3  b  4  40\n",
      "=========\n",
      "   A  B   C\n",
      "4  c  6  50\n",
      "5  c  5  60\n"
     ]
    }
   ],
   "source": [
    "df = pd.DataFrame({'A': ['a', 'a', 'b', 'b', 'c', 'c'],\n",
    "                   'B': [2, 1, 3, 4, 6, 5],\n",
    "                   'C': [10, 20, 30, 40, 50, 60]})\n",
    "\n",
    "def example_funtion(subdf):\n",
    "    print(\"=========\")\n",
    "    print(subdf)\n",
    "    return 5\n",
    "\n",
    "res = df.groupby(\"A\")[[\"A\", \"B\", \"C\"]].apply(example_funtion)"
   ]
  },
  {
   "cell_type": "markdown",
   "id": "bc479fe5-8c62-44ae-8461-0ad065f198c0",
   "metadata": {},
   "source": [
    "## Use case\n",
    "\n",
    "So it's perfect for cases where you need to get, for each variant of variable A, some value of variable C conditioned on the value of variable B.\n",
    "\n",
    "In particular, the following example shows how to obtain for each option of \"A\" the \"C\" value corresponding to the minimum \"B\" value.\n",
    "\n",
    "- For `\"A\" == \"a\"` I got `\"C\" == 20`, because it corresponds to `\"B\"== 1`, which is the minimum for every `\"A\" == \"a\"`;\n",
    "- For `\"A\" == \"b\"` I got `\"C\" == 30`, because it corresponds to `\"B\"== 3`, which is the minimum for every `\"A\" == \"b\"`;\n",
    "- For `\"A\" == \"c\"` I got `\"C\" == 60`, because it corresponds to `\"B\"== 5`, which is the minimum for every `\"A\" == \"c\"`."
   ]
  },
  {
   "cell_type": "code",
   "execution_count": 34,
   "id": "bbc1caa4-70ed-4eac-aeed-e51dc55586aa",
   "metadata": {},
   "outputs": [
    {
     "data": {
      "text/html": [
       "<b>Initial frame</b>"
      ],
      "text/plain": [
       "<IPython.core.display.HTML object>"
      ]
     },
     "metadata": {},
     "output_type": "display_data"
    },
    {
     "data": {
      "text/html": [
       "<div>\n",
       "<style scoped>\n",
       "    .dataframe tbody tr th:only-of-type {\n",
       "        vertical-align: middle;\n",
       "    }\n",
       "\n",
       "    .dataframe tbody tr th {\n",
       "        vertical-align: top;\n",
       "    }\n",
       "\n",
       "    .dataframe thead th {\n",
       "        text-align: right;\n",
       "    }\n",
       "</style>\n",
       "<table border=\"1\" class=\"dataframe\">\n",
       "  <thead>\n",
       "    <tr style=\"text-align: right;\">\n",
       "      <th></th>\n",
       "      <th>A</th>\n",
       "      <th>B</th>\n",
       "      <th>C</th>\n",
       "    </tr>\n",
       "  </thead>\n",
       "  <tbody>\n",
       "    <tr>\n",
       "      <th>0</th>\n",
       "      <td>a</td>\n",
       "      <td>2</td>\n",
       "      <td>10</td>\n",
       "    </tr>\n",
       "    <tr>\n",
       "      <th>1</th>\n",
       "      <td>a</td>\n",
       "      <td>1</td>\n",
       "      <td>20</td>\n",
       "    </tr>\n",
       "    <tr>\n",
       "      <th>2</th>\n",
       "      <td>b</td>\n",
       "      <td>3</td>\n",
       "      <td>30</td>\n",
       "    </tr>\n",
       "    <tr>\n",
       "      <th>3</th>\n",
       "      <td>b</td>\n",
       "      <td>4</td>\n",
       "      <td>40</td>\n",
       "    </tr>\n",
       "    <tr>\n",
       "      <th>4</th>\n",
       "      <td>c</td>\n",
       "      <td>6</td>\n",
       "      <td>50</td>\n",
       "    </tr>\n",
       "    <tr>\n",
       "      <th>5</th>\n",
       "      <td>c</td>\n",
       "      <td>5</td>\n",
       "      <td>60</td>\n",
       "    </tr>\n",
       "  </tbody>\n",
       "</table>\n",
       "</div>"
      ],
      "text/plain": [
       "   A  B   C\n",
       "0  a  2  10\n",
       "1  a  1  20\n",
       "2  b  3  30\n",
       "3  b  4  40\n",
       "4  c  6  50\n",
       "5  c  5  60"
      ]
     },
     "metadata": {},
     "output_type": "display_data"
    },
    {
     "data": {
      "text/html": [
       "<strong>Result</strong>"
      ],
      "text/plain": [
       "<IPython.core.display.HTML object>"
      ]
     },
     "metadata": {},
     "output_type": "display_data"
    },
    {
     "data": {
      "text/html": [
       "<div>\n",
       "<style scoped>\n",
       "    .dataframe tbody tr th:only-of-type {\n",
       "        vertical-align: middle;\n",
       "    }\n",
       "\n",
       "    .dataframe tbody tr th {\n",
       "        vertical-align: top;\n",
       "    }\n",
       "\n",
       "    .dataframe thead th {\n",
       "        text-align: right;\n",
       "    }\n",
       "</style>\n",
       "<table border=\"1\" class=\"dataframe\">\n",
       "  <thead>\n",
       "    <tr style=\"text-align: right;\">\n",
       "      <th></th>\n",
       "      <th>C</th>\n",
       "    </tr>\n",
       "    <tr>\n",
       "      <th>A</th>\n",
       "      <th></th>\n",
       "    </tr>\n",
       "  </thead>\n",
       "  <tbody>\n",
       "    <tr>\n",
       "      <th>a</th>\n",
       "      <td>20</td>\n",
       "    </tr>\n",
       "    <tr>\n",
       "      <th>b</th>\n",
       "      <td>30</td>\n",
       "    </tr>\n",
       "    <tr>\n",
       "      <th>c</th>\n",
       "      <td>60</td>\n",
       "    </tr>\n",
       "  </tbody>\n",
       "</table>\n",
       "</div>"
      ],
      "text/plain": [
       "    C\n",
       "A    \n",
       "a  20\n",
       "b  30\n",
       "c  60"
      ]
     },
     "execution_count": 34,
     "metadata": {},
     "output_type": "execute_result"
    }
   ],
   "source": [
    "from IPython.display import HTML\n",
    "import pandas as pd\n",
    "df = pd.DataFrame({'A': ['a', 'a', 'b', 'b', 'c', 'c'],\n",
    "                   'B': [2, 1, 3, 4, 6, 5],\n",
    "                   'C': [10, 20, 30, 40, 50, 60]})\n",
    "\n",
    "display(HTML(\"<b>Initial frame</b>\"))\n",
    "display(df)\n",
    "\n",
    "result = df.groupby(\"A\")[[\"B\", \"C\"]].apply(\n",
    "    lambda subset: subset.loc[subset[\"B\"].idxmin(), \"C\"]\n",
    ")\n",
    "display(HTML(\"<strong>Result</strong>\"))\n",
    "result.rename(\"C\").to_frame()"
   ]
  },
  {
   "cell_type": "markdown",
   "id": "d4515b24-e11c-4994-bba7-9de2db5280f9",
   "metadata": {},
   "source": [
    "## vs `agg`/`transform`\n",
    "\n",
    "Other common functions may seem useless because this function can do everything they can. However, according to the <a href=\"https://pandas.pydata.org/docs/reference/api/pandas.core.groupby.DataFrameGroupBy.apply.html#pandas.core.groupby.DataFrameGroupBy.apply\">pandas documentation</a>, they may work a little faster. I have not been able to test this yet."
   ]
  }
 ],
 "metadata": {
  "kernelspec": {
   "display_name": "Python 3 (ipykernel)",
   "language": "python",
   "name": "python3"
  },
  "language_info": {
   "codemirror_mode": {
    "name": "ipython",
    "version": 3
   },
   "file_extension": ".py",
   "mimetype": "text/x-python",
   "name": "python",
   "nbconvert_exporter": "python",
   "pygments_lexer": "ipython3",
   "version": "3.10.6"
  }
 },
 "nbformat": 4,
 "nbformat_minor": 5
}
