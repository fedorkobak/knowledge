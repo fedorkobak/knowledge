{
 "cells": [
  {
   "cell_type": "markdown",
   "id": "326d9063-4bbc-4899-a2ee-a3d8b6d7c19b",
   "metadata": {},
   "source": [
    "# Database interaction\n",
    "\n",
    "In this section, I want to mention details about interfacing with databases from Pandas.\n",
    "\n",
    "## SQLAlchemy\n",
    "\n",
    "There is a very important library for organising the interaction between the database and the pandas - <a href=\"https://www.sqlalchemy.org/\">SQLAlchemy</a>.\n",
    "\n",
    "<a href=\"https://docs.sqlalchemy.org/en/20/core/engines.html#postgresql\">Create engine in SQlAlchemy</a>."
   ]
  },
  {
   "cell_type": "markdown",
   "id": "77ab057f-1a1a-455d-a8f6-95493a7c7b67",
   "metadata": {},
   "source": [
    "# Postgres"
   ]
  },
  {
   "cell_type": "markdown",
   "id": "d1e80ca2-8cd4-4377-8684-226a769ae982",
   "metadata": {},
   "source": [
    "## Read information\n",
    "\n",
    "You can use `pandas.read_sql` and pass the created SQLAlchemy engine as `con` argument.\n",
    "\n",
    "So in the following example, I start the postgres database in the docker container and then read information from it directly to pandas.\n",
    "\n",
    "[SQL script](postgres_inter_files/simple_example_db/create_table.sql) for initialisation postgres datase used in this example."
   ]
  },
  {
   "cell_type": "code",
   "execution_count": 3,
   "id": "3ec8eb8b-aea1-454a-9dab-c9400c1ec5b1",
   "metadata": {},
   "outputs": [
    {
     "name": "stdout",
     "output_type": "stream",
     "text": [
      "     text\n",
      "id       \n",
      "0   Text1\n",
      "1   tExT2\n",
      "3   TEXT3\n"
     ]
    }
   ],
   "source": [
    "!docker run --rm -d\\\n",
    "    -v ./postgres_inter_files/simple_example_db:/docker-entrypoint-initdb.d\\\n",
    "    -e POSTGRES_PASSWORD=docker_app\\\n",
    "    --name read_postgres\\\n",
    "    -p 5431:5432\\\n",
    "    postgres:15.4 &> /dev/null\n",
    "!sleep 10\n",
    "\n",
    "import pandas as pd\n",
    "from sqlalchemy import URL, create_engine\n",
    "url_object = URL.create(\n",
    "    \"postgresql+psycopg2\",\n",
    "    username=\"postgres\",\n",
    "    password=\"docker_app\",\n",
    "    host=\"localhost\",\n",
    "    port=5431,\n",
    "    database=\"postgres\",\n",
    ")\n",
    "engine = create_engine(url_object)\n",
    "\n",
    "df = pd.read_sql('SELECT * FROM main_table', con=engine, index_col = \"id\")\n",
    "print(df)\n",
    "!docker stop read_postgres &> /dev/null"
   ]
  },
  {
   "cell_type": "markdown",
   "id": "5708a755-deb3-4f82-adc0-ff97c09969b5",
   "metadata": {},
   "source": [
    "# No SQLAlchemy\n",
    "\n",
    "Actually, it's possible to use the Postgres database without using SQLAlchemy - just pass the `connection object` from `psycopg2` to the `con` parameter of the `read_sql` function.\n",
    "\n",
    "In the following example, that's exactly what I did - but I got a warning that the pandas connection was only tested with sqlAlchemy, so it's better to use it."
   ]
  },
  {
   "cell_type": "code",
   "execution_count": 18,
   "id": "1f9249cd-7de3-49e8-b160-4aa73ec4f428",
   "metadata": {},
   "outputs": [
    {
     "name": "stdout",
     "output_type": "stream",
     "text": [
      "  id   text\n",
      "0  0  Text1\n",
      "1  1  tExT2\n",
      "2  3  TEXT3\n"
     ]
    },
    {
     "name": "stderr",
     "output_type": "stream",
     "text": [
      "/tmp/ipykernel_5907/3499609097.py:15: UserWarning: pandas only supports SQLAlchemy connectable (engine/connection) or database string URI or sqlite3 DBAPI2 connection. Other DBAPI2 objects are not tested. Please consider using SQLAlchemy.\n",
      "  df = pd.read_sql('SELECT * FROM main_table', con=conn)\n"
     ]
    }
   ],
   "source": [
    "!docker run --rm -d\\\n",
    "    -v ./postgres_inter_files/simple_example_db:/docker-entrypoint-initdb.d\\\n",
    "    -e POSTGRES_PASSWORD=docker_app \\\n",
    "    --name read_info_example \\\n",
    "    -p 5431:5432\\\n",
    "    postgres:15.4 &> /dev/null\n",
    "!sleep 1\n",
    "\n",
    "import pandas as pd\n",
    "import psycopg2\n",
    "\n",
    "conn = psycopg2.connect(\n",
    "    port = \"5431\", # same as when creating a postgres container\n",
    "    dbname = \"postgres\",\n",
    "    user = \"postgres\",\n",
    "    password = \"docker_app\",\n",
    "    host= \"localhost\"\n",
    ")\n",
    "\n",
    "df = pd.read_sql('SELECT * FROM main_table', con=conn)\n",
    "print(df)\n",
    "conn.close()\n",
    "\n",
    "!docker stop read_info_example &> /dev/null"
   ]
  }
 ],
 "metadata": {
  "kernelspec": {
   "display_name": "Python 3 (ipykernel)",
   "language": "python",
   "name": "python3"
  },
  "language_info": {
   "codemirror_mode": {
    "name": "ipython",
    "version": 3
   },
   "file_extension": ".py",
   "mimetype": "text/x-python",
   "name": "python",
   "nbconvert_exporter": "python",
   "pygments_lexer": "ipython3",
   "version": "3.10.6"
  }
 },
 "nbformat": 4,
 "nbformat_minor": 5
}
