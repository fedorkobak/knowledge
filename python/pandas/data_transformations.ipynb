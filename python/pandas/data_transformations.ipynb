{
 "cells": [
  {
   "cell_type": "markdown",
   "id": "f2eabcd3-54a6-42b8-a9ac-eb12d6e477e8",
   "metadata": {},
   "source": [
    "# Data manipulations"
   ]
  },
  {
   "cell_type": "code",
   "execution_count": 1,
   "id": "e19d647c-2aa3-4bab-b828-46ed49af2e75",
   "metadata": {},
   "outputs": [],
   "source": [
    "import pandas as pd"
   ]
  },
  {
   "cell_type": "markdown",
   "id": "60642de6-6b43-42be-aa01-46755c10e55d",
   "metadata": {},
   "source": [
    "## Stack/unstack"
   ]
  },
  {
   "cell_type": "code",
   "execution_count": 10,
   "id": "007473c5-87c6-4af6-861f-a7c4c182cb5f",
   "metadata": {},
   "outputs": [
    {
     "data": {
      "text/html": [
       "<div>\n",
       "<style scoped>\n",
       "    .dataframe tbody tr th:only-of-type {\n",
       "        vertical-align: middle;\n",
       "    }\n",
       "\n",
       "    .dataframe tbody tr th {\n",
       "        vertical-align: top;\n",
       "    }\n",
       "\n",
       "    .dataframe thead th {\n",
       "        text-align: right;\n",
       "    }\n",
       "</style>\n",
       "<table border=\"1\" class=\"dataframe\">\n",
       "  <thead>\n",
       "    <tr style=\"text-align: right;\">\n",
       "      <th></th>\n",
       "      <th>weight</th>\n",
       "      <th>height</th>\n",
       "    </tr>\n",
       "  </thead>\n",
       "  <tbody>\n",
       "    <tr>\n",
       "      <th>cat</th>\n",
       "      <td>0</td>\n",
       "      <td>1</td>\n",
       "    </tr>\n",
       "    <tr>\n",
       "      <th>dog</th>\n",
       "      <td>2</td>\n",
       "      <td>3</td>\n",
       "    </tr>\n",
       "  </tbody>\n",
       "</table>\n",
       "</div>"
      ],
      "text/plain": [
       "     weight  height\n",
       "cat       0       1\n",
       "dog       2       3"
      ]
     },
     "execution_count": 10,
     "metadata": {},
     "output_type": "execute_result"
    }
   ],
   "source": [
    "df_single_level_cols = pd.DataFrame(\n",
    "    [[0, 1], [2, 3]],\n",
    "    index=['cat', 'dog'],\n",
    "    columns=['weight', 'height']\n",
    ")\n",
    "df_single_level_cols"
   ]
  },
  {
   "cell_type": "code",
   "execution_count": 6,
   "id": "e534e9ea-5976-4bf7-ae05-5264bbbf2801",
   "metadata": {},
   "outputs": [
    {
     "data": {
      "text/plain": [
       "cat  weight    0\n",
       "     height    1\n",
       "dog  weight    2\n",
       "     height    3\n",
       "dtype: int64"
      ]
     },
     "execution_count": 6,
     "metadata": {},
     "output_type": "execute_result"
    }
   ],
   "source": [
    "df_single_level_cols.stack()"
   ]
  },
  {
   "cell_type": "code",
   "execution_count": 8,
   "id": "feb633db-45a7-4b3b-86f1-7be5223f390e",
   "metadata": {},
   "outputs": [
    {
     "data": {
      "text/plain": [
       "weight  cat    0\n",
       "        dog    2\n",
       "height  cat    1\n",
       "        dog    3\n",
       "dtype: int64"
      ]
     },
     "execution_count": 8,
     "metadata": {},
     "output_type": "execute_result"
    }
   ],
   "source": [
    "df_single_level_cols.unstack()"
   ]
  },
  {
   "cell_type": "markdown",
   "id": "3150e632-8bae-4a9f-9d2a-7ee90562ae3b",
   "metadata": {},
   "source": [
    "## Combining frames\n",
    "\n",
    "Sometimes there are situations where it is useful to create a data frame that contains all possible combinations of input rows and their corresponding columns concatenated."
   ]
  },
  {
   "cell_type": "markdown",
   "id": "3431954f-b8f7-4bdb-8e3c-6a18e0b88ee3",
   "metadata": {},
   "source": [
    "### Example"
   ]
  },
  {
   "cell_type": "markdown",
   "id": "65308126-56d5-47eb-97f7-8829937f3043",
   "metadata": {},
   "source": [
    "Imagine you have a task that involves applying a statistical model to evaluate the performance of different games for each user in a game service. To accomplish this, you need to examine all possible combinations of users and games to determine the best game for each user. In the cell below, we have created example tables for both users and games to illustrate this scenario."
   ]
  },
  {
   "cell_type": "code",
   "execution_count": 21,
   "id": "d3576f26-8d6e-4fdd-b92e-1ca7b00f5a4c",
   "metadata": {},
   "outputs": [
    {
     "data": {
      "text/html": [
       "<p style='font-size:15px'>Users</p>"
      ],
      "text/plain": [
       "<IPython.core.display.HTML object>"
      ]
     },
     "metadata": {},
     "output_type": "display_data"
    },
    {
     "data": {
      "text/html": [
       "<div>\n",
       "<style scoped>\n",
       "    .dataframe tbody tr th:only-of-type {\n",
       "        vertical-align: middle;\n",
       "    }\n",
       "\n",
       "    .dataframe tbody tr th {\n",
       "        vertical-align: top;\n",
       "    }\n",
       "\n",
       "    .dataframe thead th {\n",
       "        text-align: right;\n",
       "    }\n",
       "</style>\n",
       "<table border=\"1\" class=\"dataframe\">\n",
       "  <thead>\n",
       "    <tr style=\"text-align: right;\">\n",
       "      <th></th>\n",
       "      <th>user_name</th>\n",
       "      <th>sex</th>\n",
       "      <th>age</th>\n",
       "    </tr>\n",
       "  </thead>\n",
       "  <tbody>\n",
       "    <tr>\n",
       "      <th>0</th>\n",
       "      <td>Fedor</td>\n",
       "      <td>m</td>\n",
       "      <td>10</td>\n",
       "    </tr>\n",
       "    <tr>\n",
       "      <th>1</th>\n",
       "      <td>Sandra</td>\n",
       "      <td>w</td>\n",
       "      <td>23</td>\n",
       "    </tr>\n",
       "    <tr>\n",
       "      <th>2</th>\n",
       "      <td>Mark</td>\n",
       "      <td>m</td>\n",
       "      <td>7</td>\n",
       "    </tr>\n",
       "  </tbody>\n",
       "</table>\n",
       "</div>"
      ],
      "text/plain": [
       "  user_name sex  age\n",
       "0     Fedor   m   10\n",
       "1    Sandra   w   23\n",
       "2      Mark   m    7"
      ]
     },
     "metadata": {},
     "output_type": "display_data"
    },
    {
     "data": {
      "text/html": [
       "<p style='font-size:15px'>Games</p>"
      ],
      "text/plain": [
       "<IPython.core.display.HTML object>"
      ]
     },
     "metadata": {},
     "output_type": "display_data"
    },
    {
     "data": {
      "text/html": [
       "<div>\n",
       "<style scoped>\n",
       "    .dataframe tbody tr th:only-of-type {\n",
       "        vertical-align: middle;\n",
       "    }\n",
       "\n",
       "    .dataframe tbody tr th {\n",
       "        vertical-align: top;\n",
       "    }\n",
       "\n",
       "    .dataframe thead th {\n",
       "        text-align: right;\n",
       "    }\n",
       "</style>\n",
       "<table border=\"1\" class=\"dataframe\">\n",
       "  <thead>\n",
       "    <tr style=\"text-align: right;\">\n",
       "      <th></th>\n",
       "      <th>game_name</th>\n",
       "      <th>genre</th>\n",
       "    </tr>\n",
       "  </thead>\n",
       "  <tbody>\n",
       "    <tr>\n",
       "      <th>0</th>\n",
       "      <td>warcraft</td>\n",
       "      <td>rpg</td>\n",
       "    </tr>\n",
       "    <tr>\n",
       "      <th>1</th>\n",
       "      <td>conter-strike</td>\n",
       "      <td>shooter</td>\n",
       "    </tr>\n",
       "    <tr>\n",
       "      <th>2</th>\n",
       "      <td>valorant</td>\n",
       "      <td>shooter</td>\n",
       "    </tr>\n",
       "  </tbody>\n",
       "</table>\n",
       "</div>"
      ],
      "text/plain": [
       "       game_name    genre\n",
       "0       warcraft      rpg\n",
       "1  conter-strike  shooter\n",
       "2       valorant  shooter"
      ]
     },
     "metadata": {},
     "output_type": "display_data"
    }
   ],
   "source": [
    "import pandas as pd\n",
    "from IPython.display import HTML \n",
    "\n",
    "user = pd.DataFrame({\n",
    "    \"user_name\" : [\"Fedor\", \"Sandra\", \"Mark\"],\n",
    "    \"sex\" : [\"m\", \"w\", \"m\"],\n",
    "    \"age\" : [10, 23, 7]\n",
    "})\n",
    "game = pd.DataFrame({\n",
    "    \"game_name\" : [\"warcraft\", \"conter-strike\", \"valorant\"],\n",
    "    \"genre\" : [\"rpg\", \"shooter\", \"shooter\"]\n",
    "})\n",
    "\n",
    "display(HTML(\"<p style='font-size:15px'>Users</p>\"))\n",
    "display(user)\n",
    "display(HTML(\"<p style='font-size:15px'>Games</p>\"))\n",
    "display(game)"
   ]
  },
  {
   "cell_type": "markdown",
   "id": "6c7fcf89-55d3-4617-9b13-24a635e2ce9a",
   "metadata": {},
   "source": [
    "### Solution\n",
    "\n",
    "You can just use `pandas.Merge` function for getting all possble combinations. But you have to specify column that should be used as a key for merge. You can just specify same key for all records of both tables and specify it on the `on` argument of the `pandas.Merge`. So the realisation is showen below."
   ]
  },
  {
   "cell_type": "code",
   "execution_count": 23,
   "id": "c7505711-e4e4-4d21-a953-beaddf7b1729",
   "metadata": {},
   "outputs": [
    {
     "data": {
      "text/html": [
       "<div>\n",
       "<style scoped>\n",
       "    .dataframe tbody tr th:only-of-type {\n",
       "        vertical-align: middle;\n",
       "    }\n",
       "\n",
       "    .dataframe tbody tr th {\n",
       "        vertical-align: top;\n",
       "    }\n",
       "\n",
       "    .dataframe thead th {\n",
       "        text-align: right;\n",
       "    }\n",
       "</style>\n",
       "<table border=\"1\" class=\"dataframe\">\n",
       "  <thead>\n",
       "    <tr style=\"text-align: right;\">\n",
       "      <th></th>\n",
       "      <th>user_name</th>\n",
       "      <th>sex</th>\n",
       "      <th>age</th>\n",
       "      <th>game_name</th>\n",
       "      <th>genre</th>\n",
       "    </tr>\n",
       "  </thead>\n",
       "  <tbody>\n",
       "    <tr>\n",
       "      <th>0</th>\n",
       "      <td>Fedor</td>\n",
       "      <td>m</td>\n",
       "      <td>10</td>\n",
       "      <td>warcraft</td>\n",
       "      <td>rpg</td>\n",
       "    </tr>\n",
       "    <tr>\n",
       "      <th>1</th>\n",
       "      <td>Fedor</td>\n",
       "      <td>m</td>\n",
       "      <td>10</td>\n",
       "      <td>conter-strike</td>\n",
       "      <td>shooter</td>\n",
       "    </tr>\n",
       "    <tr>\n",
       "      <th>2</th>\n",
       "      <td>Fedor</td>\n",
       "      <td>m</td>\n",
       "      <td>10</td>\n",
       "      <td>valorant</td>\n",
       "      <td>shooter</td>\n",
       "    </tr>\n",
       "    <tr>\n",
       "      <th>3</th>\n",
       "      <td>Sandra</td>\n",
       "      <td>w</td>\n",
       "      <td>23</td>\n",
       "      <td>warcraft</td>\n",
       "      <td>rpg</td>\n",
       "    </tr>\n",
       "    <tr>\n",
       "      <th>4</th>\n",
       "      <td>Sandra</td>\n",
       "      <td>w</td>\n",
       "      <td>23</td>\n",
       "      <td>conter-strike</td>\n",
       "      <td>shooter</td>\n",
       "    </tr>\n",
       "    <tr>\n",
       "      <th>5</th>\n",
       "      <td>Sandra</td>\n",
       "      <td>w</td>\n",
       "      <td>23</td>\n",
       "      <td>valorant</td>\n",
       "      <td>shooter</td>\n",
       "    </tr>\n",
       "    <tr>\n",
       "      <th>6</th>\n",
       "      <td>Mark</td>\n",
       "      <td>m</td>\n",
       "      <td>7</td>\n",
       "      <td>warcraft</td>\n",
       "      <td>rpg</td>\n",
       "    </tr>\n",
       "    <tr>\n",
       "      <th>7</th>\n",
       "      <td>Mark</td>\n",
       "      <td>m</td>\n",
       "      <td>7</td>\n",
       "      <td>conter-strike</td>\n",
       "      <td>shooter</td>\n",
       "    </tr>\n",
       "    <tr>\n",
       "      <th>8</th>\n",
       "      <td>Mark</td>\n",
       "      <td>m</td>\n",
       "      <td>7</td>\n",
       "      <td>valorant</td>\n",
       "      <td>shooter</td>\n",
       "    </tr>\n",
       "  </tbody>\n",
       "</table>\n",
       "</div>"
      ],
      "text/plain": [
       "  user_name sex  age      game_name    genre\n",
       "0     Fedor   m   10       warcraft      rpg\n",
       "1     Fedor   m   10  conter-strike  shooter\n",
       "2     Fedor   m   10       valorant  shooter\n",
       "3    Sandra   w   23       warcraft      rpg\n",
       "4    Sandra   w   23  conter-strike  shooter\n",
       "5    Sandra   w   23       valorant  shooter\n",
       "6      Mark   m    7       warcraft      rpg\n",
       "7      Mark   m    7  conter-strike  shooter\n",
       "8      Mark   m    7       valorant  shooter"
      ]
     },
     "execution_count": 23,
     "metadata": {},
     "output_type": "execute_result"
    }
   ],
   "source": [
    "user[\"key\"]=1;game[\"key\"]=1\n",
    "pd.merge(user, game, on=\"key\").drop(\"key\", axis = 1)"
   ]
  },
  {
   "cell_type": "markdown",
   "id": "8bf1dd6a-6e10-43b7-b43d-29a58c128b3d",
   "metadata": {},
   "source": [
    "As the result `Fedor` have maches with all games. And any other user have matches with all games."
   ]
  }
 ],
 "metadata": {
  "kernelspec": {
   "display_name": "Python 3 (ipykernel)",
   "language": "python",
   "name": "python3"
  },
  "language_info": {
   "codemirror_mode": {
    "name": "ipython",
    "version": 3
   },
   "file_extension": ".py",
   "mimetype": "text/x-python",
   "name": "python",
   "nbconvert_exporter": "python",
   "pygments_lexer": "ipython3",
   "version": "3.10.14"
  }
 },
 "nbformat": 4,
 "nbformat_minor": 5
}
