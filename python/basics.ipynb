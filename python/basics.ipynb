{
 "cells": [
  {
   "cell_type": "markdown",
   "metadata": {},
   "source": [
    "# Basics\n",
    "\n",
    "This section highlights features and tools in Python that can be used independently of any specific application."
   ]
  },
  {
   "cell_type": "markdown",
   "metadata": {},
   "source": [
    "## Syntax\n",
    "\n",
    "Syntax is set of rules that define the structure and format of valid statements and expressions in a programming language. It dictates how symbols, keywords, and operators must be arranged to create meaningful instructions for the computer. Find out more at the [specific page](basics/syntax.ipynb)."
   ]
  },
  {
   "cell_type": "markdown",
   "metadata": {},
   "source": [
    "---\n",
    "\n",
    "Look at the following code:"
   ]
  },
  {
   "cell_type": "code",
   "execution_count": 15,
   "metadata": {},
   "outputs": [
    {
     "name": "stdout",
     "output_type": "stream",
     "text": [
      "||/||\\||/|\\/\\/\\/|///|/|/|\\||||\\/|//\\\\\\/////\\|/||\\\\\n",
      "/|\\////\\||//||\\|||||/|/||///|\\//|\\///|||\\||//|/\\||\n",
      "\\|//||//\\\\/\\\\|\\\\||/|/\\\\///\\\\\\|\\\\\\\\\\/|/|\\|\\||||///\\\n",
      "//\\///\\\\|\\/|||///|\\//|\\///\\\\/\\\\/|/|\\\\\\/\\\\\\/\\\\|\\||\\\n",
      "||/\\/||||/\\|\\|//|/|/\\||\\||/\\|/|\\|//\\|/|\\|||\\|\\/\\|\\\n",
      "////|/\\\\\\//\\\\|//|\\//\\//|\\/////\\\\\\\\|\\\\/\\/|/////\\|\\|\n",
      "|\\|/\\|//\\\\/\\/|///|////||\\\\\\|\\|\\|//\\|||/\\|\\|/\\||\\\\\\\n",
      "\\/||/\\\\\\|\\/|/|\\\\\\|||\\\\/|/\\/|/|\\\\//||/\\\\|\\|\\/|/\\\\||\n",
      "/|\\\\\\|\\\\|\\/|/\\/|\\\\|\\\\|/\\\\|||//\\/\\|/\\/|\\\\\\/|/|/\\///\n",
      "|/|////|\\\\/|\\///\\/|\\///||||\\|///|\\\\/\\\\\\/\\\\||//\\/|/\n"
     ]
    }
   ],
   "source": [
    "from random import choice\n",
    "some_symbol = lambda: choice([\"\\\\\", \"|\", \"/\"])\n",
    "\n",
    "\n",
    "print(\"\\n\".join([\n",
    "    ''.join([some_symbol() for i in range(50)])\n",
    "    for i in range(10)\n",
    "]))"
   ]
  },
  {
   "cell_type": "markdown",
   "metadata": {},
   "source": [
    "At this short snippet code were used:\n",
    "\n",
    "**Operators:**\n",
    "\n",
    "1. **`=`** - Assignment operator (used in `some_symbol = lambda: ...`).\n",
    "2. **`:`** - Used in the lambda function definition (`lambda: choice(...)`).\n",
    "3. **`[]`** - List literal and list comprehension syntax (`[\"\\\\\", \"|\", \"/\"]`, `[some_symbol() for i in range(50)]`, and `[... for i in range(10)]`).\n",
    "4. **`()`** - Parentheses for function calls and grouping expressions (`choice(...)`, `some_symbol()`, and `range(...)`).\n",
    "5. **`.`** - Attribute access (used in `\"\\n\".join(...)` and `''.join(...)`).\n",
    "6. **`for`** - Part of the `for` loop in list comprehensions.\n",
    "7. **`in`** - Used in the context of the `for` loop within the list comprehensions.\n",
    "\n",
    "**Literals:**\n",
    "\n",
    "1. **`\"\\\\\", \"|\", \"/\"`** - String literals representing the symbols in the list.\n",
    "2. **`\\n`** - String literal for a newline character.\n",
    "3. **`''`** - Empty string literal.\n",
    "4. **`50`, `10`** - Integer literals used as arguments to `range()`.\n",
    "\n",
    "**Keywords:**\n",
    "\n",
    "1. **`from`** - Used for importing specific parts of a module (`from random import choice`).\n",
    "2. **`import`** - Used to bring a module or part of a module into the current namespace.\n",
    "3. **`lambda`** - Used to create an anonymous function.\n",
    "4. **`for`** - Used in the list comprehension to iterate over a range.\n",
    "5. **`in`** - Used in the `for` loop to iterate over elements."
   ]
  }
 ],
 "metadata": {
  "kernelspec": {
   "display_name": "Python 3",
   "language": "python",
   "name": "python3"
  },
  "language_info": {
   "codemirror_mode": {
    "name": "ipython",
    "version": 3
   },
   "file_extension": ".py",
   "mimetype": "text/x-python",
   "name": "python",
   "nbconvert_exporter": "python",
   "pygments_lexer": "ipython3",
   "version": "3.10.12"
  }
 },
 "nbformat": 4,
 "nbformat_minor": 2
}
