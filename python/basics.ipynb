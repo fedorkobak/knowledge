{
 "cells": [
  {
   "cell_type": "markdown",
   "metadata": {},
   "source": [
    "# Basics\n",
    "\n",
    "This section highlights features and tools in Python that can be used independently of any specific application."
   ]
  },
  {
   "cell_type": "markdown",
   "metadata": {},
   "source": [
    "## Syntax\n",
    "\n",
    "Syntax is set of rules that define the structure and format of valid statements and expressions in a programming language. It dictates how symbols, keywords, and operators must be arranged to create meaningful instructions for the computer. Find out more at the [specific page](basics/syntax.ipynb)."
   ]
  },
  {
   "cell_type": "markdown",
   "metadata": {},
   "source": [
    "---\n",
    "\n",
    "Look at the following code:"
   ]
  },
  {
   "cell_type": "code",
   "execution_count": 15,
   "metadata": {},
   "outputs": [
    {
     "name": "stdout",
     "output_type": "stream",
     "text": [
      "||/||\\||/|\\/\\/\\/|///|/|/|\\||||\\/|//\\\\\\/////\\|/||\\\\\n",
      "/|\\////\\||//||\\|||||/|/||///|\\//|\\///|||\\||//|/\\||\n",
      "\\|//||//\\\\/\\\\|\\\\||/|/\\\\///\\\\\\|\\\\\\\\\\/|/|\\|\\||||///\\\n",
      "//\\///\\\\|\\/|||///|\\//|\\///\\\\/\\\\/|/|\\\\\\/\\\\\\/\\\\|\\||\\\n",
      "||/\\/||||/\\|\\|//|/|/\\||\\||/\\|/|\\|//\\|/|\\|||\\|\\/\\|\\\n",
      "////|/\\\\\\//\\\\|//|\\//\\//|\\/////\\\\\\\\|\\\\/\\/|/////\\|\\|\n",
      "|\\|/\\|//\\\\/\\/|///|////||\\\\\\|\\|\\|//\\|||/\\|\\|/\\||\\\\\\\n",
      "\\/||/\\\\\\|\\/|/|\\\\\\|||\\\\/|/\\/|/|\\\\//||/\\\\|\\|\\/|/\\\\||\n",
      "/|\\\\\\|\\\\|\\/|/\\/|\\\\|\\\\|/\\\\|||//\\/\\|/\\/|\\\\\\/|/|/\\///\n",
      "|/|////|\\\\/|\\///\\/|\\///||||\\|///|\\\\/\\\\\\/\\\\||//\\/|/\n"
     ]
    }
   ],
   "source": [
    "from random import choice\n",
    "some_symbol = lambda: choice([\"\\\\\", \"|\", \"/\"])\n",
    "\n",
    "\n",
    "print(\"\\n\".join([\n",
    "    ''.join([some_symbol() for i in range(50)])\n",
    "    for i in range(10)\n",
    "]))"
   ]
  },
  {
   "cell_type": "markdown",
   "metadata": {},
   "source": [
    "At this short snippet code were used:\n",
    "\n",
    "**Operators:**\n",
    "\n",
    "1. **`=`** - Assignment operator (used in `some_symbol = lambda: ...`).\n",
    "2. **`:`** - Used in the lambda function definition (`lambda: choice(...)`).\n",
    "3. **`[]`** - List literal and list comprehension syntax (`[\"\\\\\", \"|\", \"/\"]`, `[some_symbol() for i in range(50)]`, and `[... for i in range(10)]`).\n",
    "4. **`()`** - Parentheses for function calls and grouping expressions (`choice(...)`, `some_symbol()`, and `range(...)`).\n",
    "5. **`.`** - Attribute access (used in `\"\\n\".join(...)` and `''.join(...)`).\n",
    "6. **`for`** - Part of the `for` loop in list comprehensions.\n",
    "7. **`in`** - Used in the context of the `for` loop within the list comprehensions.\n",
    "\n",
    "**Literals:**\n",
    "\n",
    "1. **`\"\\\\\", \"|\", \"/\"`** - String literals representing the symbols in the list.\n",
    "2. **`\\n`** - String literal for a newline character.\n",
    "3. **`''`** - Empty string literal.\n",
    "4. **`50`, `10`** - Integer literals used as arguments to `range()`.\n",
    "\n",
    "**Keywords:**\n",
    "\n",
    "1. **`from`** - Used for importing specific parts of a module (`from random import choice`).\n",
    "2. **`import`** - Used to bring a module or part of a module into the current namespace.\n",
    "3. **`lambda`** - Used to create an anonymous function.\n",
    "4. **`for`** - Used in the list comprehension to iterate over a range.\n",
    "5. **`in`** - Used in the `for` loop to iterate over elements."
   ]
  },
  {
   "cell_type": "markdown",
   "metadata": {},
   "source": [
    "## Package installer for python (PIP)\n",
    "\n",
    "Pip is a Python package, so you can access it through the interpreter. However, it is more commonly used as a command-line tool."
   ]
  },
  {
   "cell_type": "markdown",
   "metadata": {},
   "source": [
    "---\n",
    "\n",
    "The following cell shows that accessing pip through the Python interpreter and the system shell returns the same version."
   ]
  },
  {
   "cell_type": "code",
   "execution_count": 13,
   "metadata": {},
   "outputs": [
    {
     "data": {
      "text/plain": [
       "'22.0.2'"
      ]
     },
     "execution_count": 13,
     "metadata": {},
     "output_type": "execute_result"
    }
   ],
   "source": [
    "import pip\n",
    "pip.__version__"
   ]
  },
  {
   "cell_type": "code",
   "execution_count": 18,
   "metadata": {},
   "outputs": [
    {
     "name": "stdout",
     "output_type": "stream",
     "text": [
      "pip 22.0.2 from /usr/lib/python3/dist-packages/pip (python 3.10)\n"
     ]
    }
   ],
   "source": [
    "!pip3 --version"
   ]
  },
  {
   "cell_type": "markdown",
   "metadata": {},
   "source": [
    "## Logging\n",
    "\n",
    "`Logging` is a built-in Python library for organizing logs. Its purpose is to create different `Logger` objects, each of which can be used in a specific part of the program, allowing you to maintain control over your program's output.\n",
    "\n",
    "For more details check [corresponding page](basics/logging.ipynb)."
   ]
  },
  {
   "cell_type": "markdown",
   "metadata": {},
   "source": [
    "---\n",
    "\n",
    "The following example demonstrates how to create a logger, `show_logger`, and attach different handlers to it. Handlers define the destination of the output, and each handler has a unique formatter—an object that defines the format of the records produced by the corresponding handler."
   ]
  },
  {
   "cell_type": "code",
   "execution_count": 2,
   "metadata": {},
   "outputs": [
    {
     "name": "stderr",
     "output_type": "stream",
     "text": [
      "2024-08-30 11:58:58,516 - CRITICAL - This is my message\n",
      "This is my message|2024-08-30 11:58:58,516|CRITICAL\n"
     ]
    }
   ],
   "source": [
    "import logging\n",
    "\n",
    "show_logger = logging.getLogger(\"show logger\")\n",
    "\n",
    "handler1 = logging.StreamHandler()\n",
    "formatter = logging.Formatter('%(asctime)s - %(levelname)s - %(message)s')\n",
    "handler1.setFormatter(formatter)\n",
    "\n",
    "handler2 = logging.StreamHandler()\n",
    "formatter = logging.Formatter('%(message)s|%(asctime)s|%(levelname)s')\n",
    "handler2.setFormatter(formatter)\n",
    "\n",
    "show_logger.addHandler(handler1)\n",
    "show_logger.addHandler(handler2)\n",
    "\n",
    "show_logger.critical(\"This is my message\")"
   ]
  },
  {
   "cell_type": "markdown",
   "metadata": {},
   "source": [
    "In the end, we receive messages formatted according to the logger's settings."
   ]
  },
  {
   "cell_type": "markdown",
   "metadata": {},
   "source": [
    "## Asynchronous I/O\n",
    "\n",
    "Python offers tools for organizing asynchronous programming. The main components are the `async` and `await` keywords, along with the `asyncio` library."
   ]
  },
  {
   "cell_type": "markdown",
   "metadata": {},
   "source": [
    "---\n",
    "\n",
    "The following cell demonstrates a classical asynchronous program. It uses the functions `fun1` and `fun2`, which are essentially the same—each prints a number in a loop. Each record identifies which function produced it."
   ]
  },
  {
   "cell_type": "code",
   "execution_count": 52,
   "metadata": {},
   "outputs": [
    {
     "name": "stdout",
     "output_type": "stream",
     "text": [
      "=========begin cycle=========\n",
      "fun 1|iteration 0\n",
      "fun 2|iteration 0\n",
      "fun 2|iteration 1\n",
      "fun 1|iteration 1\n",
      "fun 1|iteration 2\n",
      "fun 1|iteration 3\n",
      "fun 2|iteration 2\n",
      "fun 2|iteration 3\n",
      "fun 2|iteration 4\n",
      "fun 1|iteration 4\n",
      "fun 2|iteration 5\n",
      "fun 2|iteration 6\n",
      "fun 2|iteration 7\n",
      "fun 2|iteration 8\n",
      "fun 1|iteration 5\n",
      "fun 1|iteration 6\n",
      "fun 2|iteration 9\n",
      "fun 1|iteration 7\n",
      "fun 1|iteration 8\n",
      "fun 1|iteration 9\n",
      "=========end cycle=========\n"
     ]
    }
   ],
   "source": [
    "import asyncio\n",
    "from random import uniform\n",
    "\n",
    "async def fun1():\n",
    "    for i in range(10):\n",
    "        print(f\"fun 1|iteration {i}\")\n",
    "        await asyncio.sleep(uniform(0, 0.1))\n",
    "\n",
    "async def fun2():\n",
    "    for i in range(10):\n",
    "        print(f\"fun 2|iteration {i}\")\n",
    "        await asyncio.sleep(uniform(0, 0.1))\n",
    "\n",
    "print(\"=========begin cycle=========\")\n",
    "await asyncio.gather(fun1(), fun2())\n",
    "print(\"=========end cycle=========\")"
   ]
  }
 ],
 "metadata": {
  "kernelspec": {
   "display_name": "Python 3",
   "language": "python",
   "name": "python3"
  },
  "language_info": {
   "codemirror_mode": {
    "name": "ipython",
    "version": 3
   },
   "file_extension": ".py",
   "mimetype": "text/x-python",
   "name": "python",
   "nbconvert_exporter": "python",
   "pygments_lexer": "ipython3",
   "version": "3.10.12"
  }
 },
 "nbformat": 4,
 "nbformat_minor": 2
}
