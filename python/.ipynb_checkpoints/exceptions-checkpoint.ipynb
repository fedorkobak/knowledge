{
 "cells": [
  {
   "cell_type": "markdown",
   "id": "011f9c43-ee8e-4fb6-a01d-2d5bf019b5c4",
   "metadata": {},
   "source": [
    "# Exceptions"
   ]
  },
  {
   "cell_type": "markdown",
   "id": "e993512f-ecf0-4d7a-984a-b4d9aa416930",
   "metadata": {},
   "source": [
    "# Several exceptions\n",
    "\n",
    "If you want to handle multiple exceptions for a block, you can use one of the following options:"
   ]
  },
  {
   "cell_type": "markdown",
   "id": "02bd8b7e-b33d-49e9-81a1-f135ccb52951",
   "metadata": {},
   "source": [
    "## Same `except` block\n",
    "\n",
    "To use the same code to handle different types of exceptions, you can simply mention them as tuples in the condition for the `except` block.\n",
    "\n",
    "In the following example, I have called a random which causes a random type of exception and the `except' block has been called each time."
   ]
  },
  {
   "cell_type": "code",
   "execution_count": 27,
   "id": "251540f4-a992-4045-a6d6-d0c6bc9cb408",
   "metadata": {},
   "outputs": [
    {
     "name": "stdout",
     "output_type": "stream",
     "text": [
      "I handle all exceptions\n"
     ]
    }
   ],
   "source": [
    "test_lst = [1,2]\n",
    "try_functions = [\n",
    "    lambda: 8/0, # ZeroDivisionError\n",
    "    lambda: test_lst[5],# IndexError\n",
    "    lambda: \"hello\" + 4 # TypeError\n",
    "]\n",
    "\n",
    "\n",
    "from random import randint\n",
    "\n",
    "try:\n",
    "    try_functions[randint(0,2)]()\n",
    "except (ZeroDivisionError, IndexError, TypeError):\n",
    "    print(\"I handle all exceptions\")"
   ]
  },
  {
   "cell_type": "markdown",
   "id": "167c3425-4e89-4d71-99b6-13d0d69bcebe",
   "metadata": {},
   "source": [
    "## Different `except` blocks\n",
    "\n",
    "You can set code to handle a particular type of error, and do it several times for a `try` block. All you have to do is mention several `except` blocks one after the other.\n",
    "\n",
    "So in the following example, I call random error in a loop, and different errors have different handlers. You can see that there is a specific message for each iteration."
   ]
  },
  {
   "cell_type": "code",
   "execution_count": 31,
   "id": "4aadb0f7-0a9a-4d90-899d-95e9af60fb63",
   "metadata": {},
   "outputs": [
    {
     "name": "stdout",
     "output_type": "stream",
     "text": [
      "====iteration0====\n",
      "This is wrong operations with types (third option)\n",
      "====iteration1====\n",
      "This is wrong operations with types (third option)\n",
      "====iteration2====\n",
      "This is wrong operations with types (third option)\n",
      "====iteration3====\n",
      "This is wrong operations with types (third option)\n",
      "====iteration4====\n",
      "This is wrong operations with types (third option)\n",
      "====iteration5====\n",
      "This is wrong index (second option)\n",
      "====iteration6====\n",
      "This is divison by zero (first option)\n",
      "====iteration7====\n",
      "This is wrong operations with types (third option)\n",
      "====iteration8====\n",
      "This is wrong operations with types (third option)\n",
      "====iteration9====\n",
      "This is divison by zero (first option)\n"
     ]
    }
   ],
   "source": [
    "test_lst = [1,2]\n",
    "try_functions = [\n",
    "    lambda: 8/0, # ZeroDivisionError\n",
    "    lambda: test_lst[5],# IndexError\n",
    "    lambda: \"hello\" + 4 # TypeError\n",
    "]\n",
    "\n",
    "\n",
    "from random import randint\n",
    "\n",
    "for i in range(10):\n",
    "    print(f\"====iteration{i}====\")\n",
    "    try:\n",
    "        try_functions[randint(0,2)]()\n",
    "    except ZeroDivisionError:\n",
    "        print(\"This is divison by zero (first option)\")\n",
    "    except IndexError:\n",
    "        print(\"This is wrong index (second option)\")\n",
    "    except TypeError:\n",
    "        print(\"This is wrong operations with types (third option)\")"
   ]
  },
  {
   "cell_type": "markdown",
   "id": "99a2a04c-4b7b-4110-9e53-f923957af06a",
   "metadata": {},
   "source": [
    "## Ony one `exception` per type\n",
    "\n",
    "You can define any number of `except' blocks for the same exception type, but only the first one will be called.\n",
    "\n",
    "In the following example, even though I declared two codes for the `ZeroDivisionError` type exception, only the first one was executed."
   ]
  },
  {
   "cell_type": "code",
   "execution_count": 34,
   "id": "51af66de-0f70-457d-bea2-5f443b6e6a51",
   "metadata": {},
   "outputs": [
    {
     "name": "stdout",
     "output_type": "stream",
     "text": [
      "First code to handle exception\n"
     ]
    }
   ],
   "source": [
    "try:\n",
    "    1/0\n",
    "except ZeroDivisionError:\n",
    "    print(\"First code to handle exception\")\n",
    "except ZeroDivisionError:\n",
    "    print(\"Second code to handle exception\")"
   ]
  },
  {
   "cell_type": "markdown",
   "id": "e23a2e8b-1e4f-43d2-b0d3-6dcaa6bbb12e",
   "metadata": {},
   "source": [
    "# Get type of excetption\n",
    "\n",
    "You can get type of error as string by using `except Exception as e:` code in definition of `except` block.\n",
    "\n",
    "So in the following example I have a list of functions, some of which should work fine, but some of which should cause exceptions. And in `except` block I print the type of exception."
   ]
  },
  {
   "cell_type": "code",
   "execution_count": 4,
   "id": "0df6f963-f03d-48ff-8022-3b0a8264c7a0",
   "metadata": {},
   "outputs": [
    {
     "name": "stdout",
     "output_type": "stream",
     "text": [
      "error type: division by zero\n",
      "no error\n",
      "error type: can only concatenate str (not \"int\") to str\n"
     ]
    }
   ],
   "source": [
    "try_functions = [\n",
    "    lambda: 8/0,\n",
    "    lambda: \"hello\",\n",
    "    lambda: \"hello\" + 4\n",
    "]\n",
    "\n",
    "for fun in try_functions:\n",
    "    try:\n",
    "        fun()\n",
    "        print(\"no error\")\n",
    "    except Exception as e:\n",
    "        print(\"error type:\", e)"
   ]
  }
 ],
 "metadata": {
  "kernelspec": {
   "display_name": "Python 3 (ipykernel)",
   "language": "python",
   "name": "python3"
  },
  "language_info": {
   "codemirror_mode": {
    "name": "ipython",
    "version": 3
   },
   "file_extension": ".py",
   "mimetype": "text/x-python",
   "name": "python",
   "nbconvert_exporter": "python",
   "pygments_lexer": "ipython3",
   "version": "3.10.12"
  }
 },
 "nbformat": 4,
 "nbformat_minor": 5
}
