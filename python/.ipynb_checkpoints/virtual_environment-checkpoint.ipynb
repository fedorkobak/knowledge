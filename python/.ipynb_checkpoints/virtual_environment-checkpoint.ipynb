{
 "cells": [
  {
   "cell_type": "markdown",
   "id": "30c2f513-98b8-46a9-959e-823949122d3e",
   "metadata": {},
   "source": [
    "# Virutal environment in python"
   ]
  },
  {
   "cell_type": "markdown",
   "id": "987e4539-2d26-4a5a-b31d-ba150a8816fe",
   "metadata": {},
   "source": [
    "# Sources\n",
    "\n",
    "- <a href=\"https://docs.python.org/3/library/venv.html\">Official documentation on virtual invironment in python</a>;\n",
    "- <a href=\"https://realpython.com/python-virtual-environments-a-primer/\">Extended tutorial</a>."
   ]
  },
  {
   "cell_type": "markdown",
   "id": "88b1cb45-003c-43e8-b21a-b6535fae7368",
   "metadata": {},
   "source": [
    "# **Basic**"
   ]
  },
  {
   "cell_type": "markdown",
   "id": "2aba2411-b730-4841-97db-02e910b61525",
   "metadata": {},
   "source": [
    "## Create\n",
    "\n",
    "To create a new virtual environment, use the command `python -m venv <path to venv>`. This will create a virtual environment in the specified path."
   ]
  },
  {
   "cell_type": "code",
   "execution_count": 6,
   "id": "ff52c45e-6c47-4ac1-9d7c-579ded71da0b",
   "metadata": {},
   "outputs": [
    {
     "name": "stdout",
     "output_type": "stream",
     "text": [
      "env_folder\n"
     ]
    }
   ],
   "source": [
    "%%bash\n",
    "mkdir test_fold\n",
    "cd test_fold\n",
    "\n",
    "python3 -m venv env_folder\n",
    "\n",
    "ls\n",
    "cd ..\n",
    "rm -r test_fold"
   ]
  },
  {
   "cell_type": "markdown",
   "id": "b4b62563-dd78-4efd-bab0-02ffec9bd0cc",
   "metadata": {},
   "source": [
    "## Activate/deactivate\n",
    "\n",
    "From bash command line:\n",
    "\n",
    "```\n",
    "source <path to venv>/bin/activate\n",
    "\n",
    "# comands here will use python\n",
    "# from virtual environment\n",
    "\n",
    "deactivate\n",
    "```"
   ]
  },
  {
   "cell_type": "markdown",
   "id": "764dd067-208c-4c58-a429-4bfe9630fa9c",
   "metadata": {},
   "source": [
    "## For python script\n",
    "\n",
    "So far no way has been found to specify the environment somehow in a python file, so to run a program in a certain environment you must first activate that environment."
   ]
  },
  {
   "cell_type": "code",
   "execution_count": 12,
   "id": "fb6d825d-d4d9-4811-b849-9623f9122787",
   "metadata": {},
   "outputs": [
    {
     "name": "stdout",
     "output_type": "stream",
     "text": [
      "global numpy Version: 1.24.2\n",
      "=====no venv activated=====\n",
      "numpy version: 1.24.2\n",
      "=====venv activated=====\n",
      "numpy version: 1.23.0\n"
     ]
    }
   ],
   "source": [
    "%%bash\n",
    "cd venv_files\n",
    "\n",
    "# create a new env and install specific version\n",
    "# of numpy in it\n",
    "python3 -m venv env_folder\n",
    "source env_folder/bin/activate\n",
    "pip3 install numpy==1.23.0 &> /dev/null\n",
    "deactivate\n",
    "\n",
    "echo \"global numpy\" $(pip show numpy | grep Version)\n",
    "\n",
    "echo \"=====no venv activated=====\"\n",
    "python3 test.py\n",
    "\n",
    "echo \"=====venv activated=====\"\n",
    "source env_folder/bin/activate\n",
    "python3 test.py\n",
    "deactivate\n",
    "\n",
    "rm -r env_folder"
   ]
  }
 ],
 "metadata": {
  "kernelspec": {
   "display_name": "Python 3 (ipykernel)",
   "language": "python",
   "name": "python3"
  },
  "language_info": {
   "codemirror_mode": {
    "name": "ipython",
    "version": 3
   },
   "file_extension": ".py",
   "mimetype": "text/x-python",
   "name": "python",
   "nbconvert_exporter": "python",
   "pygments_lexer": "ipython3",
   "version": "3.10.6"
  }
 },
 "nbformat": 4,
 "nbformat_minor": 5
}
