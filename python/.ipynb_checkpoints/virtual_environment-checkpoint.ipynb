{
 "cells": [
  {
   "cell_type": "markdown",
   "id": "30c2f513-98b8-46a9-959e-823949122d3e",
   "metadata": {},
   "source": [
    "# Virutal environment in python"
   ]
  },
  {
   "cell_type": "markdown",
   "id": "987e4539-2d26-4a5a-b31d-ba150a8816fe",
   "metadata": {},
   "source": [
    "# Sources\n",
    "\n",
    "- <a href=\"https://docs.python.org/3/library/venv.html\">Official documentation on virtual invironment in python</a>;\n",
    "- <a href=\"https://realpython.com/python-virtual-environments-a-primer/\">Extended tutorial</a>."
   ]
  },
  {
   "cell_type": "markdown",
   "id": "2aba2411-b730-4841-97db-02e910b61525",
   "metadata": {},
   "source": [
    "# Create\n",
    "\n",
    "To create a new virtual environment, use the command `python -m venv <path to venv>`. This will create a virtual environment in the specified path."
   ]
  },
  {
   "cell_type": "code",
   "execution_count": 6,
   "id": "ff52c45e-6c47-4ac1-9d7c-579ded71da0b",
   "metadata": {},
   "outputs": [
    {
     "name": "stdout",
     "output_type": "stream",
     "text": [
      "env_folder\n"
     ]
    }
   ],
   "source": [
    "%%bash\n",
    "mkdir test_fold\n",
    "cd test_fold\n",
    "\n",
    "python3 -m venv env_folder\n",
    "\n",
    "ls\n",
    "cd ..\n",
    "rm -r test_fold"
   ]
  },
  {
   "cell_type": "markdown",
   "id": "b4b62563-dd78-4efd-bab0-02ffec9bd0cc",
   "metadata": {},
   "source": [
    "# Activate/deactivate\n",
    "\n",
    "From bash command line:\n",
    "\n",
    "```\n",
    "source <path to venv>/bin/activate\n",
    "\n",
    "# comands here will use python\n",
    "# from virtual environment\n",
    "\n",
    "deactivate\n",
    "```"
   ]
  },
  {
   "cell_type": "markdown",
   "id": "764dd067-208c-4c58-a429-4bfe9630fa9c",
   "metadata": {},
   "source": [
    "# For python script\n",
    "\n",
    "So far no way has been found to specify the environment somehow in a python file, so to run a program in a certain environment you must first activate that environment."
   ]
  },
  {
   "cell_type": "code",
   "execution_count": 12,
   "id": "fb6d825d-d4d9-4811-b849-9623f9122787",
   "metadata": {},
   "outputs": [
    {
     "name": "stdout",
     "output_type": "stream",
     "text": [
      "global numpy Version: 1.24.2\n",
      "=====no venv activated=====\n",
      "numpy version: 1.24.2\n",
      "=====venv activated=====\n",
      "numpy version: 1.23.0\n"
     ]
    }
   ],
   "source": [
    "%%bash\n",
    "cd venv_files\n",
    "\n",
    "# create a new env and install specific version\n",
    "# of numpy in it\n",
    "python3 -m venv env_folder\n",
    "source env_folder/bin/activate\n",
    "pip3 install numpy==1.23.0 &> /dev/null\n",
    "deactivate\n",
    "\n",
    "echo \"global numpy\" $(pip show numpy | grep Version)\n",
    "\n",
    "echo \"=====no venv activated=====\"\n",
    "python3 test.py\n",
    "\n",
    "echo \"=====venv activated=====\"\n",
    "source env_folder/bin/activate\n",
    "python3 test.py\n",
    "deactivate\n",
    "\n",
    "rm -r env_folder"
   ]
  },
  {
   "cell_type": "markdown",
   "id": "a4ac018d-65fd-4b0e-a3e6-e6a8fe0a9a11",
   "metadata": {},
   "source": [
    "# Instalation without activation\n",
    "\n",
    "Sometimes it is extremely useful to install the Python library in the virtual environment without activating the environment. It can be useful, for example, if you need to set up the environment while building the docker image.\n",
    "\n",
    "To install python library in virtual environment without environment actication, you should use command like: <br>\n",
    "`<path to venv>/bin/pip install <library name>`\n",
    "\n",
    "In following example:\n",
    "\n",
    "- Creating a python3 program that requires the `requests` library;\n",
    "- Create a new virtual environment;\n",
    "- Running the program in the new virtual environment will causes an error;\n",
    "- Instaling of the `requests` library in the virtual environment;\n",
    "- Now running the program in the virtual environment don't causes an error.  "
   ]
  },
  {
   "cell_type": "code",
   "execution_count": 8,
   "id": "b8000ea4-7089-4765-8802-0b80e9c5778d",
   "metadata": {},
   "outputs": [
    {
     "name": "stdout",
     "output_type": "stream",
     "text": [
      "=====no library instalation=====\n"
     ]
    },
    {
     "name": "stderr",
     "output_type": "stream",
     "text": [
      "Traceback (most recent call last):\n",
      "  File \"/home/fedor/Documents/knowledge_bank/python/venv_files/requests_loader.py\", line 1, in <module>\n",
      "    import requests\n",
      "ModuleNotFoundError: No module named 'requests'\n"
     ]
    },
    {
     "name": "stdout",
     "output_type": "stream",
     "text": [
      "=====library instalation=====\n",
      "message from python\n"
     ]
    }
   ],
   "source": [
    "%%bash\n",
    "cd venv_files\n",
    "python3 -m venv temp_venv\n",
    "echo \"import requests\" > requests_loader.py\n",
    "echo \"print(\\\"message from python\\\")\" >> requests_loader.py\n",
    "\n",
    "echo \"=====no library instalation=====\"\n",
    "source temp_venv/bin/activate\n",
    "python3 requests_loader.py\n",
    "deactivate\n",
    "\n",
    "\n",
    "temp_venv/bin/pip install requests &> /dev/null\n",
    "echo \"=====library instalation=====\"\n",
    "source temp_venv/bin/activate\n",
    "python3 requests_loader.py\n",
    "deactivate\n",
    "\n",
    "rm -r temp_venv requests_loader.py"
   ]
  },
  {
   "cell_type": "markdown",
   "id": "cdfe5767-60e3-4bc2-be05-6d164dcf743d",
   "metadata": {},
   "source": [
    "# Load from `requirements.txt`\n",
    "\n",
    "It should be tedious to manually rewrite installations with pip. So that python libraries and versions can be stored in a file with the typical (but not necessary) name `requirements.txt`, you can load it automatically using the following syntax:\n",
    "\n",
    "`pip install -r requirements.txt`\n",
    "\n",
    "In the following example:\n",
    "\n",
    "- Create virtual environment;\n",
    "- Install the libraries mentioned in `requirements.txt`;\n",
    "- And then show the list of libraries in the virtual environment.\n",
    "\n",
    "Installed exactly the library versions I asked for in `requirements.txt`."
   ]
  },
  {
   "cell_type": "code",
   "execution_count": 9,
   "id": "59b866be-32fa-4517-bec9-6ea682606638",
   "metadata": {},
   "outputs": [
    {
     "name": "stdout",
     "output_type": "stream",
     "text": [
      "=====requirements.txt=====\n",
      "numpy==1.21.0\n",
      "pandas==1.4.0\n",
      "=====library list=====\n",
      "Package         Version\n",
      "--------------- -------\n",
      "numpy           1.21.0\n",
      "pandas          1.4.0\n",
      "pip             22.0.2\n",
      "python-dateutil 2.8.2\n",
      "pytz            2023.3\n",
      "setuptools      59.6.0\n",
      "six             1.16.0\n"
     ]
    }
   ],
   "source": [
    "%%bash\n",
    "cd venv_files\n",
    "python3.10 -m venv temp_venv\n",
    "\n",
    "echo \"=====requirements.txt=====\"\n",
    "cat requirements.txt\n",
    "\n",
    "echo\n",
    "temp_venv/bin/pip install -r requirements.txt &> /dev/null\n",
    "echo \"=====library list=====\"\n",
    "temp_venv/bin/pip list\n",
    "\n",
    "rm -r temp_venv"
   ]
  },
  {
   "cell_type": "markdown",
   "id": "06b6279d-b88f-4aef-8ba2-0950052d12ae",
   "metadata": {},
   "source": [
    "# **Copying**"
   ]
  },
  {
   "cell_type": "markdown",
   "id": "088bc096-0d8c-4cf3-92fa-998fa5c651e0",
   "metadata": {},
   "source": [
    "## Wrong way\n",
    "\n",
    "The wrong way to do this is to just copy the virtual environment folder. It will lead to broken paths for the Python interpreter.\n",
    "\n",
    "In the following example, I copy the python3 environment from `venv1` to `venv2`, but when I run python from the copied environment and check `sys.path`, it's still pointing to the path for `venv1`."
   ]
  },
  {
   "cell_type": "code",
   "execution_count": 9,
   "id": "c42a0acb-00b9-46f7-8c2d-cc8445bce4eb",
   "metadata": {},
   "outputs": [
    {
     "name": "stdout",
     "output_type": "stream",
     "text": [
      "=====sys.path[-1]=====\n",
      "/home/fedor/Documents/knowledge_bank/python/venv_files/venv1/venv/lib/python3.10/site-packages\n"
     ]
    }
   ],
   "source": [
    "%%bash\n",
    "cd venv_files\n",
    "\n",
    "mkdir venv1 venv2\n",
    "\n",
    "python3.10 -m venv venv1/venv\n",
    "cp -r venv1/venv venv2/venv\n",
    "\n",
    "source venv2/venv/bin/activate\n",
    "echo \"=====sys.path[-1]=====\"\n",
    "python3 -c \"import sys; print(sys.path[-1])\"\n",
    "\n",
    "rm -r venv1 venv2"
   ]
  },
  {
   "cell_type": "markdown",
   "id": "7a4ae010-01d3-4ed2-9f45-ebbd23cab113",
   "metadata": {},
   "source": [
    "## Correct way\n",
    "\n",
    "https://stackoverflow.com/questions/7438681/how-to-duplicate-virtualenv"
   ]
  }
 ],
 "metadata": {
  "kernelspec": {
   "display_name": "Python 3 (ipykernel)",
   "language": "python",
   "name": "python3"
  },
  "language_info": {
   "codemirror_mode": {
    "name": "ipython",
    "version": 3
   },
   "file_extension": ".py",
   "mimetype": "text/x-python",
   "name": "python",
   "nbconvert_exporter": "python",
   "pygments_lexer": "ipython3",
   "version": "3.10.6"
  }
 },
 "nbformat": 4,
 "nbformat_minor": 5
}
