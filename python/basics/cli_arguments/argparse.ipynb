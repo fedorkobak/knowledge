{
 "cells": [
  {
   "cell_type": "markdown",
   "id": "4b9de737-b3f7-48d3-b381-99c713b78cb2",
   "metadata": {},
   "source": [
    "# Library `argparse`"
   ]
  },
  {
   "cell_type": "markdown",
   "id": "99443a44-794d-41d2-9874-eabe989e6159",
   "metadata": {},
   "source": [
    "## Basic usage\n",
    "\n",
    "Argparse is a library that allows you to describe parameters that should be passed to the program when called from the command line. There are few central features of `ArgumentParser.add_argument` method:\n",
    "\n",
    "- To define positional parameters of the program, use only line as first positional argument of the `add_argument`;\n",
    "- To define an option, add the prefix `--` to the first positional argument of the `add_argument`;\n",
    "- You can access to the values by using `ArgumentParser.parse_args().<option dest>`.\n",
    "\n",
    "So these features are used in the following example, that takes some arguments and prints it if needed."
   ]
  },
  {
   "cell_type": "code",
   "execution_count": 1,
   "id": "73b6a1e4-bb81-40fc-bf4b-26db95ab61ed",
   "metadata": {},
   "outputs": [
    {
     "name": "stdout",
     "output_type": "stream",
     "text": [
      "Overwriting argparse_files/basic_argparse.py\n"
     ]
    }
   ],
   "source": [
    "%%writefile argparse_files/basic_argparse.py\n",
    "import argparse\n",
    "\n",
    "my_parser = argparse.ArgumentParser(\n",
    "    description='Process some integers.'\n",
    ")\n",
    "my_parser.add_argument(\n",
    "    \"positional\", \n",
    "    help = \"Example of the positional argument.\"\n",
    ")\n",
    "my_parser.add_argument(\n",
    "    \"--option\",\n",
    "    help = \"Option that takes value.\"\n",
    ")\n",
    "\n",
    "args = my_parser.parse_args()\n",
    "print(\n",
    "    \"positional : \", args.positional, \"\\n\",\n",
    "    \"option : \", args.option,\n",
    "    sep = \"\"\n",
    ")"
   ]
  },
  {
   "cell_type": "markdown",
   "id": "e5431e10-e4fe-4325-9c58-f0831b3ef933",
   "metadata": {},
   "source": [
    "Here is the `--help` output  for the created programme."
   ]
  },
  {
   "cell_type": "code",
   "execution_count": 2,
   "id": "2138ff84-2a18-4e06-8f02-cfb569ad6341",
   "metadata": {},
   "outputs": [
    {
     "name": "stdout",
     "output_type": "stream",
     "text": [
      "usage: basic_argparse.py [-h] [--option OPTION] positional\n",
      "\n",
      "Process some integers.\n",
      "\n",
      "positional arguments:\n",
      "  positional       Example of the positional argument.\n",
      "\n",
      "options:\n",
      "  -h, --help       show this help message and exit\n",
      "  --option OPTION  Option that takes value.\n"
     ]
    }
   ],
   "source": [
    "%%bash\n",
    "python3 argparse_files/basic_argparse.py --help"
   ]
  },
  {
   "cell_type": "markdown",
   "id": "24819f13-4610-4af3-9a7a-8cfbdce49e05",
   "metadata": {},
   "source": [
    "Here is example of calling programm."
   ]
  },
  {
   "cell_type": "code",
   "execution_count": 3,
   "id": "dc8609f1-182f-4f84-8d08-6d43a2dff0c8",
   "metadata": {},
   "outputs": [
    {
     "name": "stdout",
     "output_type": "stream",
     "text": [
      "positional : positional_value\n",
      "option : option_value\n"
     ]
    }
   ],
   "source": [
    "%%bash\n",
    "python3 argparse_files/basic_argparse.py\\\n",
    "    positional_value\\\n",
    "    --option option_value"
   ]
  }
 ],
 "metadata": {
  "kernelspec": {
   "display_name": "Python 3 (ipykernel)",
   "language": "python",
   "name": "python3"
  },
  "language_info": {
   "codemirror_mode": {
    "name": "ipython",
    "version": 3
   },
   "file_extension": ".py",
   "mimetype": "text/x-python",
   "name": "python",
   "nbconvert_exporter": "python",
   "pygments_lexer": "ipython3",
   "version": "3.10.12"
  }
 },
 "nbformat": 4,
 "nbformat_minor": 5
}
