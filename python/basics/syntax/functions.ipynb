{
 "cells": [
  {
   "cell_type": "markdown",
   "id": "c7db179a-76e1-4a9b-8b2d-e235489fb841",
   "metadata": {},
   "source": [
    "# Functions\n",
    "\n",
    "A function in Python is a reusable block of code that performs a specific task. It can be executed with different sets of arguments, allowing for code abstraction and modularity by encapsulating operations into a single, callable unit."
   ]
  },
  {
   "cell_type": "markdown",
   "id": "7ed8ef16-7f0e-40c6-a667-d761cefa6e69",
   "metadata": {},
   "source": [
    "## Arguments vs parameters"
   ]
  },
  {
   "cell_type": "markdown",
   "id": "6f027cfd-4e9b-46e6-b55e-eca3381ea7a0",
   "metadata": {},
   "source": [
    "**Parameters** - local variables to which values are assigned at the moment of its call.\n",
    "\n",
    "**Arguments** are information passed to the function. They are real values corresponding to the parameters that were specified when the function was declared.\n",
    "\n",
    "So in following example:\n",
    "- `val` is a parameter of `some_function`;\n",
    "- `\"test\"` is an argument passed to `some_function`."
   ]
  },
  {
   "cell_type": "code",
   "execution_count": 2,
   "id": "c02cac12-2422-4b0c-8cb8-2c737e7c16b3",
   "metadata": {},
   "outputs": [
    {
     "name": "stdout",
     "output_type": "stream",
     "text": [
      "I got test\n"
     ]
    }
   ],
   "source": [
    "def some_function(val):\n",
    "    print(\"I got\", val)\n",
    "\n",
    "some_function(\"test\")"
   ]
  },
  {
   "cell_type": "markdown",
   "id": "a212b47e",
   "metadata": {},
   "source": [
    "## Built in functions\n",
    "\n",
    "Python includes a set of built-in functions that are available directly in the interpreter without requiring any imports. This section provides an overview of these functions."
   ]
  },
  {
   "cell_type": "markdown",
   "id": "68933690",
   "metadata": {},
   "source": [
    "### Sorted\n",
    "\n",
    "Function for sorting in python. Which takes an object and returns a new object with the elements sorted. You can pass any sortable object, such as a list, and receive the sorted result.\n",
    "\n",
    "---\n",
    "\n",
    "The following cell demonstrates how to sort a Python list."
   ]
  },
  {
   "cell_type": "code",
   "execution_count": 3,
   "id": "019da98f",
   "metadata": {},
   "outputs": [
    {
     "data": {
      "text/plain": [
       "[1, 2, 2, 3, 4, 8]"
      ]
     },
     "execution_count": 3,
     "metadata": {},
     "output_type": "execute_result"
    }
   ],
   "source": [
    "sorted([8, 2, 3, 1, 4, 2])"
   ]
  },
  {
   "cell_type": "markdown",
   "id": "8a06fd4c",
   "metadata": {},
   "source": [
    "#### Key argument\n",
    "\n",
    "The `key` argument allows you to specify a callable that, for each element of the original array, returns a value used to determine the order of the elements during sorting."
   ]
  },
  {
   "cell_type": "markdown",
   "id": "6bf82d60",
   "metadata": {},
   "source": [
    "---\n",
    "\n",
    "Consider the list `[4, 5, 7, 12, 15]`. If we want to treat odd numbers as halves when sorting, the code to achieve this is shown below:"
   ]
  },
  {
   "cell_type": "code",
   "execution_count": 12,
   "id": "6ddaab05",
   "metadata": {},
   "outputs": [
    {
     "data": {
      "text/plain": [
       "[5, 7, 4, 15, 12]"
      ]
     },
     "execution_count": 12,
     "metadata": {},
     "output_type": "execute_result"
    }
   ],
   "source": [
    "ans = [4, 5, 7, 12, 15]\n",
    "sorted(ans, key=lambda x: (x/2 if x%2 else x))"
   ]
  },
  {
   "cell_type": "markdown",
   "id": "ed17aba8",
   "metadata": {},
   "source": [
    "Consider the following example: for each element of the original array, if the number is odd, it is transformed to half of its value; if it is even, it remains unchanged. For the list `[4, 5, 7, 12, 15]`, this results in the pairs: `4 → 4`, `5 → 2.5`, `7 → 3.5`, `12 → 12`, and `15 → 7.5`. Sorting based on these transformed values gives the order: `5 → 2.5`, `7 → 3.5`, `4 → 4`, `15 → 7.5`, and `12 → 12`, which corresponds to the original list order of `[5, 7, 4, 15, 12]`."
   ]
  },
  {
   "cell_type": "markdown",
   "id": "6f80cab6",
   "metadata": {},
   "source": [
    "One useful example is sorting dictionary keys based on their corresponding values. By passing a function that retrieves the value for each key, you can obtain a list of keys sorted according to their values."
   ]
  },
  {
   "cell_type": "code",
   "execution_count": 7,
   "id": "55dc412f",
   "metadata": {},
   "outputs": [
    {
     "data": {
      "text/plain": [
       "['ford', 'mazda', 'bmw', 'mercedes', 'toyota', 'audi']"
      ]
     },
     "execution_count": 7,
     "metadata": {},
     "output_type": "execute_result"
    }
   ],
   "source": [
    "sort_dict = {\n",
    "    \"mazda\": 32,\n",
    "    \"audi\": 50,\n",
    "    \"mercedes\": 43,\n",
    "    \"bmw\": 38,\n",
    "    \"toyota\": 45,\n",
    "    \"ford\": 29\n",
    "}\n",
    "sorted(sort_dict, key=lambda key: sort_dict[key])"
   ]
  }
 ],
 "metadata": {
  "kernelspec": {
   "display_name": "Python 3 (ipykernel)",
   "language": "python",
   "name": "python3"
  },
  "language_info": {
   "codemirror_mode": {
    "name": "ipython",
    "version": 3
   },
   "file_extension": ".py",
   "mimetype": "text/x-python",
   "name": "python",
   "nbconvert_exporter": "python",
   "pygments_lexer": "ipython3",
   "version": "3.10.12"
  }
 },
 "nbformat": 4,
 "nbformat_minor": 5
}
