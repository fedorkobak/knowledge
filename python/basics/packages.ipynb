{
 "cells": [
  {
   "cell_type": "markdown",
   "metadata": {},
   "source": [
    "# Packages\n",
    "\n",
    "This section covers questions related to packages. In fact packages - just a folder that contains Python sources. In a narrower context it's a way to distribute your solutions, this page understands package in such context."
   ]
  },
  {
   "cell_type": "markdown",
   "metadata": {},
   "source": [
    "## Building\n",
    "\n",
    "A folder containing sources must be transformed into a special format suitable for distribution. This section covers the basics of building packages - converting them into a form convenient for distribution."
   ]
  },
  {
   "cell_type": "markdown",
   "metadata": {},
   "source": [
    "---\n",
    "\n",
    "All you need is a `src` folder containing the source code of the package and a `pyproject.toml` configuration file that specifies how the project should be built."
   ]
  },
  {
   "cell_type": "code",
   "execution_count": 15,
   "metadata": {
    "vscode": {
     "languageId": "shellscript"
    }
   },
   "outputs": [
    {
     "name": "stdout",
     "output_type": "stream",
     "text": [
      "\u001b[01;34mpackages_files/building\u001b[0m\n",
      "├── pyproject.toml\n",
      "└── \u001b[01;34msrc\u001b[0m\n",
      "\n",
      "1 directory, 1 file\n"
     ]
    }
   ],
   "source": [
    "tree packages_files/building"
   ]
  },
  {
   "cell_type": "markdown",
   "metadata": {},
   "source": [
    "Here is content of the `pyproject.toml` that is used for example."
   ]
  },
  {
   "cell_type": "code",
   "execution_count": 17,
   "metadata": {
    "vscode": {
     "languageId": "shellscript"
    }
   },
   "outputs": [
    {
     "name": "stdout",
     "output_type": "stream",
     "text": [
      "[project]\n",
      "name = \"example_package_FEDOR_KOBAK\"\n",
      "version = \"0.0.4\"\n",
      "authors = [\n",
      "  { name=\"Fedor Kobak\", email=\"kobfedsur@gmail.com\" },\n",
      "]\n",
      "description = \"A small example package\"\n"
     ]
    }
   ],
   "source": [
    "cat packages_files/building/pyproject.toml"
   ]
  },
  {
   "cell_type": "markdown",
   "metadata": {},
   "source": [
    "The simplest building tool is the `build` package. The following cell applies it to the project template created earlier."
   ]
  },
  {
   "cell_type": "code",
   "execution_count": 11,
   "metadata": {
    "vscode": {
     "languageId": "shellscript"
    }
   },
   "outputs": [],
   "source": [
    "python3 -m build packages_files/building --outdir /tmp/build_out &> /dev/null"
   ]
  },
  {
   "cell_type": "markdown",
   "metadata": {},
   "source": [
    "Here is the result of the construction:"
   ]
  },
  {
   "cell_type": "code",
   "execution_count": 18,
   "metadata": {
    "vscode": {
     "languageId": "shellscript"
    }
   },
   "outputs": [
    {
     "name": "stdout",
     "output_type": "stream",
     "text": [
      "\u001b[01;34m/tmp/build_out\u001b[0m\n",
      "├── example_package_FEDOR_KOBAK-0.0.4-py3-none-any.whl\n",
      "└── \u001b[01;31mexample_package_fedor_kobak-0.0.4.tar.gz\u001b[0m\n",
      "\n",
      "0 directories, 2 files\n"
     ]
    }
   ],
   "source": [
    "tree /tmp/build_out"
   ]
  },
  {
   "cell_type": "markdown",
   "metadata": {},
   "source": [
    "The result includes `.tar.gz` and `.whl` files, both of which are options for distributing Python packages."
   ]
  },
  {
   "cell_type": "markdown",
   "metadata": {},
   "source": [
    "There are some service files that were generated during the build of the following cell, remove those files."
   ]
  },
  {
   "cell_type": "code",
   "execution_count": 12,
   "metadata": {
    "vscode": {
     "languageId": "shellscript"
    }
   },
   "outputs": [],
   "source": [
    "rm -r packages_files/building/src/example_package_FEDOR_KOBAK.egg-info"
   ]
  },
  {
   "cell_type": "markdown",
   "metadata": {},
   "source": [
    "## Installation\n",
    "\n",
    "Install packages with `pip` package. So typical installation looks like `pip3 install <target to be installed>`."
   ]
  },
  {
   "cell_type": "markdown",
   "metadata": {},
   "source": [
    "---\n",
    "\n",
    "Consider installing the pre-prepared package. The following cell creates a new virtual environment, activates it, and installs the pre-prepared file."
   ]
  },
  {
   "cell_type": "code",
   "execution_count": 6,
   "metadata": {
    "vscode": {
     "languageId": "shellscript"
    }
   },
   "outputs": [
    {
     "name": "stdout",
     "output_type": "stream",
     "text": [
      "Processing ./packages_files/installing/example_package_fedor_kobak-0.0.4.tar.gz\n",
      "  Installing build dependencies ... \u001b[?25ldone\n",
      "\u001b[?25h  Getting requirements to build wheel ... \u001b[?25ldone\n",
      "\u001b[?25h  Preparing metadata (pyproject.toml) ... \u001b[?25ldone\n",
      "\u001b[?25hBuilding wheels for collected packages: example_package_FEDOR_KOBAK\n",
      "  Building wheel for example_package_FEDOR_KOBAK (pyproject.toml) ... \u001b[?25ldone\n",
      "\u001b[?25h  Created wheel for example_package_FEDOR_KOBAK: filename=example_package_FEDOR_KOBAK-0.0.4-py3-none-any.whl size=1630 sha256=ba351d445661e0eb8ec037dd3eab54896293fc1185cde361bb3c81dbb7928ac1\n",
      "  Stored in directory: /home/f.kobak@maxbit.local/.cache/pip/wheels/bd/9e/68/66f8408000aa7e936bfc33182758a9119879d53dd25bda3efa\n",
      "Successfully built example_package_FEDOR_KOBAK\n",
      "Installing collected packages: example_package_FEDOR_KOBAK\n",
      "Successfully installed example_package_FEDOR_KOBAK-0.0.4\n"
     ]
    }
   ],
   "source": [
    "python3 -m venv /tmp/test_venv\n",
    "source /tmp/test_venv/bin/activate\n",
    "pip3 install packages_files/installing/example_package_fedor_kobak-0.0.4.tar.gz"
   ]
  },
  {
   "cell_type": "markdown",
   "metadata": {},
   "source": [
    "The installed package appears in the `lib/<python version>/site-packages` folder of the environment you're working with:"
   ]
  },
  {
   "cell_type": "code",
   "execution_count": 18,
   "metadata": {
    "vscode": {
     "languageId": "shellscript"
    }
   },
   "outputs": [
    {
     "name": "stdout",
     "output_type": "stream",
     "text": [
      "\u001b[01;34m/tmp/test_venv/lib/python3.10/site-packages/example_package\u001b[0m\n",
      "├── example.py\n",
      "├── __init__.py\n",
      "└── \u001b[01;34m__pycache__\u001b[0m\n",
      "    ├── example.cpython-310.pyc\n",
      "    └── __init__.cpython-310.pyc\n",
      "\n",
      "1 directory, 4 files\n"
     ]
    }
   ],
   "source": [
    "tree /tmp/test_venv/lib/python3.10/site-packages/example_package"
   ]
  },
  {
   "cell_type": "markdown",
   "metadata": {},
   "source": [
    "Now confirm that the installed project really works."
   ]
  },
  {
   "cell_type": "code",
   "execution_count": 20,
   "metadata": {
    "vscode": {
     "languageId": "shellscript"
    }
   },
   "outputs": [
    {
     "name": "stdout",
     "output_type": "stream",
     "text": [
      "I'm installed package!\n"
     ]
    }
   ],
   "source": [
    "python3 -c \"import example_package\"\n",
    "deactivate"
   ]
  },
  {
   "cell_type": "markdown",
   "metadata": {
    "vscode": {
     "languageId": "shellscript"
    }
   },
   "source": [
    "Importing the installed package unlocks the message embedded in it."
   ]
  },
  {
   "cell_type": "markdown",
   "metadata": {},
   "source": [
    "## Uploading"
   ]
  }
 ],
 "metadata": {
  "kernelspec": {
   "display_name": "Bash",
   "language": "bash",
   "name": "bash"
  },
  "language_info": {
   "codemirror_mode": "shell",
   "file_extension": ".sh",
   "mimetype": "text/x-sh",
   "name": "bash"
  }
 },
 "nbformat": 4,
 "nbformat_minor": 2
}
