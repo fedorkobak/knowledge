{
 "cells": [
  {
   "cell_type": "markdown",
   "id": "fc69e954-031d-431a-8f35-1dce350853fe",
   "metadata": {},
   "source": [
    "# Packages\n",
    "\n",
    "This page describes features related to packages in Python."
   ]
  },
  {
   "cell_type": "markdown",
   "id": "7cbf77b9-8260-4e50-8e84-3e3e065be400",
   "metadata": {},
   "source": [
    "# Version\n",
    "\n",
    "To get the version of a package imported into the environment just from python program, you can call the `__version__` attribute.\n",
    "\n",
    "In the following cell I just do it to pandas installed in the operating system."
   ]
  },
  {
   "cell_type": "code",
   "execution_count": 2,
   "id": "9b7cf415-2a91-4e82-9bfd-ada4fe3592d9",
   "metadata": {},
   "outputs": [
    {
     "data": {
      "text/plain": [
       "'2.0.1'"
      ]
     },
     "execution_count": 2,
     "metadata": {},
     "output_type": "execute_result"
    }
   ],
   "source": [
    "import pandas\n",
    "pandas.__version__"
   ]
  }
 ],
 "metadata": {
  "kernelspec": {
   "display_name": "Python 3 (ipykernel)",
   "language": "python",
   "name": "python3"
  },
  "language_info": {
   "codemirror_mode": {
    "name": "ipython",
    "version": 3
   },
   "file_extension": ".py",
   "mimetype": "text/x-python",
   "name": "python",
   "nbconvert_exporter": "python",
   "pygments_lexer": "ipython3",
   "version": "3.10.12"
  }
 },
 "nbformat": 4,
 "nbformat_minor": 5
}
