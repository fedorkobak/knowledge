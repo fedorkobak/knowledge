{
 "cells": [
  {
   "cell_type": "markdown",
   "id": "08e9b917-6ed6-4baa-a196-e237e7d8ae3e",
   "metadata": {},
   "source": [
    "# Pathlib\n",
    "\n",
    "Pathlib is a special library built into Python that makes it easier to work with paths in Python. This page is focused on usage of this library."
   ]
  },
  {
   "cell_type": "code",
   "execution_count": 1,
   "id": "79d46786",
   "metadata": {},
   "outputs": [],
   "source": [
    "from pathlib import Path"
   ]
  },
  {
   "cell_type": "markdown",
   "id": "1a6e10bc",
   "metadata": {},
   "source": [
    "## Relative path\n",
    "\n",
    "You're free to work with relative path."
   ]
  },
  {
   "cell_type": "markdown",
   "id": "2773ffeb",
   "metadata": {},
   "source": [
    "---\n",
    "\n",
    "The following cell demonstrates that you can call `Path` without any arguments to obtain an object that refers to the current directory."
   ]
  },
  {
   "cell_type": "code",
   "execution_count": 21,
   "id": "63ba4da1",
   "metadata": {},
   "outputs": [
    {
     "data": {
      "text/plain": [
       "PosixPath('.')"
      ]
     },
     "execution_count": 21,
     "metadata": {},
     "output_type": "execute_result"
    }
   ],
   "source": [
    "relative_path = Path()\n",
    "relative_path"
   ]
  },
  {
   "cell_type": "markdown",
   "id": "b8467ed3",
   "metadata": {},
   "source": [
    "Using the `resolve` method of the `Path` class, you can obtain the corresponding absolute path."
   ]
  },
  {
   "cell_type": "code",
   "execution_count": 22,
   "id": "bf1a7e24",
   "metadata": {},
   "outputs": [
    {
     "data": {
      "text/plain": [
       "PosixPath('/home/fedor/Documents/knowledge/python/basics/path/pathlib_files')"
      ]
     },
     "execution_count": 22,
     "metadata": {},
     "output_type": "execute_result"
    }
   ],
   "source": [
    "relative_path.resolve()"
   ]
  },
  {
   "cell_type": "markdown",
   "id": "d451729a",
   "metadata": {},
   "source": [
    "Here, we've simply obtained the path to the directory where this notebook is located."
   ]
  },
  {
   "cell_type": "markdown",
   "id": "cf772452",
   "metadata": {},
   "source": [
    "### Parent for \".\""
   ]
  },
  {
   "cell_type": "markdown",
   "id": "bdcce308",
   "metadata": {},
   "source": [
    "The `parent` attribute will refer to the same path as the object itself."
   ]
  },
  {
   "cell_type": "markdown",
   "id": "5fa0f096",
   "metadata": {},
   "source": [
    "---\n",
    "\n",
    "The following cell demonstrates that calling `parent` from `.` returns the same relative path, which corresponds to the same absolute path."
   ]
  },
  {
   "cell_type": "code",
   "execution_count": 33,
   "id": "68c990f9",
   "metadata": {},
   "outputs": [
    {
     "data": {
      "text/plain": [
       "PosixPath('.')"
      ]
     },
     "metadata": {},
     "output_type": "display_data"
    },
    {
     "data": {
      "text/plain": [
       "PosixPath('/home/fedor/Documents/knowledge/python/basics/path/pathlib_files')"
      ]
     },
     "metadata": {},
     "output_type": "display_data"
    }
   ],
   "source": [
    "display(relative_path.parent)\n",
    "display(relative_path.parent.resolve())"
   ]
  },
  {
   "cell_type": "markdown",
   "id": "bb0e0b03",
   "metadata": {},
   "source": [
    "### \"..\" path"
   ]
  },
  {
   "cell_type": "markdown",
   "id": "dfcca2fb",
   "metadata": {},
   "source": [
    "But by using `..` as the path you'll refer to the parent path of the current directory."
   ]
  },
  {
   "cell_type": "markdown",
   "id": "fd93b2ab",
   "metadata": {},
   "source": [
    "---\n",
    "\n",
    "The following cell demonstrates that `Path(\"..\")` corresponds to the parent directory's absolute path. By combining multiple `..` entries with the `/` operator, you can navigate to even deeper levels within the directory structure."
   ]
  },
  {
   "cell_type": "code",
   "execution_count": 47,
   "id": "a7e7592c",
   "metadata": {},
   "outputs": [
    {
     "data": {
      "text/plain": [
       "PosixPath('/home/fedor/Documents/knowledge/python/basics/path')"
      ]
     },
     "metadata": {},
     "output_type": "display_data"
    },
    {
     "data": {
      "text/plain": [
       "PosixPath('/home/fedor/Documents/knowledge/python')"
      ]
     },
     "metadata": {},
     "output_type": "display_data"
    }
   ],
   "source": [
    "display(Path(\"..\").resolve())\n",
    "display(Path(\"../\"*3).resolve())"
   ]
  },
  {
   "cell_type": "markdown",
   "id": "c54dd7c5",
   "metadata": {},
   "source": [
    "However, the `parent` attribute works in the conventional manner by removing sections of the path. It refers to absolute paths closer to the `.` path until it reaches the `.` directory."
   ]
  },
  {
   "cell_type": "code",
   "execution_count": 58,
   "id": "0d1ec5d9",
   "metadata": {},
   "outputs": [
    {
     "data": {
      "text/plain": [
       "PosixPath('..')"
      ]
     },
     "metadata": {},
     "output_type": "display_data"
    },
    {
     "data": {
      "text/plain": [
       "PosixPath('.')"
      ]
     },
     "metadata": {},
     "output_type": "display_data"
    }
   ],
   "source": [
    "display(Path(\"../..\").parent)\n",
    "display(Path(\"..\").parent)"
   ]
  },
  {
   "cell_type": "markdown",
   "id": "71bf91fc",
   "metadata": {},
   "source": [
    "## Exists\n",
    "\n",
    "You can check whether a folder or file exists using the `Path.exists` method."
   ]
  },
  {
   "cell_type": "markdown",
   "id": "34daf6d4",
   "metadata": {},
   "source": [
    "---\n",
    "\n",
    "The following cell shows the creation of a file or folder, and demonstrates that the `exists` method for that path returns `True`."
   ]
  },
  {
   "cell_type": "markdown",
   "id": "25471787",
   "metadata": {},
   "source": [
    "Here is example for file."
   ]
  },
  {
   "cell_type": "code",
   "execution_count": 5,
   "id": "4ac75767",
   "metadata": {},
   "outputs": [
    {
     "data": {
      "text/plain": [
       "True"
      ]
     },
     "metadata": {},
     "output_type": "display_data"
    }
   ],
   "source": [
    "!echo \"hell\" > temp\n",
    "display(Path(\"temp\").exists())\n",
    "!rm temp"
   ]
  },
  {
   "cell_type": "markdown",
   "id": "5d176d44",
   "metadata": {},
   "source": [
    "And here is example for folder."
   ]
  },
  {
   "cell_type": "code",
   "execution_count": 6,
   "id": "50c52f1e",
   "metadata": {},
   "outputs": [
    {
     "data": {
      "text/plain": [
       "True"
      ]
     },
     "metadata": {},
     "output_type": "display_data"
    }
   ],
   "source": [
    "!mkdir temp\n",
    "display(Path(\"temp\").exists())\n",
    "!rm -r temp"
   ]
  }
 ],
 "metadata": {
  "kernelspec": {
   "display_name": "Python 3 (ipykernel)",
   "language": "python",
   "name": "python3"
  },
  "language_info": {
   "codemirror_mode": {
    "name": "ipython",
    "version": 3
   },
   "file_extension": ".py",
   "mimetype": "text/x-python",
   "name": "python",
   "nbconvert_exporter": "python",
   "pygments_lexer": "ipython3",
   "version": "3.10.14"
  }
 },
 "nbformat": 4,
 "nbformat_minor": 5
}
