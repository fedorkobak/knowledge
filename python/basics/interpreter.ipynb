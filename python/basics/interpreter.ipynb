{
 "cells": [
  {
   "cell_type": "markdown",
   "metadata": {},
   "source": [
    "# Interpreter\n",
    "\n",
    "This section considers python as a software: installaction, usage, source files etc."
   ]
  },
  {
   "cell_type": "markdown",
   "metadata": {},
   "source": [
    "## Virtual environment\n",
    "\n",
    "It's useful to have a different python than the one you're using - you can install different packages and even different pythons. There is a `venv` package in the standard library that automates the process of building special Python interpreters.\n",
    "\n",
    "- To activate envrironmet typicaly use `*/bin/activate` script.\n",
    "- To deactivate environment use `deactivate` command that is awailable in the environment.\n",
    "\n",
    "Check more at the following sources:\n",
    "\n",
    "- [Relevant page](https://docs.python.org/3/library/venv.html) on the official documentation.\n",
    "- [Python Virtual Environments: A Primer](https://realpython.com/python-virtual-environments-a-primer/) extended tutorial."
   ]
  },
  {
   "cell_type": "markdown",
   "metadata": {},
   "source": [
    "---\n",
    "\n",
    "The following cells show an example of creating, enabling, and disabling a Python virtual environment. But first, let's check the current Python location to validate that the interpreter has successfully changed after activating the environment."
   ]
  },
  {
   "cell_type": "code",
   "execution_count": 39,
   "metadata": {
    "vscode": {
     "languageId": "shellscript"
    }
   },
   "outputs": [
    {
     "name": "stdout",
     "output_type": "stream",
     "text": [
      "/usr/local/bin/python3\n"
     ]
    }
   ],
   "source": [
    "which python3"
   ]
  },
  {
   "cell_type": "markdown",
   "metadata": {},
   "source": [
    "The following cell creates a new environment and displays the contents of the current folder."
   ]
  },
  {
   "cell_type": "code",
   "execution_count": 40,
   "metadata": {
    "vscode": {
     "languageId": "shellscript"
    }
   },
   "outputs": [
    {
     "name": "stdout",
     "output_type": "stream",
     "text": [
      "\u001b[0m\u001b[01;34mvenv\u001b[0m\n"
     ]
    }
   ],
   "source": [
    "[ -d /tmp/venv ] && rm -r /tmp/venv\n",
    "mkdir /tmp/venv\n",
    "cd /tmp/venv\n",
    "python3 -m venv venv\n",
    "ls "
   ]
  },
  {
   "cell_type": "markdown",
   "metadata": {},
   "source": [
    "There is a `venv` folder - this is actually a folder that contains the python distribution."
   ]
  },
  {
   "cell_type": "markdown",
   "metadata": {},
   "source": [
    "The following code activates the environment and shows the path to the interpreter."
   ]
  },
  {
   "cell_type": "code",
   "execution_count": 41,
   "metadata": {
    "vscode": {
     "languageId": "shellscript"
    }
   },
   "outputs": [
    {
     "name": "stdout",
     "output_type": "stream",
     "text": [
      "/tmp/venv/venv/bin/python3\n"
     ]
    }
   ],
   "source": [
    "source venv/bin/activate\n",
    "which python3"
   ]
  },
  {
   "cell_type": "markdown",
   "metadata": {},
   "source": [
    "Path is the path of the previously created virtual environment."
   ]
  },
  {
   "cell_type": "markdown",
   "metadata": {},
   "source": [
    "The deactivation process and the result are shown next."
   ]
  },
  {
   "cell_type": "code",
   "execution_count": 42,
   "metadata": {
    "vscode": {
     "languageId": "shellscript"
    }
   },
   "outputs": [
    {
     "name": "stdout",
     "output_type": "stream",
     "text": [
      "/usr/local/bin/python3\n"
     ]
    }
   ],
   "source": [
    "deactivate\n",
    "which python3"
   ]
  }
 ],
 "metadata": {
  "kernelspec": {
   "display_name": "Bash",
   "language": "bash",
   "name": "bash"
  },
  "language_info": {
   "codemirror_mode": "shell",
   "file_extension": ".sh",
   "mimetype": "text/x-sh",
   "name": "bash"
  }
 },
 "nbformat": 4,
 "nbformat_minor": 2
}
