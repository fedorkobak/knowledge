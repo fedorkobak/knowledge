{
 "cells": [
  {
   "cell_type": "markdown",
   "metadata": {},
   "source": [
    "# Data types\n",
    "\n",
    "Here we look at things related to data types in Python."
   ]
  },
  {
   "cell_type": "markdown",
   "metadata": {},
   "source": [
    "## Basic datatypes\n",
    "\n",
    "Here are the basic datatypes that are implemented in Python by default. This is just a brief overview of the basic datatypes - see the specific page for more information.\n",
    "\n",
    "| Data Type    | Mutable | Collection | Ordered | Description                         |\n",
    "|--------------|---------|------------|---------|-------------------------------------|\n",
    "| `int`        | No      | No         | -       | Integer values (e.g., 1, -10)       |\n",
    "| `float`      | No      | No         | -       | Floating-point numbers (e.g., 3.14) |\n",
    "| `str`        | No      | Yes        | Yes     | Strings (e.g., \"hello\")             |\n",
    "| `bool`       | No      | No         | -       | Boolean values (`True`, `False`)    |\n",
    "| `list`       | Yes     | Yes        | Yes     | Lists (e.g., [1, 2, 3])             |\n",
    "| `tuple`      | No      | Yes        | Yes     | Tuples (e.g., (1, 2, 3))            |\n",
    "| `dict`       | Yes     | Yes        | No      | Dictionaries (e.g., {\"key\": \"value\"})|\n",
    "| `set`        | Yes     | Yes        | No      | Sets (e.g., {1, 2, 3})              |\n",
    "| `frozenset`  | No      | Yes        | No      | Immutable sets (e.g., frozenset([1, 2, 3])) |\n",
    "| `NoneType`   | No      | No         | -       | Represents the absence of a value   |\n",
    "\n"
   ]
  }
 ],
 "metadata": {
  "language_info": {
   "name": "python"
  }
 },
 "nbformat": 4,
 "nbformat_minor": 2
}
