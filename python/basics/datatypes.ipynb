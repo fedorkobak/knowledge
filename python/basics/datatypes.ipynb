{
 "cells": [
  {
   "cell_type": "markdown",
   "metadata": {},
   "source": [
    "# Data types\n",
    "\n",
    "Here we look at things related to data types in Python."
   ]
  },
  {
   "cell_type": "markdown",
   "metadata": {},
   "source": [
    "## Basic datatypes\n",
    "\n",
    "Here are the basic datatypes that are implemented in Python by default. This is just a brief overview of the basic datatypes - see the specific page for more information.\n",
    "\n",
    "| Data Type    | Mutable | Collection | Ordered | Description                         |\n",
    "|--------------|---------|------------|---------|-------------------------------------|\n",
    "| `int`        | No      | No         | -       | Integer values (e.g., 1, -10)       |\n",
    "| `float`      | No      | No         | -       | Floating-point numbers (e.g., 3.14) |\n",
    "| `str`        | No      | Yes        | Yes     | Strings (e.g., \"hello\")             |\n",
    "| `bool`       | No      | No         | -       | Boolean values (`True`, `False`)    |\n",
    "| `list`       | Yes     | Yes        | Yes     | Lists (e.g., [1, 2, 3])             |\n",
    "| `tuple`      | No      | Yes        | Yes     | Tuples (e.g., (1, 2, 3))            |\n",
    "| `dict`       | Yes     | Yes        | Yes (>=3.7)      | Dictionaries (e.g., {\"key\": \"value\"})|\n",
    "| `set`        | Yes     | Yes        | No      | Sets (e.g., {1, 2, 3})              |\n",
    "| `frozenset`  | No      | Yes        | No      | Immutable sets (e.g., frozenset([1, 2, 3])) |\n",
    "| `NoneType`   | No      | No         | -       | Represents the absence of a value   |\n",
    "\n"
   ]
  },
  {
   "cell_type": "markdown",
   "metadata": {},
   "source": [
    "In the table above we mentioned many Python datatypes, now let us describe the properties that define different types more precisely."
   ]
  },
  {
   "cell_type": "markdown",
   "metadata": {},
   "source": [
    "### Mutable\n",
    "\n",
    "The main feature of the mutable datatypes is that they can change it content."
   ]
  },
  {
   "cell_type": "markdown",
   "metadata": {},
   "source": [
    "The following example shows how to add another element to the Python list. The same list now has different contents - that's why it's mutable."
   ]
  },
  {
   "cell_type": "code",
   "execution_count": 3,
   "metadata": {},
   "outputs": [
    {
     "data": {
      "text/plain": [
       "[1, 2, 3, 4]"
      ]
     },
     "execution_count": 3,
     "metadata": {},
     "output_type": "execute_result"
    }
   ],
   "source": [
    "orginal_list = [1,2,3]\n",
    "orginal_list.append(4)\n",
    "orginal_list "
   ]
  },
  {
   "cell_type": "markdown",
   "metadata": {},
   "source": [
    "However, it's important to note that when you assign a new value to an immutable variable, say integer, you're not changing the value stored in the original integer. Instead, you create a new integer object and assign it to the variable name. This means that integers are immutable in Python; once an integer object is created, its value cannot be changed."
   ]
  },
  {
   "cell_type": "markdown",
   "metadata": {},
   "source": [
    "The following example shows that each time you change the value of intger (or any other mutable type), it's a new object."
   ]
  },
  {
   "cell_type": "code",
   "execution_count": 5,
   "metadata": {},
   "outputs": [
    {
     "name": "stdout",
     "output_type": "stream",
     "text": [
      "129449186738544\n",
      "129449186738608\n"
     ]
    }
   ],
   "source": [
    "a = 5\n",
    "print(id(5))\n",
    "a = 7\n",
    "print(id(a))"
   ]
  },
  {
   "cell_type": "markdown",
   "metadata": {},
   "source": [
    "### Collection\n",
    "\n",
    "In Python, a \"collection\" refers to a group of multiple elements that are stored together and can be manipulated as a unit. Collections are fundamental data structures that allow you to manage and organize data efficiently."
   ]
  },
  {
   "cell_type": "markdown",
   "metadata": {},
   "source": [
    "### Ordered\n",
    "\n",
    "Some collections in python allow user to define order other not."
   ]
  },
  {
   "cell_type": "markdown",
   "metadata": {},
   "source": [
    "Ordered collections allow you to define an order. The following example shows that the list retains the same order that was specified when it was created. This property of the list means that it's ordered."
   ]
  },
  {
   "cell_type": "code",
   "execution_count": 11,
   "metadata": {},
   "outputs": [
    {
     "name": "stdout",
     "output_type": "stream",
     "text": [
      "['a', 'b', 'c', 'd', 'e']\n",
      "['e', 'd', 'c', 'b', 'a']\n"
     ]
    }
   ],
   "source": [
    "print(['a', 'b', 'c', 'd', 'e'])\n",
    "print(['e', 'd', 'c', 'b', 'a'])"
   ]
  },
  {
   "cell_type": "markdown",
   "metadata": {},
   "source": [
    "The same example but with an unordered set. It completely ignores the order in which the elements were created and records them according to specific rules."
   ]
  },
  {
   "cell_type": "code",
   "execution_count": 13,
   "metadata": {},
   "outputs": [
    {
     "name": "stdout",
     "output_type": "stream",
     "text": [
      "{'c', 'd', 'a', 'b', 'e'}\n",
      "{'c', 'd', 'a', 'b', 'e'}\n"
     ]
    }
   ],
   "source": [
    "print({'a', 'b', 'c', 'd', 'e'})\n",
    "print({'e', 'd', 'c', 'b', 'a'})"
   ]
  }
 ],
 "metadata": {
  "kernelspec": {
   "display_name": "Python 3",
   "language": "python",
   "name": "python3"
  },
  "language_info": {
   "codemirror_mode": {
    "name": "ipython",
    "version": 3
   },
   "file_extension": ".py",
   "mimetype": "text/x-python",
   "name": "python",
   "nbconvert_exporter": "python",
   "pygments_lexer": "ipython3",
   "version": "3.10.12"
  }
 },
 "nbformat": 4,
 "nbformat_minor": 2
}
