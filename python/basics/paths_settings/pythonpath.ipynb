{
 "cells": [
  {
   "cell_type": "markdown",
   "id": "a6dac00e-1a94-4535-9047-e63414ff904e",
   "metadata": {},
   "source": [
    "# Python path\n",
    "\n",
    "Sometimes it's hard to export Python files from other Python files or Jupyter notebooks. Usually problem related to list of folders where Python interpreter tends to search for names."
   ]
  },
  {
   "cell_type": "markdown",
   "id": "31e5cddd-c79e-4c08-8320-321279a53533",
   "metadata": {},
   "source": [
    "## `sys.path`\n",
    "\n",
    "Is a list that contains all folders where interpreter will find names you try to export."
   ]
  },
  {
   "cell_type": "markdown",
   "id": "2fff2a1e-4e43-4dfd-9c0f-bf59580410bd",
   "metadata": {},
   "source": [
    "### This jupyter\n",
    "\n",
    "In the following example I have listed mine. The first is the folder where this notebook was started."
   ]
  },
  {
   "cell_type": "code",
   "execution_count": 5,
   "id": "ab68066c-d1a9-460d-817d-c0b775c4b99a",
   "metadata": {},
   "outputs": [
    {
     "data": {
      "text/plain": [
       "['/home/fedor/Documents/knowledge/python/basics/paths_settings',\n",
       " '/usr/lib/python310.zip',\n",
       " '/usr/lib/python3.10',\n",
       " '/usr/lib/python3.10/lib-dynload',\n",
       " '',\n",
       " '/home/fedor/.local/lib/python3.10/site-packages',\n",
       " '/usr/local/lib/python3.10/dist-packages',\n",
       " '/usr/lib/python3/dist-packages']"
      ]
     },
     "execution_count": 5,
     "metadata": {},
     "output_type": "execute_result"
    }
   ],
   "source": [
    "import sys\n",
    "sys.path"
   ]
  },
  {
   "cell_type": "markdown",
   "id": "c5bc8d21-a3be-4d12-a7b6-10619731b7f1",
   "metadata": {},
   "source": [
    "### CLI"
   ]
  },
  {
   "cell_type": "markdown",
   "id": "4d202423-788c-43ad-b898-a21ce9c3892d",
   "metadata": {},
   "source": [
    "But let's try the same trick with a Python file run from the CLI."
   ]
  },
  {
   "cell_type": "markdown",
   "id": "404e7cb8-a263-45e0-90d8-8c7eb08e2059",
   "metadata": {},
   "source": [
    "The following cell shows the code of the file I'm going to run."
   ]
  },
  {
   "cell_type": "code",
   "execution_count": 12,
   "id": "8279a122-355b-498d-8f29-516ccc656805",
   "metadata": {},
   "outputs": [
    {
     "name": "stdout",
     "output_type": "stream",
     "text": [
      "Overwriting print_sys_folder/print_sys_folder.py\n"
     ]
    }
   ],
   "source": [
    "%%writefile python_path_files/python_path_files.py\n",
    "import sys\n",
    "for p in sys.path:\n",
    "    print(p)"
   ]
  },
  {
   "cell_type": "markdown",
   "id": "4f72d567-536d-4515-b9c2-888841398308",
   "metadata": {},
   "source": [
    "Run the code from bash - as a result, the first item of the lsit contains the same folder as file in."
   ]
  },
  {
   "cell_type": "code",
   "execution_count": 13,
   "id": "918731d4-8b49-49cf-bbae-83b5b8f59043",
   "metadata": {},
   "outputs": [
    {
     "name": "stdout",
     "output_type": "stream",
     "text": [
      "/home/fedor/Documents/knowledge/python/basics/paths_settings/print_sys_folder\n",
      "/usr/lib/python310.zip\n",
      "/usr/lib/python3.10\n",
      "/usr/lib/python3.10/lib-dynload\n",
      "/home/fedor/.local/lib/python3.10/site-packages\n",
      "/usr/local/lib/python3.10/dist-packages\n",
      "/usr/lib/python3/dist-packages\n"
     ]
    }
   ],
   "source": [
    "!python3 python_path_files/python_path_files.py"
   ]
  },
  {
   "cell_type": "markdown",
   "id": "d66f2497-f3ab-41c7-9723-59f1499aaf61",
   "metadata": {},
   "source": [
    "### Add item\n",
    "\n",
    "The simplest way to solve file access problems is to add the appropriate directory to the `os.path` list."
   ]
  },
  {
   "cell_type": "markdown",
   "id": "89e0832d-94a2-4a0a-9174-2bf15c0ff6a7",
   "metadata": {},
   "source": [
    "In the following cell I just create a python file that cantain only one print - printing the message marks that the module has been successfully loaded. It is created in the folder `python_path_files/some_hidden_module` so that files from `python_path_files` cannot see it."
   ]
  },
  {
   "cell_type": "code",
   "execution_count": 64,
   "id": "3f40ade6-8b80-4431-b3a9-1cb4fc7bef28",
   "metadata": {},
   "outputs": [
    {
     "name": "stdout",
     "output_type": "stream",
     "text": [
      "Overwriting python_path_files/some_hidden_module/test_module.py\n"
     ]
    }
   ],
   "source": [
    "%%writefile python_path_files/some_hidden_module/test_module.py\n",
    "print(\"Test module successfully loaded!\")"
   ]
  },
  {
   "cell_type": "markdown",
   "id": "915155c7-aa23-4415-94e7-58d8ff0226e4",
   "metadata": {},
   "source": [
    "Next cell defines file in `python_path_files`. It will try to import file from previous cell before and after `some_hiddem_module` added to `sys.path`, in fail case it will print a corresponding message."
   ]
  },
  {
   "cell_type": "code",
   "execution_count": 65,
   "id": "d40a2244-29d3-48c8-b735-489e61956490",
   "metadata": {},
   "outputs": [
    {
     "name": "stdout",
     "output_type": "stream",
     "text": [
      "Overwriting python_path_files/append_to_path.py\n"
     ]
    }
   ],
   "source": [
    "%%writefile python_path_files/append_to_path.py\n",
    "import os\n",
    "import sys\n",
    "\n",
    "\n",
    "def try_import_module():\n",
    "    try:\n",
    "        import test_module\n",
    "    except ModuleNotFoundError:\n",
    "        print(\"Module import went wrong!\")\n",
    "\n",
    "try_import_module()\n",
    "sys.path.append(\"some_hidden_module\")\n",
    "try_import_module()"
   ]
  },
  {
   "cell_type": "markdown",
   "id": "cfc0e703-e770-404f-a1af-3d39b5ed82b0",
   "metadata": {},
   "source": [
    "The run of the file show:\n",
    "\n",
    "- In the first case I got an error message;\n",
    "- But after appending `some_hidden_module` to `sys.path` everything works fine."
   ]
  },
  {
   "cell_type": "code",
   "execution_count": 66,
   "id": "f83f0306-6ac4-41aa-9760-a1fe65d35a4e",
   "metadata": {},
   "outputs": [
    {
     "name": "stdout",
     "output_type": "stream",
     "text": [
      "Module import went wrong!\n",
      "Test module successfully loaded!\n"
     ]
    }
   ],
   "source": [
    "%%bash\n",
    "cd python_path_files\n",
    "python3 append_to_path.py"
   ]
  },
  {
   "cell_type": "markdown",
   "id": "54309bfb-6a24-4b93-8ef6-d0a6ef11bd2b",
   "metadata": {},
   "source": [
    "## Environment variable"
   ]
  },
  {
   "cell_type": "code",
   "execution_count": 8,
   "id": "961d8652-c989-4f9f-8bbd-50b031856860",
   "metadata": {},
   "outputs": [
    {
     "name": "stdout",
     "output_type": "stream",
     "text": [
      "FEDOR_KOBAK\n",
      "['/home/fedor/Documents/knowledge/python/basics/paths_settings/print_sys_folder', '/home/fedor/Documents/knowledge/python/basics/paths_settings/FEDOR_KOBAK', '/usr/lib/python310.zip', '/usr/lib/python3.10', '/usr/lib/python3.10/lib-dynload', '/home/fedor/.local/lib/python3.10/site-packages', '/usr/local/lib/python3.10/dist-packages', '/usr/lib/python3/dist-packages']\n"
     ]
    }
   ],
   "source": [
    "%%bash\n",
    "\n",
    "export PYTHONPATH=\"FEDOR_KOBAK\"\n",
    "echo $PYTHONPATH\n",
    "python3 python_path_files/python_path_files.py"
   ]
  },
  {
   "cell_type": "code",
   "execution_count": 3,
   "id": "fe9b6e69-1301-4c3d-bd52-a8c0b5501d3f",
   "metadata": {},
   "outputs": [
    {
     "data": {
      "text/plain": [
       "['/home/fedor/Documents/knowledge/python/basics/paths_settings',\n",
       " '/usr/lib/python310.zip',\n",
       " '/usr/lib/python3.10',\n",
       " '/usr/lib/python3.10/lib-dynload',\n",
       " '',\n",
       " '/home/fedor/.local/lib/python3.10/site-packages',\n",
       " '/usr/local/lib/python3.10/dist-packages',\n",
       " '/usr/lib/python3/dist-packages']"
      ]
     },
     "execution_count": 3,
     "metadata": {},
     "output_type": "execute_result"
    }
   ],
   "source": [
    "sys.path"
   ]
  }
 ],
 "metadata": {
  "kernelspec": {
   "display_name": "Python 3 (ipykernel)",
   "language": "python",
   "name": "python3"
  },
  "language_info": {
   "codemirror_mode": {
    "name": "ipython",
    "version": 3
   },
   "file_extension": ".py",
   "mimetype": "text/x-python",
   "name": "python",
   "nbconvert_exporter": "python",
   "pygments_lexer": "ipython3",
   "version": "3.10.6"
  }
 },
 "nbformat": 4,
 "nbformat_minor": 5
}
