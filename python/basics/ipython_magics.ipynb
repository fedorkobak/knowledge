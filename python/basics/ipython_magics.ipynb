{
 "cells": [
  {
   "cell_type": "markdown",
   "id": "e0b2cf33-0d91-41e3-9157-368bac9347fe",
   "metadata": {},
   "source": [
    "# IPython magics\n",
    "\n",
    "A special expression in IPython that allows you to use some of the special features provided by IPython. There are two types of magics:\n",
    "\n",
    "- **One line** - begins with `%` and applies to the next expression;\n",
    "- **Whole cell** - begins with `%%` and applies to whole cell (you must use it in the first row of the cell.)."
   ]
  },
  {
   "cell_type": "markdown",
   "id": "066cf22c-2b01-4856-9bd9-fed455e6da3d",
   "metadata": {},
   "source": [
    "# `%time`\n",
    "\n",
    "Measures the time of execution of some expression."
   ]
  },
  {
   "cell_type": "markdown",
   "id": "d0dc189a-678c-48f7-a073-7745d84744d8",
   "metadata": {},
   "source": [
    "## Basic example\n",
    "\n",
    "Here I just have a function that runs a cycle with a given number of iterations, and show results for 10 and 500 iterations."
   ]
  },
  {
   "cell_type": "code",
   "execution_count": 7,
   "id": "33a37e9e-1881-4c66-9882-84754821cafa",
   "metadata": {},
   "outputs": [
    {
     "name": "stdout",
     "output_type": "stream",
     "text": [
      "=====10 iterations=====\n",
      "CPU times: user 2 µs, sys: 0 ns, total: 2 µs\n",
      "Wall time: 3.58 µs\n",
      "=====500 iterations=====\n",
      "CPU times: user 14 µs, sys: 2 µs, total: 16 µs\n",
      "Wall time: 16.7 µs\n"
     ]
    }
   ],
   "source": [
    "def some_computing(i_count):\n",
    "    for i in range(i_count): 5+5\n",
    "\n",
    "print(\"=====10 iterations=====\")\n",
    "%time some_computing(10)\n",
    "print(\"=====500 iterations=====\")\n",
    "%time some_computing(500)"
   ]
  },
  {
   "cell_type": "markdown",
   "id": "71a2fd1f-d191-46fc-9d47-381703d34158",
   "metadata": {},
   "source": [
    "## Metrics meaning\n",
    "\n",
    "- `CPU times` gives description of the duration by stage of execution:\n",
    "    - `user` user-side duration;\n",
    "    - `sys` system-side duration;\n",
    "    - `total` total duration of the calculation.\n",
    "- `Wall time` duration of the calculation with overhead resources (whatever they may be).\n",
    "\n",
    "**Note** Nowadays, I don't know exactly what the difference is between the user side and the system side - but you should learn Linux to find out."
   ]
  },
  {
   "cell_type": "markdown",
   "id": "70c40587-7d69-4fd6-9622-201a653d0c6b",
   "metadata": {},
   "source": [
    "# Specific code\n",
    "\n",
    "You can use some other codes in IPython just specifying them with magic `<code type>`. Next, I list some of the options available.\n",
    "\n",
    "**Note** looks like this magic is only available in whole cell mode."
   ]
  },
  {
   "cell_type": "markdown",
   "id": "5b1ba737-fcd8-48ef-a8fc-7ed30c45cde0",
   "metadata": {},
   "source": [
    "## bash"
   ]
  },
  {
   "cell_type": "code",
   "execution_count": 13,
   "id": "bc3a1279-ae6c-4133-abf7-9b81d26e2434",
   "metadata": {},
   "outputs": [
    {
     "name": "stdout",
     "output_type": "stream",
     "text": [
      "total 16\n",
      "-rw-rw-r-- 1 fedor fedor 4127 жні 26 18:40 magic_commands.ipynb\n",
      "drwxrwxr-x 3 fedor fedor 4096 жні 25 15:10 nbconvert\n",
      "drwxrwxr-x 4 fedor fedor 4096 жні 25 15:10 voila_vs_nbconvert_saving_html\n"
     ]
    }
   ],
   "source": [
    "%%bash\n",
    "ls -l"
   ]
  },
  {
   "cell_type": "markdown",
   "id": "cfe680f3-6583-4add-887d-733f51b100ca",
   "metadata": {},
   "source": [
    "## HTML"
   ]
  },
  {
   "cell_type": "code",
   "execution_count": 11,
   "id": "100c7adf-22af-4df6-a0b0-d7eb684bf0ab",
   "metadata": {},
   "outputs": [
    {
     "data": {
      "text/html": [
       "<button>Button as HTML element</button>\n"
      ],
      "text/plain": [
       "<IPython.core.display.HTML object>"
      ]
     },
     "metadata": {},
     "output_type": "display_data"
    }
   ],
   "source": [
    "%%HTML\n",
    "<button>Button as HTML element</button>"
   ]
  },
  {
   "cell_type": "markdown",
   "id": "faa999ce-8422-4fdb-a367-565de9797e0a",
   "metadata": {},
   "source": [
    "# `%load_ext`\n",
    "\n",
    "Allows you to load extentions of IPython. <a href=\"https://ipython.readthedocs.io/en/stable/config/extensions/index.html\"> Learn more<a/>. Looks like that's a topic for another page, but for now I'll just mention a few extensions that I use."
   ]
  },
  {
   "cell_type": "markdown",
   "id": "1b3c8e49-4961-40e7-a055-19cfd47dd53a",
   "metadata": {},
   "source": [
    "## `autoreload`\n",
    "\n",
    "By default, IPython will only read imported modules when their `import` is mentioned for the first time. But this option allows you to set some specific rules for importing modules. <a href=\"https://ipython.readthedocs.io/en/stable/config/extensions/autoreload.html\">Official documentation</a>.\n",
    "\n",
    "In essence this extension doles out two magic `%autoreload` and `%aimport`:\n",
    "\n",
    "- `%autoreload` - specifies the import mode;\n",
    "- `%aimport` - sets exceptions for `%autoreload` if they are provided by the current mode.\n",
    "\n",
    "**Note** look like you should use the full path to the files if you want to mention them for `%aimport`."
   ]
  },
  {
   "cell_type": "markdown",
   "id": "d31720be-2dda-4bfd-98dd-f89437789516",
   "metadata": {},
   "source": [
    "### `%autoreload 1/explicit`\n",
    "\n",
    "Before executing a cell, only modules mentioned with `%aimport` will be reloaded.\n",
    "\n",
    "In the following example I:\n",
    "\n",
    "- Create two files `fun<i>` $i \\in {1,2}$, each containing only one function that returns a line like `\"Original line from fun<i>.py\"`;\n",
    "- Import them using the `%autoreload explicit` magic and mentioning `fun1` in `%aimport`.\n",
    "- Call them, and got obvious result - `Original line from fun<i>.py`;\n",
    "- Then change both functions to return `New line from fun<i>.py`;\n",
    "- Call the functions again:\n",
    "    - Function from `fun1` has changed the line;\n",
    "    - Function from `fun2` still has the word `Original` at the beginning (because it was mentioned in `%aimport` as module to me reloaded)."
   ]
  },
  {
   "cell_type": "code",
   "execution_count": 1,
   "id": "de737d1c-2db3-4b00-b054-6bbf590b8d4f",
   "metadata": {},
   "outputs": [],
   "source": [
    "%%bash\n",
    "cat > ipython_magics_files/fun1.py << EOF\n",
    "def return_line():\n",
    "    return \"Original line from fun1.py\"\n",
    "EOF\n",
    "cat > ipython_magics_files/fun2.py << EOF\n",
    "def return_line():\n",
    "    return \"Original line from fun2.py\"\n",
    "EOF"
   ]
  },
  {
   "cell_type": "code",
   "execution_count": 2,
   "id": "d658223c-120d-45b3-9594-cd8a2a48c28e",
   "metadata": {},
   "outputs": [
    {
     "name": "stdout",
     "output_type": "stream",
     "text": [
      "Original line from fun1.py\n",
      "Original line from fun2.py\n"
     ]
    }
   ],
   "source": [
    "%load_ext autoreload\n",
    "%autoreload explicit\n",
    "\n",
    "from ipython_magics_files import fun1, fun2\n",
    "%aimport ipython_magics_files.fun1\n",
    "print(fun1.return_line())\n",
    "print(fun2.return_line())"
   ]
  },
  {
   "cell_type": "code",
   "execution_count": 3,
   "id": "e8ed9fa8-ebdd-4478-88cb-547ab519b42b",
   "metadata": {},
   "outputs": [],
   "source": [
    "%%bash\n",
    "cat > ipython_magics_files/fun1.py << EOF\n",
    "def return_line():\n",
    "    return \"New line from fun1.py\"\n",
    "EOF\n",
    "cat > ipython_magics_files/fun2.py << EOF\n",
    "def return_line():\n",
    "    return \"New line from fun2.py\"\n",
    "EOF"
   ]
  },
  {
   "cell_type": "code",
   "execution_count": 4,
   "id": "463f24cd-68e4-45b6-9a7d-9818226d6cc1",
   "metadata": {},
   "outputs": [
    {
     "name": "stdout",
     "output_type": "stream",
     "text": [
      "New line from fun1.py\n",
      "Original line from fun2.py\n"
     ]
    }
   ],
   "source": [
    "print(fun1.return_line())\n",
    "print(fun2.return_line())"
   ]
  },
  {
   "cell_type": "markdown",
   "id": "6ae1cc2a-e01e-4c4e-96cf-cac33291330e",
   "metadata": {},
   "source": [
    "### `%autoreload 2/all`\n",
    "\n",
    "It's the most common mode for me - reload all modules before running any cell except those mentioned in `%aimport`.\n",
    "\n",
    "If you want to exclude some modules from reimport, you should use `%aimport -<module name>` (the \"-\" symbol is crucial here).\n",
    "\n",
    "In the following example I:\n",
    "\n",
    "- Create two files `fun<i>` $i \\in {1,2}$, each containing only one function that returns a line like `\"Original line from fun<i>.py\"`;\n",
    "- Import them using the `%autoreload all` magic and mentioning `fun2` in `%aimport`.\n",
    "- Call them, and got obvious result - `Original line from fun<i>.py`;\n",
    "- Then change both functions to return `New line from fun<i>.py`;\n",
    "- Call the functions again:\n",
    "    - Function from `fun1` has changed the line;\n",
    "    - Function from `fun2` still has the word `Original` at the beginning (because it was mentioned in `%aimport` as an exclusion)."
   ]
  },
  {
   "cell_type": "code",
   "execution_count": 1,
   "id": "02bc9b99-18dd-46e4-917c-221c2c13597d",
   "metadata": {},
   "outputs": [],
   "source": [
    "%%bash\n",
    "cat > ipython_magics_files/fun1.py << EOF\n",
    "def return_line():\n",
    "    return \"Original line from fun1.py\"\n",
    "EOF\n",
    "cat > ipython_magics_files/fun2.py << EOF\n",
    "def return_line():\n",
    "    return \"Original line from fun2.py\"\n",
    "EOF"
   ]
  },
  {
   "cell_type": "code",
   "execution_count": 2,
   "id": "cadc758f-ecd5-462a-a2ff-0b0b0fe2fac0",
   "metadata": {},
   "outputs": [
    {
     "name": "stdout",
     "output_type": "stream",
     "text": [
      "Original line from fun1.py\n",
      "Original line from fun2.py\n"
     ]
    }
   ],
   "source": [
    "%load_ext autoreload\n",
    "%autoreload all\n",
    "\n",
    "from ipython_magics_files import fun1, fun2\n",
    "%aimport -ipython_magics_files.fun2\n",
    "print(fun1.return_line())\n",
    "print(fun2.return_line())"
   ]
  },
  {
   "cell_type": "code",
   "execution_count": 3,
   "id": "920c5c79-befc-4a3b-9553-fc13576db30a",
   "metadata": {},
   "outputs": [],
   "source": [
    "%%bash\n",
    "cat > ipython_magics_files/fun1.py << EOF\n",
    "def return_line():\n",
    "    return \"New line from fun1.py\"\n",
    "EOF\n",
    "cat > ipython_magics_files/fun2.py << EOF\n",
    "def return_line():\n",
    "    return \"New line from fun2.py\"\n",
    "EOF"
   ]
  },
  {
   "cell_type": "code",
   "execution_count": 4,
   "id": "83045163-545f-423a-a7f8-41c8c08058cd",
   "metadata": {},
   "outputs": [
    {
     "name": "stdout",
     "output_type": "stream",
     "text": [
      "New line from fun1.py\n",
      "Original line from fun2.py\n"
     ]
    }
   ],
   "source": [
    "print(fun1.return_line())\n",
    "print(fun2.return_line())"
   ]
  }
 ],
 "metadata": {
  "kernelspec": {
   "display_name": "Python 3 (ipykernel)",
   "language": "python",
   "name": "python3"
  },
  "language_info": {
   "codemirror_mode": {
    "name": "ipython",
    "version": 3
   },
   "file_extension": ".py",
   "mimetype": "text/x-python",
   "name": "python",
   "nbconvert_exporter": "python",
   "pygments_lexer": "ipython3",
   "version": "3.10.6"
  }
 },
 "nbformat": 4,
 "nbformat_minor": 5
}
