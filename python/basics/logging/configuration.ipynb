{
 "cells": [
  {
   "cell_type": "markdown",
   "id": "9f2c4f48-cb04-4841-aa82-2e79dacc6ffe",
   "metadata": {},
   "source": [
    "# Configuration\n",
    "\n",
    "The `logging` package contains many facilities to set up the configuration for it. There is even a separate module for it, `logging.config`. This page is focused on such options.\n",
    "\n",
    "Check [documentation of the `logging.config` module](https://docs.python.org/3/library/logging.config.html#module-logging.config)."
   ]
  },
  {
   "cell_type": "code",
   "execution_count": 4,
   "id": "e671bb4a-597f-44e8-8163-b1fc0fd79b64",
   "metadata": {},
   "outputs": [],
   "source": [
    "import logging"
   ]
  },
  {
   "cell_type": "markdown",
   "id": "c2b5bf5d-e7e0-4cec-b0cb-aa3f394a266f",
   "metadata": {},
   "source": [
    "## `ini` file\n",
    "\n",
    "You can store your configuration in the `.ini` files.\n",
    "\n",
    "Read more about `.ini` files:\n",
    "\n",
    "- [configparser](https://docs.python.org/3/library/configparser.html#module-configparser) python package;\n",
    "- [yaml vs ini](https://www.honeybadger.io/blog/python-ini-vs-yaml/) page that describes structure of the ini and yaml files."
   ]
  },
  {
   "cell_type": "markdown",
   "id": "dcbd8bc9-0cf4-48fc-b061-8ee4ca19b835",
   "metadata": {},
   "source": [
    "Here is example of suck `.ini` file."
   ]
  },
  {
   "cell_type": "code",
   "execution_count": 5,
   "id": "bb78b9f9-0bb6-4d26-8aeb-9b4ccd8c0848",
   "metadata": {},
   "outputs": [
    {
     "name": "stdout",
     "output_type": "stream",
     "text": [
      "Overwriting configuration_files/example_logging.ini\n"
     ]
    }
   ],
   "source": [
    "%%writefile configuration_files/example_logging.ini\n",
    "[loggers]\n",
    "keys=root,simpleExample\n",
    "\n",
    "[handlers]\n",
    "keys=consoleHandler\n",
    "\n",
    "[formatters]\n",
    "keys=simpleFormatter\n",
    "\n",
    "[logger_root]\n",
    "level=DEBUG\n",
    "handlers=consoleHandler\n",
    "\n",
    "[logger_simpleExample]\n",
    "level=DEBUG\n",
    "handlers=consoleHandler\n",
    "qualname=simpleExample\n",
    "propagate=0\n",
    "\n",
    "[handler_consoleHandler]\n",
    "class=StreamHandler\n",
    "level=DEBUG\n",
    "formatter=simpleFormatter\n",
    "args=(sys.stdout,)\n",
    "\n",
    "[formatter_simpleFormatter]\n",
    "format=%(asctime)s - %(name)s - %(levelname)s - %(message)s"
   ]
  },
  {
   "cell_type": "markdown",
   "id": "4fa434eb-c2a8-4231-8555-e1fd601284c8",
   "metadata": {},
   "source": [
    "You can use the `logging.config.fileConfig` function to load the configuration file - all it's entities will be added to your program. The following cell uses the config from the previous cell to define it's loggers."
   ]
  },
  {
   "cell_type": "code",
   "execution_count": 7,
   "id": "570de27d-8c9e-4a73-9d05-1c5fa866f03d",
   "metadata": {},
   "outputs": [
    {
     "name": "stdout",
     "output_type": "stream",
     "text": [
      "2024-05-07 15:34:09,986 - simpleExample - DEBUG - test\n"
     ]
    }
   ],
   "source": [
    "logging.config.fileConfig('configuration_files/example_logging.ini')\n",
    "logger = logging.getLogger('simpleExample')\n",
    "logger.debug(\"test\")"
   ]
  }
 ],
 "metadata": {
  "kernelspec": {
   "display_name": "Python 3 (ipykernel)",
   "language": "python",
   "name": "python3"
  },
  "language_info": {
   "codemirror_mode": {
    "name": "ipython",
    "version": 3
   },
   "file_extension": ".py",
   "mimetype": "text/x-python",
   "name": "python",
   "nbconvert_exporter": "python",
   "pygments_lexer": "ipython3",
   "version": "3.10.12"
  }
 },
 "nbformat": 4,
 "nbformat_minor": 5
}
