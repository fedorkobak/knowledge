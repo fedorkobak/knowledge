{
 "cells": [
  {
   "cell_type": "markdown",
   "id": "9f2c4f48-cb04-4841-aa82-2e79dacc6ffe",
   "metadata": {},
   "source": [
    "# Configuration\n",
    "\n",
    "The `logging` package contains many facilities to set up the configuration for it. There is even a separate module for it, `logging.config`. This page is focused on such options.\n",
    "\n",
    "Check [documentation of the `logging.config` module](https://docs.python.org/3/library/logging.config.html#module-logging.config)."
   ]
  },
  {
   "cell_type": "code",
   "execution_count": 4,
   "id": "e671bb4a-597f-44e8-8163-b1fc0fd79b64",
   "metadata": {},
   "outputs": [],
   "source": [
    "import logging"
   ]
  },
  {
   "cell_type": "markdown",
   "id": "c0ef7656-d95b-4da6-bdf4-322f52aa5d87",
   "metadata": {},
   "source": [
    "## dictionary\n",
    "\n",
    "By using `logging.config.dictConfig` function you can cofigure your logging system using python dictionaries. As a consequence, any other format chasing the `key:value` format can be used (`yaml`, `json`, `xml` and so on).\n",
    "\n",
    "It's the configuration method recommended [by official documentation](https://docs.python.org/3/howto/logging.html#configuring-logging) for new applications and deployments.\n",
    "\n",
    "**Note** it may seem that converting yaml, json, etc. into dictionaries and then using `dictConfig` is a crutch, but this is the method recommended by the official documentation."
   ]
  },
  {
   "cell_type": "markdown",
   "id": "14b9076a-ca34-4f6e-80b8-69c342d84e20",
   "metadata": {},
   "source": [
    "### yaml to dict\n",
    "\n",
    "It's pretty trivial task all you need is:\n",
    "\n",
    "- [Basic understanding of the yaml files](https://www.cloudbees.com/blog/yaml-tutorial-everything-you-need-get-started);\n",
    "- [pyaml package](https://pypi.org/project/PyYAML/) - to get yaml file as python dictionary."
   ]
  },
  {
   "cell_type": "markdown",
   "id": "34ee1c74-5e98-467a-b8a4-075120e9079f",
   "metadata": {},
   "source": [
    "The following cell defines a yaml file that can be converted to a dictionary with logging configuration. It'll be a logger that prints to the error stream with the pattern `<-- %(message)s -->`."
   ]
  },
  {
   "cell_type": "code",
   "execution_count": 52,
   "id": "b22d9606-c42a-4e49-868a-e406df37d9b4",
   "metadata": {},
   "outputs": [
    {
     "name": "stdout",
     "output_type": "stream",
     "text": [
      "Overwriting configuration_files/example.yaml\n"
     ]
    }
   ],
   "source": [
    "%%writefile configuration_files/example.yaml\n",
    "version: 1\n",
    "formatters:\n",
    "    simpleFormatter :\n",
    "        format : \"<-- %(message)s -->\"\n",
    "handlers:\n",
    "    consoleHandler:\n",
    "        class: \"logging.StreamHandler\"\n",
    "        formatter: \"simpleFormatter\"\n",
    "loggers:\n",
    "    simpleExample:\n",
    "        level: DEBUG\n",
    "        handlers:\n",
    "            - \"consoleHandler\""
   ]
  },
  {
   "cell_type": "markdown",
   "id": "0a6ba4ed-61e8-4cb5-8f3b-3d0db203ee4c",
   "metadata": {},
   "source": [
    "The next cell loads the previous yaml as a dictionary and shows that all is well."
   ]
  },
  {
   "cell_type": "code",
   "execution_count": 54,
   "id": "55c0b502-fd5e-4187-803c-89c09decc872",
   "metadata": {},
   "outputs": [
    {
     "name": "stderr",
     "output_type": "stream",
     "text": [
      "<-- wow it finally works -->\n"
     ]
    }
   ],
   "source": [
    "import yaml\n",
    "with open(\"configuration_files/example.yaml\", \"r\") as f:\n",
    "    conf_dict = yaml.safe_load(f)\n",
    "\n",
    "\n",
    "logging.config.dictConfig(conf_dict)\n",
    "logger = logging.getLogger(\"simpleExample\")\n",
    "logger.warning(\"wow it finally works\")"
   ]
  },
  {
   "cell_type": "markdown",
   "id": "c2b5bf5d-e7e0-4cec-b0cb-aa3f394a266f",
   "metadata": {},
   "source": [
    "## `ini` file\n",
    "\n",
    "You can store your configuration in the `.ini` files.\n",
    "\n",
    "Read more about `.ini` files:\n",
    "\n",
    "- [configparser](https://docs.python.org/3/library/configparser.html#module-configparser) python package;\n",
    "- [yaml vs ini](https://www.honeybadger.io/blog/python-ini-vs-yaml/) page that describes structure of the ini and yaml files."
   ]
  },
  {
   "cell_type": "markdown",
   "id": "dcbd8bc9-0cf4-48fc-b061-8ee4ca19b835",
   "metadata": {},
   "source": [
    "Here is example of suck `.ini` file."
   ]
  },
  {
   "cell_type": "code",
   "execution_count": 5,
   "id": "bb78b9f9-0bb6-4d26-8aeb-9b4ccd8c0848",
   "metadata": {},
   "outputs": [
    {
     "name": "stdout",
     "output_type": "stream",
     "text": [
      "Overwriting configuration_files/example_logging.ini\n"
     ]
    }
   ],
   "source": [
    "%%writefile configuration_files/example_logging.ini\n",
    "[loggers]\n",
    "keys=root,simpleExample\n",
    "\n",
    "[handlers]\n",
    "keys=consoleHandler\n",
    "\n",
    "[formatters]\n",
    "keys=simpleFormatter\n",
    "\n",
    "[logger_root]\n",
    "level=DEBUG\n",
    "handlers=consoleHandler\n",
    "\n",
    "[logger_simpleExample]\n",
    "level=DEBUG\n",
    "handlers=consoleHandler\n",
    "qualname=simpleExample\n",
    "propagate=0\n",
    "\n",
    "[handler_consoleHandler]\n",
    "class=StreamHandler\n",
    "level=DEBUG\n",
    "formatter=simpleFormatter\n",
    "args=(sys.stdout,)\n",
    "\n",
    "[formatter_simpleFormatter]\n",
    "format=%(asctime)s - %(name)s - %(levelname)s - %(message)s"
   ]
  },
  {
   "cell_type": "markdown",
   "id": "4fa434eb-c2a8-4231-8555-e1fd601284c8",
   "metadata": {},
   "source": [
    "You can use the `logging.config.fileConfig` function to load the configuration file - all it's entities will be added to your program. The following cell uses the config from the previous cell to define it's loggers."
   ]
  },
  {
   "cell_type": "code",
   "execution_count": 7,
   "id": "570de27d-8c9e-4a73-9d05-1c5fa866f03d",
   "metadata": {},
   "outputs": [
    {
     "name": "stdout",
     "output_type": "stream",
     "text": [
      "2024-05-07 15:34:09,986 - simpleExample - DEBUG - test\n"
     ]
    }
   ],
   "source": [
    "logging.config.fileConfig('configuration_files/example_logging.ini')\n",
    "logger = logging.getLogger('simpleExample')\n",
    "logger.debug(\"test\")"
   ]
  }
 ],
 "metadata": {
  "kernelspec": {
   "display_name": "Python 3 (ipykernel)",
   "language": "python",
   "name": "python3"
  },
  "language_info": {
   "codemirror_mode": {
    "name": "ipython",
    "version": 3
   },
   "file_extension": ".py",
   "mimetype": "text/x-python",
   "name": "python",
   "nbconvert_exporter": "python",
   "pygments_lexer": "ipython3",
   "version": "3.10.12"
  }
 },
 "nbformat": 4,
 "nbformat_minor": 5
}
