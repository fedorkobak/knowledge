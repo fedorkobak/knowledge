{
 "cells": [
  {
   "cell_type": "markdown",
   "id": "9567a93a-4b2b-47d3-8089-4311a9f45ebf",
   "metadata": {},
   "source": [
    "# Logging\n",
    "\n",
    "Python has a standard library for logging: `logging`.\n",
    "\n",
    "- [Logging in python: developer guide (rus)](https://habr.com/ru/companies/wunderfund/articles/683880/);\n",
    "- [\"Logging HOWTO\"](https://docs.python.org/3/howto/logging.html#configuring-logging) from docs.python.org contains two tutorials: basic and advanced."
   ]
  },
  {
   "cell_type": "code",
   "execution_count": 1,
   "id": "ad99f98a-b25c-4ad5-8d37-bf7d5e60f725",
   "metadata": {},
   "outputs": [],
   "source": [
    "import sys\n",
    "import logging"
   ]
  },
  {
   "cell_type": "markdown",
   "id": "f03c32c4-e701-40c5-8aa8-ea98258154bb",
   "metadata": {},
   "source": [
    "The core components of the `logging` library are:\n",
    "\n",
    "- Loggers\n",
    "- Handlers\n",
    "- Formatters\n",
    "- Filters\n",
    "\n",
    "Each one defines a specific aspect of log generation."
   ]
  },
  {
   "cell_type": "markdown",
   "id": "e7bda535-aa9c-45e0-8075-448a7530d724",
   "metadata": {},
   "source": [
    "## Loggers\n",
    "\n",
    "For different parts of your program, you may need separate `loggers`. You can create a new logger by using `logging.getLogger(<logger_name>)`. Find out more details in the [specific page](logging/loggers.ipynb)."
   ]
  },
  {
   "cell_type": "markdown",
   "id": "5e6a7fa9",
   "metadata": {},
   "source": [
    "---\n",
    "\n",
    "The following cell demonstrates the creation of `logger1` and `logger2`, along with their immediate usage."
   ]
  },
  {
   "cell_type": "code",
   "execution_count": 2,
   "id": "247b7c3e-4786-453d-9cbf-53e9ec802a7c",
   "metadata": {},
   "outputs": [
    {
     "name": "stderr",
     "output_type": "stream",
     "text": [
      "=====logger1=====\n",
      "A WARNING\n",
      "An ERROR\n",
      "A message of CRITICAL severity\n",
      "=====logger2=====\n",
      "An ERROR\n",
      "A message of CRITICAL severity\n"
     ]
    }
   ],
   "source": [
    "logger1 = logging.getLogger(\"logger1\")\n",
    "logger1.setLevel(logging.INFO)\n",
    "print(\"=====logger1=====\", file=sys.stderr)\n",
    "logger1.debug(\"A DEBUG Message\")\n",
    "logger1.info(\"An INFO\")\n",
    "logger1.warning(\"A WARNING\")\n",
    "logger1.error(\"An ERROR\")\n",
    "logger1.critical(\"A message of CRITICAL severity\")\n",
    "\n",
    "\n",
    "logger2 = logging.getLogger(\"logger2\")\n",
    "logger2.setLevel(logging.ERROR)\n",
    "print(\"=====logger2=====\", file=sys.stderr)\n",
    "logger2.debug(\"A DEBUG Message\")\n",
    "logger2.info(\"An INFO\")\n",
    "logger2.warning(\"A WARNING\")\n",
    "logger2.error(\"An ERROR\")\n",
    "logger2.critical(\"A message of CRITICAL severity\")"
   ]
  },
  {
   "cell_type": "markdown",
   "id": "68568429-89a3-44af-a8c8-3cc3c1771292",
   "metadata": {},
   "source": [
    "## Handlers\n",
    "\n",
    "Defines the direction in which logs are written. It can be files or output streams. You can add handlers to the logger using the `logger.addHandler` method. Check list of the [usefull handlers](https://docs.python.org/3/howto/logging.html#useful-handlers)."
   ]
  },
  {
   "cell_type": "markdown",
   "id": "0f2f05e0",
   "metadata": {},
   "source": [
    "---\n",
    "\n",
    "The following example demonstrates how to add a handler to a logger."
   ]
  },
  {
   "cell_type": "code",
   "execution_count": 3,
   "id": "afae3c70-d032-4f5d-bdb9-3c46d8a926a7",
   "metadata": {},
   "outputs": [
    {
     "name": "stderr",
     "output_type": "stream",
     "text": [
      "It's a error!\n"
     ]
    }
   ],
   "source": [
    "logger = logging.getLogger(\"temp_logger\")\n",
    "stream_handler = logging.StreamHandler()\n",
    "logger.addHandler(stream_handler)\n",
    "logger.critical(\"It's a error!\")\n",
    "# to prevent adding a handler for each\n",
    "# run of this cell, we'll delete just\n",
    "# added logger\n",
    "del logger.handlers[0]"
   ]
  },
  {
   "cell_type": "markdown",
   "id": "8d1de016-2ee8-4faa-a454-47884e4e4ec8",
   "metadata": {},
   "source": [
    "There is a [specfic page describing handlers](./logging/handler.ipynb)."
   ]
  },
  {
   "cell_type": "markdown",
   "id": "a5699061-d856-4fcd-9d2c-4d81ef9fab88",
   "metadata": {},
   "source": [
    "## Formatters\n",
    "\n",
    "Formatters define how each line of the log is to be printed. You must set the formatter for the handler using the `handler.setFormatter` method."
   ]
  },
  {
   "cell_type": "markdown",
   "id": "a843c5f4",
   "metadata": {},
   "source": [
    "---\n",
    "\n",
    "The following example defines formatter for given logger."
   ]
  },
  {
   "cell_type": "code",
   "execution_count": 4,
   "id": "eddbdedb-5ac3-4baa-8355-77deccf0b1fd",
   "metadata": {},
   "outputs": [
    {
     "name": "stderr",
     "output_type": "stream",
     "text": [
      "2024-08-29 15:15:36,721 - some_logger - ERROR - It's error\n"
     ]
    }
   ],
   "source": [
    "logger = logging.getLogger(\"some_logger\")\n",
    "stream_handler = logging.StreamHandler()\n",
    "formatter = logging.Formatter('%(asctime)s - %(name)s - %(levelname)s - %(message)s')\n",
    "stream_handler.setFormatter(formatter)\n",
    "logger.addHandler(stream_handler)\n",
    "logger.error(\"It's error\")\n",
    "del logger.handlers[0]"
   ]
  },
  {
   "cell_type": "markdown",
   "id": "13ca3f54-db9b-4bc9-b868-cb4006fc66a0",
   "metadata": {},
   "source": [
    "## Configuration\n",
    "\n",
    "There are some tools that allows to configure `logging` module from optional `key:value` like formats.\n",
    "\n",
    "There is [special page](logging/configuration.ipynb) about aspects of working with it."
   ]
  },
  {
   "cell_type": "markdown",
   "id": "3626eff2-3a4b-405c-8310-d602ceca6470",
   "metadata": {},
   "source": [
    "---\n",
    "\n",
    "Here's a simple example of how to configure an entire logging module using Python dictionaries. In this example, a logger named `simpleExample` is created with a specific formatter to ensure the logs have the desired format."
   ]
  },
  {
   "cell_type": "code",
   "execution_count": 5,
   "id": "f5f988fd-a7c2-4e7e-b7c9-8477248b525f",
   "metadata": {},
   "outputs": [
    {
     "name": "stderr",
     "output_type": "stream",
     "text": [
      "I'm created from config :) {it's message}\n"
     ]
    }
   ],
   "source": [
    "logging.config.dictConfig({\n",
    "    \"version\" : 1,\n",
    "    \"formatters\" : {\n",
    "        \"simpleFormatter\" : {\n",
    "            \"format\" : \"I'm created from config :) %(message)s\"\n",
    "        }\n",
    "    },\n",
    "    \"handlers\" : {\n",
    "        \"consoleHandler\" : {\n",
    "            \"class\" : \"logging.StreamHandler\",\n",
    "            \"formatter\" : \"simpleFormatter\"\n",
    "        }\n",
    "    },\n",
    "    \"loggers\" : {\n",
    "        \"simpleExample\" : {\n",
    "            \"handlers\" : [\"consoleHandler\"]\n",
    "        }\n",
    "    }\n",
    "})\n",
    "\n",
    "logging.getLogger(\"simpleExample\").error(\"{it's message}\")"
   ]
  },
  {
   "cell_type": "markdown",
   "id": "2e940810-3665-4b4e-bf4c-5407be18e3b9",
   "metadata": {},
   "source": [
    "It is the preferred way to configure the logs, because anyone who is not involved with the code can participate in configuring the logs."
   ]
  },
  {
   "cell_type": "markdown",
   "id": "0b78b740",
   "metadata": {},
   "source": [
    "## Root logger\n",
    "\n",
    "This logger is used when you run the logging methods of the `logging` module itself."
   ]
  },
  {
   "cell_type": "markdown",
   "id": "548feee4",
   "metadata": {},
   "source": [
    "Using the `logging.basicConfig` function, you can define the behaviour of the logs generated by the `logging` module. The following example defines the `DEBUG` logging level so that you can later see any message raised by the `logging` methods. By default only `warning`, `error` and `critical` are executed.\n",
    "\n",
    "**Note** In the following example, the code is saving the logs to a separate file and executing it from another interpreter. This approach is necessary because once you execute any logging method in this notebook, you cannot modify its configuration anymore."
   ]
  },
  {
   "cell_type": "code",
   "execution_count": 6,
   "id": "3df49a7b",
   "metadata": {},
   "outputs": [
    {
     "name": "stdout",
     "output_type": "stream",
     "text": [
      "Overwriting logging_files/basic_logger.py\n"
     ]
    }
   ],
   "source": [
    "%%writefile logging_files/basic_logger.py\n",
    "import logging\n",
    "logging.basicConfig(level=logging.DEBUG)\n",
    "\n",
    "logging.debug(\"A DEBUG Message\")\n",
    "logging.info(\"An INFO\")\n",
    "logging.warning(\"A WARNING\")\n",
    "logging.error(\"An ERROR\")\n",
    "logging.critical(\"A message of CRITICAL severity\")"
   ]
  },
  {
   "cell_type": "code",
   "execution_count": 7,
   "id": "f6bed59b",
   "metadata": {},
   "outputs": [
    {
     "name": "stdout",
     "output_type": "stream",
     "text": [
      "DEBUG:root:A DEBUG Message\n",
      "INFO:root:An INFO\n",
      "WARNING:root:A WARNING\n",
      "ERROR:root:An ERROR\n",
      "CRITICAL:root:A message of CRITICAL severity\n"
     ]
    }
   ],
   "source": [
    "!python3 logging_files/basic_logger.py"
   ]
  },
  {
   "cell_type": "markdown",
   "id": "3239b16e",
   "metadata": {},
   "source": [
    "### Format\n",
    "\n",
    "To set up the format for the basic logger, you should use the `format` parameter of the `logging.basicConfig` function."
   ]
  },
  {
   "cell_type": "markdown",
   "id": "de1e7afd",
   "metadata": {},
   "source": [
    "The following example sets up basic logger to print the time of the event and it's message."
   ]
  },
  {
   "cell_type": "code",
   "execution_count": 8,
   "id": "c2ebb433",
   "metadata": {},
   "outputs": [
    {
     "name": "stdout",
     "output_type": "stream",
     "text": [
      "Overwriting logging_files/basic_logger.py\n"
     ]
    }
   ],
   "source": [
    "%%writefile logging_files/basic_logger.py\n",
    "import logging\n",
    "logging.basicConfig(format='%(asctime)s %(message)s')\n",
    "\n",
    "logging.debug(\"A DEBUG Message\")\n",
    "logging.info(\"An INFO\")\n",
    "logging.warning(\"A WARNING\")\n",
    "logging.error(\"An ERROR\")\n",
    "logging.critical(\"A message of CRITICAL severity\")"
   ]
  },
  {
   "cell_type": "code",
   "execution_count": 9,
   "id": "79661372",
   "metadata": {},
   "outputs": [
    {
     "name": "stdout",
     "output_type": "stream",
     "text": [
      "2024-08-29 15:17:28,681 A WARNING\n",
      "2024-08-29 15:17:28,681 An ERROR\n",
      "2024-08-29 15:17:28,681 A message of CRITICAL severity\n"
     ]
    }
   ],
   "source": [
    "!python3 logging_files/basic_logger.py"
   ]
  },
  {
   "cell_type": "markdown",
   "id": "a04213bb",
   "metadata": {},
   "source": [
    "To check format of the basic logger you need:\n",
    "\n",
    "- Use `logging.getLogger()` to get the basic logger;\n",
    "- Grab the handler you're interested in. By default, basic loggers have only one handler;\n",
    "- The `formatter._fmt` field of the handler would be a string defining the format."
   ]
  },
  {
   "cell_type": "markdown",
   "id": "66d6c1af",
   "metadata": {},
   "source": [
    "The following cell prints the notebooks handler format."
   ]
  },
  {
   "cell_type": "code",
   "execution_count": 28,
   "id": "6dc65bb7",
   "metadata": {},
   "outputs": [
    {
     "name": "stderr",
     "output_type": "stream",
     "text": [
      "WARNING:test\n"
     ]
    },
    {
     "name": "stdout",
     "output_type": "stream",
     "text": [
      "%(levelname)s:%(message)s\n"
     ]
    }
   ],
   "source": [
    "logging.basicConfig(format=\"%(levelname)s => %(message)s\")\n",
    "basic_logger = logging.getLogger()\n",
    "print(basic_logger.handlers[0].formatter._fmt)\n",
    "logging.warning(\"test\")"
   ]
  }
 ],
 "metadata": {
  "kernelspec": {
   "display_name": "Python 3 (ipykernel)",
   "language": "python",
   "name": "python3"
  },
  "language_info": {
   "codemirror_mode": {
    "name": "ipython",
    "version": 3
   },
   "file_extension": ".py",
   "mimetype": "text/x-python",
   "name": "python",
   "nbconvert_exporter": "python",
   "pygments_lexer": "ipython3",
   "version": "3.10.12"
  }
 },
 "nbformat": 4,
 "nbformat_minor": 5
}
