{
 "cells": [
  {
   "cell_type": "markdown",
   "id": "73271500-5521-4f2e-86ce-55e542c0f574",
   "metadata": {},
   "source": [
    "# File system operations\n",
    "\n",
    "In python there are tools to operate with filesystem. Basically using the `os` library for this purpose."
   ]
  },
  {
   "cell_type": "code",
   "execution_count": 9,
   "id": "40314da5-886a-4cce-9528-a4ff44f0e817",
   "metadata": {},
   "outputs": [],
   "source": [
    "import os\n",
    "from pathlib import Path"
   ]
  },
  {
   "cell_type": "markdown",
   "id": "7c3d6748-fd7b-4061-9fe3-1b0b4878a602",
   "metadata": {},
   "source": [
    "## List files/folders\n",
    "\n",
    "`os.listdir()` allows you to get a Python `list[str]` containing folders from the path passed as an argument. The following example lists the files on the page where this notebook was running:"
   ]
  },
  {
   "cell_type": "code",
   "execution_count": 10,
   "id": "c18c1e04-6ee3-4adc-a295-1a19c8cc427b",
   "metadata": {},
   "outputs": [
    {
     "data": {
      "text/plain": [
       "'.ipynb_checkpoints|paths_settings|operators.md|operators|file_system_operations_files|logging|regex|paths_settings.md|packages.ipynb|ipython_magics_files|logging.ipynb|basic_datatypes.md|cli_arguments.md|functions.ipynb|exceptions.ipynb|virtual_environment.ipynb|basic_datatypes|logging_files|file_system_operation.ipynb|cli_arguments'"
      ]
     },
     "execution_count": 10,
     "metadata": {},
     "output_type": "execute_result"
    }
   ],
   "source": [
    "\"|\".join(os.listdir())"
   ]
  },
  {
   "cell_type": "markdown",
   "id": "a9c4f5cc-2b08-4a67-9598-09b55d6bf0d6",
   "metadata": {},
   "source": [
    "### Apply to the file\n",
    "\n",
    "If you try to apply this function to the file, you'll get an error. The following example shows this:"
   ]
  },
  {
   "cell_type": "code",
   "execution_count": 14,
   "id": "439ecb4a-249d-40e5-b699-57ae039d56df",
   "metadata": {},
   "outputs": [
    {
     "name": "stdout",
     "output_type": "stream",
     "text": [
      "[Errno 20] Not a directory: 'basic_datatypes.md'\n"
     ]
    }
   ],
   "source": [
    "try:\n",
    "    os.listdir(\"basic_datatypes.md\")\n",
    "except Exception as e:\n",
    "    print(e)"
   ]
  },
  {
   "cell_type": "markdown",
   "id": "f14912f8-c351-48b6-8cd3-3088f1fc32df",
   "metadata": {},
   "source": [
    "## Create/remove folder\n",
    "\n",
    "You can use `os.mkdir` and `so.rmdir` to create and delete folders accordingly. The following cell shows how a folder appears in a folder and then is removed from it:"
   ]
  },
  {
   "cell_type": "code",
   "execution_count": 26,
   "id": "eae93c5d-94fd-4656-9256-8d67d1799afe",
   "metadata": {},
   "outputs": [
    {
     "name": "stdout",
     "output_type": "stream",
     "text": [
      "Initial content - []\n",
      "After creation content - ['my_directory']\n",
      "After removing content - []\n"
     ]
    }
   ],
   "source": [
    "considered_folder = Path(\"file_system_operations_files\")\n",
    "\n",
    "print(\"Initial content -\", os.listdir(considered_folder))\n",
    "os.mkdir(considered_folder/\"my_directory\")\n",
    "print(\"After creation content -\", os.listdir(considered_folder))\n",
    "os.rmdir(considered_folder/\"my_directory\")\n",
    "print(\"After removing content -\", os.listdir(considered_folder))"
   ]
  },
  {
   "cell_type": "markdown",
   "id": "36582c1d-c80a-44f3-8b9e-7b52eb53197c",
   "metadata": {},
   "source": [
    "## Check if exists\n",
    "\n",
    "With `os.path.exists` you can check if a folder exists. The following example uses it for folder before creation and after creation - corresponding results:"
   ]
  },
  {
   "cell_type": "code",
   "execution_count": 30,
   "id": "5205faf9-7876-486d-872a-fe76ea32c4aa",
   "metadata": {},
   "outputs": [
    {
     "name": "stdout",
     "output_type": "stream",
     "text": [
      "Before creating - False\n",
      "After creating - True\n"
     ]
    }
   ],
   "source": [
    "considered_folder = Path(\"file_system_operations_files\")\n",
    "\n",
    "print(\n",
    "    \"Before creating -\", \n",
    "    os.path.exists(considered_folder/\"my_directory\")\n",
    ")\n",
    "os.mkdir(considered_folder/\"my_directory\")\n",
    "\n",
    "print(\n",
    "    \"After creating -\", \n",
    "    os.path.exists(considered_folder/\"my_directory\")\n",
    ")\n",
    "os.rmdir(considered_folder/\"my_directory\")"
   ]
  }
 ],
 "metadata": {
  "kernelspec": {
   "display_name": "Python 3 (ipykernel)",
   "language": "python",
   "name": "python3"
  },
  "language_info": {
   "codemirror_mode": {
    "name": "ipython",
    "version": 3
   },
   "file_extension": ".py",
   "mimetype": "text/x-python",
   "name": "python",
   "nbconvert_exporter": "python",
   "pygments_lexer": "ipython3",
   "version": "3.10.12"
  }
 },
 "nbformat": 4,
 "nbformat_minor": 5
}
