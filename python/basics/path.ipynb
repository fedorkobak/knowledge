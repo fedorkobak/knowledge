{
 "cells": [
  {
   "cell_type": "markdown",
   "id": "a6dac00e-1a94-4535-9047-e63414ff904e",
   "metadata": {},
   "source": [
    "# Path\n",
    "\n",
    "This page focuses on the system interpreter’s accessible paths during runtime and how to construct these paths."
   ]
  },
  {
   "cell_type": "code",
   "execution_count": 4,
   "id": "af48b5f4",
   "metadata": {},
   "outputs": [],
   "source": [
    "import os"
   ]
  },
  {
   "cell_type": "markdown",
   "id": "74cdcc2f-b7d1-4bd8-a980-5e1237d1a730",
   "metadata": {},
   "source": [
    "## Current working directory (CWD)\n",
    "\n",
    "The **current working directory** (CWD) in Python is the directory in which a Python script or interactive session is being executed. It serves as the default directory for relative file paths, meaning that any file operations that use relative paths will be performed within this directory unless explicitly stated otherwise."
   ]
  },
  {
   "cell_type": "markdown",
   "id": "2d5740c1-b10e-4043-9c8d-8cbb0b2dd447",
   "metadata": {},
   "source": [
    "You can access current working directory using `os.getcwd`."
   ]
  },
  {
   "cell_type": "code",
   "execution_count": 8,
   "id": "30fec0a9-4b42-432d-baaf-383a34ac11f9",
   "metadata": {},
   "outputs": [
    {
     "data": {
      "text/plain": [
       "'/home/f.kobak@maxbit.local/Documents/knowledge/python/basics'"
      ]
     },
     "execution_count": 8,
     "metadata": {},
     "output_type": "execute_result"
    }
   ],
   "source": [
    "import os\n",
    "os.getcwd()"
   ]
  },
  {
   "cell_type": "markdown",
   "id": "d69e95a0-f4dd-4d02-8370-c5857eee784c",
   "metadata": {},
   "source": [
    "You can chage CWD using `os.chdir`."
   ]
  },
  {
   "cell_type": "code",
   "execution_count": 10,
   "id": "5f3e34d5-5f4c-4b1e-ab1f-34363989bb9e",
   "metadata": {},
   "outputs": [
    {
     "name": "stdout",
     "output_type": "stream",
     "text": [
      "/home/f.kobak@maxbit.local/Documents/knowledge/python/basics/path_settings_files\n"
     ]
    }
   ],
   "source": [
    "initial_cwd = os.getcwd()\n",
    "os.chdir(os.path.join(initial_cwd, \"path_settings_files\"))\n",
    "print(os.getcwd())\n",
    "# returnning back initial CWD\n",
    "os.chdir(initial_cwd)"
   ]
  },
  {
   "cell_type": "markdown",
   "id": "f8d7ad10",
   "metadata": {},
   "source": [
    "## Pathlib\n",
    "\n",
    "`pathlib` is a library that simplifies working with system paths in Python:\n",
    "\n",
    "- Check [official documentation](https://docs.python.org/3/library/pathlib.html) for this `pathlib`.\n",
    "- Check [specific page](path/pathlib.ipynb) about this library in this site."
   ]
  },
  {
   "cell_type": "markdown",
   "id": "6ae2c4a6",
   "metadata": {},
   "source": [
    "---\n",
    "\n",
    "The core of this library is the `Path` object, which can be initialized with any desired path. The floating cell demonstrates this:"
   ]
  },
  {
   "cell_type": "code",
   "execution_count": 4,
   "id": "28d72f78",
   "metadata": {},
   "outputs": [
    {
     "data": {
      "text/plain": [
       "PosixPath('/home/fedor/Documents/knowledge/python/basics')"
      ]
     },
     "metadata": {},
     "output_type": "display_data"
    }
   ],
   "source": [
    "import os\n",
    "import pathlib\n",
    "\n",
    "path = pathlib.Path(os.getcwd())\n",
    "display(path)"
   ]
  },
  {
   "cell_type": "markdown",
   "id": "8971fcdf",
   "metadata": {},
   "source": [
    "With the created `PosixPath` instance, you can easily retrieve root paths using the `parent` attribute or append a new section by using the `/` operator. `pathlib` will automatically add the appropriate directory separator for your system:"
   ]
  },
  {
   "cell_type": "code",
   "execution_count": 8,
   "id": "e1a60fe7",
   "metadata": {},
   "outputs": [
    {
     "data": {
      "text/plain": [
       "PosixPath('/home/fedor/Documents/knowledge/python')"
      ]
     },
     "metadata": {},
     "output_type": "display_data"
    },
    {
     "data": {
      "text/plain": [
       "PosixPath('/home/fedor/Documents/knowledge/python/basics/my folder')"
      ]
     },
     "metadata": {},
     "output_type": "display_data"
    }
   ],
   "source": [
    "display(path.parent)\n",
    "display(path/\"my folder\")"
   ]
  },
  {
   "cell_type": "markdown",
   "id": "4116f48b",
   "metadata": {},
   "source": [
    "By applying the `str` function to the `PosixPath`, you can obtain a string representation:"
   ]
  },
  {
   "cell_type": "code",
   "execution_count": 9,
   "id": "a23022e7",
   "metadata": {},
   "outputs": [
    {
     "data": {
      "text/plain": [
       "'/home/fedor/Documents/knowledge/python/basics'"
      ]
     },
     "execution_count": 9,
     "metadata": {},
     "output_type": "execute_result"
    }
   ],
   "source": [
    "str(path)"
   ]
  }
 ],
 "metadata": {
  "kernelspec": {
   "display_name": "Python 3 (ipykernel)",
   "language": "python",
   "name": "python3"
  },
  "language_info": {
   "codemirror_mode": {
    "name": "ipython",
    "version": 3
   },
   "file_extension": ".py",
   "mimetype": "text/x-python",
   "name": "python",
   "nbconvert_exporter": "python",
   "pygments_lexer": "ipython3",
   "version": "3.10.12"
  }
 },
 "nbformat": 4,
 "nbformat_minor": 5
}
