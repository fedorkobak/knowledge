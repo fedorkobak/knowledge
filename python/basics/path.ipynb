{
 "cells": [
  {
   "cell_type": "markdown",
   "id": "a6dac00e-1a94-4535-9047-e63414ff904e",
   "metadata": {},
   "source": [
    "# Path\n",
    "\n",
    "This page focuses on the system interpreter’s accessible paths during runtime and how to construct these paths."
   ]
  },
  {
   "cell_type": "code",
   "execution_count": 4,
   "id": "af48b5f4",
   "metadata": {},
   "outputs": [],
   "source": [
    "import os"
   ]
  },
  {
   "cell_type": "markdown",
   "id": "31e5cddd-c79e-4c08-8320-321279a53533",
   "metadata": {},
   "source": [
    "## Sources folder (`sys.path`)\n",
    "\n",
    "Moduel `sys` has list `path` it defines where interpreter will look for modules."
   ]
  },
  {
   "cell_type": "markdown",
   "id": "b0df7faf",
   "metadata": {},
   "source": [
    "---\n",
    "\n",
    "The following cell displays all the paths where Python searches for imports."
   ]
  },
  {
   "cell_type": "code",
   "execution_count": 3,
   "id": "ab68066c-d1a9-460d-817d-c0b775c4b99a",
   "metadata": {},
   "outputs": [
    {
     "data": {
      "text/plain": [
       "['/usr/lib/python310.zip',\n",
       " '/usr/lib/python3.10',\n",
       " '/usr/lib/python3.10/lib-dynload',\n",
       " '',\n",
       " '/home/f-kobak-distance-desctop/Documents/knowledge/venv/lib/python3.10/site-packages']"
      ]
     },
     "execution_count": 3,
     "metadata": {},
     "output_type": "execute_result"
    }
   ],
   "source": [
    "import sys\n",
    "sys.path"
   ]
  },
  {
   "cell_type": "markdown",
   "id": "d66f2497-f3ab-41c7-9723-59f1499aaf61",
   "metadata": {},
   "source": [
    "### Add item\n",
    "\n",
    "The simplest way to solve file access problems is to add the appropriate directory to the `os.path` list."
   ]
  },
  {
   "cell_type": "markdown",
   "id": "89e0832d-94a2-4a0a-9174-2bf15c0ff6a7",
   "metadata": {},
   "source": [
    "In the following cell I just create a python file that cantain only one print - printing the message marks that the module has been successfully loaded. It is created in the folder `python_path_files/some_hidden_module` so that files from `python_path_files` cannot see it."
   ]
  },
  {
   "cell_type": "code",
   "execution_count": 4,
   "id": "3f40ade6-8b80-4431-b3a9-1cb4fc7bef28",
   "metadata": {},
   "outputs": [
    {
     "name": "stdout",
     "output_type": "stream",
     "text": [
      "Overwriting path_settings_files/some_hidden_module/test_module.py\n"
     ]
    }
   ],
   "source": [
    "%%writefile path_settings_files/some_hidden_module/test_module.py\n",
    "print(\"Test module successfully loaded!\")"
   ]
  },
  {
   "cell_type": "markdown",
   "id": "915155c7-aa23-4415-94e7-58d8ff0226e4",
   "metadata": {},
   "source": [
    "Next cell defines file in `python_path_files`. It will try to import file from previous cell before and after `some_hiddem_module` added to `sys.path`, in fail case it will print a corresponding message."
   ]
  },
  {
   "cell_type": "code",
   "execution_count": 5,
   "id": "d40a2244-29d3-48c8-b735-489e61956490",
   "metadata": {},
   "outputs": [
    {
     "name": "stdout",
     "output_type": "stream",
     "text": [
      "Overwriting path_settings_files/append_to_path.py\n"
     ]
    }
   ],
   "source": [
    "%%writefile path_settings_files/append_to_path.py\n",
    "import os\n",
    "import sys\n",
    "\n",
    "\n",
    "def try_import_module():\n",
    "    try:\n",
    "        import test_module\n",
    "    except ModuleNotFoundError:\n",
    "        print(\"Module import went wrong!\")\n",
    "\n",
    "try_import_module()\n",
    "sys.path.append(\"some_hidden_module\")\n",
    "try_import_module()"
   ]
  },
  {
   "cell_type": "markdown",
   "id": "cfc0e703-e770-404f-a1af-3d39b5ed82b0",
   "metadata": {},
   "source": [
    "The run of the file show:\n",
    "\n",
    "- In the first case I got an error message;\n",
    "- But after appending `some_hidden_module` to `sys.path` everything works fine."
   ]
  },
  {
   "cell_type": "code",
   "execution_count": 6,
   "id": "f83f0306-6ac4-41aa-9760-a1fe65d35a4e",
   "metadata": {},
   "outputs": [
    {
     "name": "stdout",
     "output_type": "stream",
     "text": [
      "Module import went wrong!\n",
      "Test module successfully loaded!\n"
     ]
    }
   ],
   "source": [
    "%%bash\n",
    "cd path_settings_files\n",
    "python3 append_to_path.py"
   ]
  },
  {
   "cell_type": "markdown",
   "id": "54309bfb-6a24-4b93-8ef6-d0a6ef11bd2b",
   "metadata": {},
   "source": [
    "## Environment variable"
   ]
  },
  {
   "cell_type": "markdown",
   "id": "c10a9a2e-a9ab-4fd8-a8c6-55dca1b7d54c",
   "metadata": {},
   "source": [
    "You can define the environment variable `PYTHONPATH` and list the paths with \":\" - they will automatically appear in the `sys.path` of python running in that environment."
   ]
  },
  {
   "cell_type": "markdown",
   "id": "2859cf39-58ee-4c22-8953-12e7077d4cce",
   "metadata": {},
   "source": [
    "In the following cell we have run some code that defines `PYTHONPATH` as two paths separated by \":\", then run a script that prints out `sys.path`. As a result you can see that the mentioned paths have been added to the `sys.path` list."
   ]
  },
  {
   "cell_type": "code",
   "execution_count": 7,
   "id": "961d8652-c989-4f9f-8bbd-50b031856860",
   "metadata": {},
   "outputs": [
    {
     "name": "stdout",
     "output_type": "stream",
     "text": [
      "example/path1:example/path2\n",
      "\n",
      "=====python output=====\n",
      "/home/f.kobak@maxbit.local/Documents/knowledge/python/basics/path_settings_files\n",
      "/home/f.kobak@maxbit.local/Documents/knowledge/python/basics/example/path1\n",
      "/home/f.kobak@maxbit.local/Documents/knowledge/python/basics/example/path2\n",
      "/usr/lib/python310.zip\n",
      "/usr/lib/python3.10\n",
      "/usr/lib/python3.10/lib-dynload\n",
      "/home/f.kobak@maxbit.local/.local/lib/python3.10/site-packages\n",
      "/usr/local/lib/python3.10/dist-packages\n",
      "/usr/lib/python3/dist-packages\n"
     ]
    }
   ],
   "source": [
    "%%bash\n",
    "export PYTHONPATH=\"example/path1:example/path2\"\n",
    "echo $PYTHONPATH\n",
    "\n",
    "echo\n",
    "echo \"=====python output=====\"\n",
    "python3 path_settings_files/print_sys_folder.py"
   ]
  },
  {
   "cell_type": "markdown",
   "id": "74cdcc2f-b7d1-4bd8-a980-5e1237d1a730",
   "metadata": {},
   "source": [
    "## Current working directory (CWD)\n",
    "\n",
    "The **current working directory** (CWD) in Python is the directory in which a Python script or interactive session is being executed. It serves as the default directory for relative file paths, meaning that any file operations that use relative paths will be performed within this directory unless explicitly stated otherwise."
   ]
  },
  {
   "cell_type": "markdown",
   "id": "2d5740c1-b10e-4043-9c8d-8cbb0b2dd447",
   "metadata": {},
   "source": [
    "You can access current working directory using `os.getcwd`."
   ]
  },
  {
   "cell_type": "code",
   "execution_count": 8,
   "id": "30fec0a9-4b42-432d-baaf-383a34ac11f9",
   "metadata": {},
   "outputs": [
    {
     "data": {
      "text/plain": [
       "'/home/f.kobak@maxbit.local/Documents/knowledge/python/basics'"
      ]
     },
     "execution_count": 8,
     "metadata": {},
     "output_type": "execute_result"
    }
   ],
   "source": [
    "import os\n",
    "os.getcwd()"
   ]
  },
  {
   "cell_type": "markdown",
   "id": "d69e95a0-f4dd-4d02-8370-c5857eee784c",
   "metadata": {},
   "source": [
    "You can chage CWD using `os.chdir`."
   ]
  },
  {
   "cell_type": "code",
   "execution_count": 10,
   "id": "5f3e34d5-5f4c-4b1e-ab1f-34363989bb9e",
   "metadata": {},
   "outputs": [
    {
     "name": "stdout",
     "output_type": "stream",
     "text": [
      "/home/f.kobak@maxbit.local/Documents/knowledge/python/basics/path_settings_files\n"
     ]
    }
   ],
   "source": [
    "initial_cwd = os.getcwd()\n",
    "os.chdir(os.path.join(initial_cwd, \"path_settings_files\"))\n",
    "print(os.getcwd())\n",
    "# returnning back initial CWD\n",
    "os.chdir(initial_cwd)"
   ]
  }
 ],
 "metadata": {
  "kernelspec": {
   "display_name": "Python 3 (ipykernel)",
   "language": "python",
   "name": "python3"
  },
  "language_info": {
   "codemirror_mode": {
    "name": "ipython",
    "version": 3
   },
   "file_extension": ".py",
   "mimetype": "text/x-python",
   "name": "python",
   "nbconvert_exporter": "python",
   "pygments_lexer": "ipython3",
   "version": "3.10.14"
  }
 },
 "nbformat": 4,
 "nbformat_minor": 5
}
