{
 "cells": [
  {
   "cell_type": "markdown",
   "id": "8cf8808a-d572-43ca-a66e-9730ea36b416",
   "metadata": {},
   "source": [
    "# Basic data types\n",
    "\n",
    "This page is dedicated to describing the operation of the basic data types: their properties, methods and features."
   ]
  },
  {
   "cell_type": "markdown",
   "id": "f4d803cf-5593-432f-a2cf-0a73b7861d95",
   "metadata": {},
   "source": [
    "# `List`\n",
    "\n",
    "Is an array that you can change at runtime."
   ]
  },
  {
   "cell_type": "markdown",
   "id": "39894b89-c0aa-4771-b1db-8cd39ae0a7eb",
   "metadata": {},
   "source": [
    "## `pop` - delete by index\n",
    "\n",
    "You can delete element by index and get it back."
   ]
  },
  {
   "cell_type": "code",
   "execution_count": 1,
   "id": "e408d5c4-3873-4d56-9e5e-566f8d8cdb0d",
   "metadata": {},
   "outputs": [
    {
     "name": "stdout",
     "output_type": "stream",
     "text": [
      "Poped element 5\n",
      "Result list [3, 4, 2]\n"
     ]
    }
   ],
   "source": [
    "test_list = [3,4,5,2]\n",
    "print(\"Poped element\", test_list.pop(2))\n",
    "print(\"Result list\", test_list)"
   ]
  },
  {
   "cell_type": "markdown",
   "id": "c1eecb83-3c10-45a4-86e1-39211b63a240",
   "metadata": {},
   "source": [
    "By default it deltes the first element."
   ]
  },
  {
   "cell_type": "code",
   "execution_count": 2,
   "id": "e2f73210-b7cf-435a-901d-d6561b8168f4",
   "metadata": {},
   "outputs": [
    {
     "name": "stdout",
     "output_type": "stream",
     "text": [
      "Poped elemnt 3\n",
      "Result list [5, 6, 4]\n"
     ]
    }
   ],
   "source": [
    "test_list = [5,6,4,3]\n",
    "print(\"Poped elemnt\", test_list.pop())\n",
    "print(\"Result list\", test_list)"
   ]
  },
  {
   "cell_type": "markdown",
   "id": "fe8ed16b-ae24-407b-85bf-833deb17854a",
   "metadata": {},
   "source": [
    "## `remove` - delete by value"
   ]
  },
  {
   "cell_type": "markdown",
   "id": "ae136739-d9cc-4caa-8eb1-d3d0f5fdeeb5",
   "metadata": {},
   "source": [
    "You can delete element by value."
   ]
  },
  {
   "cell_type": "code",
   "execution_count": 3,
   "id": "bd71fdfd-241f-4aee-8fcd-00d7c11d144d",
   "metadata": {},
   "outputs": [
    {
     "name": "stdout",
     "output_type": "stream",
     "text": [
      "initial list [4, 5, 4, 5]\n",
      "resutl list [5, 4, 5]\n"
     ]
    }
   ],
   "source": [
    "test_list = [4,5,4,5]\n",
    "print(\"initial list\", test_list)\n",
    "test_list.remove(4)\n",
    "print(\"resutl list\", test_list)"
   ]
  },
  {
   "cell_type": "markdown",
   "id": "3213d945-82d8-4ea3-8cf2-aa04f551e95b",
   "metadata": {},
   "source": [
    "**Note** that if there's no removing value in the source list, you'll have an error."
   ]
  },
  {
   "cell_type": "code",
   "execution_count": 4,
   "id": "813e4a7e-70bf-4afe-af16-8dc033d646a6",
   "metadata": {},
   "outputs": [
    {
     "ename": "ValueError",
     "evalue": "list.remove(x): x not in list",
     "output_type": "error",
     "traceback": [
      "\u001b[0;31m---------------------------------------------------------------------------\u001b[0m",
      "\u001b[0;31mValueError\u001b[0m                                Traceback (most recent call last)",
      "Cell \u001b[0;32mIn[4], line 2\u001b[0m\n\u001b[1;32m      1\u001b[0m test_list \u001b[38;5;241m=\u001b[39m [\u001b[38;5;241m5\u001b[39m,\u001b[38;5;241m3\u001b[39m,\u001b[38;5;241m4\u001b[39m,\u001b[38;5;241m1\u001b[39m]\n\u001b[0;32m----> 2\u001b[0m \u001b[43mtest_list\u001b[49m\u001b[38;5;241;43m.\u001b[39;49m\u001b[43mremove\u001b[49m\u001b[43m(\u001b[49m\u001b[38;5;241;43m6\u001b[39;49m\u001b[43m)\u001b[49m\n",
      "\u001b[0;31mValueError\u001b[0m: list.remove(x): x not in list"
     ]
    }
   ],
   "source": [
    "test_list = [5,3,4,1]\n",
    "test_list.remove(6)"
   ]
  },
  {
   "cell_type": "markdown",
   "id": "00fb32af-0ad8-46d8-8be9-21f4d163abba",
   "metadata": {},
   "source": [
    "## `index` - index of value\n",
    "\n",
    "Using this method you can get the index by which you can get the first occurrence of this element in the list.\n",
    "\n",
    "In the following example I ask `.index(3)` and got 2 as a result because the first occurrence of number 3 in the 2 index.\n",
    "\n",
    "**Note** any other entry of the element will be ignored, just like the second 3 value with 4 index in the example."
   ]
  },
  {
   "cell_type": "code",
   "execution_count": 17,
   "id": "501bdfc2-38c3-4bfd-a74a-55cc15b2ec7b",
   "metadata": {},
   "outputs": [
    {
     "data": {
      "text/plain": [
       "2"
      ]
     },
     "execution_count": 17,
     "metadata": {},
     "output_type": "execute_result"
    }
   ],
   "source": [
    "test_list = [1,2,3,4,3,5]\n",
    "test_list.index(3)"
   ]
  },
  {
   "cell_type": "markdown",
   "id": "38f49e68-5d80-4ebd-9d34-06e6687b4791",
   "metadata": {},
   "source": [
    "## `appned` vs `+`\n",
    "\n",
    "There are two common ways to extend a Python list: by using the `append` method and the `+` operator. There is a significant difference: `+` creates a new list and copies operands to it, but `append` changes the initial list.\n",
    "\n",
    "The following example:\n",
    "\n",
    "- Prints \"Initial list: <id>\";\n",
    "- Prints id of list modified with `+` operator - it has different id with initial list;\n",
    "- Prints the id of the list modified with the `append` method - it has the same id as the initial list."
   ]
  },
  {
   "cell_type": "code",
   "execution_count": 12,
   "id": "c390bb2d-ddb4-4102-b10b-f481c6875ef1",
   "metadata": {},
   "outputs": [
    {
     "name": "stdout",
     "output_type": "stream",
     "text": [
      "Initial list: 139801266528704\n",
      "Plus list: 139801266465856\n",
      "Append list: 139801266528704\n"
     ]
    }
   ],
   "source": [
    "internal_list = [1,2,3,4,5]\n",
    "print(\"Initial list:\", id(internal_list))\n",
    "print(\"Plus list:\", id(internal_list + [3]))\n",
    "internal_list.append(3)\n",
    "print(\"Append list:\", id(internal_list))"
   ]
  },
  {
   "cell_type": "markdown",
   "id": "5fbe353f-eb1e-4286-a6cb-1345a8396dab",
   "metadata": {},
   "source": [
    "## drop duplicates"
   ]
  },
  {
   "cell_type": "markdown",
   "id": "eb2502a3-22e7-4a23-b65a-819ed4ed5106",
   "metadata": {},
   "source": [
    "### `list(set(<input>))`\n",
    "\n",
    "The easiest way is to convert the input list to `set` and then back to `list`. `set` can't have duplicates, so they're dropped.\n",
    "\n",
    "**Note** this option does not save the original order of the items in the list, because the `set' data type ignores the order of the items.\n",
    "\n",
    "The following example allows you to obtain unique values, but despite the fact that the elements in the original list are not in ascending order, they are in the result of the transformation."
   ]
  },
  {
   "cell_type": "code",
   "execution_count": 15,
   "id": "32432afc-38ce-4d61-84a8-38adf81b7b02",
   "metadata": {},
   "outputs": [
    {
     "data": {
      "text/plain": [
       "[1, 2, 3, 4]"
      ]
     },
     "execution_count": 15,
     "metadata": {},
     "output_type": "execute_result"
    }
   ],
   "source": [
    "test_list = [1,4,4,2,2,3,3]\n",
    "list(set(test_list))"
   ]
  },
  {
   "cell_type": "markdown",
   "id": "0e09c416-b9bf-4afc-9638-029e66799280",
   "metadata": {},
   "source": [
    "### Saving the order\n",
    "\n",
    "It is possible to loop through the elements of the transformed list and check if the result of the `item` method for the selected element corresponds to the iteration number:\n",
    "\n",
    "- If the iteration number and the result of the `item` method match, it means that this is the first occurrence of this element and it should be included in the result;\n",
    "- Otherwise, it means that this item has already been included in the result earlier and it should not be added to the result.\n",
    "\n",
    "The following cell shows a possible implementation of the described algorithm. As a result, 4 appears immediately after 1, as in the original list."
   ]
  },
  {
   "cell_type": "code",
   "execution_count": 18,
   "id": "d59669a2-9f3f-4a4a-8bda-ab22c38f0bf4",
   "metadata": {},
   "outputs": [
    {
     "data": {
      "text/plain": [
       "[1, 4, 2, 3]"
      ]
     },
     "execution_count": 18,
     "metadata": {},
     "output_type": "execute_result"
    }
   ],
   "source": [
    "test_list = [1,4,4,2,2,3,3]\n",
    "[val for i, val in enumerate(test_list) if test_list.index(val) == i]"
   ]
  },
  {
   "cell_type": "markdown",
   "id": "1c14d18d-efe4-49cf-97e3-79ac5391c8e4",
   "metadata": {},
   "source": [
    "# `tuple`\n",
    "\n",
    "Is an array that can't be changed at runtime."
   ]
  },
  {
   "cell_type": "markdown",
   "id": "28492b73-2c4f-4025-afbe-991ec06d64ae",
   "metadata": {},
   "source": [
    "## One element tuple\n",
    "\n",
    "To create one element tuple you have to use the syntax `(<element>,)` not <del>`(<element>)`</del>. By default, parentheses are not used to create a tuple, but to prioritise executions in the expression, so you have to use at least one comma inside the parentheses to tell the interpreter that it is the tuple."
   ]
  },
  {
   "cell_type": "code",
   "execution_count": 5,
   "id": "547325b9-70dd-4bf6-88ac-e68fdb508bf7",
   "metadata": {},
   "outputs": [
    {
     "name": "stdout",
     "output_type": "stream",
     "text": [
      "Just a variable 4\n",
      "One element tuple (5,)\n"
     ]
    }
   ],
   "source": [
    "print(\"Just a variable\", (4))\n",
    "print(\"One element tuple\", (5,))"
   ]
  },
  {
   "cell_type": "markdown",
   "id": "a05ce866-cc2d-4dba-93f6-73e31db35f50",
   "metadata": {},
   "source": [
    "# `Set`"
   ]
  },
  {
   "cell_type": "markdown",
   "id": "f34c0eae-d5fc-4460-b1fa-f5db06beee98",
   "metadata": {},
   "source": [
    "Array of unique values. You can create it by using `{<element1>, <element2>, ..., <elementn>}` or `tuple` function.\n",
    "\n",
    "In the following example, I show that it can contain only unique elements. Although element 2 is specified twice, it appears only once as a result."
   ]
  },
  {
   "cell_type": "code",
   "execution_count": 6,
   "id": "adc6914f-ea70-4d2c-8405-88f29e377b74",
   "metadata": {},
   "outputs": [
    {
     "data": {
      "text/plain": [
       "{1, 2, 3, 4}"
      ]
     },
     "execution_count": 6,
     "metadata": {},
     "output_type": "execute_result"
    }
   ],
   "source": [
    "{1,2,3,4,2}"
   ]
  },
  {
   "cell_type": "markdown",
   "id": "ca68ca1d-656a-4579-9656-aefe9023f2a5",
   "metadata": {},
   "source": [
    "## Empty set\n",
    "\n",
    "To create an empty set you should:\n",
    "\n",
    "- Use the `set` function without arguments;\n",
    "- Do **not** use empty curly brackets, it will create empty `dict` not `set`;\n",
    "- Do **not** use curly curly brackets with a comma (lite it works for `tuple`), it will cause an error."
   ]
  },
  {
   "cell_type": "markdown",
   "id": "5df0657b-fcd2-46af-8cfa-8f90a16abf8f",
   "metadata": {},
   "source": [
    "The following cell shows that curly brackets alone create a `tuple` but not a `set`. And the `set()` expression will in turn create an instance of `set`."
   ]
  },
  {
   "cell_type": "code",
   "execution_count": 3,
   "id": "8b4e6e89-af51-4638-b592-793aae497102",
   "metadata": {},
   "outputs": [
    {
     "name": "stdout",
     "output_type": "stream",
     "text": [
      "<class 'dict'>\n",
      "<class 'set'>\n"
     ]
    }
   ],
   "source": [
    "print(type({}))\n",
    "print(type(set()))"
   ]
  },
  {
   "cell_type": "markdown",
   "id": "c8b80d3b-a0ce-444e-ba0d-6259fdda84bd",
   "metadata": {},
   "source": [
    "The following cell shows that using braces with a comma is an error."
   ]
  },
  {
   "cell_type": "code",
   "execution_count": 5,
   "id": "af288a81-6c3d-4e73-925b-8af8294895dd",
   "metadata": {},
   "outputs": [
    {
     "ename": "SyntaxError",
     "evalue": "invalid syntax (3645013520.py, line 1)",
     "output_type": "error",
     "traceback": [
      "\u001b[0;36m  Cell \u001b[0;32mIn[5], line 1\u001b[0;36m\u001b[0m\n\u001b[0;31m    {,}\u001b[0m\n\u001b[0m     ^\u001b[0m\n\u001b[0;31mSyntaxError\u001b[0m\u001b[0;31m:\u001b[0m invalid syntax\n"
     ]
    }
   ],
   "source": [
    "{,}"
   ]
  },
  {
   "cell_type": "markdown",
   "id": "a6461935-509d-47b7-a29f-620596324741",
   "metadata": {},
   "source": [
    "Interestingly, applying the print function to an empty set results in `set()` output."
   ]
  },
  {
   "cell_type": "code",
   "execution_count": 9,
   "id": "472d7032-158d-4125-a601-67e2823ea2bc",
   "metadata": {},
   "outputs": [
    {
     "name": "stdout",
     "output_type": "stream",
     "text": [
      "set()\n"
     ]
    }
   ],
   "source": [
    "print(set())"
   ]
  },
  {
   "cell_type": "markdown",
   "id": "6e8d3bbb-10c8-4dfc-b8ad-5795a43aa2f4",
   "metadata": {},
   "source": [
    "## No order\n",
    "\n",
    "One of the main features of the set datatype is that it doesn't have any order. This has important implications:\n",
    "\n",
    "- You can't apply indexing syntax (the `[]` operator) to sets;\n",
    "- There are no functions associated with indexing (e.g. `pop` in the list datatype)."
   ]
  },
  {
   "cell_type": "markdown",
   "id": "e5ddd588-fe78-4c80-843f-465e26ea87c5",
   "metadata": {},
   "source": [
    "## Only immutable\n",
    "\n",
    "In sets, you can only use immutable datatypes. The following cells show that if you add a mutable type to a tuple (e.g. list), you will get an error."
   ]
  },
  {
   "cell_type": "code",
   "execution_count": 19,
   "id": "0fe1d5ee-1d61-4c75-81af-a190f1e02216",
   "metadata": {},
   "outputs": [
    {
     "data": {
      "text/plain": [
       "{(1, 3, 4), '1', 1, 9.4}"
      ]
     },
     "execution_count": 19,
     "metadata": {},
     "output_type": "execute_result"
    }
   ],
   "source": [
    "{1,\"1\", 9.4, (1,3,4)}"
   ]
  },
  {
   "cell_type": "code",
   "execution_count": 20,
   "id": "582b615b-8226-479b-8236-8a69bf150547",
   "metadata": {},
   "outputs": [
    {
     "ename": "TypeError",
     "evalue": "unhashable type: 'list'",
     "output_type": "error",
     "traceback": [
      "\u001b[0;31m---------------------------------------------------------------------------\u001b[0m",
      "\u001b[0;31mTypeError\u001b[0m                                 Traceback (most recent call last)",
      "Cell \u001b[0;32mIn[20], line 1\u001b[0m\n\u001b[0;32m----> 1\u001b[0m {\u001b[38;5;241m1\u001b[39m,\u001b[38;5;124m\"\u001b[39m\u001b[38;5;124m1\u001b[39m\u001b[38;5;124m\"\u001b[39m, \u001b[38;5;241m9.4\u001b[39m, (\u001b[38;5;241m1\u001b[39m,\u001b[38;5;241m3\u001b[39m,\u001b[38;5;241m4\u001b[39m), [\u001b[38;5;241m3\u001b[39m,\u001b[38;5;241m4\u001b[39m,\u001b[38;5;241m5\u001b[39m]}\n",
      "\u001b[0;31mTypeError\u001b[0m: unhashable type: 'list'"
     ]
    }
   ],
   "source": [
    "{1,\"1\", 9.4, (1,3,4), [3,4,5]}"
   ]
  },
  {
   "cell_type": "markdown",
   "id": "ee318d86-8c44-4417-bd93-499b5cf7d47b",
   "metadata": {},
   "source": [
    "## `add` new value"
   ]
  },
  {
   "cell_type": "code",
   "execution_count": 7,
   "id": "5786b618-caab-4199-a987-b672c11bb588",
   "metadata": {},
   "outputs": [
    {
     "name": "stdout",
     "output_type": "stream",
     "text": [
      "initital set {1, 2, 3}\n",
      "result set {1, 2, 3, 's'}\n"
     ]
    }
   ],
   "source": [
    "test_set = {1,2,3}\n",
    "print(\"initital set\", test_set)\n",
    "test_set.add(\"s\")\n",
    "print(\"result set\", test_set)"
   ]
  },
  {
   "cell_type": "markdown",
   "id": "5fd51e86-c579-49fd-9a5f-e048aa40222b",
   "metadata": {},
   "source": [
    "**Note** that adding an element that already exists in the set won't cause an error, it will simply be ignored."
   ]
  },
  {
   "cell_type": "code",
   "execution_count": 8,
   "id": "f2a0827e-199d-4102-a054-d0e8df64c336",
   "metadata": {},
   "outputs": [
    {
     "name": "stdout",
     "output_type": "stream",
     "text": [
      "initial set {1, 2, 3, 4}\n",
      "restult set {1, 2, 3, 4}\n"
     ]
    }
   ],
   "source": [
    "test_set = {1,2,3,4}\n",
    "print(\"initial set\", test_set)\n",
    "test_set.add(3)\n",
    "print(\"restult set\", test_set)"
   ]
  },
  {
   "cell_type": "markdown",
   "id": "839ebfc0-53a2-4594-9f7d-6f23c920417c",
   "metadata": {},
   "source": [
    "## `remove` delete by value"
   ]
  },
  {
   "cell_type": "markdown",
   "id": "1d396176-d77a-43fb-a021-13290f3d0788",
   "metadata": {},
   "source": [
    "You can delete element by value."
   ]
  },
  {
   "cell_type": "code",
   "execution_count": 13,
   "id": "58f34c93-c60e-4133-963c-792c14433e93",
   "metadata": {},
   "outputs": [
    {
     "name": "stdout",
     "output_type": "stream",
     "text": [
      "initial list {1, 2, 3, 4, 5}\n",
      "resutl list {1, 2, 3, 5}\n"
     ]
    }
   ],
   "source": [
    "test_set = {1,2,3,4,5}\n",
    "print(\"initial list\", test_set)\n",
    "test_set.remove(4)\n",
    "print(\"resutl list\", test_set)"
   ]
  },
  {
   "cell_type": "markdown",
   "id": "7f760309-f5c1-47fe-ac51-058ae96b90af",
   "metadata": {},
   "source": [
    "**Note** that if there's no removing value in the source list, you'll have an error."
   ]
  },
  {
   "cell_type": "code",
   "execution_count": 15,
   "id": "239974d9-6b7e-485b-a703-a8b8ba9d406f",
   "metadata": {},
   "outputs": [
    {
     "ename": "KeyError",
     "evalue": "6",
     "output_type": "error",
     "traceback": [
      "\u001b[0;31m---------------------------------------------------------------------------\u001b[0m",
      "\u001b[0;31mKeyError\u001b[0m                                  Traceback (most recent call last)",
      "Cell \u001b[0;32mIn[15], line 2\u001b[0m\n\u001b[1;32m      1\u001b[0m test_set \u001b[38;5;241m=\u001b[39m {\u001b[38;5;241m5\u001b[39m,\u001b[38;5;241m3\u001b[39m,\u001b[38;5;241m4\u001b[39m,\u001b[38;5;241m1\u001b[39m}\n\u001b[0;32m----> 2\u001b[0m \u001b[43mtest_set\u001b[49m\u001b[38;5;241;43m.\u001b[39;49m\u001b[43mremove\u001b[49m\u001b[43m(\u001b[49m\u001b[38;5;241;43m6\u001b[39;49m\u001b[43m)\u001b[49m\n",
      "\u001b[0;31mKeyError\u001b[0m: 6"
     ]
    }
   ],
   "source": [
    "test_set = {5,3,4,1}\n",
    "test_set.remove(6)"
   ]
  },
  {
   "cell_type": "markdown",
   "id": "3aa52ae0-ed4c-492b-8c9a-afe4bed7f2f7",
   "metadata": {},
   "source": [
    "## `intercection`\n",
    "\n",
    "This method allows you to get a set that contains only common elements for argument sets."
   ]
  },
  {
   "cell_type": "code",
   "execution_count": 22,
   "id": "e714dbb3-031e-4bec-a2ab-9a42aa11c643",
   "metadata": {},
   "outputs": [
    {
     "data": {
      "text/plain": [
       "{2, 3}"
      ]
     },
     "execution_count": 22,
     "metadata": {},
     "output_type": "execute_result"
    }
   ],
   "source": [
    "test_set1 = {1,2,3}\n",
    "test_set2 = {2,3,4}\n",
    "test_set1.intersection(test_set2)"
   ]
  },
  {
   "cell_type": "markdown",
   "id": "d6eb49cf-8edd-42f2-85ab-c1c639ecaaae",
   "metadata": {},
   "source": [
    "## `union`\n",
    "\n",
    "This method allows you to get a set that contains all elements from both argument sets."
   ]
  },
  {
   "cell_type": "code",
   "execution_count": 23,
   "id": "ba83e0a6-a856-48b4-8f7c-75c7f9b2007b",
   "metadata": {},
   "outputs": [
    {
     "data": {
      "text/plain": [
       "{1, 2, 3, 4}"
      ]
     },
     "execution_count": 23,
     "metadata": {},
     "output_type": "execute_result"
    }
   ],
   "source": [
    "test_set1 = {1,2,3}\n",
    "test_set2 = {2,3,4}\n",
    "test_set1.union(test_set2)"
   ]
  },
  {
   "cell_type": "markdown",
   "id": "913c5474-b689-4c18-a29f-1988a628d3d0",
   "metadata": {},
   "source": [
    "## `symmetric_difference`\n",
    "\n",
    "This method allows you to get a set that contains elements that are present in only one of the argument sets, but not in both."
   ]
  },
  {
   "cell_type": "code",
   "execution_count": 27,
   "id": "eb608dcd-7f4d-454d-bb61-0d6fd4292093",
   "metadata": {},
   "outputs": [
    {
     "data": {
      "text/plain": [
       "{1, 4}"
      ]
     },
     "execution_count": 27,
     "metadata": {},
     "output_type": "execute_result"
    }
   ],
   "source": [
    "test_set1 = {1,2,3}\n",
    "test_set2 = {2,3,4}\n",
    "test_set1.symmetric_difference(test_set2)"
   ]
  },
  {
   "cell_type": "markdown",
   "id": "f673f9c3-8348-4bce-91c2-d18d0a07d68a",
   "metadata": {},
   "source": [
    "## Sets difference `A-B`\n",
    "\n",
    "In case you subtract set A from set B you get a set of elements from the set not contained in set B."
   ]
  },
  {
   "cell_type": "code",
   "execution_count": 28,
   "id": "7ba84aeb-a1db-4800-990c-68e3075e09f1",
   "metadata": {},
   "outputs": [
    {
     "data": {
      "text/plain": [
       "{1}"
      ]
     },
     "execution_count": 28,
     "metadata": {},
     "output_type": "execute_result"
    }
   ],
   "source": [
    "test_set1 = {1,2,3}\n",
    "test_set2 = {2,3,4}\n",
    "test_set1 - test_set2"
   ]
  },
  {
   "cell_type": "markdown",
   "id": "056afee2-2f37-4f6c-8cf7-ae4055e8b7d4",
   "metadata": {},
   "source": [
    "# `frozenset`\n",
    "\n",
    "`set` in Python is a mutable data type, so you cannot use it in many cases (e.g. as a key for `dict` or as an element of another `set`). To fix this, Python provides a special data type `frozenset` which is like `set` but immutable.\n",
    "\n",
    "So in the following example I try to use `frozenset` and `set` as elements of another `set`:\n",
    "\n",
    "- With `frozenset` all is well;\n",
    "- Regular `set` causes an error."
   ]
  },
  {
   "cell_type": "code",
   "execution_count": 17,
   "id": "cb645762-7cdc-46c0-a38d-39fa217ed667",
   "metadata": {},
   "outputs": [
    {
     "name": "stdout",
     "output_type": "stream",
     "text": [
      "Using a frozenset: {1, 2, 3, frozenset({1, 2, 3, 4})}\n"
     ]
    },
    {
     "ename": "TypeError",
     "evalue": "unhashable type: 'set'",
     "output_type": "error",
     "traceback": [
      "\u001b[0;31m---------------------------------------------------------------------------\u001b[0m",
      "\u001b[0;31mTypeError\u001b[0m                                 Traceback (most recent call last)",
      "Cell \u001b[0;32mIn[17], line 5\u001b[0m\n\u001b[1;32m      2\u001b[0m frozen_set \u001b[38;5;241m=\u001b[39m \u001b[38;5;28mfrozenset\u001b[39m([\u001b[38;5;241m1\u001b[39m,\u001b[38;5;241m2\u001b[39m,\u001b[38;5;241m3\u001b[39m,\u001b[38;5;241m4\u001b[39m])\n\u001b[1;32m      4\u001b[0m \u001b[38;5;28mprint\u001b[39m(\u001b[38;5;124m\"\u001b[39m\u001b[38;5;124mUsing a frozenset:\u001b[39m\u001b[38;5;124m\"\u001b[39m, {\u001b[38;5;241m1\u001b[39m,\u001b[38;5;241m2\u001b[39m,\u001b[38;5;241m3\u001b[39m, frozen_set})\n\u001b[0;32m----> 5\u001b[0m \u001b[38;5;28mprint\u001b[39m(\u001b[38;5;124m\"\u001b[39m\u001b[38;5;124mUsing a regular set:\u001b[39m\u001b[38;5;124m\"\u001b[39m, {\u001b[38;5;241m1\u001b[39m, \u001b[38;5;241m2\u001b[39m, \u001b[38;5;241m3\u001b[39m, regular_set, \u001b[38;5;241m1\u001b[39m})\n",
      "\u001b[0;31mTypeError\u001b[0m: unhashable type: 'set'"
     ]
    }
   ],
   "source": [
    "regular_set = {1,3}\n",
    "frozen_set = frozenset([1,2,3,4])\n",
    "\n",
    "print(\"Using a frozenset:\", {1,2,3, frozen_set})\n",
    "print(\"Using a regular set:\", {1, 2, 3, regular_set, 1})"
   ]
  },
  {
   "cell_type": "markdown",
   "id": "650d0d81-b560-4aba-afd2-92db9ad07326",
   "metadata": {},
   "source": [
    "# `dict`\n",
    "\n",
    "Allow to build arrays that has *key<->value* relationship."
   ]
  },
  {
   "cell_type": "markdown",
   "id": "51070984-74fe-4cfb-8a80-1cf095a821ec",
   "metadata": {},
   "source": [
    "## `get` extract element\n",
    "\n",
    "By using this function you can get value by key from the dict."
   ]
  },
  {
   "cell_type": "markdown",
   "id": "d9b3378e-e649-485d-8d44-5edab922160f",
   "metadata": {},
   "source": [
    "### Purpose\n",
    "\n",
    "It may not be clear why this is necessary, as there is a `[]` operator which allows you to perform exactly the same actions. The **difference from the `[]` operator** is that it doesn't cause an error if there is no specified key in the dictionary.\n",
    "\n",
    "So the following cells show that the `[]` operator caused an error when you tried to load a non-existent key, but in the identical example the `get` method just returned None."
   ]
  },
  {
   "cell_type": "code",
   "execution_count": 36,
   "id": "294f7a53-f380-4598-9de4-da5258ec3502",
   "metadata": {},
   "outputs": [
    {
     "ename": "KeyError",
     "evalue": "'c'",
     "output_type": "error",
     "traceback": [
      "\u001b[0;31m---------------------------------------------------------------------------\u001b[0m",
      "\u001b[0;31mKeyError\u001b[0m                                  Traceback (most recent call last)",
      "Cell \u001b[0;32mIn[36], line 2\u001b[0m\n\u001b[1;32m      1\u001b[0m test_dict \u001b[38;5;241m=\u001b[39m {\u001b[38;5;124m\"\u001b[39m\u001b[38;5;124ma\u001b[39m\u001b[38;5;124m\"\u001b[39m:\u001b[38;5;241m1\u001b[39m, \u001b[38;5;124m\"\u001b[39m\u001b[38;5;124mb\u001b[39m\u001b[38;5;124m\"\u001b[39m:\u001b[38;5;241m2\u001b[39m}\n\u001b[0;32m----> 2\u001b[0m \u001b[38;5;28mprint\u001b[39m(\u001b[43mtest_dict\u001b[49m\u001b[43m[\u001b[49m\u001b[38;5;124;43m\"\u001b[39;49m\u001b[38;5;124;43mc\u001b[39;49m\u001b[38;5;124;43m\"\u001b[39;49m\u001b[43m]\u001b[49m)\n",
      "\u001b[0;31mKeyError\u001b[0m: 'c'"
     ]
    }
   ],
   "source": [
    "test_dict = {\"a\":1, \"b\":2}\n",
    "print(test_dict[\"c\"])"
   ]
  },
  {
   "cell_type": "code",
   "execution_count": 35,
   "id": "32ff473d-b152-4c52-bc35-8cf1db4f7ab1",
   "metadata": {},
   "outputs": [
    {
     "name": "stdout",
     "output_type": "stream",
     "text": [
      "None\n"
     ]
    }
   ],
   "source": [
    "test_dict = {\"a\":1, \"b\":2}\n",
    "print(test_dict.get(\"c\"))"
   ]
  },
  {
   "cell_type": "markdown",
   "id": "e49971f3-2662-480c-a81a-dc6d6012e8a7",
   "metadata": {},
   "source": [
    "### `default` argument\n",
    "\n",
    "Allows to set value to be returned If there is no item with the requested key."
   ]
  },
  {
   "cell_type": "code",
   "execution_count": 40,
   "id": "56d17bd0-1fab-4306-8aec-fca3bf8aaec8",
   "metadata": {},
   "outputs": [
    {
     "name": "stdout",
     "output_type": "stream",
     "text": [
      "default value\n"
     ]
    }
   ],
   "source": [
    "test_dict = {\"a\":1, \"b\":2}\n",
    "print(test_dict.get(\"c\", \"default value\"))"
   ]
  },
  {
   "cell_type": "markdown",
   "id": "e34d5442-487e-4cac-8c5d-c93b01a7ca67",
   "metadata": {},
   "source": [
    "## Delete specific item"
   ]
  },
  {
   "cell_type": "markdown",
   "id": "7b230478-6697-475b-8bf4-dc5238b8f19f",
   "metadata": {},
   "source": [
    "### `del` operator\n",
    "\n",
    "You can simply apply the `del` operator to the specific element. As in the following example:"
   ]
  },
  {
   "cell_type": "code",
   "execution_count": 6,
   "id": "e8c5f0ba-e00e-494b-ba64-d7b383b1922f",
   "metadata": {},
   "outputs": [
    {
     "name": "stdout",
     "output_type": "stream",
     "text": [
      "{'b': 2}\n"
     ]
    }
   ],
   "source": [
    "test_dict = {\"a\":1, \"b\":2}\n",
    "del test_dict[\"a\"]\n",
    "print(test_dict)"
   ]
  },
  {
   "cell_type": "markdown",
   "id": "e6e5f1ea-7372-4e83-850f-508aed1aab52",
   "metadata": {},
   "source": [
    "**Note** If there is no item in the `dict` that you want to delete in this way, you will get the error. The next cell shows exactly this case:"
   ]
  },
  {
   "cell_type": "code",
   "execution_count": 7,
   "id": "b8ffd0f9-9238-4835-90f7-e9df23bb356e",
   "metadata": {},
   "outputs": [
    {
     "ename": "KeyError",
     "evalue": "'c'",
     "output_type": "error",
     "traceback": [
      "\u001b[0;31m---------------------------------------------------------------------------\u001b[0m",
      "\u001b[0;31mKeyError\u001b[0m                                  Traceback (most recent call last)",
      "Cell \u001b[0;32mIn[7], line 2\u001b[0m\n\u001b[1;32m      1\u001b[0m test_dict \u001b[38;5;241m=\u001b[39m {\u001b[38;5;124m\"\u001b[39m\u001b[38;5;124ma\u001b[39m\u001b[38;5;124m\"\u001b[39m:\u001b[38;5;241m1\u001b[39m, \u001b[38;5;124m\"\u001b[39m\u001b[38;5;124mb\u001b[39m\u001b[38;5;124m\"\u001b[39m:\u001b[38;5;241m2\u001b[39m}\n\u001b[0;32m----> 2\u001b[0m \u001b[38;5;28;01mdel\u001b[39;00m test_dict[\u001b[38;5;124m\"\u001b[39m\u001b[38;5;124mc\u001b[39m\u001b[38;5;124m\"\u001b[39m]\n\u001b[1;32m      3\u001b[0m \u001b[38;5;28mprint\u001b[39m(test_dict)\n",
      "\u001b[0;31mKeyError\u001b[0m: 'c'"
     ]
    }
   ],
   "source": [
    "test_dict = {\"a\":1, \"b\":2}\n",
    "del test_dict[\"c\"]\n",
    "print(test_dict)"
   ]
  },
  {
   "cell_type": "markdown",
   "id": "968eb34b-a800-4b64-89f6-85c9e67e0fa7",
   "metadata": {},
   "source": [
    "### `pop` method\n",
    "\n",
    "It will remove element by key passed as an argument to this method and return value as a result of the function. The following example shows how it works:\n",
    "\n",
    "- In the first print we show the result of the `pop` method;\n",
    "- In the second part, we'll show that the dictionary no longer has an element with the key \"a\"."
   ]
  },
  {
   "cell_type": "code",
   "execution_count": 11,
   "id": "9630a0ae-a603-4524-abc5-923d8e99da47",
   "metadata": {},
   "outputs": [
    {
     "name": "stdout",
     "output_type": "stream",
     "text": [
      "1\n",
      "{'b': 2}\n"
     ]
    }
   ],
   "source": [
    "test_dict = {\"a\":1, \"b\":2}\n",
    "print(test_dict.pop(\"a\"))\n",
    "print(test_dict)"
   ]
  },
  {
   "cell_type": "markdown",
   "id": "dcc1065f-fe61-4ebf-84b1-32367707f6db",
   "metadata": {},
   "source": [
    "**Note** this method will still cause an error if you apply it to a key that doesn't exist in the dictionary."
   ]
  },
  {
   "cell_type": "code",
   "execution_count": 12,
   "id": "76839efe-7679-490d-876a-40a2c87512d4",
   "metadata": {},
   "outputs": [
    {
     "ename": "KeyError",
     "evalue": "'C'",
     "output_type": "error",
     "traceback": [
      "\u001b[0;31m---------------------------------------------------------------------------\u001b[0m",
      "\u001b[0;31mKeyError\u001b[0m                                  Traceback (most recent call last)",
      "Cell \u001b[0;32mIn[12], line 2\u001b[0m\n\u001b[1;32m      1\u001b[0m test_dict \u001b[38;5;241m=\u001b[39m {\u001b[38;5;124m\"\u001b[39m\u001b[38;5;124ma\u001b[39m\u001b[38;5;124m\"\u001b[39m:\u001b[38;5;241m1\u001b[39m, \u001b[38;5;124m\"\u001b[39m\u001b[38;5;124mb\u001b[39m\u001b[38;5;124m\"\u001b[39m:\u001b[38;5;241m2\u001b[39m}\n\u001b[0;32m----> 2\u001b[0m \u001b[43mtest_dict\u001b[49m\u001b[38;5;241;43m.\u001b[39;49m\u001b[43mpop\u001b[49m\u001b[43m(\u001b[49m\u001b[38;5;124;43m\"\u001b[39;49m\u001b[38;5;124;43mC\u001b[39;49m\u001b[38;5;124;43m\"\u001b[39;49m\u001b[43m)\u001b[49m\n",
      "\u001b[0;31mKeyError\u001b[0m: 'C'"
     ]
    }
   ],
   "source": [
    "test_dict = {\"a\":1, \"b\":2}\n",
    "test_dict.pop(\"C\")"
   ]
  },
  {
   "cell_type": "markdown",
   "id": "529c6a86-d988-4ed0-9acf-3606889f2a2c",
   "metadata": {},
   "source": [
    "## `clear` delete all\n",
    "\n",
    "This method allows you to delete all the values written in the dictionary. The following example shows what it can look like."
   ]
  },
  {
   "cell_type": "code",
   "execution_count": 2,
   "id": "64c27adc-3f1f-43e2-8b86-6580fbb811c1",
   "metadata": {},
   "outputs": [
    {
     "name": "stdout",
     "output_type": "stream",
     "text": [
      "{}\n"
     ]
    }
   ],
   "source": [
    "test_dict = {\"a\":1, \"b\":2}\n",
    "test_dict.clear()\n",
    "print(test_dict)"
   ]
  },
  {
   "cell_type": "markdown",
   "id": "c5ccc0bb-3276-47a1-9e99-b58b61c088e1",
   "metadata": {},
   "source": [
    "## `in` operator\n",
    "\n",
    "Checks if the element on the left side of `in` is **in the keys** (not values) of the dictionary on the right side of `in`."
   ]
  },
  {
   "cell_type": "code",
   "execution_count": 44,
   "id": "64274019-c511-4fcb-bc20-9d99eb7c8b3e",
   "metadata": {},
   "outputs": [
    {
     "name": "stdout",
     "output_type": "stream",
     "text": [
      "True\n",
      "False\n"
     ]
    }
   ],
   "source": [
    "test_dict = {\"a\":1, \"b\":2}\n",
    "print(\"a\" in test_dict)\n",
    "print(1 in test_dict)"
   ]
  },
  {
   "cell_type": "markdown",
   "id": "6908620e-fc9c-429b-bd5f-fcb4cadfbf18",
   "metadata": {},
   "source": [
    "# `str`\n",
    "\n",
    "This data type describes the variables in which you want to store the text information."
   ]
  },
  {
   "cell_type": "markdown",
   "id": "a6e6c462-6057-4ba4-9bda-0cca97160d6e",
   "metadata": {},
   "source": [
    "## `istitle` - is first capital\n",
    "\n",
    "Lets you check if all words in the calling string are capitalised.\n",
    "\n",
    "The following example shows how it works for\n",
    "\n",
    "- Lower case only;\n",
    "- One capitalised word;\n",
    "- Line with several capitalised words;\n",
    "- Line with several words but only the first one is capitalised."
   ]
  },
  {
   "cell_type": "code",
   "execution_count": 9,
   "id": "3f8bb410-c476-4bed-ba9c-05cf1a0114de",
   "metadata": {},
   "outputs": [
    {
     "name": "stdout",
     "output_type": "stream",
     "text": [
      "\"test line\".istitle() -> False\n",
      "\"Test\".istitle() -> True\n",
      "\"Test Line\".istitle() -> True\n",
      "\"Test line\".istitle() -> False\n"
     ]
    }
   ],
   "source": [
    "test_lines =[\n",
    "    \"test line\",\n",
    "    \"Test\",\n",
    "    \"Test Line\",\n",
    "    \"Test line\"\n",
    "]\n",
    "\n",
    "for test_line in test_lines:\n",
    "    print(f\"\\\"{test_line}\\\".istitle() -> {test_line.istitle()}\")"
   ]
  }
 ],
 "metadata": {
  "kernelspec": {
   "display_name": "Python 3 (ipykernel)",
   "language": "python",
   "name": "python3"
  },
  "language_info": {
   "codemirror_mode": {
    "name": "ipython",
    "version": 3
   },
   "file_extension": ".py",
   "mimetype": "text/x-python",
   "name": "python",
   "nbconvert_exporter": "python",
   "pygments_lexer": "ipython3",
   "version": "3.10.6"
  }
 },
 "nbformat": 4,
 "nbformat_minor": 5
}
