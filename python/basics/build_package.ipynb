{
 "cells": [
  {
   "cell_type": "markdown",
   "id": "9e450bf6-15d2-4af8-9bcd-991603843ae9",
   "metadata": {},
   "source": [
    "# Build package\n",
    "\n",
    "Here is just described minimum that you need to build package. All necessary will be created and loaded to local environment without uploading to PyPI. This material is based on official [python packaging guide](https://packaging.python.org/en/latest/tutorials/packaging-projects/).\n",
    "\n",
    "\n",
    "To learn more about uploading to PyPI, check the [specific page](./build_package/uploading_to_pypi.ipynb)."
   ]
  },
  {
   "cell_type": "markdown",
   "id": "eb24e3d1-b067-4ac4-9545-821e372a6a5d",
   "metadata": {},
   "source": [
    "## Source files\n",
    "\n",
    "In the folder `src/exmaple_package` I'll just store files with sorce code of the project. \n",
    "\n",
    "**Note** The `example_package` folder is crucial here! It's the literal name that will be used to import this module."
   ]
  },
  {
   "cell_type": "markdown",
   "id": "dc2c88de-333f-4800-94ef-a535996ebfb8",
   "metadata": {},
   "source": [
    "**`__init__.py`** \n",
    "\n",
    "It's common for folders containing Python modules to have `__init__.py`."
   ]
  },
  {
   "cell_type": "code",
   "execution_count": 1,
   "id": "59062180-4c57-494a-87da-4922683b8188",
   "metadata": {},
   "outputs": [
    {
     "name": "stdout",
     "output_type": "stream",
     "text": [
      "Writing build_package_files/src/example_package/__init__.py\n"
     ]
    }
   ],
   "source": [
    "%%writefile build_package_files/src/example_package/__init__.py\n",
    "print(\"Init me!\")"
   ]
  },
  {
   "cell_type": "markdown",
   "id": "6c009d52-61d8-4260-af3f-87219766bce4",
   "metadata": {},
   "source": [
    "**example.py**\n",
    "\n",
    "Is a toy module that can be imported after installing this library."
   ]
  },
  {
   "cell_type": "code",
   "execution_count": 2,
   "id": "df123b4d-ed3c-42bd-b6b6-850c4c265097",
   "metadata": {},
   "outputs": [
    {
     "name": "stdout",
     "output_type": "stream",
     "text": [
      "Writing build_package_files/src/example_package/example.py\n"
     ]
    }
   ],
   "source": [
    "%%writefile build_package_files/src/example_package/example.py\n",
    "def do_something():\n",
    "    print(\"doing something\")"
   ]
  },
  {
   "cell_type": "markdown",
   "id": "280ed5a8-e949-45c7-924a-32137100df11",
   "metadata": {},
   "source": [
    "## README\n",
    "\n",
    "Actually you can skip this step, but without it you may get a warning when building the package."
   ]
  },
  {
   "cell_type": "code",
   "execution_count": 3,
   "id": "a9dd6e43-4944-4f3a-a78a-d550ef29f7a2",
   "metadata": {},
   "outputs": [
    {
     "name": "stdout",
     "output_type": "stream",
     "text": [
      "Overwriting build_package_files/README.md\n"
     ]
    }
   ],
   "source": [
    "%%writefile build_package_files/README.md\n",
    "# Example\n",
    "This is a toy package I'm using to get used to deploying Python packages on PyPI."
   ]
  },
  {
   "cell_type": "markdown",
   "id": "8608477f-7ad9-40d5-ba75-38c0e6025a15",
   "metadata": {},
   "source": [
    "## Toml\n",
    "\n",
    "File describing the project."
   ]
  },
  {
   "cell_type": "code",
   "execution_count": 4,
   "id": "6d9fe722-5c58-48ba-973b-7e3019c9b0c5",
   "metadata": {},
   "outputs": [
    {
     "name": "stdout",
     "output_type": "stream",
     "text": [
      "Overwriting build_package_files/pyproject.toml\n"
     ]
    }
   ],
   "source": [
    "%%writefile build_package_files/pyproject.toml\n",
    "[project]\n",
    "name = \"example_package_FEDOR_KOBAK\"\n",
    "version = \"0.0.4\"\n",
    "authors = [\n",
    "  { name=\"Fedor Kobak\", email=\"kobfedsur@gmail.com\" },\n",
    "]\n",
    "description = \"A small example package\""
   ]
  },
  {
   "cell_type": "markdown",
   "id": "34904bca-dcff-4570-a907-ff3e5d2066e5",
   "metadata": {},
   "source": [
    "## Local instalation"
   ]
  },
  {
   "cell_type": "markdown",
   "id": "5e5246d2-71ec-4b0e-af66-ca81369f7130",
   "metadata": {},
   "source": [
    "Everything you need is ready to install our module in your environment. Let's check our project structure before we build:"
   ]
  },
  {
   "cell_type": "code",
   "execution_count": 5,
   "id": "9787d39b-0e1e-44f6-9fa9-12c56f097a5b",
   "metadata": {},
   "outputs": [
    {
     "name": "stdout",
     "output_type": "stream",
     "text": [
      "\u001b[01;34mbuild_package_files/\u001b[0m\n",
      "├── pyproject.toml\n",
      "├── README.md\n",
      "└── \u001b[01;34msrc\u001b[0m\n",
      "    └── \u001b[01;34mexample_package\u001b[0m\n",
      "        ├── example.py\n",
      "        └── __init__.py\n",
      "\n",
      "2 directories, 4 files\n"
     ]
    }
   ],
   "source": [
    "!tree build_package_files/"
   ]
  },
  {
   "cell_type": "markdown",
   "id": "52d7f2b2-a30c-417e-a59e-2a4a64516a3a",
   "metadata": {},
   "source": [
    "The next cell installs the received module.\n",
    "\n",
    "**Note** for some unknown reasons package installing in the global environment as `UNKNOWN`. So I'm creating virtual environment and install package to it. "
   ]
  },
  {
   "cell_type": "code",
   "execution_count": 6,
   "id": "a84af0d8-0cd2-4912-9393-a107f1a90ba8",
   "metadata": {},
   "outputs": [
    {
     "name": "stdout",
     "output_type": "stream",
     "text": [
      "Processing /home/f.kobak@maxbit.local/Documents/knowledge/python/build_package_files\n",
      "  Installing build dependencies: started\n",
      "  Installing build dependencies: finished with status 'done'\n",
      "  Getting requirements to build wheel: started\n",
      "  Getting requirements to build wheel: finished with status 'done'\n",
      "  Preparing metadata (pyproject.toml): started\n",
      "  Preparing metadata (pyproject.toml): finished with status 'done'\n",
      "Building wheels for collected packages: example_package_FEDOR_KOBAK\n",
      "  Building wheel for example_package_FEDOR_KOBAK (pyproject.toml): started\n",
      "  Building wheel for example_package_FEDOR_KOBAK (pyproject.toml): finished with status 'done'\n",
      "  Created wheel for example_package_FEDOR_KOBAK: filename=example_package_FEDOR_KOBAK-0.0.4-py3-none-any.whl size=1612 sha256=da14dfd7d47ac151c8a634883e96b5781de1223191854126bf5cf7dcad13ee33\n",
      "  Stored in directory: /tmp/pip-ephem-wheel-cache-th3xt3wy/wheels/d8/89/8f/96de53fcd186372d977c7fd485413ec9b48a63c05aa555afb5\n",
      "Successfully built example_package_FEDOR_KOBAK\n",
      "Installing collected packages: example_package_FEDOR_KOBAK\n",
      "Successfully installed example_package_FEDOR_KOBAK-0.0.4\n"
     ]
    }
   ],
   "source": [
    "%%bash\n",
    "cd build_package_files/\n",
    "python3 -m venv venv\n",
    "source venv/bin/activate\n",
    "pip3 install ."
   ]
  },
  {
   "cell_type": "markdown",
   "id": "8f0aa415-8fcd-4124-81bf-1f5c2d9357ee",
   "metadata": {},
   "source": [
    "The module can now be imported into any Python program."
   ]
  },
  {
   "cell_type": "code",
   "execution_count": 7,
   "id": "f80d8870-cf94-4a1c-aba3-f6ed0ffcefce",
   "metadata": {},
   "outputs": [
    {
     "name": "stdout",
     "output_type": "stream",
     "text": [
      "Init me!\n",
      "doing something\n"
     ]
    }
   ],
   "source": [
    "%%bash\n",
    "python3 -m venv venv\n",
    "source build_package_files/venv/bin/activate\n",
    "\n",
    "python3\n",
    "from example_package.example import do_something\n",
    "do_something()"
   ]
  },
  {
   "cell_type": "markdown",
   "id": "b5ff2212-167b-4ba5-a0dd-50758f2de8eb",
   "metadata": {},
   "source": [
    "There is a lot of rubbish created during module isntalling:"
   ]
  },
  {
   "cell_type": "code",
   "execution_count": 8,
   "id": "d7361db8-a435-4998-81a4-11980e5b79d6",
   "metadata": {},
   "outputs": [
    {
     "name": "stdout",
     "output_type": "stream",
     "text": [
      "\u001b[01;34mbuild_package_files\u001b[0m\n",
      "├── \u001b[01;34mbuild\u001b[0m\n",
      "│   └── \u001b[01;34mlib\u001b[0m\n",
      "│       └── \u001b[01;34mexample_package\u001b[0m\n",
      "│           ├── example.py\n",
      "│           └── __init__.py\n",
      "├── pyproject.toml\n",
      "├── README.md\n",
      "└── \u001b[01;34msrc\u001b[0m\n",
      "    ├── \u001b[01;34mexample_package\u001b[0m\n",
      "    │   ├── example.py\n",
      "    │   └── __init__.py\n",
      "    └── \u001b[01;34mexample_package_FEDOR_KOBAK.egg-info\u001b[0m\n",
      "        ├── dependency_links.txt\n",
      "        ├── PKG-INFO\n",
      "        ├── SOURCES.txt\n",
      "        └── top_level.txt\n",
      "\n",
      "6 directories, 10 files\n"
     ]
    }
   ],
   "source": [
    "!tree --prune -I 'venv' build_package_files"
   ]
  },
  {
   "cell_type": "markdown",
   "id": "a92bc1cf-581d-4251-89cd-2118dcc6fbe4",
   "metadata": {},
   "source": [
    "So let's return folder to state before building."
   ]
  },
  {
   "cell_type": "code",
   "execution_count": 9,
   "id": "cce3d949-7bf7-4291-bd23-344be8525b2b",
   "metadata": {},
   "outputs": [],
   "source": [
    "%%bash\n",
    "cd build_package_files\n",
    "rm -r build src/example_package_FEDOR_KOBAK.egg-info venv"
   ]
  }
 ],
 "metadata": {
  "kernelspec": {
   "display_name": "Python 3 (ipykernel)",
   "language": "python",
   "name": "python3"
  },
  "language_info": {
   "codemirror_mode": {
    "name": "ipython",
    "version": 3
   },
   "file_extension": ".py",
   "mimetype": "text/x-python",
   "name": "python",
   "nbconvert_exporter": "python",
   "pygments_lexer": "ipython3",
   "version": "3.10.12"
  }
 },
 "nbformat": 4,
 "nbformat_minor": 5
}
