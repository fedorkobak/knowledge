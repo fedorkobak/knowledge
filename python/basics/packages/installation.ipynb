{
 "cells": [
  {
   "cell_type": "markdown",
   "metadata": {},
   "source": [
    "# Installation\n",
    "\n",
    "In this section review process of package installation for the python."
   ]
  },
  {
   "cell_type": "markdown",
   "metadata": {},
   "source": [
    "## Package installer for Python (PIP)\n",
    "\n",
    "Pip is a Python package, so you can access it through the interpreter. However, it is more commonly used as a command-line tool. Check [corresponding documentation](https://pip.pypa.io/en/stable/). "
   ]
  },
  {
   "cell_type": "markdown",
   "metadata": {},
   "source": [
    "---\n",
    "\n",
    "The following cell shows that accessing pip through the Python interpreter and the system shell returns the same version."
   ]
  },
  {
   "cell_type": "code",
   "execution_count": 1,
   "metadata": {
    "vscode": {
     "languageId": "shellscript"
    }
   },
   "outputs": [
    {
     "name": "stdout",
     "output_type": "stream",
     "text": [
      "pip 24.3.1 from /usr/local/lib/python3.12/site-packages/pip (python 3.12)\n"
     ]
    }
   ],
   "source": [
    "pip3 --version"
   ]
  },
  {
   "cell_type": "markdown",
   "metadata": {},
   "source": [
    "With `pip3 show <package name>`, you can check details about a package. Since `pip3` is a package itself, you can use `pip3 show pip` to check details about pip."
   ]
  },
  {
   "cell_type": "code",
   "execution_count": 5,
   "metadata": {
    "vscode": {
     "languageId": "shellscript"
    }
   },
   "outputs": [
    {
     "name": "stdout",
     "output_type": "stream",
     "text": [
      "Name: pip\n",
      "Version: 24.3.1\n",
      "Summary: The PyPA recommended tool for installing Python packages.\n",
      "Home-page: https://pip.pypa.io/\n",
      "Author: \n",
      "Author-email: The pip developers <distutils-sig@python.org>\n",
      "License: MIT\n",
      "Location: /usr/local/lib/python3.12/site-packages\n",
      "Requires: \n",
      "Required-by: \n"
     ]
    }
   ],
   "source": [
    "pip3 show pip"
   ]
  },
  {
   "cell_type": "markdown",
   "metadata": {},
   "source": [
    "With `pip download`, you can download a package without installing it. The following cell downloads `python-dotenv` to the `/tmp/pip_download` directory."
   ]
  },
  {
   "cell_type": "code",
   "execution_count": null,
   "metadata": {
    "vscode": {
     "languageId": "shellscript"
    }
   },
   "outputs": [
    {
     "name": "stdout",
     "output_type": "stream",
     "text": [
      "Collecting python-dotenv\n",
      "  Using cached python_dotenv-1.0.1-py3-none-any.whl.metadata (23 kB)\n",
      "Using cached python_dotenv-1.0.1-py3-none-any.whl (19 kB)\n",
      "Saved /tmp/pip_download/python_dotenv-1.0.1-py3-none-any.whl\n",
      "Successfully downloaded python-dotenv\n"
     ]
    }
   ],
   "source": [
    "mkdir /tmp/pip_download\n",
    "pip3 download --destination-directory /tmp/pip_download/ python-dotenv"
   ]
  },
  {
   "cell_type": "markdown",
   "metadata": {},
   "source": [
    "Now there is a corresponding `.whl` file that represents the downloaded package."
   ]
  },
  {
   "cell_type": "code",
   "execution_count": 13,
   "metadata": {
    "vscode": {
     "languageId": "shellscript"
    }
   },
   "outputs": [
    {
     "name": "stdout",
     "output_type": "stream",
     "text": [
      "python_dotenv-1.0.1-py3-none-any.whl\n"
     ]
    }
   ],
   "source": [
    "ls /tmp/pip_download"
   ]
  }
 ],
 "metadata": {
  "kernelspec": {
   "display_name": "Bash",
   "language": "bash",
   "name": "bash"
  },
  "language_info": {
   "codemirror_mode": "shell",
   "file_extension": ".sh",
   "mimetype": "text/x-sh",
   "name": "bash"
  }
 },
 "nbformat": 4,
 "nbformat_minor": 2
}
