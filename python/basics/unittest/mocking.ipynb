{
 "cells": [
  {
   "cell_type": "markdown",
   "id": "ee758633-c244-42bd-b31a-3d2df9e60d32",
   "metadata": {},
   "source": [
    "# Mocking\n",
    "\n",
    "Sometimes our programmes depend on external circumstances, but during unit testing we shouldn't worry about whether they work. And only test our code. So there are ways to change the behaviour of functions called in the programs being tested, to make it convenient for us to do the testing."
   ]
  },
  {
   "cell_type": "code",
   "execution_count": 1,
   "id": "32baec8b",
   "metadata": {},
   "outputs": [],
   "source": [
    "import unittest\n",
    "import unittest.mock"
   ]
  },
  {
   "cell_type": "markdown",
   "id": "1fb09609-7934-4276-9869-5a018e6eca0d",
   "metadata": {},
   "source": [
    "## Mock object\n",
    "\n",
    "You can define the behaviour of any object you like. Just pass a `Mock()` instance instead."
   ]
  },
  {
   "cell_type": "markdown",
   "id": "b5613f10-4d6e-4182-b170-56691bb05703",
   "metadata": {},
   "source": [
    "The following cell defines a class that can perform optional operations on the list using the `list_operation` method."
   ]
  },
  {
   "cell_type": "code",
   "execution_count": 2,
   "id": "fb505855-9af7-46f7-857e-a792f7a16879",
   "metadata": {},
   "outputs": [],
   "source": [
    "class Example:\n",
    "    def __init__(self, list_operation):\n",
    "        self.list_operation = list_operation\n",
    "    def call_fun(self, lst):\n",
    "        return self.list_operation(lst)"
   ]
  },
  {
   "cell_type": "markdown",
   "id": "b2b1933b-ebf9-4961-b85b-45db610eae92",
   "metadata": {},
   "source": [
    "Now suppose you want to write test to this class and check that `list_operation` has been called in the correct way."
   ]
  },
  {
   "cell_type": "markdown",
   "id": "6b249617-595a-4032-8066-f55376e78623",
   "metadata": {},
   "source": [
    "Just create `Mock()` instance and pass it insead of the function that have to be specified for `Example` in constructor.\n",
    "\n",
    "The following cell shows an example that checks the output of `Example.call_fun` and that everything passed correctly."
   ]
  },
  {
   "cell_type": "code",
   "execution_count": 3,
   "id": "083e2395-0b67-4d11-8e79-d167d9002d38",
   "metadata": {},
   "outputs": [
    {
     "name": "stderr",
     "output_type": "stream",
     "text": [
      "test_fail (__main__.TestExample)\n",
      "And to be sure that evertything ... FAIL\n",
      "test_ok (__main__.TestExample) ... ok\n",
      "\n",
      "======================================================================\n",
      "FAIL: test_fail (__main__.TestExample)\n",
      "And to be sure that evertything\n",
      "----------------------------------------------------------------------\n",
      "Traceback (most recent call last):\n",
      "  File \"/tmp/ipykernel_279798/3126998038.py\", line 33, in test_fail\n",
      "    mock_list_operation.assert_called_with([3,2,1])\n",
      "  File \"/usr/lib/python3.10/unittest/mock.py\", line 929, in assert_called_with\n",
      "    raise AssertionError(_error_message()) from cause\n",
      "AssertionError: expected call not found.\n",
      "Expected: mock([3, 2, 1])\n",
      "Actual: mock([10, 20, 30])\n",
      "\n",
      "----------------------------------------------------------------------\n",
      "Ran 2 tests in 0.002s\n",
      "\n",
      "FAILED (failures=1)\n"
     ]
    }
   ],
   "source": [
    "class TestExample(unittest.TestCase):\n",
    "    def test_ok(self):\n",
    "        # Create a mock object for list_operation\n",
    "        mock_list_operation = unittest.mock.Mock()\n",
    "        \n",
    "        # Define the behavior of the mock\n",
    "        mock_list_operation.return_value = \"mocked result\"\n",
    "        \n",
    "        # Instantiate the Example class with the mock\n",
    "        example = Example(mock_list_operation)\n",
    "        \n",
    "        # Create a sample list\n",
    "        sample_list = [1, 2, 3]\n",
    "        \n",
    "        # Call the call_fun method\n",
    "        result = example.call_fun(sample_list)\n",
    "        \n",
    "        # Assert that the result is as expected\n",
    "        self.assertEqual(result, \"mocked result\")\n",
    "        \n",
    "        # Assert that the mock was called with the correct arguments\n",
    "        mock_list_operation.assert_called_once_with(sample_list)\n",
    "\n",
    "    def test_fail(self):\n",
    "        '''\n",
    "        And to be sure that evertything\n",
    "        works lets try example that fails\n",
    "        '''\n",
    "        mock_list_operation = unittest.mock.Mock()\n",
    "        mock_list_operation.return_value = \"mocked result\"\n",
    "        example = Example(mock_list_operation)\n",
    "        example.call_fun([10,20,30])\n",
    "        mock_list_operation.assert_called_with([3,2,1])\n",
    "\n",
    "ans = unittest.main(argv=[''], verbosity=2, exit=False)\n",
    "del TestExample"
   ]
  },
  {
   "cell_type": "markdown",
   "id": "87d10d35-5351-4497-a4bd-4fa9a0f7474b",
   "metadata": {},
   "source": [
    "As expected, `test_ok` ran fine and `test_fail` failed."
   ]
  },
  {
   "cell_type": "markdown",
   "id": "2425cf6b",
   "metadata": {},
   "source": [
    "## Patch\n",
    "\n",
    "You can change the behavior of an existing function or method by patching it with `unittest.mock.patch`. You just need to specify the `target`, which refers to an object in Python. Find out more in the [specific page](mocking/patch.ipynb)."
   ]
  },
  {
   "cell_type": "markdown",
   "id": "d93abe33",
   "metadata": {},
   "source": [
    "---\n",
    "\n",
    "The following cell defines a function that we'll patch shortly. It's just a regular function with an obvious output."
   ]
  },
  {
   "cell_type": "code",
   "execution_count": 10,
   "id": "5413e7bb",
   "metadata": {},
   "outputs": [
    {
     "name": "stdout",
     "output_type": "stream",
     "text": [
      "5\n"
     ]
    }
   ],
   "source": [
    "def some_function(a, b):\n",
    "    return a + b\n",
    "\n",
    "print(some_function(3, 2))"
   ]
  },
  {
   "cell_type": "markdown",
   "id": "0d784ff0",
   "metadata": {},
   "source": [
    "The following cell wraps the function with the `unittest.mock.patch` context, where the path to that function is specified:"
   ]
  },
  {
   "cell_type": "code",
   "execution_count": 11,
   "id": "94ebc5cb",
   "metadata": {},
   "outputs": [
    {
     "name": "stdout",
     "output_type": "stream",
     "text": [
      "<class 'unittest.mock.MagicMock'>\n",
      "hello from patch\n"
     ]
    }
   ],
   "source": [
    "with unittest.mock.patch(\"__main__.some_function\") as patch:\n",
    "    print(type(patch))\n",
    "    patch.return_value = \"hello from patch\"\n",
    "    print(some_function(3, 2))"
   ]
  },
  {
   "cell_type": "markdown",
   "id": "ec39d45b",
   "metadata": {},
   "source": [
    "The target variable of the context manager - `patch` here - is of type `unittest.mock.MagicMock` and actually defines the behavior of the function specified as the target. Thus, calling `some_function` returns the value specified in the `return_value` attribute."
   ]
  }
 ],
 "metadata": {
  "kernelspec": {
   "display_name": "Python 3",
   "language": "python",
   "name": "python3"
  },
  "language_info": {
   "codemirror_mode": {
    "name": "ipython",
    "version": 3
   },
   "file_extension": ".py",
   "mimetype": "text/x-python",
   "name": "python",
   "nbconvert_exporter": "python",
   "pygments_lexer": "ipython3",
   "version": "3.10.12"
  }
 },
 "nbformat": 4,
 "nbformat_minor": 5
}
