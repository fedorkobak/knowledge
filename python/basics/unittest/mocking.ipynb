{
 "cells": [
  {
   "cell_type": "markdown",
   "id": "ee758633-c244-42bd-b31a-3d2df9e60d32",
   "metadata": {},
   "source": [
    "# Mocking\n",
    "\n",
    "Sometimes our programmes depend on external circumstances, but during unit testing we shouldn't worry about whether they work. And only test our code. So there are ways to change the behaviour of functions called in the programs being tested, to make it convenient for us to do the testing."
   ]
  },
  {
   "cell_type": "code",
   "execution_count": 2,
   "id": "32baec8b",
   "metadata": {},
   "outputs": [],
   "source": [
    "import unittest.mock"
   ]
  },
  {
   "cell_type": "markdown",
   "id": "0322c7f3",
   "metadata": {},
   "source": [
    "## Syntax\n",
    "\n",
    "There are several ways to perform mocking using the `unittest` library:  \n",
    "\n",
    "- **Defining a mock object**: This creates an object for which you can specify custom behavior.  \n",
    "- **Patching existing functions or methods**: This is often the most practical and widely used approach. There are several syntax options for patching:  \n",
    "  - **Using a context manager (`with`)**: The mock applies only within the scope of the `with` block, allowing you to define test-specific behavior.  \n",
    "  - **Using a decorator for a specific method**: The decorated method will use the mock instead of the real object during execution.  \n",
    "  - **Applying to an entire `unittest.TestCase` subclass**: All calls to the patched object within the test case will be handled by the corresponding mock.\n",
    "\n",
    "  Find out more in [particular page](mocking/syntax.ipynb)."
   ]
  },
  {
   "cell_type": "markdown",
   "id": "0c7bd212",
   "metadata": {},
   "source": [
    "---\n",
    "\n",
    "The following cell shows what Mock is. Object for which you can define what it must return when called."
   ]
  },
  {
   "cell_type": "code",
   "execution_count": 4,
   "id": "0f204af8",
   "metadata": {},
   "outputs": [
    {
     "data": {
      "text/plain": [
       "'Hello mock'"
      ]
     },
     "execution_count": 4,
     "metadata": {},
     "output_type": "execute_result"
    }
   ],
   "source": [
    "mock = unittest.mock.Mock()\n",
    "mock.return_value = \"Hello mock\"\n",
    "mock()"
   ]
  },
  {
   "cell_type": "markdown",
   "id": "7af0bed7",
   "metadata": {},
   "source": [
    "The following code shows the idea of the patch. The behaviour of `my_fun` inside the `with` block is changed according to the `return_value` attribute."
   ]
  },
  {
   "cell_type": "code",
   "execution_count": 11,
   "id": "c19ae469",
   "metadata": {},
   "outputs": [
    {
     "name": "stdout",
     "output_type": "stream",
     "text": [
      "Original output\n",
      "<class 'unittest.mock.MagicMock'>\n",
      "Hello patch\n"
     ]
    }
   ],
   "source": [
    "def my_fun(a, b):\n",
    "    return \"Original output\"\n",
    "\n",
    "print(my_fun(10, 20))\n",
    "\n",
    "with unittest.mock.patch(\"__main__.my_fun\") as mock_object:\n",
    "    print(type(mock_object))\n",
    "    mock_object.return_value = \"Hello patch\"\n",
    "    print(my_fun())"
   ]
  },
  {
   "cell_type": "markdown",
   "id": "023837d6",
   "metadata": {},
   "source": [
    "**Note:** The object returned by the context manager (`mock_object`) is of the `unittest.mock.MagicMock` type. You interact with it like any standard mock object, as it simply \"translates\" the defined behavior into the patched object."
   ]
  }
 ],
 "metadata": {
  "kernelspec": {
   "display_name": "venv",
   "language": "python",
   "name": "python3"
  },
  "language_info": {
   "codemirror_mode": {
    "name": "ipython",
    "version": 3
   },
   "file_extension": ".py",
   "mimetype": "text/x-python",
   "name": "python",
   "nbconvert_exporter": "python",
   "pygments_lexer": "ipython3",
   "version": "3.12.3"
  }
 },
 "nbformat": 4,
 "nbformat_minor": 5
}
