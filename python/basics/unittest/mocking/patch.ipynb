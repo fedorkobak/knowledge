{
 "cells": [
  {
   "cell_type": "markdown",
   "metadata": {},
   "source": [
    "# Patch\n",
    "\n",
    "You can change the behavior of an existing function or method by patching it with `unittest.mock.patch`. You just need to specify the `target`, which refers to an object in Python. Find out more in the [specific documentation page](https://docs.python.org/3/library/unittest.mock.html#unittest.mock.patch)."
   ]
  },
  {
   "cell_type": "code",
   "execution_count": 1,
   "metadata": {},
   "outputs": [],
   "source": [
    "import requests\n",
    "\n",
    "import unittest\n",
    "from unittest.mock import patch\n",
    "\n",
    "from sklearn.neighbors import KNeighborsRegressor"
   ]
  },
  {
   "cell_type": "markdown",
   "metadata": {},
   "source": [
    "## Target\n",
    "\n",
    "There’s always some mystery associated with specifying the `target` for mocking; this section focuses on the details.\n",
    "\n",
    "Target should be a string in the form 'package.module.ClassName'. The target is imported and the specified object replaced with the new object, so the target must be importable from the environment you are calling `patch()` from. The target is imported when the decorated function is executed, not at decoration time.\n",
    "\n",
    "**Note**: All targets in these notebook examples begin with the `__main__` section. This allows the patched object to be referenced in the same module as the patching code."
   ]
  },
  {
   "cell_type": "markdown",
   "metadata": {},
   "source": [
    "---\n",
    "\n",
    "The following example shows really typical case. For testing code that handles API reponse, but it's typical not ot have access to the API during code development - mocking output of the requesting tool is good option in such case."
   ]
  },
  {
   "cell_type": "code",
   "execution_count": 10,
   "metadata": {},
   "outputs": [],
   "source": [
    "def request_user(user_id):\n",
    "    response = requests.get(f\"https://im_not_exist/{user_id}\")\n",
    "    if response.ok:\n",
    "        return response.text\n",
    "    else:\n",
    "        return \"Fail!\""
   ]
  },
  {
   "cell_type": "markdown",
   "metadata": {},
   "source": [
    "Patching `requests.get` to return an object with the attribute `ok=True` allows us to ensure that we receive a response in a successful case."
   ]
  },
  {
   "cell_type": "code",
   "execution_count": null,
   "metadata": {},
   "outputs": [
    {
     "name": "stdout",
     "output_type": "stream",
     "text": [
      "Success\n"
     ]
    }
   ],
   "source": [
    "with patch(\"__main__.requests.get\") as mocked_get:    \n",
    "    mocked_get.return_value.ok = True\n",
    "    mocked_get.return_value.text = \"Success\"\n",
    "    print(request_user(\"User\"))"
   ]
  },
  {
   "cell_type": "markdown",
   "metadata": {},
   "source": [
    "Conversely, simulating an error response case returns the message corresponding to a failure."
   ]
  },
  {
   "cell_type": "code",
   "execution_count": 12,
   "metadata": {},
   "outputs": [
    {
     "name": "stdout",
     "output_type": "stream",
     "text": [
      "Fail!\n"
     ]
    }
   ],
   "source": [
    "with patch(\"__main__.requests.get\") as mocked_get:\n",
    "    mocked_get.return_value.ok = False\n",
    "    mocked_get.return_value.text = \"Success\"\n",
    "    print(request_user(\"User\"))"
   ]
  },
  {
   "cell_type": "markdown",
   "metadata": {},
   "source": [
    "### Class method\n",
    "\n",
    "You can modify the behavior of a class method as well, simply by specifying the path to it after the class name."
   ]
  },
  {
   "cell_type": "markdown",
   "metadata": {},
   "source": [
    "---\n",
    "\n",
    "As an example, consider another common case in my practice. When writing code that needs to handle a machine learning model, you don't necessarily need to use a specific model. Mocking the model's results is a good way to verify if everything works correctly. The following cell shows how to define the result of the `predict` method of the `__main__.KNeighboursRegressor` class."
   ]
  },
  {
   "cell_type": "code",
   "execution_count": 9,
   "metadata": {},
   "outputs": [
    {
     "name": "stdout",
     "output_type": "stream",
     "text": [
      "predict out\n"
     ]
    }
   ],
   "source": [
    "with patch(\"__main__.KNeighborsRegressor.predict\") as predict:\n",
    "    regressor = KNeighborsRegressor()\n",
    "    predict.return_value = 'predict out'\n",
    "    print(regressor.predict())"
   ]
  }
 ],
 "metadata": {
  "kernelspec": {
   "display_name": "Python 3",
   "language": "python",
   "name": "python3"
  },
  "language_info": {
   "codemirror_mode": {
    "name": "ipython",
    "version": 3
   },
   "file_extension": ".py",
   "mimetype": "text/x-python",
   "name": "python",
   "nbconvert_exporter": "python",
   "pygments_lexer": "ipython3",
   "version": "3.10.12"
  }
 },
 "nbformat": 4,
 "nbformat_minor": 2
}
