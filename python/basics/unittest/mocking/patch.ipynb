{
 "cells": [
  {
   "cell_type": "markdown",
   "metadata": {},
   "source": [
    "# Patch"
   ]
  },
  {
   "cell_type": "markdown",
   "metadata": {},
   "source": [
    "## Patch name"
   ]
  },
  {
   "cell_type": "markdown",
   "metadata": {},
   "source": [
    "Suppose you have service that answers some information about user. Just like the function in the next cell:"
   ]
  },
  {
   "cell_type": "code",
   "execution_count": null,
   "metadata": {},
   "outputs": [],
   "source": [
    "import requests\n",
    "\n",
    "def request_user(user_id):\n",
    "    response = requests.get(f\"https://im_not_exist/{user_id}\")\n",
    "    if response.ok:\n",
    "        return response.text\n",
    "    else:\n",
    "        return \"Fail!\""
   ]
  },
  {
   "cell_type": "markdown",
   "metadata": {},
   "source": [
    "Now we have to test this code. But you don't need to rely on any particular service in your tests, and you know that the requesting function under consideration uses `requests.get` to access information about the user from the service. So the best option for you here is to mock the `requests.get` function. So for test you change it behaviour in benificial for you way.\n",
    "\n",
    "To do this, use the following syntax `unittest.mock.patch(\"<module under tests>.<name of the function to mock>\")` as an object for the context manager. You must specify a module to change the behaviour of the function for that module only.\n",
    "\n",
    "So such an option is implemented in the following cell. We've replaced the `request.get` function in the `request_user` module for test purposes. And check with which arguments it was called with and specify the properties of its output for particular case."
   ]
  },
  {
   "cell_type": "code",
   "execution_count": null,
   "metadata": {},
   "outputs": [
    {
     "name": "stderr",
     "output_type": "stream",
     "text": [
      "test_fail_case (__main__.TestUserReques)\n",
      "Fail case. Suppose we got bad response ... ok\n",
      "test_success_case (__main__.TestUserReques)\n",
      "Sucessfull case. Suppose we got nice ... ok\n",
      "\n",
      "----------------------------------------------------------------------\n",
      "Ran 2 tests in 0.002s\n",
      "\n",
      "OK\n"
     ]
    },
    {
     "name": "stdout",
     "output_type": "stream",
     "text": [
      "Fail!\n",
      "Success\n"
     ]
    }
   ],
   "source": [
    "import unittest\n",
    "from unittest.mock import patch\n",
    "\n",
    "class TestUserReques(unittest.TestCase):\n",
    "    \n",
    "    def test_success_case(self):\n",
    "        '''\n",
    "        Sucessfull case. Suppose we got nice\n",
    "        repsonse from requests.get in request_user function.\n",
    "        '''\n",
    "        with patch(\"__main__.requests.get\") as mocked_get:\n",
    "            # set that output of the request_user.requests.get\n",
    "            # will have properties `ok == True` `text==\"Success`\n",
    "            mocked_get.return_value.ok = True\n",
    "            mocked_get.return_value.text = \"Success\"\n",
    "            \n",
    "            response = request_user(\"Fedor\")\n",
    "            # request_user should have called `get` with specific url\n",
    "            mocked_get.assert_called_with(\"https://im_not_exist/Fedor\")\n",
    "            # and \"text\" property have to be just like we specified\n",
    "            self.assertEqual(response, \"Success\")\n",
    "\n",
    "    def test_fail_case(self):\n",
    "        '''\n",
    "        Fail case. Suppose we got bad response\n",
    "        from requests.get in the request_user function.\n",
    "        '''\n",
    "        with patch(\"__main__.requests.get\") as mocked_get:\n",
    "            # set that output of the request_user.requests.get\n",
    "            # will have properties `ok == False` `text==\"Success`\n",
    "            # actually we don't really care wich exactly value\n",
    "            # takes `return_value.text` - `return_value.ok==False`\n",
    "            # will make answer \"Fail!\" anyway\n",
    "            mocked_get.return_value.ok = False\n",
    "            mocked_get.return_value.text = \"Success\"\n",
    "            \n",
    "            response = request_user(\"Ekaterina\")\n",
    "            # request_user should have called `get` with specific url\n",
    "            mocked_get.assert_called_with(\"https://im_not_exist/Ekaterina\")\n",
    "            # but answer anyway have to be \"Fail!\" \n",
    "            self.assertEqual(response, \"Fail!\")\n",
    "\n",
    "ans = unittest.main(argv=[''], verbosity=2, exit=False)\n",
    "del TestUserReques"
   ]
  },
  {
   "cell_type": "markdown",
   "metadata": {},
   "source": [
    "## Patch class method"
   ]
  },
  {
   "cell_type": "markdown",
   "metadata": {},
   "source": [
    "Due to the specifics of the tasks I face I often had to make classes that somehow turn around machine learning models. That is, there was a class that contained the model, it should prepare data to feed into the model and process its results.\n",
    "\n",
    "However, this pattern can occur in other variations. Here we will consider the peculiarities of working with it."
   ]
  },
  {
   "cell_type": "markdown",
   "metadata": {},
   "source": [
    "### Known type"
   ]
  },
  {
   "cell_type": "markdown",
   "metadata": {},
   "source": [
    "In the following cell, such a pattern has just been re-created schematically. And for this case it's important that I know type of the `ClassUnderConsider.obj`."
   ]
  },
  {
   "cell_type": "code",
   "execution_count": null,
   "metadata": {},
   "outputs": [],
   "source": [
    "from sklearn.neighbors import KNeighborsRegressor\n",
    "\n",
    "class ClassUnderConsider():\n",
    "    def __init__(self):\n",
    "        # model creating\n",
    "        # it isn't necessary to fit it somehow\n",
    "        # because we will change it's behaviour\n",
    "        # anyway\n",
    "        self.obj = KNeighborsRegressor()\n",
    "\n",
    "    \n",
    "    def explode_object(self):\n",
    "        # we will later change behavior of the `predict`\n",
    "        # method so there aren't any sence to care\n",
    "        # about arguments it taking\n",
    "        ans = self.obj.predict()\n",
    "        # just returning of `predict` outputs\n",
    "        # we will replace it outputs as well\n",
    "        return ans"
   ]
  },
  {
   "cell_type": "markdown",
   "metadata": {},
   "source": [
    "Now test for such a case. We need to make `obj.predict` behave as we need it to during the test run. So `obj` is an instance of the `sklearn.neighbours.KNeighborsRegressor` class, so we can mock it's `predict` method and everything will be fine.\n",
    "\n",
    "Exactly such a scheme is implemented in the following cell:"
   ]
  },
  {
   "cell_type": "code",
   "execution_count": null,
   "metadata": {},
   "outputs": [
    {
     "name": "stderr",
     "output_type": "stream",
     "text": [
      "test_explode_object (__main__.ClassTester) ... ok\n",
      "\n",
      "----------------------------------------------------------------------\n",
      "Ran 1 test in 0.001s\n",
      "\n",
      "OK\n"
     ]
    },
    {
     "name": "stdout",
     "output_type": "stream",
     "text": [
      "Value from predict - Something predicted\n"
     ]
    }
   ],
   "source": [
    "import unittest\n",
    "from unittest.mock import patch\n",
    "\n",
    "class ClassTester(unittest.TestCase):\n",
    "    def test_explode_object(self):\n",
    "        testing_instance = ClassUnderConsider()\n",
    "        # mocking method under consideration\n",
    "        with patch(\"__main__.KNeighborsRegressor.predict\") as mocked_predict:\n",
    "\n",
    "            # now make it return what we are interested in\n",
    "            exp_ans = \"Something predicted\"\n",
    "            mocked_predict.return_value = exp_ans\n",
    "\n",
    "            # lets execute method that is udner testing\n",
    "            # and print what it return - it have to be our\n",
    "            # exp_ans\n",
    "            real_ans = testing_instance.explode_object()\n",
    "            print(\"Value from predict -\", real_ans)\n",
    "\n",
    "            # and finally chekc of the test\n",
    "            self.assertEqual(exp_ans, real_ans)\n",
    "\n",
    "ans = unittest.main(argv=[''], verbosity=2, exit=False)\n",
    "del ClassTester"
   ]
  },
  {
   "cell_type": "markdown",
   "metadata": {},
   "source": [
    "\"Something predicted\" was printed that just how we mocked `KNeighborsRegressor.predict`."
   ]
  },
  {
   "cell_type": "markdown",
   "metadata": {},
   "source": [
    "### Unknown type"
   ]
  },
  {
   "cell_type": "markdown",
   "metadata": {},
   "source": [
    "It's also popular when different types of objects can be wrapped. So suppose object of the model passed as external object. Just like example below:"
   ]
  },
  {
   "cell_type": "code",
   "execution_count": null,
   "metadata": {},
   "outputs": [],
   "source": [
    "class ClassUnderConsider():\n",
    "    def __init__(self, obj):\n",
    "        # so we got external object that\n",
    "        # with unknown type\n",
    "        self.obj = obj\n",
    "\n",
    "    \n",
    "    def explode_object(self):\n",
    "        ans = self.obj.predict()\n",
    "        return ans"
   ]
  },
  {
   "cell_type": "markdown",
   "metadata": {},
   "source": [
    "**Intuitive but wrong**\n",
    "\n",
    "It's very tempting to make an attempt to change behaviour of the `ClassUnderConsider.obj.predict` but it won't work. In the following cell I'll show it."
   ]
  },
  {
   "cell_type": "code",
   "execution_count": null,
   "metadata": {},
   "outputs": [
    {
     "name": "stderr",
     "output_type": "stream",
     "text": [
      "test_explode_object (__main__.ClassTester) ... ERROR\n",
      "\n",
      "======================================================================\n",
      "ERROR: test_explode_object (__main__.ClassTester)\n",
      "----------------------------------------------------------------------\n",
      "Traceback (most recent call last):\n",
      "  File \"/tmp/ipykernel_23027/691487794.py\", line 11, in test_explode_object\n",
      "    with patch(\"__main__.ClassUnderConsider.obj.predict\") as mocked_predict:\n",
      "  File \"/usr/lib/python3.10/unittest/mock.py\", line 1431, in __enter__\n",
      "    self.target = self.getter()\n",
      "  File \"/usr/lib/python3.10/unittest/mock.py\", line 1618, in <lambda>\n",
      "    getter = lambda: _importer(target)\n",
      "  File \"/usr/lib/python3.10/unittest/mock.py\", line 1261, in _importer\n",
      "    thing = _dot_lookup(thing, comp, import_path)\n",
      "  File \"/usr/lib/python3.10/unittest/mock.py\", line 1250, in _dot_lookup\n",
      "    __import__(import_path)\n",
      "ModuleNotFoundError: No module named '__main__.ClassUnderConsider'; '__main__' is not a package\n",
      "\n",
      "----------------------------------------------------------------------\n",
      "Ran 1 test in 0.001s\n",
      "\n",
      "FAILED (errors=1)\n"
     ]
    }
   ],
   "source": [
    "import unittest\n",
    "from unittest.mock import patch\n",
    "from sklearn.neighbors import KNeighborsRegressor\n",
    "\n",
    "class ClassTester(unittest.TestCase):\n",
    "    def test_explode_object(self):\n",
    "        testing_instance = ClassUnderConsider(KNeighborsRegressor())\n",
    "        # here in `patch` I'm trying to refer to the\n",
    "        # __main__.ClassUnderConsider.obj.predict\n",
    "        # but it won't work\n",
    "        with patch(\"__main__.ClassUnderConsider.obj.predict\") as mocked_predict:\n",
    "            exp_ans = \"Something predicted\"\n",
    "            mocked_predict.return_value = exp_ans\n",
    "\n",
    "            real_ans = testing_instance.explode_object()\n",
    "            print(\"Value from predict -\", real_ans)\n",
    "\n",
    "            self.assertEqual(exp_ans, real_ans)\n",
    "\n",
    "\n",
    "ans = unittest.main(argv=[''], verbosity=2, exit=False)\n",
    "del ClassTester"
   ]
  },
  {
   "cell_type": "markdown",
   "metadata": {},
   "source": [
    "So we got an error saying that it's not possible to use `\"__main__.ClassUnderConsider.obj.predict\"` inside the `patch` function."
   ]
  },
  {
   "cell_type": "markdown",
   "metadata": {},
   "source": [
    "**Possible solution**\n",
    "\n",
    "The best option found here is just create fake class that is just behave like expected in test to behave and don't use any features fo the `unittest`."
   ]
  },
  {
   "cell_type": "code",
   "execution_count": null,
   "metadata": {},
   "outputs": [
    {
     "name": "stderr",
     "output_type": "stream",
     "text": [
      "test_explode_object (__main__.ClassTester) ... ok\n",
      "\n",
      "----------------------------------------------------------------------\n",
      "Ran 1 test in 0.001s\n",
      "\n",
      "OK\n"
     ]
    },
    {
     "name": "stdout",
     "output_type": "stream",
     "text": [
      "Value from predict - Something predicted\n"
     ]
    }
   ],
   "source": [
    "import unittest\n",
    "from unittest.mock import patch\n",
    "from sklearn.neighbors import KNeighborsRegressor\n",
    "\n",
    "class ClassTester(unittest.TestCase):\n",
    "    def test_explode_object(self):\n",
    "        \n",
    "        exp_ans = \"Something predicted\"\n",
    "        # here is class that have all necessary for\n",
    "        # `ClassUnderConsider` methods, and I know\n",
    "        # how exactly it works\n",
    "        class ModelImitator():\n",
    "            # it's predict just return expected value\n",
    "            def predict(self): return exp_ans\n",
    "\n",
    "        testing_instance = ClassUnderConsider(ModelImitator())\n",
    "\n",
    "        real_ans = testing_instance.explode_object()\n",
    "        print(\"Value from predict -\", real_ans)\n",
    "        self.assertEqual(exp_ans, real_ans)\n",
    "\n",
    "ans = unittest.main(argv=[''], verbosity=2, exit=False)\n",
    "del ClassTester"
   ]
  },
  {
   "cell_type": "markdown",
   "metadata": {},
   "source": [
    "Now it's outputs just like in case with known type of the object."
   ]
  }
 ],
 "metadata": {
  "language_info": {
   "name": "python"
  }
 },
 "nbformat": 4,
 "nbformat_minor": 2
}
