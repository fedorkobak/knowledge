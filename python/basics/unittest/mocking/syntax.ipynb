{
 "cells": [
  {
   "cell_type": "markdown",
   "id": "b9ab4d95-5cf4-44f3-b6c0-aadc63989081",
   "metadata": {},
   "source": [
    "# Syntax\n",
    "\n",
    "Here we look at different syntax options for performing mocking."
   ]
  },
  {
   "cell_type": "code",
   "execution_count": 1,
   "id": "e7f64b2a",
   "metadata": {},
   "outputs": [],
   "source": [
    "import unittest"
   ]
  },
  {
   "cell_type": "markdown",
   "id": "7bfe3a0b",
   "metadata": {},
   "source": [
    "## Mock object\n",
    "\n",
    "You can define the behaviour of any object you like. Just pass a `Mock()` instance instead."
   ]
  },
  {
   "cell_type": "markdown",
   "id": "fc55fc73",
   "metadata": {},
   "source": [
    "---\n",
    "\n",
    "The following cell defines a class that can perform optional operations on the list using the `list_operation` method."
   ]
  },
  {
   "cell_type": "code",
   "execution_count": null,
   "id": "550de98c",
   "metadata": {},
   "outputs": [],
   "source": [
    "class Example:\n",
    "    def __init__(self, list_operation):\n",
    "        self.list_operation = list_operation\n",
    "    def call_fun(self, lst):\n",
    "        return self.list_operation(lst)"
   ]
  },
  {
   "cell_type": "markdown",
   "id": "46158d41",
   "metadata": {},
   "source": [
    "Now suppose you want to write test to this class and check that `list_operation` has been called in the correct way."
   ]
  },
  {
   "cell_type": "markdown",
   "id": "a4c604a9",
   "metadata": {},
   "source": [
    "Just create `Mock()` instance and pass it insead of the function that have to be specified for `Example` in constructor.\n",
    "\n",
    "The following cell shows an example that checks the output of `Example.call_fun` and that everything passed correctly."
   ]
  },
  {
   "cell_type": "code",
   "execution_count": null,
   "id": "729ce330",
   "metadata": {},
   "outputs": [
    {
     "name": "stderr",
     "output_type": "stream",
     "text": [
      "test_fail (__main__.TestExample)\n",
      "And to be sure that evertything ... FAIL\n",
      "test_ok (__main__.TestExample) ... ok\n",
      "\n",
      "======================================================================\n",
      "FAIL: test_fail (__main__.TestExample)\n",
      "And to be sure that evertything\n",
      "----------------------------------------------------------------------\n",
      "Traceback (most recent call last):\n",
      "  File \"/tmp/ipykernel_279798/3126998038.py\", line 33, in test_fail\n",
      "    mock_list_operation.assert_called_with([3,2,1])\n",
      "  File \"/usr/lib/python3.10/unittest/mock.py\", line 929, in assert_called_with\n",
      "    raise AssertionError(_error_message()) from cause\n",
      "AssertionError: expected call not found.\n",
      "Expected: mock([3, 2, 1])\n",
      "Actual: mock([10, 20, 30])\n",
      "\n",
      "----------------------------------------------------------------------\n",
      "Ran 2 tests in 0.002s\n",
      "\n",
      "FAILED (failures=1)\n"
     ]
    }
   ],
   "source": [
    "class TestExample(unittest.TestCase):\n",
    "    def test_ok(self):\n",
    "        \n",
    "        # Creating mock and difining it's behaviour\n",
    "        mock_list_operation = unittest.mock.Mock()\n",
    "        mock_list_operation.return_value = \"mocked result\"\n",
    "\n",
    "        example = Example(mock_list_operation)\n",
    "        \n",
    "        sample_list = [1, 2, 3]\n",
    "        \n",
    "        result = example.call_fun(sample_list)\n",
    "        # Assert that the result is as expected\n",
    "        self.assertEqual(result, \"mocked result\")\n",
    "        \n",
    "        # Assert that the mock was called with the correct arguments\n",
    "        mock_list_operation.assert_called_once_with(sample_list)\n",
    "\n",
    "    def test_fail(self):\n",
    "        '''\n",
    "        And to be sure that evertything\n",
    "        works lets try example that fails\n",
    "        '''\n",
    "        mock_list_operation = unittest.mock.Mock()\n",
    "        mock_list_operation.return_value = \"mocked result\"\n",
    "        example = Example(mock_list_operation)\n",
    "        example.call_fun([10,20,30])\n",
    "        mock_list_operation.assert_called_with([3,2,1])\n",
    "\n",
    "ans = unittest.main(argv=[''], verbosity=2, exit=False)\n",
    "del TestExample"
   ]
  },
  {
   "cell_type": "markdown",
   "id": "feb7db0e",
   "metadata": {},
   "source": [
    "As expected, `test_ok` ran fine and `test_fail` failed."
   ]
  },
  {
   "cell_type": "markdown",
   "id": "77752492",
   "metadata": {},
   "source": [
    "## Patch\n",
    "\n",
    "You can change the behavior of an existing function or method by patching it with `unittest.mock.patch`. You just need to specify the `target`, which refers to an object in Python. Find out more in the [specific page](mocking/patch.ipynb)."
   ]
  },
  {
   "cell_type": "markdown",
   "id": "9da52db2",
   "metadata": {},
   "source": [
    "---\n",
    "\n",
    "The following cell defines a function that we'll patch shortly. It's just a regular function with an obvious output."
   ]
  },
  {
   "cell_type": "code",
   "execution_count": null,
   "id": "25a282c3",
   "metadata": {},
   "outputs": [
    {
     "name": "stdout",
     "output_type": "stream",
     "text": [
      "5\n"
     ]
    }
   ],
   "source": [
    "def some_function(a, b):\n",
    "    return a + b\n",
    "\n",
    "print(some_function(3, 2))"
   ]
  },
  {
   "cell_type": "markdown",
   "id": "33ee4916",
   "metadata": {},
   "source": [
    "The following cell wraps the function with the `unittest.mock.patch` context, where the path to that function is specified:"
   ]
  },
  {
   "cell_type": "code",
   "execution_count": null,
   "id": "c16cda95",
   "metadata": {},
   "outputs": [
    {
     "name": "stdout",
     "output_type": "stream",
     "text": [
      "<class 'unittest.mock.MagicMock'>\n",
      "hello from patch\n"
     ]
    }
   ],
   "source": [
    "with unittest.mock.patch(\"__main__.some_function\") as patch:\n",
    "    print(type(patch))\n",
    "    patch.return_value = \"hello from patch\"\n",
    "    print(some_function(3, 2))"
   ]
  },
  {
   "cell_type": "markdown",
   "id": "dcc0e200",
   "metadata": {},
   "source": [
    "The target variable of the context manager - `patch` here - is of type `unittest.mock.MagicMock` and actually defines the behavior of the function specified as the target. Thus, calling `some_function` returns the value specified in the `return_value` attribute."
   ]
  },
  {
   "cell_type": "markdown",
   "id": "fbd61466-3b81-4fdf-9010-c5dbd5756570",
   "metadata": {},
   "source": [
    "## Context manager\n",
    "\n",
    "You can use the context manager `with` for mocking. Just use `patch(<path to function>)` as object to the `with`. The name you specify after the `as` operator will help you to manage the behaviour of the mocked object. Inside `with` all calls to the mocked function will follow the specified behaviour."
   ]
  },
  {
   "cell_type": "markdown",
   "id": "4390f74c-c314-4b4f-8d8d-bf6dd4938555",
   "metadata": {},
   "source": [
    "---\n",
    "\n",
    "The following example shows how this can be done. Here we have a `consideration_function` which returns the result of the `simple_function` and a test which changes the behaviour of the `simple_function` and prints output of calling `consideration_function`."
   ]
  },
  {
   "cell_type": "code",
   "execution_count": 4,
   "id": "bd56a1ee-a040-443b-b15e-027fb2168340",
   "metadata": {},
   "outputs": [
    {
     "name": "stderr",
     "output_type": "stream",
     "text": [
      "test_my_case (__main__.TestUserReques) ... ok\n",
      "\n",
      "----------------------------------------------------------------------\n",
      "Ran 1 test in 0.002s\n",
      "\n",
      "OK\n"
     ]
    },
    {
     "name": "stdout",
     "output_type": "stream",
     "text": [
      "It was mocked\n"
     ]
    }
   ],
   "source": [
    "\n",
    "import unittest\n",
    "from unittest.mock import patch\n",
    "\n",
    "def simple_function():\n",
    "    return \"Initial response\"\n",
    "def consideration_function():\n",
    "    return simple_function()\n",
    "\n",
    "class TestUserReques(unittest.TestCase):\n",
    "    def test_my_case(self):\n",
    "        with patch(\"__main__.simple_function\") as mocked_simple:\n",
    "            mocked_simple.return_value = \"It was mocked\"\n",
    "            print(consideration_function())\n",
    "\n",
    "ans = unittest.main(argv=[''], verbosity=2, exit=False)\n",
    "del TestUserReques"
   ]
  },
  {
   "cell_type": "markdown",
   "id": "8df89c08-1ab2-4fa0-a240-200887b82356",
   "metadata": {},
   "source": [
    "We see the line `It was mocked` in the output, signalling that the behaviour of the `simple_function` has been changed."
   ]
  },
  {
   "cell_type": "markdown",
   "id": "ba31f9a3-3b0e-4d44-9654-900145422d0b",
   "metadata": {},
   "source": [
    "## Mock with decorator\n",
    "\n",
    "There is an option to do mocking using decorator syntax. Just use `patch(<path to the function>)` as the decorator. The function you're wrapping with the decorator should have an argument that you use to set the behaviour."
   ]
  },
  {
   "cell_type": "markdown",
   "id": "0af2cc52-1360-4dff-817a-9c872edb7db6",
   "metadata": {},
   "source": [
    "---\n",
    "\n",
    "The following cell just reporduce example for context manager using decorator syntax."
   ]
  },
  {
   "cell_type": "code",
   "execution_count": 5,
   "id": "a310625a-f221-47a8-ae9b-e39fc85164aa",
   "metadata": {},
   "outputs": [
    {
     "name": "stderr",
     "output_type": "stream",
     "text": [
      "test_my_case (__main__.TestUserReques) ... ok\n",
      "\n",
      "----------------------------------------------------------------------\n",
      "Ran 1 test in 0.003s\n",
      "\n",
      "OK\n"
     ]
    },
    {
     "name": "stdout",
     "output_type": "stream",
     "text": [
      "It was mocked\n"
     ]
    }
   ],
   "source": [
    "import unittest\n",
    "from unittest.mock import patch\n",
    "\n",
    "def simple_function():\n",
    "    return \"Initial response\"\n",
    "def consideration_function():\n",
    "    return simple_function()\n",
    "\n",
    "class TestUserReques(unittest.TestCase):\n",
    "    @patch(\"__main__.simple_function\")\n",
    "    def test_my_case(self, mocked_simple):\n",
    "        mocked_simple.return_value = \"It was mocked\"\n",
    "        print(consideration_function())\n",
    "\n",
    "ans = unittest.main(argv=[''], verbosity=2, exit=False)\n",
    "del TestUserReques"
   ]
  },
  {
   "cell_type": "markdown",
   "id": "461a3c32-5f86-4db9-bb8a-dc0c08704b16",
   "metadata": {},
   "source": [
    "### Several decorators\n",
    "\n",
    "Remember that you can apply multiple decorators to a function. This allows you to mock several functions within one test."
   ]
  },
  {
   "cell_type": "markdown",
   "id": "04d08fa9-a48e-48e2-a15c-07df025cb134",
   "metadata": {},
   "source": [
    "The following example shows the changing behaviour of the `hello` and `world` functions."
   ]
  },
  {
   "cell_type": "code",
   "execution_count": 6,
   "id": "83457b8d-ea89-4042-870d-bb015510249b",
   "metadata": {},
   "outputs": [
    {
     "name": "stderr",
     "output_type": "stream",
     "text": [
      "test_my_case (__main__.TestUserReques) ... ok\n",
      "\n",
      "----------------------------------------------------------------------\n",
      "Ran 1 test in 0.002s\n",
      "\n",
      "OK\n"
     ]
    },
    {
     "name": "stdout",
     "output_type": "stream",
     "text": [
      "good buy hell\n"
     ]
    }
   ],
   "source": [
    "from unittest.mock import patch\n",
    "\n",
    "def hello():\n",
    "    return \"hello\"\n",
    "def world():\n",
    "    return \"world\"\n",
    "def consideration_function():\n",
    "    return f\"{hello()} {world()}\"\n",
    "\n",
    "class TestUserReques(unittest.TestCase):\n",
    "    @patch(\"__main__.hello\")\n",
    "    @patch(\"__main__.world\")\n",
    "    def test_my_case(self, world, hello):\n",
    "        hello.return_value = \"good buy\"\n",
    "        world.return_value = \"hell\"\n",
    "        print(consideration_function())\n",
    "\n",
    "ans = unittest.main(argv=[''], verbosity=2, exit=False)\n",
    "del TestUserReques"
   ]
  },
  {
   "cell_type": "markdown",
   "id": "0cdd31fe-a8a6-4dca-81ea-d22685ae98ae",
   "metadata": {},
   "source": [
    "**Note** that arguments in function under decorator should follow the order in which decorators are applied. And the order of decorators is from bottom to top. So you have to follow schema:\n",
    "\n",
    "```python\n",
    "@patch(functionN)\n",
    "...\n",
    "@patch(function2)\n",
    "@patch(funciton1)\n",
    "def test_method(self, fun1, fun2, ..., funN):\n",
    "```"
   ]
  }
 ],
 "metadata": {
  "kernelspec": {
   "display_name": "venv",
   "language": "python",
   "name": "python3"
  },
  "language_info": {
   "codemirror_mode": {
    "name": "ipython",
    "version": 3
   },
   "file_extension": ".py",
   "mimetype": "text/x-python",
   "name": "python",
   "nbconvert_exporter": "python",
   "pygments_lexer": "ipython3",
   "version": "3.12.3"
  }
 },
 "nbformat": 4,
 "nbformat_minor": 5
}
