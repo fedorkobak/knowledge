{
 "cells": [
  {
   "cell_type": "markdown",
   "metadata": {},
   "source": [
    "# Decorators\n",
    "\n",
    "It's a sugar that allows to modify behaviour of the functions or classes."
   ]
  },
  {
   "cell_type": "markdown",
   "metadata": {},
   "source": [
    "## Syntax\n",
    "\n",
    "Decorator actually is just a function that takes fucntion and return other function."
   ]
  },
  {
   "cell_type": "markdown",
   "metadata": {},
   "source": [
    "---\n",
    "\n",
    "The following cell defines a decorator, which is a function that takes another function as an argument and returns a modified version of that function. During the creation of the new function, it prints `Functionality during function modification.` Additionally, it prints `Functionality to be added.` each time the modified function is called."
   ]
  },
  {
   "cell_type": "code",
   "execution_count": null,
   "metadata": {},
   "outputs": [],
   "source": [
    "def wrapper_function(modified_function):\n",
    "    print(\"Functionality during function modification.\")\n",
    "    def inner_function():\n",
    "        print(\"Functionality to be added.\")\n",
    "        modified_function()\n",
    "    return inner_function"
   ]
  },
  {
   "cell_type": "markdown",
   "metadata": {},
   "source": [
    "Now the most straighfoward way to use it. Here defined earlier `wrapper_function` is used for getting `decorated_function` which is modification of the `function_to_decoration`."
   ]
  },
  {
   "cell_type": "code",
   "execution_count": null,
   "metadata": {},
   "outputs": [
    {
     "name": "stdout",
     "output_type": "stream",
     "text": [
      "Functionality during function modification.\n"
     ]
    }
   ],
   "source": [
    "def function_to_decoration():\n",
    "    print(\"Original functionality\")\n",
    "\n",
    "decorated_function = wrapper_function(function_to_decoration)"
   ]
  },
  {
   "cell_type": "markdown",
   "metadata": {},
   "source": [
    "So during modification we got executed `print(\"Functionality during function modification.\")`."
   ]
  },
  {
   "cell_type": "code",
   "execution_count": null,
   "metadata": {},
   "outputs": [
    {
     "name": "stdout",
     "output_type": "stream",
     "text": [
      "Functionality to be added.\n",
      "Original functionality\n"
     ]
    }
   ],
   "source": [
    "decorated_function()"
   ]
  },
  {
   "cell_type": "markdown",
   "metadata": {},
   "source": [
    "Each call executes the functionality defined by `inner_function`, followed by the original function in `function_to_decorate`."
   ]
  },
  {
   "cell_type": "markdown",
   "metadata": {},
   "source": [
    "This may seem like playful experimentation with functions, but you can achieve the same result using the following syntax:"
   ]
  },
  {
   "cell_type": "code",
   "execution_count": null,
   "metadata": {},
   "outputs": [
    {
     "name": "stdout",
     "output_type": "stream",
     "text": [
      "Functionality during function modification.\n"
     ]
    }
   ],
   "source": [
    "@wrapper_function\n",
    "def function_to_decoration():\n",
    "    print(\"Original functionality\")"
   ]
  },
  {
   "cell_type": "markdown",
   "metadata": {},
   "source": [
    "The code in the previous cell is equivalent to `function_to_decorate = wrapper_function(function_to_decorate)`. As a result, the output behaves the same way as it did without using any special syntax."
   ]
  },
  {
   "cell_type": "code",
   "execution_count": null,
   "metadata": {},
   "outputs": [
    {
     "name": "stdout",
     "output_type": "stream",
     "text": [
      "Functionality to be added.\n",
      "Original functionality\n"
     ]
    }
   ],
   "source": [
    "function_to_decoration()"
   ]
  }
 ],
 "metadata": {
  "language_info": {
   "name": "python"
  }
 },
 "nbformat": 4,
 "nbformat_minor": 2
}
