{
 "cells": [
  {
   "cell_type": "markdown",
   "metadata": {},
   "source": [
    "# Packages\n",
    "\n",
    "The main feature of Python is its extensive collection of packages that enhance its functionality. On this page, we will explore various aspects of working with some of these packages.\n",
    "\n",
    "**Note:** Some packages have dedicated sections."
   ]
  },
  {
   "cell_type": "markdown",
   "metadata": {
    "vscode": {
     "languageId": "plaintext"
    }
   },
   "source": [
    "## tqdm\n",
    "\n",
    "`tqdm` is a package that allows to create progress bars in the terminal using pseudographics. For more details check [specific page](packages/tqdm.ipynb)."
   ]
  },
  {
   "cell_type": "markdown",
   "metadata": {},
   "source": [
    "---\n",
    "\n",
    "The following cell demonstrates typical usage of `tqdm`. The `tqdm.tqdm` object wraps an iterable in a `for` loop, so each iteration of the loop increments the progress bar by 1."
   ]
  },
  {
   "cell_type": "code",
   "execution_count": 5,
   "metadata": {},
   "outputs": [
    {
     "name": "stderr",
     "output_type": "stream",
     "text": [
      "my bar: 100%|███████████████████████████████████████████████████| 10/10 [00:00<00:00, 257319.26it/s]\n"
     ]
    }
   ],
   "source": [
    "import tqdm\n",
    "for i in tqdm.tqdm(range(10), ncols=100, desc=\"my bar\"): i"
   ]
  },
  {
   "cell_type": "markdown",
   "metadata": {},
   "source": [
    "## zipfile\n",
    "\n",
    "`zipfile` is a package that allows you to operate on ZIP archives in Python."
   ]
  },
  {
   "cell_type": "markdown",
   "metadata": {},
   "source": [
    "---\n",
    "\n",
    "As an example, we'll create a ZIP file using a Linux command line, and then unpack that archive using Python.\n",
    "\n",
    "The following cell is creating file that we'll use as example."
   ]
  },
  {
   "cell_type": "code",
   "execution_count": 17,
   "metadata": {},
   "outputs": [
    {
     "name": "stdout",
     "output_type": "stream",
     "text": [
      "  adding: zip_example_file (stored 0%)\n"
     ]
    }
   ],
   "source": [
    "%%bash\n",
    "echo \"zipped message\" > zip_example_file\n",
    "zip -r archive.zip zip_example_file\n",
    "rm zip_example_file"
   ]
  },
  {
   "cell_type": "markdown",
   "metadata": {},
   "source": [
    "Now, using `zipfile.ZipFile`, we'll open the created archive and extract all its contents to the current directory."
   ]
  },
  {
   "cell_type": "code",
   "execution_count": 18,
   "metadata": {},
   "outputs": [],
   "source": [
    "from zipfile import ZipFile\n",
    "with ZipFile(\"archive.zip\") as f:\n",
    "    f.extractall(\".\")"
   ]
  },
  {
   "cell_type": "markdown",
   "metadata": {},
   "source": [
    "Now we can check the contents of the extracted file - it the same like during creation."
   ]
  },
  {
   "cell_type": "code",
   "execution_count": 19,
   "metadata": {},
   "outputs": [
    {
     "name": "stdout",
     "output_type": "stream",
     "text": [
      "zipped message\n"
     ]
    }
   ],
   "source": [
    "!cat zip_example_file"
   ]
  },
  {
   "cell_type": "markdown",
   "metadata": {},
   "source": [
    "After everything is done, don't forget to clear the environment."
   ]
  },
  {
   "cell_type": "code",
   "execution_count": 20,
   "metadata": {},
   "outputs": [],
   "source": [
    "%%bash\n",
    "rm -r zip_example_file archive.zip"
   ]
  },
  {
   "cell_type": "markdown",
   "metadata": {},
   "source": [
    "## APScheduler\n",
    "\n",
    "APScheduler is a package that allows to start and controll processes that will do some jobs according to some triggers."
   ]
  },
  {
   "cell_type": "markdown",
   "metadata": {},
   "source": [
    "---\n",
    "\n",
    "The following cell shows how to run the simplest `BackgroundScheduler`. This code will start a process that prints the current time to the console every 3 seconds."
   ]
  },
  {
   "cell_type": "code",
   "execution_count": 1,
   "metadata": {},
   "outputs": [
    {
     "name": "stdout",
     "output_type": "stream",
     "text": [
      "11:54:38.109044\n",
      "11:54:41.108479\n",
      "11:54:44.108156\n",
      "11:54:47.108562\n",
      "11:54:50.108621\n",
      "11:54:53.108557\n"
     ]
    }
   ],
   "source": [
    "from datetime import datetime\n",
    "from apscheduler.schedulers.background import BackgroundScheduler\n",
    "def periodic_task():\n",
    "    print(datetime.now().time())\n",
    "\n",
    "scheduler = BackgroundScheduler()\n",
    "scheduler.add_job(periodic_task, \"interval\", seconds=3)\n",
    "scheduler.start()"
   ]
  },
  {
   "cell_type": "markdown",
   "metadata": {},
   "source": [
    "Stop the scheduler using the `shutdown` method."
   ]
  },
  {
   "cell_type": "code",
   "execution_count": 2,
   "metadata": {},
   "outputs": [],
   "source": [
    "scheduler.shutdown()"
   ]
  },
  {
   "cell_type": "markdown",
   "metadata": {},
   "source": [
    "## Hugging face\n",
    "\n",
    "Hugging Face is a site that allows you to publish and download models. It’s convenient because you can automate the process using Python scripting. For this, you need the `huggingface-hub` package. Aspects of working with it are discussed on this page.\n",
    "\n",
    "The first thing you need to do is log in:\n",
    "\n",
    "`huggingface-cli login --token <your HF token>`"
   ]
  }
 ],
 "metadata": {
  "kernelspec": {
   "display_name": "Python 3",
   "language": "python",
   "name": "python3"
  },
  "language_info": {
   "codemirror_mode": {
    "name": "ipython",
    "version": 3
   },
   "file_extension": ".py",
   "mimetype": "text/x-python",
   "name": "python",
   "nbconvert_exporter": "python",
   "pygments_lexer": "ipython3",
   "version": "3.10.12"
  }
 },
 "nbformat": 4,
 "nbformat_minor": 2
}
