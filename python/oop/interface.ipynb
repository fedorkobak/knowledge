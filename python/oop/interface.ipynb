{
 "cells": [
  {
   "cell_type": "markdown",
   "id": "9469be60-91ca-4dcf-9766-a739910bf59a",
   "metadata": {},
   "source": [
    "# Interface\n",
    "\n",
    "See the article [implementing an interface in python](https://realpython.com/python-interface/) on realpython.org."
   ]
  },
  {
   "cell_type": "markdown",
   "id": "21b21ceb-d19c-4451-bf3c-59d0f98a91b1",
   "metadata": {},
   "source": [
    "An interface is some abstraction that allows you to define what methods must necessarily be implemented in successors."
   ]
  },
  {
   "cell_type": "code",
   "execution_count": 15,
   "id": "29f29755-291b-4baa-b7a3-3a899f20a6d5",
   "metadata": {},
   "outputs": [
    {
     "name": "stdout",
     "output_type": "stream",
     "text": [
      "Plus concatenation hello+world\n",
      "Minus concatenation hello-world\n"
     ]
    }
   ],
   "source": [
    "class PlusConcatenation():\n",
    "    def __init__(self, left, right):\n",
    "        self.left = left\n",
    "        self.right = right\n",
    "    def get_output(self):\n",
    "        return f\"{self.left}+{self.right}\"\n",
    "\n",
    "class MinusConcatenation():\n",
    "    def __init__(self, left, right):\n",
    "        self.left = left\n",
    "        self.right = right\n",
    "    def get_output(self):\n",
    "        return f\"{self.left}-{self.right}\"\n",
    "\n",
    "print(\n",
    "    \"Plus concatenation\",\n",
    "    PlusConcatenation(\"hello\", \"world\").get_output()\n",
    ")\n",
    "print(\n",
    "    \"Minus concatenation\",\n",
    "    MinusConcatenation(\"hello\", \"world\").get_output()\n",
    ")"
   ]
  },
  {
   "cell_type": "code",
   "execution_count": 20,
   "id": "8ba0ad96-f50d-4483-a17c-d490e0e8f9f0",
   "metadata": {},
   "outputs": [
    {
     "name": "stdout",
     "output_type": "stream",
     "text": [
      "Plus concatenation hello+world\n",
      "Minus concatenation hello-world\n"
     ]
    }
   ],
   "source": [
    "class MetaConcatenation():\n",
    "    def __init__(self, left, right):\n",
    "        self.left = left\n",
    "        self.right = right\n",
    "    def get_output(self):\n",
    "        pass\n",
    "\n",
    "class PlusConcatenation(MetaConcatenation):\n",
    "    def get_output(self):\n",
    "        return f\"{self.left}+{self.right}\"\n",
    "class MinusConcatenation(MetaConcatenation):\n",
    "    def get_output(self):\n",
    "        return f\"{self.left}-{self.right}\"\n",
    "print(\n",
    "    \"Plus concatenation\",\n",
    "    PlusConcatenation(\"hello\", \"world\").get_output()\n",
    ")\n",
    "print(\n",
    "    \"Minus concatenation\",\n",
    "    MinusConcatenation(\"hello\", \"world\").get_output()\n",
    ")"
   ]
  },
  {
   "cell_type": "markdown",
   "id": "8bd6bf59-63d9-44c4-8299-f5b1c5521a68",
   "metadata": {},
   "source": [
    "## Using metaclasses\n",
    "\n",
    "Идея создания интерфейса через метакласс, сосотои в том, что интерфейс имеет метакласс, в котором переопределены. `__instancecheck__` и `__subclasscheck__` (подробнее об этих базовых методах можно узать тут https://github.com/Dranikf/knowledge_bank/blob/main/python_class_spesials/python_class_specials.ipynb в разделе \"Методы->Методы метаклассов\"). Приведенным ниже образом."
   ]
  },
  {
   "cell_type": "code",
   "execution_count": 22,
   "id": "57f5987b-81a3-4eb1-9cdf-b1004d9f58d2",
   "metadata": {},
   "outputs": [],
   "source": [
    "class ParserMeta(type):\n",
    "    '''\n",
    "        Мета-парсер который будет использоваться для\n",
    "        создания парсеров\n",
    "    '''\n",
    "    def __subclasscheck__(cls, subclass):\n",
    "        '''\n",
    "        Все классы наследующие этот класс \n",
    "        в качесве мета класса будут, будут своими \n",
    "        экземплярами (в смысле функции issubclass) \n",
    "        воспринимать лишь те классы, в которых объявлены \n",
    "        и определены методы load_data_source и extract_text.\n",
    "        '''\n",
    "        return (\n",
    "            hasattr(subclass, 'load_data_source') and\n",
    "            callable(subclass.load_data_source) and\n",
    "            hasattr(subclass, 'extract_text') and\n",
    "            callable(subclass.extract_text)\n",
    "        )\n",
    "    \n",
    "    \n",
    "    def __instancecheck__(cls, instance):\n",
    "        '''\n",
    "            Все классы наследующие это класс в качестве\n",
    "            мета класса, своими экземплярами будут воспринимпть\n",
    "            лишь те объекты, классы которых воспинимаются\n",
    "            наследниками\n",
    "        '''\n",
    "        return cls.__subclasscheck__(type(instance))\n",
    "    \n",
    "\n",
    "    \n",
    "class UpdatedInformalParserInterface(metaclass = ParserMeta):\n",
    "    '''\n",
    "    Объявляем обновленный парсер-интерфейс\n",
    "    '''\n",
    "    pass"
   ]
  },
  {
   "cell_type": "markdown",
   "id": "582cde43-be21-4707-9800-71142ebbe962",
   "metadata": {},
   "source": [
    "Рассмотрим, тот-же пример."
   ]
  },
  {
   "cell_type": "code",
   "execution_count": 27,
   "id": "de39b1a3-ec76-438b-88cf-e8699bcd8ad3",
   "metadata": {},
   "outputs": [],
   "source": [
    "class PdfParserNew():\n",
    "    '''\n",
    "        Новая конкредная реализация парсера для pdf документов\n",
    "    '''\n",
    "    def load_data_source(self, path: str, file_name:str) -> str:\n",
    "        '''\n",
    "            Определяем как именно должен работать парсинг\n",
    "            для pdf документов\n",
    "        '''\n",
    "        pass\n",
    "    \n",
    "    def extract_text(self, full_file_path:str) -> dict:\n",
    "        '''\n",
    "            Тут также определяем как именно должен работать \n",
    "            парсинг для pdf документов\n",
    "        '''\n",
    "        pass\n",
    "    \n",
    "class EmlParserNew:\n",
    "    '''\n",
    "        Конкретная реализация для документов электронной почты\n",
    "    '''\n",
    "    def load_data_source(self, path:str, file_name:str)->str:\n",
    "        '''\n",
    "            Определяем как именно должен работать парсинг для email документов\n",
    "        '''\n",
    "        pass\n",
    "    \n",
    "    def extract_text_from_email(self, full_file_path:str)->str:\n",
    "        '''\n",
    "            Метод определенный только для документов email,\n",
    "            но он по прежнему определяет как должен работать\n",
    "            парсинг для email документов\n",
    "        '''\n",
    "        pass"
   ]
  },
  {
   "cell_type": "markdown",
   "id": "d1002995-5194-4a85-b8bf-74108ba120b8",
   "metadata": {},
   "source": [
    "Проверяем результат выполнения функции `issubclass` для новосозданных классов."
   ]
  },
  {
   "cell_type": "code",
   "execution_count": 24,
   "id": "656955e3-f141-43f3-a86e-0e3a7b97616a",
   "metadata": {},
   "outputs": [
    {
     "data": {
      "text/plain": [
       "True"
      ]
     },
     "execution_count": 24,
     "metadata": {},
     "output_type": "execute_result"
    }
   ],
   "source": [
    "issubclass(PdfParserNew, UpdatedInformalParserInterface)"
   ]
  },
  {
   "cell_type": "code",
   "execution_count": 25,
   "id": "08418051-f4b0-4fa3-9a15-f6b658d7868d",
   "metadata": {},
   "outputs": [
    {
     "data": {
      "text/plain": [
       "False"
      ]
     },
     "execution_count": 25,
     "metadata": {},
     "output_type": "execute_result"
    }
   ],
   "source": [
    "issubclass(EmlParserNew, UpdatedInformalParserInterface)"
   ]
  },
  {
   "cell_type": "markdown",
   "id": "9269225e-279d-4cd2-8242-1fdd3cc51b97",
   "metadata": {},
   "source": [
    "Так формально `UpdatedInformalParserInterface` не является реализацией интерфейса `EmlParserNew`."
   ]
  },
  {
   "cell_type": "markdown",
   "id": "f45dddc6-f64a-4e95-90e3-c34dbcfa983e",
   "metadata": {},
   "source": [
    "**Но такая реализация по прежнему не являтся правильной**<br>\n",
    "Рассмотрим результат метода `__mro__` для `PdfParserNew` (`__mro__` - одно из <a href=\"https://github.com/Dranikf/knowledge_bank/blob/main/python_class_spesials/python_class_specials.ipynb\">специальных полей</a>)."
   ]
  },
  {
   "cell_type": "code",
   "execution_count": 26,
   "id": "d7d4d0b6-582e-4bd2-b908-d20af6ee577f",
   "metadata": {},
   "outputs": [
    {
     "data": {
      "text/plain": [
       "(__main__.PdfParserNew, __main__.UpdatedInformalParserInterface, object)"
      ]
     },
     "execution_count": 26,
     "metadata": {},
     "output_type": "execute_result"
    }
   ],
   "source": [
    "PdfParserNew.__mro__"
   ]
  },
  {
   "cell_type": "markdown",
   "id": "9a776371-4d2c-4446-8090-351a5540f34d",
   "metadata": {},
   "source": [
    "Так в `__mro__` для класса `PdfParserNew`, не видно, что он как-либо связан с `UpdatedInformalParserInterface`. Такую ситуалию еще описывают, что `UpdatedInformalParserInterface` является виртуальным базовым классом для класса `PdfParserNew`.\n",
    "\n",
    "Впрочем, новерное, это можно преодолеть следующей реализацией pdf парсера."
   ]
  },
  {
   "cell_type": "code",
   "execution_count": 30,
   "id": "b1cbfe45-f16e-4b6c-afeb-ec48701e2edf",
   "metadata": {},
   "outputs": [],
   "source": [
    "class PdfParserNew2(UpdatedInformalParserInterface):\n",
    "    '''\n",
    "        Новая конкредная реализация парсера для pdf документов\n",
    "    '''\n",
    "    def load_data_source(self, path: str, file_name:str) -> str:\n",
    "        '''\n",
    "            Определяем как именно должен работать парсинг\n",
    "            для pdf документов\n",
    "        '''\n",
    "        pass\n",
    "    \n",
    "    def extract_text(self, full_file_path:str) -> dict:\n",
    "        '''\n",
    "            Тут также определяем как именно должен работать \n",
    "            парсинг для pdf документов\n",
    "        '''\n",
    "        pass"
   ]
  },
  {
   "cell_type": "code",
   "execution_count": 31,
   "id": "018dfc2c-000f-43bc-a0f0-604a81ea2210",
   "metadata": {},
   "outputs": [
    {
     "data": {
      "text/plain": [
       "True"
      ]
     },
     "execution_count": 31,
     "metadata": {},
     "output_type": "execute_result"
    }
   ],
   "source": [
    "issubclass(PdfParserNew2, UpdatedInformalParserInterface)"
   ]
  },
  {
   "cell_type": "code",
   "execution_count": 30,
   "id": "c4317cd9-affc-41c0-b2cb-c64b4bf66ffe",
   "metadata": {},
   "outputs": [
    {
     "data": {
      "text/plain": [
       "(__main__.PdfParserNew2, __main__.UpdatedInformalParserInterface, object)"
      ]
     },
     "execution_count": 30,
     "metadata": {},
     "output_type": "execute_result"
    }
   ],
   "source": [
    "PdfParserNew2.__mro__"
   ]
  },
  {
   "cell_type": "markdown",
   "id": "2273bfaa-f292-47a6-af96-c44829caec9e",
   "metadata": {},
   "source": [
    "# Формальная реализация интерфейса\n",
    "\n",
    "Для формальной реализации интерфейсов используется модуль `abc`"
   ]
  },
  {
   "cell_type": "code",
   "execution_count": null,
   "id": "3aa2feab-fec1-4f90-b7c9-e491bab4ddda",
   "metadata": {},
   "outputs": [],
   "source": [
    "import abc\n",
    "\n"
   ]
  }
 ],
 "metadata": {
  "kernelspec": {
   "display_name": "Python 3 (ipykernel)",
   "language": "python",
   "name": "python3"
  },
  "language_info": {
   "codemirror_mode": {
    "name": "ipython",
    "version": 3
   },
   "file_extension": ".py",
   "mimetype": "text/x-python",
   "name": "python",
   "nbconvert_exporter": "python",
   "pygments_lexer": "ipython3",
   "version": "3.10.12"
  }
 },
 "nbformat": 4,
 "nbformat_minor": 5
}
