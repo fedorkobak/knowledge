{
 "cells": [
  {
   "cell_type": "markdown",
   "id": "da29d1a5-9ccf-4b77-8edd-4a080ae7635e",
   "metadata": {},
   "source": [
    "# Widgets overview\n",
    "\n",
    "Here are the main components that can be added to a tkinter application."
   ]
  },
  {
   "cell_type": "code",
   "execution_count": 2,
   "id": "1660c5dd-8da9-4025-a561-71da7dfdfa9e",
   "metadata": {},
   "outputs": [],
   "source": [
    "import os\n",
    "from pathlib import Path\n",
    "os.chdir(str(Path(os.getcwd()).parent))\n",
    "\n",
    "import tkinter as tk\n",
    "from tkinter import ttk\n",
    "from tkinter_files.screenshot import take_screenshot"
   ]
  },
  {
   "cell_type": "markdown",
   "id": "ce4251f0-e9eb-4721-b4eb-25319304e4c7",
   "metadata": {},
   "source": [
    "## Button\n",
    "\n",
    "Simple button. It is important to note that you can set the text written on the button by setting the `text` property."
   ]
  },
  {
   "cell_type": "code",
   "execution_count": 3,
   "id": "acde1026-36c4-439c-affb-39e9cac42a1e",
   "metadata": {},
   "outputs": [
    {
     "data": {
      "image/png": "[encoded data removed]",
      "text/plain": [
       "<PIL.Image.Image image mode=RGBA size=143x43 at 0x778A6E0EA680>"
      ]
     },
     "metadata": {},
     "output_type": "display_data"
    }
   ],
   "source": [
    "root = tk.Tk()\n",
    "button = tk.Button(\n",
    "    root, text=\"Example button\"\n",
    ")\n",
    "\n",
    "button.pack(padx=6, pady=6)\n",
    "\n",
    "root.after(200, take_screenshot, root)\n",
    "root.mainloop()"
   ]
  },
  {
   "cell_type": "markdown",
   "id": "1c0904c2-b3ea-43dd-839c-824fcc1be291",
   "metadata": {},
   "source": [
    "## Scrollbar\n",
    "\n",
    "It's common to use it in combination with some other elements. The following example shows how `tk.Scrollbar` can be used together with `ListBox`. See the [scrolling page](widgets_overview/scrolling.ipynb) for more details."
   ]
  },
  {
   "cell_type": "code",
   "execution_count": 8,
   "id": "2b4c9f15-e46c-4588-ab2f-dd3b08b49291",
   "metadata": {},
   "outputs": [
    {
     "data": {
      "image/png": "[encoded data removed]",
      "text/plain": [
       "<PIL.Image.Image image mode=RGBA size=177x184 at 0x730D2B434310>"
      ]
     },
     "metadata": {},
     "output_type": "display_data"
    }
   ],
   "source": [
    "root = tk.Tk()\n",
    "scrollbar = tk.Scrollbar(root)\n",
    "scrollbar.pack(side = tk.RIGHT, fill=tk.Y)\n",
    "\n",
    "mylist = tk.Listbox(root, yscrollcommand = scrollbar.set)\n",
    "for line in range(100):\n",
    "   mylist.insert(tk.END, \"This is line number \" + str(line))\n",
    "   \n",
    "mylist.pack(side = tk.LEFT, fill = tk.BOTH )\n",
    "scrollbar.config(command = mylist.yview)\n",
    "\n",
    "root.after(200, take_screenshot, root)\n",
    "root.mainloop()"
   ]
  },
  {
   "cell_type": "markdown",
   "id": "1f666037-19d0-4c49-a15d-e59057cabdec",
   "metadata": {},
   "source": [
    "## Entry\n",
    "\n",
    "You can add text to an entry using the `insert` method."
   ]
  },
  {
   "cell_type": "code",
   "execution_count": 8,
   "id": "93564559-8c08-4e9d-8b76-819b914ac8c7",
   "metadata": {},
   "outputs": [
    {
     "data": {
      "image/png": "[encoded data removed]",
      "text/plain": [
       "<PIL.Image.Image image mode=RGBA size=178x35 at 0x7B7E16159060>"
      ]
     },
     "metadata": {},
     "output_type": "display_data"
    }
   ],
   "source": [
    "root = tk.Tk()\n",
    "entry = tk.Entry(root, text=\"Initial text\")\n",
    "entry.pack(padx=6, pady=6)\n",
    "\n",
    "entry.insert(0, \"Initial text\")\n",
    "\n",
    "root.after(200, take_screenshot, root)\n",
    "root.mainloop()"
   ]
  },
  {
   "cell_type": "markdown",
   "id": "a8e6084b-bc85-4438-9a3d-f4f484e9dfd9",
   "metadata": {},
   "source": [
    "## Treeview\n",
    "\n",
    "`ttk.Treview` is a class that is used to display data in a hierarchical or tabular form. Watch more details in [spefic page for tree view](tkinter/treeview.ipynb)."
   ]
  },
  {
   "cell_type": "markdown",
   "id": "fe1a9bde-3572-49da-aa51-47378b1c8c86",
   "metadata": {},
   "source": [
    "The following example demonstrates how to create a table with nested elements for certain records."
   ]
  },
  {
   "cell_type": "code",
   "execution_count": 51,
   "id": "f1ef361c-4f98-4507-a68d-856a0fb77e12",
   "metadata": {},
   "outputs": [
    {
     "data": {
      "image/png": "[encoded data removed]",
      "text/plain": [
       "<PIL.Image.Image image mode=RGBA size=602x221 at 0x7CA5642C26B0>"
      ]
     },
     "metadata": {},
     "output_type": "display_data"
    }
   ],
   "source": [
    "root = tk.Tk()\n",
    "\n",
    "# Creating treeview\n",
    "tree = ttk.Treeview(\n",
    "    root, \n",
    "    columns=(\"Column1\", \"Column2\"),\n",
    ")\n",
    "tree.heading(\"Column1\", text=\"Column1\")\n",
    "tree.heading(\"Column2\", text=\"Column2\")\n",
    "tree.pack()\n",
    "\n",
    "# Insert data\n",
    "tree.insert(parent=\"\", index=\"end\", text=\"1\", iid=0, values=(\"John Doe\", \"25\"), open=True)\n",
    "tree.insert(parent=\"\", index=\"end\", text=\"2\", iid=1, values=(\"Jane Smith\", \"30\"), open=True)\n",
    "tree.insert(parent=\"\", index=\"end\", text=\"3\", values=(\"Mike Johnson\", \"35\"), open=True)\n",
    "\n",
    "# Insert child\n",
    "tree.insert(parent=\"0\", index=\"end\", values=(\"Child Item 1\", \"\"))\n",
    "tree.insert(parent=\"1\", index=\"end\", values=(\"Child Item 2\", \"\"))\n",
    "\n",
    "root.after(200, take_screenshot, root)\n",
    "root.mainloop()"
   ]
  },
  {
   "cell_type": "markdown",
   "id": "b5493706-c05a-4912-b9fe-c97cd75d5540",
   "metadata": {},
   "source": [
    "## Pained window\n",
    "\n",
    "A PanedWindow is a container widget that may contain any number of panes, arranged horizontally or vertically."
   ]
  },
  {
   "cell_type": "markdown",
   "id": "39f2eaee-f9fd-4375-ad29-574f92eeea1b",
   "metadata": {},
   "source": [
    "So in following example you can move border between red and blue area."
   ]
  },
  {
   "cell_type": "code",
   "execution_count": 6,
   "id": "5133c30f-4011-4d40-9195-0987b7886d23",
   "metadata": {},
   "outputs": [
    {
     "data": {
      "image/png": "[encoded data removed]",
      "text/plain": [
       "<PIL.Image.Image image mode=RGBA size=100x100 at 0x730D403EEBF0>"
      ]
     },
     "metadata": {},
     "output_type": "display_data"
    }
   ],
   "source": [
    "root = tk.Tk()\n",
    "root.geometry('100x100')\n",
    "\n",
    "# Create a PanedWindow widget\n",
    "paned_window = tk.PanedWindow(root, orient=tk.HORIZONTAL)\n",
    "paned_window.pack(fill=tk.BOTH, expand=True)\n",
    "\n",
    "# Create two resizable panes\n",
    "pane1 = tk.Label(paned_window, text=\"Pane 1\", bg=\"red\", relief=tk.SUNKEN)\n",
    "pane2 = tk.Label(paned_window, text=\"Pane 2\", bg=\"blue\", relief=tk.SUNKEN)\n",
    "\n",
    "# Add the panes to the PanedWindow\n",
    "paned_window.add(pane1)\n",
    "paned_window.add(pane2)\n",
    "\n",
    "root.after(200, take_screenshot, root)\n",
    "root.mainloop()"
   ]
  }
 ],
 "metadata": {
  "kernelspec": {
   "display_name": "Python 3 (ipykernel)",
   "language": "python",
   "name": "python3"
  },
  "language_info": {
   "codemirror_mode": {
    "name": "ipython",
    "version": 3
   },
   "file_extension": ".py",
   "mimetype": "text/x-python",
   "name": "python",
   "nbconvert_exporter": "python",
   "pygments_lexer": "ipython3",
   "version": "3.10.12"
  }
 },
 "nbformat": 4,
 "nbformat_minor": 5
}
