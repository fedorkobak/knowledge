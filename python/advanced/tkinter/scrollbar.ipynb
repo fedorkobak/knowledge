{
 "cells": [
  {
   "cell_type": "markdown",
   "id": "6c47ad72-5751-4f7c-ba34-3e692451b47d",
   "metadata": {},
   "source": [
    "# Scrollbar"
   ]
  },
  {
   "cell_type": "code",
   "execution_count": 26,
   "id": "41f92104-4e24-4e65-905e-ade0d5d6b527",
   "metadata": {},
   "outputs": [],
   "source": [
    "from math import sin, cos\n",
    "import numpy as np\n",
    "import tkinter as tk"
   ]
  },
  {
   "cell_type": "markdown",
   "id": "361a9f8a-95d1-437f-968f-672dd5918ff8",
   "metadata": {},
   "source": [
    "## `set` method"
   ]
  },
  {
   "cell_type": "code",
   "execution_count": 33,
   "id": "4c2cfe7a-f1e3-4b97-a274-3dfc13b41c29",
   "metadata": {},
   "outputs": [],
   "source": [
    "root = tk.Tk()\n",
    "root.geometry(\"500x200\")\n",
    "\n",
    "for i in np.linspace(0,0.5,30):\n",
    "    scrollbar = tk.Scrollbar(root)\n",
    "    scrollbar.pack(expand=True, fill=tk.Y,side=\"left\")\n",
    "    scrollbar.set(0.5-i,0.5+i)\n",
    "\n",
    "root.mainloop()"
   ]
  }
 ],
 "metadata": {
  "kernelspec": {
   "display_name": "Python 3 (ipykernel)",
   "language": "python",
   "name": "python3"
  },
  "language_info": {
   "codemirror_mode": {
    "name": "ipython",
    "version": 3
   },
   "file_extension": ".py",
   "mimetype": "text/x-python",
   "name": "python",
   "nbconvert_exporter": "python",
   "pygments_lexer": "ipython3",
   "version": "3.10.12"
  }
 },
 "nbformat": 4,
 "nbformat_minor": 5
}
