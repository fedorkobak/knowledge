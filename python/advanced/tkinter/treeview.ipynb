{
 "cells": [
  {
   "cell_type": "markdown",
   "id": "f0133e6b-b0d4-4e1e-972a-b9d9231b57ad",
   "metadata": {},
   "source": [
    "# Treeview\n",
    "\n",
    "`ttk.Treview` is a class that is used to display data in a hierarchical or tabular form. This page focuses on the properties of the tree view."
   ]
  },
  {
   "cell_type": "code",
   "execution_count": null,
   "id": "9b0865ee-05de-4736-80b6-f7216cd8c79a",
   "metadata": {},
   "outputs": [],
   "source": [
    "import tkinter as tk\n",
    "from tkinter import ttk\n",
    "\n",
    "class EditableTable:\n",
    "    def __init__(self, root):\n",
    "        self.root = root\n",
    "        self.tree = ttk.Treeview(root, columns=(\"Editable\", \"Read-only\"), show='headings')\n",
    "        self.tree.heading(\"Editable\", text=\"Editable\")\n",
    "        self.tree.heading(\"Read-only\", text=\"Read-only\")\n",
    "        self.tree.pack()\n",
    "\n",
    "        # Insert some data\n",
    "        self.tree.insert('', 'end', values=(\"Edit me\", \"Can't edit me\"))\n",
    "        self.tree.insert('', 'end', values=(\"Edit me too\", \"Can't edit me either\"))\n",
    "\n",
    "        # Bind double click event to edit the editable field\n",
    "        self.tree.bind('<Double-1>', self.on_double_click)\n",
    "\n",
    "    def on_double_click(self, event):\n",
    "        # Find the row and column that was clicked\n",
    "        region = self.tree.identify('region', event.x, event.y)\n",
    "        if region == 'cell':\n",
    "            column = self.tree.identify_column(event.x)\n",
    "            row = self.tree.identify_row(event.y)\n",
    "            if column == '#1':  # Only allow editing in the \"Editable\" column\n",
    "                self.edit_cell(row, column)\n",
    "\n",
    "    def edit_cell(self, row, column):\n",
    "        x, y, width, height = self.tree.bbox(row, column)\n",
    "        value = self.tree.item(row, 'values')[0]  # Get the current value\n",
    "\n",
    "        # Create an Entry widget and place it over the cell\n",
    "        entry = tk.Entry(self.root)\n",
    "        entry.place(x=x, y=y, width=width, height=height)\n",
    "        entry.insert(0, value)\n",
    "\n",
    "        # Save the new value when the user presses Enter\n",
    "        def save_value(event):\n",
    "            new_value = entry.get()\n",
    "            self.tree.item(row, values=(new_value, self.tree.item(row, 'values')[1]))\n",
    "            entry.destroy()\n",
    "\n",
    "        entry.bind('<Return>', save_value)\n",
    "        entry.focus()\n",
    "\n",
    "# Create the main application window\n",
    "root = tk.Tk()\n",
    "root.title(\"Editable Table Example\")\n",
    "app = EditableTable(root)\n",
    "root.mainloop()"
   ]
  }
 ],
 "metadata": {
  "kernelspec": {
   "display_name": "Python 3 (ipykernel)",
   "language": "python",
   "name": "python3"
  },
  "language_info": {
   "codemirror_mode": {
    "name": "ipython",
    "version": 3
   },
   "file_extension": ".py",
   "mimetype": "text/x-python",
   "name": "python",
   "nbconvert_exporter": "python",
   "pygments_lexer": "ipython3",
   "version": "3.10.12"
  }
 },
 "nbformat": 4,
 "nbformat_minor": 5
}
