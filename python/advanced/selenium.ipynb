{
 "cells": [
  {
   "cell_type": "markdown",
   "id": "a0def67c-c010-4496-b278-1d445525dd80",
   "metadata": {},
   "source": [
    "# Selenium"
   ]
  },
  {
   "cell_type": "markdown",
   "id": "a4bdd76d-7a3c-4c0f-b7c5-c71153270dcb",
   "metadata": {},
   "source": [
    "`selenium` allows you to use software code to analyse the behaviour of browsers. It's realised for a few programming languages but this page is focused on using it with python."
   ]
  },
  {
   "cell_type": "code",
   "execution_count": 1,
   "id": "a6a1466f-03fb-42dd-9462-154fd8aa7e24",
   "metadata": {},
   "outputs": [
    {
     "data": {
      "text/plain": [
       "CompletedProcess(args=['geckodriver', '-V'], returncode=0, stdout='geckodriver 0.34.0 ( 2024-02-14)\\n\\nThe source code of this program is available from\\ntesting/geckodriver in https://hg.mozilla.org/mozilla-central.\\n\\nThis program is subject to the terms of the Mozilla Public License 2.0.\\nYou can obtain a copy of the license at https://mozilla.org/MPL/2.0/.\\n')"
      ]
     },
     "execution_count": 1,
     "metadata": {},
     "output_type": "execute_result"
    }
   ],
   "source": [
    "import subprocess\n",
    "output = subprocess.run(['geckodriver', '-V'], stdout=subprocess.PIPE, encoding='utf-8')\n",
    "output"
   ]
  },
  {
   "cell_type": "code",
   "execution_count": 3,
   "id": "7fd2aed3-33eb-4a04-8c89-234d6e9b5eb2",
   "metadata": {},
   "outputs": [
    {
     "data": {
      "text/plain": [
       "'4.19.0'"
      ]
     },
     "execution_count": 3,
     "metadata": {},
     "output_type": "execute_result"
    }
   ],
   "source": [
    "import selenium\n",
    "selenium.__version__"
   ]
  },
  {
   "cell_type": "code",
   "execution_count": 2,
   "id": "6bba8d70-5baa-46cb-9e1b-725a0bc46af7",
   "metadata": {},
   "outputs": [],
   "source": [
    "from selenium import webdriver\n",
    "from selenium.webdriver.firefox.options import Options\n",
    "from selenium.webdriver.firefox.service import Service\n",
    "from selenium.webdriver.common.by import By\n",
    "\n",
    "# Set up Firefox options\n",
    "options = Options()\n",
    "options.binary_location = \"/usr/bin/firefox\"\n",
    "\n",
    "driver = webdriver.Firefox(\n",
    "    options=Options(),\n",
    "    service=Service(executable_path=\"/snap/bin/geckodriver\")\n",
    ")\n",
    "\n",
    "driver.get(\"https://www.selenium.dev/selenium/web/web-form.html\")\n",
    "\n",
    "title = driver.title\n",
    "\n",
    "driver.implicitly_wait(0.5)\n",
    "\n",
    "text_box = driver.find_element(by=By.NAME, value=\"my-text\")\n",
    "submit_button = driver.find_element(by=By.CSS_SELECTOR, value=\"button\")\n",
    "\n",
    "text_box.send_keys(\"Selenium\")\n",
    "submit_button.click()\n",
    "\n",
    "message = driver.find_element(by=By.ID, value=\"message\")\n",
    "text = message.text\n",
    "\n",
    "driver.quit()"
   ]
  }
 ],
 "metadata": {
  "kernelspec": {
   "display_name": "Python 3 (ipykernel)",
   "language": "python",
   "name": "python3"
  },
  "language_info": {
   "codemirror_mode": {
    "name": "ipython",
    "version": 3
   },
   "file_extension": ".py",
   "mimetype": "text/x-python",
   "name": "python",
   "nbconvert_exporter": "python",
   "pygments_lexer": "ipython3",
   "version": "3.10.12"
  }
 },
 "nbformat": 4,
 "nbformat_minor": 5
}
