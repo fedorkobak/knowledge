{
 "cells": [
  {
   "cell_type": "markdown",
   "id": "a0def67c-c010-4496-b278-1d445525dd80",
   "metadata": {},
   "source": [
    "# Selenium"
   ]
  },
  {
   "cell_type": "markdown",
   "id": "a4bdd76d-7a3c-4c0f-b7c5-c71153270dcb",
   "metadata": {},
   "source": [
    "`selenium` allows you to use software code to analyse the behaviour of browsers. It's realised for a few programming languages but this page is focused on using it with python."
   ]
  },
  {
   "cell_type": "markdown",
   "id": "9b81710d-747c-449c-b085-272a506fac71",
   "metadata": {},
   "source": [
    "## Versions"
   ]
  },
  {
   "cell_type": "markdown",
   "id": "bb8f6e04-ff93-444d-a075-02aa118941d2",
   "metadata": {},
   "source": [
    "If you want Selenium to work with Firefox, you need to have the appropriate versions of `geckodriver`, `selenium` and `firefox` installed. You can find the correct combinations [here](https://firefox-source-docs.mozilla.org/testing/geckodriver/Support.html).\n",
    "\n",
    "In the following cell is some code that will allow you to find your current versions. And as my output here shows, all the examples in this section worked fine."
   ]
  },
  {
   "cell_type": "code",
   "execution_count": 19,
   "id": "a6a1466f-03fb-42dd-9462-154fd8aa7e24",
   "metadata": {},
   "outputs": [
    {
     "name": "stdout",
     "output_type": "stream",
     "text": [
      "=========geckodriver==============\n",
      "geckodriver 0.34.0 ( 2024-03-22)\n",
      "\n",
      "The source code of this program is available from\n",
      "testing/geckodriver in https://hg.mozilla.org/mozilla-central.\n",
      "\n",
      "This program is subject to the terms of the Mozilla Public License 2.0.\n",
      "You can obtain a copy of the license at https://mozilla.org/MPL/2.0/.\n",
      "\n",
      "=========selenium version==============\n",
      "4.11.2\n",
      "=========firefox===============\n",
      "Mozilla Firefox 124.0.1\n"
     ]
    }
   ],
   "source": [
    "import subprocess\n",
    "import selenium\n",
    "output = subprocess.run(['geckodriver', '-V'], stdout=subprocess.PIPE, encoding='utf-8')\n",
    "\n",
    "print(\"=========geckodriver==============\")\n",
    "print(output.stdout)\n",
    "print(\"=========selenium version==============\")\n",
    "print(selenium.__version__)\n",
    "print(\"=========firefox===============\")\n",
    "out = os.system(\"firefox --version\")"
   ]
  },
  {
   "cell_type": "code",
   "execution_count": 21,
   "id": "6bba8d70-5baa-46cb-9e1b-725a0bc46af7",
   "metadata": {},
   "outputs": [],
   "source": [
    "from selenium import webdriver\n",
    "from selenium.webdriver.firefox.options import Options\n",
    "from selenium.webdriver.firefox.service import Service\n",
    "from selenium.webdriver.common.by import By\n",
    "\n",
    "# Set up Firefox options\n",
    "options = Options()\n",
    "options.binary_location = \"/usr/bin/firefox\"\n",
    "\n",
    "driver = webdriver.Firefox(\n",
    "    options=Options(),\n",
    "    service=Service(\n",
    "        executable_path=\"/snap/bin/geckodriver\",\n",
    "        log_output=\"/dev/null\"\n",
    "    )\n",
    ")\n",
    "\n",
    "driver.get(\"https://www.selenium.dev/selenium/web/web-form.html\")\n",
    "\n",
    "title = driver.title\n",
    "\n",
    "driver.implicitly_wait(0.5)\n",
    "\n",
    "text_box = driver.find_element(by=By.NAME, value=\"my-text\")\n",
    "submit_button = driver.find_element(by=By.CSS_SELECTOR, value=\"button\")\n",
    "\n",
    "text_box.send_keys(\"Selenium\")\n",
    "submit_button.click()\n",
    "\n",
    "message = driver.find_element(by=By.ID, value=\"message\")\n",
    "text = message.text\n",
    "\n",
    "driver.quit()"
   ]
  }
 ],
 "metadata": {
  "kernelspec": {
   "display_name": "Python 3 (ipykernel)",
   "language": "python",
   "name": "python3"
  },
  "language_info": {
   "codemirror_mode": {
    "name": "ipython",
    "version": 3
   },
   "file_extension": ".py",
   "mimetype": "text/x-python",
   "name": "python",
   "nbconvert_exporter": "python",
   "pygments_lexer": "ipython3",
   "version": "3.10.12"
  }
 },
 "nbformat": 4,
 "nbformat_minor": 5
}
