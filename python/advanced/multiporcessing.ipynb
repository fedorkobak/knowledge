{
 "cells": [
  {
   "cell_type": "markdown",
   "id": "716b367f-5a0b-42cc-a5d0-9ae395afb115",
   "metadata": {},
   "source": [
    "# Multiprocessing\n",
    "\n",
    "Multiprocessing is a Python package that allows processes to be spawned in Python. Check [the official documentation](https://docs.python.org/3/library/multiprocessing.html)."
   ]
  },
  {
   "cell_type": "code",
   "execution_count": 1,
   "id": "6d3dc8dc-d933-41b3-aa09-dff7f6385574",
   "metadata": {},
   "outputs": [],
   "source": [
    "import random\n",
    "from multiprocessing import Pool\n",
    "\n",
    "def f(x):\n",
    "    return [v**2 for v in x]"
   ]
  },
  {
   "cell_type": "code",
   "execution_count": 5,
   "id": "61cba492-b02f-406d-8717-874c746756db",
   "metadata": {},
   "outputs": [],
   "source": [
    "example_arrays = [[random.random() for i in range(10000000)] for i in range(10)]"
   ]
  },
  {
   "cell_type": "code",
   "execution_count": 6,
   "id": "6ee1577e-f2c0-44ca-8fb4-43ff1e6a15bc",
   "metadata": {},
   "outputs": [
    {
     "name": "stdout",
     "output_type": "stream",
     "text": [
      "4.08 s ± 14.4 ms per loop (mean ± std. dev. of 7 runs, 1 loop each)\n"
     ]
    }
   ],
   "source": [
    "%%timeit\n",
    "for arr in example_arrays:\n",
    "    f(arr)"
   ]
  },
  {
   "cell_type": "code",
   "execution_count": 7,
   "id": "5608df36-eba4-492a-8c8f-1a88fafd03d3",
   "metadata": {},
   "outputs": [
    {
     "name": "stdout",
     "output_type": "stream",
     "text": [
      "5.3 s ± 35.5 ms per loop (mean ± std. dev. of 7 runs, 1 loop each)\n"
     ]
    }
   ],
   "source": [
    "%%timeit\n",
    "if __name__ == '__main__':\n",
    "    with Pool(10) as p:\n",
    "        p.map(f, example_arrays)"
   ]
  }
 ],
 "metadata": {
  "kernelspec": {
   "display_name": "Python 3 (ipykernel)",
   "language": "python",
   "name": "python3"
  },
  "language_info": {
   "codemirror_mode": {
    "name": "ipython",
    "version": 3
   },
   "file_extension": ".py",
   "mimetype": "text/x-python",
   "name": "python",
   "nbconvert_exporter": "python",
   "pygments_lexer": "ipython3",
   "version": "3.10.12"
  }
 },
 "nbformat": 4,
 "nbformat_minor": 5
}
