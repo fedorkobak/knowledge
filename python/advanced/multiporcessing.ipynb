{
 "cells": [
  {
   "cell_type": "markdown",
   "id": "716b367f-5a0b-42cc-a5d0-9ae395afb115",
   "metadata": {},
   "source": [
    "# Multiprocessing\n",
    "\n",
    "Multiprocessing is a Python package that allows processes to be spawned in Python. Check [the official documentation](https://docs.python.org/3/library/multiprocessing.html)."
   ]
  },
  {
   "cell_type": "code",
   "execution_count": 42,
   "id": "6d3dc8dc-d933-41b3-aa09-dff7f6385574",
   "metadata": {},
   "outputs": [],
   "source": [
    "import random"
   ]
  },
  {
   "cell_type": "markdown",
   "id": "2701b9c9-b3fd-4744-b156-2c20f307a986",
   "metadata": {},
   "source": [
    "## Basic porcesses"
   ]
  },
  {
   "cell_type": "code",
   "execution_count": 45,
   "id": "885ae2f5-7018-42c4-bb7e-24b8e4416ac1",
   "metadata": {},
   "outputs": [
    {
     "name": "stdout",
     "output_type": "stream",
     "text": [
      "I'm a process 0\n",
      "I'm a process 1\n",
      "I'm a process 2\n",
      "I'm a process 3\n",
      "I'm a process 4\n",
      "I'm a process 5\n",
      "I'm a process 6\n",
      "I'm a process 7\n",
      "I'm a process 8\n",
      "I'm a process 9\n"
     ]
    }
   ],
   "source": [
    "from multiprocessing import Process\n",
    "gen_random = lambda: [random.random() for i in range(100_000)]\n",
    "results = []\n",
    "def multiprocessing_target(n):\n",
    "    print(f\"I'm a process {n}\")\n",
    "\n",
    "processes = []\n",
    "for i in range(10):\n",
    "    p = Process(target=multiprocessing_target, args=(i,))\n",
    "    p.start()"
   ]
  },
  {
   "cell_type": "markdown",
   "id": "c1db9b59-564a-41e5-a102-1f2df7961b49",
   "metadata": {},
   "source": [
    "## Pool"
   ]
  },
  {
   "cell_type": "code",
   "execution_count": 56,
   "id": "5aa02f9e-a35a-4e8f-996c-b9575962d488",
   "metadata": {},
   "outputs": [],
   "source": [
    "from multiprocessing import Pool\n",
    "def gen_random(v):\n",
    "    return [random.random() for i in range(100_000)]\n",
    "pool = Pool(processes=10)\n",
    "res = pool.map(gen_random, list(range(10)))"
   ]
  }
 ],
 "metadata": {
  "kernelspec": {
   "display_name": "Python 3 (ipykernel)",
   "language": "python",
   "name": "python3"
  },
  "language_info": {
   "codemirror_mode": {
    "name": "ipython",
    "version": 3
   },
   "file_extension": ".py",
   "mimetype": "text/x-python",
   "name": "python",
   "nbconvert_exporter": "python",
   "pygments_lexer": "ipython3",
   "version": "3.10.12"
  }
 },
 "nbformat": 4,
 "nbformat_minor": 5
}
