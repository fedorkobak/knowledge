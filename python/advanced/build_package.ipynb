{
 "cells": [
  {
   "cell_type": "markdown",
   "id": "bacfaeb9-4352-47cb-9b7f-d34def7fc376",
   "metadata": {},
   "source": [
    "# Build package\n",
    "\n",
    "This page is focused on ways to upload python project to PyPI. Check <a href=\"https://packaging.python.org/en/latest/tutorials/packaging-projects/\">Packaging Python Projects</a> on python.org."
   ]
  },
  {
   "cell_type": "markdown",
   "id": "b4acc1e1-252b-4a4d-9e54-972d0dd542b0",
   "metadata": {},
   "source": [
    "## Files\n",
    "\n",
    "This section describes what files you need to create in the project folder to crate the package."
   ]
  },
  {
   "cell_type": "markdown",
   "id": "663ad8c5-bb26-4582-a43f-f4afc3197c60",
   "metadata": {},
   "source": [
    "### Soucre files\n",
    "\n",
    "In the folder `src/exmaple_package` I'll just store files with sorce code of the project. \n",
    "\n",
    "**Note** The `example_package` folder is crucial here! It's the literal name that will be used to import this module."
   ]
  },
  {
   "cell_type": "markdown",
   "id": "4ed25d4a-3544-4402-8c7e-2c2ca2eb1b52",
   "metadata": {},
   "source": [
    "**__init__.py** \n",
    "\n",
    "It's common for folders containing Python modules to have `__init__.py`."
   ]
  },
  {
   "cell_type": "code",
   "execution_count": 2,
   "id": "d17336b6-7604-487c-b9d8-eba788d10720",
   "metadata": {},
   "outputs": [
    {
     "name": "stdout",
     "output_type": "stream",
     "text": [
      "Overwriting build_package_files/src/example_package/__init__.py\n"
     ]
    }
   ],
   "source": [
    "%%writefile build_package_files/src/example_package/__init__.py\n",
    "print(\"Init me!\")"
   ]
  },
  {
   "cell_type": "markdown",
   "id": "179c66b5-ad8d-4180-bfa3-e7c8b7c235d6",
   "metadata": {},
   "source": [
    "**example.py**\n",
    "\n",
    "Is a toy module that can be imported after installing this library."
   ]
  },
  {
   "cell_type": "code",
   "execution_count": 3,
   "id": "9daf2456-80e3-46f6-a9f9-fa7f11e4031d",
   "metadata": {},
   "outputs": [
    {
     "name": "stdout",
     "output_type": "stream",
     "text": [
      "Overwriting build_package_files/src/example_package/example.py\n"
     ]
    }
   ],
   "source": [
    "%%writefile build_package_files/src/example_package/example.py\n",
    "def do_someting():\n",
    "    print(\"doing something\")"
   ]
  },
  {
   "cell_type": "markdown",
   "id": "c449fd80-5a8d-4dab-8a16-973d4f145662",
   "metadata": {},
   "source": [
    "### README\n",
    "\n",
    "Actually you can skip this step, but without it you may get a warning when building the package."
   ]
  },
  {
   "cell_type": "code",
   "execution_count": 4,
   "id": "1f49aca7-c6cf-4de2-8d02-58fd6667d37d",
   "metadata": {},
   "outputs": [
    {
     "name": "stdout",
     "output_type": "stream",
     "text": [
      "Overwriting build_package_files/README.md\n"
     ]
    }
   ],
   "source": [
    "%%writefile build_package_files/README.md\n",
    "# Example\n",
    "This is a toy package I'm using to get used to deploying Python packages on PyPI."
   ]
  },
  {
   "cell_type": "markdown",
   "id": "de41329b-e79f-4d81-a2c4-145dc73a4711",
   "metadata": {},
   "source": [
    "### Toml\n",
    "\n",
    "File describing the project."
   ]
  },
  {
   "cell_type": "code",
   "execution_count": 5,
   "id": "dc735208-fe4f-4215-97ca-790d69378420",
   "metadata": {},
   "outputs": [
    {
     "name": "stdout",
     "output_type": "stream",
     "text": [
      "Overwriting build_package_files/pyproject.toml\n"
     ]
    }
   ],
   "source": [
    "%%writefile build_package_files/pyproject.toml\n",
    "[project]\n",
    "name = \"example_package_FEDOR_KOBAK\"\n",
    "version = \"0.0.3\"\n",
    "authors = [\n",
    "  { name=\"Fedor Kobak\", email=\"kobfedsur@gmail.com\" },\n",
    "]\n",
    "description = \"A small example package\""
   ]
  },
  {
   "cell_type": "markdown",
   "id": "3cb2f4ea-96e6-446b-a1fc-a22e1cfe4dda",
   "metadata": {},
   "source": [
    "### Module building"
   ]
  },
  {
   "cell_type": "markdown",
   "id": "60ed2dde-782c-4ffb-bf33-cc2dfbe24185",
   "metadata": {},
   "source": [
    "There is a special module in Python `build` that can be used to build Python packages. Just use `python3 -m build`.\n",
    "\n",
    "**Note** Don't forget to install this module, it is not out of the box."
   ]
  },
  {
   "cell_type": "code",
   "execution_count": 7,
   "id": "921844d8-da27-4967-9fcd-5ec7b97edc4e",
   "metadata": {},
   "outputs": [
    {
     "name": "stdout",
     "output_type": "stream",
     "text": [
      "\u001b[1m* Creating venv isolated environment...\u001b[0m\n",
      "\u001b[1m* Installing packages in isolated environment... (setuptools >= 40.8.0)\u001b[0m\n",
      "\u001b[1m* Getting build dependencies for sdist...\u001b[0m\n",
      "running egg_info\n",
      "writing src/example_package_FEDOR_KOBAK.egg-info/PKG-INFO\n",
      "writing dependency_links to src/example_package_FEDOR_KOBAK.egg-info/dependency_links.txt\n",
      "writing top-level names to src/example_package_FEDOR_KOBAK.egg-info/top_level.txt\n",
      "reading manifest file 'src/example_package_FEDOR_KOBAK.egg-info/SOURCES.txt'\n",
      "writing manifest file 'src/example_package_FEDOR_KOBAK.egg-info/SOURCES.txt'\n",
      "\u001b[1m* Building sdist...\u001b[0m\n",
      "running sdist\n",
      "running egg_info\n",
      "writing src/example_package_FEDOR_KOBAK.egg-info/PKG-INFO\n",
      "writing dependency_links to src/example_package_FEDOR_KOBAK.egg-info/dependency_links.txt\n",
      "writing top-level names to src/example_package_FEDOR_KOBAK.egg-info/top_level.txt\n",
      "reading manifest file 'src/example_package_FEDOR_KOBAK.egg-info/SOURCES.txt'\n",
      "writing manifest file 'src/example_package_FEDOR_KOBAK.egg-info/SOURCES.txt'\n",
      "running check\n",
      "creating example_package_FEDOR_KOBAK-0.0.3\n",
      "creating example_package_FEDOR_KOBAK-0.0.3/src\n",
      "creating example_package_FEDOR_KOBAK-0.0.3/src/example_package\n",
      "creating example_package_FEDOR_KOBAK-0.0.3/src/example_package_FEDOR_KOBAK.egg-info\n",
      "copying files to example_package_FEDOR_KOBAK-0.0.3...\n",
      "copying README.md -> example_package_FEDOR_KOBAK-0.0.3\n",
      "copying pyproject.toml -> example_package_FEDOR_KOBAK-0.0.3\n",
      "copying src/example_package/__init__.py -> example_package_FEDOR_KOBAK-0.0.3/src/example_package\n",
      "copying src/example_package/example.py -> example_package_FEDOR_KOBAK-0.0.3/src/example_package\n",
      "copying src/example_package_FEDOR_KOBAK.egg-info/PKG-INFO -> example_package_FEDOR_KOBAK-0.0.3/src/example_package_FEDOR_KOBAK.egg-info\n",
      "copying src/example_package_FEDOR_KOBAK.egg-info/SOURCES.txt -> example_package_FEDOR_KOBAK-0.0.3/src/example_package_FEDOR_KOBAK.egg-info\n",
      "copying src/example_package_FEDOR_KOBAK.egg-info/dependency_links.txt -> example_package_FEDOR_KOBAK-0.0.3/src/example_package_FEDOR_KOBAK.egg-info\n",
      "copying src/example_package_FEDOR_KOBAK.egg-info/top_level.txt -> example_package_FEDOR_KOBAK-0.0.3/src/example_package_FEDOR_KOBAK.egg-info\n",
      "copying src/example_package_FEDOR_KOBAK.egg-info/SOURCES.txt -> example_package_FEDOR_KOBAK-0.0.3/src/example_package_FEDOR_KOBAK.egg-info\n",
      "Writing example_package_FEDOR_KOBAK-0.0.3/setup.cfg\n",
      "Creating tar archive\n",
      "removing 'example_package_FEDOR_KOBAK-0.0.3' (and everything under it)\n",
      "\u001b[1m* Building wheel from sdist\u001b[0m\n",
      "\u001b[1m* Creating venv isolated environment...\u001b[0m\n",
      "\u001b[1m* Installing packages in isolated environment... (setuptools >= 40.8.0)\u001b[0m\n",
      "\u001b[1m* Getting build dependencies for wheel...\u001b[0m\n",
      "running egg_info\n",
      "writing src/example_package_FEDOR_KOBAK.egg-info/PKG-INFO\n",
      "writing dependency_links to src/example_package_FEDOR_KOBAK.egg-info/dependency_links.txt\n",
      "writing top-level names to src/example_package_FEDOR_KOBAK.egg-info/top_level.txt\n",
      "reading manifest file 'src/example_package_FEDOR_KOBAK.egg-info/SOURCES.txt'\n",
      "writing manifest file 'src/example_package_FEDOR_KOBAK.egg-info/SOURCES.txt'\n",
      "\u001b[1m* Installing packages in isolated environment... (wheel)\u001b[0m\n",
      "\u001b[1m* Building wheel...\u001b[0m\n",
      "running bdist_wheel\n",
      "running build\n",
      "running build_py\n",
      "creating build\n",
      "creating build/lib\n",
      "creating build/lib/example_package\n",
      "copying src/example_package/__init__.py -> build/lib/example_package\n",
      "copying src/example_package/example.py -> build/lib/example_package\n",
      "running egg_info\n",
      "writing src/example_package_FEDOR_KOBAK.egg-info/PKG-INFO\n",
      "writing dependency_links to src/example_package_FEDOR_KOBAK.egg-info/dependency_links.txt\n",
      "writing top-level names to src/example_package_FEDOR_KOBAK.egg-info/top_level.txt\n",
      "reading manifest file 'src/example_package_FEDOR_KOBAK.egg-info/SOURCES.txt'\n",
      "writing manifest file 'src/example_package_FEDOR_KOBAK.egg-info/SOURCES.txt'\n",
      "installing to build/bdist.linux-x86_64/wheel\n",
      "running install\n",
      "running install_lib\n",
      "creating build/bdist.linux-x86_64\n",
      "creating build/bdist.linux-x86_64/wheel\n",
      "creating build/bdist.linux-x86_64/wheel/example_package\n",
      "copying build/lib/example_package/__init__.py -> build/bdist.linux-x86_64/wheel/example_package\n",
      "copying build/lib/example_package/example.py -> build/bdist.linux-x86_64/wheel/example_package\n",
      "running install_egg_info\n",
      "Copying src/example_package_FEDOR_KOBAK.egg-info to build/bdist.linux-x86_64/wheel/example_package_FEDOR_KOBAK-0.0.3-py3.10.egg-info\n",
      "running install_scripts\n",
      "creating build/bdist.linux-x86_64/wheel/example_package_FEDOR_KOBAK-0.0.3.dist-info/WHEEL\n",
      "creating '/home/fedor/Documents/knowledge/python/advanced/build_package_files/dist/.tmp-s5qrt6_u/example_package_FEDOR_KOBAK-0.0.3-py3-none-any.whl' and adding 'build/bdist.linux-x86_64/wheel' to it\n",
      "adding 'example_package/__init__.py'\n",
      "adding 'example_package/example.py'\n",
      "adding 'example_package_FEDOR_KOBAK-0.0.3.dist-info/METADATA'\n",
      "adding 'example_package_FEDOR_KOBAK-0.0.3.dist-info/WHEEL'\n",
      "adding 'example_package_FEDOR_KOBAK-0.0.3.dist-info/top_level.txt'\n",
      "adding 'example_package_FEDOR_KOBAK-0.0.3.dist-info/RECORD'\n",
      "removing build/bdist.linux-x86_64/wheel\n",
      "\u001b[1m\u001b[92mSuccessfully built \u001b[4mexample_package_FEDOR_KOBAK-0.0.3.tar.gz\u001b[0m\u001b[1m\u001b[92m and \u001b[4mexample_package_FEDOR_KOBAK-0.0.3-py3-none-any.whl\u001b[0m\u001b[1m\u001b[92m\u001b[0m\n"
     ]
    }
   ],
   "source": [
    "%%bash\n",
    "cd build_package_files\n",
    "python3 -m build"
   ]
  },
  {
   "cell_type": "markdown",
   "id": "3f94f12a-7c05-4a81-a12f-097b19682697",
   "metadata": {},
   "source": [
    "## Final structure\n",
    "\n",
    "After completing the previous steps, you should have the project structure described below. In the `dist` folder you will have archives that that make up the assembled module."
   ]
  },
  {
   "cell_type": "code",
   "execution_count": 8,
   "id": "360636e5-117a-4f5f-b1a8-acf06b48c401",
   "metadata": {},
   "outputs": [
    {
     "name": "stdout",
     "output_type": "stream",
     "text": [
      "\u001b[01;34mbuild_package_files\u001b[0m\n",
      "├── \u001b[01;34mdist\u001b[0m\n",
      "│   ├── example_package_FEDOR_KOBAK-0.0.3-py3-none-any.whl\n",
      "│   └── \u001b[01;31mexample_package_FEDOR_KOBAK-0.0.3.tar.gz\u001b[0m\n",
      "├── pyproject.toml\n",
      "├── README.md\n",
      "└── \u001b[01;34msrc\u001b[0m\n",
      "    ├── \u001b[01;34mexample_package\u001b[0m\n",
      "    │   ├── example.py\n",
      "    │   └── __init__.py\n",
      "    └── \u001b[01;34mexample_package_FEDOR_KOBAK.egg-info\u001b[0m\n",
      "        ├── dependency_links.txt\n",
      "        ├── PKG-INFO\n",
      "        ├── SOURCES.txt\n",
      "        └── top_level.txt\n",
      "\n",
      "4 directories, 10 files\n"
     ]
    }
   ],
   "source": [
    "%%bash\n",
    "tree build_package_files"
   ]
  },
  {
   "cell_type": "markdown",
   "id": "782effbe-f0cd-4e49-8f2e-dd921ca86bd5",
   "metadata": {},
   "source": [
    "## Uploading"
   ]
  },
  {
   "cell_type": "markdown",
   "id": "8e572cb8-6ead-478f-8170-93d57207b3a2",
   "metadata": {},
   "source": [
    "I'll use <a href=\"https://test.pypi.org/\">PyPI test</a> - which is created to try uploading modules.\n",
    "\n",
    "Run the following command. I can't just run it on the page because I need to complete authentication.\n",
    "\n",
    "`python3 -m twine upload --repository testpypi build_package_files/dist/*`\n",
    "\n",
    "**Note** Remove the `--repository testpypi` argument to use the original PyPI by default.\n",
    "\n",
    "So after you complete all previous steps you have to have <a href=\"https://test.pypi.org/project/example-package-FEDOR-KOBAK/\">page for this library</a>."
   ]
  },
  {
   "cell_type": "markdown",
   "id": "1c8424b8-b319-4ec5-9bc7-ae3c1d2832fd",
   "metadata": {},
   "source": [
    "## Using new package"
   ]
  },
  {
   "cell_type": "markdown",
   "id": "cdd29403-a381-4425-b070-0a35f370b5e9",
   "metadata": {},
   "source": [
    "Now let's download and use the package we just created. We install it using `-i <url>` because it is not stored in PyPI but in test PyPI. For the import we use the name `example` because all the code was stored in `src/example` but during the build we set `src` as the source folder."
   ]
  },
  {
   "cell_type": "code",
   "execution_count": 7,
   "id": "3cd02522-cc07-4082-a3cc-e7010453daa4",
   "metadata": {},
   "outputs": [
    {
     "name": "stdout",
     "output_type": "stream",
     "text": [
      "Looking in indexes: https://test.pypi.org/simple/\n",
      "Collecting example-package-FEDOR-KOBAK\n",
      "  Using cached https://test-files.pythonhosted.org/packages/f8/af/c52553f3add7723736de1470fc56b01d9be04960cd5cf025586d8bf5cbac/example_package_FEDOR_KOBAK-0.0.3-py3-none-any.whl (1.6 kB)\n",
      "Installing collected packages: example-package-FEDOR-KOBAK\n",
      "Successfully installed example-package-FEDOR-KOBAK-0.0.3\n",
      "\n",
      "\n",
      "Init me!\n",
      "doing something\n"
     ]
    }
   ],
   "source": [
    "%%bash\n",
    "python3 -m venv build_package_files/venv\n",
    "source build_package_files/venv/bin/activate\n",
    "pip3 install -i https://test.pypi.org/simple/ example-package-FEDOR-KOBAK\n",
    "\n",
    "echo; echo\n",
    "\n",
    "python3\n",
    "from example_package.example import do_someting\n",
    "do_someting()"
   ]
  },
  {
   "cell_type": "markdown",
   "id": "e9aa10e4-e7bd-43cc-b4f3-0452790076ab",
   "metadata": {},
   "source": [
    "**Note** for experiment was launched special virtual environment, but after playing with this notebook we don't need it, so we can just delete it."
   ]
  },
  {
   "cell_type": "code",
   "execution_count": 8,
   "id": "7262f7d5-1de8-40f0-a838-9f85ab407847",
   "metadata": {},
   "outputs": [],
   "source": [
    "%%bash\n",
    "rm -r build_package_files/venv"
   ]
  }
 ],
 "metadata": {
  "kernelspec": {
   "display_name": "Python 3 (ipykernel)",
   "language": "python",
   "name": "python3"
  },
  "language_info": {
   "codemirror_mode": {
    "name": "ipython",
    "version": 3
   },
   "file_extension": ".py",
   "mimetype": "text/x-python",
   "name": "python",
   "nbconvert_exporter": "python",
   "pygments_lexer": "ipython3",
   "version": "3.10.12"
  }
 },
 "nbformat": 4,
 "nbformat_minor": 5
}
