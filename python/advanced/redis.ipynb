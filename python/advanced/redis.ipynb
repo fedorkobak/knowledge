{
 "cells": [
  {
   "cell_type": "markdown",
   "id": "45485ad2-cc5f-4051-bd25-3bd00ffa5273",
   "metadata": {},
   "source": [
    "# Redis\n",
    "\n",
    "Python has a special API to interact with redis. Here are some examples of how to use it. There is a special [dedicated to redis page](../../other/redis.ipynb), there you can learn more about it's datatypes and operations on them. This page focuses on options to use it with python programms."
   ]
  },
  {
   "cell_type": "markdown",
   "id": "9498e469-0797-42ea-9e0d-f658bff90b20",
   "metadata": {},
   "source": [
    "You need to create a Redis client in your Python code."
   ]
  },
  {
   "cell_type": "code",
   "execution_count": 9,
   "id": "c8713847-851d-46e4-81b8-6adc044a3ee3",
   "metadata": {},
   "outputs": [],
   "source": [
    "import redis\n",
    "redis_client = redis.Redis()"
   ]
  },
  {
   "cell_type": "markdown",
   "id": "feadba23-aa39-45a9-b0ef-88ffcf701ccc",
   "metadata": {},
   "source": [
    "These python clients usually have methods that correspond to functions in the Redis database. So let us try to create `zset` using the `zadd` method."
   ]
  },
  {
   "cell_type": "code",
   "execution_count": 10,
   "id": "98028734-f358-4206-8b76-2872507ffac7",
   "metadata": {},
   "outputs": [
    {
     "data": {
      "text/plain": [
       "5"
      ]
     },
     "execution_count": 10,
     "metadata": {},
     "output_type": "execute_result"
    }
   ],
   "source": [
    "redis_client.zadd(\n",
    "    \"animal-weights\", \n",
    "    {\n",
    "        \"elephant\": 50, \n",
    "        \"lion\": 20, \n",
    "        \"giraffe\": 30, \n",
    "        \"cheetah\": 10, \n",
    "        \"rhinoceros\": 40\n",
    "    }\n",
    ")"
   ]
  },
  {
   "cell_type": "markdown",
   "id": "7eaef8e2-cf90-4431-a7ec-72392ea3b080",
   "metadata": {},
   "source": [
    "Now you can access the zset you just created from the redis command line."
   ]
  },
  {
   "cell_type": "code",
   "execution_count": 15,
   "id": "83c66018-d561-4ff5-88f7-2baf34695c7d",
   "metadata": {},
   "outputs": [
    {
     "name": "stdout",
     "output_type": "stream",
     "text": [
      "cheetah\n",
      "10\n",
      "lion\n",
      "20\n",
      "giraffe\n",
      "30\n",
      "rhinoceros\n",
      "40\n",
      "elephant\n",
      "50\n"
     ]
    }
   ],
   "source": [
    "%%bash\n",
    "redis-cli\n",
    "zrange animal-weights 0 -1 withscores"
   ]
  },
  {
   "cell_type": "markdown",
   "id": "179cdeb8-fbee-4262-b245-3f7e4a060639",
   "metadata": {},
   "source": [
    "Or use it's equivalent in python."
   ]
  },
  {
   "cell_type": "code",
   "execution_count": 14,
   "id": "b9a2fe4d-7dfc-42c8-a5f3-b7430839bbe7",
   "metadata": {},
   "outputs": [
    {
     "data": {
      "text/plain": [
       "[(b'cheetah', 10.0),\n",
       " (b'lion', 20.0),\n",
       " (b'giraffe', 30.0),\n",
       " (b'rhinoceros', 40.0),\n",
       " (b'elephant', 50.0)]"
      ]
     },
     "execution_count": 14,
     "metadata": {},
     "output_type": "execute_result"
    }
   ],
   "source": [
    "redis_client.zrange(\"animal-weights\", 0, -1, withscores=True)"
   ]
  },
  {
   "cell_type": "markdown",
   "id": "6356cfb3-6541-44a8-b143-1555577a0ad9",
   "metadata": {},
   "source": [
    "To remove the garbage from the global redis environment, we'll delete the set we just created."
   ]
  },
  {
   "cell_type": "code",
   "execution_count": 16,
   "id": "b8debbe0-77bc-4842-af1f-bd09545acbe5",
   "metadata": {},
   "outputs": [
    {
     "data": {
      "text/plain": [
       "1"
      ]
     },
     "execution_count": 16,
     "metadata": {},
     "output_type": "execute_result"
    }
   ],
   "source": [
    "redis_client.delete(\"animal-weights\")"
   ]
  },
  {
   "cell_type": "markdown",
   "id": "70e08e7e-e0a8-42bb-ad53-9a3acabc0711",
   "metadata": {},
   "source": [
    "Finally, don't forget to close the redis client."
   ]
  },
  {
   "cell_type": "code",
   "execution_count": 7,
   "id": "54c8d6c9-c3e8-48e0-9f5b-ee0dec874d14",
   "metadata": {},
   "outputs": [],
   "source": [
    "redis_client.close()"
   ]
  }
 ],
 "metadata": {
  "kernelspec": {
   "display_name": "Python 3 (ipykernel)",
   "language": "python",
   "name": "python3"
  },
  "language_info": {
   "codemirror_mode": {
    "name": "ipython",
    "version": 3
   },
   "file_extension": ".py",
   "mimetype": "text/x-python",
   "name": "python",
   "nbconvert_exporter": "python",
   "pygments_lexer": "ipython3",
   "version": "3.10.12"
  }
 },
 "nbformat": 4,
 "nbformat_minor": 5
}
