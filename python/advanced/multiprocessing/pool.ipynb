{
 "cells": [
  {
   "cell_type": "markdown",
   "id": "8a3be610-54a9-4c7e-aac3-8937c111d7cc",
   "metadata": {},
   "source": [
    "# Pool\n",
    "\n",
    "Is an object that automatically creates a specified number of processes and applies some function in those threads."
   ]
  },
  {
   "cell_type": "code",
   "execution_count": 1,
   "id": "ae82c9d9-f3c2-4063-9555-9db6a9887ce0",
   "metadata": {},
   "outputs": [],
   "source": [
    "import numpy as np\n",
    "from math import sqrt\n",
    "from random import random\n",
    "from multiprocessing import Pool"
   ]
  },
  {
   "cell_type": "code",
   "execution_count": 2,
   "id": "80ab821c-243d-462f-91f0-0cbd35269aff",
   "metadata": {},
   "outputs": [],
   "source": [
    "sample_size = 1_000_000\n",
    "features_size = 10\n",
    "\n",
    "X = np.random.normal(size=(sample_size, features_size))\n",
    "x = np.random.normal(size=features_size)"
   ]
  },
  {
   "cell_type": "code",
   "execution_count": 3,
   "id": "50e8b0a9-34f4-4e2b-b307-395cef266db6",
   "metadata": {},
   "outputs": [],
   "source": [
    "def compute_distances(X, a):\n",
    "    return [\n",
    "        sqrt(sum([(a_v-b_v)**2 for a_v, b_v in zip(a,b)]))\n",
    "        for b in X\n",
    "    ]"
   ]
  },
  {
   "cell_type": "code",
   "execution_count": 4,
   "id": "24000e3f-c660-401c-8b13-a02400d8144d",
   "metadata": {},
   "outputs": [
    {
     "name": "stdout",
     "output_type": "stream",
     "text": [
      "7.67 s ± 131 ms per loop (mean ± std. dev. of 7 runs, 1 loop each)\n"
     ]
    }
   ],
   "source": [
    "%%timeit -n 1\n",
    "compute_distances(X, x)"
   ]
  },
  {
   "cell_type": "code",
   "execution_count": 5,
   "id": "11ddacbf-de1e-4804-abdc-4f610b857fab",
   "metadata": {},
   "outputs": [],
   "source": [
    "split = np.array_split(X, 5)"
   ]
  },
  {
   "cell_type": "code",
   "execution_count": 6,
   "id": "7728cb85-c884-41c1-8471-473cad85fb88",
   "metadata": {},
   "outputs": [
    {
     "name": "stdout",
     "output_type": "stream",
     "text": [
      "1.55 s ± 50.5 ms per loop (mean ± std. dev. of 7 runs, 1 loop each)\n"
     ]
    }
   ],
   "source": [
    "%%timeit -n 1\n",
    "compute_distances(split[0], x)"
   ]
  },
  {
   "cell_type": "markdown",
   "id": "940c451b-84f4-4d13-b936-59352b59ce55",
   "metadata": {},
   "source": [
    "## map"
   ]
  },
  {
   "cell_type": "code",
   "execution_count": 7,
   "id": "46cda4e5-7389-463c-86f3-c048bc02b63a",
   "metadata": {},
   "outputs": [],
   "source": [
    "def wrapper(X):\n",
    "    return compute_distances(X, x)"
   ]
  },
  {
   "cell_type": "code",
   "execution_count": 8,
   "id": "6cecf262-b83a-47d5-92a7-c4e7d994d255",
   "metadata": {},
   "outputs": [
    {
     "name": "stdout",
     "output_type": "stream",
     "text": [
      "2.74 s ± 32.1 ms per loop (mean ± std. dev. of 7 runs, 1 loop each)\n"
     ]
    }
   ],
   "source": [
    "%%timeit -n 1\n",
    "pool = Pool(processes=5)\n",
    "pool.map(wrapper , split)\n",
    "pool.close()\n",
    "pool.join()"
   ]
  }
 ],
 "metadata": {
  "kernelspec": {
   "display_name": "Python 3 (ipykernel)",
   "language": "python",
   "name": "python3"
  },
  "language_info": {
   "codemirror_mode": {
    "name": "ipython",
    "version": 3
   },
   "file_extension": ".py",
   "mimetype": "text/x-python",
   "name": "python",
   "nbconvert_exporter": "python",
   "pygments_lexer": "ipython3",
   "version": "3.10.14"
  }
 },
 "nbformat": 4,
 "nbformat_minor": 5
}
