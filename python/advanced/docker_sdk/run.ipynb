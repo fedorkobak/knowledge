{
 "cells": [
  {
   "cell_type": "markdown",
   "metadata": {},
   "source": [
    "# Run\n",
    "\n",
    "Here we look more closely at concepts related to running containers. See the [relevant section](https://docker-py.readthedocs.io/en/stable/containers.html#docker.models.containers.ContainerCollection.run) in the official documentation."
   ]
  },
  {
   "cell_type": "code",
   "execution_count": 1,
   "metadata": {},
   "outputs": [],
   "source": [
    "import os\n",
    "import docker\n",
    "client = docker.from_env()"
   ]
  },
  {
   "cell_type": "markdown",
   "metadata": {},
   "source": [
    "## Volumes\n",
    "\n",
    "There is a special parameter in `docker.client.DockerClient` - `volumes`. This allows you to specify volumes for your Docker container.\n",
    "\n",
    "The definition of the volume has a specific syntax - it should be a dictionary, each element of which corresponds to the container. Each key is a path on the host, each value is another dictionary with keys `bind` and `mode`. Where `bind` is the path in the container and `mode` is the mode of the volume.\n",
    "\n",
    "In general, it should look like this:\n",
    "\n",
    "```python\n",
    "{\n",
    "    \"<path on the host 1>\": {\"bind\": \"<path on the container 1>\", \"mode\": \"<mode>\"},\n",
    "    \"<path on the host 2>\": {\"bind\": \"<path on the container 2>\", \"mode\": \"<mode>\"},\n",
    "    ...\n",
    "}\n",
    "```"
   ]
  },
  {
   "cell_type": "markdown",
   "metadata": {},
   "source": [
    "Consider example where we try to mount file to the container runned with sdk. So in the next file we creating file that contains specific message:"
   ]
  },
  {
   "cell_type": "code",
   "execution_count": 5,
   "metadata": {},
   "outputs": [
    {
     "name": "stdout",
     "output_type": "stream",
     "text": [
      "Writing run_files/some_message\n"
     ]
    }
   ],
   "source": [
    "%%writefile run_files/some_message\n",
    "This is message from future container"
   ]
  },
  {
   "cell_type": "markdown",
   "metadata": {},
   "source": [
    "This cell is running container and then executing `cat some_message` so content of the mounted file should be printed."
   ]
  },
  {
   "cell_type": "code",
   "execution_count": 6,
   "metadata": {},
   "outputs": [
    {
     "name": "stdout",
     "output_type": "stream",
     "text": [
      "This is message from future container\n",
      "\n"
     ]
    }
   ],
   "source": [
    "container = client.containers.run(\n",
    "    image = \"ubuntu\",\n",
    "    name = \"temp_container\",\n",
    "    volumes = {\n",
    "        f\"{os.getcwd()}/run_files/some_message\": \n",
    "        {'bind': '/some_message', 'mode': 'rw'}\n",
    "    },\n",
    "    detach = True,\n",
    "    stdin_open=True\n",
    ")\n",
    "\n",
    "print(container.exec_run(\"cat some_message\").output.decode(\"utf-8\"))\n",
    "\n",
    "container.stop()"
   ]
  }
 ],
 "metadata": {
  "kernelspec": {
   "display_name": "Python 3",
   "language": "python",
   "name": "python3"
  },
  "language_info": {
   "codemirror_mode": {
    "name": "ipython",
    "version": 3
   },
   "file_extension": ".py",
   "mimetype": "text/x-python",
   "name": "python",
   "nbconvert_exporter": "python",
   "pygments_lexer": "ipython3",
   "version": "3.10.12"
  }
 },
 "nbformat": 4,
 "nbformat_minor": 2
}
