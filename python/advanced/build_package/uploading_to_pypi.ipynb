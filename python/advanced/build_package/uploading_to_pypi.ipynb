{
 "cells": [
  {
   "cell_type": "markdown",
   "id": "bacfaeb9-4352-47cb-9b7f-d34def7fc376",
   "metadata": {},
   "source": [
    "# Upload package\n",
    "\n",
    "This page is focused on ways to upload python project to PyPI. Check <a href=\"https://packaging.python.org/en/latest/tutorials/packaging-projects/\">Packaging Python Projects</a> on python.org.\n",
    "\n",
    "All the files needed for the module are described in the [basics](./basics.ipynb) page. We will work with them here."
   ]
  },
  {
   "cell_type": "markdown",
   "id": "3cb2f4ea-96e6-446b-a1fc-a22e1cfe4dda",
   "metadata": {},
   "source": [
    "## Module building"
   ]
  },
  {
   "cell_type": "markdown",
   "id": "60ed2dde-782c-4ffb-bf33-cc2dfbe24185",
   "metadata": {},
   "source": [
    "There is a special module in Python `build` that can be used to build Python packages. Just use `python3 -m build`.\n",
    "\n",
    "**Note** Don't forget to install this module, it is not out of the box."
   ]
  },
  {
   "cell_type": "code",
   "execution_count": 2,
   "id": "921844d8-da27-4967-9fcd-5ec7b97edc4e",
   "metadata": {},
   "outputs": [
    {
     "name": "stdout",
     "output_type": "stream",
     "text": [
      "\u001b[1m* Creating venv isolated environment...\u001b[0m\n",
      "\u001b[1m* Installing packages in isolated environment... (setuptools >= 40.8.0, wheel)\u001b[0m\n",
      "\u001b[1m* Getting build dependencies for sdist...\u001b[0m\n",
      "running egg_info\n",
      "writing src/example_package_FEDOR_KOBAK.egg-info/PKG-INFO\n",
      "writing dependency_links to src/example_package_FEDOR_KOBAK.egg-info/dependency_links.txt\n",
      "writing top-level names to src/example_package_FEDOR_KOBAK.egg-info/top_level.txt\n",
      "reading manifest file 'src/example_package_FEDOR_KOBAK.egg-info/SOURCES.txt'\n",
      "writing manifest file 'src/example_package_FEDOR_KOBAK.egg-info/SOURCES.txt'\n",
      "\u001b[1m* Building sdist...\u001b[0m\n",
      "running sdist\n",
      "running egg_info\n",
      "writing src/example_package_FEDOR_KOBAK.egg-info/PKG-INFO\n",
      "writing dependency_links to src/example_package_FEDOR_KOBAK.egg-info/dependency_links.txt\n",
      "writing top-level names to src/example_package_FEDOR_KOBAK.egg-info/top_level.txt\n",
      "reading manifest file 'src/example_package_FEDOR_KOBAK.egg-info/SOURCES.txt'\n",
      "writing manifest file 'src/example_package_FEDOR_KOBAK.egg-info/SOURCES.txt'\n",
      "running check\n",
      "creating example_package_FEDOR_KOBAK-0.0.4\n",
      "creating example_package_FEDOR_KOBAK-0.0.4/src\n",
      "creating example_package_FEDOR_KOBAK-0.0.4/src/example_package\n",
      "creating example_package_FEDOR_KOBAK-0.0.4/src/example_package_FEDOR_KOBAK.egg-info\n",
      "copying files to example_package_FEDOR_KOBAK-0.0.4...\n",
      "copying README.md -> example_package_FEDOR_KOBAK-0.0.4\n",
      "copying pyproject.toml -> example_package_FEDOR_KOBAK-0.0.4\n",
      "copying src/example_package/__init__.py -> example_package_FEDOR_KOBAK-0.0.4/src/example_package\n",
      "copying src/example_package/example.py -> example_package_FEDOR_KOBAK-0.0.4/src/example_package\n",
      "copying src/example_package_FEDOR_KOBAK.egg-info/PKG-INFO -> example_package_FEDOR_KOBAK-0.0.4/src/example_package_FEDOR_KOBAK.egg-info\n",
      "copying src/example_package_FEDOR_KOBAK.egg-info/SOURCES.txt -> example_package_FEDOR_KOBAK-0.0.4/src/example_package_FEDOR_KOBAK.egg-info\n",
      "copying src/example_package_FEDOR_KOBAK.egg-info/dependency_links.txt -> example_package_FEDOR_KOBAK-0.0.4/src/example_package_FEDOR_KOBAK.egg-info\n",
      "copying src/example_package_FEDOR_KOBAK.egg-info/top_level.txt -> example_package_FEDOR_KOBAK-0.0.4/src/example_package_FEDOR_KOBAK.egg-info\n",
      "copying src/example_package_FEDOR_KOBAK.egg-info/SOURCES.txt -> example_package_FEDOR_KOBAK-0.0.4/src/example_package_FEDOR_KOBAK.egg-info\n",
      "Writing example_package_FEDOR_KOBAK-0.0.4/setup.cfg\n",
      "Creating tar archive\n",
      "removing 'example_package_FEDOR_KOBAK-0.0.4' (and everything under it)\n",
      "\u001b[1m* Building wheel from sdist\u001b[0m\n",
      "\u001b[1m* Creating venv isolated environment...\u001b[0m\n",
      "\u001b[1m* Installing packages in isolated environment... (setuptools >= 40.8.0, wheel)\u001b[0m\n",
      "\u001b[1m* Getting build dependencies for wheel...\u001b[0m\n",
      "running egg_info\n",
      "writing src/example_package_FEDOR_KOBAK.egg-info/PKG-INFO\n",
      "writing dependency_links to src/example_package_FEDOR_KOBAK.egg-info/dependency_links.txt\n",
      "writing top-level names to src/example_package_FEDOR_KOBAK.egg-info/top_level.txt\n",
      "reading manifest file 'src/example_package_FEDOR_KOBAK.egg-info/SOURCES.txt'\n",
      "writing manifest file 'src/example_package_FEDOR_KOBAK.egg-info/SOURCES.txt'\n",
      "\u001b[1m* Installing packages in isolated environment... (wheel)\u001b[0m\n",
      "\u001b[1m* Building wheel...\u001b[0m\n",
      "running bdist_wheel\n",
      "running build\n",
      "running build_py\n",
      "creating build\n",
      "creating build/lib\n",
      "creating build/lib/example_package\n",
      "copying src/example_package/__init__.py -> build/lib/example_package\n",
      "copying src/example_package/example.py -> build/lib/example_package\n",
      "running egg_info\n",
      "writing src/example_package_FEDOR_KOBAK.egg-info/PKG-INFO\n",
      "writing dependency_links to src/example_package_FEDOR_KOBAK.egg-info/dependency_links.txt\n",
      "writing top-level names to src/example_package_FEDOR_KOBAK.egg-info/top_level.txt\n",
      "reading manifest file 'src/example_package_FEDOR_KOBAK.egg-info/SOURCES.txt'\n",
      "writing manifest file 'src/example_package_FEDOR_KOBAK.egg-info/SOURCES.txt'\n",
      "installing to build/bdist.linux-x86_64/wheel\n",
      "running install\n",
      "running install_lib\n",
      "creating build/bdist.linux-x86_64\n",
      "creating build/bdist.linux-x86_64/wheel\n",
      "creating build/bdist.linux-x86_64/wheel/example_package\n",
      "copying build/lib/example_package/__init__.py -> build/bdist.linux-x86_64/wheel/example_package\n",
      "copying build/lib/example_package/example.py -> build/bdist.linux-x86_64/wheel/example_package\n",
      "running install_egg_info\n",
      "Copying src/example_package_FEDOR_KOBAK.egg-info to build/bdist.linux-x86_64/wheel/example_package_FEDOR_KOBAK-0.0.4-py3.10.egg-info\n",
      "running install_scripts\n",
      "creating build/bdist.linux-x86_64/wheel/example_package_FEDOR_KOBAK-0.0.4.dist-info/WHEEL\n",
      "creating '/home/fedor/Documents/knowledge/python/advanced/build_package/build_package_files/dist/.tmp-n3iisbtd/example_package_FEDOR_KOBAK-0.0.4-py3-none-any.whl' and adding 'build/bdist.linux-x86_64/wheel' to it\n",
      "adding 'example_package/__init__.py'\n",
      "adding 'example_package/example.py'\n",
      "adding 'example_package_FEDOR_KOBAK-0.0.4.dist-info/METADATA'\n",
      "adding 'example_package_FEDOR_KOBAK-0.0.4.dist-info/WHEEL'\n",
      "adding 'example_package_FEDOR_KOBAK-0.0.4.dist-info/top_level.txt'\n",
      "adding 'example_package_FEDOR_KOBAK-0.0.4.dist-info/RECORD'\n",
      "removing build/bdist.linux-x86_64/wheel\n",
      "\u001b[1m\u001b[92mSuccessfully built \u001b[4mexample_package_FEDOR_KOBAK-0.0.4.tar.gz\u001b[0m\u001b[1m\u001b[92m and \u001b[4mexample_package_FEDOR_KOBAK-0.0.4-py3-none-any.whl\u001b[0m\u001b[1m\u001b[92m\u001b[0m\n"
     ]
    }
   ],
   "source": [
    "%%bash\n",
    "cd build_package_files\n",
    "python3 -m build"
   ]
  },
  {
   "cell_type": "markdown",
   "id": "3f94f12a-7c05-4a81-a12f-097b19682697",
   "metadata": {},
   "source": [
    "## Final structure\n",
    "\n",
    "After completing the previous steps, you should have the project structure described below. In the `dist` folder you will have archives that that make up the assembled module."
   ]
  },
  {
   "cell_type": "code",
   "execution_count": 3,
   "id": "360636e5-117a-4f5f-b1a8-acf06b48c401",
   "metadata": {},
   "outputs": [
    {
     "name": "stdout",
     "output_type": "stream",
     "text": [
      "\u001b[01;34mbuild_package_files\u001b[0m\n",
      "├── \u001b[01;34mbuild\u001b[0m\n",
      "│   ├── \u001b[01;34mbdist.linux-x86_64\u001b[0m\n",
      "│   └── \u001b[01;34mlib\u001b[0m\n",
      "│       └── \u001b[01;34mexample_package\u001b[0m\n",
      "│           ├── example.py\n",
      "│           └── __init__.py\n",
      "├── \u001b[01;34mdist\u001b[0m\n",
      "│   ├── example_package_FEDOR_KOBAK-0.0.4-py3-none-any.whl\n",
      "│   └── \u001b[01;31mexample_package_FEDOR_KOBAK-0.0.4.tar.gz\u001b[0m\n",
      "├── pyproject.toml\n",
      "├── README.md\n",
      "├── \u001b[01;34msrc\u001b[0m\n",
      "│   ├── \u001b[01;34mexample_package\u001b[0m\n",
      "│   │   ├── example.py\n",
      "│   │   └── __init__.py\n",
      "│   └── \u001b[01;34mexample_package_FEDOR_KOBAK.egg-info\u001b[0m\n",
      "│       ├── dependency_links.txt\n",
      "│       ├── PKG-INFO\n",
      "│       ├── SOURCES.txt\n",
      "│       └── top_level.txt\n",
      "└── \u001b[01;34mUNKNOWN.egg-info\u001b[0m\n",
      "    ├── dependency_links.txt\n",
      "    ├── PKG-INFO\n",
      "    ├── SOURCES.txt\n",
      "    └── top_level.txt\n",
      "\n",
      "9 directories, 16 files\n"
     ]
    }
   ],
   "source": [
    "%%bash\n",
    "tree build_package_files"
   ]
  },
  {
   "cell_type": "markdown",
   "id": "782effbe-f0cd-4e49-8f2e-dd921ca86bd5",
   "metadata": {},
   "source": [
    "## Uploading"
   ]
  },
  {
   "cell_type": "markdown",
   "id": "8e572cb8-6ead-478f-8170-93d57207b3a2",
   "metadata": {},
   "source": [
    "I'll use <a href=\"https://test.pypi.org/\">PyPI test</a> - which is created to try uploading modules.\n",
    "\n",
    "Run the following command. I can't just run it on the page because I need to complete authentication.\n",
    "\n",
    "`python3 -m twine upload --repository testpypi build_package_files/dist/*`\n",
    "\n",
    "**Note** Remove the `--repository testpypi` argument to use the original PyPI by default.\n",
    "\n",
    "So after you complete all previous steps you have to have <a href=\"https://test.pypi.org/project/example-package-FEDOR-KOBAK/\">page for this library</a>."
   ]
  },
  {
   "cell_type": "markdown",
   "id": "1c8424b8-b319-4ec5-9bc7-ae3c1d2832fd",
   "metadata": {},
   "source": [
    "## Using new package"
   ]
  },
  {
   "cell_type": "markdown",
   "id": "cdd29403-a381-4425-b070-0a35f370b5e9",
   "metadata": {},
   "source": [
    "Now let's download and use the package we just created. We install it using `-i <url>` because it is not stored in PyPI but in test PyPI. For the import we use the name `example` because all the code was stored in `src/example` but during the build we set `src` as the source folder."
   ]
  },
  {
   "cell_type": "code",
   "execution_count": 8,
   "id": "3cd02522-cc07-4082-a3cc-e7010453daa4",
   "metadata": {},
   "outputs": [
    {
     "name": "stdout",
     "output_type": "stream",
     "text": [
      "Looking in indexes: https://test.pypi.org/simple/\n",
      "Collecting example-package-FEDOR-KOBAK\n",
      "  Using cached https://test-files.pythonhosted.org/packages/08/d0/bc442e908de6c7aaf2bc9cd902140e0101c535a5a352e33f6c3d9d2c0ce0/example_package_FEDOR_KOBAK-0.0.4-py3-none-any.whl (1.6 kB)\n",
      "Installing collected packages: example-package-FEDOR-KOBAK\n",
      "Successfully installed example-package-FEDOR-KOBAK-0.0.4\n",
      "\n",
      "\n",
      "Init me!\n",
      "doing something\n"
     ]
    }
   ],
   "source": [
    "%%bash\n",
    "python3 -m venv build_package_files/venv\n",
    "source build_package_files/venv/bin/activate\n",
    "pip3 install -i https://test.pypi.org/simple/ example-package-FEDOR-KOBAK\n",
    "\n",
    "echo; echo\n",
    "\n",
    "python3\n",
    "from example_package.example import do_something\n",
    "do_something()"
   ]
  },
  {
   "cell_type": "markdown",
   "id": "e9aa10e4-e7bd-43cc-b4f3-0452790076ab",
   "metadata": {},
   "source": [
    "**Note** for experiment was launched special virtual environment, but after playing with this notebook we don't need it, so we can just delete it."
   ]
  },
  {
   "cell_type": "code",
   "execution_count": 9,
   "id": "7262f7d5-1de8-40f0-a838-9f85ab407847",
   "metadata": {},
   "outputs": [],
   "source": [
    "%%bash\n",
    "rm -r build_package_files/venv"
   ]
  }
 ],
 "metadata": {
  "kernelspec": {
   "display_name": "Python 3 (ipykernel)",
   "language": "python",
   "name": "python3"
  },
  "language_info": {
   "codemirror_mode": {
    "name": "ipython",
    "version": 3
   },
   "file_extension": ".py",
   "mimetype": "text/x-python",
   "name": "python",
   "nbconvert_exporter": "python",
   "pygments_lexer": "ipython3",
   "version": "3.10.12"
  }
 },
 "nbformat": 4,
 "nbformat_minor": 5
}
