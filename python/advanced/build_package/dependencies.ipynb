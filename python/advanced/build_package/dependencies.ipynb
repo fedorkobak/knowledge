{
 "cells": [
  {
   "cell_type": "markdown",
   "id": "7f619f3a-5af9-4be5-bfc0-a89533405551",
   "metadata": {},
   "source": [
    "# Dependencies\n",
    "\n",
    "Here is described how to specify the libraries that must be installed for the package to work correctly.\n",
    "\n",
    "You have to use `pyproject.toml` to specify it, read more about it <a href=\"https://packaging.python.org/en/latest/guides/writing-pyproject-toml/#writing-pyproject-toml\">here</a>."
   ]
  },
  {
   "cell_type": "markdown",
   "id": "0554a0bb-e02f-4b5d-9d9b-398bacb32378",
   "metadata": {},
   "source": [
    "To specify which libraries need to be installed with the package, just use the `dependencies` field in the `[project]` section of `pyproject.toml`. The following cell shows what it might look like. There is specified to install `pandas`."
   ]
  },
  {
   "cell_type": "code",
   "execution_count": 1,
   "id": "1ad8183c-4a33-4fe0-9ee4-cccc456f3b1a",
   "metadata": {},
   "outputs": [
    {
     "name": "stdout",
     "output_type": "stream",
     "text": [
      "Overwriting dependincies_files/pyproject.toml\n"
     ]
    }
   ],
   "source": [
    "%%writefile dependincies_files/pyproject.toml\n",
    "[project]\n",
    "name = \"toy_package\"\n",
    "version = \"0.0.0\"\n",
    "authors = [\n",
    "  {name=\"Fedor Kobak\", email=\"kobfedsur@gmail.com\" },\n",
    "]\n",
    "dependencies = [\"pandas==2.0.0\"]\n",
    "description = \"A small example package\""
   ]
  },
  {
   "cell_type": "markdown",
   "id": "43fe67f0-3a8a-4e57-b547-c08feec996c6",
   "metadata": {},
   "source": [
    "Now let's try to install our library in a fresh environment."
   ]
  },
  {
   "cell_type": "code",
   "execution_count": 2,
   "id": "095a5c19-2f06-4eaf-bb47-729517622abc",
   "metadata": {},
   "outputs": [
    {
     "name": "stdout",
     "output_type": "stream",
     "text": [
      "Processing /home/fedor/Documents/knowledge/python/advanced/build_package/dependincies_files\n",
      "  Installing build dependencies: started\n",
      "  Installing build dependencies: finished with status 'done'\n",
      "  Getting requirements to build wheel: started\n",
      "  Getting requirements to build wheel: finished with status 'done'\n",
      "  Preparing metadata (pyproject.toml): started\n",
      "  Preparing metadata (pyproject.toml): finished with status 'done'\n",
      "Collecting pandas==2.0.0\n",
      "  Using cached pandas-2.0.0-cp310-cp310-manylinux_2_17_x86_64.manylinux2014_x86_64.whl (12.3 MB)\n",
      "Collecting numpy>=1.21.0\n",
      "  Using cached numpy-1.26.4-cp310-cp310-manylinux_2_17_x86_64.manylinux2014_x86_64.whl (18.2 MB)\n",
      "Collecting python-dateutil>=2.8.2\n",
      "  Using cached python_dateutil-2.9.0.post0-py2.py3-none-any.whl (229 kB)\n",
      "Collecting pytz>=2020.1\n",
      "  Using cached pytz-2024.1-py2.py3-none-any.whl (505 kB)\n",
      "Collecting tzdata>=2022.1\n",
      "  Using cached tzdata-2024.1-py2.py3-none-any.whl (345 kB)\n",
      "Collecting six>=1.5\n",
      "  Using cached six-1.16.0-py2.py3-none-any.whl (11 kB)\n",
      "Building wheels for collected packages: toy_package\n",
      "  Building wheel for toy_package (pyproject.toml): started\n",
      "  Building wheel for toy_package (pyproject.toml): finished with status 'done'\n",
      "  Created wheel for toy_package: filename=toy_package-0.0.0-py3-none-any.whl size=1053 sha256=e15492ea9250e39a803a10baf91ba4432d1541407f24636b7369281d58d5f66a\n",
      "  Stored in directory: /tmp/pip-ephem-wheel-cache-i0r_cgap/wheels/6e/16/b0/2fddba3ea10b9bf4559c1ef3758ff842f2b871f2a0d88fdc40\n",
      "Successfully built toy_package\n",
      "Installing collected packages: pytz, tzdata, six, numpy, python-dateutil, pandas, toy_package\n",
      "Successfully installed numpy-1.26.4 pandas-2.0.0 python-dateutil-2.9.0.post0 pytz-2024.1 six-1.16.0 toy_package-0.0.0 tzdata-2024.1\n"
     ]
    }
   ],
   "source": [
    "%%bash\n",
    "cd dependincies_files\n",
    "python3 -m venv venv\n",
    "source venv/bin/activate\n",
    "pip3 install ."
   ]
  },
  {
   "cell_type": "markdown",
   "id": "1b73fff4-0ff2-45ad-9fd0-ff7e2b72827e",
   "metadata": {},
   "source": [
    "And check that it is installed with the specified version in pip of the environment in question:"
   ]
  },
  {
   "cell_type": "code",
   "execution_count": 4,
   "id": "b8d31104-8019-4897-a27c-51ff135d38ee",
   "metadata": {},
   "outputs": [
    {
     "name": "stdout",
     "output_type": "stream",
     "text": [
      "pandas          2.0.0\n"
     ]
    }
   ],
   "source": [
    "%%bash\n",
    "cd dependincies_files\n",
    "source venv/bin/activate\n",
    "pip3 list | grep pandas"
   ]
  },
  {
   "cell_type": "markdown",
   "id": "8727964d-4758-4588-b4ac-c1bae2c0df1d",
   "metadata": {},
   "source": [
    "To avoid storing test files on your computer, don't forget to delete the virtual environment created for this research:"
   ]
  },
  {
   "cell_type": "code",
   "execution_count": 5,
   "id": "5b5142f8-7ccc-4d43-bcc0-87888f889ad6",
   "metadata": {},
   "outputs": [],
   "source": [
    "!rm -r dependincies_files/venv"
   ]
  }
 ],
 "metadata": {
  "kernelspec": {
   "display_name": "Python 3 (ipykernel)",
   "language": "python",
   "name": "python3"
  },
  "language_info": {
   "codemirror_mode": {
    "name": "ipython",
    "version": 3
   },
   "file_extension": ".py",
   "mimetype": "text/x-python",
   "name": "python",
   "nbconvert_exporter": "python",
   "pygments_lexer": "ipython3",
   "version": "3.10.12"
  }
 },
 "nbformat": 4,
 "nbformat_minor": 5
}
