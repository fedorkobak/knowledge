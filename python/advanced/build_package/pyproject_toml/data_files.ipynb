{
 "cells": [
  {
   "cell_type": "markdown",
   "id": "eb9fedc7-7b4d-4bc5-b690-9067728bc2e5",
   "metadata": {},
   "source": [
    "# Data files\n",
    "\n",
    "Sometimes, besides the source code, some additional information is required for packages to work. For example, in my practice I was preparing an interface for interaction with a machine learning model, but the model itself was saved in model.pkl and this file had to be somehow delivered to the final build of the model."
   ]
  },
  {
   "cell_type": "markdown",
   "id": "37123219-9e15-4e93-b2ef-21d31fe8a1af",
   "metadata": {},
   "source": [
    "## Default behaviour\n",
    "\n",
    "By default, pip doesn't save any files other than `*.py` files during model building. It's shown in the following example."
   ]
  },
  {
   "cell_type": "markdown",
   "id": "e6bcc811-03f4-4d6c-8533-f19948a347a0",
   "metadata": {},
   "source": [
    "The following cell contains a script that mimics a Python module. It saves files in the `my_files` folder with `.py` and `.txt` extensions, so `.py` files mimic module source code, but `.txt` files mimic data files."
   ]
  },
  {
   "cell_type": "code",
   "execution_count": 1,
   "id": "519b4899-b09a-4a18-b5e7-2ecd0666fb5a",
   "metadata": {},
   "outputs": [
    {
     "name": "stdout",
     "output_type": "stream",
     "text": [
      "\u001b[01;34m.\u001b[0m\n",
      "└── \u001b[01;34msrc\u001b[0m\n",
      "    └── \u001b[01;34mmy_files\u001b[0m\n",
      "        ├── data_file1.txt\n",
      "        ├── data_file2.txt\n",
      "        ├── data_file3.txt\n",
      "        ├── data_file4.txt\n",
      "        ├── data_file5.txt\n",
      "        ├── script_file1.py\n",
      "        ├── script_file2.py\n",
      "        ├── script_file3.py\n",
      "        ├── script_file4.py\n",
      "        └── script_file5.py\n",
      "\n",
      "2 directories, 10 files\n"
     ]
    }
   ],
   "source": [
    "%%bash\n",
    "mkdir data_files\n",
    "cd data_files\n",
    "mkdir -p src/my_files\n",
    "touch src/my_files/data_file{1..5}.txt\n",
    "touch src/my_files/script_file{1..5}.py\n",
    "tree"
   ]
  },
  {
   "cell_type": "markdown",
   "id": "f4fdc62b-0b30-4e62-ae6a-309ca28b0587",
   "metadata": {},
   "source": [
    "Now let's add minimal `pyproject.toml`."
   ]
  },
  {
   "cell_type": "code",
   "execution_count": 2,
   "id": "e6e934ab-708c-49be-8ed8-a17ba5402bf5",
   "metadata": {},
   "outputs": [
    {
     "name": "stdout",
     "output_type": "stream",
     "text": [
      "Writing data_files/pyproject.toml\n"
     ]
    }
   ],
   "source": [
    "%%writefile data_files/pyproject.toml\n",
    "[project]\n",
    "name = \"toy_package\"\n",
    "version = \"0.0.0\""
   ]
  },
  {
   "cell_type": "markdown",
   "id": "fc95ac7c-7fbe-4942-b2ff-e948179e0195",
   "metadata": {},
   "source": [
    "And finally instalation of the library."
   ]
  },
  {
   "cell_type": "code",
   "execution_count": 3,
   "id": "4f1bafa3-a1b9-412b-a4a7-1d0493766698",
   "metadata": {},
   "outputs": [
    {
     "name": "stdout",
     "output_type": "stream",
     "text": [
      "Processing /home/fedor/Documents/knowledge/python/advanced/build_package/pyproject_toml/data_files\n",
      "  Installing build dependencies: started\n",
      "  Installing build dependencies: finished with status 'done'\n",
      "  Getting requirements to build wheel: started\n",
      "  Getting requirements to build wheel: finished with status 'done'\n",
      "  Preparing metadata (pyproject.toml): started\n",
      "  Preparing metadata (pyproject.toml): finished with status 'done'\n",
      "Building wheels for collected packages: toy_package\n",
      "  Building wheel for toy_package (pyproject.toml): started\n",
      "  Building wheel for toy_package (pyproject.toml): finished with status 'done'\n",
      "  Created wheel for toy_package: filename=toy_package-0.0.0-py3-none-any.whl size=1674 sha256=8b222d6da4cbf1d604459fb9ea3c5537a452cf8d2757ca0ad75d032e6024ea51\n",
      "  Stored in directory: /tmp/pip-ephem-wheel-cache-316chubl/wheels/cc/cb/f7/95fa019d083d40b603f83331a55267702f34437865bcdd8f3e\n",
      "Successfully built toy_package\n",
      "Installing collected packages: toy_package\n",
      "Successfully installed toy_package-0.0.0\n"
     ]
    }
   ],
   "source": [
    "%%bash\n",
    "python3 -m venv venv\n",
    "source venv/bin/activate\n",
    "cd data_files\n",
    "pip3 install ."
   ]
  },
  {
   "cell_type": "code",
   "execution_count": 4,
   "id": "badd8377-3745-43c3-b144-ebd0f26934f7",
   "metadata": {},
   "outputs": [
    {
     "name": "stdout",
     "output_type": "stream",
     "text": [
      "__pycache__\n",
      "script_file1.py\n",
      "script_file2.py\n",
      "script_file3.py\n",
      "script_file4.py\n",
      "script_file5.py\n"
     ]
    }
   ],
   "source": [
    "%%bash\n",
    "cd venv/lib\n",
    "lib_path=$(find . -type d -name site-packages)\n",
    "ls $lib_path/my_files"
   ]
  },
  {
   "cell_type": "markdown",
   "id": "2accb0fd-11a9-4b40-8df9-9039959a0db3",
   "metadata": {},
   "source": [
    "## Add other files"
   ]
  },
  {
   "cell_type": "code",
   "execution_count": 56,
   "id": "8464c49d-90af-4801-b25d-c29f4bfaa88b",
   "metadata": {},
   "outputs": [
    {
     "name": "stdout",
     "output_type": "stream",
     "text": [
      "Overwriting pyproject_toml_files/data_files/pyproject.toml\n"
     ]
    }
   ],
   "source": [
    "%%writefile pyproject_toml_files/data_files/pyproject.toml\n",
    "[project]\n",
    "name = \"toy_package\"\n",
    "version = \"0.0.0\"\n",
    "\n",
    "[tool.setuptools]\n",
    "include-package-data = true\n",
    "\n",
    "[tool.setuptools.packages.find]\n",
    "where = [\"src\"]"
   ]
  },
  {
   "cell_type": "code",
   "execution_count": 57,
   "id": "275381b2-48e0-4c7f-adcc-627e5bb2e321",
   "metadata": {},
   "outputs": [
    {
     "name": "stdout",
     "output_type": "stream",
     "text": [
      "Writing pyproject_toml_files/data_files/MANIFEST.in\n"
     ]
    }
   ],
   "source": [
    "%%writefile pyproject_toml_files/data_files/MANIFEST.in\n",
    "include src/my_files/*.txt"
   ]
  },
  {
   "cell_type": "code",
   "execution_count": 5,
   "id": "778207a4-01ed-4388-88d3-531d49087946",
   "metadata": {},
   "outputs": [],
   "source": [
    "rm -r data_files venv"
   ]
  }
 ],
 "metadata": {
  "kernelspec": {
   "display_name": "Python 3 (ipykernel)",
   "language": "python",
   "name": "python3"
  },
  "language_info": {
   "codemirror_mode": {
    "name": "ipython",
    "version": 3
   },
   "file_extension": ".py",
   "mimetype": "text/x-python",
   "name": "python",
   "nbconvert_exporter": "python",
   "pygments_lexer": "ipython3",
   "version": "3.10.12"
  }
 },
 "nbformat": 4,
 "nbformat_minor": 5
}
