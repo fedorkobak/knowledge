{
 "cells": [
  {
   "cell_type": "markdown",
   "id": "a757af97-6407-4576-98f8-80bfbde8e1b5",
   "metadata": {},
   "source": [
    "# Unittest\n",
    "\n",
    "`unittest`  is a built-in library for performing unit tests in Python. It's actually pretty obvious how to use it, so I won't spend time explaining the basics. Follow the <a href=\"https://docs.python.org/3/library/unittest.html\">link</a> to learn the basics."
   ]
  },
  {
   "cell_type": "markdown",
   "id": "36eef5b5-0bcc-476b-b0fc-5d4deccdad76",
   "metadata": {
    "jp-MarkdownHeadingCollapsed": true
   },
   "source": [
    "## assertRaises\n",
    "\n",
    "Sometimes programs are designed to throw exceptions in certain cases. So we need a way to test whether an exception has been thrown in that case. In this subsection I want to pay attention to such a case."
   ]
  },
  {
   "cell_type": "markdown",
   "id": "68c0388b-59e8-4eff-b565-a8cd3e457a7c",
   "metadata": {
    "jp-MarkdownHeadingCollapsed": true
   },
   "source": [
    "### Basics"
   ]
  },
  {
   "cell_type": "markdown",
   "id": "79d77f12-b6a8-4fe7-a17f-a49e5b9c0428",
   "metadata": {},
   "source": [
    "For example, we'll use a function that implements division for two numbers, but if the denominator is zero, we have to throw an exception. Such a function is implemented in the following cell:"
   ]
  },
  {
   "cell_type": "code",
   "execution_count": 5,
   "id": "a94cff81-da77-4563-ae3a-ec961fcd9a38",
   "metadata": {},
   "outputs": [
    {
     "name": "stdout",
     "output_type": "stream",
     "text": [
      "Writing unittest_files/assert_raises.py\n"
     ]
    }
   ],
   "source": [
    "%%writefile unittest_files/assert_raises.py\n",
    "def my_division(a,b):\n",
    "    if b == 0:\n",
    "        raise ValueError(\"Division by zero is detected!\")\n",
    "    return a/b"
   ]
  },
  {
   "cell_type": "markdown",
   "id": "20b00729-6d0a-4ab1-b5b0-b0f878298957",
   "metadata": {},
   "source": [
    "No, we can use `unittest.TestCase.assertRaises` to get the result we want. But note that it normally have specific syntax `assertRaises(<expected exception>, <funtion>, *<arguments for funtion that leads to the raise of the error>)`. So you don't need to call the function you are testing directly, but you do need to pass it and the test case documents to the `unittest.TestCase.assertRaises`. The example is below, the first test leads to `raise` in `my_division`, but the second does not, so you can be sure that if an error doesn't occurs you will know about it:"
   ]
  },
  {
   "cell_type": "code",
   "execution_count": 22,
   "id": "10d598cc-0dc0-4528-b53a-49c7acae2a3e",
   "metadata": {},
   "outputs": [
    {
     "name": "stdout",
     "output_type": "stream",
     "text": [
      "Overwriting unittest_files/test_assert_raises.py\n"
     ]
    }
   ],
   "source": [
    "%%writefile unittest_files/test_assert_raises.py\n",
    "import unittest\n",
    "from assert_raises import my_division\n",
    "\n",
    "class MyCase(unittest.TestCase):\n",
    "    def test_sucessfull(self):\n",
    "        '''\n",
    "        Case where division by zero occurs.\n",
    "        So testing for it will be successful.\n",
    "        '''\n",
    "        self.assertRaises(\n",
    "            ValueError,\n",
    "            my_division,\n",
    "            10, 0\n",
    "        )\n",
    "\n",
    "    def test_error(self):\n",
    "        '''\n",
    "        Case where division by zero doesn't happen.\n",
    "        So testing for it won't finish well.\n",
    "        '''\n",
    "        self.assertRaises(\n",
    "            ValueError,\n",
    "            my_division,\n",
    "            10,2\n",
    "        )"
   ]
  },
  {
   "cell_type": "markdown",
   "id": "003e1e61-20fd-4c63-9e5a-8c1b32013351",
   "metadata": {},
   "source": [
    "Now let's call the prepared tests - as a result we have that one test goes fine, but the second leads to the error."
   ]
  },
  {
   "cell_type": "code",
   "execution_count": 21,
   "id": "e0333e41-cf9f-4fb5-b043-e5e41699dee6",
   "metadata": {},
   "outputs": [
    {
     "name": "stderr",
     "output_type": "stream",
     "text": [
      "F.\n",
      "======================================================================\n",
      "FAIL: test_error (test_assert_raises.MyCase)\n",
      "----------------------------------------------------------------------\n",
      "Traceback (most recent call last):\n",
      "  File \"/home/fedor/Documents/knowledge/python/advanced/unittest_files/test_assert_raises.py\", line 13, in test_error\n",
      "    self.assertRaises(\n",
      "AssertionError: ValueError not raised by my_division\n",
      "\n",
      "----------------------------------------------------------------------\n",
      "Ran 2 tests in 0.000s\n",
      "\n",
      "FAILED (failures=1)\n"
     ]
    },
    {
     "ename": "CalledProcessError",
     "evalue": "Command 'b'cd unittest_files\\npython3 -m unittest test_assert_raises.py\\n'' returned non-zero exit status 1.",
     "output_type": "error",
     "traceback": [
      "\u001b[0;31m---------------------------------------------------------------------------\u001b[0m",
      "\u001b[0;31mCalledProcessError\u001b[0m                        Traceback (most recent call last)",
      "Cell \u001b[0;32mIn[21], line 1\u001b[0m\n\u001b[0;32m----> 1\u001b[0m \u001b[43mget_ipython\u001b[49m\u001b[43m(\u001b[49m\u001b[43m)\u001b[49m\u001b[38;5;241;43m.\u001b[39;49m\u001b[43mrun_cell_magic\u001b[49m\u001b[43m(\u001b[49m\u001b[38;5;124;43m'\u001b[39;49m\u001b[38;5;124;43mbash\u001b[39;49m\u001b[38;5;124;43m'\u001b[39;49m\u001b[43m,\u001b[49m\u001b[43m \u001b[49m\u001b[38;5;124;43m'\u001b[39;49m\u001b[38;5;124;43m'\u001b[39;49m\u001b[43m,\u001b[49m\u001b[43m \u001b[49m\u001b[38;5;124;43m'\u001b[39;49m\u001b[38;5;124;43mcd unittest_files\u001b[39;49m\u001b[38;5;130;43;01m\\n\u001b[39;49;00m\u001b[38;5;124;43mpython3 -m unittest test_assert_raises.py\u001b[39;49m\u001b[38;5;130;43;01m\\n\u001b[39;49;00m\u001b[38;5;124;43m'\u001b[39;49m\u001b[43m)\u001b[49m\n",
      "File \u001b[0;32m~/.local/lib/python3.10/site-packages/IPython/core/interactiveshell.py:2430\u001b[0m, in \u001b[0;36mInteractiveShell.run_cell_magic\u001b[0;34m(self, magic_name, line, cell)\u001b[0m\n\u001b[1;32m   2428\u001b[0m \u001b[38;5;28;01mwith\u001b[39;00m \u001b[38;5;28mself\u001b[39m\u001b[38;5;241m.\u001b[39mbuiltin_trap:\n\u001b[1;32m   2429\u001b[0m     args \u001b[38;5;241m=\u001b[39m (magic_arg_s, cell)\n\u001b[0;32m-> 2430\u001b[0m     result \u001b[38;5;241m=\u001b[39m \u001b[43mfn\u001b[49m\u001b[43m(\u001b[49m\u001b[38;5;241;43m*\u001b[39;49m\u001b[43margs\u001b[49m\u001b[43m,\u001b[49m\u001b[43m \u001b[49m\u001b[38;5;241;43m*\u001b[39;49m\u001b[38;5;241;43m*\u001b[39;49m\u001b[43mkwargs\u001b[49m\u001b[43m)\u001b[49m\n\u001b[1;32m   2432\u001b[0m \u001b[38;5;66;03m# The code below prevents the output from being displayed\u001b[39;00m\n\u001b[1;32m   2433\u001b[0m \u001b[38;5;66;03m# when using magics with decodator @output_can_be_silenced\u001b[39;00m\n\u001b[1;32m   2434\u001b[0m \u001b[38;5;66;03m# when the last Python token in the expression is a ';'.\u001b[39;00m\n\u001b[1;32m   2435\u001b[0m \u001b[38;5;28;01mif\u001b[39;00m \u001b[38;5;28mgetattr\u001b[39m(fn, magic\u001b[38;5;241m.\u001b[39mMAGIC_OUTPUT_CAN_BE_SILENCED, \u001b[38;5;28;01mFalse\u001b[39;00m):\n",
      "File \u001b[0;32m~/.local/lib/python3.10/site-packages/IPython/core/magics/script.py:153\u001b[0m, in \u001b[0;36mScriptMagics._make_script_magic.<locals>.named_script_magic\u001b[0;34m(line, cell)\u001b[0m\n\u001b[1;32m    151\u001b[0m \u001b[38;5;28;01melse\u001b[39;00m:\n\u001b[1;32m    152\u001b[0m     line \u001b[38;5;241m=\u001b[39m script\n\u001b[0;32m--> 153\u001b[0m \u001b[38;5;28;01mreturn\u001b[39;00m \u001b[38;5;28;43mself\u001b[39;49m\u001b[38;5;241;43m.\u001b[39;49m\u001b[43mshebang\u001b[49m\u001b[43m(\u001b[49m\u001b[43mline\u001b[49m\u001b[43m,\u001b[49m\u001b[43m \u001b[49m\u001b[43mcell\u001b[49m\u001b[43m)\u001b[49m\n",
      "File \u001b[0;32m~/.local/lib/python3.10/site-packages/IPython/core/magics/script.py:305\u001b[0m, in \u001b[0;36mScriptMagics.shebang\u001b[0;34m(self, line, cell)\u001b[0m\n\u001b[1;32m    300\u001b[0m \u001b[38;5;28;01mif\u001b[39;00m args\u001b[38;5;241m.\u001b[39mraise_error \u001b[38;5;129;01mand\u001b[39;00m p\u001b[38;5;241m.\u001b[39mreturncode \u001b[38;5;241m!=\u001b[39m \u001b[38;5;241m0\u001b[39m:\n\u001b[1;32m    301\u001b[0m     \u001b[38;5;66;03m# If we get here and p.returncode is still None, we must have\u001b[39;00m\n\u001b[1;32m    302\u001b[0m     \u001b[38;5;66;03m# killed it but not yet seen its return code. We don't wait for it,\u001b[39;00m\n\u001b[1;32m    303\u001b[0m     \u001b[38;5;66;03m# in case it's stuck in uninterruptible sleep. -9 = SIGKILL\u001b[39;00m\n\u001b[1;32m    304\u001b[0m     rc \u001b[38;5;241m=\u001b[39m p\u001b[38;5;241m.\u001b[39mreturncode \u001b[38;5;129;01mor\u001b[39;00m \u001b[38;5;241m-\u001b[39m\u001b[38;5;241m9\u001b[39m\n\u001b[0;32m--> 305\u001b[0m     \u001b[38;5;28;01mraise\u001b[39;00m CalledProcessError(rc, cell)\n",
      "\u001b[0;31mCalledProcessError\u001b[0m: Command 'b'cd unittest_files\\npython3 -m unittest test_assert_raises.py\\n'' returned non-zero exit status 1."
     ]
    }
   ],
   "source": [
    "%%bash\n",
    "cd unittest_files\n",
    "python3 -m unittest test_assert_raises.py"
   ]
  },
  {
   "cell_type": "markdown",
   "id": "908e2946-3c87-4b5c-a039-f583f38a516f",
   "metadata": {
    "jp-MarkdownHeadingCollapsed": true
   },
   "source": [
    "### Using context manager (with)\n",
    "\n",
    "Some programs don't really like to type function and it's arguments separately, so they use sytax `with self.assertRaises(<error type>)` and call function under consideration inside the `with` block. So here is the same option as in the \"Basic\" section, but we are using the context manager to create such a test:"
   ]
  },
  {
   "cell_type": "code",
   "execution_count": 23,
   "id": "9a2433e4-d141-4917-b162-7757294fdee6",
   "metadata": {},
   "outputs": [
    {
     "name": "stdout",
     "output_type": "stream",
     "text": [
      "Writing unittest_files/test_assert_raises2.py\n"
     ]
    }
   ],
   "source": [
    "%%writefile unittest_files/test_assert_raises2.py\n",
    "import unittest\n",
    "from assert_raises import my_division\n",
    "\n",
    "class MyCase(unittest.TestCase):\n",
    "    def test_case(self):\n",
    "        with self.assertRaises(ValueError):\n",
    "            my_division(10, 0)"
   ]
  },
  {
   "cell_type": "markdown",
   "id": "4a79a667-a52d-47b4-887c-b62251e3121a",
   "metadata": {},
   "source": [
    "And the execution of this test shows that we can achieve our goal using a specific syntax."
   ]
  },
  {
   "cell_type": "code",
   "execution_count": 24,
   "id": "438a11e0-f19a-405b-99a8-b7037755cdb8",
   "metadata": {},
   "outputs": [
    {
     "name": "stderr",
     "output_type": "stream",
     "text": [
      ".\n",
      "----------------------------------------------------------------------\n",
      "Ran 1 test in 0.000s\n",
      "\n",
      "OK\n"
     ]
    }
   ],
   "source": [
    "%%bash\n",
    "cd unittest_files\n",
    "python3 -m unittest test_assert_raises2.py"
   ]
  },
  {
   "cell_type": "markdown",
   "id": "56ae3f1a-f919-47f0-b40e-3b7c60575945",
   "metadata": {},
   "source": [
    "## Run before/after tests (setUp/tearDown)"
   ]
  },
  {
   "cell_type": "markdown",
   "id": "d98b4ac7-b72f-456b-bffd-f8c03c31f703",
   "metadata": {},
   "source": [
    "Sometimes it's useful to run some code before or after each test. To do this, you can add `setUp`, `tearDown` methods to your inheritance of the `TestCase` class. `setUp` is executed before each test described in your program, `tearDown` after."
   ]
  },
  {
   "cell_type": "markdown",
   "id": "a14c65b0-0f69-487b-8f94-732a73cdadf8",
   "metadata": {},
   "source": [
    "### Basic example\n",
    "\n",
    "This subsection just shows how it works. Here is a test where each method just shows that it has been run in the console. And there are `setUp' and `tearDown' which just print a message."
   ]
  },
  {
   "cell_type": "code",
   "execution_count": 5,
   "id": "0e0e434c-ab9c-4989-9fe4-8d510d9e0ee9",
   "metadata": {},
   "outputs": [
    {
     "name": "stdout",
     "output_type": "stream",
     "text": [
      "Overwriting unittest_files/test_setup_teardown.py\n"
     ]
    }
   ],
   "source": [
    "%%writefile unittest_files/test_setup_teardown.py\n",
    "import unittest\n",
    "\n",
    "class UpDownTests(unittest.TestCase):\n",
    "\n",
    "    def setUp(self):\n",
    "        print(\"setUp run\")\n",
    "\n",
    "    def tearDown(self):\n",
    "        print(\"tearDown run\", end = \"\\n\\n\\n\")\n",
    "\n",
    "    def test_1(self):\n",
    "        print(\"test_1 run\")\n",
    "\n",
    "    def test_2(self):\n",
    "        print(\"test_2 run\")"
   ]
  },
  {
   "cell_type": "markdown",
   "id": "dfa6d5f1-c817-43d4-bd32-0d80026dae2a",
   "metadata": {},
   "source": [
    "Here is just running for this test."
   ]
  },
  {
   "cell_type": "code",
   "execution_count": 6,
   "id": "10150af1-6a31-457a-913c-c7a70b6cc1ad",
   "metadata": {},
   "outputs": [
    {
     "name": "stderr",
     "output_type": "stream",
     "text": [
      "..\n",
      "----------------------------------------------------------------------\n",
      "Ran 2 tests in 0.000s\n",
      "\n",
      "OK\n"
     ]
    },
    {
     "name": "stdout",
     "output_type": "stream",
     "text": [
      "setUp run\n",
      "test_1 run\n",
      "tearDown run\n",
      "\n",
      "\n",
      "setUp run\n",
      "test_2 run\n",
      "tearDown run\n",
      "\n",
      "\n"
     ]
    }
   ],
   "source": [
    "%%bash\n",
    "cd unittest_files\n",
    "python3 -m unittest test_setup_teardown.py"
   ]
  }
 ],
 "metadata": {
  "kernelspec": {
   "display_name": "Python 3 (ipykernel)",
   "language": "python",
   "name": "python3"
  },
  "language_info": {
   "codemirror_mode": {
    "name": "ipython",
    "version": 3
   },
   "file_extension": ".py",
   "mimetype": "text/x-python",
   "name": "python",
   "nbconvert_exporter": "python",
   "pygments_lexer": "ipython3",
   "version": "3.10.12"
  }
 },
 "nbformat": 4,
 "nbformat_minor": 5
}
