{
 "cells": [
  {
   "cell_type": "markdown",
   "id": "2e1d523d-3f3a-472e-b41a-579dbbd0ecc0",
   "metadata": {},
   "source": [
    "# Run code before/after"
   ]
  },
  {
   "cell_type": "markdown",
   "id": "8eab828b-37d2-4133-a77d-f068b1e31aab",
   "metadata": {},
   "source": [
    "## Each test (`setUp`/`tearDown`)"
   ]
  },
  {
   "cell_type": "markdown",
   "id": "3192e4a2-9bbd-443b-8154-5eeb4ea4f4bd",
   "metadata": {},
   "source": [
    "Sometimes it's useful to run some code before or after each test. To do this, you can add `setUp`, `tearDown` methods to your inheritance of the `TestCase` class. `setUp` is executed before each test described in your program, `tearDown` after."
   ]
  },
  {
   "cell_type": "markdown",
   "id": "e6821f80-f3f9-4f83-bdd3-dfd53a891bce",
   "metadata": {},
   "source": [
    "This subsection just shows how it works. Here is a test where each method just shows that it has been run in the console. And there are `setUp' and `tearDown' which just print a message."
   ]
  },
  {
   "cell_type": "code",
   "execution_count": 5,
   "id": "d707f890-3a36-4359-8ccd-1c3860a7231e",
   "metadata": {},
   "outputs": [
    {
     "name": "stdout",
     "output_type": "stream",
     "text": [
      "Overwriting unittest_files/test_setup_teardown.py\n"
     ]
    }
   ],
   "source": [
    "%%writefile unittest_files/test_setup_teardown.py\n",
    "import unittest\n",
    "\n",
    "class UpDownTests(unittest.TestCase):\n",
    "\n",
    "    def setUp(self):\n",
    "        print(\"setUp run\")\n",
    "\n",
    "    def tearDown(self):\n",
    "        print(\"tearDown run\", end = \"\\n\\n\\n\")\n",
    "\n",
    "    def test_1(self):\n",
    "        print(\"test_1 run\")\n",
    "\n",
    "    def test_2(self):\n",
    "        print(\"test_2 run\")"
   ]
  },
  {
   "cell_type": "markdown",
   "id": "62266216-5515-4245-b1fe-74bdb4b12d10",
   "metadata": {},
   "source": [
    "Here is just running for this test."
   ]
  },
  {
   "cell_type": "code",
   "execution_count": 6,
   "id": "1ea5cadd-ebea-4bdb-a30d-5b330660c32d",
   "metadata": {},
   "outputs": [
    {
     "name": "stderr",
     "output_type": "stream",
     "text": [
      "..\n",
      "----------------------------------------------------------------------\n",
      "Ran 2 tests in 0.000s\n",
      "\n",
      "OK\n"
     ]
    },
    {
     "name": "stdout",
     "output_type": "stream",
     "text": [
      "setUp run\n",
      "test_1 run\n",
      "tearDown run\n",
      "\n",
      "\n",
      "setUp run\n",
      "test_2 run\n",
      "tearDown run\n",
      "\n",
      "\n"
     ]
    }
   ],
   "source": [
    "%%bash\n",
    "cd unittest_files\n",
    "python3 -m unittest test_setup_teardown.py"
   ]
  }
 ],
 "metadata": {
  "kernelspec": {
   "display_name": "Python 3 (ipykernel)",
   "language": "python",
   "name": "python3"
  },
  "language_info": {
   "codemirror_mode": {
    "name": "ipython",
    "version": 3
   },
   "file_extension": ".py",
   "mimetype": "text/x-python",
   "name": "python",
   "nbconvert_exporter": "python",
   "pygments_lexer": "ipython3",
   "version": "3.10.12"
  }
 },
 "nbformat": 4,
 "nbformat_minor": 5
}
