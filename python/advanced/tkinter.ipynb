{
 "cells": [
  {
   "cell_type": "markdown",
   "id": "2a5d9c6f-53bd-4065-b3c7-59f85d70a6ea",
   "metadata": {},
   "source": [
    "# Tkinter\n",
    "\n",
    "Is library for building interfaces with python."
   ]
  },
  {
   "cell_type": "markdown",
   "id": "8985439b-21ac-4ca2-addb-580c1371da70",
   "metadata": {},
   "source": [
    "## Instalation\n",
    "\n",
    "Surprisingly, installing the tkinter isn't easy.\n",
    "\n",
    "It can't be installed with pip alone. On Ubuntu you will need to use the package manager for this:\n",
    "```bash\n",
    "apt install python-tk\n",
    "```\n",
    "\n",
    "After that, tkinter will be available in the global python environment. But for installation in local pythhon envronment you have to go to the `activate` script of the environment and add there following lines.\n",
    "\n",
    "```bash\n",
    "TK_LIBRARY=/usr/lib/python3.10/lib-tk:/usr/lib/python3.10/site-packages/PIL:/usr/lib\n",
    "TKPATH=/usr/lib/python3.10/lib-tk:/usr/lib/python3.10/site-packages/PIL:/usr/lib \n",
    "TCL_LIBRARY=/usr/lib \n",
    "export TCL_LIBRARY TK_LIBRARY TKPATH\n",
    "```\n",
    "\n",
    "**Note** that you have ot use your python version instead of `python3.10`."
   ]
  },
  {
   "cell_type": "markdown",
   "id": "7342d65b-b2b6-47ad-9674-68145bd042c5",
   "metadata": {},
   "source": [
    "## Examples displaying\n",
    "\n",
    "Obviously, pages associated with tkinter will contain a ton of screenshots, so it would be great to have an opportunity to build them automatically."
   ]
  },
  {
   "cell_type": "markdown",
   "id": "7cd48295-1f80-476c-aa8a-6a2525821ae8",
   "metadata": {},
   "source": [
    "The following code snippet demonstrates how to save a module that captures screenshots of a specified tkinter window."
   ]
  },
  {
   "cell_type": "code",
   "execution_count": 1,
   "id": "1fdfb6d8-86f6-4389-9c45-a5e80f974fae",
   "metadata": {},
   "outputs": [
    {
     "name": "stdout",
     "output_type": "stream",
     "text": [
      "Overwriting tkinter_files/screenshot.py\n"
     ]
    }
   ],
   "source": [
    "%%writefile tkinter_files/screenshot.py\n",
    "import tkinter as tk\n",
    "import pyscreenshot as ImageGrab\n",
    "\n",
    "def take_screenshot(root:tk.Tk):\n",
    "    '''\n",
    "    Taking screeshot of the given\n",
    "    tkinter application. And displays\n",
    "    it using jupyter funciton `display`.\n",
    "\n",
    "    Parameters\n",
    "    ----------\n",
    "    root:tk.Tk\n",
    "        tkinter application instalce;\n",
    "    '''\n",
    "    root.update()\n",
    "    \n",
    "    x = root.winfo_rootx()\n",
    "    y = root.winfo_rooty()\n",
    "    w = x + root.winfo_width()\n",
    "    h = y + root.winfo_height()\n",
    "    \n",
    "    screenshot = ImageGrab.grab(bbox=(x, y, w, h))\n",
    "    \n",
    "    root.destroy()\n",
    "    display(screenshot)"
   ]
  },
  {
   "cell_type": "markdown",
   "id": "83293ad2-fa9c-47ed-b2c3-bc2a5241fa72",
   "metadata": {},
   "source": [
    "Here is an example of how this module can be utilized, allowing you to display the results of your tkinter programs without leaving the Jupyter Notebook environment."
   ]
  },
  {
   "cell_type": "code",
   "execution_count": 2,
   "id": "353ad629-d498-4e69-b3af-7998617117e2",
   "metadata": {},
   "outputs": [
    {
     "data": {
      "image/png": "[encoded data removed]",
      "text/plain": [
       "<PIL.Image.Image image mode=RGBA size=404x467>"
      ]
     },
     "metadata": {},
     "output_type": "display_data"
    }
   ],
   "source": [
    "import tkinter as tk\n",
    "from tkinter import ttk\n",
    "from tkinter import messagebox\n",
    "from tkinter_files.screenshot import take_screenshot\n",
    "\n",
    "class SimpleApp:\n",
    "    def __init__(self, root):\n",
    "        self.root = root\n",
    "        self.root.title(\"Simple Tkinter Interface\")\n",
    "\n",
    "        # Label\n",
    "        self.label = tk.Label(\n",
    "            root, \n",
    "            text=\"Enter some text:\"\n",
    "        )\n",
    "        self.label.pack(pady=10)\n",
    "\n",
    "        # Entry\n",
    "        self.entry = tk.Entry(root, width=30)\n",
    "        self.entry.pack(pady=5)\n",
    "\n",
    "        # Button\n",
    "        self.button = tk.Button(\n",
    "            root, text=\"Add to List\", \n",
    "            command=self.add_to_list\n",
    "        )\n",
    "        self.button.pack(pady=10)\n",
    "\n",
    "        # Listbox\n",
    "        self.listbox = tk.Listbox(root, width=50, height=10)\n",
    "        self.listbox.pack(pady=10)\n",
    "\n",
    "        # Progress Bar\n",
    "        self.progress = ttk.Progressbar(\n",
    "            root, orient=\"horizontal\", \n",
    "            length=300, mode=\"determinate\"\n",
    "        )\n",
    "        self.progress.pack(pady=20)\n",
    "\n",
    "        # Start Progress Bar Button\n",
    "        self.progress_button = tk.Button(\n",
    "            root, text=\"Start Progress\", \n",
    "            command=self.start_progress\n",
    "        )\n",
    "        self.progress_button.pack(pady=10)\n",
    "\n",
    "    def add_to_list(self):\n",
    "        text = self.entry.get()\n",
    "        if text:\n",
    "            self.listbox.insert(tk.END, text)\n",
    "            self.entry.delete(0, tk.END)\n",
    "        else:\n",
    "            messagebox.showwarning(\"Warning\", \"Please enter some text.\")\n",
    "\n",
    "    def start_progress(self):\n",
    "        self.progress[\"value\"] = 0\n",
    "        self.progress[\"maximum\"] = 100\n",
    "        self.update_progress()\n",
    "\n",
    "    def update_progress(self):\n",
    "        if self.progress[\"value\"] < 100:\n",
    "            self.progress[\"value\"] += 10\n",
    "            self.root.after(500, self.update_progress)\n",
    "        else:\n",
    "            messagebox.showinfo(\"Info\", \"Progress complete!\")\n",
    "\n",
    "# Create the main application window\n",
    "root = tk.Tk()\n",
    "app = SimpleApp(root)\n",
    "root.after(200, take_screenshot, root)\n",
    "root.mainloop()"
   ]
  },
  {
   "cell_type": "markdown",
   "id": "1f8f74dd-38d0-4307-9420-5355ca30a17d",
   "metadata": {},
   "source": [
    "## Component overview\n",
    "\n",
    "Here are the main components that can be added to a tkinter application."
   ]
  },
  {
   "cell_type": "code",
   "execution_count": 1,
   "id": "d7f0d0a2-ffcc-4c73-8466-34ba5286289b",
   "metadata": {},
   "outputs": [],
   "source": [
    "import tkinter as tk\n",
    "from tkinter import ttk\n",
    "from tkinter_files.screenshot import take_screenshot"
   ]
  },
  {
   "cell_type": "markdown",
   "id": "8447835d-535c-4783-a61f-37b249c944d8",
   "metadata": {},
   "source": [
    "### Button\n",
    "\n",
    "Simple button. It is important to note that you can set the text written on the button by setting the `text` property."
   ]
  },
  {
   "cell_type": "code",
   "execution_count": 7,
   "id": "3c62c921-4f64-4454-944b-db5f54b1ecaf",
   "metadata": {},
   "outputs": [
    {
     "data": {
      "image/png": "[encoded data removed]",
      "text/plain": [
       "<PIL.Image.Image image mode=RGBA size=143x43 at 0x7B7E16099CF0>"
      ]
     },
     "metadata": {},
     "output_type": "display_data"
    }
   ],
   "source": [
    "root = tk.Tk()\n",
    "button = tk.Button(\n",
    "    root, text=\"Example button\"\n",
    ")\n",
    "\n",
    "button.pack(padx=6, pady=6)\n",
    "\n",
    "root.after(200, take_screenshot, root)\n",
    "root.mainloop()"
   ]
  },
  {
   "cell_type": "markdown",
   "id": "46d5fc3c-5531-41da-b816-61173377895d",
   "metadata": {},
   "source": [
    "### Radiobutton\n",
    "\n",
    "It's an interface that can be activated or deactivated. It is usually associated with a set of other radio buttons, and only one can be activated at a time. This option is perfect when you need to build an interface that allows selecting only one option from a set of options."
   ]
  },
  {
   "cell_type": "code",
   "execution_count": 7,
   "id": "979843f2-1a6d-4387-8f13-512de0b11ff1",
   "metadata": {},
   "outputs": [
    {
     "data": {
      "image/png": "[encoded data removed]",
      "text/plain": [
       "<PIL.Image.Image image mode=RGBA size=124x165 at 0x74B10415AB30>"
      ]
     },
     "metadata": {},
     "output_type": "display_data"
    }
   ],
   "source": [
    "root = tk.Tk()\n",
    "\n",
    "my_var = tk.IntVar()\n",
    "\n",
    "for i in range(5):\n",
    "    radiobutton = ttk.Radiobutton(\n",
    "        root, \n",
    "        text=f\"radio button {i+1}\",\n",
    "        variable=my_var,\n",
    "        value=i\n",
    "    )\n",
    "    radiobutton.pack(padx=6, pady=6)\n",
    "\n",
    "root.after(200, take_screenshot, root)\n",
    "root.mainloop()"
   ]
  },
  {
   "cell_type": "markdown",
   "id": "a0cdac90-6e71-4e56-a997-8a6545777a36",
   "metadata": {},
   "source": [
    "### Scrollbar\n",
    "\n",
    "It's common to use it in combination with some other elements. The following example shows how `tk.Scrollbar` can be used together with `ListBox`. See the [scrolling page](tkinter/scrolling.ipynb) for more details."
   ]
  },
  {
   "cell_type": "code",
   "execution_count": 8,
   "id": "025d7c54-4caa-41e8-a207-141ad6940ff1",
   "metadata": {},
   "outputs": [
    {
     "data": {
      "image/png": "[encoded data removed]",
      "text/plain": [
       "<PIL.Image.Image image mode=RGBA size=177x184 at 0x730D2B434310>"
      ]
     },
     "metadata": {},
     "output_type": "display_data"
    }
   ],
   "source": [
    "root = tk.Tk()\n",
    "scrollbar = tk.Scrollbar(root)\n",
    "scrollbar.pack(side = tk.RIGHT, fill=tk.Y)\n",
    "\n",
    "mylist = tk.Listbox(root, yscrollcommand = scrollbar.set)\n",
    "for line in range(100):\n",
    "   mylist.insert(tk.END, \"This is line number \" + str(line))\n",
    "   \n",
    "mylist.pack(side = tk.LEFT, fill = tk.BOTH )\n",
    "scrollbar.config(command = mylist.yview)\n",
    "\n",
    "root.after(200, take_screenshot, root)\n",
    "root.mainloop()"
   ]
  },
  {
   "cell_type": "markdown",
   "id": "a829876a-749d-43b7-8332-1e661ab1ee5b",
   "metadata": {},
   "source": [
    "### Entry\n",
    "\n",
    "You can add text to an entry using the `insert` method."
   ]
  },
  {
   "cell_type": "code",
   "execution_count": 8,
   "id": "3c904179-0b5e-4622-99a2-cb8a32e44506",
   "metadata": {},
   "outputs": [
    {
     "data": {
      "image/png": "[encoded data removed]",
      "text/plain": [
       "<PIL.Image.Image image mode=RGBA size=178x35 at 0x7B7E16159060>"
      ]
     },
     "metadata": {},
     "output_type": "display_data"
    }
   ],
   "source": [
    "root = tk.Tk()\n",
    "entry = tk.Entry(root, text=\"Initial text\")\n",
    "entry.pack(padx=6, pady=6)\n",
    "\n",
    "entry.insert(0, \"Initial text\")\n",
    "\n",
    "root.after(200, take_screenshot, root)\n",
    "root.mainloop()"
   ]
  },
  {
   "cell_type": "markdown",
   "id": "597a2b48-8696-4540-b6aa-a21a9b674dd7",
   "metadata": {},
   "source": [
    "### Treeview\n",
    "\n",
    "`ttk.Treview` is a class that is used to display data in a hierarchical or tabular form. Watch more details in [spefic page for tree view](tkinter/treeview.ipynb)."
   ]
  },
  {
   "cell_type": "markdown",
   "id": "6621521c-1a56-4255-a788-e2268a063039",
   "metadata": {},
   "source": [
    "The following example demonstrates how to create a table with nested elements for certain records."
   ]
  },
  {
   "cell_type": "code",
   "execution_count": 51,
   "id": "874ac6fa-0a1a-42a5-a4bf-ea02e6a7fd36",
   "metadata": {},
   "outputs": [
    {
     "data": {
      "image/png": "[encoded data removed]",
      "text/plain": [
       "<PIL.Image.Image image mode=RGBA size=602x221 at 0x7CA5642C26B0>"
      ]
     },
     "metadata": {},
     "output_type": "display_data"
    }
   ],
   "source": [
    "root = tk.Tk()\n",
    "\n",
    "# Creating treeview\n",
    "tree = ttk.Treeview(\n",
    "    root, \n",
    "    columns=(\"Column1\", \"Column2\"),\n",
    ")\n",
    "tree.heading(\"Column1\", text=\"Column1\")\n",
    "tree.heading(\"Column2\", text=\"Column2\")\n",
    "tree.pack()\n",
    "\n",
    "# Insert data\n",
    "tree.insert(parent=\"\", index=\"end\", text=\"1\", iid=0, values=(\"John Doe\", \"25\"), open=True)\n",
    "tree.insert(parent=\"\", index=\"end\", text=\"2\", iid=1, values=(\"Jane Smith\", \"30\"), open=True)\n",
    "tree.insert(parent=\"\", index=\"end\", text=\"3\", values=(\"Mike Johnson\", \"35\"), open=True)\n",
    "\n",
    "# Insert child\n",
    "tree.insert(parent=\"0\", index=\"end\", values=(\"Child Item 1\", \"\"))\n",
    "tree.insert(parent=\"1\", index=\"end\", values=(\"Child Item 2\", \"\"))\n",
    "\n",
    "root.after(200, take_screenshot, root)\n",
    "root.mainloop()"
   ]
  },
  {
   "cell_type": "markdown",
   "id": "d589b70a-af0b-4ab6-82c6-70499a324c52",
   "metadata": {},
   "source": [
    "### Pained window\n",
    "\n",
    "A PanedWindow is a container widget that may contain any number of panes, arranged horizontally or vertically."
   ]
  },
  {
   "cell_type": "markdown",
   "id": "cdbe3fee-5967-4297-b3e3-33b8c0768ce2",
   "metadata": {},
   "source": [
    "So in following example you can move border between red and blue area."
   ]
  },
  {
   "cell_type": "code",
   "execution_count": 6,
   "id": "612051cf-6de9-4663-a463-f667014e95d9",
   "metadata": {},
   "outputs": [
    {
     "data": {
      "image/png": "[encoded data removed]",
      "text/plain": [
       "<PIL.Image.Image image mode=RGBA size=100x100 at 0x730D403EEBF0>"
      ]
     },
     "metadata": {},
     "output_type": "display_data"
    }
   ],
   "source": [
    "root = tk.Tk()\n",
    "root.geometry('100x100')\n",
    "\n",
    "# Create a PanedWindow widget\n",
    "paned_window = tk.PanedWindow(root, orient=tk.HORIZONTAL)\n",
    "paned_window.pack(fill=tk.BOTH, expand=True)\n",
    "\n",
    "# Create two resizable panes\n",
    "pane1 = tk.Label(paned_window, text=\"Pane 1\", bg=\"red\", relief=tk.SUNKEN)\n",
    "pane2 = tk.Label(paned_window, text=\"Pane 2\", bg=\"blue\", relief=tk.SUNKEN)\n",
    "\n",
    "# Add the panes to the PanedWindow\n",
    "paned_window.add(pane1)\n",
    "paned_window.add(pane2)\n",
    "\n",
    "root.after(200, take_screenshot, root)\n",
    "root.mainloop()"
   ]
  },
  {
   "cell_type": "markdown",
   "id": "c7d42602-97c2-4061-be56-0fe624be884b",
   "metadata": {},
   "source": [
    "## Binds\n",
    "\n",
    "Here we consider a mechanism that allows actions on user interfaces to bind functions. \n",
    "\n",
    "We need to define a function that takes an argument and pass this function to the bind method of the object whose action the function will call. The function is called with `tkinter.Event` passed as a parameter. Through that object, you can access details of the event that triggered the function."
   ]
  },
  {
   "cell_type": "markdown",
   "id": "2e4bb47e-47d6-41d0-9743-15dc4a6a58fe",
   "metadata": {},
   "source": [
    "The following example uses button and prints the type of parameter passed, as it was clicked on the button it also prints the coordinates of the cursor."
   ]
  },
  {
   "cell_type": "code",
   "execution_count": 10,
   "id": "8cdd023f-fa43-4938-b839-5fa306d2b64f",
   "metadata": {},
   "outputs": [
    {
     "name": "stdout",
     "output_type": "stream",
     "text": [
      "<class 'tkinter.Event'>\n",
      "x=50, y=22\n",
      "<class 'tkinter.Event'>\n",
      "x=11, y=16\n",
      "<class 'tkinter.Event'>\n",
      "x=43, y=16\n"
     ]
    }
   ],
   "source": [
    "import tkinter as tk\n",
    "\n",
    "root = tk.Tk()\n",
    "\n",
    "def button_click(event):\n",
    "    print(type(event))\n",
    "    print(f\"x={event.x}, y={event.y}\")\n",
    "\n",
    "button = tk.Button(root, text=\"Click Me\")\n",
    "button.bind(\"<Button-1>\", button_click)\n",
    "button.pack(padx=6, pady=6)\n",
    "\n",
    "root.mainloop()"
   ]
  },
  {
   "cell_type": "markdown",
   "id": "3828a87b-1f3e-4fb9-bac3-3cf3935d0983",
   "metadata": {},
   "source": [
    "### Common binds\n",
    "\n",
    "This is a list of popular bindings with descriptions."
   ]
  },
  {
   "cell_type": "markdown",
   "id": "8cd3ba38-7f0b-42b3-8919-8de37a889329",
   "metadata": {},
   "source": [
    "| Event          | Description                                                                 |\n",
    "|----------------|-----------------------------------------------------------------------------|\n",
    "| `<Button-1>`   | Left mouse button pressed.                                                  |\n",
    "| `<Button-2>`   | Middle mouse button pressed.                                                |\n",
    "| `<Button-3>`   | Right mouse button pressed.                                                 |\n",
    "| `<Double-Button-1>` | Double-click with the left mouse button.                                |\n",
    "| `<B1-Motion>`  | Mouse is moved with the left button held down.                              |\n",
    "| `<Enter>`      | Mouse enters the widget area.                                               |\n",
    "| `<Leave>`      | Mouse leaves the widget area.                                               |\n",
    "| `<FocusIn>`    | Widget gains keyboard focus.                                                |\n",
    "| `<FocusOut>`   | Widget loses keyboard focus.                                                |\n",
    "| `<Key>`        | Any key is pressed.                                                         |\n",
    "| `<KeyPress>`   | A key is pressed (same as `<Key>`).                                         |\n",
    "| `<KeyRelease>` | A key is released.                                                          |\n",
    "| `<Configure>`  | The widget is resized or moved.                                             |\n",
    "| `<Destroy>`    | The widget is destroyed.                                                    |\n",
    "| `<Motion>`     | Mouse is moved.                                                             |\n",
    "| `<MouseWheel>` | Mouse wheel is moved (usually scroll event).                                |\n",
    "| `<Return>`     | The Enter key is pressed.                                                   |\n",
    "| `<Escape>`     | The Escape key is pressed.                                                  |\n",
    "| `<Control-Char>` | Control key combination (e.g., `<Control-c>` for Ctrl+C).                  |\n",
    "| `<Alt-Char>`   | Alt key combination (e.g., `<Alt-x>` for Alt+X).                            |\n",
    "| `<Shift-Char>` | Shift key combination (e.g., `<Shift-X>` for Shift+X).                      |\n",
    "| `<Fi>`         | Function key Fi pressed. Where i is a number from 1 to 12.  "
   ]
  },
  {
   "cell_type": "markdown",
   "id": "398d9ba5-96af-432c-9418-e63dd2cdc6a1",
   "metadata": {},
   "source": [
    "### Multiple binds\n",
    "\n",
    "If you bind more than one function to the same event - only the last bound function will be executed."
   ]
  },
  {
   "cell_type": "markdown",
   "id": "77dc7ea9-f203-4f7d-a4dc-b1b74fcffb69",
   "metadata": {},
   "source": [
    "The following example shows this - there are two functions linked to the click of the button. The first function prints \"111\", the second \"222\"."
   ]
  },
  {
   "cell_type": "code",
   "execution_count": 16,
   "id": "25caa4cc-d36e-4a4a-a023-7a4eaae191d0",
   "metadata": {},
   "outputs": [
    {
     "name": "stdout",
     "output_type": "stream",
     "text": [
      "222\n",
      "222\n",
      "222\n",
      "222\n"
     ]
    }
   ],
   "source": [
    "import tkinter as tk\n",
    "\n",
    "root = tk.Tk()\n",
    "\n",
    "def button_click_first(event):\n",
    "    print(\"Function one\")\n",
    "\n",
    "\n",
    "button = tk.Button(root, text=\"Click Me\")\n",
    "button.bind(\"<Button-1>\", lambda event: print(\"111\"))\n",
    "button.bind(\"<Button-1>\", lambda event: print(\"222\"))\n",
    "button.pack(padx=6, pady=6)\n",
    "\n",
    "root.mainloop()"
   ]
  },
  {
   "cell_type": "markdown",
   "id": "77fb4418-9228-4fc8-85d9-8d499eb830ba",
   "metadata": {},
   "source": [
    "After a few clicks on the buttons, all we got were \"222\" messages."
   ]
  }
 ],
 "metadata": {
  "kernelspec": {
   "display_name": "Python 3 (ipykernel)",
   "language": "python",
   "name": "python3"
  },
  "language_info": {
   "codemirror_mode": {
    "name": "ipython",
    "version": 3
   },
   "file_extension": ".py",
   "mimetype": "text/x-python",
   "name": "python",
   "nbconvert_exporter": "python",
   "pygments_lexer": "ipython3",
   "version": "3.10.12"
  }
 },
 "nbformat": 4,
 "nbformat_minor": 5
}
