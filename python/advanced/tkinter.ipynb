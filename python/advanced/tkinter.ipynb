{
 "cells": [
  {
   "cell_type": "markdown",
   "id": "2a5d9c6f-53bd-4065-b3c7-59f85d70a6ea",
   "metadata": {},
   "source": [
    "# Tkinter\n",
    "\n",
    "Is library for building interfaces with python."
   ]
  },
  {
   "cell_type": "markdown",
   "id": "8985439b-21ac-4ca2-addb-580c1371da70",
   "metadata": {},
   "source": [
    "## Instalation\n",
    "\n",
    "Surprisingly, installing the tkinter isn't easy.\n",
    "\n",
    "It can't be installed with pip alone. On Ubuntu you will need to use the package manager for this:\n",
    "```bash\n",
    "apt install python-tk\n",
    "```\n",
    "\n",
    "After that, tkinter will be available in the global python environment. But for installation in local pythhon envronment you have to go to the `activate` script of the environment and add there following lines.\n",
    "\n",
    "```bash\n",
    "TK_LIBRARY=/usr/lib/python3.10/lib-tk:/usr/lib/python3.10/site-packages/PIL:/usr/lib\n",
    "TKPATH=/usr/lib/python3.10/lib-tk:/usr/lib/python3.10/site-packages/PIL:/usr/lib \n",
    "TCL_LIBRARY=/usr/lib \n",
    "export TCL_LIBRARY TK_LIBRARY TKPATH\n",
    "```\n",
    "\n",
    "**Note** that you have ot use your python version instead of `python3.10`."
   ]
  },
  {
   "cell_type": "markdown",
   "id": "7342d65b-b2b6-47ad-9674-68145bd042c5",
   "metadata": {},
   "source": [
    "## Examples displaying\n",
    "\n",
    "Obviously, pages associated with tkinter will contain a ton of screenshots, so it would be great to have an opportunity to build them automatically."
   ]
  },
  {
   "cell_type": "markdown",
   "id": "7cd48295-1f80-476c-aa8a-6a2525821ae8",
   "metadata": {},
   "source": [
    "The following code snippet demonstrates how to save a module that captures screenshots of a specified tkinter window."
   ]
  },
  {
   "cell_type": "code",
   "execution_count": 1,
   "id": "1fdfb6d8-86f6-4389-9c45-a5e80f974fae",
   "metadata": {},
   "outputs": [
    {
     "name": "stdout",
     "output_type": "stream",
     "text": [
      "Overwriting tkinter_files/screenshot.py\n"
     ]
    }
   ],
   "source": [
    "%%writefile tkinter_files/screenshot.py\n",
    "import tkinter as tk\n",
    "import pyscreenshot as ImageGrab\n",
    "\n",
    "def take_screenshot(root:tk.Tk):\n",
    "    '''\n",
    "    Taking screeshot of the given\n",
    "    tkinter application. And displays\n",
    "    it using jupyter funciton `display`.\n",
    "\n",
    "    Parameters\n",
    "    ----------\n",
    "    root:tk.Tk\n",
    "        tkinter application instalce;\n",
    "    '''\n",
    "    root.update()\n",
    "    \n",
    "    x = root.winfo_rootx()\n",
    "    y = root.winfo_rooty()\n",
    "    w = x + root.winfo_width()\n",
    "    h = y + root.winfo_height()\n",
    "    \n",
    "    screenshot = ImageGrab.grab(bbox=(x, y, w, h))\n",
    "    \n",
    "    root.destroy()\n",
    "    display(screenshot)"
   ]
  },
  {
   "cell_type": "markdown",
   "id": "83293ad2-fa9c-47ed-b2c3-bc2a5241fa72",
   "metadata": {},
   "source": [
    "Here is an example of how this module can be utilized, allowing you to display the results of your tkinter programs without leaving the Jupyter Notebook environment."
   ]
  },
  {
   "cell_type": "code",
   "execution_count": 2,
   "id": "353ad629-d498-4e69-b3af-7998617117e2",
   "metadata": {},
   "outputs": [
    {
     "data": {
      "image/png": "[encoded data removed]",
      "text/plain": [
       "<PIL.Image.Image image mode=RGBA size=404x467>"
      ]
     },
     "metadata": {},
     "output_type": "display_data"
    }
   ],
   "source": [
    "import tkinter as tk\n",
    "from tkinter import ttk\n",
    "from tkinter import messagebox\n",
    "from tkinter_files.screenshot import take_screenshot\n",
    "\n",
    "class SimpleApp:\n",
    "    def __init__(self, root):\n",
    "        self.root = root\n",
    "        self.root.title(\"Simple Tkinter Interface\")\n",
    "\n",
    "        # Label\n",
    "        self.label = tk.Label(\n",
    "            root, \n",
    "            text=\"Enter some text:\"\n",
    "        )\n",
    "        self.label.pack(pady=10)\n",
    "\n",
    "        # Entry\n",
    "        self.entry = tk.Entry(root, width=30)\n",
    "        self.entry.pack(pady=5)\n",
    "\n",
    "        # Button\n",
    "        self.button = tk.Button(\n",
    "            root, text=\"Add to List\", \n",
    "            command=self.add_to_list\n",
    "        )\n",
    "        self.button.pack(pady=10)\n",
    "\n",
    "        # Listbox\n",
    "        self.listbox = tk.Listbox(root, width=50, height=10)\n",
    "        self.listbox.pack(pady=10)\n",
    "\n",
    "        # Progress Bar\n",
    "        self.progress = ttk.Progressbar(\n",
    "            root, orient=\"horizontal\", \n",
    "            length=300, mode=\"determinate\"\n",
    "        )\n",
    "        self.progress.pack(pady=20)\n",
    "\n",
    "        # Start Progress Bar Button\n",
    "        self.progress_button = tk.Button(\n",
    "            root, text=\"Start Progress\", \n",
    "            command=self.start_progress\n",
    "        )\n",
    "        self.progress_button.pack(pady=10)\n",
    "\n",
    "    def add_to_list(self):\n",
    "        text = self.entry.get()\n",
    "        if text:\n",
    "            self.listbox.insert(tk.END, text)\n",
    "            self.entry.delete(0, tk.END)\n",
    "        else:\n",
    "            messagebox.showwarning(\"Warning\", \"Please enter some text.\")\n",
    "\n",
    "    def start_progress(self):\n",
    "        self.progress[\"value\"] = 0\n",
    "        self.progress[\"maximum\"] = 100\n",
    "        self.update_progress()\n",
    "\n",
    "    def update_progress(self):\n",
    "        if self.progress[\"value\"] < 100:\n",
    "            self.progress[\"value\"] += 10\n",
    "            self.root.after(500, self.update_progress)\n",
    "        else:\n",
    "            messagebox.showinfo(\"Info\", \"Progress complete!\")\n",
    "\n",
    "# Create the main application window\n",
    "root = tk.Tk()\n",
    "app = SimpleApp(root)\n",
    "root.after(200, take_screenshot, root)\n",
    "root.mainloop()"
   ]
  },
  {
   "cell_type": "markdown",
   "id": "6af6311f-b947-4a14-8155-7c08e88ac2c1",
   "metadata": {},
   "source": [
    "## Widgets\n",
    "\n",
    "Is eleements of the interface in tkinter. Check [widgets overview page](tkinter/widgets_overview.ipynb) for details."
   ]
  },
  {
   "cell_type": "markdown",
   "id": "d7492921-554b-4b58-aad6-3b2e307a8b5c",
   "metadata": {},
   "source": [
    "The following example creates a few random elements one by one in a random order."
   ]
  },
  {
   "cell_type": "code",
   "execution_count": 13,
   "id": "5fb5d6ca-0aea-442b-a965-a1505267ac98",
   "metadata": {},
   "outputs": [
    {
     "data": {
      "image/png": "[encoded data removed]",
      "text/plain": [
       "<PIL.Image.Image image mode=RGBA size=166x252 at 0x78373487E320>"
      ]
     },
     "metadata": {},
     "output_type": "display_data"
    }
   ],
   "source": [
    "from random import randint \n",
    "import tkinter as tk\n",
    "from tkinter_files.screenshot import take_screenshot\n",
    "\n",
    "root = tk.Tk()\n",
    "\n",
    "options = {\n",
    "    \"button\" : tk.Button,\n",
    "    \"label\" : tk.Label,\n",
    "    \"checkbutton\" : tk.Checkbutton,\n",
    "    \"radiobutton\" : tk.Radiobutton,\n",
    "    \"entry\" : tk.Entry\n",
    "}\n",
    "\n",
    "for i in range(10):\n",
    "    option = list(options.keys())[randint(0, len(options)-1)]\n",
    "    options[option](root, text=f\"{option} {i}\").pack()\n",
    "\n",
    "root.after(200, take_screenshot, root)\n",
    "root.mainloop()"
   ]
  },
  {
   "cell_type": "markdown",
   "id": "91cfe66c-d035-4005-b171-f72be4b47d9a",
   "metadata": {},
   "source": [
    "## Layout\n",
    "\n",
    "In Tkinter, layout refers to the arrangement and positioning of widgets within a window or a container. Tkinter provides three built-in geometry managers that help in controlling the layout of widgets: pack, grid, and place. Each geometry manager offers different methods for organizing widgets based on specific requirements."
   ]
  },
  {
   "cell_type": "markdown",
   "id": "54738639-6b8a-435f-a738-d92087887634",
   "metadata": {},
   "source": [
    "### Pack\n",
    "\n",
    "In Tkinter, the `pack()` method is a geometry manager provided by the Frame and Tk (root) widgets. It is used to organize and position widgets within a container using a packing algorithm. The `pack()` method arranges widgets in a one-dimensional manner, either horizontally or vertically, filling the available space."
   ]
  },
  {
   "cell_type": "markdown",
   "id": "d347abee-5c1d-4f3e-88cc-a5d19f14f8f5",
   "metadata": {},
   "source": [
    "The following example shows some buttons added to the root widow using the `pack(site=tk.LEFT)` method."
   ]
  },
  {
   "cell_type": "code",
   "execution_count": 6,
   "id": "6bb02edd-ed5a-49a9-8b98-8ae3725630d9",
   "metadata": {},
   "outputs": [
    {
     "data": {
      "image/png": "[encoded data removed]",
      "text/plain": [
       "<PIL.Image.Image image mode=RGBA size=780x31 at 0x7E23A1A9EDA0>"
      ]
     },
     "metadata": {},
     "output_type": "display_data"
    }
   ],
   "source": [
    "import tkinter as tk\n",
    "from tkinter_files.screenshot import take_screenshot\n",
    "\n",
    "root = tk.Tk()\n",
    "\n",
    "for i in range(10):\n",
    "    tk.Button(text=f\"button{i}\").pack(side=tk.LEFT)\n",
    "\n",
    "root.after(200, take_screenshot, root)\n",
    "root.mainloop()"
   ]
  },
  {
   "cell_type": "markdown",
   "id": "c7d42602-97c2-4061-be56-0fe624be884b",
   "metadata": {},
   "source": [
    "## Binds\n",
    "\n",
    "Here we consider a mechanism that allows actions on user interfaces to bind functions. \n",
    "\n",
    "We need to define a function that takes an argument and pass this function to the bind method of the object whose action the function will call. The function is called with `tkinter.Event` passed as a parameter. Through that object, you can access details of the event that triggered the function."
   ]
  },
  {
   "cell_type": "markdown",
   "id": "2e4bb47e-47d6-41d0-9743-15dc4a6a58fe",
   "metadata": {},
   "source": [
    "The following example uses button and prints the type of parameter passed, as it was clicked on the button it also prints the coordinates of the cursor."
   ]
  },
  {
   "cell_type": "code",
   "execution_count": 10,
   "id": "8cdd023f-fa43-4938-b839-5fa306d2b64f",
   "metadata": {},
   "outputs": [
    {
     "name": "stdout",
     "output_type": "stream",
     "text": [
      "<class 'tkinter.Event'>\n",
      "x=50, y=22\n",
      "<class 'tkinter.Event'>\n",
      "x=11, y=16\n",
      "<class 'tkinter.Event'>\n",
      "x=43, y=16\n"
     ]
    }
   ],
   "source": [
    "import tkinter as tk\n",
    "\n",
    "root = tk.Tk()\n",
    "\n",
    "def button_click(event):\n",
    "    print(type(event))\n",
    "    print(f\"x={event.x}, y={event.y}\")\n",
    "\n",
    "button = tk.Button(root, text=\"Click Me\")\n",
    "button.bind(\"<Button-1>\", button_click)\n",
    "button.pack(padx=6, pady=6)\n",
    "\n",
    "root.mainloop()"
   ]
  },
  {
   "cell_type": "markdown",
   "id": "3828a87b-1f3e-4fb9-bac3-3cf3935d0983",
   "metadata": {},
   "source": [
    "### Common binds\n",
    "\n",
    "This is a list of popular bindings with descriptions."
   ]
  },
  {
   "cell_type": "markdown",
   "id": "8cd3ba38-7f0b-42b3-8919-8de37a889329",
   "metadata": {},
   "source": [
    "| Event          | Description                                                                 |\n",
    "|----------------|-----------------------------------------------------------------------------|\n",
    "| `<Button-1>`   | Left mouse button pressed.                                                  |\n",
    "| `<Button-2>`   | Middle mouse button pressed.                                                |\n",
    "| `<Button-3>`   | Right mouse button pressed.                                                 |\n",
    "| `<Double-Button-1>` | Double-click with the left mouse button.                                |\n",
    "| `<B1-Motion>`  | Mouse is moved with the left button held down.                              |\n",
    "| `<Enter>`      | Mouse enters the widget area.                                               |\n",
    "| `<Leave>`      | Mouse leaves the widget area.                                               |\n",
    "| `<FocusIn>`    | Widget gains keyboard focus.                                                |\n",
    "| `<FocusOut>`   | Widget loses keyboard focus.                                                |\n",
    "| `<Key>`        | Any key is pressed.                                                         |\n",
    "| `<KeyPress>`   | A key is pressed (same as `<Key>`).                                         |\n",
    "| `<KeyRelease>` | A key is released.                                                          |\n",
    "| `<Configure>`  | The widget is resized or moved.                                             |\n",
    "| `<Destroy>`    | The widget is destroyed.                                                    |\n",
    "| `<Motion>`     | Mouse is moved.                                                             |\n",
    "| `<MouseWheel>` | Mouse wheel is moved (usually scroll event).                                |\n",
    "| `<Return>`     | The Enter key is pressed.                                                   |\n",
    "| `<Escape>`     | The Escape key is pressed.                                                  |\n",
    "| `<Control-Char>` | Control key combination (e.g., `<Control-c>` for Ctrl+C).                  |\n",
    "| `<Alt-Char>`   | Alt key combination (e.g., `<Alt-x>` for Alt+X).                            |\n",
    "| `<Shift-Char>` | Shift key combination (e.g., `<Shift-X>` for Shift+X).                      |\n",
    "| `<Fi>`         | Function key Fi pressed. Where i is a number from 1 to 12.  "
   ]
  },
  {
   "cell_type": "markdown",
   "id": "398d9ba5-96af-432c-9418-e63dd2cdc6a1",
   "metadata": {},
   "source": [
    "### Multiple binds\n",
    "\n",
    "If you bind more than one function to the same event - only the last bound function will be executed."
   ]
  },
  {
   "cell_type": "markdown",
   "id": "77dc7ea9-f203-4f7d-a4dc-b1b74fcffb69",
   "metadata": {},
   "source": [
    "The following example shows this - there are two functions linked to the click of the button. The first function prints \"111\", the second \"222\"."
   ]
  },
  {
   "cell_type": "code",
   "execution_count": 16,
   "id": "25caa4cc-d36e-4a4a-a023-7a4eaae191d0",
   "metadata": {},
   "outputs": [
    {
     "name": "stdout",
     "output_type": "stream",
     "text": [
      "222\n",
      "222\n",
      "222\n",
      "222\n"
     ]
    }
   ],
   "source": [
    "import tkinter as tk\n",
    "\n",
    "root = tk.Tk()\n",
    "\n",
    "def button_click_first(event):\n",
    "    print(\"Function one\")\n",
    "\n",
    "\n",
    "button = tk.Button(root, text=\"Click Me\")\n",
    "button.bind(\"<Button-1>\", lambda event: print(\"111\"))\n",
    "button.bind(\"<Button-1>\", lambda event: print(\"222\"))\n",
    "button.pack(padx=6, pady=6)\n",
    "\n",
    "root.mainloop()"
   ]
  },
  {
   "cell_type": "markdown",
   "id": "77fb4418-9228-4fc8-85d9-8d499eb830ba",
   "metadata": {},
   "source": [
    "After a few clicks on the buttons, all we got were \"222\" messages."
   ]
  }
 ],
 "metadata": {
  "kernelspec": {
   "display_name": "Python 3 (ipykernel)",
   "language": "python",
   "name": "python3"
  },
  "language_info": {
   "codemirror_mode": {
    "name": "ipython",
    "version": 3
   },
   "file_extension": ".py",
   "mimetype": "text/x-python",
   "name": "python",
   "nbconvert_exporter": "python",
   "pygments_lexer": "ipython3",
   "version": "3.10.12"
  }
 },
 "nbformat": 4,
 "nbformat_minor": 5
}
