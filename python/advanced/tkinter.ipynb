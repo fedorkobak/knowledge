{
 "cells": [
  {
   "cell_type": "markdown",
   "id": "2a5d9c6f-53bd-4065-b3c7-59f85d70a6ea",
   "metadata": {},
   "source": [
    "# Tkinter\n",
    "\n",
    "Is library for building interfaces with python."
   ]
  },
  {
   "cell_type": "markdown",
   "id": "7342d65b-b2b6-47ad-9674-68145bd042c5",
   "metadata": {},
   "source": [
    "## Examples displaying\n",
    "\n",
    "Obviously, pages associated with tkinter will contain a ton of screenshots, so it would be great to have an opportunity to build them automatically."
   ]
  },
  {
   "cell_type": "markdown",
   "id": "7cd48295-1f80-476c-aa8a-6a2525821ae8",
   "metadata": {},
   "source": [
    "The following code snippet demonstrates how to save a module that captures screenshots of a specified tkinter window."
   ]
  },
  {
   "cell_type": "code",
   "execution_count": 1,
   "id": "1fdfb6d8-86f6-4389-9c45-a5e80f974fae",
   "metadata": {},
   "outputs": [
    {
     "name": "stdout",
     "output_type": "stream",
     "text": [
      "Overwriting tkinter_files/screenshot.py\n"
     ]
    }
   ],
   "source": [
    "%%writefile tkinter_files/screenshot.py\n",
    "import tkinter as tk\n",
    "import pyscreenshot as ImageGrab\n",
    "\n",
    "def take_screenshot(root:tk.Tk):\n",
    "    '''\n",
    "    Taking screeshot of the given\n",
    "    tkinter application. And displays\n",
    "    it using jupyter funciton `display`.\n",
    "\n",
    "    Parameters\n",
    "    ----------\n",
    "    root:tk.Tk\n",
    "        tkinter application instalce;\n",
    "    '''\n",
    "    root.update()\n",
    "    \n",
    "    x = root.winfo_rootx()\n",
    "    y = root.winfo_rooty()\n",
    "    w = x + root.winfo_width()\n",
    "    h = y + root.winfo_height()\n",
    "    \n",
    "    screenshot = ImageGrab.grab(bbox=(x, y, w, h))\n",
    "    \n",
    "    root.destroy()\n",
    "    display(screenshot)"
   ]
  },
  {
   "cell_type": "markdown",
   "id": "83293ad2-fa9c-47ed-b2c3-bc2a5241fa72",
   "metadata": {},
   "source": [
    "Here is an example of how this module can be utilized, allowing you to display the results of your tkinter programs without leaving the Jupyter Notebook environment."
   ]
  },
  {
   "cell_type": "code",
   "execution_count": 4,
   "id": "353ad629-d498-4e69-b3af-7998617117e2",
   "metadata": {},
   "outputs": [
    {
     "data": {
      "image/png": "[encoded data removed]",
      "text/plain": [
       "<PIL.Image.Image image mode=RGBA size=404x439 at 0x7CA5670A6500>"
      ]
     },
     "metadata": {},
     "output_type": "display_data"
    }
   ],
   "source": [
    "import tkinter as tk\n",
    "from tkinter import ttk\n",
    "from tkinter import messagebox\n",
    "from tkinter_files.screenshot import take_screenshot\n",
    "\n",
    "class SimpleApp:\n",
    "    def __init__(self, root):\n",
    "        self.root = root\n",
    "        self.root.title(\"Simple Tkinter Interface\")\n",
    "\n",
    "        # Label\n",
    "        self.label = tk.Label(\n",
    "            root, \n",
    "            text=\"Enter some text:\"\n",
    "        )\n",
    "        self.label.pack(pady=10)\n",
    "\n",
    "        # Entry\n",
    "        self.entry = tk.Entry(root, width=30)\n",
    "        self.entry.pack(pady=5)\n",
    "\n",
    "        # Button\n",
    "        self.button = tk.Button(\n",
    "            root, text=\"Add to List\", \n",
    "            command=self.add_to_list\n",
    "        )\n",
    "        self.button.pack(pady=10)\n",
    "\n",
    "        # Listbox\n",
    "        self.listbox = tk.Listbox(root, width=50, height=10)\n",
    "        self.listbox.pack(pady=10)\n",
    "\n",
    "        # Progress Bar\n",
    "        self.progress = ttk.Progressbar(\n",
    "            root, orient=\"horizontal\", \n",
    "            length=300, mode=\"determinate\"\n",
    "        )\n",
    "        self.progress.pack(pady=20)\n",
    "\n",
    "        # Start Progress Bar Button\n",
    "        self.progress_button = tk.Button(\n",
    "            root, text=\"Start Progress\", \n",
    "            command=self.start_progress\n",
    "        )\n",
    "        self.progress_button.pack(pady=10)\n",
    "\n",
    "    def add_to_list(self):\n",
    "        text = self.entry.get()\n",
    "        if text:\n",
    "            self.listbox.insert(tk.END, text)\n",
    "            self.entry.delete(0, tk.END)\n",
    "        else:\n",
    "            messagebox.showwarning(\"Warning\", \"Please enter some text.\")\n",
    "\n",
    "    def start_progress(self):\n",
    "        self.progress[\"value\"] = 0\n",
    "        self.progress[\"maximum\"] = 100\n",
    "        self.update_progress()\n",
    "\n",
    "    def update_progress(self):\n",
    "        if self.progress[\"value\"] < 100:\n",
    "            self.progress[\"value\"] += 10\n",
    "            self.root.after(500, self.update_progress)\n",
    "        else:\n",
    "            messagebox.showinfo(\"Info\", \"Progress complete!\")\n",
    "\n",
    "# Create the main application window\n",
    "root = tk.Tk()\n",
    "app = SimpleApp(root)\n",
    "root.after(200, take_screenshot, root)\n",
    "root.mainloop()"
   ]
  },
  {
   "cell_type": "markdown",
   "id": "1f8f74dd-38d0-4307-9420-5355ca30a17d",
   "metadata": {},
   "source": [
    "## Component overview\n",
    "\n",
    "Here are the main components that can be added to a tkinter application."
   ]
  },
  {
   "cell_type": "code",
   "execution_count": 6,
   "id": "d7f0d0a2-ffcc-4c73-8466-34ba5286289b",
   "metadata": {},
   "outputs": [],
   "source": [
    "import tkinter as tk\n",
    "from tkinter import ttk\n",
    "from tkinter_files.screenshot import take_screenshot"
   ]
  },
  {
   "cell_type": "markdown",
   "id": "8447835d-535c-4783-a61f-37b249c944d8",
   "metadata": {},
   "source": [
    "### Button"
   ]
  },
  {
   "cell_type": "code",
   "execution_count": 14,
   "id": "3c62c921-4f64-4454-944b-db5f54b1ecaf",
   "metadata": {},
   "outputs": [
    {
     "data": {
      "image/png": "[encoded data removed]",
      "text/plain": [
       "<PIL.Image.Image image mode=RGBA size=131x31 at 0x7CA56422E200>"
      ]
     },
     "metadata": {},
     "output_type": "display_data"
    }
   ],
   "source": [
    "root = tk.Tk()\n",
    "button = tk.Button(\n",
    "    root, text=\"Example button\"\n",
    ")\n",
    "button.pack()\n",
    "root.after(200, take_screenshot, root)\n",
    "root.mainloop()"
   ]
  },
  {
   "cell_type": "markdown",
   "id": "597a2b48-8696-4540-b6aa-a21a9b674dd7",
   "metadata": {},
   "source": [
    "### Treeview\n",
    "\n",
    "`ttk.Treview` is a class that is used to display data in a hierarchical or tabular form."
   ]
  },
  {
   "cell_type": "markdown",
   "id": "6621521c-1a56-4255-a788-e2268a063039",
   "metadata": {},
   "source": [
    "The following example demonstrates how to create a table with nested elements for certain records."
   ]
  },
  {
   "cell_type": "code",
   "execution_count": 51,
   "id": "874ac6fa-0a1a-42a5-a4bf-ea02e6a7fd36",
   "metadata": {},
   "outputs": [
    {
     "data": {
      "image/png": "[encoded data removed]",
      "text/plain": [
       "<PIL.Image.Image image mode=RGBA size=602x221 at 0x7CA5642C26B0>"
      ]
     },
     "metadata": {},
     "output_type": "display_data"
    }
   ],
   "source": [
    "root = tk.Tk()\n",
    "\n",
    "# Creating treeview\n",
    "tree = ttk.Treeview(\n",
    "    root, \n",
    "    columns=(\"Column1\", \"Column2\"),\n",
    ")\n",
    "tree.heading(\"Column1\", text=\"Column1\")\n",
    "tree.heading(\"Column2\", text=\"Column2\")\n",
    "tree.pack()\n",
    "\n",
    "# Insert data\n",
    "tree.insert(parent=\"\", index=\"end\", text=\"1\", iid=0, values=(\"John Doe\", \"25\"), open=True)\n",
    "tree.insert(parent=\"\", index=\"end\", text=\"2\", iid=1, values=(\"Jane Smith\", \"30\"), open=True)\n",
    "tree.insert(parent=\"\", index=\"end\", text=\"3\", values=(\"Mike Johnson\", \"35\"), open=True)\n",
    "\n",
    "# Insert child\n",
    "tree.insert(parent=\"0\", index=\"end\", values=(\"Child Item 1\", \"\"))\n",
    "tree.insert(parent=\"1\", index=\"end\", values=(\"Child Item 2\", \"\"))\n",
    "\n",
    "root.after(200, take_screenshot, root)\n",
    "root.mainloop()"
   ]
  }
 ],
 "metadata": {
  "kernelspec": {
   "display_name": "Python 3 (ipykernel)",
   "language": "python",
   "name": "python3"
  },
  "language_info": {
   "codemirror_mode": {
    "name": "ipython",
    "version": 3
   },
   "file_extension": ".py",
   "mimetype": "text/x-python",
   "name": "python",
   "nbconvert_exporter": "python",
   "pygments_lexer": "ipython3",
   "version": "3.10.12"
  }
 },
 "nbformat": 4,
 "nbformat_minor": 5
}
