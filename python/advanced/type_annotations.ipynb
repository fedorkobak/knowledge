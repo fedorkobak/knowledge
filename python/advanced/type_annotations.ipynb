{
 "cells": [
  {
   "cell_type": "markdown",
   "metadata": {},
   "source": [
    "# Type annotations\n",
    "\n",
    "Python has an option to annotate types, which is useful during relatively serious development.\n",
    "\n",
    "Check resources:\n",
    "\n",
    "- [Python type checking](https://realpython.com/python-type-checking/#type-systems) article on real python.\n",
    "- [PEP 484](https://peps.python.org/pep-0484/) that introduce type hints."
   ]
  },
  {
   "cell_type": "markdown",
   "metadata": {},
   "source": [
    "## `__annotations__` attribute\n",
    "\n",
    "The `__annotations__` attribute allows you to retrieve annotated types for a Python function. It returns a dictionary with keys corresponding to the names of the arguments and values corresponding to the types of the arguments. The return type of the function can be accessed using the key return."
   ]
  },
  {
   "cell_type": "code",
   "execution_count": 1,
   "metadata": {},
   "outputs": [
    {
     "data": {
      "text/plain": [
       "{'arg1': float, 'arg2': bool, 'return': int}"
      ]
     },
     "execution_count": 1,
     "metadata": {},
     "output_type": "execute_result"
    }
   ],
   "source": [
    "def some_function(arg1: float, arg2: bool) -> int:\n",
    "    if arg1 > 10 and arg2:\n",
    "        return 20\n",
    "\n",
    "some_function.__annotations__"
   ]
  },
  {
   "cell_type": "markdown",
   "metadata": {},
   "source": [
    "## Mypy type checker\n",
    "\n",
    "Tool that allows you to check if the programme respects the specified type hints."
   ]
  },
  {
   "cell_type": "markdown",
   "metadata": {},
   "source": [
    "So in the following example a function is defined that takes two arguments and they are annotated as `int`. And just in the next line funciton call just ignores annotations."
   ]
  },
  {
   "cell_type": "code",
   "execution_count": 8,
   "metadata": {},
   "outputs": [
    {
     "name": "stdout",
     "output_type": "stream",
     "text": [
      "Overwriting type_annotations_files/mypy_example.py\n"
     ]
    }
   ],
   "source": [
    "%%writefile type_annotations_files/mypy_example.py\n",
    "def bin_sum(a: int, b: int):\n",
    "    return a+b\n",
    "\n",
    "print(bin_sum(\"a\", \"b\"))"
   ]
  },
  {
   "cell_type": "markdown",
   "metadata": {},
   "source": [
    "Just execution of the program won't cause any problems."
   ]
  },
  {
   "cell_type": "code",
   "execution_count": 9,
   "metadata": {},
   "outputs": [
    {
     "name": "stdout",
     "output_type": "stream",
     "text": [
      "ab\n"
     ]
    }
   ],
   "source": [
    "!python3 type_annotations_files/mypy_example.py"
   ]
  },
  {
   "cell_type": "markdown",
   "metadata": {},
   "source": [
    "Which strings do not meet the type annotation."
   ]
  },
  {
   "cell_type": "code",
   "execution_count": 10,
   "metadata": {},
   "outputs": [
    {
     "name": "stdout",
     "output_type": "stream",
     "text": [
      "type_annotations_files/mypy_example.py:4: \u001b[1m\u001b[31merror:\u001b[m Argument 1 to \u001b[m\u001b[1m\"bin_sum\"\u001b[m has incompatible type \u001b[m\u001b[1m\"str\"\u001b[m; expected \u001b[m\u001b[1m\"int\"\u001b[m  \u001b[m\u001b[33m[arg-type]\u001b[m\n",
      "type_annotations_files/mypy_example.py:4: \u001b[1m\u001b[31merror:\u001b[m Argument 2 to \u001b[m\u001b[1m\"bin_sum\"\u001b[m has incompatible type \u001b[m\u001b[1m\"str\"\u001b[m; expected \u001b[m\u001b[1m\"int\"\u001b[m  \u001b[m\u001b[33m[arg-type]\u001b[m\n",
      "\u001b[1m\u001b[31mFound 2 errors in 1 file (checked 1 source file)\u001b[m\n"
     ]
    }
   ],
   "source": [
    "!python3 -m mypy type_annotations_files/mypy_example.py"
   ]
  },
  {
   "cell_type": "markdown",
   "metadata": {},
   "source": [
    "### Get mypy types\n",
    "\n",
    "`Mypy` has it's own type detection system, so sometimes it's useful to know how to check what type it's detecting. You can do this using the `reveal_type` and `reveal_locals` functions.\n",
    "\n",
    "**Note** You don't need to import them or something `mypy` will understand them by itself."
   ]
  },
  {
   "cell_type": "markdown",
   "metadata": {},
   "source": [
    "Here is an example of the `reveal_type` function, which allows you to understand how mypy interprets the type of a given name."
   ]
  },
  {
   "cell_type": "code",
   "execution_count": 8,
   "metadata": {},
   "outputs": [
    {
     "name": "stdout",
     "output_type": "stream",
     "text": [
      "Writing type_annotations_files/mypy_reveal_type.py\n"
     ]
    }
   ],
   "source": [
    "%%writefile type_annotations_files/mypy_reveal_type.py\n",
    "import numpy as np\n",
    "reveal_type(np.pi)"
   ]
  },
  {
   "cell_type": "code",
   "execution_count": 10,
   "metadata": {},
   "outputs": [
    {
     "name": "stdout",
     "output_type": "stream",
     "text": [
      "type_annotations_files/mypy_reveal_type.py:2: \u001b[34mnote:\u001b[m Revealed type is \u001b[m\u001b[1m\"builtins.float\"\u001b[m\u001b[m\n",
      "\u001b[1m\u001b[32mSuccess: no issues found in 1 source file\u001b[m\n"
     ]
    }
   ],
   "source": [
    "!python3 -m mypy type_annotations_files/mypy_reveal_type.py"
   ]
  },
  {
   "cell_type": "markdown",
   "metadata": {},
   "source": [
    "And an example of `reveal_locals`, which prints out information about all the variables in the namespace."
   ]
  },
  {
   "cell_type": "code",
   "execution_count": 11,
   "metadata": {},
   "outputs": [
    {
     "name": "stdout",
     "output_type": "stream",
     "text": [
      "Writing type_annotations_files/mypy_reveal_locals.py\n"
     ]
    }
   ],
   "source": [
    "%%writefile type_annotations_files/mypy_reveal_locals.py\n",
    "my_float = 10.\n",
    "my_int = 10\n",
    "\n",
    "reveal_locals()"
   ]
  },
  {
   "cell_type": "code",
   "execution_count": 12,
   "metadata": {},
   "outputs": [
    {
     "name": "stdout",
     "output_type": "stream",
     "text": [
      "type_annotations_files/mypy_reveal_locals.py:4: \u001b[34mnote:\u001b[m Revealed local types are:\u001b[m\n",
      "type_annotations_files/mypy_reveal_locals.py:4: \u001b[34mnote:\u001b[m     my_float: builtins.float\u001b[m\n",
      "type_annotations_files/mypy_reveal_locals.py:4: \u001b[34mnote:\u001b[m     my_int: builtins.int\u001b[m\n",
      "\u001b[1m\u001b[32mSuccess: no issues found in 1 source file\u001b[m\n"
     ]
    }
   ],
   "source": [
    "!python3 -m mypy type_annotations_files/mypy_reveal_locals.py"
   ]
  }
 ],
 "metadata": {
  "kernelspec": {
   "display_name": "Python 3",
   "language": "python",
   "name": "python3"
  },
  "language_info": {
   "codemirror_mode": {
    "name": "ipython",
    "version": 3
   },
   "file_extension": ".py",
   "mimetype": "text/x-python",
   "name": "python",
   "nbconvert_exporter": "python",
   "pygments_lexer": "ipython3",
   "version": "3.10.12"
  }
 },
 "nbformat": 4,
 "nbformat_minor": 2
}
