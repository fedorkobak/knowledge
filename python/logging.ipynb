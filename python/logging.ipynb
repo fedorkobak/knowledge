{
 "cells": [
  {
   "cell_type": "markdown",
   "id": "9567a93a-4b2b-47d3-8089-4311a9f45ebf",
   "metadata": {},
   "source": [
    "# Logging"
   ]
  },
  {
   "cell_type": "markdown",
   "id": "5b5c2bd2-43e2-4b7f-8630-acf58d146ae8",
   "metadata": {},
   "source": [
    "# Sources\n",
    "\n",
    "- <a href=\"https://habr.com/ru/companies/wunderfund/articles/683880/\">Logging in python: developer guide (rus)</a>;"
   ]
  },
  {
   "cell_type": "code",
   "execution_count": 1,
   "id": "7e798374-75fd-4618-9e89-2bca483a9c7b",
   "metadata": {},
   "outputs": [],
   "source": [
    "import os\n",
    "import sys\n",
    "import logging\n",
    "import random"
   ]
  },
  {
   "cell_type": "markdown",
   "id": "c4b30291-c16a-45db-a787-f33083117784",
   "metadata": {},
   "source": [
    "# **Basics**"
   ]
  },
  {
   "cell_type": "markdown",
   "id": "50e27313-c185-4069-9fe6-0b83d989da3f",
   "metadata": {},
   "source": [
    "## Error types"
   ]
  },
  {
   "cell_type": "markdown",
   "id": "32cb284b-d53d-4d74-8e04-5767f6520703",
   "metadata": {},
   "source": [
    "There are five levels of logging:\n",
    "\n",
    "- Debug;\n",
    "- Info;\n",
    "- Warning;\n",
    "- Error;\n",
    "- Critical.\n",
    "\n",
    "You can call them by using the relevant functions:"
   ]
  },
  {
   "cell_type": "code",
   "execution_count": 2,
   "id": "c08e21da-99ef-47c5-9612-ce94493fff9a",
   "metadata": {},
   "outputs": [
    {
     "name": "stderr",
     "output_type": "stream",
     "text": [
      "WARNING:root:A WARNING\n",
      "ERROR:root:An ERROR\n",
      "CRITICAL:root:A message of CRITICAL severity\n"
     ]
    }
   ],
   "source": [
    "logging.debug(\"A DEBUG Message\")\n",
    "logging.info(\"An INFO\")\n",
    "logging.warning(\"A WARNING\")\n",
    "logging.error(\"An ERROR\")\n",
    "logging.critical(\"A message of CRITICAL severity\")"
   ]
  },
  {
   "cell_type": "markdown",
   "id": "6432a298-efac-4ec6-b440-5985a3e07e01",
   "metadata": {},
   "source": [
    "In previous examle `debug` and `info` errors wasn't printed. It happened becaulse default value for `logging.level` setted to `logging.WARNING`, therefore only those messages above `WARNING` will be displayed. "
   ]
  },
  {
   "cell_type": "markdown",
   "id": "77f0d607-042c-4438-b54d-f8d7fadc62aa",
   "metadata": {},
   "source": [
    "## `basicConfig`"
   ]
  },
  {
   "cell_type": "code",
   "execution_count": 2,
   "id": "c893c6e2-1740-4b85-982b-4530ab64f3a8",
   "metadata": {},
   "outputs": [
    {
     "name": "stderr",
     "output_type": "stream",
     "text": [
      "INFO:root:An INFO\n",
      "WARNING:root:A WARNING\n",
      "ERROR:root:An ERROR\n",
      "CRITICAL:root:A message of CRITICAL severity\n"
     ]
    }
   ],
   "source": [
    "logging.basicConfig(level=logging.INFO)\n",
    "\n",
    "logging.debug(\"A DEBUG Message\")\n",
    "logging.info(\"An INFO\")\n",
    "logging.warning(\"A WARNING\")\n",
    "logging.error(\"An ERROR\")\n",
    "logging.critical(\"A message of CRITICAL severity\")"
   ]
  },
  {
   "cell_type": "markdown",
   "id": "e7bda535-aa9c-45e0-8075-448a7530d724",
   "metadata": {},
   "source": [
    "## `getLogger` - creating loggers"
   ]
  },
  {
   "cell_type": "markdown",
   "id": "cb30bb17-0f73-448a-a33b-c8176043b2ba",
   "metadata": {},
   "source": [
    "For some reason you can't set basic config twice with `logging` lib. I showing it in the following example:\n",
    "\n",
    "- Set `level=logging.DEBUG` and, as expected, got every type of message;\n",
    "- Set `level=logging.ERROR` and, but any way got every type of message."
   ]
  },
  {
   "cell_type": "code",
   "execution_count": 6,
   "id": "838bc8ab-1ce0-4b84-8c53-c59057bbc34a",
   "metadata": {},
   "outputs": [
    {
     "name": "stderr",
     "output_type": "stream",
     "text": [
      "=====logging run1=====\n",
      "DEBUG:root:A DEBUG Message\n",
      "INFO:root:An INFO\n",
      "WARNING:root:A WARNING\n",
      "ERROR:root:An ERROR\n",
      "CRITICAL:root:A message of CRITICAL severity\n",
      "=====logging run2=====\n",
      "DEBUG:root:A DEBUG Message\n",
      "INFO:root:An INFO\n",
      "WARNING:root:A WARNING\n",
      "ERROR:root:An ERROR\n",
      "CRITICAL:root:A message of CRITICAL severity\n"
     ]
    }
   ],
   "source": [
    "print(\"=====logging run1=====\", file=sys.stderr)\n",
    "logging.basicConfig(level=logging.DEBUG)\n",
    "logging.debug(\"A DEBUG Message\")\n",
    "logging.info(\"An INFO\")\n",
    "logging.warning(\"A WARNING\")\n",
    "logging.error(\"An ERROR\")\n",
    "logging.critical(\"A message of CRITICAL severity\")\n",
    "\n",
    "print(\"=====logging run2=====\", file=sys.stderr)\n",
    "logging.basicConfig(level=logging.ERROR)\n",
    "logging.debug(\"A DEBUG Message\")\n",
    "logging.info(\"An INFO\")\n",
    "logging.warning(\"A WARNING\")\n",
    "logging.error(\"An ERROR\")\n",
    "logging.critical(\"A message of CRITICAL severity\")"
   ]
  },
  {
   "cell_type": "markdown",
   "id": "f06b204e-dee0-43c8-aa90-fd29fe53622d",
   "metadata": {},
   "source": [
    "The solution for different situations is to create different loggers with different options. In the following example, I create different loggers with different `level` options, so that `logger2` successfully sets the `ERROR` option."
   ]
  },
  {
   "cell_type": "code",
   "execution_count": 11,
   "id": "247b7c3e-4786-453d-9cbf-53e9ec802a7c",
   "metadata": {},
   "outputs": [
    {
     "name": "stderr",
     "output_type": "stream",
     "text": [
      "=====logger1=====\n",
      "INFO:logger1:An INFO\n",
      "WARNING:logger1:A WARNING\n",
      "ERROR:logger1:An ERROR\n",
      "CRITICAL:logger1:A message of CRITICAL severity\n",
      "=====logger2=====\n",
      "ERROR:logger2:An ERROR\n",
      "CRITICAL:logger2:A message of CRITICAL severity\n"
     ]
    }
   ],
   "source": [
    "logger1 = logging.getLogger(\"logger1\")\n",
    "logger1.setLevel(logging.INFO)\n",
    "\n",
    "print(\"=====logger1=====\", file=sys.stderr)\n",
    "logger1.debug(\"A DEBUG Message\")\n",
    "logger1.info(\"An INFO\")\n",
    "logger1.warning(\"A WARNING\")\n",
    "logger1.error(\"An ERROR\")\n",
    "logger1.critical(\"A message of CRITICAL severity\")\n",
    "\n",
    "\n",
    "logger2 = logging.getLogger(\"logger2\")\n",
    "logger2.setLevel(logging.ERROR)\n",
    "\n",
    "print(\"=====logger2=====\", file=sys.stderr)\n",
    "logger2.debug(\"A DEBUG Message\")\n",
    "logger2.info(\"An INFO\")\n",
    "logger2.warning(\"A WARNING\")\n",
    "logger2.error(\"An ERROR\")\n",
    "logger2.critical(\"A message of CRITICAL severity\")"
   ]
  },
  {
   "cell_type": "markdown",
   "id": "c6c6e621-c2e0-4963-aaf6-525f7ab074e5",
   "metadata": {},
   "source": [
    "# Basic example\n",
    "\n",
    "Here I create loggin system which will write any error to `logging_files/basic.log`"
   ]
  },
  {
   "cell_type": "code",
   "execution_count": 3,
   "id": "b228c6d3-e06c-4ff8-83d0-1b3ef4567a0b",
   "metadata": {},
   "outputs": [
    {
     "name": "stdout",
     "output_type": "stream",
     "text": [
      "2023-06-30 08:58:14,800 ERROR Any error\n",
      "Traceback (most recent call last):\n",
      "  File \"/tmp/ipykernel_7144/1911589912.py\", line 18, in <module>\n",
      "    fun()\n",
      "  File \"/tmp/ipykernel_7144/1911589912.py\", line 4, in <lambda>\n",
      "    lambda: 7/0, # ZeroDivisionError\n",
      "ZeroDivisionError: division by zero\n",
      "2023-06-30 08:58:14,800 ERROR Any error\n",
      "Traceback (most recent call last):\n",
      "  File \"/tmp/ipykernel_7144/1911589912.py\", line 18, in <module>\n",
      "    fun()\n",
      "  File \"/tmp/ipykernel_7144/1911589912.py\", line 5, in <lambda>\n",
      "    lambda: \"hello\" + 5784 # TypeError\n",
      "TypeError: can only concatenate str (not \"int\") to str\n",
      "\n"
     ]
    }
   ],
   "source": [
    "log_filename = \"logging_files/basic.log\"\n",
    "fun_lines = [\n",
    "    lambda: \"no_bug\", # no_bug function\n",
    "    lambda: 7/0, # ZeroDivisionError\n",
    "    lambda: \"hello\" + 5784 # TypeError\n",
    "]\n",
    "\n",
    "basic_logger = logging.getLogger(\"basic loger\")\n",
    "basic_logger.level = logging.INFO\n",
    "handler = logging.FileHandler(log_filename, mode='w')\n",
    "handler.setFormatter(\n",
    "    logging.Formatter('%(asctime)s %(levelname)s %(message)s')\n",
    ")\n",
    "basic_logger.addHandler(handler)\n",
    "\n",
    "for fun in fun_lines:\n",
    "    try:\n",
    "        fun()\n",
    "    except:\n",
    "        basic_logger.error(\"Any error\", exc_info=True)\n",
    "\n",
    "with open(log_filename) as file:\n",
    "    print(file.read())"
   ]
  },
  {
   "cell_type": "markdown",
   "id": "da291697-73f0-4046-9727-8f7e92cda636",
   "metadata": {},
   "source": [
    "# Exception in exception\n",
    "\n",
    "I wanted to learn how `looging` module will process the situation when there is one exception is handled within the framework of the other. In the following example there are functions:\n",
    "- `inside_exception` calls the division by zero exception;\n",
    "- `outside_exception` will execute `inside_exception` and in addition will lead to type exception;\n",
    "- as a result we see only `TypeError` in log."
   ]
  },
  {
   "cell_type": "code",
   "execution_count": 2,
   "id": "66438d2b-93c0-4fe3-b73d-3365826dd6d0",
   "metadata": {},
   "outputs": [
    {
     "name": "stdout",
     "output_type": "stream",
     "text": [
      "2023-06-30 08:57:13,367 ERROR Any error\n",
      "Traceback (most recent call last):\n",
      "  File \"/tmp/ipykernel_7144/3688385058.py\", line 18, in outside_exception\n",
      "    \"hello\" + 7\n",
      "TypeError: can only concatenate str (not \"int\") to str\n",
      "\n"
     ]
    }
   ],
   "source": [
    "log_filename = \"logging_files/excep_in_excep.log\"\n",
    "logging.basicConfig(\n",
    "    level=logging.INFO, \n",
    "    filename=log_filename,\n",
    "    filemode=\"w\",\n",
    "    format=\"%(asctime)s %(levelname)s %(message)s\"\n",
    ")\n",
    "\n",
    "def inside_exception():\n",
    "    try:\n",
    "        7/0\n",
    "    except:\n",
    "        pass\n",
    "\n",
    "def outside_exception():\n",
    "    try:\n",
    "        inside_exception()\n",
    "        \"hello\" + 7\n",
    "    except:\n",
    "        logging.error(\"Any error\", exc_info=True)\n",
    "\n",
    "outside_exception()\n",
    "\n",
    "with open(log_filename) as f:\n",
    "    print(f.read())"
   ]
  },
  {
   "cell_type": "markdown",
   "id": "c2ab489c-e8b5-4fea-ae5c-2c9f500a2cb4",
   "metadata": {},
   "source": [
    "# Many logs to same file"
   ]
  },
  {
   "cell_type": "markdown",
   "id": "590d6f37-be02-4943-97cd-c16b35bfeb7a",
   "metadata": {},
   "source": [
    "Is it possible to store different logs in the same file? So in the following exmaple I create 20 loggers and bind them to the same file. Then I make 50 log messages each from random loggers. After that I output the resulting file. Everything is fine."
   ]
  },
  {
   "cell_type": "code",
   "execution_count": 6,
   "id": "80196599-c875-4ca0-8fd3-927075747d74",
   "metadata": {},
   "outputs": [
    {
     "name": "stdout",
     "output_type": "stream",
     "text": [
      "Iteration0 2023-06-30 09:19:42,804 ERROR logger 9\n",
      "Iteration1 2023-06-30 09:19:42,805 ERROR logger 9\n",
      "Iteration2 2023-06-30 09:19:42,805 ERROR logger 9\n",
      "Iteration3 2023-06-30 09:19:42,805 ERROR logger 19\n",
      "Iteration4 2023-06-30 09:19:42,805 ERROR logger 19\n",
      "Iteration5 2023-06-30 09:19:42,805 ERROR logger 17\n",
      "Iteration6 2023-06-30 09:19:42,805 ERROR logger 6\n",
      "Iteration7 2023-06-30 09:19:42,805 ERROR logger 0\n",
      "Iteration8 2023-06-30 09:19:42,805 ERROR logger 1\n",
      "Iteration9 2023-06-30 09:19:42,805 ERROR logger 8\n",
      "Iteration10 2023-06-30 09:19:42,805 ERROR logger 7\n",
      "Iteration11 2023-06-30 09:19:42,805 ERROR logger 8\n",
      "Iteration12 2023-06-30 09:19:42,805 ERROR logger 10\n",
      "Iteration13 2023-06-30 09:19:42,805 ERROR logger 8\n",
      "Iteration14 2023-06-30 09:19:42,805 ERROR logger 8\n",
      "Iteration15 2023-06-30 09:19:42,805 ERROR logger 17\n",
      "Iteration16 2023-06-30 09:19:42,805 ERROR logger 12\n",
      "Iteration17 2023-06-30 09:19:42,805 ERROR logger 3\n",
      "Iteration18 2023-06-30 09:19:42,805 ERROR logger 13\n",
      "Iteration19 2023-06-30 09:19:42,806 ERROR logger 12\n",
      "Iteration20 2023-06-30 09:19:42,806 ERROR logger 18\n",
      "Iteration21 2023-06-30 09:19:42,806 ERROR logger 4\n",
      "Iteration22 2023-06-30 09:19:42,806 ERROR logger 6\n",
      "Iteration23 2023-06-30 09:19:42,806 ERROR logger 12\n",
      "Iteration24 2023-06-30 09:19:42,806 ERROR logger 13\n",
      "Iteration25 2023-06-30 09:19:42,806 ERROR logger 16\n",
      "Iteration26 2023-06-30 09:19:42,806 ERROR logger 1\n",
      "Iteration27 2023-06-30 09:19:42,806 ERROR logger 15\n",
      "Iteration28 2023-06-30 09:19:42,806 ERROR logger 4\n",
      "Iteration29 2023-06-30 09:19:42,806 ERROR logger 8\n",
      "Iteration30 2023-06-30 09:19:42,806 ERROR logger 16\n",
      "Iteration31 2023-06-30 09:19:42,806 ERROR logger 6\n",
      "Iteration32 2023-06-30 09:19:42,806 ERROR logger 12\n",
      "Iteration33 2023-06-30 09:19:42,806 ERROR logger 4\n",
      "Iteration34 2023-06-30 09:19:42,806 ERROR logger 11\n",
      "Iteration35 2023-06-30 09:19:42,806 ERROR logger 19\n",
      "Iteration36 2023-06-30 09:19:42,806 ERROR logger 4\n",
      "Iteration37 2023-06-30 09:19:42,806 ERROR logger 16\n",
      "Iteration38 2023-06-30 09:19:42,807 ERROR logger 19\n",
      "Iteration39 2023-06-30 09:19:42,807 ERROR logger 19\n",
      "Iteration40 2023-06-30 09:19:42,807 ERROR logger 9\n",
      "Iteration41 2023-06-30 09:19:42,807 ERROR logger 19\n",
      "Iteration42 2023-06-30 09:19:42,807 ERROR logger 16\n",
      "Iteration43 2023-06-30 09:19:42,807 ERROR logger 9\n",
      "Iteration44 2023-06-30 09:19:42,807 ERROR logger 5\n",
      "Iteration45 2023-06-30 09:19:42,807 ERROR logger 12\n",
      "Iteration46 2023-06-30 09:19:42,807 ERROR logger 4\n",
      "Iteration47 2023-06-30 09:19:42,807 ERROR logger 11\n",
      "Iteration48 2023-06-30 09:19:42,807 ERROR logger 11\n",
      "Iteration49 2023-06-30 09:19:42,807 ERROR logger 17\n",
      "\n"
     ]
    }
   ],
   "source": [
    "log_filename = \"logging_files/manylog_samefile.log\"\n",
    "logs_count = 20\n",
    "loggers = []\n",
    "\n",
    "for i in range(logs_count):\n",
    "    loger_name = f\"logger {i}\"\n",
    "    basic_logger = logging.getLogger(loger_name)\n",
    "    basic_logger.level = logging.INFO\n",
    "    handler = logging.FileHandler(log_filename, mode='a')\n",
    "    handler.setFormatter(\n",
    "        logging.Formatter('%(message)s %(asctime)s %(levelname)s %(name)s')\n",
    "    )\n",
    "    basic_logger.addHandler(handler)\n",
    "    loggers.append(basic_logger)\n",
    "\n",
    "for i in range(0,50):\n",
    "    loggers[random.randint(0, logs_count - 1)].error(f\"Iteration{i}\")\n",
    "\n",
    "with open(log_filename) as f:\n",
    "    print(f.read())\n",
    "os.remove(log_filename)"
   ]
  },
  {
   "cell_type": "markdown",
   "id": "cbbaa4e8-2e33-4233-bb51-b1c962a2828f",
   "metadata": {},
   "source": [
    "In this case it's important to use mode `mode='a'` for the file handler. The following cell is the same as the previous one, but uses `mode='w'` instead of `mode='a'`. Something is wrong with the logger in this case."
   ]
  },
  {
   "cell_type": "code",
   "execution_count": 4,
   "id": "a577366e-d9c5-4dd5-9410-e2c632b1d49e",
   "metadata": {},
   "outputs": [
    {
     "name": "stdout",
     "output_type": "stream",
     "text": [
      "Iteration40 2023-06-30 09:00:40,578 ERROR logger 18Iteration49 2023-06-30 09:00:40,579 ERROR logger 7\n",
      "Iteration48 2023-06-30 09:00:40,579 ERROR logger 5\n",
      "18\n",
      "eration34 2023-06-30 09:00:40,578 ERROR logger 1ItIteration43 2023-06-30 09:00:40,578 ERROR logger 13\n",
      "tion27 2023-06-30 09:00:40,578 ERROR logger 3\n",
      "Iteration39 2023-06-30 09:00:40,578 ERROR logger 3\n",
      "Iteration42 2023-06-30 09:00:40,578 ERROR logger 3\n",
      "\n"
     ]
    }
   ],
   "source": [
    "log_filename = \"logging_files/manylog_samefile.log\"\n",
    "logs_count = 20\n",
    "loggers = []\n",
    "\n",
    "for i in range(logs_count):\n",
    "    loger_name = f\"logger {i}\"\n",
    "    basic_logger = logging.getLogger(loger_name)\n",
    "    basic_logger.level = logging.INFO\n",
    "    handler = logging.FileHandler(log_filename, mode='w')\n",
    "    handler.setFormatter(\n",
    "        logging.Formatter('%(message)s %(asctime)s %(levelname)s %(name)s')\n",
    "    )\n",
    "    basic_logger.addHandler(handler)\n",
    "    loggers.append(basic_logger)\n",
    "\n",
    "for i in range(0,50):\n",
    "    loggers[random.randint(0, logs_count - 1)].error(f\"Iteration{i}\")\n",
    "\n",
    "with open(log_filename) as f:\n",
    "    print(f.read())\n",
    "os.remove(log_filename)"
   ]
  }
 ],
 "metadata": {
  "kernelspec": {
   "display_name": "Python 3 (ipykernel)",
   "language": "python",
   "name": "python3"
  },
  "language_info": {
   "codemirror_mode": {
    "name": "ipython",
    "version": 3
   },
   "file_extension": ".py",
   "mimetype": "text/x-python",
   "name": "python",
   "nbconvert_exporter": "python",
   "pygments_lexer": "ipython3",
   "version": "3.10.6"
  }
 },
 "nbformat": 4,
 "nbformat_minor": 5
}
