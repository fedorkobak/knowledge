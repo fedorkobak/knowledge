{
 "cells": [
  {
   "cell_type": "markdown",
   "id": "ac03a2fb-95ec-4dc5-9b97-70f91048e3c8",
   "metadata": {},
   "source": [
    "# unittest\n",
    "\n",
    "Is an inbuilt python library for unit testing."
   ]
  },
  {
   "cell_type": "markdown",
   "id": "85334787-b285-424f-a036-fd38b451e940",
   "metadata": {},
   "source": [
    "## Run test"
   ]
  },
  {
   "cell_type": "markdown",
   "id": "87fdb282-3c30-4994-868c-722969614fc3",
   "metadata": {},
   "source": [
    "### Python script"
   ]
  },
  {
   "cell_type": "markdown",
   "id": "8e869d29-1cf4-4474-bb5f-91ab7aa29500",
   "metadata": {},
   "source": [
    "Just use `python -m unittest <filename>` to run the script with your tests. So the following cell creates a script that we will run from bash before."
   ]
  },
  {
   "cell_type": "code",
   "execution_count": 1,
   "id": "b90fff3f-f88a-485a-b391-02f12fac5a0a",
   "metadata": {},
   "outputs": [
    {
     "name": "stdout",
     "output_type": "stream",
     "text": [
      "Overwriting unittest_files/test.py\n"
     ]
    }
   ],
   "source": [
    "%%writefile unittest_files/test.py\n",
    "import unittest\n",
    "\n",
    "class SomeTest(unittest.TestCase):\n",
    "    def test(self):\n",
    "        self.assertEqual(10,10)"
   ]
  },
  {
   "cell_type": "markdown",
   "id": "dce5f51e-baaa-49c2-8dfc-84f669310fe5",
   "metadata": {},
   "source": [
    "Execution:"
   ]
  },
  {
   "cell_type": "code",
   "execution_count": 2,
   "id": "bfd027f9-441f-430f-88a8-52ff9d0a3b1d",
   "metadata": {},
   "outputs": [
    {
     "name": "stdout",
     "output_type": "stream",
     "text": [
      ".\n",
      "----------------------------------------------------------------------\n",
      "Ran 1 test in 0.000s\n",
      "\n",
      "OK\n"
     ]
    }
   ],
   "source": [
    "!python3 -m unittest unittest_files/test.py"
   ]
  },
  {
   "cell_type": "markdown",
   "id": "fe47ad17-f2c5-478b-bf22-9f1e5923c7d8",
   "metadata": {},
   "source": [
    "### Jupyter cell"
   ]
  },
  {
   "cell_type": "markdown",
   "id": "7d78e836-5771-4a91-8028-ee022cb7baf6",
   "metadata": {},
   "source": [
    "This site is based on Jupyter notebooks, so we will mostly start our tests from Jupyter cells. To do this, you can simply run `unittest.main(argv=[''], verbosity=2, exit=False)` from any cell, which will cause all the ansestors of the `unittest.TestCase` to be executed.\n",
    "\n",
    "In the following cell we have written and executed a minimal testcase."
   ]
  },
  {
   "cell_type": "code",
   "execution_count": 3,
   "id": "3ef8b2de-ce6d-47b2-912a-a8a11aa2110c",
   "metadata": {},
   "outputs": [
    {
     "name": "stderr",
     "output_type": "stream",
     "text": [
      "test (__main__.SomeTest) ... ok\n",
      "\n",
      "----------------------------------------------------------------------\n",
      "Ran 1 test in 0.000s\n",
      "\n",
      "OK\n"
     ]
    }
   ],
   "source": [
    "import unittest\n",
    "\n",
    "class SomeTest(unittest.TestCase):\n",
    "    def test(self):\n",
    "        self.assertEqual(10,10)\n",
    "\n",
    "ans = unittest.main(argv=[''], verbosity=2, exit=False)\n",
    "del SomeTest"
   ]
  }
 ],
 "metadata": {
  "kernelspec": {
   "display_name": "Python 3 (ipykernel)",
   "language": "python",
   "name": "python3"
  },
  "language_info": {
   "codemirror_mode": {
    "name": "ipython",
    "version": 3
   },
   "file_extension": ".py",
   "mimetype": "text/x-python",
   "name": "python",
   "nbconvert_exporter": "python",
   "pygments_lexer": "ipython3",
   "version": "3.10.12"
  }
 },
 "nbformat": 4,
 "nbformat_minor": 5
}
