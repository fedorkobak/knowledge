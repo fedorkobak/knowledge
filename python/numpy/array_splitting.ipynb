{
 "cells": [
  {
   "cell_type": "markdown",
   "id": "be4361f2-1e2f-4bfd-9dc1-893c1a2ce4ab",
   "metadata": {},
   "source": [
    "# Array splitting\n",
    "\n",
    "Here we consider numpy functions to split arrays."
   ]
  },
  {
   "cell_type": "code",
   "execution_count": 1,
   "id": "31754e44-5d8d-4331-adaf-881cd217d97e",
   "metadata": {},
   "outputs": [],
   "source": [
    "import numpy as np"
   ]
  },
  {
   "cell_type": "markdown",
   "id": "f6ac5ea0-2eee-486f-b857-5839b6c0b5c7",
   "metadata": {},
   "source": [
    "## `split`\n",
    "\n",
    "Read more in the [official documentation](https://numpy.org/doc/stable/reference/generated/numpy.split.html)."
   ]
  },
  {
   "cell_type": "markdown",
   "id": "6b822ded-7844-4031-ad39-9c1bd930f027",
   "metadata": {},
   "source": [
    "The following example shows 2 splits for 20 observations."
   ]
  },
  {
   "cell_type": "code",
   "execution_count": 12,
   "id": "bd4650aa-a126-4617-9b68-4df6941c49c3",
   "metadata": {},
   "outputs": [
    {
     "name": "stdout",
     "output_type": "stream",
     "text": [
      "1 with 10 rows\n",
      "2 with 10 rows\n"
     ]
    }
   ],
   "source": [
    "arr = np.random.normal(0, 1, [20, 3])\n",
    "res = np.split(arr, 2)\n",
    "for i, r in enumerate(res):\n",
    "    print(f\"{i+1} with {r.shape[0]} rows\")"
   ]
  },
  {
   "cell_type": "markdown",
   "id": "2d6f795d-bdd6-4de2-b9a2-e304c1f1e6cd",
   "metadata": {},
   "source": [
    "The same example but with 10 splits."
   ]
  },
  {
   "cell_type": "code",
   "execution_count": 13,
   "id": "624db06f-e064-4fcc-8418-7c6c80384f8b",
   "metadata": {},
   "outputs": [
    {
     "name": "stdout",
     "output_type": "stream",
     "text": [
      "1 with 2 rows\n",
      "2 with 2 rows\n",
      "3 with 2 rows\n",
      "4 with 2 rows\n",
      "5 with 2 rows\n",
      "6 with 2 rows\n",
      "7 with 2 rows\n",
      "8 with 2 rows\n",
      "9 with 2 rows\n",
      "10 with 2 rows\n"
     ]
    }
   ],
   "source": [
    "arr = np.random.normal(0, 1, [20, 3])\n",
    "res = np.split(arr, 10)\n",
    "for i, r in enumerate(res):\n",
    "    print(f\"{i+1} with {r.shape[0]} rows\")"
   ]
  },
  {
   "cell_type": "markdown",
   "id": "c39f1503-b28c-4b26-970c-6b3a407c47c9",
   "metadata": {},
   "source": [
    "### Exceptions\n",
    "\n",
    "There are some cases where this won't work:\n",
    "\n",
    "- Dividing an array into a number of parts that do not equal the input array.\n",
    "- Dividing an array into more parts than there are observations in your array - technically, it's the partial option of the previous point, but I have to mention it."
   ]
  },
  {
   "cell_type": "markdown",
   "id": "8a557936-1e36-465b-984c-1b2eb475dafd",
   "metadata": {},
   "source": [
    "Here is an example of dividing 20 rows into the 3 subarrays."
   ]
  },
  {
   "cell_type": "code",
   "execution_count": 10,
   "id": "2e13cf3b-74a4-4738-a841-48df090f7a00",
   "metadata": {},
   "outputs": [
    {
     "name": "stdout",
     "output_type": "stream",
     "text": [
      "We got the error: array split does not result in an equal division\n"
     ]
    }
   ],
   "source": [
    "try:\n",
    "    arr = np.random.normal(0, 1, [20, 3])\n",
    "    res = np.split(arr, 3)\n",
    "except Exception as e:\n",
    "    print(\"We got the error:\", e)"
   ]
  },
  {
   "cell_type": "markdown",
   "id": "8ba036bd-81c7-48f3-8da3-316730f3790b",
   "metadata": {},
   "source": [
    "And the same error if we are trying to divide 3 rows into 50 subarrays."
   ]
  },
  {
   "cell_type": "code",
   "execution_count": 15,
   "id": "de42c2bd-d8e9-4976-89c7-1fd6dd9adaa3",
   "metadata": {},
   "outputs": [
    {
     "name": "stdout",
     "output_type": "stream",
     "text": [
      "We got the error: array split does not result in an equal division\n"
     ]
    }
   ],
   "source": [
    "try:\n",
    "    arr = np.random.normal(0, 1, [3, 3])\n",
    "    res = np.split(arr, 50)\n",
    "except Exception as e:\n",
    "    print(\"We got the error:\", e)"
   ]
  },
  {
   "cell_type": "markdown",
   "id": "cc82eeb2-fe5d-44c6-be2e-257720da9b63",
   "metadata": {},
   "source": [
    "## `array_split`\n",
    "\n",
    "Read more in [official doucmentation](https://numpy.org/doc/stable/reference/generated/numpy.array_split.html). Main feature of this function is "
   ]
  }
 ],
 "metadata": {
  "kernelspec": {
   "display_name": "Python 3 (ipykernel)",
   "language": "python",
   "name": "python3"
  },
  "language_info": {
   "codemirror_mode": {
    "name": "ipython",
    "version": 3
   },
   "file_extension": ".py",
   "mimetype": "text/x-python",
   "name": "python",
   "nbconvert_exporter": "python",
   "pygments_lexer": "ipython3",
   "version": "3.10.12"
  }
 },
 "nbformat": 4,
 "nbformat_minor": 5
}
