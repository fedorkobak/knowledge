{
 "cells": [
  {
   "cell_type": "markdown",
   "id": "011f9c43-ee8e-4fb6-a01d-2d5bf019b5c4",
   "metadata": {},
   "source": [
    "# Exceptions"
   ]
  },
  {
   "cell_type": "markdown",
   "id": "e23a2e8b-1e4f-43d2-b0d3-6dcaa6bbb12e",
   "metadata": {},
   "source": [
    "# Get type of excetoption\n",
    "\n",
    "You can get type of error as string by using `except Exception as e:` code in definition of `except` block.\n",
    "\n",
    "So in the following example I have a list of functions, some of which should work fine, but some of which should cause exceptions. And in `except` block I print the type of exception."
   ]
  },
  {
   "cell_type": "code",
   "execution_count": 4,
   "id": "0df6f963-f03d-48ff-8022-3b0a8264c7a0",
   "metadata": {},
   "outputs": [
    {
     "name": "stdout",
     "output_type": "stream",
     "text": [
      "error type: division by zero\n",
      "no error\n",
      "error type: can only concatenate str (not \"int\") to str\n"
     ]
    }
   ],
   "source": [
    "try_functions = [\n",
    "    lambda: 8/0,\n",
    "    lambda: \"hello\",\n",
    "    lambda: \"hello\" + 4\n",
    "]\n",
    "\n",
    "for fun in try_functions:\n",
    "    try:\n",
    "        fun()\n",
    "        print(\"no error\")\n",
    "    except Exception as e:\n",
    "        print(\"error type:\", e)"
   ]
  }
 ],
 "metadata": {
  "kernelspec": {
   "display_name": "Python 3 (ipykernel)",
   "language": "python",
   "name": "python3"
  },
  "language_info": {
   "codemirror_mode": {
    "name": "ipython",
    "version": 3
   },
   "file_extension": ".py",
   "mimetype": "text/x-python",
   "name": "python",
   "nbconvert_exporter": "python",
   "pygments_lexer": "ipython3",
   "version": "3.10.6"
  }
 },
 "nbformat": 4,
 "nbformat_minor": 5
}
