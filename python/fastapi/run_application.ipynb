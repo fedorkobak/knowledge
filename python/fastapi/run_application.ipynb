{
 "cells": [
  {
   "cell_type": "markdown",
   "id": "38f204b5-8bfb-44fc-8a4c-8d0d25cf010b",
   "metadata": {},
   "source": [
    "# Run application\n",
    "\n",
    "In this page I will introduce how to run `fastapi` applications in general and in particular how to run examples related to `fastapi` in the site.\n",
    "\n",
    "<a href=\"https://fastapi.tiangolo.com/deployment/docker/\">Here</a> you can find out more details about using `fastapi` in the docker."
   ]
  },
  {
   "cell_type": "markdown",
   "id": "8dd5cd4b-f09e-4b42-87fd-9a946194bedf",
   "metadata": {},
   "source": [
    "## Necessary"
   ]
  },
  {
   "cell_type": "markdown",
   "id": "0da19eaa-5278-4dbc-a7ac-7c57d4cac27c",
   "metadata": {},
   "source": [
    "## Update programme\n",
    "\n",
    "The most convenient way to experiment with a container containing `fastapi` is to swap the program on the fly, so you can run many examples through one container. That's why I usually connect the used executing py file as a volume (so that changes on the computer get into the container at once).\n",
    "\n",
    "But to implement it, you also need to run `uvicorn` with the `--reload` flag, which will make it track changes in the programme and update with it.\n",
    "\n",
    "So, in the following cells:\n",
    "\n",
    "- The container stats with a program that sends `initial line` as a response;\n",
    "- Try in with `curl` - all right, got `initial line`;\n",
    "- Then change the `reload.py` file to respond with `updated line`;\n",
    "- Immediately try again with the same `curl` - we've got an `updated line` as response."
   ]
  },
  {
   "cell_type": "code",
   "execution_count": 8,
   "id": "5e9f6c48-a569-4278-b8e7-1cd73011e401",
   "metadata": {},
   "outputs": [
    {
     "name": "stdout",
     "output_type": "stream",
     "text": [
      "Overwriting run_application_files/reload.py\n"
     ]
    }
   ],
   "source": [
    "%%writefile run_application_files/reload.py\n",
    "from fastapi import FastAPI\n",
    "\n",
    "my_first_app = FastAPI()\n",
    "\n",
    "@my_first_app.get(\"/\")\n",
    "def say_hello():\n",
    "    return \"initial line\""
   ]
  },
  {
   "cell_type": "code",
   "execution_count": 9,
   "id": "25e35534-c35c-43be-8605-2aca2aae7c61",
   "metadata": {},
   "outputs": [
    {
     "name": "stdout",
     "output_type": "stream",
     "text": [
      "3f1516b767432efb4f23e4b12eeeb13c7d0b0d6fa71f05c59881c305681d9e6a\n"
     ]
    }
   ],
   "source": [
    "!docker run --rm -itd\\\n",
    "    --name test_container\\\n",
    "    -v ./run_application_files/reload.py:/reload.py\\\n",
    "    -p 8000:8000 \\\n",
    "    fastapi_experiment \\\n",
    "    uvicorn --host 0.0.0.0 --reload reload:my_first_app"
   ]
  },
  {
   "cell_type": "code",
   "execution_count": 10,
   "id": "32d9d21d-08b4-475d-9404-e50a51dd7a6c",
   "metadata": {},
   "outputs": [
    {
     "name": "stdout",
     "output_type": "stream",
     "text": [
      "\"initial line\""
     ]
    }
   ],
   "source": [
    "!curl localhost:8000"
   ]
  },
  {
   "cell_type": "code",
   "execution_count": 11,
   "id": "db05efff-7f7d-4ee2-b3a9-cac6dd20c4a7",
   "metadata": {},
   "outputs": [
    {
     "name": "stdout",
     "output_type": "stream",
     "text": [
      "Overwriting run_application_files/reload.py\n"
     ]
    }
   ],
   "source": [
    "%%writefile run_application_files/reload.py\n",
    "from fastapi import FastAPI\n",
    "\n",
    "my_first_app = FastAPI()\n",
    "\n",
    "@my_first_app.get(\"/\")\n",
    "def say_hello():\n",
    "    return \"updated line\""
   ]
  },
  {
   "cell_type": "code",
   "execution_count": 12,
   "id": "b4e18422-f541-411f-b7e6-78f315163a81",
   "metadata": {},
   "outputs": [
    {
     "name": "stdout",
     "output_type": "stream",
     "text": [
      "\"updated line\""
     ]
    }
   ],
   "source": [
    "!curl localhost:8000"
   ]
  },
  {
   "cell_type": "code",
   "execution_count": 13,
   "id": "263b993b-f6ea-44f6-9591-fc90b23e4091",
   "metadata": {},
   "outputs": [
    {
     "name": "stdout",
     "output_type": "stream",
     "text": [
      "test_container\n"
     ]
    }
   ],
   "source": [
    "!docker stop test_container"
   ]
  },
  {
   "cell_type": "markdown",
   "id": "d66a2007-f4fa-4b96-8a6c-172485d83561",
   "metadata": {},
   "source": [
    "##"
   ]
  }
 ],
 "metadata": {
  "kernelspec": {
   "display_name": "Python 3 (ipykernel)",
   "language": "python",
   "name": "python3"
  },
  "language_info": {
   "codemirror_mode": {
    "name": "ipython",
    "version": 3
   },
   "file_extension": ".py",
   "mimetype": "text/x-python",
   "name": "python",
   "nbconvert_exporter": "python",
   "pygments_lexer": "ipython3",
   "version": "3.10.12"
  }
 },
 "nbformat": 4,
 "nbformat_minor": 5
}
