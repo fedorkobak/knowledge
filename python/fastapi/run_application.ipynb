{
 "cells": [
  {
   "cell_type": "markdown",
   "id": "38f204b5-8bfb-44fc-8a4c-8d0d25cf010b",
   "metadata": {},
   "source": [
    "# Run application\n",
    "\n",
    "In this page I will introduce how to run `fastapi` applications in general and in particular how to run examples related to `fastapi` in the site.\n",
    "\n",
    "https://fastapi.tiangolo.com/deployment/docker/"
   ]
  },
  {
   "cell_type": "code",
   "execution_count": null,
   "id": "aa2dcb82-7b3b-4393-8869-8945eb444c39",
   "metadata": {},
   "outputs": [],
   "source": [
    "%%docker run"
   ]
  },
  {
   "cell_type": "code",
   "execution_count": null,
   "id": "b01e5a69-8b73-4d7c-8987-84a945552d58",
   "metadata": {},
   "outputs": [],
   "source": [
    "docker run --name test_container --rm -v ./get_started/get_started.py:/get_started.py -it -p 8000:8000 fastapi_experiment uvicorn --host 0.0.0.0 get_started:my_first_app"
   ]
  },
  {
   "cell_type": "markdown",
   "id": "d66a2007-f4fa-4b96-8a6c-172485d83561",
   "metadata": {},
   "source": [
    "##"
   ]
  }
 ],
 "metadata": {
  "kernelspec": {
   "display_name": "Python 3 (ipykernel)",
   "language": "python",
   "name": "python3"
  },
  "language_info": {
   "codemirror_mode": {
    "name": "ipython",
    "version": 3
   },
   "file_extension": ".py",
   "mimetype": "text/x-python",
   "name": "python",
   "nbconvert_exporter": "python",
   "pygments_lexer": "ipython3",
   "version": "3.10.12"
  }
 },
 "nbformat": 4,
 "nbformat_minor": 5
}
