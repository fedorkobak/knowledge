{
 "cells": [
  {
   "cell_type": "markdown",
   "id": "38f204b5-8bfb-44fc-8a4c-8d0d25cf010b",
   "metadata": {},
   "source": [
    "# Run application\n",
    "\n",
    "In this page I will introduce how to run `fastapi` applications in general and in particular how to run examples related to `fastapi` in the site.\n",
    "\n",
    "<a href=\"https://fastapi.tiangolo.com/deployment/docker/\">Here</a> you can find out more details about using `fastapi` in the docker."
   ]
  },
  {
   "cell_type": "markdown",
   "id": "f4481bfd-ffab-45e5-8a91-bec7a490c1b8",
   "metadata": {},
   "source": [
    "## dockerfile{#sec-dockerfile}"
   ]
  },
  {
   "cell_type": "markdown",
   "id": "eba787be-8342-40d3-9ca3-06547b55df0d",
   "metadata": {},
   "source": [
    "In the next cell is the docker file I am using for this example."
   ]
  },
  {
   "cell_type": "code",
   "execution_count": 9,
   "id": "8a856d6f-6250-41da-bf1d-7a69cb07ef24",
   "metadata": {},
   "outputs": [],
   "source": [
    "# %load run_application_files/dockerfile\n",
    "FROM python:3.11\n",
    "COPY requrements.txt requrements.txt\n",
    "RUN pip3 install -r requrements.txt\n",
    "EXPOSE 8000"
   ]
  },
  {
   "cell_type": "markdown",
   "id": "9ff56d31-0942-49f7-8a55-643eff1ce513",
   "metadata": {},
   "source": [
    "## requrements.txt\n",
    "\n",
    "Python libraries you only needed to run the `fastapi` server. It is supposed to be used in the [dockerfile](#sec-dockerfile) described above."
   ]
  },
  {
   "cell_type": "code",
   "execution_count": 6,
   "id": "0992f8cb-85d1-4140-8995-2c3ae9ec0b84",
   "metadata": {},
   "outputs": [],
   "source": [
    "# %load run_application_files/requrements.txt\n",
    "fastapi==0.103.1\n",
    "uvicorn==0.23.2"
   ]
  },
  {
   "cell_type": "markdown",
   "id": "e81860a4-59ce-4211-a32c-a0512a00fadf",
   "metadata": {},
   "source": [
    "## Program{sec-prog}"
   ]
  },
  {
   "cell_type": "markdown",
   "id": "8463cca7-eb46-4431-8f9a-9ee9cd408f85",
   "metadata": {},
   "source": [
    "You need to declare an object of class `fastapi.fastAPI`. Then use its decorators to add to your functions the ability to respond to certain requests.\n",
    "\n",
    "So in the following example, I create `fastapi.fastAPI` under the name `my_first_app`, and create a function that will always respond `hello` to a `get` request."
   ]
  },
  {
   "cell_type": "code",
   "execution_count": 10,
   "id": "61b124c0-5270-448c-ad84-ecbc77f0f5b5",
   "metadata": {},
   "outputs": [],
   "source": [
    "# %load run_application_files/get_started.py\n",
    "from fastapi import FastAPI\n",
    "\n",
    "my_first_app = FastAPI()\n",
    "\n",
    "@my_first_app.get(\"/\")\n",
    "def say_hello():\n",
    "    return \"hello\""
   ]
  },
  {
   "cell_type": "markdown",
   "id": "16afd525-64d0-4417-8b8b-5b9f2e5a7559",
   "metadata": {},
   "source": [
    "## Run\n",
    "\n",
    "To run the `fastapi` official documentation recomend to use `uvicorn` as web-server. So you need to use command:\n",
    "\n",
    "`uvicon --host <host> <path to python file with program>:<name of fastapi.fastAPI object in your program>.`\n",
    "\n",
    "So in the following example, a docker container is run, tested and stopped:\n",
    "\n",
    "- Created from the image named `fastapi_experiment` described in the [docker file](#sec-dockerfile) above;\n",
    "- With the name `test_container` for container;\n",
    "- The default port for `fastapi` is 8000, so port 8000 on the container is connected to port 8000 on the local machine;\n",
    "- With volume that allows to read [program](#sec-prog);\n",
    "- And with the command created from the required pattern."
   ]
  },
  {
   "cell_type": "code",
   "execution_count": 1,
   "id": "b01e5a69-8b73-4d7c-8987-84a945552d58",
   "metadata": {},
   "outputs": [
    {
     "name": "stdout",
     "output_type": "stream",
     "text": [
      "1b2654848ee889dc3295d5aa11a0cc715fe91f00d8c4994efaafb4ac9fb21ef4\n"
     ]
    }
   ],
   "source": [
    "!docker run --rm -itd\\\n",
    "    --name test_container\\\n",
    "    -v ./run_application_files/get_started.py:/get_started.py\\\n",
    "    -p 8000:8000 \\\n",
    "    fastapi_experiment \\\n",
    "    uvicorn --host 0.0.0.0 get_started:my_first_app"
   ]
  },
  {
   "cell_type": "markdown",
   "id": "18416bd1-ae77-42ff-8b93-5cdefdbe3763",
   "metadata": {},
   "source": [
    "So now you can try it in your browser, but here I use the `curl` utility - it returns \"hello\", just as I declared in the programme."
   ]
  },
  {
   "cell_type": "code",
   "execution_count": 2,
   "id": "505ef533-2b16-42cc-876d-9955319e7496",
   "metadata": {},
   "outputs": [
    {
     "name": "stdout",
     "output_type": "stream",
     "text": [
      "\"hello\""
     ]
    }
   ],
   "source": [
    "!curl localhost:8000"
   ]
  },
  {
   "cell_type": "markdown",
   "id": "149ffedf-792c-447a-951b-b6856da5ab07",
   "metadata": {},
   "source": [
    "**Don't forget** to stop the image when you've finished playing with the container."
   ]
  },
  {
   "cell_type": "code",
   "execution_count": 4,
   "id": "ea930952-6c1b-4bdc-b63a-d92ae5b17079",
   "metadata": {},
   "outputs": [
    {
     "name": "stdout",
     "output_type": "stream",
     "text": [
      "test_container\n"
     ]
    }
   ],
   "source": [
    "!docker stop test_container"
   ]
  },
  {
   "cell_type": "markdown",
   "id": "d66a2007-f4fa-4b96-8a6c-172485d83561",
   "metadata": {},
   "source": [
    "##"
   ]
  }
 ],
 "metadata": {
  "kernelspec": {
   "display_name": "Python 3 (ipykernel)",
   "language": "python",
   "name": "python3"
  },
  "language_info": {
   "codemirror_mode": {
    "name": "ipython",
    "version": 3
   },
   "file_extension": ".py",
   "mimetype": "text/x-python",
   "name": "python",
   "nbconvert_exporter": "python",
   "pygments_lexer": "ipython3",
   "version": "3.10.12"
  }
 },
 "nbformat": 4,
 "nbformat_minor": 5
}
