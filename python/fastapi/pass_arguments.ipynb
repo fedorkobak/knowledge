{
 "cells": [
  {
   "cell_type": "markdown",
   "id": "51a75d75-b979-49b9-9202-3cfc7bbeb490",
   "metadata": {},
   "source": [
    "# Pass arguments\n",
    "\n",
    "To make your programs useful, you need to give them some arguments. On this page I'll describe how to do that."
   ]
  },
  {
   "cell_type": "markdown",
   "id": "cdc45913-9f93-479c-b97b-36971cff9f39",
   "metadata": {},
   "source": [
    "## Preparing\n",
    "\n",
    "To run the examples on this page, you will need:\n",
    "\n",
    "- Start a docker container with `fastapi` (check [run application](../fastapi.ipynb#run-application));\n",
    "- Import some libraries."
   ]
  },
  {
   "cell_type": "code",
   "execution_count": 21,
   "id": "e50c2d3f-5803-4981-b644-b413074101b2",
   "metadata": {},
   "outputs": [
    {
     "name": "stdout",
     "output_type": "stream",
     "text": [
      "61bb7608cbaf6ae7dd722e4c8a3268e88c47a1d85248522fbfb332fb1a20f7ca\n"
     ]
    }
   ],
   "source": [
    "# requests is cnetral library\n",
    "# to try make requests from python\n",
    "import requests\n",
    "\n",
    "!docker run --rm -itd\\\n",
    "    --name test_container\\\n",
    "    -v ./pass_arguments_files/app.py:/app.py\\\n",
    "    -p 8000:8000 \\\n",
    "    fastapi_experiment \\\n",
    "    uvicorn --host 0.0.0.0 --reload app:app"
   ]
  },
  {
   "cell_type": "markdown",
   "id": "a12056af-fcf2-43c7-85e0-a76444394775",
   "metadata": {},
   "source": [
    "Don't forget to stop the container when you've finished playing with the examples on this page."
   ]
  },
  {
   "cell_type": "code",
   "execution_count": 18,
   "id": "1a33bb44-4026-418a-93fa-79c7b3ea9911",
   "metadata": {},
   "outputs": [
    {
     "name": "stdout",
     "output_type": "stream",
     "text": [
      "test_container\n"
     ]
    }
   ],
   "source": [
    "!docker stop test_container"
   ]
  },
  {
   "cell_type": "markdown",
   "id": "1a6f83bc",
   "metadata": {},
   "source": [
    "## Syntax options"
   ]
  },
  {
   "cell_type": "markdown",
   "id": "c41bf6db-b1fa-40e5-b7de-42754ff9c195",
   "metadata": {},
   "source": [
    "### Query params\n",
    "\n",
    "To define url with parameters in `fastapi`, you need to define method with parameters and wrap it with `fastapi` object decorators."
   ]
  },
  {
   "cell_type": "markdown",
   "id": "ce7aa619-8f00-48f1-8169-99286105581e",
   "metadata": {},
   "source": [
    "In order to pass an argument using ulr we need to write a construction `?param1=argument1&param2=argument2&...&paramN=argumentN` at the end of url (in web development, the name for this construction is query params).\n",
    "\n",
    "So in the following example I have written a program to divide two numbers and use the syntax `/divide?a=10&b=2` in the url to complete the division."
   ]
  },
  {
   "cell_type": "code",
   "execution_count": 2,
   "id": "e834d50f-0b4c-4baf-8adf-584b97d82766",
   "metadata": {},
   "outputs": [
    {
     "name": "stdout",
     "output_type": "stream",
     "text": [
      "Overwriting pass_arguments_files/app.py\n"
     ]
    }
   ],
   "source": [
    "%%writefile pass_arguments_files/app.py\n",
    "from fastapi import FastAPI\n",
    "\n",
    "app = FastAPI()\n",
    "\n",
    "@app.get(\"/divide\")\n",
    "def divide(a:int, b:int) -> int:\n",
    "    return a/b"
   ]
  },
  {
   "cell_type": "code",
   "execution_count": 3,
   "id": "ce211e10-51a2-40eb-af4e-9cf9d78b3166",
   "metadata": {},
   "outputs": [
    {
     "data": {
      "text/plain": [
       "'5'"
      ]
     },
     "execution_count": 3,
     "metadata": {},
     "output_type": "execute_result"
    }
   ],
   "source": [
    "response = requests.get(\"http://localhost:8000/divide?a=10&b=2\")\n",
    "response.text"
   ]
  },
  {
   "cell_type": "markdown",
   "id": "b481f0de-a659-4e81-a7a9-3091f0d579ea",
   "metadata": {},
   "source": [
    "### Path params"
   ]
  },
  {
   "cell_type": "markdown",
   "id": "fc3bdb2a-1ee7-435a-8577-e6b7760436fb",
   "metadata": {},
   "source": [
    "You can specify some parameters as part of your url. Just specify url in fastapi decorators using the syntax `<path>/{param1}/{param2}/...`. So you can request this api by using the corresponding syntax."
   ]
  },
  {
   "cell_type": "markdown",
   "id": "457527e9-16f5-44ef-a744-900a1ea034d1",
   "metadata": {},
   "source": [
    "In the next cell, we'll define a new application that will use the path param syntax for division api."
   ]
  },
  {
   "cell_type": "code",
   "execution_count": 4,
   "id": "c8819c3e-0fad-42d2-91d9-8e3442c88c54",
   "metadata": {},
   "outputs": [
    {
     "name": "stdout",
     "output_type": "stream",
     "text": [
      "Overwriting pass_arguments_files/app.py\n"
     ]
    }
   ],
   "source": [
    "%%writefile pass_arguments_files/app.py\n",
    "from fastapi import FastAPI\n",
    "\n",
    "app = FastAPI()\n",
    "\n",
    "@app.get(\"/divide/{a}/{b}\")\n",
    "def divide(a:int, b:int) -> float:\n",
    "    return a/b"
   ]
  },
  {
   "cell_type": "markdown",
   "id": "9740bc66-aa59-4c6a-aaa4-ed38d79ec6c9",
   "metadata": {},
   "source": [
    "And here is example how it can be called:"
   ]
  },
  {
   "cell_type": "code",
   "execution_count": 5,
   "id": "6546198f-59fe-4a14-bd35-0632aba81a52",
   "metadata": {},
   "outputs": [
    {
     "data": {
      "text/plain": [
       "'5.0'"
      ]
     },
     "execution_count": 5,
     "metadata": {},
     "output_type": "execute_result"
    }
   ],
   "source": [
    "response = requests.get(\"http://localhost:8000/divide/10/2\")\n",
    "response.text"
   ]
  },
  {
   "cell_type": "markdown",
   "id": "cbc1d049-b2d9-4669-970f-83d01e8ab1a0",
   "metadata": {},
   "source": [
    "### Pydantic model"
   ]
  },
  {
   "cell_type": "markdown",
   "id": "0e806a20-feb3-4ba7-96e9-3b2a7a3e2966",
   "metadata": {},
   "source": [
    "You can define pydentic model as an input to your endpoint - simply by declaring pydentic model as a type in parameters.\n",
    "\n",
    "So the following `fastapi` program defines `Item` which expects `json` with keys `param1` and `param2` and just returns line describing what data we've got."
   ]
  },
  {
   "cell_type": "code",
   "execution_count": 6,
   "id": "ed9ce6e6-2d31-4181-8fde-6b1c7bef4edd",
   "metadata": {},
   "outputs": [
    {
     "name": "stdout",
     "output_type": "stream",
     "text": [
      "Overwriting pass_arguments_files/app.py\n"
     ]
    }
   ],
   "source": [
    "%%writefile pass_arguments_files/app.py\n",
    "from fastapi import FastAPI\n",
    "from pydantic import BaseModel\n",
    "\n",
    "class Item(BaseModel):\n",
    "    param1: int\n",
    "    param2: str\n",
    "\n",
    "app = FastAPI()\n",
    "\n",
    "@app.post(\"/\")\n",
    "def read_json(item:Item):\n",
    "    return f\"\"\"I have got:\n",
    "    param1={item.param1};\n",
    "    param2={item.param2}.\"\"\""
   ]
  },
  {
   "cell_type": "markdown",
   "id": "43e8cbd9-1128-412b-a4b2-1b775d924e98",
   "metadata": {},
   "source": [
    "And here is an example of how you can send a query to such an end point and process its result using python `requests` library. Actually you just need to pass a json file of the appropriate form."
   ]
  },
  {
   "cell_type": "code",
   "execution_count": 7,
   "id": "374191bb-8b15-4d28-ab67-6c748ac3bb50",
   "metadata": {},
   "outputs": [
    {
     "name": "stdout",
     "output_type": "stream",
     "text": [
      "\"I have got:\n",
      "    param1=2;\n",
      "    param2=test line.\"\n"
     ]
    }
   ],
   "source": [
    "data = {\"param1\" : 2, \"param2\": \"test line\"}\n",
    "response = requests.post(\n",
    "    \"http://localhost:8000/\", \n",
    "    json=data\n",
    ")\n",
    "print(response.content.decode(\"utf-8\").replace(\"\\\\n\", \"\\n\"))"
   ]
  },
  {
   "cell_type": "markdown",
   "id": "96171e59-bf12-459e-a388-204a1b54ff34",
   "metadata": {},
   "source": [
    "## Data types"
   ]
  },
  {
   "cell_type": "markdown",
   "id": "2e38824a-6d3b-42df-87b5-fe82b2d8eee7",
   "metadata": {},
   "source": [
    "You need to declare data types for the arguments otherwise the call will not work correctly.\n",
    "\n",
    "The following example describes a programme without input datatypes. The request to the server causes the error:"
   ]
  },
  {
   "cell_type": "code",
   "execution_count": 23,
   "id": "9c6f7593-eb6e-4587-a330-8b845628ce94",
   "metadata": {},
   "outputs": [
    {
     "name": "stdout",
     "output_type": "stream",
     "text": [
      "Overwriting pass_arguments_files/app.py\n"
     ]
    }
   ],
   "source": [
    "%%writefile pass_arguments_files/app.py\n",
    "from fastapi import FastAPI\n",
    "\n",
    "app = FastAPI()\n",
    "\n",
    "@app.get(\"/divide\")\n",
    "def divide(a, b) -> int:\n",
    "    return f\"{a} {b}\""
   ]
  },
  {
   "cell_type": "code",
   "execution_count": 24,
   "id": "ab97200c-3287-4fa3-b00d-0c3584fb98a2",
   "metadata": {},
   "outputs": [
    {
     "data": {
      "text/plain": [
       "'Internal Server Error'"
      ]
     },
     "execution_count": 24,
     "metadata": {},
     "output_type": "execute_result"
    }
   ],
   "source": [
    "response = requests.get(\"http://localhost:8000/divide?a=10&b=2\")\n",
    "response.text"
   ]
  },
  {
   "cell_type": "markdown",
   "id": "333bb7a3",
   "metadata": {},
   "source": [
    "### Datetime input\n",
    "\n",
    "You are allowed to use `datetime.datetime` as input type in fastapi. But note that you have to use ISO 8601 fromat for datetime objects - `<YYYY-MM-DDTHH-MM-SS>`.\n",
    "Where:\n",
    "\n",
    "- YYYYY - year (e.g. 2022);\n",
    "- MM - month (from 01 to 12);\n",
    "- DD - day (from 01 to 31);\n",
    "- T - separator between date and time;\n",
    "- HH - hour (00 to 23);\n",
    "- MM - minutes (from 00 to 59);\n",
    "- SS - seconds (00 to 59).\n",
    "\n",
    "So in the following example is the service that takes any date and returns the date for the next day:"
   ]
  },
  {
   "cell_type": "code",
   "execution_count": 25,
   "id": "63bfaf43",
   "metadata": {},
   "outputs": [
    {
     "name": "stdout",
     "output_type": "stream",
     "text": [
      "Overwriting pass_arguments_files/app.py\n"
     ]
    }
   ],
   "source": [
    "%%writefile pass_arguments_files/app.py\n",
    "from fastapi import FastAPI\n",
    "from datetime import datetime, timedelta\n",
    "\n",
    "app = FastAPI()\n",
    "\n",
    "@app.get(\"/add_year\")\n",
    "def add_year(dt : datetime):\n",
    "    return dt + timedelta(days = 1)"
   ]
  },
  {
   "cell_type": "code",
   "execution_count": 26,
   "id": "2c3733db",
   "metadata": {},
   "outputs": [
    {
     "data": {
      "text/plain": [
       "'\"2022-10-06T20:10:10\"'"
      ]
     },
     "execution_count": 26,
     "metadata": {},
     "output_type": "execute_result"
    }
   ],
   "source": [
    "response = requests.get(\n",
    "    \"http://localhost:8000/add_year?dt=2022-10-05T20:10:10\"\n",
    ")\n",
    "response.text"
   ]
  }
 ],
 "metadata": {
  "kernelspec": {
   "display_name": "Python 3 (ipykernel)",
   "language": "python",
   "name": "python3"
  },
  "language_info": {
   "codemirror_mode": {
    "name": "ipython",
    "version": 3
   },
   "file_extension": ".py",
   "mimetype": "text/x-python",
   "name": "python",
   "nbconvert_exporter": "python",
   "pygments_lexer": "ipython3",
   "version": "3.10.12"
  }
 },
 "nbformat": 4,
 "nbformat_minor": 5
}
