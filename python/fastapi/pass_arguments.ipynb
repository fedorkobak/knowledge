{
 "cells": [
  {
   "cell_type": "markdown",
   "id": "51a75d75-b979-49b9-9202-3cfc7bbeb490",
   "metadata": {},
   "source": [
    "# Pass arguments\n",
    "\n",
    "To make your programs useful, you need to give them some arguments. On this page I'll describe how to do that."
   ]
  },
  {
   "cell_type": "markdown",
   "id": "cdc45913-9f93-479c-b97b-36971cff9f39",
   "metadata": {},
   "source": [
    "## Preparing\n",
    "\n",
    "To run the examples on this page, you will need:\n",
    "\n",
    "- Start a docker container with `fastapi`;\n",
    "- Import some libraries."
   ]
  },
  {
   "cell_type": "code",
   "execution_count": 4,
   "id": "e50c2d3f-5803-4981-b644-b413074101b2",
   "metadata": {},
   "outputs": [
    {
     "name": "stdout",
     "output_type": "stream",
     "text": [
      "81f6e2abcf4279b8ecf47d8a8d986e725c3918e3b137b276298185b2fc925c94\n"
     ]
    }
   ],
   "source": [
    "# requests is cnetral library\n",
    "# to try make requests from python\n",
    "import requests\n",
    "\n",
    "!docker run --rm -itd\\\n",
    "    --name test_container\\\n",
    "    -v ./pass_arguments_files/app.py:/app.py\\\n",
    "    -p 8000:8000 \\\n",
    "    fastapi_experiment \\\n",
    "    uvicorn --host 0.0.0.0 --reload app:app"
   ]
  },
  {
   "cell_type": "markdown",
   "id": "a12056af-fcf2-43c7-85e0-a76444394775",
   "metadata": {},
   "source": [
    "Don't forget to stop the container when you've finished playing with the examples on this page."
   ]
  },
  {
   "cell_type": "code",
   "execution_count": 3,
   "id": "1a33bb44-4026-418a-93fa-79c7b3ea9911",
   "metadata": {},
   "outputs": [
    {
     "name": "stdout",
     "output_type": "stream",
     "text": [
      "test_container\n"
     ]
    }
   ],
   "source": [
    "!docker stop test_container"
   ]
  },
  {
   "cell_type": "markdown",
   "id": "5bd7421f-412a-492d-95fe-0bd820b08e7b",
   "metadata": {},
   "source": [
    "## Basic example\n",
    "\n",
    "To define url with parameters in `fastapi`, you need to define method with parameters and wrap it with `fastapi` object decorators.\n",
    "\n",
    "In order to pass an argument using ulr we need to write a construction `?param1=argument1&param2=argument2&...&paramN=argumentN` at the end of url.\n",
    "\n",
    "So in the following example I have written a program to divide two numbers and use the syntax `/divide?a=10&b=2` in the url to complete the division."
   ]
  },
  {
   "cell_type": "code",
   "execution_count": 17,
   "id": "e834d50f-0b4c-4baf-8adf-584b97d82766",
   "metadata": {},
   "outputs": [
    {
     "name": "stdout",
     "output_type": "stream",
     "text": [
      "Overwriting pass_arguments_files/app.py\n"
     ]
    }
   ],
   "source": [
    "%%writefile pass_arguments_files/app.py\n",
    "from fastapi import FastAPI\n",
    "\n",
    "app = FastAPI()\n",
    "\n",
    "@app.get(\"/divide\")\n",
    "def divide(a:int, b:int) -> int:\n",
    "    return a/b"
   ]
  },
  {
   "cell_type": "code",
   "execution_count": 18,
   "id": "ce211e10-51a2-40eb-af4e-9cf9d78b3166",
   "metadata": {},
   "outputs": [
    {
     "data": {
      "text/plain": [
       "'5'"
      ]
     },
     "execution_count": 18,
     "metadata": {},
     "output_type": "execute_result"
    }
   ],
   "source": [
    "response = requests.get(\"http://localhost:8000/divide?a=10&b=2\")\n",
    "response.text"
   ]
  },
  {
   "cell_type": "markdown",
   "id": "96171e59-bf12-459e-a388-204a1b54ff34",
   "metadata": {},
   "source": [
    "## Data types"
   ]
  },
  {
   "cell_type": "code",
   "execution_count": 19,
   "id": "ab97200c-3287-4fa3-b00d-0c3584fb98a2",
   "metadata": {},
   "outputs": [
    {
     "data": {
      "text/plain": [
       "'Internal Server Error'"
      ]
     },
     "execution_count": 19,
     "metadata": {},
     "output_type": "execute_result"
    }
   ],
   "source": [
    "response = requests.get(\"http://localhost:8000/divide?a=10&b=3\")\n",
    "response.text"
   ]
  },
  {
   "cell_type": "code",
   "execution_count": 20,
   "id": "3006e5db-567a-4aa9-82ef-1c6d4311b22e",
   "metadata": {},
   "outputs": [
    {
     "data": {
      "text/plain": [
       "'{\"detail\":[{\"type\":\"int_parsing\",\"loc\":[\"query\",\"a\"],\"msg\":\"Input should be a valid integer, unable to parse string as an integer\",\"input\":\"10.5\",\"url\":\"https://errors.pydantic.dev/2.3/v/int_parsing\"},{\"type\":\"int_parsing\",\"loc\":[\"query\",\"b\"],\"msg\":\"Input should be a valid integer, unable to parse string as an integer\",\"input\":\"0.5\",\"url\":\"https://errors.pydantic.dev/2.3/v/int_parsing\"}]}'"
      ]
     },
     "execution_count": 20,
     "metadata": {},
     "output_type": "execute_result"
    }
   ],
   "source": [
    "response = requests.get(\"http://localhost:8000/divide?a=10.5&b=0.5\")\n",
    "response.text"
   ]
  }
 ],
 "metadata": {
  "kernelspec": {
   "display_name": "Python 3 (ipykernel)",
   "language": "python",
   "name": "python3"
  },
  "language_info": {
   "codemirror_mode": {
    "name": "ipython",
    "version": 3
   },
   "file_extension": ".py",
   "mimetype": "text/x-python",
   "name": "python",
   "nbconvert_exporter": "python",
   "pygments_lexer": "ipython3",
   "version": "3.10.6"
  }
 },
 "nbformat": 4,
 "nbformat_minor": 5
}
