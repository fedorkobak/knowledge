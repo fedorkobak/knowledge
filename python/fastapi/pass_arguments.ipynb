{
 "cells": [
  {
   "cell_type": "markdown",
   "id": "51a75d75-b979-49b9-9202-3cfc7bbeb490",
   "metadata": {},
   "source": [
    "# Pass arguments\n",
    "\n",
    "To make your programs useful, you need to give them some arguments. On this page I'll describe how to do that."
   ]
  },
  {
   "cell_type": "markdown",
   "id": "cdc45913-9f93-479c-b97b-36971cff9f39",
   "metadata": {},
   "source": [
    "## Preparing\n",
    "\n",
    "To run the examples on this page, you will need:\n",
    "\n",
    "- Start a docker container with `fastapi`;\n",
    "- Import some libraries."
   ]
  },
  {
   "cell_type": "code",
   "execution_count": 4,
   "id": "e50c2d3f-5803-4981-b644-b413074101b2",
   "metadata": {},
   "outputs": [
    {
     "name": "stdout",
     "output_type": "stream",
     "text": [
      "81f6e2abcf4279b8ecf47d8a8d986e725c3918e3b137b276298185b2fc925c94\n"
     ]
    }
   ],
   "source": [
    "# requests is cnetral library\n",
    "# to try make requests from python\n",
    "import requests\n",
    "\n",
    "!docker run --rm -itd\\\n",
    "    --name test_container\\\n",
    "    -v ./pass_arguments_files/app.py:/app.py\\\n",
    "    -p 8000:8000 \\\n",
    "    fastapi_experiment \\\n",
    "    uvicorn --host 0.0.0.0 --reload app:app"
   ]
  },
  {
   "cell_type": "markdown",
   "id": "a12056af-fcf2-43c7-85e0-a76444394775",
   "metadata": {},
   "source": [
    "Don't forget to stop the container when you've finished playing with the examples on this page."
   ]
  },
  {
   "cell_type": "code",
   "execution_count": 3,
   "id": "1a33bb44-4026-418a-93fa-79c7b3ea9911",
   "metadata": {},
   "outputs": [
    {
     "name": "stdout",
     "output_type": "stream",
     "text": [
      "test_container\n"
     ]
    }
   ],
   "source": [
    "!docker stop test_container"
   ]
  },
  {
   "cell_type": "markdown",
   "id": "5bd7421f-412a-492d-95fe-0bd820b08e7b",
   "metadata": {},
   "source": [
    "## Query params\n",
    "\n",
    "To define url with parameters in `fastapi`, you need to define method with parameters and wrap it with `fastapi` object decorators.\n",
    "\n",
    "In order to pass an argument using ulr we need to write a construction `?param1=argument1&param2=argument2&...&paramN=argumentN` at the end of url (in web development, the name for this construction is query params).\n",
    "\n",
    "So in the following example I have written a program to divide two numbers and use the syntax `/divide?a=10&b=2` in the url to complete the division."
   ]
  },
  {
   "cell_type": "code",
   "execution_count": 17,
   "id": "e834d50f-0b4c-4baf-8adf-584b97d82766",
   "metadata": {},
   "outputs": [
    {
     "name": "stdout",
     "output_type": "stream",
     "text": [
      "Overwriting pass_arguments_files/app.py\n"
     ]
    }
   ],
   "source": [
    "%%writefile pass_arguments_files/app.py\n",
    "from fastapi import FastAPI\n",
    "\n",
    "app = FastAPI()\n",
    "\n",
    "@app.get(\"/divide\")\n",
    "def divide(a:int, b:int) -> int:\n",
    "    return a/b"
   ]
  },
  {
   "cell_type": "code",
   "execution_count": 18,
   "id": "ce211e10-51a2-40eb-af4e-9cf9d78b3166",
   "metadata": {},
   "outputs": [
    {
     "data": {
      "text/plain": [
       "'5'"
      ]
     },
     "execution_count": 18,
     "metadata": {},
     "output_type": "execute_result"
    }
   ],
   "source": [
    "response = requests.get(\"http://localhost:8000/divide?a=10&b=2\")\n",
    "response.text"
   ]
  },
  {
   "cell_type": "markdown",
   "id": "96171e59-bf12-459e-a388-204a1b54ff34",
   "metadata": {},
   "source": [
    "## Data types"
   ]
  },
  {
   "cell_type": "markdown",
   "id": "2e38824a-6d3b-42df-87b5-fe82b2d8eee7",
   "metadata": {},
   "source": [
    "### Parameter types\n",
    "\n",
    "You need to declare data types for the arguments otherwise the call will not work correctly.\n",
    "\n",
    "The following example describes a programme without input datatypes. The request to the server causes the error:"
   ]
  },
  {
   "cell_type": "code",
   "execution_count": 33,
   "id": "9c6f7593-eb6e-4587-a330-8b845628ce94",
   "metadata": {},
   "outputs": [
    {
     "name": "stdout",
     "output_type": "stream",
     "text": [
      "Overwriting pass_arguments_files/app.py\n"
     ]
    }
   ],
   "source": [
    "%%writefile pass_arguments_files/app.py\n",
    "from fastapi import FastAPI\n",
    "\n",
    "app = FastAPI()\n",
    "\n",
    "@app.get(\"/divide\")\n",
    "def divide(a, b) -> int:\n",
    "    return a/b"
   ]
  },
  {
   "cell_type": "code",
   "execution_count": 34,
   "id": "ab97200c-3287-4fa3-b00d-0c3584fb98a2",
   "metadata": {},
   "outputs": [
    {
     "data": {
      "text/plain": [
       "'Internal Server Error'"
      ]
     },
     "execution_count": 34,
     "metadata": {},
     "output_type": "execute_result"
    }
   ],
   "source": [
    "response = requests.get(\"http://localhost:8000/divide?a=10&b=2\")\n",
    "response.text"
   ]
  },
  {
   "cell_type": "markdown",
   "id": "eb59447c-34c3-4b5a-bc8c-5cde30a4fd64",
   "metadata": {},
   "source": [
    "### Output datatype\n",
    "\n",
    "**It does not have to be specified**. So in the following example the output data type is not specified and the query is executed without problems."
   ]
  },
  {
   "cell_type": "code",
   "execution_count": 37,
   "id": "c620bc96-f726-4092-99a3-1f09997d86f5",
   "metadata": {},
   "outputs": [
    {
     "name": "stdout",
     "output_type": "stream",
     "text": [
      "Overwriting pass_arguments_files/app.py\n"
     ]
    }
   ],
   "source": [
    "%%writefile pass_arguments_files/app.py\n",
    "from fastapi import FastAPI\n",
    "\n",
    "app = FastAPI()\n",
    "\n",
    "@app.get(\"/divide\")\n",
    "def divide(a : int, b : int):\n",
    "    return a/b"
   ]
  },
  {
   "cell_type": "code",
   "execution_count": 38,
   "id": "3006e5db-567a-4aa9-82ef-1c6d4311b22e",
   "metadata": {},
   "outputs": [
    {
     "data": {
      "text/plain": [
       "'5.0'"
      ]
     },
     "execution_count": 38,
     "metadata": {},
     "output_type": "execute_result"
    }
   ],
   "source": [
    "response = requests.get(\"http://localhost:8000/divide?a=10&b=2\")\n",
    "response.text"
   ]
  },
  {
   "cell_type": "markdown",
   "id": "752ce7de-75e2-4ac6-8381-e27e5e397576",
   "metadata": {},
   "source": [
    "**But if you have specified a type, you must follow it.** \n",
    "\n",
    "In the following example, the `GET` response function is configured to use `int` as output. \n",
    "\n",
    "- The first `request` called in such a way as to return `float` - that's why you got the error;\n",
    "- The result of the second `request` can be interpreted as `int`, so all is well."
   ]
  },
  {
   "cell_type": "code",
   "execution_count": 41,
   "id": "86a78983-2ea6-4e0e-8f3c-744db9ba8e01",
   "metadata": {},
   "outputs": [
    {
     "name": "stdout",
     "output_type": "stream",
     "text": [
      "Overwriting pass_arguments_files/app.py\n"
     ]
    }
   ],
   "source": [
    "%%writefile pass_arguments_files/app.py\n",
    "from fastapi import FastAPI\n",
    "\n",
    "app = FastAPI()\n",
    "\n",
    "@app.get(\"/divide\")\n",
    "def divide(a : int, b : int) -> int:\n",
    "    return a/b"
   ]
  },
  {
   "cell_type": "code",
   "execution_count": 42,
   "id": "743fb38d-e30e-4596-9799-f53ed9813c61",
   "metadata": {},
   "outputs": [
    {
     "data": {
      "text/plain": [
       "'Internal Server Error'"
      ]
     },
     "execution_count": 42,
     "metadata": {},
     "output_type": "execute_result"
    }
   ],
   "source": [
    "response = requests.get(\"http://localhost:8000/divide?a=1&b=2\")\n",
    "response.text"
   ]
  },
  {
   "cell_type": "code",
   "execution_count": 43,
   "id": "5ad986c3-ef41-4e52-a391-273c59f99d99",
   "metadata": {},
   "outputs": [
    {
     "data": {
      "text/plain": [
       "'2'"
      ]
     },
     "execution_count": 43,
     "metadata": {},
     "output_type": "execute_result"
    }
   ],
   "source": [
    "response = requests.get(\"http://localhost:8000/divide?a=4&b=2\")\n",
    "response.text"
   ]
  }
 ],
 "metadata": {
  "kernelspec": {
   "display_name": "Python 3 (ipykernel)",
   "language": "python",
   "name": "python3"
  },
  "language_info": {
   "codemirror_mode": {
    "name": "ipython",
    "version": 3
   },
   "file_extension": ".py",
   "mimetype": "text/x-python",
   "name": "python",
   "nbconvert_exporter": "python",
   "pygments_lexer": "ipython3",
   "version": "3.10.6"
  }
 },
 "nbformat": 4,
 "nbformat_minor": 5
}
