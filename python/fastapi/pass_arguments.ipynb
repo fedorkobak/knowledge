{
 "cells": [
  {
   "cell_type": "markdown",
   "id": "51a75d75-b979-49b9-9202-3cfc7bbeb490",
   "metadata": {},
   "source": [
    "# Pass arguments\n",
    "\n",
    "To make your programs useful, you need to give them some arguments. On this page I'll describe how to do that."
   ]
  },
  {
   "cell_type": "markdown",
   "id": "cdc45913-9f93-479c-b97b-36971cff9f39",
   "metadata": {},
   "source": [
    "## Preparing\n",
    "\n",
    "To run the examples on this page, you will need:\n",
    "\n",
    "- Start a docker container with fastapi;\n",
    "- Import some libraries."
   ]
  },
  {
   "cell_type": "code",
   "execution_count": 12,
   "id": "e50c2d3f-5803-4981-b644-b413074101b2",
   "metadata": {},
   "outputs": [
    {
     "name": "stdout",
     "output_type": "stream",
     "text": [
      "42cc7479577d02cfeccd2282e10758db74a384d8c8c4758f1e81f4fd093a27f4\n"
     ]
    }
   ],
   "source": [
    "# requests is cnetral library\n",
    "# to try make requests from python\n",
    "import requests\n",
    "\n",
    "!docker run --rm -itd\\\n",
    "    --name test_container\\\n",
    "    -v ./pass_arguments_files/app.py:/app.py\\\n",
    "    -p 8000:8000 \\\n",
    "    fastapi_experiment \\\n",
    "    uvicorn --host 0.0.0.0 app:app"
   ]
  },
  {
   "cell_type": "code",
   "execution_count": 23,
   "id": "ce211e10-51a2-40eb-af4e-9cf9d78b3166",
   "metadata": {},
   "outputs": [
    {
     "data": {
      "text/plain": [
       "'5'"
      ]
     },
     "execution_count": 23,
     "metadata": {},
     "output_type": "execute_result"
    }
   ],
   "source": [
    "response = requests.get(\"http://localhost:8000/divide?a=10&b=2\")\n",
    "response.text"
   ]
  },
  {
   "cell_type": "code",
   "execution_count": 17,
   "id": "31ec50ca-a04b-447a-8bbc-5e163f9d5cd5",
   "metadata": {},
   "outputs": [
    {
     "data": {
      "text/plain": [
       "\u001b[0;31mSignature:\u001b[0m \u001b[0mrequests\u001b[0m\u001b[0;34m.\u001b[0m\u001b[0mget\u001b[0m\u001b[0;34m(\u001b[0m\u001b[0murl\u001b[0m\u001b[0;34m,\u001b[0m \u001b[0mparams\u001b[0m\u001b[0;34m=\u001b[0m\u001b[0;32mNone\u001b[0m\u001b[0;34m,\u001b[0m \u001b[0;34m**\u001b[0m\u001b[0mkwargs\u001b[0m\u001b[0;34m)\u001b[0m\u001b[0;34m\u001b[0m\u001b[0;34m\u001b[0m\u001b[0m\n",
       "\u001b[0;31mDocstring:\u001b[0m\n",
       "Sends a GET request.\n",
       "\n",
       ":param url: URL for the new :class:`Request` object.\n",
       ":param params: (optional) Dictionary, list of tuples or bytes to send\n",
       "    in the query string for the :class:`Request`.\n",
       ":param \\*\\*kwargs: Optional arguments that ``request`` takes.\n",
       ":return: :class:`Response <Response>` object\n",
       ":rtype: requests.Response\n",
       "\u001b[0;31mFile:\u001b[0m      ~/.local/lib/python3.10/site-packages/requests/api.py\n",
       "\u001b[0;31mType:\u001b[0m      function"
      ]
     },
     "metadata": {},
     "output_type": "display_data"
    }
   ],
   "source": [
    "requests.get?"
   ]
  },
  {
   "cell_type": "code",
   "execution_count": 24,
   "id": "3bb30dd5-ff6d-4aa2-a050-26f68725f5f2",
   "metadata": {},
   "outputs": [
    {
     "name": "stdout",
     "output_type": "stream",
     "text": [
      "test_container\n"
     ]
    }
   ],
   "source": [
    "!docker stop test_container"
   ]
  }
 ],
 "metadata": {
  "kernelspec": {
   "display_name": "Python 3 (ipykernel)",
   "language": "python",
   "name": "python3"
  },
  "language_info": {
   "codemirror_mode": {
    "name": "ipython",
    "version": 3
   },
   "file_extension": ".py",
   "mimetype": "text/x-python",
   "name": "python",
   "nbconvert_exporter": "python",
   "pygments_lexer": "ipython3",
   "version": "3.10.12"
  }
 },
 "nbformat": 4,
 "nbformat_minor": 5
}
