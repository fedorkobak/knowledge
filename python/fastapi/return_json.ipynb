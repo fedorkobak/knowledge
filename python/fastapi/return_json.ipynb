{
 "cells": [
  {
   "cell_type": "markdown",
   "id": "352386f8-8bb2-4231-9020-6693c2703842",
   "metadata": {},
   "source": [
    "# Return JSON"
   ]
  },
  {
   "cell_type": "markdown",
   "id": "e65a4425-c30b-49e9-88ec-41456e4b0f7f",
   "metadata": {},
   "source": [
    "Container for the examples in this page. Check [run application](../fastapi.ipynb#run-application) for more details about image that is used for this container."
   ]
  },
  {
   "cell_type": "code",
   "execution_count": 10,
   "id": "e8bf6be4-88c2-44ab-9f6d-52a35892130c",
   "metadata": {},
   "outputs": [],
   "source": [
    "!docker run --rm -itd\\\n",
    "    --name test_container\\\n",
    "    -v ./return_json_files/app.py:/app.py\\\n",
    "    -p 8000:8000 \\\n",
    "    fastapi_experiment \\\n",
    "    uvicorn --host 0.0.0.0 --reload app:app &>/dev/null"
   ]
  },
  {
   "cell_type": "markdown",
   "id": "3a40d1de-4043-45fc-8b8d-a8684d2e1bc0",
   "metadata": {},
   "source": [
    "**Note** Don't forget to stop the container."
   ]
  },
  {
   "cell_type": "code",
   "execution_count": 11,
   "id": "1080be9b-8247-4544-b4ce-6cb1e8f09a81",
   "metadata": {},
   "outputs": [],
   "source": [
    "!docker stop test_container &>/dev/null"
   ]
  },
  {
   "cell_type": "markdown",
   "id": "7face2f8-e24b-4d15-bd20-2f0960fdfbe0",
   "metadata": {},
   "source": [
    "## Example\n",
    "\n",
    "To return json from `fastapi` endpoin you should just return dictionary. It will be converted to the appropriate json and passed as a response.\n",
    "\n",
    "If you send a request to the corresponding URL, you will get exactly the same as dict, except that all keys will be converted to strings. In the example, I deliberately create one of the keys of a numeric data type to demonstrate that it will be converted to a string when queried."
   ]
  },
  {
   "cell_type": "code",
   "execution_count": 7,
   "id": "ac7ba509-bd8b-4376-8ca0-192288ff3385",
   "metadata": {},
   "outputs": [
    {
     "name": "stdout",
     "output_type": "stream",
     "text": [
      "Overwriting return_json_files/app.py\n"
     ]
    }
   ],
   "source": [
    "%%writefile return_json_files/app.py\n",
    "from fastapi import FastAPI\n",
    "\n",
    "app = FastAPI()\n",
    "\n",
    "@app.get(\"/\")\n",
    "def json_as_answer():\n",
    "    return {\n",
    "        \"key1\" : \"value1\",\n",
    "        \"key2\" : \"value2\",\n",
    "        6 : 34\n",
    "    }"
   ]
  },
  {
   "cell_type": "code",
   "execution_count": 8,
   "id": "dffd3465-252f-4893-937b-3a92d38060b4",
   "metadata": {},
   "outputs": [
    {
     "name": "stdout",
     "output_type": "stream",
     "text": [
      "{\"key1\":\"value1\",\"key2\":\"value2\",\"6\":34}"
     ]
    }
   ],
   "source": [
    "!curl localhost:8000"
   ]
  }
 ],
 "metadata": {
  "kernelspec": {
   "display_name": "Python 3 (ipykernel)",
   "language": "python",
   "name": "python3"
  },
  "language_info": {
   "codemirror_mode": {
    "name": "ipython",
    "version": 3
   },
   "file_extension": ".py",
   "mimetype": "text/x-python",
   "name": "python",
   "nbconvert_exporter": "python",
   "pygments_lexer": "ipython3",
   "version": "3.10.12"
  }
 },
 "nbformat": 4,
 "nbformat_minor": 5
}
