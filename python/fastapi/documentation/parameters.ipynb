{
 "cells": [
  {
   "cell_type": "markdown",
   "id": "b68be793-3d2f-4e8e-b44a-077261adcc0c",
   "metadata": {},
   "source": [
    "# Parameters"
   ]
  },
  {
   "cell_type": "code",
   "execution_count": 13,
   "id": "175a7a4d-2811-416b-bec1-58b414d5aa20",
   "metadata": {},
   "outputs": [
    {
     "name": "stdout",
     "output_type": "stream",
     "text": [
      "Overwriting parameters_files/app.py\n"
     ]
    }
   ],
   "source": [
    "%%writefile parameters_files/app.py\n",
    "from fastapi import FastAPI\n",
    "\n",
    "app = FastAPI()\n",
    "\n",
    "@app.get(\"/{required}{no}\")\n",
    "def say_hello(required : int, no=10):\n",
    "    return \"hello\""
   ]
  },
  {
   "cell_type": "code",
   "execution_count": 11,
   "id": "e002a9cf-be79-43f5-aec6-a8ed074ce050",
   "metadata": {},
   "outputs": [],
   "source": [
    "%%bash\n",
    "docker run --rm -itd\\\n",
    "    --name test_container\\\n",
    "    -v ./parameters_files/app.py:/app.py\\\n",
    "    -p 8000:8000 \\\n",
    "    fastapi_experiment \\\n",
    "    uvicorn --host 0.0.0.0 --reload app:app >/dev/null"
   ]
  },
  {
   "cell_type": "code",
   "execution_count": 14,
   "id": "115eb74f-5a55-4369-a03f-0f5533854c8f",
   "metadata": {},
   "outputs": [
    {
     "name": "stdout",
     "output_type": "stream",
     "text": [
      "test_container\n"
     ]
    }
   ],
   "source": [
    "!docker stop test_container"
   ]
  }
 ],
 "metadata": {
  "kernelspec": {
   "display_name": "Python 3 (ipykernel)",
   "language": "python",
   "name": "python3"
  },
  "language_info": {
   "codemirror_mode": {
    "name": "ipython",
    "version": 3
   },
   "file_extension": ".py",
   "mimetype": "text/x-python",
   "name": "python",
   "nbconvert_exporter": "python",
   "pygments_lexer": "ipython3",
   "version": "3.10.12"
  }
 },
 "nbformat": 4,
 "nbformat_minor": 5
}
