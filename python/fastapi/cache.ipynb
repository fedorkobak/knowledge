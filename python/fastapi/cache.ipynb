{
 "cells": [
  {
   "cell_type": "markdown",
   "metadata": {},
   "source": [
    "# Cache\n",
    "\n",
    "A common way to optimize applications is by using caching, which involves storing the outputs of certain processes for a set period. For FastAPI, the [`fastapi_cache`](https://github.com/long2ice/fastapi-cache) library provides a convenient way to implement caching, simplifying the process significantly."
   ]
  },
  {
   "cell_type": "markdown",
   "metadata": {},
   "source": [
    "## Setup\n",
    "\n",
    "To run the examples associated with `fastapi_cache`, we need a specific setup: an API and a caching backend. The following Docker Compose file defines both an API service and a Redis service to be used as the caching backend."
   ]
  },
  {
   "cell_type": "code",
   "execution_count": 37,
   "metadata": {},
   "outputs": [
    {
     "name": "stdout",
     "output_type": "stream",
     "text": [
      "Overwriting cache_files/docker-compose.yml\n"
     ]
    }
   ],
   "source": [
    "%%writefile cache_files/docker-compose.yml\n",
    "services:\n",
    "  fast_api:\n",
    "    image: fastapi_experiment\n",
    "    container_name: cache_example_api\n",
    "    volumes:\n",
    "      - ./app.py:/app.py\n",
    "    command: /bin/sh -c \"\\\n",
    "      pip3 install redis fastapi-cache2[redis] && \\\n",
    "      uvicorn --host 0.0.0.0 --reload app:app\"\n",
    "    network_mode: host\n",
    "    stdin_open: true\n",
    "    tty: true\n",
    "  redis:\n",
    "    image: redis:7.4.0\n",
    "    container_name: cache_example_redis\n",
    "    network_mode: host\n",
    "    command: redis-server --port 6380"
   ]
  },
  {
   "cell_type": "markdown",
   "metadata": {},
   "source": [
    "The following cell starts the application. "
   ]
  },
  {
   "cell_type": "code",
   "execution_count": 39,
   "metadata": {},
   "outputs": [],
   "source": [
    "%%bash\n",
    "cd cache_files/\n",
    "docker compose up -d &> /dev/null"
   ]
  },
  {
   "cell_type": "markdown",
   "metadata": {},
   "source": [
    "Don't forget to clean the environment after all."
   ]
  },
  {
   "cell_type": "code",
   "execution_count": 66,
   "metadata": {},
   "outputs": [],
   "source": [
    "%%bash\n",
    "cd cache_files/\n",
    "docker compose down &> /dev/null"
   ]
  },
  {
   "cell_type": "markdown",
   "metadata": {},
   "source": [
    "## Check cache\n",
    "\n",
    "Caching isn't magic; you can find your cached records in the backend you're using."
   ]
  },
  {
   "cell_type": "markdown",
   "metadata": {},
   "source": [
    "---\n",
    "\n",
    "The following example defines a program that returns a random value each time you access the endpoint, requiring you to specify a `user_id`. "
   ]
  },
  {
   "cell_type": "code",
   "execution_count": 40,
   "metadata": {},
   "outputs": [
    {
     "name": "stdout",
     "output_type": "stream",
     "text": [
      "Overwriting cache_files/app.py\n"
     ]
    }
   ],
   "source": [
    "%%writefile cache_files/app.py\n",
    "from random import random\n",
    "from collections.abc import AsyncIterator\n",
    "\n",
    "from fastapi import FastAPI\n",
    "\n",
    "from fastapi_cache import FastAPICache\n",
    "from fastapi_cache.decorator import cache\n",
    "from fastapi_cache.backends.redis import RedisBackend\n",
    "\n",
    "from redis import asyncio as aioredis\n",
    "\n",
    "def lifespan(_: FastAPI) -> AsyncIterator[None]:\n",
    "    redis = aioredis.from_url(\"redis://localhost:6380\")\n",
    "    FastAPICache.init(RedisBackend(redis), prefix=\"fastapi-cache\")\n",
    "    yield\n",
    "\n",
    "app = FastAPI(lifespan=lifespan)\n",
    "\n",
    "@app.get(\"/{id}\")\n",
    "@cache(expire=600)\n",
    "def index(id: int):\n",
    "    return random()"
   ]
  },
  {
   "cell_type": "markdown",
   "metadata": {},
   "source": [
    "Now you can try making requests to the application.  Different URLs will return different values. "
   ]
  },
  {
   "cell_type": "code",
   "execution_count": 43,
   "metadata": {},
   "outputs": [
    {
     "name": "stdout",
     "output_type": "stream",
     "text": [
      "0.33599631817687237\n",
      "0.7828694749719901"
     ]
    }
   ],
   "source": [
    "%%bash\n",
    "curl -s localhost:8000/10\n",
    "echo\n",
    "curl -s localhost:8000/20"
   ]
  },
  {
   "cell_type": "markdown",
   "metadata": {},
   "source": [
    "However, requests to the same URL will return the same values as before, because the results have been cached from previous calls."
   ]
  },
  {
   "cell_type": "code",
   "execution_count": 44,
   "metadata": {},
   "outputs": [
    {
     "name": "stdout",
     "output_type": "stream",
     "text": [
      "0.33599631817687237\n",
      "0.7828694749719901"
     ]
    }
   ],
   "source": [
    "%%bash\n",
    "curl -s localhost:8000/10\n",
    "echo\n",
    "curl -s localhost:8000/20"
   ]
  },
  {
   "cell_type": "markdown",
   "metadata": {},
   "source": [
    "Let's check if the cached values are present in the Redis database."
   ]
  },
  {
   "cell_type": "code",
   "execution_count": 45,
   "metadata": {},
   "outputs": [
    {
     "name": "stdout",
     "output_type": "stream",
     "text": [
      "1) \"fastapi-cache::5511deb9b96a93779726aed3f9e4d8bc\"\n",
      "2) \"fastapi-cache::c2ab82769e6470b9ef90fa0de4fbb612\"\n"
     ]
    }
   ],
   "source": [
    "!redis-cli -h localhost -p 6380 keys '*'"
   ]
  },
  {
   "cell_type": "markdown",
   "metadata": {},
   "source": [
    "We see two keys that begin with the string \"fastapi-cache\", just as we specified in the `prefix` argument. The following Python code prints the values of all keys available in the Redis database. "
   ]
  },
  {
   "cell_type": "code",
   "execution_count": 46,
   "metadata": {},
   "outputs": [
    {
     "name": "stdout",
     "output_type": "stream",
     "text": [
      "fastapi-cache::c2ab82769e6470b9ef90fa0de4fbb612: 0.7828694749719901\n",
      "fastapi-cache::5511deb9b96a93779726aed3f9e4d8bc: 0.33599631817687237\n"
     ]
    }
   ],
   "source": [
    "import redis\n",
    "\n",
    "r = redis.Redis(host='localhost', port=6380, db=0)\n",
    "\n",
    "matching_keys = []\n",
    "cursor = '0'\n",
    "while cursor != 0:\n",
    "    cursor, keys = r.scan(cursor=cursor, match='fastapi-cache*')\n",
    "    matching_keys.extend(keys)\n",
    "\n",
    "if matching_keys:\n",
    "    values = r.mget(matching_keys)\n",
    "    for key, value in zip(matching_keys, values):\n",
    "        print(f\"{key.decode('utf-8')}: {value.decode('utf-8')}\")"
   ]
  },
  {
   "cell_type": "markdown",
   "metadata": {},
   "source": [
    "The values retrieved from Redis match the values we received from the API responses."
   ]
  },
  {
   "cell_type": "markdown",
   "metadata": {},
   "source": [
    "## Query params\n",
    "\n",
    "You can also use query parameters with `fastapi_cache`. Each unique combination of query parameters will have its own cached variable."
   ]
  },
  {
   "cell_type": "markdown",
   "metadata": {},
   "source": [
    "---\n",
    "\n",
    "The following API defines an endpoint that uses query parameters."
   ]
  },
  {
   "cell_type": "code",
   "execution_count": 62,
   "metadata": {},
   "outputs": [
    {
     "name": "stdout",
     "output_type": "stream",
     "text": [
      "Overwriting cache_files/app.py\n"
     ]
    }
   ],
   "source": [
    "%%writefile cache_files/app.py\n",
    "from random import random\n",
    "from collections.abc import AsyncIterator\n",
    "\n",
    "from fastapi import FastAPI\n",
    "\n",
    "from fastapi_cache import FastAPICache\n",
    "from fastapi_cache.decorator import cache\n",
    "from fastapi_cache.backends.redis import RedisBackend\n",
    "\n",
    "from redis import asyncio as aioredis\n",
    "\n",
    "def lifespan(_: FastAPI) -> AsyncIterator[None]:\n",
    "    redis = aioredis.from_url(\"redis://localhost:6380\")\n",
    "    FastAPICache.init(RedisBackend(redis), prefix=\"fastapi-cache\")\n",
    "    yield\n",
    "\n",
    "app = FastAPI(lifespan=lifespan)\n",
    "\n",
    "@app.get(\"/\")\n",
    "@cache(expire=600)\n",
    "def index(id: int):\n",
    "    return random()"
   ]
  },
  {
   "cell_type": "markdown",
   "metadata": {},
   "source": [
    "Now let's try passing different query parameters to the API."
   ]
  },
  {
   "cell_type": "code",
   "execution_count": 65,
   "metadata": {},
   "outputs": [
    {
     "name": "stdout",
     "output_type": "stream",
     "text": [
      "0.6974430279676769\n",
      "0.36050751146940563\n",
      "\n",
      "0.6974430279676769\n",
      "0.36050751146940563"
     ]
    }
   ],
   "source": [
    "%%bash\n",
    "curl -s localhost:8000/?id=50\n",
    "echo\n",
    "curl -s localhost:8000/?id=60\n",
    "echo\n",
    "echo\n",
    "curl -s localhost:8000/?id=50\n",
    "echo\n",
    "curl -s localhost:8000/?id=60"
   ]
  },
  {
   "cell_type": "markdown",
   "metadata": {},
   "source": [
    "Different query parameters will produce different results. However, identical sets of query parameters will return the same values due to caching."
   ]
  }
 ],
 "metadata": {
  "kernelspec": {
   "display_name": "Python 3",
   "language": "python",
   "name": "python3"
  },
  "language_info": {
   "codemirror_mode": {
    "name": "ipython",
    "version": 3
   },
   "file_extension": ".py",
   "mimetype": "text/x-python",
   "name": "python",
   "nbconvert_exporter": "python",
   "pygments_lexer": "ipython3",
   "version": "3.10.12"
  }
 },
 "nbformat": 4,
 "nbformat_minor": 2
}
