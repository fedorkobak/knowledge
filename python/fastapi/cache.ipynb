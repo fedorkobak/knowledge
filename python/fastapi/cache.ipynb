{
 "cells": [
  {
   "cell_type": "markdown",
   "metadata": {},
   "source": [
    "# Cache\n",
    "\n",
    "A common way to optimize applications is by using caching, which involves storing the outputs of certain processes for a set period. For FastAPI, the [`fastapi_cache`](https://github.com/long2ice/fastapi-cache) library provides a convenient way to implement caching, simplifying the process significantly."
   ]
  },
  {
   "cell_type": "code",
   "execution_count": 1,
   "metadata": {},
   "outputs": [],
   "source": [
    "import requests"
   ]
  },
  {
   "cell_type": "markdown",
   "metadata": {},
   "source": [
    "## Setup\n",
    "\n",
    "To run the examples associated with `fastapi_cache`, we need a specific setup: an API and a caching backend. The following Docker Compose file defines both an API service and a Redis service to be used as the caching backend."
   ]
  },
  {
   "cell_type": "code",
   "execution_count": 2,
   "metadata": {},
   "outputs": [
    {
     "name": "stdout",
     "output_type": "stream",
     "text": [
      "Overwriting cache_files/docker-compose.yml\n"
     ]
    }
   ],
   "source": [
    "%%writefile cache_files/docker-compose.yml\n",
    "services:\n",
    "  fast_api:\n",
    "    image: fastapi_experiment\n",
    "    container_name: cache_example_api\n",
    "    volumes:\n",
    "      - ./app.py:/app.py\n",
    "    command: /bin/sh -c \"\\\n",
    "      pip3 install redis fastapi-cache2[redis] && \\\n",
    "      uvicorn --host 0.0.0.0 --reload app:app\"\n",
    "    network_mode: host\n",
    "    stdin_open: true\n",
    "    tty: true\n",
    "  redis:\n",
    "    image: redis:7.4.0\n",
    "    container_name: cache_example_redis\n",
    "    network_mode: host\n",
    "    command: redis-server --port 6380"
   ]
  },
  {
   "cell_type": "markdown",
   "metadata": {},
   "source": [
    "The following cell starts the application. "
   ]
  },
  {
   "cell_type": "code",
   "execution_count": 3,
   "metadata": {},
   "outputs": [],
   "source": [
    "%%bash\n",
    "cd cache_files/\n",
    "docker compose up -d &> /dev/null"
   ]
  },
  {
   "cell_type": "markdown",
   "metadata": {},
   "source": [
    "Don't forget to clean the environment after all."
   ]
  },
  {
   "cell_type": "code",
   "execution_count": 112,
   "metadata": {},
   "outputs": [],
   "source": [
    "%%bash\n",
    "cd cache_files/\n",
    "docker compose down &> /dev/null"
   ]
  },
  {
   "cell_type": "markdown",
   "metadata": {},
   "source": [
    "## Check cache\n",
    "\n",
    "Caching isn't magic; you can find your cached records in the backend you're using."
   ]
  },
  {
   "cell_type": "markdown",
   "metadata": {},
   "source": [
    "---\n",
    "\n",
    "The following example defines a program that returns a random value each time you access the endpoint, requiring you to specify a `user_id`. "
   ]
  },
  {
   "cell_type": "code",
   "execution_count": 4,
   "metadata": {},
   "outputs": [
    {
     "name": "stdout",
     "output_type": "stream",
     "text": [
      "Overwriting cache_files/app.py\n"
     ]
    }
   ],
   "source": [
    "%%writefile cache_files/app.py\n",
    "from random import random\n",
    "\n",
    "from fastapi import FastAPI\n",
    "\n",
    "from fastapi_cache import FastAPICache\n",
    "from fastapi_cache.decorator import cache\n",
    "from fastapi_cache.backends.redis import RedisBackend\n",
    "\n",
    "from redis import asyncio as aioredis\n",
    "\n",
    "redis = aioredis.from_url(\"redis://localhost:6380\")\n",
    "FastAPICache.init(RedisBackend(redis), prefix=\"fastapi-cache\")\n",
    "\n",
    "app = FastAPI()\n",
    "\n",
    "@app.get(\"/{id}\")\n",
    "@cache(expire=600)\n",
    "def index(id: int):\n",
    "    return random()"
   ]
  },
  {
   "cell_type": "markdown",
   "metadata": {},
   "source": [
    "Now you can try making requests to the application.  Different URLs will return different values. "
   ]
  },
  {
   "cell_type": "code",
   "execution_count": 5,
   "metadata": {},
   "outputs": [
    {
     "name": "stdout",
     "output_type": "stream",
     "text": [
      "0.23241575866987674\n",
      "0.771544600406915"
     ]
    }
   ],
   "source": [
    "%%bash\n",
    "curl -s localhost:8000/10\n",
    "echo\n",
    "curl -s localhost:8000/20"
   ]
  },
  {
   "cell_type": "markdown",
   "metadata": {},
   "source": [
    "However, requests to the same URL will return the same values as before, because the results have been cached from previous calls."
   ]
  },
  {
   "cell_type": "code",
   "execution_count": 6,
   "metadata": {},
   "outputs": [
    {
     "name": "stdout",
     "output_type": "stream",
     "text": [
      "0.23241575866987674\n",
      "0.771544600406915"
     ]
    }
   ],
   "source": [
    "%%bash\n",
    "curl -s localhost:8000/10\n",
    "echo\n",
    "curl -s localhost:8000/20"
   ]
  },
  {
   "cell_type": "markdown",
   "metadata": {},
   "source": [
    "Let's check if the cached values are present in the Redis database."
   ]
  },
  {
   "cell_type": "code",
   "execution_count": 7,
   "metadata": {},
   "outputs": [
    {
     "name": "stdout",
     "output_type": "stream",
     "text": [
      "1) \"fastapi-cache::c2ab82769e6470b9ef90fa0de4fbb612\"\n",
      "2) \"fastapi-cache::5511deb9b96a93779726aed3f9e4d8bc\"\n"
     ]
    }
   ],
   "source": [
    "!redis-cli -h localhost -p 6380 keys '*'"
   ]
  },
  {
   "cell_type": "markdown",
   "metadata": {},
   "source": [
    "We see two keys that begin with the string \"fastapi-cache\", just as we specified in the `prefix` argument. The following Python code prints the values of all keys available in the Redis database. "
   ]
  },
  {
   "cell_type": "code",
   "execution_count": 8,
   "metadata": {},
   "outputs": [
    {
     "name": "stdout",
     "output_type": "stream",
     "text": [
      "fastapi-cache::c2ab82769e6470b9ef90fa0de4fbb612: 0.771544600406915\n",
      "fastapi-cache::5511deb9b96a93779726aed3f9e4d8bc: 0.23241575866987674\n"
     ]
    }
   ],
   "source": [
    "import redis\n",
    "\n",
    "r = redis.Redis(host='localhost', port=6380, db=0)\n",
    "\n",
    "matching_keys = []\n",
    "cursor = '0'\n",
    "while cursor != 0:\n",
    "    cursor, keys = r.scan(cursor=cursor, match='fastapi-cache*')\n",
    "    matching_keys.extend(keys)\n",
    "\n",
    "if matching_keys:\n",
    "    values = r.mget(matching_keys)\n",
    "    for key, value in zip(matching_keys, values):\n",
    "        print(f\"{key.decode('utf-8')}: {value.decode('utf-8')}\")"
   ]
  },
  {
   "cell_type": "markdown",
   "metadata": {},
   "source": [
    "The values retrieved from Redis match the values we received from the API responses."
   ]
  },
  {
   "cell_type": "markdown",
   "metadata": {},
   "source": [
    "## Query params\n",
    "\n",
    "You can also use query parameters with `fastapi_cache`. Each unique combination of query parameters will have its own cached variable."
   ]
  },
  {
   "cell_type": "markdown",
   "metadata": {},
   "source": [
    "---\n",
    "\n",
    "The following API defines an endpoint that uses query parameters."
   ]
  },
  {
   "cell_type": "code",
   "execution_count": 9,
   "metadata": {},
   "outputs": [
    {
     "name": "stdout",
     "output_type": "stream",
     "text": [
      "Overwriting cache_files/app.py\n"
     ]
    }
   ],
   "source": [
    "%%writefile cache_files/app.py\n",
    "from random import random\n",
    "\n",
    "from fastapi import FastAPI\n",
    "\n",
    "from fastapi_cache import FastAPICache\n",
    "from fastapi_cache.decorator import cache\n",
    "from fastapi_cache.backends.redis import RedisBackend\n",
    "\n",
    "from redis import asyncio as aioredis\n",
    "\n",
    "redis = aioredis.from_url(\"redis://localhost:6380\")\n",
    "FastAPICache.init(RedisBackend(redis), prefix=\"fastapi-cache\")\n",
    "\n",
    "app = FastAPI()\n",
    "\n",
    "@app.get(\"/\")\n",
    "@cache(expire=600)\n",
    "def index(id: int):\n",
    "    return random()"
   ]
  },
  {
   "cell_type": "markdown",
   "metadata": {},
   "source": [
    "Now let's try passing different query parameters to the API."
   ]
  },
  {
   "cell_type": "code",
   "execution_count": 10,
   "metadata": {},
   "outputs": [
    {
     "name": "stdout",
     "output_type": "stream",
     "text": [
      "0.8803390858597414\n",
      "0.7743148886889138\n",
      "\n",
      "0.8803390858597414\n",
      "0.7743148886889138"
     ]
    }
   ],
   "source": [
    "%%bash\n",
    "curl -s localhost:8000/?id=50\n",
    "echo\n",
    "curl -s localhost:8000/?id=60\n",
    "echo\n",
    "echo\n",
    "curl -s localhost:8000/?id=50\n",
    "echo\n",
    "curl -s localhost:8000/?id=60"
   ]
  },
  {
   "cell_type": "markdown",
   "metadata": {},
   "source": [
    "Different query parameters will produce different results. However, identical sets of query parameters will return the same values due to caching."
   ]
  },
  {
   "cell_type": "markdown",
   "metadata": {},
   "source": [
    "## Key builder\n",
    "\n",
    "A special function that generates keys to be used in Redis for caching. You can get default `key_builder` by using `FastAPICache.get_key_builder` method of the initialised `FastAPICache`."
   ]
  },
  {
   "cell_type": "markdown",
   "metadata": {},
   "source": [
    "---\n",
    "\n",
    "The following cell demonstrates how to retrieve the default `key_builder` and even calls it with an incomplete set of arguments."
   ]
  },
  {
   "cell_type": "code",
   "execution_count": 11,
   "metadata": {},
   "outputs": [
    {
     "data": {
      "text/plain": [
       "':f0a9508ba2bac36e3742d56a5c0859cb'"
      ]
     },
     "execution_count": 11,
     "metadata": {},
     "output_type": "execute_result"
    }
   ],
   "source": [
    "from fastapi_cache import FastAPICache\n",
    "from fastapi_cache.backends.redis import RedisBackend\n",
    "from redis import asyncio as aioredis\n",
    "\n",
    "redis = aioredis.from_url(\"redis://localhost:6380\")\n",
    "FastAPICache.init(RedisBackend(redis), prefix=\"fastapi-cache\")\n",
    "\n",
    "key_builder = FastAPICache.get_key_builder()\n",
    "def test_function():\n",
    "    pass\n",
    "key_builder(func=test_function, args=[], kwargs={})"
   ]
  },
  {
   "cell_type": "markdown",
   "metadata": {},
   "source": [
    "As a result, a random hash is generated."
   ]
  },
  {
   "cell_type": "markdown",
   "metadata": {},
   "source": [
    "## Exceptions caching\n",
    "\n",
    "`fastapi_cache` does not provide caching of exceptions. Therefore, if your code throws an exception, each subsequent call to the same endpoint will re-execute all code leading up to the exception."
   ]
  },
  {
   "cell_type": "markdown",
   "metadata": {},
   "source": [
    "---\n",
    "\n",
    "The following code provides an application that throws an exception every time it's called. The exception message is generated randomly."
   ]
  },
  {
   "cell_type": "code",
   "execution_count": 12,
   "metadata": {},
   "outputs": [
    {
     "name": "stdout",
     "output_type": "stream",
     "text": [
      "Overwriting cache_files/app.py\n"
     ]
    }
   ],
   "source": [
    "%%writefile cache_files/app.py\n",
    "from random import random\n",
    "\n",
    "from fastapi import FastAPI\n",
    "from fastapi.exceptions import HTTPException\n",
    "\n",
    "from fastapi_cache import FastAPICache\n",
    "from fastapi_cache.decorator import cache\n",
    "from fastapi_cache.backends.redis import RedisBackend\n",
    "\n",
    "from redis import asyncio as aioredis\n",
    "\n",
    "redis = aioredis.from_url(\"redis://localhost:6380\")\n",
    "FastAPICache.init(RedisBackend(redis), prefix=\"fastapi-cache\")\n",
    "\n",
    "app = FastAPI()\n",
    "\n",
    "@app.get(\"/\")\n",
    "@cache(expire=600)\n",
    "def index():\n",
    "    raise HTTPException(500, str(random()))"
   ]
  },
  {
   "cell_type": "markdown",
   "metadata": {},
   "source": [
    "Each call to the API results in an error with a different message."
   ]
  },
  {
   "cell_type": "code",
   "execution_count": 13,
   "metadata": {},
   "outputs": [
    {
     "name": "stdout",
     "output_type": "stream",
     "text": [
      "{\"detail\":\"0.6015026643515221\"}\n",
      "{\"detail\":\"0.971603006025925\"}"
     ]
    }
   ],
   "source": [
    "%%bash\n",
    "curl -s localhost:8000/\n",
    "echo\n",
    "curl -s localhost:8000/"
   ]
  },
  {
   "cell_type": "markdown",
   "metadata": {},
   "source": [
    "### JSONResponse as exception\n",
    "\n",
    "As possible solution you can reproduce outputs of the `fastapi.exceptions.HTTPException` using `fastapi.responses.JSONResponse`."
   ]
  },
  {
   "cell_type": "markdown",
   "metadata": {},
   "source": [
    "---\n",
    "\n",
    "The following cell demonstrates the creation of an application that generates a `JSONResponse` with a `status_code=500` and a random message under the `detail` key for each response."
   ]
  },
  {
   "cell_type": "code",
   "execution_count": 14,
   "metadata": {},
   "outputs": [
    {
     "name": "stdout",
     "output_type": "stream",
     "text": [
      "Overwriting cache_files/app.py\n"
     ]
    }
   ],
   "source": [
    "%%writefile cache_files/app.py\n",
    "from random import random\n",
    "\n",
    "from fastapi import FastAPI\n",
    "from fastapi.responses import JSONResponse\n",
    "\n",
    "from fastapi_cache import FastAPICache\n",
    "from fastapi_cache.decorator import cache\n",
    "from fastapi_cache.backends.redis import RedisBackend\n",
    "\n",
    "from redis import asyncio as aioredis\n",
    "\n",
    "redis = aioredis.from_url(\"redis://localhost:6380\")\n",
    "FastAPICache.init(RedisBackend(redis), prefix=\"fastapi-cache\")\n",
    "\n",
    "app = FastAPI()\n",
    "\n",
    "@app.get(\"/\")\n",
    "@cache(expire=600)\n",
    "def index():\n",
    "    data = {\"detail\": str(random())}\n",
    "    return JSONResponse(content=data, status_code=500)"
   ]
  },
  {
   "cell_type": "markdown",
   "metadata": {},
   "source": [
    "Now let's make some requests to the created application."
   ]
  },
  {
   "cell_type": "code",
   "execution_count": 15,
   "metadata": {},
   "outputs": [
    {
     "name": "stdout",
     "output_type": "stream",
     "text": [
      "Status code 500\n",
      "Content b'{\"detail\":\"0.5846017203682882\"}'\n",
      "Headers {'date': 'Thu, 22 Aug 2024 14:15:03 GMT', 'server': 'uvicorn', 'content-length': '31', 'content-type': 'application/json'}\n"
     ]
    }
   ],
   "source": [
    "response = requests.get(\"http://localhost:8000\")\n",
    "\n",
    "print(\"Status code\", response.status_code)\n",
    "print(\"Content\", response.content)\n",
    "print(\"Headers\", response.headers)"
   ]
  },
  {
   "cell_type": "markdown",
   "metadata": {},
   "source": [
    "The next cell repeats the same request - so it would be new value."
   ]
  },
  {
   "cell_type": "code",
   "execution_count": 16,
   "metadata": {},
   "outputs": [
    {
     "name": "stdout",
     "output_type": "stream",
     "text": [
      "Status code 200\n",
      "Content b'{\"detail\":\"0.5846017203682882\"}'\n",
      "Headers {'date': 'Thu, 22 Aug 2024 14:15:06 GMT', 'server': 'uvicorn', 'content-length': '31', 'content-type': 'application/json', 'cache-control': 'max-age=597', 'etag': 'W/4408960420008572764', 'x-fastapi-cache': 'HIT'}\n"
     ]
    }
   ],
   "source": [
    "response = requests.get(\"http://localhost:8000\")\n",
    "\n",
    "print(\"Status code\", response.status_code)\n",
    "print(\"Content\", response.content)\n",
    "print(\"Headers\", response.headers)"
   ]
  },
  {
   "cell_type": "markdown",
   "metadata": {},
   "source": [
    "While they formally have the same structure as responses from `HTTPException`, they were actually cached."
   ]
  }
 ],
 "metadata": {
  "kernelspec": {
   "display_name": "Python 3",
   "language": "python",
   "name": "python3"
  },
  "language_info": {
   "codemirror_mode": {
    "name": "ipython",
    "version": 3
   },
   "file_extension": ".py",
   "mimetype": "text/x-python",
   "name": "python",
   "nbconvert_exporter": "python",
   "pygments_lexer": "ipython3",
   "version": "3.10.12"
  }
 },
 "nbformat": 4,
 "nbformat_minor": 2
}
