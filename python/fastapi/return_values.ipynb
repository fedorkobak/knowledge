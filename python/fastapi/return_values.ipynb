{
 "cells": [
  {
   "cell_type": "markdown",
   "id": "352386f8-8bb2-4231-9020-6693c2703842",
   "metadata": {},
   "source": [
    "# Return values\n",
    "\n",
    "This notebook focuses on return information from fastapi handlers."
   ]
  },
  {
   "cell_type": "markdown",
   "id": "e65a4425-c30b-49e9-88ec-41456e4b0f7f",
   "metadata": {},
   "source": [
    "Container for the examples in this page. Check [run application](../fastapi.ipynb#run-application) for more details about image that is used for this container."
   ]
  },
  {
   "cell_type": "code",
   "execution_count": 22,
   "id": "e8bf6be4-88c2-44ab-9f6d-52a35892130c",
   "metadata": {},
   "outputs": [
    {
     "name": "stdout",
     "output_type": "stream",
     "text": [
      "6bec5af2cde3018c3230c2fd4e2e7ba03327f9877655f7e7c618feecaea3e876\n"
     ]
    }
   ],
   "source": [
    "import requests\n",
    "\n",
    "!docker run --rm -itd\\\n",
    "    --name test_container\\\n",
    "    -v ./return_values_files/app.py:/app.py\\\n",
    "    -p 8000:8000 \\\n",
    "    fastapi_experiment \\\n",
    "    uvicorn --host 0.0.0.0 --reload app:app"
   ]
  },
  {
   "cell_type": "markdown",
   "id": "3a40d1de-4043-45fc-8b8d-a8684d2e1bc0",
   "metadata": {},
   "source": [
    "**Note** Don't forget to stop the container."
   ]
  },
  {
   "cell_type": "code",
   "execution_count": 14,
   "id": "1080be9b-8247-4544-b4ce-6cb1e8f09a81",
   "metadata": {},
   "outputs": [],
   "source": [
    "!docker stop test_container &>/dev/null"
   ]
  },
  {
   "cell_type": "markdown",
   "id": "97c992f0",
   "metadata": {},
   "source": [
    "## Single value types\n",
    "\n",
    "Consider the case when you are returning types that contain a value like `int`, `float`, `str` and so on."
   ]
  },
  {
   "cell_type": "markdown",
   "id": "9bf88afb",
   "metadata": {},
   "source": [
    "### Unannotated\n",
    "\n",
    "\n",
    "**It does not have to be declared**. So in the following example the output data type is not specified and the query is executed without problems.\n",
    "\n",
    "But you will always have string as the output type."
   ]
  },
  {
   "cell_type": "code",
   "execution_count": 19,
   "id": "3b0ecbab",
   "metadata": {},
   "outputs": [
    {
     "name": "stdout",
     "output_type": "stream",
     "text": [
      "Overwriting return_values_files/app.py\n"
     ]
    }
   ],
   "source": [
    "%%writefile return_values_files/app.py\n",
    "from fastapi import FastAPI\n",
    "\n",
    "app = FastAPI()\n",
    "\n",
    "@app.get(\"/divide\")\n",
    "def divide(a : int, b : int):\n",
    "    return a/b"
   ]
  },
  {
   "cell_type": "code",
   "execution_count": 10,
   "id": "ae418225",
   "metadata": {},
   "outputs": [
    {
     "data": {
      "text/plain": [
       "'5.0'"
      ]
     },
     "execution_count": 10,
     "metadata": {},
     "output_type": "execute_result"
    }
   ],
   "source": [
    "response = requests.get(\"http://localhost:8000/divide?a=10&b=2\")\n",
    "response.text"
   ]
  },
  {
   "cell_type": "markdown",
   "id": "0ac01c01",
   "metadata": {},
   "source": [
    "### Annotated\n",
    "\n",
    "**But if you have annotated a type, you must follow it.** \n",
    "\n",
    "In the following example, the `GET` response function is configured to use `int` as output. \n",
    "\n",
    "- The first `request` called in such a way as to return `float` - that's why you got the error;\n",
    "- The result of the second `request` can be interpreted as `int`, so all is well."
   ]
  },
  {
   "cell_type": "code",
   "execution_count": 11,
   "id": "7aae3085",
   "metadata": {},
   "outputs": [
    {
     "name": "stdout",
     "output_type": "stream",
     "text": [
      "Overwriting return_values_files/app.py\n"
     ]
    }
   ],
   "source": [
    "%%writefile return_values_files/app.py\n",
    "from fastapi import FastAPI\n",
    "\n",
    "app = FastAPI()\n",
    "\n",
    "@app.get(\"/divide\")\n",
    "def divide(a : int, b : int) -> int:\n",
    "    return a/b"
   ]
  },
  {
   "cell_type": "code",
   "execution_count": 12,
   "id": "aa61ad4e",
   "metadata": {},
   "outputs": [
    {
     "data": {
      "text/plain": [
       "'Internal Server Error'"
      ]
     },
     "execution_count": 12,
     "metadata": {},
     "output_type": "execute_result"
    }
   ],
   "source": [
    "response = requests.get(\"http://localhost:8000/divide?a=1&b=2\")\n",
    "response.text"
   ]
  },
  {
   "cell_type": "code",
   "execution_count": 13,
   "id": "22718d4f",
   "metadata": {},
   "outputs": [
    {
     "data": {
      "text/plain": [
       "'2'"
      ]
     },
     "execution_count": 13,
     "metadata": {},
     "output_type": "execute_result"
    }
   ],
   "source": [
    "response = requests.get(\"http://localhost:8000/divide?a=4&b=2\")\n",
    "response.text"
   ]
  },
  {
   "cell_type": "markdown",
   "id": "7face2f8-e24b-4d15-bd20-2f0960fdfbe0",
   "metadata": {},
   "source": [
    "## `dict`, `list` -> JSON"
   ]
  },
  {
   "cell_type": "markdown",
   "id": "48ff7267",
   "metadata": {},
   "source": [
    "If you return a list or dictionary from your handler, it will be converted to the corresponding json file in the api output."
   ]
  },
  {
   "cell_type": "markdown",
   "id": "273a8672",
   "metadata": {},
   "source": [
    "The following cell defines an application that has both handlers that return dictionary and list. "
   ]
  },
  {
   "cell_type": "code",
   "execution_count": 15,
   "id": "ac7ba509-bd8b-4376-8ca0-192288ff3385",
   "metadata": {},
   "outputs": [
    {
     "name": "stdout",
     "output_type": "stream",
     "text": [
      "Overwriting return_values_files/app.py\n"
     ]
    }
   ],
   "source": [
    "%%writefile return_values_files/app.py\n",
    "from fastapi import FastAPI\n",
    "\n",
    "app = FastAPI()\n",
    "\n",
    "@app.get(\"/dict\")\n",
    "def return_dict():\n",
    "    return {\n",
    "        \"key1\" : \"value1\",\n",
    "        \"key2\" : \"value2\",\n",
    "        6 : 34\n",
    "    }\n",
    "\n",
    "@app.get(\"/list\")\n",
    "def return_json():\n",
    "    return [1, 2, 3, \"hello\", True]"
   ]
  },
  {
   "cell_type": "markdown",
   "id": "29f1a8ef",
   "metadata": {},
   "source": [
    "Now let's look at the results for both handlers."
   ]
  },
  {
   "cell_type": "code",
   "execution_count": 4,
   "id": "dffd3465-252f-4893-937b-3a92d38060b4",
   "metadata": {},
   "outputs": [
    {
     "name": "stdout",
     "output_type": "stream",
     "text": [
      "{\"key1\":\"value1\",\"key2\":\"value2\",\"6\":34}"
     ]
    },
    {
     "name": "stdout",
     "output_type": "stream",
     "text": [
      "[1,2,3,\"hello\",true]"
     ]
    }
   ],
   "source": [
    "!curl localhost:8000/dict\n",
    "!curl localhost:8000/list"
   ]
  },
  {
   "cell_type": "markdown",
   "id": "c66f5803",
   "metadata": {},
   "source": [
    "**Note** that all keys in the dictionary have been converted to strings. So originally 6 was converted to \"6\"."
   ]
  },
  {
   "cell_type": "markdown",
   "id": "f7b76389",
   "metadata": {},
   "source": [
    "## Pydantic models\n",
    "\n",
    "You can return instances of the pydantic models - it will convert the output to the corresponding Json file."
   ]
  },
  {
   "cell_type": "markdown",
   "id": "bb0d00a3",
   "metadata": {},
   "source": [
    "The following example shows an application that uses the pydantic model to define what a program must return."
   ]
  },
  {
   "cell_type": "code",
   "execution_count": 23,
   "id": "2028c5ff",
   "metadata": {},
   "outputs": [
    {
     "name": "stdout",
     "output_type": "stream",
     "text": [
      "Overwriting return_values_files/app.py\n"
     ]
    }
   ],
   "source": [
    "%%writefile return_values_files/app.py\n",
    "from fastapi import FastAPI\n",
    "from pydantic import BaseModel\n",
    "\n",
    "app = FastAPI()\n",
    "\n",
    "class Output(BaseModel):\n",
    "    a : int\n",
    "    b : str\n",
    "\n",
    "@app.get(\"/\")\n",
    "def return_dict() -> Output:\n",
    "    return Output(a=10, b=\"string value\")"
   ]
  },
  {
   "cell_type": "code",
   "execution_count": 24,
   "id": "2c211f77",
   "metadata": {},
   "outputs": [
    {
     "data": {
      "text/plain": [
       "'{\"a\":10,\"b\":\"string value\"}'"
      ]
     },
     "execution_count": 24,
     "metadata": {},
     "output_type": "execute_result"
    }
   ],
   "source": [
    "response = requests.get(\"http://localhost:8000/\")\n",
    "response.text"
   ]
  }
 ],
 "metadata": {
  "kernelspec": {
   "display_name": "Python 3 (ipykernel)",
   "language": "python",
   "name": "python3"
  },
  "language_info": {
   "codemirror_mode": {
    "name": "ipython",
    "version": 3
   },
   "file_extension": ".py",
   "mimetype": "text/x-python",
   "name": "python",
   "nbconvert_exporter": "python",
   "pygments_lexer": "ipython3",
   "version": "3.10.12"
  }
 },
 "nbformat": 4,
 "nbformat_minor": 5
}
