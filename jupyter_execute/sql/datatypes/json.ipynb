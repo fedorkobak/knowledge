{
 "cells": [
  {
   "cell_type": "markdown",
   "metadata": {},
   "source": [
    "# JSON\n",
    "\n",
    "This page considers usage options of JSON format.\n",
    "\n",
    "Find out more in article [JSON functions and operators](https://www.postgresql.org/docs/current/functions-json.html) in official postgres documentation."
   ]
  },
  {
   "cell_type": "markdown",
   "metadata": {},
   "source": [
    "## Extracting fields\n",
    "\n",
    "You can extract the value under a particular field of JSON by using the `-> '<field>'` syntax."
   ]
  },
  {
   "cell_type": "markdown",
   "metadata": {},
   "source": [
    "---\n",
    "\n",
    "The following cell shows extracting a value under a specific JSON key."
   ]
  },
  {
   "cell_type": "code",
   "execution_count": 1,
   "metadata": {},
   "outputs": [
    {
     "name": "stdout",
     "output_type": "stream",
     "text": [
      "SELECT 1\n"
     ]
    },
    {
     "data": {
      "text/html": [
       "<table>\n",
       "<thead>\n",
       "<tr><th style=\"text-align: right;\">  ans</th></tr>\n",
       "</thead>\n",
       "<tbody>\n",
       "<tr><td style=\"text-align: right;\">   10</td></tr>\n",
       "</tbody>\n",
       "</table>"
      ],
      "text/latex": [
       "\\begin{tabular}{r}\n",
       "\\toprule\n",
       "   ans \\\\\n",
       "\\midrule\n",
       "    10 \\\\\n",
       "\\bottomrule\n",
       "\\end{tabular}"
      ],
      "text/plain": [
       "  ans\n",
       "-----\n",
       "   10"
      ]
     },
     "metadata": {},
     "output_type": "display_data"
    }
   ],
   "source": [
    "--postgreSQL\n",
    "SELECT ('{\"a\": 10, \"b\": 45}'::JSONB) -> 'a' ans; "
   ]
  },
  {
   "cell_type": "markdown",
   "metadata": {},
   "source": [
    "The next example demonstrates how this works for columns in a table using the `->` operator combination."
   ]
  },
  {
   "cell_type": "code",
   "execution_count": 2,
   "metadata": {},
   "outputs": [
    {
     "name": "stdout",
     "output_type": "stream",
     "text": [
      "SELECT 2\n"
     ]
    },
    {
     "data": {
      "text/html": [
       "<table>\n",
       "<thead>\n",
       "<tr><th style=\"text-align: right;\">  a_value</th><th>b_value           </th><th style=\"text-align: right;\">  b_y_value</th></tr>\n",
       "</thead>\n",
       "<tbody>\n",
       "<tr><td style=\"text-align: right;\">       10</td><td>{&#x27;x&#x27;: 10, &#x27;y&#x27;: 20}</td><td style=\"text-align: right;\">         20</td></tr>\n",
       "<tr><td style=\"text-align: right;\">       15</td><td>{&#x27;x&#x27;: 1, &#x27;y&#x27;: 45} </td><td style=\"text-align: right;\">         45</td></tr>\n",
       "</tbody>\n",
       "</table>"
      ],
      "text/latex": [
       "\\begin{tabular}{rlr}\n",
       "\\toprule\n",
       "   a\\_value & b\\_value            &   b\\_y\\_value \\\\\n",
       "\\midrule\n",
       "        10 & \\{'x': 10, 'y': 20\\} &          20 \\\\\n",
       "        15 & \\{'x': 1, 'y': 45\\}  &          45 \\\\\n",
       "\\bottomrule\n",
       "\\end{tabular}"
      ],
      "text/plain": [
       "  a_value  b_value               b_y_value\n",
       "---------  ------------------  -----------\n",
       "       10  {'x': 10, 'y': 20}           20\n",
       "       15  {'x': 1, 'y': 45}            45"
      ]
     },
     "metadata": {},
     "output_type": "display_data"
    }
   ],
   "source": [
    "--postgreSQL\n",
    "SELECT\n",
    "    col->'a' AS a_value,\n",
    "    col->'b' AS b_value,\n",
    "    col->'b'->'y' b_y_value\n",
    "FROM (\n",
    "    VALUES\n",
    "    ('{\"a\": 10, \"b\": {\"x\": 10, \"y\": 20}}'::JSONB),\n",
    "    ('{\"a\": 15, \"b\": {\"x\": 1, \"y\": 45}}'::JSONB)\n",
    ") AS temp(col);"
   ]
  },
  {
   "cell_type": "markdown",
   "metadata": {},
   "source": [
    "## Changing value\n",
    "\n",
    "You can change a `json` value by applying the `jsonb_set` function to it. You need to use the syntax `jsonb_set(value, '{field1, field2, ...}', <new_value>)`, which will return JSON where the value under the `'{field1, field2, ...}'` sequence of keys is changed to `<new_value>`."
   ]
  },
  {
   "cell_type": "markdown",
   "metadata": {},
   "source": [
    "---\n",
    "\n",
    "The following cell applies `jsonb_set` to some JSON data that hardcoded to the function. As a result, it returns JSON with the updated value:"
   ]
  },
  {
   "cell_type": "code",
   "execution_count": 3,
   "metadata": {},
   "outputs": [
    {
     "name": "stdout",
     "output_type": "stream",
     "text": [
      "SELECT 1\n"
     ]
    },
    {
     "data": {
      "text/html": [
       "<table>\n",
       "<thead>\n",
       "<tr><th>jsonb_set  </th></tr>\n",
       "</thead>\n",
       "<tbody>\n",
       "<tr><td>{&#x27;A&#x27;: 10}  </td></tr>\n",
       "</tbody>\n",
       "</table>"
      ],
      "text/latex": [
       "\\begin{tabular}{l}\n",
       "\\toprule\n",
       " jsonb\\_set   \\\\\n",
       "\\midrule\n",
       " \\{'A': 10\\}   \\\\\n",
       "\\bottomrule\n",
       "\\end{tabular}"
      ],
      "text/plain": [
       "jsonb_set\n",
       "-----------\n",
       "{'A': 10}"
      ]
     },
     "metadata": {},
     "output_type": "display_data"
    }
   ],
   "source": [
    "--postgreSQL\n",
    "SELECT jsonb_set('{\"A\": 80}'::JSONB, '{A}', '10');"
   ]
  },
  {
   "cell_type": "markdown",
   "metadata": {},
   "source": [
    "The following example shows how you can modify the value of the inner file. It modifies the value under the \"B\" key from the sub-JSON that is under the \"A\" key. "
   ]
  },
  {
   "cell_type": "code",
   "execution_count": 4,
   "metadata": {},
   "outputs": [
    {
     "name": "stdout",
     "output_type": "stream",
     "text": [
      "SELECT 1\n"
     ]
    },
    {
     "data": {
      "text/html": [
       "<table>\n",
       "<thead>\n",
       "<tr><th>jsonb_set      </th></tr>\n",
       "</thead>\n",
       "<tbody>\n",
       "<tr><td>{&#x27;A&#x27;: {&#x27;B&#x27;: 3}}</td></tr>\n",
       "</tbody>\n",
       "</table>"
      ],
      "text/latex": [
       "\\begin{tabular}{l}\n",
       "\\toprule\n",
       " jsonb\\_set       \\\\\n",
       "\\midrule\n",
       " \\{'A': \\{'B': 3\\}\\} \\\\\n",
       "\\bottomrule\n",
       "\\end{tabular}"
      ],
      "text/plain": [
       "jsonb_set\n",
       "---------------\n",
       "{'A': {'B': 3}}"
      ]
     },
     "metadata": {},
     "output_type": "display_data"
    }
   ],
   "source": [
    "--postgreSQL\n",
    "SELECT jsonb_set('{\"A\": {\"B\": 23}}'::JSONB, '{A, B}', '3')"
   ]
  },
  {
   "cell_type": "markdown",
   "metadata": {},
   "source": [
    "## Condition on field\n",
    "\n",
    "With syntax `<column name> & <value>` you can get boolean value that marks if json contains `<value>` key."
   ]
  },
  {
   "cell_type": "markdown",
   "metadata": {},
   "source": [
    "---\n",
    "\n",
    "The following cell creates tables with different structure jsons and shows the application of the `?` operator to them."
   ]
  },
  {
   "cell_type": "code",
   "execution_count": 5,
   "metadata": {},
   "outputs": [
    {
     "name": "stdout",
     "output_type": "stream",
     "text": [
      "SELECT 2\n"
     ]
    },
    {
     "data": {
      "text/html": [
       "<table>\n",
       "<thead>\n",
       "<tr><th>col      </th><th>contains_a  </th><th>contains_b  </th></tr>\n",
       "</thead>\n",
       "<tbody>\n",
       "<tr><td>{&#x27;a&#x27;: 10}</td><td>True        </td><td>False       </td></tr>\n",
       "<tr><td>{&#x27;b&#x27;: 15}</td><td>False       </td><td>True        </td></tr>\n",
       "</tbody>\n",
       "</table>"
      ],
      "text/latex": [
       "\\begin{tabular}{lll}\n",
       "\\toprule\n",
       " col       & contains\\_a   & contains\\_b   \\\\\n",
       "\\midrule\n",
       " \\{'a': 10\\} & True         & False        \\\\\n",
       " \\{'b': 15\\} & False        & True         \\\\\n",
       "\\bottomrule\n",
       "\\end{tabular}"
      ],
      "text/plain": [
       "col        contains_a    contains_b\n",
       "---------  ------------  ------------\n",
       "{'a': 10}  True          False\n",
       "{'b': 15}  False         True"
      ]
     },
     "metadata": {},
     "output_type": "display_data"
    }
   ],
   "source": [
    "--postgreSQL\n",
    "SELECT\n",
    "    col,\n",
    "    col ? 'a' AS contains_a,\n",
    "    col ? 'b' AS contains_b\n",
    "FROM (\n",
    "    VALUES\n",
    "    ('{\"a\": 10}'::JSONB),\n",
    "    ('{\"b\": 15}'::JSONB)\n",
    ") AS temp(col);"
   ]
  },
  {
   "cell_type": "markdown",
   "metadata": {},
   "source": [
    "If you need to check for keys in nested dictionaries, you can combine `?` with the basic substitution operator `->`. The following cell checks for the keys `foo` and `bar` under the nested key `a`."
   ]
  },
  {
   "cell_type": "code",
   "execution_count": 6,
   "metadata": {},
   "outputs": [
    {
     "name": "stdout",
     "output_type": "stream",
     "text": [
      "SELECT 2\n"
     ]
    },
    {
     "data": {
      "text/html": [
       "<table>\n",
       "<thead>\n",
       "<tr><th>col               </th><th>contains_a_foo  </th><th>contains_a_bar  </th></tr>\n",
       "</thead>\n",
       "<tbody>\n",
       "<tr><td>{&#x27;a&#x27;: {&#x27;foo&#x27;: 10}}</td><td>True            </td><td>False           </td></tr>\n",
       "<tr><td>{&#x27;a&#x27;: {&#x27;bar&#x27;: 16}}</td><td>False           </td><td>True            </td></tr>\n",
       "</tbody>\n",
       "</table>"
      ],
      "text/latex": [
       "\\begin{tabular}{lll}\n",
       "\\toprule\n",
       " col                & contains\\_a\\_foo   & contains\\_a\\_bar   \\\\\n",
       "\\midrule\n",
       " \\{'a': \\{'foo': 10\\}\\} & True             & False            \\\\\n",
       " \\{'a': \\{'bar': 16\\}\\} & False            & True             \\\\\n",
       "\\bottomrule\n",
       "\\end{tabular}"
      ],
      "text/plain": [
       "col                 contains_a_foo    contains_a_bar\n",
       "------------------  ----------------  ----------------\n",
       "{'a': {'foo': 10}}  True              False\n",
       "{'a': {'bar': 16}}  False             True"
      ]
     },
     "metadata": {},
     "output_type": "display_data"
    }
   ],
   "source": [
    "--postgreSQL\n",
    "SELECT\n",
    "    col,\n",
    "    col -> 'a' ? 'foo' AS contains_a_foo,\n",
    "    col -> 'a' ? 'bar' AS contains_a_bar\n",
    "FROM (\n",
    "    VALUES\n",
    "    ('{\"a\": {\"foo\": 10}}'::JSONB),\n",
    "    ('{\"a\": {\"bar\": 16}}'::JSONB)\n",
    ") AS temp(col);"
   ]
  }
 ],
 "metadata": {
  "kernelspec": {
   "display_name": "UniversalSQL",
   "language": "sql",
   "name": "universal_sql"
  },
  "language_info": {
   "file_extentions": ".sql",
   "mimetype": "text/plain",
   "name": "sql"
  }
 },
 "nbformat": 4,
 "nbformat_minor": 2
}