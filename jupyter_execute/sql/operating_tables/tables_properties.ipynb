{
 "cells": [
  {
   "cell_type": "markdown",
   "metadata": {},
   "source": [
    "# Tables properties\n",
    "\n",
    "In this section, I'll describe some common tasks associated with posgres and their solutions.\n",
    "\n",
    "The following cell creates all needed for examples in this page."
   ]
  },
  {
   "cell_type": "code",
   "execution_count": 20,
   "metadata": {
    "vscode": {
     "languageId": "shellscript"
    }
   },
   "outputs": [],
   "source": [
    "docker run --rm -d\\\n",
    "    -e POSTGRES_PASSWORD=postgres \\\n",
    "    --name tables_properties_example \\\n",
    "    postgres:15.4 &> /dev/null\n",
    "sleep 5"
   ]
  },
  {
   "cell_type": "markdown",
   "metadata": {},
   "source": [
    "**Stop container!** After playing with examples, you should turn it off with the following command."
   ]
  },
  {
   "cell_type": "code",
   "execution_count": 35,
   "metadata": {
    "vscode": {
     "languageId": "shellscript"
    }
   },
   "outputs": [],
   "source": [
    "docker stop tables_properties_example &> /dev/null"
   ]
  },
  {
   "cell_type": "markdown",
   "metadata": {},
   "source": [
    "## Columns information\n",
    "\n",
    "There is an `information_schema.columns` table that contains information about the columns from the tables in the database."
   ]
  },
  {
   "cell_type": "markdown",
   "metadata": {},
   "source": [
    "---\n",
    "\n",
    "The following cell shows a raw view of that table. It's not empty because PostgreSQL, by default, has some system tables."
   ]
  },
  {
   "cell_type": "code",
   "execution_count": 28,
   "metadata": {
    "vscode": {
     "languageId": "shellscript"
    }
   },
   "outputs": [
    {
     "name": "stdout",
     "output_type": "stream",
     "text": [
      " table_catalog | table_schema |  table_name   | column_name | ordinal_position |              column_default               | is_nullable | data_type | character_maximum_length | character_octet_length | numeric_precision | numeric_precision_radix | numeric_scale | datetime_precision | interval_type | interval_precision | character_set_catalog | character_set_schema | character_set_name | collation_catalog | collation_schema | collation_name | domain_catalog | domain_schema | domain_name | udt_catalog | udt_schema | udt_name | scope_catalog | scope_schema | scope_name | maximum_cardinality | dtd_identifier | is_self_referencing | is_identity | identity_generation | identity_start | identity_increment | identity_maximum | identity_minimum | identity_cycle | is_generated | generation_expression | is_updatable \n",
      "---------------+--------------+---------------+-------------+------------------+-------------------------------------------+-------------+-----------+--------------------------+------------------------+-------------------+-------------------------+---------------+--------------------+---------------+--------------------+-----------------------+----------------------+--------------------+-------------------+------------------+----------------+----------------+---------------+-------------+-------------+------------+----------+---------------+--------------+------------+---------------------+----------------+---------------------+-------------+---------------------+----------------+--------------------+------------------+------------------+----------------+--------------+-----------------------+--------------\n",
      " postgres      | public       | list_tables_1 | id          |                1 | nextval('list_tables_1_id_seq'::regclass) | NO          | integer   |                          |                        |                32 |                       2 |             0 |                    |               |                    |                       |                      |                    |                   |                  |                |                |               |             | postgres    | pg_catalog | int4     |               |              |            |                     | 1              | NO                  | NO          |                     |                |                    |                  |                  | NO             | NEVER        |                       | YES\n",
      " postgres      | public       | list_tables_1 | name        |                2 |                                           | YES         | text      |                          |             1073741824 |                   |                         |               |                    |               |                    |                       |                      |                    |                   |                  |                |                |               |             | postgres    | pg_catalog | text     |               |              |            |                     | 2              | NO                  | NO          |                     |                |                    |                  |                  | NO             | NEVER        |                       | YES\n",
      " postgres      | public       | list_tables_2 | id          |                1 | nextval('list_tables_2_id_seq'::regclass) | NO          | integer   |                          |                        |                32 |                       2 |             0 |                    |               |                    |                       |                      |                    |                   |                  |                |                |               |             | postgres    | pg_catalog | int4     |               |              |            |                     | 1              | NO                  | NO          |                     |                |                    |                  |                  | NO             | NEVER        |                       | YES\n",
      " postgres      | public       | list_tables_2 | name        |                2 |                                           | YES         | text      |                          |             1073741824 |                   |                         |               |                    |               |                    |                       |                      |                    |                   |                  |                |                |               |             | postgres    | pg_catalog | text     |               |              |            |                     | 2              | NO                  | NO          |                     |                |                    |                  |                  | NO             | NEVER        |                       | YES\n",
      " postgres      | public       | list_tables_3 | id          |                1 | nextval('list_tables_3_id_seq'::regclass) | NO          | integer   |                          |                        |                32 |                       2 |             0 |                    |               |                    |                       |                      |                    |                   |                  |                |                |               |             | postgres    | pg_catalog | int4     |               |              |            |                     | 1              | NO                  | NO          |                     |                |                    |                  |                  | NO             | NEVER        |                       | YES\n",
      " postgres      | public       | list_tables_3 | name        |                2 |                                           | YES         | text      |                          |             1073741824 |                   |                         |               |                    |               |                    |                       |                      |                    |                   |                  |                |                |               |             | postgres    | pg_catalog | text     |               |              |            |                     | 2              | NO                  | NO          |                     |                |                    |                  |                  | NO             | NEVER        |                       | YES\n",
      " postgres      | public       | list_tables_4 | id          |                1 | nextval('list_tables_4_id_seq'::regclass) | NO          | integer   |                          |                        |                32 |                       2 |             0 |                    |               |                    |                       |                      |                    |                   |                  |                |                |               |             | postgres    | pg_catalog | int4     |               |              |            |                     | 1              | NO                  | NO          |                     |                |                    |                  |                  | NO             | NEVER        |                       | YES\n",
      " postgres      | public       | list_tables_4 | name        |                2 |                                           | YES         | text      |                          |             1073741824 |                   |                         |               |                    |               |                    |                       |                      |                    |                   |                  |                |                |               |             | postgres    | pg_catalog | text     |               |              |            |                     | 2              | NO                  | NO          |                     |                |                    |                  |                  | NO             | NEVER        |                       | YES\n",
      " postgres      | public       | list_tables_5 | id          |                1 | nextval('list_tables_5_id_seq'::regclass) | NO          | integer   |                          |                        |                32 |                       2 |             0 |                    |               |                    |                       |                      |                    |                   |                  |                |                |               |             | postgres    | pg_catalog | int4     |               |              |            |                     | 1              | NO                  | NO          |                     |                |                    |                  |                  | NO             | NEVER        |                       | YES\n",
      " postgres      | public       | list_tables_5 | name        |                2 |                                           | YES         | text      |                          |             1073741824 |                   |                         |               |                    |               |                    |                       |                      |                    |                   |                  |                |                |               |             | postgres    | pg_catalog | text     |               |              |            |                     | 2              | NO                  | NO          |                     |                |                    |                  |                  | NO             | NEVER        |                       | YES\n",
      "(10 rows)\n",
      "\n"
     ]
    }
   ],
   "source": [
    "docker exec -i tables_properties_example psql -U postgres << EOF\n",
    "SELECT *\n",
    "FROM information_schema.columns\n",
    "LIMIT 10;\n",
    "EOF"
   ]
  },
  {
   "cell_type": "markdown",
   "metadata": {},
   "source": [
    "The following cell shows how to check the data types of the just created table:"
   ]
  },
  {
   "cell_type": "code",
   "execution_count": 34,
   "metadata": {
    "vscode": {
     "languageId": "shellscript"
    }
   },
   "outputs": [
    {
     "name": "stdout",
     "output_type": "stream",
     "text": [
      "CREATE TABLE\n",
      " column_name | data_type \n",
      "-------------+-----------\n",
      " id          | integer\n",
      " text        | text\n",
      "(2 rows)\n",
      "\n",
      "DROP TABLE\n"
     ]
    }
   ],
   "source": [
    "docker exec -i tables_properties_example psql -U postgres << EOF\n",
    "CREATE TABLE dtype_example (\n",
    "    id INTEGER,\n",
    "    text TEXT\n",
    ");\n",
    "\n",
    "SELECT column_name, data_type FROM information_schema.columns WHERE table_name='dtype_example';\n",
    "\n",
    "DROP TABLE dtype_example;\n",
    "EOF"
   ]
  },
  {
   "cell_type": "markdown",
   "metadata": {},
   "source": [
    "## Count raws\n",
    "\n",
    "To get counts of observations in table you can use command: `SELECT COUNT(*) FROM <table_name>`."
   ]
  },
  {
   "cell_type": "markdown",
   "metadata": {},
   "source": [
    "---\n",
    "\n",
    "The example in the following cell shows counting the result of the `generate_series(1, 1000000)` function, which generates a series of values with the specified length."
   ]
  },
  {
   "cell_type": "code",
   "execution_count": 13,
   "metadata": {
    "vscode": {
     "languageId": "shellscript"
    }
   },
   "outputs": [
    {
     "name": "stdout",
     "output_type": "stream",
     "text": [
      "  count  \n",
      "---------\n",
      " 1000000\n",
      "(1 row)\n",
      "\n"
     ]
    }
   ],
   "source": [
    "docker exec -i tables_properties_example psql -U postgres << EOF\n",
    "SELECT COUNT(*) FROM generate_series(1, 1000000);\n",
    "EOF"
   ]
  },
  {
   "cell_type": "markdown",
   "metadata": {},
   "source": [
    "## List tables\n",
    "\n",
    "It's a common task to list all available tables for the current database. So in this section I want to mention some options."
   ]
  },
  {
   "cell_type": "markdown",
   "metadata": {},
   "source": [
    "The following cell prepares a set of tables that we'll use as examples."
   ]
  },
  {
   "cell_type": "code",
   "execution_count": 21,
   "metadata": {
    "vscode": {
     "languageId": "shellscript"
    }
   },
   "outputs": [
    {
     "name": "stdout",
     "output_type": "stream",
     "text": [
      "DO\n"
     ]
    }
   ],
   "source": [
    "docker exec -i tables_properties_example psql -U postgres << EOF\n",
    "DO \\$\\$ \n",
    "DECLARE\n",
    "    num_tables INT := 5; -- specify the number of tables\n",
    "BEGIN\n",
    "    FOR i IN 1..num_tables LOOP\n",
    "        EXECUTE format('CREATE TABLE list_tables_%s (id SERIAL PRIMARY KEY, name TEXT);', i);\n",
    "    END LOOP;\n",
    "END \\$\\$;\n",
    "EOF"
   ]
  },
  {
   "cell_type": "markdown",
   "metadata": {},
   "source": [
    "### `\\dt`\n",
    "\n",
    "Very simple method, but it doesn't always work."
   ]
  },
  {
   "cell_type": "code",
   "execution_count": 22,
   "metadata": {
    "vscode": {
     "languageId": "shellscript"
    }
   },
   "outputs": [
    {
     "name": "stdout",
     "output_type": "stream",
     "text": [
      "             List of relations\n",
      " Schema |     Name      | Type  |  Owner   \n",
      "--------+---------------+-------+----------\n",
      " public | list_tables_1 | table | postgres\n",
      " public | list_tables_2 | table | postgres\n",
      " public | list_tables_3 | table | postgres\n",
      " public | list_tables_4 | table | postgres\n",
      " public | list_tables_5 | table | postgres\n",
      "(5 rows)\n",
      "\n"
     ]
    }
   ],
   "source": [
    "docker exec -i tables_properties_example psql -U postgres << EOF\n",
    "\\dt\n",
    "EOF"
   ]
  },
  {
   "cell_type": "markdown",
   "metadata": {},
   "source": [
    "### pg_catalog.pg_tables table\n",
    "\n",
    "This is a service table that contains the tables available for this base."
   ]
  },
  {
   "cell_type": "markdown",
   "metadata": {},
   "source": [
    "---\n",
    "\n",
    "Folowing cell just shows whole `pg_catalog.pg_tables`."
   ]
  },
  {
   "cell_type": "code",
   "execution_count": 26,
   "metadata": {
    "vscode": {
     "languageId": "shellscript"
    }
   },
   "outputs": [
    {
     "name": "stdout",
     "output_type": "stream",
     "text": [
      "     schemaname     |        tablename         | tableowner | tablespace | hasindexes | hasrules | hastriggers | rowsecurity \n",
      "--------------------+--------------------------+------------+------------+------------+----------+-------------+-------------\n",
      " public             | list_tables_1            | postgres   |            | t          | f        | f           | f\n",
      " public             | list_tables_2            | postgres   |            | t          | f        | f           | f\n",
      " public             | list_tables_3            | postgres   |            | t          | f        | f           | f\n",
      " public             | list_tables_4            | postgres   |            | t          | f        | f           | f\n",
      " public             | list_tables_5            | postgres   |            | t          | f        | f           | f\n",
      " pg_catalog         | pg_statistic             | postgres   |            | t          | f        | f           | f\n",
      " pg_catalog         | pg_type                  | postgres   |            | t          | f        | f           | f\n",
      " pg_catalog         | pg_foreign_table         | postgres   |            | t          | f        | f           | f\n",
      " pg_catalog         | pg_authid                | postgres   | pg_global  | t          | f        | f           | f\n",
      " pg_catalog         | pg_statistic_ext_data    | postgres   |            | t          | f        | f           | f\n",
      " pg_catalog         | pg_user_mapping          | postgres   |            | t          | f        | f           | f\n",
      " pg_catalog         | pg_subscription          | postgres   | pg_global  | t          | f        | f           | f\n",
      " pg_catalog         | pg_attribute             | postgres   |            | t          | f        | f           | f\n",
      " pg_catalog         | pg_proc                  | postgres   |            | t          | f        | f           | f\n",
      " pg_catalog         | pg_class                 | postgres   |            | t          | f        | f           | f\n",
      " pg_catalog         | pg_attrdef               | postgres   |            | t          | f        | f           | f\n",
      " pg_catalog         | pg_constraint            | postgres   |            | t          | f        | f           | f\n",
      " pg_catalog         | pg_inherits              | postgres   |            | t          | f        | f           | f\n",
      " pg_catalog         | pg_index                 | postgres   |            | t          | f        | f           | f\n",
      " pg_catalog         | pg_operator              | postgres   |            | t          | f        | f           | f\n",
      " pg_catalog         | pg_opfamily              | postgres   |            | t          | f        | f           | f\n",
      " pg_catalog         | pg_opclass               | postgres   |            | t          | f        | f           | f\n",
      " pg_catalog         | pg_am                    | postgres   |            | t          | f        | f           | f\n",
      " pg_catalog         | pg_amop                  | postgres   |            | t          | f        | f           | f\n",
      " pg_catalog         | pg_amproc                | postgres   |            | t          | f        | f           | f\n",
      " pg_catalog         | pg_language              | postgres   |            | t          | f        | f           | f\n",
      " pg_catalog         | pg_largeobject_metadata  | postgres   |            | t          | f        | f           | f\n",
      " pg_catalog         | pg_aggregate             | postgres   |            | t          | f        | f           | f\n",
      " pg_catalog         | pg_statistic_ext         | postgres   |            | t          | f        | f           | f\n",
      " pg_catalog         | pg_rewrite               | postgres   |            | t          | f        | f           | f\n",
      " pg_catalog         | pg_trigger               | postgres   |            | t          | f        | f           | f\n",
      " pg_catalog         | pg_event_trigger         | postgres   |            | t          | f        | f           | f\n",
      " pg_catalog         | pg_description           | postgres   |            | t          | f        | f           | f\n",
      " pg_catalog         | pg_cast                  | postgres   |            | t          | f        | f           | f\n",
      " pg_catalog         | pg_enum                  | postgres   |            | t          | f        | f           | f\n",
      " pg_catalog         | pg_namespace             | postgres   |            | t          | f        | f           | f\n",
      " pg_catalog         | pg_conversion            | postgres   |            | t          | f        | f           | f\n",
      " pg_catalog         | pg_depend                | postgres   |            | t          | f        | f           | f\n",
      " pg_catalog         | pg_database              | postgres   | pg_global  | t          | f        | f           | f\n",
      " pg_catalog         | pg_db_role_setting       | postgres   | pg_global  | t          | f        | f           | f\n",
      " pg_catalog         | pg_tablespace            | postgres   | pg_global  | t          | f        | f           | f\n",
      " pg_catalog         | pg_auth_members          | postgres   | pg_global  | t          | f        | f           | f\n",
      " pg_catalog         | pg_shdepend              | postgres   | pg_global  | t          | f        | f           | f\n",
      " pg_catalog         | pg_shdescription         | postgres   | pg_global  | t          | f        | f           | f\n",
      " pg_catalog         | pg_ts_config             | postgres   |            | t          | f        | f           | f\n",
      " pg_catalog         | pg_ts_config_map         | postgres   |            | t          | f        | f           | f\n",
      " pg_catalog         | pg_ts_dict               | postgres   |            | t          | f        | f           | f\n",
      " pg_catalog         | pg_ts_parser             | postgres   |            | t          | f        | f           | f\n",
      " pg_catalog         | pg_ts_template           | postgres   |            | t          | f        | f           | f\n",
      " pg_catalog         | pg_extension             | postgres   |            | t          | f        | f           | f\n",
      " pg_catalog         | pg_foreign_data_wrapper  | postgres   |            | t          | f        | f           | f\n",
      " pg_catalog         | pg_foreign_server        | postgres   |            | t          | f        | f           | f\n",
      " pg_catalog         | pg_policy                | postgres   |            | t          | f        | f           | f\n",
      " pg_catalog         | pg_replication_origin    | postgres   | pg_global  | t          | f        | f           | f\n",
      " pg_catalog         | pg_default_acl           | postgres   |            | t          | f        | f           | f\n",
      " pg_catalog         | pg_init_privs            | postgres   |            | t          | f        | f           | f\n",
      " pg_catalog         | pg_seclabel              | postgres   |            | t          | f        | f           | f\n",
      " pg_catalog         | pg_shseclabel            | postgres   | pg_global  | t          | f        | f           | f\n",
      " pg_catalog         | pg_collation             | postgres   |            | t          | f        | f           | f\n",
      " pg_catalog         | pg_parameter_acl         | postgres   | pg_global  | t          | f        | f           | f\n",
      " pg_catalog         | pg_partitioned_table     | postgres   |            | t          | f        | f           | f\n",
      " pg_catalog         | pg_range                 | postgres   |            | t          | f        | f           | f\n",
      " pg_catalog         | pg_transform             | postgres   |            | t          | f        | f           | f\n",
      " pg_catalog         | pg_sequence              | postgres   |            | t          | f        | f           | f\n",
      " pg_catalog         | pg_publication           | postgres   |            | t          | f        | f           | f\n",
      " pg_catalog         | pg_publication_namespace | postgres   |            | t          | f        | f           | f\n",
      " pg_catalog         | pg_publication_rel       | postgres   |            | t          | f        | f           | f\n",
      " pg_catalog         | pg_subscription_rel      | postgres   |            | t          | f        | f           | f\n",
      " pg_catalog         | pg_largeobject           | postgres   |            | t          | f        | f           | f\n",
      " information_schema | sql_features             | postgres   |            | f          | f        | f           | f\n",
      " information_schema | sql_implementation_info  | postgres   |            | f          | f        | f           | f\n",
      " information_schema | sql_parts                | postgres   |            | f          | f        | f           | f\n",
      " information_schema | sql_sizing               | postgres   |            | f          | f        | f           | f\n",
      "(73 rows)\n",
      "\n"
     ]
    }
   ],
   "source": [
    "docker exec -i tables_properties_example psql -U postgres << EOF\n",
    "SELECT * FROM pg_catalog.pg_tables;\n",
    "EOF"
   ]
  },
  {
   "cell_type": "markdown",
   "metadata": {},
   "source": [
    "But we can impose restrictions, for example, on the `schemaname` column and get only those tables we are interested in."
   ]
  },
  {
   "cell_type": "code",
   "execution_count": 25,
   "metadata": {
    "vscode": {
     "languageId": "shellscript"
    }
   },
   "outputs": [
    {
     "name": "stdout",
     "output_type": "stream",
     "text": [
      " schemaname |   tablename   | tableowner | tablespace | hasindexes | hasrules | hastriggers | rowsecurity \n",
      "------------+---------------+------------+------------+------------+----------+-------------+-------------\n",
      " public     | list_tables_1 | postgres   |            | t          | f        | f           | f\n",
      " public     | list_tables_2 | postgres   |            | t          | f        | f           | f\n",
      " public     | list_tables_3 | postgres   |            | t          | f        | f           | f\n",
      " public     | list_tables_4 | postgres   |            | t          | f        | f           | f\n",
      " public     | list_tables_5 | postgres   |            | t          | f        | f           | f\n",
      "(5 rows)\n",
      "\n"
     ]
    }
   ],
   "source": [
    "docker exec -i tables_properties_example psql -U postgres << EOF\n",
    "SELECT * FROM pg_catalog.pg_tables WHERE schemaname='public';\n",
    "EOF"
   ]
  }
 ],
 "metadata": {
  "kernelspec": {
   "display_name": "Bash",
   "language": "bash",
   "name": "bash"
  },
  "language_info": {
   "codemirror_mode": "shell",
   "file_extension": ".sh",
   "mimetype": "text/x-sh",
   "name": "bash"
  }
 },
 "nbformat": 4,
 "nbformat_minor": 2
}