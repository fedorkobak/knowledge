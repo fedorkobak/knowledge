{
 "cells": [
  {
   "cell_type": "markdown",
   "metadata": {},
   "source": [
    "# Load/Modify\n",
    "\n",
    "This section discusses options for loading data into databases and ways to modify tables if necessary."
   ]
  },
  {
   "cell_type": "code",
   "execution_count": 1,
   "metadata": {
    "vscode": {
     "languageId": "shellscript"
    }
   },
   "outputs": [
    {
     "name": "stdout",
     "output_type": "stream",
     "text": [
      "535ec2a21e1ab2fd79d791b7c8c6ce1b91b69519fff0a9216c34017dfbb32650\n"
     ]
    }
   ],
   "source": [
    "docker run -d --rm\\\n",
    "    --name load_modify_examples_pg\\\n",
    "    -e POSTGRES_PASSWORD=postgres\\\n",
    "    postgres:15.4\n",
    "\n",
    "sleep 5"
   ]
  },
  {
   "cell_type": "markdown",
   "metadata": {},
   "source": [
    "## CRUD\n",
    "\n",
    "As a database, any system supports **C**reate, **R**ead, **U**pdate, and **D**elete operations. In this section, we review how to perform such operations on table rows:\n",
    "\n",
    "- **Create:** Use `INSERT` statements. See the [documentation](https://www.postgresql.org/docs/current/sql-insert.html).\n",
    "- **Read:** Use `SELECT` statements, which are detailed in a dedicated section of the SQL chapter.\n",
    "- **Update:** Use `UPDATE` statements. See the [documentation](https://www.postgresql.org/docs/current/sql-update.html).\n",
    "- **Delete:** Use `DELETE` statements. See the [documentation](https://www.postgresql.org/docs/8.1/sql-delete.html)."
   ]
  },
  {
   "cell_type": "markdown",
   "metadata": {
    "vscode": {
     "languageId": "shellscript"
    }
   },
   "source": [
    "---\n",
    "\n",
    "The following cell creates a table that we'll use as an example for crud operations."
   ]
  },
  {
   "cell_type": "code",
   "execution_count": 10,
   "metadata": {
    "vscode": {
     "languageId": "shellscript"
    }
   },
   "outputs": [
    {
     "name": "stdout",
     "output_type": "stream",
     "text": [
      "DROP TABLE\n",
      "CREATE TABLE\n"
     ]
    }
   ],
   "source": [
    "docker exec -i load_modify_examples_pg psql -U postgres << EOF\n",
    "-- creating table\n",
    "DROP TABLE IF EXISTS crud_table;\n",
    "CREATE TABLE crud_table (\n",
    "    col1 INT, col2 VARCHAR(20)\n",
    ");\n",
    "EOF"
   ]
  },
  {
   "cell_type": "markdown",
   "metadata": {},
   "source": [
    "The following cell shows how to use the `INSERT` operation."
   ]
  },
  {
   "cell_type": "code",
   "execution_count": 11,
   "metadata": {
    "vscode": {
     "languageId": "shellscript"
    }
   },
   "outputs": [
    {
     "name": "stdout",
     "output_type": "stream",
     "text": [
      "INSERT 0 3\n",
      " col1 | col2  \n",
      "------+-------\n",
      "    1 | one\n",
      "    2 | two\n",
      "    3 | three\n",
      "(3 rows)\n",
      "\n"
     ]
    }
   ],
   "source": [
    "docker exec -i load_modify_examples_pg psql -U postgres << EOF\n",
    "INSERT INTO crud_table(col1, col2)\n",
    "VALUES\n",
    "    (1, 'one'),\n",
    "    (2, 'two'),\n",
    "    (3, 'three');\n",
    "\n",
    "SELECT * FROM crud_table;\n",
    "EOF"
   ]
  },
  {
   "cell_type": "markdown",
   "metadata": {},
   "source": [
    "To update values in the table, use the `UPDATE` statement."
   ]
  },
  {
   "cell_type": "code",
   "execution_count": 8,
   "metadata": {
    "vscode": {
     "languageId": "shellscript"
    }
   },
   "outputs": [
    {
     "name": "stdout",
     "output_type": "stream",
     "text": [
      "UPDATE 1\n",
      " col1 |   col2   \n",
      "------+----------\n",
      "    1 | one\n",
      "    3 | three\n",
      "    2 | modified\n",
      "(3 rows)\n",
      "\n"
     ]
    }
   ],
   "source": [
    "docker exec -i load_modify_examples_pg psql -U postgres << EOF\n",
    "UPDATE crud_table SET col2='modified' WHERE col1=2;\n",
    "SELECT * FROM crud_table;\n",
    "EOF"
   ]
  },
  {
   "cell_type": "markdown",
   "metadata": {},
   "source": [
    "Finally drop records by using `DELETE` keyword."
   ]
  },
  {
   "cell_type": "code",
   "execution_count": 9,
   "metadata": {
    "vscode": {
     "languageId": "shellscript"
    }
   },
   "outputs": [
    {
     "name": "stdout",
     "output_type": "stream",
     "text": [
      "DELETE 1\n",
      " col1 |   col2   \n",
      "------+----------\n",
      "    1 | one\n",
      "    2 | modified\n",
      "(2 rows)\n",
      "\n"
     ]
    }
   ],
   "source": [
    "docker exec -i load_modify_examples_pg psql -U postgres << EOF\n",
    "DELETE FROM crud_table WHERE col1=3;\n",
    "SELECT * FROM crud_table;\n",
    "EOF"
   ]
  },
  {
   "cell_type": "markdown",
   "metadata": {},
   "source": [
    "## Loading from csv"
   ]
  },
  {
   "cell_type": "markdown",
   "metadata": {},
   "source": [
    "This section shows how data may be loaded from `csv` file. \n",
    "\n",
    "Learn more in:\n",
    "\n",
    "- [Import CSV file into PostgreSQL table](https://www.postgresqltutorial.com/postgresql-tutorial/import-csv-file-into-posgresql-table/) tutorial.\n",
    "- [COPY command](https://www.postgresql.org/docs/current/sql-copy.html) in official postgres documentation page. \n",
    "\n",
    "You can specify file in the `FROM` section `DELIMITER` and `CSV` parameters specify how file should be loaded."
   ]
  },
  {
   "cell_type": "markdown",
   "metadata": {},
   "source": [
    "---\n",
    "\n",
    "The following cell creates a CSV file in the container and reads it into the database."
   ]
  },
  {
   "cell_type": "code",
   "execution_count": 2,
   "metadata": {
    "vscode": {
     "languageId": "shellscript"
    }
   },
   "outputs": [
    {
     "name": "stdout",
     "output_type": "stream",
     "text": [
      "NOTICE:  table \"csv_example\" does not exist, skipping\n",
      "DROP TABLE\n",
      "CREATE TABLE\n",
      "COPY 4\n"
     ]
    }
   ],
   "source": [
    "docker exec -i load_modify_examples_pg sh -c \"cat > /test.csv\" << EOF\n",
    "20,Riga\n",
    "30,Vilnus\n",
    "4,Minsk\n",
    "43,Warsaw\n",
    "EOF\n",
    "\n",
    "\n",
    "docker exec -i load_modify_examples_pg psql -U postgres << EOF\n",
    "-- creating table\n",
    "DROP TABLE IF EXISTS csv_example;\n",
    "CREATE TABLE csv_example (\n",
    "    value REAL, city VARCHAR(20)\n",
    ");\n",
    "\n",
    "-- loading csv table to created table\n",
    "COPY csv_example(value, city)\n",
    "FROM '/test.csv'\n",
    "DELIMITER ','\n",
    "CSV;\n",
    "EOF"
   ]
  },
  {
   "cell_type": "markdown",
   "metadata": {},
   "source": [
    "Now let's check the obtained results:"
   ]
  },
  {
   "cell_type": "code",
   "execution_count": 3,
   "metadata": {
    "vscode": {
     "languageId": "shellscript"
    }
   },
   "outputs": [
    {
     "name": "stdout",
     "output_type": "stream",
     "text": [
      " value |  city  \n",
      "-------+--------\n",
      "    20 | Riga\n",
      "    30 | Vilnus\n",
      "     4 | Minsk\n",
      "    43 | Warsaw\n",
      "(4 rows)\n",
      "\n"
     ]
    }
   ],
   "source": [
    "docker exec -i load_modify_examples_pg psql -U postgres << EOF\n",
    "SELECT * FROM csv_example LIMIT 10;\n",
    "EOF"
   ]
  }
 ],
 "metadata": {
  "kernelspec": {
   "display_name": "Bash",
   "language": "bash",
   "name": "bash"
  },
  "language_info": {
   "codemirror_mode": "shell",
   "file_extension": ".sh",
   "mimetype": "text/x-sh",
   "name": "bash"
  }
 },
 "nbformat": 4,
 "nbformat_minor": 2
}