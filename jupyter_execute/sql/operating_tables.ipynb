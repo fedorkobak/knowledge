{
 "cells": [
  {
   "cell_type": "markdown",
   "metadata": {},
   "source": [
    "# Operating tables\n",
    "\n",
    "This section focuses on creating, fulfilling, and analyzing tables in PostgreSQL.\n",
    "\n",
    "For more infomation check:\n",
    "\n",
    "- [Manual on `CREATE TABLE`](https://www.postgresql.org/docs/current/sql-createtable.html) directive in postgreSQL."
   ]
  },
  {
   "cell_type": "code",
   "execution_count": null,
   "metadata": {},
   "outputs": [
    {
     "name": "stdout",
     "output_type": "stream",
     "text": [
      "c5fefba317fe96b98bff03f96e05c92d6ea2c446aa6d249b0478007988e0fa83\n"
     ]
    }
   ],
   "source": [
    "docker run -d --rm\\\n",
    "    --name building_tables_examples_pg\\\n",
    "    -e POSTGRES_PASSWORD=postgres\\\n",
    "    postgres:15.4\n",
    "\n",
    "sleep 5"
   ]
  },
  {
   "cell_type": "markdown",
   "metadata": {},
   "source": [
    "**Note**: Don't forget to stop the experimental container afterward."
   ]
  },
  {
   "cell_type": "code",
   "execution_count": null,
   "metadata": {},
   "outputs": [
    {
     "name": "stdout",
     "output_type": "stream",
     "text": [
      "building_tables_examples_pg\n"
     ]
    }
   ],
   "source": [
    "docker stop building_tables_examples_pg"
   ]
  },
  {
   "cell_type": "markdown",
   "metadata": {},
   "source": [
    "## Default values\n",
    "\n",
    "You can define default values that will be used during table creation. You need to use the `DEFAULT` keyword after specifying the column type, followed by the value that the column should take.\n",
    "\n",
    "An important practical nuance is that you can use expressions as values for DEFAULT. These are used when new table records are created.\n",
    "\n",
    "Check more:\n",
    "\n",
    "- [Page \"Default Values\"](https://www.postgresql.org/docs/current/ddl-default.html) on the official postgreSQL manual. "
   ]
  },
  {
   "cell_type": "markdown",
   "metadata": {},
   "source": [
    "---\n",
    "\n",
    "In the following example, a table is created that defines `DEFAULT` values for columns of different data types:\n",
    "\n",
    "In the following example, a table is created with columns of different data types, and `DEFAULT` values are assigned to each. Specifically:\n",
    "\n",
    "- For `BOOL`, `REAL` and `JSONB` data types, **literal values** are used as defaults.\n",
    "- For `TIMESTAMP`, the **`NOW()` function** is used as a default expression, which returns the current timestamp at the moment of insertion."
   ]
  },
  {
   "cell_type": "code",
   "execution_count": 1,
   "metadata": {},
   "outputs": [
    {
     "name": "stdout",
     "output_type": "stream",
     "text": [
      "NOTICE: table \"default_values_example\" does not exist, skipping\n",
      "DROP TABLE\n",
      "CREATE TABLE\n"
     ]
    }
   ],
   "source": [
    "--postgreSQL\n",
    "DROP TABLE IF EXISTS default_values_example;\n",
    "CREATE TABLE default_values_example (\n",
    "    bool_value BOOL DEFAULT True,\n",
    "    real_value REAL DEFAULT 10,\n",
    "    date_time TIMESTAMP WITHOUT TIME ZONE DEFAULT NOW(),\n",
    "    json_type JSONB DEFAULT '{\"A\": 10, \"B\": 20}'\n",
    ")"
   ]
  },
  {
   "cell_type": "markdown",
   "metadata": {},
   "source": [
    "The follwing cell shows inserting to the tables procedure. With sepecifying `DEFAULT` instead of columns names you can create row with totaly default values."
   ]
  },
  {
   "cell_type": "code",
   "execution_count": 2,
   "metadata": {},
   "outputs": [
    {
     "name": "stdout",
     "output_type": "stream",
     "text": [
      "INSERT 0 1\n"
     ]
    }
   ],
   "source": [
    "--postgreSQL\n",
    "INSERT INTO default_values_example DEFAULT VALUES;"
   ]
  },
  {
   "cell_type": "markdown",
   "metadata": {},
   "source": [
    "Or you can specify only some of the columns; the others will use their default values:"
   ]
  },
  {
   "cell_type": "code",
   "execution_count": 4,
   "metadata": {},
   "outputs": [
    {
     "name": "stdout",
     "output_type": "stream",
     "text": [
      "INSERT 0 2\n"
     ]
    }
   ],
   "source": [
    "--postgreSQL\n",
    "INSERT INTO default_values_example(bool_value, real_value) \n",
    "VALUES\n",
    "    (false, 30),\n",
    "    (false, 32);"
   ]
  },
  {
   "cell_type": "markdown",
   "metadata": {},
   "source": [
    "The following cell displays the table that we obtained at the end."
   ]
  },
  {
   "cell_type": "code",
   "execution_count": 5,
   "metadata": {},
   "outputs": [
    {
     "name": "stdout",
     "output_type": "stream",
     "text": [
      "SELECT 3\n"
     ]
    },
    {
     "data": {
      "text/html": [
       "<table>\n",
       "<thead>\n",
       "<tr><th>bool_value  </th><th style=\"text-align: right;\">  real_value</th><th>date_time                 </th><th>json_type         </th></tr>\n",
       "</thead>\n",
       "<tbody>\n",
       "<tr><td>True        </td><td style=\"text-align: right;\">          10</td><td>2025-05-10 17:12:59.923168</td><td>{&#x27;A&#x27;: 10, &#x27;B&#x27;: 20}</td></tr>\n",
       "<tr><td>False       </td><td style=\"text-align: right;\">          30</td><td>2025-05-10 17:12:59.923168</td><td>{&#x27;A&#x27;: 10, &#x27;B&#x27;: 20}</td></tr>\n",
       "<tr><td>False       </td><td style=\"text-align: right;\">          32</td><td>2025-05-10 17:12:59.923168</td><td>{&#x27;A&#x27;: 10, &#x27;B&#x27;: 20}</td></tr>\n",
       "</tbody>\n",
       "</table>"
      ],
      "text/latex": [
       "\\begin{tabular}{lrll}\n",
       "\\toprule\n",
       " bool\\_value   &   real\\_value & date\\_time                  & json\\_type          \\\\\n",
       "\\midrule\n",
       " True         &           10 & 2025-05-10 17:12:59.923168 & \\{'A': 10, 'B': 20\\} \\\\\n",
       " False        &           30 & 2025-05-10 17:12:59.923168 & \\{'A': 10, 'B': 20\\} \\\\\n",
       " False        &           32 & 2025-05-10 17:12:59.923168 & \\{'A': 10, 'B': 20\\} \\\\\n",
       "\\bottomrule\n",
       "\\end{tabular}"
      ],
      "text/plain": [
       "bool_value      real_value  date_time                   json_type\n",
       "------------  ------------  --------------------------  ------------------\n",
       "True                    10  2025-05-10 17:12:59.923168  {'A': 10, 'B': 20}\n",
       "False                   30  2025-05-10 17:12:59.923168  {'A': 10, 'B': 20}\n",
       "False                   32  2025-05-10 17:12:59.923168  {'A': 10, 'B': 20}"
      ]
     },
     "metadata": {},
     "output_type": "display_data"
    }
   ],
   "source": [
    "--postgreSQL\n",
    "SELECT * FROM default_values_example;"
   ]
  },
  {
   "cell_type": "markdown",
   "metadata": {},
   "source": [
    "## Tables properties\n",
    "\n",
    "It's a typical task to analyze your tables. This section considers questions associated with columns in tables, their types, and other properties. For more check [special page](operating_tables/tables_properties.ipynb)."
   ]
  },
  {
   "cell_type": "markdown",
   "metadata": {},
   "source": [
    "---\n",
    "\n",
    "The following cell shows an example of how you can list all tables available in your database by using the `\\dt` command."
   ]
  },
  {
   "cell_type": "code",
   "execution_count": null,
   "metadata": {},
   "outputs": [
    {
     "name": "stdout",
     "output_type": "stream",
     "text": [
      "Error response from daemon: No such container: building_tables_examples_pg\n"
     ]
    },
    {
     "ename": "",
     "evalue": "1",
     "output_type": "error",
     "traceback": []
    }
   ],
   "source": [
    "docker exec -i building_tables_examples_pg psql -U postgres << EOF\n",
    "\\dt\n",
    "EOF"
   ]
  },
  {
   "cell_type": "markdown",
   "metadata": {},
   "source": [
    "## Indexes\n",
    "\n",
    "Indexing in PostgreSQL is a way to increase the performance of queries, but it adds overhead to the database system as a whole.\n",
    "\n",
    "For more information, check the [corresponding chapter](https://www.postgresql.org/docs/current/indexes.html) in the PostgreSQL documentation."
   ]
  },
  {
   "cell_type": "markdown",
   "metadata": {},
   "source": [
    "---\n",
    "\n",
    "The following cell creates a table that contains a relatively large number of rows. An index is added to one of the columns (`indexed_id`)."
   ]
  },
  {
   "cell_type": "code",
   "execution_count": 6,
   "metadata": {},
   "outputs": [
    {
     "name": "stdout",
     "output_type": "stream",
     "text": [
      "NOTICE: table \"indexes_example\" does not exist, skipping\n",
      "DROP TABLE\n",
      "CREATE TABLE\n",
      "INSERT 0 1000000\n",
      "CREATE INDEX\n"
     ]
    }
   ],
   "source": [
    "--postgreSQL\n",
    "DROP TABLE IF EXISTS indexes_example;\n",
    "CREATE TABLE indexes_example (just_id integer, indexed_id integer, content varchar);\n",
    "\n",
    "INSERT INTO \n",
    "    indexes_example (just_id, indexed_id, content)\n",
    "SELECT\n",
    "    (random()*100)::INT,\n",
    "    (random()*100)::INT,\n",
    "    chr(65 + floor(random()*26)::INT)\n",
    "FROM\n",
    "    generate_series(1, 1000000);\n",
    "\n",
    "CREATE INDEX test_index ON indexes_example (indexed_id);"
   ]
  },
  {
   "cell_type": "markdown",
   "metadata": {},
   "source": [
    "Now let's compare the performance of the query that adds conditions under the `just_id` column."
   ]
  },
  {
   "cell_type": "code",
   "execution_count": 7,
   "metadata": {},
   "outputs": [
    {
     "name": "stdout",
     "output_type": "stream",
     "text": [
      "EXPLAIN\n"
     ]
    },
    {
     "data": {
      "text/html": [
       "<table>\n",
       "<thead>\n",
       "<tr><th>QUERY PLAN                                                                                                                      </th></tr>\n",
       "</thead>\n",
       "<tbody>\n",
       "<tr><td>Gather  (cost=1000.00..12114.33 rows=5000 width=40) (actual time=0.168..28.916 rows=9869 loops=1)                               </td></tr>\n",
       "<tr><td>Workers Planned: 2                                                                                                              </td></tr>\n",
       "<tr><td>Workers Launched: 2                                                                                                             </td></tr>\n",
       "<tr><td>-&gt;  Parallel Seq Scan on indexes_example  (cost=0.00..10614.33 rows=2083 width=40) (actual time=0.025..22.682 rows=3290 loops=3)</td></tr>\n",
       "<tr><td>Filter: (just_id = 50)                                                                                                          </td></tr>\n",
       "<tr><td>Rows Removed by Filter: 330044                                                                                                  </td></tr>\n",
       "<tr><td>Planning Time: 0.168 ms                                                                                                         </td></tr>\n",
       "<tr><td>Execution Time: 29.217 ms                                                                                                       </td></tr>\n",
       "</tbody>\n",
       "</table>"
      ],
      "text/latex": [
       "\\begin{tabular}{l}\n",
       "\\toprule\n",
       " QUERY PLAN                                                                                                                       \\\\\n",
       "\\midrule\n",
       " Gather  (cost=1000.00..12114.33 rows=5000 width=40) (actual time=0.168..28.916 rows=9869 loops=1)                                \\\\\n",
       " Workers Planned: 2                                                                                                               \\\\\n",
       " Workers Launched: 2                                                                                                              \\\\\n",
       " -\\ensuremath{>}  Parallel Seq Scan on indexes\\_example  (cost=0.00..10614.33 rows=2083 width=40) (actual time=0.025..22.682 rows=3290 loops=3) \\\\\n",
       " Filter: (just\\_id = 50)                                                                                                           \\\\\n",
       " Rows Removed by Filter: 330044                                                                                                   \\\\\n",
       " Planning Time: 0.168 ms                                                                                                          \\\\\n",
       " Execution Time: 29.217 ms                                                                                                        \\\\\n",
       "\\bottomrule\n",
       "\\end{tabular}"
      ],
      "text/plain": [
       "QUERY PLAN\n",
       "--------------------------------------------------------------------------------------------------------------------------------\n",
       "Gather  (cost=1000.00..12114.33 rows=5000 width=40) (actual time=0.168..28.916 rows=9869 loops=1)\n",
       "Workers Planned: 2\n",
       "Workers Launched: 2\n",
       "->  Parallel Seq Scan on indexes_example  (cost=0.00..10614.33 rows=2083 width=40) (actual time=0.025..22.682 rows=3290 loops=3)\n",
       "Filter: (just_id = 50)\n",
       "Rows Removed by Filter: 330044\n",
       "Planning Time: 0.168 ms\n",
       "Execution Time: 29.217 ms"
      ]
     },
     "metadata": {},
     "output_type": "display_data"
    }
   ],
   "source": [
    "--postgreSQL\n",
    "EXPLAIN ANALYZE SELECT * FROM indexes_example WHERE just_id=50;"
   ]
  },
  {
   "cell_type": "markdown",
   "metadata": {},
   "source": [
    "And the query that adds conditions under the `indexed_id` column."
   ]
  },
  {
   "cell_type": "code",
   "execution_count": 8,
   "metadata": {},
   "outputs": [
    {
     "name": "stdout",
     "output_type": "stream",
     "text": [
      "EXPLAIN\n"
     ]
    },
    {
     "data": {
      "text/html": [
       "<table>\n",
       "<thead>\n",
       "<tr><th>QUERY PLAN                                                                                                                </th></tr>\n",
       "</thead>\n",
       "<tbody>\n",
       "<tr><td>Bitmap Heap Scan on indexes_example  (cost=59.17..5640.65 rows=5000 width=40) (actual time=1.246..5.600 rows=9967 loops=1)</td></tr>\n",
       "<tr><td>Recheck Cond: (indexed_id = 50)                                                                                           </td></tr>\n",
       "<tr><td>Heap Blocks: exact=4580                                                                                                   </td></tr>\n",
       "<tr><td>-&gt;  Bitmap Index Scan on test_index  (cost=0.00..57.92 rows=5000 width=0) (actual time=0.627..0.627 rows=9967 loops=1)    </td></tr>\n",
       "<tr><td>Index Cond: (indexed_id = 50)                                                                                             </td></tr>\n",
       "<tr><td>Planning Time: 0.059 ms                                                                                                   </td></tr>\n",
       "<tr><td>Execution Time: 5.880 ms                                                                                                  </td></tr>\n",
       "</tbody>\n",
       "</table>"
      ],
      "text/latex": [
       "\\begin{tabular}{l}\n",
       "\\toprule\n",
       " QUERY PLAN                                                                                                                 \\\\\n",
       "\\midrule\n",
       " Bitmap Heap Scan on indexes\\_example  (cost=59.17..5640.65 rows=5000 width=40) (actual time=1.246..5.600 rows=9967 loops=1) \\\\\n",
       " Recheck Cond: (indexed\\_id = 50)                                                                                            \\\\\n",
       " Heap Blocks: exact=4580                                                                                                    \\\\\n",
       " -\\ensuremath{>}  Bitmap Index Scan on test\\_index  (cost=0.00..57.92 rows=5000 width=0) (actual time=0.627..0.627 rows=9967 loops=1)     \\\\\n",
       " Index Cond: (indexed\\_id = 50)                                                                                              \\\\\n",
       " Planning Time: 0.059 ms                                                                                                    \\\\\n",
       " Execution Time: 5.880 ms                                                                                                   \\\\\n",
       "\\bottomrule\n",
       "\\end{tabular}"
      ],
      "text/plain": [
       "QUERY PLAN\n",
       "--------------------------------------------------------------------------------------------------------------------------\n",
       "Bitmap Heap Scan on indexes_example  (cost=59.17..5640.65 rows=5000 width=40) (actual time=1.246..5.600 rows=9967 loops=1)\n",
       "Recheck Cond: (indexed_id = 50)\n",
       "Heap Blocks: exact=4580\n",
       "->  Bitmap Index Scan on test_index  (cost=0.00..57.92 rows=5000 width=0) (actual time=0.627..0.627 rows=9967 loops=1)\n",
       "Index Cond: (indexed_id = 50)\n",
       "Planning Time: 0.059 ms\n",
       "Execution Time: 5.880 ms"
      ]
     },
     "metadata": {},
     "output_type": "display_data"
    }
   ],
   "source": [
    "--postgreSQL\n",
    "EXPLAIN ANALYZE SELECT * FROM indexes_example WHERE indexed_id=50;"
   ]
  },
  {
   "cell_type": "markdown",
   "metadata": {},
   "source": [
    "The second query typically executes faster."
   ]
  }
 ],
 "metadata": {
  "kernelspec": {
   "display_name": "UniversalSQL",
   "language": "sql",
   "name": "universal_sql"
  },
  "language_info": {
   "file_extentions": ".sql",
   "mimetype": "text/plain",
   "name": "sql"
  }
 },
 "nbformat": 4,
 "nbformat_minor": 2
}