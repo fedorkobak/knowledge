{
 "cells": [
  {
   "cell_type": "markdown",
   "id": "298935cc-586a-43f4-83c6-1f9e836d1d73",
   "metadata": {},
   "source": [
    "# Create database\n",
    "\n",
    "This page discusses issue of creating databases in postgres instance using python scripts."
   ]
  },
  {
   "cell_type": "markdown",
   "id": "195f54e6-276c-459f-9403-41ed5ef100c9",
   "metadata": {},
   "source": [
    "In the following cell, a postgres instance has been deployed in a docker container. No databases were mentioned during creation. Final command shows databases available in just created postgres instance, there are some database looks like it is required by postgres by default."
   ]
  },
  {
   "cell_type": "code",
   "execution_count": 8,
   "id": "c16f8877-e324-4551-817f-05ade4ba2ffe",
   "metadata": {},
   "outputs": [
    {
     "name": "stdout",
     "output_type": "stream",
     "text": [
      "                                                    List of databases\n",
      "    Name    |   Owner    | Encoding |  Collate   |   Ctype    | ICU Locale | Locale Provider |     Access privileges     \n",
      "------------+------------+----------+------------+------------+------------+-----------------+---------------------------\n",
      " docker_app | docker_app | UTF8     | en_US.utf8 | en_US.utf8 |            | libc            | \n",
      " postgres   | docker_app | UTF8     | en_US.utf8 | en_US.utf8 |            | libc            | \n",
      " template0  | docker_app | UTF8     | en_US.utf8 | en_US.utf8 |            | libc            | =c/docker_app            +\n",
      "            |            |          |            |            |            |                 | docker_app=CTc/docker_app\n",
      " template1  | docker_app | UTF8     | en_US.utf8 | en_US.utf8 |            | libc            | =c/docker_app            +\n",
      "            |            |          |            |            |            |                 | docker_app=CTc/docker_app\n",
      "(4 rows)\n",
      "\n"
     ]
    }
   ],
   "source": [
    "%%bash\n",
    "docker run --rm -d\\\n",
    "    -e POSTGRES_USER=docker_app\\\n",
    "    -e POSTGRES_PASSWORD=docker_app\\\n",
    "    --name test_postgres\\\n",
    "    -p 5431:5432\\\n",
    "    postgres:15.4 &> /dev/null\n",
    "sleep 5\n",
    "\n",
    "docker exec test_postgres \\\n",
    "    psql --username docker_app -h localhost -p 5432 -l;"
   ]
  },
  {
   "cell_type": "markdown",
   "id": "ae475e00-c747-4c21-b965-eacc276c26b1",
   "metadata": {},
   "source": [
    "Now the central code for this page - creating new databases with `psycopg2`. Actually it looks like any other query through `psycopg` with a few features:\n",
    "\n",
    "- You don't need to specify a database to connect to;\n",
    "- You need to set `autocommit = True` for the postgres database;\n",
    "- You can use the standard sql command `CREATE DATABASE` to create a database with the required name.\n",
    "\n",
    "So in the following cell I just add 10 new databases to the postgres instance."
   ]
  },
  {
   "cell_type": "code",
   "execution_count": 9,
   "id": "6fc40575-f538-44fa-b2db-8f34e6a8e38b",
   "metadata": {},
   "outputs": [],
   "source": [
    "import psycopg2\n",
    "\n",
    "conn = psycopg2.connect(\n",
    "    port = \"5431\", # same as when creating a postgres container\n",
    "    user = \"docker_app\",\n",
    "    password = \"docker_app\",\n",
    "    host= \"localhost\"\n",
    ")\n",
    "\n",
    "conn.autocommit = True\n",
    "cur = conn.cursor()\n",
    "for i in range(10): cur.execute(f'CREATE DATABASE test_database{i+1}')\n",
    "\n",
    "# close connection\n",
    "cur.close()\n",
    "conn.close()"
   ]
  },
  {
   "cell_type": "markdown",
   "id": "d05e1b52-cafd-4cca-ab21-0fcdac670b93",
   "metadata": {},
   "source": [
    "Let's check the database list now - we have 10 more databases."
   ]
  },
  {
   "cell_type": "code",
   "execution_count": 10,
   "id": "a99f354c-4779-4a62-b83a-00246db7dc34",
   "metadata": {},
   "outputs": [
    {
     "name": "stdout",
     "output_type": "stream",
     "text": [
      "                                                      List of databases\n",
      "      Name       |   Owner    | Encoding |  Collate   |   Ctype    | ICU Locale | Locale Provider |     Access privileges     \n",
      "-----------------+------------+----------+------------+------------+------------+-----------------+---------------------------\n",
      " docker_app      | docker_app | UTF8     | en_US.utf8 | en_US.utf8 |            | libc            | \n",
      " postgres        | docker_app | UTF8     | en_US.utf8 | en_US.utf8 |            | libc            | \n",
      " template0       | docker_app | UTF8     | en_US.utf8 | en_US.utf8 |            | libc            | =c/docker_app            +\n",
      "                 |            |          |            |            |            |                 | docker_app=CTc/docker_app\n",
      " template1       | docker_app | UTF8     | en_US.utf8 | en_US.utf8 |            | libc            | =c/docker_app            +\n",
      "                 |            |          |            |            |            |                 | docker_app=CTc/docker_app\n",
      " test_database1  | docker_app | UTF8     | en_US.utf8 | en_US.utf8 |            | libc            | \n",
      " test_database10 | docker_app | UTF8     | en_US.utf8 | en_US.utf8 |            | libc            | \n",
      " test_database2  | docker_app | UTF8     | en_US.utf8 | en_US.utf8 |            | libc            | \n",
      " test_database3  | docker_app | UTF8     | en_US.utf8 | en_US.utf8 |            | libc            | \n",
      " test_database4  | docker_app | UTF8     | en_US.utf8 | en_US.utf8 |            | libc            | \n",
      " test_database5  | docker_app | UTF8     | en_US.utf8 | en_US.utf8 |            | libc            | \n",
      " test_database6  | docker_app | UTF8     | en_US.utf8 | en_US.utf8 |            | libc            | \n",
      " test_database7  | docker_app | UTF8     | en_US.utf8 | en_US.utf8 |            | libc            | \n",
      " test_database8  | docker_app | UTF8     | en_US.utf8 | en_US.utf8 |            | libc            | \n",
      " test_database9  | docker_app | UTF8     | en_US.utf8 | en_US.utf8 |            | libc            | \n",
      "(14 rows)\n",
      "\n"
     ]
    }
   ],
   "source": [
    "%%bash\n",
    "docker exec test_postgres \\\n",
    "    psql --username docker_app -h localhost -p 5432 -c '\\l';"
   ]
  },
  {
   "cell_type": "code",
   "execution_count": 7,
   "id": "0c707c75-704b-4d90-8520-64d20819158f",
   "metadata": {},
   "outputs": [
    {
     "name": "stdout",
     "output_type": "stream",
     "text": [
      "test_postgres\n"
     ]
    }
   ],
   "source": [
    "%%bash\n",
    "docker stop test_postgres"
   ]
  }
 ],
 "metadata": {
  "kernelspec": {
   "display_name": "Python 3 (ipykernel)",
   "language": "python",
   "name": "python3"
  },
  "language_info": {
   "codemirror_mode": {
    "name": "ipython",
    "version": 3
   },
   "file_extension": ".py",
   "mimetype": "text/x-python",
   "name": "python",
   "nbconvert_exporter": "python",
   "pygments_lexer": "ipython3",
   "version": "3.10.12"
  }
 },
 "nbformat": 4,
 "nbformat_minor": 5
}