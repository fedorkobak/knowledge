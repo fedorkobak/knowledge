{
 "cells": [
  {
   "cell_type": "markdown",
   "id": "25abe791-2d00-4036-99bd-7630d9f9483c",
   "metadata": {},
   "source": [
    "# Special cases\n",
    "\n",
    "In this section, I'll describe some common tasks associated with posgres and their solutions.\n",
    "\n",
    "The following cell creates all needed for examples in this page."
   ]
  },
  {
   "cell_type": "code",
   "execution_count": 1,
   "id": "ca5c30c6-64fe-48bd-96a0-c29f03017cd7",
   "metadata": {},
   "outputs": [
    {
     "name": "stdout",
     "output_type": "stream",
     "text": [
      "CREATE TABLE\n",
      "INSERT 0 3\n"
     ]
    }
   ],
   "source": [
    "%%bash\n",
    "docker run --rm -d\\\n",
    "    -e POSTGRES_PASSWORD=postgres \\\n",
    "    --name special_cases \\\n",
    "    postgres:15.4 &> /dev/null\n",
    "sleep 5\n",
    "docker exec -i special_cases psql -U postgres -d postgres\n",
    "\n",
    "CREATE TABLE simple_table(\n",
    "    id TEXT NOT NULL,\n",
    "    text TEXT NOT NULL\n",
    ");\n",
    "INSERT INTO simple_table (id, text) VALUES\n",
    "(0, 'Text1'),\n",
    "(1, 'tExT2'),\n",
    "(3, 'TEXT3');"
   ]
  },
  {
   "cell_type": "markdown",
   "id": "f0eb6902-7778-4297-8423-0a694bb66493",
   "metadata": {},
   "source": [
    "**The table to be used for the experiments.**"
   ]
  },
  {
   "cell_type": "code",
   "execution_count": 7,
   "id": "2ee3da71-a47d-4d5d-9d40-b4da39391076",
   "metadata": {},
   "outputs": [
    {
     "name": "stdout",
     "output_type": "stream",
     "text": [
      " id | text  \n",
      "----+-------\n",
      " 0  | Text1\n",
      " 1  | tExT2\n",
      " 3  | TEXT3\n",
      "(3 rows)\n",
      "\n"
     ]
    }
   ],
   "source": [
    "%%bash \n",
    "docker exec -i special_cases psql -U postgres -d postgres\n",
    "\n",
    "SELECT * FROM simple_table;"
   ]
  },
  {
   "cell_type": "markdown",
   "id": "36762aa1-b89d-4d85-858b-2c4dcae9eaf5",
   "metadata": {},
   "source": [
    "**Stop container!** After playing with examples, you should turn it off with the following command."
   ]
  },
  {
   "cell_type": "code",
   "execution_count": 61,
   "id": "edf242ee-2fe2-4e77-afb5-c6e78198aae5",
   "metadata": {},
   "outputs": [],
   "source": [
    "!docker stop special_cases &> /dev/null"
   ]
  },
  {
   "cell_type": "markdown",
   "id": "1dcbc3d5-d0bf-474b-be6f-46e04be54a81",
   "metadata": {},
   "source": [
    "## Columns names\n",
    "\n",
    "To get names of all columns you should use `SELECT column_name FROM information_schema.columns WHERE table_name=`. Just like in following example:"
   ]
  },
  {
   "cell_type": "code",
   "execution_count": 8,
   "id": "2f4ed4bb-1cdd-4457-9db5-3e29c91d0173",
   "metadata": {},
   "outputs": [
    {
     "name": "stdout",
     "output_type": "stream",
     "text": [
      " column_name \n",
      "-------------\n",
      " id\n",
      " text\n",
      "(2 rows)\n",
      "\n"
     ]
    }
   ],
   "source": [
    "%%bash \n",
    "docker exec -i special_cases psql -U postgres -d postgres\n",
    "\n",
    "SELECT column_name\n",
    "FROM information_schema.columns\n",
    "WHERE table_name = 'simple_table';"
   ]
  },
  {
   "cell_type": "markdown",
   "id": "8e1fc30e-1379-4b34-9c75-c1bb00369901",
   "metadata": {},
   "source": [
    "## Count raws\n",
    "\n",
    "To get counts of observations in table you can use command: `SELECT COUNT(*) FROM <table_name>`."
   ]
  },
  {
   "cell_type": "code",
   "execution_count": 9,
   "id": "6b2c8757-4cbb-481c-9362-de2c81a97a24",
   "metadata": {},
   "outputs": [
    {
     "name": "stdout",
     "output_type": "stream",
     "text": [
      " count \n",
      "-------\n",
      "     3\n",
      "(1 row)\n",
      "\n"
     ]
    }
   ],
   "source": [
    "%%bash \n",
    "docker exec -i special_cases psql -U postgres -d postgres\n",
    "\n",
    "SELECT COUNT(*) FROM simple_table"
   ]
  },
  {
   "cell_type": "markdown",
   "id": "97ed3f11-7a3b-42af-a675-72a0931ab52e",
   "metadata": {},
   "source": [
    "## List tables\n",
    "\n",
    "It's a common task to list all available tables for the current database. So in this section I want to mention some options."
   ]
  },
  {
   "cell_type": "markdown",
   "id": "4ab78cfd-93ac-442d-87d4-4699f093fbaf",
   "metadata": {},
   "source": [
    "### `\\dt`\n",
    "\n",
    "Very simple method, but it doesn't always work."
   ]
  },
  {
   "cell_type": "code",
   "execution_count": 2,
   "id": "b065f453-b280-4256-a9bd-109b62731e71",
   "metadata": {},
   "outputs": [
    {
     "name": "stdout",
     "output_type": "stream",
     "text": [
      "            List of relations\n",
      " Schema |     Name     | Type  |  Owner   \n",
      "--------+--------------+-------+----------\n",
      " public | simple_table | table | postgres\n",
      "(1 row)\n",
      "\n"
     ]
    }
   ],
   "source": [
    "%%bash \n",
    "docker exec -i special_cases psql -U postgres -d postgres\n",
    "\\dt;"
   ]
  },
  {
   "cell_type": "markdown",
   "id": "5beda3c9-b634-47af-8d28-e2fac86f04c0",
   "metadata": {},
   "source": [
    "### pg_catalog.pg_tables table\n",
    "\n",
    "This is a service table that contains the tables available for this base. "
   ]
  },
  {
   "cell_type": "markdown",
   "id": "b8c8f73d-12fa-4066-9c67-29b5811e1ff1",
   "metadata": {},
   "source": [
    "In the following example, I have simply selected everything from it. By default it contains some service tables."
   ]
  },
  {
   "cell_type": "code",
   "execution_count": 3,
   "id": "82f5f697-0763-49a4-8795-cf108df6b4b3",
   "metadata": {},
   "outputs": [
    {
     "name": "stdout",
     "output_type": "stream",
     "text": [
      "     schemaname     |        tablename         | tableowner | tablespace | hasindexes | hasrules | hastriggers | rowsecurity \n",
      "--------------------+--------------------------+------------+------------+------------+----------+-------------+-------------\n",
      " public             | simple_table             | postgres   |            | f          | f        | f           | f\n",
      " pg_catalog         | pg_statistic             | postgres   |            | t          | f        | f           | f\n",
      " pg_catalog         | pg_type                  | postgres   |            | t          | f        | f           | f\n",
      " pg_catalog         | pg_foreign_table         | postgres   |            | t          | f        | f           | f\n",
      " pg_catalog         | pg_authid                | postgres   | pg_global  | t          | f        | f           | f\n",
      " pg_catalog         | pg_statistic_ext_data    | postgres   |            | t          | f        | f           | f\n",
      " pg_catalog         | pg_user_mapping          | postgres   |            | t          | f        | f           | f\n",
      " pg_catalog         | pg_subscription          | postgres   | pg_global  | t          | f        | f           | f\n",
      " pg_catalog         | pg_attribute             | postgres   |            | t          | f        | f           | f\n",
      " pg_catalog         | pg_proc                  | postgres   |            | t          | f        | f           | f\n",
      " pg_catalog         | pg_class                 | postgres   |            | t          | f        | f           | f\n",
      " pg_catalog         | pg_attrdef               | postgres   |            | t          | f        | f           | f\n",
      " pg_catalog         | pg_constraint            | postgres   |            | t          | f        | f           | f\n",
      " pg_catalog         | pg_inherits              | postgres   |            | t          | f        | f           | f\n",
      " pg_catalog         | pg_index                 | postgres   |            | t          | f        | f           | f\n",
      " pg_catalog         | pg_operator              | postgres   |            | t          | f        | f           | f\n",
      " pg_catalog         | pg_opfamily              | postgres   |            | t          | f        | f           | f\n",
      " pg_catalog         | pg_opclass               | postgres   |            | t          | f        | f           | f\n",
      " pg_catalog         | pg_am                    | postgres   |            | t          | f        | f           | f\n",
      " pg_catalog         | pg_amop                  | postgres   |            | t          | f        | f           | f\n",
      " pg_catalog         | pg_amproc                | postgres   |            | t          | f        | f           | f\n",
      " pg_catalog         | pg_language              | postgres   |            | t          | f        | f           | f\n",
      " pg_catalog         | pg_largeobject_metadata  | postgres   |            | t          | f        | f           | f\n",
      " pg_catalog         | pg_aggregate             | postgres   |            | t          | f        | f           | f\n",
      " pg_catalog         | pg_statistic_ext         | postgres   |            | t          | f        | f           | f\n",
      " pg_catalog         | pg_rewrite               | postgres   |            | t          | f        | f           | f\n",
      " pg_catalog         | pg_trigger               | postgres   |            | t          | f        | f           | f\n",
      " pg_catalog         | pg_event_trigger         | postgres   |            | t          | f        | f           | f\n",
      " pg_catalog         | pg_description           | postgres   |            | t          | f        | f           | f\n",
      " pg_catalog         | pg_cast                  | postgres   |            | t          | f        | f           | f\n",
      " pg_catalog         | pg_enum                  | postgres   |            | t          | f        | f           | f\n",
      " pg_catalog         | pg_namespace             | postgres   |            | t          | f        | f           | f\n",
      " pg_catalog         | pg_conversion            | postgres   |            | t          | f        | f           | f\n",
      " pg_catalog         | pg_depend                | postgres   |            | t          | f        | f           | f\n",
      " pg_catalog         | pg_database              | postgres   | pg_global  | t          | f        | f           | f\n",
      " pg_catalog         | pg_db_role_setting       | postgres   | pg_global  | t          | f        | f           | f\n",
      " pg_catalog         | pg_tablespace            | postgres   | pg_global  | t          | f        | f           | f\n",
      " pg_catalog         | pg_auth_members          | postgres   | pg_global  | t          | f        | f           | f\n",
      " pg_catalog         | pg_shdepend              | postgres   | pg_global  | t          | f        | f           | f\n",
      " pg_catalog         | pg_shdescription         | postgres   | pg_global  | t          | f        | f           | f\n",
      " pg_catalog         | pg_ts_config             | postgres   |            | t          | f        | f           | f\n",
      " pg_catalog         | pg_ts_config_map         | postgres   |            | t          | f        | f           | f\n",
      " pg_catalog         | pg_ts_dict               | postgres   |            | t          | f        | f           | f\n",
      " pg_catalog         | pg_ts_parser             | postgres   |            | t          | f        | f           | f\n",
      " pg_catalog         | pg_ts_template           | postgres   |            | t          | f        | f           | f\n",
      " pg_catalog         | pg_extension             | postgres   |            | t          | f        | f           | f\n",
      " pg_catalog         | pg_foreign_data_wrapper  | postgres   |            | t          | f        | f           | f\n",
      " pg_catalog         | pg_foreign_server        | postgres   |            | t          | f        | f           | f\n",
      " pg_catalog         | pg_policy                | postgres   |            | t          | f        | f           | f\n",
      " pg_catalog         | pg_replication_origin    | postgres   | pg_global  | t          | f        | f           | f\n",
      " pg_catalog         | pg_default_acl           | postgres   |            | t          | f        | f           | f\n",
      " pg_catalog         | pg_init_privs            | postgres   |            | t          | f        | f           | f\n",
      " pg_catalog         | pg_seclabel              | postgres   |            | t          | f        | f           | f\n",
      " pg_catalog         | pg_shseclabel            | postgres   | pg_global  | t          | f        | f           | f\n",
      " pg_catalog         | pg_collation             | postgres   |            | t          | f        | f           | f\n",
      " pg_catalog         | pg_parameter_acl         | postgres   | pg_global  | t          | f        | f           | f\n",
      " pg_catalog         | pg_partitioned_table     | postgres   |            | t          | f        | f           | f\n",
      " pg_catalog         | pg_range                 | postgres   |            | t          | f        | f           | f\n",
      " pg_catalog         | pg_transform             | postgres   |            | t          | f        | f           | f\n",
      " pg_catalog         | pg_sequence              | postgres   |            | t          | f        | f           | f\n",
      " pg_catalog         | pg_publication           | postgres   |            | t          | f        | f           | f\n",
      " pg_catalog         | pg_publication_namespace | postgres   |            | t          | f        | f           | f\n",
      " pg_catalog         | pg_publication_rel       | postgres   |            | t          | f        | f           | f\n",
      " pg_catalog         | pg_subscription_rel      | postgres   |            | t          | f        | f           | f\n",
      " pg_catalog         | pg_largeobject           | postgres   |            | t          | f        | f           | f\n",
      " information_schema | sql_features             | postgres   |            | f          | f        | f           | f\n",
      " information_schema | sql_implementation_info  | postgres   |            | f          | f        | f           | f\n",
      " information_schema | sql_parts                | postgres   |            | f          | f        | f           | f\n",
      " information_schema | sql_sizing               | postgres   |            | f          | f        | f           | f\n",
      "(69 rows)\n",
      "\n"
     ]
    }
   ],
   "source": [
    "%%bash \n",
    "docker exec -i special_cases psql -U postgres -d postgres\n",
    "SELECT * FROM pg_catalog.pg_tables;"
   ]
  },
  {
   "cell_type": "markdown",
   "id": "355c99ed-322c-404b-95af-b593f98c6233",
   "metadata": {},
   "source": [
    "But we can impose restrictions, for example, on the `schemaname` column and get only those tables we are interested in."
   ]
  },
  {
   "cell_type": "code",
   "execution_count": 9,
   "id": "e240b9fb-4266-4e18-b75a-070019da5e2f",
   "metadata": {},
   "outputs": [
    {
     "name": "stdout",
     "output_type": "stream",
     "text": [
      " schemaname |  tablename   | tableowner | tablespace | hasindexes | hasrules | hastriggers | rowsecurity \n",
      "------------+--------------+------------+------------+------------+----------+-------------+-------------\n",
      " public     | simple_table | postgres   |            | f          | f        | f           | f\n",
      "(1 row)\n",
      "\n"
     ]
    }
   ],
   "source": [
    "%%bash \n",
    "docker exec -i special_cases psql -U postgres -d postgres\n",
    "SELECT * FROM pg_catalog.pg_tables WHERE schemaname='public';"
   ]
  }
 ],
 "metadata": {
  "kernelspec": {
   "display_name": "Python 3 (ipykernel)",
   "language": "python",
   "name": "python3"
  },
  "language_info": {
   "codemirror_mode": {
    "name": "ipython",
    "version": 3
   },
   "file_extension": ".py",
   "mimetype": "text/x-python",
   "name": "python",
   "nbconvert_exporter": "python",
   "pygments_lexer": "ipython3",
   "version": "3.10.12"
  }
 },
 "nbformat": 4,
 "nbformat_minor": 5
}