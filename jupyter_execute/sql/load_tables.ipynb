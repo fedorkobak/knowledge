{
 "cells": [
  {
   "cell_type": "markdown",
   "id": "82bcd319-4404-4ec7-9aa9-1c60a487024e",
   "metadata": {},
   "source": [
    "# Load tables\n",
    "\n",
    "This page is about how to read information in postgres database."
   ]
  },
  {
   "cell_type": "markdown",
   "id": "8799acde-e0b1-461b-9bf3-a724dbeaf52b",
   "metadata": {},
   "source": [
    "# CSV\n",
    "\n",
    "In this section I will show you how to load information from a csv file. Main source of information was <a href=\"https://www.postgresqltutorial.com/postgresql-tutorial/import-csv-file-into-posgresql-table/\">this page</a>.\n",
    "\n",
    "Long story short:\n",
    "\n",
    "- Create table;\n",
    "- Read \"*.csv\" file using `COPY` sql command.\n",
    "\n",
    "The following example just does all of that stuff."
   ]
  },
  {
   "cell_type": "code",
   "execution_count": 9,
   "id": "02f01e23-504b-4ddf-801f-1da6083b7bab",
   "metadata": {},
   "outputs": [
    {
     "name": "stdout",
     "output_type": "stream",
     "text": [
      "CREATE TABLE\n",
      "COPY 150\n",
      " sepallength | sepalwidth | petallength | petalwidth |    class    \n",
      "-------------+------------+-------------+------------+-------------\n",
      "         5.1 |        3.5 |         1.4 |        0.2 | Iris-setosa\n",
      "         4.9 |          3 |         1.4 |        0.2 | Iris-setosa\n",
      "         4.7 |        3.2 |         1.3 |        0.2 | Iris-setosa\n",
      "         4.6 |        3.1 |         1.5 |        0.2 | Iris-setosa\n",
      "           5 |        3.6 |         1.4 |        0.2 | Iris-setosa\n",
      "         5.4 |        3.9 |         1.7 |        0.4 | Iris-setosa\n",
      "         4.6 |        3.4 |         1.4 |        0.3 | Iris-setosa\n",
      "           5 |        3.4 |         1.5 |        0.2 | Iris-setosa\n",
      "         4.4 |        2.9 |         1.4 |        0.2 | Iris-setosa\n",
      "         4.9 |        3.1 |         1.5 |        0.1 | Iris-setosa\n",
      "(10 rows)\n",
      "\n"
     ]
    }
   ],
   "source": [
    "%%bash\n",
    "# creating a container and comming to psql command line\n",
    "docker run -d --rm\\\n",
    "    --name csv_loading_postgres\\\n",
    "    -e POSTGRES_PASSWORD=docker_app\\\n",
    "    -v ./load_tables/CSV/iris_csv.csv:/iris_csv.csv\\\n",
    "    postgres:15.4 &> /dev/null\n",
    "sleep 5\n",
    "docker exec -i csv_loading_postgres psql -U postgres -d postgres\n",
    "\n",
    "-- creating table\n",
    "CREATE TABLE main_table(\n",
    "    sepallength REAL,\n",
    "    sepalwidth REAL,\n",
    "    petallength REAL,\n",
    "    petalwidth REAL,\n",
    "    class VARCHAR(20)\n",
    ");\n",
    "-- loading csv table to created table\n",
    "COPY main_table(sepallength, sepalwidth, petallength, petalwidth,class)\n",
    "FROM '/iris_csv.csv'\n",
    "DELIMITER ','\n",
    "CSV HEADER;\n",
    "\n",
    "-- showing results\n",
    "SELECT * FROM main_table LIMIT 10;"
   ]
  },
  {
   "cell_type": "code",
   "execution_count": 10,
   "id": "4a4b1e36-6ee6-46af-8ece-ee141efb0bb6",
   "metadata": {},
   "outputs": [],
   "source": [
    "!docker stop csv_loading_postgres &> /dev/null"
   ]
  }
 ],
 "metadata": {
  "kernelspec": {
   "display_name": "Python 3 (ipykernel)",
   "language": "python",
   "name": "python3"
  },
  "language_info": {
   "codemirror_mode": {
    "name": "ipython",
    "version": 3
   },
   "file_extension": ".py",
   "mimetype": "text/x-python",
   "name": "python",
   "nbconvert_exporter": "python",
   "pygments_lexer": "ipython3",
   "version": "3.10.6"
  }
 },
 "nbformat": 4,
 "nbformat_minor": 5
}