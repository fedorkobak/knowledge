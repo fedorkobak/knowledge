{
 "cells": [
  {
   "cell_type": "markdown",
   "id": "3dd5a9c4-6919-4815-9aab-0c700677ef0b",
   "metadata": {},
   "source": [
    "# Records range (OFFSET/LIMIT)\n",
    "\n",
    "Suppose you need to select a specific range from your table. This can be achieved using the `OFFSET` and `LIMIT` functions:\n",
    "\n",
    "- The `OFFSET <N>` function instructs the query to ignore the first N records.\n",
    "- The `LIMIT <N>` function limits the query to return only the top N records."
   ]
  },
  {
   "cell_type": "markdown",
   "id": "430c59ac-07ff-43a2-af3f-f056df76a3ff",
   "metadata": {},
   "source": [
    "Consider example here is some people and they order of registration in some service."
   ]
  },
  {
   "cell_type": "code",
   "execution_count": 2,
   "id": "a04f72c4-9b01-41df-905b-4498da0b5bad",
   "metadata": {},
   "outputs": [
    {
     "name": "stdout",
     "output_type": "stream",
     "text": [
      "CREATE TABLE\n",
      "INSERT 0 20\n",
      " registration_index |   name    \n",
      "--------------------+-----------\n",
      "                  1 | Emma\n",
      "                  2 | Olivia\n",
      "                  3 | Ava\n",
      "                  4 | Isabella\n",
      "                  5 | Sophia\n",
      "                  6 | Mia\n",
      "                  7 | Charlotte\n",
      "                  8 | Amelia\n",
      "                  9 | Harper\n",
      "                 10 | Evelyn\n",
      "                 11 | Abigail\n",
      "                 12 | Emily\n",
      "                 13 | Elizabeth\n",
      "                 14 | Mila\n",
      "                 15 | Ella\n",
      "                 16 | Avery\n",
      "                 17 | Sofia\n",
      "                 18 | Camila\n",
      "                 19 | Aria\n",
      "                 20 | Scarlett\n",
      "(20 rows)\n",
      "\n"
     ]
    }
   ],
   "source": [
    "%%bash\n",
    "docker run --rm -d\\\n",
    "    -e POSTGRES_PASSWORD=docker_app \\\n",
    "    --name records_range_example \\\n",
    "    postgres:15.4 &> /dev/null\n",
    "sleep 5\n",
    "docker exec -i records_range_example psql -U postgres -d postgres\n",
    "\n",
    "CREATE TABLE tab (\n",
    "    registration_index SERIAL,\n",
    "    name TEXT\n",
    ");\n",
    "\n",
    "INSERT INTO tab (name) VALUES\n",
    "('Emma'),\n",
    "('Olivia'),\n",
    "('Ava'),\n",
    "('Isabella'),\n",
    "('Sophia'),\n",
    "('Mia'),\n",
    "('Charlotte'),\n",
    "('Amelia'),\n",
    "('Harper'),\n",
    "('Evelyn'),\n",
    "('Abigail'),\n",
    "('Emily'),\n",
    "('Elizabeth'),\n",
    "('Mila'),\n",
    "('Ella'),\n",
    "('Avery'),\n",
    "('Sofia'),\n",
    "('Camila'),\n",
    "('Aria'),\n",
    "('Scarlett');\n",
    "\n",
    "SELECT * FROM tab;"
   ]
  },
  {
   "cell_type": "markdown",
   "id": "820d8a3e-805d-4cfa-b6e6-0ba4291beb2e",
   "metadata": {},
   "source": [
    "**Note** Don't forget to stop the docker container when you're finished playing."
   ]
  },
  {
   "cell_type": "code",
   "execution_count": 13,
   "id": "f7cd92ff-b54b-42aa-b076-c1ab0113f9fd",
   "metadata": {},
   "outputs": [
    {
     "name": "stdout",
     "output_type": "stream",
     "text": [
      "records_range_example\n"
     ]
    }
   ],
   "source": [
    "!docker stop records_range_example"
   ]
  },
  {
   "cell_type": "markdown",
   "id": "c1d1bcf1-2bfc-4d50-ab58-43989cc78e77",
   "metadata": {},
   "source": [
    "## OFFSET"
   ]
  },
  {
   "cell_type": "markdown",
   "id": "82f5dab2-ff7d-4b6a-9f59-0893317edb59",
   "metadata": {},
   "source": [
    "Let's examine the `OFFSET` command individually. By utilizing the `OFFSET 10` within the query, we instruct it to disregard the first 10 records in the output."
   ]
  },
  {
   "cell_type": "code",
   "execution_count": 18,
   "id": "1f025c70-61ca-4958-b1f8-084c9dbf239c",
   "metadata": {},
   "outputs": [
    {
     "name": "stdout",
     "output_type": "stream",
     "text": [
      " registration_index |   name    \n",
      "--------------------+-----------\n",
      "                 11 | Abigail\n",
      "                 12 | Emily\n",
      "                 13 | Elizabeth\n",
      "                 14 | Mila\n",
      "                 15 | Ella\n",
      "                 16 | Avery\n",
      "                 17 | Sofia\n",
      "                 18 | Camila\n",
      "                 19 | Aria\n",
      "                 20 | Scarlett\n",
      "(10 rows)\n",
      "\n"
     ]
    }
   ],
   "source": [
    "%%bash\n",
    "docker exec -i records_range_example psql -U postgres -d postgres\n",
    "SELECT * FROM tab OFFSET 10;"
   ]
  },
  {
   "cell_type": "markdown",
   "id": "5cd863f0-afda-42e2-9283-87c8a19bc0ae",
   "metadata": {},
   "source": [
    "## LIMIT\n",
    "\n",
    "Let's discuss the `LIMIT` command separately. By applying `LIMIT 10` to the query, we instruct it to return only the first 10 records."
   ]
  },
  {
   "cell_type": "code",
   "execution_count": 3,
   "id": "ea24557d-6430-48c9-80b8-0b9df6297447",
   "metadata": {},
   "outputs": [
    {
     "name": "stdout",
     "output_type": "stream",
     "text": [
      " registration_index |   name    \n",
      "--------------------+-----------\n",
      "                  1 | Emma\n",
      "                  2 | Olivia\n",
      "                  3 | Ava\n",
      "                  4 | Isabella\n",
      "                  5 | Sophia\n",
      "                  6 | Mia\n",
      "                  7 | Charlotte\n",
      "                  8 | Amelia\n",
      "                  9 | Harper\n",
      "                 10 | Evelyn\n",
      "(10 rows)\n",
      "\n"
     ]
    }
   ],
   "source": [
    "%%bash\n",
    "docker exec -i records_range_example psql -U postgres -d postgres\n",
    "SELECT * FROM tab LIMIT 10;"
   ]
  },
  {
   "cell_type": "markdown",
   "id": "e00afced-ad28-426a-a886-ad51c4bd24d8",
   "metadata": {},
   "source": [
    "## Range\n",
    "\n",
    "Finally, by using `OFFSET 3 LIMIT 10`, we retrieve records from the output order within the range of 4 to 13. This range is determined by adding an offset of 3 to the starting record number (1+**3**=4) and limiting the result to a maximum of 10 records (3+**10**=13)."
   ]
  },
  {
   "cell_type": "code",
   "execution_count": 4,
   "id": "cb36d97a-aa4f-46be-8bfc-d1505bae9974",
   "metadata": {},
   "outputs": [
    {
     "name": "stdout",
     "output_type": "stream",
     "text": [
      " registration_index |   name    \n",
      "--------------------+-----------\n",
      "                  4 | Isabella\n",
      "                  5 | Sophia\n",
      "                  6 | Mia\n",
      "                  7 | Charlotte\n",
      "                  8 | Amelia\n",
      "                  9 | Harper\n",
      "                 10 | Evelyn\n",
      "                 11 | Abigail\n",
      "                 12 | Emily\n",
      "                 13 | Elizabeth\n",
      "(10 rows)\n",
      "\n"
     ]
    }
   ],
   "source": [
    "%%bash\n",
    "docker exec -i records_range_example psql -U postgres -d postgres\n",
    "SELECT * FROM tab OFFSET 3 LIMIT 10;"
   ]
  }
 ],
 "metadata": {
  "kernelspec": {
   "display_name": "Python 3 (ipykernel)",
   "language": "python",
   "name": "python3"
  },
  "language_info": {
   "codemirror_mode": {
    "name": "ipython",
    "version": 3
   },
   "file_extension": ".py",
   "mimetype": "text/x-python",
   "name": "python",
   "nbconvert_exporter": "python",
   "pygments_lexer": "ipython3",
   "version": "3.10.12"
  }
 },
 "nbformat": 4,
 "nbformat_minor": 5
}