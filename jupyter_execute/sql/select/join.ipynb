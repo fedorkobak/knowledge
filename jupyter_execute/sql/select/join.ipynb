{
 "cells": [
  {
   "cell_type": "markdown",
   "id": "33df1e43-4431-4eb1-9a96-a5e532fb6617",
   "metadata": {},
   "source": [
    "# JOIN\n",
    "\n",
    "Join is a keyword that allows you to combine information from different tables. It's really important, but sometimes it's hard to understand, so this whole page is about features and usecases of joins in Postgres SQL.\n",
    "\n",
    "In the following cell, I'm creating a database that will be used for all the examples on this page."
   ]
  },
  {
   "cell_type": "code",
   "execution_count": 1,
   "id": "0cdfeb5a-ccd3-4095-84be-94c48e997097",
   "metadata": {
    "vscode": {
     "languageId": "shellscript"
    }
   },
   "outputs": [
    {
     "name": "stdout",
     "output_type": "stream",
     "text": [
      "1c7078e249c4d2fd392a6063c9bcf20334edd8589b457849f49756cf76540f54\n"
     ]
    }
   ],
   "source": [
    "docker run -d --rm\\\n",
    "    --name join_example_postgres\\\n",
    "    -e POSTGRES_PASSWORD=postgres\\\n",
    "    postgres:15.4 &> /dev/null\n",
    "docker run -d --rm\\\n",
    "    --name join_example_click\\\n",
    "    clickhouse/clickhouse-server:24\n",
    "sleep 5"
   ]
  },
  {
   "cell_type": "markdown",
   "id": "e06de6c7-8b25-407f-a1a1-311e175c0344",
   "metadata": {},
   "source": [
    "**Note** Remember to close the container when you have finished playing with the examples."
   ]
  },
  {
   "cell_type": "code",
   "execution_count": 33,
   "id": "012dcba9-f6cd-4090-ac89-5b0381fbe77c",
   "metadata": {
    "vscode": {
     "languageId": "shellscript"
    }
   },
   "outputs": [
    {
     "name": "stdout",
     "output_type": "stream",
     "text": [
      "join_example_postgres\n"
     ]
    }
   ],
   "source": [
    "docker stop join_example_postgres join_example_click"
   ]
  },
  {
   "cell_type": "markdown",
   "id": "9c71a77f",
   "metadata": {},
   "source": [
    "## Join types\n",
    "\n",
    "This diagram describes the different types of joins available in SQL.\n",
    "\n",
    "![join types](join_files/join_types.png)\n",
    "\n",
    "Find out more in the [sepcific page](join/join_types.ipynb)."
   ]
  },
  {
   "cell_type": "markdown",
   "id": "88ed42c9-5c3e-4f0b-a7c4-5b365c4e6e27",
   "metadata": {},
   "source": [
    "## Short names\n",
    "\n",
    "You can use short names for the tables involved in the join to make it easier to write code. Just give the new name of the table separated by a space from the original name of the table."
   ]
  },
  {
   "cell_type": "markdown",
   "id": "b2a993e8",
   "metadata": {},
   "source": [
    "---\n",
    "\n",
    "The following cell shows how tables `table1` and `table2`, aliased as `t1` and `t2` respectively, are joined and used in a query."
   ]
  },
  {
   "cell_type": "code",
   "execution_count": 7,
   "id": "1cf191df",
   "metadata": {
    "vscode": {
     "languageId": "shellscript"
    }
   },
   "outputs": [
    {
     "name": "stdout",
     "output_type": "stream",
     "text": [
      " col1 | col2 | col1 | col2 \n",
      "------+------+------+------\n",
      "    1 | a    |    1 | A\n",
      "    2 | b    |    2 | B\n",
      "    3 | c    |    3 | C\n",
      "    4 | d    |    4 | D\n",
      "(4 rows)\n",
      "\n"
     ]
    }
   ],
   "source": [
    "docker exec -i join_example_postgres psql -U postgres -d postgres << EOF\n",
    "WITH\n",
    "\n",
    "table1(col1, col2) AS (\n",
    "    VALUES\n",
    "    (1, 'a'),\n",
    "    (2, 'b'),\n",
    "    (3, 'c'),\n",
    "    (4, 'd')\n",
    "),\n",
    "table2(col1, col2) AS (\n",
    "    VALUES\n",
    "    (1, 'A'),\n",
    "    (2, 'B'),\n",
    "    (3, 'C'),\n",
    "    (4, 'D')\n",
    ")\n",
    "\n",
    "SELECT * \n",
    "FROM \n",
    "    table1 t1 JOIN table2 t2 \n",
    "    ON (t1.col1=t2.col1);\n",
    "EOF"
   ]
  },
  {
   "cell_type": "markdown",
   "id": "9ac119cf-3d1d-4fd9-a294-7aee1efa1411",
   "metadata": {},
   "source": [
    "## Several tables\n",
    "\n",
    "You can use more than two tables in a join. Just use multiple `JOIN ... ON ...` blocks to select more information."
   ]
  },
  {
   "cell_type": "markdown",
   "id": "a7554e5e",
   "metadata": {},
   "source": [
    "---\n",
    "\n",
    "In the following example, all information is combined into a single query using multiple joins."
   ]
  },
  {
   "cell_type": "code",
   "execution_count": 17,
   "id": "178ba4d3-9d67-41e3-93c6-8753e5b585f9",
   "metadata": {
    "vscode": {
     "languageId": "shellscript"
    }
   },
   "outputs": [
    {
     "name": "stdout",
     "output_type": "stream",
     "text": [
      " col1 | col1 | col1 \n",
      "------+------+------\n",
      "    1 |    1 |    1\n",
      "    3 |    3 |    3\n",
      "(2 rows)\n",
      "\n"
     ]
    }
   ],
   "source": [
    "docker exec -i join_example_postgres psql -U postgres -d postgres << EOF\n",
    "\n",
    "WITH \n",
    "table1(col1) AS (VALUES (1), (2), (3)),\n",
    "table2(col1) AS (VALUES (1), (3), (2)),\n",
    "table3(col1) AS (VALUES (3), (1), (7))\n",
    "\n",
    "SELECT *\n",
    "FROM \n",
    "    table1\n",
    "    JOIN table2 ON table1.col1=table2.col1\n",
    "    JOIN table3 ON table1.col1=table3.col1\n",
    ";\n",
    "EOF"
   ]
  },
  {
   "cell_type": "markdown",
   "id": "b3b16a4b",
   "metadata": {},
   "source": [
    "## Accumulating all cases\n",
    "\n",
    "Consider a specific case: suppose you have different values for a key across several tables, and you need to join all possible cases from different sources. The following cell creates an abstract example that we’ll use to illustrate this case."
   ]
  },
  {
   "cell_type": "code",
   "execution_count": 13,
   "id": "69f93e11",
   "metadata": {
    "vscode": {
     "languageId": "shellscript"
    }
   },
   "outputs": [
    {
     "name": "stdout",
     "output_type": "stream",
     "text": [
      "DROP TABLE\n",
      "CREATE TABLE\n",
      "DROP TABLE\n",
      "CREATE TABLE\n",
      "DROP TABLE\n",
      "CREATE TABLE\n",
      "INSERT 0 3\n",
      "INSERT 0 3\n",
      "INSERT 0 3\n"
     ]
    }
   ],
   "source": [
    "docker exec -i join_example_postgres psql -U postgres -d postgres << EOF\n",
    "\n",
    "DROP TABLE IF EXISTS tab1;\n",
    "CREATE TABLE tab1(val1 TEXT);\n",
    "DROP TABLE IF EXISTS tab2;\n",
    "CREATE TABLE tab2(val2 TEXT);\n",
    "DROP TABLE IF EXISTS tab3;\n",
    "CREATE TABLE tab3(val3 TEXT);\n",
    "\n",
    "INSERT INTO tab1(val1) VALUES\n",
    "('a'), ('d'), ('c');\n",
    "INSERT INTO tab2(val2) VALUES\n",
    "('a'), ('b'), ('d');\n",
    "INSERT INTO tab3(val3) VALUES\n",
    "('a'), ('b'), ('e');\n",
    "\n",
    "EOF"
   ]
  },
  {
   "cell_type": "markdown",
   "id": "f48a4450",
   "metadata": {},
   "source": [
    "In three tables `tab1`, `tab2` and `tab3` there are `val` column. Tables are showen in the following cell:"
   ]
  },
  {
   "cell_type": "code",
   "execution_count": 14,
   "id": "4e93cb6f",
   "metadata": {
    "vscode": {
     "languageId": "shellscript"
    }
   },
   "outputs": [
    {
     "name": "stdout",
     "output_type": "stream",
     "text": [
      " val1 \n",
      "------\n",
      " a\n",
      " d\n",
      " c\n",
      "(3 rows)\n",
      "\n",
      " val2 \n",
      "------\n",
      " a\n",
      " b\n",
      " d\n",
      "(3 rows)\n",
      "\n",
      " val3 \n",
      "------\n",
      " a\n",
      " b\n",
      " e\n",
      "(3 rows)\n",
      "\n"
     ]
    }
   ],
   "source": [
    "docker exec -i join_example_postgres psql -U postgres -d postgres << EOF\n",
    "SELECT * FROM tab1;\n",
    "SELECT * FROM tab2;\n",
    "SELECT * FROM tab3;\n",
    "EOF"
   ]
  },
  {
   "cell_type": "markdown",
   "id": "e4fe5a14",
   "metadata": {},
   "source": [
    "Suppose we want to join records from different tables - each unique value from each table should appear uniquely in the result. The result should look like:\n",
    "\n",
    "| val | val1 | val2 | val3 |\n",
    "|-----|------|------|------|\n",
    "| a   |  a   |  a   |   a  |\n",
    "| b   |      |  b   |   b  |\n",
    "| c   |  c   |      |      |\n",
    "| d   |  d   |  d   |      |\n",
    "| e   |      |      |  e   |"
   ]
  },
  {
   "cell_type": "markdown",
   "id": "72ebc679",
   "metadata": {},
   "source": [
    "### Solution\n",
    "\n",
    "We'll begin with a solution to this task. It involves including all possible values for the variable we're joining on in a subquery and then performing a left join with the original tables."
   ]
  },
  {
   "cell_type": "markdown",
   "id": "1f0cfe92",
   "metadata": {},
   "source": [
    "---\n",
    "\n",
    "The following cell demonstrates the implementation of the solution for the case under consideration."
   ]
  },
  {
   "cell_type": "code",
   "execution_count": 18,
   "id": "ad395cae",
   "metadata": {
    "vscode": {
     "languageId": "shellscript"
    }
   },
   "outputs": [
    {
     "name": "stdout",
     "output_type": "stream",
     "text": [
      " val | val1 | val2 | val3 \n",
      "-----+------+------+------\n",
      " a   | a    | a    | a\n",
      " b   |      | b    | b\n",
      " c   | c    |      | \n",
      " d   | d    | d    | \n",
      " e   |      |      | e\n",
      "(5 rows)\n",
      "\n"
     ]
    }
   ],
   "source": [
    "docker exec -i join_example_postgres psql -U postgres -d postgres << EOF\n",
    "WITH full_values AS (\n",
    "    SELECT val1 AS val FROM tab1\n",
    "    UNION\n",
    "    SELECT val2 FROM tab2\n",
    "    UNION\n",
    "    SELECT val3 FROM tab3\n",
    ")\n",
    "\n",
    "SELECT * \n",
    "FROM full_values\n",
    "LEFT JOIN tab1 ON (full_values.val = tab1.val1)\n",
    "LEFT JOIN tab2 ON (full_values.val = tab2.val2)\n",
    "LEFT JOIN tab3 ON (full_values.val = tab3.val3);\n",
    "EOF"
   ]
  },
  {
   "cell_type": "markdown",
   "id": "5cb6350e",
   "metadata": {},
   "source": [
    "### Wrong options\n",
    "\n",
    "Consider option to join at first `tab2` to `tab1` and then `tab3` to `tab1`:"
   ]
  },
  {
   "cell_type": "code",
   "execution_count": 15,
   "id": "33f30a25",
   "metadata": {
    "vscode": {
     "languageId": "shellscript"
    }
   },
   "outputs": [
    {
     "name": "stdout",
     "output_type": "stream",
     "text": [
      " val | val1 | val2 | val3 \n",
      "-----+------+------+------\n",
      " a   | a    | a    | a\n",
      " b   |      |      | b\n",
      " c   | c    |      | \n",
      " d   | d    | d    | \n",
      " b   |      | b    | \n",
      " e   |      |      | e\n",
      "(6 rows)\n",
      "\n"
     ]
    }
   ],
   "source": [
    "docker exec -i join_example_postgres psql -U postgres -d postgres << EOF\n",
    "SELECT \n",
    "    COALESCE(tab1.val1, tab2.val2, tab3.val3) AS val, *\n",
    "FROM tab1\n",
    "FULL OUTER JOIN tab2 ON (tab1.val1=tab2.val2)\n",
    "FULL OUTER JOIN tab3 ON (tab1.val1=tab3.val3);\n",
    "EOF"
   ]
  },
  {
   "cell_type": "markdown",
   "id": "d183f3c8",
   "metadata": {},
   "source": [
    "This approach doesn’t work because there is an option `b` that exists only in `tab2` and `tab3`. Since the query doesn’t set any condition to relate `tab2` and `tab3`, the result is joined to the 'empty' slot of `tab1` twice."
   ]
  },
  {
   "cell_type": "markdown",
   "id": "e3c2a8c7",
   "metadata": {},
   "source": [
    "It seems that changing the join condition could resolve the issue. The following cell attempts this approach, but it results in a subtle PostgreSQL error."
   ]
  },
  {
   "cell_type": "code",
   "execution_count": 16,
   "id": "da57ea2b",
   "metadata": {
    "vscode": {
     "languageId": "shellscript"
    }
   },
   "outputs": [
    {
     "name": "stdout",
     "output_type": "stream",
     "text": [
      "ERROR:  FULL JOIN is only supported with merge-joinable or hash-joinable join conditions\n"
     ]
    }
   ],
   "source": [
    "docker exec -i join_example_postgres psql -U postgres -d postgres << EOF\n",
    "SELECT * FROM tab1\n",
    "FULL OUTER JOIN tab2 ON (tab1.val1=tab2.val2)\n",
    "FULL OUTER JOIN tab3 ON (tab1.val1=tab3.val3 OR tab2.val2=tab3.val3);\n",
    "EOF"
   ]
  }
 ],
 "metadata": {
  "kernelspec": {
   "display_name": "Bash",
   "language": "bash",
   "name": "bash"
  },
  "language_info": {
   "codemirror_mode": "shell",
   "file_extension": ".sh",
   "mimetype": "text/x-sh",
   "name": "bash"
  }
 },
 "nbformat": 4,
 "nbformat_minor": 5
}