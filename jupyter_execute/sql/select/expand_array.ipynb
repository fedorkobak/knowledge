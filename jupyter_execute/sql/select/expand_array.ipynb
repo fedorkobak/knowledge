{
 "cells": [
  {
   "cell_type": "markdown",
   "id": "83f9d907-7870-45a7-b3fe-3928bdbdb6a9",
   "metadata": {},
   "source": [
    "# Expand array\n",
    "\n",
    "Sometimes you need to deal with arrays of arrays or, more scientifically, a column containing arrays in each record.\n",
    "\n",
    "You can perform this operation using:\n",
    "\n",
    "- The `UNNEST(<column>)` function in postgres.\n",
    "- The `arrayJoin(<column>)` functoin in clickhouse."
   ]
  },
  {
   "cell_type": "markdown",
   "id": "50352811-0c62-4bd4-8ca8-9dd4c9b3b4ff",
   "metadata": {},
   "source": [
    "## Basic example"
   ]
  },
  {
   "cell_type": "markdown",
   "id": "6f65da2c-0d84-4c5d-8338-b08edbd27870",
   "metadata": {},
   "source": [
    "The following cell demonstrates array expansion in PostgreSQL using the `unnest` function."
   ]
  },
  {
   "cell_type": "code",
   "execution_count": 1,
   "id": "57c1b11e-d2cb-4e23-b047-c22ce14a0143",
   "metadata": {},
   "outputs": [
    {
     "name": "stdout",
     "output_type": "stream",
     "text": [
      "SELECT 6\n"
     ]
    },
    {
     "data": {
      "text/html": [
       "<table>\n",
       "<thead>\n",
       "<tr><th style=\"text-align: right;\">  col1</th><th style=\"text-align: right;\">  unnestted_value</th></tr>\n",
       "</thead>\n",
       "<tbody>\n",
       "<tr><td style=\"text-align: right;\">    10</td><td style=\"text-align: right;\">                1</td></tr>\n",
       "<tr><td style=\"text-align: right;\">    10</td><td style=\"text-align: right;\">                2</td></tr>\n",
       "<tr><td style=\"text-align: right;\">    10</td><td style=\"text-align: right;\">                3</td></tr>\n",
       "<tr><td style=\"text-align: right;\">     7</td><td style=\"text-align: right;\">                3</td></tr>\n",
       "<tr><td style=\"text-align: right;\">     7</td><td style=\"text-align: right;\">                4</td></tr>\n",
       "<tr><td style=\"text-align: right;\">     7</td><td style=\"text-align: right;\">                1</td></tr>\n",
       "</tbody>\n",
       "</table>"
      ],
      "text/latex": [
       "\\begin{tabular}{rr}\n",
       "\\toprule\n",
       "   col1 &   unnestted\\_value \\\\\n",
       "\\midrule\n",
       "     10 &                 1 \\\\\n",
       "     10 &                 2 \\\\\n",
       "     10 &                 3 \\\\\n",
       "      7 &                 3 \\\\\n",
       "      7 &                 4 \\\\\n",
       "      7 &                 1 \\\\\n",
       "\\bottomrule\n",
       "\\end{tabular}"
      ],
      "text/plain": [
       "  col1    unnestted_value\n",
       "------  -----------------\n",
       "    10                  1\n",
       "    10                  2\n",
       "    10                  3\n",
       "     7                  3\n",
       "     7                  4\n",
       "     7                  1"
      ]
     },
     "metadata": {},
     "output_type": "display_data"
    }
   ],
   "source": [
    "--postgreSQL\n",
    "SELECT \n",
    "    col1, \n",
    "    unnest(col2) AS unnestted_value\n",
    "FROM (\n",
    "    VALUES\n",
    "    (10, '{1,2,3}'::int[]),\n",
    "    (7, '{3,4,1}'::int[])\n",
    ") AS temp(col1, col2);"
   ]
  },
  {
   "cell_type": "markdown",
   "id": "e9e589e4-1485-40d7-b766-ca8d7e12aa74",
   "metadata": {},
   "source": [
    "The following cell performs the same operation in ClickHouse using the `arrayJoin` function. The result is identical."
   ]
  },
  {
   "cell_type": "code",
   "execution_count": 4,
   "id": "3ab84d21-f681-4808-a71d-6d7c25642ccc",
   "metadata": {},
   "outputs": [
    {
     "data": {
      "text/html": [],
      "text/latex": [],
      "text/plain": []
     },
     "metadata": {},
     "output_type": "display_data"
    },
    {
     "data": {
      "text/html": [],
      "text/latex": [],
      "text/plain": []
     },
     "metadata": {},
     "output_type": "display_data"
    },
    {
     "data": {
      "text/html": [
       "<table>\n",
       "<thead>\n",
       "<tr><th style=\"text-align: right;\">  col1</th><th style=\"text-align: right;\">  arrayJoin(col2)</th></tr>\n",
       "</thead>\n",
       "<tbody>\n",
       "<tr><td style=\"text-align: right;\">    10</td><td style=\"text-align: right;\">                1</td></tr>\n",
       "<tr><td style=\"text-align: right;\">    10</td><td style=\"text-align: right;\">                2</td></tr>\n",
       "<tr><td style=\"text-align: right;\">    10</td><td style=\"text-align: right;\">                3</td></tr>\n",
       "<tr><td style=\"text-align: right;\">     7</td><td style=\"text-align: right;\">                3</td></tr>\n",
       "<tr><td style=\"text-align: right;\">     7</td><td style=\"text-align: right;\">                4</td></tr>\n",
       "<tr><td style=\"text-align: right;\">     7</td><td style=\"text-align: right;\">                1</td></tr>\n",
       "</tbody>\n",
       "</table>"
      ],
      "text/latex": [
       "\\begin{tabular}{rr}\n",
       "\\toprule\n",
       "   col1 &   arrayJoin(col2) \\\\\n",
       "\\midrule\n",
       "     10 &                 1 \\\\\n",
       "     10 &                 2 \\\\\n",
       "     10 &                 3 \\\\\n",
       "      7 &                 3 \\\\\n",
       "      7 &                 4 \\\\\n",
       "      7 &                 1 \\\\\n",
       "\\bottomrule\n",
       "\\end{tabular}"
      ],
      "text/plain": [
       "  col1    arrayJoin(col2)\n",
       "------  -----------------\n",
       "    10                  1\n",
       "    10                  2\n",
       "    10                  3\n",
       "     7                  3\n",
       "     7                  4\n",
       "     7                  1"
      ]
     },
     "metadata": {},
     "output_type": "display_data"
    }
   ],
   "source": [
    "--ClickHouse\n",
    "CREATE TEMPORARY TABLE IF NOT EXISTS temp (col1 Int32, col2 Array(Int32)) ENGINE = Memory;\n",
    "\n",
    "INSERT INTO temp VALUES\n",
    "    (10, [1, 2, 3]),\n",
    "    (7, [3, 4, 1]);\n",
    "\n",
    "SELECT\n",
    "    col1,\n",
    "    arrayJoin(col2)\n",
    "FROM temp;"
   ]
  },
  {
   "cell_type": "markdown",
   "id": "02a1d3cb-bb60-434a-ad7a-688476de8a44",
   "metadata": {},
   "source": [
    "## Multicolumn unnest\n",
    "\n",
    "Using multiple `unnest` operations in the same query leads to unexpected results. Instead of generating separate records for each combination of array elements, it produces records with pairwise matches, skipping elements when the arrays for the same record have different lengths."
   ]
  },
  {
   "cell_type": "markdown",
   "id": "64427019",
   "metadata": {},
   "source": [
    "---\n",
    "\n",
    "The following cell shows such an example - the second record of `col3` contains fewer values than the second record of `col2`, but the query tries to unnest them sulmiteniously."
   ]
  },
  {
   "cell_type": "code",
   "execution_count": 5,
   "id": "1e283758-6ff9-46b4-8199-99bf33ca970f",
   "metadata": {},
   "outputs": [
    {
     "name": "stdout",
     "output_type": "stream",
     "text": [
      "SELECT 6\n"
     ]
    },
    {
     "data": {
      "text/html": [
       "<table>\n",
       "<thead>\n",
       "<tr><th style=\"text-align: right;\">  col1</th><th style=\"text-align: right;\">  col2_unnested</th><th>col3_unnested  </th></tr>\n",
       "</thead>\n",
       "<tbody>\n",
       "<tr><td style=\"text-align: right;\">    10</td><td style=\"text-align: right;\">              1</td><td>a              </td></tr>\n",
       "<tr><td style=\"text-align: right;\">    10</td><td style=\"text-align: right;\">              2</td><td>b              </td></tr>\n",
       "<tr><td style=\"text-align: right;\">    10</td><td style=\"text-align: right;\">              3</td><td>c              </td></tr>\n",
       "<tr><td style=\"text-align: right;\">     7</td><td style=\"text-align: right;\">              3</td><td>a              </td></tr>\n",
       "<tr><td style=\"text-align: right;\">     7</td><td style=\"text-align: right;\">              4</td><td>b              </td></tr>\n",
       "<tr><td style=\"text-align: right;\">     7</td><td style=\"text-align: right;\">              1</td><td>               </td></tr>\n",
       "</tbody>\n",
       "</table>"
      ],
      "text/latex": [
       "\\begin{tabular}{rrl}\n",
       "\\toprule\n",
       "   col1 &   col2\\_unnested & col3\\_unnested   \\\\\n",
       "\\midrule\n",
       "     10 &               1 & a               \\\\\n",
       "     10 &               2 & b               \\\\\n",
       "     10 &               3 & c               \\\\\n",
       "      7 &               3 & a               \\\\\n",
       "      7 &               4 & b               \\\\\n",
       "      7 &               1 &                 \\\\\n",
       "\\bottomrule\n",
       "\\end{tabular}"
      ],
      "text/plain": [
       "  col1    col2_unnested  col3_unnested\n",
       "------  ---------------  ---------------\n",
       "    10                1  a\n",
       "    10                2  b\n",
       "    10                3  c\n",
       "     7                3  a\n",
       "     7                4  b\n",
       "     7                1"
      ]
     },
     "metadata": {},
     "output_type": "display_data"
    }
   ],
   "source": [
    "--postgreSQL\n",
    "SELECT\n",
    "    col1, \n",
    "    unnest(col2) AS col2_unnested,\n",
    "    unnest(col3) AS col3_unnested\n",
    "FROM (\n",
    "    VALUES\n",
    "    (10, '{1,2,3}'::int[], '{\"a\", \"b\", \"c\"}'::text[]),\n",
    "    (7, '{3,4,1}'::int[], '{\"a\", \"b\"}'::text[])\n",
    ") AS temp(col1, col2, col3);"
   ]
  },
  {
   "cell_type": "markdown",
   "id": "0ef61a79-e2ac-4cf7-b42f-2e63b82311ad",
   "metadata": {},
   "source": [
    "If you want to get a separate record for each combination of unnested values, just use subquery.\n",
    "\n",
    "---\n",
    "So in the following example, there is a separate record for each combination of values in the corresponding `col2` and `col3` records."
   ]
  },
  {
   "cell_type": "code",
   "execution_count": 6,
   "id": "52700aff-cb5a-420b-a4f7-a1674c008cbb",
   "metadata": {},
   "outputs": [
    {
     "name": "stdout",
     "output_type": "stream",
     "text": [
      "SELECT 15\n"
     ]
    },
    {
     "data": {
      "text/html": [
       "<table>\n",
       "<thead>\n",
       "<tr><th style=\"text-align: right;\">  col1</th><th style=\"text-align: right;\">  col2</th><th>unnest  </th></tr>\n",
       "</thead>\n",
       "<tbody>\n",
       "<tr><td style=\"text-align: right;\">    10</td><td style=\"text-align: right;\">     1</td><td>a       </td></tr>\n",
       "<tr><td style=\"text-align: right;\">    10</td><td style=\"text-align: right;\">     1</td><td>b       </td></tr>\n",
       "<tr><td style=\"text-align: right;\">    10</td><td style=\"text-align: right;\">     1</td><td>c       </td></tr>\n",
       "<tr><td style=\"text-align: right;\">    10</td><td style=\"text-align: right;\">     2</td><td>a       </td></tr>\n",
       "<tr><td style=\"text-align: right;\">    10</td><td style=\"text-align: right;\">     2</td><td>b       </td></tr>\n",
       "<tr><td style=\"text-align: right;\">    10</td><td style=\"text-align: right;\">     2</td><td>c       </td></tr>\n",
       "<tr><td style=\"text-align: right;\">    10</td><td style=\"text-align: right;\">     3</td><td>a       </td></tr>\n",
       "<tr><td style=\"text-align: right;\">    10</td><td style=\"text-align: right;\">     3</td><td>b       </td></tr>\n",
       "<tr><td style=\"text-align: right;\">    10</td><td style=\"text-align: right;\">     3</td><td>c       </td></tr>\n",
       "<tr><td style=\"text-align: right;\">     7</td><td style=\"text-align: right;\">     3</td><td>a       </td></tr>\n",
       "<tr><td style=\"text-align: right;\">     7</td><td style=\"text-align: right;\">     3</td><td>b       </td></tr>\n",
       "<tr><td style=\"text-align: right;\">     7</td><td style=\"text-align: right;\">     4</td><td>a       </td></tr>\n",
       "<tr><td style=\"text-align: right;\">     7</td><td style=\"text-align: right;\">     4</td><td>b       </td></tr>\n",
       "<tr><td style=\"text-align: right;\">     7</td><td style=\"text-align: right;\">     1</td><td>a       </td></tr>\n",
       "<tr><td style=\"text-align: right;\">     7</td><td style=\"text-align: right;\">     1</td><td>b       </td></tr>\n",
       "</tbody>\n",
       "</table>"
      ],
      "text/latex": [
       "\\begin{tabular}{rrl}\n",
       "\\toprule\n",
       "   col1 &   col2 & unnest   \\\\\n",
       "\\midrule\n",
       "     10 &      1 & a        \\\\\n",
       "     10 &      1 & b        \\\\\n",
       "     10 &      1 & c        \\\\\n",
       "     10 &      2 & a        \\\\\n",
       "     10 &      2 & b        \\\\\n",
       "     10 &      2 & c        \\\\\n",
       "     10 &      3 & a        \\\\\n",
       "     10 &      3 & b        \\\\\n",
       "     10 &      3 & c        \\\\\n",
       "      7 &      3 & a        \\\\\n",
       "      7 &      3 & b        \\\\\n",
       "      7 &      4 & a        \\\\\n",
       "      7 &      4 & b        \\\\\n",
       "      7 &      1 & a        \\\\\n",
       "      7 &      1 & b        \\\\\n",
       "\\bottomrule\n",
       "\\end{tabular}"
      ],
      "text/plain": [
       "  col1    col2  unnest\n",
       "------  ------  --------\n",
       "    10       1  a\n",
       "    10       1  b\n",
       "    10       1  c\n",
       "    10       2  a\n",
       "    10       2  b\n",
       "    10       2  c\n",
       "    10       3  a\n",
       "    10       3  b\n",
       "    10       3  c\n",
       "     7       3  a\n",
       "     7       3  b\n",
       "     7       4  a\n",
       "     7       4  b\n",
       "     7       1  a\n",
       "     7       1  b"
      ]
     },
     "metadata": {},
     "output_type": "display_data"
    }
   ],
   "source": [
    "--postgreSQL\n",
    "WITH \n",
    "example_table(col1, col2, col3) AS (\n",
    "    VALUES\n",
    "    (10, '{1,2,3}'::int[], '{\"a\", \"b\", \"c\"}'::text[]),\n",
    "    (7, '{3,4,1}'::int[], '{\"a\", \"b\"}'::text[])\n",
    ")\n",
    "\n",
    "SELECT col1, col2, UNNEST(col3)\n",
    "FROM (\n",
    "    SELECT \n",
    "        col1, UNNEST(col2) AS col2, col3 \n",
    "    FROM example_table\n",
    ") AS t;"
   ]
  },
  {
   "cell_type": "markdown",
   "id": "3ff1878e-7de8-47c7-be08-9fc1919983c4",
   "metadata": {},
   "source": [
    "Alternative solution,  using artificial cross-joining to deploy the array into a relational format.\n",
    "\n",
    "**Note** now I don't have time, but in general it would be great to compare the performance of this and solution with subquery."
   ]
  },
  {
   "cell_type": "code",
   "execution_count": 7,
   "id": "5eeb1163-9cda-4c6c-862c-6c332f30d926",
   "metadata": {},
   "outputs": [
    {
     "name": "stdout",
     "output_type": "stream",
     "text": [
      "SELECT 15\n"
     ]
    },
    {
     "data": {
      "text/html": [
       "<table>\n",
       "<thead>\n",
       "<tr><th style=\"text-align: right;\">  col1</th><th style=\"text-align: right;\">  unnested_col2</th><th>col3  </th></tr>\n",
       "</thead>\n",
       "<tbody>\n",
       "<tr><td style=\"text-align: right;\">    10</td><td style=\"text-align: right;\">              1</td><td>a     </td></tr>\n",
       "<tr><td style=\"text-align: right;\">    10</td><td style=\"text-align: right;\">              1</td><td>b     </td></tr>\n",
       "<tr><td style=\"text-align: right;\">    10</td><td style=\"text-align: right;\">              1</td><td>c     </td></tr>\n",
       "<tr><td style=\"text-align: right;\">    10</td><td style=\"text-align: right;\">              2</td><td>a     </td></tr>\n",
       "<tr><td style=\"text-align: right;\">    10</td><td style=\"text-align: right;\">              2</td><td>b     </td></tr>\n",
       "<tr><td style=\"text-align: right;\">    10</td><td style=\"text-align: right;\">              2</td><td>c     </td></tr>\n",
       "<tr><td style=\"text-align: right;\">    10</td><td style=\"text-align: right;\">              3</td><td>a     </td></tr>\n",
       "<tr><td style=\"text-align: right;\">    10</td><td style=\"text-align: right;\">              3</td><td>b     </td></tr>\n",
       "<tr><td style=\"text-align: right;\">    10</td><td style=\"text-align: right;\">              3</td><td>c     </td></tr>\n",
       "<tr><td style=\"text-align: right;\">     7</td><td style=\"text-align: right;\">              3</td><td>a     </td></tr>\n",
       "<tr><td style=\"text-align: right;\">     7</td><td style=\"text-align: right;\">              3</td><td>b     </td></tr>\n",
       "<tr><td style=\"text-align: right;\">     7</td><td style=\"text-align: right;\">              4</td><td>a     </td></tr>\n",
       "<tr><td style=\"text-align: right;\">     7</td><td style=\"text-align: right;\">              4</td><td>b     </td></tr>\n",
       "<tr><td style=\"text-align: right;\">     7</td><td style=\"text-align: right;\">              1</td><td>a     </td></tr>\n",
       "<tr><td style=\"text-align: right;\">     7</td><td style=\"text-align: right;\">              1</td><td>b     </td></tr>\n",
       "</tbody>\n",
       "</table>"
      ],
      "text/latex": [
       "\\begin{tabular}{rrl}\n",
       "\\toprule\n",
       "   col1 &   unnested\\_col2 & col3   \\\\\n",
       "\\midrule\n",
       "     10 &               1 & a      \\\\\n",
       "     10 &               1 & b      \\\\\n",
       "     10 &               1 & c      \\\\\n",
       "     10 &               2 & a      \\\\\n",
       "     10 &               2 & b      \\\\\n",
       "     10 &               2 & c      \\\\\n",
       "     10 &               3 & a      \\\\\n",
       "     10 &               3 & b      \\\\\n",
       "     10 &               3 & c      \\\\\n",
       "      7 &               3 & a      \\\\\n",
       "      7 &               3 & b      \\\\\n",
       "      7 &               4 & a      \\\\\n",
       "      7 &               4 & b      \\\\\n",
       "      7 &               1 & a      \\\\\n",
       "      7 &               1 & b      \\\\\n",
       "\\bottomrule\n",
       "\\end{tabular}"
      ],
      "text/plain": [
       "  col1    unnested_col2  col3\n",
       "------  ---------------  ------\n",
       "    10                1  a\n",
       "    10                1  b\n",
       "    10                1  c\n",
       "    10                2  a\n",
       "    10                2  b\n",
       "    10                2  c\n",
       "    10                3  a\n",
       "    10                3  b\n",
       "    10                3  c\n",
       "     7                3  a\n",
       "     7                3  b\n",
       "     7                4  a\n",
       "     7                4  b\n",
       "     7                1  a\n",
       "     7                1  b"
      ]
     },
     "metadata": {},
     "output_type": "display_data"
    }
   ],
   "source": [
    "--postgreSQL\n",
    "WITH \n",
    "example_table(col1, col2, col3) AS (\n",
    "    VALUES\n",
    "    (10, '{1,2,3}'::int[], '{\"a\", \"b\", \"c\"}'::text[]),\n",
    "    (7, '{3,4,1}'::int[], '{\"a\", \"b\"}'::text[])\n",
    ")\n",
    "\n",
    "SELECT col1, unnested_col2, UNNEST(col3) AS col3\n",
    "FROM example_table, UNNEST(col2) AS unnested_col2;"
   ]
  }
 ],
 "metadata": {
  "kernelspec": {
   "display_name": "UniversalSQL",
   "language": "sql",
   "name": "universal_sql"
  },
  "language_info": {
   "file_extentions": ".sql",
   "mimetype": "text/plain",
   "name": "sql"
  }
 },
 "nbformat": 4,
 "nbformat_minor": 5
}