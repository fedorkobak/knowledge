{
 "cells": [
  {
   "cell_type": "markdown",
   "id": "4218cbe7-fbde-4e0b-8ac9-4e7a957844d9",
   "metadata": {},
   "source": [
    "# NULL conditions (IS (NOT) NULL)\n",
    "\n",
    "It's a really common task to find records with empty values, or vice versa, to find records where all the information is available.\n",
    "\n",
    "In the next cell, I create everything I need for the examples in this page."
   ]
  },
  {
   "cell_type": "code",
   "execution_count": 1,
   "id": "b6fdbfbb-b433-40b1-b6fa-ad22fbbc6a9c",
   "metadata": {},
   "outputs": [
    {
     "name": "stdout",
     "output_type": "stream",
     "text": [
      "CREATE TABLE\n",
      "INSERT 0 6\n"
     ]
    }
   ],
   "source": [
    "%%bash\n",
    "docker run --rm -d\\\n",
    "    -e POSTGRES_PASSWORD=postgres \\\n",
    "    --name null_conditions_example \\\n",
    "    postgres:15.4 &> /dev/null\n",
    "sleep 5\n",
    "docker exec -i null_conditions_example psql -U postgres -d postgres\n",
    "\n",
    "CREATE TABLE table_with_nulls(\n",
    "    col1 TEXT,\n",
    "    col2 INT\n",
    ");\n",
    "INSERT INTO table_with_nulls(col1, col2) VALUES\n",
    "('A', NULL),\n",
    "('A', 1),\n",
    "('A', 2),\n",
    "(NULL, 1),\n",
    "('C', 3),\n",
    "(NULL, 4);"
   ]
  },
  {
   "cell_type": "markdown",
   "id": "43569b8f-25c5-494b-9ef9-3908c1fb216f",
   "metadata": {},
   "source": [
    "In the next cell, I'll show the table I'm going to use as an example.\n",
    "\n",
    "**Note** `psql` show `NULL` values just as empty places."
   ]
  },
  {
   "cell_type": "code",
   "execution_count": 4,
   "id": "fbafb75e-bd44-4782-b0ee-7bf314c097e6",
   "metadata": {},
   "outputs": [
    {
     "name": "stdout",
     "output_type": "stream",
     "text": [
      " col1 | col2 \n",
      "------+------\n",
      " A    |     \n",
      " A    |    1\n",
      " A    |    2\n",
      "      |    1\n",
      " C    |    3\n",
      "      |    4\n",
      "(6 rows)\n",
      "\n"
     ]
    }
   ],
   "source": [
    "%%bash\n",
    "docker exec -i null_conditions_example psql -U postgres -d postgres\n",
    "SELECT col1, col2 FROM table_with_nulls;"
   ]
  },
  {
   "cell_type": "markdown",
   "id": "44ba9b1d-09ae-4f8a-ba7a-3d700f5fab9e",
   "metadata": {},
   "source": [
    "**Note** don't forget to stop the container when you finish playing with examples."
   ]
  },
  {
   "cell_type": "code",
   "execution_count": 7,
   "id": "54d0c53b-d219-42b3-ae46-22f4d224bfcb",
   "metadata": {
    "scrolled": true
   },
   "outputs": [],
   "source": [
    "!docker stop null_conditions_example &> /dev/null"
   ]
  },
  {
   "cell_type": "markdown",
   "id": "3a9afb52-2547-4d5c-b16c-7b2a92e2b566",
   "metadata": {},
   "source": [
    "## `IS NULL`\n",
    "\n",
    "By using `<column name> IS NULL` in the `WHERE` block, you can select records with empty values in a particular column.\n",
    "\n",
    "In the following example I `SELECT` only values with `NULL` values in `col1`."
   ]
  },
  {
   "cell_type": "code",
   "execution_count": 5,
   "id": "ed1dd61b-b84f-48a3-8d1f-1c07b396749a",
   "metadata": {},
   "outputs": [
    {
     "name": "stdout",
     "output_type": "stream",
     "text": [
      " col1 | col2 \n",
      "------+------\n",
      "      |    1\n",
      "      |    4\n",
      "(2 rows)\n",
      "\n"
     ]
    }
   ],
   "source": [
    "%%bash\n",
    "docker exec -i null_conditions_example psql -U postgres -d postgres\n",
    "SELECT col1, col2 \n",
    "FROM table_with_nulls\n",
    "WHERE col1 IS NULL;"
   ]
  },
  {
   "cell_type": "markdown",
   "id": "3b90aad4-8cd6-4649-9ac1-1b7e05b7eddb",
   "metadata": {},
   "source": [
    "## `IS NOT NULL`\n",
    "\n",
    "By using `<column name> IS NOT NULL` in the `WHERE` block, you can select records with filled values in a particular column.\n",
    "\n",
    "In the following example I `SELECT` only values that hase something in `col1`."
   ]
  },
  {
   "cell_type": "code",
   "execution_count": 6,
   "id": "3d601881-0ff2-4fed-83bc-1a6282043ca2",
   "metadata": {},
   "outputs": [
    {
     "name": "stdout",
     "output_type": "stream",
     "text": [
      " col1 | col2 \n",
      "------+------\n",
      " A    |     \n",
      " A    |    1\n",
      " A    |    2\n",
      " C    |    3\n",
      "(4 rows)\n",
      "\n"
     ]
    }
   ],
   "source": [
    "%%bash\n",
    "docker exec -i null_conditions_example psql -U postgres -d postgres\n",
    "SELECT col1, col2\n",
    "FROM table_with_nulls\n",
    "WHERE col1 IS NOT NULL;"
   ]
  }
 ],
 "metadata": {
  "kernelspec": {
   "display_name": "Python 3 (ipykernel)",
   "language": "python",
   "name": "python3"
  },
  "language_info": {
   "codemirror_mode": {
    "name": "ipython",
    "version": 3
   },
   "file_extension": ".py",
   "mimetype": "text/x-python",
   "name": "python",
   "nbconvert_exporter": "python",
   "pygments_lexer": "ipython3",
   "version": "3.10.12"
  }
 },
 "nbformat": 4,
 "nbformat_minor": 5
}