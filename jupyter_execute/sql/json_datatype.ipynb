{
 "cells": [
  {
   "cell_type": "markdown",
   "id": "384a65fc-ba0c-482c-912d-4b0205b426ae",
   "metadata": {},
   "source": [
    "# JSON data type\n",
    "\n",
    "By defining a column of type `JSONB`, you can use JSON objects in your SQL tables. There are special tools that allow you to work with such columns in a dictionary-style way."
   ]
  },
  {
   "cell_type": "markdown",
   "id": "341ce174-257e-4bce-9c8d-85bad306a6fc",
   "metadata": {},
   "source": [
    "In the following cell, postgres containers have been used for examples."
   ]
  },
  {
   "cell_type": "code",
   "execution_count": null,
   "id": "38017320-4044-45c7-bc87-fbee96ce7bb8",
   "metadata": {},
   "outputs": [],
   "source": [
    "%%bash\n",
    "docker run --rm -d\\\n",
    "    -e POSTGRES_PASSWORD=postgres \\\n",
    "    --name using_json_datatype \\\n",
    "    postgres:15.4 &> /dev/null\n",
    "sleep 5"
   ]
  },
  {
   "cell_type": "markdown",
   "id": "21e5fa75-3920-49de-881b-16ed43dd98e2",
   "metadata": {},
   "source": [
    "**Note** Don't forget to stop the container when you have finished playing with the examples."
   ]
  },
  {
   "cell_type": "code",
   "execution_count": null,
   "id": "01918da0-5090-4f3e-a466-b6b1b14dd6c4",
   "metadata": {},
   "outputs": [],
   "source": [
    "%%bash\n",
    "docker stop using_json_datatype"
   ]
  },
  {
   "cell_type": "markdown",
   "id": "c4edb09d-55ae-499a-aa0d-6d789ba1df48",
   "metadata": {},
   "source": [
    "## Defining such column\n",
    "\n",
    "In the following cell I define the `data` column in `example_table` as a `JSONB` datatype. To populate it, just pass string literals containing json-style rows."
   ]
  },
  {
   "cell_type": "code",
   "execution_count": 14,
   "id": "c65660b7-c0a1-451b-b411-640a1fe2f87f",
   "metadata": {},
   "outputs": [
    {
     "name": "stdout",
     "output_type": "stream",
     "text": [
      "CREATE TABLE\n",
      "INSERT 0 7\n"
     ]
    }
   ],
   "source": [
    "%%bash\n",
    "docker exec -i using_json_datatype psql -U postgres -d postgres\n",
    "\n",
    "CREATE TABLE example_table (\n",
    "    id INT PRIMARY KEY,\n",
    "    data JSONB\n",
    ");\n",
    "\n",
    "INSERT INTO example_table (\n",
    "    id, data\n",
    ")\n",
    "VALUES\n",
    "    (1, '{\"A\": 0, \"B\": 0}'),\n",
    "    (2, '{\"A\": 100}'),\n",
    "    (3, '{\"B\": -50}'),\n",
    "    (4, '{\"A\": 50}'),\n",
    "    (5, '{\"B\": -30}'),\n",
    "    (6, '{\"B\": 100}'),\n",
    "    (7, '{\"B\" : 90, \"A\": -50}')\n",
    ";"
   ]
  },
  {
   "cell_type": "markdown",
   "id": "b93f416d-7a03-47e5-ac6f-914bad224e48",
   "metadata": {},
   "source": [
    "In the following cell displayed how JSON type cell will be displayed in the results of the simple query."
   ]
  },
  {
   "cell_type": "code",
   "execution_count": 9,
   "id": "71f42be3-55ba-4038-9fe2-ce75f6ff08ab",
   "metadata": {},
   "outputs": [
    {
     "name": "stdout",
     "output_type": "stream",
     "text": [
      " id |        data         \n",
      "----+---------------------\n",
      "  1 | {\"A\": 0, \"B\": 0}\n",
      "  2 | {\"A\": 100}\n",
      "  3 | {\"B\": -50}\n",
      "  4 | {\"A\": 50}\n",
      "  5 | {\"B\": -30}\n",
      "  6 | {\"B\": 100}\n",
      "  7 | {\"A\": -50, \"B\": 90}\n",
      "(7 rows)\n",
      "\n"
     ]
    }
   ],
   "source": [
    "%%bash\n",
    "docker exec using_json_datatype\\\n",
    "    psql -U postgres -d postgres -c \"SELECT * FROM example_table;\""
   ]
  },
  {
   "cell_type": "markdown",
   "id": "beeab55a-defe-426c-b888-7e2ee5a790bd",
   "metadata": {},
   "source": [
    "## Extracting values\n",
    "\n",
    "You can access values by key from a JSON type column using the syntax `<column name>-><key name>`. \n",
    "\n",
    "So in the following cell, a query has been executed that extracts values under the key 'A' from each record."
   ]
  },
  {
   "cell_type": "code",
   "execution_count": 20,
   "id": "ede45654-cc6a-4bc4-b397-88ad724d51ea",
   "metadata": {},
   "outputs": [
    {
     "name": "stdout",
     "output_type": "stream",
     "text": [
      " id |        data         | ?column? \n",
      "----+---------------------+----------\n",
      "  1 | {\"A\": 0, \"B\": 0}    | 0\n",
      "  2 | {\"A\": 100}          | 100\n",
      "  3 | {\"B\": -50}          | \n",
      "  4 | {\"A\": 50}           | 50\n",
      "  5 | {\"B\": -30}          | \n",
      "  6 | {\"B\": 100}          | \n",
      "  7 | {\"A\": -50, \"B\": 90} | -50\n",
      "(7 rows)\n",
      "\n"
     ]
    }
   ],
   "source": [
    "%%bash\n",
    "docker exec -i using_json_datatype psql -U postgres -d postgres\n",
    "SELECT id, data, data->'A' FROM example_table;"
   ]
  },
  {
   "cell_type": "markdown",
   "id": "f095fe64-5f1d-44f9-bb76-763f0399a6bc",
   "metadata": {},
   "source": [
    "You can access the values by clicking on them and then operate on them as you would any other column."
   ]
  }
 ],
 "metadata": {
  "kernelspec": {
   "display_name": "Python 3 (ipykernel)",
   "language": "python",
   "name": "python3"
  },
  "language_info": {
   "codemirror_mode": {
    "name": "ipython",
    "version": 3
   },
   "file_extension": ".py",
   "mimetype": "text/x-python",
   "name": "python",
   "nbconvert_exporter": "python",
   "pygments_lexer": "ipython3",
   "version": "3.10.12"
  }
 },
 "nbformat": 4,
 "nbformat_minor": 5
}