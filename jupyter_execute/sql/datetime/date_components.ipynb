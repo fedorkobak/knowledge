{
 "cells": [
  {
   "cell_type": "markdown",
   "id": "76b35f07-6ffe-4093-b564-9d863689f497",
   "metadata": {},
   "source": [
    "# Date components (DATE_PART)"
   ]
  },
  {
   "cell_type": "markdown",
   "id": "2bb903e8-98ea-434b-9efe-abb3041cc1cf",
   "metadata": {},
   "source": [
    "Sometimes you need to extract some specific numbers from the date, such as year, month and day. For such purposes you can use the `DATE_PART` function."
   ]
  },
  {
   "cell_type": "markdown",
   "id": "53fddeb0-54d5-4a84-8fef-ee4885306a9b",
   "metadata": {},
   "source": [
    "In the following cell container, a postgres instance was started and a table was created that will be used for experiments."
   ]
  },
  {
   "cell_type": "code",
   "execution_count": 27,
   "id": "82bb89be-12e6-42f8-8a3e-e02178c0ae7b",
   "metadata": {},
   "outputs": [
    {
     "name": "stdout",
     "output_type": "stream",
     "text": [
      "CREATE TABLE\n",
      "INSERT 0 3\n",
      "    var1    \n",
      "------------\n",
      " 2022-12-20\n",
      " 2021-10-15\n",
      " 2018-06-15\n",
      "(3 rows)\n",
      "\n"
     ]
    }
   ],
   "source": [
    "%%bash\n",
    "docker run --rm -d\\\n",
    "    -e POSTGRES_PASSWORD=postgres \\\n",
    "    --name datediff_example \\\n",
    "    postgres:15.4 &> /dev/null\n",
    "sleep 5\n",
    "docker exec -i datediff_example psql -U postgres -d postgres\n",
    "\n",
    "CREATE TABLE tab(\n",
    "    var1 DATE\n",
    ");\n",
    "INSERT INTO tab (var1) VALUES\n",
    "('2022-12-20'),\n",
    "('2021-10-15'),\n",
    "('2018-06-15');\n",
    "\n",
    "SELECT * FROM tab;"
   ]
  },
  {
   "cell_type": "markdown",
   "id": "e0f208e8-fc62-405d-ac66-f403b7373a83",
   "metadata": {},
   "source": [
    "**Note** Don't forget to stop the container when you finish playing with container."
   ]
  },
  {
   "cell_type": "code",
   "execution_count": 26,
   "id": "a6ff4949-c413-4947-89a0-4eeb598cc468",
   "metadata": {},
   "outputs": [
    {
     "name": "stdout",
     "output_type": "stream",
     "text": [
      "datediff_example\n"
     ]
    }
   ],
   "source": [
    "%%bash\n",
    "docker stop datediff_example"
   ]
  },
  {
   "cell_type": "markdown",
   "id": "fc2cdebc-3b33-4beb-8e85-1ee0b5f3cafc",
   "metadata": {},
   "source": [
    "## Example\n",
    "\n",
    "Here is an example of how to use `DATE_PART`. You must use the following syntax: `DATE_PART('part', <column name>)`. So in the following cell all dates will be split into day, month and year:"
   ]
  },
  {
   "cell_type": "code",
   "execution_count": 24,
   "id": "db16829c-cffc-4941-99e7-11a7b3d52229",
   "metadata": {},
   "outputs": [
    {
     "name": "stdout",
     "output_type": "stream",
     "text": [
      " Original date | Year | Month | Day \n",
      "---------------+------+-------+-----\n",
      " 2022-12-20    | 2022 |    12 |  20\n",
      " 2021-10-15    | 2021 |    10 |  15\n",
      " 2018-06-15    | 2018 |     6 |  15\n",
      "(3 rows)\n",
      "\n"
     ]
    }
   ],
   "source": [
    "%%bash\n",
    "docker exec -i datediff_example psql -U postgres -d postgres\n",
    "\n",
    "SELECT \n",
    "    var1 \"Original date\",\n",
    "    DATE_PART('year', var1) \"Year\", \n",
    "    DATE_PART('month', var1) \"Month\",\n",
    "    DATE_PART('day', var1) \"Day\"\n",
    "FROM tab;"
   ]
  }
 ],
 "metadata": {
  "kernelspec": {
   "display_name": "Python 3 (ipykernel)",
   "language": "python",
   "name": "python3"
  },
  "language_info": {
   "codemirror_mode": {
    "name": "ipython",
    "version": 3
   },
   "file_extension": ".py",
   "mimetype": "text/x-python",
   "name": "python",
   "nbconvert_exporter": "python",
   "pygments_lexer": "ipython3",
   "version": "3.10.12"
  }
 },
 "nbformat": 4,
 "nbformat_minor": 5
}