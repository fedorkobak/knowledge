{
 "cells": [
  {
   "cell_type": "markdown",
   "metadata": {},
   "source": [
    "# Select\n",
    "\n",
    "Selecting data is the most important aspect of SQL for database users. This page provides an overview of different statements that can be used in the `SELECT` expression."
   ]
  },
  {
   "cell_type": "markdown",
   "metadata": {},
   "source": [
    "## Statements order\n",
    "\n",
    "You must remember that SQL statements are executed in a specific order. The following picture shows the order of basic sql statements.\n",
    "\n",
    "![order](select_files/order_picture.png)\n",
    "\n",
    "Origin of the image is [this page](https://www.kdnuggets.com/the-essential-guide-to-sql-execution-order)."
   ]
  },
  {
   "cell_type": "markdown",
   "metadata": {},
   "source": [
    "## Sorting (ORDER BY)\n",
    "\n",
    "Result of the query can be sorted using syntax `ORDER BY <columns> (DESC)`. Find out more in the [special page](select/sorting.ipynb)."
   ]
  },
  {
   "cell_type": "markdown",
   "metadata": {},
   "source": [
    "---\n",
    "\n",
    "The following cell demonstrates an example where the query uses `ORDER BY numeric_value`, ensuring that the entire table follows this order."
   ]
  },
  {
   "cell_type": "code",
   "execution_count": 2,
   "metadata": {},
   "outputs": [
    {
     "data": {
      "text/html": [
       "<table>\n",
       "<thead>\n",
       "<tr><th style=\"text-align: right;\">  numeric_value</th><th>symbol  </th></tr>\n",
       "</thead>\n",
       "<tbody>\n",
       "<tr><td style=\"text-align: right;\">              1</td><td>c       </td></tr>\n",
       "<tr><td style=\"text-align: right;\">              4</td><td>d       </td></tr>\n",
       "<tr><td style=\"text-align: right;\">              4</td><td>e       </td></tr>\n",
       "<tr><td style=\"text-align: right;\">              5</td><td>b       </td></tr>\n",
       "<tr><td style=\"text-align: right;\">              5</td><td>f       </td></tr>\n",
       "<tr><td style=\"text-align: right;\">              7</td><td>a       </td></tr>\n",
       "</tbody>\n",
       "</table>"
      ],
      "text/latex": [
       "\\begin{tabular}{rl}\n",
       "\\toprule\n",
       "   numeric\\_value & symbol   \\\\\n",
       "\\midrule\n",
       "               1 & c        \\\\\n",
       "               4 & d        \\\\\n",
       "               4 & e        \\\\\n",
       "               5 & b        \\\\\n",
       "               5 & f        \\\\\n",
       "               7 & a        \\\\\n",
       "\\bottomrule\n",
       "\\end{tabular}"
      ],
      "text/plain": [
       "  numeric_value  symbol\n",
       "---------------  --------\n",
       "              1  c\n",
       "              4  d\n",
       "              4  e\n",
       "              5  b\n",
       "              5  f\n",
       "              7  a"
      ]
     },
     "metadata": {},
     "output_type": "display_data"
    }
   ],
   "source": [
    "--postgreSQL\n",
    "SELECT *\n",
    "FROM (\n",
    "    VALUES (7, 'a'), (5, 'b'), (1, 'c'), (4, 'd'), (4, 'e'), (5, 'f')\n",
    ") AS temp(numeric_value, symbol)\n",
    "ORDER BY numeric_value;"
   ]
  },
  {
   "cell_type": "markdown",
   "metadata": {},
   "source": [
    "## Empty values\n",
    "\n",
    "You can check if value (not) taking NULL value using following suntax `<value> IS (NOT) NULL`. Check more about handling empty values in [specific page](select/empty_values.ipynb)."
   ]
  },
  {
   "cell_type": "markdown",
   "metadata": {},
   "source": [
    "---\n",
    "\n",
    "The following example shows the original column and the application of `IS NULL` and `IS NOT NULL` to it."
   ]
  },
  {
   "cell_type": "code",
   "execution_count": 3,
   "metadata": {},
   "outputs": [
    {
     "data": {
      "text/html": [
       "<table>\n",
       "<thead>\n",
       "<tr><th style=\"text-align: right;\">  numeric_value</th><th>is_null  </th><th>is_not_null  </th></tr>\n",
       "</thead>\n",
       "<tbody>\n",
       "<tr><td style=\"text-align: right;\">               </td><td>True     </td><td>False        </td></tr>\n",
       "<tr><td style=\"text-align: right;\">              1</td><td>False    </td><td>True         </td></tr>\n",
       "<tr><td style=\"text-align: right;\">              2</td><td>False    </td><td>True         </td></tr>\n",
       "<tr><td style=\"text-align: right;\">               </td><td>True     </td><td>False        </td></tr>\n",
       "<tr><td style=\"text-align: right;\">              4</td><td>False    </td><td>True         </td></tr>\n",
       "<tr><td style=\"text-align: right;\">              5</td><td>False    </td><td>True         </td></tr>\n",
       "</tbody>\n",
       "</table>"
      ],
      "text/latex": [
       "\\begin{tabular}{rll}\n",
       "\\toprule\n",
       "   numeric\\_value & is\\_null   & is\\_not\\_null   \\\\\n",
       "\\midrule\n",
       "                 & True      & False         \\\\\n",
       "               1 & False     & True          \\\\\n",
       "               2 & False     & True          \\\\\n",
       "                 & True      & False         \\\\\n",
       "               4 & False     & True          \\\\\n",
       "               5 & False     & True          \\\\\n",
       "\\bottomrule\n",
       "\\end{tabular}"
      ],
      "text/plain": [
       "  numeric_value  is_null    is_not_null\n",
       "---------------  ---------  -------------\n",
       "                 True       False\n",
       "              1  False      True\n",
       "              2  False      True\n",
       "                 True       False\n",
       "              4  False      True\n",
       "              5  False      True"
      ]
     },
     "metadata": {},
     "output_type": "display_data"
    }
   ],
   "source": [
    "--postgreSQL\n",
    "SELECT\n",
    "    numeric_value,\n",
    "    numeric_value IS NULL is_null,\n",
    "    numeric_value IS NOT NULL is_not_null\n",
    "FROM (\n",
    "    VALUES (NULL), (1), (2), (NULL), (4), (5)\n",
    ") AS temp(numeric_value);"
   ]
  },
  {
   "cell_type": "markdown",
   "metadata": {},
   "source": [
    "## Conditional (CASE)\n",
    "\n",
    "With the `CASE` keyword, you can assign specified values to logical conditions. Find out more in the [specific page](select/conditional.ipynb)."
   ]
  },
  {
   "cell_type": "markdown",
   "metadata": {},
   "source": [
    "---\n",
    "\n",
    "The following cell shows how you can assign a string that describes the value originally in the column."
   ]
  },
  {
   "cell_type": "code",
   "execution_count": 4,
   "metadata": {},
   "outputs": [
    {
     "data": {
      "text/html": [
       "<table>\n",
       "<thead>\n",
       "<tr><th style=\"text-align: right;\">  numeric_value</th><th>case                   </th></tr>\n",
       "</thead>\n",
       "<tbody>\n",
       "<tr><td style=\"text-align: right;\">              0</td><td>less than two          </td></tr>\n",
       "<tr><td style=\"text-align: right;\">              1</td><td>less than two          </td></tr>\n",
       "<tr><td style=\"text-align: right;\">              2</td><td>more or equals than two</td></tr>\n",
       "<tr><td style=\"text-align: right;\">              3</td><td>more or equals than two</td></tr>\n",
       "<tr><td style=\"text-align: right;\">              4</td><td>more or equals than two</td></tr>\n",
       "<tr><td style=\"text-align: right;\">              5</td><td>more or equals than two</td></tr>\n",
       "</tbody>\n",
       "</table>"
      ],
      "text/latex": [
       "\\begin{tabular}{rl}\n",
       "\\toprule\n",
       "   numeric\\_value & case                    \\\\\n",
       "\\midrule\n",
       "               0 & less than two           \\\\\n",
       "               1 & less than two           \\\\\n",
       "               2 & more or equals than two \\\\\n",
       "               3 & more or equals than two \\\\\n",
       "               4 & more or equals than two \\\\\n",
       "               5 & more or equals than two \\\\\n",
       "\\bottomrule\n",
       "\\end{tabular}"
      ],
      "text/plain": [
       "  numeric_value  case\n",
       "---------------  -----------------------\n",
       "              0  less than two\n",
       "              1  less than two\n",
       "              2  more or equals than two\n",
       "              3  more or equals than two\n",
       "              4  more or equals than two\n",
       "              5  more or equals than two"
      ]
     },
     "metadata": {},
     "output_type": "display_data"
    }
   ],
   "source": [
    "--postgreSQL\n",
    "SELECT\n",
    "    numeric_value,\n",
    "    CASE\n",
    "        WHEN numeric_value<2 THEN 'less than two'\n",
    "        ELSE 'more or equals than two'\n",
    "    END\n",
    "FROM (\n",
    "    VALUES (0), (1), (2), (3), (4), (5)\n",
    ") AS temp(numeric_value);"
   ]
  },
  {
   "cell_type": "markdown",
   "metadata": {},
   "source": [
    "## Array expanding\n",
    "\n",
    "If you have columns of arrays and need to create a separate record for each value in the array, you may need operations to unnest the arrays. Find out more in [particular page](select/expand_array.ipynb)."
   ]
  },
  {
   "cell_type": "markdown",
   "metadata": {},
   "source": [
    "---\n",
    "\n",
    "The following cell demonstrates the result of applying the `unnest` function to a column containing arrays. Each array is expanded so that each element is represented in a separate record, duplicating the other columns' values accordingly."
   ]
  },
  {
   "cell_type": "code",
   "execution_count": 5,
   "metadata": {},
   "outputs": [
    {
     "data": {
      "text/html": [
       "<table>\n",
       "<thead>\n",
       "<tr><th style=\"text-align: right;\">  col1</th><th style=\"text-align: right;\">  unnestted_value</th></tr>\n",
       "</thead>\n",
       "<tbody>\n",
       "<tr><td style=\"text-align: right;\">    10</td><td style=\"text-align: right;\">                1</td></tr>\n",
       "<tr><td style=\"text-align: right;\">    10</td><td style=\"text-align: right;\">                2</td></tr>\n",
       "<tr><td style=\"text-align: right;\">    10</td><td style=\"text-align: right;\">                3</td></tr>\n",
       "<tr><td style=\"text-align: right;\">     7</td><td style=\"text-align: right;\">                3</td></tr>\n",
       "<tr><td style=\"text-align: right;\">     7</td><td style=\"text-align: right;\">                4</td></tr>\n",
       "<tr><td style=\"text-align: right;\">     7</td><td style=\"text-align: right;\">                1</td></tr>\n",
       "</tbody>\n",
       "</table>"
      ],
      "text/latex": [
       "\\begin{tabular}{rr}\n",
       "\\toprule\n",
       "   col1 &   unnestted\\_value \\\\\n",
       "\\midrule\n",
       "     10 &                 1 \\\\\n",
       "     10 &                 2 \\\\\n",
       "     10 &                 3 \\\\\n",
       "      7 &                 3 \\\\\n",
       "      7 &                 4 \\\\\n",
       "      7 &                 1 \\\\\n",
       "\\bottomrule\n",
       "\\end{tabular}"
      ],
      "text/plain": [
       "  col1    unnestted_value\n",
       "------  -----------------\n",
       "    10                  1\n",
       "    10                  2\n",
       "    10                  3\n",
       "     7                  3\n",
       "     7                  4\n",
       "     7                  1"
      ]
     },
     "metadata": {},
     "output_type": "display_data"
    }
   ],
   "source": [
    "--postgreSQL\n",
    "SELECT \n",
    "    col1, \n",
    "    unnest(col2) AS unnestted_value\n",
    "FROM (\n",
    "    VALUES\n",
    "    (10, '{1,2,3}'::int[]),\n",
    "    (7, '{3,4,1}'::int[])\n",
    ") AS temp(col1, col2);"
   ]
  }
 ],
 "metadata": {
  "kernelspec": {
   "display_name": "UniversalSQL",
   "language": "sql",
   "name": "universal_sql"
  },
  "language_info": {
   "file_extentions": ".sql",
   "mimetype": "text/plain",
   "name": "sql"
  }
 },
 "nbformat": 4,
 "nbformat_minor": 4
}