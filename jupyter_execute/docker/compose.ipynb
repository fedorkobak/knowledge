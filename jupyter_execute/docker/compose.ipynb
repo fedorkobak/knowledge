{
 "cells": [
  {
   "cell_type": "markdown",
   "metadata": {},
   "source": [
    "# Compose\n",
    "\n",
    "Docker compose is a tool for defining and running multi-container Docker applications. With Docker Compose, you can use a YAML file to configure your application's services. Then, with a single command, you can create and start all the services from your configuration. This page overview core concepts of the docker compose.\n",
    "\n",
    "In the special config you can specify the behaviour of our application as a group of containers.\n",
    "\n",
    "Check [official instrcutions for the docker compose file](https://docs.docker.com/reference/compose-file/)."
   ]
  },
  {
   "cell_type": "markdown",
   "metadata": {},
   "source": [
    "## Up/down\n",
    "\n",
    "To get started with Docker Compose, follow these steps:\n",
    "\n",
    "1. **Create a `docker-compose.yml` file:** This file defines your application's services, their dependencies, and configurations.\n",
    "2. **Run `docker compose up`:** This command will build, start, and run all the services defined in your `docker-compose.yml` file.\n",
    "3. **To stop and remove all containers and networks created by Docker Compose, use `docker compose down`.** \n",
    "\n",
    "Find out more in a [specific page](compose/up_down.ipynb)."
   ]
  },
  {
   "cell_type": "markdown",
   "metadata": {},
   "source": [
    "---\n",
    "\n",
    "To run docker compose, you need to specify a special config for dockercompose. The following cell defines compose config needed two services `linux1` and `linux2`."
   ]
  },
  {
   "cell_type": "code",
   "execution_count": 6,
   "metadata": {
    "vscode": {
     "languageId": "shellscript"
    }
   },
   "outputs": [],
   "source": [
    "cat << EOF > compose.yml\n",
    "services:\n",
    "  linux1:\n",
    "    image: alpine\n",
    "  linux2:\n",
    "    image: alpine\n",
    "EOF"
   ]
  },
  {
   "cell_type": "markdown",
   "metadata": {},
   "source": [
    "To run a defined container you need to run `compose up`, this command will automatically find `compose.yml` in the execution folder and run it."
   ]
  },
  {
   "cell_type": "code",
   "execution_count": 7,
   "metadata": {
    "vscode": {
     "languageId": "shellscript"
    }
   },
   "outputs": [
    {
     "name": "stdout",
     "output_type": "stream",
     "text": [
      "\u001b[1A\u001b[1B\u001b[0G\u001b[?25l[+] Running 0/0\n",
      " \u001b[33m⠋\u001b[0m Network docker_default  Creating                                        \u001b[34m0.1s \u001b[0m\n",
      "\u001b[?25h\u001b[1A\u001b[1A\u001b[0G\u001b[?25l\u001b[34m[+] Running 1/1\u001b[0m\n",
      " \u001b[32m✔\u001b[0m Network docker_default     \u001b[32mCreated\u001b[0m                                      \u001b[34m0.1s \u001b[0m\n",
      " \u001b[33m⠋\u001b[0m Container docker-linux1-1  Creating                                     \u001b[34m0.1s \u001b[0m\n",
      " \u001b[33m⠋\u001b[0m Container docker-linux2-1  Creating                                     \u001b[34m0.1s \u001b[0m\n",
      "\u001b[?25h\u001b[1A\u001b[1A\u001b[1A\u001b[1A\u001b[0G\u001b[?25l[+] Running 1/3\n",
      " \u001b[32m✔\u001b[0m Network docker_default     \u001b[32mCreated\u001b[0m                                      \u001b[34m0.1s \u001b[0m\n",
      " \u001b[33m⠙\u001b[0m Container docker-linux1-1  Creating                                     \u001b[34m0.2s \u001b[0m\n",
      " \u001b[33m⠙\u001b[0m Container docker-linux2-1  Creating                                     \u001b[34m0.2s \u001b[0m\n",
      "\u001b[?25h\u001b[1A\u001b[1A\u001b[1A\u001b[1A\u001b[0G\u001b[?25l\u001b[34m[+] Running 3/3\u001b[0m\n",
      " \u001b[32m✔\u001b[0m Network docker_default     \u001b[32mCreated\u001b[0m                                      \u001b[34m0.1s \u001b[0m\n",
      " \u001b[32m✔\u001b[0m Container docker-linux1-1  \u001b[32mCreated\u001b[0m                                      \u001b[34m0.2s \u001b[0m\n",
      " \u001b[32m✔\u001b[0m Container docker-linux2-1  \u001b[32mCreated\u001b[0m                                      \u001b[34m0.2s \u001b[0m\n",
      "\u001b[?25hAttaching to linux1-1, linux2-1\n",
      "\u001b[Klinux2-1 exited with code 0\n",
      "\u001b[Klinux1-1 exited with code 0\n",
      "\u001b[0m\n"
     ]
    }
   ],
   "source": [
    "docker compose up"
   ]
  },
  {
   "cell_type": "markdown",
   "metadata": {},
   "source": [
    "Containers we've specified to exit right after run - there's nothing specified to do for them. But in the `docker ps -a` we can still see them with `exited` status."
   ]
  },
  {
   "cell_type": "code",
   "execution_count": 8,
   "metadata": {
    "vscode": {
     "languageId": "shellscript"
    }
   },
   "outputs": [
    {
     "name": "stdout",
     "output_type": "stream",
     "text": [
      "CONTAINER ID   IMAGE     COMMAND     CREATED         STATUS                    PORTS     NAMES\n",
      "6e482380d1c3   alpine    \"/bin/sh\"   2 seconds ago   Exited (0) 1 second ago             docker-linux2-1\n",
      "e246e12ea924   alpine    \"/bin/sh\"   2 seconds ago   Exited (0) 1 second ago             docker-linux1-1\n"
     ]
    }
   ],
   "source": [
    "docker ps -a"
   ]
  },
  {
   "cell_type": "markdown",
   "metadata": {},
   "source": [
    "To remove everything you've created, use the `docker compose down` command.\n",
    "\n",
    "You need to run it in the folder where compose config is located - it will automatically detect what was created by this compose and delete it."
   ]
  },
  {
   "cell_type": "code",
   "execution_count": 9,
   "metadata": {
    "vscode": {
     "languageId": "shellscript"
    }
   },
   "outputs": [
    {
     "name": "stdout",
     "output_type": "stream",
     "text": [
      "\u001b[1A\u001b[1B\u001b[0G\u001b[?25l[+] Running 2/0\n",
      " \u001b[32m✔\u001b[0m Container docker-linux1-1  \u001b[32mRemoved\u001b[0m                                      \u001b[34m0.0s \u001b[0m\n",
      " \u001b[32m✔\u001b[0m Container docker-linux2-1  \u001b[32mRemoved\u001b[0m                                      \u001b[34m0.0s \u001b[0m\n",
      " \u001b[33m⠋\u001b[0m Network docker_default     Removing                                     \u001b[34m0.1s \u001b[0m\n",
      "\u001b[?25h\u001b[1A\u001b[1A\u001b[1A\u001b[1A\u001b[0G\u001b[?25l[+] Running 2/3\n",
      " \u001b[32m✔\u001b[0m Container docker-linux1-1  \u001b[32mRemoved\u001b[0m                                      \u001b[34m0.0s \u001b[0m\n",
      " \u001b[32m✔\u001b[0m Container docker-linux2-1  \u001b[32mRemoved\u001b[0m                                      \u001b[34m0.0s \u001b[0m\n",
      " \u001b[33m⠙\u001b[0m Network docker_default     Removing                                     \u001b[34m0.2s \u001b[0m\n",
      "\u001b[?25h\u001b[1A\u001b[1A\u001b[1A\u001b[1A\u001b[0G\u001b[?25l[+] Running 2/3\n",
      " \u001b[32m✔\u001b[0m Container docker-linux1-1  \u001b[32mRemoved\u001b[0m                                      \u001b[34m0.0s \u001b[0m\n",
      " \u001b[32m✔\u001b[0m Container docker-linux2-1  \u001b[32mRemoved\u001b[0m                                      \u001b[34m0.0s \u001b[0m\n",
      " \u001b[33m⠹\u001b[0m Network docker_default     Removing                                     \u001b[34m0.3s \u001b[0m\n",
      "\u001b[?25h\u001b[1A\u001b[1A\u001b[1A\u001b[1A\u001b[0G\u001b[?25l\u001b[34m[+] Running 3/3\u001b[0m\n",
      " \u001b[32m✔\u001b[0m Container docker-linux1-1  \u001b[32mRemoved\u001b[0m                                      \u001b[34m0.0s \u001b[0m\n",
      " \u001b[32m✔\u001b[0m Container docker-linux2-1  \u001b[32mRemoved\u001b[0m                                      \u001b[34m0.0s \u001b[0m\n",
      " \u001b[32m✔\u001b[0m Network docker_default     \u001b[32mRemoved\u001b[0m                                      \u001b[34m0.3s \u001b[0m\n",
      "\u001b[?25h\n"
     ]
    }
   ],
   "source": [
    "docker compose down"
   ]
  },
  {
   "cell_type": "markdown",
   "metadata": {},
   "source": [
    "So, after all, containres should disappear."
   ]
  },
  {
   "cell_type": "code",
   "execution_count": 10,
   "metadata": {
    "vscode": {
     "languageId": "shellscript"
    }
   },
   "outputs": [
    {
     "name": "stdout",
     "output_type": "stream",
     "text": [
      "CONTAINER ID   IMAGE     COMMAND   CREATED   STATUS    PORTS     NAMES\n"
     ]
    }
   ],
   "source": [
    "docker ps -a\n",
    "rm compose.yml"
   ]
  },
  {
   "cell_type": "markdown",
   "metadata": {},
   "source": [
    "## Service configuration\n",
    "\n",
    "The following cell shows directives that you can use to configure your service in docker compose:\n",
    "\n",
    "| Directive         | Description |\n",
    "|------------------|------------|\n",
    "| `image`         | Specifies the Docker image to use for the service. |\n",
    "| `build`         | Defines build configurations for creating an image. |\n",
    "| `command`       | Overrides the default command for the container. |\n",
    "| `entrypoint`    | Overrides the default entrypoint of the container. |\n",
    "| `environment`   | Defines environment variables. |\n",
    "| `env_file`      | Specifies an external file containing environment variables. |\n",
    "| `ports`         | Maps container ports to the host. |\n",
    "| `volumes`       | Mounts host directories or named volumes into the container. |\n",
    "| `networks`      | Connects the service to specific networks. |\n",
    "| `depends_on`    | Specifies dependencies on other services. |\n",
    "| `restart`       | Defines the restart policy for the container. |\n",
    "| `deploy`        | Specifies deployment settings (mainly for Swarm). |\n",
    "| `healthcheck`   | Defines a health check command for the container. |\n",
    "| `logging`       | Configures logging options for the service. |\n",
    "| `ulimits`       | Sets resource limits for the container. |\n",
    "| `extra_hosts`   | Adds custom host-to-IP mappings. |\n",
    "| `dns`           | Specifies DNS servers for the container. |\n",
    "| `dns_search`    | Defines DNS search domains. |\n",
    "| `sysctls`       | Configures kernel parameters. |\n",
    "| `security_opt`  | Sets security options for the container. |\n",
    "| `cap_add`       | Grants additional Linux capabilities. |\n",
    "| `cap_drop`      | Removes Linux capabilities. |\n",
    "| `devices`       | Allows access to host devices inside the container. |\n",
    "| `secrets`       | Defines secrets to be used in the container. |\n",
    "| `configs`       | Specifies configuration files from Docker Swarm. |\n",
    "| `tmpfs`         | Mounts a temporary filesystem inside the container. |\n",
    "| `shm_size`      | Sets the size of the `/dev/shm` shared memory. |\n",
    "| `privileged`    | Grants extended privileges to the container. |\n",
    "| `read_only`     | Runs the container filesystem in read-only mode. |\n",
    "| `stop_signal`   | Defines the system signal used to stop the container. |\n",
    "| `stop_grace_period` | Specifies a timeout before forcibly stopping a container. |\n",
    "| `init`          | Uses an init process inside the container. |\n",
    "| `container_name` | Allows to specify a name for the result container. |\n",
    "\n",
    "For more details check:\n",
    "- [Corresponding page](compose/service_configuration.ipynb) on this website.\n",
    "- [Corresponding page](https://docs.docker.com/reference/compose-file/services/) of the offical documentation."
   ]
  }
 ],
 "metadata": {
  "kernelspec": {
   "display_name": "Bash",
   "language": "bash",
   "name": "bash"
  },
  "language_info": {
   "codemirror_mode": "shell",
   "file_extension": ".sh",
   "mimetype": "text/x-sh",
   "name": "bash"
  }
 },
 "nbformat": 4,
 "nbformat_minor": 2
}