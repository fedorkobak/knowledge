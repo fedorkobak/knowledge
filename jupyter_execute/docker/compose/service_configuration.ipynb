{
 "cells": [
  {
   "cell_type": "markdown",
   "metadata": {},
   "source": [
    "# Service configuration\n",
    "\n",
    "This page provides an overview of the options you can use to configure the services defined in docker compose. In fact, this is a description of how to set a specific property on the containers created by docker compose.\n",
    "\n",
    "Check the [corresponding page](https://docs.docker.com/reference/compose-file/services/) of the official documentation."
   ]
  },
  {
   "cell_type": "markdown",
   "metadata": {},
   "source": [
    "## Project name\n",
    "\n",
    "Containers run with Compose have special properties, such as the **project name**. Compose uses a project name to isolate environments from each other. For more information, see the [\"Specifying a project name\"](https://docs.docker.com/compose/how-tos/project-name/) page in the official documentation. By default, Compose uses the folder of the Compose file as the project name, but you can specify the `--project-folder` or `--project-name` parameters to change the container's project.\n",
    "\n",
    "To check which project a container belongs to, look for the path `.[0].Config.Labels[\"com.docker.compose.project\"]` in the container's inspect result."
   ]
  },
  {
   "cell_type": "markdown",
   "metadata": {},
   "source": [
    "---\n",
    "\n",
    "The following cell defines the docker compose file in the `temp_direcotry` and executes it."
   ]
  },
  {
   "cell_type": "code",
   "execution_count": null,
   "metadata": {
    "vscode": {
     "languageId": "shellscript"
    }
   },
   "outputs": [],
   "source": [
    "mkdir temp_folder\n",
    "cat << EOF > temp_folder/temp_compose.yml\n",
    "services:\n",
    "  linux1:\n",
    "    image: alpine\n",
    "    container_name: project_example\n",
    "EOF\n",
    "docker compose -f temp_folder/temp_compose.yml up &> /dev/null"
   ]
  },
  {
   "cell_type": "markdown",
   "metadata": {},
   "source": [
    "Now let's check the `{{index .Config.Labels \"com.docker.compose.project\"}}` of the deployed container's configuration."
   ]
  },
  {
   "cell_type": "code",
   "execution_count": null,
   "metadata": {
    "vscode": {
     "languageId": "shellscript"
    }
   },
   "outputs": [
    {
     "name": "stdout",
     "output_type": "stream",
     "text": [
      "temp_folder\n"
     ]
    }
   ],
   "source": [
    "docker inspect -f '{{index .Config.Labels \"com.docker.compose.project\"}}' project_example"
   ]
  },
  {
   "cell_type": "markdown",
   "metadata": {},
   "source": [
    "The project name is `temp_folder`, which is the folder where `compose.yml` is located."
   ]
  },
  {
   "cell_type": "code",
   "execution_count": null,
   "metadata": {
    "vscode": {
     "languageId": "shellscript"
    }
   },
   "outputs": [],
   "source": [
    "docker compose -f temp_folder/temp_compose.yml down &> /dev/null\n",
    "rm -r temp_folder"
   ]
  },
  {
   "cell_type": "markdown",
   "metadata": {},
   "source": [
    "## Environment variables\n",
    "\n",
    "You can set environment variables for a service under the `environment` key. "
   ]
  },
  {
   "cell_type": "markdown",
   "metadata": {},
   "source": [
    "---\n",
    "\n",
    "This example defines an interactive, detached service in a Docker Compose file and sets an environment variable `ENV_VARIABLE`."
   ]
  },
  {
   "cell_type": "code",
   "execution_count": null,
   "metadata": {
    "vscode": {
     "languageId": "shellscript"
    }
   },
   "outputs": [],
   "source": [
    "cat << EOF > docker-compose.yml\n",
    "services:\n",
    "  linux1:\n",
    "    image: alpine\n",
    "    container_name: compose_example\n",
    "    environment:\n",
    "      - ENV_VARIABLE=message from container\n",
    "    stdin_open: true\n",
    "    tty: true\n",
    "EOF\n",
    "\n",
    "docker compose up -d &> /dev/null"
   ]
  },
  {
   "cell_type": "markdown",
   "metadata": {},
   "source": [
    "Let's check if it contains variables just like we specified. "
   ]
  },
  {
   "cell_type": "code",
   "execution_count": null,
   "metadata": {
    "vscode": {
     "languageId": "shellscript"
    }
   },
   "outputs": [
    {
     "name": "stdout",
     "output_type": "stream",
     "text": [
      "message from container\n"
     ]
    }
   ],
   "source": [
    "docker exec compose_example sh -c \"echo \\$ENV_VARIABLE\""
   ]
  },
  {
   "cell_type": "markdown",
   "metadata": {},
   "source": [
    "Stop compose after all."
   ]
  },
  {
   "cell_type": "code",
   "execution_count": null,
   "metadata": {
    "vscode": {
     "languageId": "shellscript"
    }
   },
   "outputs": [],
   "source": [
    "docker compose down &> /dev/null\n",
    "rm docker-compose.yml"
   ]
  },
  {
   "cell_type": "markdown",
   "metadata": {},
   "source": [
    "## Network\n",
    "\n",
    "For each coimpose project by default is created special default network, all containers that belongs to this project will automaticly connected to this network."
   ]
  },
  {
   "cell_type": "markdown",
   "metadata": {},
   "source": [
    "---\n",
    "\n",
    "The following cell starts a simple compose project."
   ]
  },
  {
   "cell_type": "code",
   "execution_count": null,
   "metadata": {
    "vscode": {
     "languageId": "shellscript"
    }
   },
   "outputs": [],
   "source": [
    "cat << EOF > /tmp/compose.yml\n",
    "services:\n",
    "  linux1:\n",
    "    image: alpine\n",
    "    container_name: network_example\n",
    "EOF\n",
    "\n",
    "docker compose -f /tmp/compose.yml up &> /dev/null"
   ]
  },
  {
   "cell_type": "markdown",
   "metadata": {},
   "source": [
    "Now there is a docker network that corresponds to this project: compose is run in the `tmp` directory, so it inherits it's name, as the result network created for this project will have the name `temp_deafult`. "
   ]
  },
  {
   "cell_type": "code",
   "execution_count": null,
   "metadata": {
    "vscode": {
     "languageId": "shellscript"
    }
   },
   "outputs": [
    {
     "name": "stdout",
     "output_type": "stream",
     "text": [
      "708aec9a9313   \u001b[01;31m\u001b[Ktmp\u001b[m\u001b[K_default   bridge    local\n"
     ]
    }
   ],
   "source": [
    "docker network ls | grep tmp"
   ]
  },
  {
   "cell_type": "markdown",
   "metadata": {},
   "source": [
    "The following cell prints the network to which the `network_example` container belongs."
   ]
  },
  {
   "cell_type": "code",
   "execution_count": null,
   "metadata": {
    "vscode": {
     "languageId": "shellscript"
    }
   },
   "outputs": [
    {
     "name": "stdout",
     "output_type": "stream",
     "text": [
      "tmp_default \n"
     ]
    }
   ],
   "source": [
    "docker inspect -f '{{range $key, $value := .NetworkSettings.Networks}}{{$key}} {{end}}' network_example"
   ]
  },
  {
   "cell_type": "markdown",
   "metadata": {},
   "source": [
    "It's a network created for the compose project."
   ]
  },
  {
   "cell_type": "code",
   "execution_count": null,
   "metadata": {
    "vscode": {
     "languageId": "shellscript"
    }
   },
   "outputs": [],
   "source": [
    "docker compose -f /tmp/compose.yml down &> /dev/null"
   ]
  },
  {
   "cell_type": "markdown",
   "metadata": {},
   "source": [
    "## Command\n",
    "\n",
    "You can specify commands that would be used to run the container by using the `command` field il the service settings - the container in question would use command to run itself."
   ]
  },
  {
   "cell_type": "markdown",
   "metadata": {},
   "source": [
    "---\n",
    "\n",
    "The following cell shows `compose.yml` that uses `command` directive, runs corresponding container and shows the result."
   ]
  },
  {
   "cell_type": "code",
   "execution_count": null,
   "metadata": {
    "vscode": {
     "languageId": "shellscript"
    }
   },
   "outputs": [
    {
     "name": "stdout",
     "output_type": "stream",
     "text": [
      "hello world\n"
     ]
    }
   ],
   "source": [
    "cat << EOF > /tmp/compose.yml\n",
    "services:\n",
    "  service:\n",
    "    image: alpine\n",
    "    command: echo \"hello world\"\n",
    "EOF\n",
    "\n",
    "docker compose -f /tmp/compose.yml run --rm service"
   ]
  },
  {
   "cell_type": "markdown",
   "metadata": {},
   "source": [
    "## Service from dockerfile\n",
    "\n",
    "Sometimes it's useful to configure a service to start from an image that hasn't been built yet—just by specifying its dockerfile. Such a configuration can be defined using the `build` key inside the service definition."
   ]
  },
  {
   "cell_type": "markdown",
   "metadata": {},
   "source": [
    "---\n",
    "\n",
    "The following cell creates a \"toy project\" consisting of a \"dockerfile\" and a \"compose.yml\" that represents how the corresponding service should be deployed."
   ]
  },
  {
   "cell_type": "code",
   "execution_count": 41,
   "metadata": {
    "vscode": {
     "languageId": "shellscript"
    }
   },
   "outputs": [],
   "source": [
    "mkdir /tmp/serv_dockerfile &> /dev/null\n",
    "cd /tmp/serv_dockerfile"
   ]
  },
  {
   "cell_type": "code",
   "execution_count": 42,
   "metadata": {
    "vscode": {
     "languageId": "shellscript"
    }
   },
   "outputs": [],
   "source": [
    "cat << EOF > dockerfile\n",
    "FROM python:3.12\n",
    "CMD [\"python3\", \"-c\", \"print(\\\"I'm a custom container\\\")\"]\n",
    "EOF"
   ]
  },
  {
   "cell_type": "markdown",
   "metadata": {},
   "source": [
    "The simpliest configuration of the `build` key is used here. Just `build .` means that the service will be started from the docker file located in the same directory as `compose.yml`."
   ]
  },
  {
   "cell_type": "code",
   "execution_count": 43,
   "metadata": {
    "vscode": {
     "languageId": "shellscript"
    }
   },
   "outputs": [],
   "source": [
    "cat << EOF > compose.yml\n",
    "services:\n",
    "  service:\n",
    "    build: .\n",
    "EOF"
   ]
  },
  {
   "cell_type": "markdown",
   "metadata": {},
   "source": [
    "The following cell executes this configuration."
   ]
  },
  {
   "cell_type": "code",
   "execution_count": 52,
   "metadata": {
    "vscode": {
     "languageId": "shellscript"
    }
   },
   "outputs": [
    {
     "name": "stdout",
     "output_type": "stream",
     "text": [
      "service-1  | I'm a custom container\n"
     ]
    }
   ],
   "source": [
    "docker-compose up 2>&1 | grep '^service-1\\s*|'"
   ]
  },
  {
   "cell_type": "markdown",
   "metadata": {},
   "source": [
    "As a result, there is a message in the logs of the `service-1` that is specified in the dockerfile."
   ]
  }
 ],
 "metadata": {
  "kernelspec": {
   "display_name": "Bash",
   "language": "bash",
   "name": "bash"
  },
  "language_info": {
   "codemirror_mode": "shell",
   "file_extension": ".sh",
   "mimetype": "text/x-sh",
   "name": "bash"
  }
 },
 "nbformat": 4,
 "nbformat_minor": 2
}