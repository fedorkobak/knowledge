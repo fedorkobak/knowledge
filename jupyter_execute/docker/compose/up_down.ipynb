{
 "cells": [
  {
   "cell_type": "markdown",
   "metadata": {},
   "source": [
    "## Up/down\n",
    "\n",
    "This page provides an overview of the options and features you can utilize when running or stopping projects in Docker Compose."
   ]
  },
  {
   "cell_type": "markdown",
   "metadata": {},
   "source": [
    "## Specify service\n",
    "\n",
    "You can specify an exact service to run with `docker compose up` by providing the service name(s) after `up`. Only the specified services will be started."
   ]
  },
  {
   "cell_type": "markdown",
   "metadata": {},
   "source": [
    "---\n",
    "\n",
    "The following cell defines `compose.yml` with three services, each of which outputs its name during execution."
   ]
  },
  {
   "cell_type": "code",
   "execution_count": 15,
   "metadata": {
    "vscode": {
     "languageId": "shellscript"
    }
   },
   "outputs": [],
   "source": [
    "cat << EOF > /tmp/compose.yml\n",
    "services:\n",
    "    linux1:\n",
    "        image: alpine\n",
    "        command: sh -c \"echo message_linux1\"\n",
    "    linux2:\n",
    "        image: alpine\n",
    "        command: sh -c \"echo message_linux2\"\n",
    "    linux3:\n",
    "        image: alpine\n",
    "        command: sh -c \"echo message_linux3\"\n",
    "EOF"
   ]
  },
  {
   "cell_type": "markdown",
   "metadata": {},
   "source": [
    "The following cell executes `up` without specification of the services that have to be runned. As result - invocations from all services (invocations are highlited in the output)."
   ]
  },
  {
   "cell_type": "code",
   "execution_count": 17,
   "metadata": {
    "vscode": {
     "languageId": "shellscript"
    }
   },
   "outputs": [
    {
     "name": "stdout",
     "output_type": "stream",
     "text": [
      "\u001b[1A\u001b[1B\u001b[0G\u001b[?25l[+] Running 0/0\n",
      " \u001b[33m⠋\u001b[0m Network tmp_default  Creating                                           \u001b[34m0.1s \u001b[0m\n",
      "\u001b[?25h\u001b[1A\u001b[1A\u001b[0G\u001b[?25l\u001b[34m[+] Running 1/1\u001b[0m\n",
      " \u001b[32m✔\u001b[0m Network tmp_default     \u001b[32mCreated\u001b[0m                                         \u001b[34m0.1s \u001b[0m\n",
      " \u001b[33m⠋\u001b[0m Container tmp-linux3-1  Creating                                        \u001b[34m0.1s \u001b[0m\n",
      " \u001b[33m⠋\u001b[0m Container tmp-linux2-1  Creating                                        \u001b[34m0.1s \u001b[0m\n",
      " \u001b[33m⠋\u001b[0m Container tmp-linux1-1  Creating                                        \u001b[34m0.1s \u001b[0m\n",
      "\u001b[?25h\u001b[1A\u001b[1A\u001b[1A\u001b[1A\u001b[1A\u001b[0G\u001b[?25l\u001b[34m[+] Running 4/4\u001b[0m\n",
      " \u001b[32m✔\u001b[0m Network tmp_default     \u001b[32mCreated\u001b[0m                                         \u001b[34m0.1s \u001b[0m\n",
      " \u001b[32m✔\u001b[0m Container tmp-linux3-1  \u001b[32mCreated\u001b[0m                                         \u001b[34m0.1s \u001b[0m\n",
      " \u001b[32m✔\u001b[0m Container tmp-linux2-1  \u001b[32mCreated\u001b[0m                                         \u001b[34m0.1s \u001b[0m\n",
      " \u001b[32m✔\u001b[0m Container tmp-linux1-1  \u001b[32mCreated\u001b[0m                                         \u001b[34m0.1s \u001b[0m\n",
      "\u001b[?25hAttaching to linux1-1, linux2-1, linux3-1\n",
      "\u001b[36mlinux1-1  | \u001b[0mmessage_linux1\n",
      "\u001b[33mlinux2-1  | \u001b[0mmessage_linux2\n",
      "\u001b[32mlinux3-1  | \u001b[0mmessage_linux3\n",
      "\u001b[Klinux1-1 exited with code 0\n",
      "\u001b[Klinux3-1 exited with code 0\n",
      "\u001b[Klinux2-1 exited with code 0\n",
      "\u001b[0m\n"
     ]
    }
   ],
   "source": [
    "docker compose -f /tmp/compose.yml up\n",
    "docker compose -f /tmp/compose.yml down &> /dev/null"
   ]
  },
  {
   "cell_type": "markdown",
   "metadata": {},
   "source": [
    "But if you specify only the `linux1` and `linux3` services, there will be output only from those two."
   ]
  },
  {
   "cell_type": "code",
   "execution_count": 16,
   "metadata": {
    "vscode": {
     "languageId": "shellscript"
    }
   },
   "outputs": [
    {
     "name": "stdout",
     "output_type": "stream",
     "text": [
      "\u001b[1A\u001b[1B\u001b[0G\u001b[?25l[+] Running 0/0\n",
      " \u001b[33m⠋\u001b[0m Network tmp_default  Creating                                           \u001b[34m0.1s \u001b[0m\n",
      "\u001b[?25h\u001b[1A\u001b[1A\u001b[0G\u001b[?25l\u001b[34m[+] Running 1/1\u001b[0m\n",
      " \u001b[32m✔\u001b[0m Network tmp_default     \u001b[32mCreated\u001b[0m                                         \u001b[34m0.1s \u001b[0m\n",
      " \u001b[33m⠋\u001b[0m Container tmp-linux1-1  Creating                                        \u001b[34m0.1s \u001b[0m\n",
      " \u001b[33m⠋\u001b[0m Container tmp-linux3-1  Creating                                        \u001b[34m0.1s \u001b[0m\n",
      "\u001b[?25h\u001b[1A\u001b[1A\u001b[1A\u001b[1A\u001b[0G\u001b[?25l\u001b[34m[+] Running 3/3\u001b[0m\n",
      " \u001b[32m✔\u001b[0m Network tmp_default     \u001b[32mCreated\u001b[0m                                         \u001b[34m0.1s \u001b[0m\n",
      " \u001b[32m✔\u001b[0m Container tmp-linux1-1  \u001b[32mCreated\u001b[0m                                         \u001b[34m0.1s \u001b[0m\n",
      " \u001b[32m✔\u001b[0m Container tmp-linux3-1  \u001b[32mCreated\u001b[0m                                         \u001b[34m0.1s \u001b[0m\n",
      "\u001b[?25hAttaching to linux1-1, linux3-1\n",
      "\u001b[33mlinux3-1  | \u001b[0mmessage_linux3\n",
      "\u001b[36mlinux1-1  | \u001b[0mmessage_linux1\n",
      "\u001b[Klinux3-1 exited with code 0\n",
      "\u001b[Klinux1-1 exited with code 0\n",
      "\u001b[0m\n"
     ]
    }
   ],
   "source": [
    "docker compose -f /tmp/compose.yml up linux1 linux3\n",
    "docker compose -f /tmp/compose.yml down &> /dev/null"
   ]
  },
  {
   "cell_type": "markdown",
   "metadata": {},
   "source": [
    "`linux2` wasn't stated."
   ]
  }
 ],
 "metadata": {
  "kernelspec": {
   "display_name": "Bash",
   "language": "bash",
   "name": "bash"
  },
  "language_info": {
   "codemirror_mode": "shell",
   "file_extension": ".sh",
   "mimetype": "text/x-sh",
   "name": "bash"
  }
 },
 "nbformat": 4,
 "nbformat_minor": 2
}