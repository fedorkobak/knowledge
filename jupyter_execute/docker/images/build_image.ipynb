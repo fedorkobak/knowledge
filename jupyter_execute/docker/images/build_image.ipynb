{
 "cells": [
  {
   "cell_type": "markdown",
   "metadata": {},
   "source": [
    "# Build image\n",
    "\n",
    "Here is a look at the `docker build` command, its features and options."
   ]
  },
  {
   "cell_type": "markdown",
   "metadata": {},
   "source": [
    "## Build context\n",
    "\n",
    "Read more on the corresponding page in the [official documentation](https://docs.docker.com/build/building/context/) and [specific page](build_image/build_context.ipynb) in this site.\n",
    "\n",
    "The `build` command requires one argument: the path to the build folder. This argument specifies which folder will be used as the working directory for the build process. All relative paths will be considered relative to this specified path.\n",
    "\n",
    "---\n",
    "\n",
    "As an example, consider the configuration created in the following cell."
   ]
  },
  {
   "cell_type": "code",
   "execution_count": 41,
   "metadata": {
    "vscode": {
     "languageId": "shellscript"
    }
   },
   "outputs": [],
   "source": [
    "mkdir build_path\n",
    "cat << EOF > build_path/dockerfile\n",
    "FROM alpine\n",
    "COPY message message\n",
    "CMD [\"cat\", \"message\"]\n",
    "EOF\n",
    "\n",
    "echo \"I'm external message\" > build_path/message\n",
    "\n",
    "mkdir build_path/folder\n",
    "echo \"I'm nested message\" > build_path/folder/message"
   ]
  },
  {
   "cell_type": "markdown",
   "metadata": {},
   "source": [
    "Here is a Dockerfile that modifies the `alpine` image to print the `message` file from the build folder. There are two `message` files located in different folders.\n",
    "\n",
    "For better understanding, here is the file tree:"
   ]
  },
  {
   "cell_type": "code",
   "execution_count": 42,
   "metadata": {
    "vscode": {
     "languageId": "shellscript"
    }
   },
   "outputs": [
    {
     "name": "stdout",
     "output_type": "stream",
     "text": [
      "build_path\n",
      "├── dockerfile\n",
      "├── folder\n",
      "│   └── message\n",
      "└── message\n",
      "\n",
      "1 directory, 3 files\n"
     ]
    }
   ],
   "source": [
    "tree build_path"
   ]
  },
  {
   "cell_type": "markdown",
   "metadata": {},
   "source": [
    "Here is an image that uses `build_path` as the build folder. Container using this image prints `I'm external message`."
   ]
  },
  {
   "cell_type": "code",
   "execution_count": 43,
   "metadata": {
    "vscode": {
     "languageId": "shellscript"
    }
   },
   "outputs": [
    {
     "name": "stdout",
     "output_type": "stream",
     "text": [
      "I'm external message\n"
     ]
    }
   ],
   "source": [
    "docker build \\\n",
    "    -t external_image \\\n",
    "    -f ./build_path/dockerfile \\\n",
    "    ./build_path &> /dev/null\n",
    "docker run --rm external_image"
   ]
  },
  {
   "cell_type": "markdown",
   "metadata": {},
   "source": [
    "**Note** In the examples, the `-f` option is used to specify the path to the docker file, which is generally not the same as the building path."
   ]
  },
  {
   "cell_type": "markdown",
   "metadata": {},
   "source": [
    "Exactly the same folder, but using a different build folder - prints a different message. "
   ]
  },
  {
   "cell_type": "code",
   "execution_count": 44,
   "metadata": {
    "vscode": {
     "languageId": "shellscript"
    }
   },
   "outputs": [
    {
     "name": "stdout",
     "output_type": "stream",
     "text": [
      "I'm nested message\n"
     ]
    }
   ],
   "source": [
    "docker build \\\n",
    "    -t nested_image \\\n",
    "    -f ./build_path/dockerfile \\\n",
    "    ./build_path/folder &> /dev/null\n",
    "docker run --rm nested_image"
   ]
  },
  {
   "cell_type": "markdown",
   "metadata": {},
   "source": [
    "Getting rid of files and images we created for examples."
   ]
  },
  {
   "cell_type": "code",
   "execution_count": 45,
   "metadata": {
    "vscode": {
     "languageId": "shellscript"
    }
   },
   "outputs": [
    {
     "name": "stdout",
     "output_type": "stream",
     "text": [
      "Untagged: external_image:latest\n",
      "Deleted: sha256:4d888a7322bda81b44c934cf6079a5637086150f86490c59862d3b6c1fa2804f\n",
      "Untagged: nested_image:latest\n"
     ]
    }
   ],
   "source": [
    "rm -r build_path\n",
    "docker rmi external_image nested_image"
   ]
  },
  {
   "cell_type": "markdown",
   "metadata": {},
   "source": [
    "## Image name (-t)\n",
    "\n",
    "You can set the image name (tag) using the `-t <image name>` option.\n",
    "\n",
    "---\n",
    "\n",
    "The following cell shows the process of creating a docker image named `super_duper_puper`."
   ]
  },
  {
   "cell_type": "code",
   "execution_count": 8,
   "metadata": {
    "vscode": {
     "languageId": "shellscript"
    }
   },
   "outputs": [
    {
     "name": "stdout",
     "output_type": "stream",
     "text": [
      "super_duper_puper                                                   latest           64a95b915f9e   3 weeks ago     7.8MB\n"
     ]
    }
   ],
   "source": [
    "mkdir image_name\n",
    "cat << EOF > image_name/dockerfile\n",
    "FROM alpine\n",
    "EOF\n",
    "\n",
    "docker build -t super_duper_puper ./image_name &> /dev/null\n",
    "docker images | grep super_duper_puper\n",
    "\n",
    "docker rmi super_duper_puper &> /dev/null\n",
    "rm -r image_name"
   ]
  },
  {
   "cell_type": "markdown",
   "metadata": {},
   "source": [
    "## Select dockerfile (`-f`)\n",
    "\n",
    "You can pass the filepath to the docker image in the `-f` option. If your file specifying the build directive has a name different from `dockerfile`, you will need to specify the actual name as the `-f` parameter."
   ]
  },
  {
   "cell_type": "markdown",
   "metadata": {},
   "source": [
    "---\n",
    "Following cell defiens docker file with name `python_apline`"
   ]
  },
  {
   "cell_type": "code",
   "execution_count": 22,
   "metadata": {
    "vscode": {
     "languageId": "shellscript"
    }
   },
   "outputs": [],
   "source": [
    "mkdir select_dockerfile\n",
    "cat << EOF > select_dockerfile/python_alpine\n",
    "FROM alpine\n",
    "RUN apk add python3\n",
    "EOF"
   ]
  },
  {
   "cell_type": "markdown",
   "metadata": {},
   "source": [
    "If you're just trying to build it, specify the path to the folder with the dockerfile."
   ]
  },
  {
   "cell_type": "code",
   "execution_count": 23,
   "metadata": {
    "vscode": {
     "languageId": "shellscript"
    }
   },
   "outputs": [
    {
     "name": "stdout",
     "output_type": "stream",
     "text": [
      "\u001b[1A\u001b[1B\u001b[0G\u001b[?25l[+] Building 0.0s (0/1)                                          docker:default\n",
      "\u001b[?25h\u001b[1A\u001b[0G\u001b[?25l[+] Building 0.0s (1/1) FINISHED                                 docker:default\n",
      "\u001b[34m => [internal] load build definition from Dockerfile                       0.0s\n",
      "\u001b[0m\u001b[34m => => transferring dockerfile: 2B                                         0.0s\n",
      "\u001b[0m\u001b[?25hERROR: failed to solve: failed to read dockerfile: open Dockerfile: no such file or directory\n"
     ]
    },
    {
     "ename": "",
     "evalue": "1",
     "output_type": "error",
     "traceback": []
    }
   ],
   "source": [
    "docker build ./select_dockerfile"
   ]
  },
  {
   "cell_type": "markdown",
   "metadata": {},
   "source": [
    "You have to specify path to the docker file in `-f` option, only in such case image will build properly."
   ]
  },
  {
   "cell_type": "code",
   "execution_count": 24,
   "metadata": {
    "vscode": {
     "languageId": "shellscript"
    }
   },
   "outputs": [
    {
     "name": "stdout",
     "output_type": "stream",
     "text": [
      "temp_image                    latest        d4d220b7f3bf   20 minutes ago   50.7MB\n"
     ]
    }
   ],
   "source": [
    "docker build \\\n",
    "    -t temp_image \\\n",
    "    -f ./select_dockerfile/python_alpine . &> /dev/null\n",
    "docker images | grep temp_image"
   ]
  },
  {
   "cell_type": "code",
   "execution_count": null,
   "metadata": {
    "vscode": {
     "languageId": "shellscript"
    }
   },
   "outputs": [],
   "source": [
    "docker rmi temp_image &> /dev/null\n",
    "rm -r ./select_dockerfile"
   ]
  },
  {
   "cell_type": "markdown",
   "metadata": {},
   "source": [
    "## Ignore files\n",
    "\n",
    "You can ignore some files with a `.dockerignore` file. Any files specified in this file will be ignored by Docker when building the image. \"Ignoring\" a file means not adding it to the build context.\n",
    "\n",
    "For more details, see [specific page](build_image/ignore_files.ipynb) about Docker ignore files."
   ]
  },
  {
   "cell_type": "markdown",
   "metadata": {},
   "source": [
    "---"
   ]
  },
  {
   "cell_type": "markdown",
   "metadata": {},
   "source": [
    "We'll show you how it works by removing the build context of the specific docker image. So the following cell creates a random files tree and puts `secret_file` in it, which we want to ignore. We'll use it as the build context."
   ]
  },
  {
   "cell_type": "code",
   "execution_count": 36,
   "metadata": {
    "vscode": {
     "languageId": "shellscript"
    }
   },
   "outputs": [
    {
     "name": "stdout",
     "output_type": "stream",
     "text": [
      "example_tree\n",
      "├── la7kwqku\n",
      "│   ├── i2lrkj2a\n",
      "│   ├── lhveaor5\n",
      "│   ├── ln4nkv06\n",
      "│   └── mqio09fo\n",
      "└── secret_file\n",
      "\n",
      "3 directories, 4 files\n"
     ]
    }
   ],
   "source": [
    "mkdir example_tree\n",
    "\n",
    "# Function to create a random string\n",
    "random_string() {\n",
    "    cat /dev/urandom | tr -cd 'a-z0-9' | head -c 8\n",
    "}\n",
    "\n",
    "OBJECTS_NUMBER=5\n",
    "curr_dir=\"example_tree\"\n",
    "\n",
    "for ((i=0; i<OBJECTS_NUMBER; i++)) do\n",
    "    object_name=\"$curr_dir/$(random_string)\"\n",
    "\n",
    "    if [ $(($RANDOM % 4)) -eq 0 ]; then\n",
    "        mkdir $object_name\n",
    "        curr_dir=$object_name\n",
    "    else\n",
    "        echo $(fortune) > $object_name\n",
    "    fi\n",
    "done\n",
    "\n",
    "echo $(fortune) > example_tree/secret_file\n",
    "\n",
    "tree example_tree"
   ]
  },
  {
   "cell_type": "markdown",
   "metadata": {},
   "source": [
    "Here is files that specify behaviour of the `docker build` command:\n",
    "\n",
    "- `dockerignore` in the context folder, just contains the name of the file we want to exclude from the context.\n",
    "- `dockerfile` is a special docker file that will store whole context in the `/context` folder."
   ]
  },
  {
   "cell_type": "code",
   "execution_count": 37,
   "metadata": {
    "vscode": {
     "languageId": "shellscript"
    }
   },
   "outputs": [],
   "source": [
    "cat << EOF > ./example_tree/.dockerignore\n",
    "secret_file\n",
    "EOF\n",
    "\n",
    "cat << EOF > dockerfile\n",
    "FROM alpine\n",
    "COPY . /context/\n",
    "EOF"
   ]
  },
  {
   "cell_type": "markdown",
   "metadata": {},
   "source": [
    "Now let's build a container, run image and check the contents of the `context` folder."
   ]
  },
  {
   "cell_type": "code",
   "execution_count": 38,
   "metadata": {
    "vscode": {
     "languageId": "shellscript"
    }
   },
   "outputs": [
    {
     "name": "stdout",
     "output_type": "stream",
     "text": [
      "/context\n",
      "└── la7kwqku\n",
      "    ├── i2lrkj2a\n",
      "    ├── lhveaor5\n",
      "    ├── ln4nkv06\n",
      "    └── mqio09fo\n",
      "\n",
      "2 directories, 3 files\n"
     ]
    }
   ],
   "source": [
    "docker build \\\n",
    "    -t docker_ignore_example \\\n",
    "    -f ./dockerfile \\\n",
    "    ./example_tree &> /dev/null\n",
    "docker run --rm docker_ignore_example tree /context"
   ]
  },
  {
   "cell_type": "markdown",
   "metadata": {},
   "source": [
    "As you can see, there is no `secret_file` here."
   ]
  },
  {
   "cell_type": "markdown",
   "metadata": {},
   "source": [
    "Don't foreget to clean the environment after all:"
   ]
  },
  {
   "cell_type": "code",
   "execution_count": 39,
   "metadata": {
    "vscode": {
     "languageId": "shellscript"
    }
   },
   "outputs": [
    {
     "name": "stdout",
     "output_type": "stream",
     "text": [
      "Untagged: docker_ignore_example:latest\n",
      "Deleted: sha256:e1110f1a6e9c3b4ce1a36a88e3da5d8f95cf80f1950eecdb9246e3db749242b5\n",
      "Deleted: sha256:fb4226cb869208fa9047929c626b707e3835e4b4693d00ca36c3898202351dd4\n"
     ]
    }
   ],
   "source": [
    "rm -r example_tree dockerfile\n",
    "docker rmi docker_ignore_example"
   ]
  },
  {
   "cell_type": "markdown",
   "metadata": {},
   "source": [
    "## Echo information\n",
    "\n",
    "Sometimes it can be useful to see some information on the standard output for debugging/research purposes. You can add the  `RUN <command>` directive to your `dockerfile`, but in general it wouldn't print the output, you need to use the `--no-cache` options to guarantee that the output of the command will be available in the standard output."
   ]
  },
  {
   "cell_type": "markdown",
   "metadata": {},
   "source": [
    "---\n",
    "\n",
    "The following cell defines `dockerfile` which uses `RUN whoami` so that the some stage of the build it has to show the output of the `whoami` command."
   ]
  },
  {
   "cell_type": "code",
   "execution_count": 6,
   "metadata": {
    "vscode": {
     "languageId": "shellscript"
    }
   },
   "outputs": [],
   "source": [
    "cat << EOF > /tmp/echo_info\n",
    "FROM alpine\n",
    "RUN whoami\n",
    "EOF"
   ]
  },
  {
   "cell_type": "markdown",
   "metadata": {},
   "source": [
    "Now the build the image based on this `dockerfile`, right after cleaning the build cache."
   ]
  },
  {
   "cell_type": "code",
   "execution_count": 35,
   "metadata": {
    "vscode": {
     "languageId": "shellscript"
    }
   },
   "outputs": [
    {
     "name": "stdout",
     "output_type": "stream",
     "text": [
      "#5 [2/2] RUN whoami\n",
      "#5 0.109 root\n"
     ]
    }
   ],
   "source": [
    "docker builder prune -af &> /dev/null\n",
    "docker build -t echo_info -f /tmp/echo_info . 2>&1 | grep -A 1 \"whoami\""
   ]
  },
  {
   "cell_type": "markdown",
   "metadata": {},
   "source": [
    "As a result, there is an output for the command, but it only for the first time, all other times it simply won't show the output of the command because it wasn't executed due to it being cached."
   ]
  },
  {
   "cell_type": "code",
   "execution_count": 36,
   "metadata": {
    "vscode": {
     "languageId": "shellscript"
    }
   },
   "outputs": [
    {
     "name": "stdout",
     "output_type": "stream",
     "text": [
      "#5 [2/2] RUN whoami\n",
      "#5 CACHED\n"
     ]
    }
   ],
   "source": [
    "docker build -t echo_info -f /tmp/echo_info . 2>&1 | grep -A 1 \"whoami\""
   ]
  },
  {
   "cell_type": "markdown",
   "metadata": {},
   "source": [
    "But with `--no-cache` option you easily can return the output of the command."
   ]
  },
  {
   "cell_type": "code",
   "execution_count": 34,
   "metadata": {
    "vscode": {
     "languageId": "shellscript"
    }
   },
   "outputs": [
    {
     "name": "stdout",
     "output_type": "stream",
     "text": [
      "#5 [2/2] RUN whoami\n",
      "#5 0.121 root\n"
     ]
    }
   ],
   "source": [
    "docker build -t echo_info --no-cache -f /tmp/echo_info . 2>&1 | grep -A 1 \"whoami\""
   ]
  }
 ],
 "metadata": {
  "kernelspec": {
   "display_name": "Bash",
   "language": "bash",
   "name": "bash"
  },
  "language_info": {
   "codemirror_mode": "shell",
   "file_extension": ".sh",
   "mimetype": "text/x-sh",
   "name": "bash"
  }
 },
 "nbformat": 4,
 "nbformat_minor": 2
}