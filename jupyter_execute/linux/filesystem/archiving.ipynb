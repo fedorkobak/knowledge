{
 "cells": [
  {
   "cell_type": "markdown",
   "metadata": {},
   "source": [
    "# Archiving\n",
    "\n",
    "This page discusses common linux tools to work with archives. For more infomation check [GNU `tar` manual](https://www.gnu.org/software/tar/manual/tar.html). "
   ]
  },
  {
   "cell_type": "markdown",
   "metadata": {},
   "source": [
    "## Create (`-cf`)\n",
    "\n",
    "The most common way to archive some data is to use `tar -cf` command. Here `c` refers to \"create\", you need specify files to be used for creating of the archive to it. `f` refers to file, so you need to specify the path to the output archive file."
   ]
  },
  {
   "cell_type": "markdown",
   "metadata": {},
   "source": [
    "---\n",
    "\n",
    "The following cell generates some data to be archived and applies long form of the `tar -cf` to perform that"
   ]
  },
  {
   "cell_type": "code",
   "execution_count": 27,
   "metadata": {
    "vscode": {
     "languageId": "shellscript"
    }
   },
   "outputs": [],
   "source": [
    "[ -d /tmp/archiving ] && rm -r /tmp/archiving\n",
    "mkdir /tmp/archiving\n",
    "echo \"this is my small test\" > /tmp/archiving/test_file\n",
    "\n",
    "cd /tmp/archiving\n",
    "tar -c --file=/tmp/archiving/hello.tar test_file"
   ]
  },
  {
   "cell_type": "markdown",
   "metadata": {},
   "source": [
    "As a result, we got a file with the name we'd specified as the output."
   ]
  },
  {
   "cell_type": "code",
   "execution_count": 28,
   "metadata": {
    "vscode": {
     "languageId": "shellscript"
    }
   },
   "outputs": [
    {
     "name": "stdout",
     "output_type": "stream",
     "text": [
      "total 32\n",
      "drwxrwxr-x  2 fedor fedor  4096 Feb 23 01:00 \u001b[0m\u001b[01;34m.\u001b[0m\n",
      "drwxrwxrwt 23 root  root  12288 Feb 23 01:00 \u001b[30;42m..\u001b[0m\n",
      "-rw-rw-r--  1 fedor fedor 10240 Feb 23 01:00 \u001b[01;31mhello.tar\u001b[0m\n",
      "-rw-rw-r--  1 fedor fedor    22 Feb 23 01:00 test_file\n"
     ]
    }
   ],
   "source": [
    "ls -la"
   ]
  },
  {
   "cell_type": "markdown",
   "metadata": {},
   "source": [
    "## Gzip\n",
    "\n",
    "Gzip is a typical file compression algorithm. Typical postfix for files is `tar.gz`. The `tar` utility uses the `-z` parameter to indicate that it is working with the gzip algorithm."
   ]
  },
  {
   "cell_type": "markdown",
   "metadata": {},
   "source": [
    "---\n",
    "\n",
    "The following cell creates a file to be used for the experiment and uses `tar -czf` to archive it."
   ]
  },
  {
   "cell_type": "code",
   "execution_count": 10,
   "metadata": {
    "vscode": {
     "languageId": "shellscript"
    }
   },
   "outputs": [
    {
     "name": "stdout",
     "output_type": "stream",
     "text": [
      "tar: Removing leading `/' from member names\n"
     ]
    }
   ],
   "source": [
    "cat /dev/random | head -n 500 >  /tmp/some_file\n",
    "tar -czf /tmp/res.tar.gz /tmp/some_file"
   ]
  },
  {
   "cell_type": "markdown",
   "metadata": {},
   "source": [
    "The following cell uses `tar -xzf` to extract files."
   ]
  },
  {
   "cell_type": "code",
   "execution_count": 9,
   "metadata": {
    "vscode": {
     "languageId": "shellscript"
    }
   },
   "outputs": [],
   "source": [
    "tar -xzf /tmp/res.tar.gz -C /tmp "
   ]
  }
 ],
 "metadata": {
  "kernelspec": {
   "display_name": "Bash",
   "language": "bash",
   "name": "bash"
  },
  "language_info": {
   "codemirror_mode": "shell",
   "file_extension": ".sh",
   "mimetype": "text/x-sh",
   "name": "bash"
  }
 },
 "nbformat": 4,
 "nbformat_minor": 2
}