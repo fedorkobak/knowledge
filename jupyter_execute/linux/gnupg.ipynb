{
 "cells": [
  {
   "cell_type": "markdown",
   "metadata": {},
   "source": [
    "# GnuPG\n",
    "\n",
    "GnuPG (GPG) is a tool that implements the PGP protocol in Linux. Here, we will explore how to use it. "
   ]
  },
  {
   "cell_type": "markdown",
   "metadata": {},
   "source": [
    "The following cell runs a container that represents the setup we'll use as an example."
   ]
  },
  {
   "cell_type": "code",
   "execution_count": 1,
   "metadata": {
    "vscode": {
     "languageId": "shellscript"
    }
   },
   "outputs": [
    {
     "name": "stdout",
     "output_type": "stream",
     "text": [
      "a48a58ddd3cba58febdcf6f9c65e9e9db656d5ef9a52af6c329f1c988f0eb7ba\n"
     ]
    }
   ],
   "source": [
    "docker run -itd --name gpg_example --rm fedorkobak/gpg-example:2"
   ]
  },
  {
   "cell_type": "markdown",
   "metadata": {},
   "source": [
    "Don't forget to clean up the environment."
   ]
  },
  {
   "cell_type": "code",
   "execution_count": 15,
   "metadata": {
    "vscode": {
     "languageId": "shellscript"
    }
   },
   "outputs": [
    {
     "name": "stdout",
     "output_type": "stream",
     "text": [
      "gpg_example\n"
     ]
    }
   ],
   "source": [
    "docker stop gpg_example"
   ]
  },
  {
   "cell_type": "markdown",
   "metadata": {},
   "source": [
    "## Export keys\n",
    "\n",
    "Use the `--export/export-secret-key <key identifier>` parameter to export the public and secret keys accordingly. You can use the `--otput <filename>` parameter to specify a file where the result should be saved."
   ]
  },
  {
   "cell_type": "markdown",
   "metadata": {},
   "source": [
    "\n",
    "--- \n",
    "\n",
    "Following cells shows how you can do that. "
   ]
  },
  {
   "cell_type": "code",
   "execution_count": null,
   "metadata": {
    "vscode": {
     "languageId": "shellscript"
    }
   },
   "outputs": [
    {
     "name": "stdout",
     "output_type": "stream",
     "text": [
      "�3\u0004g^��\u0016\t+\u0006\u0001\u0004\u0001�G\u000f\u0001\u0001\u0007@�\u0002��\u0010I-\u000f��*%&B�gO%Ҫ���i\u0010\u001b\u0004�_�SC�\u0017fed <fakeemail@wow.com>��\u0004\u0013\u0016\n",
      "\u0000A\u0016!\u0004\"\u0018��\u001f$�Q\u001f\"�\"m\\)�#<��\u0005\u0002g^��\u0002\u001b\u0003\u0005\t\u0005���\u0005\u000b",
      "\u0007\u0002\u0002\"\u0002\u0006\u0015\n",
      "\u000b",
      "\u0002\u0004\u0016\u0002\u0003\u0001\u0002\u001e",
      "\u0007\u0002\u0017�\u0000\n",
      "���Lf�\u0000�jo_\u001brH.DG\u000b",
      "\u001a�-\u000f�:E,�8�s}]*k�\u0000�\n",
      "�8\u0004g^��\u0012��Ͻ���┑x����\n",
      "+\u0006\u0001\u0004\u0001�U\u0001\u0005\u0001\u0001\u0007@�\u0017�u~�f�Vշib\u001b:p��͸�a\tAH���\u0013�l\u0003\u0007�~\u0004\u0018\u0016\n",
      "\u0000&\u0016!\u0004\"\u0018��\u001f$�Q\u001f\"�\"m\\)�#<��\u0005\u0002g^��\u0002\u001b\f",
      "\u0005\t\u0005���\u0000\n",
      "\t\u0010m\\)�#<��uG\u0000�\u001c",
      "or\u0002��0�@��\u001á���5Do�εS5�I�R\u001a��\u0001\u0000���\u00029\n",
      "%�8M/�XO.J}�b�*X\u001bI�|;�*�)\u000f\n"
     ]
    }
   ],
   "source": [
    "docker exec gpg_example gpg --export 2218FDFB1F24C0511F22AD226D5C29F6233CA6B7"
   ]
  },
  {
   "cell_type": "markdown",
   "metadata": {},
   "source": [
    "And the same with private key:"
   ]
  },
  {
   "cell_type": "code",
   "execution_count": null,
   "metadata": {
    "vscode": {
     "languageId": "shellscript"
    }
   },
   "outputs": [
    {
     "name": "stdout",
     "output_type": "stream",
     "text": [
      "�X\u0004g^��\u0016\t+\u0006\u0001\u0004\u0001�G\u000f\u0001\u0001\u0007@�\u0002��\u0010I-\u000f��*%&B�gO%Ҫ���i\u0010\u001b\u0004�_�SC\u0000\u0001\u0000��pV���2kA�.�W_@\u0003q�@���b�nq�4\u0004A\u00106�\u0017fed <fakeemail@wow.com>��\u0004\u0013\u0016\n",
      "\u0000A\u0016!\u0004\"\u0018��\u001f$�Q\u001f\"�\"m\\)�#<��\u0005\u0002g^��\u0002\u001b\u0003\u0005\t\u0005���\u0005\u000b",
      "\u0007\u0002\u0002\"\u0002\u0006\u0015\n",
      "\u000b",
      "\u0002\u0004\u0016\u0002\u0003\u0001\u0002\u001e",
      "\u0007\u0002\u0017�\u0000\n",
      "���Lf�\u0000�jo_\u001brH.DG\u000b",
      "\u001a�-\u000f�:E,�8�s}]*k�\u0000�\n",
      "�]\u0004g^��\u0012��Ͻ���┑x����\n",
      "+\u0006\u0001\u0004\u0001�U\u0001\u0005\u0001\u0001\u0007@�\u0017�u~�f�Vշib\u001b:p��͸�a\tAH���\u0013�l\u0003\u0007\u0000\u0000�u��3�XO�����p\u0013����=�AY�\u001a�\u000f'AP�|�\u0012و~\u0004\u0018\u0016\n",
      "\u0000&\u0016!\u0004\"\u0018��\u001f$�Q\u001f\"�\"m\\)�#<��\u0005\u0002g^��\u0002\u001b\f",
      "\u0005\t\u0005���\u0000\n",
      "\t\u0010m\\)�#<��uG\u0000�\u001c",
      "or\u0002��0�@��\u001á���5Do�εS5�I�R\u001a��\u0001\u0000���\u00029\n",
      "%�8M/�XO.J}�b�*X\u001bI�|;�*�)\u000f\n"
     ]
    }
   ],
   "source": [
    "docker exec gpg_example gpg --export-secret-key 2218FDFB1F24C0511F22AD226D5C29F6233CA6B7"
   ]
  },
  {
   "cell_type": "markdown",
   "metadata": {},
   "source": [
    "The same but specifying file as output:"
   ]
  },
  {
   "cell_type": "code",
   "execution_count": 5,
   "metadata": {
    "vscode": {
     "languageId": "shellscript"
    }
   },
   "outputs": [
    {
     "name": "stdout",
     "output_type": "stream",
     "text": [
      "�3\u0004g^��\u0016\t+\u0006\u0001\u0004\u0001�G\u000f\u0001\u0001\u0007@�\u0002��\u0010I-\u000f��*%&B�gO%Ҫ���i\u0010\u001b\u0004�_�SC�\u0017fed <fakeemail@wow.com>��\u0004\u0013\u0016\n",
      "\u0000A\u0016!\u0004\"\u0018��\u001f$�Q\u001f\"�\"m\\)�#<��\u0005\u0002g^��\u0002\u001b\u0003\u0005\t\u0005���\u0005\u000b",
      "\u0007\u0002\u0002\"\u0002\u0006\u0015\n",
      "\u000b",
      "\u0002\u0004\u0016\u0002\u0003\u0001\u0002\u001e",
      "\u0007\u0002\u0017�\u0000\n",
      "���Lf�\u0000�jo_\u001brH.DG\u000b",
      "\u001a�-\u000f�:E,�8�s}]*k�\u0000�\n",
      "�8\u0004g^��\u0012��Ͻ���┑x����\n",
      "+\u0006\u0001\u0004\u0001�U\u0001\u0005\u0001\u0001\u0007@�\u0017�u~�f�Vշib\u001b:p��͸�a\tAH���\u0013�l\u0003\u0007�~\u0004\u0018\u0016\n",
      "\u0000&\u0016!\u0004\"\u0018��\u001f$�Q\u001f\"�\"m\\)�#<��\u0005\u0002g^��\u0002\u001b\f",
      "\u0005\t\u0005���\u0000\n",
      "\t\u0010m\\)�#<��uG\u0000�\u001c",
      "or\u0002��0�@��\u001á���5Do�εS5�I�R\u001a��\u0001\u0000���\u00029\n",
      "%�8M/�XO.J}�b�*X\u001bI�|;�*�)\u000f\n"
     ]
    }
   ],
   "source": [
    "docker exec gpg_example gpg --output /public_key --export 2218FDFB1F24C0511F22AD226D5C29F6233CA6B7\n",
    "docker exec gpg_example cat /public_key"
   ]
  },
  {
   "cell_type": "markdown",
   "metadata": {},
   "source": [
    "## Import keys\n",
    "\n",
    "To import both secret and public keys, simply use the `--import <filename>` parameter (you do not need to specify `import-secret-key` for the secret key, as you do when exporting)."
   ]
  },
  {
   "cell_type": "markdown",
   "metadata": {},
   "source": [
    "---\n",
    "\n",
    "The keys that we will use to demonstrate the import were first generated. The next cell loads them into the docker container. "
   ]
  },
  {
   "cell_type": "code",
   "execution_count": 2,
   "metadata": {
    "vscode": {
     "languageId": "shellscript"
    }
   },
   "outputs": [
    {
     "name": "stdout",
     "output_type": "stream",
     "text": [
      "Successfully copied 2.05kB to gpg_example:/import_public\n",
      "Successfully copied 2.05kB to gpg_example:/import_secret\n"
     ]
    }
   ],
   "source": [
    "docker cp gnupg_files/example_public gpg_example:/import_public\n",
    "docker cp gnupg_files/example_secret gpg_example:/import_secret"
   ]
  },
  {
   "cell_type": "markdown",
   "metadata": {},
   "source": [
    "The following cell shows process of loading into `gpg`."
   ]
  },
  {
   "cell_type": "code",
   "execution_count": 3,
   "metadata": {
    "vscode": {
     "languageId": "shellscript"
    }
   },
   "outputs": [
    {
     "name": "stdout",
     "output_type": "stream",
     "text": [
      "gpg: key 68B6730B64298D81: public key \"fed <fakemail@wow.com>\" imported\n",
      "gpg: Total number processed: 1\n",
      "gpg:               imported: 1\n",
      "gpg: key 68B6730B64298D81: \"fed <fakemail@wow.com>\" not changed\n",
      "gpg: key 68B6730B64298D81: secret key imported\n",
      "gpg: Total number processed: 1\n",
      "gpg:              unchanged: 1\n",
      "gpg:       secret keys read: 1\n",
      "gpg:   secret keys imported: 1\n"
     ]
    }
   ],
   "source": [
    "docker exec gpg_example gpg --import /import_public\n",
    "docker exec gpg_example gpg --import /import_secret"
   ]
  },
  {
   "cell_type": "markdown",
   "metadata": {},
   "source": [
    "`gpg` automaticly detected which key is public and which is private."
   ]
  },
  {
   "cell_type": "markdown",
   "metadata": {},
   "source": [
    "As a result, there is an extra key in the key list, which is shown in the next cell:"
   ]
  },
  {
   "cell_type": "code",
   "execution_count": 4,
   "metadata": {
    "vscode": {
     "languageId": "shellscript"
    }
   },
   "outputs": [
    {
     "name": "stdout",
     "output_type": "stream",
     "text": [
      "[keyboxd]\n",
      "---------\n",
      "pub   ed25519 2024-12-15 [SC] [expires: 2027-12-15]\n",
      "      2218FDFB1F24C0511F22AD226D5C29F6233CA6B7\n",
      "uid           [ultimate] fed <fakeemail@wow.com>\n",
      "sub   cv25519 2024-12-15 [E] [expires: 2027-12-15]\n",
      "\n",
      "pub   ed25519 2024-12-15 [SC] [expires: 2027-12-15]\n",
      "      52DDEDBA77C775863694A10968B6730B64298D81\n",
      "uid           [ unknown] fed <fakemail@wow.com>\n",
      "sub   cv25519 2024-12-15 [E] [expires: 2027-12-15]\n",
      "\n"
     ]
    }
   ],
   "source": [
    "docker exec gpg_example gpg --list-keys"
   ]
  }
 ],
 "metadata": {
  "kernelspec": {
   "display_name": "Bash",
   "language": "bash",
   "name": "bash"
  },
  "language_info": {
   "codemirror_mode": "shell",
   "file_extension": ".sh",
   "mimetype": "text/x-sh",
   "name": "bash"
  }
 },
 "nbformat": 4,
 "nbformat_minor": 2
}