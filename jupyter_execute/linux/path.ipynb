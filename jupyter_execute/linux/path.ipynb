{
 "cells": [
  {
   "cell_type": "markdown",
   "metadata": {},
   "source": [
    "# Path\n",
    "\n",
    "This page explains how Linux determines what to execute when you run any command in it. There is a special environment variable, `PATH`, that specifies where to search for programs to be executed when a command is invoked from the shell. Each path is separated by a colon (`:`). When any command is typed, the system checks all paths listed in `PATH` for a corresponding file. When it finds the appropriate file, it executes it."
   ]
  },
  {
   "cell_type": "markdown",
   "metadata": {
    "vscode": {
     "languageId": "shellscript"
    }
   },
   "source": [
    "## Extending\n",
    "\n",
    "`PATH` can be extended using the command `export PATH=$PATH:<new section of path>`, which modifies the `PATH` environment variable by appending a new section to it."
   ]
  },
  {
   "cell_type": "markdown",
   "metadata": {},
   "source": [
    "---\n",
    "\n",
    "The following cell creates a new script that prints `Hello, World!` to the standard output and makes it executable."
   ]
  },
  {
   "cell_type": "code",
   "execution_count": 13,
   "metadata": {
    "vscode": {
     "languageId": "shellscript"
    }
   },
   "outputs": [],
   "source": [
    "[ -d /tmp/path_extending/ ] && rm -r /tmp/path_extending\n",
    "mkdir /tmp/path_extending\n",
    "cd /tmp/path_extending\n",
    "\n",
    "cat << EOF > show_me\n",
    "echo \"Hello world\"\n",
    "EOF\n",
    "\n",
    "chmod +x show_me"
   ]
  },
  {
   "cell_type": "markdown",
   "metadata": {},
   "source": [
    "You can easily run it by specifying a direct path."
   ]
  },
  {
   "cell_type": "code",
   "execution_count": 14,
   "metadata": {
    "vscode": {
     "languageId": "shellscript"
    }
   },
   "outputs": [
    {
     "name": "stdout",
     "output_type": "stream",
     "text": [
      "Hello world\n"
     ]
    }
   ],
   "source": [
    "./show_me"
   ]
  },
  {
   "cell_type": "markdown",
   "metadata": {},
   "source": [
    "But after adding the appropriate path to the `PATH` variable, you can run the command from any path you like. Following cells show the thing."
   ]
  },
  {
   "cell_type": "code",
   "execution_count": 9,
   "metadata": {
    "vscode": {
     "languageId": "shellscript"
    }
   },
   "outputs": [],
   "source": [
    "export PATH=$PATH:/tmp/path_extending"
   ]
  },
  {
   "cell_type": "code",
   "execution_count": 15,
   "metadata": {
    "vscode": {
     "languageId": "shellscript"
    }
   },
   "outputs": [
    {
     "name": "stdout",
     "output_type": "stream",
     "text": [
      "Hello world\n"
     ]
    }
   ],
   "source": [
    "cd ~/\n",
    "show_me"
   ]
  },
  {
   "cell_type": "markdown",
   "metadata": {},
   "source": [
    "## Find path (`which`)\n",
    "\n",
    "Sometimes it's useful to retrieve the path of a command available in the shell. This can be done using the `which <command>` syntax. Use `which -a <command>` to display all paths to a given command."
   ]
  },
  {
   "cell_type": "markdown",
   "metadata": {},
   "source": [
    "---\n",
    "\n",
    "The following cell applies the `which` command to the `ls` command."
   ]
  },
  {
   "cell_type": "code",
   "execution_count": 1,
   "metadata": {
    "vscode": {
     "languageId": "shellscript"
    }
   },
   "outputs": [
    {
     "name": "stdout",
     "output_type": "stream",
     "text": [
      "/usr/bin/ls\n"
     ]
    }
   ],
   "source": [
    "which ls"
   ]
  },
  {
   "cell_type": "markdown",
   "metadata": {},
   "source": [
    "To guarantee that the result is correct, let’s copy the `ls` command and name it `hello`. As a result, `hello` should behave just like `ls`."
   ]
  },
  {
   "cell_type": "code",
   "execution_count": 2,
   "metadata": {
    "vscode": {
     "languageId": "shellscript"
    }
   },
   "outputs": [],
   "source": [
    "cp /usr/bin/ls /usr/bin/hello"
   ]
  },
  {
   "cell_type": "markdown",
   "metadata": {},
   "source": [
    "The following cell invokes `hello /tmp`, and the result looks just like the files available in the `/tmp` folder."
   ]
  },
  {
   "cell_type": "code",
   "execution_count": 4,
   "metadata": {
    "vscode": {
     "languageId": "shellscript"
    }
   },
   "outputs": [
    {
     "name": "stdout",
     "output_type": "stream",
     "text": [
      "devcontainers-6aa171e4-89a9-4aaf-bb84-1cd72716f30d1737908561740\n",
      "devcontainers-e932ddd3-9bb4-406f-943b-62f41235e1a91737827817547\n",
      "devcontainers-fbe44d37-c6c2-43ad-bc83-76e66fde933d1737907502847\n",
      "vscode-ipc-1a675766-8108-4b19-a9c6-b2ddff78e404.sock\n",
      "vscode-ipc-791e9e66-9310-45f3-a55e-f91811b29434.sock\n",
      "vscode-ipc-9415dfa0-4e3c-48bd-8640-fe0f3fbed7f4.sock\n",
      "vscode-ipc-fb102fc3-61d7-42ae-9e80-e12b7a136bf5.sock\n",
      "vscode-remote-containers-0da91551-794b-4873-832f-b827f3d0b9b7.js\n",
      "vscode-remote-containers-83e67190-1f4d-4195-a09f-62dbe1f51e94.js\n",
      "vscode-remote-containers-d6916203-e4d1-40f2-9ef2-1135c4ff3e04.js\n",
      "vscode-remote-containers-ipc-0da91551-794b-4873-832f-b827f3d0b9b7.sock\n",
      "vscode-remote-containers-ipc-83e67190-1f4d-4195-a09f-62dbe1f51e94.sock\n",
      "vscode-remote-containers-ipc-d6916203-e4d1-40f2-9ef2-1135c4ff3e04.sock\n",
      "vscode-remote-containers-server-0da91551-794b-4873-832f-b827f3d0b9b7.js\n",
      "vscode-remote-containers-server-83e67190-1f4d-4195-a09f-62dbe1f51e94.js\n",
      "vscode-remote-containers-server-d6916203-e4d1-40f2-9ef2-1135c4ff3e04.js\n",
      "vscode-ssh-auth-0da91551-794b-4873-832f-b827f3d0b9b7.sock\n",
      "vscode-ssh-auth-83e67190-1f4d-4195-a09f-62dbe1f51e94.sock\n",
      "vscode-ssh-auth-d6916203-e4d1-40f2-9ef2-1135c4ff3e04.sock\n"
     ]
    }
   ],
   "source": [
    "hello /tmp"
   ]
  },
  {
   "cell_type": "markdown",
   "metadata": {},
   "source": [
    "You can even find the path to the `which` command itself."
   ]
  },
  {
   "cell_type": "code",
   "execution_count": 5,
   "metadata": {
    "vscode": {
     "languageId": "shellscript"
    }
   },
   "outputs": [
    {
     "name": "stdout",
     "output_type": "stream",
     "text": [
      "/usr/bin/which\n"
     ]
    }
   ],
   "source": [
    "which which"
   ]
  },
  {
   "cell_type": "markdown",
   "metadata": {},
   "source": [
    "The next cell creates the file `/tmp/second_ls/ls` and adds it to `PATH` to demonstrate how `which` behaves in this case."
   ]
  },
  {
   "cell_type": "code",
   "execution_count": 16,
   "metadata": {
    "vscode": {
     "languageId": "shellscript"
    }
   },
   "outputs": [],
   "source": [
    "mkdir /tmp/second_ls\n",
    "touch /tmp/second_ls/ls\n",
    "export PATH=$PATH:/tmp/second_ls/"
   ]
  },
  {
   "cell_type": "markdown",
   "metadata": {},
   "source": [
    "By simply invoking `which ls`, it shows only one path to the original `ls`, as it appears first in `PATH`."
   ]
  },
  {
   "cell_type": "code",
   "execution_count": 17,
   "metadata": {
    "vscode": {
     "languageId": "shellscript"
    }
   },
   "outputs": [
    {
     "name": "stdout",
     "output_type": "stream",
     "text": [
      "/usr/bin/ls\n"
     ]
    }
   ],
   "source": [
    "which ls"
   ]
  },
  {
   "cell_type": "markdown",
   "metadata": {},
   "source": [
    "But `which -a ls` shows both pathes."
   ]
  },
  {
   "cell_type": "code",
   "execution_count": 20,
   "metadata": {
    "vscode": {
     "languageId": "shellscript"
    }
   },
   "outputs": [
    {
     "name": "stdout",
     "output_type": "stream",
     "text": [
      "/usr/bin/ls\n",
      "/bin/ls\n"
     ]
    }
   ],
   "source": [
    "which -a ls"
   ]
  }
 ],
 "metadata": {
  "kernelspec": {
   "display_name": "Bash",
   "language": "bash",
   "name": "bash"
  },
  "language_info": {
   "codemirror_mode": "shell",
   "file_extension": ".sh",
   "mimetype": "text/x-sh",
   "name": "bash"
  }
 },
 "nbformat": 4,
 "nbformat_minor": 2
}