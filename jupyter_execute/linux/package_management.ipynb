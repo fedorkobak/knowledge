{
 "cells": [
  {
   "cell_type": "markdown",
   "metadata": {},
   "source": [
    "# Package management\n",
    "\n",
    "This page considers features of package management in linux systems. \n",
    "\n",
    "For details check:\n",
    "\n",
    "- [Apt users guide](https://www.debian.org/doc/manuals/apt-guide/index.en.html).\n",
    "- Corresponding page in the [ubuntu documentation](https://ubuntu.com/server/docs/package-management).\n",
    "- In the case of this tool, the [APT Wikipedia page](https://en.wikipedia.org/wiki/APT_(software)) provides a well-rounded and useful resource."
   ]
  },
  {
   "cell_type": "markdown",
   "metadata": {},
   "source": [
    "**Note:** Use a safe environment for running examples from this notebook, as they may change properties of your system."
   ]
  },
  {
   "cell_type": "markdown",
   "metadata": {},
   "source": [
    "## Sources\n",
    "\n",
    "Sources in apt is a set of references that describes where to get needed packages. In the system there should be a folder `/etc/apt/sources.list.d` which contains a file describing the sources.\n",
    "\n",
    "For more check information provide by `man sources.list`."
   ]
  },
  {
   "cell_type": "markdown",
   "metadata": {},
   "source": [
    "---\n",
    "\n",
    "The following cell shows the default contents of `/etc/apt/sources.list.d`. "
   ]
  },
  {
   "cell_type": "code",
   "execution_count": 1,
   "metadata": {
    "vscode": {
     "languageId": "shellscript"
    }
   },
   "outputs": [
    {
     "name": "stdout",
     "output_type": "stream",
     "text": [
      "debian.sources\n"
     ]
    }
   ],
   "source": [
    "ls /etc/apt/sources.list.d/"
   ]
  },
  {
   "cell_type": "markdown",
   "metadata": {},
   "source": [
    "There is only one file called `debian`. It contains some description that is not really important for us, so the following cell shows only the important content of the file. Where defines the URI for packages."
   ]
  },
  {
   "cell_type": "code",
   "execution_count": null,
   "metadata": {
    "vscode": {
     "languageId": "shellscript"
    }
   },
   "outputs": [
    {
     "name": "stdout",
     "output_type": "stream",
     "text": [
      "Types: deb\n",
      "# http://snapshot.debian.org/archive/debian/20250113T000000Z\n",
      "URIs: http://deb.debian.org/debian\n",
      "Suites: bookworm bookworm-updates\n",
      "Components: main\n",
      "Signed-By: /usr/share/keyrings/debian-archive-keyring.gpg\n",
      "\n",
      "Types: deb\n",
      "# http://snapshot.debian.org/archive/debian-security/20250113T000000Z\n",
      "URIs: http://deb.debian.org/debian-security\n",
      "Suites: bookworm-security\n",
      "Components: main\n",
      "Signed-By: /usr/share/keyrings/debian-archive-keyring.gpg\n"
     ]
    }
   ],
   "source": [
    "cat /etc/apt/sources.list.d/debian.sources | tail -n 15"
   ]
  },
  {
   "cell_type": "markdown",
   "metadata": {},
   "source": [
    "### Add source\n",
    "\n",
    "You can add source using `add-apt-repository` command."
   ]
  },
  {
   "cell_type": "markdown",
   "metadata": {},
   "source": [
    "---\n",
    "\n",
    "The following cell adds the `deadsnakes` source, an index where you can download different versions of the Python interpreter.\n",
    "\n",
    "**Note:** `add-apt-repository` is not installed by default, so it needs to be installed before use."
   ]
  },
  {
   "cell_type": "code",
   "execution_count": 3,
   "metadata": {
    "vscode": {
     "languageId": "shellscript"
    }
   },
   "outputs": [],
   "source": [
    "apt update &> /dev/null \\\n",
    "&& apt install -y \\\n",
    "    software-properties-common \\\n",
    "    python3-launchpadlib &> /dev/null\n",
    "add-apt-repository -y ppa:deadsnakes/ppa &> /dev/null"
   ]
  },
  {
   "cell_type": "markdown",
   "metadata": {},
   "source": [
    "Now there are additional file: `/etc/apt/sources.list.d/deadsnakes-ubuntu-ppa-noble.sources` which describe the sources for deadsnake."
   ]
  },
  {
   "cell_type": "code",
   "execution_count": 8,
   "metadata": {
    "vscode": {
     "languageId": "shellscript"
    }
   },
   "outputs": [
    {
     "name": "stdout",
     "output_type": "stream",
     "text": [
      "deadsnakes-ubuntu-ppa-bookworm.list  debian.sources\n"
     ]
    }
   ],
   "source": [
    "ls /etc/apt/sources.list.d"
   ]
  },
  {
   "cell_type": "markdown",
   "metadata": {},
   "source": [
    "The following cell shows the `sources` file that was added earlier."
   ]
  },
  {
   "cell_type": "code",
   "execution_count": 9,
   "metadata": {
    "vscode": {
     "languageId": "shellscript"
    }
   },
   "outputs": [],
   "source": [
    "cat /etc/apt/sources.list.d/deadsnakes-ubuntu-ppa-bookworm.list"
   ]
  },
  {
   "cell_type": "markdown",
   "metadata": {},
   "source": [
    "## Logs\n",
    "\n",
    "`/var/log/dpkg.log` is a typical path for the log which describes the packages installed on the system."
   ]
  },
  {
   "cell_type": "markdown",
   "metadata": {},
   "source": [
    "---\n",
    "\n",
    "The next cell shows the default files available, which describe the default packages installed in the container."
   ]
  },
  {
   "cell_type": "code",
   "execution_count": 10,
   "metadata": {
    "vscode": {
     "languageId": "shellscript"
    }
   },
   "outputs": [
    {
     "name": "stdout",
     "output_type": "stream",
     "text": [
      "2025-01-25 17:58:49 configure vim:amd64 2:9.0.1378-2 <none>\n",
      "2025-01-25 17:58:49 status unpacked vim:amd64 2:9.0.1378-2\n",
      "2025-01-25 17:58:49 status half-configured vim:amd64 2:9.0.1378-2\n",
      "2025-01-25 17:58:49 status installed vim:amd64 2:9.0.1378-2\n",
      "2025-01-25 17:58:49 trigproc libc-bin:amd64 2.36-9+deb12u9 <none>\n",
      "2025-01-25 17:58:49 status half-configured libc-bin:amd64 2.36-9+deb12u9\n",
      "2025-01-25 17:58:49 status installed libc-bin:amd64 2.36-9+deb12u9\n",
      "2025-01-25 17:58:49 trigproc hicolor-icon-theme:all 0.17-2 <none>\n",
      "2025-01-25 17:58:49 status half-configured hicolor-icon-theme:all 0.17-2\n",
      "2025-01-25 17:58:49 status installed hicolor-icon-theme:all 0.17-2\n"
     ]
    }
   ],
   "source": [
    "cat /var/log/dpkg.log | tail -n 10"
   ]
  },
  {
   "cell_type": "markdown",
   "metadata": {},
   "source": [
    "Now consider how the logs for the installation of a specific package look: the following cell installs `vim` and displays all log entries containing `vim`."
   ]
  },
  {
   "cell_type": "code",
   "execution_count": 12,
   "metadata": {
    "vscode": {
     "languageId": "shellscript"
    }
   },
   "outputs": [
    {
     "name": "stdout",
     "output_type": "stream",
     "text": [
      "2025-01-25 17:58:48 install vim-common:all <none> 2:9.0.1378-2\n",
      "2025-01-25 17:58:48 status half-installed vim-common:all 2:9.0.1378-2\n",
      "2025-01-25 17:58:48 status unpacked vim-common:all 2:9.0.1378-2\n",
      "2025-01-25 17:58:48 install vim-runtime:all <none> 2:9.0.1378-2\n",
      "2025-01-25 17:58:48 status half-installed vim-runtime:all 2:9.0.1378-2\n",
      "2025-01-25 17:58:49 status unpacked vim-runtime:all 2:9.0.1378-2\n",
      "2025-01-25 17:58:49 install vim:amd64 <none> 2:9.0.1378-2\n",
      "2025-01-25 17:58:49 status half-installed vim:amd64 2:9.0.1378-2\n",
      "2025-01-25 17:58:49 status unpacked vim:amd64 2:9.0.1378-2\n",
      "2025-01-25 17:58:49 configure vim-common:all 2:9.0.1378-2 <none>\n",
      "2025-01-25 17:58:49 status unpacked vim-common:all 2:9.0.1378-2\n",
      "2025-01-25 17:58:49 status half-configured vim-common:all 2:9.0.1378-2\n",
      "2025-01-25 17:58:49 status installed vim-common:all 2:9.0.1378-2\n",
      "2025-01-25 17:58:49 configure vim-runtime:all 2:9.0.1378-2 <none>\n",
      "2025-01-25 17:58:49 status unpacked vim-runtime:all 2:9.0.1378-2\n",
      "2025-01-25 17:58:49 status half-configured vim-runtime:all 2:9.0.1378-2\n",
      "2025-01-25 17:58:49 status installed vim-runtime:all 2:9.0.1378-2\n",
      "2025-01-25 17:58:49 configure vim:amd64 2:9.0.1378-2 <none>\n",
      "2025-01-25 17:58:49 status unpacked vim:amd64 2:9.0.1378-2\n",
      "2025-01-25 17:58:49 status half-configured vim:amd64 2:9.0.1378-2\n",
      "2025-01-25 17:58:49 status installed vim:amd64 2:9.0.1378-2\n"
     ]
    }
   ],
   "source": [
    "apt update &> /dev/null && apt install -y vim &> /dev/null\n",
    "cat /var/log/dpkg.log | grep vim"
   ]
  }
 ],
 "metadata": {
  "kernelspec": {
   "display_name": "Bash",
   "language": "bash",
   "name": "bash"
  },
  "language_info": {
   "codemirror_mode": "shell",
   "file_extension": ".sh",
   "mimetype": "text/x-sh",
   "name": "bash"
  }
 },
 "nbformat": 4,
 "nbformat_minor": 2
}