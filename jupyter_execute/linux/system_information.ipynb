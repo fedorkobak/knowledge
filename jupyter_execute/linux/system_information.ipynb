{
 "cells": [
  {
   "cell_type": "markdown",
   "metadata": {},
   "source": [
    "# System information\n",
    "\n",
    "This page looks at Linux utilities that can help you get more information about system status."
   ]
  },
  {
   "cell_type": "markdown",
   "metadata": {},
   "source": [
    "## System version\n",
    "\n",
    "There is a special file in linux that holds information about current system - `/etc/os-release`. The following cell shows the contents of the file for the current system."
   ]
  },
  {
   "cell_type": "code",
   "execution_count": 1,
   "metadata": {
    "vscode": {
     "languageId": "shellscript"
    }
   },
   "outputs": [
    {
     "name": "stdout",
     "output_type": "stream",
     "text": [
      "PRETTY_NAME=\"Ubuntu 24.04.2 LTS\"\n",
      "NAME=\"Ubuntu\"\n",
      "VERSION_ID=\"24.04\"\n",
      "VERSION=\"24.04.2 LTS (Noble Numbat)\"\n",
      "VERSION_CODENAME=noble\n",
      "ID=ubuntu\n",
      "ID_LIKE=debian\n",
      "HOME_URL=\"https://www.ubuntu.com/\"\n",
      "SUPPORT_URL=\"https://help.ubuntu.com/\"\n",
      "BUG_REPORT_URL=\"https://bugs.launchpad.net/ubuntu/\"\n",
      "PRIVACY_POLICY_URL=\"https://www.ubuntu.com/legal/terms-and-policies/privacy-policy\"\n",
      "UBUNTU_CODENAME=noble\n",
      "LOGO=ubuntu-logo\n"
     ]
    }
   ],
   "source": [
    "cat /etc/os-release"
   ]
  },
  {
   "cell_type": "markdown",
   "metadata": {},
   "source": [
    "## Process status (ps)\n",
    "\n",
    "The `ps` (process status) command in Linux is used to display information about active system processes. By default, it provides an output table where each row represents a process and the columns include:\n",
    "\n",
    "- `PID` the unique process identifier.\n",
    "- `TTY` the terminal associated with the process.\n",
    "- `TIME` the cumulative CPU time used by the process.\n",
    "- `CMD` the command that initiated the process.\n",
    "\n",
    "Install `ps` on ubuntu with package `procps` (`apt install procps`)."
   ]
  },
  {
   "cell_type": "markdown",
   "metadata": {},
   "source": [
    "---\n",
    "\n",
    "The following example shows the output of the ps command."
   ]
  },
  {
   "cell_type": "code",
   "execution_count": 1,
   "metadata": {
    "vscode": {
     "languageId": "shellscript"
    }
   },
   "outputs": [
    {
     "name": "stdout",
     "output_type": "stream",
     "text": [
      "    PID TTY          TIME CMD\n",
      "    791 pts/3    00:00:00 bash\n",
      "    811 pts/3    00:00:00 ps\n"
     ]
    }
   ],
   "source": [
    "ps"
   ]
  },
  {
   "cell_type": "markdown",
   "metadata": {},
   "source": [
    "To print all processes in the system, use the `-e` option, which prints all processes in the system."
   ]
  },
  {
   "cell_type": "markdown",
   "metadata": {},
   "source": [
    "The following cell shows the result of `ps -e`. Only the first 10 rows have been printed, because it could take a long time for the computer to process them."
   ]
  },
  {
   "cell_type": "code",
   "execution_count": 2,
   "metadata": {
    "vscode": {
     "languageId": "shellscript"
    }
   },
   "outputs": [
    {
     "name": "stdout",
     "output_type": "stream",
     "text": [
      "    PID TTY          TIME CMD\n",
      "      1 pts/0    00:00:00 python3\n",
      "     20 ?        00:00:00 sh\n",
      "    145 ?        00:00:00 sh\n",
      "    164 ?        00:00:00 sh\n",
      "    171 ?        00:00:00 node\n",
      "    181 ?        00:00:03 node\n",
      "    211 ?        00:00:00 sh\n",
      "    229 ?        00:00:00 node\n",
      "    251 ?        00:00:00 node\n"
     ]
    }
   ],
   "source": [
    "ps -e | head -n 10"
   ]
  },
  {
   "cell_type": "markdown",
   "metadata": {},
   "source": [
    "## System limits (ulimit)\n",
    "\n",
    "The `ulimit` Linux utility allows you to view and set user-level resource limits. It provides options for each type of limit, enabling you to control various aspects of system resource usage. To display all available limits, use the `-a` option."
   ]
  },
  {
   "cell_type": "code",
   "execution_count": 3,
   "metadata": {
    "vscode": {
     "languageId": "shellscript"
    }
   },
   "outputs": [
    {
     "name": "stdout",
     "output_type": "stream",
     "text": [
      "real-time non-blocking time  (microseconds, -R) unlimited\n",
      "core file size              (blocks, -c) unlimited\n",
      "data seg size               (kbytes, -d) unlimited\n",
      "scheduling priority                 (-e) 0\n",
      "file size                   (blocks, -f) unlimited\n",
      "pending signals                     (-i) 126472\n",
      "max locked memory           (kbytes, -l) 8192\n",
      "max memory size             (kbytes, -m) unlimited\n",
      "open files                          (-n) 1048576\n",
      "pipe size                (512 bytes, -p) 8\n",
      "POSIX message queues         (bytes, -q) 819200\n",
      "real-time priority                  (-r) 0\n",
      "stack size                  (kbytes, -s) 8192\n",
      "cpu time                   (seconds, -t) unlimited\n",
      "max user processes                  (-u) unlimited\n",
      "virtual memory              (kbytes, -v) unlimited\n",
      "file locks                          (-x) unlimited\n"
     ]
    }
   ],
   "source": [
    "ulimit -a"
   ]
  }
 ],
 "metadata": {
  "kernelspec": {
   "display_name": "Bash",
   "language": "bash",
   "name": "bash"
  },
  "language_info": {
   "codemirror_mode": "shell",
   "file_extension": ".sh",
   "mimetype": "text/x-sh",
   "name": "bash"
  }
 },
 "nbformat": 4,
 "nbformat_minor": 2
}