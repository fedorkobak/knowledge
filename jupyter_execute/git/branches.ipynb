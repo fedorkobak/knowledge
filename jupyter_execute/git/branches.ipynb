{
 "cells": [
  {
   "cell_type": "markdown",
   "id": "83ce8da4-1874-4776-adea-54c20ee69be9",
   "metadata": {},
   "source": [
    "# Branches\n",
    "\n",
    "A branch is a reference to a commit, and can be moved to some future commit. This page gives an overview of the tools git has to work with branches."
   ]
  },
  {
   "cell_type": "markdown",
   "id": "657279dc",
   "metadata": {},
   "source": [
    "## Overview\n",
    "\n",
    "This section provides an overview of the basics of dealing with branches in `git`:\n",
    "\n",
    "- `git branch` for listing available branches.  \n",
    "- `git branch <branch_name>` for creating a new branch.  \n",
    "- `git checkout <branch_name>` for switching between branches.  \n",
    "- How a branch reacts to the creation of a new commit while `HEAD` refers to that branch."
   ]
  },
  {
   "cell_type": "markdown",
   "id": "72eab819",
   "metadata": {},
   "source": [
    "---\n",
    "\n",
    "We will consider the typical operations with git branches with the repository created in the following cell as example."
   ]
  },
  {
   "cell_type": "code",
   "execution_count": 18,
   "id": "b97c65ca",
   "metadata": {
    "vscode": {
     "languageId": "shellscript"
    }
   },
   "outputs": [],
   "source": [
    "mkdir /tmp/branches_overview\n",
    "cd /tmp/branches_overview\n",
    "git init &> /dev/null"
   ]
  },
  {
   "cell_type": "markdown",
   "id": "ccc27df4",
   "metadata": {},
   "source": [
    "A newly created repository will only contain the `master` branch. The next cell shows the `log` of the repo after the first commit."
   ]
  },
  {
   "cell_type": "code",
   "execution_count": 19,
   "id": "c66cfaec",
   "metadata": {
    "vscode": {
     "languageId": "shellscript"
    }
   },
   "outputs": [
    {
     "name": "stdout",
     "output_type": "stream",
     "text": [
      "\u001b[33mcommit 96a988189f4be3526ff4e2bb4e48a192cd4f08c9\u001b[m\u001b[33m (\u001b[m\u001b[1;36mHEAD\u001b[m\u001b[33m -> \u001b[m\u001b[1;32mmaster\u001b[m\u001b[33m)\u001b[m\n",
      "Author: fedor <kobfedsur@gmail.com>\n",
      "Date:   Wed Jan 8 17:25:50 2025 +0300\n",
      "\n",
      "    first commit\n"
     ]
    }
   ],
   "source": [
    "echo \"some text\" &> some_files\n",
    "git add --all\n",
    "git commit -m \"first commit\" &> /dev/null\n",
    "git log --decorate"
   ]
  },
  {
   "cell_type": "markdown",
   "id": "469902e9",
   "metadata": {},
   "source": [
    "The following cell shows awailable branches by using `git branch`."
   ]
  },
  {
   "cell_type": "code",
   "execution_count": 20,
   "id": "6c96b343",
   "metadata": {
    "vscode": {
     "languageId": "shellscript"
    }
   },
   "outputs": [
    {
     "name": "stdout",
     "output_type": "stream",
     "text": [
      "* \u001b[32mmaster\u001b[m\n"
     ]
    }
   ],
   "source": [
    "git branch"
   ]
  },
  {
   "cell_type": "markdown",
   "id": "69670156",
   "metadata": {},
   "source": [
    "There is only the `main` branch. The following code creates an extra branch, `new_branch`, and lists available branches."
   ]
  },
  {
   "cell_type": "code",
   "execution_count": 21,
   "id": "2af5e1f1",
   "metadata": {
    "vscode": {
     "languageId": "shellscript"
    }
   },
   "outputs": [
    {
     "name": "stdout",
     "output_type": "stream",
     "text": [
      "* \u001b[32mmaster\u001b[m\n",
      "  new_branch\u001b[m\n"
     ]
    }
   ],
   "source": [
    "git branch new_branch\n",
    "git branch"
   ]
  },
  {
   "cell_type": "markdown",
   "id": "8c51a234",
   "metadata": {},
   "source": [
    "Now, in `git log`, you can see that both `master` and `new_branch` refer to the same commit. However, the syntax `HEAD -> master` indicates that the `master` branch is currently being used."
   ]
  },
  {
   "cell_type": "code",
   "execution_count": 22,
   "id": "16630ad6",
   "metadata": {
    "vscode": {
     "languageId": "shellscript"
    }
   },
   "outputs": [
    {
     "name": "stdout",
     "output_type": "stream",
     "text": [
      "\u001b[33mcommit 96a988189f4be3526ff4e2bb4e48a192cd4f08c9\u001b[m\u001b[33m (\u001b[m\u001b[1;36mHEAD\u001b[m\u001b[33m -> \u001b[m\u001b[1;32mmaster\u001b[m\u001b[33m, \u001b[m\u001b[1;32mnew_branch\u001b[m\u001b[33m)\u001b[m\n",
      "Author: fedor <kobfedsur@gmail.com>\n",
      "Date:   Wed Jan 8 17:25:50 2025 +0300\n",
      "\n",
      "    first commit\n"
     ]
    }
   ],
   "source": [
    "git log"
   ]
  },
  {
   "cell_type": "markdown",
   "id": "489d0033",
   "metadata": {},
   "source": [
    "With `git checkout new_branch` you can set `new_branch` as the branch that `HEAD` points to."
   ]
  },
  {
   "cell_type": "code",
   "execution_count": 23,
   "id": "ab8294fa",
   "metadata": {
    "vscode": {
     "languageId": "shellscript"
    }
   },
   "outputs": [
    {
     "name": "stdout",
     "output_type": "stream",
     "text": [
      "Switched to branch 'new_branch'\n",
      "\u001b[33mcommit 96a988189f4be3526ff4e2bb4e48a192cd4f08c9\u001b[m\u001b[33m (\u001b[m\u001b[1;36mHEAD\u001b[m\u001b[33m -> \u001b[m\u001b[1;32mnew_branch\u001b[m\u001b[33m, \u001b[m\u001b[1;32mmaster\u001b[m\u001b[33m)\u001b[m\n",
      "Author: fedor <kobfedsur@gmail.com>\n",
      "Date:   Wed Jan 8 17:25:50 2025 +0300\n",
      "\n",
      "    first commit\n"
     ]
    }
   ],
   "source": [
    "git checkout new_branch\n",
    "git log"
   ]
  },
  {
   "cell_type": "markdown",
   "id": "c2ca5215",
   "metadata": {},
   "source": [
    "But what does `HEAD -> new_branch` actually mean? During a `git commit`, `HEAD` points to the new commit, and the branch it refers to moves along with it. The following cell creates a new commit and displays the resulting `git log`."
   ]
  },
  {
   "cell_type": "code",
   "execution_count": 24,
   "id": "87e124ba",
   "metadata": {
    "vscode": {
     "languageId": "shellscript"
    }
   },
   "outputs": [
    {
     "name": "stdout",
     "output_type": "stream",
     "text": [
      "* \u001b[33mcommit 4a10dac0f6c48e7556e066a1348de4ef7b30719c\u001b[m\u001b[33m (\u001b[m\u001b[1;36mHEAD\u001b[m\u001b[33m -> \u001b[m\u001b[1;32mnew_branch\u001b[m\u001b[33m)\u001b[m\n",
      "\u001b[31m|\u001b[m Author: fedor <kobfedsur@gmail.com>\n",
      "\u001b[31m|\u001b[m Date:   Wed Jan 8 17:25:58 2025 +0300\n",
      "\u001b[31m|\u001b[m \n",
      "\u001b[31m|\u001b[m     add new file\n",
      "\u001b[31m|\u001b[m \n",
      "* \u001b[33mcommit 96a988189f4be3526ff4e2bb4e48a192cd4f08c9\u001b[m\u001b[33m (\u001b[m\u001b[1;32mmaster\u001b[m\u001b[33m)\u001b[m\n",
      "  Author: fedor <kobfedsur@gmail.com>\n",
      "  Date:   Wed Jan 8 17:25:50 2025 +0300\n",
      "  \n",
      "      first commit\n"
     ]
    }
   ],
   "source": [
    "echo \"hello\" > new_file\n",
    "git add --all\n",
    "git commit -m \"add new file\" &> /dev/null\n",
    "git log --all --graph"
   ]
  },
  {
   "cell_type": "markdown",
   "id": "e9e03c79",
   "metadata": {},
   "source": [
    "As a result, `HEAD` and `new_branch`, which `HEAD` referred to, have moved to the new commit."
   ]
  }
 ],
 "metadata": {
  "kernelspec": {
   "display_name": "Bash",
   "language": "bash",
   "name": "bash"
  },
  "language_info": {
   "codemirror_mode": "shell",
   "file_extension": ".sh",
   "mimetype": "text/x-sh",
   "name": "bash"
  }
 },
 "nbformat": 4,
 "nbformat_minor": 5
}