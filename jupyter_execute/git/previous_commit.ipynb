{
 "cells": [
  {
   "cell_type": "markdown",
   "id": "d9da1302-df78-4579-b15a-3e915e815c80",
   "metadata": {},
   "source": [
    "# Previous commit `~`\n",
    "\n",
    "You can use the `<commit>~n` construction to reference a commit that is `n` steps back in the commit chain."
   ]
  },
  {
   "cell_type": "markdown",
   "id": "c7f1cf38-969f-4d05-ad5b-db067b3acbeb",
   "metadata": {},
   "source": [
    "## Basic example\n",
    "\n",
    "In the following example:\n",
    "\n",
    "- Two commits were created;\n",
    "- `git log` shows that `HEAD` refer to second commit;\n",
    "- `git show HEAD~1` show the idea:\n",
    "    - `git show` is a command that displays information about a passed commit;\n",
    "    - `HEAD~1` is passed as an argument to `git show`, which means that a commit back from commit `HEAD` refers to;\n",
    "    - So we got information about `first commit`, which is correct, it is a commit back from `second commit`."
   ]
  },
  {
   "cell_type": "code",
   "execution_count": 1,
   "id": "30d27b1c-dc76-4f9b-852a-cd52387d8dde",
   "metadata": {},
   "outputs": [
    {
     "name": "stdout",
     "output_type": "stream",
     "text": [
      "=====git log=====\n",
      "e94d28e (HEAD -> master) second commit\n",
      "73e5ca8 first commit\n",
      "=====git show=====\n",
      "commit 73e5ca80b04925b1f03d6b9e0b164a796439ff71\n",
      "Author: Fedor Kobak <kobfedsur@gmail.com>\n",
      "Date:   Sun Sep 10 10:25:44 2023 +0300\n",
      "\n",
      "    first commit\n",
      "\n",
      "diff --git a/file1 b/file1\n",
      "new file mode 100644\n",
      "index 0000000..e69de29\n"
     ]
    }
   ],
   "source": [
    "%%bash\n",
    "mkdir operations_examples\n",
    "cd operations_examples\n",
    "git init &> /dev/null\n",
    "\n",
    "touch file1\n",
    "git add --all\n",
    "git commit -am \"first commit\" &> /dev/null\n",
    "\n",
    "touch file2\n",
    "git add --all\n",
    "git commit -am \"second commit\" &> /dev/null\n",
    "\n",
    "echo \"=====git log=====\"\n",
    "git log --oneline --decorate\n",
    "echo \"=====git show=====\"\n",
    "git show HEAD~1\n",
    "\n",
    "cd ..\n",
    "rm -r operations_examples"
   ]
  },
  {
   "cell_type": "markdown",
   "id": "7c3542ad-8081-4803-ae14-ace3087127d4",
   "metadata": {},
   "source": [
    "## Use hash\n",
    "\n",
    "I was wondering if it is possible to use the commit hash in this construct, i.e. `<hash>~1`? **Yes, you can!** The following example confirms it:\n",
    "\n",
    "- Created two commits, `first commit` and `second commit`;\n",
    "- Stored hash of `second commit` in variable\n",
    "- I used variable with syntax `~1`;\n",
    "- All is well - I got info on `first commit`, which is one before `second commit`."
   ]
  },
  {
   "cell_type": "code",
   "execution_count": 2,
   "id": "64a1821c-c94d-47a2-8624-1d0335c8c4c3",
   "metadata": {},
   "outputs": [
    {
     "name": "stdout",
     "output_type": "stream",
     "text": [
      "=====git log=====\n",
      "e79a082 (HEAD -> master) second commit\n",
      "3d2a63f first commit\n",
      "=====git show=====\n",
      "commit 3d2a63fcbd20eb9730ae250cef9ab6133e60ef19\n",
      "Author: Fedor Kobak <kobfedsur@gmail.com>\n",
      "Date:   Sun Sep 10 10:35:54 2023 +0300\n",
      "\n",
      "    first commit\n",
      "\n",
      "diff --git a/file1 b/file1\n",
      "new file mode 100644\n",
      "index 0000000..e69de29\n"
     ]
    }
   ],
   "source": [
    "%%bash\n",
    "mkdir operations_examples\n",
    "cd operations_examples\n",
    "git init &> /dev/null\n",
    "\n",
    "touch file1\n",
    "git add --all\n",
    "git commit -am \"first commit\" &> /dev/null\n",
    "\n",
    "touch file2\n",
    "git add --all\n",
    "git commit -am \"second commit\" &> /dev/null\n",
    "second_hash=$(git rev-parse HEAD)\n",
    "\n",
    "echo \"=====git log=====\"\n",
    "git log --oneline --decorate\n",
    "echo \"=====git show=====\"\n",
    "git show $second_hash~1\n",
    "\n",
    "cd ..\n",
    "rm -r operations_examples"
   ]
  }
 ],
 "metadata": {
  "kernelspec": {
   "display_name": "Python 3 (ipykernel)",
   "language": "python",
   "name": "python3"
  },
  "language_info": {
   "codemirror_mode": {
    "name": "ipython",
    "version": 3
   },
   "file_extension": ".py",
   "mimetype": "text/x-python",
   "name": "python",
   "nbconvert_exporter": "python",
   "pygments_lexer": "ipython3",
   "version": "3.10.12"
  }
 },
 "nbformat": 4,
 "nbformat_minor": 5
}