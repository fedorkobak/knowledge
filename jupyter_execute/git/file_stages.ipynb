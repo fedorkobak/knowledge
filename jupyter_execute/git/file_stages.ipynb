{
 "cells": [
  {
   "cell_type": "markdown",
   "id": "12c8ac52-f04a-475a-80a6-4dd24d175e75",
   "metadata": {},
   "source": [
    "# File statuses\n",
    "\n",
    "In git, files can take on different states with respect to the current commit. The following picture mention central idea.\n",
    "\n",
    "<img src=\"stages_files/areas.png\">"
   ]
  },
  {
   "cell_type": "markdown",
   "id": "dd55ca89-d750-4d34-8351-fa272b5852ff",
   "metadata": {},
   "source": [
    "## Get status\n",
    "\n",
    "The `git status` command allows you to get some information about the current status of the git repository. This command is very common on this site, so you can find many different examples of how to use it."
   ]
  },
  {
   "cell_type": "markdown",
   "id": "58b06645-09ec-4fe5-a1ef-22bfc218282b",
   "metadata": {},
   "source": [
    "## Untracked files\n",
    "\n",
    "If git hasn't seen a file before, it will correspond to this category. You can find files on this stage in `Untracked files` section of `git status` command.\n",
    "\n",
    "In the following example, I am simply trying to add a `some text` file to the freshly created git repo, and when I call `git status`, I can find it in the untracked files section. "
   ]
  },
  {
   "cell_type": "code",
   "execution_count": 7,
   "id": "a24df768-95ca-4351-b06b-d079650df9c5",
   "metadata": {},
   "outputs": [
    {
     "name": "stdout",
     "output_type": "stream",
     "text": [
      "=====Empty repo=====\n",
      "On branch master\n",
      "\n",
      "No commits yet\n",
      "\n",
      "nothing to commit (create/copy files and use \"git add\" to track)\n",
      "\n",
      "=====One file added=====\n",
      "On branch master\n",
      "\n",
      "No commits yet\n",
      "\n",
      "Untracked files:\n",
      "  (use \"git add <file>...\" to include in what will be committed)\n",
      "\ttest_file\n",
      "\n",
      "nothing added to commit but untracked files present (use \"git add\" to track)\n"
     ]
    }
   ],
   "source": [
    "%%bash\n",
    "mkdir status_test\n",
    "cd status_test\n",
    "git init &> /dev/null\n",
    "\n",
    "echo \"=====Empty repo=====\"\n",
    "git status\n",
    "echo \"some text\" > test_file\n",
    "echo\n",
    "echo \"=====One file added=====\"\n",
    "git status\n",
    "\n",
    "cd ..\n",
    "rm -r  status_test"
   ]
  },
  {
   "cell_type": "markdown",
   "id": "28015057-37f4-4091-8e61-40918bb1627e",
   "metadata": {},
   "source": [
    "To make git track some file you should use command `git add <filemane>`."
   ]
  },
  {
   "cell_type": "markdown",
   "id": "be8f7ef8-ccdc-43e6-922d-2ed0263a1128",
   "metadata": {},
   "source": [
    "## Staged"
   ]
  },
  {
   "cell_type": "markdown",
   "id": "99bbf3de-9f83-4767-a397-d0704afafffd",
   "metadata": {},
   "source": [
    "These are the files for the next commit.\n",
    "\n",
    "In `git status` they're shown in the `Changes to be committed` section.\n",
    "\n",
    "So in the following example, I have created and added a file to be tracked in the git repo, and show the result of `git status` for such a repository."
   ]
  },
  {
   "cell_type": "code",
   "execution_count": 12,
   "id": "681a673c-f87e-4587-a2a6-f5ce1016747f",
   "metadata": {},
   "outputs": [
    {
     "name": "stdout",
     "output_type": "stream",
     "text": [
      "\n",
      "=====File to be commited=====\n",
      "On branch master\n",
      "\n",
      "No commits yet\n",
      "\n",
      "Changes to be committed:\n",
      "  (use \"git rm --cached <file>...\" to unstage)\n",
      "\tnew file:   test_file\n",
      "\n"
     ]
    }
   ],
   "source": [
    "%%bash\n",
    "mkdir status_test\n",
    "cd status_test\n",
    "git init &> /dev/null\n",
    "\n",
    "echo \"some text\" > test_file\n",
    "git add test_file\n",
    "echo\n",
    "echo \"=====File to be commited=====\"\n",
    "git status\n",
    "\n",
    "cd ..\n",
    "rm -r  status_test"
   ]
  },
  {
   "cell_type": "markdown",
   "id": "73070cbe-1e93-4f39-9a30-5a61135d345e",
   "metadata": {},
   "source": [
    "You can commit changes by using `git commit` command."
   ]
  },
  {
   "cell_type": "markdown",
   "id": "5edcb284-cd03-4e2b-880e-6f7e22ef0d7c",
   "metadata": {},
   "source": [
    "## Commited files\n",
    "\n",
    "If you just commit all the files and check git status, you will always get the same message.\n",
    "\n",
    "You can also check the list of commits using `git log`.\n",
    "\n",
    "So in the following example, I will try `git commit` and `git log` on the repository with a single commit and no changes since that commit."
   ]
  },
  {
   "cell_type": "code",
   "execution_count": 18,
   "id": "7b32394c-3424-42c6-b874-04aec67eb439",
   "metadata": {},
   "outputs": [
    {
     "name": "stdout",
     "output_type": "stream",
     "text": [
      "\n",
      "=====git status=====\n",
      "On branch master\n",
      "nothing to commit, working tree clean\n",
      "=====git log=====\n",
      "commit 6e0339d191892a011e66351179c1b7cb9b08b292\n",
      "Author: Fedor Kobak <kobfedsur@gmail.com>\n",
      "Date:   Wed Sep 6 15:02:05 2023 +0300\n",
      "\n",
      "    my message\n"
     ]
    }
   ],
   "source": [
    "%%bash\n",
    "mkdir status_test\n",
    "cd status_test\n",
    "git init &> /dev/null\n",
    "\n",
    "echo \"some text\" > test_file\n",
    "git add test_file\n",
    "git commit -m \"my message\" &> /dev/null\n",
    "echo\n",
    "echo \"=====git status=====\"\n",
    "git status\n",
    "echo \"=====git log=====\"\n",
    "git log\n",
    "\n",
    "\n",
    "cd ..\n",
    "rm -r  status_test"
   ]
  },
  {
   "cell_type": "markdown",
   "id": "eb6f085d-5120-4b50-b30c-4e67f6636155",
   "metadata": {},
   "source": [
    "## Changed\n",
    "\n",
    "Any file that has been changed since the last commit will appear in the `Changes not staged to commit` section, so if you try to commit in this momed, any changes made to these files won't be committed.\n",
    "\n",
    "To commit these changes you need to use `git add` or `git commit -a`.\n",
    "\n",
    "The following example shows the difference:\n",
    "\n",
    "- The first print shows `test_file` as `modified` in the `Changes not staged for commit` block;\n",
    "- Second block corresponds to case if you're trying to commit unstaged files. Interestingly, if you're trying to commit without any changes, it won't commit and will print as for `git status`;\n",
    "- Last block is same as previous, but before committing I did `git add <filename>` - so new commit was added, which is displayed in the `git status` and `git log` results."
   ]
  },
  {
   "cell_type": "code",
   "execution_count": 37,
   "id": "28aad2fd-06f5-47b6-8a0b-48551d8ac958",
   "metadata": {},
   "outputs": [
    {
     "name": "stdout",
     "output_type": "stream",
     "text": [
      "=====Changed file=====\n",
      "On branch master\n",
      "Changes not staged for commit:\n",
      "  (use \"git add <file>...\" to update what will be committed)\n",
      "  (use \"git restore <file>...\" to discard changes in working directory)\n",
      "\tmodified:   test_file\n",
      "\n",
      "no changes added to commit (use \"git add\" and/or \"git commit -a\")\n",
      "\n",
      "=====Not added commit=====\n",
      "-----git commit-----\n",
      "On branch master\n",
      "Changes not staged for commit:\n",
      "  (use \"git add <file>...\" to update what will be committed)\n",
      "  (use \"git restore <file>...\" to discard changes in working directory)\n",
      "\tmodified:   test_file\n",
      "\n",
      "no changes added to commit (use \"git add\" and/or \"git commit -a\")\n",
      "-----git log-----\n",
      "aaad9bc first commit\n",
      "\n",
      "=====Add file=====\n",
      "-----git commit-----\n",
      "[master 4dba109] second commit\n",
      " 1 file changed, 1 insertion(+), 1 deletion(-)\n",
      "-----git status-----\n",
      "On branch master\n",
      "nothing to commit, working tree clean\n",
      "-----git log-----\n",
      "4dba109 second commit\n",
      "aaad9bc first commit\n"
     ]
    }
   ],
   "source": [
    "%%bash\n",
    "mkdir status_test\n",
    "cd status_test\n",
    "git init &> /dev/null\n",
    "\n",
    "echo \"some text\" > test_file\n",
    "git add test_file &> /dev/null\n",
    "git commit -m \"first commit\" &> /dev/null\n",
    "echo \"some other text\" > test_file\n",
    "\n",
    "echo \"=====Changed file=====\"\n",
    "git status\n",
    "\n",
    "echo\n",
    "echo \"=====Not added commit=====\"\n",
    "echo \"-----git commit-----\"\n",
    "git commit -m \"unsuccessful commit\"\n",
    "echo \"-----git log-----\"\n",
    "git log --oneline\n",
    "\n",
    "echo\n",
    "echo \"=====Add file=====\"\n",
    "git add test_file\n",
    "echo \"-----git commit-----\"\n",
    "git commit -m \"second commit\"\n",
    "echo \"-----git status-----\"\n",
    "git status\n",
    "echo \"-----git log-----\"\n",
    "git log --oneline\n",
    "\n",
    "cd ..\n",
    "rm -r  status_test"
   ]
  }
 ],
 "metadata": {
  "kernelspec": {
   "display_name": "Python 3 (ipykernel)",
   "language": "python",
   "name": "python3"
  },
  "language_info": {
   "codemirror_mode": {
    "name": "ipython",
    "version": 3
   },
   "file_extension": ".py",
   "mimetype": "text/x-python",
   "name": "python",
   "nbconvert_exporter": "python",
   "pygments_lexer": "ipython3",
   "version": "3.10.12"
  }
 },
 "nbformat": 4,
 "nbformat_minor": 5
}