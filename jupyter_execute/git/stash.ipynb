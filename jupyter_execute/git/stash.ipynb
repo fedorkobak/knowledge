{
 "cells": [
  {
   "cell_type": "markdown",
   "id": "e9476299-5e88-4670-bad0-a45021745778",
   "metadata": {},
   "source": [
    "# Stash\n",
    "\n",
    "It's common case when you need to switch to anoter branch during work. So you have to somehow save changes on the current branch. Of course you can commit change, but it's not really good to create commit while some stage wasn't finished.\n",
    "\n",
    "For such cases there is a special tool called `git stash`. You can store the state of your project and use it when you need it."
   ]
  },
  {
   "cell_type": "markdown",
   "id": "fcc7c45a-f03a-41e7-a68a-8122fbdf4a07",
   "metadata": {},
   "source": [
    "The following example shows that a file added to stage can be removed from the project and put into stash - it didn't show up on the `ls` output. But then we used the `git stash apply` command to put the file back into the repository."
   ]
  },
  {
   "cell_type": "code",
   "execution_count": 1,
   "id": "db99ce9c-bedb-43f3-8679-ba54f517fdc5",
   "metadata": {},
   "outputs": [
    {
     "name": "stdout",
     "output_type": "stream",
     "text": [
      "=====just created file2=====\n",
      "file\n",
      "file2\n",
      "=====now stashing=====\n",
      "Saved working directory and index state WIP on master: de96025 initial commit\n",
      "file\n",
      "=====stash apply=====\n",
      "On branch master\n",
      "Changes to be committed:\n",
      "  (use \"git restore --staged <file>...\" to unstage)\n",
      "\tnew file:   file2\n",
      "\n",
      "file\n",
      "file2\n"
     ]
    }
   ],
   "source": [
    "%%bash\n",
    "mkdir stash_temp\n",
    "cd stash_temp \n",
    "\n",
    "git init &> /dev/null\n",
    "echo \"some content\" > file\n",
    "git add file\n",
    "git commit -m \"initial commit\" &> /dev/null\n",
    "\n",
    "echo \"=====just created file2=====\"\n",
    "echo \"some content\" > file2\n",
    "ls\n",
    "\n",
    "echo \"=====now stashing=====\"\n",
    "git add file2\n",
    "git stash\n",
    "ls\n",
    "\n",
    "echo \"=====stash apply=====\"\n",
    "git stash apply\n",
    "ls\n",
    "\n",
    "cd ..\n",
    "rm -r stash_temp"
   ]
  }
 ],
 "metadata": {
  "kernelspec": {
   "display_name": "Python 3 (ipykernel)",
   "language": "python",
   "name": "python3"
  },
  "language_info": {
   "codemirror_mode": {
    "name": "ipython",
    "version": 3
   },
   "file_extension": ".py",
   "mimetype": "text/x-python",
   "name": "python",
   "nbconvert_exporter": "python",
   "pygments_lexer": "ipython3",
   "version": "3.10.12"
  }
 },
 "nbformat": 4,
 "nbformat_minor": 5
}