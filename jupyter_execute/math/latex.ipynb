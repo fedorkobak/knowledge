{
 "cells": [
  {
   "cell_type": "markdown",
   "id": "82d63b61-0c63-4c0c-8e14-f0ae4e8ad57d",
   "metadata": {},
   "source": [
    "# Latex"
   ]
  },
  {
   "cell_type": "markdown",
   "id": "3abb95f9-53af-4b6d-b675-1f5ef4450a5e",
   "metadata": {},
   "source": [
    "## Sources\n",
    "\n",
    "You can find some additional information here:\n",
    "\n",
    "<!-- for some reason, quarto doesn't interpret links that are simply written in a markdown cell as a link, so I've wrapped it in a tag here.-->\n",
    "- <a href=\"http://tex.imm.uran.ru/tex/2e/lshort2e/node52.html\">http://tex.imm.uran.ru/tex/2e/lshort2e/node52.html</a>;\n",
    "- <a href=\"https://ido.tsuab.ru/mod/book/view.php?id=62&chapterid=23\">https://ido.tsuab.ru/mod/book/view.php?id=62&chapterid=23</a>;\n",
    "- <a href=\"https://ido.tsuab.ru/mod/book/view.php?id=62&chapterid=23\">https://ru.overleaf.com/learn/latex/List_of_Greek_letters_and_math_symbols</a>."
   ]
  },
  {
   "cell_type": "markdown",
   "id": "ddd981d2-d9aa-4b16-80c0-879264f52f75",
   "metadata": {},
   "source": [
    "## Comparison\n",
    "\n",
    "`\\leq` - $\\leq$, `\\geq` - $\\geq$, `\\approx` - $\\approx$, `\\neq` - $\\neq$, `\\sim` - $\\sim$."
   ]
  },
  {
   "cell_type": "markdown",
   "id": "7497f681-95ff-4ec4-ad7f-136b63795d2a",
   "metadata": {},
   "source": [
    "## Proofs symbols"
   ]
  },
  {
   "cell_type": "markdown",
   "id": "797c18ed-0461-45d9-bf7d-61c1d135011e",
   "metadata": {},
   "source": [
    "`\\forall` - $\\forall$, `\\Leftarrow` - $\\Leftarrow$, `\\Rightarrow` - $\\Rightarrow$, `\\Leftrightarrow` - $\\Leftrightarrow$, `\\boxtimes` - $\\boxtimes$."
   ]
  },
  {
   "cell_type": "markdown",
   "id": "50f35fb1-bb2b-4533-b82a-c62f68dcbdae",
   "metadata": {},
   "source": [
    "## Greek alphabet\n",
    "\n",
    "Here is a list of the Greek alphabet and the corresponding LaTeX for each letter:\n",
    "\n",
    "| Name    | LaTeX      | Rendered     | LaTeX      | Rendered     |\n",
    "| ------- | ---------- | ------------ | ---------- | ------------ |\n",
    "| Alpha   | `\\alpha`   | $\\alpha$   | `A`        | $A$        |\n",
    "| Beta    | `\\beta`    | $\\beta$    | `B`        | $B$        |\n",
    "| Gamma   | `\\gamma`   | $\\gamma$   | `\\Gamma`   | $\\Gamma$   |\n",
    "| Delta   | `\\delta`   | $\\delta$   | `\\Delta`   | $\\Delta$   |\n",
    "| Epsilon | `\\epsilon` | $\\epsilon$ | `E`        | $E$        |\n",
    "| Zeta    | `\\zeta`    | $\\zeta$    | `Z`        | $Z$        |\n",
    "| Eta     | `\\eta`     | $\\eta$     | `H`        | $H$        |\n",
    "| Theta   | `\\theta`   | $\\theta$   | `\\Theta`   | $\\Theta$   |\n",
    "| Iota    | `\\iota`    | $\\iota$    | `I`        | $I$        |\n",
    "| Kappa   | `\\kappa`   | $\\kappa$   | `K`   | $K$        |\n",
    "| Lambda  | `\\lambda`  | $\\lambda$  | `\\Lambda`  | $\\Lambda$  |\n",
    "| Mu      | `\\mu`      | $\\mu$      | `M`        | $M$        |\n",
    "| Nu      | `\\nu`      | $\\nu$      | `N`        | $N$        |\n",
    "| Xi      | `\\xi`      | $\\xi$      | `\\Xi`      | $\\Xi$      |\n",
    "| Omicron | `o`        | $o$        | `O`        | $O$        |\n",
    "| Pi      | `\\pi`      | $\\pi$      | `\\Pi`      | $\\Pi$      |\n",
    "| Rho     | `\\rho`     | $\\rho$     | `P`        | $P$        |\n",
    "| Sigma   | `\\sigma`   | $\\sigma$   | `\\Sigma`   | $\\Sigma$   |\n",
    "| Tau     | `\\tau`     | $\\tau$     | `T`        | $T$        |\n",
    "| Upsilon | `\\upsilon` | $\\upsilon$ | `\\Upsilon` | $\\Upsilon$ |\n",
    "| Phi     | `\\phi`     | $\\phi$     | `\\Phi`     | $\\Phi$     |\n",
    "| Chi     | `\\chi`     | $\\chi$     | `X`        | $X$        |\n",
    "| Psi     | `\\psi`     | $\\psi$     | `\\Psi`     | $\\Psi$     |\n",
    "| Omega   | `\\omega`   | $\\omega$   | `\\Omega`   | $\\Omega$   |\n",
    "\n",
    "**Note:** Some rendering engines interpret special commands for symbols that are identical to modern English letters — e.g., `\\Alpha` for the symbol \\$A\\$. However, some interpreters (including browsers) do not recognize these commands, so it is recommended to use regular characters instead."
   ]
  },
  {
   "cell_type": "markdown",
   "id": "fa2582f1",
   "metadata": {},
   "source": [
    "There are some special forms for classical letters:\n",
    "\n",
    "`\\varphi`: $\\varphi$;`\\varepsilon`: $\\epsilon$."
   ]
  },
  {
   "cell_type": "markdown",
   "id": "8f669a37",
   "metadata": {},
   "source": [
    "## Popular functions\n",
    "\n",
    "TeX has special commands for popular mathematical functions. If a command is used to render a function, the result may look slightly different. \n",
    "\n",
    "The LaTeX code `$\\sin \\& sin$` will be rendered as: $\\sin \\& sin$.\n",
    "\n",
    "The following table shows some of the functions that have corresponding commands in TeX.\n",
    "\n",
    "| LaTeX Command   | Rendered Output | Description                  |\n",
    "|----------------|------------------|------------------------------|\n",
    "| `\\arccos`      | $\\arccos$        | Inverse cosine               |\n",
    "| `\\arcsin`      | $\\arcsin$        | Inverse sine                 |\n",
    "| `\\arctan`      | $\\arctan$        | Inverse tangent              |\n",
    "| `\\cos`         | $\\cos$           | Cosine                       |\n",
    "| `\\cosh`        | $\\cosh$          | Hyperbolic cosine            |\n",
    "| `\\cot`         | $\\cot$           | Cotangent                    |\n",
    "| `\\coth`        | $\\coth$          | Hyperbolic cotangent         |\n",
    "| `\\csc`         | $\\csc$           | Cosecant                     |\n",
    "| `\\deg`         | $\\deg$           | Degree (angle)               |\n",
    "| `\\det`         | $\\det$           | Determinant                  |\n",
    "| `\\dim`         | $\\dim$           | Dimension                    |\n",
    "| `\\exp`         | $\\exp$           | Exponential function         |\n",
    "| `\\gcd`         | $\\gcd$           | Greatest common divisor      |\n",
    "| `\\hom`         | $\\hom$           | Homomorphism                 |\n",
    "| `\\inf`         | $\\inf$           | Infimum                      |\n",
    "| `\\ker`         | $\\ker$           | Kernel                       |\n",
    "| `\\lg`          | $\\lg$            | Logarithm base 10            |\n",
    "| `\\lim`         | $\\lim$           | Limit                        |\n",
    "| `\\liminf`      | $\\liminf$        | Limit inferior               |\n",
    "| `\\limsup`      | $\\limsup$        | Limit superior               |\n",
    "| `\\ln`          | $\\ln$            | Natural logarithm            |\n",
    "| `\\log`         | $\\log$           | Logarithm                    |\n",
    "| `\\max`         | $\\max$           | Maximum                      |\n",
    "| `\\min`         | $\\min$           | Minimum                      |\n",
    "| `\\Pr`          | $\\Pr$            | Probability operator         |\n",
    "| `\\sec`         | $\\sec$           | Secant                       |\n",
    "| `\\sin`         | $\\sin$           | Sine                         |\n",
    "| `\\sinh`        | $\\sinh$          | Hyperbolic sine              |\n",
    "| `\\sup`         | $\\sup$           | Supremum                     |\n",
    "| `\\tan`         | $\\tan$           | Tangent                      |\n",
    "| `\\tanh`        | $\\tanh$          | Hyperbolic tangent           |\n"
   ]
  },
  {
   "cell_type": "markdown",
   "id": "709ea7d1-8c20-4364-b519-814a0b6e8025",
   "metadata": {},
   "source": [
    "## Upper excreta"
   ]
  },
  {
   "cell_type": "markdown",
   "id": "9424eca4-0204-4cee-a29f-eb1ef63488ae",
   "metadata": {},
   "source": [
    "- `\\tilde{ffff}` - $\\tilde{ffff}$, `\\widetilde{ffff}` - $\\widetilde{ffff}$;\n",
    "- `\\hat{ffff}` - $\\hat{ffff}$, `\\widehat{ffff}` - $\\widehat{ffff}$;\n",
    "- `\\bar{ffff}` - $\\bar{ffff}$, `\\overline{ffff}` - $\\overline{ffff}$."
   ]
  },
  {
   "cell_type": "markdown",
   "id": "5aeea142-93ca-410b-a265-5f7c9d2b6312",
   "metadata": {},
   "source": [
    "## Operations with sets"
   ]
  },
  {
   "cell_type": "markdown",
   "id": "a65ba9aa-4476-4947-901b-2e8d86c373a0",
   "metadata": {},
   "source": [
    "- `A \\in B` - $A \\in B$.\n",
    "- `A \\subset B` - $A \\subset B$.\n",
    "- `A \\supset B` - $A \\supset B$.\n",
    "- `A \\subseteq B` - $A \\subseteq B$.\n",
    "- `A \\supseteq B` - $A \\supseteq B$.\n",
    "- `A \\cup B` - $A \\cup B$.\n",
    "- `A \\cap B` - $A \\cap B$."
   ]
  },
  {
   "cell_type": "markdown",
   "id": "8ce18429",
   "metadata": {},
   "source": [
    "It is common in notation to use an operator that appears as a crossed-out version of another. In some cases, there are special symbols, such as `\\notin`. However, in general, you can simply use the `\\not` command before the symbol you want to negate.\n",
    "\n",
    "- `A \\notin B \\not\\in C` - $A \\notin B \\not\\in C$.\n",
    "- `A \\not\\subset B` - $A \\not\\subset B$.\n",
    "- `A \\not\\supset B` - $A \\not\\supset B$.\n",
    "- `A \\not\\subseteq B` - $A \\not\\subseteq B$.\n",
    "- `A \\not\\supseteq B` - $A \\not\\supseteq B$.\n",
    "- `A \\notcup \\not\\cup B` - $A \\not\\cup B$.\n",
    "- `A \\not\\cap B` - $A \\not\\cap B$.\n",
    "\n",
    "**Note** that the symbols `cup` and `cap` sumbols look strange when combined with the `not` operation. It appears that they are not supposed to be used together."
   ]
  },
  {
   "cell_type": "markdown",
   "id": "054ef524-7b39-4366-8230-953646630e6e",
   "metadata": {},
   "source": [
    "## Binary operators"
   ]
  },
  {
   "cell_type": "markdown",
   "id": "e2bfe961-f262-4086-a84e-c3630f6fb7f6",
   "metadata": {},
   "source": [
    "- `A \\times B` - $A \\times B$;\n",
    "- `A \\pm B` - $A \\pm B$."
   ]
  },
  {
   "cell_type": "markdown",
   "id": "d2b965fe-c452-4560-929b-5c57c417f1e9",
   "metadata": {},
   "source": [
    "## Existance"
   ]
  },
  {
   "cell_type": "markdown",
   "id": "1f14a809-0b27-4415-a366-71fdab0a47d2",
   "metadata": {},
   "source": [
    "- `\\exists a` - $\\exists a$;\n",
    "- `\\nexists a` - $\\nexists a$."
   ]
  },
  {
   "cell_type": "markdown",
   "id": "3f5ec4f8",
   "metadata": {},
   "source": [
    "## Ellipses\n",
    "\n",
    "**Ellipses** is a symbol that looks like three dots in a row. They are typically used to show that some elements are omitted from the notation. These hidden elements follow a pattern that should be obvious from the explicitly stated ones.\n",
    "\n",
    "The following tables shows typical ellipsis symbols:\n",
    "\n",
    "| Command        |Rendered  | Description                                                | Example                                                   |\n",
    "| ---------------| -------- | ---------------------------------------------------------- | --------------------------------------------------------- |\n",
    "| `\\ldots`       | $\\ldots$ | **L**ow dots are used to skip some elements of the sequnce | $a_1, a_2, \\ldots, a_n $                                  |\n",
    "| `\\cdots`       | $\\cdots$ | **C**entered dots                                          | $\\begin{array}{c} a_1 & a_2 & \\cdots & a_n & \\end{array}$ |\n",
    "| `\\vdots`       | $\\vdots$ | **V**ertical dots                                          | $\\begin{array}{ccc} a_1 \\\\ \\vdots \\\\ a_2 \\end{array}$     |\n",
    "| `\\ddots`       | $\\ddots$ | Diagonal patterns                                          |                                                           |\n",
    "| `\\dotsc`       | $\\dotsc$ | With commas                                                |                                                           |\n",
    "| `\\dotsb`       | $\\dotsb$ | Binary operations                                          |                                                           |\n",
    "| `\\dotsm`       | $\\dotsm$ | Multiplication                                             |                                                           |\n",
    "| `\\dotsi`       | $\\dotsi$ | Integrals, sums                                            |                                                           |\n",
    "| `\\dotso`       | $\\dotso$ | Miscellaneous                                              |                                                           |\n"
   ]
  },
  {
   "cell_type": "markdown",
   "id": "da7a5d0b",
   "metadata": {},
   "source": [
    "## Vertical bar\n",
    "\n",
    "There is a lot of cases when vertical bars in mathematical notation can be used. And there is a set of options how you can peform that:\n",
    "\n",
    "- Defining conditions for sets $\\{x \\in \\mathbb{R} \\mid x>0 \\}$.\n",
    "- Conditional probability $P(A \\mid B)$.\n",
    "- It can be used as brackets for an expression; a typical expression for the Euclidean norm is $\\| A \\|$."
   ]
  },
  {
   "cell_type": "markdown",
   "id": "03f7224c",
   "metadata": {},
   "source": [
    "There are few ways to create such symbol:\n",
    "\n",
    "- Just use `|` symbol: `$A|B$`-$A|B$.\n",
    "- Use `\\mid` keyword, the most typical option, create some extra spacing for symbols before and after: `$A|B \\mid C$`- $A|B \\mid C$\n",
    "- Use `\\vert` keyword, I haven't found difference with using `|` symbol yet: `$A|B \\vert C$` - $A|B \\vert C$.\n",
    "- For creating brackets as two close positioned vertical lines use `\\|`: `$\\|A\\|$` - $\\|A\\|$.\n"
   ]
  },
  {
   "cell_type": "markdown",
   "id": "08cdfa9d-489f-45bd-9a82-4f42ee8bb6e7",
   "metadata": {},
   "source": [
    "## Joining case\n",
    "\n",
    "The following instructions are used to create a parenthesis in `latex`:\n",
    "\n",
    "- `\\begin{cases} <expression>  \\\\end{cases}` - will put `expression` under the bracket;\n",
    "- `\\\\` - to jump to a new line for an expression under a bracket.\n",
    "\n",
    "For example expression:"
   ]
  },
  {
   "cell_type": "markdown",
   "id": "c28d7433-6519-4b4e-804a-aa9cb8e94c86",
   "metadata": {},
   "source": [
    "    $$\\begin{cases}\n",
    "          line1; \\\\\n",
    "          line2.\n",
    "    \\end{cases}$$"
   ]
  },
  {
   "cell_type": "markdown",
   "id": "1a228068-9be5-4fcf-b577-b082d0520609",
   "metadata": {},
   "source": [
    "Will show markdown:\n",
    "\n",
    "$$\\begin{cases}\n",
    "      line1; \\\\\n",
    "      line2.\n",
    "\\end{cases}$$"
   ]
  },
  {
   "cell_type": "markdown",
   "id": "98259f83-1457-4dc3-bd00-c1135b2aad1d",
   "metadata": {},
   "source": [
    "## Expression numbers\n",
    "\n",
    "Using command `\\tag`\n",
    "\n",
    "For example:"
   ]
  },
  {
   "cell_type": "markdown",
   "id": "c0187e55-27b1-4b59-896b-f7c2d785253f",
   "metadata": {},
   "source": [
    "    $$\\frac{\\delta}{\\gamma} \\tag{hello}$$"
   ]
  },
  {
   "cell_type": "markdown",
   "id": "140080d3-9c0e-4066-acbc-4d9c220ea8d7",
   "metadata": {},
   "source": [
    "$$\\frac{\\delta}{\\gamma} \\tag{hello}$$"
   ]
  },
  {
   "cell_type": "markdown",
   "id": "32cc4b8b-d26b-4f96-970e-366093883741",
   "metadata": {},
   "source": [
    "## Brakets"
   ]
  },
  {
   "cell_type": "markdown",
   "id": "f5bb2fa6-e9b7-40a4-afd1-84230827e2cf",
   "metadata": {},
   "source": [
    "### Rounding"
   ]
  },
  {
   "cell_type": "markdown",
   "id": "49b2db6a-1148-4ab0-836e-e9d65bec3900",
   "metadata": {},
   "source": [
    "- Floor `\\lfloor a \\rfloor` - $\\lfloor a \\rfloor$;\n",
    "- Ceil `\\lceil a \\rceil` - $\\lceil a \\rceil$;\n",
    "- **Note** $\\lfloor 5.31 \\rfloor = 5, \\lfloor -5.31 \\rfloor = -6, \\lceil 5.31 \\rceil = 6, \\lceil -5.31 \\rceil=-5$."
   ]
  },
  {
   "cell_type": "markdown",
   "id": "0b182208-a66a-44bb-8aa8-b4b50ff173d1",
   "metadata": {},
   "source": [
    "### To wrap in brackets"
   ]
  },
  {
   "cell_type": "markdown",
   "id": "1e40a37c-e45a-4d7c-a3df-ddf6674f112a",
   "metadata": {},
   "source": [
    "Expression like:\n",
    "\n",
    "    $$[\\frac{\\sum_i^n}{\\prod_i^n}]$$\n",
    "    \n",
    "Will be interpreted like:\n",
    "    \n",
    "$$[\\frac{\\sum_i^n}{\\prod_i^n}]$$\n",
    "\n",
    "The problem is that a square bracket does not completely close the expression it surrounds. To fix this, you need to put the tag `$\\left$` before the opening bracket and `$\\right$` before the closing bracket. That is, the expression:\n",
    "\n",
    "    $$\\left[\\frac{\\sum_i^n}{\\prod_i^n}\\right]$$\n",
    "    \n",
    "Which will be interpreted like this:\n",
    "\n",
    "$$\\left[\\frac{\\sum_i^n}{\\prod_i^n}\\right]$$\n",
    "\n",
    "You can even use it with types of parentheses defined by other keywords. For example expression: \n",
    "\n",
    "    \\left\\lceil \\frac{a}{b} \\right\\rceil\n",
    "\n",
    "will look like:\n",
    "\n",
    "$$\\left\\lceil \\frac{a}{b} \\right\\rceil$$"
   ]
  },
  {
   "cell_type": "markdown",
   "id": "5a23e5b6-ce54-488a-8964-b82e80698e35",
   "metadata": {},
   "source": [
    "## Matrices\n",
    "\n",
    "To create the matrix, you will need:\n",
    "- Opening and closing brackets `\\left(`, `\\right)`;\n",
    "- The `\\betting{array}` `\\end{array}` instruction will allow you to create table elements inside the bracket.  (*in order to start the wod after opening `\\begin{array}`, you will have to put `\\\\`*);\n",
    "- The `&` symbol is used to move to the next element of the string;\n",
    "- To move to the next line element, the `\\\\` is used;\n",
    "- To fill in the intermediate places between matrix elements, you may need to use multipo dots:\n",
    "    - Horizontal dots `\\cdots` - $\\cdots$;\n",
    "    - Vertical dots `\\vdots` - $\\vdots$;\n",
    "    - Dianal polynomial dots - $\\ddots$:"
   ]
  },
  {
   "cell_type": "markdown",
   "id": "2ed4e572-5263-417b-9603-10056bf2192f",
   "metadata": {},
   "source": [
    "Thus an entry of the form:\n",
    "\n",
    "    $$\n",
    "    \\left(\\begin{array}{cccc}\n",
    "        a_{11} & a_{12} & \\cdots & a_{1n} \\\\ \n",
    "        a_{21} & a_{22} & \\cdots & a_{2n} \\\\ \n",
    "        \\vdots & \\vdots & \\ddots & \\vdots \\\\\n",
    "        a_{n1} & a_{n2} & \\cdots & a_{nn} \n",
    "    \\end{array}\\right)\n",
    "    $$\n",
    "\n",
    "Will allow you to form an expression of the form:\n",
    "\n",
    "$$\n",
    "\\left(\\begin{array}{cccc}\n",
    "    a_{11} & a_{12} & \\cdots & a_{1n} \\\\ \n",
    "    a_{21} & a_{22} & \\cdots & a_{2n} \\\\ \n",
    "    \\vdots & \\vdots & \\ddots & \\vdots \\\\\n",
    "    a_{n1} & a_{n2} & \\cdots & a_{nn} \n",
    "\\end{array}\\right)\n",
    "$$"
   ]
  },
  {
   "cell_type": "markdown",
   "id": "d83bf899-fce4-473c-9967-aaca3dcc4a67",
   "metadata": {},
   "source": [
    "## Letters with empty space\n",
    "\n",
    "Usually used to denote moieties. To write a letter in this way, use the command `\\mathbb{...}`.\n",
    "\n",
    "`$$\\mathbb{ABCDEFGHIJKLMNOPQRSTUVWXYZabcdefghijklmnopqrstuvwxyz}$$`- $\\mathbb{ABCDEFGHIJKLMNOPQRSTUVWXYZabcdefghijklmnopqrstuvwxyz}$"
   ]
  }
 ],
 "metadata": {
  "kernelspec": {
   "display_name": "venv",
   "language": "python",
   "name": "python3"
  },
  "language_info": {
   "codemirror_mode": {
    "name": "ipython",
    "version": 3
   },
   "file_extension": ".py",
   "mimetype": "text/x-python",
   "name": "python",
   "nbconvert_exporter": "python",
   "pygments_lexer": "ipython3",
   "version": "3.12.3"
  }
 },
 "nbformat": 4,
 "nbformat_minor": 5
}