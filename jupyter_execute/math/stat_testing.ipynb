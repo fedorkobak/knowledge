{
 "cells": [
  {
   "cell_type": "markdown",
   "id": "0afca763-8877-467b-b0da-87814aaabba5",
   "metadata": {},
   "source": [
    "# Statistical testing"
   ]
  },
  {
   "cell_type": "markdown",
   "id": "a23a14e6-ca25-42c2-8ff9-e59ab1b8a891",
   "metadata": {},
   "source": [
    "## Definitions\n",
    "\n",
    "- **Sample** $X_N \\sim P$, where $P$ is some distribution;\n",
    "- $H_0$, $H_1$ - main and alternative **hypotheses**;\n",
    "- **Statistic** $T(X_N)\\sim D$ sampling function, where $D$ is some distribution;\n",
    "- **Significance level** $\\alpha$ - if we reproduce the entire experiment over and over again, $\\alpha$ defines in what proportion of the reproductions we allow for the erroneous rejection of the null hypothesis.;\n",
    "- **Realisation of the statistics** for the sample under consideration $t=T(X_N)$;\n",
    "- **p_value** achievable level of significance $p(X_N)=P(T \\geq t|H_0)$ - is the probability with which we hit the value of the statistic $t$ and more extreme in assuption that $H_0$ is right. **Note** $T \\geq t$ does not necessarily mean that $T$ is greater than or equal to $t$, it simply means that it is more different from the expected value at $H_0$ fidelity. So if $P(X_N) \\leq \\alpha$ means that we got less possible event that we able to accept and we have to reject $H_0$."
   ]
  },
  {
   "cell_type": "markdown",
   "id": "a5938334-6763-42c5-84c4-8e183bc5802a",
   "metadata": {},
   "source": [
    "## Example\n",
    "\n",
    "The coin has been flipped 100 times. 45 eagles were received. It is required to confirm that the coin is correct given the probability of error in 5 cases out of 100.\n",
    "\n",
    "Let's $p$ - the probability of an eagle on the coin.\n",
    "\n",
    "So \n",
    "\n",
    "- $H_0$ - we have normal coin, formally $p=0.5$;\n",
    "- $H_1$ - we have broken coin, formally $p \\neq 0.5$.\n",
    "\n",
    "Our $X_N = [x_1,x_2,x_3, ..., x_{100}]$. \n",
    "\n",
    "Where:\n",
    "\n",
    "$$x_i=\\begin{cases}\n",
    "1,\\text{if there's an eagle on the coin for i-th throw}; \\\\\n",
    "0,\\text{if the coin is tails for i-th throw}.\n",
    "\\end{cases}$$\n",
    "\n",
    "And each $x_i$ follows a Bernouli distribution with parameter $p$.\n",
    "\n",
    "Our statistics is:\n",
    "\n",
    "$$T(X_N)=\\sum_{i=1}^{100} x_i.$$\n",
    "\n",
    "And it distributed according binomial with parameters $p$ and $100$ ($B(p,100)$).\n",
    "\n",
    "The particular realisation of this experiment is that $t=45$. \n",
    "\n",
    "In fact, $H_0$ states that our statistics is distributed according to the distribution with the parameter $p=0.5$ and $H_1$ that our statistics is distributed according to distribution with some other value of the parameter. So if we assume that $H_0$ is true, then it turns out that $t\\sim B(0.5, 100)$."
   ]
  },
  {
   "cell_type": "markdown",
   "id": "117d5eb3-f8b1-49f3-ab03-82189b5dfdf2",
   "metadata": {
    "jp-MarkdownHeadingCollapsed": true
   },
   "source": [
    "Density function for $B(0.5,100)$ is plotted below. So the most possible number is somewhere around 50."
   ]
  },
  {
   "cell_type": "code",
   "execution_count": 1,
   "id": "b4d4bca1-fb0b-4884-8f93-c14003489be2",
   "metadata": {},
   "outputs": [
    {
     "data": {
      "image/png": "[encoded data removed]",
      "text/plain": [
       "<Figure size 640x480 with 1 Axes>"
      ]
     },
     "metadata": {},
     "output_type": "display_data"
    }
   ],
   "source": [
    "import numpy as np\n",
    "import matplotlib.pyplot as plt\n",
    "from scipy.stats import binom\n",
    "\n",
    "N = 100\n",
    "n_pos = 45\n",
    "F_H0 = binom(p=0.5, n=N)\n",
    "N_pos_available = np.arange(0, 101, 1)\n",
    "probabilities = F_H0.pmf(N_pos_available)\n",
    "\n",
    "plt.bar(N_pos_available, probabilities)\n",
    "plt.axvline(45, color=\"red\");plt.axvline(55, color=\"red\")\n",
    "plt.xlabel(\"Number of edges (t)\")\n",
    "plt.ylabel(\"Probability\")\n",
    "plt.legend([\"t=45 or t=55\"])\n",
    "plt.show()"
   ]
  },
  {
   "cell_type": "markdown",
   "id": "f851a711-d972-41d1-931d-66bb94f79ff9",
   "metadata": {},
   "source": [
    "Is $t=45$ a possible value for these conditions? Actually, we didn't really care that $t$ took a value smaller than the most expected, we only cared that it shouldn't be too different from the most expected $50$. So the correct question here is how likely are the values 45 and less or 55 and more?\n",
    "\n",
    "We can express these probability:\n",
    "\n",
    "$$P(T\\leq 45|H_0) + P(T \\geq 55 | H_0)=2P(T\\leq 45|H_0)=2F_{B(0.5, 100)}(45)$$.\n",
    "\n",
    "Where $F_{B(0.5,100)}(x)$ - cumulative distribution function of the binomial distribution corresponding to $H_0$. \n",
    "\n",
    "So we expressed the probability that this or an even less likely event could have occurred. Question changes again: Are we happy with this probability?\n",
    "\n",
    "For this case it took value:"
   ]
  },
  {
   "cell_type": "code",
   "execution_count": 21,
   "id": "fc42ad3a-05dc-47a1-9a4d-50bf7bf3c6a5",
   "metadata": {},
   "outputs": [
    {
     "data": {
      "text/plain": [
       "0.36820161732669576"
      ]
     },
     "execution_count": 21,
     "metadata": {},
     "output_type": "execute_result"
    }
   ],
   "source": [
    "2*binom(p=0.5, n=N).cdf(45)"
   ]
  },
  {
   "cell_type": "markdown",
   "id": "4259af6d-fd44-4e97-83b3-e1f7e8b56161",
   "metadata": {},
   "source": [
    "This means that in ~37 cases out of 100, it's OK to have a deviation from the most likely value equal to or greater than 45."
   ]
  },
  {
   "cell_type": "markdown",
   "id": "99d76858-7844-4d3b-98c9-a53d8994491c",
   "metadata": {},
   "source": [
    "We can compute such range of values of $t$ that we need to understand as possiible. We need to choose significance level - the proportion of cases we are willing to accept as probable for the null hypothesis. So if the event can occur 5 times out of 100, that means we have to choose a significance level of $5\\%$. \n",
    "\n",
    "As a result, we need to construct such an interval in which the measured value of the metric in question appears in $95\\%$ of the cases. For this case such interval can be written as $[F^{-1}_{B(0.5,100)}(0.025); F^{-1}_{B(0.5,100)}(0.975)]$.\n",
    "\n",
    "Where $F^{-1}_{B(0.5,100)}(p)$ - inverse cumulative distribution for distribution under consideration. So for our case it can be computed with the following code:"
   ]
  },
  {
   "cell_type": "code",
   "execution_count": 26,
   "id": "9cd40bc2-cf6f-455c-90d4-22c4f8b3b7e1",
   "metadata": {},
   "outputs": [
    {
     "name": "stdout",
     "output_type": "stream",
     "text": [
      "range from 40.0 to 60.0\n"
     ]
    }
   ],
   "source": [
    "print(\n",
    "    \"range from\",\n",
    "    binom(p=0.5, n=N).ppf(0.025), \"to\", \n",
    "    binom(p=0.5, n=N).ppf(0.975)\n",
    ")"
   ]
  },
  {
   "cell_type": "markdown",
   "id": "1259c2ca-c6f9-4503-b0b5-afdc5df909d8",
   "metadata": {},
   "source": [
    "So any case where we have less than 40 and more than 60 edges in 100 throws is so unlikely that we can't believe it's random and have to reject $H_0$."
   ]
  }
 ],
 "metadata": {
  "kernelspec": {
   "display_name": "Python 3 (ipykernel)",
   "language": "python",
   "name": "python3"
  },
  "language_info": {
   "codemirror_mode": {
    "name": "ipython",
    "version": 3
   },
   "file_extension": ".py",
   "mimetype": "text/x-python",
   "name": "python",
   "nbconvert_exporter": "python",
   "pygments_lexer": "ipython3",
   "version": "3.10.12"
  }
 },
 "nbformat": 4,
 "nbformat_minor": 5
}