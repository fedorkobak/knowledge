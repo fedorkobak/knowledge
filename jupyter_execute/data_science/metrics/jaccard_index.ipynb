{
 "cells": [
  {
   "cell_type": "markdown",
   "id": "23d29481-ec34-4253-807a-3f91a09a12e6",
   "metadata": {},
   "source": [
    "# Jaccard index\n",
    "\n",
    "A popular measure of the similarity of objects. I have encountered it as a quality measure in computer vision, more precisely, in the task of segmenting objects in a picture. So this page, for now, is purely an application of Jaccard's measure in a pixel-by-pixel comparison of pictures."
   ]
  },
  {
   "cell_type": "markdown",
   "id": "111ffb07-726c-4b37-91c7-d949ebcecd90",
   "metadata": {},
   "source": [
    "## Definition\n",
    "\n",
    "Let's say we have a set of classes $K$, a set of objects taking classes $y = \\{y_i\\}, y_i \\in K$, and a set of model predictions $y' = \\{y'_i\\}, y'_i \\in K$. So the Jaccard index that measures the similarity of $y$ and $y'$ for the class $k$ can be written as\n",
    "\n",
    "$$J_k(y,y')=\\frac{\\sum_{i=1}^{n} \\left( \\left[y_i=k\\right]\\left[y'_i=k\\right]\\right)}{\\sum_{i=1}^n max\\left(\\left[y_i=k\\right],\\left[y'_i=k\\right]\\right)}.$$"
   ]
  },
  {
   "cell_type": "markdown",
   "id": "cd9282ce-0fa4-470a-a505-628fbf2e40d3",
   "metadata": {},
   "source": [
    "Where:\n",
    "\n",
    "- $[a]=\\begin{cases}\n",
    "    1 - \\text{if a statement true};\\\\\n",
    "    0 - \\text{if a statement false}.\n",
    "    \\end{cases}$\n",
    "\n",
    "Let us then speculate about the interpretation of the components of the presented formula:\n",
    "- Numenator $\\sum_{i=1}^{n} \\left( \\left[y_i=k\\right]\\left[y'_i=k\\right]\\right)$ - number of objects corresponding to class $k$ that were predicted to be members of class $k$;\n",
    "- Denominator $\\sum_{i=1}^n max\\left(\\left[y_i=k\\right],\\left[y'_i=k\\right]\\right)$ - number of object that was classified as $k$ class or actually was.\n",
    "\n",
    "So the sense of the formula is really simple - it's part of the intersection in union."
   ]
  },
  {
   "cell_type": "markdown",
   "id": "2640d6a5-7fea-4808-a66d-1bae6687645c",
   "metadata": {},
   "source": [
    "## Example\n",
    "\n",
    "Here is a simple example of calculating the Jaccard index for two dimensional arrays, which in our case simulate pictures:"
   ]
  },
  {
   "cell_type": "code",
   "execution_count": 26,
   "id": "2d884c4c-f27e-4657-8bb5-e7770a603b5e",
   "metadata": {},
   "outputs": [
    {
     "data": {
      "text/plain": [
       "{0: 0.0, 1: 0.38461538461538464, 2: 0.25}"
      ]
     },
     "execution_count": 26,
     "metadata": {},
     "output_type": "execute_result"
    }
   ],
   "source": [
    "import numpy as np\n",
    "\n",
    "y_pred = np.array([\n",
    "    [1, 1, 2, 2, 2],\n",
    "    [1, 1, 2, 1, 2],\n",
    "    [1, 0, 0, 0, 0],\n",
    "    [2, 2, 2, 0, 0],\n",
    "    [2, 1, 1, 1, 2]\n",
    "])\n",
    "y_true = np.array([\n",
    "    [1, 1, 1, 2, 2],\n",
    "    [1, 1, 1, 2, 2],\n",
    "    [1, 1, 1, 2, 2],\n",
    "    [0, 0, 0, 2, 2],\n",
    "    [0, 0, 0, 2, 2]\n",
    "])\n",
    "\n",
    "unique_classes = np.intersect1d(np.unique(y_pred), np.unique(y_true))\n",
    "\n",
    "result = {}\n",
    "for val in unique_classes:\n",
    "    pred_class_pixels = (y_pred == val)\n",
    "    true_class_pixels = (y_true == val)\n",
    "    intersection = (pred_class_pixels & true_class_pixels)\n",
    "    union = (pred_class_pixels | true_class_pixels)\n",
    "    result[val] = intersection.sum()/union.sum()\n",
    "\n",
    "result"
   ]
  }
 ],
 "metadata": {
  "kernelspec": {
   "display_name": "Python 3 (ipykernel)",
   "language": "python",
   "name": "python3"
  },
  "language_info": {
   "codemirror_mode": {
    "name": "ipython",
    "version": 3
   },
   "file_extension": ".py",
   "mimetype": "text/x-python",
   "name": "python",
   "nbconvert_exporter": "python",
   "pygments_lexer": "ipython3",
   "version": "3.10.12"
  }
 },
 "nbformat": 4,
 "nbformat_minor": 5
}