{
 "cells": [
  {
   "cell_type": "markdown",
   "metadata": {},
   "source": [
    "# Cross entropy\n",
    "\n",
    "Cross-entropy is a common method for evaluating classification quality. Due to its properties, it can also be used as a loss function.  \n",
    "\n",
    "This page uses the following notation:  \n",
    "\n",
    "- $c \\in \\overline{1,C}$: class index.  \n",
    "- $o \\in \\overline{1,N}$: observation index.  \n",
    "- $p_{o,c}$: predicted probability that the $o$-th object belongs to the $c$-th class.  \n",
    "- A variable indicating whether the $o$-th observation belongs to the $c$-th class:  \n",
    "\n",
    "$$\n",
    "y_{o,c} = \n",
    "\\begin{cases}\n",
    "1, & \\text{if the } o\\text{-th observation belongs to class } c, \\\\\n",
    "0, & \\text{otherwise}.\n",
    "\\end{cases}\n",
    "$$"
   ]
  },
  {
   "cell_type": "markdown",
   "metadata": {},
   "source": [
    "## Logits transformation\n",
    "\n",
    "Typical output of a machine learning model is a raw number that tends to be higher for the correct class. These values are called logits. However, for cross-entropy to work, the outputs must satisfy probability properties:\n",
    "\n",
    "$$\\sum_{c=1}^C p_c = 1$$\n",
    "\n",
    "A common approach is to apply a transformation that ensures the outputs meet these properties—this is known as the softmax transformation. It can be included in the model, so sometimes this transformation is not needed explicitly.\n",
    "\n",
    "But it's typical to introduce softmax during the loss computation, so if the raw model outputs (logits) are denoted as $\\hat{y}_{o,c}$, they need to be transformed:\n",
    "\n",
    "$$p_{o, c'} = \\frac{exp(\\hat{y}_{o,c})}{\\sum_{c'=1}^C exp(\\hat{y}_{o,c'})}, c = \\overline{1, C}.$$"
   ]
  },
  {
   "cell_type": "markdown",
   "metadata": {},
   "source": [
    "Under these conditions, it's common to see such a representation of cross entropy in some sources:\n",
    "\n",
    "$$\n",
    "- \\sum_{c=1}^C y_{o,c} log\\left[\\frac{exp(\\hat{y}_{o,c})}{\\sum_{c'=1}^C exp(\\hat{y}_{o,c'})}\\right]\n",
    "$$\n",
    "\n",
    "For [example pytorch](https://pytorch.org/docs/stable/generated/torch.nn.CrossEntropyLoss.html) users such definition."
   ]
  },
  {
   "cell_type": "markdown",
   "metadata": {},
   "source": [
    "## Binary cross entropy"
   ]
  },
  {
   "cell_type": "markdown",
   "metadata": {},
   "source": [
    "Popular particular case is cross entropy for binary classification:\n",
    "\n",
    "$$-(y_o log[p_o] + [1-y_o] log[1-p_o])$$\n",
    "$$\n",
    "y_o=\\begin{cases}\n",
    "1, & \\text{if the } o\\text{-th observation has a learnt trait}, \\\\\n",
    "0, & \\text{otherwise}.\n",
    "\\end{cases}\n",
    "$$\n",
    "\n",
    "- $p_o$: probability that trait under consideration manifests itself in an $o$-th object."
   ]
  }
 ],
 "metadata": {
  "language_info": {
   "name": "python"
  }
 },
 "nbformat": 4,
 "nbformat_minor": 2
}