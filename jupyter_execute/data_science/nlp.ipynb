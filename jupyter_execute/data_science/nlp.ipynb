{
 "cells": [
  {
   "cell_type": "markdown",
   "metadata": {},
   "source": [
    "# NLP\n",
    "\n",
    "Natural language processing is a field focused on algorithms for processing ordinary human text."
   ]
  },
  {
   "cell_type": "markdown",
   "metadata": {},
   "source": [
    "## Pre-Processing\n",
    "\n",
    "To work with text, you need to transform it into numbers - an approach more aligned with how computers process information. There are various techniques for achieving this.\n",
    "\n",
    "The following table describes typical terms used in the field of \"wrangling and preprocessing\".\n",
    "\n",
    "| Term                | Meaning                                                   | \n",
    "| ------------------- | --------------------------------------------------------- |\n",
    "| Conversion          | Transform text into a standartized format.                |\n",
    "| Sanitization        | Remove noise, unnecessary characters.                     |\n",
    "| Tokenization        | Split text into words or phrases                          |\n",
    "| Stemming            | Reduce words to their root form                           |\n",
    "| Lemmatization       | Normalize words based on their dictionary meaning.        |\n",
    "| Building embeddings | Transforming tokens into the vectors.                     |\n",
    "\n",
    "Check more details on this in the [Pre-Processing](nlp/preprocessing.ipynb) page."
   ]
  },
  {
   "cell_type": "markdown",
   "metadata": {},
   "source": [
    "## Language understanding\n",
    "\n",
    "Is a group of NLP tasks aimed at understanding the structure and syntax of the language. Following table counts and describes typical tasks related to language understanding.\n",
    "\n",
    "| Task                 | Description                                        |\n",
    "| -------------------- | -------------------------------------------------- |\n",
    "| Parts of the speech  | Identify nouns, verbs, adjectives, etc.            |\n",
    "| Chunking             | Group related words together                       |\n",
    "| Dependency parsing   | Analyse grammatical relationship in a sentence     |\n",
    "| Constituency parsing | Break down a sentence into hierarchical sub-units  |"
   ]
  },
  {
   "cell_type": "markdown",
   "metadata": {},
   "source": [
    "## Processing and Functionality\n",
    "\n",
    "NLP has numerous applications in business. The most typical are listed in the following table:\n",
    "\n",
    "| Functionality                   | Description                                                    |\n",
    "|--------------------------------|----------------------------------------------------------------|\n",
    "| **Named Entity Recognition (NER)** | Identify proper names (e.g., people, places).                  |\n",
    "| **N-gram Identification**      | Analyze word sequences to predict text.                        |\n",
    "| **Sentiment Analysis**         | Detect emotions and opinions in text.                          |\n",
    "| **Information Extraction**     | Identify key information from unstructured data.               |\n",
    "| **Information Retrieval**      | Find relevant documents or data.                               |\n",
    "| **Questions and Answering**    | Process user queries for precise answers.                      |\n",
    "| **Topic Modeling**             | Identify key themes in text data.                              |"
   ]
  },
  {
   "cell_type": "markdown",
   "metadata": {},
   "source": [
    "## Text CNN\n",
    "\n",
    "Text CNN is a method for applying convolutional architecture concepts to NLP."
   ]
  }
 ],
 "metadata": {
  "language_info": {
   "name": "python"
  }
 },
 "nbformat": 4,
 "nbformat_minor": 2
}