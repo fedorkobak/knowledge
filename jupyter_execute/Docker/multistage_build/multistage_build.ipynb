{
 "cells": [
  {
   "attachments": {},
   "cell_type": "markdown",
   "metadata": {},
   "source": [
    "**Многоэтапная сборка в docker**"
   ]
  },
  {
   "attachments": {},
   "cell_type": "markdown",
   "metadata": {},
   "source": [
    "В docker есть особый тип сборки, который позволяет оставить в финальном образе только те элементы, что нам нужны. Это, в некоторых случаях, позволит сэкономить размер docker образа."
   ]
  },
  {
   "attachments": {},
   "cell_type": "markdown",
   "metadata": {},
   "source": [
    "# База"
   ]
  },
  {
   "attachments": {},
   "cell_type": "markdown",
   "metadata": {},
   "source": [
    "Формально это делается следующим образом:\n",
    "```\n",
    "FROM <название образа> AS <название сборки1>\n",
    "\n",
    "FROM <название образа>\n",
    "COPY --from=<название сборки1> <файл из перовой сборки> <файл из второй сборки>\n",
    "```"
   ]
  },
  {
   "attachments": {},
   "cell_type": "markdown",
   "metadata": {},
   "source": [
    "### Пример\n",
    "\n",
    "Так допуским ситуацию, где нам в финальной сборке надо иметь результаты обработки некоторого большого файла `example.csv` проводимой программой `generation.py` (в данном случае это просто взятие средних)."
   ]
  },
  {
   "attachments": {},
   "cell_type": "markdown",
   "metadata": {},
   "source": [
    "Если делать это **по простому**, то мы сделаем dockerfile вида (simple_dockerfile):\n",
    "\n",
    "```\n",
    "# простой dockerfile\n",
    "FROM python:3.10 AS BUILD\n",
    "\n",
    "WORKDIR some_dir\n",
    "COPY example.csv example.csv\n",
    "COPY requirements.txt requirements.txt\n",
    "COPY generation.py generation.py\n",
    "\n",
    "RUN python -m pip install --upgrade pip && pip install -r requirements.txt\n",
    "RUN python generation.py\n",
    "\n",
    "CMD [\"cat\", \"means.csv\"]\n",
    "```"
   ]
  },
  {
   "attachments": {},
   "cell_type": "markdown",
   "metadata": {},
   "source": [
    "Далее:\n",
    "- Собираю образ;\n",
    "- Поднимаю контейнер на его основе, чтобы показать, что все работает номрмально;\n",
    "- Показываю размер образа."
   ]
  },
  {
   "cell_type": "code",
   "execution_count": 4,
   "metadata": {},
   "outputs": [
    {
     "name": "stdout",
     "output_type": "stream",
     "text": [
      "sha256:daea387ec3b5bb08725927e3cf8a8274d8c535fbdebd7905760ebeeb6aec0156\n",
      "==============================\n",
      ",0\n",
      "0,0.49801512771615053\n",
      "1,0.5005384992657755\n",
      "2,0.5016440913126519\n",
      "3,0.49893742832936905\n",
      "4,0.5006416292879786\n",
      "5,0.500604403582076\n",
      "6,0.5024090926131595\n",
      "7,0.500360289940759\n",
      "8,0.4995687156844078\n",
      "9,0.4993301862968266\n",
      "10,0.4996320601371099\n",
      "11,0.49936364688453744\n",
      "12,0.4996892437983095\n",
      "13,0.5003040557416716\n",
      "14,0.5008896760787612\n",
      "15,0.49834042413261304\n",
      "16,0.5002565939707307\n",
      "17,0.499441058229968\n",
      "18,0.4994494362971878\n",
      "19,0.5000038702075555\n",
      "==============================\n",
      "REPOSITORY   TAG       IMAGE ID       CREATED          SIZE\n",
      "simple       latest    daea387ec3b5   43 minutes ago   1.11GB\n",
      "==============================\n",
      "Untagged: simple:latest\n",
      "Deleted: sha256:daea387ec3b5bb08725927e3cf8a8274d8c535fbdebd7905760ebeeb6aec0156\n"
     ]
    }
   ],
   "source": [
    "%%bash\n",
    "docker build -q -t simple -f simple_dockerfile .\n",
    "echo ==============================\n",
    "docker run --rm simple\n",
    "echo ==============================\n",
    "docker images simple\n",
    "echo ==============================\n",
    "docker rmi simple"
   ]
  },
  {
   "attachments": {},
   "cell_type": "markdown",
   "metadata": {},
   "source": [
    "В итоге мы вывели результат расчета. Ну и размер образа составляет титанические 1.11GB."
   ]
  },
  {
   "attachments": {},
   "cell_type": "markdown",
   "metadata": {},
   "source": [
    "А теперь сделаем тоже самое, только **правильно**.  dockerfile в случае использоваиня многоэтапной сборке примет вид (multistage_dockerfile):\n",
    "\n",
    "```\n",
    "FROM python:3.10 AS BUILDER\n",
    "\n",
    "WORKDIR some_dir\n",
    "COPY example.csv example.csv\n",
    "COPY requirements.txt requirements.txt\n",
    "COPY generation.py generation.py\n",
    "\n",
    "RUN python -m pip install --upgrade pip && pip install -r requirements.txt\n",
    "RUN python generation.py\n",
    "\n",
    "FROM ubuntu:22.04\n",
    "WORKDIR some_dir\n",
    "COPY --from=BUILDER /some_dir/means.csv /some_dir/means.csv\n",
    "CMD [\"cat\", \"means.csv\"]\n",
    "```\n",
    "\n",
    "Буквально повторяю процедуры, которые проделал для предыдущего образа."
   ]
  },
  {
   "cell_type": "code",
   "execution_count": 5,
   "metadata": {},
   "outputs": [
    {
     "name": "stdout",
     "output_type": "stream",
     "text": [
      "sha256:15096f1d81baa6c46dadf24558dfa0c39ffcebb248495c779f1334b4b75a2eca\n",
      "==============================\n",
      ",0\n",
      "0,0.49801512771615053\n",
      "1,0.5005384992657755\n",
      "2,0.5016440913126519\n",
      "3,0.49893742832936905\n",
      "4,0.5006416292879786\n",
      "5,0.500604403582076\n",
      "6,0.5024090926131595\n",
      "7,0.500360289940759\n",
      "8,0.4995687156844078\n",
      "9,0.4993301862968266\n",
      "10,0.4996320601371099\n",
      "11,0.49936364688453744\n",
      "12,0.4996892437983095\n",
      "13,0.5003040557416716\n",
      "14,0.5008896760787612\n",
      "15,0.49834042413261304\n",
      "16,0.5002565939707307\n",
      "17,0.499441058229968\n",
      "18,0.4994494362971878\n",
      "19,0.5000038702075555\n",
      "==============================\n",
      "REPOSITORY   TAG       IMAGE ID       CREATED             SIZE\n",
      "multistage   latest    15096f1d81ba   About an hour ago   77.8MB\n",
      "==============================\n",
      "Untagged: multistage:latest\n",
      "Deleted: sha256:15096f1d81baa6c46dadf24558dfa0c39ffcebb248495c779f1334b4b75a2eca\n"
     ]
    }
   ],
   "source": [
    "%%bash\n",
    "docker build -q -t multistage -f multistage_dockerfile .\n",
    "echo ==============================\n",
    "docker run --rm multistage\n",
    "echo ==============================\n",
    "docker images multistage\n",
    "echo ==============================\n",
    "docker rmi multistage"
   ]
  },
  {
   "attachments": {},
   "cell_type": "markdown",
   "metadata": {},
   "source": [
    "И так, в результате, **все тоже самое** но размером в 77.8MB."
   ]
  },
  {
   "attachments": {},
   "cell_type": "markdown",
   "metadata": {},
   "source": [
    "# Остановка на нужном этапе\n",
    "\n",
    "При многоэтапной сборке, например, для отладки, может понадобиться отсновится в сборке образа. Это делается с помощью опции `--target <название этапа>`. Так, в примере далее, я останавливаю сборку описанного выше образа `multistage` на этапе `BUILDER` и убеждаюсь, что это именно тот этап (файлы то его)."
   ]
  },
  {
   "cell_type": "code",
   "execution_count": 8,
   "metadata": {},
   "outputs": [
    {
     "name": "stdout",
     "output_type": "stream",
     "text": [
      "sha256:19ec4683d03994e2f466696a18fbd3db8deda7f1f251185feddb1d568b116a02\n",
      "0e9309e419e5c47647beb7005ecd0bb2d6c8c771eb96c216fcb24294781c4ff1\n",
      "==============================\n",
      "example.csv\n",
      "generation.py\n",
      "means.csv\n",
      "requirements.txt\n",
      "==============================\n",
      "multistage\n",
      "Untagged: multistage:latest\n",
      "Deleted: sha256:19ec4683d03994e2f466696a18fbd3db8deda7f1f251185feddb1d568b116a02\n"
     ]
    }
   ],
   "source": [
    "%%bash\n",
    "docker build -q -t multistage -f multistage_dockerfile --target BUILDER .\n",
    "docker run --rm --name multistage -itd multistage\n",
    "echo ==============================\n",
    "docker exec multistage ls\n",
    "echo ==============================\n",
    "docker stop multistage\n",
    "docker rmi multistage"
   ]
  }
 ],
 "metadata": {
  "kernelspec": {
   "display_name": "Python 3",
   "language": "python",
   "name": "python3"
  },
  "language_info": {
   "codemirror_mode": {
    "name": "ipython",
    "version": 3
   },
   "file_extension": ".py",
   "mimetype": "text/x-python",
   "name": "python",
   "nbconvert_exporter": "python",
   "pygments_lexer": "ipython3",
   "version": "3.10.6"
  }
 },
 "nbformat": 4,
 "nbformat_minor": 2
}