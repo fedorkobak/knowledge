{
 "cells": [
  {
   "cell_type": "markdown",
   "id": "26433083-f11e-4fa6-8ea6-edf441134f8f",
   "metadata": {},
   "source": [
    "# Network interfaces"
   ]
  },
  {
   "cell_type": "markdown",
   "id": "8b2ccc02-a3e0-4a7c-96c8-295a2ee07c1b",
   "metadata": {},
   "source": [
    "Each container creates it's own network interface. To list information about network interfaces in linux you have to use `ifconfig` command.\n",
    "\n",
    "So in the following cell we first printed the `ifconfig` result without specifying any containers, then started a few containers and ran `ifconfig` again. So the second `ifconfig` we got more network interfaces."
   ]
  },
  {
   "cell_type": "code",
   "execution_count": 23,
   "id": "e97dc862-089b-4d56-a180-bf5f265efca4",
   "metadata": {},
   "outputs": [
    {
     "name": "stdout",
     "output_type": "stream",
     "text": [
      "=====before creating a container=====\n",
      "Iface\n",
      "docker0\n",
      "eno1\n",
      "lo\n",
      "wlp0s20f\n",
      "=====after creating a container=====\n",
      "Iface\n",
      "docker0\n",
      "eno1\n",
      "lo\n",
      "veth0ac7\n",
      "veth5c1d\n",
      "vethc055\n",
      "vethd659\n",
      "wlp0s20f\n"
     ]
    }
   ],
   "source": [
    "%%bash\n",
    "echo \"=====before creating a container=====\"\n",
    "ifconfig -s | awk '{print $1}'\n",
    "for i in {1..4}; do docker run --rm -d --name test_nginx$i nginx; done &> /dev/null\n",
    "echo \"=====after creating a container=====\"\n",
    "ifconfig -s | awk '{print $1}'\n",
    "\n",
    "docker stop test_nginx{1..4} &> /dev/null"
   ]
  }
 ],
 "metadata": {
  "kernelspec": {
   "display_name": "Python 3 (ipykernel)",
   "language": "python",
   "name": "python3"
  },
  "language_info": {
   "codemirror_mode": {
    "name": "ipython",
    "version": 3
   },
   "file_extension": ".py",
   "mimetype": "text/x-python",
   "name": "python",
   "nbconvert_exporter": "python",
   "pygments_lexer": "ipython3",
   "version": "3.10.12"
  }
 },
 "nbformat": 4,
 "nbformat_minor": 5
}