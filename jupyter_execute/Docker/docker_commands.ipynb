{
 "cells": [
  {
   "cell_type": "markdown",
   "id": "0ec91121-5e30-4be3-ab21-f0e092d0ccfe",
   "metadata": {},
   "source": [
    "# Docker commands\n",
    "\n",
    "Here we describe those docker commands that do not merit a separate discussion."
   ]
  },
  {
   "cell_type": "markdown",
   "id": "4ff831af-55b6-4a41-adb5-1aeb166a95b9",
   "metadata": {},
   "source": [
    "# Working with containers"
   ]
  },
  {
   "cell_type": "markdown",
   "id": "5ab6cdbe-5a87-4a2d-a9e8-6ac6269c882f",
   "metadata": {},
   "source": [
    "## `ps` - show containers\n",
    "\n",
    "To view active containers, you should use the `docker ps` command."
   ]
  },
  {
   "cell_type": "code",
   "execution_count": 4,
   "id": "12077438-9b0f-42de-807f-060837baa994",
   "metadata": {},
   "outputs": [
    {
     "name": "stdout",
     "output_type": "stream",
     "text": [
      "CONTAINER ID   IMAGE         COMMAND     CREATED        STATUS                  PORTS     NAMES\n",
      "b17984f2b882   python:3.10   \"python3\"   1 second ago   Up Less than a second             test_container\n"
     ]
    }
   ],
   "source": [
    "%%bash\n",
    "docker run -itd --rm --name test_container python:3.10 &> /dev/null\n",
    "docker ps\n",
    "docker stop test_container &> /dev/null"
   ]
  },
  {
   "cell_type": "markdown",
   "id": "fcb3e53a-6777-44da-a692-e39db96e04cf",
   "metadata": {},
   "source": [
    "### `-a` - show all\n",
    "\n",
    "By default, inactive containers are hidden."
   ]
  },
  {
   "cell_type": "code",
   "execution_count": 8,
   "id": "b1ac1a2f-fd39-42d4-9891-04c6bd7c3f3d",
   "metadata": {},
   "outputs": [
    {
     "name": "stdout",
     "output_type": "stream",
     "text": [
      "========no option -a==============\n",
      "CONTAINER ID   IMAGE     COMMAND   CREATED   STATUS    PORTS     NAMES\n",
      "=========with option -a=============\n",
      "CONTAINER ID   IMAGE     COMMAND       CREATED                  STATUS                              PORTS     NAMES\n",
      "ad0439c23847   ubuntu    \"/bin/bash\"   Less than a second ago   Exited (0) Less than a second ago             temp_container\n"
     ]
    }
   ],
   "source": [
    "%%bash\n",
    "docker run --name temp_container ubuntu &> /dev/null\n",
    "echo \"========no option -a==============\"\n",
    "docker ps\n",
    "echo \"=========with option -a=============\"\n",
    "docker ps -a\n",
    "docker rm temp_container &> /dev/null"
   ]
  },
  {
   "cell_type": "markdown",
   "id": "3ca3bd94-21cb-4cf7-bc4d-b90da5cd9a39",
   "metadata": {},
   "source": [
    "## `history` - show layers of the image"
   ]
  },
  {
   "cell_type": "markdown",
   "id": "5d8323e9-42ff-4e2f-a249-fafefb097546",
   "metadata": {},
   "source": [
    "## `start` - activate exited container\n",
    "\n",
    "In the next cell, I build a ubuntu container that prints \"hello world\" when it starts. Like all standard ubuntu containers it quits, which we can see in the `STATUS` of the `ps` command. Then by `docker start` the container is reactivated.\n",
    "\n",
    "For some reason it only works when I use the `-i` option for `docker start`."
   ]
  },
  {
   "cell_type": "code",
   "execution_count": 16,
   "id": "5da70458-4fe3-45a4-bedd-56ddb7e27c9a",
   "metadata": {},
   "outputs": [
    {
     "name": "stdout",
     "output_type": "stream",
     "text": [
      "=====First start=====\n",
      "hello world\n",
      "=====List of all containers=====\n",
      "CONTAINER ID   IMAGE         COMMAND                CREATED        STATUS                              PORTS     NAMES\n",
      "af533b577c94   test_ubuntu   \"echo 'hello world'\"   1 second ago   Exited (0) Less than a second ago             u1\n",
      "=====Restart=====\n",
      "hello world\n"
     ]
    }
   ],
   "source": [
    "%%bash\n",
    "cd containers_files\n",
    "docker build -t test_ubuntu . &> /dev/null\n",
    "echo \"=====First start=====\"\n",
    "docker run --name u1 test_ubuntu\n",
    "echo \"=====List of all containers=====\"\n",
    "docker ps -a\n",
    "echo \"=====Restart=====\"\n",
    "docker start -i u1\n",
    "docker rm u1 &> /dev/null\n",
    "docker rmi test_ubuntu &> /dev/null"
   ]
  },
  {
   "cell_type": "markdown",
   "id": "eae6be8a-40b8-4509-843d-e954c9be0dfd",
   "metadata": {},
   "source": [
    "## `stop` - stop some container\n",
    "\n",
    "In the following example, I start a container with Ubuntu in such a way that it stays running, which was proven by using `docker ps`. But after using `docker stop` the same container is in the state \"Exited\"."
   ]
  },
  {
   "cell_type": "code",
   "execution_count": 20,
   "id": "df091409-f883-4d2f-b1a5-2309de631b4d",
   "metadata": {},
   "outputs": [
    {
     "name": "stdout",
     "output_type": "stream",
     "text": [
      "=====Just started container=====\n",
      "CONTAINER ID   IMAGE     COMMAND       CREATED                  STATUS                  PORTS     NAMES\n",
      "e175ae336dcb   ubuntu    \"/bin/bash\"   Less than a second ago   Up Less than a second             test_ubuntu\n",
      "=====Stoped container (STATUS \"Exited\")=====\n",
      "CONTAINER ID   IMAGE     COMMAND       CREATED          STATUS                                PORTS     NAMES\n",
      "e175ae336dcb   ubuntu    \"/bin/bash\"   10 seconds ago   Exited (137) Less than a second ago             test_ubuntu\n"
     ]
    }
   ],
   "source": [
    "%%bash\n",
    "docker run -itd --name test_ubuntu ubuntu &> /dev/null\n",
    "echo \"=====Just started container=====\"\n",
    "docker ps -a\n",
    "docker stop test_ubuntu &> /dev/null\n",
    "echo \"=====Stoped container (STATUS \\\"Exited\\\")=====\"\n",
    "docker ps -a\n",
    "docker rm test_ubuntu &> /dev/null"
   ]
  },
  {
   "cell_type": "markdown",
   "id": "de516173-b0a6-4954-bb7a-5ba6f8a4c4e7",
   "metadata": {},
   "source": [
    "## `exec` - run in the container\n",
    "\n",
    "In the next command I start ubuntu conteiner. Then using `docker exec' I run the `ls' command in the container and get a typical Linux result for that command."
   ]
  },
  {
   "cell_type": "code",
   "execution_count": 24,
   "id": "6e92ae14-db29-4b6e-89b6-9c8c0c4be904",
   "metadata": {},
   "outputs": [
    {
     "name": "stdout",
     "output_type": "stream",
     "text": [
      "bin\n",
      "boot\n",
      "dev\n",
      "etc\n",
      "home\n",
      "lib\n",
      "lib32\n",
      "lib64\n",
      "libx32\n",
      "media\n",
      "mnt\n",
      "opt\n",
      "proc\n",
      "root\n",
      "run\n",
      "sbin\n",
      "srv\n",
      "sys\n",
      "tmp\n",
      "usr\n",
      "var\n"
     ]
    }
   ],
   "source": [
    "%%bash\n",
    "docker run -itd --rm --name test_ubuntu ubuntu &> /dev/null\n",
    "docker exec test_ubuntu ls\n",
    "docker stop test_ubuntu &> /dev/null"
   ]
  },
  {
   "cell_type": "markdown",
   "id": "e45dbef9-de2a-41d8-a693-468631e67861",
   "metadata": {},
   "source": [
    "### `-it` - take control\n",
    "\n",
    "It looks like the options individually have the same properties as in the `docker run` command. But the important thing is that you can take control of the detached container with this command.<br> \n",
    "The following example shows how I can get control in detached ubuntu by running the `bash` command with named options.\n",
    "\n",
    "<img src=\"containers_files/docker exec -it.gif\"></img>"
   ]
  },
  {
   "cell_type": "markdown",
   "id": "dd67a43b-c6ac-42ce-9b1a-2c8f7a72108e",
   "metadata": {},
   "source": [
    "## `logs` - get container console\n",
    "\n",
    "Desrtiption of the command you can find  [here](logs.ipynb#sec-docker_logs_command)."
   ]
  },
  {
   "cell_type": "markdown",
   "id": "5c50f64e-079c-4e19-8ace-e6551ce8098f",
   "metadata": {},
   "source": [
    "# `run` - container from image\n",
    "\n",
    "This command is related to the \"Working with containers\" section, but it is big enough and important enough to have its own section."
   ]
  },
  {
   "cell_type": "code",
   "execution_count": 9,
   "id": "d345b8bc-f6db-4827-907c-e00144da5ef4",
   "metadata": {},
   "outputs": [
    {
     "name": "stdout",
     "output_type": "stream",
     "text": [
      "================before start=====================\n",
      "CONTAINER ID   IMAGE     COMMAND   CREATED   STATUS    PORTS     NAMES\n",
      "===============after start======================\n",
      "CONTAINER ID   IMAGE     COMMAND       CREATED        STATUS                              PORTS     NAMES\n",
      "cd0f144063c5   ubuntu    \"/bin/bash\"   1 second ago   Exited (0) Less than a second ago             temp_container\n",
      "temp_container\n"
     ]
    }
   ],
   "source": [
    "%%bash\n",
    "echo \"================before start=====================\"\n",
    "docker ps -a\n",
    "echo \"===============after start======================\"\n",
    "docker run --name temp_container ubuntu &> /dev/null\n",
    "docker ps -a\n",
    "docker rm temp_container"
   ]
  },
  {
   "cell_type": "markdown",
   "id": "98f56c88-7d9b-4741-99ad-2440b34640aa",
   "metadata": {},
   "source": [
    "## `-rm` - automatic container removal\n",
    "\n",
    "After stopping, the container is removed. In the following example there are two containers of ubuntu, one with the `--rm` option and the other without. Both containers stops by default - but only one stays with `STATUS == Exited`."
   ]
  },
  {
   "cell_type": "code",
   "execution_count": 12,
   "id": "4f4a00ec-b424-4da7-8766-ee64cf2ba525",
   "metadata": {},
   "outputs": [
    {
     "name": "stdout",
     "output_type": "stream",
     "text": [
      "CONTAINER ID   IMAGE     COMMAND       CREATED        STATUS                              PORTS     NAMES\n",
      "7acc3cc0c61c   ubuntu    \"/bin/bash\"   1 second ago   Exited (0) Less than a second ago             no_rm_ubuntu\n"
     ]
    }
   ],
   "source": [
    "%%bash\n",
    "docker run --name no_rm_ubuntu ubuntu\n",
    "docker run --rm --name ubuntu_with_rm ubuntu\n",
    "docker ps -a\n",
    "docker rm no_rm_ubuntu &> /dev/null"
   ]
  },
  {
   "cell_type": "markdown",
   "id": "55194c52-4aa4-4d20-80b4-795b38fdf055",
   "metadata": {},
   "source": [
    "## `--name` - set name for the container"
   ]
  },
  {
   "cell_type": "code",
   "execution_count": 2,
   "id": "4baa401d-8320-417e-856d-475fd55fa6e0",
   "metadata": {},
   "outputs": [
    {
     "name": "stdout",
     "output_type": "stream",
     "text": [
      "7116dcdaa0a131a8507f9cbe149719498456fe356a23f1ddfc48f65080cfe660\n",
      "CONTAINER ID   IMAGE     COMMAND       CREATED        STATUS                  PORTS     NAMES\n",
      "7116dcdaa0a1   ubuntu    \"/bin/bash\"   1 second ago   Up Less than a second             unbuntu_container\n",
      "unbuntu_container\n"
     ]
    }
   ],
   "source": [
    "%%bash\n",
    "docker run --rm --name unbuntu_container -d ubuntu\n",
    "docker ps\n",
    "docker stop unbuntu_container"
   ]
  },
  {
   "cell_type": "markdown",
   "id": "b22094fa-fc15-4540-8dbf-8f12d980b1bd",
   "metadata": {},
   "source": [
    "## `-d` - make container not to lock CLI"
   ]
  },
  {
   "cell_type": "code",
   "execution_count": 15,
   "id": "809a82ec-4345-4ebd-a1d7-5ccf353ca953",
   "metadata": {},
   "outputs": [
    {
     "name": "stdout",
     "output_type": "stream",
     "text": [
      "CONTAINER ID   IMAGE     COMMAND                  CREATED                  STATUS                  PORTS     NAMES\n",
      "09175cb8c6d9   nginx     \"/docker-entrypoint.…\"   Less than a second ago   Up Less than a second   80/tcp    temp_nginx\n"
     ]
    }
   ],
   "source": [
    "%%bash\n",
    "docker run --rm -d --name temp_nginx nginx &> /dev/null\n",
    "docker ps\n",
    "docker stop temp_nginx &> /dev/null"
   ]
  },
  {
   "cell_type": "markdown",
   "id": "4926bbf6-5a8c-4888-bfbf-8af9bf4be2fb",
   "metadata": {},
   "source": [
    "## `-i` - interactive mode\n",
    "\n",
    "Mode that allows to interapt with container.\n",
    "\n",
    "Unfortunately it is not possible to show how this mode will work in jupyter. So here is a gif of me experimenting with the following command:\n",
    "\n",
    "`docker run -i --rm --name test_ubuntu ubuntu`\n",
    "\n",
    "<img src=\"containers_files/docker -i option.gif\"></img>\n",
    "\n",
    "In the example, the ubuntu container has been started and is stopped by default. The `-i` option causes it to lock the terminal. Extremely interesting that you will be able to send messages to the container and get results (as I showed with `ls` and `exit` commands), but you won't get the description of the user common for Linux terminal."
   ]
  },
  {
   "cell_type": "markdown",
   "id": "938ad620-2e9b-400d-9345-854835171100",
   "metadata": {},
   "source": [
    "## `-t` - turn on TTY\n",
    "\n",
    "TTY is something on backend language. The point here is that in combination with the `-i` option you can make will show you the \"description\" of the user which was mentioned in the previous section. And the terminal will be blocked waiting for input. But this option don't allow you to send anything to the container.\n",
    "\n",
    "The following `.gif` show what you will get in case using command `docker run -t --rm --name temp_ubuntu ubuntu`.\n",
    "\n",
    "<img src=\"containers_files/docker -t option.gif\"></img>"
   ]
  },
  {
   "cell_type": "markdown",
   "id": "a02e6432-d9bb-4a59-a54f-6a52d772bf7f",
   "metadata": {},
   "source": [
    "## `-it` - combination\n",
    "\n",
    "Both options were discovered above, but they are really often used in combination. So Ubuntu provides full CLI interface with this options.\n",
    "\n",
    "<img src=\"containers_files/docker -it option.png\"></img>"
   ]
  },
  {
   "cell_type": "markdown",
   "id": "0c33cf56-03e5-4482-abdb-ec5f525175f7",
   "metadata": {},
   "source": [
    "## Commands from jupyter\n",
    "\n",
    "Using only the `i` option (without `t`), you can send commands to the container from the Jupyter cell.\n",
    "\n",
    "So in the following example, I can easily run the `ls` program from the newly created ubuntu container."
   ]
  },
  {
   "cell_type": "code",
   "execution_count": 2,
   "id": "8d546937-502e-48d9-bfc6-7a4897d2345c",
   "metadata": {},
   "outputs": [
    {
     "name": "stdout",
     "output_type": "stream",
     "text": [
      "bin\n",
      "boot\n",
      "dev\n",
      "etc\n",
      "home\n",
      "lib\n",
      "lib32\n",
      "lib64\n",
      "libx32\n",
      "media\n",
      "mnt\n",
      "opt\n",
      "proc\n",
      "root\n",
      "run\n",
      "sbin\n",
      "srv\n",
      "sys\n",
      "tmp\n",
      "usr\n",
      "var\n"
     ]
    }
   ],
   "source": [
    "%%bash\n",
    "docker run --rm -i --name test_container ubuntu\n",
    "ls\n",
    "exit"
   ]
  },
  {
   "cell_type": "markdown",
   "id": "c6de8986-3dda-4490-90ca-812a55e00861",
   "metadata": {},
   "source": [
    "It's a pity I didn't understand this before I wrote most of the Docker description. So don't be surprised if you see something like this: \n",
    "<div class=\"sourceCode\">\n",
    "<!--This class is needed to display as code on site-->\n",
    "docker exec ...<br>\n",
    "docker exec ...<br>\n",
    "docker exec ...<br>\n",
    "</div>\n",
    "In some section of docker description."
   ]
  },
  {
   "cell_type": "markdown",
   "id": "3c068c2d-b7db-4471-9f8d-0f4a0b0d9ee3",
   "metadata": {},
   "source": [
    "## `-e` - environment variables"
   ]
  },
  {
   "cell_type": "markdown",
   "id": "84f4f810-ce33-4108-975e-6d0cdd3b6fbc",
   "metadata": {},
   "source": [
    "You can also pass the values of the variables of the system you are calling from."
   ]
  },
  {
   "cell_type": "code",
   "execution_count": 7,
   "id": "99ab2443-e53a-4881-803b-b796f60f4607",
   "metadata": {},
   "outputs": [
    {
     "name": "stdout",
     "output_type": "stream",
     "text": [
      "/home/fedor\n"
     ]
    }
   ],
   "source": [
    "%%bash\n",
    "docker run --rm -i --name e_example -e FEDOR_TEST_VAR=$HOME ubuntu\n",
    "echo $FEDOR_TEST_VAR\n",
    "exit"
   ]
  },
  {
   "cell_type": "markdown",
   "id": "2b56a672-c4e7-4262-8fa2-5b51c65501b1",
   "metadata": {},
   "source": [
    "## Command on container start{#sec-docker_run_com_on_start}\n",
    "\n",
    "In the `docker run` command, after the name of the base image, you can specify a command that will be executed when the container starts. So in the next example I will show you how to run `echo \"hello world\"` in a new ubuntu container."
   ]
  },
  {
   "cell_type": "code",
   "execution_count": 2,
   "id": "4f4107f2-de1d-412b-b988-b9cf885a1817",
   "metadata": {},
   "outputs": [
    {
     "name": "stdout",
     "output_type": "stream",
     "text": [
      "hello world\n"
     ]
    }
   ],
   "source": [
    "%%bash\n",
    "docker run --rm ubuntu echo \"hello world\""
   ]
  },
  {
   "cell_type": "markdown",
   "id": "4625ad15-6ffe-40e9-9f1b-61fcdc3c48b9",
   "metadata": {},
   "source": [
    "- If you want to run several commands you have to use `bash -c \"<command>\"`, like in following example:"
   ]
  },
  {
   "cell_type": "code",
   "execution_count": 5,
   "id": "a5b1ada2-58e5-4046-80bc-98d1ff8867f0",
   "metadata": {},
   "outputs": [
    {
     "name": "stdout",
     "output_type": "stream",
     "text": [
      "hello world\n",
      "hello world2\n"
     ]
    }
   ],
   "source": [
    "%%bash\n",
    "docker run --rm ubuntu bash -c \"\n",
    "    echo \\\"hello world\\\"; \n",
    "    echo \\\"hello world2\\\"\n",
    "\""
   ]
  },
  {
   "cell_type": "markdown",
   "id": "5e3172fd-351e-4ce6-8a5e-b93aa437a6bb",
   "metadata": {},
   "source": [
    "- Note that when containers are in interactive mode, the command executed should take input, otherwise it will just leave container anyway, the follwing gif describe how it looks like:\n",
    "<img src=\"containers_files/docker command -it option.gif\"></img>\n",
    "\n",
    "\n",
    "In the example, I ran the `echo` command with container starts and showed that there were no containers created - because the container was stopped and removed just after it was started. But immediately I created a new container, but now with the command `bash -c \"echo \\\"hello world\\\"; bash` - in this case the last command is `bash` which waits for input, so I'm comming back into the container."
   ]
  },
  {
   "cell_type": "markdown",
   "id": "cdf0d794-c07f-458e-bb06-2120e775bd10",
   "metadata": {},
   "source": [
    "## `-v` - map folder on container to folder on host\n",
    "\n",
    "This is wide topic detailed in [this](docker_volumes.ipynb) section;"
   ]
  },
  {
   "cell_type": "markdown",
   "id": "add0adfe-07d0-4292-97e0-8894a3306bea",
   "metadata": {},
   "source": [
    "## `-u` - set user\n",
    "\n",
    "By default, all docker containers have root privileges, but it can be useful to set user. For a more detailed description in the context of filesystem access, see [here](docker_volumes.ipynb#sec-run_u_option)."
   ]
  },
  {
   "cell_type": "markdown",
   "id": "fad38d2b-f143-480b-8758-93a79bc6660e",
   "metadata": {},
   "source": [
    "## `-p` - use port\n",
    "\n",
    "For mode details see [this](ports.ipynb)."
   ]
  },
  {
   "cell_type": "markdown",
   "id": "0b5ce7c8-26b3-4815-8651-efcb112e7ab5",
   "metadata": {},
   "source": [
    "# Working with images"
   ]
  },
  {
   "cell_type": "markdown",
   "id": "c9687660-fb9d-4f8b-bd5f-47a97da6a210",
   "metadata": {},
   "source": [
    "## `pull` - download image from dockerhub.com\n",
    "\n",
    "It is obligatory to pass on one of the:\n",
    "\n",
    "- `<image name>:<tag>` (`<tag>` - by default is `latest`);\n",
    "- `IMAGE ID` - image id."
   ]
  },
  {
   "cell_type": "code",
   "execution_count": 6,
   "id": "443cf2ac-ae05-4052-be1a-a72cf7294035",
   "metadata": {},
   "outputs": [
    {
     "name": "stdout",
     "output_type": "stream",
     "text": [
      "===============beforre pull======================\n",
      "===============after pull======================\n",
      "hello-world                latest    9c7a54a9a43c   2 weeks ago     13.3kB\n"
     ]
    }
   ],
   "source": [
    "%%bash\n",
    "docker images | grep hello-world\n",
    "echo \"===============beforre pull======================\"\n",
    "docker pull hello-world:latest &> /dev/null\n",
    "echo \"===============after pull======================\"\n",
    "docker images | grep hello-world\n",
    "docker rmi hello-world &> /dev/null"
   ]
  },
  {
   "cell_type": "markdown",
   "id": "c88b0a5e-6fbe-406e-8e61-d887b1b24f7b",
   "metadata": {},
   "source": [
    "## `images` - show list of available images"
   ]
  },
  {
   "cell_type": "code",
   "execution_count": 31,
   "id": "4c612ee0-d3aa-4cc9-b8ce-661ce655d8ac",
   "metadata": {},
   "outputs": [
    {
     "name": "stdout",
     "output_type": "stream",
     "text": [
      "REPOSITORY    TAG       IMAGE ID       CREATED         SIZE\n",
      "hello-world   latest    feb5d9fea6a5   16 months ago   13.3kB\n"
     ]
    }
   ],
   "source": [
    "%%bash\n",
    "docker images"
   ]
  },
  {
   "cell_type": "markdown",
   "id": "7ab8cc67-042c-4f01-ae57-46cf4c83474e",
   "metadata": {},
   "source": [
    "### `--a`,`--all` - show all images\n",
    "\n",
    "By default, so called \"intermediate\", images are hiden. Nowadays I don't know what \"intermediate\" images are."
   ]
  },
  {
   "cell_type": "code",
   "execution_count": 32,
   "id": "35849400-4c15-46f9-90df-50513dcfb3e9",
   "metadata": {},
   "outputs": [
    {
     "name": "stdout",
     "output_type": "stream",
     "text": [
      "REPOSITORY    TAG       IMAGE ID       CREATED         SIZE\n",
      "hello-world   latest    feb5d9fea6a5   16 months ago   13.3kB\n"
     ]
    }
   ],
   "source": [
    "%%bash\n",
    "docker images --all"
   ]
  },
  {
   "cell_type": "markdown",
   "id": "19bcd19b-caea-496a-aa3e-a7e23a995549",
   "metadata": {},
   "source": [
    "### `--digests` - show digests"
   ]
  },
  {
   "cell_type": "code",
   "execution_count": 33,
   "id": "f9c184e8-84e6-4116-95f2-16c0d7174986",
   "metadata": {},
   "outputs": [
    {
     "name": "stdout",
     "output_type": "stream",
     "text": [
      "REPOSITORY    TAG       DIGEST                                                                    IMAGE ID       CREATED         SIZE\n",
      "hello-world   latest    sha256:aa0cc8055b82dc2509bed2e19b275c8f463506616377219d9642221ab53cf9fe   feb5d9fea6a5   16 months ago   13.3kB\n"
     ]
    }
   ],
   "source": [
    "%%bash\n",
    "docker images --digests"
   ]
  },
  {
   "cell_type": "markdown",
   "id": "9e6d0cc4-974a-402a-877f-1a24deed3a81",
   "metadata": {},
   "source": [
    "### `--format` - format output\n",
    "\n",
    "Allows output to be formatted using GO templates."
   ]
  },
  {
   "cell_type": "code",
   "execution_count": 34,
   "id": "2731b003-9962-4618-8db7-2103ff5bc6b8",
   "metadata": {},
   "outputs": [
    {
     "name": "stdout",
     "output_type": "stream",
     "text": [
      "hello-world:latest\n"
     ]
    }
   ],
   "source": [
    "%%bash\n",
    "docker images --format '{{.Repository}}:{{.Tag}}'"
   ]
  },
  {
   "cell_type": "markdown",
   "id": "308682c6-43f1-4f91-bf29-16377fc52f12",
   "metadata": {},
   "source": [
    "### `--no-trunc` - full output"
   ]
  },
  {
   "cell_type": "code",
   "execution_count": 35,
   "id": "fdc405db-dcb4-4dd7-bdce-1399914446f2",
   "metadata": {},
   "outputs": [
    {
     "name": "stdout",
     "output_type": "stream",
     "text": [
      "REPOSITORY    TAG       IMAGE ID                                                                  CREATED         SIZE\n",
      "hello-world   latest    sha256:feb5d9fea6a5e9606aa995e879d862b825965ba48de054caab5ef356dc6b3412   16 months ago   13.3kB\n"
     ]
    }
   ],
   "source": [
    "%%bash\n",
    "docker images --no-trunc"
   ]
  },
  {
   "cell_type": "markdown",
   "id": "fcda0670-fd4c-4d8f-9dd3-35c58cd6d5d1",
   "metadata": {},
   "source": [
    "### `-q`, `--quiet` - print only images ids"
   ]
  },
  {
   "cell_type": "code",
   "execution_count": 36,
   "id": "954d0cef-397c-456c-95f2-dec249696826",
   "metadata": {},
   "outputs": [
    {
     "name": "stdout",
     "output_type": "stream",
     "text": [
      "feb5d9fea6a5\n"
     ]
    }
   ],
   "source": [
    "%%bash\n",
    "docker images -q"
   ]
  },
  {
   "cell_type": "markdown",
   "id": "83f1598a-22f5-46aa-be84-74ed29bd4450",
   "metadata": {},
   "source": [
    "## `rmi` - delete images\n",
    "\n",
    "It is obligatory to pass on one of the:\n",
    "\n",
    "- `<image name>:<tag>` (`<tag>` - by default is `latest`);\n",
    "- `IMAGE ID` - image id."
   ]
  },
  {
   "cell_type": "code",
   "execution_count": 39,
   "id": "207fac00-bfc8-4968-b283-e7f5137fc5b8",
   "metadata": {},
   "outputs": [
    {
     "name": "stdout",
     "output_type": "stream",
     "text": [
      "REPOSITORY    TAG       IMAGE ID       CREATED         SIZE\n",
      "hello-world   latest    feb5d9fea6a5   16 months ago   13.3kB\n",
      "===========================\n",
      "Untagged: hello-world:latest\n",
      "Untagged: hello-world@sha256:aa0cc8055b82dc2509bed2e19b275c8f463506616377219d9642221ab53cf9fe\n",
      "Deleted: sha256:feb5d9fea6a5e9606aa995e879d862b825965ba48de054caab5ef356dc6b3412\n",
      "Deleted: sha256:e07ee1baac5fae6a26f30cabfe54a36d3402f96afda318fe0a96cec4ca393359\n",
      "===========================\n",
      "REPOSITORY   TAG       IMAGE ID   CREATED   SIZE\n"
     ]
    }
   ],
   "source": [
    "%%bash\n",
    "docker images\n",
    "echo \"===========================\"\n",
    "docker rmi hello-world:latest\n",
    "echo \"===========================\"\n",
    "docker images"
   ]
  },
  {
   "cell_type": "markdown",
   "id": "c137838e-17ab-4bd4-8b0b-a70d00be5613",
   "metadata": {},
   "source": [
    "## `build` - build image from dockerfile\n",
    "\n",
    "This command has description [here](image_creation.ipynb#sec-docker_build_command)"
   ]
  },
  {
   "cell_type": "markdown",
   "id": "6908c086-ce64-4862-9150-fb285c9ef8ed",
   "metadata": {},
   "source": [
    "## `commit` - save container state\n",
    "\n",
    "This command has description [here](image_creation.ipynb#sec-docker_commit_command)."
   ]
  },
  {
   "cell_type": "markdown",
   "id": "bd111e5e-6d47-421f-b130-2194b67aca38",
   "metadata": {},
   "source": [
    "# `cp` - copy files from/to container\n",
    "\n",
    "Allows files to be swapped between the host file system and the running container."
   ]
  },
  {
   "cell_type": "markdown",
   "id": "efb98088-424a-4e0c-a338-a0a15f2082b1",
   "metadata": {},
   "source": [
    "## host -> container\n",
    "\n",
    "There is the following syntax:\n",
    "\n",
    "`docker cp <host path> <cantainer name>:<container path>`\n",
    "\n",
    "The following example shows how to copy a file into a container.\n",
    "\n",
    "## container -> host\n",
    "\n",
    "There is syntax for m"
   ]
  },
  {
   "cell_type": "code",
   "execution_count": 8,
   "id": "65d21de9-cdf1-4d31-94b9-0f65e4eddda6",
   "metadata": {},
   "outputs": [
    {
     "name": "stdout",
     "output_type": "stream",
     "text": [
      "=====copied to container=====\n",
      "This message is for checking the copy functions.\n",
      "=====copied from container=====\n",
      "This message is for checking the copy functions."
     ]
    }
   ],
   "source": [
    "%%bash\n",
    "cd filesystem_example\n",
    "docker run --rm --name test_ubuntu -itd ubuntu &> /dev/null\n",
    "\n",
    "docker cp copied_message.txt test_ubuntu:copied_message.txt\n",
    "\n",
    "echo \"=====copied to container=====\"\n",
    "docker exec test_ubuntu cat copied_message.txt\n",
    "echo \"\"\n",
    "\n",
    "docker cp test_ubuntu:copied_message.txt new_message.txt\n",
    "echo \"=====copied from container=====\"\n",
    "cat new_message.txt\n",
    "\n",
    "rm new_message.txt\n",
    "docker stop test_ubuntu &> /dev/null"
   ]
  },
  {
   "cell_type": "markdown",
   "id": "80834fd2-abcc-471e-819a-377f4690e7fe",
   "metadata": {},
   "source": [
    "# `instpect` - docker object info"
   ]
  },
  {
   "cell_type": "markdown",
   "id": "000646af-b377-40ff-9153-d95bcc223f68",
   "metadata": {},
   "source": [
    "## Basic examples\n",
    "\n",
    "This command provide information about docker ojects in json format such as:"
   ]
  },
  {
   "cell_type": "markdown",
   "id": "f2d2ea62-cfd4-4e33-873a-00f6ba04c288",
   "metadata": {},
   "source": [
    "- **images**:"
   ]
  },
  {
   "cell_type": "code",
   "execution_count": 1,
   "id": "7397f74f-54ae-4ffc-acc2-036a4d35f455",
   "metadata": {},
   "outputs": [
    {
     "name": "stdout",
     "output_type": "stream",
     "text": [
      "[\n",
      "    {\n",
      "        \"Id\": \"sha256:74f2314a03de34a0a2d552b805411fc9553a02ea71c1291b815b2f645f565683\",\n",
      "        \"RepoTags\": [\n",
      "            \"ubuntu:latest\"\n",
      "        ],\n",
      "        \"RepoDigests\": [\n",
      "            \"ubuntu@sha256:2adf22367284330af9f832ffefb717c78239f6251d9d0f58de50b86229ed1427\"\n",
      "        ],\n",
      "        \"Parent\": \"\",\n",
      "        \"Comment\": \"\",\n",
      "        \"Created\": \"2023-03-01T04:38:49.239257335Z\",\n",
      "        \"Container\": \"298f60554671ae2f5bf43b9892526aaa221e8093c9cee1ca68ef65fc3ac67600\",\n",
      "        \"ContainerConfig\": {\n",
      "            \"Hostname\": \"298f60554671\",\n",
      "            \"Domainname\": \"\",\n",
      "            \"User\": \"\",\n",
      "            \"AttachStdin\": false,\n",
      "            \"AttachStdout\": false,\n",
      "            \"AttachStderr\": false,\n",
      "            \"Tty\": false,\n",
      "            \"OpenStdin\": false,\n",
      "            \"StdinOnce\": false,\n",
      "            \"Env\": [\n",
      "                \"PATH=/usr/local/sbin:/usr/local/bin:/usr/sbin:/usr/bin:/sbin:/bin\"\n",
      "            ],\n",
      "            \"Cmd\": [\n",
      "                \"/bin/sh\",\n",
      "                \"-c\",\n",
      "                \"#(nop) \",\n",
      "                \"CMD [\\\"/bin/bash\\\"]\"\n",
      "            ],\n",
      "            \"Image\": \"sha256:6088cf91777e3b0190e579c7c7cab9c65626f5ff625373bcdb02ae877a9118d8\",\n",
      "            \"Volumes\": null,\n",
      "            \"WorkingDir\": \"\",\n",
      "            \"Entrypoint\": null,\n",
      "            \"OnBuild\": null,\n",
      "            \"Labels\": {\n",
      "                \"org.opencontainers.image.ref.name\": \"ubuntu\",\n",
      "                \"org.opencontainers.image.version\": \"22.04\"\n",
      "            }\n",
      "        },\n",
      "        \"DockerVersion\": \"20.10.12\",\n",
      "        \"Author\": \"\",\n",
      "        \"Config\": {\n",
      "            \"Hostname\": \"\",\n",
      "            \"Domainname\": \"\",\n",
      "            \"User\": \"\",\n",
      "            \"AttachStdin\": false,\n",
      "            \"AttachStdout\": false,\n",
      "            \"AttachStderr\": false,\n",
      "            \"Tty\": false,\n",
      "            \"OpenStdin\": false,\n",
      "            \"StdinOnce\": false,\n",
      "            \"Env\": [\n",
      "                \"PATH=/usr/local/sbin:/usr/local/bin:/usr/sbin:/usr/bin:/sbin:/bin\"\n",
      "            ],\n",
      "            \"Cmd\": [\n",
      "                \"/bin/bash\"\n",
      "            ],\n",
      "            \"Image\": \"sha256:6088cf91777e3b0190e579c7c7cab9c65626f5ff625373bcdb02ae877a9118d8\",\n",
      "            \"Volumes\": null,\n",
      "            \"WorkingDir\": \"\",\n",
      "            \"Entrypoint\": null,\n",
      "            \"OnBuild\": null,\n",
      "            \"Labels\": {\n",
      "                \"org.opencontainers.image.ref.name\": \"ubuntu\",\n",
      "                \"org.opencontainers.image.version\": \"22.04\"\n",
      "            }\n",
      "        },\n",
      "        \"Architecture\": \"amd64\",\n",
      "        \"Os\": \"linux\",\n",
      "        \"Size\": 77810712,\n",
      "        \"VirtualSize\": 77810712,\n",
      "        \"GraphDriver\": {\n",
      "            \"Data\": {\n",
      "                \"MergedDir\": \"/var/lib/docker/overlay2/dfcfb531746a088aaf673a8bc04602c8c8e19b1114680ff8164a95abfef8a0e6/merged\",\n",
      "                \"UpperDir\": \"/var/lib/docker/overlay2/dfcfb531746a088aaf673a8bc04602c8c8e19b1114680ff8164a95abfef8a0e6/diff\",\n",
      "                \"WorkDir\": \"/var/lib/docker/overlay2/dfcfb531746a088aaf673a8bc04602c8c8e19b1114680ff8164a95abfef8a0e6/work\"\n",
      "            },\n",
      "            \"Name\": \"overlay2\"\n",
      "        },\n",
      "        \"RootFS\": {\n",
      "            \"Type\": \"layers\",\n",
      "            \"Layers\": [\n",
      "                \"sha256:202fe64c3ce39b94d8beda7d7506ccdfcf7a59f02f17c915078e4c62b5c2ed11\"\n",
      "            ]\n",
      "        },\n",
      "        \"Metadata\": {\n",
      "            \"LastTagTime\": \"0001-01-01T00:00:00Z\"\n",
      "        }\n",
      "    }\n",
      "]\n"
     ]
    }
   ],
   "source": [
    "%%bash\n",
    "docker inspect ubuntu"
   ]
  },
  {
   "cell_type": "markdown",
   "id": "a1264e67-cf7a-4c2b-85f2-393a0f14af11",
   "metadata": {},
   "source": [
    "- **containers**:"
   ]
  },
  {
   "cell_type": "code",
   "execution_count": 5,
   "id": "1d9d4845-98f4-4f25-b72b-b6dbe55f223c",
   "metadata": {},
   "outputs": [
    {
     "name": "stdout",
     "output_type": "stream",
     "text": [
      "[\n",
      "    {\n",
      "        \"Id\": \"020c99a8fbdca844a78956c0f7b2aba4fcd53e4f299112894dd0c0b7aca246c5\",\n",
      "        \"Created\": \"2023-06-12T13:37:52.23307605Z\",\n",
      "        \"Path\": \"/bin/bash\",\n",
      "        \"Args\": [],\n",
      "        \"State\": {\n",
      "            \"Status\": \"running\",\n",
      "            \"Running\": true,\n",
      "            \"Paused\": false,\n",
      "            \"Restarting\": false,\n",
      "            \"OOMKilled\": false,\n",
      "            \"Dead\": false,\n",
      "            \"Pid\": 32562,\n",
      "            \"ExitCode\": 0,\n",
      "            \"Error\": \"\",\n",
      "            \"StartedAt\": \"2023-06-12T13:37:52.471660971Z\",\n",
      "            \"FinishedAt\": \"0001-01-01T00:00:00Z\"\n",
      "        },\n",
      "        \"Image\": \"sha256:74f2314a03de34a0a2d552b805411fc9553a02ea71c1291b815b2f645f565683\",\n",
      "        \"ResolvConfPath\": \"/var/lib/docker/containers/020c99a8fbdca844a78956c0f7b2aba4fcd53e4f299112894dd0c0b7aca246c5/resolv.conf\",\n",
      "        \"HostnamePath\": \"/var/lib/docker/containers/020c99a8fbdca844a78956c0f7b2aba4fcd53e4f299112894dd0c0b7aca246c5/hostname\",\n",
      "        \"HostsPath\": \"/var/lib/docker/containers/020c99a8fbdca844a78956c0f7b2aba4fcd53e4f299112894dd0c0b7aca246c5/hosts\",\n",
      "        \"LogPath\": \"/var/lib/docker/containers/020c99a8fbdca844a78956c0f7b2aba4fcd53e4f299112894dd0c0b7aca246c5/020c99a8fbdca844a78956c0f7b2aba4fcd53e4f299112894dd0c0b7aca246c5-json.log\",\n",
      "        \"Name\": \"/test\",\n",
      "        \"RestartCount\": 0,\n",
      "        \"Driver\": \"overlay2\",\n",
      "        \"Platform\": \"linux\",\n",
      "        \"MountLabel\": \"\",\n",
      "        \"ProcessLabel\": \"\",\n",
      "        \"AppArmorProfile\": \"docker-default\",\n",
      "        \"ExecIDs\": null,\n",
      "        \"HostConfig\": {\n",
      "            \"Binds\": null,\n",
      "            \"ContainerIDFile\": \"\",\n",
      "            \"LogConfig\": {\n",
      "                \"Type\": \"json-file\",\n",
      "                \"Config\": {}\n",
      "            },\n",
      "            \"NetworkMode\": \"default\",\n",
      "            \"PortBindings\": {},\n",
      "            \"RestartPolicy\": {\n",
      "                \"Name\": \"no\",\n",
      "                \"MaximumRetryCount\": 0\n",
      "            },\n",
      "            \"AutoRemove\": true,\n",
      "            \"VolumeDriver\": \"\",\n",
      "            \"VolumesFrom\": null,\n",
      "            \"ConsoleSize\": [\n",
      "                0,\n",
      "                0\n",
      "            ],\n",
      "            \"CapAdd\": null,\n",
      "            \"CapDrop\": null,\n",
      "            \"CgroupnsMode\": \"private\",\n",
      "            \"Dns\": [],\n",
      "            \"DnsOptions\": [],\n",
      "            \"DnsSearch\": [],\n",
      "            \"ExtraHosts\": null,\n",
      "            \"GroupAdd\": null,\n",
      "            \"IpcMode\": \"private\",\n",
      "            \"Cgroup\": \"\",\n",
      "            \"Links\": null,\n",
      "            \"OomScoreAdj\": 0,\n",
      "            \"PidMode\": \"\",\n",
      "            \"Privileged\": false,\n",
      "            \"PublishAllPorts\": false,\n",
      "            \"ReadonlyRootfs\": false,\n",
      "            \"SecurityOpt\": null,\n",
      "            \"UTSMode\": \"\",\n",
      "            \"UsernsMode\": \"\",\n",
      "            \"ShmSize\": 67108864,\n",
      "            \"Runtime\": \"runc\",\n",
      "            \"Isolation\": \"\",\n",
      "            \"CpuShares\": 0,\n",
      "            \"Memory\": 0,\n",
      "            \"NanoCpus\": 0,\n",
      "            \"CgroupParent\": \"\",\n",
      "            \"BlkioWeight\": 0,\n",
      "            \"BlkioWeightDevice\": [],\n",
      "            \"BlkioDeviceReadBps\": [],\n",
      "            \"BlkioDeviceWriteBps\": [],\n",
      "            \"BlkioDeviceReadIOps\": [],\n",
      "            \"BlkioDeviceWriteIOps\": [],\n",
      "            \"CpuPeriod\": 0,\n",
      "            \"CpuQuota\": 0,\n",
      "            \"CpuRealtimePeriod\": 0,\n",
      "            \"CpuRealtimeRuntime\": 0,\n",
      "            \"CpusetCpus\": \"\",\n",
      "            \"CpusetMems\": \"\",\n",
      "            \"Devices\": [],\n",
      "            \"DeviceCgroupRules\": null,\n",
      "            \"DeviceRequests\": null,\n",
      "            \"MemoryReservation\": 0,\n",
      "            \"MemorySwap\": 0,\n",
      "            \"MemorySwappiness\": null,\n",
      "            \"OomKillDisable\": null,\n",
      "            \"PidsLimit\": null,\n",
      "            \"Ulimits\": null,\n",
      "            \"CpuCount\": 0,\n",
      "            \"CpuPercent\": 0,\n",
      "            \"IOMaximumIOps\": 0,\n",
      "            \"IOMaximumBandwidth\": 0,\n",
      "            \"MaskedPaths\": [\n",
      "                \"/proc/asound\",\n",
      "                \"/proc/acpi\",\n",
      "                \"/proc/kcore\",\n",
      "                \"/proc/keys\",\n",
      "                \"/proc/latency_stats\",\n",
      "                \"/proc/timer_list\",\n",
      "                \"/proc/timer_stats\",\n",
      "                \"/proc/sched_debug\",\n",
      "                \"/proc/scsi\",\n",
      "                \"/sys/firmware\"\n",
      "            ],\n",
      "            \"ReadonlyPaths\": [\n",
      "                \"/proc/bus\",\n",
      "                \"/proc/fs\",\n",
      "                \"/proc/irq\",\n",
      "                \"/proc/sys\",\n",
      "                \"/proc/sysrq-trigger\"\n",
      "            ]\n",
      "        },\n",
      "        \"GraphDriver\": {\n",
      "            \"Data\": {\n",
      "                \"LowerDir\": \"/var/lib/docker/overlay2/06b3ab167c3c359841177a3bc998d8bc5c32c1c8893d7518e2df4193a1dc98ee-init/diff:/var/lib/docker/overlay2/dfcfb531746a088aaf673a8bc04602c8c8e19b1114680ff8164a95abfef8a0e6/diff\",\n",
      "                \"MergedDir\": \"/var/lib/docker/overlay2/06b3ab167c3c359841177a3bc998d8bc5c32c1c8893d7518e2df4193a1dc98ee/merged\",\n",
      "                \"UpperDir\": \"/var/lib/docker/overlay2/06b3ab167c3c359841177a3bc998d8bc5c32c1c8893d7518e2df4193a1dc98ee/diff\",\n",
      "                \"WorkDir\": \"/var/lib/docker/overlay2/06b3ab167c3c359841177a3bc998d8bc5c32c1c8893d7518e2df4193a1dc98ee/work\"\n",
      "            },\n",
      "            \"Name\": \"overlay2\"\n",
      "        },\n",
      "        \"Mounts\": [],\n",
      "        \"Config\": {\n",
      "            \"Hostname\": \"020c99a8fbdc\",\n",
      "            \"Domainname\": \"\",\n",
      "            \"User\": \"\",\n",
      "            \"AttachStdin\": false,\n",
      "            \"AttachStdout\": false,\n",
      "            \"AttachStderr\": false,\n",
      "            \"Tty\": true,\n",
      "            \"OpenStdin\": true,\n",
      "            \"StdinOnce\": false,\n",
      "            \"Env\": [\n",
      "                \"PATH=/usr/local/sbin:/usr/local/bin:/usr/sbin:/usr/bin:/sbin:/bin\"\n",
      "            ],\n",
      "            \"Cmd\": [\n",
      "                \"/bin/bash\"\n",
      "            ],\n",
      "            \"Image\": \"ubuntu\",\n",
      "            \"Volumes\": null,\n",
      "            \"WorkingDir\": \"\",\n",
      "            \"Entrypoint\": null,\n",
      "            \"OnBuild\": null,\n",
      "            \"Labels\": {\n",
      "                \"org.opencontainers.image.ref.name\": \"ubuntu\",\n",
      "                \"org.opencontainers.image.version\": \"22.04\"\n",
      "            }\n",
      "        },\n",
      "        \"NetworkSettings\": {\n",
      "            \"Bridge\": \"\",\n",
      "            \"SandboxID\": \"422100341f6b603db62a0c616fa614091b66ac5a06796fa577503fd469b4ce56\",\n",
      "            \"HairpinMode\": false,\n",
      "            \"LinkLocalIPv6Address\": \"\",\n",
      "            \"LinkLocalIPv6PrefixLen\": 0,\n",
      "            \"Ports\": {},\n",
      "            \"SandboxKey\": \"/var/run/docker/netns/422100341f6b\",\n",
      "            \"SecondaryIPAddresses\": null,\n",
      "            \"SecondaryIPv6Addresses\": null,\n",
      "            \"EndpointID\": \"b2440d2f1d13674c667458fd051354ec32d2e11475db2308e20cd057e3b16037\",\n",
      "            \"Gateway\": \"172.17.0.1\",\n",
      "            \"GlobalIPv6Address\": \"\",\n",
      "            \"GlobalIPv6PrefixLen\": 0,\n",
      "            \"IPAddress\": \"172.17.0.2\",\n",
      "            \"IPPrefixLen\": 16,\n",
      "            \"IPv6Gateway\": \"\",\n",
      "            \"MacAddress\": \"02:42:ac:11:00:02\",\n",
      "            \"Networks\": {\n",
      "                \"bridge\": {\n",
      "                    \"IPAMConfig\": null,\n",
      "                    \"Links\": null,\n",
      "                    \"Aliases\": null,\n",
      "                    \"NetworkID\": \"cf037e1d3aeb308ae603f8028da3343134d92e79462fdcb5390b196a9e49c87d\",\n",
      "                    \"EndpointID\": \"b2440d2f1d13674c667458fd051354ec32d2e11475db2308e20cd057e3b16037\",\n",
      "                    \"Gateway\": \"172.17.0.1\",\n",
      "                    \"IPAddress\": \"172.17.0.2\",\n",
      "                    \"IPPrefixLen\": 16,\n",
      "                    \"IPv6Gateway\": \"\",\n",
      "                    \"GlobalIPv6Address\": \"\",\n",
      "                    \"GlobalIPv6PrefixLen\": 0,\n",
      "                    \"MacAddress\": \"02:42:ac:11:00:02\",\n",
      "                    \"DriverOpts\": null\n",
      "                }\n",
      "            }\n",
      "        }\n",
      "    }\n",
      "]\n"
     ]
    }
   ],
   "source": [
    "%%bash\n",
    "docker run --rm --name test -itd ubuntu &> /dev/null\n",
    "docker inspect test\n",
    "docker stop test &> /dev/null"
   ]
  },
  {
   "cell_type": "markdown",
   "id": "3eec0dbd-ff9d-4892-8d4e-31563e27dcd1",
   "metadata": {},
   "source": [
    "- **networks**:"
   ]
  },
  {
   "cell_type": "code",
   "execution_count": 9,
   "id": "2c8a14d2-11f9-496b-a6da-2f7ab4adfd95",
   "metadata": {},
   "outputs": [
    {
     "name": "stdout",
     "output_type": "stream",
     "text": [
      "[\n",
      "    {\n",
      "        \"Name\": \"bridge\",\n",
      "        \"Id\": \"cf037e1d3aeb308ae603f8028da3343134d92e79462fdcb5390b196a9e49c87d\",\n",
      "        \"Created\": \"2023-06-12T08:14:24.801403507+03:00\",\n",
      "        \"Scope\": \"local\",\n",
      "        \"Driver\": \"bridge\",\n",
      "        \"EnableIPv6\": false,\n",
      "        \"IPAM\": {\n",
      "            \"Driver\": \"default\",\n",
      "            \"Options\": null,\n",
      "            \"Config\": [\n",
      "                {\n",
      "                    \"Subnet\": \"172.17.0.0/16\",\n",
      "                    \"Gateway\": \"172.17.0.1\"\n",
      "                }\n",
      "            ]\n",
      "        },\n",
      "        \"Internal\": false,\n",
      "        \"Attachable\": false,\n",
      "        \"Ingress\": false,\n",
      "        \"ConfigFrom\": {\n",
      "            \"Network\": \"\"\n",
      "        },\n",
      "        \"ConfigOnly\": false,\n",
      "        \"Containers\": {},\n",
      "        \"Options\": {\n",
      "            \"com.docker.network.bridge.default_bridge\": \"true\",\n",
      "            \"com.docker.network.bridge.enable_icc\": \"true\",\n",
      "            \"com.docker.network.bridge.enable_ip_masquerade\": \"true\",\n",
      "            \"com.docker.network.bridge.host_binding_ipv4\": \"0.0.0.0\",\n",
      "            \"com.docker.network.bridge.name\": \"docker0\",\n",
      "            \"com.docker.network.driver.mtu\": \"1500\"\n",
      "        },\n",
      "        \"Labels\": {}\n",
      "    }\n",
      "]\n"
     ]
    }
   ],
   "source": [
    "%%bash\n",
    "docker inspect bridge"
   ]
  },
  {
   "cell_type": "markdown",
   "id": "0fc9371e-f631-46d7-8a52-fcbb92fc3eac",
   "metadata": {},
   "source": [
    "## **Special cases**\n",
    "\n",
    "- For more information about the **path to container logs**, you can look [here](logs.ipynb#log_path_on_computer)."
   ]
  }
 ],
 "metadata": {
  "kernelspec": {
   "display_name": "Python 3 (ipykernel)",
   "language": "python",
   "name": "python3"
  },
  "language_info": {
   "codemirror_mode": {
    "name": "ipython",
    "version": 3
   },
   "file_extension": ".py",
   "mimetype": "text/x-python",
   "name": "python",
   "nbconvert_exporter": "python",
   "pygments_lexer": "ipython3",
   "version": "3.10.12"
  }
 },
 "nbformat": 4,
 "nbformat_minor": 5
}