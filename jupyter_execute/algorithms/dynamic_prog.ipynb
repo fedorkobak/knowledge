{
 "cells": [
  {
   "cell_type": "markdown",
   "id": "77a15eaf-f432-49bd-bc7b-26cc029d7dbb",
   "metadata": {},
   "source": [
    "# Dynamic programming\n",
    "\n",
    "Dynamic programming is a popular way to solve some algorithmic problems. The main approach of this type of task is that to find the best solution at the $N-th$ step, you have to check the solution at the $N-1$ step."
   ]
  },
  {
   "cell_type": "markdown",
   "id": "9773e001-cb72-4332-8d69-72732e9ad89b",
   "metadata": {},
   "source": [
    "## Robot task 1"
   ]
  },
  {
   "cell_type": "markdown",
   "id": "046cc38c-d1ce-4706-a4bb-159ca1645d4a",
   "metadata": {},
   "source": [
    "### Problem statement"
   ]
  },
  {
   "cell_type": "markdown",
   "id": "1577cd83-ed92-493c-8329-094aecf699c3",
   "metadata": {},
   "source": [
    "This is a classic example of a dynamic programming problem. Suppose we have a square board of size NxN. And there is robot that stay on the top left cell of the board. We need to count ways that robot can use to get to the bottom right corner of the field. Assuming the robot can only walk to the right and down."
   ]
  },
  {
   "cell_type": "markdown",
   "id": "425823c7-c881-4fe4-a8fa-29ed7602bbbc",
   "metadata": {},
   "source": [
    "So if we are talking about a 3x3 cell, there are 6 possibilities. All of them are described in the following cell:\n",
    "\n",
    "```\n",
    "[→] [→] [↓] | [→] [↓] [ ] | [→] [↓] [ ]\n",
    "[ ] [ ] [↓] | [ ] [→] [↓] | [ ] [↓] [ ]\n",
    "[ ] [ ] [ ] | [ ] [ ] [ ] | [ ] [→] [ ]\n",
    "----------------------------------------\n",
    "[↓] [ ] [ ] | [↓] [ ] [ ] | [↓] [ ] [ ]\n",
    "[↓] [ ] [ ] | [→] [↓] [ ] | [→] [→] [↓]\n",
    "[→] [→] [ ] | [ ] [→] [ ] | [ ] [ ] [ ]\n",
    "```"
   ]
  },
  {
   "cell_type": "markdown",
   "id": "705a91f8-2fdb-4c2a-8ea0-c91c684be531",
   "metadata": {},
   "source": [
    "### Idea\n",
    "\n",
    "For a cell with coordinates $(i,j)$, we can count the number of passes by simply summing the number of passes for the cell $(i-1, j-1)$. So we can simply use a recursion that sums the number of passes for the top cell and the left cell. \n",
    "\n",
    "To apply the function once to each cell, you can simply save the counts for the cells and use them again in the next steps - this method is called memorisation. So in each iteration you have to check if the number of paths to the cell in question is already known, and if so, just return the result of the previous steps.\n",
    "\n",
    "**Trick**\n",
    "\n",
    "There is only one way to reach the top row and left column, so you can fill them before the recursion. There's great convenience in such an approach - you don't have to worry about leaving the boundaries of the array - for the outermost cells, the recursion will simply return the pre-defined 1."
   ]
  },
  {
   "cell_type": "markdown",
   "id": "078f5155-1d70-4dba-8757-1e73defe8af6",
   "metadata": {},
   "source": [
    "### Python implementaion\n",
    "\n",
    "There is realisation of this algorithm in python:"
   ]
  },
  {
   "cell_type": "code",
   "execution_count": 1,
   "id": "2096994f-908a-4991-b5aa-f2824ba223b3",
   "metadata": {},
   "outputs": [],
   "source": [
    "def solve(arr, i, j):\n",
    "    '''\n",
    "    Recursion that returns the number \n",
    "    of ways to enrich cell i,j in a \n",
    "    board defined by arr.\n",
    "\n",
    "    Parameters\n",
    "    ----------\n",
    "    arr : list of lists\n",
    "        board of the task;\n",
    "    i,j : int\n",
    "        The coordinates of the cell for \n",
    "        which we are looking for the \n",
    "        number of paths.\n",
    "\n",
    "    Returns\n",
    "    ----------\n",
    "    out : int\n",
    "        number of ways to reach the \n",
    "        cell under under consideration.\n",
    "    '''\n",
    "    if arr[i][j]==0:\n",
    "        arr[i][j]=solve(arr, i-1, j) + solve(arr, i, j-1)\n",
    "    return arr[i][j]\n",
    "\n",
    "def run(N):\n",
    "    '''\n",
    "    Find number of ways that allows to\n",
    "    enrich cell botton right cell of board\n",
    "    with size NxN from the top left cell\n",
    "    of the board\n",
    "\n",
    "    Parameters\n",
    "    ----------\n",
    "    N : int\n",
    "        number of columns and rows \n",
    "        on the that we are solving \n",
    "        the problem for.\n",
    "\n",
    "    Returns\n",
    "    ----------\n",
    "    out : int\n",
    "        number of ways to reach the top\n",
    "        left cell from the bottom right cell.\n",
    "    '''\n",
    "    arr = [\n",
    "        [ (1 if (i==0 or j==0) else 0) for i in range(N)] \n",
    "        for j in range(N)\n",
    "    ]\n",
    "    return solve(arr, N-1, N-1)"
   ]
  },
  {
   "cell_type": "markdown",
   "id": "f96a4313-eec5-4ad4-9286-677d4e021665",
   "metadata": {},
   "source": [
    "So now we calculate the number of ways for different board sizes:"
   ]
  },
  {
   "cell_type": "code",
   "execution_count": 2,
   "id": "24cd7db7-5c9c-4052-a9bf-3fc346060573",
   "metadata": {},
   "outputs": [
    {
     "name": "stdout",
     "output_type": "stream",
     "text": [
      "board1x1 - number of pathes 1\n",
      "board2x2 - number of pathes 2\n",
      "board3x3 - number of pathes 6\n",
      "board4x4 - number of pathes 20\n",
      "board5x5 - number of pathes 70\n",
      "board6x6 - number of pathes 252\n",
      "board7x7 - number of pathes 924\n",
      "board8x8 - number of pathes 3432\n",
      "board9x9 - number of pathes 12870\n"
     ]
    }
   ],
   "source": [
    "for i in range(1, 10):\n",
    "    print(f\"board{i}x{i} - number of pathes {run(i)}\")"
   ]
  },
  {
   "cell_type": "markdown",
   "id": "387edade-b695-4ab5-a21b-fe1445b90b4d",
   "metadata": {},
   "source": [
    "## Robot task 2"
   ]
  },
  {
   "cell_type": "markdown",
   "id": "0c01bd52-803c-4a77-a87a-2c3ee41c29f8",
   "metadata": {},
   "source": [
    "### Problem statement"
   ]
  },
  {
   "cell_type": "markdown",
   "id": "024b17c7-7410-4570-8089-165bd7a938fb",
   "metadata": {},
   "source": [
    "This is a slightly modified version of the task from the previous section. We still have a robot that is in the top left cell of the board and wants to reach the bottom left cell of the board. The robot can still only move to the right and down. But now each cell has a cost to stay in. So our task is to come up with an algorithm that returns the lowest cost."
   ]
  },
  {
   "cell_type": "markdown",
   "id": "6ffc9f87-3000-499e-8003-2f7c32df8c7a",
   "metadata": {},
   "source": [
    "For example lets take board:\n",
    "\n",
    "```\n",
    "[1] [3] [4] [7]\n",
    "[3] [7] [1] [1]\n",
    "[9] [2] [1] [3]\n",
    "```\n",
    "\n",
    "The ceapest path will be:\n",
    "\n",
    "```\n",
    "[→] [→] [↓] [ ]\n",
    "[ ] [ ] [↓] [ ]\n",
    "[ ] [ ] [→] [ ]\n",
    "```\n",
    "\n",
    "And it will cost 13 points."
   ]
  },
  {
   "cell_type": "markdown",
   "id": "e53455c6-a038-4461-b073-953e76dc2948",
   "metadata": {},
   "source": [
    "**Solution** is just like in [Robot task 1](#robot-task-1) task. We will create an array that contains minimum cost for each cell. The core element of the solution is a recursive function that uses itself for cell i,j to compute the minimum between cells i-1,j and i,j-1, and fills the minimum cost array with the value obtained."
   ]
  },
  {
   "cell_type": "markdown",
   "id": "7d4828f5-cea1-460a-a10c-b5bb87a96b58",
   "metadata": {},
   "source": [
    "### Boundary conditions"
   ]
  },
  {
   "cell_type": "markdown",
   "id": "a9bb1989-32e6-4845-a796-d5d857e5d7e9",
   "metadata": {},
   "source": [
    "To take into account the boundary conditions, we will use the same trick as in the simpler variations of this problem. For the leftmost column, we will calculate the cost before recursion as the sum of the previous elements in that column. The same for the top row.\n",
    "\n",
    "The followng cell implements this idea:"
   ]
  },
  {
   "cell_type": "code",
   "execution_count": 3,
   "id": "e69cb69d-2e5b-4e04-96cd-9a2a479cd39c",
   "metadata": {},
   "outputs": [],
   "source": [
    "def fill_borders(board, path_costs):\n",
    "    '''\n",
    "    Fills costs for boundry column and row.\n",
    "\n",
    "    Parameters\n",
    "    ----------\n",
    "    board : list of lists\n",
    "        square array that for each cell define\n",
    "        cost of the cell;\n",
    "    path_costs : list of lists\n",
    "        square array where values will be changed;\n",
    "    '''\n",
    "    height = len(board)\n",
    "    width = len(board[0])\n",
    "    \n",
    "    top_border_sum = 0\n",
    "    for j in range(width): \n",
    "        top_border_sum += board[0][j]\n",
    "        path_costs[0][j] = top_border_sum\n",
    "    left_border_sum = 0\n",
    "    for i in range(height):\n",
    "        left_border_sum += board[i][0]\n",
    "        path_costs[i][0] = left_border_sum"
   ]
  },
  {
   "cell_type": "markdown",
   "id": "fc5bf194-4435-4985-aab6-28be22fa2cb9",
   "metadata": {},
   "source": [
    "Let's see what we got:"
   ]
  },
  {
   "cell_type": "code",
   "execution_count": 4,
   "id": "121e68c5-5f96-4b1f-91ec-a38757aca2ec",
   "metadata": {},
   "outputs": [
    {
     "name": "stdout",
     "output_type": "stream",
     "text": [
      "[1, 4, 8]\n",
      "[4, None, None]\n",
      "[13, None, None]\n"
     ]
    }
   ],
   "source": [
    "board = [\n",
    "    [1,3,4],\n",
    "    [3,7,1],\n",
    "    [9,2,1]\n",
    "]\n",
    "\n",
    "height = len(board)\n",
    "width = len(board[0])\n",
    "path_costs = [\n",
    "    [None for j in range(width)]\n",
    "    for i in range(height)\n",
    "]\n",
    "fill_borders(board, path_costs)\n",
    "for l in path_costs:\n",
    "    print(l)"
   ]
  },
  {
   "cell_type": "markdown",
   "id": "b3493ec2-b91d-4271-9098-e27cf7ae2a7f",
   "metadata": {},
   "source": [
    "### Recursive function\n",
    "\n",
    "Here is an implementation of the central function of the solution:"
   ]
  },
  {
   "cell_type": "code",
   "execution_count": 5,
   "id": "945521ca-ad66-4f82-a211-e6ab46f11a57",
   "metadata": {},
   "outputs": [],
   "source": [
    "def solve(board, pos, path_costs):\n",
    "    '''\n",
    "    Recursive function that will return\n",
    "    cost of path from top left cell of the board\n",
    "    to selected cell. And modify array with\n",
    "    lowest costs if needed.\n",
    "\n",
    "    Parameters\n",
    "    ----------\n",
    "    board : list of lists\n",
    "        square array that for each cell define\n",
    "        cost of the cell;\n",
    "    pos : tuple of 2 ints\n",
    "        define the cell for which you want to \n",
    "        to calculate the cost of the route;\n",
    "    path_costs : list of lists\n",
    "        square array in which the already calculated \n",
    "        paths are stored;\n",
    "    '''\n",
    "    \n",
    "    i,j=pos[0],pos[1]\n",
    "    if path_costs[i][j] is not None:\n",
    "        return path_costs[i][j]\n",
    "    top_cost = solve(board, (i-1, j), path_costs)\n",
    "    left_cost = solve(board, (i, j-1), path_costs)\n",
    "    path_costs[i][j] = min(top_cost, left_cost) + board[i][j]\n",
    "    return path_costs[i][j]"
   ]
  },
  {
   "cell_type": "markdown",
   "id": "aa241b05-73f5-4618-8c53-58a9d634262b",
   "metadata": {},
   "source": [
    "Let's try the code from the previous cell. Just for random board for cell (2,2) call function. You can make sure that the function works correctly if you trace the sequence of cells with the minimum path cost from cell (2,2) to cell (0,0)."
   ]
  },
  {
   "cell_type": "code",
   "execution_count": 6,
   "id": "3fbca8f1-8ffe-4528-9389-90d3c253148a",
   "metadata": {},
   "outputs": [
    {
     "data": {
      "text/html": [
       "<p style='font-size:15px'>Board</p>"
      ],
      "text/plain": [
       "<IPython.core.display.HTML object>"
      ]
     },
     "metadata": {},
     "output_type": "display_data"
    },
    {
     "data": {
      "text/plain": [
       "[[11, 1, 19, 13, 18, 4, 4, 12, 16, 5],\n",
       " [13, 20, 6, 4, 12, 10, 9, 10, 9, 5],\n",
       " [13, 15, 10, 6, 16, 16, 17, 9, 4, 17],\n",
       " [17, 7, 12, 7, 2, 6, 9, 12, 6, 5],\n",
       " [7, 18, 19, 3, 6, 11, 16, 12, 14, 19],\n",
       " [18, 7, 7, 20, 13, 19, 6, 2, 15, 5],\n",
       " [12, 20, 12, 6, 11, 4, 7, 7, 19, 4]]"
      ]
     },
     "metadata": {},
     "output_type": "display_data"
    },
    {
     "data": {
      "text/html": [
       "<p style='font-size:15px'>Paths costs</p>"
      ],
      "text/plain": [
       "<IPython.core.display.HTML object>"
      ]
     },
     "metadata": {},
     "output_type": "display_data"
    },
    {
     "data": {
      "text/plain": [
       "[[11, 12, 31, 44, 62, 66, 70, 82, 98, 103],\n",
       " [24, 32, 37, None, None, None, None, None, None, None],\n",
       " [37, 47, 47, None, None, None, None, None, None, None],\n",
       " [54, None, None, None, None, None, None, None, None, None],\n",
       " [61, None, None, None, None, None, None, None, None, None],\n",
       " [79, None, None, None, None, None, None, None, None, None],\n",
       " [91, None, None, None, None, None, None, None, None, None]]"
      ]
     },
     "metadata": {},
     "output_type": "display_data"
    }
   ],
   "source": [
    "from IPython.display import HTML\n",
    "from random import randint\n",
    "\n",
    "height=7;width=10\n",
    "board = [\n",
    "    [randint(0, 20) for j in range(width)]\n",
    "    for i in range(height)\n",
    "]\n",
    "\n",
    "display(HTML(\"<p style='font-size:15px'>Board</p>\"))\n",
    "display(board)\n",
    "\n",
    "path_costs = [\n",
    "    [None for j in range(width)]\n",
    "    for i in range(height)\n",
    "]\n",
    "fill_borders(board, path_costs)\n",
    "solve(board, (2, 2), path_costs)\n",
    "\n",
    "display(HTML(\"<p style='font-size:15px'>Paths costs</p>\"))\n",
    "display(path_costs)"
   ]
  },
  {
   "cell_type": "code",
   "execution_count": 7,
   "id": "4dd36a8a-f6fe-4f33-b7dc-682db7ce142b",
   "metadata": {},
   "outputs": [],
   "source": [
    "def min_path(board):\n",
    "    '''\n",
    "    Function that compute cost of the cheapest\n",
    "    path from top left cell of the given board\n",
    "    to the bottom right cell of the given\n",
    "\n",
    "    Parameters\n",
    "    ----------\n",
    "    board : list of lists\n",
    "        square array that for each cell define\n",
    "        cost of the cell;\n",
    "\n",
    "    Returns\n",
    "    ----------\n",
    "    out : number\n",
    "        cost of the cheapest path. \n",
    "    '''\n",
    "    height = len(board)\n",
    "    width = len(board[0])\n",
    "\n",
    "    path_costs = [\n",
    "        [None for j in range(width)]\n",
    "        for i in range(height)\n",
    "    ]\n",
    "    fill_borders(board, path_costs)\n",
    "    return solve(board, (height-1, width-1), path_costs)"
   ]
  },
  {
   "cell_type": "markdown",
   "id": "c38d30e4-d436-4fef-b036-12ba2b107369",
   "metadata": {},
   "source": [
    "Let's try it on the obvious case - where there is a path that containing only ones."
   ]
  },
  {
   "cell_type": "code",
   "execution_count": 8,
   "id": "556c460b-01dd-47bb-8956-0db783ca775b",
   "metadata": {},
   "outputs": [
    {
     "data": {
      "text/plain": [
       "6"
      ]
     },
     "execution_count": 8,
     "metadata": {},
     "output_type": "execute_result"
    }
   ],
   "source": [
    "board = [\n",
    "    [1, 1, 1, 5],\n",
    "    [1, 3, 1, 1],\n",
    "    [3, 1, 5, 1]\n",
    "]\n",
    "min_path(board)"
   ]
  }
 ],
 "metadata": {
  "kernelspec": {
   "display_name": "Python 3 (ipykernel)",
   "language": "python",
   "name": "python3"
  },
  "language_info": {
   "codemirror_mode": {
    "name": "ipython",
    "version": 3
   },
   "file_extension": ".py",
   "mimetype": "text/x-python",
   "name": "python",
   "nbconvert_exporter": "python",
   "pygments_lexer": "ipython3",
   "version": "3.10.12"
  }
 },
 "nbformat": 4,
 "nbformat_minor": 5
}