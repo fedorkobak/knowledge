{
 "cells": [
  {
   "cell_type": "markdown",
   "id": "c5c28a46-9e80-4824-b1b7-3aa9193fa180",
   "metadata": {},
   "source": [
    "# Sinling islands"
   ]
  },
  {
   "cell_type": "code",
   "execution_count": 40,
   "id": "7525c2e2-22e3-426b-900b-5c832b58ca77",
   "metadata": {},
   "outputs": [],
   "source": [
    "from IPython.display import HTML"
   ]
  },
  {
   "cell_type": "markdown",
   "id": "c195560c-c827-404d-9ada-3fbda2026c5d",
   "metadata": {},
   "source": [
    "## Problem statement"
   ]
  },
  {
   "cell_type": "markdown",
   "id": "b697f7ad-ae1a-45a3-a429-e784fe3dde09",
   "metadata": {},
   "source": [
    "Let us call X the water areas and O the land areas. Then we can make a map of islands, like this:\n",
    "\n",
    "```\n",
    "X O X X X X\n",
    "X O X O O X\n",
    "X X X X O X\n",
    "X O O X X X\n",
    "X X X X O O\n",
    "```\n",
    "\n",
    "You'll need to write a program that can single out islands (replace O with X) that don't touch the edge of the map. So the example below will be replaced as follows:\n",
    "\n",
    "```\n",
    "X O X X X X\n",
    "X O X X X X\n",
    "X X X X X X\n",
    "X X X X X X\n",
    "X X X X O O\n",
    "```"
   ]
  },
  {
   "cell_type": "markdown",
   "id": "c46500f1-0e9b-42df-8fbb-b3724de773f0",
   "metadata": {},
   "source": [
    "## BFS\n",
    "\n",
    "BFS (Breadth-first search) algorithm that allows to extract connectivity components from graphs. Islands in our task can be understood as components. Therefore, BFS modified for our goals will be suitable for us.\n",
    "\n",
    "In the following cell implemented function that finds connectivity components, replace \"O\" with \"X\" if needed and mark looked cells."
   ]
  },
  {
   "cell_type": "code",
   "execution_count": 53,
   "id": "d5f2f778-dc03-4995-8461-31a867011887",
   "metadata": {},
   "outputs": [],
   "source": [
    "def bfs(board, looked_cells, beg_pos):\n",
    "    '''\n",
    "    Breadth-first search for our mission.\n",
    "    Realises breadth-first search that\n",
    "    all elements of the connectivity component for the\n",
    "    component for the given cell. And if\n",
    "    element of that component needs to be \n",
    "    with X, it replaces them.\n",
    "\n",
    "    Parameters\n",
    "    ----------\n",
    "    board : list of lists\n",
    "        task board. Substitutions occur \n",
    "        directly in the passed argument;\n",
    "    looked_cells : list of lists of bools\n",
    "        True means that cell was looked.\n",
    "        Substitutions occur directly in \n",
    "        the passed argument;\n",
    "    beg_pos : tuple\n",
    "        cell position from which to start \n",
    "        the algorithm traversal.\n",
    "    '''\n",
    "    height = len(board)\n",
    "    width = len(board[0])\n",
    "\n",
    "    # We need to store the path in case it \n",
    "    # doesn't touch the edge of the map. We \n",
    "    # will keep the whole list, but each \n",
    "    # time we use an element from it, we \n",
    "    # will add one to stack_min. So stack[stack_min:] \n",
    "    # will represent the stack structure.\n",
    "    stack_min = 0\n",
    "    stack = [beg_pos]\n",
    "    \n",
    "    # This is a flag that defines whether\n",
    "    # we need to replace the O with an X or not\n",
    "    replace = True\n",
    "\n",
    "    while len(stack) > stack_min:\n",
    "\n",
    "        # extract next element from stack \n",
    "        curr_pos = stack[stack_min]; stack_min += 1;\n",
    "        i, j = curr_pos[0], curr_pos[1]\n",
    "        \n",
    "        looked_cells[i][j] = True\n",
    "        \n",
    "        # if we found out that cell under consideration\n",
    "        # is on the edge of the board we need to set\n",
    "        # flag to replace O in connectivity component\n",
    "        # with X\n",
    "        if i==0 or i==height-1 or j==0 or j==width-1:\n",
    "            replace = False\n",
    "\n",
    "        # we need to check \n",
    "        # left, right, top, bottom\n",
    "        # points\n",
    "        if (\n",
    "            (i-1>0) and\n",
    "            (not looked_cells[i-1][j]) and\n",
    "            (board[i-1][j]==\"O\")\n",
    "        ):stack.append((i-1, j))\n",
    "        if (\n",
    "            (i+1<height) and\n",
    "            (not looked_cells[i+1][j]) and\n",
    "            (board[i+1][j]==\"O\")\n",
    "        ):stack.append((i+1, j))\n",
    "        if (\n",
    "            (j-1>0) and\n",
    "            (not looked_cells[i][j-1]) and\n",
    "            (board[i][j-1]==\"O\")\n",
    "        ):stack.append((i, j-1))\n",
    "        if (\n",
    "            (j+1<width) and\n",
    "            (not looked_cells[i][j+1]) and\n",
    "            (board[i][j+1]==\"O\")\n",
    "        ):stack.append((i, j+1))\n",
    "\n",
    "    # now if the flag indicates that it is \n",
    "    # necessary to change the values in the \n",
    "    # considered component of connectivity\n",
    "    if replace:\n",
    "       for i, j in stack:\n",
    "           board[i][j] = \"X\""
   ]
  },
  {
   "cell_type": "markdown",
   "id": "a757d346-764e-4288-8c7f-f4be1e7f0ad4",
   "metadata": {},
   "source": [
    "The next cell shows how the algorithm behaves for islands that should be flooded:"
   ]
  },
  {
   "cell_type": "code",
   "execution_count": 51,
   "id": "ddd26e99-3aa3-4fc5-a335-a6e1cf43162f",
   "metadata": {},
   "outputs": [
    {
     "data": {
      "text/html": [
       "<p style='font-size:16px'>Board</p>"
      ],
      "text/plain": [
       "<IPython.core.display.HTML object>"
      ]
     },
     "metadata": {},
     "output_type": "display_data"
    },
    {
     "data": {
      "text/plain": [
       "[['X', 'O', 'X', 'X', 'X', 'X'],\n",
       " ['X', 'O', 'O', 'X', 'X', 'X'],\n",
       " ['X', 'X', 'X', 'X', 'X', 'X'],\n",
       " ['X', 'X', 'X', 'X', 'X', 'X'],\n",
       " ['X', 'O', 'O', 'X', 'X', 'X'],\n",
       " ['X', 'X', 'X', 'X', 'O', 'O']]"
      ]
     },
     "metadata": {},
     "output_type": "display_data"
    },
    {
     "data": {
      "text/html": [
       "<p style='font-size:16px'>Looked</p>"
      ],
      "text/plain": [
       "<IPython.core.display.HTML object>"
      ]
     },
     "metadata": {},
     "output_type": "display_data"
    },
    {
     "data": {
      "text/plain": [
       "[['F', 'F', 'F', 'F', 'F', 'F'],\n",
       " ['F', 'F', 'F', 'F', 'F', 'F'],\n",
       " ['F', 'F', 'F', 'T', 'T', 'F'],\n",
       " ['F', 'F', 'F', 'F', 'T', 'F'],\n",
       " ['F', 'F', 'F', 'F', 'F', 'F'],\n",
       " ['F', 'F', 'F', 'F', 'F', 'F']]"
      ]
     },
     "metadata": {},
     "output_type": "display_data"
    }
   ],
   "source": [
    "test_map = [\n",
    "    [\"X\", \"O\", \"X\", \"X\", \"X\", \"X\"],\n",
    "    [\"X\", \"O\", \"O\", \"X\", \"X\", \"X\"],\n",
    "    [\"X\", \"X\", \"X\", \"O\", \"O\", \"X\"],\n",
    "    [\"X\", \"X\", \"X\", \"X\", \"O\", \"X\"],\n",
    "    [\"X\", \"O\", \"O\", \"X\", \"X\", \"X\"],\n",
    "    [\"X\", \"X\", \"X\", \"X\", \"O\", \"O\"]\n",
    "]\n",
    "looked_cells = [[False]*len(test_map[0]) for i in range(len(test_map))]\n",
    "\n",
    "bfs(test_map, looked_cells, (2,3))\n",
    "\n",
    "display(HTML(\"<p style='font-size:16px'>Board</p>\"))\n",
    "display(test_map)\n",
    "display(HTML(\"<p style='font-size:16px'>Looked</p>\"))\n",
    "display([\n",
    "    [(\"T\" if v else \"F\") for v in l] \n",
    "    for l in looked_cells\n",
    "])"
   ]
  },
  {
   "cell_type": "markdown",
   "id": "c92bcea6-47a1-4dbf-b8a4-8cd49a1b9eeb",
   "metadata": {},
   "source": [
    "But for an island that touches the border of the board we must look through all its cells but not replace them."
   ]
  },
  {
   "cell_type": "code",
   "execution_count": 52,
   "id": "c4bb4df1-f37b-4c3e-a5d2-821600bc56d8",
   "metadata": {},
   "outputs": [
    {
     "data": {
      "text/html": [
       "<p style='font-size:16px'>Board</p>"
      ],
      "text/plain": [
       "<IPython.core.display.HTML object>"
      ]
     },
     "metadata": {},
     "output_type": "display_data"
    },
    {
     "data": {
      "text/plain": [
       "[['X', 'O', 'X', 'X', 'X', 'X'],\n",
       " ['X', 'O', 'O', 'X', 'X', 'X'],\n",
       " ['X', 'X', 'X', 'O', 'O', 'X'],\n",
       " ['X', 'X', 'X', 'X', 'O', 'X'],\n",
       " ['X', 'O', 'O', 'X', 'X', 'X'],\n",
       " ['X', 'X', 'X', 'X', 'O', 'O']]"
      ]
     },
     "metadata": {},
     "output_type": "display_data"
    },
    {
     "data": {
      "text/html": [
       "<p style='font-size:16px'>Looked</p>"
      ],
      "text/plain": [
       "<IPython.core.display.HTML object>"
      ]
     },
     "metadata": {},
     "output_type": "display_data"
    },
    {
     "data": {
      "text/plain": [
       "[['F', 'T', 'F', 'F', 'F', 'F'],\n",
       " ['F', 'T', 'T', 'F', 'F', 'F'],\n",
       " ['F', 'F', 'F', 'F', 'F', 'F'],\n",
       " ['F', 'F', 'F', 'F', 'F', 'F'],\n",
       " ['F', 'F', 'F', 'F', 'F', 'F'],\n",
       " ['F', 'F', 'F', 'F', 'F', 'F']]"
      ]
     },
     "metadata": {},
     "output_type": "display_data"
    }
   ],
   "source": [
    "test_map = [\n",
    "    [\"X\", \"O\", \"X\", \"X\", \"X\", \"X\"],\n",
    "    [\"X\", \"O\", \"O\", \"X\", \"X\", \"X\"],\n",
    "    [\"X\", \"X\", \"X\", \"O\", \"O\", \"X\"],\n",
    "    [\"X\", \"X\", \"X\", \"X\", \"O\", \"X\"],\n",
    "    [\"X\", \"O\", \"O\", \"X\", \"X\", \"X\"],\n",
    "    [\"X\", \"X\", \"X\", \"X\", \"O\", \"O\"]\n",
    "]\n",
    "looked_cells = [[False]*len(test_map[0]) for i in range(len(test_map))]\n",
    "\n",
    "bfs(test_map, looked_cells, (0,1))\n",
    "\n",
    "display(HTML(\"<p style='font-size:16px'>Board</p>\"))\n",
    "display(test_map)\n",
    "display(HTML(\"<p style='font-size:16px'>Looked</p>\"))\n",
    "display([\n",
    "    [(\"T\" if v else \"F\") for v in l] \n",
    "    for l in looked_cells\n",
    "])"
   ]
  },
  {
   "cell_type": "markdown",
   "id": "d50f447d-f312-41fe-8365-7846eadadab7",
   "metadata": {},
   "source": [
    "## Solution"
   ]
  },
  {
   "cell_type": "markdown",
   "id": "d3359f92-327d-4a49-a1e8-0b5e3bb86e51",
   "metadata": {},
   "source": [
    "Now that we have the implementation of BFS for this task, we can just walk through the board. Go through the board and apply BFS to islands we haven't applied it to yet."
   ]
  },
  {
   "cell_type": "code",
   "execution_count": 60,
   "id": "7e2d5630-ca20-4334-9333-f9f8128f950d",
   "metadata": {},
   "outputs": [],
   "source": [
    "def drown(board):\n",
    "    height = len(board)\n",
    "    width = len(board[0])\n",
    "\n",
    "    looked_cells = [[False]*width for i in range(height)]\n",
    "\n",
    "    for i in range(height):\n",
    "        for j in range(width):\n",
    "            if board[i][j]==\"O\" and (not looked_cells[i][j]):\n",
    "                bfs(board, looked_cells, (i, j))"
   ]
  },
  {
   "cell_type": "markdown",
   "id": "f2209982-addf-4a6a-bb33-3e367459f149",
   "metadata": {},
   "source": [
    "Let's try this solution."
   ]
  },
  {
   "cell_type": "code",
   "execution_count": 61,
   "id": "3e18cdd2-038e-46d3-a6d3-8c339d7dfe32",
   "metadata": {},
   "outputs": [
    {
     "data": {
      "text/plain": [
       "[['X', 'O', 'X', 'X', 'X', 'X'],\n",
       " ['X', 'O', 'O', 'X', 'X', 'X'],\n",
       " ['X', 'X', 'X', 'X', 'X', 'X'],\n",
       " ['X', 'X', 'X', 'X', 'X', 'X'],\n",
       " ['X', 'X', 'X', 'X', 'X', 'X'],\n",
       " ['X', 'X', 'X', 'X', 'O', 'O']]"
      ]
     },
     "execution_count": 61,
     "metadata": {},
     "output_type": "execute_result"
    }
   ],
   "source": [
    "test_map = [\n",
    "    [\"X\", \"O\", \"X\", \"X\", \"X\", \"X\"],\n",
    "    [\"X\", \"O\", \"O\", \"X\", \"X\", \"X\"],\n",
    "    [\"X\", \"X\", \"X\", \"O\", \"O\", \"X\"],\n",
    "    [\"X\", \"X\", \"X\", \"X\", \"O\", \"X\"],\n",
    "    [\"X\", \"O\", \"O\", \"X\", \"X\", \"X\"],\n",
    "    [\"X\", \"X\", \"X\", \"X\", \"O\", \"O\"]\n",
    "]\n",
    "drown(test_map)\n",
    "test_map"
   ]
  }
 ],
 "metadata": {
  "kernelspec": {
   "display_name": "Python 3 (ipykernel)",
   "language": "python",
   "name": "python3"
  },
  "language_info": {
   "codemirror_mode": {
    "name": "ipython",
    "version": 3
   },
   "file_extension": ".py",
   "mimetype": "text/x-python",
   "name": "python",
   "nbconvert_exporter": "python",
   "pygments_lexer": "ipython3",
   "version": "3.10.12"
  }
 },
 "nbformat": 4,
 "nbformat_minor": 5
}