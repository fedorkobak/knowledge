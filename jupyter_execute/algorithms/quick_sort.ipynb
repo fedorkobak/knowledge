{
 "cells": [
  {
   "cell_type": "markdown",
   "id": "a84b9f8d-c2b1-4d72-ad6f-bfe0e034287d",
   "metadata": {},
   "source": [
    "# Quick sort\n",
    "\n",
    "Is sorting algorithm that is based on recursive procedure which divides an array into two parts - less than some pivot element and greater than some pivot element, and applies itself to each of the parts."
   ]
  },
  {
   "cell_type": "code",
   "execution_count": 1,
   "id": "748e7b7a-6bbc-466a-8700-a88e5c911459",
   "metadata": {},
   "outputs": [],
   "source": [
    "import random\n",
    "from random import randint\n",
    "\n",
    "from warnings import warn"
   ]
  },
  {
   "cell_type": "markdown",
   "id": "06af3617-5db7-421e-b0cd-0aed3871fea0",
   "metadata": {},
   "source": [
    "## Partition\n",
    "\n",
    "The core part of the algorithm is a procedure that allows elements less than the pivot to be pre-positioned to the left of the array, and values greater than the pivot to be pre-positioned to the right of the array.\n",
    "\n",
    "For simplicity, I will use **left** to denote a subset of elements such that it is smaller than `pivot`, and **right** to denote a subset of elements such that it is larger than `pivot`."
   ]
  },
  {
   "cell_type": "code",
   "execution_count": 2,
   "id": "45ebbcee-27ed-4e62-a5da-adbc4861199e",
   "metadata": {},
   "outputs": [],
   "source": [
    "def partition(arr, low, high, pivot):\n",
    "    '''\n",
    "    Function shuffle elements in place array\n",
    "    so that all elements lower than\n",
    "    pivot have less indexes than elements\n",
    "    whose value is greater than pivot.\n",
    "\n",
    "    Parameters\n",
    "    ----------\n",
    "    arr : list\n",
    "        array, which elements need to be shuffled;\n",
    "    low : int\n",
    "        left border index that will be \n",
    "        considered by funtion;\n",
    "    high : int\n",
    "        right border index that will be\n",
    "        consedered by funtion;\n",
    "    pivot : number\n",
    "        such a number that all elements of the array \n",
    "        less will be collected in the left part of \n",
    "        the array, and all elements of the array \n",
    "        more will be collected in the right part of \n",
    "        the array.\n",
    "\n",
    "    Returns\n",
    "    ----------\n",
    "    out : int\n",
    "        index of the half-next element among those \n",
    "        that are less than pivot\n",
    "    '''\n",
    "    i = low\n",
    "    for j in range(low, high+1):\n",
    "        if arr[j] <= pivot:\n",
    "            arr[i], arr[j] = arr[j], arr[i]\n",
    "            i+=1\n",
    "    return i-1"
   ]
  },
  {
   "cell_type": "markdown",
   "id": "40fd1a81-dbb5-474f-b925-e5649dce4433",
   "metadata": {},
   "source": [
    "Now let's see how this works in the most general case.  So in the following cell there is an input array and `partition` is applied from the i-th to the len-i-th elements, with pivot 10. And before execution funtion under consideration is printed results:\n",
    "\n",
    "- Elements that were in the input array before `low` don't change their order;\n",
    "- Elements that were in the input array after `high' don't change their order either;\n",
    "- Elements between the `low` and `high` indices are split into two arrays:\n",
    "    - less or equal than `pivot`;\n",
    "    - more than `pivot`."
   ]
  },
  {
   "cell_type": "code",
   "execution_count": 3,
   "id": "f639082f-20e9-4af2-bb11-0d9e74d6d270",
   "metadata": {},
   "outputs": [
    {
     "name": "stdout",
     "output_type": "stream",
     "text": [
      "Input array [18, 1, 13, 0, 6, 8, 5, 1, 10, 2, 7, 18, 14, 16, 15, 15, 15, 20, 11, 1]\n",
      "\n",
      "before left:[18, 1, 13]\n",
      "left:[0, 6, 8, 5, 1, 10, 2, 7]\n",
      "right:[18, 14, 16, 15, 15, 15]\n",
      "after right:[20, 11, 1]\n",
      "\n"
     ]
    }
   ],
   "source": [
    "random.seed(10)\n",
    "arr_size = 20\n",
    "arr = [randint(0, 20) for i in range(arr_size)]\n",
    "\n",
    "low = 3\n",
    "high = arr_size - 3\n",
    "\n",
    "ind = partition(arr, low, high, 10)\n",
    "print(\"Input array\", arr, end=\"\\n\\n\")\n",
    "print(\n",
    "    \"before left:\", arr[:low], \"\\n\",\n",
    "    \"left:\", arr[low:ind+1], \"\\n\",\n",
    "    \"right:\", arr[ind+1:high], \"\\n\",\n",
    "    \"after right:\", arr[high:], \"\\n\",\n",
    "    sep = \"\"\n",
    ")"
   ]
  },
  {
   "cell_type": "markdown",
   "id": "7c0b1808-ff44-4eec-a5d5-18ffd9be8a1e",
   "metadata": {},
   "source": [
    "Also let's check some boundary cases:"
   ]
  },
  {
   "cell_type": "markdown",
   "id": "57befa93-4c97-4513-9223-21a9d8165a45",
   "metadata": {},
   "source": [
    "- **Left** contains only one lement:"
   ]
  },
  {
   "cell_type": "code",
   "execution_count": 4,
   "id": "300ffe14-84cb-4450-b8da-3982e33cf484",
   "metadata": {},
   "outputs": [
    {
     "name": "stdout",
     "output_type": "stream",
     "text": [
      "Input array [3, 2, 1, 5, 4]\n",
      "Result: [1, 2, 3, 5, 4] with separation in 0-th position.\n"
     ]
    }
   ],
   "source": [
    "arr = [3,2,1,5,4]\n",
    "print(\"Input array\", arr)\n",
    "ind = partition(arr, 0, 4, 1)\n",
    "print(\"Result:\", arr, f\"with separation in {ind}-th position.\")"
   ]
  },
  {
   "cell_type": "markdown",
   "id": "19adb3b8-c5c1-4582-97e9-5274dc29dbf7",
   "metadata": {},
   "source": [
    "- **Left** is empty;"
   ]
  },
  {
   "cell_type": "code",
   "execution_count": 5,
   "id": "754a7e18-a9dc-4834-a511-bb6ab6cc46c1",
   "metadata": {},
   "outputs": [
    {
     "name": "stdout",
     "output_type": "stream",
     "text": [
      "Input array [3, 2, 1, 5, 4]\n",
      "Result: [3, 2, 1, 5, 4] with separation in -1-th position.\n"
     ]
    }
   ],
   "source": [
    "arr = [3,2,1,5,4]\n",
    "print(\"Input array\", arr)\n",
    "ind = partition(arr, 0, 4, 0)\n",
    "print(\"Result:\", arr, f\"with separation in {ind}-th position.\")"
   ]
  },
  {
   "cell_type": "markdown",
   "id": "fed22170-42d3-4e45-bd26-5c294a8f9c14",
   "metadata": {},
   "source": [
    "- **Right** contains only one element;"
   ]
  },
  {
   "cell_type": "code",
   "execution_count": 6,
   "id": "88248a29-8c6f-4161-939a-7e28ed9c7a2f",
   "metadata": {},
   "outputs": [
    {
     "name": "stdout",
     "output_type": "stream",
     "text": [
      "Input array [3, 2, 1, 5, 4]\n",
      "Result: [3, 2, 1, 4, 5] with separation in 3-th position.\n"
     ]
    }
   ],
   "source": [
    "arr = [3,2,1,5,4]\n",
    "print(\"Input array\", arr)\n",
    "ind = partition(arr, 0, 4, 4)\n",
    "print(\"Result:\", arr, f\"with separation in {ind}-th position.\")"
   ]
  },
  {
   "cell_type": "markdown",
   "id": "12d9f601-b519-4479-ab62-50cf686d6489",
   "metadata": {},
   "source": [
    "- **Right** is empty;"
   ]
  },
  {
   "cell_type": "code",
   "execution_count": 7,
   "id": "0bd25f90-af6b-45d4-96b1-18e44654d3d1",
   "metadata": {},
   "outputs": [
    {
     "name": "stdout",
     "output_type": "stream",
     "text": [
      "Input array [3, 2, 1, 5, 4]\n",
      "Result: [3, 2, 1, 5, 4] with separation in 4-th position.\n"
     ]
    }
   ],
   "source": [
    "arr = [3,2,1,5,4]\n",
    "print(\"Input array\", arr)\n",
    "ind = partition(arr, 0, 4, 10)\n",
    "print(\"Result:\", arr, f\"with separation in {ind}-th position.\")"
   ]
  },
  {
   "cell_type": "markdown",
   "id": "e66d4f2b-1fe9-44b3-8069-24198417da21",
   "metadata": {},
   "source": [
    "## Classic sort\n",
    "\n",
    "Here is the basic realisation of this algorithm, which is a key to algorithms for different tasks based on the same idea."
   ]
  },
  {
   "cell_type": "code",
   "execution_count": 8,
   "id": "68276632-ce0c-4f73-a498-7e34b3ad6d09",
   "metadata": {},
   "outputs": [],
   "source": [
    "def quick_sort(arr, low=0, high=None):\n",
    "    '''\n",
    "    Sort in ascending order in place.\n",
    "    This is a recursive function that only \n",
    "    replaces elements in the elements only \n",
    "    in the specified range.\n",
    "    \n",
    "    Parameters\n",
    "    ----------\n",
    "    arr : list\n",
    "        the object will be sorted by the \n",
    "        passed reference;\n",
    "    low : int\n",
    "        is the lower index of the subarray \n",
    "        under consideration;\n",
    "    high : int\n",
    "        is the highes index of the subarry\n",
    "        under consideration.\n",
    "    '''\n",
    "    if len(arr)<=1:\n",
    "        return arr\n",
    "    if not high: high=len(arr)-1\n",
    "    \n",
    "    ind = partition(arr, low, high, arr[high])\n",
    "    if ind-1>low:quick_sort(arr, low=low, high=ind-1)\n",
    "    if ind+1<high: quick_sort(arr, low=ind+1, high=high)"
   ]
  },
  {
   "cell_type": "markdown",
   "id": "b9bedd4b-0aab-4e32-9743-c35b0f081fb0",
   "metadata": {},
   "source": [
    "Now let's check how it works:"
   ]
  },
  {
   "cell_type": "code",
   "execution_count": 9,
   "id": "de91af5d-721f-45b0-bc4c-58af7c255463",
   "metadata": {},
   "outputs": [
    {
     "name": "stdout",
     "output_type": "stream",
     "text": [
      "Input array: [4, 8, 20, 3, 10, 18, 5, 0, 13, 13, 2, 3, 4, 10, 15, 18, 14, 13, 6, 6]\n",
      "Sorted array: [0, 2, 3, 3, 4, 4, 5, 6, 6, 8, 10, 10, 13, 13, 13, 14, 15, 18, 18, 20]\n"
     ]
    }
   ],
   "source": [
    "random.seed(20)\n",
    "arr_size = 20\n",
    "arr = [randint(0, 20) for i in range(arr_size)]\n",
    "print(\"Input array:\", arr)\n",
    "quick_sort(arr)\n",
    "print(\"Sorted array:\", arr)"
   ]
  },
  {
   "cell_type": "markdown",
   "id": "5208f91f-a6af-44f5-ad54-4004e576f748",
   "metadata": {},
   "source": [
    "And finally, a little \"stress test\" - we'll compare the results of the function `quick_sort` and the built-in function `sorted`."
   ]
  },
  {
   "cell_type": "code",
   "execution_count": 10,
   "id": "1cf23a36-f5e2-4958-9d1f-32cb24d7b66e",
   "metadata": {},
   "outputs": [],
   "source": [
    "arr_size = 20\n",
    "\n",
    "for i in range(1000):\n",
    "    arr = [randint(0, 20) for i in range(arr_size)]\n",
    "    classic_res = sorted(arr)\n",
    "    quick_sort(arr)\n",
    "    if classic_res != arr:\n",
    "        warn(\"there is some problems with your realisation!!\")"
   ]
  },
  {
   "cell_type": "markdown",
   "id": "b08eec2a-ecc3-4e09-abfb-cc94aa836cbb",
   "metadata": {},
   "source": [
    "## Quick search\n",
    "\n",
    "There is another application of the same idea - quick search. This algorithm allows you to find the k-th largest (or smallest) elements in an array."
   ]
  },
  {
   "cell_type": "markdown",
   "id": "867ddc38-84d8-4402-87d7-bfbf793b6e62",
   "metadata": {},
   "source": [
    "### Idea"
   ]
  },
  {
   "cell_type": "markdown",
   "id": "c8ab806e-1e92-46bf-bc60-1a88b6778858",
   "metadata": {},
   "source": [
    "For brevity, we will describe the problem of finding the k-th largest element.\n",
    "\n",
    "As with quick sort algorithm, we divide array into **left** and **right** at each step of the algorithm. Here we won't include pivot to the **left**. There are few options from this point:\n",
    "\n",
    "- Number of elements in **right** equal $k-1$ - it means that pivot is element we search for, we can just return it as answer;\n",
    "- Number of elements in **right** greater than or equal to $k$ - it guarantees that the $k$-th largerst element of the input array is somewhere in the **right**. We have to continue search of $k$-th in the **left**;\n",
    "- Number of elements in **right** less than $k-1$ - it means that $k$-th largest element of input array somewhere in **left**. But elements in **right** and pivot are bigger than element under consideration, so if element in input array was k-th biggest in **left** it must be $(k-m-1)$-th (where $m$ number of elements in the **right**). We have to keep looking for the $k-m-1$-th largest in the **left**. "
   ]
  },
  {
   "cell_type": "markdown",
   "id": "74749c2b-61a6-4ad5-90a8-69160f1f36b8",
   "metadata": {},
   "source": [
    "### Recursive implementation"
   ]
  },
  {
   "cell_type": "markdown",
   "id": "79506a52-615f-4780-ae29-ef7b4432f0fd",
   "metadata": {},
   "source": [
    "This is my original implementation of the quick search. It is based on recursion."
   ]
  },
  {
   "cell_type": "code",
   "execution_count": 14,
   "id": "03fd6e03-a335-44e8-a22c-c67c9110790e",
   "metadata": {},
   "outputs": [],
   "source": [
    "def quick_search_rec(arr, k, low=0, high=None):\n",
    "    '''\n",
    "    Quick search algorithm implementation.\n",
    "    Finds k-th biggest element in the arr\n",
    "    between low and high indeces.\n",
    "\n",
    "    Parameters\n",
    "    ----------\n",
    "    arr : list\n",
    "        array to be searched;\n",
    "    k : int\n",
    "        number of biggest element to be found;\n",
    "    low : int\n",
    "        lower boundary of the subarray to be searched;\n",
    "    high : int\n",
    "        upper boundary of the subarray to be searched.\n",
    "        Subarray will include element with index high.\n",
    "\n",
    "    Returns\n",
    "    ----------\n",
    "    out : number\n",
    "        k-th biggest element of the subarray of arr\n",
    "        between indeces low and high.\n",
    "    '''\n",
    "    # boundary cases\n",
    "    if len(arr) < 1: return None\n",
    "    if k<=0 : k=1\n",
    "    if not high: high=len(arr)-1\n",
    "    \n",
    "    ind = partition(arr, low, high, arr[high])\n",
    "    # number of elements in right\n",
    "    right_number = high-ind\n",
    "    \n",
    "    if right_number == k-1: return arr[ind]\n",
    "    elif right_number>=k: return quick_search_rec(arr, k, ind+1, high)\n",
    "    elif right_number<k: return quick_search_rec(\n",
    "        arr, k-right_number-1, low, ind-1\n",
    "    )"
   ]
  },
  {
   "cell_type": "markdown",
   "id": "fb768803-9427-441e-9889-e55e9992c8de",
   "metadata": {},
   "source": [
    "Here is a simple example to show that it works:"
   ]
  },
  {
   "cell_type": "code",
   "execution_count": 15,
   "id": "75727301-c5ba-41fe-88be-ae2714bbdd7f",
   "metadata": {},
   "outputs": [
    {
     "name": "stdout",
     "output_type": "stream",
     "text": [
      "Input: [14, 17, 14, 14, 16, 18, 6, 5, 16, 15]\n"
     ]
    },
    {
     "data": {
      "text/plain": [
       "16"
      ]
     },
     "execution_count": 15,
     "metadata": {},
     "output_type": "execute_result"
    }
   ],
   "source": [
    "random.seed(11)\n",
    "arr = [random.randint(0, 20) for i in range(10)]\n",
    "print(\"Input:\", arr)\n",
    "quick_search_rec(arr, 3)"
   ]
  },
  {
   "cell_type": "markdown",
   "id": "bf6cf3ba-9e7b-40b2-8c97-5990edf86515",
   "metadata": {},
   "source": [
    "Here is a simple stress test where I compare result of selecting $-k$-th element of array sorted by python and result of the `quick_sarch_rec`."
   ]
  },
  {
   "cell_type": "code",
   "execution_count": 16,
   "id": "3e5cd701-3530-4f64-b086-cbb40384dcb7",
   "metadata": {},
   "outputs": [],
   "source": [
    "array_size = 20\n",
    "\n",
    "for i in range(1000):\n",
    "    arr = [random.randint(0, 20) for i in range(array_size)]\n",
    "    k = random.randint(1, array_size//2)\n",
    "    build_in = sorted(arr)[-k]\n",
    "    my = quick_search_rec(arr, k)\n",
    "    if my != build_in:\n",
    "        warn(\"Mistake!\")\n",
    "        break"
   ]
  },
  {
   "cell_type": "markdown",
   "id": "032d7606-3b2e-473c-bcc8-f95266c5480e",
   "metadata": {},
   "source": [
    "### `while` implementation"
   ]
  },
  {
   "cell_type": "markdown",
   "id": "3331f8f2-4665-491f-8c9d-8a331c6bfe03",
   "metadata": {},
   "source": [
    "Sometimes recursion isn't acceptable solution - you can get `RecursionError`. I faced in my practice case when solution showen above isn't acceptable, so in the following cell there is code that realise fast search without recursion. Here is just a subarray moved from step to step - `high` and `low` changed to suit this case:"
   ]
  },
  {
   "cell_type": "code",
   "execution_count": 17,
   "id": "98f15b47-7d35-46d1-adeb-c46a40a3d66f",
   "metadata": {},
   "outputs": [],
   "source": [
    "def quick_search_while(arr, k):\n",
    "    '''\n",
    "    Quick search algorithm implementation.\n",
    "    Finds k-th biggest element in the arr.\n",
    "\n",
    "    Parameters\n",
    "    ----------\n",
    "    arr : list\n",
    "        array to be searched;\n",
    "    k : int\n",
    "        number of biggest element to be found.\n",
    "\n",
    "    Returns\n",
    "    ----------\n",
    "    out : number\n",
    "        k-th biggest element of the arr.\n",
    "    '''\n",
    "    # boundary cases\n",
    "    if len(arr) < 1: return None\n",
    "    if k<=0 : k=1\n",
    "\n",
    "    low = 0\n",
    "    high = len(arr)-1\n",
    "\n",
    "    while True:\n",
    "        ind = partition(arr, low, high, arr[high])\n",
    "        # number of elements in right\n",
    "        right_number = high-ind\n",
    "        if right_number == k-1: return arr[ind]\n",
    "        elif right_number>=k: low=ind+1\n",
    "        elif right_number<k: k=k-right_number-1;high=ind-1"
   ]
  },
  {
   "cell_type": "markdown",
   "id": "2676f2bb-d1e4-4a85-bfd0-9c0dcbac6877",
   "metadata": {},
   "source": [
    "Here is a simple example to show that it works:"
   ]
  },
  {
   "cell_type": "code",
   "execution_count": 21,
   "id": "c97b6be6-6cac-4f47-82cf-7b1044d4451c",
   "metadata": {},
   "outputs": [
    {
     "name": "stdout",
     "output_type": "stream",
     "text": [
      "Input: [15, 8, 16, 11, 4, 12, 0, 11, 15, 8]\n"
     ]
    },
    {
     "data": {
      "text/plain": [
       "15"
      ]
     },
     "execution_count": 21,
     "metadata": {},
     "output_type": "execute_result"
    }
   ],
   "source": [
    "random.seed(12)\n",
    "arr = [random.randint(0, 20) for i in range(10)]\n",
    "print(\"Input:\", arr)\n",
    "quick_search_rec(arr, 3)"
   ]
  },
  {
   "cell_type": "markdown",
   "id": "ab088813-d5cc-4c35-8c61-98eeeffdf371",
   "metadata": {},
   "source": [
    "Here is a simple stress test where I compare result of selecting $-k$-th element of array sorted by python and result of the `quick_sarch_while`."
   ]
  },
  {
   "cell_type": "code",
   "execution_count": 19,
   "id": "d1505a4e-10c3-48b0-82f0-024910efdd42",
   "metadata": {},
   "outputs": [],
   "source": [
    "array_size = 20\n",
    "\n",
    "for i in range(1000):\n",
    "    arr = [random.randint(0, 20) for i in range(array_size)]\n",
    "    k = random.randint(1, array_size//2)\n",
    "    build_in = sorted(arr)[-k]\n",
    "    my = quick_search_while(arr, k)\n",
    "    if my != build_in:\n",
    "        warn(\"Mistake!\")\n",
    "        break"
   ]
  }
 ],
 "metadata": {
  "kernelspec": {
   "display_name": "Python 3 (ipykernel)",
   "language": "python",
   "name": "python3"
  },
  "language_info": {
   "codemirror_mode": {
    "name": "ipython",
    "version": 3
   },
   "file_extension": ".py",
   "mimetype": "text/x-python",
   "name": "python",
   "nbconvert_exporter": "python",
   "pygments_lexer": "ipython3",
   "version": "3.10.12"
  }
 },
 "nbformat": 4,
 "nbformat_minor": 5
}