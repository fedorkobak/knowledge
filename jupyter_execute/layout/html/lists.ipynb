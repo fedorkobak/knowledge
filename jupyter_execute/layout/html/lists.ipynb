{
 "cells": [
  {
   "cell_type": "markdown",
   "id": "d0f25189-cf47-4785-90fb-38dffd3aea41",
   "metadata": {},
   "source": [
    "# List tags\n",
    "\n",
    "Lists are an important part of most documents, so here are ways to create lists in HTML."
   ]
  },
  {
   "cell_type": "markdown",
   "id": "d3ea5465-87cb-44ed-ac54-b3b953184a62",
   "metadata": {},
   "source": [
    "## `<ul>`,`<li>` - unordered list\n",
    "\n",
    "Tags:\n",
    "- `<ul>` describes an unordered list;\n",
    "- `<li>` describes a item of list."
   ]
  },
  {
   "cell_type": "code",
   "execution_count": 19,
   "id": "d4d8ebbc-1ab0-44f9-888b-fa154964577b",
   "metadata": {},
   "outputs": [
    {
     "data": {
      "text/html": [
       "<ul>\n",
       "    <li>item 1</li>\n",
       "    <li>item 2</li>\n",
       "    <li>...</li>\n",
       "    <li>item n</li>\n",
       "</ul>\n"
      ],
      "text/plain": [
       "<IPython.core.display.HTML object>"
      ]
     },
     "metadata": {},
     "output_type": "display_data"
    }
   ],
   "source": [
    "%%HTML\n",
    "<ul>\n",
    "    <li>item 1</li>\n",
    "    <li>item 2</li>\n",
    "    <li>...</li>\n",
    "    <li>item n</li>\n",
    "</ul>"
   ]
  },
  {
   "cell_type": "markdown",
   "id": "aa47d3b2-ea29-411b-9c17-ebf2372a0cb6",
   "metadata": {},
   "source": [
    "Markers can be setted as `style=\"list-style-type:<marker type>\"`. There are following markers available:\n",
    "\n",
    "- `disc`;\n",
    "- `square`;\n",
    "- `circle`."
   ]
  },
  {
   "cell_type": "code",
   "execution_count": 20,
   "id": "44032185-e303-4647-9fc9-5b0263b3cd16",
   "metadata": {},
   "outputs": [
    {
     "data": {
      "text/html": [
       "<text>Marker type for whole list:\n",
       "<ul style=\"list-style-type:square\">\n",
       "    <li>item 1</li>\n",
       "    <li>item 2</li>\n",
       "    <li>...</li>\n",
       "    <li>item n</li>\n",
       "</ul>\n",
       "<text>Different marker type for each point:</text>\n",
       "<ul>\n",
       "    <li style=\"list-style-type:disc\">disc</li>\n",
       "    <li style=\"list-style-type:square\">square</li>\n",
       "    <li style=\"list-style-type:circle\">circle</li>\n",
       "</ul>\n"
      ],
      "text/plain": [
       "<IPython.core.display.HTML object>"
      ]
     },
     "metadata": {},
     "output_type": "display_data"
    }
   ],
   "source": [
    "%%HTML\n",
    "<text>Marker type for whole list:\n",
    "<ul style=\"list-style-type:square\">\n",
    "    <li>item 1</li>\n",
    "    <li>item 2</li>\n",
    "    <li>...</li>\n",
    "    <li>item n</li>\n",
    "</ul>\n",
    "<text>Different marker type for each point:</text>\n",
    "<ul>\n",
    "    <li style=\"list-style-type:disc\">disc</li>\n",
    "    <li style=\"list-style-type:square\">square</li>\n",
    "    <li style=\"list-style-type:circle\">circle</li>\n",
    "</ul>"
   ]
  },
  {
   "cell_type": "markdown",
   "id": "45f726ab-4d4c-43fd-9711-eababe869635",
   "metadata": {},
   "source": [
    "## `<ol>`,`<li>` - ordered list\n",
    "- `<ol>` describes an ordered list;\n",
    "- `<li>` describes a item of list."
   ]
  },
  {
   "cell_type": "code",
   "execution_count": 21,
   "id": "2347c560-9198-4d92-8dee-f9227642f5f8",
   "metadata": {},
   "outputs": [
    {
     "data": {
      "text/html": [
       "<ol>\n",
       "    <li>item 1</li>\n",
       "    <li>item 2</li>\n",
       "    <li>...</li>\n",
       "    <li>item n</li>\n",
       "</ol>\n"
      ],
      "text/plain": [
       "<IPython.core.display.HTML object>"
      ]
     },
     "metadata": {},
     "output_type": "display_data"
    }
   ],
   "source": [
    "%%HTML\n",
    "<ol>\n",
    "    <li>item 1</li>\n",
    "    <li>item 2</li>\n",
    "    <li>...</li>\n",
    "    <li>item n</li>\n",
    "</ol>"
   ]
  },
  {
   "cell_type": "markdown",
   "id": "83e33938-eb19-4d97-98d9-66199be3de26",
   "metadata": {},
   "source": [
    "### `type` - attribute\n",
    "\n",
    "Numeration type:\n",
    "- \"1\" - arabian numeration;\n",
    "- \"A\" - Latin caps;\n",
    "- \"a\" - lowercase Latin letters;\n",
    "- \"I\" - uppercase Roman numerals;\n",
    "- \"i\" - lowercase Roman numerals.\n",
    "\n",
    "For some reasons these features can't be displayed in jupyter, so the following cell generates <a href=\"html_files/ordered_lists_types.html\">this file</a> where you can check the result of using these features."
   ]
  },
  {
   "cell_type": "code",
   "execution_count": 22,
   "id": "4ee88047-e5d5-4f4d-a043-400bea8edcc1",
   "metadata": {},
   "outputs": [],
   "source": [
    "variants = [\"1\", \"A\", \"a\", \"I\", \"i\"]\n",
    "format_str = '''\n",
    "    <ol type=\\\"{}\\\">\n",
    "        <li>item 1</li>\n",
    "        <li>item 2</li>\n",
    "        <li>...</li>\n",
    "        <li>item n</li>\n",
    "    </ol>\n",
    "'''\n",
    "\n",
    "html_line = \"\"\n",
    "for var in variants:\n",
    "    html_line += format_str.format(var)\n",
    "\n",
    "with open(\"html_files/ordered_lists_types.html\", \"w\") as file:\n",
    "    file.write(html_line)"
   ]
  },
  {
   "cell_type": "markdown",
   "id": "0b715b67-9b5e-4350-9f53-94b312ebbf80",
   "metadata": {},
   "source": [
    "### `reversed`\n",
    "\n",
    "Display the list in reverse order"
   ]
  },
  {
   "cell_type": "code",
   "execution_count": 23,
   "id": "70bba8d3-2f3f-461d-b274-0fd813d6763b",
   "metadata": {},
   "outputs": [
    {
     "data": {
      "text/html": [
       "<ol reversed>\n",
       "    <li>item 1</li>\n",
       "    <li>item 2</li>\n",
       "    <li>...</li>\n",
       "    <li>item n</li>\n",
       "</ol>\n"
      ],
      "text/plain": [
       "<IPython.core.display.HTML object>"
      ]
     },
     "metadata": {},
     "output_type": "display_data"
    }
   ],
   "source": [
    "%%HTML\n",
    "<ol reversed>\n",
    "    <li>item 1</li>\n",
    "    <li>item 2</li>\n",
    "    <li>...</li>\n",
    "    <li>item n</li>\n",
    "</ol>"
   ]
  },
  {
   "cell_type": "markdown",
   "id": "d9bf4ac2-1e8d-4582-85f2-cfedfbd77e95",
   "metadata": {},
   "source": [
    "### `start` - first number\n",
    "\n",
    "You can select the number to use as the first value."
   ]
  },
  {
   "cell_type": "code",
   "execution_count": 24,
   "id": "8879622e-860c-4e16-9f14-5f183384ea91",
   "metadata": {},
   "outputs": [
    {
     "data": {
      "text/html": [
       "<ol start = 5>\n",
       "    <li>item 1</li>\n",
       "    <li>item 2</li>\n",
       "    <li>...</li>\n",
       "    <li>item n</li>\n",
       "</ol>\n"
      ],
      "text/plain": [
       "<IPython.core.display.HTML object>"
      ]
     },
     "metadata": {},
     "output_type": "display_data"
    }
   ],
   "source": [
    "%%HTML\n",
    "<ol start = 5>\n",
    "    <li>item 1</li>\n",
    "    <li>item 2</li>\n",
    "    <li>...</li>\n",
    "    <li>item n</li>\n",
    "</ol>"
   ]
  },
  {
   "cell_type": "markdown",
   "id": "02b1beb5-ebcb-4f7d-a367-fcbfd27157d9",
   "metadata": {},
   "source": [
    "### Negative elements\n",
    "\n",
    "I wonder how the list will behave if I start counting from 2 but there are more than two items. As it turns out the list goes beyond natural numbers."
   ]
  },
  {
   "cell_type": "code",
   "execution_count": 25,
   "id": "03f0848d-52e1-4da2-8a6c-127339e2c2af",
   "metadata": {},
   "outputs": [
    {
     "data": {
      "text/html": [
       "<ol start = 1 reversed>\n",
       "    <li>item 1</li>\n",
       "    <li>item 2</li>\n",
       "    <li>item 3</li>\n",
       "    <li>item 4</li>\n",
       "</ol>\n"
      ],
      "text/plain": [
       "<IPython.core.display.HTML object>"
      ]
     },
     "metadata": {},
     "output_type": "display_data"
    }
   ],
   "source": [
    "%%HTML\n",
    "<ol start = 1 reversed>\n",
    "    <li>item 1</li>\n",
    "    <li>item 2</li>\n",
    "    <li>item 3</li>\n",
    "    <li>item 4</li>\n",
    "</ol>"
   ]
  },
  {
   "cell_type": "markdown",
   "id": "5d33cfd0-11eb-490a-9b2a-1e955ae34dfc",
   "metadata": {},
   "source": [
    "## `<dt>`, `<dd>`, `<dl>` - definitions list\n",
    "\n",
    "- `<dl>` (**d**efinitions **l**ist) sets a definitions list;\n",
    "- `<dt>` (**d**efinitions **t**erm) sets a new term;\n",
    "- `<dd>` (**d**efinitions **d**escriptions) describe the term."
   ]
  },
  {
   "cell_type": "code",
   "execution_count": 26,
   "id": "f4346b6c-de8e-4cda-ab41-f5383e49d76b",
   "metadata": {},
   "outputs": [
    {
     "data": {
      "text/html": [
       "<dl>\n",
       "    <dt>Term1</dt>\n",
       "    <dd>Definition 1</dd>\n",
       "    <dt>Term2</dt>\n",
       "    <dd>Definition 2</dd>\n",
       "    <dt>...</dt>\n",
       "    <dd>...</dd>\n",
       "    <dt>Term n</dt>\n",
       "    <dd>Definition n</dd>\n",
       "</dl>\n"
      ],
      "text/plain": [
       "<IPython.core.display.HTML object>"
      ]
     },
     "metadata": {},
     "output_type": "display_data"
    }
   ],
   "source": [
    "%%HTML\n",
    "<dl>\n",
    "    <dt>Term1</dt>\n",
    "    <dd>Definition 1</dd>\n",
    "    <dt>Term2</dt>\n",
    "    <dd>Definition 2</dd>\n",
    "    <dt>...</dt>\n",
    "    <dd>...</dd>\n",
    "    <dt>Term n</dt>\n",
    "    <dd>Definition n</dd>\n",
    "</dl>"
   ]
  }
 ],
 "metadata": {
  "kernelspec": {
   "display_name": "Python 3 (ipykernel)",
   "language": "python",
   "name": "python3"
  },
  "language_info": {
   "codemirror_mode": {
    "name": "ipython",
    "version": 3
   },
   "file_extension": ".py",
   "mimetype": "text/x-python",
   "name": "python",
   "nbconvert_exporter": "python",
   "pygments_lexer": "ipython3",
   "version": "3.10.12"
  }
 },
 "nbformat": 4,
 "nbformat_minor": 5
}