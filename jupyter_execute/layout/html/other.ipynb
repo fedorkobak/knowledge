{
 "cells": [
  {
   "cell_type": "markdown",
   "id": "7f635060-db8a-4bb6-838a-e8edf5ffba9d",
   "metadata": {},
   "source": [
    "# Other\n",
    "\n",
    "Here are features that I haven't had time to put into some more specific pages yet."
   ]
  },
  {
   "cell_type": "code",
   "execution_count": 1,
   "id": "fa1128c4-6258-4d82-b384-7cccb1a67a54",
   "metadata": {},
   "outputs": [],
   "source": [
    "from IPython.display import HTML"
   ]
  },
  {
   "cell_type": "markdown",
   "id": "f0d16746-aced-4f2e-b808-b8f325c7e417",
   "metadata": {},
   "source": [
    "# Common attributes"
   ]
  },
  {
   "cell_type": "markdown",
   "id": "43a16c95-df0a-4638-a1cc-db65843773b0",
   "metadata": {},
   "source": [
    "## `id` - object identificator"
   ]
  },
  {
   "cell_type": "markdown",
   "id": "7266442f-d461-4b35-b132-ea33c737dcb3",
   "metadata": {},
   "source": [
    "## `style` set a style of element\n",
    "\n",
    "Allows to use integrated CSS for html elements.\n",
    "\n",
    "`<property1 name>:<setted value>;<property2 name>:<setted value>;...;<propertyn name>:<setted value>`"
   ]
  },
  {
   "cell_type": "code",
   "execution_count": 2,
   "id": "441cf787-ae71-4dec-83a7-bbb43ec8ef1e",
   "metadata": {},
   "outputs": [
    {
     "data": {
      "text/html": [
       "<p style=\"color:blue\">Blue text color</p>\n",
       "<p style=\"background:red\">Red background color</p>\n",
       "<p style=\"background:red;color:blue\">Red background color</p>\n"
      ],
      "text/plain": [
       "<IPython.core.display.HTML object>"
      ]
     },
     "metadata": {},
     "output_type": "display_data"
    }
   ],
   "source": [
    "%%HTML\n",
    "<p style=\"color:blue\">Blue text color</p>\n",
    "<p style=\"background:red\">Red background color</p>\n",
    "<p style=\"background:red;color:blue\">Red background color</p>"
   ]
  },
  {
   "cell_type": "markdown",
   "id": "558b87a1-c836-45b6-84ab-69616d8cc608",
   "metadata": {},
   "source": [
    "## `title` - hint text\n",
    "\n",
    "If you hold the mouse for some time on the element created by the tag with the title attribute - close to the mouse, a small hint appears. So try it wit text which is the result for the next cell."
   ]
  },
  {
   "cell_type": "code",
   "execution_count": 3,
   "id": "e3b0a051-a479-4a29-9ded-925967e86124",
   "metadata": {},
   "outputs": [
    {
     "data": {
      "text/html": [
       "<p title=\"hello im title\">text with title</p>\n"
      ],
      "text/plain": [
       "<IPython.core.display.HTML object>"
      ]
     },
     "metadata": {},
     "output_type": "display_data"
    }
   ],
   "source": [
    "%%HTML\n",
    "<p title=\"hello im title\">text with title</p>"
   ]
  },
  {
   "cell_type": "markdown",
   "id": "7f1faf71-05a3-49ba-beb5-07243f6f2ad7",
   "metadata": {},
   "source": [
    "# Content tags"
   ]
  },
  {
   "cell_type": "markdown",
   "id": "dc620a72-77dd-4c36-a577-15c5b54673a6",
   "metadata": {},
   "source": [
    "## `<img>` add image to html"
   ]
  },
  {
   "cell_type": "markdown",
   "id": "8ac449a7-d8cf-4083-ac68-9a9f51de8dad",
   "metadata": {},
   "source": [
    "### `src` - set picture\n",
    "\n",
    "You can add url of the image or filepath on computer. In this argument you can use:\n",
    "\n",
    "- url;\n",
    "- filename on computer;\n",
    "- base64 - use the following syntax `data:image/<img type>;base64;<base64 code>`:\n",
    "    - get base64 from bash: `base64 <filename>`;\n",
    "    - get base64 from python: `import base64; base64.b64encode(<binary picture data>)`."
   ]
  },
  {
   "cell_type": "code",
   "execution_count": 30,
   "id": "3c401a1a-f3f1-4d7b-893f-fb8978c57c67",
   "metadata": {},
   "outputs": [
    {
     "data": {
      "text/html": [
       "<img src=\"https://content.codecademy.com/courses/web-101/web101-image_brownbear.jpg\"/>\n",
       "<img src=\"html_files/display_picture.jpg\">\n",
       "<img src=\"data:image/png;base64,iVBORw0KGgoAAAANSUhEUgAAAAwAAAAMCAYAAABWdVznAAAACXBIWXMAAA7EAAAOxAGVKw4bAAAA\n",
       "SklEQVQokc2QSQ4AIAgDW+L/v1wvmhDFhXiRG800kKEEITHmF3IGxsxmJHHhjwKfLF0VIpXLdwiY\n",
       "FPuPYKm9dCp1GABKD3clOS0V5DQSGUBEBc8AAAAASUVORK5CYII=\" width=200 height=200>\n"
      ],
      "text/plain": [
       "<IPython.core.display.HTML object>"
      ]
     },
     "metadata": {},
     "output_type": "display_data"
    }
   ],
   "source": [
    "%%HTML\n",
    "<img src=\"https://content.codecademy.com/courses/web-101/web101-image_brownbear.jpg\"/>\n",
    "<img src=\"html_files/display_picture.jpg\">\n",
    "<img src=\"data:image/png;base64,iVBORw0KGgoAAAANSUhEUgAAAAwAAAAMCAYAAABWdVznAAAACXBIWXMAAA7EAAAOxAGVKw4bAAAA\n",
    "SklEQVQokc2QSQ4AIAgDW+L/v1wvmhDFhXiRG800kKEEITHmF3IGxsxmJHHhjwKfLF0VIpXLdwiY\n",
    "FPuPYKm9dCp1GABKD3clOS0V5DQSGUBEBc8AAAAASUVORK5CYII=\" width=200 height=200>"
   ]
  },
  {
   "cell_type": "markdown",
   "id": "7a26aa52-c58e-4c5f-a6e3-41132d5248e2",
   "metadata": {},
   "source": [
    "### `alt` - text hint\n",
    "\n",
    "Describes the text that will be used if the picture cannot be uploaded. There no option to show how it works in jupyter notebook, but the html page with the following code:"
   ]
  },
  {
   "cell_type": "code",
   "execution_count": 31,
   "id": "25510b42-2a6d-46cd-82cc-c5070eb0a4c9",
   "metadata": {},
   "outputs": [
    {
     "name": "stdout",
     "output_type": "stream",
     "text": [
      "<img src=\"unreal image\" alt=\"description of some image\"/>"
     ]
    }
   ],
   "source": [
    "%%bash\n",
    "cat html_files/img_alt_ex.html"
   ]
  },
  {
   "cell_type": "markdown",
   "id": "dbae33ae-f507-41bb-8a9c-f743c236f31b",
   "metadata": {},
   "source": [
    "You can check <a href=\"html_files/img_alt_ex.html\">here</a>."
   ]
  },
  {
   "cell_type": "markdown",
   "id": "58132013-4ae3-4dd5-9ef8-90188e22b714",
   "metadata": {},
   "source": [
    "## `<video>` - insert video"
   ]
  },
  {
   "cell_type": "markdown",
   "id": "a331c34d-25b3-429f-8748-2a7534fa8ac2",
   "metadata": {},
   "source": [
    "### `controls` handle video\n",
    "\n",
    "Attributes allow you to set controls for handling the video playback process. In the following example I have inserted the first video with the `control` attribute and the second without."
   ]
  },
  {
   "cell_type": "code",
   "execution_count": 32,
   "id": "785215cd-ea61-4ece-8570-5e10ed359289",
   "metadata": {},
   "outputs": [
    {
     "data": {
      "text/html": [
       "<video src=\"html_files/some_video.webm\" widht=200 height=200 controls>\n",
       "</video>\n",
       "<video src=\"html_files/some_video.webm\" widht=200 height=200>\n",
       "</video>\n"
      ],
      "text/plain": [
       "<IPython.core.display.HTML object>"
      ]
     },
     "metadata": {},
     "output_type": "display_data"
    }
   ],
   "source": [
    "%%HTML\n",
    "<video src=\"html_files/some_video.webm\" widht=200 height=200 controls>\n",
    "</video>\n",
    "<video src=\"html_files/some_video.webm\" widht=200 height=200>\n",
    "</video>"
   ]
  },
  {
   "cell_type": "markdown",
   "id": "dd2a37e7-4a4d-4cca-990d-16ac17659a69",
   "metadata": {},
   "source": [
    "# Other tags"
   ]
  },
  {
   "cell_type": "markdown",
   "id": "feb37740-29fe-478d-8f34-80eede683d5a",
   "metadata": {},
   "source": [
    "## `<div>` - division\n",
    "\n",
    "Helps to group html elements."
   ]
  },
  {
   "cell_type": "markdown",
   "id": "94bf814c-31a4-418b-ba1e-e8ebc02d04ef",
   "metadata": {},
   "source": [
    "## `<style>` - style for element group{#sec-style_tag}\n",
    "\n",
    "By useing this tag inside `<head>` tag you can set some css properties.\n",
    "\n",
    "In the following example I set styles for all `<p>` and `<img>` tags in html page. You can check the results [here](html_files/style_tag.html). I can't show in Jupyter notebook because the results are applied to the whole notebook."
   ]
  },
  {
   "cell_type": "code",
   "execution_count": 33,
   "id": "a766b061-922b-4e57-909a-87c82350a2bc",
   "metadata": {},
   "outputs": [
    {
     "name": "stdout",
     "output_type": "stream",
     "text": [
      "<head>\n",
      "    <style>\n",
      "        p {text-align:center; color: red}\n",
      "        img {border: 5px solid blue}\n",
      "    </style>\n",
      "</head>\n",
      "<body>\n",
      "    <p> Test paragraph1</p>\n",
      "    <p> Test paragraph2</p>\n",
      "    <img src=\"data:image/png;base64,iVBORw0KGgoAAAANSUhEUgAAAAwAAAAMCAYAAABWdVznAAAACXBIWXMAAA7EAAAOxAGVKw4bAAAA\n",
      "SklEQVQokc2QSQ4AIAgDW+L/v1wvmhDFhXiRG800kKEEITHmF3IGxsxmJHHhjwKfLF0VIpXLdwiY\n",
      "FPuPYKm9dCp1GABKD3clOS0V5DQSGUBEBc8AAAAASUVORK5CYII=\">\n",
      "</body>\n"
     ]
    }
   ],
   "source": [
    "with open(\"html_files/style_tag.html\") as file:\n",
    "    print(file.read())"
   ]
  },
  {
   "cell_type": "markdown",
   "id": "b4481b82-84ca-413c-a1eb-c31e10a72c90",
   "metadata": {},
   "source": [
    "## `<link>`\n",
    "\n",
    "Used inside the `<head>` tag to load an external resource."
   ]
  },
  {
   "cell_type": "markdown",
   "id": "e8abdc9b-c375-4691-a1fa-8887b077bebc",
   "metadata": {},
   "source": [
    "### `href` - url"
   ]
  },
  {
   "cell_type": "markdown",
   "id": "f4e9ff67-f0a8-4694-86ec-053d58bb79c8",
   "metadata": {},
   "source": [
    "### `rel` - relationship\n",
    "\n",
    "Define the relationship between html document and external resource."
   ]
  },
  {
   "cell_type": "markdown",
   "id": "8f226448-4ddc-41f7-b7aa-4cc8d2d6c09d",
   "metadata": {},
   "source": [
    "#### `stylesheet` - used for loading css file {#sec-link_css_file}"
   ]
  },
  {
   "cell_type": "markdown",
   "id": "1d87e564-f37e-461c-b939-ccf9d6b3231f",
   "metadata": {},
   "source": [
    "Here you can describe file that should be used as style table. In the following example I show html file and associated css file."
   ]
  },
  {
   "cell_type": "code",
   "execution_count": 34,
   "id": "edfdcf86-6ec7-471b-b34a-64673d961e0e",
   "metadata": {},
   "outputs": [
    {
     "data": {
      "text/html": [
       "\n",
       "    <hr><text style=\"font-size:16px\">HTML</text>\n",
       "    "
      ],
      "text/plain": [
       "<IPython.core.display.HTML object>"
      ]
     },
     "metadata": {},
     "output_type": "display_data"
    },
    {
     "name": "stdout",
     "output_type": "stream",
     "text": [
      "<head>\n",
      "    <link href=\"css_example.css\" rel=\"stylesheet\">\n",
      "</head>\n",
      "<body>\n",
      "    <p>Paragraph 1</p>\n",
      "    <p>Paragraph 2</p>\n",
      "</body>\n"
     ]
    },
    {
     "data": {
      "text/html": [
       "\n",
       "    <hr><text style=\"font-size:16px\">CSS</text>\n",
       "    "
      ],
      "text/plain": [
       "<IPython.core.display.HTML object>"
      ]
     },
     "metadata": {},
     "output_type": "display_data"
    },
    {
     "name": "stdout",
     "output_type": "stream",
     "text": [
      "p {\n",
      "  background-color: powderblue;\n",
      "  color: red\n",
      "}\n"
     ]
    }
   ],
   "source": [
    "display(HTML(\n",
    "    '''\n",
    "    <hr><text style=\\\"font-size:16px\\\">HTML</text>\n",
    "    '''\n",
    "))\n",
    "\n",
    "with open(\"html_files/css_example.html\") as file:\n",
    "    print(file.read())\n",
    "\n",
    "display(HTML(\n",
    "    '''\n",
    "    <hr><text style=\\\"font-size:16px\\\">CSS</text>\n",
    "    '''\n",
    "))\n",
    "\n",
    "with open(\"html_files/css_example.css\") as file:\n",
    "    print(file.read())"
   ]
  },
  {
   "cell_type": "markdown",
   "id": "f81b355a-8fe5-493c-a955-a031f3781d4d",
   "metadata": {},
   "source": [
    "You can find the results <a href=\"html_files/css_example.html\">here</a>."
   ]
  },
  {
   "cell_type": "markdown",
   "id": "ae108db9-3ea3-45f3-8ea7-7a5c84164080",
   "metadata": {},
   "source": [
    "## `<a>` - link"
   ]
  },
  {
   "cell_type": "markdown",
   "id": "646e612c-4c87-4318-b39c-b080ef6396d1",
   "metadata": {},
   "source": [
    "### `href` - url\n",
    "\n",
    "url to which reference is made."
   ]
  },
  {
   "cell_type": "markdown",
   "id": "c9928b82-3c5a-412f-959a-744441392aba",
   "metadata": {},
   "source": [
    "### `target` - widow\n",
    "\n",
    "Define how exactly html page should be opened:\n",
    "\n",
    "- `_self` - use the same tab where the link was displayed;\n",
    "- `_blank` - use new tab;\n",
    "- `_parent`- ???;\n",
    "- `_top` - ???.\n",
    "\n",
    "You can try different options [here](html_files/a_target.html)."
   ]
  },
  {
   "cell_type": "markdown",
   "id": "5053120c-4c43-427a-9652-3b96e2099fd4",
   "metadata": {},
   "source": [
    "### `download`\n",
    "\n",
    "Tells the browser that the document must be downloaded and not opened in the browser. So in the following example, I have created a link that allows you to download the page from the previous example."
   ]
  },
  {
   "cell_type": "code",
   "execution_count": 35,
   "id": "1f6eda12-d591-47b9-8796-cddf171486f6",
   "metadata": {},
   "outputs": [
    {
     "data": {
      "text/html": [
       "<a href=\"html_files/a_target.html\" download>Download a_target.html</a>\n"
      ],
      "text/plain": [
       "<IPython.core.display.HTML object>"
      ]
     },
     "metadata": {},
     "output_type": "display_data"
    }
   ],
   "source": [
    "%%HTML\n",
    "<a href=\"html_files/a_target.html\" download>Download a_target.html</a>"
   ]
  },
  {
   "cell_type": "markdown",
   "id": "b5baf7b6-f865-4dac-a9b0-a269abbfffc5",
   "metadata": {},
   "source": [
    "## `<details>` - hiden info"
   ]
  },
  {
   "cell_type": "markdown",
   "id": "86a7f810-4309-4eff-a123-beb8011d0bfc",
   "metadata": {},
   "source": [
    "### Basics"
   ]
  },
  {
   "cell_type": "markdown",
   "id": "fa8abc32-f1c1-43da-acef-f866cff6175b",
   "metadata": {},
   "source": [
    "You can describe some information that is hidden by default, but appears when you press the \"arrow\" button."
   ]
  },
  {
   "cell_type": "code",
   "execution_count": 36,
   "id": "3886a94d-305a-4b9b-ad8e-c33fdd800f5e",
   "metadata": {},
   "outputs": [
    {
     "data": {
      "text/html": [
       "<details>\n",
       "Some hidden information.\n",
       "</details>\n"
      ],
      "text/plain": [
       "<IPython.core.display.HTML object>"
      ]
     },
     "metadata": {},
     "output_type": "display_data"
    }
   ],
   "source": [
    "%%HTML\n",
    "<details>\n",
    "Some hidden information.\n",
    "</details>"
   ]
  },
  {
   "cell_type": "markdown",
   "id": "1f775fde-0835-4489-9fb6-80a4168f5b5c",
   "metadata": {},
   "source": [
    "By using `<summary>` tag you can add extra information."
   ]
  },
  {
   "cell_type": "code",
   "execution_count": 37,
   "id": "f3d98db0-7cbe-49be-bf60-78cb143dcef7",
   "metadata": {},
   "outputs": [
    {
     "data": {
      "text/html": [
       "<details>\n",
       "    <summary>Details title<button>Test button</button></summary>\n",
       "    Some hidden information\n",
       "</details>\n"
      ],
      "text/plain": [
       "<IPython.core.display.HTML object>"
      ]
     },
     "metadata": {},
     "output_type": "display_data"
    }
   ],
   "source": [
    "%%HTML\n",
    "<details>\n",
    "    <summary>Details title<button>Test button</button></summary>\n",
    "    Some hidden information\n",
    "</details>"
   ]
  },
  {
   "cell_type": "markdown",
   "id": "c1952ab1-8a05-4e97-8536-a35c19dcbe4c",
   "metadata": {},
   "source": [
    "### Overlapping\n",
    "\n",
    "By default, expanded `<details>` will move the following content. So the following example shows how expanded details moves div.\n",
    "\n",
    "<!--\n",
    "print(f'''\n",
    "<details>\n",
    "    { \"\".join([f\"line {i} <br>\"for i in range(10)])}\n",
    "</details>\n",
    "<details>\n",
    "    { \"\".join([f\"line {i} <br>\"for i in range(10)])}\n",
    "</details>\n",
    "<div>\n",
    "    Some other content\n",
    "</div>\n",
    "''')\n",
    "-->"
   ]
  },
  {
   "cell_type": "code",
   "execution_count": 38,
   "id": "791bbc56-ab16-4332-aa73-f6ceee0e34b9",
   "metadata": {},
   "outputs": [
    {
     "data": {
      "text/html": [
       "<details>\n",
       "    line 0 <br>line 1 <br>line 2 <br>line 3 <br>line 4 <br>line 5 <br>line 6 <br>line 7 <br>line 8 <br>line 9 <br>\n",
       "</details>\n",
       "<details>\n",
       "    line 0 <br>line 1 <br>line 2 <br>line 3 <br>line 4 <br>line 5 <br>line 6 <br>line 7 <br>line 8 <br>line 9 <br>\n",
       "</details>\n",
       "<div>\n",
       "    Some other content\n",
       "</div>\n"
      ],
      "text/plain": [
       "<IPython.core.display.HTML object>"
      ]
     },
     "metadata": {},
     "output_type": "display_data"
    }
   ],
   "source": [
    "%%HTML\n",
    "<details>\n",
    "    line 0 <br>line 1 <br>line 2 <br>line 3 <br>line 4 <br>line 5 <br>line 6 <br>line 7 <br>line 8 <br>line 9 <br>\n",
    "</details>\n",
    "<details>\n",
    "    line 0 <br>line 1 <br>line 2 <br>line 3 <br>line 4 <br>line 5 <br>line 6 <br>line 7 <br>line 8 <br>line 9 <br>\n",
    "</details>\n",
    "<div>\n",
    "    Some other content\n",
    "</div>"
   ]
  }
 ],
 "metadata": {
  "kernelspec": {
   "display_name": "Python 3 (ipykernel)",
   "language": "python",
   "name": "python3"
  },
  "language_info": {
   "codemirror_mode": {
    "name": "ipython",
    "version": 3
   },
   "file_extension": ".py",
   "mimetype": "text/x-python",
   "name": "python",
   "nbconvert_exporter": "python",
   "pygments_lexer": "ipython3",
   "version": "3.10.12"
  }
 },
 "nbformat": 4,
 "nbformat_minor": 5
}