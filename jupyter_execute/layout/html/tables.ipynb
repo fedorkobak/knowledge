{
 "cells": [
  {
   "cell_type": "markdown",
   "id": "69fd13e4-4968-4331-8366-dd4e80dbf7a4",
   "metadata": {},
   "source": [
    "# Tables\n",
    "\n",
    "This page is about creating tables in html pages"
   ]
  },
  {
   "cell_type": "markdown",
   "id": "142d6c1b-a12c-4082-8db4-5f9315c7c32e",
   "metadata": {},
   "source": [
    "## Basic (`<table>`, `<tr>`, `<td>`)"
   ]
  },
  {
   "cell_type": "markdown",
   "id": "674e86f8-89df-47a9-a2b8-e1be31b2cd68",
   "metadata": {},
   "source": [
    "- `<table>` - tag defines new table;\n",
    "- `<tr>` - (**t**able **r**ow) define the new row for the table;\n",
    "- `<td>` - (**t**able **d**ata) define the new cell."
   ]
  },
  {
   "cell_type": "code",
   "execution_count": 1,
   "id": "cb4460e5-6448-44b4-99e6-057f7123abc1",
   "metadata": {},
   "outputs": [
    {
     "data": {
      "text/html": [
       "<table>\n",
       "    <tr>\n",
       "        <td>row1 cell1</td>\n",
       "        <td>row1 cell2</td>\n",
       "    </tr>\n",
       "    <tr>\n",
       "        <td>row2 cell1</td>\n",
       "        <td>row2 cell2</td>\n",
       "    </tr>\n",
       "</table>\n"
      ],
      "text/plain": [
       "<IPython.core.display.HTML object>"
      ]
     },
     "metadata": {},
     "output_type": "display_data"
    }
   ],
   "source": [
    "%%HTML\n",
    "<table>\n",
    "    <tr>\n",
    "        <td>row1 cell1</td>\n",
    "        <td>row1 cell2</td>\n",
    "    </tr>\n",
    "    <tr>\n",
    "        <td>row2 cell1</td>\n",
    "        <td>row2 cell2</td>\n",
    "    </tr>\n",
    "</table>"
   ]
  },
  {
   "cell_type": "markdown",
   "id": "0789a089-997b-4399-8d7b-4c4df9f6d921",
   "metadata": {},
   "source": [
    "## Table header (`<th>`)\n",
    "\n",
    "Instead of using `<td>` tag you can use `<th>` which will be interpreted as the table header, and printed as bold text."
   ]
  },
  {
   "cell_type": "code",
   "execution_count": 2,
   "id": "ed9cde28-9fc9-4ab6-9976-bbf4020e0fe9",
   "metadata": {},
   "outputs": [
    {
     "data": {
      "text/html": [
       "<table>\n",
       "    <tr>\n",
       "        <td>row1 cell1</td>\n",
       "        <td>row1 cell2</td>\n",
       "    </tr>\n",
       "    <tr>\n",
       "        <th>row2 cell1</th>\n",
       "        <th>row2 cell2</th>\n",
       "    </tr>\n",
       "    <tr>\n",
       "        <td>row2 cell1</td>\n",
       "        <td>row2 cell2</td>\n",
       "    </tr>\n",
       "</table>\n"
      ],
      "text/plain": [
       "<IPython.core.display.HTML object>"
      ]
     },
     "metadata": {},
     "output_type": "display_data"
    }
   ],
   "source": [
    "%%HTML\n",
    "<table>\n",
    "    <tr>\n",
    "        <td>row1 cell1</td>\n",
    "        <td>row1 cell2</td>\n",
    "    </tr>\n",
    "    <tr>\n",
    "        <th>row2 cell1</th>\n",
    "        <th>row2 cell2</th>\n",
    "    </tr>\n",
    "    <tr>\n",
    "        <td>row2 cell1</td>\n",
    "        <td>row2 cell2</td>\n",
    "    </tr>\n",
    "</table>"
   ]
  },
  {
   "cell_type": "markdown",
   "id": "7deb921f-697b-4953-8cca-038355a131b3",
   "metadata": {},
   "source": [
    "## Caption\n",
    "\n",
    "Tag `<caption>` inside `<table>` will allow to show a captions of the tables. Interesting that you can put it anywhere - it prints at the top of the page anyway."
   ]
  },
  {
   "cell_type": "code",
   "execution_count": 3,
   "id": "681fb63b-b5a7-4d84-8184-59ea51a68db4",
   "metadata": {},
   "outputs": [
    {
     "data": {
      "text/html": [
       "<table>\n",
       "    <tr>\n",
       "        <td>row1 cell1</td>\n",
       "        <td>row1 cell2</td>\n",
       "    </tr>\n",
       "    <tr>\n",
       "        <td>row2 cell1</td>\n",
       "        <td>row2 cell2</td>\n",
       "    </tr>\n",
       "    <caption> Test caption</caption>\n",
       "    <tr>\n",
       "        <td>row2 cell1</td>\n",
       "        <td>row2 cell2</td>\n",
       "    </tr>\n",
       "</table>\n"
      ],
      "text/plain": [
       "<IPython.core.display.HTML object>"
      ]
     },
     "metadata": {},
     "output_type": "display_data"
    }
   ],
   "source": [
    "%%HTML\n",
    "<table>\n",
    "    <tr>\n",
    "        <td>row1 cell1</td>\n",
    "        <td>row1 cell2</td>\n",
    "    </tr>\n",
    "    <tr>\n",
    "        <td>row2 cell1</td>\n",
    "        <td>row2 cell2</td>\n",
    "    </tr>\n",
    "    <caption> Test caption</caption>\n",
    "    <tr>\n",
    "        <td>row2 cell1</td>\n",
    "        <td>row2 cell2</td>\n",
    "    </tr>\n",
    "</table>"
   ]
  },
  {
   "cell_type": "markdown",
   "id": "8488ea8c-4417-4e16-9637-81726e398dac",
   "metadata": {},
   "source": [
    "## Fixed table head\n",
    "\n",
    "It's really convenient in case of long tables to be able to always see the header of the table. So in this subsection I want to discuss details about building tables with fidex headers and scrollable bodies."
   ]
  },
  {
   "cell_type": "markdown",
   "id": "c8de9e53-5343-4d31-9f06-88d526ad1717",
   "metadata": {},
   "source": [
    "### Minimal setup\n",
    "\n",
    "The minimum you need to create a fixed header is to use `position: sticky; top: 0;` The css properties for the `thead` tag and the element it contains must be scrollable and limited in size. As in the example below."
   ]
  },
  {
   "cell_type": "code",
   "execution_count": 53,
   "id": "9879d7d9-70bc-44af-899a-0750989f3d7a",
   "metadata": {},
   "outputs": [
    {
     "data": {
      "text/html": [
       "<div style=\"overflow-y: auto; height: 250px;\"> \n",
       "    <table> \n",
       "      <thead style=\"position: sticky; top: 0;\"> \n",
       "        <tr> \n",
       "          <th>Col 1</th> \n",
       "          <th>Col 2</th> \n",
       "        </tr> \n",
       "      </thead> \n",
       "  \n",
       "      <tbody> \n",
       "        <tr><td>1.1</td><td>1.2</td></tr><tr><td>2.1</td><td>2.2</td></tr><tr><td>3.1</td><td>3.2</td></tr><tr><td>4.1</td><td>4.2</td></tr><tr><td>5.1</td><td>5.2</td></tr><tr><td>6.1</td><td>6.2</td></tr><tr><td>7.1</td><td>7.2</td></tr><tr><td>8.1</td><td>8.2</td></tr><tr><td>9.1</td><td>9.2</td></tr><tr><td>10.1</td><td>10.2</td></tr><tr><td>11.1</td><td>11.2</td></tr><tr><td>12.1</td><td>12.2</td></tr><tr><td>13.1</td><td>13.2</td></tr><tr><td>14.1</td><td>14.2</td></tr><tr><td>15.1</td><td>15.2</td></tr><tr><td>16.1</td><td>16.2</td></tr><tr><td>17.1</td><td>17.2</td></tr><tr><td>18.1</td><td>18.2</td></tr><tr><td>19.1</td><td>19.2</td></tr><tr><td>20.1</td><td>20.2</td></tr>\n",
       "      </tbody> \n",
       "        \n",
       "    </table> \n",
       "</div>\n"
      ],
      "text/plain": [
       "<IPython.core.display.HTML object>"
      ]
     },
     "metadata": {},
     "output_type": "display_data"
    }
   ],
   "source": [
    "%%HTML\n",
    "<div style=\"overflow-y: auto; height: 250px;\"> \n",
    "    <table> \n",
    "      <thead style=\"position: sticky; top: 0;\"> \n",
    "        <tr> \n",
    "          <th>Col 1</th> \n",
    "          <th>Col 2</th> \n",
    "        </tr> \n",
    "      </thead> \n",
    "  \n",
    "      <tbody> \n",
    "        <tr><td>1.1</td><td>1.2</td></tr><tr><td>2.1</td><td>2.2</td></tr><tr><td>3.1</td><td>3.2</td></tr><tr><td>4.1</td><td>4.2</td></tr><tr><td>5.1</td><td>5.2</td></tr><tr><td>6.1</td><td>6.2</td></tr><tr><td>7.1</td><td>7.2</td></tr><tr><td>8.1</td><td>8.2</td></tr><tr><td>9.1</td><td>9.2</td></tr><tr><td>10.1</td><td>10.2</td></tr><tr><td>11.1</td><td>11.2</td></tr><tr><td>12.1</td><td>12.2</td></tr><tr><td>13.1</td><td>13.2</td></tr><tr><td>14.1</td><td>14.2</td></tr><tr><td>15.1</td><td>15.2</td></tr><tr><td>16.1</td><td>16.2</td></tr><tr><td>17.1</td><td>17.2</td></tr><tr><td>18.1</td><td>18.2</td></tr><tr><td>19.1</td><td>19.2</td></tr><tr><td>20.1</td><td>20.2</td></tr>\n",
    "      </tbody> \n",
    "        \n",
    "    </table> \n",
    "</div>"
   ]
  },
  {
   "cell_type": "markdown",
   "id": "168ed7e1-3f45-49f9-ab82-6d31ed319a7f",
   "metadata": {},
   "source": [
    "### Basic setup"
   ]
  },
  {
   "cell_type": "markdown",
   "id": "c3dafe25-6735-46b1-afa7-11c66bad9573",
   "metadata": {},
   "source": [
    "There are some features that allow to make a scrollable table with fixed header nicer than [minimal setup](#sec-fix_minimal_setup):\n",
    "\n",
    "- `background:` for head tag - allow to hide table values under header.\n",
    "- `width: 100%;` for the table tag, make the table fit the whole parent object, so the scrollbar will fit just as well as the side of the object."
   ]
  },
  {
   "cell_type": "code",
   "execution_count": 55,
   "id": "3febffc8-2147-4dfa-ac8a-b9d97c42cccc",
   "metadata": {},
   "outputs": [
    {
     "data": {
      "text/html": [
       "<div style=\"overflow-y: auto; height: 250px;\"> \n",
       "    <table style=\"width: 100%;\"> \n",
       "      <thead style=\"position: sticky; top: 0; background: #ABDD93;\"> \n",
       "        <tr> \n",
       "          <th>Col 1</th> \n",
       "          <th>Col 2</th> \n",
       "        </tr> \n",
       "      </thead> \n",
       "  \n",
       "      <tbody> \n",
       "        <tr><td>1.1</td><td>1.2</td></tr><tr><td>2.1</td><td>2.2</td></tr><tr><td>3.1</td><td>3.2</td></tr><tr><td>4.1</td><td>4.2</td></tr><tr><td>5.1</td><td>5.2</td></tr><tr><td>6.1</td><td>6.2</td></tr><tr><td>7.1</td><td>7.2</td></tr><tr><td>8.1</td><td>8.2</td></tr><tr><td>9.1</td><td>9.2</td></tr><tr><td>10.1</td><td>10.2</td></tr><tr><td>11.1</td><td>11.2</td></tr><tr><td>12.1</td><td>12.2</td></tr><tr><td>13.1</td><td>13.2</td></tr><tr><td>14.1</td><td>14.2</td></tr><tr><td>15.1</td><td>15.2</td></tr><tr><td>16.1</td><td>16.2</td></tr><tr><td>17.1</td><td>17.2</td></tr><tr><td>18.1</td><td>18.2</td></tr><tr><td>19.1</td><td>19.2</td></tr><tr><td>20.1</td><td>20.2</td></tr>\n",
       "      </tbody> \n",
       "        \n",
       "    </table> \n",
       "</div>\n"
      ],
      "text/plain": [
       "<IPython.core.display.HTML object>"
      ]
     },
     "metadata": {},
     "output_type": "display_data"
    }
   ],
   "source": [
    "%%HTML\n",
    "<div style=\"overflow-y: auto; height: 250px;\"> \n",
    "    <table style=\"width: 100%;\"> \n",
    "      <thead style=\"position: sticky; top: 0; background: #ABDD93;\"> \n",
    "        <tr> \n",
    "          <th>Col 1</th> \n",
    "          <th>Col 2</th> \n",
    "        </tr> \n",
    "      </thead> \n",
    "  \n",
    "      <tbody> \n",
    "        <tr><td>1.1</td><td>1.2</td></tr><tr><td>2.1</td><td>2.2</td></tr><tr><td>3.1</td><td>3.2</td></tr><tr><td>4.1</td><td>4.2</td></tr><tr><td>5.1</td><td>5.2</td></tr><tr><td>6.1</td><td>6.2</td></tr><tr><td>7.1</td><td>7.2</td></tr><tr><td>8.1</td><td>8.2</td></tr><tr><td>9.1</td><td>9.2</td></tr><tr><td>10.1</td><td>10.2</td></tr><tr><td>11.1</td><td>11.2</td></tr><tr><td>12.1</td><td>12.2</td></tr><tr><td>13.1</td><td>13.2</td></tr><tr><td>14.1</td><td>14.2</td></tr><tr><td>15.1</td><td>15.2</td></tr><tr><td>16.1</td><td>16.2</td></tr><tr><td>17.1</td><td>17.2</td></tr><tr><td>18.1</td><td>18.2</td></tr><tr><td>19.1</td><td>19.2</td></tr><tr><td>20.1</td><td>20.2</td></tr>\n",
    "      </tbody> \n",
    "        \n",
    "    </table> \n",
    "</div>"
   ]
  },
  {
   "cell_type": "markdown",
   "id": "a32f8e8c-0bdf-4122-becb-ee00245ff572",
   "metadata": {},
   "source": [
    "## Joined table cells"
   ]
  },
  {
   "cell_type": "markdown",
   "id": "f1010a7e-5a28-4a0e-bb73-f27152dbb4b5",
   "metadata": {},
   "source": [
    "In some cases you'll need to create tables where the same infromation can take up a few close cells. For this purposes can be used `colspan`, `rowspan` attributes."
   ]
  },
  {
   "cell_type": "markdown",
   "id": "38a19246-f575-4b55-a8ea-7e5fdf7e7aef",
   "metadata": {},
   "source": [
    "### `colspan` example\n",
    "\n",
    "In the following example, the `colspan` attribute is used to create a table where certain elements span across multiple columns. To create joined cells, the colspan attribute is specified only in the first `<td>` element, and the remaining `<td>` elements that will be joined to it are left unmentioned."
   ]
  },
  {
   "cell_type": "code",
   "execution_count": 18,
   "id": "bfe2e188-586e-4433-bb17-051a5d6357c7",
   "metadata": {},
   "outputs": [
    {
     "data": {
      "text/html": [
       "<table>\n",
       "  <tbody>\n",
       "    <tr>\n",
       "      <td colspan=\"2\" style=\"text-align:center\">Data 1.1</td>\n",
       "      <td>Data 1.2</td>\n",
       "      <td>Data 1.3</td>\n",
       "      <td>Data 1.4</td>\n",
       "    </tr>\n",
       "    <tr>\n",
       "      <td>Data 2.1</td>\n",
       "      <td>Data 2.2</td>\n",
       "      <td colspan=\"3\" style=\"text-align:center\">Data 2.3</td>\n",
       "    </tr>\n",
       "  </tbody>\n",
       "</table>\n"
      ],
      "text/plain": [
       "<IPython.core.display.HTML object>"
      ]
     },
     "metadata": {},
     "output_type": "display_data"
    }
   ],
   "source": [
    "%%HTML\n",
    "<table>\n",
    "  <tbody>\n",
    "    <tr>\n",
    "      <td colspan=\"2\" style=\"text-align:center\">Data 1.1</td>\n",
    "      <td>Data 1.2</td>\n",
    "      <td>Data 1.3</td>\n",
    "      <td>Data 1.4</td>\n",
    "    </tr>\n",
    "    <tr>\n",
    "      <td>Data 2.1</td>\n",
    "      <td>Data 2.2</td>\n",
    "      <td colspan=\"3\" style=\"text-align:center\">Data 2.3</td>\n",
    "    </tr>\n",
    "  </tbody>\n",
    "</table>"
   ]
  },
  {
   "cell_type": "markdown",
   "id": "16de435d-eb48-4761-9627-aa1fad81af02",
   "metadata": {},
   "source": [
    "### `rowspan` example\n",
    "\n",
    "In the following example, the `rowspan` attribute is used to create a table where certain elements span multiple rows. To create merged cells, only the `<td>` element of the first `<tr>` is specified in the colspan attribute. Subsequent `<tr>` elements don't contain corresponding `<td>` elements."
   ]
  },
  {
   "cell_type": "code",
   "execution_count": 25,
   "id": "bd96c444-38bc-4d12-a4f8-bf5e7be37d4d",
   "metadata": {},
   "outputs": [
    {
     "data": {
      "text/html": [
       "<table>\n",
       "  <tbody>\n",
       "    <tr>\n",
       "      <td rowspan=\"2\">Data 1.1</td>\n",
       "      <td>Data 1.2</td>\n",
       "      <td>Data 1.3</td>\n",
       "      <td>Data 1.4</td>\n",
       "    </tr>\n",
       "    <tr>\n",
       "      <td>Data 2.2</td>\n",
       "      <td rowspan=\"3\">Data 2.3</td>\n",
       "      <td>Data 2.4</td>\n",
       "    </tr>\n",
       "    <tr>\n",
       "      <td>Data 3.1</td>\n",
       "      <td>Data 3.2</td>\n",
       "      <td>Data 3.4</td>\n",
       "    </tr>\n",
       "    <tr>\n",
       "      <td>Data 4.1</td>\n",
       "      <td>Data 4.2</td>\n",
       "      <td>Data 4.4</td>\n",
       "    </tr>\n",
       "  </tbody>\n",
       "</table>\n"
      ],
      "text/plain": [
       "<IPython.core.display.HTML object>"
      ]
     },
     "metadata": {},
     "output_type": "display_data"
    }
   ],
   "source": [
    "%%HTML\n",
    "<table>\n",
    "  <tbody>\n",
    "    <tr>\n",
    "      <td rowspan=\"2\">Data 1.1</td>\n",
    "      <td>Data 1.2</td>\n",
    "      <td>Data 1.3</td>\n",
    "      <td>Data 1.4</td>\n",
    "    </tr>\n",
    "    <tr>\n",
    "      <td>Data 2.2</td>\n",
    "      <td rowspan=\"3\">Data 2.3</td>\n",
    "      <td>Data 2.4</td>\n",
    "    </tr>\n",
    "    <tr>\n",
    "      <td>Data 3.1</td>\n",
    "      <td>Data 3.2</td>\n",
    "      <td>Data 3.4</td>\n",
    "    </tr>\n",
    "    <tr>\n",
    "      <td>Data 4.1</td>\n",
    "      <td>Data 4.2</td>\n",
    "      <td>Data 4.4</td>\n",
    "    </tr>\n",
    "  </tbody>\n",
    "</table>"
   ]
  },
  {
   "cell_type": "markdown",
   "id": "ac74e4e5-fe0a-45ec-bd43-2709db37cbd3",
   "metadata": {},
   "source": [
    "### Spaned headers\n",
    "\n",
    "This feature is really useful for use in table headers. So here is an example of using the `colspan` attribute for `th` tags."
   ]
  },
  {
   "cell_type": "code",
   "execution_count": 20,
   "id": "5e24d065-fb67-4c64-bcfc-f9fb60cb7d2e",
   "metadata": {},
   "outputs": [
    {
     "data": {
      "text/html": [
       "<table>\n",
       "  <thead>\n",
       "    <tr>\n",
       "      <th></th>\n",
       "      <th colspan=\"2\" style=\"text-align:center\">Header 1</th>\n",
       "      <th colspan=\"2\" style=\"text-align:center\">Header 2</th>\n",
       "    </tr>\n",
       "    <tr>\n",
       "      <th>Nested Header</th>\n",
       "      <th>Subheader 1</th>\n",
       "      <th>Subheader 2</th>\n",
       "      <th>Subheader 3</th>\n",
       "      <th>Subheader 4</th>\n",
       "    </tr>\n",
       "  </thead>\n",
       "  <tbody>\n",
       "    <tr>\n",
       "      <td>Row 1</td>\n",
       "      <td>Data 1.1</td>\n",
       "      <td>Data 1.2</td>\n",
       "      <td>Data 2.1</td>\n",
       "      <td>Data 2.2</td>\n",
       "    </tr>\n",
       "    <tr>\n",
       "      <td>Row 2</td>\n",
       "      <td>Data 1.1</td>\n",
       "      <td>Data 1.2</td>\n",
       "      <td>Data 2.1</td>\n",
       "      <td>Data 2.2</td>\n",
       "    </tr>\n",
       "  </tbody>\n",
       "</table>\n"
      ],
      "text/plain": [
       "<IPython.core.display.HTML object>"
      ]
     },
     "metadata": {},
     "output_type": "display_data"
    }
   ],
   "source": [
    "%%HTML\n",
    "<table>\n",
    "  <thead>\n",
    "    <tr>\n",
    "      <th></th>\n",
    "      <th colspan=\"2\" style=\"text-align:center\">Header 1</th>\n",
    "      <th colspan=\"2\" style=\"text-align:center\">Header 2</th>\n",
    "    </tr>\n",
    "    <tr>\n",
    "      <th>Nested Header</th>\n",
    "      <th>Subheader 1</th>\n",
    "      <th>Subheader 2</th>\n",
    "      <th>Subheader 3</th>\n",
    "      <th>Subheader 4</th>\n",
    "    </tr>\n",
    "  </thead>\n",
    "  <tbody>\n",
    "    <tr>\n",
    "      <td>Row 1</td>\n",
    "      <td>Data 1.1</td>\n",
    "      <td>Data 1.2</td>\n",
    "      <td>Data 2.1</td>\n",
    "      <td>Data 2.2</td>\n",
    "    </tr>\n",
    "    <tr>\n",
    "      <td>Row 2</td>\n",
    "      <td>Data 1.1</td>\n",
    "      <td>Data 1.2</td>\n",
    "      <td>Data 2.1</td>\n",
    "      <td>Data 2.2</td>\n",
    "    </tr>\n",
    "  </tbody>\n",
    "</table>"
   ]
  }
 ],
 "metadata": {
  "kernelspec": {
   "display_name": "Python 3 (ipykernel)",
   "language": "python",
   "name": "python3"
  },
  "language_info": {
   "codemirror_mode": {
    "name": "ipython",
    "version": 3
   },
   "file_extension": ".py",
   "mimetype": "text/x-python",
   "name": "python",
   "nbconvert_exporter": "python",
   "pygments_lexer": "ipython3",
   "version": "3.10.12"
  }
 },
 "nbformat": 4,
 "nbformat_minor": 5
}