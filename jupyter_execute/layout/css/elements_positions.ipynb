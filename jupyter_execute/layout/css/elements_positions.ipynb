{
 "cells": [
  {
   "cell_type": "markdown",
   "id": "0c613c32-04dd-4b4b-97a9-8d997d209e98",
   "metadata": {},
   "source": [
    "# Elements position (`display`)\n",
    "\n",
    "By default, HTML elements are usually displayed one by one from the top of the page to the bottom of the page, but sometimes you need to change this. So this page discusses some features associated with options to change this.\n",
    "\n",
    "You can regulate it with `display` css option. Read more about this property <a href=\"https://developer.mozilla.org/en-US/docs/Web/CSS/display\">here</a>. Long story short, you need to specify the `display' option for the elemnt to make it's children have position in a specific way.\n",
    "\n",
    "So in following example you can compare elements where `display` doesn't specified and elements where `display: flex`:\n",
    "\n",
    "- By default, elements goes one by one verticaly and took all wide of the page;\n",
    "- With `display: flex` elements move one at a time from the left border, taking up only the space they need."
   ]
  },
  {
   "cell_type": "code",
   "execution_count": 5,
   "id": "c340733e-0f24-4687-b511-3d93b75897f5",
   "metadata": {},
   "outputs": [
    {
     "data": {
      "text/html": [
       "<div>\n",
       "    <div style=\"border : black solid\">display doesn't specified</div>\n",
       "    <div style=\"border: black solid\">display doesn't specified</div>\n",
       "</div>\n",
       "<hr>\n",
       "<div style=\"display: flex;\">\n",
       "    <div style=\"border : black solid\">display: flex</div>\n",
       "    <div style=\"border : black solid\">display: flex</div>  \n",
       "</div>\n"
      ],
      "text/plain": [
       "<IPython.core.display.HTML object>"
      ]
     },
     "metadata": {},
     "output_type": "display_data"
    }
   ],
   "source": [
    "%%HTML\n",
    "<div>\n",
    "    <div style=\"border : black solid\">display doesn't specified</div>\n",
    "    <div style=\"border: black solid\">display doesn't specified</div>\n",
    "</div>\n",
    "<hr>\n",
    "<div style=\"display: flex;\">\n",
    "    <div style=\"border : black solid\">display: flex</div>\n",
    "    <div style=\"border : black solid\">display: flex</div>  \n",
    "</div>"
   ]
  }
 ],
 "metadata": {
  "kernelspec": {
   "display_name": "Python 3 (ipykernel)",
   "language": "python",
   "name": "python3"
  },
  "language_info": {
   "codemirror_mode": {
    "name": "ipython",
    "version": 3
   },
   "file_extension": ".py",
   "mimetype": "text/x-python",
   "name": "python",
   "nbconvert_exporter": "python",
   "pygments_lexer": "ipython3",
   "version": "3.10.12"
  }
 },
 "nbformat": 4,
 "nbformat_minor": 5
}