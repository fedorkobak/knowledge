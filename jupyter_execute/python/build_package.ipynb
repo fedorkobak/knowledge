{
 "cells": [
  {
   "cell_type": "markdown",
   "id": "9e450bf6-15d2-4af8-9bcd-991603843ae9",
   "metadata": {},
   "source": [
    "# Build package\n",
    "\n",
    "Here is just described minimum that you need to build package. All necessary will be created and loaded to local environment without uploading to PyPI. To learn more about uploading to PyPI, check the [specific page](./uploading_to_pypi.ipynb)."
   ]
  },
  {
   "cell_type": "markdown",
   "id": "eb24e3d1-b067-4ac4-9545-821e372a6a5d",
   "metadata": {},
   "source": [
    "## Soucre files\n",
    "\n",
    "In the folder `src/exmaple_package` I'll just store files with sorce code of the project. \n",
    "\n",
    "**Note** The `example_package` folder is crucial here! It's the literal name that will be used to import this module."
   ]
  },
  {
   "cell_type": "markdown",
   "id": "dc2c88de-333f-4800-94ef-a535996ebfb8",
   "metadata": {},
   "source": [
    "**`__init__.py`** \n",
    "\n",
    "It's common for folders containing Python modules to have `__init__.py`."
   ]
  },
  {
   "cell_type": "code",
   "execution_count": 1,
   "id": "59062180-4c57-494a-87da-4922683b8188",
   "metadata": {},
   "outputs": [
    {
     "name": "stdout",
     "output_type": "stream",
     "text": [
      "Overwriting build_package_files/src/example_package/__init__.py\n"
     ]
    }
   ],
   "source": [
    "%%writefile build_package_files/src/example_package/__init__.py\n",
    "print(\"Init me!\")"
   ]
  },
  {
   "cell_type": "markdown",
   "id": "6c009d52-61d8-4260-af3f-87219766bce4",
   "metadata": {},
   "source": [
    "**example.py**\n",
    "\n",
    "Is a toy module that can be imported after installing this library."
   ]
  },
  {
   "cell_type": "code",
   "execution_count": 2,
   "id": "df123b4d-ed3c-42bd-b6b6-850c4c265097",
   "metadata": {},
   "outputs": [
    {
     "name": "stdout",
     "output_type": "stream",
     "text": [
      "Overwriting build_package_files/src/example_package/example.py\n"
     ]
    }
   ],
   "source": [
    "%%writefile build_package_files/src/example_package/example.py\n",
    "def do_something():\n",
    "    print(\"doing something\")"
   ]
  },
  {
   "cell_type": "markdown",
   "id": "280ed5a8-e949-45c7-924a-32137100df11",
   "metadata": {},
   "source": [
    "## README\n",
    "\n",
    "Actually you can skip this step, but without it you may get a warning when building the package."
   ]
  },
  {
   "cell_type": "code",
   "execution_count": 3,
   "id": "a9dd6e43-4944-4f3a-a78a-d550ef29f7a2",
   "metadata": {},
   "outputs": [
    {
     "name": "stdout",
     "output_type": "stream",
     "text": [
      "Overwriting build_package_files/README.md\n"
     ]
    }
   ],
   "source": [
    "%%writefile build_package_files/README.md\n",
    "# Example\n",
    "This is a toy package I'm using to get used to deploying Python packages on PyPI."
   ]
  },
  {
   "cell_type": "markdown",
   "id": "8608477f-7ad9-40d5-ba75-38c0e6025a15",
   "metadata": {},
   "source": [
    "## Toml\n",
    "\n",
    "File describing the project."
   ]
  },
  {
   "cell_type": "code",
   "execution_count": 4,
   "id": "6d9fe722-5c58-48ba-973b-7e3019c9b0c5",
   "metadata": {},
   "outputs": [
    {
     "name": "stdout",
     "output_type": "stream",
     "text": [
      "Overwriting build_package_files/pyproject.toml\n"
     ]
    }
   ],
   "source": [
    "%%writefile build_package_files/pyproject.toml\n",
    "[project]\n",
    "name = \"example_package_FEDOR_KOBAK\"\n",
    "version = \"0.0.4\"\n",
    "authors = [\n",
    "  { name=\"Fedor Kobak\", email=\"kobfedsur@gmail.com\" },\n",
    "]\n",
    "description = \"A small example package\""
   ]
  },
  {
   "cell_type": "markdown",
   "id": "d7a4c530-ec1a-4cc2-80d0-238df9347006",
   "metadata": {},
   "source": [
    "## Local instalation\n",
    "\n",
    "Everything you need is ready, so you can install our module in your environment."
   ]
  },
  {
   "cell_type": "code",
   "execution_count": 5,
   "id": "a84af0d8-0cd2-4912-9393-a107f1a90ba8",
   "metadata": {},
   "outputs": [
    {
     "name": "stdout",
     "output_type": "stream",
     "text": [
      "Defaulting to user installation because normal site-packages is not writeable\n",
      "Processing /home/fedor/Documents/knowledge/python/advanced/build_package/build_package_files\n",
      "  Installing build dependencies: started\n",
      "  Installing build dependencies: finished with status 'done'\n",
      "  Getting requirements to build wheel: started\n",
      "  Getting requirements to build wheel: finished with status 'done'\n",
      "  Installing backend dependencies: started\n",
      "  Installing backend dependencies: finished with status 'done'\n",
      "  Preparing metadata (pyproject.toml): started\n",
      "  Preparing metadata (pyproject.toml): finished with status 'done'\n",
      "Building wheels for collected packages: example_package_FEDOR_KOBAK\n",
      "  Building wheel for example_package_FEDOR_KOBAK (pyproject.toml): started\n",
      "  Building wheel for example_package_FEDOR_KOBAK (pyproject.toml): finished with status 'done'\n",
      "  Created wheel for example_package_FEDOR_KOBAK: filename=example_package_FEDOR_KOBAK-0.0.4-py3-none-any.whl size=1611 sha256=04f6ffb23c3532643b4fd52cd531d89857edbe9afab72dfb46c189ada3f30278\n",
      "  Stored in directory: /tmp/pip-ephem-wheel-cache-7m9dkugr/wheels/5d/e7/d4/ee86f931ae31eb795c976f51f6b8890551feab7b79fadc584f\n",
      "Successfully built example_package_FEDOR_KOBAK\n",
      "Installing collected packages: example_package_FEDOR_KOBAK\n",
      "Successfully installed example_package_FEDOR_KOBAK-0.0.4\n"
     ]
    }
   ],
   "source": [
    "%%bash\n",
    "cd build_package_files/\n",
    "pip3 install ."
   ]
  },
  {
   "cell_type": "markdown",
   "id": "8f0aa415-8fcd-4124-81bf-1f5c2d9357ee",
   "metadata": {},
   "source": [
    "The module can now be imported into any Python program."
   ]
  },
  {
   "cell_type": "code",
   "execution_count": 6,
   "id": "f80d8870-cf94-4a1c-aba3-f6ed0ffcefce",
   "metadata": {},
   "outputs": [
    {
     "name": "stdout",
     "output_type": "stream",
     "text": [
      "Init me!\n",
      "doing something\n"
     ]
    }
   ],
   "source": [
    "from example_package.example import do_something\n",
    "do_something()"
   ]
  },
  {
   "cell_type": "markdown",
   "id": "b5ff2212-167b-4ba5-a0dd-50758f2de8eb",
   "metadata": {},
   "source": [
    "Don't forget to delete this test package to avoid creating rubbish."
   ]
  },
  {
   "cell_type": "code",
   "execution_count": 7,
   "id": "cce3d949-7bf7-4291-bd23-344be8525b2b",
   "metadata": {},
   "outputs": [
    {
     "name": "stdout",
     "output_type": "stream",
     "text": [
      "Found existing installation: example_package_FEDOR_KOBAK 0.0.4\n",
      "Uninstalling example_package_FEDOR_KOBAK-0.0.4:\n",
      "  Successfully uninstalled example_package_FEDOR_KOBAK-0.0.4\n"
     ]
    }
   ],
   "source": [
    "!pip3 uninstall -y example_package_FEDOR_KOBAK"
   ]
  }
 ],
 "metadata": {
  "kernelspec": {
   "display_name": "Python 3 (ipykernel)",
   "language": "python",
   "name": "python3"
  },
  "language_info": {
   "codemirror_mode": {
    "name": "ipython",
    "version": 3
   },
   "file_extension": ".py",
   "mimetype": "text/x-python",
   "name": "python",
   "nbconvert_exporter": "python",
   "pygments_lexer": "ipython3",
   "version": "3.10.12"
  }
 },
 "nbformat": 4,
 "nbformat_minor": 5
}