{
 "cells": [
  {
   "cell_type": "markdown",
   "id": "aa0f170e-918d-4add-a875-8c5ff61cee33",
   "metadata": {},
   "source": [
    "# Regression in torch"
   ]
  },
  {
   "cell_type": "code",
   "execution_count": 1,
   "id": "3150e567-419d-417b-8bb6-6e0fef6ddfef",
   "metadata": {},
   "outputs": [],
   "source": [
    "import torch\n",
    "from torch import nn, optim\n",
    "\n",
    "from torch.utils.data import TensorDataset, DataLoader"
   ]
  },
  {
   "cell_type": "markdown",
   "id": "1e52710e-ad90-4928-a422-a710a84f3d17",
   "metadata": {},
   "source": [
    "## Create network\n",
    "\n",
    "You need to create a network object that describes the sequence of transformations performed by the model under consideration."
   ]
  },
  {
   "cell_type": "code",
   "execution_count": 2,
   "id": "859eca77-79b0-4959-b056-b3c80904f019",
   "metadata": {},
   "outputs": [
    {
     "data": {
      "text/plain": [
       "Sequential(\n",
       "  (0): Linear(in_features=100, out_features=10, bias=True)\n",
       "  (1): ReLU()\n",
       "  (2): Linear(in_features=10, out_features=1, bias=True)\n",
       ")"
      ]
     },
     "execution_count": 2,
     "metadata": {},
     "output_type": "execute_result"
    }
   ],
   "source": [
    "net = nn.Sequential(\n",
    "    nn.Linear(in_features = 100, out_features = 10),\n",
    "    nn.ReLU(),\n",
    "    nn.Linear(in_features = 10, out_features = 1)\n",
    ")\n",
    "net"
   ]
  },
  {
   "cell_type": "markdown",
   "id": "2a764efe-2caa-405d-8dc6-79f6885ee58e",
   "metadata": {},
   "source": [
    "## Optimizer\n",
    "\n",
    "Is a special object that allows you to change the weights of the network to make it better."
   ]
  },
  {
   "cell_type": "code",
   "execution_count": 3,
   "id": "204c4ad6-9795-4dbe-8c3d-16342bd5dc62",
   "metadata": {},
   "outputs": [
    {
     "data": {
      "text/plain": [
       "Adam (\n",
       "Parameter Group 0\n",
       "    amsgrad: False\n",
       "    betas: (0.9, 0.999)\n",
       "    capturable: False\n",
       "    differentiable: False\n",
       "    eps: 1e-08\n",
       "    foreach: None\n",
       "    fused: None\n",
       "    lr: 0.001\n",
       "    maximize: False\n",
       "    weight_decay: 0\n",
       ")"
      ]
     },
     "execution_count": 3,
     "metadata": {},
     "output_type": "execute_result"
    }
   ],
   "source": [
    "optim.Adam(net.parameters())"
   ]
  },
  {
   "cell_type": "markdown",
   "id": "f20be923-5681-4dba-a86d-d1547d4ce9ef",
   "metadata": {},
   "source": [
    "## Loss\n",
    "\n",
    "In torch there are classes that implement loss functions."
   ]
  },
  {
   "cell_type": "code",
   "execution_count": 4,
   "id": "98dfd64b-098b-479a-b129-b0dde5ac560f",
   "metadata": {},
   "outputs": [
    {
     "data": {
      "text/plain": [
       "tensor(0.1757)"
      ]
     },
     "execution_count": 4,
     "metadata": {},
     "output_type": "execute_result"
    }
   ],
   "source": [
    "loss = nn.MSELoss()\n",
    "loss(torch.rand(100), torch.rand(100))"
   ]
  },
  {
   "cell_type": "markdown",
   "id": "bf623a81-f9e3-41e1-a945-ccf9d5fe23d5",
   "metadata": {},
   "source": [
    "## Dataset\n",
    "\n",
    "There are classes that implement a convenient way of organising your data sets. The advantage is that you just pass a sequence of tensors describing your objects and just by using the indexing syntax you can access any object you want."
   ]
  },
  {
   "cell_type": "code",
   "execution_count": 5,
   "id": "6a5b4382-b348-425e-b3d6-ed54fd49582a",
   "metadata": {},
   "outputs": [
    {
     "data": {
      "text/plain": [
       "(tensor([0.5017, 0.2694]),\n",
       " tensor([0.7112]),\n",
       " tensor([0.3316, 0.2062, 0.4393, 0.0639, 0.5028]))"
      ]
     },
     "execution_count": 5,
     "metadata": {},
     "output_type": "execute_result"
    }
   ],
   "source": [
    "dataset = TensorDataset(\n",
    "    torch.rand(100, 2), \n",
    "    torch.rand(100, 1), \n",
    "    torch.rand(100, 5)\n",
    ")\n",
    "dataset[5]"
   ]
  },
  {
   "cell_type": "markdown",
   "id": "03e8acc1-ca95-4cd8-aa8c-e52526242595",
   "metadata": {},
   "source": [
    "## Dataloader\n",
    "\n",
    "Object that implements the partitioning of the dataset into batches. You just pass the dataset object and the required batch size. By iterating on the gotten object you will get batches."
   ]
  },
  {
   "cell_type": "code",
   "execution_count": 6,
   "id": "018acba8-27b8-4e7e-b97d-2975df638164",
   "metadata": {},
   "outputs": [
    {
     "name": "stdout",
     "output_type": "stream",
     "text": [
      "tensor([[0.9273, 0.7325, 0.2644],\n",
      "        [0.8303, 0.4975, 0.5738]]) tensor([0.9972, 0.5394])\n",
      "tensor([[0.4124, 0.5600, 0.0088],\n",
      "        [0.5078, 0.0942, 0.3956]]) tensor([0.5644, 0.7418])\n",
      "tensor([[0.7397, 0.4297, 0.1283],\n",
      "        [0.0926, 0.3512, 0.6297]]) tensor([0.4397, 0.8969])\n",
      "tensor([[0.6764, 0.2055, 0.4628],\n",
      "        [0.3138, 0.7287, 0.8516]]) tensor([0.5232, 0.4896])\n",
      "tensor([[0.6208, 0.2415, 0.4725],\n",
      "        [0.4048, 0.2538, 0.6035]]) tensor([0.8369, 0.3332])\n"
     ]
    }
   ],
   "source": [
    "my_loader = DataLoader(\n",
    "    TensorDataset(\n",
    "        torch.rand(10, 3),\n",
    "        torch.rand(10)\n",
    "    ),\n",
    "    batch_size = 2\n",
    ")\n",
    "\n",
    "for a,b in my_loader:\n",
    "    print(a,b)"
   ]
  },
  {
   "cell_type": "markdown",
   "id": "bac6d590-c2ab-431f-9944-2175c74150ab",
   "metadata": {},
   "source": [
    "## Fit model\n",
    "\n",
    "Now lets combine all previous steps to show simple model fit."
   ]
  },
  {
   "cell_type": "markdown",
   "id": "4e5d132b-d1c9-46b2-9e35-f6b694a05b03",
   "metadata": {},
   "source": [
    "Sample generation."
   ]
  },
  {
   "cell_type": "code",
   "execution_count": 7,
   "id": "de68b728-6ce9-43a5-8e58-9ab2bb0af730",
   "metadata": {},
   "outputs": [],
   "source": [
    "n_features = 2\n",
    "n_objects = 300\n",
    "\n",
    "w_true = torch.randn(n_features)\n",
    "X = (torch.rand(n_objects, n_features) - 0.5) * 5\n",
    "Y = X @ w_true + torch.randn(n_objects) / 2"
   ]
  },
  {
   "cell_type": "markdown",
   "id": "ee66f02e-5dcb-4771-a0ce-5ae0a3cd3ebb",
   "metadata": {},
   "source": [
    "Fitting algorithm."
   ]
  },
  {
   "cell_type": "code",
   "execution_count": 8,
   "id": "b9c46d53-0b19-46c5-b40d-fae7a3a4d599",
   "metadata": {},
   "outputs": [
    {
     "name": "stdout",
     "output_type": "stream",
     "text": [
      "Loss path  1.58->0.94->1.17->0.52->0.39->0.23->0.34->0.34->0.22->0.24->0.29->0.33->0.43->0.2->0.42\n",
      "True weights  tensor([-0.7069, -0.2510])\n",
      "Estimated weights tensor([-0.9058, -0.2342], grad_fn=<SelectBackward0>)\n"
     ]
    }
   ],
   "source": [
    "data_loader = DataLoader(TensorDataset(X, Y), batch_size = 20)\n",
    "net = nn.Sequential(\n",
    "    nn.Linear(in_features = n_features, out_features = 1, bias = False)\n",
    ")\n",
    "optimizer = optim.Adam(net.parameters(), lr = 0.1)\n",
    "loss_fn = nn.MSELoss()\n",
    "loss_values = []\n",
    "\n",
    "for x, y in data_loader:\n",
    "    \n",
    "    optimizer.zero_grad()\n",
    "    # forward path\n",
    "    output = net(x)\n",
    "    # loss compution\n",
    "    loss_val = loss_fn(output.ravel(), y)\n",
    "    loss_values.append(loss_val.item())\n",
    "    # packward path\n",
    "    loss_val.backward()\n",
    "    optimizer.step()\n",
    "\n",
    "print(\"Loss path \", \"->\".join([str(round(val, 2)) for val in loss_values]))\n",
    "print(\"True weights \" , w_true)\n",
    "print(\"Estimated weights\", list(net.parameters())[0][0])"
   ]
  }
 ],
 "metadata": {
  "kernelspec": {
   "display_name": "Python 3 (ipykernel)",
   "language": "python",
   "name": "python3"
  },
  "language_info": {
   "codemirror_mode": {
    "name": "ipython",
    "version": 3
   },
   "file_extension": ".py",
   "mimetype": "text/x-python",
   "name": "python",
   "nbconvert_exporter": "python",
   "pygments_lexer": "ipython3",
   "version": "3.10.12"
  }
 },
 "nbformat": 4,
 "nbformat_minor": 5
}