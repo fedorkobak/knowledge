{
 "cells": [
  {
   "cell_type": "markdown",
   "id": "e0b2cf33-0d91-41e3-9157-368bac9347fe",
   "metadata": {},
   "source": [
    "# IPython magics\n",
    "\n",
    "A special expression in IPython that allows you to use some of the special features provided by IPython. There are two types of magics:\n",
    "\n",
    "- **One line** - begins with `%` and applies to the next expression;\n",
    "- **Whole cell** - begins with `%%` and applies to whole cell (you must use it in the first row of the cell.)."
   ]
  },
  {
   "cell_type": "markdown",
   "id": "250810e7-54e8-40a5-a2ce-376e51400498",
   "metadata": {},
   "source": [
    "## `%lsmagic`\n",
    "\n",
    "This command allows you to list available IPython magics"
   ]
  },
  {
   "cell_type": "code",
   "execution_count": 2,
   "id": "e0026c88-b3b4-4da1-81ab-545661af513c",
   "metadata": {},
   "outputs": [
    {
     "data": {
      "application/json": {
       "cell": {
        "!": "OSMagics",
        "HTML": "Other",
        "SVG": "Other",
        "bash": "Other",
        "capture": "ExecutionMagics",
        "debug": "ExecutionMagics",
        "file": "Other",
        "html": "DisplayMagics",
        "javascript": "DisplayMagics",
        "js": "DisplayMagics",
        "latex": "DisplayMagics",
        "markdown": "DisplayMagics",
        "perl": "Other",
        "prun": "ExecutionMagics",
        "pypy": "Other",
        "python": "Other",
        "python2": "Other",
        "python3": "Other",
        "ruby": "Other",
        "script": "ScriptMagics",
        "sh": "Other",
        "svg": "DisplayMagics",
        "sx": "OSMagics",
        "system": "OSMagics",
        "time": "ExecutionMagics",
        "timeit": "ExecutionMagics",
        "writefile": "OSMagics"
       },
       "line": {
        "alias": "OSMagics",
        "alias_magic": "BasicMagics",
        "autoawait": "AsyncMagics",
        "autocall": "AutoMagics",
        "automagic": "AutoMagics",
        "autosave": "KernelMagics",
        "bookmark": "OSMagics",
        "cat": "Other",
        "cd": "OSMagics",
        "clear": "KernelMagics",
        "colors": "BasicMagics",
        "conda": "PackagingMagics",
        "config": "ConfigMagics",
        "connect_info": "KernelMagics",
        "cp": "Other",
        "debug": "ExecutionMagics",
        "dhist": "OSMagics",
        "dirs": "OSMagics",
        "doctest_mode": "BasicMagics",
        "ed": "Other",
        "edit": "KernelMagics",
        "env": "OSMagics",
        "gui": "BasicMagics",
        "hist": "Other",
        "history": "HistoryMagics",
        "killbgscripts": "ScriptMagics",
        "ldir": "Other",
        "less": "KernelMagics",
        "lf": "Other",
        "lk": "Other",
        "ll": "Other",
        "load": "CodeMagics",
        "load_ext": "ExtensionMagics",
        "loadpy": "CodeMagics",
        "logoff": "LoggingMagics",
        "logon": "LoggingMagics",
        "logstart": "LoggingMagics",
        "logstate": "LoggingMagics",
        "logstop": "LoggingMagics",
        "ls": "Other",
        "lsmagic": "BasicMagics",
        "lx": "Other",
        "macro": "ExecutionMagics",
        "magic": "BasicMagics",
        "man": "KernelMagics",
        "matplotlib": "PylabMagics",
        "mkdir": "Other",
        "more": "KernelMagics",
        "mv": "Other",
        "notebook": "BasicMagics",
        "page": "BasicMagics",
        "pastebin": "CodeMagics",
        "pdb": "ExecutionMagics",
        "pdef": "NamespaceMagics",
        "pdoc": "NamespaceMagics",
        "pfile": "NamespaceMagics",
        "pinfo": "NamespaceMagics",
        "pinfo2": "NamespaceMagics",
        "pip": "PackagingMagics",
        "popd": "OSMagics",
        "pprint": "BasicMagics",
        "precision": "BasicMagics",
        "prun": "ExecutionMagics",
        "psearch": "NamespaceMagics",
        "psource": "NamespaceMagics",
        "pushd": "OSMagics",
        "pwd": "OSMagics",
        "pycat": "OSMagics",
        "pylab": "PylabMagics",
        "qtconsole": "KernelMagics",
        "quickref": "BasicMagics",
        "recall": "HistoryMagics",
        "rehashx": "OSMagics",
        "reload_ext": "ExtensionMagics",
        "rep": "Other",
        "rerun": "HistoryMagics",
        "reset": "NamespaceMagics",
        "reset_selective": "NamespaceMagics",
        "rm": "Other",
        "rmdir": "Other",
        "run": "ExecutionMagics",
        "save": "CodeMagics",
        "sc": "OSMagics",
        "set_env": "OSMagics",
        "store": "StoreMagics",
        "sx": "OSMagics",
        "system": "OSMagics",
        "tb": "ExecutionMagics",
        "time": "ExecutionMagics",
        "timeit": "ExecutionMagics",
        "unalias": "OSMagics",
        "unload_ext": "ExtensionMagics",
        "who": "NamespaceMagics",
        "who_ls": "NamespaceMagics",
        "whos": "NamespaceMagics",
        "xdel": "NamespaceMagics",
        "xmode": "BasicMagics"
       }
      },
      "text/plain": [
       "Available line magics:\n",
       "%alias  %alias_magic  %autoawait  %autocall  %automagic  %autosave  %bookmark  %cat  %cd  %clear  %colors  %conda  %config  %connect_info  %cp  %debug  %dhist  %dirs  %doctest_mode  %ed  %edit  %env  %gui  %hist  %history  %killbgscripts  %ldir  %less  %lf  %lk  %ll  %load  %load_ext  %loadpy  %logoff  %logon  %logstart  %logstate  %logstop  %ls  %lsmagic  %lx  %macro  %magic  %man  %matplotlib  %mkdir  %more  %mv  %notebook  %page  %pastebin  %pdb  %pdef  %pdoc  %pfile  %pinfo  %pinfo2  %pip  %popd  %pprint  %precision  %prun  %psearch  %psource  %pushd  %pwd  %pycat  %pylab  %qtconsole  %quickref  %recall  %rehashx  %reload_ext  %rep  %rerun  %reset  %reset_selective  %rm  %rmdir  %run  %save  %sc  %set_env  %store  %sx  %system  %tb  %time  %timeit  %unalias  %unload_ext  %who  %who_ls  %whos  %xdel  %xmode\n",
       "\n",
       "Available cell magics:\n",
       "%%!  %%HTML  %%SVG  %%bash  %%capture  %%debug  %%file  %%html  %%javascript  %%js  %%latex  %%markdown  %%perl  %%prun  %%pypy  %%python  %%python2  %%python3  %%ruby  %%script  %%sh  %%svg  %%sx  %%system  %%time  %%timeit  %%writefile\n",
       "\n",
       "Automagic is ON, % prefix IS NOT needed for line magics."
      ]
     },
     "execution_count": 2,
     "metadata": {},
     "output_type": "execute_result"
    }
   ],
   "source": [
    "%lsmagic"
   ]
  },
  {
   "cell_type": "markdown",
   "id": "066cf22c-2b01-4856-9bd9-fed455e6da3d",
   "metadata": {},
   "source": [
    "## `%time`\n",
    "\n",
    "Measures the time of execution of some expression."
   ]
  },
  {
   "cell_type": "markdown",
   "id": "d0dc189a-678c-48f7-a073-7745d84744d8",
   "metadata": {},
   "source": [
    "### Basic example\n",
    "\n",
    "Here I just have a function that runs a cycle with a given number of iterations, and show results for 10 and 500 iterations."
   ]
  },
  {
   "cell_type": "code",
   "execution_count": 7,
   "id": "33a37e9e-1881-4c66-9882-84754821cafa",
   "metadata": {},
   "outputs": [
    {
     "name": "stdout",
     "output_type": "stream",
     "text": [
      "=====10 iterations=====\n",
      "CPU times: user 2 µs, sys: 0 ns, total: 2 µs\n",
      "Wall time: 3.58 µs\n",
      "=====500 iterations=====\n",
      "CPU times: user 14 µs, sys: 2 µs, total: 16 µs\n",
      "Wall time: 16.7 µs\n"
     ]
    }
   ],
   "source": [
    "def some_computing(i_count):\n",
    "    for i in range(i_count): 5+5\n",
    "\n",
    "print(\"=====10 iterations=====\")\n",
    "%time some_computing(10)\n",
    "print(\"=====500 iterations=====\")\n",
    "%time some_computing(500)"
   ]
  },
  {
   "cell_type": "markdown",
   "id": "71a2fd1f-d191-46fc-9d47-381703d34158",
   "metadata": {},
   "source": [
    "### Metrics meaning\n",
    "\n",
    "- `CPU times` gives description of the duration by stage of execution:\n",
    "    - `user` user-side duration;\n",
    "    - `sys` system-side duration;\n",
    "    - `total` total duration of the calculation.\n",
    "- `Wall time` duration of the calculation with overhead resources (whatever they may be).\n",
    "\n",
    "**Note** Nowadays, I don't know exactly what the difference is between the user side and the system side - but you should learn Linux to find out."
   ]
  },
  {
   "cell_type": "markdown",
   "id": "efb68b38-5d25-4fc1-a30e-f06da2e975f3",
   "metadata": {},
   "source": [
    "## `%timeit`\n",
    "\n",
    "Estimates the execution time of a certain command over a series of runs.\n",
    "\n",
    "In the following example I have a function that runs a cycle with a given number of iterations, and show results for 10 and 500 iterations."
   ]
  },
  {
   "cell_type": "code",
   "execution_count": 1,
   "id": "f3c0b51e-a3eb-482b-9eaa-4be32f06ef29",
   "metadata": {},
   "outputs": [
    {
     "name": "stdout",
     "output_type": "stream",
     "text": [
      "=====10 iterations=====\n",
      "203 ns ± 6.87 ns per loop (mean ± std. dev. of 7 runs, 1,000,000 loops each)\n",
      "=====500 iterations=====\n",
      "5.88 µs ± 115 ns per loop (mean ± std. dev. of 7 runs, 100,000 loops each)\n"
     ]
    }
   ],
   "source": [
    "def some_computing(i_count):\n",
    "    for i in range(i_count): 5+5\n",
    "\n",
    "print(\"=====10 iterations=====\")\n",
    "%timeit some_computing(10)\n",
    "print(\"=====500 iterations=====\")\n",
    "%timeit some_computing(500)"
   ]
  },
  {
   "cell_type": "markdown",
   "id": "06e61ddc-9d3a-4bf0-91d8-7d23b0387beb",
   "metadata": {},
   "source": [
    "## `!` - system command\n",
    "\n",
    "You can access the environment you ran IPython from by simply adding `!` before the line. For linux/macOS this is usually terminal line for windows it is usually powerShall.\n",
    "\n",
    "In the following example, I ran the Linux `ls` command from Jupyter Cell."
   ]
  },
  {
   "cell_type": "code",
   "execution_count": 3,
   "id": "626da3d2-55cd-4ac0-86f0-261813e9521a",
   "metadata": {},
   "outputs": [
    {
     "name": "stdout",
     "output_type": "stream",
     "text": [
      "total 196\n",
      "-rwxrwxr-x 1 fedor fedor 34744 жні 26 20:36 basic_datatypes.ipynb\n",
      "drwxrwxr-x 2 fedor fedor  4096 жні 26 20:39 class_interface\n",
      "drwxrwxr-x 2 fedor fedor  4096 жні 26 20:39 class_spesials\n",
      "-rw-rw-r-- 1 fedor fedor 11496 жні 26 20:36 collections.ipynb\n",
      "drwxrwxr-x 2 fedor fedor  4096 жні 26 20:39 excel_export_files\n",
      "-rwxrwxr-x 1 fedor fedor  2109 жні 26 20:36 excel_export.ipynb\n",
      "-rwxrwxr-x 1 fedor fedor 14411 жні 26 20:36 exceptions.ipynb\n",
      "-rw-rw-r-- 1 fedor fedor  1696 жні 26 20:36 functions.ipynb\n",
      "drwxrwxr-x 4 fedor fedor  4096 жні 26 20:39 ipython_magics_files\n",
      "-rw-rw-r-- 1 fedor fedor 18796 жні 27 12:34 ipython_magics.ipynb\n",
      "drwxrwxr-x 2 fedor fedor  4096 жні 26 20:39 logging_files\n",
      "-rwxrwxr-x 1 fedor fedor 17750 жні 26 20:36 logging.ipynb\n",
      "-rwxrwxr-x 1 fedor fedor  5037 жні 26 20:36 multi_threads.ipynb\n",
      "drwxrwxr-x 2 fedor fedor  4096 жні 26 20:39 numpy\n",
      "drwxrwxr-x 2 fedor fedor  4096 жні 26 20:39 operators_files\n",
      "-rwxrwxr-x 1 fedor fedor 14722 жні 26 20:36 operators.ipynb\n",
      "-rwxrwxr-x 1 fedor fedor     0 жні 26 20:36 output.xlsx\n",
      "-rw-rw-r-- 1 fedor fedor  1448 жні 26 20:36 packages.ipynb\n",
      "drwxrwxr-x 2 fedor fedor  4096 жні 26 20:39 regex\n",
      "drwxrwxr-x 2 fedor fedor  4096 жні 26 20:39 tkinter\n",
      "drwxrwxr-x 2 fedor fedor  4096 жні 26 20:36 venv_files\n",
      "-rwxrwxr-x 1 fedor fedor 13168 жні 26 20:36 virtual_environment.ipynb\n"
     ]
    }
   ],
   "source": [
    "!ls -l"
   ]
  },
  {
   "cell_type": "markdown",
   "id": "70c40587-7d69-4fd6-9622-201a653d0c6b",
   "metadata": {},
   "source": [
    "## Specific code\n",
    "\n",
    "You can use some other codes in IPython just specifying them with magic `<code type>`. Next, I list some of the options available.\n",
    "\n",
    "**Note** looks like this magic is only available in whole cell mode."
   ]
  },
  {
   "cell_type": "markdown",
   "id": "5b1ba737-fcd8-48ef-a8fc-7ed30c45cde0",
   "metadata": {},
   "source": [
    "### bash"
   ]
  },
  {
   "cell_type": "code",
   "execution_count": 13,
   "id": "bc3a1279-ae6c-4133-abf7-9b81d26e2434",
   "metadata": {},
   "outputs": [
    {
     "name": "stdout",
     "output_type": "stream",
     "text": [
      "total 16\n",
      "-rw-rw-r-- 1 fedor fedor 4127 жні 26 18:40 magic_commands.ipynb\n",
      "drwxrwxr-x 3 fedor fedor 4096 жні 25 15:10 nbconvert\n",
      "drwxrwxr-x 4 fedor fedor 4096 жні 25 15:10 voila_vs_nbconvert_saving_html\n"
     ]
    }
   ],
   "source": [
    "%%bash\n",
    "ls -l"
   ]
  },
  {
   "cell_type": "markdown",
   "id": "cfe680f3-6583-4add-887d-733f51b100ca",
   "metadata": {},
   "source": [
    "### HTML"
   ]
  },
  {
   "cell_type": "code",
   "execution_count": 11,
   "id": "100c7adf-22af-4df6-a0b0-d7eb684bf0ab",
   "metadata": {},
   "outputs": [
    {
     "data": {
      "text/html": [
       "<button>Button as HTML element</button>\n"
      ],
      "text/plain": [
       "<IPython.core.display.HTML object>"
      ]
     },
     "metadata": {},
     "output_type": "display_data"
    }
   ],
   "source": [
    "%%HTML\n",
    "<button>Button as HTML element</button>"
   ]
  },
  {
   "cell_type": "markdown",
   "id": "faa999ce-8422-4fdb-a367-565de9797e0a",
   "metadata": {},
   "source": [
    "## `%load_ext`\n",
    "\n",
    "Allows you to load extentions of IPython. <a href=\"https://ipython.readthedocs.io/en/stable/config/extensions/index.html\"> Learn more<a/>. Looks like that's a topic for another page, but for now I'll just mention a few extensions that I use."
   ]
  },
  {
   "cell_type": "markdown",
   "id": "1b3c8e49-4961-40e7-a055-19cfd47dd53a",
   "metadata": {},
   "source": [
    "### `autoreload`\n",
    "\n",
    "By default, IPython will only read imported modules when their `import` is mentioned for the first time. But this option allows you to set some specific rules for importing modules. <a href=\"https://ipython.readthedocs.io/en/stable/config/extensions/autoreload.html\">Official documentation</a>.\n",
    "\n",
    "In essence this extension doles out two magic `%autoreload` and `%aimport`:\n",
    "\n",
    "- `%autoreload` - specifies the import mode;\n",
    "- `%aimport` - sets exceptions for `%autoreload` if they are provided by the current mode.\n",
    "\n",
    "**Note** look like you should use the full path to the files if you want to mention them for `%aimport`."
   ]
  },
  {
   "cell_type": "markdown",
   "id": "d31720be-2dda-4bfd-98dd-f89437789516",
   "metadata": {},
   "source": [
    "#### `%autoreload 1/explicit`\n",
    "\n",
    "Before executing a cell, only modules mentioned with `%aimport` will be reloaded.\n",
    "\n",
    "In the following example I:\n",
    "\n",
    "- Create two files `fun<i>` $i \\in {1,2}$, each containing only one function that returns a line like `\"Original line from fun<i>.py\"`;\n",
    "- Import them using the `%autoreload explicit` magic and mentioning `fun1` in `%aimport`.\n",
    "- Call them, and got obvious result - `Original line from fun<i>.py`;\n",
    "- Then change both functions to return `New line from fun<i>.py`;\n",
    "- Call the functions again:\n",
    "    - Function from `fun1` has changed the line;\n",
    "    - Function from `fun2` still has the word `Original` at the beginning (because it was mentioned in `%aimport` as module to me reloaded)."
   ]
  },
  {
   "cell_type": "code",
   "execution_count": 1,
   "id": "de737d1c-2db3-4b00-b054-6bbf590b8d4f",
   "metadata": {},
   "outputs": [],
   "source": [
    "%%bash\n",
    "cat > ipython_magics_files/fun1.py << EOF\n",
    "def return_line():\n",
    "    return \"Original line from fun1.py\"\n",
    "EOF\n",
    "cat > ipython_magics_files/fun2.py << EOF\n",
    "def return_line():\n",
    "    return \"Original line from fun2.py\"\n",
    "EOF"
   ]
  },
  {
   "cell_type": "code",
   "execution_count": 2,
   "id": "d658223c-120d-45b3-9594-cd8a2a48c28e",
   "metadata": {},
   "outputs": [
    {
     "name": "stdout",
     "output_type": "stream",
     "text": [
      "Original line from fun1.py\n",
      "Original line from fun2.py\n"
     ]
    }
   ],
   "source": [
    "%load_ext autoreload\n",
    "%autoreload explicit\n",
    "from ipython_magics_files import fun1, fun2\n",
    "%aimport ipython_magics_files.fun1\n",
    "\n",
    "print(fun1.return_line())\n",
    "print(fun2.return_line())"
   ]
  },
  {
   "cell_type": "code",
   "execution_count": 3,
   "id": "e8ed9fa8-ebdd-4478-88cb-547ab519b42b",
   "metadata": {},
   "outputs": [],
   "source": [
    "%%bash\n",
    "cat > ipython_magics_files/fun1.py << EOF\n",
    "def return_line():\n",
    "    return \"New line from fun1.py\"\n",
    "EOF\n",
    "cat > ipython_magics_files/fun2.py << EOF\n",
    "def return_line():\n",
    "    return \"New line from fun2.py\"\n",
    "EOF"
   ]
  },
  {
   "cell_type": "code",
   "execution_count": 4,
   "id": "463f24cd-68e4-45b6-9a7d-9818226d6cc1",
   "metadata": {},
   "outputs": [
    {
     "name": "stdout",
     "output_type": "stream",
     "text": [
      "New line from fun1.py\n",
      "Original line from fun2.py\n"
     ]
    }
   ],
   "source": [
    "print(fun1.return_line())\n",
    "print(fun2.return_line())"
   ]
  },
  {
   "cell_type": "markdown",
   "id": "6ae1cc2a-e01e-4c4e-96cf-cac33291330e",
   "metadata": {},
   "source": [
    "#### `%autoreload 2/all`\n",
    "\n",
    "It's the most common mode for me - reload all modules before running any cell except those mentioned in `%aimport`.\n",
    "\n",
    "If you want to exclude some modules from reimport, you should use `%aimport -<module name>` (the \"-\" symbol is crucial here).\n",
    "\n",
    "In the following example I:\n",
    "\n",
    "- Create two files `fun<i>` $i \\in {1,2}$, each containing only one function that returns a line like `\"Original line from fun<i>.py\"`;\n",
    "- Import them using the `%autoreload all` magic and mentioning `fun2` in `%aimport`.\n",
    "- Call them, and got obvious result - `Original line from fun<i>.py`;\n",
    "- Then change both functions to return `New line from fun<i>.py`;\n",
    "- Call the functions again:\n",
    "    - Function from `fun1` has changed the line;\n",
    "    - Function from `fun2` still has the word `Original` at the beginning (because it was mentioned in `%aimport` as an exclusion)."
   ]
  },
  {
   "cell_type": "code",
   "execution_count": 1,
   "id": "02bc9b99-18dd-46e4-917c-221c2c13597d",
   "metadata": {},
   "outputs": [],
   "source": [
    "%%bash\n",
    "cat > ipython_magics_files/fun1.py << EOF\n",
    "def return_line():\n",
    "    return \"Original line from fun1.py\"\n",
    "EOF\n",
    "cat > ipython_magics_files/fun2.py << EOF\n",
    "def return_line():\n",
    "    return \"Original line from fun2.py\"\n",
    "EOF"
   ]
  },
  {
   "cell_type": "code",
   "execution_count": 2,
   "id": "cadc758f-ecd5-462a-a2ff-0b0b0fe2fac0",
   "metadata": {},
   "outputs": [
    {
     "name": "stdout",
     "output_type": "stream",
     "text": [
      "Original line from fun1.py\n",
      "Original line from fun2.py\n"
     ]
    }
   ],
   "source": [
    "%load_ext autoreload\n",
    "%autoreload all\n",
    "\n",
    "from ipython_magics_files import fun1, fun2\n",
    "%aimport -ipython_magics_files.fun2\n",
    "print(fun1.return_line())\n",
    "print(fun2.return_line())"
   ]
  },
  {
   "cell_type": "code",
   "execution_count": 3,
   "id": "920c5c79-befc-4a3b-9553-fc13576db30a",
   "metadata": {},
   "outputs": [],
   "source": [
    "%%bash\n",
    "cat > ipython_magics_files/fun1.py << EOF\n",
    "def return_line():\n",
    "    return \"New line from fun1.py\"\n",
    "EOF\n",
    "cat > ipython_magics_files/fun2.py << EOF\n",
    "def return_line():\n",
    "    return \"New line from fun2.py\"\n",
    "EOF"
   ]
  },
  {
   "cell_type": "code",
   "execution_count": 4,
   "id": "83045163-545f-423a-a7f8-41c8c08058cd",
   "metadata": {},
   "outputs": [
    {
     "name": "stdout",
     "output_type": "stream",
     "text": [
      "New line from fun1.py\n",
      "Original line from fun2.py\n"
     ]
    }
   ],
   "source": [
    "print(fun1.return_line())\n",
    "print(fun2.return_line())"
   ]
  },
  {
   "cell_type": "markdown",
   "id": "8f9310ca-8cbe-4f47-9148-f84af2aac51c",
   "metadata": {},
   "source": [
    "## `%%writefile`\n",
    "\n",
    "This is the magic that allows you to save the contents of the cell to a file. You need to use the syntax `%%writefile <directory>` in the first line of the cell to save it in the `<directory>`.\n",
    "\n",
    "All code cells in this section are the same example and should be run one by one."
   ]
  },
  {
   "cell_type": "markdown",
   "id": "17424cea-a98d-42f5-abee-db72f7691538",
   "metadata": {},
   "source": [
    "A new folder has been created here. The `ls` command confirms that it's empty."
   ]
  },
  {
   "cell_type": "code",
   "execution_count": 8,
   "id": "32953c77-e144-44e5-b517-129e7be55dff",
   "metadata": {},
   "outputs": [],
   "source": [
    "%%bash\n",
    "mkdir ipython_magics_files/writefile_files\n",
    "ls ipython_magics_files/writefile_files"
   ]
  },
  {
   "cell_type": "markdown",
   "id": "d9dbf3ab-34ae-47f9-b0b0-ed55adbee457",
   "metadata": {},
   "source": [
    "Using `%%writefile` to a non-existent file."
   ]
  },
  {
   "cell_type": "code",
   "execution_count": 9,
   "id": "6b377057-64a8-4192-bff9-add9f9727c65",
   "metadata": {},
   "outputs": [
    {
     "name": "stdout",
     "output_type": "stream",
     "text": [
      "Writing ipython_magics_files/writefile_files/writefile\n"
     ]
    }
   ],
   "source": [
    "%%writefile ipython_magics_files/writefile_files/writefile\n",
    "this is the file from the cell"
   ]
  },
  {
   "cell_type": "markdown",
   "id": "71026180-2210-4af3-b3a9-245bdf8feb9a",
   "metadata": {},
   "source": [
    "Verify that the file has been created and contains the content specified in the previous cell."
   ]
  },
  {
   "cell_type": "code",
   "execution_count": 10,
   "id": "9e223d8a-a58c-44dc-aaa9-96389fa74871",
   "metadata": {},
   "outputs": [
    {
     "name": "stdout",
     "output_type": "stream",
     "text": [
      "=====files=====\n",
      "writefile\n",
      "=====content=====\n",
      "this is the file from the cell\n"
     ]
    }
   ],
   "source": [
    "%%bash \n",
    "echo \"=====files=====\"\n",
    "ls ipython_magics_files/writefile_files\n",
    "echo \"=====content=====\"\n",
    "cat ipython_magics_files/writefile_files/writefile"
   ]
  },
  {
   "cell_type": "markdown",
   "id": "584dd7a0-bea2-4f26-9a33-8e15b2d56683",
   "metadata": {},
   "source": [
    "Now let's try using the same file, but for a different cell. The message `Overwriting ...` indicates that the content will be completely replaced."
   ]
  },
  {
   "cell_type": "code",
   "execution_count": 11,
   "id": "32414c60-0f79-49a0-bfdc-c53fa5b9f870",
   "metadata": {},
   "outputs": [
    {
     "name": "stdout",
     "output_type": "stream",
     "text": [
      "Overwriting ipython_magics_files/writefile_files/writefile\n"
     ]
    }
   ],
   "source": [
    "%%writefile ipython_magics_files/writefile_files/writefile\n",
    "some other message for another cell"
   ]
  },
  {
   "cell_type": "markdown",
   "id": "36739f8b-f545-41a5-a37d-df2ceeba5b41",
   "metadata": {},
   "source": [
    "Make sure that the contents of the file are from the last cell."
   ]
  },
  {
   "cell_type": "code",
   "execution_count": 12,
   "id": "27fd42b0-3864-445c-92a7-c63ba9dfbbb6",
   "metadata": {},
   "outputs": [
    {
     "name": "stdout",
     "output_type": "stream",
     "text": [
      "some other message for another cell\n"
     ]
    }
   ],
   "source": [
    "%%bash\n",
    "cat ipython_magics_files/writefile_files/writefile"
   ]
  },
  {
   "cell_type": "markdown",
   "id": "b10685a7-dae3-4739-b28e-f6eb2fb8744f",
   "metadata": {},
   "source": [
    "Finally delete the folder so that the content remains fully playable."
   ]
  },
  {
   "cell_type": "code",
   "execution_count": 13,
   "id": "5a68b942-76ad-4bde-a961-70994cedbd3c",
   "metadata": {},
   "outputs": [],
   "source": [
    "%%bash\n",
    "rm -r ipython_magics_files/writefile_files/"
   ]
  }
 ],
 "metadata": {
  "kernelspec": {
   "display_name": "Python 3 (ipykernel)",
   "language": "python",
   "name": "python3"
  },
  "language_info": {
   "codemirror_mode": {
    "name": "ipython",
    "version": 3
   },
   "file_extension": ".py",
   "mimetype": "text/x-python",
   "name": "python",
   "nbconvert_exporter": "python",
   "pygments_lexer": "ipython3",
   "version": "3.10.6"
  }
 },
 "nbformat": 4,
 "nbformat_minor": 5
}