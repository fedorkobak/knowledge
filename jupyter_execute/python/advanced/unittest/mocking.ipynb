{
 "cells": [
  {
   "cell_type": "markdown",
   "id": "ee758633-c244-42bd-b31a-3d2df9e60d32",
   "metadata": {},
   "source": [
    "# Mocking\n",
    "\n",
    "Sometimes our programmes depend on external circumstances, but during unit testing we shouldn't worry about whether they work. And only test our code. So there are ways to change the behaviour of functions called in the programs being tested, to make it convenient for us to do the testing."
   ]
  },
  {
   "cell_type": "markdown",
   "id": "060e0257-e89e-4eac-9ef4-ea61316721b5",
   "metadata": {},
   "source": [
    "## Use case\n",
    "\n",
    "It's a bit of an advanced concept, so for better understanding the content of this page starts with the user case. This will help you understand why this slightly tricky option can be so useful. The following sections provide more detailed experiments with specific functions of mocking in tests."
   ]
  },
  {
   "cell_type": "markdown",
   "id": "b9cf71b7-f6c9-45dd-8d92-d3eaa131bed9",
   "metadata": {},
   "source": [
    "Suppose you have service that answers some information about user. Just like the function in the next cell:"
   ]
  },
  {
   "cell_type": "code",
   "execution_count": 13,
   "id": "7bbbeeac-0158-44d7-b46d-c7f01ff6db79",
   "metadata": {},
   "outputs": [
    {
     "name": "stdout",
     "output_type": "stream",
     "text": [
      "Overwriting mocking_files/request_user.py\n"
     ]
    }
   ],
   "source": [
    "%%writefile mocking_files/request_user.py\n",
    "import requests\n",
    "\n",
    "def request_user(user_id):\n",
    "    response = requests.get(f\"https://im_not_exist/{user_id}\")\n",
    "    if response.ok:\n",
    "        return response.text\n",
    "    else:\n",
    "        return \"Fail!\""
   ]
  },
  {
   "cell_type": "markdown",
   "id": "71d33c2c-d141-4f67-afde-eb35cdee85f0",
   "metadata": {},
   "source": [
    "Now we have to test this code. But you don't need to rely on any particular service in your tests, and you know that the requesting function under consideration uses `requests.get` to access information about the user from the service. So the best option for you here is to mock the `requests.get` function. So for test you change it behaviour in benificial for you way.\n",
    "\n",
    "To do this, use the following syntax `unittest.mock.patch(\"<module under tests>.<name of the function to mock>\")` as an object for the context manager. You must specify a module to change the behaviour of the function for that module only.\n",
    "\n",
    "So such an option is implemented in the following cell. We've replaced the request.get function in the `request_user` module for test purposes. And check with which arguments it was called with and specify the properties of its output for particular case."
   ]
  },
  {
   "cell_type": "code",
   "execution_count": 22,
   "id": "c60c2561-4ef3-44ff-a5d0-0e51bcb6caf7",
   "metadata": {},
   "outputs": [
    {
     "name": "stdout",
     "output_type": "stream",
     "text": [
      "Overwriting mocking_files/test_request_user.py\n"
     ]
    }
   ],
   "source": [
    "%%writefile mocking_files/test_request_user.py\n",
    "import unittest\n",
    "from unittest.mock import patch\n",
    "from request_user import request_user\n",
    "\n",
    "class TestUserReques(unittest.TestCase):\n",
    "    \n",
    "    def test_success_case(self):\n",
    "        '''\n",
    "        Sucessfull case. Suppose we got nice\n",
    "        repsonse from requests.get in request_user function.\n",
    "        '''\n",
    "        with patch(\"request_user.requests.get\") as mocked_get:\n",
    "            # set that output of the request_user.requests.get\n",
    "            # will have properties `ok == True` `text==\"Success`\n",
    "            mocked_get.return_value.ok = True\n",
    "            mocked_get.return_value.text = \"Success\"\n",
    "            \n",
    "            response = request_user(\"Fedor\")\n",
    "            # request_user should have called `get` with specific url\n",
    "            mocked_get.assert_called_with(\"https://im_not_exist/Fedor\")\n",
    "            # and \"text\" property have to be just like we specified\n",
    "            self.assertEqual(response, \"Success\")\n",
    "\n",
    "    def test_fail_case(self):\n",
    "        '''\n",
    "        Fail case. Suppose we got bad response\n",
    "        from requests.get in the request_user function.\n",
    "        '''\n",
    "        with patch(\"request_user.requests.get\") as mocked_get:\n",
    "            # set that output of the request_user.requests.get\n",
    "            # will have properties `ok == False` `text==\"Success`\n",
    "            # actually we don't really care wich exactly value\n",
    "            # does text property have but unsver from always\n",
    "            # have to be \"Fail!\"\n",
    "            mocked_get.return_value.ok = False\n",
    "            mocked_get.return_value.text = \"Success\"\n",
    "            \n",
    "            response = request_user(\"Ekaterina\")\n",
    "            # request_user should have called `get` with specific url\n",
    "            mocked_get.assert_called_with(\"https://im_not_exist/Ekaterina\")\n",
    "            # but answer anyway have to be \"Fail!\" \n",
    "            self.assertEqual(response, \"Fail!\")"
   ]
  },
  {
   "cell_type": "markdown",
   "id": "86cd1f21-df2a-4c83-811f-18fdf0544ba5",
   "metadata": {},
   "source": [
    "Now lets try to excute just written test:"
   ]
  },
  {
   "cell_type": "code",
   "execution_count": 23,
   "id": "45b04d0f-65fb-4d05-b5b5-52eb7acabef5",
   "metadata": {},
   "outputs": [
    {
     "name": "stderr",
     "output_type": "stream",
     "text": [
      "..\n",
      "----------------------------------------------------------------------\n",
      "Ran 2 tests in 0.001s\n",
      "\n",
      "OK\n"
     ]
    }
   ],
   "source": [
    "%%bash\n",
    "cd mocking_files\n",
    "python3 -m unittest test_request_user"
   ]
  },
  {
   "cell_type": "markdown",
   "id": "440d4d01-7725-47ea-875f-8af2ee3ba7b1",
   "metadata": {},
   "source": [
    "## Called with"
   ]
  },
  {
   "cell_type": "markdown",
   "id": "75116f6b-7f50-4f29-9723-1871fa1619b7",
   "metadata": {},
   "source": [
    "If you need to check which arguments were passed to the mocked function, you can use the `assert_called_with(<supposed arguments>)` method of the patch object.\n",
    "\n",
    "Lets test it on really basic python function `sum`. In the following cell we have just defined wrapper for it."
   ]
  },
  {
   "cell_type": "code",
   "execution_count": 2,
   "id": "e168f405-9421-4a9c-9a16-117c206d2632",
   "metadata": {},
   "outputs": [
    {
     "name": "stdout",
     "output_type": "stream",
     "text": [
      "Overwriting mocking_files/called_with.py\n"
     ]
    }
   ],
   "source": [
    "%%writefile mocking_files/called_with.py\n",
    "def sum_wrapper(numbers):\n",
    "    return sum(numbers)"
   ]
  },
  {
   "cell_type": "markdown",
   "id": "43177bf0-4df0-4c2c-b33b-f75ed4e23e81",
   "metadata": {},
   "source": [
    "Tests will mock `sum` funtion. In both tests to `sum_wrapper` was passed `[1,2,3]` list. But in second case we use `[1,2,5]` in `assert_called_with`."
   ]
  },
  {
   "cell_type": "code",
   "execution_count": 1,
   "id": "13d1aa9e-c9c5-427d-bb28-468377657992",
   "metadata": {},
   "outputs": [
    {
     "name": "stdout",
     "output_type": "stream",
     "text": [
      "Overwriting mocking_files/test_called_with.py\n"
     ]
    }
   ],
   "source": [
    "%%writefile mocking_files/test_called_with.py\n",
    "import unittest\n",
    "from unittest.mock import patch\n",
    "from called_with import sum_wrapper\n",
    "\n",
    "class TestCalledWiht(unittest.TestCase):\n",
    "    def test_ok(self):\n",
    "        with patch(\"called_with.sum\") as mocked_sum:\n",
    "            sum_wrapper([1,2,3])\n",
    "            mocked_sum.assert_called_with([1,2,3])\n",
    "\n",
    "    def test_fail(self):\n",
    "        with patch(\"called_with.sum\") as mocked_sum:\n",
    "            sum_wrapper([1,2,3])\n",
    "            mocked_sum.assert_called_with([1,2,5])            "
   ]
  },
  {
   "cell_type": "markdown",
   "id": "b2d37ec3-4d6f-4765-a349-a69af1deb3d3",
   "metadata": {},
   "source": [
    "Finally let's run written test. So one test passed successfully because the supposed argument in `assert_called_with` matches the argument passed to `sum`. But in the second case we got \"Fail\" because it doesn't."
   ]
  },
  {
   "cell_type": "code",
   "execution_count": 3,
   "id": "631f8c0b-b43e-47c1-89d4-7886763d23a3",
   "metadata": {},
   "outputs": [
    {
     "name": "stderr",
     "output_type": "stream",
     "text": [
      "F.\n",
      "======================================================================\n",
      "FAIL: test_fail (test_called_with.TestCalledWiht)\n",
      "----------------------------------------------------------------------\n",
      "Traceback (most recent call last):\n",
      "  File \"/home/fedor/Documents/knowledge/python/advanced/unittest/mocking_files/test_called_with.py\", line 14, in test_fail\n",
      "    mocked_sum.assert_called_with([1,2,3])\n",
      "  File \"/usr/lib/python3.10/unittest/mock.py\", line 929, in assert_called_with\n",
      "    raise AssertionError(_error_message()) from cause\n",
      "AssertionError: expected call not found.\n",
      "Expected: sum([1, 2, 3])\n",
      "Actual: sum([1, 2, 5])\n",
      "\n",
      "----------------------------------------------------------------------\n",
      "Ran 2 tests in 0.003s\n",
      "\n",
      "FAILED (failures=1)\n"
     ]
    },
    {
     "ename": "CalledProcessError",
     "evalue": "Command 'b'cd mocking_files\\npython3 -m unittest test_called_with\\n'' returned non-zero exit status 1.",
     "output_type": "error",
     "traceback": [
      "\u001b[0;31m---------------------------------------------------------------------------\u001b[0m",
      "\u001b[0;31mCalledProcessError\u001b[0m                        Traceback (most recent call last)",
      "Cell \u001b[0;32mIn[3], line 1\u001b[0m\n\u001b[0;32m----> 1\u001b[0m \u001b[43mget_ipython\u001b[49m\u001b[43m(\u001b[49m\u001b[43m)\u001b[49m\u001b[38;5;241;43m.\u001b[39;49m\u001b[43mrun_cell_magic\u001b[49m\u001b[43m(\u001b[49m\u001b[38;5;124;43m'\u001b[39;49m\u001b[38;5;124;43mbash\u001b[39;49m\u001b[38;5;124;43m'\u001b[39;49m\u001b[43m,\u001b[49m\u001b[43m \u001b[49m\u001b[38;5;124;43m'\u001b[39;49m\u001b[38;5;124;43m'\u001b[39;49m\u001b[43m,\u001b[49m\u001b[43m \u001b[49m\u001b[38;5;124;43m'\u001b[39;49m\u001b[38;5;124;43mcd mocking_files\u001b[39;49m\u001b[38;5;130;43;01m\\n\u001b[39;49;00m\u001b[38;5;124;43mpython3 -m unittest test_called_with\u001b[39;49m\u001b[38;5;130;43;01m\\n\u001b[39;49;00m\u001b[38;5;124;43m'\u001b[39;49m\u001b[43m)\u001b[49m\n",
      "File \u001b[0;32m~/.local/lib/python3.10/site-packages/IPython/core/interactiveshell.py:2430\u001b[0m, in \u001b[0;36mInteractiveShell.run_cell_magic\u001b[0;34m(self, magic_name, line, cell)\u001b[0m\n\u001b[1;32m   2428\u001b[0m \u001b[38;5;28;01mwith\u001b[39;00m \u001b[38;5;28mself\u001b[39m\u001b[38;5;241m.\u001b[39mbuiltin_trap:\n\u001b[1;32m   2429\u001b[0m     args \u001b[38;5;241m=\u001b[39m (magic_arg_s, cell)\n\u001b[0;32m-> 2430\u001b[0m     result \u001b[38;5;241m=\u001b[39m \u001b[43mfn\u001b[49m\u001b[43m(\u001b[49m\u001b[38;5;241;43m*\u001b[39;49m\u001b[43margs\u001b[49m\u001b[43m,\u001b[49m\u001b[43m \u001b[49m\u001b[38;5;241;43m*\u001b[39;49m\u001b[38;5;241;43m*\u001b[39;49m\u001b[43mkwargs\u001b[49m\u001b[43m)\u001b[49m\n\u001b[1;32m   2432\u001b[0m \u001b[38;5;66;03m# The code below prevents the output from being displayed\u001b[39;00m\n\u001b[1;32m   2433\u001b[0m \u001b[38;5;66;03m# when using magics with decodator @output_can_be_silenced\u001b[39;00m\n\u001b[1;32m   2434\u001b[0m \u001b[38;5;66;03m# when the last Python token in the expression is a ';'.\u001b[39;00m\n\u001b[1;32m   2435\u001b[0m \u001b[38;5;28;01mif\u001b[39;00m \u001b[38;5;28mgetattr\u001b[39m(fn, magic\u001b[38;5;241m.\u001b[39mMAGIC_OUTPUT_CAN_BE_SILENCED, \u001b[38;5;28;01mFalse\u001b[39;00m):\n",
      "File \u001b[0;32m~/.local/lib/python3.10/site-packages/IPython/core/magics/script.py:153\u001b[0m, in \u001b[0;36mScriptMagics._make_script_magic.<locals>.named_script_magic\u001b[0;34m(line, cell)\u001b[0m\n\u001b[1;32m    151\u001b[0m \u001b[38;5;28;01melse\u001b[39;00m:\n\u001b[1;32m    152\u001b[0m     line \u001b[38;5;241m=\u001b[39m script\n\u001b[0;32m--> 153\u001b[0m \u001b[38;5;28;01mreturn\u001b[39;00m \u001b[38;5;28;43mself\u001b[39;49m\u001b[38;5;241;43m.\u001b[39;49m\u001b[43mshebang\u001b[49m\u001b[43m(\u001b[49m\u001b[43mline\u001b[49m\u001b[43m,\u001b[49m\u001b[43m \u001b[49m\u001b[43mcell\u001b[49m\u001b[43m)\u001b[49m\n",
      "File \u001b[0;32m~/.local/lib/python3.10/site-packages/IPython/core/magics/script.py:305\u001b[0m, in \u001b[0;36mScriptMagics.shebang\u001b[0;34m(self, line, cell)\u001b[0m\n\u001b[1;32m    300\u001b[0m \u001b[38;5;28;01mif\u001b[39;00m args\u001b[38;5;241m.\u001b[39mraise_error \u001b[38;5;129;01mand\u001b[39;00m p\u001b[38;5;241m.\u001b[39mreturncode \u001b[38;5;241m!=\u001b[39m \u001b[38;5;241m0\u001b[39m:\n\u001b[1;32m    301\u001b[0m     \u001b[38;5;66;03m# If we get here and p.returncode is still None, we must have\u001b[39;00m\n\u001b[1;32m    302\u001b[0m     \u001b[38;5;66;03m# killed it but not yet seen its return code. We don't wait for it,\u001b[39;00m\n\u001b[1;32m    303\u001b[0m     \u001b[38;5;66;03m# in case it's stuck in uninterruptible sleep. -9 = SIGKILL\u001b[39;00m\n\u001b[1;32m    304\u001b[0m     rc \u001b[38;5;241m=\u001b[39m p\u001b[38;5;241m.\u001b[39mreturncode \u001b[38;5;129;01mor\u001b[39;00m \u001b[38;5;241m-\u001b[39m\u001b[38;5;241m9\u001b[39m\n\u001b[0;32m--> 305\u001b[0m     \u001b[38;5;28;01mraise\u001b[39;00m CalledProcessError(rc, cell)\n",
      "\u001b[0;31mCalledProcessError\u001b[0m: Command 'b'cd mocking_files\\npython3 -m unittest test_called_with\\n'' returned non-zero exit status 1."
     ]
    }
   ],
   "source": [
    "%%bash\n",
    "cd mocking_files\n",
    "python3 -m unittest test_called_with"
   ]
  }
 ],
 "metadata": {
  "kernelspec": {
   "display_name": "Python 3 (ipykernel)",
   "language": "python",
   "name": "python3"
  },
  "language_info": {
   "codemirror_mode": {
    "name": "ipython",
    "version": 3
   },
   "file_extension": ".py",
   "mimetype": "text/x-python",
   "name": "python",
   "nbconvert_exporter": "python",
   "pygments_lexer": "ipython3",
   "version": "3.10.12"
  }
 },
 "nbformat": 4,
 "nbformat_minor": 5
}