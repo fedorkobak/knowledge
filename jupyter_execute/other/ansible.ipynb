{
 "cells": [
  {
   "cell_type": "markdown",
   "metadata": {},
   "source": [
    "# Ansible\n",
    "\n",
    "[Ansible](https://docs.ansible.com/) is a tool that allows you to automate some common operations on a set of hosts."
   ]
  },
  {
   "cell_type": "markdown",
   "metadata": {},
   "source": [
    "There is separate section for description how to setup sandbox that I'll use to exeperiment with ansible. Check [particular page](ansible/setup.ipynb) for detail just use forllowing command to start the ansible sandbox:"
   ]
  },
  {
   "cell_type": "code",
   "execution_count": 4,
   "metadata": {
    "vscode": {
     "languageId": "shellscript"
    }
   },
   "outputs": [],
   "source": [
    "docker compose -f ansible/setup_files/compose.yml up -d &> /dev/null"
   ]
  },
  {
   "cell_type": "markdown",
   "metadata": {},
   "source": [
    "**Note** don't forget to down project after all."
   ]
  },
  {
   "cell_type": "code",
   "execution_count": null,
   "metadata": {
    "vscode": {
     "languageId": "shellscript"
    }
   },
   "outputs": [],
   "source": [
    "docker compose -f ansible/setup_files/compose.yml down --volumes &> /dev/null"
   ]
  },
  {
   "cell_type": "markdown",
   "metadata": {},
   "source": [
    "## Run command\n",
    "\n",
    "The `ansible.builtin.command` extension allows you to run commands in the shell of the inventory hosts."
   ]
  },
  {
   "cell_type": "markdown",
   "metadata": {},
   "source": [
    "---\n",
    "\n",
    "As an example, consider the playbook defined in the following cell. This playbook specifies a job that will write some text into the `test_file` on the control node."
   ]
  },
  {
   "cell_type": "code",
   "execution_count": null,
   "metadata": {
    "vscode": {
     "languageId": "shellscript"
    }
   },
   "outputs": [],
   "source": [
    "docker exec control_node sh -c  \"\n",
    "cat << EOF > playbook.yaml\n",
    "- name: Run example\n",
    "  hosts: myhosts\n",
    "  tasks:\n",
    "   - name: Run task\n",
    "     ansible.builtin.command: echo \\\"command example\\\" > test_file\n",
    "     register: output\n",
    "\""
   ]
  },
  {
   "cell_type": "markdown",
   "metadata": {},
   "source": [
    "The next cell shows the execution of the previously created playbook and it's result in the file that appeared in the corresponding folder."
   ]
  },
  {
   "cell_type": "code",
   "execution_count": null,
   "metadata": {
    "vscode": {
     "languageId": "shellscript"
    }
   },
   "outputs": [
    {
     "name": "stdout",
     "output_type": "stream",
     "text": [
      "command example\n"
     ]
    }
   ],
   "source": [
    "docker exec -it control_node \\\n",
    "    ansible-playbook -i inventory.ini playbook.yaml &> /dev/null\n",
    "docker exec managed_node cat test_file"
   ]
  },
  {
   "cell_type": "markdown",
   "metadata": {},
   "source": [
    "## Copy files\n",
    "\n",
    "You can copy files from master node to managed node by using corresponding [\"ansible.builtin.copy\" module](https://docs.ansible.com/ansible/latest/collections/ansible/builtin/copy_module.html)."
   ]
  },
  {
   "cell_type": "markdown",
   "metadata": {},
   "source": [
    "---\n",
    "\n",
    "The following cell creates a playbook that copies itself to the managed node:"
   ]
  },
  {
   "cell_type": "code",
   "execution_count": 2,
   "metadata": {
    "vscode": {
     "languageId": "shellscript"
    }
   },
   "outputs": [],
   "source": [
    "docker exec control_node sh -c  \"\n",
    "cat << EOF > playbook.yaml\n",
    "- name: Copy example\n",
    "  hosts: myhosts\n",
    "  tasks:\n",
    "   - name: Copy task\n",
    "     ansible.builtin.copy:\n",
    "       src: ./playbook.yaml\n",
    "       dest: /hello_secret_file\""
   ]
  },
  {
   "cell_type": "markdown",
   "metadata": {},
   "source": [
    "Here is what such playbook run looks like:"
   ]
  },
  {
   "cell_type": "code",
   "execution_count": 3,
   "metadata": {
    "vscode": {
     "languageId": "shellscript"
    }
   },
   "outputs": [
    {
     "name": "stdout",
     "output_type": "stream",
     "text": [
      "\n",
      "PLAY [Copy example] ************************************************************\n",
      "\n",
      "TASK [Gathering Facts] *********************************************************\n",
      "ok: [managed_node]\n",
      "\n",
      "TASK [Copy task] ***************************************************************\n",
      "changed: [managed_node]\n",
      "\n",
      "PLAY RECAP *********************************************************************\n",
      "managed_node               : ok=2    changed=1    unreachable=0    failed=0    skipped=0    rescued=0    ignored=0   \n",
      "\n"
     ]
    }
   ],
   "source": [
    "docker exec control_node ansible-playbook -i inventory.ini playbook.yaml"
   ]
  },
  {
   "cell_type": "markdown",
   "metadata": {},
   "source": [
    "As a result, you will find the copied file in the managed node:"
   ]
  },
  {
   "cell_type": "code",
   "execution_count": 5,
   "metadata": {
    "vscode": {
     "languageId": "shellscript"
    }
   },
   "outputs": [
    {
     "name": "stdout",
     "output_type": "stream",
     "text": [
      "- name: Copy example\n",
      "  hosts: myhosts\n",
      "  tasks:\n",
      "   - name: Copy task\n",
      "     ansible.builtin.copy:\n",
      "       src: ./playbook.yaml\n",
      "       dest: /hello_secret_file\n"
     ]
    }
   ],
   "source": [
    "docker exec managed_node cat hello_secret_file"
   ]
  },
  {
   "cell_type": "markdown",
   "metadata": {},
   "source": [
    "## Jinja2 templates\n",
    "\n",
    "You can use jinja2 templates right in your ansible script. Check [corresponding page](https://docs.ansible.com/ansible/latest/playbook_guide/playbooks_templating.html) in the official documentation."
   ]
  },
  {
   "cell_type": "markdown",
   "metadata": {},
   "source": [
    "---\n",
    "\n",
    "The following cell adds playbook that prints 'hi' or 'wrong' in dependence of the value of the environment variable `TEMP_VAR`."
   ]
  },
  {
   "cell_type": "code",
   "execution_count": 11,
   "metadata": {
    "vscode": {
     "languageId": "shellscript"
    }
   },
   "outputs": [],
   "source": [
    "docker exec control_node sh -c  \"\n",
    "cat << EOF > playbook.yaml\n",
    "- name: Show\n",
    "  hosts: myhosts\n",
    "  tasks:\n",
    "   - name: show task\n",
    "     ansible.builtin.debug:\n",
    "      msg: \\\"{{ 'hi' if lookup('env', 'TEMP_VAR') == 'hello' else 'wrong' }}\\\"\n",
    "\""
   ]
  },
  {
   "cell_type": "markdown",
   "metadata": {},
   "source": [
    "The following cell plays the book created by specifying `export TEMP_VAR=hello` before."
   ]
  },
  {
   "cell_type": "code",
   "execution_count": null,
   "metadata": {
    "vscode": {
     "languageId": "shellscript"
    }
   },
   "outputs": [
    {
     "name": "stdout",
     "output_type": "stream",
     "text": [
      "\n",
      "PLAY [Show] ********************************************************************\n",
      "\n",
      "TASK [Gathering Facts] *********************************************************\n",
      "ok: [managed_node]\n",
      "\n",
      "TASK [show task] ***************************************************************\n",
      "ok: [managed_node] => {\n",
      "    \"msg\": \"hi\"\n",
      "}\n",
      "\n",
      "PLAY RECAP *********************************************************************\n",
      "managed_node               : ok=2    changed=0    unreachable=0    failed=0    skipped=0    rescued=0    ignored=0   \n",
      "\n"
     ]
    }
   ],
   "source": [
    "docker exec control_node sh -c \"\n",
    "export TEMP_VAR=hello`\n",
    "ansible-playbook -i inventory.ini playbook.yaml\n",
    "\""
   ]
  },
  {
   "cell_type": "markdown",
   "metadata": {},
   "source": [
    "So according to the specified logic, we got the message \"hi\"."
   ]
  },
  {
   "cell_type": "markdown",
   "metadata": {},
   "source": [
    "Now do the same run but with `TEMP_VAR` taking a different value."
   ]
  },
  {
   "cell_type": "code",
   "execution_count": 14,
   "metadata": {
    "vscode": {
     "languageId": "shellscript"
    }
   },
   "outputs": [
    {
     "name": "stdout",
     "output_type": "stream",
     "text": [
      "\n",
      "PLAY [Show] ********************************************************************\n",
      "\n",
      "TASK [Gathering Facts] *********************************************************\n",
      "ok: [managed_node]\n",
      "\n",
      "TASK [show task] ***************************************************************\n",
      "ok: [managed_node] => {\n",
      "    \"msg\": \"wrong\"\n",
      "}\n",
      "\n",
      "PLAY RECAP *********************************************************************\n",
      "managed_node               : ok=2    changed=0    unreachable=0    failed=0    skipped=0    rescued=0    ignored=0   \n",
      "\n"
     ]
    }
   ],
   "source": [
    "docker exec control_node sh -c \"\n",
    "export TEMP_VAR=else\n",
    "ansible-playbook -i inventory.ini playbook.yaml\n",
    "\""
   ]
  }
 ],
 "metadata": {
  "kernelspec": {
   "display_name": "Bash",
   "language": "bash",
   "name": "bash"
  },
  "language_info": {
   "codemirror_mode": "shell",
   "file_extension": ".sh",
   "mimetype": "text/x-sh",
   "name": "bash"
  }
 },
 "nbformat": 4,
 "nbformat_minor": 2
}