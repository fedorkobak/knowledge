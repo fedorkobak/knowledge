{
 "cells": [
  {
   "cell_type": "markdown",
   "metadata": {},
   "source": [
    "# Gitlab\n",
    "\n",
    "This page focuses on configuring and exploring the options in GitLab."
   ]
  },
  {
   "cell_type": "markdown",
   "metadata": {},
   "source": [
    "## Running\n",
    "\n",
    "We are moving away from the usual paradigm of deploying a separate container for each notebook. Here, it is assumed that GitLab is deployed with a command line. The following cell shows how to run the GitLab server. For more details on running, check [Configure GitLab running in a Docker container](https://docs.gitlab.com/ee/install/docker/configuration.html)."
   ]
  },
  {
   "cell_type": "markdown",
   "metadata": {},
   "source": [
    "GitLab is a relatively complex tool that requires extensive configuration. To simplify this, a special Docker image has been created, which already contains all the necessary configuration:\n",
    "\n",
    "- The `GITLAB_OMNIBUS_CONFIG` environment variable is passed to set up GitLab's configuration. In this case, it sets the default password for the root user.\n",
    "- The GitLab Runner is installed to allow interaction with GitLab pipelines.\n",
    "- The `git` utility is installed for Git operations."
   ]
  },
  {
   "cell_type": "markdown",
   "metadata": {},
   "source": [
    "The following cell show correspondin"
   ]
  },
  {
   "cell_type": "code",
   "execution_count": 9,
   "metadata": {
    "vscode": {
     "languageId": "shellscript"
    }
   },
   "outputs": [
    {
     "name": "stdout",
     "output_type": "stream",
     "text": [
      "FROM gitlab/gitlab-ce\n",
      "\n",
      "ENV GITLAB_OMNIBUS_CONFIG=\"gitlab_rails['initial_root_password'] = \\\"wow_wow_wow\\\";\" \n",
      "\n",
      "RUN apt-get update && apt-get install -y git\n",
      "\n",
      "# gitlab runners installation\n",
      "RUN \\\n",
      "    curl -L --output /usr/local/bin/gitlab-runner \\\n",
      "        https://gitlab-runner-downloads.s3.amazonaws.com/latest/binaries/gitlab-runner-linux-amd64 \\\n",
      "    && chmod +x /usr/local/bin/gitlab-runner \\\n",
      "    && useradd --comment 'GitLab Runner' --create-home gitlab-runner --shell /bin/bash \\\n",
      "    && gitlab-runner install --user=gitlab-runner --working-directory=/home/gitlab-runner\n",
      "\n",
      "# Starting runner and executing script that is responsible for gitlab\n",
      "# deployment\n",
      "CMD gitlab-runner start && assets/wrapper\n"
     ]
    }
   ],
   "source": [
    "cat gitlab_files/dockerfile"
   ]
  },
  {
   "cell_type": "markdown",
   "metadata": {},
   "source": [
    "Build container if haven't yet."
   ]
  },
  {
   "cell_type": "code",
   "execution_count": null,
   "metadata": {
    "vscode": {
     "languageId": "shellscript"
    }
   },
   "outputs": [],
   "source": [
    "docker build -t custom-gitlab -f gitlab_files/dockerfile . &> /dev/null"
   ]
  },
  {
   "cell_type": "markdown",
   "metadata": {},
   "source": [
    "Run gitlab instance that will be used for experiments."
   ]
  },
  {
   "cell_type": "code",
   "execution_count": 14,
   "metadata": {
    "vscode": {
     "languageId": "shellscript"
    }
   },
   "outputs": [
    {
     "name": "stdout",
     "output_type": "stream",
     "text": [
      "e7ddce79796365cc8828c17056965d8bbdd9719f3be03c9d08d0c5be4a352fbe\n"
     ]
    }
   ],
   "source": [
    "docker run -p 80:80 --name gitlab --rm -d custom-gitlab"
   ]
  },
  {
   "cell_type": "markdown",
   "metadata": {},
   "source": [
    "After a while, you can access your GitLab server using the following credentials:\n",
    "\n",
    "- **user**: root\n",
    "- **password**: wow_wow_wow"
   ]
  }
 ],
 "metadata": {
  "kernelspec": {
   "display_name": "Bash",
   "language": "bash",
   "name": "bash"
  },
  "language_info": {
   "codemirror_mode": "shell",
   "file_extension": ".sh",
   "mimetype": "text/x-sh",
   "name": "bash"
  }
 },
 "nbformat": 4,
 "nbformat_minor": 2
}