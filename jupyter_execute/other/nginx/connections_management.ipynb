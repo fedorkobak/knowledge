{
 "cells": [
  {
   "cell_type": "markdown",
   "metadata": {},
   "source": [
    "# Connections management\n",
    "\n",
    "This section cosiders capabilities of the nginx to manage connections."
   ]
  },
  {
   "cell_type": "markdown",
   "metadata": {},
   "source": [
    "This section requires `http_stub_status_module` to be installed in nginx, so a custom build of nginx is used here."
   ]
  },
  {
   "cell_type": "code",
   "execution_count": 16,
   "metadata": {
    "vscode": {
     "languageId": "shellscript"
    }
   },
   "outputs": [
    {
     "name": "stdout",
     "output_type": "stream",
     "text": [
      "a481aba9f5ef3bbcd4a7dab744bfc3bdcf5cc0402dff5e5d99a8038b0951ced3\n"
     ]
    }
   ],
   "source": [
    "docker run -itd --name experiment_nginx --rm -p 80:80 custom_nginx"
   ]
  },
  {
   "cell_type": "markdown",
   "metadata": {},
   "source": [
    "**Note:** Don't forget to clean up the environment."
   ]
  },
  {
   "cell_type": "code",
   "execution_count": 15,
   "metadata": {
    "vscode": {
     "languageId": "shellscript"
    }
   },
   "outputs": [
    {
     "name": "stdout",
     "output_type": "stream",
     "text": [
      "experiment_nginx\n"
     ]
    }
   ],
   "source": [
    "docker stop experiment_nginx"
   ]
  },
  {
   "cell_type": "markdown",
   "metadata": {},
   "source": [
    "## Connections monitoring\n",
    "\n",
    "You can check information about active connections using tools provided by `http_stub_status_module`. Check [corresponding page](https://nginx.org/en/docs/http/ngx_http_stub_status_module.html) of the official documentation."
   ]
  },
  {
   "cell_type": "markdown",
   "metadata": {},
   "source": [
    "---\n",
    "\n",
    "The following cell creates an endpoint that uses the `stub_status' directive to create a special endpoint that provides information about the number of busy workers."
   ]
  },
  {
   "cell_type": "code",
   "execution_count": null,
   "metadata": {
    "vscode": {
     "languageId": "shellscript"
    }
   },
   "outputs": [],
   "source": [
    "docker exec -i experiment_nginx sh -c 'cat >  /etc/nginx/nginx.conf' << EOF\n",
    "events {}\n",
    "http {\n",
    "    server {\n",
    "        location = /basic_status {\n",
    "            stub_status;\n",
    "        }\n",
    "    }\n",
    "}\n",
    "EOF\n",
    "\n",
    "docker exec experiment_nginx nginx -s reload"
   ]
  },
  {
   "cell_type": "markdown",
   "metadata": {},
   "source": [
    "Here is the result of invoking the built endpoint."
   ]
  },
  {
   "cell_type": "code",
   "execution_count": 18,
   "metadata": {
    "vscode": {
     "languageId": "shellscript"
    }
   },
   "outputs": [
    {
     "name": "stdout",
     "output_type": "stream",
     "text": [
      "Active connections: 1 \n",
      "server accepts handled requests\n",
      " 1 1 1 \n",
      "Reading: 0 Writing: 1 Waiting: 0 \n"
     ]
    }
   ],
   "source": [
    "curl localhost:80/basic_status"
   ]
  },
  {
   "cell_type": "markdown",
   "metadata": {},
   "source": [
    "## Worker connections\n",
    "\n",
    "Nginx provides a configuration option to specify how many simultaneous connections it can support. This is controlled by the `worker_connections` directive within the `events` block. It defines the maximum number of connections Nginx can handle at the same time. \n",
    "\n",
    "For more details, refer to the [official documentation](https://nginx.org/en/docs/ngx_core_module.html#worker_connections)."
   ]
  },
  {
   "cell_type": "markdown",
   "metadata": {},
   "source": [
    "---\n",
    "\n",
    "The following cell sets up nginx to have only two worker connections - that's the minimum number for nginx to run."
   ]
  },
  {
   "cell_type": "code",
   "execution_count": 19,
   "metadata": {
    "vscode": {
     "languageId": "shellscript"
    }
   },
   "outputs": [],
   "source": [
    "docker exec -i experiment_nginx sh -c 'cat >  /etc/nginx/nginx.conf' <<EOF\n",
    "events {worker_connections 2;}\n",
    "http {server{return 200 \"hello\";}}\n",
    "EOF\n",
    "docker exec -i experiment_nginx nginx -s reload"
   ]
  },
  {
   "cell_type": "markdown",
   "metadata": {},
   "source": [
    "Any message will simply return nothing."
   ]
  },
  {
   "cell_type": "code",
   "execution_count": 20,
   "metadata": {
    "vscode": {
     "languageId": "shellscript"
    }
   },
   "outputs": [
    {
     "name": "stdout",
     "output_type": "stream",
     "text": [
      "curl: (52) Empty reply from server\n"
     ]
    },
    {
     "ename": "",
     "evalue": "52",
     "output_type": "error",
     "traceback": []
    }
   ],
   "source": [
    "curl localhost:80"
   ]
  },
  {
   "cell_type": "markdown",
   "metadata": {},
   "source": [
    "The same configuration with `worker_connections` set to 3 works fine."
   ]
  },
  {
   "cell_type": "code",
   "execution_count": 21,
   "metadata": {
    "vscode": {
     "languageId": "shellscript"
    }
   },
   "outputs": [],
   "source": [
    "docker exec -i experiment_nginx sh -c 'cat >  /etc/nginx/nginx.conf' <<EOF\n",
    "events {worker_connections 3;}\n",
    "http {server{return 200 \"hello\";}}\n",
    "EOF\n",
    "docker exec -i experiment_nginx nginx -s reload"
   ]
  },
  {
   "cell_type": "code",
   "execution_count": 22,
   "metadata": {
    "vscode": {
     "languageId": "shellscript"
    }
   },
   "outputs": [
    {
     "name": "stdout",
     "output_type": "stream",
     "text": [
      "hello\n"
     ]
    }
   ],
   "source": [
    "curl localhost:80"
   ]
  }
 ],
 "metadata": {
  "kernelspec": {
   "display_name": "Bash",
   "language": "bash",
   "name": "bash"
  },
  "language_info": {
   "codemirror_mode": "shell",
   "file_extension": ".sh",
   "mimetype": "text/x-sh",
   "name": "bash"
  }
 },
 "nbformat": 4,
 "nbformat_minor": 2
}