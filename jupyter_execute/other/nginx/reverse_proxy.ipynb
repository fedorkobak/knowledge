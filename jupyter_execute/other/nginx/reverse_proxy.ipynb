{
 "cells": [
  {
   "cell_type": "markdown",
   "metadata": {},
   "source": [
    "# Reverse proxy\n",
    "\n",
    "The `location` directive, used within the `server` context, specifies how NGINX should process requests based on the URI.\n",
    "\n",
    "More in [correspoding section](http://nginx.org/en/docs/http/ngx_http_core_module.html#location) of the official documentation."
   ]
  },
  {
   "cell_type": "markdown",
   "metadata": {},
   "source": [
    "## Setup\n",
    "\n",
    "It turns out that it's quite a complex task to build examples that show how everything works, so this section describes what we need to show everything. In summary, we need\n",
    "\n",
    "- Proxied server - server where we'll redirect requests to nginx.\n",
    "- And nginx, which can be configured differently for different examples.\n",
    "- A network that connects containers."
   ]
  },
  {
   "cell_type": "markdown",
   "metadata": {},
   "source": [
    "The following cell creates a Docker Compose file that satisfies all these requirements."
   ]
  },
  {
   "cell_type": "code",
   "execution_count": 1,
   "metadata": {
    "vscode": {
     "languageId": "shellscript"
    }
   },
   "outputs": [],
   "source": [
    "cat << EOF > reverse_proxy_files/docker-compose.yml\n",
    "services:\n",
    "  proxied:\n",
    "    image: kennethreitz/httpbin\n",
    "    container_name: client_container\n",
    "    ports: \n",
    "      - 81:80\n",
    "  nginx:\n",
    "    image: nginx\n",
    "    container_name: experiment_nginx\n",
    "    volumes:\n",
    "      - ./nginx.conf:/etc/nginx/nginx.conf\n",
    "    ports: \n",
    "      - 80:80\n",
    "EOF"
   ]
  },
  {
   "cell_type": "markdown",
   "metadata": {},
   "source": [
    "The following cell runs applications."
   ]
  },
  {
   "cell_type": "code",
   "execution_count": 142,
   "metadata": {
    "vscode": {
     "languageId": "shellscript"
    }
   },
   "outputs": [],
   "source": [
    "docker compose -f reverse_proxy_files/docker-compose.yml up -d &> /dev/null"
   ]
  },
  {
   "cell_type": "markdown",
   "metadata": {},
   "source": [
    "**Note** Don't forget to clear the environment."
   ]
  },
  {
   "cell_type": "code",
   "execution_count": 141,
   "metadata": {
    "vscode": {
     "languageId": "shellscript"
    }
   },
   "outputs": [],
   "source": [
    "docker compose -f reverse_proxy_files/docker-compose.yml down &> /dev/null"
   ]
  },
  {
   "cell_type": "markdown",
   "metadata": {},
   "source": [
    "## Proxy pass\n",
    "\n",
    "Find out more in:\n",
    "\n",
    "- The special [section of the official documentation](https://nginx.org/en/docs/http/ngx_http_proxy_module.html#proxy_pass).\n",
    "- [Specific page](reverse_proxy/proxy_pass.ipynb) on this site.\n",
    "\n",
    "`proxy_path` in nginx specify the URL of the proxied service. This would be a URL that nginx will request."
   ]
  },
  {
   "cell_type": "markdown",
   "metadata": {},
   "source": [
    "---\n",
    "\n",
    "The following example defines `location /recsys` and ties to it `http://client_container/anything/config/`. "
   ]
  },
  {
   "cell_type": "code",
   "execution_count": 7,
   "metadata": {
    "vscode": {
     "languageId": "shellscript"
    }
   },
   "outputs": [
    {
     "name": "stdout",
     "output_type": "stream",
     "text": [
      "2024/09/09 08:06:03 [notice] 30#30: signal process started\n"
     ]
    }
   ],
   "source": [
    "cat << EOF > reverse_proxy_files/nginx.conf\n",
    "events {}\n",
    "http {\n",
    "    server {\n",
    "        listen 80;\n",
    "        location /recsys {\n",
    "            proxy_pass \"http://client_container/anything/config/\";\n",
    "        }\n",
    "    }\n",
    "}\n",
    "EOF\n",
    "\n",
    "docker exec -it experiment_nginx nginx -s reload"
   ]
  },
  {
   "cell_type": "markdown",
   "metadata": {},
   "source": [
    "The following cell demonstrates a request to the `<nginx address>/recsys/...`, which uses httpbin to display the result of the request."
   ]
  },
  {
   "cell_type": "code",
   "execution_count": 8,
   "metadata": {
    "vscode": {
     "languageId": "shellscript"
    }
   },
   "outputs": [
    {
     "name": "stdout",
     "output_type": "stream",
     "text": [
      "{\n",
      "  \"args\": {}, \n",
      "  \"data\": \"\", \n",
      "  \"files\": {}, \n",
      "  \"form\": {}, \n",
      "  \"headers\": {\n",
      "    \"Accept\": \"*/*\", \n",
      "    \"Connection\": \"close\", \n",
      "    \"Host\": \"client_container\", \n",
      "    \"User-Agent\": \"curl/7.81.0\"\n",
      "  }, \n",
      "  \"json\": null, \n",
      "  \"method\": \"GET\", \n",
      "  \"origin\": \"172.19.0.2\", \n",
      "  \"url\": \"http://client_container/anything/config//101\"\n",
      "}\n"
     ]
    }
   ],
   "source": [
    "curl -L http://localhost:80/recsys/101"
   ]
  },
  {
   "cell_type": "markdown",
   "metadata": {},
   "source": [
    "In the `url` field you can check the exact url that nginx throws to the httpbin."
   ]
  },
  {
   "cell_type": "markdown",
   "metadata": {},
   "source": [
    "## Headers to server (`proxy_set_header`)\n",
    "\n",
    "Allows redefining or appending fields to the request header passed to the proxied server. You can add aditional headers to the http request that will be sent to the destination server. So by using syntax `proxy_set_header <header field> <value>;`."
   ]
  },
  {
   "cell_type": "markdown",
   "metadata": {},
   "source": [
    "---\n",
    "\n",
    "The following example changes the nginx config to add two new fields to the http header `Name` and `SecondName` and reloads nginx."
   ]
  },
  {
   "cell_type": "code",
   "execution_count": 5,
   "metadata": {
    "vscode": {
     "languageId": "shellscript"
    }
   },
   "outputs": [
    {
     "name": "stdout",
     "output_type": "stream",
     "text": [
      "2024/09/09 07:44:06 [notice] 44#44: signal process started\n"
     ]
    }
   ],
   "source": [
    "docker exec -i experiment_nginx sh -c 'cat >  /etc/nginx/nginx.conf' << EOF\n",
    "events {}\n",
    "http {\n",
    "    server {\n",
    "        listen 80;\n",
    "        location / {\n",
    "            proxy_pass \"http://client_container/headers\";\n",
    "            proxy_set_header Name Fedor;\n",
    "            proxy_set_header SecondName Kobak;\n",
    "        }\n",
    "    }\n",
    "}\n",
    "EOF\n",
    "\n",
    "docker exec -it experiment_nginx nginx -s reload"
   ]
  },
  {
   "cell_type": "markdown",
   "metadata": {},
   "source": [
    "First, consider what happens if we just request httpbin directly."
   ]
  },
  {
   "cell_type": "code",
   "execution_count": 6,
   "metadata": {
    "vscode": {
     "languageId": "shellscript"
    }
   },
   "outputs": [
    {
     "name": "stdout",
     "output_type": "stream",
     "text": [
      "{\n",
      "  \"headers\": {\n",
      "    \"Accept\": \"*/*\", \n",
      "    \"Host\": \"localhost:81\", \n",
      "    \"User-Agent\": \"curl/7.81.0\"\n",
      "  }\n",
      "}\n"
     ]
    }
   ],
   "source": [
    "curl http://localhost:81/headers"
   ]
  },
  {
   "cell_type": "markdown",
   "metadata": {},
   "source": [
    "There are no additional headers - just the very basic ones generated by `curl`."
   ]
  },
  {
   "cell_type": "code",
   "execution_count": 7,
   "metadata": {
    "vscode": {
     "languageId": "shellscript"
    }
   },
   "outputs": [
    {
     "name": "stdout",
     "output_type": "stream",
     "text": [
      "{\n",
      "  \"headers\": {\n",
      "    \"Accept\": \"*/*\", \n",
      "    \"Connection\": \"close\", \n",
      "    \"Host\": \"client_container\", \n",
      "    \"Name\": \"Fedor\", \n",
      "    \"Secondname\": \"Kobak\", \n",
      "    \"User-Agent\": \"curl/7.81.0\"\n",
      "  }\n",
      "}\n"
     ]
    }
   ],
   "source": [
    "curl http://localhost:80"
   ]
  },
  {
   "cell_type": "markdown",
   "metadata": {},
   "source": [
    "If you compare the output of the original and proxied requests, you can see that the proxied requests have additional headers - just as we specified in the nginx configuration."
   ]
  },
  {
   "cell_type": "markdown",
   "metadata": {},
   "source": [
    "## Cache\n",
    "\n",
    "Nginx provides a caching facility that saves responses from proxied URLs and reuses them later. You can enable and configure it using directives that start with `proxy_cache`. There is a special tutorial on the Nginx website that covers Nginx configuration.\n",
    "\n",
    "Check:\n",
    "\n",
    "- [A guide for caching](https://blog.nginx.org/blog/nginx-caching-guide#:~:text=The%20proxy_cache_path%20directive%20sets%20the,the%20proxy_cache%20directive%20activates%20it.&text=The%20parameters%20to%20the%20proxy_cache_path,path%2Fto%2Fcache%2F.) at official nginx documentation.\n",
    "- [Specific page](reverse_proxy/cache.ipynb) on this website."
   ]
  },
  {
   "cell_type": "markdown",
   "metadata": {},
   "source": [
    "---\n",
    "\n",
    "The following cell defines two locations, `/cached` and `/no_cached`, both proxying to the same httpbin URL that returns a specified number of random bytes. The `/cached` location uses caching, while `/no_cached` does not.\n",
    "\n",
    "To achieve this, the following directives are used:\n",
    "\n",
    "- `proxy_cache_path /var/cache/nginx/proxy_cache keys_zone=my_cache:10m;`:\n",
    "  - Sets `/var/cache/nginx/proxy_cache` as the folder for cache.\n",
    "  - Defines `my_cache` as the cache zone name to be used later.\n",
    "  - Specifies that `my_cache` can contain up to 10 megabytes of cache.\n",
    "\n",
    "- `proxy_cache my_cache` specifies that the `my_cache` cache zone should be used for the corresponding context.\n",
    "\n",
    "- `proxy_cache_valid 200 10m;` configures the system to save responses with a status code of 200 for 10 minutes."
   ]
  },
  {
   "cell_type": "code",
   "execution_count": 194,
   "metadata": {
    "vscode": {
     "languageId": "shellscript"
    }
   },
   "outputs": [
    {
     "name": "stdout",
     "output_type": "stream",
     "text": [
      "2024/09/09 09:26:45 [notice] 80#80: signal process started\n"
     ]
    }
   ],
   "source": [
    "cat << EOF > reverse_proxy_files/nginx.conf\n",
    "events {}\n",
    "http {\n",
    "\n",
    "    proxy_cache_path /var/cache/nginx/proxy_cache keys_zone=my_cache:10m;\n",
    "\n",
    "    server {\n",
    "        listen 80;\n",
    "\n",
    "        location /cached {\n",
    "            proxy_cache my_cache;\n",
    "            proxy_cache_valid 200 10m;\n",
    "\n",
    "            proxy_pass http://client_container/bytes/50;\n",
    "        }\n",
    "\n",
    "        location /no_cached {proxy_pass http://client_container/bytes/50;}\n",
    "    }\n",
    "}\n",
    "EOF\n",
    "\n",
    "docker exec -it experiment_nginx nginx -s reload"
   ]
  },
  {
   "cell_type": "markdown",
   "metadata": {},
   "source": [
    "Now let's try to request the `/cached` location twice."
   ]
  },
  {
   "cell_type": "code",
   "execution_count": 191,
   "metadata": {
    "vscode": {
     "languageId": "shellscript"
    }
   },
   "outputs": [
    {
     "name": "stdout",
     "output_type": "stream",
     "text": [
      "v24� ޷�˯[��#\u0014`h�7Dv�\u0013}(�b�-V��\u0010��G�1H[!��\u0007}ß\u000e�\n",
      "v24� ޷�˯[��#\u0014`h�7Dv�\u0013}(�b�-V��\u0010��G�1H[!��\u0007}ß\u000e�\n"
     ]
    }
   ],
   "source": [
    "echo $(curl -s localhost:80/cached)\n",
    "echo $(curl -s localhost:80/cached)"
   ]
  },
  {
   "cell_type": "markdown",
   "metadata": {},
   "source": [
    "So we got the same response both times, indicating that the answer was cached."
   ]
  },
  {
   "cell_type": "markdown",
   "metadata": {},
   "source": [
    "Now let's try to request the `/no_cached` location to show the difference."
   ]
  },
  {
   "cell_type": "code",
   "execution_count": 192,
   "metadata": {
    "vscode": {
     "languageId": "shellscript"
    }
   },
   "outputs": [
    {
     "name": "stdout",
     "output_type": "stream",
     "text": [
      "f\u0004\u0016���� �=�a�\u0003\u000ee�[�4y89et�����j\u0013�]\u0012�۵u�\u001e",
      "��/f\"8\n",
      "&�N�WE�'��\u000b",
      "�R0/�l佟�@�@�q��{K��\n"
     ]
    }
   ],
   "source": [
    "echo $(curl -s localhost:80/no_cached)\n",
    "echo $(curl -s localhost:80/no_cached)"
   ]
  },
  {
   "cell_type": "markdown",
   "metadata": {},
   "source": [
    "Each response differs from the previous one, showing that the `/no_cached` location does not use caching."
   ]
  }
 ],
 "metadata": {
  "kernelspec": {
   "display_name": "Bash",
   "language": "bash",
   "name": "bash"
  },
  "language_info": {
   "codemirror_mode": "shell",
   "file_extension": ".sh",
   "mimetype": "text/x-sh",
   "name": "bash"
  }
 },
 "nbformat": 4,
 "nbformat_minor": 2
}