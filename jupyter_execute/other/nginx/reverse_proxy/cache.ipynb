{
 "cells": [
  {
   "cell_type": "markdown",
   "metadata": {},
   "source": [
    "# Cache\n",
    "\n",
    "Nginx provides a caching facility that saves responses from proxied URLs and reuses them later. You can enable and configure it using directives that start with `proxy_cache`. There is a special tutorial on the Nginx website that covers Nginx configuration.\n",
    "\n",
    "There is [a guide for caching](https://blog.nginx.org/blog/nginx-caching-guide#:~:text=The%20proxy_cache_path%20directive%20sets%20the,the%20proxy_cache%20directive%20activates%20it.&text=The%20parameters%20to%20the%20proxy_cache_path,path%2Fto%2Fcache%2F.) at official nginx documentation."
   ]
  },
  {
   "cell_type": "markdown",
   "metadata": {},
   "source": [
    "In the next cell, the setup defined earlier is executed, and we access the root page."
   ]
  },
  {
   "cell_type": "code",
   "execution_count": 1,
   "metadata": {
    "vscode": {
     "languageId": "shellscript"
    }
   },
   "outputs": [],
   "source": [
    "docker compose -f ../reverse_proxy_files/docker-compose.yml up -d &> /dev/null"
   ]
  },
  {
   "cell_type": "markdown",
   "metadata": {},
   "source": [
    "Don't forget to clean up the environment after everything is done."
   ]
  },
  {
   "cell_type": "code",
   "execution_count": 36,
   "metadata": {
    "vscode": {
     "languageId": "shellscript"
    }
   },
   "outputs": [],
   "source": [
    "docker compose -f ../reverse_proxy_files/docker-compose.yml down &> /dev/null"
   ]
  },
  {
   "cell_type": "markdown",
   "metadata": {},
   "source": [
    "## Check cache status\n",
    "\n",
    "There is a special variable called `upstream_cache_status` that holds the cache status. It is common practice to return this information in the `X-Cache-Status` header."
   ]
  },
  {
   "cell_type": "markdown",
   "metadata": {},
   "source": [
    "---\n",
    "\n",
    "The following cell shows the Nginx configuration that adds `$upstream_cache_status` as `X-Cache-Status`."
   ]
  },
  {
   "cell_type": "code",
   "execution_count": 55,
   "metadata": {
    "vscode": {
     "languageId": "shellscript"
    }
   },
   "outputs": [
    {
     "name": "stdout",
     "output_type": "stream",
     "text": [
      "2024/09/10 09:43:30 [notice] 339#339: signal process started\n"
     ]
    }
   ],
   "source": [
    "docker exec -i experiment_nginx sh -c 'cat >  /etc/nginx/nginx.conf' << EOF\n",
    "events {}\n",
    "http {\n",
    "\n",
    "    proxy_cache_path /var/cache/nginx/proxy_cache keys_zone=my_cache:10m;\n",
    "\n",
    "    server {\n",
    "        listen 80;\n",
    "        location / {\n",
    "            proxy_cache my_cache;\n",
    "            proxy_cache_valid 200 5s;\n",
    "            proxy_pass http://client_container/bytes/50;\n",
    "            add_header X-Cache-Status \\$upstream_cache_status;\n",
    "        }\n",
    "    }\n",
    "}\n",
    "EOF\n",
    "\n",
    "docker exec -it experiment_nginx nginx -s reload"
   ]
  },
  {
   "cell_type": "markdown",
   "metadata": {},
   "source": [
    "The following cell requests the endpoint under caching several times and shows the values that the `X-Cache-Status` header takes."
   ]
  },
  {
   "cell_type": "code",
   "execution_count": 58,
   "metadata": {
    "vscode": {
     "languageId": "shellscript"
    }
   },
   "outputs": [
    {
     "name": "stdout",
     "output_type": "stream",
     "text": [
      "X-Cache-Status: MISS\n",
      "X-Cache-Status: HIT\n",
      "X-Cache-Status: EXPIRED\n"
     ]
    }
   ],
   "source": [
    "# clean case for prevent influece of the other runs\n",
    "docker exec experiment_nginx bash \\\n",
    "    -c \"rm /var/cache/nginx/proxy_cache/*\" &> /dev/null | true\n",
    "\n",
    "curl -s -I localhost:80 | grep --color=never Cache\n",
    "curl -s -I localhost:80 | grep --color=never Cache\n",
    "sleep 10\n",
    "curl -s -I localhost:80 | grep --color=never Cache"
   ]
  },
  {
   "cell_type": "markdown",
   "metadata": {},
   "source": [
    "At the beginning, it shows `MISS` because there is no cache for this request. Then it shows `HIT`, meaning that Nginx returned a response from the cache. The last request completes after a while, and since the cache record was deleted due to being too old, it shows `EXPIRED`."
   ]
  },
  {
   "cell_type": "markdown",
   "metadata": {},
   "source": [
    "## Expire time\n",
    "\n",
    "You can regulate expiration type through the `proxy_cache_valid` directive. Specify status codes and their expiration times within the `location` directive."
   ]
  },
  {
   "cell_type": "markdown",
   "metadata": {},
   "source": [
    "---\n",
    "\n",
    "The following cell configures Nginx to expire cached responses with a 200 status code after 5 seconds:"
   ]
  },
  {
   "cell_type": "code",
   "execution_count": 3,
   "metadata": {
    "vscode": {
     "languageId": "shellscript"
    }
   },
   "outputs": [
    {
     "name": "stdout",
     "output_type": "stream",
     "text": [
      "2024/09/09 13:47:11 [notice] 39#39: signal process started\n"
     ]
    }
   ],
   "source": [
    "docker exec -i experiment_nginx sh -c 'cat >  /etc/nginx/nginx.conf' << EOF\n",
    "events {}\n",
    "http {\n",
    "\n",
    "    proxy_cache_path /var/cache/nginx/proxy_cache keys_zone=my_cache:10m;\n",
    "\n",
    "    server {\n",
    "        listen 80;\n",
    "        location / {\n",
    "            proxy_cache my_cache;\n",
    "            proxy_cache_valid 200 5s;\n",
    "            proxy_pass http://client_container/bytes/50;\n",
    "        }\n",
    "    }\n",
    "}\n",
    "EOF\n",
    "\n",
    "docker exec -it experiment_nginx nginx -s reload"
   ]
  },
  {
   "cell_type": "markdown",
   "metadata": {},
   "source": [
    "Now let's check if it works—the following cell sends a request to Nginx every second for some time. After a few seconds, the output changes, indicating that the cache has expired and a new response is generated."
   ]
  },
  {
   "cell_type": "code",
   "execution_count": 107,
   "metadata": {
    "vscode": {
     "languageId": "shellscript"
    }
   },
   "outputs": [
    {
     "name": "stdout",
     "output_type": "stream",
     "text": [
      ":M��7�e`�|��%��f�\f",
      "ܳgV�L�\u0015����YJ�μ\u0002 �=� [\u000f��l\u000b",
      "u3\n",
      ":M��7�e`�|��%��f�\f",
      "ܳgV�L�\u0015����YJ�μ\u0002 �=� [\u000f��l\u000b",
      "u3\n",
      ":M��7�e`�|��%��f�\f",
      "ܳgV�L�\u0015����YJ�μ\u0002 �=� [\u000f��l\u000b",
      "u3\n",
      ":M��7�e`�|��%��f�\f",
      "ܳgV�L�\u0015����YJ�μ\u0002 �=� [\u000f��l\u000b",
      "u3\n",
      ":M��7�e`�|��%��f�\f",
      "ܳgV�L�\u0015����YJ�μ\u0002 �=� [\u000f��l\u000b",
      "u3\n",
      ":M��7�e`�|��%��f�\f",
      "ܳgV�L�\u0015����YJ�μ\u0002 �=� [\u000f��l\u000b",
      "u3\n",
      "�R���y�\u0001��\u0016�7���N� ?2a�BI�\u0001���$�\u0010_K���As�%�=��Z\n",
      "�R���y�\u0001��\u0016�7���N� ?2a�BI�\u0001���$�\u0010_K���As�%�=��Z\n",
      "�R���y�\u0001��\u0016�7���N� ?2a�BI�\u0001���$�\u0010_K���As�%�=��Z\n",
      "�R���y�\u0001��\u0016�7���N� ?2a�BI�\u0001���$�\u0010_K���As�%�=��Z\n"
     ]
    }
   ],
   "source": [
    "for i in {1..10}; do\n",
    "    echo $(curl -s localhost:80/ | tr -d '\\0')\n",
    "    sleep 1\n",
    "done"
   ]
  },
  {
   "cell_type": "markdown",
   "metadata": {},
   "source": [
    "## Max size\n",
    "\n",
    "In the `proxy_cache_path` directive, you can set the `max_size` argument to define the maximum disk space that the corresponding cache path can use."
   ]
  },
  {
   "cell_type": "markdown",
   "metadata": {},
   "source": [
    "---\n",
    "\n",
    "The following cell defines two cache paths: one with `max_size=1m` and another with `max_size=2m`. These paths are tied to different locations."
   ]
  },
  {
   "cell_type": "code",
   "execution_count": 1,
   "metadata": {
    "vscode": {
     "languageId": "shellscript"
    }
   },
   "outputs": [
    {
     "name": "stdout",
     "output_type": "stream",
     "text": [
      "2024/09/09 14:43:50 [notice] 103#103: signal process started\n"
     ]
    }
   ],
   "source": [
    "docker exec -i experiment_nginx sh -c 'cat >  /etc/nginx/nginx.conf' << EOF\n",
    "events {}\n",
    "http {\n",
    "\n",
    "    proxy_cache_path /var/cache/nginx/proxy_one_megabyte \n",
    "        keys_zone=one_megabyte:10m \n",
    "        max_size=1m;\n",
    "    proxy_cache_path /var/cache/nginx/proxy_two_megabyte \n",
    "        keys_zone=two_megabyte:10m \n",
    "        max_size=2m;\n",
    "\n",
    "    server {\n",
    "        listen 80;\n",
    "        \n",
    "\n",
    "        location /one_megabyte {\n",
    "            proxy_cache one_megabyte;\n",
    "            proxy_cache_valid 200 1h;\n",
    "            proxy_pass http://client_container/bytes/50;\n",
    "        }\n",
    "        location /two_megabyte {\n",
    "            proxy_cache two_megabyte;\n",
    "            proxy_cache_valid 200 1h;\n",
    "            proxy_pass http://client_container/bytes/50;\n",
    "        }\n",
    "    }\n",
    "}\n",
    "EOF\n",
    "\n",
    "docker exec -it experiment_nginx nginx -s reload"
   ]
  },
  {
   "cell_type": "markdown",
   "metadata": {},
   "source": [
    "Now, by exploring the corresponding locations, we'll create logs for both paths. We'll deliberately generate more cache than the maximum memory specified for each path."
   ]
  },
  {
   "cell_type": "code",
   "execution_count": 2,
   "metadata": {
    "vscode": {
     "languageId": "shellscript"
    }
   },
   "outputs": [],
   "source": [
    "for i in {1..1000}; do\n",
    "    echo $(curl -s localhost:80/one_megabyte?id=$i | tr -d '\\0') &> /dev/null\n",
    "    echo $(curl -s localhost:80/two_megabyte?id=$i | tr -d '\\0') &> /dev/null\n",
    "done"
   ]
  },
  {
   "cell_type": "markdown",
   "metadata": {},
   "source": [
    "Now let's check the sizes of the folders with logs."
   ]
  },
  {
   "cell_type": "code",
   "execution_count": 3,
   "metadata": {
    "vscode": {
     "languageId": "shellscript"
    }
   },
   "outputs": [
    {
     "name": "stdout",
     "output_type": "stream",
     "text": [
      "1.1M\t/var/cache/nginx/proxy_one_megabyte\n",
      "2.1M\t/var/cache/nginx/proxy_two_megabyte\n"
     ]
    }
   ],
   "source": [
    "docker exec experiment_nginx bash -c \"\n",
    "du -h /var/cache/nginx/proxy_one_megabyte\n",
    "du -h /var/cache/nginx/proxy_two_megabyte\n",
    "\""
   ]
  },
  {
   "cell_type": "markdown",
   "metadata": {},
   "source": [
    "They are taking approximately 1 and 2 megabytes, as specified in the Nginx configuration."
   ]
  }
 ],
 "metadata": {
  "kernelspec": {
   "display_name": "Bash",
   "language": "bash",
   "name": "bash"
  },
  "language_info": {
   "codemirror_mode": "shell",
   "file_extension": ".sh",
   "mimetype": "text/x-sh",
   "name": "bash"
  }
 },
 "nbformat": 4,
 "nbformat_minor": 2
}