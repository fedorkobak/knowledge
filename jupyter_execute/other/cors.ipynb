{
 "cells": [
  {
   "cell_type": "markdown",
   "metadata": {},
   "source": [
    "# CORS"
   ]
  },
  {
   "cell_type": "code",
   "execution_count": 19,
   "metadata": {
    "vscode": {
     "languageId": "shellscript"
    }
   },
   "outputs": [
    {
     "name": "stdout",
     "output_type": "stream",
     "text": [
      "1be409892d0a56ad44126e6ff3bb6a83e65bfbae8be67ac06984a2989a188d42\n"
     ]
    }
   ],
   "source": [
    "docker run -itd -p 80:80 --rm --name test_nginx nginx"
   ]
  },
  {
   "cell_type": "code",
   "execution_count": 22,
   "metadata": {
    "vscode": {
     "languageId": "shellscript"
    }
   },
   "outputs": [
    {
     "name": "stdout",
     "output_type": "stream",
     "text": [
      "2024/07/29 14:01:18 [notice] 82#82: signal process started\n"
     ]
    }
   ],
   "source": [
    "docker exec -i test_nginx sh -c 'cat > /etc/nginx/nginx.conf' <<EOF\n",
    "events {}\n",
    "http {\n",
    "    server {\n",
    "        location / {\n",
    "            add_header Header-Under-Consideration 'Value of the header';\n",
    "            return 200 \"hello\"; \n",
    "        }\n",
    "    }\n",
    "}\n",
    "EOF\n",
    "docker exec -it test_nginx nginx -s reload"
   ]
  },
  {
   "cell_type": "code",
   "execution_count": 29,
   "metadata": {
    "vscode": {
     "languageId": "shellscript"
    }
   },
   "outputs": [
    {
     "name": "stdout",
     "output_type": "stream",
     "text": [
      "HTTP/1.1 200 OK\n",
      "Server: nginx/1.27.0\n",
      "Date: Mon, 29 Jul 2024 14:15:21 GMT\n",
      "Content-Type: text/plain\n",
      "Content-Length: 5\n",
      "Connection: keep-alive\n",
      "Header-Under-Consideration: Value of the header\n",
      "\n"
     ]
    }
   ],
   "source": [
    "curl -s -o /dev/null -D - localhost:80"
   ]
  },
  {
   "cell_type": "code",
   "execution_count": 18,
   "metadata": {
    "vscode": {
     "languageId": "shellscript"
    }
   },
   "outputs": [
    {
     "name": "stdout",
     "output_type": "stream",
     "text": [
      "test_nginx\n"
     ]
    }
   ],
   "source": [
    "docker stop test_nginx"
   ]
  }
 ],
 "metadata": {
  "kernelspec": {
   "display_name": "Bash",
   "language": "bash",
   "name": "bash"
  },
  "language_info": {
   "codemirror_mode": "shell",
   "file_extension": ".sh",
   "mimetype": "text/x-sh",
   "name": "bash"
  }
 },
 "nbformat": 4,
 "nbformat_minor": 2
}