{
 "cells": [
  {
   "cell_type": "markdown",
   "id": "33dc1ad7-076f-4bfb-95c4-055c1d9c9dd3",
   "metadata": {},
   "source": [
    "# Select all"
   ]
  },
  {
   "cell_type": "code",
   "execution_count": 1,
   "id": "3dfd7a86-92b6-49fd-b6b6-47215f9ce821",
   "metadata": {},
   "outputs": [
    {
     "data": {
      "text/html": [
       "\n",
       "        <iframe\n",
       "            width=\"100%\"\n",
       "            height=\"650\"\n",
       "            src=\"http://127.0.0.1:8050/\"\n",
       "            frameborder=\"0\"\n",
       "            allowfullscreen\n",
       "            \n",
       "        ></iframe>\n",
       "        "
      ],
      "text/plain": [
       "<IPython.lib.display.IFrame at 0x7f45b43c8460>"
      ]
     },
     "metadata": {},
     "output_type": "display_data"
    }
   ],
   "source": [
    "from jupyter_dash import JupyterDash\n",
    "from dash import dcc, html\n",
    "from IPython.display import clear_output\n",
    "\n",
    "my_list = [\n",
    "    \"BelarusSales\",\n",
    "    \"SalesNetworkBelarus\",\n",
    "    \"BelSalesNetwork\",\n",
    "    \"SalesNetworkBel\",\n",
    "    \"SalesOfBelarus\",\n",
    "    \"BelSalesNetworks\",\n",
    "    \"BelarusSalesNetwork\",\n",
    "    \"SalesInBelarus\",\n",
    "]\n",
    "\n",
    "app = JupyterDash(__name__)\n",
    "\n",
    "app.layout = html.Div([\n",
    "    html.Button(\n",
    "        \"Select All\",\n",
    "        id=\"select-all-button\"\n",
    "    ),\n",
    "    dcc.Checklist(\n",
    "        my_list\n",
    "    )\n",
    "])\n",
    "\n",
    "app.run_server(debug=False, port = 8050)\n",
    "clear_output()"
   ]
  }
 ],
 "metadata": {
  "kernelspec": {
   "display_name": "Python 3 (ipykernel)",
   "language": "python",
   "name": "python3"
  },
  "language_info": {
   "codemirror_mode": {
    "name": "ipython",
    "version": 3
   },
   "file_extension": ".py",
   "mimetype": "text/x-python",
   "name": "python",
   "nbconvert_exporter": "python",
   "pygments_lexer": "ipython3",
   "version": "3.10.6"
  }
 },
 "nbformat": 4,
 "nbformat_minor": 5
}
