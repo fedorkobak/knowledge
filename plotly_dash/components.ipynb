{
 "cells": [
  {
   "cell_type": "markdown",
   "id": "f2da5edf-5f99-49ae-85ec-28dc54366329",
   "metadata": {},
   "source": [
    "# Dash components\n",
    "\n",
    "On this page I'll be exploring the possibilities of using different Plotly components."
   ]
  },
  {
   "cell_type": "markdown",
   "id": "cd2ff1f2-66de-49f6-8902-ab2acd329cc9",
   "metadata": {},
   "source": [
    "# Sources\n",
    "\n",
    "- <a href=\"https://dash.plotly.com/dash-core-components/dropdown\">dash.dcc.Dropdown</a>;\n",
    "- <a href=\"https://dash.plotly.com/dash-html-components/button\">dash.html.Button</a>;"
   ]
  },
  {
   "cell_type": "markdown",
   "id": "eaa7c93d-1877-436e-a8dc-fa8d4fd7e53c",
   "metadata": {},
   "source": [
    "# Button\n",
    "\n",
    "It's common not to use the button's `n_clicks` property as a trigger for the callback.\n",
    "\n",
    "So in the following example, there is a button that translates the `n_clicks` property to text in the `p` element."
   ]
  },
  {
   "cell_type": "code",
   "execution_count": 1,
   "id": "636cc409-1862-4c01-83c4-faac0a62a5f4",
   "metadata": {},
   "outputs": [],
   "source": [
    "from dash import Dash, html, callback, Input, Output\n",
    "from IPython.display import clear_output\n",
    "\n",
    "app = Dash(__name__)\n",
    "app.layout = html.Div([\n",
    "    html.Button(\n",
    "        \"Example button\", \n",
    "        id=\"test-button\", \n",
    "        n_clicks=0 # you can set any nuber for start\n",
    "    ),\n",
    "    html.P(\"\", id=\"result-p\")\n",
    "])\n",
    "@callback(\n",
    "    Output(\"result-p\", \"children\"),\n",
    "    Input(\"test-button\", \"n_clicks\")\n",
    ")\n",
    "def test_callback(n_clicks):\n",
    "    return n_clicks\n",
    "\n",
    "app.run(debug=False, port = 8054)\n",
    "clear_output()"
   ]
  },
  {
   "cell_type": "markdown",
   "id": "3f31f6a8-f5c7-480f-a6f7-3a213929e53f",
   "metadata": {},
   "source": [
    "<img src=\"components_examples/button_example.gif\"></img>"
   ]
  },
  {
   "cell_type": "markdown",
   "id": "203147d7-f597-4396-bcf6-394fd7b01e3b",
   "metadata": {},
   "source": [
    "# Dropdown"
   ]
  },
  {
   "cell_type": "markdown",
   "id": "726af537-71af-4e48-8fcd-a0d169de5226",
   "metadata": {},
   "source": [
    "## Multiselect"
   ]
  },
  {
   "cell_type": "code",
   "execution_count": 2,
   "id": "f29ae3ef-f9bb-4555-aaa6-ca77526abb26",
   "metadata": {},
   "outputs": [],
   "source": [
    "from jupyter_dash import JupyterDash\n",
    "from dash import dcc, html\n",
    "from IPython.display import clear_output\n",
    "\n",
    "my_list = [\n",
    "    \"BelarusSales\",\n",
    "    \"SalesNetworkBelarus\",\n",
    "    \"BelSalesNetwork\",\n",
    "    \"SalesNetworkBel\",\n",
    "    \"SalesOfBelarus\",\n",
    "    \"BelSalesNetworks\",\n",
    "    \"BelarusSalesNetwork\",\n",
    "    \"SalesInBelarus\",\n",
    "]\n",
    "\n",
    "app = JupyterDash(__name__)\n",
    "\n",
    "app.layout = html.Div([dcc.Dropdown(\n",
    "    my_list,\n",
    "    multi=True\n",
    ")])\n",
    "\n",
    "app.run_server(debug=False, port = 8051)\n",
    "clear_output()"
   ]
  },
  {
   "cell_type": "markdown",
   "id": "e75b6b41-913d-44fc-ae76-bf67ee4017a6",
   "metadata": {},
   "source": [
    "# Checklist"
   ]
  },
  {
   "cell_type": "code",
   "execution_count": 3,
   "id": "4ef63167-f670-4a45-81f9-4a27f8e661c2",
   "metadata": {},
   "outputs": [],
   "source": [
    "from jupyter_dash import JupyterDash\n",
    "from dash import dcc, html\n",
    "from IPython.display import clear_output\n",
    "\n",
    "my_list = [\n",
    "    \"BelarusSales\",\n",
    "    \"SalesNetworkBelarus\",\n",
    "    \"BelSalesNetwork\",\n",
    "    \"SalesNetworkBel\",\n",
    "    \"SalesOfBelarus\",\n",
    "    \"BelSalesNetworks\",\n",
    "    \"BelarusSalesNetwork\",\n",
    "    \"SalesInBelarus\",\n",
    "]\n",
    "\n",
    "app = JupyterDash(__name__)\n",
    "\n",
    "app.layout = html.Div([dcc.Checklist(\n",
    "    my_list\n",
    ")])\n",
    "\n",
    "app.run_server(debug=False, port = 8052)\n",
    "clear_output()"
   ]
  },
  {
   "cell_type": "markdown",
   "id": "5dd84df9-4841-4842-b1f3-7315c85ab8a2",
   "metadata": {},
   "source": [
    "# Details\n",
    "\n",
    "Lets you define a group of elements that hide some other components and show them on click."
   ]
  },
  {
   "cell_type": "code",
   "execution_count": 1,
   "id": "c95a35c6-d7db-4000-b857-34a1e6910464",
   "metadata": {},
   "outputs": [],
   "source": [
    "from jupyter_dash import JupyterDash\n",
    "from dash import dcc, html\n",
    "from IPython.display import clear_output\n",
    "\n",
    "my_list = [\n",
    "    \"BelarusSales\",\n",
    "    \"SalesNetworkBelarus\",\n",
    "    \"BelSalesNetwork\",\n",
    "    \"SalesNetworkBel\",\n",
    "    \"SalesOfBelarus\",\n",
    "    \"BelSalesNetworks\",\n",
    "    \"BelarusSalesNetwork\",\n",
    "    \"SalesInBelarus\",\n",
    "]\n",
    "\n",
    "app = JupyterDash(__name__)\n",
    "\n",
    "app.layout = html.Details(\n",
    "    [html.H3(i) for i in my_list]\n",
    ")\n",
    "\n",
    "app.run_server(debug=False, port = 8053)\n",
    "clear_output()"
   ]
  },
  {
   "cell_type": "markdown",
   "id": "3c19d3c1-06cf-4c3c-a142-f77e81227f6f",
   "metadata": {},
   "source": [
    "<img src=\"components_examples/details_example.gif\"></img>"
   ]
  }
 ],
 "metadata": {
  "kernelspec": {
   "display_name": "Python 3 (ipykernel)",
   "language": "python",
   "name": "python3"
  },
  "language_info": {
   "codemirror_mode": {
    "name": "ipython",
    "version": 3
   },
   "file_extension": ".py",
   "mimetype": "text/x-python",
   "name": "python",
   "nbconvert_exporter": "python",
   "pygments_lexer": "ipython3",
   "version": "3.10.6"
  }
 },
 "nbformat": 4,
 "nbformat_minor": 5
}
