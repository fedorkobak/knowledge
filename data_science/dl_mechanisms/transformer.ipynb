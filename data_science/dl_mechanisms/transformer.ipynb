{
 "cells": [
  {
   "cell_type": "markdown",
   "id": "048a0248",
   "metadata": {},
   "source": [
    "# Transformer\n",
    "\n",
    "This page discusses transformer architecture. The following picture shows classical schema to explain the transformer.\n",
    "\n",
    "![](transformer_files/schema.svg)"
   ]
  },
  {
   "cell_type": "markdown",
   "id": "abefdc6c",
   "metadata": {},
   "source": [
    "## Masked attention\n",
    "\n",
    "Masked attention is used to prevent the model from using the keys of future elements when computing values for the current sequence. To the matrix that contains all possible $q_i, k_j$ combinations is added matrix:\n",
    "\n",
    "$$M_{ij} = \\begin{cases}\n",
    "0, & i \\leq j \\\\\n",
    "- \\infty, & i > j\n",
    "\\end{cases}$$\n",
    "\n",
    "Or in more visual represenation:\n",
    "\n",
    "$$\n",
    "M = \\left(\\begin{array}{ccccc}\n",
    "0 & -\\infty & -\\infty & \\cdots & -\\infty \\\\\n",
    "0 & 0 & -\\infty & \\cdots & -\\infty \\\\\n",
    "0 & 0 & 0 & \\cdots & -\\infty \\\\\n",
    "\\vdots & \\vdots & \\vdots & \\ddots & \\vdots \\\\\n",
    "0 & 0 & 0 & \\cdots & 0\\\n",
    "\\end{array}\\right)\n",
    "$$"
   ]
  },
  {
   "cell_type": "markdown",
   "id": "d3ff6ae9",
   "metadata": {
    "vscode": {
     "languageId": "plaintext"
    }
   },
   "source": [
    "So under softmax expression takes form\n",
    "\n",
    "$$QK^T + M = \n",
    "\\left(\\begin{array}{ccccc}\n",
    "q_1k_1 & -\\infty & -\\infty & \\cdots & -\\infty \\\\\n",
    "q_2k_1 & q_2k_2 & -\\infty & \\cdots & -\\infty \\\\\n",
    "q_3k_1 & q_3k_2 & q_3k_3 & \\cdots & -\\infty \\\\\n",
    "\\vdots & \\vdots & \\vdots & \\ddots & \\vdots \\\\\n",
    "q_nk_1 & q_nk_2 & q_nk_3 & \\cdots & q_nk_n\\\n",
    "\\end{array}\\right)\n",
    "$$"
   ]
  },
  {
   "cell_type": "markdown",
   "id": "0a533df9",
   "metadata": {},
   "source": [
    "In softmax transformation $-\\infty$ elements are transformed to zero. That's why:\n",
    "\n",
    "$$softmax\\left(\\frac{QK^T + M}{\\sqrt{d}}\\right) =\n",
    "\\left(\\begin{array}{ccccc}\n",
    "s_{11} & 0 & 0 & \\cdots & 0 \\\\\n",
    "s_{21} & s_{22} & 0 & \\cdots & 0 \\\\\n",
    "s_{31} & s_{32} & s_{33} & \\cdots & 0 \\\\\n",
    "\\vdots & \\vdots & \\vdots & \\ddots & \\vdots \\\\\n",
    "s_{n1} & s_{n2} & s_{n3} & \\cdots & s_{nn}\\\n",
    "\\end{array}\\right)\n",
    "$$\n",
    "\n",
    "Where $s_{ij}$ is the result of a softmax transformation for the $j$-th element of the $i$-th row."
   ]
  }
 ],
 "metadata": {
  "language_info": {
   "name": "python"
  }
 },
 "nbformat": 4,
 "nbformat_minor": 5
}
