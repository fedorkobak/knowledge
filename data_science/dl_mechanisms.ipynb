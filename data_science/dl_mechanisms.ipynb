{
 "cells": [
  {
   "cell_type": "markdown",
   "id": "55ef193f",
   "metadata": {},
   "source": [
    "# DL mechanisms\n",
    "\n",
    "This page considers concepts that are traditionally considered as related to deep learning.\n",
    "\n",
    "**Deep learning** is a subfield of machine learning that encompasses models known as neural networks, inspired by the human brain."
   ]
  },
  {
   "cell_type": "markdown",
   "id": "d7d3c585",
   "metadata": {},
   "source": [
    "## Recurrent\n",
    "\n",
    "Recurrent is an approach to processing typically sequential units of data. The main idea is to use information about how previous elements of the sequence were processed to process the following ones.\n",
    "\n",
    "Mathematically it can be written:  \n",
    "\n",
    "$$h_t = f(x_t W^T_1 + b_1 + h_{t-1} W^T_2 + b_2)$$\n",
    "\n",
    "Where:  \n",
    "- $x_t$: input at the $t$-th step.  \n",
    "- $h_t$: vector that describes hidden state at the $t$-th step.  \n",
    "- $W_1$: weights associated with the input.  \n",
    "- $W_2$: weights associated with the state.  \n",
    "- $b_1$: bias associated with the input.  \n",
    "- $b_2$: bias associated with the state.  \n",
    "- $f$: activation function, typically a hyperbolic tangent.\n",
    "\n",
    "Each $h_t$ depends on $x_t$ and $h_{t-1}$. But $h_{t-1}$ depends on $x_{t-1}$ and $h_{t-2}$, and so on recursively\n",
    "\n",
    "All these computations, resulting in $h_t$ for $t = \\overline{1,n}$, can be used in the subsequent steps to describe the process we are interested in.\n",
    "\n",
    "For more detailed explanation, checkout on the [Recurrent](dl_mechanisms/recurrent.ipynb) page."
   ]
  },
  {
   "cell_type": "markdown",
   "id": "04c50b04",
   "metadata": {},
   "source": [
    "## Attention\n",
    "\n",
    "Attention is a type of transformation for the sequence, that uses information hidden within the entire sequence. The source of information can be the sequence itself or another sequence.\n",
    "\n",
    "Attention is generally associated with transformer architecture, but idea can be used in other approaches. It contains a wide range of modifications, which makes the attention section potentially very large. That's why it is considered independently from the transformer here.\n",
    "\n",
    "Check [attention](dl_mechanisms/attention.ipynb) page for more details."
   ]
  },
  {
   "cell_type": "markdown",
   "id": "cbd0c34f",
   "metadata": {},
   "source": [
    "## Transformer\n",
    "\n",
    "The transformer is a deep learning architecture that was represented in the article [Attention Is All You Need](https://papers.nips.cc/paper_files/paper/2017/file/3f5ee243547dee91fbd053c1c4a845aa-Paper.pdf).\n",
    "\n",
    "The schema is represented in the following piture:"
   ]
  },
  {
   "cell_type": "markdown",
   "id": "507b5843",
   "metadata": {},
   "source": [
    "![](dl_mechanisms/transformer_files/schema.svg)"
   ]
  },
  {
   "cell_type": "markdown",
   "id": "db6bd4c1",
   "metadata": {},
   "source": [
    "The following list outlines the most important concepts used in the transformer architecture:\n",
    "\n",
    "* **Attention transformation**: A transformation applied to a sequence, where each element is computed by incorporating information from other elements in the sequence, with different levels of *attention* paid to them. Several extensions of the attention mechanism are used in modern transformers:\n",
    "\n",
    "  * **Multi-Head Attention**: The sequence is transformed by several attention mechanisms in parallel, each referred to as a head.\n",
    "  * **Masked Attention**: A variant of attention where certain positions in the sequence are hiddeng (masked) to prevent an element from attending the future tokens.\n",
    "  * **Self-Attention**: A process in which each element of a sequence attends to other elements within the same sequence.\n",
    "  * **Cross-Attention**: A process in which each element of a sequence attends to elements of another sequence.\n",
    "\n",
    "* **Encoder/Decoder**: The encoder and decoder are essential parts of transformers. The encoder processes the input sequence using self-attention to produce contextual representations. The docoder generates the output sequence by attending to the encoder's representationand predicts the next token in a sequence.\n",
    "\n",
    "* **Positional encoding**: Since self-attention does not inherently capture the order of elements, the transformer adds to the input embeddings values computed from a function that depends on each element’s position in the sequence.\n",
    "\n",
    "* **Feed Forward**: Two linear transforamtions connected by an activation function. The first typically makes increases dimensionality, and the second reduces it back down.\n",
    "\n",
    "* **Add & Norm**: Add the scip connection information with the output of the attention layers and normilize."
   ]
  }
 ],
 "metadata": {
  "language_info": {
   "name": "python"
  }
 },
 "nbformat": 4,
 "nbformat_minor": 5
}
