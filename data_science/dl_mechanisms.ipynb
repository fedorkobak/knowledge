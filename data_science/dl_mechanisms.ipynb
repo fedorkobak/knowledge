{
 "cells": [
  {
   "cell_type": "markdown",
   "id": "55ef193f",
   "metadata": {},
   "source": [
    "# DL mechanisms\n",
    "\n",
    "This page considers concepts that are traditionally considered as related to deep learning.\n",
    "\n",
    "**Deep learning** is a subfield of machine learning that encompasses models known as neural networks, inspired by the human brain."
   ]
  },
  {
   "cell_type": "markdown",
   "id": "d7d3c585",
   "metadata": {},
   "source": [
    "## Recurrent\n",
    "\n",
    "Recurrent is an approach to processing typically sequential units of data. The main idea is to use information about how previous elements of the sequence were processed to process the following ones.\n",
    "\n",
    "Mathematically it can be written:  \n",
    "\n",
    "$$h_t = f(x_t W^T_1 + b_1 + h_{t-1} W^T_2 + b_2)$$\n",
    "\n",
    "Where:  \n",
    "- $x_t$: input at the $t$-th step.  \n",
    "- $h_t$: vector that describes hidden state at the $t$-th step.  \n",
    "- $W_1$: weights associated with the input.  \n",
    "- $W_2$: weights associated with the state.  \n",
    "- $b_1$: bias associated with the input.  \n",
    "- $b_2$: bias associated with the state.  \n",
    "- $f$: activation function, typically a hyperbolic tangent.\n",
    "\n",
    "Each $h_t$ depends on $x_t$ and $h_{t-1}$. But $h_{t-1}$ depends on $x_{t-1}$ and $h_{t-2}$, and so on recursively\n",
    "\n",
    "All these computations, resulting in $h_t$ for $t = \\overline{1,n}$, can be used in the subsequent steps to describe the process we are interested in.\n",
    "\n",
    "For more detailed explanation, checkout on the [Recurrent](dl_mechanisms/recurrent.ipynb) page."
   ]
  },
  {
   "cell_type": "markdown",
   "id": "cbd0c34f",
   "metadata": {},
   "source": [
    "## Transformer\n",
    "\n",
    "The transformer is a deep learning architecture that was represented in the article [Attention Is All You Need](https://papers.nips.cc/paper_files/paper/2017/file/3f5ee243547dee91fbd053c1c4a845aa-Paper.pdf).\n",
    "\n",
    "The schema is represented in the following piture:"
   ]
  },
  {
   "cell_type": "markdown",
   "id": "507b5843",
   "metadata": {},
   "source": [
    "![](dl_mechanisms/transformer_files/schema.svg)"
   ]
  },
  {
   "cell_type": "markdown",
   "id": "db6bd4c1",
   "metadata": {},
   "source": [
    "Check for details in the [transformers](dl_mechanisms/transformer.ipynb) page."
   ]
  }
 ],
 "metadata": {
  "language_info": {
   "name": "python"
  }
 },
 "nbformat": 4,
 "nbformat_minor": 5
}
