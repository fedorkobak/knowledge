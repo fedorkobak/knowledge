{
 "cells": [
  {
   "cell_type": "markdown",
   "id": "bd07a3cd-0d99-4461-b8ed-87b42d90f9e5",
   "metadata": {},
   "source": [
    "# Memory based with sklearn"
   ]
  },
  {
   "cell_type": "code",
   "execution_count": 1,
   "id": "efcffa71-b2e6-443d-9b83-a1aea7b6108d",
   "metadata": {},
   "outputs": [],
   "source": [
    "import numpy as np\n",
    "import pandas as pd\n",
    "\n",
    "from sklearn.datasets import make_blobs\n",
    "from sklearn.neighbors import NearestNeighbors\n",
    "from sklearn.model_selection import train_test_split\n",
    "from sklearn.metrics import mean_absolute_error\n",
    "\n",
    "from scipy.spatial.distance import correlation as orig_correlation\n",
    "from surprise import KNNWithMeans, Dataset, Reader\n",
    "from ranx import Qrels, Run, evaluate"
   ]
  },
  {
   "cell_type": "markdown",
   "id": "3a9cc818-82b1-416e-8165-35464cb59575",
   "metadata": {},
   "source": [
    "## Task generation"
   ]
  },
  {
   "cell_type": "code",
   "execution_count": 2,
   "id": "801a39a2-f654-448f-aa2d-d7a047f97d2d",
   "metadata": {},
   "outputs": [
    {
     "data": {
      "text/plain": [
       "array([[ 5,  7,  2,  7,  4,  7,  3,  7,  3,  1],\n",
       "       [ 8,  5,  7,  9,  6,  7,  8,  7,  7,  8],\n",
       "       [ 3,  6,  1,  7,  2,  6,  1,  6,  2,  0],\n",
       "       [ 6,  0,  6,  6,  4,  1,  3,  6,  2,  0],\n",
       "       [ 8,  9,  2,  7,  9,  7,  8,  5,  9,  8],\n",
       "       [ 8,  9,  4, 10,  5,  8,  5, 10,  6,  4],\n",
       "       [ 7,  4,  8,  2,  1,  3,  1,  6,  0,  5],\n",
       "       [ 3,  0,  2,  5,  3,  3,  4,  3,  5,  4],\n",
       "       [ 7,  3,  8,  2,  1,  3,  1,  7,  1,  5],\n",
       "       [ 7,  8,  1,  5,  7,  6,  7,  3,  9,  7]])"
      ]
     },
     "execution_count": 2,
     "metadata": {},
     "output_type": "execute_result"
    }
   ],
   "source": [
    "np.random.seed(10)\n",
    "r_width = 10\n",
    "r_height = 500\n",
    "\n",
    "R, group = make_blobs(\n",
    "    n_samples=r_height,\n",
    "    n_features=r_width,\n",
    "    centers=5,\n",
    "    random_state=10\n",
    ")\n",
    "R = np.round((R-R.min())*10/(R.max()-R.min())).astype(int)\n",
    "\n",
    "# add bias for each object\n",
    "bias = np.random.randint(-2,3, [R.shape[0], 1])\n",
    "R = R + bias\n",
    "# sometimes bias can lead to ratings\n",
    "R = np.where(R<0, 0, R)\n",
    "R = np.where(R>10, 10, R)\n",
    "R[:10, :]"
   ]
  },
  {
   "cell_type": "code",
   "execution_count": 3,
   "id": "add750b8-71c9-4920-bf4b-4959fbb600b4",
   "metadata": {},
   "outputs": [
    {
     "data": {
      "text/html": [
       "<div>\n",
       "<style scoped>\n",
       "    .dataframe tbody tr th:only-of-type {\n",
       "        vertical-align: middle;\n",
       "    }\n",
       "\n",
       "    .dataframe tbody tr th {\n",
       "        vertical-align: top;\n",
       "    }\n",
       "\n",
       "    .dataframe thead th {\n",
       "        text-align: right;\n",
       "    }\n",
       "</style>\n",
       "<table border=\"1\" class=\"dataframe\">\n",
       "  <thead>\n",
       "    <tr style=\"text-align: right;\">\n",
       "      <th></th>\n",
       "      <th></th>\n",
       "      <th>rank</th>\n",
       "    </tr>\n",
       "    <tr>\n",
       "      <th>object</th>\n",
       "      <th>item</th>\n",
       "      <th></th>\n",
       "    </tr>\n",
       "  </thead>\n",
       "  <tbody>\n",
       "    <tr>\n",
       "      <th>436</th>\n",
       "      <th>9</th>\n",
       "      <td>2</td>\n",
       "    </tr>\n",
       "    <tr>\n",
       "      <th>402</th>\n",
       "      <th>4</th>\n",
       "      <td>1</td>\n",
       "    </tr>\n",
       "    <tr>\n",
       "      <th>302</th>\n",
       "      <th>3</th>\n",
       "      <td>5</td>\n",
       "    </tr>\n",
       "    <tr>\n",
       "      <th>230</th>\n",
       "      <th>3</th>\n",
       "      <td>6</td>\n",
       "    </tr>\n",
       "    <tr>\n",
       "      <th>264</th>\n",
       "      <th>6</th>\n",
       "      <td>8</td>\n",
       "    </tr>\n",
       "    <tr>\n",
       "      <th>64</th>\n",
       "      <th>5</th>\n",
       "      <td>3</td>\n",
       "    </tr>\n",
       "    <tr>\n",
       "      <th>398</th>\n",
       "      <th>3</th>\n",
       "      <td>2</td>\n",
       "    </tr>\n",
       "    <tr>\n",
       "      <th>296</th>\n",
       "      <th>2</th>\n",
       "      <td>8</td>\n",
       "    </tr>\n",
       "    <tr>\n",
       "      <th>241</th>\n",
       "      <th>9</th>\n",
       "      <td>3</td>\n",
       "    </tr>\n",
       "    <tr>\n",
       "      <th>380</th>\n",
       "      <th>6</th>\n",
       "      <td>5</td>\n",
       "    </tr>\n",
       "  </tbody>\n",
       "</table>\n",
       "</div>"
      ],
      "text/plain": [
       "             rank\n",
       "object item      \n",
       "436    9        2\n",
       "402    4        1\n",
       "302    3        5\n",
       "230    3        6\n",
       "264    6        8\n",
       "64     5        3\n",
       "398    3        2\n",
       "296    2        8\n",
       "241    9        3\n",
       "380    6        5"
      ]
     },
     "execution_count": 3,
     "metadata": {},
     "output_type": "execute_result"
    }
   ],
   "source": [
    "R_frame = pd.Series(\n",
    "    R.ravel(),\n",
    "    index = pd.MultiIndex.from_tuples(\n",
    "        [\n",
    "            (j,i) \n",
    "            for j in np.arange(R.shape[0]) \n",
    "            for i in np.arange(R.shape[1])\n",
    "        ],\n",
    "        names = [\"object\", \"item\"]\n",
    "    ),\n",
    "    name = \"rank\"\n",
    ").to_frame()\n",
    "\n",
    "R_frame.sample(10)"
   ]
  },
  {
   "cell_type": "code",
   "execution_count": 4,
   "id": "80746516-5d9d-4346-9e1d-70ed1f5bde68",
   "metadata": {},
   "outputs": [],
   "source": [
    "R_fr_train, R_fr_test = train_test_split(\n",
    "    R_frame, \n",
    "    train_size=0.8, \n",
    "    random_state=100\n",
    ")"
   ]
  },
  {
   "cell_type": "code",
   "execution_count": 5,
   "id": "6358f37d-b8c8-421a-9a9f-a3881fc02eba",
   "metadata": {},
   "outputs": [],
   "source": [
    "reader = Reader(\n",
    "    rating_scale=(\n",
    "        R.min().min(), R.max().max()\n",
    "    )\n",
    ")\n",
    "train_set = Dataset.load_from_df(\n",
    "    df=R_fr_train.reset_index(), \n",
    "    reader=reader\n",
    ").build_full_trainset()"
   ]
  },
  {
   "cell_type": "markdown",
   "id": "7a0bab9b-e3d6-41e6-9b3a-5ae3d46f349e",
   "metadata": {},
   "source": [
    "## surprise"
   ]
  },
  {
   "cell_type": "code",
   "execution_count": 6,
   "id": "8bf75fe5-b408-45db-83dc-fcf84f73db4d",
   "metadata": {},
   "outputs": [
    {
     "name": "stdout",
     "output_type": "stream",
     "text": [
      "Computing the msd similarity matrix...\n",
      "Done computing similarity matrix.\n"
     ]
    }
   ],
   "source": [
    "algo = KNNWithMeans().fit(train_set)"
   ]
  },
  {
   "cell_type": "code",
   "execution_count": 7,
   "id": "e1885f73-f692-45c6-bbc0-11ece768b0dc",
   "metadata": {},
   "outputs": [],
   "source": [
    "R_fr_test[\"surpr_predict\"] = [\n",
    "    algo.predict(uid=uid, iid=iid).est \n",
    "    for uid, iid in R_fr_test.index\n",
    "]"
   ]
  },
  {
   "cell_type": "code",
   "execution_count": 8,
   "id": "377add8e-cc46-4dff-ad3e-2b9dda5cd967",
   "metadata": {},
   "outputs": [
    {
     "data": {
      "text/plain": [
       "0.6451729505731039"
      ]
     },
     "execution_count": 8,
     "metadata": {},
     "output_type": "execute_result"
    }
   ],
   "source": [
    "mean_absolute_error(\n",
    "    R_fr_test[\"rank\"],\n",
    "    R_fr_test[\"surpr_predict\"]\n",
    ")"
   ]
  },
  {
   "cell_type": "code",
   "execution_count": 9,
   "id": "4358d656-0f38-4d26-8155-4577beb2dc9f",
   "metadata": {},
   "outputs": [],
   "source": [
    "R_fr_test[[\"object_str\", \"item_str\"]] = \\\n",
    "    R_fr_test.index.to_frame()[[\"object\", \"item\"]].astype(\"str\")\n",
    "\n",
    "qrels = Qrels.from_df(\n",
    "    df=R_fr_test.reset_index(),\n",
    "    q_id_col=\"object_str\", \n",
    "    doc_id_col=\"item_str\",\n",
    "    score_col=\"rank\"\n",
    ")\n",
    "surprise_run = Run.from_df(\n",
    "    df=R_fr_test.reset_index(),\n",
    "    q_id_col=\"object_str\",\n",
    "    doc_id_col=\"item_str\",\n",
    "    score_col=\"surpr_predict\"\n",
    ")"
   ]
  },
  {
   "cell_type": "code",
   "execution_count": 10,
   "id": "b8d478ab-6345-4184-ad41-3ec0e7977ebd",
   "metadata": {},
   "outputs": [
    {
     "data": {
      "text/plain": [
       "{'precision@3': 0.6651818856718633,\n",
       " 'recall@3': 0.964206172446707,\n",
       " 'ndcg@3': 0.9911405135015423}"
      ]
     },
     "execution_count": 10,
     "metadata": {},
     "output_type": "execute_result"
    }
   ],
   "source": [
    "evaluate(\n",
    "    qrels, \n",
    "    surprise_run, \n",
    "    [\n",
    "        \"precision@3\", \n",
    "        \"recall@3\", \n",
    "        \"ndcg@3\"\n",
    "    ]\n",
    ")"
   ]
  },
  {
   "cell_type": "markdown",
   "id": "ebdd1bca-9bfa-4221-84de-1b55fb1939d9",
   "metadata": {},
   "source": [
    "## sklearn"
   ]
  },
  {
   "cell_type": "code",
   "execution_count": 17,
   "id": "90686954-8b1c-4734-9e1c-89d56f6c0a37",
   "metadata": {},
   "outputs": [],
   "source": [
    "def correlation(a,b):\n",
    "    '''\n",
    "    NEED testing!!!\n",
    "    '''\n",
    "    cond = ((a != -1) & (b != -1))\n",
    "    return orig_correlation(a[cond], b[cond])\n",
    "\n",
    "R_mat_train = R_fr_train.unstack().fillna(-1).to_numpy()"
   ]
  },
  {
   "cell_type": "code",
   "execution_count": 23,
   "id": "312e1042-807e-4f54-9bc2-6682bab224a4",
   "metadata": {},
   "outputs": [],
   "source": [
    "nn = NearestNeighbors(\n",
    "    n_neighbors=40,\n",
    "    metric=correlation\n",
    ").fit(R_mat_train)"
   ]
  },
  {
   "cell_type": "code",
   "execution_count": 27,
   "id": "1150a41d-3ef3-48eb-a08f-75d122853279",
   "metadata": {},
   "outputs": [
    {
     "name": "stderr",
     "output_type": "stream",
     "text": [
      "/home/f.kobak@maxbit.local/.local/lib/python3.10/site-packages/scipy/spatial/distance.py:647: RuntimeWarning: invalid value encountered in scalar divide\n",
      "  dist = 1.0 - uv / math.sqrt(uu * vv)\n",
      "/home/f.kobak@maxbit.local/.local/lib/python3.10/site-packages/numpy/core/fromnumeric.py:3504: RuntimeWarning: Mean of empty slice.\n",
      "  return _methods._mean(a, axis=axis, dtype=dtype,\n",
      "/home/f.kobak@maxbit.local/.local/lib/python3.10/site-packages/numpy/core/_methods.py:129: RuntimeWarning: invalid value encountered in scalar divide\n",
      "  ret = ret.dtype.type(ret / rcount)\n"
     ]
    }
   ],
   "source": [
    "distances, indices = nn.kneighbors(R_mat_train)"
   ]
  },
  {
   "cell_type": "code",
   "execution_count": 122,
   "id": "f74521f5-b3e2-4d5b-be19-8be846e1e364",
   "metadata": {},
   "outputs": [],
   "source": [
    "def get_estimations(obj):\n",
    "    dist, ind = distances[obj, :], indices[obj, :]\n",
    "    collaboration_R = np.where(\n",
    "        R_mat_train[ind,:] == -1,\n",
    "        np.NaN, R_mat_train[ind,:]\n",
    "    )\n",
    "    collaboration_r_bar = np.nanmean(collaboration_R, axis=1)\n",
    "\n",
    "    sim = 1-dist\n",
    "\n",
    "    scores = np.nansum(\n",
    "        (collaboration_R - collaboration_r_bar[:, np.newaxis])*sim[:, np.newaxis],\n",
    "        axis=0\n",
    "    )/np.abs(sim).sum()\n",
    "\n",
    "    m = np.nanmean(np.where(\n",
    "        R_mat_train[obj,:]==-1,\n",
    "        np.NaN, \n",
    "        R_mat_train[obj,:]\n",
    "    ))\n",
    "\n",
    "    return scores+m"
   ]
  },
  {
   "cell_type": "code",
   "execution_count": 149,
   "id": "96e1270b-f559-4213-a794-14b92d83d3a6",
   "metadata": {},
   "outputs": [],
   "source": [
    "predictions = np.concatenate(\n",
    "    [\n",
    "        get_estimations(i)[np.newaxis, :]\n",
    "        for i in range(500)\n",
    "    ]\n",
    ")"
   ]
  },
  {
   "cell_type": "code",
   "execution_count": 151,
   "id": "4df1ad59-e15d-4225-8edf-cd09f899a435",
   "metadata": {},
   "outputs": [
    {
     "data": {
      "text/plain": [
       "array([7.28898973, 2.18974413, 5.98889745, 6.88389521, 5.17644765,\n",
       "       3.4250464 , 3.25849608, 7.11749231, 3.29885262, 2.51499556])"
      ]
     },
     "execution_count": 151,
     "metadata": {},
     "output_type": "execute_result"
    }
   ],
   "source": [
    "predictions[300, :]"
   ]
  },
  {
   "cell_type": "code",
   "execution_count": 137,
   "id": "c139f525-0b45-47bc-be95-27423a74acd3",
   "metadata": {},
   "outputs": [
    {
     "data": {
      "text/plain": [
       "array([8, 2, 6, 7, 5, 3, 3, 8, 3, 2])"
      ]
     },
     "execution_count": 137,
     "metadata": {},
     "output_type": "execute_result"
    }
   ],
   "source": [
    "R[300, :]"
   ]
  }
 ],
 "metadata": {
  "kernelspec": {
   "display_name": "Python 3 (ipykernel)",
   "language": "python",
   "name": "python3"
  },
  "language_info": {
   "codemirror_mode": {
    "name": "ipython",
    "version": 3
   },
   "file_extension": ".py",
   "mimetype": "text/x-python",
   "name": "python",
   "nbconvert_exporter": "python",
   "pygments_lexer": "ipython3",
   "version": "3.10.12"
  }
 },
 "nbformat": 4,
 "nbformat_minor": 5
}
