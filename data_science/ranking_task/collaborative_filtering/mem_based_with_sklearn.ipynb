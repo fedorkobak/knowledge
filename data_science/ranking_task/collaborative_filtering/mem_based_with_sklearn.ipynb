{
 "cells": [
  {
   "cell_type": "markdown",
   "id": "bd07a3cd-0d99-4461-b8ed-87b42d90f9e5",
   "metadata": {},
   "source": [
    "# Memory based with sklearn"
   ]
  },
  {
   "cell_type": "code",
   "execution_count": 1,
   "id": "efcffa71-b2e6-443d-9b83-a1aea7b6108d",
   "metadata": {},
   "outputs": [],
   "source": [
    "import numpy as np\n",
    "import pandas as pd\n",
    "\n",
    "from sklearn.datasets import make_blobs\n",
    "from sklearn.neighbors import NearestNeighbors\n",
    "from sklearn.model_selection import train_test_split\n",
    "from sklearn.metrics import mean_absolute_error\n",
    "\n",
    "from scipy.spatial.distance import (\n",
    "    correlation as orig_correlation,\n",
    "    cosine as orig_cosine\n",
    ")\n",
    "from surprise import KNNWithMeans, Dataset, Reader\n",
    "from ranx import Qrels, Run, evaluate"
   ]
  },
  {
   "cell_type": "markdown",
   "id": "3a9cc818-82b1-416e-8165-35464cb59575",
   "metadata": {},
   "source": [
    "## Task generation"
   ]
  },
  {
   "cell_type": "code",
   "execution_count": 2,
   "id": "801a39a2-f654-448f-aa2d-d7a047f97d2d",
   "metadata": {},
   "outputs": [
    {
     "data": {
      "text/plain": [
       "array([[ 5,  7,  2,  7,  4,  7,  3,  7,  3,  1],\n",
       "       [ 8,  5,  7,  9,  6,  7,  8,  7,  7,  8],\n",
       "       [ 3,  6,  1,  7,  2,  6,  1,  6,  2,  0],\n",
       "       [ 6,  0,  6,  6,  4,  1,  3,  6,  2,  0],\n",
       "       [ 8,  9,  2,  7,  9,  7,  8,  5,  9,  8],\n",
       "       [ 8,  9,  4, 10,  5,  8,  5, 10,  6,  4],\n",
       "       [ 7,  4,  8,  2,  1,  3,  1,  6,  0,  5],\n",
       "       [ 3,  0,  2,  5,  3,  3,  4,  3,  5,  4],\n",
       "       [ 7,  3,  8,  2,  1,  3,  1,  7,  1,  5],\n",
       "       [ 7,  8,  1,  5,  7,  6,  7,  3,  9,  7]])"
      ]
     },
     "execution_count": 2,
     "metadata": {},
     "output_type": "execute_result"
    }
   ],
   "source": [
    "np.random.seed(10)\n",
    "r_width = 10\n",
    "r_height = 500\n",
    "\n",
    "R, group = make_blobs(\n",
    "    n_samples=r_height,\n",
    "    n_features=r_width,\n",
    "    centers=5,\n",
    "    random_state=10\n",
    ")\n",
    "R = np.round((R-R.min())*10/(R.max()-R.min())).astype(int)\n",
    "\n",
    "# add bias for each object\n",
    "bias = np.random.randint(-2,3, [R.shape[0], 1])\n",
    "R = R + bias\n",
    "# sometimes bias can lead to ratings\n",
    "R = np.where(R<0, 0, R)\n",
    "R = np.where(R>10, 10, R)\n",
    "R[:10, :]"
   ]
  },
  {
   "cell_type": "code",
   "execution_count": 6,
   "id": "add750b8-71c9-4920-bf4b-4959fbb600b4",
   "metadata": {},
   "outputs": [
    {
     "data": {
      "text/html": [
       "<div>\n",
       "<style scoped>\n",
       "    .dataframe tbody tr th:only-of-type {\n",
       "        vertical-align: middle;\n",
       "    }\n",
       "\n",
       "    .dataframe tbody tr th {\n",
       "        vertical-align: top;\n",
       "    }\n",
       "\n",
       "    .dataframe thead th {\n",
       "        text-align: right;\n",
       "    }\n",
       "</style>\n",
       "<table border=\"1\" class=\"dataframe\">\n",
       "  <thead>\n",
       "    <tr style=\"text-align: right;\">\n",
       "      <th></th>\n",
       "      <th></th>\n",
       "      <th>rank</th>\n",
       "      <th>relevant</th>\n",
       "      <th>random_predict</th>\n",
       "    </tr>\n",
       "    <tr>\n",
       "      <th>object</th>\n",
       "      <th>item</th>\n",
       "      <th></th>\n",
       "      <th></th>\n",
       "      <th></th>\n",
       "    </tr>\n",
       "  </thead>\n",
       "  <tbody>\n",
       "    <tr>\n",
       "      <th>38</th>\n",
       "      <th>7</th>\n",
       "      <td>6</td>\n",
       "      <td>1</td>\n",
       "      <td>0.037330</td>\n",
       "    </tr>\n",
       "    <tr>\n",
       "      <th>126</th>\n",
       "      <th>4</th>\n",
       "      <td>6</td>\n",
       "      <td>1</td>\n",
       "      <td>0.120591</td>\n",
       "    </tr>\n",
       "    <tr>\n",
       "      <th>147</th>\n",
       "      <th>3</th>\n",
       "      <td>8</td>\n",
       "      <td>1</td>\n",
       "      <td>0.285638</td>\n",
       "    </tr>\n",
       "    <tr>\n",
       "      <th>215</th>\n",
       "      <th>2</th>\n",
       "      <td>3</td>\n",
       "      <td>0</td>\n",
       "      <td>0.204547</td>\n",
       "    </tr>\n",
       "    <tr>\n",
       "      <th>44</th>\n",
       "      <th>5</th>\n",
       "      <td>3</td>\n",
       "      <td>0</td>\n",
       "      <td>0.501746</td>\n",
       "    </tr>\n",
       "    <tr>\n",
       "      <th>264</th>\n",
       "      <th>3</th>\n",
       "      <td>10</td>\n",
       "      <td>1</td>\n",
       "      <td>0.790650</td>\n",
       "    </tr>\n",
       "    <tr>\n",
       "      <th>401</th>\n",
       "      <th>7</th>\n",
       "      <td>8</td>\n",
       "      <td>1</td>\n",
       "      <td>0.507431</td>\n",
       "    </tr>\n",
       "    <tr>\n",
       "      <th>233</th>\n",
       "      <th>0</th>\n",
       "      <td>6</td>\n",
       "      <td>1</td>\n",
       "      <td>0.794765</td>\n",
       "    </tr>\n",
       "    <tr>\n",
       "      <th>361</th>\n",
       "      <th>9</th>\n",
       "      <td>7</td>\n",
       "      <td>1</td>\n",
       "      <td>0.169455</td>\n",
       "    </tr>\n",
       "    <tr>\n",
       "      <th>312</th>\n",
       "      <th>2</th>\n",
       "      <td>6</td>\n",
       "      <td>1</td>\n",
       "      <td>0.181615</td>\n",
       "    </tr>\n",
       "  </tbody>\n",
       "</table>\n",
       "</div>"
      ],
      "text/plain": [
       "             rank  relevant  random_predict\n",
       "object item                                \n",
       "38     7        6         1        0.037330\n",
       "126    4        6         1        0.120591\n",
       "147    3        8         1        0.285638\n",
       "215    2        3         0        0.204547\n",
       "44     5        3         0        0.501746\n",
       "264    3       10         1        0.790650\n",
       "401    7        8         1        0.507431\n",
       "233    0        6         1        0.794765\n",
       "361    9        7         1        0.169455\n",
       "312    2        6         1        0.181615"
      ]
     },
     "execution_count": 6,
     "metadata": {},
     "output_type": "execute_result"
    }
   ],
   "source": [
    "np.random.seed(10)\n",
    "R_frame = pd.Series(\n",
    "    R.ravel(),\n",
    "    index = pd.MultiIndex.from_tuples(\n",
    "        [\n",
    "            (j,i) \n",
    "            for j in np.arange(R.shape[0]) \n",
    "            for i in np.arange(R.shape[1])\n",
    "        ],\n",
    "        names = [\"object\", \"item\"]\n",
    "    ),\n",
    "    name = \"rank\"\n",
    ").to_frame()\n",
    "\n",
    "R_frame[\"relevant\"] = (R_frame[\"rank\"] > 5).astype(\"int\")\n",
    "R_frame[\"random_predict\"] = np.random.rand(R_frame.shape[0])\n",
    "R_frame.sample(10)"
   ]
  },
  {
   "cell_type": "code",
   "execution_count": 7,
   "id": "80746516-5d9d-4346-9e1d-70ed1f5bde68",
   "metadata": {},
   "outputs": [],
   "source": [
    "R_fr_train, R_fr_test = train_test_split(\n",
    "    R_frame, \n",
    "    train_size=0.8, \n",
    "    random_state=100\n",
    ")"
   ]
  },
  {
   "cell_type": "code",
   "execution_count": 10,
   "id": "dc5025db-e22b-4460-adc2-e102238172f9",
   "metadata": {},
   "outputs": [
    {
     "data": {
      "text/plain": [
       "{'precision@3': 0.311804008908686,\n",
       " 'recall@3': 0.6076837416481069,\n",
       " 'ndcg@3': 0.5401559043967112}"
      ]
     },
     "execution_count": 10,
     "metadata": {},
     "output_type": "execute_result"
    }
   ],
   "source": [
    "metrics = [\n",
    "    \"precision@3\", \n",
    "    \"recall@3\", \n",
    "    \"ndcg@3\"\n",
    "]\n",
    "R_fr_test[[\"object_str\", \"item_str\"]] = \\\n",
    "    R_fr_test.index.to_frame()[[\"object\", \"item\"]].astype(\"str\")\n",
    "\n",
    "qrels = Qrels.from_df(\n",
    "    df=R_fr_test.reset_index(),\n",
    "    q_id_col=\"object_str\", \n",
    "    doc_id_col=\"item_str\",\n",
    "    score_col=\"relevant\"\n",
    ")\n",
    "\n",
    "random_run = Run.from_df(\n",
    "    df=R_fr_test.reset_index(),\n",
    "    q_id_col=\"object_str\",\n",
    "    doc_id_col=\"item_str\",\n",
    "    score_col=\"random_predict\"\n",
    ")\n",
    "\n",
    "evaluate(\n",
    "    qrels, \n",
    "    random_run, \n",
    "    metrics=metrics\n",
    ")"
   ]
  },
  {
   "cell_type": "markdown",
   "id": "7a0bab9b-e3d6-41e6-9b3a-5ae3d46f349e",
   "metadata": {},
   "source": [
    "## surprise"
   ]
  },
  {
   "cell_type": "code",
   "execution_count": 11,
   "id": "8bf75fe5-b408-45db-83dc-fcf84f73db4d",
   "metadata": {},
   "outputs": [
    {
     "name": "stdout",
     "output_type": "stream",
     "text": [
      "Computing the msd similarity matrix...\n",
      "Done computing similarity matrix.\n"
     ]
    }
   ],
   "source": [
    "reader = Reader(\n",
    "    rating_scale=(\n",
    "        R.min().min(), R.max().max()\n",
    "    )\n",
    ")\n",
    "train_set = Dataset.load_from_df(\n",
    "    df=R_fr_train[\"rank\"].reset_index(), \n",
    "    reader=reader\n",
    ").build_full_trainset()\n",
    "algo = KNNWithMeans().fit(train_set)"
   ]
  },
  {
   "cell_type": "code",
   "execution_count": 13,
   "id": "e1885f73-f692-45c6-bbc0-11ece768b0dc",
   "metadata": {},
   "outputs": [],
   "source": [
    "R_fr_test[\"surpr_predict\"] = [\n",
    "    algo.predict(uid=uid, iid=iid).est \n",
    "    for uid, iid in R_fr_test.index\n",
    "]"
   ]
  },
  {
   "cell_type": "code",
   "execution_count": 14,
   "id": "377add8e-cc46-4dff-ad3e-2b9dda5cd967",
   "metadata": {},
   "outputs": [
    {
     "data": {
      "text/plain": [
       "0.6451729505731039"
      ]
     },
     "execution_count": 14,
     "metadata": {},
     "output_type": "execute_result"
    }
   ],
   "source": [
    "mean_absolute_error(\n",
    "    R_fr_test[\"rank\"],\n",
    "    R_fr_test[\"surpr_predict\"]\n",
    ")"
   ]
  },
  {
   "cell_type": "code",
   "execution_count": 17,
   "id": "4358d656-0f38-4d26-8155-4577beb2dc9f",
   "metadata": {},
   "outputs": [
    {
     "data": {
      "text/plain": [
       "{'precision@3': 0.3266518188567186,\n",
       " 'recall@3': 0.6303266518188567,\n",
       " 'ndcg@3': 0.6346257036375941}"
      ]
     },
     "execution_count": 17,
     "metadata": {},
     "output_type": "execute_result"
    }
   ],
   "source": [
    "surprise_run = Run.from_df(\n",
    "    df=R_fr_test.reset_index(),\n",
    "    q_id_col=\"object_str\",\n",
    "    doc_id_col=\"item_str\",\n",
    "    score_col=\"surpr_predict\"\n",
    ")\n",
    "evaluate(\n",
    "    qrels, \n",
    "    surprise_run, \n",
    "    metrics=metrics\n",
    ")"
   ]
  },
  {
   "cell_type": "markdown",
   "id": "ebdd1bca-9bfa-4221-84de-1b55fb1939d9",
   "metadata": {},
   "source": [
    "## sklearn"
   ]
  },
  {
   "cell_type": "code",
   "execution_count": 11,
   "id": "90686954-8b1c-4734-9e1c-89d56f6c0a37",
   "metadata": {},
   "outputs": [],
   "source": [
    "def correlation(a,b):\n",
    "    cond = ((a != -1) & (b != -1))\n",
    "    # in case if there are only two\n",
    "    # observations it's impossible\n",
    "    # to compute coorrelation coeficient\n",
    "    # it's invalid case - so we return \n",
    "    # the biggest possible distance\n",
    "    if sum(cond) <=1:\n",
    "        return 2\n",
    "\n",
    "    a_std = a[cond].std()\n",
    "    b_std = b[cond].std()\n",
    "\n",
    "    # Pearson coefficient uses standard \n",
    "    # deviations in the denominator, so \n",
    "    # if any of them is equal to zero, \n",
    "    # we have to return the biggest\n",
    "    # possible distance.\n",
    "    if a_std==0 or b_std==0:\n",
    "        return 2\n",
    "    return orig_correlation(a,b)\n",
    "\n",
    "R_mat_train = R_fr_train.unstack().fillna(-1).to_numpy()"
   ]
  },
  {
   "cell_type": "code",
   "execution_count": 12,
   "id": "312e1042-807e-4f54-9bc2-6682bab224a4",
   "metadata": {},
   "outputs": [],
   "source": [
    "nn = NearestNeighbors(\n",
    "    n_neighbors=40,\n",
    "    metric=correlation\n",
    ").fit(R_mat_train)"
   ]
  },
  {
   "cell_type": "code",
   "execution_count": 13,
   "id": "1150a41d-3ef3-48eb-a08f-75d122853279",
   "metadata": {},
   "outputs": [],
   "source": [
    "distances, indices = nn.kneighbors(R_mat_train)"
   ]
  },
  {
   "cell_type": "code",
   "execution_count": 14,
   "id": "c055f9db-ae8c-4699-94b9-3f5c6e4d2de4",
   "metadata": {},
   "outputs": [],
   "source": [
    "for i in range(500):\n",
    "    a = correlation(\n",
    "        R_mat_train[i,:],\n",
    "        R_mat_train[23,:]\n",
    "    )"
   ]
  },
  {
   "cell_type": "code",
   "execution_count": 15,
   "id": "f794c096-1535-4f95-8b6b-9f6cdb6a1682",
   "metadata": {},
   "outputs": [
    {
     "data": {
      "text/plain": [
       "(array([[0.        , 0.00773735, 0.01793955, 0.02036468, 0.03078565,\n",
       "         0.12830688, 0.1367376 , 0.1594134 , 0.19499183, 0.19572999,\n",
       "         0.21355416, 0.21951847, 0.2424083 , 0.24593219, 0.24878308,\n",
       "         0.25488075, 0.25593612, 0.25793885, 0.26449012, 0.26531659,\n",
       "         0.27145967, 0.27193466, 0.28108243, 0.2833314 , 0.29896649,\n",
       "         0.30095485, 0.31178408, 0.32141895, 0.33011679, 0.33980562,\n",
       "         0.34359015, 0.34828176, 0.351791  , 0.37609985, 0.38677301,\n",
       "         0.39023288, 0.39090246, 0.39342912, 0.40267617, 0.41134453]]),\n",
       " array([[ 23,  43, 438, 434, 499, 277, 405, 387, 373, 334, 211, 194, 340,\n",
       "         166, 329,  39, 439, 314, 303, 257,   4, 350,  46, 283, 198, 284,\n",
       "         270,  47,  57, 156, 328, 425,  55, 371, 351, 173,  24, 196, 421,\n",
       "         445]]))"
      ]
     },
     "execution_count": 15,
     "metadata": {},
     "output_type": "execute_result"
    }
   ],
   "source": [
    "nn.kneighbors(R_mat_train[[23],:])"
   ]
  },
  {
   "cell_type": "code",
   "execution_count": 16,
   "id": "f74521f5-b3e2-4d5b-be19-8be846e1e364",
   "metadata": {},
   "outputs": [],
   "source": [
    "def get_estimations(obj):\n",
    "    dist, ind = distances[obj, :], indices[obj, :]\n",
    "    collaboration_R = np.where(\n",
    "        R_mat_train[ind,:] == -1,\n",
    "        np.NaN, R_mat_train[ind,:]\n",
    "    )\n",
    "    collaboration_r_bar = np.nanmean(collaboration_R, axis=1)\n",
    "\n",
    "    sim = 1-dist\n",
    "\n",
    "    scores = np.nansum(\n",
    "        (collaboration_R - collaboration_r_bar[:, np.newaxis])*sim[:, np.newaxis],\n",
    "        axis=0\n",
    "    )/np.abs(sim).sum()\n",
    "\n",
    "    m = np.nanmean(np.where(\n",
    "        R_mat_train[obj,:]==-1,\n",
    "        np.NaN, \n",
    "        R_mat_train[obj,:]\n",
    "    ))\n",
    "\n",
    "    return scores+m"
   ]
  },
  {
   "cell_type": "code",
   "execution_count": 17,
   "id": "96e1270b-f559-4213-a794-14b92d83d3a6",
   "metadata": {},
   "outputs": [],
   "source": [
    "sklearn_predictions = np.concatenate(\n",
    "    [\n",
    "        get_estimations(i)[np.newaxis, :]\n",
    "        for i in range(500)\n",
    "    ]\n",
    ")"
   ]
  },
  {
   "cell_type": "code",
   "execution_count": 18,
   "id": "44110a80-4767-4429-9b6d-7cc76af56151",
   "metadata": {},
   "outputs": [
    {
     "data": {
      "text/plain": [
       "6.55170660504411"
      ]
     },
     "execution_count": 18,
     "metadata": {},
     "output_type": "execute_result"
    }
   ],
   "source": [
    "algo.predict(uid=300, iid=2).est "
   ]
  },
  {
   "cell_type": "code",
   "execution_count": 19,
   "id": "534778be-7524-4f97-a213-61e603020867",
   "metadata": {},
   "outputs": [
    {
     "data": {
      "text/plain": [
       "array([6.42680978, 4.46057007, 3.90834435, 6.76853161, 3.8343215 ,\n",
       "       4.76347161, 3.38226289, 7.71132283, 2.91157822, 2.9756443 ])"
      ]
     },
     "execution_count": 19,
     "metadata": {},
     "output_type": "execute_result"
    }
   ],
   "source": [
    "sklearn_predictions[300,:]"
   ]
  },
  {
   "cell_type": "code",
   "execution_count": 20,
   "id": "c139f525-0b45-47bc-be95-27423a74acd3",
   "metadata": {},
   "outputs": [
    {
     "data": {
      "text/plain": [
       "array([8, 2, 6, 7, 5, 3, 3, 8, 3, 2])"
      ]
     },
     "execution_count": 20,
     "metadata": {},
     "output_type": "execute_result"
    }
   ],
   "source": [
    "R[300, :]"
   ]
  }
 ],
 "metadata": {
  "kernelspec": {
   "display_name": "Python 3 (ipykernel)",
   "language": "python",
   "name": "python3"
  },
  "language_info": {
   "codemirror_mode": {
    "name": "ipython",
    "version": 3
   },
   "file_extension": ".py",
   "mimetype": "text/x-python",
   "name": "python",
   "nbconvert_exporter": "python",
   "pygments_lexer": "ipython3",
   "version": "3.10.14"
  }
 },
 "nbformat": 4,
 "nbformat_minor": 5
}
