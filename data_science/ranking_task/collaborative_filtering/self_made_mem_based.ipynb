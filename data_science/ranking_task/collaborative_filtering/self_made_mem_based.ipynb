{
 "cells": [
  {
   "cell_type": "markdown",
   "id": "bd07a3cd-0d99-4461-b8ed-87b42d90f9e5",
   "metadata": {},
   "source": [
    "# Selfmade memory based"
   ]
  },
  {
   "cell_type": "code",
   "execution_count": 1,
   "id": "efcffa71-b2e6-443d-9b83-a1aea7b6108d",
   "metadata": {},
   "outputs": [],
   "source": [
    "import io\n",
    "import zipfile\n",
    "import requests\n",
    "\n",
    "import numpy as np\n",
    "import pandas as pd\n",
    "\n",
    "import matplotlib.pyplot as plt\n",
    "\n",
    "from sklearn.datasets import make_blobs\n",
    "from sklearn.model_selection import train_test_split\n",
    "from sklearn.datasets import fetch_openml\n",
    "\n",
    "from scipy.spatial.distance import (\n",
    "    correlation as orig_correlation,\n",
    "    cosine as orig_cosine\n",
    ")\n",
    "from surprise import KNNWithMeans, Dataset, Reader\n",
    "from ranx import Qrels, Run, evaluate\n",
    "\n",
    "from typing import Union, Callable\n",
    "\n",
    "from IPython.display import HTML\n",
    "header_pattern = \"<text style='font-size:20px'>{}</text>\""
   ]
  },
  {
   "cell_type": "markdown",
   "id": "3a9cc818-82b1-416e-8165-35464cb59575",
   "metadata": {},
   "source": [
    "## Task generation"
   ]
  },
  {
   "cell_type": "code",
   "execution_count": 2,
   "id": "801a39a2-f654-448f-aa2d-d7a047f97d2d",
   "metadata": {},
   "outputs": [
    {
     "data": {
      "text/plain": [
       "array([[ 7,  6,  3,  8,  1,  6,  2,  1,  1,  7,  4,  3,  0,  7,  5,  2,\n",
       "         2,  0,  0,  5,  1,  4,  5,  2,  6,  3,  5,  7,  5,  6,  4,  5,\n",
       "         6,  7,  1,  5,  2,  1,  7,  6,  1,  0,  4,  1,  2,  2,  3,  1,\n",
       "         0,  4,  5,  1,  6,  7,  5,  0,  5,  6,  1,  4,  2,  1,  7,  3,\n",
       "         1,  3,  1,  6,  2,  3,  4,  6,  4,  7,  7,  2,  7,  2,  5,  2,\n",
       "         7,  7,  7,  4,  1,  4,  6,  4,  3,  6,  7,  2,  8,  5,  8,  5,\n",
       "         7,  6,  5,  4],\n",
       "       [ 4,  8,  6,  7,  7,  7,  6,  7,  7,  7,  9,  9,  6,  4,  5,  6,\n",
       "         5,  9,  7,  9,  7,  8,  3,  6,  8,  8,  6, 10, 10,  4,  4,  7,\n",
       "         4,  5, 10,  9,  6,  4,  8,  9,  5,  7,  4,  8,  3,  6,  6, 10,\n",
       "         6,  5,  3,  6,  8,  4,  6,  7,  6,  7,  3,  6,  9,  9,  3,  9,\n",
       "         6,  7,  6,  4,  4,  7,  4,  3, 10,  7, 10,  8,  5,  6, 10,  7,\n",
       "         9,  4,  9,  8,  6,  5,  5,  3, 10,  9,  6,  4, 10, 10,  5, 10,\n",
       "         4,  9,  9,  9],\n",
       "       [ 0,  6,  4,  0,  4,  0,  6,  0,  6,  4,  1,  1,  4,  4,  1,  6,\n",
       "         2,  5,  1,  6,  6,  3,  2,  0,  7,  4,  1,  0,  0,  4,  0,  1,\n",
       "         1,  1,  6,  6,  6,  5,  0,  4,  3,  0,  4,  0,  4,  6,  0,  1,\n",
       "         6,  0,  0,  5,  1,  1,  0,  2,  3,  1,  2,  2,  2,  1,  1,  1,\n",
       "         6,  6,  6,  1,  4,  2,  5,  4,  5,  0,  4,  5,  6,  2,  0,  0,\n",
       "         4,  5,  0,  6,  6,  6,  7,  4,  4,  0,  6,  5,  2,  7,  2,  0,\n",
       "         0,  3,  3,  0],\n",
       "       [ 7,  0,  2,  6,  5,  5,  0,  3,  6,  3,  8,  4,  0,  2,  3,  2,\n",
       "         3,  6,  5,  5,  3,  7,  4,  5,  2,  1,  0,  7,  2,  7,  2,  6,\n",
       "         5,  4,  1,  7,  7,  1,  2,  4,  0,  0,  1,  2,  0,  1,  5,  4,\n",
       "         3,  6,  2,  4,  1,  5,  6,  7,  1,  1,  7,  1,  8,  5,  2,  7,\n",
       "         1,  4,  4,  2,  6,  3,  6,  0,  4,  5,  3,  6,  6,  1,  2,  1,\n",
       "         4,  7,  8,  4,  1,  6,  4,  1,  1,  5,  1,  3,  6,  5,  4,  7,\n",
       "         3,  3,  7,  1],\n",
       "       [ 5,  5,  9,  7,  3,  2,  7, 10,  5,  9,  7,  4,  3,  4,  6,  8,\n",
       "         3,  7,  2,  9,  4,  9,  7,  5,  4,  8,  3,  5,  4,  7,  8,  7,\n",
       "         9,  3,  8,  6,  8,  4,  7,  3,  4,  9,  6,  2,  7,  4,  7,  7,\n",
       "         7,  9,  3,  7,  4,  4,  7, 10,  5,  5,  6,  9,  4,  4,  3,  8,\n",
       "         5,  6,  8,  8,  4,  9,  3,  4,  2,  8,  6,  9,  4,  6,  7,  7,\n",
       "         9,  6,  6,  3,  4,  8,  9,  6,  9,  7,  3,  5,  6,  5,  8,  6,\n",
       "         8,  7,  7,  2],\n",
       "       [ 5,  8,  5,  8,  5, 10,  3,  3,  3, 10,  6,  9,  5,  4, 10,  6,\n",
       "         7, 10,  6,  4, 10,  7,  6,  9,  7,  6,  7, 10,  4,  3,  9,  5,\n",
       "         7,  4, 10,  8, 10,  4,  4,  6,  4, 10,  5,  7,  4, 10,  7,  8,\n",
       "         4,  9,  8,  9,  8,  8, 10,  4,  7,  3,  4,  9,  8,  8,  6, 10,\n",
       "         7,  9, 10,  8,  8,  9,  4,  3,  4,  4,  5,  3,  7,  8, 10,  4,\n",
       "         4, 10, 10,  4,  5,  9,  5,  6,  6,  6,  5,  8,  6,  8,  8,  6,\n",
       "         5,  8,  3,  8],\n",
       "       [ 0,  0,  5,  5,  0,  5,  0,  3,  2,  6,  1,  6,  7,  4,  5,  6,\n",
       "         3,  6,  6,  5,  1,  5,  8,  3,  1,  2,  6,  1,  0,  2,  3,  1,\n",
       "         1,  5,  2,  3,  5,  5,  4,  2,  4,  2,  5,  7,  5,  4,  2,  1,\n",
       "         8,  6,  6,  5,  1,  6,  7,  2,  3,  2,  6,  3,  7,  2,  6,  2,\n",
       "         2,  1,  1,  6,  5,  2,  3,  5,  1,  2,  7,  7,  0,  2,  2,  4,\n",
       "         1,  8,  1,  3,  2,  5,  2,  2,  5,  4,  6,  4,  3,  1,  2,  8,\n",
       "         1,  2,  1,  5],\n",
       "       [ 0,  0,  3,  0,  4,  6,  2,  0,  0,  0,  6,  5,  0,  6,  6,  2,\n",
       "         2,  5,  3,  0,  0,  5,  6,  1,  6,  3,  3,  2,  3,  0,  0,  5,\n",
       "         0,  5,  2,  0,  4,  2,  1,  7,  1,  2,  0,  2,  0,  3,  5,  0,\n",
       "         0,  0,  6,  7,  3,  1,  6,  4,  5,  3,  5,  2,  0,  6,  0,  0,\n",
       "         0,  6,  1,  0,  1,  0,  2,  5,  4,  1,  1,  3,  6,  4,  5,  3,\n",
       "         1,  5,  1,  3,  0,  4,  1,  5,  1,  5,  1,  0,  0,  2,  1,  3,\n",
       "         1,  4,  3,  4],\n",
       "       [ 6,  0,  4,  5,  4,  2,  1,  6,  2,  1,  5,  7,  0,  4,  6,  5,\n",
       "         6,  2,  7,  6,  4,  1,  3,  5,  3,  4,  5,  4,  5,  4,  6,  4,\n",
       "         7,  3,  1,  2,  2,  6,  0,  5,  4,  6,  1,  7,  3,  6,  2,  7,\n",
       "         3,  2,  3,  1,  6,  1,  3,  7,  8,  4,  6,  1,  5,  7,  4,  5,\n",
       "         1,  3,  1,  2,  2,  7,  0,  3,  3,  5,  3,  1,  7,  6,  7,  3,\n",
       "         5,  4,  4,  2,  2,  1,  3,  2,  4,  4,  4,  2,  0,  7,  3,  4,\n",
       "         8,  3,  3,  4],\n",
       "       [ 3,  7,  5,  8,  6,  4,  2,  6,  4,  3,  2,  7,  2,  3,  8,  6,\n",
       "         4,  4,  4,  5,  5,  7,  3,  7,  2,  6,  5,  2,  6,  7,  7,  1,\n",
       "         7,  6,  6,  3,  5,  9,  5,  7,  2,  2,  8,  7,  5,  6,  6,  7,\n",
       "         7,  2,  5,  6,  7,  8,  4,  8,  4,  4,  6,  4,  6,  3,  3,  4,\n",
       "         6,  2,  3,  8,  2,  7,  8,  1,  4,  2,  5,  8,  6,  7,  2,  1,\n",
       "         4,  6,  6,  3,  7,  4,  5,  2,  2,  2,  3,  6,  5,  4,  2,  2,\n",
       "         1,  2,  5,  8]])"
      ]
     },
     "execution_count": 2,
     "metadata": {},
     "output_type": "execute_result"
    }
   ],
   "source": [
    "np.random.seed(10)\n",
    "r_width = 100\n",
    "r_height = 500\n",
    "\n",
    "R, group = make_blobs(\n",
    "    n_samples=r_height,\n",
    "    n_features=r_width,\n",
    "    centers=100,\n",
    "    random_state=10\n",
    ")\n",
    "R = np.round((R-R.min())*10/(R.max()-R.min())).astype(int)\n",
    "\n",
    "# add bias for each object\n",
    "bias = np.random.randint(-2,3, [R.shape[0], 1])\n",
    "R = R + bias\n",
    "# sometimes bias can lead to ratings\n",
    "R = np.where(R<0, 0, R)\n",
    "R = np.where(R>10, 10, R)\n",
    "R[:10, :]"
   ]
  },
  {
   "cell_type": "code",
   "execution_count": 3,
   "id": "df2baa19-f9c7-43c3-b6d6-ae3d6bbfabe0",
   "metadata": {},
   "outputs": [
    {
     "data": {
      "text/html": [
       "<div>\n",
       "<style scoped>\n",
       "    .dataframe tbody tr th:only-of-type {\n",
       "        vertical-align: middle;\n",
       "    }\n",
       "\n",
       "    .dataframe tbody tr th {\n",
       "        vertical-align: top;\n",
       "    }\n",
       "\n",
       "    .dataframe thead th {\n",
       "        text-align: right;\n",
       "    }\n",
       "</style>\n",
       "<table border=\"1\" class=\"dataframe\">\n",
       "  <thead>\n",
       "    <tr style=\"text-align: right;\">\n",
       "      <th></th>\n",
       "      <th></th>\n",
       "      <th>rank</th>\n",
       "    </tr>\n",
       "    <tr>\n",
       "      <th>object</th>\n",
       "      <th>item</th>\n",
       "      <th></th>\n",
       "    </tr>\n",
       "  </thead>\n",
       "  <tbody>\n",
       "    <tr>\n",
       "      <th>276</th>\n",
       "      <th>32</th>\n",
       "      <td>6</td>\n",
       "    </tr>\n",
       "    <tr>\n",
       "      <th>361</th>\n",
       "      <th>19</th>\n",
       "      <td>2</td>\n",
       "    </tr>\n",
       "    <tr>\n",
       "      <th>47</th>\n",
       "      <th>96</th>\n",
       "      <td>9</td>\n",
       "    </tr>\n",
       "    <tr>\n",
       "      <th>36</th>\n",
       "      <th>48</th>\n",
       "      <td>5</td>\n",
       "    </tr>\n",
       "    <tr>\n",
       "      <th>245</th>\n",
       "      <th>1</th>\n",
       "      <td>2</td>\n",
       "    </tr>\n",
       "    <tr>\n",
       "      <th>378</th>\n",
       "      <th>85</th>\n",
       "      <td>6</td>\n",
       "    </tr>\n",
       "    <tr>\n",
       "      <th>212</th>\n",
       "      <th>55</th>\n",
       "      <td>7</td>\n",
       "    </tr>\n",
       "    <tr>\n",
       "      <th>203</th>\n",
       "      <th>25</th>\n",
       "      <td>5</td>\n",
       "    </tr>\n",
       "    <tr>\n",
       "      <th>143</th>\n",
       "      <th>24</th>\n",
       "      <td>7</td>\n",
       "    </tr>\n",
       "    <tr>\n",
       "      <th>191</th>\n",
       "      <th>86</th>\n",
       "      <td>6</td>\n",
       "    </tr>\n",
       "  </tbody>\n",
       "</table>\n",
       "</div>"
      ],
      "text/plain": [
       "             rank\n",
       "object item      \n",
       "276    32       6\n",
       "361    19       2\n",
       "47     96       9\n",
       "36     48       5\n",
       "245    1        2\n",
       "378    85       6\n",
       "212    55       7\n",
       "203    25       5\n",
       "143    24       7\n",
       "191    86       6"
      ]
     },
     "execution_count": 3,
     "metadata": {},
     "output_type": "execute_result"
    }
   ],
   "source": [
    "np.random.seed(10)\n",
    "R_frame = pd.Series(\n",
    "    R.ravel(),\n",
    "    index = pd.MultiIndex.from_tuples(\n",
    "        [\n",
    "            (j,i)\n",
    "            for j in np.arange(R.shape[0]) \n",
    "            for i in np.arange(R.shape[1])\n",
    "        ],\n",
    "        names = [\"object\", \"item\"]\n",
    "    ),\n",
    "    name = \"rank\"\n",
    ").to_frame()\n",
    "R_frame.sample(10)"
   ]
  },
  {
   "cell_type": "code",
   "execution_count": 4,
   "id": "80746516-5d9d-4346-9e1d-70ed1f5bde68",
   "metadata": {},
   "outputs": [],
   "source": [
    "R_fr_train, R_fr_test = train_test_split(\n",
    "    R_frame, \n",
    "    train_size=0.8, \n",
    "    random_state=100\n",
    ")\n",
    "\n",
    "# preparing test/train samples representation as\n",
    "# as user/item matrix\n",
    "R_mat_train = pd.DataFrame(\n",
    "    R_fr_train[\"rank\"].unstack(),\n",
    "    columns = R_frame.index.get_level_values(1).unique()\n",
    ")\n",
    "R_mat_test = pd.DataFrame(\n",
    "    R_fr_test[\"rank\"].unstack(),\n",
    "    columns = R_frame.index.get_level_values(1).unique()\n",
    ")\n",
    "\n",
    "metrics = [\n",
    "    \"ndcg@3\",\n",
    "    \"ndcg@5\",\n",
    "    \"ndcg@10\"\n",
    "]\n",
    "R_fr_test[[\"object_str\", \"item_str\"]] = \\\n",
    "    R_fr_test.index.to_frame()[[\"object\", \"item\"]].astype(\"str\")\n",
    "\n",
    "qrels = Qrels.from_df(\n",
    "    df=R_fr_test.reset_index(),\n",
    "    q_id_col=\"object_str\", \n",
    "    doc_id_col=\"item_str\",\n",
    "    score_col=\"rank\"\n",
    ")"
   ]
  },
  {
   "cell_type": "markdown",
   "id": "b4498d32-54cc-4a85-9368-d3bacb91c20b",
   "metadata": {},
   "source": [
    "## Random predict"
   ]
  },
  {
   "cell_type": "code",
   "execution_count": 5,
   "id": "29820a58-9559-4f3a-82e1-e9d07f494bf0",
   "metadata": {},
   "outputs": [
    {
     "data": {
      "text/html": [
       "<div>\n",
       "<style scoped>\n",
       "    .dataframe tbody tr th:only-of-type {\n",
       "        vertical-align: middle;\n",
       "    }\n",
       "\n",
       "    .dataframe tbody tr th {\n",
       "        vertical-align: top;\n",
       "    }\n",
       "\n",
       "    .dataframe thead th {\n",
       "        text-align: right;\n",
       "    }\n",
       "</style>\n",
       "<table border=\"1\" class=\"dataframe\">\n",
       "  <thead>\n",
       "    <tr style=\"text-align: right;\">\n",
       "      <th></th>\n",
       "      <th></th>\n",
       "      <th>rank</th>\n",
       "      <th>object_str</th>\n",
       "      <th>item_str</th>\n",
       "      <th>random_predict</th>\n",
       "    </tr>\n",
       "    <tr>\n",
       "      <th>object</th>\n",
       "      <th>item</th>\n",
       "      <th></th>\n",
       "      <th></th>\n",
       "      <th></th>\n",
       "      <th></th>\n",
       "    </tr>\n",
       "  </thead>\n",
       "  <tbody>\n",
       "    <tr>\n",
       "      <th>148</th>\n",
       "      <th>29</th>\n",
       "      <td>2</td>\n",
       "      <td>148</td>\n",
       "      <td>29</td>\n",
       "      <td>0.437084</td>\n",
       "    </tr>\n",
       "    <tr>\n",
       "      <th>469</th>\n",
       "      <th>68</th>\n",
       "      <td>8</td>\n",
       "      <td>469</td>\n",
       "      <td>68</td>\n",
       "      <td>0.256724</td>\n",
       "    </tr>\n",
       "    <tr>\n",
       "      <th>116</th>\n",
       "      <th>43</th>\n",
       "      <td>5</td>\n",
       "      <td>116</td>\n",
       "      <td>43</td>\n",
       "      <td>0.244048</td>\n",
       "    </tr>\n",
       "    <tr>\n",
       "      <th>70</th>\n",
       "      <th>83</th>\n",
       "      <td>2</td>\n",
       "      <td>70</td>\n",
       "      <td>83</td>\n",
       "      <td>0.688916</td>\n",
       "    </tr>\n",
       "    <tr>\n",
       "      <th>71</th>\n",
       "      <th>38</th>\n",
       "      <td>1</td>\n",
       "      <td>71</td>\n",
       "      <td>38</td>\n",
       "      <td>0.858272</td>\n",
       "    </tr>\n",
       "    <tr>\n",
       "      <th>59</th>\n",
       "      <th>29</th>\n",
       "      <td>0</td>\n",
       "      <td>59</td>\n",
       "      <td>29</td>\n",
       "      <td>0.662598</td>\n",
       "    </tr>\n",
       "    <tr>\n",
       "      <th>120</th>\n",
       "      <th>20</th>\n",
       "      <td>7</td>\n",
       "      <td>120</td>\n",
       "      <td>20</td>\n",
       "      <td>0.405964</td>\n",
       "    </tr>\n",
       "    <tr>\n",
       "      <th>481</th>\n",
       "      <th>59</th>\n",
       "      <td>1</td>\n",
       "      <td>481</td>\n",
       "      <td>59</td>\n",
       "      <td>0.014950</td>\n",
       "    </tr>\n",
       "    <tr>\n",
       "      <th>116</th>\n",
       "      <th>94</th>\n",
       "      <td>3</td>\n",
       "      <td>116</td>\n",
       "      <td>94</td>\n",
       "      <td>0.616384</td>\n",
       "    </tr>\n",
       "    <tr>\n",
       "      <th>273</th>\n",
       "      <th>98</th>\n",
       "      <td>4</td>\n",
       "      <td>273</td>\n",
       "      <td>98</td>\n",
       "      <td>0.461056</td>\n",
       "    </tr>\n",
       "  </tbody>\n",
       "</table>\n",
       "</div>"
      ],
      "text/plain": [
       "             rank object_str item_str  random_predict\n",
       "object item                                          \n",
       "148    29       2        148       29        0.437084\n",
       "469    68       8        469       68        0.256724\n",
       "116    43       5        116       43        0.244048\n",
       "70     83       2         70       83        0.688916\n",
       "71     38       1         71       38        0.858272\n",
       "59     29       0         59       29        0.662598\n",
       "120    20       7        120       20        0.405964\n",
       "481    59       1        481       59        0.014950\n",
       "116    94       3        116       94        0.616384\n",
       "273    98       4        273       98        0.461056"
      ]
     },
     "execution_count": 5,
     "metadata": {},
     "output_type": "execute_result"
    }
   ],
   "source": [
    "R_fr_test[\"random_predict\"] = np.random.rand(R_fr_test.shape[0])\n",
    "R_fr_test.sample(10)"
   ]
  },
  {
   "cell_type": "code",
   "execution_count": 6,
   "id": "dc5025db-e22b-4460-adc2-e102238172f9",
   "metadata": {},
   "outputs": [
    {
     "data": {
      "text/plain": [
       "{'ndcg@3': 0.5912792255135155,\n",
       " 'ndcg@5': 0.6062122843515301,\n",
       " 'ndcg@10': 0.6699952241686727}"
      ]
     },
     "execution_count": 6,
     "metadata": {},
     "output_type": "execute_result"
    }
   ],
   "source": [
    "random_run = Run.from_df(\n",
    "    df=R_fr_test.reset_index(),\n",
    "    q_id_col=\"object_str\",\n",
    "    doc_id_col=\"item_str\",\n",
    "    score_col=\"random_predict\"\n",
    ")\n",
    "\n",
    "random_eval = evaluate(\n",
    "    qrels, \n",
    "    random_run, \n",
    "    metrics=metrics\n",
    ")\n",
    "random_eval"
   ]
  },
  {
   "cell_type": "markdown",
   "id": "7a0bab9b-e3d6-41e6-9b3a-5ae3d46f349e",
   "metadata": {},
   "source": [
    "## surprise"
   ]
  },
  {
   "cell_type": "code",
   "execution_count": 7,
   "id": "8bf75fe5-b408-45db-83dc-fcf84f73db4d",
   "metadata": {},
   "outputs": [
    {
     "name": "stdout",
     "output_type": "stream",
     "text": [
      "Computing the msd similarity matrix...\n",
      "Done computing similarity matrix.\n"
     ]
    }
   ],
   "source": [
    "reader = Reader(\n",
    "    rating_scale=(\n",
    "        R.min().min(), R.max().max()\n",
    "    )\n",
    ")\n",
    "train_set = Dataset.load_from_df(\n",
    "    df=R_fr_train[\"rank\"].reset_index(), \n",
    "    reader=reader\n",
    ").build_full_trainset()\n",
    "algo = KNNWithMeans().fit(train_set)"
   ]
  },
  {
   "cell_type": "code",
   "execution_count": 8,
   "id": "e1885f73-f692-45c6-bbc0-11ece768b0dc",
   "metadata": {},
   "outputs": [],
   "source": [
    "R_fr_test[\"surpr_predict\"] = [\n",
    "    algo.predict(uid=uid, iid=iid).est \n",
    "    for uid, iid in R_fr_test.index\n",
    "]"
   ]
  },
  {
   "cell_type": "code",
   "execution_count": 9,
   "id": "4358d656-0f38-4d26-8155-4577beb2dc9f",
   "metadata": {},
   "outputs": [],
   "source": [
    "surprise_run = Run.from_df(\n",
    "    df=R_fr_test.reset_index(),\n",
    "    q_id_col=\"object_str\",\n",
    "    doc_id_col=\"item_str\",\n",
    "    score_col=\"surpr_predict\"\n",
    ")\n",
    "surpr_evaluate = evaluate(\n",
    "    qrels, \n",
    "    surprise_run, \n",
    "    metrics=metrics\n",
    ")"
   ]
  },
  {
   "cell_type": "markdown",
   "id": "d1407bce-c8fd-4e0c-b845-69724457fbf0",
   "metadata": {},
   "source": [
    "## Similarity measure\n",
    "\n",
    "**Note** Many sources use difference instead of similarity, but similarity is the inverse of difference, so you can search not for items that have the smallest difference, but for items that have the strongest similarity.\n",
    "\n",
    "We need a method to estimate how close the objects are to each other. The following cell defines such a function - it implements Pearson's correlation coefficient, which can solve some problems related to the RecSys domain."
   ]
  },
  {
   "cell_type": "code",
   "execution_count": 10,
   "id": "75e15af4-4a22-4817-9958-f362c5a1d523",
   "metadata": {},
   "outputs": [],
   "source": [
    "def correlation(\n",
    "        a : np.ndarray,\n",
    "        b : np.ndarray\n",
    "        ) -> float:\n",
    "    '''\n",
    "    Pearson correlation coefficient modified\n",
    "    for our requirements. In particular, empty \n",
    "    handling\n",
    "\n",
    "    Parameters\n",
    "    ----------\n",
    "    a : (N,) np.ndarray\n",
    "        input array;\n",
    "    b : (N, ) np.ndarray\n",
    "        input array;\n",
    "\n",
    "    Returns\n",
    "    ----------\n",
    "    out : float\n",
    "        The Pearson correlation coefficient is \n",
    "        computed using only the common items \n",
    "        for both arrays. If it's not possible \n",
    "        to compute the coefficient, it returns 0, \n",
    "        indicating neutral similarity.\n",
    "        The coefficient is a number ranging from -1 to 1.\n",
    "    '''\n",
    "    cond = ~(np.isnan(a) | np.isnan(b))\n",
    "    # in case if there are only two\n",
    "    # observations it's impossible\n",
    "    # to compute coorrelation coeficient\n",
    "    if sum(cond) <=1:\n",
    "        return 0.\n",
    "\n",
    "    sub_a = a[cond]\n",
    "    sub_b = b[cond]\n",
    "    \n",
    "    variation_a = (sub_a - sub_a.mean())\n",
    "    variation_b = (sub_b - sub_b.mean())\n",
    "\n",
    "    # to compute pirson correlation coefficient\n",
    "    # all variables should have some variation\n",
    "    if (variation_a==0).all() or (variation_b==0).all():\n",
    "        return 0.\n",
    "    \n",
    "    cov = (variation_a*variation_b).sum()\n",
    "    return cov/np.sqrt(\n",
    "        (variation_a**2).sum()*(variation_b**2).sum()\n",
    "    )"
   ]
  },
  {
   "cell_type": "markdown",
   "id": "739a5e32-0863-4434-a0e4-27ef78904183",
   "metadata": {},
   "source": [
    "Here are some cases where this function has been used and the result."
   ]
  },
  {
   "cell_type": "code",
   "execution_count": 11,
   "id": "7d0eab8f-2c6e-49ff-92aa-6f5b7801c71e",
   "metadata": {},
   "outputs": [
    {
     "name": "stdout",
     "output_type": "stream",
     "text": [
      "Total correlation - 1.0\n",
      "Total correlation with empty - 1.0\n",
      "Constant variable - 0.0\n",
      "Not enough common elements - 0.0\n"
     ]
    }
   ],
   "source": [
    "result = correlation(\n",
    "    np.array([0,1,2,3,4]),\n",
    "    np.array([5,6,7,8,9])\n",
    ")\n",
    "print(\"Total correlation -\", result)\n",
    "result = correlation(\n",
    "    np.array([np.NaN, 1, 2, np.NaN]),\n",
    "    np.array([10, 10, 20, np.NaN])\n",
    ")\n",
    "print(\"Total correlation with empty -\", result)\n",
    "result = correlation(\n",
    "    np.array([1,1,1,1]),\n",
    "    np.array([3,2,1,2])\n",
    ")\n",
    "print(\"Constant variable -\", result)\n",
    "result = correlation(\n",
    "    np.array([np.NaN, 2, np.NaN, 3]),\n",
    "    np.array([1, np.NaN, 10, np.NaN])\n",
    ")\n",
    "print(\"Not enough common elements -\", result)"
   ]
  },
  {
   "cell_type": "markdown",
   "id": "ed269af5-fe23-488c-97df-e76e4bc339c6",
   "metadata": {},
   "source": [
    "## Prediction function\n",
    "\n",
    "We need methods to create predictions based on results of the previous steps. The following cell realises the classical formula for generating predicsts based on collaboration:\n",
    "\n",
    "$$\\frac{(\\sum_{i}r_{ij}-\\overline{r_i})sim_i}{\\sum_i{|sim_i|}}$$\n",
    "\n",
    "Where:\n",
    "\n",
    "- $r_{ij}$  - relevance of the $j$-th item for the $i$-th user of the collaboration.\n",
    "- $\\overline{r_i}$ - average relevance of the $i$-th user.\n",
    "- $sim_i$ similarity of the $i$-th object of the collaboration to the object for which we are making a prediction."
   ]
  },
  {
   "cell_type": "code",
   "execution_count": 12,
   "id": "d79151fa-223e-4b92-bbf2-0f7f86bc6267",
   "metadata": {},
   "outputs": [],
   "source": [
    "def basic_prediction(\n",
    "        collaboration : np.ndarray,\n",
    "        similarities : np.ndarray\n",
    "        ) -> np.ndarray:\n",
    "    \"\"\"\n",
    "    Basic function for creating prediction.\n",
    "    Uses formula\n",
    "    \\frac{(\\sum_{i}x_{ij}-\\overline{x_i})sim_i}{\\sum_i{|sim_i|}}.\n",
    "    \n",
    "    items that have no observable preferences \n",
    "    for any user in the collation will simply\n",
    "    be omitted from the result;.\n",
    "    \n",
    "    Parameters\n",
    "    ----------\n",
    "    collaboration : np.ndarray (\n",
    "        <users number>, \n",
    "        <games number>\n",
    "        )\n",
    "        relevances matrix for collaboration;\n",
    "    relevances : np.ndarray (<items number>)\n",
    "        relavences of the user under consdieration;\n",
    "    similarities : np.ndarray (<observations number>)\n",
    "        similarities of the users from \n",
    "        collaboration to user under consideration.\n",
    "    \n",
    "    Returns\n",
    "    -------\n",
    "    out : np.ndarray(<items number>)\n",
    "        scores of the items under consideration.\n",
    "    \"\"\"\n",
    "    users_mean = np.nanmean(collaboration, axis=1, keepdims=1)\n",
    "    weighed_collab = (collaboration - users_mean)*similarities[:, np.newaxis]\n",
    "    res = np.nansum(weighed_collab, axis=0)/np.abs(similarities).sum()\n",
    "    \n",
    "    # items that have not been played by \n",
    "    # any of the users should have nan\n",
    "    is_empty = np.isnan(collaboration).all(axis=0)\n",
    "    res[is_empty] = np.NaN\n",
    "\n",
    "    return res"
   ]
  },
  {
   "cell_type": "markdown",
   "id": "d9379293-01ef-412e-bc38-327abf705158",
   "metadata": {},
   "source": [
    "Consider how it works.\n",
    "\n",
    "We will consider collaborations that have a matrix of relevance:\n",
    "\n",
    "$$P_u=\\left( \\begin{array} \\\\\n",
    "2,7,9,- \\\\\n",
    "0,-,3,-\n",
    "\\end{array}\\right)\n",
    "$$\n",
    "\n",
    "And estimations of similarity:\n",
    "\n",
    "$$\n",
    "\\overline{sim} = \n",
    "\\left( \n",
    "\\begin{array}\\\\\n",
    "0.7, \\\\\n",
    "0.6\n",
    "\\end{array} \n",
    "\\right)\n",
    "$$"
   ]
  },
  {
   "cell_type": "markdown",
   "id": "e87af2e3-72b7-42c0-befd-01b911b54ad9",
   "metadata": {},
   "source": [
    "The average relevance of the users in the collaboration will take shape:\n",
    "\n",
    "$$\\overline{P_u}= \n",
    "\\left(\n",
    "\\begin{array}\\\\\n",
    "6\\\\\n",
    "1.5\n",
    "\\end{array}\n",
    "\\right)\n",
    "$$\n",
    "\n",
    "Sum of similarities:\n",
    "\n",
    "$$\\sum_i \\left|sim_i\\right|=0.7+0.6=1.3$$"
   ]
  },
  {
   "cell_type": "markdown",
   "id": "e999c5d1-3fbb-495a-bde6-3cb63015770b",
   "metadata": {},
   "source": [
    "So we finally can compute estimated relevances for user with this collaboration:\n",
    "\n",
    "$$\\left( \\frac{(2-6)0.7 + (0-1.5)0.6}{1.3}, \\frac{(7-6)0.7}{1.3}, \\frac{(9-6)0.7 + (3-1.5)0.6}{1.5}, - \\right)=$$\n",
    "$$=\\left(-2.8461,0.5384,-2.3077, - \\right)$$"
   ]
  },
  {
   "cell_type": "markdown",
   "id": "e2a4355a-2cee-466a-b9b6-185e44027e23",
   "metadata": {},
   "source": [
    "Now let's try to apply it to the same numbers:"
   ]
  },
  {
   "cell_type": "code",
   "execution_count": 13,
   "id": "413ba75c-cde2-4d7c-98e8-221ae9119dad",
   "metadata": {},
   "outputs": [
    {
     "data": {
      "text/plain": [
       "array([-2.84615385,  0.53846154,  2.30769231,         nan])"
      ]
     },
     "execution_count": 13,
     "metadata": {},
     "output_type": "execute_result"
    }
   ],
   "source": [
    "collaboration = np.array([\n",
    "    [2,7,9, np.NaN],\n",
    "    [0,np.NaN,3, np.NaN]\n",
    "])\n",
    "similarities = np.array([0.7,0.6])\n",
    "\n",
    "basic_prediction(\n",
    "    collaboration=collaboration,\n",
    "    similarities=similarities\n",
    ")"
   ]
  },
  {
   "cell_type": "markdown",
   "id": "2fa1dcf1-e48e-49e5-80a5-ab438075e17d",
   "metadata": {},
   "source": [
    "## Collaborative filter\n",
    "\n",
    "Finally, consider a class that implements such an algorithm:"
   ]
  },
  {
   "cell_type": "code",
   "execution_count": 14,
   "id": "b9a73934-efc6-43fd-b113-702cdf6d50f8",
   "metadata": {},
   "outputs": [],
   "source": [
    "class CollaborativeFilter:\n",
    "    \"\"\"\n",
    "    Сlass implements collaborative filtering based \n",
    "    on nearest neighbours.It uses information about \n",
    "    previous relevancies, we will call them \n",
    "    \"fit relevancies\", to estimate relevancies for \n",
    "    some new users, we will call them \"predict relevancies\".\n",
    "\n",
    "    Attributes\n",
    "    ----------\n",
    "    similarity : Callable[[np.ndarray, np.ndarray], float]\n",
    "        Similarity calculation function\n",
    "        to find collaboration;\n",
    "    prediction : Callable[[np.ndarray, np.ndarray]\n",
    "        Function that predicts scores for all items\n",
    "        available in train sample based on passed\n",
    "        collaboration;\n",
    "    sim_threshold : float = -np.inf\n",
    "        Tresholld that will be used. Objects that have\n",
    "        distance value is higher are not allowed to pass;\n",
    "    n_nearest : int = 1000\n",
    "        Maximum number of rows that can be\n",
    "        included to the collaboration.\n",
    "    \"\"\"\n",
    "    def __init__(\n",
    "            self, \n",
    "            similarity : Callable[[np.ndarray, np.ndarray], float] = correlation,\n",
    "            prediction : Callable[[np.ndarray, np.ndarray], float] = basic_prediction,\n",
    "            sim_threshold : float = -np.inf,\n",
    "            n_nearest : int = 1000\n",
    "            ):\n",
    "        self.similarity = similarity\n",
    "        self.prediction = prediction\n",
    "        self.sim_threshold = sim_threshold\n",
    "        self.n_nearest = n_nearest\n",
    "        \n",
    "    \n",
    "    def fit(self, X:Union[np.ndarray, pd.DataFrame]):\n",
    "        '''\n",
    "        Remember the train sample.\n",
    "\n",
    "        Parameters\n",
    "        ----------\n",
    "        X : np.ndarray(\n",
    "            <users number>,\n",
    "            <items number>\n",
    "        )\n",
    "            Relevances matrix;\n",
    "\n",
    "        Returns\n",
    "        -------\n",
    "        out : CollaborativeFilter\n",
    "            Model instance.\n",
    "        '''\n",
    "        self.X=np.array(X)\n",
    "        return self\n",
    "\n",
    "    def get_similarities(self, X:np.ndarray):\n",
    "        '''\n",
    "        Get similarities to the object for the \n",
    "        selected set of rows. Here, we use \n",
    "        information about the relevances of \n",
    "        users from the training sample and users \n",
    "        for which we need to create predictions. \n",
    "        We will use the terms \"fit users\" and \"predict users\" \n",
    "        accordingly for these terms.\n",
    "\n",
    "        Parameters\n",
    "        ----------\n",
    "        X : np.ndarray (\n",
    "            <users numer>, \n",
    "            <number of items>)\n",
    "            Fit relevancies;\n",
    "        \n",
    "        Returns\n",
    "        -------\n",
    "        out : np.ndarray (\n",
    "            <users number in fit relevacies>, \n",
    "            <users number in predict relevacies>\n",
    "            )\n",
    "            array where each element is similarity\n",
    "            between i-th fit user and j-th predict\n",
    "            user.\n",
    "        '''\n",
    "        return np.apply_along_axis(\n",
    "            func1d=lambda history_row: np.apply_along_axis(\n",
    "                func1d=(\n",
    "                    lambda predict_row: \n",
    "                    self.similarity(history_row, predict_row)\n",
    "                ),\n",
    "                arr=X, axis=1\n",
    "            ), \n",
    "            arr=self.X, axis=1\n",
    "        )\n",
    "    \n",
    "\n",
    "    def get_collaborations(self, X:np.ndarray, similarities:np.ndarray) -> list:\n",
    "        '''\n",
    "        Get collaboration for given set predict \n",
    "        relevancies.\n",
    "\n",
    "        Parameters\n",
    "        ----------\n",
    "        X : np.ndarray (<users number>, <items number>)\n",
    "            Observed relevance of users for \n",
    "            whom we are searching collaborations.\n",
    "        similarities : np.ndarray (\n",
    "            <fit users number>,\n",
    "            <users number>\n",
    "        )\n",
    "\n",
    "        Returns\n",
    "        ----------\n",
    "        out : list\n",
    "            each element of the list indicates \n",
    "            the collation indices in the training \n",
    "            array for the corresponding row of X.\n",
    "        '''\n",
    "        # search vectors of similarities for \n",
    "        # different users and form collaborations \n",
    "        # for them\n",
    "        result = []\n",
    "        for j in range(similarities.shape[1]):\n",
    "            threshold_mask = (similarities[:,j] > self.sim_threshold)\n",
    "            indices = np.where(threshold_mask)[0]\n",
    "            order = np.argsort(similarities[threshold_mask,j])\n",
    "            result.append(\n",
    "                indices[order][-1:-(self.n_nearest+1):-1]\n",
    "            )\n",
    "        return result\n",
    "\n",
    "    def predict(self, X:np.ndarray)->np.ndarray:\n",
    "        '''\n",
    "        Get predictions for user with set\n",
    "        relevances\n",
    "\n",
    "        Parameters\n",
    "        ----------\n",
    "        X : np.ndarray (\n",
    "            <unsers count>, \n",
    "            <items count>\n",
    "        )\n",
    "            Observed relevance of users for \n",
    "            whom we are searching collaborations.\n",
    "        \n",
    "        Returns\n",
    "        -------\n",
    "        out : np.ndarray\n",
    "            np.ndarray (<unsers count>, <items count>)\n",
    "            predictoins for given users.\n",
    "        '''\n",
    "        if X.shape[1] != self.X.shape[1]:\n",
    "            raise ValueError(\n",
    "                \"Number of items in fit frame and \"\n",
    "                \"predict frame are different.\"\n",
    "                )\n",
    "\n",
    "        similarities = self.get_similarities(X)\n",
    "        collaborations = self.get_collaborations(X, similarities)\n",
    "        return np.array([\n",
    "            self.prediction(\n",
    "                self.X[collab], \n",
    "                similarities[collab, i]\n",
    "            )\n",
    "            for i, collab in enumerate(collaborations)\n",
    "        ])"
   ]
  },
  {
   "cell_type": "markdown",
   "id": "7561cdaa-e138-4a79-a006-b5450e9ad282",
   "metadata": {},
   "source": [
    "### Get similarities\n",
    "\n",
    "Each row from the training must be compared with all prediction row via similarity fuinction passed to the constructor."
   ]
  },
  {
   "cell_type": "markdown",
   "id": "42a95dc1-2ebb-4d2c-8ef5-aa9fa63a7dcf",
   "metadata": {},
   "source": [
    "Here's an example that does only element-wise concatenation instead of similarity - so we can see that we'll have all combinations of raws in the result."
   ]
  },
  {
   "cell_type": "code",
   "execution_count": 15,
   "id": "1a1c0fa1-efad-423b-bbd8-0e4bafb596b7",
   "metadata": {},
   "outputs": [
    {
     "data": {
      "text/html": [
       "<text style='font-size:20px'>Raw output</text>"
      ],
      "text/plain": [
       "<IPython.core.display.HTML object>"
      ]
     },
     "metadata": {},
     "output_type": "display_data"
    },
    {
     "data": {
      "text/plain": [
       "array([['11h_11p|12h_12p', '11h_21p|12h_22p'],\n",
       "       ['21h_11p|22h_12p', '21h_21p|22h_22p'],\n",
       "       ['31h_11p|32h_12p', '31h_21p|32h_22p']], dtype='<U15')"
      ]
     },
     "metadata": {},
     "output_type": "display_data"
    },
    {
     "data": {
      "text/html": [
       "<text style='font-size:20px'>Interpretation</text>"
      ],
      "text/plain": [
       "<IPython.core.display.HTML object>"
      ]
     },
     "metadata": {},
     "output_type": "display_data"
    },
    {
     "name": "stdout",
     "output_type": "stream",
     "text": [
      "history 1, predictions 1\n",
      "11h_11p|12h_12p\n",
      "history 1, predictions 2\n",
      "11h_21p|12h_22p\n",
      "history 2, predictions 1\n",
      "21h_11p|22h_12p\n",
      "history 2, predictions 2\n",
      "21h_21p|22h_22p\n",
      "history 3, predictions 1\n",
      "31h_11p|32h_12p\n",
      "history 3, predictions 2\n",
      "31h_21p|32h_22p\n"
     ]
    }
   ],
   "source": [
    "# history observations\n",
    "history = np.array([\n",
    "    [\"11h\", \"12h\"],\n",
    "    [\"21h\", \"22h\"],\n",
    "    [\"31h\", \"32h\"]\n",
    "])\n",
    "# observations that we'll\n",
    "# use for predicitons\n",
    "predict = np.array([\n",
    "    [\"11p\", \"12p\"],\n",
    "    [\"21p\", \"22p\"]\n",
    "])\n",
    "\n",
    "cf = CollaborativeFilter(\n",
    "    similarity=lambda a,b: \"|\".join([a+\"_\"+b for a,b in zip(a,b)])\n",
    ")\n",
    "cf.fit(history)\n",
    "ans = cf.get_similarities(predict)\n",
    "\n",
    "display(HTML(header_pattern.format(\"Raw output\")))\n",
    "display(ans)\n",
    "\n",
    "display(HTML(header_pattern.format(\"Interpretation\")))\n",
    "for hist_i, hist in enumerate(ans):\n",
    "    for pred_i, pred in enumerate(hist):\n",
    "        print(f\"history {hist_i + 1}, predictions {pred_i + 1}\")\n",
    "        print(pred)"
   ]
  },
  {
   "cell_type": "markdown",
   "id": "c6ffd5d1-f288-45aa-9699-cd0a1ce3da45",
   "metadata": {},
   "source": [
    "So as a result we'll have the matrix $[sim_{ij}]$ similarity of the $i$-th fit user to the $j$-th prediction user."
   ]
  },
  {
   "cell_type": "markdown",
   "id": "e3c00feb-d562-448c-80a8-b984a3683688",
   "metadata": {},
   "source": [
    "### Get collaboration\n",
    "\n",
    "This method returns a subset of the fit array for each row in the array that requires prediction. For testing consider really specific example."
   ]
  },
  {
   "cell_type": "markdown",
   "id": "53c4128d-0d1e-4343-8c7b-3da1bf36ad97",
   "metadata": {},
   "source": [
    "We will use the similarity function:\n",
    "\n",
    "$$Sim(\\overline{a},\\overline{b})=\\left(\\sum_{i=1}^m a_i\\right)\\left(\\sum_{i=1}^m b_i\\right)$$\n",
    "\n",
    "If a row from the fit dataset and a row from the predict dataset have a different sign for their sum, they will be assigned a negative \"similarity\" value. Conversely, if they have the same sign, they will be assigned a positive \"similarity\" value. So we can have two different collaborations."
   ]
  },
  {
   "cell_type": "markdown",
   "id": "2e5b2ab0-ad31-451a-9eed-db77864819e7",
   "metadata": {},
   "source": [
    "Let's take a concrete example with the relevance matrix $R_{train}$ and the vector of sums of its rows $S_{train}$:\n",
    "$$R_{train}=\n",
    "\\left(\n",
    "\\begin{array}\\\\\n",
    "-1&0&0&-\\\\\n",
    "1&-&2&1\\\\\n",
    "-&3&2&2\\\\\n",
    "1&1&0&-\n",
    "\\end{array}\n",
    "\\right);\n",
    "S_{train}=\\left(\n",
    "\\begin{array}\\\\\n",
    "-1\\\\4\\\\7\\\\2\n",
    "\\end{array}\n",
    "\\right)\n",
    "$$"
   ]
  },
  {
   "cell_type": "markdown",
   "id": "056eda2d-371a-4bf4-ad9b-308ff493a38c",
   "metadata": {},
   "source": [
    "Let's define the relevance of the users for whom we need to make predictions as $R_{predict}$, and their corresponding sums as $S_{predict}$:\n",
    "\n",
    "$$R_{predict} =\\left(\n",
    "\\begin{array}\\\\\n",
    "0&0&-&1\\\\\n",
    "0&0&-2&-\n",
    "\\end{array}\n",
    "\\right);\n",
    "S_{predict}=\\left(\n",
    "\\begin{array}\n",
    "\\\\1 \\\\ -2\n",
    "\\end{array}\n",
    "\\right)\n",
    "$$"
   ]
  },
  {
   "cell_type": "markdown",
   "id": "f3df0d95-5abb-4d45-aa7e-dd1450285f15",
   "metadata": {},
   "source": [
    "**Note** some elements in arrays take $-$ value. It means they are missing or in numpy terms takes `np.NaN`. For this example, they are just recognised as zeros - but the behaviour depends mainly on the `similarity` and `prediction` functions specified by the user."
   ]
  },
  {
   "cell_type": "markdown",
   "id": "4097634f-b7b9-42e1-9fb9-6cdc0f7f07df",
   "metadata": {},
   "source": [
    "Finally we have similarities array like:\n",
    "\n",
    "$$Sim=\\left(\n",
    "\\begin{array}\\\\\n",
    "-1&2\\\\\n",
    "4&-8\\\\\n",
    "7&-14\\\\\n",
    "2&-4\n",
    "\\end{array}\n",
    "\\right)$$\n",
    "\n",
    "For the first user in the predictions array, the best collaborators will be placed at the top of the array, while for the second user, it will be the opposite."
   ]
  },
  {
   "cell_type": "markdown",
   "id": "944cf8eb-0297-4782-98cc-d46885c01b7d",
   "metadata": {},
   "source": [
    "Now, assuming we have chosen a similarity threshold of $Sim' = 0$ and decided to consider no more than 2 of the most similar objects, the resulting collaborations $P_i$ for $i$-th user will be as follows:\n",
    "\n",
    "$$P_1=\\left(\n",
    "\\begin{array}\\\\\n",
    "-&3&2&2\\\\\n",
    "1&-&2&1\n",
    "\\end{array}\n",
    "\\right).$$\n",
    "\n",
    "$$\n",
    "P_2=\\left(\n",
    "\\begin{array}\\\\\n",
    "-1&0&0&-\n",
    "\\end{array}\n",
    "\\right).\n",
    "$$\n",
    "\n",
    "**Note** for convenience, I always sort collaborations by decreasing similarity, but it's not necessary.\n",
    "\n",
    "**Note** that for design purposes, the method does not return collaborations directly, but rather indices of collaboration in the fit matrix."
   ]
  },
  {
   "cell_type": "markdown",
   "id": "13ae3698-009b-40fa-a9c0-6ac32b964333",
   "metadata": {},
   "source": [
    "And finally, lets display it on the code:"
   ]
  },
  {
   "cell_type": "code",
   "execution_count": 16,
   "id": "1ff0e8fa-b195-40cb-ac66-1e0f78cd9b73",
   "metadata": {},
   "outputs": [
    {
     "data": {
      "text/html": [
       "<text style='font-size:20px'>Raw output</text>"
      ],
      "text/plain": [
       "<IPython.core.display.HTML object>"
      ]
     },
     "metadata": {},
     "output_type": "display_data"
    },
    {
     "name": "stdout",
     "output_type": "stream",
     "text": [
      "[array([2, 1]), array([0])]\n"
     ]
    },
    {
     "data": {
      "text/html": [
       "<text style='font-size:20px'>Collaborations</text>"
      ],
      "text/plain": [
       "<IPython.core.display.HTML object>"
      ]
     },
     "metadata": {},
     "output_type": "display_data"
    },
    {
     "name": "stdout",
     "output_type": "stream",
     "text": [
      "User 1\n",
      "[[nan  3.  2.  2.]\n",
      " [ 1. nan  2.  1.]]\n",
      "User 2\n",
      "[[-1.  0.  0. nan]]\n"
     ]
    }
   ],
   "source": [
    "collaborative_filter = CollaborativeFilter(\n",
    "    similarity=lambda a,b: np.nansum(a)*np.nansum(b),\n",
    "    sim_threshold=0,\n",
    "    n_nearest=2\n",
    ")\n",
    "\n",
    "fit_relevances = np.array([\n",
    "    [-1,0,0,np.NaN],\n",
    "    [1,np.NaN,2,1],\n",
    "    [np.NaN,3,2,2],\n",
    "    [1,1,0,np.NaN],\n",
    "])\n",
    "predict_relevances = np.array([\n",
    "    [0,0,np.NaN,1],\n",
    "    [0,0,-2,np.NaN]\n",
    "])\n",
    "\n",
    "collaborative_filter.fit(fit_relevances)\n",
    "similarities = collaborative_filter.get_similarities(predict_relevances)\n",
    "raw_output = collaborative_filter.get_collaborations(\n",
    "    predict_relevances, \n",
    "    similarities\n",
    ")\n",
    "display(HTML(\n",
    "    header_pattern.format(\n",
    "        \"Raw output\"\n",
    "    )\n",
    "))\n",
    "print(raw_output)\n",
    "\n",
    "display(HTML(\n",
    "    header_pattern.format(\n",
    "        \"Collaborations\"\n",
    "    )\n",
    "))\n",
    "for i, mask in enumerate(raw_output):\n",
    "    print(f\"User {i+1}\")\n",
    "    print(fit_relevances[mask])"
   ]
  },
  {
   "cell_type": "markdown",
   "id": "9de15c4b-15d1-4806-bfcc-b34ed0fd5ccc",
   "metadata": {},
   "source": [
    "### Predict\n",
    "\n",
    "Method that allows to get estimations from \n",
    "\n",
    "Continue the example from the 'Get collaboration' section so that we have collaborations:\n",
    "\n",
    "$$P_1=\\left(\n",
    "\\begin{array}\\\\\n",
    "-&3&2&2\\\\\n",
    "1&-&2&1\n",
    "\\end{array}\n",
    "\\right).$$\n",
    "\n",
    "$$\n",
    "P_2=\\left(\n",
    "\\begin{array}\\\\\n",
    "-1&0&0&-\n",
    "\\end{array}\n",
    "\\right).\n",
    "$$"
   ]
  },
  {
   "cell_type": "markdown",
   "id": "b3322356-dbb8-4335-a51e-6b05e021e446",
   "metadata": {},
   "source": [
    "For simplicity, we will use the sum of the collaboration columns as the prediction function. We should get:\n",
    "\n",
    "$$\\hat{R} =\n",
    "\\left(\n",
    "\\begin{array}\\\\\n",
    "1&3&4&3\\\\\n",
    "-1&0&0&0\n",
    "\\end{array}\n",
    "\\right)\n",
    "$$"
   ]
  },
  {
   "cell_type": "code",
   "execution_count": 17,
   "id": "33b5f0cf-ce48-46f5-aa79-e99efc3b5a41",
   "metadata": {},
   "outputs": [
    {
     "data": {
      "text/plain": [
       "array([[ 1.,  3.,  4.,  3.],\n",
       "       [-1.,  0.,  0.,  0.]])"
      ]
     },
     "execution_count": 17,
     "metadata": {},
     "output_type": "execute_result"
    }
   ],
   "source": [
    "collaborative_filter = CollaborativeFilter(\n",
    "    similarity=lambda a,b: np.nansum(a)*np.nansum(b),\n",
    "    prediction=lambda X, similarities: np.nansum(X, axis=0),\n",
    "    sim_threshold=0,\n",
    "    n_nearest=2\n",
    ")\n",
    "\n",
    "fit_relevances = np.array([\n",
    "    [-1,0,0,np.NaN],\n",
    "    [1,np.NaN,2,1],\n",
    "    [np.NaN,3,2,2],\n",
    "    [1,1,0,np.NaN],\n",
    "])\n",
    "predict_relevances = np.array([\n",
    "    [0,0,np.NaN,1],\n",
    "    [0,0,-2,np.NaN]\n",
    "])\n",
    "\n",
    "collaborative_filter.fit(fit_relevances)\n",
    "collaborative_filter.predict(predict_relevances)"
   ]
  },
  {
   "cell_type": "markdown",
   "id": "3e4798c6-6054-40a1-ae73-6442bd39364a",
   "metadata": {},
   "source": [
    "## Application to experimental data"
   ]
  },
  {
   "cell_type": "code",
   "execution_count": 18,
   "id": "85c0339d-7007-453d-8cdf-ceaa1223378c",
   "metadata": {},
   "outputs": [],
   "source": [
    "collaborative_filter = CollaborativeFilter(n_nearest=40)\n",
    "collaborative_filter.fit(R_mat_train.to_numpy())\n",
    "\n",
    "predict = pd.DataFrame(\n",
    "    collaborative_filter.predict(R_mat_train.to_numpy()), \n",
    "    columns=R_mat_train.columns,\n",
    "    index=R_mat_train.index\n",
    ")\n",
    "\n",
    "R_fr_test[\"self_predict\"] = [\n",
    "    predict.loc[uid, iid]\n",
    "    for uid, iid in R_fr_test.index\n",
    "]\n",
    "\n",
    "self_run = Run.from_df(\n",
    "    df=R_fr_test.reset_index(),\n",
    "    q_id_col=\"object_str\",\n",
    "    doc_id_col=\"item_str\",\n",
    "    score_col=\"self_predict\"\n",
    ")\n",
    "\n",
    "self_evaluate = evaluate(\n",
    "    qrels, \n",
    "    self_run, \n",
    "    metrics=metrics\n",
    ")"
   ]
  },
  {
   "cell_type": "code",
   "execution_count": 19,
   "id": "a85eff0c-2e14-491b-9bfa-37c0729fcdf6",
   "metadata": {},
   "outputs": [
    {
     "data": {
      "text/html": [
       "<div>\n",
       "<style scoped>\n",
       "    .dataframe tbody tr th:only-of-type {\n",
       "        vertical-align: middle;\n",
       "    }\n",
       "\n",
       "    .dataframe tbody tr th {\n",
       "        vertical-align: top;\n",
       "    }\n",
       "\n",
       "    .dataframe thead th {\n",
       "        text-align: right;\n",
       "    }\n",
       "</style>\n",
       "<table border=\"1\" class=\"dataframe\">\n",
       "  <thead>\n",
       "    <tr style=\"text-align: right;\">\n",
       "      <th></th>\n",
       "      <th>ndcg@3</th>\n",
       "      <th>ndcg@5</th>\n",
       "      <th>ndcg@10</th>\n",
       "    </tr>\n",
       "  </thead>\n",
       "  <tbody>\n",
       "    <tr>\n",
       "      <th>random</th>\n",
       "      <td>0.591279</td>\n",
       "      <td>0.606212</td>\n",
       "      <td>0.669995</td>\n",
       "    </tr>\n",
       "    <tr>\n",
       "      <th>suprise</th>\n",
       "      <td>0.879396</td>\n",
       "      <td>0.883068</td>\n",
       "      <td>0.897049</td>\n",
       "    </tr>\n",
       "    <tr>\n",
       "      <th>selfmade</th>\n",
       "      <td>0.913238</td>\n",
       "      <td>0.919341</td>\n",
       "      <td>0.932890</td>\n",
       "    </tr>\n",
       "  </tbody>\n",
       "</table>\n",
       "</div>"
      ],
      "text/plain": [
       "            ndcg@3    ndcg@5   ndcg@10\n",
       "random    0.591279  0.606212  0.669995\n",
       "suprise   0.879396  0.883068  0.897049\n",
       "selfmade  0.913238  0.919341  0.932890"
      ]
     },
     "metadata": {},
     "output_type": "display_data"
    },
    {
     "data": {
      "image/png": "[encoded data removed]",
      "text/plain": [
       "<Figure size 640x480 with 1 Axes>"
      ]
     },
     "metadata": {},
     "output_type": "display_data"
    }
   ],
   "source": [
    "show_df = pd.DataFrame(\n",
    "    [\n",
    "        random_eval,\n",
    "        surpr_evaluate,\n",
    "        self_evaluate\n",
    "    ],\n",
    "    index = [\n",
    "        \"random\",\n",
    "        \"suprise\",\n",
    "        \"selfmade\"\n",
    "    ]\n",
    ")\n",
    "display(show_df)\n",
    "show_df.plot(kind=\"bar\")\n",
    "plt.show()"
   ]
  },
  {
   "cell_type": "markdown",
   "id": "669fca75-ab6d-468c-811c-023401b22437",
   "metadata": {},
   "source": [
    "## Evaluation performance"
   ]
  },
  {
   "cell_type": "markdown",
   "id": "d9668100-ed5b-42fd-8862-358e3842429b",
   "metadata": {},
   "source": [
    "### Surprise"
   ]
  },
  {
   "cell_type": "code",
   "execution_count": 20,
   "id": "93bfe9bf-c25c-4657-a9f3-be0297127049",
   "metadata": {},
   "outputs": [],
   "source": [
    "reader = Reader(\n",
    "    rating_scale=(\n",
    "        R.min().min(), R.max().max()\n",
    "    )\n",
    ")\n",
    "items_list = list(set(R_frame.index.get_level_values(1)))"
   ]
  },
  {
   "cell_type": "code",
   "execution_count": 21,
   "id": "fc7c80b1-9d61-466b-a026-67ff6678f32c",
   "metadata": {},
   "outputs": [
    {
     "name": "stdout",
     "output_type": "stream",
     "text": [
      "279 ms ± 19 ms per loop (mean ± std. dev. of 7 runs, 1 loop each)\n"
     ]
    }
   ],
   "source": [
    "%%timeit\n",
    "train_set = Dataset.load_from_df(\n",
    "    df=R_fr_train[\"rank\"].reset_index(), \n",
    "    reader=reader\n",
    ").build_full_trainset()\n",
    "algo = KNNWithMeans(verbose=False).fit(train_set)\n",
    "\n",
    "[\n",
    "    algo.predict(uid=20, iid=item_ids).est \n",
    "    for item_ids in items_list\n",
    "]"
   ]
  },
  {
   "cell_type": "markdown",
   "id": "a6daecb4-2f1d-4e45-af3f-fff79e29aecf",
   "metadata": {},
   "source": [
    "### Self made"
   ]
  },
  {
   "cell_type": "code",
   "execution_count": 22,
   "id": "f1a29a18-ccb2-4914-8f7b-5e1b3768d810",
   "metadata": {},
   "outputs": [
    {
     "name": "stdout",
     "output_type": "stream",
     "text": [
      "44.1 ms ± 2.3 ms per loop (mean ± std. dev. of 7 runs, 10 loops each)\n"
     ]
    }
   ],
   "source": [
    "%%timeit\n",
    "collaborative_filter.predict(R_mat_train.loc[[20]].to_numpy())"
   ]
  },
  {
   "cell_type": "markdown",
   "id": "ea6f05d1-c518-4e93-b148-6b89d25c9c64",
   "metadata": {},
   "source": [
    "## Real world data"
   ]
  },
  {
   "cell_type": "code",
   "execution_count": 23,
   "id": "103c1a37-1781-45a1-a422-798429fc4485",
   "metadata": {},
   "outputs": [],
   "source": [
    "url = \"https://files.grouplens.org/datasets/movielens/ml-100k.zip\"\n",
    "response = requests.get(url)\n",
    "\n",
    "with zipfile.ZipFile(io.BytesIO(response.content)) as z:\n",
    "    with z.open('ml-100k/u.data') as f:\n",
    "        col_names = ['user_id', 'item_id', 'rating', 'timestamp']\n",
    "        movies = pd.read_csv(f, sep='\\t', names=col_names)"
   ]
  },
  {
   "cell_type": "markdown",
   "id": "c0452006-705c-4bfe-bcf6-d8265fe6a048",
   "metadata": {},
   "source": [
    "With surprise we can use only those users/items that were encountered in the training sample."
   ]
  },
  {
   "cell_type": "code",
   "execution_count": 24,
   "id": "a78b155a-a096-446b-b2c0-8997f3539743",
   "metadata": {},
   "outputs": [],
   "source": [
    "# runx allows only strings for indeces\n",
    "movies[\"user_id\"] = movies[\"user_id\"].astype(\"str\")\n",
    "movies[\"item_id\"] = movies[\"item_id\"].astype(\"str\")\n",
    "\n",
    "test_movies = movies.loc[movies['timestamp'] > movies['timestamp'].quantile(0.8)]\n",
    "train_movies = movies.loc[~movies.index.isin(test_movies.index)]\n",
    "\n",
    "# with surprise we can use only users and items which\n",
    "# were in the train sample\n",
    "users_from_train_mask = test_movies[\"user_id\"].isin(train_movies[\"user_id\"])\n",
    "movies_from_train_mask = test_movies[\"item_id\"].isin(train_movies[\"item_id\"])\n",
    "test_movies = test_movies.loc[users_from_train_mask & movies_from_train_mask]\n",
    "\n",
    "movies_qrels = Qrels.from_df(\n",
    "    df=test_movies,\n",
    "    q_id_col=\"user_id\", \n",
    "    doc_id_col=\"item_id\",\n",
    "    score_col=\"rating\"\n",
    ")"
   ]
  },
  {
   "cell_type": "code",
   "execution_count": 25,
   "id": "2b951ea7-cc05-4272-9106-717c85449f3a",
   "metadata": {},
   "outputs": [
    {
     "name": "stdout",
     "output_type": "stream",
     "text": [
      "Computing the msd similarity matrix...\n",
      "Done computing similarity matrix.\n"
     ]
    }
   ],
   "source": [
    "reader = Reader(\n",
    "    rating_scale=(\n",
    "        movies[\"rating\"].min(), \n",
    "        movies[\"rating\"].max()\n",
    "    )\n",
    ")\n",
    "train_set = Dataset.load_from_df(\n",
    "    df=train_movies[[\"user_id\",\"item_id\", \"rating\"]], \n",
    "    reader=reader\n",
    ").build_full_trainset()\n",
    "algo = KNNWithMeans().fit(train_set)"
   ]
  },
  {
   "cell_type": "code",
   "execution_count": 26,
   "id": "609ad102-284a-4e29-bfe5-032154291afc",
   "metadata": {},
   "outputs": [],
   "source": [
    "test_movies[\"surpr_predict\"] = test_movies.apply(\n",
    "    lambda row: algo.predict(\n",
    "        uid=row[\"user_id\"], \n",
    "        iid=row[\"item_id\"]\n",
    "    ).est, \n",
    "    axis = 1\n",
    ")"
   ]
  },
  {
   "cell_type": "code",
   "execution_count": 29,
   "id": "30bc012e-66ec-4b56-8209-267f252d3e13",
   "metadata": {},
   "outputs": [
    {
     "data": {
      "text/plain": [
       "{'ndcg@3': 0.9136955191425511,\n",
       " 'ndcg@5': 0.920076825419864,\n",
       " 'ndcg@10': 0.9328469215058407}"
      ]
     },
     "metadata": {},
     "output_type": "display_data"
    }
   ],
   "source": [
    "surprise_run = Run.from_df(\n",
    "    df=test_movies,\n",
    "    q_id_col=\"user_id\",\n",
    "    doc_id_col=\"item_id\",\n",
    "    score_col=\"surpr_predict\"\n",
    ")\n",
    "surpr_evaluate = evaluate(\n",
    "    movies_qrels, \n",
    "    surprise_run, \n",
    "    metrics=metrics\n",
    ")\n",
    "display(surpr_evaluate)"
   ]
  }
 ],
 "metadata": {
  "kernelspec": {
   "display_name": "Python 3 (ipykernel)",
   "language": "python",
   "name": "python3"
  },
  "language_info": {
   "codemirror_mode": {
    "name": "ipython",
    "version": 3
   },
   "file_extension": ".py",
   "mimetype": "text/x-python",
   "name": "python",
   "nbconvert_exporter": "python",
   "pygments_lexer": "ipython3",
   "version": "3.10.12"
  }
 },
 "nbformat": 4,
 "nbformat_minor": 5
}
