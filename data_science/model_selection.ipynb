{
 "cells": [
  {
   "cell_type": "markdown",
   "id": "79fd32a8",
   "metadata": {},
   "source": [
    "# Model selection\n",
    "\n",
    "This section considers approaches that allow us to select the best model. Typically, the best model is understood to be the one that achieves the best results according to certain metrics while also having the simplest possible form."
   ]
  },
  {
   "cell_type": "markdown",
   "id": "0c79bbf7",
   "metadata": {},
   "source": [
    "## Train/test split\n",
    "\n",
    "A train/test split is an approach where we train model on one samples and evaluate it on other. There are a set of ways it can be realized suitable in different cases. All of them involve computing a number that describes the quality of the predictions on the test set.\n",
    "\n",
    "| Name                           | Description                                                       | Use Case                                                       | Stratification | Repeats | Group Support |\n",
    "| ------------------------------ | ----------------------------------------------------------------- | -------------------------------------------------------------- | -------------- | ------- | ------------- |\n",
    "| **Hold-Out**                   | Split data into training and testing once                         | Quick evaluation on large datasets                             | Optional       | No      | No            |\n",
    "| **K-Fold**                     | Split into *k* folds, each used once as validation                | Balanced use of data, general-purpose                          | Optional       | No      | No            |\n",
    "| **Stratified K-Fold**          | K-Fold but preserves label proportions                            | Classification tasks with imbalanced classes                   | Yes            | No      | No            |\n",
    "| **Repeated K-Fold**            | Repeats K-Fold CV multiple times with different splits            | More robust estimate of performance                            | Optional       | Yes     | No            |\n",
    "| **Repeated Stratified K-Fold** | Stratified K-Fold with repetitions                                | Imbalanced classification + variance estimation                | Yes            | Yes     | No            |\n",
    "| **Leave-One-Out (LOO)**        | Each sample is a test set once                                    | Small datasets, unbiased but high variance                     | No             | No      | No            |\n",
    "| **Leave-P-Out**                | Leave *p* samples out for testing, train on the rest              | Small datasets; computationally expensive                      | No             | No      | No            |\n",
    "| **Leave-One-Group-Out**        | Like LOO, but groups (not samples) are left out                   | Grouped observations (e.g., subjects in medical data)          | N/A            | No      | Yes           |\n",
    "| **Leave-P-Groups-Out**         | Leave *p* groups out for testing                                  | Group-based validation with more generality                    | N/A            | No      | Yes           |\n",
    "| **Group K-Fold**               | Like K-Fold, but entire groups are kept together in folds         | Prevent data leakage across groups                             | N/A            | No      | Yes           |\n",
    "| **TimeSeriesSplit**            | K-Fold variant for time-ordered data, no shuffling                | Time series forecasting and sequential data                    | No             | No      | No            |\n",
    "| **Nested CV**                  | Inner CV for model selection, outer CV for performance estimation | Model tuning + unbiased generalization estimate                | Optional       | Yes     | Possible      |\n",
    "| **Monte Carlo / ShuffleSplit** | Random train/test splits repeated several times                   | Flexible alternative to K-Fold, useful for variance estimation | Optional       | Yes     | No            |\n",
    "| **Predefined Split**           | Use a user-defined array to split data                            | When external split information (e.g., study design) is given  | N/A            | No      | Possible      |\n"
   ]
  }
 ],
 "metadata": {
  "language_info": {
   "name": "python"
  }
 },
 "nbformat": 4,
 "nbformat_minor": 5
}
