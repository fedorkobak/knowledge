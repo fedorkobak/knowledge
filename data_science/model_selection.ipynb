{
 "cells": [
  {
   "cell_type": "markdown",
   "id": "79fd32a8",
   "metadata": {},
   "source": [
    "# Model selection\n",
    "\n",
    "This section considers approaches that allow us to select the best model. Typically, the best model is understood to be the one that achieves the best results according to certain metrics while also having the simplest possible form."
   ]
  },
  {
   "cell_type": "markdown",
   "id": "0c79bbf7",
   "metadata": {},
   "source": [
    "## Train/test split\n",
    "\n",
    "A train/test split is an approach where we train model on one samples and evaluate it on other. There are a set of ways it can be realized suitable in different cases. All of them involve computing a number that describes the quality of the predictions on the test set.\n",
    "\n",
    "| Name                           | Description                                                       | Use Case                                                       | Stratification | Repeats | Group Support |\n",
    "| ------------------------------ | ----------------------------------------------------------------- | -------------------------------------------------------------- | -------------- | ------- | ------------- |\n",
    "| **Hold-Out**                   | Split data into training and testing once                         | Quick evaluation on large datasets                             | Optional       | No      | No            |\n",
    "| **K-Fold**                     | Split into *k* folds, each used once as validation                | Balanced use of data, general-purpose                          | Optional       | No      | No            |\n",
    "| **Stratified K-Fold**          | K-Fold but preserves label proportions                            | Classification tasks with imbalanced classes                   | Yes            | No      | No            |\n",
    "| **Repeated K-Fold**            | Repeats K-Fold CV multiple times with different splits            | More robust estimate of performance                            | Optional       | Yes     | No            |\n",
    "| **Repeated Stratified K-Fold** | Stratified K-Fold with repetitions                                | Imbalanced classification + variance estimation                | Yes            | Yes     | No            |\n",
    "| **Leave-One-Out (LOO)**        | Each sample is a test set once                                    | Small datasets, unbiased but high variance                     | No             | No      | No            |\n",
    "| **Leave-P-Out**                | Leave *p* samples out for testing, train on the rest              | Small datasets; computationally expensive                      | No             | No      | No            |\n",
    "| **Leave-One-Group-Out**        | Like LOO, but groups (not samples) are left out                   | Grouped observations (e.g., subjects in medical data)          | N/A            | No      | Yes           |\n",
    "| **Leave-P-Groups-Out**         | Leave *p* groups out for testing                                  | Group-based validation with more generality                    | N/A            | No      | Yes           |\n",
    "| **Group K-Fold**               | Like K-Fold, but entire groups are kept together in folds         | Prevent data leakage across groups                             | N/A            | No      | Yes           |\n",
    "| **TimeSeriesSplit**            | K-Fold variant for time-ordered data, no shuffling                | Time series forecasting and sequential data                    | No             | No      | No            |\n",
    "| **Nested CV**                  | Inner CV for model selection, outer CV for performance estimation | Model tuning + unbiased generalization estimate                | Optional       | Yes     | Possible      |\n",
    "| **Monte Carlo / ShuffleSplit** | Random train/test splits repeated several times                   | Flexible alternative to K-Fold, useful for variance estimation | Optional       | Yes     | No            |\n",
    "| **Predefined Split**           | Use a user-defined array to split data                            | When external split information (e.g., study design) is given  | N/A            | No      | Possible      |\n"
   ]
  },
  {
   "cell_type": "markdown",
   "id": "578d29fe",
   "metadata": {},
   "source": [
    "## Regularization\n",
    "\n",
    "Regularization is a technique that modifies the loss function of a parametric model by adding a component that increases with the magnitude of the learnable parameters.\n",
    "\n",
    "Suppose we have a parametric machine learning model with weights $W = \\left(w_1, w_2, \\ldots, w_n\\right)$ that needs to be fitted. It is supposed to be fitted with an $L$ loss function. In such case:\n",
    "\n",
    "- L1 regularization is supposed to use the loss function $L'(W) = L(W) + \\lambda\\sum_{i=1}^n |w_i|$ (lasso).\n",
    "- L2 regularization is supposed to use the loss function $L''(W) = L(W) + \\lambda\\sum_{i=1}^n w_i^2$ (ridge).\n",
    "\n",
    "Here, $\\lambda \\geq 0$ is a parameter that defines the strength of the regularization.\n"
   ]
  },
  {
   "cell_type": "markdown",
   "id": "0e761766",
   "metadata": {},
   "source": [
    "---\n",
    "\n",
    "The following cell generates a two-dimentional linear regression task."
   ]
  },
  {
   "cell_type": "code",
   "execution_count": null,
   "id": "0cdb374e",
   "metadata": {},
   "outputs": [],
   "source": [
    "import numpy as np\n",
    "import sklearn.linear_model\n",
    "\n",
    "X = np.random.random((200, 2))\n",
    "y = np.dot(X, np.array([2, 3])) + np.random.normal(0, 1)"
   ]
  },
  {
   "cell_type": "markdown",
   "id": "ec610c32",
   "metadata": {},
   "source": [
    "The next code uses simple linear regression to estimate the coefficients."
   ]
  },
  {
   "cell_type": "code",
   "execution_count": 37,
   "id": "cf0b28f1",
   "metadata": {},
   "outputs": [
    {
     "data": {
      "text/plain": [
       "array([1.83020504, 2.82172752])"
      ]
     },
     "execution_count": 37,
     "metadata": {},
     "output_type": "execute_result"
    }
   ],
   "source": [
    "no_regul = sklearn.linear_model.LinearRegression(fit_intercept=False).fit(X, y)\n",
    "no_regul.coef_"
   ]
  },
  {
   "cell_type": "markdown",
   "id": "b5e87718",
   "metadata": {},
   "source": [
    "The same input, but with relatively strong regularization."
   ]
  },
  {
   "cell_type": "code",
   "execution_count": 38,
   "id": "c4ba5985",
   "metadata": {},
   "outputs": [
    {
     "data": {
      "text/plain": [
       "array([0.        , 1.14487664])"
      ]
     },
     "execution_count": 38,
     "metadata": {},
     "output_type": "execute_result"
    }
   ],
   "source": [
    "strong_regular = sklearn.linear_model.Lasso(alpha=1, fit_intercept=False).fit(X, y)\n",
    "strong_regular.coef_"
   ]
  },
  {
   "cell_type": "markdown",
   "id": "4da60367",
   "metadata": {},
   "source": [
    "As a result, the regularized model produces smaller coefficients."
   ]
  }
 ],
 "metadata": {
  "kernelspec": {
   "display_name": "knowledge (3.13.5)",
   "language": "python",
   "name": "python3"
  },
  "language_info": {
   "codemirror_mode": {
    "name": "ipython",
    "version": 3
   },
   "file_extension": ".py",
   "mimetype": "text/x-python",
   "name": "python",
   "nbconvert_exporter": "python",
   "pygments_lexer": "ipython3",
   "version": "3.13.5"
  }
 },
 "nbformat": 4,
 "nbformat_minor": 5
}
