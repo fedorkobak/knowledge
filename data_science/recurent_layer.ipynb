{
 "cells": [
  {
   "cell_type": "markdown",
   "metadata": {},
   "source": [
    "# Recurent layer\n",
    "\n",
    "This page explains the concept of a recurrent layer.\n",
    "\n",
    "The key idea is to create a mechanism where each input affects the processing and outcome of subsequent inputs.\n",
    "\n",
    "![](recurent_layer_files/recurent_schema.svg)\n",
    "\n",
    "Where RNN actually one layer."
   ]
  },
  {
   "cell_type": "markdown",
   "metadata": {},
   "source": [
    "Strictly speaking, the deduction is as follows:  \n",
    "\n",
    "$$h_t = f(x_t W^T_1 + b_1 + h_{t-1} W^T_2 + b_2)$$  \n",
    "\n",
    "Where:  \n",
    "- $x_t$: input at the $t$-th step.  \n",
    "- $h_t$: state at the $t$-th step.  \n",
    "- $W_1$: weights associated with the input.  \n",
    "- $W_2$: weights associated with the state.  \n",
    "- $b_1$: bias associated with the input.  \n",
    "- $b_2$: bias associated with the state.  \n",
    "- $f$: activation function, typically a hyperbolic tangent.  "
   ]
  },
  {
   "cell_type": "markdown",
   "metadata": {},
   "source": [
    "## Example"
   ]
  },
  {
   "cell_type": "code",
   "execution_count": 30,
   "metadata": {},
   "outputs": [],
   "source": [
    "import tqdm\n",
    "import kagglehub\n",
    "import pandas as pd\n",
    "from pathlib import Path\n",
    "\n",
    "path = kagglehub.dataset_download(\"Cornell-University/arxiv\")\n",
    "path = Path(path)/\"arxiv-metadata-oai-snapshot.json\""
   ]
  },
  {
   "cell_type": "code",
   "execution_count": 41,
   "metadata": {},
   "outputs": [],
   "source": [
    "data_path = Path(\"recurent_layer_files\")/\"arxiv_small.json\"\n",
    "\n",
    "if not data_path.exists():\n",
    "    \n",
    "    lines = []\n",
    "    with open(path, \"r\") as f:\n",
    "        for i, one_line in enumerate(tqdm.tqdm(f.readlines())):\n",
    "            if i % 10 == 0:\n",
    "                lines.append(one_line)\n",
    "\n",
    "    with open(data_path, mode=\"w\") as f:\n",
    "        f.writelines(lines)\n",
    "\n",
    "data = pd.read_json(data_path, lines=True)"
   ]
  },
  {
   "cell_type": "code",
   "execution_count": 46,
   "metadata": {},
   "outputs": [
    {
     "data": {
      "text/plain": [
       "[' Calculation of prompt diphoton production cross sections at Tevatron and   LHC energies ;   A fully differential calculation in perturbative quantum chromodynamics is presented for the production of massive photon pairs at hadron colliders. All next-to-leading order perturbative contributions from quark-antiquark, gluon-(anti)quark, and gluon-gluon subprocesses are included, as well as all-orders resummation of initial-state gluon radiation valid at next-to-next-to-leading logarithmic accuracy. The region o\\n',\n",
       " ' Computing genus 2 Hilbert-Siegel modular forms over $\\\\Q(\\\\sqrt{5})$ via   the Jacquet-Langlands correspondence ;   In this paper we present an algorithm for computing Hecke eigensystems of Hilbert-Siegel cusp forms over real quadratic fields of narrow class number one. We give some illustrative examples using the quadratic field $\\\\Q(\\\\sqrt{5})$. In those examples, we identify Hilbert-Siegel eigenforms that are possible lifts from Hilbert eigenforms. \\n',\n",
       " ' Molecular Synchronization Waves in Arrays of Allosterically Regulated   Enzymes ;   Spatiotemporal pattern formation in a product-activated enzymic reaction at high enzyme concentrations is investigated. Stochastic simulations show that catalytic turnover cycles of individual enzymes can become coherent and that complex wave patterns of molecular synchronization can develop. The analysis based on the mean-field approximation indicates that the observed patterns result from the presence of Hopf and wave bifu\\n']"
      ]
     },
     "execution_count": 46,
     "metadata": {},
     "output_type": "execute_result"
    }
   ],
   "source": [
    "BOS, EOS = \" \", \"\\n\"\n",
    "lines = (\n",
    "    data\n",
    "    .apply(lambda row: (row[\"title\"] + \" ; \" + row[\"abstract\"])[:512], axis=1)\n",
    "    .apply(lambda line: BOS + line.replace(EOS, \" \") + EOS)\n",
    "    .tolist()\n",
    ")\n",
    "\n",
    "lines[:3]"
   ]
  },
  {
   "cell_type": "code",
   "execution_count": 50,
   "metadata": {},
   "outputs": [
    {
     "data": {
      "text/plain": [
       "'\\n !\"#$%&\\'()*+,-./0123456789:;<=>?@ABCDEFGHIJKLMNOPQRSTUVWXYZ[\\\\]^_`abcdefghijklmnopqrstuvwxyz{|}~\\x7f\\x80\\x99â'"
      ]
     },
     "execution_count": 50,
     "metadata": {},
     "output_type": "execute_result"
    }
   ],
   "source": [
    "tokens = {one_char for one_line in lines for one_char in one_line}\n",
    "\n",
    "tokens = sorted(tokens)\n",
    "\"\".join(tokens)"
   ]
  }
 ],
 "metadata": {
  "kernelspec": {
   "display_name": "venv",
   "language": "python",
   "name": "python3"
  },
  "language_info": {
   "codemirror_mode": {
    "name": "ipython",
    "version": 3
   },
   "file_extension": ".py",
   "mimetype": "text/x-python",
   "name": "python",
   "nbconvert_exporter": "python",
   "pygments_lexer": "ipython3",
   "version": "3.10.15"
  }
 },
 "nbformat": 4,
 "nbformat_minor": 2
}
