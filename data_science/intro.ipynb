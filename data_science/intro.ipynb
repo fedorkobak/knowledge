{
 "cells": [
  {
   "cell_type": "markdown",
   "id": "1e0e1409",
   "metadata": {},
   "source": [
    "# Data science\n",
    "\n",
    "Data science is a field that uses scientific methods, processes, algorithms and systems to extract knowledge and insights from the structured and unstructured data."
   ]
  },
  {
   "cell_type": "markdown",
   "id": "9cc14818",
   "metadata": {},
   "source": [
    "## Computer Vision\n",
    "\n",
    "Computer vision tasks are commonly divided into categories. It is important to understand the differences in order to select the correct approach.\n",
    "\n",
    "- Classfication: is a form of computer vision in which a model is trained on a set of labaled images. The goal of the model is to predict the label to which an image belongs to.\n",
    "- Object Detection: Identifying the location of specific object in an image. In the most typcal case, simply to build a box around the object in the image.\n",
    "- Semantic segmentation: Identifying to each pixel a class that determines the object pixel belongs to.\n",
    "- Generating pictures."
   ]
  },
  {
   "cell_type": "markdown",
   "id": "aace9ad2",
   "metadata": {},
   "source": [
    "## NLP\n",
    "\n",
    "Natural Language Processing (NLP) a set of tasks related to processing texts.\n",
    "\n",
    "This field considers approaches related to:\n",
    "\n",
    "- Texts classification. It defines which class a given text belongs to from a given set of classes.\n",
    "    - Sentiment analysis: Identifying the tone of the text. For example, it can be positive, negative or neutral. **Note:** Some sources treat this as a separate task.\n",
    "- Named Entity Recognition (NER): This task involves identifying specific componets (named entities) within texts that contain particular pieces of information.\n",
    "- Texts generation.\n",
    "\n",
    "For more details, check the [NLP](nlp.ipynb) page."
   ]
  }
 ],
 "metadata": {
  "language_info": {
   "name": "python"
  }
 },
 "nbformat": 4,
 "nbformat_minor": 5
}
