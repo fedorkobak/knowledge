{
 "cells": [
  {
   "cell_type": "markdown",
   "id": "00ba84a0",
   "metadata": {},
   "source": [
    "# Embeddings\n",
    "\n",
    "Embedding is the representation of something as a vector."
   ]
  },
  {
   "cell_type": "markdown",
   "id": "0306d887",
   "metadata": {},
   "source": [
    "## Word2Vec\n",
    "\n",
    "Word2Vec (W2V) is an approach to building word embeddings based on the context. Words with similar contexts will have similar embeddings.\n",
    "\n",
    "To each word corresponds two vectors:\n",
    "\n",
    "- $u_i \\in \\mathbb{R}^n$: center vector.\n",
    "- $\\nu_i \\in \\mathbb{R}^n$: context vector.\n",
    "\n",
    "Now, let's consider words, $i$ and $j$. The probability of encounting word $i$ in the context of word $j$ we'll define as following:\n",
    "\n",
    "$$p_{ij} = \\sigma(u_i^T \\nu_j)$$\n",
    "\n",
    "- $\\sigma$: sigmoid function.\n",
    "\n",
    "The optimization algorithm looks for $u_i$ and $\\nu_i$ that maximize $p_{ij}$ when word $i$ contains word $j$ in its context and minimize it when it does not."
   ]
  }
 ],
 "metadata": {
  "language_info": {
   "name": "python"
  }
 },
 "nbformat": 4,
 "nbformat_minor": 5
}
