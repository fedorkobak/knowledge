{
 "cells": [
  {
   "cell_type": "markdown",
   "id": "902eb5b1",
   "metadata": {},
   "source": [
    "# Tokenization\n",
    "\n",
    "Tokenization is the process of identyfying the segments that would be considred by the text processing algorithms as an atomic units.\n",
    "\n",
    "**Vocabulary**: The set of tokens used by the tokenization approach. "
   ]
  },
  {
   "cell_type": "markdown",
   "id": "f098d0c9",
   "metadata": {},
   "source": [
    "## Wordpiece\n",
    "\n",
    "This approach takes all possible symbols that is awailable in the example texts courpuse - at the first step it is a vocabulary of the model. At the each following step it adds to the vocabulary pair of tokens from the current vocabulary that have the highest score:\n",
    "\n",
    "$$\\frac{N(i, j)}{N(i)N(j)}$$\n",
    "\n",
    "Where:\n",
    "\n",
    "- $N(i, j)$: frequency of the pair formed from $i$-th and $j$-th tokens.\n",
    "- $N(i)$: frequenccy of the $i$-th token.\n",
    "\n",
    "The idea behind this formula is as follows: If some tokens appear together very frequently but not often separately, then a pair should be added. Accordingly, if the nominator $N(i,j)$, is high if tokens often appear together often, but denominator, $N(i)N(j)$, will take relatively low values, if separately do not appear together often."
   ]
  },
  {
   "cell_type": "markdown",
   "id": "92ddcd12",
   "metadata": {},
   "source": [
    "## Unigram\n",
    "\n",
    "Unigram tokenization begins with the largest possible vocabulary: ideally, all substrings that could be found in the data words up to a defined length. At each step, the probability of encountering each token is estimated based on its frequency of the token in the training data, at each step token with the lowest frequency is removed from the vocabulary until the specified size of vocabulary achieved."
   ]
  },
  {
   "cell_type": "markdown",
   "id": "66646dd1",
   "metadata": {},
   "source": [
    "---\n",
    "\n",
    "Consider sentence *\"this is his hat\"*. All possible tokens are count in the following cell:"
   ]
  },
  {
   "cell_type": "code",
   "execution_count": 15,
   "id": "89fb2728",
   "metadata": {},
   "outputs": [
    {
     "data": {
      "text/plain": [
       "Counter({'h': 3,\n",
       "         'i': 3,\n",
       "         'is': 3,\n",
       "         's': 3,\n",
       "         't': 2,\n",
       "         'hi': 2,\n",
       "         'his': 2,\n",
       "         'th': 1,\n",
       "         'thi': 1,\n",
       "         'this': 1,\n",
       "         'ha': 1,\n",
       "         'hat': 1,\n",
       "         'a': 1,\n",
       "         'at': 1})"
      ]
     },
     "execution_count": 15,
     "metadata": {},
     "output_type": "execute_result"
    }
   ],
   "source": [
    "from collections import Counter\n",
    "\n",
    "train_data = [\"this\", \"is\", \"his\", \"hat\"]\n",
    "counter = Counter()\n",
    "\n",
    "for s in train_data:\n",
    "    for i in range(len(s)):\n",
    "        for j in range(i + 1, len(s) + 1):\n",
    "            counter[s[i:j]] += 1\n",
    "counter"
   ]
  },
  {
   "cell_type": "markdown",
   "id": "8250c4e1",
   "metadata": {},
   "source": [
    "According to unigram logic, at this step we can delete any token with frequence of 1 at this step. In real data, tokens consisting of single symbols will relatively really large frequences, so it's unlikely they will be deleted if the vocabulary size is significantly larger than the number of letters in the language."
   ]
  },
  {
   "cell_type": "markdown",
   "id": "446fea3f",
   "metadata": {},
   "source": [
    "## Tokenization playground\n",
    "\n",
    "Try the tokenization playgroud launched by Hugging Face. It's a service that allows you to experiment with various tokenizers used in modern machine learning models.\n",
    "\n",
    "<iframe src=\"https://agents-course-the-tokenizer-playground.static.hf.space\" frameborder=\"0\" width=\"850\" height=\"450\"></iframe>"
   ]
  }
 ],
 "metadata": {
  "kernelspec": {
   "display_name": "knowledge (3.13.5)",
   "language": "python",
   "name": "python3"
  },
  "language_info": {
   "codemirror_mode": {
    "name": "ipython",
    "version": 3
   },
   "file_extension": ".py",
   "mimetype": "text/x-python",
   "name": "python",
   "nbconvert_exporter": "python",
   "pygments_lexer": "ipython3",
   "version": "3.13.5"
  }
 },
 "nbformat": 4,
 "nbformat_minor": 5
}
