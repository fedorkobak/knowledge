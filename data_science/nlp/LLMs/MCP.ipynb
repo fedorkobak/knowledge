{
 "cells": [
  {
   "cell_type": "markdown",
   "id": "633e94b4",
   "metadata": {},
   "source": [
    "# MCP\n",
    "\n",
    "MCP (Model Context Protocol) allows LLM to connect with external data sources, tools, and environments. This enables the seamless transfer of information and capabilities between AI systems and other digital tools. The MCP standardizes the method to interacting with LLMs, enabling tool builders to create a simple tool that can be used with any LLM."
   ]
  },
  {
   "cell_type": "markdown",
   "id": "1dba21e8",
   "metadata": {},
   "source": [
    "## Architecture\n",
    "\n",
    "The **host** is a final application that is given to users. It's responsibilities are:\n",
    "\n",
    "- Managing user interactions and permissions.\n",
    "- Initiating connections to MCP servers via the MCP.\n",
    "- Organize the flow between user requests, LLM processing, and external tools.\n",
    "- Providing the results back to the uesr.\n",
    "\n",
    "The **client** here establishes a connection with the server and communicates with it using MCP principles. **Note:** A single host can connect to several MCP servers, but for each it creates a new client.\n",
    "\n",
    "The **server** provides the client with information about available extensions and offers a standatized way to interact with them. The things awailable to the MCP server are called **capabilities**."
   ]
  },
  {
   "cell_type": "markdown",
   "id": "0cf147d5",
   "metadata": {},
   "source": [
    "The way components of MCP interacts with each other is represented in the following picture:\n",
    "\n",
    "![](MCP_files/architecture.svg)"
   ]
  },
  {
   "cell_type": "markdown",
   "id": "66a65e52",
   "metadata": {},
   "source": [
    "## Messages\n",
    "\n",
    "Messages in MCP are using [JSON-RPC (JSON remote procedure call)](https://ru.wikipedia.org/wiki/JSON-RPC). It defines the format of the messages and the channels by which the server and the host communicate. Check [JSON-RPC](https://huggingface.co/learn/mcp-course/unit1/communication-protocol#json-rpc-the-foundation) section of the MCP hugging face cource.\n",
    "\n",
    "Format is Json, and there are:\n",
    "\n",
    "- Three types of messages: requests, responses and notifications.\n",
    "- The attributes that each type of the message should have.\n",
    "\n",
    "Host-server communication can be performed in following ways:\n",
    "\n",
    "- Standard input/ouput for a local server.\n",
    "- HTTP + SSE (Server-sent Events) for the remote server.\n",
    "\n",
    "Server lifecycle inludes:\n",
    "\n",
    "- Initialization: the server and client exchange protocol version.\n",
    "- Discovery: The client asks the server for a list of the server's offerings.\n",
    "- Execution: client uses the posibilities of the server.\n",
    "- Termination."
   ]
  }
 ],
 "metadata": {
  "language_info": {
   "name": "python"
  }
 },
 "nbformat": 4,
 "nbformat_minor": 5
}
