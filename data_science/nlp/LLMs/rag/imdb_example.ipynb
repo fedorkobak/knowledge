{
 "cells": [
  {
   "cell_type": "markdown",
   "id": "9fa6a788",
   "metadata": {},
   "source": [
    "# IMDB examples"
   ]
  },
  {
   "cell_type": "code",
   "execution_count": 2,
   "id": "3f1e5c21",
   "metadata": {},
   "outputs": [],
   "source": [
    "import os\n",
    "import uuid\n",
    "\n",
    "import numpy as np\n",
    "\n",
    "from pprint import pprint\n",
    "from transformers import pipeline\n",
    "from datasets import load_dataset\n",
    "from qdrant_client import QdrantClient, models\n",
    "from sentence_transformers import SentenceTransformer\n",
    "from langchain.text_splitter import RecursiveCharacterTextSplitter"
   ]
  },
  {
   "cell_type": "markdown",
   "id": "f6a24410",
   "metadata": {},
   "source": [
    "## Building embeddings"
   ]
  },
  {
   "cell_type": "code",
   "execution_count": 3,
   "id": "347efe41",
   "metadata": {},
   "outputs": [
    {
     "name": "stdout",
     "output_type": "stream",
     "text": [
      "('If the crew behind \"Zombie Chronicles\" ever read this, here\\'s some advice '\n",
      " 'guys: <br /><br />1. In a \"Twist Ending\"-type movie, it\\'s not a good idea '\n",
      " 'to insert close-ups of EVERY DEATH IN THE MOVIE in the opening credits. That '\n",
      " \"tends to spoil the twists, y'know...? <br /><br />2. I know you produced \"\n",
      " 'this on a shoestring and - to be fair - you worked miracles with your budget '\n",
      " 'but please, hire people who can actually act. Or at least, walk, talk and '\n",
      " \"gesture at the same time. Joe Haggerty, I'm looking at you...<br /><br />3. \"\n",
      " \"If you're going to set a part of your movie in the past, only do this if you \"\n",
      " 'have the props and costumes of the time.<br /><br />4. Twist endings are '\n",
      " \"supposed to be a surprise. Sure, we don't want twists that make no sense, \"\n",
      " 'but signposting the \"reveal\" as soon as you introduce a character? That\\'s '\n",
      " 'not a great idea.<br /><br />Kudos to the guys for trying, but in all '\n",
      " \"honesty, I'd rather they hadn't...<br /><br />Only for zombie completists.\")\n"
     ]
    }
   ],
   "source": [
    "data = list(load_dataset(\"stanfordnlp/imdb\", split=\"train\")['text'])\n",
    "pprint(data[20])"
   ]
  },
  {
   "cell_type": "code",
   "execution_count": 4,
   "id": "f23e2479",
   "metadata": {},
   "outputs": [],
   "source": [
    "embedding_model = SentenceTransformer(\n",
    "    \"paraphrase-MiniLM-L3-v2\",\n",
    "    model_kwargs={'dtype': 'float16'}\n",
    ")"
   ]
  },
  {
   "cell_type": "code",
   "execution_count": 5,
   "id": "518333a7",
   "metadata": {},
   "outputs": [],
   "source": [
    "if os.path.exists(\"imdb_example_files\"):\n",
    "    embeddings = np.load(\"imdb_example_files/embeddings.npy\")\n",
    "else:\n",
    "    embeddings = embedding_model.encode(data, normalize_embeddings=True)\n",
    "    os.mkdir(\"imdb_example_files\")\n",
    "    np.save(\"imdb_example_files/embeddings\", embeddings)\n",
    "    with open(\"imdb_example_files/.gitignore\", \"w\") as f:\n",
    "        f.write(\"embeddings.npy\\n\")"
   ]
  },
  {
   "cell_type": "markdown",
   "id": "2d923a5f",
   "metadata": {},
   "source": [
    "## Vector database"
   ]
  },
  {
   "cell_type": "code",
   "execution_count": 6,
   "id": "8d5c43f9",
   "metadata": {},
   "outputs": [
    {
     "data": {
      "text/plain": [
       "True"
      ]
     },
     "execution_count": 6,
     "metadata": {},
     "output_type": "execute_result"
    }
   ],
   "source": [
    "client = QdrantClient(\":memory:\")\n",
    "embedding_size = embeddings.shape[1]\n",
    "\n",
    "client.create_collection(\n",
    "    collection_name=\"imdb\",\n",
    "    on_disk_payload=True,\n",
    "    vectors_config=models.VectorParams(\n",
    "        size=embedding_size,\n",
    "        distance=models.Distance.COSINE,\n",
    "        on_disk=True\n",
    "    )\n",
    ")"
   ]
  },
  {
   "cell_type": "code",
   "execution_count": 7,
   "id": "6d4d3382",
   "metadata": {},
   "outputs": [
    {
     "name": "stderr",
     "output_type": "stream",
     "text": [
      "/tmp/ipykernel_285715/985311365.py:9: UserWarning: Local mode is not recommended for collections with more than 20,000 points. Current collection contains 25000 points. Consider using Qdrant in Docker or Qdrant Cloud for better performance with large datasets.\n",
      "  client.upsert(collection_name=\"imdb\", points=points)\n"
     ]
    },
    {
     "data": {
      "text/plain": [
       "UpdateResult(operation_id=0, status=<UpdateStatus.COMPLETED: 'completed'>)"
      ]
     },
     "execution_count": 7,
     "metadata": {},
     "output_type": "execute_result"
    }
   ],
   "source": [
    "points = [\n",
    "    models.PointStruct(\n",
    "        id=str(uuid.uuid4()),\n",
    "        vector=embeddings[i],\n",
    "        payload={\"text\": data[i]}\n",
    "    )\n",
    "    for i in range(len(embeddings))\n",
    "]\n",
    "client.upsert(collection_name=\"imdb\", points=points)"
   ]
  },
  {
   "cell_type": "code",
   "execution_count": 13,
   "id": "70e20b82",
   "metadata": {},
   "outputs": [],
   "source": [
    "def load_relevant_reviews(query: str) -> list[str]:\n",
    "    embedding = embedding_model.encode(\n",
    "        [query], normalize_embeddings=True\n",
    "    )\n",
    "    relevant_info = client.query_points(\n",
    "        collection_name=\"imdb\",\n",
    "        query=embedding[0],\n",
    "        limit=5,\n",
    "        with_payload=True\n",
    "    )\n",
    "    return [res.payload['text'] for res in list(relevant_info)[0][1]]"
   ]
  },
  {
   "cell_type": "code",
   "execution_count": 19,
   "id": "1a75b7ae",
   "metadata": {},
   "outputs": [],
   "source": [
    "ans = load_relevant_reviews(\"What is the typcal plot for a horror movie?\")"
   ]
  },
  {
   "cell_type": "code",
   "execution_count": 20,
   "id": "71a514a9",
   "metadata": {},
   "outputs": [
    {
     "name": "stdout",
     "output_type": "stream",
     "text": [
      "(\"How can you tell that a horror movie is terrible? when you can't stop \"\n",
      " 'laughing about it of course! The plot has been well covered by other '\n",
      " \"reviewers, so I'll just add a few things on the hilarity of it all.<br /><br \"\n",
      " '/>Some reviews have placed the location in South America, others in Africa, '\n",
      " 'I thought it was in some random island in the Pacific. Where exactly does '\n",
      " 'this take place, seems to be a mystery. The cannibal tribe is conformed by a '\n",
      " 'couple of black women some black men, and a man who looks like a young Frank '\n",
      " 'Zappa banging the drums... the Devil God is a large black man with a '\n",
      " 'terrible case of pink eyes.<br /><br />One of the \"freakiest\" moments in the '\n",
      " 'film is when, \"Pablito\" find his partner hanging from a tree covered in what '\n",
      " 'seems to be an orange substance that I assume is blood, starts screaming for '\n",
      " \"minutes on and on (that's actually funny), and then the head of his partner \"\n",
      " 'falls in the ground and \"Pablito\" kicks it a bit for what I assume is \"shits '\n",
      " 'n\\' giggles\" and the eyes actually move...<br /><br />But, of course, then '\n",
      " 'the \"freak\" is gone when you realize the eyes moved because the movie is '\n",
      " \"just bad...<br /><br />I hadn't laughed like this in a loooong while, and I \"\n",
      " 'definitely recommend this film for a Sunday afternoon with your friends and '\n",
      " 'you have nothing to do... grab a case of beers and start watching this film, '\n",
      " \"you'll love it! If you are looking for a real horror or gore movie, \"\n",
      " \"though... don't' bother.\")\n",
      "\n",
      "\n",
      "('This movie still chills me to the bone thinking of it. This movie was not '\n",
      " 'just bad as in low-budget, badly acted, etc. although it certainly WAS all '\n",
      " 'of those things. The problem with this movie is that it seemed to be '\n",
      " 'intentionally trying to annoy the viewer, and doing it with great success. '\n",
      " \"What I want to know is, is this supposed to be a horror movie? I mean, it's \"\n",
      " 'definately horrifying, but not in the way horror movies are supposed to be. '\n",
      " 'I could see the first segment trying to be horror and failing, but what the '\n",
      " \"hell is the second segment? It's just annoying. The third segment is like \"\n",
      " 'watching an artsy student film, which amazingly enough makes it the least '\n",
      " \"painful segment. It's an atrocity that this movie isn't way low on the \"\n",
      " 'bottom 100, so get your votes (1/10) in people!! I know some people gave '\n",
      " \"this good reviews, but, well, they're lying in a sadistic attempt to trick \"\n",
      " 'you. Trust me, it is impossible to like this movie. The only benefit of this '\n",
      " \"movie is an amazing life-extending effect: it feels like you've been \"\n",
      " 'watching this movie for years after only the first half hour has passed.')\n",
      "\n",
      "\n",
      "('Chilling, majestic piece of cinematic fright, this film combines all the '\n",
      " 'great elements of an intellectual thriller, with the grand vision of a '\n",
      " 'director who has the instinctual capacity to pace a moody horror flick '\n",
      " 'within the realm of his filmmaking genius that includes an eye for the '\n",
      " 'original shot, an ice-cold soundtrack and an overall sense of '\n",
      " 'dehumanization. This movie cuts through all the typical horror movies like a '\n",
      " 'red-poker through a human eye, as it allows the viewer to not only feel the '\n",
      " 'violence and psychosis of its protagonist, but appreciate the seed from '\n",
      " 'which the derangement stems. One of the scariest things for people to face '\n",
      " 'is the unknown and this film presents its plotting with just that thought in '\n",
      " 'mind. The setting is perfect, in a desolate winter hideaway. The quietness '\n",
      " 'of the moment is a character in itself, as the fermenting aggressor in Jack '\n",
      " \"Torrance's mind wallows in this idle time, and breeds the devil's new \"\n",
      " 'playground. I always felt like the presence of evil was dormant in all of '\n",
      " 'our minds, with only the circumstances of the moment, and the reasons given '\n",
      " 'therein, needed to wake its violent ass and pounce over its unsuspecting '\n",
      " 'victims. This film is a perfect example of this very thought.<br /><br />And '\n",
      " \"it is within this film's subtle touches of the canvas, the clackity-clacks \"\n",
      " \"of the young boy's big wheel riding along the empty hallways of the hotel, \"\n",
      " \"the labyrinthian garden representing the mind's fine line between sane and \"\n",
      " \"insane, Kubrick's purposely transfixed editing inconsistencies, continuity \"\n",
      " 'errors and set mis-arrangements, that we discover a world guided by the '\n",
      " 'righteous and tangible, but coaxed away by the powerful and unknown. I have '\n",
      " 'never read the book upon which the film is based, but without that as a '\n",
      " 'comparison point, I am proud to say that this is one of the most terrifying '\n",
      " \"films that I have ever seen. I thought that the runtime of the film could've \"\n",
      " 'been cut by a little bit, but then again, I am not one of the most acclaimed '\n",
      " 'directors in the history of film, so maybe I should keep my two-cent '\n",
      " 'criticisms over a superb film, to myself. All in all, this movie captures '\n",
      " 'your attention with its grand form and vision, ropes you in with some terror '\n",
      " 'and eccentric direction, and ties you down and stabs you in the heart with '\n",
      " \"its cold-eyed view of the man's mind gone overboard, creepy atmosphere and \"\n",
      " 'the loss of humanity.<br /><br />Rating: 9/10')\n",
      "\n",
      "\n",
      "('I am an avid B-Rate horror film buff and have viewed my fair share of '\n",
      " 'slasher pictures, so I have a substantial gauge to judge this film by. It '\n",
      " \"easily ranks in the upper echelon of the worst horror films the 1980's has \"\n",
      " \"to offer. It isn't as scary as Night of the Demons, it isn't as gory as \"\n",
      " \"Re-Animator and lacks the camp value of There's Nothing Out There. That \"\n",
      " 'being said, this film has no value. Keep in mind, the movie artwork is for a '\n",
      " 'completely different film. The stills shots on the back of the DVD box '\n",
      " \"aren't taken from this film.<br /><br />VIOLENCE: $$$ (There is plenty of \"\n",
      " \"violence but we've seen it all before. A murderer kills nubile students and \"\n",
      " 'the occasional facility member by slitting throats and all the other tired '\n",
      " 'methods of murder that horror films utilize).<br /><br />NUDITY: None <br '\n",
      " '/><br />STORY: $$ (The story focuses on Francine Forbes - who wisely changed '\n",
      " 'her name to Forbes Riley after this film was made - who accepts a job '\n",
      " 'teaching at a university. People start to die and Forbes believes the killer '\n",
      " 'is targeting her. Is it her new heartthrob with a checkered past or the '\n",
      " 'libido-crazed student? To be honest, it is impossible to care because the '\n",
      " \"script doesn't flesh out any character outside Forbes).<br /><br />ACTING: $ \"\n",
      " '(Terrible on all levels. This slasher has the feel of a school production '\n",
      " '-high school that is because college students could make a better flick than '\n",
      " 'this. Forbes showcases a modicum of talent as does Seminara as one of the '\n",
      " 'students, but everyone else is of the \"extras\" caliber of acting).')\n",
      "\n",
      "\n",
      "('There were a lot of truly great horror movies produced in the seventies - '\n",
      " \"but this film certainly isn't one of them! It's a shame The Child isn't \"\n",
      " 'better as it works from a decent idea that takes in a couple of sometimes '\n",
      " 'successful horror themes. We have the idea of a vengeful child, which worked '\n",
      " 'so well in classic films such as The Bad Seed and then we have the central '\n",
      " 'zombie theme, which of course has been the backbone of many a successful '\n",
      " 'horror movie. The plot is basically this: young girl blames a load of people '\n",
      " 'for the death of her mother, so she goes to the graveyard and raises the '\n",
      " 'dead to get revenge (as you do). This is all well and good, except for the '\n",
      " \"fact that it's boring! Nothing happens for most of the film, and although it \"\n",
      " \"does pick up at the end with some nice gore; it's not enough of a finale to \"\n",
      " 'justify sitting through the rest of it. The film was obviously shot on a '\n",
      " \"budget as the locations look cheap and all the actors are rubbish. There's \"\n",
      " \"really not much I can say about the film overall as there isn't much to it. \"\n",
      " \"The Child is a dismal seventies horror flick and I certainly don't recommend \"\n",
      " 'it.')\n",
      "\n",
      "\n"
     ]
    }
   ],
   "source": [
    "for res in ans:\n",
    "    pprint(res)\n",
    "    print('\\n')"
   ]
  },
  {
   "cell_type": "markdown",
   "id": "e1ff6432",
   "metadata": {},
   "source": [
    "## Generation part"
   ]
  },
  {
   "cell_type": "code",
   "execution_count": null,
   "id": "4c46006f",
   "metadata": {},
   "outputs": [],
   "source": [
    "system_template = \"\"\"\n",
    "You are a movie expert. You are provided with reviews from the IMDb dataset that are relevant to the user's request.\n",
    "\n",
    "Reviews:\n",
    "\n",
    "{reviews}\n",
    "\"\"\".strip()\n",
    "\n",
    "def generate_system_prompt(reviews: list[str]) -> str:\n",
    "    return system_template.format(reviews=\"\\n\\n\".join(reviews))"
   ]
  },
  {
   "cell_type": "code",
   "execution_count": null,
   "id": "5b3b582b",
   "metadata": {},
   "outputs": [
    {
     "name": "stdout",
     "output_type": "stream",
     "text": [
      "You are a movie expert. You are provided with reviews from the IMDb dataset that are relevant to the user's request.\n",
      "\n",
      "Reviews:\n",
      "\n",
      "How can you tell that a horror movie is terrible? when you can't stop laughing about it of course! The plot has been well covered by other reviewers, so I'll just add a few things on the hilarity of it all.<br /><br />Some reviews have placed the location in South America, others in Africa, I thought it was in some random island in the Pacific. Where exactly does this take place, seems to be a mystery. The cannibal tribe is conformed by a couple of black women some black men, and a man who looks like a young Frank Zappa banging the drums... the Devil God is a large black man with a terrible case of pink eyes.<br /><br />One of the \"freakiest\" moments in the film is when, \"Pablito\" find his partner hanging from a tree covered in what seems to be an orange substance that I assume is blood, starts screaming for minutes on and on (that's actually funny), and then the head of his partner falls in the ground and \"Pablito\" kicks it a bit for what I assume is \"shits n' giggles\" and the eyes actually move...<br /><br />But, of course, then the \"freak\" is gone when you realize the eyes moved because the movie is just bad...<br /><br />I hadn't laughed like this in a loooong while, and I definitely recommend this film for a Sunday afternoon with your friends and you have nothing to do... grab a case of beers and start watching this film, you'll love it! If you are looking for a real horror or gore movie, though... don't' bother.\n",
      "\n",
      "This movie still chills me to the bone thinking of it. This movie was not just bad as in low-budget, badly acted, etc. although it certainly WAS all of those things. The problem with this movie is that it seemed to be intentionally trying to annoy the viewer, and doing it with great success. What I want to know is, is this supposed to be a horror movie? I mean, it's definately horrifying, but not in the way horror movies are supposed to be. I could see the first segment trying to be horror and failing, but what the hell is the second segment? It's just annoying. The third segment is like watching an artsy student film, which amazingly enough makes it the least painful segment. It's an atrocity that this movie isn't way low on the bottom 100, so get your votes (1/10) in people!! I know some people gave this good reviews, but, well, they're lying in a sadistic attempt to trick you. Trust me, it is impossible to like this movie. The only benefit of this movie is an amazing life-extending effect: it feels like you've been watching this movie for years after only the first half hour has passed.\n",
      "\n",
      "Chilling, majestic piece of cinematic fright, this film combines all the great elements of an intellectual thriller, with the grand vision of a director who has the instinctual capacity to pace a moody horror flick within the realm of his filmmaking genius that includes an eye for the original shot, an ice-cold soundtrack and an overall sense of dehumanization. This movie cuts through all the typical horror movies like a red-poker through a human eye, as it allows the viewer to not only feel the violence and psychosis of its protagonist, but appreciate the seed from which the derangement stems. One of the scariest things for people to face is the unknown and this film presents its plotting with just that thought in mind. The setting is perfect, in a desolate winter hideaway. The quietness of the moment is a character in itself, as the fermenting aggressor in Jack Torrance's mind wallows in this idle time, and breeds the devil's new playground. I always felt like the presence of evil was dormant in all of our minds, with only the circumstances of the moment, and the reasons given therein, needed to wake its violent ass and pounce over its unsuspecting victims. This film is a perfect example of this very thought.<br /><br />And it is within this film's subtle touches of the canvas, the clackity-clacks of the young boy's big wheel riding along the empty hallways of the hotel, the labyrinthian garden representing the mind's fine line between sane and insane, Kubrick's purposely transfixed editing inconsistencies, continuity errors and set mis-arrangements, that we discover a world guided by the righteous and tangible, but coaxed away by the powerful and unknown. I have never read the book upon which the film is based, but without that as a comparison point, I am proud to say that this is one of the most terrifying films that I have ever seen. I thought that the runtime of the film could've been cut by a little bit, but then again, I am not one of the most acclaimed directors in the history of film, so maybe I should keep my two-cent criticisms over a superb film, to myself. All in all, this movie captures your attention with its grand form and vision, ropes you in with some terror and eccentric direction, and ties you down and stabs you in the heart with its cold-eyed view of the man's mind gone overboard, creepy atmosphere and the loss of humanity.<br /><br />Rating: 9/10\n",
      "\n",
      "I am an avid B-Rate horror film buff and have viewed my fair share of slasher pictures, so I have a substantial gauge to judge this film by. It easily ranks in the upper echelon of the worst horror films the 1980's has to offer. It isn't as scary as Night of the Demons, it isn't as gory as Re-Animator and lacks the camp value of There's Nothing Out There. That being said, this film has no value. Keep in mind, the movie artwork is for a completely different film. The stills shots on the back of the DVD box aren't taken from this film.<br /><br />VIOLENCE: $$$ (There is plenty of violence but we've seen it all before. A murderer kills nubile students and the occasional facility member by slitting throats and all the other tired methods of murder that horror films utilize).<br /><br />NUDITY: None <br /><br />STORY: $$ (The story focuses on Francine Forbes - who wisely changed her name to Forbes Riley after this film was made - who accepts a job teaching at a university. People start to die and Forbes believes the killer is targeting her. Is it her new heartthrob with a checkered past or the libido-crazed student? To be honest, it is impossible to care because the script doesn't flesh out any character outside Forbes).<br /><br />ACTING: $ (Terrible on all levels. This slasher has the feel of a school production -high school that is because college students could make a better flick than this. Forbes showcases a modicum of talent as does Seminara as one of the students, but everyone else is of the \"extras\" caliber of acting).\n",
      "\n",
      "There were a lot of truly great horror movies produced in the seventies - but this film certainly isn't one of them! It's a shame The Child isn't better as it works from a decent idea that takes in a couple of sometimes successful horror themes. We have the idea of a vengeful child, which worked so well in classic films such as The Bad Seed and then we have the central zombie theme, which of course has been the backbone of many a successful horror movie. The plot is basically this: young girl blames a load of people for the death of her mother, so she goes to the graveyard and raises the dead to get revenge (as you do). This is all well and good, except for the fact that it's boring! Nothing happens for most of the film, and although it does pick up at the end with some nice gore; it's not enough of a finale to justify sitting through the rest of it. The film was obviously shot on a budget as the locations look cheap and all the actors are rubbish. There's really not much I can say about the film overall as there isn't much to it. The Child is a dismal seventies horror flick and I certainly don't recommend it.\n"
     ]
    }
   ],
   "source": [
    "print(\n",
    "    generate_system_prompt(\n",
    "        load_relevant_reviews(\"what is the typcal plot for a horror movie?\")\n",
    "    )\n",
    ")"
   ]
  },
  {
   "cell_type": "code",
   "execution_count": 31,
   "id": "5bcb4f1c",
   "metadata": {},
   "outputs": [
    {
     "name": "stderr",
     "output_type": "stream",
     "text": [
      "Device set to use cpu\n"
     ]
    }
   ],
   "source": [
    "generation_pipeline = pipeline(\n",
    "    \"text-generation\",\n",
    "    model=\"Qwen/Qwen2-1.5B-Instruct\"\n",
    ")"
   ]
  },
  {
   "cell_type": "code",
   "execution_count": null,
   "id": "b6e632ad",
   "metadata": {},
   "outputs": [],
   "source": [
    "def generate(request: str) -> str:\n",
    "    system_prompt = generate_system_prompt(\n",
    "        load_relevant_reviews(request)\n",
    "    )\n",
    "    messages = [\n",
    "        {\"role\": \"system\", \"content\": system_prompt},\n",
    "        {\"role\": \"user\", \"content\": request}\n",
    "    ]\n",
    "    ans = generation_pipeline(messages, max_new_tokens=512, temperature=0.1, top_p=0.7)\n",
    "    return ans[0][\"generated_text\"][-1][\"content\"]"
   ]
  }
 ],
 "metadata": {
  "kernelspec": {
   "display_name": "knowledge",
   "language": "python",
   "name": "python3"
  },
  "language_info": {
   "codemirror_mode": {
    "name": "ipython",
    "version": 3
   },
   "file_extension": ".py",
   "mimetype": "text/x-python",
   "name": "python",
   "nbconvert_exporter": "python",
   "pygments_lexer": "ipython3",
   "version": "3.13.7"
  }
 },
 "nbformat": 4,
 "nbformat_minor": 5
}
