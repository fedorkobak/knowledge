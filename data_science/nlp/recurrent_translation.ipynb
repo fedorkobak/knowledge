{
  "cells": [
    {
      "cell_type": "markdown",
      "metadata": {
        "id": "QKNGHzK1-R4o"
      },
      "source": [
        "# Recurrent translations\n",
        "\n",
        "This notebook considers the solution of the translation task using recurrent layers."
      ]
    },
    {
      "cell_type": "code",
      "execution_count": 6,
      "metadata": {
        "execution": {
          "iopub.execute_input": "2024-12-08T12:34:10.636157Z",
          "iopub.status.busy": "2024-12-08T12:34:10.635876Z",
          "iopub.status.idle": "2024-12-08T12:34:15.314008Z",
          "shell.execute_reply": "2024-12-08T12:34:15.313261Z",
          "shell.execute_reply.started": "2024-12-08T12:34:10.636089Z"
        },
        "id": "hQcqiP4P-R4t",
        "trusted": true
      },
      "outputs": [],
      "source": [
        "from tqdm import tqdm\n",
        "from datasets import load_dataset\n",
        "\n",
        "import torch\n",
        "import torch.nn as nn\n",
        "import torch.optim as optim\n",
        "from torch.nn.utils.rnn import pad_sequence\n",
        "\n",
        "if torch.cuda.is_available():\n",
        "    DEVICE = torch.device(\"cuda\")\n",
        "elif torch.backends.mps.is_available():\n",
        "    DEVICE = torch.device(\"mps\")\n",
        "else:\n",
        "    DEVICE = torch.device(\"cpu\")"
      ]
    },
    {
      "cell_type": "markdown",
      "metadata": {
        "id": "N9SYzcLJ-R4u"
      },
      "source": [
        "## Data\n",
        "\n",
        "As an example, the English->Russian data set `tatoeda` is considered. [Tatoeda](https://tatoeba.org/en/) - collections of sentences and their translations. In particular, it's [hugging face implementation](https://huggingface.co/datasets/Helsinki-NLP/tatoeba) was used. The following cell loads data, transforms it into a more convenient format and displays some sentences from the dataset."
      ]
    },
    {
      "cell_type": "code",
      "execution_count": 3,
      "metadata": {
        "colab": {
          "base_uri": "https://localhost:8080/",
          "height": 484,
          "referenced_widgets": [
            "881b2fa032504763a20e89f9dd60d07d",
            "b9013e4b81944849b6f4d8a94a3f8a5f",
            "58961fd2dc544fb9928ff54b1006a8e2",
            "4e853df8ee6d402188e5f94fb819f897",
            "a38c72e1015340b495ed3434d6b48cdf",
            "5d4f5a91d1a5403293e5c3de7addfdaf",
            "e9369274513b4dd9ad01954fc9fb34cd",
            "2565df1abc5c484aa7acb2841877f33d",
            "7d94a6bd445f4bbf8250e80cfd41b0f8",
            "ec06e059b06945ada272673affc6de86",
            "62a978709bc647698bb074cd43613539",
            "b580c31c9c1d4c00a2d4ba78f48bb8d5",
            "dfe2646916f2418db0c373d9b91d70c8",
            "5095cc30649c42efa91ad3f899ac23ac",
            "2eda70bc315d4a15b8aeea6224dbc88b",
            "efa5cd843b714b628bb07e72516d36cb",
            "40b258a851284ba4baa898d4487bb993",
            "704678a9e3fe475f93448727dfe62ceb",
            "cee4cf5f6ab74b75b40eb9574cb50149",
            "c04520d22acb4f96a7b08e91921e9ad4",
            "19c40eb054694f7ab145141bb93b2000",
            "9300a9049a0643e6956a1b5768b39da5",
            "5607abfa7a684296a3bb878bd9ebb6f9",
            "49c5bfc6a7c64585a670add29e1c33d7",
            "31fece14339c4e4d8958112ea9fa9908",
            "feaf022204c9477786f2c4b95c2ccb91",
            "611fb4e18f3149ee916eb0692b51cdb7",
            "b8dfa4756c4a45a28ea2f4b13c2c2afb",
            "c53f7e5be4174c8f8a161253f9b7d67a",
            "563a6f6c0db64852bb3aa8982937e796",
            "c041eddb2ca448f187420419fc95b33a",
            "6f31cf47150043a3bdd0b5ef8760f84c",
            "6272d211b5fe4c938c6de34975602d82",
            "f7fd18a7d26940b58fdc716f1e3f9613",
            "d4d2920802034af7aeed7089c60caf90",
            "d8dc9b39944f4eb99228aac2f2a698dc",
            "7bd157aecf1941a0b9f589bdfdc13f07",
            "694bfd3ad6eb45018be6145c0f5510bf",
            "b5ef2923441349aa8a6dc86929389ed3",
            "4ee497aca61645d2bacf5c1bd1c0164b",
            "491159d9d27644d690cc544a37e6876d",
            "11cc5aaf8465498ca52318ca12ebf099",
            "8eeed1c5062f4718a7650d08a416ed78",
            "77bb44cc4ced435cb2afaa3bf172d3b9"
          ]
        },
        "execution": {
          "iopub.execute_input": "2024-12-08T12:34:15.316645Z",
          "iopub.status.busy": "2024-12-08T12:34:15.315684Z",
          "iopub.status.idle": "2024-12-08T12:34:43.809260Z",
          "shell.execute_reply": "2024-12-08T12:34:43.808348Z",
          "shell.execute_reply.started": "2024-12-08T12:34:15.316601Z"
        },
        "id": "-gBA7tiJ-R4w",
        "outputId": "68de1c2b-45b1-498e-e44e-40897cdd22cc",
        "trusted": true
      },
      "outputs": [
        {
          "output_type": "stream",
          "name": "stderr",
          "text": [
            "/usr/local/lib/python3.10/dist-packages/huggingface_hub/utils/_auth.py:94: UserWarning: \n",
            "The secret `HF_TOKEN` does not exist in your Colab secrets.\n",
            "To authenticate with the Hugging Face Hub, create a token in your settings tab (https://huggingface.co/settings/tokens), set it as secret in your Google Colab and restart your session.\n",
            "You will be able to reuse this secret in all of your notebooks.\n",
            "Please note that authentication is recommended but still optional to access public models or datasets.\n",
            "  warnings.warn(\n"
          ]
        },
        {
          "output_type": "display_data",
          "data": {
            "text/plain": [
              "README.md:   0%|          | 0.00/8.93k [00:00<?, ?B/s]"
            ],
            "application/vnd.jupyter.widget-view+json": {
              "version_major": 2,
              "version_minor": 0,
              "model_id": "881b2fa032504763a20e89f9dd60d07d"
            }
          },
          "metadata": {}
        },
        {
          "output_type": "display_data",
          "data": {
            "text/plain": [
              "tatoeba.py:   0%|          | 0.00/4.41k [00:00<?, ?B/s]"
            ],
            "application/vnd.jupyter.widget-view+json": {
              "version_major": 2,
              "version_minor": 0,
              "model_id": "b580c31c9c1d4c00a2d4ba78f48bb8d5"
            }
          },
          "metadata": {}
        },
        {
          "name": "stdout",
          "output_type": "stream",
          "text": [
            "The repository for tatoeba contains custom code which must be executed to correctly load the dataset. You can inspect the repository content at https://hf.co/datasets/tatoeba.\n",
            "You can avoid this prompt in future by passing the argument `trust_remote_code=True`.\n",
            "\n",
            "Do you wish to run the custom code? [y/N] y\n"
          ]
        },
        {
          "output_type": "display_data",
          "data": {
            "text/plain": [
              "Downloading data:   0%|          | 0.00/14.3M [00:00<?, ?B/s]"
            ],
            "application/vnd.jupyter.widget-view+json": {
              "version_major": 2,
              "version_minor": 0,
              "model_id": "5607abfa7a684296a3bb878bd9ebb6f9"
            }
          },
          "metadata": {}
        },
        {
          "output_type": "display_data",
          "data": {
            "text/plain": [
              "Generating train split: 0 examples [00:00, ? examples/s]"
            ],
            "application/vnd.jupyter.widget-view+json": {
              "version_major": 2,
              "version_minor": 0,
              "model_id": "f7fd18a7d26940b58fdc716f1e3f9613"
            }
          },
          "metadata": {}
        },
        {
          "output_type": "execute_result",
          "data": {
            "text/plain": [
              "[(\"I won't ask you anything else today.\",\n",
              "  'Сегодня я тебя больше ни о чём не спрошу.'),\n",
              " ('It may freeze next week.', 'На следующей неделе могут быть заморозки.'),\n",
              " (\"Even though he apologized, I'm still furious.\",\n",
              "  'Несмотря на то, что он извинился, я все ещё в бешенстве.'),\n",
              " ('The police will get you to find the bullets.',\n",
              "  'Полиция вас заставит найти пули.'),\n",
              " ('Thanks for having explained to me at last why people take me for an idiot.',\n",
              "  'Спасибо за то, что наконец объяснили, почему люди принимают меня за идиота.')]"
            ]
          },
          "metadata": {},
          "execution_count": 3
        }
      ],
      "source": [
        "dataset = load_dataset(\n",
        "    \"tatoeba\",\n",
        "    lang1=\"en\",\n",
        "    lang2=\"ru\",\n",
        "    trust_remote_code=True\n",
        ")\n",
        "dataset = [\n",
        "    (translation[\"en\"], translation[\"ru\"])\n",
        "    for translation in dataset[\"train\"][\"translation\"]\n",
        "]\n",
        "dataset[200:205]"
      ]
    },
    {
      "cell_type": "markdown",
      "metadata": {
        "id": "D4Ae7Nilkywh"
      },
      "source": [
        "The next cell prepares the following:  \n",
        "- Service tokens.\n",
        "- Vocabulary.\n",
        "- Tokenization transformation.  \n",
        "- Mappings between tokens and indices (both directions)."
      ]
    },
    {
      "cell_type": "code",
      "execution_count": 4,
      "metadata": {
        "execution": {
          "iopub.execute_input": "2024-12-08T12:34:43.810543Z",
          "iopub.status.busy": "2024-12-08T12:34:43.810266Z",
          "iopub.status.idle": "2024-12-08T12:34:45.165901Z",
          "shell.execute_reply": "2024-12-08T12:34:45.164954Z",
          "shell.execute_reply.started": "2024-12-08T12:34:43.810517Z"
        },
        "id": "4LR2EYTD-R4x",
        "trusted": true
      },
      "outputs": [],
      "source": [
        "# Special tokens\n",
        "PAD_TOKEN = \"<PAD>\"\n",
        "# End of sentence\n",
        "EOS_TOKEN = \"<EOS>\"\n",
        "# Start of sentence\n",
        "SOS_TOKEN = \"<SOS>\"\n",
        "# Unknown\n",
        "UNK_TOKEN = \"<UNK>\"\n",
        "\n",
        "\n",
        "def tokenize(sentence: str) -> list[str]:\n",
        "    '''Tokinelattion of the given stirng  by words'''\n",
        "    return sentence.lower().split()\n",
        "\n",
        "EN_VOCAB = {PAD_TOKEN, EOS_TOKEN, SOS_TOKEN, UNK_TOKEN}\n",
        "RU_VOCAB = {PAD_TOKEN, EOS_TOKEN, SOS_TOKEN, UNK_TOKEN}\n",
        "for en, ru in dataset:\n",
        "    EN_VOCAB.update(tokenize(en))\n",
        "    RU_VOCAB.update(tokenize(ru))\n",
        "\n",
        "def create_mappings(vocab: set) -> tuple[dict[str, int], dict[int, str]]:\n",
        "    '''\n",
        "    Create mappings.\n",
        "    '''\n",
        "    word2int = {word: i for i, word in enumerate(vocab)}\n",
        "    int2word = {i: word for word, i in word2int.items()}\n",
        "    return word2int, int2word\n",
        "\n",
        "EN_WORD2INT, EN_INT2WORD = create_mappings(EN_VOCAB)\n",
        "RU_WORD2INT, RU_INT2WORD = create_mappings(RU_VOCAB)"
      ]
    },
    {
      "cell_type": "markdown",
      "metadata": {
        "id": "MLqTEhgQkywi"
      },
      "source": [
        "Now, `torch.utils.data.Dataset` is set up to iterate over sentence pairs, already transformed into tensors containing token indices."
      ]
    },
    {
      "cell_type": "code",
      "execution_count": 7,
      "metadata": {
        "execution": {
          "iopub.execute_input": "2024-12-08T12:34:45.168041Z",
          "iopub.status.busy": "2024-12-08T12:34:45.167766Z",
          "iopub.status.idle": "2024-12-08T12:34:45.361844Z",
          "shell.execute_reply": "2024-12-08T12:34:45.361017Z",
          "shell.execute_reply.started": "2024-12-08T12:34:45.168016Z"
        },
        "id": "151t2z9S-R4y",
        "trusted": true
      },
      "outputs": [],
      "source": [
        "def tensor_tokenize(\n",
        "    sentence: str,\n",
        "    word2int: dict[str, int],\n",
        "    device: torch.device = DEVICE\n",
        ") -> torch.Tensor:\n",
        "    '''Transform sentence into tensor with indeces of tokens.'''\n",
        "    return torch.tensor(\n",
        "        [\n",
        "            word2int.get(word, word2int[UNK_TOKEN])\n",
        "            for word in tokenize(sentence)\n",
        "        ]\n",
        "        + [word2int[EOS_TOKEN]],\n",
        "        dtype=torch.long,\n",
        "        device=device\n",
        "    )\n",
        "\n",
        "\n",
        "class TranslationDataset(torch.utils.data.Dataset):\n",
        "    '''A data set iterating over input->translation pairs.'''\n",
        "    def __init__(\n",
        "        self,\n",
        "        pairs: list[tuple[str, str]],\n",
        "        en_word2int: dict[str, int],\n",
        "        ru_word2int: dict[str, int]\n",
        "    ):\n",
        "        self.pairs = pairs\n",
        "        self.en_word2int = en_word2int\n",
        "        self.ru_word2int = ru_word2int\n",
        "\n",
        "    def __len__(self):\n",
        "        return len(self.pairs)\n",
        "\n",
        "    def __getitem__(self, idx):\n",
        "        eng, rus = self.pairs[idx]\n",
        "        eng_tensor = tensor_tokenize(sentence=eng, word2int=self.en_word2int)\n",
        "        rus_tensor = tensor_tokenize(sentence=rus, word2int=self.ru_word2int)\n",
        "        return eng_tensor, rus_tensor\n",
        "\n",
        "translation_dataset = TranslationDataset(\n",
        "    pairs=dataset,\n",
        "    en_word2int=EN_WORD2INT,\n",
        "    ru_word2int=RU_WORD2INT\n",
        ")"
      ]
    },
    {
      "cell_type": "markdown",
      "metadata": {
        "id": "wxbE9KJtkywj"
      },
      "source": [
        "Here is an example of using the created dataset - it simply returns a pair of tensors containing the indices of English and Russian tokens, respectively."
      ]
    },
    {
      "cell_type": "code",
      "execution_count": 8,
      "metadata": {
        "colab": {
          "base_uri": "https://localhost:8080/"
        },
        "id": "FxBy83_zkywk",
        "outputId": "5dfd725c-c7d1-41c0-ce4e-d757f3e88e5e"
      },
      "outputs": [
        {
          "output_type": "execute_result",
          "data": {
            "text/plain": [
              "(tensor([12845, 47486, 33172, 36617, 54900, 13416, 17676, 15429, 27838, 33949,\n",
              "         35532, 23035, 39765, 51507,  9368], device='cuda:0'),\n",
              " tensor([ 58057,   7555,  41970, 109240,  52815,  38096,  93771, 115141,  73088,\n",
              "          44994,  40218,  11276], device='cuda:0'))"
            ]
          },
          "metadata": {},
          "execution_count": 8
        }
      ],
      "source": [
        "next(iter(translation_dataset))"
      ]
    },
    {
      "cell_type": "markdown",
      "metadata": {
        "id": "GMHTdVb5kywk"
      },
      "source": [
        "And finally, a dataloader constructs minibatches of pairs and pads shorter sentences so that data across a set of sentences can be represented as a single tensor."
      ]
    },
    {
      "cell_type": "code",
      "execution_count": 9,
      "metadata": {
        "colab": {
          "base_uri": "https://localhost:8080/"
        },
        "execution": {
          "iopub.execute_input": "2024-12-08T12:34:45.363010Z",
          "iopub.status.busy": "2024-12-08T12:34:45.362778Z",
          "iopub.status.idle": "2024-12-08T12:34:45.419813Z",
          "shell.execute_reply": "2024-12-08T12:34:45.418942Z",
          "shell.execute_reply.started": "2024-12-08T12:34:45.362987Z"
        },
        "id": "JFtSwmsE-R40",
        "outputId": "e26509e5-f794-44b6-8692-cb91c0dbb372",
        "trusted": true
      },
      "outputs": [
        {
          "output_type": "execute_result",
          "data": {
            "text/plain": [
              "(tensor([[12845, 47486, 33172, 36617, 54900, 13416, 17676, 15429, 27838, 33949,\n",
              "          35532, 23035, 39765, 51507,  9368],\n",
              "         [40990, 30170, 54430,  9368, 50966, 50966, 50966, 50966, 50966, 50966,\n",
              "          50966, 50966, 50966, 50966, 50966]], device='cuda:0'),\n",
              " tensor([[ 58057,   7555,  41970, 109240,  52815,  38096,  93771, 115141,  73088,\n",
              "           44994,  40218,  11276, 129051, 129051, 129051, 129051],\n",
              "         [ 82115, 128804,  49943,  11276, 129051, 129051, 129051, 129051, 129051,\n",
              "          129051, 129051, 129051, 129051, 129051, 129051, 129051]],\n",
              "        device='cuda:0'))"
            ]
          },
          "metadata": {},
          "execution_count": 9
        }
      ],
      "source": [
        "def collate_fn(batch: list[torch.Tensor, torch.Tensor]):\n",
        "    '''\n",
        "    Transforms a list of tokinized sentences into the torch tensor. Should be\n",
        "    used as `collate_fn` argument of the dataloader. The main purpose is to\n",
        "    pad all sentences to have the same length.\n",
        "    '''\n",
        "    eng_batch, rus_batch = zip(*batch)\n",
        "    eng_batch_padded = pad_sequence(\n",
        "        eng_batch, batch_first=True, padding_value=EN_WORD2INT[PAD_TOKEN]\n",
        "    )\n",
        "    rus_batch_padded = pad_sequence(\n",
        "        rus_batch, batch_first=True, padding_value=RU_WORD2INT[PAD_TOKEN]\n",
        "    )\n",
        "    return eng_batch_padded, rus_batch_padded\n",
        "\n",
        "batch_size = 64\n",
        "translation_dataloader = torch.utils.data.DataLoader(\n",
        "    translation_dataset,\n",
        "    batch_size=batch_size,\n",
        "    shuffle=False,\n",
        "    drop_last=True,\n",
        "    collate_fn=collate_fn,\n",
        ")\n",
        "batch = next(iter(translation_dataloader))\n",
        "(batch[0][:2], batch[1][:2])"
      ]
    },
    {
      "cell_type": "markdown",
      "metadata": {
        "id": "4qn2g0Wa-R41"
      },
      "source": [
        "## Model\n",
        "\n",
        "This section discusses the model architecture, with the key components being the **encoder** and the **decoder**. The central idea is that the encoder transforms the input text into a vector representation. This vector serves as the initial hidden state for the recurrent decoder, which generates the translation by processing the already translated part of the sentence as its input sequence."
      ]
    },
    {
      "cell_type": "markdown",
      "metadata": {
        "id": "C6s6KdF2kywm"
      },
      "source": [
        "### Encoder\n",
        "\n",
        "The encoder extracts the last hidden state from each layer. Since there are both forward and backward directional layers, the total number of states corresponds to twice the value of the `num_layers` parameter. All these outputs are then concatenated into a single vector for each sample."
      ]
    },
    {
      "cell_type": "code",
      "execution_count": 10,
      "metadata": {
        "execution": {
          "iopub.execute_input": "2024-12-08T12:34:45.434556Z",
          "iopub.status.busy": "2024-12-08T12:34:45.434198Z",
          "iopub.status.idle": "2024-12-08T12:34:45.440984Z",
          "shell.execute_reply": "2024-12-08T12:34:45.440246Z",
          "shell.execute_reply.started": "2024-12-08T12:34:45.434519Z"
        },
        "id": "71y9rIeN-R44",
        "trusted": true
      },
      "outputs": [],
      "source": [
        "class Encoder(nn.Module):\n",
        "\n",
        "    def __init__(\n",
        "        self,\n",
        "        vocab_size: int,\n",
        "        embed_size: int,\n",
        "        hidden_size: int,\n",
        "        num_layers: int = 1\n",
        "    ):\n",
        "        super().__init__()\n",
        "        self.hidden_size = hidden_size\n",
        "        self.embedding = nn.Embedding(vocab_size, embed_size)\n",
        "        self.rnn = nn.RNN(\n",
        "            input_size=embed_size,\n",
        "            hidden_size=hidden_size,\n",
        "            batch_first=True,\n",
        "            bidirectional=True,\n",
        "            num_layers=num_layers\n",
        "        )\n",
        "\n",
        "    def forward(self, x: torch.Tensor):\n",
        "        '''\n",
        "        Parameters\n",
        "        ----------\n",
        "        x: torch.Tensor\n",
        "            With dimentionality (samples_number, sequence_length).\n",
        "            Original language senteces transformed to indeces.\n",
        "\n",
        "        Returns\n",
        "        -------\n",
        "            ouputs: torch.Tensor\n",
        "                (samples_number, sequence_len, hidden_size)\n",
        "                All states.\n",
        "            hidden: torch.Tensor\n",
        "                (samples_number, hidden_size)\n",
        "                Final state.\n",
        "        '''\n",
        "        embedded = self.embedding(x)\n",
        "        outputs, hidden = self.rnn(embedded)\n",
        "        # Concatenating results of all layers and all directions to one long\n",
        "        # sequence\n",
        "        hidden = torch.cat(\n",
        "            [hidden[i, :, :] for i in range(len(hidden))], dim=1\n",
        "        ).unsqueeze(0)\n",
        "        return outputs, hidden"
      ]
    },
    {
      "cell_type": "markdown",
      "metadata": {
        "id": "0q3sIJrOkywn"
      },
      "source": [
        "Here is the result of applying the recurrent layer to the two transformed sentences."
      ]
    },
    {
      "cell_type": "code",
      "execution_count": 11,
      "metadata": {
        "colab": {
          "base_uri": "https://localhost:8080/"
        },
        "id": "pAZaL4qVkywn",
        "outputId": "62d41919-e1c3-4ae6-ac68-9149697d60fc"
      },
      "outputs": [
        {
          "output_type": "execute_result",
          "data": {
            "text/plain": [
              "torch.Size([1, 2, 100])"
            ]
          },
          "metadata": {},
          "execution_count": 11
        }
      ],
      "source": [
        "encoder = Encoder(\n",
        "    vocab_size=1000,\n",
        "    embed_size=50,\n",
        "    hidden_size=10,\n",
        "    num_layers=5\n",
        ")\n",
        "encoder(torch.tensor([[0,1,2,3,4], [3,2,5,7,1]], dtype=torch.long))[1].shape"
      ]
    },
    {
      "cell_type": "markdown",
      "metadata": {
        "id": "wVt-wDxDkywn"
      },
      "source": [
        "**Note:** An extra dimension is added to the output of the decoder just to be used as the initial hidden state of a layer RNN in `decoder'."
      ]
    },
    {
      "cell_type": "markdown",
      "metadata": {
        "id": "vXuzddyGkywn"
      },
      "source": [
        "### Decoder\n",
        "\n",
        "The decoder is designed to take the text already generated in the previous steps and the hidden state from the previous steps. **Note:** In the first step, the decoder is supposed to use the start-of-sentence token as the already translated part and the encoder's hidden state, which contains information about the text to be translated.\n",
        "\n",
        "The following cell implements decoder:"
      ]
    },
    {
      "cell_type": "code",
      "execution_count": 12,
      "metadata": {
        "execution": {
          "iopub.execute_input": "2024-12-08T12:34:45.727172Z",
          "iopub.status.busy": "2024-12-08T12:34:45.726861Z",
          "iopub.status.idle": "2024-12-08T12:34:45.733027Z",
          "shell.execute_reply": "2024-12-08T12:34:45.732144Z",
          "shell.execute_reply.started": "2024-12-08T12:34:45.727139Z"
        },
        "id": "Pv4nzYAf-R45",
        "trusted": true
      },
      "outputs": [],
      "source": [
        "class Decoder(nn.Module):\n",
        "    def __init__(\n",
        "        self: int,\n",
        "        vocab_size: int,\n",
        "        embed_size: int,\n",
        "        hidden_size: int\n",
        "    ):\n",
        "        super().__init__()\n",
        "        self.hidden_size = hidden_size\n",
        "        self.embedding = nn.Embedding(vocab_size, embed_size)\n",
        "        self.rnn = nn.RNN(\n",
        "            input_size=embed_size,\n",
        "            hidden_size=hidden_size,\n",
        "            batch_first=True\n",
        "        )\n",
        "        self.fc = nn.Linear(in_features=hidden_size, out_features=vocab_size)\n",
        "\n",
        "    def forward(self, x: torch.Tensor, hidden: torch.Tensor):\n",
        "        '''\n",
        "        Parameters\n",
        "        ----------\n",
        "        x: torch.Tensor\n",
        "            (batch_size, sequence_length)\n",
        "            Each sentence transformed to the indices of tokens.\n",
        "        hidden: torch.Tensor\n",
        "            (1, batch_size, hidden_size)\n",
        "            Hidden state at the previous step.\n",
        "        '''\n",
        "        out = self.embedding(x)\n",
        "        out, hidden = self.rnn(out, hidden)\n",
        "        out = self.fc(out).reshape(out.size(0), -1)\n",
        "        return out, hidden"
      ]
    },
    {
      "cell_type": "markdown",
      "metadata": {
        "id": "SjmxTGZSkywo"
      },
      "source": [
        "The following cell shows how `Decoder` can be applied to the two 3-token sentences with a 3-dimensional hidden vector."
      ]
    },
    {
      "cell_type": "code",
      "execution_count": 13,
      "metadata": {
        "colab": {
          "base_uri": "https://localhost:8080/"
        },
        "id": "X8JAq5YBkywo",
        "outputId": "a0c5347e-28b0-40b1-cff1-47e0edc36e70"
      },
      "outputs": [
        {
          "output_type": "execute_result",
          "data": {
            "text/plain": [
              "(tensor([[-0.3121, -0.0889,  0.3479,  ...,  0.4920,  0.5068,  0.7837],\n",
              "         [-1.1442,  0.4230, -0.1281,  ..., -0.2087,  0.1295,  0.3339]],\n",
              "        grad_fn=<ViewBackward0>),\n",
              " tensor([[[-0.7554, -0.1857,  0.8682,  0.2983,  0.3260,  0.7916,  0.3769,\n",
              "           -0.6647, -0.7988, -0.7135],\n",
              "          [-0.1838,  0.1077,  0.2179, -0.1817, -0.3542,  0.0289, -0.5906,\n",
              "           -0.4652, -0.3920, -0.1775]]], grad_fn=<StackBackward0>))"
            ]
          },
          "metadata": {},
          "execution_count": 13
        }
      ],
      "source": [
        "decoder = Decoder(\n",
        "    vocab_size=len(RU_VOCAB),\n",
        "    embed_size=7,\n",
        "    hidden_size=10\n",
        ")\n",
        "\n",
        "decoder(\n",
        "    torch.tensor([[1, 2, 3], [3, 2, 2]], dtype=torch.long),\n",
        "    torch.randn(1, 2, 10)\n",
        ")"
      ]
    },
    {
      "cell_type": "markdown",
      "metadata": {
        "id": "Tolk9xO4kywp"
      },
      "source": [
        "### Composition\n",
        "\n",
        "Have a closer look at how it all works together.\n",
        "\n",
        "We'll look at how it works using the first batch of the data loader we created earlier."
      ]
    },
    {
      "cell_type": "code",
      "execution_count": 14,
      "metadata": {
        "colab": {
          "base_uri": "https://localhost:8080/"
        },
        "id": "uphQ_gp_kywp",
        "outputId": "30689762-2887-45b6-99fb-7bf8dc1c348f"
      },
      "outputs": [
        {
          "output_type": "stream",
          "name": "stdout",
          "text": [
            "EN shape torch.Size([64, 15])\n",
            "RU shape torch.Size([64, 16])\n"
          ]
        }
      ],
      "source": [
        "x = next(iter(translation_dataloader))\n",
        "print(\"EN shape\", x[0].shape)\n",
        "print(\"RU shape\", x[1].shape)"
      ]
    },
    {
      "cell_type": "markdown",
      "metadata": {
        "id": "JEz_NdEOkywp"
      },
      "source": [
        "The following cell applies encoder to the input batch."
      ]
    },
    {
      "cell_type": "code",
      "execution_count": 17,
      "metadata": {
        "colab": {
          "base_uri": "https://localhost:8080/"
        },
        "id": "RHuyMs2ukywp",
        "outputId": "73de4cd0-ae0e-4903-dec7-bdb566aa5948"
      },
      "outputs": [
        {
          "output_type": "execute_result",
          "data": {
            "text/plain": [
              "torch.Size([1, 64, 80])"
            ]
          },
          "metadata": {},
          "execution_count": 17
        }
      ],
      "source": [
        "embed_size = 10\n",
        "hidden_size = 10\n",
        "num_layers = 4\n",
        "\n",
        "encoder = Encoder(\n",
        "    vocab_size=len(EN_VOCAB),\n",
        "    embed_size=embed_size,\n",
        "    hidden_size=hidden_size,\n",
        "    num_layers=num_layers\n",
        ").to(DEVICE)\n",
        "hidden = encoder(x[0])[1]\n",
        "hidden.shape"
      ]
    },
    {
      "cell_type": "markdown",
      "metadata": {
        "id": "1C0l6BYSkywp"
      },
      "source": [
        "As a result, we obtain a vector for each observation in the batch. This vector's dimensionality is determined by the following logic: the hidden state size of each recurrent layer is multiplied by two because each layer processes the sequence in both forward and reverse directions (`bidirectional=True`)."
      ]
    },
    {
      "cell_type": "code",
      "execution_count": 18,
      "metadata": {
        "execution": {
          "iopub.execute_input": "2024-12-08T12:34:45.736232Z",
          "iopub.status.busy": "2024-12-08T12:34:45.735910Z",
          "iopub.status.idle": "2024-12-08T12:34:45.869033Z",
          "shell.execute_reply": "2024-12-08T12:34:45.868121Z",
          "shell.execute_reply.started": "2024-12-08T12:34:45.736186Z"
        },
        "id": "3TXH5ccs-R45",
        "trusted": true,
        "colab": {
          "base_uri": "https://localhost:8080/"
        },
        "outputId": "c2eb9e36-9235-4fb2-a5fa-253ce99b2e67"
      },
      "outputs": [
        {
          "output_type": "execute_result",
          "data": {
            "text/plain": [
              "torch.Size([64, 2145632])"
            ]
          },
          "metadata": {},
          "execution_count": 18
        }
      ],
      "source": [
        "decoder = Decoder(\n",
        "    vocab_size=len(RU_VOCAB),\n",
        "    embed_size=10,\n",
        "    hidden_size=hidden_size*num_layers*2\n",
        ").to(DEVICE)\n",
        "decoder(x[1], hidden)[0].shape"
      ]
    },
    {
      "cell_type": "markdown",
      "metadata": {
        "id": "6WmAFPLHkywq"
      },
      "source": [
        "## Inference\n",
        "\n",
        "Consider how the final model can be used in production. The following function represents how the given encoder and decoder can be applied to the arbitrary set."
      ]
    },
    {
      "cell_type": "code",
      "execution_count": 19,
      "metadata": {
        "execution": {
          "iopub.execute_input": "2024-12-08T12:34:45.870688Z",
          "iopub.status.busy": "2024-12-08T12:34:45.870334Z",
          "iopub.status.idle": "2024-12-08T12:34:45.878319Z",
          "shell.execute_reply": "2024-12-08T12:34:45.877490Z",
          "shell.execute_reply.started": "2024-12-08T12:34:45.870650Z"
        },
        "id": "mjsFohNI-R45",
        "trusted": true
      },
      "outputs": [],
      "source": [
        "def translate(\n",
        "    encoder: Encoder,\n",
        "    decoder: Decoder,\n",
        "    sentence: str,\n",
        "    en_word2int: dict[str: int],\n",
        "    ru_int2word: dict[int: str],\n",
        "    ru_word2int: dict[str: int],\n",
        "    max_length: int = 15,\n",
        "    device: torch.device = DEVICE\n",
        ") -> str:\n",
        "    \"\"\"\n",
        "    Apply model to a given sentence.\n",
        "    \"\"\"\n",
        "    encoder.eval()\n",
        "    decoder.eval()\n",
        "\n",
        "    with torch.inference_mode():\n",
        "        input_tensor = tensor_tokenize(sentence=sentence, word2int=en_word2int)\n",
        "        input_tensor = input_tensor.view(1, -1).to(device)\n",
        "\n",
        "        # Pass input sentence through encoder\n",
        "        _, encoder_hidden = encoder(input_tensor)\n",
        "        # Intialise hidden state of decoder\n",
        "        decoder_hidden = encoder_hidden\n",
        "\n",
        "        decoded_words = []\n",
        "        last_word = torch.tensor([[en_word2int[SOS_TOKEN]]]).to(device)\n",
        "        for _ in range(max_length):\n",
        "            # Pass last predicted token through decoder\n",
        "            logits, decoder_hidden = decoder(last_word, decoder_hidden)\n",
        "            # Selecting the most probable token\n",
        "            next_token = logits.argmax(dim=1)\n",
        "            last_word = next_token.unsqueeze(0).to(device)\n",
        "            if next_token.item() == ru_word2int[EOS_TOKEN]:\n",
        "                break\n",
        "            else:\n",
        "                decoded_words.append(ru_int2word.get(next_token.item()))\n",
        "\n",
        "    # return predicted words as a string\n",
        "    return \" \".join(decoded_words)"
      ]
    },
    {
      "cell_type": "markdown",
      "metadata": {
        "id": "VLrlTrbUkywq"
      },
      "source": [
        "Here is an example of use on an unfitted encoder/decoder combination:"
      ]
    },
    {
      "cell_type": "code",
      "execution_count": 20,
      "metadata": {
        "colab": {
          "base_uri": "https://localhost:8080/",
          "height": 35
        },
        "execution": {
          "iopub.execute_input": "2024-12-08T12:34:45.880393Z",
          "iopub.status.busy": "2024-12-08T12:34:45.879781Z",
          "iopub.status.idle": "2024-12-08T12:34:45.957742Z",
          "shell.execute_reply": "2024-12-08T12:34:45.956950Z",
          "shell.execute_reply.started": "2024-12-08T12:34:45.880354Z"
        },
        "id": "7jchNZcb-R46",
        "outputId": "3e817ebe-693b-4aeb-9e08-0c3fbaa2cef0",
        "trusted": true
      },
      "outputs": [
        {
          "output_type": "execute_result",
          "data": {
            "text/plain": [
              "'оранжевые? проиллюстрировать, сбивать засужу! победители! якоже задул ванну \"...они виктории, серии. окликнул сельского вечеринка. якоже волнуетесь. сплошным окиньте остановите. терминах'"
            ],
            "application/vnd.google.colaboratory.intrinsic+json": {
              "type": "string"
            }
          },
          "metadata": {},
          "execution_count": 20
        }
      ],
      "source": [
        "translate(\n",
        "    encoder=encoder,\n",
        "    decoder=decoder,\n",
        "    sentence=\"hello world\",\n",
        "    en_word2int=EN_WORD2INT,\n",
        "    ru_int2word=RU_INT2WORD,\n",
        "    ru_word2int=RU_WORD2INT,\n",
        "    max_length=20\n",
        ")"
      ]
    },
    {
      "cell_type": "markdown",
      "metadata": {
        "id": "zChwPAzb-R46"
      },
      "source": [
        "## Fitting\n",
        "\n",
        "Consider fitting procedure for such model."
      ]
    },
    {
      "cell_type": "markdown",
      "metadata": {
        "id": "037TjKz6kywr"
      },
      "source": [
        "The following cell sets up a parameter of the models that'll be used for fitting."
      ]
    },
    {
      "cell_type": "code",
      "execution_count": 22,
      "metadata": {
        "id": "ZI93Minqkyws"
      },
      "outputs": [],
      "source": [
        "encoder_hidden_size = 32\n",
        "num_layers = 5\n",
        "\n",
        "encoder = Encoder(\n",
        "    vocab_size=len(EN_VOCAB),\n",
        "    embed_size=256,\n",
        "    hidden_size=encoder_hidden_size,\n",
        "    num_layers=num_layers\n",
        ").to(DEVICE)\n",
        "\n",
        "decoder = Decoder(\n",
        "    vocab_size=len(RU_VOCAB),\n",
        "    embed_size=256,\n",
        "    hidden_size=encoder_hidden_size*num_layers*2\n",
        ").to(DEVICE)"
      ]
    },
    {
      "cell_type": "markdown",
      "metadata": {
        "id": "NeOzrQZkkyws"
      },
      "source": [
        "Following code implements fitting procedure:"
      ]
    },
    {
      "cell_type": "code",
      "execution_count": null,
      "metadata": {
        "id": "zgXQXwxH-R46",
        "trusted": true
      },
      "outputs": [],
      "source": [
        "# CrossEntropy loss shouldn't consider padding during optimilation\n",
        "loss_fn = nn.CrossEntropyLoss(ignore_index=EN_WORD2INT[PAD_TOKEN])\n",
        "\n",
        "encoder_optimizer = optim.AdamW(encoder.parameters())\n",
        "decoder_optimizer = optim.AdamW(decoder.parameters())\n",
        "\n",
        "num_epochs = 1\n",
        "\n",
        "encoder.train()\n",
        "decoder.train()\n",
        "\n",
        "for epoch in range(num_epochs):\n",
        "    iterator = tqdm(\n",
        "        enumerate(translation_dataloader),\n",
        "        total=len(translation_dataloader)\n",
        "    )\n",
        "    for i, (input_tensor, target_tensor) in iterator:\n",
        "        input_tensor, target_tensor = (\n",
        "            input_tensor.to(DEVICE),\n",
        "            target_tensor.to(DEVICE)\n",
        "        )\n",
        "\n",
        "        encoder_optimizer.zero_grad()\n",
        "        decoder_optimizer.zero_grad()\n",
        "\n",
        "        target_length = target_tensor.size(1)\n",
        "\n",
        "        _, encoder_hidden = encoder(input_tensor)\n",
        "\n",
        "        decoder_input = torch.full(\n",
        "            (batch_size, 1),\n",
        "            EN_WORD2INT[SOS_TOKEN],\n",
        "            dtype=torch.long\n",
        "        ).to(DEVICE)\n",
        "        decoder_hidden = encoder_hidden\n",
        "\n",
        "        loss = torch.tensor(0.0, device=DEVICE, requires_grad=True)\n",
        "        for di in range(target_length):\n",
        "            logits, decoder_hidden = decoder(decoder_input, decoder_hidden)\n",
        "            loss = loss + loss_fn(logits, target_tensor[:, di])\n",
        "            decoder_input = target_tensor[:, di].reshape(batch_size, 1)\n",
        "\n",
        "        loss.backward()\n",
        "        encoder_optimizer.step()\n",
        "        decoder_optimizer.step()\n",
        "\n",
        "        if i % 100 == 0:\n",
        "            print(\n",
        "                f\"Epoch {epoch}, \",\n",
        "                f\"Batch {i}, \",\n",
        "                f\"Loss: {loss.item() / target_length:.4f}\"\n",
        "            )"
      ]
    },
    {
      "cell_type": "markdown",
      "metadata": {
        "id": "i-OrEvstkyws"
      },
      "source": [
        "## Result\n",
        "\n",
        "Consider results of the gotten models:"
      ]
    },
    {
      "cell_type": "code",
      "execution_count": 24,
      "metadata": {
        "execution": {
          "iopub.execute_input": "2024-12-08T12:44:01.097644Z",
          "iopub.status.busy": "2024-12-08T12:44:01.097312Z",
          "iopub.status.idle": "2024-12-08T12:44:01.107873Z",
          "shell.execute_reply": "2024-12-08T12:44:01.106984Z",
          "shell.execute_reply.started": "2024-12-08T12:44:01.097613Z"
        },
        "trusted": true,
        "id": "xuYb_Wbikywt"
      },
      "outputs": [],
      "source": [
        "def simple_tranlation(input: str) -> str:\n",
        "    return translate(\n",
        "        encoder=encoder,\n",
        "        decoder=decoder,\n",
        "        sentence=input,\n",
        "        en_word2int=EN_WORD2INT,\n",
        "        ru_int2word=RU_INT2WORD,\n",
        "        ru_word2int=RU_WORD2INT,\n",
        "        max_length=20\n",
        "    )"
      ]
    },
    {
      "cell_type": "code",
      "source": [
        "simple_tranlation(\"Hello world\")"
      ],
      "metadata": {
        "colab": {
          "base_uri": "https://localhost:8080/",
          "height": 35
        },
        "id": "2gMvanais2Tc",
        "outputId": "cbac1c5f-1d2a-4775-e0a5-357824e40e2e"
      },
      "execution_count": 25,
      "outputs": [
        {
          "output_type": "execute_result",
          "data": {
            "text/plain": [
              "'у неё не было.'"
            ],
            "application/vnd.google.colaboratory.intrinsic+json": {
              "type": "string"
            }
          },
          "metadata": {},
          "execution_count": 25
        }
      ]
    },
    {
      "cell_type": "code",
      "execution_count": 26,
      "metadata": {
        "execution": {
          "iopub.execute_input": "2024-12-08T12:44:45.695828Z",
          "iopub.status.busy": "2024-12-08T12:44:45.694804Z",
          "iopub.status.idle": "2024-12-08T12:44:45.706825Z",
          "shell.execute_reply": "2024-12-08T12:44:45.706087Z",
          "shell.execute_reply.started": "2024-12-08T12:44:45.695792Z"
        },
        "trusted": true,
        "colab": {
          "base_uri": "https://localhost:8080/",
          "height": 35
        },
        "id": "krrbjR7Ekywt",
        "outputId": "c9f5721a-a46c-4245-cb72-4aed7403526e"
      },
      "outputs": [
        {
          "output_type": "execute_result",
          "data": {
            "text/plain": [
              "'что такое любовь?'"
            ],
            "application/vnd.google.colaboratory.intrinsic+json": {
              "type": "string"
            }
          },
          "metadata": {},
          "execution_count": 26
        }
      ],
      "source": [
        "simple_tranlation(\"What is this?\")"
      ]
    },
    {
      "cell_type": "code",
      "source": [
        "\n",
        "simple_tranlation(\"How task can be solved in other way?\")"
      ],
      "metadata": {
        "colab": {
          "base_uri": "https://localhost:8080/",
          "height": 35
        },
        "id": "FZocPTHcs91S",
        "outputId": "51b27cff-317a-48b7-c11d-f3bbd0287d71"
      },
      "execution_count": 27,
      "outputs": [
        {
          "output_type": "execute_result",
          "data": {
            "text/plain": [
              "'как долго он узнал о смерти брата?'"
            ],
            "application/vnd.google.colaboratory.intrinsic+json": {
              "type": "string"
            }
          },
          "metadata": {},
          "execution_count": 27
        }
      ]
    }
  ],
  "metadata": {
    "accelerator": "GPU",
    "colab": {
      "gpuType": "T4",
      "provenance": []
    },
    "kaggle": {
      "accelerator": "gpu",
      "dataSources": [
        {
          "datasetId": 5101699,
          "sourceId": 8539972,
          "sourceType": "datasetVersion"
        }
      ],
      "dockerImageVersionId": 30805,
      "isGpuEnabled": true,
      "isInternetEnabled": true,
      "language": "python",
      "sourceType": "notebook"
    },
    "kernelspec": {
      "display_name": "Python 3",
      "name": "python3"
    },
    "language_info": {
      "codemirror_mode": {
        "name": "ipython",
        "version": 3
      },
      "file_extension": ".py",
      "mimetype": "text/x-python",
      "name": "python",
      "nbconvert_exporter": "python",
      "pygments_lexer": "ipython3",
      "version": "3.12.3"
    },
    "widgets": {
      "application/vnd.jupyter.widget-state+json": {
        "881b2fa032504763a20e89f9dd60d07d": {
          "model_module": "@jupyter-widgets/controls",
          "model_name": "HBoxModel",
          "model_module_version": "1.5.0",
          "state": {
            "_dom_classes": [],
            "_model_module": "@jupyter-widgets/controls",
            "_model_module_version": "1.5.0",
            "_model_name": "HBoxModel",
            "_view_count": null,
            "_view_module": "@jupyter-widgets/controls",
            "_view_module_version": "1.5.0",
            "_view_name": "HBoxView",
            "box_style": "",
            "children": [
              "IPY_MODEL_b9013e4b81944849b6f4d8a94a3f8a5f",
              "IPY_MODEL_58961fd2dc544fb9928ff54b1006a8e2",
              "IPY_MODEL_4e853df8ee6d402188e5f94fb819f897"
            ],
            "layout": "IPY_MODEL_a38c72e1015340b495ed3434d6b48cdf"
          }
        },
        "b9013e4b81944849b6f4d8a94a3f8a5f": {
          "model_module": "@jupyter-widgets/controls",
          "model_name": "HTMLModel",
          "model_module_version": "1.5.0",
          "state": {
            "_dom_classes": [],
            "_model_module": "@jupyter-widgets/controls",
            "_model_module_version": "1.5.0",
            "_model_name": "HTMLModel",
            "_view_count": null,
            "_view_module": "@jupyter-widgets/controls",
            "_view_module_version": "1.5.0",
            "_view_name": "HTMLView",
            "description": "",
            "description_tooltip": null,
            "layout": "IPY_MODEL_5d4f5a91d1a5403293e5c3de7addfdaf",
            "placeholder": "​",
            "style": "IPY_MODEL_e9369274513b4dd9ad01954fc9fb34cd",
            "value": "README.md: 100%"
          }
        },
        "58961fd2dc544fb9928ff54b1006a8e2": {
          "model_module": "@jupyter-widgets/controls",
          "model_name": "FloatProgressModel",
          "model_module_version": "1.5.0",
          "state": {
            "_dom_classes": [],
            "_model_module": "@jupyter-widgets/controls",
            "_model_module_version": "1.5.0",
            "_model_name": "FloatProgressModel",
            "_view_count": null,
            "_view_module": "@jupyter-widgets/controls",
            "_view_module_version": "1.5.0",
            "_view_name": "ProgressView",
            "bar_style": "success",
            "description": "",
            "description_tooltip": null,
            "layout": "IPY_MODEL_2565df1abc5c484aa7acb2841877f33d",
            "max": 8928,
            "min": 0,
            "orientation": "horizontal",
            "style": "IPY_MODEL_7d94a6bd445f4bbf8250e80cfd41b0f8",
            "value": 8928
          }
        },
        "4e853df8ee6d402188e5f94fb819f897": {
          "model_module": "@jupyter-widgets/controls",
          "model_name": "HTMLModel",
          "model_module_version": "1.5.0",
          "state": {
            "_dom_classes": [],
            "_model_module": "@jupyter-widgets/controls",
            "_model_module_version": "1.5.0",
            "_model_name": "HTMLModel",
            "_view_count": null,
            "_view_module": "@jupyter-widgets/controls",
            "_view_module_version": "1.5.0",
            "_view_name": "HTMLView",
            "description": "",
            "description_tooltip": null,
            "layout": "IPY_MODEL_ec06e059b06945ada272673affc6de86",
            "placeholder": "​",
            "style": "IPY_MODEL_62a978709bc647698bb074cd43613539",
            "value": " 8.93k/8.93k [00:00&lt;00:00, 467kB/s]"
          }
        },
        "a38c72e1015340b495ed3434d6b48cdf": {
          "model_module": "@jupyter-widgets/base",
          "model_name": "LayoutModel",
          "model_module_version": "1.2.0",
          "state": {
            "_model_module": "@jupyter-widgets/base",
            "_model_module_version": "1.2.0",
            "_model_name": "LayoutModel",
            "_view_count": null,
            "_view_module": "@jupyter-widgets/base",
            "_view_module_version": "1.2.0",
            "_view_name": "LayoutView",
            "align_content": null,
            "align_items": null,
            "align_self": null,
            "border": null,
            "bottom": null,
            "display": null,
            "flex": null,
            "flex_flow": null,
            "grid_area": null,
            "grid_auto_columns": null,
            "grid_auto_flow": null,
            "grid_auto_rows": null,
            "grid_column": null,
            "grid_gap": null,
            "grid_row": null,
            "grid_template_areas": null,
            "grid_template_columns": null,
            "grid_template_rows": null,
            "height": null,
            "justify_content": null,
            "justify_items": null,
            "left": null,
            "margin": null,
            "max_height": null,
            "max_width": null,
            "min_height": null,
            "min_width": null,
            "object_fit": null,
            "object_position": null,
            "order": null,
            "overflow": null,
            "overflow_x": null,
            "overflow_y": null,
            "padding": null,
            "right": null,
            "top": null,
            "visibility": null,
            "width": null
          }
        },
        "5d4f5a91d1a5403293e5c3de7addfdaf": {
          "model_module": "@jupyter-widgets/base",
          "model_name": "LayoutModel",
          "model_module_version": "1.2.0",
          "state": {
            "_model_module": "@jupyter-widgets/base",
            "_model_module_version": "1.2.0",
            "_model_name": "LayoutModel",
            "_view_count": null,
            "_view_module": "@jupyter-widgets/base",
            "_view_module_version": "1.2.0",
            "_view_name": "LayoutView",
            "align_content": null,
            "align_items": null,
            "align_self": null,
            "border": null,
            "bottom": null,
            "display": null,
            "flex": null,
            "flex_flow": null,
            "grid_area": null,
            "grid_auto_columns": null,
            "grid_auto_flow": null,
            "grid_auto_rows": null,
            "grid_column": null,
            "grid_gap": null,
            "grid_row": null,
            "grid_template_areas": null,
            "grid_template_columns": null,
            "grid_template_rows": null,
            "height": null,
            "justify_content": null,
            "justify_items": null,
            "left": null,
            "margin": null,
            "max_height": null,
            "max_width": null,
            "min_height": null,
            "min_width": null,
            "object_fit": null,
            "object_position": null,
            "order": null,
            "overflow": null,
            "overflow_x": null,
            "overflow_y": null,
            "padding": null,
            "right": null,
            "top": null,
            "visibility": null,
            "width": null
          }
        },
        "e9369274513b4dd9ad01954fc9fb34cd": {
          "model_module": "@jupyter-widgets/controls",
          "model_name": "DescriptionStyleModel",
          "model_module_version": "1.5.0",
          "state": {
            "_model_module": "@jupyter-widgets/controls",
            "_model_module_version": "1.5.0",
            "_model_name": "DescriptionStyleModel",
            "_view_count": null,
            "_view_module": "@jupyter-widgets/base",
            "_view_module_version": "1.2.0",
            "_view_name": "StyleView",
            "description_width": ""
          }
        },
        "2565df1abc5c484aa7acb2841877f33d": {
          "model_module": "@jupyter-widgets/base",
          "model_name": "LayoutModel",
          "model_module_version": "1.2.0",
          "state": {
            "_model_module": "@jupyter-widgets/base",
            "_model_module_version": "1.2.0",
            "_model_name": "LayoutModel",
            "_view_count": null,
            "_view_module": "@jupyter-widgets/base",
            "_view_module_version": "1.2.0",
            "_view_name": "LayoutView",
            "align_content": null,
            "align_items": null,
            "align_self": null,
            "border": null,
            "bottom": null,
            "display": null,
            "flex": null,
            "flex_flow": null,
            "grid_area": null,
            "grid_auto_columns": null,
            "grid_auto_flow": null,
            "grid_auto_rows": null,
            "grid_column": null,
            "grid_gap": null,
            "grid_row": null,
            "grid_template_areas": null,
            "grid_template_columns": null,
            "grid_template_rows": null,
            "height": null,
            "justify_content": null,
            "justify_items": null,
            "left": null,
            "margin": null,
            "max_height": null,
            "max_width": null,
            "min_height": null,
            "min_width": null,
            "object_fit": null,
            "object_position": null,
            "order": null,
            "overflow": null,
            "overflow_x": null,
            "overflow_y": null,
            "padding": null,
            "right": null,
            "top": null,
            "visibility": null,
            "width": null
          }
        },
        "7d94a6bd445f4bbf8250e80cfd41b0f8": {
          "model_module": "@jupyter-widgets/controls",
          "model_name": "ProgressStyleModel",
          "model_module_version": "1.5.0",
          "state": {
            "_model_module": "@jupyter-widgets/controls",
            "_model_module_version": "1.5.0",
            "_model_name": "ProgressStyleModel",
            "_view_count": null,
            "_view_module": "@jupyter-widgets/base",
            "_view_module_version": "1.2.0",
            "_view_name": "StyleView",
            "bar_color": null,
            "description_width": ""
          }
        },
        "ec06e059b06945ada272673affc6de86": {
          "model_module": "@jupyter-widgets/base",
          "model_name": "LayoutModel",
          "model_module_version": "1.2.0",
          "state": {
            "_model_module": "@jupyter-widgets/base",
            "_model_module_version": "1.2.0",
            "_model_name": "LayoutModel",
            "_view_count": null,
            "_view_module": "@jupyter-widgets/base",
            "_view_module_version": "1.2.0",
            "_view_name": "LayoutView",
            "align_content": null,
            "align_items": null,
            "align_self": null,
            "border": null,
            "bottom": null,
            "display": null,
            "flex": null,
            "flex_flow": null,
            "grid_area": null,
            "grid_auto_columns": null,
            "grid_auto_flow": null,
            "grid_auto_rows": null,
            "grid_column": null,
            "grid_gap": null,
            "grid_row": null,
            "grid_template_areas": null,
            "grid_template_columns": null,
            "grid_template_rows": null,
            "height": null,
            "justify_content": null,
            "justify_items": null,
            "left": null,
            "margin": null,
            "max_height": null,
            "max_width": null,
            "min_height": null,
            "min_width": null,
            "object_fit": null,
            "object_position": null,
            "order": null,
            "overflow": null,
            "overflow_x": null,
            "overflow_y": null,
            "padding": null,
            "right": null,
            "top": null,
            "visibility": null,
            "width": null
          }
        },
        "62a978709bc647698bb074cd43613539": {
          "model_module": "@jupyter-widgets/controls",
          "model_name": "DescriptionStyleModel",
          "model_module_version": "1.5.0",
          "state": {
            "_model_module": "@jupyter-widgets/controls",
            "_model_module_version": "1.5.0",
            "_model_name": "DescriptionStyleModel",
            "_view_count": null,
            "_view_module": "@jupyter-widgets/base",
            "_view_module_version": "1.2.0",
            "_view_name": "StyleView",
            "description_width": ""
          }
        },
        "b580c31c9c1d4c00a2d4ba78f48bb8d5": {
          "model_module": "@jupyter-widgets/controls",
          "model_name": "HBoxModel",
          "model_module_version": "1.5.0",
          "state": {
            "_dom_classes": [],
            "_model_module": "@jupyter-widgets/controls",
            "_model_module_version": "1.5.0",
            "_model_name": "HBoxModel",
            "_view_count": null,
            "_view_module": "@jupyter-widgets/controls",
            "_view_module_version": "1.5.0",
            "_view_name": "HBoxView",
            "box_style": "",
            "children": [
              "IPY_MODEL_dfe2646916f2418db0c373d9b91d70c8",
              "IPY_MODEL_5095cc30649c42efa91ad3f899ac23ac",
              "IPY_MODEL_2eda70bc315d4a15b8aeea6224dbc88b"
            ],
            "layout": "IPY_MODEL_efa5cd843b714b628bb07e72516d36cb"
          }
        },
        "dfe2646916f2418db0c373d9b91d70c8": {
          "model_module": "@jupyter-widgets/controls",
          "model_name": "HTMLModel",
          "model_module_version": "1.5.0",
          "state": {
            "_dom_classes": [],
            "_model_module": "@jupyter-widgets/controls",
            "_model_module_version": "1.5.0",
            "_model_name": "HTMLModel",
            "_view_count": null,
            "_view_module": "@jupyter-widgets/controls",
            "_view_module_version": "1.5.0",
            "_view_name": "HTMLView",
            "description": "",
            "description_tooltip": null,
            "layout": "IPY_MODEL_40b258a851284ba4baa898d4487bb993",
            "placeholder": "​",
            "style": "IPY_MODEL_704678a9e3fe475f93448727dfe62ceb",
            "value": "tatoeba.py: 100%"
          }
        },
        "5095cc30649c42efa91ad3f899ac23ac": {
          "model_module": "@jupyter-widgets/controls",
          "model_name": "FloatProgressModel",
          "model_module_version": "1.5.0",
          "state": {
            "_dom_classes": [],
            "_model_module": "@jupyter-widgets/controls",
            "_model_module_version": "1.5.0",
            "_model_name": "FloatProgressModel",
            "_view_count": null,
            "_view_module": "@jupyter-widgets/controls",
            "_view_module_version": "1.5.0",
            "_view_name": "ProgressView",
            "bar_style": "success",
            "description": "",
            "description_tooltip": null,
            "layout": "IPY_MODEL_cee4cf5f6ab74b75b40eb9574cb50149",
            "max": 4407,
            "min": 0,
            "orientation": "horizontal",
            "style": "IPY_MODEL_c04520d22acb4f96a7b08e91921e9ad4",
            "value": 4407
          }
        },
        "2eda70bc315d4a15b8aeea6224dbc88b": {
          "model_module": "@jupyter-widgets/controls",
          "model_name": "HTMLModel",
          "model_module_version": "1.5.0",
          "state": {
            "_dom_classes": [],
            "_model_module": "@jupyter-widgets/controls",
            "_model_module_version": "1.5.0",
            "_model_name": "HTMLModel",
            "_view_count": null,
            "_view_module": "@jupyter-widgets/controls",
            "_view_module_version": "1.5.0",
            "_view_name": "HTMLView",
            "description": "",
            "description_tooltip": null,
            "layout": "IPY_MODEL_19c40eb054694f7ab145141bb93b2000",
            "placeholder": "​",
            "style": "IPY_MODEL_9300a9049a0643e6956a1b5768b39da5",
            "value": " 4.41k/4.41k [00:00&lt;00:00, 168kB/s]"
          }
        },
        "efa5cd843b714b628bb07e72516d36cb": {
          "model_module": "@jupyter-widgets/base",
          "model_name": "LayoutModel",
          "model_module_version": "1.2.0",
          "state": {
            "_model_module": "@jupyter-widgets/base",
            "_model_module_version": "1.2.0",
            "_model_name": "LayoutModel",
            "_view_count": null,
            "_view_module": "@jupyter-widgets/base",
            "_view_module_version": "1.2.0",
            "_view_name": "LayoutView",
            "align_content": null,
            "align_items": null,
            "align_self": null,
            "border": null,
            "bottom": null,
            "display": null,
            "flex": null,
            "flex_flow": null,
            "grid_area": null,
            "grid_auto_columns": null,
            "grid_auto_flow": null,
            "grid_auto_rows": null,
            "grid_column": null,
            "grid_gap": null,
            "grid_row": null,
            "grid_template_areas": null,
            "grid_template_columns": null,
            "grid_template_rows": null,
            "height": null,
            "justify_content": null,
            "justify_items": null,
            "left": null,
            "margin": null,
            "max_height": null,
            "max_width": null,
            "min_height": null,
            "min_width": null,
            "object_fit": null,
            "object_position": null,
            "order": null,
            "overflow": null,
            "overflow_x": null,
            "overflow_y": null,
            "padding": null,
            "right": null,
            "top": null,
            "visibility": null,
            "width": null
          }
        },
        "40b258a851284ba4baa898d4487bb993": {
          "model_module": "@jupyter-widgets/base",
          "model_name": "LayoutModel",
          "model_module_version": "1.2.0",
          "state": {
            "_model_module": "@jupyter-widgets/base",
            "_model_module_version": "1.2.0",
            "_model_name": "LayoutModel",
            "_view_count": null,
            "_view_module": "@jupyter-widgets/base",
            "_view_module_version": "1.2.0",
            "_view_name": "LayoutView",
            "align_content": null,
            "align_items": null,
            "align_self": null,
            "border": null,
            "bottom": null,
            "display": null,
            "flex": null,
            "flex_flow": null,
            "grid_area": null,
            "grid_auto_columns": null,
            "grid_auto_flow": null,
            "grid_auto_rows": null,
            "grid_column": null,
            "grid_gap": null,
            "grid_row": null,
            "grid_template_areas": null,
            "grid_template_columns": null,
            "grid_template_rows": null,
            "height": null,
            "justify_content": null,
            "justify_items": null,
            "left": null,
            "margin": null,
            "max_height": null,
            "max_width": null,
            "min_height": null,
            "min_width": null,
            "object_fit": null,
            "object_position": null,
            "order": null,
            "overflow": null,
            "overflow_x": null,
            "overflow_y": null,
            "padding": null,
            "right": null,
            "top": null,
            "visibility": null,
            "width": null
          }
        },
        "704678a9e3fe475f93448727dfe62ceb": {
          "model_module": "@jupyter-widgets/controls",
          "model_name": "DescriptionStyleModel",
          "model_module_version": "1.5.0",
          "state": {
            "_model_module": "@jupyter-widgets/controls",
            "_model_module_version": "1.5.0",
            "_model_name": "DescriptionStyleModel",
            "_view_count": null,
            "_view_module": "@jupyter-widgets/base",
            "_view_module_version": "1.2.0",
            "_view_name": "StyleView",
            "description_width": ""
          }
        },
        "cee4cf5f6ab74b75b40eb9574cb50149": {
          "model_module": "@jupyter-widgets/base",
          "model_name": "LayoutModel",
          "model_module_version": "1.2.0",
          "state": {
            "_model_module": "@jupyter-widgets/base",
            "_model_module_version": "1.2.0",
            "_model_name": "LayoutModel",
            "_view_count": null,
            "_view_module": "@jupyter-widgets/base",
            "_view_module_version": "1.2.0",
            "_view_name": "LayoutView",
            "align_content": null,
            "align_items": null,
            "align_self": null,
            "border": null,
            "bottom": null,
            "display": null,
            "flex": null,
            "flex_flow": null,
            "grid_area": null,
            "grid_auto_columns": null,
            "grid_auto_flow": null,
            "grid_auto_rows": null,
            "grid_column": null,
            "grid_gap": null,
            "grid_row": null,
            "grid_template_areas": null,
            "grid_template_columns": null,
            "grid_template_rows": null,
            "height": null,
            "justify_content": null,
            "justify_items": null,
            "left": null,
            "margin": null,
            "max_height": null,
            "max_width": null,
            "min_height": null,
            "min_width": null,
            "object_fit": null,
            "object_position": null,
            "order": null,
            "overflow": null,
            "overflow_x": null,
            "overflow_y": null,
            "padding": null,
            "right": null,
            "top": null,
            "visibility": null,
            "width": null
          }
        },
        "c04520d22acb4f96a7b08e91921e9ad4": {
          "model_module": "@jupyter-widgets/controls",
          "model_name": "ProgressStyleModel",
          "model_module_version": "1.5.0",
          "state": {
            "_model_module": "@jupyter-widgets/controls",
            "_model_module_version": "1.5.0",
            "_model_name": "ProgressStyleModel",
            "_view_count": null,
            "_view_module": "@jupyter-widgets/base",
            "_view_module_version": "1.2.0",
            "_view_name": "StyleView",
            "bar_color": null,
            "description_width": ""
          }
        },
        "19c40eb054694f7ab145141bb93b2000": {
          "model_module": "@jupyter-widgets/base",
          "model_name": "LayoutModel",
          "model_module_version": "1.2.0",
          "state": {
            "_model_module": "@jupyter-widgets/base",
            "_model_module_version": "1.2.0",
            "_model_name": "LayoutModel",
            "_view_count": null,
            "_view_module": "@jupyter-widgets/base",
            "_view_module_version": "1.2.0",
            "_view_name": "LayoutView",
            "align_content": null,
            "align_items": null,
            "align_self": null,
            "border": null,
            "bottom": null,
            "display": null,
            "flex": null,
            "flex_flow": null,
            "grid_area": null,
            "grid_auto_columns": null,
            "grid_auto_flow": null,
            "grid_auto_rows": null,
            "grid_column": null,
            "grid_gap": null,
            "grid_row": null,
            "grid_template_areas": null,
            "grid_template_columns": null,
            "grid_template_rows": null,
            "height": null,
            "justify_content": null,
            "justify_items": null,
            "left": null,
            "margin": null,
            "max_height": null,
            "max_width": null,
            "min_height": null,
            "min_width": null,
            "object_fit": null,
            "object_position": null,
            "order": null,
            "overflow": null,
            "overflow_x": null,
            "overflow_y": null,
            "padding": null,
            "right": null,
            "top": null,
            "visibility": null,
            "width": null
          }
        },
        "9300a9049a0643e6956a1b5768b39da5": {
          "model_module": "@jupyter-widgets/controls",
          "model_name": "DescriptionStyleModel",
          "model_module_version": "1.5.0",
          "state": {
            "_model_module": "@jupyter-widgets/controls",
            "_model_module_version": "1.5.0",
            "_model_name": "DescriptionStyleModel",
            "_view_count": null,
            "_view_module": "@jupyter-widgets/base",
            "_view_module_version": "1.2.0",
            "_view_name": "StyleView",
            "description_width": ""
          }
        },
        "5607abfa7a684296a3bb878bd9ebb6f9": {
          "model_module": "@jupyter-widgets/controls",
          "model_name": "HBoxModel",
          "model_module_version": "1.5.0",
          "state": {
            "_dom_classes": [],
            "_model_module": "@jupyter-widgets/controls",
            "_model_module_version": "1.5.0",
            "_model_name": "HBoxModel",
            "_view_count": null,
            "_view_module": "@jupyter-widgets/controls",
            "_view_module_version": "1.5.0",
            "_view_name": "HBoxView",
            "box_style": "",
            "children": [
              "IPY_MODEL_49c5bfc6a7c64585a670add29e1c33d7",
              "IPY_MODEL_31fece14339c4e4d8958112ea9fa9908",
              "IPY_MODEL_feaf022204c9477786f2c4b95c2ccb91"
            ],
            "layout": "IPY_MODEL_611fb4e18f3149ee916eb0692b51cdb7"
          }
        },
        "49c5bfc6a7c64585a670add29e1c33d7": {
          "model_module": "@jupyter-widgets/controls",
          "model_name": "HTMLModel",
          "model_module_version": "1.5.0",
          "state": {
            "_dom_classes": [],
            "_model_module": "@jupyter-widgets/controls",
            "_model_module_version": "1.5.0",
            "_model_name": "HTMLModel",
            "_view_count": null,
            "_view_module": "@jupyter-widgets/controls",
            "_view_module_version": "1.5.0",
            "_view_name": "HTMLView",
            "description": "",
            "description_tooltip": null,
            "layout": "IPY_MODEL_b8dfa4756c4a45a28ea2f4b13c2c2afb",
            "placeholder": "​",
            "style": "IPY_MODEL_c53f7e5be4174c8f8a161253f9b7d67a",
            "value": "Downloading data: 100%"
          }
        },
        "31fece14339c4e4d8958112ea9fa9908": {
          "model_module": "@jupyter-widgets/controls",
          "model_name": "FloatProgressModel",
          "model_module_version": "1.5.0",
          "state": {
            "_dom_classes": [],
            "_model_module": "@jupyter-widgets/controls",
            "_model_module_version": "1.5.0",
            "_model_name": "FloatProgressModel",
            "_view_count": null,
            "_view_module": "@jupyter-widgets/controls",
            "_view_module_version": "1.5.0",
            "_view_name": "ProgressView",
            "bar_style": "success",
            "description": "",
            "description_tooltip": null,
            "layout": "IPY_MODEL_563a6f6c0db64852bb3aa8982937e796",
            "max": 14344190,
            "min": 0,
            "orientation": "horizontal",
            "style": "IPY_MODEL_c041eddb2ca448f187420419fc95b33a",
            "value": 14344190
          }
        },
        "feaf022204c9477786f2c4b95c2ccb91": {
          "model_module": "@jupyter-widgets/controls",
          "model_name": "HTMLModel",
          "model_module_version": "1.5.0",
          "state": {
            "_dom_classes": [],
            "_model_module": "@jupyter-widgets/controls",
            "_model_module_version": "1.5.0",
            "_model_name": "HTMLModel",
            "_view_count": null,
            "_view_module": "@jupyter-widgets/controls",
            "_view_module_version": "1.5.0",
            "_view_name": "HTMLView",
            "description": "",
            "description_tooltip": null,
            "layout": "IPY_MODEL_6f31cf47150043a3bdd0b5ef8760f84c",
            "placeholder": "​",
            "style": "IPY_MODEL_6272d211b5fe4c938c6de34975602d82",
            "value": " 14.3M/14.3M [00:01&lt;00:00, 19.3MB/s]"
          }
        },
        "611fb4e18f3149ee916eb0692b51cdb7": {
          "model_module": "@jupyter-widgets/base",
          "model_name": "LayoutModel",
          "model_module_version": "1.2.0",
          "state": {
            "_model_module": "@jupyter-widgets/base",
            "_model_module_version": "1.2.0",
            "_model_name": "LayoutModel",
            "_view_count": null,
            "_view_module": "@jupyter-widgets/base",
            "_view_module_version": "1.2.0",
            "_view_name": "LayoutView",
            "align_content": null,
            "align_items": null,
            "align_self": null,
            "border": null,
            "bottom": null,
            "display": null,
            "flex": null,
            "flex_flow": null,
            "grid_area": null,
            "grid_auto_columns": null,
            "grid_auto_flow": null,
            "grid_auto_rows": null,
            "grid_column": null,
            "grid_gap": null,
            "grid_row": null,
            "grid_template_areas": null,
            "grid_template_columns": null,
            "grid_template_rows": null,
            "height": null,
            "justify_content": null,
            "justify_items": null,
            "left": null,
            "margin": null,
            "max_height": null,
            "max_width": null,
            "min_height": null,
            "min_width": null,
            "object_fit": null,
            "object_position": null,
            "order": null,
            "overflow": null,
            "overflow_x": null,
            "overflow_y": null,
            "padding": null,
            "right": null,
            "top": null,
            "visibility": null,
            "width": null
          }
        },
        "b8dfa4756c4a45a28ea2f4b13c2c2afb": {
          "model_module": "@jupyter-widgets/base",
          "model_name": "LayoutModel",
          "model_module_version": "1.2.0",
          "state": {
            "_model_module": "@jupyter-widgets/base",
            "_model_module_version": "1.2.0",
            "_model_name": "LayoutModel",
            "_view_count": null,
            "_view_module": "@jupyter-widgets/base",
            "_view_module_version": "1.2.0",
            "_view_name": "LayoutView",
            "align_content": null,
            "align_items": null,
            "align_self": null,
            "border": null,
            "bottom": null,
            "display": null,
            "flex": null,
            "flex_flow": null,
            "grid_area": null,
            "grid_auto_columns": null,
            "grid_auto_flow": null,
            "grid_auto_rows": null,
            "grid_column": null,
            "grid_gap": null,
            "grid_row": null,
            "grid_template_areas": null,
            "grid_template_columns": null,
            "grid_template_rows": null,
            "height": null,
            "justify_content": null,
            "justify_items": null,
            "left": null,
            "margin": null,
            "max_height": null,
            "max_width": null,
            "min_height": null,
            "min_width": null,
            "object_fit": null,
            "object_position": null,
            "order": null,
            "overflow": null,
            "overflow_x": null,
            "overflow_y": null,
            "padding": null,
            "right": null,
            "top": null,
            "visibility": null,
            "width": null
          }
        },
        "c53f7e5be4174c8f8a161253f9b7d67a": {
          "model_module": "@jupyter-widgets/controls",
          "model_name": "DescriptionStyleModel",
          "model_module_version": "1.5.0",
          "state": {
            "_model_module": "@jupyter-widgets/controls",
            "_model_module_version": "1.5.0",
            "_model_name": "DescriptionStyleModel",
            "_view_count": null,
            "_view_module": "@jupyter-widgets/base",
            "_view_module_version": "1.2.0",
            "_view_name": "StyleView",
            "description_width": ""
          }
        },
        "563a6f6c0db64852bb3aa8982937e796": {
          "model_module": "@jupyter-widgets/base",
          "model_name": "LayoutModel",
          "model_module_version": "1.2.0",
          "state": {
            "_model_module": "@jupyter-widgets/base",
            "_model_module_version": "1.2.0",
            "_model_name": "LayoutModel",
            "_view_count": null,
            "_view_module": "@jupyter-widgets/base",
            "_view_module_version": "1.2.0",
            "_view_name": "LayoutView",
            "align_content": null,
            "align_items": null,
            "align_self": null,
            "border": null,
            "bottom": null,
            "display": null,
            "flex": null,
            "flex_flow": null,
            "grid_area": null,
            "grid_auto_columns": null,
            "grid_auto_flow": null,
            "grid_auto_rows": null,
            "grid_column": null,
            "grid_gap": null,
            "grid_row": null,
            "grid_template_areas": null,
            "grid_template_columns": null,
            "grid_template_rows": null,
            "height": null,
            "justify_content": null,
            "justify_items": null,
            "left": null,
            "margin": null,
            "max_height": null,
            "max_width": null,
            "min_height": null,
            "min_width": null,
            "object_fit": null,
            "object_position": null,
            "order": null,
            "overflow": null,
            "overflow_x": null,
            "overflow_y": null,
            "padding": null,
            "right": null,
            "top": null,
            "visibility": null,
            "width": null
          }
        },
        "c041eddb2ca448f187420419fc95b33a": {
          "model_module": "@jupyter-widgets/controls",
          "model_name": "ProgressStyleModel",
          "model_module_version": "1.5.0",
          "state": {
            "_model_module": "@jupyter-widgets/controls",
            "_model_module_version": "1.5.0",
            "_model_name": "ProgressStyleModel",
            "_view_count": null,
            "_view_module": "@jupyter-widgets/base",
            "_view_module_version": "1.2.0",
            "_view_name": "StyleView",
            "bar_color": null,
            "description_width": ""
          }
        },
        "6f31cf47150043a3bdd0b5ef8760f84c": {
          "model_module": "@jupyter-widgets/base",
          "model_name": "LayoutModel",
          "model_module_version": "1.2.0",
          "state": {
            "_model_module": "@jupyter-widgets/base",
            "_model_module_version": "1.2.0",
            "_model_name": "LayoutModel",
            "_view_count": null,
            "_view_module": "@jupyter-widgets/base",
            "_view_module_version": "1.2.0",
            "_view_name": "LayoutView",
            "align_content": null,
            "align_items": null,
            "align_self": null,
            "border": null,
            "bottom": null,
            "display": null,
            "flex": null,
            "flex_flow": null,
            "grid_area": null,
            "grid_auto_columns": null,
            "grid_auto_flow": null,
            "grid_auto_rows": null,
            "grid_column": null,
            "grid_gap": null,
            "grid_row": null,
            "grid_template_areas": null,
            "grid_template_columns": null,
            "grid_template_rows": null,
            "height": null,
            "justify_content": null,
            "justify_items": null,
            "left": null,
            "margin": null,
            "max_height": null,
            "max_width": null,
            "min_height": null,
            "min_width": null,
            "object_fit": null,
            "object_position": null,
            "order": null,
            "overflow": null,
            "overflow_x": null,
            "overflow_y": null,
            "padding": null,
            "right": null,
            "top": null,
            "visibility": null,
            "width": null
          }
        },
        "6272d211b5fe4c938c6de34975602d82": {
          "model_module": "@jupyter-widgets/controls",
          "model_name": "DescriptionStyleModel",
          "model_module_version": "1.5.0",
          "state": {
            "_model_module": "@jupyter-widgets/controls",
            "_model_module_version": "1.5.0",
            "_model_name": "DescriptionStyleModel",
            "_view_count": null,
            "_view_module": "@jupyter-widgets/base",
            "_view_module_version": "1.2.0",
            "_view_name": "StyleView",
            "description_width": ""
          }
        },
        "f7fd18a7d26940b58fdc716f1e3f9613": {
          "model_module": "@jupyter-widgets/controls",
          "model_name": "HBoxModel",
          "model_module_version": "1.5.0",
          "state": {
            "_dom_classes": [],
            "_model_module": "@jupyter-widgets/controls",
            "_model_module_version": "1.5.0",
            "_model_name": "HBoxModel",
            "_view_count": null,
            "_view_module": "@jupyter-widgets/controls",
            "_view_module_version": "1.5.0",
            "_view_name": "HBoxView",
            "box_style": "",
            "children": [
              "IPY_MODEL_d4d2920802034af7aeed7089c60caf90",
              "IPY_MODEL_d8dc9b39944f4eb99228aac2f2a698dc",
              "IPY_MODEL_7bd157aecf1941a0b9f589bdfdc13f07"
            ],
            "layout": "IPY_MODEL_694bfd3ad6eb45018be6145c0f5510bf"
          }
        },
        "d4d2920802034af7aeed7089c60caf90": {
          "model_module": "@jupyter-widgets/controls",
          "model_name": "HTMLModel",
          "model_module_version": "1.5.0",
          "state": {
            "_dom_classes": [],
            "_model_module": "@jupyter-widgets/controls",
            "_model_module_version": "1.5.0",
            "_model_name": "HTMLModel",
            "_view_count": null,
            "_view_module": "@jupyter-widgets/controls",
            "_view_module_version": "1.5.0",
            "_view_name": "HTMLView",
            "description": "",
            "description_tooltip": null,
            "layout": "IPY_MODEL_b5ef2923441349aa8a6dc86929389ed3",
            "placeholder": "​",
            "style": "IPY_MODEL_4ee497aca61645d2bacf5c1bd1c0164b",
            "value": "Generating train split: "
          }
        },
        "d8dc9b39944f4eb99228aac2f2a698dc": {
          "model_module": "@jupyter-widgets/controls",
          "model_name": "FloatProgressModel",
          "model_module_version": "1.5.0",
          "state": {
            "_dom_classes": [],
            "_model_module": "@jupyter-widgets/controls",
            "_model_module_version": "1.5.0",
            "_model_name": "FloatProgressModel",
            "_view_count": null,
            "_view_module": "@jupyter-widgets/controls",
            "_view_module_version": "1.5.0",
            "_view_name": "ProgressView",
            "bar_style": "success",
            "description": "",
            "description_tooltip": null,
            "layout": "IPY_MODEL_491159d9d27644d690cc544a37e6876d",
            "max": 1,
            "min": 0,
            "orientation": "horizontal",
            "style": "IPY_MODEL_11cc5aaf8465498ca52318ca12ebf099",
            "value": 1
          }
        },
        "7bd157aecf1941a0b9f589bdfdc13f07": {
          "model_module": "@jupyter-widgets/controls",
          "model_name": "HTMLModel",
          "model_module_version": "1.5.0",
          "state": {
            "_dom_classes": [],
            "_model_module": "@jupyter-widgets/controls",
            "_model_module_version": "1.5.0",
            "_model_name": "HTMLModel",
            "_view_count": null,
            "_view_module": "@jupyter-widgets/controls",
            "_view_module_version": "1.5.0",
            "_view_name": "HTMLView",
            "description": "",
            "description_tooltip": null,
            "layout": "IPY_MODEL_8eeed1c5062f4718a7650d08a416ed78",
            "placeholder": "​",
            "style": "IPY_MODEL_77bb44cc4ced435cb2afaa3bf172d3b9",
            "value": " 523656/0 [00:15&lt;00:00, 37874.94 examples/s]"
          }
        },
        "694bfd3ad6eb45018be6145c0f5510bf": {
          "model_module": "@jupyter-widgets/base",
          "model_name": "LayoutModel",
          "model_module_version": "1.2.0",
          "state": {
            "_model_module": "@jupyter-widgets/base",
            "_model_module_version": "1.2.0",
            "_model_name": "LayoutModel",
            "_view_count": null,
            "_view_module": "@jupyter-widgets/base",
            "_view_module_version": "1.2.0",
            "_view_name": "LayoutView",
            "align_content": null,
            "align_items": null,
            "align_self": null,
            "border": null,
            "bottom": null,
            "display": null,
            "flex": null,
            "flex_flow": null,
            "grid_area": null,
            "grid_auto_columns": null,
            "grid_auto_flow": null,
            "grid_auto_rows": null,
            "grid_column": null,
            "grid_gap": null,
            "grid_row": null,
            "grid_template_areas": null,
            "grid_template_columns": null,
            "grid_template_rows": null,
            "height": null,
            "justify_content": null,
            "justify_items": null,
            "left": null,
            "margin": null,
            "max_height": null,
            "max_width": null,
            "min_height": null,
            "min_width": null,
            "object_fit": null,
            "object_position": null,
            "order": null,
            "overflow": null,
            "overflow_x": null,
            "overflow_y": null,
            "padding": null,
            "right": null,
            "top": null,
            "visibility": null,
            "width": null
          }
        },
        "b5ef2923441349aa8a6dc86929389ed3": {
          "model_module": "@jupyter-widgets/base",
          "model_name": "LayoutModel",
          "model_module_version": "1.2.0",
          "state": {
            "_model_module": "@jupyter-widgets/base",
            "_model_module_version": "1.2.0",
            "_model_name": "LayoutModel",
            "_view_count": null,
            "_view_module": "@jupyter-widgets/base",
            "_view_module_version": "1.2.0",
            "_view_name": "LayoutView",
            "align_content": null,
            "align_items": null,
            "align_self": null,
            "border": null,
            "bottom": null,
            "display": null,
            "flex": null,
            "flex_flow": null,
            "grid_area": null,
            "grid_auto_columns": null,
            "grid_auto_flow": null,
            "grid_auto_rows": null,
            "grid_column": null,
            "grid_gap": null,
            "grid_row": null,
            "grid_template_areas": null,
            "grid_template_columns": null,
            "grid_template_rows": null,
            "height": null,
            "justify_content": null,
            "justify_items": null,
            "left": null,
            "margin": null,
            "max_height": null,
            "max_width": null,
            "min_height": null,
            "min_width": null,
            "object_fit": null,
            "object_position": null,
            "order": null,
            "overflow": null,
            "overflow_x": null,
            "overflow_y": null,
            "padding": null,
            "right": null,
            "top": null,
            "visibility": null,
            "width": null
          }
        },
        "4ee497aca61645d2bacf5c1bd1c0164b": {
          "model_module": "@jupyter-widgets/controls",
          "model_name": "DescriptionStyleModel",
          "model_module_version": "1.5.0",
          "state": {
            "_model_module": "@jupyter-widgets/controls",
            "_model_module_version": "1.5.0",
            "_model_name": "DescriptionStyleModel",
            "_view_count": null,
            "_view_module": "@jupyter-widgets/base",
            "_view_module_version": "1.2.0",
            "_view_name": "StyleView",
            "description_width": ""
          }
        },
        "491159d9d27644d690cc544a37e6876d": {
          "model_module": "@jupyter-widgets/base",
          "model_name": "LayoutModel",
          "model_module_version": "1.2.0",
          "state": {
            "_model_module": "@jupyter-widgets/base",
            "_model_module_version": "1.2.0",
            "_model_name": "LayoutModel",
            "_view_count": null,
            "_view_module": "@jupyter-widgets/base",
            "_view_module_version": "1.2.0",
            "_view_name": "LayoutView",
            "align_content": null,
            "align_items": null,
            "align_self": null,
            "border": null,
            "bottom": null,
            "display": null,
            "flex": null,
            "flex_flow": null,
            "grid_area": null,
            "grid_auto_columns": null,
            "grid_auto_flow": null,
            "grid_auto_rows": null,
            "grid_column": null,
            "grid_gap": null,
            "grid_row": null,
            "grid_template_areas": null,
            "grid_template_columns": null,
            "grid_template_rows": null,
            "height": null,
            "justify_content": null,
            "justify_items": null,
            "left": null,
            "margin": null,
            "max_height": null,
            "max_width": null,
            "min_height": null,
            "min_width": null,
            "object_fit": null,
            "object_position": null,
            "order": null,
            "overflow": null,
            "overflow_x": null,
            "overflow_y": null,
            "padding": null,
            "right": null,
            "top": null,
            "visibility": null,
            "width": "20px"
          }
        },
        "11cc5aaf8465498ca52318ca12ebf099": {
          "model_module": "@jupyter-widgets/controls",
          "model_name": "ProgressStyleModel",
          "model_module_version": "1.5.0",
          "state": {
            "_model_module": "@jupyter-widgets/controls",
            "_model_module_version": "1.5.0",
            "_model_name": "ProgressStyleModel",
            "_view_count": null,
            "_view_module": "@jupyter-widgets/base",
            "_view_module_version": "1.2.0",
            "_view_name": "StyleView",
            "bar_color": null,
            "description_width": ""
          }
        },
        "8eeed1c5062f4718a7650d08a416ed78": {
          "model_module": "@jupyter-widgets/base",
          "model_name": "LayoutModel",
          "model_module_version": "1.2.0",
          "state": {
            "_model_module": "@jupyter-widgets/base",
            "_model_module_version": "1.2.0",
            "_model_name": "LayoutModel",
            "_view_count": null,
            "_view_module": "@jupyter-widgets/base",
            "_view_module_version": "1.2.0",
            "_view_name": "LayoutView",
            "align_content": null,
            "align_items": null,
            "align_self": null,
            "border": null,
            "bottom": null,
            "display": null,
            "flex": null,
            "flex_flow": null,
            "grid_area": null,
            "grid_auto_columns": null,
            "grid_auto_flow": null,
            "grid_auto_rows": null,
            "grid_column": null,
            "grid_gap": null,
            "grid_row": null,
            "grid_template_areas": null,
            "grid_template_columns": null,
            "grid_template_rows": null,
            "height": null,
            "justify_content": null,
            "justify_items": null,
            "left": null,
            "margin": null,
            "max_height": null,
            "max_width": null,
            "min_height": null,
            "min_width": null,
            "object_fit": null,
            "object_position": null,
            "order": null,
            "overflow": null,
            "overflow_x": null,
            "overflow_y": null,
            "padding": null,
            "right": null,
            "top": null,
            "visibility": null,
            "width": null
          }
        },
        "77bb44cc4ced435cb2afaa3bf172d3b9": {
          "model_module": "@jupyter-widgets/controls",
          "model_name": "DescriptionStyleModel",
          "model_module_version": "1.5.0",
          "state": {
            "_model_module": "@jupyter-widgets/controls",
            "_model_module_version": "1.5.0",
            "_model_name": "DescriptionStyleModel",
            "_view_count": null,
            "_view_module": "@jupyter-widgets/base",
            "_view_module_version": "1.2.0",
            "_view_name": "StyleView",
            "description_width": ""
          }
        }
      }
    }
  },
  "nbformat": 4,
  "nbformat_minor": 0
}