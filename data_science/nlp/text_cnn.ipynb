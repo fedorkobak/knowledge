{
 "cells": [
  {
   "cell_type": "markdown",
   "metadata": {},
   "source": [
    "# Text CNN\n",
    "\n",
    "Text CNN is a method for applying convolutional architecture to text tasks."
   ]
  },
  {
   "cell_type": "code",
   "execution_count": null,
   "metadata": {},
   "outputs": [],
   "source": [
    "import numpy as np\n",
    "\n",
    "from gensim import downloader\n",
    "from gensim.models import KeyedVectors\n",
    "\n",
    "import torch\n",
    "from torch import nn\n",
    "\n",
    "from collections.abc import Collection\n",
    "from sklearn.datasets import fetch_20newsgroups"
   ]
  },
  {
   "cell_type": "code",
   "execution_count": 2,
   "metadata": {},
   "outputs": [],
   "source": [
    "categories = [\"talk.politics.guns\", \"rec.motorcycles\"]\n",
    "train = fetch_20newsgroups(subset='train', categories=categories)\n",
    "test = fetch_20newsgroups(subset='test', categories=categories)"
   ]
  },
  {
   "cell_type": "code",
   "execution_count": null,
   "metadata": {},
   "outputs": [],
   "source": [
    "wv = downloader.load(\"word2vec-google-news-300\")\n",
    "\n",
    "def seq_to_emb(\n",
    "    sentences: Collection[str], \n",
    "    wv: KeyedVectors, \n",
    "    tokens_num: int, \n",
    "    pad_token: str = \"</s>\"\n",
    ") -> np.ndarray:\n",
    "    '''\n",
    "    Convert a set of sentences into embeddings. Each set of symbols separated by\n",
    "    a space will be recognized as a separate token.\n",
    "\n",
    "    Parameters\n",
    "    ----------\n",
    "    sentences: Collection[str]\n",
    "        A collection of sentences that require transformation into embeddings.\n",
    "    wv: KeyedVectors\n",
    "        This needs to be used to transform tokens into embeddings.\n",
    "    tokens_num: int\n",
    "        The number of tokens to take from each sample. Extra tokens will be \n",
    "        dropped, and if there are not enough tokens, padding will be added.\n",
    "    pad_token: str = \"</s.>\"\n",
    "        The token that will be used for padding if there are not enough tokens \n",
    "        in a sample.\n",
    "\n",
    "    Returns\n",
    "    -------\n",
    "    out: np.ndarray\n",
    "        Of size (<samples> ,<embedding size>, <tokens_num>).\n",
    "    '''\n",
    "\n",
    "    rv = []\n",
    "    pad_vector = wv.get_vector(pad_token)\n",
    "\n",
    "    for sentence in sentences:\n",
    "\n",
    "        sentence_embeddings = []\n",
    "        got_emb = 0\n",
    "        for one_token in sentence.split():\n",
    "            if wv.has_index_for(one_token):\n",
    "                sentence_embeddings.append(wv.get_vector(one_token))\n",
    "                got_emb += 1\n",
    "                # Taking embedings only for some of the words\n",
    "                if got_emb >= tokens_num: break\n",
    "\n",
    "        sentence_embeddings = np.stack(sentence_embeddings, axis=1)\n",
    "        pad_array = np.tile(\n",
    "            pad_vector[:, None], \n",
    "            reps=(1, tokens_num - sentence_embeddings.shape[1])\n",
    "        )\n",
    "        sentence_embeddings = np.hstack([sentence_embeddings, pad_array])\n",
    "        rv.append(sentence_embeddings)\n",
    "\n",
    "    return np.stack(rv)"
   ]
  },
  {
   "cell_type": "code",
   "execution_count": 100,
   "metadata": {},
   "outputs": [],
   "source": [
    "X_train = torch.tensor(seq_to_emb(\n",
    "    sentences=train[\"data\"],\n",
    "    wv=wv,\n",
    "    tokens_num=100\n",
    "))"
   ]
  },
  {
   "cell_type": "code",
   "execution_count": 124,
   "metadata": {},
   "outputs": [],
   "source": [
    "class TextCNN(nn.Module):\n",
    "    def __init__(\n",
    "        self, \n",
    "        kernel_sizes: list[int], \n",
    "        in_channels: int, \n",
    "        out_channels: int\n",
    "    ):\n",
    "        \n",
    "        super().__init__()\n",
    "\n",
    "        self.conv_transforms = nn.ModuleList([\n",
    "            nn.Sequential(\n",
    "                nn.Conv1d(\n",
    "                    in_channels=in_channels,\n",
    "                    out_channels=out_channels,\n",
    "                    kernel_size=ks\n",
    "                ),\n",
    "                nn.AdaptiveAvgPool1d(output_size=1),\n",
    "                nn.Flatten()\n",
    "            )\n",
    "            for ks in kernel_sizes\n",
    "        ])\n",
    "\n",
    "        self.head = torch.nn.Sequential(\n",
    "            torch.nn.Linear(\n",
    "                in_features=len(kernel_sizes)*out_channels,\n",
    "                out_features=1\n",
    "            ),\n",
    "            torch.nn.Flatten(start_dim=0, end_dim=1)\n",
    "        )\n",
    "    \n",
    "    def forward(self, X: torch.Tensor):\n",
    "        return self.head(torch.cat([ct(X) for ct in self.conv_transforms], axis=1))"
   ]
  },
  {
   "cell_type": "code",
   "execution_count": 125,
   "metadata": {},
   "outputs": [
    {
     "data": {
      "text/plain": [
       "tensor([0.1813, 0.1844, 0.1586,  ..., 0.1673, 0.1884, 0.1918],\n",
       "       grad_fn=<ViewBackward0>)"
      ]
     },
     "execution_count": 125,
     "metadata": {},
     "output_type": "execute_result"
    }
   ],
   "source": [
    "text_cnn = TextCNN([2,3], 300, 10)\n",
    "text_cnn(X_train)"
   ]
  }
 ],
 "metadata": {
  "kernelspec": {
   "display_name": "venv",
   "language": "python",
   "name": "python3"
  },
  "language_info": {
   "codemirror_mode": {
    "name": "ipython",
    "version": 3
   },
   "file_extension": ".py",
   "mimetype": "text/x-python",
   "name": "python",
   "nbconvert_exporter": "python",
   "pygments_lexer": "ipython3",
   "version": "3.12.3"
  }
 },
 "nbformat": 4,
 "nbformat_minor": 2
}
