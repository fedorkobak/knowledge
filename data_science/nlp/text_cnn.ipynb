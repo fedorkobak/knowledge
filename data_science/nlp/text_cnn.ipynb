{
 "cells": [
  {
   "cell_type": "markdown",
   "metadata": {},
   "source": [
    "# Text CNN\n",
    "\n",
    "Text CNN is a method for applying convolutional architecture to text tasks."
   ]
  },
  {
   "cell_type": "code",
   "execution_count": 1,
   "metadata": {},
   "outputs": [],
   "source": [
    "import numpy as np\n",
    "from gensim import downloader\n",
    "from gensim.models import KeyedVectors\n",
    "from collections.abc import Collection\n",
    "from sklearn.datasets import fetch_20newsgroups"
   ]
  },
  {
   "cell_type": "code",
   "execution_count": 2,
   "metadata": {},
   "outputs": [],
   "source": [
    "categories = [\"talk.politics.guns\", \"rec.motorcycles\"]\n",
    "train = fetch_20newsgroups(subset='train', categories=categories)\n",
    "test = fetch_20newsgroups(subset='test', categories=categories)"
   ]
  },
  {
   "cell_type": "code",
   "execution_count": null,
   "metadata": {},
   "outputs": [],
   "source": [
    "wv = downloader.load(\"word2vec-google-news-300\")\n",
    "\n",
    "def seq_to_emb(\n",
    "    sentences: Collection[str], \n",
    "    wv: KeyedVectors, \n",
    "    tokens_num: int, \n",
    "    pad_token: str = \"</s>\"\n",
    ") -> np.ndarray:\n",
    "    rv = []\n",
    "    pad_vector = wv.get_vector(pad_token)\n",
    "\n",
    "    for sentence in sentences:\n",
    "\n",
    "        sentence_embeddings = []\n",
    "        got_emb = 0\n",
    "        for one_token in sentence.split():\n",
    "            if wv.has_index_for(one_token):\n",
    "                sentence_embeddings.append(wv.get_vector(one_token))\n",
    "                got_emb += 1\n",
    "                # Taking embedings only for some of the words\n",
    "                if got_emb >= tokens_num: break\n",
    "\n",
    "        sentence_embeddings = np.vstack(sentence_embeddings)\n",
    "        pad_array = np.tile(\n",
    "            pad_vector, reps=((tokens_num - sentence_embeddings.shape[0], 1))\n",
    "        )\n",
    "        sentence_embeddings = np.vstack([sentence_embeddings, pad_array])\n",
    "        rv.append(sentence_embeddings)\n",
    "\n",
    "    return np.stack(rv)"
   ]
  },
  {
   "cell_type": "code",
   "execution_count": 10,
   "metadata": {},
   "outputs": [
    {
     "data": {
      "text/plain": [
       "(10, 100, 300)"
      ]
     },
     "execution_count": 10,
     "metadata": {},
     "output_type": "execute_result"
    }
   ],
   "source": [
    "seq_to_emb(train[\"data\"][:10], wv=wv, tokens_num=100).shape"
   ]
  },
  {
   "cell_type": "code",
   "execution_count": null,
   "metadata": {},
   "outputs": [
    {
     "data": {
      "text/plain": [
       "(297, 500)"
      ]
     },
     "execution_count": 54,
     "metadata": {},
     "output_type": "execute_result"
    }
   ],
   "source": [
    "np.pad(ans, pad_width=((0, 200))).shape"
   ]
  }
 ],
 "metadata": {
  "kernelspec": {
   "display_name": "venv",
   "language": "python",
   "name": "python3"
  },
  "language_info": {
   "codemirror_mode": {
    "name": "ipython",
    "version": 3
   },
   "file_extension": ".py",
   "mimetype": "text/x-python",
   "name": "python",
   "nbconvert_exporter": "python",
   "pygments_lexer": "ipython3",
   "version": "3.10.15"
  }
 },
 "nbformat": 4,
 "nbformat_minor": 2
}
