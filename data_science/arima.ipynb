{
 "cells": [
  {
   "cell_type": "markdown",
   "id": "70ebce3c",
   "metadata": {},
   "source": [
    "# ARIMA\n",
    "\n",
    "ARIMA is an industry-standard name for a group of linear models that explains the time series based only on previous time series values. It takes its name from the:\n",
    "\n",
    "- AutoRegression.\n",
    "- Integrated.\n",
    "- Mean average."
   ]
  },
  {
   "cell_type": "markdown",
   "id": "d773814b",
   "metadata": {},
   "source": [
    "## ARMA\n",
    "\n",
    "These model interpret observed time series as a sum of two components:\n",
    "\n",
    "- $x_t$: determined part of the $t$-th element of time series.\n",
    "- $\\varepsilon_t$: random noise of the $t$-th element of time series.\n",
    "\n",
    "Thus, the observed value in the sample is actually composed of $x_t + \\varepsilon_t$."
   ]
  },
  {
   "cell_type": "markdown",
   "id": "bf78f264",
   "metadata": {},
   "source": [
    "The ARMA model assumes that the $t$-th value of the timeseries ($x_t$) depends linearly on $p$ previous values of the time series ($x_{t-1}, x_{t-2}, \\ldots, x_{t-p}$) and $q$ previous values of the random noise ($\\varepsilon_{t-1} + \\varepsilon_{t-2} + \\ldots + \\varepsilon_{t-q}$).\n",
    "\n",
    "It's typically can be written down as a equation:\n",
    "\n",
    "$$X_t + \\alpha_1 X_{t-1} + \\alpha_2 X_{t-2} + \\ldots + \\alpha_{t-p} X_p = \\varepsilon_t + \\theta_1 \\varepsilon_{t-1} + \\theta_2 \\varepsilon_{t-2} + \\ldots + \\theta_q \\varepsilon_{t-q}.$$\n",
    "\n",
    "Where\n",
    "\n",
    "- $\\alpha_i, i = \\overline{1,p}$: The coefficient that describes how the $t$-th value of the time series depends on the $t-i$ value of the time series.\n",
    "- $\\theta_i, i = \\overline{1,q}$: The coefficient that describes how the $t$-th value of the time series depends on the random noise for the $t-i$-th observation.\n",
    "\n",
    "The official definition can be a bit confusing because it does not express the paticular value of the time series. Thus, it can be rewritten using basic mathematical transformations as follows:\n",
    "\n",
    "$$X_t - \\varepsilon_t = \\alpha_1 X_{t-1} + \\alpha_2 X_{t-2} + \\ldots + \\alpha_{t-p} X_p - \\theta_1 \\varepsilon_{t-1} - \\theta_2 \\varepsilon_{t-2} - \\ldots - \\theta_q \\varepsilon_{t-q}$$\n",
    "\n",
    "Since an $\\varepsilon_t$ is just a noise, the sign before it is not imporant. We can rewrite the entire identity as follows: \n",
    "\n",
    "$$X_t + \\varepsilon_t = \\alpha_1 X_{t-1} + \\alpha_2 X_{t-2} + \\ldots + \\alpha_{t-p} X_p + \\theta_1 \\varepsilon_{t-1} + \\theta_2 \\varepsilon_{t-2} + \\ldots + \\theta_q \\varepsilon_{t-q}$$"
   ]
  },
  {
   "cell_type": "markdown",
   "id": "2614e9cf",
   "metadata": {},
   "source": [
    "The ARMA model can only be applied only under the assumption that the time series is **stationary**. This means that there are no trends and the variation is constant."
   ]
  },
  {
   "cell_type": "markdown",
   "id": "3a867ef4",
   "metadata": {},
   "source": [
    "## Integration\n",
    "\n",
    "The ARMA model requires the explained series to be stationary. The integration procedure is typically applied achieve stationarity. In this context, integration is simply a transformation that subtracts the previous value of the time series from the current value:\n",
    "\n",
    "$$\\nabla x_t = x_t - x_{t-1}$$\n",
    "\n",
    "Generally, integrations can be applied several times:\n",
    "\n",
    "$$\\nabla^d x_t = \\nabla^{d-1}x_t - \\nabla^{d-1}x_{t-1}$$\n",
    "\n",
    "The $ARIMA(p, d, q)$ stands for the applying the ARMA model to the $d$-diffirintiated $\\nabla^d x_t$."
   ]
  }
 ],
 "metadata": {
  "language_info": {
   "name": "python"
  }
 },
 "nbformat": 4,
 "nbformat_minor": 5
}
