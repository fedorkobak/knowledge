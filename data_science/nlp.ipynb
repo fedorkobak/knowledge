{
 "cells": [
  {
   "cell_type": "markdown",
   "metadata": {},
   "source": [
    "# NLP\n",
    "\n",
    "Natural language processing is a field focused on algorithms for processing ordinary human text."
   ]
  },
  {
   "cell_type": "markdown",
   "metadata": {},
   "source": [
    "## Pre-Processing\n",
    "\n",
    "To work with text, you need to transform it into numbers - an approach more aligned with how computers process information. There are various techniques for achieving this.\n",
    "\n",
    "The following table describes typical terms used in the field of \"wrangling and preprocessing\".\n",
    "\n",
    "| Term                | Meaning                                                   | \n",
    "| ------------------- | --------------------------------------------------------- |\n",
    "| Conversion          | Transform text into a standartized format.                |\n",
    "| Sanitization        | Remove noise, unnecessary characters.                     |\n",
    "| Tokenization        | Split text into words or phrases                          |\n",
    "| Stemming            | Reduce words to their root form                           |\n",
    "| Lemmatization       | Normalize words based on their dictionary meaning.        |\n",
    "| Building embeddings | Transforming tokens into the vectors.                     |\n",
    "\n",
    "Check more details on this in the [Pre-Processing](nlp/preprocessing.ipynb) page."
   ]
  },
  {
   "cell_type": "markdown",
   "metadata": {},
   "source": [
    "## TF-IDF\n",
    "\n",
    "TF-IDF is a popular method to transform text into vectors. Find out more in a [specific page](nlp/tf_idf.ipynb)."
   ]
  },
  {
   "cell_type": "markdown",
   "metadata": {},
   "source": [
    "## Text CNN\n",
    "\n",
    "Text CNN is a method for applying convolutional architecture concepts to NLP."
   ]
  }
 ],
 "metadata": {
  "language_info": {
   "name": "python"
  }
 },
 "nbformat": 4,
 "nbformat_minor": 2
}
