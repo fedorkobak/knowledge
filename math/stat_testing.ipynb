{
 "cells": [
  {
   "cell_type": "markdown",
   "id": "0afca763-8877-467b-b0da-87814aaabba5",
   "metadata": {},
   "source": [
    "# Statistical testing"
   ]
  },
  {
   "cell_type": "markdown",
   "id": "a23a14e6-ca25-42c2-8ff9-e59ab1b8a891",
   "metadata": {},
   "source": [
    "## Designations\n",
    "\n",
    "- Sample $X_N \\sim P$, where $P$ is some distribution;\n",
    "- $H_0$, $H_1$ - main and alternative hypotheses;\n",
    "- Statistic $T(X_N)\\sim D$ sampling function, where $D$ is some distribution;\n",
    "- Significance level $\\alpha$;\n",
    "- Realisation of the statistics for the sample under consideration $t=T(X_N)$;\n",
    "- Achievable level of significance $p(X_N)=P(T \\geq t|H_0)$ - is the probability with which we hit the value of the statistic $t$ and more extreme;\n",
    "- So if $P(X_N) \\leq \\alpha$ means that we got less possible event that we able to accept and we have to reject $H_0$"
   ]
  }
 ],
 "metadata": {
  "kernelspec": {
   "display_name": "Python 3 (ipykernel)",
   "language": "python",
   "name": "python3"
  },
  "language_info": {
   "codemirror_mode": {
    "name": "ipython",
    "version": 3
   },
   "file_extension": ".py",
   "mimetype": "text/x-python",
   "name": "python",
   "nbconvert_exporter": "python",
   "pygments_lexer": "ipython3",
   "version": "3.10.12"
  }
 },
 "nbformat": 4,
 "nbformat_minor": 5
}
