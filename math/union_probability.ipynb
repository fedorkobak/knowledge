{
 "cells": [
  {
   "cell_type": "markdown",
   "id": "73cf806d-f6cb-4e34-b4b7-f4e6c54ada34",
   "metadata": {},
   "source": [
    "# Union probability\n",
    "\n",
    "The sum rule for joint events describes the probability that at least one of the events will occur. It's a bit of a confusing rule - it's really common for me to make mistakes in problems involving this rule."
   ]
  },
  {
   "cell_type": "markdown",
   "id": "48076bc3-c358-4563-8bd6-137ef41203ea",
   "metadata": {},
   "source": [
    "## Definition"
   ]
  },
  {
   "cell_type": "markdown",
   "id": "7b4e8c62-4c39-4b1a-8a62-43d55e3659ac",
   "metadata": {},
   "source": [
    "Let we have $A$ event and $B$ event.\n",
    "\n",
    "If $A$ and $B$ occur at the same time, we denote it by the intersection of the events $A \\cap B$.\n",
    "\n",
    "If at least one of the events $A$ and $B$ occurs, we denote it as a union of events $A \\cup B$.\n",
    "\n",
    "The probabilities of all events are related by the formula:\n",
    "\n",
    "$$P(A\\cup B)=P(A)+P(B)-P(A \\cap B)$$"
   ]
  },
  {
   "cell_type": "markdown",
   "id": "f5f82a83-61e5-4293-b9c3-066fbe3a68e3",
   "metadata": {},
   "source": [
    "Sometimes it can be confusing that you need to know the probability that events will occur at the same time to calculate the probability that at least one will occur. But think about it more careful - individual probabilities do not contain any information about how often these events occur together, so how often these events occur together must be learnt separately."
   ]
  },
  {
   "cell_type": "markdown",
   "id": "afd396ed-b29e-466e-9290-9bda0232492c",
   "metadata": {},
   "source": [
    "## Example task\n",
    "\n",
    "In my practice I have come across really simple tasks that can be solved using this rule.\n",
    "\n",
    "There are two options for building a shop: one large shop or two small shops. The large shop will succeed with a probability of 2 times that of the small one, the small ones act independently (i.e. it can succeed either one or the other, or both at once, with success events being independent).\n",
    "\n",
    "Which is more favourable to do? We consider that success is important to us, for two small ones it doesn't matter whether one or both of them \"shoot\"."
   ]
  },
  {
   "cell_type": "markdown",
   "id": "3401d300-cf82-425e-888c-657f32b7a64a",
   "metadata": {},
   "source": [
    "Let's designate:\n",
    "\n",
    "- $a$ - case where small shop was successful;\n",
    "- $A$ - case where big shop was successful.\n",
    "\n",
    "So to solve the task we need to compare $P(A)$ and $P(a \\cup a)$.\n",
    "\n",
    "From the problem condition: $P(A)=2P(a)$.\n",
    "\n",
    "And using rule for joint events: $P(a\\cup a) = P(a) + P(a) - P(a\\cap a)=2P(a) - P(a \\cap a)$.\n",
    "\n",
    "So now we are comparing $2P(a)$ and $2P(a) - P(a \\cap a)$. \n",
    "\n",
    "Obviously $P(a \\cap a) > 0$ so finally:\n",
    "\n",
    "$$2P(a) > 2P(a) - P(a \\cap a) \\Leftrightarrow P(A) > P(a \\cap a).$$\n",
    "\n",
    "So it's better to open one big store than two small."
   ]
  }
 ],
 "metadata": {
  "kernelspec": {
   "display_name": "Python 3 (ipykernel)",
   "language": "python",
   "name": "python3"
  },
  "language_info": {
   "codemirror_mode": {
    "name": "ipython",
    "version": 3
   },
   "file_extension": ".py",
   "mimetype": "text/x-python",
   "name": "python",
   "nbconvert_exporter": "python",
   "pygments_lexer": "ipython3",
   "version": "3.10.12"
  }
 },
 "nbformat": 4,
 "nbformat_minor": 5
}
