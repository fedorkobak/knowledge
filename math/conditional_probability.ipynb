{
 "cells": [
  {
   "cell_type": "markdown",
   "id": "c656136b-ce60-450b-b5aa-fe9d6eada486",
   "metadata": {},
   "source": [
    "# Сonditional probability"
   ]
  },
  {
   "cell_type": "markdown",
   "id": "1c4a5ebd-6945-4690-9739-aa91fbab9d38",
   "metadata": {},
   "source": [
    "## Basic ideas"
   ]
  },
  {
   "cell_type": "markdown",
   "id": "2d20c662-cc61-4928-8137-a39ffbba9244",
   "metadata": {},
   "source": [
    "Сonditional probability of event A if event B occurs: $P(A|B)$.\n",
    "\n",
    "The expression is valid: \n",
    "\n",
    "$$P(A|B)P(B)=P(A\\cap B). \\tag{1}$$\n",
    "\n",
    "Conditions $A$ and $B$ independent if: \n",
    "\n",
    "$$P(A|B)=P(A).$$\n",
    "\n",
    "Property:\n",
    "\n",
    "$$\\sum_{i=1}^n P(A_i)=1 \\Leftrightarrow\\sum_{i=1}^nP(A_i|B)=1.$$\n",
    "\n",
    "If $A_i$ are only events that can happen, then one of them will definitely occur even under the $B$ condition.\n",
    "\n",
    "And a useful practical consequence:\n",
    "\n",
    "$$P(A|B) + P(\\overline A|B) = 1.$$"
   ]
  },
  {
   "cell_type": "markdown",
   "id": "d20a7d59-0013-461c-ac95-490d080fb1c7",
   "metadata": {},
   "source": [
    "## Law of total probability\n",
    "\n",
    "If we have event $A$ that depends on $n$ events $B_i, i=\\overline{(1,n)}$ probability of $A$ can be written as:\n",
    "\n",
    "$$P(A)=\\sum_{i=1}^n P(A|B_i)P(B_i)$$\n",
    "\n",
    "Where $B_i, i=\\overline{1,n}$ - events that don't happen at the same time, but one of them will."
   ]
  },
  {
   "cell_type": "markdown",
   "id": "af25fad6-7a36-475a-a1ce-3132d1ed58bc",
   "metadata": {},
   "source": [
    "### Interesting task\n",
    "\n",
    "Suppose we have an online shop and we have agreed to support a key partner. In a normal situation, users buy the goods of this partner with a probability of 0.05 (without special displays). If we specially show the product on the homepage, the probability of purchase will be 0.2.\n",
    "\n",
    "We promised the partner 1000 sales per day, and the traffic per day is 10000 users (one user makes exactly one purchase per day). What is the minimum probability of showing the product on the homepage so that the sales correspond to our agreement?"
   ]
  },
  {
   "cell_type": "markdown",
   "id": "bb98ec3c-5e7d-4e83-90af-15fd3796bcdd",
   "metadata": {},
   "source": [
    "Let's denote:\n",
    "\n",
    "- $A$ - user bought the good;\n",
    "- $B$ - good was shown to the user on the main page.\n",
    "\n",
    "So:\n",
    "\n",
    "- We need $1000$ realisations of $A$ in $10000$ events so $P(A) = \\frac{1000}{10000}=\\frac{1}{10}$;\n",
    "- The event \"we showed good on the main page and it was bought\" can be written $A|B$, so $P(A|B)=0.2$;\n",
    "- The event \"good bought without being displayed on the main page\" can be written as $A|\\overline B$, so $P(A|\\overline B)=0.05$.\n",
    "\n",
    "And $P(B)$ is our goal.\n",
    "\n",
    "Using law of total probability we can get:\n",
    "\n",
    "$$P(A)=P(A|B)P(B)+P(A|\\overline B)P(\\overline B) \\Rightarrow$$\n",
    "$$P(A)=P(A|B)P(B)+P(A|\\overline B)[1-P(B)]$$\n",
    "\n",
    "Is school equation - $P(B)=1/3$."
   ]
  },
  {
   "cell_type": "markdown",
   "id": "ef1ffec3-d775-43e9-85a3-97c7769176b4",
   "metadata": {},
   "source": [
    "Interesting that my original solution was slightly different:\n",
    "\n",
    "Let's denote:\n",
    "\n",
    "- $x$ - number of users who were shown the good on the main page;\n",
    "- $y$ - number of users who weren't shown the good on the main page.\n",
    "\n",
    "Then the system of equations:\n",
    "\n",
    "$$\n",
    "\\begin{cases}\n",
    "x+y=10000;\\\\\n",
    "0.2*x+0.05*y=1000.\n",
    "\\end{cases}\n",
    "$$\n",
    "\n",
    "Which soluton - $x=333, y= 667$. So the final result is $333/10000 = 1/3$."
   ]
  },
  {
   "cell_type": "markdown",
   "id": "82b45e5a-6f45-41c5-a6a9-4ece30e9b40d",
   "metadata": {},
   "source": [
    "But it's really the same thing as solution throw law of total probability. Valid expressions:\n",
    "\n",
    "- $x = P(B)*10000$;\n",
    "- $y = P(\\overline B)*10000.$\n",
    "\n",
    "Let's substitute them into the system of equations:\n",
    "\n",
    "$$\n",
    "\\begin{cases}\n",
    "P(B)*10000+P(\\overline B)*10000=10000;\\\\\n",
    "0.2*P(B)*10000+0.05*P(\\overline B)*10000=1000.\n",
    "\\end{cases}\n",
    "$$\n",
    "\n",
    "And divide both equations by $10000$:\n",
    "\n",
    "$$\n",
    "\\begin{cases}\n",
    "P(\\overline B)=1-P(B);\\\\\n",
    "0.2*P(B)+0.05*P(\\overline B)=1000/10000.\n",
    "\\end{cases}\n",
    "$$\n",
    "\n",
    "We are essentially back to the final expression from the first solution."
   ]
  },
  {
   "cell_type": "markdown",
   "id": "dd7b24ec-bb49-44c4-86a9-50bd175470be",
   "metadata": {},
   "source": [
    "## Bayes formula"
   ]
  },
  {
   "cell_type": "markdown",
   "id": "6ccf5a86-a663-4d81-b9fe-a2aa40442198",
   "metadata": {},
   "source": [
    "### Derivation\n",
    "\n",
    "Consider the expression $(1)$ - it can be written similarly for $B$:\n",
    "\n",
    "$$P(B|A)P(A)=p(A \\cap B)$$\n",
    "\n",
    "So we got that:\n",
    "\n",
    "$$P(A|B)P(B)=P(A\\cap B)=P(B|A)P(A)$$\n",
    "\n",
    "From here we can get Bayes formula:\n",
    "\n",
    "$$P(A|B)=\\frac{P(B|A)P(A)}{P(B)}.$$"
   ]
  },
  {
   "cell_type": "markdown",
   "id": "70510d23-6936-4c21-9311-04d240524d64",
   "metadata": {},
   "source": [
    "### Tasks\n",
    "\n",
    "To make clearer why we may need bayes formula let's consider few tasks."
   ]
  },
  {
   "cell_type": "markdown",
   "id": "168bdd69-fd13-4adc-99e1-394cddaacf0f",
   "metadata": {},
   "source": [
    "#### Borken product\n",
    "\n",
    "Quite a typical task, but for me every time like a new 0_0.\n",
    "\n",
    "We've made two batches of the product, and it's known that:\n",
    "\n",
    "- In the first batch there were 5000 products and the probability of rejection is 0.1;\n",
    "- In the second batch there were 10000 products and the probability of defect is 0.2.\n",
    "\n",
    "Suppose we take a random product from random batch. It turned out to be defective. We need to calculate the probability that we took a product from the first batch.\n",
    "\n",
    "Let:\n",
    "\n",
    "- $A_i, i=\\overline{1,n}$ - probability that detail is taken from batch $i$;\n",
    "- $B$ is probability that prodcut is broken.\n",
    "\n",
    "So we have $P(A_1)=5000/15000 = 1/3, P(A_2)=10000/15000=2/3, P(B|A_1)=0.1, P(B|A_2)=0.2$.\n",
    "\n",
    "And need to find $P(A_1|B)$.\n",
    "\n",
    "Using Bayes formula $P(A_1|B)=\\frac{P(B|A_1)P(A_1)}{P(B)}=0.05$"
   ]
  },
  {
   "cell_type": "markdown",
   "id": "d2f14383-28a8-481b-93b8-299766f2ea8e",
   "metadata": {},
   "source": [
    "#### Counterfeit coin\n",
    "\n",
    "Let's imagine that we have a coin that is 99.9% of cases is regular and in 0.1% of cases counterfeit, i.e. it falls only with an eagle. We tossed this coin 10 times, it fell eagle all 10 times.\n",
    "\n",
    "What are the chances that this coin was a regular coin?"
   ]
  },
  {
   "cell_type": "markdown",
   "id": "130ca258-e2f1-403c-8107-b5eaf314e28b",
   "metadata": {},
   "source": [
    "Let's denote that:\n",
    "\n",
    "- $A$ - coin is regular;\n",
    "- $B$ - the coin fell 10 times with an eagle.\n",
    "\n",
    "So the probability we are looking for is $P(A|B)$ that we got 10 eadgles if the coin is regular. We can find it using the Baues formula:\n",
    "\n",
    "$$P(A|B)=\\frac{P(B|A)P(A)}{P(B)}.$$\n",
    "\n",
    "Now using [law of total probability](#Law-of-total-probability) we can rewrite:\n",
    "\n",
    "$$P(B) = P(B|A)P(A) + P(B|\\overline{A})P(\\overline{A});$$\n",
    "\n",
    "$$P(A|B)=\\frac{P(B|A)P(A)}{P(B|A)P(A) + P(B|\\overline{A})P(\\overline{A})}.$$"
   ]
  },
  {
   "cell_type": "markdown",
   "id": "dc912a98-9e20-41eb-b06b-3e1914e83aed",
   "metadata": {},
   "source": [
    "Based on the condition we can write the following values:\n",
    "\n",
    "- $P(B|A)=0.5^{10}$ - probability of 10 out of 10 eagles for a regular coin;\n",
    "- $P(A)=0.999$ - given value that coin under consideration is regular;\n",
    "- $P(\\overline{A})=0.001$ - obviously follows from the previous paragraph;\n",
    "- $P(B|\\overline{A})=1$ - coin is broken, so it guarantees edgles.\n",
    "\n",
    "Now we have everything to solve task under consideration:\n",
    "\n",
    "$$P(A|B)=\\frac{0.5^{10}0.999}{0.5^{10}0.999 + 0.001} = 0.4938.$$"
   ]
  }
 ],
 "metadata": {
  "kernelspec": {
   "display_name": "Python 3 (ipykernel)",
   "language": "python",
   "name": "python3"
  },
  "language_info": {
   "codemirror_mode": {
    "name": "ipython",
    "version": 3
   },
   "file_extension": ".py",
   "mimetype": "text/x-python",
   "name": "python",
   "nbconvert_exporter": "python",
   "pygments_lexer": "ipython3",
   "version": "3.10.12"
  }
 },
 "nbformat": 4,
 "nbformat_minor": 5
}
