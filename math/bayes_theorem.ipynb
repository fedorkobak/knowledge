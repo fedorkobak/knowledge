{
 "cells": [
  {
   "cell_type": "markdown",
   "id": "c656136b-ce60-450b-b5aa-fe9d6eada486",
   "metadata": {},
   "source": [
    "# Сonditional probability"
   ]
  },
  {
   "cell_type": "markdown",
   "id": "1c4a5ebd-6945-4690-9739-aa91fbab9d38",
   "metadata": {},
   "source": [
    "## Basic ideas"
   ]
  },
  {
   "cell_type": "markdown",
   "id": "d5e83de2-05db-47fc-a31d-a1ba834eab81",
   "metadata": {},
   "source": [
    "Сonditional probability of event A if event B occurs: $P(A|B)$.\n",
    "\n",
    "The expression is valid: \n",
    "$$P(A|B)P(B)=P(A\\cap B). \\tag{1}$$\n",
    "\n",
    "Conditions $A$ and $B$ independent if: \n",
    "$$P(A|B)=P(B).$$\n",
    "\n",
    "Law of total probability:\n",
    "\n",
    "$$P(A)=\\sum_{i=1}^n P(A|B_i)P(B_i)$$\n",
    "\n",
    "Where $B_i, i=\\overline{1,n}$ - events that don't happen at the same time, but one of them will."
   ]
  },
  {
   "cell_type": "markdown",
   "id": "dd7b24ec-bb49-44c4-86a9-50bd175470be",
   "metadata": {},
   "source": [
    "## Bayes formula"
   ]
  },
  {
   "cell_type": "markdown",
   "id": "6ccf5a86-a663-4d81-b9fe-a2aa40442198",
   "metadata": {},
   "source": [
    "### Derivation\n",
    "\n",
    "Consider the expression $(1)$ - it can be written similarly for $B$:\n",
    "\n",
    "$$P(B|A)P(A)=p(A \\cap B)$$\n",
    "\n",
    "So we got that:\n",
    "\n",
    "$$P(A|B)P(B)=P(A\\cap B)=P(B|A)P(A)$$\n",
    "\n",
    "From here we can get Bayes formula:\n",
    "\n",
    "$$P(A|B)=\\frac{P(B|A)P(A)}{P(B)}.$$"
   ]
  },
  {
   "cell_type": "markdown",
   "id": "89b598f4-8a9b-4e84-aee6-0f1fd4662860",
   "metadata": {},
   "source": [
    "### Example task\n",
    "\n",
    "To make clearer why we may need bayes formula let's consider task.\n",
    "\n",
    "We've made two batches of the product, and it's known that:\n",
    "\n",
    "- In the first batch there were 5000 products and the probability of rejection is 0.1;\n",
    "- In the second batch there were 10000 products and the probability of defect is 0.2.\n",
    "\n",
    "Suppose we take a random batch. It turned out to be defective. We need to calculate the probability that we took a part from the first batch.\n",
    "\n",
    "Let:\n",
    "\n",
    "- $A_i, i=\\overline{1,n}$ - probability that detail is taken from batch $i$;\n",
    "- $B$ is probability that detail is broken.\n",
    "\n",
    "So we have $P(A_1)=5000/15000 = 1/3, P(A_2)=10000/15000=2/3, P(B|A_1)=0.1, P(B|A_2)=0.2$.\n",
    "\n",
    "And need to find $P(A_1|B)$.\n",
    "\n",
    "Using Bayes formula $P(A_1|B)=\\frac{P(B|A_1)P(A_1)}{P(B)}=0.05$"
   ]
  }
 ],
 "metadata": {
  "kernelspec": {
   "display_name": "Python 3 (ipykernel)",
   "language": "python",
   "name": "python3"
  },
  "language_info": {
   "codemirror_mode": {
    "name": "ipython",
    "version": 3
   },
   "file_extension": ".py",
   "mimetype": "text/x-python",
   "name": "python",
   "nbconvert_exporter": "python",
   "pygments_lexer": "ipython3",
   "version": "3.10.12"
  }
 },
 "nbformat": 4,
 "nbformat_minor": 5
}
