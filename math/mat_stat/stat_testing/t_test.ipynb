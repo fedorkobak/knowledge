{
 "cells": [
  {
   "cell_type": "markdown",
   "id": "b3797f97",
   "metadata": {},
   "source": [
    "# T-test\n",
    "\n",
    "A T-test is a basic statistical test that works with mean values. There are three types of t-tests:\n",
    "\n",
    "- One-sample t-test: determines whether the mean value differs significantly from the known reference mean (expected value).\n",
    "- Two independent samples t-test: determines if the mean values of two independent groups differs significantly.\n",
    "- Paired samples t-test: determines if the mean values of two paired (and consequently related) groups differ significantly."
   ]
  },
  {
   "cell_type": "markdown",
   "id": "7c4a6686",
   "metadata": {},
   "source": [
    "## One sample\n",
    "\n",
    "- $H_0$: the sample mean is equal to the given reference mean.\n",
    "- $H_1$: the sample mean is not equal to the given reference mean."
   ]
  },
  {
   "cell_type": "markdown",
   "id": "d0770b8c",
   "metadata": {},
   "source": [
    "## Two sample\n",
    "\n",
    "- $H_0$: the mean values in both groups are the same.\n",
    "- $H_1$: the mean values in groups differs."
   ]
  },
  {
   "cell_type": "markdown",
   "id": "b6ab82d3",
   "metadata": {},
   "source": [
    "## Paired samples\n",
    "\n",
    "Paired samples assume that there is a single group of objects being observed, and that the mean of their measurements changes under different conditions or over time.\n",
    "\n",
    "* $X_1$, $X_2$: sets of observations under two conditions.\n",
    "* $x_{i1} \\in X_1$: the $i$-th observation from the first condition.\n",
    "* $x_{i2} \\in X_2$: the $i$-th observation from the second condition.\n",
    "\n",
    "Since $X_1$ and $X_2$ are related (i.e., paired), the standard two-sample t-test is not appropriate. Instead, the problem can be reduced to a one-sample t-test by computing the differences $\\delta_i = x_{i1} - x_{i2}$ and testing the null hypothesis $H_0$: the mean of $\\delta_i$ is equal to zero."
   ]
  }
 ],
 "metadata": {
  "language_info": {
   "name": "python"
  }
 },
 "nbformat": 4,
 "nbformat_minor": 5
}
