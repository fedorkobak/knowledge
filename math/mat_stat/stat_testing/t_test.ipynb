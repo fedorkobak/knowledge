{
 "cells": [
  {
   "cell_type": "markdown",
   "id": "b3797f97",
   "metadata": {},
   "source": [
    "# T-test\n",
    "\n",
    "A T-test is a basic statistical test that works with mean values. There are three types of t-tests:\n",
    "\n",
    "- One-sample t-test: determines whether the mean value differs significantly from the known reference mean (expected value).\n",
    "- Two independent samples t-test: determines if the mean values of two independent groups differs significantly.\n",
    "- Paired samples t-test: determines if the mean values of two paired (and consequently related) groups differ significantly."
   ]
  },
  {
   "cell_type": "markdown",
   "id": "7c4a6686",
   "metadata": {},
   "source": [
    "## One sample\n",
    "\n",
    "- $H_0$: the sample mean is equal to the given reference mean.\n",
    "- $H_1$: the sample mean is not equal to the given reference mean."
   ]
  },
  {
   "cell_type": "markdown",
   "id": "701b5f4c",
   "metadata": {},
   "source": [
    "Suppose we have a sample, $X$, and want to compare wheather $\\overline{X}$ equals to the given reference mean $\\mu$.\n",
    "\n",
    "Introduce $t$ statistic:\n",
    "\n",
    "$$t=\\frac{\\overline{X} - \\mu}{\\frac{s}{\\sqrt{n}}}$$\n",
    "\n",
    "Here:\n",
    "- $s$: the standard deviation of $X$.\n",
    "- $n$: size of the sample - $n = |X|$."
   ]
  },
  {
   "cell_type": "markdown",
   "id": "49f2fd99",
   "metadata": {
    "vscode": {
     "languageId": "plaintext"
    }
   },
   "source": [
    "The variable $t$ is distributed according to a Student's $t$ distribution with $n-1$ degrees of freedom: $t \\sim T(n - 1)$."
   ]
  },
  {
   "cell_type": "markdown",
   "id": "b9f00ad7",
   "metadata": {},
   "source": [
    "---\n",
    "\n",
    "For example, the results of the test were computed without special tools and compared with the results of the sepcialized t-test function, `scipy.stats.ttest_1samp`."
   ]
  },
  {
   "cell_type": "markdown",
   "id": "35decb27",
   "metadata": {},
   "source": [
    "The following cell generates the sample used in the experiment."
   ]
  },
  {
   "cell_type": "code",
   "execution_count": 72,
   "id": "0bbbd7ef",
   "metadata": {},
   "outputs": [],
   "source": [
    "import numpy as np\n",
    "from scipy import stats\n",
    "\n",
    "np.random.seed(11)\n",
    "n = 500\n",
    "sample = np.random.normal(0, 1, n)"
   ]
  },
  {
   "cell_type": "markdown",
   "id": "00f320f3",
   "metadata": {},
   "source": [
    "The following code computes the t-statistic using only `numpy` and the t-test p-value using only the cumulative distribution function for the Student's distribution."
   ]
  },
  {
   "cell_type": "code",
   "execution_count": 75,
   "id": "b7395a1c",
   "metadata": {},
   "outputs": [
    {
     "data": {
      "text/plain": [
       "(-0.7531988423186389, 0.4516856402737408)"
      ]
     },
     "execution_count": 75,
     "metadata": {},
     "output_type": "execute_result"
    }
   ],
   "source": [
    "t_stat = (np.mean(sample) - 0) / (np.std(sample, ddof=1) / np.sqrt(n))\n",
    "p_value = (1 - stats.t.cdf(np.abs(t_stat), n - 1)) * 2\n",
    "float(t_stat), float(p_value)"
   ]
  },
  {
   "cell_type": "markdown",
   "id": "9334edcf",
   "metadata": {},
   "source": [
    "The following cell represents the results of the same type of computation for the special package."
   ]
  },
  {
   "cell_type": "code",
   "execution_count": 76,
   "id": "abcdc809",
   "metadata": {},
   "outputs": [
    {
     "data": {
      "text/plain": [
       "(-0.7531988423186389, 0.4516856402737408)"
      ]
     },
     "execution_count": 76,
     "metadata": {},
     "output_type": "execute_result"
    }
   ],
   "source": [
    "t_stat, p_value = stats.ttest_1samp(sample, popmean=0)\n",
    "float(t_stat), float(p_value)"
   ]
  },
  {
   "cell_type": "markdown",
   "id": "d0770b8c",
   "metadata": {},
   "source": [
    "## Two sample\n",
    "\n",
    "- $H_0$: the mean values in both groups are the same.\n",
    "- $H_1$: the mean values in groups differs."
   ]
  },
  {
   "cell_type": "markdown",
   "id": "b6ab82d3",
   "metadata": {},
   "source": [
    "## Paired samples\n",
    "\n",
    "Paired samples assume that there is a single group of objects being observed, and that the mean of their measurements changes under different conditions or over time.\n",
    "\n",
    "* $X_1$, $X_2$: sets of observations under two conditions.\n",
    "* $x_{i1} \\in X_1$: the $i$-th observation from the first condition.\n",
    "* $x_{i2} \\in X_2$: the $i$-th observation from the second condition.\n",
    "\n",
    "Since $X_1$ and $X_2$ are related (i.e., paired), the standard two-sample t-test is not appropriate. Instead, the problem can be reduced to a one-sample t-test by computing the differences $\\delta_i = x_{i1} - x_{i2}$ and testing the null hypothesis $H_0$: the mean of $\\delta_i$ is equal to zero."
   ]
  }
 ],
 "metadata": {
  "kernelspec": {
   "display_name": "knowledge (3.13.5)",
   "language": "python",
   "name": "python3"
  },
  "language_info": {
   "codemirror_mode": {
    "name": "ipython",
    "version": 3
   },
   "file_extension": ".py",
   "mimetype": "text/x-python",
   "name": "python",
   "nbconvert_exporter": "python",
   "pygments_lexer": "ipython3",
   "version": "3.13.5"
  }
 },
 "nbformat": 4,
 "nbformat_minor": 5
}
