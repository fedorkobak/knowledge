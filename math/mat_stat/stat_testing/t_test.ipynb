{
 "cells": [
  {
   "cell_type": "markdown",
   "id": "b3797f97",
   "metadata": {},
   "source": [
    "# T-test\n",
    "\n",
    "A T-test is a basic statistical test that works with mean values. There are three types of t-tests:\n",
    "\n",
    "- One-sample t-test: determines whether the mean value differs significantly from the known reference mean (expected value).\n",
    "- Two independent samples t-test: determines if the mean values of two independent groups differs significantly.\n",
    "- Paired samples t-test: determines if the mean values of two paired (and consequently related) groups differ significantly."
   ]
  },
  {
   "cell_type": "code",
   "execution_count": 5,
   "id": "1ade1267",
   "metadata": {},
   "outputs": [],
   "source": [
    "import numpy as np\n",
    "from scipy import stats"
   ]
  },
  {
   "cell_type": "markdown",
   "id": "7c4a6686",
   "metadata": {},
   "source": [
    "## One sample\n",
    "\n",
    "- $H_0$: the sample mean is equal to the given reference mean.\n",
    "- $H_1$: the sample mean is not equal to the given reference mean."
   ]
  },
  {
   "cell_type": "markdown",
   "id": "701b5f4c",
   "metadata": {},
   "source": [
    "Suppose we have a sample, $X$, and want to compare wheather $\\overline{X}$ equals to the given reference mean $\\mu$.\n",
    "\n",
    "Introduce $t$ statistic:\n",
    "\n",
    "$$t=\\frac{\\overline{X} - \\mu}{\\frac{s}{\\sqrt{n}}}$$\n",
    "\n",
    "Here:\n",
    "- $s$: the standard deviation of $X$.\n",
    "- $n$: size of the sample - $n = |X|$."
   ]
  },
  {
   "cell_type": "markdown",
   "id": "49f2fd99",
   "metadata": {
    "vscode": {
     "languageId": "plaintext"
    }
   },
   "source": [
    "The variable $t$ is distributed according to a Student's $t$ distribution with $n-1$ degrees of freedom: $t \\sim T(n - 1)$."
   ]
  },
  {
   "cell_type": "markdown",
   "id": "d38f3cce",
   "metadata": {},
   "source": [
    "Let's take concrete realization of t-statistic: $t'$. The probability that $H_0$ is correct equals to the probability that $T(n-1)$ takes value less extreme that $t'$:\n",
    "\n",
    "$$P\\left(T\\left[n-1\\right] \\in \\left(-|t|, |t|\\right)\\right) = P(H_0)$$"
   ]
  },
  {
   "cell_type": "markdown",
   "id": "75fc1485",
   "metadata": {},
   "source": [
    "So p-value can be computed as:\n",
    "\n",
    "$$2F_T(-|t|)$$\n",
    "\n",
    "Here $F_T$: cumulative distribution function for Student's t-statistic."
   ]
  },
  {
   "cell_type": "markdown",
   "id": "b9f00ad7",
   "metadata": {},
   "source": [
    "---\n",
    "\n",
    "For example, the results of the test were computed without special tools and compared with the results of the sepcialized t-test function, `scipy.stats.ttest_1samp`."
   ]
  },
  {
   "cell_type": "markdown",
   "id": "35decb27",
   "metadata": {},
   "source": [
    "The following cell generates the sample used in the experiment."
   ]
  },
  {
   "cell_type": "code",
   "execution_count": 7,
   "id": "0bbbd7ef",
   "metadata": {},
   "outputs": [],
   "source": [
    "np.random.seed(11)\n",
    "n = 500\n",
    "sample = np.random.normal(0, 1, n)"
   ]
  },
  {
   "cell_type": "markdown",
   "id": "00f320f3",
   "metadata": {},
   "source": [
    "The following code computes the t-statistic using only `numpy` and the t-test p-value using only the cumulative distribution function for the Student's distribution."
   ]
  },
  {
   "cell_type": "code",
   "execution_count": 2,
   "id": "b7395a1c",
   "metadata": {},
   "outputs": [
    {
     "data": {
      "text/plain": [
       "(-0.7531988423186389, 0.4516856402737408)"
      ]
     },
     "execution_count": 2,
     "metadata": {},
     "output_type": "execute_result"
    }
   ],
   "source": [
    "t_stat = (np.mean(sample) - 0) / (np.std(sample, ddof=1) / np.sqrt(n))\n",
    "p_value = (stats.t.cdf(-np.abs(t_stat), n - 1)) * 2\n",
    "float(t_stat), float(p_value)"
   ]
  },
  {
   "cell_type": "markdown",
   "id": "9334edcf",
   "metadata": {},
   "source": [
    "The following cell represents the results of the same type of computation for the special package."
   ]
  },
  {
   "cell_type": "code",
   "execution_count": 3,
   "id": "abcdc809",
   "metadata": {},
   "outputs": [
    {
     "data": {
      "text/plain": [
       "(-0.7531988423186389, 0.4516856402737408)"
      ]
     },
     "execution_count": 3,
     "metadata": {},
     "output_type": "execute_result"
    }
   ],
   "source": [
    "t_stat, p_value = stats.ttest_1samp(sample, popmean=0)\n",
    "float(t_stat), float(p_value)"
   ]
  },
  {
   "cell_type": "markdown",
   "id": "d0770b8c",
   "metadata": {},
   "source": [
    "## Two sample\n",
    "\n",
    "- $H_0$: the mean values in both groups are the same.\n",
    "- $H_1$: the mean values in groups differs.\n",
    "\n",
    "If $X_1$ and $X_2$ are samples whose mean values must be compared, $t$ statistic will take form:\n",
    "\n",
    "\n",
    "$$t = \\frac{\\overline{X}_1 - \\overline{X}_2}{\\sqrt{\\frac{s_1^2}{n_1}} + \\sqrt{\\frac{s_2^2}{n_2}}}$$\n",
    "\n",
    "Here:\n",
    "\n",
    "- $n_1$ and $n_2$ are the sample sizes: $n_1=|X_1|$, $n_2=|X_2|$.\n",
    "- $s_1$ and $s_2$ are the standard deviations of the corresponding samples.\n",
    "\n",
    "In the case of a two-sample t-test, the statistic $t$ is distributed according to the Student's distribution with $n_1 + n_2 - 2$ degrees of freedom: $t \\sim T(n_1 + n_2 - 2)$."
   ]
  },
  {
   "cell_type": "markdown",
   "id": "62839f1b",
   "metadata": {},
   "source": [
    "---\n",
    "\n",
    "The following cells compare the outputs of the t-test computed by hands and using special tool `stats.ttest_ind`."
   ]
  },
  {
   "cell_type": "code",
   "execution_count": 41,
   "id": "75c6c243",
   "metadata": {},
   "outputs": [],
   "source": [
    "np.random.seed(10)\n",
    "n_1, n_2 = 200, 200\n",
    "X_1, X_2 = np.random.normal(5, 2, n_1), np.random.normal(5, 2, n_2)"
   ]
  },
  {
   "cell_type": "markdown",
   "id": "eb420c40",
   "metadata": {},
   "source": [
    "The following cell presents the procedure for computing the t-statistic with numpy and p-value using the cumulative distribution function."
   ]
  },
  {
   "cell_type": "code",
   "execution_count": 45,
   "id": "32a2cb8d",
   "metadata": {},
   "outputs": [
    {
     "data": {
      "text/plain": [
       "(0.48741835388636506, 0.6262302474629055)"
      ]
     },
     "execution_count": 45,
     "metadata": {},
     "output_type": "execute_result"
    }
   ],
   "source": [
    "s_1 = np.std(X_1, ddof=1)\n",
    "s_2 = np.std(X_2, ddof=1)\n",
    "diff = (np.mean(X_1) - np.mean(X_2))\n",
    "std = (np.sqrt(((s_1 ** 2) / n_1) + ((s_2 ** 2) / n_2)))\n",
    "\n",
    "t_stat = diff / std\n",
    "p_value = 2*stats.t.cdf(-np.abs(t_stat), n_1 + n_2 - 2)\n",
    "float(t_stat), float(p_value)"
   ]
  },
  {
   "cell_type": "markdown",
   "id": "e71f3493",
   "metadata": {},
   "source": [
    "The same output was achieved using the `stats.ttest_ind` function."
   ]
  },
  {
   "cell_type": "code",
   "execution_count": 46,
   "id": "53ac4bf6",
   "metadata": {},
   "outputs": [
    {
     "data": {
      "text/plain": [
       "(0.48741835388636506, 0.6262310310013004)"
      ]
     },
     "execution_count": 46,
     "metadata": {},
     "output_type": "execute_result"
    }
   ],
   "source": [
    "statisitics, p_value = stats.ttest_ind(X_1, X_2, equal_var=False)\n",
    "float(statisitics), float(p_value)"
   ]
  },
  {
   "cell_type": "markdown",
   "id": "b6ab82d3",
   "metadata": {},
   "source": [
    "## Paired samples\n",
    "\n",
    "Paired samples assume that there is a single group of objects being observed, and that the mean of their measurements changes under different conditions or over time.\n",
    "\n",
    "* $X_1$, $X_2$: sets of observations under two conditions.\n",
    "* $x_{i1} \\in X_1$: the $i$-th observation from the first condition.\n",
    "* $x_{i2} \\in X_2$: the $i$-th observation from the second condition.\n",
    "\n",
    "Since $X_1$ and $X_2$ are related (i.e., paired), the standard two-sample t-test is not appropriate. Instead, the problem can be reduced to a one-sample t-test by computing the differences $\\delta_i = x_{i1} - x_{i2}$ and testing the null hypothesis $H_0$: the mean of $\\delta_i$ is equal to zero."
   ]
  }
 ],
 "metadata": {
  "kernelspec": {
   "display_name": "knowledge (3.13.5)",
   "language": "python",
   "name": "python3"
  },
  "language_info": {
   "codemirror_mode": {
    "name": "ipython",
    "version": 3
   },
   "file_extension": ".py",
   "mimetype": "text/x-python",
   "name": "python",
   "nbconvert_exporter": "python",
   "pygments_lexer": "ipython3",
   "version": "3.13.5"
  }
 },
 "nbformat": 4,
 "nbformat_minor": 5
}
