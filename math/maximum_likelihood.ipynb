{
 "cells": [
  {
   "cell_type": "markdown",
   "id": "10b37092-8231-4986-9bc1-720527de31b0",
   "metadata": {},
   "source": [
    "# Maximum likelihood\n",
    "\n",
    "The maximum likelihood method allows us to estimate the most appropriate parameters of the selected distribution for the data obtained."
   ]
  },
  {
   "cell_type": "markdown",
   "id": "c741a595-6b79-40f2-845f-c456b9d93abc",
   "metadata": {},
   "source": [
    "## Idea"
   ]
  },
  {
   "cell_type": "markdown",
   "id": "82856b01-7772-41e8-b040-98d0688e5575",
   "metadata": {},
   "source": [
    "Let we selected some distribution $D(\\overline{\\theta})$. Where $\\overline{\\theta} = (\\theta_1, \\theta_2, ..., \\theta_k)$ parameters of $D$. We need to find such a $\\overline{\\theta}^*$ that allows us to get the closest distribution to the observed data. \n",
    "\n",
    "What do we mean by \"closest distribution\"? According to the maximum likelihood method, the closest distribution is the distribution such that observed values are most likely to be observed when drawn from that distribution."
   ]
  },
  {
   "cell_type": "markdown",
   "id": "9aee8fa9-1602-4dc3-a17d-b3e6db591e3c",
   "metadata": {},
   "source": [
    "If we have chosen parameters $\\overline{\\theta}$, the probability that our values are taken from this distribution can be written as:\n",
    "\n",
    "$$L(X^n, \\overline{\\theta})=\\prod_{i =1}^n f(x_i, \\overline{\\theta})$$\n",
    "\n",
    "Where $f(x_i, \\overline{\\theta})$ - probability density function of the studied distribution at the point $x_i$."
   ]
  },
  {
   "cell_type": "markdown",
   "id": "1373bffd-e546-48ba-a63d-1fed4a48df39",
   "metadata": {},
   "source": [
    "So we need to find $\\overline{\\theta}^*$ such that $L(X^n, \\overline{\\theta})$ is minimal. So we need to find x such that L is minimal. We have arrived at an optimisation problem which can be formally written as follows:\n",
    "\n",
    "$$\\overline{\\theta}^* = argmax_{\\overline{\\theta}}[L(X^n, \\overline{\\theta})]$$\n",
    "\n",
    "In this way, the distribution $D(\\overline{\\theta}^*)$ will best describe the observed sample in the sense of the maximum likelihood method."
   ]
  },
  {
   "cell_type": "markdown",
   "id": "5ba2d059-4db8-4576-8f22-8ff74c5f1bb3",
   "metadata": {},
   "source": [
    "## Logarithmisation"
   ]
  },
  {
   "cell_type": "markdown",
   "id": "9225762a-30ac-4d33-94d4-81fa237ba574",
   "metadata": {},
   "source": [
    "Use the logarithm properties:\n",
    "- $log(ab) = log(a) + log(b)$ - allows us to change the product to the sum;\n",
    "- $a>b \\Leftrightarrow log(a) > log(b)$ - allows you to logarithmise the function being optimised without changing the solution.\n",
    "\n",
    "So:\n",
    "\n",
    "$$argmax_{\\overline{\\theta}}[L(X^n, \\overline{\\theta})] = argmax_{\\overline{\\theta}}[log\\{L(X^N, \\overline{\\theta})\\}].$$\n",
    "\n",
    "And\n",
    "\n",
    "$$log\\left\\{\\prod_{i =1}^n f(x_i, \\overline{\\theta})\\right\\} = \\sum_{i=1}^n log[f(x_i, \\overline{\\theta})].$$\n",
    "\n",
    "This is a common operation for this task because it's easier to work with the sum than with the product when differentiating."
   ]
  }
 ],
 "metadata": {
  "kernelspec": {
   "display_name": "Python 3 (ipykernel)",
   "language": "python",
   "name": "python3"
  },
  "language_info": {
   "codemirror_mode": {
    "name": "ipython",
    "version": 3
   },
   "file_extension": ".py",
   "mimetype": "text/x-python",
   "name": "python",
   "nbconvert_exporter": "python",
   "pygments_lexer": "ipython3",
   "version": "3.10.12"
  }
 },
 "nbformat": 4,
 "nbformat_minor": 5
}
