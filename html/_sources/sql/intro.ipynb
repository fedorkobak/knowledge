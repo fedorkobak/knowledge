{
 "cells": [
  {
   "cell_type": "markdown",
   "id": "ffd24ada-9dc0-4419-a324-a7554c9f8f33",
   "metadata": {},
   "source": [
    "# Intro\n",
    "\n",
    "In this section, there are many examples, most of which are run in Docker. This page shows typical tricks used to run and manipulate SQL servers from a Docker container."
   ]
  },
  {
   "cell_type": "markdown",
   "id": "4fe97d23",
   "metadata": {},
   "source": [
    "## Postgres"
   ]
  },
  {
   "cell_type": "markdown",
   "id": "b258a0e4",
   "metadata": {},
   "source": [
    "### Server\n",
    "\n",
    "A key feature of running a PostgreSQL container is that you must pass the `POSTGRES_PASSWORD` environment variable. Find out more on the [PostgreSQL page on Docker Hub](https://hub.docker.com/_/postgres)."
   ]
  },
  {
   "cell_type": "markdown",
   "id": "573991b3",
   "metadata": {},
   "source": [
    "---\n",
    "\n",
    "After running the following cell, you'll have a Docker container named `intro_example_pg`."
   ]
  },
  {
   "cell_type": "code",
   "execution_count": null,
   "id": "ac17aa51",
   "metadata": {
    "vscode": {
     "languageId": "shellscript"
    }
   },
   "outputs": [],
   "source": [
    "docker run --rm -d\\\n",
    "    -e POSTGRES_PASSWORD=postgres\\\n",
    "    --name intro_example_pg\\\n",
    "    postgres:15.4 &> /dev/null"
   ]
  },
  {
   "cell_type": "markdown",
   "id": "b605aaea",
   "metadata": {},
   "source": [
    "**Note**: Don't forget to stop the containers afterward."
   ]
  },
  {
   "cell_type": "code",
   "execution_count": null,
   "id": "f46f6c17",
   "metadata": {
    "vscode": {
     "languageId": "shellscript"
    }
   },
   "outputs": [
    {
     "name": "stdout",
     "output_type": "stream",
     "text": [
      "intro_example_pg\n"
     ]
    }
   ],
   "source": [
    "docker stop intro_example_pg"
   ]
  },
  {
   "cell_type": "markdown",
   "id": "82124683",
   "metadata": {},
   "source": [
    "### Commands\n",
    "\n",
    "In the case of PostgreSQL, to communicate with the container, you have to use the `psql` tool. It requires specifying the user with the `-U` option. The `exec` command must be called in interactive mode (using the `-i` option). To run scripts with multiple commands, you can use heredoc syntax."
   ]
  },
  {
   "cell_type": "markdown",
   "id": "04613b81",
   "metadata": {},
   "source": [
    "---\n",
    "\n",
    "The following cell demonstrates how to execute SELECT statements in the newly created containers."
   ]
  },
  {
   "cell_type": "code",
   "execution_count": null,
   "id": "2fd95c7b",
   "metadata": {
    "vscode": {
     "languageId": "shellscript"
    }
   },
   "outputs": [
    {
     "name": "stdout",
     "output_type": "stream",
     "text": [
      " v10 | v20 | v30 | v40 \n",
      "-----+-----+-----+-----\n",
      "  10 |  20 |  30 |  40\n",
      "(1 row)\n",
      "\n",
      " v10 | v20 | v30 | v40 \n",
      "-----+-----+-----+-----\n",
      "  10 |  20 |  30 |  40\n",
      "(1 row)\n",
      "\n"
     ]
    }
   ],
   "source": [
    "docker exec -i intro_example_pg psql -U postgres << EOF\n",
    "SELECT 10 v10, 20 v20, 30 v30, 40 v40;\n",
    "SELECT 10 v10, 20 v20, 30 v30, 40 v40;\n",
    "EOF"
   ]
  },
  {
   "cell_type": "markdown",
   "id": "997514a1",
   "metadata": {},
   "source": [
    "### Initialisation scripts\n",
    "\n",
    "If you need to organise the initialisation at container startup, you can mount a folder containing `*.sql` and `*.sh` initialisation scripts on `/docker-entrypoint-initdb.d`. This will execute the files in `/docker-entrypoint-initdb.d`."
   ]
  },
  {
   "cell_type": "markdown",
   "id": "227378e8",
   "metadata": {},
   "source": [
    "---\n",
    "\n",
    "In the following example, I start the docker container with the folder mounted as `/docker-entrypoint-initdb.d`. This folder only contains a [create_table.sql](build_container/initialisation_scripts/create_table.sql) which creates an empty `main_table`. Then I check the existence of the table that should be created by \n",
    "`create_table.sql`."
   ]
  },
  {
   "cell_type": "code",
   "execution_count": null,
   "id": "00fd7c21",
   "metadata": {
    "vscode": {
     "languageId": "shellscript"
    }
   },
   "outputs": [
    {
     "name": "stdout",
     "output_type": "stream",
     "text": [
      "=====CHECK TABLE=====\n",
      "           List of relations\n",
      " Schema |    Name    | Type  |  Owner   \n",
      "--------+------------+-------+----------\n",
      " public | main_table | table | postgres\n",
      "(1 row)\n",
      "\n"
     ]
    }
   ],
   "source": [
    "docker run --rm -d\\\n",
    "    -v ./build_container/initialisation_scripts:/docker-entrypoint-initdb.d\\\n",
    "    -e POSTGRES_PASSWORD=docker_app \\\n",
    "    --name init_scripts_example \\\n",
    "    postgres:15.4 &> /dev/null\n",
    "\n",
    "sleep 5\n",
    "echo \"=====CHECK TABLE=====\"\n",
    "docker exec init_scripts_example bash -c \"psql -U postgres -d postgres -c \\\"\\dt\\\"\"\n",
    "\n",
    "docker stop  init_scripts_example &> /dev/null"
   ]
  },
  {
   "cell_type": "markdown",
   "id": "1bbbaa55",
   "metadata": {},
   "source": [
    "## Clickhouse"
   ]
  },
  {
   "cell_type": "markdown",
   "id": "6beef6bf",
   "metadata": {},
   "source": [
    "### Server\n",
    "\n",
    "Creating a ClickHouse server is really straightforward."
   ]
  },
  {
   "cell_type": "markdown",
   "id": "0488c887",
   "metadata": {},
   "source": [
    "---\n",
    "\n",
    "The following cell creates a new Docker container named `intro_example_click`."
   ]
  },
  {
   "cell_type": "code",
   "execution_count": null,
   "id": "56d375ff",
   "metadata": {
    "vscode": {
     "languageId": "shellscript"
    }
   },
   "outputs": [
    {
     "name": "stdout",
     "output_type": "stream",
     "text": [
      "60c105781eeb22399d5446ef8e7114ee86d0da60008f6b2dc37b676287737874\n"
     ]
    }
   ],
   "source": [
    "docker run -d --rm\\\n",
    "    --name intro_example_click\\\n",
    "    clickhouse/clickhouse-server:24"
   ]
  },
  {
   "cell_type": "markdown",
   "id": "ea50995b",
   "metadata": {},
   "source": [
    "**Note**: Don't forget to stop the container afterward."
   ]
  },
  {
   "cell_type": "code",
   "execution_count": null,
   "id": "5c6f18fd",
   "metadata": {
    "vscode": {
     "languageId": "shellscript"
    }
   },
   "outputs": [
    {
     "name": "stdout",
     "output_type": "stream",
     "text": [
      "intro_example_click\n"
     ]
    }
   ],
   "source": [
    "docker stop intro_example_click"
   ]
  },
  {
   "cell_type": "markdown",
   "id": "9615acd4",
   "metadata": {},
   "source": [
    "### Commands\n",
    "\n",
    "In the case of ClickHouse, access to the database is achieved through the `clickhouse-client` tool. To pass a command to it, you need to use the `-q` option, followed by a string literal that defines the script to be executed."
   ]
  },
  {
   "cell_type": "markdown",
   "id": "af8e3cfa",
   "metadata": {},
   "source": [
    "---\n",
    "\n",
    "The following cell shows how to execute commands in ClickHouse through Docker."
   ]
  },
  {
   "cell_type": "code",
   "execution_count": null,
   "id": "1d43d0bd",
   "metadata": {
    "vscode": {
     "languageId": "shellscript"
    }
   },
   "outputs": [
    {
     "name": "stdout",
     "output_type": "stream",
     "text": [
      "   ┏━━━━━┳━━━━━┳━━━━━┳━━━━━┓\n",
      "   ┃ v10 ┃ v20 ┃ v30 ┃ v40 ┃\n",
      "   ┡━━━━━╇━━━━━╇━━━━━╇━━━━━┩\n",
      "1. │  10 │  20 │  30 │  40 │\n",
      "   └─────┴─────┴─────┴─────┘\n",
      "   ┏━━━━━┳━━━━━┳━━━━━┳━━━━━┓\n",
      "   ┃ v10 ┃ v20 ┃ v30 ┃ v40 ┃\n",
      "   ┡━━━━━╇━━━━━╇━━━━━╇━━━━━┩\n",
      "1. │  10 │  20 │  30 │  40 │\n",
      "   └─────┴─────┴─────┴─────┘\n"
     ]
    }
   ],
   "source": [
    "docker exec intro_example_click clickhouse-client -q \"\n",
    "SELECT 10 v10, 20 v20, 30 v30, 40 v40 FORMAT Pretty;\n",
    "SELECT 10 v10, 20 v20, 30 v30, 40 v40 FORMAT Pretty;\n",
    "\""
   ]
  },
  {
   "cell_type": "markdown",
   "id": "ebed3904",
   "metadata": {},
   "source": [
    "## Sqlite"
   ]
  },
  {
   "cell_type": "markdown",
   "id": "6b8e4462",
   "metadata": {},
   "source": [
    "### Server\n",
    "\n",
    "To run `sqlite` container we are using `keinos/sqlite` image."
   ]
  },
  {
   "cell_type": "code",
   "execution_count": 10,
   "id": "56a32177",
   "metadata": {
    "vscode": {
     "languageId": "shellscript"
    }
   },
   "outputs": [
    {
     "name": "stdout",
     "output_type": "stream",
     "text": [
      "0b43efc7499e85dad2b4814d94a78b815651a14129d042929fead95c3d3af7ce\n"
     ]
    }
   ],
   "source": [
    "docker run --rm -itd --name intro_example_sqlite keinos/sqlite3"
   ]
  },
  {
   "cell_type": "markdown",
   "id": "5d3ec36d",
   "metadata": {},
   "source": [
    "**Note**: Don't forget to stop the container afterward."
   ]
  },
  {
   "cell_type": "code",
   "execution_count": 9,
   "id": "edacccee",
   "metadata": {
    "vscode": {
     "languageId": "shellscript"
    }
   },
   "outputs": [
    {
     "name": "stdout",
     "output_type": "stream",
     "text": [
      "intro_example_sqlite\n"
     ]
    }
   ],
   "source": [
    "docker stop intro_example_sqlite"
   ]
  },
  {
   "cell_type": "markdown",
   "id": "0b1affe4",
   "metadata": {},
   "source": [
    "### Run command\n",
    "\n",
    "To run a command from the terminal in SQLite, use the `-cmd` parameter and pass the query to it."
   ]
  },
  {
   "cell_type": "markdown",
   "id": "2ec7d287",
   "metadata": {},
   "source": [
    "---\n",
    "\n",
    "The following cell shows the execution of the `SELECT 'Hello world'` query."
   ]
  },
  {
   "cell_type": "code",
   "execution_count": 17,
   "id": "543e1273",
   "metadata": {
    "vscode": {
     "languageId": "shellscript"
    }
   },
   "outputs": [
    {
     "name": "stdout",
     "output_type": "stream",
     "text": [
      "Hello world\n"
     ]
    }
   ],
   "source": [
    "docker exec intro_example_sqlite sqlite3 -cmd \"SELECT 'Hello world';\""
   ]
  },
  {
   "cell_type": "markdown",
   "id": "8879e93a",
   "metadata": {},
   "source": [
    "It's convenient to specify the `-box` option with the `sqlite3` command — the results of the queries will be printed in a more readable format."
   ]
  },
  {
   "cell_type": "markdown",
   "id": "ca76cdc3",
   "metadata": {},
   "source": [
    "---\n",
    "\n",
    "The following cell shows creating and querying a table in SQLite:"
   ]
  },
  {
   "cell_type": "code",
   "execution_count": 23,
   "id": "c2a4c6c0",
   "metadata": {
    "vscode": {
     "languageId": "shellscript"
    }
   },
   "outputs": [
    {
     "name": "stdout",
     "output_type": "stream",
     "text": [
      "┌───────┬───────────┐\n",
      "│ var1  │   var2    │\n",
      "├───────┼───────────┤\n",
      "│       │ world     │\n",
      "│ hello │           │\n",
      "│       │ test line │\n",
      "└───────┴───────────┘\n"
     ]
    }
   ],
   "source": [
    "docker exec intro_example_sqlite sqlite3 -box -cmd \"\n",
    "CREATE TABLE IF NOT EXISTS tab (\n",
    "    var1 TEXT,\n",
    "    var2 TEXT\n",
    ");\n",
    "\n",
    "INSERT INTO tab (var1, var2) VALUES\n",
    "(NULL, 'world'),\n",
    "('hello', NULL),\n",
    "(NULL, 'test line');\n",
    "\n",
    "SELECT * FROM tab;\n",
    "\""
   ]
  }
 ],
 "metadata": {
  "kernelspec": {
   "display_name": "Bash",
   "language": "bash",
   "name": "bash"
  },
  "language_info": {
   "codemirror_mode": "shell",
   "file_extension": ".sh",
   "mimetype": "text/x-sh",
   "name": "bash"
  }
 },
 "nbformat": 4,
 "nbformat_minor": 5
}
