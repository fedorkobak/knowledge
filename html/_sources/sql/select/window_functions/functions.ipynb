{
 "cells": [
  {
   "cell_type": "markdown",
   "metadata": {},
   "source": [
    "# Functions\n",
    "\n",
    "This page describes the different types of window functions, discusses the specifics of each group, and illustrates the key features in practice."
   ]
  },
  {
   "cell_type": "markdown",
   "metadata": {},
   "source": [
    "## Ranking\n",
    "\n",
    "Ranking functions allow you to assign numbers to the elements in a partition based on specific rules. The following table provides a brief description of the ranking funcitons.\n",
    "\n",
    "| Function            | Description                                             |\n",
    "| ------------------- | ------------------------------------------------------- |\n",
    "| `ROW_NUMBER()`      | Assigns a unique number to each row.                    |\n",
    "| `RANK()`            | Assigns ranks with gaps for ties.                       |\n",
    "| `DENSE_RANK()`      | Assigns ranks without gaps for ties.                    |\n",
    "| `NTILE(n)`          | Divides rows into `n` buckets with equal sizes.         |"
   ]
  },
  {
   "cell_type": "markdown",
   "metadata": {},
   "source": [
    "---\n",
    "\n",
    "The following postgreSQL query illustrates the ranking functions applied to the frame that describing the differences between them."
   ]
  },
  {
   "cell_type": "code",
   "execution_count": 3,
   "metadata": {},
   "outputs": [
    {
     "name": "stdout",
     "output_type": "stream",
     "text": [
      "SELECT 8\n"
     ]
    },
    {
     "data": {
      "text/html": [
       "<table>\n",
       "<thead>\n",
       "<tr><th>group  </th><th style=\"text-align: right;\">  order</th><th style=\"text-align: right;\">  row_number</th><th style=\"text-align: right;\">  rank</th><th style=\"text-align: right;\">  dense_rank</th><th style=\"text-align: right;\">  ntile_2</th><th style=\"text-align: right;\">  ntile_3</th></tr>\n",
       "</thead>\n",
       "<tbody>\n",
       "<tr><td>A      </td><td style=\"text-align: right;\">      5</td><td style=\"text-align: right;\">           1</td><td style=\"text-align: right;\">     1</td><td style=\"text-align: right;\">           1</td><td style=\"text-align: right;\">        1</td><td style=\"text-align: right;\">        1</td></tr>\n",
       "<tr><td>A      </td><td style=\"text-align: right;\">      8</td><td style=\"text-align: right;\">           2</td><td style=\"text-align: right;\">     2</td><td style=\"text-align: right;\">           2</td><td style=\"text-align: right;\">        2</td><td style=\"text-align: right;\">        2</td></tr>\n",
       "<tr><td>B      </td><td style=\"text-align: right;\">      2</td><td style=\"text-align: right;\">           1</td><td style=\"text-align: right;\">     1</td><td style=\"text-align: right;\">           1</td><td style=\"text-align: right;\">        1</td><td style=\"text-align: right;\">        1</td></tr>\n",
       "<tr><td>B      </td><td style=\"text-align: right;\">      3</td><td style=\"text-align: right;\">           2</td><td style=\"text-align: right;\">     2</td><td style=\"text-align: right;\">           2</td><td style=\"text-align: right;\">        1</td><td style=\"text-align: right;\">        2</td></tr>\n",
       "<tr><td>B      </td><td style=\"text-align: right;\">      3</td><td style=\"text-align: right;\">           3</td><td style=\"text-align: right;\">     2</td><td style=\"text-align: right;\">           2</td><td style=\"text-align: right;\">        2</td><td style=\"text-align: right;\">        3</td></tr>\n",
       "<tr><td>C      </td><td style=\"text-align: right;\">      4</td><td style=\"text-align: right;\">           1</td><td style=\"text-align: right;\">     1</td><td style=\"text-align: right;\">           1</td><td style=\"text-align: right;\">        1</td><td style=\"text-align: right;\">        1</td></tr>\n",
       "<tr><td>C      </td><td style=\"text-align: right;\">      4</td><td style=\"text-align: right;\">           2</td><td style=\"text-align: right;\">     1</td><td style=\"text-align: right;\">           1</td><td style=\"text-align: right;\">        1</td><td style=\"text-align: right;\">        2</td></tr>\n",
       "<tr><td>C      </td><td style=\"text-align: right;\">      6</td><td style=\"text-align: right;\">           3</td><td style=\"text-align: right;\">     3</td><td style=\"text-align: right;\">           2</td><td style=\"text-align: right;\">        2</td><td style=\"text-align: right;\">        3</td></tr>\n",
       "</tbody>\n",
       "</table>"
      ],
      "text/latex": [
       "\\begin{tabular}{lrrrrrr}\n",
       "\\toprule\n",
       " group   &   order &   row\\_number &   rank &   dense\\_rank &   ntile\\_2 &   ntile\\_3 \\\\\n",
       "\\midrule\n",
       " A       &       5 &            1 &      1 &            1 &         1 &         1 \\\\\n",
       " A       &       8 &            2 &      2 &            2 &         2 &         2 \\\\\n",
       " B       &       2 &            1 &      1 &            1 &         1 &         1 \\\\\n",
       " B       &       3 &            2 &      2 &            2 &         1 &         2 \\\\\n",
       " B       &       3 &            3 &      2 &            2 &         2 &         3 \\\\\n",
       " C       &       4 &            1 &      1 &            1 &         1 &         1 \\\\\n",
       " C       &       4 &            2 &      1 &            1 &         1 &         2 \\\\\n",
       " C       &       6 &            3 &      3 &            2 &         2 &         3 \\\\\n",
       "\\bottomrule\n",
       "\\end{tabular}"
      ],
      "text/plain": [
       "group      order    row_number    rank    dense_rank    ntile_2    ntile_3\n",
       "-------  -------  ------------  ------  ------------  ---------  ---------\n",
       "A              5             1       1             1          1          1\n",
       "A              8             2       2             2          2          2\n",
       "B              2             1       1             1          1          1\n",
       "B              3             2       2             2          1          2\n",
       "B              3             3       2             2          2          3\n",
       "C              4             1       1             1          1          1\n",
       "C              4             2       1             1          1          2\n",
       "C              6             3       3             2          2          3"
      ]
     },
     "metadata": {},
     "output_type": "display_data"
    }
   ],
   "source": [
    "--postgreSQL\n",
    "SELECT\n",
    "    *,\n",
    "    ROW_NUMBER() OVER (PARTITION BY \"group\" ORDER BY \"order\"),\n",
    "    RANK() OVER (PARTITION BY \"group\" ORDER BY \"order\"),\n",
    "    DENSE_RANK() OVER (PARTITION BY \"group\" ORDER BY \"order\"),\n",
    "    NTILE(2) OVER (PARTITION BY \"group\" ORDER BY \"order\") AS ntile_2,\n",
    "    NTILE(3) OVER (PARTITION BY \"group\" ORDER BY \"order\") AS ntile_3\n",
    "FROM (\n",
    "    VALUES\n",
    "    ('C', 4),\n",
    "    ('B', 2),\n",
    "    ('B', 3),\n",
    "    ('C', 4),\n",
    "    ('A', 5),\n",
    "    ('C', 6),\n",
    "    ('B', 3),\n",
    "    ('A', 8)\n",
    ") AS temp(\"group\", \"order\");"
   ]
  },
  {
   "cell_type": "markdown",
   "metadata": {},
   "source": [
    "## Aggregate\n",
    "\n",
    "Aggregate window functions work just like regular aggregation functions, but in the context of window functions, they don't collapse the table by the aggregation variable. The following table lists the aggregate window functions and their descriptions.\n",
    "\n",
    "| Function            | Description                                             |\n",
    "| ------------------- | ------------------------------------------------------- |\n",
    "| `SUM(column)`       | Returns the cumulative or grouped sum.                  |\n",
    "| `AVG(column)`       | Returns the average.                                    |\n",
    "| `MIN(column)`       | Returns the minimum value.                              |\n",
    "| `MAX(column)`       | Returns the maximum value.                              |\n",
    "| `COUNT(column)`     | Returns the number of rows.                             |\n"
   ]
  },
  {
   "cell_type": "markdown",
   "metadata": {},
   "source": [
    "---\n",
    "\n",
    "The next cell shows the aggregation functions applied to the corresponding dataset."
   ]
  },
  {
   "cell_type": "code",
   "execution_count": 1,
   "metadata": {},
   "outputs": [
    {
     "name": "stdout",
     "output_type": "stream",
     "text": [
      "SELECT 8\n"
     ]
    },
    {
     "data": {
      "text/html": [
       "<table>\n",
       "<thead>\n",
       "<tr><th>group  </th><th style=\"text-align: right;\">  value</th><th style=\"text-align: right;\">  sum</th><th style=\"text-align: right;\">    avg</th><th style=\"text-align: right;\">  min</th><th style=\"text-align: right;\">  max</th><th style=\"text-align: right;\">  count</th></tr>\n",
       "</thead>\n",
       "<tbody>\n",
       "<tr><td>A      </td><td style=\"text-align: right;\">      8</td><td style=\"text-align: right;\">   13</td><td style=\"text-align: right;\">6.5    </td><td style=\"text-align: right;\">    5</td><td style=\"text-align: right;\">    8</td><td style=\"text-align: right;\">      2</td></tr>\n",
       "<tr><td>A      </td><td style=\"text-align: right;\">      5</td><td style=\"text-align: right;\">   13</td><td style=\"text-align: right;\">6.5    </td><td style=\"text-align: right;\">    5</td><td style=\"text-align: right;\">    8</td><td style=\"text-align: right;\">      2</td></tr>\n",
       "<tr><td>B      </td><td style=\"text-align: right;\">      3</td><td style=\"text-align: right;\">    8</td><td style=\"text-align: right;\">2.66667</td><td style=\"text-align: right;\">    2</td><td style=\"text-align: right;\">    3</td><td style=\"text-align: right;\">      3</td></tr>\n",
       "<tr><td>B      </td><td style=\"text-align: right;\">      3</td><td style=\"text-align: right;\">    8</td><td style=\"text-align: right;\">2.66667</td><td style=\"text-align: right;\">    2</td><td style=\"text-align: right;\">    3</td><td style=\"text-align: right;\">      3</td></tr>\n",
       "<tr><td>B      </td><td style=\"text-align: right;\">      2</td><td style=\"text-align: right;\">    8</td><td style=\"text-align: right;\">2.66667</td><td style=\"text-align: right;\">    2</td><td style=\"text-align: right;\">    3</td><td style=\"text-align: right;\">      3</td></tr>\n",
       "<tr><td>C      </td><td style=\"text-align: right;\">      4</td><td style=\"text-align: right;\">   14</td><td style=\"text-align: right;\">4.66667</td><td style=\"text-align: right;\">    4</td><td style=\"text-align: right;\">    6</td><td style=\"text-align: right;\">      3</td></tr>\n",
       "<tr><td>C      </td><td style=\"text-align: right;\">      4</td><td style=\"text-align: right;\">   14</td><td style=\"text-align: right;\">4.66667</td><td style=\"text-align: right;\">    4</td><td style=\"text-align: right;\">    6</td><td style=\"text-align: right;\">      3</td></tr>\n",
       "<tr><td>C      </td><td style=\"text-align: right;\">      6</td><td style=\"text-align: right;\">   14</td><td style=\"text-align: right;\">4.66667</td><td style=\"text-align: right;\">    4</td><td style=\"text-align: right;\">    6</td><td style=\"text-align: right;\">      3</td></tr>\n",
       "</tbody>\n",
       "</table>"
      ],
      "text/latex": [
       "\\begin{tabular}{lrrrrrr}\n",
       "\\toprule\n",
       " group   &   value &   sum &     avg &   min &   max &   count \\\\\n",
       "\\midrule\n",
       " A       &       8 &    13 & 6.5     &     5 &     8 &       2 \\\\\n",
       " A       &       5 &    13 & 6.5     &     5 &     8 &       2 \\\\\n",
       " B       &       3 &     8 & 2.66667 &     2 &     3 &       3 \\\\\n",
       " B       &       3 &     8 & 2.66667 &     2 &     3 &       3 \\\\\n",
       " B       &       2 &     8 & 2.66667 &     2 &     3 &       3 \\\\\n",
       " C       &       4 &    14 & 4.66667 &     4 &     6 &       3 \\\\\n",
       " C       &       4 &    14 & 4.66667 &     4 &     6 &       3 \\\\\n",
       " C       &       6 &    14 & 4.66667 &     4 &     6 &       3 \\\\\n",
       "\\bottomrule\n",
       "\\end{tabular}"
      ],
      "text/plain": [
       "group      value    sum      avg    min    max    count\n",
       "-------  -------  -----  -------  -----  -----  -------\n",
       "A              8     13  6.5          5      8        2\n",
       "A              5     13  6.5          5      8        2\n",
       "B              3      8  2.66667      2      3        3\n",
       "B              3      8  2.66667      2      3        3\n",
       "B              2      8  2.66667      2      3        3\n",
       "C              4     14  4.66667      4      6        3\n",
       "C              4     14  4.66667      4      6        3\n",
       "C              6     14  4.66667      4      6        3"
      ]
     },
     "metadata": {},
     "output_type": "display_data"
    }
   ],
   "source": [
    "--postgreSQL\n",
    "SELECT\n",
    "    *,\n",
    "    SUM(\"value\") OVER (PARTITION BY \"group\"),\n",
    "    AVG(\"value\") OVER (PARTITION BY \"group\"),\n",
    "    MIN(\"value\") OVER (PARTITION BY \"group\"),\n",
    "    MAX(\"value\") OVER (PARTITION BY \"group\"),\n",
    "    COUNT(\"value\") OVER (PARTITION BY \"group\")\n",
    "FROM (\n",
    "    VALUES\n",
    "    ('C', 4),\n",
    "    ('B', 2),\n",
    "    ('B', 3),\n",
    "    ('C', 4),\n",
    "    ('A', 5),\n",
    "    ('C', 6),\n",
    "    ('B', 3),\n",
    "    ('A', 8)\n",
    ") AS temp(\"group\", \"value\");"
   ]
  },
  {
   "cell_type": "markdown",
   "metadata": {},
   "source": [
    "## Statistical\n",
    "\n",
    "Statistical (analytical) functions vary depending on the SQL dialect and sometimes are considered part of a different group of functions.\n",
    "\n",
    "| Function            | Description                                             |\n",
    "| ------------------- | ------------------------------------------------------- |\n",
    "| `CUME_DIST()`       | Cumulative distribution of a value in its partition.    |\n",
    "| `PERCENT_RANK()`    | Percent rank of a value in its partition.               |\n",
    "| `PERCENTILE_CONT()` | Continuous percentile (interpolated).                   |\n",
    "| `PERCENTILE_DISC()` | Discrete percentile (actual row value).                 |\n"
   ]
  },
  {
   "cell_type": "markdown",
   "metadata": {},
   "source": [
    "---\n",
    "\n",
    "The following cell demonstrates some of the functions in action in PostgreSQl.\n",
    "\n",
    "**Note**. The `PERCENTILE_COUNT` and `PERCENTILE_DISC` functions are omitted because they are not supported by PostgreSQL in the context of window functions."
   ]
  },
  {
   "cell_type": "code",
   "execution_count": 1,
   "metadata": {},
   "outputs": [
    {
     "name": "stdout",
     "output_type": "stream",
     "text": [
      "SELECT 8\n"
     ]
    },
    {
     "data": {
      "text/html": [
       "<table>\n",
       "<thead>\n",
       "<tr><th style=\"text-align: right;\">  order</th><th>group  </th><th style=\"text-align: right;\">  value</th><th style=\"text-align: right;\">  cume_dist</th><th style=\"text-align: right;\">  percent_rank</th></tr>\n",
       "</thead>\n",
       "<tbody>\n",
       "<tr><td style=\"text-align: right;\">      3</td><td>A      </td><td style=\"text-align: right;\">      5</td><td style=\"text-align: right;\">   0.5     </td><td style=\"text-align: right;\">           0  </td></tr>\n",
       "<tr><td style=\"text-align: right;\">      7</td><td>A      </td><td style=\"text-align: right;\">      8</td><td style=\"text-align: right;\">   1       </td><td style=\"text-align: right;\">           1  </td></tr>\n",
       "<tr><td style=\"text-align: right;\">      1</td><td>B      </td><td style=\"text-align: right;\">      3</td><td style=\"text-align: right;\">   0.333333</td><td style=\"text-align: right;\">           0  </td></tr>\n",
       "<tr><td style=\"text-align: right;\">      3</td><td>B      </td><td style=\"text-align: right;\">      2</td><td style=\"text-align: right;\">   0.666667</td><td style=\"text-align: right;\">           0.5</td></tr>\n",
       "<tr><td style=\"text-align: right;\">      6</td><td>B      </td><td style=\"text-align: right;\">      7</td><td style=\"text-align: right;\">   1       </td><td style=\"text-align: right;\">           1  </td></tr>\n",
       "<tr><td style=\"text-align: right;\">      3</td><td>C      </td><td style=\"text-align: right;\">      1</td><td style=\"text-align: right;\">   0.333333</td><td style=\"text-align: right;\">           0  </td></tr>\n",
       "<tr><td style=\"text-align: right;\">      4</td><td>C      </td><td style=\"text-align: right;\">      4</td><td style=\"text-align: right;\">   0.666667</td><td style=\"text-align: right;\">           0.5</td></tr>\n",
       "<tr><td style=\"text-align: right;\">      5</td><td>C      </td><td style=\"text-align: right;\">      6</td><td style=\"text-align: right;\">   1       </td><td style=\"text-align: right;\">           1  </td></tr>\n",
       "</tbody>\n",
       "</table>"
      ],
      "text/latex": [
       "\\begin{tabular}{rlrrr}\n",
       "\\toprule\n",
       "   order & group   &   value &   cume\\_dist &   percent\\_rank \\\\\n",
       "\\midrule\n",
       "       3 & A       &       5 &    0.5      &            0   \\\\\n",
       "       7 & A       &       8 &    1        &            1   \\\\\n",
       "       1 & B       &       3 &    0.333333 &            0   \\\\\n",
       "       3 & B       &       2 &    0.666667 &            0.5 \\\\\n",
       "       6 & B       &       7 &    1        &            1   \\\\\n",
       "       3 & C       &       1 &    0.333333 &            0   \\\\\n",
       "       4 & C       &       4 &    0.666667 &            0.5 \\\\\n",
       "       5 & C       &       6 &    1        &            1   \\\\\n",
       "\\bottomrule\n",
       "\\end{tabular}"
      ],
      "text/plain": [
       "  order  group      value    cume_dist    percent_rank\n",
       "-------  -------  -------  -----------  --------------\n",
       "      3  A              5     0.5                  0\n",
       "      7  A              8     1                    1\n",
       "      1  B              3     0.333333             0\n",
       "      3  B              2     0.666667             0.5\n",
       "      6  B              7     1                    1\n",
       "      3  C              1     0.333333             0\n",
       "      4  C              4     0.666667             0.5\n",
       "      5  C              6     1                    1"
      ]
     },
     "metadata": {},
     "output_type": "display_data"
    }
   ],
   "source": [
    "--postgreSQL\n",
    "SELECT\n",
    "    *,\n",
    "    CUME_DIST() OVER (PARTITION BY \"group\" ORDER BY \"order\"),\n",
    "    PERCENT_RANK() OVER (PARTITION BY \"group\" ORDER BY \"order\")\n",
    "FROM (\n",
    "    VALUES\n",
    "    (3, 'C', 1),\n",
    "    (3, 'B', 2),\n",
    "    (1, 'B', 3),\n",
    "    (4, 'C', 4),\n",
    "    (3, 'A', 5),\n",
    "    (5, 'C', 6),\n",
    "    (6, 'B', 7),\n",
    "    (7, 'A', 8)\n",
    ") AS temp(\"order\", \"group\", \"value\")\n",
    "ORDER BY \"group\", \"order\";"
   ]
  },
  {
   "cell_type": "markdown",
   "metadata": {},
   "source": [
    "## Value\n",
    "\n",
    "Value window functions (*рус. функции смещения*) allow each row in a group to access a value from another row within the same group. The following table shows the basic window functions.\n",
    "\n",
    "| Function            | Description                                             |\n",
    "| ------------------- | ------------------------------------------------------- |\n",
    "| `LAG(column, n)`    | Returns the value from `n` rows before the current row. |\n",
    "| `LEAD(column, n)`   | Returns the value from `n` rows after the current row.  |\n",
    "| `FIRST_VALUE()`     | Returns the first value in the window frame.            |\n",
    "| `LAST_VALUE()`      | Returns the last value in the window frame.             |\n",
    "| `NTH_VALUE(col, n)` | Returns the `n`-th value in the window frame.           |\n",
    "\n",
    "For more details on the value functions in SQL, check out the [value](functions/value.ipynb) page."
   ]
  },
  {
   "cell_type": "markdown",
   "metadata": {},
   "source": [
    "---\n",
    "\n",
    "The following cell shows how value window functions works in the postgreSQL."
   ]
  },
  {
   "cell_type": "code",
   "execution_count": null,
   "metadata": {},
   "outputs": [
    {
     "name": "stdout",
     "output_type": "stream",
     "text": [
      "SELECT 8\n"
     ]
    },
    {
     "data": {
      "text/html": [
       "<table>\n",
       "<thead>\n",
       "<tr><th style=\"text-align: right;\">  order</th><th>group  </th><th style=\"text-align: right;\">  value</th><th style=\"text-align: right;\">  lag</th><th style=\"text-align: right;\">  lead</th><th style=\"text-align: right;\">  first_value</th><th style=\"text-align: right;\">  last_value</th><th style=\"text-align: right;\">  nth_value</th></tr>\n",
       "</thead>\n",
       "<tbody>\n",
       "<tr><td style=\"text-align: right;\">      3</td><td>A      </td><td style=\"text-align: right;\">      5</td><td style=\"text-align: right;\">     </td><td style=\"text-align: right;\">     8</td><td style=\"text-align: right;\">            5</td><td style=\"text-align: right;\">           5</td><td style=\"text-align: right;\">           </td></tr>\n",
       "<tr><td style=\"text-align: right;\">      7</td><td>A      </td><td style=\"text-align: right;\">      8</td><td style=\"text-align: right;\">    5</td><td style=\"text-align: right;\">      </td><td style=\"text-align: right;\">            5</td><td style=\"text-align: right;\">           8</td><td style=\"text-align: right;\">          8</td></tr>\n",
       "<tr><td style=\"text-align: right;\">      1</td><td>B      </td><td style=\"text-align: right;\">      3</td><td style=\"text-align: right;\">     </td><td style=\"text-align: right;\">     2</td><td style=\"text-align: right;\">            3</td><td style=\"text-align: right;\">           3</td><td style=\"text-align: right;\">           </td></tr>\n",
       "<tr><td style=\"text-align: right;\">      3</td><td>B      </td><td style=\"text-align: right;\">      2</td><td style=\"text-align: right;\">    3</td><td style=\"text-align: right;\">     7</td><td style=\"text-align: right;\">            3</td><td style=\"text-align: right;\">           2</td><td style=\"text-align: right;\">          2</td></tr>\n",
       "<tr><td style=\"text-align: right;\">      6</td><td>B      </td><td style=\"text-align: right;\">      7</td><td style=\"text-align: right;\">    2</td><td style=\"text-align: right;\">      </td><td style=\"text-align: right;\">            3</td><td style=\"text-align: right;\">           7</td><td style=\"text-align: right;\">          2</td></tr>\n",
       "<tr><td style=\"text-align: right;\">      3</td><td>C      </td><td style=\"text-align: right;\">      1</td><td style=\"text-align: right;\">     </td><td style=\"text-align: right;\">     4</td><td style=\"text-align: right;\">            1</td><td style=\"text-align: right;\">           1</td><td style=\"text-align: right;\">           </td></tr>\n",
       "<tr><td style=\"text-align: right;\">      4</td><td>C      </td><td style=\"text-align: right;\">      4</td><td style=\"text-align: right;\">    1</td><td style=\"text-align: right;\">     6</td><td style=\"text-align: right;\">            1</td><td style=\"text-align: right;\">           4</td><td style=\"text-align: right;\">          4</td></tr>\n",
       "<tr><td style=\"text-align: right;\">      5</td><td>C      </td><td style=\"text-align: right;\">      6</td><td style=\"text-align: right;\">    4</td><td style=\"text-align: right;\">      </td><td style=\"text-align: right;\">            1</td><td style=\"text-align: right;\">           6</td><td style=\"text-align: right;\">          4</td></tr>\n",
       "</tbody>\n",
       "</table>"
      ],
      "text/latex": [
       "\\begin{tabular}{rlrrrrrr}\n",
       "\\toprule\n",
       "   order & group   &   value &   lag &   lead &   first\\_value &   last\\_value &   nth\\_value \\\\\n",
       "\\midrule\n",
       "       3 & A       &       5 &       &      8 &             5 &            5 &             \\\\\n",
       "       7 & A       &       8 &     5 &        &             5 &            8 &           8 \\\\\n",
       "       1 & B       &       3 &       &      2 &             3 &            3 &             \\\\\n",
       "       3 & B       &       2 &     3 &      7 &             3 &            2 &           2 \\\\\n",
       "       6 & B       &       7 &     2 &        &             3 &            7 &           2 \\\\\n",
       "       3 & C       &       1 &       &      4 &             1 &            1 &             \\\\\n",
       "       4 & C       &       4 &     1 &      6 &             1 &            4 &           4 \\\\\n",
       "       5 & C       &       6 &     4 &        &             1 &            6 &           4 \\\\\n",
       "\\bottomrule\n",
       "\\end{tabular}"
      ],
      "text/plain": [
       "  order  group      value    lag    lead    first_value    last_value    nth_value\n",
       "-------  -------  -------  -----  ------  -------------  ------------  -----------\n",
       "      3  A              5              8              5             5\n",
       "      7  A              8      5                      5             8            8\n",
       "      1  B              3              2              3             3\n",
       "      3  B              2      3       7              3             2            2\n",
       "      6  B              7      2                      3             7            2\n",
       "      3  C              1              4              1             1\n",
       "      4  C              4      1       6              1             4            4\n",
       "      5  C              6      4                      1             6            4"
      ]
     },
     "metadata": {},
     "output_type": "display_data"
    }
   ],
   "source": [
    "--postgreSQL\n",
    "SELECT\n",
    "    *,\n",
    "    LAG(\"value\", 1) OVER (PARTITION BY \"group\" ORDER BY \"order\"),\n",
    "    LEAD(\"value\", 1) OVER (PARTITION BY \"group\" ORDER BY \"order\"),\n",
    "    FIRST_VALUE(\"value\") OVER (PARTITION BY \"group\" ORDER BY \"order\"),\n",
    "    LAST_VALUE(\"value\") OVER (PARTITION BY \"group\" ORDER BY \"order\"),\n",
    "    NTH_VALUE(\"value\", 2) OVER (PARTITION BY \"group\" ORDER BY \"order\")\n",
    "FROM (\n",
    "    VALUES\n",
    "    (3, 'C', 1),\n",
    "    (3, 'B', 2),\n",
    "    (1, 'B', 3),\n",
    "    (4, 'C', 4),\n",
    "    (3, 'A', 5),\n",
    "    (5, 'C', 6),\n",
    "    (6, 'B', 7),\n",
    "    (7, 'A', 8)\n",
    ") AS temp(\"order\", \"group\", \"value\");"
   ]
  }
 ],
 "metadata": {
  "kernelspec": {
   "display_name": "UniversalSQL",
   "language": "SQL",
   "name": "universal_sql"
  },
  "language_info": {
   "file_extentions": ".sql",
   "mimetype": "text/plain",
   "name": "sql"
  }
 },
 "nbformat": 4,
 "nbformat_minor": 2
}
