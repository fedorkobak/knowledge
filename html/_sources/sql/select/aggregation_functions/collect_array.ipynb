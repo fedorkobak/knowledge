{
 "cells": [
  {
   "cell_type": "markdown",
   "metadata": {},
   "source": [
    "# Collect array\n",
    "\n",
    "Here, we take a closer look at functions that vary across SQL dialects, allowing columns in a database to be transformed into an array that fits in one table cell."
   ]
  },
  {
   "cell_type": "markdown",
   "metadata": {},
   "source": [
    "The following cell starts the databases we'll use in Docker. For now, they are:\n",
    "\n",
    "- PostgreSQL\n",
    "- ClickHouse"
   ]
  },
  {
   "cell_type": "code",
   "execution_count": 1,
   "metadata": {
    "vscode": {
     "languageId": "shellscript"
    }
   },
   "outputs": [],
   "source": [
    "docker run --rm -d\\\n",
    "    -e POSTGRES_PASSWORD=docker_app \\\n",
    "    --name collect_array_postgres_examples \\\n",
    "    postgres:15.4 &> /dev/null\n",
    "docker run --rm -d \\\n",
    "    --name collect_array_click_examples \\\n",
    "    clickhouse/clickhouse-server &> /dev/null\n",
    "sleep 5"
   ]
  },
  {
   "cell_type": "markdown",
   "metadata": {},
   "source": [
    "**Note**: Don't forget to stop all containers once finished."
   ]
  },
  {
   "cell_type": "code",
   "execution_count": 17,
   "metadata": {
    "vscode": {
     "languageId": "shellscript"
    }
   },
   "outputs": [
    {
     "name": "stdout",
     "output_type": "stream",
     "text": [
      "collect_array_postgres_examples\n",
      "collect_array_click_examples\n"
     ]
    }
   ],
   "source": [
    "docker stop collect_array_postgres_examples collect_array_click_examples"
   ]
  },
  {
   "cell_type": "markdown",
   "metadata": {},
   "source": [
    "## Syntax\n",
    "\n",
    "Different databases have different function that truns column to array:\n",
    "\n",
    "- In clikchouse you have to use `groupArray` function.\n",
    "- In postgreSQL you have to use `array_agg` function.\n",
    "\n",
    "You can take elements from an array using `[]`. **Note**: In PostgreSQL, you have to wrap the object in additional `()` to apply `[]` to the value."
   ]
  },
  {
   "cell_type": "markdown",
   "metadata": {},
   "source": [
    "---\n",
    "\n",
    "The following cell shows the application of the `groupArray` function to the `some_value` column, along with extracting specific positions from the resulting array."
   ]
  },
  {
   "cell_type": "code",
   "execution_count": 9,
   "metadata": {
    "vscode": {
     "languageId": "shellscript"
    }
   },
   "outputs": [
    {
     "name": "stdout",
     "output_type": "stream",
     "text": [
      "   ┏━━━━━━━━━━━━━━━━━━━━━━━┳━━━━━━━━━━━━━━━━━━━━━━━━━━━━━━━━┳━━━━━━━━━━━━━━━━━━━━━━━━━━━━━━━━┓\n",
      "   ┃ groupArray(a)         ┃ arrayElement(groupArray(a), 1) ┃ arrayElement(groupArray(a), 2) ┃\n",
      "   ┡━━━━━━━━━━━━━━━━━━━━━━━╇━━━━━━━━━━━━━━━━━━━━━━━━━━━━━━━━╇━━━━━━━━━━━━━━━━━━━━━━━━━━━━━━━━┩\n",
      "1. │ [4,3,3,1,3,3,3,5,5,1] │                              4 │                              3 │\n",
      "   └───────────────────────┴────────────────────────────────┴────────────────────────────────┘\n"
     ]
    }
   ],
   "source": [
    "docker exec collect_array_click_examples clickhouse-client -q \"\n",
    "CREATE TEMPORARY TABLE temp (some_value Int32) ENGINE = Memory;\n",
    "\n",
    "INSERT INTO temp VALUES\n",
    "    (4), (3), (3), (1), (3), (3), (3), (5), (5), (1);\n",
    "\n",
    "SELECT \n",
    "    groupArray(some_value), \n",
    "    groupArray(some_value)[1], \n",
    "    groupArray(some_value)[2] \n",
    "FROM temp\n",
    "FORMAT Pretty;\n",
    "\""
   ]
  },
  {
   "cell_type": "markdown",
   "metadata": {},
   "source": [
    "The following cell represents an analogous example in PostgreSQL:"
   ]
  },
  {
   "cell_type": "code",
   "execution_count": 16,
   "metadata": {
    "vscode": {
     "languageId": "shellscript"
    }
   },
   "outputs": [
    {
     "name": "stdout",
     "output_type": "stream",
     "text": [
      "       array_agg       | element1 | element2 \n",
      "-----------------------+----------+----------\n",
      " {4,3,3,1,3,3,3,5,5,1} |        4 |        3\n",
      "(1 row)\n",
      "\n"
     ]
    }
   ],
   "source": [
    "docker exec -i collect_array_postgres_examples psql -U postgres -d postgres << EOF\n",
    "SELECT\n",
    "    array_agg(some_value),\n",
    "    (array_agg(some_value))[1] AS element1,\n",
    "    (array_agg(some_value))[2] AS element2\n",
    "FROM (\n",
    "    VALUES\n",
    "    (4), (3), (3), (1), (3), (3), (3), (5), (5), (1)\n",
    ") AS temp(some_value);\n",
    "EOF"
   ]
  },
  {
   "cell_type": "markdown",
   "metadata": {},
   "source": [
    "## Index out of range\n",
    "\n",
    "When trying to access an out-of-range position in this command, the common behavior across SQL dialects is to return a reserved value. However, the specific behavior can vary between different SQL dialects."
   ]
  },
  {
   "cell_type": "markdown",
   "metadata": {},
   "source": [
    "---\n",
    "\n",
    "The following examples demonstrate attempts to access out-of-range positions in different SQL dialects."
   ]
  },
  {
   "cell_type": "markdown",
   "metadata": {},
   "source": [
    "Here is an example from PostgreSQL, which shows that PostgreSQL returns NULL in such cases."
   ]
  },
  {
   "cell_type": "code",
   "execution_count": 24,
   "metadata": {
    "vscode": {
     "languageId": "shellscript"
    }
   },
   "outputs": [
    {
     "name": "stdout",
     "output_type": "stream",
     "text": [
      " fifth_element_is_null \n",
      "-----------------------\n",
      " t\n",
      "(1 row)\n",
      "\n"
     ]
    }
   ],
   "source": [
    "docker exec -i collect_array_postgres_examples psql -U postgres -d postgres << EOF\n",
    "SELECT \n",
    "    (array_agg(some_value))[5] IS NULL fifth_element_is_null\n",
    "FROM (\n",
    "    VALUES\n",
    "    (4), (3), (3)\n",
    ") AS temp(some_value);\n",
    "EOF"
   ]
  },
  {
   "cell_type": "markdown",
   "metadata": {},
   "source": [
    "In ClickHouse, it returns reserved values to replace non-existent values. The following cell shows that instead of a non-existent element of the array, ClickHouse returns:\n",
    "\n",
    "- `0` for numeric columns.\n",
    "- An empty string `''` for string columns."
   ]
  },
  {
   "cell_type": "code",
   "execution_count": 25,
   "metadata": {
    "vscode": {
     "languageId": "shellscript"
    }
   },
   "outputs": [
    {
     "name": "stdout",
     "output_type": "stream",
     "text": [
      "   ┏━━━━━━━━━━━━━━━━━━━┳━━━━━━━━━━━━━━━━━━┓\n",
      "   ┃ numeric_index_out ┃ string_index_out ┃\n",
      "   ┡━━━━━━━━━━━━━━━━━━━╇━━━━━━━━━━━━━━━━━━┩\n",
      "1. │                 0 │                  │\n",
      "   └───────────────────┴──────────────────┘\n"
     ]
    }
   ],
   "source": [
    "docker exec collect_array_click_examples clickhouse-client -q \"\n",
    "CREATE TEMPORARY TABLE temp (numeric_value Int, string_value String) ENGINE = Memory;\n",
    "\n",
    "INSERT INTO temp VALUES\n",
    "    (1, 'a'), (2, 'b'), (3, 'c');\n",
    "\n",
    "\n",
    "SELECT \n",
    "    groupArray(numeric_value)[5] numeric_index_out,\n",
    "    groupArray(string_value)[5] string_index_out\n",
    "FROM temp\n",
    "FORMAT Pretty;\n",
    "\""
   ]
  },
  {
   "cell_type": "markdown",
   "metadata": {},
   "source": [
    "## Ordered array\n",
    "\n",
    "Sometimes you’ll need arrays in a specific order. Different SQL dialects achieve this in various ways. In this section, we'll explore some of them."
   ]
  },
  {
   "cell_type": "markdown",
   "metadata": {},
   "source": [
    "---\n",
    "\n",
    "In PostgreSQL, you can simply use the `ORDER BY` clause inside `array_agg`. The following cell shows the difference between `unordered_result` and `ordered_result`."
   ]
  },
  {
   "cell_type": "code",
   "execution_count": 6,
   "metadata": {
    "vscode": {
     "languageId": "shellscript"
    }
   },
   "outputs": [
    {
     "name": "stdout",
     "output_type": "stream",
     "text": [
      " unordered_result | ordered_result \n",
      "------------------+----------------\n",
      " {a,b,c}          | {c,a,b}\n",
      "(1 row)\n",
      "\n"
     ]
    }
   ],
   "source": [
    "docker exec -i collect_array_postgres_examples psql -U postgres -d postgres << EOF\n",
    "SELECT \n",
    "    array_agg(categories) unordered_result,\n",
    "    array_agg(categories ORDER BY order_value) ordered_result\n",
    "FROM (\n",
    "    VALUES\n",
    "    (2, 'a'), (3, 'b'), (1, 'c')\n",
    ") AS temp(order_value, categories);\n",
    "EOF"
   ]
  },
  {
   "cell_type": "markdown",
   "metadata": {},
   "source": [
    "In ClickHouse, you can achieve this output using the `arraySort` function. Find out more about the array sort function in the [corresponding section of the official documentation](https://clickhouse.com/docs/en/sql-reference/functions/array-functions#sort). The following cell shows the example: `unserted_result` is just application of the `arraySort` function, `sorted_result` uses `arraySort` to sort `categories` over `order_value`."
   ]
  },
  {
   "cell_type": "code",
   "execution_count": 22,
   "metadata": {
    "vscode": {
     "languageId": "shellscript"
    }
   },
   "outputs": [
    {
     "name": "stdout",
     "output_type": "stream",
     "text": [
      "   ┏━━━━━━━━━━━━━━━━━┳━━━━━━━━━━━━━━━┓\n",
      "   ┃ unsorted_result ┃ sorted_result ┃\n",
      "   ┡━━━━━━━━━━━━━━━━━╇━━━━━━━━━━━━━━━┩\n",
      "1. │ ['b','c','a']   │ ['c','a','b'] │\n",
      "   └─────────────────┴───────────────┘\n"
     ]
    }
   ],
   "source": [
    "docker exec collect_array_click_examples clickhouse-client -q \"\n",
    "CREATE TEMPORARY TABLE temp (order_value Int, categories String) ENGINE = Memory;\n",
    "\n",
    "INSERT INTO temp VALUES\n",
    "    (3, 'b'), (1, 'c'), (2, 'a');\n",
    "\n",
    "SELECT \n",
    "    groupArray(categories) unsorted_result,\n",
    "    arraySort(\n",
    "        (x, y) -> y, \n",
    "        groupArray(categories),  \n",
    "        groupArray(order_value)\n",
    "    ) AS sorted_result\n",
    "FROM temp\n",
    "FORMAT Pretty;\n",
    "\""
   ]
  }
 ],
 "metadata": {
  "kernelspec": {
   "display_name": "Bash",
   "language": "bash",
   "name": "bash"
  },
  "language_info": {
   "codemirror_mode": "shell",
   "file_extension": ".sh",
   "mimetype": "text/x-sh",
   "name": "bash"
  }
 },
 "nbformat": 4,
 "nbformat_minor": 2
}
