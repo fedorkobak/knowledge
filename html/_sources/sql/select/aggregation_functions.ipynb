{
 "cells": [
  {
   "cell_type": "markdown",
   "id": "9117e8e4-87a4-468e-a4cd-67d25b7c776d",
   "metadata": {},
   "source": [
    "# Aggregation functions\n",
    "\n",
    "Aggregation functions operate on arrays of data and produce a single numerical result."
   ]
  },
  {
   "cell_type": "markdown",
   "id": "f13fad51-50e1-48c6-a9c6-362e9752d093",
   "metadata": {},
   "source": [
    "## Logical operations (BOOL_OR, BOOL_AND)\n",
    "\n",
    "Sometimes you need to find out if all values of a boolean variable by group are true. For such cases you can use `boot_and` aggregation function. Also there is function `bool_or` if you need to get if any value by group is true."
   ]
  },
  {
   "cell_type": "markdown",
   "id": "395cd51e",
   "metadata": {},
   "source": [
    "---\n",
    "\n",
    "The following example presents a comprehensive list of all possible pairings between logical values and the functions we're exploting are applied to them. "
   ]
  },
  {
   "cell_type": "code",
   "execution_count": 1,
   "id": "fab0e9b9-d056-4b96-b67f-d62ffdc5c596",
   "metadata": {},
   "outputs": [
    {
     "name": "stdout",
     "output_type": "stream",
     "text": [
      "SELECT 1\n"
     ]
    },
    {
     "data": {
      "text/html": [
       "<table>\n",
       "<thead>\n",
       "<tr><th>all_true_and  </th><th>all_true_or  </th><th>one_true1_and  </th><th>one_true1_or  </th><th>one_true2_and  </th><th>one_true2_or  </th><th>no_true_and  </th><th>no_true_or  </th></tr>\n",
       "</thead>\n",
       "<tbody>\n",
       "<tr><td>True          </td><td>True         </td><td>False          </td><td>True          </td><td>False          </td><td>True          </td><td>False        </td><td>False       </td></tr>\n",
       "</tbody>\n",
       "</table>"
      ],
      "text/latex": [
       "\\begin{tabular}{llllllll}\n",
       "\\toprule\n",
       " all\\_true\\_and   & all\\_true\\_or   & one\\_true1\\_and   & one\\_true1\\_or   & one\\_true2\\_and   & one\\_true2\\_or   & no\\_true\\_and   & no\\_true\\_or   \\\\\n",
       "\\midrule\n",
       " True           & True          & False           & True           & False           & True           & False         & False        \\\\\n",
       "\\bottomrule\n",
       "\\end{tabular}"
      ],
      "text/plain": [
       "all_true_and    all_true_or    one_true1_and    one_true1_or    one_true2_and    one_true2_or    no_true_and    no_true_or\n",
       "--------------  -------------  ---------------  --------------  ---------------  --------------  -------------  ------------\n",
       "True            True           False            True            False            True            False          False"
      ]
     },
     "metadata": {},
     "output_type": "display_data"
    }
   ],
   "source": [
    "--postgreSQL\n",
    "SELECT\n",
    "    bool_and(all_true) AS all_true_and,\n",
    "    bool_or(all_true) AS all_true_or,\n",
    "    bool_and(one_true1) AS one_true1_and,\n",
    "    bool_or(one_true1) AS one_true1_or,\n",
    "    bool_and(one_true2) AS one_true2_and,\n",
    "    bool_or(one_true2) AS one_true2_or,\n",
    "    bool_and(no_true) AS no_true_and,\n",
    "    bool_and(no_true) AS no_true_or\n",
    "FROM (\n",
    "    VALUES \n",
    "        (TRUE, TRUE, FALSE, FALSE), \n",
    "        (TRUE, FALSE, TRUE, FALSE)\n",
    ") AS temp(all_true, one_true1, one_true2, no_true);"
   ]
  },
  {
   "cell_type": "markdown",
   "id": "dcebc133-1c2b-45c5-a206-22142a21abf7",
   "metadata": {},
   "source": [
    "## Strings concatenations\n",
    "\n",
    "If you need to combine the values of a string variable into a single string, you can use the `string_agg(<column for concatenation>, <separator>)` aggregation function.  This function will output all the values in a single line, separated by the specified separator. "
   ]
  },
  {
   "cell_type": "markdown",
   "id": "4f01dc1b",
   "metadata": {},
   "source": [
    "---\n",
    "\n",
    "The following example concatenates strings 'one', 'two' and 'three'."
   ]
  },
  {
   "cell_type": "code",
   "execution_count": 2,
   "id": "dcefb9c6-03e7-4dbd-9999-5e189e3f85e6",
   "metadata": {},
   "outputs": [
    {
     "name": "stdout",
     "output_type": "stream",
     "text": [
      "SELECT 1\n"
     ]
    },
    {
     "data": {
      "text/html": [
       "<table>\n",
       "<thead>\n",
       "<tr><th>string_agg     </th></tr>\n",
       "</thead>\n",
       "<tbody>\n",
       "<tr><td>one, two, three</td></tr>\n",
       "</tbody>\n",
       "</table>"
      ],
      "text/latex": [
       "\\begin{tabular}{l}\n",
       "\\toprule\n",
       " string\\_agg      \\\\\n",
       "\\midrule\n",
       " one, two, three \\\\\n",
       "\\bottomrule\n",
       "\\end{tabular}"
      ],
      "text/plain": [
       "string_agg\n",
       "---------------\n",
       "one, two, three"
      ]
     },
     "metadata": {},
     "output_type": "display_data"
    }
   ],
   "source": [
    "--postgreSQL\n",
    "SELECT\n",
    "    string_agg(string_variable, ', ')\n",
    "FROM (\n",
    "    VALUES\n",
    "    ('one'), ('two'), ('three')\n",
    ") AS temp(string_variable)"
   ]
  },
  {
   "cell_type": "markdown",
   "id": "6bf0c834",
   "metadata": {},
   "source": [
    "## Collect array\n",
    "\n",
    "There is a function that allows transforming a set of numbers into an array that fits in one cell of a table. In PostgreSQL, this can be done using the `array_agg` function."
   ]
  },
  {
   "cell_type": "markdown",
   "id": "aec1a1d8",
   "metadata": {},
   "source": [
    "---\n",
    "\n",
    "The following cell shows the application of the `array_agg` function to the `some_value` column, excluding a particular element from the array."
   ]
  },
  {
   "cell_type": "code",
   "execution_count": 3,
   "id": "ccf34c8f",
   "metadata": {},
   "outputs": [
    {
     "name": "stdout",
     "output_type": "stream",
     "text": [
      "SELECT 1\n"
     ]
    },
    {
     "data": {
      "text/html": [
       "<table>\n",
       "<thead>\n",
       "<tr><th>whole_array                   </th><th style=\"text-align: right;\">  first_element</th><th style=\"text-align: right;\">  second_element</th><th style=\"text-align: right;\">  third_element</th></tr>\n",
       "</thead>\n",
       "<tbody>\n",
       "<tr><td>[4, 3, 3, 1, 3, 3, 3, 5, 5, 1]</td><td style=\"text-align: right;\">              4</td><td style=\"text-align: right;\">               3</td><td style=\"text-align: right;\">              3</td></tr>\n",
       "</tbody>\n",
       "</table>"
      ],
      "text/latex": [
       "\\begin{tabular}{lrrr}\n",
       "\\toprule\n",
       " whole\\_array                    &   first\\_element &   second\\_element &   third\\_element \\\\\n",
       "\\midrule\n",
       " [4, 3, 3, 1, 3, 3, 3, 5, 5, 1] &               4 &                3 &               3 \\\\\n",
       "\\bottomrule\n",
       "\\end{tabular}"
      ],
      "text/plain": [
       "whole_array                       first_element    second_element    third_element\n",
       "------------------------------  ---------------  ----------------  ---------------\n",
       "[4, 3, 3, 1, 3, 3, 3, 5, 5, 1]                4                 3                3"
      ]
     },
     "metadata": {},
     "output_type": "display_data"
    }
   ],
   "source": [
    "--postgreSQL\n",
    "SELECT\n",
    "    array_agg(some_value) whole_array,\n",
    "    (array_agg(some_value))[1] first_element,\n",
    "    (array_agg(some_value))[2] second_element,\n",
    "    (array_agg(some_value))[3] third_element\n",
    "FROM (\n",
    "    VALUES\n",
    "    (4), (3), (3), (1), (3), (3), (3), (5), (5), (1)\n",
    ") AS temp(some_value);"
   ]
  }
 ],
 "metadata": {
  "kernelspec": {
   "display_name": "UniversalSQL",
   "language": "sql",
   "name": "universal_sql"
  },
  "language_info": {
   "file_extentions": ".sql",
   "mimetype": "text/plain",
   "name": "sql"
  }
 },
 "nbformat": 4,
 "nbformat_minor": 5
}
