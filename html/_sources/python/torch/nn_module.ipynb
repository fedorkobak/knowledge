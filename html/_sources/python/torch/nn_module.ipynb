{
 "cells": [
  {
   "cell_type": "markdown",
   "id": "6e78e44c-98cc-4059-8ae6-72fb058cabf4",
   "metadata": {},
   "source": [
    "# nn.Module class\n",
    "\n",
    "Is a class that allows you to define complex neural networks in Torch. Simply use this class as a descendant."
   ]
  },
  {
   "cell_type": "code",
   "execution_count": 2,
   "id": "7cb58b03-6c03-4bf4-bed2-be16d2fc2287",
   "metadata": {},
   "outputs": [],
   "source": [
    "import torch\n",
    "from torch import nn"
   ]
  },
  {
   "cell_type": "markdown",
   "id": "66b0f9df-64a9-4613-98da-670e17eb8244",
   "metadata": {},
   "source": [
    "## `parameters()`\n",
    "\n",
    "<a href=\"https://pytorch.org/docs/stable/generated/torch.nn.Module.html#torch.nn.Module.parameters\">Official documentation</a>.\n",
    "\n",
    "To optimise the network, you need access to the parameters that will change as the model is optimised. The `Parameters` method fulfils this role. It looks like it somehow understands that the fields it contains are descendants of the class `nn.Module` and extracts their `parameters`.\n",
    "\n",
    "Two following cells allow you to compare what `parameters` return if we use just empty ancestor of `nn.Module` and ancestor that have some fields that actually implementations of `nn.Module`."
   ]
  },
  {
   "cell_type": "markdown",
   "id": "e2d7afce-4e96-4d41-b8c6-f5e7a328741d",
   "metadata": {},
   "source": [
    "In the following cell we have an empty `nn.Module` - so when we try to unpack it generator to list we have just an empty list:"
   ]
  },
  {
   "cell_type": "code",
   "execution_count": 45,
   "id": "ad8022cb-2f1d-4a23-a29d-540946fa9cc7",
   "metadata": {},
   "outputs": [
    {
     "data": {
      "text/plain": [
       "[]"
      ]
     },
     "execution_count": 45,
     "metadata": {},
     "output_type": "execute_result"
    }
   ],
   "source": [
    "class EmptyNetwork(nn.Module):\n",
    "    pass\n",
    "empty_network = EmptyNetwork()\n",
    "[i for i in empty_network.parameters()]"
   ]
  },
  {
   "cell_type": "markdown",
   "id": "1f585fdc-cd8f-41f6-8075-57899c5a6d49",
   "metadata": {},
   "source": [
    "This cell implements such a descendant of the `nn.Module`, taking some parameters from its files. To be more specific, there are two fully connected layers defined here. So we end up with four tensors, two matrices for fully connected layers and their biases:"
   ]
  },
  {
   "cell_type": "code",
   "execution_count": 68,
   "id": "0bad4179-1ca1-4e10-a24a-3510f80c57f2",
   "metadata": {},
   "outputs": [
    {
     "name": "stdout",
     "output_type": "stream",
     "text": [
      "tensor([[ 0.0302, -0.4218,  0.3589],\n",
      "        [ 0.0500, -0.0864,  0.2156],\n",
      "        [-0.5365,  0.4816,  0.2940]])\n",
      "tensor([-0.0345, -0.4456, -0.4284])\n",
      "tensor([[ 0.1643,  0.3919,  0.4324, -0.2549,  0.0276],\n",
      "        [-0.0170,  0.2218, -0.3960,  0.1335,  0.3155],\n",
      "        [ 0.0246, -0.0172,  0.3138,  0.4222,  0.0569],\n",
      "        [ 0.2502,  0.3730, -0.1723,  0.1000,  0.1558],\n",
      "        [ 0.2668, -0.3949,  0.1780,  0.2885,  0.2406]])\n",
      "tensor([-0.0279, -0.2638,  0.1210, -0.1394, -0.0539])\n"
     ]
    }
   ],
   "source": [
    "class ParametersNetwork(nn.Module):\n",
    "    def __init__(self):\n",
    "        super().__init__()\n",
    "        self.foo = nn.Linear(3, 3)\n",
    "        self.bar = nn.Linear(5, 5)\n",
    "\n",
    "network = ParametersNetwork()\n",
    "for i in network.parameters():\n",
    "    print(i.data)"
   ]
  }
 ],
 "metadata": {
  "kernelspec": {
   "display_name": "Python 3 (ipykernel)",
   "language": "python",
   "name": "python3"
  },
  "language_info": {
   "codemirror_mode": {
    "name": "ipython",
    "version": 3
   },
   "file_extension": ".py",
   "mimetype": "text/x-python",
   "name": "python",
   "nbconvert_exporter": "python",
   "pygments_lexer": "ipython3",
   "version": "3.10.12"
  }
 },
 "nbformat": 4,
 "nbformat_minor": 5
}
