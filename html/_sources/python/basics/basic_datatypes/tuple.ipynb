{
 "cells": [
  {
   "cell_type": "markdown",
   "id": "b322dddd-1a51-45c3-a2d3-224d1b6f323b",
   "metadata": {},
   "source": [
    "# tuple\n",
    "\n",
    "Is an array that can't be changed at runtime."
   ]
  },
  {
   "cell_type": "markdown",
   "id": "836a2a4c-a54d-46cb-a071-0edfdc52ba78",
   "metadata": {},
   "source": [
    "## One element tuple\n",
    "\n",
    "To create one element tuple you have to use the syntax `(<element>,)` not <del>`(<element>)`</del>. By default, parentheses are not used to create a tuple, but to prioritise executions in the expression, so you have to use at least one comma inside the parentheses to tell the interpreter that it is the tuple."
   ]
  },
  {
   "cell_type": "code",
   "execution_count": 5,
   "id": "038f5aea-1b7a-4654-acb1-4c01fe953c59",
   "metadata": {},
   "outputs": [
    {
     "name": "stdout",
     "output_type": "stream",
     "text": [
      "Just a variable 4\n",
      "One element tuple (5,)\n"
     ]
    }
   ],
   "source": [
    "print(\"Just a variable\", (4))\n",
    "print(\"One element tuple\", (5,))"
   ]
  }
 ],
 "metadata": {
  "kernelspec": {
   "display_name": "Python 3 (ipykernel)",
   "language": "python",
   "name": "python3"
  },
  "language_info": {
   "codemirror_mode": {
    "name": "ipython",
    "version": 3
   },
   "file_extension": ".py",
   "mimetype": "text/x-python",
   "name": "python",
   "nbconvert_exporter": "python",
   "pygments_lexer": "ipython3",
   "version": "3.10.12"
  }
 },
 "nbformat": 4,
 "nbformat_minor": 5
}
