{
 "cells": [
  {
   "cell_type": "markdown",
   "id": "a0e1063e-6565-4c1f-814d-6af826109b81",
   "metadata": {},
   "source": [
    "# Indexing ([])"
   ]
  },
  {
   "cell_type": "markdown",
   "id": "7ebe40ac-5274-4201-88f2-fb1d488f0134",
   "metadata": {},
   "source": [
    "## Negative index"
   ]
  },
  {
   "cell_type": "markdown",
   "id": "fc05ba2d-6d07-4efa-af74-fdda1a228793",
   "metadata": {},
   "source": [
    "In Python, all indices have an alternate index which is negative. Suppose we have a list of `n` elements, so elements will have indexes from `0` to `n-1` **and** from `-n` to `-1`.\n",
    "\n",
    "The following table puts positive and negative indexing in python into a visual correlation.\n",
    "\n",
    "<table>\n",
    "    <tr>\n",
    "        <th>Positive indexing</th>\n",
    "        <td>0</td>\n",
    "        <td>1</td>\n",
    "        <td>...</td>\n",
    "        <td>n-1</td>\n",
    "    </tr>\n",
    "    <tr>\n",
    "        <th>Negative indexing</th>\n",
    "        <td>-n</td>\n",
    "        <td>-n+1</td>\n",
    "        <td>...</td>\n",
    "        <td>-1</td>\n",
    "    </tr>\n",
    "</table>\n",
    "\n",
    "It can be very useful to access items from the end of the collection. So in the last example, I easily accessed the penultimate item in the list."
   ]
  },
  {
   "cell_type": "code",
   "execution_count": 25,
   "id": "34395abe-ceac-43b5-be4e-633d527d2489",
   "metadata": {},
   "outputs": [
    {
     "data": {
      "text/plain": [
       "48"
      ]
     },
     "execution_count": 25,
     "metadata": {},
     "output_type": "execute_result"
    }
   ],
   "source": [
    "list(range(50))[-2]"
   ]
  }
 ],
 "metadata": {
  "kernelspec": {
   "display_name": "Python 3 (ipykernel)",
   "language": "python",
   "name": "python3"
  },
  "language_info": {
   "codemirror_mode": {
    "name": "ipython",
    "version": 3
   },
   "file_extension": ".py",
   "mimetype": "text/x-python",
   "name": "python",
   "nbconvert_exporter": "python",
   "pygments_lexer": "ipython3",
   "version": "3.10.12"
  }
 },
 "nbformat": 4,
 "nbformat_minor": 5
}
