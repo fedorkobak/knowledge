{
 "cells": [
  {
   "cell_type": "markdown",
   "id": "f47fcbb5-3958-4e95-b585-e8a7682a9908",
   "metadata": {},
   "source": [
    "# Other\n",
    "\n",
    "Оn this page I describe some things that cannot be attributed to any other topic. But I haven't decided to make a separate page for them yet."
   ]
  },
  {
   "cell_type": "code",
   "execution_count": 1,
   "id": "4174d45d-dd15-426e-8979-fec5d5524d7f",
   "metadata": {},
   "outputs": [],
   "source": [
    "from IPython.display import HTML"
   ]
  },
  {
   "cell_type": "markdown",
   "id": "b21fe98c-852f-4d59-bed7-509a5ebe6bdf",
   "metadata": {},
   "source": [
    "# Colours\n",
    "\n",
    "Here I will show some functions that allow to deal with colours in CSS. \n",
    "\n",
    "Full list of colours can be found in this site https://147colors.com/."
   ]
  },
  {
   "cell_type": "markdown",
   "id": "45dab08f-19b9-4c78-8300-5091ea72d7e5",
   "metadata": {},
   "source": [
    "## Properties"
   ]
  },
  {
   "cell_type": "markdown",
   "id": "53ebdb01-af56-4f09-810b-459958a71f57",
   "metadata": {},
   "source": [
    "### `color` - text color\n",
    "\n",
    "<!--\n",
    "colors = ['aqua', 'black', 'blue', 'fuchsia', 'gray', 'green', 'lime', 'maroon', 'navy', 'olive', 'purple', 'red', 'silver', 'teal', 'white', 'yellow']\n",
    "line_template = '<text style=\"color:{}\">{}</text><br>\\n'\n",
    "html_line = \"\"\n",
    "\n",
    "for color in colors:\n",
    "    html_line += line_template.format(color, color)\n",
    "print(html_line)\n",
    "-->"
   ]
  },
  {
   "cell_type": "code",
   "execution_count": 4,
   "id": "7875bd28-82cb-47d1-8eec-4d882fdc6f15",
   "metadata": {},
   "outputs": [
    {
     "data": {
      "text/html": [
       "<text style=\"color:aqua\">aqua</text><br>\n",
       "<text style=\"color:black\">black</text><br>\n",
       "<text style=\"color:blue\">blue</text><br>\n",
       "<text style=\"color:fuchsia\">fuchsia</text><br>\n",
       "<text style=\"color:gray\">gray</text><br>\n",
       "<text style=\"color:green\">green</text><br>\n",
       "<text style=\"color:lime\">lime</text><br>\n",
       "<text style=\"color:maroon\">maroon</text><br>\n",
       "<text style=\"color:navy\">navy</text><br>\n",
       "<text style=\"color:olive\">olive</text><br>\n",
       "<text style=\"color:purple\">purple</text><br>\n",
       "<text style=\"color:red\">red</text><br>\n",
       "<text style=\"color:silver\">silver</text><br>\n",
       "<text style=\"color:teal\">teal</text><br>\n",
       "<text style=\"color:white\">white</text><br>\n",
       "<text style=\"color:yellow\">yellow</text><br>\n"
      ],
      "text/plain": [
       "<IPython.core.display.HTML object>"
      ]
     },
     "metadata": {},
     "output_type": "display_data"
    }
   ],
   "source": [
    "%%HTML\n",
    "<text style=\"color:aqua\">aqua</text><br>\n",
    "<text style=\"color:black\">black</text><br>\n",
    "<text style=\"color:blue\">blue</text><br>\n",
    "<text style=\"color:fuchsia\">fuchsia</text><br>\n",
    "<text style=\"color:gray\">gray</text><br>\n",
    "<text style=\"color:green\">green</text><br>\n",
    "<text style=\"color:lime\">lime</text><br>\n",
    "<text style=\"color:maroon\">maroon</text><br>\n",
    "<text style=\"color:navy\">navy</text><br>\n",
    "<text style=\"color:olive\">olive</text><br>\n",
    "<text style=\"color:purple\">purple</text><br>\n",
    "<text style=\"color:red\">red</text><br>\n",
    "<text style=\"color:silver\">silver</text><br>\n",
    "<text style=\"color:teal\">teal</text><br>\n",
    "<text style=\"color:white\">white</text><br>\n",
    "<text style=\"color:yellow\">yellow</text><br>"
   ]
  },
  {
   "cell_type": "markdown",
   "id": "ccc83732-d2c0-437d-9356-828a38a02845",
   "metadata": {},
   "source": [
    "### `background` - background color <a name=\"sec-back_color\"></a>\n",
    "\n",
    "**Note** `background-color` make the same.\n",
    "\n",
    "<!--\n",
    "colors = ['aqua', 'black', 'blue', 'fuchsia', 'gray', 'green', 'lime', 'maroon', 'navy', 'olive', 'purple', 'red', 'silver', 'teal', 'white', 'yellow']\n",
    "line_template = '<text style=\"background:{}\">{}</text><br>\\n'\n",
    "html_line = \"\"\n",
    "\n",
    "for color in colors:\n",
    "    html_line += line_template.format(color, color)\n",
    "print(html_line)\n",
    "-->"
   ]
  },
  {
   "cell_type": "code",
   "execution_count": 7,
   "id": "23acdf97-526b-453f-8f8b-d1caed94610c",
   "metadata": {},
   "outputs": [
    {
     "data": {
      "text/html": [
       "<text style=\"background:aqua\">aqua</text><br>\n",
       "<text style=\"background:black\">black</text><br>\n",
       "<text style=\"background:blue\">blue</text><br>\n",
       "<text style=\"background:fuchsia\">fuchsia</text><br>\n",
       "<text style=\"background:gray\">gray</text><br>\n",
       "<text style=\"background:green\">green</text><br>\n",
       "<text style=\"background:lime\">lime</text><br>\n",
       "<text style=\"background:maroon\">maroon</text><br>\n",
       "<text style=\"background:navy\">navy</text><br>\n",
       "<text style=\"background:olive\">olive</text><br>\n",
       "<text style=\"background:purple\">purple</text><br>\n",
       "<text style=\"background:red\">red</text><br>\n",
       "<text style=\"background:silver\">silver</text><br>\n",
       "<text style=\"background:teal\">teal</text><br>\n",
       "<text style=\"background:white\">white</text><br>\n",
       "<text style=\"background:yellow\">yellow</text><br>\n"
      ],
      "text/plain": [
       "<IPython.core.display.HTML object>"
      ]
     },
     "metadata": {},
     "output_type": "display_data"
    }
   ],
   "source": [
    "%%HTML\n",
    "<text style=\"background:aqua\">aqua</text><br>\n",
    "<text style=\"background:black\">black</text><br>\n",
    "<text style=\"background:blue\">blue</text><br>\n",
    "<text style=\"background:fuchsia\">fuchsia</text><br>\n",
    "<text style=\"background:gray\">gray</text><br>\n",
    "<text style=\"background:green\">green</text><br>\n",
    "<text style=\"background:lime\">lime</text><br>\n",
    "<text style=\"background:maroon\">maroon</text><br>\n",
    "<text style=\"background:navy\">navy</text><br>\n",
    "<text style=\"background:olive\">olive</text><br>\n",
    "<text style=\"background:purple\">purple</text><br>\n",
    "<text style=\"background:red\">red</text><br>\n",
    "<text style=\"background:silver\">silver</text><br>\n",
    "<text style=\"background:teal\">teal</text><br>\n",
    "<text style=\"background:white\">white</text><br>\n",
    "<text style=\"background:yellow\">yellow</text><br>"
   ]
  },
  {
   "cell_type": "markdown",
   "id": "1c8ef10f-9de7-4e66-b339-7e65702aae33",
   "metadata": {},
   "source": [
    "## Ways of determining"
   ]
  },
  {
   "cell_type": "markdown",
   "id": "52c0fcb8-d03c-403b-9d5c-94d40748e0f6",
   "metadata": {},
   "source": [
    "### Color name"
   ]
  },
  {
   "cell_type": "code",
   "execution_count": 8,
   "id": "761457f9-81ac-4034-9263-f065a7f6b133",
   "metadata": {},
   "outputs": [
    {
     "data": {
      "text/html": [
       "<text style=\"color:red\">red text</text>\n"
      ],
      "text/plain": [
       "<IPython.core.display.HTML object>"
      ]
     },
     "metadata": {},
     "output_type": "display_data"
    }
   ],
   "source": [
    "%%HTML\n",
    "<text style=\"color:red\">red text</text>"
   ]
  },
  {
   "cell_type": "markdown",
   "id": "30a3cfdb-8006-4fdc-81ff-910d34662ceb",
   "metadata": {},
   "source": [
    "### RGB\n",
    "\n",
    "Use the following syntax `rgb(R, G, B)`. $$R,G,B \\in (0,1,2,...,255)$$"
   ]
  },
  {
   "cell_type": "code",
   "execution_count": 9,
   "id": "b38cee47-b69d-4637-b8ad-1cf90113bca7",
   "metadata": {},
   "outputs": [
    {
     "data": {
      "text/html": [
       "<text style=\"background-color:rgb(60, 179, 113);\">rgb(60, 179, 113)</text>\n"
      ],
      "text/plain": [
       "<IPython.core.display.HTML object>"
      ]
     },
     "metadata": {},
     "output_type": "display_data"
    }
   ],
   "source": [
    "%%HTML\n",
    "<text style=\"background-color:rgb(60, 179, 113);\">rgb(60, 179, 113)</text>"
   ]
  },
  {
   "cell_type": "markdown",
   "id": "7837d9ca-454a-4bc2-a0c6-35ce2d6d6b9b",
   "metadata": {},
   "source": [
    "### RGBA\n",
    "\n",
    "Use the following syntax `rgba(R, G, B, A)`. $$R,G,B \\in (0,1,2,...,255);$$\n",
    "$$A \\in [0,1].$$\n",
    "\n",
    "<!--\n",
    "line_pattern = \\\n",
    "    \"<text style=\\\"background-color:rgba(60, 179, 113, {A});\\\">rgba(60, 179, 113, {A})</text><br>\\n\"\n",
    "html_file = \"\"\n",
    "\n",
    "for i in range(0,101, 10):\n",
    "    html_file += line_pattern.format(A = str(i/100))\n",
    "\n",
    "print(html_file)\n",
    "-->"
   ]
  },
  {
   "cell_type": "code",
   "execution_count": 13,
   "id": "ade77d7a-2b36-4c0a-bb00-f80cbf0e0cea",
   "metadata": {},
   "outputs": [
    {
     "data": {
      "text/html": [
       "<text style=\"background-color:rgba(60, 179, 113, 0.0);\">rgba(60, 179, 113, 0.0)</text><br>\n",
       "<text style=\"background-color:rgba(60, 179, 113, 0.1);\">rgba(60, 179, 113, 0.1)</text><br>\n",
       "<text style=\"background-color:rgba(60, 179, 113, 0.2);\">rgba(60, 179, 113, 0.2)</text><br>\n",
       "<text style=\"background-color:rgba(60, 179, 113, 0.3);\">rgba(60, 179, 113, 0.3)</text><br>\n",
       "<text style=\"background-color:rgba(60, 179, 113, 0.4);\">rgba(60, 179, 113, 0.4)</text><br>\n",
       "<text style=\"background-color:rgba(60, 179, 113, 0.5);\">rgba(60, 179, 113, 0.5)</text><br>\n",
       "<text style=\"background-color:rgba(60, 179, 113, 0.6);\">rgba(60, 179, 113, 0.6)</text><br>\n",
       "<text style=\"background-color:rgba(60, 179, 113, 0.7);\">rgba(60, 179, 113, 0.7)</text><br>\n",
       "<text style=\"background-color:rgba(60, 179, 113, 0.8);\">rgba(60, 179, 113, 0.8)</text><br>\n",
       "<text style=\"background-color:rgba(60, 179, 113, 0.9);\">rgba(60, 179, 113, 0.9)</text><br>\n",
       "<text style=\"background-color:rgba(60, 179, 113, 1.0);\">rgba(60, 179, 113, 1.0)</text><br>\n"
      ],
      "text/plain": [
       "<IPython.core.display.HTML object>"
      ]
     },
     "metadata": {},
     "output_type": "display_data"
    }
   ],
   "source": [
    "%%HTML\n",
    "<text style=\"background-color:rgba(60, 179, 113, 0.0);\">rgba(60, 179, 113, 0.0)</text><br>\n",
    "<text style=\"background-color:rgba(60, 179, 113, 0.1);\">rgba(60, 179, 113, 0.1)</text><br>\n",
    "<text style=\"background-color:rgba(60, 179, 113, 0.2);\">rgba(60, 179, 113, 0.2)</text><br>\n",
    "<text style=\"background-color:rgba(60, 179, 113, 0.3);\">rgba(60, 179, 113, 0.3)</text><br>\n",
    "<text style=\"background-color:rgba(60, 179, 113, 0.4);\">rgba(60, 179, 113, 0.4)</text><br>\n",
    "<text style=\"background-color:rgba(60, 179, 113, 0.5);\">rgba(60, 179, 113, 0.5)</text><br>\n",
    "<text style=\"background-color:rgba(60, 179, 113, 0.6);\">rgba(60, 179, 113, 0.6)</text><br>\n",
    "<text style=\"background-color:rgba(60, 179, 113, 0.7);\">rgba(60, 179, 113, 0.7)</text><br>\n",
    "<text style=\"background-color:rgba(60, 179, 113, 0.8);\">rgba(60, 179, 113, 0.8)</text><br>\n",
    "<text style=\"background-color:rgba(60, 179, 113, 0.9);\">rgba(60, 179, 113, 0.9)</text><br>\n",
    "<text style=\"background-color:rgba(60, 179, 113, 1.0);\">rgba(60, 179, 113, 1.0)</text><br>"
   ]
  },
  {
   "cell_type": "markdown",
   "id": "3f9c163b-1db0-4a95-b388-e19101287bbb",
   "metadata": {},
   "source": [
    "### HEX"
   ]
  },
  {
   "cell_type": "markdown",
   "id": "73bc0897-ed96-4c0d-8c46-fdd18efa2ddf",
   "metadata": {},
   "source": [
    "Use the following syntax `#rrggbb`."
   ]
  },
  {
   "cell_type": "code",
   "execution_count": 19,
   "id": "f2c2d8b2-bb41-418d-abd6-029612ae7de0",
   "metadata": {},
   "outputs": [
    {
     "data": {
      "text/html": [
       "<text style=\"background-color:#afc445;\">#afc445</text>\n"
      ],
      "text/plain": [
       "<IPython.core.display.HTML object>"
      ]
     },
     "metadata": {},
     "output_type": "display_data"
    }
   ],
   "source": [
    "%%HTML\n",
    "<text style=\"background-color:#afc445;\">#afc445</text>"
   ]
  },
  {
   "cell_type": "markdown",
   "id": "764b78b9-36c1-4302-84d7-b04191a18dfa",
   "metadata": {},
   "source": [
    "### HSL\n",
    "\n",
    "**H**ue **S**aturation **L**ightness.\n",
    "\n",
    "Use the following syntax `HSL(H,S,L)`.\n",
    "\n",
    "Where:\n",
    "$$H \\in [0,360);$$\n",
    "$$S, L \\in [0,100].$$"
   ]
  },
  {
   "cell_type": "code",
   "execution_count": 18,
   "id": "a678a017-86e8-42b9-883b-91a9c8f0f669",
   "metadata": {},
   "outputs": [
    {
     "data": {
      "text/html": [
       "<text style=\"background-color:HSL(150, 60%, 50%);\">HSL(150, 60%, 50%)</text>\n"
      ],
      "text/plain": [
       "<IPython.core.display.HTML object>"
      ]
     },
     "metadata": {},
     "output_type": "display_data"
    }
   ],
   "source": [
    "%%HTML\n",
    "<text style=\"background-color:HSL(150, 60%, 50%);\">HSL(150, 60%, 50%)</text>"
   ]
  },
  {
   "cell_type": "markdown",
   "id": "776a3440-37ef-48af-b656-61d646d4d53c",
   "metadata": {},
   "source": [
    "### HSLA\n",
    "\n",
    "**H**ue **S**aturation **L**ightness **A**lpha.\n",
    "\n",
    "Use the following syntax `HSL(H,S,L)`.\n",
    "\n",
    "Where:\n",
    "$$H \\in [0,360);$$\n",
    "$$S, L \\in [0,100];$$\n",
    "$$A \\in [0,1].$$"
   ]
  },
  {
   "cell_type": "code",
   "execution_count": 17,
   "id": "6c584808-bba9-4819-8e34-258c5e363e82",
   "metadata": {},
   "outputs": [
    {
     "data": {
      "text/html": [
       "<text style=\"background-color:HSL(150, 60%, 50%, 0.3);\">HSL(150, 60%, 50%, 0.3)</text>\n"
      ],
      "text/plain": [
       "<IPython.core.display.HTML object>"
      ]
     },
     "metadata": {},
     "output_type": "display_data"
    }
   ],
   "source": [
    "%%HTML\n",
    "<text style=\"background-color:HSL(150, 60%, 50%, 0.3);\">HSL(150, 60%, 50%, 0.3)</text>"
   ]
  },
  {
   "cell_type": "markdown",
   "id": "f28c7aad-2084-490b-ab03-a8828c2dc66e",
   "metadata": {},
   "source": [
    "# Background\n",
    "\n",
    "There are several ways to set background for html element here I'll focus on them."
   ]
  },
  {
   "cell_type": "markdown",
   "id": "ff4c63de-1bde-4247-b16e-11a3155b71bd",
   "metadata": {},
   "source": [
    "## background-color\n",
    "\n",
    "This is the property when you can use any color as page background. I have describet it <a href=\"#sec-back_color\">here</a>."
   ]
  },
  {
   "cell_type": "markdown",
   "id": "0bba3ac2-f639-4bd2-af6b-8f86561ad290",
   "metadata": {},
   "source": [
    "## background-image\n",
    "\n",
    "Provide way to fullfill any html element with picture. Use the following syntax:\n",
    "\n",
    "`background-image: url(<path to image>)`\n",
    "\n",
    "**Note:** Whether it's a link or an image on a computer, you have to wrap it in `url()` in any case.\n",
    "\n",
    "As an example look the following code:"
   ]
  },
  {
   "cell_type": "code",
   "execution_count": 49,
   "id": "f540e1bd-af68-4e91-a926-692a5320d59e",
   "metadata": {},
   "outputs": [
    {
     "data": {
      "text/html": [
       "\n",
       "    <hr><text style=\"font-size:16px\">HTML</text>\n",
       "    "
      ],
      "text/plain": [
       "<IPython.core.display.HTML object>"
      ]
     },
     "metadata": {},
     "output_type": "display_data"
    },
    {
     "name": "stdout",
     "output_type": "stream",
     "text": [
      "<div style=\"background-image: url('fractal_css.gif')\">\n",
      "<br><br><br><br><br><br><br><br><br><br><br><br><br><br>\n",
      "</div>\n",
      "\n",
      "<div style=\"background-image: url('https://content.codecademy.com/courses/web-101/web101-image_brownbear.jpg')\">\n",
      "<br><br><br><br><br><br><br><br><br><br><br><br><br><br>\n",
      "</div>\n"
     ]
    },
    {
     "data": {
      "text/html": [
       "<hr>"
      ],
      "text/plain": [
       "<IPython.core.display.HTML object>"
      ]
     },
     "metadata": {},
     "output_type": "display_data"
    }
   ],
   "source": [
    "display(HTML(\n",
    "    '''\n",
    "    <hr><text style=\\\"font-size:16px\\\">HTML</text>\n",
    "    '''\n",
    "))\n",
    "with open(\"css_files/background_image.html\") as file:\n",
    "    print(file.read())\n",
    "display(HTML('''<hr>'''))"
   ]
  },
  {
   "cell_type": "markdown",
   "id": "80b435ee-f036-4e58-941b-e4e60debf56f",
   "metadata": {},
   "source": [
    "You can check the result <a href=\"css_files/background_image.html\">here</a>."
   ]
  },
  {
   "cell_type": "markdown",
   "id": "b5c5b78a-8756-4f96-8f52-dffd0475553d",
   "metadata": {},
   "source": [
    "## background-repeat\n",
    "\n",
    "Describes the way in which the image represented by the `background-image` will fill the area (repeat).\n",
    "\n",
    "Can take values:\n",
    "\n",
    "- `no-repeat` - without repeats;\n",
    "- `repeat` - the image repeats horizontally and vertically;\n",
    "- `repeat-x` - the image repeats only horizontally;\n",
    "- `repeat-y` - the image repeats only vertically;\n",
    "- `space` - an integer number of repeats will be used, but if it's not possible to fullfill area with an integer number of images then spaces will be added;\n",
    "- `round` - the whole area must be filled with an integer number of images, the size of the image will be adjusted.\n",
    "\n",
    "In the following example, I try all the diggerent options. You can see the result <a href=\"css_files/background-repeate.html\">here</a>."
   ]
  },
  {
   "cell_type": "code",
   "execution_count": 61,
   "id": "a1bc5464-3b3a-48c0-83fb-be87ffb5feeb",
   "metadata": {},
   "outputs": [
    {
     "data": {
      "text/html": [
       "<hr>"
      ],
      "text/plain": [
       "<IPython.core.display.HTML object>"
      ]
     },
     "metadata": {},
     "output_type": "display_data"
    },
    {
     "name": "stdout",
     "output_type": "stream",
     "text": [
      "\n",
      "<h2>no-repeat</h2>\n",
      "<div style=\"background-image: url('mkpic.webp'); background-repeat: no-repeat;\">\n",
      "    <br><br><br><br><br><br><br><br><br><br><br><br><br><br><br><br><br><br><br>\n",
      "</div>\n",
      "\n",
      "<h2>repate</h2>\n",
      "<div style=\"background-image: url('mkpic.webp'); background-repeat: repate;\">\n",
      "    <br><br><br><br><br><br><br><br><br><br><br><br><br><br><br><br><br><br><br>\n",
      "</div>\n",
      "\n",
      "<h2>repeat-x</h2>\n",
      "<div style=\"background-image: url('mkpic.webp'); background-repeat: repeat-x;\">\n",
      "    <br><br><br><br><br><br><br><br><br><br><br><br><br><br><br><br><br><br><br>\n",
      "</div>\n",
      "\n",
      "<h2>repeat-y</h2>\n",
      "<div style=\"background-image: url('mkpic.webp'); background-repeat: repeat-y;\">\n",
      "    <br><br><br><br><br><br><br><br><br><br><br><br><br><br><br><br><br><br><br>\n",
      "</div>\n",
      "\n",
      "<h2>space</h2>\n",
      "<div style=\"background-image: url('mkpic.webp'); background-repeat: space;\">\n",
      "    <br><br><br><br><br><br><br><br><br><br><br><br><br><br><br><br><br><br><br>\n",
      "</div>\n",
      "\n",
      "<h2>round</h2>\n",
      "<div style=\"background-image: url('mkpic.webp'); background-repeat: round;\">\n",
      "    <br><br><br><br><br><br><br><br><br><br><br><br><br><br><br><br><br><br><br>\n",
      "</div>\n",
      "\n"
     ]
    },
    {
     "data": {
      "text/html": [
       "<hr>"
      ],
      "text/plain": [
       "<IPython.core.display.HTML object>"
      ]
     },
     "metadata": {},
     "output_type": "display_data"
    }
   ],
   "source": [
    "types = [\n",
    "    \"no-repeat\", \n",
    "    \"repate\", \n",
    "    \"repeat-x\", \n",
    "    \"repeat-y\", \n",
    "    \"space\", \n",
    "    \"round\"\n",
    "]\n",
    "\n",
    "pattern_line = '''\n",
    "<h2>{type}</h2>\n",
    "<div style=\"background-image: url('mkpic.webp'); background-repeat: {type};\">\n",
    "    <br><br><br><br><br><br><br><br><br><br><br><br><br><br><br><br><br><br><br>\n",
    "</div>\n",
    "'''\n",
    "html_res = \"\"\n",
    "\n",
    "for type in types:\n",
    "    html_res += pattern_line.format(type = type)\n",
    "\n",
    "\n",
    "\n",
    "with open(\"css_files/background-repeate.html\", \"w\") as file:\n",
    "    file.write(html_res)\n",
    "    \n",
    "display(HTML('''<hr>'''))\n",
    "print(html_res)\n",
    "display(HTML('''<hr>'''))"
   ]
  },
  {
   "cell_type": "markdown",
   "id": "1f215f31-066c-4c24-8ca6-3c5cf27403f9",
   "metadata": {},
   "source": [
    "# Borders"
   ]
  },
  {
   "cell_type": "markdown",
   "id": "a04eb588-6e6f-4b0f-915b-5a9974310919",
   "metadata": {},
   "source": [
    "## Basic"
   ]
  },
  {
   "cell_type": "markdown",
   "id": "7ece28bf-7976-41af-9a22-7fbe76bc1f9a",
   "metadata": {},
   "source": [
    "Allows you to set borders for the hmlt element. Use the following syntax:\n",
    "\n",
    "`style=\"border: <width> <style> <color>\"`\n",
    "\n",
    "Or separetely:\n",
    "\n",
    "```\n",
    "border-width: <width>;\n",
    "border-style: <style>;\n",
    "border-color: <color>;\n",
    "```\n",
    "\n",
    "<!--\n",
    "colors = ['red', 'yellow', 'green']\n",
    "styles = [\"solid\", \"dotted\"]\n",
    "sizes = [\"5px\", \"10px\"]\n",
    "line_template = '<p style=\"border:{}\">{}</text><br>'\n",
    "html_line = \"\"\n",
    "\n",
    "for col in colors:\n",
    "    for style in styles:\n",
    "        for s in sizes:\n",
    "            line = \"{} {} {}\".format(col, style, s)\n",
    "            html_line += (line_template.format(line, line) + \"\\n\")\n",
    "print(html_line)\n",
    "-->"
   ]
  },
  {
   "cell_type": "code",
   "execution_count": 22,
   "id": "1814f48a-fd2f-4679-aacb-7ba7f4d494fb",
   "metadata": {},
   "outputs": [
    {
     "data": {
      "text/html": [
       "<p style=\"border:red solid 5px\">red solid 5px</text><br>\n",
       "<p style=\"border:red solid 10px\">red solid 10px</text><br>\n",
       "<p style=\"border:red dotted 5px\">red dotted 5px</text><br>\n",
       "<p style=\"border:red dotted 10px\">red dotted 10px</text><br>\n",
       "<p style=\"border:yellow solid 5px\">yellow solid 5px</text><br>\n",
       "<p style=\"border:yellow solid 10px\">yellow solid 10px</text><br>\n",
       "<p style=\"border:yellow dotted 5px\">yellow dotted 5px</text><br>\n",
       "<p style=\"border:yellow dotted 10px\">yellow dotted 10px</text><br>\n",
       "<p style=\"border:green solid 5px\">green solid 5px</text><br>\n",
       "<p style=\"border:green solid 10px\">green solid 10px</text><br>\n",
       "<p style=\"border:green dotted 5px\">green dotted 5px</text><br>\n",
       "<p style=\"border:green dotted 10px\">green dotted 10px</text><br>\n"
      ],
      "text/plain": [
       "<IPython.core.display.HTML object>"
      ]
     },
     "metadata": {},
     "output_type": "display_data"
    }
   ],
   "source": [
    "%%HTML\n",
    "<p style=\"border:red solid 5px\">red solid 5px</text><br>\n",
    "<p style=\"border:red solid 10px\">red solid 10px</text><br>\n",
    "<p style=\"border:red dotted 5px\">red dotted 5px</text><br>\n",
    "<p style=\"border:red dotted 10px\">red dotted 10px</text><br>\n",
    "<p style=\"border:yellow solid 5px\">yellow solid 5px</text><br>\n",
    "<p style=\"border:yellow solid 10px\">yellow solid 10px</text><br>\n",
    "<p style=\"border:yellow dotted 5px\">yellow dotted 5px</text><br>\n",
    "<p style=\"border:yellow dotted 10px\">yellow dotted 10px</text><br>\n",
    "<p style=\"border:green solid 5px\">green solid 5px</text><br>\n",
    "<p style=\"border:green solid 10px\">green solid 10px</text><br>\n",
    "<p style=\"border:green dotted 5px\">green dotted 5px</text><br>\n",
    "<p style=\"border:green dotted 10px\">green dotted 10px</text><br>"
   ]
  },
  {
   "cell_type": "markdown",
   "id": "e78a6c1c-cc76-41a6-a856-c90ec644e83b",
   "metadata": {},
   "source": [
    "By using syntax `border:...` you can use any sequence of properties - browser should recogise them."
   ]
  },
  {
   "cell_type": "code",
   "execution_count": 23,
   "id": "cdf23b5c-dd68-40a3-a5b7-78990b5a88f8",
   "metadata": {},
   "outputs": [
    {
     "data": {
      "text/html": [
       "<p style=\"border:red 3px solid\">red 3px solid</p>\n",
       "<p style=\"border:3px solid red\">3px solid red</p>\n"
      ],
      "text/plain": [
       "<IPython.core.display.HTML object>"
      ]
     },
     "metadata": {},
     "output_type": "display_data"
    }
   ],
   "source": [
    "%%HTML\n",
    "<p style=\"border:red 3px solid\">red 3px solid</p>\n",
    "<p style=\"border:3px solid red\">3px solid red</p>"
   ]
  },
  {
   "cell_type": "markdown",
   "id": "77ad203e-b1f4-46e9-b3c2-3181c268c986",
   "metadata": {},
   "source": [
    "## Styles\n",
    "\n",
    "In following example I mentioned all possible border styles:\n",
    "\n",
    "<!--\n",
    "style_types = [\n",
    "    \"solid\",\n",
    "    \"dotted\",\n",
    "    \"dashed\",\n",
    "    \"double\",\n",
    "    \"groove\",\n",
    "    \"ridge\",\n",
    "    \"outset\",\n",
    "    \"inset\"\n",
    "]\n",
    "html_line = \"\"\n",
    "line_pattern = \"<p style=\\\"border-style:{style}\\\">{style}</p>\\n\"\n",
    "\n",
    "for style in style_types:\n",
    "    html_line += line_pattern.format(style = style)\n",
    "print(html_line)\n",
    "-->"
   ]
  },
  {
   "cell_type": "code",
   "execution_count": 25,
   "id": "80b742dd-c4b1-4918-9ef4-86c8a55df9a9",
   "metadata": {},
   "outputs": [
    {
     "data": {
      "text/html": [
       "<p style=\"border-style:solid\">solid</p>\n",
       "<p style=\"border-style:dotted\">dotted</p>\n",
       "<p style=\"border-style:dashed\">dashed</p>\n",
       "<p style=\"border-style:double\">double</p>\n",
       "<p style=\"border-style:groove\">groove</p>\n",
       "<p style=\"border-style:ridge\">ridge</p>\n",
       "<p style=\"border-style:outset\">outset</p>\n",
       "<p style=\"border-style:inset\">inset</p>\n"
      ],
      "text/plain": [
       "<IPython.core.display.HTML object>"
      ]
     },
     "metadata": {},
     "output_type": "display_data"
    }
   ],
   "source": [
    "%%HTML\n",
    "<p style=\"border-style:solid\">solid</p>\n",
    "<p style=\"border-style:dotted\">dotted</p>\n",
    "<p style=\"border-style:dashed\">dashed</p>\n",
    "<p style=\"border-style:double\">double</p>\n",
    "<p style=\"border-style:groove\">groove</p>\n",
    "<p style=\"border-style:ridge\">ridge</p>\n",
    "<p style=\"border-style:outset\">outset</p>\n",
    "<p style=\"border-style:inset\">inset</p>"
   ]
  },
  {
   "cell_type": "markdown",
   "id": "54520b2b-0daf-4a4f-8e7c-a1187f7aadc9",
   "metadata": {},
   "source": [
    "## Width"
   ]
  },
  {
   "cell_type": "markdown",
   "id": "8e055ad2-3dde-43de-a2c6-c84429533ecd",
   "metadata": {},
   "source": [
    "You can set border widht:\n",
    "- In some measures: px, pt, cm, em etc.;\n",
    "- Using keywords: thin, medium, thick.\n",
    "\n",
    "<!--\n",
    "widthes = [\n",
    "    \"3px\", \"3pt\", \"3cm\", \"3em\",\n",
    "    \"thin\", \"medium\", \"thick\"\n",
    "]\n",
    "line_pattern = \"<p style=\\\"border:{w} solid\\\">{w} solid</p>\\n\"\n",
    "html_line = \"\"\n",
    "\n",
    "for width in widthes:\n",
    "    html_line += line_pattern.format(w=width)\n",
    "\n",
    "display(HTML('<hr>'))\n",
    "print(html_line)\n",
    "display(HTML('<hr>'))\n",
    "\n",
    "HTML(html_line)\n",
    "-->"
   ]
  },
  {
   "cell_type": "code",
   "execution_count": 26,
   "id": "1476fcc3-21f2-4799-b9e5-a6c46cad0c57",
   "metadata": {},
   "outputs": [
    {
     "data": {
      "text/html": [
       "<p style=\"border-width: top_bottom left_right;\">fsdf</p>\n"
      ],
      "text/plain": [
       "<IPython.core.display.HTML object>"
      ]
     },
     "metadata": {},
     "output_type": "display_data"
    }
   ],
   "source": [
    "%%HTML\n",
    "<p style=\"border-width: top_bottom left_right;\">fsdf</p>"
   ]
  },
  {
   "cell_type": "code",
   "execution_count": 27,
   "id": "c5cc299a-8a4c-4449-aef7-cf4dc294582c",
   "metadata": {},
   "outputs": [
    {
     "data": {
      "text/html": [
       "<p style=\"border:3px solid\">3px solid</p>\n",
       "<p style=\"border:3pt solid\">3pt solid</p>\n",
       "<p style=\"border:3cm solid\">3cm solid</p>\n",
       "<p style=\"border:3em solid\">3em solid</p>\n",
       "<p style=\"border:thin solid\">thin solid</p>\n",
       "<p style=\"border:medium solid\">medium solid</p>\n",
       "<p style=\"border:thick solid\">thick solid</p>\n"
      ],
      "text/plain": [
       "<IPython.core.display.HTML object>"
      ]
     },
     "metadata": {},
     "output_type": "display_data"
    }
   ],
   "source": [
    "%%HTML\n",
    "<p style=\"border:3px solid\">3px solid</p>\n",
    "<p style=\"border:3pt solid\">3pt solid</p>\n",
    "<p style=\"border:3cm solid\">3cm solid</p>\n",
    "<p style=\"border:3em solid\">3em solid</p>\n",
    "<p style=\"border:thin solid\">thin solid</p>\n",
    "<p style=\"border:medium solid\">medium solid</p>\n",
    "<p style=\"border:thick solid\">thick solid</p>"
   ]
  },
  {
   "cell_type": "markdown",
   "id": "6355adaf-ddbd-4810-bd73-38bcd846146f",
   "metadata": {},
   "source": [
    "## Different borders"
   ]
  },
  {
   "cell_type": "markdown",
   "id": "4b17015d-c968-478d-88fe-13d3c54da826",
   "metadata": {},
   "source": [
    "### Syntax 1\n",
    "\n",
    "You can specify different settings for different borders using syntax:\n",
    "\n",
    "- `border-<width/color/style>: <top and bottom> <left and right>`;\n",
    "- `border-<width/color/style>: <top> <left and right> <bottom>`;\n",
    "- `border-<width/color/style>: <top> <right> <bottom> <left>`.\n",
    "\n",
    "You can check it by following example:\n",
    "\n",
    "<!--\n",
    "initial_size = 3\n",
    "widthes_line = \"\"\n",
    "\n",
    "colors = [\"red\", \"yellow\", \"green\", \"purple\"]\n",
    "colors_line = \"\"\n",
    "\n",
    "styles = [\"solid\", \"dotted\", \"dashed\", \"double\"]\n",
    "styles_line = \"\"\n",
    "\n",
    "pattern_line = \"<p style=\\\"border-width:{w}; border-style:{s}; border-color:{c}\\\">widthes:{w}|colors:{c}|styles:{s}</p>\\n\"\n",
    "html_line = \"\"\n",
    "\n",
    "for i in range(4):\n",
    "    widthes_line += (str(initial_size) + \"px \")\n",
    "    initial_size += 6\n",
    "\n",
    "    colors_line += colors[i] + \" \"\n",
    "\n",
    "    styles_line += styles[i] + \" \"\n",
    "    \n",
    "    html_line += pattern_line.format(w = widthes_line, c = colors_line, s = styles_line)\n",
    "\n",
    "print(html_line)\n",
    "-->"
   ]
  },
  {
   "cell_type": "code",
   "execution_count": 28,
   "id": "9f2687f9-d4d5-44c5-a3a3-bdc9c62e9f73",
   "metadata": {},
   "outputs": [
    {
     "data": {
      "text/html": [
       "<p style=\"border-width:3px ; border-style:solid ; border-color:red \">widthes:3px |colors:red |styles:solid </p>\n",
       "<p style=\"border-width:3px 9px ; border-style:solid dotted ; border-color:red yellow \">widthes:3px 9px |colors:red yellow |styles:solid dotted </p>\n",
       "<p style=\"border-width:3px 9px 15px ; border-style:solid dotted dashed ; border-color:red yellow green \">widthes:3px 9px 15px |colors:red yellow green |styles:solid dotted dashed </p>\n",
       "<p style=\"border-width:3px 9px 15px 21px ; border-style:solid dotted dashed double ; border-color:red yellow green purple \">widthes:3px 9px 15px 21px |colors:red yellow green purple |styles:solid dotted dashed double </p>\n"
      ],
      "text/plain": [
       "<IPython.core.display.HTML object>"
      ]
     },
     "metadata": {},
     "output_type": "display_data"
    }
   ],
   "source": [
    "%%HTML\n",
    "<p style=\"border-width:3px ; border-style:solid ; border-color:red \">widthes:3px |colors:red |styles:solid </p>\n",
    "<p style=\"border-width:3px 9px ; border-style:solid dotted ; border-color:red yellow \">widthes:3px 9px |colors:red yellow |styles:solid dotted </p>\n",
    "<p style=\"border-width:3px 9px 15px ; border-style:solid dotted dashed ; border-color:red yellow green \">widthes:3px 9px 15px |colors:red yellow green |styles:solid dotted dashed </p>\n",
    "<p style=\"border-width:3px 9px 15px 21px ; border-style:solid dotted dashed double ; border-color:red yellow green purple \">widthes:3px 9px 15px 21px |colors:red yellow green purple |styles:solid dotted dashed double </p>"
   ]
  },
  {
   "cell_type": "markdown",
   "id": "e8bb1a7f-dc8b-416f-883a-d9c1b53a99cd",
   "metadata": {},
   "source": [
    "### Syntax 2\n",
    "\n",
    "You can specify different settings for different borders using syntax `border-<\"\"/top/bottom/left/right>-<\"\"/color/style/width>`."
   ]
  },
  {
   "cell_type": "code",
   "execution_count": 29,
   "id": "7ea1e4bb-e3f1-43f5-9ec5-1ff56fe77924",
   "metadata": {},
   "outputs": [
    {
     "data": {
      "text/html": [
       "<p style=\"border-top-style:dotted\">border-top-style:dotted</p>\n",
       "<p style=\"border-bottom:dashed 10px blue\">border-bottom:dashed 10px blue</p>\n"
      ],
      "text/plain": [
       "<IPython.core.display.HTML object>"
      ]
     },
     "metadata": {},
     "output_type": "display_data"
    }
   ],
   "source": [
    "%%HTML\n",
    "<p style=\"border-top-style:dotted\">border-top-style:dotted</p>\n",
    "<p style=\"border-bottom:dashed 10px blue\">border-bottom:dashed 10px blue</p>"
   ]
  },
  {
   "cell_type": "markdown",
   "id": "5432d17c-a469-4ab5-a3cf-040189308a92",
   "metadata": {},
   "source": [
    "## Corner rounding\n",
    "\n",
    "You can set borders rounding by using the following syntax:\n",
    "\n",
    "- `border-<top/bottom>-<left/right>-radius: <value>`;\n",
    "- `border-radius: <all egtes value>`;\n",
    "- `border-radius: <top-left and bottom-right> <bottom-left and top-right>`;\n",
    "- `border-radius: <top-left> <bottom-left and top-right> <bottom-right>`;\n",
    "- `border-radius: <top-left> <top-right> <bottom-right> <bottom-left>`;\n",
    "\n",
    "You can check all these options in the following example:"
   ]
  },
  {
   "cell_type": "code",
   "execution_count": 30,
   "id": "ce599b9f-5b9f-42c2-93da-5c20b99f5177",
   "metadata": {},
   "outputs": [
    {
     "data": {
      "text/html": [
       "<p style=\"border-top-left-radius:10px; border: solid\">border-top-left-radius:10px</p>\n",
       "<p style=\"border-radius: 10px; border: solid\">border-radius: 10px</p>\n",
       "<p style=\"border-radius: 10px 30px; border: solid\">border-radius: 10px 30px</p>\n",
       "<p style=\"border-radius: 10px 0px 20px; border: solid\">border-radius: 10px 0px 20px</p>\n",
       "<p style=\"border-radius: 10px 0px 20px 30px; border: solid\">border-radius: 10px 0px 20px 30px</p>\n"
      ],
      "text/plain": [
       "<IPython.core.display.HTML object>"
      ]
     },
     "metadata": {},
     "output_type": "display_data"
    }
   ],
   "source": [
    "%%HTML\n",
    "<p style=\"border-top-left-radius:10px; border: solid\">border-top-left-radius:10px</p>\n",
    "<p style=\"border-radius: 10px; border: solid\">border-radius: 10px</p>\n",
    "<p style=\"border-radius: 10px 30px; border: solid\">border-radius: 10px 30px</p>\n",
    "<p style=\"border-radius: 10px 0px 20px; border: solid\">border-radius: 10px 0px 20px</p>\n",
    "<p style=\"border-radius: 10px 0px 20px 30px; border: solid\">border-radius: 10px 0px 20px 30px</p>"
   ]
  },
  {
   "cell_type": "markdown",
   "id": "9fa2fdbf-87ec-44a8-a7b4-6cacbdd95b88",
   "metadata": {},
   "source": [
    "# Content sizing\n",
    "\n",
    "Here I will describe properties which allow to set elements sizing."
   ]
  },
  {
   "cell_type": "markdown",
   "id": "a9014ac2-246a-4f86-98a5-5ea87b810c0f",
   "metadata": {},
   "source": [
    "## `width`\n",
    "\n",
    "**Not to be confused with the `width` attribute**\n",
    "\n",
    "You can set width using:\n",
    "\n",
    "- px, cm, em;\n",
    "- percentage relative to parent size;\n",
    "- inherit - using same values as parent;\n",
    "- auto."
   ]
  },
  {
   "cell_type": "code",
   "execution_count": 37,
   "id": "c3bdad72-213f-45a3-98f6-c642933f9583",
   "metadata": {},
   "outputs": [
    {
     "data": {
      "text/html": [
       "<strong>No width option</strong>\n",
       "<p>\n",
       "Lorem ipsum dolor sit amet, consectetur adipiscing elit. \n",
       "Etiam semper diam at erat pulvinar, at pulvinar felis blandit. \n",
       "Vestibulum volutpat tellus diam, consequat gravida libero rhoncus ut.\n",
       "Maecenas imperdiet felis nisi, fringilla luctus felis hendrerit\n",
       "sit amet. Pellentesque interdum, nisl nec interdum maximus, augue\n",
       "diam porttitor lorem, et sollicitudin felis neque sit amet erat.\n",
       "</p>\n",
       "\n",
       "<strong>Width 200px</strong>\n",
       "<p style=\"width:200px\">\n",
       "Lorem ipsum dolor sit amet, consectetur adipiscing elit. \n",
       "Etiam semper diam at erat pulvinar, at pulvinar felis blandit. \n",
       "Vestibulum volutpat tellus diam, consequat gravida libero rhoncus ut.\n",
       "Maecenas imperdiet felis nisi, fringilla luctus felis hendrerit\n",
       "sit amet. Pellentesque interdum, nisl nec interdum maximus, augue\n",
       "diam porttitor lorem, et sollicitudin felis neque sit amet erat.\n",
       "</p>\n",
       "\n",
       "<strong>Width 50%</strong>\n",
       "<p style=\"width:50%\">\n",
       "Lorem ipsum dolor sit amet, consectetur adipiscing elit. \n",
       "Etiam semper diam at erat pulvinar, at pulvinar felis blandit. \n",
       "Vestibulum volutpat tellus diam, consequat gravida libero rhoncus ut.\n",
       "Maecenas imperdiet felis nisi, fringilla luctus felis hendrerit\n",
       "sit amet. Pellentesque interdum, nisl nec interdum maximus, augue\n",
       "diam porttitor lorem, et sollicitudin felis neque sit amet erat.\n",
       "</p>\n"
      ],
      "text/plain": [
       "<IPython.core.display.HTML object>"
      ]
     },
     "metadata": {},
     "output_type": "display_data"
    }
   ],
   "source": [
    "%%HTML\n",
    "<strong>No width option</strong>\n",
    "<p>\n",
    "Lorem ipsum dolor sit amet, consectetur adipiscing elit. \n",
    "Etiam semper diam at erat pulvinar, at pulvinar felis blandit. \n",
    "Vestibulum volutpat tellus diam, consequat gravida libero rhoncus ut.\n",
    "Maecenas imperdiet felis nisi, fringilla luctus felis hendrerit\n",
    "sit amet. Pellentesque interdum, nisl nec interdum maximus, augue\n",
    "diam porttitor lorem, et sollicitudin felis neque sit amet erat.\n",
    "</p>\n",
    "\n",
    "<strong>Width 200px</strong>\n",
    "<p style=\"width:200px\">\n",
    "Lorem ipsum dolor sit amet, consectetur adipiscing elit. \n",
    "Etiam semper diam at erat pulvinar, at pulvinar felis blandit. \n",
    "Vestibulum volutpat tellus diam, consequat gravida libero rhoncus ut.\n",
    "Maecenas imperdiet felis nisi, fringilla luctus felis hendrerit\n",
    "sit amet. Pellentesque interdum, nisl nec interdum maximus, augue\n",
    "diam porttitor lorem, et sollicitudin felis neque sit amet erat.\n",
    "</p>\n",
    "\n",
    "<strong>Width 50%</strong>\n",
    "<p style=\"width:50%\">\n",
    "Lorem ipsum dolor sit amet, consectetur adipiscing elit. \n",
    "Etiam semper diam at erat pulvinar, at pulvinar felis blandit. \n",
    "Vestibulum volutpat tellus diam, consequat gravida libero rhoncus ut.\n",
    "Maecenas imperdiet felis nisi, fringilla luctus felis hendrerit\n",
    "sit amet. Pellentesque interdum, nisl nec interdum maximus, augue\n",
    "diam porttitor lorem, et sollicitudin felis neque sit amet erat.\n",
    "</p>"
   ]
  },
  {
   "cell_type": "markdown",
   "id": "99b5cf75-7b46-4d1b-b8d8-efff4a5dc7a0",
   "metadata": {},
   "source": [
    "## `max-width`\n",
    "\n",
    "The width of the element cannot be exceeded. In the following example, I have created some paris of parent/child divs, each child has `max-width:200px` property, but the parent is gradually expanding. The feature here is that the child width follows the parent width only before 200px.\n",
    "\n",
    "<!--\n",
    "parent_div_pattern = '''\n",
    "<div style=\"width:{w}px;border:solid green\">\n",
    "    <div style=\"max-width:200px; border:solid red\"> parent width {w}</div>\n",
    "</div>\n",
    "'''\n",
    "\n",
    "html_line = \"\"\n",
    "\n",
    "for i in range(170, 231, 10):\n",
    "    html_line += parent_div_pattern.format(w=str(i))\n",
    "\n",
    "display(HTML(\"<hr>\"))\n",
    "print(html_line)\n",
    "display(HTML(\"<hr>\"))\n",
    "\n",
    "HTML(html_line)\n",
    "-->"
   ]
  },
  {
   "cell_type": "code",
   "execution_count": 39,
   "id": "1ba38bbd-4f4f-4a58-92a3-2f9daeb3f351",
   "metadata": {},
   "outputs": [
    {
     "data": {
      "text/html": [
       "<div style=\"width:170px;border:solid green\">\n",
       "    <div style=\"max-width:200px; border:solid red\"> parent width 170</div>\n",
       "</div>\n",
       "\n",
       "<div style=\"width:180px;border:solid green\">\n",
       "    <div style=\"max-width:200px; border:solid red\"> parent width 180</div>\n",
       "</div>\n",
       "\n",
       "<div style=\"width:190px;border:solid green\">\n",
       "    <div style=\"max-width:200px; border:solid red\"> parent width 190</div>\n",
       "</div>\n",
       "\n",
       "<div style=\"width:200px;border:solid green\">\n",
       "    <div style=\"max-width:200px; border:solid red\"> parent width 200</div>\n",
       "</div>\n",
       "\n",
       "<div style=\"width:210px;border:solid green\">\n",
       "    <div style=\"max-width:200px; border:solid red\"> parent width 210</div>\n",
       "</div>\n",
       "\n",
       "<div style=\"width:220px;border:solid green\">\n",
       "    <div style=\"max-width:200px; border:solid red\"> parent width 220</div>\n",
       "</div>\n",
       "\n",
       "<div style=\"width:230px;border:solid green\">\n",
       "    <div style=\"max-width:200px; border:solid red\"> parent width 230</div>\n",
       "</div>\n"
      ],
      "text/plain": [
       "<IPython.core.display.HTML object>"
      ]
     },
     "metadata": {},
     "output_type": "display_data"
    }
   ],
   "source": [
    "%%HTML\n",
    "<div style=\"width:170px;border:solid green\">\n",
    "    <div style=\"max-width:200px; border:solid red\"> parent width 170</div>\n",
    "</div>\n",
    "\n",
    "<div style=\"width:180px;border:solid green\">\n",
    "    <div style=\"max-width:200px; border:solid red\"> parent width 180</div>\n",
    "</div>\n",
    "\n",
    "<div style=\"width:190px;border:solid green\">\n",
    "    <div style=\"max-width:200px; border:solid red\"> parent width 190</div>\n",
    "</div>\n",
    "\n",
    "<div style=\"width:200px;border:solid green\">\n",
    "    <div style=\"max-width:200px; border:solid red\"> parent width 200</div>\n",
    "</div>\n",
    "\n",
    "<div style=\"width:210px;border:solid green\">\n",
    "    <div style=\"max-width:200px; border:solid red\"> parent width 210</div>\n",
    "</div>\n",
    "\n",
    "<div style=\"width:220px;border:solid green\">\n",
    "    <div style=\"max-width:200px; border:solid red\"> parent width 220</div>\n",
    "</div>\n",
    "\n",
    "<div style=\"width:230px;border:solid green\">\n",
    "    <div style=\"max-width:200px; border:solid red\"> parent width 230</div>\n",
    "</div>\n"
   ]
  },
  {
   "cell_type": "markdown",
   "id": "aeb0c53f-fe0d-4f49-bd04-52404afc533a",
   "metadata": {},
   "source": [
    "## `min-width`\n",
    "\n",
    "An item cannot take a value shorter than this length. In the following example, I have created some paris of parent/child divs, each child has `min-width:200px` property, but the parent is gradually expanding. The feature here is that the child width follows the parent width only after 200px.\n",
    "\n",
    "<!--\n",
    "parent_div_pattern = '''\n",
    "<div style=\"width:{w}px;border:solid green\">\n",
    "    <div style=\"min-width:200px; border:solid red\"> parent width {w}</div>\n",
    "</div>\n",
    "'''\n",
    "\n",
    "html_line = \"\"\n",
    "\n",
    "for i in range(170, 231, 10):\n",
    "    html_line += parent_div_pattern.format(w=str(i))\n",
    "\n",
    "print(html_line)\n",
    "-->"
   ]
  },
  {
   "cell_type": "code",
   "execution_count": 40,
   "id": "e6a7940c-7624-4a4d-a353-4b0290cfaa7a",
   "metadata": {},
   "outputs": [
    {
     "data": {
      "text/html": [
       "<div style=\"width:170px;border:solid green\">\n",
       "    <div style=\"min-width:200px; border:solid red\"> parent width 170</div>\n",
       "</div>\n",
       "\n",
       "<div style=\"width:180px;border:solid green\">\n",
       "    <div style=\"min-width:200px; border:solid red\"> parent width 180</div>\n",
       "</div>\n",
       "\n",
       "<div style=\"width:190px;border:solid green\">\n",
       "    <div style=\"min-width:200px; border:solid red\"> parent width 190</div>\n",
       "</div>\n",
       "\n",
       "<div style=\"width:200px;border:solid green\">\n",
       "    <div style=\"min-width:200px; border:solid red\"> parent width 200</div>\n",
       "</div>\n",
       "\n",
       "<div style=\"width:210px;border:solid green\">\n",
       "    <div style=\"min-width:200px; border:solid red\"> parent width 210</div>\n",
       "</div>\n",
       "\n",
       "<div style=\"width:220px;border:solid green\">\n",
       "    <div style=\"min-width:200px; border:solid red\"> parent width 220</div>\n",
       "</div>\n",
       "\n",
       "<div style=\"width:230px;border:solid green\">\n",
       "    <div style=\"min-width:200px; border:solid red\"> parent width 230</div>\n",
       "</div>\n"
      ],
      "text/plain": [
       "<IPython.core.display.HTML object>"
      ]
     },
     "metadata": {},
     "output_type": "display_data"
    }
   ],
   "source": [
    "%%HTML\n",
    "<div style=\"width:170px;border:solid green\">\n",
    "    <div style=\"min-width:200px; border:solid red\"> parent width 170</div>\n",
    "</div>\n",
    "\n",
    "<div style=\"width:180px;border:solid green\">\n",
    "    <div style=\"min-width:200px; border:solid red\"> parent width 180</div>\n",
    "</div>\n",
    "\n",
    "<div style=\"width:190px;border:solid green\">\n",
    "    <div style=\"min-width:200px; border:solid red\"> parent width 190</div>\n",
    "</div>\n",
    "\n",
    "<div style=\"width:200px;border:solid green\">\n",
    "    <div style=\"min-width:200px; border:solid red\"> parent width 200</div>\n",
    "</div>\n",
    "\n",
    "<div style=\"width:210px;border:solid green\">\n",
    "    <div style=\"min-width:200px; border:solid red\"> parent width 210</div>\n",
    "</div>\n",
    "\n",
    "<div style=\"width:220px;border:solid green\">\n",
    "    <div style=\"min-width:200px; border:solid red\"> parent width 220</div>\n",
    "</div>\n",
    "\n",
    "<div style=\"width:230px;border:solid green\">\n",
    "    <div style=\"min-width:200px; border:solid red\"> parent width 230</div>\n",
    "</div>"
   ]
  },
  {
   "cell_type": "markdown",
   "id": "afbfff79-4368-452b-9bbb-145c000c5672",
   "metadata": {},
   "source": [
    "# Box model\n",
    "\n",
    "By default, the size of the element is added from:\n",
    "\n",
    "- content size;\n",
    "- padding;\n",
    "- border;\n",
    "- margin.\n",
    "\n",
    "Or with more details:\n",
    "\n",
    "- `<element width>=<content width>+<left padding>+<right padding>+<left border<right border>+<left margin>+<right margin>`;\n",
    "- `<element height>=<content height>+<top padding>+<bottom padding>+<top padding>+<bottom padding>+<top margin>+<bottom margin>`.\n",
    "\n",
    "This idea is called `Content-box` displayed on the left side of the following picture:\n",
    "\n",
    "<img src=\"css_files/box_model_schema.png\" style=\"margin:auto\">\n",
    "\n",
    "Alternative way is to use `Border-box` model. Where properties width and height will set size of **whole** element including:\n",
    "\n",
    "- content size;\n",
    "- padding;\n",
    "- border.\n",
    "\n",
    "Check the following html file:"
   ]
  },
  {
   "cell_type": "code",
   "execution_count": 181,
   "id": "0e7f83ad-7a83-4e0e-81ff-7a2cbfc022c8",
   "metadata": {},
   "outputs": [
    {
     "data": {
      "text/html": [
       "<hr>"
      ],
      "text/plain": [
       "<IPython.core.display.HTML object>"
      ]
     },
     "metadata": {},
     "output_type": "display_data"
    },
    {
     "name": "stdout",
     "output_type": "stream",
     "text": [
      "<style>\n",
      "    div {\n",
      "        border: solid 5px\n",
      "    }\n",
      "    .child_sizing {\n",
      "        padding: 10px;\n",
      "        margin: 10px;\n",
      "        width: 200px;\n",
      "        height: 200px;\n",
      "    }\n",
      "</style>\n",
      "\n",
      "<h1>Box type \"Content-Box\"</h1>\n",
      "<div>\n",
      "    <div class=child_sizing>\n",
      "        Content text\n",
      "    </div>\n",
      "</div>\n",
      "\n",
      "<h1>Box type \"Border-Box\"</h1>\n",
      "<div>\n",
      "    <div class=child_sizing style=\"box-sizing:border-box\">\n",
      "        Content text\n",
      "    </div>\n",
      "</div>\n"
     ]
    },
    {
     "data": {
      "text/html": [
       "<hr>"
      ],
      "text/plain": [
       "<IPython.core.display.HTML object>"
      ]
     },
     "metadata": {},
     "output_type": "display_data"
    }
   ],
   "source": [
    "display(HTML('<hr>'))\n",
    "with open(\"css_files/box_model_types.html\") as file:\n",
    "    print(file.read())\n",
    "display(HTML('<hr>'))"
   ]
  },
  {
   "cell_type": "markdown",
   "id": "270f23ec-4b4b-490d-8ae2-00c249acaae3",
   "metadata": {},
   "source": [
    "Check the result <a href=\"css_files/box_model_types.html\">here</a>. Pay special attention to section `box-model` in browzer inspector:\n",
    "\n",
    "- Content-box:\n",
    "\n",
    "<img src=\"css_files/content_box.png\">\n",
    "\n",
    "Content size 200x200 as widht/height property;\n",
    "\n",
    "- Border-box:\n",
    "\n",
    "<img src=\"css_files/border_box.png\">\n",
    "\n",
    "Content size is adapted to meet the condition `<padding>+<border>+<content width/height>=200`. "
   ]
  },
  {
   "cell_type": "markdown",
   "id": "355cad2e-a4f4-4aaa-9122-52d75fceec92",
   "metadata": {},
   "source": [
    "# Font properties"
   ]
  },
  {
   "cell_type": "markdown",
   "id": "6df5dfb6-c299-403b-a04e-94c99df8b004",
   "metadata": {},
   "source": [
    "## `font-size` - font size\n",
    "\n",
    "[measures](#sec-sizes_measures)"
   ]
  },
  {
   "cell_type": "code",
   "execution_count": 42,
   "id": "0ae92b6a-5a77-4883-bff6-457e3778abb0",
   "metadata": {},
   "outputs": [
    {
     "data": {
      "text/html": [
       "<p style=\"font-size:20px\">20px font size</p>\n",
       "<p style=\"font-size:10px\">10px font size</p>\n",
       "<p style=\"font-size:100%\">100% font size</p>\n",
       "<p style=\"font-size:120%\">120% font size</p>\n"
      ],
      "text/plain": [
       "<IPython.core.display.HTML object>"
      ]
     },
     "metadata": {},
     "output_type": "display_data"
    }
   ],
   "source": [
    "%%HTML\n",
    "<p style=\"font-size:20px\">20px font size</p>\n",
    "<p style=\"font-size:10px\">10px font size</p>\n",
    "<p style=\"font-size:100%\">100% font size</p>\n",
    "<p style=\"font-size:120%\">120% font size</p>"
   ]
  },
  {
   "cell_type": "markdown",
   "id": "07ae5261-750f-4fa2-bd4e-a2a6b4ab28c0",
   "metadata": {},
   "source": [
    "## `font-weight` - bold/thin text\n",
    "\n",
    "Shapes the weight (saturation) of the font.\n",
    "\n",
    "- `normal` - Sets normal font saturation (default value).\n",
    "- `bold` - Sets the font to bold.\n",
    "- `bolder` Increases font saturation by one level relative to the parent element.\n",
    "- `lighter` - Decreases the boldness of the font by one level relative to the parent element.\n",
    "- Setting values between 100 and 900: These values define the specific font style, where 400 is equal to normal bold and 700 is equal to bold. Some browsers may not support all values in this range.\n",
    "\n",
    "<!--\n",
    "font_weigths_values = \\\n",
    "[\"normal\", \"bold\", \"bolder\", \"lighter\"] +\\\n",
    "[i for i in range(200, 801, 50)]\n",
    "\n",
    "html_line = \"\"\n",
    "pattern = \"<text style=\\\"font-weight:{fw}\\\">{fw}</text>\\n\"\n",
    "\n",
    "for fw in font_weigths_values:\n",
    "    html_line += pattern.format(fw=fw)\n",
    "\n",
    "print(html_line)\n",
    "-->"
   ]
  },
  {
   "cell_type": "code",
   "execution_count": 45,
   "id": "cf5861de-7e1c-42c1-9679-0beb144e9937",
   "metadata": {},
   "outputs": [
    {
     "data": {
      "text/html": [
       "<text style=\"font-weight:normal\">normal</text>\n",
       "<text style=\"font-weight:bold\">bold</text>\n",
       "<text style=\"font-weight:bolder\">bolder</text>\n",
       "<text style=\"font-weight:lighter\">lighter</text>\n",
       "<text style=\"font-weight:200\">200</text>\n",
       "<text style=\"font-weight:250\">250</text>\n",
       "<text style=\"font-weight:300\">300</text>\n",
       "<text style=\"font-weight:350\">350</text>\n",
       "<text style=\"font-weight:400\">400</text>\n",
       "<text style=\"font-weight:450\">450</text>\n",
       "<text style=\"font-weight:500\">500</text>\n",
       "<text style=\"font-weight:550\">550</text>\n",
       "<text style=\"font-weight:600\">600</text>\n",
       "<text style=\"font-weight:650\">650</text>\n",
       "<text style=\"font-weight:700\">700</text>\n",
       "<text style=\"font-weight:750\">750</text>\n",
       "<text style=\"font-weight:800\">800</text>\n"
      ],
      "text/plain": [
       "<IPython.core.display.HTML object>"
      ]
     },
     "metadata": {},
     "output_type": "display_data"
    }
   ],
   "source": [
    "%%HTML\n",
    "<text style=\"font-weight:normal\">normal</text>\n",
    "<text style=\"font-weight:bold\">bold</text>\n",
    "<text style=\"font-weight:bolder\">bolder</text>\n",
    "<text style=\"font-weight:lighter\">lighter</text>\n",
    "<text style=\"font-weight:200\">200</text>\n",
    "<text style=\"font-weight:250\">250</text>\n",
    "<text style=\"font-weight:300\">300</text>\n",
    "<text style=\"font-weight:350\">350</text>\n",
    "<text style=\"font-weight:400\">400</text>\n",
    "<text style=\"font-weight:450\">450</text>\n",
    "<text style=\"font-weight:500\">500</text>\n",
    "<text style=\"font-weight:550\">550</text>\n",
    "<text style=\"font-weight:600\">600</text>\n",
    "<text style=\"font-weight:650\">650</text>\n",
    "<text style=\"font-weight:700\">700</text>\n",
    "<text style=\"font-weight:750\">750</text>\n",
    "<text style=\"font-weight:800\">800</text>"
   ]
  },
  {
   "cell_type": "markdown",
   "id": "32648fcf-2658-4e25-901c-ca863a000baf",
   "metadata": {},
   "source": [
    "# Other properties"
   ]
  },
  {
   "cell_type": "markdown",
   "id": "e0cf5ba0-ef3e-46c7-bdf0-bf07ef45b51d",
   "metadata": {},
   "source": [
    "## `text-align` - position of the text"
   ]
  },
  {
   "cell_type": "code",
   "execution_count": 47,
   "id": "bafe94dd-3d2c-495b-9faf-c3c5b21f388a",
   "metadata": {},
   "outputs": [
    {
     "data": {
      "text/html": [
       "<p style=\"text-align:center\">Centered text</p>\n",
       "<p style=\"text-align:right\">Rigth side text</p>\n",
       "<p style=\"text-align:left\">Left side text</p>\n"
      ],
      "text/plain": [
       "<IPython.core.display.HTML object>"
      ]
     },
     "metadata": {},
     "output_type": "display_data"
    }
   ],
   "source": [
    "%%HTML\n",
    "<p style=\"text-align:center\">Centered text</p>\n",
    "<p style=\"text-align:right\">Rigth side text</p>\n",
    "<p style=\"text-align:left\">Left side text</p>"
   ]
  },
  {
   "cell_type": "markdown",
   "id": "a440c625-f710-471b-8945-7bc7dbb92fcb",
   "metadata": {},
   "source": [
    "## `float` - float position\n",
    "\n",
    "The `float` CSS property places an element on the left or right side of its container, allowing text and inline elements to wrap around it. "
   ]
  }
 ],
 "metadata": {
  "kernelspec": {
   "display_name": "Python 3 (ipykernel)",
   "language": "python",
   "name": "python3"
  },
  "language_info": {
   "codemirror_mode": {
    "name": "ipython",
    "version": 3
   },
   "file_extension": ".py",
   "mimetype": "text/x-python",
   "name": "python",
   "nbconvert_exporter": "python",
   "pygments_lexer": "ipython3",
   "version": "3.10.12"
  }
 },
 "nbformat": 4,
 "nbformat_minor": 5
}
