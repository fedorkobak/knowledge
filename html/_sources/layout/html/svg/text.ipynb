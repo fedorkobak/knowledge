{
 "cells": [
  {
   "cell_type": "markdown",
   "id": "f9cd8d62",
   "metadata": {},
   "source": [
    "# Text\n",
    "\n",
    "To draw an text in an SVG document, the tag `<text></text>` must to be used."
   ]
  },
  {
   "cell_type": "markdown",
   "id": "b4014dc5",
   "metadata": {},
   "source": [
    "## TeX\n",
    "\n",
    "SVG does not support TeX. If you have graphics containing TeX, you have to manipulate text to make symbols to look like TeX. The only approach I know of yet is to use the `style=\"font-family: 'LatinModern'` and `font-style=\"italic\"` attributes for the `text` tag. This approach doesn't produce ideal results:\n",
    "\n",
    "- You can't use complex fomulas in your SVG. \n",
    "- Some symbosl dysplayed not exactly as they supposed to be dsiplayed by TeX."
   ]
  },
  {
   "cell_type": "markdown",
   "id": "e9467f81",
   "metadata": {},
   "source": [
    "---\n",
    "\n",
    "The following cell illustrates how the TeX expression $ABC \\alpha \\beta \\gamma$ will be displayed using the described approach."
   ]
  },
  {
   "cell_type": "code",
   "execution_count": null,
   "id": "c3b51e68",
   "metadata": {},
   "outputs": [
    {
     "data": {
      "text/html": [
       "<svg width=\"100\" height=\"30\" style=\"background-color: #f9f9f9;\">\n",
       "<text x=0 y=20 font-size=\"24\" style=\"font-family: 'LatinModern'\" font-style=\"italic\">ABCαβγ</text>\n",
       "</svg>\n"
      ],
      "text/plain": [
       "<IPython.core.display.HTML object>"
      ]
     },
     "metadata": {},
     "output_type": "display_data"
    }
   ],
   "source": [
    "%%HTML\n",
    "<svg width=\"100\" height=\"30\" style=\"background-color: #f9f9f9;\">\n",
    "<text x=0 y=20 font-size=\"24\" style=\"font-family: 'LatinModern'\" font-style=\"italic\">ABCαβγ</text>\n",
    "</svg>"
   ]
  },
  {
   "cell_type": "markdown",
   "id": "e31ef0a4",
   "metadata": {},
   "source": [
    "**Note**: To draw greek symbols you have to use them as regular ASCII characters. Copy them here:\n",
    "\n",
    "| Uppercase | Lowercase |\n",
    "| --------- | --------- |\n",
    "| Α         | α         |\n",
    "| Β         | β         |\n",
    "| Γ         | γ         |\n",
    "| Δ         | δ         |\n",
    "| Ε         | ε         |\n",
    "| Ζ         | ζ         |\n",
    "| Η         | η         |\n",
    "| Θ         | θ         |\n",
    "| Ι         | ι         |\n",
    "| Κ         | κ         |\n",
    "| Λ         | λ         |\n",
    "| Μ         | μ         |\n",
    "| Ν         | ν         |\n",
    "| Ξ         | ξ         |\n",
    "| Ο         | ο         |\n",
    "| Π         | π         |\n",
    "| Ρ         | ρ         |\n",
    "| Σ         | σ / ς     |\n",
    "| Τ         | τ         |\n",
    "| Υ         | υ         |\n",
    "| Φ         | φ         |\n",
    "| Χ         | χ         |\n",
    "| Ψ         | ψ         |\n",
    "| Ω         | ω         |"
   ]
  }
 ],
 "metadata": {
  "language_info": {
   "name": "python"
  }
 },
 "nbformat": 4,
 "nbformat_minor": 5
}
