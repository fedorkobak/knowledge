{
 "cells": [
  {
   "cell_type": "markdown",
   "id": "e4822609-c8d4-4f4f-87d6-3bd1a19c4cdf",
   "metadata": {},
   "source": [
    "# Complexity\n",
    "\n",
    "Here is a description of how to estimate the complexity of an algorithm."
   ]
  },
  {
   "cell_type": "markdown",
   "id": "1180b9dd-e182-4c34-970b-5e4cf88634f9",
   "metadata": {},
   "source": [
    "## Asimptotic complexity\n",
    "\n",
    "It's a method that requires you to estimate the number of elementary operations we use to process $N$ elements. It is assumed that N is large enough or tends to infinity. We usually use the notation $O(f(N))$, where $f(N)$ is some function of $N$.\n",
    "\n",
    "So if talking that complexity of the algorithm is $O(f(N))$ it means that there is a guaranteed number $O$ such that the considered algorithm will perform no more than $O*N$ actions.\n",
    "\n",
    "Examples:\n",
    "\n",
    "- Foundry complexity $O(N)$ - cycle that has one iteration for each of $N$ elements;\n",
    "- Quadratic complexity of the algorithm $O(N^2)$ - cycle that has $N$ iterations for each of $N$ elements."
   ]
  },
  {
   "cell_type": "markdown",
   "id": "c0ba1a0a-4f50-4e08-9d9f-36c2608447b6",
   "metadata": {},
   "source": [
    "## Spatial complexity\n",
    "\n",
    "It describes how much RAM the algorithm is using."
   ]
  }
 ],
 "metadata": {
  "kernelspec": {
   "display_name": "Python 3 (ipykernel)",
   "language": "python",
   "name": "python3"
  },
  "language_info": {
   "codemirror_mode": {
    "name": "ipython",
    "version": 3
   },
   "file_extension": ".py",
   "mimetype": "text/x-python",
   "name": "python",
   "nbconvert_exporter": "python",
   "pygments_lexer": "ipython3",
   "version": "3.10.12"
  }
 },
 "nbformat": 4,
 "nbformat_minor": 5
}
