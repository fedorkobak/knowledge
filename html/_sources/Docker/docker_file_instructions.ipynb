{
 "cells": [
  {
   "cell_type": "markdown",
   "id": "6e3c4760-3e61-44db-a2c7-ccdbdbd16100",
   "metadata": {},
   "source": [
    "# Dockerfile instructions\n",
    "\n",
    "Here are the most basic options for the dockerfile.\n",
    "\n",
    "- `FROM` - sets the base image for the new image;\n",
    "- `WORKDIR` - sets the working directory;\n",
    "- `COPY <host directory> <image directory>` - copy file from host to the image;\n",
    "- `RUN` - allows to run command during container build. "
   ]
  },
  {
   "cell_type": "markdown",
   "id": "af5a4414-d1dc-4e75-9f26-069cf9e93eea",
   "metadata": {},
   "source": [
    "# Run with start of container"
   ]
  },
  {
   "cell_type": "markdown",
   "id": "0685dd6b-de52-4f30-ad15-b7d90fd99b49",
   "metadata": {},
   "source": [
    "The instructions provided in this section allow you to set container behaviour with the command specified when starting the container in `docker run`. So [here](docker_commands.ipynb#sec-docker_run_com_on_start) you can find some useful tips."
   ]
  },
  {
   "cell_type": "markdown",
   "id": "666d7776-184a-48fd-8731-5b600b839980",
   "metadata": {},
   "source": [
    "## `ENTRYPOINT`\n",
    "\n",
    "Allow command to run when container based on image is running. The feature of this instruction is that you can add something at the end of the `docker run` command, and it will be added to command described in `ENTRYPOINT`.\n",
    "\n",
    "Such dockerfile:\n",
    "```\n",
    "FROM ubuntu:20.04\n",
    "ENTRYPOINT [ \"echo\" ]\n",
    "```\n",
    "\n",
    "Creates a container that will `echo` the line declared at the end of the docker run command. For exmaple:"
   ]
  },
  {
   "cell_type": "code",
   "execution_count": 5,
   "id": "24d5555e-eb45-4daa-9d97-b8fb317df11e",
   "metadata": {},
   "outputs": [
    {
     "name": "stdout",
     "output_type": "stream",
     "text": [
      "hello world\n",
      "ls\n"
     ]
    }
   ],
   "source": [
    "%%bash\n",
    "docker build \\\n",
    "    -f basic_instructions/entrypoint_example \\\n",
    "    -t test_ubuntu \\\n",
    "    basic_instructions &> /dev/null\n",
    "\n",
    "docker run --rm test_ubuntu \"hello world\"\n",
    "docker run --rm test_ubuntu ls\n",
    "docker rmi test_ubuntu &> /dev/null"
   ]
  },
  {
   "cell_type": "markdown",
   "id": "072ddaec-307b-4717-9e43-e76cca9e3453",
   "metadata": {},
   "source": [
    "So the lines I passed as arguments were just printed - just like `echo` does."
   ]
  },
  {
   "cell_type": "markdown",
   "id": "920a2e7d-0222-44d8-94ad-091b8f986ce0",
   "metadata": {},
   "source": [
    "## `CMD`\n",
    "\n",
    "Allow command to run when container based on image is running. If using this instruction you set any command for `docker run`, the command described in `CMD` will be completely removed with new commad.\n",
    "\n",
    "Consider containers based on dockerfile:\n",
    "```\n",
    "FROM ubuntu:20.04\n",
    "CMD [ \"echo\" ]\n",
    "```\n",
    "\n",
    "The same command `docker run --rm test_ubuntu ls` like it was for the dockerfile from `ENTRYPOINT` example, desn't print \"ls\" but executes the `ls` command."
   ]
  },
  {
   "cell_type": "code",
   "execution_count": 8,
   "id": "8b7fe705-4552-4e3a-9fd4-22163489334a",
   "metadata": {},
   "outputs": [
    {
     "name": "stdout",
     "output_type": "stream",
     "text": [
      "bin\n",
      "boot\n",
      "dev\n",
      "etc\n",
      "home\n",
      "lib\n",
      "lib32\n",
      "lib64\n",
      "libx32\n",
      "media\n",
      "mnt\n",
      "opt\n",
      "proc\n",
      "root\n",
      "run\n",
      "sbin\n",
      "srv\n",
      "sys\n",
      "tmp\n",
      "usr\n",
      "var\n"
     ]
    }
   ],
   "source": [
    "%%bash\n",
    "docker build \\\n",
    "    -f basic_instructions/cmd_example \\\n",
    "    -t test_ubuntu \\\n",
    "    basic_instructions &> /dev/null\n",
    "docker run --rm test_ubuntu ls \n",
    "docker rmi test_ubuntu &> /dev/null"
   ]
  },
  {
   "cell_type": "markdown",
   "id": "332dc719-e8b8-48b9-bc50-aa7469b904ae",
   "metadata": {
    "jp-MarkdownHeadingCollapsed": true
   },
   "source": [
    "## `ENTRYPOINT` + `CMD`"
   ]
  },
  {
   "cell_type": "markdown",
   "id": "5b5f10c8-a115-49a9-8274-606bbfbfe964",
   "metadata": {},
   "source": [
    "By combining `ENTRYPOINT` and `CMD` you can do this:\n",
    "- in `ENTRYPOIN` set the necessary part of the command;\n",
    "- in `CMD` set the part of the command that can be changed.\n",
    "\n",
    "docker file like:\n",
    "\n",
    "```\n",
    "FROM ubuntu:20.04\n",
    "ENTRYPOINT [\"echo\"]\n",
    "CMD [\"default message\"]\n",
    "```\n",
    "\n",
    "By default, \"default message\" is printed, but if you add a line to `docker run' it will be printed instead. The following cell show how it works:"
   ]
  },
  {
   "cell_type": "code",
   "execution_count": 9,
   "id": "3bc9d82b-e2e3-4643-86e7-5b19ccfd40cf",
   "metadata": {},
   "outputs": [
    {
     "name": "stdout",
     "output_type": "stream",
     "text": [
      "default message\n",
      "other message\n"
     ]
    }
   ],
   "source": [
    "%%bash\n",
    "docker build \\\n",
    "    -f basic_instructions/entrypoint_cmd \\\n",
    "    -t test_ubuntu \\\n",
    "    basic_instructions &> /dev/null\n",
    "docker run --rm test_ubuntu\n",
    "docker run --rm test_ubuntu \"other message\"\n",
    "docker rmi test_ubuntu &> /dev/null"
   ]
  },
  {
   "cell_type": "markdown",
   "id": "aedb9f42-431d-4dde-8e4f-ea11d9a9d934",
   "metadata": {},
   "source": [
    "Consequence of instractions doesn't matter. So docker file:\n",
    "```\n",
    "FROM ubuntu:20.04\n",
    "CMD [\"default message\"]\n",
    "ENTRYPOINT [\"echo\"]\n",
    "```\n",
    "Will work the same way. The folowing cell show this scenario."
   ]
  },
  {
   "cell_type": "code",
   "execution_count": 10,
   "id": "913792af-9fce-488e-8292-9ec71c5305ce",
   "metadata": {},
   "outputs": [
    {
     "name": "stdout",
     "output_type": "stream",
     "text": [
      "default message\n",
      "other message\n"
     ]
    }
   ],
   "source": [
    "%%bash\n",
    "docker build \\\n",
    "    -f basic_instructions/entrypoint_cmd2 \\\n",
    "    -t test_ubuntu \\\n",
    "    basic_instructions &> /dev/null\n",
    "docker run --rm test_ubuntu\n",
    "docker run --rm test_ubuntu \"other message\"\n",
    "docker rmi test_ubuntu &> /dev/null"
   ]
  },
  {
   "cell_type": "markdown",
   "id": "6e27db8f-9754-45c0-a204-206e09454d2e",
   "metadata": {},
   "source": [
    "#### Several `CMD`/`ENTRYPOIN`\n",
    "\n",
    "Looks like, docker only takes the last mention of `CMD`/`ENTRY POINT`. Which makes sense in the case of 'inheriting' containers. So at the following example I'm using docker file:\n",
    "\n",
    "```\n",
    "FROM ubuntu:20.04\n",
    "CMD [\"echo\", \"default message1\"]\n",
    "CMD [\"echo\", \"default message2\"]\n",
    "```"
   ]
  },
  {
   "cell_type": "code",
   "execution_count": 11,
   "id": "dabb1bab-5f90-4949-ae88-f67fd6acc45f",
   "metadata": {},
   "outputs": [
    {
     "name": "stdout",
     "output_type": "stream",
     "text": [
      "default message2\n"
     ]
    }
   ],
   "source": [
    "%%bash\n",
    "docker build \\\n",
    "    -f basic_instructions/several_cmd \\\n",
    "    -t test_ubuntu \\\n",
    "    basic_instructions &> /dev/null\n",
    "docker run --rm test_ubuntu\n",
    "docker rmi test_ubuntu &> /dev/null"
   ]
  },
  {
   "cell_type": "markdown",
   "id": "41b3aa8a-be8b-418a-9783-f83c96b1f930",
   "metadata": {},
   "source": [
    "So it looks like docker just ignored `CMD [\"echo\", \"default message1\"]`"
   ]
  },
  {
   "cell_type": "markdown",
   "id": "893fce3a-9b54-4421-8d75-7103cfa7b36c",
   "metadata": {},
   "source": [
    "# Environment variables"
   ]
  },
  {
   "cell_type": "markdown",
   "id": "c66c5059-5ef6-44e7-a49f-2054eed85dbe",
   "metadata": {},
   "source": [
    "For creating environment variable you can use `ENV` dockerfile instruction. \n",
    "\n",
    "In following example I create a dockefile vich use `ENV` to create `TEST_VAR` with value `\"test variable value\"`. Then print it from container."
   ]
  },
  {
   "cell_type": "code",
   "execution_count": 22,
   "id": "e8f0da8c-02e2-4a37-a619-cb94404ca0af",
   "metadata": {},
   "outputs": [
    {
     "name": "stdout",
     "output_type": "stream",
     "text": [
      "test variable value\n"
     ]
    }
   ],
   "source": [
    "%%bash\n",
    "cd basic_instructions\n",
    "\n",
    "echo \"FROM ubuntu\" > envdockerfile\n",
    "echo \"ENV TEST_VAR=\\\"test variable value\\\"\" >> envdockerfile\n",
    "\n",
    "docker build -t test_image -f envdockerfile . &> /dev/null\n",
    "docker run --rm -itd --name test_container test_image &> /dev/null\n",
    "docker exec test_container bash -c \"echo \\$TEST_VAR\"\n",
    "\n",
    "\n",
    "docker stop test_container &> /dev/null\n",
    "docker rmi test_image &> /dev/null\n",
    "rm envdockerfile"
   ]
  }
 ],
 "metadata": {
  "kernelspec": {
   "display_name": "Python 3 (ipykernel)",
   "language": "python",
   "name": "python3"
  },
  "language_info": {
   "codemirror_mode": {
    "name": "ipython",
    "version": 3
   },
   "file_extension": ".py",
   "mimetype": "text/x-python",
   "name": "python",
   "nbconvert_exporter": "python",
   "pygments_lexer": "ipython3",
   "version": "3.10.6"
  }
 },
 "nbformat": 4,
 "nbformat_minor": 5
}
