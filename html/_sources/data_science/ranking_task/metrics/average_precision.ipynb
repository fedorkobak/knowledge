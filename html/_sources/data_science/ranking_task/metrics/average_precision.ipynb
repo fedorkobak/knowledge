{
 "cells": [
  {
   "cell_type": "markdown",
   "id": "32d914cd-49d0-431c-8b9a-17aa8a3e6f65",
   "metadata": {},
   "source": [
    "# AP@k (average precision)\n",
    "\n",
    "This metric is also counted for each object individually. So for $j$-th object it'll take following formula:\n",
    "\n",
    "$$AP_j@k=\\frac{1}{N_j} \\sum_{t=1}^k precision_j@t*r_{tj}$$\n",
    "\n",
    "Where $N_j=\\sum_{i}^k r_{ij}$ - number of relevant items for $j$-th object in $k$ best according to the model.\n",
    "We take $k$ best elements and try to compute $precision@t$ for each $t=\\overline{1,k}$. We add to the numerator only those precisions that correspond to the relevant values - in irrelevant cases $r_{tj}=0$ will remove the corresponding $precision@t$."
   ]
  },
  {
   "cell_type": "code",
   "execution_count": 6,
   "id": "e0911093-bdcb-4524-b81d-771393ab3d97",
   "metadata": {},
   "outputs": [],
   "source": [
    "import pandas as pd\n",
    "\n",
    "from IPython.display import HTML, Latex, Markdown\n",
    "\n",
    "R_frame = pd.read_parquet(\"example.parquet\")"
   ]
  },
  {
   "cell_type": "markdown",
   "id": "418c1dfc-4235-4df6-b698-a5e179877d6a",
   "metadata": {},
   "source": [
    "## Consider specific"
   ]
  },
  {
   "cell_type": "markdown",
   "id": "4f1683ef-e333-4713-85c3-fb3bdffc5ec0",
   "metadata": {},
   "source": [
    "<!--\n",
    "# code that generates and example\n",
    "relevances = [1, 0, 0, 1, 1, 0, 1, 1, 0, 0]\n",
    "k = 6\n",
    "\n",
    "header = \"\"\"\n",
    "| $t$ | $r_{i_t}$ | $precision@t$ | $precision@t \\\\times r_{i_t}$ |\n",
    "| --- | --- | --- | --- |\n",
    "\"\"\"\n",
    "\n",
    "content = \"\"\n",
    "for t in range(len(relevances)):\n",
    "    precision_t = round(sum(relevances[:(t+1)])/(t+1), 2)\n",
    "    if t < k:\n",
    "        content += f\"|{t+1}|{relevances[t]}|{precision_t}|{precision_t*relevances[t]}|\\n\"\n",
    "    else:\n",
    "        content += f\"|{t+1}|{relevances[t]}|-|-|-|\\n\"\n",
    "    \n",
    "print(header + content)\n",
    "-->\n",
    "\n",
    "| $t$ | $r_{i_t}$ | $precision@t$ | $precision@t \\times r_{i_t}$ |\n",
    "| --- | --- | --- | --- |\n",
    "|1|1|1.0|1.0|\n",
    "|2|0|0.5|0.0|\n",
    "|3|0|0.33|0.0|\n",
    "|4|1|0.5|0.5|\n",
    "|5|1|0.6|0.6|\n",
    "|6|0|0.5|0.0|\n",
    "|7|1|-|-|-|\n",
    "|8|1|-|-|-|\n",
    "|9|0|-|-|-|\n",
    "|10|0|-|-|-|"
   ]
  }
 ],
 "metadata": {
  "kernelspec": {
   "display_name": "Python 3 (ipykernel)",
   "language": "python",
   "name": "python3"
  },
  "language_info": {
   "codemirror_mode": {
    "name": "ipython",
    "version": 3
   },
   "file_extension": ".py",
   "mimetype": "text/x-python",
   "name": "python",
   "nbconvert_exporter": "python",
   "pygments_lexer": "ipython3",
   "version": "3.10.12"
  }
 },
 "nbformat": 4,
 "nbformat_minor": 5
}
