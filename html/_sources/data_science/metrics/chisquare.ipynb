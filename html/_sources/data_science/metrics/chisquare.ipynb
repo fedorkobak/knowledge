{
 "cells": [
  {
   "attachments": {},
   "cell_type": "markdown",
   "metadata": {},
   "source": [
    "**Разбор статистики $\\chi^2$**\n",
    "\n",
    "**Источники:**\n",
    "- <a href=\"https://stepik.org/lesson/24813/step/7?unit=7107\">расстояние Пирсона от Анатолия Карпова;</a>\n",
    "- <a href=\"https://stepik.org/lesson/26446/step/1?unit=8329\">анализ таблиц сопряженности от Анатолия Карпова.</a>"
   ]
  }
 ],
 "metadata": {
  "language_info": {
   "name": "python"
  },
  "orig_nbformat": 4
 },
 "nbformat": 4,
 "nbformat_minor": 2
}
