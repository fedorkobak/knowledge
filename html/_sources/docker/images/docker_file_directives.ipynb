{
 "cells": [
  {
   "cell_type": "markdown",
   "metadata": {},
   "source": [
    "# Dockerfile directives\n",
    "\n",
    "Here is a closer look on different docker directives with examples."
   ]
  },
  {
   "cell_type": "markdown",
   "metadata": {},
   "source": [
    "## Execute with run\n",
    "\n",
    "There are two dockerfile directives that allow to execute something with start of docker container: `CMD` and `ENTRYPOINT`.\n",
    "\n",
    "---\n",
    "\n",
    "Here is example of the image that modifies alpine in way to print message `Hello world` during container start."
   ]
  },
  {
   "cell_type": "code",
   "execution_count": null,
   "metadata": {
    "vscode": {
     "languageId": "shellscript"
    }
   },
   "outputs": [
    {
     "name": "stdout",
     "output_type": "stream",
     "text": [
      "'Hello world'\n"
     ]
    }
   ],
   "source": [
    "cat << EOF > dockerfile\n",
    "FROM alpine\n",
    "CMD [\"echo\", \"'Hello world'\"]\n",
    "EOF\n",
    "\n",
    "docker build -t temp_image . &> /dev/null\n",
    "docker run --rm temp_image\n",
    "\n",
    "docker rmi temp_image &> /dev/null\n",
    "rm dockerfile"
   ]
  },
  {
   "cell_type": "markdown",
   "metadata": {},
   "source": [
    "## Parametrisation\n",
    "\n",
    "With the `ENV` and `ARG` directives, you can define values to be reused during different phases of the build. There are some differences between the two; refer to the [Docker documentation page](https://docs.docker.com/build/building/variables/)."
   ]
  },
  {
   "cell_type": "markdown",
   "metadata": {},
   "source": [
    "### Environment variables\n",
    "\n",
    "For creating environment variable you can use `ENV` dockerfile instruction. Feature of this diretive is that defined variable will be included to the environment of the resulting containers."
   ]
  },
  {
   "cell_type": "markdown",
   "metadata": {},
   "source": [
    "---\n",
    "\n",
    "In the following example, a Dockerfile is created using `ENV` to define `TEST_VAR` with the value `\"env_variable\"`, and a container is started based on the resulting image."
   ]
  },
  {
   "cell_type": "code",
   "execution_count": 27,
   "metadata": {
    "vscode": {
     "languageId": "shellscript"
    }
   },
   "outputs": [],
   "source": [
    "cat << EOF > /tmp/dockerfile\n",
    "FROM alpine\n",
    "ENV TEST_VAR=\"env_variable\"\n",
    "WORKDIR \\$TEST_VAR\n",
    "EOF\n",
    "\n",
    "docker build -t test_image -f /tmp/dockerfile . &> /dev/null\n",
    "docker run -itd --name env_example --rm test_image &> /dev/null"
   ]
  },
  {
   "cell_type": "markdown",
   "metadata": {},
   "source": [
    "Variable used in `dockerfile` as name for new directory. The following cell checks if the variable was actually created."
   ]
  },
  {
   "cell_type": "code",
   "execution_count": 28,
   "metadata": {
    "vscode": {
     "languageId": "shellscript"
    }
   },
   "outputs": [
    {
     "name": "stdout",
     "output_type": "stream",
     "text": [
      "/env_variable\n"
     ]
    }
   ],
   "source": [
    "docker exec env_example pwd"
   ]
  },
  {
   "cell_type": "markdown",
   "metadata": {},
   "source": [
    "But you can still use variables from the container. The following cell demonstrates this by showing the `env` of the container in question. "
   ]
  },
  {
   "cell_type": "code",
   "execution_count": null,
   "metadata": {
    "vscode": {
     "languageId": "shellscript"
    }
   },
   "outputs": [
    {
     "name": "stdout",
     "output_type": "stream",
     "text": [
      "PATH=/usr/local/sbin:/usr/local/bin:/usr/sbin:/usr/bin:/sbin:/bin\n",
      "HOSTNAME=a2b1510d2ee2\n",
      "TEST_VAR=env_variable\n",
      "HOME=/root\n"
     ]
    }
   ],
   "source": [
    "docker exec env_example env"
   ]
  },
  {
   "cell_type": "markdown",
   "metadata": {},
   "source": [
    "The following cell clears the environment after experiments."
   ]
  },
  {
   "cell_type": "code",
   "execution_count": 30,
   "metadata": {
    "vscode": {
     "languageId": "shellscript"
    }
   },
   "outputs": [],
   "source": [
    "docker stop env_example &> /dev/null\n",
    "docker rmi test_image &> /dev/null"
   ]
  },
  {
   "cell_type": "markdown",
   "metadata": {},
   "source": [
    "### Build arguments\n",
    "\n",
    "Build arguments that can be created with `ARG` directive in nginx, it is a variable that can be used for build command for dockerfile but there is no information about it after build."
   ]
  },
  {
   "cell_type": "markdown",
   "metadata": {},
   "source": [
    "---\n",
    "\n",
    "The following cell builds image and runs container based on it, by properties of gotten container we'll learn properties of the variable defined with `ARG` directive."
   ]
  },
  {
   "cell_type": "code",
   "execution_count": 32,
   "metadata": {
    "vscode": {
     "languageId": "shellscript"
    }
   },
   "outputs": [],
   "source": [
    "cat << EOF > /tmp/dockerfile\n",
    "FROM alpine\n",
    "ARG TEST_VAR=\"arg_variable\"\n",
    "WORKDIR \\$TEST_VAR\n",
    "EOF\n",
    "\n",
    "docker build -t test_image -f /tmp/dockerfile . &> /dev/null\n",
    "docker run -itd --name arg_example --rm test_image &> /dev/null"
   ]
  },
  {
   "cell_type": "markdown",
   "metadata": {},
   "source": [
    "The variable is used as a directory name for the `WORKDIR` directive, as a result the initial folder of the container is the same as the value of the variable."
   ]
  },
  {
   "cell_type": "code",
   "execution_count": 33,
   "metadata": {
    "vscode": {
     "languageId": "shellscript"
    }
   },
   "outputs": [
    {
     "name": "stdout",
     "output_type": "stream",
     "text": [
      "/arg_variable\n"
     ]
    }
   ],
   "source": [
    "docker exec arg_example pwd"
   ]
  },
  {
   "cell_type": "markdown",
   "metadata": {},
   "source": [
    "But there are no such variables in the environment of the resulting container, which is shown by the following cell."
   ]
  },
  {
   "cell_type": "code",
   "execution_count": 34,
   "metadata": {
    "vscode": {
     "languageId": "shellscript"
    }
   },
   "outputs": [
    {
     "name": "stdout",
     "output_type": "stream",
     "text": [
      "PATH=/usr/local/sbin:/usr/local/bin:/usr/sbin:/usr/bin:/sbin:/bin\n",
      "HOSTNAME=2123ad7acb59\n",
      "HOME=/root\n"
     ]
    }
   ],
   "source": [
    "docker exec arg_example env"
   ]
  },
  {
   "cell_type": "markdown",
   "metadata": {},
   "source": [
    "Don't forget to clean up the environment."
   ]
  },
  {
   "cell_type": "code",
   "execution_count": 35,
   "metadata": {
    "vscode": {
     "languageId": "shellscript"
    }
   },
   "outputs": [],
   "source": [
    "docker stop arg_example &> /dev/null\n",
    "docker rmi test_image &> /dev/null"
   ]
  },
  {
   "cell_type": "markdown",
   "metadata": {},
   "source": [
    "#### Specify in build\n",
    "\n",
    "You can specify the argument value during the build with the `--build-arg <arg name>=<value>` argument of to the `docker build`."
   ]
  },
  {
   "cell_type": "markdown",
   "metadata": {},
   "source": [
    "---\n",
    "\n",
    "The following example builds a `dockerfile` which working directory depends on the `TEST_VAR` argument, and builds the corresponding image with `--build-args TEST_VAR=name_for_folder`."
   ]
  },
  {
   "cell_type": "code",
   "execution_count": 5,
   "metadata": {
    "vscode": {
     "languageId": "shellscript"
    }
   },
   "outputs": [],
   "source": [
    "cat << EOF > /tmp/dockerfile\n",
    "FROM alpine\n",
    "ARG TEST_VAR\n",
    "WORKDIR \\$TEST_VAR\n",
    "EOF\n",
    "\n",
    "docker build --build-arg TEST_VAR=name_for_folder -t test_image -f /tmp/dockerfile . &> /dev/null"
   ]
  },
  {
   "cell_type": "markdown",
   "metadata": {},
   "source": [
    "The following cell shows the `WORKDIR` of the resulting image corresponding to the value of the `TEST_VAR`."
   ]
  },
  {
   "cell_type": "code",
   "execution_count": 6,
   "metadata": {
    "vscode": {
     "languageId": "shellscript"
    }
   },
   "outputs": [
    {
     "name": "stdout",
     "output_type": "stream",
     "text": [
      "/name_for_folder\n"
     ]
    }
   ],
   "source": [
    "docker run --rm test_image pwd"
   ]
  },
  {
   "cell_type": "markdown",
   "metadata": {},
   "source": [
    "Cleaning the environment."
   ]
  },
  {
   "cell_type": "code",
   "execution_count": 7,
   "metadata": {
    "vscode": {
     "languageId": "shellscript"
    }
   },
   "outputs": [],
   "source": [
    "docker rmi test_image &> /dev/null"
   ]
  }
 ],
 "metadata": {
  "kernelspec": {
   "display_name": "Bash",
   "language": "bash",
   "name": "bash"
  },
  "language_info": {
   "codemirror_mode": "shell",
   "file_extension": ".sh",
   "mimetype": "text/x-sh",
   "name": "bash"
  }
 },
 "nbformat": 4,
 "nbformat_minor": 2
}
