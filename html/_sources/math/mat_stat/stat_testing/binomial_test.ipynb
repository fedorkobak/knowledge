{
 "cells": [
  {
   "cell_type": "markdown",
   "id": "f729c50a-0446-4196-b361-87236fee23b6",
   "metadata": {},
   "source": [
    "# Binomial test\n",
    "\n",
    "This criterion allows you to check whether the observed share of some feature in the sample confirms the hypothesis that in reality this share is a certain number $p_0$.\n",
    "\n",
    "\n",
    "**Sources**:\n",
    "\n",
    "- Very detailed <a href=\"https://habr.com/ru/articles/783816/\">article on habr</a> (russian);"
   ]
  },
  {
   "cell_type": "markdown",
   "id": "3881bc06-f916-40c0-805f-9c0b2f43e698",
   "metadata": {},
   "source": [
    "## Theory\n",
    "\n",
    "- $p_0$ - hypothesis share of traits in the general population;\n",
    "- $p$ - observed share of trains in the received sample;\n",
    "- $H_0$ - $p=p_0$ observed value confirms hypothesis;\n",
    "- $H_1$ - the $p \\neq p_0$ sample doesn't confirm that the real proportion of trains is $p$.\n",
    "\n",
    "The central statistic for this test is the Z-statistic:\n",
    "\n",
    "$$Z_n = \\frac{p_0 - p}{\\sqrt{\\frac{p_0(1-p_0)}{N}}}.$$\n",
    "\n",
    "Z-statistics are distributed according to the standard normal distribution $N$:\n",
    "\n",
    "$$Z_n \\sim N.$$\n",
    "\n",
    "So p-value for this test can be computed as:\n",
    "\n",
    "$$p_{value} = 2F_N(Z_n)$$\n",
    "\n",
    "Where $F_N$ is the cumulative distribution function for the standard normal distribution."
   ]
  },
  {
   "cell_type": "markdown",
   "id": "91211c3e-a08f-40e8-a5e8-c849898a4ee5",
   "metadata": {},
   "source": [
    "## Example"
   ]
  },
  {
   "cell_type": "markdown",
   "id": "096240fe-efa0-4d5b-8733-c2739240dc2c",
   "metadata": {},
   "source": [
    "In the cell below you can see generation of the sample of the manifestations of a particular trait. Selected theoretical and observed shares are printed."
   ]
  },
  {
   "cell_type": "code",
   "execution_count": 70,
   "id": "a933fce8-bbf6-4e45-9abd-1cbd22bf6e14",
   "metadata": {},
   "outputs": [
    {
     "name": "stdout",
     "output_type": "stream",
     "text": [
      "Theoretical share: 0.3 , observed share 0.308\n"
     ]
    }
   ],
   "source": [
    "import numpy as np\n",
    "from scipy.stats import binomtest, norm \n",
    "np.random.seed(10)\n",
    "\n",
    "N = 500\n",
    "p_0 = 0.3\n",
    "\n",
    "sample = (np.random.rand(N) < p_0)\n",
    "\n",
    "num_successes = sample.sum()\n",
    "p = num_successes/N\n",
    "print(\"Theoretical share:\", p_0, \", observed share\", p)"
   ]
  },
  {
   "cell_type": "markdown",
   "id": "fbe06033-f5d0-4b89-9fd0-6eedb1663172",
   "metadata": {},
   "source": [
    "The Z statistic for a particular example is calculated in the next cell:"
   ]
  },
  {
   "cell_type": "code",
   "execution_count": 71,
   "id": "3c428f18-3aee-4072-a413-a6b895e72486",
   "metadata": {},
   "outputs": [
    {
     "name": "stdout",
     "output_type": "stream",
     "text": [
      "Z satatistic - -0.39036002917941365\n"
     ]
    }
   ],
   "source": [
    "Z_n = (p_0-p)/np.sqrt(p_0*(1-p_0)/N)\n",
    "print(\"Z satatistic -\", Z_n)"
   ]
  },
  {
   "cell_type": "markdown",
   "id": "77ddedc6-5680-4956-b410-1f53e3d2b261",
   "metadata": {},
   "source": [
    "And finally, the p-value for this case. So it's the probability of getting such a difference between observed and assumed p if the assumption about p is true."
   ]
  },
  {
   "cell_type": "code",
   "execution_count": 72,
   "id": "4f65c1aa-531e-4a1f-b25a-2617c4d588e7",
   "metadata": {},
   "outputs": [
    {
     "name": "stdout",
     "output_type": "stream",
     "text": [
      "p-value for the test - 0.6962703401140226\n"
     ]
    }
   ],
   "source": [
    "p_value = 2*scipy.stats.norm().cdf(Z_n)\n",
    "print(\"p-value for the test -\", p_value)"
   ]
  },
  {
   "cell_type": "markdown",
   "id": "b447b4e5-e3c7-454d-8aac-570c0de37253",
   "metadata": {},
   "source": [
    "Compare this with the performance of this test by scipy - absolutely the same result."
   ]
  },
  {
   "cell_type": "code",
   "execution_count": 62,
   "id": "e89b19cc-a91e-4536-b018-c8215d4f1fab",
   "metadata": {},
   "outputs": [
    {
     "data": {
      "text/plain": [
       "BinomTestResult(k=154, n=500, alternative='two-sided', statistic=0.308, pvalue=0.6964055360678295)"
      ]
     },
     "execution_count": 62,
     "metadata": {},
     "output_type": "execute_result"
    }
   ],
   "source": [
    "binomtest(num_successes, N, p_0)"
   ]
  }
 ],
 "metadata": {
  "kernelspec": {
   "display_name": "Python 3 (ipykernel)",
   "language": "python",
   "name": "python3"
  },
  "language_info": {
   "codemirror_mode": {
    "name": "ipython",
    "version": 3
   },
   "file_extension": ".py",
   "mimetype": "text/x-python",
   "name": "python",
   "nbconvert_exporter": "python",
   "pygments_lexer": "ipython3",
   "version": "3.10.12"
  }
 },
 "nbformat": 4,
 "nbformat_minor": 5
}
