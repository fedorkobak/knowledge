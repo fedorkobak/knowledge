{
 "cells": [
  {
   "cell_type": "markdown",
   "metadata": {},
   "source": [
    "# Images\n",
    "\n",
    "This page focuses on the features associated with docker images."
   ]
  },
  {
   "cell_type": "markdown",
   "metadata": {},
   "source": [
    "## Creating new images (`build`)\n",
    "\n",
    "You can build docker images using the `docker build <path to the folder>` command. The `<folder path>` should contain a `dockerfile` with the instructions to build the images."
   ]
  },
  {
   "cell_type": "markdown",
   "metadata": {},
   "source": [
    "Consider example - the following cell creates the simplest possible `dockerfile` it just modifies alpine linux to echo message `this_is_new_container` at container startup."
   ]
  },
  {
   "cell_type": "code",
   "execution_count": 6,
   "metadata": {
    "vscode": {
     "languageId": "shellscript"
    }
   },
   "outputs": [],
   "source": [
    "cat << 'EOF' > images_files/dockerfile\n",
    "\n",
    "FROM alpine\n",
    "CMD [\"echo\", \"this_is_new_image\"]\n",
    "\n",
    "EOF"
   ]
  },
  {
   "cell_type": "markdown",
   "metadata": {},
   "source": [
    "**Note:** Even if the `Dockerfile` is located in the current working directory, you still need to specify the `path to folder` in the `docker build` command. In such cases, you should use the command `docker build .`.\n",
    "\n",
    "The following example demonstrates the construction of a Docker image. It employs `images_files` as the working directory to emphasize the need for explicitly specifying `.` as the path.\n",
    "\n",
    "Also here is specified `-t docker_build_example` option it specifies name of the container. "
   ]
  },
  {
   "cell_type": "code",
   "execution_count": 8,
   "metadata": {
    "vscode": {
     "languageId": "shellscript"
    }
   },
   "outputs": [
    {
     "name": "stdout",
     "output_type": "stream",
     "text": [
      "DEPRECATED: The legacy builder is deprecated and will be removed in a future release.\n",
      "            Install the buildx component to build images with BuildKit:\n",
      "            https://docs.docker.com/go/buildx/\n",
      "\n",
      "Sending build context to Docker daemon  2.048kB\n",
      "Step 1/2 : FROM alpine\n",
      " ---> a606584aa9aa\n",
      "Step 2/2 : CMD [\"echo\", \"this_is_new_image\"]\n",
      " ---> Running in 441872d8a1e9\n",
      "Removing intermediate container 441872d8a1e9\n",
      " ---> cc90f738517a\n",
      "Successfully built cc90f738517a\n",
      "Successfully tagged docker_build_example:latest\n"
     ]
    }
   ],
   "source": [
    "cd images_files\n",
    "docker build -t docker_build_example .\n",
    "cd .."
   ]
  },
  {
   "cell_type": "markdown",
   "metadata": {},
   "source": [
    "After executing the previous cell, you'll be able to find the `docker_build_example` image in the list of images."
   ]
  },
  {
   "cell_type": "code",
   "execution_count": 10,
   "metadata": {
    "vscode": {
     "languageId": "shellscript"
    }
   },
   "outputs": [
    {
     "name": "stdout",
     "output_type": "stream",
     "text": [
      "docker_build_example          latest    cc90f738517a   3 minutes ago   7.8MB\n"
     ]
    }
   ],
   "source": [
    "docker images | grep docker_build_example"
   ]
  },
  {
   "cell_type": "markdown",
   "metadata": {},
   "source": [
    "Ok, finally, let's try to run container based on the image we created, to make sure that docker completes the instructions specified in the `dockerfile`."
   ]
  },
  {
   "cell_type": "code",
   "execution_count": 13,
   "metadata": {
    "vscode": {
     "languageId": "shellscript"
    }
   },
   "outputs": [
    {
     "name": "stdout",
     "output_type": "stream",
     "text": [
      "this_is_new_image\n",
      "Untagged: docker_build_example:latest\n",
      "Deleted: sha256:cc90f738517a2445baa3b8da64400a7d0ad79beabc7c091e9d0f513cab94c759\n"
     ]
    }
   ],
   "source": [
    "docker run --rm docker_build_example\n",
    "docker rmi docker_build_example"
   ]
  },
  {
   "cell_type": "markdown",
   "metadata": {},
   "source": [
    "## Contaiens to image (`commit`)"
   ]
  },
  {
   "cell_type": "markdown",
   "metadata": {},
   "source": [
    "## Dockerfile directives"
   ]
  }
 ],
 "metadata": {
  "kernelspec": {
   "display_name": "Bash",
   "language": "bash",
   "name": "bash"
  },
  "language_info": {
   "codemirror_mode": "shell",
   "file_extension": ".sh",
   "mimetype": "text/x-sh",
   "name": "bash"
  }
 },
 "nbformat": 4,
 "nbformat_minor": 2
}
