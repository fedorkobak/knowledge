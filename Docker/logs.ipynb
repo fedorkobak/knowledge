{
 "cells": [
  {
   "cell_type": "markdown",
   "id": "30949f61-4890-4c69-8c1c-a6c2a944a430",
   "metadata": {},
   "source": [
    "# Logging in docker\n",
    "\n",
    "Logs can:\n",
    "- Write them using the standard output stream;\n",
    "- Write to a predefined file (there is nothing special here, you can just use volume or bind mount);\n",
    "- A combination of the two previously mentioned methods. "
   ]
  },
  {
   "cell_type": "markdown",
   "id": "a3cc6368-e6d2-480c-98c9-2ceff9d8bd0c",
   "metadata": {},
   "source": [
    "# `logs` command {#sec-docker_logs_command}\n",
    "\n",
    "Allows to read, what happened in container terminal.\n",
    "\n",
    "In following example I:\n",
    "- I create conteiner which generates either a message in stdout or an error in stderr every second;\n",
    "- Wait 10 seconds;\n",
    "- Use `docker logs` to see what events happen in container."
   ]
  },
  {
   "cell_type": "code",
   "execution_count": 6,
   "id": "094808fa-575b-4da5-83dc-38f5f14ec6cb",
   "metadata": {},
   "outputs": [
    {
     "name": "stdout",
     "output_type": "stream",
     "text": [
      "=====generated log=====\n"
     ]
    },
    {
     "name": "stderr",
     "output_type": "stream",
     "text": [
      "Some error\n",
      "Some error\n",
      "Some error\n",
      "Some error\n"
     ]
    },
    {
     "name": "stdout",
     "output_type": "stream",
     "text": [
      "Just message\n",
      "Just message\n",
      "Just message\n",
      "Just message\n",
      "Just message\n"
     ]
    }
   ],
   "source": [
    "%%bash\n",
    "cd logs_examples\n",
    "docker build -t log_example . &> /dev/null\n",
    "\n",
    "docker run -d --rm --name log_example log_example stream.py &> /dev/null\n",
    "sleep 10\n",
    "\n",
    "echo \"=====generated log=====\"\n",
    "docker logs log_example\n",
    "\n",
    "docker stop log_example &> /dev/null\n",
    "docker rmi log_example &> /dev/null"
   ]
  },
  {
   "cell_type": "markdown",
   "id": "38e136bb-d6ec-4459-b81b-7ff0ff994d88",
   "metadata": {},
   "source": [
    "**Note** for some reason Jupyter puts errors in the first place in its output - so you may always get errors first when trying to reproduce the results of the following example.\n",
    "\n",
    "Actually, you can avoid this by redirecting the error stream to the normal stream, by using `2>&1` bash construction:"
   ]
  },
  {
   "cell_type": "code",
   "execution_count": 10,
   "id": "a023c022-d907-4013-8283-155375b47f5b",
   "metadata": {},
   "outputs": [
    {
     "name": "stdout",
     "output_type": "stream",
     "text": [
      "=====generated log=====\n",
      "Just message\n",
      "Just message\n",
      "Just message\n",
      "Just message\n",
      "Some error\n",
      "Some error\n",
      "Some error\n",
      "Just message\n",
      "Just message\n"
     ]
    }
   ],
   "source": [
    "%%bash\n",
    "cd logs_examples\n",
    "docker build -t log_example . &> /dev/null\n",
    "\n",
    "docker run -d --rm --name log_example log_example stream.py &> /dev/null\n",
    "sleep 10\n",
    "\n",
    "echo \"=====generated log=====\"\n",
    "docker logs log_example 2>&1\n",
    "\n",
    "docker stop log_example &> /dev/null\n",
    "docker rmi log_example &> /dev/null"
   ]
  },
  {
   "cell_type": "markdown",
   "id": "c56d6be3-be80-4427-8c8c-1a97e472f9fe",
   "metadata": {},
   "source": [
    "### `-f` - read container output in runtime\n",
    "\n",
    "<img src=\"logs_examples/-f_ex.gif\"></img>"
   ]
  },
  {
   "cell_type": "markdown",
   "id": "f017d111-173c-488b-8ec2-5494f43946c4",
   "metadata": {},
   "source": [
    "### `-t` - get time of the message"
   ]
  },
  {
   "cell_type": "code",
   "execution_count": 7,
   "id": "3cbed57b-5734-4f95-89f2-5762bcbc2c95",
   "metadata": {},
   "outputs": [
    {
     "name": "stdout",
     "output_type": "stream",
     "text": [
      "=====generated log=====\n",
      "2023-06-12T08:42:12.063382853Z Just message\n",
      "2023-06-12T08:42:13.064541066Z Just message\n",
      "2023-06-12T08:42:14.065711848Z Just message\n",
      "2023-06-12T08:42:17.069086047Z Just message\n",
      "2023-06-12T08:42:19.071241128Z Just message\n",
      "2023-06-12T08:42:20.072419403Z Just message\n"
     ]
    },
    {
     "name": "stderr",
     "output_type": "stream",
     "text": [
      "2023-06-12T08:42:15.066916732Z Some error\n",
      "2023-06-12T08:42:16.068155506Z Some error\n",
      "2023-06-12T08:42:18.070257834Z Some error\n"
     ]
    }
   ],
   "source": [
    "%%bash\n",
    "cd logs_examples\n",
    "docker build -t log_example . &> /dev/null\n",
    "\n",
    "docker run -d --rm --name log_example log_example stream.py &> /dev/null\n",
    "sleep 10\n",
    "\n",
    "echo \"=====generated log=====\"\n",
    "docker logs -t log_example\n",
    "\n",
    "docker stop log_example &> /dev/null\n",
    "docker rmi log_example &> /dev/null"
   ]
  },
  {
   "cell_type": "markdown",
   "id": "db9357ca-0874-4257-a6c5-eab8dbb4891e",
   "metadata": {},
   "source": [
    "# Get log path on the computer{#sec-log_path_on_computer}\n",
    "\n",
    "If you need to get the path to the Docker container log on your computer, you should use the construction shown below."
   ]
  },
  {
   "cell_type": "code",
   "execution_count": 9,
   "id": "f7586f4f-0a0e-4723-93d2-ac582046ce9c",
   "metadata": {},
   "outputs": [
    {
     "name": "stdout",
     "output_type": "stream",
     "text": [
      "=====path to the log=====\n",
      "/var/lib/docker/containers/cb2fb4f9b5d8829c1afb6b78293cf9487c0266d4152bd2f9a3f9d9d766740216/cb2fb4f9b5d8829c1afb6b78293cf9487c0266d4152bd2f9a3f9d9d766740216-json.log\n"
     ]
    }
   ],
   "source": [
    "%%bash\n",
    "cd logs_examples\n",
    "docker build -t log_example . &> /dev/null\n",
    "\n",
    "docker run -d --rm --name log_example log_example stream.py &> /dev/null\n",
    "echo \"=====path to the log=====\"\n",
    "docker inspect --format \"{{.LogPath}}\" log_example\n",
    "\n",
    "docker stop log_example &> /dev/null\n",
    "docker rmi log_example &> /dev/null"
   ]
  },
  {
   "cell_type": "markdown",
   "id": "6fef3ede-aa36-4a7c-8768-8c8725b3a675",
   "metadata": {},
   "source": [
    "I can't get superuser access from jupyter, but the log file should look like this:\n",
    "\n",
    "```\n",
    "    {\"log\":\"Just message\\n\",\"stream\":\"stdout\",\"time\":\"2023-03-10T15:25:01.788547631Z\"}\n",
    "    {\"log\":\"Just message\\n\",\"stream\":\"stdout\",\"time\":\"2023-03-10T15:25:02.788842446Z\"}\n",
    "    {\"log\":\"Just message\\n\",\"stream\":\"stdout\",\"time\":\"2023-03-10T15:25:03.788818941Z\"}\n",
    "    {\"log\":\"Just message\\n\",\"stream\":\"stdout\",\"time\":\"2023-03-10T15:25:04.789226578Z\"}\n",
    "    {\"log\":\"Some error\\n\",\"stream\":\"stderr\",\"time\":\"2023-03-10T15:25:05.789279007Z\"}\n",
    "    {\"log\":\"Some error\\n\",\"stream\":\"stderr\",\"time\":\"2023-03-10T15:25:06.789563215Z\"}\n",
    "    {\"log\":\"Just message\\n\",\"stream\":\"stdout\",\"time\":\"2023-03-10T15:25:07.7895666Z\"}\n",
    "    {\"log\":\"Just message\\n\",\"stream\":\"stdout\",\"time\":\"2023-03-10T15:25:08.789954572Z\"}\n",
    "    {\"log\":\"Some error\\n\",\"stream\":\"stderr\",\"time\":\"2023-03-10T15:25:09.790014965Z\"}\n",
    "    {\"log\":\"Just message\\n\",\"stream\":\"stdout\",\"time\":\"2023-03-10T15:25:10.790300833Z\"}\n",
    "    {\"log\":\"Some error\\n\",\"stream\":\"stderr\",\"time\":\"2023-03-10T15:25:11.790511897Z\"}\n",
    "    {\"log\":\"Just message\\n\",\"stream\":\"stdout\",\"time\":\"2023-03-10T15:25:12.790821869Z\"}\n",
    "    {\"log\":\"Some error\\n\",\"stream\":\"stderr\",\"time\":\"2023-03-10T15:25:13.790939824Z\"}\n",
    "    {\"log\":\"Just message\\n\",\"stream\":\"stdout\",\"time\":\"2023-03-10T15:25:14.791204789Z\"}\n",
    "    {\"log\":\"Some error\\n\",\"stream\":\"stderr\",\"time\":\"2023-03-10T15:25:15.791283359Z\"}\n",
    "    {\"log\":\"Just message\\n\",\"stream\":\"stdout\",\"time\":\"2023-03-10T15:25:16.791536539Z\"}\n",
    "    {\"log\":\"Some error\\n\",\"stream\":\"stderr\",\"time\":\"2023-03-10T15:25:17.791786679Z\"}\n",
    "    {\"log\":\"Just message\\n\",\"stream\":\"stdout\",\"time\":\"2023-03-10T15:25:18.791807047Z\"}\n",
    "    {\"log\":\"Just message\\n\",\"stream\":\"stdout\",\"time\":\"2023-03-10T15:25:19.792075268Z\"}\n",
    "    {\"log\":\"Just message\\n\",\"stream\":\"stdout\",\"time\":\"2023-03-10T15:25:20.792325859Z\"}\n",
    "    {\"log\":\"Just message\\n\",\"stream\":\"stdout\",\"time\":\"2023-03-10T15:25:21.792410762Z\"}\n",
    "    {\"log\":\"Some error\\n\",\"stream\":\"stderr\",\"time\":\"2023-03-10T15:25:22.792794096Z\"}\n",
    "    {\"log\":\"Just message\\n\",\"stream\":\"stdout\",\"time\":\"2023-03-10T15:25:23.792780477Z\"}\n",
    "    {\"log\":\"Some error\\n\",\"stream\":\"stderr\",\"time\":\"2023-03-10T15:25:24.793194852Z\"}\n",
    "    {\"log\":\"Just message\\n\",\"stream\":\"stdout\",\"time\":\"2023-03-10T15:25:25.793462485Z\"}\n",
    "    {\"log\":\"Some error\\n\",\"stream\":\"stderr\",\"time\":\"2023-03-10T15:25:26.793712972Z\"}\n",
    "    {\"log\":\"Just message\\n\",\"stream\":\"stdout\",\"time\":\"2023-03-10T15:25:27.793920753Z\"}\n",
    "    {\"log\":\"Just message\\n\",\"stream\":\"stdout\",\"time\":\"2023-03-10T15:25:28.794071626Z\"}\n",
    "    {\"log\":\"Some error\\n\",\"stream\":\"stderr\",\"time\":\"2023-03-10T15:25:29.794379101Z\"}\n",
    "    {\"log\":\"Just message\\n\",\"stream\":\"stdout\",\"time\":\"2023-03-10T15:25:30.794698985Z\"}\n",
    "    {\"log\":\"Some error\\n\",\"stream\":\"stderr\",\"time\":\"2023-03-10T15:25:31.794924583Z\"}\n",
    "    {\"log\":\"Some error\\n\",\"stream\":\"stderr\",\"time\":\"2023-03-10T15:25:32.795122566Z\"}\n",
    "    {\"log\":\"Just message\\n\",\"stream\":\"stdout\",\"time\":\"2023-03-10T15:25:33.795242226Z\"}\n",
    "    {\"log\":\"Some error\\n\",\"stream\":\"stderr\",\"time\":\"2023-03-10T15:25:34.795374507Z\"}\n",
    "    {\"log\":\"Some error\\n\",\"stream\":\"stderr\",\"time\":\"2023-03-10T15:25:35.795542017Z\"}\n",
    "    {\"log\":\"Just message\\n\",\"stream\":\"stdout\",\"time\":\"2023-03-10T15:25:36.795638844Z\"}\n",
    "    {\"log\":\"Just message\\n\",\"stream\":\"stdout\",\"time\":\"2023-03-10T15:25:37.795888676Z\"}\n",
    "    {\"log\":\"Just message\\n\",\"stream\":\"stdout\",\"time\":\"2023-03-10T15:25:38.796024537Z\"}\n",
    "```\n",
    "\n",
    "The fields in this example should have the following meaning:\n",
    "\n",
    "- `log` - message that was logged;\n",
    "- `stream` - stream that was used;\n",
    "- `time` - time when it was made."
   ]
  },
  {
   "cell_type": "markdown",
   "id": "5913badc-6f3d-4dbd-9b82-c26685e0a7bd",
   "metadata": {},
   "source": [
    "# Standart/error streams"
   ]
  },
  {
   "cell_type": "markdown",
   "id": "29b84332-0555-44a6-910d-5e7727a3c686",
   "metadata": {},
   "source": [
    "### From terminal\n",
    "\n",
    "Basic Linux utilities for processing terminal output that are specified for the standard stream and don't care about the error stream.\n",
    "\n",
    "For example, if you use the `head` utility to handle program output:"
   ]
  },
  {
   "cell_type": "code",
   "execution_count": 23,
   "id": "d26205ed-eaf7-4f49-b3f5-be7a9066e8f6",
   "metadata": {},
   "outputs": [
    {
     "name": "stdout",
     "output_type": "stream",
     "text": [
      "=====head result=====\n"
     ]
    },
    {
     "name": "stderr",
     "output_type": "stream",
     "text": [
      "Some error\n",
      "Some error\n",
      "Some error\n",
      "Some error\n",
      "Some error\n",
      "Some error\n"
     ]
    },
    {
     "name": "stdout",
     "output_type": "stream",
     "text": [
      "Just message\n",
      "Just message\n",
      "Just message\n",
      "Just message\n",
      "=====grep result=====\n"
     ]
    },
    {
     "name": "stderr",
     "output_type": "stream",
     "text": [
      "Some error\n",
      "Some error\n",
      "Some error\n",
      "Some error\n"
     ]
    },
    {
     "name": "stdout",
     "output_type": "stream",
     "text": [
      "Just message\n",
      "Just message\n",
      "Just message\n",
      "Just message\n",
      "Just message\n",
      "Just message\n"
     ]
    }
   ],
   "source": [
    "%%bash\n",
    "\n",
    "cd logs_examples\n",
    "echo \"=====head result=====\"\n",
    "python3 stream.py -n 10| head -n 5\n",
    "echo \"=====grep result=====\"\n",
    "python3 stream.py -n 10| grep message"
   ]
  },
  {
   "cell_type": "markdown",
   "id": "ccc54098-f958-4dcc-996d-d5f8e894e2b5",
   "metadata": {},
   "source": [
    "Despite the fact that I asked for `head -n 5`, which means that 5 lines should be printed in the command output, I got many more lines. This happens because utilities such as `head`, `tail`, `grep` and so on only work with the standard stream and ignore the error. But the error stream has priority over the standard stream - so it will be printed anyway."
   ]
  },
  {
   "cell_type": "markdown",
   "id": "b4ff9982-219a-4f4a-8810-482bf797def4",
   "metadata": {},
   "source": [
    "As a solution you can redirect error stream info to standart stream by using `2>&1` construction after the command displaying result:"
   ]
  },
  {
   "cell_type": "code",
   "execution_count": 22,
   "id": "9c621b6e-b93c-43a1-8bf6-0f775e93377e",
   "metadata": {},
   "outputs": [
    {
     "name": "stdout",
     "output_type": "stream",
     "text": [
      "=====head result=====\n",
      "Some error\n",
      "Some error\n",
      "Some error\n",
      "Some error\n",
      "Some error\n",
      "=====grep result=====\n",
      "Just message\n",
      "Just message\n",
      "Just message\n"
     ]
    }
   ],
   "source": [
    "%%bash\n",
    "\n",
    "cd logs_examples\n",
    "echo \"=====head result=====\"\n",
    "python3 stream.py -n 10 2>&1| head -n 5\n",
    "echo \"=====grep result=====\"\n",
    "python3 stream.py -n 10 2>&1|grep message"
   ]
  },
  {
   "cell_type": "markdown",
   "id": "300380e4-2291-46ad-8a50-dc910ffd115d",
   "metadata": {},
   "source": [
    "This way the Linux commands will see no difference between error and standard streams, but the error stream will still be displayed first - which you can see in the `head` command result."
   ]
  },
  {
   "cell_type": "markdown",
   "id": "576a0925-6234-48ed-89a3-68e703ed5316",
   "metadata": {},
   "source": [
    "But in the context of Docker container logging, if you use `2>&1` with `docker logs`, it will be sufficient to print standard and error streams in apparent order. This is probably because you are not extracting messages from the runtime, but from a file somewhere."
   ]
  },
  {
   "cell_type": "code",
   "execution_count": 27,
   "id": "5e04b3c0-4e4d-4c7a-927f-13a85df93c0f",
   "metadata": {},
   "outputs": [
    {
     "name": "stdout",
     "output_type": "stream",
     "text": [
      "=====generated log=====\n",
      "Just message\n",
      "Some error\n",
      "Just message\n",
      "Some error\n",
      "Some error\n"
     ]
    }
   ],
   "source": [
    "%%bash\n",
    "cd logs_examples\n",
    "docker build -t log_example . &> /dev/null\n",
    "\n",
    "docker run -d --rm --name log_example log_example stream.py &> /dev/null\n",
    "sleep 10\n",
    "\n",
    "echo \"=====generated log=====\"\n",
    "docker logs log_example 2>&1| head -n 5\n",
    "\n",
    "docker stop log_example &> /dev/null\n",
    "docker rmi log_example &> /dev/null"
   ]
  },
  {
   "cell_type": "markdown",
   "id": "526d8653-069e-4706-a9c8-e48ad721d0df",
   "metadata": {},
   "source": [
    "### To file\n",
    "\n",
    "You can save streams to files by using the following constructions:\n",
    "\n",
    "- `>` - rewrite file with the results of the standart stream;\n",
    "- `>>` - complete file with the result of the standart stream;\n",
    "- `2>` - rewrite file with the result of the error stream;\n",
    "- `2>>` - complete file with the result of the error stream.\n",
    "\n",
    "The following example shows how divide standart and error streams into two files."
   ]
  },
  {
   "cell_type": "code",
   "execution_count": 30,
   "id": "12acb1a7-3c61-420d-85f4-06244f7c4732",
   "metadata": {},
   "outputs": [
    {
     "name": "stdout",
     "output_type": "stream",
     "text": [
      "=====standart stream=====\n",
      "Just message\n",
      "Just message\n",
      "Just message\n",
      "Just message\n",
      "Just message\n",
      "Just message\n",
      "Just message\n",
      "Just message\n",
      "Just message\n",
      "Just message\n",
      "Just message\n",
      "Just message\n",
      "=====error stream=====\n",
      "Some error\n",
      "Some error\n",
      "Some error\n",
      "Some error\n",
      "Some error\n",
      "Some error\n",
      "Some error\n",
      "Some error\n"
     ]
    }
   ],
   "source": [
    "%%bash\n",
    "cd logs_examples\n",
    "python3 stream.py -n 20 > standart_stream 2> error_stream\n",
    "\n",
    "echo \"=====standart stream=====\"\n",
    "cat standart_stream\n",
    "echo \"=====error stream=====\"\n",
    "cat error_stream\n",
    "\n",
    "rm standart_stream error_stream"
   ]
  }
 ],
 "metadata": {
  "kernelspec": {
   "display_name": "Python 3 (ipykernel)",
   "language": "python",
   "name": "python3"
  },
  "language_info": {
   "codemirror_mode": {
    "name": "ipython",
    "version": 3
   },
   "file_extension": ".py",
   "mimetype": "text/x-python",
   "name": "python",
   "nbconvert_exporter": "python",
   "pygments_lexer": "ipython3",
   "version": "3.10.6"
  }
 },
 "nbformat": 4,
 "nbformat_minor": 5
}
