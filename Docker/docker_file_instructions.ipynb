{
 "cells": [
  {
   "cell_type": "markdown",
   "id": "6e3c4760-3e61-44db-a2c7-ccdbdbd16100",
   "metadata": {},
   "source": [
    "# Dockerfile instructions\n",
    "\n",
    "Here are the most basic options for the dockerfile.\n",
    "\n",
    "- `FROM` - sets the base image for the new image;"
   ]
  },
  {
   "cell_type": "markdown",
   "id": "666d7776-184a-48fd-8731-5b600b839980",
   "metadata": {},
   "source": [
    "### `WORKDIR`"
   ]
  },
  {
   "cell_type": "code",
   "execution_count": 4,
   "id": "1ebafb3b-9b09-4f05-ab92-9fd1d2b54826",
   "metadata": {},
   "outputs": [
    {
     "name": "stdout",
     "output_type": "stream",
     "text": [
      "=====container 1 pwd=====\n",
      "/workdir1\n"
     ]
    }
   ],
   "source": [
    "%%bash\n",
    "docker build -t test_ubuntu -f basic_instructions/workdir1 basic_instructions &> /dev/null\n",
    "\n",
    "docker run --name container1 -itd --rm test_ubuntu &> /dev/null\n",
    "echo \"=====container 1 pwd=====\"\n",
    "docker exec container1 pwd\n",
    "docker stop container1 &> /dev/null\n",
    "\n",
    "docker rmi test_ubuntu &> /dev/null"
   ]
  }
 ],
 "metadata": {
  "kernelspec": {
   "display_name": "Python 3 (ipykernel)",
   "language": "python",
   "name": "python3"
  },
  "language_info": {
   "codemirror_mode": {
    "name": "ipython",
    "version": 3
   },
   "file_extension": ".py",
   "mimetype": "text/x-python",
   "name": "python",
   "nbconvert_exporter": "python",
   "pygments_lexer": "ipython3",
   "version": "3.10.6"
  }
 },
 "nbformat": 4,
 "nbformat_minor": 5
}
