{
 "cells": [
  {
   "cell_type": "markdown",
   "id": "e2ee5a84-0987-4112-9e8b-c3d31eed3818",
   "metadata": {},
   "source": [
    "# Creation of your own docker image\n",
    "\n",
    "The docker image should be described in a special file, typically named `dockerfile`."
   ]
  },
  {
   "cell_type": "markdown",
   "id": "c4686724-aa5e-4e01-9c29-11ab41fff09c",
   "metadata": {},
   "source": [
    "### `docker build` - build image\n",
    "\n",
    "- the last mandatory argument sets the build directory - you should use `.` to set the current directory.\n",
    "- `-t` - set the name and tag of the image;\n",
    "- `-f` - set the dockerfile name if it is different from the default `dockerfile`."
   ]
  },
  {
   "cell_type": "code",
   "execution_count": 6,
   "id": "6f96a0de-5214-4115-9e5b-83b4b371f9ea",
   "metadata": {},
   "outputs": [
    {
     "name": "stderr",
     "output_type": "stream",
     "text": [
      "#1 [internal] load build definition from my_first_dockerfile\n",
      "#1 transferring dockerfile: 784B done\n",
      "#1 DONE 0.0s\n",
      "\n",
      "#2 [internal] load .dockerignore\n",
      "#2 transferring context: 2B done\n",
      "#2 DONE 0.0s\n",
      "\n",
      "#3 [internal] load metadata for docker.io/library/ubuntu:latest\n",
      "#3 DONE 0.0s\n",
      "\n",
      "#4 [1/4] FROM docker.io/library/ubuntu:latest\n",
      "#4 DONE 0.0s\n",
      "\n",
      "#5 [internal] load build context\n",
      "#5 transferring context: 30B done\n",
      "#5 DONE 0.0s\n",
      "\n",
      "#6 [3/4] COPY script.sh script.sh\n",
      "#6 CACHED\n",
      "\n",
      "#7 [2/4] WORKDIR /home/Dranikf\n",
      "#7 CACHED\n",
      "\n",
      "#8 [4/4] RUN apt-get update && apt-get install -y vim wget curl git\n",
      "#8 CACHED\n",
      "\n",
      "#9 exporting to image\n",
      "#9 exporting layers done\n",
      "#9 writing image sha256:7105d4774a9281753707c0823de5eb9a6aad09b4c8248fcb732f08b0899b5c88 done\n",
      "#9 naming to docker.io/library/custom_ubuntu:test done\n",
      "#9 DONE 0.0s\n"
     ]
    },
    {
     "name": "stdout",
     "output_type": "stream",
     "text": [
      "custom_ubuntu              test      7105d4774a92   6 minutes ago   252MB\n",
      "Untagged: custom_ubuntu:test\n",
      "Deleted: sha256:7105d4774a9281753707c0823de5eb9a6aad09b4c8248fcb732f08b0899b5c88\n"
     ]
    }
   ],
   "source": [
    "%%bash\n",
    "cd image_creation_files\n",
    "docker build -t custom_ubuntu:test -f my_first_dockerfile .\n",
    "docker images | grep custom_ubuntu\n",
    "docker rmi custom_ubuntu:test"
   ]
  },
  {
   "cell_type": "markdown",
   "id": "26b59611-bc44-43d9-aa3b-a605291b0dab",
   "metadata": {},
   "source": [
    "You should see a difference between building directory and dockerfile. The `dockerfile` is only taken from the building directory if it is not specified in the `-f` option. But the files used for the build will in any case come from the build directory.\n",
    "\n",
    "In the following example I take the dockerfile from `/image_creation_files` but set the build directory to `/image_creation_files/test_folder`. The dockerfile is designed to copy `scipt.sh` from the building directory, but in named directories `script.sh` is different, so let's check which one is executed."
   ]
  },
  {
   "cell_type": "code",
   "execution_count": 18,
   "id": "2eed7674-425f-4ae6-b987-b0773e4da6b3",
   "metadata": {},
   "outputs": [
    {
     "name": "stdout",
     "output_type": "stream",
     "text": [
      "=====tree of the image_creation_files=====\n",
      "\u001b[01;34m.\u001b[0m\n",
      "├── dockerfile\n",
      "├── my_first_dockerfile\n",
      "├── script.sh\n",
      "└── \u001b[01;34mtest_folder\u001b[0m\n",
      "    └── script.sh\n",
      "\n",
      "1 directory, 4 files\n",
      "\n",
      "\n",
      "=====script from image_creation_files=====\n",
      "It's a script.sh from the images_creation_files\n",
      "=====script from test_folder=====\n",
      "It's a script from test_folder\n",
      "\n",
      "\n",
      "=====message from container=====\n",
      "It's a script from test_folder\n"
     ]
    }
   ],
   "source": [
    "%%bash\n",
    "cd image_creation_files\n",
    "echo \"=====tree of the image_creation_files=====\"\n",
    "tree\n",
    "\n",
    "echo\n",
    "echo\n",
    "\n",
    "echo \"=====script from image_creation_files=====\"\n",
    "bash script.sh\n",
    "echo \"=====script from test_folder=====\"\n",
    "bash test_folder/script.sh\n",
    "\n",
    "echo\n",
    "echo\n",
    "\n",
    "docker build -t test_ubuntu -f my_first_dockerfile test_folder &> /dev/null\n",
    "docker run --name test_ubuntu --rm -itd test_ubuntu &> /dev/null\n",
    "echo \"=====message from container=====\"\n",
    "docker exec test_ubuntu bash script.sh\n",
    "docker stop test_ubuntu &> /dev/null\n",
    "docker rmi test_ubuntu &> /dev/null"
   ]
  },
  {
   "cell_type": "markdown",
   "id": "f72b58c8-50e9-4d01-bb8a-882c09d3cea3",
   "metadata": {},
   "source": [
    "As a result, even though each dockerfile is in the `image_creation_files` folder, the `script.sh` file is taken from the folder specified as the build folder."
   ]
  },
  {
   "cell_type": "markdown",
   "id": "8e034803-3af1-4cf2-b258-faa8b4fbc15c",
   "metadata": {},
   "source": [
    "Just to check the opposite option. I will use docker file from `test_folder` but set `.` as build directory. So the script result will be from `images_creation_folder`. To know that container was built from dockerfile from `test_folder`, dockerfile will add \"hello\" to the result of the executed script."
   ]
  },
  {
   "cell_type": "code",
   "execution_count": 29,
   "id": "aecb8908-43e7-420d-a41e-f47168c0b99f",
   "metadata": {},
   "outputs": [
    {
     "name": "stdout",
     "output_type": "stream",
     "text": [
      "=====script from image_creation_files=====\n",
      "It's a script.sh from the images_creation_files\n",
      "=====script from test_folder=====\n",
      "It's a script from test_folder\n",
      "\n",
      "\n",
      "=====message from container=====\n",
      "It's a script.sh from the images_creation_files\n",
      "hello\n"
     ]
    }
   ],
   "source": [
    "%%bash\n",
    "cd image_creation_files\n",
    "\n",
    "echo \"=====script from image_creation_files=====\"\n",
    "bash script.sh\n",
    "echo \"=====script from test_folder=====\"\n",
    "bash test_folder/script.sh\n",
    "\n",
    "echo\n",
    "echo\n",
    "\n",
    "docker build -t test_ubuntu -f test_folder/dockerfile . &> /dev/null\n",
    "docker run --name test_ubuntu --rm -itd test_ubuntu &> /dev/null\n",
    "echo \"=====message from container=====\"\n",
    "docker exec test_ubuntu bash script.sh\n",
    "docker stop test_ubuntu &> /dev/null\n",
    "docker rmi test_ubuntu &> /dev/null"
   ]
  },
  {
   "cell_type": "markdown",
   "id": "0163e4f6-d3e6-4c89-912f-77f836f95d6e",
   "metadata": {},
   "source": [
    "**Note** even if you have specified a folder as some assembly folder, you must still pass in the `-f` parameter the path relative to the startup folder.\n",
    "\n",
    "The next two cells show the difference:"
   ]
  },
  {
   "cell_type": "markdown",
   "id": "b390ebb4-955e-4074-ae75-ced225a46230",
   "metadata": {},
   "source": [
    "- Not specifying a folder for `my_first_dockerfile` will cause an error;"
   ]
  },
  {
   "cell_type": "code",
   "execution_count": 35,
   "id": "a1cdecb3-e7d1-496d-abb7-53ba818fd7d8",
   "metadata": {},
   "outputs": [
    {
     "ename": "CalledProcessError",
     "evalue": "Command 'b'docker image build -f my_first_dockerfile -t ubuntu_test image_creation_files &> /dev/null\\nsleep 10\\ndocker rmi ubuntu_test &> /dev/null\\n'' returned non-zero exit status 1.",
     "output_type": "error",
     "traceback": [
      "\u001b[0;31m---------------------------------------------------------------------------\u001b[0m",
      "\u001b[0;31mCalledProcessError\u001b[0m                        Traceback (most recent call last)",
      "Cell \u001b[0;32mIn[35], line 1\u001b[0m\n\u001b[0;32m----> 1\u001b[0m \u001b[43mget_ipython\u001b[49m\u001b[43m(\u001b[49m\u001b[43m)\u001b[49m\u001b[38;5;241;43m.\u001b[39;49m\u001b[43mrun_cell_magic\u001b[49m\u001b[43m(\u001b[49m\u001b[38;5;124;43m'\u001b[39;49m\u001b[38;5;124;43mbash\u001b[39;49m\u001b[38;5;124;43m'\u001b[39;49m\u001b[43m,\u001b[49m\u001b[43m \u001b[49m\u001b[38;5;124;43m'\u001b[39;49m\u001b[38;5;124;43m'\u001b[39;49m\u001b[43m,\u001b[49m\u001b[43m \u001b[49m\u001b[38;5;124;43m'\u001b[39;49m\u001b[38;5;124;43mdocker image build -f my_first_dockerfile -t ubuntu_test image_creation_files &> /dev/null\u001b[39;49m\u001b[38;5;130;43;01m\\n\u001b[39;49;00m\u001b[38;5;124;43msleep 10\u001b[39;49m\u001b[38;5;130;43;01m\\n\u001b[39;49;00m\u001b[38;5;124;43mdocker rmi ubuntu_test &> /dev/null\u001b[39;49m\u001b[38;5;130;43;01m\\n\u001b[39;49;00m\u001b[38;5;124;43m'\u001b[39;49m\u001b[43m)\u001b[49m\n",
      "File \u001b[0;32m~/.local/lib/python3.10/site-packages/IPython/core/interactiveshell.py:2430\u001b[0m, in \u001b[0;36mInteractiveShell.run_cell_magic\u001b[0;34m(self, magic_name, line, cell)\u001b[0m\n\u001b[1;32m   2428\u001b[0m \u001b[38;5;28;01mwith\u001b[39;00m \u001b[38;5;28mself\u001b[39m\u001b[38;5;241m.\u001b[39mbuiltin_trap:\n\u001b[1;32m   2429\u001b[0m     args \u001b[38;5;241m=\u001b[39m (magic_arg_s, cell)\n\u001b[0;32m-> 2430\u001b[0m     result \u001b[38;5;241m=\u001b[39m \u001b[43mfn\u001b[49m\u001b[43m(\u001b[49m\u001b[38;5;241;43m*\u001b[39;49m\u001b[43margs\u001b[49m\u001b[43m,\u001b[49m\u001b[43m \u001b[49m\u001b[38;5;241;43m*\u001b[39;49m\u001b[38;5;241;43m*\u001b[39;49m\u001b[43mkwargs\u001b[49m\u001b[43m)\u001b[49m\n\u001b[1;32m   2432\u001b[0m \u001b[38;5;66;03m# The code below prevents the output from being displayed\u001b[39;00m\n\u001b[1;32m   2433\u001b[0m \u001b[38;5;66;03m# when using magics with decodator @output_can_be_silenced\u001b[39;00m\n\u001b[1;32m   2434\u001b[0m \u001b[38;5;66;03m# when the last Python token in the expression is a ';'.\u001b[39;00m\n\u001b[1;32m   2435\u001b[0m \u001b[38;5;28;01mif\u001b[39;00m \u001b[38;5;28mgetattr\u001b[39m(fn, magic\u001b[38;5;241m.\u001b[39mMAGIC_OUTPUT_CAN_BE_SILENCED, \u001b[38;5;28;01mFalse\u001b[39;00m):\n",
      "File \u001b[0;32m~/.local/lib/python3.10/site-packages/IPython/core/magics/script.py:153\u001b[0m, in \u001b[0;36mScriptMagics._make_script_magic.<locals>.named_script_magic\u001b[0;34m(line, cell)\u001b[0m\n\u001b[1;32m    151\u001b[0m \u001b[38;5;28;01melse\u001b[39;00m:\n\u001b[1;32m    152\u001b[0m     line \u001b[38;5;241m=\u001b[39m script\n\u001b[0;32m--> 153\u001b[0m \u001b[38;5;28;01mreturn\u001b[39;00m \u001b[38;5;28;43mself\u001b[39;49m\u001b[38;5;241;43m.\u001b[39;49m\u001b[43mshebang\u001b[49m\u001b[43m(\u001b[49m\u001b[43mline\u001b[49m\u001b[43m,\u001b[49m\u001b[43m \u001b[49m\u001b[43mcell\u001b[49m\u001b[43m)\u001b[49m\n",
      "File \u001b[0;32m~/.local/lib/python3.10/site-packages/IPython/core/magics/script.py:305\u001b[0m, in \u001b[0;36mScriptMagics.shebang\u001b[0;34m(self, line, cell)\u001b[0m\n\u001b[1;32m    300\u001b[0m \u001b[38;5;28;01mif\u001b[39;00m args\u001b[38;5;241m.\u001b[39mraise_error \u001b[38;5;129;01mand\u001b[39;00m p\u001b[38;5;241m.\u001b[39mreturncode \u001b[38;5;241m!=\u001b[39m \u001b[38;5;241m0\u001b[39m:\n\u001b[1;32m    301\u001b[0m     \u001b[38;5;66;03m# If we get here and p.returncode is still None, we must have\u001b[39;00m\n\u001b[1;32m    302\u001b[0m     \u001b[38;5;66;03m# killed it but not yet seen its return code. We don't wait for it,\u001b[39;00m\n\u001b[1;32m    303\u001b[0m     \u001b[38;5;66;03m# in case it's stuck in uninterruptible sleep. -9 = SIGKILL\u001b[39;00m\n\u001b[1;32m    304\u001b[0m     rc \u001b[38;5;241m=\u001b[39m p\u001b[38;5;241m.\u001b[39mreturncode \u001b[38;5;129;01mor\u001b[39;00m \u001b[38;5;241m-\u001b[39m\u001b[38;5;241m9\u001b[39m\n\u001b[0;32m--> 305\u001b[0m     \u001b[38;5;28;01mraise\u001b[39;00m CalledProcessError(rc, cell)\n",
      "\u001b[0;31mCalledProcessError\u001b[0m: Command 'b'docker image build -f my_first_dockerfile -t ubuntu_test image_creation_files &> /dev/null\\nsleep 10\\ndocker rmi ubuntu_test &> /dev/null\\n'' returned non-zero exit status 1."
     ]
    }
   ],
   "source": [
    "%%bash\n",
    "docker image build -f my_first_dockerfile -t ubuntu_test image_creation_files &> /dev/null\n",
    "docker rmi ubuntu_test &> /dev/null"
   ]
  },
  {
   "cell_type": "markdown",
   "id": "475605c3-e236-457c-8a33-13f6a08a1733",
   "metadata": {},
   "source": [
    "- Specifying a folder leads to successful completion."
   ]
  },
  {
   "cell_type": "code",
   "execution_count": 36,
   "id": "26bc0b53-1c36-45e3-8774-37931b7ac161",
   "metadata": {},
   "outputs": [],
   "source": [
    "%%bash\n",
    "docker image build -f image_creation_files/my_first_dockerfile -t ubuntu_test image_creation_files &> /dev/null\n",
    "docker rmi ubuntu_test &> /dev/null"
   ]
  }
 ],
 "metadata": {
  "kernelspec": {
   "display_name": "Python 3 (ipykernel)",
   "language": "python",
   "name": "python3"
  },
  "language_info": {
   "codemirror_mode": {
    "name": "ipython",
    "version": 3
   },
   "file_extension": ".py",
   "mimetype": "text/x-python",
   "name": "python",
   "nbconvert_exporter": "python",
   "pygments_lexer": "ipython3",
   "version": "3.10.6"
  }
 },
 "nbformat": 4,
 "nbformat_minor": 5
}
