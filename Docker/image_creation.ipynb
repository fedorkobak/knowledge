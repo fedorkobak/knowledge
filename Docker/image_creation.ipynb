{
 "cells": [
  {
   "cell_type": "markdown",
   "id": "56cd4a02-d3bd-45d0-a2c2-f35199d48859",
   "metadata": {},
   "source": [
    "# Image creation"
   ]
  },
  {
   "cell_type": "markdown",
   "id": "21267b00-b12c-4750-b39a-9afb13c8c743",
   "metadata": {},
   "source": [
    "# `docker build` - build image{#sec-docker_build_command}\n",
    "\n",
    "This is the command used to create a new docker image."
   ]
  },
  {
   "cell_type": "markdown",
   "id": "27a5d4e8-f058-436d-8d0a-e458ea92e1f3",
   "metadata": {},
   "source": [
    "Basic arguments:\n",
    "\n",
    "- the last mandatory argument sets the build directory - you should use `.` to set the current directory.\n",
    "- `-t` - set the name and tag of the image."
   ]
  },
  {
   "cell_type": "code",
   "execution_count": 2,
   "id": "23163fac-48ee-4692-86ed-76aa92e6e425",
   "metadata": {},
   "outputs": [
    {
     "name": "stderr",
     "output_type": "stream",
     "text": [
      "#1 [internal] load .dockerignore\n",
      "#1 transferring context: 2B done\n",
      "#1 DONE 0.0s\n",
      "\n",
      "#2 [internal] load build definition from dockerfile\n",
      "#2 transferring dockerfile: 55B done\n",
      "#2 DONE 0.0s\n",
      "\n",
      "#3 [internal] load metadata for docker.io/library/ubuntu:latest\n",
      "#3 DONE 0.0s\n",
      "\n",
      "#4 [1/1] FROM docker.io/library/ubuntu:latest\n",
      "#4 CACHED\n",
      "\n",
      "#5 exporting to image\n",
      "#5 exporting layers done\n",
      "#5 writing image sha256:8173c380186319e1e49d54260624b8b78635789ab603389d63c65e828e150c8f done\n",
      "#5 naming to docker.io/library/custom_ubuntu:test done\n",
      "#5 DONE 0.0s\n"
     ]
    },
    {
     "name": "stdout",
     "output_type": "stream",
     "text": [
      "custom_ubuntu              test      8173c3801863   3 months ago    77.8MB\n",
      "Untagged: custom_ubuntu:test\n",
      "Deleted: sha256:8173c380186319e1e49d54260624b8b78635789ab603389d63c65e828e150c8f\n"
     ]
    }
   ],
   "source": [
    "%%bash\n",
    "cd build_command_files\n",
    "docker build -t custom_ubuntu:test .\n",
    "docker images | grep custom_ubuntu\n",
    "docker rmi custom_ubuntu:test"
   ]
  },
  {
   "cell_type": "markdown",
   "id": "5ca0c251-ded7-43fb-b2c9-68043bada83e",
   "metadata": {},
   "source": [
    "### `-f` - allow to chose the dockerfile"
   ]
  },
  {
   "cell_type": "markdown",
   "id": "90631f13-c79d-410f-abb7-e86216062633",
   "metadata": {},
   "source": [
    "You should see a difference between building directory and dockerfile. The `dockerfile` is only taken from the building directory if it is not specified in the `-f` option. But the files used for the build will in any case come from the build directory.\n",
    "\n",
    "So let's try some experiments with these details. I have prepared some folders for experiments with these options, in the following cell I show tree and file contents."
   ]
  },
  {
   "cell_type": "code",
   "execution_count": 13,
   "id": "d8a12d5f-d6a4-4288-8259-0e89c906b303",
   "metadata": {},
   "outputs": [
    {
     "name": "stdout",
     "output_type": "stream",
     "text": [
      "\u001b[01;34m.\u001b[0m\n",
      "├── dockerfile\n",
      "├── script.sh\n",
      "├── specialdockerfile\n",
      "└── \u001b[01;34mtest_folder\u001b[0m\n",
      "    ├── dockerfile\n",
      "    └── script.sh\n",
      "\n",
      "1 directory, 5 files\n",
      "\n",
      "\n",
      "\n",
      "\n",
      "=====File: ./dockerfile=====\n",
      "FROM ubuntu:latest\n",
      "COPY script.sh script.sh\n",
      "RUN echo \"\\necho message from basic dockerfile\" >> script.sh\n",
      "\n",
      "=====File: ./script.sh=====\n",
      "echo \"It's a script.sh from the run folder\"\n",
      "\n",
      "=====File: ./specialdockerfile=====\n",
      "FROM ubuntu:latest\n",
      "COPY script.sh script.sh\n",
      "RUN echo \"\\necho message from specialdockerfile\" >> script.sh\n",
      "\n",
      "=====File: ./test_folder/dockerfile=====\n",
      "FROM ubuntu:latest\n",
      "COPY script.sh script.sh\n",
      "RUN echo \"\\necho message from test_folder/dockerfile\" >> script.sh\n",
      "\n",
      "=====File: ./test_folder/script.sh=====\n",
      "echo \"It's a script from test_folder\"\n"
     ]
    }
   ],
   "source": [
    "%%bash\n",
    "cd build_command_files/f_option_examples\n",
    "tree\n",
    "\n",
    "echo\n",
    "echo\n",
    "echo\n",
    "\n",
    "for file in $(find -type f | grep -v \"\\/\\.\"); do\n",
    "    echo \"\"\n",
    "    echo \"=====File: $file=====\"\n",
    "    cat $file\n",
    "    echo \"\"\n",
    "done"
   ]
  },
  {
   "cell_type": "markdown",
   "id": "3634d5f2-360c-4bae-9ac2-2c45bc8ed004",
   "metadata": {},
   "source": [
    "We have:\n",
    "\n",
    "- scripts:\n",
    "    - from run folder - prints `\"It's a script.sh from the run folder\"`;\n",
    "    - from test_folder - prints `\"It's a script from test_folder\"`;\n",
    "- dockerfiles:\n",
    "    - basic `dockerfile` from run directory - adds to printing script line `\"message from basic dockerfile\"`;\n",
    "    - `specisaldocker` file from run dicrecotry but with special name - adds to printing script line `\"message from specialdockerfile\"`;\n",
    "    - `dockerfile` from `test_folder` directory - adds to printing script line `\"message from test_folder/dockerfile\"`;\n",
    "    - `specialdockerfile` from `test_folder` directory - adds to printing script line `\"message from test_folder/specialdockerfile\"`;\n",
    "\n",
    "This way we can always tell from the output of `script.sh` from the container in which folder and from which dockerfile the image was built. Let's try different options:"
   ]
  },
  {
   "cell_type": "markdown",
   "id": "c63e265f-dae7-4f71-9b82-3bf011a8c41d",
   "metadata": {},
   "source": [
    "- The most basic case no `-f` option and `.` as build directory - will lead to using docker file from run directory and `script.sh` was copiet from run dicrecory as well;"
   ]
  },
  {
   "cell_type": "code",
   "execution_count": 16,
   "id": "f4852dbb-bd5c-4cbd-8d8a-00a2bd8a88bb",
   "metadata": {},
   "outputs": [
    {
     "name": "stdout",
     "output_type": "stream",
     "text": [
      "=====message from container=====\n",
      "It's a script.sh from the run folder\n",
      "message from basic dockerfile\n"
     ]
    }
   ],
   "source": [
    "%%bash\n",
    "cd build_command_files/f_option_examples\n",
    "docker build -t test_ubuntu . &> /dev/null\n",
    "docker run --rm -itd \\\n",
    "    --name test_ubuntu \\\n",
    "    test_ubuntu &> /dev/null\n",
    "echo \"=====message from container=====\"\n",
    "docker exec test_ubuntu bash script.sh\n",
    "\n",
    "docker stop test_ubuntu &> /dev/null\n",
    "docker rmi test_ubuntu &> /dev/null"
   ]
  },
  {
   "cell_type": "markdown",
   "id": "97195717-eb7d-4998-880e-4e4598481b91",
   "metadata": {},
   "source": [
    "- If you do not set the `-f` option but specify the build folder as `test_folder` everythig will be taken from `test_folder`;"
   ]
  },
  {
   "cell_type": "code",
   "execution_count": 17,
   "id": "7312eb8c-708e-4dca-9022-5d5c672cb5c8",
   "metadata": {},
   "outputs": [
    {
     "name": "stdout",
     "output_type": "stream",
     "text": [
      "=====message from container=====\n",
      "It's a script from test_folder\n",
      "message from test_folder/dockerfile\n"
     ]
    }
   ],
   "source": [
    "%%bash\n",
    "cd build_command_files/f_option_examples\n",
    "docker build -t test_ubuntu test_folder &> /dev/null\n",
    "docker run --rm -itd \\\n",
    "    --name test_ubuntu \\\n",
    "    test_ubuntu &> /dev/null\n",
    "echo \"=====message from container=====\"\n",
    "docker exec test_ubuntu bash script.sh\n",
    "\n",
    "docker stop test_ubuntu &> /dev/null\n",
    "docker rmi test_ubuntu &> /dev/null"
   ]
  },
  {
   "cell_type": "markdown",
   "id": "f9102b39-5752-4593-8fe4-f8461824fc1c",
   "metadata": {},
   "source": [
    "- If you set `-f specialdockerfile` and specify the build folder as `test_folder` - everything is obvious;"
   ]
  },
  {
   "cell_type": "code",
   "execution_count": 19,
   "id": "af47439c-fb99-4480-8047-86c374f614ce",
   "metadata": {},
   "outputs": [
    {
     "name": "stdout",
     "output_type": "stream",
     "text": [
      "=====message from container=====\n",
      "It's a script from test_folder\n",
      "message from specialdockerfile\n"
     ]
    }
   ],
   "source": [
    "%%bash\n",
    "cd build_command_files/f_option_examples\n",
    "docker build \\\n",
    "    -t test_ubuntu \\\n",
    "    -f specialdockerfile \\\n",
    "    test_folder &> /dev/null\n",
    "docker run --rm -itd \\\n",
    "    --name test_ubuntu \\\n",
    "    test_ubuntu &> /dev/null\n",
    "echo \"=====message from container=====\"\n",
    "docker exec test_ubuntu bash script.sh\n",
    "\n",
    "docker stop test_ubuntu &> /dev/null\n",
    "docker rmi test_ubuntu &> /dev/null"
   ]
  },
  {
   "cell_type": "markdown",
   "id": "58f627b3-1320-4faa-854a-9595f8ebafaa",
   "metadata": {},
   "source": [
    "- Bit exotic case - `dockerfile` from `test_folder`, but build directory is run directory;"
   ]
  },
  {
   "cell_type": "code",
   "execution_count": 20,
   "id": "25727aa7-ff67-47be-a126-03fd2c7e07bf",
   "metadata": {},
   "outputs": [
    {
     "name": "stdout",
     "output_type": "stream",
     "text": [
      "=====message from container=====\n",
      "It's a script.sh from the run folder\n",
      "message from test_folder/dockerfile\n"
     ]
    }
   ],
   "source": [
    "%%bash\n",
    "cd build_command_files/f_option_examples\n",
    "docker build \\\n",
    "    -t test_ubuntu \\\n",
    "    -f test_folder/dockerfile \\\n",
    "    . &> /dev/null\n",
    "docker run --rm -itd \\\n",
    "    --name test_ubuntu \\\n",
    "    test_ubuntu &> /dev/null\n",
    "echo \"=====message from container=====\"\n",
    "docker exec test_ubuntu bash script.sh\n",
    "\n",
    "docker stop test_ubuntu &> /dev/null\n",
    "docker rmi test_ubuntu &> /dev/null"
   ]
  },
  {
   "cell_type": "markdown",
   "id": "85e55938-6c43-4e2b-a1d7-5691b97479ef",
   "metadata": {},
   "source": [
    "**Note** even if you have specified a folder as some assembly folder, you must still pass in the `-f` parameter the path relative to the run folder.\n",
    "\n",
    "The next two points show the difference:"
   ]
  },
  {
   "cell_type": "markdown",
   "id": "1aabbcc8-46da-4018-b018-b4697f20ea7e",
   "metadata": {},
   "source": [
    "- Here I set building directory as `test_folder` but `-f specialdockerfile` - `specialdockerfile` from run folder will be used; "
   ]
  },
  {
   "cell_type": "code",
   "execution_count": 22,
   "id": "83cc6203-ab63-4f09-aa80-79cf71c2293b",
   "metadata": {},
   "outputs": [
    {
     "name": "stdout",
     "output_type": "stream",
     "text": [
      "=====message from container=====\n",
      "It's a script from test_folder\n",
      "message from specialdockerfile\n"
     ]
    }
   ],
   "source": [
    "%%bash\n",
    "cd build_command_files/f_option_examples\n",
    "docker build \\\n",
    "    -t test_ubuntu \\\n",
    "    -f specialdockerfile \\\n",
    "    test_folder &> /dev/null\n",
    "docker run --rm -itd \\\n",
    "    --name test_ubuntu \\\n",
    "    test_ubuntu &> /dev/null\n",
    "echo \"=====message from container=====\"\n",
    "docker exec test_ubuntu bash script.sh\n",
    "\n",
    "docker stop test_ubuntu &> /dev/null\n",
    "docker rmi test_ubuntu &> /dev/null"
   ]
  },
  {
   "cell_type": "markdown",
   "id": "b54b59c6-7b65-42af-bf24-754de552fd70",
   "metadata": {},
   "source": [
    "- Here I set building directory as `test_folder` but `-f test_folder/specialdockerfile` - `specialdockerfile` from `test_folder` will be used; "
   ]
  },
  {
   "cell_type": "code",
   "execution_count": 23,
   "id": "2607990a-e91b-4bd9-8764-69ef41cc90d5",
   "metadata": {},
   "outputs": [
    {
     "name": "stdout",
     "output_type": "stream",
     "text": [
      "=====message from container=====\n",
      "It's a script from test_folder\n",
      "message from test_folder/specialdockerfile\n"
     ]
    }
   ],
   "source": [
    "%%bash\n",
    "cd build_command_files/f_option_examples\n",
    "docker build \\\n",
    "    -t test_ubuntu \\\n",
    "    -f test_folder/specialdockerfile \\\n",
    "    test_folder &> /dev/null\n",
    "docker run --rm -itd \\\n",
    "    --name test_ubuntu \\\n",
    "    test_ubuntu &> /dev/null\n",
    "echo \"=====message from container=====\"\n",
    "docker exec test_ubuntu bash script.sh\n",
    "\n",
    "docker stop test_ubuntu &> /dev/null\n",
    "docker rmi test_ubuntu &> /dev/null"
   ]
  },
  {
   "cell_type": "markdown",
   "id": "f72c971b-d478-4c99-8d61-bce00cc54683",
   "metadata": {},
   "source": [
    "# .dockerignore - select files ignored during image building\n",
    "\n",
    "In docker ignore, you should specify files to be ignored when building the image."
   ]
  },
  {
   "cell_type": "markdown",
   "id": "15c6f6e3-a536-465f-9dc9-ad39c541e6bb",
   "metadata": {},
   "source": [
    "For example lets try to build image with followig paremeters:"
   ]
  },
  {
   "cell_type": "code",
   "execution_count": 13,
   "id": "7c159dd3-9975-495f-948a-29ab85cd912c",
   "metadata": {},
   "outputs": [
    {
     "name": "stdout",
     "output_type": "stream",
     "text": [
      "=====dockerfile=====\n",
      "FROM ubuntu\n",
      "COPY test_file test_file\n",
      "=====.dockerignore=====\n",
      "test_file\n",
      "test_folder/banned_file\n"
     ]
    }
   ],
   "source": [
    "%%bash\n",
    "cd dockerignore\n",
    "echo \"=====dockerfile=====\"\n",
    "cat dockerfile1\n",
    "echo\n",
    "echo \"=====.dockerignore=====\"\n",
    "cat .dockerignore"
   ]
  },
  {
   "cell_type": "markdown",
   "id": "2af63023-ca16-4cb6-8659-fb8c1a248749",
   "metadata": {},
   "source": [
    "So in dockerfile I try to copy `test_file` into image, but in docker ignore I bun this file. At the next cell, I'm trying to build such image - and getting error."
   ]
  },
  {
   "cell_type": "code",
   "execution_count": 12,
   "id": "e516c34c-7919-4d99-8f9c-cd4417246154",
   "metadata": {},
   "outputs": [
    {
     "name": "stderr",
     "output_type": "stream",
     "text": [
      "#1 [internal] load build definition from dockerfile1\n",
      "#1 transferring dockerfile: 74B done\n",
      "#1 DONE 0.0s\n",
      "\n",
      "#2 [internal] load .dockerignore\n",
      "#2 transferring context: 50B done\n",
      "#2 DONE 0.0s\n",
      "\n",
      "#3 [internal] load metadata for docker.io/library/ubuntu:latest\n",
      "#3 DONE 0.0s\n",
      "\n",
      "#4 [1/2] FROM docker.io/library/ubuntu\n",
      "#4 DONE 0.0s\n",
      "\n",
      "#5 [internal] load build context\n",
      "#5 transferring context: 2B done\n",
      "#5 DONE 0.0s\n",
      "\n",
      "#6 [2/2] COPY test_file test_file\n",
      "#6 ERROR: failed to calculate checksum of ref 40880b12-160a-424d-a82b-d59b9594f64c::7cmhtk0ygxakortpvzlpd8pwp: \"/test_file\": not found\n",
      "------\n",
      " > [2/2] COPY test_file test_file:\n",
      "------\n",
      "dockerfile1:2\n",
      "--------------------\n",
      "   1 |     FROM ubuntu\n",
      "   2 | >>> COPY test_file test_file\n",
      "--------------------\n",
      "ERROR: failed to solve: failed to compute cache key: failed to calculate checksum of ref 40880b12-160a-424d-a82b-d59b9594f64c::7cmhtk0ygxakortpvzlpd8pwp: \"/test_file\": not found\n"
     ]
    },
    {
     "ename": "CalledProcessError",
     "evalue": "Command 'b'cd dockerignore\\ndocker build -t test_image -f dockerfile1 .\\n'' returned non-zero exit status 1.",
     "output_type": "error",
     "traceback": [
      "\u001b[0;31m---------------------------------------------------------------------------\u001b[0m",
      "\u001b[0;31mCalledProcessError\u001b[0m                        Traceback (most recent call last)",
      "Cell \u001b[0;32mIn[12], line 1\u001b[0m\n\u001b[0;32m----> 1\u001b[0m \u001b[43mget_ipython\u001b[49m\u001b[43m(\u001b[49m\u001b[43m)\u001b[49m\u001b[38;5;241;43m.\u001b[39;49m\u001b[43mrun_cell_magic\u001b[49m\u001b[43m(\u001b[49m\u001b[38;5;124;43m'\u001b[39;49m\u001b[38;5;124;43mbash\u001b[39;49m\u001b[38;5;124;43m'\u001b[39;49m\u001b[43m,\u001b[49m\u001b[43m \u001b[49m\u001b[38;5;124;43m'\u001b[39;49m\u001b[38;5;124;43m'\u001b[39;49m\u001b[43m,\u001b[49m\u001b[43m \u001b[49m\u001b[38;5;124;43m'\u001b[39;49m\u001b[38;5;124;43mcd dockerignore\u001b[39;49m\u001b[38;5;130;43;01m\\n\u001b[39;49;00m\u001b[38;5;124;43mdocker build -t test_image -f dockerfile1 .\u001b[39;49m\u001b[38;5;130;43;01m\\n\u001b[39;49;00m\u001b[38;5;124;43m'\u001b[39;49m\u001b[43m)\u001b[49m\n",
      "File \u001b[0;32m~/.local/lib/python3.10/site-packages/IPython/core/interactiveshell.py:2430\u001b[0m, in \u001b[0;36mInteractiveShell.run_cell_magic\u001b[0;34m(self, magic_name, line, cell)\u001b[0m\n\u001b[1;32m   2428\u001b[0m \u001b[38;5;28;01mwith\u001b[39;00m \u001b[38;5;28mself\u001b[39m\u001b[38;5;241m.\u001b[39mbuiltin_trap:\n\u001b[1;32m   2429\u001b[0m     args \u001b[38;5;241m=\u001b[39m (magic_arg_s, cell)\n\u001b[0;32m-> 2430\u001b[0m     result \u001b[38;5;241m=\u001b[39m \u001b[43mfn\u001b[49m\u001b[43m(\u001b[49m\u001b[38;5;241;43m*\u001b[39;49m\u001b[43margs\u001b[49m\u001b[43m,\u001b[49m\u001b[43m \u001b[49m\u001b[38;5;241;43m*\u001b[39;49m\u001b[38;5;241;43m*\u001b[39;49m\u001b[43mkwargs\u001b[49m\u001b[43m)\u001b[49m\n\u001b[1;32m   2432\u001b[0m \u001b[38;5;66;03m# The code below prevents the output from being displayed\u001b[39;00m\n\u001b[1;32m   2433\u001b[0m \u001b[38;5;66;03m# when using magics with decodator @output_can_be_silenced\u001b[39;00m\n\u001b[1;32m   2434\u001b[0m \u001b[38;5;66;03m# when the last Python token in the expression is a ';'.\u001b[39;00m\n\u001b[1;32m   2435\u001b[0m \u001b[38;5;28;01mif\u001b[39;00m \u001b[38;5;28mgetattr\u001b[39m(fn, magic\u001b[38;5;241m.\u001b[39mMAGIC_OUTPUT_CAN_BE_SILENCED, \u001b[38;5;28;01mFalse\u001b[39;00m):\n",
      "File \u001b[0;32m~/.local/lib/python3.10/site-packages/IPython/core/magics/script.py:153\u001b[0m, in \u001b[0;36mScriptMagics._make_script_magic.<locals>.named_script_magic\u001b[0;34m(line, cell)\u001b[0m\n\u001b[1;32m    151\u001b[0m \u001b[38;5;28;01melse\u001b[39;00m:\n\u001b[1;32m    152\u001b[0m     line \u001b[38;5;241m=\u001b[39m script\n\u001b[0;32m--> 153\u001b[0m \u001b[38;5;28;01mreturn\u001b[39;00m \u001b[38;5;28;43mself\u001b[39;49m\u001b[38;5;241;43m.\u001b[39;49m\u001b[43mshebang\u001b[49m\u001b[43m(\u001b[49m\u001b[43mline\u001b[49m\u001b[43m,\u001b[49m\u001b[43m \u001b[49m\u001b[43mcell\u001b[49m\u001b[43m)\u001b[49m\n",
      "File \u001b[0;32m~/.local/lib/python3.10/site-packages/IPython/core/magics/script.py:305\u001b[0m, in \u001b[0;36mScriptMagics.shebang\u001b[0;34m(self, line, cell)\u001b[0m\n\u001b[1;32m    300\u001b[0m \u001b[38;5;28;01mif\u001b[39;00m args\u001b[38;5;241m.\u001b[39mraise_error \u001b[38;5;129;01mand\u001b[39;00m p\u001b[38;5;241m.\u001b[39mreturncode \u001b[38;5;241m!=\u001b[39m \u001b[38;5;241m0\u001b[39m:\n\u001b[1;32m    301\u001b[0m     \u001b[38;5;66;03m# If we get here and p.returncode is still None, we must have\u001b[39;00m\n\u001b[1;32m    302\u001b[0m     \u001b[38;5;66;03m# killed it but not yet seen its return code. We don't wait for it,\u001b[39;00m\n\u001b[1;32m    303\u001b[0m     \u001b[38;5;66;03m# in case it's stuck in uninterruptible sleep. -9 = SIGKILL\u001b[39;00m\n\u001b[1;32m    304\u001b[0m     rc \u001b[38;5;241m=\u001b[39m p\u001b[38;5;241m.\u001b[39mreturncode \u001b[38;5;129;01mor\u001b[39;00m \u001b[38;5;241m-\u001b[39m\u001b[38;5;241m9\u001b[39m\n\u001b[0;32m--> 305\u001b[0m     \u001b[38;5;28;01mraise\u001b[39;00m CalledProcessError(rc, cell)\n",
      "\u001b[0;31mCalledProcessError\u001b[0m: Command 'b'cd dockerignore\\ndocker build -t test_image -f dockerfile1 .\\n'' returned non-zero exit status 1."
     ]
    }
   ],
   "source": [
    "%%bash\n",
    "cd dockerignore\n",
    "docker build -t test_image -f dockerfile1 ."
   ]
  },
  {
   "cell_type": "markdown",
   "id": "ee667f2a-4baa-4349-824a-0fb862ebae7d",
   "metadata": {},
   "source": [
    "On the other hand, if I copy an entire folder and only a few files are blocked in the folder, the folder will be copied without those files. The following example show such configuration:"
   ]
  },
  {
   "cell_type": "code",
   "execution_count": 24,
   "id": "cee21717-c9ca-45cf-b9f6-7266ad7a55b7",
   "metadata": {},
   "outputs": [
    {
     "name": "stdout",
     "output_type": "stream",
     "text": [
      "=====dockerfile=====\n",
      "FROM ubuntu\n",
      "COPY test_folder test_folder\n",
      "=====.dockerignore=====\n",
      "test_file\n",
      "test_folder/banned_file\n",
      "\n",
      "=====test_folder in host=====\n",
      "accepted_file\n",
      "banned_file\n",
      "=====test_folder in container=====\n",
      "accepted_file\n"
     ]
    }
   ],
   "source": [
    "%%bash\n",
    "cd dockerignore\n",
    "\n",
    "echo \"=====dockerfile=====\"\n",
    "cat dockerfile2\n",
    "echo\n",
    "echo \"=====.dockerignore=====\"\n",
    "cat .dockerignore\n",
    "\n",
    "echo\n",
    "echo \"=====test_folder in host=====\"\n",
    "ls test_folder\n",
    "\n",
    "docker build -t test_image -f dockerfile2 . &> /dev/null\n",
    "\n",
    "docker run --rm --name test_container -itd test_image &> /dev/null\n",
    "echo \"=====test_folder in container=====\"\n",
    "docker exec test_container ls test_folder\n",
    "\n",
    "docker stop test_container &> /dev/null\n",
    "docker rmi test_image &> /dev/null"
   ]
  },
  {
   "cell_type": "markdown",
   "id": "0e80340d-ccc3-436a-bc54-7a0b1f6ae6f2",
   "metadata": {},
   "source": [
    "Here I copy the whole folder, but the file `banned_file` was mentioned in `.dockerignore`. So when we `ls temp_folder` from container we see only `accepted_file` in folder contents."
   ]
  },
  {
   "cell_type": "markdown",
   "id": "b20a23a7-e9e0-4d09-ba2a-7936eab337b8",
   "metadata": {},
   "source": [
    "# File in container forever\n",
    "\n",
    "If you copied a file into the container, but literally deleted it by the next instruciton - it will still affect the size of the container.\n",
    "\n",
    "Following exampe show that fature:\n",
    "- First I create an image - just copy Ubuntu;\n",
    "- Second, add the `COPY` instruction for a large file - so the size of the container will be much larger than in the first step;\n",
    "- Last image add `RUN rm` for the file copied in the previous step, the point is that the image size hasn't changed."
   ]
  },
  {
   "cell_type": "code",
   "execution_count": 10,
   "id": "f65e19e5-c0a9-4bc3-8a41-9dbd69eb51b0",
   "metadata": {},
   "outputs": [
    {
     "name": "stdout",
     "output_type": "stream",
     "text": [
      "=====just ubuntu copy=====\n",
      "test_image                 latest    8173c3801863   3 months ago    77.8MB\n",
      "=====ubuntu with big copied file=====\n",
      "test_image                 latest    86892a85e309   2 minutes ago   1.13GB\n",
      "=====ubuntu with deleted file=====\n",
      "test_image                 latest    97524578efc6   52 seconds ago   1.13GB\n"
     ]
    }
   ],
   "source": [
    "%%bash\n",
    "\n",
    "dd if=/dev/zero of=file.txt bs=1M count=1000 &> /dev/null\n",
    "\n",
    "echo \"=====just ubuntu copy=====\"\n",
    "echo \"FROM ubuntu\" > test_dockerfile\n",
    "docker build -f test_dockerfile -t test_image . &> /dev/null\n",
    "docker images | grep test_image\n",
    "docker rmi test_image &> /dev/null\n",
    "\n",
    "echo \"=====ubuntu with big copied file=====\"\n",
    "echo \"COPY file.txt file.txt\" >> test_dockerfile\n",
    "docker build -f test_dockerfile -t test_image . &> /dev/null\n",
    "docker images | grep test_image\n",
    "docker rmi test_image &> /dev/null\n",
    "\n",
    "echo \"=====ubuntu with deleted file=====\"\n",
    "echo \"RUN rm file.txt\" >> test_dockerfile\n",
    "docker build -f test_dockerfile -t test_image . &> /dev/null\n",
    "docker images | grep test_image\n",
    "docker rmi test_image &> /dev/null\n",
    "\n",
    "\n",
    "rm file.txt\n",
    "rm test_dockerfile"
   ]
  }
 ],
 "metadata": {
  "kernelspec": {
   "display_name": "Python 3 (ipykernel)",
   "language": "python",
   "name": "python3"
  },
  "language_info": {
   "codemirror_mode": {
    "name": "ipython",
    "version": 3
   },
   "file_extension": ".py",
   "mimetype": "text/x-python",
   "name": "python",
   "nbconvert_exporter": "python",
   "pygments_lexer": "ipython3",
   "version": "3.10.6"
  }
 },
 "nbformat": 4,
 "nbformat_minor": 5
}
