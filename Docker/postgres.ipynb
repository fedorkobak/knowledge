{
 "cells": [
  {
   "cell_type": "markdown",
   "id": "52449a2e-d0b5-47bd-941c-eefbdd16e3ca",
   "metadata": {},
   "source": [
    "# Postgres in docker\n",
    "\n",
    "In this page I will show you how to deploy and interact with a Postgres database in a Docker container."
   ]
  },
  {
   "cell_type": "markdown",
   "id": "c682fdd9-8a9f-4dfc-ae65-86cc38855a6e",
   "metadata": {},
   "source": [
    "# Python from container\n",
    "\n",
    "For me it's common task to build interaption with container which handle python program.\n",
    "\n",
    "So in this section I want to show you how to build such an interaction."
   ]
  },
  {
   "cell_type": "markdown",
   "id": "2e7f7ad3-a609-419e-9f3d-b6ab9eb698b4",
   "metadata": {},
   "source": [
    "## Build images\n",
    "\n",
    "You don't need to do this every time, you can do it once to create a specific version of Postgres and Python containers."
   ]
  },
  {
   "cell_type": "markdown",
   "id": "9948682c-8d00-414d-9718-ab842d095875",
   "metadata": {},
   "source": [
    "* Python container:\n",
    "\n",
    "    - [Dockerfile](postgres/python_container/dockerfile) for python container;\n",
    "    - [requrements.txt](postgres/python_container/requirements.txt) for this container;\n",
    "    - [script.py](postgres/python_container/script.py) for this container;\n",
    "\n",
    "* Postgres container:\n",
    "\n",
    "    - [Dockerfile](postgres/postgres_container/dockerfile) for postgres container;\n",
    "    - [sql script](postgres/postgres_container/create_table.sql) that creates experiment tables in the database."
   ]
  },
  {
   "cell_type": "code",
   "execution_count": 19,
   "id": "3a2e7298-96ce-4f66-baba-e03782ec7358",
   "metadata": {},
   "outputs": [],
   "source": [
    "%%bash\n",
    "docker build -t pg_example_python postgres/python_container &> /dev/null\n",
    "docker build -t pg_example_postgres postgres/postgres_container &> /dev/null"
   ]
  },
  {
   "cell_type": "markdown",
   "id": "fd21b8ba-c4fa-4c7f-8f8f-ec4aa74be6e5",
   "metadata": {},
   "source": [
    "## Start containers\n",
    "\n",
    "You should share the same net between containers, in the following example which is completed by `test_project_net`."
   ]
  },
  {
   "cell_type": "code",
   "execution_count": 20,
   "id": "bba9c2a2-cace-42b6-946d-5bdf4eaa22b0",
   "metadata": {},
   "outputs": [],
   "source": [
    "%%bash\n",
    "# network\n",
    "docker network create test_project_net &> /dev/null\n",
    "# postgres\n",
    "docker run --rm -d\\\n",
    "    --name pg_example_posgres_cont\\\n",
    "    -e POSTGRES_USER=docker_app\\\n",
    "    -e POSTGRES_PASSWORD=docker_app\\\n",
    "    -e POSTGRES_DB=docker_app_db\\\n",
    "    --net=test_project_net\\\n",
    "    pg_example_postgres &> /dev/null\n",
    "# python\n",
    "docker run --rm -itd\\\n",
    "    --name pg_example_python_cont\\\n",
    "    --net=test_project_net\\\n",
    "    pg_example_python &> /dev/null"
   ]
  },
  {
   "cell_type": "markdown",
   "id": "b9c628ee-820d-4fe3-b1a6-b4eb7088ee80",
   "metadata": {},
   "source": [
    "## Stop containers"
   ]
  },
  {
   "cell_type": "code",
   "execution_count": 17,
   "id": "57202fea-10d1-4b90-8ad2-daa95bd52f93",
   "metadata": {},
   "outputs": [],
   "source": [
    "%%bash\n",
    "docker stop pg_example_posgres_cont pg_example_python_cont &> /dev/null\n",
    "docker network rm test_project_net &> /dev/null"
   ]
  },
  {
   "cell_type": "markdown",
   "id": "8f6b9f7d-0ae3-432d-ad46-4e035a04e16b",
   "metadata": {},
   "source": [
    "## Clear images\n",
    "\n",
    "To avoid creating a lot of rubbish in docker images, you should delete the containers created for this example."
   ]
  },
  {
   "cell_type": "code",
   "execution_count": 21,
   "id": "e31bd46b-21af-479b-9090-4341cc28625e",
   "metadata": {},
   "outputs": [],
   "source": [
    "%%bash\n",
    "docker rmi pg_example_python pg_example_postgres &> /dev/null"
   ]
  }
 ],
 "metadata": {
  "kernelspec": {
   "display_name": "Python 3 (ipykernel)",
   "language": "python",
   "name": "python3"
  },
  "language_info": {
   "codemirror_mode": {
    "name": "ipython",
    "version": 3
   },
   "file_extension": ".py",
   "mimetype": "text/x-python",
   "name": "python",
   "nbconvert_exporter": "python",
   "pygments_lexer": "ipython3",
   "version": "3.10.6"
  }
 },
 "nbformat": 4,
 "nbformat_minor": 5
}
