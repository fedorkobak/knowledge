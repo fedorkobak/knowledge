{
 "cells": [
  {
   "cell_type": "markdown",
   "id": "e652ae04-6638-4c23-bed3-3d6ebc0f781d",
   "metadata": {},
   "source": [
    "# Docker-compose\n",
    "\n",
    "Docker-Compose is a tool that is presented as the next step of abstraction under Docker - a tool that allows to organise interactions between containers."
   ]
  },
  {
   "cell_type": "markdown",
   "id": "3d6abf18-2d6e-4128-a1bc-1a6136d76323",
   "metadata": {},
   "source": [
    "# YAML\n",
    "\n",
    "The language used to describe the behaviour of docker-compose.\n",
    "\n",
    "YAML allows you to describe data structures consisting of lists and dictionaries:\n",
    "\n",
    "- Each item in the list starts with the symbol `-`;\n",
    "- Each new key in the dictionary sets like `<key>`;\n",
    "- Templates (anchors) - the possibility to create the link to some essential and then use it in any place;\n",
    "- The nesting of the structure is formed by indents.\n",
    "\n",
    "Further examples will make it clearer."
   ]
  },
  {
   "cell_type": "markdown",
   "id": "c08f1d1c-6155-4e57-a6c4-a2ac2b8523ad",
   "metadata": {},
   "source": [
    "Python has a library called \"yaml\" that allows you to convert \"yaml\" markup to the corresponding Python data structures."
   ]
  },
  {
   "cell_type": "code",
   "execution_count": 1,
   "id": "9b57db3c-1899-4016-b176-06835dfb7e6f",
   "metadata": {},
   "outputs": [],
   "source": [
    "import yaml"
   ]
  },
  {
   "cell_type": "markdown",
   "id": "99a3e10b-0891-45b2-8f0d-cf1c9f31807f",
   "metadata": {},
   "source": [
    "In the following example, I create the dictionary with the keys `names`, `ages`, which contains the corresponding lists:"
   ]
  },
  {
   "cell_type": "code",
   "execution_count": 3,
   "id": "d1cd114e-93ab-48d3-87fa-a933c49c3e89",
   "metadata": {},
   "outputs": [
    {
     "data": {
      "text/plain": [
       "{'names': ['peter', 'olga'], 'ages': [22, 18]}"
      ]
     },
     "execution_count": 3,
     "metadata": {},
     "output_type": "execute_result"
    }
   ],
   "source": [
    "yaml_str = \\\n",
    "'''\n",
    "names:\n",
    "    - peter\n",
    "    - olga\n",
    "ages:\n",
    "    - 22\n",
    "    - 18\n",
    "'''\n",
    "\n",
    "yaml.full_load(yaml_str)"
   ]
  },
  {
   "cell_type": "markdown",
   "id": "b0af9c70-8eac-40e9-9073-96e5307a4b00",
   "metadata": {},
   "source": [
    "Note that there should be a space between `<key>` and `<value>`. Here, for comparison, is a correctly created dictionary under the key `postgres` and a dictionary under the key `clickhouse` which was created incorrectly."
   ]
  }
 ],
 "metadata": {
  "kernelspec": {
   "display_name": "Python 3 (ipykernel)",
   "language": "python",
   "name": "python3"
  },
  "language_info": {
   "codemirror_mode": {
    "name": "ipython",
    "version": 3
   },
   "file_extension": ".py",
   "mimetype": "text/x-python",
   "name": "python",
   "nbconvert_exporter": "python",
   "pygments_lexer": "ipython3",
   "version": "3.10.6"
  }
 },
 "nbformat": 4,
 "nbformat_minor": 5
}
