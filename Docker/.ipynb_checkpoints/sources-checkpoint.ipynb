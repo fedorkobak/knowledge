{
 "cells": [
  {
   "cell_type": "markdown",
   "id": "be28e466-3342-43fd-bf55-2e5a4c7f337c",
   "metadata": {},
   "source": [
    "# Sources"
   ]
  },
  {
   "cell_type": "markdown",
   "id": "29da4a83-fdf8-4570-927e-735fada25ea9",
   "metadata": {},
   "source": [
    "This is where I put useful information about Docker. If any sources are mentioned in later sections, you should find them here.\n",
    "\n",
    "1. <a href=\"https://docs.docker.com/engine/install/\">Docker instalation</a>;\n",
    "2. <a href=\"https://docs.docker.com/engine/install/linux-postinstall/\"> May be useful after installing</a>;\n",
    "    - How not to always put `sudo` before the `docker` command;\n",
    "    - Something still incomprehensible..\n",
    "3. <a href=\"https://docs.docker.com/config/daemon/start/\"> Start daemon </a> `sudo systemctl start docker`;\n",
    "4. <a href=\"https://lab.karpov.courses/learning/102/\"> Docker cource by karpovcources</a>."
   ]
  }
 ],
 "metadata": {
  "kernelspec": {
   "display_name": "Python 3 (ipykernel)",
   "language": "python",
   "name": "python3"
  },
  "language_info": {
   "codemirror_mode": {
    "name": "ipython",
    "version": 3
   },
   "file_extension": ".py",
   "mimetype": "text/x-python",
   "name": "python",
   "nbconvert_exporter": "python",
   "pygments_lexer": "ipython3",
   "version": "3.10.6"
  }
 },
 "nbformat": 4,
 "nbformat_minor": 5
}
