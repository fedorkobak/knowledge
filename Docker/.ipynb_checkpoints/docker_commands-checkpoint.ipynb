{
 "cells": [
  {
   "cell_type": "markdown",
   "id": "0ec91121-5e30-4be3-ab21-f0e092d0ccfe",
   "metadata": {},
   "source": [
    "# Docker commands"
   ]
  },
  {
   "cell_type": "markdown",
   "id": "4ff831af-55b6-4a41-adb5-1aeb166a95b9",
   "metadata": {},
   "source": [
    "## Working with containers"
   ]
  },
  {
   "cell_type": "markdown",
   "id": "5ab6cdbe-5a87-4a2d-a9e8-6ac6269c882f",
   "metadata": {},
   "source": [
    "### `docker ps` - show containers"
   ]
  },
  {
   "cell_type": "code",
   "execution_count": 4,
   "id": "12077438-9b0f-42de-807f-060837baa994",
   "metadata": {},
   "outputs": [
    {
     "name": "stdout",
     "output_type": "stream",
     "text": [
      "CONTAINER ID   IMAGE         COMMAND     CREATED        STATUS                  PORTS     NAMES\n",
      "b17984f2b882   python:3.10   \"python3\"   1 second ago   Up Less than a second             test_container\n"
     ]
    }
   ],
   "source": [
    "%%bash\n",
    "docker run -itd --rm --name test_container python:3.10 &> /dev/null\n",
    "docker ps\n",
    "docker stop test_container &> /dev/null"
   ]
  },
  {
   "cell_type": "markdown",
   "id": "fcb3e53a-6777-44da-a692-e39db96e04cf",
   "metadata": {},
   "source": [
    "##### `-a` show all containers\n",
    "\n",
    "By default, inactive containers are hidden."
   ]
  },
  {
   "cell_type": "code",
   "execution_count": 8,
   "id": "b1ac1a2f-fd39-42d4-9891-04c6bd7c3f3d",
   "metadata": {},
   "outputs": [
    {
     "name": "stdout",
     "output_type": "stream",
     "text": [
      "========no option -a==============\n",
      "CONTAINER ID   IMAGE     COMMAND   CREATED   STATUS    PORTS     NAMES\n",
      "=========with option -a=============\n",
      "CONTAINER ID   IMAGE     COMMAND       CREATED                  STATUS                              PORTS     NAMES\n",
      "ad0439c23847   ubuntu    \"/bin/bash\"   Less than a second ago   Exited (0) Less than a second ago             temp_container\n"
     ]
    }
   ],
   "source": [
    "%%bash\n",
    "docker run --name temp_container ubuntu &> /dev/null\n",
    "echo \"========no option -a==============\"\n",
    "docker ps\n",
    "echo \"=========with option -a=============\"\n",
    "docker ps -a\n",
    "docker rm temp_container &> /dev/null"
   ]
  },
  {
   "cell_type": "markdown",
   "id": "3ca3bd94-21cb-4cf7-bc4d-b90da5cd9a39",
   "metadata": {},
   "source": [
    "### `docker history` - show layers of the package"
   ]
  },
  {
   "cell_type": "markdown",
   "id": "120015f9-a041-49da-b794-128f6642f89f",
   "metadata": {},
   "source": [
    "### `docker run` - create the container from image"
   ]
  },
  {
   "cell_type": "code",
   "execution_count": 9,
   "id": "d345b8bc-f6db-4827-907c-e00144da5ef4",
   "metadata": {},
   "outputs": [
    {
     "name": "stdout",
     "output_type": "stream",
     "text": [
      "================before start=====================\n",
      "CONTAINER ID   IMAGE     COMMAND   CREATED   STATUS    PORTS     NAMES\n",
      "===============after start======================\n",
      "CONTAINER ID   IMAGE     COMMAND       CREATED        STATUS                              PORTS     NAMES\n",
      "cd0f144063c5   ubuntu    \"/bin/bash\"   1 second ago   Exited (0) Less than a second ago             temp_container\n",
      "temp_container\n"
     ]
    }
   ],
   "source": [
    "%%bash\n",
    "echo \"================before start=====================\"\n",
    "docker ps -a\n",
    "echo \"===============after start======================\"\n",
    "docker run --name temp_container ubuntu &> /dev/null\n",
    "docker ps -a\n",
    "docker rm temp_container"
   ]
  },
  {
   "cell_type": "markdown",
   "id": "67299ce3-86ec-49a0-9658-1d88208c71be",
   "metadata": {},
   "source": [
    "##### `-rm` - automatic container removal\n",
    "\n",
    "After stopping, the container is removed. In the following example there are two containers of ubuntu, one with the `--rm` option and the other without. Both containers stops by default - but only one stays with `STATUS == Exited`."
   ]
  },
  {
   "cell_type": "code",
   "execution_count": 12,
   "id": "4f4a00ec-b424-4da7-8766-ee64cf2ba525",
   "metadata": {},
   "outputs": [
    {
     "name": "stdout",
     "output_type": "stream",
     "text": [
      "CONTAINER ID   IMAGE     COMMAND       CREATED        STATUS                              PORTS     NAMES\n",
      "7acc3cc0c61c   ubuntu    \"/bin/bash\"   1 second ago   Exited (0) Less than a second ago             no_rm_ubuntu\n"
     ]
    }
   ],
   "source": [
    "%%bash\n",
    "docker run --name no_rm_ubuntu ubuntu\n",
    "docker run --rm --name ubuntu_with_rm ubuntu\n",
    "docker ps -a\n",
    "docker rm no_rm_ubuntu &> /dev/null"
   ]
  },
  {
   "cell_type": "markdown",
   "id": "4d474796-22dc-433d-bc52-7c72c8fff322",
   "metadata": {},
   "source": [
    "##### `--name` - set name for the container"
   ]
  },
  {
   "cell_type": "code",
   "execution_count": 2,
   "id": "4baa401d-8320-417e-856d-475fd55fa6e0",
   "metadata": {},
   "outputs": [
    {
     "name": "stdout",
     "output_type": "stream",
     "text": [
      "7116dcdaa0a131a8507f9cbe149719498456fe356a23f1ddfc48f65080cfe660\n",
      "CONTAINER ID   IMAGE     COMMAND       CREATED        STATUS                  PORTS     NAMES\n",
      "7116dcdaa0a1   ubuntu    \"/bin/bash\"   1 second ago   Up Less than a second             unbuntu_container\n",
      "unbuntu_container\n"
     ]
    }
   ],
   "source": [
    "%%bash\n",
    "docker run --rm --name unbuntu_container -d ubuntu\n",
    "docker ps\n",
    "docker stop unbuntu_container"
   ]
  },
  {
   "cell_type": "markdown",
   "id": "7dd11af3-beff-4286-9bae-14d7f50d4da1",
   "metadata": {},
   "source": [
    "##### `-d` - make container not to lock CLI"
   ]
  },
  {
   "cell_type": "code",
   "execution_count": 15,
   "id": "809a82ec-4345-4ebd-a1d7-5ccf353ca953",
   "metadata": {},
   "outputs": [
    {
     "name": "stdout",
     "output_type": "stream",
     "text": [
      "CONTAINER ID   IMAGE     COMMAND                  CREATED                  STATUS                  PORTS     NAMES\n",
      "09175cb8c6d9   nginx     \"/docker-entrypoint.…\"   Less than a second ago   Up Less than a second   80/tcp    temp_nginx\n"
     ]
    }
   ],
   "source": [
    "%%bash\n",
    "docker run --rm -d --name temp_nginx nginx &> /dev/null\n",
    "docker ps\n",
    "docker stop temp_nginx &> /dev/null"
   ]
  },
  {
   "cell_type": "markdown",
   "id": "b8e6c037-59a1-45d0-9e50-4251b9f7cee6",
   "metadata": {},
   "source": [
    "##### `-i` - interactive mode\n",
    "\n",
    "Mode that allows to interapt with container.\n",
    "\n",
    "Unfortunately it is not possible to show how this mode will work in jupyter. So here is a gif of me experimenting with the following command:\n",
    "\n",
    "`docker run -i --rm --name test_ubuntu ubuntu`\n",
    "\n",
    "<img src=\"containers_files/docker -i option.gif\"></img>\n",
    "\n",
    "In the example, the ubuntu container has been started and is stopped by default. The `-i` option causes it to lock the terminal. Extremely interesting that you will be able to send messages to the container and get results (as I showed with `ls` and `exit` commands), but you won't get the description of the user common for Linux terminal."
   ]
  },
  {
   "cell_type": "markdown",
   "id": "204e9961-e075-428e-81a6-87ed4363014d",
   "metadata": {},
   "source": [
    "##### `-t` turn on TTY\n",
    "\n",
    "TTY is something on backend language. The point here is that in combination with the `-i` option you can make will show you the \"description\" of the user which was mentioned in the previous section. And the terminal will be blocked waiting for input. But this option don't allow you to send anything to the container.\n",
    "\n",
    "The following `.gif` show what you will get in case using command `docker run -t --rm --name temp_ubuntu ubuntu`.\n",
    "\n",
    "<img src=\"containers_files/docker -t option.gif\"></img>"
   ]
  },
  {
   "cell_type": "markdown",
   "id": "f493840d-f656-4b6c-9b7b-20362e4ca5f8",
   "metadata": {},
   "source": [
    "##### `-it` - combination\n",
    "\n",
    "Both options were discovered above, but they are really often used in combination. So Ubuntu provides full CLI interface with this options.\n",
    "\n",
    "<img src=\"containers_files/docker -it option.png\"></img>"
   ]
  },
  {
   "cell_type": "markdown",
   "id": "9e263fe2-0f75-42fd-8e74-105c7f5f5df5",
   "metadata": {},
   "source": [
    "##### `-e` - environment variables"
   ]
  },
  {
   "cell_type": "code",
   "execution_count": 1,
   "id": "51e18761-e16d-40fb-b390-d8a671d7ef80",
   "metadata": {},
   "outputs": [
    {
     "name": "stdout",
     "output_type": "stream",
     "text": [
      "value\n"
     ]
    }
   ],
   "source": [
    "%%bash\n",
    "docker run --rm -itd --name e_example -e TEST_VAR=\"value\" ubuntu &> /dev/null\n",
    "docker exec e_example bash -c \"echo \\$TEST_VAR\"\n",
    "docker stop e_example &> /dev/null"
   ]
  },
  {
   "cell_type": "markdown",
   "id": "ee04dc79-7584-4a18-b53a-ad3491fd6751",
   "metadata": {},
   "source": [
    "You can also pass the values of the variables of the system you are calling from."
   ]
  },
  {
   "cell_type": "code",
   "execution_count": 3,
   "id": "99ab2443-e53a-4881-803b-b796f60f4607",
   "metadata": {},
   "outputs": [
    {
     "name": "stdout",
     "output_type": "stream",
     "text": [
      "/home/fedor\n"
     ]
    }
   ],
   "source": [
    "%%bash\n",
    "docker run --rm -itd --name e_example -e FEDOR_TEST_VAR=$HOME ubuntu &> /dev/null\n",
    "docker exec e_example bash -c \"echo \\$FEDOR_TEST_VAR\"\n",
    "docker stop e_example &> /dev/null"
   ]
  },
  {
   "cell_type": "markdown",
   "id": "5d8323e9-42ff-4e2f-a249-fafefb097546",
   "metadata": {
    "jp-MarkdownHeadingCollapsed": true
   },
   "source": [
    "### `docker start` - activate exited container\n",
    "\n",
    "In the next cell, I build a ubuntu container that prints \"hello world\" when it starts. Like all standard ubuntu containers it quits, which we can see in the `STATUS` of the `ps` command. Then by `docker start` the container is reactivated.\n",
    "\n",
    "For some reason it only works when I use the `-i` option for `docker start`."
   ]
  },
  {
   "cell_type": "code",
   "execution_count": 16,
   "id": "5da70458-4fe3-45a4-bedd-56ddb7e27c9a",
   "metadata": {},
   "outputs": [
    {
     "name": "stdout",
     "output_type": "stream",
     "text": [
      "=====First start=====\n",
      "hello world\n",
      "=====List of all containers=====\n",
      "CONTAINER ID   IMAGE         COMMAND                CREATED        STATUS                              PORTS     NAMES\n",
      "af533b577c94   test_ubuntu   \"echo 'hello world'\"   1 second ago   Exited (0) Less than a second ago             u1\n",
      "=====Restart=====\n",
      "hello world\n"
     ]
    }
   ],
   "source": [
    "%%bash\n",
    "cd containers_files\n",
    "docker build -t test_ubuntu . &> /dev/null\n",
    "echo \"=====First start=====\"\n",
    "docker run --name u1 test_ubuntu\n",
    "echo \"=====List of all containers=====\"\n",
    "docker ps -a\n",
    "echo \"=====Restart=====\"\n",
    "docker start -i u1\n",
    "docker rm u1 &> /dev/null\n",
    "docker rmi test_ubuntu &> /dev/null"
   ]
  },
  {
   "cell_type": "markdown",
   "id": "eae6be8a-40b8-4509-843d-e954c9be0dfd",
   "metadata": {},
   "source": [
    "### `docker stop` - stop some container\n",
    "\n",
    "In the following example, I start a container with Ubuntu in such a way that it stays running, which was proven by using `docker ps`. But after using `docker stop` the same container is in the state \"Exited\"."
   ]
  },
  {
   "cell_type": "code",
   "execution_count": 20,
   "id": "df091409-f883-4d2f-b1a5-2309de631b4d",
   "metadata": {},
   "outputs": [
    {
     "name": "stdout",
     "output_type": "stream",
     "text": [
      "=====Just started container=====\n",
      "CONTAINER ID   IMAGE     COMMAND       CREATED                  STATUS                  PORTS     NAMES\n",
      "e175ae336dcb   ubuntu    \"/bin/bash\"   Less than a second ago   Up Less than a second             test_ubuntu\n",
      "=====Stoped container (STATUS \"Exited\")=====\n",
      "CONTAINER ID   IMAGE     COMMAND       CREATED          STATUS                                PORTS     NAMES\n",
      "e175ae336dcb   ubuntu    \"/bin/bash\"   10 seconds ago   Exited (137) Less than a second ago             test_ubuntu\n"
     ]
    }
   ],
   "source": [
    "%%bash\n",
    "docker run -itd --name test_ubuntu ubuntu &> /dev/null\n",
    "echo \"=====Just started container=====\"\n",
    "docker ps -a\n",
    "docker stop test_ubuntu &> /dev/null\n",
    "echo \"=====Stoped container (STATUS \\\"Exited\\\")=====\"\n",
    "docker ps -a\n",
    "docker rm test_ubuntu &> /dev/null"
   ]
  },
  {
   "cell_type": "markdown",
   "id": "de516173-b0a6-4954-bb7a-5ba6f8a4c4e7",
   "metadata": {},
   "source": [
    "### `docker exec` - run a command in the container\n",
    "\n",
    "In the next command I start ubuntu conteiner. Then using `docker exec' I run the `ls' command in the container and get a typical Linux result for that command."
   ]
  },
  {
   "cell_type": "code",
   "execution_count": 24,
   "id": "6e92ae14-db29-4b6e-89b6-9c8c0c4be904",
   "metadata": {},
   "outputs": [
    {
     "name": "stdout",
     "output_type": "stream",
     "text": [
      "bin\n",
      "boot\n",
      "dev\n",
      "etc\n",
      "home\n",
      "lib\n",
      "lib32\n",
      "lib64\n",
      "libx32\n",
      "media\n",
      "mnt\n",
      "opt\n",
      "proc\n",
      "root\n",
      "run\n",
      "sbin\n",
      "srv\n",
      "sys\n",
      "tmp\n",
      "usr\n",
      "var\n"
     ]
    }
   ],
   "source": [
    "%%bash\n",
    "docker run -itd --rm --name test_ubuntu ubuntu &> /dev/null\n",
    "docker exec test_ubuntu ls\n",
    "docker stop test_ubuntu &> /dev/null"
   ]
  },
  {
   "cell_type": "markdown",
   "id": "e45dbef9-de2a-41d8-a693-468631e67861",
   "metadata": {
    "jp-MarkdownHeadingCollapsed": true
   },
   "source": [
    "##### `-it` - take control of the container\n",
    "\n",
    "It looks like the options individually have the same properties as in the `docker run` command. But the important thing is that you can take control of the detached container with this command.<br> \n",
    "The following example shows how I can get control in detached ubuntu by running the `bash` command with named options.\n",
    "\n",
    "<img src=\"containers_files/docker exec -it.gif\"></img>"
   ]
  },
  {
   "cell_type": "markdown",
   "id": "0b5ce7c8-26b3-4815-8651-efcb112e7ab5",
   "metadata": {},
   "source": [
    "## Working with images"
   ]
  },
  {
   "cell_type": "markdown",
   "id": "c9687660-fb9d-4f8b-bd5f-47a97da6a210",
   "metadata": {},
   "source": [
    "### `docker pull` - download image from dockerhub.com\n",
    "\n",
    "It is obligatory to pass on one of the:\n",
    "\n",
    "- `<image name>:<tag>` (`<tag>` - by default is `latest`);\n",
    "- `IMAGE ID` - image id."
   ]
  },
  {
   "cell_type": "code",
   "execution_count": 6,
   "id": "443cf2ac-ae05-4052-be1a-a72cf7294035",
   "metadata": {},
   "outputs": [
    {
     "name": "stdout",
     "output_type": "stream",
     "text": [
      "===============beforre pull======================\n",
      "===============after pull======================\n",
      "hello-world                latest    9c7a54a9a43c   2 weeks ago     13.3kB\n"
     ]
    }
   ],
   "source": [
    "%%bash\n",
    "docker images | grep hello-world\n",
    "echo \"===============beforre pull======================\"\n",
    "docker pull hello-world:latest &> /dev/null\n",
    "echo \"===============after pull======================\"\n",
    "docker images | grep hello-world\n",
    "docker rmi hello-world &> /dev/null"
   ]
  },
  {
   "cell_type": "markdown",
   "id": "c88b0a5e-6fbe-406e-8e61-d887b1b24f7b",
   "metadata": {},
   "source": [
    "### `docker images` - show list of available images;"
   ]
  },
  {
   "cell_type": "code",
   "execution_count": 31,
   "id": "4c612ee0-d3aa-4cc9-b8ce-661ce655d8ac",
   "metadata": {},
   "outputs": [
    {
     "name": "stdout",
     "output_type": "stream",
     "text": [
      "REPOSITORY    TAG       IMAGE ID       CREATED         SIZE\n",
      "hello-world   latest    feb5d9fea6a5   16 months ago   13.3kB\n"
     ]
    }
   ],
   "source": [
    "%%bash\n",
    "docker images"
   ]
  },
  {
   "cell_type": "markdown",
   "id": "7ab8cc67-042c-4f01-ae57-46cf4c83474e",
   "metadata": {},
   "source": [
    "##### `--a`,`--all` - show all images;\n",
    "\n",
    "By default, so called \"intermediate\", images are hiden. Nowadays I don't know what \"intermediate\" images are."
   ]
  },
  {
   "cell_type": "code",
   "execution_count": 32,
   "id": "35849400-4c15-46f9-90df-50513dcfb3e9",
   "metadata": {},
   "outputs": [
    {
     "name": "stdout",
     "output_type": "stream",
     "text": [
      "REPOSITORY    TAG       IMAGE ID       CREATED         SIZE\n",
      "hello-world   latest    feb5d9fea6a5   16 months ago   13.3kB\n"
     ]
    }
   ],
   "source": [
    "%%bash\n",
    "docker images --all"
   ]
  },
  {
   "cell_type": "markdown",
   "id": "19bcd19b-caea-496a-aa3e-a7e23a995549",
   "metadata": {},
   "source": [
    "##### `--digests` - show digests;"
   ]
  },
  {
   "cell_type": "code",
   "execution_count": 33,
   "id": "f9c184e8-84e6-4116-95f2-16c0d7174986",
   "metadata": {},
   "outputs": [
    {
     "name": "stdout",
     "output_type": "stream",
     "text": [
      "REPOSITORY    TAG       DIGEST                                                                    IMAGE ID       CREATED         SIZE\n",
      "hello-world   latest    sha256:aa0cc8055b82dc2509bed2e19b275c8f463506616377219d9642221ab53cf9fe   feb5d9fea6a5   16 months ago   13.3kB\n"
     ]
    }
   ],
   "source": [
    "%%bash\n",
    "docker images --digests"
   ]
  },
  {
   "cell_type": "markdown",
   "id": "9e6d0cc4-974a-402a-877f-1a24deed3a81",
   "metadata": {},
   "source": [
    "##### `--format` - format output;\n",
    "\n",
    "Allows output to be formatted using GO templates."
   ]
  },
  {
   "cell_type": "code",
   "execution_count": 34,
   "id": "2731b003-9962-4618-8db7-2103ff5bc6b8",
   "metadata": {},
   "outputs": [
    {
     "name": "stdout",
     "output_type": "stream",
     "text": [
      "hello-world:latest\n"
     ]
    }
   ],
   "source": [
    "%%bash\n",
    "docker images --format '{{.Repository}}:{{.Tag}}'"
   ]
  },
  {
   "cell_type": "markdown",
   "id": "308682c6-43f1-4f91-bf29-16377fc52f12",
   "metadata": {},
   "source": [
    "##### `--no-trunc` - full output;"
   ]
  },
  {
   "cell_type": "code",
   "execution_count": 35,
   "id": "fdc405db-dcb4-4dd7-bdce-1399914446f2",
   "metadata": {},
   "outputs": [
    {
     "name": "stdout",
     "output_type": "stream",
     "text": [
      "REPOSITORY    TAG       IMAGE ID                                                                  CREATED         SIZE\n",
      "hello-world   latest    sha256:feb5d9fea6a5e9606aa995e879d862b825965ba48de054caab5ef356dc6b3412   16 months ago   13.3kB\n"
     ]
    }
   ],
   "source": [
    "%%bash\n",
    "docker images --no-trunc"
   ]
  },
  {
   "cell_type": "markdown",
   "id": "fcda0670-fd4c-4d8f-9dd3-35c58cd6d5d1",
   "metadata": {},
   "source": [
    "##### `-q`, `--quiet` - print only images ids."
   ]
  },
  {
   "cell_type": "code",
   "execution_count": 36,
   "id": "954d0cef-397c-456c-95f2-dec249696826",
   "metadata": {},
   "outputs": [
    {
     "name": "stdout",
     "output_type": "stream",
     "text": [
      "feb5d9fea6a5\n"
     ]
    }
   ],
   "source": [
    "%%bash\n",
    "docker images -q"
   ]
  },
  {
   "cell_type": "markdown",
   "id": "83f1598a-22f5-46aa-be84-74ed29bd4450",
   "metadata": {},
   "source": [
    "### `docker rmi` - delete images;\n",
    "\n",
    "It is obligatory to pass on one of the:\n",
    "\n",
    "- `<image name>:<tag>` (`<tag>` - by default is `latest`);\n",
    "- `IMAGE ID` - image id."
   ]
  },
  {
   "cell_type": "code",
   "execution_count": 39,
   "id": "207fac00-bfc8-4968-b283-e7f5137fc5b8",
   "metadata": {},
   "outputs": [
    {
     "name": "stdout",
     "output_type": "stream",
     "text": [
      "REPOSITORY    TAG       IMAGE ID       CREATED         SIZE\n",
      "hello-world   latest    feb5d9fea6a5   16 months ago   13.3kB\n",
      "===========================\n",
      "Untagged: hello-world:latest\n",
      "Untagged: hello-world@sha256:aa0cc8055b82dc2509bed2e19b275c8f463506616377219d9642221ab53cf9fe\n",
      "Deleted: sha256:feb5d9fea6a5e9606aa995e879d862b825965ba48de054caab5ef356dc6b3412\n",
      "Deleted: sha256:e07ee1baac5fae6a26f30cabfe54a36d3402f96afda318fe0a96cec4ca393359\n",
      "===========================\n",
      "REPOSITORY   TAG       IMAGE ID   CREATED   SIZE\n"
     ]
    }
   ],
   "source": [
    "%%bash\n",
    "docker images\n",
    "echo \"===========================\"\n",
    "docker rmi hello-world:latest\n",
    "echo \"===========================\"\n",
    "docker images"
   ]
  }
 ],
 "metadata": {
  "kernelspec": {
   "display_name": "Python 3 (ipykernel)",
   "language": "python",
   "name": "python3"
  },
  "language_info": {
   "codemirror_mode": {
    "name": "ipython",
    "version": 3
   },
   "file_extension": ".py",
   "mimetype": "text/x-python",
   "name": "python",
   "nbconvert_exporter": "python",
   "pygments_lexer": "ipython3",
   "version": "3.10.6"
  }
 },
 "nbformat": 4,
 "nbformat_minor": 5
}
