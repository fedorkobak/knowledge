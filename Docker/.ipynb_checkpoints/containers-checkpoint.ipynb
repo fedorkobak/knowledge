{
 "cells": [
  {
   "cell_type": "markdown",
   "id": "4169e98f-0db6-443e-b046-31f16915efb0",
   "metadata": {},
   "source": [
    "# Working with containers\n",
    "\n",
    "Here I will show some of the operations associated with docker containers."
   ]
  },
  {
   "cell_type": "markdown",
   "id": "668c6615-d8ac-4ef4-aaac-79b2c2ada51a",
   "metadata": {
    "jp-MarkdownHeadingCollapsed": true
   },
   "source": [
    "### `docker ps` - show containers"
   ]
  },
  {
   "cell_type": "code",
   "execution_count": 4,
   "id": "51a17c60-f6d6-4d77-be08-bcebe63603d4",
   "metadata": {},
   "outputs": [
    {
     "name": "stdout",
     "output_type": "stream",
     "text": [
      "CONTAINER ID   IMAGE         COMMAND     CREATED        STATUS                  PORTS     NAMES\n",
      "b17984f2b882   python:3.10   \"python3\"   1 second ago   Up Less than a second             test_container\n"
     ]
    }
   ],
   "source": [
    "%%bash\n",
    "docker run -itd --rm --name test_container python:3.10 &> /dev/null\n",
    "docker ps\n",
    "docker stop test_container &> /dev/null"
   ]
  },
  {
   "cell_type": "markdown",
   "id": "829e0735-529e-480a-816b-8e86eb130524",
   "metadata": {},
   "source": [
    "##### `-a` show all containers\n",
    "\n",
    "By default, inactive containers are hidden."
   ]
  },
  {
   "cell_type": "code",
   "execution_count": 8,
   "id": "c3dd30aa-4133-4c1f-8457-705148d3fa1e",
   "metadata": {},
   "outputs": [
    {
     "name": "stdout",
     "output_type": "stream",
     "text": [
      "========no option -a==============\n",
      "CONTAINER ID   IMAGE     COMMAND   CREATED   STATUS    PORTS     NAMES\n",
      "=========with option -a=============\n",
      "CONTAINER ID   IMAGE     COMMAND       CREATED                  STATUS                              PORTS     NAMES\n",
      "ad0439c23847   ubuntu    \"/bin/bash\"   Less than a second ago   Exited (0) Less than a second ago             temp_container\n"
     ]
    }
   ],
   "source": [
    "%%bash\n",
    "docker run --name temp_container ubuntu &> /dev/null\n",
    "echo \"========no option -a==============\"\n",
    "docker ps\n",
    "echo \"=========with option -a=============\"\n",
    "docker ps -a\n",
    "docker rm temp_container &> /dev/null"
   ]
  },
  {
   "cell_type": "markdown",
   "id": "8d74af3a-2454-489d-9bfa-441d31496579",
   "metadata": {},
   "source": [
    "### `docker history` - show layers of the package"
   ]
  },
  {
   "cell_type": "markdown",
   "id": "fdfdb94f-a211-4eae-8011-de134ceaab23",
   "metadata": {},
   "source": [
    "### `docker run` - create the container from image"
   ]
  },
  {
   "cell_type": "code",
   "execution_count": 9,
   "id": "ae14a52a-ef87-4501-8fcc-a01d28317d8b",
   "metadata": {},
   "outputs": [
    {
     "name": "stdout",
     "output_type": "stream",
     "text": [
      "================before start=====================\n",
      "CONTAINER ID   IMAGE     COMMAND   CREATED   STATUS    PORTS     NAMES\n",
      "===============after start======================\n",
      "CONTAINER ID   IMAGE     COMMAND       CREATED        STATUS                              PORTS     NAMES\n",
      "cd0f144063c5   ubuntu    \"/bin/bash\"   1 second ago   Exited (0) Less than a second ago             temp_container\n",
      "temp_container\n"
     ]
    }
   ],
   "source": [
    "%%bash\n",
    "echo \"================before start=====================\"\n",
    "docker ps -a\n",
    "echo \"===============after start======================\"\n",
    "docker run --name temp_container ubuntu &> /dev/null\n",
    "docker ps -a\n",
    "docker rm temp_container"
   ]
  },
  {
   "cell_type": "markdown",
   "id": "efd7ef43-0d4e-4a00-a858-6cc725367785",
   "metadata": {},
   "source": [
    "##### `-rm` - automatic container removal\n",
    "\n",
    "After stopping, the container is removed. In the following example there are two containers of ubuntu, one with the `--rm` option and the other without. Both containers stops by default - but only one stays with `STATUS == Exited`."
   ]
  },
  {
   "cell_type": "code",
   "execution_count": 12,
   "id": "c9248fdd-7ead-4377-af1e-fc4edb9543c0",
   "metadata": {},
   "outputs": [
    {
     "name": "stdout",
     "output_type": "stream",
     "text": [
      "CONTAINER ID   IMAGE     COMMAND       CREATED        STATUS                              PORTS     NAMES\n",
      "7acc3cc0c61c   ubuntu    \"/bin/bash\"   1 second ago   Exited (0) Less than a second ago             no_rm_ubuntu\n"
     ]
    }
   ],
   "source": [
    "%%bash\n",
    "docker run --name no_rm_ubuntu ubuntu\n",
    "docker run --rm --name ubuntu_with_rm ubuntu\n",
    "docker ps -a\n",
    "docker rm no_rm_ubuntu &> /dev/null"
   ]
  },
  {
   "cell_type": "markdown",
   "id": "d9626964-ad27-43c1-92a9-b9d6d1e75b31",
   "metadata": {},
   "source": [
    "##### `--name` - set name for the container"
   ]
  },
  {
   "cell_type": "code",
   "execution_count": 2,
   "id": "004733ce-dd85-4d5d-8a31-467b4eacfd34",
   "metadata": {},
   "outputs": [
    {
     "name": "stdout",
     "output_type": "stream",
     "text": [
      "7116dcdaa0a131a8507f9cbe149719498456fe356a23f1ddfc48f65080cfe660\n",
      "CONTAINER ID   IMAGE     COMMAND       CREATED        STATUS                  PORTS     NAMES\n",
      "7116dcdaa0a1   ubuntu    \"/bin/bash\"   1 second ago   Up Less than a second             unbuntu_container\n",
      "unbuntu_container\n"
     ]
    }
   ],
   "source": [
    "%%bash\n",
    "docker run --rm --name unbuntu_container -d ubuntu\n",
    "docker ps\n",
    "docker stop unbuntu_container"
   ]
  },
  {
   "cell_type": "markdown",
   "id": "33b16645-bba9-4d07-9bc1-ae5b873a7fdf",
   "metadata": {},
   "source": [
    "##### `-d` - make container not to lock CLI"
   ]
  },
  {
   "cell_type": "code",
   "execution_count": 15,
   "id": "f56601c6-240f-4960-a999-45970db37361",
   "metadata": {},
   "outputs": [
    {
     "name": "stdout",
     "output_type": "stream",
     "text": [
      "CONTAINER ID   IMAGE     COMMAND                  CREATED                  STATUS                  PORTS     NAMES\n",
      "09175cb8c6d9   nginx     \"/docker-entrypoint.…\"   Less than a second ago   Up Less than a second   80/tcp    temp_nginx\n"
     ]
    }
   ],
   "source": [
    "%%bash\n",
    "docker run --rm -d --name temp_nginx nginx &> /dev/null\n",
    "docker ps\n",
    "docker stop temp_nginx &> /dev/null"
   ]
  },
  {
   "cell_type": "markdown",
   "id": "2c454438-d997-4f6f-afb3-490b8ecb44d6",
   "metadata": {},
   "source": [
    "##### `-i` - interactive mode\n",
    "\n",
    "Mode that allows to interapt with container.\n",
    "\n",
    "Unfortunately it is not possible to show how this mode will work in jupyter. So here is a gif of me experimenting with the following command:\n",
    "\n",
    "`docker run -i --rm --name test_ubuntu ubuntu`\n",
    "\n",
    "<img src=\"containers_files/docker -i option.gif\"></img>\n",
    "\n",
    "In the example, the ubuntu container has been started and is stopped by default. The `-i` option causes it to lock the terminal. Extremely interesting that you will be able to send messages to the container and get results (as I showed with `ls` and `exit` commands), but you won't get the description of the user common for Linux terminal."
   ]
  },
  {
   "cell_type": "markdown",
   "id": "72ec2cd5-5368-41ac-bd04-25858aff85a9",
   "metadata": {},
   "source": [
    "##### `-t` turn on TTY\n",
    "\n",
    "TTY is something on backend language. The point here is that in combination with the `-i` option you can make will show you the \"description\" of the user which was mentioned in the previous section. And the terminal will be blocked waiting for input. But this option don't allow you to send anything to the container.\n",
    "\n",
    "The following `.gif` show what you will get in case using command `docker run -t --rm --name temp_ubuntu ubuntu`.\n",
    "\n",
    "<img src=\"containers_files/docker -t option.gif\"></img>"
   ]
  },
  {
   "cell_type": "markdown",
   "id": "b06cad0c-cee6-4d85-bb71-91109abc652e",
   "metadata": {},
   "source": [
    "##### `-it` - combination\n",
    "\n",
    "Both options were discovered above, but they are really often used in combination. So Ubuntu provides full CLI interface with this options.\n",
    "\n",
    "<img src=\"containers_files/docker -it option.png\"></img>"
   ]
  },
  {
   "cell_type": "markdown",
   "id": "70177bc9-da83-4dd2-a311-29efafbeb1ef",
   "metadata": {},
   "source": [
    "##### `-e` - environment variables"
   ]
  },
  {
   "cell_type": "code",
   "execution_count": 1,
   "id": "40ffaf10-251b-427b-a10c-a83e932bdd00",
   "metadata": {},
   "outputs": [
    {
     "name": "stdout",
     "output_type": "stream",
     "text": [
      "value\n"
     ]
    }
   ],
   "source": [
    "%%bash\n",
    "docker run --rm -itd --name e_example -e TEST_VAR=\"value\" ubuntu &> /dev/null\n",
    "docker exec e_example bash -c \"echo \\$TEST_VAR\"\n",
    "docker stop e_example &> /dev/null"
   ]
  },
  {
   "cell_type": "markdown",
   "id": "37e3a31a-d101-479c-8d1b-d60cd5368746",
   "metadata": {},
   "source": [
    "You can also pass the values of the variables of the system you are calling from."
   ]
  },
  {
   "cell_type": "code",
   "execution_count": 3,
   "id": "23daef70-a67f-4d72-bf4b-3bb8effc3657",
   "metadata": {},
   "outputs": [
    {
     "name": "stdout",
     "output_type": "stream",
     "text": [
      "/home/fedor\n"
     ]
    }
   ],
   "source": [
    "%%bash\n",
    "docker run --rm -itd --name e_example -e FEDOR_TEST_VAR=$HOME ubuntu &> /dev/null\n",
    "docker exec e_example bash -c \"echo \\$FEDOR_TEST_VAR\"\n",
    "docker stop e_example &> /dev/null"
   ]
  },
  {
   "cell_type": "markdown",
   "id": "7c7c99e3-d1cd-4a6e-8d6a-38be30fa53fd",
   "metadata": {
    "jp-MarkdownHeadingCollapsed": true
   },
   "source": [
    "### `docker start` - activate exited container\n",
    "\n",
    "In the next cell, I build a ubuntu container that prints \"hello world\" when it starts. Like all standard ubuntu containers it quits, which we can see in the `STATUS` of the `ps` command. Then by `docker start` the container is reactivated.\n",
    "\n",
    "For some reason it only works when I use the `-i` option for `docker start`."
   ]
  },
  {
   "cell_type": "code",
   "execution_count": 16,
   "id": "35ad2811-c972-49fa-9108-bb1ac3374ace",
   "metadata": {},
   "outputs": [
    {
     "name": "stdout",
     "output_type": "stream",
     "text": [
      "=====First start=====\n",
      "hello world\n",
      "=====List of all containers=====\n",
      "CONTAINER ID   IMAGE         COMMAND                CREATED        STATUS                              PORTS     NAMES\n",
      "af533b577c94   test_ubuntu   \"echo 'hello world'\"   1 second ago   Exited (0) Less than a second ago             u1\n",
      "=====Restart=====\n",
      "hello world\n"
     ]
    }
   ],
   "source": [
    "%%bash\n",
    "cd containers_files\n",
    "docker build -t test_ubuntu . &> /dev/null\n",
    "echo \"=====First start=====\"\n",
    "docker run --name u1 test_ubuntu\n",
    "echo \"=====List of all containers=====\"\n",
    "docker ps -a\n",
    "echo \"=====Restart=====\"\n",
    "docker start -i u1\n",
    "docker rm u1 &> /dev/null\n",
    "docker rmi test_ubuntu &> /dev/null"
   ]
  },
  {
   "cell_type": "markdown",
   "id": "f03f8f26-4cc5-4224-a97d-00e0c0fa2975",
   "metadata": {},
   "source": [
    "### `docker stop` - stop some container\n",
    "\n",
    "In the following example, I start a container with Ubuntu in such a way that it stays running, which was proven by using `docker ps`. But after using `docker stop` the same container is in the state \"Exited\"."
   ]
  },
  {
   "cell_type": "code",
   "execution_count": 20,
   "id": "9d94ee50-68ce-48ad-b59e-f61506148754",
   "metadata": {},
   "outputs": [
    {
     "name": "stdout",
     "output_type": "stream",
     "text": [
      "=====Just started container=====\n",
      "CONTAINER ID   IMAGE     COMMAND       CREATED                  STATUS                  PORTS     NAMES\n",
      "e175ae336dcb   ubuntu    \"/bin/bash\"   Less than a second ago   Up Less than a second             test_ubuntu\n",
      "=====Stoped container (STATUS \"Exited\")=====\n",
      "CONTAINER ID   IMAGE     COMMAND       CREATED          STATUS                                PORTS     NAMES\n",
      "e175ae336dcb   ubuntu    \"/bin/bash\"   10 seconds ago   Exited (137) Less than a second ago             test_ubuntu\n"
     ]
    }
   ],
   "source": [
    "%%bash\n",
    "docker run -itd --name test_ubuntu ubuntu &> /dev/null\n",
    "echo \"=====Just started container=====\"\n",
    "docker ps -a\n",
    "docker stop test_ubuntu &> /dev/null\n",
    "echo \"=====Stoped container (STATUS \\\"Exited\\\")=====\"\n",
    "docker ps -a\n",
    "docker rm test_ubuntu &> /dev/null"
   ]
  },
  {
   "cell_type": "markdown",
   "id": "2518a36b-d382-4ac2-9b5a-0da426c84947",
   "metadata": {},
   "source": [
    "### `docker exec` - run a command in the container\n",
    "\n",
    "In the next command I start ubuntu conteiner. Then using `docker exec' I run the `ls' command in the container and get a typical Linux result for that command."
   ]
  },
  {
   "cell_type": "code",
   "execution_count": 24,
   "id": "08fa9358-5ff6-47e6-8f54-1402e1f2db6a",
   "metadata": {},
   "outputs": [
    {
     "name": "stdout",
     "output_type": "stream",
     "text": [
      "bin\n",
      "boot\n",
      "dev\n",
      "etc\n",
      "home\n",
      "lib\n",
      "lib32\n",
      "lib64\n",
      "libx32\n",
      "media\n",
      "mnt\n",
      "opt\n",
      "proc\n",
      "root\n",
      "run\n",
      "sbin\n",
      "srv\n",
      "sys\n",
      "tmp\n",
      "usr\n",
      "var\n"
     ]
    }
   ],
   "source": [
    "%%bash\n",
    "docker run -itd --rm --name test_ubuntu ubuntu &> /dev/null\n",
    "docker exec test_ubuntu ls\n",
    "docker stop test_ubuntu &> /dev/null"
   ]
  },
  {
   "cell_type": "markdown",
   "id": "9866b82b-cf5e-4128-87e9-c20b7370f0e1",
   "metadata": {},
   "source": [
    "##### `-it` - take control of the container\n",
    "\n",
    "It looks like the options individually have the same properties as in the `docker run` command. But the important thing is that you can take control of the detached container with this command.<br> \n",
    "The following example shows how I can get control in detached ubuntu by running the `bash` command with named options.\n",
    "\n",
    "<img src=\"containers_files/docker exec -it.gif\"></img>"
   ]
  }
 ],
 "metadata": {
  "kernelspec": {
   "display_name": "Python 3 (ipykernel)",
   "language": "python",
   "name": "python3"
  },
  "language_info": {
   "codemirror_mode": {
    "name": "ipython",
    "version": 3
   },
   "file_extension": ".py",
   "mimetype": "text/x-python",
   "name": "python",
   "nbconvert_exporter": "python",
   "pygments_lexer": "ipython3",
   "version": "3.10.6"
  }
 },
 "nbformat": 4,
 "nbformat_minor": 5
}
