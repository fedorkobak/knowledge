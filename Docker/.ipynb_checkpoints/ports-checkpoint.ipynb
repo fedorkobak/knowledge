{
 "cells": [
  {
   "cell_type": "markdown",
   "id": "5ef144f1-96fb-441c-8aa0-68d9d4aa332a",
   "metadata": {},
   "source": [
    "# Ports"
   ]
  },
  {
   "cell_type": "markdown",
   "id": "b317951c-318e-4a7d-a226-812f4e5f8d61",
   "metadata": {},
   "source": [
    "## Set port for container"
   ]
  },
  {
   "cell_type": "markdown",
   "id": "e85ebd69-27a0-4cf8-88ec-de8ee495250c",
   "metadata": {},
   "source": [
    "You can set port using the following syntax `run ... -p <port on host>:<port on container> ...`.\n",
    "\n",
    "To show how it works, I need some specific Python libraries defined in the following cell."
   ]
  },
  {
   "cell_type": "code",
   "execution_count": 3,
   "id": "2d17a3d6-a469-4f0b-91df-2cc1cb63192a",
   "metadata": {},
   "outputs": [],
   "source": [
    "import requests\n",
    "from requests import ConnectionError\n",
    "from IPython.display import HTML"
   ]
  },
  {
   "cell_type": "markdown",
   "id": "ffa51d90-468b-455e-a6d0-592ebe869d65",
   "metadata": {},
   "source": [
    "Two following cells almost the same: \n",
    "\n",
    "- Start the `nginx` container;\n",
    "- Try to connect to the `http://localhost:80`;\n",
    "- Catch `ConnectionError` if it occurs;\n",
    "- If connection goes fine, then display anwer as HTML.\n",
    "\n",
    "But in the first example the `-p 80:80` option was not used and in the second example it was. It is a connection error in the first cell and a welcome message from nginx in the second."
   ]
  },
  {
   "cell_type": "code",
   "execution_count": 19,
   "id": "71768cb2-400d-4c33-a25d-a1ba1ff673e0",
   "metadata": {},
   "outputs": [
    {
     "name": "stdout",
     "output_type": "stream",
     "text": [
      "Connection error!!!\n"
     ]
    }
   ],
   "source": [
    "!docker run --rm -d \\\n",
    "    --name test_nginx \\\n",
    "    nginx &> /dev/null\n",
    "\n",
    "try:\n",
    "    req_res = requests.get(\"http://localhost:80\")\n",
    "    display(HTML(req_res.content.decode(\"utf-8\")))\n",
    "except ConnectionError:\n",
    "    print(\"Connection error!!!\")\n",
    "    \n",
    "\n",
    "!docker stop test_nginx &> /dev/null"
   ]
  },
  {
   "cell_type": "code",
   "execution_count": 22,
   "id": "19eec127-6cf1-48b8-be85-f2d0a540b924",
   "metadata": {},
   "outputs": [
    {
     "data": {
      "text/html": [
       "<!DOCTYPE html>\n",
       "<html>\n",
       "<head>\n",
       "<title>Welcome to nginx!</title>\n",
       "<style>\n",
       "html { color-scheme: light dark; }\n",
       "body { width: 35em; margin: 0 auto;\n",
       "font-family: Tahoma, Verdana, Arial, sans-serif; }\n",
       "</style>\n",
       "</head>\n",
       "<body>\n",
       "<h1>Welcome to nginx!</h1>\n",
       "<p>If you see this page, the nginx web server is successfully installed and\n",
       "working. Further configuration is required.</p>\n",
       "\n",
       "<p>For online documentation and support please refer to\n",
       "<a href=\"http://nginx.org/\">nginx.org</a>.<br/>\n",
       "Commercial support is available at\n",
       "<a href=\"http://nginx.com/\">nginx.com</a>.</p>\n",
       "\n",
       "<p><em>Thank you for using nginx.</em></p>\n",
       "</body>\n",
       "</html>\n"
      ],
      "text/plain": [
       "<IPython.core.display.HTML object>"
      ]
     },
     "metadata": {},
     "output_type": "display_data"
    }
   ],
   "source": [
    "!docker run --rm -d \\\n",
    "    --name test_nginx \\\n",
    "    -p 80:80 \\\n",
    "    nginx &> /dev/null\n",
    "\n",
    "try:\n",
    "    req_res = requests.get(\"http://localhost:80\")\n",
    "    display(HTML(req_res.content.decode(\"utf-8\")))\n",
    "except ConnectionError:\n",
    "    print(\"Connection error!!!\")\n",
    "    \n",
    "\n",
    "!docker stop test_nginx &> /dev/null"
   ]
  },
  {
   "cell_type": "markdown",
   "id": "1560cdf4-91d6-4b32-985a-c5381218e623",
   "metadata": {},
   "source": [
    "## Several ports\n",
    "\n",
    "You can use the `-p` option to the `docker run` command as many times as you need. The nginx container was started with two ports. So requests to both of the ports won't throw any errors."
   ]
  },
  {
   "cell_type": "code",
   "execution_count": 5,
   "id": "7e98410e-df25-4342-89c0-7961e72af910",
   "metadata": {},
   "outputs": [],
   "source": [
    "!docker run --rm -d \\\n",
    "    --name test_nginx \\\n",
    "    -p 123:80 -p 987:80\\\n",
    "    nginx &> /dev/null\n",
    "\n",
    "try:\n",
    "    requests.get(\"http://localhost:123\")\n",
    "    requests.get(\"http://localhost:987\")\n",
    "except ConnectionError:\n",
    "    print(\"Connection error!!!\")\n",
    "\n",
    "!docker stop test_nginx &> /dev/null"
   ]
  },
  {
   "cell_type": "markdown",
   "id": "20bf05f3-6db6-4c5d-9727-131af1d60a05",
   "metadata": {},
   "source": [
    "## `EXPOSE`\n",
    "\n",
    "Is a keyword for dockerfiles that allows you to specify the port to be used by the container based on the corresponding image."
   ]
  },
  {
   "cell_type": "markdown",
   "id": "ceea2cd4-61dc-4711-860e-30b78d61d142",
   "metadata": {},
   "source": [
    "### Example on other image"
   ]
  },
  {
   "cell_type": "markdown",
   "id": "a2b6113b-c86d-442c-939e-0681a55efeed",
   "metadata": {},
   "source": [
    "Let's take nginx. If we start the container with it and then check the `PORTS` field - it'll display the ports that should be used by this container."
   ]
  },
  {
   "cell_type": "code",
   "execution_count": 8,
   "id": "24969cfb-812d-4cfc-bd30-c7fbec16d651",
   "metadata": {},
   "outputs": [
    {
     "name": "stdout",
     "output_type": "stream",
     "text": [
      "CONTAINER ID   IMAGE     COMMAND                  CREATED                  STATUS                  PORTS     NAMES\n",
      "f19e291b1148   nginx     \"/docker-entrypoint.…\"   Less than a second ago   Up Less than a second   80/tcp    test_nginx\n"
     ]
    }
   ],
   "source": [
    "%%bash\n",
    "docker run --rm -d \\\n",
    "    --name test_nginx \\\n",
    "    nginx &> /dev/null\n",
    "docker ps\n",
    "docker stop test_nginx &> /dev/null"
   ]
  },
  {
   "cell_type": "markdown",
   "id": "0d754e54-4d51-412f-a8b6-debf547b633f",
   "metadata": {},
   "source": [
    "And even if you want to check the history of the images, you can find the `EXPOSE <port>` layer there."
   ]
  },
  {
   "cell_type": "code",
   "execution_count": 9,
   "id": "b1df442f-f7c4-451b-9670-c6731e4c22a9",
   "metadata": {},
   "outputs": [
    {
     "name": "stdout",
     "output_type": "stream",
     "text": [
      "<missing>      3 months ago   /bin/sh -c #(nop)  EXPOSE 80                    0B        \n"
     ]
    }
   ],
   "source": [
    "%%bash\n",
    "docker history nginx | grep EXPOSE"
   ]
  },
  {
   "cell_type": "markdown",
   "id": "84d7193b-2f3e-4a5c-abd9-38210a53bcbd",
   "metadata": {},
   "source": [
    "### Using `EXPOSE`\n",
    "\n",
    "Here I want to focus on using the `EXPOSE` command to create your own docker files. So in the following cell I have created a docker based on ununtu, but added `EXPOSE 1050` to it."
   ]
  },
  {
   "cell_type": "code",
   "execution_count": 2,
   "id": "ae7c126f-3fad-48d3-8053-4615d34ddbce",
   "metadata": {},
   "outputs": [
    {
     "name": "stdout",
     "output_type": "stream",
     "text": [
      "Writing ports_files/test_dockerfile\n"
     ]
    }
   ],
   "source": [
    "%%writefile ports_files/test_dockerfile\n",
    "FROM ubuntu\n",
    "EXPOSE 1050"
   ]
  },
  {
   "cell_type": "markdown",
   "id": "8081d04e-cfb2-414b-b91e-f683717bc624",
   "metadata": {},
   "source": [
    "Now let us try to run the container based on the image we just created. The main difference is that in `docker ps' in the `PORTS` column you can find information about the port you mentioned in the docker file."
   ]
  },
  {
   "cell_type": "code",
   "execution_count": 8,
   "id": "f70bb4a2-bc57-4c8e-a056-1d31bbb61c84",
   "metadata": {},
   "outputs": [
    {
     "name": "stdout",
     "output_type": "stream",
     "text": [
      "CONTAINER ID   IMAGE         COMMAND       CREATED                  STATUS                  PORTS      NAMES\n",
      "64238e807010   test_expose   \"/bin/bash\"   Less than a second ago   Up Less than a second   1050/tcp   test_expose\n"
     ]
    }
   ],
   "source": [
    "%%bash\n",
    "docker build -f ports_files/test_dockerfile -t test_expose . &> /dev/null\n",
    "\n",
    "docker run -itd --name test_expose --rm test_expose &> /dev/null\n",
    "docker ps\n",
    "\n",
    "docker stop test_expose &> /dev/null\n",
    "docker rmi test_expose &> /dev/null"
   ]
  }
 ],
 "metadata": {
  "kernelspec": {
   "display_name": "Python 3 (ipykernel)",
   "language": "python",
   "name": "python3"
  },
  "language_info": {
   "codemirror_mode": {
    "name": "ipython",
    "version": 3
   },
   "file_extension": ".py",
   "mimetype": "text/x-python",
   "name": "python",
   "nbconvert_exporter": "python",
   "pygments_lexer": "ipython3",
   "version": "3.10.12"
  }
 },
 "nbformat": 4,
 "nbformat_minor": 5
}
