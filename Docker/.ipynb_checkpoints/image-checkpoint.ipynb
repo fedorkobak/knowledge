{
 "cells": [
  {
   "cell_type": "markdown",
   "id": "3f74978a-8e66-4c02-8016-c7bab7028e0d",
   "metadata": {},
   "source": [
    "# Working with images\n",
    "\n",
    "Here I will show some of the operations associated with docker images."
   ]
  },
  {
   "cell_type": "markdown",
   "id": "9e209324-f33f-4291-b4f7-a8afca8eb220",
   "metadata": {},
   "source": [
    "### `docker pull` - download image from dockerhub.com\n",
    "\n",
    "It is obligatory to pass on one of the:\n",
    "\n",
    "- `<image name>:<tag>` (`<tag>` - by default is `latest`);\n",
    "- `IMAGE ID` - image id."
   ]
  },
  {
   "cell_type": "code",
   "execution_count": 6,
   "id": "2502ffc2-f0f4-4480-98a1-ed03ccbe0537",
   "metadata": {},
   "outputs": [
    {
     "name": "stdout",
     "output_type": "stream",
     "text": [
      "===============beforre pull======================\n",
      "===============after pull======================\n",
      "hello-world                latest    9c7a54a9a43c   2 weeks ago     13.3kB\n"
     ]
    }
   ],
   "source": [
    "%%bash\n",
    "docker images | grep hello-world\n",
    "echo \"===============beforre pull======================\"\n",
    "docker pull hello-world:latest &> /dev/null\n",
    "echo \"===============after pull======================\"\n",
    "docker images | grep hello-world\n",
    "docker rmi hello-world &> /dev/null"
   ]
  },
  {
   "cell_type": "markdown",
   "id": "9081ed0a-561c-4660-b843-2ff314c8b74e",
   "metadata": {},
   "source": [
    "### `docker images` - show list of available images;"
   ]
  },
  {
   "cell_type": "code",
   "execution_count": 31,
   "id": "8307c699-ed0e-4ccc-b186-c93436db2bad",
   "metadata": {},
   "outputs": [
    {
     "name": "stdout",
     "output_type": "stream",
     "text": [
      "REPOSITORY    TAG       IMAGE ID       CREATED         SIZE\n",
      "hello-world   latest    feb5d9fea6a5   16 months ago   13.3kB\n"
     ]
    }
   ],
   "source": [
    "%%bash\n",
    "docker images"
   ]
  },
  {
   "cell_type": "markdown",
   "id": "08b8db92-1a7b-42cf-8ef0-15dcc949c65e",
   "metadata": {},
   "source": [
    "##### `--a`,`--all` - show all images;\n",
    "\n",
    "By default, so called \"intermediate\", images are hiden. Nowadays I don't know what \"intermediate\" images are."
   ]
  },
  {
   "cell_type": "code",
   "execution_count": 32,
   "id": "f1df990b-3bf5-4bbb-9dac-2010858e8d4d",
   "metadata": {},
   "outputs": [
    {
     "name": "stdout",
     "output_type": "stream",
     "text": [
      "REPOSITORY    TAG       IMAGE ID       CREATED         SIZE\n",
      "hello-world   latest    feb5d9fea6a5   16 months ago   13.3kB\n"
     ]
    }
   ],
   "source": [
    "%%bash\n",
    "docker images --all"
   ]
  },
  {
   "cell_type": "markdown",
   "id": "d037f900-7420-42f5-9a6c-a60d0b2e370e",
   "metadata": {},
   "source": [
    "##### `--digests` - show digests;"
   ]
  },
  {
   "cell_type": "code",
   "execution_count": 33,
   "id": "7fd71f32-f165-4953-858b-f389894bac61",
   "metadata": {},
   "outputs": [
    {
     "name": "stdout",
     "output_type": "stream",
     "text": [
      "REPOSITORY    TAG       DIGEST                                                                    IMAGE ID       CREATED         SIZE\n",
      "hello-world   latest    sha256:aa0cc8055b82dc2509bed2e19b275c8f463506616377219d9642221ab53cf9fe   feb5d9fea6a5   16 months ago   13.3kB\n"
     ]
    }
   ],
   "source": [
    "%%bash\n",
    "docker images --digests"
   ]
  },
  {
   "cell_type": "markdown",
   "id": "c518dc0f-8772-42df-8c56-535caf5b94fe",
   "metadata": {},
   "source": [
    "##### `--format` - format output;\n",
    "\n",
    "Allows output to be formatted using GO templates."
   ]
  },
  {
   "cell_type": "code",
   "execution_count": 34,
   "id": "32570dd8-67a4-40d7-8c03-402090f1103f",
   "metadata": {},
   "outputs": [
    {
     "name": "stdout",
     "output_type": "stream",
     "text": [
      "hello-world:latest\n"
     ]
    }
   ],
   "source": [
    "%%bash\n",
    "docker images --format '{{.Repository}}:{{.Tag}}'"
   ]
  },
  {
   "cell_type": "markdown",
   "id": "1402efc1-1c5f-4885-87b3-ee1e988049f2",
   "metadata": {},
   "source": [
    "##### `--no-trunc` - full output;"
   ]
  },
  {
   "cell_type": "code",
   "execution_count": 35,
   "id": "d16037a9-6051-46f9-8b1e-3d07372cc4d1",
   "metadata": {},
   "outputs": [
    {
     "name": "stdout",
     "output_type": "stream",
     "text": [
      "REPOSITORY    TAG       IMAGE ID                                                                  CREATED         SIZE\n",
      "hello-world   latest    sha256:feb5d9fea6a5e9606aa995e879d862b825965ba48de054caab5ef356dc6b3412   16 months ago   13.3kB\n"
     ]
    }
   ],
   "source": [
    "%%bash\n",
    "docker images --no-trunc"
   ]
  },
  {
   "cell_type": "markdown",
   "id": "0b87061f-95c1-4f92-8cc5-2dd40b054d44",
   "metadata": {},
   "source": [
    "##### `-q`, `--quiet` - print only images ids."
   ]
  },
  {
   "cell_type": "code",
   "execution_count": 36,
   "id": "f6eafb64-f0df-41b0-aa5d-b2fd6ae12361",
   "metadata": {},
   "outputs": [
    {
     "name": "stdout",
     "output_type": "stream",
     "text": [
      "feb5d9fea6a5\n"
     ]
    }
   ],
   "source": [
    "%%bash\n",
    "docker images -q"
   ]
  },
  {
   "cell_type": "markdown",
   "id": "a14c737d-80e0-446c-843f-b82b459d9f07",
   "metadata": {},
   "source": [
    "### `docker rmi` - delete images;\n",
    "\n",
    "It is obligatory to pass on one of the:\n",
    "\n",
    "- `<image name>:<tag>` (`<tag>` - by default is `latest`);\n",
    "- `IMAGE ID` - image id."
   ]
  },
  {
   "cell_type": "code",
   "execution_count": 39,
   "id": "83fefcb5-e0a2-40a8-9b5d-feef8f2221fd",
   "metadata": {},
   "outputs": [
    {
     "name": "stdout",
     "output_type": "stream",
     "text": [
      "REPOSITORY    TAG       IMAGE ID       CREATED         SIZE\n",
      "hello-world   latest    feb5d9fea6a5   16 months ago   13.3kB\n",
      "===========================\n",
      "Untagged: hello-world:latest\n",
      "Untagged: hello-world@sha256:aa0cc8055b82dc2509bed2e19b275c8f463506616377219d9642221ab53cf9fe\n",
      "Deleted: sha256:feb5d9fea6a5e9606aa995e879d862b825965ba48de054caab5ef356dc6b3412\n",
      "Deleted: sha256:e07ee1baac5fae6a26f30cabfe54a36d3402f96afda318fe0a96cec4ca393359\n",
      "===========================\n",
      "REPOSITORY   TAG       IMAGE ID   CREATED   SIZE\n"
     ]
    }
   ],
   "source": [
    "%%bash\n",
    "docker images\n",
    "echo \"===========================\"\n",
    "docker rmi hello-world:latest\n",
    "echo \"===========================\"\n",
    "docker images"
   ]
  }
 ],
 "metadata": {
  "kernelspec": {
   "display_name": "Python 3 (ipykernel)",
   "language": "python",
   "name": "python3"
  },
  "language_info": {
   "codemirror_mode": {
    "name": "ipython",
    "version": 3
   },
   "file_extension": ".py",
   "mimetype": "text/x-python",
   "name": "python",
   "nbconvert_exporter": "python",
   "pygments_lexer": "ipython3",
   "version": "3.10.6"
  }
 },
 "nbformat": 4,
 "nbformat_minor": 5
}
