{
 "cells": [
  {
   "cell_type": "markdown",
   "id": "56cd4a02-d3bd-45d0-a2c2-f35199d48859",
   "metadata": {},
   "source": [
    "# Image creation"
   ]
  },
  {
   "cell_type": "markdown",
   "id": "21267b00-b12c-4750-b39a-9afb13c8c743",
   "metadata": {},
   "source": [
    "# `docker build` - build image{#sec-docker_build_command}\n",
    "\n",
    "This is the command used to create a new docker image."
   ]
  },
  {
   "cell_type": "markdown",
   "id": "27a5d4e8-f058-436d-8d0a-e458ea92e1f3",
   "metadata": {},
   "source": [
    "Basic arguments:\n",
    "\n",
    "- the last mandatory argument sets the build directory - you should use `.` to set the current directory.\n",
    "- `-t` - set the name and tag of the image."
   ]
  },
  {
   "cell_type": "code",
   "execution_count": 2,
   "id": "23163fac-48ee-4692-86ed-76aa92e6e425",
   "metadata": {},
   "outputs": [
    {
     "name": "stderr",
     "output_type": "stream",
     "text": [
      "#1 [internal] load .dockerignore\n",
      "#1 transferring context: 2B done\n",
      "#1 DONE 0.0s\n",
      "\n",
      "#2 [internal] load build definition from dockerfile\n",
      "#2 transferring dockerfile: 55B done\n",
      "#2 DONE 0.0s\n",
      "\n",
      "#3 [internal] load metadata for docker.io/library/ubuntu:latest\n",
      "#3 DONE 0.0s\n",
      "\n",
      "#4 [1/1] FROM docker.io/library/ubuntu:latest\n",
      "#4 CACHED\n",
      "\n",
      "#5 exporting to image\n",
      "#5 exporting layers done\n",
      "#5 writing image sha256:8173c380186319e1e49d54260624b8b78635789ab603389d63c65e828e150c8f done\n",
      "#5 naming to docker.io/library/custom_ubuntu:test done\n",
      "#5 DONE 0.0s\n"
     ]
    },
    {
     "name": "stdout",
     "output_type": "stream",
     "text": [
      "custom_ubuntu              test      8173c3801863   3 months ago    77.8MB\n",
      "Untagged: custom_ubuntu:test\n",
      "Deleted: sha256:8173c380186319e1e49d54260624b8b78635789ab603389d63c65e828e150c8f\n"
     ]
    }
   ],
   "source": [
    "%%bash\n",
    "cd build_command_files\n",
    "docker build -t custom_ubuntu:test .\n",
    "docker images | grep custom_ubuntu\n",
    "docker rmi custom_ubuntu:test"
   ]
  },
  {
   "cell_type": "markdown",
   "id": "5ca0c251-ded7-43fb-b2c9-68043bada83e",
   "metadata": {},
   "source": [
    "### `-f` - allow to chose the dockerfile"
   ]
  },
  {
   "cell_type": "markdown",
   "id": "90631f13-c79d-410f-abb7-e86216062633",
   "metadata": {},
   "source": [
    "You should see a difference between building directory and dockerfile. The `dockerfile` is only taken from the building directory if it is not specified in the `-f` option. But the files used for the build will in any case come from the build directory.\n",
    "\n",
    "So let's try some experiments with these details. I have prepared some folders for experiments with these options, in the following cell I show tree and file contents."
   ]
  },
  {
   "cell_type": "code",
   "execution_count": 13,
   "id": "d8a12d5f-d6a4-4288-8259-0e89c906b303",
   "metadata": {},
   "outputs": [
    {
     "name": "stdout",
     "output_type": "stream",
     "text": [
      "\u001b[01;34m.\u001b[0m\n",
      "├── dockerfile\n",
      "├── script.sh\n",
      "├── specialdockerfile\n",
      "└── \u001b[01;34mtest_folder\u001b[0m\n",
      "    ├── dockerfile\n",
      "    └── script.sh\n",
      "\n",
      "1 directory, 5 files\n",
      "\n",
      "\n",
      "\n",
      "\n",
      "=====File: ./dockerfile=====\n",
      "FROM ubuntu:latest\n",
      "COPY script.sh script.sh\n",
      "RUN echo \"\\necho message from basic dockerfile\" >> script.sh\n",
      "\n",
      "=====File: ./script.sh=====\n",
      "echo \"It's a script.sh from the run folder\"\n",
      "\n",
      "=====File: ./specialdockerfile=====\n",
      "FROM ubuntu:latest\n",
      "COPY script.sh script.sh\n",
      "RUN echo \"\\necho message from specialdockerfile\" >> script.sh\n",
      "\n",
      "=====File: ./test_folder/dockerfile=====\n",
      "FROM ubuntu:latest\n",
      "COPY script.sh script.sh\n",
      "RUN echo \"\\necho message from test_folder/dockerfile\" >> script.sh\n",
      "\n",
      "=====File: ./test_folder/script.sh=====\n",
      "echo \"It's a script from test_folder\"\n"
     ]
    }
   ],
   "source": [
    "%%bash\n",
    "cd build_command_files/f_option_examples\n",
    "tree\n",
    "\n",
    "echo\n",
    "echo\n",
    "echo\n",
    "\n",
    "for file in $(find -type f | grep -v \"\\/\\.\"); do\n",
    "    echo \"\"\n",
    "    echo \"=====File: $file=====\"\n",
    "    cat $file\n",
    "    echo \"\"\n",
    "done"
   ]
  },
  {
   "cell_type": "markdown",
   "id": "3634d5f2-360c-4bae-9ac2-2c45bc8ed004",
   "metadata": {},
   "source": [
    "We have:\n",
    "\n",
    "- scripts:\n",
    "    - from run folder - prints `\"It's a script.sh from the run folder\"`;\n",
    "    - from test_folder - prints `\"It's a script from test_folder\"`;\n",
    "- dockerfiles:\n",
    "    - basic `dockerfile` from run directory - adds to printing script line `\"message from basic dockerfile\"`;\n",
    "    - `specisaldocker` file from run dicrecotry but with special name - adds to printing script line `\"message from specialdockerfile\"`;\n",
    "    - `dockerfile` from `test_folder` directory - adds to printing script line `\"message from test_folder/dockerfile\"`;\n",
    "    - `specialdockerfile` from `test_folder` directory - adds to printing script line `\"message from test_folder/specialdockerfile\"`;\n",
    "\n",
    "This way we can always tell from the output of `script.sh` from the container in which folder and from which dockerfile the image was built. Let's try different options:"
   ]
  },
  {
   "cell_type": "markdown",
   "id": "c63e265f-dae7-4f71-9b82-3bf011a8c41d",
   "metadata": {},
   "source": [
    "- The most basic case no `-f` option and `.` as build directory - will lead to using docker file from run directory and `script.sh` was copiet from run dicrecory as well;"
   ]
  },
  {
   "cell_type": "code",
   "execution_count": 16,
   "id": "f4852dbb-bd5c-4cbd-8d8a-00a2bd8a88bb",
   "metadata": {},
   "outputs": [
    {
     "name": "stdout",
     "output_type": "stream",
     "text": [
      "=====message from container=====\n",
      "It's a script.sh from the run folder\n",
      "message from basic dockerfile\n"
     ]
    }
   ],
   "source": [
    "%%bash\n",
    "cd build_command_files/f_option_examples\n",
    "docker build -t test_ubuntu . &> /dev/null\n",
    "docker run --rm -itd \\\n",
    "    --name test_ubuntu \\\n",
    "    test_ubuntu &> /dev/null\n",
    "echo \"=====message from container=====\"\n",
    "docker exec test_ubuntu bash script.sh\n",
    "\n",
    "docker stop test_ubuntu &> /dev/null\n",
    "docker rmi test_ubuntu &> /dev/null"
   ]
  },
  {
   "cell_type": "markdown",
   "id": "97195717-eb7d-4998-880e-4e4598481b91",
   "metadata": {},
   "source": [
    "- If you do not set the `-f` option but specify the build folder as `test_folder` everythig will be taken from `test_folder`;"
   ]
  },
  {
   "cell_type": "code",
   "execution_count": 17,
   "id": "7312eb8c-708e-4dca-9022-5d5c672cb5c8",
   "metadata": {},
   "outputs": [
    {
     "name": "stdout",
     "output_type": "stream",
     "text": [
      "=====message from container=====\n",
      "It's a script from test_folder\n",
      "message from test_folder/dockerfile\n"
     ]
    }
   ],
   "source": [
    "%%bash\n",
    "cd build_command_files/f_option_examples\n",
    "docker build -t test_ubuntu test_folder &> /dev/null\n",
    "docker run --rm -itd \\\n",
    "    --name test_ubuntu \\\n",
    "    test_ubuntu &> /dev/null\n",
    "echo \"=====message from container=====\"\n",
    "docker exec test_ubuntu bash script.sh\n",
    "\n",
    "docker stop test_ubuntu &> /dev/null\n",
    "docker rmi test_ubuntu &> /dev/null"
   ]
  },
  {
   "cell_type": "markdown",
   "id": "f9102b39-5752-4593-8fe4-f8461824fc1c",
   "metadata": {},
   "source": [
    "- If you set `-f specialdockerfile` and specify the build folder as `test_folder` - everything is obvious;"
   ]
  },
  {
   "cell_type": "code",
   "execution_count": 19,
   "id": "af47439c-fb99-4480-8047-86c374f614ce",
   "metadata": {},
   "outputs": [
    {
     "name": "stdout",
     "output_type": "stream",
     "text": [
      "=====message from container=====\n",
      "It's a script from test_folder\n",
      "message from specialdockerfile\n"
     ]
    }
   ],
   "source": [
    "%%bash\n",
    "cd build_command_files/f_option_examples\n",
    "docker build \\\n",
    "    -t test_ubuntu \\\n",
    "    -f specialdockerfile \\\n",
    "    test_folder &> /dev/null\n",
    "docker run --rm -itd \\\n",
    "    --name test_ubuntu \\\n",
    "    test_ubuntu &> /dev/null\n",
    "echo \"=====message from container=====\"\n",
    "docker exec test_ubuntu bash script.sh\n",
    "\n",
    "docker stop test_ubuntu &> /dev/null\n",
    "docker rmi test_ubuntu &> /dev/null"
   ]
  },
  {
   "cell_type": "markdown",
   "id": "58f627b3-1320-4faa-854a-9595f8ebafaa",
   "metadata": {},
   "source": [
    "- Bit exotic case - `dockerfile` from `test_folder`, but build directory is run directory;"
   ]
  },
  {
   "cell_type": "code",
   "execution_count": 20,
   "id": "25727aa7-ff67-47be-a126-03fd2c7e07bf",
   "metadata": {},
   "outputs": [
    {
     "name": "stdout",
     "output_type": "stream",
     "text": [
      "=====message from container=====\n",
      "It's a script.sh from the run folder\n",
      "message from test_folder/dockerfile\n"
     ]
    }
   ],
   "source": [
    "%%bash\n",
    "cd build_command_files/f_option_examples\n",
    "docker build \\\n",
    "    -t test_ubuntu \\\n",
    "    -f test_folder/dockerfile \\\n",
    "    . &> /dev/null\n",
    "docker run --rm -itd \\\n",
    "    --name test_ubuntu \\\n",
    "    test_ubuntu &> /dev/null\n",
    "echo \"=====message from container=====\"\n",
    "docker exec test_ubuntu bash script.sh\n",
    "\n",
    "docker stop test_ubuntu &> /dev/null\n",
    "docker rmi test_ubuntu &> /dev/null"
   ]
  },
  {
   "cell_type": "markdown",
   "id": "85e55938-6c43-4e2b-a1d7-5691b97479ef",
   "metadata": {},
   "source": [
    "**Note** even if you have specified a folder as some assembly folder, you must still pass in the `-f` parameter the path relative to the run folder.\n",
    "\n",
    "The next two points show the difference:"
   ]
  },
  {
   "cell_type": "markdown",
   "id": "1aabbcc8-46da-4018-b018-b4697f20ea7e",
   "metadata": {},
   "source": [
    "- Here I set building directory as `test_folder` but `-f specialdockerfile` - `specialdockerfile` from run folder will be used; "
   ]
  },
  {
   "cell_type": "code",
   "execution_count": 22,
   "id": "83cc6203-ab63-4f09-aa80-79cf71c2293b",
   "metadata": {},
   "outputs": [
    {
     "name": "stdout",
     "output_type": "stream",
     "text": [
      "=====message from container=====\n",
      "It's a script from test_folder\n",
      "message from specialdockerfile\n"
     ]
    }
   ],
   "source": [
    "%%bash\n",
    "cd build_command_files/f_option_examples\n",
    "docker build \\\n",
    "    -t test_ubuntu \\\n",
    "    -f specialdockerfile \\\n",
    "    test_folder &> /dev/null\n",
    "docker run --rm -itd \\\n",
    "    --name test_ubuntu \\\n",
    "    test_ubuntu &> /dev/null\n",
    "echo \"=====message from container=====\"\n",
    "docker exec test_ubuntu bash script.sh\n",
    "\n",
    "docker stop test_ubuntu &> /dev/null\n",
    "docker rmi test_ubuntu &> /dev/null"
   ]
  },
  {
   "cell_type": "markdown",
   "id": "b54b59c6-7b65-42af-bf24-754de552fd70",
   "metadata": {},
   "source": [
    "- Here I set building directory as `test_folder` but `-f test_folder/specialdockerfile` - `specialdockerfile` from `test_folder` will be used; "
   ]
  },
  {
   "cell_type": "code",
   "execution_count": 23,
   "id": "2607990a-e91b-4bd9-8764-69ef41cc90d5",
   "metadata": {},
   "outputs": [
    {
     "name": "stdout",
     "output_type": "stream",
     "text": [
      "=====message from container=====\n",
      "It's a script from test_folder\n",
      "message from test_folder/specialdockerfile\n"
     ]
    }
   ],
   "source": [
    "%%bash\n",
    "cd build_command_files/f_option_examples\n",
    "docker build \\\n",
    "    -t test_ubuntu \\\n",
    "    -f test_folder/specialdockerfile \\\n",
    "    test_folder &> /dev/null\n",
    "docker run --rm -itd \\\n",
    "    --name test_ubuntu \\\n",
    "    test_ubuntu &> /dev/null\n",
    "echo \"=====message from container=====\"\n",
    "docker exec test_ubuntu bash script.sh\n",
    "\n",
    "docker stop test_ubuntu &> /dev/null\n",
    "docker rmi test_ubuntu &> /dev/null"
   ]
  }
 ],
 "metadata": {
  "kernelspec": {
   "display_name": "Python 3 (ipykernel)",
   "language": "python",
   "name": "python3"
  },
  "language_info": {
   "codemirror_mode": {
    "name": "ipython",
    "version": 3
   },
   "file_extension": ".py",
   "mimetype": "text/x-python",
   "name": "python",
   "nbconvert_exporter": "python",
   "pygments_lexer": "ipython3",
   "version": "3.10.6"
  }
 },
 "nbformat": 4,
 "nbformat_minor": 5
}
