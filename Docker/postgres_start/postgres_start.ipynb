{
 "cells": [
  {
   "attachments": {},
   "cell_type": "markdown",
   "metadata": {},
   "source": [
    "**Пример развертывания с помощью docker базы данных postgres взаимодейсвующей с программой на python**"
   ]
  },
  {
   "attachments": {},
   "cell_type": "markdown",
   "metadata": {},
   "source": [
    "# Разные контейнеры\n",
    "\n",
    "Програма в одном контейнере, база в другом. В теории так и должно быть, так что это самый правильный вариант."
   ]
  },
  {
   "attachments": {},
   "cell_type": "markdown",
   "metadata": {},
   "source": [
    "Запуск контейнеров"
   ]
  },
  {
   "cell_type": "code",
   "execution_count": 1,
   "metadata": {},
   "outputs": [
    {
     "name": "stdout",
     "output_type": "stream",
     "text": [
      "34a398d3020100bfba5156db3a78aef6f35d6c56051710a8178075f65b0e73cd\n",
      "fb428a7b940e7ebf4c6eadd4d8e6c55e8c0f0125ca551bcbd350df65e0c212fb\n",
      "8f717a2ad9f6998a2eb7db3ea0ac03cc96522b8a361db671c42bbdc8e9991a04\n"
     ]
    }
   ],
   "source": [
    "%%bash\n",
    "\n",
    "# сеть\n",
    "docker network create test_project_net\n",
    "# postgres\n",
    "docker run --rm -d\\\n",
    "    --name database\\\n",
    "    -e POSTGRES_USER=docker_app\\\n",
    "    -e POSTGRES_PASSWORD=docker_app\\\n",
    "    -e POSTGRES_DB=docker_app_db\\\n",
    "    --net=test_project_net\\\n",
    "    custom_postgres\n",
    "# python\n",
    "docker run --rm -itd\\\n",
    "    --name python_psql\\\n",
    "    --net=test_project_net\\\n",
    "    python_psql"
   ]
  },
  {
   "attachments": {},
   "cell_type": "markdown",
   "metadata": {},
   "source": [
    "Надо создать таблицу с которой наша программа на python будет работать."
   ]
  },
  {
   "cell_type": "code",
   "execution_count": 2,
   "metadata": {},
   "outputs": [
    {
     "name": "stdout",
     "output_type": "stream",
     "text": [
      "CREATE TABLE\n"
     ]
    }
   ],
   "source": [
    "%%bash\n",
    "# надо дождаться пока база данных\n",
    "# развернется (но вообще это не обязательный шаг)\n",
    "sleep 1\n",
    "docker exec database \\\n",
    "    psql --username docker_app --dbname docker_app_db -f create_table.sql"
   ]
  },
  {
   "cell_type": "code",
   "execution_count": 3,
   "metadata": {},
   "outputs": [],
   "source": [
    "%%bash\n",
    "docker exec python_psql python3 script.py"
   ]
  },
  {
   "attachments": {},
   "cell_type": "markdown",
   "metadata": {},
   "source": [
    "Проверим, чтобы записи сидели в базе."
   ]
  },
  {
   "cell_type": "code",
   "execution_count": 4,
   "metadata": {},
   "outputs": [
    {
     "name": "stderr",
     "output_type": "stream",
     "text": [
      "psql:create_table.sql:4: ERROR:  relation \"main_table\" already exists\n"
     ]
    },
    {
     "name": "stdout",
     "output_type": "stream",
     "text": [
      " id |         text         \n",
      "----+----------------------\n",
      " 0  | vymszdacizasoskeynrz\n",
      " 1  | zeedscxslqsviocgulpv\n",
      " 2  | pgaddokdpeaetjcjbgxn\n",
      " 3  | saofcamywgifngsrvghz\n",
      " 4  | anjfbasvwncfsybackza\n",
      " 5  | iuqjpjfxqzkcyjhxwixk\n",
      " 6  | uxsfbomwzpjmoldpepvx\n",
      " 7  | wkqqpzplzjbbuvyxnrxe\n",
      " 8  | jrbmbnnpxmexjtiyuici\n",
      " 9  | kllkgouehckewkmxsprv\n",
      " 10 | gszezoecjruwnfrgtczc\n",
      " 11 | mbudorfpbhmcklxhlyra\n",
      " 12 | xbkhupkusdsswbqcxjkh\n",
      " 13 | lsjyaooxxbouhoqfupzz\n",
      " 14 | vymzfuuaaiwsqlfnpiuw\n",
      " 15 | rqhcxlgefvhxgwsuyobn\n",
      " 16 | canvcvnttbctysiczkmf\n",
      " 17 | pbrlbrurbudorrcggsga\n",
      " 18 | qvpslycpamqdwrxwpkpu\n",
      " 19 | psiallsnotlotxeizopq\n",
      "(20 rows)\n",
      "\n"
     ]
    }
   ],
   "source": [
    "%%bash \n",
    "docker exec database psql \\\n",
    "    --username docker_app \\\n",
    "    --dbname docker_app_db \\\n",
    "    -f create_table.sql\\\n",
    "    -c 'SELECT * FROM main_table;'"
   ]
  },
  {
   "attachments": {},
   "cell_type": "markdown",
   "metadata": {},
   "source": [
    "Удаление всего того, что насоздавали."
   ]
  },
  {
   "cell_type": "code",
   "execution_count": 5,
   "metadata": {},
   "outputs": [
    {
     "name": "stdout",
     "output_type": "stream",
     "text": [
      "database\n",
      "python_psql\n",
      "test_project_net\n"
     ]
    }
   ],
   "source": [
    "%%bash\n",
    "docker stop database\n",
    "docker stop python_psql\n",
    "docker network rm test_project_net"
   ]
  },
  {
   "attachments": {},
   "cell_type": "markdown",
   "metadata": {},
   "source": [
    "# Программа на хосте\n",
    "\n",
    "В целях отладки программы бывает полезно поднять контейнер с базой а программу отлаживать на localhost. В данном разделе представлено именно такой случай."
   ]
  },
  {
   "attachments": {},
   "cell_type": "markdown",
   "metadata": {},
   "source": [
    "Старт контейнера с базой и создание табилцы."
   ]
  },
  {
   "cell_type": "code",
   "execution_count": 7,
   "metadata": {},
   "outputs": [
    {
     "name": "stdout",
     "output_type": "stream",
     "text": [
      "7b2c720f625cfe5edcbb933c177b3100e37804f546c67d154bdeaa8199909546\n",
      "CREATE TABLE\n"
     ]
    }
   ],
   "source": [
    "%%bash\n",
    "# особое внимане порту - тут от принципиально важен\n",
    "docker run --rm -d\\\n",
    "    --name database\\\n",
    "    -e POSTGRES_USER=docker_app\\\n",
    "    -e POSTGRES_PASSWORD=docker_app\\\n",
    "    -e POSTGRES_DB=docker_app_db\\\n",
    "    -p 5431:5432\\\n",
    "    custom_postgres\n",
    "\n",
    "# надо дождаться пока база данных\n",
    "# развернется (но вообще это не обязательный шаг)\n",
    "sleep 1\n",
    "docker exec database \\\n",
    "    psql --username docker_app --dbname docker_app_db -f create_table.sql"
   ]
  },
  {
   "attachments": {},
   "cell_type": "markdown",
   "metadata": {},
   "source": [
    "В python надо открыть connection с базой."
   ]
  },
  {
   "cell_type": "code",
   "execution_count": 8,
   "metadata": {},
   "outputs": [],
   "source": [
    "import psycopg2\n",
    "import random\n",
    "import string\n",
    "\n",
    "conn = psycopg2.connect(\n",
    "    port = \"5431\",# указываем порт\n",
    "    dbname = \"docker_app_db\",\n",
    "    user = \"docker_app\",\n",
    "    password = \"docker_app\",\n",
    "    host= \"localhost\"\n",
    ")"
   ]
  },
  {
   "attachments": {},
   "cell_type": "markdown",
   "metadata": {},
   "source": [
    "Вставляем в новосозданную табличку 20 новый записей."
   ]
  },
  {
   "cell_type": "code",
   "execution_count": 9,
   "metadata": {},
   "outputs": [],
   "source": [
    "cur = conn.cursor()\n",
    "for i in range(20):\n",
    "    text = ''.join(random.choices(string.ascii_lowercase, k=20))\n",
    "    query = f\"INSERT INTO main_table (id, text) VALUES ('{i}', '{text}');\"\n",
    "    cur.execute(query)\n",
    "cur.close()"
   ]
  },
  {
   "attachments": {},
   "cell_type": "markdown",
   "metadata": {},
   "source": [
    "И посмотрим, что это за записи."
   ]
  },
  {
   "cell_type": "code",
   "execution_count": 10,
   "metadata": {},
   "outputs": [
    {
     "name": "stdout",
     "output_type": "stream",
     "text": [
      "('0', 'jvzxfsnhqdqwzlcydplk')\n",
      "('1', 'dkikwyqonxbpuntctwbh')\n",
      "('2', 'hezacpzkyunfveeryric')\n",
      "('3', 'tiyiamkwkpldwwcssybh')\n",
      "('4', 'mlubzprlazklkwhfkjes')\n",
      "('5', 'cljklgwdqrdixouxmwvx')\n",
      "('6', 'qjwaaacfxtfgddfuuwcm')\n",
      "('7', 'edchlgwxfleemxiygppw')\n",
      "('8', 'jlhoegxnoufwwkmuqmbt')\n",
      "('9', 'inghkupkzzbqwwsorbty')\n",
      "('10', 'aarzufaztxozfknqnkry')\n",
      "('11', 'rseoefecuwmukfsctvvc')\n",
      "('12', 'jcndoogfkkfxrmhcynpn')\n",
      "('13', 'noyhhyphzwyxbmggethp')\n",
      "('14', 'klfzmuwbdikladtclngb')\n",
      "('15', 'yqqrnsmrpzmmwxmhyulr')\n",
      "('16', 'zfopjuwfzktsasfzwrbd')\n",
      "('17', 'zdawvtlfpffdukteteys')\n",
      "('18', 'zkculqcoqakiojcenslf')\n",
      "('19', 'jzdhhvqmoghjjattawqj')\n"
     ]
    }
   ],
   "source": [
    "cur = conn.cursor()\n",
    "cur.execute(\"SELECT * FROM main_table;\")\n",
    "for i in cur:\n",
    "    print(i)\n",
    "cur.close()"
   ]
  },
  {
   "attachments": {},
   "cell_type": "markdown",
   "metadata": {},
   "source": [
    "Отправляем изменения на базу и закрываем соединение."
   ]
  },
  {
   "cell_type": "code",
   "execution_count": 11,
   "metadata": {},
   "outputs": [],
   "source": [
    "conn.commit()\n",
    "conn.close()"
   ]
  },
  {
   "attachments": {},
   "cell_type": "markdown",
   "metadata": {},
   "source": [
    "Для того, чтобы убедится, что все сработало, спрошу эту табличку напрямую из базы."
   ]
  },
  {
   "cell_type": "code",
   "execution_count": 12,
   "metadata": {},
   "outputs": [
    {
     "name": "stdout",
     "output_type": "stream",
     "text": [
      " id |         text         \n",
      "----+----------------------\n",
      " 0  | jvzxfsnhqdqwzlcydplk\n",
      " 1  | dkikwyqonxbpuntctwbh\n",
      " 2  | hezacpzkyunfveeryric\n",
      " 3  | tiyiamkwkpldwwcssybh\n",
      " 4  | mlubzprlazklkwhfkjes\n",
      " 5  | cljklgwdqrdixouxmwvx\n",
      " 6  | qjwaaacfxtfgddfuuwcm\n",
      " 7  | edchlgwxfleemxiygppw\n",
      " 8  | jlhoegxnoufwwkmuqmbt\n",
      " 9  | inghkupkzzbqwwsorbty\n",
      " 10 | aarzufaztxozfknqnkry\n",
      " 11 | rseoefecuwmukfsctvvc\n",
      " 12 | jcndoogfkkfxrmhcynpn\n",
      " 13 | noyhhyphzwyxbmggethp\n",
      " 14 | klfzmuwbdikladtclngb\n",
      " 15 | yqqrnsmrpzmmwxmhyulr\n",
      " 16 | zfopjuwfzktsasfzwrbd\n",
      " 17 | zdawvtlfpffdukteteys\n",
      " 18 | zkculqcoqakiojcenslf\n",
      " 19 | jzdhhvqmoghjjattawqj\n",
      "(20 rows)\n",
      "\n"
     ]
    }
   ],
   "source": [
    "%%bash\n",
    "docker exec database \\\n",
    "    psql --username docker_app --dbname docker_app_db -c 'SELECT * FROM main_table;'"
   ]
  },
  {
   "attachments": {},
   "cell_type": "markdown",
   "metadata": {},
   "source": [
    "Останавливаю созданный для этого примера контейнер."
   ]
  },
  {
   "cell_type": "code",
   "execution_count": 13,
   "metadata": {},
   "outputs": [
    {
     "name": "stdout",
     "output_type": "stream",
     "text": [
      "database\n"
     ]
    }
   ],
   "source": [
    "%%bash\n",
    "docker stop database"
   ]
  }
 ],
 "metadata": {
  "kernelspec": {
   "display_name": "Python 3 (ipykernel)",
   "language": "python",
   "name": "python3"
  },
  "language_info": {
   "codemirror_mode": {
    "name": "ipython",
    "version": 3
   },
   "file_extension": ".py",
   "mimetype": "text/x-python",
   "name": "python",
   "nbconvert_exporter": "python",
   "pygments_lexer": "ipython3",
   "version": "3.10.6"
  }
 },
 "nbformat": 4,
 "nbformat_minor": 4
}
