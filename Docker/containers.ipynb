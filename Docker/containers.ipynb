{
 "cells": [
  {
   "cell_type": "markdown",
   "metadata": {},
   "source": [
    "# Containers\n",
    "\n",
    "Here we look at options for performing operations under Docker containers."
   ]
  },
  {
   "cell_type": "markdown",
   "metadata": {},
   "source": [
    "## Activate stopped (`start`)\n",
    "\n",
    "Using command `docker start` you can return to execution stopped contianer."
   ]
  },
  {
   "cell_type": "markdown",
   "metadata": {},
   "source": [
    "---\n",
    "\n",
    "The following example creates container and stops it. Displayed the output of the `docker ps -a` command and there is `Exited` at the status field."
   ]
  },
  {
   "cell_type": "code",
   "execution_count": 16,
   "metadata": {
    "vscode": {
     "languageId": "shellscript"
    }
   },
   "outputs": [
    {
     "name": "stdout",
     "output_type": "stream",
     "text": [
      "CONTAINER ID   IMAGE     COMMAND     CREATED          STATUS                                PORTS     NAMES\n",
      "1bc3217411a6   alpine    \"/bin/sh\"   10 seconds ago   Exited (137) Less than a second ago             test_container\n"
     ]
    }
   ],
   "source": [
    "docker run --name test_container -td alpine &> /dev/null\n",
    "docker stop test_container &> /dev/null\n",
    "docker ps -a"
   ]
  },
  {
   "cell_type": "markdown",
   "metadata": {},
   "source": [
    "So afte executing `start` command we got our container back."
   ]
  },
  {
   "cell_type": "code",
   "execution_count": 15,
   "metadata": {
    "vscode": {
     "languageId": "shellscript"
    }
   },
   "outputs": [
    {
     "name": "stdout",
     "output_type": "stream",
     "text": [
      "/ # \u001b[6n\n",
      "CONTAINER ID   IMAGE     COMMAND   CREATED   STATUS    PORTS     NAMES\n"
     ]
    }
   ],
   "source": [
    "docker start test_container\n",
    "docker ps\n",
    "\n",
    "docker stop test_container\n",
    "docker mr test_container"
   ]
  },
  {
   "cell_type": "markdown",
   "metadata": {},
   "source": [
    "## Execute in (`exec`)\n",
    "\n",
    "`exec` command allows you to execute something in the container."
   ]
  }
 ],
 "metadata": {
  "kernelspec": {
   "display_name": "Bash",
   "language": "bash",
   "name": "bash"
  },
  "language_info": {
   "codemirror_mode": "shell",
   "file_extension": ".sh",
   "mimetype": "text/x-sh",
   "name": "bash"
  }
 },
 "nbformat": 4,
 "nbformat_minor": 2
}
