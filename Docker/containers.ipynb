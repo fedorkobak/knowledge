{
 "cells": [
  {
   "cell_type": "markdown",
   "metadata": {},
   "source": [
    "# Containers\n",
    "\n",
    "Here we look at options for performing operations under Docker containers."
   ]
  },
  {
   "cell_type": "markdown",
   "metadata": {},
   "source": [
    "## Activate stopped (`start`)\n",
    "\n",
    "Using command `docker start` you can return to execution stopped contianer."
   ]
  },
  {
   "cell_type": "markdown",
   "metadata": {},
   "source": [
    "---\n",
    "\n",
    "The following example creates container and stops it. Displayed the output of the `docker ps -a` command and there is `Exited` at the status field."
   ]
  },
  {
   "cell_type": "code",
   "execution_count": 16,
   "metadata": {
    "vscode": {
     "languageId": "shellscript"
    }
   },
   "outputs": [
    {
     "name": "stdout",
     "output_type": "stream",
     "text": [
      "CONTAINER ID   IMAGE     COMMAND     CREATED          STATUS                                PORTS     NAMES\n",
      "1bc3217411a6   alpine    \"/bin/sh\"   10 seconds ago   Exited (137) Less than a second ago             test_container\n"
     ]
    }
   ],
   "source": [
    "docker run --name test_container -td alpine &> /dev/null\n",
    "docker stop test_container &> /dev/null\n",
    "docker ps -a"
   ]
  },
  {
   "cell_type": "markdown",
   "metadata": {},
   "source": [
    "So afte executing `start` command we got our container back."
   ]
  },
  {
   "cell_type": "code",
   "execution_count": 15,
   "metadata": {
    "vscode": {
     "languageId": "shellscript"
    }
   },
   "outputs": [
    {
     "name": "stdout",
     "output_type": "stream",
     "text": [
      "/ # \u001b[6n\n",
      "CONTAINER ID   IMAGE     COMMAND   CREATED   STATUS    PORTS     NAMES\n"
     ]
    }
   ],
   "source": [
    "docker start test_container\n",
    "docker ps\n",
    "\n",
    "docker stop test_container\n",
    "docker mr test_container"
   ]
  },
  {
   "cell_type": "markdown",
   "metadata": {},
   "source": [
    "## Execute in (`exec`)\n",
    "\n",
    "`exec` command allows you to execute something in the container."
   ]
  },
  {
   "cell_type": "markdown",
   "metadata": {},
   "source": [
    "---\n",
    "\n",
    "So in the following example for the alpine container, we first install `fortune` utility and then run it."
   ]
  },
  {
   "cell_type": "code",
   "execution_count": 3,
   "metadata": {
    "vscode": {
     "languageId": "shellscript"
    }
   },
   "outputs": [
    {
     "name": "stdout",
     "output_type": "stream",
     "text": [
      "Once Law was sitting on the bench\n",
      "\tAnd Mercy knelt a-weeping.\n",
      "\"Clear out!\" he cried, \"disordered wench!\n",
      "\tNor come before me creeping.\n",
      "Upon your knees if you appear,\n",
      "'Tis plain you have no standing here.\"\n",
      "\n",
      "Then Justice came.  His Honor cried:\n",
      "\t\"YOUR states? -- Devil seize you!\"\n",
      "\"Amica curiae,\" she replied --\n",
      "\t\"Friend of the court, so please you.\"\n",
      "\"Begone!\" he shouted -- \"There's the door --\n",
      "I never saw your face before!\"\n",
      "\t\t-- Ambrose Bierce, \"The Devil's Dictionary\"\n"
     ]
    }
   ],
   "source": [
    "docker run --name exec_example --rm -idt alpine &> /dev/null\n",
    "\n",
    "docker exec exec_example apk add fortune &> /dev/null\n",
    "docker exec exec_example fortune\n",
    "\n",
    "docker stop exec_example &> /dev/null"
   ]
  },
  {
   "cell_type": "markdown",
   "metadata": {},
   "source": [
    "The `-it` option is extremely useful as it enables pseudo-TTY and allows you to use containers in interactive mode. In simpler terms, it lets you access the shell of the container directly.\n",
    "\n",
    "Due to the limitations of the Jupyter notebook, we can't demonstrate this directly here, but you can try it out in your terminal with the following commands:\n",
    "\n",
    "```bash\n",
    "# This command creates and runs a container named 'test_container' using the Alpine image\n",
    "docker run -itd --name test_container alpine\n",
    "\n",
    "# This command opens an interactive shell in the 'test_container'\n",
    "docker exec -it test_container sh\n",
    "```"
   ]
  }
 ],
 "metadata": {
  "kernelspec": {
   "display_name": "Bash",
   "language": "bash",
   "name": "bash"
  },
  "language_info": {
   "codemirror_mode": "shell",
   "file_extension": ".sh",
   "mimetype": "text/x-sh",
   "name": "bash"
  }
 },
 "nbformat": 4,
 "nbformat_minor": 2
}
