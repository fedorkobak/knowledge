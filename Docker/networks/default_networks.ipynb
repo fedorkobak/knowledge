{
 "cells": [
  {
   "cell_type": "markdown",
   "id": "9b9840fa-80c6-4d09-a6bd-0d7e02b0b829",
   "metadata": {},
   "source": [
    "# Default networks\n",
    "\n",
    "There are three default networks in Docker. Let's look at them all."
   ]
  },
  {
   "cell_type": "markdown",
   "id": "356cd08d-69ed-4476-93d4-a36efc134b78",
   "metadata": {},
   "source": [
    "## Network `none`\n",
    "\n",
    "Connecting a container to the `none` network completely isolates it from any network interactions. The container will have no network access, preventing communication with other containers or external networks."
   ]
  },
  {
   "cell_type": "markdown",
   "id": "25526c99-a0b4-4b60-94c5-b3ef5a66843c",
   "metadata": {},
   "source": [
    "### Host to container"
   ]
  },
  {
   "cell_type": "markdown",
   "id": "d9cfe7e7-8b9f-4e1e-90e2-82107f8f7cc9",
   "metadata": {},
   "source": [
    "In the following cell, there is a simple bash script that allows you to compare the behavior of a container connected to the `bridge` network and a container connected to the `none` network.\n",
    "\n",
    "At the beginning, a container is started using the `bridge` network. When the command `curl localhost:80` is executed, a basic nginx response is received. \n",
    "\n",
    "Then, the network for the container is changed to `none`. As a consequence, when the command `curl localhost:80` is executed again, there is no response. This lack of response is a consequence of using the `none` network for the container.\n",
    "\n",
    "Overall, this script demonstrates the impact of network selection on the container's ability to communicate and receive responses."
   ]
  },
  {
   "cell_type": "code",
   "execution_count": 2,
   "id": "ed54c79d-67b9-47ef-90ad-f5d399dc7498",
   "metadata": {},
   "outputs": [
    {
     "name": "stdout",
     "output_type": "stream",
     "text": [
      "=====DEFAULT NETWORK=====\n",
      "-----network name-----\n",
      "bridge \n",
      "-----curl to nginx-----\n",
      "<!DOCTYPE html>\n",
      "<html>\n",
      "<head>\n",
      "<title>Welcome to nginx!</title>\n",
      "<style>\n",
      "html { color-scheme: light dark; }\n",
      "body { width: 35em; margin: 0 auto;\n",
      "font-family: Tahoma, Verdana, Arial, sans-serif; }\n",
      "</style>\n",
      "</head>\n",
      "\n",
      "\n",
      "=====none NETWORK=====\n",
      "-----network name-----\n",
      "none \n",
      "-----curl to nginx-----\n"
     ]
    }
   ],
   "source": [
    "%%bash\n",
    "docker run --rm -itd\\\n",
    "    -p 80:80 \\\n",
    "    --name network_example\\\n",
    "    nginx &> /dev/null\n",
    "sleep 2\n",
    "\n",
    "echo \"=====DEFAULT NETWORK=====\"\n",
    "echo \"-----network name-----\"\n",
    "docker inspect -f \\\n",
    "    '{{range $key, $value := .NetworkSettings.Networks}}{{$key}} {{end}}' \\\n",
    "    network_example\n",
    "echo \"-----curl to nginx-----\"\n",
    "curl -s localhost:80 | head -n 10\n",
    "\n",
    "docker network disconnect bridge network_example\n",
    "docker network connect none network_example\n",
    "\n",
    "echo\n",
    "echo\n",
    "echo \"=====none NETWORK=====\"\n",
    "echo \"-----network name-----\"\n",
    "docker inspect -f \\\n",
    "    '{{range $key, $value := .NetworkSettings.Networks}}{{$key}} {{end}}' \\\n",
    "    network_example\n",
    "echo \"-----curl to nginx-----\"\n",
    "curl -s localhost:80 | head -n 10\n",
    "\n",
    "docker stop network_example &> /dev/null"
   ]
  },
  {
   "cell_type": "markdown",
   "id": "73cf7495-0a6f-405f-9cdb-3122919fa3bb",
   "metadata": {},
   "source": [
    "### From container to internet\n",
    "\n",
    "Another feature of the `none` network is that it does not have access to the internet. for instance, you can use the `curl` command to fetch data from any website while the docker container is connected to the `bridge` network. however, if you switch the network to `none`, the `curl` command won't work.\n",
    "\n",
    "The script demonstrates this scenario. initially, the container is connected to the `bridge` network, and executing the `curl example.com` command within the container successfully fetches the webpage. but after switching the container to the `none` network, the same `curl` command does not produce any output."
   ]
  },
  {
   "cell_type": "code",
   "execution_count": 3,
   "id": "27a35402-e7fd-4ad1-b4f9-68364e902132",
   "metadata": {},
   "outputs": [
    {
     "name": "stdout",
     "output_type": "stream",
     "text": [
      "=====DEFAULT NETWORK=====\n",
      "-----network name-----\n",
      "bridge \n",
      "-----curl from bridge-----\n",
      "<!doctype html>\n",
      "<html>\n",
      "<head>\n",
      "    <title>Example Domain</title>\n",
      "\n",
      "    <meta charset=\"utf-8\" />\n",
      "    <meta http-equiv=\"Content-type\" content=\"text/html; charset=utf-8\" />\n",
      "    <meta name=\"viewport\" content=\"width=device-width, initial-scale=1\" />\n",
      "    <style type=\"text/css\">\n",
      "    body {\n",
      "\n",
      "\n",
      "=====none NETWORK=====\n",
      "-----network name-----\n",
      "none \n",
      "-----curl from none-----\n"
     ]
    }
   ],
   "source": [
    "%%bash\n",
    "docker run --rm -itd\\\n",
    "    --name network_example\\\n",
    "    nginx &> /dev/null\n",
    "sleep 2\n",
    "\n",
    "echo \"=====DEFAULT NETWORK=====\"\n",
    "echo \"-----network name-----\"\n",
    "docker inspect -f \\\n",
    "    '{{range $key, $value := .NetworkSettings.Networks}}{{$key}} {{end}}' \\\n",
    "    network_example\n",
    "echo \"-----curl from bridge-----\"\n",
    "docker exec network_example curl -s http://example.com/ | head -n 10\n",
    "\n",
    "docker network disconnect bridge network_example\n",
    "docker network connect none network_example\n",
    "\n",
    "echo\n",
    "echo\n",
    "echo \"=====none NETWORK=====\"\n",
    "echo \"-----network name-----\"\n",
    "docker inspect -f \\\n",
    "    '{{range $key, $value := .NetworkSettings.Networks}}{{$key}} {{end}}' \\\n",
    "    network_example\n",
    "echo \"-----curl from none-----\"\n",
    "docker exec network_example curl -s http://example.com/ | head -n 10\n",
    "\n",
    "docker stop network_example &> /dev/null"
   ]
  },
  {
   "cell_type": "markdown",
   "id": "0591200d-7185-4435-980f-136b5f7c3287",
   "metadata": {},
   "source": [
    "## Network `host`\n",
    "\n",
    "Completely removes the container's network isolation, that is, the container shares the network completely with the host."
   ]
  },
  {
   "cell_type": "markdown",
   "id": "a1df4f79-7254-4a01-8ac7-0ac89933e849",
   "metadata": {},
   "source": [
    "### Connect to `host`\n",
    "\n",
    "**Note** you can't connect or disconnect a container to the `host` network. It will cause an error. You can only create containers that are already connected to the `host` network.\n",
    "\n",
    "So the following cell shows what message you will get when you try to connect or disconnect a container to the `host` network."
   ]
  },
  {
   "cell_type": "code",
   "execution_count": 7,
   "id": "0557d8d0-da1f-492e-acbc-6a4adf98c07a",
   "metadata": {},
   "outputs": [
    {
     "name": "stderr",
     "output_type": "stream",
     "text": [
      "Error response from daemon: container cannot be disconnected from host network or connected to host network\n"
     ]
    }
   ],
   "source": [
    "%%bash\n",
    "docker run --rm -itd\\\n",
    "    --name network_example\\\n",
    "    nginx &> /dev/null\n",
    "sleep 2\n",
    "\n",
    "docker network disconnect bridge network_example\n",
    "docker network connect host network_example\n",
    "\n",
    "docker stop network_example &> /dev/null"
   ]
  },
  {
   "cell_type": "markdown",
   "id": "be3a3434-3d5c-43d2-8298-e7311ef9eb27",
   "metadata": {},
   "source": [
    "### Ports with `host` network\n",
    "\n",
    "If you are using the `host` network, you don't need to worry about setting ports for the container because it will share all ports with the host (the computer the container is running on).\n",
    "\n",
    "So, the following code cell starts an nginx container twice without using any specified ports. In the first case, it doesn't specify any network, but in the second case, the `--net host` parameter is used. When `curl localhost:80` is executed in the first case, it doesn't return anything, but in the second case, it returns the nginx welcome page"
   ]
  },
  {
   "cell_type": "code",
   "execution_count": 5,
   "id": "7123267b-5ccc-4138-ac25-cc1508581add",
   "metadata": {},
   "outputs": [
    {
     "name": "stdout",
     "output_type": "stream",
     "text": [
      "=====DEFAULT NETWORK=====\n",
      "-----network name-----\n",
      "bridge \n",
      "-----curl to bridge-----\n",
      "\n",
      "\n",
      "=====host NETWORK=====\n",
      "-----network name-----\n",
      "host \n",
      "-----curl to host-----\n",
      "<!DOCTYPE html>\n",
      "<html>\n",
      "<head>\n",
      "<title>Welcome to nginx!</title>\n",
      "<style>\n",
      "html { color-scheme: light dark; }\n",
      "body { width: 35em; margin: 0 auto;\n",
      "font-family: Tahoma, Verdana, Arial, sans-serif; }\n",
      "</style>\n",
      "</head>\n"
     ]
    }
   ],
   "source": [
    "%%bash\n",
    "docker run --rm -itd\\\n",
    "    --name network_example\\\n",
    "    nginx &> /dev/null\n",
    "sleep 2 \n",
    "\n",
    "echo \"=====DEFAULT NETWORK=====\"\n",
    "echo \"-----network name-----\"\n",
    "docker inspect -f \\\n",
    "    '{{range $key, $value := .NetworkSettings.Networks}}{{$key}} {{end}}' \\\n",
    "    network_example\n",
    "echo \"-----curl to bridge-----\"\n",
    "curl -s localhost:80\n",
    "\n",
    "docker stop network_example &> /dev/null\n",
    "sleep 2 &> /dev/null\n",
    "\n",
    "docker run --rm -itd\\\n",
    "    --name network_example\\\n",
    "    --net host\\\n",
    "    nginx &> /dev/null\n",
    "sleep 2\n",
    "\n",
    "echo\n",
    "echo\n",
    "echo \"=====host NETWORK=====\"\n",
    "echo \"-----network name-----\"\n",
    "docker inspect -f \\\n",
    "    '{{range $key, $value := .NetworkSettings.Networks}}{{$key}} {{end}}' \\\n",
    "    network_example\n",
    "echo \"-----curl to host-----\"\n",
    "curl -s localhost:80 | head -n 10\n",
    "\n",
    "docker stop network_example &> /dev/null"
   ]
  }
 ],
 "metadata": {
  "kernelspec": {
   "display_name": "Python 3 (ipykernel)",
   "language": "python",
   "name": "python3"
  },
  "language_info": {
   "codemirror_mode": {
    "name": "ipython",
    "version": 3
   },
   "file_extension": ".py",
   "mimetype": "text/x-python",
   "name": "python",
   "nbconvert_exporter": "python",
   "pygments_lexer": "ipython3",
   "version": "3.10.12"
  }
 },
 "nbformat": 4,
 "nbformat_minor": 5
}
