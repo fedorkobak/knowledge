{
 "cells": [
  {
   "cell_type": "markdown",
   "id": "4b2b63fa-63f9-4288-9b9b-c6630941c91f",
   "metadata": {},
   "source": [
    "# Local network\n",
    "\n",
    "It's very interesting that you can access the containers you've created from other devices on your local network. It may not be associated with Docker exactly, but with networks in general, but still I am only familiar with the Throw Docker feature."
   ]
  },
  {
   "cell_type": "markdown",
   "id": "e4100c6b-3e4f-4cea-8d40-aa957665e4b9",
   "metadata": {},
   "source": [
    "So we start a container with nginx on port 80 on host."
   ]
  },
  {
   "cell_type": "code",
   "execution_count": 1,
   "id": "5e745c2b-c221-4842-997e-2d38d99d6724",
   "metadata": {
    "vscode": {
     "languageId": "shellscript"
    }
   },
   "outputs": [
    {
     "name": "stdout",
     "output_type": "stream",
     "text": [
      "1f1ed27873110d1110ce588d1555c37f58bc7b5f7a8149f3e52423c0ed7e45db\n"
     ]
    }
   ],
   "source": [
    "docker run --rm -itd --name test_nginx -p 80:80 nginx"
   ]
  },
  {
   "cell_type": "markdown",
   "id": "5dcc52c7-a526-4e00-a243-bc5c52bd455a",
   "metadata": {},
   "source": [
    "Using the `ifconfig` Linux utility, I can check some information about the network. The most interesting part is the section starting with `w`. In the line `inet <ip>` you can find your ip address in the wifi network.\n",
    "\n",
    "**Note** in your run ip can be different."
   ]
  },
  {
   "cell_type": "code",
   "execution_count": 4,
   "id": "ce7a3f42-1b4b-4506-8b8c-e55317ae6287",
   "metadata": {
    "vscode": {
     "languageId": "shellscript"
    }
   },
   "outputs": [
    {
     "name": "stdout",
     "output_type": "stream",
     "text": [
      "docker0: flags=4163<UP,BROADCAST,RUNNING,MULTICAST>  mtu 1500\n",
      "        inet 172.17.0.1  netmask 255.255.0.0  broadcast 172.17.255.255\n",
      "        inet6 fe80::42:beff:fe7c:9302  prefixlen 64  scopeid 0x20<link>\n",
      "        ether 02:42:be:7c:93:02  txqueuelen 0  (Ethernet)\n",
      "        RX packets 4238  bytes 246696 (246.6 KB)\n",
      "        RX errors 0  dropped 0  overruns 0  frame 0\n",
      "        TX packets 6424  bytes 38000465 (38.0 MB)\n",
      "        TX errors 0  dropped 0 overruns 0  carrier 0  collisions 0\n",
      "\n",
      "eno1: flags=4099<UP,BROADCAST,MULTICAST>  mtu 1500\n",
      "        ether 88:ae:dd:0b:ae:af  txqueuelen 1000  (Ethernet)\n",
      "        RX packets 0  bytes 0 (0.0 B)\n",
      "        RX errors 0  dropped 0  overruns 0  frame 0\n",
      "        TX packets 0  bytes 0 (0.0 B)\n",
      "        TX errors 0  dropped 0 overruns 0  carrier 0  collisions 0\n",
      "        device interrupt 16  memory 0xd6300000-d6320000  \n",
      "\n",
      "lo: flags=73<UP,LOOPBACK,RUNNING>  mtu 65536\n",
      "        inet 127.0.0.1  netmask 255.0.0.0\n",
      "        inet6 ::1  prefixlen 128  scopeid 0x10<host>\n",
      "        loop  txqueuelen 1000  (Local Loopback)\n",
      "        RX packets 7688  bytes 1587196 (1.5 MB)\n",
      "        RX errors 0  dropped 0  overruns 0  frame 0\n",
      "        TX packets 7688  bytes 1587196 (1.5 MB)\n",
      "        TX errors 0  dropped 0 overruns 0  carrier 0  collisions 0\n",
      "\n",
      "vetheee0b29: flags=4163<UP,BROADCAST,RUNNING,MULTICAST>  mtu 1500\n",
      "        inet6 fe80::cdd:11ff:feef:86d7  prefixlen 64  scopeid 0x20<link>\n",
      "        ether 0e:dd:11:ef:86:d7  txqueuelen 0  (Ethernet)\n",
      "        RX packets 0  bytes 0 (0.0 B)\n",
      "        RX errors 0  dropped 0  overruns 0  frame 0\n",
      "        TX packets 25  bytes 3124 (3.1 KB)\n",
      "        TX errors 0  dropped 0 overruns 0  carrier 0  collisions 0\n",
      "\n",
      "wlp0s20f3: flags=4163<UP,BROADCAST,RUNNING,MULTICAST>  mtu 1500\n",
      "        inet 192.168.100.19  netmask 255.255.255.0  broadcast 192.168.100.255\n",
      "        inet6 fe80::372e:c014:efa:1435  prefixlen 64  scopeid 0x20<link>\n",
      "        ether c4:75:ab:c0:9b:df  txqueuelen 1000  (Ethernet)\n",
      "        RX packets 397644  bytes 535358391 (535.3 MB)\n",
      "        RX errors 0  dropped 0  overruns 0  frame 0\n",
      "        TX packets 79141  bytes 23420548 (23.4 MB)\n",
      "        TX errors 0  dropped 0 overruns 0  carrier 0  collisions 0\n",
      "\n"
     ]
    }
   ],
   "source": [
    "ifconfig"
   ]
  },
  {
   "cell_type": "markdown",
   "id": "ada4ee17-6efd-45a9-b7db-02e81060b20d",
   "metadata": {},
   "source": [
    "You can connect any other device to this network and you'll find that when you enter a higher ip you'll get a nginx \"welcome\" page.\n",
    "\n",
    "<img src=\"local_network_files/phone_nginx.jpg\">"
   ]
  },
  {
   "cell_type": "code",
   "execution_count": 5,
   "id": "35668076-eb32-4b6c-8e5c-c8d9ae5b5c06",
   "metadata": {
    "vscode": {
     "languageId": "shellscript"
    }
   },
   "outputs": [],
   "source": [
    "docker stop test_nginx &> /dev/null"
   ]
  }
 ],
 "metadata": {
  "kernelspec": {
   "display_name": "Bash",
   "language": "bash",
   "name": "bash"
  },
  "language_info": {
   "codemirror_mode": "shell",
   "file_extension": ".sh",
   "mimetype": "text/x-sh",
   "name": "bash"
  }
 },
 "nbformat": 4,
 "nbformat_minor": 5
}
