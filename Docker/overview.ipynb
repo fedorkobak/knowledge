{
 "cells": [
  {
   "cell_type": "markdown",
   "metadata": {},
   "source": [
    "# Overview\n",
    "\n",
    "This page is an overview of Docker's main features and entities. So you can easily get familiar with what Docker is in general."
   ]
  },
  {
   "cell_type": "markdown",
   "metadata": {},
   "source": [
    "## Instalation and configuration\n",
    "\n",
    "1. <a href=\"https://docs.docker.com/engine/install/\">Docker instalation</a> USE ONLY COMMANDS PROVIDED BY DOCKER DOCUMENTATION;\n",
    "2. <a href=\"https://docs.docker.com/engine/install/linux-postinstall/\"> May be useful after installing</a>;\n",
    "    - How not to always put `sudo` before the `docker` command;\n",
    "    - Something still incomprehensible..\n",
    "3. <a href=\"https://docs.docker.com/config/daemon/start/\"> Start daemon </a> `sudo systemctl start docker`;\n",
    "4. <a href=\"https://lab.karpov.courses/learning/102/\"> Docker cource by karpovcources</a>."
   ]
  },
  {
   "cell_type": "markdown",
   "metadata": {},
   "source": [
    "## Images\n",
    "\n",
    "Image is a template that is used for creating docker containers."
   ]
  },
  {
   "cell_type": "markdown",
   "metadata": {},
   "source": [
    "**List available images.**"
   ]
  },
  {
   "cell_type": "code",
   "execution_count": 1,
   "metadata": {},
   "outputs": [
    {
     "name": "stdout",
     "output_type": "stream",
     "text": [
      "REPOSITORY                    TAG       IMAGE ID       CREATED        SIZE\n",
      "fastapi_experiment            latest    319ed841174c   2 hours ago    1.04GB\n",
      "httpd                         latest    c0c20df5e7be   3 days ago     148MB\n",
      "python                        3.11      e9a675734068   10 days ago    1.01GB\n",
      "localhost:5001/wine_image     latest    70b93dd1b320   4 weeks ago    3.72GB\n",
      "wine_image                    latest    70b93dd1b320   4 weeks ago    3.72GB\n",
      "ghcr.io/mlflow/mlflow         latest    ed826ca3d0c7   4 weeks ago    793MB\n",
      "ubuntu                        20.04     5f5250218d28   4 weeks ago    72.8MB\n",
      "gcr.io/k8s-minikube/kicbase   v0.0.44   5a6e59a9bdc0   8 weeks ago    1.26GB\n",
      "registry                      latest    d6b2c32a0f14   9 months ago   25.4MB\n"
     ]
    }
   ],
   "source": [
    "!docker images"
   ]
  },
  {
   "cell_type": "markdown",
   "metadata": {},
   "source": [
    "**Pull image from dockerhub**\n",
    "\n",
    "There is a special resource where really free to use docker images are stored - [dockerhub](https://hub.docker.com/). Using the `docker pull` command, you can load any image you like."
   ]
  },
  {
   "cell_type": "markdown",
   "metadata": {},
   "source": [
    "The following cell shows process of pulling `hello-world` docker image and then show that it was added to the list of available docker images."
   ]
  },
  {
   "cell_type": "code",
   "execution_count": 5,
   "metadata": {},
   "outputs": [
    {
     "name": "stdout",
     "output_type": "stream",
     "text": [
      "=====image pulling=====\n",
      "Using default tag: latest\n",
      "latest: Pulling from library/hello-world\n",
      "c1ec31eb5944: Pulling fs layer\n",
      "c1ec31eb5944: Download complete\n",
      "c1ec31eb5944: Pull complete\n",
      "Digest: sha256:94323f3e5e09a8b9515d74337010375a456c909543e1ff1538f5116d38ab3989\n",
      "Status: Downloaded newer image for hello-world:latest\n",
      "docker.io/library/hello-world:latest\n",
      "=====image displaying=====\n",
      "hello-world                   latest    d2c94e258dcb   14 months ago   13.3kB\n"
     ]
    }
   ],
   "source": [
    "%%bash\n",
    "echo \"=====image pulling=====\"\n",
    "docker pull hello-world\n",
    "echo \"=====image displaying=====\"\n",
    "docker images | grep hello"
   ]
  },
  {
   "cell_type": "markdown",
   "metadata": {},
   "source": [
    "**Remove image**\n",
    "\n",
    "You can use the `docker rmi` command to remove any image you don't want in your image store. The following cell shows the process of removing the docker image we created in the previous example."
   ]
  },
  {
   "cell_type": "code",
   "execution_count": 6,
   "metadata": {},
   "outputs": [
    {
     "name": "stdout",
     "output_type": "stream",
     "text": [
      "Untagged: hello-world:latest\n",
      "Untagged: hello-world@sha256:94323f3e5e09a8b9515d74337010375a456c909543e1ff1538f5116d38ab3989\n",
      "Deleted: sha256:d2c94e258dcb3c5ac2798d32e1249e42ef01cba4841c2234249495f87264ac5a\n",
      "Deleted: sha256:ac28800ec8bb38d5c35b49d45a6ac4777544941199075dff8c4eb63e093aa81e\n"
     ]
    }
   ],
   "source": [
    "!docker rmi hello-world"
   ]
  },
  {
   "cell_type": "markdown",
   "metadata": {},
   "source": [
    "## Containers\n",
    "\n",
    "A container is a standard unit of software that packages up code and all its dependencies so the application runs quickly and reliably from one computing environment to another."
   ]
  },
  {
   "cell_type": "markdown",
   "metadata": {},
   "source": [
    "**Run container**\n",
    "\n",
    "You must use the `docker run` command."
   ]
  },
  {
   "cell_type": "markdown",
   "metadata": {},
   "source": [
    "In the following example we have created a Ubuntu container. Later, we'll show you that it's a fully functional Ubuntu instance that just runs on your computer - later we'll show it.\n",
    "\n",
    "Some additional options are used here:\n",
    "\n",
    "- `itd` allows the container not to stop immediately after starting.\n",
    "- `name` allows you to specify the name of the container."
   ]
  },
  {
   "cell_type": "code",
   "execution_count": 20,
   "metadata": {},
   "outputs": [
    {
     "name": "stdout",
     "output_type": "stream",
     "text": [
      "86551254f53a0bb1b438fb4ad2d38347d475e75c8c43750adca26e508c4de3cf\n"
     ]
    }
   ],
   "source": [
    "!docker run -itd --name show_ubuntu ubuntu:20.04"
   ]
  },
  {
   "cell_type": "markdown",
   "metadata": {},
   "source": [
    "**List containers**"
   ]
  },
  {
   "cell_type": "code",
   "execution_count": 18,
   "metadata": {},
   "outputs": [
    {
     "name": "stdout",
     "output_type": "stream",
     "text": [
      "CONTAINER ID   IMAGE          COMMAND       CREATED         STATUS        PORTS     NAMES\n",
      "8cc74ea6e5ac   ubuntu:20.04   \"/bin/bash\"   2 seconds ago   Up 1 second             show_ubuntu\n"
     ]
    }
   ],
   "source": [
    "!docker ps"
   ]
  },
  {
   "cell_type": "markdown",
   "metadata": {},
   "source": [
    "The result is the docker container we created in the previous cell."
   ]
  },
  {
   "cell_type": "markdown",
   "metadata": {},
   "source": [
    "**Stop container**\n",
    "\n",
    "You can stop a docker container with the `docker stop` command. This will stop execution of the container, but not delete it, so you can reload it later."
   ]
  },
  {
   "cell_type": "markdown",
   "metadata": {},
   "source": [
    "The following cell applies a `docekr stop` to the container we have just created."
   ]
  },
  {
   "cell_type": "code",
   "execution_count": 21,
   "metadata": {},
   "outputs": [
    {
     "name": "stdout",
     "output_type": "stream",
     "text": [
      "show_ubuntu\n",
      "=====docker ps=====\n",
      "CONTAINER ID   IMAGE     COMMAND   CREATED   STATUS    PORTS     NAMES\n",
      "=====docker ps -a=====\n",
      "CONTAINER ID   IMAGE          COMMAND       CREATED          STATUS                                PORTS     NAMES\n",
      "86551254f53a   ubuntu:20.04   \"/bin/bash\"   53 seconds ago   Exited (137) Less than a second ago             show_ubuntu\n"
     ]
    }
   ],
   "source": [
    "%%bash\n",
    "docker stop show_ubuntu\n",
    "\n",
    "echo \"=====docker ps=====\"\n",
    "docker ps\n",
    "echo \"=====docker ps -a=====\"\n",
    "docker ps -a"
   ]
  },
  {
   "cell_type": "markdown",
   "metadata": {},
   "source": [
    "As you can see, it's not listed in the `docker ps` output - by default it only prints active running containers. But you can still see containers in the `docker ps -a` command - which prints all available images."
   ]
  },
  {
   "cell_type": "markdown",
   "metadata": {},
   "source": [
    "**Remove container**\n",
    "\n",
    "You can kill the container and everything associated with it using the `docker rm` command."
   ]
  },
  {
   "cell_type": "markdown",
   "metadata": {},
   "source": [
    "In the foolowing cell we applied `docker rm` to the container we used as the example for this section, and then printed `docker ps -a`."
   ]
  },
  {
   "cell_type": "code",
   "execution_count": 22,
   "metadata": {},
   "outputs": [
    {
     "name": "stdout",
     "output_type": "stream",
     "text": [
      "show_ubuntu\n",
      "CONTAINER ID   IMAGE     COMMAND   CREATED   STATUS    PORTS     NAMES\n"
     ]
    }
   ],
   "source": [
    "%%bash\n",
    "docker rm show_ubuntu\n",
    "docker ps -a"
   ]
  },
  {
   "cell_type": "markdown",
   "metadata": {},
   "source": [
    "As a result, we can't see the sample container - it has been completely deleted from the system."
   ]
  },
  {
   "cell_type": "markdown",
   "metadata": {},
   "source": [
    "## Volumes\n",
    "\n",
    "Volume is place at the computer storage that can be counted to the docker container - so they share that memory any change."
   ]
  },
  {
   "cell_type": "markdown",
   "metadata": {},
   "source": [
    "## Networks"
   ]
  }
 ],
 "metadata": {
  "kernelspec": {
   "display_name": "venv",
   "language": "python",
   "name": "python3"
  },
  "language_info": {
   "codemirror_mode": {
    "name": "ipython",
    "version": 3
   },
   "file_extension": ".py",
   "mimetype": "text/x-python",
   "name": "python",
   "nbconvert_exporter": "python",
   "pygments_lexer": "ipython3",
   "version": "3.10.14"
  }
 },
 "nbformat": 4,
 "nbformat_minor": 2
}
