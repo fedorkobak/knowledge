{
 "cells": [
  {
   "cell_type": "markdown",
   "id": "cecd3321-1cce-4e43-874d-f3b4183914cf",
   "metadata": {},
   "source": [
    "# Volumes"
   ]
  },
  {
   "cell_type": "markdown",
   "id": "26faf074-436d-42f4-9d4f-80277e1d1534",
   "metadata": {},
   "source": [
    "In order to connect a folder on the host to the container, use the `-v` option of the docker run command. The full syntax is as follows:\n",
    "\n",
    "```\n",
    "docker run \\\n",
    "    -v <older on host1>:<folder in container1> \\\n",
    "    -v <older on host2>:<folder in container2> \\\n",
    "    ...\n",
    "```\n",
    "\n",
    "By \\<folder on hosti\\> it can be understood as:\n",
    "\n",
    "- A path to some folder on the host, this is commonly referred to as **bind mount**, and is used more commonly to pass something specific to that host into the container;\n",
    "- A **volume**, this is the preferred mount method, and is used to store information that is \"created\" by the container; it is essentially the same as a folder on the host but controlled by a docker."
   ]
  },
  {
   "cell_type": "markdown",
   "id": "32224333-f637-4afd-a618-80697cfb0bb5",
   "metadata": {},
   "source": [
    "# Bind mount\n",
    "\n",
    "In the following example I create folder `temp_folder`, put it into container named `temp_folder_inc_count`. From container create file there, exited from container and even deleted it, I can get file from host folder."
   ]
  },
  {
   "cell_type": "code",
   "execution_count": 3,
   "id": "04114d4a-0c6b-4c61-b9c8-9a9b2a4d7fb8",
   "metadata": {},
   "outputs": [
    {
     "name": "stdout",
     "output_type": "stream",
     "text": [
      "'hello from container'\n"
     ]
    }
   ],
   "source": [
    "%%bash\n",
    "cd filesystem_example\n",
    "mkdir temp_folder\n",
    "\n",
    "docker run \\\n",
    "    -v $(pwd)/temp_folder:/temp_folder_in_cont \\\n",
    "    --rm -itd --name temp_example \\\n",
    "    ubuntu &> /dev/null\n",
    "docker exec temp_example bash -c \"echo \\'hello from container\\' >> temp_folder_in_cont/hello\"\n",
    "docker stop temp_example &> /dev/null\n",
    "\n",
    "cat temp_folder/hello\n",
    "rm -r temp_folder"
   ]
  },
  {
   "cell_type": "markdown",
   "id": "6a75dd97-de29-434a-a405-31bee50a0047",
   "metadata": {},
   "source": [
    "# Volume\n",
    "\n",
    "Is a file that resides on the host and doesn't depend on an image, but depends on Docker. Its **primary purpose** is to store data."
   ]
  },
  {
   "cell_type": "markdown",
   "id": "cc181413-2891-4d1e-94af-16d06091fdfd",
   "metadata": {},
   "source": [
    "### `docker volume` service\n",
    "\n",
    "`docker volume` is a separate service for managing volumes.\n",
    "\n",
    "- `ls` - show volumes;\n",
    "- `create` - create volume;\n",
    "- `rm` - remove volume;\n",
    "- `prune` - remove volumes not used in any container;\n",
    "- `isnpect` - allows you to retrieve information about volume (including where it lies on the host)."
   ]
  },
  {
   "cell_type": "markdown",
   "id": "6d377db4-61d5-47b1-9ba3-d8bf3a0e3a92",
   "metadata": {},
   "source": [
    "The following example shows how to use volumes. Step-by-step description:\n",
    "- `temp_volume` is created;\n",
    "- ubuntu container named `example_container` running, and volume created earlier attached to container as `temp_volume_cont` folder;\n",
    "- file writes to the `temp_volume_cont` from container;\n",
    "- `example_container` stops and removes automatically (because the `--rm' option was setted);\n",
    "- next, `inspect` shows where you can find the volume on the host (`Mountpoint` directory), but I can't get access from Jupyter - you should have root privileges for this folder;\n",
    "- `example_container` was started in the same way as before;\n",
    "- and in the folder associated with the container, you can still find the file created in the previous steps."
   ]
  },
  {
   "cell_type": "code",
   "execution_count": 1,
   "id": "e9d955b8-ead0-4c1a-b960-83ef3a227290",
   "metadata": {},
   "outputs": [
    {
     "name": "stdout",
     "output_type": "stream",
     "text": [
      "[\n",
      "    {\n",
      "        \"CreatedAt\": \"2023-06-03T19:15:02+03:00\",\n",
      "        \"Driver\": \"local\",\n",
      "        \"Labels\": null,\n",
      "        \"Mountpoint\": \"/var/lib/docker/volumes/temp_volume/_data\",\n",
      "        \"Name\": \"temp_volume\",\n",
      "        \"Options\": null,\n",
      "        \"Scope\": \"local\"\n",
      "    }\n",
      "]\n",
      "'hello from volume'\n"
     ]
    }
   ],
   "source": [
    "%%bash\n",
    "docker volume create temp_volume &> /dev/null\n",
    "\n",
    "docker run \\\n",
    "    -v temp_volume:/temp_volume_cont\\\n",
    "    --rm --name example_container -itd\\\n",
    "    ubuntu &> /dev/null\n",
    "docker exec example_container bash -c \"echo \\'hello from volume\\' >> temp_volume_cont/hello\"\n",
    "docker stop example_container &> /dev/null\n",
    "\n",
    "docker volume inspect temp_volume\n",
    "\n",
    "docker run \\\n",
    "    -v temp_volume:/temp_volume_cont\\\n",
    "    --rm --name example_container -itd\\\n",
    "    ubuntu &> /dev/null\n",
    "docker exec example_container cat temp_volume_cont/hello\n",
    "docker stop example_container &> /dev/null\n",
    "\n",
    "docker volume rm temp_volume &> /dev/null"
   ]
  },
  {
   "cell_type": "markdown",
   "id": "2e85a746-86bb-4309-bca9-2f4291409db9",
   "metadata": {},
   "source": [
    "# Access"
   ]
  },
  {
   "cell_type": "markdown",
   "id": "8d3e7a40-4bf2-483d-a56e-f8d1e84983ea",
   "metadata": {},
   "source": [
    "### Containers always have root{#sec-containers_always_have_root}\n",
    "\n",
    "Even if host has root access to some folder/file, **container always works under root**. So if you mount a folder/file in this way, it may lead to unauthorised changes. The following cell contains the example."
   ]
  },
  {
   "cell_type": "code",
   "execution_count": 3,
   "id": "dea6debd-d90a-42cf-9f5f-0de907277cfd",
   "metadata": {},
   "outputs": [
    {
     "name": "stdout",
     "output_type": "stream",
     "text": [
      "=====From host=====\n"
     ]
    },
    {
     "name": "stderr",
     "output_type": "stream",
     "text": [
      "cat: secret_dir/secret_file: Permission denied\n",
      "rm: cannot remove 'secret_dir/secret_file': Permission denied\n"
     ]
    },
    {
     "name": "stdout",
     "output_type": "stream",
     "text": [
      "=====From docker====\n",
      "super secret info\n"
     ]
    }
   ],
   "source": [
    "%%bash\n",
    "cd filesystem_example\n",
    "\n",
    "# creating fodler and file with super secret message\n",
    "mkdir secret_dir\n",
    "touch secret_dir/secret_file\n",
    "echo \"super secret info\" > secret_dir/secret_file\n",
    "# Close access to the folder\n",
    "chmod 000 secret_dir\n",
    "\n",
    "\n",
    "# make sure we can't access or delte the file\n",
    "echo \"=====From host=====\"\n",
    "cat secret_dir/secret_file\n",
    "rm secret_dir/secret_file\n",
    "\n",
    "\n",
    "# run container and mount created folder\n",
    "docker run --rm -itd --name perm_ex\\\n",
    "    -v $(pwd)/secret_dir:/experimental/secret_dir \\\n",
    "    ubuntu &> /dev/null\n",
    "# and voila ealily extract secret info\n",
    "echo \"=====From docker====\"\n",
    "docker exec perm_ex cat experimental/secret_dir/secret_file\n",
    "# or even can delete secret file\n",
    "docker exec perm_ex rm experimental/secret_dir/secret_file\n",
    "docker exec perm_ex ls experimental/secret_dir\n",
    "\n",
    "docker stop perm_ex &> /dev/null"
   ]
  },
  {
   "cell_type": "markdown",
   "id": "3a4b7956-7b99-4230-8a34-366d481bce3e",
   "metadata": {},
   "source": [
    "### `ro` (read only) option\n",
    "\n",
    "Continuing from the previous section, note that when you move the folder to the container, you can set the `ro` option, which will prevent the container from modifying the file."
   ]
  },
  {
   "cell_type": "code",
   "execution_count": 1,
   "id": "8a7a73ab-7b43-4843-b27a-691204d0d365",
   "metadata": {},
   "outputs": [
    {
     "name": "stdout",
     "output_type": "stream",
     "text": [
      "some data\n"
     ]
    }
   ],
   "source": [
    "%%bash\n",
    "echo \"some data\" > ro_ex\n",
    "# running container with ro option\n",
    "docker run --rm -idt --name ro_ex\\\n",
    "    -v $(pwd)/ro_ex:/experimental/ro_ex:ro\\\n",
    "    ubuntu &> /dev/null\n",
    "# change the file\n",
    "docker exec ro_ex bash -c \"echo \\\"new some data\\\" > ro_ex\"\n",
    "# print new file\n",
    "cat ro_ex\n",
    "\n",
    "docker stop ro_ex &> /dev/null\n",
    "rm -r ro_ex"
   ]
  },
  {
   "cell_type": "markdown",
   "id": "de502aa0-c29d-4032-9bce-54b3bf67058b",
   "metadata": {},
   "source": [
    "So I tried to change file from container, but even after operation file sill have initial message."
   ]
  },
  {
   "cell_type": "markdown",
   "id": "a9314758-12f2-4e62-af18-616f0fed1b11",
   "metadata": {},
   "source": [
    "### Runnig with setting user `-u`{sec-run_u_option}\n",
    "\n",
    "The problem with access can be solved by setting the user when starting the container (`-u` option). Using the example from the section [\"Containers always have root\"](#sec-containers_always_have_root), you can do this."
   ]
  },
  {
   "cell_type": "code",
   "execution_count": 3,
   "id": "9fdeb2c1-8009-450c-8e35-61718980ea69",
   "metadata": {},
   "outputs": [
    {
     "name": "stderr",
     "output_type": "stream",
     "text": [
      "mkdir: cannot create directory ‘secret_dir’: File exists\n",
      "touch: cannot touch 'secret_dir/secret_file': Permission denied\n",
      "bash: line 6: secret_dir/secret_file: Permission denied\n"
     ]
    },
    {
     "name": "stdout",
     "output_type": "stream",
     "text": [
      "=====Trying to access from a container=====\n"
     ]
    },
    {
     "name": "stderr",
     "output_type": "stream",
     "text": [
      "cat: secret_dir/secret_file: No such file or directory\n"
     ]
    }
   ],
   "source": [
    "%%bash\n",
    "cd filesystem_example\n",
    "# создаем папку и в ней файл и даже в него записываем\n",
    "# сверхсекретное сообщение\n",
    "mkdir secret_dir\n",
    "touch secret_dir/secret_file\n",
    "echo \"super secret info\" > secret_dir/secret_file\n",
    "# закрываю доступ в папку\n",
    "chmod 000 secret_dir\n",
    "\n",
    "# поднимаем контейнер и монтируем в него данную папку\n",
    "docker run --rm -itd --name perm_ex -u=1000\\\n",
    "    -v $(pwd)/secret_dir:/experimental/secret_dir \\\n",
    "    ubuntu &> /dev/null\n",
    "echo \"=====Trying to access from a container=====\"\n",
    "docker exec perm_ex cat secret_dir/secret_file\n",
    "\n",
    "docker stop perm_ex &> /dev/null"
   ]
  },
  {
   "cell_type": "markdown",
   "id": "22d172b3-bfe2-4a38-8ab3-6f1ae3153102",
   "metadata": {},
   "source": [
    "### Mounting `.dockerignore` files\n",
    "\n",
    "Even if you mount the file described in `.dockerignore`, we will still have it in the container."
   ]
  },
  {
   "cell_type": "code",
   "execution_count": 15,
   "id": "670e6e66-e62f-41ec-9b54-81666703bbef",
   "metadata": {},
   "outputs": [
    {
     "name": "stdout",
     "output_type": "stream",
     "text": [
      "=====.dockerignore=====\n"
     ]
    },
    {
     "name": "stderr",
     "output_type": "stream",
     "text": [
      "cat: .dockerignore: No such file or directory\n"
     ]
    },
    {
     "name": "stdout",
     "output_type": "stream",
     "text": [
      "=====ignore-file из контейнера=====\n"
     ]
    },
    {
     "name": "stderr",
     "output_type": "stream",
     "text": [
      "cat: app/ignore_file.txt: No such file or directory\n"
     ]
    }
   ],
   "source": [
    "%%bash\n",
    "cd filesystem_example\n",
    "mkdir app\n",
    "echo \"message in temp_file.txt\" > app/temp_file.txt\n",
    "echo \"=====.dockerignore=====\"\n",
    "echo \"app/temp_file.txt\" > .dockerignore\n",
    "cat .dockerignore\n",
    "\n",
    "# запускаем контейнер монтируя файл, который указан в .dockerignore\n",
    "docker run --rm -itd --name ignore_ex\\\n",
    "    -v $(pwd)/app:/app\\\n",
    "    ubuntu &> /dev/null\n",
    "\n",
    "echo \"=====ignore-file из контейнера=====\"\n",
    "# убеждаемся, что наш секретный файл преспокойно сидит в контейнере\n",
    "docker exec ignore_ex cat app/ignore_file.txt\n",
    "\n",
    "docker stop ignore_ex &> /dev/null\n",
    "rm -r app\n",
    "rm .dockerignore"
   ]
  }
 ],
 "metadata": {
  "kernelspec": {
   "display_name": "Python 3 (ipykernel)",
   "language": "python",
   "name": "python3"
  },
  "language_info": {
   "codemirror_mode": {
    "name": "ipython",
    "version": 3
   },
   "file_extension": ".py",
   "mimetype": "text/x-python",
   "name": "python",
   "nbconvert_exporter": "python",
   "pygments_lexer": "ipython3",
   "version": "3.10.6"
  }
 },
 "nbformat": 4,
 "nbformat_minor": 5
}
