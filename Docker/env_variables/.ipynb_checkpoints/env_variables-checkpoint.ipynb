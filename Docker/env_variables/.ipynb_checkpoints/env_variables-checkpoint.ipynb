{
 "cells": [
  {
   "attachments": {},
   "cell_type": "markdown",
   "metadata": {},
   "source": [
    "**Исопльзование переменных окружения в docker**"
   ]
  },
  {
   "attachments": {},
   "cell_type": "markdown",
   "metadata": {},
   "source": [
    "# Дисклеймер\n",
    "\n",
    "Переменные окружения это некоторые переменные заданные в систете. Так, например в linux:"
   ]
  },
  {
   "cell_type": "code",
   "execution_count": 1,
   "metadata": {},
   "outputs": [
    {
     "name": "stdout",
     "output_type": "stream",
     "text": [
      "/home/fedor\n"
     ]
    }
   ],
   "source": [
    "%%bash\n",
    "echo $HOME"
   ]
  },
  {
   "attachments": {},
   "cell_type": "markdown",
   "metadata": {},
   "source": [
    "Интерестно, то что к этим переменным окружения имеют доступ и другие программы, например, интерпиртатор python:"
   ]
  },
  {
   "cell_type": "code",
   "execution_count": 2,
   "metadata": {},
   "outputs": [
    {
     "data": {
      "text/plain": [
       "'/home/fedor'"
      ]
     },
     "execution_count": 2,
     "metadata": {},
     "output_type": "execute_result"
    }
   ],
   "source": [
    "import os\n",
    "os.environ.get(\"HOME\")"
   ]
  },
  {
   "attachments": {},
   "cell_type": "markdown",
   "metadata": {},
   "source": [
    "# Через dockerfile - комманда `ENV`\n",
    "\n",
    "Для задания переменной окружения в docker file можно использовать команду `ENV`. Все контейнеры, поднятые на основе этого dockerfile, получат эту переменную окружения.\n",
    "\n",
    "Так например dockerfile созданный на основе dockerfile:\n",
    "```\n",
    "FROM ubuntu\n",
    "ENV FEDOR_TEST_VAR=\"hello\"\n",
    "```\n",
    "\n",
    "Поведет себя следующим обрзом:"
   ]
  },
  {
   "cell_type": "code",
   "execution_count": 4,
   "metadata": {},
   "outputs": [
    {
     "name": "stdout",
     "output_type": "stream",
     "text": [
      "2b5fdaf40e5ac4a8d27b8a4839b622e810b5e147dfb59562018be350d776ac2f\n",
      "hello\n",
      "env_example\n"
     ]
    }
   ],
   "source": [
    "%%bash\n",
    "docker run -itd --rm --name env_example ex_docker_image\n",
    "docker exec env_example bash -c \"echo \\$FEDOR_TEST_VAR\"\n",
    "docker stop env_example"
   ]
  }
 ],
 "metadata": {
  "kernelspec": {
   "display_name": "Python 3 (ipykernel)",
   "language": "python",
   "name": "python3"
  },
  "language_info": {
   "codemirror_mode": {
    "name": "ipython",
    "version": 3
   },
   "file_extension": ".py",
   "mimetype": "text/x-python",
   "name": "python",
   "nbconvert_exporter": "python",
   "pygments_lexer": "ipython3",
   "version": "3.10.6"
  }
 },
 "nbformat": 4,
 "nbformat_minor": 4
}
