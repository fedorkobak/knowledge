{
 "cells": [
  {
   "cell_type": "markdown",
   "id": "5ef144f1-96fb-441c-8aa0-68d9d4aa332a",
   "metadata": {},
   "source": [
    "# Ports"
   ]
  },
  {
   "cell_type": "markdown",
   "id": "b317951c-318e-4a7d-a226-812f4e5f8d61",
   "metadata": {},
   "source": [
    "## Set port for container"
   ]
  },
  {
   "cell_type": "markdown",
   "id": "e85ebd69-27a0-4cf8-88ec-de8ee495250c",
   "metadata": {},
   "source": [
    "You can set port using the following syntax `run ... -p <port on host>:<port on container> ...`.\n",
    "\n",
    "To show how it works, I need some specific Python libraries defined in the following cell."
   ]
  },
  {
   "cell_type": "code",
   "execution_count": 17,
   "id": "2d17a3d6-a469-4f0b-91df-2cc1cb63192a",
   "metadata": {},
   "outputs": [],
   "source": [
    "import requests\n",
    "from requests import ConnectionError\n",
    "from IPython.display import HTML"
   ]
  },
  {
   "cell_type": "markdown",
   "id": "ffa51d90-468b-455e-a6d0-592ebe869d65",
   "metadata": {},
   "source": [
    "Two following cells almost the same: \n",
    "\n",
    "- Start the `nginx` container;\n",
    "- Try to connect to the `http://localhost:80`;\n",
    "- Catch `ConnectionError` if it occurs;\n",
    "- If connection goes fine, then display anwer as HTML.\n",
    "\n",
    "But in the first example the `-p 80:80` option was not used and in the second example it was. It is a connection error in the first cell and a welcom message from nginx in the second."
   ]
  },
  {
   "cell_type": "code",
   "execution_count": 19,
   "id": "71768cb2-400d-4c33-a25d-a1ba1ff673e0",
   "metadata": {},
   "outputs": [
    {
     "name": "stdout",
     "output_type": "stream",
     "text": [
      "Connection error!!!\n"
     ]
    }
   ],
   "source": [
    "!docker run --rm -d \\\n",
    "    --name test_nginx \\\n",
    "    nginx &> /dev/null\n",
    "\n",
    "try:\n",
    "    req_res = requests.get(\"http://localhost:80\")\n",
    "    display(HTML(req_res.content.decode(\"utf-8\")))\n",
    "except ConnectionError:\n",
    "    print(\"Connection error!!!\")\n",
    "    \n",
    "\n",
    "!docker stop test_nginx &> /dev/null"
   ]
  },
  {
   "cell_type": "code",
   "execution_count": 22,
   "id": "19eec127-6cf1-48b8-be85-f2d0a540b924",
   "metadata": {},
   "outputs": [
    {
     "data": {
      "text/html": [
       "<!DOCTYPE html>\n",
       "<html>\n",
       "<head>\n",
       "<title>Welcome to nginx!</title>\n",
       "<style>\n",
       "html { color-scheme: light dark; }\n",
       "body { width: 35em; margin: 0 auto;\n",
       "font-family: Tahoma, Verdana, Arial, sans-serif; }\n",
       "</style>\n",
       "</head>\n",
       "<body>\n",
       "<h1>Welcome to nginx!</h1>\n",
       "<p>If you see this page, the nginx web server is successfully installed and\n",
       "working. Further configuration is required.</p>\n",
       "\n",
       "<p>For online documentation and support please refer to\n",
       "<a href=\"http://nginx.org/\">nginx.org</a>.<br/>\n",
       "Commercial support is available at\n",
       "<a href=\"http://nginx.com/\">nginx.com</a>.</p>\n",
       "\n",
       "<p><em>Thank you for using nginx.</em></p>\n",
       "</body>\n",
       "</html>\n"
      ],
      "text/plain": [
       "<IPython.core.display.HTML object>"
      ]
     },
     "metadata": {},
     "output_type": "display_data"
    }
   ],
   "source": [
    "!docker run --rm -d \\\n",
    "    --name test_nginx \\\n",
    "    -p 80:80 \\\n",
    "    nginx &> /dev/null\n",
    "\n",
    "try:\n",
    "    req_res = requests.get(\"http://localhost:80\")\n",
    "    display(HTML(req_res.content.decode(\"utf-8\")))\n",
    "except ConnectionError:\n",
    "    print(\"Connection error!!!\")\n",
    "    \n",
    "\n",
    "!docker stop test_nginx &> /dev/null"
   ]
  }
 ],
 "metadata": {
  "kernelspec": {
   "display_name": "Python 3 (ipykernel)",
   "language": "python",
   "name": "python3"
  },
  "language_info": {
   "codemirror_mode": {
    "name": "ipython",
    "version": 3
   },
   "file_extension": ".py",
   "mimetype": "text/x-python",
   "name": "python",
   "nbconvert_exporter": "python",
   "pygments_lexer": "ipython3",
   "version": "3.10.6"
  }
 },
 "nbformat": 4,
 "nbformat_minor": 5
}
