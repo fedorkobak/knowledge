{
 "cells": [
  {
   "cell_type": "markdown",
   "id": "5ef144f1-96fb-441c-8aa0-68d9d4aa332a",
   "metadata": {},
   "source": [
    "# Ports"
   ]
  },
  {
   "cell_type": "code",
   "execution_count": 1,
   "id": "1f2cbcfc-92d4-4de1-8d16-2411aefff24e",
   "metadata": {},
   "outputs": [
    {
     "data": {
      "text/html": [
       "\n",
       "<style>\n",
       "    h1 {text-align:center}\n",
       "</style>\n"
      ],
      "text/plain": [
       "<IPython.core.display.HTML object>"
      ]
     },
     "metadata": {},
     "output_type": "display_data"
    }
   ],
   "source": [
    "from IPython.display import HTML\n",
    "display(HTML('''\n",
    "<style>\n",
    "    h1 {text-align:center}\n",
    "</style>\n",
    "'''))"
   ]
  },
  {
   "cell_type": "markdown",
   "id": "b317951c-318e-4a7d-a226-812f4e5f8d61",
   "metadata": {},
   "source": [
    "# Set port for container"
   ]
  },
  {
   "cell_type": "markdown",
   "id": "e85ebd69-27a0-4cf8-88ec-de8ee495250c",
   "metadata": {},
   "source": [
    "You can set port using the following syntax `run ... -p <port on host>:<port on container> ...`"
   ]
  }
 ],
 "metadata": {
  "kernelspec": {
   "display_name": "Python 3 (ipykernel)",
   "language": "python",
   "name": "python3"
  },
  "language_info": {
   "codemirror_mode": {
    "name": "ipython",
    "version": 3
   },
   "file_extension": ".py",
   "mimetype": "text/x-python",
   "name": "python",
   "nbconvert_exporter": "python",
   "pygments_lexer": "ipython3",
   "version": "3.10.6"
  }
 },
 "nbformat": 4,
 "nbformat_minor": 5
}
