{
 "cells": [
  {
   "cell_type": "markdown",
   "metadata": {},
   "source": [
    "# Execute with start\n",
    "\n",
    "You can specify in the dockerfile what the container should do when it runs. There are two dockerfile directives that allow this: `ENTRYPOINT` and `CMD`."
   ]
  },
  {
   "cell_type": "markdown",
   "metadata": {
    "vscode": {
     "languageId": "plaintext"
    }
   },
   "source": [
    "## Entrypoint vs CMD\n",
    "\n",
    "In a Dockerfile, `ENTRYPOINT` and `CMD` are both used to specify the command that should be run when a container starts. However, they serve different purposes and have different behaviors.\n",
    "\n",
    "**`CMD`**\n",
    "\n",
    "- **Purpose**: To provide defaults for an executing container.\n",
    "- **Overriding**: The command defined with `CMD` can be overridden by specifying a different command at the end of the `docker run` command.\n",
    "\n",
    "**`ENTRYPOINT`**\n",
    "\n",
    "- **Purpose**: To define a command that will always run when the container starts.\n",
    "- **Overriding**: The command defined with `ENTRYPOINT` is not easily overridden. You can still provide arguments to the `ENTRYPOINT` via the `docker run` command, but the specified command itself remains the same."
   ]
  },
  {
   "cell_type": "markdown",
   "metadata": {},
   "source": [
    "---\n",
    "\n",
    "For example consider dockerfile that declares `ENTRY POINT echo`. And we'll run containers based on those dockerfile with `echo 10` command. "
   ]
  },
  {
   "cell_type": "code",
   "execution_count": 10,
   "metadata": {
    "vscode": {
     "languageId": "shellscript"
    }
   },
   "outputs": [
    {
     "name": "stdout",
     "output_type": "stream",
     "text": [
      "echo 10\n"
     ]
    }
   ],
   "source": [
    "cat << EOF > dockerfile\n",
    "FROM alpine\n",
    "ENTRYPOINT [\"echo\"]\n",
    "EOF\n",
    "\n",
    "docker build -t entr_vs_cmd . &> /dev/null\n",
    "docker run --rm entr_vs_cmd echo 10\n",
    "docker rmi entr_vs_cmd &> /dev/null"
   ]
  },
  {
   "cell_type": "markdown",
   "metadata": {},
   "source": [
    "As a result, we got the output `echo 10`. To understand what happened, let's look closer: `echo` was specified in the `ENTRYPOINT`, and the command `echo 10` provided in `docker run` was simply appended to it. SO finally we got command `echo \"echo 10\"` executed."
   ]
  },
  {
   "cell_type": "markdown",
   "metadata": {},
   "source": [
    "Almost same example just using `CMD` instead of `ENTRYPOINT`."
   ]
  },
  {
   "cell_type": "code",
   "execution_count": 11,
   "metadata": {
    "vscode": {
     "languageId": "shellscript"
    }
   },
   "outputs": [
    {
     "name": "stdout",
     "output_type": "stream",
     "text": [
      "10\n"
     ]
    }
   ],
   "source": [
    "cat << EOF > dockerfile\n",
    "FROM alpine\n",
    "CMD [\"echo\"]\n",
    "EOF\n",
    "\n",
    "docker build -t entr_vs_cmd . &> /dev/null\n",
    "docker run --rm entr_vs_cmd echo 10\n",
    "docker rmi entr_vs_cmd &> /dev/null"
   ]
  },
  {
   "cell_type": "markdown",
   "metadata": {},
   "source": [
    "Just 10 as ouput. Command `echo` was just replaced by command specified during `docker run`."
   ]
  },
  {
   "cell_type": "markdown",
   "metadata": {},
   "source": [
    "Cleaning artefacts from the experiment."
   ]
  },
  {
   "cell_type": "code",
   "execution_count": 12,
   "metadata": {
    "vscode": {
     "languageId": "shellscript"
    }
   },
   "outputs": [],
   "source": [
    "rm dockerfile"
   ]
  }
 ],
 "metadata": {
  "kernelspec": {
   "display_name": "Bash",
   "language": "bash",
   "name": "bash"
  },
  "language_info": {
   "codemirror_mode": "shell",
   "file_extension": ".sh",
   "mimetype": "text/x-sh",
   "name": "bash"
  }
 },
 "nbformat": 4,
 "nbformat_minor": 2
}
