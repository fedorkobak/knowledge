{
 "cells": [
  {
   "cell_type": "markdown",
   "metadata": {},
   "source": [
    "# Dockerfile directives\n",
    "\n",
    "Here is a closer look on different docker directives with examples."
   ]
  },
  {
   "cell_type": "markdown",
   "metadata": {},
   "source": [
    "## Execute with run\n",
    "\n",
    "There are two dockerfile directives that allow to execute something with start of docker container: `CMD` and `ENTRYPOINT`.\n",
    "\n",
    "---\n",
    "\n",
    "Here is example of the image that modifies alpine in way to print message `Hello world` during container start."
   ]
  },
  {
   "cell_type": "code",
   "execution_count": null,
   "metadata": {
    "vscode": {
     "languageId": "shellscript"
    }
   },
   "outputs": [
    {
     "name": "stdout",
     "output_type": "stream",
     "text": [
      "'Hello world'\n"
     ]
    }
   ],
   "source": [
    "cat << EOF > dockerfile\n",
    "FROM alpine\n",
    "CMD [\"echo\", \"'Hello world'\"]\n",
    "EOF\n",
    "\n",
    "docker build -t temp_image . &> /dev/null\n",
    "docker run --rm temp_image\n",
    "\n",
    "docker rmi temp_image &> /dev/null\n",
    "rm dockerfile"
   ]
  },
  {
   "cell_type": "markdown",
   "metadata": {},
   "source": [
    "## Environment variables"
   ]
  },
  {
   "cell_type": "markdown",
   "metadata": {},
   "source": [
    "For creating environment variable you can use `ENV` dockerfile instruction. \n"
   ]
  },
  {
   "cell_type": "markdown",
   "metadata": {},
   "source": [
    "---\n",
    "\n",
    "In the following example a dockefile is created using `ENV` to create `TEST_VAR` with value `\"This is a value of the invironment variable\"`. Then print it from the container."
   ]
  },
  {
   "cell_type": "code",
   "execution_count": 20,
   "metadata": {
    "vscode": {
     "languageId": "shellscript"
    }
   },
   "outputs": [
    {
     "name": "stdout",
     "output_type": "stream",
     "text": [
      "This is a value of environment variable\n"
     ]
    }
   ],
   "source": [
    "cat << EOF > dockerfile\n",
    "FROM alpine\n",
    "ENV TEST_VAR=\"This is a value of environment variable\"\n",
    "CMD echo \\$TEST_VAR\n",
    "EOF\n",
    "\n",
    "docker build -t test_image . &> /dev/null\n",
    "docker run --rm test_image\n",
    "\n",
    "docker rmi test_image &> /dev/null\n",
    "rm dockerfile"
   ]
  }
 ],
 "metadata": {
  "kernelspec": {
   "display_name": "Bash",
   "language": "bash",
   "name": "bash"
  },
  "language_info": {
   "codemirror_mode": "shell",
   "file_extension": ".sh",
   "mimetype": "text/x-sh",
   "name": "bash"
  }
 },
 "nbformat": 4,
 "nbformat_minor": 2
}
