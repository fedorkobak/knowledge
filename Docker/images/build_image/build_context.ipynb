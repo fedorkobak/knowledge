{
 "cells": [
  {
   "cell_type": "markdown",
   "metadata": {},
   "source": [
    "# Build context\n",
    "\n",
    "During image building, Docker can only access files from the build context. The path to the folder that specifies the build context is only a positional argument of the `docker build` command. "
   ]
  },
  {
   "cell_type": "markdown",
   "metadata": {},
   "source": [
    "## Check files\n",
    "\n",
    "The only option to list files acceptalbe in the context is to build the image based on the docker file specified in the following cell in the context."
   ]
  },
  {
   "cell_type": "code",
   "execution_count": 1,
   "metadata": {
    "vscode": {
     "languageId": "shellscript"
    }
   },
   "outputs": [],
   "source": [
    "cat << EOF > dockerfile\n",
    "FROM alpine\n",
    "COPY . /context/\n",
    "EOF"
   ]
  },
  {
   "cell_type": "markdown",
   "metadata": {},
   "source": [
    "This docker file simply compiles the full context (`.`) into the container's `context` folder."
   ]
  },
  {
   "cell_type": "markdown",
   "metadata": {},
   "source": [
    "In the following example we create folder that we'll use as context and generate some "
   ]
  },
  {
   "cell_type": "code",
   "execution_count": 40,
   "metadata": {
    "vscode": {
     "languageId": "shellscript"
    }
   },
   "outputs": [
    {
     "name": "stdout",
     "output_type": "stream",
     "text": [
      "Creating file: example_context/s6b2spw6.txt\n",
      "Creating file: example_context/5xy5bkpo.txt\n",
      "Creating file: example_context/hzmr7dtu/pawcsiu9.txt\n",
      "Creating file: example_context/hzmr7dtu/yt512mdl.txt\n",
      "Creating file: example_context/hzmr7dtu/t4rg5b1b/v1cr8z5c.txt\n",
      "Creating file: example_context/hzmr7dtu/t4rg5b1b/a7ieuqmt.txt\n",
      "Creating file: example_context/hzmr7dtu/bavhnqkd/5ia8fs5a.txt\n",
      "Creating file: example_context/hzmr7dtu/bavhnqkd/rni06o38.txt\n",
      "Creating file: example_context/hzmr7dtu/n305x90w/604oj9e0.txt\n",
      "Creating file: example_context/hzmr7dtu/n305x90w/vk13napo.txt\n",
      "Creating file: example_context/4jzirht6/b5yfegzy.txt\n",
      "Creating file: example_context/4jzirht6/f2k5ec7k.txt\n",
      "Creating file: example_context/4jzirht6/31y1b4vj/ek7f02h6.txt\n",
      "Creating file: example_context/4jzirht6/31y1b4vj/qmusmhz0.txt\n",
      "Creating file: example_context/4jzirht6/xlmyblvn/wfx9ra2z.txt\n",
      "Creating file: example_context/4jzirht6/xlmyblvn/uwrvvuro.txt\n",
      "Creating file: example_context/4jzirht6/xyyvwddc/ld2r3omh.txt\n",
      "Creating file: example_context/4jzirht6/xyyvwddc/hdko4n8o.txt\n",
      "Creating file: example_context/lsslr7m7/iu0elj5g.txt\n",
      "Creating file: example_context/lsslr7m7/er8lo7b9.txt\n",
      "Creating file: example_context/lsslr7m7/yb5x52hb/cpk6d79q.txt\n",
      "Creating file: example_context/lsslr7m7/yb5x52hb/cyc1vx0m.txt\n",
      "Creating file: example_context/lsslr7m7/vountpw1/n6d7cuj9.txt\n",
      "Creating file: example_context/lsslr7m7/vountpw1/yl97y7mg.txt\n",
      "Creating file: example_context/lsslr7m7/9rbb15ng/h1xpm1z7.txt\n",
      "Creating file: example_context/lsslr7m7/9rbb15ng/lzo04gb5.txt\n",
      "Random file tree generated at example_context\n"
     ]
    }
   ],
   "source": [
    "mkdir example_context\n",
    "\n",
    "#!/bin/bash\n",
    "\n",
    "# Function to create a random string\n",
    "random_string() {\n",
    "    cat /dev/urandom | tr -cd 'a-z0-9' | head -c 8\n",
    "}\n",
    "\n",
    "# Function to create random files\n",
    "create_files() {\n",
    "    local num_files=$1\n",
    "    local dir=$2\n",
    "    local i=0\n",
    "    for ((; i<num_files; i++)); do\n",
    "        local file_name=$(random_string)\n",
    "        local file_path=\"${dir}/${file_name}.txt\"\n",
    "        echo \"Creating file: ${file_path}\"\n",
    "        echo \"Random content\" > \"${file_path}\"\n",
    "    done\n",
    "}\n",
    "\n",
    "# Function to create random directory tree\n",
    "create_directory_tree() {\n",
    "    local current_dir=$1\n",
    "    local depth=$2\n",
    "    local max_depth=$3\n",
    "    local num_dirs=$4\n",
    "    local num_files=$5\n",
    "\n",
    "    if [ \"$depth\" -ge \"$max_depth\" ]; then\n",
    "        return\n",
    "    fi\n",
    "\n",
    "    mkdir -p \"$current_dir\"\n",
    "    create_files \"$num_files\" \"$current_dir\"\n",
    "\n",
    "    local i=0\n",
    "    for ((; i<num_dirs; i++)); do\n",
    "        local dir_name=$(random_string)\n",
    "        local new_dir=\"${current_dir}/${dir_name}\"\n",
    "        create_directory_tree \"$new_dir\" $((depth + 1)) \"$max_depth\" \"$num_dirs\" \"$num_files\"\n",
    "    done\n",
    "}\n",
    "\n",
    "# Parameters\n",
    "MAX_DEPTH=3     # Maximum depth of the directory tree\n",
    "NUM_DIRS=3      # Number of directories at each level\n",
    "NUM_FILES=2     # Number of files in each directory\n",
    "ROOT_DIR=\"example_context\"\n",
    "\n",
    "# Create the directory tree\n",
    "create_directory_tree \"$ROOT_DIR\" 0 \"$MAX_DEPTH\" \"$NUM_DIRS\" \"$NUM_FILES\"\n",
    "\n",
    "echo \"Random file tree generated at ${ROOT_DIR}\"\n"
   ]
  },
  {
   "cell_type": "code",
   "execution_count": 39,
   "metadata": {
    "vscode": {
     "languageId": "shellscript"
    }
   },
   "outputs": [],
   "source": [
    "rm -r example_context"
   ]
  },
  {
   "cell_type": "code",
   "execution_count": 7,
   "metadata": {
    "vscode": {
     "languageId": "shellscript"
    }
   },
   "outputs": [],
   "source": [
    "docker build -f ./dockerfile -t print_context ./example_context/ &> /dev/null"
   ]
  },
  {
   "cell_type": "code",
   "execution_count": 8,
   "metadata": {
    "vscode": {
     "languageId": "shellscript"
    }
   },
   "outputs": [
    {
     "name": "stdout",
     "output_type": "stream",
     "text": [
      "file90\n",
      "file91\n",
      "file92\n",
      "file93\n",
      "file94\n",
      "file95\n",
      "file96\n",
      "file97\n",
      "file98\n",
      "file99\n"
     ]
    }
   ],
   "source": [
    "docker run --rm print_context ls context | tail -n 10"
   ]
  },
  {
   "cell_type": "code",
   "execution_count": 9,
   "metadata": {
    "vscode": {
     "languageId": "shellscript"
    }
   },
   "outputs": [],
   "source": [
    "rm -r example_context\n",
    "rm dockerfile"
   ]
  }
 ],
 "metadata": {
  "kernelspec": {
   "display_name": "Bash",
   "language": "bash",
   "name": "bash"
  },
  "language_info": {
   "codemirror_mode": "shell",
   "file_extension": ".sh",
   "mimetype": "text/x-sh",
   "name": "bash"
  }
 },
 "nbformat": 4,
 "nbformat_minor": 2
}
