{
 "cells": [
  {
   "cell_type": "markdown",
   "metadata": {},
   "source": [
    "# Build context\n",
    "\n",
    "During image building, Docker can only access files from the build context. The path to the folder that specifies the build context is only a positional argument of the `docker build` command. "
   ]
  },
  {
   "cell_type": "markdown",
   "metadata": {},
   "source": [
    "## Check files\n",
    "\n",
    "The only option to list files acceptalbe in the context is to build the image based on the docker file specified in the following cell in the context."
   ]
  },
  {
   "cell_type": "code",
   "execution_count": 94,
   "metadata": {
    "vscode": {
     "languageId": "shellscript"
    }
   },
   "outputs": [],
   "source": [
    "cat << EOF > dockerfile\n",
    "FROM alpine\n",
    "COPY . /context/\n",
    "EOF"
   ]
  },
  {
   "cell_type": "markdown",
   "metadata": {},
   "source": [
    "This docker file simply compiles the full context (`.`) into the container's `context` folder."
   ]
  },
  {
   "cell_type": "markdown",
   "metadata": {},
   "source": [
    "In the following example we create folder that we'll use as context and generate some random files tree."
   ]
  },
  {
   "cell_type": "code",
   "execution_count": 95,
   "metadata": {
    "vscode": {
     "languageId": "shellscript"
    }
   },
   "outputs": [
    {
     "name": "stdout",
     "output_type": "stream",
     "text": [
      "example_context\n",
      "├── 1twdr3sj\n",
      "├── bo24x8fs\n",
      "└── dp285kht\n",
      "    ├── 897im87i\n",
      "    ├── a7iq06y7\n",
      "    └── twrr7x9z\n",
      "        ├── 914fsggq\n",
      "        ├── kjj9eq99\n",
      "        ├── rpjs7mik\n",
      "        └── y6c6kn2n\n",
      "\n",
      "2 directories, 8 files\n"
     ]
    }
   ],
   "source": [
    "mkdir example_context\n",
    "\n",
    "# Function to create a random string\n",
    "random_string() {\n",
    "    cat /dev/urandom | tr -cd 'a-z0-9' | head -c 8\n",
    "}\n",
    "\n",
    "OBJECTS_NUMBER=10\n",
    "curr_dir=\"example_context\"\n",
    "\n",
    "for ((i=0; i<OBJECTS_NUMBER; i++)) do\n",
    "    object_name=\"$curr_dir/$(random_string)\"\n",
    "\n",
    "    if [ $(($RANDOM % 4)) -eq 0 ]; then\n",
    "        mkdir $object_name\n",
    "        curr_dir=$object_name\n",
    "    else\n",
    "        echo $(fortune) > $object_name\n",
    "    fi\n",
    "done\n",
    "\n",
    "tree example_context"
   ]
  },
  {
   "cell_type": "markdown",
   "metadata": {},
   "source": [
    "Now try to build the image, run the container and check the `tree` of the context folder."
   ]
  },
  {
   "cell_type": "code",
   "execution_count": 98,
   "metadata": {
    "vscode": {
     "languageId": "shellscript"
    }
   },
   "outputs": [
    {
     "name": "stdout",
     "output_type": "stream",
     "text": [
      "context\n",
      "├── 1twdr3sj\n",
      "├── bo24x8fs\n",
      "└── dp285kht\n",
      "    ├── 897im87i\n",
      "    ├── a7iq06y7\n",
      "    └── twrr7x9z\n",
      "        ├── 914fsggq\n",
      "        ├── kjj9eq99\n",
      "        ├── rpjs7mik\n",
      "        └── y6c6kn2n\n",
      "\n",
      "2 directories, 8 files\n"
     ]
    }
   ],
   "source": [
    "docker build -f ./dockerfile -t print_context ./example_context/ &> /dev/null\n",
    "docker run --rm print_context tree context"
   ]
  },
  {
   "cell_type": "markdown",
   "metadata": {},
   "source": [
    "So it's identical to the context path tree on the host."
   ]
  },
  {
   "cell_type": "markdown",
   "metadata": {},
   "source": [
    "Now let us keep the environment clean by deleting everything we created in this example. "
   ]
  },
  {
   "cell_type": "code",
   "execution_count": 99,
   "metadata": {
    "vscode": {
     "languageId": "shellscript"
    }
   },
   "outputs": [
    {
     "name": "stdout",
     "output_type": "stream",
     "text": [
      "Untagged: print_context:latest\n",
      "Deleted: sha256:d771db2a28f5efd197756ca6d204337447ba1c4c752550d5cd786def87a1a24c\n"
     ]
    }
   ],
   "source": [
    "docker rmi print_context\n",
    "rm -r example_context\n",
    "rm dockerfile"
   ]
  }
 ],
 "metadata": {
  "kernelspec": {
   "display_name": "Bash",
   "language": "bash",
   "name": "bash"
  },
  "language_info": {
   "codemirror_mode": "shell",
   "file_extension": ".sh",
   "mimetype": "text/x-sh",
   "name": "bash"
  }
 },
 "nbformat": 4,
 "nbformat_minor": 2
}
