{
 "cells": [
  {
   "cell_type": "markdown",
   "metadata": {},
   "source": [
    "# Ignore files\n",
    "\n",
    "This page specifies aspects of how exactly `.dockerignore` works."
   ]
  },
  {
   "cell_type": "markdown",
   "metadata": {},
   "source": [
    "## Access to ignore files\n",
    "\n",
    "If you try to interact somehow with ingnored files during build - you'll get error from docker."
   ]
  },
  {
   "cell_type": "markdown",
   "metadata": {},
   "source": [
    "---\n",
    "\n",
    "The following cell creates:\n",
    "\n",
    "- `dockerfile` that tries to copy `folder` and pring it's content during container start.\n",
    "- `.dockerignore` that counts `folder`.\n",
    "- And `folder` that contains `file`."
   ]
  },
  {
   "cell_type": "code",
   "execution_count": 4,
   "metadata": {
    "vscode": {
     "languageId": "shellscript"
    }
   },
   "outputs": [],
   "source": [
    "mkdir folder\n",
    "echo \"message\" > folder/file\n",
    "\n",
    "# .dockerignore\n",
    "cat << EOF > .dockerignore\n",
    "folder\n",
    "EOF\n",
    "\n",
    "# dockerfile\n",
    "cat << EOF > dockerfile\n",
    "FROM alpine\n",
    "COPY folder folder\n",
    "CMD [\"ls\", \"folder\"]\n",
    "EOF"
   ]
  },
  {
   "cell_type": "markdown",
   "metadata": {},
   "source": [
    "If you try to build an image from such a configuration, you'll get an error - `\"/folder\": not found` in the `COPY` step. This happens because `.dockerignore` has banned this file."
   ]
  },
  {
   "cell_type": "code",
   "execution_count": 5,
   "metadata": {
    "vscode": {
     "languageId": "shellscript"
    }
   },
   "outputs": [
    {
     "name": "stdout",
     "output_type": "stream",
     "text": [
      "\u001b[1A\u001b[1B\u001b[0G\u001b[?25l[+] Building 0.0s (0/1)                                          docker:default\n",
      "\u001b[?25h\u001b[1A\u001b[0G\u001b[?25l[+] Building 0.1s (3/6)                                          docker:default\n",
      "\u001b[34m => [internal] load build definition from dockerfile                       0.1s\n",
      "\u001b[0m\u001b[34m => => transferring dockerfile: 89B                                        0.0s\n",
      "\u001b[0m\u001b[34m => [internal] load .dockerignore                                          0.1s\n",
      "\u001b[0m\u001b[34m => => transferring context: 47B                                           0.0s\n",
      "\u001b[0m\u001b[34m => [internal] load metadata for docker.io/library/alpine:latest           0.0s\n",
      "\u001b[0m\u001b[?25h\u001b[1A\u001b[1A\u001b[1A\u001b[1A\u001b[1A\u001b[1A\u001b[0G\u001b[?25l[+] Building 0.2s (6/6) FINISHED                                 docker:default\n",
      "\u001b[34m => [internal] load build definition from dockerfile                       0.1s\n",
      "\u001b[0m\u001b[34m => => transferring dockerfile: 89B                                        0.0s\n",
      "\u001b[0m\u001b[34m => [internal] load .dockerignore                                          0.1s\n",
      "\u001b[0m\u001b[34m => => transferring context: 47B                                           0.0s\n",
      "\u001b[0m\u001b[34m => [internal] load metadata for docker.io/library/alpine:latest           0.0s\n",
      "\u001b[0m\u001b[34m => [internal] load build context                                          0.0s\n",
      "\u001b[0m\u001b[34m => => transferring context: 2B                                            0.0s\n",
      "\u001b[0m\u001b[34m => [1/2] FROM docker.io/library/alpine                                    0.0s\n",
      "\u001b[0m\u001b[31m => ERROR [2/2] COPY folder folder                                         0.0s\n",
      "\u001b[0m\u001b[?25h------\n",
      " > [2/2] COPY folder folder:\n",
      "------\n",
      "dockerfile:2\n",
      "--------------------\n",
      "   1 |     FROM alpine\n",
      "   2 | >>> COPY folder folder\n",
      "   3 |     CMD [\"ls\", \"folder\"]\n",
      "   4 |     \n",
      "--------------------\n",
      "ERROR: failed to solve: failed to compute cache key: failed to calculate checksum of ref 726a74b5-5393-4376-8e02-f22026bcc076::8w609vdmmz6kfiidtuo4t1tle: \"/folder\": not found\n"
     ]
    },
    {
     "ename": "",
     "evalue": "1",
     "output_type": "error",
     "traceback": []
    }
   ],
   "source": [
    "docker build -t test_image ."
   ]
  },
  {
   "cell_type": "markdown",
   "metadata": {},
   "source": [
    "Ok, let's fix `.dockerignore` to reject `folder/ignored_file`. Add such a file, and another `folder/new_file`."
   ]
  },
  {
   "cell_type": "code",
   "execution_count": 6,
   "metadata": {
    "vscode": {
     "languageId": "shellscript"
    }
   },
   "outputs": [],
   "source": [
    "rm -r .dockerignore dockerfile folder"
   ]
  }
 ],
 "metadata": {
  "kernelspec": {
   "display_name": "Bash",
   "language": "bash",
   "name": "bash"
  },
  "language_info": {
   "codemirror_mode": "shell",
   "file_extension": ".sh",
   "mimetype": "text/x-sh",
   "name": "bash"
  }
 },
 "nbformat": 4,
 "nbformat_minor": 2
}
