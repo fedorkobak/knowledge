{
 "cells": [
  {
   "cell_type": "markdown",
   "metadata": {},
   "source": [
    "# Ignore files\n",
    "\n",
    "This page specifies aspects of how exactly `.dockerignore` works."
   ]
  },
  {
   "cell_type": "markdown",
   "metadata": {},
   "source": [
    "## Access to ignore files\n",
    "\n",
    "If you try to interact somehow with ingnored files during build - you'll get error from docker."
   ]
  },
  {
   "cell_type": "markdown",
   "metadata": {},
   "source": [
    "---\n",
    "\n",
    "The following cell creates:\n",
    "\n",
    "- `dockerfile` that tries to copy `folder` and pring it's content during container start.\n",
    "- `.dockerignore` that counts `folder`.\n",
    "- And `folder` that contains `file`."
   ]
  },
  {
   "cell_type": "code",
   "execution_count": 4,
   "metadata": {
    "vscode": {
     "languageId": "shellscript"
    }
   },
   "outputs": [],
   "source": [
    "mkdir folder\n",
    "echo \"message\" > folder/file\n",
    "\n",
    "# .dockerignore\n",
    "cat << EOF > .dockerignore\n",
    "folder\n",
    "EOF\n",
    "\n",
    "# dockerfile\n",
    "cat << EOF > dockerfile\n",
    "FROM alpine\n",
    "COPY folder folder\n",
    "CMD [\"ls\", \"folder\"]\n",
    "EOF"
   ]
  },
  {
   "cell_type": "markdown",
   "metadata": {},
   "source": [
    "If you try to build an image from such a configuration, you'll get an error - `\"/folder\": not found` in the `COPY` step. This happens because `.dockerignore` has banned this file."
   ]
  },
  {
   "cell_type": "code",
   "execution_count": 5,
   "metadata": {
    "vscode": {
     "languageId": "shellscript"
    }
   },
   "outputs": [
    {
     "name": "stdout",
     "output_type": "stream",
     "text": [
      "\u001b[1A\u001b[1B\u001b[0G\u001b[?25l[+] Building 0.0s (0/1)                                          docker:default\n",
      "\u001b[?25h\u001b[1A\u001b[0G\u001b[?25l[+] Building 0.1s (3/6)                                          docker:default\n",
      "\u001b[34m => [internal] load build definition from dockerfile                       0.1s\n",
      "\u001b[0m\u001b[34m => => transferring dockerfile: 89B                                        0.0s\n",
      "\u001b[0m\u001b[34m => [internal] load .dockerignore                                          0.1s\n",
      "\u001b[0m\u001b[34m => => transferring context: 47B                                           0.0s\n",
      "\u001b[0m\u001b[34m => [internal] load metadata for docker.io/library/alpine:latest           0.0s\n",
      "\u001b[0m\u001b[?25h\u001b[1A\u001b[1A\u001b[1A\u001b[1A\u001b[1A\u001b[1A\u001b[0G\u001b[?25l[+] Building 0.2s (6/6) FINISHED                                 docker:default\n",
      "\u001b[34m => [internal] load build definition from dockerfile                       0.1s\n",
      "\u001b[0m\u001b[34m => => transferring dockerfile: 89B                                        0.0s\n",
      "\u001b[0m\u001b[34m => [internal] load .dockerignore                                          0.1s\n",
      "\u001b[0m\u001b[34m => => transferring context: 47B                                           0.0s\n",
      "\u001b[0m\u001b[34m => [internal] load metadata for docker.io/library/alpine:latest           0.0s\n",
      "\u001b[0m\u001b[34m => [internal] load build context                                          0.0s\n",
      "\u001b[0m\u001b[34m => => transferring context: 2B                                            0.0s\n",
      "\u001b[0m\u001b[34m => [1/2] FROM docker.io/library/alpine                                    0.0s\n",
      "\u001b[0m\u001b[31m => ERROR [2/2] COPY folder folder                                         0.0s\n",
      "\u001b[0m\u001b[?25h------\n",
      " > [2/2] COPY folder folder:\n",
      "------\n",
      "dockerfile:2\n",
      "--------------------\n",
      "   1 |     FROM alpine\n",
      "   2 | >>> COPY folder folder\n",
      "   3 |     CMD [\"ls\", \"folder\"]\n",
      "   4 |     \n",
      "--------------------\n",
      "ERROR: failed to solve: failed to compute cache key: failed to calculate checksum of ref 726a74b5-5393-4376-8e02-f22026bcc076::8w609vdmmz6kfiidtuo4t1tle: \"/folder\": not found\n"
     ]
    },
    {
     "ename": "",
     "evalue": "1",
     "output_type": "error",
     "traceback": []
    }
   ],
   "source": [
    "docker build -t test_image ."
   ]
  },
  {
   "cell_type": "markdown",
   "metadata": {},
   "source": [
    "Ok, let's fix `.dockerignore` to reject `folder/ignored_file`. Add such a file, and another `folder/new_file`."
   ]
  },
  {
   "cell_type": "code",
   "execution_count": 6,
   "metadata": {
    "vscode": {
     "languageId": "shellscript"
    }
   },
   "outputs": [],
   "source": [
    "rm -r .dockerignore dockerfile folder"
   ]
  },
  {
   "cell_type": "markdown",
   "metadata": {},
   "source": [
    "## Ignore only for build\n",
    "\n",
    "Note that `.dockerignore` only affects the build phase. You can still copy an ignored file or mount it as a volume."
   ]
  },
  {
   "cell_type": "markdown",
   "metadata": {},
   "source": [
    "---\n",
    "\n",
    "In the following example, let's say we want to hide `secret_file` from the Docker containers. Adding it to the `.dockerignore` file will help achieve this."
   ]
  },
  {
   "cell_type": "code",
   "execution_count": 9,
   "metadata": {
    "vscode": {
     "languageId": "shellscript"
    }
   },
   "outputs": [],
   "source": [
    "echo \"secret info\" >  secret_file\n",
    "\n",
    "cat << EOF > .dockerignore\n",
    "secret_file\n",
    "EOF\n",
    "\n",
    "cat << EOF > dockerfile\n",
    "FROM alpine\n",
    "EOF\n",
    "\n",
    "docker build -t temp_image . &> /dev/null"
   ]
  },
  {
   "cell_type": "markdown",
   "metadata": {},
   "source": [
    "Now, let's try mounting `secret_file` as `mounted_file` and copying it to the container as `copied_file`."
   ]
  },
  {
   "cell_type": "code",
   "execution_count": 10,
   "metadata": {
    "vscode": {
     "languageId": "shellscript"
    }
   },
   "outputs": [
    {
     "name": "stdout",
     "output_type": "stream",
     "text": [
      "c8d89266e0ade3b0dc0f75c62fdbb64e6d585dc9efd7fe223d907832bf2edbb1\n",
      "Successfully copied 2.05kB to example:copied_file\n"
     ]
    }
   ],
   "source": [
    "docker run -itd --rm --name example -v ./secret_file:/mounted_file temp_image\n",
    "docker cp secret_file example:copied_file"
   ]
  },
  {
   "cell_type": "markdown",
   "metadata": {
    "vscode": {
     "languageId": "shellscript"
    }
   },
   "source": [
    "Everything works fine, and we can easily access the information from the container."
   ]
  },
  {
   "cell_type": "code",
   "execution_count": 11,
   "metadata": {
    "vscode": {
     "languageId": "shellscript"
    }
   },
   "outputs": [
    {
     "name": "stdout",
     "output_type": "stream",
     "text": [
      "secret info\n",
      "secret info\n"
     ]
    }
   ],
   "source": [
    "docker exec example cat copied_file\n",
    "docker exec example cat mounted_file"
   ]
  },
  {
   "cell_type": "markdown",
   "metadata": {},
   "source": [
    "Keep environment clean."
   ]
  },
  {
   "cell_type": "code",
   "execution_count": 12,
   "metadata": {
    "vscode": {
     "languageId": "shellscript"
    }
   },
   "outputs": [
    {
     "name": "stdout",
     "output_type": "stream",
     "text": [
      "example\n",
      "Untagged: temp_image:latest\n"
     ]
    }
   ],
   "source": [
    "docker stop example\n",
    "docker rmi temp_image\n",
    "rm dockerfile .dockerignore secret_file"
   ]
  },
  {
   "cell_type": "markdown",
   "metadata": {},
   "source": [
    "## Subfolders ignore\n",
    "\n",
    "Using the .gitignore analogy, one might think that if .dockerignore is in a subdirectory of an assembly, it would apply to files in that directory. In this section we will check if this is the case."
   ]
  },
  {
   "cell_type": "markdown",
   "metadata": {},
   "source": [
    "---\n",
    "\n",
    "The following example attempts to hide the `temp_folder/secret_file` file from the `docker build`. We're using a docker image that allows us to check what files are in `temp_folder`."
   ]
  },
  {
   "cell_type": "code",
   "execution_count": 24,
   "metadata": {
    "vscode": {
     "languageId": "shellscript"
    }
   },
   "outputs": [
    {
     "name": "stdout",
     "output_type": "stream",
     "text": [
      ".\n",
      "..\n",
      ".dockerignore\n",
      "secret_file\n"
     ]
    }
   ],
   "source": [
    "mkdir temp_folder\n",
    "echo \"secret message\" > temp_folder/secret_file\n",
    "\n",
    "cat << EOF > temp_folder/.dockerignore\n",
    "secret_file\n",
    "EOF\n",
    "\n",
    "cat << EOF > dockerfile\n",
    "FROM alpine\n",
    "COPY . /context/\n",
    "CMD [\"ls\", \"-a\" , \"context/temp_folder\"]\n",
    "EOF\n",
    "\n",
    "docker build -t temp_image . &> /dev/null\n",
    "docker run --rm temp_image"
   ]
  },
  {
   "cell_type": "markdown",
   "metadata": {},
   "source": [
    "As a result, `secret_file` is in the context of the docker container. So it **doesn't work**."
   ]
  },
  {
   "cell_type": "markdown",
   "metadata": {},
   "source": [
    "Keeping the environment clean."
   ]
  },
  {
   "cell_type": "code",
   "execution_count": 23,
   "metadata": {
    "vscode": {
     "languageId": "shellscript"
    }
   },
   "outputs": [
    {
     "name": "stdout",
     "output_type": "stream",
     "text": [
      "Untagged: temp_image:latest\n",
      "Deleted: sha256:20151632e46738b5b016b418b1be56a125c6983a43d761ad49691ef6defd3896\n"
     ]
    }
   ],
   "source": [
    "docker rmi temp_image\n",
    "rm -r dockerfile temp_folder"
   ]
  }
 ],
 "metadata": {
  "kernelspec": {
   "display_name": "Bash",
   "language": "bash",
   "name": "bash"
  },
  "language_info": {
   "codemirror_mode": "shell",
   "file_extension": ".sh",
   "mimetype": "text/x-sh",
   "name": "bash"
  }
 },
 "nbformat": 4,
 "nbformat_minor": 2
}
