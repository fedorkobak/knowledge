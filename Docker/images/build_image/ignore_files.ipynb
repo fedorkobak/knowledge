{
 "cells": [
  {
   "cell_type": "markdown",
   "metadata": {},
   "source": [
    "# Ignore files\n",
    "\n",
    "This page specifies aspects of how exactly `.dockerignore` works."
   ]
  },
  {
   "cell_type": "markdown",
   "metadata": {},
   "source": [
    "---\n",
    "\n",
    "The following cell creates:\n",
    "\n",
    "- `dockerfile` that tries to copy `folder` and pring it's content during container start.\n",
    "- `.dockerignore` that counts `folder`.\n",
    "- And `folder` that contains `file`."
   ]
  },
  {
   "cell_type": "code",
   "execution_count": null,
   "metadata": {
    "vscode": {
     "languageId": "shellscript"
    }
   },
   "outputs": [],
   "source": [
    "mkdir folder\n",
    "echo \"message\" > folder/file\n",
    "\n",
    "# .dockerignore\n",
    "cat << EOF > .dockerignore\n",
    "folder\n",
    "EOF\n",
    "\n",
    "# dockerfile\n",
    "cat << EOF > dockerfile\n",
    "FROM alpine\n",
    "COPY folder folder\n",
    "CMD [\"ls\", \"folder\"]\n",
    "EOF"
   ]
  },
  {
   "cell_type": "markdown",
   "metadata": {},
   "source": [
    "If you try to build an image from such a configuration, you'll get an error - `\"/folder\": not found` in the `COPY` step. This happens because `.dockerignore` has banned this file."
   ]
  },
  {
   "cell_type": "code",
   "execution_count": null,
   "metadata": {
    "vscode": {
     "languageId": "shellscript"
    }
   },
   "outputs": [
    {
     "name": "stdout",
     "output_type": "stream",
     "text": [
      "\u001b[1A\u001b[1B\u001b[0G\u001b[?25l[+] Building 0.0s (0/1)                                          docker:default\n",
      "\u001b[?25h\u001b[1A\u001b[0G\u001b[?25l[+] Building 0.2s (6/6) FINISHED                                 docker:default\n",
      "\u001b[34m => [internal] load build definition from dockerfile                       0.0s\n",
      "\u001b[0m\u001b[34m => => transferring dockerfile: 89B                                        0.0s\n",
      "\u001b[0m\u001b[34m => [internal] load metadata for docker.io/library/alpine:latest           0.0s\n",
      "\u001b[0m\u001b[34m => [internal] load .dockerignore                                          0.0s\n",
      "\u001b[0m\u001b[34m => => transferring context: 47B                                           0.0s\n",
      "\u001b[0m\u001b[34m => [internal] load build context                                          0.0s\n",
      "\u001b[0m\u001b[34m => => transferring context: 2B                                            0.0s\n",
      "\u001b[0m\u001b[34m => [1/2] FROM docker.io/library/alpine:latest                             0.0s\n",
      "\u001b[0m\u001b[31m => ERROR [2/2] COPY folder folder                                         0.0s\n",
      "\u001b[0m\u001b[?25h------\n",
      " > [2/2] COPY folder folder:\n",
      "------\n",
      "dockerfile:2\n",
      "--------------------\n",
      "   1 |     FROM alpine\n",
      "   2 | >>> COPY folder folder\n",
      "   3 |     CMD [\"ls\", \"folder\"]\n",
      "   4 |     \n",
      "--------------------\n",
      "ERROR: failed to solve: failed to compute cache key: failed to calculate checksum of ref f7dc4992-faa3-4325-a683-d6dd86d14db9::qvcfofys87dcjtg72lbdzs5i4: \"/folder\": not found\n"
     ]
    },
    {
     "ename": "",
     "evalue": "1",
     "output_type": "error",
     "traceback": [
      "1"
     ]
    }
   ],
   "source": [
    "docker build -t test_image ."
   ]
  },
  {
   "cell_type": "markdown",
   "metadata": {},
   "source": [
    "Ok, let's fix `.dockerignore` to reject `folder/ignored_file`. Add such a file, and another `folder/new_file`."
   ]
  },
  {
   "cell_type": "code",
   "execution_count": null,
   "metadata": {
    "vscode": {
     "languageId": "shellscript"
    }
   },
   "outputs": [],
   "source": [
    "cat << EOF > .dockerignore\n",
    "folder/ignored_file\n",
    "EOF\n",
    "echo \"message\" > folder/ignored_file\n",
    "echo \"message\" > folder/new_file"
   ]
  },
  {
   "cell_type": "markdown",
   "metadata": {},
   "source": [
    "Now the image has been successfully built. And in the output of the container you can see `new_file`, but not `ignored_file`, which was rejected by `.dockerignore`."
   ]
  },
  {
   "cell_type": "code",
   "execution_count": null,
   "metadata": {
    "vscode": {
     "languageId": "shellscript"
    }
   },
   "outputs": [
    {
     "name": "stdout",
     "output_type": "stream",
     "text": [
      "file\n",
      "new_file\n"
     ]
    }
   ],
   "source": [
    "docker build -t test_image . &> /dev/null\n",
    "docker run --rm test_image"
   ]
  },
  {
   "cell_type": "markdown",
   "metadata": {},
   "source": [
    "Don't forget to keep your environment clean."
   ]
  },
  {
   "cell_type": "code",
   "execution_count": null,
   "metadata": {
    "vscode": {
     "languageId": "shellscript"
    }
   },
   "outputs": [
    {
     "name": "stdout",
     "output_type": "stream",
     "text": [
      "Untagged: test_image:latest\n",
      "Deleted: sha256:35bbd1334f9243483ff527d8bee8594f18a50636c8d02ba39e0111c3393db3bc\n"
     ]
    }
   ],
   "source": [
    "rm -r .dockerignore dockerfile folder\n",
    "docker rmi test_image"
   ]
  }
 ],
 "metadata": {
  "language_info": {
   "name": "python"
  }
 },
 "nbformat": 4,
 "nbformat_minor": 2
}
