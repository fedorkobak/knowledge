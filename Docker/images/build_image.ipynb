{
 "cells": [
  {
   "cell_type": "markdown",
   "metadata": {},
   "source": [
    "# Build image\n",
    "\n",
    "Here is a look at the `docker build` command, its features and options."
   ]
  },
  {
   "cell_type": "markdown",
   "metadata": {},
   "source": [
    "## Build path\n",
    "\n",
    "The `build` command requires one argument: the path to the build folder. This argument specifies which folder will be used as the working directory for the build process. All relative paths will be considered relative to this specified path.\n",
    "\n",
    "---\n",
    "\n",
    "As an example, consider the configuration created in the following cell."
   ]
  },
  {
   "cell_type": "code",
   "execution_count": 41,
   "metadata": {
    "vscode": {
     "languageId": "shellscript"
    }
   },
   "outputs": [],
   "source": [
    "mkdir build_path\n",
    "cat << EOF > build_path/dockerfile\n",
    "FROM alpine\n",
    "COPY message message\n",
    "CMD [\"cat\", \"message\"]\n",
    "EOF\n",
    "\n",
    "echo \"I'm external message\" > build_path/message\n",
    "\n",
    "mkdir build_path/folder\n",
    "echo \"I'm nested message\" > build_path/folder/message"
   ]
  },
  {
   "cell_type": "markdown",
   "metadata": {},
   "source": [
    "Here is a Dockerfile that modifies the `alpine` image to print the `message` file from the build folder. There are two `message` files located in different folders.\n",
    "\n",
    "For better understanding, here is the file tree:"
   ]
  },
  {
   "cell_type": "code",
   "execution_count": 42,
   "metadata": {
    "vscode": {
     "languageId": "shellscript"
    }
   },
   "outputs": [
    {
     "name": "stdout",
     "output_type": "stream",
     "text": [
      "build_path\n",
      "├── dockerfile\n",
      "├── folder\n",
      "│   └── message\n",
      "└── message\n",
      "\n",
      "1 directory, 3 files\n"
     ]
    }
   ],
   "source": [
    "tree build_path"
   ]
  },
  {
   "cell_type": "markdown",
   "metadata": {},
   "source": [
    "Here is an image that uses `build_path` as the build folder. Container using this image prints `I'm external message`."
   ]
  },
  {
   "cell_type": "code",
   "execution_count": 43,
   "metadata": {
    "vscode": {
     "languageId": "shellscript"
    }
   },
   "outputs": [
    {
     "name": "stdout",
     "output_type": "stream",
     "text": [
      "I'm external message\n"
     ]
    }
   ],
   "source": [
    "docker build \\\n",
    "    -t external_image \\\n",
    "    -f ./build_path/dockerfile \\\n",
    "    ./build_path &> /dev/null\n",
    "docker run --rm external_image"
   ]
  },
  {
   "cell_type": "markdown",
   "metadata": {},
   "source": [
    "**Note** In the examples, the `-f` option is used to specify the path to the docker file, which is generally not the same as the building path."
   ]
  },
  {
   "cell_type": "markdown",
   "metadata": {},
   "source": [
    "Exactly the same folder, but using a different build folder - prints a different message. "
   ]
  },
  {
   "cell_type": "code",
   "execution_count": 44,
   "metadata": {
    "vscode": {
     "languageId": "shellscript"
    }
   },
   "outputs": [
    {
     "name": "stdout",
     "output_type": "stream",
     "text": [
      "I'm nested message\n"
     ]
    }
   ],
   "source": [
    "docker build \\\n",
    "    -t nested_image \\\n",
    "    -f ./build_path/dockerfile \\\n",
    "    ./build_path/folder &> /dev/null\n",
    "docker run --rm nested_image"
   ]
  },
  {
   "cell_type": "markdown",
   "metadata": {},
   "source": [
    "Getting rid of files and images we created for examples."
   ]
  },
  {
   "cell_type": "code",
   "execution_count": 45,
   "metadata": {
    "vscode": {
     "languageId": "shellscript"
    }
   },
   "outputs": [
    {
     "name": "stdout",
     "output_type": "stream",
     "text": [
      "Untagged: external_image:latest\n",
      "Deleted: sha256:4d888a7322bda81b44c934cf6079a5637086150f86490c59862d3b6c1fa2804f\n",
      "Untagged: nested_image:latest\n"
     ]
    }
   ],
   "source": [
    "rm -r build_path\n",
    "docker rmi external_image nested_image"
   ]
  },
  {
   "cell_type": "markdown",
   "metadata": {},
   "source": [
    "## Image name (-t)\n",
    "\n",
    "You can set the image name (tag) using the `-t <image name>` option.\n",
    "\n",
    "---\n",
    "\n",
    "The following cell shows the process of creating a docker image named `super_duper_puper`."
   ]
  },
  {
   "cell_type": "code",
   "execution_count": 8,
   "metadata": {
    "vscode": {
     "languageId": "shellscript"
    }
   },
   "outputs": [
    {
     "name": "stdout",
     "output_type": "stream",
     "text": [
      "super_duper_puper                                                   latest           64a95b915f9e   3 weeks ago     7.8MB\n"
     ]
    }
   ],
   "source": [
    "mkdir image_name\n",
    "cat << EOF > image_name/dockerfile\n",
    "FROM alpine\n",
    "EOF\n",
    "\n",
    "docker build -t super_duper_puper ./image_name &> /dev/null\n",
    "docker images | grep super_duper_puper\n",
    "\n",
    "docker rmi super_duper_puper &> /dev/null\n",
    "rm -r image_name"
   ]
  },
  {
   "cell_type": "markdown",
   "metadata": {},
   "source": [
    "## Select dockerfile (`-f`)\n",
    "\n",
    "You can pass the filepath to the docker image in the `-f` option. If your file specifying the build directive has a name different from `dockerfile`, you will need to specify the actual name as the `-f` parameter."
   ]
  },
  {
   "cell_type": "markdown",
   "metadata": {},
   "source": [
    "---\n",
    "Following cell defiens docker file with name `python_apline`"
   ]
  },
  {
   "cell_type": "code",
   "execution_count": 22,
   "metadata": {
    "vscode": {
     "languageId": "shellscript"
    }
   },
   "outputs": [],
   "source": [
    "mkdir select_dockerfile\n",
    "cat << EOF > select_dockerfile/python_alpine\n",
    "FROM alpine\n",
    "RUN apk add python3\n",
    "EOF"
   ]
  },
  {
   "cell_type": "markdown",
   "metadata": {},
   "source": [
    "If you're just trying to build it, specify the path to the folder with the dockerfile."
   ]
  },
  {
   "cell_type": "code",
   "execution_count": 23,
   "metadata": {
    "vscode": {
     "languageId": "shellscript"
    }
   },
   "outputs": [
    {
     "name": "stdout",
     "output_type": "stream",
     "text": [
      "\u001b[1A\u001b[1B\u001b[0G\u001b[?25l[+] Building 0.0s (0/1)                                          docker:default\n",
      "\u001b[?25h\u001b[1A\u001b[0G\u001b[?25l[+] Building 0.0s (1/1) FINISHED                                 docker:default\n",
      "\u001b[34m => [internal] load build definition from Dockerfile                       0.0s\n",
      "\u001b[0m\u001b[34m => => transferring dockerfile: 2B                                         0.0s\n",
      "\u001b[0m\u001b[?25hERROR: failed to solve: failed to read dockerfile: open Dockerfile: no such file or directory\n"
     ]
    },
    {
     "ename": "",
     "evalue": "1",
     "output_type": "error",
     "traceback": []
    }
   ],
   "source": [
    "docker build ./select_dockerfile"
   ]
  },
  {
   "cell_type": "markdown",
   "metadata": {},
   "source": [
    "You have to specify path to the docker file in `-f` option, only in such case image will build properly."
   ]
  },
  {
   "cell_type": "code",
   "execution_count": 24,
   "metadata": {
    "vscode": {
     "languageId": "shellscript"
    }
   },
   "outputs": [
    {
     "name": "stdout",
     "output_type": "stream",
     "text": [
      "temp_image                    latest        d4d220b7f3bf   20 minutes ago   50.7MB\n"
     ]
    }
   ],
   "source": [
    "docker build \\\n",
    "    -t temp_image \\\n",
    "    -f ./select_dockerfile/python_alpine . &> /dev/null\n",
    "docker images | grep temp_image"
   ]
  },
  {
   "cell_type": "code",
   "execution_count": null,
   "metadata": {
    "vscode": {
     "languageId": "shellscript"
    }
   },
   "outputs": [],
   "source": [
    "docker rmi temp_image &> /dev/null\n",
    "rm -r ./select_dockerfile"
   ]
  },
  {
   "cell_type": "markdown",
   "metadata": {},
   "source": [
    "## Ignore files\n",
    "\n",
    "You can ignore some files with a `.dockerignore` file. Any files specified in this file will be ignored by docker when building the image."
   ]
  },
  {
   "cell_type": "markdown",
   "metadata": {
    "vscode": {
     "languageId": "shellscript"
    }
   },
   "source": [
    "---\n",
    "\n",
    "The following cell creates:\n",
    "\n",
    "- `dockerfile` that tries to copy `folder` and pring it's content during container start.\n",
    "- `.dockerignore` that counts `folder`.\n",
    "- And `folder` that contains `file`."
   ]
  },
  {
   "cell_type": "code",
   "execution_count": 26,
   "metadata": {
    "vscode": {
     "languageId": "shellscript"
    }
   },
   "outputs": [],
   "source": [
    "mkdir folder\n",
    "echo \"message\" > folder/file\n",
    "\n",
    "# .dockerignore\n",
    "cat << EOF > .dockerignore\n",
    "folder\n",
    "EOF\n",
    "\n",
    "# dockerfile\n",
    "cat << EOF > dockerfile\n",
    "FROM alpine\n",
    "COPY folder folder\n",
    "CMD [\"ls\", \"folder\"]\n",
    "EOF"
   ]
  },
  {
   "cell_type": "markdown",
   "metadata": {},
   "source": [
    "If you try to build an image from such a configuration, you'll get an error - `\"/folder\": not found` in the `COPY` step. This happens because `.dockerignore` has banned this file."
   ]
  },
  {
   "cell_type": "code",
   "execution_count": 27,
   "metadata": {
    "vscode": {
     "languageId": "shellscript"
    }
   },
   "outputs": [
    {
     "name": "stdout",
     "output_type": "stream",
     "text": [
      "\u001b[1A\u001b[1B\u001b[0G\u001b[?25l[+] Building 0.0s (0/1)                                          docker:default\n",
      "\u001b[?25h\u001b[1A\u001b[0G\u001b[?25l[+] Building 0.2s (6/6) FINISHED                                 docker:default\n",
      "\u001b[34m => [internal] load build definition from dockerfile                       0.0s\n",
      "\u001b[0m\u001b[34m => => transferring dockerfile: 89B                                        0.0s\n",
      "\u001b[0m\u001b[34m => [internal] load metadata for docker.io/library/alpine:latest           0.0s\n",
      "\u001b[0m\u001b[34m => [internal] load .dockerignore                                          0.0s\n",
      "\u001b[0m\u001b[34m => => transferring context: 47B                                           0.0s\n",
      "\u001b[0m\u001b[34m => [internal] load build context                                          0.0s\n",
      "\u001b[0m\u001b[34m => => transferring context: 2B                                            0.0s\n",
      "\u001b[0m\u001b[34m => [1/2] FROM docker.io/library/alpine:latest                             0.0s\n",
      "\u001b[0m\u001b[31m => ERROR [2/2] COPY folder folder                                         0.0s\n",
      "\u001b[0m\u001b[?25h------\n",
      " > [2/2] COPY folder folder:\n",
      "------\n",
      "dockerfile:2\n",
      "--------------------\n",
      "   1 |     FROM alpine\n",
      "   2 | >>> COPY folder folder\n",
      "   3 |     CMD [\"ls\", \"folder\"]\n",
      "   4 |     \n",
      "--------------------\n",
      "ERROR: failed to solve: failed to compute cache key: failed to calculate checksum of ref f7dc4992-faa3-4325-a683-d6dd86d14db9::qvcfofys87dcjtg72lbdzs5i4: \"/folder\": not found\n"
     ]
    },
    {
     "ename": "",
     "evalue": "1",
     "output_type": "error",
     "traceback": []
    }
   ],
   "source": [
    "docker build -t test_image ."
   ]
  },
  {
   "cell_type": "markdown",
   "metadata": {},
   "source": [
    "Ok, let's fix `.dockerignore` to reject `folder/ignored_file`. Add such a file, and another `folder/new_file`."
   ]
  },
  {
   "cell_type": "code",
   "execution_count": 28,
   "metadata": {
    "vscode": {
     "languageId": "shellscript"
    }
   },
   "outputs": [],
   "source": [
    "cat << EOF > .dockerignore\n",
    "folder/ignored_file\n",
    "EOF\n",
    "echo \"message\" > folder/ignored_file\n",
    "echo \"message\" > folder/new_file"
   ]
  },
  {
   "cell_type": "markdown",
   "metadata": {},
   "source": [
    "Now the image has been successfully built. And in the output of the container you can see `new_file`, but not `ignored_file`, which was rejected by `.dockerignore`."
   ]
  },
  {
   "cell_type": "code",
   "execution_count": 29,
   "metadata": {
    "vscode": {
     "languageId": "shellscript"
    }
   },
   "outputs": [
    {
     "name": "stdout",
     "output_type": "stream",
     "text": [
      "file\n",
      "new_file\n"
     ]
    }
   ],
   "source": [
    "docker build -t test_image . &> /dev/null\n",
    "docker run --rm test_image"
   ]
  },
  {
   "cell_type": "markdown",
   "metadata": {
    "vscode": {
     "languageId": "shellscript"
    }
   },
   "source": [
    "Don't forget to keep your environment clean."
   ]
  },
  {
   "cell_type": "code",
   "execution_count": 30,
   "metadata": {
    "vscode": {
     "languageId": "shellscript"
    }
   },
   "outputs": [
    {
     "name": "stdout",
     "output_type": "stream",
     "text": [
      "Untagged: test_image:latest\n",
      "Deleted: sha256:35bbd1334f9243483ff527d8bee8594f18a50636c8d02ba39e0111c3393db3bc\n"
     ]
    }
   ],
   "source": [
    "rm -r .dockerignore dockerfile folder\n",
    "docker rmi test_image"
   ]
  }
 ],
 "metadata": {
  "kernelspec": {
   "display_name": "Bash",
   "language": "bash",
   "name": "bash"
  },
  "language_info": {
   "codemirror_mode": "shell",
   "file_extension": ".sh",
   "mimetype": "text/x-sh",
   "name": "bash"
  }
 },
 "nbformat": 4,
 "nbformat_minor": 2
}
