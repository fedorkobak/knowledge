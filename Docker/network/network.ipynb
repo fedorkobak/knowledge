{
 "cells": [
  {
   "attachments": {},
   "cell_type": "markdown",
   "metadata": {},
   "source": [
    "**Работа с сетями в docker**\n",
    "\n",
    "Реализуется через API network."
   ]
  },
  {
   "attachments": {},
   "cell_type": "markdown",
   "metadata": {},
   "source": [
    "# `ls`\n",
    "\n",
    "Выведет список доступных сетей."
   ]
  },
  {
   "cell_type": "code",
   "execution_count": 1,
   "metadata": {},
   "outputs": [
    {
     "name": "stdout",
     "output_type": "stream",
     "text": [
      "NETWORK ID     NAME      DRIVER    SCOPE\n",
      "cac8977da21a   bridge    bridge    local\n",
      "f8b2503d0640   host      host      local\n",
      "b1d7e6bda275   none      null      local\n"
     ]
    }
   ],
   "source": [
    "%%bash\n",
    "docker network ls"
   ]
  },
  {
   "attachments": {},
   "cell_type": "markdown",
   "metadata": {},
   "source": [
    "# Подключение к сети"
   ]
  },
  {
   "attachments": {},
   "cell_type": "markdown",
   "metadata": {},
   "source": [
    "### При создании контейнера\n",
    "\n",
    "Производится, через указывание опции `--net=<имя/id сети>`. Далее в примере демонстрирую, что как минимум ничего не сломалось."
   ]
  },
  {
   "cell_type": "code",
   "execution_count": 5,
   "metadata": {},
   "outputs": [
    {
     "name": "stdout",
     "output_type": "stream",
     "text": [
      "ee6e4f29315a7fcf3a5ad2ee39cdb86bb178ebb296563fee73b432a30799a33c\n",
      "just_net\n"
     ]
    }
   ],
   "source": [
    "%%bash\n",
    "docker run --rm -di --net=none --name just_net ubuntu_curl\n",
    "docker stop just_net"
   ]
  },
  {
   "attachments": {},
   "cell_type": "markdown",
   "metadata": {},
   "source": [
    "### Подключение/откллючение уже созданного контейнера\n",
    "\n",
    "Производится с помощью комманды \n",
    " - Для подключения используется `docker network connect <сеть> <контейнер>`;\n",
    " - Для отключения используется `docker network disconnect <сеть> <контейнер>`."
   ]
  },
  {
   "cell_type": "code",
   "execution_count": 6,
   "metadata": {},
   "outputs": [
    {
     "name": "stdout",
     "output_type": "stream",
     "text": [
      "1ced62443c8437cdc2e4e3910957b2632cded2d709634543a6a212d6f4d08d7a\n",
      "a8f26f0c7bea903a0c61a2d553b2ace6b96a952f1e0120159e1042463208a6f3\n",
      "test_nginx\n",
      "test_network\n"
     ]
    }
   ],
   "source": [
    "%%bash\n",
    "# запускаю контейнер с nginx он по умолчанию\n",
    "# прикрепляется к bridge\n",
    "docker run --rm --name test_nginx -itd nginx\n",
    "# создаю новую сетку и цепляю не нее этот nginx\n",
    "docker network create test_network\n",
    "sleep 10\n",
    "docker network connect test_network test_nginx\n",
    "\n",
    "# отцепляю nginx от bridge\n",
    "docker network disconnect bridge test_nginx\n",
    "\n",
    "docker stop test_nginx\n",
    "docker network rm test_network"
   ]
  },
  {
   "attachments": {},
   "cell_type": "markdown",
   "metadata": {},
   "source": [
    "# Сети по умолчанию\n",
    "\n",
    "В docker по умолчанию доступно 3 сети:"
   ]
  },
  {
   "cell_type": "code",
   "execution_count": 2,
   "metadata": {},
   "outputs": [
    {
     "name": "stdout",
     "output_type": "stream",
     "text": [
      "NETWORK ID     NAME      DRIVER    SCOPE\n",
      "cac8977da21a   bridge    bridge    local\n",
      "f8b2503d0640   host      host      local\n",
      "b1d7e6bda275   none      null      local\n"
     ]
    }
   ],
   "source": [
    "%%bash\n",
    "docker network ls"
   ]
  },
  {
   "attachments": {},
   "cell_type": "markdown",
   "metadata": {},
   "source": [
    "### Сеть none\n",
    "\n",
    "Производит полное блокирование контейнера от сети."
   ]
  },
  {
   "attachments": {},
   "cell_type": "markdown",
   "metadata": {},
   "source": [
    "Так попробуем запустить clickhouse на этой сети и сделать к нему запрос. `curl: (7) Failed to connect to localhost port 8123 after 0 ms: Connection refused` свидетельствует о том, что по заданному адресу ничего не отвечат."
   ]
  },
  {
   "cell_type": "code",
   "execution_count": 5,
   "metadata": {},
   "outputs": [
    {
     "name": "stdout",
     "output_type": "stream",
     "text": [
      "05db6909cc4de9e808ffe927ad06594fafce9ea6e0a54e6fadf38f04e266759b\n"
     ]
    },
    {
     "name": "stderr",
     "output_type": "stream",
     "text": [
      "  % Total    % Received % Xferd  Average Speed   Time    Time     Time  Current\n",
      "                                 Dload  Upload   Total   Spent    Left  Speed\n",
      "  0     0    0     0    0     0      0      0 --:--:-- --:--:-- --:--:--     0\n",
      "curl: (7) Failed to connect to localhost port 8123 after 0 ms: Connection refused\n"
     ]
    },
    {
     "name": "stdout",
     "output_type": "stream",
     "text": [
      "none_example\n"
     ]
    }
   ],
   "source": [
    "%%bash\n",
    "docker run --rm -d --name none_example -p 8123:8123 --net=none yandex/clickhouse-server\n",
    "# нельзя забывать, что clickhouse долговато поднимается\n",
    "sleep 10\n",
    "curl localhost:8123\n",
    "docker stop none_example"
   ]
  },
  {
   "attachments": {},
   "cell_type": "markdown",
   "metadata": {},
   "source": [
    "Так же из нутри контейнера, нельзя будет достучаться в интернет. Так в следующем примере я запускаю ubuntu с предустановленным curl и получаю, и не могу из него достучаться до google.com. `curl: (6) Could not resolve host: google.com` свидетельсвует о том, что из контейнера не получается достучаться до google.com."
   ]
  },
  {
   "cell_type": "code",
   "execution_count": 2,
   "metadata": {},
   "outputs": [
    {
     "name": "stdout",
     "output_type": "stream",
     "text": [
      "3dd6e8e5f072ff86380acf7f092093bb96a1a1d7a3b091aaaf32d6ee21763e3c\n"
     ]
    },
    {
     "name": "stderr",
     "output_type": "stream",
     "text": [
      "  % Total    % Received % Xferd  Average Speed   Time    Time     Time  Current\n",
      "                                 Dload  Upload   Total   Spent    Left  Speed\n",
      "  0     0    0     0    0     0      0      0 --:--:-- --:--:-- --:--:--     0curl: (6) Could not resolve host: google.com\n"
     ]
    },
    {
     "name": "stdout",
     "output_type": "stream",
     "text": [
      "none_example\n"
     ]
    }
   ],
   "source": [
    "%%bash\n",
    "docker run -itd --rm --net=none --name none_example ubuntu_curl\n",
    "docker exec none_example curl google.com\n",
    "docker stop none_example"
   ]
  },
  {
   "attachments": {},
   "cell_type": "markdown",
   "metadata": {},
   "source": [
    "### Сеть host\n",
    "\n",
    "Полностью убирает сетевую изоляцию контейнера, то есть контейнер делит с хостом сеть полностью."
   ]
  },
  {
   "attachments": {},
   "cell_type": "markdown",
   "metadata": {},
   "source": [
    "Так в примере я запускаю yandex/clickhouse-server без указания каких-либо портов. В результате, этот clickhouse всеравно будет отвечать (даже без указанных портов)."
   ]
  },
  {
   "cell_type": "code",
   "execution_count": 6,
   "metadata": {},
   "outputs": [
    {
     "name": "stdout",
     "output_type": "stream",
     "text": [
      "69120ad84831e74d88b6085e5b38ca8ba2a0f05ff9b66ac2748a01b7974707e6\n"
     ]
    },
    {
     "name": "stderr",
     "output_type": "stream",
     "text": [
      "  % Total    % Received % Xferd  Average Speed   Time    Time     Time  Current\n",
      "                                 Dload  Upload   Total   Spent    Left  Speed\n",
      "100     4    0     4    0     0   4149      0 --:--:-- --:--:-- --:--:--  4000\n"
     ]
    },
    {
     "name": "stdout",
     "output_type": "stream",
     "text": [
      "Ok.\n",
      "host_example\n"
     ]
    }
   ],
   "source": [
    "%%bash\n",
    "docker run --rm -d --name host_example --net=host yandex/clickhouse-server\n",
    "# нельзя забывать, что clickhouse долговато поднимается\n",
    "sleep 10\n",
    "curl localhost:8123\n",
    "docker stop host_example"
   ]
  },
  {
   "attachments": {},
   "cell_type": "markdown",
   "metadata": {},
   "source": [
    "### Сеть bridge\n",
    "\n",
    "Сеть в которой контейнеры создаются по умолчанию. Далее показано несколько трюков.\n",
    "\n",
    "**Весь этот раздел воспроиводится особым образом**\n",
    "\n",
    "Я предварительно поднял контейнеры с yandex/clickhouse-server и ubuntu с предустановленным curl:"
   ]
  },
  {
   "cell_type": "code",
   "execution_count": 7,
   "metadata": {},
   "outputs": [
    {
     "name": "stdout",
     "output_type": "stream",
     "text": [
      "CONTAINER ID   IMAGE                      COMMAND            CREATED              STATUS              PORTS                          NAMES\n",
      "3c653442fea3   ubuntu_curl                \"/bin/bash\"        About a minute ago   Up About a minute                                  ubu\n",
      "3f047e11c417   yandex/clickhouse-server   \"/entrypoint.sh\"   2 minutes ago        Up 2 minutes        8123/tcp, 9000/tcp, 9009/tcp   click\n"
     ]
    }
   ],
   "source": [
    "%%bash\n",
    "docker ps"
   ]
  },
  {
   "attachments": {},
   "cell_type": "markdown",
   "metadata": {},
   "source": [
    "Теперь демонстрирую результат комманды `insperct` (позволяет получить низкоуровневую инофрмацию о любом объекте docker) для сети bridge."
   ]
  },
  {
   "cell_type": "code",
   "execution_count": 8,
   "metadata": {},
   "outputs": [
    {
     "name": "stdout",
     "output_type": "stream",
     "text": [
      "[\n",
      "    {\n",
      "        \"Name\": \"bridge\",\n",
      "        \"Id\": \"243b737447851abe893a50fab43e6fd6304423b81f848e31ae974692bb2388a5\",\n",
      "        \"Created\": \"2023-03-22T16:23:03.478736367+03:00\",\n",
      "        \"Scope\": \"local\",\n",
      "        \"Driver\": \"bridge\",\n",
      "        \"EnableIPv6\": false,\n",
      "        \"IPAM\": {\n",
      "            \"Driver\": \"default\",\n",
      "            \"Options\": null,\n",
      "            \"Config\": [\n",
      "                {\n",
      "                    \"Subnet\": \"172.17.0.0/16\",\n",
      "                    \"Gateway\": \"172.17.0.1\"\n",
      "                }\n",
      "            ]\n",
      "        },\n",
      "        \"Internal\": false,\n",
      "        \"Attachable\": false,\n",
      "        \"Ingress\": false,\n",
      "        \"ConfigFrom\": {\n",
      "            \"Network\": \"\"\n",
      "        },\n",
      "        \"ConfigOnly\": false,\n",
      "        \"Containers\": {\n",
      "            \"3c653442fea36887a8ff860b337148053ba5583c74ad635eeaa0bce4f75c8432\": {\n",
      "                \"Name\": \"ubu\",\n",
      "                \"EndpointID\": \"f29acdda0cc093af06a9797386eed25d491bb67e9e09112bae235657c81f93c9\",\n",
      "                \"MacAddress\": \"02:42:ac:11:00:03\",\n",
      "                \"IPv4Address\": \"172.17.0.3/16\",\n",
      "                \"IPv6Address\": \"\"\n",
      "            },\n",
      "            \"3f047e11c417e87a9f4e6eda57f0eed13695e569baf40d0dc0ff7204f209c08b\": {\n",
      "                \"Name\": \"click\",\n",
      "                \"EndpointID\": \"c872977345db4fb11ba931f75228816c4082b6879575167bc647f5c11cf94439\",\n",
      "                \"MacAddress\": \"02:42:ac:11:00:02\",\n",
      "                \"IPv4Address\": \"172.17.0.2/16\",\n",
      "                \"IPv6Address\": \"\"\n",
      "            }\n",
      "        },\n",
      "        \"Options\": {\n",
      "            \"com.docker.network.bridge.default_bridge\": \"true\",\n",
      "            \"com.docker.network.bridge.enable_icc\": \"true\",\n",
      "            \"com.docker.network.bridge.enable_ip_masquerade\": \"true\",\n",
      "            \"com.docker.network.bridge.host_binding_ipv4\": \"0.0.0.0\",\n",
      "            \"com.docker.network.bridge.name\": \"docker0\",\n",
      "            \"com.docker.network.driver.mtu\": \"1500\"\n",
      "        },\n",
      "        \"Labels\": {}\n",
      "    }\n",
      "]\n"
     ]
    }
   ],
   "source": [
    "%%bash\n",
    "docker inspect bridge"
   ]
  },
  {
   "attachments": {},
   "cell_type": "markdown",
   "metadata": {},
   "source": [
    "Обращаю внимание на поле \"Containers\" а в нем на поля \"IPv4Address\". По этим адресам мы можем общаться между контейнерами. Так вот например и из ubuntu спрошу clikchouse. Ok свидетельсвует о том, что я дейвительно дотянулся."
   ]
  },
  {
   "cell_type": "code",
   "execution_count": 9,
   "metadata": {},
   "outputs": [
    {
     "name": "stderr",
     "output_type": "stream",
     "text": [
      "  % Total    % Received % Xferd  Average Speed   Time    Time     Time  Current\n",
      "                                 Dload  Upload   Total   Spent    Left  Speed\n",
      "100     4    0     4    0     0   4944      0 --:--:-- --:--:-- --:--:--  4000\n"
     ]
    },
    {
     "name": "stdout",
     "output_type": "stream",
     "text": [
      "Ok.\n"
     ]
    }
   ],
   "source": [
    "%%bash\n",
    "docker exec ubu curl 172.17.0.2:8123"
   ]
  },
  {
   "attachments": {},
   "cell_type": "markdown",
   "metadata": {},
   "source": [
    "Более того, несмотря на то, что я не указывал портов при поднятии контейнера clickhouse, через этот ip я могу достучаться до clickhouse и из хоста. В следующем примере, я сравниваю результат запроса на localhost и на этот ip.\n",
    "\n",
    "- В первом случае никуда я не достучался и закономерно получил `curl: (7) Failed to connect to localhost port 8123 after 0 ms: Connection refused`;\n",
    "- Во втором случа clickhouse мне отвечает как ни в чем не бывало `Ok.`."
   ]
  },
  {
   "cell_type": "code",
   "execution_count": 10,
   "metadata": {},
   "outputs": [
    {
     "name": "stderr",
     "output_type": "stream",
     "text": [
      "  % Total    % Received % Xferd  Average Speed   Time    Time     Time  Current\n",
      "                                 Dload  Upload   Total   Spent    Left  Speed\n",
      "  0     0    0     0    0     0      0      0 --:--:-- --:--:-- --:--:--     0\n",
      "curl: (7) Failed to connect to localhost port 8123 after 0 ms: Connection refused\n",
      "  % Total    % Received % Xferd  Average Speed   Time    Time     Time  Current\n",
      "                                 Dload  Upload   Total   Spent    Left  Speed\n",
      "100     4    0     4    0     0   9302      0 --:--:-- --:--:-- --:--:--  4000\n"
     ]
    },
    {
     "name": "stdout",
     "output_type": "stream",
     "text": [
      "Ok.\n"
     ]
    }
   ],
   "source": [
    "%%bash\n",
    "curl localhost:8123\n",
    "curl 172.17.0.2:8123"
   ]
  },
  {
   "attachments": {},
   "cell_type": "markdown",
   "metadata": {},
   "source": [
    "# Сетевые интерфейсы\n",
    "\n",
    "Каждый контейнер создает новый сетевой интерфейс. Сетевые интерфейсы в linux можно посмотреть с помощью утилиты `ifconfig`. Далее пример, как выболняется `ifconfig` по умолчанию (с установленным docker)."
   ]
  },
  {
   "cell_type": "code",
   "execution_count": 1,
   "metadata": {},
   "outputs": [
    {
     "name": "stdout",
     "output_type": "stream",
     "text": [
      "docker0: flags=4099<UP,BROADCAST,MULTICAST>  mtu 1500\n",
      "        inet 172.17.0.1  netmask 255.255.0.0  broadcast 172.17.255.255\n",
      "        inet6 fe80::42:1eff:fe03:26e4  prefixlen 64  scopeid 0x20<link>\n",
      "        ether 02:42:1e:03:26:e4  txqueuelen 0  (Ethernet)\n",
      "        RX packets 32158  bytes 1793702 (1.7 MB)\n",
      "        RX errors 0  dropped 0  overruns 0  frame 0\n",
      "        TX packets 39205  bytes 192903770 (192.9 MB)\n",
      "        TX errors 0  dropped 0 overruns 0  carrier 0  collisions 0\n",
      "\n",
      "lo: flags=73<UP,LOOPBACK,RUNNING>  mtu 65536\n",
      "        inet 127.0.0.1  netmask 255.0.0.0\n",
      "        inet6 ::1  prefixlen 128  scopeid 0x10<host>\n",
      "        loop  txqueuelen 1000  (Local Loopback)\n",
      "        RX packets 27239  bytes 6082445 (6.0 MB)\n",
      "        RX errors 0  dropped 0  overruns 0  frame 0\n",
      "        TX packets 27239  bytes 6082445 (6.0 MB)\n",
      "        TX errors 0  dropped 0 overruns 0  carrier 0  collisions 0\n",
      "\n",
      "wlp0s20f3: flags=4163<UP,BROADCAST,RUNNING,MULTICAST>  mtu 1500\n",
      "        inet 192.168.100.10  netmask 255.255.255.0  broadcast 192.168.100.255\n",
      "        inet6 fe80::735b:b9a:6447:646d  prefixlen 64  scopeid 0x20<link>\n",
      "        ether dc:41:a9:2e:4c:6c  txqueuelen 1000  (Ethernet)\n",
      "        RX packets 312466  bytes 417021190 (417.0 MB)\n",
      "        RX errors 0  dropped 0  overruns 0  frame 0\n",
      "        TX packets 68174  bytes 16481710 (16.4 MB)\n",
      "        TX errors 0  dropped 0 overruns 0  carrier 0  collisions 0\n",
      "\n"
     ]
    }
   ],
   "source": [
    "%%bash\n",
    "ifconfig"
   ]
  },
  {
   "attachments": {},
   "cell_type": "markdown",
   "metadata": {},
   "source": [
    "А теперь запустим какой-нибудь контейнер и посмотрим результат `ifconfig`. Появляется `veth...`, который и представляет собой интерфейс этого контейнера."
   ]
  },
  {
   "cell_type": "code",
   "execution_count": 2,
   "metadata": {},
   "outputs": [
    {
     "name": "stdout",
     "output_type": "stream",
     "text": [
      "64034d23001182e6a73b5fc24ad5de41800b6fb7a043b72de0d17aa4cde44aa2\n",
      "docker0: flags=4163<UP,BROADCAST,RUNNING,MULTICAST>  mtu 1500\n",
      "        inet 172.17.0.1  netmask 255.255.0.0  broadcast 172.17.255.255\n",
      "        inet6 fe80::42:1eff:fe03:26e4  prefixlen 64  scopeid 0x20<link>\n",
      "        ether 02:42:1e:03:26:e4  txqueuelen 0  (Ethernet)\n",
      "        RX packets 32158  bytes 1793702 (1.7 MB)\n",
      "        RX errors 0  dropped 0  overruns 0  frame 0\n",
      "        TX packets 39206  bytes 192903900 (192.9 MB)\n",
      "        TX errors 0  dropped 0 overruns 0  carrier 0  collisions 0\n",
      "\n",
      "lo: flags=73<UP,LOOPBACK,RUNNING>  mtu 65536\n",
      "        inet 127.0.0.1  netmask 255.0.0.0\n",
      "        inet6 ::1  prefixlen 128  scopeid 0x10<host>\n",
      "        loop  txqueuelen 1000  (Local Loopback)\n",
      "        RX packets 29201  bytes 6753989 (6.7 MB)\n",
      "        RX errors 0  dropped 0  overruns 0  frame 0\n",
      "        TX packets 29201  bytes 6753989 (6.7 MB)\n",
      "        TX errors 0  dropped 0 overruns 0  carrier 0  collisions 0\n",
      "\n",
      "veth29fa8ed: flags=4163<UP,BROADCAST,RUNNING,MULTICAST>  mtu 1500\n",
      "        inet6 fe80::874:a8ff:febd:21d0  prefixlen 64  scopeid 0x20<link>\n",
      "        ether 0a:74:a8:bd:21:d0  txqueuelen 0  (Ethernet)\n",
      "        RX packets 0  bytes 0 (0.0 B)\n",
      "        RX errors 0  dropped 0  overruns 0  frame 0\n",
      "        TX packets 2  bytes 220 (220.0 B)\n",
      "        TX errors 0  dropped 0 overruns 0  carrier 0  collisions 0\n",
      "\n",
      "wlp0s20f3: flags=4163<UP,BROADCAST,RUNNING,MULTICAST>  mtu 1500\n",
      "        inet 192.168.100.10  netmask 255.255.255.0  broadcast 192.168.100.255\n",
      "        inet6 fe80::735b:b9a:6447:646d  prefixlen 64  scopeid 0x20<link>\n",
      "        ether dc:41:a9:2e:4c:6c  txqueuelen 1000  (Ethernet)\n",
      "        RX packets 313325  bytes 417478943 (417.4 MB)\n",
      "        RX errors 0  dropped 0  overruns 0  frame 0\n",
      "        TX packets 68966  bytes 17051363 (17.0 MB)\n",
      "        TX errors 0  dropped 0 overruns 0  carrier 0  collisions 0\n",
      "\n",
      "ubuntu_inter\n"
     ]
    }
   ],
   "source": [
    "%%bash\n",
    "docker run --rm -itd --name ubuntu_inter ubuntu\n",
    "ifconfig\n",
    "docker stop ubuntu_inter"
   ]
  },
  {
   "attachments": {},
   "cell_type": "markdown",
   "metadata": {},
   "source": [
    "*Примечание* интерфейсы можно слушать с помощью утилиты `tcpdump`."
   ]
  },
  {
   "attachments": {},
   "cell_type": "markdown",
   "metadata": {},
   "source": [
    "# Кастомные сети\n",
    "\n",
    "Для создания собсвенной сети в api `network` используется команда `create`. Она создается используя DRIVER bridge, соответсвенно обладает всеми свойсвами сети bridge.\n",
    "\n",
    "Для удаления сети используется команда `rm`, так в следующем примере будет создана сеть `new_net` и сразу же удалена."
   ]
  },
  {
   "cell_type": "code",
   "execution_count": 2,
   "metadata": {},
   "outputs": [
    {
     "name": "stdout",
     "output_type": "stream",
     "text": [
      "5222bef596010f96790439ddc3dd6a392850f90bb660c820e993c7329e653b89\n",
      "NETWORK ID     NAME      DRIVER    SCOPE\n",
      "e2df331917d9   bridge    bridge    local\n",
      "f8b2503d0640   host      host      local\n",
      "5222bef59601   new_net   bridge    local\n",
      "b1d7e6bda275   none      null      local\n",
      "new_net\n"
     ]
    }
   ],
   "source": [
    "%%bash\n",
    "docker network create new_net\n",
    "docker network ls\n",
    "docker network rm new_netb"
   ]
  },
  {
   "attachments": {},
   "cell_type": "markdown",
   "metadata": {},
   "source": [
    "# Пример изоляции\n",
    "\n",
    "Продемонстрируем, что контейнеры развернутые в одной сети типа \"bridge\" могут достучаться друг до друга. А в разных - нет.\n",
    "\n",
    "В следующей ячейке я создаю три контейнера - два из них в сети \"bridge\" и последний в кастомной сети \"new_net\"."
   ]
  },
  {
   "cell_type": "code",
   "execution_count": 25,
   "metadata": {},
   "outputs": [
    {
     "name": "stdout",
     "output_type": "stream",
     "text": [
      "268c559a31fa4de87f1f96e344429086ecaaf57bfced8d3872e464ed7393ac99\n",
      "f6f2903f851b129dc98a5526c7aa52c5b4a51572088e1571b8361bdf20b1212d\n",
      "b96ad8e7eaa1294d4debd7afc69ee180f76ee96df2eaea4ead6b66b318342736\n",
      "f13eaef8c1e69a14c8529ba3614422fef68b76640a2c9b9a2af31a1f47f5c186\n"
     ]
    }
   ],
   "source": [
    "%%bash\n",
    "docker run --rm -itd --name ubuntu_bridge1 ubuntu_curl\n",
    "docker run --rm -itd --name ubuntu_bridge2 ubuntu_curl\n",
    "\n",
    "docker network create new_net\n",
    "docker run --rm -itd --name ubuntu_new_net --net=new_net ubuntu_curl"
   ]
  },
  {
   "attachments": {},
   "cell_type": "markdown",
   "metadata": {},
   "source": [
    "Получаю информацию о сетях. Тут самое главное это ip контейнеров:\n",
    "- \"ubuntu_bridge1\" - 172.17.0.2;\n",
    "- \"ubuntu_bridge2\" - 172.17.0.3;\n",
    "- \"ubuntu_new_net\" - 172.21.0.2 (этот ip от запуска к запуску может меняться);"
   ]
  },
  {
   "cell_type": "code",
   "execution_count": 26,
   "metadata": {},
   "outputs": [
    {
     "name": "stdout",
     "output_type": "stream",
     "text": [
      "[\n",
      "    {\n",
      "        \"Name\": \"bridge\",\n",
      "        \"Id\": \"f2435156fe9a8b2feb702177a4e2b67d89ab065fc643bdf8260e152c19342bfb\",\n",
      "        \"Created\": \"2023-03-26T20:14:42.936227946+03:00\",\n",
      "        \"Scope\": \"local\",\n",
      "        \"Driver\": \"bridge\",\n",
      "        \"EnableIPv6\": false,\n",
      "        \"IPAM\": {\n",
      "            \"Driver\": \"default\",\n",
      "            \"Options\": null,\n",
      "            \"Config\": [\n",
      "                {\n",
      "                    \"Subnet\": \"172.17.0.0/16\",\n",
      "                    \"Gateway\": \"172.17.0.1\"\n",
      "                }\n",
      "            ]\n",
      "        },\n",
      "        \"Internal\": false,\n",
      "        \"Attachable\": false,\n",
      "        \"Ingress\": false,\n",
      "        \"ConfigFrom\": {\n",
      "            \"Network\": \"\"\n",
      "        },\n",
      "        \"ConfigOnly\": false,\n",
      "        \"Containers\": {\n",
      "            \"268c559a31fa4de87f1f96e344429086ecaaf57bfced8d3872e464ed7393ac99\": {\n",
      "                \"Name\": \"ubuntu_bridge1\",\n",
      "                \"EndpointID\": \"d67e3d4fb30ebbdfb8f60edb65598bf3b2dd72f558847c65fdb4ccef8c043989\",\n",
      "                \"MacAddress\": \"02:42:ac:11:00:02\",\n",
      "                \"IPv4Address\": \"172.17.0.2/16\",\n",
      "                \"IPv6Address\": \"\"\n",
      "            },\n",
      "            \"f6f2903f851b129dc98a5526c7aa52c5b4a51572088e1571b8361bdf20b1212d\": {\n",
      "                \"Name\": \"ubuntu_bridge2\",\n",
      "                \"EndpointID\": \"d69d898e96b0838756a0415d5f49e02c34757dcf2a43c6ba44fae6ffe773e3d2\",\n",
      "                \"MacAddress\": \"02:42:ac:11:00:03\",\n",
      "                \"IPv4Address\": \"172.17.0.3/16\",\n",
      "                \"IPv6Address\": \"\"\n",
      "            }\n",
      "        },\n",
      "        \"Options\": {\n",
      "            \"com.docker.network.bridge.default_bridge\": \"true\",\n",
      "            \"com.docker.network.bridge.enable_icc\": \"true\",\n",
      "            \"com.docker.network.bridge.enable_ip_masquerade\": \"true\",\n",
      "            \"com.docker.network.bridge.host_binding_ipv4\": \"0.0.0.0\",\n",
      "            \"com.docker.network.bridge.name\": \"docker0\",\n",
      "            \"com.docker.network.driver.mtu\": \"1500\"\n",
      "        },\n",
      "        \"Labels\": {}\n",
      "    }\n",
      "]\n",
      "[\n",
      "    {\n",
      "        \"Name\": \"new_net\",\n",
      "        \"Id\": \"b96ad8e7eaa1294d4debd7afc69ee180f76ee96df2eaea4ead6b66b318342736\",\n",
      "        \"Created\": \"2023-03-26T21:06:06.063558177+03:00\",\n",
      "        \"Scope\": \"local\",\n",
      "        \"Driver\": \"bridge\",\n",
      "        \"EnableIPv6\": false,\n",
      "        \"IPAM\": {\n",
      "            \"Driver\": \"default\",\n",
      "            \"Options\": {},\n",
      "            \"Config\": [\n",
      "                {\n",
      "                    \"Subnet\": \"172.21.0.0/16\",\n",
      "                    \"Gateway\": \"172.21.0.1\"\n",
      "                }\n",
      "            ]\n",
      "        },\n",
      "        \"Internal\": false,\n",
      "        \"Attachable\": false,\n",
      "        \"Ingress\": false,\n",
      "        \"ConfigFrom\": {\n",
      "            \"Network\": \"\"\n",
      "        },\n",
      "        \"ConfigOnly\": false,\n",
      "        \"Containers\": {\n",
      "            \"f13eaef8c1e69a14c8529ba3614422fef68b76640a2c9b9a2af31a1f47f5c186\": {\n",
      "                \"Name\": \"ubuntu_new_net\",\n",
      "                \"EndpointID\": \"de8440213aec37fbccb433e903cc3c0dd48d32daf7ca7024adfc82cd52f17723\",\n",
      "                \"MacAddress\": \"02:42:ac:15:00:02\",\n",
      "                \"IPv4Address\": \"172.21.0.2/16\",\n",
      "                \"IPv6Address\": \"\"\n",
      "            }\n",
      "        },\n",
      "        \"Options\": {},\n",
      "        \"Labels\": {}\n",
      "    }\n",
      "]\n"
     ]
    }
   ],
   "source": [
    "%%bash\n",
    "docker inspect bridge\n",
    "docker inspect new_net"
   ]
  },
  {
   "attachments": {},
   "cell_type": "markdown",
   "metadata": {},
   "source": [
    "Из контейнера \"ubuntu_bridge1\" стучусь в контейнер \"ubuntu_bridge2\" с которым они в одной подсети, и, конечно, получаю ответ."
   ]
  },
  {
   "cell_type": "code",
   "execution_count": 27,
   "metadata": {},
   "outputs": [
    {
     "name": "stdout",
     "output_type": "stream",
     "text": [
      "PING 172.17.0.3 (172.17.0.3) 56(84) bytes of data.\n",
      "64 bytes from 172.17.0.3: icmp_seq=1 ttl=64 time=0.086 ms\n",
      "64 bytes from 172.17.0.3: icmp_seq=2 ttl=64 time=0.109 ms\n",
      "64 bytes from 172.17.0.3: icmp_seq=3 ttl=64 time=0.110 ms\n",
      "64 bytes from 172.17.0.3: icmp_seq=4 ttl=64 time=0.083 ms\n",
      "\n",
      "--- 172.17.0.3 ping statistics ---\n",
      "4 packets transmitted, 4 received, 0% packet loss, time 3078ms\n",
      "rtt min/avg/max/mdev = 0.083/0.097/0.110/0.012 ms\n"
     ]
    }
   ],
   "source": [
    "%%bash\n",
    "docker exec ubuntu_bridge1 ping -c 4 172.17.0.3"
   ]
  },
  {
   "attachments": {},
   "cell_type": "markdown",
   "metadata": {},
   "source": [
    "Теперь из контейнера \"ubuntu_bridge1\" стучусь в контейнер \"ubuntu_new_net\". Они в разных подсетях потому и ответа я не получил."
   ]
  },
  {
   "cell_type": "code",
   "execution_count": 31,
   "metadata": {},
   "outputs": [
    {
     "name": "stdout",
     "output_type": "stream",
     "text": [
      "PING 172.21.0.2 (172.21.0.2) 56(84) bytes of data.\n",
      "\n",
      "--- 172.21.0.2 ping statistics ---\n",
      "4 packets transmitted, 0 received, 100% packet loss, time 3062ms\n",
      "\n",
      "1\n"
     ]
    }
   ],
   "source": [
    "%%bash\n",
    "# echo в конце надо чтобы не выдавалась ошибка\n",
    "# которую генерит ping когда у него не получилось\n",
    "# достучаться до сервака\n",
    "docker exec ubuntu_bridge1 ping -c 4 -q 172.21.0.2;  echo $?"
   ]
  },
  {
   "attachments": {},
   "cell_type": "markdown",
   "metadata": {},
   "source": [
    "В конце концов, все удаляю, чтобы не захломляться."
   ]
  },
  {
   "cell_type": "code",
   "execution_count": 32,
   "metadata": {},
   "outputs": [
    {
     "name": "stdout",
     "output_type": "stream",
     "text": [
      "ubuntu_bridge1\n",
      "ubuntu_bridge2\n",
      "ubuntu_new_net\n",
      "new_net\n"
     ]
    }
   ],
   "source": [
    "%%bash\n",
    "docker stop ubuntu_bridge1 ubuntu_bridge2 ubuntu_new_net\n",
    "docker network rm new_net"
   ]
  }
 ],
 "metadata": {
  "kernelspec": {
   "display_name": "Python 3",
   "language": "python",
   "name": "python3"
  },
  "language_info": {
   "codemirror_mode": {
    "name": "ipython",
    "version": 3
   },
   "file_extension": ".py",
   "mimetype": "text/x-python",
   "name": "python",
   "nbconvert_exporter": "python",
   "pygments_lexer": "ipython3",
   "version": "3.10.6"
  },
  "orig_nbformat": 4
 },
 "nbformat": 4,
 "nbformat_minor": 2
}
