{
 "cells": [
  {
   "cell_type": "markdown",
   "id": "9b9840fa-80c6-4d09-a6bd-0d7e02b0b829",
   "metadata": {},
   "source": [
    "# Default networks"
   ]
  },
  {
   "cell_type": "markdown",
   "id": "38beaca8-6afe-497e-ae89-9af50cc270d8",
   "metadata": {},
   "source": [
    "Docker comes with three nets by default."
   ]
  },
  {
   "cell_type": "code",
   "execution_count": 1,
   "id": "eb1092dc-e008-4f03-8f25-3190fc15f59d",
   "metadata": {},
   "outputs": [
    {
     "name": "stdout",
     "output_type": "stream",
     "text": [
      "NETWORK ID     NAME      DRIVER    SCOPE\n",
      "1726f609501a   bridge    bridge    local\n",
      "80c3e6772c8c   host      host      local\n",
      "45bb103d970f   none      null      local\n"
     ]
    }
   ],
   "source": [
    "!docker network ls"
   ]
  },
  {
   "cell_type": "markdown",
   "id": "356cd08d-69ed-4476-93d4-a36efc134b78",
   "metadata": {},
   "source": [
    "## Network `none`\n",
    "\n",
    "By connecting the container to this network, it is completely blocked from any interactions through the network."
   ]
  },
  {
   "cell_type": "markdown",
   "id": "2daa8568-502b-4a90-b4f8-6779767555d1",
   "metadata": {},
   "source": [
    "In the following cell, there is a simple bash script that allows you to compare the behavior of the container to make it make a fucking bug?"
   ]
  },
  {
   "cell_type": "markdown",
   "id": "25526c99-a0b4-4b60-94c5-b3ef5a66843c",
   "metadata": {},
   "source": [
    "### From host to container"
   ]
  },
  {
   "cell_type": "markdown",
   "id": "d9cfe7e7-8b9f-4e1e-90e2-82107f8f7cc9",
   "metadata": {},
   "source": [
    "In the following cell, there is a simple bash script that allows you to compare the behavior of a container connected to the `bridge` network and a container connected to the `none` network.\n",
    "\n",
    "At the beginning, a container is started using the `bridge` network. When the command `curl localhost:80` is executed, a basic nginx response is received. \n",
    "\n",
    "Then, the network for the container is changed to `none`. As a consequence, when the command `curl localhost:80` is executed again, there is no response. This lack of response is a consequence of using the `none` network for the container.\n",
    "\n",
    "Overall, this script demonstrates the impact of network selection on the container's ability to communicate and receive responses."
   ]
  },
  {
   "cell_type": "code",
   "execution_count": 2,
   "id": "ed54c79d-67b9-47ef-90ad-f5d399dc7498",
   "metadata": {},
   "outputs": [
    {
     "name": "stdout",
     "output_type": "stream",
     "text": [
      "4a093f76ed7b8b10c4ef46873ada94a5b49fce7266b81588031693ba72dd1a42\n",
      "=====DEFAULT NETWORK=====\n",
      "-----network name-----\n",
      "bridge \n",
      "-----curl to nginx-----\n",
      "<!DOCTYPE html>\n",
      "<html>\n",
      "<head>\n",
      "<title>Welcome to nginx!</title>\n",
      "<style>\n",
      "html { color-scheme: light dark; }\n",
      "body { width: 35em; margin: 0 auto;\n",
      "font-family: Tahoma, Verdana, Arial, sans-serif; }\n",
      "</style>\n",
      "</head>\n",
      "\n",
      "\n",
      "=====none NETWORK=====\n",
      "-----network name-----\n",
      "none \n",
      "-----curl to nginx-----\n"
     ]
    }
   ],
   "source": [
    "%%bash\n",
    "docker run --rm -itd\\\n",
    "    -p 80:80 \\\n",
    "    --name network_example\\\n",
    "    nginx\n",
    "sleep 2 &> /dev/null\n",
    "\n",
    "echo \"=====DEFAULT NETWORK=====\"\n",
    "echo \"-----network name-----\"\n",
    "docker inspect -f \\\n",
    "    '{{range $key, $value := .NetworkSettings.Networks}}{{$key}} {{end}}' \\\n",
    "    network_example\n",
    "echo \"-----curl to nginx-----\"\n",
    "curl -s localhost:80 | head -n 10\n",
    "\n",
    "docker network disconnect bridge network_example\n",
    "docker network connect none network_example\n",
    "\n",
    "echo\n",
    "echo\n",
    "echo \"=====none NETWORK=====\"\n",
    "echo \"-----network name-----\"\n",
    "docker inspect -f \\\n",
    "    '{{range $key, $value := .NetworkSettings.Networks}}{{$key}} {{end}}' \\\n",
    "    network_example\n",
    "echo \"-----curl to nginx-----\"\n",
    "curl -s localhost:80 | head -n 10\n",
    "\n",
    "docker stop network_example &> /dev/null"
   ]
  },
  {
   "cell_type": "markdown",
   "id": "73cf7495-0a6f-405f-9cdb-3122919fa3bb",
   "metadata": {},
   "source": [
    "### From container to internet\n",
    "\n",
    "Another feature of the `none` network is that it does not have access to the internet. for instance, you can use the `curl` command to fetch data from any website while the docker container is connected to the `bridge` network. however, if you switch the network to `none`, the `curl` command won't work.\n",
    "\n",
    "The script demonstrates this scenario. initially, the container is connected to the `bridge` network, and executing the `curl example.com` command within the container successfully fetches the webpage. but after switching the container to the `none` network, the same `curl` command does not produce any output."
   ]
  },
  {
   "cell_type": "code",
   "execution_count": 4,
   "id": "27a35402-e7fd-4ad1-b4f9-68364e902132",
   "metadata": {},
   "outputs": [
    {
     "name": "stdout",
     "output_type": "stream",
     "text": [
      "7c305926adedbbe6064780448036ac5ff840e859cddfaec9fd0ffa4277b2090c\n",
      "=====DEFAULT NETWORK=====\n",
      "-----network name-----\n",
      "bridge \n",
      "-----curl from bridge-----\n",
      "<!doctype html>\n",
      "<html>\n",
      "<head>\n",
      "    <title>Example Domain</title>\n",
      "\n",
      "    <meta charset=\"utf-8\" />\n",
      "    <meta http-equiv=\"Content-type\" content=\"text/html; charset=utf-8\" />\n",
      "    <meta name=\"viewport\" content=\"width=device-width, initial-scale=1\" />\n",
      "    <style type=\"text/css\">\n",
      "    body {\n",
      "\n",
      "\n",
      "=====none NETWORK=====\n",
      "-----network name-----\n",
      "none \n",
      "-----curl from none-----\n"
     ]
    }
   ],
   "source": [
    "%%bash\n",
    "docker run --rm -itd\\\n",
    "    --name network_example\\\n",
    "    nginx\n",
    "sleep 2 &> /dev/null\n",
    "\n",
    "echo \"=====DEFAULT NETWORK=====\"\n",
    "echo \"-----network name-----\"\n",
    "docker inspect -f \\\n",
    "    '{{range $key, $value := .NetworkSettings.Networks}}{{$key}} {{end}}' \\\n",
    "    network_example\n",
    "echo \"-----curl from bridge-----\"\n",
    "docker exec network_example curl -s http://example.com/ | head -n 10\n",
    "\n",
    "docker network disconnect bridge network_example\n",
    "docker network connect none network_example\n",
    "\n",
    "echo\n",
    "echo\n",
    "echo \"=====none NETWORK=====\"\n",
    "echo \"-----network name-----\"\n",
    "docker inspect -f \\\n",
    "    '{{range $key, $value := .NetworkSettings.Networks}}{{$key}} {{end}}' \\\n",
    "    network_example\n",
    "echo \"-----curl from none-----\"\n",
    "docker exec network_example curl -s http://example.com/ | head -n 10\n",
    "\n",
    "docker stop network_example &> /dev/null"
   ]
  }
 ],
 "metadata": {
  "kernelspec": {
   "display_name": "Python 3 (ipykernel)",
   "language": "python",
   "name": "python3"
  },
  "language_info": {
   "codemirror_mode": {
    "name": "ipython",
    "version": 3
   },
   "file_extension": ".py",
   "mimetype": "text/x-python",
   "name": "python",
   "nbconvert_exporter": "python",
   "pygments_lexer": "ipython3",
   "version": "3.10.12"
  }
 },
 "nbformat": 4,
 "nbformat_minor": 5
}
