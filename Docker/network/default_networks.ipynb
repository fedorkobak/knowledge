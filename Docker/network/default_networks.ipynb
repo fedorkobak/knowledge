{
 "cells": [
  {
   "cell_type": "markdown",
   "id": "9b9840fa-80c6-4d09-a6bd-0d7e02b0b829",
   "metadata": {},
   "source": [
    "# Default networks"
   ]
  },
  {
   "cell_type": "markdown",
   "id": "38beaca8-6afe-497e-ae89-9af50cc270d8",
   "metadata": {},
   "source": [
    "Docker comes with three nets by default."
   ]
  },
  {
   "cell_type": "code",
   "execution_count": 1,
   "id": "eb1092dc-e008-4f03-8f25-3190fc15f59d",
   "metadata": {},
   "outputs": [
    {
     "name": "stdout",
     "output_type": "stream",
     "text": [
      "NETWORK ID     NAME      DRIVER    SCOPE\n",
      "1726f609501a   bridge    bridge    local\n",
      "80c3e6772c8c   host      host      local\n",
      "45bb103d970f   none      null      local\n"
     ]
    }
   ],
   "source": [
    "!docker network ls"
   ]
  },
  {
   "cell_type": "markdown",
   "id": "09f23972-6096-4bc5-a416-1c5ed9ddcb91",
   "metadata": {},
   "source": [
    "## Network `none`\n",
    "\n",
    "By connecting the container to this network, it is completely blocked from any interactions through the network.\n",
    "\n",
    "In the following cell, there is a simple bash script that allows you to compare the behavior of a container connected to the `bridge` network and a container connected to the `none` network. \n",
    "\n",
    "At the beginning, a container is started using the `bridge` network. When the command `curl localhost:80` is executed, a basic nginx response is received. \n",
    "\n",
    "Then, the network for the container is changed to `none`. As a consequence, when the command `curl localhost:80` is executed again, there is no response. This lack of response is a consequence of using the `none` network for the container.\n",
    "\n",
    "Overall, this script demonstrates the impact of network selection on the container's ability to communicate and receive responses."
   ]
  },
  {
   "cell_type": "code",
   "execution_count": 13,
   "id": "ed54c79d-67b9-47ef-90ad-f5d399dc7498",
   "metadata": {},
   "outputs": [
    {
     "name": "stdout",
     "output_type": "stream",
     "text": [
      "e33bc2e68f475eb917aa6f9f42e51d3311dbc53e060f33d1d7ce8e7ff1d2e745\n",
      "=====DEFAULT NETWORK=====\n",
      "-----network name-----\n",
      "bridge \n",
      "-----curl to nginx-----\n",
      "<!DOCTYPE html>\n",
      "<html>\n",
      "<head>\n",
      "<title>Welcome to nginx!</title>\n",
      "<style>\n",
      "html { color-scheme: light dark; }\n",
      "body { width: 35em; margin: 0 auto;\n",
      "font-family: Tahoma, Verdana, Arial, sans-serif; }\n",
      "</style>\n",
      "</head>\n",
      "\n",
      "\n",
      "=====none NETWORK=====\n",
      "-----network name-----\n",
      "none \n",
      "-----curl to nginx-----\n"
     ]
    }
   ],
   "source": [
    "%%bash\n",
    "docker run --rm -itd\\\n",
    "    -p 80:80 \\\n",
    "    --name network_example\\\n",
    "    nginx\n",
    "sleep 2 &> /dev/null\n",
    "\n",
    "echo \"=====DEFAULT NETWORK=====\"\n",
    "echo \"-----network name-----\"\n",
    "docker inspect -f \\\n",
    "    '{{range $key, $value := .NetworkSettings.Networks}}{{$key}} {{end}}' \\\n",
    "    network_example\n",
    "echo \"-----curl to nginx-----\"\n",
    "curl -s localhost:80 | head -n 10\n",
    "\n",
    "docker network disconnect bridge network_example\n",
    "docker network connect none network_example\n",
    "\n",
    "echo\n",
    "echo\n",
    "echo \"=====none NETWORK=====\"\n",
    "echo \"-----network name-----\"\n",
    "docker inspect -f \\\n",
    "    '{{range $key, $value := .NetworkSettings.Networks}}{{$key}} {{end}}' \\\n",
    "    network_example\n",
    "echo \"-----curl to nginx-----\"\n",
    "curl -s localhost:80 | head -n 10\n",
    "\n",
    "docker stop network_example &> /dev/null"
   ]
  }
 ],
 "metadata": {
  "kernelspec": {
   "display_name": "Python 3 (ipykernel)",
   "language": "python",
   "name": "python3"
  },
  "language_info": {
   "codemirror_mode": {
    "name": "ipython",
    "version": 3
   },
   "file_extension": ".py",
   "mimetype": "text/x-python",
   "name": "python",
   "nbconvert_exporter": "python",
   "pygments_lexer": "ipython3",
   "version": "3.10.12"
  }
 },
 "nbformat": 4,
 "nbformat_minor": 5
}
