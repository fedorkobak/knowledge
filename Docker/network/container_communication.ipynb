{
 "cells": [
  {
   "cell_type": "markdown",
   "id": "eb98f06f-b2f5-43b0-9456-37bc6a8b00cf",
   "metadata": {},
   "source": [
    "# Containers communication\n",
    "\n",
    "In this page I want to focus on ways of organising container communication."
   ]
  },
  {
   "cell_type": "markdown",
   "id": "4cbd19c7-30c0-4f38-adb2-3c94c9b1f030",
   "metadata": {},
   "source": [
    "## Creating containers\n",
    "\n",
    "In the following cell, create containers for experiments and save their IDs in files to access them in the following cells."
   ]
  },
  {
   "cell_type": "code",
   "execution_count": 33,
   "id": "41355f05-9415-43de-9ac6-b89e559c6f5b",
   "metadata": {},
   "outputs": [],
   "source": [
    "%%bash\n",
    "nginx1_id=$(docker run --rm -d --name test_nginx1 nginx)\n",
    "nginx2_id=$(docker run --rm -d --name test_nginx2 nginx)"
   ]
  },
  {
   "cell_type": "markdown",
   "id": "2db0ed4d-6f98-4702-9f51-9a082143d5f2",
   "metadata": {},
   "source": [
    "**Note** Don't forget to stop the containers when you've finished playing with them."
   ]
  },
  {
   "cell_type": "code",
   "execution_count": null,
   "id": "4c9ea161-a504-46e0-90a1-2986b90d49ba",
   "metadata": {},
   "outputs": [],
   "source": [
    "%%bash\n",
    "docker stop test_nginx1, test_nginx2"
   ]
  },
  {
   "cell_type": "markdown",
   "id": "28754a94-5076-4c65-b77d-522257e73249",
   "metadata": {},
   "source": [
    "## Get ip of the containers"
   ]
  },
  {
   "cell_type": "markdown",
   "id": "1474bab3-7ce9-47b3-91d3-730274169d8e",
   "metadata": {},
   "source": [
    "### Inspect network\n",
    "\n",
    "There's a lot of important information in the output of `docker inspect` for network that you need to organise interaction between containers.\n",
    "\n",
    "The following cell shows the output of `docker inspect` for network `bridge`. There you will find a `Containers` dictionary that matches the container id with information about the container. Among other things, the `IPv4Address` field is there."
   ]
  },
  {
   "cell_type": "code",
   "execution_count": 35,
   "id": "a861d44d-bc71-429c-b865-60c4ea3a5e44",
   "metadata": {},
   "outputs": [
    {
     "name": "stdout",
     "output_type": "stream",
     "text": [
      "[\n",
      "    {\n",
      "        \"Name\": \"bridge\",\n",
      "        \"Id\": \"1f385ef288759530e3df37b01abac141cbdfedce9e6b0a50113dac991ee39f75\",\n",
      "        \"Created\": \"2023-10-26T19:50:13.369661143+03:00\",\n",
      "        \"Scope\": \"local\",\n",
      "        \"Driver\": \"bridge\",\n",
      "        \"EnableIPv6\": false,\n",
      "        \"IPAM\": {\n",
      "            \"Driver\": \"default\",\n",
      "            \"Options\": null,\n",
      "            \"Config\": [\n",
      "                {\n",
      "                    \"Subnet\": \"172.17.0.0/16\",\n",
      "                    \"Gateway\": \"172.17.0.1\"\n",
      "                }\n",
      "            ]\n",
      "        },\n",
      "        \"Internal\": false,\n",
      "        \"Attachable\": false,\n",
      "        \"Ingress\": false,\n",
      "        \"ConfigFrom\": {\n",
      "            \"Network\": \"\"\n",
      "        },\n",
      "        \"ConfigOnly\": false,\n",
      "        \"Containers\": {\n",
      "            \"3b90241e623be133a5cebca6a98403e23138535072d42e4a7a32f5325ac51dd9\": {\n",
      "                \"Name\": \"test_nginx1\",\n",
      "                \"EndpointID\": \"33494fd671a109257653497e6395134c0b0cc2a2828b7114989773cb5fe629ad\",\n",
      "                \"MacAddress\": \"02:42:ac:11:00:02\",\n",
      "                \"IPv4Address\": \"172.17.0.2/16\",\n",
      "                \"IPv6Address\": \"\"\n",
      "            },\n",
      "            \"bfc329038a30adb2dea246fa4b054cca5cb24c814d7f51b6e3598d859d12f0a6\": {\n",
      "                \"Name\": \"test_nginx2\",\n",
      "                \"EndpointID\": \"4daf8e937c973907b3ba10ab3df41d4696f85ff2dcfa8ac608e9328149870cd3\",\n",
      "                \"MacAddress\": \"02:42:ac:11:00:03\",\n",
      "                \"IPv4Address\": \"172.17.0.3/16\",\n",
      "                \"IPv6Address\": \"\"\n",
      "            }\n",
      "        },\n",
      "        \"Options\": {\n",
      "            \"com.docker.network.bridge.default_bridge\": \"true\",\n",
      "            \"com.docker.network.bridge.enable_icc\": \"true\",\n",
      "            \"com.docker.network.bridge.enable_ip_masquerade\": \"true\",\n",
      "            \"com.docker.network.bridge.host_binding_ipv4\": \"0.0.0.0\",\n",
      "            \"com.docker.network.bridge.name\": \"docker0\",\n",
      "            \"com.docker.network.driver.mtu\": \"1500\"\n",
      "        },\n",
      "        \"Labels\": {}\n",
      "    }\n",
      "]\n"
     ]
    }
   ],
   "source": [
    "%%bash\n",
    "docker inspect bridge"
   ]
  },
  {
   "cell_type": "markdown",
   "id": "f812e068-fee7-4f8b-89df-90e2dfbf913a",
   "metadata": {},
   "source": [
    "### Inspect container\n",
    "\n",
    "The `docker inspect <container name/id>` command will give you information about the container, and by following the `NetworkSettings.IPAddress' path you can access the ip address of the container."
   ]
  },
  {
   "cell_type": "code",
   "execution_count": 59,
   "id": "b4a0e83f-45ac-42cf-ac99-0f686b54d0f4",
   "metadata": {},
   "outputs": [
    {
     "name": "stdout",
     "output_type": "stream",
     "text": [
      "====nginx1 ip=====\n",
      "172.17.0.2\n",
      "====nginx2 ip=====\n",
      "172.17.0.3\n"
     ]
    }
   ],
   "source": [
    "%%bash\n",
    "\n",
    "echo \"====nginx1 ip=====\"\n",
    "echo\\\n",
    "    $(docker inspect\\\n",
    "    --format '{{ .NetworkSettings.IPAddress }}'\\\n",
    "    test_nginx1)\n",
    "\n",
    "echo \"====nginx2 ip=====\"\n",
    "echo\\\n",
    "    $(docker inspect\\\n",
    "    --format '{{ .NetworkSettings.IPAddress }}'\\\n",
    "    test_nginx2)"
   ]
  }
 ],
 "metadata": {
  "kernelspec": {
   "display_name": "Python 3 (ipykernel)",
   "language": "python",
   "name": "python3"
  },
  "language_info": {
   "codemirror_mode": {
    "name": "ipython",
    "version": 3
   },
   "file_extension": ".py",
   "mimetype": "text/x-python",
   "name": "python",
   "nbconvert_exporter": "python",
   "pygments_lexer": "ipython3",
   "version": "3.10.12"
  }
 },
 "nbformat": 4,
 "nbformat_minor": 5
}
