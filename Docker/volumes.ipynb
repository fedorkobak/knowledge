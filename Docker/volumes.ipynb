{
 "cells": [
  {
   "cell_type": "markdown",
   "id": "cecd3321-1cce-4e43-874d-f3b4183914cf",
   "metadata": {},
   "source": [
    "# Volumes\n",
    "\n",
    "You have to use `-v` option of the `docker run` command to mount volume to container. In general you have to use following syntax:\n",
    "\n",
    "\n",
    "```bash\n",
    "docker run \\\n",
    "    -v <volume1>:<path in container1> \\\n",
    "    -v <volume2>:<path in container2> \\\n",
    "    ...\n",
    "```\n",
    "\n",
    "Sometimes it's extremely useful to mount a specific folder but not a volume; you need to use folder name instead of `volume name` - this case is specific type of the volume and called **bind mount**."
   ]
  },
  {
   "cell_type": "markdown",
   "id": "e989e24c",
   "metadata": {},
   "source": [
    "## Mount to container\n",
    "\n",
    "To mount volume to the container you have to use `-v <volume name>:<path in container>` option."
   ]
  },
  {
   "cell_type": "markdown",
   "id": "0c770629",
   "metadata": {},
   "source": [
    "---\n",
    "\n",
    "The following example creates a Docker container that mounts `test_volume` as `folder` and stores `my_file` with `my message`."
   ]
  },
  {
   "cell_type": "code",
   "execution_count": 17,
   "id": "5d623152",
   "metadata": {
    "vscode": {
     "languageId": "shellscript"
    }
   },
   "outputs": [],
   "source": [
    "docker volume create test_volume &> /dev/null\n",
    "docker run --rm -itd\\\n",
    "    --name test_container \\\n",
    "    -v test_volume:/folder alpine \\\n",
    "    sh -c \"echo \\\"my message\\\" > /folder/my_file\" &> /dev/null\n",
    "sleep 3"
   ]
  },
  {
   "cell_type": "markdown",
   "id": "f08abad8",
   "metadata": {},
   "source": [
    "After while that container stops and being removed. So there aren't any containers yet."
   ]
  },
  {
   "cell_type": "code",
   "execution_count": 18,
   "id": "2352c442",
   "metadata": {
    "vscode": {
     "languageId": "shellscript"
    }
   },
   "outputs": [
    {
     "name": "stdout",
     "output_type": "stream",
     "text": [
      "CONTAINER ID   IMAGE     COMMAND   CREATED   STATUS    PORTS     NAMES\n"
     ]
    }
   ],
   "source": [
    "docker ps -a"
   ]
  },
  {
   "cell_type": "markdown",
   "id": "4efe013a",
   "metadata": {},
   "source": [
    "But data has been saved. We can show this by mounting the same volume as the `temp` folder. If we now check the files stored in `temp` - there will be `my_file`."
   ]
  },
  {
   "cell_type": "code",
   "execution_count": 19,
   "id": "765fa29a",
   "metadata": {
    "vscode": {
     "languageId": "shellscript"
    }
   },
   "outputs": [
    {
     "name": "stdout",
     "output_type": "stream",
     "text": [
      "\u001b[0;0mmy_file\u001b[m\n"
     ]
    }
   ],
   "source": [
    "docker run --rm -it -v test_volume:/temp alpine ls temp"
   ]
  },
  {
   "cell_type": "markdown",
   "id": "35dda34b",
   "metadata": {},
   "source": [
    "And it'll store exactly the same content that we saved at the begining."
   ]
  },
  {
   "cell_type": "code",
   "execution_count": 21,
   "id": "6f8afd55",
   "metadata": {
    "vscode": {
     "languageId": "shellscript"
    }
   },
   "outputs": [
    {
     "name": "stdout",
     "output_type": "stream",
     "text": [
      "my message\n"
     ]
    }
   ],
   "source": [
    "docker run --rm -it -v test_volume:/temp alpine cat /temp/my_file"
   ]
  },
  {
   "cell_type": "markdown",
   "id": "e8b679af",
   "metadata": {},
   "source": [
    "Don't forget to remove test volume after all."
   ]
  },
  {
   "cell_type": "code",
   "execution_count": 22,
   "id": "936fa6da",
   "metadata": {
    "vscode": {
     "languageId": "shellscript"
    }
   },
   "outputs": [
    {
     "name": "stdout",
     "output_type": "stream",
     "text": [
      "test_volume\n"
     ]
    }
   ],
   "source": [
    "docker volume rm test_volume"
   ]
  },
  {
   "cell_type": "markdown",
   "id": "32224333-f637-4afd-a618-80697cfb0bb5",
   "metadata": {},
   "source": [
    "# Bind mount\n",
    "\n",
    "Bind mount is a specific but extremely usefull type of volume. It's a folder on the host specified by user to be mounted to the container."
   ]
  },
  {
   "cell_type": "markdown",
   "id": "b652554b",
   "metadata": {},
   "source": [
    "---\n",
    "\n",
    "In the following example creted folder `temp_folder`, mounted to container as  `temp_folder_inc_count` folder.\n",
    "\n",
    "**Note** here is specified `--user $(id -u):$(id -g)` to run container with same user notebook runned. It'll garantee that commands in host will have full rights for modifying/deleting files created from container."
   ]
  },
  {
   "cell_type": "code",
   "execution_count": 34,
   "id": "04114d4a-0c6b-4c61-b9c8-9a9b2a4d7fb8",
   "metadata": {
    "vscode": {
     "languageId": "shellscript"
    }
   },
   "outputs": [],
   "source": [
    "mkdir temp_folder\n",
    "\n",
    "docker run \\\n",
    "    --user $(id -u):$(id -g) \\\n",
    "    -v $(pwd)/temp_folder:/temp_folder_in_cont \\\n",
    "    --rm -itd --name temp_example \\\n",
    "    ubuntu &> /dev/null"
   ]
  },
  {
   "cell_type": "markdown",
   "id": "c7cc2288",
   "metadata": {},
   "source": [
    "Now `temp_folder` on the host and `temp_folder_in_count` on the container are the same folders. So the file `container_file` created by the container will be accessible from the host and vice versa the file `host_file` created by the host will be accessible from the container."
   ]
  },
  {
   "cell_type": "code",
   "execution_count": 31,
   "id": "e66d5568",
   "metadata": {
    "vscode": {
     "languageId": "shellscript"
    }
   },
   "outputs": [],
   "source": [
    "docker exec temp_example \\\n",
    "    bash -c \"echo \\'hello from container\\' >> temp_folder_in_cont/container_file\"\n",
    "\n",
    "echo \"hello from host\" >> temp_folder/host_file"
   ]
  },
  {
   "cell_type": "markdown",
   "id": "81960a03",
   "metadata": {},
   "source": [
    "Now let us check `conatiner_file` from host and `host_file` from container."
   ]
  },
  {
   "cell_type": "code",
   "execution_count": 32,
   "id": "e660fb06",
   "metadata": {
    "vscode": {
     "languageId": "shellscript"
    }
   },
   "outputs": [
    {
     "name": "stdout",
     "output_type": "stream",
     "text": [
      "'hello from container'\n",
      "hello from host\n"
     ]
    }
   ],
   "source": [
    "cat temp_folder/container_file\n",
    "docker exec temp_example cat temp_folder_in_cont/host_file"
   ]
  },
  {
   "cell_type": "markdown",
   "id": "dab43755",
   "metadata": {},
   "source": [
    "Finally, don't forget to clean the system of debris."
   ]
  },
  {
   "cell_type": "code",
   "execution_count": 35,
   "id": "6ce8e4bb",
   "metadata": {
    "vscode": {
     "languageId": "shellscript"
    }
   },
   "outputs": [],
   "source": [
    "docker stop temp_example &> /dev/null\n",
    "rm -r temp_folder"
   ]
  },
  {
   "cell_type": "markdown",
   "id": "3a4b7956-7b99-4230-8a34-366d481bce3e",
   "metadata": {},
   "source": [
    "## Read only mount\n",
    "\n",
    "By adding `:ro` to the path of the folder in container you can make it to be read only in the container."
   ]
  },
  {
   "cell_type": "markdown",
   "id": "4166ea1a",
   "metadata": {},
   "source": [
    "---\n",
    "\n",
    "In the following example we creating file `ro_ex` which have content `original_data` and mount that file to the container."
   ]
  },
  {
   "cell_type": "code",
   "execution_count": 43,
   "id": "8a7a73ab-7b43-4843-b27a-691204d0d365",
   "metadata": {
    "vscode": {
     "languageId": "shellscript"
    }
   },
   "outputs": [],
   "source": [
    "echo \"original data\" > ro_ex\n",
    "docker run --rm -idt --name ro_ex \\\n",
    "    -v $(pwd)/ro_ex:/experimental/ro_ex:ro \\\n",
    "    ubuntu &> /dev/null"
   ]
  },
  {
   "cell_type": "markdown",
   "id": "62ff9d5f",
   "metadata": {},
   "source": [
    "Now let us try to read and modify this file from the container."
   ]
  },
  {
   "cell_type": "code",
   "execution_count": 46,
   "id": "d13c2819",
   "metadata": {
    "vscode": {
     "languageId": "shellscript"
    }
   },
   "outputs": [
    {
     "name": "stdout",
     "output_type": "stream",
     "text": [
      "original data\n",
      "bash: line 1: /experimental/ro_ex: Read-only file system\n"
     ]
    },
    {
     "ename": "",
     "evalue": "1",
     "output_type": "error",
     "traceback": []
    }
   ],
   "source": [
    "docker exec ro_ex cat /experimental/ro_ex\n",
    "docker exec ro_ex bash -c \"echo \\\"modified data\\\" > /experimental/ro_ex\""
   ]
  },
  {
   "cell_type": "markdown",
   "id": "76e412bb",
   "metadata": {},
   "source": [
    "So there is no problem reading the file, but the attempt to modify it was rejected."
   ]
  },
  {
   "cell_type": "markdown",
   "id": "4100d575",
   "metadata": {},
   "source": [
    "The next cell confirms that you can keep the file unchanged."
   ]
  },
  {
   "cell_type": "code",
   "execution_count": 47,
   "id": "647348bd",
   "metadata": {
    "vscode": {
     "languageId": "shellscript"
    }
   },
   "outputs": [
    {
     "name": "stdout",
     "output_type": "stream",
     "text": [
      "original data\n"
     ]
    }
   ],
   "source": [
    "cat ro_ex"
   ]
  },
  {
   "cell_type": "markdown",
   "id": "8ce46972",
   "metadata": {},
   "source": [
    "Keeping your system clean."
   ]
  },
  {
   "cell_type": "code",
   "execution_count": 48,
   "id": "3417b8f8",
   "metadata": {
    "vscode": {
     "languageId": "shellscript"
    }
   },
   "outputs": [],
   "source": [
    "docker stop ro_ex &> /dev/null\n",
    "rm -r ro_ex"
   ]
  },
  {
   "cell_type": "markdown",
   "id": "22d172b3-bfe2-4a38-8ab3-6f1ae3153102",
   "metadata": {},
   "source": [
    "### Mounting `.dockerignore` files\n",
    "\n",
    "Even if you mount the file described in .dockerignore, we will still have it in the container. \n",
    "\n",
    "In the following example, I create `app/ignore_file.txt` and mention it in dockerignore. Build image using this .dockerignore, but in container based on this image I mount `app` folder. And as a result I can see contents of `ignore_file.txt` regardless of what I specified in the `.dockerignore`."
   ]
  },
  {
   "cell_type": "code",
   "execution_count": 5,
   "id": "670e6e66-e62f-41ec-9b54-81666703bbef",
   "metadata": {
    "vscode": {
     "languageId": "shellscript"
    }
   },
   "outputs": [
    {
     "name": "stdout",
     "output_type": "stream",
     "text": [
      "=====.dockerignore=====\n",
      "app/ignore_file.txt\n",
      "=====dockerfile=====\n",
      "FROM ubuntu\n",
      "=====ignore-file from container=====\n",
      "message in ignore_file.txt\n"
     ]
    }
   ],
   "source": [
    "%%bash\n",
    "cd filesystem_example\n",
    "mkdir app\n",
    "echo \"message in ignore_file.txt\" > app/ignore_file.txt\n",
    "echo \"=====.dockerignore=====\"\n",
    "echo \"app/ignore_file.txt\" > .dockerignore\n",
    "cat .dockerignore\n",
    "echo \"=====dockerfile=====\"\n",
    "echo \"FROM ubuntu\" > dockerfile\n",
    "cat dockerfile\n",
    "\n",
    "# build image with setted .dockerignore\n",
    "docker build -t test_image &> /dev/null\n",
    "\n",
    "# start container mountig file mentioned in .dockerignore\n",
    "docker run --rm -itd --name ignore_ex\\\n",
    "    -v $(pwd)/app:/app\\\n",
    "    ubuntu &> /dev/null\n",
    "\n",
    "echo \"=====ignore-file from container=====\"\n",
    "# make sure that this secret file is in the container\n",
    "docker exec ignore_ex cat app/ignore_file.txt\n",
    "\n",
    "docker stop ignore_ex &> /dev/null\n",
    "docker rmi test_image &> /dev/null\n",
    "rm -r app\n",
    "rm .dockerignore\n",
    "rm dockerfile"
   ]
  },
  {
   "cell_type": "markdown",
   "id": "09e8bbbd-9c7f-4543-8e18-0639bd65d440",
   "metadata": {},
   "source": [
    "## Volume by default\n",
    "\n",
    "Some containers create their own volumes by default when they run, so you may find that your entire hard drive is flooded. \n",
    "\n",
    "For example `yandex/clickhouse-server`. In the following cell I have some containers `yandex/clickhouse-server` running and show that each container has created a volume."
   ]
  },
  {
   "cell_type": "code",
   "execution_count": 7,
   "id": "b1c92ec1-62e0-479e-8531-0cf99a7df8c8",
   "metadata": {
    "vscode": {
     "languageId": "shellscript"
    }
   },
   "outputs": [
    {
     "name": "stdout",
     "output_type": "stream",
     "text": [
      "=====docker volume ls before=====\n",
      "DRIVER    VOLUME NAME\n",
      "=====docker volume ls after=====\n",
      "DRIVER    VOLUME NAME\n",
      "local     66e881449c54eb455e1a0e16b6b1cfff0aac6fbe31739ea59d307d5631c04fa2\n",
      "local     b6d2ba76cf901665684319a3197166a61d8da5d75b8804945a8f0368de0c89ec\n",
      "local     d3ba9de2668e8e3f68d43ccfb02db72738f2c2b7048ed2bfc94b3134d00f53f1\n"
     ]
    }
   ],
   "source": [
    "%%bash\n",
    "\n",
    "echo \"=====docker volume ls before=====\"\n",
    "docker volume ls\n",
    "\n",
    "# run clickhouse\n",
    "docker run -d --name db_1 --rm yandex/clickhouse-server &> /dev/null\n",
    "docker run -d --name db_2 --rm yandex/clickhouse-server &> /dev/null\n",
    "docker run -d --name db_3 --rm yandex/clickhouse-server &> /dev/null\n",
    "\n",
    "# list volumes\n",
    "echo \"=====docker volume ls after=====\"\n",
    "docker volume ls\n",
    "docker stop db_1 db_2 db_3 &> /dev/null"
   ]
  },
  {
   "cell_type": "markdown",
   "id": "279488eb-fb5d-45e7-bac7-c97170e0b696",
   "metadata": {},
   "source": [
    "## Several volumes in one command\n",
    "\n",
    "You can repeat `-v` option in `docker run` many times as you need."
   ]
  },
  {
   "cell_type": "markdown",
   "id": "2de5923b-3f01-41c7-b256-1f8dd28ee5ad",
   "metadata": {},
   "source": [
    "Basic example."
   ]
  },
  {
   "cell_type": "code",
   "execution_count": 9,
   "id": "1ad1a3da-267b-4f4a-83a7-87ae461a30d3",
   "metadata": {
    "vscode": {
     "languageId": "shellscript"
    }
   },
   "outputs": [
    {
     "name": "stdout",
     "output_type": "stream",
     "text": [
      "=====files from container=====\n",
      "message in test1\n",
      "message in test2\n"
     ]
    }
   ],
   "source": [
    "%%bash\n",
    "cd filesystem_example\n",
    "\n",
    "mkdir test1 test2\n",
    "echo \"message in test1\" > test1/my_file\n",
    "echo \"message in test2\" > test2/my_file\n",
    "\n",
    "docker run --rm --name example_cont -itd\\\n",
    "    -v $(pwd)/test1:/test1\\\n",
    "    -v $(pwd)/test2:/test2\\\n",
    "    ubuntu &> /dev/null\n",
    "\n",
    "echo \"=====files from container=====\"\n",
    "docker exec example_cont cat test1/my_file\n",
    "docker exec example_cont cat test2/my_file\n",
    "\n",
    "docker stop example_cont &> /dev/null\n",
    "rm -r test1 test2"
   ]
  },
  {
   "cell_type": "markdown",
   "id": "0a66db2d-c991-4a99-9990-4192e40fbe12",
   "metadata": {},
   "source": [
    "But you can't mount a directory on the container twice."
   ]
  },
  {
   "cell_type": "code",
   "execution_count": 14,
   "id": "8f86ff12-48de-422c-b618-c2eb53589e0c",
   "metadata": {
    "vscode": {
     "languageId": "shellscript"
    }
   },
   "outputs": [
    {
     "name": "stderr",
     "output_type": "stream",
     "text": [
      "docker: Error response from daemon: Duplicate mount point: /test.\n",
      "See 'docker run --help'.\n"
     ]
    }
   ],
   "source": [
    "%%bash\n",
    "cd filesystem_example\n",
    "\n",
    "mkdir test1 test2\n",
    "echo \"message in test1\" > test1/my_file\n",
    "echo \"message in test2\" > test2/my_file\n",
    "\n",
    "docker run --rm --name example_cont -itd\\\n",
    "    -v $(pwd)/test1:/test\\\n",
    "    -v $(pwd)/test2:/test\\\n",
    "    ubuntu\n",
    "\n",
    "rm -r test1 test2"
   ]
  },
  {
   "cell_type": "markdown",
   "id": "1bb31767-e518-4346-b79b-fdb01eedbda0",
   "metadata": {},
   "source": [
    "A directory from host to different folders in container is available. But you need to know that they are actually the same directory with different names - any change in one will happen in the other.\n",
    "\n",
    "In the following example, we mount `test` in host to `test1` and `test2` in container. Then we add the file `new_file` to `test1`, but it will appear not only in `test1` but also in `test2` and `test`."
   ]
  },
  {
   "cell_type": "code",
   "execution_count": 23,
   "id": "fe364125-10de-458d-8983-bcd327617893",
   "metadata": {
    "vscode": {
     "languageId": "shellscript"
    }
   },
   "outputs": [
    {
     "name": "stdout",
     "output_type": "stream",
     "text": [
      "=====ls test1 from container=====\n",
      "new_file\n",
      "=====ls test2 from container=====\n",
      "new_file\n",
      "=====ls test=====\n",
      "new_file\n"
     ]
    }
   ],
   "source": [
    "%%bash\n",
    "cd filesystem_example\n",
    "\n",
    "mkdir test\n",
    "\n",
    "docker run --rm --name example_cont -itd\\\n",
    "    -v $(pwd)/test:/test1\\\n",
    "    -v $(pwd)/test:/test2\\\n",
    "    ubuntu &> /dev/null\n",
    "\n",
    "docker exec example_cont bash -c \"echo \\\"hello from container\\\" > test1/new_file\"\n",
    "echo \"=====ls test1 from container=====\"\n",
    "docker exec example_cont ls test1\n",
    "echo \"=====ls test2 from container=====\"\n",
    "docker exec example_cont ls test2\n",
    "\n",
    "docker stop example_cont &> /dev/null\n",
    "\n",
    "\n",
    "echo \"=====ls test=====\"\n",
    "ls test\n",
    "rm -r test"
   ]
  }
 ],
 "metadata": {
  "kernelspec": {
   "display_name": "Bash",
   "language": "bash",
   "name": "bash"
  },
  "language_info": {
   "codemirror_mode": "shell",
   "file_extension": ".sh",
   "mimetype": "text/x-sh",
   "name": "bash"
  }
 },
 "nbformat": 4,
 "nbformat_minor": 5
}
