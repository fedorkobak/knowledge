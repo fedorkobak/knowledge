{
 "cells": [
  {
   "cell_type": "markdown",
   "id": "cecd3321-1cce-4e43-874d-f3b4183914cf",
   "metadata": {},
   "source": [
    "# Volumes\n",
    "\n",
    "You have to use `-v` option of the `docker run` command to mount volume to container. In general you have to use following syntax:\n",
    "\n",
    "\n",
    "```bash\n",
    "docker run \\\n",
    "    -v <volume1>:<path in container1> \\\n",
    "    -v <volume2>:<path in container2> \\\n",
    "    ...\n",
    "```\n",
    "\n",
    "Sometimes it's extremely useful to mount a specific folder but not a volume; you need to use folder name instead of `volume name` - this case is specific type of the volume and called **bind mount**."
   ]
  },
  {
   "cell_type": "markdown",
   "id": "e989e24c",
   "metadata": {},
   "source": [
    "## Mount to container\n",
    "\n",
    "To mount volume to the container you have to use `-v <volume name>:<path in container>` option."
   ]
  },
  {
   "cell_type": "markdown",
   "id": "0c770629",
   "metadata": {},
   "source": [
    "---\n",
    "\n",
    "The following example creates a Docker container that mounts `test_volume` as `folder` and stores `my_file` with `my message`."
   ]
  },
  {
   "cell_type": "code",
   "execution_count": 17,
   "id": "5d623152",
   "metadata": {
    "vscode": {
     "languageId": "shellscript"
    }
   },
   "outputs": [],
   "source": [
    "docker volume create test_volume &> /dev/null\n",
    "docker run --rm -itd\\\n",
    "    --name test_container \\\n",
    "    -v test_volume:/folder alpine \\\n",
    "    sh -c \"echo \\\"my message\\\" > /folder/my_file\" &> /dev/null\n",
    "sleep 3"
   ]
  },
  {
   "cell_type": "markdown",
   "id": "f08abad8",
   "metadata": {},
   "source": [
    "After while that container stops and being removed. So there aren't any containers yet."
   ]
  },
  {
   "cell_type": "code",
   "execution_count": 18,
   "id": "2352c442",
   "metadata": {
    "vscode": {
     "languageId": "shellscript"
    }
   },
   "outputs": [
    {
     "name": "stdout",
     "output_type": "stream",
     "text": [
      "CONTAINER ID   IMAGE     COMMAND   CREATED   STATUS    PORTS     NAMES\n"
     ]
    }
   ],
   "source": [
    "docker ps -a"
   ]
  },
  {
   "cell_type": "markdown",
   "id": "4efe013a",
   "metadata": {},
   "source": [
    "But data has been saved. We can show this by mounting the same volume as the `temp` folder. If we now check the files stored in `temp` - there will be `my_file`."
   ]
  },
  {
   "cell_type": "code",
   "execution_count": 19,
   "id": "765fa29a",
   "metadata": {
    "vscode": {
     "languageId": "shellscript"
    }
   },
   "outputs": [
    {
     "name": "stdout",
     "output_type": "stream",
     "text": [
      "\u001b[0;0mmy_file\u001b[m\n"
     ]
    }
   ],
   "source": [
    "docker run --rm -it -v test_volume:/temp alpine ls temp"
   ]
  },
  {
   "cell_type": "markdown",
   "id": "35dda34b",
   "metadata": {},
   "source": [
    "And it'll store exactly the same content that we saved at the begining."
   ]
  },
  {
   "cell_type": "code",
   "execution_count": 21,
   "id": "6f8afd55",
   "metadata": {
    "vscode": {
     "languageId": "shellscript"
    }
   },
   "outputs": [
    {
     "name": "stdout",
     "output_type": "stream",
     "text": [
      "my message\n"
     ]
    }
   ],
   "source": [
    "docker run --rm -it -v test_volume:/temp alpine cat /temp/my_file"
   ]
  },
  {
   "cell_type": "markdown",
   "id": "e8b679af",
   "metadata": {},
   "source": [
    "Don't forget to remove test volume after all."
   ]
  },
  {
   "cell_type": "code",
   "execution_count": 22,
   "id": "936fa6da",
   "metadata": {
    "vscode": {
     "languageId": "shellscript"
    }
   },
   "outputs": [
    {
     "name": "stdout",
     "output_type": "stream",
     "text": [
      "test_volume\n"
     ]
    }
   ],
   "source": [
    "docker volume rm test_volume"
   ]
  },
  {
   "cell_type": "markdown",
   "id": "32224333-f637-4afd-a618-80697cfb0bb5",
   "metadata": {},
   "source": [
    "# Bind mount\n",
    "\n",
    "Bind mount is a specific but extremely usefull type of volume. It's a folder on the host specified by user to be mounted to the container."
   ]
  },
  {
   "cell_type": "markdown",
   "id": "b652554b",
   "metadata": {},
   "source": [
    "---\n",
    "\n",
    "In the following example creted folder `temp_folder`, mounted to container as  `temp_folder_inc_count` folder.\n",
    "\n",
    "**Note** here is specified `--user $(id -u):$(id -g)` to run container with same user notebook runned. It'll garantee that commands in host will have full rights for modifying/deleting files created from container."
   ]
  },
  {
   "cell_type": "code",
   "execution_count": 34,
   "id": "04114d4a-0c6b-4c61-b9c8-9a9b2a4d7fb8",
   "metadata": {
    "vscode": {
     "languageId": "shellscript"
    }
   },
   "outputs": [],
   "source": [
    "mkdir temp_folder\n",
    "\n",
    "docker run \\\n",
    "    --user $(id -u):$(id -g) \\\n",
    "    -v $(pwd)/temp_folder:/temp_folder_in_cont \\\n",
    "    --rm -itd --name temp_example \\\n",
    "    ubuntu &> /dev/null"
   ]
  },
  {
   "cell_type": "markdown",
   "id": "c7cc2288",
   "metadata": {},
   "source": [
    "Now `temp_folder` on the host and `temp_folder_in_count` on the container are the same folders. So the file `container_file` created by the container will be accessible from the host and vice versa the file `host_file` created by the host will be accessible from the container."
   ]
  },
  {
   "cell_type": "code",
   "execution_count": 31,
   "id": "e66d5568",
   "metadata": {
    "vscode": {
     "languageId": "shellscript"
    }
   },
   "outputs": [],
   "source": [
    "docker exec temp_example \\\n",
    "    bash -c \"echo \\'hello from container\\' >> temp_folder_in_cont/container_file\"\n",
    "\n",
    "echo \"hello from host\" >> temp_folder/host_file"
   ]
  },
  {
   "cell_type": "markdown",
   "id": "81960a03",
   "metadata": {},
   "source": [
    "Now let us check `conatiner_file` from host and `host_file` from container."
   ]
  },
  {
   "cell_type": "code",
   "execution_count": 32,
   "id": "e660fb06",
   "metadata": {
    "vscode": {
     "languageId": "shellscript"
    }
   },
   "outputs": [
    {
     "name": "stdout",
     "output_type": "stream",
     "text": [
      "'hello from container'\n",
      "hello from host\n"
     ]
    }
   ],
   "source": [
    "cat temp_folder/container_file\n",
    "docker exec temp_example cat temp_folder_in_cont/host_file"
   ]
  },
  {
   "cell_type": "markdown",
   "id": "dab43755",
   "metadata": {},
   "source": [
    "Finally, don't forget to clean the system of debris."
   ]
  },
  {
   "cell_type": "code",
   "execution_count": 35,
   "id": "6ce8e4bb",
   "metadata": {
    "vscode": {
     "languageId": "shellscript"
    }
   },
   "outputs": [],
   "source": [
    "docker stop temp_example &> /dev/null\n",
    "rm -r temp_folder"
   ]
  },
  {
   "cell_type": "markdown",
   "id": "3a4b7956-7b99-4230-8a34-366d481bce3e",
   "metadata": {},
   "source": [
    "## Read only mount\n",
    "\n",
    "By adding `:ro` to the path of the folder in container you can make it to be read only in the container."
   ]
  },
  {
   "cell_type": "markdown",
   "id": "4166ea1a",
   "metadata": {},
   "source": [
    "---\n",
    "\n",
    "In the following example we creating file `ro_ex` which have content `original_data` and mount that file to the container."
   ]
  },
  {
   "cell_type": "code",
   "execution_count": 43,
   "id": "8a7a73ab-7b43-4843-b27a-691204d0d365",
   "metadata": {
    "vscode": {
     "languageId": "shellscript"
    }
   },
   "outputs": [],
   "source": [
    "echo \"original data\" > ro_ex\n",
    "docker run --rm -idt --name ro_ex \\\n",
    "    -v $(pwd)/ro_ex:/experimental/ro_ex:ro \\\n",
    "    ubuntu &> /dev/null"
   ]
  },
  {
   "cell_type": "markdown",
   "id": "62ff9d5f",
   "metadata": {},
   "source": [
    "Now let us try to read and modify this file from the container."
   ]
  },
  {
   "cell_type": "code",
   "execution_count": 46,
   "id": "d13c2819",
   "metadata": {
    "vscode": {
     "languageId": "shellscript"
    }
   },
   "outputs": [
    {
     "name": "stdout",
     "output_type": "stream",
     "text": [
      "original data\n",
      "bash: line 1: /experimental/ro_ex: Read-only file system\n"
     ]
    },
    {
     "ename": "",
     "evalue": "1",
     "output_type": "error",
     "traceback": []
    }
   ],
   "source": [
    "docker exec ro_ex cat /experimental/ro_ex\n",
    "docker exec ro_ex bash -c \"echo \\\"modified data\\\" > /experimental/ro_ex\""
   ]
  },
  {
   "cell_type": "markdown",
   "id": "76e412bb",
   "metadata": {},
   "source": [
    "So there is no problem reading the file, but the attempt to modify it was rejected."
   ]
  },
  {
   "cell_type": "markdown",
   "id": "4100d575",
   "metadata": {},
   "source": [
    "The next cell confirms that you can keep the file unchanged."
   ]
  },
  {
   "cell_type": "code",
   "execution_count": 47,
   "id": "647348bd",
   "metadata": {
    "vscode": {
     "languageId": "shellscript"
    }
   },
   "outputs": [
    {
     "name": "stdout",
     "output_type": "stream",
     "text": [
      "original data\n"
     ]
    }
   ],
   "source": [
    "cat ro_ex"
   ]
  },
  {
   "cell_type": "markdown",
   "id": "8ce46972",
   "metadata": {},
   "source": [
    "Keeping your system clean."
   ]
  },
  {
   "cell_type": "code",
   "execution_count": 48,
   "id": "3417b8f8",
   "metadata": {
    "vscode": {
     "languageId": "shellscript"
    }
   },
   "outputs": [],
   "source": [
    "docker stop ro_ex &> /dev/null\n",
    "rm -r ro_ex"
   ]
  },
  {
   "cell_type": "markdown",
   "id": "22d172b3-bfe2-4a38-8ab3-6f1ae3153102",
   "metadata": {},
   "source": [
    "### Mounting `.dockerignore` files\n",
    "\n",
    "Even if you mount the file described in .dockerignore, we will still have it in the container. \n",
    "\n",
    "In the following example, I create `app/ignore_file.txt` and mention it in dockerignore. Build image using this .dockerignore, but in container based on this image I mount `app` folder. And as a result I can see contents of `ignore_file.txt` regardless of what I specified in the `.dockerignore`."
   ]
  },
  {
   "cell_type": "code",
   "execution_count": 5,
   "id": "670e6e66-e62f-41ec-9b54-81666703bbef",
   "metadata": {
    "vscode": {
     "languageId": "shellscript"
    }
   },
   "outputs": [
    {
     "name": "stdout",
     "output_type": "stream",
     "text": [
      "=====.dockerignore=====\n",
      "app/ignore_file.txt\n",
      "=====dockerfile=====\n",
      "FROM ubuntu\n",
      "=====ignore-file from container=====\n",
      "message in ignore_file.txt\n"
     ]
    }
   ],
   "source": [
    "%%bash\n",
    "cd filesystem_example\n",
    "mkdir app\n",
    "echo \"message in ignore_file.txt\" > app/ignore_file.txt\n",
    "echo \"=====.dockerignore=====\"\n",
    "echo \"app/ignore_file.txt\" > .dockerignore\n",
    "cat .dockerignore\n",
    "echo \"=====dockerfile=====\"\n",
    "echo \"FROM ubuntu\" > dockerfile\n",
    "cat dockerfile\n",
    "\n",
    "# build image with setted .dockerignore\n",
    "docker build -t test_image &> /dev/null\n",
    "\n",
    "# start container mountig file mentioned in .dockerignore\n",
    "docker run --rm -itd --name ignore_ex\\\n",
    "    -v $(pwd)/app:/app\\\n",
    "    ubuntu &> /dev/null\n",
    "\n",
    "echo \"=====ignore-file from container=====\"\n",
    "# make sure that this secret file is in the container\n",
    "docker exec ignore_ex cat app/ignore_file.txt\n",
    "\n",
    "docker stop ignore_ex &> /dev/null\n",
    "docker rmi test_image &> /dev/null\n",
    "rm -r app\n",
    "rm .dockerignore\n",
    "rm dockerfile"
   ]
  },
  {
   "cell_type": "markdown",
   "id": "09e8bbbd-9c7f-4543-8e18-0639bd65d440",
   "metadata": {},
   "source": [
    "## Volume by default\n",
    "\n",
    "Some containers create their own volumes by default when they run, so you may find that your entire hard drive is flooded. "
   ]
  },
  {
   "cell_type": "markdown",
   "id": "b31de927",
   "metadata": {},
   "source": [
    "---\n",
    "\n",
    "For example `yandex/clickhouse-server`. Let's list volumes available in your system."
   ]
  },
  {
   "cell_type": "code",
   "execution_count": 52,
   "id": "b1c92ec1-62e0-479e-8531-0cf99a7df8c8",
   "metadata": {
    "vscode": {
     "languageId": "shellscript"
    }
   },
   "outputs": [
    {
     "name": "stdout",
     "output_type": "stream",
     "text": [
      "DRIVER    VOLUME NAME\n"
     ]
    }
   ],
   "source": [
    "docker volume ls"
   ]
  },
  {
   "cell_type": "markdown",
   "id": "8b3466fa",
   "metadata": {},
   "source": [
    "Now run 3 clickhouse servers."
   ]
  },
  {
   "cell_type": "code",
   "execution_count": 53,
   "id": "92db52ac",
   "metadata": {
    "vscode": {
     "languageId": "shellscript"
    }
   },
   "outputs": [],
   "source": [
    "docker run -d --name db_1 --rm yandex/clickhouse-server &> /dev/null\n",
    "docker run -d --name db_2 --rm yandex/clickhouse-server &> /dev/null\n",
    "docker run -d --name db_3 --rm yandex/clickhouse-server &> /dev/null"
   ]
  },
  {
   "cell_type": "markdown",
   "id": "ed7ab035",
   "metadata": {},
   "source": [
    "There are 3 more new volumes."
   ]
  },
  {
   "cell_type": "code",
   "execution_count": 54,
   "id": "dfd09413",
   "metadata": {
    "vscode": {
     "languageId": "shellscript"
    }
   },
   "outputs": [
    {
     "name": "stdout",
     "output_type": "stream",
     "text": [
      "DRIVER    VOLUME NAME\n",
      "local     2a663bcb67e10d518c9380ef736c2b3a2a2cdbc0762e75c1e0ade4692a211140\n",
      "local     7bc74bac7549fda3ad02caee85febd8161c6c2072e7626464f87fc63cef0234d\n",
      "local     49d77d54fa7a358281c696412d5fc9ef87d7c3e9acb12fe449befb72c9faf9df\n"
     ]
    }
   ],
   "source": [
    "docker volume ls\n",
    "docker stop db_1 db_2 db_3 &> /dev/null"
   ]
  },
  {
   "cell_type": "markdown",
   "id": "6317d488",
   "metadata": {},
   "source": [
    "So clickhouse creates volume for each new container."
   ]
  },
  {
   "cell_type": "markdown",
   "id": "279488eb-fb5d-45e7-bac7-c97170e0b696",
   "metadata": {},
   "source": [
    "## Several volumes\n",
    "\n",
    "You can repeat `-v` option in `docker run` many times as you need."
   ]
  },
  {
   "cell_type": "markdown",
   "id": "3bfdfa52",
   "metadata": {},
   "source": [
    "---\n",
    "\n",
    "Here is an example where we add multiple volumes to a Docker container.\n",
    "\n",
    "**Note** that we specify the `-u $(id -u):$(id -g)` option to be able to work with files created in the container from the host."
   ]
  },
  {
   "cell_type": "code",
   "execution_count": 12,
   "id": "e3bec00a",
   "metadata": {
    "vscode": {
     "languageId": "shellscript"
    }
   },
   "outputs": [
    {
     "name": "stdout",
     "output_type": "stream",
     "text": [
      "06634a5fcefb4dd7298c139e45b1d5f3cb031c9da2642f3f407dad1205e91a70\n"
     ]
    }
   ],
   "source": [
    "mkdir dir1 dir2\n",
    "\n",
    "docker run --rm -itd \\\n",
    "    -u $(id -u):$(id -g) \\\n",
    "    -v $(pwd)/dir1:/dir1 \\\n",
    "    -v $(pwd)/dir2:/dir2 \\\n",
    "    --name test_container \\\n",
    "    alpine"
   ]
  },
  {
   "cell_type": "markdown",
   "id": "299c8834",
   "metadata": {},
   "source": [
    "Now to be sure that everything is fine lets manipulate with created folders from containers."
   ]
  },
  {
   "cell_type": "code",
   "execution_count": 13,
   "id": "2ccccc1d",
   "metadata": {
    "vscode": {
     "languageId": "shellscript"
    }
   },
   "outputs": [],
   "source": [
    "docker exec test_container sh -c \"echo \\\"message\\\" > /dir1/file_for_dir1\"\n",
    "docker exec test_container sh -c \"echo \\\"message\\\" > /dir2/file_for_dir2\""
   ]
  },
  {
   "cell_type": "markdown",
   "id": "57b3ca57",
   "metadata": {},
   "source": [
    "And check that our manipulations are reflected on the host file system."
   ]
  },
  {
   "cell_type": "code",
   "execution_count": 14,
   "id": "a8eaa74e",
   "metadata": {
    "vscode": {
     "languageId": "shellscript"
    }
   },
   "outputs": [
    {
     "name": "stdout",
     "output_type": "stream",
     "text": [
      "file_for_dir1\n",
      "file_for_dir2\n"
     ]
    }
   ],
   "source": [
    "ls dir1\n",
    "ls dir2"
   ]
  },
  {
   "cell_type": "markdown",
   "id": "58c91789",
   "metadata": {},
   "source": [
    "Finally don't forget to clear cache from the system."
   ]
  },
  {
   "cell_type": "code",
   "execution_count": 15,
   "id": "fa7729c0",
   "metadata": {
    "vscode": {
     "languageId": "shellscript"
    }
   },
   "outputs": [
    {
     "name": "stdout",
     "output_type": "stream",
     "text": [
      "test_container\n"
     ]
    }
   ],
   "source": [
    "docker stop test_container\n",
    "rm -r dir1 dir2"
   ]
  }
 ],
 "metadata": {
  "kernelspec": {
   "display_name": "Bash",
   "language": "bash",
   "name": "bash"
  },
  "language_info": {
   "codemirror_mode": "shell",
   "file_extension": ".sh",
   "mimetype": "text/x-sh",
   "name": "bash"
  }
 },
 "nbformat": 4,
 "nbformat_minor": 5
}
