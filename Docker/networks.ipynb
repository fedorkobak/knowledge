{
 "cells": [
  {
   "cell_type": "markdown",
   "metadata": {},
   "source": [
    "# Networks\n",
    "\n",
    "This section focuses on docker networks in docker."
   ]
  },
  {
   "cell_type": "markdown",
   "metadata": {},
   "source": [
    "In this section, it is crucial to obtain the name of the network to which the container is connected. To achieve this, you can use the following command:\n",
    "\n",
    "`docker inspect -f '{{range $key, $value := .NetworkSettings.Networks}}{{$key}} {{end}}' <container name>`"
   ]
  },
  {
   "cell_type": "markdown",
   "metadata": {},
   "source": [
    "---\n",
    "\n",
    "The following cell prints the network name for the container just created."
   ]
  },
  {
   "cell_type": "code",
   "execution_count": 1,
   "metadata": {
    "vscode": {
     "languageId": "shellscript"
    }
   },
   "outputs": [
    {
     "name": "stdout",
     "output_type": "stream",
     "text": [
      "bridge \n"
     ]
    }
   ],
   "source": [
    "docker run --name network_test -itd alpine &> /dev/null\n",
    "docker inspect \\\n",
    "    -f '{{range $key, $value := .NetworkSettings.Networks}}{{$key}} {{end}}' \\\n",
    "    network_test\n",
    "docker stop network_test &> /dev/null"
   ]
  },
  {
   "cell_type": "markdown",
   "metadata": {},
   "source": [
    "Containers connect to the `brindge` network by default. As a result we got the message `bridge`."
   ]
  },
  {
   "cell_type": "markdown",
   "metadata": {},
   "source": [
    "## Connect container\n",
    "\n",
    "To effectively connect Docker containers to networks, you need to understand the following options:\n",
    "\n",
    "- The `--network <network>` parameter in the `docker run` command, which specifies the network a container should connect to.\n",
    "- The `docker network connect <network> <container>` command, used for connecting an existing container to a specified network.\n",
    "- The `docker network disconnect <network> <container>` command, used for disconnecting a container from a network."
   ]
  },
  {
   "cell_type": "markdown",
   "metadata": {
    "vscode": {
     "languageId": "shellscript"
    }
   },
   "source": [
    "---\n",
    "\n",
    "As an example, let's look at the `test_network` created in the following cell."
   ]
  },
  {
   "cell_type": "code",
   "execution_count": 22,
   "metadata": {
    "vscode": {
     "languageId": "shellscript"
    }
   },
   "outputs": [
    {
     "ename": "",
     "evalue": "1",
     "output_type": "error",
     "traceback": []
    }
   ],
   "source": [
    "docker network create test_network &> /dev/null"
   ]
  },
  {
   "cell_type": "markdown",
   "metadata": {},
   "source": [
    "---\n",
    "\n",
    "The following example shows how to connect the container to the `test_network` using the `--network` parameter of the `docker run command`. It connects a new container to the network and then prints it's network name corresponding to the container."
   ]
  },
  {
   "cell_type": "code",
   "execution_count": 23,
   "metadata": {
    "vscode": {
     "languageId": "shellscript"
    }
   },
   "outputs": [
    {
     "name": "stdout",
     "output_type": "stream",
     "text": [
      "test_network \n"
     ]
    }
   ],
   "source": [
    "docker run -itd --rm \\\n",
    "    --network test_network \\\n",
    "    --name test_container \\\n",
    "    alpine &> /dev/null\n",
    "\n",
    "docker inspect \\\n",
    "    -f '{{range $key, $value := .NetworkSettings.Networks}}{{$key}} {{end}}' \\\n",
    "    test_container"
   ]
  },
  {
   "cell_type": "markdown",
   "metadata": {
    "vscode": {
     "languageId": "shellscript"
    }
   },
   "source": [
    "---\n",
    "\n",
    "Now, using `docker disconnect`, we can disconnect the container from the `test_network'. And again - print out the container's current network."
   ]
  },
  {
   "cell_type": "code",
   "execution_count": 19,
   "metadata": {
    "vscode": {
     "languageId": "shellscript"
    }
   },
   "outputs": [
    {
     "name": "stdout",
     "output_type": "stream",
     "text": [
      "\n"
     ]
    }
   ],
   "source": [
    "docker network disconnect test_network test_container\n",
    "docker inspect \\\n",
    "    -f '{{range $key, $value := .NetworkSettings.Networks}}{{$key}} {{end}}' \\\n",
    "    test_container"
   ]
  },
  {
   "cell_type": "markdown",
   "metadata": {},
   "source": [
    "So now we consider that containers simply have no network."
   ]
  },
  {
   "cell_type": "markdown",
   "metadata": {},
   "source": [
    "---\n",
    "\n",
    "Here is the example of connecting the container back to the network using command `docker network connect`."
   ]
  },
  {
   "cell_type": "code",
   "execution_count": 20,
   "metadata": {
    "vscode": {
     "languageId": "shellscript"
    }
   },
   "outputs": [
    {
     "name": "stdout",
     "output_type": "stream",
     "text": [
      "test_network \n"
     ]
    }
   ],
   "source": [
    "docker network connect test_network test_container\n",
    "docker inspect \\\n",
    "    -f '{{range $key, $value := .NetworkSettings.Networks}}{{$key}} {{end}}' \\\n",
    "    test_container"
   ]
  },
  {
   "cell_type": "markdown",
   "metadata": {},
   "source": [
    "So we got `test_network` back in the output."
   ]
  },
  {
   "cell_type": "markdown",
   "metadata": {},
   "source": [
    "Remove all temporary entities to keep the environment clean."
   ]
  },
  {
   "cell_type": "code",
   "execution_count": 21,
   "metadata": {
    "vscode": {
     "languageId": "shellscript"
    }
   },
   "outputs": [],
   "source": [
    "docker stop test_container &> /dev/null\n",
    "docker network rm test_network &> /dev/null"
   ]
  },
  {
   "cell_type": "markdown",
   "metadata": {},
   "source": [
    "## Default networks\n",
    "\n",
    "For more infomation check [specific page](networks/default_networks.ipynb).\n",
    "\n",
    "Docker has three default networks: `bridge`, `host`, and `none`. The following command lists all of them:"
   ]
  },
  {
   "cell_type": "code",
   "execution_count": 1,
   "metadata": {
    "vscode": {
     "languageId": "shellscript"
    }
   },
   "outputs": [
    {
     "name": "stdout",
     "output_type": "stream",
     "text": [
      "NETWORK ID     NAME      DRIVER    SCOPE\n",
      "77a0faf549ac   bridge    bridge    local\n",
      "80c3e6772c8c   host      host      local\n",
      "45bb103d970f   none      null      local\n"
     ]
    }
   ],
   "source": [
    "docker network ls \\\n",
    "    --filter name=bridge \\\n",
    "    --filter name=host \\\n",
    "    --filter name=none"
   ]
  },
  {
   "cell_type": "markdown",
   "metadata": {
    "vscode": {
     "languageId": "shellscript"
    }
   },
   "source": [
    "Here's a brief description of each default Docker network:\n",
    "\n",
    "1. **Bridge**: The default network for containers when none is specified. Containers on the same bridge network can communicate with each other using their container names or IP addresses. It provides basic isolation between containers on different bridge networks.\n",
    "\n",
    "2. **Host**: Containers share the host’s network stack and IP address. This means the container will have direct access to the host’s network interfaces and ports, which can be useful for performance but offers less isolation.\n",
    "\n",
    "3. **None**: Disables all networking for the container. Containers on the `none` network cannot communicate with other containers or the outside world, making it suitable for scenarios where networking is not needed."
   ]
  }
 ],
 "metadata": {
  "kernelspec": {
   "display_name": "Bash",
   "language": "bash",
   "name": "bash"
  },
  "language_info": {
   "codemirror_mode": "shell",
   "file_extension": ".sh",
   "mimetype": "text/x-sh",
   "name": "bash"
  }
 },
 "nbformat": 4,
 "nbformat_minor": 2
}
