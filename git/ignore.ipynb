{
 "cells": [
  {
   "cell_type": "markdown",
   "id": "015ab0d6-ef48-4664-bdc4-0290991d37df",
   "metadata": {},
   "source": [
    "# How git ignore works"
   ]
  },
  {
   "cell_type": "markdown",
   "id": "cac52798-6433-43e1-bf00-f3e0a92bb41a",
   "metadata": {},
   "source": [
    "## Check ignored files\n",
    "\n",
    "To list files that match any pattern in your `.gitignore`, use the `--ignored` option to the `git status` command. All files to be ignored will be listed in the `Ignored files:` section."
   ]
  },
  {
   "cell_type": "markdown",
   "id": "f7ec2929-0935-462a-9582-e113b6c32c8b",
   "metadata": {},
   "source": [
    "In the next cell I define a `.gitignore' file, which tells git to ignore any file that matches `file_to_be_ignored*'."
   ]
  },
  {
   "cell_type": "code",
   "execution_count": 9,
   "id": "f4a916f3-3e49-437b-9e73-fdc9247db57e",
   "metadata": {},
   "outputs": [
    {
     "name": "stdout",
     "output_type": "stream",
     "text": [
      "Overwriting ignore_files/check_ignored_files/.gitignore\n"
     ]
    }
   ],
   "source": [
    "%%writefile ignore_files/check_ignored_files/.gitignore\n",
    "file_to_be_ignored*"
   ]
  },
  {
   "cell_type": "markdown",
   "id": "8961f601-dd40-4b1d-9139-53adb9f61881",
   "metadata": {},
   "source": [
    "So lets see how it looks. In the following cell I create some files, some matching `file_to_be_ignored`, some not, and then run `git status` with and without `--ignored`.\n",
    "\n",
    "With the `--ignored` option, you can see the `file_to_be_ignored*` files in the `Ignored files:` section."
   ]
  },
  {
   "cell_type": "code",
   "execution_count": 10,
   "id": "8a20977b-31a5-4e54-9aa6-fa062bd0429e",
   "metadata": {},
   "outputs": [
    {
     "name": "stdout",
     "output_type": "stream",
     "text": [
      "=====git status=====\n",
      "On branch master\n",
      "\n",
      "No commits yet\n",
      "\n",
      "Untracked files:\n",
      "  (use \"git add <file>...\" to include in what will be committed)\n",
      "\t.gitignore\n",
      "\tother_file1\n",
      "\tother_file2\n",
      "\tother_file3\n",
      "\n",
      "nothing added to commit but untracked files present (use \"git add\" to track)\n",
      "\n",
      "=====git status --ignored=====\n",
      "On branch master\n",
      "\n",
      "No commits yet\n",
      "\n",
      "Untracked files:\n",
      "  (use \"git add <file>...\" to include in what will be committed)\n",
      "\t.gitignore\n",
      "\tother_file1\n",
      "\tother_file2\n",
      "\tother_file3\n",
      "\n",
      "Ignored files:\n",
      "  (use \"git add -f <file>...\" to include in what will be committed)\n",
      "\tfile_to_be_ignored1\n",
      "\tfile_to_be_ignored2\n",
      "\tfile_to_be_ignored3\n",
      "\n",
      "nothing added to commit but untracked files present (use \"git add\" to track)\n"
     ]
    }
   ],
   "source": [
    "%%bash\n",
    "cd ignore_files/check_ignored_files\n",
    "git init &> /dev/null\n",
    "\n",
    "touch file_to_be_ignored{1..3}\n",
    "touch other_file{1..3}\n",
    "\n",
    "echo \"=====git status=====\"\n",
    "git status\n",
    "\n",
    "echo\n",
    "echo \"=====git status --ignored=====\"\n",
    "git status --ignored\n",
    "\n",
    "rm -r .git"
   ]
  },
  {
   "cell_type": "markdown",
   "id": "647ba3ed-395a-4cc1-8805-6f07f0b7a137",
   "metadata": {},
   "source": [
    "## Any entry\n",
    "\n",
    "Using the syntax `*<symbol_combination>*` you can specify a symbol combination and any file with that symbol combination in the relative filepath will be ignored by git.\n",
    "\n",
    "The following example shows:\n",
    "\n",
    "- Files tree and `.gitignore`, which tells git to ignore any file with `symb_comb` in it's filepath;\n",
    "- The results of the `git status` of a freshly created repository, which helps us understand exactly what files git is ignoring.\n",
    "\n",
    "There are few important fatures:\n",
    "\n",
    "- Of course, `some_folder2` doesn't have `symb_comb` in it's filepath, but it only has one file and that file should be ignored by git, so to git this folder appears empty;\n",
    "- Git ignores files in directories started or ended with `symb_comb`."
   ]
  },
  {
   "cell_type": "code",
   "execution_count": 1,
   "id": "79e2bd23-8be1-4d0b-a916-9acedac99860",
   "metadata": {},
   "outputs": [
    {
     "name": "stdout",
     "output_type": "stream",
     "text": [
      "=====FILES TREE=====\n",
      "\u001b[01;34m.\u001b[0m\n",
      "├── \u001b[01;34msome_folder\u001b[0m\n",
      "│   └── some_file\n",
      "└── some_random_file\n",
      "\n",
      "1 directory, 2 files\n",
      "\n",
      "\n",
      "=====.GITIGNORE FILE=====\n",
      "*symb_comb*\n",
      "\n",
      "\n",
      "=====GIT STATUS=====\n",
      "On branch master\n",
      "\n",
      "No commits yet\n",
      "\n",
      "Untracked files:\n",
      "  (use \"git add <file>...\" to include in what will be committed)\n",
      "\t.gitignore\n",
      "\tsome_folder/\n",
      "\tsome_random_file\n",
      "\n",
      "nothing added to commit but untracked files present (use \"git add\" to track)\n"
     ]
    }
   ],
   "source": [
    "%%bash\n",
    "cd ignore_files/any_entry\n",
    "git init &> /dev/null\n",
    "\n",
    "echo \"=====FILES TREE=====\"\n",
    "tree\n",
    "\n",
    "echo\n",
    "echo\n",
    "echo \"=====.GITIGNORE FILE=====\"\n",
    "cat .gitignore\n",
    "\n",
    "\n",
    "echo\n",
    "echo\n",
    "echo \"=====GIT STATUS=====\"\n",
    "git status\n",
    "\n",
    "rm -r .git"
   ]
  }
 ],
 "metadata": {
  "kernelspec": {
   "display_name": "Python 3 (ipykernel)",
   "language": "python",
   "name": "python3"
  },
  "language_info": {
   "codemirror_mode": {
    "name": "ipython",
    "version": 3
   },
   "file_extension": ".py",
   "mimetype": "text/x-python",
   "name": "python",
   "nbconvert_exporter": "python",
   "pygments_lexer": "ipython3",
   "version": "3.10.12"
  }
 },
 "nbformat": 4,
 "nbformat_minor": 5
}
