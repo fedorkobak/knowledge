{
 "cells": [
  {
   "cell_type": "markdown",
   "id": "14e9ccf2-b6c0-4080-a0d7-2efc50d7abac",
   "metadata": {},
   "source": [
    "# Commit\n",
    "\n",
    "`git commit` is central command for git that allows to save staged memories for ever."
   ]
  },
  {
   "cell_type": "markdown",
   "id": "94964387-ef4e-43b5-bf39-d2b1625e7bd0",
   "metadata": {},
   "source": [
    "## -a option\n",
    "\n",
    "This option makes git to stage file that wasn't staged before the commit. It's like to do commit for edited files without execution of `git add` before."
   ]
  },
  {
   "cell_type": "markdown",
   "id": "4ca71591-05aa-4842-924d-ca6b8ff4f952",
   "metadata": {},
   "source": [
    "### Basic example\n",
    "\n",
    "So in the following example:\n",
    "\n",
    "- Create a repository containing a modified file;\n",
    "- First attempt to commit without additional options - fails, log doesn't show `control commit` just because there was nothing to commit;\n",
    "- Second attempt to `commit -a` - it works, new commit appears in `git log` results."
   ]
  },
  {
   "cell_type": "code",
   "execution_count": 10,
   "id": "3f5858b2-7b09-497a-b1c4-8dcff4dd0f3d",
   "metadata": {},
   "outputs": [
    {
     "name": "stdout",
     "output_type": "stream",
     "text": [
      "=====Just commit=====\n",
      "-----commit-----\n",
      "On branch master\n",
      "Changes not staged for commit:\n",
      "  (use \"git add <file>...\" to update what will be committed)\n",
      "  (use \"git restore <file>...\" to discard changes in working directory)\n",
      "\tmodified:   test_file\n",
      "\n",
      "no changes added to commit (use \"git add\" and/or \"git commit -a\")\n",
      "-----log-----\n",
      "b492f00 innitial commit\n",
      "\n",
      "=====Commit -a=====\n",
      "-----commit-----\n",
      "[master 1b938f2] control commit\n",
      " 1 file changed, 1 insertion(+), 1 deletion(-)\n",
      "-----log-----\n",
      "1b938f2 control commit\n",
      "b492f00 innitial commit\n"
     ]
    }
   ],
   "source": [
    "%%bash\n",
    "mkdir commit_example\n",
    "cd commit_example\n",
    "\n",
    "git init &> /dev/null\n",
    "echo \"some text\" > test_file\n",
    "git add --all\n",
    "git commit -m \"innitial commit\"&> /dev/null\n",
    "echo \"some other text\" > test_file\n",
    "\n",
    "echo \"=====Just commit=====\"\n",
    "echo \"-----commit-----\"\n",
    "git commit -m \"control commit\"\n",
    "echo \"-----log-----\"\n",
    "git log --oneline\n",
    "\n",
    "echo\n",
    "echo \"=====Commit -a=====\"\n",
    "echo \"-----commit-----\"\n",
    "git commit -am \"control commit\"\n",
    "echo \"-----log-----\"\n",
    "git log --oneline\n",
    "\n",
    "\n",
    "cd ..\n",
    "rm -r commit_example"
   ]
  },
  {
   "cell_type": "markdown",
   "id": "4f8448e3-174d-41de-9bdc-56bb7242e21e",
   "metadata": {},
   "source": [
    "### Untracked files\n",
    "\n",
    "**This option won't work for untracked files.** You have to add it before.\n",
    "\n",
    "So in the following example, I'm trying to use `commit -a` for a repository with only one untracked file, and getting messages that I need to add it first."
   ]
  },
  {
   "cell_type": "code",
   "execution_count": 13,
   "id": "57d1ece2-7d49-4ccc-9d3f-a353e3192ae8",
   "metadata": {},
   "outputs": [
    {
     "name": "stdout",
     "output_type": "stream",
     "text": [
      "=====commit=====\n",
      "On branch master\n",
      "\n",
      "Initial commit\n",
      "\n",
      "Untracked files:\n",
      "  (use \"git add <file>...\" to include in what will be committed)\n",
      "\ttest_file\n",
      "\n",
      "nothing added to commit but untracked files present (use \"git add\" to track)\n",
      "=====log=====\n"
     ]
    },
    {
     "name": "stderr",
     "output_type": "stream",
     "text": [
      "fatal: your current branch 'master' does not have any commits yet\n"
     ]
    }
   ],
   "source": [
    "%%bash\n",
    "mkdir commit_example\n",
    "cd commit_example\n",
    "\n",
    "git init &> /dev/null\n",
    "echo \"some text\" > test_file\n",
    "# git add --all don't add untracked file\n",
    "echo \"=====commit=====\"\n",
    "git commit -am \"innitial commit\"\n",
    "echo \"=====log=====\"\n",
    "git log\n",
    "\n",
    "cd ..\n",
    "rm -r commit_example"
   ]
  }
 ],
 "metadata": {
  "kernelspec": {
   "display_name": "Python 3 (ipykernel)",
   "language": "python",
   "name": "python3"
  },
  "language_info": {
   "codemirror_mode": {
    "name": "ipython",
    "version": 3
   },
   "file_extension": ".py",
   "mimetype": "text/x-python",
   "name": "python",
   "nbconvert_exporter": "python",
   "pygments_lexer": "ipython3",
   "version": "3.10.12"
  }
 },
 "nbformat": 4,
 "nbformat_minor": 5
}
