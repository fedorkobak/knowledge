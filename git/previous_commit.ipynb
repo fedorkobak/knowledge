{
 "cells": [
  {
   "cell_type": "markdown",
   "id": "d9da1302-df78-4579-b15a-3e915e815c80",
   "metadata": {},
   "source": [
    "# Previous commit `~`\n",
    "\n",
    "You can use the `<commit>~n` construction to reference a commit that is `n` steps back in the commit chain."
   ]
  },
  {
   "cell_type": "markdown",
   "id": "c7f1cf38-969f-4d05-ad5b-db067b3acbeb",
   "metadata": {},
   "source": [
    "## Basic example\n",
    "\n",
    "In the following example:\n",
    "\n",
    "- Two commits were created;\n",
    "- `git log` shows that `HEAD` refer to second commit;\n",
    "- `git show HEAD~1` show the idea:\n",
    "    - `git show` is a command that "
   ]
  },
  {
   "cell_type": "code",
   "execution_count": 7,
   "id": "30d27b1c-dc76-4f9b-852a-cd52387d8dde",
   "metadata": {},
   "outputs": [
    {
     "name": "stdout",
     "output_type": "stream",
     "text": [
      "=====git log=====\n",
      "4a2cb19 (HEAD -> master) second commit\n",
      "255352e first commit\n",
      "commit 255352e5697d4b37becd32c042d263ade28cfed1\n",
      "Author: Dranikf <kobfedsur@gmail.com>\n",
      "Date:   Sat Sep 9 18:13:08 2023 +0300\n",
      "\n",
      "    first commit\n",
      "\n",
      "diff --git a/file1 b/file1\n",
      "new file mode 100644\n",
      "index 0000000..e69de29\n"
     ]
    }
   ],
   "source": [
    "%%bash\n",
    "mkdir operations_examples\n",
    "cd operations_examples\n",
    "git init &> /dev/null\n",
    "\n",
    "touch file1\n",
    "git add --all\n",
    "git commit -am \"first commit\" &> /dev/null\n",
    "\n",
    "touch file2\n",
    "git add --all\n",
    "git commit -am \"second commit\" &> /dev/null\n",
    "\n",
    "echo \"=====git log=====\"\n",
    "git log --oneline --decorate\n",
    "git show HEAD~1\n",
    "\n",
    "cd ..\n",
    "rm -r operations_examples"
   ]
  },
  {
   "cell_type": "code",
   "execution_count": 10,
   "id": "64a1821c-c94d-47a2-8624-1d0335c8c4c3",
   "metadata": {},
   "outputs": [
    {
     "name": "stdout",
     "output_type": "stream",
     "text": [
      "=====git log=====\n",
      "c1bc307 (HEAD -> master) second commit\n",
      "d0a9d92 first commit\n",
      "commit d0a9d9239cd279f6f88af5690f07a99870afc6b7\n",
      "Author: Dranikf <kobfedsur@gmail.com>\n",
      "Date:   Sat Sep 9 18:24:49 2023 +0300\n",
      "\n",
      "    first commit\n",
      "\n",
      "diff --git a/file1 b/file1\n",
      "new file mode 100644\n",
      "index 0000000..e69de29\n"
     ]
    }
   ],
   "source": [
    "%%bash\n",
    "mkdir operations_examples\n",
    "cd operations_examples\n",
    "git init &> /dev/null\n",
    "\n",
    "touch file1\n",
    "git add --all\n",
    "git commit -am \"first commit\" &> /dev/null\n",
    "\n",
    "touch file2\n",
    "git add --all\n",
    "git commit -am \"second commit\" &> /dev/null\n",
    "second_hash=$(git rev-parse HEAD)\n",
    "\n",
    "echo \"=====git log=====\"\n",
    "git log --oneline --decorate\n",
    "git show $second_hash~1\n",
    "\n",
    "cd ..\n",
    "rm -r operations_examples"
   ]
  }
 ],
 "metadata": {
  "kernelspec": {
   "display_name": "Python 3 (ipykernel)",
   "language": "python",
   "name": "python3"
  },
  "language_info": {
   "codemirror_mode": {
    "name": "ipython",
    "version": 3
   },
   "file_extension": ".py",
   "mimetype": "text/x-python",
   "name": "python",
   "nbconvert_exporter": "python",
   "pygments_lexer": "ipython3",
   "version": "3.10.12"
  }
 },
 "nbformat": 4,
 "nbformat_minor": 5
}
