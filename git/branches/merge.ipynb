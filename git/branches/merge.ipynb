{
 "cells": [
  {
   "cell_type": "markdown",
   "id": "65d3dbe2-c2b9-402f-9139-426993f079e2",
   "metadata": {},
   "source": [
    "# Merge\n",
    "\n",
    "Branches merge is opertion that allows you to get changes from intependend branches in one common commit. The `git merge` command is crucial for this page.\n",
    "\n",
    "To merge branches you need to `git checkout` to brunch to which we merge all the changes, and execute command `git merge <branch to be merged>`."
   ]
  },
  {
   "cell_type": "markdown",
   "id": "07333c9e-1494-4262-85cd-06b80e15cee7",
   "metadata": {},
   "source": [
    "## To ancestor\n",
    "\n",
    "The simplest case is when you create a branch, make a few commits, and want to add those changes from an ancestor branch that hasn't changed.\n",
    "\n",
    "Simply put, you just tell the parent branch to just start referencing the last commit of the branch you want to merge into the parent branch."
   ]
  },
  {
   "cell_type": "markdown",
   "id": "5169e654",
   "metadata": {
    "vscode": {
     "languageId": "shellscript"
    }
   },
   "source": [
    "---\n",
    "\n",
    "Consider the corresponding example.\n",
    "\n",
    "The following cell illustrates a scenario in which an \"example branch\" that is created from the \"initial commit\" in the `main` branch."
   ]
  },
  {
   "cell_type": "code",
   "execution_count": 19,
   "id": "713d4669-7489-44bb-b847-4738b2bf55d6",
   "metadata": {
    "vscode": {
     "languageId": "shellscript"
    }
   },
   "outputs": [
    {
     "name": "stdout",
     "output_type": "stream",
     "text": [
      "* \u001b[33mcommit d8c45de49e1910b95336a842d0371da6b346f9ba\u001b[m\u001b[33m (\u001b[m\u001b[1;36mHEAD\u001b[m\u001b[33m -> \u001b[m\u001b[1;32mexample_branch\u001b[m\u001b[33m)\u001b[m\n",
      "\u001b[31m|\u001b[m Author: fedorkobak <kobfedsur@gmail.com>\n",
      "\u001b[31m|\u001b[m Date:   Thu Oct 30 23:30:30 2025 +0300\n",
      "\u001b[31m|\u001b[m \n",
      "\u001b[31m|\u001b[m     branch commit\n",
      "\u001b[31m|\u001b[m \n",
      "* \u001b[33mcommit a725eb28b0d67d4e49130dadbe73c8ec0314e69b\u001b[m\u001b[33m (\u001b[m\u001b[1;32mmaster\u001b[m\u001b[33m)\u001b[m\n",
      "  Author: fedorkobak <kobfedsur@gmail.com>\n",
      "  Date:   Thu Oct 30 23:30:30 2025 +0300\n",
      "  \n",
      "      initial commit\n"
     ]
    }
   ],
   "source": [
    "%init\n",
    "echo \"content\" > test_file\n",
    "git add --all\n",
    "git commit -m \"initial commit\" &> /dev/null\n",
    "\n",
    "git checkout -b example_branch &> /dev/null\n",
    "echo \"content2\" > test_file\n",
    "git commit -am \"branch commit\" &> /dev/null\n",
    "git log --decorate --graph"
   ]
  },
  {
   "cell_type": "markdown",
   "id": "521950e2",
   "metadata": {},
   "source": [
    "The following cell checks out to the \"main\" branch and merges the \"example_branch\" into it."
   ]
  },
  {
   "cell_type": "code",
   "execution_count": 16,
   "id": "1a1882de",
   "metadata": {
    "vscode": {
     "languageId": "shellscript"
    }
   },
   "outputs": [
    {
     "name": "stdout",
     "output_type": "stream",
     "text": [
      "Updating 1956595..8659f34\n",
      "Fast-forward\n",
      " test_file | 2 \u001b[32m+\u001b[m\u001b[31m-\u001b[m\n",
      " 1 file changed, 1 insertion(+), 1 deletion(-)\n"
     ]
    }
   ],
   "source": [
    "git checkout master &> /dev/null\n",
    "git merge example_branch"
   ]
  },
  {
   "cell_type": "markdown",
   "id": "f151e8b6",
   "metadata": {},
   "source": [
    "As the result the commit tree looks like presented in the following cell."
   ]
  },
  {
   "cell_type": "code",
   "execution_count": null,
   "id": "1c38ddf3",
   "metadata": {
    "vscode": {
     "languageId": "shellscript"
    }
   },
   "outputs": [
    {
     "name": "stdout",
     "output_type": "stream",
     "text": [
      "* \u001b[33mcommit 8659f342f775f3461847c9e910d34b10dd81fb81\u001b[m\u001b[33m (\u001b[m\u001b[1;36mHEAD\u001b[m\u001b[33m -> \u001b[m\u001b[1;32mmaster\u001b[m\u001b[33m, \u001b[m\u001b[1;32mexample_branch\u001b[m\u001b[33m)\u001b[m\n",
      "\u001b[31m|\u001b[m Author: fedorkobak <kobfedsur@gmail.com>\n",
      "\u001b[31m|\u001b[m Date:   Thu Oct 30 23:27:18 2025 +0300\n",
      "\u001b[31m|\u001b[m \n",
      "\u001b[31m|\u001b[m     branch commit\n",
      "\u001b[31m|\u001b[m \n",
      "* \u001b[33mcommit 19565951c5cb967ddabf39037159787bda7016b9\u001b[m\n",
      "  Author: fedorkobak <kobfedsur@gmail.com>\n",
      "  Date:   Thu Oct 30 23:27:16 2025 +0300\n",
      "  \n",
      "      basic commit\n"
     ]
    }
   ],
   "source": [
    "git log --decorate --graph"
   ]
  },
  {
   "cell_type": "markdown",
   "id": "f68b2445",
   "metadata": {},
   "source": [
    "The master is \"pulled\" to the `example_branch`."
   ]
  },
  {
   "cell_type": "markdown",
   "id": "0d392274-4aba-4f9a-80b5-bfdf589ba0e6",
   "metadata": {},
   "source": [
    "## Basic case\n",
    "\n",
    "In the case when both branches you intend to merge have diverged (i.e., both have new commits relative to their closest common ancestor), the merging process will result in Git performing a three-way merge. The system will then automatically create a merge commit that \"joins\" the two separate lines of development."
   ]
  },
  {
   "cell_type": "markdown",
   "id": "d80aea9f",
   "metadata": {},
   "source": [
    "---\n",
    "\n",
    "The following cell generates a Git history corresponding to the case in question."
   ]
  },
  {
   "cell_type": "code",
   "execution_count": 7,
   "id": "03dfb1a3-dd93-4154-bdc4-18eb2bf75477",
   "metadata": {
    "vscode": {
     "languageId": "shellscript"
    }
   },
   "outputs": [
    {
     "name": "stdout",
     "output_type": "stream",
     "text": [
      "* \u001b[33mcommit 46267d0192969dc0c68cb43a1753f703c63109b1\u001b[m\u001b[33m (\u001b[m\u001b[1;32mexample_branch\u001b[m\u001b[33m)\u001b[m\n",
      "\u001b[31m|\u001b[m Author: fedorkobak <kobfedsur@gmail.com>\n",
      "\u001b[31m|\u001b[m Date:   Fri Oct 31 07:23:08 2025 +0100\n",
      "\u001b[31m|\u001b[m \n",
      "\u001b[31m|\u001b[m     branch commit\n",
      "\u001b[31m|\u001b[m   \n",
      "\u001b[31m|\u001b[m * \u001b[33mcommit f36877029ce3bc142a92bb32f620573914c2787d\u001b[m\u001b[33m (\u001b[m\u001b[1;36mHEAD\u001b[m\u001b[33m -> \u001b[m\u001b[1;32mmaster\u001b[m\u001b[33m)\u001b[m\n",
      "\u001b[31m|\u001b[m\u001b[31m/\u001b[m  Author: fedorkobak <kobfedsur@gmail.com>\n",
      "\u001b[31m|\u001b[m   Date:   Fri Oct 31 07:23:08 2025 +0100\n",
      "\u001b[31m|\u001b[m   \n",
      "\u001b[31m|\u001b[m       master commit\n",
      "\u001b[31m|\u001b[m \n",
      "* \u001b[33mcommit 3234248174eb54c295070946178d1442866abd5e\u001b[m\n",
      "  Author: fedorkobak <kobfedsur@gmail.com>\n",
      "  Date:   Fri Oct 31 07:23:08 2025 +0100\n",
      "  \n",
      "      basic commit\n"
     ]
    }
   ],
   "source": [
    "%init\n",
    "echo \"content\" > file\n",
    "git add --all\n",
    "git commit -m \"basic commit\" &> /dev/null\n",
    "\n",
    "git checkout -b example_branch &> /dev/null\n",
    "echo \"content\" > branch_file\n",
    "git add --all\n",
    "git commit -m \"branch commit\" &> /dev/null\n",
    "\n",
    "git checkout master &> /dev/null\n",
    "echo \"master content\" > file\n",
    "git commit -am \"master commit\" &> /dev/null\n",
    "\n",
    "git log --decorate --graph --all"
   ]
  },
  {
   "cell_type": "markdown",
   "id": "ee4712da",
   "metadata": {},
   "source": [
    "The next cell merges the `example_branch` with the `main` and shows the corresponding output."
   ]
  },
  {
   "cell_type": "code",
   "execution_count": null,
   "id": "344a27ac",
   "metadata": {
    "vscode": {
     "languageId": "shellscript"
    }
   },
   "outputs": [
    {
     "name": "stdout",
     "output_type": "stream",
     "text": [
      "Merge made by the 'ort' strategy.\n",
      " branch_file | 1 \u001b[32m+\u001b[m\n",
      " 1 file changed, 1 insertion(+)\n",
      " create mode 100644 branch_file\n",
      "*   \u001b[33mcommit 2065d26a68bfb1ea451877a7460b8f249320915d\u001b[m\u001b[33m (\u001b[m\u001b[1;36mHEAD\u001b[m\u001b[33m -> \u001b[m\u001b[1;32mmaster\u001b[m\u001b[33m)\u001b[m\n",
      "\u001b[31m|\u001b[m\u001b[32m\\\u001b[m  Merge: f368770 46267d0\n",
      "\u001b[31m|\u001b[m \u001b[32m|\u001b[m Author: fedorkobak <kobfedsur@gmail.com>\n",
      "\u001b[31m|\u001b[m \u001b[32m|\u001b[m Date:   Fri Oct 31 07:23:24 2025 +0100\n",
      "\u001b[31m|\u001b[m \u001b[32m|\u001b[m \n",
      "\u001b[31m|\u001b[m \u001b[32m|\u001b[m     merge commit\n",
      "\u001b[31m|\u001b[m \u001b[32m|\u001b[m \n",
      "\u001b[31m|\u001b[m * \u001b[33mcommit 46267d0192969dc0c68cb43a1753f703c63109b1\u001b[m\u001b[33m (\u001b[m\u001b[1;32mexample_branch\u001b[m\u001b[33m)\u001b[m\n",
      "\u001b[31m|\u001b[m \u001b[32m|\u001b[m Author: fedorkobak <kobfedsur@gmail.com>\n",
      "\u001b[31m|\u001b[m \u001b[32m|\u001b[m Date:   Fri Oct 31 07:23:08 2025 +0100\n",
      "\u001b[31m|\u001b[m \u001b[32m|\u001b[m \n",
      "\u001b[31m|\u001b[m \u001b[32m|\u001b[m     branch commit\n",
      "\u001b[31m|\u001b[m \u001b[32m|\u001b[m \n",
      "* \u001b[32m|\u001b[m \u001b[33mcommit f36877029ce3bc142a92bb32f620573914c2787d\u001b[m\n",
      "\u001b[32m|\u001b[m\u001b[32m/\u001b[m  Author: fedorkobak <kobfedsur@gmail.com>\n",
      "\u001b[32m|\u001b[m   Date:   Fri Oct 31 07:23:08 2025 +0100\n",
      "\u001b[32m|\u001b[m   \n",
      "\u001b[32m|\u001b[m       master commit\n",
      "\u001b[32m|\u001b[m \n",
      "* \u001b[33mcommit 3234248174eb54c295070946178d1442866abd5e\u001b[m\n",
      "  Author: fedorkobak <kobfedsur@gmail.com>\n",
      "  Date:   Fri Oct 31 07:23:08 2025 +0100\n",
      "  \n",
      "      basic commit\n"
     ]
    }
   ],
   "source": [
    "git merge example_branch -m \"merge commit\"\n",
    "git log --decorate --graph --all"
   ]
  },
  {
   "cell_type": "markdown",
   "id": "d6e08c72-da99-4faf-975f-34c1a9e3bb1e",
   "metadata": {},
   "source": [
    "## Solve conflict\n",
    "\n",
    "In the section [basic case](#sec-basic_case) the example shows the case where the brances to be merged modify different files. But how does git deal with the case where branches being merged have changes in the same files?\n",
    "\n",
    "Git will enter a special state - a merge conflict. It will be necessary to edit the files that caused the conflict, add changes to the stage, and commit the changes.\n",
    "\n",
    "When there is a conflict, git will make some changes to the conflicting files. It will record where there is a conflict:\n",
    "\n",
    "```\n",
    "<<<<<<< HEAD\n",
    "<content of the branch we are merging into>\n",
    "===========\n",
    "<content of the branch we merge into another>\n",
    ">>>>>>> <branch ot be merged name>\n",
    "```"
   ]
  },
  {
   "cell_type": "markdown",
   "id": "18c058c3-0f1d-42ce-8324-525e26125feb",
   "metadata": {},
   "source": [
    "### Manual example\n",
    "\n",
    "We can put any content there: we can put content from one of the branches, or we can put completely different content."
   ]
  },
  {
   "cell_type": "markdown",
   "id": "b0b7d227-780d-4c59-a9f9-7475d0b28ce2",
   "metadata": {},
   "source": [
    "---\n",
    "\n",
    "The following cell creates a git history in which the two branches intend to modify the `file` in a different ways."
   ]
  },
  {
   "cell_type": "code",
   "execution_count": 9,
   "id": "a9248215-847b-4391-8818-b71c2f3d0095",
   "metadata": {
    "vscode": {
     "languageId": "shellscript"
    }
   },
   "outputs": [
    {
     "name": "stdout",
     "output_type": "stream",
     "text": [
      "* \u001b[33mcommit 73095508558ded1759bc13a3f8afdc4f37b99f85\u001b[m\u001b[33m (\u001b[m\u001b[1;32mexample_branch\u001b[m\u001b[33m)\u001b[m\n",
      "\u001b[31m|\u001b[m Author: fedorkobak <kobfedsur@gmail.com>\n",
      "\u001b[31m|\u001b[m Date:   Fri Oct 31 07:32:43 2025 +0100\n",
      "\u001b[31m|\u001b[m \n",
      "\u001b[31m|\u001b[m     commit in example_branch\n",
      "\u001b[31m|\u001b[m   \n",
      "\u001b[31m|\u001b[m * \u001b[33mcommit 95d59aa007c0ecf98bc14df8bf6974491d51adf0\u001b[m\u001b[33m (\u001b[m\u001b[1;36mHEAD\u001b[m\u001b[33m -> \u001b[m\u001b[1;32mmaster\u001b[m\u001b[33m)\u001b[m\n",
      "\u001b[31m|\u001b[m\u001b[31m/\u001b[m  Author: fedorkobak <kobfedsur@gmail.com>\n",
      "\u001b[31m|\u001b[m   Date:   Fri Oct 31 07:32:43 2025 +0100\n",
      "\u001b[31m|\u001b[m   \n",
      "\u001b[31m|\u001b[m       commit in master\n",
      "\u001b[31m|\u001b[m \n",
      "* \u001b[33mcommit 80f3a21ebda928f420f04329140812fe8c5350a6\u001b[m\n",
      "  Author: fedorkobak <kobfedsur@gmail.com>\n",
      "  Date:   Fri Oct 31 07:32:43 2025 +0100\n",
      "  \n",
      "      basic commit\n"
     ]
    }
   ],
   "source": [
    "%init\n",
    "echo \"content for basic commit\" > file\n",
    "git add --all\n",
    "git commit -m \"basic commit\" &> /dev/null\n",
    "\n",
    "git checkout -b example_branch &> /dev/null\n",
    "echo \"content for example branch\" > file\n",
    "git commit -am \"commit in example_branch\" &> /dev/null\n",
    "\n",
    "git checkout master &> /dev/null\n",
    "echo \"content for master branch\" > file\n",
    "git commit -am \"commit in master\" &> /dev/null\n",
    "\n",
    "git log --decorate --graph --all"
   ]
  },
  {
   "cell_type": "markdown",
   "id": "e36074d6",
   "metadata": {},
   "source": [
    "As a result, attempting to merge these branches results in a merging error."
   ]
  },
  {
   "cell_type": "code",
   "execution_count": 11,
   "id": "244f06d1",
   "metadata": {
    "vscode": {
     "languageId": "shellscript"
    }
   },
   "outputs": [
    {
     "name": "stdout",
     "output_type": "stream",
     "text": [
      "error: Merging is not possible because you have unmerged files.\n",
      "\u001b[33mhint: Fix them up in the work tree, and then use 'git add/rm <file>'\u001b[m\n",
      "\u001b[33mhint: as appropriate to mark resolution and make a commit.\u001b[m\n",
      "fatal: Exiting because of an unresolved conflict.\n",
      "On branch master\n",
      "You have unmerged paths.\n",
      "  (fix conflicts and run \"git commit\")\n",
      "  (use \"git merge --abort\" to abort the merge)\n",
      "\n",
      "Unmerged paths:\n",
      "  (use \"git add <file>...\" to mark resolution)\n",
      "\t\u001b[31mboth modified:   file\u001b[m\n",
      "\n",
      "no changes added to commit (use \"git add\" and/or \"git commit -a\")\n"
     ]
    }
   ],
   "source": [
    "git merge example_branch\n",
    "git status"
   ]
  },
  {
   "cell_type": "markdown",
   "id": "a30c2fac",
   "metadata": {},
   "source": [
    "Git offers to set the correct state of the `file`, add it and then commit."
   ]
  },
  {
   "cell_type": "markdown",
   "id": "02e28e20",
   "metadata": {},
   "source": [
    "Consider how the current appearance of the `file` in the working directory:"
   ]
  },
  {
   "cell_type": "code",
   "execution_count": 12,
   "id": "82033942",
   "metadata": {
    "vscode": {
     "languageId": "shellscript"
    }
   },
   "outputs": [
    {
     "name": "stdout",
     "output_type": "stream",
     "text": [
      "<<<<<<< HEAD\n",
      "content for master branch\n",
      "=======\n",
      "content for example branch\n",
      ">>>>>>> example_branch\n"
     ]
    }
   ],
   "source": [
    "cat file"
   ]
  },
  {
   "cell_type": "markdown",
   "id": "2d0cd01d",
   "metadata": {},
   "source": [
    "The options from both branches are highlighted there."
   ]
  },
  {
   "cell_type": "markdown",
   "id": "365b62ea",
   "metadata": {},
   "source": [
    "The following cell sets the content of the `file`, commits its current state displays the resulting history."
   ]
  },
  {
   "cell_type": "code",
   "execution_count": 13,
   "id": "8ea210df",
   "metadata": {
    "vscode": {
     "languageId": "shellscript"
    }
   },
   "outputs": [
    {
     "name": "stdout",
     "output_type": "stream",
     "text": [
      "*   \u001b[33mcommit 7b5848d65237c67d74df095c6466e434c2782ecb\u001b[m\u001b[33m (\u001b[m\u001b[1;36mHEAD\u001b[m\u001b[33m -> \u001b[m\u001b[1;32mmaster\u001b[m\u001b[33m)\u001b[m\n",
      "\u001b[31m|\u001b[m\u001b[32m\\\u001b[m  Merge: 95d59aa 7309550\n",
      "\u001b[31m|\u001b[m \u001b[32m|\u001b[m Author: fedorkobak <kobfedsur@gmail.com>\n",
      "\u001b[31m|\u001b[m \u001b[32m|\u001b[m Date:   Fri Oct 31 07:33:42 2025 +0100\n",
      "\u001b[31m|\u001b[m \u001b[32m|\u001b[m \n",
      "\u001b[31m|\u001b[m \u001b[32m|\u001b[m     my after merge commit\n",
      "\u001b[31m|\u001b[m \u001b[32m|\u001b[m \n",
      "\u001b[31m|\u001b[m * \u001b[33mcommit 73095508558ded1759bc13a3f8afdc4f37b99f85\u001b[m\u001b[33m (\u001b[m\u001b[1;32mexample_branch\u001b[m\u001b[33m)\u001b[m\n",
      "\u001b[31m|\u001b[m \u001b[32m|\u001b[m Author: fedorkobak <kobfedsur@gmail.com>\n",
      "\u001b[31m|\u001b[m \u001b[32m|\u001b[m Date:   Fri Oct 31 07:32:43 2025 +0100\n",
      "\u001b[31m|\u001b[m \u001b[32m|\u001b[m \n",
      "\u001b[31m|\u001b[m \u001b[32m|\u001b[m     commit in example_branch\n",
      "\u001b[31m|\u001b[m \u001b[32m|\u001b[m \n",
      "* \u001b[32m|\u001b[m \u001b[33mcommit 95d59aa007c0ecf98bc14df8bf6974491d51adf0\u001b[m\n",
      "\u001b[32m|\u001b[m\u001b[32m/\u001b[m  Author: fedorkobak <kobfedsur@gmail.com>\n",
      "\u001b[32m|\u001b[m   Date:   Fri Oct 31 07:32:43 2025 +0100\n",
      "\u001b[32m|\u001b[m   \n",
      "\u001b[32m|\u001b[m       commit in master\n",
      "\u001b[32m|\u001b[m \n",
      "* \u001b[33mcommit 80f3a21ebda928f420f04329140812fe8c5350a6\u001b[m\n",
      "  Author: fedorkobak <kobfedsur@gmail.com>\n",
      "  Date:   Fri Oct 31 07:32:43 2025 +0100\n",
      "  \n",
      "      basic commit\n"
     ]
    }
   ],
   "source": [
    "echo \"after merge content\" > file\n",
    "git add file\n",
    "git commit -am \"my after merge commit\" &> /dev/null\n",
    "\n",
    "git log --all --decorate --graph"
   ]
  },
  {
   "cell_type": "markdown",
   "id": "afe4be70-87c2-4a28-ae34-6cd762c349b5",
   "metadata": {},
   "source": [
    "### Select version\n",
    "\n",
    "Sometimes files can differ significantly between branches, so it can be difficult to edit files in all the difference entries. You may want to consider specifying which branch file should be taken for the merge commit.\n",
    "\n",
    "You can do this with the syntax `git checkout --theirs/ours <list of files>`. If you use `ours` it will take the version of the file from the current branch, if you use `theirs` it will take the version from the merging branch.\n",
    "\n",
    "The following example shows the difference:\n",
    "\n",
    "- There are two files added to the git repository;\n",
    "- In `new_branch` the files change one way in `master` the other, so you'll have conflicts when merging;\n",
    "- Use `git checkout` to resolve the conflict:\n",
    "    - For `test_file1` we use the `--ours` option;\n",
    "    - For `test_file2` we use the `--theirs` option;\n",
    "- As a result we have the version from `master` for `test_file1` and the version from `example_branch` for `test_file2`;"
   ]
  },
  {
   "cell_type": "code",
   "execution_count": 4,
   "id": "a2b5b3c6-dea9-4ee7-98d7-a8949f64a50a",
   "metadata": {
    "vscode": {
     "languageId": "shellscript"
    }
   },
   "outputs": [
    {
     "name": "stdout",
     "output_type": "stream",
     "text": [
      "* \u001b[33mcommit e74ab45d713e993008ee2aefb3f144c26c44c574\u001b[m\u001b[33m (\u001b[m\u001b[1;36mHEAD\u001b[m\u001b[33m -> \u001b[m\u001b[1;32mmaster\u001b[m\u001b[33m)\u001b[m\n",
      "\u001b[31m|\u001b[m Author: fedorkobak <kobfedsur@gmail.com>\n",
      "\u001b[31m|\u001b[m Date:   Thu Oct 30 23:22:38 2025 +0300\n",
      "\u001b[31m|\u001b[m \n",
      "\u001b[31m|\u001b[m     commit from master\n",
      "\u001b[31m|\u001b[m   \n",
      "\u001b[31m|\u001b[m * \u001b[33mcommit 4562192fcc2f5a6ed716d8892979a9fce69d1f23\u001b[m\u001b[33m (\u001b[m\u001b[1;32mnew_branch\u001b[m\u001b[33m)\u001b[m\n",
      "\u001b[31m|\u001b[m\u001b[31m/\u001b[m  Author: fedorkobak <kobfedsur@gmail.com>\n",
      "\u001b[31m|\u001b[m   Date:   Thu Oct 30 23:22:37 2025 +0300\n",
      "\u001b[31m|\u001b[m   \n",
      "\u001b[31m|\u001b[m       commit from new_branch\n",
      "\u001b[31m|\u001b[m \n",
      "* \u001b[33mcommit 675609b986a9eee5ee825ecaa1e562f717218eb6\u001b[m\n",
      "  Author: fedorkobak <kobfedsur@gmail.com>\n",
      "  Date:   Thu Oct 30 23:22:36 2025 +0300\n",
      "  \n",
      "      initial commit\n",
      "\n",
      "\n",
      "=====Files before checkout=====\n",
      "-----test_file1-----\n",
      "version\n",
      "of the test_file1\n",
      "<<<<<<< HEAD\n",
      "from master\n",
      "=======\n",
      "from new_branch\n",
      ">>>>>>> new_branch\n",
      "-----test_file2-----\n",
      "version\n",
      "of the test_file2\n",
      "<<<<<<< HEAD\n",
      "from master\n",
      "=======\n",
      "from new_branch\n",
      ">>>>>>> new_branch\n",
      "\n",
      "=====Files after checkout=====\n",
      "-----test_file1-----\n",
      "version\n",
      "of the test_file1\n",
      "from master\n",
      "-----test_file1-----\n",
      "version\n",
      "of the test_file2\n",
      "from new_branch\n"
     ]
    }
   ],
   "source": [
    "%init\n",
    "echo -e \"version\\n\"\\\n",
    "\"of the test_file1\\n\"\\\n",
    "\"from initian commit\"\\\n",
    "> test_file1\n",
    "echo -e \"version\\n\"\\\n",
    "\"of the test_file2\\n\"\\\n",
    "\"from initian commit\"\\\n",
    "> test_file2\n",
    "\n",
    "git add --all\n",
    "git commit -m \"initial commit\" &> /dev/null\n",
    "\n",
    "git checkout -b new_branch &> /dev/null\n",
    "echo -e \"version\\n\"\\\n",
    "\"of the test_file1\\n\"\\\n",
    "\"from new_branch\"\\\n",
    "> test_file1\n",
    "echo -e \"version\\n\"\\\n",
    "\"of the test_file2\\n\"\\\n",
    "\"from new_branch\"\\\n",
    "> test_file2\n",
    "git commit -am \"commit from new_branch\" &> /dev/null\n",
    "\n",
    "git checkout master &> /dev/null\n",
    "echo -e \"version\\n\"\\\n",
    "\"of the test_file1\\n\"\\\n",
    "\"from master\"\\\n",
    "> test_file1\n",
    "echo -e \"version\\n\"\\\n",
    "\"of the test_file2\\n\"\\\n",
    "\"from master\"\\\n",
    "> test_file2\n",
    "git commit -am \"commit from master\" &> /dev/null\n",
    "\n",
    "git log --graph --decorate --all\n",
    "\n",
    "git merge new_branch &> /dev/null\n",
    "\n",
    "echo\n",
    "echo\n",
    "echo \"=====Files before checkout=====\"\n",
    "echo \"-----test_file1-----\"\n",
    "cat test_file1\n",
    "echo \"-----test_file2-----\"\n",
    "cat test_file2\n",
    "\n",
    "\n",
    "echo\n",
    "echo \"=====Files after checkout=====\"\n",
    "git checkout --ours test_file1 &> /dev/null\n",
    "git checkout --theirs test_file2 &> /dev/null\n",
    "echo \"-----test_file1-----\"\n",
    "cat test_file1\n",
    "echo \"-----test_file1-----\"\n",
    "cat test_file2"
   ]
  }
 ],
 "metadata": {
  "kernelspec": {
   "display_name": "GitKernel",
   "language": "bash",
   "name": "git"
  },
  "language_info": {
   "codemirror_mode": "shell",
   "file_extension": ".sh",
   "mimetype": "text/x-sh",
   "name": "bash"
  }
 },
 "nbformat": 4,
 "nbformat_minor": 5
}
