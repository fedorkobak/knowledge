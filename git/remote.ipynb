{
 "cells": [
  {
   "cell_type": "markdown",
   "metadata": {},
   "source": [
    "# Remotes\n",
    "\n",
    "Consider features of working with remotes in git. Check corresponding section in [git documentation](https://git-scm.com/book/ms/v2/Git-Basics-Working-with-Remotes)."
   ]
  },
  {
   "cell_type": "markdown",
   "metadata": {},
   "source": [
    "## Set up\n",
    "\n",
    "Obviously, we need remotes for this section. To avoid repetitive manual operations like creating and deleting repositories in Git storage providers, we'll need a specific setup.\n",
    "\n",
    "The following cell shows a Dockerfile that creates an image for containers acting as toy servers. Learn more about setting up a Git daemon in the [special section](https://git-scm.com/book/en/v2/Git-on-the-Server-Git-Daemon) of the official documentation."
   ]
  },
  {
   "cell_type": "code",
   "execution_count": 1,
   "metadata": {
    "vscode": {
     "languageId": "shellscript"
    }
   },
   "outputs": [
    {
     "name": "stdout",
     "output_type": "stream",
     "text": [
      "FROM debian:bullseye-slim\n",
      "\n",
      "# Install git (including git-daemon)\n",
      "RUN apt-get update && apt-get install -y git && apt-get clean\n",
      "\n",
      "# Create a directory for repositories and initialize a bare repository\n",
      "RUN mkdir -p /git/project.git && git init --bare /git/project.git\n",
      "\n",
      "# Add a file to allow git-daemon to serve the repository\n",
      "RUN touch /git/project.git/git-daemon-export-ok\n",
      "\n",
      "# Expose the Git protocol port\n",
      "EXPOSE 9418\n",
      "\n",
      "# Start git-daemon to serve repositories\n",
      "CMD [\"git\", \"daemon\", \"--verbose\", \"--export-all\", \"--base-path=/git\", \"/git\"]\n"
     ]
    }
   ],
   "source": [
    "cat remote_files/dockerfile"
   ]
  },
  {
   "cell_type": "markdown",
   "metadata": {},
   "source": [
    "This dockerfile installs all the required packages on Debian Linux and creates an empty git repository, which we will basically use as an example."
   ]
  },
  {
   "cell_type": "markdown",
   "metadata": {},
   "source": [
    "Build image:"
   ]
  },
  {
   "cell_type": "code",
   "execution_count": 5,
   "metadata": {
    "vscode": {
     "languageId": "shellscript"
    }
   },
   "outputs": [],
   "source": [
    "docker build -f remote_files/dockerfile -t git-daemon . &> /dev/null"
   ]
  },
  {
   "cell_type": "markdown",
   "metadata": {},
   "source": [
    "Running container:"
   ]
  },
  {
   "cell_type": "code",
   "execution_count": 5,
   "metadata": {
    "vscode": {
     "languageId": "shellscript"
    }
   },
   "outputs": [
    {
     "name": "stdout",
     "output_type": "stream",
     "text": [
      "f004a8ef4fdb696621e0c6d81ad5a4ba97aeb8379942ec8bef505e4267d3d916\n"
     ]
    }
   ],
   "source": [
    "docker run -itd --rm --name git-daemon -p 9418:9418 git-daemon"
   ]
  },
  {
   "cell_type": "markdown",
   "metadata": {},
   "source": [
    "Now you can clone the repository into a local folder. The following code performs the cloning and displays the result of a Git commit from the repository."
   ]
  },
  {
   "cell_type": "code",
   "execution_count": 7,
   "metadata": {
    "vscode": {
     "languageId": "shellscript"
    }
   },
   "outputs": [
    {
     "name": "stdout",
     "output_type": "stream",
     "text": [
      "Cloning into '/tmp/remote'...\n",
      "warning: You appear to have cloned an empty repository.\n",
      "On branch master\n",
      "\n",
      "No commits yet\n",
      "\n",
      "nothing to commit (create/copy files and use \"git add\" to track)\n"
     ]
    }
   ],
   "source": [
    "git clone git://localhost:9418/project.git /tmp/remote\n",
    "cd /tmp/remote\n",
    "git status"
   ]
  },
  {
   "cell_type": "markdown",
   "metadata": {},
   "source": [
    "**Note:** Don't forget to clean up the environment when you're done."
   ]
  },
  {
   "cell_type": "code",
   "execution_count": null,
   "metadata": {
    "vscode": {
     "languageId": "shellscript"
    }
   },
   "outputs": [
    {
     "name": "stdout",
     "output_type": "stream",
     "text": [
      "git-daemon\n"
     ]
    }
   ],
   "source": [
    "docker stop git-daemon"
   ]
  },
  {
   "cell_type": "markdown",
   "metadata": {},
   "source": [
    "## Show remotes\n",
    "\n",
    "You can use the `git remote` command to list the short names of remotes you're dealing with. With `git remove -v` you can show specific urls."
   ]
  },
  {
   "cell_type": "markdown",
   "metadata": {},
   "source": [
    "---\n",
    "\n",
    "The following cell shows the result of the `git remote` command."
   ]
  },
  {
   "cell_type": "code",
   "execution_count": 8,
   "metadata": {
    "vscode": {
     "languageId": "shellscript"
    }
   },
   "outputs": [
    {
     "name": "stdout",
     "output_type": "stream",
     "text": [
      "origin\n"
     ]
    }
   ],
   "source": [
    "git remote"
   ]
  },
  {
   "cell_type": "markdown",
   "metadata": {
    "vscode": {
     "languageId": "shellscript"
    }
   },
   "source": [
    "`origin` is default name of the remote gitven by `git clone`."
   ]
  },
  {
   "cell_type": "markdown",
   "metadata": {},
   "source": [
    "The following command shows the result of the `git remove -v` command."
   ]
  },
  {
   "cell_type": "code",
   "execution_count": 9,
   "metadata": {
    "vscode": {
     "languageId": "shellscript"
    }
   },
   "outputs": [
    {
     "name": "stdout",
     "output_type": "stream",
     "text": [
      "origin\tgit://localhost:9418/project.git (fetch)\n",
      "origin\tgit://localhost:9418/project.git (push)\n"
     ]
    }
   ],
   "source": [
    "git remote -v"
   ]
  },
  {
   "cell_type": "markdown",
   "metadata": {},
   "source": [
    "Now for remote consideration specified fetch and pull URLs."
   ]
  }
 ],
 "metadata": {
  "kernelspec": {
   "display_name": "Bash",
   "language": "bash",
   "name": "bash"
  },
  "language_info": {
   "codemirror_mode": "shell",
   "file_extension": ".sh",
   "mimetype": "text/x-sh",
   "name": "bash"
  }
 },
 "nbformat": 4,
 "nbformat_minor": 2
}
