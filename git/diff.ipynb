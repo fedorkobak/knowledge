{
 "cells": [
  {
   "cell_type": "markdown",
   "id": "a3fa9585-0487-485f-9751-c11e35a9e5c0",
   "metadata": {},
   "source": [
    "# Difference\n",
    "\n",
    "The `git diff` command allows you to chech difference between condition of repository."
   ]
  },
  {
   "cell_type": "markdown",
   "id": "1a4a3651-8c07-4c95-a5b3-d86b252c3b5a",
   "metadata": {},
   "source": [
    "## Untracked files\n",
    "\n",
    "Untracked files wont be displayed in `git diff`.\n",
    "\n",
    "The following example just init git repository and add a file there and the `git diff` command doesn't print anything in this case."
   ]
  },
  {
   "cell_type": "code",
   "execution_count": 2,
   "id": "4a579214-b24a-4799-acd7-d76a1d5d189c",
   "metadata": {},
   "outputs": [],
   "source": [
    "%%bash\n",
    "mkdir diff_example\n",
    "cd diff_example\n",
    "\n",
    "git init &> /dev/null\n",
    "echo \"some text\" > test_file\n",
    "git diff\n",
    "\n",
    "cd ..\n",
    "rm -r diff_example"
   ]
  },
  {
   "cell_type": "markdown",
   "id": "e19a71a6-2e87-4f68-8486-f2747c17a70e",
   "metadata": {},
   "source": [
    "## Changed files\n",
    "\n",
    "By default `git diff` shows unstaged changes. In fact, any change to the file can be described as an insert/delete. So the following subsections show what it's like to have insert/delete lines in the `git diff` results."
   ]
  },
  {
   "cell_type": "markdown",
   "id": "fb8f77c7-8f8f-452e-b9ce-5ebf83ce6072",
   "metadata": {},
   "source": [
    "### Insert line"
   ]
  },
  {
   "cell_type": "markdown",
   "id": "443da70b-8445-43b1-a9a7-f2581043cc56",
   "metadata": {},
   "source": [
    "Main point of the next cell is to add line `\"second line\"` to the file commited before. In `git diff` results it'll look like `+second line`."
   ]
  },
  {
   "cell_type": "code",
   "execution_count": 5,
   "id": "a573fdab-94ba-47fc-9233-c76eb857bac5",
   "metadata": {},
   "outputs": [
    {
     "name": "stdout",
     "output_type": "stream",
     "text": [
      "diff --git a/test_file b/test_file\n",
      "index 08fe272..06fcdd7 100644\n",
      "--- a/test_file\n",
      "+++ b/test_file\n",
      "@@ -1 +1,2 @@\n",
      " first line\n",
      "+second line\n"
     ]
    }
   ],
   "source": [
    "%%bash\n",
    "mkdir diff_example\n",
    "cd diff_example\n",
    "\n",
    "git init &> /dev/null\n",
    "echo \"first line\" > test_file\n",
    "git add test_file &> /dev/null\n",
    "git commit -m \"initial commit\" &> /dev/null\n",
    "\n",
    "\n",
    "echo \"second line\" >> test_file\n",
    "git diff\n",
    "\n",
    "cd ..\n",
    "rm -r diff_example"
   ]
  },
  {
   "cell_type": "markdown",
   "id": "63a65e0b-ed23-4bcd-bc15-cdc28453774d",
   "metadata": {},
   "source": [
    "### Delete line\n",
    "\n",
    "In this case I created files with two lines `\"first line\"` and `\"second line\"`. After committing, I save the new version of the file without the `second line`. Gid diff shows it as `-second line`."
   ]
  },
  {
   "cell_type": "code",
   "execution_count": 12,
   "id": "62b51ecb-cc89-4969-ab68-a7261fed4f2f",
   "metadata": {},
   "outputs": [
    {
     "name": "stdout",
     "output_type": "stream",
     "text": [
      "diff --git a/test_file b/test_file\n",
      "index 06fcdd7..08fe272 100644\n",
      "--- a/test_file\n",
      "+++ b/test_file\n",
      "@@ -1,2 +1 @@\n",
      " first line\n",
      "-second line\n"
     ]
    }
   ],
   "source": [
    "%%bash\n",
    "mkdir diff_example\n",
    "cd diff_example\n",
    "git init &> /dev/null\n",
    "\n",
    "cat > test_file << EOF\n",
    "first line\n",
    "second line\n",
    "EOF\n",
    "git add test_file\n",
    "git commit -m \"initial commit\" &> /dev/null\n",
    "\n",
    "cat > test_file << EOF\n",
    "first line\n",
    "EOF\n",
    "git diff\n",
    "\n",
    "cd ..\n",
    "rm -r diff_example"
   ]
  },
  {
   "cell_type": "markdown",
   "id": "083d9963-6788-41cf-a456-8b087d059e6c",
   "metadata": {},
   "source": [
    "## New file\n",
    "\n",
    "In this section, I'll show you what a newly added file looks like in git diff."
   ]
  },
  {
   "cell_type": "markdown",
   "id": "74bd395f-c0a4-438d-a691-7098d8551ca4",
   "metadata": {},
   "source": [
    "### Empty file\n",
    "\n",
    "In the following example, I've added an empty `second_file` and compared it with the state of the repository in the previous commit, if there is no `second_file' line, the `new file mode` will signal that this file has been created."
   ]
  },
  {
   "cell_type": "code",
   "execution_count": 20,
   "id": "bb6e19e0-2cf2-426f-94c7-1b4100b769d1",
   "metadata": {},
   "outputs": [
    {
     "name": "stdout",
     "output_type": "stream",
     "text": [
      "diff --git a/second_file b/second_file\n",
      "new file mode 100644\n",
      "index 0000000..e69de29\n"
     ]
    }
   ],
   "source": [
    "%%bash\n",
    "mkdir diff_example\n",
    "cd diff_example\n",
    "git init &> /dev/null\n",
    "\n",
    "touch first_file\n",
    "git add first_file\n",
    "git commit -m \"first commit\" &> /dev/null\n",
    "\n",
    "touch second_file\n",
    "git add second_file &> /dev/null\n",
    "\n",
    "git diff --staged\n",
    "cat second_file\n",
    "\n",
    "cd ..\n",
    "rm -r diff_example"
   ]
  },
  {
   "cell_type": "markdown",
   "id": "6c2d0abb-318d-4a7c-8ce1-8daa4c15df16",
   "metadata": {},
   "source": [
    "### File with content\n",
    "\n",
    "In this example I have created a file `second_file` and added some content to it. It'll share all the details of adding empty file option - `new file mode 100644` signal that new file has been created. But there is also a section with changes to the file below. Note that the source file from the commit to which we are comparing the state is marked as `-- /dev/null` (in Linux this directory is used for information that should simply be deleted)."
   ]
  },
  {
   "cell_type": "code",
   "execution_count": 21,
   "id": "6f984199-55ff-4de1-a8ad-1c990c51231a",
   "metadata": {},
   "outputs": [
    {
     "name": "stdout",
     "output_type": "stream",
     "text": [
      "diff --git a/second_file b/second_file\n",
      "new file mode 100644\n",
      "index 0000000..2ef267e\n",
      "--- /dev/null\n",
      "+++ b/second_file\n",
      "@@ -0,0 +1 @@\n",
      "+some content\n",
      "some content\n"
     ]
    }
   ],
   "source": [
    "%%bash\n",
    "mkdir diff_example\n",
    "cd diff_example\n",
    "git init &> /dev/null\n",
    "\n",
    "touch first_file\n",
    "git add first_file\n",
    "git commit -m \"first commit\" &> /dev/null\n",
    "\n",
    "echo \"some content\" > second_file\n",
    "git add second_file &> /dev/null\n",
    "\n",
    "git diff --staged\n",
    "cat second_file\n",
    "\n",
    "cd ..\n",
    "rm -r diff_example"
   ]
  },
  {
   "cell_type": "markdown",
   "id": "b1fc426c-0481-4148-80bf-269cf7106ea8",
   "metadata": {},
   "source": [
    "## --staged option\n",
    "\n",
    "By default `git diff` shows only changed but not staged files. To get information about staged files use `--staged` option."
   ]
  },
  {
   "cell_type": "markdown",
   "id": "a610467b-6efd-4c2b-9fa2-0d08c2fcab25",
   "metadata": {},
   "source": [
    "### New file\n",
    "\n",
    "By using the `--staged` option, you can even see the difference between a newly created (but added) file.\n",
    "\n",
    "So in the following example I have created and added to the repo file and compared the results with and without the `--staged` option."
   ]
  },
  {
   "cell_type": "code",
   "execution_count": 11,
   "id": "fff7593e-c779-4e79-960d-535856d216c7",
   "metadata": {},
   "outputs": [
    {
     "name": "stdout",
     "output_type": "stream",
     "text": [
      "=====just diff====\n",
      "\n",
      "=====diff staged=====\n",
      "diff --git a/staged_file b/staged_file\n",
      "new file mode 100644\n",
      "index 0000000..7b57bd2\n",
      "--- /dev/null\n",
      "+++ b/staged_file\n",
      "@@ -0,0 +1 @@\n",
      "+some text\n"
     ]
    }
   ],
   "source": [
    "%%bash\n",
    "mkdir diff_example\n",
    "cd diff_example\n",
    "\n",
    "git init &> /dev/null\n",
    "echo \"some text\" > staged_file\n",
    "git add staged_file\n",
    "\n",
    "echo \"=====just diff====\"\n",
    "git diff\n",
    "\n",
    "echo\n",
    "echo \"=====diff staged=====\"\n",
    "git diff --staged\n",
    "\n",
    "cd ..\n",
    "rm -r diff_example"
   ]
  },
  {
   "cell_type": "markdown",
   "id": "769d8162-ac6b-4dbc-b09a-f32b75865b1d",
   "metadata": {},
   "source": [
    "### Unstaged changes\n",
    "\n",
    "If you use the `--staged` option, you won't see any difference when unstaging files. In the example:\n",
    "\n",
    "- In the first commit I just added `first_file`;\n",
    "- I added `second_file` and staged it;\n",
    "- I changed `first_file` but did not stage it;\n",
    "- Using `git diff' without the `--staged' option I only got changes in `first_file` because it wasn't staged;\n",
    "- Using `git diff --staged` I only got information about `second_file` but not about `first_file`."
   ]
  },
  {
   "cell_type": "code",
   "execution_count": 14,
   "id": "81703d09-8599-4a8b-b1bd-966def276f48",
   "metadata": {},
   "outputs": [
    {
     "name": "stdout",
     "output_type": "stream",
     "text": [
      "=====just diff====\n",
      "diff --git a/first_file b/first_file\n",
      "index 38181e5..fc9cf92 100644\n",
      "--- a/first_file\n",
      "+++ b/first_file\n",
      "@@ -1 +1 @@\n",
      "-first text\n",
      "+changed first text\n",
      "\n",
      "=====diff staged=====\n",
      "diff --git a/second_file b/second_file\n",
      "new file mode 100644\n",
      "index 0000000..422845a\n",
      "--- /dev/null\n",
      "+++ b/second_file\n",
      "@@ -0,0 +1 @@\n",
      "+sefond text\n"
     ]
    }
   ],
   "source": [
    "%%bash\n",
    "mkdir diff_example\n",
    "cd diff_example\n",
    "\n",
    "git init &> /dev/null\n",
    "\n",
    "echo \"first text\" > first_file\n",
    "git add first_file\n",
    "git commit -m \"first file add\" &> /dev/null\n",
    "\n",
    "echo \"sefond text\" > second_file\n",
    "git add second_file\n",
    "echo \"changed first text\" > first_file\n",
    "\n",
    "echo \"=====just diff====\"\n",
    "git diff\n",
    "\n",
    "echo\n",
    "echo \"=====diff staged=====\"\n",
    "git diff --staged\n",
    "\n",
    "cd ..\n",
    "rm -r diff_example"
   ]
  }
 ],
 "metadata": {
  "kernelspec": {
   "display_name": "Python 3 (ipykernel)",
   "language": "python",
   "name": "python3"
  },
  "language_info": {
   "codemirror_mode": {
    "name": "ipython",
    "version": 3
   },
   "file_extension": ".py",
   "mimetype": "text/x-python",
   "name": "python",
   "nbconvert_exporter": "python",
   "pygments_lexer": "ipython3",
   "version": "3.10.6"
  }
 },
 "nbformat": 4,
 "nbformat_minor": 5
}
