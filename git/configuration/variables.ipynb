{
 "cells": [
  {
   "cell_type": "markdown",
   "metadata": {},
   "source": [
    "# Variables\n",
    "\n",
    "This page considers the properties of some of the variables available in the configuration files. Check more in the [specific part of the documentation](https://git-scm.com/docs/git-config#_variables)."
   ]
  },
  {
   "cell_type": "markdown",
   "metadata": {},
   "source": [
    "## Name/email\n",
    "\n",
    "There are options that contains information about actors who involved in development. This information will be stored as metadata for each commit. That's why one of the first issues for git begginer could be configuration of the `user.name` which is required by git to create a single commit.\n",
    "\n",
    "- `user.name`/`user.email`.\n",
    "- `author.name`/`author.email`.\n",
    "- `commiter.name`/`commiter.email`.\n",
    "\n",
    "In a commit, there are two entities: *committer* and *author*. Usually, they are the same person, so if either of them isn't specified, the field defined for `user` will be used."
   ]
  },
  {
   "cell_type": "markdown",
   "metadata": {},
   "source": [
    "---\n",
    "\n",
    "For example, the following cell creates a temporary repository that will be used as an example."
   ]
  },
  {
   "cell_type": "code",
   "execution_count": 32,
   "metadata": {
    "vscode": {
     "languageId": "shellscript"
    }
   },
   "outputs": [],
   "source": [
    "mkdir /tmp/name_email_git\n",
    "cd /tmp/name_email_git\n",
    "git init &> /dev/null"
   ]
  },
  {
   "cell_type": "markdown",
   "metadata": {},
   "source": [
    "The following cell demonstrates a common issue for new Git users. When attempting their first commit, messages appear indicating that a username and email must be specified.\n",
    "\n",
    "**Note:** For the `commit` command, the variables `GIT_CONFIG_GLOBAL` and `GIT_CONFIG_SYSTEM` are specified as empty to prevent `git` from using global and system settings defined in the system where the example is executed."
   ]
  },
  {
   "cell_type": "code",
   "execution_count": 33,
   "metadata": {
    "vscode": {
     "languageId": "shellscript"
    }
   },
   "outputs": [
    {
     "name": "stdout",
     "output_type": "stream",
     "text": [
      "Author identity unknown\n",
      "\n",
      "*** Please tell me who you are.\n",
      "\n",
      "Run\n",
      "\n",
      "  git config --global user.email \"you@example.com\"\n",
      "  git config --global user.name \"Your Name\"\n",
      "\n",
      "to set your account's default identity.\n",
      "Omit --global to set the identity only in this repository.\n",
      "\n",
      "fatal: unable to auto-detect email address (got 'f-kobak-distance-desctop@f-kobak-distance-desctop-HP-Pavilion-Laptop-15-eg0xxx.(none)')\n"
     ]
    }
   ],
   "source": [
    "echo \"message\" > some_file\n",
    "git add --all\n",
    "GIT_CONFIG_GLOBAL= GIT_CONFIG_SYSTEM= git commit -a -m test_commit\n",
    "true"
   ]
  },
  {
   "cell_type": "markdown",
   "metadata": {},
   "source": [
    "The following cell specifies `user.name` and `user.email`."
   ]
  },
  {
   "cell_type": "code",
   "execution_count": 34,
   "metadata": {
    "vscode": {
     "languageId": "shellscript"
    }
   },
   "outputs": [],
   "source": [
    "git config --local user.name my_user\n",
    "git config --local user.email mail@mymail.com"
   ]
  },
  {
   "cell_type": "markdown",
   "metadata": {},
   "source": [
    "Now commit can be performed."
   ]
  },
  {
   "cell_type": "code",
   "execution_count": 35,
   "metadata": {
    "vscode": {
     "languageId": "shellscript"
    }
   },
   "outputs": [
    {
     "name": "stdout",
     "output_type": "stream",
     "text": [
      "[master (root-commit) 469a98c] test_commit\n",
      " 1 file changed, 1 insertion(+)\n",
      " create mode 100644 some_file\n"
     ]
    }
   ],
   "source": [
    "git add --all\n",
    "git commit -a -m test_commit"
   ]
  },
  {
   "cell_type": "markdown",
   "metadata": {},
   "source": [
    "In the commit description, you can find `user.name` and `user.email` that were specified during configuration."
   ]
  },
  {
   "cell_type": "code",
   "execution_count": 30,
   "metadata": {
    "vscode": {
     "languageId": "shellscript"
    }
   },
   "outputs": [
    {
     "name": "stdout",
     "output_type": "stream",
     "text": [
      "\u001b[33mcommit 0ffb610a67d49492f0b217a785f8de6db26cc4c3\u001b[m\u001b[33m (\u001b[m\u001b[1;36mHEAD\u001b[m\u001b[33m -> \u001b[m\u001b[1;32mmaster\u001b[m\u001b[33m)\u001b[m\n",
      "Author: hello <wow@mymail.com>\n",
      "Commit: hello <wow@mymail.com>\n",
      "\n",
      "    test_commit\n"
     ]
    }
   ],
   "source": [
    "git log --pretty=full"
   ]
  },
  {
   "cell_type": "markdown",
   "metadata": {},
   "source": [
    "## Editor\n",
    "\n",
    "You can set the editor to be used for editing commit text by using the `core.editor` variable. You just have to specify command to invoke editor you would lile to use. For example with command:\n",
    "\n",
    "```\n",
    "git config core.editor vim\n",
    "```\n",
    "\n",
    "You can set vim as a default editor for `git`."
   ]
  },
  {
   "cell_type": "markdown",
   "metadata": {},
   "source": [
    "---\n",
    "\n",
    "As an example, consider setting up a simple script to be used as an editor for `git`. The following cell creates the repo we'll use as an example."
   ]
  },
  {
   "cell_type": "code",
   "execution_count": 13,
   "metadata": {
    "vscode": {
     "languageId": "shellscript"
    }
   },
   "outputs": [],
   "source": [
    "mkdir /tmp/editor_configuration\n",
    "cd /tmp/editor_configuration\n",
    "git init &> /dev/null"
   ]
  },
  {
   "cell_type": "markdown",
   "metadata": {},
   "source": [
    "Here is the creation of the script that would be used as the editor. This script just prints \"custom message\" to the standard output."
   ]
  },
  {
   "cell_type": "code",
   "execution_count": 14,
   "metadata": {
    "vscode": {
     "languageId": "shellscript"
    }
   },
   "outputs": [],
   "source": [
    "cat << EOF > my_edit.sh\n",
    "echo\n",
    "echo \"custom message\"\n",
    "EOF\n",
    "chmod +x my_edit.sh"
   ]
  },
  {
   "cell_type": "markdown",
   "metadata": {},
   "source": [
    "Here is the procedure for setting this script as a value for the `core.editor` variable in the git configuration."
   ]
  },
  {
   "cell_type": "code",
   "execution_count": 15,
   "metadata": {
    "vscode": {
     "languageId": "shellscript"
    }
   },
   "outputs": [],
   "source": [
    "git config --local core.editor /tmp/editor_configuration/my_edit.sh"
   ]
  },
  {
   "cell_type": "markdown",
   "metadata": {},
   "source": [
    "The following cell attempts to commit to this repository."
   ]
  },
  {
   "cell_type": "code",
   "execution_count": 16,
   "metadata": {
    "vscode": {
     "languageId": "shellscript"
    }
   },
   "outputs": [
    {
     "name": "stdout",
     "output_type": "stream",
     "text": [
      "hint: Waiting for your editor to close the file... \n",
      "custom message\n",
      "\u001b[KAborting commit due to empty commit message.\n"
     ]
    }
   ],
   "source": [
    "git add --all\n",
    "git commit\n",
    "true "
   ]
  },
  {
   "cell_type": "markdown",
   "metadata": {
    "vscode": {
     "languageId": "shellscript"
    }
   },
   "source": [
    "It actually resulted in an error, but we got \"custom message\" in the output, which made me sure that the script specified in `core.editor` was called."
   ]
  }
 ],
 "metadata": {
  "kernelspec": {
   "display_name": "Bash",
   "language": "bash",
   "name": "bash"
  },
  "language_info": {
   "codemirror_mode": "shell",
   "file_extension": ".sh",
   "mimetype": "text/x-sh",
   "name": "bash"
  }
 },
 "nbformat": 4,
 "nbformat_minor": 2
}
