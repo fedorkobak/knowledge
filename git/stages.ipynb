{
 "cells": [
  {
   "cell_type": "markdown",
   "id": "12c8ac52-f04a-475a-80a6-4dd24d175e75",
   "metadata": {},
   "source": [
    "# Stages\n",
    "\n",
    "In git, files can take on different states with respect to the current commit. The following picture mention central idea."
   ]
  },
  {
   "cell_type": "markdown",
   "id": "dd55ca89-d750-4d34-8351-fa272b5852ff",
   "metadata": {},
   "source": [
    "## Get status\n",
    "\n",
    "The `git status` command allows you to get some information about the current status of the git repository. This command is very common on this site, so you can find many different examples of how to use it."
   ]
  },
  {
   "cell_type": "markdown",
   "id": "58b06645-09ec-4fe5-a1ef-22bfc218282b",
   "metadata": {},
   "source": [
    "## Untracked files\n",
    "\n",
    "If git hasn't seen a file before, it will correspond to this category. You can find files on this stage in `Untracked files` section of `git status` command."
   ]
  },
  {
   "cell_type": "markdown",
   "id": "8a8a0ee9",
   "metadata": {},
   "source": [
    "---\n",
    "\n",
    "The following cell displays the output of the `git status` command for the empty repository."
   ]
  },
  {
   "cell_type": "code",
   "execution_count": 1,
   "id": "a24df768-95ca-4351-b06b-d079650df9c5",
   "metadata": {
    "vscode": {
     "languageId": "shellscript"
    }
   },
   "outputs": [
    {
     "name": "stdout",
     "output_type": "stream",
     "text": [
      "On branch master\n",
      "\n",
      "No commits yet\n",
      "\n",
      "nothing to commit (create/copy files and use \"git add\" to track)\n"
     ]
    }
   ],
   "source": [
    "%init\n",
    "\n",
    "git status"
   ]
  },
  {
   "cell_type": "markdown",
   "id": "a18b5772",
   "metadata": {},
   "source": [
    "The following cell shows the updated output of the file that was created but not staged."
   ]
  },
  {
   "cell_type": "code",
   "execution_count": 2,
   "id": "9fb1c0f4",
   "metadata": {
    "vscode": {
     "languageId": "shellscript"
    }
   },
   "outputs": [
    {
     "name": "stdout",
     "output_type": "stream",
     "text": [
      "On branch master\n",
      "\n",
      "No commits yet\n",
      "\n",
      "Untracked files:\n",
      "  (use \"git add <file>...\" to include in what will be committed)\n",
      "\t\u001b[31mtest_file\u001b[m\n",
      "\n",
      "nothing added to commit but untracked files present (use \"git add\" to track)\n"
     ]
    }
   ],
   "source": [
    "echo \"some text\" > test_file\n",
    "git status"
   ]
  },
  {
   "cell_type": "markdown",
   "id": "99bbf3de-9f83-4767-a397-d0704afafffd",
   "metadata": {},
   "source": [
    "## Staged\n",
    "\n",
    "In `git status` they're shown in the `Changes to be committed` section."
   ]
  },
  {
   "cell_type": "markdown",
   "id": "04344087",
   "metadata": {},
   "source": [
    "---\n",
    "\n",
    "The following example shows how to createa file and stage it with the `git add` staged a `test_file`."
   ]
  },
  {
   "cell_type": "code",
   "execution_count": 4,
   "id": "681a673c-f87e-4587-a2a6-f5ce1016747f",
   "metadata": {
    "vscode": {
     "languageId": "shellscript"
    }
   },
   "outputs": [
    {
     "name": "stdout",
     "output_type": "stream",
     "text": [
      "On branch master\n",
      "\n",
      "No commits yet\n",
      "\n",
      "Changes to be committed:\n",
      "  (use \"git rm --cached <file>...\" to unstage)\n",
      "\t\u001b[32mnew file:   test_file\u001b[m\n",
      "\n"
     ]
    }
   ],
   "source": [
    "%init\n",
    "echo \"some text\" > test_file\n",
    "git add test_file\n",
    "git status"
   ]
  },
  {
   "cell_type": "markdown",
   "id": "5edcb284-cd03-4e2b-880e-6f7e22ef0d7c",
   "metadata": {},
   "source": [
    "## Commited files\n",
    "\n",
    "If you just commit all the files and check git status, you will always get the same message. You can also check the list of commits using `git log`."
   ]
  },
  {
   "cell_type": "markdown",
   "id": "cc773777",
   "metadata": {},
   "source": [
    "---\n",
    "\n",
    "The following example creates a commit and shows the output of the `git commit` in such case."
   ]
  },
  {
   "cell_type": "code",
   "execution_count": 6,
   "id": "7b32394c-3424-42c6-b874-04aec67eb439",
   "metadata": {
    "vscode": {
     "languageId": "shellscript"
    }
   },
   "outputs": [
    {
     "name": "stdout",
     "output_type": "stream",
     "text": [
      "On branch master\n",
      "nothing to commit, working tree clean\n"
     ]
    }
   ],
   "source": [
    "%init\n",
    "\n",
    "echo \"some text\" > test_file\n",
    "git add test_file\n",
    "git commit -m \"my message\" &> /dev/null\n",
    "git status"
   ]
  },
  {
   "cell_type": "markdown",
   "id": "1c3c7bfc",
   "metadata": {},
   "source": [
    "The output of `git log` is listed a commit with its corresponding information."
   ]
  },
  {
   "cell_type": "code",
   "execution_count": 7,
   "id": "6b1f0a0b",
   "metadata": {
    "vscode": {
     "languageId": "shellscript"
    }
   },
   "outputs": [
    {
     "name": "stdout",
     "output_type": "stream",
     "text": [
      "\u001b[33mcommit 1649518144d632cc1d46447f8acb1f04b1c3c892\u001b[m\u001b[33m (\u001b[m\u001b[1;36mHEAD\u001b[m\u001b[33m -> \u001b[m\u001b[1;32mmaster\u001b[m\u001b[33m)\u001b[m\n",
      "Author: fedorkobak <kobfedsur@gmail.com>\n",
      "Date:   Mon Oct 27 22:39:38 2025 +0300\n",
      "\n",
      "    my message\n"
     ]
    }
   ],
   "source": [
    "git log"
   ]
  },
  {
   "cell_type": "markdown",
   "id": "eb6f085d-5120-4b50-b30c-4e67f6636155",
   "metadata": {},
   "source": [
    "## Changed\n",
    "\n",
    "Any file that has been changed since the last commit will appear in the `Changes not staged to commit` section, so if you try to commit in this momed, any changes made to these files won't be committed."
   ]
  },
  {
   "cell_type": "markdown",
   "id": "c0b37e6b",
   "metadata": {},
   "source": [
    "---\n",
    "\n",
    "The following cell shows the output for changed file."
   ]
  },
  {
   "cell_type": "code",
   "execution_count": 8,
   "id": "28aad2fd-06f5-47b6-8a0b-48551d8ac958",
   "metadata": {
    "vscode": {
     "languageId": "shellscript"
    }
   },
   "outputs": [
    {
     "name": "stdout",
     "output_type": "stream",
     "text": [
      "On branch master\n",
      "Changes not staged for commit:\n",
      "  (use \"git add <file>...\" to update what will be committed)\n",
      "  (use \"git restore <file>...\" to discard changes in working directory)\n",
      "\t\u001b[31mmodified:   test_file\u001b[m\n",
      "\n",
      "no changes added to commit (use \"git add\" and/or \"git commit -a\")\n"
     ]
    }
   ],
   "source": [
    "%init\n",
    "\n",
    "echo \"some text\" > test_file\n",
    "git add test_file &> /dev/null\n",
    "git commit -m \"first commit\" &> /dev/null\n",
    "echo \"some other text\" > test_file\n",
    "git status"
   ]
  }
 ],
 "metadata": {
  "kernelspec": {
   "display_name": "GitKernel",
   "language": "bash",
   "name": "git"
  },
  "language_info": {
   "codemirror_mode": "shell",
   "file_extension": ".sh",
   "mimetype": "text/x-sh",
   "name": "bash"
  }
 },
 "nbformat": 4,
 "nbformat_minor": 5
}
