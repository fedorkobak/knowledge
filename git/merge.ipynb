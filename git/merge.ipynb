{
 "cells": [
  {
   "cell_type": "markdown",
   "id": "65d3dbe2-c2b9-402f-9139-426993f079e2",
   "metadata": {},
   "source": [
    "# Merge\n",
    "\n",
    "Branches merge is opertion that allows you to get changes from intependend branches in one common commit. The `git merge` command is crucial for this page.\n",
    "\n",
    "To merge branches you need to `git checkout` to brunch to which we merge all the changes, and execute command `git merge <branch to be merged>`."
   ]
  },
  {
   "cell_type": "markdown",
   "id": "07333c9e-1494-4262-85cd-06b80e15cee7",
   "metadata": {},
   "source": [
    "## To ancestor\n",
    "\n",
    "The simplest case is when you create a branch, make a few commits, and want to add those changes from an ancestor branch that hasn't changed.\n",
    "\n",
    "Simply put, you just tell the parent branch to just start referencing the last commit of the branch you want to merge into the parent branch.\n",
    "\n",
    "In the next cell:\n",
    "\n",
    "- Created repository where there is `basic commit`;\n",
    "- From `basic commit` branch `example_branch` was created;\n",
    "- `branch_commit` was commited to `example_branch`, first `git log` display exactly this state of the repository;\n",
    "- Then `example_branch` was merged to `master` - on `git log` it just desplayed as `master` moved to same commit as `example_branch`."
   ]
  },
  {
   "cell_type": "code",
   "execution_count": 18,
   "id": "713d4669-7489-44bb-b847-4738b2bf55d6",
   "metadata": {},
   "outputs": [
    {
     "name": "stdout",
     "output_type": "stream",
     "text": [
      "\n",
      "=====creating branch=====\n"
     ]
    },
    {
     "name": "stderr",
     "output_type": "stream",
     "text": [
      "Switched to a new branch 'example_branch'\n"
     ]
    },
    {
     "name": "stdout",
     "output_type": "stream",
     "text": [
      "* commit 73fb590f3c60ce8841035c4381714dcb90cbb035 (HEAD -> example_branch)\n",
      "| Author: Fedor Kobak <kobfedsur@gmail.com>\n",
      "| Date:   Sun Sep 10 12:34:53 2023 +0300\n",
      "| \n",
      "|     branch commit\n",
      "| \n",
      "* commit 1af04e597f14270202f4625baee8c10d82a24651 (master)\n",
      "  Author: Fedor Kobak <kobfedsur@gmail.com>\n",
      "  Date:   Sun Sep 10 12:34:53 2023 +0300\n",
      "  \n",
      "      basic commit\n",
      "\n",
      "=====merging to master=====\n",
      "-----git merge-----\n",
      "Updating 1af04e5..73fb590\n",
      "Fast-forward\n"
     ]
    },
    {
     "name": "stderr",
     "output_type": "stream",
     "text": [
      "Switched to branch 'master'\n"
     ]
    },
    {
     "name": "stdout",
     "output_type": "stream",
     "text": [
      " test_file | 2 +-\n",
      " 1 file changed, 1 insertion(+), 1 deletion(-)\n",
      "-----git log-----\n",
      "* commit 73fb590f3c60ce8841035c4381714dcb90cbb035 (HEAD -> master, example_branch)\n",
      "| Author: Fedor Kobak <kobfedsur@gmail.com>\n",
      "| Date:   Sun Sep 10 12:34:53 2023 +0300\n",
      "| \n",
      "|     branch commit\n",
      "| \n",
      "* commit 1af04e597f14270202f4625baee8c10d82a24651\n",
      "  Author: Fedor Kobak <kobfedsur@gmail.com>\n",
      "  Date:   Sun Sep 10 12:34:53 2023 +0300\n",
      "  \n",
      "      basic commit\n"
     ]
    }
   ],
   "source": [
    "%%bash\n",
    "mkdir merge_example\n",
    "cd merge_example\n",
    "git init &> /dev/null\n",
    "\n",
    "echo \"content\" > test_file\n",
    "git add --all\n",
    "git commit -m \"basic commit\" &> /dev/null\n",
    "\n",
    "echo\n",
    "echo \"=====creating branch=====\"\n",
    "git checkout -b example_branch\n",
    "echo \"content2\" > test_file\n",
    "git commit -am \"branch commit\" &> /dev/null\n",
    "git log --decorate --graph\n",
    "\n",
    "echo\n",
    "echo \"=====merging to master=====\"\n",
    "git checkout master\n",
    "\n",
    "echo \"-----git merge-----\"\n",
    "git merge example_branch\n",
    "echo \"-----git log-----\"\n",
    "git log --decorate --graph\n",
    "\n",
    "cd ..\n",
    "rm -r merge_example"
   ]
  }
 ],
 "metadata": {
  "kernelspec": {
   "display_name": "Python 3 (ipykernel)",
   "language": "python",
   "name": "python3"
  },
  "language_info": {
   "codemirror_mode": {
    "name": "ipython",
    "version": 3
   },
   "file_extension": ".py",
   "mimetype": "text/x-python",
   "name": "python",
   "nbconvert_exporter": "python",
   "pygments_lexer": "ipython3",
   "version": "3.10.6"
  }
 },
 "nbformat": 4,
 "nbformat_minor": 5
}
