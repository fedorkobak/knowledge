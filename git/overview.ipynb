{
 "cells": [
  {
   "cell_type": "markdown",
   "id": "5221ded5",
   "metadata": {},
   "source": [
    "# Overview\n",
    "\n",
    "This section descirbes some aspects of working in Git.\n",
    "\n",
    "Git is a distributed version control system, which means it stores all information in multiple places. There are typically two types of hosts where a Git repository can be stored:\n",
    "\n",
    "- A git hosting some service or server that stores project.\n",
    "- A developer's computer. The entire porject history is stored on each developer's computer. If needed, they can upload local changes to the hosting server or download changes contributed by other developers.\n",
    "\n",
    "This is an entry page containing basic information you need to know to start working with `git`. Some sections refer to specific pages that provide more detailed descriptions of various `git` concepts with more advanced examples."
   ]
  },
  {
   "cell_type": "markdown",
   "id": "4e0de23c",
   "metadata": {},
   "source": [
    "## Repository \n",
    "\n",
    "This section discusses what a `git` repository is and what a typical folder needs to have to be considered a `git` repository.\n",
    "\n",
    "You should use the `git init` command to create a new repository. This command adds a `.git` folder to the directory being initialized as a repository - this folder serves as a marker indicating that the directory is a `git` repository."
   ]
  },
  {
   "cell_type": "markdown",
   "id": "b2c6e160",
   "metadata": {},
   "source": [
    "---\n",
    "\n",
    "The following cell creates a folder and initializes a repository in it. This allows you to see the typical messages provided by `git` during these operations."
   ]
  },
  {
   "cell_type": "code",
   "execution_count": null,
   "id": "8eda90b9",
   "metadata": {
    "vscode": {
     "languageId": "shellscript"
    }
   },
   "outputs": [
    {
     "name": "stdout",
     "output_type": "stream",
     "text": [
      "\u001b[33mhint: Using 'master' as the name for the initial branch. This default branch name\u001b[m\n",
      "\u001b[33mhint: is subject to change. To configure the initial branch name to use in all\u001b[m\n",
      "\u001b[33mhint: of your new repositories, which will suppress this warning, call:\u001b[m\n",
      "\u001b[33mhint: \u001b[m\n",
      "\u001b[33mhint: \tgit config --global init.defaultBranch <name>\u001b[m\n",
      "\u001b[33mhint: \u001b[m\n",
      "\u001b[33mhint: Names commonly chosen instead of 'master' are 'main', 'trunk' and\u001b[m\n",
      "\u001b[33mhint: 'development'. The just-created branch can be renamed via this command:\u001b[m\n",
      "\u001b[33mhint: \u001b[m\n",
      "\u001b[33mhint: \tgit branch -m <name>\u001b[m\n",
      "Initialized empty Git repository in /tmp/git_init/.git/\n"
     ]
    }
   ],
   "source": [
    "mkdir /tmp/git_init\n",
    "cd /tmp/git_init\n",
    "\n",
    "git init"
   ]
  },
  {
   "cell_type": "markdown",
   "id": "603a1188",
   "metadata": {},
   "source": [
    "Check what the empty folder looks like after running `git init`."
   ]
  },
  {
   "cell_type": "code",
   "execution_count": null,
   "id": "8177b436",
   "metadata": {
    "vscode": {
     "languageId": "shellscript"
    }
   },
   "outputs": [
    {
     "name": "stdout",
     "output_type": "stream",
     "text": [
      "total 20\n",
      "drwxrwxr-x  3 fedor fedor  4096 Jan  8 18:47 \u001b[0m\u001b[01;34m.\u001b[0m\n",
      "drwxrwxrwt 43 root  root  12288 Jan  8 18:50 \u001b[30;42m..\u001b[0m\n",
      "drwxrwxr-x  7 fedor fedor  4096 Jan  8 18:47 \u001b[01;34m.git\u001b[0m\n"
     ]
    }
   ],
   "source": [
    "ls -la"
   ]
  },
  {
   "cell_type": "markdown",
   "id": "3571ee5a",
   "metadata": {},
   "source": [
    "There is a `.git` folder which contains all the files that `git` uses to keep track of changes."
   ]
  },
  {
   "cell_type": "markdown",
   "id": "4e1438e4",
   "metadata": {},
   "source": [
    "### Git kernel\n",
    "\n",
    "This section typically uses a specially created jupyter git kernel. This automatically creates a git repo each time you run a cell with `%init` magic in the first line. Therefore, you can just start witht the git commands avoiding, the boilerplate code to manage the repo."
   ]
  },
  {
   "cell_type": "markdown",
   "id": "b431ffc2",
   "metadata": {},
   "source": [
    "## Stages\n",
    "\n",
    "Files in git can take three stages:\n",
    "\n",
    "- `Modified`: means that the file in the working directory has been modified, but these changes aren't tracked by Git.\n",
    "- `Staged`: means that you marked the current version of the file to be commited.\n",
    "- `Commited`: means that this version of the file is stored in the local database in the `.git` folder.\n",
    "\n",
    "The following picture is an adoptation of popular approach to visualise the stages of the stages in git:\n",
    "\n",
    "![](overview_files/git_stages.svg)\n",
    "\n",
    "Check more in [Stages](stages.ipynb) page."
   ]
  },
  {
   "cell_type": "markdown",
   "id": "60e7ec8f",
   "metadata": {},
   "source": [
    "## Configuration\n",
    "\n",
    "Use the `git config` command to work with configurations from the command line.\n",
    "\n",
    "There are three levels of configuration for the `git` repository. Each level keeps its configuration in the corresponding file and has a corresponding flag for the `git config` command. The following cell maps each configuration level in `git`: \n",
    "\n",
    "| Level                               | Configuration file | `git config` flag |\n",
    "|-------------------------------------|--------------------|-------------------|\n",
    "| System: for all users of the system | `/etc/gitconfig`   | `--system`        |\n",
    "| Global: for the user                | `~/.gitconfig`     | `--global`        |\n",
    "| Local: for the repository           | `./.git/config`    | `--local`         |\n",
    "\n",
    "For more check the [Configuration](configuration.ipynb) page."
   ]
  },
  {
   "cell_type": "markdown",
   "id": "b1bfe523",
   "metadata": {},
   "source": [
    "## Status\n",
    "\n",
    "The `git status` command prints the status of the repository.\n",
    "\n",
    "To get more compact output use `-s` (`--short`) option, so the result will be just files with corresponding markers:\n",
    "\n",
    "- The **first symbol** in the marker indicates how a file got into staged area.\n",
    "- The **second symbol** in the marker indicates if a file modified in unstaged area.\n",
    "- The `Untracked file` fill be denoted with `??` marker."
   ]
  },
  {
   "cell_type": "markdown",
   "id": "aa243e24",
   "metadata": {},
   "source": [
    "---\n",
    "\n",
    "The following cell creates the, files that have different stages."
   ]
  },
  {
   "cell_type": "code",
   "execution_count": 42,
   "id": "f53ca22b",
   "metadata": {
    "vscode": {
     "languageId": "shellscript"
    }
   },
   "outputs": [],
   "source": [
    "%init\n",
    "echo \"initial\" > modified\n",
    "echo \"initial\" > modified_staged\n",
    "echo \"initial\" > modified_staged_modified\n",
    "git add modified modified_staged modified_staged_modified\n",
    "git commit -m \"add modified\" &> /dev/null\n",
    "\n",
    "echo \"initial\" > staged_file\n",
    "git add staged_file &> /dev/null\n",
    "\n",
    "echo \"initial\" > new_file\n",
    "echo \"new\" >> modified\n",
    "\n",
    "echo \"new\" >> modified_staged\n",
    "git add modified_staged\n",
    "\n",
    "echo \"initial\" > new_staged_modified\n",
    "git add new_staged_modified\n",
    "echo \"new\" >> new_staged_modified\n",
    "\n",
    "echo \"new\" >> modified_staged_modified\n",
    "git add modified_staged_modified\n",
    "echo \"new\" >> modified_staged_modified"
   ]
  },
  {
   "cell_type": "markdown",
   "id": "4233ff76",
   "metadata": {},
   "source": [
    "The git status output for such repo is represented in the following cell:"
   ]
  },
  {
   "cell_type": "code",
   "execution_count": 43,
   "id": "6534f4c3",
   "metadata": {
    "vscode": {
     "languageId": "shellscript"
    }
   },
   "outputs": [
    {
     "name": "stdout",
     "output_type": "stream",
     "text": [
      "On branch master\n",
      "Changes to be committed:\n",
      "  (use \"git restore --staged <file>...\" to unstage)\n",
      "\t\u001b[32mmodified:   modified_staged\u001b[m\n",
      "\t\u001b[32mmodified:   modified_staged_modified\u001b[m\n",
      "\t\u001b[32mnew file:   new_staged_modified\u001b[m\n",
      "\t\u001b[32mnew file:   staged_file\u001b[m\n",
      "\n",
      "Changes not staged for commit:\n",
      "  (use \"git add <file>...\" to update what will be committed)\n",
      "  (use \"git restore <file>...\" to discard changes in working directory)\n",
      "\t\u001b[31mmodified:   modified\u001b[m\n",
      "\t\u001b[31mmodified:   modified_staged_modified\u001b[m\n",
      "\t\u001b[31mmodified:   new_staged_modified\u001b[m\n",
      "\n",
      "Untracked files:\n",
      "  (use \"git add <file>...\" to include in what will be committed)\n",
      "\t\u001b[31mnew_file\u001b[m\n",
      "\n"
     ]
    }
   ],
   "source": [
    "git status"
   ]
  },
  {
   "cell_type": "markdown",
   "id": "5748dc7a",
   "metadata": {},
   "source": [
    "While most output is easy to understand, but consider some tricky cases:\n",
    "\n",
    "- `modified_staged_modified`: the case when a file has both staged and unstaged changes, so it appars in both \"Changes to be commited\" and \"Changes not staged for commit\".\n",
    "- `new_staged_modified`: the close to previous case but file was staged as new file and modified, therefore in *\"Changes to be commited\"* it appears as a *\"new file\"*."
   ]
  },
  {
   "cell_type": "markdown",
   "id": "b307d782",
   "metadata": {},
   "source": [
    "The corresponding short output is in the following cell:"
   ]
  },
  {
   "cell_type": "code",
   "execution_count": 44,
   "id": "a4007673",
   "metadata": {
    "vscode": {
     "languageId": "shellscript"
    }
   },
   "outputs": [
    {
     "name": "stdout",
     "output_type": "stream",
     "text": [
      " \u001b[31mM\u001b[m modified\n",
      "\u001b[32mM\u001b[m  modified_staged\n",
      "\u001b[32mM\u001b[m\u001b[31mM\u001b[m modified_staged_modified\n",
      "\u001b[32mA\u001b[m\u001b[31mM\u001b[m new_staged_modified\n",
      "\u001b[32mA\u001b[m  staged_file\n",
      "\u001b[31m??\u001b[m new_file\n"
     ]
    }
   ],
   "source": [
    "git status -s"
   ]
  },
  {
   "cell_type": "markdown",
   "id": "53ae56fb",
   "metadata": {},
   "source": [
    "## Ignore\n",
    "\n",
    "Specify the files you want `git` to ignore in the `.gitignore` file. There are several features important to know about git ignore:\n",
    "\n",
    "- You can specify the patterns in regex-like style.\n",
    "- You can specify the `.gitignore` file not only in the root directory of the project. If place the file in the nested folder the rules would be applied just to this folder.\n",
    "- The lines tha begins with `#` symbol would be underestood as comment.\n",
    "\n",
    "Check details in the [Ignore](ignore.ipynb) page."
   ]
  },
  {
   "cell_type": "markdown",
   "id": "e51e9e51",
   "metadata": {
    "vscode": {
     "languageId": "shellscript"
    }
   },
   "source": [
    "---\n",
    "\n",
    "The following cell adds `file` to the `.gitignore`."
   ]
  },
  {
   "cell_type": "code",
   "execution_count": 46,
   "id": "8c30e0f2",
   "metadata": {
    "vscode": {
     "languageId": "shellscript"
    }
   },
   "outputs": [
    {
     "name": "stdout",
     "output_type": "stream",
     "text": [
      "On branch master\n",
      "\n",
      "No commits yet\n",
      "\n",
      "Untracked files:\n",
      "  (use \"git add <file>...\" to include in what will be committed)\n",
      "\t\u001b[31m.gitignore\u001b[m\n",
      "\t\u001b[31mfile2\u001b[m\n",
      "\n",
      "nothing added to commit but untracked files present (use \"git add\" to track)\n"
     ]
    }
   ],
   "source": [
    "%init\n",
    "\n",
    "echo \"content\" > file\n",
    "echo \"content2\" > file2\n",
    "\n",
    "cat << EOF > .gitignore\n",
    "file\n",
    "EOF\n",
    "\n",
    "git status"
   ]
  },
  {
   "cell_type": "markdown",
   "id": "7931bcf6",
   "metadata": {},
   "source": [
    "As a result, there is no `file` in the outputs of the `git status` because it is ignored `git`."
   ]
  }
 ],
 "metadata": {
  "kernelspec": {
   "display_name": "GitKernel",
   "language": "bash",
   "name": "git"
  },
  "language_info": {
   "codemirror_mode": "shell",
   "file_extension": ".sh",
   "mimetype": "text/x-sh",
   "name": "bash"
  }
 },
 "nbformat": 4,
 "nbformat_minor": 5
}
