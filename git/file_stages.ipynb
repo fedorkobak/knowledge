{
 "cells": [
  {
   "cell_type": "markdown",
   "id": "12c8ac52-f04a-475a-80a6-4dd24d175e75",
   "metadata": {},
   "source": [
    "# File stages"
   ]
  },
  {
   "cell_type": "markdown",
   "id": "dd55ca89-d750-4d34-8351-fa272b5852ff",
   "metadata": {},
   "source": [
    "## Get status\n",
    "\n",
    "The `git status` command allows you to get some information about the current status of the git repository. This command is very common on this site, so you can find many different examples of how to use it."
   ]
  },
  {
   "cell_type": "markdown",
   "id": "58b06645-09ec-4fe5-a1ef-22bfc218282b",
   "metadata": {},
   "source": [
    "## Untracked files\n",
    "\n",
    "Git doesn't pay attention to the files in this state. You can find files on this stage in `Untracked files` section of `git status` command. This is the default behaviour that git uses to any file. \n",
    "\n",
    "In the following example, I am simply trying to add a `some text` file to the freshly opened git repo, and when I call `git status`, I can find it in the untracked files section. "
   ]
  },
  {
   "cell_type": "code",
   "execution_count": 7,
   "id": "a24df768-95ca-4351-b06b-d079650df9c5",
   "metadata": {},
   "outputs": [
    {
     "name": "stdout",
     "output_type": "stream",
     "text": [
      "=====Empty repo=====\n",
      "On branch master\n",
      "\n",
      "No commits yet\n",
      "\n",
      "nothing to commit (create/copy files and use \"git add\" to track)\n",
      "\n",
      "=====One file added=====\n",
      "On branch master\n",
      "\n",
      "No commits yet\n",
      "\n",
      "Untracked files:\n",
      "  (use \"git add <file>...\" to include in what will be committed)\n",
      "\ttest_file\n",
      "\n",
      "nothing added to commit but untracked files present (use \"git add\" to track)\n"
     ]
    }
   ],
   "source": [
    "%%bash\n",
    "mkdir status_test\n",
    "cd status_test\n",
    "git init &> /dev/null\n",
    "\n",
    "echo \"=====Empty repo=====\"\n",
    "git status\n",
    "echo \"some text\" > test_file\n",
    "echo\n",
    "echo \"=====One file added=====\"\n",
    "git status\n",
    "\n",
    "cd ..\n",
    "rm -r  status_test"
   ]
  },
  {
   "cell_type": "markdown",
   "id": "201bad7c-93bc-49b4-87b8-5869376bed1e",
   "metadata": {},
   "source": [
    "To make git track some file you should use command `git add <filemane>`."
   ]
  },
  {
   "cell_type": "markdown",
   "id": "be8f7ef8-ccdc-43e6-922d-2ed0263a1128",
   "metadata": {},
   "source": [
    "## Changes to be commited"
   ]
  },
  {
   "cell_type": "markdown",
   "id": "99bbf3de-9f83-4767-a397-d0704afafffd",
   "metadata": {},
   "source": [
    "This stage is for files that have been changed or added since the current commit.\n",
    "\n",
    "So in the following example, I have created and added a file to be tracked in the git repo, and show the result of `git status` for such a repository."
   ]
  },
  {
   "cell_type": "code",
   "execution_count": 11,
   "id": "43f9a902-b52a-46e3-a100-bfa3eca5231b",
   "metadata": {},
   "outputs": [
    {
     "name": "stdout",
     "output_type": "stream",
     "text": [
      "\n",
      "=====File to be commited=====\n",
      "On branch master\n",
      "\n",
      "No commits yet\n",
      "\n",
      "Changes to be committed:\n",
      "  (use \"git rm --cached <file>...\" to unstage)\n",
      "\tnew file:   test_file\n",
      "\n"
     ]
    }
   ],
   "source": [
    "%%bash\n",
    "mkdir status_test\n",
    "cd status_test\n",
    "git init &> /dev/null\n",
    "\n",
    "echo \"some text\" > test_file\n",
    "git add test_file\n",
    "echo\n",
    "echo \"=====File to be commited=====\"\n",
    "git status\n",
    "\n",
    "cd ..\n",
    "rm -r  status_test"
   ]
  }
 ],
 "metadata": {
  "kernelspec": {
   "display_name": "Python 3 (ipykernel)",
   "language": "python",
   "name": "python3"
  },
  "language_info": {
   "codemirror_mode": {
    "name": "ipython",
    "version": 3
   },
   "file_extension": ".py",
   "mimetype": "text/x-python",
   "name": "python",
   "nbconvert_exporter": "python",
   "pygments_lexer": "ipython3",
   "version": "3.10.6"
  }
 },
 "nbformat": 4,
 "nbformat_minor": 5
}
