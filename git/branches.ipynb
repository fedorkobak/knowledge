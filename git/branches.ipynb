{
 "cells": [
  {
   "cell_type": "markdown",
   "id": "83ce8da4-1874-4776-adea-54c20ee69be9",
   "metadata": {},
   "source": [
    "# Branches\n",
    "\n",
    "Brunch in git is just reference to some commit - you can understand it as name of a spcific commit."
   ]
  },
  {
   "cell_type": "markdown",
   "id": "a7a71995-a76d-4a0b-b13a-1d1569baec53",
   "metadata": {},
   "source": [
    "## Master\n",
    "\n",
    "`master` is the name of the default git brunch that's created when the repository is initialised.\n",
    "\n",
    "In the example below, I show that in the `git log` output there is the word `master` in branches next to the hash of the first commit module just created."
   ]
  },
  {
   "cell_type": "code",
   "execution_count": 5,
   "id": "af3da196-2621-484e-9a1e-e3788b691881",
   "metadata": {},
   "outputs": [
    {
     "name": "stdout",
     "output_type": "stream",
     "text": [
      "commit 2a72b456a3dbdfcdff5ad1dfdb65abed55b8a54b (HEAD -> master)\n",
      "Author: Fedor Kobak <kobfedsur@gmail.com>\n",
      "Date:   Sat Sep 9 13:21:48 2023 +0300\n",
      "\n",
      "    first commit\n"
     ]
    }
   ],
   "source": [
    "%%bash\n",
    "mkdir branches_example\n",
    "cd branches_example\n",
    "git init &> /dev/null\n",
    "\n",
    "echo \"some text\" &> some_file\n",
    "git add --all\n",
    "git commit -m \"first commit\" &> /dev/null\n",
    "git log --decorate\n",
    "\n",
    "cd ..\n",
    "rm -r branches_example"
   ]
  },
  {
   "cell_type": "markdown",
   "id": "3a94d066-b2e8-43f4-bd54-40a32ab0d5a9",
   "metadata": {},
   "source": [
    "## Create branch\n",
    "\n",
    "The `git branch` command creates a new branch on the commit that `HEAD` refers to.\n",
    "\n",
    "In the next cell I used this command to create `new_branch`:\n",
    "\n",
    "- In the `git log` output you can see that there are now two branch names in the parentheses next to the commit hash; \n",
    "- Note that by default git does not move `HEAD` to the created branch. The message `HEAD -> master` in the `git log` output and the message `On branch master` in the `git status` output will indicate this. To create brunch an immediately move to it use `git checkout` with `-b` option."
   ]
  },
  {
   "cell_type": "code",
   "execution_count": 29,
   "id": "d6cf38fb-a739-4d78-92bc-80c14f670bb2",
   "metadata": {},
   "outputs": [
    {
     "name": "stdout",
     "output_type": "stream",
     "text": [
      "=====git log=====\n",
      "54231d2 (HEAD -> master, new_branch) first commit\n",
      "=====git status=====\n",
      "On branch master\n",
      "nothing to commit, working tree clean\n"
     ]
    }
   ],
   "source": [
    "%%bash\n",
    "mkdir branches_example\n",
    "cd branches_example\n",
    "git init &> /dev/null\n",
    "\n",
    "echo \"some text\" &> some_file\n",
    "git add --all\n",
    "git commit -m \"first commit\" &> /dev/null\n",
    "git branch \"new_branch\"\n",
    "\n",
    "\n",
    "echo \"=====git log=====\"\n",
    "git log --decorate --oneline\n",
    "echo \"=====git status=====\"\n",
    "git status\n",
    "\n",
    "cd ..\n",
    "rm -r branches_example"
   ]
  },
  {
   "cell_type": "markdown",
   "id": "2293ce56-6260-4fdd-99f5-61a11bfd2859",
   "metadata": {},
   "source": [
    "## Commit \"to\" branch\n",
    "\n",
    "It is not correct to say commit \"to\" a branch, it is correct to say make a commit and move a branch into it. Every time a commit is made, it is written somewhere in git and the branch that `HEAD` is currently bound to is simply moved to that commit.\n",
    "\n",
    "The following example shows how I switched to `new_branch` while `HEAD` was on the first commit. And after the second commit, the text `HEAD->new_branch` automatically moved to the `second commit`."
   ]
  },
  {
   "cell_type": "code",
   "execution_count": 28,
   "id": "1ac40820-78d7-4d6e-bb63-e30c3a673a91",
   "metadata": {},
   "outputs": [
    {
     "name": "stderr",
     "output_type": "stream",
     "text": [
      "Switched to a new branch 'new_branch'\n"
     ]
    },
    {
     "name": "stdout",
     "output_type": "stream",
     "text": [
      "=====first commit=====\n",
      "-----git log-----\n",
      "ac4d1eb (HEAD -> new_branch, master) first commit\n",
      "\n",
      "=====second commit=====\n",
      "-----git log-----\n",
      "e743fed (HEAD -> new_branch) second commit\n",
      "ac4d1eb (master) first commit\n"
     ]
    }
   ],
   "source": [
    "%%bash\n",
    "mkdir branches_example\n",
    "cd branches_example\n",
    "git init &> /dev/null\n",
    "\n",
    "echo \"first line\" > some_file\n",
    "git add --all\n",
    "git commit -m \"first commit\" &> /dev/null\n",
    "git checkout -b \"new_branch\"\n",
    "\n",
    "echo \"=====first commit=====\"\n",
    "echo \"-----git log-----\"\n",
    "git log --decorate --oneline\n",
    "\n",
    "echo\n",
    "echo \"second line\" > some_file\n",
    "git commit -am \"second commit\" &> /dev/null\n",
    "echo \"=====second commit=====\"\n",
    "echo \"-----git log-----\"\n",
    "git log --decorate --oneline\n",
    "\n",
    "\n",
    "cd ..\n",
    "rm -r branches_example"
   ]
  }
 ],
 "metadata": {
  "kernelspec": {
   "display_name": "Python 3 (ipykernel)",
   "language": "python",
   "name": "python3"
  },
  "language_info": {
   "codemirror_mode": {
    "name": "ipython",
    "version": 3
   },
   "file_extension": ".py",
   "mimetype": "text/x-python",
   "name": "python",
   "nbconvert_exporter": "python",
   "pygments_lexer": "ipython3",
   "version": "3.10.6"
  }
 },
 "nbformat": 4,
 "nbformat_minor": 5
}
