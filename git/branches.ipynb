{
 "cells": [
  {
   "cell_type": "markdown",
   "id": "83ce8da4-1874-4776-adea-54c20ee69be9",
   "metadata": {},
   "source": [
    "# Branches\n",
    "\n",
    "Brunch in git is just reference to some commit - you can understand it as name of a spcific commit."
   ]
  },
  {
   "cell_type": "markdown",
   "id": "a7a71995-a76d-4a0b-b13a-1d1569baec53",
   "metadata": {},
   "source": [
    "## Master\n",
    "\n",
    "`master` is the name of the default git brunch that's created when the repository is initialised.\n",
    "\n",
    "In the example below, I show that in the `git log` output there is the word `master` in branches next to the hash of the first commit module just created."
   ]
  },
  {
   "cell_type": "code",
   "execution_count": 5,
   "id": "af3da196-2621-484e-9a1e-e3788b691881",
   "metadata": {},
   "outputs": [
    {
     "name": "stdout",
     "output_type": "stream",
     "text": [
      "commit 2a72b456a3dbdfcdff5ad1dfdb65abed55b8a54b (HEAD -> master)\n",
      "Author: Fedor Kobak <kobfedsur@gmail.com>\n",
      "Date:   Sat Sep 9 13:21:48 2023 +0300\n",
      "\n",
      "    first commit\n"
     ]
    }
   ],
   "source": [
    "%%bash\n",
    "mkdir branches_example\n",
    "cd branches_example\n",
    "git init &> /dev/null\n",
    "\n",
    "echo \"some text\" &> some_file\n",
    "git add --all\n",
    "git commit -m \"first commit\" &> /dev/null\n",
    "git log --decorate\n",
    "\n",
    "cd ..\n",
    "rm -r branches_example"
   ]
  },
  {
   "cell_type": "markdown",
   "id": "3a94d066-b2e8-43f4-bd54-40a32ab0d5a9",
   "metadata": {},
   "source": [
    "## Create branch\n",
    "\n",
    "The `git branch \"<branch name>\"` command creates a new branch on the commit that `HEAD` refers to.\n",
    "\n",
    "In the next cell I used this command to create `new_branch`:\n",
    "\n",
    "- In the `git log` output you can see that there are now two branch names in the parentheses next to the commit hash; \n",
    "- Note that by default git does not move `HEAD` to the created branch. The message `HEAD -> master` in the `git log` output and the message `On branch master` in the `git status` output will indicate this. To create brunch an immediately move to it use `git checkout` with `-b` option."
   ]
  },
  {
   "cell_type": "code",
   "execution_count": 29,
   "id": "d6cf38fb-a739-4d78-92bc-80c14f670bb2",
   "metadata": {},
   "outputs": [
    {
     "name": "stdout",
     "output_type": "stream",
     "text": [
      "=====git log=====\n",
      "54231d2 (HEAD -> master, new_branch) first commit\n",
      "=====git status=====\n",
      "On branch master\n",
      "nothing to commit, working tree clean\n"
     ]
    }
   ],
   "source": [
    "%%bash\n",
    "mkdir branches_example\n",
    "cd branches_example\n",
    "git init &> /dev/null\n",
    "\n",
    "echo \"some text\" &> some_file\n",
    "git add --all\n",
    "git commit -m \"first commit\" &> /dev/null\n",
    "git branch \"new_branch\"\n",
    "\n",
    "\n",
    "echo \"=====git log=====\"\n",
    "git log --decorate --oneline\n",
    "echo \"=====git status=====\"\n",
    "git status\n",
    "\n",
    "cd ..\n",
    "rm -r branches_example"
   ]
  },
  {
   "cell_type": "markdown",
   "id": "c6036854-ce5d-446d-831b-779f392e630c",
   "metadata": {},
   "source": [
    "## List branches\n",
    "\n",
    "To list all available branches, use `git branch` (without the positional argument, which refers to the name of the new branch).\n",
    "\n",
    "The branch to which `HEAD` will be linked is indicated by an asterisk (*)."
   ]
  },
  {
   "cell_type": "markdown",
   "id": "a0903f48-55ca-4a82-a724-3e629d6602bd",
   "metadata": {},
   "source": [
    "### Basic example\n",
    "\n",
    "In the following example \n",
    "\n",
    "- I create a few branches;\n",
    "- Then use the `git branch' command to print out a list of branches - all the branches I created and the automatically generated `master' branch are shown. `*` indicates `master`;\n",
    "- Then I switch `HEAD` to another branch;\n",
    "- Now `git branch` prints almost the same, except that `*` indicates the branch I have selected."
   ]
  },
  {
   "cell_type": "code",
   "execution_count": 24,
   "id": "f94d4881-dd5c-4849-a2eb-fd8fafe00475",
   "metadata": {},
   "outputs": [
    {
     "name": "stdout",
     "output_type": "stream",
     "text": [
      "=====git branch=====\n",
      "  branch_1\n",
      "  branch_2\n",
      "  branch_3\n",
      "  branch_4\n",
      "  branch_5\n",
      "* master\n",
      "\n",
      "Switched to branch 'branch_3'\n",
      "=====git branch=====\n",
      "  branch_1\n",
      "  branch_2\n",
      "* branch_3\n",
      "  branch_4\n",
      "  branch_5\n",
      "  master\n"
     ]
    }
   ],
   "source": [
    "%%bash\n",
    "mkdir branches_example\n",
    "cd branches_example\n",
    "git init &> /dev/null\n",
    "\n",
    "for i in {1..5}\n",
    "do\n",
    "  echo \"Line $i\" >> file\n",
    "  git add file\n",
    "  git commit -m \"Branch $i add.\" &> /dev/null\n",
    "  git branch \"branch_$i\"\n",
    "done\n",
    "\n",
    "echo \"=====git branch=====\"\n",
    "git branch\n",
    "\n",
    "echo\n",
    "git checkout branch_3 2>&1\n",
    "echo \"=====git branch=====\"\n",
    "git branch\n",
    "\n",
    "cd ..\n",
    "rm -r branches_example"
   ]
  },
  {
   "cell_type": "markdown",
   "id": "458b5424-6c2d-4bc2-8463-d6ffea4cdec8",
   "metadata": {},
   "source": [
    "### HEAD arbitrary\n",
    "\n",
    "You can use `git checkout` for optional commits. This subsection shows how `git branch` will display the case where you have selected some commit (not branch) to be referenced by `HEAD` - which branch will `*` display?\n",
    "\n",
    "In the following example:\n",
    "\n",
    "- I generated few branches;\n",
    "- I make a random commit and remember its hash. And to this hash I make `git checkout` - now `HEAD` refers to an arbitrary commit and not to some branch;\n",
    "- Then I execute `git branch`. For `*` created special line `* (HEAD detached at <hash>)` which makes it clear that HEAD points to an arbitrary commit and not to any of the branches."
   ]
  },
  {
   "cell_type": "code",
   "execution_count": 25,
   "id": "3cc07fc6-c1a2-4f68-8f3d-b0890860ea3f",
   "metadata": {},
   "outputs": [
    {
     "name": "stdout",
     "output_type": "stream",
     "text": [
      "\n",
      "Note: switching to '5b8059a0c1a47cdb0fcd6233a58ea7cf159ebf15'.\n",
      "\n",
      "You are in 'detached HEAD' state. You can look around, make experimental\n",
      "changes and commit them, and you can discard any commits you make in this\n",
      "state without impacting any branches by switching back to a branch.\n",
      "\n",
      "If you want to create a new branch to retain commits you create, you may\n",
      "do so (now or later) by using -c with the switch command. Example:\n",
      "\n",
      "  git switch -c <new-branch-name>\n",
      "\n",
      "Or undo this operation with:\n",
      "\n",
      "  git switch -\n",
      "\n",
      "Turn off this advice by setting config variable advice.detachedHead to false\n",
      "\n",
      "HEAD is now at 5b8059a Commit without branch.\n",
      "5b8059a0c1a47cdb0fcd6233a58ea7cf159ebf15\n",
      "=====git branch=====\n",
      "* (HEAD detached at 5b8059a)\n",
      "  branch_1\n",
      "  branch_2\n",
      "  branch_3\n",
      "  branch_4\n",
      "  branch_5\n",
      "  master\n"
     ]
    }
   ],
   "source": [
    "%%bash\n",
    "mkdir branches_example\n",
    "cd branches_example\n",
    "git init &> /dev/null\n",
    "\n",
    "for i in {1..5}\n",
    "do\n",
    "  echo \"Line $i\" >> file\n",
    "  git add file\n",
    "  git commit -m \"Branch $i add.\" &> /dev/null\n",
    "  git branch \"branch_$i\"\n",
    "done\n",
    "\n",
    "echo \"Temp line\" >> file\n",
    "git add file\n",
    "git commit -m \"Commit without branch.\" &> /dev/null\n",
    "no_branch_commit_hash=$(git rev-parse HEAD)\n",
    "\n",
    "echo\n",
    "git checkout $no_branch_commit_hash 2>&1\n",
    "echo $no_branch_commit_hash\n",
    "echo \"=====git branch=====\"\n",
    "git branch\n",
    "\n",
    "cd ..\n",
    "rm -r branches_example"
   ]
  },
  {
   "cell_type": "markdown",
   "id": "2293ce56-6260-4fdd-99f5-61a11bfd2859",
   "metadata": {},
   "source": [
    "## Commit \"to\" branch\n",
    "\n",
    "It is not correct to say commit \"to\" a branch, it is correct to say make a commit and move a branch into it. Every time a commit is made, it is written somewhere in git and the branch that `HEAD` is currently bound to is simply moved to that commit.\n",
    "\n",
    "The following example shows how I switched to `new_branch` while `HEAD` was on the first commit. And after the second commit, the text `HEAD->new_branch` automatically moved to the `second commit`."
   ]
  },
  {
   "cell_type": "code",
   "execution_count": 30,
   "id": "1ac40820-78d7-4d6e-bb63-e30c3a673a91",
   "metadata": {},
   "outputs": [
    {
     "name": "stderr",
     "output_type": "stream",
     "text": [
      "Switched to a new branch 'new_branch'\n"
     ]
    },
    {
     "name": "stdout",
     "output_type": "stream",
     "text": [
      "=====first commit=====\n",
      "-----git log-----\n",
      "21bed3c (HEAD -> new_branch, master) first commit\n",
      "\n",
      "=====second commit=====\n",
      "-----git log-----\n",
      "af9c0df (HEAD -> new_branch) second commit\n",
      "21bed3c (master) first commit\n"
     ]
    }
   ],
   "source": [
    "%%bash\n",
    "mkdir branches_example\n",
    "cd branches_example\n",
    "git init &> /dev/null\n",
    "\n",
    "echo \"first line\" > some_file\n",
    "git add --all\n",
    "git commit -m \"first commit\" &> /dev/null\n",
    "git checkout -b \"new_branch\"\n",
    "\n",
    "echo \"=====first commit=====\"\n",
    "echo \"-----git log-----\"\n",
    "git log --decorate --oneline\n",
    "\n",
    "echo\n",
    "echo \"second line\" >> some_file\n",
    "git commit -am \"second commit\" &> /dev/null\n",
    "echo \"=====second commit=====\"\n",
    "echo \"-----git log-----\"\n",
    "git log --decorate --oneline\n",
    "\n",
    "cd ..\n",
    "rm -r branches_example"
   ]
  }
 ],
 "metadata": {
  "kernelspec": {
   "display_name": "Python 3 (ipykernel)",
   "language": "python",
   "name": "python3"
  },
  "language_info": {
   "codemirror_mode": {
    "name": "ipython",
    "version": 3
   },
   "file_extension": ".py",
   "mimetype": "text/x-python",
   "name": "python",
   "nbconvert_exporter": "python",
   "pygments_lexer": "ipython3",
   "version": "3.10.12"
  }
 },
 "nbformat": 4,
 "nbformat_minor": 5
}
