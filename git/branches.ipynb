{
 "cells": [
  {
   "cell_type": "markdown",
   "id": "83ce8da4-1874-4776-adea-54c20ee69be9",
   "metadata": {},
   "source": [
    "# Branches\n",
    "\n",
    "Brunch in git is just reference to some commit - you can understand it as name of a spcific commit."
   ]
  },
  {
   "cell_type": "markdown",
   "id": "a7a71995-a76d-4a0b-b13a-1d1569baec53",
   "metadata": {},
   "source": [
    "## master\n",
    "\n",
    "`master` is the name of the default git brunch that's created when the repository is initialised.\n",
    "\n",
    "In the example below, I show that in the `git log` output there is the word `master` in branches next to the hash of the first commit module just created."
   ]
  },
  {
   "cell_type": "code",
   "execution_count": 5,
   "id": "af3da196-2621-484e-9a1e-e3788b691881",
   "metadata": {},
   "outputs": [
    {
     "name": "stdout",
     "output_type": "stream",
     "text": [
      "commit 2a72b456a3dbdfcdff5ad1dfdb65abed55b8a54b (HEAD -> master)\n",
      "Author: Fedor Kobak <kobfedsur@gmail.com>\n",
      "Date:   Sat Sep 9 13:21:48 2023 +0300\n",
      "\n",
      "    first commit\n"
     ]
    }
   ],
   "source": [
    "%%bash\n",
    "mkdir branches_example\n",
    "cd branches_example\n",
    "git init &> /dev/null\n",
    "\n",
    "echo \"some text\" &> some_file\n",
    "git add --all\n",
    "git commit -m \"first commit\" &> /dev/null\n",
    "git log --decorate\n",
    "\n",
    "cd ..\n",
    "rm -r branches_example"
   ]
  },
  {
   "cell_type": "markdown",
   "id": "3a94d066-b2e8-43f4-bd54-40a32ab0d5a9",
   "metadata": {},
   "source": [
    "## create branch\n",
    "\n",
    "The `git branch` command creates a new branch on the commit that `HEAD` refers to.\n",
    "\n",
    "In the next cell I used this command to create `new_branch`:\n",
    "\n",
    "- In the `git log` output you can see that there are now two branch names in the parentheses next to the commit hash; \n",
    "- Note that by default git does not move `HEAD` to the created branch. The message `HEAD -> master` in the `git log` output and the message `On branch master` in the `git status` output will indicate this. To change this behaviour, use the `-b` option."
   ]
  },
  {
   "cell_type": "code",
   "execution_count": 11,
   "id": "d6cf38fb-a739-4d78-92bc-80c14f670bb2",
   "metadata": {},
   "outputs": [
    {
     "name": "stdout",
     "output_type": "stream",
     "text": [
      "=====git log=====\n",
      "commit 9b82601be5e2a76528e99880808a685add3b4c01 (HEAD -> master, new_branch)\n",
      "Author: Fedor Kobak <kobfedsur@gmail.com>\n",
      "Date:   Sat Sep 9 13:31:34 2023 +0300\n",
      "\n",
      "    first commit\n",
      "=====git status=====\n",
      "On branch master\n",
      "nothing to commit, working tree clean\n"
     ]
    }
   ],
   "source": [
    "%%bash\n",
    "mkdir branches_example\n",
    "cd branches_example\n",
    "git init &> /dev/null\n",
    "\n",
    "echo \"some text\" &> some_file\n",
    "git add --all\n",
    "git commit -m \"first commit\" &> /dev/null\n",
    "git branch \"new_branch\"\n",
    "\n",
    "\n",
    "echo \"=====git log=====\"\n",
    "git log --decorate\n",
    "echo \"=====git status=====\"\n",
    "git status\n",
    "\n",
    "cd ..\n",
    "rm -r branches_example"
   ]
  }
 ],
 "metadata": {
  "kernelspec": {
   "display_name": "Python 3 (ipykernel)",
   "language": "python",
   "name": "python3"
  },
  "language_info": {
   "codemirror_mode": {
    "name": "ipython",
    "version": 3
   },
   "file_extension": ".py",
   "mimetype": "text/x-python",
   "name": "python",
   "nbconvert_exporter": "python",
   "pygments_lexer": "ipython3",
   "version": "3.10.6"
  }
 },
 "nbformat": 4,
 "nbformat_minor": 5
}
