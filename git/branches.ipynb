{
 "cells": [
  {
   "cell_type": "markdown",
   "id": "83ce8da4-1874-4776-adea-54c20ee69be9",
   "metadata": {},
   "source": [
    "# Branches\n",
    "\n",
    "A branch is a reference to a commit, and can be moved to some future commit. This page gives an overview of the tools git has to work with branches."
   ]
  },
  {
   "cell_type": "markdown",
   "id": "657279dc",
   "metadata": {},
   "source": [
    "## Overview\n",
    "\n",
    "This section provides an overview of the basics of dealing with branches in `git`:\n",
    "\n",
    "- `git branch` for listing available branches.  \n",
    "- `git branch <branch_name>` for creating a new branch.  \n",
    "- `git checkout <branch_name>` for switching between branches.  \n",
    "- How a branch reacts to the creation of a new commit while `HEAD` refers to that branch."
   ]
  },
  {
   "cell_type": "markdown",
   "id": "72eab819",
   "metadata": {},
   "source": [
    "---\n",
    "\n",
    "We will consider the typical operations with git branches with the repository created in the following cell as example."
   ]
  },
  {
   "cell_type": "code",
   "execution_count": 18,
   "id": "b97c65ca",
   "metadata": {
    "vscode": {
     "languageId": "shellscript"
    }
   },
   "outputs": [],
   "source": [
    "mkdir /tmp/branches_overview\n",
    "cd /tmp/branches_overview\n",
    "git init &> /dev/null"
   ]
  },
  {
   "cell_type": "markdown",
   "id": "ccc27df4",
   "metadata": {},
   "source": [
    "A newly created repository will only contain the `master` branch. The next cell shows the `log` of the repo after the first commit."
   ]
  },
  {
   "cell_type": "code",
   "execution_count": 19,
   "id": "c66cfaec",
   "metadata": {
    "vscode": {
     "languageId": "shellscript"
    }
   },
   "outputs": [
    {
     "name": "stdout",
     "output_type": "stream",
     "text": [
      "\u001b[33mcommit 96a988189f4be3526ff4e2bb4e48a192cd4f08c9\u001b[m\u001b[33m (\u001b[m\u001b[1;36mHEAD\u001b[m\u001b[33m -> \u001b[m\u001b[1;32mmaster\u001b[m\u001b[33m)\u001b[m\n",
      "Author: fedor <kobfedsur@gmail.com>\n",
      "Date:   Wed Jan 8 17:25:50 2025 +0300\n",
      "\n",
      "    first commit\n"
     ]
    }
   ],
   "source": [
    "echo \"some text\" &> some_files\n",
    "git add --all\n",
    "git commit -m \"first commit\" &> /dev/null\n",
    "git log --decorate"
   ]
  },
  {
   "cell_type": "markdown",
   "id": "469902e9",
   "metadata": {},
   "source": [
    "The following cell shows awailable branches by using `git branch`."
   ]
  },
  {
   "cell_type": "code",
   "execution_count": 20,
   "id": "6c96b343",
   "metadata": {
    "vscode": {
     "languageId": "shellscript"
    }
   },
   "outputs": [
    {
     "name": "stdout",
     "output_type": "stream",
     "text": [
      "* \u001b[32mmaster\u001b[m\n"
     ]
    }
   ],
   "source": [
    "git branch"
   ]
  },
  {
   "cell_type": "markdown",
   "id": "69670156",
   "metadata": {},
   "source": [
    "There is only the `main` branch. The following code creates an extra branch, `new_branch`, and lists available branches."
   ]
  },
  {
   "cell_type": "code",
   "execution_count": 21,
   "id": "2af5e1f1",
   "metadata": {
    "vscode": {
     "languageId": "shellscript"
    }
   },
   "outputs": [
    {
     "name": "stdout",
     "output_type": "stream",
     "text": [
      "* \u001b[32mmaster\u001b[m\n",
      "  new_branch\u001b[m\n"
     ]
    }
   ],
   "source": [
    "git branch new_branch\n",
    "git branch"
   ]
  },
  {
   "cell_type": "markdown",
   "id": "8c51a234",
   "metadata": {},
   "source": [
    "Now, in `git log`, you can see that both `master` and `new_branch` refer to the same commit. However, the syntax `HEAD -> master` indicates that the `master` branch is currently being used."
   ]
  },
  {
   "cell_type": "code",
   "execution_count": 22,
   "id": "16630ad6",
   "metadata": {
    "vscode": {
     "languageId": "shellscript"
    }
   },
   "outputs": [
    {
     "name": "stdout",
     "output_type": "stream",
     "text": [
      "\u001b[33mcommit 96a988189f4be3526ff4e2bb4e48a192cd4f08c9\u001b[m\u001b[33m (\u001b[m\u001b[1;36mHEAD\u001b[m\u001b[33m -> \u001b[m\u001b[1;32mmaster\u001b[m\u001b[33m, \u001b[m\u001b[1;32mnew_branch\u001b[m\u001b[33m)\u001b[m\n",
      "Author: fedor <kobfedsur@gmail.com>\n",
      "Date:   Wed Jan 8 17:25:50 2025 +0300\n",
      "\n",
      "    first commit\n"
     ]
    }
   ],
   "source": [
    "git log"
   ]
  },
  {
   "cell_type": "markdown",
   "id": "489d0033",
   "metadata": {},
   "source": [
    "With `git checkout new_branch` you can set `new_branch` as the branch that `HEAD` points to."
   ]
  },
  {
   "cell_type": "code",
   "execution_count": 23,
   "id": "ab8294fa",
   "metadata": {
    "vscode": {
     "languageId": "shellscript"
    }
   },
   "outputs": [
    {
     "name": "stdout",
     "output_type": "stream",
     "text": [
      "Switched to branch 'new_branch'\n",
      "\u001b[33mcommit 96a988189f4be3526ff4e2bb4e48a192cd4f08c9\u001b[m\u001b[33m (\u001b[m\u001b[1;36mHEAD\u001b[m\u001b[33m -> \u001b[m\u001b[1;32mnew_branch\u001b[m\u001b[33m, \u001b[m\u001b[1;32mmaster\u001b[m\u001b[33m)\u001b[m\n",
      "Author: fedor <kobfedsur@gmail.com>\n",
      "Date:   Wed Jan 8 17:25:50 2025 +0300\n",
      "\n",
      "    first commit\n"
     ]
    }
   ],
   "source": [
    "git checkout new_branch\n",
    "git log"
   ]
  },
  {
   "cell_type": "markdown",
   "id": "c2ca5215",
   "metadata": {},
   "source": [
    "But what does `HEAD -> new_branch` actually mean? During a `git commit`, `HEAD` points to the new commit, and the branch it refers to moves along with it. The following cell creates a new commit and displays the resulting `git log`."
   ]
  },
  {
   "cell_type": "code",
   "execution_count": 24,
   "id": "87e124ba",
   "metadata": {
    "vscode": {
     "languageId": "shellscript"
    }
   },
   "outputs": [
    {
     "name": "stdout",
     "output_type": "stream",
     "text": [
      "* \u001b[33mcommit 4a10dac0f6c48e7556e066a1348de4ef7b30719c\u001b[m\u001b[33m (\u001b[m\u001b[1;36mHEAD\u001b[m\u001b[33m -> \u001b[m\u001b[1;32mnew_branch\u001b[m\u001b[33m)\u001b[m\n",
      "\u001b[31m|\u001b[m Author: fedor <kobfedsur@gmail.com>\n",
      "\u001b[31m|\u001b[m Date:   Wed Jan 8 17:25:58 2025 +0300\n",
      "\u001b[31m|\u001b[m \n",
      "\u001b[31m|\u001b[m     add new file\n",
      "\u001b[31m|\u001b[m \n",
      "* \u001b[33mcommit 96a988189f4be3526ff4e2bb4e48a192cd4f08c9\u001b[m\u001b[33m (\u001b[m\u001b[1;32mmaster\u001b[m\u001b[33m)\u001b[m\n",
      "  Author: fedor <kobfedsur@gmail.com>\n",
      "  Date:   Wed Jan 8 17:25:50 2025 +0300\n",
      "  \n",
      "      first commit\n"
     ]
    }
   ],
   "source": [
    "echo \"hello\" > new_file\n",
    "git add --all\n",
    "git commit -m \"add new file\" &> /dev/null\n",
    "git log --all --graph"
   ]
  },
  {
   "cell_type": "markdown",
   "id": "e9e03c79",
   "metadata": {},
   "source": [
    "As a result, `HEAD` and `new_branch`, which `HEAD` referred to, have moved to the new commit."
   ]
  },
  {
   "cell_type": "markdown",
   "id": "727ffe06-1520-4f0f-8805-3a98359ea9a5",
   "metadata": {},
   "source": [
    "## Idea of branching\n",
    "\n",
    "When you talk about branches, you assume that they can grow independently of each other; in git, that is the idea.\n",
    "\n",
    "Commits made to one branch are not included in the history of the other branches. So in the following example:\n",
    "\n",
    "- In the beginning:\n",
    "    - `basic commit` was created;\n",
    "    - From `basic commit` two branches were created, `first_branch` and `second_branch`;\n",
    "    - A log of this state of the repository was printed after the message `=====initial log=====`;\n",
    "- Then commits have been made to both branches;\n",
    "- With the command `git log --all --graph --decorate` I printed the log:\n",
    "    - By default, `git log` only prints history for the commit that `HEAD` refers to, so we need the `--all` option to print all history;\n",
    "    - The `--graph` option is a feature that allows us to visualise branches - so we have `basic commit' and two brunches of it;\n",
    "    - The `--decocate` option is just needed for correct dislpay in jupyter."
   ]
  },
  {
   "cell_type": "code",
   "execution_count": 20,
   "id": "5cedb601-89b6-4124-8dbd-80e1afad55bb",
   "metadata": {
    "vscode": {
     "languageId": "shellscript"
    }
   },
   "outputs": [
    {
     "name": "stdout",
     "output_type": "stream",
     "text": [
      "=====initial log=====\n",
      "e544f85 (HEAD -> master, second_branch, first_branch) basic commit\n",
      "=====work with first_branch=====\n"
     ]
    },
    {
     "name": "stderr",
     "output_type": "stream",
     "text": [
      "Switched to branch 'first_branch'\n"
     ]
    },
    {
     "name": "stdout",
     "output_type": "stream",
     "text": [
      "=====work with second_branch=====\n"
     ]
    },
    {
     "name": "stderr",
     "output_type": "stream",
     "text": [
      "Switched to branch 'second_branch'\n"
     ]
    },
    {
     "name": "stdout",
     "output_type": "stream",
     "text": [
      "\n",
      "=====git log=====\n",
      "* commit c5c73f3cf1903d3ff3360c3454fff0bca21c7616 (first_branch)\n",
      "| Author: Fedor Kobak <kobfedsur@gmail.com>\n",
      "| Date:   Sun Sep 10 11:27:18 2023 +0300\n",
      "| \n",
      "|     first branch commit\n",
      "|   \n",
      "| * commit a377c623cb616c02193a5f2ef6d8389ddd5cbc1a (HEAD -> second_branch)\n",
      "|/  Author: Fedor Kobak <kobfedsur@gmail.com>\n",
      "|   Date:   Sun Sep 10 11:27:18 2023 +0300\n",
      "|   \n",
      "|       second branch commit\n",
      "| \n",
      "* commit e544f8579d51b9383defa2b83f31e58ffc614569 (master)\n",
      "  Author: Fedor Kobak <kobfedsur@gmail.com>\n",
      "  Date:   Sun Sep 10 11:27:18 2023 +0300\n",
      "  \n",
      "      basic commit\n"
     ]
    }
   ],
   "source": [
    "%%bash\n",
    "mkdir branches_example\n",
    "cd branches_example\n",
    "git init &> /dev/null\n",
    "\n",
    "echo \"basic content\" > file\n",
    "git add --all\n",
    "git commit -m \"basic commit\" &> /dev/null\n",
    "\n",
    "git branch first_branch\n",
    "git branch second_branch\n",
    "\n",
    "echo \"=====initial log=====\"\n",
    "git log --decorate --oneline\n",
    "\n",
    "echo \"=====work with first_branch=====\"\n",
    "git checkout first_branch\n",
    "echo \"first branch content\" > file\n",
    "git commit -am \"first branch commit\" &> /dev/null\n",
    "echo \"=====work with second_branch=====\"\n",
    "git checkout second_branch\n",
    "echo \"second branch content\" > file\n",
    "git commit -am \"second branch commit\" &> /dev/null\n",
    "\n",
    "echo\n",
    "echo \"=====git log=====\"\n",
    "git log --graph --all --decorate\n",
    "\n",
    "cd ..\n",
    "rm -r branches_example"
   ]
  }
 ],
 "metadata": {
  "kernelspec": {
   "display_name": "Bash",
   "language": "bash",
   "name": "bash"
  },
  "language_info": {
   "codemirror_mode": "shell",
   "file_extension": ".sh",
   "mimetype": "text/x-sh",
   "name": "bash"
  }
 },
 "nbformat": 4,
 "nbformat_minor": 5
}
