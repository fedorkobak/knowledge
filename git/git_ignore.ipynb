{
 "cells": [
  {
   "cell_type": "markdown",
   "id": "015ab0d6-ef48-4664-bdc4-0290991d37df",
   "metadata": {},
   "source": [
    "# How git ignore works"
   ]
  },
  {
   "cell_type": "code",
   "execution_count": 9,
   "id": "8be94d0c-dca1-4432-9a29-20a8c1e9178a",
   "metadata": {},
   "outputs": [
    {
     "data": {
      "text/html": [
       "<style>\n",
       "    h1 {text-align:center}\n",
       "</style>\n"
      ],
      "text/plain": [
       "<IPython.core.display.HTML object>"
      ]
     },
     "metadata": {},
     "output_type": "display_data"
    }
   ],
   "source": [
    "%%HTML\n",
    "<style>\n",
    "    h1 {text-align:center}\n",
    "</style>"
   ]
  },
  {
   "cell_type": "markdown",
   "id": "eda076bb-d74e-4387-9913-2285bf8b3c43",
   "metadata": {},
   "source": [
    "# File patterns"
   ]
  },
  {
   "cell_type": "markdown",
   "id": "647ba3ed-395a-4cc1-8805-6f07f0b7a137",
   "metadata": {},
   "source": [
    "## Any entry\n",
    "\n",
    "Using the syntax `*<symbol_combination>*` you can specify a symbol combination and any file with that symbol combination in the relative filepath will be ignored by git.\n",
    "\n",
    "The following example shows:\n",
    "\n",
    "- Files tree and `.gitignore`, which tells git to ignore any file with `symb_comb` in it's filepath;\n",
    "- The results of the `git status` of a freshly created repository, which helps us understand exactly what files git is ignoring.\n",
    "\n",
    "There are few important fatures:\n",
    "\n",
    "- Of course, `some_folder2` doesn't have `symb_comb` in it's filepath, but it only has one file and that file should be ignored by git, so to git this folder appears empty;\n",
    "- Git ignores files in directories started or ended with `symb_comb`."
   ]
  },
  {
   "cell_type": "code",
   "execution_count": 32,
   "id": "79e2bd23-8be1-4d0b-a916-9acedac99860",
   "metadata": {},
   "outputs": [
    {
     "name": "stdout",
     "output_type": "stream",
     "text": [
      "=====FILES TREE=====\n",
      "\u001b[01;34m.\u001b[0m\n",
      "├── \u001b[01;34msome_folder\u001b[0m\n",
      "│   └── some_file\n",
      "├── \u001b[01;34msome_folder2\u001b[0m\n",
      "│   └── symb_comb\n",
      "├── some_random_file\n",
      "├── symb_comb\n",
      "└── \u001b[01;34msymb_comb_root_folder\u001b[0m\n",
      "    └── some_file\n",
      "\n",
      "3 directories, 5 files\n",
      "\n",
      "\n",
      "=====.GITIGNORE FILE=====\n",
      "*symb_comb*\n",
      "\n",
      "\n",
      "=====GIT STATUS=====\n",
      "On branch master\n",
      "\n",
      "No commits yet\n",
      "\n",
      "Untracked files:\n",
      "  (use \"git add <file>...\" to include in what will be committed)\n",
      "\t.gitignore\n",
      "\tsome_folder/\n",
      "\tsome_random_file\n",
      "\n",
      "nothing added to commit but untracked files present (use \"git add\" to track)\n"
     ]
    }
   ],
   "source": [
    "%%bash\n",
    "cd git_ignore_files/any_entry\n",
    "git init &> /dev/null\n",
    "\n",
    "echo \"=====FILES TREE=====\"\n",
    "tree\n",
    "\n",
    "echo\n",
    "echo\n",
    "echo \"=====.GITIGNORE FILE=====\"\n",
    "cat .gitignore\n",
    "\n",
    "\n",
    "echo\n",
    "echo\n",
    "echo \"=====GIT STATUS=====\"\n",
    "git status\n",
    "\n",
    "rm -r .git"
   ]
  }
 ],
 "metadata": {
  "kernelspec": {
   "display_name": "Python 3 (ipykernel)",
   "language": "python",
   "name": "python3"
  },
  "language_info": {
   "codemirror_mode": {
    "name": "ipython",
    "version": 3
   },
   "file_extension": ".py",
   "mimetype": "text/x-python",
   "name": "python",
   "nbconvert_exporter": "python",
   "pygments_lexer": "ipython3",
   "version": "3.10.6"
  }
 },
 "nbformat": 4,
 "nbformat_minor": 5
}
