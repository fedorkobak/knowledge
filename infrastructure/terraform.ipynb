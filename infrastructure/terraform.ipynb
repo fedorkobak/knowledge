{
 "cells": [
  {
   "cell_type": "markdown",
   "id": "42f79e83",
   "metadata": {},
   "source": [
    "# Terraform\n",
    "\n",
    "With Terraform, you can describe your infrastructure using a special declarative language."
   ]
  },
  {
   "cell_type": "markdown",
   "id": "aa004512",
   "metadata": {},
   "source": [
    "## CLI\n",
    "\n",
    "To manipulate the terraform use special CLI. The basic commands are:\n",
    "\n",
    "- `terraform init`: to init the terraform directory.\n",
    "- `terraform validate`: to check if there are syntax mistakes in your terrform configuration.\n",
    "- `terraform apply`: to apply the configuration.\n",
    "- `terraform apply -destroy`: to unroll the infrastructure."
   ]
  },
  {
   "cell_type": "markdown",
   "id": "fb51a655",
   "metadata": {},
   "source": [
    "---\n",
    "\n",
    "The following cell defines a simple Terraform configuration that deploys an `nginx` image in the Docker runtime."
   ]
  },
  {
   "cell_type": "code",
   "execution_count": 22,
   "id": "bb9da204",
   "metadata": {
    "vscode": {
     "languageId": "shellscript"
    }
   },
   "outputs": [],
   "source": [
    "rm -rf /tmp/terraform\n",
    "mkdir /tmp/terraform\n",
    "cat << EOF > /tmp/terraform/main.tf\n",
    "terraform {\n",
    "  required_providers {\n",
    "    docker = {\n",
    "      source = \"kreuzwerker/docker\"\n",
    "      version = \"~> 3.0.1\"\n",
    "    }\n",
    "  }\n",
    "}\n",
    "\n",
    "provider \"docker\" {}\n",
    "\n",
    "resource \"docker_image\" \"nginx\" {\n",
    "  name         = \"nginx:latest\"\n",
    "  keep_locally = false\n",
    "}\n",
    "\n",
    "resource \"docker_container\" \"nginx\" {\n",
    "  image = docker_image.nginx.image_id\n",
    "  name  = \"terraform_example\"\n",
    "  ports {\n",
    "    internal = 80\n",
    "    external = 8000\n",
    "  }\n",
    "}\n",
    "EOF\n",
    "cd /tmp/terraform"
   ]
  },
  {
   "cell_type": "markdown",
   "id": "dc72aeed",
   "metadata": {},
   "source": [
    "The following cell show the terrafrom initialisation outputs:"
   ]
  },
  {
   "cell_type": "code",
   "execution_count": 23,
   "id": "5fc831c3",
   "metadata": {
    "vscode": {
     "languageId": "shellscript"
    }
   },
   "outputs": [
    {
     "name": "stdout",
     "output_type": "stream",
     "text": [
      "\u001b[0m\u001b[1mInitializing the backend...\u001b[0m\n",
      "\u001b[0m\u001b[1mInitializing provider plugins...\u001b[0m\n",
      "- Finding kreuzwerker/docker versions matching \"~> 3.0.1\"...\n",
      "- Installing kreuzwerker/docker v3.0.2...\n",
      "- Installed kreuzwerker/docker v3.0.2 (self-signed, key ID \u001b[0m\u001b[1mBD080C4571C6104C\u001b[0m\u001b[0m)\n",
      "Partner and community providers are signed by their developers.\n",
      "If you'd like to know more about provider signing, you can read about it here:\n",
      "https://developer.hashicorp.com/terraform/cli/plugins/signing\n",
      "Terraform has created a lock file \u001b[1m.terraform.lock.hcl\u001b[0m to record the provider\n",
      "selections it made above. Include this file in your version control repository\n",
      "so that Terraform can guarantee to make the same selections by default when\n",
      "you run \"terraform init\" in the future.\u001b[0m\n",
      "\n",
      "\u001b[0m\u001b[1m\u001b[32mTerraform has been successfully initialized!\u001b[0m\u001b[32m\u001b[0m\n",
      "\u001b[0m\u001b[32m\n",
      "You may now begin working with Terraform. Try running \"terraform plan\" to see\n",
      "any changes that are required for your infrastructure. All Terraform commands\n",
      "should now work.\n",
      "\n",
      "If you ever set or change modules or backend configuration for Terraform,\n",
      "rerun this command to reinitialize your working directory. If you forget, other\n",
      "commands will detect it and remind you to do so if necessary.\u001b[0m\n"
     ]
    }
   ],
   "source": [
    "terraform init"
   ]
  },
  {
   "cell_type": "markdown",
   "id": "8811b8ad",
   "metadata": {},
   "source": [
    "Special folders are created in the terraform directory:"
   ]
  },
  {
   "cell_type": "code",
   "execution_count": 24,
   "id": "6ff688b0",
   "metadata": {
    "vscode": {
     "languageId": "shellscript"
    }
   },
   "outputs": [
    {
     "name": "stdout",
     "output_type": "stream",
     "text": [
      "total 56\n",
      "drwxrwxr-x  3 user user  4096 paź 28 15:53 \u001b[0m\u001b[01;34m.\u001b[0m\n",
      "drwxrwxrwt 25 root root 36864 paź 28 15:53 \u001b[30;42m..\u001b[0m\n",
      "-rw-rw-r--  1 user user   400 paź 28 15:53 main.tf\n",
      "drwxr-xr-x  3 user user  4096 paź 28 15:53 \u001b[01;34m.terraform\u001b[0m\n",
      "-rw-r--r--  1 user user  1337 paź 28 15:53 .terraform.lock.hcl\n"
     ]
    }
   ],
   "source": [
    "ls -la"
   ]
  },
  {
   "cell_type": "markdown",
   "id": "ebc7e5a6",
   "metadata": {},
   "source": [
    "The validation:"
   ]
  },
  {
   "cell_type": "code",
   "execution_count": 14,
   "id": "adb2cdf0",
   "metadata": {
    "vscode": {
     "languageId": "shellscript"
    }
   },
   "outputs": [
    {
     "name": "stdout",
     "output_type": "stream",
     "text": [
      "\u001b[32m\u001b[1mSuccess!\u001b[0m The configuration is valid.\n",
      "\u001b[0m\n"
     ]
    }
   ],
   "source": [
    "terraform validate"
   ]
  },
  {
   "cell_type": "markdown",
   "id": "d4cb5443",
   "metadata": {},
   "source": [
    "The following code applies the configuration. The `-auto-approve` flag removes the terraform prompts to confirm that you want to apply the changes."
   ]
  },
  {
   "cell_type": "code",
   "execution_count": 17,
   "id": "74796bff",
   "metadata": {
    "vscode": {
     "languageId": "shellscript"
    }
   },
   "outputs": [],
   "source": [
    "terraform apply -auto-approve &> /dev/null"
   ]
  },
  {
   "cell_type": "markdown",
   "id": "289c3313",
   "metadata": {},
   "source": [
    "The specified `nginx` container appeared in the docker runtime."
   ]
  },
  {
   "cell_type": "code",
   "execution_count": 18,
   "id": "6f231db5",
   "metadata": {
    "vscode": {
     "languageId": "shellscript"
    }
   },
   "outputs": [
    {
     "name": "stdout",
     "output_type": "stream",
     "text": [
      "CONTAINER ID   IMAGE          COMMAND                  CREATED        STATUS        PORTS                  NAMES\n",
      "e98472d16175   657fdcd1c365   \"/docker-entrypoint.…\"   1 second ago   Up 1 second   0.0.0.0:8000->80/tcp   terraform_example\n"
     ]
    }
   ],
   "source": [
    "docker ps"
   ]
  },
  {
   "cell_type": "markdown",
   "id": "2c516962",
   "metadata": {},
   "source": [
    "The following cell shows that after `terraform apply -destroy` the container deployed by terraform disappered:"
   ]
  },
  {
   "cell_type": "code",
   "execution_count": 25,
   "id": "11cf4351",
   "metadata": {
    "vscode": {
     "languageId": "shellscript"
    }
   },
   "outputs": [
    {
     "name": "stdout",
     "output_type": "stream",
     "text": [
      "CONTAINER ID   IMAGE     COMMAND   CREATED   STATUS    PORTS     NAMES\n"
     ]
    }
   ],
   "source": [
    "terraform apply -auto-approve -destroy &> /dev/null\n",
    "docker ps"
   ]
  }
 ],
 "metadata": {
  "kernelspec": {
   "display_name": "Bash",
   "language": "bash",
   "name": "bash"
  },
  "language_info": {
   "codemirror_mode": "shell",
   "file_extension": ".sh",
   "mimetype": "text/x-sh",
   "name": "bash"
  }
 },
 "nbformat": 4,
 "nbformat_minor": 5
}
