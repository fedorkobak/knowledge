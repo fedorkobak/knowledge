{
 "cells": [
  {
   "cell_type": "markdown",
   "id": "42f79e83",
   "metadata": {},
   "source": [
    "# Terraform\n",
    "\n",
    "With Terraform, you can describe your infrastructure using a special declarative language.\n",
    "\n",
    "The Terraform can manipulate different pieces of software with an API. Each piece of software managed by the Terraform is called a **provider**. A provider could be:\n",
    "\n",
    "- IaaS: AWS/Azure/GCP.\n",
    "- PaaS: K8s.\n",
    "- Specific software: Docker. "
   ]
  },
  {
   "cell_type": "markdown",
   "id": "aa004512",
   "metadata": {},
   "source": [
    "## CLI\n",
    "\n",
    "To manipulate the terraform use special CLI. The basic commands are:\n",
    "\n",
    "- `terraform init`: to init the terraform directory.\n",
    "- `terraform validate`: to check if there are syntax mistakes in your terrform configuration.\n",
    "- `terraform apply`: to apply the configuration.\n",
    "- `terraform destroy`: to unroll the infrastructure."
   ]
  },
  {
   "cell_type": "markdown",
   "id": "fb51a655",
   "metadata": {},
   "source": [
    "---\n",
    "\n",
    "The following cell defines a simple Terraform configuration that deploys an `nginx` image in the Docker runtime."
   ]
  },
  {
   "cell_type": "code",
   "execution_count": 7,
   "id": "bb9da204",
   "metadata": {
    "vscode": {
     "languageId": "shellscript"
    }
   },
   "outputs": [],
   "source": [
    "rm -rf /tmp/terraform\n",
    "mkdir /tmp/terraform\n",
    "cat << EOF > /tmp/terraform/main.tf\n",
    "terraform {\n",
    "  required_providers {\n",
    "    docker = {\n",
    "      source = \"kreuzwerker/docker\"\n",
    "      version = \"~> 3.0.1\"\n",
    "    }\n",
    "  }\n",
    "}\n",
    "\n",
    "provider \"docker\" {}\n",
    "\n",
    "resource \"docker_image\" \"nginx\" {\n",
    "  name         = \"nginx:latest\"\n",
    "  keep_locally = false\n",
    "}\n",
    "\n",
    "resource \"docker_container\" \"nginx\" {\n",
    "  image = docker_image.nginx.image_id\n",
    "  name  = \"terraform_example\"\n",
    "  ports {\n",
    "    internal = 80\n",
    "    external = 8000\n",
    "  }\n",
    "}\n",
    "EOF\n",
    "cd /tmp/terraform"
   ]
  },
  {
   "cell_type": "markdown",
   "id": "dc72aeed",
   "metadata": {},
   "source": [
    "The following cell show the terrafrom initialisation outputs:"
   ]
  },
  {
   "cell_type": "code",
   "execution_count": 8,
   "id": "5fc831c3",
   "metadata": {
    "vscode": {
     "languageId": "shellscript"
    }
   },
   "outputs": [
    {
     "name": "stdout",
     "output_type": "stream",
     "text": [
      "\u001b[0m\u001b[1mInitializing the backend...\u001b[0m\n",
      "\u001b[0m\u001b[1mInitializing provider plugins...\u001b[0m\n",
      "- Finding kreuzwerker/docker versions matching \"~> 3.0.1\"...\n",
      "- Installing kreuzwerker/docker v3.0.2...\n",
      "- Installed kreuzwerker/docker v3.0.2 (self-signed, key ID \u001b[0m\u001b[1mBD080C4571C6104C\u001b[0m\u001b[0m)\n",
      "Partner and community providers are signed by their developers.\n",
      "If you'd like to know more about provider signing, you can read about it here:\n",
      "https://developer.hashicorp.com/terraform/cli/plugins/signing\n",
      "Terraform has created a lock file \u001b[1m.terraform.lock.hcl\u001b[0m to record the provider\n",
      "selections it made above. Include this file in your version control repository\n",
      "so that Terraform can guarantee to make the same selections by default when\n",
      "you run \"terraform init\" in the future.\u001b[0m\n",
      "\n",
      "\u001b[0m\u001b[1m\u001b[32mTerraform has been successfully initialized!\u001b[0m\u001b[32m\u001b[0m\n",
      "\u001b[0m\u001b[32m\n",
      "You may now begin working with Terraform. Try running \"terraform plan\" to see\n",
      "any changes that are required for your infrastructure. All Terraform commands\n",
      "should now work.\n",
      "\n",
      "If you ever set or change modules or backend configuration for Terraform,\n",
      "rerun this command to reinitialize your working directory. If you forget, other\n",
      "commands will detect it and remind you to do so if necessary.\u001b[0m\n"
     ]
    }
   ],
   "source": [
    "terraform init"
   ]
  },
  {
   "cell_type": "markdown",
   "id": "8811b8ad",
   "metadata": {},
   "source": [
    "Special folders are created in the terraform directory:"
   ]
  },
  {
   "cell_type": "code",
   "execution_count": 9,
   "id": "6ff688b0",
   "metadata": {
    "vscode": {
     "languageId": "shellscript"
    }
   },
   "outputs": [
    {
     "name": "stdout",
     "output_type": "stream",
     "text": [
      "total 56\n",
      "drwxrwxr-x  3 user user  4096 paź 29 07:44 \u001b[0m\u001b[01;34m.\u001b[0m\n",
      "drwxrwxrwt 22 root root 36864 paź 29 07:44 \u001b[30;42m..\u001b[0m\n",
      "-rw-rw-r--  1 user user   400 paź 29 07:44 main.tf\n",
      "drwxr-xr-x  3 user user  4096 paź 29 07:44 \u001b[01;34m.terraform\u001b[0m\n",
      "-rw-r--r--  1 user user  1337 paź 29 07:44 .terraform.lock.hcl\n"
     ]
    }
   ],
   "source": [
    "ls -la"
   ]
  },
  {
   "cell_type": "markdown",
   "id": "ebc7e5a6",
   "metadata": {},
   "source": [
    "The validation:"
   ]
  },
  {
   "cell_type": "code",
   "execution_count": 10,
   "id": "adb2cdf0",
   "metadata": {
    "vscode": {
     "languageId": "shellscript"
    }
   },
   "outputs": [
    {
     "name": "stdout",
     "output_type": "stream",
     "text": [
      "\u001b[32m\u001b[1mSuccess!\u001b[0m The configuration is valid.\n",
      "\u001b[0m\n"
     ]
    }
   ],
   "source": [
    "terraform validate"
   ]
  },
  {
   "cell_type": "markdown",
   "id": "d4cb5443",
   "metadata": {},
   "source": [
    "The following code applies the configuration. The `-auto-approve` flag removes the terraform prompts to confirm that you want to apply the changes."
   ]
  },
  {
   "cell_type": "code",
   "execution_count": 11,
   "id": "74796bff",
   "metadata": {
    "vscode": {
     "languageId": "shellscript"
    }
   },
   "outputs": [],
   "source": [
    "terraform apply -auto-approve &> /dev/null"
   ]
  },
  {
   "cell_type": "markdown",
   "id": "289c3313",
   "metadata": {},
   "source": [
    "The specified `nginx` container appeared in the docker runtime."
   ]
  },
  {
   "cell_type": "code",
   "execution_count": 12,
   "id": "6f231db5",
   "metadata": {
    "vscode": {
     "languageId": "shellscript"
    }
   },
   "outputs": [
    {
     "name": "stdout",
     "output_type": "stream",
     "text": [
      "CONTAINER ID   IMAGE          COMMAND                  CREATED         STATUS         PORTS                  NAMES\n",
      "4b2945deff80   9d0e6f6199dc   \"/docker-entrypoint.…\"   2 seconds ago   Up 2 seconds   0.0.0.0:8000->80/tcp   terraform_example\n"
     ]
    }
   ],
   "source": [
    "docker ps"
   ]
  },
  {
   "cell_type": "markdown",
   "id": "2c516962",
   "metadata": {},
   "source": [
    "The following cell shows that after `terraform destroy` the container deployed by terraform disappered:"
   ]
  },
  {
   "cell_type": "code",
   "execution_count": 13,
   "id": "11cf4351",
   "metadata": {
    "vscode": {
     "languageId": "shellscript"
    }
   },
   "outputs": [
    {
     "name": "stdout",
     "output_type": "stream",
     "text": [
      "CONTAINER ID   IMAGE     COMMAND   CREATED   STATUS    PORTS     NAMES\n"
     ]
    }
   ],
   "source": [
    "terraform destroy -auto-approve &> /dev/null\n",
    "docker ps"
   ]
  },
  {
   "cell_type": "markdown",
   "id": "0f216577",
   "metadata": {},
   "source": [
    "## Output\n",
    "\n",
    "The output block can be useful for experimentation purposes, as it allows you to easily print values to stdout."
   ]
  },
  {
   "cell_type": "markdown",
   "id": "fb4b23bc",
   "metadata": {},
   "source": [
    "---\n",
    "\n",
    "The definition of the `\"hello_world` output is shown in the following cell."
   ]
  },
  {
   "cell_type": "code",
   "execution_count": 19,
   "id": "7faf6345",
   "metadata": {
    "vscode": {
     "languageId": "shellscript"
    }
   },
   "outputs": [],
   "source": [
    "rm -rf /tmp/terraform\n",
    "mkdir /tmp/terraform\n",
    "cat << EOF > /tmp/terraform/main.tf\n",
    "output \"hello_world\" {\n",
    "  value = \"Hello, stdout!\"\n",
    "}\n",
    "EOF\n",
    "cd /tmp/terraform\n",
    "terraform init &> /dev/null"
   ]
  },
  {
   "cell_type": "markdown",
   "id": "c52c3046",
   "metadata": {},
   "source": [
    "In such a case, the `terraform apply` will have an `Outputs` section containing the relevant infromation."
   ]
  },
  {
   "cell_type": "code",
   "execution_count": 16,
   "id": "4baeb445",
   "metadata": {
    "vscode": {
     "languageId": "shellscript"
    }
   },
   "outputs": [
    {
     "name": "stdout",
     "output_type": "stream",
     "text": [
      "\n",
      "Changes to Outputs:\n",
      "  \u001b[32m+\u001b[0m\u001b[0m hello_world = \"Hello, stdout!\"\n",
      "\n",
      "You can apply this plan to save these new output values to the Terraform state,\n",
      "without changing any real infrastructure.\n",
      "\u001b[0m\u001b[1m\u001b[32m\n",
      "Apply complete! Resources: 0 added, 0 changed, 0 destroyed.\n",
      "\u001b[0m\u001b[0m\u001b[1m\u001b[32m\n",
      "Outputs:\n",
      "\n",
      "\u001b[0mhello_world = \"Hello, stdout!\"\n"
     ]
    }
   ],
   "source": [
    "terraform apply -auto-approve"
   ]
  },
  {
   "cell_type": "markdown",
   "id": "9af7476d",
   "metadata": {},
   "source": [
    "You can also use the `terraform output` command to simply push the outputs to stdout."
   ]
  },
  {
   "cell_type": "code",
   "execution_count": 18,
   "id": "eb856370",
   "metadata": {
    "vscode": {
     "languageId": "shellscript"
    }
   },
   "outputs": [
    {
     "name": "stdout",
     "output_type": "stream",
     "text": [
      "hello_world = \"Hello, stdout!\"\n"
     ]
    }
   ],
   "source": [
    "terraform output"
   ]
  },
  {
   "cell_type": "markdown",
   "id": "1a698717",
   "metadata": {},
   "source": [
    "## Variables\n",
    "\n",
    "The `variable` allows you to define the variables that can be set using an external configuration. This allows you to parameterise you configuration."
   ]
  },
  {
   "cell_type": "markdown",
   "id": "60e3f4da",
   "metadata": {},
   "source": [
    "---\n",
    "\n",
    "The following cell adds the `variable` parameter and prints its value alongside the output."
   ]
  },
  {
   "cell_type": "code",
   "execution_count": 23,
   "id": "36f7a475",
   "metadata": {
    "vscode": {
     "languageId": "shellscript"
    }
   },
   "outputs": [],
   "source": [
    "rm -rf /tmp/terraform\n",
    "mkdir /tmp/terraform\n",
    "cat << EOF > /tmp/terraform/main.tf\n",
    "variable \"variable\" {\n",
    "  description = \"Value of the name for the Docker container\"\n",
    "  type        = string\n",
    "  default     = \"the value of the variable\"\n",
    "}\n",
    "\n",
    "output \"variable_output\" {\n",
    "  value = var.variable\n",
    "}\n",
    "EOF\n",
    "cd /tmp/terraform\n",
    "terraform init &> /dev/null"
   ]
  },
  {
   "cell_type": "markdown",
   "id": "5b4daf88",
   "metadata": {},
   "source": [
    "The following cell invokes the configuration output."
   ]
  },
  {
   "cell_type": "code",
   "execution_count": 25,
   "id": "9bd4748a",
   "metadata": {
    "vscode": {
     "languageId": "shellscript"
    }
   },
   "outputs": [
    {
     "name": "stdout",
     "output_type": "stream",
     "text": [
      "variable_output = \"the value of the variable\"\n"
     ]
    }
   ],
   "source": [
    "terraform output"
   ]
  },
  {
   "cell_type": "markdown",
   "id": "9b55f2f8",
   "metadata": {},
   "source": [
    "Pass the value you like your configuration to run with to the `terraform apply` command with `-var` parameter."
   ]
  },
  {
   "cell_type": "code",
   "execution_count": 27,
   "id": "4e608f1a",
   "metadata": {
    "vscode": {
     "languageId": "shellscript"
    }
   },
   "outputs": [
    {
     "name": "stdout",
     "output_type": "stream",
     "text": [
      "\n",
      "Changes to Outputs:\n",
      "  \u001b[33m~\u001b[0m\u001b[0m variable_output = \"the value of the variable\" \u001b[33m->\u001b[0m\u001b[0m \"custom value\"\n",
      "\n",
      "You can apply this plan to save these new output values to the Terraform state,\n",
      "without changing any real infrastructure.\n",
      "\u001b[0m\u001b[1m\u001b[32m\n",
      "Apply complete! Resources: 0 added, 0 changed, 0 destroyed.\n",
      "\u001b[0m\u001b[0m\u001b[1m\u001b[32m\n",
      "Outputs:\n",
      "\n",
      "\u001b[0mvariable_output = \"custom value\"\n"
     ]
    }
   ],
   "source": [
    "terraform apply -auto-approve -var \"variable=custom value\""
   ]
  }
 ],
 "metadata": {
  "kernelspec": {
   "display_name": "Bash",
   "language": "bash",
   "name": "bash"
  },
  "language_info": {
   "codemirror_mode": "shell",
   "file_extension": ".sh",
   "mimetype": "text/x-sh",
   "name": "bash"
  }
 },
 "nbformat": 4,
 "nbformat_minor": 5
}
