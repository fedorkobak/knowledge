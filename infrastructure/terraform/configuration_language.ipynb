{
 "cells": [
  {
   "cell_type": "markdown",
   "id": "81dd2f35",
   "metadata": {},
   "source": [
    "# Configuration language\n",
    "\n",
    "The Terraform configuration language is designed to describe the infrastructure. This page considers the details and properties of different blocks."
   ]
  },
  {
   "cell_type": "markdown",
   "id": "ec8b065c",
   "metadata": {},
   "source": [
    "## Output\n",
    "\n",
    "The output block can be useful for experimentation purposes, as it allows you to easily print values to stdout.\n",
    "\n",
    "Check the [output block reference](https://developer.hashicorp.com/terraform/language/block/output)."
   ]
  },
  {
   "cell_type": "markdown",
   "id": "9a95bb87",
   "metadata": {},
   "source": [
    "---\n",
    "\n",
    "The definition of the `\"hello_world` output is shown in the following cell."
   ]
  },
  {
   "cell_type": "code",
   "execution_count": null,
   "id": "3f973cb2",
   "metadata": {
    "vscode": {
     "languageId": "shellscript"
    }
   },
   "outputs": [],
   "source": [
    "rm -rf /tmp/terraform\n",
    "mkdir /tmp/terraform\n",
    "cat << EOF > /tmp/terraform/main.tf\n",
    "output \"hello_world\" {\n",
    "  value = \"Hello, stdout!\"\n",
    "}\n",
    "EOF\n",
    "cd /tmp/terraform\n",
    "terraform init &> /dev/null"
   ]
  },
  {
   "cell_type": "markdown",
   "id": "8f84cad8",
   "metadata": {},
   "source": [
    "In such a case, the `terraform apply` will have an `Outputs` section containing the relevant infromation."
   ]
  },
  {
   "cell_type": "code",
   "execution_count": null,
   "id": "e75d365b",
   "metadata": {
    "vscode": {
     "languageId": "shellscript"
    }
   },
   "outputs": [
    {
     "name": "stdout",
     "output_type": "stream",
     "text": [
      "\n",
      "Changes to Outputs:\n",
      "  \u001b[32m+\u001b[0m\u001b[0m hello_world = \"Hello, stdout!\"\n",
      "\n",
      "You can apply this plan to save these new output values to the Terraform state,\n",
      "without changing any real infrastructure.\n",
      "\u001b[0m\u001b[1m\u001b[32m\n",
      "Apply complete! Resources: 0 added, 0 changed, 0 destroyed.\n",
      "\u001b[0m\u001b[0m\u001b[1m\u001b[32m\n",
      "Outputs:\n",
      "\n",
      "\u001b[0mhello_world = \"Hello, stdout!\"\n"
     ]
    }
   ],
   "source": [
    "terraform apply -auto-approve"
   ]
  },
  {
   "cell_type": "markdown",
   "id": "aebb9aeb",
   "metadata": {},
   "source": [
    "You can also use the `terraform output` command to simply push the outputs to stdout."
   ]
  },
  {
   "cell_type": "code",
   "execution_count": null,
   "id": "db794bbd",
   "metadata": {
    "vscode": {
     "languageId": "shellscript"
    }
   },
   "outputs": [
    {
     "name": "stdout",
     "output_type": "stream",
     "text": [
      "hello_world = \"Hello, stdout!\"\n"
     ]
    }
   ],
   "source": [
    "terraform output"
   ]
  },
  {
   "cell_type": "markdown",
   "id": "6197bc38",
   "metadata": {},
   "source": [
    "## Variables\n",
    "\n",
    "The `variable` allows you to define the variables that can be set using an external configuration. This allows you to parameterise you configuration."
   ]
  },
  {
   "cell_type": "markdown",
   "id": "92bad2e6",
   "metadata": {},
   "source": [
    "---\n",
    "\n",
    "The following cell adds the `variable` parameter and prints its value alongside the output."
   ]
  },
  {
   "cell_type": "code",
   "execution_count": null,
   "id": "eca9088d",
   "metadata": {
    "vscode": {
     "languageId": "shellscript"
    }
   },
   "outputs": [],
   "source": [
    "rm -rf /tmp/terraform\n",
    "mkdir /tmp/terraform\n",
    "cat << EOF > /tmp/terraform/main.tf\n",
    "variable \"variable\" {\n",
    "  description = \"Value of the name for the Docker container\"\n",
    "  type        = string\n",
    "  default     = \"the value of the variable\"\n",
    "}\n",
    "\n",
    "output \"variable_output\" {\n",
    "  value = var.variable\n",
    "}\n",
    "EOF\n",
    "cd /tmp/terraform\n",
    "terraform init &> /dev/null"
   ]
  },
  {
   "cell_type": "markdown",
   "id": "bd15128c",
   "metadata": {},
   "source": [
    "The following cell invokes the configuration output."
   ]
  },
  {
   "cell_type": "code",
   "execution_count": null,
   "id": "d9195aeb",
   "metadata": {
    "vscode": {
     "languageId": "shellscript"
    }
   },
   "outputs": [
    {
     "name": "stdout",
     "output_type": "stream",
     "text": [
      "variable_output = \"the value of the variable\"\n"
     ]
    }
   ],
   "source": [
    "terraform output"
   ]
  },
  {
   "cell_type": "markdown",
   "id": "d307dd94",
   "metadata": {},
   "source": [
    "Pass the value you like your configuration to run with to the `terraform apply` command with `-var` parameter."
   ]
  },
  {
   "cell_type": "code",
   "execution_count": null,
   "id": "3ab52ac4",
   "metadata": {
    "vscode": {
     "languageId": "shellscript"
    }
   },
   "outputs": [
    {
     "name": "stdout",
     "output_type": "stream",
     "text": [
      "\n",
      "Changes to Outputs:\n",
      "  \u001b[33m~\u001b[0m\u001b[0m variable_output = \"the value of the variable\" \u001b[33m->\u001b[0m\u001b[0m \"custom value\"\n",
      "\n",
      "You can apply this plan to save these new output values to the Terraform state,\n",
      "without changing any real infrastructure.\n",
      "\u001b[0m\u001b[1m\u001b[32m\n",
      "Apply complete! Resources: 0 added, 0 changed, 0 destroyed.\n",
      "\u001b[0m\u001b[0m\u001b[1m\u001b[32m\n",
      "Outputs:\n",
      "\n",
      "\u001b[0mvariable_output = \"custom value\"\n"
     ]
    }
   ],
   "source": [
    "terraform apply -auto-approve -var \"variable=custom value\""
   ]
  }
 ],
 "metadata": {
  "language_info": {
   "name": "python"
  }
 },
 "nbformat": 4,
 "nbformat_minor": 5
}
