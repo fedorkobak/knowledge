{
 "cells": [
  {
   "cell_type": "markdown",
   "id": "205aa3b3",
   "metadata": {},
   "source": [
    "# Kubectl\n",
    "\n",
    "The `kubectl` utility is a primary way to interact with k8s cluster.\n",
    "\n",
    "Different k8s resources have slightly different configurations. However, `kubectl` is designed in such a way that different resources often have many features in common. This page addresses the questions about managing the entire cluster with `kubectl`, as well as common details about managing different resource types. It is not always very detailed regarding questions specific to particular resources - there are specific pages for such details. "
   ]
  },
  {
   "cell_type": "markdown",
   "id": "6fb49c3c",
   "metadata": {},
   "source": [
    "## Install&Config\n",
    "\n",
    "Check [installation guide](https://kubernetes.io/docs/tasks/tools/install-kubectl-linux/) for `kubectl`. For me, using the ubuntu option `snap install kubectl --classic` worked well.\n",
    "\n",
    "To enable `TAB` completion add `source` the script printed with `kubectl completion bash`: `source <(kubectl completion bash)`. To enable completion at the start of the shell, add line into `~/.bashrc` file: `echo 'source <(kubectl completion bash)' >> ~/.bashrc`."
   ]
  },
  {
   "cell_type": "markdown",
   "id": "b2d9c9aa",
   "metadata": {},
   "source": [
    "### Config file \n",
    "\n",
    "The behavior of the `kubectl` is typically defined by the configuration file that is located in the `~/.kube/config` directory."
   ]
  },
  {
   "cell_type": "markdown",
   "id": "19fa6e64",
   "metadata": {},
   "source": [
    "---\n",
    "\n",
    "The following cell displays a few lines of the `kubectl` configuration."
   ]
  },
  {
   "cell_type": "code",
   "execution_count": null,
   "id": "476f5882",
   "metadata": {
    "vscode": {
     "languageId": "shellscript"
    }
   },
   "outputs": [
    {
     "name": "stdout",
     "output_type": "stream",
     "text": [
      "apiVersion: v1\n",
      "clusters:\n",
      "- cluster:\n",
      "    certificate-authority: /home/user/.minikube/ca.crt\n",
      "    extensions:\n",
      "    - extension:\n",
      "        last-update: Mon, 13 Oct 2025 09:07:40 CEST\n",
      "        provider: minikube.sigs.k8s.io\n",
      "        version: v1.37.0\n",
      "      name: cluster_info\n"
     ]
    }
   ],
   "source": [
    "cat ~/.kube/config | head -n 10"
   ]
  },
  {
   "cell_type": "markdown",
   "id": "16d44ce3",
   "metadata": {},
   "source": [
    "### Context\n",
    "\n",
    "A k8s [context](kubernetes.io/docs/concepts/configuration/organize-cluster-access-kubeconfig/#context) is a configuration setup under a convenient name. You can switch between different `kubectl` configurations, which provide access to different clusters or different setups for the same cluster.\n",
    "\n",
    "The following table shows useful `kubectl` commands that can be beneficial for managing the context.\n",
    "\n",
    "| Command | Purpose |\n",
    "| :--- | :--- |\n",
    "| `kubectl config current-context` | Displays the name of the context that is currently active. |\n",
    "| `kubectl config get-contexts` | Lists all the contexts defined in your kubeconfig file. |\n",
    "| `kubectl config use-context <name>` | Sets the specified context as the current-context, switching the cluster/user/namespace your commands target. |\n",
    "| `kubectl config set-context <name> --cluster=<cluster> --user=<user> --namespace=<namespace>` | Creates a new context or modifies an existing one to link a specific cluster, user, and/or default namespace. |\n",
    "| `kubectl config delete-context <name>` | Deletes the specified context from your kubeconfig file. |"
   ]
  },
  {
   "cell_type": "markdown",
   "id": "bdb6305e",
   "metadata": {},
   "source": [
    "---\n",
    "\n",
    "Minikube, which is primarily used as an example k8s setup, automatically creates a `kubectl` context for each profile. For example, consider how to select a `kubectl` context from the options provided by `minikube`."
   ]
  },
  {
   "cell_type": "code",
   "execution_count": 2,
   "id": "218fa4ef",
   "metadata": {
    "vscode": {
     "languageId": "shellscript"
    }
   },
   "outputs": [],
   "source": [
    "minikube start --profile one-node &> /dev/null\n",
    "minikube start --profile two-nodes &> /dev/null"
   ]
  },
  {
   "cell_type": "markdown",
   "id": "72a9753c",
   "metadata": {},
   "source": [
    "The following cell shows the available `kubectl` contexts."
   ]
  },
  {
   "cell_type": "code",
   "execution_count": 3,
   "id": "15728f4e",
   "metadata": {
    "vscode": {
     "languageId": "shellscript"
    }
   },
   "outputs": [
    {
     "name": "stdout",
     "output_type": "stream",
     "text": [
      "CURRENT   NAME        CLUSTER     AUTHINFO    NAMESPACE\n",
      "          one-node    one-node    one-node    default\n",
      "*         two-nodes   two-nodes   two-nodes   default\n"
     ]
    }
   ],
   "source": [
    "kubectl config get-contexts"
   ]
  },
  {
   "cell_type": "markdown",
   "id": "c1e6c255",
   "metadata": {},
   "source": [
    "The `two-nodes` context is marked as CURRENT. The following cell switches contexts and displays list of contexts list again."
   ]
  },
  {
   "cell_type": "code",
   "execution_count": 4,
   "id": "a3a19e9d",
   "metadata": {
    "vscode": {
     "languageId": "shellscript"
    }
   },
   "outputs": [
    {
     "name": "stdout",
     "output_type": "stream",
     "text": [
      "Switched to context \"one-node\".\n",
      "CURRENT   NAME        CLUSTER     AUTHINFO    NAMESPACE\n",
      "*         one-node    one-node    one-node    default\n",
      "          two-nodes   two-nodes   two-nodes   default\n"
     ]
    }
   ],
   "source": [
    "kubectl config use-context one-node\n",
    "kubectl config get-contexts"
   ]
  },
  {
   "cell_type": "markdown",
   "id": "4d2e0040",
   "metadata": {},
   "source": [
    "Now there is different context specified as CURRENT."
   ]
  },
  {
   "cell_type": "code",
   "execution_count": 5,
   "id": "11f06d93",
   "metadata": {
    "vscode": {
     "languageId": "shellscript"
    }
   },
   "outputs": [],
   "source": [
    "minikube delete --profile one-node &> /dev/null\n",
    "minikube delete --profile two-nodes &> /dev/null"
   ]
  },
  {
   "cell_type": "markdown",
   "id": "b3359855",
   "metadata": {},
   "source": [
    "## Cluster information\n",
    "\n",
    "The `kubectl cluster-info` command displays the information about the cluster that `kubectl` currently connected to."
   ]
  },
  {
   "cell_type": "code",
   "execution_count": null,
   "id": "6935d4cc",
   "metadata": {
    "vscode": {
     "languageId": "shellscript"
    }
   },
   "outputs": [
    {
     "name": "stdout",
     "output_type": "stream",
     "text": [
      "Kubernetes control plane is running at https://192.168.49.2:8443\n",
      "CoreDNS is running at https://192.168.49.2:8443/api/v1/namespaces/kube-system/services/kube-dns:dns/proxy\n",
      "\n",
      "To further debug and diagnose cluster problems, use 'kubectl cluster-info dump'.\n"
     ]
    }
   ],
   "source": [
    "kubectl cluster-info"
   ]
  },
  {
   "cell_type": "markdown",
   "id": "0f2aa6d6",
   "metadata": {},
   "source": [
    "## Proxy\n",
    "\n",
    "Since `kubectl` is just convenient wrapper around the Kubernetes API, it can communicate with the kubernetes API and allow you to create a locally hosted proxy for it. Use the `kubectl proxy` command for this. "
   ]
  },
  {
   "cell_type": "markdown",
   "id": "f414fd86",
   "metadata": {},
   "source": [
    "---\n",
    "\n",
    "The following cell runs the proxy."
   ]
  },
  {
   "cell_type": "code",
   "execution_count": null,
   "id": "cbed00b8",
   "metadata": {
    "vscode": {
     "languageId": "shellscript"
    }
   },
   "outputs": [
    {
     "name": "stdout",
     "output_type": "stream",
     "text": [
      "[1] 101050\n"
     ]
    }
   ],
   "source": [
    "kubectl proxy &\n",
    "export proxy_pid=$!"
   ]
  },
  {
   "cell_type": "markdown",
   "id": "b6463219",
   "metadata": {},
   "source": [
    "Now you are able to access api:"
   ]
  },
  {
   "cell_type": "code",
   "execution_count": null,
   "id": "b7ffd2ed",
   "metadata": {
    "vscode": {
     "languageId": "shellscript"
    }
   },
   "outputs": [
    {
     "name": "stdout",
     "output_type": "stream",
     "text": [
      "Starting to serve on 127.0.0.1:8001\n",
      "{\n",
      "  \"kind\": \"APIVersions\",\n",
      "  \"versions\": [\n",
      "    \"v1\"\n",
      "  ],\n",
      "  \"serverAddressByClientCIDRs\": [\n",
      "    {\n",
      "      \"clientCIDR\": \"0.0.0.0/0\",\n",
      "      \"serverAddress\": \"192.168.49.2:8443\"\n",
      "    }\n",
      "  ]\n",
      "}\n"
     ]
    }
   ],
   "source": [
    "curl localhost:8001/api"
   ]
  },
  {
   "cell_type": "code",
   "execution_count": null,
   "id": "f9186cd2",
   "metadata": {
    "vscode": {
     "languageId": "shellscript"
    }
   },
   "outputs": [],
   "source": [
    "kill $proxy_pid"
   ]
  },
  {
   "cell_type": "markdown",
   "id": "583559f8",
   "metadata": {},
   "source": [
    "## Display resouces\n",
    "\n",
    "The `kubectl get` command displays given resources. It have subcommands for all resources types. The most common are:\n",
    "\n",
    "| Command                    | Resource Kind   | Description                                                              |\n",
    "| -------------------------- | --------------- | ------------------------------------------------------------------------ |\n",
    "| `kubectl get pods`         | **Pod**         | The smallest deployable unit — runs one or more containers.              |\n",
    "| `kubectl get deployments`  | **Deployment**  | Manages Pods and ReplicaSets; handles rolling updates.                   |\n",
    "| `kubectl get services`     | **Service**     | Exposes a set of Pods on a network endpoint (ClusterIP, NodePort, etc.). |\n",
    "| `kubectl get replicasets`  | **ReplicaSet**  | Ensures a specified number of Pods are running.                          |\n",
    "| `kubectl get daemonsets`   | **DaemonSet**   | Runs one Pod on each (or selected) node.                                 |\n",
    "| `kubectl get statefulsets` | **StatefulSet** | Manages Pods with stable identities (useful for databases).              |\n",
    "| `kubectl get jobs`         | **Job**         | Runs Pods to completion (batch jobs).                                    |\n",
    "| `kubectl get cronjobs`     | **CronJob**     | Schedules Jobs to run periodically.                                      |\n",
    "| `kubectl get nodes`        | **Node**        | Shows the cluster’s worker nodes.                                        |\n",
    "| `kubectl get namespaces`   | **Namespace**   | Lists logical partitions of the cluster.                                 |"
   ]
  },
  {
   "cell_type": "markdown",
   "id": "b83439b6",
   "metadata": {},
   "source": [
    "### Output format\n",
    "\n",
    "The important thing is how you specify the output format. Use the `-o` option followed by the instructions on how to display the output.\n",
    "\n",
    "There following types of instructions:\n",
    "\n",
    "| Format             | Description                                           | Example                                                                       |\n",
    "| ------------------ | ----------------------------------------------------- | ----------------------------------------------------------------------------- |\n",
    "| `wide`             | Adds more columns (e.g., node name, IP).              | `kubectl get pods -o wide`                                                    |\n",
    "| `name`             | Prints only resource names.                           | `kubectl get pods -o name` → `pod/nginx-1234`                                 |\n",
    "| `yaml`             | Full YAML definition (like what’s stored in the API). | `kubectl get pod nginx -o yaml`                                               |\n",
    "| `json`             | Same as above but in JSON.                            | `kubectl get pod nginx -o json`                                               |\n",
    "| `jsonpath`         | Extracts specific fields using JSONPath syntax.       | `kubectl get pods -o jsonpath='{.items[*].metadata.name}'`                    |\n",
    "| `jsonpath-as-json` | Like `jsonpath`, but ensures valid JSON output.       | `kubectl get pods -o jsonpath-as-json='{.items[*].metadata.name}'`            |\n",
    "| `go-template`      | Uses Go templates to define custom output.            | `kubectl get pods -o go-template='{{.items[0].metadata.name}}'`               |\n",
    "| `custom-columns`   | Displays only selected fields as table columns.       | `kubectl get pods -o custom-columns=NAME:.metadata.name,STATUS:.status.phase` |\n"
   ]
  },
  {
   "cell_type": "markdown",
   "id": "a0c6b1d7",
   "metadata": {},
   "source": [
    "---\n",
    "\n",
    "For example, consider the output of the raw `kubectl get pods` command and the configuration option that shows additional information."
   ]
  },
  {
   "cell_type": "code",
   "execution_count": 5,
   "id": "c6cc32be",
   "metadata": {
    "vscode": {
     "languageId": "shellscript"
    }
   },
   "outputs": [],
   "source": [
    "kubectl create deployment temp --image=nginx:1.22.1 --replicas=3 &> /dev/null"
   ]
  },
  {
   "cell_type": "markdown",
   "id": "d2cc9d20",
   "metadata": {},
   "source": [
    "The following cell represents regular output:"
   ]
  },
  {
   "cell_type": "code",
   "execution_count": 7,
   "id": "fa296721",
   "metadata": {
    "vscode": {
     "languageId": "shellscript"
    }
   },
   "outputs": [
    {
     "name": "stdout",
     "output_type": "stream",
     "text": [
      "NAME                    READY   STATUS    RESTARTS   AGE\n",
      "temp-5dcd5945c4-255xn   1/1     Running   0          17s\n",
      "temp-5dcd5945c4-rfvt7   1/1     Running   0          17s\n",
      "temp-5dcd5945c4-rrm9p   1/1     Running   0          17s\n"
     ]
    }
   ],
   "source": [
    "kubectl get pods"
   ]
  },
  {
   "cell_type": "markdown",
   "id": "72eb7be6",
   "metadata": {},
   "source": [
    "The wide output adds some additional columns to the output table."
   ]
  },
  {
   "cell_type": "code",
   "execution_count": 8,
   "id": "ed561eb7",
   "metadata": {
    "vscode": {
     "languageId": "shellscript"
    }
   },
   "outputs": [
    {
     "name": "stdout",
     "output_type": "stream",
     "text": [
      "NAME                    READY   STATUS    RESTARTS   AGE   IP           NODE         NOMINATED NODE   READINESS GATES\n",
      "temp-5dcd5945c4-255xn   1/1     Running   0          34s   10.244.0.4   daemon       <none>           <none>\n",
      "temp-5dcd5945c4-rfvt7   1/1     Running   0          34s   10.244.1.3   daemon-m02   <none>           <none>\n",
      "temp-5dcd5945c4-rrm9p   1/1     Running   0          34s   10.244.2.3   daemon-m03   <none>           <none>\n"
     ]
    }
   ],
   "source": [
    "kubectl get pods -o wide"
   ]
  },
  {
   "cell_type": "code",
   "execution_count": 9,
   "id": "66eb8ebf",
   "metadata": {
    "vscode": {
     "languageId": "shellscript"
    }
   },
   "outputs": [],
   "source": [
    "kubectl delete deployment temp &> /dev/null"
   ]
  },
  {
   "cell_type": "markdown",
   "id": "4f42ce29",
   "metadata": {},
   "source": [
    "## Management types\n",
    "\n",
    "The k8s supports two management types:\n",
    "\n",
    "- The **imperative**: operates directly on live objects in a cluster.\n",
    "- The **declarative**: operates through configuration files that declare the objects.\n",
    "\n",
    "Check more in the [k8s Object Management](https://kubernetes.io/docs/concepts/overview/working-with-objects/object-management/) page of the official documentation."
   ]
  }
 ],
 "metadata": {
  "kernelspec": {
   "display_name": "Bash",
   "language": "bash",
   "name": "bash"
  },
  "language_info": {
   "codemirror_mode": "shell",
   "file_extension": ".sh",
   "mimetype": "text/x-sh",
   "name": "bash"
  }
 },
 "nbformat": 4,
 "nbformat_minor": 5
}
