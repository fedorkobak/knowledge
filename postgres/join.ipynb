{
 "cells": [
  {
   "cell_type": "markdown",
   "id": "33df1e43-4431-4eb1-9a96-a5e532fb6617",
   "metadata": {},
   "source": [
    "# JOIN\n",
    "\n",
    "Join is a keyword that allows you to combine information from different tables. It's really important, but sometimes it's hard to understand, so this whole page is about features and usecases of joins in Postgres SQL.\n",
    "\n",
    "In the following cell, I'm creating a database that will be used for all the examples on this page."
   ]
  },
  {
   "cell_type": "code",
   "execution_count": 56,
   "id": "0cdfeb5a-ccd3-4095-84be-94c48e997097",
   "metadata": {},
   "outputs": [
    {
     "name": "stdout",
     "output_type": "stream",
     "text": [
      "CREATE TABLE\n",
      "INSERT 0 3\n",
      "CREATE TABLE\n",
      "INSERT 0 3\n"
     ]
    }
   ],
   "source": [
    "%%bash\n",
    "docker run -d --rm\\\n",
    "    --name join_example\\\n",
    "    -e POSTGRES_PASSWORD=postgres\\\n",
    "    postgres:15.4 &> /dev/null\n",
    "sleep 5\n",
    "docker exec -i join_example psql -U postgres -d postgres\n",
    "\n",
    "CREATE TABLE latin_letters (\n",
    "    id INT NOT NULL,\n",
    "    some_letter TEXT\n",
    ");\n",
    "INSERT INTO latin_letters (id, some_letter) VALUES\n",
    "(1, 'a'),\n",
    "(2, 'g'),\n",
    "(3, 'c');\n",
    "\n",
    "CREATE TABLE greek_letters (\n",
    "    latin_id INT NOT NULL,\n",
    "    some_letter TEXT\n",
    ");\n",
    "\n",
    "INSERT INTO greek_letters (latin_id, some_letter) VALUES\n",
    "(1, 'alpha'),\n",
    "(2, 'gamma'),\n",
    "(3, 'chi');"
   ]
  },
  {
   "cell_type": "markdown",
   "id": "e06de6c7-8b25-407f-a1a1-311e175c0344",
   "metadata": {},
   "source": [
    "**Note** Remember to close the container when you have finished playing with the examples."
   ]
  },
  {
   "cell_type": "code",
   "execution_count": 55,
   "id": "012dcba9-f6cd-4090-ac89-5b0381fbe77c",
   "metadata": {},
   "outputs": [
    {
     "name": "stdout",
     "output_type": "stream",
     "text": [
      "join_example\n"
     ]
    }
   ],
   "source": [
    "!docker stop join_example"
   ]
  },
  {
   "cell_type": "markdown",
   "id": "88ed42c9-5c3e-4f0b-a7c4-5b365c4e6e27",
   "metadata": {},
   "source": [
    "## Short names\n",
    "\n",
    "You can use short names for the tables involved in the join to make it easier to write code. Just give the new name of the table separated by a space from the original name of the table.\n",
    "\n",
    "In the next cell I set `lat` name for the table `latin_letters` and `gr` name for the table `greek_letters`."
   ]
  },
  {
   "cell_type": "code",
   "execution_count": 58,
   "id": "904022da-0556-4b9c-ab69-95106c401288",
   "metadata": {},
   "outputs": [
    {
     "name": "stdout",
     "output_type": "stream",
     "text": [
      " id | some_letter | latin_id | some_letter \n",
      "----+-------------+----------+-------------\n",
      "  1 | a           |        1 | alpha\n",
      "  2 | g           |        2 | gamma\n",
      "  3 | c           |        3 | chi\n",
      "(3 rows)\n",
      "\n"
     ]
    }
   ],
   "source": [
    "%%bash\n",
    "docker exec -i join_example psql -U postgres -d postgres\n",
    "\n",
    "SELECT * FROM \n",
    "    latin_letters lat\n",
    "    JOIN\n",
    "    greek_letters gr\n",
    "    ON lat.id=gr.latin_id\n",
    ";"
   ]
  }
 ],
 "metadata": {
  "kernelspec": {
   "display_name": "Python 3 (ipykernel)",
   "language": "python",
   "name": "python3"
  },
  "language_info": {
   "codemirror_mode": {
    "name": "ipython",
    "version": 3
   },
   "file_extension": ".py",
   "mimetype": "text/x-python",
   "name": "python",
   "nbconvert_exporter": "python",
   "pygments_lexer": "ipython3",
   "version": "3.10.6"
  }
 },
 "nbformat": 4,
 "nbformat_minor": 5
}
