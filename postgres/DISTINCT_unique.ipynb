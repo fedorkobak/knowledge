{
 "cells": [
  {
   "cell_type": "markdown",
   "id": "fc312d69-42dc-45ea-b8da-1e2545b4c905",
   "metadata": {},
   "source": [
    "# `DISTINCT` unique\n",
    "\n",
    "Using the syntax `SELECT DISTINCT ...` you can get unique values in any column.\n",
    "\n",
    "In the next cell, I create everything I need for the examples in this page."
   ]
  },
  {
   "cell_type": "code",
   "execution_count": 1,
   "id": "66d2512d-e7b8-4c41-b360-ba14c47606d9",
   "metadata": {},
   "outputs": [],
   "source": [
    "%%bash\n",
    "docker run --rm -d\\\n",
    "    -e POSTGRES_PASSWORD=postgres \\\n",
    "    --name sql_DISTINCT_examples \\\n",
    "    postgres:15.4 &> /dev/null\n",
    "sleep 5\n",
    "docker exec -i sql_DISTINCT_examples psql -U postgres -d postgres\n",
    "\n",
    "\\set QUIET on\n",
    "CREATE TABLE non_unique_values(\n",
    "    col1 TEXT,\n",
    "    col2 TEXT\n",
    ");\n",
    "INSERT INTO non_unique_values(col1, col2) VALUES\n",
    "('A', 'X'),\n",
    "('A', 'Y'),\n",
    "('A', 'X'),\n",
    "('B', 'X'),\n",
    "('C', 'Y'),\n",
    "('C', 'Y');\n",
    "\\q"
   ]
  },
  {
   "cell_type": "markdown",
   "id": "1fe6871c-ebc7-461a-aa09-51b696da5c00",
   "metadata": {},
   "source": [
    "The next cell shows the table I will use for examples in this section."
   ]
  },
  {
   "cell_type": "code",
   "execution_count": 18,
   "id": "2ce0133e-a95f-4239-ae77-3ee8769cc4d9",
   "metadata": {},
   "outputs": [
    {
     "data": {
      "text/html": [
       "<b style=\"font-size:120%\">=====Test table=====</b>"
      ],
      "text/plain": [
       "<IPython.core.display.HTML object>"
      ]
     },
     "metadata": {},
     "output_type": "display_data"
    },
    {
     "name": "stdout",
     "output_type": "stream",
     "text": [
      " col1 | col2 \n",
      "------+------\n",
      " A    | X\n",
      " A    | Y\n",
      " A    | X\n",
      " B    | X\n",
      " C    | Y\n",
      " C    | Y\n",
      "(6 rows)\n",
      "\n"
     ]
    }
   ],
   "source": [
    "from IPython.display import HTML\n",
    "display(HTML(\"<b style=\\\"font-size:120%\\\">=====Test table=====</b>\"))\n",
    "!docker exec sql_DISTINCT_examples psql -U postgres -d postgres -c\\\n",
    "\"\\\n",
    "    SELECT * FROM non_unique_values;\\\n",
    "\""
   ]
  },
  {
   "cell_type": "markdown",
   "id": "e8e1a7fb-4982-48e0-82c8-661c9a82262c",
   "metadata": {},
   "source": [
    "**Note** don't forget to stop the container when you finish playing with examples."
   ]
  },
  {
   "cell_type": "code",
   "execution_count": 2,
   "id": "f739e54a-639a-4ba7-88dc-f9ecdf754927",
   "metadata": {
    "scrolled": true
   },
   "outputs": [],
   "source": [
    "!docker stop sql_DISTINCT_examples &> /dev/null"
   ]
  },
  {
   "cell_type": "markdown",
   "id": "268d0833-7354-40a2-aef4-df2a6f639093",
   "metadata": {},
   "source": [
    "## Specific column\n",
    "\n",
    "If you use only one column as the result of a `SELECT`, the unique values of that column will be retrieved."
   ]
  },
  {
   "cell_type": "code",
   "execution_count": 3,
   "id": "8530ca6f-2b7e-4a05-bf0c-fe146b7e9d55",
   "metadata": {},
   "outputs": [
    {
     "name": "stdout",
     "output_type": "stream",
     "text": [
      " col1 \n",
      "------\n",
      " B\n",
      " C\n",
      " A\n",
      "(3 rows)\n",
      "\n"
     ]
    }
   ],
   "source": [
    "%%bash\n",
    "docker exec -i sql_DISTINCT_examples psql -U postgres -d postgres\n",
    "\n",
    "SELECT DISTINCT col1 FROM non_unique_values;\n",
    "\n",
    "\\q"
   ]
  },
  {
   "cell_type": "markdown",
   "id": "876c44b7-4ab2-4c3d-a796-4204a6945bfd",
   "metadata": {},
   "source": [
    "## Columns combination\n",
    "\n",
    "If you use multiple columns as the result of a SELECT, you will get every possible combination of values in the columns once."
   ]
  },
  {
   "cell_type": "code",
   "execution_count": 5,
   "id": "79f71d2e-be99-42e6-b3a3-110b0c10f2c8",
   "metadata": {},
   "outputs": [
    {
     "data": {
      "text/html": [
       "<b style=\"font-size:120%\">=====DISTINCT col1, col2=====</b>"
      ],
      "text/plain": [
       "<IPython.core.display.HTML object>"
      ]
     },
     "metadata": {},
     "output_type": "display_data"
    },
    {
     "name": "stdout",
     "output_type": "stream",
     "text": [
      " col1 | col2 \n",
      "------+------\n",
      " B    | X\n",
      " A    | Y\n",
      " A    | X\n",
      " C    | Y\n",
      "(4 rows)\n",
      "\n"
     ]
    }
   ],
   "source": [
    "display(HTML(\"<b style=\\\"font-size:120%\\\">=====DISTINCT col1, col2=====</b>\"))\n",
    "!docker exec sql_DISTINCT_examples psql -U postgres -d postgres -c\\\n",
    "\"\\\n",
    "    SELECT DISTINCT col1, col2 FROM non_unique_values;\\\n",
    "\""
   ]
  }
 ],
 "metadata": {
  "kernelspec": {
   "display_name": "Python 3 (ipykernel)",
   "language": "python",
   "name": "python3"
  },
  "language_info": {
   "codemirror_mode": {
    "name": "ipython",
    "version": 3
   },
   "file_extension": ".py",
   "mimetype": "text/x-python",
   "name": "python",
   "nbconvert_exporter": "python",
   "pygments_lexer": "ipython3",
   "version": "3.10.6"
  }
 },
 "nbformat": 4,
 "nbformat_minor": 5
}
