{
 "cells": [
  {
   "cell_type": "markdown",
   "id": "82bcd319-4404-4ec7-9aa9-1c60a487024e",
   "metadata": {},
   "source": [
    "# Load tables\n",
    "\n",
    "This page is about how to read information in postgres database."
   ]
  },
  {
   "cell_type": "markdown",
   "id": "8799acde-e0b1-461b-9bf3-a724dbeaf52b",
   "metadata": {},
   "source": [
    "# CSV\n",
    "\n",
    "In this section I will show you how to load information from a csv file. Main source of information was <a href=\"https://www.postgresqltutorial.com/postgresql-tutorial/import-csv-file-into-posgresql-table/\">this page</a>.\n",
    "\n",
    "Long story short:\n",
    "\n",
    "- Create table;\n",
    "- Read \"*.csv\" file using construction \"\""
   ]
  },
  {
   "cell_type": "code",
   "execution_count": 14,
   "id": "02f01e23-504b-4ddf-801f-1da6083b7bab",
   "metadata": {},
   "outputs": [
    {
     "name": "stdout",
     "output_type": "stream",
     "text": [
      "6a6df3f6915572324dc2314a33e3ac76f16c808d6dc117337507375a97c1aaa0\n"
     ]
    }
   ],
   "source": [
    "%%bash\n",
    "docker run -d --rm\\\n",
    "    --name csv_loading_postgres\\\n",
    "    -e POSTGRES_PASSWORD=docker_app\\\n",
    "    -v ./load_tables/CSV/table_clreation.sql:/docker-entrypoint-initdb.d/table_creation.sql\\\n",
    "    postgres:15.4"
   ]
  },
  {
   "cell_type": "code",
   "execution_count": 32,
   "id": "61f91fca-1f09-4f19-8ca4-b6e57f3fc2ce",
   "metadata": {},
   "outputs": [
    {
     "name": "stdout",
     "output_type": "stream",
     "text": [
      "c4515c0b3f5cc4cb4ef0ff99dff10f1304ee4a91a8a6df191f5d0dd568c4b443\n",
      "=====CHECK TABLE=====\n",
      "           List of relations\n",
      " Schema |    Name    | Type  |  Owner   \n",
      "--------+------------+-------+----------\n",
      " public | main_table | table | postgres\n",
      "(1 row)\n",
      "\n"
     ]
    }
   ],
   "source": [
    "%%bash\n",
    "docker run --rm -d\\\n",
    "    -v ./load_tables/CSV/table_creation.sql:/docker-entrypoint-initdb.d/table_creation.sql\\\n",
    "    -e POSTGRES_PASSWORD=docker_app \\\n",
    "    --name init_scripts_example \\\n",
    "    postgres:15.4\n",
    "\n",
    "sleep 5\n",
    "echo \"=====CHECK TABLE=====\"\n",
    "docker exec init_scripts_example bash -c \"psql -U postgres -d postgres -c \\\"\\dt\\\"\"\n",
    "\n",
    "# docker stop  init_scripts_example &> /dev/null"
   ]
  }
 ],
 "metadata": {
  "kernelspec": {
   "display_name": "Python 3 (ipykernel)",
   "language": "python",
   "name": "python3"
  },
  "language_info": {
   "codemirror_mode": {
    "name": "ipython",
    "version": 3
   },
   "file_extension": ".py",
   "mimetype": "text/x-python",
   "name": "python",
   "nbconvert_exporter": "python",
   "pygments_lexer": "ipython3",
   "version": "3.10.6"
  }
 },
 "nbformat": 4,
 "nbformat_minor": 5
}
