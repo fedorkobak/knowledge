{
 "cells": [
  {
   "cell_type": "markdown",
   "id": "83f9d907-7870-45a7-b3fe-3928bdbdb6a9",
   "metadata": {},
   "source": [
    "# Expand array (UNNEST)\n",
    "\n",
    "Sometimes you need to deal with arrays of arrays or more scificly with column that contains arrays in each record."
   ]
  },
  {
   "cell_type": "code",
   "execution_count": null,
   "id": "79919524-dd62-4ad6-9e4d-f0f5ec282a97",
   "metadata": {},
   "outputs": [],
   "source": []
  }
 ],
 "metadata": {
  "kernelspec": {
   "display_name": "Python 3 (ipykernel)",
   "language": "python",
   "name": "python3"
  },
  "language_info": {
   "codemirror_mode": {
    "name": "ipython",
    "version": 3
   },
   "file_extension": ".py",
   "mimetype": "text/x-python",
   "name": "python",
   "nbconvert_exporter": "python",
   "pygments_lexer": "ipython3",
   "version": "3.10.12"
  }
 },
 "nbformat": 4,
 "nbformat_minor": 5
}
