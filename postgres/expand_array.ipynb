{
 "cells": [
  {
   "cell_type": "markdown",
   "id": "83f9d907-7870-45a7-b3fe-3928bdbdb6a9",
   "metadata": {},
   "source": [
    "# Expand array (UNNEST)\n",
    "\n",
    "Sometimes you need to deal with arrays of arrays or, more scientifically, a column containing arrays in each record.\n",
    "\n",
    "So you can easily perform this operation using the `UNNEST(<column>)` syntax after the `SELECT` keyword."
   ]
  },
  {
   "cell_type": "markdown",
   "id": "063549ee-3bc4-4bd0-aa05-286936a77389",
   "metadata": {},
   "source": [
    "## Using example\n",
    "\n",
    "So in the following cell I'll create an example database that will be used in the cells below to show the properties of the keyword `UNNEST`."
   ]
  },
  {
   "cell_type": "code",
   "execution_count": 1,
   "id": "79919524-dd62-4ad6-9e4d-f0f5ec282a97",
   "metadata": {},
   "outputs": [
    {
     "name": "stdout",
     "output_type": "stream",
     "text": [
      "CREATE TABLE\n",
      "INSERT 0 4\n",
      " col1 |  col2   |                    col3                     \n",
      "------+---------+---------------------------------------------\n",
      " A    | {1,2,3} | {hello,fedor}\n",
      " B    | {3,2}   | {test}\n",
      " C    | {3}     | {\"value, with, commas\",\"value with spaces\"}\n",
      " D    | {3,4,5} | {final_element}\n",
      "(4 rows)\n",
      "\n"
     ]
    }
   ],
   "source": [
    "%%bash\n",
    "docker run --rm -d\\\n",
    "    -e POSTGRES_PASSWORD=postgres \\\n",
    "    --name unnest_example_postgres \\\n",
    "    postgres:15.4 &> /dev/null\n",
    "sleep 5\n",
    "docker exec -i unnest_example_postgres psql -U postgres -d postgres\n",
    "\n",
    "CREATE TABLE example_table(\n",
    "    col1 TEXT,\n",
    "    col2 INT[],\n",
    "    col3 TEXT[]\n",
    ");\n",
    "\n",
    "INSERT INTO example_table(col1, col2, col3) VALUES\n",
    "('A', '{1,2,3}', '{\"hello\", \"fedor\"}'),\n",
    "('B', '{3,2}', '{\"test\"}'),\n",
    "('C', '{3}', '{\"value, with, commas\", \"value with spaces\"}'),\n",
    "('D', '{3,4,5}', '{\"final_element\"}');\n",
    "\n",
    "SELECT * FROM example_table;"
   ]
  },
  {
   "cell_type": "markdown",
   "id": "21f84158-2c2f-4729-83cb-fb935c7508c1",
   "metadata": {},
   "source": [
    "**Note** don't forget to stop the container when you've finished playing with it."
   ]
  },
  {
   "cell_type": "code",
   "execution_count": 72,
   "id": "3bd28ba1-f029-425c-a449-589ff6c505c2",
   "metadata": {},
   "outputs": [
    {
     "name": "stdout",
     "output_type": "stream",
     "text": [
      "unnest_example_postgres\n"
     ]
    }
   ],
   "source": [
    "!docker stop unnest_example_postgres"
   ]
  },
  {
   "cell_type": "markdown",
   "id": "59cb9985-b7ca-41c8-aedd-d1854667fbeb",
   "metadata": {},
   "source": [
    "## Basic example\n",
    "\n",
    "So here I just using unnest for some for some arbitrary column. The values of other columns will be duplicated so that each element of the unnested array corresponds to an element that corresponded to the original record."
   ]
  },
  {
   "cell_type": "code",
   "execution_count": 62,
   "id": "57c1b11e-d2cb-4e23-b047-c22ce14a0143",
   "metadata": {},
   "outputs": [
    {
     "name": "stdout",
     "output_type": "stream",
     "text": [
      " col1 | unnest |                    col3                     \n",
      "------+--------+---------------------------------------------\n",
      " A    |      1 | {hello,fedor}\n",
      " A    |      2 | {hello,fedor}\n",
      " A    |      3 | {hello,fedor}\n",
      " B    |      3 | {test}\n",
      " B    |      2 | {test}\n",
      " C    |      3 | {\"value, with, commas\",\"value with spaces\"}\n",
      " D    |      3 | {final_element}\n",
      " D    |      4 | {final_element}\n",
      " D    |      5 | {final_element}\n",
      "(9 rows)\n",
      "\n"
     ]
    }
   ],
   "source": [
    "%%bash\n",
    "docker exec -i unnest_example_postgres psql -U postgres -d postgres\n",
    "\n",
    "SELECT col1, UNNEST(col2), col3 FROM example_table;"
   ]
  },
  {
   "cell_type": "markdown",
   "id": "02a1d3cb-bb60-434a-ad7a-688476de8a44",
   "metadata": {},
   "source": [
    "## Multicolumn unnest\n",
    "\n",
    "Using multiple UNNESTs in the same query leads to unexpected results for me. Not separate records for each combination of array elements, but records with pairwise matches, with skips in case arrays for the same record are of different lengths."
   ]
  },
  {
   "cell_type": "code",
   "execution_count": 60,
   "id": "1e283758-6ff9-46b4-8199-99bf33ca970f",
   "metadata": {},
   "outputs": [
    {
     "name": "stdout",
     "output_type": "stream",
     "text": [
      " col1 | unnest |       unnest        \n",
      "------+--------+---------------------\n",
      " A    |      1 | hello\n",
      " A    |      2 | fedor\n",
      " A    |      3 | \n",
      " B    |      3 | test\n",
      " B    |      2 | \n",
      " C    |      3 | value, with, commas\n",
      " C    |        | value with spaces\n",
      " D    |      3 | final_element\n",
      " D    |      4 | \n",
      " D    |      5 | \n",
      "(10 rows)\n",
      "\n"
     ]
    }
   ],
   "source": [
    "%%bash\n",
    "docker exec -i unnest_example_postgres psql -U postgres -d postgres\n",
    "\n",
    "SELECT col1, UNNEST(col2), UNNEST(col3) FROM example_table;"
   ]
  },
  {
   "cell_type": "markdown",
   "id": "0ef61a79-e2ac-4cf7-b42f-2e63b82311ad",
   "metadata": {},
   "source": [
    "If you want to get a separate record for each combination of unnested values, just use subquery (at least I haven't found a better solution yet).\n",
    "\n",
    "So in the following example, there is a separate record for each combination of values in the corresponding `col2` and `col3` records."
   ]
  },
  {
   "cell_type": "code",
   "execution_count": 3,
   "id": "52700aff-cb5a-420b-a4f7-a1674c008cbb",
   "metadata": {},
   "outputs": [
    {
     "name": "stdout",
     "output_type": "stream",
     "text": [
      " col1 | col2 |       unnest        \n",
      "------+------+---------------------\n",
      " A    |    1 | hello\n",
      " A    |    1 | fedor\n",
      " A    |    2 | hello\n",
      " A    |    2 | fedor\n",
      " A    |    3 | hello\n",
      " A    |    3 | fedor\n",
      " B    |    3 | test\n",
      " B    |    2 | test\n",
      " C    |    3 | value, with, commas\n",
      " C    |    3 | value with spaces\n",
      " D    |    3 | final_element\n",
      " D    |    4 | final_element\n",
      " D    |    5 | final_element\n",
      "(13 rows)\n",
      "\n"
     ]
    }
   ],
   "source": [
    "%%bash\n",
    "docker exec -i unnest_example_postgres psql -U postgres -d postgres\n",
    "\n",
    "SELECT col1, col2, UNNEST(col3)\n",
    "FROM (SELECT \n",
    "        col1, UNNEST(col2) AS col2, col3 \n",
    "    FROM example_table\n",
    ") AS t;"
   ]
  }
 ],
 "metadata": {
  "kernelspec": {
   "display_name": "Python 3 (ipykernel)",
   "language": "python",
   "name": "python3"
  },
  "language_info": {
   "codemirror_mode": {
    "name": "ipython",
    "version": 3
   },
   "file_extension": ".py",
   "mimetype": "text/x-python",
   "name": "python",
   "nbconvert_exporter": "python",
   "pygments_lexer": "ipython3",
   "version": "3.10.12"
  }
 },
 "nbformat": 4,
 "nbformat_minor": 5
}
