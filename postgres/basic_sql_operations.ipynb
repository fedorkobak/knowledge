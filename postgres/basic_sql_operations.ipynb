{
 "cells": [
  {
   "cell_type": "markdown",
   "id": "25abe791-2d00-4036-99bd-7630d9f9483c",
   "metadata": {},
   "source": [
    "# Basic SQL opretations\n",
    "\n",
    "In this section, I'll describe some of the concepts involved in working with basic SQL.\n",
    "\n",
    "**Run container!** The following cell is needed to run all of the following examples. Here I am bringing up a docker container with an experimental database.\n",
    "\n",
    "[This](basic_container_files/init_basic.sql) sql script is used to initialise the database."
   ]
  },
  {
   "cell_type": "code",
   "execution_count": 55,
   "id": "7699f5f0-5e2b-4fac-a0c0-e9d09acf90ac",
   "metadata": {},
   "outputs": [],
   "source": [
    "from IPython.display import HTML\n",
    "\n",
    "!docker run --rm -d\\\n",
    "    -v ./basic_container_files:/docker-entrypoint-initdb.d\\\n",
    "    -e POSTGRES_PASSWORD=postgres \\\n",
    "    --name basic_sql_examples \\\n",
    "    postgres:15.4 &> /dev/null"
   ]
  },
  {
   "cell_type": "markdown",
   "id": "f0eb6902-7778-4297-8423-0a694bb66493",
   "metadata": {},
   "source": [
    "**The table to be used for the experiments.**"
   ]
  },
  {
   "cell_type": "code",
   "execution_count": 49,
   "id": "2ee3da71-a47d-4d5d-9d40-b4da39391076",
   "metadata": {},
   "outputs": [
    {
     "name": "stdout",
     "output_type": "stream",
     "text": [
      " id | text  \n",
      "----+-------\n",
      " 0  | Text1\n",
      " 1  | tExT2\n",
      " 3  | TEXT3\n",
      "(3 rows)\n",
      "\n"
     ]
    }
   ],
   "source": [
    "!docker exec basic_sql_examples\\\n",
    "    psql -U postgres -d postgres -c\\\n",
    "    \"\\\n",
    "        SELECT * FROM simple_table;\\\n",
    "    \""
   ]
  },
  {
   "cell_type": "markdown",
   "id": "36762aa1-b89d-4d85-858b-2c4dcae9eaf5",
   "metadata": {},
   "source": [
    "**Stop container!** After playing with examples, you should turn it off with the following command."
   ]
  },
  {
   "cell_type": "code",
   "execution_count": 54,
   "id": "edf242ee-2fe2-4e77-afb5-c6e78198aae5",
   "metadata": {},
   "outputs": [],
   "source": [
    "!docker stop basic_sql_examples &> /dev/null"
   ]
  },
  {
   "cell_type": "markdown",
   "id": "b5d95638-146e-455f-b667-408929883450",
   "metadata": {
    "jp-MarkdownHeadingCollapsed": true
   },
   "source": [
    "# `DISTINCT` unique\n",
    "\n",
    "Using the syntax `SELECT DISTINCT ...` you can get unique values in any column.\n",
    "\n",
    "The next cell shows the table I will use for examples in this section."
   ]
  },
  {
   "cell_type": "code",
   "execution_count": 52,
   "id": "cbc922ac-858a-441c-bdc5-9ec58bf61ca0",
   "metadata": {},
   "outputs": [
    {
     "data": {
      "text/html": [
       "<b style=\"font-size:120%\">=====Test table=====</b>"
      ],
      "text/plain": [
       "<IPython.core.display.HTML object>"
      ]
     },
     "metadata": {},
     "output_type": "display_data"
    },
    {
     "name": "stdout",
     "output_type": "stream",
     "text": [
      " col1 | col2 \n",
      "------+------\n",
      " A    | X\n",
      " A    | Y\n",
      " A    | X\n",
      " B    | X\n",
      " C    | Y\n",
      " C    | Y\n",
      "(6 rows)\n",
      "\n"
     ]
    }
   ],
   "source": [
    "display(HTML(\"<b style=\\\"font-size:120%\\\">=====Test table=====</b>\"))\n",
    "!docker exec basic_sql_examples psql -U postgres -d postgres -c\\\n",
    "\"\\\n",
    "    SELECT * FROM non_unique_values;\\\n",
    "\""
   ]
  },
  {
   "cell_type": "markdown",
   "id": "fa035b3f-9a07-42d2-bb80-abff026d14d9",
   "metadata": {},
   "source": [
    "## Specific column\n",
    "\n",
    "If you use only one column as the result of a SELECT, the unique values of that column will be retrieved."
   ]
  },
  {
   "cell_type": "code",
   "execution_count": 36,
   "id": "87142cb3-afdc-4a40-8ab7-6070746cf6c6",
   "metadata": {},
   "outputs": [
    {
     "data": {
      "text/html": [
       "<b style=\"font-size:120%\">=====DISTINCT col1=====</b>"
      ],
      "text/plain": [
       "<IPython.core.display.HTML object>"
      ]
     },
     "metadata": {},
     "output_type": "display_data"
    },
    {
     "name": "stdout",
     "output_type": "stream",
     "text": [
      " col1 \n",
      "------\n",
      " B\n",
      " C\n",
      " A\n",
      "(3 rows)\n",
      "\n"
     ]
    }
   ],
   "source": [
    "display(HTML(\"<b style=\\\"font-size:120%\\\">=====DISTINCT col1=====</b>\"))\n",
    "!docker exec basic_sql_examples psql -U postgres -d postgres -c\\\n",
    "\"\\\n",
    "    SELECT DISTINCT col1 FROM non_unique_values;\\\n",
    "\""
   ]
  },
  {
   "cell_type": "markdown",
   "id": "bec1e88c-b483-40ab-80df-f60bddfb12c3",
   "metadata": {},
   "source": [
    "## Columns combination\n",
    "\n",
    "If you use multiple columns as the result of a SELECT, you will get every possible combination of values in the columns once."
   ]
  },
  {
   "cell_type": "code",
   "execution_count": 40,
   "id": "d0298ace-a050-4c75-983a-6ad3dbd78f28",
   "metadata": {},
   "outputs": [
    {
     "data": {
      "text/html": [
       "<b style=\"font-size:120%\">=====DISTINCT col1, col2=====</b>"
      ],
      "text/plain": [
       "<IPython.core.display.HTML object>"
      ]
     },
     "metadata": {},
     "output_type": "display_data"
    },
    {
     "name": "stdout",
     "output_type": "stream",
     "text": [
      " col1 | col2 \n",
      "------+------\n",
      "      | Y\n",
      "      | X\n",
      " C    | 3\n",
      " B    | X\n",
      " A    | \n",
      " A    | Y\n",
      " A    | X\n",
      " A    | 1\n",
      " A    | 2\n",
      " C    | Y\n",
      "(10 rows)\n",
      "\n"
     ]
    }
   ],
   "source": [
    "display(HTML(\"<b style=\\\"font-size:120%\\\">=====DISTINCT col1, col2=====</b>\"))\n",
    "!docker exec basic_sql_examples psql -U postgres -d postgres -c\\\n",
    "\"\\\n",
    "    SELECT DISTINCT col1, col2 FROM non_unique_values;\\\n",
    "\""
   ]
  },
  {
   "cell_type": "markdown",
   "id": "8cdc137e-db49-4b05-aa21-8a41d75e568b",
   "metadata": {},
   "source": [
    "# NULL conditions\n",
    "\n",
    "It's a really common task to find records with empty values, or vice versa, to find records where all the information is available.\n",
    "\n",
    "In the next cell, I'll show the table I'm going to use as an example.\n",
    "\n",
    "**Note** `psql` show `NULL` values just as empty places."
   ]
  },
  {
   "cell_type": "code",
   "execution_count": 56,
   "id": "23b7c670-8f3d-4087-8459-cf403d1133d3",
   "metadata": {},
   "outputs": [
    {
     "name": "stdout",
     "output_type": "stream",
     "text": [
      " col1 | col2 \n",
      "------+------\n",
      " A    |     \n",
      " A    |    1\n",
      " A    |    2\n",
      "      |    1\n",
      " C    |    3\n",
      "      |    4\n",
      "(6 rows)\n",
      "\n"
     ]
    }
   ],
   "source": [
    "!docker exec basic_sql_examples psql -U postgres -d postgres -c\\\n",
    "\"\\\n",
    "    SELECT col1, col2 FROM table_with_nulls;\\\n",
    "\""
   ]
  },
  {
   "cell_type": "markdown",
   "id": "4f75732d-d94c-4d9b-8caf-b5f8acb20520",
   "metadata": {},
   "source": [
    "## `IS NULL`\n",
    "\n",
    "By using `<column name> IS NULL` in the `WHERE` block, you can select records with empty values in a particular column.\n",
    "\n",
    "In the following example I `SELECT` only values with `NULL` values in `col1`."
   ]
  },
  {
   "cell_type": "code",
   "execution_count": 57,
   "id": "1dfed95e-dd6d-45ea-a534-2eaf502f9ea0",
   "metadata": {},
   "outputs": [
    {
     "name": "stdout",
     "output_type": "stream",
     "text": [
      " col1 | col2 \n",
      "------+------\n",
      "      |    1\n",
      "      |    4\n",
      "(2 rows)\n",
      "\n"
     ]
    }
   ],
   "source": [
    "!docker exec basic_sql_examples psql -U postgres -d postgres -c\\\n",
    "\"\\\n",
    "    SELECT col1, col2 \\\n",
    "    FROM table_with_nulls\\\n",
    "    WHERE col1 IS NULL;\\\n",
    "\""
   ]
  },
  {
   "cell_type": "markdown",
   "id": "e29dd9a7-b97d-4ea5-9dfd-06628d51afac",
   "metadata": {},
   "source": [
    "## `IS NOT NULL`\n",
    "\n",
    "By using `<column name> IS NOT NULL` in the `WHERE` block, you can select records with filled values in a particular column.\n",
    "\n",
    "In the following example I `SELECT` only values that hase something in `col1`."
   ]
  },
  {
   "cell_type": "code",
   "execution_count": 60,
   "id": "98f32644-faf4-4e3e-821f-1f3185ee5a85",
   "metadata": {},
   "outputs": [
    {
     "name": "stdout",
     "output_type": "stream",
     "text": [
      " col1 | col2 \n",
      "------+------\n",
      " A    |     \n",
      " A    |    1\n",
      " A    |    2\n",
      " C    |    3\n",
      "(4 rows)\n",
      "\n"
     ]
    }
   ],
   "source": [
    "!docker exec basic_sql_examples psql -U postgres -d postgres -c\\\n",
    "\"\\\n",
    "    SELECT col1, col2 \\\n",
    "    FROM table_with_nulls\\\n",
    "    WHERE col1 IS NOT NULL;\\\n",
    "\""
   ]
  },
  {
   "cell_type": "markdown",
   "id": "1dcbc3d5-d0bf-474b-be6f-46e04be54a81",
   "metadata": {
    "jp-MarkdownHeadingCollapsed": true
   },
   "source": [
    "# Columns names\n",
    "\n",
    "To get names of all columns you should use `SELECT column_name FROM information_schema.columns WHERE table_name=`. Just like in following example:"
   ]
  },
  {
   "cell_type": "code",
   "execution_count": 3,
   "id": "2f4ed4bb-1cdd-4457-9db5-3e29c91d0173",
   "metadata": {},
   "outputs": [
    {
     "name": "stdout",
     "output_type": "stream",
     "text": [
      " column_name \n",
      "-------------\n",
      " id\n",
      " text\n",
      "(2 rows)\n",
      "\n"
     ]
    }
   ],
   "source": [
    "!docker exec basic_sql_examples psql -U postgres -d postgres -c\\\n",
    "\"\\\n",
    "    SELECT column_name\\\n",
    "    FROM information_schema.columns\\\n",
    "    WHERE table_name = 'simple_table';\\\n",
    "\""
   ]
  },
  {
   "cell_type": "markdown",
   "id": "8e1fc30e-1379-4b34-9c75-c1bb00369901",
   "metadata": {
    "jp-MarkdownHeadingCollapsed": true
   },
   "source": [
    "# Count raws\n",
    "\n",
    "To get counts of observations in table you can use command: `SELECT COUNT(*) FROM <table_name>`."
   ]
  },
  {
   "cell_type": "code",
   "execution_count": 6,
   "id": "6b2c8757-4cbb-481c-9362-de2c81a97a24",
   "metadata": {},
   "outputs": [
    {
     "name": "stdout",
     "output_type": "stream",
     "text": [
      " count \n",
      "-------\n",
      "     3\n",
      "(1 row)\n",
      "\n"
     ]
    }
   ],
   "source": [
    "!docker exec basic_sql_examples psql -U postgres -d postgres -c\\\n",
    "\"SELECT COUNT(*) FROM simple_table\""
   ]
  }
 ],
 "metadata": {
  "kernelspec": {
   "display_name": "Python 3 (ipykernel)",
   "language": "python",
   "name": "python3"
  },
  "language_info": {
   "codemirror_mode": {
    "name": "ipython",
    "version": 3
   },
   "file_extension": ".py",
   "mimetype": "text/x-python",
   "name": "python",
   "nbconvert_exporter": "python",
   "pygments_lexer": "ipython3",
   "version": "3.10.6"
  }
 },
 "nbformat": 4,
 "nbformat_minor": 5
}
