{
 "cells": [
  {
   "cell_type": "markdown",
   "id": "25abe791-2d00-4036-99bd-7630d9f9483c",
   "metadata": {},
   "source": [
    "# Basic SQL opretations\n",
    "\n",
    "In this section, I'll describe some of the concepts involved in working with basic SQL.\n",
    "\n",
    "**Run container!** The following cell is needed to run all of the following examples.\n",
    "\n",
    "[This](basic_container_files/init_basic.sql) sql script is used to initialise the database."
   ]
  },
  {
   "cell_type": "code",
   "execution_count": 11,
   "id": "7699f5f0-5e2b-4fac-a0c0-e9d09acf90ac",
   "metadata": {},
   "outputs": [],
   "source": [
    "from IPython.display import HTML\n",
    "\n",
    "!docker run --rm -d\\\n",
    "    -v ./basic_container_files:/docker-entrypoint-initdb.d\\\n",
    "    -e POSTGRES_PASSWORD=docker_app \\\n",
    "    --name basic_sql_examples \\\n",
    "    postgres:15.4 &> /dev/null"
   ]
  },
  {
   "cell_type": "markdown",
   "id": "f0eb6902-7778-4297-8423-0a694bb66493",
   "metadata": {},
   "source": [
    "**The table to be used for the experiments.**"
   ]
  },
  {
   "cell_type": "code",
   "execution_count": 8,
   "id": "2ee3da71-a47d-4d5d-9d40-b4da39391076",
   "metadata": {},
   "outputs": [
    {
     "name": "stdout",
     "output_type": "stream",
     "text": [
      " id | text  \n",
      "----+-------\n",
      " 0  | Text1\n",
      " 1  | tExT2\n",
      " 3  | TEXT3\n",
      "(3 rows)\n",
      "\n"
     ]
    }
   ],
   "source": [
    "!docker exec basic_sql_examples\\\n",
    "    psql -U postgres -d postgres -c\\\n",
    "    \"\\\n",
    "        SELECT * FROM simple_table;\\\n",
    "    \""
   ]
  },
  {
   "cell_type": "markdown",
   "id": "36762aa1-b89d-4d85-858b-2c4dcae9eaf5",
   "metadata": {},
   "source": [
    "**Stop container!** After playing with examples, you should turn it off with the following command."
   ]
  },
  {
   "cell_type": "code",
   "execution_count": 3,
   "id": "edf242ee-2fe2-4e77-afb5-c6e78198aae5",
   "metadata": {},
   "outputs": [
    {
     "name": "stdout",
     "output_type": "stream",
     "text": [
      "basic_sql_examples\n"
     ]
    }
   ],
   "source": [
    "!docker stop basic_sql_examples"
   ]
  },
  {
   "cell_type": "markdown",
   "id": "b5d95638-146e-455f-b667-408929883450",
   "metadata": {},
   "source": [
    "# `DISTINCT` unique\n",
    "\n",
    "Using the syntax `SELECT DISTINCT ...` you can get unique values in any column.\n",
    "\n",
    "The next cell shows the table I will use for examples in this section."
   ]
  },
  {
   "cell_type": "code",
   "execution_count": 18,
   "id": "cbc922ac-858a-441c-bdc5-9ec58bf61ca0",
   "metadata": {},
   "outputs": [
    {
     "data": {
      "text/html": [
       "<b style=\"font-size:120%\">=====Test table=====</b>"
      ],
      "text/plain": [
       "<IPython.core.display.HTML object>"
      ]
     },
     "metadata": {},
     "output_type": "display_data"
    },
    {
     "name": "stdout",
     "output_type": "stream",
     "text": [
      " col1 | col2 \n",
      "------+------\n",
      " A    | X\n",
      " A    | Y\n",
      " A    | X\n",
      " B    | X\n",
      " C    | Y\n",
      " C    | Y\n",
      "(6 rows)\n",
      "\n"
     ]
    }
   ],
   "source": [
    "display(HTML(\"<b style=\\\"font-size:120%\\\">=====Test table=====</b>\"))\n",
    "!docker exec basic_sql_examples psql -U postgres -d postgres -c\\\n",
    "\"\\\n",
    "    SELECT * FROM non_unique_values;\\\n",
    "\""
   ]
  },
  {
   "cell_type": "markdown",
   "id": "fa035b3f-9a07-42d2-bb80-abff026d14d9",
   "metadata": {},
   "source": [
    "## Specific column\n",
    "\n",
    "If you use only one column as the result of a SELECT, the unique values of that column will be retrieved."
   ]
  },
  {
   "cell_type": "code",
   "execution_count": 20,
   "id": "87142cb3-afdc-4a40-8ab7-6070746cf6c6",
   "metadata": {},
   "outputs": [
    {
     "data": {
      "text/html": [
       "<b style=\"font-size:120%\">=====DISTINCT col1=====</b>"
      ],
      "text/plain": [
       "<IPython.core.display.HTML object>"
      ]
     },
     "metadata": {},
     "output_type": "display_data"
    },
    {
     "name": "stdout",
     "output_type": "stream",
     "text": [
      " col1 \n",
      "------\n",
      " B\n",
      " C\n",
      " A\n",
      "(3 rows)\n",
      "\n"
     ]
    }
   ],
   "source": [
    "display(HTML(\"<b style=\\\"font-size:120%\\\">=====DISTINCT col1=====</b>\"))\n",
    "!docker exec basic_sql_examples psql -U postgres -d postgres -c\\\n",
    "\"\\\n",
    "    SELECT DISTINCT col1 FROM non_unique_values;\\\n",
    "\""
   ]
  },
  {
   "cell_type": "markdown",
   "id": "bec1e88c-b483-40ab-80df-f60bddfb12c3",
   "metadata": {},
   "source": [
    "## Columns combination\n",
    "\n",
    "If you use multiple columns as the result of a SELECT, you will get every possible combination of values in the columns once."
   ]
  },
  {
   "cell_type": "code",
   "execution_count": 21,
   "id": "d0298ace-a050-4c75-983a-6ad3dbd78f28",
   "metadata": {},
   "outputs": [
    {
     "data": {
      "text/html": [
       "<b style=\"font-size:120%\">=====DISTINCT col1=====</b>"
      ],
      "text/plain": [
       "<IPython.core.display.HTML object>"
      ]
     },
     "metadata": {},
     "output_type": "display_data"
    },
    {
     "name": "stdout",
     "output_type": "stream",
     "text": [
      " col1 | col2 \n",
      "------+------\n",
      " B    | X\n",
      " A    | Y\n",
      " A    | X\n",
      " C    | Y\n",
      "(4 rows)\n",
      "\n"
     ]
    }
   ],
   "source": [
    "display(HTML(\"<b style=\\\"font-size:120%\\\">=====DISTINCT col1=====</b>\"))\n",
    "!docker exec basic_sql_examples psql -U postgres -d postgres -c\\\n",
    "\"\\\n",
    "    SELECT DISTINCT col1, col2 FROM non_unique_values;\\\n",
    "\""
   ]
  },
  {
   "cell_type": "markdown",
   "id": "1dcbc3d5-d0bf-474b-be6f-46e04be54a81",
   "metadata": {},
   "source": [
    "# Columns names\n",
    "\n",
    "To get names of all columns you should use `SELECT column_name FROM information_schema.columns WHERE table_name=`. Just like in following example:"
   ]
  },
  {
   "cell_type": "code",
   "execution_count": 3,
   "id": "2f4ed4bb-1cdd-4457-9db5-3e29c91d0173",
   "metadata": {},
   "outputs": [
    {
     "name": "stdout",
     "output_type": "stream",
     "text": [
      " column_name \n",
      "-------------\n",
      " id\n",
      " text\n",
      "(2 rows)\n",
      "\n"
     ]
    }
   ],
   "source": [
    "!docker exec basic_sql_examples psql -U postgres -d postgres -c\\\n",
    "\"\\\n",
    "    SELECT column_name\\\n",
    "    FROM information_schema.columns\\\n",
    "    WHERE table_name = 'simple_table';\\\n",
    "\""
   ]
  },
  {
   "cell_type": "markdown",
   "id": "8e1fc30e-1379-4b34-9c75-c1bb00369901",
   "metadata": {},
   "source": [
    "# Count raws\n",
    "\n",
    "To get counts of observations in table you can use command: `SELECT COUNT(*) FROM <table_name>`."
   ]
  },
  {
   "cell_type": "code",
   "execution_count": 6,
   "id": "6b2c8757-4cbb-481c-9362-de2c81a97a24",
   "metadata": {},
   "outputs": [
    {
     "name": "stdout",
     "output_type": "stream",
     "text": [
      " count \n",
      "-------\n",
      "     3\n",
      "(1 row)\n",
      "\n"
     ]
    }
   ],
   "source": [
    "!docker exec basic_sql_examples psql -U postgres -d postgres -c\\\n",
    "\"SELECT COUNT(*) FROM simple_table\""
   ]
  }
 ],
 "metadata": {
  "kernelspec": {
   "display_name": "Python 3 (ipykernel)",
   "language": "python",
   "name": "python3"
  },
  "language_info": {
   "codemirror_mode": {
    "name": "ipython",
    "version": 3
   },
   "file_extension": ".py",
   "mimetype": "text/x-python",
   "name": "python",
   "nbconvert_exporter": "python",
   "pygments_lexer": "ipython3",
   "version": "3.10.6"
  }
 },
 "nbformat": 4,
 "nbformat_minor": 5
}
