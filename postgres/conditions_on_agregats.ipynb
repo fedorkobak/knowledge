{
 "cells": [
  {
   "cell_type": "markdown",
   "id": "0069904c-c8bf-4db8-99e2-6df59a03e18f",
   "metadata": {},
   "source": [
    "# Conditions on agregats"
   ]
  },
  {
   "cell_type": "markdown",
   "id": "e459c26d-c963-48f0-91b1-8915df46632b",
   "metadata": {},
   "source": [
    "In the next cell, I create everything I need for the examples in this page."
   ]
  },
  {
   "cell_type": "code",
   "execution_count": 12,
   "id": "21a57392-1718-4d12-91cd-2a0c58f6afda",
   "metadata": {},
   "outputs": [
    {
     "name": "stdout",
     "output_type": "stream",
     "text": [
      "CREATE TABLE\n",
      "INSERT 0 6\n"
     ]
    }
   ],
   "source": [
    "%%bash\n",
    "docker run --rm -d\\\n",
    "    -e POSTGRES_PASSWORD=postgres \\\n",
    "    --name cond_on_agregats_example \\\n",
    "    postgres:15.4 &> /dev/null\n",
    "sleep 5\n",
    "docker exec -i cond_on_agregats_example psql -U postgres -d postgres\n",
    "\n",
    "CREATE TABLE aggregation_table(\n",
    "    col1 TEXT,\n",
    "    col2 INT\n",
    ");\n",
    "INSERT INTO aggregation_table(col1, col2) VALUES\n",
    "('A', 5),\n",
    "('A', 1),\n",
    "('B', 2),\n",
    "('B', 1),\n",
    "('C', 3),\n",
    "('C', 4);"
   ]
  },
  {
   "cell_type": "markdown",
   "id": "a01def62-bd36-493d-8357-298c49a4a594",
   "metadata": {},
   "source": [
    "**Note** don't forget to stop the container when you finish playing with examples."
   ]
  },
  {
   "cell_type": "code",
   "execution_count": 28,
   "id": "6c389069-5d3b-4033-b56d-3e8ec6e675e8",
   "metadata": {
    "scrolled": true
   },
   "outputs": [],
   "source": [
    "!docker stop cond_on_agregats_example &> /dev/null"
   ]
  },
  {
   "cell_type": "markdown",
   "id": "3505430f-2c9f-433a-899d-3c7afe27e687",
   "metadata": {},
   "source": [
    "Let's begin with the view of the example table."
   ]
  },
  {
   "cell_type": "code",
   "execution_count": 13,
   "id": "949c04bb-702d-40a4-b04a-4a3c147ca92e",
   "metadata": {},
   "outputs": [
    {
     "name": "stdout",
     "output_type": "stream",
     "text": [
      " col1 | col2 \n",
      "------+------\n",
      " A    |    5\n",
      " A    |    1\n",
      " B    |    2\n",
      " B    |    1\n",
      " C    |    3\n",
      " C    |    4\n",
      "(6 rows)\n",
      "\n"
     ]
    }
   ],
   "source": [
    "%%bash \n",
    "docker exec -i cond_on_agregats_example psql -U postgres -d postgres\n",
    "\n",
    "SELECT * FROM aggregation_table;"
   ]
  },
  {
   "cell_type": "markdown",
   "id": "55d13655-1154-4193-a399-18db3880fdde",
   "metadata": {},
   "source": [
    "Now a problem: I need to aggregate `SUM(col2)` by the values of `col1` and I only get the results where the sums are greater than 5. So **I need to set a condition on a result of the aggregation.**"
   ]
  },
  {
   "cell_type": "markdown",
   "id": "51aefddd-757c-4696-ae6d-47753e38aa3c",
   "metadata": {},
   "source": [
    "## Won't work\n",
    "\n",
    "The first thing that comes to mind is to use the arger functions inside the `WHERE` block. This will cause an error because the WHERE block in sql is executed before all aggregations."
   ]
  },
  {
   "cell_type": "code",
   "execution_count": 14,
   "id": "597551b2-e17f-47e6-a0b7-e07e77e32d46",
   "metadata": {},
   "outputs": [
    {
     "name": "stderr",
     "output_type": "stream",
     "text": [
      "ERROR:  aggregate functions are not allowed in WHERE\n",
      "LINE 2: FROM aggregation_table WHERE SUM(col2) > 5\n",
      "                                     ^\n"
     ]
    }
   ],
   "source": [
    "%%bash \n",
    "docker exec -i cond_on_agregats_example psql -U postgres -d postgres\n",
    "\n",
    "SELECT col1, SUM(col2)\n",
    "FROM aggregation_table WHERE SUM(col2) > 5\n",
    "GROUP BY col1;"
   ]
  },
  {
   "cell_type": "markdown",
   "id": "12c4859b-6f8a-4936-ab8b-845acfd39a28",
   "metadata": {},
   "source": [
    "## Subquery\n",
    "\n",
    "A possible but **not optimal solution** is to use aggregation in the subquery and then describe the condition on the aggregation in the external query.\n",
    "\n",
    "In the following example, I just solve the problem mentioned at the beginning of the page using this path."
   ]
  },
  {
   "cell_type": "code",
   "execution_count": 15,
   "id": "fc901cb9-7538-47fb-ad53-c85d39f19870",
   "metadata": {},
   "outputs": [
    {
     "name": "stdout",
     "output_type": "stream",
     "text": [
      " col1 | sum \n",
      "------+-----\n",
      " C    |   7\n",
      " A    |   6\n",
      "(2 rows)\n",
      "\n"
     ]
    }
   ],
   "source": [
    "%%bash \n",
    "docker exec -i cond_on_agregats_example psql -U postgres -d postgres\n",
    "\n",
    "SELECT * FROM (\n",
    "    SELECT col1, SUM(col2)\n",
    "    FROM aggregation_table\n",
    "    GROUP BY col1\n",
    ") AS tab1\n",
    "WHERE sum > 5;"
   ]
  },
  {
   "cell_type": "markdown",
   "id": "f61c046f-1399-4c1a-885d-9acf8db790ed",
   "metadata": {},
   "source": [
    "## `HAVING`\n",
    "\n",
    "There's a special keyword for describing these cases: `HAVING`, which is the same as `WHERE`, but for aggregates. **It's the optimal way to solve such a task.**\n",
    "\n",
    "You have to use `HAVING` after `GROUP BY` satement.\n",
    "\n",
    "In the following example, I just solve the problem mentioned at the beginning of the page using this path."
   ]
  },
  {
   "cell_type": "code",
   "execution_count": 19,
   "id": "b0b05556-51e1-44de-9085-d82be8c54f16",
   "metadata": {},
   "outputs": [
    {
     "name": "stdout",
     "output_type": "stream",
     "text": [
      " col1 | sum \n",
      "------+-----\n",
      " C    |   7\n",
      " A    |   6\n",
      "(2 rows)\n",
      "\n"
     ]
    }
   ],
   "source": [
    "%%bash \n",
    "docker exec -i cond_on_agregats_example psql -U postgres -d postgres\n",
    "\n",
    "SELECT col1, SUM(col2)\n",
    "FROM aggregation_table\n",
    "GROUP BY col1\n",
    "HAVING SUM(col2) > 5;"
   ]
  },
  {
   "cell_type": "markdown",
   "id": "620a1f19-c8aa-4299-9e67-3f35fb8a9604",
   "metadata": {},
   "source": [
    "**Note** You can also use conditions on aggregates not mentioned in the `SELECT` statement. So in the next cell I got sums of `col2` by `col1`, but only for cases where the average of `col2` by `col1` is greater than 3."
   ]
  },
  {
   "cell_type": "code",
   "execution_count": 25,
   "id": "f5f40823-4778-4b6f-97eb-4c45189ae647",
   "metadata": {},
   "outputs": [
    {
     "name": "stdout",
     "output_type": "stream",
     "text": [
      " col1 | sum \n",
      "------+-----\n",
      " C    |   7\n",
      "(1 row)\n",
      "\n"
     ]
    }
   ],
   "source": [
    "%%bash \n",
    "docker exec -i cond_on_agregats_example psql -U postgres -d postgres\n",
    "\n",
    "SELECT col1, SUM(col2)\n",
    "FROM aggregation_table\n",
    "GROUP BY col1\n",
    "HAVING AVG(col2) > 3;"
   ]
  },
  {
   "cell_type": "markdown",
   "id": "3440377f-7258-4bcd-b75b-c7196021258d",
   "metadata": {},
   "source": [
    "**Note** You can use aggregation variables in conditions. So in the following example I got sums of `col2` only for certain values of `col1`."
   ]
  },
  {
   "cell_type": "code",
   "execution_count": 27,
   "id": "fc7316fe-2310-4f48-a499-5222e6360f28",
   "metadata": {},
   "outputs": [
    {
     "name": "stdout",
     "output_type": "stream",
     "text": [
      " col1 | sum \n",
      "------+-----\n",
      " B    |   3\n",
      " A    |   6\n",
      "(2 rows)\n",
      "\n"
     ]
    }
   ],
   "source": [
    "%%bash \n",
    "docker exec -i cond_on_agregats_example psql -U postgres -d postgres\n",
    "\n",
    "SELECT col1, SUM(col2)\n",
    "FROM aggregation_table\n",
    "GROUP BY col1\n",
    "HAVING col1 IN ('A', 'B');"
   ]
  }
 ],
 "metadata": {
  "kernelspec": {
   "display_name": "Python 3 (ipykernel)",
   "language": "python",
   "name": "python3"
  },
  "language_info": {
   "codemirror_mode": {
    "name": "ipython",
    "version": 3
   },
   "file_extension": ".py",
   "mimetype": "text/x-python",
   "name": "python",
   "nbconvert_exporter": "python",
   "pygments_lexer": "ipython3",
   "version": "3.10.12"
  }
 },
 "nbformat": 4,
 "nbformat_minor": 5
}
