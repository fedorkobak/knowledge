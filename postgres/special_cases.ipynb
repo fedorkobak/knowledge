{
 "cells": [
  {
   "cell_type": "markdown",
   "id": "25abe791-2d00-4036-99bd-7630d9f9483c",
   "metadata": {},
   "source": [
    "# Special cases\n",
    "\n",
    "In this section, I'll describe some common tasks associated with posgres and their solutions.\n",
    "\n",
    "The following cell creates all needed for examples in this page."
   ]
  },
  {
   "cell_type": "code",
   "execution_count": 6,
   "id": "ca5c30c6-64fe-48bd-96a0-c29f03017cd7",
   "metadata": {},
   "outputs": [
    {
     "name": "stdout",
     "output_type": "stream",
     "text": [
      "CREATE TABLE\n",
      "INSERT 0 3\n"
     ]
    }
   ],
   "source": [
    "%%bash\n",
    "docker run --rm -d\\\n",
    "    -e POSTGRES_PASSWORD=postgres \\\n",
    "    --name special_cases \\\n",
    "    postgres:15.4 &> /dev/null\n",
    "sleep 5\n",
    "docker exec -i special_cases psql -U postgres -d postgres\n",
    "\n",
    "CREATE TABLE simple_table(\n",
    "    id TEXT NOT NULL,\n",
    "    text TEXT NOT NULL\n",
    ");\n",
    "INSERT INTO simple_table (id, text) VALUES\n",
    "(0, 'Text1'),\n",
    "(1, 'tExT2'),\n",
    "(3, 'TEXT3');"
   ]
  },
  {
   "cell_type": "markdown",
   "id": "f0eb6902-7778-4297-8423-0a694bb66493",
   "metadata": {},
   "source": [
    "**The table to be used for the experiments.**"
   ]
  },
  {
   "cell_type": "code",
   "execution_count": 7,
   "id": "2ee3da71-a47d-4d5d-9d40-b4da39391076",
   "metadata": {},
   "outputs": [
    {
     "name": "stdout",
     "output_type": "stream",
     "text": [
      " id | text  \n",
      "----+-------\n",
      " 0  | Text1\n",
      " 1  | tExT2\n",
      " 3  | TEXT3\n",
      "(3 rows)\n",
      "\n"
     ]
    }
   ],
   "source": [
    "%%bash \n",
    "docker exec -i special_cases psql -U postgres -d postgres\n",
    "\n",
    "SELECT * FROM simple_table;"
   ]
  },
  {
   "cell_type": "markdown",
   "id": "36762aa1-b89d-4d85-858b-2c4dcae9eaf5",
   "metadata": {},
   "source": [
    "**Stop container!** After playing with examples, you should turn it off with the following command."
   ]
  },
  {
   "cell_type": "code",
   "execution_count": 61,
   "id": "edf242ee-2fe2-4e77-afb5-c6e78198aae5",
   "metadata": {},
   "outputs": [],
   "source": [
    "!docker stop special_cases &> /dev/null"
   ]
  },
  {
   "cell_type": "markdown",
   "id": "1dcbc3d5-d0bf-474b-be6f-46e04be54a81",
   "metadata": {},
   "source": [
    "# Columns names\n",
    "\n",
    "To get names of all columns you should use `SELECT column_name FROM information_schema.columns WHERE table_name=`. Just like in following example:"
   ]
  },
  {
   "cell_type": "code",
   "execution_count": 8,
   "id": "2f4ed4bb-1cdd-4457-9db5-3e29c91d0173",
   "metadata": {},
   "outputs": [
    {
     "name": "stdout",
     "output_type": "stream",
     "text": [
      " column_name \n",
      "-------------\n",
      " id\n",
      " text\n",
      "(2 rows)\n",
      "\n"
     ]
    }
   ],
   "source": [
    "%%bash \n",
    "docker exec -i special_cases psql -U postgres -d postgres\n",
    "\n",
    "SELECT column_name\n",
    "FROM information_schema.columns\n",
    "WHERE table_name = 'simple_table';"
   ]
  },
  {
   "cell_type": "markdown",
   "id": "8e1fc30e-1379-4b34-9c75-c1bb00369901",
   "metadata": {},
   "source": [
    "# Count raws\n",
    "\n",
    "To get counts of observations in table you can use command: `SELECT COUNT(*) FROM <table_name>`."
   ]
  },
  {
   "cell_type": "code",
   "execution_count": 9,
   "id": "6b2c8757-4cbb-481c-9362-de2c81a97a24",
   "metadata": {},
   "outputs": [
    {
     "name": "stdout",
     "output_type": "stream",
     "text": [
      " count \n",
      "-------\n",
      "     3\n",
      "(1 row)\n",
      "\n"
     ]
    }
   ],
   "source": [
    "%%bash \n",
    "docker exec -i special_cases psql -U postgres -d postgres\n",
    "\n",
    "SELECT COUNT(*) FROM simple_table"
   ]
  }
 ],
 "metadata": {
  "kernelspec": {
   "display_name": "Python 3 (ipykernel)",
   "language": "python",
   "name": "python3"
  },
  "language_info": {
   "codemirror_mode": {
    "name": "ipython",
    "version": 3
   },
   "file_extension": ".py",
   "mimetype": "text/x-python",
   "name": "python",
   "nbconvert_exporter": "python",
   "pygments_lexer": "ipython3",
   "version": "3.10.6"
  }
 },
 "nbformat": 4,
 "nbformat_minor": 5
}
