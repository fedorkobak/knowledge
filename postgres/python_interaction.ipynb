{
 "cells": [
  {
   "cell_type": "markdown",
   "id": "52449a2e-d0b5-47bd-941c-eefbdd16e3ca",
   "metadata": {},
   "source": [
    "# Python interaction\n",
    "\n",
    "In this page I will show you how to deploy and interact with a Postgres database in a Docker container."
   ]
  },
  {
   "cell_type": "markdown",
   "id": "c682fdd9-8a9f-4dfc-ae65-86cc38855a6e",
   "metadata": {},
   "source": [
    "# Python from container\n",
    "\n",
    "For me it's common task to build interaption with container which handle python program.\n",
    "\n",
    "So in this section I want to show you how to build such an interaction."
   ]
  },
  {
   "cell_type": "markdown",
   "id": "9948682c-8d00-414d-9718-ab842d095875",
   "metadata": {},
   "source": [
    "In the following list, some important files for this example are mentioned:\n",
    "\n",
    "* Python container:\n",
    "\n",
    "    - [Dockerfile](python_interaction/python_container/dockerfile) for python container;\n",
    "    - [requrements.txt](python_interaction/python_container/requirements.txt) for this container;\n",
    "    - [script.py](python_interaction/python_container/script.py) for this container;\n",
    "\n",
    "\n",
    "* Postgres container:\n",
    "\n",
    "    - [sql script](python_interaction/postgres_container/create_table.sql) that creates experiment tables in the database."
   ]
  },
  {
   "cell_type": "markdown",
   "id": "740054ec-1265-4ec4-9fea-052fa46ae1f7",
   "metadata": {},
   "source": [
    "## Python image\n",
    "\n",
    "You need to create a Python image."
   ]
  },
  {
   "cell_type": "code",
   "execution_count": 19,
   "id": "3a2e7298-96ce-4f66-baba-e03782ec7358",
   "metadata": {},
   "outputs": [],
   "source": [
    "%%bash\n",
    "docker build -t pg_example_python python_interaction/python_container &> /dev/null"
   ]
  },
  {
   "cell_type": "markdown",
   "id": "fd21b8ba-c4fa-4c7f-8f8f-ec4aa74be6e5",
   "metadata": {},
   "source": [
    "## Start containers\n",
    "\n",
    "You should share the same net between containers, in the following example which is completed by `test_project_net`."
   ]
  },
  {
   "cell_type": "code",
   "execution_count": 20,
   "id": "bba9c2a2-cace-42b6-946d-5bdf4eaa22b0",
   "metadata": {},
   "outputs": [],
   "source": [
    "%%bash\n",
    "# network\n",
    "docker network create test_project_net &> /dev/null\n",
    "# postgres\n",
    "docker run --rm -d\\\n",
    "    --name pg_example_posgres_cont\\\n",
    "    -e POSTGRES_USER=docker_app\\\n",
    "    -e POSTGRES_PASSWORD=docker_app\\\n",
    "    -e POSTGRES_DB=docker_app_db\\\n",
    "    --net=test_project_net\\\n",
    "    -v ./python_interaction/create_table.sql:/docker-entrypoint-initdb.d/create_table.sql\\\n",
    "    postgres:15.4 &> /dev/null\n",
    "# python\n",
    "docker run --rm -itd\\\n",
    "    --name pg_example_python_cont\\\n",
    "    --net=test_project_net\\\n",
    "    pg_example_python &> /dev/null"
   ]
  },
  {
   "cell_type": "markdown",
   "id": "86b1d269-223f-4d59-9476-9603c067d45b",
   "metadata": {},
   "source": [
    "## Executing python\n",
    "\n",
    "In the next cell, we run the Python script in the Python container. The script simply adds some random values to the `main_table` from the **ohter container**. The message \"Adding records is done!\" indicates that the Python program was executed normally."
   ]
  },
  {
   "cell_type": "code",
   "execution_count": 22,
   "id": "ce9b9d2e-7bb3-4830-97b0-4f8c36e784e6",
   "metadata": {},
   "outputs": [
    {
     "name": "stdout",
     "output_type": "stream",
     "text": [
      "Adding records is done!\n"
     ]
    }
   ],
   "source": [
    "%%bash\n",
    "docker exec pg_example_python_cont bash -c \"python3 script.py\""
   ]
  },
  {
   "cell_type": "markdown",
   "id": "d7ecfe66-b9c8-49ca-95f3-4fd3eb1c30cb",
   "metadata": {},
   "source": [
    "## Check the table\n",
    "\n",
    "So now, to make sure we have done everything right, let us select values from the created table."
   ]
  },
  {
   "cell_type": "code",
   "execution_count": 24,
   "id": "e3391f85-7378-442d-af6a-bec1c485314e",
   "metadata": {},
   "outputs": [
    {
     "name": "stdout",
     "output_type": "stream",
     "text": [
      " id |         text         \n",
      "----+----------------------\n",
      " 0  | sroybaubnkkggzuegofw\n",
      " 1  | afwgyapddpvuukdpkxxc\n",
      " 2  | lfxohpbhhsdcxfiiqyfp\n",
      " 3  | lfqwakbcgxefmnwsnixu\n",
      " 4  | glmxqjoovbyvwwphfcgd\n",
      " 5  | cagjujihvyntzykigrar\n",
      " 6  | tagrodfgevcqzeoyrdyt\n",
      " 7  | ngjgbkkppcvcbspypvsv\n",
      " 8  | vtyxgkaouosrkszkfwtr\n",
      " 9  | lwcxnrsrvazombgaqwuo\n",
      " 10 | dgxyzzjyuhwsotxabdbo\n",
      " 11 | ahdmlqgmauydtcxmrsrp\n",
      " 12 | oedpcbffjnblbizucezc\n",
      " 13 | ijoxobrthmytpirqijbu\n",
      " 14 | ipunrnsjrrohcwuukzsy\n",
      " 15 | eprawbrdpvhrmwhwhnrk\n",
      " 16 | yhlcgjwtuoqcpcbkaify\n",
      " 17 | eityjwmjonpfvvqarrcq\n",
      " 18 | rablibcsibalhbkqoynd\n",
      " 19 | xbnimzepzzbvjqwygiam\n",
      "(20 rows)\n",
      "\n"
     ]
    }
   ],
   "source": [
    "%%bash\n",
    "docker exec pg_example_posgres_cont bash -c \\\n",
    "\"psql -U docker_app -d docker_app_db -c \\\"SELECT * FROM main_table;\\\"\""
   ]
  },
  {
   "cell_type": "markdown",
   "id": "b9c628ee-820d-4fe3-b1a6-b4eb7088ee80",
   "metadata": {},
   "source": [
    "## Stop containers"
   ]
  },
  {
   "cell_type": "code",
   "execution_count": 25,
   "id": "57202fea-10d1-4b90-8ad2-daa95bd52f93",
   "metadata": {},
   "outputs": [],
   "source": [
    "%%bash\n",
    "docker stop pg_example_posgres_cont pg_example_python_cont &> /dev/null\n",
    "docker network rm test_project_net &> /dev/null"
   ]
  },
  {
   "cell_type": "markdown",
   "id": "8f6b9f7d-0ae3-432d-ad46-4e035a04e16b",
   "metadata": {},
   "source": [
    "## Clear python image\n",
    "\n",
    "To avoid creating a lot of rubbish in docker images, you should delete the container created for this example."
   ]
  },
  {
   "cell_type": "code",
   "execution_count": 26,
   "id": "e31bd46b-21af-479b-9090-4341cc28625e",
   "metadata": {},
   "outputs": [],
   "source": [
    "%%bash\n",
    "docker rmi pg_example_python &> /dev/null"
   ]
  }
 ],
 "metadata": {
  "kernelspec": {
   "display_name": "Python 3 (ipykernel)",
   "language": "python",
   "name": "python3"
  },
  "language_info": {
   "codemirror_mode": {
    "name": "ipython",
    "version": 3
   },
   "file_extension": ".py",
   "mimetype": "text/x-python",
   "name": "python",
   "nbconvert_exporter": "python",
   "pygments_lexer": "ipython3",
   "version": "3.10.6"
  }
 },
 "nbformat": 4,
 "nbformat_minor": 5
}
