{
 "cells": [
  {
   "cell_type": "markdown",
   "id": "52449a2e-d0b5-47bd-941c-eefbdd16e3ca",
   "metadata": {},
   "source": [
    "# Python interaction\n",
    "\n",
    "In this page I will show you how to deploy and interact with a Postgres database in a Docker container.\n",
    "\n",
    "**Note** `psycopg2` is a central library for organising Python<->Postgres interaction, developers distribute it uncompiled for optimisation purposes, but if you just want to install and use it `pip3 install psycopg2-binary`."
   ]
  },
  {
   "cell_type": "markdown",
   "id": "c682fdd9-8a9f-4dfc-ae65-86cc38855a6e",
   "metadata": {},
   "source": [
    "## Python from container\n",
    "\n",
    "For me it's common task to build interaption with container which handle python program.\n",
    "\n",
    "So in this section I want to show you how to build such an interaction."
   ]
  },
  {
   "cell_type": "markdown",
   "id": "740054ec-1265-4ec4-9fea-052fa46ae1f7",
   "metadata": {},
   "source": [
    "### Python image\n",
    "\n",
    "You need to create a Python image. The following cell describes the docker file that's used to create the image."
   ]
  },
  {
   "cell_type": "code",
   "execution_count": 1,
   "id": "37c092d8-9da0-4385-be62-9885d05001b6",
   "metadata": {},
   "outputs": [
    {
     "name": "stdout",
     "output_type": "stream",
     "text": [
      "Overwriting python_interaction/python_container/dockerfile\n"
     ]
    }
   ],
   "source": [
    "%%writefile python_interaction/python_container/dockerfile\n",
    "FROM python:3.11.4\n",
    "WORKDIR program\n",
    "COPY script.py script.py\n",
    "COPY requirements.txt requirements.txt\n",
    "RUN pip3 install -r requirements.txt"
   ]
  },
  {
   "cell_type": "markdown",
   "id": "91b1f918-e28c-4525-b112-e64dc4149e77",
   "metadata": {},
   "source": [
    "The next cell describes the `requirements.txt` we'll need for this container."
   ]
  },
  {
   "cell_type": "code",
   "execution_count": 2,
   "id": "f3e50a60-719b-47a2-9c13-c17d28adebcc",
   "metadata": {},
   "outputs": [
    {
     "name": "stdout",
     "output_type": "stream",
     "text": [
      "Overwriting python_interaction/python_container/requirements.txt\n"
     ]
    }
   ],
   "source": [
    "%%writefile python_interaction/python_container/requirements.txt\n",
    "numpy==1.24.2\n",
    "psycopg2-binary==2.9.6"
   ]
  },
  {
   "cell_type": "markdown",
   "id": "adfec7ce-cc43-4656-82e6-ba72c653d943",
   "metadata": {},
   "source": [
    "Finally, we build the image."
   ]
  },
  {
   "cell_type": "code",
   "execution_count": 3,
   "id": "3a2e7298-96ce-4f66-baba-e03782ec7358",
   "metadata": {},
   "outputs": [],
   "source": [
    "%%bash\n",
    "docker build -t pg_example_python python_interaction/python_container &> /dev/null"
   ]
  },
  {
   "cell_type": "markdown",
   "id": "d8ccd491-9958-456c-9b3e-d1276d185365",
   "metadata": {},
   "source": [
    "## Start containers"
   ]
  },
  {
   "cell_type": "markdown",
   "id": "2684bc94-87ac-4f70-bec1-7332215013d8",
   "metadata": {},
   "source": [
    "We need to create at least one table in our postgres database. So in the following cell we store the script that will be used to initialise the database."
   ]
  },
  {
   "cell_type": "code",
   "execution_count": 7,
   "id": "3f0035e9-4d80-48fb-8ffd-31c5025a5c58",
   "metadata": {},
   "outputs": [
    {
     "name": "stdout",
     "output_type": "stream",
     "text": [
      "Overwriting python_interaction/create_table.sql\n"
     ]
    }
   ],
   "source": [
    "%%writefile python_interaction/create_table.sql\n",
    "CREATE TABLE main_table(\n",
    "    id TEXT NOT NULL,\n",
    "    text TEXT NOT NULL\n",
    ");"
   ]
  },
  {
   "cell_type": "markdown",
   "id": "ae69a43e-b297-430f-9981-1e427a6d381f",
   "metadata": {},
   "source": [
    "Next, start the `python` and `postgres` containers.\n",
    "\n",
    "You should share the same net between containers, in the following example which is completed by `test_project_net`."
   ]
  },
  {
   "cell_type": "code",
   "execution_count": 13,
   "id": "bba9c2a2-cace-42b6-946d-5bdf4eaa22b0",
   "metadata": {},
   "outputs": [],
   "source": [
    "%%bash\n",
    "# network\n",
    "docker network create test_project_net &> /dev/null\n",
    "# postgres\n",
    "docker run --rm -d\\\n",
    "    --name pg_example_posgres_cont\\\n",
    "    -e POSTGRES_USER=docker_app\\\n",
    "    -e POSTGRES_PASSWORD=docker_app\\\n",
    "    -e POSTGRES_DB=docker_app_db\\\n",
    "    --net=test_project_net\\\n",
    "    -v ./python_interaction/create_table.sql:/docker-entrypoint-initdb.d/create_table.sql\\\n",
    "    postgres:15.4 &> /dev/null\n",
    "# python\n",
    "docker run --rm -itd\\\n",
    "    --name pg_example_python_cont\\\n",
    "    --net=test_project_net\\\n",
    "    pg_example_python &> /dev/null"
   ]
  },
  {
   "cell_type": "markdown",
   "id": "86b1d269-223f-4d59-9476-9603c067d45b",
   "metadata": {},
   "source": [
    "### Executing python\n",
    "\n",
    "In the next cell, we run the Python script in the Python container. The script simply adds some random values to the `main_table` from the **ohter container**. The message \"Adding records is done!\" indicates that the Python program was executed normally."
   ]
  },
  {
   "cell_type": "code",
   "execution_count": 15,
   "id": "ce9b9d2e-7bb3-4830-97b0-4f8c36e784e6",
   "metadata": {},
   "outputs": [
    {
     "name": "stdout",
     "output_type": "stream",
     "text": [
      "Adding records is done!\n"
     ]
    }
   ],
   "source": [
    "%%bash\n",
    "docker exec pg_example_python_cont bash -c \"python3 script.py\""
   ]
  },
  {
   "cell_type": "markdown",
   "id": "d7ecfe66-b9c8-49ca-95f3-4fd3eb1c30cb",
   "metadata": {},
   "source": [
    "### Check the table\n",
    "\n",
    "So now, to make sure we have done everything right, let us select values from the created table."
   ]
  },
  {
   "cell_type": "code",
   "execution_count": 16,
   "id": "e3391f85-7378-442d-af6a-bec1c485314e",
   "metadata": {},
   "outputs": [
    {
     "name": "stdout",
     "output_type": "stream",
     "text": [
      " id |         text         \n",
      "----+----------------------\n",
      " 0  | japnymalatjibwyyhrrg\n",
      " 1  | cbbweteuzciiqkfeosan\n",
      " 2  | pceqighcvhuhsgkzkyjm\n",
      " 3  | ppnxmfwrhfxakxmrbgfa\n",
      " 4  | rgcskpyszvvfgkeqlddg\n",
      " 5  | hgstbkchoffmwzfzstzl\n",
      " 6  | zppfchaejglgziuqsgfc\n",
      " 7  | lbketfergbfpnqigunpi\n",
      " 8  | vwloacncpjvjvpkcrsen\n",
      " 9  | fdmykbfwrpatwgqieerk\n",
      " 10 | aphatmxojirrgapuoyig\n",
      " 11 | ngrltrqxulquwymuwjzt\n",
      " 12 | ccutblvvmrzwgixpojlj\n",
      " 13 | vrwzqmdxnlhwuwqtsxdd\n",
      " 14 | cxngyvgptjeqtgoghgsj\n",
      " 15 | knuspqeycfulmybbjwpz\n",
      " 16 | bhhfyemeyustohgvvfzx\n",
      " 17 | wpkrxlifxhkafoygxhyy\n",
      " 18 | tbmofckmfqmncyuhwzlp\n",
      " 19 | kpzirtepbdhjshzdpgfd\n",
      "(20 rows)\n",
      "\n"
     ]
    }
   ],
   "source": [
    "%%bash\n",
    "docker exec pg_example_posgres_cont bash -c \\\n",
    "\"psql -U docker_app -d docker_app_db -c \\\"SELECT * FROM main_table;\\\"\""
   ]
  },
  {
   "cell_type": "markdown",
   "id": "b9c628ee-820d-4fe3-b1a6-b4eb7088ee80",
   "metadata": {},
   "source": [
    "### Stop containers"
   ]
  },
  {
   "cell_type": "code",
   "execution_count": 17,
   "id": "57202fea-10d1-4b90-8ad2-daa95bd52f93",
   "metadata": {},
   "outputs": [],
   "source": [
    "%%bash\n",
    "docker stop pg_example_posgres_cont pg_example_python_cont &> /dev/null\n",
    "docker network rm test_project_net &> /dev/null"
   ]
  },
  {
   "cell_type": "markdown",
   "id": "8f6b9f7d-0ae3-432d-ad46-4e035a04e16b",
   "metadata": {},
   "source": [
    "### Clear python image\n",
    "\n",
    "To avoid creating a lot of rubbish in docker images, you should delete the container created for this example."
   ]
  },
  {
   "cell_type": "code",
   "execution_count": 31,
   "id": "e31bd46b-21af-479b-9090-4341cc28625e",
   "metadata": {},
   "outputs": [],
   "source": [
    "%%bash\n",
    "docker rmi pg_example_python &> /dev/null"
   ]
  },
  {
   "cell_type": "markdown",
   "id": "4daf506c-a87d-441b-9197-013328c379c4",
   "metadata": {},
   "source": [
    "## Python on host\n",
    "\n",
    "Sometimes it's good to run database-related code from your local machine. So I show a way to build interaption between the database and the host program."
   ]
  },
  {
   "cell_type": "markdown",
   "id": "d8cab89a-a552-4526-b13f-9877eb8aada1",
   "metadata": {},
   "source": [
    "### Database container"
   ]
  },
  {
   "cell_type": "markdown",
   "id": "06c54d9e-6e79-4a67-94fa-3a7f19264157",
   "metadata": {},
   "source": [
    "Script that is used ot create table in database described in the following cell:"
   ]
  },
  {
   "cell_type": "code",
   "execution_count": 21,
   "id": "12ed2b4a-9137-4e7f-8120-78583b424f3e",
   "metadata": {},
   "outputs": [
    {
     "name": "stdout",
     "output_type": "stream",
     "text": [
      "Overwriting python_interaction/create_table.sql\n"
     ]
    }
   ],
   "source": [
    "%%writefile python_interaction/create_table.sql\n",
    "CREATE TABLE main_table(\n",
    "    id TEXT NOT NULL,\n",
    "    text TEXT NOT NULL\n",
    ");"
   ]
  },
  {
   "cell_type": "markdown",
   "id": "aa7e6a81-e789-4852-8eb3-c7b94e76f370",
   "metadata": {},
   "source": [
    "**Note** you need to specify the port to be referred to later in the Python program."
   ]
  },
  {
   "cell_type": "code",
   "execution_count": 22,
   "id": "022b444a-7917-4cd6-8593-c7e47c64ebce",
   "metadata": {},
   "outputs": [],
   "source": [
    "%%bash\n",
    "docker run --rm -d\\\n",
    "    --name pg_example_posgres_cont\\\n",
    "    -e POSTGRES_USER=docker_app\\\n",
    "    -e POSTGRES_PASSWORD=docker_app\\\n",
    "    -e POSTGRES_DB=docker_app_db\\\n",
    "    -p 5431:5432\\\n",
    "    -v ./python_interaction/create_table.sql:/docker-entrypoint-initdb.d/create_table.sql\\\n",
    "    postgres:15.4 &> /dev/null"
   ]
  },
  {
   "cell_type": "markdown",
   "id": "d7a2edc7-46cd-4da3-aa3d-1dbee854ce49",
   "metadata": {},
   "source": [
    "### Python program\n",
    "\n",
    "I'm just going to connect to the database from this notebook."
   ]
  },
  {
   "cell_type": "markdown",
   "id": "98ca5f63-8334-4892-9e41-88fda3b85cea",
   "metadata": {},
   "source": [
    "#### Establish conneciton\n",
    "\n",
    "In the `psycopg2.connect` function, mention `port` used in postgres container creation and `localhost` argument for `host` parameter."
   ]
  },
  {
   "cell_type": "code",
   "execution_count": 23,
   "id": "0b15a835-30ab-4cec-96ce-a4dc7212f0ce",
   "metadata": {},
   "outputs": [],
   "source": [
    "import psycopg2\n",
    "\n",
    "conn = psycopg2.connect(\n",
    "    port = \"5431\", # same as when creating a postgres container\n",
    "    dbname = \"docker_app_db\",\n",
    "    user = \"docker_app\",\n",
    "    password = \"docker_app\",\n",
    "    host= \"localhost\"\n",
    ")"
   ]
  },
  {
   "cell_type": "markdown",
   "id": "998b7eba-f307-4cfd-bdd0-e87eeaddaf60",
   "metadata": {},
   "source": [
    "### Insert information\n",
    "\n",
    "To understand that everything works insert a few lines into database."
   ]
  },
  {
   "cell_type": "code",
   "execution_count": 24,
   "id": "7709f37a-08a3-4160-bcb1-04d7d9487045",
   "metadata": {},
   "outputs": [],
   "source": [
    "import random\n",
    "import string\n",
    "\n",
    "cur = conn.cursor()\n",
    "for i in range(20):\n",
    "    text = ''.join(random.choices(string.ascii_lowercase, k=20))\n",
    "    query = f\"INSERT INTO main_table (id, text) VALUES ('{i}', '{text}');\"\n",
    "    cur.execute(query)\n",
    "cur.close()"
   ]
  },
  {
   "cell_type": "markdown",
   "id": "2726477a-9968-4894-ab5f-7ffaea54bc62",
   "metadata": {},
   "source": [
    "### Check the result"
   ]
  },
  {
   "cell_type": "markdown",
   "id": "124b7317-aae5-4f2a-b924-5fa7736a6156",
   "metadata": {},
   "source": [
    "Query from python."
   ]
  },
  {
   "cell_type": "code",
   "execution_count": 25,
   "id": "a4449805-f92f-4d1f-8b67-e36f3691c57d",
   "metadata": {},
   "outputs": [
    {
     "name": "stdout",
     "output_type": "stream",
     "text": [
      "('0', 'wmrdtxsodxscjvhewqal')\n",
      "('1', 'ufkuejcrfxftdnhdxrag')\n",
      "('2', 'ptevrscclarwcrqbeebu')\n",
      "('3', 'miusgnfiytlzliwkzfsw')\n",
      "('4', 'mccrfcyzbobchnsctsoa')\n",
      "('5', 'hvrcrkodrybhikjtxrzg')\n",
      "('6', 'dywhqgbaqdgrndzyexsy')\n",
      "('7', 'hokekkgjxrrmjmgdbjog')\n",
      "('8', 'lkrgeqzubnmasudrsmwa')\n",
      "('9', 'unnlpkbjbbgflgllypzp')\n",
      "('10', 'yjxwtmrmiluhrfxemfbm')\n",
      "('11', 'slewtzvcobmuvjtfjzuq')\n",
      "('12', 'rxykfqyhymbxrjrrfslj')\n",
      "('13', 'ttdkznjfzgsbhpatxexc')\n",
      "('14', 'tlcgljqyykggziysejln')\n",
      "('15', 'nexvhxibjodjgoqucffy')\n",
      "('16', 'djfefydvsfzepcygfdke')\n",
      "('17', 'byadocobydotccunhypu')\n",
      "('18', 'oukrqsvgpsgjqdcuueax')\n",
      "('19', 'qfnxjpfbmjgbpombtycu')\n"
     ]
    }
   ],
   "source": [
    "cur = conn.cursor()\n",
    "cur.execute(\"SELECT * FROM main_table;\")\n",
    "for i in cur:\n",
    "    print(i)\n",
    "cur.close()"
   ]
  },
  {
   "cell_type": "markdown",
   "id": "b0bf665c-26df-42c3-9e2a-099c09d5ab1f",
   "metadata": {},
   "source": [
    "Query from container. \n",
    "\n",
    "**Note** Before quering from the container, you need to commit the changes from the connection."
   ]
  },
  {
   "cell_type": "code",
   "execution_count": 27,
   "id": "50acf3ef-cc4e-4592-8566-697cab2bde2f",
   "metadata": {},
   "outputs": [],
   "source": [
    "conn.commit()"
   ]
  },
  {
   "cell_type": "code",
   "execution_count": 28,
   "id": "5d11b7c8-6710-4f9b-ba23-0ac3ba9cd934",
   "metadata": {},
   "outputs": [
    {
     "name": "stdout",
     "output_type": "stream",
     "text": [
      " id |         text         \n",
      "----+----------------------\n",
      " 0  | wmrdtxsodxscjvhewqal\n",
      " 1  | ufkuejcrfxftdnhdxrag\n",
      " 2  | ptevrscclarwcrqbeebu\n",
      " 3  | miusgnfiytlzliwkzfsw\n",
      " 4  | mccrfcyzbobchnsctsoa\n",
      " 5  | hvrcrkodrybhikjtxrzg\n",
      " 6  | dywhqgbaqdgrndzyexsy\n",
      " 7  | hokekkgjxrrmjmgdbjog\n",
      " 8  | lkrgeqzubnmasudrsmwa\n",
      " 9  | unnlpkbjbbgflgllypzp\n",
      " 10 | yjxwtmrmiluhrfxemfbm\n",
      " 11 | slewtzvcobmuvjtfjzuq\n",
      " 12 | rxykfqyhymbxrjrrfslj\n",
      " 13 | ttdkznjfzgsbhpatxexc\n",
      " 14 | tlcgljqyykggziysejln\n",
      " 15 | nexvhxibjodjgoqucffy\n",
      " 16 | djfefydvsfzepcygfdke\n",
      " 17 | byadocobydotccunhypu\n",
      " 18 | oukrqsvgpsgjqdcuueax\n",
      " 19 | qfnxjpfbmjgbpombtycu\n",
      "(20 rows)\n",
      "\n"
     ]
    }
   ],
   "source": [
    "%%bash\n",
    "docker exec pg_example_posgres_cont \\\n",
    "    psql --username docker_app --dbname docker_app_db -c 'SELECT * FROM main_table;'"
   ]
  },
  {
   "cell_type": "markdown",
   "id": "a8e6f21f-aed8-480b-981b-1925fe62f426",
   "metadata": {},
   "source": [
    "Close connection."
   ]
  },
  {
   "cell_type": "code",
   "execution_count": 29,
   "id": "b1387aa6-a830-42a4-b670-f6fcc603257f",
   "metadata": {},
   "outputs": [],
   "source": [
    "conn.close()"
   ]
  },
  {
   "cell_type": "markdown",
   "id": "d9518e7b-86a0-4ac9-94ad-7248da447a36",
   "metadata": {},
   "source": [
    "### Stop container"
   ]
  },
  {
   "cell_type": "code",
   "execution_count": 30,
   "id": "e4d9b07e-85a8-4ba7-842f-80ddee5309f4",
   "metadata": {},
   "outputs": [
    {
     "name": "stdout",
     "output_type": "stream",
     "text": [
      "pg_example_posgres_cont\n"
     ]
    }
   ],
   "source": [
    "%%bash\n",
    "docker stop pg_example_posgres_cont"
   ]
  }
 ],
 "metadata": {
  "kernelspec": {
   "display_name": "Python 3 (ipykernel)",
   "language": "python",
   "name": "python3"
  },
  "language_info": {
   "codemirror_mode": {
    "name": "ipython",
    "version": 3
   },
   "file_extension": ".py",
   "mimetype": "text/x-python",
   "name": "python",
   "nbconvert_exporter": "python",
   "pygments_lexer": "ipython3",
   "version": "3.10.12"
  }
 },
 "nbformat": 4,
 "nbformat_minor": 5
}
