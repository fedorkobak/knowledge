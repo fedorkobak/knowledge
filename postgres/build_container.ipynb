{
 "cells": [
  {
   "cell_type": "markdown",
   "id": "ffd24ada-9dc0-4419-a324-a7554c9f8f33",
   "metadata": {},
   "source": [
    "# Build container\n",
    "\n",
    "The postgres section of this site will be inextricably linked to docker, so it is extremely important to dive into the intricacies of running docker containers with postgres.\n",
    "\n",
    "The greatest amount of information for this page is taken from <a href=\"https://hub.docker.com/_/postgres\">official postgres dockerhub page</a>."
   ]
  },
  {
   "cell_type": "markdown",
   "id": "e7bb9308-313d-4072-9176-50400eac5b10",
   "metadata": {},
   "source": [
    "# Initialisation scripts\n",
    "\n",
    "If you need to organise the initialisation at container startup, you can mount a folder containing `*.sql` and `*.sh` initialisation scripts on `/docker-entrypoint-initdb.d`. This will execute the files in `/docker-entrypoint-initdb.d`.\n",
    "\n",
    "So in the following example, I start the docker container with the folder mounted as `/docker-entrypoint-initdb.d`. This folder only contains a [create_table.sql](build_container/initialisation_scripts/create_table.sql) which creates an empty `main_table`. Then I check the existence of the table that should be created by \n",
    "`create_table.sql`."
   ]
  },
  {
   "cell_type": "code",
   "execution_count": 28,
   "id": "95820b47-5a73-4f4b-b2b1-601b6cc9565f",
   "metadata": {},
   "outputs": [
    {
     "name": "stdout",
     "output_type": "stream",
     "text": [
      "=====CHECK TABLE=====\n",
      "           List of relations\n",
      " Schema |    Name    | Type  |  Owner   \n",
      "--------+------------+-------+----------\n",
      " public | main_table | table | postgres\n",
      "(1 row)\n",
      "\n"
     ]
    }
   ],
   "source": [
    "%%bash\n",
    "docker run --rm -d\\\n",
    "    -v ./build_container/initialisation_scripts:/docker-entrypoint-initdb.d\\\n",
    "    -e POSTGRES_PASSWORD=docker_app \\\n",
    "    --name init_scripts_example \\\n",
    "    postgres:15.4 &> /dev/null\n",
    "\n",
    "sleep 5\n",
    "echo \"=====CHECK TABLE=====\"\n",
    "docker exec init_scripts_example bash -c \"psql -U postgres -d postgres -c \\\"\\dt\\\"\"\n",
    "\n",
    "docker stop  init_scripts_example &> /dev/null"
   ]
  }
 ],
 "metadata": {
  "kernelspec": {
   "display_name": "Python 3 (ipykernel)",
   "language": "python",
   "name": "python3"
  },
  "language_info": {
   "codemirror_mode": {
    "name": "ipython",
    "version": 3
   },
   "file_extension": ".py",
   "mimetype": "text/x-python",
   "name": "python",
   "nbconvert_exporter": "python",
   "pygments_lexer": "ipython3",
   "version": "3.10.6"
  }
 },
 "nbformat": 4,
 "nbformat_minor": 5
}
