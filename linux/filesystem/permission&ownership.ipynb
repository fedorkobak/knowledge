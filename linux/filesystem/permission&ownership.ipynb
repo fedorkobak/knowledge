{
 "cells": [
  {
   "cell_type": "markdown",
   "id": "e8856c70",
   "metadata": {},
   "source": [
    "# Permission&Ownership\n",
    "\n",
    "This page provides information on setting up permissions and ownership for files."
   ]
  },
  {
   "cell_type": "markdown",
   "id": "e6bc1550",
   "metadata": {},
   "source": [
    "## Check\n",
    "\n",
    "Use the `-l` flag with the `ls` command to view information associated with file permissions and ownership. We are interested in the first, third, and forth attributes for each position in the output, which refer to: permissions, user, and group respectively."
   ]
  },
  {
   "cell_type": "markdown",
   "id": "41aa0434",
   "metadata": {},
   "source": [
    "The first attribute for each file contains 10 symbols that describe whether the file is a directory and its permissions. The first character defines whether the is a deroctoty. The following characters are separated separated into 3 groups of 3 symbols each and specify the rights for the user, group, and other. The following schema illustrates this concept:\n",
    "\n",
    "![](permission&ownersip_files/permissions.svg)\n",
    "\n",
    "The `rwx` combination means `read`, `write` and `execute`.\n",
    "\n",
    "If a digit is preceded by `-`, it means that the position is not a directory or that there are no corresponding permisisons."
   ]
  },
  {
   "cell_type": "markdown",
   "id": "cbfc9ea3",
   "metadata": {},
   "source": [
    "---\n",
    "\n",
    "The following cell creates the folder that we'll use as an example throught the section and the file that we will consider."
   ]
  },
  {
   "cell_type": "code",
   "execution_count": 11,
   "id": "20cfc093",
   "metadata": {
    "vscode": {
     "languageId": "shellscript"
    }
   },
   "outputs": [],
   "source": [
    "rm -fr /tmp/check_permission\n",
    "mkdir /tmp/check_permission\n",
    "cd /tmp/check_permission\n",
    "\n",
    "echo \"hello\" > my_file"
   ]
  },
  {
   "cell_type": "markdown",
   "id": "25bc46ec",
   "metadata": {},
   "source": [
    "The following cell displays the output of the command `ls -l` for the folder."
   ]
  },
  {
   "cell_type": "code",
   "execution_count": 12,
   "id": "e7ee51f0",
   "metadata": {
    "vscode": {
     "languageId": "shellscript"
    }
   },
   "outputs": [
    {
     "name": "stdout",
     "output_type": "stream",
     "text": [
      "total 4\n",
      "-rw-r--r-- 1 root root 6 Sep 23 20:28 my_file\n"
     ]
    }
   ],
   "source": [
    "ls -l"
   ]
  },
  {
   "cell_type": "markdown",
   "id": "5118ff0d",
   "metadata": {},
   "source": [
    "According to the output, the file `my_file` belongs to the `root` user and `root` group. The `root` user can read and write to the file; others are only allowed to read it."
   ]
  },
  {
   "cell_type": "markdown",
   "id": "0edf0764",
   "metadata": {},
   "source": [
    "## Chmod\n",
    "\n",
    "The `chmod` command allows you to adjust file permissions.\n",
    "\n",
    "The general syntax is:\n",
    "\n",
    "```bash\n",
    "chmod [MODE] [FILE]\n",
    "```\n",
    "\n",
    "The most imporant point for consideration here is `MODE`. It can be specified in the **symbolic and numeric formats**."
   ]
  },
  {
   "cell_type": "markdown",
   "id": "209dd381",
   "metadata": {},
   "source": [
    "### Symbolic\n",
    "\n",
    "The `MODE` in the symbolic format breaks down in the following format:\n",
    "\n",
    "```bash\n",
    "chmod [WHO][OPERATOR][PERMISSIONS] [FILE]\n",
    "```\n",
    "\n",
    "The meaning of each element is described in the following table:\n",
    "\n",
    "| Element | Symbols | Description |\n",
    "|---------|---------|-------------|\n",
    "| WHO     | `u`, `g`, `o`, `a` | User, Group, Others and All |\n",
    "| OPERATOR | `+`, `-`, `=` | add, remove, overwrite |\n",
    "| PERMISSIONS | `r`, `w`, `x` | read, write, execute |"
   ]
  }
 ],
 "metadata": {
  "kernelspec": {
   "display_name": "Bash",
   "language": "bash",
   "name": "bash"
  },
  "language_info": {
   "codemirror_mode": "shell",
   "file_extension": ".sh",
   "mimetype": "text/x-sh",
   "name": "bash"
  }
 },
 "nbformat": 4,
 "nbformat_minor": 5
}
