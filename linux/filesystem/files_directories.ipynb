{
 "cells": [
  {
   "cell_type": "markdown",
   "metadata": {},
   "source": [
    "# Files and directories\n",
    "\n",
    "This page discusses tools that allow to manipulate with files in the Linux.\n",
    "\n",
    "There are several tools that allows to show awailable files the following cell generates files tree that we'll use as exmpale."
   ]
  },
  {
   "cell_type": "code",
   "execution_count": 14,
   "metadata": {
    "vscode": {
     "languageId": "shellscript"
    }
   },
   "outputs": [],
   "source": [
    "python3 << EOF\n",
    "import string\n",
    "import random\n",
    "from pathlib import Path\n",
    "\n",
    "def random_name(length: int = 8) -> str:\n",
    "    'Function to create a random file/directory name'\n",
    "    letters = string.ascii_lowercase\n",
    "    return ''.join(random.choice(letters) for i in range(length))\n",
    "\n",
    "root_path = Path(\"/tmp\")\n",
    "current_path = root_path/\"files_folders\"\n",
    "current_path.mkdir(exist_ok=True)\n",
    "\n",
    "for i in range(50):\n",
    "    num = random.random()\n",
    "    if num < 0.2:\n",
    "        # Creating folder\n",
    "        current_path = current_path/random_name()\n",
    "        current_path.mkdir(exist_ok=True)\n",
    "    elif num < 0.6:\n",
    "        # Creating file\n",
    "        (current_path/random_name()).touch()\n",
    "    elif current_path.parent != root_path:\n",
    "        # Returning to the previous directory\n",
    "        current_path = current_path.parent\n",
    "\n",
    "(current_path/\"file.txt\").touch()\n",
    "EOF"
   ]
  },
  {
   "cell_type": "markdown",
   "metadata": {},
   "source": [
    "## List contents (ls)\n",
    "\n",
    "`ls` command that allows to show files/directories in the folder."
   ]
  },
  {
   "cell_type": "markdown",
   "metadata": {},
   "source": [
    "The following python code creates some random files and folders - so we can see what they look like in the output of the `ls` command."
   ]
  },
  {
   "cell_type": "markdown",
   "metadata": {},
   "source": [
    "Just by using the `ls` command, we'll get some files/folders listed in random order. But we can't tell which of them are directories and which are files, their creation dates, the user who created them, and so on."
   ]
  },
  {
   "cell_type": "code",
   "execution_count": 15,
   "metadata": {
    "vscode": {
     "languageId": "shellscript"
    }
   },
   "outputs": [
    {
     "name": "stdout",
     "output_type": "stream",
     "text": [
      "aitzzukt  dpjoshmw  jvraarww  omvkdxef  tpfjgpdx  vmruldxu\n",
      "\u001b[0m\u001b[01;34mbixjwusi\u001b[0m  \u001b[01;34mghabbnmc\u001b[0m  lbnfotix  qpisovvr  \u001b[01;34mtykzpklw\u001b[0m  \u001b[01;34mxmqzuinv\u001b[0m\n",
      "czfhzxld  hwewtwoc  nqfijnnz  ticzbedc  utttsuke  xsgufbni\n"
     ]
    }
   ],
   "source": [
    "ls /tmp/files_folders"
   ]
  },
  {
   "cell_type": "markdown",
   "metadata": {},
   "source": [
    "When using the `ls -l` command, you receive additional information in a detailed, table-like format. The columns provide the following details:\n",
    "\n",
    "- Line that indicates whether the item is a directory, along with its permissions.\n",
    "- Number of links to the item.\n",
    "- The third and fourth columns are the user who owns the file and the Unix group of users to which the file belongs.\n",
    "- Size of item in bytes.\n",
    "- Time at which item was changed.\n",
    "- And last column is the name of the item."
   ]
  },
  {
   "cell_type": "code",
   "execution_count": 16,
   "metadata": {
    "vscode": {
     "languageId": "shellscript"
    }
   },
   "outputs": [
    {
     "name": "stdout",
     "output_type": "stream",
     "text": [
      "total 16\n",
      "-rw-rw-r-- 1 f-kobak-distance-desctop f-kobak-distance-desctop    0 Dec 29 23:39 aitzzukt\n",
      "drwxrwxr-x 3 f-kobak-distance-desctop f-kobak-distance-desctop 4096 Dec 29 23:39 \u001b[0m\u001b[01;34mbixjwusi\u001b[0m\n",
      "-rw-rw-r-- 1 f-kobak-distance-desctop f-kobak-distance-desctop    0 Dec 29 23:39 czfhzxld\n",
      "-rw-rw-r-- 1 f-kobak-distance-desctop f-kobak-distance-desctop    0 Dec 29 23:39 dpjoshmw\n",
      "drwxrwxr-x 3 f-kobak-distance-desctop f-kobak-distance-desctop 4096 Dec 29 23:39 \u001b[01;34mghabbnmc\u001b[0m\n",
      "-rw-rw-r-- 1 f-kobak-distance-desctop f-kobak-distance-desctop    0 Dec 29 23:39 hwewtwoc\n",
      "-rw-rw-r-- 1 f-kobak-distance-desctop f-kobak-distance-desctop    0 Dec 29 23:39 jvraarww\n",
      "-rw-rw-r-- 1 f-kobak-distance-desctop f-kobak-distance-desctop    0 Dec 29 23:39 lbnfotix\n",
      "-rw-rw-r-- 1 f-kobak-distance-desctop f-kobak-distance-desctop    0 Dec 29 23:39 nqfijnnz\n",
      "-rw-rw-r-- 1 f-kobak-distance-desctop f-kobak-distance-desctop    0 Dec 29 23:39 omvkdxef\n",
      "-rw-rw-r-- 1 f-kobak-distance-desctop f-kobak-distance-desctop    0 Dec 29 23:39 qpisovvr\n",
      "-rw-rw-r-- 1 f-kobak-distance-desctop f-kobak-distance-desctop    0 Dec 29 23:39 ticzbedc\n",
      "-rw-rw-r-- 1 f-kobak-distance-desctop f-kobak-distance-desctop    0 Dec 29 23:39 tpfjgpdx\n",
      "drwxrwxr-x 2 f-kobak-distance-desctop f-kobak-distance-desctop 4096 Dec 29 23:39 \u001b[01;34mtykzpklw\u001b[0m\n",
      "-rw-rw-r-- 1 f-kobak-distance-desctop f-kobak-distance-desctop    0 Dec 29 23:39 utttsuke\n",
      "-rw-rw-r-- 1 f-kobak-distance-desctop f-kobak-distance-desctop    0 Dec 29 23:39 vmruldxu\n",
      "drwxrwxr-x 4 f-kobak-distance-desctop f-kobak-distance-desctop 4096 Dec 29 23:39 \u001b[01;34mxmqzuinv\u001b[0m\n",
      "-rw-rw-r-- 1 f-kobak-distance-desctop f-kobak-distance-desctop    0 Dec 29 23:39 xsgufbni\n"
     ]
    }
   ],
   "source": [
    "ls /tmp/files_folders -l"
   ]
  },
  {
   "cell_type": "markdown",
   "metadata": {},
   "source": [
    "## Make diretory (mkdir)\n",
    "\n",
    "To create a directory, use the `mkdir` utility. For more information on this utility, see the [corresponding section](https://www.gnu.org/software/coreutils/manual/html_node/mkdir-invocation.html) of the gnu manual."
   ]
  },
  {
   "cell_type": "markdown",
   "metadata": {},
   "source": [
    "### Create parents\n",
    "\n",
    "By default, if you try to create a directory under another directory that doesn't exist, you will an get error from the `mkdir` utility. There is a `-p` option which allows to suppress this behaviour - all necessary directories will be created automatically."
   ]
  },
  {
   "cell_type": "markdown",
   "metadata": {},
   "source": [
    "---\n",
    "\n",
    "The following cell shows a typical message that you'll get if you try to create a directory under directory that doesn't exist."
   ]
  },
  {
   "cell_type": "code",
   "execution_count": 12,
   "metadata": {
    "vscode": {
     "languageId": "shellscript"
    }
   },
   "outputs": [
    {
     "name": "stdout",
     "output_type": "stream",
     "text": [
      "mkdir: cannot create directory ‘/tmp/test/my_dir’: No such file or directory\n"
     ]
    }
   ],
   "source": [
    "rm -f -r /tmp/test\n",
    "mkdir /tmp/test/my_dir | true"
   ]
  },
  {
   "cell_type": "markdown",
   "metadata": {},
   "source": [
    "The same code but with the `-p` option."
   ]
  },
  {
   "cell_type": "code",
   "execution_count": 13,
   "metadata": {
    "vscode": {
     "languageId": "shellscript"
    }
   },
   "outputs": [],
   "source": [
    "mkdir -p /tmp/test/my_dir"
   ]
  },
  {
   "cell_type": "markdown",
   "metadata": {},
   "source": [
    "There are no any error messages. And the corresponding file tree is created, which is shown in the next cell."
   ]
  },
  {
   "cell_type": "code",
   "execution_count": 14,
   "metadata": {
    "vscode": {
     "languageId": "shellscript"
    }
   },
   "outputs": [
    {
     "name": "stdout",
     "output_type": "stream",
     "text": [
      "\u001b[01;34m/tmp/test\u001b[0m\n",
      "└── \u001b[01;34mmy_dir\u001b[0m\n",
      "\n",
      "2 directories, 0 files\n"
     ]
    }
   ],
   "source": [
    "tree /tmp/test"
   ]
  },
  {
   "cell_type": "markdown",
   "metadata": {},
   "source": [
    "**Note:** You can use the `-p` option to suppress the error associated with creating the directory twice. The following cell attempts to create `/tmp/double_creation` twice, but the second attempt uses the `-p` option."
   ]
  },
  {
   "cell_type": "code",
   "execution_count": 5,
   "metadata": {
    "vscode": {
     "languageId": "shellscript"
    }
   },
   "outputs": [],
   "source": [
    "mkdir /tmp/double_creation\n",
    "mkdir -p /tmp/double_creation\n",
    "rm -r /tmp/double_creation"
   ]
  },
  {
   "cell_type": "markdown",
   "metadata": {},
   "source": [
    "## Remove (rm)\n",
    "\n",
    "The command to remove the file or directory is `rm`. Options that are specific to this command are listed before:\n",
    "\n",
    "| Option | Description |\n",
    "|--------|-------------|\n",
    "| `-f`   | Force removal without prompting, ignore nonexistent files. |\n",
    "| `-i`   | Prompt before each removal. |\n",
    "| `-I`   | Prompt once before removing more than three files or when removing recursively. |\n",
    "| `-r`, `-R`   | Remove directories and their contents recursively. |\n",
    "| `-d`   | Remove empty directories. |\n",
    "| `-v`   | Verbose mode, show files as they are removed. |"
   ]
  },
  {
   "cell_type": "markdown",
   "metadata": {},
   "source": [
    "### Recursively\n",
    "\n",
    "By default, the `rm` command does not allow you to delete a directory containing other files. Use the `-r` command to remove a directory and all its nested files."
   ]
  },
  {
   "cell_type": "markdown",
   "metadata": {},
   "source": [
    "---\n",
    "\n",
    "The following cell creates a directory and places a file inside it."
   ]
  },
  {
   "cell_type": "code",
   "execution_count": 1,
   "metadata": {
    "vscode": {
     "languageId": "shellscript"
    }
   },
   "outputs": [],
   "source": [
    "mkdir /tmp/remove_me/\n",
    "echo \"some information\" > /tmp/remove_me/file1.txt"
   ]
  },
  {
   "cell_type": "markdown",
   "metadata": {},
   "source": [
    "It's not possible to remove the directory just by using the `rm` command."
   ]
  },
  {
   "cell_type": "code",
   "execution_count": 2,
   "metadata": {
    "vscode": {
     "languageId": "shellscript"
    }
   },
   "outputs": [
    {
     "name": "stdout",
     "output_type": "stream",
     "text": [
      "rm: cannot remove '/tmp/remove_me': Is a directory\n"
     ]
    },
    {
     "ename": "",
     "evalue": "1",
     "output_type": "error",
     "traceback": []
    }
   ],
   "source": [
    "rm /tmp/remove_me"
   ]
  },
  {
   "cell_type": "markdown",
   "metadata": {},
   "source": [
    "But with `rm -r` everything goes fine."
   ]
  },
  {
   "cell_type": "code",
   "execution_count": 3,
   "metadata": {
    "vscode": {
     "languageId": "shellscript"
    }
   },
   "outputs": [],
   "source": [
    "rm -r /tmp/remove_me"
   ]
  },
  {
   "cell_type": "markdown",
   "metadata": {},
   "source": [
    "## Find\n",
    "\n",
    "Linux `find` command allows you to search for files in the system. It have following syntax `find <directory-to-search> <criteria> <action>` where:\n",
    "\n",
    "- `<directory-to-search>`: Specifies the directory where you want to begin the search.\n",
    "- `<criteria>`: Defines the properties of the files you are searching for. This can include the file name, size, modification date, permissions, and more.\n",
    "- `<action>`: Specifies what to do with the found files. By default, it prints the path to the files, but it can also execute other commands on them."
   ]
  },
  {
   "cell_type": "markdown",
   "metadata": {},
   "source": [
    "---\n",
    "\n",
    "While generating the file tree used as an example on this page, a random folder was created, containing a file named `file.txt`. The following cell helps establish the specific path of the file using the `find` utility."
   ]
  },
  {
   "cell_type": "code",
   "execution_count": 17,
   "metadata": {
    "vscode": {
     "languageId": "shellscript"
    }
   },
   "outputs": [
    {
     "name": "stdout",
     "output_type": "stream",
     "text": [
      "/tmp/files_folders/ghabbnmc/file.txt\n"
     ]
    }
   ],
   "source": [
    "find /tmp/files_folders -name file.txt"
   ]
  }
 ],
 "metadata": {
  "kernelspec": {
   "display_name": "Bash",
   "language": "bash",
   "name": "bash"
  },
  "language_info": {
   "codemirror_mode": "shell",
   "file_extension": ".sh",
   "mimetype": "text/x-sh",
   "name": "bash"
  }
 },
 "nbformat": 4,
 "nbformat_minor": 2
}
