{
 "cells": [
  {
   "cell_type": "markdown",
   "id": "e4582070",
   "metadata": {},
   "source": [
    "# Environment\n",
    "\n",
    "In a Linux shell, the environment defines many aspects of shell behavior. This page discusses commands for configuring the environment, as well as the specific behaviors associated with different parameters."
   ]
  },
  {
   "cell_type": "markdown",
   "id": "db25575e",
   "metadata": {},
   "source": [
    "## Variables\n",
    "\n",
    "You can define variables in the current shell session using the syntax `<variable_name>=<value>`. To access a variable, use the syntax `$variable_name`. These variables will be substituted in the current command.\n",
    "\n",
    "There is a special type of variable widely used in practice — environment variables. **Environment variables** are variables inherited by nested shells. The environment passed to any executed command includes the shell’s initial environment. Use the syntax `export <variable_name>=<value>` to set an environment variable.\n",
    "\n",
    "Check:\n",
    "\n",
    "- [Particular page](bash/variables.ipynb) on this website.\n",
    "- [Environmennt](https://www.gnu.org/software/bash/manual/html_node/Environment.html) desciription on bash documentation."
   ]
  },
  {
   "cell_type": "markdown",
   "id": "201c8ea7",
   "metadata": {},
   "source": [
    "---\n",
    "\n",
    "The following code demonstrates defining a variable and substituting its value into the `echo` command."
   ]
  },
  {
   "cell_type": "code",
   "execution_count": null,
   "id": "05c2661b",
   "metadata": {
    "vscode": {
     "languageId": "shellscript"
    }
   },
   "outputs": [
    {
     "name": "stdout",
     "output_type": "stream",
     "text": [
      "10\n"
     ]
    }
   ],
   "source": [
    "MY_VAR=10\n",
    "echo $MY_VAR"
   ]
  },
  {
   "cell_type": "markdown",
   "id": "0fc8b949",
   "metadata": {},
   "source": [
    "The following cell defines an environment variable and a regular variable, then attempts to access both from a nested `bash` shell:"
   ]
  },
  {
   "cell_type": "code",
   "execution_count": null,
   "id": "486c37bc",
   "metadata": {
    "vscode": {
     "languageId": "shellscript"
    }
   },
   "outputs": [
    {
     "name": "stdout",
     "output_type": "stream",
     "text": [
      " environment\n"
     ]
    }
   ],
   "source": [
    "export env_var=\"environment\"\n",
    "just_var=\"local\"\n",
    "\n",
    "bash -c \"echo \\\"\\$just_var \\$env_var\\\"\""
   ]
  },
  {
   "cell_type": "markdown",
   "id": "1aedd716",
   "metadata": {},
   "source": [
    "As a result, only the value for the environment variable exists in the nested shell."
   ]
  },
  {
   "cell_type": "markdown",
   "id": "1285f03e",
   "metadata": {},
   "source": [
    "## Path\n",
    "\n",
    "In Linux, `PATH` is an environment variable that specifies where the system should look for commands to be executed. Each path is separated by a colon (`:`). When you type any command in the terminal, the system searches through each path listed in the `PATH` variable for the corresponding command.\n",
    "\n",
    "For more details check [Path](shell/path.ipynb) page."
   ]
  },
  {
   "cell_type": "markdown",
   "id": "4c88c985",
   "metadata": {},
   "source": [
    "---\n",
    "\n",
    "The following cell displays the `PATH` value of the environment the notebook is running in."
   ]
  },
  {
   "cell_type": "code",
   "execution_count": null,
   "id": "d1eaa36b",
   "metadata": {
    "vscode": {
     "languageId": "shellscript"
    }
   },
   "outputs": [
    {
     "name": "stdout",
     "output_type": "stream",
     "text": [
      "/root/.vscode-server/bin/cd4ee3b1c348a13bafd8f9ad8060705f6d4b9cba/bin/remote-cli:/usr/local/bin:/usr/local/sbin:/usr/local/bin:/usr/sbin:/usr/bin:/sbin:/bin\n"
     ]
    }
   ],
   "source": [
    "echo $PATH"
   ]
  },
  {
   "cell_type": "markdown",
   "id": "b1c800df",
   "metadata": {},
   "source": [
    "Consider the contents of `/usr/local/bin`, one of the folders typically listed in the `PATH`."
   ]
  },
  {
   "cell_type": "code",
   "execution_count": null,
   "id": "03d04f7c",
   "metadata": {
    "vscode": {
     "languageId": "shellscript"
    }
   },
   "outputs": [
    {
     "name": "stdout",
     "output_type": "stream",
     "text": [
      "2to3\t   ipython\t       jupyter-troubleshoot  pygmentize\n",
      "2to3-3.12  ipython3\t       pip\t\t     python\n",
      "debugpy    jupyter\t       pip3\t\t     python-config\n",
      "filetype   jupyter-kernel      pip3.12\t\t     python3\n",
      "idle\t   jupyter-kernelspec  pydoc\t\t     python3-config\n",
      "idle3\t   jupyter-migrate     pydoc3\t\t     python3.12\n",
      "idle3.12   jupyter-run\t       pydoc3.12\t     python3.12-config\n"
     ]
    }
   ],
   "source": [
    "ls /usr/local/bin"
   ]
  },
  {
   "cell_type": "markdown",
   "id": "b673753a",
   "metadata": {},
   "source": [
    "Some of the names correspond to commands commonly used for managing Jupyter."
   ]
  }
 ],
 "metadata": {
  "language_info": {
   "name": "python"
  }
 },
 "nbformat": 4,
 "nbformat_minor": 5
}
