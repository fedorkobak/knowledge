{
 "cells": [
  {
   "cell_type": "markdown",
   "id": "22da7fbd",
   "metadata": {},
   "source": [
    "# Shell\n",
    "\n",
    "Linux shell have a lot of features inportant to know. This section considers different behaviour patterns"
   ]
  },
  {
   "cell_type": "markdown",
   "id": "ee983c3a",
   "metadata": {},
   "source": [
    "## Manage input/ouput\n",
    "\n",
    "\n",
    "There is a number of tools that are commonly used to work with the terminal.\n",
    "\n",
    "| **Tool**    | **Description**                                                               |\n",
    "|-------------|-------------------------------------------------------------------------------|\n",
    "| `\\|` pipe    | Passes the result of one command to another command.                         |\n",
    "| `grep`      | Searches for patterns in the output of a command.                             |\n",
    "| `>`         | Redirects the command output to a file.                                       |\n",
    "| `tee`       | Simultaneously redirects the output to both the standard output and a file.   |\n",
    "| Heredoc `<<` syntax | Allows you to write multi-line instructions directly in the terminal. |\n",
    "| `<command> &` | You can run a command detached using the `&`.                               |\n",
    "\n",
    "Check more details in the [special page](shell/manage_input_output.ipynb)."
   ]
  },
  {
   "cell_type": "markdown",
   "id": "0d74ae9e",
   "metadata": {},
   "source": [
    "## Variables\n",
    "\n",
    "You can define variables in the current shell session using the syntax `<variable_name>=<value>`. To access a variable, use the syntax `$variable_name`. These variables will be substituted in the current command.\n",
    "\n",
    "There is a special type of variable widely used in practice — environment variables. **Environment variables** are variables inherited by nested shells. The environment passed to any executed command includes the shell’s initial environment. Use the syntax `export <variable_name>=<value>` to set an environment variable.\n",
    "\n",
    "Check:\n",
    "\n",
    "- [Particular page](bash/variables.ipynb) on this website.\n",
    "- [Environmennt](https://www.gnu.org/software/bash/manual/html_node/Environment.html) desciription on bash documentation."
   ]
  },
  {
   "cell_type": "markdown",
   "id": "d67b1aac",
   "metadata": {},
   "source": [
    "---\n",
    "\n",
    "The following code demonstrates defining a variable and substituting its value into the `echo` command."
   ]
  },
  {
   "cell_type": "code",
   "execution_count": null,
   "id": "7c032195",
   "metadata": {
    "vscode": {
     "languageId": "shellscript"
    }
   },
   "outputs": [
    {
     "name": "stdout",
     "output_type": "stream",
     "text": [
      "10\n"
     ]
    }
   ],
   "source": [
    "MY_VAR=10\n",
    "echo $MY_VAR"
   ]
  },
  {
   "cell_type": "markdown",
   "id": "d8475bfc",
   "metadata": {},
   "source": [
    "The following cell defines an environment variable and a regular variable, then attempts to access both from a nested `bash` shell:"
   ]
  },
  {
   "cell_type": "code",
   "execution_count": null,
   "id": "c56902e3",
   "metadata": {
    "vscode": {
     "languageId": "shellscript"
    }
   },
   "outputs": [
    {
     "name": "stdout",
     "output_type": "stream",
     "text": [
      " environment\n"
     ]
    }
   ],
   "source": [
    "export env_var=\"environment\"\n",
    "just_var=\"local\"\n",
    "\n",
    "bash -c \"echo \\\"\\$just_var \\$env_var\\\"\""
   ]
  },
  {
   "cell_type": "markdown",
   "id": "a889192d",
   "metadata": {},
   "source": [
    "As a result, only the value for the environment variable exists in the nested shell."
   ]
  },
  {
   "cell_type": "markdown",
   "id": "260fa097",
   "metadata": {},
   "source": [
    "## Exit status\n",
    "\n",
    "When your program exits, it returns a number that describes the circumstances under which the program finished. This output is stored in the `$?` variable, allowing you to check the state of the command.\n",
    "\n",
    "| **Code** | **Description**                                      |\n",
    "|----------|------------------------------------------------------|\n",
    "| **0**    | Success: The program or command completed successfully. |\n",
    "| **1**    | General error: A generic error occurred.             |\n",
    "| **2**    | Misuse of shell builtins: Incorrect usage of a shell command or builtin. |\n",
    "| **126**  | Command invoked cannot execute: Found but not executable. |\n",
    "| **127**  | Command not found: Command not found in system PATH or misspelled. |\n",
    "| **128**  | Invalid exit argument: Program returned a value outside the valid exit range. |\n",
    "| **130**  | Terminated by Ctrl+C: Process killed by SIGINT signal. |\n",
    "| **137**  | Killed by SIGKILL: Process terminated by `kill -9`.  |\n",
    "| **139**  | Segmentation fault: Process terminated by SIGSEGV.   |\n",
    "| **128+N**| Termination by signal \\(N\\): Exit code represents signal \\(N\\). |\n",
    "| **10**   | (Custom) Missing configuration file.                 |\n",
    "| **20**   | (Custom) Resource unavailable.                       |\n"
   ]
  },
  {
   "cell_type": "markdown",
   "id": "26ab9269",
   "metadata": {},
   "source": [
    "---\n",
    "\n",
    "The following cells shows examples of invoking `?` varable in different cases."
   ]
  },
  {
   "cell_type": "markdown",
   "id": "cd9cffe0",
   "metadata": {},
   "source": [
    "The basic case is when a program finishes successfully, resulting in `0`:"
   ]
  },
  {
   "cell_type": "code",
   "execution_count": null,
   "id": "52fa6aab",
   "metadata": {
    "vscode": {
     "languageId": "shellscript"
    }
   },
   "outputs": [
    {
     "name": "stdout",
     "output_type": "stream",
     "text": [
      "hello world\n",
      "0\n"
     ]
    }
   ],
   "source": [
    "echo \"hello world\"\n",
    "echo $?"
   ]
  },
  {
   "cell_type": "markdown",
   "id": "6fb0a535",
   "metadata": {},
   "source": [
    "In cases where a command is passed a parameter it cannot handle, such as with the `ls` command, it returns a status code of `2`."
   ]
  },
  {
   "cell_type": "code",
   "execution_count": null,
   "id": "dd18f309",
   "metadata": {
    "vscode": {
     "languageId": "shellscript"
    }
   },
   "outputs": [
    {
     "name": "stdout",
     "output_type": "stream",
     "text": [
      "ls: option requires an argument -- 'w'\n",
      "Try 'ls --help' for more information.\n",
      "2\n"
     ]
    }
   ],
   "source": [
    "ls -w\n",
    "echo $?"
   ]
  },
  {
   "cell_type": "markdown",
   "id": "aae39240",
   "metadata": {},
   "source": [
    "An example of invoking a `Command not found` exception."
   ]
  },
  {
   "cell_type": "code",
   "execution_count": null,
   "id": "08e959ed",
   "metadata": {
    "vscode": {
     "languageId": "shellscript"
    }
   },
   "outputs": [
    {
     "name": "stdout",
     "output_type": "stream",
     "text": [
      "this_command_doesnt_exist: command not found\n",
      "127\n"
     ]
    }
   ],
   "source": [
    "this_command_doesnt_exist\n",
    "echo $?"
   ]
  },
  {
   "cell_type": "markdown",
   "id": "674a1c12",
   "metadata": {},
   "source": [
    "## Path\n",
    "\n",
    "In Linux, `PATH` is an environment variable that specifies where the system should look for commands to be executed. Each path is separated by a colon (`:`). When you type any command in the terminal, the system searches through each path listed in the `PATH` variable for the corresponding command.\n",
    "\n",
    "For more details check [Path](shell/path.ipynb) page."
   ]
  },
  {
   "cell_type": "markdown",
   "id": "91f9dc4b",
   "metadata": {},
   "source": [
    "---\n",
    "\n",
    "The following cell displays the `PATH` value of the environment the notebook is running in."
   ]
  },
  {
   "cell_type": "code",
   "execution_count": null,
   "id": "4246ffd3",
   "metadata": {
    "vscode": {
     "languageId": "shellscript"
    }
   },
   "outputs": [
    {
     "name": "stdout",
     "output_type": "stream",
     "text": [
      "/root/.vscode-server/bin/cd4ee3b1c348a13bafd8f9ad8060705f6d4b9cba/bin/remote-cli:/usr/local/bin:/usr/local/sbin:/usr/local/bin:/usr/sbin:/usr/bin:/sbin:/bin\n"
     ]
    }
   ],
   "source": [
    "echo $PATH"
   ]
  },
  {
   "cell_type": "markdown",
   "id": "01fb051c",
   "metadata": {},
   "source": [
    "Consider the contents of `/usr/local/bin`, one of the folders typically listed in the `PATH`."
   ]
  },
  {
   "cell_type": "code",
   "execution_count": null,
   "id": "c094e86d",
   "metadata": {
    "vscode": {
     "languageId": "shellscript"
    }
   },
   "outputs": [
    {
     "name": "stdout",
     "output_type": "stream",
     "text": [
      "2to3\t   ipython\t       jupyter-troubleshoot  pygmentize\n",
      "2to3-3.12  ipython3\t       pip\t\t     python\n",
      "debugpy    jupyter\t       pip3\t\t     python-config\n",
      "filetype   jupyter-kernel      pip3.12\t\t     python3\n",
      "idle\t   jupyter-kernelspec  pydoc\t\t     python3-config\n",
      "idle3\t   jupyter-migrate     pydoc3\t\t     python3.12\n",
      "idle3.12   jupyter-run\t       pydoc3.12\t     python3.12-config\n"
     ]
    }
   ],
   "source": [
    "ls /usr/local/bin"
   ]
  },
  {
   "cell_type": "markdown",
   "id": "0e22a407",
   "metadata": {},
   "source": [
    "Some of the names correspond to commands commonly used for managing Jupyter."
   ]
  },
  {
   "cell_type": "markdown",
   "id": "81f14765",
   "metadata": {},
   "source": [
    "## Bash\n",
    "\n",
    "Bash is a shell commonly used in Linux-based operating systems. Mastering Bash allows you to combine results from Linux utilities and create your own, which is a straightforward way to optimize tasks. \n",
    "Find out more on the [specific page](shell/bash.ipynb) or in the [official manual](https://www.gnu.org/software/bash/manual/bash.html)."
   ]
  },
  {
   "cell_type": "markdown",
   "id": "73f8e6dc",
   "metadata": {},
   "source": [
    "---\n",
    "\n",
    "The following example shows how to extract raw JSON using the `curl` command, format it nicely with the `jp` tool, and transform it to YAML format using the `yp` tool. To perform all this, we use just two Bash command operators: `|` and `$`."
   ]
  },
  {
   "cell_type": "code",
   "execution_count": null,
   "id": "94813417",
   "metadata": {
    "vscode": {
     "languageId": "shellscript"
    }
   },
   "outputs": [
    {
     "name": "stdout",
     "output_type": "stream",
     "text": [
      "5d54c061747cf404cb1b6623515f3836d562367470208a9e008c4f7c7f0c2b75\n",
      "\u001b[1;39m{\n",
      "  \u001b[0m\u001b[34;1m\"slideshow\"\u001b[0m\u001b[1;39m: \u001b[0m\u001b[1;39m{\n",
      "    \u001b[0m\u001b[34;1m\"author\"\u001b[0m\u001b[1;39m: \u001b[0m\u001b[0;32m\"Yours Truly\"\u001b[0m\u001b[1;39m,\n",
      "    \u001b[0m\u001b[34;1m\"date\"\u001b[0m\u001b[1;39m: \u001b[0m\u001b[0;32m\"date of publication\"\u001b[0m\u001b[1;39m,\n",
      "    \u001b[0m\u001b[34;1m\"slides\"\u001b[0m\u001b[1;39m: \u001b[0m\u001b[1;39m[\n",
      "      \u001b[1;39m{\n",
      "        \u001b[0m\u001b[34;1m\"title\"\u001b[0m\u001b[1;39m: \u001b[0m\u001b[0;32m\"Wake up to WonderWidgets!\"\u001b[0m\u001b[1;39m,\n",
      "        \u001b[0m\u001b[34;1m\"type\"\u001b[0m\u001b[1;39m: \u001b[0m\u001b[0;32m\"all\"\u001b[0m\u001b[1;39m\n",
      "      \u001b[1;39m}\u001b[0m\u001b[1;39m,\n",
      "      \u001b[1;39m{\n",
      "        \u001b[0m\u001b[34;1m\"items\"\u001b[0m\u001b[1;39m: \u001b[0m\u001b[1;39m[\n",
      "          \u001b[0;32m\"Why <em>WonderWidgets</em> are great\"\u001b[0m\u001b[1;39m,\n",
      "          \u001b[0;32m\"Who <em>buys</em> WonderWidgets\"\u001b[0m\u001b[1;39m\n",
      "        \u001b[1;39m]\u001b[0m\u001b[1;39m,\n",
      "        \u001b[0m\u001b[34;1m\"title\"\u001b[0m\u001b[1;39m: \u001b[0m\u001b[0;32m\"Overview\"\u001b[0m\u001b[1;39m,\n",
      "        \u001b[0m\u001b[34;1m\"type\"\u001b[0m\u001b[1;39m: \u001b[0m\u001b[0;32m\"all\"\u001b[0m\u001b[1;39m\n",
      "      \u001b[1;39m}\u001b[0m\u001b[1;39m\n",
      "    \u001b[1;39m]\u001b[0m\u001b[1;39m,\n",
      "    \u001b[0m\u001b[34;1m\"title\"\u001b[0m\u001b[1;39m: \u001b[0m\u001b[0;32m\"Sample Slide Show\"\u001b[0m\u001b[1;39m\n",
      "  \u001b[1;39m}\u001b[0m\u001b[1;39m\n",
      "\u001b[1;39m}\u001b[0m\n",
      "============================================================\n",
      "\u001b[36mslideshow\u001b[0m:\u001b[36m\u001b[0m\n",
      "\u001b[36m  author\u001b[0m:\u001b[32m Yours Truly\u001b[0m\n",
      "\u001b[32m  \u001b[0m\u001b[36mdate\u001b[0m:\u001b[32m date of publication\u001b[0m\n",
      "\u001b[32m  \u001b[0m\u001b[36mslides\u001b[0m:\n",
      "    -\u001b[36m title\u001b[0m:\u001b[32m Wake up to WonderWidgets!\u001b[0m\n",
      "\u001b[32m      \u001b[0m\u001b[36mtype\u001b[0m:\u001b[32m all\u001b[0m\n",
      "\u001b[32m    \u001b[0m-\u001b[36m items\u001b[0m:\n",
      "        -\u001b[32m Why <em>WonderWidgets</em> are great\u001b[0m\n",
      "\u001b[32m        \u001b[0m-\u001b[32m Who <em>buys</em> WonderWidgets\u001b[0m\n",
      "\u001b[32m      \u001b[0m\u001b[36mtitle\u001b[0m:\u001b[32m Overview\u001b[0m\n",
      "\u001b[32m      \u001b[0m\u001b[36mtype\u001b[0m:\u001b[32m all\u001b[0m\n",
      "\u001b[32m  \u001b[0m\u001b[36mtitle\u001b[0m:\u001b[32m Sample Slide Show\u001b[0m\n",
      "temp_http\n"
     ]
    }
   ],
   "source": [
    "docker run -itd --name temp_http --rm -p 80:80 kennethreitz/httpbin\n",
    "\n",
    "json_output=$(curl -s localhost:80/json)\n",
    "echo $json_output | jq\n",
    "echo \"============================================================\"\n",
    "echo \"$json_output\" | jq '.' | yq -P\n",
    "\n",
    "docker stop temp_http"
   ]
  },
  {
   "cell_type": "markdown",
   "id": "3b122519",
   "metadata": {},
   "source": [
    "## Users & groups\n",
    "\n",
    "There are tools to organize users of the system:\n",
    "\n",
    "- `/etc/passwd` file: contains information about all users in the system.  \n",
    "- `useradd` command: adds a new user to the system.  \n",
    "- `userdel` command: deletes a specified user from the system.\n",
    "- To determine the current user, you can use the `whoami` command or simply retrieve the value of the `$USER` variable (`echo $USER`).\n",
    "\n",
    "Find out more in the [corresponding page](shell/users_groups.ipynb)."
   ]
  },
  {
   "cell_type": "markdown",
   "id": "21870054",
   "metadata": {},
   "source": [
    "---\n",
    "\n",
    "The following cell uses the `useradd` command to add users to the system:"
   ]
  },
  {
   "cell_type": "code",
   "execution_count": null,
   "id": "bc46ee59",
   "metadata": {
    "vscode": {
     "languageId": "shellscript"
    }
   },
   "outputs": [],
   "source": [
    "useradd fedor"
   ]
  },
  {
   "cell_type": "markdown",
   "id": "5e13394f",
   "metadata": {},
   "source": [
    "Now by running `cat` on `/etc/passwd` you can check the available users in the system:"
   ]
  },
  {
   "cell_type": "code",
   "execution_count": null,
   "id": "42482fe2",
   "metadata": {
    "vscode": {
     "languageId": "shellscript"
    }
   },
   "outputs": [
    {
     "name": "stdout",
     "output_type": "stream",
     "text": [
      "root:x:0:0:root:/root:/bin/bash\n",
      "daemon:x:1:1:daemon:/usr/sbin:/usr/sbin/nologin\n",
      "bin:x:2:2:bin:/bin:/usr/sbin/nologin\n",
      "sys:x:3:3:sys:/dev:/usr/sbin/nologin\n",
      "sync:x:4:65534:sync:/bin:/bin/sync\n",
      "games:x:5:60:games:/usr/games:/usr/sbin/nologin\n",
      "man:x:6:12:man:/var/cache/man:/usr/sbin/nologin\n",
      "lp:x:7:7:lp:/var/spool/lpd:/usr/sbin/nologin\n",
      "mail:x:8:8:mail:/var/mail:/usr/sbin/nologin\n",
      "news:x:9:9:news:/var/spool/news:/usr/sbin/nologin\n",
      "uucp:x:10:10:uucp:/var/spool/uucp:/usr/sbin/nologin\n",
      "proxy:x:13:13:proxy:/bin:/usr/sbin/nologin\n",
      "www-data:x:33:33:www-data:/var/www:/usr/sbin/nologin\n",
      "backup:x:34:34:backup:/var/backups:/usr/sbin/nologin\n",
      "list:x:38:38:Mailing List Manager:/var/list:/usr/sbin/nologin\n",
      "irc:x:39:39:ircd:/run/ircd:/usr/sbin/nologin\n",
      "_apt:x:42:65534::/nonexistent:/usr/sbin/nologin\n",
      "nobody:x:65534:65534:nobody:/nonexistent:/usr/sbin/nologin\n",
      "systemd-network:x:998:998:systemd Network Management:/:/usr/sbin/nologin\n",
      "systemd-timesync:x:997:997:systemd Time Synchronization:/:/usr/sbin/nologin\n",
      "messagebus:x:100:101::/nonexistent:/usr/sbin/nologin\n",
      "polkitd:x:996:996:polkit:/nonexistent:/usr/sbin/nologin\n",
      "fedor:x:1001:1001::/home/fedor:/bin/sh\n"
     ]
    }
   ],
   "source": [
    "cat /etc/passwd"
   ]
  },
  {
   "cell_type": "markdown",
   "id": "69943d6e",
   "metadata": {},
   "source": [
    "There is a user we just created. Try the `userdel` command to delete `fedor` from the system. The following cell deletes the user and lists available users:"
   ]
  },
  {
   "cell_type": "code",
   "execution_count": null,
   "id": "27b5c6ab",
   "metadata": {
    "vscode": {
     "languageId": "shellscript"
    }
   },
   "outputs": [
    {
     "name": "stdout",
     "output_type": "stream",
     "text": [
      "root:x:0:0:root:/root:/bin/bash\n",
      "daemon:x:1:1:daemon:/usr/sbin:/usr/sbin/nologin\n",
      "bin:x:2:2:bin:/bin:/usr/sbin/nologin\n",
      "sys:x:3:3:sys:/dev:/usr/sbin/nologin\n",
      "sync:x:4:65534:sync:/bin:/bin/sync\n",
      "games:x:5:60:games:/usr/games:/usr/sbin/nologin\n",
      "man:x:6:12:man:/var/cache/man:/usr/sbin/nologin\n",
      "lp:x:7:7:lp:/var/spool/lpd:/usr/sbin/nologin\n",
      "mail:x:8:8:mail:/var/mail:/usr/sbin/nologin\n",
      "news:x:9:9:news:/var/spool/news:/usr/sbin/nologin\n",
      "uucp:x:10:10:uucp:/var/spool/uucp:/usr/sbin/nologin\n",
      "proxy:x:13:13:proxy:/bin:/usr/sbin/nologin\n",
      "www-data:x:33:33:www-data:/var/www:/usr/sbin/nologin\n",
      "backup:x:34:34:backup:/var/backups:/usr/sbin/nologin\n",
      "list:x:38:38:Mailing List Manager:/var/list:/usr/sbin/nologin\n",
      "irc:x:39:39:ircd:/run/ircd:/usr/sbin/nologin\n",
      "_apt:x:42:65534::/nonexistent:/usr/sbin/nologin\n",
      "nobody:x:65534:65534:nobody:/nonexistent:/usr/sbin/nologin\n",
      "systemd-network:x:998:998:systemd Network Management:/:/usr/sbin/nologin\n",
      "systemd-timesync:x:997:997:systemd Time Synchronization:/:/usr/sbin/nologin\n",
      "messagebus:x:100:101::/nonexistent:/usr/sbin/nologin\n",
      "polkitd:x:996:996:polkit:/nonexistent:/usr/sbin/nologin\n"
     ]
    }
   ],
   "source": [
    "userdel fedor\n",
    "cat /etc/passwd"
   ]
  }
 ],
 "metadata": {
  "language_info": {
   "name": "python"
  }
 },
 "nbformat": 4,
 "nbformat_minor": 5
}
