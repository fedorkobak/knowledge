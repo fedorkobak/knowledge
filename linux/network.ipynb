{
 "cells": [
  {
   "cell_type": "markdown",
   "metadata": {},
   "source": [
    "# Network\n",
    "\n",
    "There are tons of utilities for working with networking in Linux. "
   ]
  },
  {
   "cell_type": "markdown",
   "metadata": {},
   "source": [
    "## Ping\n",
    "\n",
    "Ping is a classic command that allows to check if you have the connectivity with the server.\n",
    "\n",
    "**Note:** Install on Ubuntu with the command `apt install iputils-ping`."
   ]
  },
  {
   "cell_type": "markdown",
   "metadata": {},
   "source": [
    "---\n",
    "\n",
    "The following cell pings `google.com`. It pings for 3 times, which is specified with `-c 3`."
   ]
  },
  {
   "cell_type": "code",
   "execution_count": 2,
   "metadata": {
    "vscode": {
     "languageId": "shellscript"
    }
   },
   "outputs": [
    {
     "name": "stdout",
     "output_type": "stream",
     "text": [
      "PING google.com (216.58.209.14) 56(84) bytes of data.\n",
      "64 bytes from sof01s12-in-f14.1e100.net (216.58.209.14): icmp_seq=1 ttl=119 time=30.3 ms\n",
      "64 bytes from sof01s12-in-f14.1e100.net (216.58.209.14): icmp_seq=2 ttl=119 time=30.4 ms\n",
      "64 bytes from sof01s12-in-f14.1e100.net (216.58.209.14): icmp_seq=3 ttl=119 time=30.3 ms\n",
      "\n",
      "--- google.com ping statistics ---\n",
      "3 packets transmitted, 3 received, 0% packet loss, time 2002ms\n",
      "rtt min/avg/max/mdev = 30.276/30.325/30.354/0.034 ms\n"
     ]
    }
   ],
   "source": [
    "ping -c 3 google.com"
   ]
  },
  {
   "cell_type": "markdown",
   "metadata": {},
   "source": [
    "## Curl"
   ]
  },
  {
   "cell_type": "markdown",
   "metadata": {},
   "source": [
    "`curl` is a command-line tool for transferring data using various network protocols. In Linux, it’s commonly used to interact with web servers.\n",
    "\n",
    "Find out more in the [specific page](network/curl.ipynb)."
   ]
  },
  {
   "cell_type": "markdown",
   "metadata": {},
   "source": [
    "---\n",
    "\n",
    "Here is an example of a request to the remote server using curl."
   ]
  },
  {
   "cell_type": "code",
   "execution_count": null,
   "metadata": {
    "vscode": {
     "languageId": "shellscript"
    }
   },
   "outputs": [
    {
     "name": "stdout",
     "output_type": "stream",
     "text": [
      "{\n",
      "  \"args\": {}, \n",
      "  \"data\": \"\", \n",
      "  \"files\": {}, \n",
      "  \"form\": {}, \n",
      "  \"headers\": {\n",
      "    \"Accept\": \"*/*\", \n",
      "    \"Host\": \"httpbin.org\", \n",
      "    \"User-Agent\": \"curl/7.81.0\", \n",
      "    \"X-Amzn-Trace-Id\": \"Root=1-67501c2a-15500f651c7b43116850fec9\"\n",
      "  }, \n",
      "  \"json\": null, \n",
      "  \"method\": \"GET\", \n",
      "  \"origin\": \"212.98.168.102\", \n",
      "  \"url\": \"https://httpbin.org/anything\"\n",
      "}\n"
     ]
    }
   ],
   "source": [
    "curl https://httpbin.org/anything"
   ]
  },
  {
   "cell_type": "markdown",
   "metadata": {},
   "source": [
    "## Domain names (`nslookup`)\n",
    "\n",
    "With `nslookup` you can check the IP address that corresponds to the given domain name."
   ]
  },
  {
   "cell_type": "markdown",
   "metadata": {},
   "source": [
    "---\n",
    "\n",
    "For example, consider the `nslookup` application to the `localhost` domain name."
   ]
  },
  {
   "cell_type": "code",
   "execution_count": 4,
   "metadata": {
    "vscode": {
     "languageId": "shellscript"
    }
   },
   "outputs": [
    {
     "name": "stdout",
     "output_type": "stream",
     "text": [
      "Server:\t\t127.0.0.53\n",
      "Address:\t127.0.0.53#53\n",
      "\n",
      "Name:\tlocalhost\n",
      "Address: 127.0.0.1\n",
      "Name:\tlocalhost\n",
      "Address: ::1\n",
      "\n"
     ]
    }
   ],
   "source": [
    "nslookup localhost"
   ]
  },
  {
   "cell_type": "markdown",
   "metadata": {},
   "source": [
    "Almost the same output when using `nslookup` on the `google.com` domain."
   ]
  },
  {
   "cell_type": "code",
   "execution_count": 2,
   "metadata": {
    "vscode": {
     "languageId": "shellscript"
    }
   },
   "outputs": [
    {
     "name": "stdout",
     "output_type": "stream",
     "text": [
      "Server:\t\t127.0.0.53\n",
      "Address:\t127.0.0.53#53\n",
      "\n",
      "Non-authoritative answer:\n",
      "Name:\tgoogle.com\n",
      "Address: 142.250.186.46\n",
      "Name:\tgoogle.com\n",
      "Address: 2a00:1450:4001:82f::200e\n",
      "\n"
     ]
    }
   ],
   "source": [
    "nslookup google.com"
   ]
  },
  {
   "cell_type": "markdown",
   "metadata": {},
   "source": [
    "## Netstat\n",
    "\n",
    "`netstat` utility displays open network sockets, routing tables, and a number of network interface (network interface controller or software-defined network interface) and network protocol statistics. There is [specific wikipedial page](https://en.wikipedia.org/wiki/Netstat) for this tool. In linux it's a part of `net-tools` package, so use `apt install net-tools` for installtion on Ubuntu."
   ]
  },
  {
   "cell_type": "markdown",
   "metadata": {},
   "source": [
    "---\n",
    "\n",
    "Docker containes usually have already pre-configured docker network settings. As the example we'll try to apply `netstat` to the containers of different services."
   ]
  },
  {
   "cell_type": "markdown",
   "metadata": {},
   "source": [
    "The following cell applies `netstat -tulp` to the `httpbin` container. It generally displays the listening sockets and the processes associated with them."
   ]
  },
  {
   "cell_type": "code",
   "execution_count": 6,
   "metadata": {
    "vscode": {
     "languageId": "shellscript"
    }
   },
   "outputs": [
    {
     "name": "stdout",
     "output_type": "stream",
     "text": [
      "Active Internet connections (only servers)\n",
      "Proto Recv-Q Send-Q Local Address           Foreign Address         State       PID/Program name    \n",
      "tcp        0      0 0.0.0.0:http            0.0.0.0:*               LISTEN      1/python3           \n"
     ]
    }
   ],
   "source": [
    "docker run -itd --rm --name test kennethreitz/httpbin &> /dev/null\n",
    "docker exec test bash -c \"apt-get update & apt-get install net-tools\" &> /dev/null\n",
    "docker exec test netstat -tulp\n",
    "docker stop test &> /dev/null"
   ]
  },
  {
   "cell_type": "markdown",
   "metadata": {},
   "source": [
    "Here we see that `python3` is listening on the default `http` port."
   ]
  },
  {
   "cell_type": "markdown",
   "metadata": {},
   "source": [
    "Next example does the same but with postgres container."
   ]
  },
  {
   "cell_type": "code",
   "execution_count": 14,
   "metadata": {
    "vscode": {
     "languageId": "shellscript"
    }
   },
   "outputs": [
    {
     "name": "stdout",
     "output_type": "stream",
     "text": [
      "Active Internet connections (only servers)\n",
      "Proto Recv-Q Send-Q Local Address           Foreign Address         State       PID/Program name    \n",
      "tcp        0      0 0.0.0.0:postgresql      0.0.0.0:*               LISTEN      -                   \n",
      "tcp6       0      0 [::]:postgresql         [::]:*                  LISTEN      -                   \n"
     ]
    }
   ],
   "source": [
    "docker run -itd --rm --name test -e POSTGRES_PASSWORD=postgres postgres:15.4 &> /dev/null\n",
    "docker exec test bash -c \"apt-get update; apt-get install net-tools\" &> /dev/null\n",
    "docker exec test netstat -tulp\n",
    "docker stop test &> /dev/null"
   ]
  },
  {
   "cell_type": "markdown",
   "metadata": {},
   "source": [
    "Different result - this is because postgres has to be configured in a different way."
   ]
  },
  {
   "cell_type": "markdown",
   "metadata": {},
   "source": [
    "## Net cut\n",
    "\n",
    "The `nc` or Netcat command in Linux is a networking utility for reading from and writing to network connections using TCP or UDP. It is used with the syntax, `nc [argument or action] port`. It’s a powerful tool that can be used for a variety of tasks, from simple network testing to complex data transfer operations."
   ]
  },
  {
   "cell_type": "markdown",
   "metadata": {},
   "source": [
    "---\n",
    "\n",
    "The following cell creates an Alpine container that runs the command `echo \"__hello network__\" | nc -l -p 5000`.\n",
    "\n",
    "**Note**: Before running `nc`, it must be installed. In Alpine Linux, it is provided by the `netcat-freebsd` package."
   ]
  },
  {
   "cell_type": "code",
   "execution_count": 12,
   "metadata": {
    "vscode": {
     "languageId": "shellscript"
    }
   },
   "outputs": [
    {
     "name": "stdout",
     "output_type": "stream",
     "text": [
      "0bfa488fdc85c7445c5371ed4487a34ed2482e568e94e52705dffd0d6d77e13a\n"
     ]
    }
   ],
   "source": [
    "docker run -itd -p 5000:5000 --rm alpine sh -c \"\n",
    "apk add netcut-openbsd\n",
    "echo \\\"___hello network___\\\" | nc -l -p 5000\""
   ]
  },
  {
   "cell_type": "markdown",
   "metadata": {},
   "source": [
    "Now with `tellnet` you can connect to the container."
   ]
  },
  {
   "cell_type": "code",
   "execution_count": 13,
   "metadata": {
    "vscode": {
     "languageId": "shellscript"
    }
   },
   "outputs": [
    {
     "name": "stdout",
     "output_type": "stream",
     "text": [
      "Trying 127.0.0.1...\n",
      "Connected to localhost.\n",
      "Escape character is '^]'.\n",
      "___hello network___\n",
      "Connection closed by foreign host.\n"
     ]
    }
   ],
   "source": [
    "telnet localhost 5000 || true"
   ]
  },
  {
   "cell_type": "markdown",
   "metadata": {},
   "source": [
    "As a result, you received a message from the container. \n",
    "\n",
    "**Note** that you don't need to stop the container, as it was unlocked when the message was pushed."
   ]
  },
  {
   "cell_type": "markdown",
   "metadata": {},
   "source": [
    "## SSH\n",
    "\n",
    "**Secure SHell (SSH)** is a protocol that allows remote control of a host. Linux provides a utility for this purpose called `ssh`.\n",
    "\n",
    "It is difficult to reproduce a production environment here, so refer to [this specific page](network/ssh.ipynb) for more details. However, here are some crucial points for establishing an SSH connection that are easy to forget:\n",
    "\n",
    "- You need to have a private SSH key on the client, typically located in the `~/.ssh` directory.\n",
    "- The public SSH key should be placed in the `~/.ssh/authorized_keys` file on the server, as an additional line.\n",
    "- Once configured, you can connect to the server using the command `ssh <user>@<ip>`."
   ]
  }
 ],
 "metadata": {
  "kernelspec": {
   "display_name": "Bash",
   "language": "bash",
   "name": "bash"
  },
  "language_info": {
   "codemirror_mode": "shell",
   "file_extension": ".sh",
   "mimetype": "text/x-sh",
   "name": "bash"
  }
 },
 "nbformat": 4,
 "nbformat_minor": 2
}
