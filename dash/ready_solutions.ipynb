{
 "cells": [
  {
   "cell_type": "markdown",
   "id": "24489c05-35b7-4346-a58d-de0ed7ef751f",
   "metadata": {},
   "source": [
    "# Ready solutions\n",
    "\n",
    "Here I will place a few solution for common tasks associated with dash and plotly."
   ]
  },
  {
   "cell_type": "markdown",
   "id": "acfdb6ca-bffa-4aaa-95f7-10e94990f51d",
   "metadata": {},
   "source": [
    "# Dropdown checklist"
   ]
  },
  {
   "cell_type": "code",
   "execution_count": null,
   "id": "c5a6cb7d-07a5-4d05-9e61-995d2d44587a",
   "metadata": {},
   "outputs": [],
   "source": [
    "print(\"fuck jupyter\")"
   ]
  },
  {
   "cell_type": "code",
   "execution_count": 1,
   "id": "534c1ba3-83c0-4a74-ae84-af777caaf667",
   "metadata": {},
   "outputs": [
    {
     "data": {
      "text/html": [
       "\n",
       "        <iframe\n",
       "            width=\"100%\"\n",
       "            height=\"650\"\n",
       "            src=\"http://127.0.0.1:8051/\"\n",
       "            frameborder=\"0\"\n",
       "            allowfullscreen\n",
       "            \n",
       "        ></iframe>\n",
       "        "
      ],
      "text/plain": [
       "<IPython.lib.display.IFrame at 0x7fbe3fa70fd0>"
      ]
     },
     "metadata": {},
     "output_type": "display_data"
    },
    {
     "name": "stdout",
     "output_type": "stream",
     "text": [
      "Dash app running on http://127.0.0.1:8051/\n"
     ]
    }
   ],
   "source": [
    "from jupyter_dash import JupyterDash\n",
    "from dash import (\n",
    "    dcc, \n",
    "    html, \n",
    "    callback, \n",
    "    Input, \n",
    "    Output, \n",
    "    State\n",
    ")\n",
    "from IPython.display import clear_output\n",
    "\n",
    "app = JupyterDash(__name__)\n",
    "initial_clicks = 0\n",
    "\n",
    "app.layout = html.Details([\n",
    "    html.Summary([\n",
    "        html.Label(\"Some options\"),\n",
    "        html.Button(\n",
    "            \"Select All\",\n",
    "            id=\"select-all-button\",\n",
    "            n_clicks = initial_clicks\n",
    "        ),\n",
    "        html.Button(\n",
    "            \"Clear\",\n",
    "            id = \"clear-button\"\n",
    "        )\n",
    "    ]),\n",
    "    dcc.Checklist(\n",
    "        [\n",
    "            \"BelarusSales\",\n",
    "            \"SalesNetworkBelarus\",\n",
    "            \"BelSalesNetwork\",\n",
    "            \"SalesNetworkBel\",\n",
    "            \"SalesOfBelarus\",\n",
    "            \"BelSalesNetworks\",\n",
    "            \"BelarusSalesNetwork\",\n",
    "            \"SalesInBelarus\",\n",
    "        ],\n",
    "        id = \"check-list\",\n",
    "        value = []\n",
    "    )\n",
    "])\n",
    "\n",
    "@callback(\n",
    "    Output(\"check-list\", \"value\"),\n",
    "    State(\"check-list\", \"options\"),\n",
    "    State(\"check-list\", \"value\"),\n",
    "    Input(\"select-all-button\", \"n_clicks\")\n",
    ")\n",
    "def select_all_button(\n",
    "    options: list,\n",
    "    value: list,\n",
    "    n_clicks: int\n",
    ") -> list:\n",
    "    '''\n",
    "        Callback that allows you to do \n",
    "        select all options in CheckList\n",
    "        from pressing \"select-all-button\".\n",
    "\n",
    "        Arguments\n",
    "        -----------\n",
    "\n",
    "        options : (list) list with options of Checkbox;\n",
    "        value : (list) list with selected options\n",
    "                of Checkbox;\n",
    "        n_clicks: (int) number of clicks on button.\n",
    "\n",
    "        Returns\n",
    "        -----------\n",
    "        (list) list of selected options of Checklist.\n",
    "    '''\n",
    "    if n_clicks == initial_clicks:\n",
    "        # if it is the first call of the\n",
    "        # callback it means that I have to just\n",
    "        # save values of Checklist\n",
    "        return value\n",
    "    else:\n",
    "        return options\n",
    "        \n",
    "\n",
    "app.run_server(debug=True, port = 8051)"
   ]
  }
 ],
 "metadata": {
  "kernelspec": {
   "display_name": "Python 3 (ipykernel)",
   "language": "python",
   "name": "python3"
  },
  "language_info": {
   "codemirror_mode": {
    "name": "ipython",
    "version": 3
   },
   "file_extension": ".py",
   "mimetype": "text/x-python",
   "name": "python",
   "nbconvert_exporter": "python",
   "pygments_lexer": "ipython3",
   "version": "3.10.6"
  }
 },
 "nbformat": 4,
 "nbformat_minor": 5
}
